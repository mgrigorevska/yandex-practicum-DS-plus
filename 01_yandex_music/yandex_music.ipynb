{
 "cells": [
  {
   "cell_type": "markdown",
   "metadata": {
    "id": "E0vqbgi9ay0H"
   },
   "source": [
    "# Яндекс.Музыка"
   ]
  },
  {
   "cell_type": "markdown",
   "metadata": {
    "id": "VUC88oWjTJw2"
   },
   "source": [
    "Сравнение Москвы и Петербурга окружено мифами. Например:\n",
    " * Москва — мегаполис, подчинённый жёсткому ритму рабочей недели;\n",
    " * Петербург — культурная столица, со своими вкусами.\n",
    "\n",
    "На данных Яндекс.Музыки вы сравните поведение пользователей двух столиц.\n",
    "\n",
    "**Цель исследования** — проверьте три гипотезы:\n",
    "1. Активность пользователей зависит от дня недели. Причём в Москве и Петербурге это проявляется по-разному.\n",
    "2. В понедельник утром в Москве преобладают одни жанры, а в Петербурге — другие. Так же и вечером пятницы преобладают разные жанры — в зависимости от города. \n",
    "3. Москва и Петербург предпочитают разные жанры музыки. В Москве чаще слушают поп-музыку, в Петербурге — русский рэп.\n",
    "\n",
    "**Ход исследования**\n",
    "\n",
    "Данные о поведении пользователей вы получите из файла `yandex_music_project.csv`. О качестве данных ничего не известно. Поэтому перед проверкой гипотез понадобится обзор данных. \n",
    "\n",
    "Вы проверите данные на ошибки и оцените их влияние на исследование. Затем, на этапе предобработки вы поищете возможность исправить самые критичные ошибки данных.\n",
    " \n",
    "Таким образом, исследование пройдёт в три этапа:\n",
    " 1. Обзор данных.\n",
    " 2. Предобработка данных.\n",
    " 3. Проверка гипотез.\n",
    "\n"
   ]
  },
  {
   "cell_type": "markdown",
   "metadata": {
    "id": "Ml1hmfXC_Zcs"
   },
   "source": [
    "## Обзор данных\n",
    "\n",
    "Составьте первое представление о данных Яндекс.Музыки.\n",
    "\n",
    "\n"
   ]
  },
  {
   "cell_type": "markdown",
   "metadata": {
    "id": "57eAOGIz_Zcs"
   },
   "source": [
    "Основной инструмент аналитика — `pandas`. Импортируйте эту библиотеку."
   ]
  },
  {
   "cell_type": "code",
   "execution_count": 1,
   "metadata": {
    "id": "AXN7PHPN_Zcs"
   },
   "outputs": [],
   "source": [
    "import pandas as pd # импорт библиотеки pandas"
   ]
  },
  {
   "cell_type": "markdown",
   "metadata": {
    "id": "SG23P8tt_Zcs"
   },
   "source": [
    "Прочитайте файл `yandex_music_project.csv` из папки `/datasets` и сохраните его в переменной `df`:"
   ]
  },
  {
   "cell_type": "code",
   "execution_count": 2,
   "metadata": {
    "id": "fFVu7vqh_Zct"
   },
   "outputs": [],
   "source": [
    "df = pd.read_csv('***') # чтение файла с данными и сохранение в df"
   ]
  },
  {
   "cell_type": "markdown",
   "metadata": {
    "id": "rDoOMd3uTqnZ"
   },
   "source": [
    "Выведите на экран первые десять строк таблицы:"
   ]
  },
  {
   "cell_type": "code",
   "execution_count": 3,
   "metadata": {
    "id": "oWTVX3gW_Zct"
   },
   "outputs": [
    {
     "data": {
      "text/html": [
       "<div>\n",
       "<style scoped>\n",
       "    .dataframe tbody tr th:only-of-type {\n",
       "        vertical-align: middle;\n",
       "    }\n",
       "\n",
       "    .dataframe tbody tr th {\n",
       "        vertical-align: top;\n",
       "    }\n",
       "\n",
       "    .dataframe thead th {\n",
       "        text-align: right;\n",
       "    }\n",
       "</style>\n",
       "<table border=\"1\" class=\"dataframe\">\n",
       "  <thead>\n",
       "    <tr style=\"text-align: right;\">\n",
       "      <th></th>\n",
       "      <th>userID</th>\n",
       "      <th>Track</th>\n",
       "      <th>artist</th>\n",
       "      <th>genre</th>\n",
       "      <th>City</th>\n",
       "      <th>time</th>\n",
       "      <th>Day</th>\n",
       "    </tr>\n",
       "  </thead>\n",
       "  <tbody>\n",
       "    <tr>\n",
       "      <td>0</td>\n",
       "      <td>FFB692EC</td>\n",
       "      <td>Kamigata To Boots</td>\n",
       "      <td>The Mass Missile</td>\n",
       "      <td>rock</td>\n",
       "      <td>Saint-Petersburg</td>\n",
       "      <td>20:28:33</td>\n",
       "      <td>Wednesday</td>\n",
       "    </tr>\n",
       "    <tr>\n",
       "      <td>1</td>\n",
       "      <td>55204538</td>\n",
       "      <td>Delayed Because of Accident</td>\n",
       "      <td>Andreas Rönnberg</td>\n",
       "      <td>rock</td>\n",
       "      <td>Moscow</td>\n",
       "      <td>14:07:09</td>\n",
       "      <td>Friday</td>\n",
       "    </tr>\n",
       "    <tr>\n",
       "      <td>2</td>\n",
       "      <td>20EC38</td>\n",
       "      <td>Funiculì funiculà</td>\n",
       "      <td>Mario Lanza</td>\n",
       "      <td>pop</td>\n",
       "      <td>Saint-Petersburg</td>\n",
       "      <td>20:58:07</td>\n",
       "      <td>Wednesday</td>\n",
       "    </tr>\n",
       "    <tr>\n",
       "      <td>3</td>\n",
       "      <td>A3DD03C9</td>\n",
       "      <td>Dragons in the Sunset</td>\n",
       "      <td>Fire + Ice</td>\n",
       "      <td>folk</td>\n",
       "      <td>Saint-Petersburg</td>\n",
       "      <td>08:37:09</td>\n",
       "      <td>Monday</td>\n",
       "    </tr>\n",
       "    <tr>\n",
       "      <td>4</td>\n",
       "      <td>E2DC1FAE</td>\n",
       "      <td>Soul People</td>\n",
       "      <td>Space Echo</td>\n",
       "      <td>dance</td>\n",
       "      <td>Moscow</td>\n",
       "      <td>08:34:34</td>\n",
       "      <td>Monday</td>\n",
       "    </tr>\n",
       "    <tr>\n",
       "      <td>5</td>\n",
       "      <td>842029A1</td>\n",
       "      <td>Преданная</td>\n",
       "      <td>IMPERVTOR</td>\n",
       "      <td>rusrap</td>\n",
       "      <td>Saint-Petersburg</td>\n",
       "      <td>13:09:41</td>\n",
       "      <td>Friday</td>\n",
       "    </tr>\n",
       "    <tr>\n",
       "      <td>6</td>\n",
       "      <td>4CB90AA5</td>\n",
       "      <td>True</td>\n",
       "      <td>Roman Messer</td>\n",
       "      <td>dance</td>\n",
       "      <td>Moscow</td>\n",
       "      <td>13:00:07</td>\n",
       "      <td>Wednesday</td>\n",
       "    </tr>\n",
       "    <tr>\n",
       "      <td>7</td>\n",
       "      <td>F03E1C1F</td>\n",
       "      <td>Feeling This Way</td>\n",
       "      <td>Polina Griffith</td>\n",
       "      <td>dance</td>\n",
       "      <td>Moscow</td>\n",
       "      <td>20:47:49</td>\n",
       "      <td>Wednesday</td>\n",
       "    </tr>\n",
       "    <tr>\n",
       "      <td>8</td>\n",
       "      <td>8FA1D3BE</td>\n",
       "      <td>И вновь продолжается бой</td>\n",
       "      <td>NaN</td>\n",
       "      <td>ruspop</td>\n",
       "      <td>Moscow</td>\n",
       "      <td>09:17:40</td>\n",
       "      <td>Friday</td>\n",
       "    </tr>\n",
       "    <tr>\n",
       "      <td>9</td>\n",
       "      <td>E772D5C0</td>\n",
       "      <td>Pessimist</td>\n",
       "      <td>NaN</td>\n",
       "      <td>dance</td>\n",
       "      <td>Saint-Petersburg</td>\n",
       "      <td>21:20:49</td>\n",
       "      <td>Wednesday</td>\n",
       "    </tr>\n",
       "  </tbody>\n",
       "</table>\n",
       "</div>"
      ],
      "text/plain": [
       "     userID                        Track            artist   genre  \\\n",
       "0  FFB692EC            Kamigata To Boots  The Mass Missile    rock   \n",
       "1  55204538  Delayed Because of Accident  Andreas Rönnberg    rock   \n",
       "2    20EC38            Funiculì funiculà       Mario Lanza     pop   \n",
       "3  A3DD03C9        Dragons in the Sunset        Fire + Ice    folk   \n",
       "4  E2DC1FAE                  Soul People        Space Echo   dance   \n",
       "5  842029A1                    Преданная         IMPERVTOR  rusrap   \n",
       "6  4CB90AA5                         True      Roman Messer   dance   \n",
       "7  F03E1C1F             Feeling This Way   Polina Griffith   dance   \n",
       "8  8FA1D3BE     И вновь продолжается бой               NaN  ruspop   \n",
       "9  E772D5C0                    Pessimist               NaN   dance   \n",
       "\n",
       "             City        time        Day  \n",
       "0  Saint-Petersburg  20:28:33  Wednesday  \n",
       "1            Moscow  14:07:09     Friday  \n",
       "2  Saint-Petersburg  20:58:07  Wednesday  \n",
       "3  Saint-Petersburg  08:37:09     Monday  \n",
       "4            Moscow  08:34:34     Monday  \n",
       "5  Saint-Petersburg  13:09:41     Friday  \n",
       "6            Moscow  13:00:07  Wednesday  \n",
       "7            Moscow  20:47:49  Wednesday  \n",
       "8            Moscow  09:17:40     Friday  \n",
       "9  Saint-Petersburg  21:20:49  Wednesday  "
      ]
     },
     "execution_count": 3,
     "metadata": {},
     "output_type": "execute_result"
    }
   ],
   "source": [
    "df.head(10) # получение первых 10 строк таблицы df"
   ]
  },
  {
   "cell_type": "markdown",
   "metadata": {
    "id": "EO73Kwic_Zct"
   },
   "source": [
    "Одной командой получить общую информацию о таблице:"
   ]
  },
  {
   "cell_type": "code",
   "execution_count": 4,
   "metadata": {
    "id": "DSf2kIb-_Zct"
   },
   "outputs": [
    {
     "name": "stdout",
     "output_type": "stream",
     "text": [
      "<class 'pandas.core.frame.DataFrame'>\n",
      "RangeIndex: 65079 entries, 0 to 65078\n",
      "Data columns (total 7 columns):\n",
      "  userID    65079 non-null object\n",
      "Track       63848 non-null object\n",
      "artist      57876 non-null object\n",
      "genre       63881 non-null object\n",
      "  City      65079 non-null object\n",
      "time        65079 non-null object\n",
      "Day         65079 non-null object\n",
      "dtypes: object(7)\n",
      "memory usage: 3.5+ MB\n"
     ]
    }
   ],
   "source": [
    "df.info()# получение общей информации о данных в таблице df"
   ]
  },
  {
   "cell_type": "markdown",
   "metadata": {
    "id": "TaQ2Iwbr_Zct"
   },
   "source": [
    "Итак, в таблице семь столбцов. Тип данных во всех столбцах — `object`.\n",
    "\n",
    "Согласно документации к данным:\n",
    "* `userID` — идентификатор пользователя;\n",
    "* `Track` — название трека;  \n",
    "* `artist` — имя исполнителя;\n",
    "* `genre` — название жанра;\n",
    "* `City` — город пользователя;\n",
    "* `time` — время начала прослушивания;\n",
    "* `Day` — день недели.\n",
    "\n",
    "В названиях колонок видны три нарушения стиля:\n",
    "1. Строчные буквы сочетаются с прописными.\n",
    "2. Встречаются пробелы.\n",
    "3. Слова в названиях написаны слитно.\n",
    "\n",
    "\n",
    "\n",
    "Количество значений в столбцах различается. Значит, в данных есть пропущенные значения.\n"
   ]
  },
  {
   "cell_type": "markdown",
   "metadata": {
    "id": "MCB6-dXG_Zct"
   },
   "source": [
    "**Выводы**\n",
    "\n",
    "В каждой строке таблицы — данные о прослушанном треке. Часть колонок описывает саму композицию: название, исполнителя и жанр. Остальные данные рассказывают о пользователе: из какого он города, когда он слушал музыку. \n",
    "\n",
    "Предварительно можно утверждать, что, данных достаточно для проверки гипотез. Но встречаются пропуски в данных, а в названиях колонок — расхождения с хорошим стилем.\n",
    "\n",
    "Чтобы двигаться дальше, нужно устранить проблемы в данных."
   ]
  },
  {
   "cell_type": "markdown",
   "metadata": {
    "id": "SjYF6Ub9_Zct"
   },
   "source": [
    "## Предобработка данных\n",
    "Исправьте стиль в заголовках столбцов, исключите пропуски. Затем проверьте данные на дубликаты."
   ]
  },
  {
   "cell_type": "markdown",
   "metadata": {
    "id": "dIaKXr29_Zct"
   },
   "source": [
    "### Стиль заголовков\n",
    "Выведите на экран названия столбцов:"
   ]
  },
  {
   "cell_type": "code",
   "execution_count": 5,
   "metadata": {
    "id": "oKOTdF_Q_Zct"
   },
   "outputs": [
    {
     "data": {
      "text/plain": [
       "Index(['  userID', 'Track', 'artist', 'genre', '  City  ', 'time', 'Day'], dtype='object')"
      ]
     },
     "execution_count": 5,
     "metadata": {},
     "output_type": "execute_result"
    }
   ],
   "source": [
    "df.columns # перечень названий столбцов таблицы df"
   ]
  },
  {
   "cell_type": "markdown",
   "metadata": {
    "id": "zj5534cv_Zct"
   },
   "source": [
    "Приведите названия в соответствие с хорошим стилем:\n",
    "* несколько слов в названии запишите в «змеином_регистре»,\n",
    "* все символы сделайте строчными,\n",
    "* устраните пробелы.\n",
    "\n",
    "Для этого переименуйте колонки так:\n",
    "* `'  userID'` → `'user_id'`;\n",
    "* `'Track'` → `'track'`;\n",
    "* `'  City  '` → `'city'`;\n",
    "* `'Day'` → `'day'`."
   ]
  },
  {
   "cell_type": "code",
   "execution_count": 6,
   "metadata": {
    "id": "ISlFqs5y_Zct"
   },
   "outputs": [],
   "source": [
    "df = df.rename(columns={'  userID': 'user_id', 'Track': 'track', '  City  ': 'city', 'Day': 'day'})  # переименование столбцов"
   ]
  },
  {
   "cell_type": "markdown",
   "metadata": {
    "id": "1dqbh00J_Zct"
   },
   "source": [
    "Проверьте результат. Для этого ещё раз выведите на экран названия столбцов:"
   ]
  },
  {
   "cell_type": "code",
   "execution_count": 7,
   "metadata": {
    "id": "d4NOAmTW_Zct"
   },
   "outputs": [
    {
     "data": {
      "text/plain": [
       "Index(['user_id', 'track', 'artist', 'genre', 'city', 'time', 'day'], dtype='object')"
      ]
     },
     "execution_count": 7,
     "metadata": {},
     "output_type": "execute_result"
    }
   ],
   "source": [
    "df.columns # проверка результатов - перечень названий столбцов"
   ]
  },
  {
   "cell_type": "markdown",
   "metadata": {
    "id": "5ISfbcfY_Zct"
   },
   "source": [
    "### Пропуски значений\n",
    "Сначала посчитайте, сколько в таблице пропущенных значений. Для этого достаточно двух методов `pandas`:"
   ]
  },
  {
   "cell_type": "code",
   "execution_count": 8,
   "metadata": {
    "id": "RskX29qr_Zct"
   },
   "outputs": [
    {
     "data": {
      "text/plain": [
       "user_id       0\n",
       "track      1231\n",
       "artist     7203\n",
       "genre      1198\n",
       "city          0\n",
       "time          0\n",
       "day           0\n",
       "dtype: int64"
      ]
     },
     "execution_count": 8,
     "metadata": {},
     "output_type": "execute_result"
    }
   ],
   "source": [
    "df.isna().sum() # подсчёт пропусков"
   ]
  },
  {
   "cell_type": "markdown",
   "metadata": {
    "id": "qubhgnlO_Zct"
   },
   "source": [
    "Не все пропущенные значения влияют на исследование. Так в `track` и `artist` пропуски не важны для вашей работы. Достаточно заменить их явными обозначениями.\n",
    "\n",
    "Но пропуски в `genre` могут помешать сравнению музыкальных вкусов в Москве и Санкт-Петербурге. На практике было бы правильно установить причину пропусков и восстановить данные. Такой возможности нет в учебном проекте. Придётся:\n",
    "* заполнить и эти пропуски явными обозначениями,\n",
    "* оценить, насколько они повредят расчётам. "
   ]
  },
  {
   "cell_type": "markdown",
   "metadata": {
    "id": "fSv2laPA_Zct"
   },
   "source": [
    "Замените пропущенные значения в столбцах `track`, `artist` и `genre` на строку `'unknown'`. Для этого создайте список `columns_to_replace`, переберите его элементы циклом `for` и для каждого столбца выполните замену пропущенных значений:"
   ]
  },
  {
   "cell_type": "code",
   "execution_count": 9,
   "metadata": {
    "id": "KplB5qWs_Zct"
   },
   "outputs": [],
   "source": [
    "columns_to_replace = ['track', 'artist', 'genre'] # перебор названий столбцов в цикле и замена пропущенных значений на 'unknown'\n",
    "for column in columns_to_replace:\n",
    "    df[column] = df[column].fillna('unknown')"
   ]
  },
  {
   "cell_type": "markdown",
   "metadata": {
    "id": "Ilsm-MZo_Zct"
   },
   "source": [
    "Убедитесь, что в таблице не осталось пропусков. Для этого ещё раз посчитайте пропущенные значения."
   ]
  },
  {
   "cell_type": "code",
   "execution_count": 10,
   "metadata": {
    "id": "Tq4nYRX4_Zct"
   },
   "outputs": [
    {
     "data": {
      "text/plain": [
       "user_id    0\n",
       "track      0\n",
       "artist     0\n",
       "genre      0\n",
       "city       0\n",
       "time       0\n",
       "day        0\n",
       "dtype: int64"
      ]
     },
     "execution_count": 10,
     "metadata": {},
     "output_type": "execute_result"
    }
   ],
   "source": [
    "df.isna().sum() # подсчёт пропусков"
   ]
  },
  {
   "cell_type": "markdown",
   "metadata": {
    "id": "BWKRtBJ3_Zct"
   },
   "source": [
    "### Дубликаты\n",
    "Посчитайте явные дубликаты в таблице одной командой:"
   ]
  },
  {
   "cell_type": "code",
   "execution_count": 11,
   "metadata": {
    "id": "36eES_S0_Zct"
   },
   "outputs": [
    {
     "data": {
      "text/plain": [
       "3826"
      ]
     },
     "execution_count": 11,
     "metadata": {},
     "output_type": "execute_result"
    }
   ],
   "source": [
    "df.duplicated().sum()  # подсчёт явных дубликатов"
   ]
  },
  {
   "cell_type": "markdown",
   "metadata": {
    "id": "Ot25h6XR_Zct"
   },
   "source": [
    "Вызовите специальный метод `pandas`, чтобы удалить явные дубликаты:"
   ]
  },
  {
   "cell_type": "code",
   "execution_count": 12,
   "metadata": {
    "id": "exFHq6tt_Zct"
   },
   "outputs": [],
   "source": [
    "df = df.drop_duplicates().reset_index(drop=True) # удаление явных дубликатов (с удалением старых индексов и формированием новых)"
   ]
  },
  {
   "cell_type": "markdown",
   "metadata": {
    "id": "Im2YwBEG_Zct"
   },
   "source": [
    "Ещё раз посчитайте явные дубликаты в таблице — убедитесь, что полностью от них избавились:"
   ]
  },
  {
   "cell_type": "code",
   "execution_count": 13,
   "metadata": {
    "id": "-8PuNWQ0_Zct"
   },
   "outputs": [
    {
     "data": {
      "text/plain": [
       "0"
      ]
     },
     "execution_count": 13,
     "metadata": {},
     "output_type": "execute_result"
    }
   ],
   "source": [
    "df.duplicated().sum() # проверка на отсутствие дубликатов"
   ]
  },
  {
   "cell_type": "markdown",
   "metadata": {
    "id": "QlFBsxAr_Zct"
   },
   "source": [
    "Теперь избавьтесь от неявных дубликатов в колонке `genre`. Например, название одного и того же жанра может быть записано немного по-разному. Такие ошибки тоже повлияют на результат исследования."
   ]
  },
  {
   "cell_type": "markdown",
   "metadata": {
    "id": "eSjWwsOh_Zct"
   },
   "source": [
    "Выведите на экран список уникальных названий жанров, отсортированный в алфавитном порядке. Для этого:\n",
    "* извлеките нужный столбец датафрейма, \n",
    "* примените к нему метод сортировки,\n",
    "* для отсортированного столбца вызовите метод, который вернёт уникальные значения из столбца."
   ]
  },
  {
   "cell_type": "code",
   "execution_count": 14,
   "metadata": {
    "id": "JIUcqzZN_Zct"
   },
   "outputs": [
    {
     "data": {
      "text/plain": [
       "array(['acid', 'acoustic', 'action', 'adult', 'africa', 'afrikaans',\n",
       "       'alternative', 'alternativepunk', 'ambient', 'americana',\n",
       "       'animated', 'anime', 'arabesk', 'arabic', 'arena',\n",
       "       'argentinetango', 'art', 'audiobook', 'author', 'avantgarde',\n",
       "       'axé', 'baile', 'balkan', 'beats', 'bigroom', 'black', 'bluegrass',\n",
       "       'blues', 'bollywood', 'bossa', 'brazilian', 'breakbeat', 'breaks',\n",
       "       'broadway', 'cantautori', 'cantopop', 'canzone', 'caribbean',\n",
       "       'caucasian', 'celtic', 'chamber', 'chanson', 'children', 'chill',\n",
       "       'chinese', 'choral', 'christian', 'christmas', 'classical',\n",
       "       'classicmetal', 'club', 'colombian', 'comedy', 'conjazz',\n",
       "       'contemporary', 'country', 'cuban', 'dance', 'dancehall',\n",
       "       'dancepop', 'dark', 'death', 'deep', 'deutschrock', 'deutschspr',\n",
       "       'dirty', 'disco', 'dnb', 'documentary', 'downbeat', 'downtempo',\n",
       "       'drum', 'dub', 'dubstep', 'eastern', 'easy', 'electronic',\n",
       "       'electropop', 'emo', 'entehno', 'epicmetal', 'estrada', 'ethnic',\n",
       "       'eurofolk', 'european', 'experimental', 'extrememetal', 'fado',\n",
       "       'fairytail', 'film', 'fitness', 'flamenco', 'folk', 'folklore',\n",
       "       'folkmetal', 'folkrock', 'folktronica', 'forró', 'frankreich',\n",
       "       'französisch', 'french', 'funk', 'future', 'gangsta', 'garage',\n",
       "       'german', 'ghazal', 'gitarre', 'glitch', 'gospel', 'gothic',\n",
       "       'grime', 'grunge', 'gypsy', 'handsup', \"hard'n'heavy\", 'hardcore',\n",
       "       'hardstyle', 'hardtechno', 'hip', 'hip-hop', 'hiphop',\n",
       "       'historisch', 'holiday', 'hop', 'horror', 'house', 'hymn', 'idm',\n",
       "       'independent', 'indian', 'indie', 'indipop', 'industrial',\n",
       "       'inspirational', 'instrumental', 'international', 'irish', 'jam',\n",
       "       'japanese', 'jazz', 'jewish', 'jpop', 'jungle', 'k-pop',\n",
       "       'karadeniz', 'karaoke', 'kayokyoku', 'korean', 'laiko', 'latin',\n",
       "       'latino', 'leftfield', 'local', 'lounge', 'loungeelectronic',\n",
       "       'lovers', 'malaysian', 'mandopop', 'marschmusik', 'meditative',\n",
       "       'mediterranean', 'melodic', 'metal', 'metalcore', 'mexican',\n",
       "       'middle', 'minimal', 'miscellaneous', 'modern', 'mood', 'mpb',\n",
       "       'muslim', 'native', 'neoklassik', 'neue', 'new', 'newage',\n",
       "       'newwave', 'nu', 'nujazz', 'numetal', 'oceania', 'old', 'opera',\n",
       "       'orchestral', 'other', 'piano', 'podcasts', 'pop', 'popdance',\n",
       "       'popelectronic', 'popeurodance', 'poprussian', 'post',\n",
       "       'posthardcore', 'postrock', 'power', 'progmetal', 'progressive',\n",
       "       'psychedelic', 'punjabi', 'punk', 'quebecois', 'ragga', 'ram',\n",
       "       'rancheras', 'rap', 'rave', 'reggae', 'reggaeton', 'regional',\n",
       "       'relax', 'religious', 'retro', 'rhythm', 'rnb', 'rnr', 'rock',\n",
       "       'rockabilly', 'rockalternative', 'rockindie', 'rockother',\n",
       "       'romance', 'roots', 'ruspop', 'rusrap', 'rusrock', 'russian',\n",
       "       'salsa', 'samba', 'scenic', 'schlager', 'self', 'sertanejo',\n",
       "       'shanson', 'shoegazing', 'showtunes', 'singer', 'ska', 'skarock',\n",
       "       'slow', 'smooth', 'soft', 'soul', 'soulful', 'sound', 'soundtrack',\n",
       "       'southern', 'specialty', 'speech', 'spiritual', 'sport',\n",
       "       'stonerrock', 'surf', 'swing', 'synthpop', 'synthrock',\n",
       "       'sängerportrait', 'tango', 'tanzorchester', 'taraftar', 'tatar',\n",
       "       'tech', 'techno', 'teen', 'thrash', 'top', 'traditional',\n",
       "       'tradjazz', 'trance', 'tribal', 'trip', 'triphop', 'tropical',\n",
       "       'türk', 'türkçe', 'ukrrock', 'unknown', 'urban', 'uzbek',\n",
       "       'variété', 'vi', 'videogame', 'vocal', 'western', 'world',\n",
       "       'worldbeat', 'ïîï', 'электроника'], dtype=object)"
      ]
     },
     "execution_count": 14,
     "metadata": {},
     "output_type": "execute_result"
    }
   ],
   "source": [
    "df['genre'].sort_values().unique() # Просмотр уникальных названий жанров"
   ]
  },
  {
   "cell_type": "markdown",
   "metadata": {
    "id": "qej-Qmuo_Zct"
   },
   "source": [
    "Просмотрите список и найдите неявные дубликаты названия `hiphop`. Это могут быть названия с ошибками или альтернативные названия того же жанра.\n",
    "\n",
    "Вы увидите следующие неявные дубликаты:\n",
    "* *hip*,\n",
    "* *hop*,\n",
    "* *hip-hop*.\n",
    "\n",
    "Чтобы очистить от них таблицу, напишите функцию `replace_wrong_genres()` с двумя параметрами: \n",
    "* `wrong_genres` — список дубликатов,\n",
    "* `correct_genre` — строка с правильным значением.\n",
    "\n",
    "Функция должна исправить колонку `genre` в таблице `df`: заменить каждое значение из списка `wrong_genres` на значение из `correct_genre`."
   ]
  },
  {
   "cell_type": "code",
   "execution_count": 15,
   "metadata": {
    "id": "ErNDkmns_Zct"
   },
   "outputs": [],
   "source": [
    "def replace_wrong_genres(wrong_genres, correct_genre): # Функция для замены неявных дубликатов\n",
    "    for wrong_genre in wrong_genres:\n",
    "        df['genre'] = df['genre'].replace(wrong_genre, correct_genre)"
   ]
  },
  {
   "cell_type": "markdown",
   "metadata": {
    "id": "aDoBJxbA_Zct"
   },
   "source": [
    "Вызовите `replace_wrong_genres()` и передайте ей такие аргументы, чтобы она устранила неявные дубликаты: вместо `hip`, `hop` и `hip-hop` в таблице должно быть значение `hiphop`:"
   ]
  },
  {
   "cell_type": "code",
   "execution_count": 16,
   "metadata": {
    "id": "YN5i2hpmSo09"
   },
   "outputs": [],
   "source": [
    "replace_wrong_genres(['hip', 'hop', 'hip-hop'], 'hiphop') # Устранение неявных дубликатов\n",
    "replace_wrong_genres('электроника', 'electronic')"
   ]
  },
  {
   "cell_type": "markdown",
   "metadata": {
    "id": "zQKF16_RG15m"
   },
   "source": [
    "Проверьте, что заменили неправильные названия:\n",
    "\n",
    "*   hip\n",
    "*   hop\n",
    "*   hip-hop\n",
    "\n",
    "Выведите отсортированный список уникальных значений столбца `genre`:"
   ]
  },
  {
   "cell_type": "code",
   "execution_count": 17,
   "metadata": {
    "id": "wvixALnFG15m"
   },
   "outputs": [
    {
     "data": {
      "text/plain": [
       "array(['acid', 'acoustic', 'action', 'adult', 'africa', 'afrikaans',\n",
       "       'alternative', 'alternativepunk', 'ambient', 'americana',\n",
       "       'animated', 'anime', 'arabesk', 'arabic', 'arena',\n",
       "       'argentinetango', 'art', 'audiobook', 'author', 'avantgarde',\n",
       "       'axé', 'baile', 'balkan', 'beats', 'bigroom', 'black', 'bluegrass',\n",
       "       'blues', 'bollywood', 'bossa', 'brazilian', 'breakbeat', 'breaks',\n",
       "       'broadway', 'cantautori', 'cantopop', 'canzone', 'caribbean',\n",
       "       'caucasian', 'celtic', 'chamber', 'chanson', 'children', 'chill',\n",
       "       'chinese', 'choral', 'christian', 'christmas', 'classical',\n",
       "       'classicmetal', 'club', 'colombian', 'comedy', 'conjazz',\n",
       "       'contemporary', 'country', 'cuban', 'dance', 'dancehall',\n",
       "       'dancepop', 'dark', 'death', 'deep', 'deutschrock', 'deutschspr',\n",
       "       'dirty', 'disco', 'dnb', 'documentary', 'downbeat', 'downtempo',\n",
       "       'drum', 'dub', 'dubstep', 'eastern', 'easy', 'electronic',\n",
       "       'electropop', 'emo', 'entehno', 'epicmetal', 'estrada', 'ethnic',\n",
       "       'eurofolk', 'european', 'experimental', 'extrememetal', 'fado',\n",
       "       'fairytail', 'film', 'fitness', 'flamenco', 'folk', 'folklore',\n",
       "       'folkmetal', 'folkrock', 'folktronica', 'forró', 'frankreich',\n",
       "       'französisch', 'french', 'funk', 'future', 'gangsta', 'garage',\n",
       "       'german', 'ghazal', 'gitarre', 'glitch', 'gospel', 'gothic',\n",
       "       'grime', 'grunge', 'gypsy', 'handsup', \"hard'n'heavy\", 'hardcore',\n",
       "       'hardstyle', 'hardtechno', 'hiphop', 'historisch', 'holiday',\n",
       "       'horror', 'house', 'hymn', 'idm', 'independent', 'indian', 'indie',\n",
       "       'indipop', 'industrial', 'inspirational', 'instrumental',\n",
       "       'international', 'irish', 'jam', 'japanese', 'jazz', 'jewish',\n",
       "       'jpop', 'jungle', 'k-pop', 'karadeniz', 'karaoke', 'kayokyoku',\n",
       "       'korean', 'laiko', 'latin', 'latino', 'leftfield', 'local',\n",
       "       'lounge', 'loungeelectronic', 'lovers', 'malaysian', 'mandopop',\n",
       "       'marschmusik', 'meditative', 'mediterranean', 'melodic', 'metal',\n",
       "       'metalcore', 'mexican', 'middle', 'minimal', 'miscellaneous',\n",
       "       'modern', 'mood', 'mpb', 'muslim', 'native', 'neoklassik', 'neue',\n",
       "       'new', 'newage', 'newwave', 'nu', 'nujazz', 'numetal', 'oceania',\n",
       "       'old', 'opera', 'orchestral', 'other', 'piano', 'podcasts', 'pop',\n",
       "       'popdance', 'popelectronic', 'popeurodance', 'poprussian', 'post',\n",
       "       'posthardcore', 'postrock', 'power', 'progmetal', 'progressive',\n",
       "       'psychedelic', 'punjabi', 'punk', 'quebecois', 'ragga', 'ram',\n",
       "       'rancheras', 'rap', 'rave', 'reggae', 'reggaeton', 'regional',\n",
       "       'relax', 'religious', 'retro', 'rhythm', 'rnb', 'rnr', 'rock',\n",
       "       'rockabilly', 'rockalternative', 'rockindie', 'rockother',\n",
       "       'romance', 'roots', 'ruspop', 'rusrap', 'rusrock', 'russian',\n",
       "       'salsa', 'samba', 'scenic', 'schlager', 'self', 'sertanejo',\n",
       "       'shanson', 'shoegazing', 'showtunes', 'singer', 'ska', 'skarock',\n",
       "       'slow', 'smooth', 'soft', 'soul', 'soulful', 'sound', 'soundtrack',\n",
       "       'southern', 'specialty', 'speech', 'spiritual', 'sport',\n",
       "       'stonerrock', 'surf', 'swing', 'synthpop', 'synthrock',\n",
       "       'sängerportrait', 'tango', 'tanzorchester', 'taraftar', 'tatar',\n",
       "       'tech', 'techno', 'teen', 'thrash', 'top', 'traditional',\n",
       "       'tradjazz', 'trance', 'tribal', 'trip', 'triphop', 'tropical',\n",
       "       'türk', 'türkçe', 'ukrrock', 'unknown', 'urban', 'uzbek',\n",
       "       'variété', 'vi', 'videogame', 'vocal', 'western', 'world',\n",
       "       'worldbeat', 'ïîï', 'электроника'], dtype=object)"
      ]
     },
     "execution_count": 17,
     "metadata": {},
     "output_type": "execute_result"
    }
   ],
   "source": [
    "df['genre'].sort_values().unique()# Проверка на неявные дубликаты"
   ]
  },
  {
   "cell_type": "markdown",
   "metadata": {
    "id": "jz6a9-7HQUDd"
   },
   "source": [
    "**Выводы**\n",
    "\n",
    "Предобработка обнаружила три проблемы в данных:\n",
    "\n",
    "- нарушения в стиле заголовков,\n",
    "- пропущенные значения,\n",
    "- дубликаты — явные и неявные.\n",
    "\n",
    "Вы исправили заголовки, чтобы упростить работу с таблицей. Без дубликатов исследование станет более точным.\n",
    "\n",
    "Пропущенные значения вы заменили на `'unknown'`. Ещё предстоит увидеть, не повредят ли исследованию пропуски в колонке `genre`.\n",
    "\n",
    "Теперь можно перейти к проверке гипотез. "
   ]
  },
  {
   "cell_type": "markdown",
   "metadata": {
    "id": "WttZHXH0SqKk"
   },
   "source": [
    "## Проверка гипотез"
   ]
  },
  {
   "cell_type": "markdown",
   "metadata": {
    "id": "Im936VVi_Zcu"
   },
   "source": [
    "### Сравнение поведения пользователей двух столиц"
   ]
  },
  {
   "cell_type": "markdown",
   "metadata": {
    "id": "nwt_MuaL_Zcu"
   },
   "source": [
    "Первая гипотеза утверждает, что пользователи по-разному слушают музыку в Москве и Санкт-Петербурге. Проверьте это предположение по данным о трёх днях недели — понедельнике, среде и пятнице. Для этого:\n",
    "\n",
    "* Разделите пользователей Москвы и Санкт-Петербурга\n",
    "* Сравните, сколько треков послушала каждая группа пользователей в понедельник, среду и пятницу.\n"
   ]
  },
  {
   "cell_type": "markdown",
   "metadata": {
    "id": "8Dw_YMmT_Zcu"
   },
   "source": [
    "Для тренировки сначала выполните каждый из расчётов по отдельности. \n",
    "\n",
    "Оцените активность пользователей в каждом городе. Сгруппируйте данные по городу и посчитайте прослушивания в каждой группе.\n",
    "\n"
   ]
  },
  {
   "cell_type": "code",
   "execution_count": 18,
   "metadata": {
    "id": "0_Qs96oh_Zcu"
   },
   "outputs": [
    {
     "name": "stdout",
     "output_type": "stream",
     "text": [
      "Число прослушиваний в Москве:     -  42741 \n",
      "Число прослушиваний в Петербурге: -  18512\n"
     ]
    }
   ],
   "source": [
    "df.groupby('city').count()\n",
    "moscow_listens_count  = df[df['city'] == 'Moscow']['user_id'].count()\n",
    "saintp_listens_count = df[df['city'] == 'Saint-Petersburg']['user_id'].count() # Подсчёт прослушиваний в каждом городе\n",
    "print('Число прослушиваний в Москве:     - ', moscow_listens_count, '\\nЧисло прослушиваний в Петербурге: - ', saintp_listens_count)\n"
   ]
  },
  {
   "cell_type": "markdown",
   "metadata": {
    "id": "dzli3w8o_Zcu"
   },
   "source": [
    "В Москве прослушиваний больше, чем в Петербурге. Из этого не следует, что московские пользователи чаще слушают музыку. Просто самих пользователей в Москве больше.\n",
    "\n",
    "Теперь сгруппируйте данные по дню недели и подсчитайте прослушивания в понедельник, среду и пятницу. Учтите, что в данных есть информация только о прослушиваниях только за эти дни.\n"
   ]
  },
  {
   "cell_type": "code",
   "execution_count": 19,
   "metadata": {
    "id": "uZMKjiJz_Zcu"
   },
   "outputs": [
    {
     "data": {
      "text/plain": [
       "day\n",
       "Friday       21840\n",
       "Monday       21354\n",
       "Wednesday    18059\n",
       "Name: city, dtype: int64"
      ]
     },
     "execution_count": 19,
     "metadata": {},
     "output_type": "execute_result"
    }
   ],
   "source": [
    "df.groupby('day')['city'].count()  # Подсчёт прослушиваний в каждый из трёх дней"
   ]
  },
  {
   "cell_type": "markdown",
   "metadata": {
    "id": "cC2tNrlL_Zcu"
   },
   "source": [
    "В среднем пользователи из двух городов менее активны по средам. Но картина может измениться, если рассмотреть каждый город в отдельности."
   ]
  },
  {
   "cell_type": "markdown",
   "metadata": {
    "id": "POzs8bGa_Zcu"
   },
   "source": [
    "Вы видели, как работает группировка по городу и по дням недели. Теперь напишите функцию, которая объединит два эти расчёта.\n",
    "\n",
    "Создайте функцию `number_tracks()`, которая посчитает прослушивания для заданного дня и города. Ей понадобятся два параметра:\n",
    "* день недели,\n",
    "* название города.\n",
    "\n",
    "В функции сохраните в переменную строки исходной таблицы, у которых значение:\n",
    "  * в колонке `day` равно параметру `day`,\n",
    "  * в колонке `city` равно параметру `city`.\n",
    "\n",
    "Для этого примените последовательную фильтрацию с логической индексацией.\n",
    "\n",
    "Затем посчитайте значения в столбце `user_id` получившейся таблицы. Результат сохраните в новую переменную. Верните эту переменную из функции."
   ]
  },
  {
   "cell_type": "code",
   "execution_count": 20,
   "metadata": {
    "id": "Nz3GdQB1_Zcu"
   },
   "outputs": [],
   "source": [
    "def number_tracks(day, city):                            # <создание функции number_tracks()>\n",
    "                                                         # Объявляется функция с двумя параметрами: day, city.\n",
    "    track_list = df[df['day'] == day]                    # В переменной track_list сохраняются те строки таблицы df, для которых \n",
    "    track_list = track_list[track_list['city'] == city]  # значение в столбце 'day' равно параметру day и одновременно значение\n",
    "    track_list_count = track_list['user_id'].count()     # в столбце 'city' равно параметру city (используйте последовательную фильтрацию\n",
    "    return(track_list_count)                              # с помощью логической индексации).\n",
    "                                                         # В переменной track_list_count сохраняется число значений столбца 'user_id',\n",
    "                                                         # рассчитанное методом count() для таблицы track_list.\n",
    "                                                         # Функция возвращает число - значение track_list_count.\n",
    "\n",
    "# Функция для подсчёта прослушиваний для конкретного города и дня.\n",
    "# С помощью последовательной фильтрации с логической индексацией она \n",
    "# сначала получит из исходной таблицы строки с нужным днём,\n",
    "# затем из результата отфильтрует строки с нужным городом,\n",
    "# методом count() посчитает количество значений в колонке user_id. \n",
    "# Это количество функция вернёт в качестве результата"
   ]
  },
  {
   "cell_type": "markdown",
   "metadata": {
    "id": "ytf7xFrFJQ2r"
   },
   "source": [
    "Вызовите `number_tracks()` шесть раз, меняя значение параметров — так, чтобы получить данные для каждого города в каждый из трёх дней."
   ]
  },
  {
   "cell_type": "code",
   "execution_count": 21,
   "metadata": {
    "id": "rJcRATNQ_Zcu"
   },
   "outputs": [
    {
     "data": {
      "text/plain": [
       "15740"
      ]
     },
     "execution_count": 21,
     "metadata": {},
     "output_type": "execute_result"
    }
   ],
   "source": [
    "number_tracks('Monday', 'Moscow') # количество прослушиваний в Москве по понедельникам"
   ]
  },
  {
   "cell_type": "code",
   "execution_count": 22,
   "metadata": {
    "id": "hq_ncZ5T_Zcu"
   },
   "outputs": [
    {
     "data": {
      "text/plain": [
       "5614"
      ]
     },
     "execution_count": 22,
     "metadata": {},
     "output_type": "execute_result"
    }
   ],
   "source": [
    "number_tracks('Monday', 'Saint-Petersburg') # количество прослушиваний в Санкт-Петербурге по понедельникам"
   ]
  },
  {
   "cell_type": "code",
   "execution_count": 23,
   "metadata": {
    "id": "_NTy2VPU_Zcu"
   },
   "outputs": [
    {
     "data": {
      "text/plain": [
       "11056"
      ]
     },
     "execution_count": 23,
     "metadata": {},
     "output_type": "execute_result"
    }
   ],
   "source": [
    "number_tracks('Wednesday', 'Moscow') # количество прослушиваний в Москве по средам"
   ]
  },
  {
   "cell_type": "code",
   "execution_count": 24,
   "metadata": {
    "id": "j2y3TAwo_Zcu"
   },
   "outputs": [
    {
     "data": {
      "text/plain": [
       "7003"
      ]
     },
     "execution_count": 24,
     "metadata": {},
     "output_type": "execute_result"
    }
   ],
   "source": [
    "number_tracks('Wednesday', 'Saint-Petersburg') # количество прослушиваний в Санкт-Петербурге по средам"
   ]
  },
  {
   "cell_type": "code",
   "execution_count": 25,
   "metadata": {
    "id": "vYDw5u_K_Zcu"
   },
   "outputs": [
    {
     "data": {
      "text/plain": [
       "15945"
      ]
     },
     "execution_count": 25,
     "metadata": {},
     "output_type": "execute_result"
    }
   ],
   "source": [
    "number_tracks('Friday', 'Moscow') # количество прослушиваний в Москве по пятницам"
   ]
  },
  {
   "cell_type": "code",
   "execution_count": 26,
   "metadata": {
    "id": "8_yzFtW3_Zcu"
   },
   "outputs": [
    {
     "data": {
      "text/plain": [
       "5895"
      ]
     },
     "execution_count": 26,
     "metadata": {},
     "output_type": "execute_result"
    }
   ],
   "source": [
    "number_tracks('Friday', 'Saint-Petersburg')# количество прослушиваний в Санкт-Петербурге по пятницам"
   ]
  },
  {
   "cell_type": "markdown",
   "metadata": {
    "id": "7QXffbO-_Zcu"
   },
   "source": [
    "Создайте c помощью конструктора `pd.DataFrame` таблицу, где\n",
    "* названия колонок — `['city', 'monday', 'wednesday', 'friday']`;\n",
    "* данные — результаты, которые вы получили с помощью `number_tracks`."
   ]
  },
  {
   "cell_type": "code",
   "execution_count": 27,
   "metadata": {
    "id": "APAcLpOr_Zcu"
   },
   "outputs": [
    {
     "data": {
      "text/html": [
       "<div>\n",
       "<style scoped>\n",
       "    .dataframe tbody tr th:only-of-type {\n",
       "        vertical-align: middle;\n",
       "    }\n",
       "\n",
       "    .dataframe tbody tr th {\n",
       "        vertical-align: top;\n",
       "    }\n",
       "\n",
       "    .dataframe thead th {\n",
       "        text-align: right;\n",
       "    }\n",
       "</style>\n",
       "<table border=\"1\" class=\"dataframe\">\n",
       "  <thead>\n",
       "    <tr style=\"text-align: right;\">\n",
       "      <th></th>\n",
       "      <th>city</th>\n",
       "      <th>monday</th>\n",
       "      <th>wednesday</th>\n",
       "      <th>friday</th>\n",
       "    </tr>\n",
       "  </thead>\n",
       "  <tbody>\n",
       "    <tr>\n",
       "      <td>0</td>\n",
       "      <td>Moscow</td>\n",
       "      <td>15740</td>\n",
       "      <td>11056</td>\n",
       "      <td>15945</td>\n",
       "    </tr>\n",
       "    <tr>\n",
       "      <td>1</td>\n",
       "      <td>Saint-Petersburg</td>\n",
       "      <td>5614</td>\n",
       "      <td>7003</td>\n",
       "      <td>5895</td>\n",
       "    </tr>\n",
       "  </tbody>\n",
       "</table>\n",
       "</div>"
      ],
      "text/plain": [
       "               city  monday  wednesday  friday\n",
       "0            Moscow   15740      11056   15945\n",
       "1  Saint-Petersburg    5614       7003    5895"
      ]
     },
     "execution_count": 27,
     "metadata": {},
     "output_type": "execute_result"
    }
   ],
   "source": [
    "data = [['Moscow', 15740, 11056, 15945],\n",
    "       ['Saint-Petersburg', 5614, 7003, 5895]]\n",
    "\n",
    "pd.DataFrame(data=data, columns=['city', 'monday', 'wednesday', 'friday']) # Таблица с результатами"
   ]
  },
  {
   "cell_type": "markdown",
   "metadata": {
    "id": "-EgPIHYu_Zcu"
   },
   "source": [
    "**Выводы**\n",
    "\n",
    "Данные показывают разницу поведения пользователей:\n",
    "\n",
    "- В Москве пик прослушиваний приходится на понедельник и пятницу, а в среду заметен спад.\n",
    "- В Петербурге, наоборот, больше слушают музыку по средам. Активность в понедельник и пятницу здесь почти в равной мере уступает среде.\n",
    "\n",
    "Значит, данные говорят в пользу первой гипотезы."
   ]
  },
  {
   "cell_type": "markdown",
   "metadata": {
    "id": "atZAxtq4_Zcu"
   },
   "source": [
    "### Музыка в начале и в конце недели"
   ]
  },
  {
   "cell_type": "markdown",
   "metadata": {
    "id": "eXrQqXFH_Zcu"
   },
   "source": [
    "Согласно второй гипотезе, утром в понедельник в Москве преобладают одни жанры, а в Петербурге — другие. Так же и вечером пятницы преобладают разные жанры — в зависимости от города."
   ]
  },
  {
   "cell_type": "markdown",
   "metadata": {
    "id": "S8UcW6Hw_Zcu"
   },
   "source": [
    "Сохраните таблицы с данными в две переменные:\n",
    "* по Москве — в `moscow_general`;\n",
    "* по Санкт-Петербургу — в `spb_general`."
   ]
  },
  {
   "cell_type": "code",
   "execution_count": 28,
   "metadata": {
    "id": "qeaFfM_P_Zcu"
   },
   "outputs": [],
   "source": [
    "moscow_general = df[df['city'] == 'Moscow']  # получение таблицы moscow_general из тех строк таблицы df, \n",
    "                                             # для которых значение в столбце 'city' равно 'Moscow'\n"
   ]
  },
  {
   "cell_type": "code",
   "execution_count": 29,
   "metadata": {
    "id": "ORaVRKto_Zcu"
   },
   "outputs": [],
   "source": [
    "spb_general = df[df['city'] == 'Saint-Petersburg']  # получение таблицы spb_general из тех строк таблицы df,\n",
    "                                                    # для которых значение в столбце 'city' равно 'Saint-Petersburg'"
   ]
  },
  {
   "cell_type": "markdown",
   "metadata": {
    "id": "MEJV-CX2_Zcu"
   },
   "source": [
    "Создайте функцию `genre_weekday()` с четырьмя параметрами:\n",
    "* таблица (датафрейм) с данными,\n",
    "* день недели,\n",
    "* начальная временная метка в формате 'hh:mm', \n",
    "* последняя временная метка в формате 'hh:mm'.\n",
    "\n",
    "Функция должна вернуть информацию о топ-10 жанров тех треков, которые прослушивали в указанный день, в промежутке между двумя отметками времени."
   ]
  },
  {
   "cell_type": "code",
   "execution_count": 30,
   "metadata": {
    "id": "laJT9BYl_Zcu"
   },
   "outputs": [],
   "source": [
    "def genre_weekday(table, day, time1, time2):                      # Объявление функции genre_weekday() с параметрами table, day, time1, time2,\n",
    "    genre_df = table[table['day'] == day]                         # которая возвращает информацию о самых популярных жанрах в указанный день в\n",
    "    genre_df = genre_df[genre_df['time'] > time1]                 # заданное время:\n",
    "    genre_df = genre_df[genre_df['time'] < time2]                 # 1) в переменную genre_df сохраняются те строки переданного датафрейма table, \n",
    "                                                                  #    для которых одновременно:\n",
    "    genre_df_count = genre_df.groupby('genre')['user_id'].count() \n",
    "    genre_df_sorted = genre_df_count.sort_values(ascending=False) #    - значение в столбце day равно значению аргумента day\n",
    "    return genre_df_sorted.head(10)                               #    - значение в столбце time больше значения аргумента time1\n",
    "                                                                  #    - значение в столбце time меньше значения аргумента time2\n",
    "#    Используйте последовательную фильтрацию с помощью логической индексации.\n",
    "# 2) сгруппировать датафрейм genre_df по столбцу genre, взять один из его\n",
    "#    столбцов и посчитать методом count() количество записей для каждого из\n",
    "#    присутствующих жанров, получившийся Series записать в переменную\n",
    "#    genre_df_count\n",
    "# 3) отсортировать genre_df_count по убыванию встречаемости и сохранить\n",
    "#    в переменную genre_df_sorted\n",
    "# 4) вернуть Series из 10 первых значений genre_df_sorted, это будут топ-10\n",
    "#    популярных жанров (в указанный день, в заданное время)"
   ]
  },
  {
   "cell_type": "markdown",
   "metadata": {
    "id": "la2s2_PF_Zcu"
   },
   "source": [
    "Cравните результаты функции `genre_weekday()` для Москвы и Санкт-Петербурга в понедельник утром (с 7:00 до 11:00) и в пятницу вечером (с 17:00 до 23:00):"
   ]
  },
  {
   "cell_type": "code",
   "execution_count": 31,
   "metadata": {
    "id": "yz7itPUQ_Zcu"
   },
   "outputs": [
    {
     "data": {
      "text/plain": [
       "genre\n",
       "pop            781\n",
       "dance          549\n",
       "electronic     480\n",
       "rock           474\n",
       "hiphop         286\n",
       "ruspop         186\n",
       "world          181\n",
       "rusrap         175\n",
       "alternative    164\n",
       "unknown        161\n",
       "Name: user_id, dtype: int64"
      ]
     },
     "execution_count": 31,
     "metadata": {},
     "output_type": "execute_result"
    }
   ],
   "source": [
    "genre_weekday(moscow_general, 'Monday', '07:00', '11:00') # вызов функции для утра понедельника в Москве (вместо df — таблица moscow_general)\n",
    "# объекты, хранящие время, являются строками и сравниваются как строки\n",
    "# пример вызова: genre_weekday(moscow_general, 'Monday', '07:00', '11:00')"
   ]
  },
  {
   "cell_type": "code",
   "execution_count": 32,
   "metadata": {
    "id": "kwUcHPdy_Zcu"
   },
   "outputs": [
    {
     "data": {
      "text/plain": [
       "genre\n",
       "pop            218\n",
       "dance          182\n",
       "rock           162\n",
       "electronic     147\n",
       "hiphop          80\n",
       "ruspop          64\n",
       "alternative     58\n",
       "rusrap          55\n",
       "jazz            44\n",
       "classical       40\n",
       "Name: user_id, dtype: int64"
      ]
     },
     "execution_count": 32,
     "metadata": {},
     "output_type": "execute_result"
    }
   ],
   "source": [
    "genre_weekday(spb_general, 'Monday', '07:00', '11:00') # вызов функции для утра понедельника в Петербурге (вместо df — таблица spb_general)"
   ]
  },
  {
   "cell_type": "code",
   "execution_count": 33,
   "metadata": {
    "id": "EzXVRE1o_Zcu"
   },
   "outputs": [
    {
     "data": {
      "text/plain": [
       "genre\n",
       "pop            713\n",
       "rock           517\n",
       "dance          495\n",
       "electronic     482\n",
       "hiphop         273\n",
       "world          208\n",
       "ruspop         170\n",
       "alternative    163\n",
       "classical      163\n",
       "rusrap         142\n",
       "Name: user_id, dtype: int64"
      ]
     },
     "execution_count": 33,
     "metadata": {},
     "output_type": "execute_result"
    }
   ],
   "source": [
    "genre_weekday(moscow_general, 'Friday', '17:00', '23:00') # вызов функции для вечера пятницы в Москве"
   ]
  },
  {
   "cell_type": "code",
   "execution_count": 34,
   "metadata": {
    "id": "JZaEKu5v_Zcu"
   },
   "outputs": [
    {
     "data": {
      "text/plain": [
       "genre\n",
       "pop            256\n",
       "rock           216\n",
       "electronic     216\n",
       "dance          210\n",
       "hiphop          97\n",
       "alternative     63\n",
       "jazz            61\n",
       "classical       60\n",
       "rusrap          59\n",
       "world           54\n",
       "Name: user_id, dtype: int64"
      ]
     },
     "execution_count": 34,
     "metadata": {},
     "output_type": "execute_result"
    }
   ],
   "source": [
    "genre_weekday(spb_general, 'Friday', '17:00', '23:00') # вызов функции для вечера пятницы в Петербурге"
   ]
  },
  {
   "cell_type": "markdown",
   "metadata": {
    "id": "wrCe4MNX_Zcu"
   },
   "source": [
    "**Выводы**\n",
    "\n",
    "Если сравнить топ-10 жанров в понедельник утром, можно сделать такие выводы:\n",
    "\n",
    "1. В Москве и Петербурге слушают похожую музыку. Единственное отличие — в московский рейтинг вошёл жанр “world”, а в петербургский — джаз и классика.\n",
    "\n",
    "2. В Москве пропущенных значений оказалось так много, что значение `'unknown'` заняло десятое место среди самых популярных жанров. Значит, пропущенные значения занимают существенную долю в данных и угрожают достоверности исследования.\n",
    "\n",
    "Вечер пятницы не меняет эту картину. Некоторые жанры поднимаются немного выше, другие спускаются, но в целом топ-10 остаётся тем же самым.\n",
    "\n",
    "Таким образом, вторая гипотеза подтвердилась лишь частично:\n",
    "* Пользователи слушают похожую музыку в начале недели и в конце.\n",
    "* Разница между Москвой и Петербургом не слишком выражена. В Москве чаще слушают русскую популярную музыку, в Петербурге — джаз.\n",
    "\n",
    "Однако пропуски в данных ставят под сомнение этот результат. В Москве их так много, что рейтинг топ-10 мог бы выглядеть иначе, если бы не утерянные  данные о жанрах."
   ]
  },
  {
   "cell_type": "markdown",
   "metadata": {
    "id": "JolODAqr_Zcu"
   },
   "source": [
    "### Жанровые предпочтения в Москве и Петербурге\n",
    "\n",
    "Гипотеза: Петербург — столица рэпа, музыку этого жанра там слушают чаще, чем в Москве.  А Москва — город контрастов, в котором, тем не менее, преобладает поп-музыка."
   ]
  },
  {
   "cell_type": "markdown",
   "metadata": {
    "id": "DlegSvaT_Zcu"
   },
   "source": [
    "Сгруппируйте таблицу `moscow_general` по жанру и посчитайте прослушивания треков каждого жанра методом `count()`. Затем отсортируйте результат в порядке убывания и сохраните его в таблице `moscow_genres`."
   ]
  },
  {
   "cell_type": "code",
   "execution_count": 35,
   "metadata": {
    "id": "r19lIPke_Zcu"
   },
   "outputs": [],
   "source": [
    "moscow_genres = moscow_general.groupby('genre')['user_id'].count().sort_values(ascending=False) # одной строкой: группировка таблицы moscow_general по столбцу 'genre', \n",
    "# подсчёт числа значений 'genre' в этой группировке методом count(), \n",
    "# сортировка получившегося Series в порядке убывания и сохранение в moscow_genres"
   ]
  },
  {
   "cell_type": "markdown",
   "metadata": {
    "id": "6kMuomxTiIr8"
   },
   "source": [
    "Выведите на экран первые десять строк `moscow_genres`:"
   ]
  },
  {
   "cell_type": "code",
   "execution_count": 36,
   "metadata": {
    "id": "WhCSooF8_Zcv"
   },
   "outputs": [
    {
     "data": {
      "text/plain": [
       "genre\n",
       "pop            5892\n",
       "dance          4435\n",
       "rock           3965\n",
       "electronic     3786\n",
       "hiphop         2096\n",
       "classical      1616\n",
       "world          1432\n",
       "alternative    1379\n",
       "ruspop         1372\n",
       "rusrap         1161\n",
       "Name: user_id, dtype: int64"
      ]
     },
     "metadata": {},
     "output_type": "display_data"
    }
   ],
   "source": [
    "display(moscow_genres.head(10))# просмотр первых 10 строк moscow_genres"
   ]
  },
  {
   "cell_type": "markdown",
   "metadata": {
    "id": "cnPG2vnN_Zcv"
   },
   "source": [
    "Теперь повторите то же и для Петербурга.\n",
    "\n",
    "Сгруппируйте таблицу `spb_general` по жанру. Посчитайте прослушивания треков каждого жанра. Результат отсортируйте в порядке убывания и сохраните в таблице `spb_genres`:\n"
   ]
  },
  {
   "cell_type": "code",
   "execution_count": 37,
   "metadata": {
    "id": "gluLIpE7_Zcv"
   },
   "outputs": [],
   "source": [
    "spb_genres = spb_general.groupby('genre')['user_id'].count().sort_values(ascending=False) # одной строкой: группировка таблицы spb_general по столбцу 'genre', \n",
    "# подсчёт числа значений 'genre' в этой группировке методом count(), \n",
    "# сортировка получившегося Series в порядке убывания и сохранение в spb_genres"
   ]
  },
  {
   "cell_type": "markdown",
   "metadata": {
    "id": "5Doha_ODgyQ8"
   },
   "source": [
    "Выведите на экран первые десять строк `spb_genres`:"
   ]
  },
  {
   "cell_type": "code",
   "execution_count": 38,
   "metadata": {
    "id": "uaGJHjVU_Zcv"
   },
   "outputs": [
    {
     "data": {
      "text/plain": [
       "genre\n",
       "pop            2431\n",
       "dance          1932\n",
       "rock           1879\n",
       "electronic     1736\n",
       "hiphop          960\n",
       "alternative     649\n",
       "classical       646\n",
       "rusrap          564\n",
       "ruspop          538\n",
       "world           515\n",
       "Name: user_id, dtype: int64"
      ]
     },
     "metadata": {},
     "output_type": "display_data"
    }
   ],
   "source": [
    "display(spb_genres.head(10)) # просмотр первых 10 строк spb_genres"
   ]
  },
  {
   "cell_type": "markdown",
   "metadata": {
    "id": "RY51YJYu_Zcv"
   },
   "source": [
    "**Выводы**"
   ]
  },
  {
   "cell_type": "markdown",
   "metadata": {
    "id": "nVhnJEm__Zcv"
   },
   "source": [
    "Гипотеза частично подтвердилась:\n",
    "* Поп-музыка — самый популярный жанр в Москве, как и предполагала гипотеза. Более того, в топ-10 жанров встречается близкий жанр — русская популярная музыка.\n",
    "* Вопреки ожиданиям, рэп одинаково популярен в Москве и Петербурге. \n"
   ]
  },
  {
   "cell_type": "markdown",
   "metadata": {
    "id": "ykKQ0N65_Zcv"
   },
   "source": [
    "## Итоги исследования"
   ]
  },
  {
   "cell_type": "markdown",
   "metadata": {
    "id": "tjUwbHb3_Zcv"
   },
   "source": [
    "Вы проверили три гипотезы и установили:\n",
    "\n",
    "1. День недели по-разному влияет на активность пользователей в Москве и Петербурге. \n",
    "\n",
    "Первая гипотеза полностью подтвердилась.\n",
    "\n",
    "2. Музыкальные предпочтения не сильно меняются в течение недели — будь то Москва или Петербург. Небольшие различия заметны в начале недели, по понедельникам:\n",
    "* в Москве слушают музыку жанра “world”,\n",
    "* в Петербурге — джаз и классику.\n",
    "\n",
    "Таким образом, вторая гипотеза подтвердилась лишь отчасти. Этот результат мог оказаться иным, если бы не пропуски в данных.\n",
    "\n",
    "3. Во вкусах пользователей Москвы и Петербурга больше общего чем различий. Вопреки ожиданиям, предпочтения жанров в Петербурге напоминают московские.\n",
    "\n",
    "Третья гипотеза не подтвердилась. Если различия в предпочтениях и существуют, на основной массе пользователей они незаметны.\n",
    "\n",
    "**На практике исследования содержат проверки статистических гипотез.**\n",
    "Из данных одного сервиса не всегда можно сделать вывод о всех жителях города.\n",
    "Проверки статистических гипотез покажут, насколько они достоверны, исходя из имеющихся данных. \n",
    "С методами проверок гипотез вы ещё познакомитесь в следующих темах."
   ]
  }
 ],
 "metadata": {
  "ExecuteTimeLog": [
   {
    "duration": 256,
    "start_time": "2022-01-22T15:40:44.346Z"
   },
   {
    "duration": 234,
    "start_time": "2022-01-22T15:40:52.914Z"
   },
   {
    "duration": 250,
    "start_time": "2022-01-22T15:41:16.161Z"
   },
   {
    "duration": 220,
    "start_time": "2022-01-22T15:44:03.308Z"
   },
   {
    "duration": 569,
    "start_time": "2022-01-22T15:44:11.139Z"
   },
   {
    "duration": 2,
    "start_time": "2022-01-22T15:44:13.983Z"
   },
   {
    "duration": 143,
    "start_time": "2022-01-22T15:44:16.837Z"
   },
   {
    "duration": 258,
    "start_time": "2022-01-22T15:44:28.506Z"
   },
   {
    "duration": 2,
    "start_time": "2022-01-22T15:44:30.925Z"
   },
   {
    "duration": 133,
    "start_time": "2022-01-22T15:44:33.657Z"
   },
   {
    "duration": 17,
    "start_time": "2022-01-22T15:44:35.988Z"
   },
   {
    "duration": 23,
    "start_time": "2022-01-22T15:44:57.993Z"
   },
   {
    "duration": 4,
    "start_time": "2022-01-22T15:51:37.279Z"
   },
   {
    "duration": 22,
    "start_time": "2022-01-22T15:53:22.263Z"
   },
   {
    "duration": 4,
    "start_time": "2022-01-22T15:53:33.027Z"
   },
   {
    "duration": 22,
    "start_time": "2022-01-22T15:54:33.179Z"
   },
   {
    "duration": 15,
    "start_time": "2022-01-22T15:58:35.954Z"
   },
   {
    "duration": 23,
    "start_time": "2022-01-22T15:58:48.166Z"
   },
   {
    "duration": 52,
    "start_time": "2022-01-22T15:59:12.522Z"
   },
   {
    "duration": 233,
    "start_time": "2022-01-22T16:05:39.149Z"
   },
   {
    "duration": 56,
    "start_time": "2022-01-22T16:05:52.875Z"
   },
   {
    "duration": 48,
    "start_time": "2022-01-22T16:06:19.134Z"
   },
   {
    "duration": 7,
    "start_time": "2022-01-22T16:08:00.220Z"
   },
   {
    "duration": 9,
    "start_time": "2022-01-22T16:08:24.597Z"
   },
   {
    "duration": 66,
    "start_time": "2022-01-22T16:12:21.808Z"
   },
   {
    "duration": 3,
    "start_time": "2022-01-22T16:12:28.991Z"
   },
   {
    "duration": 10,
    "start_time": "2022-01-22T16:13:38.075Z"
   },
   {
    "duration": 9,
    "start_time": "2022-01-22T16:13:54.391Z"
   },
   {
    "duration": 28,
    "start_time": "2022-01-22T16:15:19.724Z"
   },
   {
    "duration": 10,
    "start_time": "2022-01-22T16:15:22.410Z"
   },
   {
    "duration": 29,
    "start_time": "2022-01-22T16:15:31.812Z"
   },
   {
    "duration": 8,
    "start_time": "2022-01-22T16:15:35.642Z"
   },
   {
    "duration": 29,
    "start_time": "2022-01-22T16:16:14.056Z"
   },
   {
    "duration": 9,
    "start_time": "2022-01-22T16:16:15.792Z"
   },
   {
    "duration": 28,
    "start_time": "2022-01-22T16:23:39.217Z"
   },
   {
    "duration": 42,
    "start_time": "2022-01-22T16:25:06.836Z"
   },
   {
    "duration": 40,
    "start_time": "2022-01-22T16:25:35.244Z"
   },
   {
    "duration": 26,
    "start_time": "2022-01-22T16:26:21.479Z"
   },
   {
    "duration": 28,
    "start_time": "2022-01-22T16:27:18.112Z"
   },
   {
    "duration": 23,
    "start_time": "2022-01-22T16:27:30.707Z"
   },
   {
    "duration": 43,
    "start_time": "2022-01-22T16:28:12.010Z"
   },
   {
    "duration": 40,
    "start_time": "2022-01-22T16:28:41.438Z"
   },
   {
    "duration": 21,
    "start_time": "2022-01-22T16:28:49.780Z"
   },
   {
    "duration": 42,
    "start_time": "2022-01-22T16:30:48.340Z"
   },
   {
    "duration": 45,
    "start_time": "2022-01-22T16:30:52.793Z"
   },
   {
    "duration": 45,
    "start_time": "2022-01-22T16:31:02.190Z"
   },
   {
    "duration": 42,
    "start_time": "2022-01-22T16:31:06.016Z"
   },
   {
    "duration": 41,
    "start_time": "2022-01-22T16:31:09.668Z"
   },
   {
    "duration": 6,
    "start_time": "2022-01-22T16:32:50.795Z"
   },
   {
    "duration": 38,
    "start_time": "2022-01-22T16:34:18.064Z"
   },
   {
    "duration": 46,
    "start_time": "2022-01-22T16:35:22.475Z"
   },
   {
    "duration": 77,
    "start_time": "2022-01-22T16:35:56.463Z"
   },
   {
    "duration": 10,
    "start_time": "2022-01-22T16:36:05.092Z"
   },
   {
    "duration": 4,
    "start_time": "2022-01-22T16:44:28.840Z"
   },
   {
    "duration": 3,
    "start_time": "2022-01-22T16:46:12.482Z"
   },
   {
    "duration": 438,
    "start_time": "2022-01-22T16:46:47.982Z"
   },
   {
    "duration": 451,
    "start_time": "2022-01-22T16:46:58.787Z"
   },
   {
    "duration": 4,
    "start_time": "2022-01-22T16:47:03.083Z"
   },
   {
    "duration": 16,
    "start_time": "2022-01-22T16:47:05.029Z"
   },
   {
    "duration": 14,
    "start_time": "2022-01-22T16:47:46.943Z"
   },
   {
    "duration": 13,
    "start_time": "2022-01-22T16:48:02.340Z"
   },
   {
    "duration": 14,
    "start_time": "2022-01-22T16:48:27.737Z"
   },
   {
    "duration": 16,
    "start_time": "2022-01-22T16:48:43.093Z"
   },
   {
    "duration": 14,
    "start_time": "2022-01-22T16:48:56.042Z"
   },
   {
    "duration": 226,
    "start_time": "2022-01-22T16:57:00.716Z"
   },
   {
    "duration": 230,
    "start_time": "2022-01-22T16:57:28.678Z"
   },
   {
    "duration": 256,
    "start_time": "2022-01-22T16:58:49.375Z"
   },
   {
    "duration": 210,
    "start_time": "2022-01-22T16:59:24.075Z"
   },
   {
    "duration": 222,
    "start_time": "2022-01-22T17:04:16.485Z"
   },
   {
    "duration": 7,
    "start_time": "2022-01-22T17:09:38.281Z"
   },
   {
    "duration": 11,
    "start_time": "2022-01-22T17:11:07.678Z"
   },
   {
    "duration": 9,
    "start_time": "2022-01-22T17:11:45.880Z"
   },
   {
    "duration": 11,
    "start_time": "2022-01-22T17:11:56.109Z"
   },
   {
    "duration": 9,
    "start_time": "2022-01-22T17:12:00.389Z"
   },
   {
    "duration": 17,
    "start_time": "2022-01-22T17:12:12.637Z"
   },
   {
    "duration": 10,
    "start_time": "2022-01-22T17:12:23.452Z"
   },
   {
    "duration": 5,
    "start_time": "2022-01-22T17:19:33.659Z"
   },
   {
    "duration": 84,
    "start_time": "2022-01-22T17:20:14.221Z"
   },
   {
    "duration": 4,
    "start_time": "2022-01-22T17:20:41.435Z"
   },
   {
    "duration": 4,
    "start_time": "2022-01-22T17:21:15.349Z"
   },
   {
    "duration": 4,
    "start_time": "2022-01-22T17:21:22.209Z"
   },
   {
    "duration": 4,
    "start_time": "2022-01-22T17:21:31.368Z"
   },
   {
    "duration": 914,
    "start_time": "2022-01-22T17:23:13.730Z"
   },
   {
    "duration": 4,
    "start_time": "2022-01-22T17:23:52.198Z"
   },
   {
    "duration": 458,
    "start_time": "2022-01-22T17:23:55.649Z"
   },
   {
    "duration": 4,
    "start_time": "2022-01-22T17:25:40.396Z"
   },
   {
    "duration": 432,
    "start_time": "2022-01-22T17:25:44.250Z"
   },
   {
    "duration": 4,
    "start_time": "2022-01-22T17:26:19.363Z"
   },
   {
    "duration": 4,
    "start_time": "2022-01-22T17:26:38.408Z"
   },
   {
    "duration": 445,
    "start_time": "2022-01-22T17:26:41.548Z"
   },
   {
    "duration": 4,
    "start_time": "2022-01-22T17:27:28.355Z"
   },
   {
    "duration": 461,
    "start_time": "2022-01-22T17:27:30.597Z"
   },
   {
    "duration": 4,
    "start_time": "2022-01-22T17:29:10.728Z"
   },
   {
    "duration": 463,
    "start_time": "2022-01-22T17:29:11.850Z"
   },
   {
    "duration": 4,
    "start_time": "2022-01-22T17:31:07.962Z"
   },
   {
    "duration": 469,
    "start_time": "2022-01-22T17:31:34.041Z"
   },
   {
    "duration": 4,
    "start_time": "2022-01-22T17:34:09.182Z"
   },
   {
    "duration": 457,
    "start_time": "2022-01-22T17:34:11.517Z"
   },
   {
    "duration": 3,
    "start_time": "2022-01-22T17:36:38.602Z"
   },
   {
    "duration": 658,
    "start_time": "2022-01-22T17:36:39.965Z"
   },
   {
    "duration": 19,
    "start_time": "2022-01-22T17:43:03.309Z"
   },
   {
    "duration": 12,
    "start_time": "2022-01-22T17:43:38.835Z"
   },
   {
    "duration": 19,
    "start_time": "2022-01-22T17:43:57.223Z"
   },
   {
    "duration": 466,
    "start_time": "2022-01-22T17:45:22.363Z"
   },
   {
    "duration": 4,
    "start_time": "2022-01-22T17:48:46.400Z"
   },
   {
    "duration": 455,
    "start_time": "2022-01-22T17:48:47.744Z"
   },
   {
    "duration": 4,
    "start_time": "2022-01-22T17:49:09.962Z"
   },
   {
    "duration": 16,
    "start_time": "2022-01-22T17:49:11.011Z"
   },
   {
    "duration": 4,
    "start_time": "2022-01-22T17:49:32.664Z"
   },
   {
    "duration": 15,
    "start_time": "2022-01-22T17:49:33.525Z"
   },
   {
    "duration": 4,
    "start_time": "2022-01-22T17:51:45.797Z"
   },
   {
    "duration": 17,
    "start_time": "2022-01-22T17:51:47.024Z"
   },
   {
    "duration": 4,
    "start_time": "2022-01-22T17:52:17.880Z"
   },
   {
    "duration": 452,
    "start_time": "2022-01-22T17:52:18.848Z"
   },
   {
    "duration": 541,
    "start_time": "2022-01-22T17:52:35.672Z"
   },
   {
    "duration": 789,
    "start_time": "2022-01-22T17:52:35.426Z"
   },
   {
    "duration": 3,
    "start_time": "2022-01-22T17:52:36.461Z"
   },
   {
    "duration": 4,
    "start_time": "2022-01-22T17:54:03.268Z"
   },
   {
    "duration": 469,
    "start_time": "2022-01-22T17:54:04.463Z"
   },
   {
    "duration": 4,
    "start_time": "2022-01-22T17:56:33.801Z"
   },
   {
    "duration": 498,
    "start_time": "2022-01-22T17:56:35.056Z"
   },
   {
    "duration": 4,
    "start_time": "2022-01-22T17:57:15.426Z"
   },
   {
    "duration": 465,
    "start_time": "2022-01-22T17:57:16.549Z"
   },
   {
    "duration": 5,
    "start_time": "2022-01-22T17:57:54.476Z"
   },
   {
    "duration": 15,
    "start_time": "2022-01-22T17:57:55.250Z"
   },
   {
    "duration": 4,
    "start_time": "2022-01-22T17:58:07.932Z"
   },
   {
    "duration": 15,
    "start_time": "2022-01-22T17:58:08.788Z"
   },
   {
    "duration": 5,
    "start_time": "2022-01-22T17:58:39.748Z"
   },
   {
    "duration": 470,
    "start_time": "2022-01-22T17:58:41.132Z"
   },
   {
    "duration": 4,
    "start_time": "2022-01-22T17:59:12.952Z"
   },
   {
    "duration": 16,
    "start_time": "2022-01-22T17:59:14.775Z"
   },
   {
    "duration": 375,
    "start_time": "2022-01-23T05:10:57.636Z"
   },
   {
    "duration": 303,
    "start_time": "2022-01-23T05:11:05.278Z"
   },
   {
    "duration": 776,
    "start_time": "2022-01-23T05:11:13.622Z"
   },
   {
    "duration": 274,
    "start_time": "2022-01-23T05:11:14.401Z"
   },
   {
    "duration": 39,
    "start_time": "2022-01-23T05:11:14.679Z"
   },
   {
    "duration": 71,
    "start_time": "2022-01-23T05:11:14.721Z"
   },
   {
    "duration": 7,
    "start_time": "2022-01-23T05:11:14.795Z"
   },
   {
    "duration": 34,
    "start_time": "2022-01-23T05:11:14.804Z"
   },
   {
    "duration": 30,
    "start_time": "2022-01-23T05:11:14.841Z"
   },
   {
    "duration": 32,
    "start_time": "2022-01-23T05:11:14.873Z"
   },
   {
    "duration": 23,
    "start_time": "2022-01-23T05:11:14.909Z"
   },
   {
    "duration": 61,
    "start_time": "2022-01-23T05:11:14.935Z"
   },
   {
    "duration": 117,
    "start_time": "2022-01-23T05:11:14.999Z"
   },
   {
    "duration": 113,
    "start_time": "2022-01-23T05:11:15.118Z"
   },
   {
    "duration": 89,
    "start_time": "2022-01-23T05:11:15.234Z"
   },
   {
    "duration": 13,
    "start_time": "2022-01-23T05:11:15.325Z"
   },
   {
    "duration": 4,
    "start_time": "2022-01-23T05:11:15.341Z"
   },
   {
    "duration": 61,
    "start_time": "2022-01-23T05:11:15.347Z"
   },
   {
    "duration": 13,
    "start_time": "2022-01-23T05:11:15.410Z"
   },
   {
    "duration": 96,
    "start_time": "2022-01-23T05:11:15.425Z"
   },
   {
    "duration": 13,
    "start_time": "2022-01-23T05:11:15.523Z"
   },
   {
    "duration": 5,
    "start_time": "2022-01-23T05:11:15.538Z"
   },
   {
    "duration": 23,
    "start_time": "2022-01-23T05:11:15.569Z"
   },
   {
    "duration": 19,
    "start_time": "2022-01-23T05:11:15.595Z"
   },
   {
    "duration": 20,
    "start_time": "2022-01-23T05:11:15.616Z"
   },
   {
    "duration": 19,
    "start_time": "2022-01-23T05:11:15.669Z"
   },
   {
    "duration": 21,
    "start_time": "2022-01-23T05:11:15.690Z"
   },
   {
    "duration": 20,
    "start_time": "2022-01-23T05:11:15.713Z"
   },
   {
    "duration": 12,
    "start_time": "2022-01-23T05:11:15.770Z"
   },
   {
    "duration": 20,
    "start_time": "2022-01-23T05:11:15.785Z"
   },
   {
    "duration": 13,
    "start_time": "2022-01-23T05:11:15.807Z"
   },
   {
    "duration": 60,
    "start_time": "2022-01-23T05:11:15.822Z"
   },
   {
    "duration": 337,
    "start_time": "2022-01-23T05:11:15.884Z"
   },
   {
    "duration": 1140,
    "start_time": "2022-01-23T05:11:15.084Z"
   },
   {
    "duration": 1140,
    "start_time": "2022-01-23T05:11:15.085Z"
   },
   {
    "duration": 1140,
    "start_time": "2022-01-23T05:11:15.086Z"
   },
   {
    "duration": 1137,
    "start_time": "2022-01-23T05:11:15.091Z"
   },
   {
    "duration": 1137,
    "start_time": "2022-01-23T05:11:15.092Z"
   },
   {
    "duration": 1134,
    "start_time": "2022-01-23T05:11:15.096Z"
   },
   {
    "duration": 1128,
    "start_time": "2022-01-23T05:11:15.103Z"
   },
   {
    "duration": 32,
    "start_time": "2022-01-23T05:13:56.659Z"
   },
   {
    "duration": 24,
    "start_time": "2022-01-23T05:14:01.688Z"
   },
   {
    "duration": 27,
    "start_time": "2022-01-23T05:14:46.509Z"
   },
   {
    "duration": 28,
    "start_time": "2022-01-23T05:15:36.924Z"
   },
   {
    "duration": 15,
    "start_time": "2022-01-23T05:16:18.629Z"
   },
   {
    "duration": 28,
    "start_time": "2022-01-23T05:16:55.782Z"
   },
   {
    "duration": 28,
    "start_time": "2022-01-23T05:21:14.527Z"
   },
   {
    "duration": 29,
    "start_time": "2022-01-23T05:21:54.529Z"
   },
   {
    "duration": 35,
    "start_time": "2022-01-23T05:23:10.050Z"
   },
   {
    "duration": 34,
    "start_time": "2022-01-23T05:23:38.762Z"
   },
   {
    "duration": 34,
    "start_time": "2022-01-23T05:23:50.455Z"
   },
   {
    "duration": 104,
    "start_time": "2022-01-23T05:24:41.251Z"
   },
   {
    "duration": 49,
    "start_time": "2022-01-23T05:24:46.325Z"
   },
   {
    "duration": 381,
    "start_time": "2022-01-23T05:25:36.236Z"
   },
   {
    "duration": 38,
    "start_time": "2022-01-23T05:25:47.239Z"
   },
   {
    "duration": 45,
    "start_time": "2022-01-23T05:26:20.903Z"
   },
   {
    "duration": 34,
    "start_time": "2022-01-23T05:26:59.596Z"
   },
   {
    "duration": 36,
    "start_time": "2022-01-23T05:27:16.265Z"
   },
   {
    "duration": 39,
    "start_time": "2022-01-23T05:27:35.183Z"
   },
   {
    "duration": 6,
    "start_time": "2022-01-23T05:32:29.865Z"
   },
   {
    "duration": 17,
    "start_time": "2022-01-23T05:32:43.850Z"
   },
   {
    "duration": 19,
    "start_time": "2022-01-23T05:34:29.550Z"
   },
   {
    "duration": 12,
    "start_time": "2022-01-23T05:35:15.713Z"
   },
   {
    "duration": 12,
    "start_time": "2022-01-23T05:35:20.105Z"
   },
   {
    "duration": 16,
    "start_time": "2022-01-23T05:35:33.507Z"
   },
   {
    "duration": 12,
    "start_time": "2022-01-23T05:35:40.582Z"
   },
   {
    "duration": 15,
    "start_time": "2022-01-23T05:36:38.460Z"
   },
   {
    "duration": 16,
    "start_time": "2022-01-23T05:36:46.513Z"
   },
   {
    "duration": 12,
    "start_time": "2022-01-23T05:36:53.294Z"
   },
   {
    "duration": 12,
    "start_time": "2022-01-23T05:36:57.733Z"
   },
   {
    "duration": 12,
    "start_time": "2022-01-23T05:37:02.523Z"
   },
   {
    "duration": 18,
    "start_time": "2022-01-23T05:37:47.349Z"
   },
   {
    "duration": 13,
    "start_time": "2022-01-23T05:37:55.109Z"
   },
   {
    "duration": 17,
    "start_time": "2022-01-23T05:38:05.514Z"
   },
   {
    "duration": 14,
    "start_time": "2022-01-23T05:38:17.650Z"
   },
   {
    "duration": 12,
    "start_time": "2022-01-23T05:39:21.895Z"
   },
   {
    "duration": 16,
    "start_time": "2022-01-23T05:39:25.522Z"
   },
   {
    "duration": 6,
    "start_time": "2022-01-23T05:40:20.000Z"
   },
   {
    "duration": 19,
    "start_time": "2022-01-23T05:40:21.412Z"
   },
   {
    "duration": 19,
    "start_time": "2022-01-23T05:40:26.127Z"
   },
   {
    "duration": 12,
    "start_time": "2022-01-23T05:40:26.932Z"
   },
   {
    "duration": 19,
    "start_time": "2022-01-23T05:40:29.410Z"
   },
   {
    "duration": 6,
    "start_time": "2022-01-23T05:40:58.041Z"
   },
   {
    "duration": 20,
    "start_time": "2022-01-23T05:40:58.349Z"
   },
   {
    "duration": 20,
    "start_time": "2022-01-23T05:40:58.865Z"
   },
   {
    "duration": 12,
    "start_time": "2022-01-23T05:40:59.919Z"
   },
   {
    "duration": 20,
    "start_time": "2022-01-23T05:41:10.921Z"
   },
   {
    "duration": 8,
    "start_time": "2022-01-23T05:44:13.419Z"
   },
   {
    "duration": 6,
    "start_time": "2022-01-23T05:44:29.298Z"
   },
   {
    "duration": 11,
    "start_time": "2022-01-23T05:44:57.729Z"
   },
   {
    "duration": 6,
    "start_time": "2022-01-23T05:45:15.770Z"
   },
   {
    "duration": 5,
    "start_time": "2022-01-23T05:55:58.618Z"
   },
   {
    "duration": 593,
    "start_time": "2022-01-23T05:56:00.752Z"
   },
   {
    "duration": 5,
    "start_time": "2022-01-23T05:56:18.946Z"
   },
   {
    "duration": 18,
    "start_time": "2022-01-23T05:56:20.734Z"
   },
   {
    "duration": 18,
    "start_time": "2022-01-23T05:56:22.833Z"
   },
   {
    "duration": 12,
    "start_time": "2022-01-23T05:56:23.701Z"
   },
   {
    "duration": 18,
    "start_time": "2022-01-23T05:56:27.197Z"
   },
   {
    "duration": 13,
    "start_time": "2022-01-23T05:57:56.192Z"
   },
   {
    "duration": 13,
    "start_time": "2022-01-23T05:58:02.189Z"
   },
   {
    "duration": 17,
    "start_time": "2022-01-23T05:58:07.906Z"
   },
   {
    "duration": 22,
    "start_time": "2022-01-23T05:59:35.080Z"
   },
   {
    "duration": 22,
    "start_time": "2022-01-23T05:59:45.266Z"
   },
   {
    "duration": 21,
    "start_time": "2022-01-23T05:59:57.145Z"
   },
   {
    "duration": 23,
    "start_time": "2022-01-23T06:00:03.756Z"
   },
   {
    "duration": 6,
    "start_time": "2022-01-23T06:00:22.484Z"
   },
   {
    "duration": 12,
    "start_time": "2022-01-23T06:00:23.810Z"
   },
   {
    "duration": 19,
    "start_time": "2022-01-23T06:00:29.208Z"
   },
   {
    "duration": 12,
    "start_time": "2022-01-23T06:00:30.167Z"
   },
   {
    "duration": 19,
    "start_time": "2022-01-23T06:00:31.103Z"
   },
   {
    "duration": 18,
    "start_time": "2022-01-23T06:01:15.194Z"
   },
   {
    "duration": 13,
    "start_time": "2022-01-23T06:01:22.193Z"
   },
   {
    "duration": 12,
    "start_time": "2022-01-23T06:01:38.369Z"
   },
   {
    "duration": 13,
    "start_time": "2022-01-23T06:02:41.008Z"
   },
   {
    "duration": 17,
    "start_time": "2022-01-23T06:02:41.724Z"
   },
   {
    "duration": 12,
    "start_time": "2022-01-23T06:02:42.379Z"
   },
   {
    "duration": 17,
    "start_time": "2022-01-23T06:02:43.010Z"
   },
   {
    "duration": 6,
    "start_time": "2022-01-23T06:02:57.801Z"
   },
   {
    "duration": 11,
    "start_time": "2022-01-23T06:02:58.750Z"
   },
   {
    "duration": 3,
    "start_time": "2022-01-23T06:03:02.245Z"
   },
   {
    "duration": 203,
    "start_time": "2022-01-23T06:03:02.250Z"
   },
   {
    "duration": 21,
    "start_time": "2022-01-23T06:03:02.456Z"
   },
   {
    "duration": 32,
    "start_time": "2022-01-23T06:03:02.480Z"
   },
   {
    "duration": 5,
    "start_time": "2022-01-23T06:03:02.515Z"
   },
   {
    "duration": 65,
    "start_time": "2022-01-23T06:03:02.522Z"
   },
   {
    "duration": 5,
    "start_time": "2022-01-23T06:03:02.590Z"
   },
   {
    "duration": 32,
    "start_time": "2022-01-23T06:03:02.598Z"
   },
   {
    "duration": 43,
    "start_time": "2022-01-23T06:03:02.635Z"
   },
   {
    "duration": 29,
    "start_time": "2022-01-23T06:03:02.681Z"
   },
   {
    "duration": 113,
    "start_time": "2022-01-23T06:03:02.712Z"
   },
   {
    "duration": 106,
    "start_time": "2022-01-23T06:03:02.827Z"
   },
   {
    "duration": 86,
    "start_time": "2022-01-23T06:03:02.935Z"
   },
   {
    "duration": 13,
    "start_time": "2022-01-23T06:03:03.024Z"
   },
   {
    "duration": 4,
    "start_time": "2022-01-23T06:03:03.039Z"
   },
   {
    "duration": 64,
    "start_time": "2022-01-23T06:03:03.046Z"
   },
   {
    "duration": 16,
    "start_time": "2022-01-23T06:03:03.112Z"
   },
   {
    "duration": 98,
    "start_time": "2022-01-23T06:03:03.131Z"
   },
   {
    "duration": 38,
    "start_time": "2022-01-23T06:03:03.233Z"
   },
   {
    "duration": 6,
    "start_time": "2022-01-23T06:03:03.274Z"
   },
   {
    "duration": 27,
    "start_time": "2022-01-23T06:03:03.283Z"
   },
   {
    "duration": 21,
    "start_time": "2022-01-23T06:03:03.312Z"
   },
   {
    "duration": 46,
    "start_time": "2022-01-23T06:03:03.336Z"
   },
   {
    "duration": 35,
    "start_time": "2022-01-23T06:03:03.384Z"
   },
   {
    "duration": 20,
    "start_time": "2022-01-23T06:03:03.422Z"
   },
   {
    "duration": 37,
    "start_time": "2022-01-23T06:03:03.445Z"
   },
   {
    "duration": 12,
    "start_time": "2022-01-23T06:03:03.486Z"
   },
   {
    "duration": 71,
    "start_time": "2022-01-23T06:03:03.500Z"
   },
   {
    "duration": 24,
    "start_time": "2022-01-23T06:03:03.573Z"
   },
   {
    "duration": 6,
    "start_time": "2022-01-23T06:03:03.599Z"
   },
   {
    "duration": 32,
    "start_time": "2022-01-23T06:03:03.607Z"
   },
   {
    "duration": 33,
    "start_time": "2022-01-23T06:03:03.641Z"
   },
   {
    "duration": 24,
    "start_time": "2022-01-23T06:03:03.677Z"
   },
   {
    "duration": 18,
    "start_time": "2022-01-23T06:03:03.704Z"
   },
   {
    "duration": 55,
    "start_time": "2022-01-23T06:03:03.725Z"
   },
   {
    "duration": 10,
    "start_time": "2022-01-23T06:03:03.782Z"
   },
   {
    "duration": 11,
    "start_time": "2022-01-23T06:03:03.795Z"
   },
   {
    "duration": 7,
    "start_time": "2022-01-23T06:03:03.809Z"
   },
   {
    "duration": 601,
    "start_time": "2022-01-29T11:17:17.620Z"
   },
   {
    "duration": 159,
    "start_time": "2022-01-29T11:17:18.223Z"
   },
   {
    "duration": 22,
    "start_time": "2022-01-29T11:17:18.384Z"
   },
   {
    "duration": 27,
    "start_time": "2022-01-29T11:17:18.408Z"
   },
   {
    "duration": 9,
    "start_time": "2022-01-29T11:17:18.437Z"
   },
   {
    "duration": 50,
    "start_time": "2022-01-29T11:17:18.449Z"
   },
   {
    "duration": 4,
    "start_time": "2022-01-29T11:17:18.501Z"
   },
   {
    "duration": 32,
    "start_time": "2022-01-29T11:17:18.508Z"
   },
   {
    "duration": 25,
    "start_time": "2022-01-29T11:17:18.542Z"
   },
   {
    "duration": 39,
    "start_time": "2022-01-29T11:17:18.569Z"
   },
   {
    "duration": 66,
    "start_time": "2022-01-29T11:17:18.610Z"
   },
   {
    "duration": 89,
    "start_time": "2022-01-29T11:17:18.678Z"
   },
   {
    "duration": 71,
    "start_time": "2022-01-29T11:17:18.770Z"
   },
   {
    "duration": 11,
    "start_time": "2022-01-29T11:17:18.843Z"
   },
   {
    "duration": 3,
    "start_time": "2022-01-29T11:17:18.856Z"
   },
   {
    "duration": 55,
    "start_time": "2022-01-29T11:17:18.862Z"
   },
   {
    "duration": 12,
    "start_time": "2022-01-29T11:17:18.919Z"
   },
   {
    "duration": 71,
    "start_time": "2022-01-29T11:17:18.934Z"
   },
   {
    "duration": 11,
    "start_time": "2022-01-29T11:17:19.007Z"
   },
   {
    "duration": 4,
    "start_time": "2022-01-29T11:17:19.021Z"
   },
   {
    "duration": 25,
    "start_time": "2022-01-29T11:17:19.027Z"
   },
   {
    "duration": 17,
    "start_time": "2022-01-29T11:17:19.054Z"
   },
   {
    "duration": 17,
    "start_time": "2022-01-29T11:17:19.101Z"
   },
   {
    "duration": 15,
    "start_time": "2022-01-29T11:17:19.121Z"
   },
   {
    "duration": 20,
    "start_time": "2022-01-29T11:17:19.139Z"
   },
   {
    "duration": 47,
    "start_time": "2022-01-29T11:17:19.161Z"
   },
   {
    "duration": 9,
    "start_time": "2022-01-29T11:17:19.210Z"
   },
   {
    "duration": 18,
    "start_time": "2022-01-29T11:17:19.221Z"
   },
   {
    "duration": 9,
    "start_time": "2022-01-29T11:17:19.241Z"
   },
   {
    "duration": 5,
    "start_time": "2022-01-29T11:17:19.252Z"
   },
   {
    "duration": 53,
    "start_time": "2022-01-29T11:17:19.259Z"
   },
   {
    "duration": 15,
    "start_time": "2022-01-29T11:17:19.314Z"
   },
   {
    "duration": 21,
    "start_time": "2022-01-29T11:17:19.331Z"
   },
   {
    "duration": 45,
    "start_time": "2022-01-29T11:17:19.354Z"
   },
   {
    "duration": 11,
    "start_time": "2022-01-29T11:17:19.402Z"
   },
   {
    "duration": 8,
    "start_time": "2022-01-29T11:17:19.415Z"
   },
   {
    "duration": 12,
    "start_time": "2022-01-29T11:17:19.425Z"
   },
   {
    "duration": 18,
    "start_time": "2022-01-29T11:17:19.439Z"
   },
   {
    "duration": 611,
    "start_time": "2022-02-02T10:50:44.088Z"
   },
   {
    "duration": 122,
    "start_time": "2022-02-02T10:50:44.700Z"
   },
   {
    "duration": 17,
    "start_time": "2022-02-02T10:50:44.824Z"
   },
   {
    "duration": 22,
    "start_time": "2022-02-02T10:50:44.843Z"
   },
   {
    "duration": 5,
    "start_time": "2022-02-02T10:50:44.867Z"
   },
   {
    "duration": 18,
    "start_time": "2022-02-02T10:50:44.873Z"
   },
   {
    "duration": 3,
    "start_time": "2022-02-02T10:50:44.892Z"
   },
   {
    "duration": 20,
    "start_time": "2022-02-02T10:50:44.928Z"
   },
   {
    "duration": 17,
    "start_time": "2022-02-02T10:50:44.950Z"
   },
   {
    "duration": 25,
    "start_time": "2022-02-02T10:50:44.969Z"
   },
   {
    "duration": 81,
    "start_time": "2022-02-02T10:50:44.995Z"
   },
   {
    "duration": 72,
    "start_time": "2022-02-02T10:50:45.078Z"
   },
   {
    "duration": 44,
    "start_time": "2022-02-02T10:50:45.152Z"
   },
   {
    "duration": 9,
    "start_time": "2022-02-02T10:50:45.197Z"
   },
   {
    "duration": 2,
    "start_time": "2022-02-02T10:50:45.227Z"
   },
   {
    "duration": 28,
    "start_time": "2022-02-02T10:50:45.231Z"
   },
   {
    "duration": 8,
    "start_time": "2022-02-02T10:50:45.261Z"
   },
   {
    "duration": 63,
    "start_time": "2022-02-02T10:50:45.270Z"
   },
   {
    "duration": 9,
    "start_time": "2022-02-02T10:50:45.335Z"
   },
   {
    "duration": 4,
    "start_time": "2022-02-02T10:50:45.345Z"
   },
   {
    "duration": 23,
    "start_time": "2022-02-02T10:50:45.350Z"
   },
   {
    "duration": 11,
    "start_time": "2022-02-02T10:50:45.374Z"
   },
   {
    "duration": 40,
    "start_time": "2022-02-02T10:50:45.388Z"
   },
   {
    "duration": 15,
    "start_time": "2022-02-02T10:50:45.430Z"
   },
   {
    "duration": 15,
    "start_time": "2022-02-02T10:50:45.447Z"
   },
   {
    "duration": 13,
    "start_time": "2022-02-02T10:50:45.464Z"
   },
   {
    "duration": 8,
    "start_time": "2022-02-02T10:50:45.479Z"
   },
   {
    "duration": 48,
    "start_time": "2022-02-02T10:50:45.489Z"
   },
   {
    "duration": 10,
    "start_time": "2022-02-02T10:50:45.538Z"
   },
   {
    "duration": 5,
    "start_time": "2022-02-02T10:50:45.549Z"
   },
   {
    "duration": 20,
    "start_time": "2022-02-02T10:50:45.556Z"
   },
   {
    "duration": 11,
    "start_time": "2022-02-02T10:50:45.577Z"
   },
   {
    "duration": 47,
    "start_time": "2022-02-02T10:50:45.590Z"
   },
   {
    "duration": 10,
    "start_time": "2022-02-02T10:50:45.638Z"
   },
   {
    "duration": 8,
    "start_time": "2022-02-02T10:50:45.650Z"
   },
   {
    "duration": 4,
    "start_time": "2022-02-02T10:50:45.659Z"
   },
   {
    "duration": 7,
    "start_time": "2022-02-02T10:50:45.664Z"
   },
   {
    "duration": 4,
    "start_time": "2022-02-02T10:50:45.673Z"
   },
   {
    "duration": 138,
    "start_time": "2022-02-02T10:51:37.826Z"
   },
   {
    "duration": 38,
    "start_time": "2022-02-02T10:51:47.389Z"
   },
   {
    "duration": 36,
    "start_time": "2022-02-02T10:52:38.068Z"
   },
   {
    "duration": 95,
    "start_time": "2022-02-02T10:55:30.949Z"
   },
   {
    "duration": 3,
    "start_time": "2022-02-02T11:07:09.894Z"
   },
   {
    "duration": 132,
    "start_time": "2022-02-02T11:07:09.898Z"
   },
   {
    "duration": 10,
    "start_time": "2022-02-02T11:07:10.033Z"
   },
   {
    "duration": 29,
    "start_time": "2022-02-02T11:07:10.045Z"
   },
   {
    "duration": 4,
    "start_time": "2022-02-02T11:07:10.075Z"
   },
   {
    "duration": 17,
    "start_time": "2022-02-02T11:07:10.080Z"
   },
   {
    "duration": 5,
    "start_time": "2022-02-02T11:07:10.127Z"
   },
   {
    "duration": 23,
    "start_time": "2022-02-02T11:07:10.135Z"
   },
   {
    "duration": 15,
    "start_time": "2022-02-02T11:07:10.160Z"
   },
   {
    "duration": 20,
    "start_time": "2022-02-02T11:07:10.176Z"
   },
   {
    "duration": 78,
    "start_time": "2022-02-02T11:07:10.198Z"
   },
   {
    "duration": 71,
    "start_time": "2022-02-02T11:07:10.277Z"
   },
   {
    "duration": 43,
    "start_time": "2022-02-02T11:07:10.351Z"
   },
   {
    "duration": 50,
    "start_time": "2022-02-02T11:07:10.396Z"
   },
   {
    "duration": 3,
    "start_time": "2022-02-02T11:07:10.448Z"
   },
   {
    "duration": 29,
    "start_time": "2022-02-02T11:07:10.452Z"
   },
   {
    "duration": 62,
    "start_time": "2022-02-02T11:07:10.483Z"
   },
   {
    "duration": 42,
    "start_time": "2022-02-02T11:07:10.547Z"
   },
   {
    "duration": 11,
    "start_time": "2022-02-02T11:07:10.591Z"
   },
   {
    "duration": 4,
    "start_time": "2022-02-02T11:07:10.629Z"
   },
   {
    "duration": 34,
    "start_time": "2022-02-02T11:07:10.635Z"
   },
   {
    "duration": 11,
    "start_time": "2022-02-02T11:07:10.670Z"
   },
   {
    "duration": 12,
    "start_time": "2022-02-02T11:07:10.683Z"
   },
   {
    "duration": 11,
    "start_time": "2022-02-02T11:07:10.696Z"
   },
   {
    "duration": 34,
    "start_time": "2022-02-02T11:07:10.708Z"
   },
   {
    "duration": 15,
    "start_time": "2022-02-02T11:07:10.744Z"
   },
   {
    "duration": 6,
    "start_time": "2022-02-02T11:07:10.760Z"
   },
   {
    "duration": 12,
    "start_time": "2022-02-02T11:07:10.767Z"
   },
   {
    "duration": 8,
    "start_time": "2022-02-02T11:07:10.780Z"
   },
   {
    "duration": 38,
    "start_time": "2022-02-02T11:07:10.790Z"
   },
   {
    "duration": 24,
    "start_time": "2022-02-02T11:07:10.830Z"
   },
   {
    "duration": 10,
    "start_time": "2022-02-02T11:07:10.856Z"
   },
   {
    "duration": 14,
    "start_time": "2022-02-02T11:07:10.867Z"
   },
   {
    "duration": 10,
    "start_time": "2022-02-02T11:07:10.882Z"
   },
   {
    "duration": 36,
    "start_time": "2022-02-02T11:07:10.893Z"
   },
   {
    "duration": 7,
    "start_time": "2022-02-02T11:07:10.931Z"
   },
   {
    "duration": 13,
    "start_time": "2022-02-02T11:07:10.940Z"
   },
   {
    "duration": 3,
    "start_time": "2022-02-02T11:07:10.955Z"
   },
   {
    "duration": 516,
    "start_time": "2022-03-15T14:38:47.689Z"
   },
   {
    "duration": 217,
    "start_time": "2022-03-15T14:38:48.207Z"
   },
   {
    "duration": 17,
    "start_time": "2022-03-15T14:38:48.426Z"
   },
   {
    "duration": 25,
    "start_time": "2022-03-15T14:38:48.445Z"
   },
   {
    "duration": 5,
    "start_time": "2022-03-15T14:38:48.472Z"
   },
   {
    "duration": 25,
    "start_time": "2022-03-15T14:38:48.478Z"
   },
   {
    "duration": 32,
    "start_time": "2022-03-15T14:38:48.505Z"
   },
   {
    "duration": 23,
    "start_time": "2022-03-15T14:38:48.540Z"
   },
   {
    "duration": 18,
    "start_time": "2022-03-15T14:38:48.566Z"
   },
   {
    "duration": 23,
    "start_time": "2022-03-15T14:38:48.586Z"
   },
   {
    "duration": 82,
    "start_time": "2022-03-15T14:38:48.610Z"
   },
   {
    "duration": 84,
    "start_time": "2022-03-15T14:38:48.693Z"
   },
   {
    "duration": 62,
    "start_time": "2022-03-15T14:38:48.779Z"
   },
   {
    "duration": 38,
    "start_time": "2022-03-15T14:38:48.843Z"
   },
   {
    "duration": 4,
    "start_time": "2022-03-15T14:38:48.882Z"
   },
   {
    "duration": 36,
    "start_time": "2022-03-15T14:38:48.887Z"
   },
   {
    "duration": 47,
    "start_time": "2022-03-15T14:38:48.924Z"
   },
   {
    "duration": 65,
    "start_time": "2022-03-15T14:38:48.973Z"
   },
   {
    "duration": 10,
    "start_time": "2022-03-15T14:38:49.040Z"
   },
   {
    "duration": 3,
    "start_time": "2022-03-15T14:38:49.052Z"
   },
   {
    "duration": 23,
    "start_time": "2022-03-15T14:38:49.057Z"
   },
   {
    "duration": 16,
    "start_time": "2022-03-15T14:38:49.081Z"
   },
   {
    "duration": 44,
    "start_time": "2022-03-15T14:38:49.099Z"
   },
   {
    "duration": 14,
    "start_time": "2022-03-15T14:38:49.146Z"
   },
   {
    "duration": 16,
    "start_time": "2022-03-15T14:38:49.162Z"
   },
   {
    "duration": 15,
    "start_time": "2022-03-15T14:38:49.180Z"
   },
   {
    "duration": 8,
    "start_time": "2022-03-15T14:38:49.198Z"
   },
   {
    "duration": 41,
    "start_time": "2022-03-15T14:38:49.208Z"
   },
   {
    "duration": 9,
    "start_time": "2022-03-15T14:38:49.251Z"
   },
   {
    "duration": 4,
    "start_time": "2022-03-15T14:38:49.262Z"
   },
   {
    "duration": 25,
    "start_time": "2022-03-15T14:38:49.267Z"
   },
   {
    "duration": 13,
    "start_time": "2022-03-15T14:38:49.294Z"
   },
   {
    "duration": 43,
    "start_time": "2022-03-15T14:38:49.309Z"
   },
   {
    "duration": 14,
    "start_time": "2022-03-15T14:38:49.354Z"
   },
   {
    "duration": 9,
    "start_time": "2022-03-15T14:38:49.370Z"
   },
   {
    "duration": 5,
    "start_time": "2022-03-15T14:38:49.381Z"
   },
   {
    "duration": 11,
    "start_time": "2022-03-15T14:38:49.387Z"
   },
   {
    "duration": 39,
    "start_time": "2022-03-15T14:38:49.400Z"
   }
  ],
  "colab": {
   "collapsed_sections": [
    "E0vqbgi9ay0H",
    "VUC88oWjTJw2"
   ],
   "name": "yandex_music_project_2021.2.ipynb",
   "provenance": []
  },
  "kernelspec": {
   "display_name": "Python 3 (ipykernel)",
   "language": "python",
   "name": "python3"
  },
  "language_info": {
   "codemirror_mode": {
    "name": "ipython",
    "version": 3
   },
   "file_extension": ".py",
   "mimetype": "text/x-python",
   "name": "python",
   "nbconvert_exporter": "python",
   "pygments_lexer": "ipython3",
   "version": "3.10.2"
  },
  "toc": {
   "base_numbering": 1,
   "nav_menu": {},
   "number_sections": true,
   "sideBar": true,
   "skip_h1_title": true,
   "title_cell": "Table of Contents",
   "title_sidebar": "Contents",
   "toc_cell": false,
   "toc_position": {
    "height": "calc(100% - 180px)",
    "left": "10px",
    "top": "150px",
    "width": "304.391px"
   },
   "toc_section_display": true,
   "toc_window_display": true
  }
 },
 "nbformat": 4,
 "nbformat_minor": 1
}
