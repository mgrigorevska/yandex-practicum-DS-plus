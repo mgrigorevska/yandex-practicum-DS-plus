{
 "cells": [
  {
   "cell_type": "markdown",
   "metadata": {},
   "source": [
    "# Защита персональных данных клиентов"
   ]
  },
  {
   "cell_type": "markdown",
   "metadata": {},
   "source": [
    "Вам нужно защитить данные клиентов страховой компании - pазработать такой метод преобразования данных, чтобы по ним было сложно восстановить персональную информацию и обосновать корректность его работы.\n",
    "\n",
    "Нужно защитить данные, чтобы при преобразовании качество моделей машинного обучения не ухудшилось. Подбирать наилучшую модель не требуется."
   ]
  },
  {
   "cell_type": "markdown",
   "metadata": {},
   "source": [
    "## Загрузка данных"
   ]
  },
  {
   "cell_type": "code",
   "execution_count": 1,
   "metadata": {},
   "outputs": [],
   "source": [
    "import pandas as pd\n",
    "import numpy as np\n",
    "import seaborn as sns\n",
    "import matplotlib.pyplot as plt\n",
    "\n",
    "from random import random\n",
    "from sklearn.model_selection import train_test_split\n",
    "from sklearn.linear_model import LinearRegression\n",
    "from sklearn.metrics import r2_score"
   ]
  },
  {
   "cell_type": "code",
   "execution_count": 2,
   "metadata": {},
   "outputs": [
    {
     "name": "stdout",
     "output_type": "stream",
     "text": [
      "<class 'pandas.core.frame.DataFrame'>\n",
      "RangeIndex: 5000 entries, 0 to 4999\n",
      "Data columns (total 5 columns):\n",
      " #   Column             Non-Null Count  Dtype  \n",
      "---  ------             --------------  -----  \n",
      " 0   Пол                5000 non-null   int64  \n",
      " 1   Возраст            5000 non-null   float64\n",
      " 2   Зарплата           5000 non-null   float64\n",
      " 3   Члены семьи        5000 non-null   int64  \n",
      " 4   Страховые выплаты  5000 non-null   int64  \n",
      "dtypes: float64(2), int64(3)\n",
      "memory usage: 195.4 KB\n"
     ]
    }
   ],
   "source": [
    "df = pd.read_csv('***')\n",
    "df.info()"
   ]
  },
  {
   "cell_type": "code",
   "execution_count": 3,
   "metadata": {},
   "outputs": [
    {
     "data": {
      "text/html": [
       "<div>\n",
       "<style scoped>\n",
       "    .dataframe tbody tr th:only-of-type {\n",
       "        vertical-align: middle;\n",
       "    }\n",
       "\n",
       "    .dataframe tbody tr th {\n",
       "        vertical-align: top;\n",
       "    }\n",
       "\n",
       "    .dataframe thead th {\n",
       "        text-align: right;\n",
       "    }\n",
       "</style>\n",
       "<table border=\"1\" class=\"dataframe\">\n",
       "  <thead>\n",
       "    <tr style=\"text-align: right;\">\n",
       "      <th></th>\n",
       "      <th>Пол</th>\n",
       "      <th>Возраст</th>\n",
       "      <th>Зарплата</th>\n",
       "      <th>Члены семьи</th>\n",
       "      <th>Страховые выплаты</th>\n",
       "    </tr>\n",
       "  </thead>\n",
       "  <tbody>\n",
       "    <tr>\n",
       "      <th>0</th>\n",
       "      <td>1</td>\n",
       "      <td>41.0</td>\n",
       "      <td>49600.0</td>\n",
       "      <td>1</td>\n",
       "      <td>0</td>\n",
       "    </tr>\n",
       "    <tr>\n",
       "      <th>1</th>\n",
       "      <td>0</td>\n",
       "      <td>46.0</td>\n",
       "      <td>38000.0</td>\n",
       "      <td>1</td>\n",
       "      <td>1</td>\n",
       "    </tr>\n",
       "    <tr>\n",
       "      <th>2</th>\n",
       "      <td>0</td>\n",
       "      <td>29.0</td>\n",
       "      <td>21000.0</td>\n",
       "      <td>0</td>\n",
       "      <td>0</td>\n",
       "    </tr>\n",
       "    <tr>\n",
       "      <th>3</th>\n",
       "      <td>0</td>\n",
       "      <td>21.0</td>\n",
       "      <td>41700.0</td>\n",
       "      <td>2</td>\n",
       "      <td>0</td>\n",
       "    </tr>\n",
       "    <tr>\n",
       "      <th>4</th>\n",
       "      <td>1</td>\n",
       "      <td>28.0</td>\n",
       "      <td>26100.0</td>\n",
       "      <td>0</td>\n",
       "      <td>0</td>\n",
       "    </tr>\n",
       "  </tbody>\n",
       "</table>\n",
       "</div>"
      ],
      "text/plain": [
       "   Пол  Возраст  Зарплата  Члены семьи  Страховые выплаты\n",
       "0    1     41.0   49600.0            1                  0\n",
       "1    0     46.0   38000.0            1                  1\n",
       "2    0     29.0   21000.0            0                  0\n",
       "3    0     21.0   41700.0            2                  0\n",
       "4    1     28.0   26100.0            0                  0"
      ]
     },
     "execution_count": 3,
     "metadata": {},
     "output_type": "execute_result"
    }
   ],
   "source": [
    "df.head()"
   ]
  },
  {
   "cell_type": "markdown",
   "metadata": {},
   "source": [
    "Посмотрим на распределение признаков с помощью гистограмм:"
   ]
  },
  {
   "cell_type": "code",
   "execution_count": 4,
   "metadata": {},
   "outputs": [
    {
     "data": {
      "image/png": "[encoded data removed]",
      "text/plain": [
       "<Figure size 360x360 with 1 Axes>"
      ]
     },
     "metadata": {
      "needs_background": "light"
     },
     "output_type": "display_data"
    }
   ],
   "source": [
    "fig, ax = plt.subplots(figsize=(5, 5))\n",
    "df['Пол'].value_counts(normalize=True).plot(kind='bar') \n",
    "ax.set_title('Распределение по полу')\n",
    "plt.xlabel('Пол');"
   ]
  },
  {
   "cell_type": "code",
   "execution_count": 5,
   "metadata": {},
   "outputs": [
    {
     "data": {
      "image/png": "[encoded data removed]",
      "text/plain": [
       "<Figure size 720x360 with 1 Axes>"
      ]
     },
     "metadata": {
      "needs_background": "light"
     },
     "output_type": "display_data"
    }
   ],
   "source": [
    "fig, ax = plt.subplots(figsize=(10, 5))\n",
    "sns.histplot(df['Возраст'], bins=len(df['Возраст'].unique()))\n",
    "ax.set_title('Распределение по возрасту')\n",
    "plt.xlabel('Возраст')\n",
    "plt.ylabel('Количество');"
   ]
  },
  {
   "cell_type": "code",
   "execution_count": 6,
   "metadata": {},
   "outputs": [
    {
     "data": {
      "image/png": "[encoded data removed]",
      "text/plain": [
       "<Figure size 720x360 with 1 Axes>"
      ]
     },
     "metadata": {
      "needs_background": "light"
     },
     "output_type": "display_data"
    }
   ],
   "source": [
    "fig, ax = plt.subplots(figsize=(10, 5))\n",
    "sns.histplot(df['Зарплата'])\n",
    "ax.set_title('Распределение по зарплате')\n",
    "plt.xlabel('Зарплата')\n",
    "plt.ylabel('Количество');"
   ]
  },
  {
   "cell_type": "code",
   "execution_count": 7,
   "metadata": {},
   "outputs": [
    {
     "data": {
      "image/png": "[encoded data removed]",
      "text/plain": [
       "<Figure size 720x360 with 1 Axes>"
      ]
     },
     "metadata": {
      "needs_background": "light"
     },
     "output_type": "display_data"
    }
   ],
   "source": [
    "fig, ax = plt.subplots(figsize=(10, 5))\n",
    "sns.histplot(df['Страховые выплаты'])\n",
    "ax.set_title('Распределение по числу страховых выплат')\n",
    "plt.xlabel('Число выплат')\n",
    "plt.ylabel('Количество');"
   ]
  },
  {
   "cell_type": "markdown",
   "metadata": {},
   "source": [
    "Можно сделать вывод, что признаки распределены без выбросов и аномалий.\n",
    "\n",
    "Далее посмотрим на взаимосвязь признаков:"
   ]
  },
  {
   "cell_type": "code",
   "execution_count": 8,
   "metadata": {},
   "outputs": [
    {
     "data": {
      "image/png": "[encoded data removed]",
      "text/plain": [
       "<Figure size 504x504 with 2 Axes>"
      ]
     },
     "metadata": {
      "needs_background": "light"
     },
     "output_type": "display_data"
    }
   ],
   "source": [
    "fig, ax = plt.subplots(figsize=(7,7)) \n",
    "sns.heatmap(df.corr(),annot = True, fmt = '.2g', ax=ax, square=True)\n",
    "plt.title('Взаимосвязь признаков')\n",
    "plt.show() "
   ]
  },
  {
   "cell_type": "code",
   "execution_count": 9,
   "metadata": {},
   "outputs": [
    {
     "data": {
      "text/plain": [
       "0.6510300979467255"
      ]
     },
     "execution_count": 9,
     "metadata": {},
     "output_type": "execute_result"
    }
   ],
   "source": [
    "df['Страховые выплаты'].corr(df['Возраст'])"
   ]
  },
  {
   "cell_type": "markdown",
   "metadata": {},
   "source": [
    "Можно сделать вывод, что больше всего на целевой признак оказывает влияние возраст клиента - коэффициент корреляции равен 0.65, то есть эти признаки можно назвать коллинеарными. "
   ]
  },
  {
   "cell_type": "markdown",
   "metadata": {},
   "source": [
    "## Умножение матриц"
   ]
  },
  {
   "cell_type": "markdown",
   "metadata": {},
   "source": [
    "Обозначения:\n",
    "\n",
    "- $X$ — матрица признаков (нулевой столбец состоит из единиц)\n",
    "\n",
    "- $y$ — вектор целевого признака\n",
    "\n",
    "- $P$ — матрица, на которую умножаются признаки\n",
    "\n",
    "- $w$ — вектор весов линейной регрессии (нулевой элемент равен сдвигу)"
   ]
  },
  {
   "cell_type": "markdown",
   "metadata": {},
   "source": [
    "Предсказания:\n",
    "\n",
    "$$\n",
    "a = Xw\n",
    "$$\n",
    "\n",
    "Задача обучения:\n",
    "\n",
    "$$\n",
    "w = \\arg\\min_w MSE(Xw, y)\n",
    "$$\n",
    "\n",
    "Формула обучения:\n",
    "\n",
    "$$\n",
    "w = (X^T X)^{-1} X^T y\n",
    "$$"
   ]
  },
  {
   "cell_type": "markdown",
   "metadata": {},
   "source": [
    "**Ответ:** при умножении на обратимую матрицу качество модели не изменится - значение метрики остаётся прежним.\n",
    "\n",
    "**Обоснование:**  \n",
    "\n",
    "Умножим матрицу признаков $X$ на cлучайную обратимую матрицу $P$:\n",
    "\n",
    "    \n",
    "$$\n",
    "w_P = ((XP)^T XP)^{-1} (XP)^T y\n",
    "$$   \n",
    "\n",
    "Раскроем произведения в скобках:\n",
    "$$\n",
    "w_P = (P^TX^TXP)^{-1} P^TX^T y\n",
    "$$  \n",
    "\n",
    "Представим произведение в скобках как произведение 3х матриц:\n",
    "$$\n",
    "w_P = (P^T(X^TX)P)^{-1} P^TX^T y\n",
    "$$  \n",
    "\n",
    "Раскроем скобки:\n",
    "$$\n",
    "w_P = P^{-1}(X^T X)^{-1}(P^T)^{-1} P^TX^T y\n",
    "$$  \n",
    "\n",
    "Видим $(P^T)^{-1}$ и $P^T$, тк матрица обратимая, то их произведение равно единичной матрице:\n",
    "$$\n",
    "w_P = P^{-1}(X^T X)^{-1} X^Ty\n",
    "$$  \n",
    "\n",
    "Таким образом, \n",
    "$$ \n",
    "w_P = P^{-1}w\n",
    "$$ \n",
    "\n",
    "\n",
    "Далее подставляем новое значение в формулу для нахождения предсказаний:\n",
    "\n",
    "$$\n",
    "a_P = XPw_P = XP P^{-1}w\n",
    "$$\n",
    "\n",
    "Также сокращаем $P^{-1}$ и $P$ и получаем\n",
    "\n",
    "$$\n",
    "a_P = Xw = a\n",
    "$$\n",
    "\n",
    "Значения предсказаний останутся прежними, соответственно и значения метрик совпадут."
   ]
  },
  {
   "cell_type": "markdown",
   "metadata": {},
   "source": [
    "## Алгоритм преобразования"
   ]
  },
  {
   "cell_type": "markdown",
   "metadata": {},
   "source": [
    "**Алгоритм**\n",
    "\n",
    "- создать случайную матрицу;\n",
    "- проверить ее на обратимость;\n",
    "- умножить признаки на полученную матрицу;\n",
    "- найти метрику R2 на исходных и преобразованных данных и сравнить между собой."
   ]
  },
  {
   "cell_type": "markdown",
   "metadata": {},
   "source": [
    "## Проверка алгоритма"
   ]
  },
  {
   "cell_type": "markdown",
   "metadata": {},
   "source": [
    "Разобьем данные на обучающую и тестовую выборки и определим признаки:"
   ]
  },
  {
   "cell_type": "code",
   "execution_count": 10,
   "metadata": {},
   "outputs": [],
   "source": [
    "df_train, df_test = train_test_split(df, test_size=0.4, random_state=12345)"
   ]
  },
  {
   "cell_type": "code",
   "execution_count": 11,
   "metadata": {},
   "outputs": [],
   "source": [
    "features_test_init = df_test.drop(['Страховые выплаты'], axis=1)\n",
    "target_test = df_test['Страховые выплаты']\n",
    "\n",
    "features_train_init = df_train.drop(['Страховые выплаты'], axis=1)\n",
    "target_train = df_train['Страховые выплаты']"
   ]
  },
  {
   "cell_type": "markdown",
   "metadata": {},
   "source": [
    "Обучим модель линейной регрессии на исходных данных и найдем значение метрики R2:"
   ]
  },
  {
   "cell_type": "code",
   "execution_count": 12,
   "metadata": {},
   "outputs": [],
   "source": [
    "model = LinearRegression() \n",
    "model.fit(features_train_init, target_train) \n",
    "predictions_test = model.predict(features_test_init) \n",
    "r2_init = r2_score(target_test, predictions_test)"
   ]
  },
  {
   "cell_type": "markdown",
   "metadata": {},
   "source": [
    "Далее создадим обратимую матрицу с размерностью, равной числу признаков. Для этого будем генерировать случайные матрицы, пока не получим матрицу с ненулевым детерминантом:"
   ]
  },
  {
   "cell_type": "code",
   "execution_count": 13,
   "metadata": {},
   "outputs": [],
   "source": [
    "det = 0\n",
    "while det == 0:\n",
    "    random_matrix = np.random.randint(500, size=(features_test_init.shape[1], features_test_init.shape[1]))\n",
    "    det = np.linalg.det(random_matrix) "
   ]
  },
  {
   "cell_type": "code",
   "execution_count": 14,
   "metadata": {
    "scrolled": true
   },
   "outputs": [
    {
     "data": {
      "text/plain": [
       "array([[267, 232,  31, 117],\n",
       "       [ 42, 249,  12, 280],\n",
       "       [ 82, 290, 360,  29],\n",
       "       [ 71, 431,  13, 491]])"
      ]
     },
     "execution_count": 14,
     "metadata": {},
     "output_type": "execute_result"
    }
   ],
   "source": [
    "random_matrix"
   ]
  },
  {
   "cell_type": "markdown",
   "metadata": {
    "scrolled": true
   },
   "source": [
    "Умножим признаки на созданную случайную матрицу:"
   ]
  },
  {
   "cell_type": "code",
   "execution_count": 16,
   "metadata": {
    "scrolled": true
   },
   "outputs": [
    {
     "data": {
      "text/html": [
       "<div>\n",
       "<style scoped>\n",
       "    .dataframe tbody tr th:only-of-type {\n",
       "        vertical-align: middle;\n",
       "    }\n",
       "\n",
       "    .dataframe tbody tr th {\n",
       "        vertical-align: top;\n",
       "    }\n",
       "\n",
       "    .dataframe thead th {\n",
       "        text-align: right;\n",
       "    }\n",
       "</style>\n",
       "<table border=\"1\" class=\"dataframe\">\n",
       "  <thead>\n",
       "    <tr style=\"text-align: right;\">\n",
       "      <th></th>\n",
       "      <th>0</th>\n",
       "      <th>1</th>\n",
       "      <th>2</th>\n",
       "      <th>3</th>\n",
       "    </tr>\n",
       "  </thead>\n",
       "  <tbody>\n",
       "    <tr>\n",
       "      <th>3183</th>\n",
       "      <td>3199670.0</td>\n",
       "      <td>11319941.0</td>\n",
       "      <td>14040448.0</td>\n",
       "      <td>1142204.0</td>\n",
       "    </tr>\n",
       "    <tr>\n",
       "      <th>1071</th>\n",
       "      <td>3536442.0</td>\n",
       "      <td>12512312.0</td>\n",
       "      <td>15516626.0</td>\n",
       "      <td>1264882.0</td>\n",
       "    </tr>\n",
       "    <tr>\n",
       "      <th>2640</th>\n",
       "      <td>3454105.0</td>\n",
       "      <td>12218943.0</td>\n",
       "      <td>15156499.0</td>\n",
       "      <td>1231937.0</td>\n",
       "    </tr>\n",
       "    <tr>\n",
       "      <th>2282</th>\n",
       "      <td>2854440.0</td>\n",
       "      <td>10096980.0</td>\n",
       "      <td>12528240.0</td>\n",
       "      <td>1014800.0</td>\n",
       "    </tr>\n",
       "    <tr>\n",
       "      <th>1595</th>\n",
       "      <td>3282006.0</td>\n",
       "      <td>11611933.0</td>\n",
       "      <td>14400544.0</td>\n",
       "      <td>1173444.0</td>\n",
       "    </tr>\n",
       "  </tbody>\n",
       "</table>\n",
       "</div>"
      ],
      "text/plain": [
       "              0           1           2          3\n",
       "3183  3199670.0  11319941.0  14040448.0  1142204.0\n",
       "1071  3536442.0  12512312.0  15516626.0  1264882.0\n",
       "2640  3454105.0  12218943.0  15156499.0  1231937.0\n",
       "2282  2854440.0  10096980.0  12528240.0  1014800.0\n",
       "1595  3282006.0  11611933.0  14400544.0  1173444.0"
      ]
     },
     "execution_count": 16,
     "metadata": {},
     "output_type": "execute_result"
    }
   ],
   "source": [
    "features_test_conv = features_test_init.dot(random_matrix)\n",
    "features_train_conv = features_train_init.dot(random_matrix)\n",
    "features_test_conv.head()"
   ]
  },
  {
   "cell_type": "markdown",
   "metadata": {},
   "source": [
    "Расшифровать данные можно, умножив на матрицу, обратную к созданной, и округлив значения:"
   ]
  },
  {
   "cell_type": "code",
   "execution_count": 17,
   "metadata": {},
   "outputs": [
    {
     "data": {
      "text/html": [
       "<div>\n",
       "<style scoped>\n",
       "    .dataframe tbody tr th:only-of-type {\n",
       "        vertical-align: middle;\n",
       "    }\n",
       "\n",
       "    .dataframe tbody tr th {\n",
       "        vertical-align: top;\n",
       "    }\n",
       "\n",
       "    .dataframe thead th {\n",
       "        text-align: right;\n",
       "    }\n",
       "</style>\n",
       "<table border=\"1\" class=\"dataframe\">\n",
       "  <thead>\n",
       "    <tr style=\"text-align: right;\">\n",
       "      <th></th>\n",
       "      <th>0</th>\n",
       "      <th>1</th>\n",
       "      <th>2</th>\n",
       "      <th>3</th>\n",
       "    </tr>\n",
       "  </thead>\n",
       "  <tbody>\n",
       "    <tr>\n",
       "      <th>3183</th>\n",
       "      <td>0.0</td>\n",
       "      <td>33.0</td>\n",
       "      <td>39000.0</td>\n",
       "      <td>4.0</td>\n",
       "    </tr>\n",
       "    <tr>\n",
       "      <th>1071</th>\n",
       "      <td>0.0</td>\n",
       "      <td>50.0</td>\n",
       "      <td>43100.0</td>\n",
       "      <td>2.0</td>\n",
       "    </tr>\n",
       "    <tr>\n",
       "      <th>2640</th>\n",
       "      <td>1.0</td>\n",
       "      <td>39.0</td>\n",
       "      <td>42100.0</td>\n",
       "      <td>-0.0</td>\n",
       "    </tr>\n",
       "    <tr>\n",
       "      <th>2282</th>\n",
       "      <td>0.0</td>\n",
       "      <td>20.0</td>\n",
       "      <td>34800.0</td>\n",
       "      <td>-0.0</td>\n",
       "    </tr>\n",
       "    <tr>\n",
       "      <th>1595</th>\n",
       "      <td>0.0</td>\n",
       "      <td>41.0</td>\n",
       "      <td>40000.0</td>\n",
       "      <td>4.0</td>\n",
       "    </tr>\n",
       "  </tbody>\n",
       "</table>\n",
       "</div>"
      ],
      "text/plain": [
       "        0     1        2    3\n",
       "3183  0.0  33.0  39000.0  4.0\n",
       "1071  0.0  50.0  43100.0  2.0\n",
       "2640  1.0  39.0  42100.0 -0.0\n",
       "2282  0.0  20.0  34800.0 -0.0\n",
       "1595  0.0  41.0  40000.0  4.0"
      ]
     },
     "execution_count": 17,
     "metadata": {},
     "output_type": "execute_result"
    }
   ],
   "source": [
    "np.round(features_test_conv.dot(np.linalg.inv(random_matrix))).head()"
   ]
  },
  {
   "cell_type": "markdown",
   "metadata": {},
   "source": [
    "Обучим модель линейной регрессии на преобразованных данных и сравним значение метрики R2:"
   ]
  },
  {
   "cell_type": "code",
   "execution_count": 18,
   "metadata": {},
   "outputs": [
    {
     "name": "stdout",
     "output_type": "stream",
     "text": [
      "R2 модели на исходных данных:        0.4237517772621274\n",
      "R2 модели на преобразованных данных: 0.42375177725680335\n",
      "Pазница: -5.324074514589938e-12\n"
     ]
    }
   ],
   "source": [
    "model = LinearRegression() \n",
    "model.fit(features_train_conv, target_train) \n",
    "predictions_test = model.predict(features_test_conv) \n",
    "r2_conv = r2_score(target_test, predictions_test)\n",
    "print('R2 модели на исходных данных:       ', r2_conv)\n",
    "print('R2 модели на преобразованных данных:', r2_init)\n",
    "print('Pазница:', r2_init-r2_conv)"
   ]
  },
  {
   "cell_type": "markdown",
   "metadata": {},
   "source": [
    "Значения метрики R2 практически совпадают, качество регрессии не меняется."
   ]
  },
  {
   "cell_type": "markdown",
   "metadata": {},
   "source": [
    "## Вывод"
   ]
  },
  {
   "cell_type": "markdown",
   "metadata": {},
   "source": [
    "По результатам проведенного исследования можно сделать вывод, что предложенный алгоритм выполняет поставленную задачу - при умножении матрицы признаков на случайную обратимую матрицу, визуально данные искажаются, но качество регрессии не меняется."
   ]
  }
 ],
 "metadata": {
  "ExecuteTimeLog": [
   {
    "duration": 433,
    "start_time": "2022-11-01T15:47:48.216Z"
   },
   {
    "duration": 90,
    "start_time": "2022-11-01T15:49:04.055Z"
   },
   {
    "duration": 47,
    "start_time": "2022-11-01T15:49:07.178Z"
   },
   {
    "duration": 38,
    "start_time": "2022-11-01T15:49:44.492Z"
   },
   {
    "duration": 8,
    "start_time": "2022-11-01T15:50:13.807Z"
   },
   {
    "duration": 46,
    "start_time": "2022-12-09T15:33:29.446Z"
   },
   {
    "duration": 1097,
    "start_time": "2022-12-09T15:33:46.815Z"
   },
   {
    "duration": 128,
    "start_time": "2022-12-09T15:33:47.914Z"
   },
   {
    "duration": 5,
    "start_time": "2022-12-09T15:33:48.044Z"
   },
   {
    "duration": 5,
    "start_time": "2022-12-09T15:34:53.887Z"
   },
   {
    "duration": 67,
    "start_time": "2022-12-09T15:35:56.335Z"
   },
   {
    "duration": 13,
    "start_time": "2022-12-09T15:36:23.242Z"
   },
   {
    "duration": 14,
    "start_time": "2022-12-09T15:36:29.514Z"
   },
   {
    "duration": 13,
    "start_time": "2022-12-09T15:36:37.693Z"
   },
   {
    "duration": 3,
    "start_time": "2022-12-09T15:36:56.249Z"
   },
   {
    "duration": 14,
    "start_time": "2022-12-09T15:36:59.445Z"
   },
   {
    "duration": 17,
    "start_time": "2022-12-09T15:37:06.858Z"
   },
   {
    "duration": 3,
    "start_time": "2022-12-09T15:38:15.811Z"
   },
   {
    "duration": 36,
    "start_time": "2022-12-09T15:38:16.284Z"
   },
   {
    "duration": 5,
    "start_time": "2022-12-09T15:38:16.581Z"
   },
   {
    "duration": 5,
    "start_time": "2022-12-09T15:38:16.948Z"
   },
   {
    "duration": 8,
    "start_time": "2022-12-09T15:38:17.261Z"
   },
   {
    "duration": 9,
    "start_time": "2022-12-09T15:38:33.500Z"
   },
   {
    "duration": 14,
    "start_time": "2022-12-09T15:40:11.921Z"
   },
   {
    "duration": 3,
    "start_time": "2022-12-09T15:40:14.815Z"
   },
   {
    "duration": 39,
    "start_time": "2022-12-09T15:40:15.244Z"
   },
   {
    "duration": 6,
    "start_time": "2022-12-09T15:40:15.526Z"
   },
   {
    "duration": 5,
    "start_time": "2022-12-09T15:40:15.818Z"
   },
   {
    "duration": 11,
    "start_time": "2022-12-09T15:40:16.597Z"
   },
   {
    "duration": 13,
    "start_time": "2022-12-09T15:40:26.214Z"
   },
   {
    "duration": 3,
    "start_time": "2022-12-09T15:41:59.632Z"
   },
   {
    "duration": 16,
    "start_time": "2022-12-09T15:43:05.485Z"
   },
   {
    "duration": 3,
    "start_time": "2022-12-09T15:45:15.372Z"
   },
   {
    "duration": 11,
    "start_time": "2022-12-09T15:46:21.211Z"
   },
   {
    "duration": 3,
    "start_time": "2022-12-09T15:46:37.324Z"
   },
   {
    "duration": 9,
    "start_time": "2022-12-09T15:46:38.472Z"
   },
   {
    "duration": 3,
    "start_time": "2022-12-09T15:47:06.426Z"
   },
   {
    "duration": 8,
    "start_time": "2022-12-09T15:47:46.246Z"
   },
   {
    "duration": 3,
    "start_time": "2022-12-09T15:48:14.151Z"
   },
   {
    "duration": 8,
    "start_time": "2022-12-09T15:48:14.625Z"
   },
   {
    "duration": 205,
    "start_time": "2022-12-09T15:48:15.108Z"
   },
   {
    "duration": 2,
    "start_time": "2022-12-09T15:48:59.621Z"
   },
   {
    "duration": 9,
    "start_time": "2022-12-09T15:49:00.218Z"
   },
   {
    "duration": 197,
    "start_time": "2022-12-09T15:49:00.616Z"
   },
   {
    "duration": 3,
    "start_time": "2022-12-09T15:49:21.222Z"
   },
   {
    "duration": 5,
    "start_time": "2022-12-09T15:49:21.986Z"
   },
   {
    "duration": 15,
    "start_time": "2022-12-09T15:49:22.311Z"
   },
   {
    "duration": 9,
    "start_time": "2022-12-09T15:50:09.895Z"
   },
   {
    "duration": 3,
    "start_time": "2022-12-09T15:50:11.823Z"
   },
   {
    "duration": 4,
    "start_time": "2022-12-09T15:50:12.211Z"
   },
   {
    "duration": 54,
    "start_time": "2022-12-09T15:50:12.561Z"
   },
   {
    "duration": 8,
    "start_time": "2022-12-09T15:50:42.269Z"
   },
   {
    "duration": 3,
    "start_time": "2022-12-09T15:50:56.885Z"
   },
   {
    "duration": 12,
    "start_time": "2022-12-09T15:50:57.243Z"
   },
   {
    "duration": 134,
    "start_time": "2022-12-09T15:50:57.588Z"
   },
   {
    "duration": 5,
    "start_time": "2022-12-09T15:51:02.601Z"
   },
   {
    "duration": 2491,
    "start_time": "2022-12-09T15:51:02.931Z"
   },
   {
    "duration": 47,
    "start_time": "2022-12-09T15:51:17.166Z"
   },
   {
    "duration": 6,
    "start_time": "2022-12-09T15:51:17.688Z"
   },
   {
    "duration": 7,
    "start_time": "2022-12-09T15:51:19.076Z"
   },
   {
    "duration": 1267,
    "start_time": "2022-12-09T15:51:30.788Z"
   },
   {
    "duration": 130,
    "start_time": "2022-12-09T15:51:32.057Z"
   },
   {
    "duration": 16,
    "start_time": "2022-12-09T15:51:32.189Z"
   },
   {
    "duration": 7,
    "start_time": "2022-12-09T15:51:32.207Z"
   },
   {
    "duration": 9,
    "start_time": "2022-12-09T15:51:32.216Z"
   },
   {
    "duration": 15,
    "start_time": "2022-12-09T15:51:32.227Z"
   },
   {
    "duration": 3,
    "start_time": "2022-12-09T15:51:32.244Z"
   },
   {
    "duration": 165,
    "start_time": "2022-12-09T15:51:32.249Z"
   },
   {
    "duration": 1299,
    "start_time": "2022-12-09T15:51:32.416Z"
   },
   {
    "duration": 99,
    "start_time": "2022-12-09T16:00:28.400Z"
   },
   {
    "duration": 3,
    "start_time": "2022-12-09T16:00:49.883Z"
   },
   {
    "duration": 14,
    "start_time": "2022-12-09T16:00:50.362Z"
   },
   {
    "duration": 10,
    "start_time": "2022-12-09T16:02:13.824Z"
   },
   {
    "duration": 3,
    "start_time": "2022-12-09T16:02:22.096Z"
   },
   {
    "duration": 21,
    "start_time": "2022-12-09T16:02:22.436Z"
   },
   {
    "duration": 5,
    "start_time": "2022-12-09T16:13:51.195Z"
   },
   {
    "duration": 11,
    "start_time": "2022-12-09T16:13:53.854Z"
   },
   {
    "duration": 1281,
    "start_time": "2022-12-09T16:13:54.534Z"
   },
   {
    "duration": 4,
    "start_time": "2022-12-09T16:13:59.104Z"
   },
   {
    "duration": 13,
    "start_time": "2022-12-09T16:13:59.788Z"
   },
   {
    "duration": 1029,
    "start_time": "2022-12-09T16:14:01.292Z"
   },
   {
    "duration": 6,
    "start_time": "2022-12-09T16:14:05.610Z"
   },
   {
    "duration": 18,
    "start_time": "2022-12-09T16:14:06.339Z"
   },
   {
    "duration": 1268,
    "start_time": "2022-12-09T16:14:06.850Z"
   },
   {
    "duration": 6,
    "start_time": "2022-12-09T16:14:12.781Z"
   },
   {
    "duration": 18,
    "start_time": "2022-12-09T16:14:13.496Z"
   },
   {
    "duration": 1208,
    "start_time": "2022-12-09T16:14:14.009Z"
   },
   {
    "duration": 4,
    "start_time": "2022-12-09T16:14:17.261Z"
   },
   {
    "duration": 27,
    "start_time": "2022-12-09T16:14:17.888Z"
   },
   {
    "duration": 1093,
    "start_time": "2022-12-09T16:14:18.426Z"
   },
   {
    "duration": 1174,
    "start_time": "2022-12-09T16:14:33.337Z"
   },
   {
    "duration": 38,
    "start_time": "2022-12-09T16:14:34.514Z"
   },
   {
    "duration": 17,
    "start_time": "2022-12-09T16:14:34.554Z"
   },
   {
    "duration": 6,
    "start_time": "2022-12-09T16:14:34.574Z"
   },
   {
    "duration": 6,
    "start_time": "2022-12-09T16:14:34.583Z"
   },
   {
    "duration": 26,
    "start_time": "2022-12-09T16:14:34.591Z"
   },
   {
    "duration": 6,
    "start_time": "2022-12-09T16:14:34.620Z"
   },
   {
    "duration": 20,
    "start_time": "2022-12-09T16:14:34.629Z"
   },
   {
    "duration": 1700,
    "start_time": "2022-12-09T16:14:34.714Z"
   },
   {
    "duration": 5,
    "start_time": "2022-12-09T16:16:27.317Z"
   },
   {
    "duration": 4,
    "start_time": "2022-12-09T16:16:29.010Z"
   },
   {
    "duration": 9,
    "start_time": "2022-12-09T16:16:29.605Z"
   },
   {
    "duration": 1333,
    "start_time": "2022-12-09T16:16:39.917Z"
   },
   {
    "duration": 37,
    "start_time": "2022-12-09T16:16:41.253Z"
   },
   {
    "duration": 17,
    "start_time": "2022-12-09T16:16:41.292Z"
   },
   {
    "duration": 24,
    "start_time": "2022-12-09T16:16:41.311Z"
   },
   {
    "duration": 30,
    "start_time": "2022-12-09T16:16:41.337Z"
   },
   {
    "duration": 34,
    "start_time": "2022-12-09T16:16:41.369Z"
   },
   {
    "duration": 27,
    "start_time": "2022-12-09T16:16:41.406Z"
   },
   {
    "duration": 15,
    "start_time": "2022-12-09T16:16:41.436Z"
   },
   {
    "duration": 27,
    "start_time": "2022-12-09T16:16:41.453Z"
   },
   {
    "duration": 6,
    "start_time": "2022-12-09T16:16:48.669Z"
   },
   {
    "duration": 5,
    "start_time": "2022-12-09T16:16:49.751Z"
   },
   {
    "duration": 8,
    "start_time": "2022-12-09T16:16:50.187Z"
   },
   {
    "duration": 9,
    "start_time": "2022-12-09T16:20:03.931Z"
   },
   {
    "duration": 104,
    "start_time": "2022-12-09T16:23:06.776Z"
   },
   {
    "duration": 5,
    "start_time": "2022-12-09T16:23:09.879Z"
   },
   {
    "duration": 10,
    "start_time": "2022-12-09T16:23:11.218Z"
   },
   {
    "duration": 5,
    "start_time": "2022-12-09T16:23:29.061Z"
   },
   {
    "duration": 5,
    "start_time": "2022-12-09T16:23:41.678Z"
   },
   {
    "duration": 4,
    "start_time": "2022-12-09T16:24:05.098Z"
   },
   {
    "duration": 5,
    "start_time": "2022-12-09T16:24:06.010Z"
   },
   {
    "duration": 5,
    "start_time": "2022-12-09T16:24:27.854Z"
   },
   {
    "duration": 3,
    "start_time": "2022-12-09T16:24:28.263Z"
   },
   {
    "duration": 9,
    "start_time": "2022-12-09T16:24:28.682Z"
   },
   {
    "duration": 5,
    "start_time": "2022-12-09T16:25:11.538Z"
   },
   {
    "duration": 10,
    "start_time": "2022-12-09T16:25:12.138Z"
   },
   {
    "duration": 5,
    "start_time": "2022-12-09T16:25:23.981Z"
   },
   {
    "duration": 4,
    "start_time": "2022-12-09T16:25:24.745Z"
   },
   {
    "duration": 9,
    "start_time": "2022-12-09T16:25:25.368Z"
   },
   {
    "duration": 1155,
    "start_time": "2022-12-20T10:14:57.112Z"
   },
   {
    "duration": 135,
    "start_time": "2022-12-20T10:14:58.269Z"
   },
   {
    "duration": 14,
    "start_time": "2022-12-20T10:14:58.406Z"
   },
   {
    "duration": 18,
    "start_time": "2022-12-20T10:14:58.422Z"
   },
   {
    "duration": 25,
    "start_time": "2022-12-20T10:14:58.442Z"
   },
   {
    "duration": 33,
    "start_time": "2022-12-20T10:14:58.469Z"
   },
   {
    "duration": 18,
    "start_time": "2022-12-20T10:14:58.504Z"
   },
   {
    "duration": 25,
    "start_time": "2022-12-20T10:14:58.524Z"
   },
   {
    "duration": 26,
    "start_time": "2022-12-20T10:14:58.551Z"
   },
   {
    "duration": 5,
    "start_time": "2022-12-20T13:46:19.321Z"
   },
   {
    "duration": 6,
    "start_time": "2022-12-20T13:46:52.134Z"
   },
   {
    "duration": 7,
    "start_time": "2022-12-20T13:47:58.941Z"
   },
   {
    "duration": 5,
    "start_time": "2022-12-20T13:48:47.972Z"
   },
   {
    "duration": 4,
    "start_time": "2022-12-20T13:49:11.730Z"
   },
   {
    "duration": 3,
    "start_time": "2022-12-20T13:51:05.656Z"
   },
   {
    "duration": 6,
    "start_time": "2022-12-20T13:51:13.991Z"
   },
   {
    "duration": 95,
    "start_time": "2022-12-20T13:52:22.406Z"
   },
   {
    "duration": 9,
    "start_time": "2022-12-20T13:52:26.275Z"
   },
   {
    "duration": 4,
    "start_time": "2022-12-20T13:52:27.013Z"
   },
   {
    "duration": 11,
    "start_time": "2022-12-20T13:52:42.545Z"
   },
   {
    "duration": 1100,
    "start_time": "2022-12-20T13:53:32.348Z"
   },
   {
    "duration": 39,
    "start_time": "2022-12-20T13:53:33.450Z"
   },
   {
    "duration": 16,
    "start_time": "2022-12-20T13:53:33.490Z"
   },
   {
    "duration": 5,
    "start_time": "2022-12-20T13:53:33.508Z"
   },
   {
    "duration": 7,
    "start_time": "2022-12-20T13:53:33.515Z"
   },
   {
    "duration": 13,
    "start_time": "2022-12-20T13:53:33.524Z"
   },
   {
    "duration": 5,
    "start_time": "2022-12-20T13:53:33.539Z"
   },
   {
    "duration": 5,
    "start_time": "2022-12-20T13:53:33.545Z"
   },
   {
    "duration": 9,
    "start_time": "2022-12-20T13:53:33.551Z"
   },
   {
    "duration": 3,
    "start_time": "2022-12-20T13:53:33.562Z"
   },
   {
    "duration": 5,
    "start_time": "2022-12-20T13:53:33.567Z"
   },
   {
    "duration": 6,
    "start_time": "2022-12-20T13:53:33.574Z"
   },
   {
    "duration": 107,
    "start_time": "2022-12-20T13:53:53.158Z"
   },
   {
    "duration": 4,
    "start_time": "2022-12-20T14:04:38.273Z"
   },
   {
    "duration": 10,
    "start_time": "2022-12-20T14:04:49.818Z"
   },
   {
    "duration": 4,
    "start_time": "2022-12-20T14:04:56.348Z"
   },
   {
    "duration": 119,
    "start_time": "2022-12-20T14:05:21.358Z"
   },
   {
    "duration": 6,
    "start_time": "2022-12-20T14:05:33.112Z"
   },
   {
    "duration": 5,
    "start_time": "2022-12-20T14:05:37.817Z"
   },
   {
    "duration": 6,
    "start_time": "2022-12-20T14:05:50.064Z"
   },
   {
    "duration": 5,
    "start_time": "2022-12-20T14:05:55.379Z"
   },
   {
    "duration": 1048,
    "start_time": "2022-12-23T09:57:32.019Z"
   },
   {
    "duration": 133,
    "start_time": "2022-12-23T09:57:33.069Z"
   },
   {
    "duration": 13,
    "start_time": "2022-12-23T09:57:33.203Z"
   },
   {
    "duration": 17,
    "start_time": "2022-12-23T09:57:33.218Z"
   },
   {
    "duration": 20,
    "start_time": "2022-12-23T09:57:33.237Z"
   },
   {
    "duration": 36,
    "start_time": "2022-12-23T09:57:33.258Z"
   },
   {
    "duration": 14,
    "start_time": "2022-12-23T09:57:33.296Z"
   },
   {
    "duration": 23,
    "start_time": "2022-12-23T09:57:33.312Z"
   },
   {
    "duration": 14,
    "start_time": "2022-12-23T09:57:33.337Z"
   },
   {
    "duration": 7,
    "start_time": "2022-12-23T10:03:02.458Z"
   },
   {
    "duration": 7,
    "start_time": "2022-12-23T10:03:15.234Z"
   },
   {
    "duration": 96,
    "start_time": "2022-12-23T10:06:19.375Z"
   },
   {
    "duration": 1135,
    "start_time": "2022-12-23T10:06:25.172Z"
   },
   {
    "duration": 37,
    "start_time": "2022-12-23T10:06:26.309Z"
   },
   {
    "duration": 15,
    "start_time": "2022-12-23T10:06:26.348Z"
   },
   {
    "duration": 4,
    "start_time": "2022-12-23T10:06:26.365Z"
   },
   {
    "duration": 6,
    "start_time": "2022-12-23T10:06:26.371Z"
   },
   {
    "duration": 12,
    "start_time": "2022-12-23T10:06:26.379Z"
   },
   {
    "duration": 13,
    "start_time": "2022-12-23T10:06:26.393Z"
   },
   {
    "duration": 5,
    "start_time": "2022-12-23T10:06:26.408Z"
   },
   {
    "duration": 112,
    "start_time": "2022-12-23T10:06:26.415Z"
   },
   {
    "duration": 6,
    "start_time": "2022-12-23T10:06:43.756Z"
   },
   {
    "duration": 7,
    "start_time": "2022-12-23T10:07:19.134Z"
   },
   {
    "duration": 1080,
    "start_time": "2022-12-23T10:16:45.999Z"
   },
   {
    "duration": 35,
    "start_time": "2022-12-23T10:16:47.081Z"
   },
   {
    "duration": 13,
    "start_time": "2022-12-23T10:16:47.118Z"
   },
   {
    "duration": 5,
    "start_time": "2022-12-23T10:16:47.133Z"
   },
   {
    "duration": 5,
    "start_time": "2022-12-23T10:16:47.140Z"
   },
   {
    "duration": 14,
    "start_time": "2022-12-23T10:16:47.146Z"
   },
   {
    "duration": 6,
    "start_time": "2022-12-23T10:16:47.161Z"
   },
   {
    "duration": 9,
    "start_time": "2022-12-23T10:16:47.169Z"
   },
   {
    "duration": 8,
    "start_time": "2022-12-23T10:16:47.179Z"
   },
   {
    "duration": 3,
    "start_time": "2022-12-23T10:20:21.624Z"
   },
   {
    "duration": 4,
    "start_time": "2022-12-23T10:20:26.640Z"
   },
   {
    "duration": 4,
    "start_time": "2022-12-23T10:20:50.619Z"
   },
   {
    "duration": 4,
    "start_time": "2022-12-23T10:20:59.971Z"
   },
   {
    "duration": 4,
    "start_time": "2022-12-23T10:21:16.070Z"
   },
   {
    "duration": 93,
    "start_time": "2022-12-23T10:21:51.198Z"
   },
   {
    "duration": 4,
    "start_time": "2022-12-23T10:22:04.842Z"
   },
   {
    "duration": 5,
    "start_time": "2022-12-23T10:22:06.109Z"
   },
   {
    "duration": 9,
    "start_time": "2022-12-23T10:22:32.041Z"
   },
   {
    "duration": 8,
    "start_time": "2022-12-23T10:22:39.811Z"
   },
   {
    "duration": 1076,
    "start_time": "2022-12-23T10:22:58.094Z"
   },
   {
    "duration": 35,
    "start_time": "2022-12-23T10:22:59.172Z"
   },
   {
    "duration": 13,
    "start_time": "2022-12-23T10:22:59.211Z"
   },
   {
    "duration": 7,
    "start_time": "2022-12-23T10:22:59.227Z"
   },
   {
    "duration": 7,
    "start_time": "2022-12-23T10:22:59.235Z"
   },
   {
    "duration": 10,
    "start_time": "2022-12-23T10:22:59.243Z"
   },
   {
    "duration": 6,
    "start_time": "2022-12-23T10:22:59.254Z"
   },
   {
    "duration": 12,
    "start_time": "2022-12-23T10:22:59.261Z"
   },
   {
    "duration": 29,
    "start_time": "2022-12-23T10:22:59.275Z"
   },
   {
    "duration": 3,
    "start_time": "2022-12-23T10:22:59.306Z"
   },
   {
    "duration": 6,
    "start_time": "2022-12-23T10:22:59.311Z"
   },
   {
    "duration": 101,
    "start_time": "2022-12-23T10:22:59.319Z"
   },
   {
    "duration": 0,
    "start_time": "2022-12-23T10:22:59.421Z"
   },
   {
    "duration": 4,
    "start_time": "2022-12-23T10:23:21.345Z"
   },
   {
    "duration": 4,
    "start_time": "2022-12-23T10:23:22.013Z"
   },
   {
    "duration": 8,
    "start_time": "2022-12-23T10:23:22.528Z"
   },
   {
    "duration": 1078,
    "start_time": "2022-12-23T10:23:58.511Z"
   },
   {
    "duration": 37,
    "start_time": "2022-12-23T10:23:59.591Z"
   },
   {
    "duration": 12,
    "start_time": "2022-12-23T10:23:59.630Z"
   },
   {
    "duration": 32,
    "start_time": "2022-12-23T10:23:59.644Z"
   },
   {
    "duration": 23,
    "start_time": "2022-12-23T10:23:59.679Z"
   },
   {
    "duration": 24,
    "start_time": "2022-12-23T10:23:59.704Z"
   },
   {
    "duration": 38,
    "start_time": "2022-12-23T10:23:59.730Z"
   },
   {
    "duration": 10,
    "start_time": "2022-12-23T10:23:59.769Z"
   },
   {
    "duration": 33,
    "start_time": "2022-12-23T10:23:59.780Z"
   },
   {
    "duration": 24,
    "start_time": "2022-12-23T10:23:59.815Z"
   },
   {
    "duration": 31,
    "start_time": "2022-12-23T10:23:59.840Z"
   },
   {
    "duration": 203,
    "start_time": "2022-12-23T10:23:59.906Z"
   },
   {
    "duration": 10,
    "start_time": "2022-12-23T10:24:42.841Z"
   },
   {
    "duration": 4,
    "start_time": "2022-12-23T10:24:48.770Z"
   },
   {
    "duration": 3,
    "start_time": "2022-12-23T10:25:08.765Z"
   },
   {
    "duration": 3,
    "start_time": "2022-12-23T10:27:28.210Z"
   },
   {
    "duration": 3,
    "start_time": "2022-12-23T10:27:28.906Z"
   },
   {
    "duration": 4,
    "start_time": "2022-12-23T10:27:35.700Z"
   },
   {
    "duration": 1028,
    "start_time": "2022-12-23T10:27:46.363Z"
   },
   {
    "duration": 39,
    "start_time": "2022-12-23T10:27:47.393Z"
   },
   {
    "duration": 17,
    "start_time": "2022-12-23T10:27:47.434Z"
   },
   {
    "duration": 6,
    "start_time": "2022-12-23T10:27:47.453Z"
   },
   {
    "duration": 9,
    "start_time": "2022-12-23T10:27:47.461Z"
   },
   {
    "duration": 15,
    "start_time": "2022-12-23T10:27:47.472Z"
   },
   {
    "duration": 10,
    "start_time": "2022-12-23T10:27:47.489Z"
   },
   {
    "duration": 13,
    "start_time": "2022-12-23T10:27:47.500Z"
   },
   {
    "duration": 16,
    "start_time": "2022-12-23T10:27:47.514Z"
   },
   {
    "duration": 6,
    "start_time": "2022-12-23T10:27:47.532Z"
   },
   {
    "duration": 9,
    "start_time": "2022-12-23T10:27:47.539Z"
   },
   {
    "duration": 14,
    "start_time": "2022-12-23T10:27:47.550Z"
   },
   {
    "duration": 100,
    "start_time": "2022-12-23T10:27:47.565Z"
   },
   {
    "duration": 1072,
    "start_time": "2022-12-23T10:34:37.817Z"
   },
   {
    "duration": 38,
    "start_time": "2022-12-23T10:34:38.891Z"
   },
   {
    "duration": 14,
    "start_time": "2022-12-23T10:34:38.931Z"
   },
   {
    "duration": 5,
    "start_time": "2022-12-23T10:34:38.946Z"
   },
   {
    "duration": 8,
    "start_time": "2022-12-23T10:34:38.953Z"
   },
   {
    "duration": 10,
    "start_time": "2022-12-23T10:34:38.962Z"
   },
   {
    "duration": 4,
    "start_time": "2022-12-23T10:34:38.973Z"
   },
   {
    "duration": 5,
    "start_time": "2022-12-23T10:34:38.979Z"
   },
   {
    "duration": 10,
    "start_time": "2022-12-23T10:34:38.985Z"
   },
   {
    "duration": 3,
    "start_time": "2022-12-23T10:34:39.004Z"
   },
   {
    "duration": 6,
    "start_time": "2022-12-23T10:34:39.009Z"
   },
   {
    "duration": 7,
    "start_time": "2022-12-23T10:34:39.016Z"
   },
   {
    "duration": 10,
    "start_time": "2022-12-23T10:34:39.024Z"
   },
   {
    "duration": 1085,
    "start_time": "2022-12-23T10:36:11.975Z"
   },
   {
    "duration": 37,
    "start_time": "2022-12-23T10:36:13.061Z"
   },
   {
    "duration": 14,
    "start_time": "2022-12-23T10:36:13.099Z"
   },
   {
    "duration": 11,
    "start_time": "2022-12-23T10:36:13.115Z"
   },
   {
    "duration": 5,
    "start_time": "2022-12-23T10:36:13.128Z"
   },
   {
    "duration": 102,
    "start_time": "2022-12-23T10:36:13.135Z"
   },
   {
    "duration": 0,
    "start_time": "2022-12-23T10:36:13.239Z"
   },
   {
    "duration": 0,
    "start_time": "2022-12-23T10:36:13.240Z"
   },
   {
    "duration": 0,
    "start_time": "2022-12-23T10:36:13.241Z"
   },
   {
    "duration": 0,
    "start_time": "2022-12-23T10:36:13.242Z"
   },
   {
    "duration": 0,
    "start_time": "2022-12-23T10:36:13.243Z"
   },
   {
    "duration": 0,
    "start_time": "2022-12-23T10:36:13.244Z"
   },
   {
    "duration": 0,
    "start_time": "2022-12-23T10:36:13.245Z"
   },
   {
    "duration": 8,
    "start_time": "2022-12-23T10:36:32.198Z"
   },
   {
    "duration": 5,
    "start_time": "2022-12-23T10:36:44.903Z"
   },
   {
    "duration": 11,
    "start_time": "2022-12-23T10:36:45.809Z"
   },
   {
    "duration": 10,
    "start_time": "2022-12-23T10:36:52.693Z"
   },
   {
    "duration": 4,
    "start_time": "2022-12-23T10:36:54.505Z"
   },
   {
    "duration": 3,
    "start_time": "2022-12-23T10:36:56.785Z"
   },
   {
    "duration": 7,
    "start_time": "2022-12-23T10:36:58.682Z"
   },
   {
    "duration": 5,
    "start_time": "2022-12-23T10:37:05.040Z"
   },
   {
    "duration": 5,
    "start_time": "2022-12-23T10:37:06.502Z"
   },
   {
    "duration": 12,
    "start_time": "2022-12-23T10:37:07.526Z"
   },
   {
    "duration": 11,
    "start_time": "2022-12-23T10:37:16.331Z"
   },
   {
    "duration": 1062,
    "start_time": "2022-12-23T10:39:52.313Z"
   },
   {
    "duration": 37,
    "start_time": "2022-12-23T10:39:53.377Z"
   },
   {
    "duration": 14,
    "start_time": "2022-12-23T10:39:53.416Z"
   },
   {
    "duration": 5,
    "start_time": "2022-12-23T10:39:53.431Z"
   },
   {
    "duration": 6,
    "start_time": "2022-12-23T10:39:53.438Z"
   },
   {
    "duration": 17,
    "start_time": "2022-12-23T10:39:53.445Z"
   },
   {
    "duration": 7,
    "start_time": "2022-12-23T10:39:53.464Z"
   },
   {
    "duration": 7,
    "start_time": "2022-12-23T10:39:53.472Z"
   },
   {
    "duration": 25,
    "start_time": "2022-12-23T10:39:53.481Z"
   },
   {
    "duration": 99,
    "start_time": "2022-12-23T10:39:53.507Z"
   },
   {
    "duration": 0,
    "start_time": "2022-12-23T10:39:53.607Z"
   },
   {
    "duration": 0,
    "start_time": "2022-12-23T10:39:53.609Z"
   },
   {
    "duration": 0,
    "start_time": "2022-12-23T10:39:53.610Z"
   },
   {
    "duration": 8,
    "start_time": "2022-12-23T10:41:18.626Z"
   },
   {
    "duration": 3,
    "start_time": "2022-12-23T10:41:41.760Z"
   },
   {
    "duration": 8,
    "start_time": "2022-12-23T10:41:45.973Z"
   },
   {
    "duration": 8,
    "start_time": "2022-12-23T10:41:53.816Z"
   },
   {
    "duration": 3,
    "start_time": "2022-12-23T10:42:04.893Z"
   },
   {
    "duration": 4,
    "start_time": "2022-12-23T10:42:12.025Z"
   },
   {
    "duration": 3,
    "start_time": "2022-12-23T10:42:19.398Z"
   },
   {
    "duration": 5,
    "start_time": "2022-12-23T10:42:19.658Z"
   },
   {
    "duration": 12,
    "start_time": "2022-12-23T10:42:20.331Z"
   },
   {
    "duration": 11,
    "start_time": "2022-12-23T10:42:29.147Z"
   },
   {
    "duration": 73,
    "start_time": "2022-12-23T10:44:26.492Z"
   },
   {
    "duration": 3,
    "start_time": "2022-12-23T10:44:30.248Z"
   },
   {
    "duration": 9,
    "start_time": "2022-12-23T10:45:32.984Z"
   },
   {
    "duration": 4,
    "start_time": "2022-12-23T10:46:08.211Z"
   },
   {
    "duration": 12,
    "start_time": "2022-12-23T10:46:09.237Z"
   },
   {
    "duration": 4,
    "start_time": "2022-12-23T10:46:33.292Z"
   },
   {
    "duration": 11,
    "start_time": "2022-12-23T10:46:33.958Z"
   },
   {
    "duration": 3,
    "start_time": "2022-12-23T10:47:14.165Z"
   },
   {
    "duration": 4,
    "start_time": "2022-12-23T10:47:14.546Z"
   },
   {
    "duration": 11,
    "start_time": "2022-12-23T10:47:14.901Z"
   },
   {
    "duration": 3,
    "start_time": "2022-12-23T10:47:24.974Z"
   },
   {
    "duration": 4,
    "start_time": "2022-12-23T10:47:26.358Z"
   },
   {
    "duration": 11,
    "start_time": "2022-12-23T10:47:26.724Z"
   },
   {
    "duration": 3,
    "start_time": "2022-12-23T10:48:15.896Z"
   },
   {
    "duration": 4,
    "start_time": "2022-12-23T10:48:16.302Z"
   },
   {
    "duration": 11,
    "start_time": "2022-12-23T10:48:18.030Z"
   },
   {
    "duration": 4,
    "start_time": "2022-12-23T10:50:04.542Z"
   },
   {
    "duration": 13,
    "start_time": "2022-12-23T10:50:04.943Z"
   },
   {
    "duration": 1049,
    "start_time": "2022-12-23T10:50:16.222Z"
   },
   {
    "duration": 37,
    "start_time": "2022-12-23T10:50:17.273Z"
   },
   {
    "duration": 14,
    "start_time": "2022-12-23T10:50:17.311Z"
   },
   {
    "duration": 5,
    "start_time": "2022-12-23T10:50:17.327Z"
   },
   {
    "duration": 10,
    "start_time": "2022-12-23T10:50:17.334Z"
   },
   {
    "duration": 36,
    "start_time": "2022-12-23T10:50:17.346Z"
   },
   {
    "duration": 11,
    "start_time": "2022-12-23T10:50:17.384Z"
   },
   {
    "duration": 13,
    "start_time": "2022-12-23T10:50:17.397Z"
   },
   {
    "duration": 14,
    "start_time": "2022-12-23T10:50:17.412Z"
   },
   {
    "duration": 18,
    "start_time": "2022-12-23T10:50:17.428Z"
   },
   {
    "duration": 14,
    "start_time": "2022-12-23T10:50:17.448Z"
   },
   {
    "duration": 8,
    "start_time": "2022-12-23T10:50:17.464Z"
   },
   {
    "duration": 18,
    "start_time": "2022-12-23T10:50:17.474Z"
   },
   {
    "duration": 4,
    "start_time": "2022-12-23T11:37:45.984Z"
   },
   {
    "duration": 22,
    "start_time": "2022-12-23T11:37:46.390Z"
   },
   {
    "duration": 5,
    "start_time": "2022-12-23T11:38:18.425Z"
   },
   {
    "duration": 5,
    "start_time": "2022-12-23T11:39:34.688Z"
   },
   {
    "duration": 22,
    "start_time": "2022-12-23T11:39:35.047Z"
   },
   {
    "duration": 120,
    "start_time": "2022-12-23T11:39:35.496Z"
   },
   {
    "duration": 5,
    "start_time": "2022-12-23T11:39:56.148Z"
   },
   {
    "duration": 5,
    "start_time": "2022-12-23T11:40:12.468Z"
   },
   {
    "duration": 24,
    "start_time": "2022-12-23T11:40:12.475Z"
   },
   {
    "duration": 28,
    "start_time": "2022-12-23T11:40:12.529Z"
   },
   {
    "duration": 5,
    "start_time": "2022-12-23T11:40:29.365Z"
   },
   {
    "duration": 5,
    "start_time": "2022-12-23T11:40:46.081Z"
   },
   {
    "duration": 7,
    "start_time": "2022-12-23T11:40:47.556Z"
   },
   {
    "duration": 23,
    "start_time": "2022-12-23T11:44:08.420Z"
   },
   {
    "duration": 1034,
    "start_time": "2022-12-23T11:46:30.523Z"
   },
   {
    "duration": 38,
    "start_time": "2022-12-23T11:46:31.559Z"
   },
   {
    "duration": 15,
    "start_time": "2022-12-23T11:46:31.599Z"
   },
   {
    "duration": 5,
    "start_time": "2022-12-23T11:46:31.616Z"
   },
   {
    "duration": 11,
    "start_time": "2022-12-23T11:46:31.623Z"
   },
   {
    "duration": 10,
    "start_time": "2022-12-23T11:46:31.635Z"
   },
   {
    "duration": 7,
    "start_time": "2022-12-23T11:46:31.646Z"
   },
   {
    "duration": 7,
    "start_time": "2022-12-23T11:46:31.654Z"
   },
   {
    "duration": 12,
    "start_time": "2022-12-23T11:46:31.662Z"
   },
   {
    "duration": 14,
    "start_time": "2022-12-23T11:46:31.676Z"
   },
   {
    "duration": 14,
    "start_time": "2022-12-23T11:46:31.692Z"
   },
   {
    "duration": 11,
    "start_time": "2022-12-23T11:46:31.707Z"
   },
   {
    "duration": 6,
    "start_time": "2022-12-23T11:46:31.720Z"
   },
   {
    "duration": 5,
    "start_time": "2022-12-23T11:46:58.106Z"
   },
   {
    "duration": 11,
    "start_time": "2022-12-23T11:46:59.169Z"
   },
   {
    "duration": 4,
    "start_time": "2022-12-23T11:47:26.808Z"
   },
   {
    "duration": 13,
    "start_time": "2022-12-23T11:47:27.341Z"
   },
   {
    "duration": 10,
    "start_time": "2022-12-23T11:47:28.626Z"
   },
   {
    "duration": 4,
    "start_time": "2022-12-23T11:47:33.706Z"
   },
   {
    "duration": 11,
    "start_time": "2022-12-23T11:47:34.160Z"
   },
   {
    "duration": 4,
    "start_time": "2022-12-23T11:48:03.491Z"
   },
   {
    "duration": 11,
    "start_time": "2022-12-23T11:48:03.864Z"
   },
   {
    "duration": 3,
    "start_time": "2022-12-23T11:48:11.378Z"
   },
   {
    "duration": 4,
    "start_time": "2022-12-23T11:48:12.374Z"
   },
   {
    "duration": 10,
    "start_time": "2022-12-23T11:48:12.838Z"
   },
   {
    "duration": 5,
    "start_time": "2022-12-23T11:48:23.128Z"
   },
   {
    "duration": 10,
    "start_time": "2022-12-23T11:48:23.504Z"
   },
   {
    "duration": 3,
    "start_time": "2022-12-23T11:49:16.252Z"
   },
   {
    "duration": 4,
    "start_time": "2022-12-23T11:49:17.949Z"
   },
   {
    "duration": 17,
    "start_time": "2022-12-23T11:49:18.529Z"
   },
   {
    "duration": 3,
    "start_time": "2022-12-23T11:49:42.397Z"
   },
   {
    "duration": 5,
    "start_time": "2022-12-23T11:49:42.970Z"
   },
   {
    "duration": 12,
    "start_time": "2022-12-23T11:49:43.442Z"
   },
   {
    "duration": 4,
    "start_time": "2022-12-23T11:50:02.191Z"
   },
   {
    "duration": 5,
    "start_time": "2022-12-23T11:50:02.752Z"
   },
   {
    "duration": 11,
    "start_time": "2022-12-23T11:50:03.235Z"
   },
   {
    "duration": 4,
    "start_time": "2022-12-23T11:50:28.353Z"
   },
   {
    "duration": 5,
    "start_time": "2022-12-23T11:50:28.727Z"
   },
   {
    "duration": 7,
    "start_time": "2022-12-23T11:53:47.213Z"
   },
   {
    "duration": 1643,
    "start_time": "2022-12-24T04:55:24.834Z"
   },
   {
    "duration": 40,
    "start_time": "2022-12-24T04:55:26.480Z"
   },
   {
    "duration": 17,
    "start_time": "2022-12-24T04:55:26.522Z"
   },
   {
    "duration": 6,
    "start_time": "2022-12-24T04:55:26.541Z"
   },
   {
    "duration": 7,
    "start_time": "2022-12-24T04:55:26.550Z"
   },
   {
    "duration": 9,
    "start_time": "2022-12-24T04:55:26.558Z"
   },
   {
    "duration": 4,
    "start_time": "2022-12-24T04:55:26.569Z"
   },
   {
    "duration": 4,
    "start_time": "2022-12-24T04:55:26.575Z"
   },
   {
    "duration": 40,
    "start_time": "2022-12-24T04:55:26.581Z"
   },
   {
    "duration": 4,
    "start_time": "2022-12-24T04:55:26.628Z"
   },
   {
    "duration": 10,
    "start_time": "2022-12-24T04:55:26.636Z"
   },
   {
    "duration": 12,
    "start_time": "2022-12-24T04:55:26.647Z"
   },
   {
    "duration": 14,
    "start_time": "2022-12-24T04:55:26.660Z"
   },
   {
    "duration": 6,
    "start_time": "2022-12-24T04:56:02.628Z"
   },
   {
    "duration": 1270,
    "start_time": "2022-12-29T12:42:56.004Z"
   },
   {
    "duration": 567,
    "start_time": "2022-12-29T12:58:49.280Z"
   },
   {
    "duration": 287,
    "start_time": "2022-12-29T12:59:07.754Z"
   },
   {
    "duration": 178,
    "start_time": "2022-12-29T12:59:21.062Z"
   },
   {
    "duration": 98,
    "start_time": "2022-12-29T12:59:25.656Z"
   },
   {
    "duration": 557,
    "start_time": "2022-12-29T12:59:29.185Z"
   },
   {
    "duration": 352,
    "start_time": "2022-12-29T12:59:51.077Z"
   },
   {
    "duration": 200,
    "start_time": "2022-12-29T13:06:29.804Z"
   },
   {
    "duration": 452,
    "start_time": "2022-12-29T13:06:44.952Z"
   },
   {
    "duration": 518,
    "start_time": "2022-12-29T13:07:39.025Z"
   },
   {
    "duration": 161,
    "start_time": "2022-12-29T13:08:33.599Z"
   },
   {
    "duration": 128,
    "start_time": "2022-12-29T13:09:05.133Z"
   },
   {
    "duration": 154,
    "start_time": "2022-12-29T13:10:17.954Z"
   },
   {
    "duration": 606,
    "start_time": "2022-12-29T13:10:40.249Z"
   },
   {
    "duration": 71,
    "start_time": "2022-12-29T13:11:10.343Z"
   },
   {
    "duration": 168,
    "start_time": "2022-12-29T13:11:15.412Z"
   },
   {
    "duration": 682,
    "start_time": "2022-12-29T13:11:25.059Z"
   },
   {
    "duration": 162,
    "start_time": "2022-12-29T13:13:29.710Z"
   },
   {
    "duration": 110,
    "start_time": "2022-12-29T13:13:37.937Z"
   },
   {
    "duration": 117,
    "start_time": "2022-12-29T13:13:43.335Z"
   },
   {
    "duration": 115,
    "start_time": "2022-12-29T13:13:48.465Z"
   },
   {
    "duration": 123,
    "start_time": "2022-12-29T13:14:27.694Z"
   },
   {
    "duration": 122,
    "start_time": "2022-12-29T13:14:51.638Z"
   },
   {
    "duration": 120,
    "start_time": "2022-12-29T13:15:04.031Z"
   },
   {
    "duration": 583,
    "start_time": "2022-12-29T13:15:38.217Z"
   },
   {
    "duration": 619,
    "start_time": "2022-12-29T13:15:44.771Z"
   },
   {
    "duration": 707,
    "start_time": "2022-12-29T13:15:51.846Z"
   },
   {
    "duration": 602,
    "start_time": "2022-12-29T13:16:02.167Z"
   },
   {
    "duration": 20097,
    "start_time": "2022-12-29T13:16:51.067Z"
   },
   {
    "duration": 1557,
    "start_time": "2022-12-29T13:18:53.074Z"
   },
   {
    "duration": 47,
    "start_time": "2022-12-29T13:18:54.633Z"
   },
   {
    "duration": 13,
    "start_time": "2022-12-29T13:18:54.683Z"
   },
   {
    "duration": 134,
    "start_time": "2022-12-29T13:18:54.698Z"
   },
   {
    "duration": 248,
    "start_time": "2022-12-29T13:18:54.834Z"
   },
   {
    "duration": 644,
    "start_time": "2022-12-29T13:18:55.084Z"
   },
   {
    "duration": 445,
    "start_time": "2022-12-29T13:18:55.730Z"
   },
   {
    "duration": 7,
    "start_time": "2022-12-29T13:18:56.177Z"
   },
   {
    "duration": 10,
    "start_time": "2022-12-29T13:18:56.185Z"
   },
   {
    "duration": 34,
    "start_time": "2022-12-29T13:18:56.198Z"
   },
   {
    "duration": 8,
    "start_time": "2022-12-29T13:18:56.234Z"
   },
   {
    "duration": 7,
    "start_time": "2022-12-29T13:18:56.244Z"
   },
   {
    "duration": 33,
    "start_time": "2022-12-29T13:18:56.252Z"
   },
   {
    "duration": 12,
    "start_time": "2022-12-29T13:18:56.287Z"
   },
   {
    "duration": 12,
    "start_time": "2022-12-29T13:18:56.301Z"
   },
   {
    "duration": 10,
    "start_time": "2022-12-29T13:18:56.315Z"
   },
   {
    "duration": 9,
    "start_time": "2022-12-29T13:18:56.327Z"
   },
   {
    "duration": 356,
    "start_time": "2022-12-29T13:19:34.788Z"
   },
   {
    "duration": 636,
    "start_time": "2022-12-29T13:19:57.283Z"
   },
   {
    "duration": 580,
    "start_time": "2022-12-29T13:20:15.024Z"
   },
   {
    "duration": 323,
    "start_time": "2022-12-29T13:20:29.783Z"
   },
   {
    "duration": 221,
    "start_time": "2022-12-29T13:20:41.996Z"
   },
   {
    "duration": 244,
    "start_time": "2022-12-29T13:20:46.791Z"
   },
   {
    "duration": 280,
    "start_time": "2022-12-29T13:21:21.625Z"
   },
   {
    "duration": 332,
    "start_time": "2022-12-29T13:21:40.383Z"
   },
   {
    "duration": 410,
    "start_time": "2022-12-29T13:21:48.784Z"
   },
   {
    "duration": 278,
    "start_time": "2022-12-29T13:22:03.395Z"
   },
   {
    "duration": 238,
    "start_time": "2022-12-29T13:22:07.284Z"
   },
   {
    "duration": 201,
    "start_time": "2022-12-29T13:22:31.427Z"
   },
   {
    "duration": 184,
    "start_time": "2022-12-29T13:22:43.233Z"
   },
   {
    "duration": 182,
    "start_time": "2022-12-29T13:22:46.632Z"
   },
   {
    "duration": 205,
    "start_time": "2022-12-29T13:22:56.936Z"
   },
   {
    "duration": 551,
    "start_time": "2022-12-29T13:23:02.030Z"
   },
   {
    "duration": 194,
    "start_time": "2022-12-29T13:23:22.714Z"
   },
   {
    "duration": 303,
    "start_time": "2022-12-29T13:23:37.267Z"
   },
   {
    "duration": 212,
    "start_time": "2022-12-29T13:24:13.266Z"
   },
   {
    "duration": 248,
    "start_time": "2022-12-29T13:24:44.997Z"
   },
   {
    "duration": 274,
    "start_time": "2022-12-29T13:24:51.769Z"
   },
   {
    "duration": 227,
    "start_time": "2022-12-29T13:25:05.978Z"
   },
   {
    "duration": 227,
    "start_time": "2022-12-29T13:25:08.616Z"
   },
   {
    "duration": 269,
    "start_time": "2022-12-29T13:25:19.871Z"
   },
   {
    "duration": 315,
    "start_time": "2022-12-29T13:25:26.699Z"
   },
   {
    "duration": 297,
    "start_time": "2022-12-29T13:25:33.909Z"
   },
   {
    "duration": 243,
    "start_time": "2022-12-29T13:26:14.567Z"
   },
   {
    "duration": 318,
    "start_time": "2022-12-29T13:26:19.375Z"
   },
   {
    "duration": 351,
    "start_time": "2022-12-29T13:26:25.521Z"
   },
   {
    "duration": 194,
    "start_time": "2022-12-29T13:26:34.509Z"
   },
   {
    "duration": 9,
    "start_time": "2022-12-29T13:29:22.237Z"
   },
   {
    "duration": 10,
    "start_time": "2022-12-29T13:29:31.080Z"
   },
   {
    "duration": 10,
    "start_time": "2022-12-29T13:29:34.724Z"
   },
   {
    "duration": 14,
    "start_time": "2022-12-29T13:29:43.357Z"
   },
   {
    "duration": 100,
    "start_time": "2022-12-29T13:30:35.741Z"
   },
   {
    "duration": 277,
    "start_time": "2022-12-29T13:30:47.415Z"
   },
   {
    "duration": 7830,
    "start_time": "2022-12-29T13:31:15.252Z"
   },
   {
    "duration": 257,
    "start_time": "2022-12-29T13:31:24.815Z"
   },
   {
    "duration": 7,
    "start_time": "2022-12-29T13:57:27.177Z"
   },
   {
    "duration": 1077,
    "start_time": "2022-12-29T14:08:51.612Z"
   },
   {
    "duration": 6,
    "start_time": "2022-12-29T14:27:59.476Z"
   },
   {
    "duration": 8,
    "start_time": "2022-12-29T14:27:59.788Z"
   },
   {
    "duration": 13,
    "start_time": "2022-12-29T14:28:00.776Z"
   },
   {
    "duration": 181,
    "start_time": "2022-12-29T14:33:28.901Z"
   },
   {
    "duration": 5,
    "start_time": "2022-12-29T14:33:35.021Z"
   },
   {
    "duration": 5,
    "start_time": "2022-12-29T14:34:02.276Z"
   },
   {
    "duration": 5,
    "start_time": "2022-12-29T14:34:08.723Z"
   },
   {
    "duration": 12,
    "start_time": "2022-12-29T14:34:22.761Z"
   },
   {
    "duration": 4,
    "start_time": "2022-12-29T14:37:46.841Z"
   },
   {
    "duration": 5,
    "start_time": "2022-12-29T14:37:49.781Z"
   },
   {
    "duration": 4,
    "start_time": "2022-12-29T14:37:53.668Z"
   },
   {
    "duration": 10,
    "start_time": "2022-12-29T14:37:53.995Z"
   },
   {
    "duration": 5,
    "start_time": "2022-12-29T14:38:09.088Z"
   },
   {
    "duration": 364,
    "start_time": "2022-12-29T14:38:21.373Z"
   },
   {
    "duration": 6,
    "start_time": "2022-12-29T14:38:27.672Z"
   },
   {
    "duration": 5,
    "start_time": "2022-12-29T14:38:30.208Z"
   },
   {
    "duration": 4,
    "start_time": "2022-12-29T14:38:39.020Z"
   },
   {
    "duration": 6,
    "start_time": "2022-12-29T14:38:40.519Z"
   },
   {
    "duration": 5,
    "start_time": "2022-12-29T14:38:42.273Z"
   },
   {
    "duration": 5,
    "start_time": "2022-12-29T14:39:25.491Z"
   },
   {
    "duration": 5,
    "start_time": "2022-12-29T14:39:26.103Z"
   },
   {
    "duration": 6,
    "start_time": "2022-12-29T14:39:27.089Z"
   },
   {
    "duration": 6,
    "start_time": "2022-12-29T14:40:54.785Z"
   },
   {
    "duration": 6,
    "start_time": "2022-12-29T14:41:00.319Z"
   },
   {
    "duration": 20,
    "start_time": "2022-12-29T14:41:00.649Z"
   },
   {
    "duration": 1017,
    "start_time": "2022-12-29T14:41:10.469Z"
   },
   {
    "duration": 0,
    "start_time": "2022-12-29T14:41:11.488Z"
   },
   {
    "duration": 6,
    "start_time": "2022-12-29T14:41:17.169Z"
   },
   {
    "duration": 2091,
    "start_time": "2022-12-29T14:42:16.471Z"
   },
   {
    "duration": 51,
    "start_time": "2022-12-29T14:42:18.565Z"
   },
   {
    "duration": 19,
    "start_time": "2022-12-29T14:42:18.619Z"
   },
   {
    "duration": 219,
    "start_time": "2022-12-29T14:42:18.641Z"
   },
   {
    "duration": 397,
    "start_time": "2022-12-29T14:42:18.869Z"
   },
   {
    "duration": 411,
    "start_time": "2022-12-29T14:42:19.269Z"
   },
   {
    "duration": 276,
    "start_time": "2022-12-29T14:42:19.683Z"
   },
   {
    "duration": 703,
    "start_time": "2022-12-29T14:42:19.974Z"
   },
   {
    "duration": 13,
    "start_time": "2022-12-29T14:42:20.684Z"
   },
   {
    "duration": 319,
    "start_time": "2022-12-29T14:42:20.703Z"
   },
   {
    "duration": 0,
    "start_time": "2022-12-29T14:42:21.029Z"
   },
   {
    "duration": 0,
    "start_time": "2022-12-29T14:42:21.032Z"
   },
   {
    "duration": 0,
    "start_time": "2022-12-29T14:42:21.034Z"
   },
   {
    "duration": 0,
    "start_time": "2022-12-29T14:42:21.035Z"
   },
   {
    "duration": 1,
    "start_time": "2022-12-29T14:42:21.036Z"
   },
   {
    "duration": 0,
    "start_time": "2022-12-29T14:42:21.037Z"
   },
   {
    "duration": 0,
    "start_time": "2022-12-29T14:42:21.039Z"
   },
   {
    "duration": 8,
    "start_time": "2022-12-29T14:42:39.413Z"
   },
   {
    "duration": 12,
    "start_time": "2022-12-29T14:42:40.346Z"
   },
   {
    "duration": 14,
    "start_time": "2022-12-29T14:42:42.288Z"
   },
   {
    "duration": 16,
    "start_time": "2022-12-29T14:42:44.199Z"
   },
   {
    "duration": 1279,
    "start_time": "2022-12-29T14:43:08.493Z"
   },
   {
    "duration": 124,
    "start_time": "2022-12-29T14:43:15.894Z"
   },
   {
    "duration": 6,
    "start_time": "2022-12-29T14:43:28.537Z"
   },
   {
    "duration": 2086,
    "start_time": "2022-12-29T14:43:48.796Z"
   },
   {
    "duration": 50,
    "start_time": "2022-12-29T14:43:50.885Z"
   },
   {
    "duration": 26,
    "start_time": "2022-12-29T14:43:50.938Z"
   },
   {
    "duration": 228,
    "start_time": "2022-12-29T14:43:50.980Z"
   },
   {
    "duration": 333,
    "start_time": "2022-12-29T14:43:51.212Z"
   },
   {
    "duration": 376,
    "start_time": "2022-12-29T14:43:51.548Z"
   },
   {
    "duration": 246,
    "start_time": "2022-12-29T14:43:51.927Z"
   },
   {
    "duration": 596,
    "start_time": "2022-12-29T14:43:52.175Z"
   },
   {
    "duration": 10,
    "start_time": "2022-12-29T14:43:52.778Z"
   },
   {
    "duration": 16,
    "start_time": "2022-12-29T14:43:52.793Z"
   },
   {
    "duration": 15,
    "start_time": "2022-12-29T14:43:52.811Z"
   },
   {
    "duration": 19,
    "start_time": "2022-12-29T14:43:52.828Z"
   },
   {
    "duration": 301,
    "start_time": "2022-12-29T14:43:52.850Z"
   },
   {
    "duration": 0,
    "start_time": "2022-12-29T14:43:53.158Z"
   },
   {
    "duration": 0,
    "start_time": "2022-12-29T14:43:53.160Z"
   },
   {
    "duration": 5,
    "start_time": "2022-12-29T14:44:40.805Z"
   },
   {
    "duration": 6,
    "start_time": "2022-12-29T14:44:42.905Z"
   },
   {
    "duration": 5,
    "start_time": "2022-12-29T14:44:45.572Z"
   },
   {
    "duration": 23,
    "start_time": "2022-12-29T14:52:33.441Z"
   },
   {
    "duration": 3,
    "start_time": "2022-12-29T14:52:47.718Z"
   },
   {
    "duration": 8,
    "start_time": "2022-12-29T14:52:49.282Z"
   },
   {
    "duration": 4,
    "start_time": "2022-12-29T14:52:52.907Z"
   },
   {
    "duration": 12,
    "start_time": "2022-12-29T14:54:03.598Z"
   },
   {
    "duration": 5,
    "start_time": "2022-12-29T14:54:20.682Z"
   },
   {
    "duration": 5,
    "start_time": "2022-12-29T14:54:21.438Z"
   },
   {
    "duration": 4,
    "start_time": "2022-12-29T14:54:22.105Z"
   },
   {
    "duration": 4,
    "start_time": "2022-12-29T14:54:23.773Z"
   },
   {
    "duration": 14,
    "start_time": "2022-12-29T14:55:00.800Z"
   },
   {
    "duration": 10,
    "start_time": "2022-12-29T14:55:28.584Z"
   },
   {
    "duration": 7,
    "start_time": "2022-12-29T14:57:18.615Z"
   },
   {
    "duration": 15,
    "start_time": "2022-12-29T14:57:36.529Z"
   },
   {
    "duration": 27,
    "start_time": "2022-12-29T14:58:00.341Z"
   },
   {
    "duration": 20,
    "start_time": "2022-12-29T14:58:12.267Z"
   },
   {
    "duration": 16,
    "start_time": "2022-12-29T14:59:00.786Z"
   },
   {
    "duration": 15,
    "start_time": "2022-12-29T15:00:24.500Z"
   },
   {
    "duration": 22,
    "start_time": "2022-12-29T15:02:17.400Z"
   },
   {
    "duration": 20,
    "start_time": "2022-12-29T15:02:33.786Z"
   },
   {
    "duration": 21,
    "start_time": "2022-12-29T15:02:47.620Z"
   },
   {
    "duration": 27,
    "start_time": "2022-12-29T15:02:59.330Z"
   },
   {
    "duration": 37,
    "start_time": "2022-12-29T15:03:04.474Z"
   },
   {
    "duration": 31,
    "start_time": "2022-12-29T15:03:28.778Z"
   },
   {
    "duration": 22,
    "start_time": "2022-12-29T15:59:50.300Z"
   },
   {
    "duration": 1506,
    "start_time": "2022-12-29T16:00:05.419Z"
   },
   {
    "duration": 52,
    "start_time": "2022-12-29T16:00:06.927Z"
   },
   {
    "duration": 17,
    "start_time": "2022-12-29T16:00:06.981Z"
   },
   {
    "duration": 134,
    "start_time": "2022-12-29T16:00:07.000Z"
   },
   {
    "duration": 241,
    "start_time": "2022-12-29T16:00:07.137Z"
   },
   {
    "duration": 248,
    "start_time": "2022-12-29T16:00:07.379Z"
   },
   {
    "duration": 171,
    "start_time": "2022-12-29T16:00:07.629Z"
   },
   {
    "duration": 498,
    "start_time": "2022-12-29T16:00:07.802Z"
   },
   {
    "duration": 5,
    "start_time": "2022-12-29T16:00:08.302Z"
   },
   {
    "duration": 6,
    "start_time": "2022-12-29T16:00:08.309Z"
   },
   {
    "duration": 9,
    "start_time": "2022-12-29T16:00:08.317Z"
   },
   {
    "duration": 44,
    "start_time": "2022-12-29T16:00:08.328Z"
   },
   {
    "duration": 131,
    "start_time": "2022-12-29T16:00:08.376Z"
   },
   {
    "duration": 0,
    "start_time": "2022-12-29T16:00:08.509Z"
   },
   {
    "duration": 0,
    "start_time": "2022-12-29T16:00:08.511Z"
   },
   {
    "duration": 0,
    "start_time": "2022-12-29T16:00:08.512Z"
   },
   {
    "duration": 0,
    "start_time": "2022-12-29T16:00:08.513Z"
   },
   {
    "duration": 0,
    "start_time": "2022-12-29T16:00:08.515Z"
   },
   {
    "duration": 254,
    "start_time": "2022-12-29T16:00:44.147Z"
   },
   {
    "duration": 288,
    "start_time": "2022-12-29T16:00:49.475Z"
   },
   {
    "duration": 188,
    "start_time": "2022-12-29T16:00:58.016Z"
   },
   {
    "duration": 4,
    "start_time": "2022-12-29T16:01:26.287Z"
   },
   {
    "duration": 4,
    "start_time": "2022-12-29T16:01:28.088Z"
   },
   {
    "duration": 1515,
    "start_time": "2022-12-29T16:01:34.012Z"
   },
   {
    "duration": 45,
    "start_time": "2022-12-29T16:01:35.529Z"
   },
   {
    "duration": 14,
    "start_time": "2022-12-29T16:01:35.576Z"
   },
   {
    "duration": 141,
    "start_time": "2022-12-29T16:01:35.592Z"
   },
   {
    "duration": 246,
    "start_time": "2022-12-29T16:01:35.735Z"
   },
   {
    "duration": 259,
    "start_time": "2022-12-29T16:01:35.983Z"
   },
   {
    "duration": 187,
    "start_time": "2022-12-29T16:01:36.244Z"
   },
   {
    "duration": 514,
    "start_time": "2022-12-29T16:01:36.433Z"
   },
   {
    "duration": 16,
    "start_time": "2022-12-29T16:01:36.952Z"
   },
   {
    "duration": 6,
    "start_time": "2022-12-29T16:01:36.971Z"
   },
   {
    "duration": 11,
    "start_time": "2022-12-29T16:01:36.979Z"
   },
   {
    "duration": 14,
    "start_time": "2022-12-29T16:01:36.992Z"
   },
   {
    "duration": 5,
    "start_time": "2022-12-29T16:01:37.008Z"
   },
   {
    "duration": 6,
    "start_time": "2022-12-29T16:01:37.015Z"
   },
   {
    "duration": 9,
    "start_time": "2022-12-29T16:01:37.022Z"
   },
   {
    "duration": 18,
    "start_time": "2022-12-29T16:01:37.051Z"
   },
   {
    "duration": 20,
    "start_time": "2022-12-29T16:01:37.071Z"
   },
   {
    "duration": 19,
    "start_time": "2022-12-29T16:01:37.151Z"
   },
   {
    "duration": 258,
    "start_time": "2022-12-29T16:07:45.739Z"
   },
   {
    "duration": 308,
    "start_time": "2022-12-29T16:07:53.876Z"
   },
   {
    "duration": 21,
    "start_time": "2022-12-29T16:09:59.941Z"
   },
   {
    "duration": 14,
    "start_time": "2022-12-29T16:10:06.771Z"
   },
   {
    "duration": 17,
    "start_time": "2022-12-29T16:10:09.201Z"
   },
   {
    "duration": 1452,
    "start_time": "2022-12-29T16:10:15.391Z"
   },
   {
    "duration": 42,
    "start_time": "2022-12-29T16:10:16.845Z"
   },
   {
    "duration": 12,
    "start_time": "2022-12-29T16:10:16.889Z"
   },
   {
    "duration": 139,
    "start_time": "2022-12-29T16:10:16.903Z"
   },
   {
    "duration": 231,
    "start_time": "2022-12-29T16:10:17.044Z"
   },
   {
    "duration": 250,
    "start_time": "2022-12-29T16:10:17.277Z"
   },
   {
    "duration": 178,
    "start_time": "2022-12-29T16:10:17.529Z"
   },
   {
    "duration": 507,
    "start_time": "2022-12-29T16:10:17.709Z"
   },
   {
    "duration": 5,
    "start_time": "2022-12-29T16:10:18.218Z"
   },
   {
    "duration": 9,
    "start_time": "2022-12-29T16:10:18.225Z"
   },
   {
    "duration": 9,
    "start_time": "2022-12-29T16:10:18.254Z"
   },
   {
    "duration": 18,
    "start_time": "2022-12-29T16:10:18.265Z"
   },
   {
    "duration": 4,
    "start_time": "2022-12-29T16:10:18.285Z"
   },
   {
    "duration": 6,
    "start_time": "2022-12-29T16:10:18.292Z"
   },
   {
    "duration": 6,
    "start_time": "2022-12-29T16:10:18.300Z"
   },
   {
    "duration": 12,
    "start_time": "2022-12-29T16:10:18.308Z"
   },
   {
    "duration": 43,
    "start_time": "2022-12-29T16:10:18.322Z"
   },
   {
    "duration": 92,
    "start_time": "2022-12-29T16:10:18.368Z"
   }
  ],
  "kernelspec": {
   "display_name": "Python 3 (ipykernel)",
   "language": "python",
   "name": "python3"
  },
  "language_info": {
   "codemirror_mode": {
    "name": "ipython",
    "version": 3
   },
   "file_extension": ".py",
   "mimetype": "text/x-python",
   "name": "python",
   "nbconvert_exporter": "python",
   "pygments_lexer": "ipython3",
   "version": "3.10.2"
  },
  "toc": {
   "base_numbering": 1,
   "nav_menu": {},
   "number_sections": true,
   "sideBar": true,
   "skip_h1_title": true,
   "title_cell": "Содержание",
   "title_sidebar": "Contents",
   "toc_cell": true,
   "toc_position": {},
   "toc_section_display": true,
   "toc_window_display": true
  }
 },
 "nbformat": 4,
 "nbformat_minor": 2
}
