{
 "cells": [
  {
   "cell_type": "markdown",
   "metadata": {},
   "source": [
    "# Исследование объявлений о продаже квартир\n",
    "\n",
    "Нужно научиться определять рыночную стоимость объектов недвижимости. Задача — установить параметры, что позволит построить автоматизированную систему: она отследит аномалии и мошенническую деятельность. Данные предоставлены сервисом Яндекc Недвижимость.\n"
   ]
  },
  {
   "cell_type": "markdown",
   "metadata": {},
   "source": [
    "## Обзор данных"
   ]
  },
  {
   "cell_type": "code",
   "execution_count": 1,
   "metadata": {},
   "outputs": [
    {
     "data": {
      "text/html": [
       "<div>\n",
       "<style scoped>\n",
       "    .dataframe tbody tr th:only-of-type {\n",
       "        vertical-align: middle;\n",
       "    }\n",
       "\n",
       "    .dataframe tbody tr th {\n",
       "        vertical-align: top;\n",
       "    }\n",
       "\n",
       "    .dataframe thead th {\n",
       "        text-align: right;\n",
       "    }\n",
       "</style>\n",
       "<table border=\"1\" class=\"dataframe\">\n",
       "  <thead>\n",
       "    <tr style=\"text-align: right;\">\n",
       "      <th></th>\n",
       "      <th>total_images</th>\n",
       "      <th>last_price</th>\n",
       "      <th>total_area</th>\n",
       "      <th>first_day_exposition</th>\n",
       "      <th>rooms</th>\n",
       "      <th>ceiling_height</th>\n",
       "      <th>floors_total</th>\n",
       "      <th>living_area</th>\n",
       "      <th>floor</th>\n",
       "      <th>is_apartment</th>\n",
       "      <th>...</th>\n",
       "      <th>kitchen_area</th>\n",
       "      <th>balcony</th>\n",
       "      <th>locality_name</th>\n",
       "      <th>airports_nearest</th>\n",
       "      <th>cityCenters_nearest</th>\n",
       "      <th>parks_around3000</th>\n",
       "      <th>parks_nearest</th>\n",
       "      <th>ponds_around3000</th>\n",
       "      <th>ponds_nearest</th>\n",
       "      <th>days_exposition</th>\n",
       "    </tr>\n",
       "  </thead>\n",
       "  <tbody>\n",
       "    <tr>\n",
       "      <th>0</th>\n",
       "      <td>20</td>\n",
       "      <td>13000000.0</td>\n",
       "      <td>108.0</td>\n",
       "      <td>2019-03-07T00:00:00</td>\n",
       "      <td>3</td>\n",
       "      <td>2.70</td>\n",
       "      <td>16.0</td>\n",
       "      <td>51.0</td>\n",
       "      <td>8</td>\n",
       "      <td>NaN</td>\n",
       "      <td>...</td>\n",
       "      <td>25.0</td>\n",
       "      <td>NaN</td>\n",
       "      <td>Санкт-Петербург</td>\n",
       "      <td>18863.0</td>\n",
       "      <td>16028.0</td>\n",
       "      <td>1.0</td>\n",
       "      <td>482.0</td>\n",
       "      <td>2.0</td>\n",
       "      <td>755.0</td>\n",
       "      <td>NaN</td>\n",
       "    </tr>\n",
       "    <tr>\n",
       "      <th>1</th>\n",
       "      <td>7</td>\n",
       "      <td>3350000.0</td>\n",
       "      <td>40.4</td>\n",
       "      <td>2018-12-04T00:00:00</td>\n",
       "      <td>1</td>\n",
       "      <td>NaN</td>\n",
       "      <td>11.0</td>\n",
       "      <td>18.6</td>\n",
       "      <td>1</td>\n",
       "      <td>NaN</td>\n",
       "      <td>...</td>\n",
       "      <td>11.0</td>\n",
       "      <td>2.0</td>\n",
       "      <td>посёлок Шушары</td>\n",
       "      <td>12817.0</td>\n",
       "      <td>18603.0</td>\n",
       "      <td>0.0</td>\n",
       "      <td>NaN</td>\n",
       "      <td>0.0</td>\n",
       "      <td>NaN</td>\n",
       "      <td>81.0</td>\n",
       "    </tr>\n",
       "    <tr>\n",
       "      <th>2</th>\n",
       "      <td>10</td>\n",
       "      <td>5196000.0</td>\n",
       "      <td>56.0</td>\n",
       "      <td>2015-08-20T00:00:00</td>\n",
       "      <td>2</td>\n",
       "      <td>NaN</td>\n",
       "      <td>5.0</td>\n",
       "      <td>34.3</td>\n",
       "      <td>4</td>\n",
       "      <td>NaN</td>\n",
       "      <td>...</td>\n",
       "      <td>8.3</td>\n",
       "      <td>0.0</td>\n",
       "      <td>Санкт-Петербург</td>\n",
       "      <td>21741.0</td>\n",
       "      <td>13933.0</td>\n",
       "      <td>1.0</td>\n",
       "      <td>90.0</td>\n",
       "      <td>2.0</td>\n",
       "      <td>574.0</td>\n",
       "      <td>558.0</td>\n",
       "    </tr>\n",
       "    <tr>\n",
       "      <th>3</th>\n",
       "      <td>0</td>\n",
       "      <td>64900000.0</td>\n",
       "      <td>159.0</td>\n",
       "      <td>2015-07-24T00:00:00</td>\n",
       "      <td>3</td>\n",
       "      <td>NaN</td>\n",
       "      <td>14.0</td>\n",
       "      <td>NaN</td>\n",
       "      <td>9</td>\n",
       "      <td>NaN</td>\n",
       "      <td>...</td>\n",
       "      <td>NaN</td>\n",
       "      <td>0.0</td>\n",
       "      <td>Санкт-Петербург</td>\n",
       "      <td>28098.0</td>\n",
       "      <td>6800.0</td>\n",
       "      <td>2.0</td>\n",
       "      <td>84.0</td>\n",
       "      <td>3.0</td>\n",
       "      <td>234.0</td>\n",
       "      <td>424.0</td>\n",
       "    </tr>\n",
       "    <tr>\n",
       "      <th>4</th>\n",
       "      <td>2</td>\n",
       "      <td>10000000.0</td>\n",
       "      <td>100.0</td>\n",
       "      <td>2018-06-19T00:00:00</td>\n",
       "      <td>2</td>\n",
       "      <td>3.03</td>\n",
       "      <td>14.0</td>\n",
       "      <td>32.0</td>\n",
       "      <td>13</td>\n",
       "      <td>NaN</td>\n",
       "      <td>...</td>\n",
       "      <td>41.0</td>\n",
       "      <td>NaN</td>\n",
       "      <td>Санкт-Петербург</td>\n",
       "      <td>31856.0</td>\n",
       "      <td>8098.0</td>\n",
       "      <td>2.0</td>\n",
       "      <td>112.0</td>\n",
       "      <td>1.0</td>\n",
       "      <td>48.0</td>\n",
       "      <td>121.0</td>\n",
       "    </tr>\n",
       "  </tbody>\n",
       "</table>\n",
       "<p>5 rows × 22 columns</p>\n",
       "</div>"
      ],
      "text/plain": [
       "   total_images  last_price  total_area first_day_exposition  rooms  \\\n",
       "0            20  13000000.0       108.0  2019-03-07T00:00:00      3   \n",
       "1             7   3350000.0        40.4  2018-12-04T00:00:00      1   \n",
       "2            10   5196000.0        56.0  2015-08-20T00:00:00      2   \n",
       "3             0  64900000.0       159.0  2015-07-24T00:00:00      3   \n",
       "4             2  10000000.0       100.0  2018-06-19T00:00:00      2   \n",
       "\n",
       "   ceiling_height  floors_total  living_area  floor is_apartment  ...  \\\n",
       "0            2.70          16.0         51.0      8          NaN  ...   \n",
       "1             NaN          11.0         18.6      1          NaN  ...   \n",
       "2             NaN           5.0         34.3      4          NaN  ...   \n",
       "3             NaN          14.0          NaN      9          NaN  ...   \n",
       "4            3.03          14.0         32.0     13          NaN  ...   \n",
       "\n",
       "   kitchen_area  balcony    locality_name  airports_nearest  \\\n",
       "0          25.0      NaN  Санкт-Петербург           18863.0   \n",
       "1          11.0      2.0   посёлок Шушары           12817.0   \n",
       "2           8.3      0.0  Санкт-Петербург           21741.0   \n",
       "3           NaN      0.0  Санкт-Петербург           28098.0   \n",
       "4          41.0      NaN  Санкт-Петербург           31856.0   \n",
       "\n",
       "  cityCenters_nearest  parks_around3000  parks_nearest  ponds_around3000  \\\n",
       "0             16028.0               1.0          482.0               2.0   \n",
       "1             18603.0               0.0            NaN               0.0   \n",
       "2             13933.0               1.0           90.0               2.0   \n",
       "3              6800.0               2.0           84.0               3.0   \n",
       "4              8098.0               2.0          112.0               1.0   \n",
       "\n",
       "   ponds_nearest  days_exposition  \n",
       "0          755.0              NaN  \n",
       "1            NaN             81.0  \n",
       "2          574.0            558.0  \n",
       "3          234.0            424.0  \n",
       "4           48.0            121.0  \n",
       "\n",
       "[5 rows x 22 columns]"
      ]
     },
     "execution_count": 1,
     "metadata": {},
     "output_type": "execute_result"
    }
   ],
   "source": [
    "import pandas as pd\n",
    "import seaborn as sns\n",
    "df = pd.read_csv('***', sep='\\t')\n",
    "df.head()\n"
   ]
  },
  {
   "cell_type": "code",
   "execution_count": 2,
   "metadata": {},
   "outputs": [
    {
     "name": "stdout",
     "output_type": "stream",
     "text": [
      "<class 'pandas.core.frame.DataFrame'>\n",
      "RangeIndex: 23699 entries, 0 to 23698\n",
      "Data columns (total 22 columns):\n",
      " #   Column                Non-Null Count  Dtype  \n",
      "---  ------                --------------  -----  \n",
      " 0   total_images          23699 non-null  int64  \n",
      " 1   last_price            23699 non-null  float64\n",
      " 2   total_area            23699 non-null  float64\n",
      " 3   first_day_exposition  23699 non-null  object \n",
      " 4   rooms                 23699 non-null  int64  \n",
      " 5   ceiling_height        14504 non-null  float64\n",
      " 6   floors_total          23613 non-null  float64\n",
      " 7   living_area           21796 non-null  float64\n",
      " 8   floor                 23699 non-null  int64  \n",
      " 9   is_apartment          2775 non-null   object \n",
      " 10  studio                23699 non-null  bool   \n",
      " 11  open_plan             23699 non-null  bool   \n",
      " 12  kitchen_area          21421 non-null  float64\n",
      " 13  balcony               12180 non-null  float64\n",
      " 14  locality_name         23650 non-null  object \n",
      " 15  airports_nearest      18157 non-null  float64\n",
      " 16  cityCenters_nearest   18180 non-null  float64\n",
      " 17  parks_around3000      18181 non-null  float64\n",
      " 18  parks_nearest         8079 non-null   float64\n",
      " 19  ponds_around3000      18181 non-null  float64\n",
      " 20  ponds_nearest         9110 non-null   float64\n",
      " 21  days_exposition       20518 non-null  float64\n",
      "dtypes: bool(2), float64(14), int64(3), object(3)\n",
      "memory usage: 3.7+ MB\n"
     ]
    }
   ],
   "source": [
    "df.info()"
   ]
  },
  {
   "cell_type": "markdown",
   "metadata": {},
   "source": [
    "### Вывод"
   ]
  },
  {
   "cell_type": "markdown",
   "metadata": {},
   "source": [
    "Итак, в таблице 21 столбец. Тип данных в столбцах — `object`, `float64`, `int64`, `bool`.\n",
    "\n",
    "Согласно документации к данным:\n",
    " - `airports_nearest` — расстояние до ближайшего аэропорта в метрах (м)\n",
    " - `balcony` — число балконов\n",
    " - `ceiling_height` — высота потолков (м)\n",
    " - `cityCenters_nearest` — расстояние до центра города (м)\n",
    " - `days_exposition` — сколько дней было размещено объявление (от публикации до снятия)\n",
    " - `first_day_exposition` — дата публикации\n",
    " - `floor` — этаж\n",
    " - `floors_total` — всего этажей в доме\n",
    " - `is_apartment` — апартаменты (булев тип)\n",
    " - `kitchen_area` — площадь кухни в квадратных метрах (м²)\n",
    " - `last_price` — цена на момент снятия с публикации\n",
    " - `living_area` — жилая площадь в квадратных метрах (м²)\n",
    " - `locality_name` — название населённого пункта\n",
    " - `open_plan` — свободная планировка (булев тип)\n",
    " - `parks_around3000` — число парков в радиусе 3 км\n",
    " - `parks_nearest` — расстояние до ближайшего парка (м)\n",
    " - `ponds_around3000` — число водоёмов в радиусе 3 км\n",
    " - `ponds_nearest` — расстояние до ближайшего водоёма (м)\n",
    " - `rooms` — число комнат\n",
    " - `studio` — квартира-студия (булев тип)\n",
    " - `total_area` — площадь квартиры в квадратных метрах (м²)\n",
    " - `total_images` — число фотографий квартиры в объявлении\n",
    " \n",
    " В названии 4й колонки есть нарушение стиля - присутствует заглавная буква и нет нижнего подчёркивания.\n",
    " \n",
    " Также во многих столбцах есть пропуски."
   ]
  },
  {
   "cell_type": "markdown",
   "metadata": {},
   "source": [
    "## Предобработка данных"
   ]
  },
  {
   "cell_type": "markdown",
   "metadata": {},
   "source": [
    "### Стиль заголовков и пропуски значений"
   ]
  },
  {
   "cell_type": "code",
   "execution_count": 3,
   "metadata": {},
   "outputs": [],
   "source": [
    "df = df.rename(columns={'cityCenters_nearest' : 'city_centers_nearest'}) # переименовываем неправильный столбец"
   ]
  },
  {
   "cell_type": "markdown",
   "metadata": {},
   "source": [
    "Заполняем пропуски в столбце с количеством балконов - скорее всего, если в объявлении не указано число балконов - то их нет:"
   ]
  },
  {
   "cell_type": "code",
   "execution_count": 4,
   "metadata": {},
   "outputs": [],
   "source": [
    "df['balcony'] = df['balcony'].fillna(0) # заполняем пропуски нулями"
   ]
  },
  {
   "cell_type": "code",
   "execution_count": 5,
   "metadata": {},
   "outputs": [
    {
     "data": {
      "text/plain": [
       "0"
      ]
     },
     "execution_count": 5,
     "metadata": {},
     "output_type": "execute_result"
    }
   ],
   "source": [
    "df['balcony'].isna().sum()"
   ]
  },
  {
   "cell_type": "markdown",
   "metadata": {},
   "source": [
    "Далее посмотрим на пропуски в этажности дома `floors_total`, там всего 9 строк, можно от них избавиться:"
   ]
  },
  {
   "cell_type": "code",
   "execution_count": 6,
   "metadata": {},
   "outputs": [],
   "source": [
    "df = df.dropna(subset=['floors_total', 'city_centers_nearest']) "
   ]
  },
  {
   "cell_type": "markdown",
   "metadata": {},
   "source": [
    "Также удалим пропуски в `city_centers_nearest`, так как в дальнейшем этот столбец понадобится для исследования.\n",
    "\n",
    "Пропуски в остальных столбцах, где они имеются, мы не сможем заполнить средним либо медианой, к тому же в некоторых столбцах их число слишком велико, чтобы их просто удалить. Оставим их, чтобы не внести искажения в данные."
   ]
  },
  {
   "cell_type": "markdown",
   "metadata": {},
   "source": [
    "### Проверка данных на аномалии"
   ]
  },
  {
   "cell_type": "markdown",
   "metadata": {},
   "source": [
    "Теперь посморим на значения в других столбцах, корректны ли они:"
   ]
  },
  {
   "cell_type": "code",
   "execution_count": 7,
   "metadata": {},
   "outputs": [
    {
     "data": {
      "text/plain": [
       "array([  1.  ,   1.75,   2.  ,   2.3 ,   2.4 ,   2.45,   2.46,   2.47,\n",
       "         2.48,   2.49,   2.5 ,   2.51,   2.52,   2.53,   2.54,   2.55,\n",
       "         2.56,   2.57,   2.58,   2.59,   2.6 ,   2.61,   2.62,   2.63,\n",
       "         2.64,   2.65,   2.66,   2.67,   2.68,   2.69,   2.7 ,   2.71,\n",
       "         2.72,   2.73,   2.74,   2.75,   2.76,   2.77,   2.78,   2.79,\n",
       "         2.8 ,   2.81,   2.82,   2.83,   2.84,   2.85,   2.86,   2.87,\n",
       "         2.88,   2.89,   2.9 ,   2.91,   2.92,   2.93,   2.94,   2.95,\n",
       "         2.96,   2.97,   2.98,   2.99,   3.  ,   3.01,   3.02,   3.03,\n",
       "         3.04,   3.05,   3.06,   3.07,   3.08,   3.09,   3.1 ,   3.11,\n",
       "         3.12,   3.13,   3.14,   3.15,   3.16,   3.17,   3.18,   3.2 ,\n",
       "         3.21,   3.22,   3.23,   3.24,   3.25,   3.26,   3.27,   3.28,\n",
       "         3.29,   3.3 ,   3.31,   3.32,   3.33,   3.34,   3.35,   3.36,\n",
       "         3.37,   3.38,   3.39,   3.4 ,   3.42,   3.43,   3.44,   3.45,\n",
       "         3.46,   3.47,   3.48,   3.49,   3.5 ,   3.51,   3.52,   3.53,\n",
       "         3.54,   3.55,   3.56,   3.57,   3.58,   3.59,   3.6 ,   3.62,\n",
       "         3.63,   3.65,   3.66,   3.67,   3.68,   3.69,   3.7 ,   3.75,\n",
       "         3.76,   3.78,   3.8 ,   3.82,   3.84,   3.85,   3.86,   3.87,\n",
       "         3.88,   3.9 ,   3.93,   3.95,   3.98,   4.  ,   4.06,   4.1 ,\n",
       "         4.14,   4.15,   4.19,   4.2 ,   4.25,   4.3 ,   4.37,   4.4 ,\n",
       "         4.45,   4.5 ,   4.65,   4.7 ,   4.8 ,   4.9 ,   5.2 ,   5.3 ,\n",
       "         5.5 ,   5.6 ,   5.8 ,   6.  ,   8.  ,   8.3 ,  10.3 ,  14.  ,\n",
       "        20.  ,  22.6 ,  24.  ,  25.  ,  26.  ,  27.  ,  27.5 ,  32.  ,\n",
       "       100.  ,    nan])"
      ]
     },
     "execution_count": 7,
     "metadata": {},
     "output_type": "execute_result"
    }
   ],
   "source": [
    "df['ceiling_height'].sort_values().unique()"
   ]
  },
  {
   "cell_type": "markdown",
   "metadata": {},
   "source": [
    "Видим странные для жилой недвижимости значения - меньше 2х метров и больше 6 метров. Посморим на эти строки:"
   ]
  },
  {
   "cell_type": "code",
   "execution_count": 8,
   "metadata": {
    "scrolled": true
   },
   "outputs": [
    {
     "data": {
      "text/html": [
       "<div>\n",
       "<style scoped>\n",
       "    .dataframe tbody tr th:only-of-type {\n",
       "        vertical-align: middle;\n",
       "    }\n",
       "\n",
       "    .dataframe tbody tr th {\n",
       "        vertical-align: top;\n",
       "    }\n",
       "\n",
       "    .dataframe thead th {\n",
       "        text-align: right;\n",
       "    }\n",
       "</style>\n",
       "<table border=\"1\" class=\"dataframe\">\n",
       "  <thead>\n",
       "    <tr style=\"text-align: right;\">\n",
       "      <th></th>\n",
       "      <th>total_images</th>\n",
       "      <th>last_price</th>\n",
       "      <th>total_area</th>\n",
       "      <th>first_day_exposition</th>\n",
       "      <th>rooms</th>\n",
       "      <th>ceiling_height</th>\n",
       "      <th>floors_total</th>\n",
       "      <th>living_area</th>\n",
       "      <th>floor</th>\n",
       "      <th>is_apartment</th>\n",
       "      <th>...</th>\n",
       "      <th>kitchen_area</th>\n",
       "      <th>balcony</th>\n",
       "      <th>locality_name</th>\n",
       "      <th>airports_nearest</th>\n",
       "      <th>city_centers_nearest</th>\n",
       "      <th>parks_around3000</th>\n",
       "      <th>parks_nearest</th>\n",
       "      <th>ponds_around3000</th>\n",
       "      <th>ponds_nearest</th>\n",
       "      <th>days_exposition</th>\n",
       "    </tr>\n",
       "  </thead>\n",
       "  <tbody>\n",
       "    <tr>\n",
       "      <th>4643</th>\n",
       "      <td>0</td>\n",
       "      <td>4300000.0</td>\n",
       "      <td>45.0</td>\n",
       "      <td>2018-02-01T00:00:00</td>\n",
       "      <td>2</td>\n",
       "      <td>25.00</td>\n",
       "      <td>9.0</td>\n",
       "      <td>30.0</td>\n",
       "      <td>2</td>\n",
       "      <td>NaN</td>\n",
       "      <td>...</td>\n",
       "      <td>7.00</td>\n",
       "      <td>1.0</td>\n",
       "      <td>Санкт-Петербург</td>\n",
       "      <td>12016.0</td>\n",
       "      <td>13256.0</td>\n",
       "      <td>1.0</td>\n",
       "      <td>658.0</td>\n",
       "      <td>1.0</td>\n",
       "      <td>331.0</td>\n",
       "      <td>181.0</td>\n",
       "    </tr>\n",
       "    <tr>\n",
       "      <th>5076</th>\n",
       "      <td>0</td>\n",
       "      <td>3850000.0</td>\n",
       "      <td>30.5</td>\n",
       "      <td>2018-10-03T00:00:00</td>\n",
       "      <td>1</td>\n",
       "      <td>24.00</td>\n",
       "      <td>5.0</td>\n",
       "      <td>19.5</td>\n",
       "      <td>1</td>\n",
       "      <td>True</td>\n",
       "      <td>...</td>\n",
       "      <td>5.50</td>\n",
       "      <td>0.0</td>\n",
       "      <td>Санкт-Петербург</td>\n",
       "      <td>29686.0</td>\n",
       "      <td>8389.0</td>\n",
       "      <td>3.0</td>\n",
       "      <td>397.0</td>\n",
       "      <td>1.0</td>\n",
       "      <td>578.0</td>\n",
       "      <td>7.0</td>\n",
       "    </tr>\n",
       "    <tr>\n",
       "      <th>5669</th>\n",
       "      <td>4</td>\n",
       "      <td>4400000.0</td>\n",
       "      <td>50.0</td>\n",
       "      <td>2017-08-08T00:00:00</td>\n",
       "      <td>2</td>\n",
       "      <td>26.00</td>\n",
       "      <td>9.0</td>\n",
       "      <td>21.3</td>\n",
       "      <td>3</td>\n",
       "      <td>NaN</td>\n",
       "      <td>...</td>\n",
       "      <td>7.00</td>\n",
       "      <td>2.0</td>\n",
       "      <td>Санкт-Петербург</td>\n",
       "      <td>28981.0</td>\n",
       "      <td>10912.0</td>\n",
       "      <td>1.0</td>\n",
       "      <td>305.0</td>\n",
       "      <td>0.0</td>\n",
       "      <td>NaN</td>\n",
       "      <td>267.0</td>\n",
       "    </tr>\n",
       "    <tr>\n",
       "      <th>5807</th>\n",
       "      <td>17</td>\n",
       "      <td>8150000.0</td>\n",
       "      <td>80.0</td>\n",
       "      <td>2019-01-09T00:00:00</td>\n",
       "      <td>2</td>\n",
       "      <td>27.00</td>\n",
       "      <td>36.0</td>\n",
       "      <td>41.0</td>\n",
       "      <td>13</td>\n",
       "      <td>NaN</td>\n",
       "      <td>...</td>\n",
       "      <td>12.00</td>\n",
       "      <td>5.0</td>\n",
       "      <td>Санкт-Петербург</td>\n",
       "      <td>18732.0</td>\n",
       "      <td>20444.0</td>\n",
       "      <td>0.0</td>\n",
       "      <td>NaN</td>\n",
       "      <td>3.0</td>\n",
       "      <td>80.0</td>\n",
       "      <td>38.0</td>\n",
       "    </tr>\n",
       "    <tr>\n",
       "      <th>5863</th>\n",
       "      <td>20</td>\n",
       "      <td>5650000.0</td>\n",
       "      <td>45.0</td>\n",
       "      <td>2018-08-15T00:00:00</td>\n",
       "      <td>1</td>\n",
       "      <td>8.30</td>\n",
       "      <td>16.0</td>\n",
       "      <td>19.3</td>\n",
       "      <td>14</td>\n",
       "      <td>NaN</td>\n",
       "      <td>...</td>\n",
       "      <td>8.30</td>\n",
       "      <td>1.0</td>\n",
       "      <td>Санкт-Петербург</td>\n",
       "      <td>13069.0</td>\n",
       "      <td>10763.0</td>\n",
       "      <td>0.0</td>\n",
       "      <td>NaN</td>\n",
       "      <td>1.0</td>\n",
       "      <td>613.0</td>\n",
       "      <td>14.0</td>\n",
       "    </tr>\n",
       "    <tr>\n",
       "      <th>6246</th>\n",
       "      <td>6</td>\n",
       "      <td>3300000.0</td>\n",
       "      <td>44.4</td>\n",
       "      <td>2019-03-25T00:00:00</td>\n",
       "      <td>2</td>\n",
       "      <td>25.00</td>\n",
       "      <td>5.0</td>\n",
       "      <td>31.3</td>\n",
       "      <td>5</td>\n",
       "      <td>NaN</td>\n",
       "      <td>...</td>\n",
       "      <td>5.70</td>\n",
       "      <td>0.0</td>\n",
       "      <td>Кронштадт</td>\n",
       "      <td>68923.0</td>\n",
       "      <td>50649.0</td>\n",
       "      <td>1.0</td>\n",
       "      <td>417.0</td>\n",
       "      <td>2.0</td>\n",
       "      <td>73.0</td>\n",
       "      <td>NaN</td>\n",
       "    </tr>\n",
       "    <tr>\n",
       "      <th>9379</th>\n",
       "      <td>5</td>\n",
       "      <td>3950000.0</td>\n",
       "      <td>42.0</td>\n",
       "      <td>2017-03-26T00:00:00</td>\n",
       "      <td>3</td>\n",
       "      <td>25.00</td>\n",
       "      <td>5.0</td>\n",
       "      <td>30.0</td>\n",
       "      <td>2</td>\n",
       "      <td>NaN</td>\n",
       "      <td>...</td>\n",
       "      <td>5.20</td>\n",
       "      <td>0.0</td>\n",
       "      <td>Санкт-Петербург</td>\n",
       "      <td>11647.0</td>\n",
       "      <td>13581.0</td>\n",
       "      <td>0.0</td>\n",
       "      <td>NaN</td>\n",
       "      <td>0.0</td>\n",
       "      <td>NaN</td>\n",
       "      <td>NaN</td>\n",
       "    </tr>\n",
       "    <tr>\n",
       "      <th>15061</th>\n",
       "      <td>19</td>\n",
       "      <td>5600000.0</td>\n",
       "      <td>56.4</td>\n",
       "      <td>2018-05-11T00:00:00</td>\n",
       "      <td>2</td>\n",
       "      <td>14.00</td>\n",
       "      <td>14.0</td>\n",
       "      <td>32.4</td>\n",
       "      <td>5</td>\n",
       "      <td>NaN</td>\n",
       "      <td>...</td>\n",
       "      <td>9.10</td>\n",
       "      <td>2.0</td>\n",
       "      <td>Санкт-Петербург</td>\n",
       "      <td>14814.0</td>\n",
       "      <td>13610.0</td>\n",
       "      <td>0.0</td>\n",
       "      <td>NaN</td>\n",
       "      <td>0.0</td>\n",
       "      <td>NaN</td>\n",
       "      <td>315.0</td>\n",
       "    </tr>\n",
       "    <tr>\n",
       "      <th>15743</th>\n",
       "      <td>14</td>\n",
       "      <td>5600000.0</td>\n",
       "      <td>67.0</td>\n",
       "      <td>2016-11-11T00:00:00</td>\n",
       "      <td>3</td>\n",
       "      <td>8.00</td>\n",
       "      <td>16.0</td>\n",
       "      <td>41.0</td>\n",
       "      <td>1</td>\n",
       "      <td>NaN</td>\n",
       "      <td>...</td>\n",
       "      <td>8.00</td>\n",
       "      <td>0.0</td>\n",
       "      <td>Санкт-Петербург</td>\n",
       "      <td>32691.0</td>\n",
       "      <td>11035.0</td>\n",
       "      <td>1.0</td>\n",
       "      <td>723.0</td>\n",
       "      <td>0.0</td>\n",
       "      <td>NaN</td>\n",
       "      <td>474.0</td>\n",
       "    </tr>\n",
       "    <tr>\n",
       "      <th>16934</th>\n",
       "      <td>5</td>\n",
       "      <td>4100000.0</td>\n",
       "      <td>40.0</td>\n",
       "      <td>2017-10-17T00:00:00</td>\n",
       "      <td>1</td>\n",
       "      <td>1.75</td>\n",
       "      <td>37.0</td>\n",
       "      <td>17.4</td>\n",
       "      <td>5</td>\n",
       "      <td>NaN</td>\n",
       "      <td>...</td>\n",
       "      <td>8.34</td>\n",
       "      <td>0.0</td>\n",
       "      <td>Санкт-Петербург</td>\n",
       "      <td>18732.0</td>\n",
       "      <td>20444.0</td>\n",
       "      <td>0.0</td>\n",
       "      <td>NaN</td>\n",
       "      <td>3.0</td>\n",
       "      <td>80.0</td>\n",
       "      <td>71.0</td>\n",
       "    </tr>\n",
       "    <tr>\n",
       "      <th>17442</th>\n",
       "      <td>0</td>\n",
       "      <td>5350000.0</td>\n",
       "      <td>54.0</td>\n",
       "      <td>2015-06-16T00:00:00</td>\n",
       "      <td>2</td>\n",
       "      <td>8.00</td>\n",
       "      <td>5.0</td>\n",
       "      <td>29.0</td>\n",
       "      <td>2</td>\n",
       "      <td>NaN</td>\n",
       "      <td>...</td>\n",
       "      <td>NaN</td>\n",
       "      <td>1.0</td>\n",
       "      <td>Красное Село</td>\n",
       "      <td>24638.0</td>\n",
       "      <td>28062.0</td>\n",
       "      <td>0.0</td>\n",
       "      <td>NaN</td>\n",
       "      <td>0.0</td>\n",
       "      <td>NaN</td>\n",
       "      <td>469.0</td>\n",
       "    </tr>\n",
       "    <tr>\n",
       "      <th>17496</th>\n",
       "      <td>15</td>\n",
       "      <td>6700000.0</td>\n",
       "      <td>92.9</td>\n",
       "      <td>2019-02-19T00:00:00</td>\n",
       "      <td>3</td>\n",
       "      <td>20.00</td>\n",
       "      <td>17.0</td>\n",
       "      <td>53.2</td>\n",
       "      <td>14</td>\n",
       "      <td>NaN</td>\n",
       "      <td>...</td>\n",
       "      <td>12.00</td>\n",
       "      <td>5.0</td>\n",
       "      <td>Санкт-Петербург</td>\n",
       "      <td>16295.0</td>\n",
       "      <td>15092.0</td>\n",
       "      <td>1.0</td>\n",
       "      <td>967.0</td>\n",
       "      <td>0.0</td>\n",
       "      <td>NaN</td>\n",
       "      <td>NaN</td>\n",
       "    </tr>\n",
       "    <tr>\n",
       "      <th>17857</th>\n",
       "      <td>1</td>\n",
       "      <td>3900000.0</td>\n",
       "      <td>56.0</td>\n",
       "      <td>2017-12-22T00:00:00</td>\n",
       "      <td>3</td>\n",
       "      <td>27.00</td>\n",
       "      <td>5.0</td>\n",
       "      <td>33.0</td>\n",
       "      <td>4</td>\n",
       "      <td>False</td>\n",
       "      <td>...</td>\n",
       "      <td>NaN</td>\n",
       "      <td>0.0</td>\n",
       "      <td>Санкт-Петербург</td>\n",
       "      <td>41030.0</td>\n",
       "      <td>15543.0</td>\n",
       "      <td>0.0</td>\n",
       "      <td>NaN</td>\n",
       "      <td>0.0</td>\n",
       "      <td>NaN</td>\n",
       "      <td>73.0</td>\n",
       "    </tr>\n",
       "    <tr>\n",
       "      <th>18545</th>\n",
       "      <td>6</td>\n",
       "      <td>3750000.0</td>\n",
       "      <td>43.0</td>\n",
       "      <td>2019-03-18T00:00:00</td>\n",
       "      <td>2</td>\n",
       "      <td>25.00</td>\n",
       "      <td>5.0</td>\n",
       "      <td>29.0</td>\n",
       "      <td>3</td>\n",
       "      <td>False</td>\n",
       "      <td>...</td>\n",
       "      <td>NaN</td>\n",
       "      <td>0.0</td>\n",
       "      <td>Санкт-Петербург</td>\n",
       "      <td>27054.0</td>\n",
       "      <td>8033.0</td>\n",
       "      <td>1.0</td>\n",
       "      <td>540.0</td>\n",
       "      <td>0.0</td>\n",
       "      <td>NaN</td>\n",
       "      <td>12.0</td>\n",
       "    </tr>\n",
       "    <tr>\n",
       "      <th>20478</th>\n",
       "      <td>11</td>\n",
       "      <td>8000000.0</td>\n",
       "      <td>45.0</td>\n",
       "      <td>2017-07-18T00:00:00</td>\n",
       "      <td>1</td>\n",
       "      <td>27.00</td>\n",
       "      <td>4.0</td>\n",
       "      <td>22.0</td>\n",
       "      <td>2</td>\n",
       "      <td>NaN</td>\n",
       "      <td>...</td>\n",
       "      <td>10.00</td>\n",
       "      <td>1.0</td>\n",
       "      <td>Санкт-Петербург</td>\n",
       "      <td>18975.0</td>\n",
       "      <td>3246.0</td>\n",
       "      <td>0.0</td>\n",
       "      <td>NaN</td>\n",
       "      <td>3.0</td>\n",
       "      <td>449.0</td>\n",
       "      <td>429.0</td>\n",
       "    </tr>\n",
       "    <tr>\n",
       "      <th>20507</th>\n",
       "      <td>12</td>\n",
       "      <td>5950000.0</td>\n",
       "      <td>60.0</td>\n",
       "      <td>2018-02-19T00:00:00</td>\n",
       "      <td>2</td>\n",
       "      <td>22.60</td>\n",
       "      <td>14.0</td>\n",
       "      <td>35.0</td>\n",
       "      <td>11</td>\n",
       "      <td>NaN</td>\n",
       "      <td>...</td>\n",
       "      <td>13.00</td>\n",
       "      <td>1.0</td>\n",
       "      <td>Санкт-Петербург</td>\n",
       "      <td>27028.0</td>\n",
       "      <td>12570.0</td>\n",
       "      <td>0.0</td>\n",
       "      <td>NaN</td>\n",
       "      <td>0.0</td>\n",
       "      <td>NaN</td>\n",
       "      <td>40.0</td>\n",
       "    </tr>\n",
       "    <tr>\n",
       "      <th>21377</th>\n",
       "      <td>19</td>\n",
       "      <td>4900000.0</td>\n",
       "      <td>42.0</td>\n",
       "      <td>2017-04-18T00:00:00</td>\n",
       "      <td>1</td>\n",
       "      <td>27.50</td>\n",
       "      <td>24.0</td>\n",
       "      <td>37.7</td>\n",
       "      <td>19</td>\n",
       "      <td>False</td>\n",
       "      <td>...</td>\n",
       "      <td>11.00</td>\n",
       "      <td>2.0</td>\n",
       "      <td>Санкт-Петербург</td>\n",
       "      <td>42742.0</td>\n",
       "      <td>9760.0</td>\n",
       "      <td>0.0</td>\n",
       "      <td>NaN</td>\n",
       "      <td>0.0</td>\n",
       "      <td>NaN</td>\n",
       "      <td>61.0</td>\n",
       "    </tr>\n",
       "    <tr>\n",
       "      <th>22309</th>\n",
       "      <td>20</td>\n",
       "      <td>5300000.0</td>\n",
       "      <td>45.0</td>\n",
       "      <td>2017-09-30T00:00:00</td>\n",
       "      <td>1</td>\n",
       "      <td>10.30</td>\n",
       "      <td>16.0</td>\n",
       "      <td>15.5</td>\n",
       "      <td>15</td>\n",
       "      <td>NaN</td>\n",
       "      <td>...</td>\n",
       "      <td>NaN</td>\n",
       "      <td>0.0</td>\n",
       "      <td>Санкт-Петербург</td>\n",
       "      <td>36353.0</td>\n",
       "      <td>11936.0</td>\n",
       "      <td>2.0</td>\n",
       "      <td>440.0</td>\n",
       "      <td>2.0</td>\n",
       "      <td>450.0</td>\n",
       "      <td>136.0</td>\n",
       "    </tr>\n",
       "    <tr>\n",
       "      <th>22336</th>\n",
       "      <td>19</td>\n",
       "      <td>9999000.0</td>\n",
       "      <td>92.4</td>\n",
       "      <td>2019-04-05T00:00:00</td>\n",
       "      <td>2</td>\n",
       "      <td>32.00</td>\n",
       "      <td>6.0</td>\n",
       "      <td>55.5</td>\n",
       "      <td>5</td>\n",
       "      <td>False</td>\n",
       "      <td>...</td>\n",
       "      <td>16.50</td>\n",
       "      <td>4.0</td>\n",
       "      <td>Санкт-Петербург</td>\n",
       "      <td>18838.0</td>\n",
       "      <td>3506.0</td>\n",
       "      <td>0.0</td>\n",
       "      <td>NaN</td>\n",
       "      <td>3.0</td>\n",
       "      <td>511.0</td>\n",
       "      <td>NaN</td>\n",
       "    </tr>\n",
       "    <tr>\n",
       "      <th>22590</th>\n",
       "      <td>16</td>\n",
       "      <td>6000000.0</td>\n",
       "      <td>55.0</td>\n",
       "      <td>2018-10-31T00:00:00</td>\n",
       "      <td>2</td>\n",
       "      <td>1.00</td>\n",
       "      <td>12.0</td>\n",
       "      <td>32.4</td>\n",
       "      <td>7</td>\n",
       "      <td>NaN</td>\n",
       "      <td>...</td>\n",
       "      <td>10.00</td>\n",
       "      <td>0.0</td>\n",
       "      <td>Санкт-Петербург</td>\n",
       "      <td>33053.0</td>\n",
       "      <td>14217.0</td>\n",
       "      <td>2.0</td>\n",
       "      <td>293.0</td>\n",
       "      <td>2.0</td>\n",
       "      <td>289.0</td>\n",
       "      <td>13.0</td>\n",
       "    </tr>\n",
       "    <tr>\n",
       "      <th>22869</th>\n",
       "      <td>0</td>\n",
       "      <td>15000000.0</td>\n",
       "      <td>25.0</td>\n",
       "      <td>2018-07-25T00:00:00</td>\n",
       "      <td>1</td>\n",
       "      <td>100.00</td>\n",
       "      <td>5.0</td>\n",
       "      <td>14.0</td>\n",
       "      <td>5</td>\n",
       "      <td>True</td>\n",
       "      <td>...</td>\n",
       "      <td>11.00</td>\n",
       "      <td>5.0</td>\n",
       "      <td>Санкт-Петербург</td>\n",
       "      <td>34963.0</td>\n",
       "      <td>8283.0</td>\n",
       "      <td>1.0</td>\n",
       "      <td>223.0</td>\n",
       "      <td>3.0</td>\n",
       "      <td>30.0</td>\n",
       "      <td>19.0</td>\n",
       "    </tr>\n",
       "  </tbody>\n",
       "</table>\n",
       "<p>21 rows × 22 columns</p>\n",
       "</div>"
      ],
      "text/plain": [
       "       total_images  last_price  total_area first_day_exposition  rooms  \\\n",
       "4643              0   4300000.0        45.0  2018-02-01T00:00:00      2   \n",
       "5076              0   3850000.0        30.5  2018-10-03T00:00:00      1   \n",
       "5669              4   4400000.0        50.0  2017-08-08T00:00:00      2   \n",
       "5807             17   8150000.0        80.0  2019-01-09T00:00:00      2   \n",
       "5863             20   5650000.0        45.0  2018-08-15T00:00:00      1   \n",
       "6246              6   3300000.0        44.4  2019-03-25T00:00:00      2   \n",
       "9379              5   3950000.0        42.0  2017-03-26T00:00:00      3   \n",
       "15061            19   5600000.0        56.4  2018-05-11T00:00:00      2   \n",
       "15743            14   5600000.0        67.0  2016-11-11T00:00:00      3   \n",
       "16934             5   4100000.0        40.0  2017-10-17T00:00:00      1   \n",
       "17442             0   5350000.0        54.0  2015-06-16T00:00:00      2   \n",
       "17496            15   6700000.0        92.9  2019-02-19T00:00:00      3   \n",
       "17857             1   3900000.0        56.0  2017-12-22T00:00:00      3   \n",
       "18545             6   3750000.0        43.0  2019-03-18T00:00:00      2   \n",
       "20478            11   8000000.0        45.0  2017-07-18T00:00:00      1   \n",
       "20507            12   5950000.0        60.0  2018-02-19T00:00:00      2   \n",
       "21377            19   4900000.0        42.0  2017-04-18T00:00:00      1   \n",
       "22309            20   5300000.0        45.0  2017-09-30T00:00:00      1   \n",
       "22336            19   9999000.0        92.4  2019-04-05T00:00:00      2   \n",
       "22590            16   6000000.0        55.0  2018-10-31T00:00:00      2   \n",
       "22869             0  15000000.0        25.0  2018-07-25T00:00:00      1   \n",
       "\n",
       "       ceiling_height  floors_total  living_area  floor is_apartment  ...  \\\n",
       "4643            25.00           9.0         30.0      2          NaN  ...   \n",
       "5076            24.00           5.0         19.5      1         True  ...   \n",
       "5669            26.00           9.0         21.3      3          NaN  ...   \n",
       "5807            27.00          36.0         41.0     13          NaN  ...   \n",
       "5863             8.30          16.0         19.3     14          NaN  ...   \n",
       "6246            25.00           5.0         31.3      5          NaN  ...   \n",
       "9379            25.00           5.0         30.0      2          NaN  ...   \n",
       "15061           14.00          14.0         32.4      5          NaN  ...   \n",
       "15743            8.00          16.0         41.0      1          NaN  ...   \n",
       "16934            1.75          37.0         17.4      5          NaN  ...   \n",
       "17442            8.00           5.0         29.0      2          NaN  ...   \n",
       "17496           20.00          17.0         53.2     14          NaN  ...   \n",
       "17857           27.00           5.0         33.0      4        False  ...   \n",
       "18545           25.00           5.0         29.0      3        False  ...   \n",
       "20478           27.00           4.0         22.0      2          NaN  ...   \n",
       "20507           22.60          14.0         35.0     11          NaN  ...   \n",
       "21377           27.50          24.0         37.7     19        False  ...   \n",
       "22309           10.30          16.0         15.5     15          NaN  ...   \n",
       "22336           32.00           6.0         55.5      5        False  ...   \n",
       "22590            1.00          12.0         32.4      7          NaN  ...   \n",
       "22869          100.00           5.0         14.0      5         True  ...   \n",
       "\n",
       "       kitchen_area  balcony    locality_name  airports_nearest  \\\n",
       "4643           7.00      1.0  Санкт-Петербург           12016.0   \n",
       "5076           5.50      0.0  Санкт-Петербург           29686.0   \n",
       "5669           7.00      2.0  Санкт-Петербург           28981.0   \n",
       "5807          12.00      5.0  Санкт-Петербург           18732.0   \n",
       "5863           8.30      1.0  Санкт-Петербург           13069.0   \n",
       "6246           5.70      0.0        Кронштадт           68923.0   \n",
       "9379           5.20      0.0  Санкт-Петербург           11647.0   \n",
       "15061          9.10      2.0  Санкт-Петербург           14814.0   \n",
       "15743          8.00      0.0  Санкт-Петербург           32691.0   \n",
       "16934          8.34      0.0  Санкт-Петербург           18732.0   \n",
       "17442           NaN      1.0     Красное Село           24638.0   \n",
       "17496         12.00      5.0  Санкт-Петербург           16295.0   \n",
       "17857           NaN      0.0  Санкт-Петербург           41030.0   \n",
       "18545           NaN      0.0  Санкт-Петербург           27054.0   \n",
       "20478         10.00      1.0  Санкт-Петербург           18975.0   \n",
       "20507         13.00      1.0  Санкт-Петербург           27028.0   \n",
       "21377         11.00      2.0  Санкт-Петербург           42742.0   \n",
       "22309           NaN      0.0  Санкт-Петербург           36353.0   \n",
       "22336         16.50      4.0  Санкт-Петербург           18838.0   \n",
       "22590         10.00      0.0  Санкт-Петербург           33053.0   \n",
       "22869         11.00      5.0  Санкт-Петербург           34963.0   \n",
       "\n",
       "      city_centers_nearest  parks_around3000  parks_nearest  ponds_around3000  \\\n",
       "4643               13256.0               1.0          658.0               1.0   \n",
       "5076                8389.0               3.0          397.0               1.0   \n",
       "5669               10912.0               1.0          305.0               0.0   \n",
       "5807               20444.0               0.0            NaN               3.0   \n",
       "5863               10763.0               0.0            NaN               1.0   \n",
       "6246               50649.0               1.0          417.0               2.0   \n",
       "9379               13581.0               0.0            NaN               0.0   \n",
       "15061              13610.0               0.0            NaN               0.0   \n",
       "15743              11035.0               1.0          723.0               0.0   \n",
       "16934              20444.0               0.0            NaN               3.0   \n",
       "17442              28062.0               0.0            NaN               0.0   \n",
       "17496              15092.0               1.0          967.0               0.0   \n",
       "17857              15543.0               0.0            NaN               0.0   \n",
       "18545               8033.0               1.0          540.0               0.0   \n",
       "20478               3246.0               0.0            NaN               3.0   \n",
       "20507              12570.0               0.0            NaN               0.0   \n",
       "21377               9760.0               0.0            NaN               0.0   \n",
       "22309              11936.0               2.0          440.0               2.0   \n",
       "22336               3506.0               0.0            NaN               3.0   \n",
       "22590              14217.0               2.0          293.0               2.0   \n",
       "22869               8283.0               1.0          223.0               3.0   \n",
       "\n",
       "       ponds_nearest  days_exposition  \n",
       "4643           331.0            181.0  \n",
       "5076           578.0              7.0  \n",
       "5669             NaN            267.0  \n",
       "5807            80.0             38.0  \n",
       "5863           613.0             14.0  \n",
       "6246            73.0              NaN  \n",
       "9379             NaN              NaN  \n",
       "15061            NaN            315.0  \n",
       "15743            NaN            474.0  \n",
       "16934           80.0             71.0  \n",
       "17442            NaN            469.0  \n",
       "17496            NaN              NaN  \n",
       "17857            NaN             73.0  \n",
       "18545            NaN             12.0  \n",
       "20478          449.0            429.0  \n",
       "20507            NaN             40.0  \n",
       "21377            NaN             61.0  \n",
       "22309          450.0            136.0  \n",
       "22336          511.0              NaN  \n",
       "22590          289.0             13.0  \n",
       "22869           30.0             19.0  \n",
       "\n",
       "[21 rows x 22 columns]"
      ]
     },
     "execution_count": 8,
     "metadata": {},
     "output_type": "execute_result"
    }
   ],
   "source": [
    "df.query('(ceiling_height < 2) or (ceiling_height > 6)')"
   ]
  },
  {
   "cell_type": "markdown",
   "metadata": {},
   "source": [
    "Всего 32 строки - ими можно пренебречь без искажения данных. Скорее всего, значения вроде 25 и 27, на самом деле должны быть записаны с точкой, как 2.5 и 2.7. с другими значениями - 100, 1, 8 - не получится разобраться таким образом."
   ]
  },
  {
   "cell_type": "code",
   "execution_count": 9,
   "metadata": {
    "scrolled": true
   },
   "outputs": [
    {
     "data": {
      "text/plain": [
       "0"
      ]
     },
     "execution_count": 9,
     "metadata": {},
     "output_type": "execute_result"
    }
   ],
   "source": [
    "df = df.query('(ceiling_height >= 2) and (ceiling_height <= 6)')\n",
    "len(df.query('(ceiling_height < 2) or (ceiling_height > 6)'))"
   ]
  },
  {
   "cell_type": "code",
   "execution_count": 10,
   "metadata": {},
   "outputs": [
    {
     "data": {
      "text/plain": [
       "array([ 0,  1,  2,  3,  4,  5,  6,  7,  8,  9, 10, 11, 12, 14, 15, 16])"
      ]
     },
     "execution_count": 10,
     "metadata": {},
     "output_type": "execute_result"
    }
   ],
   "source": [
    "df['rooms'].sort_values().unique()"
   ]
  },
  {
   "cell_type": "markdown",
   "metadata": {},
   "source": [
    "Видим значение комнат равное нулю, это может быть пропуск, либо так могут быть обозначены квартиры-студии или недвижимость в частных домах."
   ]
  },
  {
   "cell_type": "code",
   "execution_count": 11,
   "metadata": {},
   "outputs": [
    {
     "data": {
      "text/plain": [
       "57"
      ]
     },
     "metadata": {},
     "output_type": "display_data"
    },
    {
     "data": {
      "text/plain": [
       "52"
      ]
     },
     "metadata": {},
     "output_type": "display_data"
    }
   ],
   "source": [
    "display(len(df.query('rooms == 0')))\n",
    "display(len(df.query('(rooms == 0) and (studio == True)')))"
   ]
  },
  {
   "cell_type": "markdown",
   "metadata": {},
   "source": [
    "Практически все квартиры с числом комнат 0 - квартиры студии. Поэтому можем присвоить им новое значение:"
   ]
  },
  {
   "cell_type": "code",
   "execution_count": 12,
   "metadata": {},
   "outputs": [
    {
     "data": {
      "text/plain": [
       "array([ 1,  2,  3,  4,  5,  6,  7,  8,  9, 10, 11, 12, 14, 15, 16])"
      ]
     },
     "execution_count": 12,
     "metadata": {},
     "output_type": "execute_result"
    }
   ],
   "source": [
    "df.loc[df['rooms'] == 0, 'rooms'] = 1\n",
    "df['rooms'].sort_values().unique()"
   ]
  },
  {
   "cell_type": "markdown",
   "metadata": {},
   "source": [
    "<div class=\"alert alert-success\">\n",
    "<b>Комментарий ревьюера ✔️:</b> Согласен с таким решением"
   ]
  },
  {
   "cell_type": "markdown",
   "metadata": {},
   "source": [
    "### Исправление типов данных"
   ]
  },
  {
   "cell_type": "markdown",
   "metadata": {},
   "source": [
    "Где это возможно, приводим данные к целочисленному типу (int):"
   ]
  },
  {
   "cell_type": "code",
   "execution_count": 13,
   "metadata": {},
   "outputs": [],
   "source": [
    "df['balcony'] = df['balcony'].astype('int')"
   ]
  },
  {
   "cell_type": "markdown",
   "metadata": {},
   "source": [
    "Приводим столбец `first_day_exposition` к формату datetime, чтобы в дальнейшем извлечь из него необходимые данные:"
   ]
  },
  {
   "cell_type": "code",
   "execution_count": 14,
   "metadata": {},
   "outputs": [],
   "source": [
    "df['first_day_exposition'] = pd.to_datetime(df['first_day_exposition'], format='%Y-%m-%dT%H:%M:%S')"
   ]
  },
  {
   "cell_type": "code",
   "execution_count": 15,
   "metadata": {},
   "outputs": [
    {
     "data": {
      "text/html": [
       "<div>\n",
       "<style scoped>\n",
       "    .dataframe tbody tr th:only-of-type {\n",
       "        vertical-align: middle;\n",
       "    }\n",
       "\n",
       "    .dataframe tbody tr th {\n",
       "        vertical-align: top;\n",
       "    }\n",
       "\n",
       "    .dataframe thead th {\n",
       "        text-align: right;\n",
       "    }\n",
       "</style>\n",
       "<table border=\"1\" class=\"dataframe\">\n",
       "  <thead>\n",
       "    <tr style=\"text-align: right;\">\n",
       "      <th></th>\n",
       "      <th>total_images</th>\n",
       "      <th>last_price</th>\n",
       "      <th>total_area</th>\n",
       "      <th>first_day_exposition</th>\n",
       "      <th>rooms</th>\n",
       "      <th>ceiling_height</th>\n",
       "      <th>floors_total</th>\n",
       "      <th>living_area</th>\n",
       "      <th>floor</th>\n",
       "      <th>is_apartment</th>\n",
       "      <th>...</th>\n",
       "      <th>kitchen_area</th>\n",
       "      <th>balcony</th>\n",
       "      <th>locality_name</th>\n",
       "      <th>airports_nearest</th>\n",
       "      <th>city_centers_nearest</th>\n",
       "      <th>parks_around3000</th>\n",
       "      <th>parks_nearest</th>\n",
       "      <th>ponds_around3000</th>\n",
       "      <th>ponds_nearest</th>\n",
       "      <th>days_exposition</th>\n",
       "    </tr>\n",
       "  </thead>\n",
       "  <tbody>\n",
       "    <tr>\n",
       "      <th>0</th>\n",
       "      <td>20</td>\n",
       "      <td>13000000.0</td>\n",
       "      <td>108.0</td>\n",
       "      <td>2019-03-07</td>\n",
       "      <td>3</td>\n",
       "      <td>2.70</td>\n",
       "      <td>16.0</td>\n",
       "      <td>51.0</td>\n",
       "      <td>8</td>\n",
       "      <td>NaN</td>\n",
       "      <td>...</td>\n",
       "      <td>25.0</td>\n",
       "      <td>0</td>\n",
       "      <td>Санкт-Петербург</td>\n",
       "      <td>18863.0</td>\n",
       "      <td>16028.0</td>\n",
       "      <td>1.0</td>\n",
       "      <td>482.0</td>\n",
       "      <td>2.0</td>\n",
       "      <td>755.0</td>\n",
       "      <td>NaN</td>\n",
       "    </tr>\n",
       "    <tr>\n",
       "      <th>4</th>\n",
       "      <td>2</td>\n",
       "      <td>10000000.0</td>\n",
       "      <td>100.0</td>\n",
       "      <td>2018-06-19</td>\n",
       "      <td>2</td>\n",
       "      <td>3.03</td>\n",
       "      <td>14.0</td>\n",
       "      <td>32.0</td>\n",
       "      <td>13</td>\n",
       "      <td>NaN</td>\n",
       "      <td>...</td>\n",
       "      <td>41.0</td>\n",
       "      <td>0</td>\n",
       "      <td>Санкт-Петербург</td>\n",
       "      <td>31856.0</td>\n",
       "      <td>8098.0</td>\n",
       "      <td>2.0</td>\n",
       "      <td>112.0</td>\n",
       "      <td>1.0</td>\n",
       "      <td>48.0</td>\n",
       "      <td>121.0</td>\n",
       "    </tr>\n",
       "    <tr>\n",
       "      <th>9</th>\n",
       "      <td>18</td>\n",
       "      <td>5400000.0</td>\n",
       "      <td>61.0</td>\n",
       "      <td>2017-02-26</td>\n",
       "      <td>3</td>\n",
       "      <td>2.50</td>\n",
       "      <td>9.0</td>\n",
       "      <td>43.6</td>\n",
       "      <td>7</td>\n",
       "      <td>NaN</td>\n",
       "      <td>...</td>\n",
       "      <td>6.5</td>\n",
       "      <td>2</td>\n",
       "      <td>Санкт-Петербург</td>\n",
       "      <td>50898.0</td>\n",
       "      <td>15008.0</td>\n",
       "      <td>0.0</td>\n",
       "      <td>NaN</td>\n",
       "      <td>0.0</td>\n",
       "      <td>NaN</td>\n",
       "      <td>289.0</td>\n",
       "    </tr>\n",
       "    <tr>\n",
       "      <th>10</th>\n",
       "      <td>5</td>\n",
       "      <td>5050000.0</td>\n",
       "      <td>39.6</td>\n",
       "      <td>2017-11-16</td>\n",
       "      <td>1</td>\n",
       "      <td>2.67</td>\n",
       "      <td>12.0</td>\n",
       "      <td>20.3</td>\n",
       "      <td>3</td>\n",
       "      <td>NaN</td>\n",
       "      <td>...</td>\n",
       "      <td>8.5</td>\n",
       "      <td>0</td>\n",
       "      <td>Санкт-Петербург</td>\n",
       "      <td>38357.0</td>\n",
       "      <td>13878.0</td>\n",
       "      <td>1.0</td>\n",
       "      <td>310.0</td>\n",
       "      <td>2.0</td>\n",
       "      <td>553.0</td>\n",
       "      <td>137.0</td>\n",
       "    </tr>\n",
       "    <tr>\n",
       "      <th>13</th>\n",
       "      <td>20</td>\n",
       "      <td>3550000.0</td>\n",
       "      <td>42.8</td>\n",
       "      <td>2017-07-01</td>\n",
       "      <td>2</td>\n",
       "      <td>2.56</td>\n",
       "      <td>5.0</td>\n",
       "      <td>27.0</td>\n",
       "      <td>5</td>\n",
       "      <td>NaN</td>\n",
       "      <td>...</td>\n",
       "      <td>5.2</td>\n",
       "      <td>1</td>\n",
       "      <td>Петергоф</td>\n",
       "      <td>37868.0</td>\n",
       "      <td>33058.0</td>\n",
       "      <td>1.0</td>\n",
       "      <td>294.0</td>\n",
       "      <td>3.0</td>\n",
       "      <td>298.0</td>\n",
       "      <td>366.0</td>\n",
       "    </tr>\n",
       "  </tbody>\n",
       "</table>\n",
       "<p>5 rows × 22 columns</p>\n",
       "</div>"
      ],
      "text/plain": [
       "    total_images  last_price  total_area first_day_exposition  rooms  \\\n",
       "0             20  13000000.0       108.0           2019-03-07      3   \n",
       "4              2  10000000.0       100.0           2018-06-19      2   \n",
       "9             18   5400000.0        61.0           2017-02-26      3   \n",
       "10             5   5050000.0        39.6           2017-11-16      1   \n",
       "13            20   3550000.0        42.8           2017-07-01      2   \n",
       "\n",
       "    ceiling_height  floors_total  living_area  floor is_apartment  ...  \\\n",
       "0             2.70          16.0         51.0      8          NaN  ...   \n",
       "4             3.03          14.0         32.0     13          NaN  ...   \n",
       "9             2.50           9.0         43.6      7          NaN  ...   \n",
       "10            2.67          12.0         20.3      3          NaN  ...   \n",
       "13            2.56           5.0         27.0      5          NaN  ...   \n",
       "\n",
       "    kitchen_area  balcony    locality_name  airports_nearest  \\\n",
       "0           25.0        0  Санкт-Петербург           18863.0   \n",
       "4           41.0        0  Санкт-Петербург           31856.0   \n",
       "9            6.5        2  Санкт-Петербург           50898.0   \n",
       "10           8.5        0  Санкт-Петербург           38357.0   \n",
       "13           5.2        1         Петергоф           37868.0   \n",
       "\n",
       "   city_centers_nearest  parks_around3000  parks_nearest  ponds_around3000  \\\n",
       "0               16028.0               1.0          482.0               2.0   \n",
       "4                8098.0               2.0          112.0               1.0   \n",
       "9               15008.0               0.0            NaN               0.0   \n",
       "10              13878.0               1.0          310.0               2.0   \n",
       "13              33058.0               1.0          294.0               3.0   \n",
       "\n",
       "    ponds_nearest  days_exposition  \n",
       "0           755.0              NaN  \n",
       "4            48.0            121.0  \n",
       "9             NaN            289.0  \n",
       "10          553.0            137.0  \n",
       "13          298.0            366.0  \n",
       "\n",
       "[5 rows x 22 columns]"
      ]
     },
     "execution_count": 15,
     "metadata": {},
     "output_type": "execute_result"
    }
   ],
   "source": [
    "df.head()"
   ]
  },
  {
   "cell_type": "markdown",
   "metadata": {},
   "source": [
    "Итак, мы:\n",
    "- избавились от пропусков в столбцах `balcony`(также привели этот столбец к целочисленному типу), `floors_total` и `city_centers_nearest` \n",
    "- нашли и исправили некорректные значения в стоблцах `rooms` и `ceiling_height` \n",
    "- преобразовали столбец `first_day_exposition` к формату datetime - это изменение пригодится в дальнейшем ходе исследования."
   ]
  },
  {
   "cell_type": "markdown",
   "metadata": {},
   "source": [
    "## Расчёты и добавление результатов в таблицу"
   ]
  },
  {
   "cell_type": "markdown",
   "metadata": {},
   "source": [
    "Добавляем в таблицу столбец `meter_price`, содержащий в себе цену квадратного метра:"
   ]
  },
  {
   "cell_type": "code",
   "execution_count": 16,
   "metadata": {},
   "outputs": [
    {
     "data": {
      "text/plain": [
       "0     120370.370370\n",
       "4     100000.000000\n",
       "9      88524.590164\n",
       "10    127525.252525\n",
       "13     82943.925234\n",
       "Name: meter_price, dtype: float64"
      ]
     },
     "execution_count": 16,
     "metadata": {},
     "output_type": "execute_result"
    }
   ],
   "source": [
    "df['meter_price'] = df['last_price'] / (df['total_area'])\n",
    "df['meter_price'].head()"
   ]
  },
  {
   "cell_type": "markdown",
   "metadata": {},
   "source": [
    "день недели, месяц и год публикации объявления:"
   ]
  },
  {
   "cell_type": "code",
   "execution_count": 17,
   "metadata": {},
   "outputs": [],
   "source": [
    "df['weekday_expo'] = df['first_day_exposition'].dt.weekday  # столбец с днем недели, где понедельник -  0, а воскресенье - 6\n",
    "df['month_expo'] = df['first_day_exposition'].dt.month  # столбец с месяцем\n",
    "df['year_expo'] = df['first_day_exposition'].dt.year  # столбец с годом"
   ]
  },
  {
   "cell_type": "markdown",
   "metadata": {},
   "source": [
    "Добавляем в таблицу столбец `floor_group`, обозначающий этаж квартиры(варианты — первый, последний, другой):"
   ]
  },
  {
   "cell_type": "code",
   "execution_count": 18,
   "metadata": {},
   "outputs": [
    {
     "data": {
      "text/plain": [
       "array(['другой', 'последний', 'первый'], dtype=object)"
      ]
     },
     "execution_count": 18,
     "metadata": {},
     "output_type": "execute_result"
    }
   ],
   "source": [
    "df['floor_group'] = df['floor'].where((df['floor'] == 1) | (df['floor'] == df['floors_total']), 'другой')\n",
    "df['floor_group'] = df['floor_group'].where((df['floor_group'] != 1), 'первый')\n",
    "df['floor_group'] = df['floor_group'].where((df['floor_group'] != df['floors_total']), 'последний')\n",
    "df['floor_group'].unique()"
   ]
  },
  {
   "cell_type": "markdown",
   "metadata": {},
   "source": [
    "Добавляем столбцы:\n",
    " - `living_total_ratio` - соотношение жилой и общей площади\n",
    " - `kitchen_total_ratio` - отношение площади кухни к общей"
   ]
  },
  {
   "cell_type": "code",
   "execution_count": 19,
   "metadata": {},
   "outputs": [],
   "source": [
    "df['living_total_ratio'] = df['living_area'] / df['total_area']\n",
    "df['kitchen_total_ratio'] = df['kitchen_area'] / df['total_area']"
   ]
  },
  {
   "cell_type": "markdown",
   "metadata": {},
   "source": [
    "## Исследовательский анализ данных"
   ]
  },
  {
   "cell_type": "markdown",
   "metadata": {},
   "source": [
    "### Построение гистограмм для различных параметров"
   ]
  },
  {
   "cell_type": "markdown",
   "metadata": {},
   "source": [
    "Строим гистограммы для параметров `total_area`, `last_price`, `rooms`, `ceiling_height`. Это позволит нам увидеть выбросы и отфильтровать данные."
   ]
  },
  {
   "cell_type": "code",
   "execution_count": 20,
   "metadata": {},
   "outputs": [
    {
     "data": {
      "text/plain": [
       "<AxesSubplot:>"
      ]
     },
     "execution_count": 20,
     "metadata": {},
     "output_type": "execute_result"
    },
    {
     "data": {
      "image/png": "[encoded data removed]",
      "text/plain": [
       "<Figure size 432x288 with 1 Axes>"
      ]
     },
     "metadata": {
      "needs_background": "light"
     },
     "output_type": "display_data"
    }
   ],
   "source": [
    "df['total_area'].hist(bins=100)"
   ]
  },
  {
   "cell_type": "markdown",
   "metadata": {},
   "source": [
    "Квартиры площадью более 200 м2 встречаются очень редко, на участке более 400 м2  гистограмма сливается с нулём.\n",
    "Примем верхнюю границу площади в 250 м2, если отбросить большие значения, много данных не потеряется."
   ]
  },
  {
   "cell_type": "code",
   "execution_count": 21,
   "metadata": {},
   "outputs": [
    {
     "data": {
      "text/plain": [
       "<AxesSubplot:>"
      ]
     },
     "execution_count": 21,
     "metadata": {},
     "output_type": "execute_result"
    },
    {
     "data": {
      "image/png": "[encoded data removed]",
      "text/plain": [
       "<Figure size 432x288 with 1 Axes>"
      ]
     },
     "metadata": {
      "needs_background": "light"
     },
     "output_type": "display_data"
    }
   ],
   "source": [
    "df = df.query('total_area <= 250')\n",
    "df['total_area'].hist(bins=100)"
   ]
  },
  {
   "cell_type": "markdown",
   "metadata": {},
   "source": [
    "Предобладают квартиры с площадью от 25 до 50 м2."
   ]
  },
  {
   "cell_type": "code",
   "execution_count": 22,
   "metadata": {
    "scrolled": true
   },
   "outputs": [
    {
     "data": {
      "text/plain": [
       "<AxesSubplot:>"
      ]
     },
     "execution_count": 22,
     "metadata": {},
     "output_type": "execute_result"
    },
    {
     "data": {
      "image/png": "[encoded data removed]",
      "text/plain": [
       "<Figure size 432x288 with 1 Axes>"
      ]
     },
     "metadata": {
      "needs_background": "light"
     },
     "output_type": "display_data"
    }
   ],
   "source": [
    "df['last_price'].hist(bins=100, range=(0, 100000000))"
   ]
  },
  {
   "cell_type": "markdown",
   "metadata": {},
   "source": [
    "Примем верхнюю границу стоимости в 40 млн. руб. - все, что выше, может являться некорректным значением либо единичными случаями элитной недвижимости."
   ]
  },
  {
   "cell_type": "code",
   "execution_count": 23,
   "metadata": {
    "scrolled": true
   },
   "outputs": [
    {
     "data": {
      "text/plain": [
       "<AxesSubplot:>"
      ]
     },
     "execution_count": 23,
     "metadata": {},
     "output_type": "execute_result"
    },
    {
     "data": {
      "image/png": "[encoded data removed]",
      "text/plain": [
       "<Figure size 432x288 with 1 Axes>"
      ]
     },
     "metadata": {
      "needs_background": "light"
     },
     "output_type": "display_data"
    }
   ],
   "source": [
    "df = df.query('last_price <= 25000000')\n",
    "df['last_price'].hist(bins=100)"
   ]
  },
  {
   "cell_type": "markdown",
   "metadata": {},
   "source": [
    "Чаще всего встречаются квартиры с ценой от 2.5 до 5 млн."
   ]
  },
  {
   "cell_type": "code",
   "execution_count": 24,
   "metadata": {},
   "outputs": [
    {
     "data": {
      "text/plain": [
       "<AxesSubplot:>"
      ]
     },
     "execution_count": 24,
     "metadata": {},
     "output_type": "execute_result"
    },
    {
     "data": {
      "image/png": "[encoded data removed]",
      "text/plain": [
       "<Figure size 432x288 with 1 Axes>"
      ]
     },
     "metadata": {
      "needs_background": "light"
     },
     "output_type": "display_data"
    }
   ],
   "source": [
    "df['rooms'].hist()"
   ]
  },
  {
   "cell_type": "markdown",
   "metadata": {},
   "source": [
    "Здесь возмем верхнюю границу в 10 комнат:"
   ]
  },
  {
   "cell_type": "code",
   "execution_count": 25,
   "metadata": {
    "scrolled": true
   },
   "outputs": [
    {
     "data": {
      "text/plain": [
       "<AxesSubplot:>"
      ]
     },
     "execution_count": 25,
     "metadata": {},
     "output_type": "execute_result"
    },
    {
     "data": {
      "image/png": "[encoded data removed]",
      "text/plain": [
       "<Figure size 432x288 with 1 Axes>"
      ]
     },
     "metadata": {
      "needs_background": "light"
     },
     "output_type": "display_data"
    }
   ],
   "source": [
    "df = df.query('rooms <= 10')\n",
    "df['rooms'].hist()"
   ]
  },
  {
   "cell_type": "markdown",
   "metadata": {},
   "source": [
    "Больше всего объявлений о продаже 1-2-3 комнатных квартир."
   ]
  },
  {
   "cell_type": "code",
   "execution_count": 26,
   "metadata": {},
   "outputs": [
    {
     "data": {
      "text/plain": [
       "<AxesSubplot:>"
      ]
     },
     "execution_count": 26,
     "metadata": {},
     "output_type": "execute_result"
    },
    {
     "data": {
      "image/png": "[encoded data removed]",
      "text/plain": [
       "<Figure size 432x288 with 1 Axes>"
      ]
     },
     "metadata": {
      "needs_background": "light"
     },
     "output_type": "display_data"
    }
   ],
   "source": [
    "df['ceiling_height'].hist()"
   ]
  },
  {
   "cell_type": "markdown",
   "metadata": {},
   "source": [
    "Самая распространенная высота потолоков - 2.5-2.7 метра."
   ]
  },
  {
   "cell_type": "markdown",
   "metadata": {},
   "source": [
    "Строим гистограмму также для времени продажи квартиры."
   ]
  },
  {
   "cell_type": "code",
   "execution_count": 27,
   "metadata": {},
   "outputs": [
    {
     "data": {
      "text/plain": [
       "<AxesSubplot:>"
      ]
     },
     "execution_count": 27,
     "metadata": {},
     "output_type": "execute_result"
    },
    {
     "data": {
      "image/png": "[encoded data removed]",
      "text/plain": [
       "<Figure size 432x288 with 1 Axes>"
      ]
     },
     "metadata": {
      "needs_background": "light"
     },
     "output_type": "display_data"
    }
   ],
   "source": [
    "df['days_exposition'].hist(bins=100)"
   ]
  },
  {
   "cell_type": "markdown",
   "metadata": {},
   "source": [
    "Видим пик около нуля, большинство продаж происходит в период до 100 дней. Возможно, быстрые продажи связаны с низкой ценой квартиры, удачным расположением. Также видим и очень долгие продажи - некоторые объявления размещены более трёх лет. Такое долгое время может быть связано с различными факторами, такими как завышенная цена, нестандартный вид и тип недвижимости (к примеру, коммуналка на 10 комнат, либо хрущевка с золотым версальским ремонтом - такие квартиры могуть долго ждать покупателя)"
   ]
  },
  {
   "cell_type": "code",
   "execution_count": 28,
   "metadata": {},
   "outputs": [
    {
     "data": {
      "text/plain": [
       "185.219592443218"
      ]
     },
     "execution_count": 28,
     "metadata": {},
     "output_type": "execute_result"
    }
   ],
   "source": [
    "df['days_exposition'].mean()"
   ]
  },
  {
   "cell_type": "code",
   "execution_count": 29,
   "metadata": {
    "scrolled": true
   },
   "outputs": [
    {
     "data": {
      "text/plain": [
       "99.0"
      ]
     },
     "execution_count": 29,
     "metadata": {},
     "output_type": "execute_result"
    }
   ],
   "source": [
    "df['days_exposition'].median()"
   ]
  },
  {
   "cell_type": "code",
   "execution_count": 30,
   "metadata": {
    "scrolled": true
   },
   "outputs": [
    {
     "name": "stdout",
     "output_type": "stream",
     "text": [
      "<class 'pandas.core.frame.DataFrame'>\n",
      "Int64Index: 11217 entries, 0 to 23697\n",
      "Data columns (total 29 columns):\n",
      " #   Column                Non-Null Count  Dtype         \n",
      "---  ------                --------------  -----         \n",
      " 0   total_images          11217 non-null  int64         \n",
      " 1   last_price            11217 non-null  float64       \n",
      " 2   total_area            11217 non-null  float64       \n",
      " 3   first_day_exposition  11217 non-null  datetime64[ns]\n",
      " 4   rooms                 11217 non-null  int64         \n",
      " 5   ceiling_height        11217 non-null  float64       \n",
      " 6   floors_total          11217 non-null  float64       \n",
      " 7   living_area           10669 non-null  float64       \n",
      " 8   floor                 11217 non-null  int64         \n",
      " 9   is_apartment          1432 non-null   object        \n",
      " 10  studio                11217 non-null  bool          \n",
      " 11  open_plan             11217 non-null  bool          \n",
      " 12  kitchen_area          10566 non-null  float64       \n",
      " 13  balcony               11217 non-null  int64         \n",
      " 14  locality_name         11205 non-null  object        \n",
      " 15  airports_nearest      11201 non-null  float64       \n",
      " 16  city_centers_nearest  11217 non-null  float64       \n",
      " 17  parks_around3000      11217 non-null  float64       \n",
      " 18  parks_nearest         5053 non-null   float64       \n",
      " 19  ponds_around3000      11217 non-null  float64       \n",
      " 20  ponds_nearest         5481 non-null   float64       \n",
      " 21  days_exposition       9422 non-null   float64       \n",
      " 22  meter_price           11217 non-null  float64       \n",
      " 23  weekday_expo          11217 non-null  int64         \n",
      " 24  month_expo            11217 non-null  int64         \n",
      " 25  year_expo             11217 non-null  int64         \n",
      " 26  floor_group           11217 non-null  object        \n",
      " 27  living_total_ratio    10669 non-null  float64       \n",
      " 28  kitchen_total_ratio   10566 non-null  float64       \n",
      "dtypes: bool(2), datetime64[ns](1), float64(16), int64(7), object(3)\n",
      "memory usage: 2.4+ MB\n"
     ]
    }
   ],
   "source": [
    "df.info()"
   ]
  },
  {
   "cell_type": "markdown",
   "metadata": {},
   "source": [
    "Смотрим информацию по обновлённому датасету - в результате фльтрации обьём строк сократился более чем в 2 раза. Но гистограммы отстортированного датасета схожи с гистограммами исходного, распределения похожи по форме."
   ]
  },
  {
   "cell_type": "markdown",
   "metadata": {},
   "source": [
    "### Изучение зависимостей"
   ]
  },
  {
   "cell_type": "markdown",
   "metadata": {},
   "source": [
    "Изучим факторы, влияющие на стоимость квартиры:\n",
    " - зависимость цены от площади\n",
    " - от числа комнат \n",
    " - от удалённости от центра \n",
    " - от этажа, на котором расположена квартира: первом, последнем или другом\n",
    " - от даты размещения: дня недели, месяца и года."
   ]
  },
  {
   "cell_type": "code",
   "execution_count": 31,
   "metadata": {},
   "outputs": [
    {
     "data": {
      "text/plain": [
       "5.0     2428\n",
       "9.0     2185\n",
       "16.0     786\n",
       "Name: floors_total, dtype: int64"
      ]
     },
     "execution_count": 31,
     "metadata": {},
     "output_type": "execute_result"
    }
   ],
   "source": [
    "df['floors_total'].value_counts().head(3) #смотрим, по какому признаку отфильтровать данные"
   ]
  },
  {
   "cell_type": "code",
   "execution_count": 32,
   "metadata": {},
   "outputs": [
    {
     "data": {
      "text/plain": [
       "Санкт-Петербург    9737\n",
       "Пушкин              229\n",
       "посёлок Шушары      215\n",
       "Name: locality_name, dtype: int64"
      ]
     },
     "execution_count": 32,
     "metadata": {},
     "output_type": "execute_result"
    }
   ],
   "source": [
    "df['locality_name'].value_counts().head(3)"
   ]
  },
  {
   "cell_type": "code",
   "execution_count": 33,
   "metadata": {},
   "outputs": [
    {
     "data": {
      "text/plain": [
       "60.0    243\n",
       "45.0    201\n",
       "30.0    136\n",
       "Name: days_exposition, dtype: int64"
      ]
     },
     "execution_count": 33,
     "metadata": {},
     "output_type": "execute_result"
    }
   ],
   "source": [
    "df['days_exposition'].value_counts().head(3)"
   ]
  },
  {
   "cell_type": "code",
   "execution_count": 34,
   "metadata": {},
   "outputs": [
    {
     "data": {
      "text/plain": [
       "<AxesSubplot:xlabel='total_area'>"
      ]
     },
     "execution_count": 34,
     "metadata": {},
     "output_type": "execute_result"
    },
    {
     "data": {
      "image/png": "[encoded data removed]",
      "text/plain": [
       "<Figure size 432x288 with 1 Axes>"
      ]
     },
     "metadata": {
      "needs_background": "light"
     },
     "output_type": "display_data"
    }
   ],
   "source": [
    "(\n",
    "    df.query('(locality_name == \"Санкт-Петербург\") and (days_exposition < 60) and (floors_total == 5)')\n",
    "    .plot(x='total_area', y='last_price', style='o', grid=True, alpha=0.3)\n",
    ")    "
   ]
  },
  {
   "cell_type": "code",
   "execution_count": 35,
   "metadata": {},
   "outputs": [
    {
     "data": {
      "text/plain": [
       "0.8184708382544468"
      ]
     },
     "execution_count": 35,
     "metadata": {},
     "output_type": "execute_result"
    }
   ],
   "source": [
    "df['total_area'].corr(df['last_price']) "
   ]
  },
  {
   "cell_type": "markdown",
   "metadata": {},
   "source": [
    "Строим график, фильтруя по нескольким признакам, чтобы лучше увидеть зависимость. Видим почти прямую зависимость примерно до значений площади в 125 м2, далее точки сильно разбросаны - возможно влияние других факторов. \n",
    "\n",
    "Коэффициент Пирсона равен 0.8, что подтвержает тесную зависимость. "
   ]
  },
  {
   "cell_type": "code",
   "execution_count": 36,
   "metadata": {},
   "outputs": [
    {
     "data": {
      "text/plain": [
       "<AxesSubplot:xlabel='rooms'>"
      ]
     },
     "execution_count": 36,
     "metadata": {},
     "output_type": "execute_result"
    },
    {
     "data": {
      "image/png": "[encoded data removed]",
      "text/plain": [
       "<Figure size 432x288 with 1 Axes>"
      ]
     },
     "metadata": {
      "needs_background": "light"
     },
     "output_type": "display_data"
    }
   ],
   "source": [
    "(\n",
    "    df.pivot_table(index='rooms', values='last_price', aggfunc='median')\n",
    "    .plot(grid=True)\n",
    ") "
   ]
  },
  {
   "cell_type": "markdown",
   "metadata": {},
   "source": [
    "Цена растёт пропорционально кол-ву комнат, до 9 комнат, затем стремится вниз."
   ]
  },
  {
   "cell_type": "code",
   "execution_count": 37,
   "metadata": {},
   "outputs": [
    {
     "data": {
      "text/plain": [
       "0.5516223033194168"
      ]
     },
     "execution_count": 37,
     "metadata": {},
     "output_type": "execute_result"
    }
   ],
   "source": [
    "df['rooms'].corr(df['last_price'])"
   ]
  },
  {
   "cell_type": "markdown",
   "metadata": {},
   "source": [
    "Коэффициент Пирсона здесь равен 0.55, что говорит о наличии связи, однако не слишком сильной. Выходит, увеличение числа комнат сопровождается прибавкой в цене, но так бывает не всегда."
   ]
  },
  {
   "cell_type": "code",
   "execution_count": 38,
   "metadata": {},
   "outputs": [
    {
     "data": {
      "text/plain": [
       "<AxesSubplot:xlabel='city_centers_nearest'>"
      ]
     },
     "execution_count": 38,
     "metadata": {},
     "output_type": "execute_result"
    },
    {
     "data": {
      "image/png": "[encoded data removed]",
      "text/plain": [
       "<Figure size 432x288 with 1 Axes>"
      ]
     },
     "metadata": {
      "needs_background": "light"
     },
     "output_type": "display_data"
    }
   ],
   "source": [
    "(\n",
    "    df.query('(locality_name == \"Санкт-Петербург\") and (days_exposition < 60) and (floors_total == 5)')\n",
    "    .plot(x='city_centers_nearest', y='last_price', style='o', grid=True, alpha=0.3)\n",
    ")    "
   ]
  },
  {
   "cell_type": "markdown",
   "metadata": {},
   "source": [
    "Строим график, также фильтруя по нескольким признакам, чтобы лучше увидеть зависимость.  В целом обьявлений по центру меньше, но цена на квартиры выше."
   ]
  },
  {
   "cell_type": "code",
   "execution_count": 39,
   "metadata": {},
   "outputs": [
    {
     "data": {
      "text/plain": [
       "-0.5266215956431485"
      ]
     },
     "execution_count": 39,
     "metadata": {},
     "output_type": "execute_result"
    }
   ],
   "source": [
    "df.query('(locality_name == \"Санкт-Петербург\") and (days_exposition < 60) and (floors_total == 5)')['city_centers_nearest'].corr(df['last_price'])"
   ]
  },
  {
   "cell_type": "markdown",
   "metadata": {},
   "source": [
    "Здесь коэффициент Пирсона отрицательный и равен 0.53, что говорит ооб обратной зависимости - чем большше расстояние от центра, тем ниже цена."
   ]
  },
  {
   "cell_type": "code",
   "execution_count": 40,
   "metadata": {
    "scrolled": true
   },
   "outputs": [
    {
     "data": {
      "text/plain": [
       "<AxesSubplot:xlabel='floor_group'>"
      ]
     },
     "execution_count": 40,
     "metadata": {},
     "output_type": "execute_result"
    },
    {
     "data": {
      "image/png": "[encoded data removed]",
      "text/plain": [
       "<Figure size 432x288 with 1 Axes>"
      ]
     },
     "metadata": {
      "needs_background": "light"
     },
     "output_type": "display_data"
    }
   ],
   "source": [
    "(\n",
    "    df.pivot_table(index='floor_group', values='last_price', aggfunc='median')\n",
    "    .plot(grid=True)\n",
    ") "
   ]
  },
  {
   "cell_type": "markdown",
   "metadata": {},
   "source": [
    "Из полученного графика по медианам видим, что квартиры на первом этаже не пользуются популярностью - чтобы продать такую квартиру, владельцы выставляют более низкую цену. "
   ]
  },
  {
   "cell_type": "code",
   "execution_count": 41,
   "metadata": {},
   "outputs": [
    {
     "data": {
      "text/plain": [
       "<AxesSubplot:xlabel='weekday_expo'>"
      ]
     },
     "execution_count": 41,
     "metadata": {},
     "output_type": "execute_result"
    },
    {
     "data": {
      "image/png": "[encoded data removed]",
      "text/plain": [
       "<Figure size 432x288 with 1 Axes>"
      ]
     },
     "metadata": {
      "needs_background": "light"
     },
     "output_type": "display_data"
    }
   ],
   "source": [
    "(\n",
    "    df.pivot_table(index='weekday_expo', values='last_price')\n",
    "    .plot(grid=True)\n",
    ") "
   ]
  },
  {
   "cell_type": "markdown",
   "metadata": {},
   "source": [
    "Объявления с самой высокой ценой появляются в будние дни, с более низкой - ближе к выходным."
   ]
  },
  {
   "cell_type": "code",
   "execution_count": 42,
   "metadata": {
    "scrolled": true
   },
   "outputs": [
    {
     "data": {
      "text/plain": [
       "<AxesSubplot:xlabel='month_expo'>"
      ]
     },
     "execution_count": 42,
     "metadata": {},
     "output_type": "execute_result"
    },
    {
     "data": {
      "image/png": "[encoded data removed]",
      "text/plain": [
       "<Figure size 432x288 with 1 Axes>"
      ]
     },
     "metadata": {
      "needs_background": "light"
     },
     "output_type": "display_data"
    }
   ],
   "source": [
    "(\n",
    "    df.pivot_table(index='month_expo', values='last_price')\n",
    "    .plot(grid=True)\n",
    ") "
   ]
  },
  {
   "cell_type": "markdown",
   "metadata": {},
   "source": [
    "Прямой зависимости нет, но по графику можно сказать, что покупать квартиру выгоднее всего в июне - самая низкая цена. Самые высокие цены в январе-декабре."
   ]
  },
  {
   "cell_type": "code",
   "execution_count": 43,
   "metadata": {},
   "outputs": [
    {
     "data": {
      "text/plain": [
       "<AxesSubplot:xlabel='year_expo'>"
      ]
     },
     "execution_count": 43,
     "metadata": {},
     "output_type": "execute_result"
    },
    {
     "data": {
      "image/png": "[encoded data removed]",
      "text/plain": [
       "<Figure size 432x288 with 1 Axes>"
      ]
     },
     "metadata": {
      "needs_background": "light"
     },
     "output_type": "display_data"
    }
   ],
   "source": [
    "(\n",
    "    df.pivot_table(index='year_expo', values='last_price')\n",
    "    .plot(grid=True)\n",
    ") "
   ]
  },
  {
   "cell_type": "markdown",
   "metadata": {},
   "source": [
    "На графике можем увидеть, что с 2014 года цены резко снизились, что может быть связано с падением уровня доходов населения в связи с геополитическим событиями на тот момент, небольшой рост начал наблюдаться только после 2018 года."
   ]
  },
  {
   "cell_type": "markdown",
   "metadata": {},
   "source": [
    "### Выполнение инструкций"
   ]
  },
  {
   "cell_type": "markdown",
   "metadata": {},
   "source": [
    "Далее по заданию выполняем следующие инструкции:\n",
    "\n",
    "\n",
    " 1. Выбрать 10 населённых пунктов с наибольшим числом объявлений. Посчитать среднюю цену квадратного метра в этих населённых пунктах. Выделить населённые пункты с самой высокой и низкой стоимостью жилья.\n",
    " \n",
    " 2. Изучить предложения квартир — выяснить, какая область входит в центр Санкт-Петербурга. Построить график: он должен показывать, как цена зависит от удалённости от центра.\n",
    " \n",
    " 3. Выделить сегмент квартир в центре. Проанализируйте эту территорию и изучите следующие параметры: площадь, цена, число комнат, высота потолков. Также выделить факторы, которые влияют на стоимость квартиры (число комнат, этаж, удалённость от центра, дата размещения объявления)."
   ]
  },
  {
   "cell_type": "markdown",
   "metadata": {},
   "source": [
    "#### Выбрать 10 населённых пунктов с наибольшим числом объявлений"
   ]
  },
  {
   "cell_type": "code",
   "execution_count": 44,
   "metadata": {},
   "outputs": [
    {
     "data": {
      "text/plain": [
       "Санкт-Петербург      9737\n",
       "Пушкин                229\n",
       "посёлок Шушары        215\n",
       "Колпино               203\n",
       "Петергоф              145\n",
       "посёлок Парголово     137\n",
       "Сестрорецк            129\n",
       "Красное Село          110\n",
       "Ломоносов              91\n",
       "Кронштадт              62\n",
       "Name: locality_name, dtype: int64"
      ]
     },
     "execution_count": 44,
     "metadata": {},
     "output_type": "execute_result"
    }
   ],
   "source": [
    "df['locality_name'].value_counts().head(10) # выводим список наиболее часто встречающихся значений\n"
   ]
  },
  {
   "cell_type": "markdown",
   "metadata": {},
   "source": [
    "Считаем среднюю цену квадратного метра в этих населённых пунктах:"
   ]
  },
  {
   "cell_type": "code",
   "execution_count": 45,
   "metadata": {},
   "outputs": [
    {
     "data": {
      "text/plain": [
       "locality_name\n",
       "Санкт-Петербург      110491.776838\n",
       "Пушкин               102338.305480\n",
       "Сестрорецк           102267.327328\n",
       "посёлок Парголово     90901.351145\n",
       "Петергоф              85554.144673\n",
       "Кронштадт             79860.855069\n",
       "посёлок Шушары        79251.148615\n",
       "Колпино               75938.525561\n",
       "Ломоносов             73953.869391\n",
       "Красное Село          72755.096172\n",
       "Name: meter_price, dtype: float64"
      ]
     },
     "execution_count": 45,
     "metadata": {},
     "output_type": "execute_result"
    }
   ],
   "source": [
    "( \n",
    "    df.query('(locality_name == \"Санкт-Петербург\") or (locality_name == \"Кронштадт\") or (locality_name == \"Пушкин\") or (locality_name == \"посёлок Шушары\") or (locality_name == \"Колпино\") or (locality_name == \"Красное Село\") or (locality_name == \"Ломоносов\") or (locality_name == \"Петергоф\") or (locality_name == \"посёлок Парголово\") or (locality_name == \"Сестрорецк\")')\n",
    "    .groupby('locality_name')['meter_price'].mean().sort_values(ascending=False)\n",
    ")"
   ]
  },
  {
   "cell_type": "markdown",
   "metadata": {},
   "source": [
    "Самая высокая цена квадратного метра, как и ожидалось, в Санкт-Петербурге, далее идут города Пушкин и Сестрорецк.\n",
    "\n",
    "Самые низкие цены - Ломоносов и Красное Село."
   ]
  },
  {
   "cell_type": "markdown",
   "metadata": {},
   "source": [
    "#### Выяснить, какая область входит в центр Санкт-Петербурга"
   ]
  },
  {
   "cell_type": "markdown",
   "metadata": {},
   "source": [
    "Создаём столбец с расстоянием до центра в километрах, округляем до целых значений."
   ]
  },
  {
   "cell_type": "code",
   "execution_count": 46,
   "metadata": {},
   "outputs": [],
   "source": [
    "df['city_center_km'] = df['city_centers_nearest']/1000\n",
    "df['city_center_km'] = df['city_center_km'].astype('int')"
   ]
  },
  {
   "cell_type": "code",
   "execution_count": 47,
   "metadata": {},
   "outputs": [
    {
     "data": {
      "text/plain": [
       "<AxesSubplot:xlabel='city_center_km'>"
      ]
     },
     "execution_count": 47,
     "metadata": {},
     "output_type": "execute_result"
    },
    {
     "data": {
      "image/png": "[encoded data removed]",
      "text/plain": [
       "<Figure size 432x288 with 1 Axes>"
      ]
     },
     "metadata": {
      "needs_background": "light"
     },
     "output_type": "display_data"
    }
   ],
   "source": [
    "(\n",
    "    df.query('(locality_name == \"Санкт-Петербург\") and (city_center_km < 10)')\n",
    "    .pivot_table(index='city_center_km', values='meter_price')\n",
    "    .plot(grid=True)\n",
    ")"
   ]
  },
  {
   "cell_type": "markdown",
   "metadata": {},
   "source": [
    "На полученном графике видим провал в ценах за м2 в районе отметки 3км, это расстояние и примем за область центральной зоны."
   ]
  },
  {
   "cell_type": "markdown",
   "metadata": {},
   "source": [
    "#### Выделить сегмент квартир в центре"
   ]
  },
  {
   "cell_type": "markdown",
   "metadata": {},
   "source": [
    "##### Построение гистограмм для различных параметров(Центр)"
   ]
  },
  {
   "cell_type": "markdown",
   "metadata": {},
   "source": [
    "Строим гистограммы для параметров `total_area`, `last_price`, `rooms`, `ceiling_height` по квартирам в центре Санкт-Петербурга."
   ]
  },
  {
   "cell_type": "code",
   "execution_count": 48,
   "metadata": {
    "scrolled": true
   },
   "outputs": [
    {
     "data": {
      "text/plain": [
       "<AxesSubplot:>"
      ]
     },
     "execution_count": 48,
     "metadata": {},
     "output_type": "execute_result"
    },
    {
     "data": {
      "image/png": "[encoded data removed]",
      "text/plain": [
       "<Figure size 432x288 with 1 Axes>"
      ]
     },
     "metadata": {
      "needs_background": "light"
     },
     "output_type": "display_data"
    }
   ],
   "source": [
    "(\n",
    "    df.query('(locality_name == \"Санкт-Петербург\") and (city_center_km <= 3)')['total_area']\n",
    "    .hist(bins=100)\n",
    ")"
   ]
  },
  {
   "cell_type": "markdown",
   "metadata": {},
   "source": [
    "В центре преобладают квартиры с площадью от 50 до 100 м2."
   ]
  },
  {
   "cell_type": "code",
   "execution_count": 49,
   "metadata": {
    "scrolled": true
   },
   "outputs": [
    {
     "data": {
      "text/plain": [
       "<AxesSubplot:>"
      ]
     },
     "execution_count": 49,
     "metadata": {},
     "output_type": "execute_result"
    },
    {
     "data": {
      "image/png": "[encoded data removed]",
      "text/plain": [
       "<Figure size 432x288 with 1 Axes>"
      ]
     },
     "metadata": {
      "needs_background": "light"
     },
     "output_type": "display_data"
    }
   ],
   "source": [
    "(\n",
    "    df.query('(locality_name == \"Санкт-Петербург\") and (city_center_km <= 3)')['last_price']\n",
    "    .hist(bins=100)\n",
    ")"
   ]
  },
  {
   "cell_type": "markdown",
   "metadata": {},
   "source": [
    "Чаще всего встречаются квартиры с ценой от 5 до 10 млн."
   ]
  },
  {
   "cell_type": "code",
   "execution_count": 50,
   "metadata": {
    "scrolled": false
   },
   "outputs": [
    {
     "data": {
      "text/plain": [
       "<AxesSubplot:>"
      ]
     },
     "execution_count": 50,
     "metadata": {},
     "output_type": "execute_result"
    },
    {
     "data": {
      "image/png": "[encoded data removed]",
      "text/plain": [
       "<Figure size 432x288 with 1 Axes>"
      ]
     },
     "metadata": {
      "needs_background": "light"
     },
     "output_type": "display_data"
    }
   ],
   "source": [
    "(\n",
    "    df.query('(locality_name == \"Санкт-Петербург\") and (city_center_km <= 3)')['rooms']\n",
    "    .hist()\n",
    ")"
   ]
  },
  {
   "cell_type": "markdown",
   "metadata": {},
   "source": [
    "Большинство объявлений - это 2-3 комнатные квартиры, есть небольшая доля 1-комнатных, а так же 4-8 комнатных квартир."
   ]
  },
  {
   "cell_type": "code",
   "execution_count": 51,
   "metadata": {
    "scrolled": true
   },
   "outputs": [
    {
     "data": {
      "text/plain": [
       "<AxesSubplot:>"
      ]
     },
     "execution_count": 51,
     "metadata": {},
     "output_type": "execute_result"
    },
    {
     "data": {
      "image/png": "[encoded data removed]",
      "text/plain": [
       "<Figure size 432x288 with 1 Axes>"
      ]
     },
     "metadata": {
      "needs_background": "light"
     },
     "output_type": "display_data"
    }
   ],
   "source": [
    "(\n",
    "    df.query('(locality_name == \"Санкт-Петербург\") and (city_center_km <= 3)')['ceiling_height']\n",
    "    .hist()\n",
    ")"
   ]
  },
  {
   "cell_type": "markdown",
   "metadata": {},
   "source": [
    "Преобладает высота потолков 2.7-3 метра"
   ]
  },
  {
   "cell_type": "markdown",
   "metadata": {},
   "source": [
    "##### Изучение зависимостей (Центр)"
   ]
  },
  {
   "cell_type": "markdown",
   "metadata": {},
   "source": [
    "Также выделим факторы, которые влияют на стоимость квартиры в центре (число комнат, этаж, площадь, дата размещения объявления)"
   ]
  },
  {
   "cell_type": "code",
   "execution_count": 52,
   "metadata": {},
   "outputs": [
    {
     "data": {
      "text/plain": [
       "<AxesSubplot:xlabel='rooms'>"
      ]
     },
     "execution_count": 52,
     "metadata": {},
     "output_type": "execute_result"
    },
    {
     "data": {
      "image/png": "[encoded data removed]",
      "text/plain": [
       "<Figure size 432x288 with 1 Axes>"
      ]
     },
     "metadata": {
      "needs_background": "light"
     },
     "output_type": "display_data"
    }
   ],
   "source": [
    "(\n",
    "    df.query('(locality_name == \"Санкт-Петербург\") and (city_center_km <= 3)')\n",
    "    .pivot_table(index='rooms', values='last_price', aggfunc='median')\n",
    "    .plot(grid=True)\n",
    ") "
   ]
  },
  {
   "cell_type": "markdown",
   "metadata": {},
   "source": [
    "Цена растёт пропорционально кол-ву комнат. Коэффициент Пирсона здесь равен 0.44, что говорит о наличии не слишком сильной связи, даже слабее, чем по общей базе."
   ]
  },
  {
   "cell_type": "code",
   "execution_count": 53,
   "metadata": {},
   "outputs": [
    {
     "data": {
      "text/plain": [
       "0.4436295022885848"
      ]
     },
     "execution_count": 53,
     "metadata": {},
     "output_type": "execute_result"
    }
   ],
   "source": [
    "(\n",
    "    df.query('(locality_name == \"Санкт-Петербург\") and (city_center_km <= 3)')['rooms']\n",
    "    .corr(df['last_price'])\n",
    ")"
   ]
  },
  {
   "cell_type": "code",
   "execution_count": 54,
   "metadata": {},
   "outputs": [
    {
     "data": {
      "text/plain": [
       "<AxesSubplot:xlabel='total_area'>"
      ]
     },
     "execution_count": 54,
     "metadata": {},
     "output_type": "execute_result"
    },
    {
     "data": {
      "image/png": "[encoded data removed]",
      "text/plain": [
       "<Figure size 432x288 with 1 Axes>"
      ]
     },
     "metadata": {
      "needs_background": "light"
     },
     "output_type": "display_data"
    }
   ],
   "source": [
    "(\n",
    "    df.query('(locality_name == \"Санкт-Петербург\") and (days_exposition < 60) and (floors_total == 5) and (city_center_km <= 3)')\n",
    "    .plot(x='total_area', y='last_price', style='o', grid=True, alpha=0.3)\n",
    ")    "
   ]
  },
  {
   "cell_type": "markdown",
   "metadata": {},
   "source": [
    "В пределах центра видна зависимость цены от площади. \n",
    "\n",
    "Эта зависимость подтверждается довольно высоким значением коэффициента Пирсона - 0.78"
   ]
  },
  {
   "cell_type": "code",
   "execution_count": 55,
   "metadata": {},
   "outputs": [
    {
     "data": {
      "text/plain": [
       "0.786740284078299"
      ]
     },
     "execution_count": 55,
     "metadata": {},
     "output_type": "execute_result"
    }
   ],
   "source": [
    "(\n",
    "    df.query('(locality_name == \"Санкт-Петербург\") and (days_exposition < 60) and (floors_total == 5) and (city_center_km <= 3)')['total_area']\n",
    "    .corr(df['last_price'])\n",
    ")    "
   ]
  },
  {
   "cell_type": "code",
   "execution_count": 56,
   "metadata": {
    "scrolled": false
   },
   "outputs": [
    {
     "data": {
      "text/plain": [
       "<AxesSubplot:xlabel='weekday_expo'>"
      ]
     },
     "execution_count": 56,
     "metadata": {},
     "output_type": "execute_result"
    },
    {
     "data": {
      "image/png": "[encoded data removed]",
      "text/plain": [
       "<Figure size 432x288 with 1 Axes>"
      ]
     },
     "metadata": {
      "needs_background": "light"
     },
     "output_type": "display_data"
    }
   ],
   "source": [
    "(\n",
    "    df.query('(locality_name == \"Санкт-Петербург\") and (city_center_km <= 3)')\n",
    "    .pivot_table(index='weekday_expo', values='last_price')\n",
    "    .plot(grid=True)\n",
    ") "
   ]
  },
  {
   "cell_type": "markdown",
   "metadata": {},
   "source": [
    "Объявления с самой высокой ценой появляются в будние дни, с более низкой - к началу выходных."
   ]
  },
  {
   "cell_type": "code",
   "execution_count": 57,
   "metadata": {
    "scrolled": true
   },
   "outputs": [
    {
     "data": {
      "text/plain": [
       "<AxesSubplot:xlabel='month_expo'>"
      ]
     },
     "execution_count": 57,
     "metadata": {},
     "output_type": "execute_result"
    },
    {
     "data": {
      "image/png": "[encoded data removed]",
      "text/plain": [
       "<Figure size 432x288 with 1 Axes>"
      ]
     },
     "metadata": {
      "needs_background": "light"
     },
     "output_type": "display_data"
    }
   ],
   "source": [
    "(\n",
    "    df.query('(locality_name == \"Санкт-Петербург\") and (city_center_km <= 3)')\n",
    "    .pivot_table(index='month_expo', values='last_price')\n",
    "    .plot(grid=True)\n",
    ") "
   ]
  },
  {
   "cell_type": "markdown",
   "metadata": {},
   "source": [
    "Прямой зависимости нет, но по графику можно сказать, что покупать квартиру выгоднее всего в июле - самая низкая цена. Самые высокие цены в декабре-январе."
   ]
  },
  {
   "cell_type": "code",
   "execution_count": 58,
   "metadata": {
    "scrolled": true
   },
   "outputs": [
    {
     "data": {
      "text/plain": [
       "<AxesSubplot:xlabel='year_expo'>"
      ]
     },
     "execution_count": 58,
     "metadata": {},
     "output_type": "execute_result"
    },
    {
     "data": {
      "image/png": "[encoded data removed]",
      "text/plain": [
       "<Figure size 432x288 with 1 Axes>"
      ]
     },
     "metadata": {
      "needs_background": "light"
     },
     "output_type": "display_data"
    }
   ],
   "source": [
    "(\n",
    "    df.query('(locality_name == \"Санкт-Петербург\") and (city_center_km <= 3)')\n",
    "    .pivot_table(index='year_expo', values='last_price')\n",
    "    .plot(grid=True)\n",
    ") "
   ]
  },
  {
   "cell_type": "markdown",
   "metadata": {},
   "source": [
    "На графике можем увидеть, что с 2014 года цены снизились, небольшой рост начал наблюдаться после 2017 года, и более резкий рост с 2018 года."
   ]
  },
  {
   "cell_type": "markdown",
   "metadata": {},
   "source": [
    "## Общий вывод"
   ]
  },
  {
   "cell_type": "markdown",
   "metadata": {},
   "source": [
    "Изучив зависимость цены квартиры от различных факторов, можно сделать вывод:\n",
    "\n",
    " 1.\n",
    " - цена квартиры напрямую зависит от площади;\n",
    " - цена растёт пропорционально кол-ву комнат;\n",
    " - цена на квартиры ближе к центру выше, но объявлений меньше;\n",
    " - квартиры на первом этаже не пользуются популярностью - чтобы продать такую квартиру, владельцы выставляют более низкую цену, цена же за последний этаж немногим ниже медианной цены по другим этажам.\n",
    " \n",
    " 2.\n",
    " - Самая высокая цена квадратного метра в Санкт-Петербурге - `110491` рубль, далее идут города Пушкин - `102338` рублей  и Сестрорецк - `102267` рублей за м2;\n",
    " - Самая низкая цена -  в городах Ломоносов - `73953` рубля и Красное Село - `72755` рублей за м2.\n",
    " \n",
    " 3.\n",
    " - Построив гистограммы для параметров `total_area`, `last_price`, `rooms`, `ceiling_height`для общей базы и для центра города,  можно увидеть, что в зависимости от расположения изменяются преобладающие значения\n",
    "   - в центре больше квартир с площадью от 50 до 100 м2, в общей базе - от 25 до 50 м2;\n",
    "   - в центре чаще всего встречаются квартиры с ценой от 5 до 10 млн, в общей базе - от 2.5 до 5 млн.\n",
    "   - в центре большинтво объявлений - это 2-3 комнатные кватриры, есть небольшая доля 1-комнатных, а так же 4-8 комнатных квартир, в общей базе - больше всего объявлений о продаже 1-2-3 комнатных квартир, больше 4х комнат практически нет;\n",
    "   - в центре выше потолки - преобладает высота  2.7-3 метра, в общей базе - 2.5-2.7 метра.\n",
    "  \n",
    "  Такие различия связаны в первую очередь с преобладанием в центре исторической застройки - в таких домах высокие потолки и большие площади квартир. Также есть и старые коммуналки - квартиры с большим числом комнат.\n",
    "  \n",
    "  \n",
    " - Цена квартиры в центре, как и по общей базе, зависит от площади и числа комнат.\n",
    " - Зависимость от дня недели различается, для центра самая высокая цена у объявлений в среду, самая низкая - в субботу. У общей базы самые высокие цены, самые низкие - \n",
    " - Зависимость от месяца не сильно различается, для центра самая высокая цена у объявлений в январе-декабре, самая низкая - в июле. У общей базы самые высокие цены так же в январе-декабре, самые низкие - так же летом, но есть скачок в июле.\n",
    " - Зависимость от года практически не различается, кроме того, что для центра по сравнению с общей базой характерно не такое резкое падение цены в 2014 году, а также более резкий рост начиная с 2018 года."
   ]
  }
 ],
 "metadata": {
  "ExecuteTimeLog": [
   {
    "duration": 113,
    "start_time": "2022-03-19T17:36:05.413Z"
   },
   {
    "duration": 114,
    "start_time": "2022-03-19T17:36:30.718Z"
   },
   {
    "duration": 16,
    "start_time": "2022-03-19T17:36:47.059Z"
   },
   {
    "duration": 6,
    "start_time": "2022-03-19T17:39:51.437Z"
   },
   {
    "duration": 4,
    "start_time": "2022-03-19T17:40:16.706Z"
   },
   {
    "duration": 6,
    "start_time": "2022-03-19T17:40:45.360Z"
   },
   {
    "duration": 6,
    "start_time": "2022-03-19T17:41:56.378Z"
   },
   {
    "duration": 10,
    "start_time": "2022-03-19T17:42:07.463Z"
   },
   {
    "duration": 37,
    "start_time": "2022-03-19T17:46:36.202Z"
   },
   {
    "duration": 18,
    "start_time": "2022-03-19T17:48:50.980Z"
   },
   {
    "duration": 8,
    "start_time": "2022-03-19T17:51:03.742Z"
   },
   {
    "duration": 4,
    "start_time": "2022-03-19T17:52:42.771Z"
   },
   {
    "duration": 8,
    "start_time": "2022-03-19T17:54:50.735Z"
   },
   {
    "duration": 26,
    "start_time": "2022-03-19T18:01:31.845Z"
   },
   {
    "duration": 17,
    "start_time": "2022-03-19T18:06:06.201Z"
   },
   {
    "duration": 119,
    "start_time": "2022-03-19T18:06:17.305Z"
   },
   {
    "duration": 19,
    "start_time": "2022-03-19T18:06:17.426Z"
   },
   {
    "duration": 6,
    "start_time": "2022-03-19T18:06:17.446Z"
   },
   {
    "duration": 4,
    "start_time": "2022-03-19T18:06:17.455Z"
   },
   {
    "duration": 42,
    "start_time": "2022-03-19T18:06:17.461Z"
   },
   {
    "duration": 11,
    "start_time": "2022-03-19T18:06:17.505Z"
   },
   {
    "duration": 19,
    "start_time": "2022-03-19T18:06:17.518Z"
   },
   {
    "duration": 0,
    "start_time": "2022-03-19T18:06:17.539Z"
   },
   {
    "duration": 0,
    "start_time": "2022-03-19T18:06:17.541Z"
   },
   {
    "duration": 0,
    "start_time": "2022-03-19T18:06:17.543Z"
   },
   {
    "duration": 1,
    "start_time": "2022-03-19T18:06:17.544Z"
   },
   {
    "duration": 0,
    "start_time": "2022-03-19T18:06:17.546Z"
   },
   {
    "duration": 15,
    "start_time": "2022-03-19T18:07:12.828Z"
   },
   {
    "duration": 6,
    "start_time": "2022-03-19T18:07:47.676Z"
   },
   {
    "duration": 11,
    "start_time": "2022-03-19T18:08:05.948Z"
   },
   {
    "duration": 11,
    "start_time": "2022-03-19T18:08:11.121Z"
   },
   {
    "duration": 9,
    "start_time": "2022-03-19T18:08:38.246Z"
   },
   {
    "duration": 29,
    "start_time": "2022-03-19T18:09:25.063Z"
   },
   {
    "duration": 10,
    "start_time": "2022-03-19T18:12:24.210Z"
   },
   {
    "duration": 28,
    "start_time": "2022-03-19T18:12:32.654Z"
   },
   {
    "duration": 556,
    "start_time": "2022-03-19T18:15:37.425Z"
   },
   {
    "duration": 242,
    "start_time": "2022-03-19T18:15:45.460Z"
   },
   {
    "duration": 298,
    "start_time": "2022-03-19T18:16:13.038Z"
   },
   {
    "duration": 264,
    "start_time": "2022-03-19T18:16:44.937Z"
   },
   {
    "duration": 271,
    "start_time": "2022-03-19T18:17:30.994Z"
   },
   {
    "duration": 143,
    "start_time": "2022-03-19T18:17:40.158Z"
   },
   {
    "duration": 134,
    "start_time": "2022-03-19T18:18:32.446Z"
   },
   {
    "duration": 1968,
    "start_time": "2022-03-19T18:19:15.975Z"
   },
   {
    "duration": 143,
    "start_time": "2022-03-19T18:19:20.262Z"
   },
   {
    "duration": 258,
    "start_time": "2022-03-19T18:19:33.615Z"
   },
   {
    "duration": 146,
    "start_time": "2022-03-19T18:19:54.205Z"
   },
   {
    "duration": 313,
    "start_time": "2022-03-19T18:20:06.898Z"
   },
   {
    "duration": 239,
    "start_time": "2022-03-19T18:20:32.928Z"
   },
   {
    "duration": 141,
    "start_time": "2022-03-19T18:20:40.380Z"
   },
   {
    "duration": 183,
    "start_time": "2022-03-19T18:20:46.023Z"
   },
   {
    "duration": 129,
    "start_time": "2022-03-19T18:20:56.560Z"
   },
   {
    "duration": 257,
    "start_time": "2022-03-19T18:21:11.267Z"
   },
   {
    "duration": 229,
    "start_time": "2022-03-19T18:21:31.784Z"
   },
   {
    "duration": 326,
    "start_time": "2022-03-19T18:21:35.271Z"
   },
   {
    "duration": 143,
    "start_time": "2022-03-19T18:21:37.462Z"
   },
   {
    "duration": 224,
    "start_time": "2022-03-19T18:21:43.457Z"
   },
   {
    "duration": 263,
    "start_time": "2022-03-19T18:21:49.378Z"
   },
   {
    "duration": 119,
    "start_time": "2022-03-19T18:22:04.119Z"
   },
   {
    "duration": 16,
    "start_time": "2022-03-19T18:22:04.240Z"
   },
   {
    "duration": 13,
    "start_time": "2022-03-19T18:22:04.258Z"
   },
   {
    "duration": 39,
    "start_time": "2022-03-19T18:22:04.272Z"
   },
   {
    "duration": 20,
    "start_time": "2022-03-19T18:22:04.313Z"
   },
   {
    "duration": 24,
    "start_time": "2022-03-19T18:22:04.335Z"
   },
   {
    "duration": 36,
    "start_time": "2022-03-19T18:22:04.361Z"
   },
   {
    "duration": 9,
    "start_time": "2022-03-19T18:22:04.400Z"
   },
   {
    "duration": 31,
    "start_time": "2022-03-19T18:22:04.411Z"
   },
   {
    "duration": 8,
    "start_time": "2022-03-19T18:22:04.445Z"
   },
   {
    "duration": 23,
    "start_time": "2022-03-19T18:22:04.454Z"
   },
   {
    "duration": 27,
    "start_time": "2022-03-19T18:22:04.479Z"
   },
   {
    "duration": 255,
    "start_time": "2022-03-19T18:22:04.508Z"
   },
   {
    "duration": 270,
    "start_time": "2022-03-19T18:22:04.766Z"
   },
   {
    "duration": 287,
    "start_time": "2022-03-19T18:22:05.037Z"
   },
   {
    "duration": 153,
    "start_time": "2022-03-19T18:22:05.326Z"
   },
   {
    "duration": 7,
    "start_time": "2022-03-19T18:22:32.916Z"
   },
   {
    "duration": 9,
    "start_time": "2022-03-19T18:24:02.843Z"
   },
   {
    "duration": 233,
    "start_time": "2022-03-19T18:24:34.010Z"
   },
   {
    "duration": 258,
    "start_time": "2022-03-19T18:24:42.699Z"
   },
   {
    "duration": 570,
    "start_time": "2022-03-22T04:41:13.803Z"
   },
   {
    "duration": 16,
    "start_time": "2022-03-22T04:41:14.375Z"
   },
   {
    "duration": 4,
    "start_time": "2022-03-22T04:41:14.392Z"
   },
   {
    "duration": 5,
    "start_time": "2022-03-22T04:41:14.398Z"
   },
   {
    "duration": 6,
    "start_time": "2022-03-22T04:41:14.406Z"
   },
   {
    "duration": 24,
    "start_time": "2022-03-22T04:41:14.414Z"
   },
   {
    "duration": 31,
    "start_time": "2022-03-22T04:41:14.440Z"
   },
   {
    "duration": 8,
    "start_time": "2022-03-22T04:41:14.472Z"
   },
   {
    "duration": 49,
    "start_time": "2022-03-22T04:41:14.482Z"
   },
   {
    "duration": 7,
    "start_time": "2022-03-22T04:41:14.533Z"
   },
   {
    "duration": 16,
    "start_time": "2022-03-22T04:41:14.541Z"
   },
   {
    "duration": 5,
    "start_time": "2022-03-22T04:41:14.558Z"
   },
   {
    "duration": 724,
    "start_time": "2022-03-22T04:41:14.565Z"
   },
   {
    "duration": 277,
    "start_time": "2022-03-22T04:41:15.291Z"
   },
   {
    "duration": 226,
    "start_time": "2022-03-22T04:41:15.570Z"
   },
   {
    "duration": 275,
    "start_time": "2022-03-22T04:41:15.798Z"
   },
   {
    "duration": 26,
    "start_time": "2022-03-22T04:45:50.331Z"
   },
   {
    "duration": 52,
    "start_time": "2022-03-22T04:45:58.288Z"
   },
   {
    "duration": 49,
    "start_time": "2022-03-22T04:46:15.005Z"
   },
   {
    "duration": 10,
    "start_time": "2022-03-22T04:48:29.257Z"
   },
   {
    "duration": 24,
    "start_time": "2022-03-22T04:48:40.746Z"
   },
   {
    "duration": 3,
    "start_time": "2022-03-22T04:49:01.354Z"
   },
   {
    "duration": 4,
    "start_time": "2022-03-22T04:49:04.968Z"
   },
   {
    "duration": 8,
    "start_time": "2022-03-22T04:51:33.263Z"
   },
   {
    "duration": 6,
    "start_time": "2022-03-22T04:52:33.000Z"
   },
   {
    "duration": 20,
    "start_time": "2022-03-22T04:53:26.728Z"
   },
   {
    "duration": 121,
    "start_time": "2022-03-22T04:53:35.301Z"
   },
   {
    "duration": 21,
    "start_time": "2022-03-22T04:53:35.424Z"
   },
   {
    "duration": 4,
    "start_time": "2022-03-22T04:53:35.447Z"
   },
   {
    "duration": 7,
    "start_time": "2022-03-22T04:53:35.454Z"
   },
   {
    "duration": 6,
    "start_time": "2022-03-22T04:53:35.463Z"
   },
   {
    "duration": 10,
    "start_time": "2022-03-22T04:53:35.470Z"
   },
   {
    "duration": 78,
    "start_time": "2022-03-22T04:53:35.482Z"
   },
   {
    "duration": 21,
    "start_time": "2022-03-22T04:53:35.562Z"
   },
   {
    "duration": 16,
    "start_time": "2022-03-22T04:53:35.585Z"
   },
   {
    "duration": 30,
    "start_time": "2022-03-22T04:53:35.604Z"
   },
   {
    "duration": 20,
    "start_time": "2022-03-22T04:53:35.636Z"
   },
   {
    "duration": 31,
    "start_time": "2022-03-22T04:53:35.658Z"
   },
   {
    "duration": 6,
    "start_time": "2022-03-22T04:53:35.691Z"
   },
   {
    "duration": 13,
    "start_time": "2022-03-22T04:53:35.699Z"
   },
   {
    "duration": 17,
    "start_time": "2022-03-22T04:53:35.714Z"
   },
   {
    "duration": 260,
    "start_time": "2022-03-22T04:53:35.733Z"
   },
   {
    "duration": 261,
    "start_time": "2022-03-22T04:53:35.996Z"
   },
   {
    "duration": 148,
    "start_time": "2022-03-22T04:53:36.259Z"
   },
   {
    "duration": 337,
    "start_time": "2022-03-22T04:53:36.408Z"
   },
   {
    "duration": 97,
    "start_time": "2022-03-22T04:53:43.364Z"
   },
   {
    "duration": 4,
    "start_time": "2022-03-22T04:56:24.390Z"
   },
   {
    "duration": 4,
    "start_time": "2022-03-22T04:57:38.935Z"
   },
   {
    "duration": 15,
    "start_time": "2022-03-22T04:57:51.604Z"
   },
   {
    "duration": 12,
    "start_time": "2022-03-22T04:58:01.635Z"
   },
   {
    "duration": 17,
    "start_time": "2022-03-22T04:58:05.116Z"
   },
   {
    "duration": 5,
    "start_time": "2022-03-22T05:01:06.756Z"
   },
   {
    "duration": 5,
    "start_time": "2022-03-22T05:03:07.719Z"
   },
   {
    "duration": 1819,
    "start_time": "2022-03-22T05:05:50.127Z"
   },
   {
    "duration": 121,
    "start_time": "2022-03-22T05:06:03.439Z"
   },
   {
    "duration": 15,
    "start_time": "2022-03-22T05:06:03.562Z"
   },
   {
    "duration": 5,
    "start_time": "2022-03-22T05:06:03.579Z"
   },
   {
    "duration": 11,
    "start_time": "2022-03-22T05:06:03.586Z"
   },
   {
    "duration": 20,
    "start_time": "2022-03-22T05:06:03.599Z"
   },
   {
    "duration": 12,
    "start_time": "2022-03-22T05:06:03.621Z"
   },
   {
    "duration": 1841,
    "start_time": "2022-03-22T05:06:03.635Z"
   },
   {
    "duration": 0,
    "start_time": "2022-03-22T05:06:05.478Z"
   },
   {
    "duration": 0,
    "start_time": "2022-03-22T05:06:05.479Z"
   },
   {
    "duration": 0,
    "start_time": "2022-03-22T05:06:05.481Z"
   },
   {
    "duration": 0,
    "start_time": "2022-03-22T05:06:05.482Z"
   },
   {
    "duration": 0,
    "start_time": "2022-03-22T05:06:05.483Z"
   },
   {
    "duration": 0,
    "start_time": "2022-03-22T05:06:05.484Z"
   },
   {
    "duration": 0,
    "start_time": "2022-03-22T05:06:05.485Z"
   },
   {
    "duration": 0,
    "start_time": "2022-03-22T05:06:05.486Z"
   },
   {
    "duration": 0,
    "start_time": "2022-03-22T05:06:05.487Z"
   },
   {
    "duration": 0,
    "start_time": "2022-03-22T05:06:05.488Z"
   },
   {
    "duration": 0,
    "start_time": "2022-03-22T05:06:05.489Z"
   },
   {
    "duration": 0,
    "start_time": "2022-03-22T05:06:05.490Z"
   },
   {
    "duration": 1900,
    "start_time": "2022-03-22T05:06:23.938Z"
   },
   {
    "duration": 112,
    "start_time": "2022-03-22T05:06:26.540Z"
   },
   {
    "duration": 15,
    "start_time": "2022-03-22T05:06:26.655Z"
   },
   {
    "duration": 5,
    "start_time": "2022-03-22T05:06:26.672Z"
   },
   {
    "duration": 5,
    "start_time": "2022-03-22T05:06:26.678Z"
   },
   {
    "duration": 6,
    "start_time": "2022-03-22T05:06:26.686Z"
   },
   {
    "duration": 7,
    "start_time": "2022-03-22T05:06:26.694Z"
   },
   {
    "duration": 34,
    "start_time": "2022-03-22T05:06:26.702Z"
   },
   {
    "duration": 50,
    "start_time": "2022-03-22T05:06:26.738Z"
   },
   {
    "duration": 44,
    "start_time": "2022-03-22T05:06:26.789Z"
   },
   {
    "duration": 4,
    "start_time": "2022-03-22T05:06:26.834Z"
   },
   {
    "duration": 10,
    "start_time": "2022-03-22T05:06:26.840Z"
   },
   {
    "duration": 27,
    "start_time": "2022-03-22T05:06:26.852Z"
   },
   {
    "duration": 6,
    "start_time": "2022-03-22T05:06:26.881Z"
   },
   {
    "duration": 13,
    "start_time": "2022-03-22T05:06:26.889Z"
   },
   {
    "duration": 30,
    "start_time": "2022-03-22T05:06:26.904Z"
   },
   {
    "duration": 336,
    "start_time": "2022-03-22T05:06:26.936Z"
   },
   {
    "duration": 258,
    "start_time": "2022-03-22T05:06:27.273Z"
   },
   {
    "duration": 138,
    "start_time": "2022-03-22T05:06:27.533Z"
   },
   {
    "duration": 483,
    "start_time": "2022-03-22T05:06:27.673Z"
   },
   {
    "duration": 21,
    "start_time": "2022-03-22T05:17:50.397Z"
   },
   {
    "duration": 123,
    "start_time": "2022-03-22T05:17:53.072Z"
   },
   {
    "duration": 15,
    "start_time": "2022-03-22T05:17:53.197Z"
   },
   {
    "duration": 5,
    "start_time": "2022-03-22T05:17:53.214Z"
   },
   {
    "duration": 4,
    "start_time": "2022-03-22T05:17:53.232Z"
   },
   {
    "duration": 6,
    "start_time": "2022-03-22T05:17:53.238Z"
   },
   {
    "duration": 5,
    "start_time": "2022-03-22T05:17:53.246Z"
   },
   {
    "duration": 10,
    "start_time": "2022-03-22T05:17:53.253Z"
   },
   {
    "duration": 77,
    "start_time": "2022-03-22T05:17:53.265Z"
   },
   {
    "duration": 21,
    "start_time": "2022-03-22T05:17:53.344Z"
   },
   {
    "duration": 4,
    "start_time": "2022-03-22T05:17:53.367Z"
   },
   {
    "duration": 10,
    "start_time": "2022-03-22T05:17:53.373Z"
   },
   {
    "duration": 48,
    "start_time": "2022-03-22T05:17:53.385Z"
   },
   {
    "duration": 8,
    "start_time": "2022-03-22T05:17:53.434Z"
   },
   {
    "duration": 14,
    "start_time": "2022-03-22T05:17:53.444Z"
   },
   {
    "duration": 5,
    "start_time": "2022-03-22T05:17:53.460Z"
   },
   {
    "duration": 285,
    "start_time": "2022-03-22T05:17:53.467Z"
   },
   {
    "duration": 260,
    "start_time": "2022-03-22T05:17:53.754Z"
   },
   {
    "duration": 153,
    "start_time": "2022-03-22T05:17:54.016Z"
   },
   {
    "duration": 791,
    "start_time": "2022-03-22T05:17:54.171Z"
   },
   {
    "duration": 18,
    "start_time": "2022-03-22T05:23:36.778Z"
   },
   {
    "duration": 6,
    "start_time": "2022-03-22T05:25:34.494Z"
   },
   {
    "duration": 140,
    "start_time": "2022-03-22T05:25:46.381Z"
   },
   {
    "duration": 242,
    "start_time": "2022-03-22T05:32:14.909Z"
   },
   {
    "duration": 8,
    "start_time": "2022-03-22T05:35:05.373Z"
   },
   {
    "duration": 244,
    "start_time": "2022-03-22T05:35:12.620Z"
   },
   {
    "duration": 195,
    "start_time": "2022-03-22T05:35:20.820Z"
   },
   {
    "duration": 247,
    "start_time": "2022-03-22T05:35:24.622Z"
   },
   {
    "duration": 370,
    "start_time": "2022-03-22T05:36:07.116Z"
   },
   {
    "duration": 265,
    "start_time": "2022-03-22T05:38:27.144Z"
   },
   {
    "duration": 8,
    "start_time": "2022-03-22T05:39:33.166Z"
   },
   {
    "duration": 125,
    "start_time": "2022-03-22T05:40:19.077Z"
   },
   {
    "duration": 246,
    "start_time": "2022-03-22T05:40:46.207Z"
   },
   {
    "duration": 264,
    "start_time": "2022-03-22T05:40:48.729Z"
   },
   {
    "duration": 245,
    "start_time": "2022-03-22T05:41:00.470Z"
   },
   {
    "duration": 115,
    "start_time": "2022-03-22T05:41:21.815Z"
   },
   {
    "duration": 15,
    "start_time": "2022-03-22T05:41:21.932Z"
   },
   {
    "duration": 6,
    "start_time": "2022-03-22T05:41:21.949Z"
   },
   {
    "duration": 4,
    "start_time": "2022-03-22T05:41:21.957Z"
   },
   {
    "duration": 18,
    "start_time": "2022-03-22T05:41:21.963Z"
   },
   {
    "duration": 12,
    "start_time": "2022-03-22T05:41:21.983Z"
   },
   {
    "duration": 9,
    "start_time": "2022-03-22T05:41:21.997Z"
   },
   {
    "duration": 69,
    "start_time": "2022-03-22T05:41:22.007Z"
   },
   {
    "duration": 13,
    "start_time": "2022-03-22T05:41:22.078Z"
   },
   {
    "duration": 5,
    "start_time": "2022-03-22T05:41:22.093Z"
   },
   {
    "duration": 4,
    "start_time": "2022-03-22T05:41:22.099Z"
   },
   {
    "duration": 28,
    "start_time": "2022-03-22T05:41:22.105Z"
   },
   {
    "duration": 24,
    "start_time": "2022-03-22T05:41:22.135Z"
   },
   {
    "duration": 8,
    "start_time": "2022-03-22T05:41:22.162Z"
   },
   {
    "duration": 11,
    "start_time": "2022-03-22T05:41:22.172Z"
   },
   {
    "duration": 6,
    "start_time": "2022-03-22T05:41:22.185Z"
   },
   {
    "duration": 277,
    "start_time": "2022-03-22T05:41:22.192Z"
   },
   {
    "duration": 395,
    "start_time": "2022-03-22T05:41:22.471Z"
   },
   {
    "duration": 250,
    "start_time": "2022-03-22T05:41:22.868Z"
   },
   {
    "duration": 280,
    "start_time": "2022-03-22T05:41:23.119Z"
   },
   {
    "duration": 142,
    "start_time": "2022-03-22T05:41:23.401Z"
   },
   {
    "duration": 249,
    "start_time": "2022-03-22T05:41:23.545Z"
   },
   {
    "duration": 267,
    "start_time": "2022-03-22T05:41:23.796Z"
   },
   {
    "duration": 131,
    "start_time": "2022-03-22T05:41:39.560Z"
   },
   {
    "duration": 137,
    "start_time": "2022-03-22T05:41:51.170Z"
   },
   {
    "duration": 8,
    "start_time": "2022-03-22T05:44:58.268Z"
   },
   {
    "duration": 38,
    "start_time": "2022-03-22T05:45:06.047Z"
   },
   {
    "duration": 30,
    "start_time": "2022-03-22T05:45:36.497Z"
   },
   {
    "duration": 11,
    "start_time": "2022-03-22T05:47:59.908Z"
   },
   {
    "duration": 32,
    "start_time": "2022-03-22T05:48:31.521Z"
   },
   {
    "duration": 38,
    "start_time": "2022-03-22T05:48:38.863Z"
   },
   {
    "duration": 39,
    "start_time": "2022-03-22T05:49:17.383Z"
   },
   {
    "duration": 39,
    "start_time": "2022-03-22T05:49:34.289Z"
   },
   {
    "duration": 146,
    "start_time": "2022-03-22T05:49:44.189Z"
   },
   {
    "duration": 146,
    "start_time": "2022-03-22T05:50:04.193Z"
   },
   {
    "duration": 13,
    "start_time": "2022-03-22T05:50:07.353Z"
   },
   {
    "duration": 8,
    "start_time": "2022-03-22T05:52:19.867Z"
   },
   {
    "duration": 119,
    "start_time": "2022-03-22T05:52:31.895Z"
   },
   {
    "duration": 20,
    "start_time": "2022-03-22T05:52:32.016Z"
   },
   {
    "duration": 3,
    "start_time": "2022-03-22T05:52:32.038Z"
   },
   {
    "duration": 14,
    "start_time": "2022-03-22T05:52:32.043Z"
   },
   {
    "duration": 10,
    "start_time": "2022-03-22T05:52:32.060Z"
   },
   {
    "duration": 11,
    "start_time": "2022-03-22T05:52:32.072Z"
   },
   {
    "duration": 10,
    "start_time": "2022-03-22T05:52:32.084Z"
   },
   {
    "duration": 63,
    "start_time": "2022-03-22T05:52:32.096Z"
   },
   {
    "duration": 12,
    "start_time": "2022-03-22T05:52:32.160Z"
   },
   {
    "duration": 11,
    "start_time": "2022-03-22T05:52:32.174Z"
   },
   {
    "duration": 12,
    "start_time": "2022-03-22T05:52:32.187Z"
   },
   {
    "duration": 32,
    "start_time": "2022-03-22T05:52:32.200Z"
   },
   {
    "duration": 5,
    "start_time": "2022-03-22T05:52:32.234Z"
   },
   {
    "duration": 26,
    "start_time": "2022-03-22T05:52:32.241Z"
   },
   {
    "duration": 34,
    "start_time": "2022-03-22T05:52:32.269Z"
   },
   {
    "duration": 33,
    "start_time": "2022-03-22T05:52:32.304Z"
   },
   {
    "duration": 30,
    "start_time": "2022-03-22T05:52:32.339Z"
   },
   {
    "duration": 12,
    "start_time": "2022-03-22T05:52:32.371Z"
   },
   {
    "duration": 249,
    "start_time": "2022-03-22T05:52:32.385Z"
   },
   {
    "duration": 252,
    "start_time": "2022-03-22T05:52:32.636Z"
   },
   {
    "duration": 435,
    "start_time": "2022-03-22T05:52:32.889Z"
   },
   {
    "duration": 279,
    "start_time": "2022-03-22T05:52:33.326Z"
   },
   {
    "duration": 142,
    "start_time": "2022-03-22T05:52:33.606Z"
   },
   {
    "duration": 142,
    "start_time": "2022-03-22T05:52:33.750Z"
   },
   {
    "duration": 156,
    "start_time": "2022-03-22T05:52:33.894Z"
   },
   {
    "duration": 144,
    "start_time": "2022-03-22T05:53:45.544Z"
   },
   {
    "duration": 138,
    "start_time": "2022-03-22T05:54:51.275Z"
   },
   {
    "duration": 154,
    "start_time": "2022-03-22T05:58:57.593Z"
   },
   {
    "duration": 260,
    "start_time": "2022-03-22T05:59:15.703Z"
   },
   {
    "duration": 245,
    "start_time": "2022-03-22T06:01:57.736Z"
   },
   {
    "duration": 265,
    "start_time": "2022-03-22T06:02:02.381Z"
   },
   {
    "duration": 267,
    "start_time": "2022-03-22T06:02:45.444Z"
   },
   {
    "duration": 258,
    "start_time": "2022-03-22T06:03:25.971Z"
   },
   {
    "duration": 695,
    "start_time": "2022-03-22T06:05:26.930Z"
   },
   {
    "duration": 284,
    "start_time": "2022-03-22T06:06:33.101Z"
   },
   {
    "duration": 165,
    "start_time": "2022-03-22T06:20:28.190Z"
   },
   {
    "duration": 216,
    "start_time": "2022-03-22T06:20:40.154Z"
   },
   {
    "duration": 231,
    "start_time": "2022-03-22T06:22:04.208Z"
   },
   {
    "duration": 231,
    "start_time": "2022-03-22T06:22:08.528Z"
   },
   {
    "duration": 216,
    "start_time": "2022-03-22T06:22:14.246Z"
   },
   {
    "duration": 213,
    "start_time": "2022-03-22T06:22:42.581Z"
   },
   {
    "duration": 317,
    "start_time": "2022-03-22T06:22:51.096Z"
   },
   {
    "duration": 189,
    "start_time": "2022-03-22T06:22:57.154Z"
   },
   {
    "duration": 207,
    "start_time": "2022-03-22T06:23:57.858Z"
   },
   {
    "duration": 436,
    "start_time": "2022-03-22T06:24:39.904Z"
   },
   {
    "duration": 15,
    "start_time": "2022-03-22T06:34:26.269Z"
   },
   {
    "duration": 256,
    "start_time": "2022-03-22T06:35:24.756Z"
   },
   {
    "duration": 268,
    "start_time": "2022-03-22T06:36:05.742Z"
   },
   {
    "duration": 134,
    "start_time": "2022-03-22T06:36:07.320Z"
   },
   {
    "duration": 129,
    "start_time": "2022-03-22T06:36:08.753Z"
   },
   {
    "duration": 151,
    "start_time": "2022-03-22T06:36:09.806Z"
   },
   {
    "duration": 259,
    "start_time": "2022-03-22T06:36:12.469Z"
   },
   {
    "duration": 187,
    "start_time": "2022-03-22T06:36:15.597Z"
   },
   {
    "duration": 586,
    "start_time": "2022-03-22T06:37:02.117Z"
   },
   {
    "duration": 186,
    "start_time": "2022-03-22T06:38:14.419Z"
   },
   {
    "duration": 184,
    "start_time": "2022-03-22T06:39:10.045Z"
   },
   {
    "duration": 345,
    "start_time": "2022-03-22T06:40:46.205Z"
   },
   {
    "duration": 33,
    "start_time": "2022-03-22T06:40:57.997Z"
   },
   {
    "duration": 10,
    "start_time": "2022-03-22T06:41:07.997Z"
   },
   {
    "duration": 18,
    "start_time": "2022-03-22T06:41:54.888Z"
   },
   {
    "duration": 195,
    "start_time": "2022-03-22T06:42:11.765Z"
   },
   {
    "duration": 267,
    "start_time": "2022-03-22T06:42:15.595Z"
   },
   {
    "duration": 19,
    "start_time": "2022-03-22T06:42:50.341Z"
   },
   {
    "duration": 109,
    "start_time": "2022-03-22T06:43:00.245Z"
   },
   {
    "duration": 15,
    "start_time": "2022-03-22T06:43:00.356Z"
   },
   {
    "duration": 6,
    "start_time": "2022-03-22T06:43:00.372Z"
   },
   {
    "duration": 5,
    "start_time": "2022-03-22T06:43:00.379Z"
   },
   {
    "duration": 8,
    "start_time": "2022-03-22T06:43:00.386Z"
   },
   {
    "duration": 6,
    "start_time": "2022-03-22T06:43:00.395Z"
   },
   {
    "duration": 33,
    "start_time": "2022-03-22T06:43:00.403Z"
   },
   {
    "duration": 50,
    "start_time": "2022-03-22T06:43:00.437Z"
   },
   {
    "duration": 16,
    "start_time": "2022-03-22T06:43:00.489Z"
   },
   {
    "duration": 27,
    "start_time": "2022-03-22T06:43:00.507Z"
   },
   {
    "duration": 13,
    "start_time": "2022-03-22T06:43:00.535Z"
   },
   {
    "duration": 17,
    "start_time": "2022-03-22T06:43:00.550Z"
   },
   {
    "duration": 9,
    "start_time": "2022-03-22T06:43:00.569Z"
   },
   {
    "duration": 17,
    "start_time": "2022-03-22T06:43:00.581Z"
   },
   {
    "duration": 33,
    "start_time": "2022-03-22T06:43:00.600Z"
   },
   {
    "duration": 7,
    "start_time": "2022-03-22T06:43:00.635Z"
   },
   {
    "duration": 16,
    "start_time": "2022-03-22T06:43:00.643Z"
   },
   {
    "duration": 4,
    "start_time": "2022-03-22T06:43:00.661Z"
   },
   {
    "duration": 266,
    "start_time": "2022-03-22T06:43:00.667Z"
   },
   {
    "duration": 265,
    "start_time": "2022-03-22T06:43:00.935Z"
   },
   {
    "duration": 280,
    "start_time": "2022-03-22T06:43:01.201Z"
   },
   {
    "duration": 291,
    "start_time": "2022-03-22T06:43:01.483Z"
   },
   {
    "duration": 174,
    "start_time": "2022-03-22T06:43:01.776Z"
   },
   {
    "duration": 149,
    "start_time": "2022-03-22T06:43:01.952Z"
   },
   {
    "duration": 162,
    "start_time": "2022-03-22T06:43:02.103Z"
   },
   {
    "duration": 286,
    "start_time": "2022-03-22T06:43:02.267Z"
   },
   {
    "duration": 20,
    "start_time": "2022-03-22T06:43:02.555Z"
   },
   {
    "duration": 0,
    "start_time": "2022-03-22T06:43:02.577Z"
   },
   {
    "duration": 0,
    "start_time": "2022-03-22T06:43:02.579Z"
   },
   {
    "duration": 0,
    "start_time": "2022-03-22T06:43:02.580Z"
   },
   {
    "duration": 0,
    "start_time": "2022-03-22T06:43:02.581Z"
   },
   {
    "duration": 28,
    "start_time": "2022-03-22T06:44:01.358Z"
   },
   {
    "duration": 22,
    "start_time": "2022-03-22T06:44:56.242Z"
   },
   {
    "duration": 373,
    "start_time": "2022-03-22T06:45:05.782Z"
   },
   {
    "duration": 196,
    "start_time": "2022-03-22T06:45:07.885Z"
   },
   {
    "duration": 198,
    "start_time": "2022-03-22T06:45:46.443Z"
   },
   {
    "duration": 344,
    "start_time": "2022-03-22T06:46:01.247Z"
   },
   {
    "duration": 194,
    "start_time": "2022-03-22T06:46:09.567Z"
   },
   {
    "duration": 185,
    "start_time": "2022-03-22T06:46:14.076Z"
   },
   {
    "duration": 183,
    "start_time": "2022-03-22T06:46:27.469Z"
   },
   {
    "duration": 242,
    "start_time": "2022-03-22T09:21:53.994Z"
   },
   {
    "duration": 327,
    "start_time": "2022-03-22T09:21:56.824Z"
   },
   {
    "duration": 15,
    "start_time": "2022-03-22T09:22:22.717Z"
   },
   {
    "duration": 14,
    "start_time": "2022-03-22T09:22:50.144Z"
   },
   {
    "duration": 10,
    "start_time": "2022-03-22T09:23:00.782Z"
   },
   {
    "duration": 11,
    "start_time": "2022-03-22T09:23:04.700Z"
   },
   {
    "duration": 6,
    "start_time": "2022-03-22T09:23:15.743Z"
   },
   {
    "duration": 119,
    "start_time": "2022-03-22T09:23:18.753Z"
   },
   {
    "duration": 15,
    "start_time": "2022-03-22T09:23:18.874Z"
   },
   {
    "duration": 5,
    "start_time": "2022-03-22T09:23:18.890Z"
   },
   {
    "duration": 6,
    "start_time": "2022-03-22T09:23:18.897Z"
   },
   {
    "duration": 6,
    "start_time": "2022-03-22T09:23:18.905Z"
   },
   {
    "duration": 6,
    "start_time": "2022-03-22T09:23:18.932Z"
   },
   {
    "duration": 10,
    "start_time": "2022-03-22T09:23:18.939Z"
   },
   {
    "duration": 50,
    "start_time": "2022-03-22T09:23:18.951Z"
   },
   {
    "duration": 41,
    "start_time": "2022-03-22T09:23:19.003Z"
   },
   {
    "duration": 5,
    "start_time": "2022-03-22T09:23:19.047Z"
   },
   {
    "duration": 11,
    "start_time": "2022-03-22T09:23:19.054Z"
   },
   {
    "duration": 7,
    "start_time": "2022-03-22T09:23:19.067Z"
   },
   {
    "duration": 4,
    "start_time": "2022-03-22T09:23:19.076Z"
   },
   {
    "duration": 8,
    "start_time": "2022-03-22T09:23:19.082Z"
   },
   {
    "duration": 61,
    "start_time": "2022-03-22T09:23:19.092Z"
   },
   {
    "duration": 7,
    "start_time": "2022-03-22T09:23:19.154Z"
   },
   {
    "duration": 12,
    "start_time": "2022-03-22T09:23:19.162Z"
   },
   {
    "duration": 11,
    "start_time": "2022-03-22T09:23:19.176Z"
   },
   {
    "duration": 279,
    "start_time": "2022-03-22T09:23:19.188Z"
   },
   {
    "duration": 265,
    "start_time": "2022-03-22T09:23:19.469Z"
   },
   {
    "duration": 258,
    "start_time": "2022-03-22T09:23:19.736Z"
   },
   {
    "duration": 283,
    "start_time": "2022-03-22T09:23:19.995Z"
   },
   {
    "duration": 143,
    "start_time": "2022-03-22T09:23:20.279Z"
   },
   {
    "duration": 150,
    "start_time": "2022-03-22T09:23:20.423Z"
   },
   {
    "duration": 159,
    "start_time": "2022-03-22T09:23:20.574Z"
   },
   {
    "duration": 587,
    "start_time": "2022-03-22T09:23:20.735Z"
   },
   {
    "duration": 203,
    "start_time": "2022-03-22T09:23:21.324Z"
   },
   {
    "duration": 322,
    "start_time": "2022-03-22T09:23:21.533Z"
   },
   {
    "duration": 401,
    "start_time": "2022-03-22T09:23:21.857Z"
   },
   {
    "duration": 493,
    "start_time": "2022-03-22T09:23:22.260Z"
   },
   {
    "duration": 538,
    "start_time": "2022-03-22T09:23:22.754Z"
   },
   {
    "duration": 16,
    "start_time": "2022-03-22T09:23:43.228Z"
   },
   {
    "duration": 13,
    "start_time": "2022-03-22T09:23:59.158Z"
   },
   {
    "duration": 12,
    "start_time": "2022-03-22T09:24:05.328Z"
   },
   {
    "duration": 11,
    "start_time": "2022-03-22T09:24:09.287Z"
   },
   {
    "duration": 10,
    "start_time": "2022-03-22T09:24:11.000Z"
   },
   {
    "duration": 234,
    "start_time": "2022-03-22T09:24:17.427Z"
   },
   {
    "duration": 489,
    "start_time": "2022-03-22T09:24:30.877Z"
   },
   {
    "duration": 500,
    "start_time": "2022-03-22T09:25:00.980Z"
   },
   {
    "duration": 228,
    "start_time": "2022-03-22T09:25:07.525Z"
   },
   {
    "duration": 16,
    "start_time": "2022-03-22T09:25:26.782Z"
   },
   {
    "duration": 261,
    "start_time": "2022-03-22T09:25:31.860Z"
   },
   {
    "duration": 255,
    "start_time": "2022-03-22T09:25:47.262Z"
   },
   {
    "duration": 247,
    "start_time": "2022-03-22T09:26:00.819Z"
   },
   {
    "duration": 255,
    "start_time": "2022-03-22T09:26:05.422Z"
   },
   {
    "duration": 189,
    "start_time": "2022-03-22T09:26:11.655Z"
   },
   {
    "duration": 190,
    "start_time": "2022-03-22T09:26:17.872Z"
   },
   {
    "duration": 191,
    "start_time": "2022-03-22T09:26:22.944Z"
   },
   {
    "duration": 191,
    "start_time": "2022-03-22T09:28:14.853Z"
   },
   {
    "duration": 374,
    "start_time": "2022-03-22T09:30:01.944Z"
   },
   {
    "duration": 189,
    "start_time": "2022-03-22T09:30:11.296Z"
   },
   {
    "duration": 10,
    "start_time": "2022-03-22T09:32:18.673Z"
   },
   {
    "duration": 186,
    "start_time": "2022-03-22T09:32:24.089Z"
   },
   {
    "duration": 176,
    "start_time": "2022-03-22T09:32:46.287Z"
   },
   {
    "duration": 10,
    "start_time": "2022-03-22T09:33:31.172Z"
   },
   {
    "duration": 159,
    "start_time": "2022-03-22T09:33:35.796Z"
   },
   {
    "duration": 154,
    "start_time": "2022-03-22T09:33:42.636Z"
   },
   {
    "duration": 7,
    "start_time": "2022-03-22T09:37:56.508Z"
   },
   {
    "duration": 310,
    "start_time": "2022-03-22T09:39:46.370Z"
   },
   {
    "duration": 151,
    "start_time": "2022-03-22T09:39:52.303Z"
   },
   {
    "duration": 149,
    "start_time": "2022-03-22T09:40:38.869Z"
   },
   {
    "duration": 142,
    "start_time": "2022-03-22T09:40:52.516Z"
   },
   {
    "duration": 153,
    "start_time": "2022-03-22T09:41:05.248Z"
   },
   {
    "duration": 157,
    "start_time": "2022-03-22T09:41:23.903Z"
   },
   {
    "duration": 156,
    "start_time": "2022-03-22T09:41:35.180Z"
   },
   {
    "duration": 152,
    "start_time": "2022-03-22T09:42:36.023Z"
   },
   {
    "duration": 179,
    "start_time": "2022-03-22T09:43:25.110Z"
   },
   {
    "duration": 194,
    "start_time": "2022-03-22T09:43:37.637Z"
   },
   {
    "duration": 217,
    "start_time": "2022-03-22T09:47:38.329Z"
   },
   {
    "duration": 200,
    "start_time": "2022-03-22T09:49:30.768Z"
   },
   {
    "duration": 190,
    "start_time": "2022-03-22T09:49:58.452Z"
   },
   {
    "duration": 199,
    "start_time": "2022-03-22T09:50:50.914Z"
   },
   {
    "duration": 169,
    "start_time": "2022-03-22T09:51:25.010Z"
   },
   {
    "duration": 174,
    "start_time": "2022-03-22T09:51:35.068Z"
   },
   {
    "duration": 201,
    "start_time": "2022-03-22T09:52:08.955Z"
   },
   {
    "duration": 164,
    "start_time": "2022-03-22T09:52:55.899Z"
   },
   {
    "duration": 166,
    "start_time": "2022-03-22T09:52:59.426Z"
   },
   {
    "duration": 189,
    "start_time": "2022-03-22T09:56:12.709Z"
   },
   {
    "duration": 154,
    "start_time": "2022-03-22T09:56:48.960Z"
   },
   {
    "duration": 151,
    "start_time": "2022-03-22T09:56:55.704Z"
   },
   {
    "duration": 193,
    "start_time": "2022-03-22T09:57:01.193Z"
   },
   {
    "duration": 169,
    "start_time": "2022-03-22T09:57:09.944Z"
   },
   {
    "duration": 176,
    "start_time": "2022-03-22T09:57:40.571Z"
   },
   {
    "duration": 196,
    "start_time": "2022-03-22T09:57:46.125Z"
   },
   {
    "duration": 183,
    "start_time": "2022-03-22T09:57:50.993Z"
   },
   {
    "duration": 174,
    "start_time": "2022-03-22T09:58:35.253Z"
   },
   {
    "duration": 216,
    "start_time": "2022-03-22T09:58:48.429Z"
   },
   {
    "duration": 252,
    "start_time": "2022-03-22T09:58:51.990Z"
   },
   {
    "duration": 303,
    "start_time": "2022-03-22T09:58:56.004Z"
   },
   {
    "duration": 187,
    "start_time": "2022-03-22T09:59:16.957Z"
   },
   {
    "duration": 175,
    "start_time": "2022-03-22T09:59:39.442Z"
   },
   {
    "duration": 201,
    "start_time": "2022-03-22T10:01:29.795Z"
   },
   {
    "duration": 178,
    "start_time": "2022-03-22T10:02:23.053Z"
   },
   {
    "duration": 164,
    "start_time": "2022-03-22T10:02:29.441Z"
   },
   {
    "duration": 143,
    "start_time": "2022-03-22T10:02:35.360Z"
   },
   {
    "duration": 178,
    "start_time": "2022-03-22T10:02:39.754Z"
   },
   {
    "duration": 519,
    "start_time": "2022-03-22T10:02:45.192Z"
   },
   {
    "duration": 156,
    "start_time": "2022-03-22T10:02:50.555Z"
   },
   {
    "duration": 186,
    "start_time": "2022-03-22T10:03:12.924Z"
   },
   {
    "duration": 166,
    "start_time": "2022-03-22T10:03:20.757Z"
   },
   {
    "duration": 176,
    "start_time": "2022-03-22T10:03:47.120Z"
   },
   {
    "duration": 190,
    "start_time": "2022-03-22T10:04:37.452Z"
   },
   {
    "duration": 169,
    "start_time": "2022-03-22T10:05:02.575Z"
   },
   {
    "duration": 9,
    "start_time": "2022-03-22T10:09:40.400Z"
   },
   {
    "duration": 163,
    "start_time": "2022-03-22T10:09:48.645Z"
   },
   {
    "duration": 148,
    "start_time": "2022-03-22T10:11:49.247Z"
   },
   {
    "duration": 152,
    "start_time": "2022-03-22T10:12:05.214Z"
   },
   {
    "duration": 164,
    "start_time": "2022-03-22T10:12:36.461Z"
   },
   {
    "duration": 152,
    "start_time": "2022-03-22T10:12:53.516Z"
   },
   {
    "duration": 9,
    "start_time": "2022-03-22T10:13:25.706Z"
   },
   {
    "duration": 9,
    "start_time": "2022-03-22T10:13:54.285Z"
   },
   {
    "duration": 8,
    "start_time": "2022-03-22T10:14:10.813Z"
   },
   {
    "duration": 7,
    "start_time": "2022-03-22T10:14:29.047Z"
   },
   {
    "duration": 7,
    "start_time": "2022-03-22T10:14:45.217Z"
   },
   {
    "duration": 174,
    "start_time": "2022-03-22T10:15:11.166Z"
   },
   {
    "duration": 170,
    "start_time": "2022-03-22T10:15:18.162Z"
   },
   {
    "duration": 162,
    "start_time": "2022-03-22T10:15:28.244Z"
   },
   {
    "duration": 5,
    "start_time": "2022-03-22T10:17:06.264Z"
   },
   {
    "duration": 7,
    "start_time": "2022-03-22T10:17:26.734Z"
   },
   {
    "duration": 5,
    "start_time": "2022-03-22T10:17:28.162Z"
   },
   {
    "duration": 6,
    "start_time": "2022-03-22T10:22:21.805Z"
   },
   {
    "duration": 5,
    "start_time": "2022-03-22T10:23:18.612Z"
   },
   {
    "duration": 7,
    "start_time": "2022-03-22T10:24:38.186Z"
   },
   {
    "duration": 10,
    "start_time": "2022-03-22T10:24:52.957Z"
   },
   {
    "duration": 10,
    "start_time": "2022-03-22T10:25:00.592Z"
   },
   {
    "duration": 9,
    "start_time": "2022-03-22T10:25:04.811Z"
   },
   {
    "duration": 10,
    "start_time": "2022-03-22T10:25:34.125Z"
   },
   {
    "duration": 12,
    "start_time": "2022-03-22T10:25:40.226Z"
   },
   {
    "duration": 11,
    "start_time": "2022-03-22T10:25:48.498Z"
   },
   {
    "duration": 10,
    "start_time": "2022-03-22T10:26:18.091Z"
   },
   {
    "duration": 216,
    "start_time": "2022-03-22T10:26:46.361Z"
   },
   {
    "duration": 174,
    "start_time": "2022-03-22T10:27:08.259Z"
   },
   {
    "duration": 150,
    "start_time": "2022-03-22T10:27:32.904Z"
   },
   {
    "duration": 166,
    "start_time": "2022-03-22T10:27:50.265Z"
   },
   {
    "duration": 182,
    "start_time": "2022-03-22T10:33:06.261Z"
   },
   {
    "duration": 1607,
    "start_time": "2022-03-22T10:36:00.362Z"
   },
   {
    "duration": 3,
    "start_time": "2022-03-22T10:38:32.882Z"
   },
   {
    "duration": 8,
    "start_time": "2022-03-22T10:44:21.169Z"
   },
   {
    "duration": 9,
    "start_time": "2022-03-22T10:45:41.022Z"
   },
   {
    "duration": 12,
    "start_time": "2022-03-22T10:47:58.611Z"
   },
   {
    "duration": 3,
    "start_time": "2022-03-22T10:48:03.862Z"
   },
   {
    "duration": 4,
    "start_time": "2022-03-22T10:48:08.272Z"
   },
   {
    "duration": 5,
    "start_time": "2022-03-22T10:50:17.442Z"
   },
   {
    "duration": 8,
    "start_time": "2022-03-22T10:50:21.061Z"
   },
   {
    "duration": 9,
    "start_time": "2022-03-22T10:51:45.025Z"
   },
   {
    "duration": 33,
    "start_time": "2022-03-22T10:52:33.897Z"
   },
   {
    "duration": 12,
    "start_time": "2022-03-22T10:52:41.357Z"
   },
   {
    "duration": 11,
    "start_time": "2022-03-22T10:53:04.026Z"
   },
   {
    "duration": 14,
    "start_time": "2022-03-22T10:55:19.889Z"
   },
   {
    "duration": 36,
    "start_time": "2022-03-22T10:55:38.531Z"
   },
   {
    "duration": 253,
    "start_time": "2022-03-22T10:55:55.623Z"
   },
   {
    "duration": 6730,
    "start_time": "2022-03-22T10:56:10.670Z"
   },
   {
    "duration": 0,
    "start_time": "2022-03-22T10:56:23.599Z"
   },
   {
    "duration": 4814,
    "start_time": "2022-03-22T10:56:24.534Z"
   },
   {
    "duration": 13,
    "start_time": "2022-03-22T10:56:46.873Z"
   },
   {
    "duration": 24,
    "start_time": "2022-03-22T10:56:52.645Z"
   },
   {
    "duration": 35,
    "start_time": "2022-03-22T10:57:13.886Z"
   },
   {
    "duration": 21,
    "start_time": "2022-03-22T10:57:30.609Z"
   },
   {
    "duration": 0,
    "start_time": "2022-03-22T11:00:23.705Z"
   },
   {
    "duration": 0,
    "start_time": "2022-03-22T11:00:32.034Z"
   },
   {
    "duration": 0,
    "start_time": "2022-03-22T11:00:32.036Z"
   },
   {
    "duration": 6919,
    "start_time": "2022-03-22T11:00:33.582Z"
   },
   {
    "duration": 0,
    "start_time": "2022-03-22T11:00:40.503Z"
   },
   {
    "duration": 7386,
    "start_time": "2022-03-22T11:00:47.033Z"
   },
   {
    "duration": 8,
    "start_time": "2022-03-22T11:01:10.912Z"
   },
   {
    "duration": 6728,
    "start_time": "2022-03-22T11:01:28.840Z"
   },
   {
    "duration": 0,
    "start_time": "2022-03-22T11:01:42.605Z"
   },
   {
    "duration": 7,
    "start_time": "2022-03-22T11:01:45.922Z"
   },
   {
    "duration": 6,
    "start_time": "2022-03-22T11:02:16.707Z"
   },
   {
    "duration": 8,
    "start_time": "2022-03-22T11:02:23.787Z"
   },
   {
    "duration": 16,
    "start_time": "2022-03-22T11:02:55.196Z"
   },
   {
    "duration": 23,
    "start_time": "2022-03-22T11:03:33.149Z"
   },
   {
    "duration": 17,
    "start_time": "2022-03-22T11:03:45.367Z"
   },
   {
    "duration": 482,
    "start_time": "2022-03-22T11:05:44.180Z"
   },
   {
    "duration": 17,
    "start_time": "2022-03-22T11:05:50.683Z"
   },
   {
    "duration": 160,
    "start_time": "2022-03-22T11:06:08.812Z"
   },
   {
    "duration": 170,
    "start_time": "2022-03-22T11:06:19.495Z"
   },
   {
    "duration": 153,
    "start_time": "2022-03-22T11:06:24.748Z"
   },
   {
    "duration": 255,
    "start_time": "2022-03-22T11:06:40.467Z"
   },
   {
    "duration": 160,
    "start_time": "2022-03-22T11:06:43.423Z"
   },
   {
    "duration": 155,
    "start_time": "2022-03-22T11:06:57.079Z"
   },
   {
    "duration": 452,
    "start_time": "2022-03-22T11:09:50.958Z"
   },
   {
    "duration": 27,
    "start_time": "2022-03-22T11:10:02.575Z"
   },
   {
    "duration": 32,
    "start_time": "2022-03-22T11:10:19.623Z"
   },
   {
    "duration": 24,
    "start_time": "2022-03-22T11:10:34.253Z"
   },
   {
    "duration": 24,
    "start_time": "2022-03-22T11:10:48.968Z"
   },
   {
    "duration": 25,
    "start_time": "2022-03-22T11:11:16.217Z"
   },
   {
    "duration": 25,
    "start_time": "2022-03-22T11:11:54.880Z"
   },
   {
    "duration": 24,
    "start_time": "2022-03-22T11:12:54.930Z"
   },
   {
    "duration": 20,
    "start_time": "2022-03-22T11:13:09.320Z"
   },
   {
    "duration": 8,
    "start_time": "2022-03-22T11:21:05.164Z"
   },
   {
    "duration": 45,
    "start_time": "2022-03-22T11:21:11.321Z"
   },
   {
    "duration": 10,
    "start_time": "2022-03-22T11:21:58.840Z"
   },
   {
    "duration": 43,
    "start_time": "2022-03-22T11:22:03.665Z"
   },
   {
    "duration": 11,
    "start_time": "2022-03-22T11:22:34.009Z"
   },
   {
    "duration": 3,
    "start_time": "2022-03-22T11:25:22.186Z"
   },
   {
    "duration": 8,
    "start_time": "2022-03-22T11:25:27.430Z"
   },
   {
    "duration": 169,
    "start_time": "2022-03-22T11:25:44.314Z"
   },
   {
    "duration": 252,
    "start_time": "2022-03-22T11:25:52.292Z"
   },
   {
    "duration": 15,
    "start_time": "2022-03-22T11:25:58.895Z"
   },
   {
    "duration": 7,
    "start_time": "2022-03-22T11:29:57.481Z"
   },
   {
    "duration": 15,
    "start_time": "2022-03-22T11:30:20.577Z"
   },
   {
    "duration": 16,
    "start_time": "2022-03-22T11:30:33.656Z"
   },
   {
    "duration": 15,
    "start_time": "2022-03-22T11:30:41.739Z"
   },
   {
    "duration": 7,
    "start_time": "2022-03-22T11:30:44.677Z"
   },
   {
    "duration": 8,
    "start_time": "2022-03-22T11:31:35.915Z"
   },
   {
    "duration": 16,
    "start_time": "2022-03-22T11:31:40.548Z"
   },
   {
    "duration": 7,
    "start_time": "2022-03-22T11:32:05.789Z"
   },
   {
    "duration": 7,
    "start_time": "2022-03-22T11:33:18.753Z"
   },
   {
    "duration": 115,
    "start_time": "2022-03-22T11:33:21.967Z"
   },
   {
    "duration": 16,
    "start_time": "2022-03-22T11:33:22.085Z"
   },
   {
    "duration": 4,
    "start_time": "2022-03-22T11:33:22.102Z"
   },
   {
    "duration": 4,
    "start_time": "2022-03-22T11:33:22.133Z"
   },
   {
    "duration": 7,
    "start_time": "2022-03-22T11:33:22.139Z"
   },
   {
    "duration": 9,
    "start_time": "2022-03-22T11:33:22.148Z"
   },
   {
    "duration": 8,
    "start_time": "2022-03-22T11:33:22.158Z"
   },
   {
    "duration": 78,
    "start_time": "2022-03-22T11:33:22.168Z"
   },
   {
    "duration": 15,
    "start_time": "2022-03-22T11:33:22.248Z"
   },
   {
    "duration": 5,
    "start_time": "2022-03-22T11:33:22.266Z"
   },
   {
    "duration": 12,
    "start_time": "2022-03-22T11:33:22.273Z"
   },
   {
    "duration": 7,
    "start_time": "2022-03-22T11:33:22.286Z"
   },
   {
    "duration": 39,
    "start_time": "2022-03-22T11:33:22.295Z"
   },
   {
    "duration": 9,
    "start_time": "2022-03-22T11:33:22.336Z"
   },
   {
    "duration": 28,
    "start_time": "2022-03-22T11:33:22.347Z"
   },
   {
    "duration": 7,
    "start_time": "2022-03-22T11:33:22.377Z"
   },
   {
    "duration": 13,
    "start_time": "2022-03-22T11:33:22.386Z"
   },
   {
    "duration": 47,
    "start_time": "2022-03-22T11:33:22.400Z"
   },
   {
    "duration": 7,
    "start_time": "2022-03-22T11:33:22.449Z"
   },
   {
    "duration": 266,
    "start_time": "2022-03-22T11:33:22.458Z"
   },
   {
    "duration": 274,
    "start_time": "2022-03-22T11:33:22.726Z"
   },
   {
    "duration": 264,
    "start_time": "2022-03-22T11:33:23.002Z"
   },
   {
    "duration": 300,
    "start_time": "2022-03-22T11:33:23.268Z"
   },
   {
    "duration": 139,
    "start_time": "2022-03-22T11:33:23.570Z"
   },
   {
    "duration": 140,
    "start_time": "2022-03-22T11:33:23.710Z"
   },
   {
    "duration": 193,
    "start_time": "2022-03-22T11:33:23.852Z"
   },
   {
    "duration": 601,
    "start_time": "2022-03-22T11:33:24.047Z"
   },
   {
    "duration": 4,
    "start_time": "2022-03-22T11:33:24.652Z"
   },
   {
    "duration": 25,
    "start_time": "2022-03-22T11:33:24.658Z"
   },
   {
    "duration": 59,
    "start_time": "2022-03-22T11:33:24.684Z"
   },
   {
    "duration": 24,
    "start_time": "2022-03-22T11:33:24.744Z"
   },
   {
    "duration": 23,
    "start_time": "2022-03-22T11:33:24.769Z"
   },
   {
    "duration": 383,
    "start_time": "2022-03-22T11:33:24.793Z"
   },
   {
    "duration": 318,
    "start_time": "2022-03-22T11:33:25.231Z"
   },
   {
    "duration": 184,
    "start_time": "2022-03-22T11:33:25.551Z"
   },
   {
    "duration": 169,
    "start_time": "2022-03-22T11:33:25.737Z"
   },
   {
    "duration": 168,
    "start_time": "2022-03-22T11:33:25.908Z"
   },
   {
    "duration": 172,
    "start_time": "2022-03-22T11:33:26.078Z"
   },
   {
    "duration": 182,
    "start_time": "2022-03-22T11:33:26.251Z"
   },
   {
    "duration": 8,
    "start_time": "2022-03-22T11:33:26.435Z"
   },
   {
    "duration": 22,
    "start_time": "2022-03-22T11:33:26.445Z"
   },
   {
    "duration": 7,
    "start_time": "2022-03-22T11:33:26.469Z"
   },
   {
    "duration": 16,
    "start_time": "2022-03-22T11:33:39.861Z"
   },
   {
    "duration": 8,
    "start_time": "2022-03-22T11:34:10.413Z"
   },
   {
    "duration": 8,
    "start_time": "2022-03-22T11:34:20.089Z"
   },
   {
    "duration": 7,
    "start_time": "2022-03-22T11:34:23.523Z"
   },
   {
    "duration": 8,
    "start_time": "2022-03-22T11:34:56.124Z"
   },
   {
    "duration": 5,
    "start_time": "2022-03-22T11:35:21.303Z"
   },
   {
    "duration": 6,
    "start_time": "2022-03-22T11:35:24.468Z"
   },
   {
    "duration": 9,
    "start_time": "2022-03-22T11:35:31.992Z"
   },
   {
    "duration": 10,
    "start_time": "2022-03-22T11:35:39.937Z"
   },
   {
    "duration": 8,
    "start_time": "2022-03-22T11:35:53.411Z"
   },
   {
    "duration": 7,
    "start_time": "2022-03-22T11:36:22.819Z"
   },
   {
    "duration": 12,
    "start_time": "2022-03-22T11:39:31.952Z"
   },
   {
    "duration": 9,
    "start_time": "2022-03-22T11:39:37.756Z"
   },
   {
    "duration": 144,
    "start_time": "2022-03-22T11:39:52.703Z"
   },
   {
    "duration": 9,
    "start_time": "2022-03-22T11:40:01.105Z"
   },
   {
    "duration": 5,
    "start_time": "2022-03-22T11:40:05.903Z"
   },
   {
    "duration": 11,
    "start_time": "2022-03-22T11:40:10.212Z"
   },
   {
    "duration": 10,
    "start_time": "2022-03-22T11:40:21.059Z"
   },
   {
    "duration": 11,
    "start_time": "2022-03-22T11:40:34.101Z"
   },
   {
    "duration": 126,
    "start_time": "2022-03-22T11:40:45.125Z"
   },
   {
    "duration": 17,
    "start_time": "2022-03-22T11:40:45.254Z"
   },
   {
    "duration": 6,
    "start_time": "2022-03-22T11:40:45.273Z"
   },
   {
    "duration": 6,
    "start_time": "2022-03-22T11:40:45.280Z"
   },
   {
    "duration": 17,
    "start_time": "2022-03-22T11:40:45.289Z"
   },
   {
    "duration": 31,
    "start_time": "2022-03-22T11:40:45.308Z"
   },
   {
    "duration": 26,
    "start_time": "2022-03-22T11:40:45.341Z"
   },
   {
    "duration": 45,
    "start_time": "2022-03-22T11:40:45.369Z"
   },
   {
    "duration": 23,
    "start_time": "2022-03-22T11:40:45.416Z"
   },
   {
    "duration": 6,
    "start_time": "2022-03-22T11:40:45.440Z"
   },
   {
    "duration": 16,
    "start_time": "2022-03-22T11:40:45.447Z"
   },
   {
    "duration": 8,
    "start_time": "2022-03-22T11:40:45.465Z"
   },
   {
    "duration": 7,
    "start_time": "2022-03-22T11:40:45.475Z"
   },
   {
    "duration": 6,
    "start_time": "2022-03-22T11:40:45.486Z"
   },
   {
    "duration": 60,
    "start_time": "2022-03-22T11:40:45.493Z"
   },
   {
    "duration": 9,
    "start_time": "2022-03-22T11:40:45.555Z"
   },
   {
    "duration": 13,
    "start_time": "2022-03-22T11:40:45.566Z"
   },
   {
    "duration": 14,
    "start_time": "2022-03-22T11:40:45.581Z"
   },
   {
    "duration": 36,
    "start_time": "2022-03-22T11:40:45.597Z"
   },
   {
    "duration": 258,
    "start_time": "2022-03-22T11:40:45.635Z"
   },
   {
    "duration": 288,
    "start_time": "2022-03-22T11:40:45.895Z"
   },
   {
    "duration": 285,
    "start_time": "2022-03-22T11:40:46.185Z"
   },
   {
    "duration": 295,
    "start_time": "2022-03-22T11:40:46.472Z"
   },
   {
    "duration": 172,
    "start_time": "2022-03-22T11:40:46.769Z"
   },
   {
    "duration": 164,
    "start_time": "2022-03-22T11:40:46.943Z"
   },
   {
    "duration": 170,
    "start_time": "2022-03-22T11:40:47.109Z"
   },
   {
    "duration": 708,
    "start_time": "2022-03-22T11:40:47.281Z"
   },
   {
    "duration": 5,
    "start_time": "2022-03-22T11:40:47.991Z"
   },
   {
    "duration": 9,
    "start_time": "2022-03-22T11:40:47.998Z"
   },
   {
    "duration": 23,
    "start_time": "2022-03-22T11:40:48.010Z"
   },
   {
    "duration": 9,
    "start_time": "2022-03-22T11:40:48.035Z"
   },
   {
    "duration": 7,
    "start_time": "2022-03-22T11:40:48.047Z"
   },
   {
    "duration": 189,
    "start_time": "2022-03-22T11:40:48.056Z"
   },
   {
    "duration": 177,
    "start_time": "2022-03-22T11:40:48.246Z"
   },
   {
    "duration": 170,
    "start_time": "2022-03-22T11:40:48.425Z"
   },
   {
    "duration": 166,
    "start_time": "2022-03-22T11:40:48.596Z"
   },
   {
    "duration": 185,
    "start_time": "2022-03-22T11:40:48.764Z"
   },
   {
    "duration": 169,
    "start_time": "2022-03-22T11:40:48.950Z"
   },
   {
    "duration": 160,
    "start_time": "2022-03-22T11:40:49.120Z"
   },
   {
    "duration": 53,
    "start_time": "2022-03-22T11:40:49.281Z"
   },
   {
    "duration": 21,
    "start_time": "2022-03-22T11:40:49.339Z"
   },
   {
    "duration": 7,
    "start_time": "2022-03-22T11:40:49.362Z"
   },
   {
    "duration": 7,
    "start_time": "2022-03-22T11:41:16.101Z"
   },
   {
    "duration": 6,
    "start_time": "2022-03-22T11:41:31.585Z"
   },
   {
    "duration": 9,
    "start_time": "2022-03-22T11:41:37.671Z"
   },
   {
    "duration": 5,
    "start_time": "2022-03-22T11:41:52.022Z"
   },
   {
    "duration": 9,
    "start_time": "2022-03-22T11:42:01.439Z"
   },
   {
    "duration": 5,
    "start_time": "2022-03-22T11:44:12.052Z"
   },
   {
    "duration": 8,
    "start_time": "2022-03-22T11:45:32.686Z"
   },
   {
    "duration": 164,
    "start_time": "2022-03-22T11:46:57.838Z"
   },
   {
    "duration": 154,
    "start_time": "2022-03-22T11:47:37.511Z"
   },
   {
    "duration": 153,
    "start_time": "2022-03-22T11:51:53.921Z"
   },
   {
    "duration": 146,
    "start_time": "2022-03-22T11:52:06.490Z"
   },
   {
    "duration": 160,
    "start_time": "2022-03-22T11:52:39.029Z"
   },
   {
    "duration": 154,
    "start_time": "2022-03-22T11:53:41.377Z"
   },
   {
    "duration": 180,
    "start_time": "2022-03-22T11:55:27.667Z"
   },
   {
    "duration": 10,
    "start_time": "2022-03-22T11:55:40.490Z"
   },
   {
    "duration": 202,
    "start_time": "2022-03-22T11:55:46.086Z"
   },
   {
    "duration": 167,
    "start_time": "2022-03-22T11:55:51.151Z"
   },
   {
    "duration": 154,
    "start_time": "2022-03-22T11:57:04.126Z"
   },
   {
    "duration": 5657,
    "start_time": "2022-03-22T12:12:34.908Z"
   },
   {
    "duration": 258,
    "start_time": "2022-03-22T12:14:37.121Z"
   },
   {
    "duration": 291,
    "start_time": "2022-03-22T12:15:29.131Z"
   },
   {
    "duration": 167,
    "start_time": "2022-03-22T12:15:35.751Z"
   },
   {
    "duration": 148,
    "start_time": "2022-03-22T12:15:42.029Z"
   },
   {
    "duration": 162,
    "start_time": "2022-03-22T12:16:00.390Z"
   },
   {
    "duration": 157,
    "start_time": "2022-03-22T12:16:40.693Z"
   },
   {
    "duration": 179,
    "start_time": "2022-03-22T12:17:13.814Z"
   },
   {
    "duration": 259,
    "start_time": "2022-03-22T12:17:23.626Z"
   },
   {
    "duration": 282,
    "start_time": "2022-03-22T12:17:46.431Z"
   },
   {
    "duration": 144,
    "start_time": "2022-03-22T12:17:51.598Z"
   },
   {
    "duration": 257,
    "start_time": "2022-03-22T12:18:06.701Z"
   },
   {
    "duration": 153,
    "start_time": "2022-03-22T12:39:47.091Z"
   },
   {
    "duration": 260,
    "start_time": "2022-03-22T12:40:07.797Z"
   },
   {
    "duration": 188,
    "start_time": "2022-03-22T12:51:13.461Z"
   },
   {
    "duration": 158,
    "start_time": "2022-03-22T12:51:40.407Z"
   },
   {
    "duration": 196,
    "start_time": "2022-03-22T12:51:50.895Z"
   },
   {
    "duration": 183,
    "start_time": "2022-03-22T12:53:02.851Z"
   },
   {
    "duration": 181,
    "start_time": "2022-03-22T12:53:16.132Z"
   },
   {
    "duration": 169,
    "start_time": "2022-03-22T12:54:34.510Z"
   },
   {
    "duration": 242,
    "start_time": "2022-03-22T12:54:59.298Z"
   },
   {
    "duration": 168,
    "start_time": "2022-03-22T12:55:10.593Z"
   },
   {
    "duration": 162,
    "start_time": "2022-03-22T12:55:26.756Z"
   },
   {
    "duration": 173,
    "start_time": "2022-03-22T12:55:40.288Z"
   },
   {
    "duration": 168,
    "start_time": "2022-03-22T12:56:26.837Z"
   },
   {
    "duration": 135,
    "start_time": "2022-03-22T12:57:34.867Z"
   },
   {
    "duration": 17,
    "start_time": "2022-03-22T13:26:22.201Z"
   },
   {
    "duration": 167,
    "start_time": "2022-03-22T13:26:31.107Z"
   },
   {
    "duration": 114,
    "start_time": "2022-03-22T13:33:37.769Z"
   },
   {
    "duration": 16,
    "start_time": "2022-03-22T13:33:37.885Z"
   },
   {
    "duration": 5,
    "start_time": "2022-03-22T13:33:37.903Z"
   },
   {
    "duration": 5,
    "start_time": "2022-03-22T13:33:37.931Z"
   },
   {
    "duration": 12,
    "start_time": "2022-03-22T13:33:37.937Z"
   },
   {
    "duration": 12,
    "start_time": "2022-03-22T13:33:37.951Z"
   },
   {
    "duration": 8,
    "start_time": "2022-03-22T13:33:37.965Z"
   },
   {
    "duration": 69,
    "start_time": "2022-03-22T13:33:37.975Z"
   },
   {
    "duration": 14,
    "start_time": "2022-03-22T13:33:38.046Z"
   },
   {
    "duration": 6,
    "start_time": "2022-03-22T13:33:38.064Z"
   },
   {
    "duration": 15,
    "start_time": "2022-03-22T13:33:38.071Z"
   },
   {
    "duration": 46,
    "start_time": "2022-03-22T13:33:38.087Z"
   },
   {
    "duration": 5,
    "start_time": "2022-03-22T13:33:38.135Z"
   },
   {
    "duration": 9,
    "start_time": "2022-03-22T13:33:38.142Z"
   },
   {
    "duration": 29,
    "start_time": "2022-03-22T13:33:38.152Z"
   },
   {
    "duration": 10,
    "start_time": "2022-03-22T13:33:38.183Z"
   },
   {
    "duration": 38,
    "start_time": "2022-03-22T13:33:38.195Z"
   },
   {
    "duration": 15,
    "start_time": "2022-03-22T13:33:38.235Z"
   },
   {
    "duration": 6,
    "start_time": "2022-03-22T13:33:38.252Z"
   },
   {
    "duration": 281,
    "start_time": "2022-03-22T13:33:38.260Z"
   },
   {
    "duration": 298,
    "start_time": "2022-03-22T13:33:38.544Z"
   },
   {
    "duration": 272,
    "start_time": "2022-03-22T13:33:38.844Z"
   },
   {
    "duration": 302,
    "start_time": "2022-03-22T13:33:39.118Z"
   },
   {
    "duration": 162,
    "start_time": "2022-03-22T13:33:39.423Z"
   },
   {
    "duration": 190,
    "start_time": "2022-03-22T13:33:39.587Z"
   },
   {
    "duration": 185,
    "start_time": "2022-03-22T13:33:39.779Z"
   },
   {
    "duration": 292,
    "start_time": "2022-03-22T13:33:39.966Z"
   },
   {
    "duration": 5,
    "start_time": "2022-03-22T13:33:40.262Z"
   },
   {
    "duration": 7,
    "start_time": "2022-03-22T13:33:40.269Z"
   },
   {
    "duration": 7,
    "start_time": "2022-03-22T13:33:40.278Z"
   },
   {
    "duration": 12,
    "start_time": "2022-03-22T13:33:40.287Z"
   },
   {
    "duration": 34,
    "start_time": "2022-03-22T13:33:40.301Z"
   },
   {
    "duration": 186,
    "start_time": "2022-03-22T13:33:40.336Z"
   },
   {
    "duration": 184,
    "start_time": "2022-03-22T13:33:40.524Z"
   },
   {
    "duration": 171,
    "start_time": "2022-03-22T13:33:40.710Z"
   },
   {
    "duration": 174,
    "start_time": "2022-03-22T13:33:40.883Z"
   },
   {
    "duration": 196,
    "start_time": "2022-03-22T13:33:41.059Z"
   },
   {
    "duration": 189,
    "start_time": "2022-03-22T13:33:41.257Z"
   },
   {
    "duration": 164,
    "start_time": "2022-03-22T13:33:41.448Z"
   },
   {
    "duration": 18,
    "start_time": "2022-03-22T13:33:41.614Z"
   },
   {
    "duration": 20,
    "start_time": "2022-03-22T13:33:41.634Z"
   },
   {
    "duration": 10,
    "start_time": "2022-03-22T13:33:41.656Z"
   },
   {
    "duration": 813,
    "start_time": "2022-03-22T13:33:41.668Z"
   },
   {
    "duration": 279,
    "start_time": "2022-03-22T13:33:42.483Z"
   },
   {
    "duration": 284,
    "start_time": "2022-03-22T13:33:42.765Z"
   },
   {
    "duration": 176,
    "start_time": "2022-03-22T13:33:43.052Z"
   },
   {
    "duration": 161,
    "start_time": "2022-03-22T13:33:43.229Z"
   },
   {
    "duration": 194,
    "start_time": "2022-03-22T13:33:43.392Z"
   },
   {
    "duration": 201,
    "start_time": "2022-03-22T13:33:43.588Z"
   },
   {
    "duration": 180,
    "start_time": "2022-03-22T13:33:43.790Z"
   },
   {
    "duration": 191,
    "start_time": "2022-03-22T13:33:43.973Z"
   },
   {
    "duration": 183,
    "start_time": "2022-03-22T13:33:44.166Z"
   },
   {
    "duration": 119,
    "start_time": "2022-03-22T13:35:08.749Z"
   },
   {
    "duration": 17,
    "start_time": "2022-03-22T13:35:08.870Z"
   },
   {
    "duration": 4,
    "start_time": "2022-03-22T13:35:08.889Z"
   },
   {
    "duration": 8,
    "start_time": "2022-03-22T13:35:08.895Z"
   },
   {
    "duration": 27,
    "start_time": "2022-03-22T13:35:08.905Z"
   },
   {
    "duration": 11,
    "start_time": "2022-03-22T13:35:08.934Z"
   },
   {
    "duration": 10,
    "start_time": "2022-03-22T13:35:08.948Z"
   },
   {
    "duration": 73,
    "start_time": "2022-03-22T13:35:08.961Z"
   },
   {
    "duration": 17,
    "start_time": "2022-03-22T13:35:09.037Z"
   },
   {
    "duration": 8,
    "start_time": "2022-03-22T13:35:09.056Z"
   },
   {
    "duration": 15,
    "start_time": "2022-03-22T13:35:09.065Z"
   },
   {
    "duration": 7,
    "start_time": "2022-03-22T13:35:09.082Z"
   },
   {
    "duration": 43,
    "start_time": "2022-03-22T13:35:09.091Z"
   },
   {
    "duration": 8,
    "start_time": "2022-03-22T13:35:09.137Z"
   },
   {
    "duration": 29,
    "start_time": "2022-03-22T13:35:09.146Z"
   },
   {
    "duration": 11,
    "start_time": "2022-03-22T13:35:09.176Z"
   },
   {
    "duration": 13,
    "start_time": "2022-03-22T13:35:09.189Z"
   },
   {
    "duration": 38,
    "start_time": "2022-03-22T13:35:09.204Z"
   },
   {
    "duration": 4,
    "start_time": "2022-03-22T13:35:09.244Z"
   },
   {
    "duration": 263,
    "start_time": "2022-03-22T13:35:09.250Z"
   },
   {
    "duration": 273,
    "start_time": "2022-03-22T13:35:09.515Z"
   },
   {
    "duration": 266,
    "start_time": "2022-03-22T13:35:09.791Z"
   },
   {
    "duration": 291,
    "start_time": "2022-03-22T13:35:10.059Z"
   },
   {
    "duration": 145,
    "start_time": "2022-03-22T13:35:10.352Z"
   },
   {
    "duration": 145,
    "start_time": "2022-03-22T13:35:10.499Z"
   },
   {
    "duration": 155,
    "start_time": "2022-03-22T13:35:10.645Z"
   },
   {
    "duration": 284,
    "start_time": "2022-03-22T13:35:10.801Z"
   },
   {
    "duration": 5,
    "start_time": "2022-03-22T13:35:11.087Z"
   },
   {
    "duration": 9,
    "start_time": "2022-03-22T13:35:11.094Z"
   },
   {
    "duration": 7,
    "start_time": "2022-03-22T13:35:11.105Z"
   },
   {
    "duration": 8,
    "start_time": "2022-03-22T13:35:11.131Z"
   },
   {
    "duration": 8,
    "start_time": "2022-03-22T13:35:11.140Z"
   },
   {
    "duration": 183,
    "start_time": "2022-03-22T13:35:11.150Z"
   },
   {
    "duration": 168,
    "start_time": "2022-03-22T13:35:11.335Z"
   },
   {
    "duration": 172,
    "start_time": "2022-03-22T13:35:11.505Z"
   },
   {
    "duration": 158,
    "start_time": "2022-03-22T13:35:11.679Z"
   },
   {
    "duration": 155,
    "start_time": "2022-03-22T13:35:11.839Z"
   },
   {
    "duration": 165,
    "start_time": "2022-03-22T13:35:11.996Z"
   },
   {
    "duration": 181,
    "start_time": "2022-03-22T13:35:12.163Z"
   },
   {
    "duration": 8,
    "start_time": "2022-03-22T13:35:12.345Z"
   },
   {
    "duration": 21,
    "start_time": "2022-03-22T13:35:12.357Z"
   },
   {
    "duration": 16,
    "start_time": "2022-03-22T13:35:12.380Z"
   },
   {
    "duration": 0,
    "start_time": "2022-03-22T13:35:12.398Z"
   },
   {
    "duration": 0,
    "start_time": "2022-03-22T13:35:12.400Z"
   },
   {
    "duration": 0,
    "start_time": "2022-03-22T13:35:12.401Z"
   },
   {
    "duration": 0,
    "start_time": "2022-03-22T13:35:12.431Z"
   },
   {
    "duration": 0,
    "start_time": "2022-03-22T13:35:12.433Z"
   },
   {
    "duration": 0,
    "start_time": "2022-03-22T13:35:12.435Z"
   },
   {
    "duration": 0,
    "start_time": "2022-03-22T13:35:12.436Z"
   },
   {
    "duration": 0,
    "start_time": "2022-03-22T13:35:12.438Z"
   },
   {
    "duration": 0,
    "start_time": "2022-03-22T13:35:12.439Z"
   },
   {
    "duration": 0,
    "start_time": "2022-03-22T13:35:12.441Z"
   },
   {
    "duration": 12,
    "start_time": "2022-03-22T13:36:04.654Z"
   },
   {
    "duration": 117,
    "start_time": "2022-03-22T13:36:07.674Z"
   },
   {
    "duration": 15,
    "start_time": "2022-03-22T13:36:07.793Z"
   },
   {
    "duration": 4,
    "start_time": "2022-03-22T13:36:07.810Z"
   },
   {
    "duration": 21,
    "start_time": "2022-03-22T13:36:07.815Z"
   },
   {
    "duration": 7,
    "start_time": "2022-03-22T13:36:07.838Z"
   },
   {
    "duration": 11,
    "start_time": "2022-03-22T13:36:07.847Z"
   },
   {
    "duration": 7,
    "start_time": "2022-03-22T13:36:07.860Z"
   },
   {
    "duration": 64,
    "start_time": "2022-03-22T13:36:07.869Z"
   },
   {
    "duration": 13,
    "start_time": "2022-03-22T13:36:07.935Z"
   },
   {
    "duration": 5,
    "start_time": "2022-03-22T13:36:07.949Z"
   },
   {
    "duration": 13,
    "start_time": "2022-03-22T13:36:07.956Z"
   },
   {
    "duration": 6,
    "start_time": "2022-03-22T13:36:07.971Z"
   },
   {
    "duration": 5,
    "start_time": "2022-03-22T13:36:07.979Z"
   },
   {
    "duration": 45,
    "start_time": "2022-03-22T13:36:07.987Z"
   },
   {
    "duration": 26,
    "start_time": "2022-03-22T13:36:08.034Z"
   },
   {
    "duration": 7,
    "start_time": "2022-03-22T13:36:08.061Z"
   },
   {
    "duration": 12,
    "start_time": "2022-03-22T13:36:08.070Z"
   },
   {
    "duration": 14,
    "start_time": "2022-03-22T13:36:08.084Z"
   },
   {
    "duration": 34,
    "start_time": "2022-03-22T13:36:08.100Z"
   },
   {
    "duration": 260,
    "start_time": "2022-03-22T13:36:08.136Z"
   },
   {
    "duration": 284,
    "start_time": "2022-03-22T13:36:08.398Z"
   },
   {
    "duration": 268,
    "start_time": "2022-03-22T13:36:08.684Z"
   },
   {
    "duration": 277,
    "start_time": "2022-03-22T13:36:08.954Z"
   },
   {
    "duration": 151,
    "start_time": "2022-03-22T13:36:09.233Z"
   },
   {
    "duration": 258,
    "start_time": "2022-03-22T13:36:09.386Z"
   },
   {
    "duration": 396,
    "start_time": "2022-03-22T13:36:09.646Z"
   },
   {
    "duration": 533,
    "start_time": "2022-03-22T13:36:10.044Z"
   },
   {
    "duration": 6,
    "start_time": "2022-03-22T13:36:10.631Z"
   },
   {
    "duration": 16,
    "start_time": "2022-03-22T13:36:10.639Z"
   },
   {
    "duration": 7,
    "start_time": "2022-03-22T13:36:10.657Z"
   },
   {
    "duration": 11,
    "start_time": "2022-03-22T13:36:10.666Z"
   },
   {
    "duration": 55,
    "start_time": "2022-03-22T13:36:10.679Z"
   },
   {
    "duration": 326,
    "start_time": "2022-03-22T13:36:10.736Z"
   },
   {
    "duration": 271,
    "start_time": "2022-03-22T13:36:11.063Z"
   },
   {
    "duration": 174,
    "start_time": "2022-03-22T13:36:11.336Z"
   },
   {
    "duration": 169,
    "start_time": "2022-03-22T13:36:11.512Z"
   },
   {
    "duration": 178,
    "start_time": "2022-03-22T13:36:11.683Z"
   },
   {
    "duration": 164,
    "start_time": "2022-03-22T13:36:11.863Z"
   },
   {
    "duration": 154,
    "start_time": "2022-03-22T13:36:12.031Z"
   },
   {
    "duration": 8,
    "start_time": "2022-03-22T13:36:12.187Z"
   },
   {
    "duration": 37,
    "start_time": "2022-03-22T13:36:12.199Z"
   },
   {
    "duration": 4,
    "start_time": "2022-03-22T13:36:12.238Z"
   },
   {
    "duration": 165,
    "start_time": "2022-03-22T13:36:12.244Z"
   },
   {
    "duration": 263,
    "start_time": "2022-03-22T13:36:12.411Z"
   },
   {
    "duration": 274,
    "start_time": "2022-03-22T13:36:12.676Z"
   },
   {
    "duration": 188,
    "start_time": "2022-03-22T13:36:12.952Z"
   },
   {
    "duration": 149,
    "start_time": "2022-03-22T13:36:13.142Z"
   },
   {
    "duration": 180,
    "start_time": "2022-03-22T13:36:13.292Z"
   },
   {
    "duration": 172,
    "start_time": "2022-03-22T13:36:13.474Z"
   },
   {
    "duration": 168,
    "start_time": "2022-03-22T13:36:13.648Z"
   },
   {
    "duration": 173,
    "start_time": "2022-03-22T13:36:13.818Z"
   },
   {
    "duration": 170,
    "start_time": "2022-03-22T13:36:13.993Z"
   },
   {
    "duration": 21,
    "start_time": "2022-03-22T13:36:38.647Z"
   },
   {
    "duration": 28,
    "start_time": "2022-03-22T13:37:05.927Z"
   },
   {
    "duration": 251,
    "start_time": "2022-03-22T14:19:46.212Z"
   },
   {
    "duration": 161,
    "start_time": "2022-03-22T14:21:10.154Z"
   },
   {
    "duration": 163,
    "start_time": "2022-03-22T14:21:30.918Z"
   },
   {
    "duration": 165,
    "start_time": "2022-03-22T14:21:38.496Z"
   },
   {
    "duration": 148,
    "start_time": "2022-03-22T14:27:33.701Z"
   },
   {
    "duration": 121,
    "start_time": "2022-03-22T14:36:25.073Z"
   },
   {
    "duration": 14,
    "start_time": "2022-03-22T14:36:25.196Z"
   },
   {
    "duration": 19,
    "start_time": "2022-03-22T14:36:25.212Z"
   },
   {
    "duration": 4,
    "start_time": "2022-03-22T14:36:25.233Z"
   },
   {
    "duration": 5,
    "start_time": "2022-03-22T14:36:25.240Z"
   },
   {
    "duration": 9,
    "start_time": "2022-03-22T14:36:25.247Z"
   },
   {
    "duration": 7,
    "start_time": "2022-03-22T14:36:25.258Z"
   },
   {
    "duration": 71,
    "start_time": "2022-03-22T14:36:25.267Z"
   },
   {
    "duration": 14,
    "start_time": "2022-03-22T14:36:25.340Z"
   },
   {
    "duration": 6,
    "start_time": "2022-03-22T14:36:25.355Z"
   },
   {
    "duration": 12,
    "start_time": "2022-03-22T14:36:25.363Z"
   },
   {
    "duration": 7,
    "start_time": "2022-03-22T14:36:25.377Z"
   },
   {
    "duration": 47,
    "start_time": "2022-03-22T14:36:25.385Z"
   },
   {
    "duration": 7,
    "start_time": "2022-03-22T14:36:25.435Z"
   },
   {
    "duration": 41,
    "start_time": "2022-03-22T14:36:25.444Z"
   },
   {
    "duration": 6,
    "start_time": "2022-03-22T14:36:25.487Z"
   },
   {
    "duration": 22,
    "start_time": "2022-03-22T14:36:25.494Z"
   },
   {
    "duration": 20,
    "start_time": "2022-03-22T14:36:25.517Z"
   },
   {
    "duration": 9,
    "start_time": "2022-03-22T14:36:25.538Z"
   },
   {
    "duration": 279,
    "start_time": "2022-03-22T14:36:25.549Z"
   },
   {
    "duration": 270,
    "start_time": "2022-03-22T14:36:25.831Z"
   },
   {
    "duration": 282,
    "start_time": "2022-03-22T14:36:26.103Z"
   },
   {
    "duration": 338,
    "start_time": "2022-03-22T14:36:26.387Z"
   },
   {
    "duration": 165,
    "start_time": "2022-03-22T14:36:26.732Z"
   },
   {
    "duration": 190,
    "start_time": "2022-03-22T14:36:26.899Z"
   },
   {
    "duration": 183,
    "start_time": "2022-03-22T14:36:27.091Z"
   },
   {
    "duration": 293,
    "start_time": "2022-03-22T14:36:27.276Z"
   },
   {
    "duration": 5,
    "start_time": "2022-03-22T14:36:27.571Z"
   },
   {
    "duration": 7,
    "start_time": "2022-03-22T14:36:27.578Z"
   },
   {
    "duration": 9,
    "start_time": "2022-03-22T14:36:27.587Z"
   },
   {
    "duration": 12,
    "start_time": "2022-03-22T14:36:27.597Z"
   },
   {
    "duration": 25,
    "start_time": "2022-03-22T14:36:27.611Z"
   },
   {
    "duration": 201,
    "start_time": "2022-03-22T14:36:27.638Z"
   },
   {
    "duration": 178,
    "start_time": "2022-03-22T14:36:27.841Z"
   },
   {
    "duration": 192,
    "start_time": "2022-03-22T14:36:28.021Z"
   },
   {
    "duration": 193,
    "start_time": "2022-03-22T14:36:28.215Z"
   },
   {
    "duration": 188,
    "start_time": "2022-03-22T14:36:28.410Z"
   },
   {
    "duration": 179,
    "start_time": "2022-03-22T14:36:28.599Z"
   },
   {
    "duration": 925,
    "start_time": "2022-03-22T14:36:28.780Z"
   },
   {
    "duration": 7,
    "start_time": "2022-03-22T14:36:29.707Z"
   },
   {
    "duration": 26,
    "start_time": "2022-03-22T14:36:29.731Z"
   },
   {
    "duration": 27,
    "start_time": "2022-03-22T14:36:29.759Z"
   },
   {
    "duration": 161,
    "start_time": "2022-03-22T14:36:29.788Z"
   },
   {
    "duration": 274,
    "start_time": "2022-03-22T14:36:29.951Z"
   },
   {
    "duration": 265,
    "start_time": "2022-03-22T14:36:30.231Z"
   },
   {
    "duration": 161,
    "start_time": "2022-03-22T14:36:30.498Z"
   },
   {
    "duration": 156,
    "start_time": "2022-03-22T14:36:30.661Z"
   },
   {
    "duration": 196,
    "start_time": "2022-03-22T14:36:30.819Z"
   },
   {
    "duration": 193,
    "start_time": "2022-03-22T14:36:31.017Z"
   },
   {
    "duration": 184,
    "start_time": "2022-03-22T14:36:31.212Z"
   },
   {
    "duration": 195,
    "start_time": "2022-03-22T14:36:31.397Z"
   },
   {
    "duration": 181,
    "start_time": "2022-03-22T14:36:31.594Z"
   },
   {
    "duration": 12,
    "start_time": "2022-04-05T10:12:39.433Z"
   },
   {
    "duration": 61,
    "start_time": "2022-04-05T10:12:42.497Z"
   },
   {
    "duration": 1947,
    "start_time": "2022-04-05T10:12:47.801Z"
   },
   {
    "duration": 29,
    "start_time": "2022-04-05T10:12:49.751Z"
   },
   {
    "duration": 14,
    "start_time": "2022-04-05T10:12:49.782Z"
   },
   {
    "duration": 27,
    "start_time": "2022-04-05T10:12:49.799Z"
   },
   {
    "duration": 32,
    "start_time": "2022-04-05T10:12:49.827Z"
   },
   {
    "duration": 48,
    "start_time": "2022-04-05T10:12:49.861Z"
   },
   {
    "duration": 9,
    "start_time": "2022-04-05T10:12:49.911Z"
   },
   {
    "duration": 61,
    "start_time": "2022-04-05T10:12:49.923Z"
   },
   {
    "duration": 16,
    "start_time": "2022-04-05T10:12:49.986Z"
   },
   {
    "duration": 11,
    "start_time": "2022-04-05T10:12:50.005Z"
   },
   {
    "duration": 51,
    "start_time": "2022-04-05T10:12:50.018Z"
   },
   {
    "duration": 9,
    "start_time": "2022-04-05T10:12:50.071Z"
   },
   {
    "duration": 26,
    "start_time": "2022-04-05T10:12:50.082Z"
   },
   {
    "duration": 13,
    "start_time": "2022-04-05T10:12:50.110Z"
   },
   {
    "duration": 57,
    "start_time": "2022-04-05T10:12:50.124Z"
   },
   {
    "duration": 9,
    "start_time": "2022-04-05T10:12:50.183Z"
   },
   {
    "duration": 12,
    "start_time": "2022-04-05T10:12:50.194Z"
   },
   {
    "duration": 18,
    "start_time": "2022-04-05T10:12:50.208Z"
   },
   {
    "duration": 7,
    "start_time": "2022-04-05T10:12:50.268Z"
   },
   {
    "duration": 378,
    "start_time": "2022-04-05T10:12:50.277Z"
   },
   {
    "duration": 381,
    "start_time": "2022-04-05T10:12:50.658Z"
   },
   {
    "duration": 372,
    "start_time": "2022-04-05T10:12:51.042Z"
   },
   {
    "duration": 376,
    "start_time": "2022-04-05T10:12:51.417Z"
   },
   {
    "duration": 207,
    "start_time": "2022-04-05T10:12:51.795Z"
   },
   {
    "duration": 286,
    "start_time": "2022-04-05T10:12:52.005Z"
   },
   {
    "duration": 241,
    "start_time": "2022-04-05T10:12:52.293Z"
   },
   {
    "duration": 391,
    "start_time": "2022-04-05T10:12:52.536Z"
   },
   {
    "duration": 6,
    "start_time": "2022-04-05T10:12:52.933Z"
   },
   {
    "duration": 28,
    "start_time": "2022-04-05T10:12:52.941Z"
   },
   {
    "duration": 9,
    "start_time": "2022-04-05T10:12:52.971Z"
   },
   {
    "duration": 10,
    "start_time": "2022-04-05T10:12:52.982Z"
   },
   {
    "duration": 7,
    "start_time": "2022-04-05T10:12:52.994Z"
   },
   {
    "duration": 2204,
    "start_time": "2022-04-05T10:12:53.004Z"
   },
   {
    "duration": 0,
    "start_time": "2022-04-05T10:12:55.211Z"
   },
   {
    "duration": 0,
    "start_time": "2022-04-05T10:12:55.213Z"
   },
   {
    "duration": 0,
    "start_time": "2022-04-05T10:12:55.215Z"
   },
   {
    "duration": 0,
    "start_time": "2022-04-05T10:12:55.218Z"
   },
   {
    "duration": 0,
    "start_time": "2022-04-05T10:12:55.220Z"
   },
   {
    "duration": 0,
    "start_time": "2022-04-05T10:12:55.222Z"
   },
   {
    "duration": 0,
    "start_time": "2022-04-05T10:12:55.224Z"
   },
   {
    "duration": 0,
    "start_time": "2022-04-05T10:12:55.226Z"
   },
   {
    "duration": 0,
    "start_time": "2022-04-05T10:12:55.228Z"
   },
   {
    "duration": 0,
    "start_time": "2022-04-05T10:12:55.229Z"
   },
   {
    "duration": 0,
    "start_time": "2022-04-05T10:12:55.231Z"
   },
   {
    "duration": 0,
    "start_time": "2022-04-05T10:12:55.233Z"
   },
   {
    "duration": 0,
    "start_time": "2022-04-05T10:12:55.235Z"
   },
   {
    "duration": 0,
    "start_time": "2022-04-05T10:12:55.236Z"
   },
   {
    "duration": 0,
    "start_time": "2022-04-05T10:12:55.238Z"
   },
   {
    "duration": 0,
    "start_time": "2022-04-05T10:12:55.240Z"
   },
   {
    "duration": 0,
    "start_time": "2022-04-05T10:12:55.242Z"
   },
   {
    "duration": 0,
    "start_time": "2022-04-05T10:12:55.243Z"
   },
   {
    "duration": 0,
    "start_time": "2022-04-05T10:12:55.244Z"
   },
   {
    "duration": 0,
    "start_time": "2022-04-05T10:12:55.245Z"
   },
   {
    "duration": 216,
    "start_time": "2022-04-05T10:13:22.322Z"
   },
   {
    "duration": 7,
    "start_time": "2022-04-05T10:13:36.812Z"
   },
   {
    "duration": 7,
    "start_time": "2022-04-05T10:13:48.888Z"
   },
   {
    "duration": 158,
    "start_time": "2022-04-05T10:14:09.911Z"
   },
   {
    "duration": 24,
    "start_time": "2022-04-05T10:14:10.073Z"
   },
   {
    "duration": 7,
    "start_time": "2022-04-05T10:14:10.100Z"
   },
   {
    "duration": 4,
    "start_time": "2022-04-05T10:14:10.110Z"
   },
   {
    "duration": 54,
    "start_time": "2022-04-05T10:14:10.116Z"
   },
   {
    "duration": 13,
    "start_time": "2022-04-05T10:14:10.174Z"
   },
   {
    "duration": 9,
    "start_time": "2022-04-05T10:14:10.190Z"
   },
   {
    "duration": 107,
    "start_time": "2022-04-05T10:14:10.201Z"
   },
   {
    "duration": 16,
    "start_time": "2022-04-05T10:14:10.311Z"
   },
   {
    "duration": 6,
    "start_time": "2022-04-05T10:14:10.331Z"
   },
   {
    "duration": 15,
    "start_time": "2022-04-05T10:14:10.368Z"
   },
   {
    "duration": 12,
    "start_time": "2022-04-05T10:14:10.385Z"
   },
   {
    "duration": 5,
    "start_time": "2022-04-05T10:14:10.399Z"
   },
   {
    "duration": 12,
    "start_time": "2022-04-05T10:14:10.407Z"
   },
   {
    "duration": 37,
    "start_time": "2022-04-05T10:14:10.467Z"
   },
   {
    "duration": 9,
    "start_time": "2022-04-05T10:14:10.506Z"
   },
   {
    "duration": 51,
    "start_time": "2022-04-05T10:14:10.517Z"
   },
   {
    "duration": 19,
    "start_time": "2022-04-05T10:14:10.570Z"
   },
   {
    "duration": 7,
    "start_time": "2022-04-05T10:14:10.591Z"
   },
   {
    "duration": 369,
    "start_time": "2022-04-05T10:14:10.599Z"
   },
   {
    "duration": 385,
    "start_time": "2022-04-05T10:14:10.971Z"
   },
   {
    "duration": 376,
    "start_time": "2022-04-05T10:14:11.359Z"
   },
   {
    "duration": 539,
    "start_time": "2022-04-05T10:14:11.737Z"
   },
   {
    "duration": 402,
    "start_time": "2022-04-05T10:14:12.278Z"
   },
   {
    "duration": 408,
    "start_time": "2022-04-05T10:14:12.682Z"
   },
   {
    "duration": 481,
    "start_time": "2022-04-05T10:14:13.092Z"
   },
   {
    "duration": 725,
    "start_time": "2022-04-05T10:14:13.575Z"
   },
   {
    "duration": 6,
    "start_time": "2022-04-05T10:14:14.305Z"
   },
   {
    "duration": 7,
    "start_time": "2022-04-05T10:14:14.368Z"
   },
   {
    "duration": 8,
    "start_time": "2022-04-05T10:14:14.377Z"
   },
   {
    "duration": 12,
    "start_time": "2022-04-05T10:14:14.387Z"
   },
   {
    "duration": 9,
    "start_time": "2022-04-05T10:14:14.401Z"
   },
   {
    "duration": 471,
    "start_time": "2022-04-05T10:14:14.412Z"
   },
   {
    "duration": 7,
    "start_time": "2022-04-05T10:14:14.885Z"
   },
   {
    "duration": 369,
    "start_time": "2022-04-05T10:14:14.895Z"
   },
   {
    "duration": 230,
    "start_time": "2022-04-05T10:14:15.265Z"
   },
   {
    "duration": 245,
    "start_time": "2022-04-05T10:14:15.497Z"
   },
   {
    "duration": 248,
    "start_time": "2022-04-05T10:14:15.744Z"
   },
   {
    "duration": 229,
    "start_time": "2022-04-05T10:14:15.994Z"
   },
   {
    "duration": 231,
    "start_time": "2022-04-05T10:14:16.225Z"
   },
   {
    "duration": 11,
    "start_time": "2022-04-05T10:14:16.459Z"
   },
   {
    "duration": 29,
    "start_time": "2022-04-05T10:14:16.472Z"
   },
   {
    "duration": 8,
    "start_time": "2022-04-05T10:14:16.504Z"
   },
   {
    "duration": 358,
    "start_time": "2022-04-05T10:14:16.514Z"
   },
   {
    "duration": 378,
    "start_time": "2022-04-05T10:14:16.875Z"
   },
   {
    "duration": 372,
    "start_time": "2022-04-05T10:14:17.255Z"
   },
   {
    "duration": 225,
    "start_time": "2022-04-05T10:14:17.629Z"
   },
   {
    "duration": 222,
    "start_time": "2022-04-05T10:14:17.856Z"
   },
   {
    "duration": 268,
    "start_time": "2022-04-05T10:14:18.080Z"
   },
   {
    "duration": 248,
    "start_time": "2022-04-05T10:14:18.350Z"
   },
   {
    "duration": 468,
    "start_time": "2022-04-05T10:14:18.600Z"
   },
   {
    "duration": 500,
    "start_time": "2022-04-05T10:14:19.070Z"
   },
   {
    "duration": 436,
    "start_time": "2022-04-05T10:14:19.572Z"
   },
   {
    "duration": 8,
    "start_time": "2022-04-05T10:14:33.463Z"
   },
   {
    "duration": 122,
    "start_time": "2022-04-05T10:15:08.019Z"
   },
   {
    "duration": 8,
    "start_time": "2022-04-05T10:15:11.275Z"
   },
   {
    "duration": 8,
    "start_time": "2022-04-05T10:16:07.965Z"
   },
   {
    "duration": 620,
    "start_time": "2022-04-05T10:16:27.592Z"
   },
   {
    "duration": 14,
    "start_time": "2022-04-05T10:17:25.234Z"
   },
   {
    "duration": 16,
    "start_time": "2022-04-05T10:17:37.010Z"
   },
   {
    "duration": 7,
    "start_time": "2022-04-05T10:18:09.271Z"
   },
   {
    "duration": 18,
    "start_time": "2022-04-05T10:18:32.410Z"
   },
   {
    "duration": 6,
    "start_time": "2022-04-05T10:30:23.064Z"
   },
   {
    "duration": 6,
    "start_time": "2022-04-05T10:32:18.256Z"
   },
   {
    "duration": 14,
    "start_time": "2022-04-05T10:32:28.222Z"
   },
   {
    "duration": 207,
    "start_time": "2022-04-05T10:33:46.135Z"
   },
   {
    "duration": 16,
    "start_time": "2022-04-05T10:51:30.117Z"
   },
   {
    "duration": 225,
    "start_time": "2022-04-05T10:52:02.952Z"
   },
   {
    "duration": 137,
    "start_time": "2022-04-05T10:53:38.257Z"
   },
   {
    "duration": 15,
    "start_time": "2022-04-05T10:53:53.157Z"
   },
   {
    "duration": 11,
    "start_time": "2022-04-05T10:54:27.603Z"
   },
   {
    "duration": 15,
    "start_time": "2022-04-05T10:54:33.665Z"
   },
   {
    "duration": 19,
    "start_time": "2022-04-05T11:15:25.851Z"
   },
   {
    "duration": 153,
    "start_time": "2022-04-05T11:15:42.575Z"
   },
   {
    "duration": 41,
    "start_time": "2022-04-05T11:15:42.731Z"
   },
   {
    "duration": 5,
    "start_time": "2022-04-05T11:15:42.775Z"
   },
   {
    "duration": 7,
    "start_time": "2022-04-05T11:15:42.782Z"
   },
   {
    "duration": 7,
    "start_time": "2022-04-05T11:15:42.793Z"
   },
   {
    "duration": 65,
    "start_time": "2022-04-05T11:15:42.802Z"
   },
   {
    "duration": 11,
    "start_time": "2022-04-05T11:15:42.870Z"
   },
   {
    "duration": 87,
    "start_time": "2022-04-05T11:15:42.883Z"
   },
   {
    "duration": 17,
    "start_time": "2022-04-05T11:15:42.973Z"
   },
   {
    "duration": 7,
    "start_time": "2022-04-05T11:15:42.992Z"
   },
   {
    "duration": 15,
    "start_time": "2022-04-05T11:15:43.001Z"
   },
   {
    "duration": 10,
    "start_time": "2022-04-05T11:15:43.068Z"
   },
   {
    "duration": 5,
    "start_time": "2022-04-05T11:15:43.081Z"
   },
   {
    "duration": 8,
    "start_time": "2022-04-05T11:15:43.091Z"
   },
   {
    "duration": 86,
    "start_time": "2022-04-05T11:15:43.101Z"
   },
   {
    "duration": 9,
    "start_time": "2022-04-05T11:15:43.189Z"
   },
   {
    "duration": 13,
    "start_time": "2022-04-05T11:15:43.200Z"
   },
   {
    "duration": 54,
    "start_time": "2022-04-05T11:15:43.215Z"
   },
   {
    "duration": 7,
    "start_time": "2022-04-05T11:15:43.272Z"
   },
   {
    "duration": 369,
    "start_time": "2022-04-05T11:15:43.281Z"
   },
   {
    "duration": 544,
    "start_time": "2022-04-05T11:15:43.652Z"
   },
   {
    "duration": 363,
    "start_time": "2022-04-05T11:15:44.198Z"
   },
   {
    "duration": 379,
    "start_time": "2022-04-05T11:15:44.567Z"
   },
   {
    "duration": 227,
    "start_time": "2022-04-05T11:15:44.948Z"
   },
   {
    "duration": 230,
    "start_time": "2022-04-05T11:15:45.177Z"
   },
   {
    "duration": 241,
    "start_time": "2022-04-05T11:15:45.409Z"
   },
   {
    "duration": 390,
    "start_time": "2022-04-05T11:15:45.652Z"
   },
   {
    "duration": 6,
    "start_time": "2022-04-05T11:15:46.044Z"
   },
   {
    "duration": 7,
    "start_time": "2022-04-05T11:15:46.068Z"
   },
   {
    "duration": 20,
    "start_time": "2022-04-05T11:15:46.077Z"
   },
   {
    "duration": 7,
    "start_time": "2022-04-05T11:15:46.100Z"
   },
   {
    "duration": 9,
    "start_time": "2022-04-05T11:15:46.109Z"
   },
   {
    "duration": 54,
    "start_time": "2022-04-05T11:15:46.120Z"
   },
   {
    "duration": 249,
    "start_time": "2022-04-05T11:15:46.176Z"
   },
   {
    "duration": 7,
    "start_time": "2022-04-05T11:15:46.427Z"
   },
   {
    "duration": 241,
    "start_time": "2022-04-05T11:15:46.436Z"
   },
   {
    "duration": 6,
    "start_time": "2022-04-05T11:15:46.679Z"
   },
   {
    "duration": 403,
    "start_time": "2022-04-05T11:15:46.687Z"
   },
   {
    "duration": 14,
    "start_time": "2022-04-05T11:15:47.092Z"
   },
   {
    "duration": 571,
    "start_time": "2022-04-05T11:15:47.108Z"
   },
   {
    "duration": 514,
    "start_time": "2022-04-05T11:15:47.689Z"
   },
   {
    "duration": 485,
    "start_time": "2022-04-05T11:15:48.205Z"
   },
   {
    "duration": 407,
    "start_time": "2022-04-05T11:15:48.692Z"
   },
   {
    "duration": 9,
    "start_time": "2022-04-05T11:15:49.101Z"
   },
   {
    "duration": 29,
    "start_time": "2022-04-05T11:15:49.168Z"
   },
   {
    "duration": 7,
    "start_time": "2022-04-05T11:15:49.199Z"
   },
   {
    "duration": 413,
    "start_time": "2022-04-05T11:15:49.209Z"
   },
   {
    "duration": 370,
    "start_time": "2022-04-05T11:15:49.624Z"
   },
   {
    "duration": 543,
    "start_time": "2022-04-05T11:15:49.996Z"
   },
   {
    "duration": 215,
    "start_time": "2022-04-05T11:15:50.542Z"
   },
   {
    "duration": 209,
    "start_time": "2022-04-05T11:15:50.759Z"
   },
   {
    "duration": 255,
    "start_time": "2022-04-05T11:15:50.970Z"
   },
   {
    "duration": 14,
    "start_time": "2022-04-05T11:15:51.227Z"
   },
   {
    "duration": 228,
    "start_time": "2022-04-05T11:15:51.266Z"
   },
   {
    "duration": 14,
    "start_time": "2022-04-05T11:15:51.497Z"
   },
   {
    "duration": 243,
    "start_time": "2022-04-05T11:15:51.513Z"
   },
   {
    "duration": 245,
    "start_time": "2022-04-05T11:15:51.758Z"
   },
   {
    "duration": 255,
    "start_time": "2022-04-05T11:15:52.005Z"
   },
   {
    "duration": 11,
    "start_time": "2022-04-05T11:17:14.596Z"
   },
   {
    "duration": 11,
    "start_time": "2022-04-05T11:17:22.249Z"
   },
   {
    "duration": 176,
    "start_time": "2022-04-05T11:17:28.475Z"
   },
   {
    "duration": 25,
    "start_time": "2022-04-05T11:17:28.668Z"
   },
   {
    "duration": 7,
    "start_time": "2022-04-05T11:17:28.695Z"
   },
   {
    "duration": 7,
    "start_time": "2022-04-05T11:17:28.704Z"
   },
   {
    "duration": 54,
    "start_time": "2022-04-05T11:17:28.716Z"
   },
   {
    "duration": 15,
    "start_time": "2022-04-05T11:17:28.773Z"
   },
   {
    "duration": 12,
    "start_time": "2022-04-05T11:17:28.791Z"
   },
   {
    "duration": 122,
    "start_time": "2022-04-05T11:17:28.806Z"
   },
   {
    "duration": 44,
    "start_time": "2022-04-05T11:17:28.930Z"
   },
   {
    "duration": 9,
    "start_time": "2022-04-05T11:17:28.977Z"
   },
   {
    "duration": 19,
    "start_time": "2022-04-05T11:17:28.989Z"
   },
   {
    "duration": 59,
    "start_time": "2022-04-05T11:17:29.010Z"
   },
   {
    "duration": 7,
    "start_time": "2022-04-05T11:17:29.072Z"
   },
   {
    "duration": 10,
    "start_time": "2022-04-05T11:17:29.087Z"
   },
   {
    "duration": 95,
    "start_time": "2022-04-05T11:17:29.099Z"
   },
   {
    "duration": 10,
    "start_time": "2022-04-05T11:17:29.197Z"
   },
   {
    "duration": 58,
    "start_time": "2022-04-05T11:17:29.210Z"
   },
   {
    "duration": 20,
    "start_time": "2022-04-05T11:17:29.270Z"
   },
   {
    "duration": 9,
    "start_time": "2022-04-05T11:17:29.292Z"
   },
   {
    "duration": 372,
    "start_time": "2022-04-05T11:17:29.303Z"
   },
   {
    "duration": 383,
    "start_time": "2022-04-05T11:17:29.677Z"
   },
   {
    "duration": 369,
    "start_time": "2022-04-05T11:17:30.062Z"
   },
   {
    "duration": 386,
    "start_time": "2022-04-05T11:17:30.434Z"
   },
   {
    "duration": 381,
    "start_time": "2022-04-05T11:17:30.822Z"
   },
   {
    "duration": 605,
    "start_time": "2022-04-05T11:17:31.206Z"
   },
   {
    "duration": 478,
    "start_time": "2022-04-05T11:17:31.813Z"
   },
   {
    "duration": 782,
    "start_time": "2022-04-05T11:17:32.293Z"
   },
   {
    "duration": 6,
    "start_time": "2022-04-05T11:17:33.077Z"
   },
   {
    "duration": 8,
    "start_time": "2022-04-05T11:17:33.085Z"
   },
   {
    "duration": 11,
    "start_time": "2022-04-05T11:17:33.095Z"
   },
   {
    "duration": 0,
    "start_time": "2022-04-05T11:17:33.110Z"
   },
   {
    "duration": 0,
    "start_time": "2022-04-05T11:17:33.111Z"
   },
   {
    "duration": 0,
    "start_time": "2022-04-05T11:17:33.169Z"
   },
   {
    "duration": 0,
    "start_time": "2022-04-05T11:17:33.170Z"
   },
   {
    "duration": 0,
    "start_time": "2022-04-05T11:17:33.171Z"
   },
   {
    "duration": 0,
    "start_time": "2022-04-05T11:17:33.173Z"
   },
   {
    "duration": 0,
    "start_time": "2022-04-05T11:17:33.174Z"
   },
   {
    "duration": 0,
    "start_time": "2022-04-05T11:17:33.175Z"
   },
   {
    "duration": 0,
    "start_time": "2022-04-05T11:17:33.176Z"
   },
   {
    "duration": 0,
    "start_time": "2022-04-05T11:17:33.178Z"
   },
   {
    "duration": 0,
    "start_time": "2022-04-05T11:17:33.179Z"
   },
   {
    "duration": 0,
    "start_time": "2022-04-05T11:17:33.181Z"
   },
   {
    "duration": 0,
    "start_time": "2022-04-05T11:17:33.182Z"
   },
   {
    "duration": 0,
    "start_time": "2022-04-05T11:17:33.184Z"
   },
   {
    "duration": 0,
    "start_time": "2022-04-05T11:17:33.185Z"
   },
   {
    "duration": 0,
    "start_time": "2022-04-05T11:17:33.598Z"
   },
   {
    "duration": 0,
    "start_time": "2022-04-05T11:17:33.600Z"
   },
   {
    "duration": 0,
    "start_time": "2022-04-05T11:17:33.601Z"
   },
   {
    "duration": 0,
    "start_time": "2022-04-05T11:17:33.602Z"
   },
   {
    "duration": 0,
    "start_time": "2022-04-05T11:17:33.604Z"
   },
   {
    "duration": 0,
    "start_time": "2022-04-05T11:17:33.606Z"
   },
   {
    "duration": 0,
    "start_time": "2022-04-05T11:17:33.607Z"
   },
   {
    "duration": 0,
    "start_time": "2022-04-05T11:17:33.609Z"
   },
   {
    "duration": 0,
    "start_time": "2022-04-05T11:17:33.610Z"
   },
   {
    "duration": 0,
    "start_time": "2022-04-05T11:17:33.668Z"
   },
   {
    "duration": 0,
    "start_time": "2022-04-05T11:17:33.670Z"
   },
   {
    "duration": 0,
    "start_time": "2022-04-05T11:17:33.671Z"
   },
   {
    "duration": 0,
    "start_time": "2022-04-05T11:17:33.672Z"
   },
   {
    "duration": 6,
    "start_time": "2022-04-05T11:17:51.581Z"
   },
   {
    "duration": 20,
    "start_time": "2022-04-05T11:18:39.545Z"
   },
   {
    "duration": 18,
    "start_time": "2022-04-05T11:20:36.624Z"
   },
   {
    "duration": 1896,
    "start_time": "2022-04-05T12:14:53.098Z"
   },
   {
    "duration": 22,
    "start_time": "2022-04-05T12:14:54.998Z"
   },
   {
    "duration": 7,
    "start_time": "2022-04-05T12:14:55.023Z"
   },
   {
    "duration": 36,
    "start_time": "2022-04-05T12:14:55.032Z"
   },
   {
    "duration": 8,
    "start_time": "2022-04-05T12:14:55.073Z"
   },
   {
    "duration": 14,
    "start_time": "2022-04-05T12:14:55.084Z"
   },
   {
    "duration": 10,
    "start_time": "2022-04-05T12:14:55.100Z"
   },
   {
    "duration": 107,
    "start_time": "2022-04-05T12:14:55.112Z"
   },
   {
    "duration": 19,
    "start_time": "2022-04-05T12:14:55.222Z"
   },
   {
    "duration": 10,
    "start_time": "2022-04-05T12:14:55.268Z"
   },
   {
    "duration": 17,
    "start_time": "2022-04-05T12:14:55.281Z"
   },
   {
    "duration": 11,
    "start_time": "2022-04-05T12:14:55.301Z"
   },
   {
    "duration": 6,
    "start_time": "2022-04-05T12:14:55.315Z"
   },
   {
    "duration": 9,
    "start_time": "2022-04-05T12:14:55.373Z"
   },
   {
    "duration": 39,
    "start_time": "2022-04-05T12:14:55.385Z"
   },
   {
    "duration": 43,
    "start_time": "2022-04-05T12:14:55.428Z"
   },
   {
    "duration": 14,
    "start_time": "2022-04-05T12:14:55.474Z"
   },
   {
    "duration": 21,
    "start_time": "2022-04-05T12:14:55.492Z"
   },
   {
    "duration": 7,
    "start_time": "2022-04-05T12:14:55.515Z"
   },
   {
    "duration": 360,
    "start_time": "2022-04-05T12:14:55.569Z"
   },
   {
    "duration": 371,
    "start_time": "2022-04-05T12:14:55.932Z"
   },
   {
    "duration": 364,
    "start_time": "2022-04-05T12:14:56.306Z"
   },
   {
    "duration": 364,
    "start_time": "2022-04-05T12:14:56.672Z"
   },
   {
    "duration": 206,
    "start_time": "2022-04-05T12:14:57.038Z"
   },
   {
    "duration": 280,
    "start_time": "2022-04-05T12:14:57.247Z"
   },
   {
    "duration": 234,
    "start_time": "2022-04-05T12:14:57.529Z"
   },
   {
    "duration": 374,
    "start_time": "2022-04-05T12:14:57.767Z"
   },
   {
    "duration": 23,
    "start_time": "2022-04-05T12:14:58.144Z"
   },
   {
    "duration": 9,
    "start_time": "2022-04-05T12:14:58.169Z"
   },
   {
    "duration": 21,
    "start_time": "2022-04-05T12:14:58.181Z"
   },
   {
    "duration": 10,
    "start_time": "2022-04-05T12:14:58.205Z"
   },
   {
    "duration": 55,
    "start_time": "2022-04-05T12:14:58.217Z"
   },
   {
    "duration": 10,
    "start_time": "2022-04-05T12:14:58.275Z"
   },
   {
    "duration": 240,
    "start_time": "2022-04-05T12:14:58.288Z"
   },
   {
    "duration": 9,
    "start_time": "2022-04-05T12:14:58.530Z"
   },
   {
    "duration": 241,
    "start_time": "2022-04-05T12:14:58.541Z"
   },
   {
    "duration": 8,
    "start_time": "2022-04-05T12:14:58.784Z"
   },
   {
    "duration": 233,
    "start_time": "2022-04-05T12:14:58.794Z"
   },
   {
    "duration": 14,
    "start_time": "2022-04-05T12:14:59.029Z"
   },
   {
    "duration": 232,
    "start_time": "2022-04-05T12:14:59.045Z"
   },
   {
    "duration": 247,
    "start_time": "2022-04-05T12:14:59.283Z"
   },
   {
    "duration": 226,
    "start_time": "2022-04-05T12:14:59.532Z"
   },
   {
    "duration": 313,
    "start_time": "2022-04-05T12:14:59.768Z"
   },
   {
    "duration": 9,
    "start_time": "2022-04-05T12:15:00.084Z"
   },
   {
    "duration": 87,
    "start_time": "2022-04-05T12:15:00.095Z"
   },
   {
    "duration": 7,
    "start_time": "2022-04-05T12:15:00.184Z"
   },
   {
    "duration": 408,
    "start_time": "2022-04-05T12:15:00.193Z"
   },
   {
    "duration": 967,
    "start_time": "2022-04-05T12:15:00.603Z"
   },
   {
    "duration": 707,
    "start_time": "2022-04-05T12:15:01.572Z"
   },
   {
    "duration": 391,
    "start_time": "2022-04-05T12:15:02.281Z"
   },
   {
    "duration": 217,
    "start_time": "2022-04-05T12:15:02.675Z"
   },
   {
    "duration": 257,
    "start_time": "2022-04-05T12:15:02.895Z"
   },
   {
    "duration": 20,
    "start_time": "2022-04-05T12:15:03.154Z"
   },
   {
    "duration": 234,
    "start_time": "2022-04-05T12:15:03.176Z"
   },
   {
    "duration": 14,
    "start_time": "2022-04-05T12:15:03.413Z"
   },
   {
    "duration": 235,
    "start_time": "2022-04-05T12:15:03.429Z"
   },
   {
    "duration": 250,
    "start_time": "2022-04-05T12:15:03.667Z"
   },
   {
    "duration": 248,
    "start_time": "2022-04-05T12:15:03.920Z"
   },
   {
    "duration": 917,
    "start_time": "2022-04-05T12:22:13.969Z"
   },
   {
    "duration": 964,
    "start_time": "2022-04-05T12:22:38.216Z"
   },
   {
    "duration": 362,
    "start_time": "2022-04-05T12:22:45.734Z"
   },
   {
    "duration": 191,
    "start_time": "2022-04-05T12:32:13.291Z"
   },
   {
    "duration": 21,
    "start_time": "2022-04-05T12:35:54.589Z"
   },
   {
    "duration": 124,
    "start_time": "2022-04-05T12:35:59.329Z"
   },
   {
    "duration": 31,
    "start_time": "2022-04-05T12:35:59.455Z"
   },
   {
    "duration": 7,
    "start_time": "2022-04-05T12:35:59.488Z"
   },
   {
    "duration": 5,
    "start_time": "2022-04-05T12:35:59.498Z"
   },
   {
    "duration": 9,
    "start_time": "2022-04-05T12:35:59.505Z"
   },
   {
    "duration": 60,
    "start_time": "2022-04-05T12:35:59.516Z"
   },
   {
    "duration": 21,
    "start_time": "2022-04-05T12:35:59.578Z"
   },
   {
    "duration": 10,
    "start_time": "2022-04-05T12:35:59.601Z"
   },
   {
    "duration": 106,
    "start_time": "2022-04-05T12:35:59.613Z"
   },
   {
    "duration": 17,
    "start_time": "2022-04-05T12:35:59.724Z"
   },
   {
    "duration": 28,
    "start_time": "2022-04-05T12:35:59.743Z"
   },
   {
    "duration": 15,
    "start_time": "2022-04-05T12:35:59.773Z"
   },
   {
    "duration": 8,
    "start_time": "2022-04-05T12:35:59.790Z"
   },
   {
    "duration": 6,
    "start_time": "2022-04-05T12:35:59.800Z"
   },
   {
    "duration": 13,
    "start_time": "2022-04-05T12:35:59.808Z"
   },
   {
    "duration": 77,
    "start_time": "2022-04-05T12:35:59.823Z"
   },
   {
    "duration": 8,
    "start_time": "2022-04-05T12:35:59.903Z"
   },
   {
    "duration": 12,
    "start_time": "2022-04-05T12:35:59.913Z"
   },
   {
    "duration": 47,
    "start_time": "2022-04-05T12:35:59.927Z"
   },
   {
    "duration": 7,
    "start_time": "2022-04-05T12:35:59.976Z"
   },
   {
    "duration": 362,
    "start_time": "2022-04-05T12:35:59.986Z"
   },
   {
    "duration": 720,
    "start_time": "2022-04-05T12:36:00.351Z"
   },
   {
    "duration": 642,
    "start_time": "2022-04-05T12:36:01.073Z"
   },
   {
    "duration": 805,
    "start_time": "2022-04-05T12:36:01.768Z"
   },
   {
    "duration": 607,
    "start_time": "2022-04-05T12:36:02.576Z"
   },
   {
    "duration": 457,
    "start_time": "2022-04-05T12:36:03.186Z"
   },
   {
    "duration": 368,
    "start_time": "2022-04-05T12:36:03.646Z"
   },
   {
    "duration": 370,
    "start_time": "2022-04-05T12:36:04.024Z"
   },
   {
    "duration": 6,
    "start_time": "2022-04-05T12:36:04.396Z"
   },
   {
    "duration": 11,
    "start_time": "2022-04-05T12:36:04.404Z"
   },
   {
    "duration": 24,
    "start_time": "2022-04-05T12:36:04.418Z"
   },
   {
    "duration": 29,
    "start_time": "2022-04-05T12:36:04.444Z"
   },
   {
    "duration": 9,
    "start_time": "2022-04-05T12:36:04.476Z"
   },
   {
    "duration": 11,
    "start_time": "2022-04-05T12:36:04.488Z"
   },
   {
    "duration": 271,
    "start_time": "2022-04-05T12:36:04.502Z"
   },
   {
    "duration": 7,
    "start_time": "2022-04-05T12:36:04.775Z"
   },
   {
    "duration": 246,
    "start_time": "2022-04-05T12:36:04.784Z"
   },
   {
    "duration": 7,
    "start_time": "2022-04-05T12:36:05.032Z"
   },
   {
    "duration": 235,
    "start_time": "2022-04-05T12:36:05.042Z"
   },
   {
    "duration": 15,
    "start_time": "2022-04-05T12:36:05.279Z"
   },
   {
    "duration": 245,
    "start_time": "2022-04-05T12:36:05.296Z"
   },
   {
    "duration": 258,
    "start_time": "2022-04-05T12:36:05.543Z"
   },
   {
    "duration": 219,
    "start_time": "2022-04-05T12:36:05.803Z"
   },
   {
    "duration": 219,
    "start_time": "2022-04-05T12:36:06.024Z"
   },
   {
    "duration": 9,
    "start_time": "2022-04-05T12:36:06.245Z"
   },
   {
    "duration": 29,
    "start_time": "2022-04-05T12:36:06.267Z"
   },
   {
    "duration": 6,
    "start_time": "2022-04-05T12:36:06.299Z"
   },
   {
    "duration": 236,
    "start_time": "2022-04-05T12:36:06.308Z"
   },
   {
    "duration": 520,
    "start_time": "2022-04-05T12:36:06.547Z"
   },
   {
    "duration": 369,
    "start_time": "2022-04-05T12:36:07.070Z"
   },
   {
    "duration": 222,
    "start_time": "2022-04-05T12:36:07.442Z"
   },
   {
    "duration": 214,
    "start_time": "2022-04-05T12:36:07.666Z"
   },
   {
    "duration": 255,
    "start_time": "2022-04-05T12:36:07.882Z"
   },
   {
    "duration": 13,
    "start_time": "2022-04-05T12:36:08.139Z"
   },
   {
    "duration": 232,
    "start_time": "2022-04-05T12:36:08.167Z"
   },
   {
    "duration": 15,
    "start_time": "2022-04-05T12:36:08.401Z"
   },
   {
    "duration": 246,
    "start_time": "2022-04-05T12:36:08.418Z"
   },
   {
    "duration": 253,
    "start_time": "2022-04-05T12:36:08.666Z"
   },
   {
    "duration": 246,
    "start_time": "2022-04-05T12:36:08.921Z"
   },
   {
    "duration": 1645,
    "start_time": "2022-04-05T13:43:55.026Z"
   },
   {
    "duration": 24,
    "start_time": "2022-04-05T13:43:56.675Z"
   },
   {
    "duration": 7,
    "start_time": "2022-04-05T13:43:56.701Z"
   },
   {
    "duration": 6,
    "start_time": "2022-04-05T13:43:56.712Z"
   },
   {
    "duration": 49,
    "start_time": "2022-04-05T13:43:56.721Z"
   },
   {
    "duration": 15,
    "start_time": "2022-04-05T13:43:56.772Z"
   },
   {
    "duration": 11,
    "start_time": "2022-04-05T13:43:56.789Z"
   },
   {
    "duration": 102,
    "start_time": "2022-04-05T13:43:56.803Z"
   },
   {
    "duration": 17,
    "start_time": "2022-04-05T13:43:56.908Z"
   },
   {
    "duration": 8,
    "start_time": "2022-04-05T13:43:56.930Z"
   },
   {
    "duration": 17,
    "start_time": "2022-04-05T13:43:56.967Z"
   },
   {
    "duration": 8,
    "start_time": "2022-04-05T13:43:56.985Z"
   },
   {
    "duration": 5,
    "start_time": "2022-04-05T13:43:56.995Z"
   },
   {
    "duration": 13,
    "start_time": "2022-04-05T13:43:57.002Z"
   },
   {
    "duration": 74,
    "start_time": "2022-04-05T13:43:57.017Z"
   },
   {
    "duration": 8,
    "start_time": "2022-04-05T13:43:57.093Z"
   },
   {
    "duration": 12,
    "start_time": "2022-04-05T13:43:57.103Z"
   },
   {
    "duration": 17,
    "start_time": "2022-04-05T13:43:57.117Z"
   },
   {
    "duration": 6,
    "start_time": "2022-04-05T13:43:57.168Z"
   },
   {
    "duration": 350,
    "start_time": "2022-04-05T13:43:57.177Z"
   },
   {
    "duration": 374,
    "start_time": "2022-04-05T13:43:57.530Z"
   },
   {
    "duration": 375,
    "start_time": "2022-04-05T13:43:57.906Z"
   },
   {
    "duration": 390,
    "start_time": "2022-04-05T13:43:58.284Z"
   },
   {
    "duration": 210,
    "start_time": "2022-04-05T13:43:58.677Z"
   },
   {
    "duration": 290,
    "start_time": "2022-04-05T13:43:58.890Z"
   },
   {
    "duration": 237,
    "start_time": "2022-04-05T13:43:59.182Z"
   },
   {
    "duration": 481,
    "start_time": "2022-04-05T13:43:59.421Z"
   },
   {
    "duration": 7,
    "start_time": "2022-04-05T13:43:59.907Z"
   },
   {
    "duration": 8,
    "start_time": "2022-04-05T13:43:59.916Z"
   },
   {
    "duration": 45,
    "start_time": "2022-04-05T13:43:59.926Z"
   },
   {
    "duration": 9,
    "start_time": "2022-04-05T13:43:59.973Z"
   },
   {
    "duration": 9,
    "start_time": "2022-04-05T13:43:59.984Z"
   },
   {
    "duration": 7,
    "start_time": "2022-04-05T13:43:59.996Z"
   },
   {
    "duration": 257,
    "start_time": "2022-04-05T13:44:00.005Z"
   },
   {
    "duration": 9,
    "start_time": "2022-04-05T13:44:00.268Z"
   },
   {
    "duration": 243,
    "start_time": "2022-04-05T13:44:00.282Z"
   },
   {
    "duration": 7,
    "start_time": "2022-04-05T13:44:00.528Z"
   },
   {
    "duration": 233,
    "start_time": "2022-04-05T13:44:00.537Z"
   },
   {
    "duration": 14,
    "start_time": "2022-04-05T13:44:00.772Z"
   },
   {
    "duration": 245,
    "start_time": "2022-04-05T13:44:00.788Z"
   },
   {
    "duration": 258,
    "start_time": "2022-04-05T13:44:01.035Z"
   },
   {
    "duration": 232,
    "start_time": "2022-04-05T13:44:01.296Z"
   },
   {
    "duration": 207,
    "start_time": "2022-04-05T13:44:01.530Z"
   },
   {
    "duration": 9,
    "start_time": "2022-04-05T13:44:01.739Z"
   },
   {
    "duration": 50,
    "start_time": "2022-04-05T13:44:01.750Z"
   },
   {
    "duration": 6,
    "start_time": "2022-04-05T13:44:01.803Z"
   },
   {
    "duration": 213,
    "start_time": "2022-04-05T13:44:01.811Z"
   },
   {
    "duration": 450,
    "start_time": "2022-04-05T13:44:02.027Z"
   },
   {
    "duration": 371,
    "start_time": "2022-04-05T13:44:02.480Z"
   },
   {
    "duration": 221,
    "start_time": "2022-04-05T13:44:02.853Z"
   },
   {
    "duration": 224,
    "start_time": "2022-04-05T13:44:03.076Z"
   },
   {
    "duration": 272,
    "start_time": "2022-04-05T13:44:03.303Z"
   },
   {
    "duration": 14,
    "start_time": "2022-04-05T13:44:03.577Z"
   },
   {
    "duration": 259,
    "start_time": "2022-04-05T13:44:03.593Z"
   },
   {
    "duration": 19,
    "start_time": "2022-04-05T13:44:03.855Z"
   },
   {
    "duration": 274,
    "start_time": "2022-04-05T13:44:03.876Z"
   },
   {
    "duration": 260,
    "start_time": "2022-04-05T13:44:04.152Z"
   },
   {
    "duration": 255,
    "start_time": "2022-04-05T13:44:04.415Z"
   }
  ],
  "kernelspec": {
   "display_name": "Python 3 (ipykernel)",
   "language": "python",
   "name": "python3"
  },
  "language_info": {
   "codemirror_mode": {
    "name": "ipython",
    "version": 3
   },
   "file_extension": ".py",
   "mimetype": "text/x-python",
   "name": "python",
   "nbconvert_exporter": "python",
   "pygments_lexer": "ipython3",
   "version": "3.10.2"
  },
  "toc": {
   "base_numbering": 1,
   "nav_menu": {},
   "number_sections": true,
   "sideBar": true,
   "skip_h1_title": true,
   "title_cell": "Содержание",
   "title_sidebar": "Contents",
   "toc_cell": true,
   "toc_position": {
    "height": "749px",
    "left": "21px",
    "top": "111.125px",
    "width": "366.389px"
   },
   "toc_section_display": true,
   "toc_window_display": true
  }
 },
 "nbformat": 4,
 "nbformat_minor": 4
}
