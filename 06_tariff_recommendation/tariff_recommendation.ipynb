{
 "cells": [
  {
   "cell_type": "markdown",
   "metadata": {},
   "source": [
    "# Рекомендация тарифов для клиентов \"Мегалайн\""
   ]
  },
  {
   "cell_type": "markdown",
   "metadata": {},
   "source": [
    "Задача состоит в построении системы, способной проанализировать поведение клиентов - польщователей архивных тарифов и предложить пользователям новый тариф: «Смарт» или «Ультра».\n",
    "\n",
    "Требуется построить модель для задачи классификации, которая выберет подходящий тариф с максимально большим значением *accuracy*."
   ]
  },
  {
   "cell_type": "markdown",
   "metadata": {},
   "source": [
    "## Обзор данных"
   ]
  },
  {
   "cell_type": "code",
   "execution_count": 1,
   "metadata": {},
   "outputs": [],
   "source": [
    "import pandas as pd \n",
    "\n",
    "from sklearn.model_selection import train_test_split\n",
    "from sklearn.tree import DecisionTreeClassifier\n",
    "from sklearn.ensemble import RandomForestClassifier\n",
    "from sklearn.linear_model import LogisticRegression\n",
    "\n",
    "from sklearn.metrics import accuracy_score\n",
    "from sklearn.dummy import DummyClassifier"
   ]
  },
  {
   "cell_type": "markdown",
   "metadata": {},
   "source": [
    "Читаем файл `users_behavior.csv` из папки `/datasets` и сохраняем его в переменной `df`;\n",
    "\n",
    "Выводим на экран первые пять строк таблицы:"
   ]
  },
  {
   "cell_type": "code",
   "execution_count": 2,
   "metadata": {},
   "outputs": [
    {
     "data": {
      "text/html": [
       "<div>\n",
       "<style scoped>\n",
       "    .dataframe tbody tr th:only-of-type {\n",
       "        vertical-align: middle;\n",
       "    }\n",
       "\n",
       "    .dataframe tbody tr th {\n",
       "        vertical-align: top;\n",
       "    }\n",
       "\n",
       "    .dataframe thead th {\n",
       "        text-align: right;\n",
       "    }\n",
       "</style>\n",
       "<table border=\"1\" class=\"dataframe\">\n",
       "  <thead>\n",
       "    <tr style=\"text-align: right;\">\n",
       "      <th></th>\n",
       "      <th>calls</th>\n",
       "      <th>minutes</th>\n",
       "      <th>messages</th>\n",
       "      <th>mb_used</th>\n",
       "      <th>is_ultra</th>\n",
       "    </tr>\n",
       "  </thead>\n",
       "  <tbody>\n",
       "    <tr>\n",
       "      <th>0</th>\n",
       "      <td>40.0</td>\n",
       "      <td>311.90</td>\n",
       "      <td>83.0</td>\n",
       "      <td>19915.42</td>\n",
       "      <td>0</td>\n",
       "    </tr>\n",
       "    <tr>\n",
       "      <th>1</th>\n",
       "      <td>85.0</td>\n",
       "      <td>516.75</td>\n",
       "      <td>56.0</td>\n",
       "      <td>22696.96</td>\n",
       "      <td>0</td>\n",
       "    </tr>\n",
       "    <tr>\n",
       "      <th>2</th>\n",
       "      <td>77.0</td>\n",
       "      <td>467.66</td>\n",
       "      <td>86.0</td>\n",
       "      <td>21060.45</td>\n",
       "      <td>0</td>\n",
       "    </tr>\n",
       "    <tr>\n",
       "      <th>3</th>\n",
       "      <td>106.0</td>\n",
       "      <td>745.53</td>\n",
       "      <td>81.0</td>\n",
       "      <td>8437.39</td>\n",
       "      <td>1</td>\n",
       "    </tr>\n",
       "    <tr>\n",
       "      <th>4</th>\n",
       "      <td>66.0</td>\n",
       "      <td>418.74</td>\n",
       "      <td>1.0</td>\n",
       "      <td>14502.75</td>\n",
       "      <td>0</td>\n",
       "    </tr>\n",
       "  </tbody>\n",
       "</table>\n",
       "</div>"
      ],
      "text/plain": [
       "   calls  minutes  messages   mb_used  is_ultra\n",
       "0   40.0   311.90      83.0  19915.42         0\n",
       "1   85.0   516.75      56.0  22696.96         0\n",
       "2   77.0   467.66      86.0  21060.45         0\n",
       "3  106.0   745.53      81.0   8437.39         1\n",
       "4   66.0   418.74       1.0  14502.75         0"
      ]
     },
     "execution_count": 2,
     "metadata": {},
     "output_type": "execute_result"
    }
   ],
   "source": [
    "df = pd.read_csv('***')\n",
    "df.head()"
   ]
  },
  {
   "cell_type": "markdown",
   "metadata": {},
   "source": [
    "Получаем общую информации о данных в таблице df:"
   ]
  },
  {
   "cell_type": "code",
   "execution_count": 3,
   "metadata": {},
   "outputs": [
    {
     "name": "stdout",
     "output_type": "stream",
     "text": [
      "<class 'pandas.core.frame.DataFrame'>\n",
      "RangeIndex: 3214 entries, 0 to 3213\n",
      "Data columns (total 5 columns):\n",
      " #   Column    Non-Null Count  Dtype  \n",
      "---  ------    --------------  -----  \n",
      " 0   calls     3214 non-null   float64\n",
      " 1   minutes   3214 non-null   float64\n",
      " 2   messages  3214 non-null   float64\n",
      " 3   mb_used   3214 non-null   float64\n",
      " 4   is_ultra  3214 non-null   int64  \n",
      "dtypes: float64(4), int64(1)\n",
      "memory usage: 125.7 KB\n"
     ]
    }
   ],
   "source": [
    "df.info()"
   ]
  },
  {
   "cell_type": "markdown",
   "metadata": {},
   "source": [
    "В таблице 5 столбцов. Тип данных в столбцах — целые и вещественные числа.\n",
    "\n",
    "Согласно документации к данным:\n",
    "- `сalls` — количество звонков,\n",
    "- `minutes` — суммарная длительность звонков в минутах,\n",
    "- `messages` — количество sms-сообщений,\n",
    "- `mb_used` — израсходованный интернет-трафик в Мб,\n",
    "- `is_ultra` — каким тарифом пользовался в течение месяца («Ультра» — 1, «Смарт» — 0)."
   ]
  },
  {
   "cell_type": "markdown",
   "metadata": {},
   "source": [
    "## Предобработка данных"
   ]
  },
  {
   "cell_type": "markdown",
   "metadata": {},
   "source": [
    "По условиям задания предобработка данных не потребуется."
   ]
  },
  {
   "cell_type": "markdown",
   "metadata": {},
   "source": [
    "## Разделение исходных данные на выборки"
   ]
  },
  {
   "cell_type": "markdown",
   "metadata": {},
   "source": [
    "Разделим исходные данные на обучающую, валидационную и тестовую выборки - выделим под обучающую 60% и по 20% на тестовую и валидационную.\n",
    "\n",
    "Для этого сначала разделим обучающую и валидационную выборки:"
   ]
  },
  {
   "cell_type": "code",
   "execution_count": 4,
   "metadata": {},
   "outputs": [],
   "source": [
    "df_train, df_valid = train_test_split(df, test_size=0.4, random_state=12345)"
   ]
  },
  {
   "cell_type": "markdown",
   "metadata": {},
   "source": [
    "Таким образом, мы получили 60% обучающую выборку и 40% валидационную.\n",
    "Теперь поделим валидационную выборку еще на 2 части:"
   ]
  },
  {
   "cell_type": "code",
   "execution_count": 5,
   "metadata": {},
   "outputs": [],
   "source": [
    "df_valid, df_test = train_test_split(df_valid, test_size=0.5, random_state=12345)"
   ]
  },
  {
   "cell_type": "markdown",
   "metadata": {},
   "source": [
    "В итоге получаем по 20% на валидационную и тестовую выборки."
   ]
  },
  {
   "cell_type": "code",
   "execution_count": 6,
   "metadata": {},
   "outputs": [
    {
     "name": "stdout",
     "output_type": "stream",
     "text": [
      "Размер обучающей выборки -     (1928, 5)\n",
      "Размер валидационной выборки - (643, 5)\n",
      "Размер тестовой выборки -      (643, 5)\n"
     ]
    }
   ],
   "source": [
    "print('Размер обучающей выборки -    ', df_train.shape)\n",
    "print('Размер валидационной выборки -', df_valid.shape)\n",
    "print('Размер тестовой выборки -     ', df_test.shape)"
   ]
  },
  {
   "cell_type": "markdown",
   "metadata": {},
   "source": [
    "Создаём переменные для целевого и остальных признаков, где целевой признак - столбец `is ultra`:"
   ]
  },
  {
   "cell_type": "code",
   "execution_count": 7,
   "metadata": {},
   "outputs": [],
   "source": [
    "features_test = df_test.drop(['is_ultra'], axis=1)\n",
    "target_test = df_test['is_ultra']\n",
    "\n",
    "features_train = df_train.drop(['is_ultra'], axis=1)\n",
    "target_train = df_train['is_ultra']\n",
    "\n",
    "features_valid = df_valid.drop(['is_ultra'], axis=1)\n",
    "target_valid = df_valid['is_ultra']"
   ]
  },
  {
   "cell_type": "markdown",
   "metadata": {},
   "source": [
    "## Исследование моделей"
   ]
  },
  {
   "cell_type": "markdown",
   "metadata": {},
   "source": [
    "### Модель решающего дерева"
   ]
  },
  {
   "cell_type": "markdown",
   "metadata": {},
   "source": [
    "Найдём *accuracy* для модели решающего дерева, а так же оптимальную глубину дерева, при котором получится наибольшее значение accuracy:"
   ]
  },
  {
   "cell_type": "code",
   "execution_count": 8,
   "metadata": {},
   "outputs": [
    {
     "name": "stdout",
     "output_type": "stream",
     "text": [
      "Accuracy наилучшей модели на валидационной выборке: 0.7853810264385692\n",
      "Оптимальная глубина дерева -  3\n"
     ]
    }
   ],
   "source": [
    "best_model_tree = None\n",
    "best_result = 0\n",
    "best_depth = 0\n",
    "for depth in range(1, 11):\n",
    "    model = DecisionTreeClassifier(random_state=12345, max_depth=depth)\n",
    "    model.fit(features_train, target_train)  # обучаем модель на обучающей выборке\n",
    "    predictions_valid = model.predict(features_valid)\n",
    "    result = accuracy_score(target_valid, predictions_valid) # считаем качество модели на валидационной выборке\n",
    "    if result > best_result:\n",
    "        best_model_tree = model # сохраняем лучшую модель\n",
    "        best_result = result  #сохраняем лучшее значение accuracy на валидационной выборке\n",
    "        best_depth = depth\n",
    "print('Accuracy наилучшей модели на валидационной выборке:', best_result)\n",
    "print('Оптимальная глубина дерева - ', best_depth)"
   ]
  },
  {
   "cell_type": "markdown",
   "metadata": {},
   "source": [
    "### Модель случайного леса"
   ]
  },
  {
   "cell_type": "markdown",
   "metadata": {},
   "source": [
    "Далее найдём accuracy для модели случайного леса, а так же оптимальное количество деревьев, при котором получится наибольшее значение *accuracy*:"
   ]
  },
  {
   "cell_type": "code",
   "execution_count": 9,
   "metadata": {},
   "outputs": [
    {
     "name": "stdout",
     "output_type": "stream",
     "text": [
      "Accuracy наилучшей модели на валидационной выборке: 0.7947122861586314\n",
      "Оптимальное количество деревьев - 23\n"
     ]
    }
   ],
   "source": [
    "best_model_forest = None\n",
    "best_result = 0\n",
    "best_est = 0\n",
    "for est in range(1, 160):\n",
    "    model = RandomForestClassifier(random_state=12345, n_estimators=est) \n",
    "    model.fit(features_train, target_train)  # обучаем модель на обучающей выборке\n",
    "    predictions_valid = model.predict(features_valid)\n",
    "    result = accuracy_score(target_valid, predictions_valid)  # считаем качество модели на валидационной выборке\n",
    "    if result > best_result:\n",
    "        best_model_forest = model # сохраняем лучшую модель\n",
    "        best_result = result  ##сохраняем лучшее значение accuracy на валидационной выборке\n",
    "        best_est = est\n",
    "print('Accuracy наилучшей модели на валидационной выборке:', best_result)\n",
    "print('Оптимальное количество деревьев -', best_est)"
   ]
  },
  {
   "cell_type": "markdown",
   "metadata": {},
   "source": [
    "### Модель логистической регрессии"
   ]
  },
  {
   "cell_type": "markdown",
   "metadata": {},
   "source": [
    "Наконец, найдем *accuracy* для модели логистической регрессии:"
   ]
  },
  {
   "cell_type": "code",
   "execution_count": 10,
   "metadata": {},
   "outputs": [
    {
     "name": "stdout",
     "output_type": "stream",
     "text": [
      "Accuracy модели на валидационной выборке: 0.7107309486780715\n"
     ]
    }
   ],
   "source": [
    "model_lreg = LogisticRegression(random_state=12345, solver='lbfgs', max_iter=1000) \n",
    "model_lreg.fit(features_train, target_train)   # обучаем модель на обучающей выборке\n",
    "predictions_valid = model_lreg.predict(features_valid) \n",
    "print('Accuracy модели на валидационной выборке:', accuracy_score(target_valid, predictions_valid))"
   ]
  },
  {
   "cell_type": "markdown",
   "metadata": {},
   "source": [
    "## Проверьте модель на тестовой выборке"
   ]
  },
  {
   "cell_type": "markdown",
   "metadata": {},
   "source": [
    "Найлучший результат accuracy - 0.787 показала модель случайного леса c количеством деревьев 12, её и будем использовать для проверки:"
   ]
  },
  {
   "cell_type": "code",
   "execution_count": 11,
   "metadata": {},
   "outputs": [
    {
     "name": "stdout",
     "output_type": "stream",
     "text": [
      "Accuracy модели на тестовой выборке: 0.7807153965785381\n"
     ]
    }
   ],
   "source": [
    "predictions = best_model_forest.predict(features_test)\n",
    "print('Accuracy модели на тестовой выборке:', accuracy_score(target_test, predictions))"
   ]
  },
  {
   "cell_type": "markdown",
   "metadata": {},
   "source": [
    "Результат проверки на тестовой выборке незначительно хуже, чем на валидационной."
   ]
  },
  {
   "cell_type": "markdown",
   "metadata": {},
   "source": [
    "## (бонус) Проверка модели на адекватность"
   ]
  },
  {
   "cell_type": "markdown",
   "metadata": {},
   "source": [
    "Для проверки моделей их можно сравнить со случайной моделью. Для проверки моделей их можно сравнить со случайной моделью. \n",
    "\n",
    "Для этого возспользуемся DummyClassifier - этот классификатор служит для сравнения с другими более сложными классификаторами. (https://scikit-learn.org/stable/modules/generated/sklearn.dummy.DummyClassifier.html)\n"
   ]
  },
  {
   "cell_type": "code",
   "execution_count": 12,
   "metadata": {},
   "outputs": [
    {
     "name": "stdout",
     "output_type": "stream",
     "text": [
      "Accuracy модели на тестовой выборке: 0.4821150855365474\n"
     ]
    }
   ],
   "source": [
    "random_model = DummyClassifier(random_state=12345, strategy='uniform')\n",
    "random_model.fit(features_train, target_train)  # обучаем модель на обучающей выборке\n",
    "predictions = random_model.predict(features_test)\n",
    "print('Accuracy модели на тестовой выборке:', accuracy_score(target_test, predictions))"
   ]
  },
  {
   "cell_type": "markdown",
   "metadata": {},
   "source": [
    "Значение *accuracy* случайной модели на тестовой выборке близко к 0.5, что подтвержадет адекватность расссмотренных выше моделей."
   ]
  },
  {
   "cell_type": "markdown",
   "metadata": {},
   "source": [
    "## Вывод"
   ]
  },
  {
   "cell_type": "markdown",
   "metadata": {},
   "source": [
    "Мы рассмотрели три разных модели для решения задачи:\n",
    "\n",
    "- Модель решающего дерева, значение *accuracy* - 0.785\n",
    "- Модель случайного леса, значение *accuracy* - 0.787\n",
    "- Модель логистической регрессии, значение *accuracy* - 0.710\n",
    "\n",
    "Таким образом, наиболее точной моделью является модель случайного леса."
   ]
  }
 ],
 "metadata": {
  "ExecuteTimeLog": [
   {
    "duration": 1247,
    "start_time": "2022-06-18T13:23:35.254Z"
   },
   {
    "duration": 110,
    "start_time": "2022-06-18T13:24:01.391Z"
   },
   {
    "duration": 76,
    "start_time": "2022-06-18T13:24:17.720Z"
   },
   {
    "duration": 21,
    "start_time": "2022-06-18T13:24:37.852Z"
   },
   {
    "duration": 13,
    "start_time": "2022-06-18T13:26:17.103Z"
   },
   {
    "duration": 12,
    "start_time": "2022-06-18T13:28:53.242Z"
   },
   {
    "duration": 5,
    "start_time": "2022-06-18T13:28:59.558Z"
   },
   {
    "duration": 6,
    "start_time": "2022-06-18T13:29:00.658Z"
   },
   {
    "duration": 32,
    "start_time": "2022-06-18T13:30:41.621Z"
   },
   {
    "duration": 11,
    "start_time": "2022-06-18T13:31:12.232Z"
   },
   {
    "duration": 94,
    "start_time": "2022-06-18T13:31:17.097Z"
   },
   {
    "duration": 735,
    "start_time": "2022-06-18T13:31:18.795Z"
   },
   {
    "duration": 444,
    "start_time": "2022-06-18T13:31:20.700Z"
   },
   {
    "duration": 15,
    "start_time": "2022-06-18T13:32:30.791Z"
   },
   {
    "duration": 78,
    "start_time": "2022-06-18T13:44:38.805Z"
   },
   {
    "duration": 624,
    "start_time": "2022-06-18T13:45:41.600Z"
   },
   {
    "duration": 677,
    "start_time": "2022-06-18T13:45:46.843Z"
   },
   {
    "duration": 15,
    "start_time": "2022-06-18T13:58:40.077Z"
   },
   {
    "duration": 7,
    "start_time": "2022-06-18T14:02:22.567Z"
   },
   {
    "duration": 5,
    "start_time": "2022-06-18T14:06:45.890Z"
   },
   {
    "duration": 9,
    "start_time": "2022-06-18T14:11:06.812Z"
   },
   {
    "duration": 6,
    "start_time": "2022-06-18T14:11:22.158Z"
   },
   {
    "duration": 72,
    "start_time": "2022-06-18T14:12:04.680Z"
   },
   {
    "duration": 73,
    "start_time": "2022-06-18T14:12:21.443Z"
   },
   {
    "duration": 545,
    "start_time": "2022-06-18T14:12:23.768Z"
   },
   {
    "duration": 8,
    "start_time": "2022-06-18T14:14:34.099Z"
   },
   {
    "duration": 16,
    "start_time": "2022-06-18T14:14:38.878Z"
   },
   {
    "duration": 8,
    "start_time": "2022-06-18T14:15:56.965Z"
   },
   {
    "duration": 10,
    "start_time": "2022-06-18T14:17:15.109Z"
   },
   {
    "duration": 12,
    "start_time": "2022-06-18T14:18:11.879Z"
   },
   {
    "duration": 10,
    "start_time": "2022-06-18T14:18:18.424Z"
   },
   {
    "duration": 30,
    "start_time": "2022-06-18T14:18:42.482Z"
   },
   {
    "duration": 10,
    "start_time": "2022-06-18T14:18:47.282Z"
   },
   {
    "duration": 6,
    "start_time": "2022-06-18T14:20:44.379Z"
   },
   {
    "duration": 10,
    "start_time": "2022-06-18T14:21:29.038Z"
   },
   {
    "duration": 25,
    "start_time": "2022-06-18T14:21:56.270Z"
   },
   {
    "duration": 28,
    "start_time": "2022-06-18T14:22:01.097Z"
   },
   {
    "duration": 6,
    "start_time": "2022-06-18T14:22:05.766Z"
   },
   {
    "duration": 11,
    "start_time": "2022-06-18T14:22:14.911Z"
   },
   {
    "duration": 8,
    "start_time": "2022-06-18T14:22:16.650Z"
   },
   {
    "duration": 5,
    "start_time": "2022-06-18T14:22:17.664Z"
   },
   {
    "duration": 4,
    "start_time": "2022-06-18T14:25:57.654Z"
   },
   {
    "duration": 3,
    "start_time": "2022-06-18T14:26:17.537Z"
   },
   {
    "duration": 3,
    "start_time": "2022-06-18T14:27:16.222Z"
   },
   {
    "duration": 5,
    "start_time": "2022-06-18T14:28:19.564Z"
   },
   {
    "duration": 6,
    "start_time": "2022-06-18T14:30:26.360Z"
   },
   {
    "duration": 7,
    "start_time": "2022-06-18T14:31:24.097Z"
   },
   {
    "duration": 46,
    "start_time": "2022-06-18T19:16:21.881Z"
   },
   {
    "duration": 1054,
    "start_time": "2022-06-18T19:16:27.256Z"
   },
   {
    "duration": 138,
    "start_time": "2022-06-18T19:16:28.312Z"
   },
   {
    "duration": 11,
    "start_time": "2022-06-18T19:16:28.451Z"
   },
   {
    "duration": 7,
    "start_time": "2022-06-18T19:16:28.464Z"
   },
   {
    "duration": 14,
    "start_time": "2022-06-18T19:16:28.473Z"
   },
   {
    "duration": 14,
    "start_time": "2022-06-18T19:16:28.488Z"
   },
   {
    "duration": 67,
    "start_time": "2022-06-18T19:16:28.504Z"
   },
   {
    "duration": 5,
    "start_time": "2022-06-18T19:16:28.573Z"
   },
   {
    "duration": 0,
    "start_time": "2022-06-18T19:16:28.579Z"
   },
   {
    "duration": 0,
    "start_time": "2022-06-18T19:16:28.580Z"
   },
   {
    "duration": 0,
    "start_time": "2022-06-18T19:16:28.581Z"
   },
   {
    "duration": 3,
    "start_time": "2022-06-18T19:17:54.030Z"
   },
   {
    "duration": 6,
    "start_time": "2022-06-18T19:18:07.621Z"
   },
   {
    "duration": 6,
    "start_time": "2022-06-18T19:18:13.069Z"
   },
   {
    "duration": 511,
    "start_time": "2022-06-18T19:18:18.726Z"
   },
   {
    "duration": 501,
    "start_time": "2022-06-18T19:18:30.631Z"
   },
   {
    "duration": 494,
    "start_time": "2022-06-18T19:19:41.367Z"
   },
   {
    "duration": 5,
    "start_time": "2022-06-18T19:20:22.903Z"
   },
   {
    "duration": 34,
    "start_time": "2022-06-18T19:22:16.898Z"
   },
   {
    "duration": 23,
    "start_time": "2022-06-18T19:33:36.145Z"
   },
   {
    "duration": 3,
    "start_time": "2022-06-18T19:34:53.997Z"
   },
   {
    "duration": 509,
    "start_time": "2022-06-18T19:35:29.887Z"
   },
   {
    "duration": 1096,
    "start_time": "2022-06-18T19:35:42.819Z"
   },
   {
    "duration": 45,
    "start_time": "2022-06-18T19:35:43.917Z"
   },
   {
    "duration": 11,
    "start_time": "2022-06-18T19:35:43.963Z"
   },
   {
    "duration": 6,
    "start_time": "2022-06-18T19:35:43.976Z"
   },
   {
    "duration": 6,
    "start_time": "2022-06-18T19:35:43.984Z"
   },
   {
    "duration": 6,
    "start_time": "2022-06-18T19:35:43.992Z"
   },
   {
    "duration": 65,
    "start_time": "2022-06-18T19:35:43.999Z"
   },
   {
    "duration": 529,
    "start_time": "2022-06-18T19:35:44.066Z"
   },
   {
    "duration": 38,
    "start_time": "2022-06-18T19:35:44.597Z"
   },
   {
    "duration": 9,
    "start_time": "2022-06-18T19:35:44.638Z"
   },
   {
    "duration": 19,
    "start_time": "2022-06-18T19:35:44.649Z"
   },
   {
    "duration": 49,
    "start_time": "2022-06-19T18:27:53.639Z"
   },
   {
    "duration": 1040,
    "start_time": "2022-06-19T18:27:59.977Z"
   },
   {
    "duration": 134,
    "start_time": "2022-06-19T18:28:01.020Z"
   },
   {
    "duration": 11,
    "start_time": "2022-06-19T18:28:01.155Z"
   },
   {
    "duration": 12,
    "start_time": "2022-06-19T18:28:01.167Z"
   },
   {
    "duration": 20,
    "start_time": "2022-06-19T18:28:01.180Z"
   },
   {
    "duration": 14,
    "start_time": "2022-06-19T18:28:01.201Z"
   },
   {
    "duration": 34,
    "start_time": "2022-06-19T18:28:01.217Z"
   },
   {
    "duration": 83,
    "start_time": "2022-06-19T18:28:01.253Z"
   },
   {
    "duration": 546,
    "start_time": "2022-06-19T18:28:01.339Z"
   },
   {
    "duration": 24,
    "start_time": "2022-06-19T18:28:01.887Z"
   },
   {
    "duration": 26,
    "start_time": "2022-06-19T18:28:01.912Z"
   },
   {
    "duration": 17,
    "start_time": "2022-06-19T18:28:01.940Z"
   },
   {
    "duration": 4,
    "start_time": "2022-06-19T18:28:23.689Z"
   },
   {
    "duration": 3,
    "start_time": "2022-06-19T18:28:42.816Z"
   },
   {
    "duration": 4,
    "start_time": "2022-06-19T18:30:43.561Z"
   },
   {
    "duration": 5,
    "start_time": "2022-06-19T18:31:15.976Z"
   },
   {
    "duration": 4,
    "start_time": "2022-06-19T18:31:53.901Z"
   },
   {
    "duration": 4,
    "start_time": "2022-06-19T18:32:00.340Z"
   },
   {
    "duration": 5,
    "start_time": "2022-06-19T18:32:06.776Z"
   },
   {
    "duration": 4,
    "start_time": "2022-06-19T18:32:12.140Z"
   },
   {
    "duration": 4,
    "start_time": "2022-06-19T18:32:16.684Z"
   },
   {
    "duration": 10,
    "start_time": "2022-06-20T06:14:35.675Z"
   },
   {
    "duration": 8,
    "start_time": "2022-06-20T06:14:38.754Z"
   },
   {
    "duration": 79,
    "start_time": "2022-07-01T20:15:14.282Z"
   },
   {
    "duration": 1189,
    "start_time": "2022-07-01T20:15:20.607Z"
   },
   {
    "duration": 87,
    "start_time": "2022-07-01T20:15:21.798Z"
   },
   {
    "duration": 11,
    "start_time": "2022-07-01T20:15:21.886Z"
   },
   {
    "duration": 9,
    "start_time": "2022-07-01T20:15:21.899Z"
   },
   {
    "duration": 9,
    "start_time": "2022-07-01T20:15:21.909Z"
   },
   {
    "duration": 44,
    "start_time": "2022-07-01T20:15:21.920Z"
   },
   {
    "duration": 21,
    "start_time": "2022-07-01T20:15:21.966Z"
   },
   {
    "duration": 98,
    "start_time": "2022-07-01T20:15:21.990Z"
   },
   {
    "duration": 57674,
    "start_time": "2022-07-01T20:15:22.090Z"
   },
   {
    "duration": 30,
    "start_time": "2022-07-01T20:16:19.767Z"
   },
   {
    "duration": 30,
    "start_time": "2022-07-01T20:16:19.799Z"
   },
   {
    "duration": 7,
    "start_time": "2022-07-01T20:16:19.831Z"
   }
  ],
  "kernelspec": {
   "display_name": "Python 3 (ipykernel)",
   "language": "python",
   "name": "python3"
  },
  "language_info": {
   "codemirror_mode": {
    "name": "ipython",
    "version": 3
   },
   "file_extension": ".py",
   "mimetype": "text/x-python",
   "name": "python",
   "nbconvert_exporter": "python",
   "pygments_lexer": "ipython3",
   "version": "3.10.2"
  },
  "toc": {
   "base_numbering": 1,
   "nav_menu": {},
   "number_sections": true,
   "sideBar": true,
   "skip_h1_title": true,
   "title_cell": "Table of Contents",
   "title_sidebar": "Contents",
   "toc_cell": false,
   "toc_position": {
    "height": "calc(100% - 180px)",
    "left": "10px",
    "top": "150px",
    "width": "327.391px"
   },
   "toc_section_display": true,
   "toc_window_display": true
  }
 },
 "nbformat": 4,
 "nbformat_minor": 2
}
