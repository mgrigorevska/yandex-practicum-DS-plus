{
 "cells": [
  {
   "cell_type": "markdown",
   "id": "67cc77fa",
   "metadata": {},
   "source": [
    "# Описание проекта. Промышленность"
   ]
  },
  {
   "cell_type": "markdown",
   "id": "cef8c5f9",
   "metadata": {},
   "source": [
    "Для оптимизации производственных расходов, металлургический комбинат решил уменьшить потребление электроэнергии на этапе обработки стали. Для этого нужно контролировать температуру сплава. Задача — построить модель, которая будет её предсказывать, заказчик хочет использовать разработанную модель для имитации технологического процесса.\n",
    "\n",
    "По условию заказчика, значение МАЕ у выбранной модели не должно превышать 6.8."
   ]
  },
  {
   "cell_type": "markdown",
   "id": "ca685ed4",
   "metadata": {},
   "source": [
    "## Загрузка данных"
   ]
  },
  {
   "cell_type": "code",
   "execution_count": 1,
   "id": "1274481e",
   "metadata": {},
   "outputs": [],
   "source": [
    "import pandas as pd\n",
    "import matplotlib.pyplot as plt\n",
    "import seaborn as sns\n",
    "import numpy as np\n",
    "import sklearn.metrics\n",
    "import torch\n",
    "import torch.nn as nn\n",
    "\n",
    "from sqlalchemy import create_engine\n",
    "from sklearn.model_selection import train_test_split, RandomizedSearchCV\n",
    "from sklearn.metrics import mean_absolute_error, r2_score\n",
    "from sklearn.linear_model import LinearRegression\n",
    "from lightgbm import LGBMRegressor\n",
    "from catboost import CatBoostRegressor\n",
    "from sklearn.ensemble import RandomForestRegressor\n",
    "from sklearn.tree import DecisionTreeRegressor\n",
    "from sklearn.dummy import DummyRegressor\n",
    "from sklearn.preprocessing import StandardScaler\n",
    "from sklearn.feature_selection import SelectFromModel\n",
    "from torch.utils.data import Dataset, DataLoader\n",
    "from tqdm import tqdm\n",
    "import warnings\n",
    "\n",
    "warnings.simplefilter(\"ignore\", UserWarning)\n",
    "\n",
    "RANDOM_STATE = 2052023"
   ]
  },
  {
   "cell_type": "code",
   "execution_count": 2,
   "id": "c7df2f8c",
   "metadata": {},
   "outputs": [],
   "source": [
    "db_config = {\n",
    "'user': 'praktikum_student',# имя пользователя\n",
    "'pwd': 'Sdf4$2;d-d30pp',# пароль\n",
    "'host': 'rc1b-wcoijxj3yxfsf3fs.mdb.yandexcloud.net',\n",
    "'port': 6432,# порт подключения\n",
    "'db': 'data-science-final'# название базы данных,\n",
    "}\n",
    "\n",
    "connection_string = 'postgresql://{}:{}@{}:{}/{}'.format(\n",
    "    db_config['user'],\n",
    "    db_config['pwd'],\n",
    "    db_config['host'],\n",
    "    db_config['port'],\n",
    "    db_config['db'],\n",
    ")"
   ]
  },
  {
   "cell_type": "code",
   "execution_count": 3,
   "id": "ada0a517",
   "metadata": {},
   "outputs": [],
   "source": [
    "engine = create_engine(connection_string) "
   ]
  },
  {
   "cell_type": "markdown",
   "id": "434b34ec",
   "metadata": {},
   "source": [
    "## Ислледование и подготовка таблиц"
   ]
  },
  {
   "cell_type": "markdown",
   "id": "8696d821",
   "metadata": {},
   "source": [
    "### Таблица data_arc"
   ]
  },
  {
   "cell_type": "markdown",
   "id": "4bc309ed",
   "metadata": {},
   "source": [
    "Таблица содержит данные об электродах.\n",
    "\n",
    "Согласно документации к данным:\n",
    "\n",
    "- `key` — номер партии;\n",
    "- `BeginHeat` — время начала нагрева;\n",
    "- `EndHeat` — время окончания нагрева;\n",
    "- `ActivePower` — значение активной мощности;\n",
    "- `ReactivePower` — значение реактивной мощности."
   ]
  },
  {
   "cell_type": "code",
   "execution_count": 4,
   "id": "7cfbf693",
   "metadata": {},
   "outputs": [
    {
     "data": {
      "text/html": [
       "<div>\n",
       "<style scoped>\n",
       "    .dataframe tbody tr th:only-of-type {\n",
       "        vertical-align: middle;\n",
       "    }\n",
       "\n",
       "    .dataframe tbody tr th {\n",
       "        vertical-align: top;\n",
       "    }\n",
       "\n",
       "    .dataframe thead th {\n",
       "        text-align: right;\n",
       "    }\n",
       "</style>\n",
       "<table border=\"1\" class=\"dataframe\">\n",
       "  <thead>\n",
       "    <tr style=\"text-align: right;\">\n",
       "      <th></th>\n",
       "      <th>key</th>\n",
       "      <th>BeginHeat</th>\n",
       "      <th>EndHeat</th>\n",
       "      <th>ActivePower</th>\n",
       "      <th>ReactivePower</th>\n",
       "    </tr>\n",
       "  </thead>\n",
       "  <tbody>\n",
       "    <tr>\n",
       "      <th>0</th>\n",
       "      <td>1</td>\n",
       "      <td>11:02:14</td>\n",
       "      <td>11:06:02</td>\n",
       "      <td>0.976059</td>\n",
       "      <td>0.687084</td>\n",
       "    </tr>\n",
       "    <tr>\n",
       "      <th>1</th>\n",
       "      <td>1</td>\n",
       "      <td>11:07:28</td>\n",
       "      <td>11:10:33</td>\n",
       "      <td>0.805607</td>\n",
       "      <td>0.520285</td>\n",
       "    </tr>\n",
       "    <tr>\n",
       "      <th>2</th>\n",
       "      <td>1</td>\n",
       "      <td>11:11:44</td>\n",
       "      <td>11:14:36</td>\n",
       "      <td>0.744363</td>\n",
       "      <td>0.498805</td>\n",
       "    </tr>\n",
       "    <tr>\n",
       "      <th>3</th>\n",
       "      <td>1</td>\n",
       "      <td>11:18:14</td>\n",
       "      <td>11:24:19</td>\n",
       "      <td>1.659363</td>\n",
       "      <td>1.062669</td>\n",
       "    </tr>\n",
       "    <tr>\n",
       "      <th>4</th>\n",
       "      <td>1</td>\n",
       "      <td>11:26:09</td>\n",
       "      <td>11:28:37</td>\n",
       "      <td>0.692755</td>\n",
       "      <td>0.414397</td>\n",
       "    </tr>\n",
       "    <tr>\n",
       "      <th>...</th>\n",
       "      <td>...</td>\n",
       "      <td>...</td>\n",
       "      <td>...</td>\n",
       "      <td>...</td>\n",
       "      <td>...</td>\n",
       "    </tr>\n",
       "    <tr>\n",
       "      <th>14871</th>\n",
       "      <td>3241</td>\n",
       "      <td>03:58:58</td>\n",
       "      <td>04:01:35</td>\n",
       "      <td>0.533670</td>\n",
       "      <td>0.354439</td>\n",
       "    </tr>\n",
       "    <tr>\n",
       "      <th>14872</th>\n",
       "      <td>3241</td>\n",
       "      <td>04:05:04</td>\n",
       "      <td>04:08:04</td>\n",
       "      <td>0.676604</td>\n",
       "      <td>0.523631</td>\n",
       "    </tr>\n",
       "    <tr>\n",
       "      <th>14873</th>\n",
       "      <td>3241</td>\n",
       "      <td>04:16:41</td>\n",
       "      <td>04:19:45</td>\n",
       "      <td>0.733899</td>\n",
       "      <td>0.475654</td>\n",
       "    </tr>\n",
       "    <tr>\n",
       "      <th>14874</th>\n",
       "      <td>3241</td>\n",
       "      <td>04:31:51</td>\n",
       "      <td>04:32:48</td>\n",
       "      <td>0.220694</td>\n",
       "      <td>0.145768</td>\n",
       "    </tr>\n",
       "    <tr>\n",
       "      <th>14875</th>\n",
       "      <td>3241</td>\n",
       "      <td>04:34:47</td>\n",
       "      <td>04:36:08</td>\n",
       "      <td>0.306580</td>\n",
       "      <td>0.196708</td>\n",
       "    </tr>\n",
       "  </tbody>\n",
       "</table>\n",
       "<p>14876 rows × 5 columns</p>\n",
       "</div>"
      ],
      "text/plain": [
       "        key BeginHeat   EndHeat  ActivePower  ReactivePower\n",
       "0         1  11:02:14  11:06:02     0.976059       0.687084\n",
       "1         1  11:07:28  11:10:33     0.805607       0.520285\n",
       "2         1  11:11:44  11:14:36     0.744363       0.498805\n",
       "3         1  11:18:14  11:24:19     1.659363       1.062669\n",
       "4         1  11:26:09  11:28:37     0.692755       0.414397\n",
       "...     ...       ...       ...          ...            ...\n",
       "14871  3241  03:58:58  04:01:35     0.533670       0.354439\n",
       "14872  3241  04:05:04  04:08:04     0.676604       0.523631\n",
       "14873  3241  04:16:41  04:19:45     0.733899       0.475654\n",
       "14874  3241  04:31:51  04:32:48     0.220694       0.145768\n",
       "14875  3241  04:34:47  04:36:08     0.306580       0.196708\n",
       "\n",
       "[14876 rows x 5 columns]"
      ]
     },
     "metadata": {},
     "output_type": "display_data"
    },
    {
     "name": "stdout",
     "output_type": "stream",
     "text": [
      "<class 'pandas.core.frame.DataFrame'>\n",
      "RangeIndex: 14876 entries, 0 to 14875\n",
      "Data columns (total 5 columns):\n",
      " #   Column         Non-Null Count  Dtype  \n",
      "---  ------         --------------  -----  \n",
      " 0   key            14876 non-null  int64  \n",
      " 1   BeginHeat      14876 non-null  object \n",
      " 2   EndHeat        14876 non-null  object \n",
      " 3   ActivePower    14876 non-null  float64\n",
      " 4   ReactivePower  14876 non-null  float64\n",
      "dtypes: float64(2), int64(1), object(2)\n",
      "memory usage: 581.2+ KB\n"
     ]
    }
   ],
   "source": [
    "query = '''\n",
    "\n",
    "SELECT *\n",
    "FROM steel.data_arc\n",
    "\n",
    "'''\n",
    "\n",
    "data_arc = pd.read_sql_query(query, con=engine) \n",
    "display(data_arc)\n",
    "data_arc.info()"
   ]
  },
  {
   "cell_type": "markdown",
   "id": "6185b530",
   "metadata": {},
   "source": [
    "В таблице отсутствуют пропуски. Приведем время к формату datetime и найдем общее время нагрева в секундах:"
   ]
  },
  {
   "cell_type": "code",
   "execution_count": 5,
   "id": "bf27666b",
   "metadata": {},
   "outputs": [],
   "source": [
    "data_arc['EndHeat'] = pd.to_datetime(data_arc['EndHeat'], format='%H:%M:%S') \n",
    "data_arc['BeginHeat'] = pd.to_datetime(data_arc['BeginHeat'], format='%H:%M:%S') "
   ]
  },
  {
   "cell_type": "code",
   "execution_count": 6,
   "id": "86003610",
   "metadata": {},
   "outputs": [],
   "source": [
    "data_arc['heat_time'] = (data_arc['EndHeat'] -  data_arc['BeginHeat']).dt.total_seconds()\n",
    "data_arc = data_arc.drop(['BeginHeat', 'EndHeat'], axis = 1)"
   ]
  },
  {
   "cell_type": "code",
   "execution_count": 7,
   "id": "857a6afd",
   "metadata": {},
   "outputs": [
    {
     "data": {
      "text/html": [
       "<div>\n",
       "<style scoped>\n",
       "    .dataframe tbody tr th:only-of-type {\n",
       "        vertical-align: middle;\n",
       "    }\n",
       "\n",
       "    .dataframe tbody tr th {\n",
       "        vertical-align: top;\n",
       "    }\n",
       "\n",
       "    .dataframe thead th {\n",
       "        text-align: right;\n",
       "    }\n",
       "</style>\n",
       "<table border=\"1\" class=\"dataframe\">\n",
       "  <thead>\n",
       "    <tr style=\"text-align: right;\">\n",
       "      <th></th>\n",
       "      <th>key</th>\n",
       "      <th>ActivePower</th>\n",
       "      <th>ReactivePower</th>\n",
       "      <th>heat_time</th>\n",
       "    </tr>\n",
       "  </thead>\n",
       "  <tbody>\n",
       "    <tr>\n",
       "      <th>count</th>\n",
       "      <td>14876.000000</td>\n",
       "      <td>14876.000000</td>\n",
       "      <td>14876.000000</td>\n",
       "      <td>14876.000000</td>\n",
       "    </tr>\n",
       "    <tr>\n",
       "      <th>mean</th>\n",
       "      <td>1615.220422</td>\n",
       "      <td>0.670441</td>\n",
       "      <td>0.452592</td>\n",
       "      <td>43.894663</td>\n",
       "    </tr>\n",
       "    <tr>\n",
       "      <th>std</th>\n",
       "      <td>934.571502</td>\n",
       "      <td>0.408159</td>\n",
       "      <td>5.878702</td>\n",
       "      <td>3319.473237</td>\n",
       "    </tr>\n",
       "    <tr>\n",
       "      <th>min</th>\n",
       "      <td>1.000000</td>\n",
       "      <td>0.030002</td>\n",
       "      <td>-715.504924</td>\n",
       "      <td>-86330.000000</td>\n",
       "    </tr>\n",
       "    <tr>\n",
       "      <th>25%</th>\n",
       "      <td>806.000000</td>\n",
       "      <td>0.395297</td>\n",
       "      <td>0.290991</td>\n",
       "      <td>106.750000</td>\n",
       "    </tr>\n",
       "    <tr>\n",
       "      <th>50%</th>\n",
       "      <td>1617.000000</td>\n",
       "      <td>0.555517</td>\n",
       "      <td>0.415962</td>\n",
       "      <td>147.000000</td>\n",
       "    </tr>\n",
       "    <tr>\n",
       "      <th>75%</th>\n",
       "      <td>2429.000000</td>\n",
       "      <td>0.857034</td>\n",
       "      <td>0.637371</td>\n",
       "      <td>214.000000</td>\n",
       "    </tr>\n",
       "    <tr>\n",
       "      <th>max</th>\n",
       "      <td>3241.000000</td>\n",
       "      <td>3.731596</td>\n",
       "      <td>2.676388</td>\n",
       "      <td>907.000000</td>\n",
       "    </tr>\n",
       "  </tbody>\n",
       "</table>\n",
       "</div>"
      ],
      "text/plain": [
       "                key   ActivePower  ReactivePower     heat_time\n",
       "count  14876.000000  14876.000000   14876.000000  14876.000000\n",
       "mean    1615.220422      0.670441       0.452592     43.894663\n",
       "std      934.571502      0.408159       5.878702   3319.473237\n",
       "min        1.000000      0.030002    -715.504924 -86330.000000\n",
       "25%      806.000000      0.395297       0.290991    106.750000\n",
       "50%     1617.000000      0.555517       0.415962    147.000000\n",
       "75%     2429.000000      0.857034       0.637371    214.000000\n",
       "max     3241.000000      3.731596       2.676388    907.000000"
      ]
     },
     "execution_count": 7,
     "metadata": {},
     "output_type": "execute_result"
    }
   ],
   "source": [
    "data_arc.describe()"
   ]
  },
  {
   "cell_type": "markdown",
   "id": "8b25d7e1",
   "metadata": {},
   "source": [
    "Видим некорректные значения реактивной мощности и времени нагрева, посмотрим на распределение:"
   ]
  },
  {
   "cell_type": "code",
   "execution_count": 8,
   "id": "f3e16b3f",
   "metadata": {},
   "outputs": [
    {
     "data": {
      "image/png": "[encoded data removed]",
      "text/plain": [
       "<Figure size 720x432 with 1 Axes>"
      ]
     },
     "metadata": {
      "needs_background": "light"
     },
     "output_type": "display_data"
    }
   ],
   "source": [
    "plt.figure(figsize=(10,6))\n",
    "plt.hist(data_arc['ReactivePower'], bins=100)\n",
    "plt.title('Распределение реактивной мощности')\n",
    "plt.xlabel('Реактивная мощность')\n",
    "plt.ylabel('Число измерений')\n",
    "plt.grid(True);"
   ]
  },
  {
   "cell_type": "markdown",
   "id": "b52a48b3",
   "metadata": {},
   "source": [
    "Уберем отрицательные значения:"
   ]
  },
  {
   "cell_type": "code",
   "execution_count": 9,
   "id": "abbae8f5",
   "metadata": {},
   "outputs": [
    {
     "data": {
      "image/png": "[encoded data removed]",
      "text/plain": [
       "<Figure size 720x432 with 1 Axes>"
      ]
     },
     "metadata": {
      "needs_background": "light"
     },
     "output_type": "display_data"
    }
   ],
   "source": [
    "data_arc = data_arc.query('ReactivePower > 0')\n",
    "\n",
    "plt.figure(figsize=(10,6))\n",
    "plt.hist(data_arc['ReactivePower'], bins=100)\n",
    "plt.title('Распределение реактивной мощности')\n",
    "plt.xlabel('Реактивная мощность')\n",
    "plt.ylabel('Число измерений')\n",
    "plt.grid(True);"
   ]
  },
  {
   "cell_type": "markdown",
   "id": "e42e3988",
   "metadata": {},
   "source": [
    "<div class=\"alert alert-success\">\n",
    "<h2> Комментарий ревьюера <a class=\"tocSkip\"> </h2>\n",
    "\n",
    "<b>Все отлично!👍:</b> \n",
    "    \n",
    "Отлично)"
   ]
  },
  {
   "cell_type": "markdown",
   "id": "2ce8541b",
   "metadata": {},
   "source": [
    "Далее посмотрим распределение времени нагрева:"
   ]
  },
  {
   "cell_type": "code",
   "execution_count": 10,
   "id": "5f9587ff",
   "metadata": {},
   "outputs": [
    {
     "data": {
      "image/png": "[encoded data removed]",
      "text/plain": [
       "<Figure size 720x432 with 1 Axes>"
      ]
     },
     "metadata": {
      "needs_background": "light"
     },
     "output_type": "display_data"
    }
   ],
   "source": [
    "plt.figure(figsize=(10,6))\n",
    "plt.hist(data_arc['heat_time'], bins=100)\n",
    "plt.title('Распределение времени нагрева')\n",
    "plt.xlabel('Время нагрева, сек')\n",
    "plt.ylabel('Число измерений')\n",
    "plt.grid(True);"
   ]
  },
  {
   "cell_type": "markdown",
   "id": "afa1b1a3",
   "metadata": {},
   "source": [
    "Также есть небольшое кол-во некорректных значений, уберем их:"
   ]
  },
  {
   "cell_type": "code",
   "execution_count": 11,
   "id": "eaa7ed62",
   "metadata": {},
   "outputs": [
    {
     "data": {
      "image/png": "[encoded data removed]",
      "text/plain": [
       "<Figure size 720x432 with 1 Axes>"
      ]
     },
     "metadata": {
      "needs_background": "light"
     },
     "output_type": "display_data"
    }
   ],
   "source": [
    "data_arc = data_arc.query('heat_time > 0')\n",
    "\n",
    "plt.figure(figsize=(10,6))\n",
    "plt.hist(data_arc['heat_time'], bins=100)\n",
    "plt.title('Распределение времени нагрева')\n",
    "plt.xlabel('Время нагрева, сек')\n",
    "plt.ylabel('Число измерений')\n",
    "plt.grid(True);"
   ]
  },
  {
   "cell_type": "code",
   "execution_count": 12,
   "id": "54db73b7",
   "metadata": {},
   "outputs": [],
   "source": [
    "data_arc = data_arc.pivot_table(['ActivePower', 'ReactivePower', 'heat_time'], ['key'],  aggfunc='sum').reset_index()"
   ]
  },
  {
   "cell_type": "markdown",
   "id": "b77258e2",
   "metadata": {},
   "source": [
    "Получили таблицу, содержащую суммарные значения активной и реактивной мощности на каждом ключе, коэффициент мощности, а также время нагрева в секундах."
   ]
  },
  {
   "cell_type": "markdown",
   "id": "0ab1fc44",
   "metadata": {},
   "source": [
    "### Таблицы data_bulk и data_bulk_time"
   ]
  },
  {
   "cell_type": "markdown",
   "id": "f39972db",
   "metadata": {},
   "source": [
    "Таблицы содержат данные об объёме и времени подачи сыпучих материалов.\n",
    "\n",
    "- `key` — номер партии;\n",
    "- `Bulk 1` … `Bulk 15` — объём подаваемого материала."
   ]
  },
  {
   "cell_type": "code",
   "execution_count": 13,
   "id": "9ab37828",
   "metadata": {},
   "outputs": [
    {
     "data": {
      "text/html": [
       "<div>\n",
       "<style scoped>\n",
       "    .dataframe tbody tr th:only-of-type {\n",
       "        vertical-align: middle;\n",
       "    }\n",
       "\n",
       "    .dataframe tbody tr th {\n",
       "        vertical-align: top;\n",
       "    }\n",
       "\n",
       "    .dataframe thead th {\n",
       "        text-align: right;\n",
       "    }\n",
       "</style>\n",
       "<table border=\"1\" class=\"dataframe\">\n",
       "  <thead>\n",
       "    <tr style=\"text-align: right;\">\n",
       "      <th></th>\n",
       "      <th>key</th>\n",
       "      <th>Bulk 1</th>\n",
       "      <th>Bulk 2</th>\n",
       "      <th>Bulk 3</th>\n",
       "      <th>Bulk 4</th>\n",
       "      <th>Bulk 5</th>\n",
       "      <th>Bulk 6</th>\n",
       "      <th>Bulk 7</th>\n",
       "      <th>Bulk 8</th>\n",
       "      <th>Bulk 9</th>\n",
       "      <th>Bulk 10</th>\n",
       "      <th>Bulk 11</th>\n",
       "      <th>Bulk 12</th>\n",
       "      <th>Bulk 13</th>\n",
       "      <th>Bulk 14</th>\n",
       "      <th>Bulk 15</th>\n",
       "    </tr>\n",
       "  </thead>\n",
       "  <tbody>\n",
       "    <tr>\n",
       "      <th>0</th>\n",
       "      <td>1</td>\n",
       "      <td>NaN</td>\n",
       "      <td>NaN</td>\n",
       "      <td>NaN</td>\n",
       "      <td>43.0</td>\n",
       "      <td>NaN</td>\n",
       "      <td>NaN</td>\n",
       "      <td>NaN</td>\n",
       "      <td>NaN</td>\n",
       "      <td>NaN</td>\n",
       "      <td>NaN</td>\n",
       "      <td>NaN</td>\n",
       "      <td>206.0</td>\n",
       "      <td>NaN</td>\n",
       "      <td>150.0</td>\n",
       "      <td>154.0</td>\n",
       "    </tr>\n",
       "    <tr>\n",
       "      <th>1</th>\n",
       "      <td>2</td>\n",
       "      <td>NaN</td>\n",
       "      <td>NaN</td>\n",
       "      <td>NaN</td>\n",
       "      <td>73.0</td>\n",
       "      <td>NaN</td>\n",
       "      <td>NaN</td>\n",
       "      <td>NaN</td>\n",
       "      <td>NaN</td>\n",
       "      <td>NaN</td>\n",
       "      <td>NaN</td>\n",
       "      <td>NaN</td>\n",
       "      <td>206.0</td>\n",
       "      <td>NaN</td>\n",
       "      <td>149.0</td>\n",
       "      <td>154.0</td>\n",
       "    </tr>\n",
       "    <tr>\n",
       "      <th>2</th>\n",
       "      <td>3</td>\n",
       "      <td>NaN</td>\n",
       "      <td>NaN</td>\n",
       "      <td>NaN</td>\n",
       "      <td>34.0</td>\n",
       "      <td>NaN</td>\n",
       "      <td>NaN</td>\n",
       "      <td>NaN</td>\n",
       "      <td>NaN</td>\n",
       "      <td>NaN</td>\n",
       "      <td>NaN</td>\n",
       "      <td>NaN</td>\n",
       "      <td>205.0</td>\n",
       "      <td>NaN</td>\n",
       "      <td>152.0</td>\n",
       "      <td>153.0</td>\n",
       "    </tr>\n",
       "    <tr>\n",
       "      <th>3</th>\n",
       "      <td>4</td>\n",
       "      <td>NaN</td>\n",
       "      <td>NaN</td>\n",
       "      <td>NaN</td>\n",
       "      <td>81.0</td>\n",
       "      <td>NaN</td>\n",
       "      <td>NaN</td>\n",
       "      <td>NaN</td>\n",
       "      <td>NaN</td>\n",
       "      <td>NaN</td>\n",
       "      <td>NaN</td>\n",
       "      <td>NaN</td>\n",
       "      <td>207.0</td>\n",
       "      <td>NaN</td>\n",
       "      <td>153.0</td>\n",
       "      <td>154.0</td>\n",
       "    </tr>\n",
       "    <tr>\n",
       "      <th>4</th>\n",
       "      <td>5</td>\n",
       "      <td>NaN</td>\n",
       "      <td>NaN</td>\n",
       "      <td>NaN</td>\n",
       "      <td>78.0</td>\n",
       "      <td>NaN</td>\n",
       "      <td>NaN</td>\n",
       "      <td>NaN</td>\n",
       "      <td>NaN</td>\n",
       "      <td>NaN</td>\n",
       "      <td>NaN</td>\n",
       "      <td>NaN</td>\n",
       "      <td>203.0</td>\n",
       "      <td>NaN</td>\n",
       "      <td>151.0</td>\n",
       "      <td>152.0</td>\n",
       "    </tr>\n",
       "  </tbody>\n",
       "</table>\n",
       "</div>"
      ],
      "text/plain": [
       "   key  Bulk 1  Bulk 2  Bulk 3  Bulk 4  Bulk 5  Bulk 6  Bulk 7  Bulk 8  \\\n",
       "0    1     NaN     NaN     NaN    43.0     NaN     NaN     NaN     NaN   \n",
       "1    2     NaN     NaN     NaN    73.0     NaN     NaN     NaN     NaN   \n",
       "2    3     NaN     NaN     NaN    34.0     NaN     NaN     NaN     NaN   \n",
       "3    4     NaN     NaN     NaN    81.0     NaN     NaN     NaN     NaN   \n",
       "4    5     NaN     NaN     NaN    78.0     NaN     NaN     NaN     NaN   \n",
       "\n",
       "   Bulk 9  Bulk 10  Bulk 11  Bulk 12  Bulk 13  Bulk 14  Bulk 15  \n",
       "0     NaN      NaN      NaN    206.0      NaN    150.0    154.0  \n",
       "1     NaN      NaN      NaN    206.0      NaN    149.0    154.0  \n",
       "2     NaN      NaN      NaN    205.0      NaN    152.0    153.0  \n",
       "3     NaN      NaN      NaN    207.0      NaN    153.0    154.0  \n",
       "4     NaN      NaN      NaN    203.0      NaN    151.0    152.0  "
      ]
     },
     "metadata": {},
     "output_type": "display_data"
    },
    {
     "name": "stdout",
     "output_type": "stream",
     "text": [
      "<class 'pandas.core.frame.DataFrame'>\n",
      "RangeIndex: 3129 entries, 0 to 3128\n",
      "Data columns (total 16 columns):\n",
      " #   Column   Non-Null Count  Dtype  \n",
      "---  ------   --------------  -----  \n",
      " 0   key      3129 non-null   int64  \n",
      " 1   Bulk 1   252 non-null    float64\n",
      " 2   Bulk 2   22 non-null     float64\n",
      " 3   Bulk 3   1298 non-null   float64\n",
      " 4   Bulk 4   1014 non-null   float64\n",
      " 5   Bulk 5   77 non-null     float64\n",
      " 6   Bulk 6   576 non-null    float64\n",
      " 7   Bulk 7   25 non-null     float64\n",
      " 8   Bulk 8   1 non-null      float64\n",
      " 9   Bulk 9   19 non-null     float64\n",
      " 10  Bulk 10  176 non-null    float64\n",
      " 11  Bulk 11  177 non-null    float64\n",
      " 12  Bulk 12  2450 non-null   float64\n",
      " 13  Bulk 13  18 non-null     float64\n",
      " 14  Bulk 14  2806 non-null   float64\n",
      " 15  Bulk 15  2248 non-null   float64\n",
      "dtypes: float64(15), int64(1)\n",
      "memory usage: 391.2 KB\n"
     ]
    }
   ],
   "source": [
    "query = '''\n",
    "\n",
    "SELECT *\n",
    "FROM steel.data_bulk\n",
    "\n",
    "'''\n",
    "\n",
    "data_bulk = pd.read_sql_query(query, con=engine) \n",
    "display(data_bulk.head())\n",
    "data_bulk.info()"
   ]
  },
  {
   "cell_type": "code",
   "execution_count": 14,
   "id": "1964515c",
   "metadata": {},
   "outputs": [
    {
     "data": {
      "text/html": [
       "<div>\n",
       "<style scoped>\n",
       "    .dataframe tbody tr th:only-of-type {\n",
       "        vertical-align: middle;\n",
       "    }\n",
       "\n",
       "    .dataframe tbody tr th {\n",
       "        vertical-align: top;\n",
       "    }\n",
       "\n",
       "    .dataframe thead th {\n",
       "        text-align: right;\n",
       "    }\n",
       "</style>\n",
       "<table border=\"1\" class=\"dataframe\">\n",
       "  <thead>\n",
       "    <tr style=\"text-align: right;\">\n",
       "      <th></th>\n",
       "      <th>key</th>\n",
       "      <th>Bulk 1</th>\n",
       "      <th>Bulk 2</th>\n",
       "      <th>Bulk 3</th>\n",
       "      <th>Bulk 4</th>\n",
       "      <th>Bulk 5</th>\n",
       "      <th>Bulk 6</th>\n",
       "      <th>Bulk 7</th>\n",
       "      <th>Bulk 8</th>\n",
       "      <th>Bulk 9</th>\n",
       "      <th>Bulk 10</th>\n",
       "      <th>Bulk 11</th>\n",
       "      <th>Bulk 12</th>\n",
       "      <th>Bulk 13</th>\n",
       "      <th>Bulk 14</th>\n",
       "      <th>Bulk 15</th>\n",
       "    </tr>\n",
       "  </thead>\n",
       "  <tbody>\n",
       "    <tr>\n",
       "      <th>0</th>\n",
       "      <td>1</td>\n",
       "      <td>None</td>\n",
       "      <td>None</td>\n",
       "      <td>None</td>\n",
       "      <td>11:21:30</td>\n",
       "      <td>None</td>\n",
       "      <td>None</td>\n",
       "      <td>None</td>\n",
       "      <td>None</td>\n",
       "      <td>None</td>\n",
       "      <td>None</td>\n",
       "      <td>None</td>\n",
       "      <td>11:03:52</td>\n",
       "      <td>None</td>\n",
       "      <td>11:03:52</td>\n",
       "      <td>11:03:52</td>\n",
       "    </tr>\n",
       "    <tr>\n",
       "      <th>1</th>\n",
       "      <td>2</td>\n",
       "      <td>None</td>\n",
       "      <td>None</td>\n",
       "      <td>None</td>\n",
       "      <td>11:46:38</td>\n",
       "      <td>None</td>\n",
       "      <td>None</td>\n",
       "      <td>None</td>\n",
       "      <td>None</td>\n",
       "      <td>None</td>\n",
       "      <td>None</td>\n",
       "      <td>None</td>\n",
       "      <td>11:40:20</td>\n",
       "      <td>None</td>\n",
       "      <td>11:40:20</td>\n",
       "      <td>11:40:20</td>\n",
       "    </tr>\n",
       "    <tr>\n",
       "      <th>2</th>\n",
       "      <td>3</td>\n",
       "      <td>None</td>\n",
       "      <td>None</td>\n",
       "      <td>None</td>\n",
       "      <td>12:31:06</td>\n",
       "      <td>None</td>\n",
       "      <td>None</td>\n",
       "      <td>None</td>\n",
       "      <td>None</td>\n",
       "      <td>None</td>\n",
       "      <td>None</td>\n",
       "      <td>None</td>\n",
       "      <td>12:09:40</td>\n",
       "      <td>None</td>\n",
       "      <td>12:09:40</td>\n",
       "      <td>12:09:40</td>\n",
       "    </tr>\n",
       "    <tr>\n",
       "      <th>3</th>\n",
       "      <td>4</td>\n",
       "      <td>None</td>\n",
       "      <td>None</td>\n",
       "      <td>None</td>\n",
       "      <td>12:48:43</td>\n",
       "      <td>None</td>\n",
       "      <td>None</td>\n",
       "      <td>None</td>\n",
       "      <td>None</td>\n",
       "      <td>None</td>\n",
       "      <td>None</td>\n",
       "      <td>None</td>\n",
       "      <td>12:41:24</td>\n",
       "      <td>None</td>\n",
       "      <td>12:41:24</td>\n",
       "      <td>12:41:24</td>\n",
       "    </tr>\n",
       "    <tr>\n",
       "      <th>4</th>\n",
       "      <td>5</td>\n",
       "      <td>None</td>\n",
       "      <td>None</td>\n",
       "      <td>None</td>\n",
       "      <td>13:18:50</td>\n",
       "      <td>None</td>\n",
       "      <td>None</td>\n",
       "      <td>None</td>\n",
       "      <td>None</td>\n",
       "      <td>None</td>\n",
       "      <td>None</td>\n",
       "      <td>None</td>\n",
       "      <td>13:12:56</td>\n",
       "      <td>None</td>\n",
       "      <td>13:12:56</td>\n",
       "      <td>13:12:56</td>\n",
       "    </tr>\n",
       "    <tr>\n",
       "      <th>...</th>\n",
       "      <td>...</td>\n",
       "      <td>...</td>\n",
       "      <td>...</td>\n",
       "      <td>...</td>\n",
       "      <td>...</td>\n",
       "      <td>...</td>\n",
       "      <td>...</td>\n",
       "      <td>...</td>\n",
       "      <td>...</td>\n",
       "      <td>...</td>\n",
       "      <td>...</td>\n",
       "      <td>...</td>\n",
       "      <td>...</td>\n",
       "      <td>...</td>\n",
       "      <td>...</td>\n",
       "      <td>...</td>\n",
       "    </tr>\n",
       "    <tr>\n",
       "      <th>3124</th>\n",
       "      <td>3237</td>\n",
       "      <td>None</td>\n",
       "      <td>None</td>\n",
       "      <td>22:51:28</td>\n",
       "      <td>None</td>\n",
       "      <td>None</td>\n",
       "      <td>None</td>\n",
       "      <td>None</td>\n",
       "      <td>None</td>\n",
       "      <td>None</td>\n",
       "      <td>None</td>\n",
       "      <td>None</td>\n",
       "      <td>22:46:52</td>\n",
       "      <td>None</td>\n",
       "      <td>22:46:52</td>\n",
       "      <td>22:46:52</td>\n",
       "    </tr>\n",
       "    <tr>\n",
       "      <th>3125</th>\n",
       "      <td>3238</td>\n",
       "      <td>None</td>\n",
       "      <td>None</td>\n",
       "      <td>23:39:11</td>\n",
       "      <td>None</td>\n",
       "      <td>None</td>\n",
       "      <td>None</td>\n",
       "      <td>None</td>\n",
       "      <td>None</td>\n",
       "      <td>None</td>\n",
       "      <td>None</td>\n",
       "      <td>None</td>\n",
       "      <td>23:33:09</td>\n",
       "      <td>None</td>\n",
       "      <td>23:33:09</td>\n",
       "      <td>23:33:09</td>\n",
       "    </tr>\n",
       "    <tr>\n",
       "      <th>3126</th>\n",
       "      <td>3239</td>\n",
       "      <td>None</td>\n",
       "      <td>None</td>\n",
       "      <td>None</td>\n",
       "      <td>None</td>\n",
       "      <td>None</td>\n",
       "      <td>01:51:58</td>\n",
       "      <td>None</td>\n",
       "      <td>None</td>\n",
       "      <td>None</td>\n",
       "      <td>None</td>\n",
       "      <td>None</td>\n",
       "      <td>01:39:41</td>\n",
       "      <td>None</td>\n",
       "      <td>01:33:25</td>\n",
       "      <td>01:33:25</td>\n",
       "    </tr>\n",
       "    <tr>\n",
       "      <th>3127</th>\n",
       "      <td>3240</td>\n",
       "      <td>None</td>\n",
       "      <td>None</td>\n",
       "      <td>None</td>\n",
       "      <td>None</td>\n",
       "      <td>None</td>\n",
       "      <td>03:12:40</td>\n",
       "      <td>None</td>\n",
       "      <td>None</td>\n",
       "      <td>None</td>\n",
       "      <td>None</td>\n",
       "      <td>None</td>\n",
       "      <td>None</td>\n",
       "      <td>None</td>\n",
       "      <td>02:41:27</td>\n",
       "      <td>02:41:27</td>\n",
       "    </tr>\n",
       "    <tr>\n",
       "      <th>3128</th>\n",
       "      <td>3241</td>\n",
       "      <td>None</td>\n",
       "      <td>None</td>\n",
       "      <td>None</td>\n",
       "      <td>None</td>\n",
       "      <td>None</td>\n",
       "      <td>None</td>\n",
       "      <td>None</td>\n",
       "      <td>None</td>\n",
       "      <td>None</td>\n",
       "      <td>None</td>\n",
       "      <td>None</td>\n",
       "      <td>None</td>\n",
       "      <td>None</td>\n",
       "      <td>04:05:34</td>\n",
       "      <td>04:05:34</td>\n",
       "    </tr>\n",
       "  </tbody>\n",
       "</table>\n",
       "<p>3129 rows × 16 columns</p>\n",
       "</div>"
      ],
      "text/plain": [
       "       key Bulk 1 Bulk 2    Bulk 3    Bulk 4 Bulk 5    Bulk 6 Bulk 7 Bulk 8  \\\n",
       "0        1   None   None      None  11:21:30   None      None   None   None   \n",
       "1        2   None   None      None  11:46:38   None      None   None   None   \n",
       "2        3   None   None      None  12:31:06   None      None   None   None   \n",
       "3        4   None   None      None  12:48:43   None      None   None   None   \n",
       "4        5   None   None      None  13:18:50   None      None   None   None   \n",
       "...    ...    ...    ...       ...       ...    ...       ...    ...    ...   \n",
       "3124  3237   None   None  22:51:28      None   None      None   None   None   \n",
       "3125  3238   None   None  23:39:11      None   None      None   None   None   \n",
       "3126  3239   None   None      None      None   None  01:51:58   None   None   \n",
       "3127  3240   None   None      None      None   None  03:12:40   None   None   \n",
       "3128  3241   None   None      None      None   None      None   None   None   \n",
       "\n",
       "     Bulk 9 Bulk 10 Bulk 11   Bulk 12 Bulk 13   Bulk 14   Bulk 15  \n",
       "0      None    None    None  11:03:52    None  11:03:52  11:03:52  \n",
       "1      None    None    None  11:40:20    None  11:40:20  11:40:20  \n",
       "2      None    None    None  12:09:40    None  12:09:40  12:09:40  \n",
       "3      None    None    None  12:41:24    None  12:41:24  12:41:24  \n",
       "4      None    None    None  13:12:56    None  13:12:56  13:12:56  \n",
       "...     ...     ...     ...       ...     ...       ...       ...  \n",
       "3124   None    None    None  22:46:52    None  22:46:52  22:46:52  \n",
       "3125   None    None    None  23:33:09    None  23:33:09  23:33:09  \n",
       "3126   None    None    None  01:39:41    None  01:33:25  01:33:25  \n",
       "3127   None    None    None      None    None  02:41:27  02:41:27  \n",
       "3128   None    None    None      None    None  04:05:34  04:05:34  \n",
       "\n",
       "[3129 rows x 16 columns]"
      ]
     },
     "metadata": {},
     "output_type": "display_data"
    },
    {
     "name": "stdout",
     "output_type": "stream",
     "text": [
      "<class 'pandas.core.frame.DataFrame'>\n",
      "RangeIndex: 3129 entries, 0 to 3128\n",
      "Data columns (total 16 columns):\n",
      " #   Column   Non-Null Count  Dtype \n",
      "---  ------   --------------  ----- \n",
      " 0   key      3129 non-null   int64 \n",
      " 1   Bulk 1   252 non-null    object\n",
      " 2   Bulk 2   22 non-null     object\n",
      " 3   Bulk 3   1298 non-null   object\n",
      " 4   Bulk 4   1014 non-null   object\n",
      " 5   Bulk 5   77 non-null     object\n",
      " 6   Bulk 6   576 non-null    object\n",
      " 7   Bulk 7   25 non-null     object\n",
      " 8   Bulk 8   1 non-null      object\n",
      " 9   Bulk 9   19 non-null     object\n",
      " 10  Bulk 10  176 non-null    object\n",
      " 11  Bulk 11  177 non-null    object\n",
      " 12  Bulk 12  2450 non-null   object\n",
      " 13  Bulk 13  18 non-null     object\n",
      " 14  Bulk 14  2806 non-null   object\n",
      " 15  Bulk 15  2248 non-null   object\n",
      "dtypes: int64(1), object(15)\n",
      "memory usage: 391.2+ KB\n"
     ]
    }
   ],
   "source": [
    "query = '''\n",
    "\n",
    "SELECT *\n",
    "FROM steel.data_bulk_time\n",
    "\n",
    "'''\n",
    "\n",
    "data_bulk_time = pd.read_sql_query(query, con=engine) \n",
    "display(data_bulk_time)\n",
    "data_bulk_time.info()"
   ]
  },
  {
   "cell_type": "markdown",
   "id": "037cce6d",
   "metadata": {},
   "source": [
    "Посмотрим, какую долю от общего числа составляют пропущенные значения:"
   ]
  },
  {
   "cell_type": "code",
   "execution_count": 15,
   "id": "31ce277a",
   "metadata": {},
   "outputs": [
    {
     "data": {
      "text/plain": [
       "key        0.000000\n",
       "Bulk 1     0.919463\n",
       "Bulk 2     0.992969\n",
       "Bulk 3     0.585171\n",
       "Bulk 4     0.675935\n",
       "Bulk 5     0.975391\n",
       "Bulk 6     0.815916\n",
       "Bulk 7     0.992010\n",
       "Bulk 8     0.999680\n",
       "Bulk 9     0.993928\n",
       "Bulk 10    0.943752\n",
       "Bulk 11    0.943432\n",
       "Bulk 12    0.217002\n",
       "Bulk 13    0.994247\n",
       "Bulk 14    0.103228\n",
       "Bulk 15    0.281560\n",
       "dtype: float64"
      ]
     },
     "execution_count": 15,
     "metadata": {},
     "output_type": "execute_result"
    }
   ],
   "source": [
    "data_bulk.isna().sum()/data_bulk.shape[0]"
   ]
  },
  {
   "cell_type": "markdown",
   "id": "1a226062",
   "metadata": {},
   "source": [
    "Уберем колонки, где доля пропущенных значений более 80%:"
   ]
  },
  {
   "cell_type": "code",
   "execution_count": 16,
   "id": "e567804a",
   "metadata": {},
   "outputs": [],
   "source": [
    "cols = data_bulk.columns\n",
    "for col in cols:\n",
    "    if data_bulk[col].isna().sum()/data_bulk.shape[0] > 0.8:\n",
    "        data_bulk = data_bulk.drop(col, axis=1)\n",
    "        data_bulk_time = data_bulk_time.drop(col, axis=1)"
   ]
  },
  {
   "cell_type": "markdown",
   "id": "3c900011",
   "metadata": {},
   "source": [
    "Изменим тип данных на datetime:"
   ]
  },
  {
   "cell_type": "code",
   "execution_count": 17,
   "id": "ba8a1dbc",
   "metadata": {},
   "outputs": [],
   "source": [
    "for col in data_bulk.columns.drop('key'):\n",
    "    data_bulk_time[col] = pd.to_datetime(data_bulk_time[col], format='%H:%M:%S') "
   ]
  },
  {
   "cell_type": "markdown",
   "id": "386833f4",
   "metadata": {},
   "source": [
    "Далее заменим пропуски на нули, тк пропуск обозначает, что материал не добавляли в эту партию."
   ]
  },
  {
   "cell_type": "code",
   "execution_count": 18,
   "id": "f492095d",
   "metadata": {},
   "outputs": [],
   "source": [
    "data_bulk = data_bulk.fillna(0)\n",
    "data_bulk_time = data_bulk_time.fillna(0)"
   ]
  },
  {
   "cell_type": "markdown",
   "id": "d2a683b1",
   "metadata": {},
   "source": [
    "### Таблица data_gas"
   ]
  },
  {
   "cell_type": "markdown",
   "id": "42d36791",
   "metadata": {},
   "source": [
    "Таблица содержит данные о продувке сплава газом.\n",
    "\n",
    "- `key` — номер партии;\n",
    "- `gas` — объём подаваемого газа."
   ]
  },
  {
   "cell_type": "code",
   "execution_count": 20,
   "id": "15127d7a",
   "metadata": {},
   "outputs": [
    {
     "data": {
      "text/html": [
       "<div>\n",
       "<style scoped>\n",
       "    .dataframe tbody tr th:only-of-type {\n",
       "        vertical-align: middle;\n",
       "    }\n",
       "\n",
       "    .dataframe tbody tr th {\n",
       "        vertical-align: top;\n",
       "    }\n",
       "\n",
       "    .dataframe thead th {\n",
       "        text-align: right;\n",
       "    }\n",
       "</style>\n",
       "<table border=\"1\" class=\"dataframe\">\n",
       "  <thead>\n",
       "    <tr style=\"text-align: right;\">\n",
       "      <th></th>\n",
       "      <th>key</th>\n",
       "      <th>gas</th>\n",
       "    </tr>\n",
       "  </thead>\n",
       "  <tbody>\n",
       "    <tr>\n",
       "      <th>0</th>\n",
       "      <td>1</td>\n",
       "      <td>29.749986</td>\n",
       "    </tr>\n",
       "    <tr>\n",
       "      <th>1</th>\n",
       "      <td>2</td>\n",
       "      <td>12.555561</td>\n",
       "    </tr>\n",
       "    <tr>\n",
       "      <th>2</th>\n",
       "      <td>3</td>\n",
       "      <td>28.554793</td>\n",
       "    </tr>\n",
       "    <tr>\n",
       "      <th>3</th>\n",
       "      <td>4</td>\n",
       "      <td>18.841219</td>\n",
       "    </tr>\n",
       "    <tr>\n",
       "      <th>4</th>\n",
       "      <td>5</td>\n",
       "      <td>5.413692</td>\n",
       "    </tr>\n",
       "    <tr>\n",
       "      <th>...</th>\n",
       "      <td>...</td>\n",
       "      <td>...</td>\n",
       "    </tr>\n",
       "    <tr>\n",
       "      <th>3234</th>\n",
       "      <td>3237</td>\n",
       "      <td>5.543905</td>\n",
       "    </tr>\n",
       "    <tr>\n",
       "      <th>3235</th>\n",
       "      <td>3238</td>\n",
       "      <td>6.745669</td>\n",
       "    </tr>\n",
       "    <tr>\n",
       "      <th>3236</th>\n",
       "      <td>3239</td>\n",
       "      <td>16.023518</td>\n",
       "    </tr>\n",
       "    <tr>\n",
       "      <th>3237</th>\n",
       "      <td>3240</td>\n",
       "      <td>11.863103</td>\n",
       "    </tr>\n",
       "    <tr>\n",
       "      <th>3238</th>\n",
       "      <td>3241</td>\n",
       "      <td>12.680959</td>\n",
       "    </tr>\n",
       "  </tbody>\n",
       "</table>\n",
       "<p>3239 rows × 2 columns</p>\n",
       "</div>"
      ],
      "text/plain": [
       "       key        gas\n",
       "0        1  29.749986\n",
       "1        2  12.555561\n",
       "2        3  28.554793\n",
       "3        4  18.841219\n",
       "4        5   5.413692\n",
       "...    ...        ...\n",
       "3234  3237   5.543905\n",
       "3235  3238   6.745669\n",
       "3236  3239  16.023518\n",
       "3237  3240  11.863103\n",
       "3238  3241  12.680959\n",
       "\n",
       "[3239 rows x 2 columns]"
      ]
     },
     "metadata": {},
     "output_type": "display_data"
    },
    {
     "name": "stdout",
     "output_type": "stream",
     "text": [
      "<class 'pandas.core.frame.DataFrame'>\n",
      "RangeIndex: 3239 entries, 0 to 3238\n",
      "Data columns (total 2 columns):\n",
      " #   Column  Non-Null Count  Dtype  \n",
      "---  ------  --------------  -----  \n",
      " 0   key     3239 non-null   int64  \n",
      " 1   gas     3239 non-null   float64\n",
      "dtypes: float64(1), int64(1)\n",
      "memory usage: 50.7 KB\n"
     ]
    }
   ],
   "source": [
    "query = '''\n",
    "\n",
    "SELECT *\n",
    "FROM steel.data_gas\n",
    "\n",
    "'''\n",
    "\n",
    "data_gas = pd.read_sql_query(query, con=engine) \n",
    "display(data_gas)\n",
    "data_gas.info()"
   ]
  },
  {
   "cell_type": "code",
   "execution_count": 21,
   "id": "533178da",
   "metadata": {},
   "outputs": [
    {
     "data": {
      "image/png": "[encoded data removed]",
      "text/plain": [
       "<Figure size 720x432 with 1 Axes>"
      ]
     },
     "metadata": {
      "needs_background": "light"
     },
     "output_type": "display_data"
    }
   ],
   "source": [
    "plt.figure(figsize=(10,6))\n",
    "plt.hist(data_gas['gas'], bins=100)\n",
    "plt.title('Распределение объема газа')\n",
    "plt.xlabel('Подаваемый объем')\n",
    "plt.ylabel('Число измерений')\n",
    "plt.grid(True);"
   ]
  },
  {
   "cell_type": "markdown",
   "id": "a43c082e",
   "metadata": {},
   "source": []
  },
  {
   "cell_type": "markdown",
   "id": "f25be8e6",
   "metadata": {},
   "source": [
    "### Таблица data_temp"
   ]
  },
  {
   "cell_type": "markdown",
   "id": "c8184f81",
   "metadata": {},
   "source": [
    "Таблица содержит данные об измерениях температуры.\n",
    "\n",
    "- `key` — номер партии;\n",
    "- `MesaureTime` — время замера;\n",
    "- `Temperature` — значение температуры."
   ]
  },
  {
   "cell_type": "code",
   "execution_count": 22,
   "id": "c0a5c240",
   "metadata": {},
   "outputs": [
    {
     "data": {
      "text/html": [
       "<div>\n",
       "<style scoped>\n",
       "    .dataframe tbody tr th:only-of-type {\n",
       "        vertical-align: middle;\n",
       "    }\n",
       "\n",
       "    .dataframe tbody tr th {\n",
       "        vertical-align: top;\n",
       "    }\n",
       "\n",
       "    .dataframe thead th {\n",
       "        text-align: right;\n",
       "    }\n",
       "</style>\n",
       "<table border=\"1\" class=\"dataframe\">\n",
       "  <thead>\n",
       "    <tr style=\"text-align: right;\">\n",
       "      <th></th>\n",
       "      <th>key</th>\n",
       "      <th>MesaureTime</th>\n",
       "      <th>Temperature</th>\n",
       "    </tr>\n",
       "  </thead>\n",
       "  <tbody>\n",
       "    <tr>\n",
       "      <th>0</th>\n",
       "      <td>1</td>\n",
       "      <td>11:16:18</td>\n",
       "      <td>1571.0</td>\n",
       "    </tr>\n",
       "    <tr>\n",
       "      <th>1</th>\n",
       "      <td>1</td>\n",
       "      <td>11:25:53</td>\n",
       "      <td>1604.0</td>\n",
       "    </tr>\n",
       "    <tr>\n",
       "      <th>2</th>\n",
       "      <td>1</td>\n",
       "      <td>11:29:11</td>\n",
       "      <td>1618.0</td>\n",
       "    </tr>\n",
       "    <tr>\n",
       "      <th>3</th>\n",
       "      <td>1</td>\n",
       "      <td>11:30:01</td>\n",
       "      <td>1601.0</td>\n",
       "    </tr>\n",
       "    <tr>\n",
       "      <th>4</th>\n",
       "      <td>1</td>\n",
       "      <td>11:30:39</td>\n",
       "      <td>1613.0</td>\n",
       "    </tr>\n",
       "    <tr>\n",
       "      <th>...</th>\n",
       "      <td>...</td>\n",
       "      <td>...</td>\n",
       "      <td>...</td>\n",
       "    </tr>\n",
       "    <tr>\n",
       "      <th>15902</th>\n",
       "      <td>3241</td>\n",
       "      <td>04:03:30</td>\n",
       "      <td>1586.0</td>\n",
       "    </tr>\n",
       "    <tr>\n",
       "      <th>15903</th>\n",
       "      <td>3241</td>\n",
       "      <td>04:16:12</td>\n",
       "      <td>NaN</td>\n",
       "    </tr>\n",
       "    <tr>\n",
       "      <th>15904</th>\n",
       "      <td>3241</td>\n",
       "      <td>04:22:39</td>\n",
       "      <td>NaN</td>\n",
       "    </tr>\n",
       "    <tr>\n",
       "      <th>15905</th>\n",
       "      <td>3241</td>\n",
       "      <td>04:33:42</td>\n",
       "      <td>NaN</td>\n",
       "    </tr>\n",
       "    <tr>\n",
       "      <th>15906</th>\n",
       "      <td>3241</td>\n",
       "      <td>04:38:08</td>\n",
       "      <td>NaN</td>\n",
       "    </tr>\n",
       "  </tbody>\n",
       "</table>\n",
       "<p>15907 rows × 3 columns</p>\n",
       "</div>"
      ],
      "text/plain": [
       "        key MesaureTime  Temperature\n",
       "0         1    11:16:18       1571.0\n",
       "1         1    11:25:53       1604.0\n",
       "2         1    11:29:11       1618.0\n",
       "3         1    11:30:01       1601.0\n",
       "4         1    11:30:39       1613.0\n",
       "...     ...         ...          ...\n",
       "15902  3241    04:03:30       1586.0\n",
       "15903  3241    04:16:12          NaN\n",
       "15904  3241    04:22:39          NaN\n",
       "15905  3241    04:33:42          NaN\n",
       "15906  3241    04:38:08          NaN\n",
       "\n",
       "[15907 rows x 3 columns]"
      ]
     },
     "metadata": {},
     "output_type": "display_data"
    },
    {
     "name": "stdout",
     "output_type": "stream",
     "text": [
      "<class 'pandas.core.frame.DataFrame'>\n",
      "RangeIndex: 15907 entries, 0 to 15906\n",
      "Data columns (total 3 columns):\n",
      " #   Column       Non-Null Count  Dtype  \n",
      "---  ------       --------------  -----  \n",
      " 0   key          15907 non-null  int64  \n",
      " 1   MesaureTime  15907 non-null  object \n",
      " 2   Temperature  13006 non-null  float64\n",
      "dtypes: float64(1), int64(1), object(1)\n",
      "memory usage: 372.9+ KB\n"
     ]
    }
   ],
   "source": [
    "query = '''\n",
    "\n",
    "SELECT *\n",
    "FROM steel.data_temp\n",
    "\n",
    "'''\n",
    "\n",
    "data_temp = pd.read_sql_query(query, con=engine) \n",
    "display(data_temp)\n",
    "data_temp.info()"
   ]
  },
  {
   "cell_type": "code",
   "execution_count": 23,
   "id": "4f05565a",
   "metadata": {},
   "outputs": [],
   "source": [
    "data_temp['MesaureTime'] = pd.to_datetime(data_temp['MesaureTime'], format='%H:%M:%S') "
   ]
  },
  {
   "cell_type": "markdown",
   "id": "c91f9b06",
   "metadata": {},
   "source": [
    "По условию значения температуры ниже 1500 градусов — аномальные, поэтому исключим их:"
   ]
  },
  {
   "cell_type": "code",
   "execution_count": 24,
   "id": "24b07458",
   "metadata": {},
   "outputs": [],
   "source": [
    "data_temp = data_temp.query('Temperature > 1500')"
   ]
  },
  {
   "cell_type": "code",
   "execution_count": 25,
   "id": "d9f26944",
   "metadata": {
    "scrolled": true
   },
   "outputs": [
    {
     "data": {
      "image/png": "[encoded data removed]",
      "text/plain": [
       "<Figure size 720x432 with 1 Axes>"
      ]
     },
     "metadata": {
      "needs_background": "light"
     },
     "output_type": "display_data"
    }
   ],
   "source": [
    "plt.figure(figsize=(10,6))\n",
    "plt.hist(data_temp['Temperature'], bins=100)\n",
    "plt.title('Распределение температур')\n",
    "plt.xlabel('Температура')\n",
    "plt.ylabel('Число измерений')\n",
    "plt.grid(True);"
   ]
  },
  {
   "cell_type": "code",
   "execution_count": 26,
   "id": "4548faad",
   "metadata": {},
   "outputs": [],
   "source": [
    "data_temp = data_temp.reset_index(drop=True)"
   ]
  },
  {
   "cell_type": "markdown",
   "id": "68111261",
   "metadata": {},
   "source": [
    "Оставим только ключи, у которых как минимум два наблюдения: первый и последний замеры температуры, где последний замер является целевым признаком, для этого узнаем, сколько итераций приходится на каждый ключ:"
   ]
  },
  {
   "cell_type": "code",
   "execution_count": 27,
   "id": "162e2f61",
   "metadata": {},
   "outputs": [],
   "source": [
    "rm = pd.DataFrame(data_temp['key'].value_counts(ascending=True)).reset_index()\n",
    "rm = rm.rename(columns={'index': 'key', 'key':'iter_num'})"
   ]
  },
  {
   "cell_type": "code",
   "execution_count": 28,
   "id": "0c2957eb",
   "metadata": {},
   "outputs": [],
   "source": [
    "data_temp = data_temp.merge(rm, on='key')"
   ]
  },
  {
   "cell_type": "markdown",
   "id": "6b51005d",
   "metadata": {},
   "source": [
    "Удалим ключи только с 1 итерацией:"
   ]
  },
  {
   "cell_type": "code",
   "execution_count": 29,
   "id": "e9edc113",
   "metadata": {},
   "outputs": [],
   "source": [
    "data_temp = data_temp.query('iter_num > 1')"
   ]
  },
  {
   "cell_type": "markdown",
   "id": "b6593ded",
   "metadata": {},
   "source": [
    "По условию задачи целевой признак — последняя температура партии. Начальную температуру партии можно использовать как входной признак. Любые другие промежуточные значения температуры приведут к утечке целевого признака, их нельзя использовать как входные. Поэтому для каждого ключа оставим только первую и последнюю температуру, а также время измерения и число итераций на каждом ключе.\n",
    "\n",
    "Первую и последнюю температуры найдем по времени для каждого ключа."
   ]
  },
  {
   "cell_type": "code",
   "execution_count": 30,
   "id": "e607b294",
   "metadata": {},
   "outputs": [],
   "source": [
    "min_time = data_temp.groupby('key')['MesaureTime'].agg('min')\n",
    "max_time = data_temp.groupby('key')['MesaureTime'].agg('max')"
   ]
  },
  {
   "cell_type": "code",
   "execution_count": 31,
   "id": "9c0b063f",
   "metadata": {},
   "outputs": [],
   "source": [
    "min_time = data_temp.merge(min_time, on='MesaureTime', how='inner')\n",
    "max_time = data_temp.merge(max_time, on='MesaureTime', how='inner')"
   ]
  },
  {
   "cell_type": "markdown",
   "id": "f5be5797",
   "metadata": {},
   "source": [
    "Соединим таблицы по ключу и найдем время измерения в секундах:"
   ]
  },
  {
   "cell_type": "code",
   "execution_count": 32,
   "id": "5bc9cb68",
   "metadata": {
    "scrolled": true
   },
   "outputs": [
    {
     "data": {
      "text/html": [
       "<div>\n",
       "<style scoped>\n",
       "    .dataframe tbody tr th:only-of-type {\n",
       "        vertical-align: middle;\n",
       "    }\n",
       "\n",
       "    .dataframe tbody tr th {\n",
       "        vertical-align: top;\n",
       "    }\n",
       "\n",
       "    .dataframe thead th {\n",
       "        text-align: right;\n",
       "    }\n",
       "</style>\n",
       "<table border=\"1\" class=\"dataframe\">\n",
       "  <thead>\n",
       "    <tr style=\"text-align: right;\">\n",
       "      <th></th>\n",
       "      <th>key</th>\n",
       "      <th>temp_first</th>\n",
       "      <th>temp_last</th>\n",
       "      <th>iter_num</th>\n",
       "      <th>measure_time</th>\n",
       "    </tr>\n",
       "  </thead>\n",
       "  <tbody>\n",
       "    <tr>\n",
       "      <th>0</th>\n",
       "      <td>1</td>\n",
       "      <td>1571.0</td>\n",
       "      <td>1613.0</td>\n",
       "      <td>5</td>\n",
       "      <td>861.0</td>\n",
       "    </tr>\n",
       "    <tr>\n",
       "      <th>1</th>\n",
       "      <td>2</td>\n",
       "      <td>1581.0</td>\n",
       "      <td>1602.0</td>\n",
       "      <td>6</td>\n",
       "      <td>1305.0</td>\n",
       "    </tr>\n",
       "    <tr>\n",
       "      <th>2</th>\n",
       "      <td>3</td>\n",
       "      <td>1596.0</td>\n",
       "      <td>1599.0</td>\n",
       "      <td>5</td>\n",
       "      <td>1300.0</td>\n",
       "    </tr>\n",
       "    <tr>\n",
       "      <th>3</th>\n",
       "      <td>4</td>\n",
       "      <td>1601.0</td>\n",
       "      <td>1625.0</td>\n",
       "      <td>3</td>\n",
       "      <td>388.0</td>\n",
       "    </tr>\n",
       "    <tr>\n",
       "      <th>4</th>\n",
       "      <td>786</td>\n",
       "      <td>1590.0</td>\n",
       "      <td>1597.0</td>\n",
       "      <td>5</td>\n",
       "      <td>233.0</td>\n",
       "    </tr>\n",
       "    <tr>\n",
       "      <th>...</th>\n",
       "      <td>...</td>\n",
       "      <td>...</td>\n",
       "      <td>...</td>\n",
       "      <td>...</td>\n",
       "      <td>...</td>\n",
       "    </tr>\n",
       "    <tr>\n",
       "      <th>3188</th>\n",
       "      <td>2493</td>\n",
       "      <td>1599.0</td>\n",
       "      <td>1594.0</td>\n",
       "      <td>3</td>\n",
       "      <td>1292.0</td>\n",
       "    </tr>\n",
       "    <tr>\n",
       "      <th>3189</th>\n",
       "      <td>2494</td>\n",
       "      <td>1585.0</td>\n",
       "      <td>1591.0</td>\n",
       "      <td>3</td>\n",
       "      <td>626.0</td>\n",
       "    </tr>\n",
       "    <tr>\n",
       "      <th>3190</th>\n",
       "      <td>2495</td>\n",
       "      <td>1570.0</td>\n",
       "      <td>1591.0</td>\n",
       "      <td>3</td>\n",
       "      <td>1137.0</td>\n",
       "    </tr>\n",
       "    <tr>\n",
       "      <th>3191</th>\n",
       "      <td>2496</td>\n",
       "      <td>1554.0</td>\n",
       "      <td>1591.0</td>\n",
       "      <td>4</td>\n",
       "      <td>1618.0</td>\n",
       "    </tr>\n",
       "    <tr>\n",
       "      <th>3192</th>\n",
       "      <td>2499</td>\n",
       "      <td>1569.0</td>\n",
       "      <td>1603.0</td>\n",
       "      <td>3</td>\n",
       "      <td>1203.0</td>\n",
       "    </tr>\n",
       "  </tbody>\n",
       "</table>\n",
       "<p>3193 rows × 5 columns</p>\n",
       "</div>"
      ],
      "text/plain": [
       "       key  temp_first  temp_last  iter_num  measure_time\n",
       "0        1      1571.0     1613.0         5         861.0\n",
       "1        2      1581.0     1602.0         6        1305.0\n",
       "2        3      1596.0     1599.0         5        1300.0\n",
       "3        4      1601.0     1625.0         3         388.0\n",
       "4      786      1590.0     1597.0         5         233.0\n",
       "...    ...         ...        ...       ...           ...\n",
       "3188  2493      1599.0     1594.0         3        1292.0\n",
       "3189  2494      1585.0     1591.0         3         626.0\n",
       "3190  2495      1570.0     1591.0         3        1137.0\n",
       "3191  2496      1554.0     1591.0         4        1618.0\n",
       "3192  2499      1569.0     1603.0         3        1203.0\n",
       "\n",
       "[3193 rows x 5 columns]"
      ]
     },
     "execution_count": 32,
     "metadata": {},
     "output_type": "execute_result"
    }
   ],
   "source": [
    "data_temp = min_time.merge(max_time, on='key')\n",
    "data_temp['measure_time'] = (data_temp['MesaureTime_y'] - data_temp['MesaureTime_x']).dt.total_seconds()\n",
    "data_temp = data_temp.drop(['MesaureTime_x', 'iter_num_x', 'MesaureTime_y'], axis=1)\n",
    "data_temp = data_temp.rename(columns={'Temperature_x': 'temp_first', 'Temperature_y': 'temp_last', 'iter_num_y':'iter_num'})\n",
    "data_temp"
   ]
  },
  {
   "cell_type": "code",
   "execution_count": 33,
   "id": "e71a5f40",
   "metadata": {},
   "outputs": [
    {
     "data": {
      "image/png": "[encoded data removed]",
      "text/plain": [
       "<Figure size 720x432 with 1 Axes>"
      ]
     },
     "metadata": {
      "needs_background": "light"
     },
     "output_type": "display_data"
    }
   ],
   "source": [
    "\n",
    "plt.figure(figsize=(10,6))\n",
    "plt.hist(data_temp['measure_time'], bins=100)\n",
    "plt.title('Распределение по времени измерения')\n",
    "plt.xlabel('Время измерения, сек')\n",
    "plt.ylabel('Число измерений')\n",
    "plt.grid(True);"
   ]
  },
  {
   "cell_type": "markdown",
   "id": "d984092a",
   "metadata": {},
   "source": [
    "Время измерения содержит выбросы, попробуем убрать значения выше 70000, а отрицательные значения возьмем по модулю:"
   ]
  },
  {
   "cell_type": "code",
   "execution_count": 34,
   "id": "b387ccd5",
   "metadata": {},
   "outputs": [
    {
     "data": {
      "image/png": "[encoded data removed]",
      "text/plain": [
       "<Figure size 720x432 with 1 Axes>"
      ]
     },
     "metadata": {
      "needs_background": "light"
     },
     "output_type": "display_data"
    }
   ],
   "source": [
    "plt.figure(figsize=(10,6))\n",
    "plt.hist(data_temp.query('measure_time > 20000')['measure_time'], bins=100)\n",
    "plt.title('Распределение по времени измерения (выше 20000)')\n",
    "plt.xlabel('Время измерения, сек')\n",
    "plt.ylabel('Число измерений')\n",
    "plt.grid(True);"
   ]
  },
  {
   "cell_type": "code",
   "execution_count": 35,
   "id": "682a940d",
   "metadata": {},
   "outputs": [],
   "source": [
    "#data_temp.loc[data_temp['measure_time'] > 80000, 'measure_time'] = data_temp['measure_time'] - 80000\n",
    "data_temp.loc[data_temp['measure_time'] > 70000, 'measure_time'] = data_temp['measure_time'] - 70000\n",
    "#data_temp.loc[data_temp['measure_time'] > 15000, 'measure_time'] = data_temp['measure_time'] - 15000\n",
    "data_temp.loc[data_temp['measure_time'] < 0, 'measure_time'] = abs(data_temp['measure_time'])\n"
   ]
  },
  {
   "cell_type": "code",
   "execution_count": 36,
   "id": "c80eb23d",
   "metadata": {},
   "outputs": [
    {
     "data": {
      "image/png": "[encoded data removed]",
      "text/plain": [
       "<Figure size 720x432 with 1 Axes>"
      ]
     },
     "metadata": {
      "needs_background": "light"
     },
     "output_type": "display_data"
    }
   ],
   "source": [
    "plt.figure(figsize=(10,6))\n",
    "plt.hist(data_temp['measure_time'], bins=100)\n",
    "plt.title('Распределение по времени измерения')\n",
    "plt.xlabel('Время измерения, сек')\n",
    "plt.ylabel('Число измерений')\n",
    "plt.grid(True);"
   ]
  },
  {
   "cell_type": "code",
   "execution_count": 37,
   "id": "8e2678ad",
   "metadata": {
    "scrolled": true
   },
   "outputs": [
    {
     "data": {
      "text/html": [
       "<div>\n",
       "<style scoped>\n",
       "    .dataframe tbody tr th:only-of-type {\n",
       "        vertical-align: middle;\n",
       "    }\n",
       "\n",
       "    .dataframe tbody tr th {\n",
       "        vertical-align: top;\n",
       "    }\n",
       "\n",
       "    .dataframe thead th {\n",
       "        text-align: right;\n",
       "    }\n",
       "</style>\n",
       "<table border=\"1\" class=\"dataframe\">\n",
       "  <thead>\n",
       "    <tr style=\"text-align: right;\">\n",
       "      <th></th>\n",
       "      <th>key</th>\n",
       "      <th>temp_first</th>\n",
       "      <th>temp_last</th>\n",
       "      <th>iter_num</th>\n",
       "      <th>measure_time</th>\n",
       "    </tr>\n",
       "  </thead>\n",
       "  <tbody>\n",
       "    <tr>\n",
       "      <th>0</th>\n",
       "      <td>1</td>\n",
       "      <td>1571.0</td>\n",
       "      <td>1613.0</td>\n",
       "      <td>5</td>\n",
       "      <td>861.0</td>\n",
       "    </tr>\n",
       "    <tr>\n",
       "      <th>1</th>\n",
       "      <td>2</td>\n",
       "      <td>1581.0</td>\n",
       "      <td>1602.0</td>\n",
       "      <td>6</td>\n",
       "      <td>1305.0</td>\n",
       "    </tr>\n",
       "    <tr>\n",
       "      <th>2</th>\n",
       "      <td>3</td>\n",
       "      <td>1596.0</td>\n",
       "      <td>1599.0</td>\n",
       "      <td>5</td>\n",
       "      <td>1300.0</td>\n",
       "    </tr>\n",
       "    <tr>\n",
       "      <th>3</th>\n",
       "      <td>4</td>\n",
       "      <td>1601.0</td>\n",
       "      <td>1625.0</td>\n",
       "      <td>3</td>\n",
       "      <td>388.0</td>\n",
       "    </tr>\n",
       "    <tr>\n",
       "      <th>4</th>\n",
       "      <td>786</td>\n",
       "      <td>1590.0</td>\n",
       "      <td>1597.0</td>\n",
       "      <td>5</td>\n",
       "      <td>233.0</td>\n",
       "    </tr>\n",
       "    <tr>\n",
       "      <th>...</th>\n",
       "      <td>...</td>\n",
       "      <td>...</td>\n",
       "      <td>...</td>\n",
       "      <td>...</td>\n",
       "      <td>...</td>\n",
       "    </tr>\n",
       "    <tr>\n",
       "      <th>3188</th>\n",
       "      <td>2493</td>\n",
       "      <td>1599.0</td>\n",
       "      <td>1594.0</td>\n",
       "      <td>3</td>\n",
       "      <td>1292.0</td>\n",
       "    </tr>\n",
       "    <tr>\n",
       "      <th>3189</th>\n",
       "      <td>2494</td>\n",
       "      <td>1585.0</td>\n",
       "      <td>1591.0</td>\n",
       "      <td>3</td>\n",
       "      <td>626.0</td>\n",
       "    </tr>\n",
       "    <tr>\n",
       "      <th>3190</th>\n",
       "      <td>2495</td>\n",
       "      <td>1570.0</td>\n",
       "      <td>1591.0</td>\n",
       "      <td>3</td>\n",
       "      <td>1137.0</td>\n",
       "    </tr>\n",
       "    <tr>\n",
       "      <th>3191</th>\n",
       "      <td>2496</td>\n",
       "      <td>1554.0</td>\n",
       "      <td>1591.0</td>\n",
       "      <td>4</td>\n",
       "      <td>1618.0</td>\n",
       "    </tr>\n",
       "    <tr>\n",
       "      <th>3192</th>\n",
       "      <td>2499</td>\n",
       "      <td>1569.0</td>\n",
       "      <td>1603.0</td>\n",
       "      <td>3</td>\n",
       "      <td>1203.0</td>\n",
       "    </tr>\n",
       "  </tbody>\n",
       "</table>\n",
       "<p>3193 rows × 5 columns</p>\n",
       "</div>"
      ],
      "text/plain": [
       "       key  temp_first  temp_last  iter_num  measure_time\n",
       "0        1      1571.0     1613.0         5         861.0\n",
       "1        2      1581.0     1602.0         6        1305.0\n",
       "2        3      1596.0     1599.0         5        1300.0\n",
       "3        4      1601.0     1625.0         3         388.0\n",
       "4      786      1590.0     1597.0         5         233.0\n",
       "...    ...         ...        ...       ...           ...\n",
       "3188  2493      1599.0     1594.0         3        1292.0\n",
       "3189  2494      1585.0     1591.0         3         626.0\n",
       "3190  2495      1570.0     1591.0         3        1137.0\n",
       "3191  2496      1554.0     1591.0         4        1618.0\n",
       "3192  2499      1569.0     1603.0         3        1203.0\n",
       "\n",
       "[3193 rows x 5 columns]"
      ]
     },
     "execution_count": 37,
     "metadata": {},
     "output_type": "execute_result"
    }
   ],
   "source": [
    "data_temp"
   ]
  },
  {
   "cell_type": "markdown",
   "id": "3063d984",
   "metadata": {},
   "source": [
    "Получили таблицу, содержащую в себе первое и последнее измерение температуры(целевой признак), а также время измерения в секундах и число итераций для ключа."
   ]
  },
  {
   "cell_type": "markdown",
   "id": "809865c0",
   "metadata": {},
   "source": [
    "### Таблицы data_wire и data_wire_time"
   ]
  },
  {
   "cell_type": "markdown",
   "id": "25432e08",
   "metadata": {},
   "source": [
    "Таблицы содержит данные об объёме и времени подачи проволочных материалов.\n",
    "\n",
    "- `key` — номер партии;\n",
    "- `Wire 1` … `Wire 15` — объём подаваемых проволочных материалов."
   ]
  },
  {
   "cell_type": "code",
   "execution_count": 38,
   "id": "22f25df0",
   "metadata": {},
   "outputs": [
    {
     "data": {
      "text/html": [
       "<div>\n",
       "<style scoped>\n",
       "    .dataframe tbody tr th:only-of-type {\n",
       "        vertical-align: middle;\n",
       "    }\n",
       "\n",
       "    .dataframe tbody tr th {\n",
       "        vertical-align: top;\n",
       "    }\n",
       "\n",
       "    .dataframe thead th {\n",
       "        text-align: right;\n",
       "    }\n",
       "</style>\n",
       "<table border=\"1\" class=\"dataframe\">\n",
       "  <thead>\n",
       "    <tr style=\"text-align: right;\">\n",
       "      <th></th>\n",
       "      <th>key</th>\n",
       "      <th>Wire 1</th>\n",
       "      <th>Wire 2</th>\n",
       "      <th>Wire 3</th>\n",
       "      <th>Wire 4</th>\n",
       "      <th>Wire 5</th>\n",
       "      <th>Wire 6</th>\n",
       "      <th>Wire 7</th>\n",
       "      <th>Wire 8</th>\n",
       "      <th>Wire 9</th>\n",
       "    </tr>\n",
       "  </thead>\n",
       "  <tbody>\n",
       "    <tr>\n",
       "      <th>0</th>\n",
       "      <td>1</td>\n",
       "      <td>60.059998</td>\n",
       "      <td>NaN</td>\n",
       "      <td>NaN</td>\n",
       "      <td>NaN</td>\n",
       "      <td>NaN</td>\n",
       "      <td>NaN</td>\n",
       "      <td>NaN</td>\n",
       "      <td>NaN</td>\n",
       "      <td>NaN</td>\n",
       "    </tr>\n",
       "    <tr>\n",
       "      <th>1</th>\n",
       "      <td>2</td>\n",
       "      <td>96.052315</td>\n",
       "      <td>NaN</td>\n",
       "      <td>NaN</td>\n",
       "      <td>NaN</td>\n",
       "      <td>NaN</td>\n",
       "      <td>NaN</td>\n",
       "      <td>NaN</td>\n",
       "      <td>NaN</td>\n",
       "      <td>NaN</td>\n",
       "    </tr>\n",
       "    <tr>\n",
       "      <th>2</th>\n",
       "      <td>3</td>\n",
       "      <td>91.160157</td>\n",
       "      <td>NaN</td>\n",
       "      <td>NaN</td>\n",
       "      <td>NaN</td>\n",
       "      <td>NaN</td>\n",
       "      <td>NaN</td>\n",
       "      <td>NaN</td>\n",
       "      <td>NaN</td>\n",
       "      <td>NaN</td>\n",
       "    </tr>\n",
       "    <tr>\n",
       "      <th>3</th>\n",
       "      <td>4</td>\n",
       "      <td>89.063515</td>\n",
       "      <td>NaN</td>\n",
       "      <td>NaN</td>\n",
       "      <td>NaN</td>\n",
       "      <td>NaN</td>\n",
       "      <td>NaN</td>\n",
       "      <td>NaN</td>\n",
       "      <td>NaN</td>\n",
       "      <td>NaN</td>\n",
       "    </tr>\n",
       "    <tr>\n",
       "      <th>4</th>\n",
       "      <td>5</td>\n",
       "      <td>89.238236</td>\n",
       "      <td>9.11456</td>\n",
       "      <td>NaN</td>\n",
       "      <td>NaN</td>\n",
       "      <td>NaN</td>\n",
       "      <td>NaN</td>\n",
       "      <td>NaN</td>\n",
       "      <td>NaN</td>\n",
       "      <td>NaN</td>\n",
       "    </tr>\n",
       "    <tr>\n",
       "      <th>...</th>\n",
       "      <td>...</td>\n",
       "      <td>...</td>\n",
       "      <td>...</td>\n",
       "      <td>...</td>\n",
       "      <td>...</td>\n",
       "      <td>...</td>\n",
       "      <td>...</td>\n",
       "      <td>...</td>\n",
       "      <td>...</td>\n",
       "      <td>...</td>\n",
       "    </tr>\n",
       "    <tr>\n",
       "      <th>3076</th>\n",
       "      <td>3237</td>\n",
       "      <td>38.088959</td>\n",
       "      <td>NaN</td>\n",
       "      <td>NaN</td>\n",
       "      <td>NaN</td>\n",
       "      <td>NaN</td>\n",
       "      <td>NaN</td>\n",
       "      <td>NaN</td>\n",
       "      <td>NaN</td>\n",
       "      <td>NaN</td>\n",
       "    </tr>\n",
       "    <tr>\n",
       "      <th>3077</th>\n",
       "      <td>3238</td>\n",
       "      <td>56.128799</td>\n",
       "      <td>NaN</td>\n",
       "      <td>NaN</td>\n",
       "      <td>NaN</td>\n",
       "      <td>NaN</td>\n",
       "      <td>NaN</td>\n",
       "      <td>NaN</td>\n",
       "      <td>NaN</td>\n",
       "      <td>NaN</td>\n",
       "    </tr>\n",
       "    <tr>\n",
       "      <th>3078</th>\n",
       "      <td>3239</td>\n",
       "      <td>143.357761</td>\n",
       "      <td>NaN</td>\n",
       "      <td>NaN</td>\n",
       "      <td>NaN</td>\n",
       "      <td>NaN</td>\n",
       "      <td>NaN</td>\n",
       "      <td>NaN</td>\n",
       "      <td>NaN</td>\n",
       "      <td>NaN</td>\n",
       "    </tr>\n",
       "    <tr>\n",
       "      <th>3079</th>\n",
       "      <td>3240</td>\n",
       "      <td>34.070400</td>\n",
       "      <td>NaN</td>\n",
       "      <td>NaN</td>\n",
       "      <td>NaN</td>\n",
       "      <td>NaN</td>\n",
       "      <td>NaN</td>\n",
       "      <td>NaN</td>\n",
       "      <td>NaN</td>\n",
       "      <td>NaN</td>\n",
       "    </tr>\n",
       "    <tr>\n",
       "      <th>3080</th>\n",
       "      <td>3241</td>\n",
       "      <td>63.117595</td>\n",
       "      <td>NaN</td>\n",
       "      <td>NaN</td>\n",
       "      <td>NaN</td>\n",
       "      <td>NaN</td>\n",
       "      <td>NaN</td>\n",
       "      <td>NaN</td>\n",
       "      <td>NaN</td>\n",
       "      <td>NaN</td>\n",
       "    </tr>\n",
       "  </tbody>\n",
       "</table>\n",
       "<p>3081 rows × 10 columns</p>\n",
       "</div>"
      ],
      "text/plain": [
       "       key      Wire 1   Wire 2  Wire 3  Wire 4  Wire 5  Wire 6  Wire 7  \\\n",
       "0        1   60.059998      NaN     NaN     NaN     NaN     NaN     NaN   \n",
       "1        2   96.052315      NaN     NaN     NaN     NaN     NaN     NaN   \n",
       "2        3   91.160157      NaN     NaN     NaN     NaN     NaN     NaN   \n",
       "3        4   89.063515      NaN     NaN     NaN     NaN     NaN     NaN   \n",
       "4        5   89.238236  9.11456     NaN     NaN     NaN     NaN     NaN   \n",
       "...    ...         ...      ...     ...     ...     ...     ...     ...   \n",
       "3076  3237   38.088959      NaN     NaN     NaN     NaN     NaN     NaN   \n",
       "3077  3238   56.128799      NaN     NaN     NaN     NaN     NaN     NaN   \n",
       "3078  3239  143.357761      NaN     NaN     NaN     NaN     NaN     NaN   \n",
       "3079  3240   34.070400      NaN     NaN     NaN     NaN     NaN     NaN   \n",
       "3080  3241   63.117595      NaN     NaN     NaN     NaN     NaN     NaN   \n",
       "\n",
       "      Wire 8  Wire 9  \n",
       "0        NaN     NaN  \n",
       "1        NaN     NaN  \n",
       "2        NaN     NaN  \n",
       "3        NaN     NaN  \n",
       "4        NaN     NaN  \n",
       "...      ...     ...  \n",
       "3076     NaN     NaN  \n",
       "3077     NaN     NaN  \n",
       "3078     NaN     NaN  \n",
       "3079     NaN     NaN  \n",
       "3080     NaN     NaN  \n",
       "\n",
       "[3081 rows x 10 columns]"
      ]
     },
     "metadata": {},
     "output_type": "display_data"
    },
    {
     "name": "stdout",
     "output_type": "stream",
     "text": [
      "<class 'pandas.core.frame.DataFrame'>\n",
      "RangeIndex: 3081 entries, 0 to 3080\n",
      "Data columns (total 10 columns):\n",
      " #   Column  Non-Null Count  Dtype  \n",
      "---  ------  --------------  -----  \n",
      " 0   key     3081 non-null   int64  \n",
      " 1   Wire 1  3055 non-null   float64\n",
      " 2   Wire 2  1079 non-null   float64\n",
      " 3   Wire 3  63 non-null     float64\n",
      " 4   Wire 4  14 non-null     float64\n",
      " 5   Wire 5  1 non-null      float64\n",
      " 6   Wire 6  73 non-null     float64\n",
      " 7   Wire 7  11 non-null     float64\n",
      " 8   Wire 8  19 non-null     float64\n",
      " 9   Wire 9  29 non-null     float64\n",
      "dtypes: float64(9), int64(1)\n",
      "memory usage: 240.8 KB\n"
     ]
    }
   ],
   "source": [
    "query = '''\n",
    "\n",
    "SELECT *\n",
    "FROM steel.data_wire\n",
    "\n",
    "'''\n",
    "\n",
    "data_wire = pd.read_sql_query(query, con=engine) \n",
    "display(data_wire)\n",
    "data_wire.info()"
   ]
  },
  {
   "cell_type": "code",
   "execution_count": 39,
   "id": "3515e413",
   "metadata": {},
   "outputs": [
    {
     "data": {
      "text/html": [
       "<div>\n",
       "<style scoped>\n",
       "    .dataframe tbody tr th:only-of-type {\n",
       "        vertical-align: middle;\n",
       "    }\n",
       "\n",
       "    .dataframe tbody tr th {\n",
       "        vertical-align: top;\n",
       "    }\n",
       "\n",
       "    .dataframe thead th {\n",
       "        text-align: right;\n",
       "    }\n",
       "</style>\n",
       "<table border=\"1\" class=\"dataframe\">\n",
       "  <thead>\n",
       "    <tr style=\"text-align: right;\">\n",
       "      <th></th>\n",
       "      <th>key</th>\n",
       "      <th>Wire 1</th>\n",
       "      <th>Wire 2</th>\n",
       "      <th>Wire 3</th>\n",
       "      <th>Wire 4</th>\n",
       "      <th>Wire 5</th>\n",
       "      <th>Wire 6</th>\n",
       "      <th>Wire 7</th>\n",
       "      <th>Wire 8</th>\n",
       "      <th>Wire 9</th>\n",
       "    </tr>\n",
       "  </thead>\n",
       "  <tbody>\n",
       "    <tr>\n",
       "      <th>0</th>\n",
       "      <td>1</td>\n",
       "      <td>11:11:41</td>\n",
       "      <td>None</td>\n",
       "      <td>None</td>\n",
       "      <td>None</td>\n",
       "      <td>None</td>\n",
       "      <td>None</td>\n",
       "      <td>None</td>\n",
       "      <td>None</td>\n",
       "      <td>None</td>\n",
       "    </tr>\n",
       "    <tr>\n",
       "      <th>1</th>\n",
       "      <td>2</td>\n",
       "      <td>11:46:10</td>\n",
       "      <td>None</td>\n",
       "      <td>None</td>\n",
       "      <td>None</td>\n",
       "      <td>None</td>\n",
       "      <td>None</td>\n",
       "      <td>None</td>\n",
       "      <td>None</td>\n",
       "      <td>None</td>\n",
       "    </tr>\n",
       "    <tr>\n",
       "      <th>2</th>\n",
       "      <td>3</td>\n",
       "      <td>12:13:47</td>\n",
       "      <td>None</td>\n",
       "      <td>None</td>\n",
       "      <td>None</td>\n",
       "      <td>None</td>\n",
       "      <td>None</td>\n",
       "      <td>None</td>\n",
       "      <td>None</td>\n",
       "      <td>None</td>\n",
       "    </tr>\n",
       "    <tr>\n",
       "      <th>3</th>\n",
       "      <td>4</td>\n",
       "      <td>12:48:05</td>\n",
       "      <td>None</td>\n",
       "      <td>None</td>\n",
       "      <td>None</td>\n",
       "      <td>None</td>\n",
       "      <td>None</td>\n",
       "      <td>None</td>\n",
       "      <td>None</td>\n",
       "      <td>None</td>\n",
       "    </tr>\n",
       "    <tr>\n",
       "      <th>4</th>\n",
       "      <td>5</td>\n",
       "      <td>13:18:15</td>\n",
       "      <td>13:32:06</td>\n",
       "      <td>None</td>\n",
       "      <td>None</td>\n",
       "      <td>None</td>\n",
       "      <td>None</td>\n",
       "      <td>None</td>\n",
       "      <td>None</td>\n",
       "      <td>None</td>\n",
       "    </tr>\n",
       "    <tr>\n",
       "      <th>...</th>\n",
       "      <td>...</td>\n",
       "      <td>...</td>\n",
       "      <td>...</td>\n",
       "      <td>...</td>\n",
       "      <td>...</td>\n",
       "      <td>...</td>\n",
       "      <td>...</td>\n",
       "      <td>...</td>\n",
       "      <td>...</td>\n",
       "      <td>...</td>\n",
       "    </tr>\n",
       "    <tr>\n",
       "      <th>3076</th>\n",
       "      <td>3237</td>\n",
       "      <td>22:50:20</td>\n",
       "      <td>None</td>\n",
       "      <td>None</td>\n",
       "      <td>None</td>\n",
       "      <td>None</td>\n",
       "      <td>None</td>\n",
       "      <td>None</td>\n",
       "      <td>None</td>\n",
       "      <td>None</td>\n",
       "    </tr>\n",
       "    <tr>\n",
       "      <th>3077</th>\n",
       "      <td>3238</td>\n",
       "      <td>23:38:24</td>\n",
       "      <td>None</td>\n",
       "      <td>None</td>\n",
       "      <td>None</td>\n",
       "      <td>None</td>\n",
       "      <td>None</td>\n",
       "      <td>None</td>\n",
       "      <td>None</td>\n",
       "      <td>None</td>\n",
       "    </tr>\n",
       "    <tr>\n",
       "      <th>3078</th>\n",
       "      <td>3239</td>\n",
       "      <td>01:50:43</td>\n",
       "      <td>None</td>\n",
       "      <td>None</td>\n",
       "      <td>None</td>\n",
       "      <td>None</td>\n",
       "      <td>None</td>\n",
       "      <td>None</td>\n",
       "      <td>None</td>\n",
       "      <td>None</td>\n",
       "    </tr>\n",
       "    <tr>\n",
       "      <th>3079</th>\n",
       "      <td>3240</td>\n",
       "      <td>03:12:02</td>\n",
       "      <td>None</td>\n",
       "      <td>None</td>\n",
       "      <td>None</td>\n",
       "      <td>None</td>\n",
       "      <td>None</td>\n",
       "      <td>None</td>\n",
       "      <td>None</td>\n",
       "      <td>None</td>\n",
       "    </tr>\n",
       "    <tr>\n",
       "      <th>3080</th>\n",
       "      <td>3241</td>\n",
       "      <td>04:16:01</td>\n",
       "      <td>None</td>\n",
       "      <td>None</td>\n",
       "      <td>None</td>\n",
       "      <td>None</td>\n",
       "      <td>None</td>\n",
       "      <td>None</td>\n",
       "      <td>None</td>\n",
       "      <td>None</td>\n",
       "    </tr>\n",
       "  </tbody>\n",
       "</table>\n",
       "<p>3081 rows × 10 columns</p>\n",
       "</div>"
      ],
      "text/plain": [
       "       key    Wire 1    Wire 2 Wire 3 Wire 4 Wire 5 Wire 6 Wire 7 Wire 8  \\\n",
       "0        1  11:11:41      None   None   None   None   None   None   None   \n",
       "1        2  11:46:10      None   None   None   None   None   None   None   \n",
       "2        3  12:13:47      None   None   None   None   None   None   None   \n",
       "3        4  12:48:05      None   None   None   None   None   None   None   \n",
       "4        5  13:18:15  13:32:06   None   None   None   None   None   None   \n",
       "...    ...       ...       ...    ...    ...    ...    ...    ...    ...   \n",
       "3076  3237  22:50:20      None   None   None   None   None   None   None   \n",
       "3077  3238  23:38:24      None   None   None   None   None   None   None   \n",
       "3078  3239  01:50:43      None   None   None   None   None   None   None   \n",
       "3079  3240  03:12:02      None   None   None   None   None   None   None   \n",
       "3080  3241  04:16:01      None   None   None   None   None   None   None   \n",
       "\n",
       "     Wire 9  \n",
       "0      None  \n",
       "1      None  \n",
       "2      None  \n",
       "3      None  \n",
       "4      None  \n",
       "...     ...  \n",
       "3076   None  \n",
       "3077   None  \n",
       "3078   None  \n",
       "3079   None  \n",
       "3080   None  \n",
       "\n",
       "[3081 rows x 10 columns]"
      ]
     },
     "metadata": {},
     "output_type": "display_data"
    },
    {
     "name": "stdout",
     "output_type": "stream",
     "text": [
      "<class 'pandas.core.frame.DataFrame'>\n",
      "RangeIndex: 3081 entries, 0 to 3080\n",
      "Data columns (total 10 columns):\n",
      " #   Column  Non-Null Count  Dtype \n",
      "---  ------  --------------  ----- \n",
      " 0   key     3081 non-null   int64 \n",
      " 1   Wire 1  3055 non-null   object\n",
      " 2   Wire 2  1079 non-null   object\n",
      " 3   Wire 3  63 non-null     object\n",
      " 4   Wire 4  14 non-null     object\n",
      " 5   Wire 5  1 non-null      object\n",
      " 6   Wire 6  73 non-null     object\n",
      " 7   Wire 7  11 non-null     object\n",
      " 8   Wire 8  19 non-null     object\n",
      " 9   Wire 9  29 non-null     object\n",
      "dtypes: int64(1), object(9)\n",
      "memory usage: 240.8+ KB\n"
     ]
    }
   ],
   "source": [
    "query = '''\n",
    "\n",
    "SELECT *\n",
    "FROM steel.data_wire_time\n",
    "\n",
    "'''\n",
    "\n",
    "data_wire_time = pd.read_sql_query(query, con=engine) \n",
    "display(data_wire_time)\n",
    "data_wire_time.info()"
   ]
  },
  {
   "cell_type": "markdown",
   "id": "4ff10a02",
   "metadata": {},
   "source": [
    "Посмотрим, какую долю от общего числа составляют пропущенные значения:"
   ]
  },
  {
   "cell_type": "code",
   "execution_count": 40,
   "id": "faf4a56f",
   "metadata": {},
   "outputs": [
    {
     "data": {
      "text/plain": [
       "key       0.000000\n",
       "Wire 1    0.008439\n",
       "Wire 2    0.649789\n",
       "Wire 3    0.979552\n",
       "Wire 4    0.995456\n",
       "Wire 5    0.999675\n",
       "Wire 6    0.976306\n",
       "Wire 7    0.996430\n",
       "Wire 8    0.993833\n",
       "Wire 9    0.990587\n",
       "dtype: float64"
      ]
     },
     "execution_count": 40,
     "metadata": {},
     "output_type": "execute_result"
    }
   ],
   "source": [
    "data_wire.isna().sum()/data_wire.shape[0]"
   ]
  },
  {
   "cell_type": "markdown",
   "id": "d76fd199",
   "metadata": {},
   "source": [
    "Уберем колонки, где доля пропущенных значений более 80%:"
   ]
  },
  {
   "cell_type": "code",
   "execution_count": 41,
   "id": "5cab0c6d",
   "metadata": {},
   "outputs": [],
   "source": [
    "cols = data_wire.columns\n",
    "for col in cols:\n",
    "    if data_wire[col].isna().sum() / data_wire.shape[0] > 0.8:\n",
    "        data_wire = data_wire.drop(col, axis=1)\n",
    "        data_wire_time = data_wire_time.drop(col, axis=1)"
   ]
  },
  {
   "cell_type": "markdown",
   "id": "d22ba301",
   "metadata": {},
   "source": [
    "Изменим тип данных на datetime:"
   ]
  },
  {
   "cell_type": "code",
   "execution_count": 42,
   "id": "90006e0b",
   "metadata": {},
   "outputs": [],
   "source": [
    "for col in data_wire.columns.drop('key'):\n",
    "    data_wire_time[col] = pd.to_datetime(data_wire_time[col], format='%H:%M:%S') "
   ]
  },
  {
   "cell_type": "markdown",
   "id": "a24c72ec",
   "metadata": {},
   "source": [
    "Заменим пропуски на нули, тк пропуск обозначает, что материал не добавляли в эту партию."
   ]
  },
  {
   "cell_type": "code",
   "execution_count": 43,
   "id": "d5289d96",
   "metadata": {},
   "outputs": [],
   "source": [
    "data_wire = data_wire.fillna(0)\n",
    "data_wire_time = data_wire_time.fillna(0)"
   ]
  },
  {
   "cell_type": "markdown",
   "id": "fcad3590",
   "metadata": {},
   "source": [
    "### Объединение таблиц"
   ]
  },
  {
   "cell_type": "code",
   "execution_count": 44,
   "id": "a7558662",
   "metadata": {},
   "outputs": [
    {
     "data": {
      "text/html": [
       "<div>\n",
       "<style scoped>\n",
       "    .dataframe tbody tr th:only-of-type {\n",
       "        vertical-align: middle;\n",
       "    }\n",
       "\n",
       "    .dataframe tbody tr th {\n",
       "        vertical-align: top;\n",
       "    }\n",
       "\n",
       "    .dataframe thead th {\n",
       "        text-align: right;\n",
       "    }\n",
       "</style>\n",
       "<table border=\"1\" class=\"dataframe\">\n",
       "  <thead>\n",
       "    <tr style=\"text-align: right;\">\n",
       "      <th></th>\n",
       "      <th>key</th>\n",
       "      <th>ActivePower</th>\n",
       "      <th>ReactivePower</th>\n",
       "      <th>heat_time</th>\n",
       "      <th>gas</th>\n",
       "      <th>temp_first</th>\n",
       "      <th>temp_last</th>\n",
       "      <th>iter_num</th>\n",
       "      <th>measure_time</th>\n",
       "      <th>Bulk 3</th>\n",
       "      <th>Bulk 4</th>\n",
       "      <th>Bulk 12</th>\n",
       "      <th>Bulk 14</th>\n",
       "      <th>Bulk 15</th>\n",
       "      <th>Wire 1</th>\n",
       "      <th>Wire 2</th>\n",
       "    </tr>\n",
       "  </thead>\n",
       "  <tbody>\n",
       "    <tr>\n",
       "      <th>0</th>\n",
       "      <td>1</td>\n",
       "      <td>4.878147</td>\n",
       "      <td>3.183241</td>\n",
       "      <td>1098.0</td>\n",
       "      <td>29.749986</td>\n",
       "      <td>1571.0</td>\n",
       "      <td>1613.0</td>\n",
       "      <td>5</td>\n",
       "      <td>861.0</td>\n",
       "      <td>0.0</td>\n",
       "      <td>43.0</td>\n",
       "      <td>206.0</td>\n",
       "      <td>150.0</td>\n",
       "      <td>154.0</td>\n",
       "      <td>60.059998</td>\n",
       "      <td>0.00000</td>\n",
       "    </tr>\n",
       "    <tr>\n",
       "      <th>1</th>\n",
       "      <td>2</td>\n",
       "      <td>3.052598</td>\n",
       "      <td>1.998112</td>\n",
       "      <td>811.0</td>\n",
       "      <td>12.555561</td>\n",
       "      <td>1581.0</td>\n",
       "      <td>1602.0</td>\n",
       "      <td>6</td>\n",
       "      <td>1305.0</td>\n",
       "      <td>0.0</td>\n",
       "      <td>73.0</td>\n",
       "      <td>206.0</td>\n",
       "      <td>149.0</td>\n",
       "      <td>154.0</td>\n",
       "      <td>96.052315</td>\n",
       "      <td>0.00000</td>\n",
       "    </tr>\n",
       "    <tr>\n",
       "      <th>2</th>\n",
       "      <td>3</td>\n",
       "      <td>2.525882</td>\n",
       "      <td>1.599076</td>\n",
       "      <td>655.0</td>\n",
       "      <td>28.554793</td>\n",
       "      <td>1596.0</td>\n",
       "      <td>1599.0</td>\n",
       "      <td>5</td>\n",
       "      <td>1300.0</td>\n",
       "      <td>0.0</td>\n",
       "      <td>34.0</td>\n",
       "      <td>205.0</td>\n",
       "      <td>152.0</td>\n",
       "      <td>153.0</td>\n",
       "      <td>91.160157</td>\n",
       "      <td>0.00000</td>\n",
       "    </tr>\n",
       "    <tr>\n",
       "      <th>3</th>\n",
       "      <td>4</td>\n",
       "      <td>3.209250</td>\n",
       "      <td>2.060298</td>\n",
       "      <td>741.0</td>\n",
       "      <td>18.841219</td>\n",
       "      <td>1601.0</td>\n",
       "      <td>1625.0</td>\n",
       "      <td>3</td>\n",
       "      <td>388.0</td>\n",
       "      <td>0.0</td>\n",
       "      <td>81.0</td>\n",
       "      <td>207.0</td>\n",
       "      <td>153.0</td>\n",
       "      <td>154.0</td>\n",
       "      <td>89.063515</td>\n",
       "      <td>0.00000</td>\n",
       "    </tr>\n",
       "    <tr>\n",
       "      <th>4</th>\n",
       "      <td>5</td>\n",
       "      <td>3.347173</td>\n",
       "      <td>2.252643</td>\n",
       "      <td>869.0</td>\n",
       "      <td>5.413692</td>\n",
       "      <td>1576.0</td>\n",
       "      <td>1602.0</td>\n",
       "      <td>2</td>\n",
       "      <td>762.0</td>\n",
       "      <td>0.0</td>\n",
       "      <td>78.0</td>\n",
       "      <td>203.0</td>\n",
       "      <td>151.0</td>\n",
       "      <td>152.0</td>\n",
       "      <td>89.238236</td>\n",
       "      <td>9.11456</td>\n",
       "    </tr>\n",
       "    <tr>\n",
       "      <th>...</th>\n",
       "      <td>...</td>\n",
       "      <td>...</td>\n",
       "      <td>...</td>\n",
       "      <td>...</td>\n",
       "      <td>...</td>\n",
       "      <td>...</td>\n",
       "      <td>...</td>\n",
       "      <td>...</td>\n",
       "      <td>...</td>\n",
       "      <td>...</td>\n",
       "      <td>...</td>\n",
       "      <td>...</td>\n",
       "      <td>...</td>\n",
       "      <td>...</td>\n",
       "      <td>...</td>\n",
       "      <td>...</td>\n",
       "    </tr>\n",
       "    <tr>\n",
       "      <th>3001</th>\n",
       "      <td>2496</td>\n",
       "      <td>4.203064</td>\n",
       "      <td>2.810185</td>\n",
       "      <td>940.0</td>\n",
       "      <td>9.412616</td>\n",
       "      <td>1554.0</td>\n",
       "      <td>1591.0</td>\n",
       "      <td>4</td>\n",
       "      <td>1618.0</td>\n",
       "      <td>0.0</td>\n",
       "      <td>63.0</td>\n",
       "      <td>256.0</td>\n",
       "      <td>129.0</td>\n",
       "      <td>226.0</td>\n",
       "      <td>114.179527</td>\n",
       "      <td>0.00000</td>\n",
       "    </tr>\n",
       "    <tr>\n",
       "      <th>3002</th>\n",
       "      <td>2497</td>\n",
       "      <td>2.212379</td>\n",
       "      <td>1.851269</td>\n",
       "      <td>569.0</td>\n",
       "      <td>6.271699</td>\n",
       "      <td>1571.0</td>\n",
       "      <td>1589.0</td>\n",
       "      <td>2</td>\n",
       "      <td>717.0</td>\n",
       "      <td>0.0</td>\n",
       "      <td>85.0</td>\n",
       "      <td>230.0</td>\n",
       "      <td>124.0</td>\n",
       "      <td>226.0</td>\n",
       "      <td>94.086723</td>\n",
       "      <td>9.04800</td>\n",
       "    </tr>\n",
       "    <tr>\n",
       "      <th>3003</th>\n",
       "      <td>2497</td>\n",
       "      <td>2.212379</td>\n",
       "      <td>1.851269</td>\n",
       "      <td>569.0</td>\n",
       "      <td>6.271699</td>\n",
       "      <td>1571.0</td>\n",
       "      <td>1589.0</td>\n",
       "      <td>2</td>\n",
       "      <td>717.0</td>\n",
       "      <td>0.0</td>\n",
       "      <td>85.0</td>\n",
       "      <td>230.0</td>\n",
       "      <td>124.0</td>\n",
       "      <td>226.0</td>\n",
       "      <td>94.086723</td>\n",
       "      <td>9.04800</td>\n",
       "    </tr>\n",
       "    <tr>\n",
       "      <th>3004</th>\n",
       "      <td>2498</td>\n",
       "      <td>3.408725</td>\n",
       "      <td>2.355428</td>\n",
       "      <td>750.0</td>\n",
       "      <td>14.953657</td>\n",
       "      <td>1591.0</td>\n",
       "      <td>1594.0</td>\n",
       "      <td>5</td>\n",
       "      <td>1302.0</td>\n",
       "      <td>90.0</td>\n",
       "      <td>0.0</td>\n",
       "      <td>206.0</td>\n",
       "      <td>129.0</td>\n",
       "      <td>207.0</td>\n",
       "      <td>118.110717</td>\n",
       "      <td>0.00000</td>\n",
       "    </tr>\n",
       "    <tr>\n",
       "      <th>3005</th>\n",
       "      <td>2499</td>\n",
       "      <td>4.098431</td>\n",
       "      <td>2.777865</td>\n",
       "      <td>883.0</td>\n",
       "      <td>11.336151</td>\n",
       "      <td>1569.0</td>\n",
       "      <td>1603.0</td>\n",
       "      <td>3</td>\n",
       "      <td>1203.0</td>\n",
       "      <td>47.0</td>\n",
       "      <td>0.0</td>\n",
       "      <td>233.0</td>\n",
       "      <td>126.0</td>\n",
       "      <td>227.0</td>\n",
       "      <td>110.160958</td>\n",
       "      <td>50.00528</td>\n",
       "    </tr>\n",
       "  </tbody>\n",
       "</table>\n",
       "<p>3006 rows × 16 columns</p>\n",
       "</div>"
      ],
      "text/plain": [
       "       key  ActivePower  ReactivePower  heat_time        gas  temp_first  \\\n",
       "0        1     4.878147       3.183241     1098.0  29.749986      1571.0   \n",
       "1        2     3.052598       1.998112      811.0  12.555561      1581.0   \n",
       "2        3     2.525882       1.599076      655.0  28.554793      1596.0   \n",
       "3        4     3.209250       2.060298      741.0  18.841219      1601.0   \n",
       "4        5     3.347173       2.252643      869.0   5.413692      1576.0   \n",
       "...    ...          ...            ...        ...        ...         ...   \n",
       "3001  2496     4.203064       2.810185      940.0   9.412616      1554.0   \n",
       "3002  2497     2.212379       1.851269      569.0   6.271699      1571.0   \n",
       "3003  2497     2.212379       1.851269      569.0   6.271699      1571.0   \n",
       "3004  2498     3.408725       2.355428      750.0  14.953657      1591.0   \n",
       "3005  2499     4.098431       2.777865      883.0  11.336151      1569.0   \n",
       "\n",
       "      temp_last  iter_num  measure_time  Bulk 3  Bulk 4  Bulk 12  Bulk 14  \\\n",
       "0        1613.0         5         861.0     0.0    43.0    206.0    150.0   \n",
       "1        1602.0         6        1305.0     0.0    73.0    206.0    149.0   \n",
       "2        1599.0         5        1300.0     0.0    34.0    205.0    152.0   \n",
       "3        1625.0         3         388.0     0.0    81.0    207.0    153.0   \n",
       "4        1602.0         2         762.0     0.0    78.0    203.0    151.0   \n",
       "...         ...       ...           ...     ...     ...      ...      ...   \n",
       "3001     1591.0         4        1618.0     0.0    63.0    256.0    129.0   \n",
       "3002     1589.0         2         717.0     0.0    85.0    230.0    124.0   \n",
       "3003     1589.0         2         717.0     0.0    85.0    230.0    124.0   \n",
       "3004     1594.0         5        1302.0    90.0     0.0    206.0    129.0   \n",
       "3005     1603.0         3        1203.0    47.0     0.0    233.0    126.0   \n",
       "\n",
       "      Bulk 15      Wire 1    Wire 2  \n",
       "0       154.0   60.059998   0.00000  \n",
       "1       154.0   96.052315   0.00000  \n",
       "2       153.0   91.160157   0.00000  \n",
       "3       154.0   89.063515   0.00000  \n",
       "4       152.0   89.238236   9.11456  \n",
       "...       ...         ...       ...  \n",
       "3001    226.0  114.179527   0.00000  \n",
       "3002    226.0   94.086723   9.04800  \n",
       "3003    226.0   94.086723   9.04800  \n",
       "3004    207.0  118.110717   0.00000  \n",
       "3005    227.0  110.160958  50.00528  \n",
       "\n",
       "[3006 rows x 16 columns]"
      ]
     },
     "execution_count": 44,
     "metadata": {},
     "output_type": "execute_result"
    }
   ],
   "source": [
    "df = data_arc.merge(data_gas, on='key', how='inner')\n",
    "df = df.merge(data_temp, on='key', how='inner')\n",
    "df = df.merge(data_bulk, on='key', how='inner')\n",
    "df = df.merge(data_wire, on='key', how='inner')\n",
    "df"
   ]
  },
  {
   "cell_type": "markdown",
   "id": "166441b6",
   "metadata": {},
   "source": [
    "Получаем итоговую таблицу, содержащую в себе 17 столбцов.\n",
    "\n",
    "Добавим новые столбцы, содержащие в себе полную мощность и коэффициент мощности(отношение активной мощности P к полной мощности S) по формулам:\n",
    "\n",
    "\n",
    "$$\n",
    "S = \\sqrt{P^2 + Q^2}\n",
    "$$\n",
    "\n",
    "    \n",
    "$$\n",
    "λ = \\frac{P}{S}\n",
    "$$   "
   ]
  },
  {
   "cell_type": "code",
   "execution_count": 45,
   "id": "27b6050e",
   "metadata": {},
   "outputs": [],
   "source": [
    "df['full_power'] = (df['ActivePower']**2 + df['ReactivePower']**2)**0.5 \n",
    "df['power_coef'] = df['ActivePower'] / df['full_power']"
   ]
  },
  {
   "cell_type": "markdown",
   "id": "0aafc518",
   "metadata": {},
   "source": [
    "## Исследовательский анализ данных"
   ]
  },
  {
   "cell_type": "markdown",
   "id": "d9252bc4",
   "metadata": {},
   "source": [
    "Посмотрим на взаимосвязь признаков:"
   ]
  },
  {
   "cell_type": "code",
   "execution_count": 46,
   "id": "a606de82",
   "metadata": {
    "scrolled": true
   },
   "outputs": [
    {
     "data": {
      "image/png": "[encoded data removed]",
      "text/plain": [
       "<Figure size 1728x864 with 2 Axes>"
      ]
     },
     "metadata": {
      "needs_background": "light"
     },
     "output_type": "display_data"
    }
   ],
   "source": [
    "plt.figure(figsize=(24,12))\n",
    "sns.heatmap(df.corr(),vmax=1,square=True,annot=True);"
   ]
  },
  {
   "cell_type": "markdown",
   "id": "33bf9c76",
   "metadata": {},
   "source": [
    "Можем увидеть мультиколлинеарность для признаков активной и реактивной мощности, а также времени нагрева и полной мощности. Удалим ключ и признаки мощностей, тк для них мы уже вычислили коэффициент:"
   ]
  },
  {
   "cell_type": "code",
   "execution_count": 47,
   "id": "ef2b046a",
   "metadata": {},
   "outputs": [
    {
     "data": {
      "image/png": "[encoded data removed]",
      "text/plain": [
       "<Figure size 1728x864 with 2 Axes>"
      ]
     },
     "metadata": {
      "needs_background": "light"
     },
     "output_type": "display_data"
    }
   ],
   "source": [
    "df = df.drop(['ReactivePower', 'ActivePower', 'key', 'heat_time'], axis=1)\n",
    "\n",
    "plt.figure(figsize=(24,12))\n",
    "sns.heatmap(df.corr(),vmax=1,square=True,annot=True);"
   ]
  },
  {
   "cell_type": "markdown",
   "id": "c6914dd8",
   "metadata": {},
   "source": [
    "Из тепловой карты можем увидеть, что в наибольшей степени конечная температура зависит от:\n",
    " - начальной температуры\n",
    " - полной мощности\n",
    " - объема подаваемых проволочных и сыпучих материалов\n",
    " \n",
    " \n",
    " Посмотрим на итоговое распределение признаков:"
   ]
  },
  {
   "cell_type": "code",
   "execution_count": 48,
   "id": "f98ca0cf",
   "metadata": {},
   "outputs": [
    {
     "data": {
      "image/png": "[encoded data removed]",
      "text/plain": [
       "<Figure size 1080x1080 with 14 Axes>"
      ]
     },
     "metadata": {
      "needs_background": "light"
     },
     "output_type": "display_data"
    }
   ],
   "source": [
    "cols = df.columns\n",
    "\n",
    "fig = plt.figure(figsize=(15,15))\n",
    "for i in range(len(cols)):\n",
    "    fig.add_subplot(4, 4, i+1)\n",
    "    plt.hist(df[cols[i]], bins=50)\n",
    "    plt.ylabel('Число измерений') \n",
    "    plt.xlabel(cols[i])\n",
    "    plt.tight_layout()\n",
    "    plt.grid(True);    "
   ]
  },
  {
   "cell_type": "markdown",
   "id": "bd5e3d2e",
   "metadata": {},
   "source": [
    "## Обучение моделей"
   ]
  },
  {
   "cell_type": "markdown",
   "id": "0a34e1e0",
   "metadata": {},
   "source": [
    "### Разделение на выборки"
   ]
  },
  {
   "cell_type": "code",
   "execution_count": 49,
   "id": "3e39a342",
   "metadata": {},
   "outputs": [],
   "source": [
    "X_train_, X_test_, y_train, y_test = train_test_split(df.drop('temp_last', axis=1), \n",
    "                                                    df['temp_last'], test_size=0.25, \n",
    "                                                    random_state=RANDOM_STATE)"
   ]
  },
  {
   "cell_type": "markdown",
   "id": "f6821a2f",
   "metadata": {},
   "source": [
    "Далее проведем масштабирование  данных:"
   ]
  },
  {
   "cell_type": "code",
   "execution_count": 50,
   "id": "cf8d9b21",
   "metadata": {},
   "outputs": [],
   "source": [
    "scaler = StandardScaler()\n",
    "scaler.fit(X_train_)\n",
    "X_train = scaler.transform(X_train_)\n",
    "X_test = scaler.transform(X_test_)"
   ]
  },
  {
   "cell_type": "code",
   "execution_count": 51,
   "id": "972e9753",
   "metadata": {},
   "outputs": [],
   "source": [
    "X_train_torch = torch.FloatTensor(X_train)\n",
    "y_train_torch = torch.FloatTensor(y_train.values)#.reshape(-1, 1)\n",
    "X_test_torch = torch.FloatTensor(X_test)\n",
    "y_test_torch = torch.FloatTensor(y_test.values)#.reshape(-1, 1)"
   ]
  },
  {
   "cell_type": "markdown",
   "id": "0670f922",
   "metadata": {},
   "source": [
    "Объявим функцию для поиска оптимальных параметров:"
   ]
  },
  {
   "cell_type": "code",
   "execution_count": 52,
   "id": "ca4552bf",
   "metadata": {},
   "outputs": [],
   "source": [
    "def grid(model, params):\n",
    "    grid = RandomizedSearchCV(model,\n",
    "    param_distributions=params, \n",
    "    scoring='neg_mean_absolute_error', \n",
    "    n_jobs=-1, cv=5)\n",
    "    grid.fit(X_train, y_train)\n",
    "    best_score_mae = round(grid.best_score_*-1, 3)\n",
    "    \n",
    "    grid = RandomizedSearchCV(model,\n",
    "    param_distributions=params, \n",
    "    scoring='r2', \n",
    "    n_jobs=-1, cv=5)\n",
    "    grid.fit(X_train, y_train)\n",
    "    best_score_r2 = round(grid.best_score_, 3)\n",
    "    \n",
    "    print('MAE на обучающей выборке:', best_score_mae)\n",
    "    print('R2 на обучающей выборке:', best_score_r2)\n",
    "    print('----------------------')\n",
    "    print('Oптимальные параметры:\\n', grid.best_params_)\n",
    "    return best_score_mae, best_score_r2"
   ]
  },
  {
   "cell_type": "markdown",
   "id": "2600ee12",
   "metadata": {},
   "source": [
    "### Линейная регрессия"
   ]
  },
  {
   "cell_type": "code",
   "execution_count": 53,
   "id": "1f749517",
   "metadata": {},
   "outputs": [
    {
     "name": "stdout",
     "output_type": "stream",
     "text": [
      "MAE на обучающей выборке: 6.911\n",
      "R2 на обучающей выборке: 0.373\n",
      "----------------------\n",
      "Oптимальные параметры:\n",
      " {}\n"
     ]
    }
   ],
   "source": [
    "params =  {}\n",
    "\n",
    "mae_lr, r2_lr = grid(LinearRegression(), params)"
   ]
  },
  {
   "cell_type": "markdown",
   "id": "9c45ae15",
   "metadata": {},
   "source": [
    "### Дерево решений"
   ]
  },
  {
   "cell_type": "code",
   "execution_count": 54,
   "id": "0b4ff218",
   "metadata": {},
   "outputs": [
    {
     "name": "stdout",
     "output_type": "stream",
     "text": [
      "MAE на обучающей выборке: 7.377\n",
      "R2 на обучающей выборке: 0.308\n",
      "----------------------\n",
      "Oптимальные параметры:\n",
      " {'min_samples_split': 6, 'min_samples_leaf': 5, 'max_depth': 9}\n"
     ]
    }
   ],
   "source": [
    "params =  {'max_depth': range (1,13, 2),\n",
    "           'min_samples_leaf': range (1,8),\n",
    "           'min_samples_split': range (2,10,2)}\n",
    "\n",
    "mae_dt, r2_dt = grid(DecisionTreeRegressor(random_state=RANDOM_STATE), params)"
   ]
  },
  {
   "cell_type": "markdown",
   "id": "73299bf1",
   "metadata": {},
   "source": [
    "### Случайный лес"
   ]
  },
  {
   "cell_type": "code",
   "execution_count": 55,
   "id": "8105c3cd",
   "metadata": {},
   "outputs": [
    {
     "name": "stdout",
     "output_type": "stream",
     "text": [
      "MAE на обучающей выборке: 5.95\n",
      "R2 на обучающей выборке: 0.495\n",
      "----------------------\n",
      "Oптимальные параметры:\n",
      " {'n_estimators': 25, 'min_samples_split': 8, 'min_samples_leaf': 1, 'max_depth': 11}\n"
     ]
    }
   ],
   "source": [
    "params =  {'n_estimators': range(10, 155, 15),\n",
    "           'max_depth': range (1,15),\n",
    "           'min_samples_leaf': range (1,8),\n",
    "           'min_samples_split': range (2,10,2)}\n",
    "           \n",
    "mae_rf, r2_rf = grid(RandomForestRegressor(random_state=RANDOM_STATE), params)"
   ]
  },
  {
   "cell_type": "markdown",
   "id": "1f7bc14d",
   "metadata": {},
   "source": [
    "### CatBoost"
   ]
  },
  {
   "cell_type": "code",
   "execution_count": 56,
   "id": "3e0e31e5",
   "metadata": {},
   "outputs": [
    {
     "name": "stdout",
     "output_type": "stream",
     "text": [
      "MAE на обучающей выборке: 5.63\n",
      "R2 на обучающей выборке: 0.575\n",
      "----------------------\n",
      "Oптимальные параметры:\n",
      " {'depth': 7}\n"
     ]
    }
   ],
   "source": [
    "params =  {'depth': range (4,10)}\n",
    "           \n",
    "mae_cb, r2_cb = grid(CatBoostRegressor(random_state=RANDOM_STATE, verbose=False), params)"
   ]
  },
  {
   "cell_type": "markdown",
   "id": "21406351",
   "metadata": {},
   "source": [
    "### LightGBM"
   ]
  },
  {
   "cell_type": "code",
   "execution_count": 57,
   "id": "a0fa6392",
   "metadata": {},
   "outputs": [
    {
     "name": "stdout",
     "output_type": "stream",
     "text": [
      "MAE на обучающей выборке: 5.851\n",
      "R2 на обучающей выборке: 0.546\n",
      "----------------------\n",
      "Oптимальные параметры:\n",
      " {'n_estimators': 115, 'max_depth': 10}\n"
     ]
    }
   ],
   "source": [
    "params =  {'max_depth': range (4,15),\n",
    "          'n_estimators': range(10, 155, 15) }\n",
    "           \n",
    "mae_lgbm, r2_lgbm = grid(LGBMRegressor(random_state=RANDOM_STATE), params)"
   ]
  },
  {
   "cell_type": "markdown",
   "id": "e7ffdb26",
   "metadata": {},
   "source": [
    "### Torch"
   ]
  },
  {
   "cell_type": "markdown",
   "id": "ecfb982f",
   "metadata": {},
   "source": [
    "Cначала объявим класс EarlyStopping, который будет предотвращать переобучение и останавливать цикл обучения по достижению оптимального значения:"
   ]
  },
  {
   "cell_type": "code",
   "execution_count": 58,
   "id": "fcee8130",
   "metadata": {},
   "outputs": [],
   "source": [
    "class EarlyStopping():\n",
    "    def __init__(self, patience=7, min_delta=0):\n",
    "\n",
    "        self.patience = patience\n",
    "        self.min_delta = min_delta\n",
    "        self.counter = 0\n",
    "        self.best_loss = None\n",
    "        self.early_stop = False\n",
    "        \n",
    "    def __call__(self, val_loss):\n",
    "        if self.best_loss == None:\n",
    "            self.best_loss = val_loss\n",
    "        elif self.best_loss - val_loss > self.min_delta:\n",
    "            self.best_loss = val_loss\n",
    "\n",
    "            self.counter = 0\n",
    "        elif self.best_loss - val_loss < self.min_delta:\n",
    "             self.counter += 1\n",
    "                \n",
    "             if self.counter >= self.patience:\n",
    "                print('Early stopping')\n",
    "                self.early_stop = True"
   ]
  },
  {
   "cell_type": "markdown",
   "id": "94dbeac0",
   "metadata": {},
   "source": [
    "Инициализируем нейронную сеть, состоящую из входных нейронов, двух скрытых слоев и выходного слоя:"
   ]
  },
  {
   "cell_type": "code",
   "execution_count": 59,
   "id": "10329baa",
   "metadata": {},
   "outputs": [],
   "source": [
    "class Net(nn.Module):\n",
    "    def __init__(self, input_size, hidden_size1, hidden_size2, hidden_size3, num_classes):\n",
    "        super(Net, self).__init__()\n",
    "        \n",
    "        self.fc1 = nn.Linear(input_size, hidden_size1)\n",
    "\n",
    "        self.act1 = nn.Tanh()\n",
    "        self.bn1 = nn.BatchNorm1d(hidden_size1)\n",
    "        \n",
    "        self.fc2 = nn.Linear(hidden_size1, hidden_size2) \n",
    "        self.act2 = nn.Tanh()\n",
    "        self.bn2 = nn.BatchNorm1d(hidden_size2)\n",
    "        \n",
    "        \n",
    "        #self.fc3 = nn.Linear(hidden_size2, num_classes) \n",
    "        self.fc3 = nn.Linear(hidden_size2, hidden_size3) \n",
    "        self.act3 = nn.Tanh()\n",
    "        self.bn3 = nn.BatchNorm1d(hidden_size3)\n",
    "        \n",
    "        \n",
    "        self.fc4 = nn.Linear(hidden_size3, num_classes) \n",
    "        \n",
    "        #self.bn3 = nn.BatchNorm1d(num_classes)\n",
    "        \n",
    "                        \n",
    "    def forward(self, x):\n",
    "        out = self.fc1(x)\n",
    "        out = self.act1(out)\n",
    "        out = self.bn1(out)\n",
    "       \n",
    "        out = self.fc2(out)\n",
    "        out = self.act2(out)\n",
    "        out = self.bn2(out)\n",
    "        #out = self.bn3(out)\n",
    "        \n",
    "        \n",
    "        out = self.fc3(out)\n",
    "        out = self.act3(out)\n",
    "        out = self.bn3(out)\n",
    "        \n",
    "        out = self.fc4(out)\n",
    "\n",
    "                \n",
    "        return out"
   ]
  },
  {
   "cell_type": "markdown",
   "id": "2fc66a27",
   "metadata": {},
   "source": [
    "Обучим сеть и получим метрики:"
   ]
  },
  {
   "cell_type": "code",
   "execution_count": 60,
   "id": "d2498435",
   "metadata": {},
   "outputs": [],
   "source": [
    "n_in_neurons = X_train.shape[1]\n",
    "hidden_size_1 = 150\n",
    "hidden_size_2 = 75\n",
    "hidden_size_3 = 25\n",
    "n_out_neurons = 1                                \n",
    "num_epochs = 1000  \n",
    "\n",
    "loss = nn.MSELoss() \n",
    "\n",
    "batch_size = 10\n",
    "dataset_train = torch.utils.data.TensorDataset(X_train_torch, y_train_torch)\n",
    "dataset_test = torch.utils.data.TensorDataset(X_test_torch, y_test_torch)\n",
    "\n",
    "train_dataloader = DataLoader(dataset_train, batch_size=batch_size, shuffle=True, num_workers=0)\n",
    "test_dataloader = DataLoader(dataset_test, batch_size=batch_size, num_workers=0)  \n",
    "net = Net(n_in_neurons, hidden_size_1, hidden_size_2, hidden_size_3, n_out_neurons)\n",
    "optimizer = torch.optim.Adam(net.parameters(), lr=8e-5)"
   ]
  },
  {
   "cell_type": "code",
   "execution_count": 61,
   "id": "cf4b412f",
   "metadata": {},
   "outputs": [
    {
     "name": "stderr",
     "output_type": "stream",
     "text": [
      " 43%|█████████████████████████████████▉                                             | 429/1000 [02:34<03:25,  2.78it/s]"
     ]
    },
    {
     "name": "stdout",
     "output_type": "stream",
     "text": [
      "Early stopping\n",
      "MAE: 5.774 | ep 429 from 1000 | best_epoch: 422\n",
      "R2: 0.545\n"
     ]
    },
    {
     "name": "stderr",
     "output_type": "stream",
     "text": [
      "\n"
     ]
    }
   ],
   "source": [
    "early_stopping = EarlyStopping() \n",
    "mae_torch = np.inf \n",
    "#mae_list = []\n",
    "    \n",
    "for epoch in tqdm(range(num_epochs)):\n",
    "    net.train()\n",
    "    for batch in train_dataloader:\n",
    "        data_train, temperature_train = batch  \n",
    "        optimizer.zero_grad()\n",
    "\n",
    "        preds = net.forward(data_train).flatten()\n",
    "\n",
    "        loss_value = torch.sqrt(loss(preds, temperature_train))\n",
    "        loss_value.backward()\n",
    "        optimizer.step()\n",
    "\n",
    "    predicted_temp = [] \n",
    "    with torch.no_grad():\n",
    "        net.eval()\n",
    "        for batch in test_dataloader:\n",
    "            data_test, temperature_test = batch\n",
    "  \n",
    "            test_preds = net.forward(data_test).flatten()\n",
    "            predicted_temp.append(test_preds)\n",
    "            RMSE_loss = torch.sqrt(loss(test_preds, temperature_test))\n",
    "\n",
    "    predicted_temp = torch.cat(predicted_temp).detach().numpy()\n",
    "    mae = mean_absolute_error(y_test_torch.detach().numpy(), predicted_temp)\n",
    "    #mae_list.append(mae)\n",
    "    if mae < mae_torch:\n",
    "        mae_torch = mae\n",
    "        best_epoch = epoch\n",
    "        test_preds_best = predicted_temp\n",
    "    early_stopping(mae)\n",
    "\n",
    "    if early_stopping.early_stop:\n",
    "        break \n",
    "mae_torch = round(mae_torch, 3)     \n",
    "r2_torch = round(r2_score(y_test_torch.detach().numpy(), predicted_temp), 3)\n",
    "print('MAE:', mae_torch, '| ep', epoch, 'from', num_epochs, '| best_epoch:', best_epoch)\n",
    "print('R2:', r2_torch)\n"
   ]
  },
  {
   "cell_type": "markdown",
   "id": "cf731102",
   "metadata": {},
   "source": [
    "### DummyRegressor"
   ]
  },
  {
   "cell_type": "markdown",
   "id": "c496e7a8",
   "metadata": {},
   "source": [
    "Для проверки адекватности модели сравним с константной моделью:"
   ]
  },
  {
   "cell_type": "code",
   "execution_count": 64,
   "id": "4df4f9ff",
   "metadata": {},
   "outputs": [
    {
     "name": "stdout",
     "output_type": "stream",
     "text": [
      "MAE на обучающей выборке: 8.833\n",
      "R2 на обучающей выборке: -0.001\n",
      "----------------------\n",
      "Oптимальные параметры:\n",
      " {}\n"
     ]
    }
   ],
   "source": [
    "params =  {}\n",
    "\n",
    "mae_dummy, r2_dummy = grid(DummyRegressor(strategy='mean'), params)"
   ]
  },
  {
   "cell_type": "markdown",
   "id": "eeeb8def",
   "metadata": {},
   "source": [
    "Объединим результаты в одну таблицу:"
   ]
  },
  {
   "cell_type": "code",
   "execution_count": 65,
   "id": "f5b95319",
   "metadata": {},
   "outputs": [
    {
     "data": {
      "text/html": [
       "<div>\n",
       "<style scoped>\n",
       "    .dataframe tbody tr th:only-of-type {\n",
       "        vertical-align: middle;\n",
       "    }\n",
       "\n",
       "    .dataframe tbody tr th {\n",
       "        vertical-align: top;\n",
       "    }\n",
       "\n",
       "    .dataframe thead th {\n",
       "        text-align: right;\n",
       "    }\n",
       "</style>\n",
       "<table border=\"1\" class=\"dataframe\">\n",
       "  <thead>\n",
       "    <tr style=\"text-align: right;\">\n",
       "      <th></th>\n",
       "      <th>MAE</th>\n",
       "      <th>R2</th>\n",
       "    </tr>\n",
       "  </thead>\n",
       "  <tbody>\n",
       "    <tr>\n",
       "      <th>CatBoost</th>\n",
       "      <td>5.630</td>\n",
       "      <td>0.575</td>\n",
       "    </tr>\n",
       "    <tr>\n",
       "      <th>Torch</th>\n",
       "      <td>5.774</td>\n",
       "      <td>0.545</td>\n",
       "    </tr>\n",
       "    <tr>\n",
       "      <th>LightGBM</th>\n",
       "      <td>5.851</td>\n",
       "      <td>0.546</td>\n",
       "    </tr>\n",
       "    <tr>\n",
       "      <th>RandomForest</th>\n",
       "      <td>5.950</td>\n",
       "      <td>0.495</td>\n",
       "    </tr>\n",
       "    <tr>\n",
       "      <th>LinearRegression</th>\n",
       "      <td>6.911</td>\n",
       "      <td>0.373</td>\n",
       "    </tr>\n",
       "    <tr>\n",
       "      <th>DescisionTree</th>\n",
       "      <td>7.377</td>\n",
       "      <td>0.308</td>\n",
       "    </tr>\n",
       "    <tr>\n",
       "      <th>DummyRegressor</th>\n",
       "      <td>8.833</td>\n",
       "      <td>-0.001</td>\n",
       "    </tr>\n",
       "  </tbody>\n",
       "</table>\n",
       "</div>"
      ],
      "text/plain": [
       "                    MAE     R2\n",
       "CatBoost          5.630  0.575\n",
       "Torch             5.774  0.545\n",
       "LightGBM          5.851  0.546\n",
       "RandomForest      5.950  0.495\n",
       "LinearRegression  6.911  0.373\n",
       "DescisionTree     7.377  0.308\n",
       "DummyRegressor    8.833 -0.001"
      ]
     },
     "execution_count": 65,
     "metadata": {},
     "output_type": "execute_result"
    }
   ],
   "source": [
    "d={'MAE':[mae_lr, mae_dt, mae_rf, mae_cb, mae_lgbm, mae_torch, mae_dummy],\n",
    "   'R2':[r2_lr, r2_dt, r2_rf, r2_cb, r2_lgbm, r2_torch, r2_dummy]}\n",
    "\n",
    "results = pd.DataFrame(data=d, index=['LinearRegression', \n",
    "                                      'DescisionTree', 'RandomForest', \n",
    "                                      'CatBoost', 'LightGBM', 'Torch', 'DummyRegressor'])\n",
    "results.sort_values(by='MAE')"
   ]
  },
  {
   "cell_type": "markdown",
   "id": "38fb727a",
   "metadata": {},
   "source": [
    "Лучший результат показывает СatBoost - 5.630 на обучающей выборке.\n",
    "\n",
    "Выделим наиболее значимые для модели признаки:"
   ]
  },
  {
   "cell_type": "code",
   "execution_count": 67,
   "id": "3d802dbf",
   "metadata": {},
   "outputs": [
    {
     "data": {
      "text/plain": [
       "0             gas\n",
       "1      temp_first\n",
       "2    measure_time\n",
       "3         Bulk 14\n",
       "4          Wire 1\n",
       "5      full_power\n",
       "6      power_coef\n",
       "dtype: object"
      ]
     },
     "execution_count": 67,
     "metadata": {},
     "output_type": "execute_result"
    }
   ],
   "source": [
    "smf = SelectFromModel(CatBoostRegressor(iterations=2500, depth=10, \n",
    "                                        random_state=RANDOM_STATE, verbose=False), threshold=-np.inf, max_features = 7)\n",
    "smf.fit(X_train, y_train)\n",
    "features_index = smf.get_support()\n",
    "features = X_train_.columns[features_index]\n",
    "pd.Series(features)"
   ]
  },
  {
   "cell_type": "markdown",
   "id": "8b14159f",
   "metadata": {},
   "source": [
    "Самым важным признаком для модели является объем газа."
   ]
  },
  {
   "cell_type": "code",
   "execution_count": 68,
   "id": "7dd1083b",
   "metadata": {},
   "outputs": [
    {
     "data": {
      "image/png": "[encoded data removed]",
      "text/plain": [
       "<Figure size 576x432 with 1 Axes>"
      ]
     },
     "metadata": {
      "needs_background": "light"
     },
     "output_type": "display_data"
    }
   ],
   "source": [
    "plt.figure(figsize=(8,6))\n",
    "plt.scatter(y_train, X_train_['gas'], alpha=0.4)\n",
    "plt.ylabel('Время нагрева')\n",
    "plt.xlabel('Конечная температура')\n",
    "plt.grid(True);"
   ]
  },
  {
   "cell_type": "markdown",
   "id": "56b5df97",
   "metadata": {},
   "source": [
    "## Тестирование модели"
   ]
  },
  {
   "cell_type": "markdown",
   "id": "297bc833",
   "metadata": {},
   "source": [
    "Протестируем подель на тестовой выборке с использованием оптимальных параметров - найдем метрики МАЕ и R2:"
   ]
  },
  {
   "cell_type": "code",
   "execution_count": 66,
   "id": "342f95f0",
   "metadata": {},
   "outputs": [
    {
     "name": "stdout",
     "output_type": "stream",
     "text": [
      "MAE на тестовой выборке: 5.21\n",
      "R2 на тестовой выборке: 0.633\n"
     ]
    }
   ],
   "source": [
    "model = CatBoostRegressor(iterations=2500, depth=7,random_state=RANDOM_STATE, verbose=False)\n",
    "model.fit(X_train, y_train)\n",
    "predicted_test = model.predict(X_test)\n",
    "mae = round(mean_absolute_error(y_test, predicted_test), 3)\n",
    "r2 = round(r2_score(y_test, predicted_test), 3)\n",
    "\n",
    "print('MAE на тестовой выборке:', mae)\n",
    "print('R2 на тестовой выборке:', r2)"
   ]
  },
  {
   "cell_type": "markdown",
   "id": "64c4c9ef",
   "metadata": {},
   "source": [
    "## Вывод"
   ]
  },
  {
   "cell_type": "markdown",
   "id": "aae90c7e",
   "metadata": {},
   "source": [
    "В ходе проделанной работы были выполнены:\n",
    "- загрузка и преобразование данных\n",
    "- исследование признаков в таблицах \n",
    "- объединение таблиц\n",
    "- обучение моделей и выбор лучшей \n",
    "\n",
    "\n",
    "Лучший результат MAE на тестовой выборке показала модель CatBoost - 5.21.\n",
    "Значение R2 модели на тестовой выборке - 0.633, это достаточно далеко от единицы и говорит о том, что модель может недостаточно хорошо работать с неизвестным набором данных.\n",
    "\n",
    "Также были выявлены признаки, наиболее влияющие на прогноз модели - \n",
    "\n",
    " - газ\n",
    " - начальная температура\n",
    " - время измерения\n",
    " - объем подаваемых материалов\n",
    " - коэффициент мощности\n",
    " \n",
    "Главными проблемами для проведения исследования являеются:\n",
    " - большое число выбросов и пропусков в данных, что негативно сказывается на прогнозе\n",
    " - малый объем данных - 3000 строк может быть недостаточно для точного прогноза."
   ]
  }
 ],
 "metadata": {
  "ExecuteTimeLog": [
   {
    "duration": 0,
    "start_time": "2023-05-07T10:46:30.897Z"
   },
   {
    "duration": 205,
    "start_time": "2023-05-07T10:46:32.994Z"
   },
   {
    "duration": 208,
    "start_time": "2023-05-07T10:47:05.798Z"
   },
   {
    "duration": 2262,
    "start_time": "2023-05-08T09:47:51.223Z"
   },
   {
    "duration": 3,
    "start_time": "2023-05-08T09:47:53.487Z"
   },
   {
    "duration": 8289,
    "start_time": "2023-05-08T09:47:53.492Z"
   },
   {
    "duration": 428,
    "start_time": "2023-05-08T09:48:01.783Z"
   },
   {
    "duration": 87,
    "start_time": "2023-05-08T09:48:02.213Z"
   },
   {
    "duration": 38,
    "start_time": "2023-05-08T09:48:02.302Z"
   },
   {
    "duration": 49,
    "start_time": "2023-05-08T09:48:02.342Z"
   },
   {
    "duration": 299,
    "start_time": "2023-05-08T09:48:02.393Z"
   },
   {
    "duration": 258,
    "start_time": "2023-05-08T09:48:02.694Z"
   },
   {
    "duration": 266,
    "start_time": "2023-05-08T09:48:02.954Z"
   },
   {
    "duration": 246,
    "start_time": "2023-05-08T09:48:03.221Z"
   },
   {
    "duration": 17,
    "start_time": "2023-05-08T09:48:03.469Z"
   },
   {
    "duration": 220,
    "start_time": "2023-05-08T09:48:03.488Z"
   },
   {
    "duration": 80,
    "start_time": "2023-05-08T09:48:03.712Z"
   },
   {
    "duration": 7,
    "start_time": "2023-05-08T09:48:03.793Z"
   },
   {
    "duration": 48,
    "start_time": "2023-05-08T09:48:03.801Z"
   },
   {
    "duration": 56,
    "start_time": "2023-05-08T09:48:03.851Z"
   },
   {
    "duration": 176,
    "start_time": "2023-05-08T09:48:03.909Z"
   },
   {
    "duration": 14,
    "start_time": "2023-05-08T09:48:04.087Z"
   },
   {
    "duration": 68,
    "start_time": "2023-05-08T09:48:04.103Z"
   },
   {
    "duration": 275,
    "start_time": "2023-05-08T09:48:04.172Z"
   },
   {
    "duration": 203,
    "start_time": "2023-05-08T09:48:04.449Z"
   },
   {
    "duration": 49,
    "start_time": "2023-05-08T09:48:04.654Z"
   },
   {
    "duration": 21,
    "start_time": "2023-05-08T09:48:04.705Z"
   },
   {
    "duration": 376,
    "start_time": "2023-05-08T09:48:04.728Z"
   },
   {
    "duration": 4,
    "start_time": "2023-05-08T09:48:05.106Z"
   },
   {
    "duration": 40,
    "start_time": "2023-05-08T09:48:05.111Z"
   },
   {
    "duration": 42,
    "start_time": "2023-05-08T09:48:05.152Z"
   },
   {
    "duration": 35,
    "start_time": "2023-05-08T09:48:05.195Z"
   },
   {
    "duration": 19,
    "start_time": "2023-05-08T09:48:05.231Z"
   },
   {
    "duration": 33,
    "start_time": "2023-05-08T09:48:05.252Z"
   },
   {
    "duration": 47,
    "start_time": "2023-05-08T09:48:05.287Z"
   },
   {
    "duration": 273,
    "start_time": "2023-05-08T09:48:05.336Z"
   },
   {
    "duration": 294,
    "start_time": "2023-05-08T09:48:05.612Z"
   },
   {
    "duration": 8,
    "start_time": "2023-05-08T09:48:05.908Z"
   },
   {
    "duration": 249,
    "start_time": "2023-05-08T09:48:05.918Z"
   },
   {
    "duration": 18,
    "start_time": "2023-05-08T09:48:06.169Z"
   },
   {
    "duration": 220,
    "start_time": "2023-05-08T09:48:06.189Z"
   },
   {
    "duration": 74,
    "start_time": "2023-05-08T09:48:06.411Z"
   },
   {
    "duration": 7,
    "start_time": "2023-05-08T09:48:06.489Z"
   },
   {
    "duration": 35,
    "start_time": "2023-05-08T09:48:06.500Z"
   },
   {
    "duration": 36,
    "start_time": "2023-05-08T09:48:06.537Z"
   },
   {
    "duration": 50,
    "start_time": "2023-05-08T09:48:06.574Z"
   },
   {
    "duration": 41,
    "start_time": "2023-05-08T09:48:06.625Z"
   },
   {
    "duration": 5,
    "start_time": "2023-05-08T09:48:06.668Z"
   },
   {
    "duration": 2854,
    "start_time": "2023-05-08T09:48:06.674Z"
   },
   {
    "duration": 1740,
    "start_time": "2023-05-08T09:48:09.530Z"
   },
   {
    "duration": 1379,
    "start_time": "2023-05-08T09:48:11.272Z"
   },
   {
    "duration": 3913,
    "start_time": "2023-05-08T09:48:27.500Z"
   },
   {
    "duration": 4118,
    "start_time": "2023-05-08T09:49:01.260Z"
   },
   {
    "duration": 2987,
    "start_time": "2023-05-08T09:49:22.106Z"
   },
   {
    "duration": 3314,
    "start_time": "2023-05-08T09:49:42.962Z"
   },
   {
    "duration": 21,
    "start_time": "2023-05-08T09:53:17.552Z"
   },
   {
    "duration": 1598,
    "start_time": "2023-05-08T09:53:28.924Z"
   },
   {
    "duration": 1303,
    "start_time": "2023-05-08T09:53:36.788Z"
   },
   {
    "duration": 2322,
    "start_time": "2023-05-08T09:54:44.378Z"
   },
   {
    "duration": 2558,
    "start_time": "2023-05-08T09:55:08.948Z"
   },
   {
    "duration": 2247,
    "start_time": "2023-05-08T09:55:21.499Z"
   },
   {
    "duration": 2586,
    "start_time": "2023-05-08T09:55:34.060Z"
   },
   {
    "duration": 2318,
    "start_time": "2023-05-08T09:55:45.663Z"
   },
   {
    "duration": 2477,
    "start_time": "2023-05-08T09:56:02.572Z"
   },
   {
    "duration": 2888,
    "start_time": "2023-05-08T09:56:13.364Z"
   },
   {
    "duration": 2506,
    "start_time": "2023-05-08T09:56:28.170Z"
   },
   {
    "duration": 2477,
    "start_time": "2023-05-08T09:56:45.629Z"
   },
   {
    "duration": 7,
    "start_time": "2023-05-08T09:58:02.686Z"
   },
   {
    "duration": 166,
    "start_time": "2023-05-08T09:58:05.114Z"
   },
   {
    "duration": 350,
    "start_time": "2023-05-08T09:58:36.062Z"
   },
   {
    "duration": 276,
    "start_time": "2023-05-08T09:59:08.209Z"
   },
   {
    "duration": 353,
    "start_time": "2023-05-08T09:59:40.915Z"
   },
   {
    "duration": 263,
    "start_time": "2023-05-08T09:59:51.625Z"
   },
   {
    "duration": 315,
    "start_time": "2023-05-08T10:00:00.685Z"
   },
   {
    "duration": 255,
    "start_time": "2023-05-08T10:00:13.622Z"
   },
   {
    "duration": 2553,
    "start_time": "2023-05-08T10:02:24.458Z"
   },
   {
    "duration": 3,
    "start_time": "2023-05-08T10:02:27.013Z"
   },
   {
    "duration": 24332,
    "start_time": "2023-05-08T10:02:27.018Z"
   },
   {
    "duration": 434,
    "start_time": "2023-05-08T10:02:51.352Z"
   },
   {
    "duration": 81,
    "start_time": "2023-05-08T10:02:51.788Z"
   },
   {
    "duration": 16,
    "start_time": "2023-05-08T10:02:51.871Z"
   },
   {
    "duration": 29,
    "start_time": "2023-05-08T10:02:51.889Z"
   },
   {
    "duration": 310,
    "start_time": "2023-05-08T10:02:51.920Z"
   },
   {
    "duration": 267,
    "start_time": "2023-05-08T10:02:52.232Z"
   },
   {
    "duration": 286,
    "start_time": "2023-05-08T10:02:52.501Z"
   },
   {
    "duration": 275,
    "start_time": "2023-05-08T10:02:52.789Z"
   },
   {
    "duration": 16,
    "start_time": "2023-05-08T10:02:53.067Z"
   },
   {
    "duration": 266,
    "start_time": "2023-05-08T10:02:53.085Z"
   },
   {
    "duration": 79,
    "start_time": "2023-05-08T10:02:53.354Z"
   },
   {
    "duration": 8,
    "start_time": "2023-05-08T10:02:53.434Z"
   },
   {
    "duration": 52,
    "start_time": "2023-05-08T10:02:53.443Z"
   },
   {
    "duration": 28,
    "start_time": "2023-05-08T10:02:53.496Z"
   },
   {
    "duration": 79,
    "start_time": "2023-05-08T10:02:53.525Z"
   },
   {
    "duration": 4474,
    "start_time": "2023-05-08T10:02:53.606Z"
   },
   {
    "duration": 0,
    "start_time": "2023-05-08T10:02:58.082Z"
   },
   {
    "duration": 0,
    "start_time": "2023-05-08T10:02:58.084Z"
   },
   {
    "duration": 0,
    "start_time": "2023-05-08T10:02:58.085Z"
   },
   {
    "duration": 0,
    "start_time": "2023-05-08T10:02:58.087Z"
   },
   {
    "duration": 0,
    "start_time": "2023-05-08T10:02:58.089Z"
   },
   {
    "duration": 0,
    "start_time": "2023-05-08T10:02:58.090Z"
   },
   {
    "duration": 0,
    "start_time": "2023-05-08T10:02:58.091Z"
   },
   {
    "duration": 0,
    "start_time": "2023-05-08T10:02:58.093Z"
   },
   {
    "duration": 0,
    "start_time": "2023-05-08T10:02:58.094Z"
   },
   {
    "duration": 0,
    "start_time": "2023-05-08T10:02:58.096Z"
   },
   {
    "duration": 0,
    "start_time": "2023-05-08T10:02:58.097Z"
   },
   {
    "duration": 0,
    "start_time": "2023-05-08T10:02:58.099Z"
   },
   {
    "duration": 0,
    "start_time": "2023-05-08T10:02:58.100Z"
   },
   {
    "duration": 0,
    "start_time": "2023-05-08T10:02:58.102Z"
   },
   {
    "duration": 0,
    "start_time": "2023-05-08T10:02:58.103Z"
   },
   {
    "duration": 0,
    "start_time": "2023-05-08T10:02:58.105Z"
   },
   {
    "duration": 0,
    "start_time": "2023-05-08T10:02:58.107Z"
   },
   {
    "duration": 0,
    "start_time": "2023-05-08T10:02:58.108Z"
   },
   {
    "duration": 0,
    "start_time": "2023-05-08T10:02:58.110Z"
   },
   {
    "duration": 0,
    "start_time": "2023-05-08T10:02:58.111Z"
   },
   {
    "duration": 0,
    "start_time": "2023-05-08T10:02:58.112Z"
   },
   {
    "duration": 0,
    "start_time": "2023-05-08T10:02:58.114Z"
   },
   {
    "duration": 0,
    "start_time": "2023-05-08T10:02:58.115Z"
   },
   {
    "duration": 0,
    "start_time": "2023-05-08T10:02:58.117Z"
   },
   {
    "duration": 0,
    "start_time": "2023-05-08T10:02:58.118Z"
   },
   {
    "duration": 0,
    "start_time": "2023-05-08T10:02:58.120Z"
   },
   {
    "duration": 0,
    "start_time": "2023-05-08T10:02:58.122Z"
   },
   {
    "duration": 0,
    "start_time": "2023-05-08T10:02:58.183Z"
   },
   {
    "duration": 0,
    "start_time": "2023-05-08T10:02:58.185Z"
   },
   {
    "duration": 0,
    "start_time": "2023-05-08T10:02:58.186Z"
   },
   {
    "duration": 0,
    "start_time": "2023-05-08T10:02:58.188Z"
   },
   {
    "duration": 0,
    "start_time": "2023-05-08T10:02:58.189Z"
   },
   {
    "duration": 0,
    "start_time": "2023-05-08T10:02:58.191Z"
   },
   {
    "duration": 0,
    "start_time": "2023-05-08T10:02:58.192Z"
   },
   {
    "duration": 0,
    "start_time": "2023-05-08T10:02:58.193Z"
   },
   {
    "duration": 0,
    "start_time": "2023-05-08T10:02:58.194Z"
   },
   {
    "duration": 0,
    "start_time": "2023-05-08T10:02:58.195Z"
   },
   {
    "duration": 0,
    "start_time": "2023-05-08T10:02:58.196Z"
   },
   {
    "duration": 0,
    "start_time": "2023-05-08T10:02:58.198Z"
   },
   {
    "duration": 0,
    "start_time": "2023-05-08T10:02:58.199Z"
   },
   {
    "duration": 0,
    "start_time": "2023-05-08T10:02:58.201Z"
   },
   {
    "duration": 0,
    "start_time": "2023-05-08T10:02:58.202Z"
   },
   {
    "duration": 0,
    "start_time": "2023-05-08T10:02:58.204Z"
   },
   {
    "duration": 0,
    "start_time": "2023-05-08T10:02:58.206Z"
   },
   {
    "duration": 0,
    "start_time": "2023-05-08T10:02:58.207Z"
   },
   {
    "duration": 0,
    "start_time": "2023-05-08T10:02:58.208Z"
   },
   {
    "duration": 0,
    "start_time": "2023-05-08T10:02:58.210Z"
   },
   {
    "duration": 2150,
    "start_time": "2023-05-08T10:03:19.748Z"
   },
   {
    "duration": 4,
    "start_time": "2023-05-08T10:03:21.900Z"
   },
   {
    "duration": 24536,
    "start_time": "2023-05-08T10:03:21.905Z"
   },
   {
    "duration": 446,
    "start_time": "2023-05-08T10:03:46.443Z"
   },
   {
    "duration": 77,
    "start_time": "2023-05-08T10:03:46.892Z"
   },
   {
    "duration": 15,
    "start_time": "2023-05-08T10:03:46.971Z"
   },
   {
    "duration": 24,
    "start_time": "2023-05-08T10:03:46.988Z"
   },
   {
    "duration": 340,
    "start_time": "2023-05-08T10:03:47.014Z"
   },
   {
    "duration": 275,
    "start_time": "2023-05-08T10:03:47.355Z"
   },
   {
    "duration": 294,
    "start_time": "2023-05-08T10:03:47.632Z"
   },
   {
    "duration": 291,
    "start_time": "2023-05-08T10:03:47.929Z"
   },
   {
    "duration": 10,
    "start_time": "2023-05-08T10:03:48.222Z"
   },
   {
    "duration": 252,
    "start_time": "2023-05-08T10:03:48.234Z"
   },
   {
    "duration": 89,
    "start_time": "2023-05-08T10:03:48.491Z"
   },
   {
    "duration": 16,
    "start_time": "2023-05-08T10:03:48.581Z"
   },
   {
    "duration": 29,
    "start_time": "2023-05-08T10:03:48.600Z"
   },
   {
    "duration": 26,
    "start_time": "2023-05-08T10:03:48.630Z"
   },
   {
    "duration": 71,
    "start_time": "2023-05-08T10:03:48.658Z"
   },
   {
    "duration": 15,
    "start_time": "2023-05-08T10:03:48.732Z"
   },
   {
    "duration": 72,
    "start_time": "2023-05-08T10:03:48.749Z"
   },
   {
    "duration": 311,
    "start_time": "2023-05-08T10:03:48.823Z"
   },
   {
    "duration": 100,
    "start_time": "2023-05-08T10:03:49.135Z"
   },
   {
    "duration": 70,
    "start_time": "2023-05-08T10:03:49.237Z"
   },
   {
    "duration": 11,
    "start_time": "2023-05-08T10:03:49.309Z"
   },
   {
    "duration": 283,
    "start_time": "2023-05-08T10:03:49.322Z"
   },
   {
    "duration": 4,
    "start_time": "2023-05-08T10:03:49.607Z"
   },
   {
    "duration": 14,
    "start_time": "2023-05-08T10:03:49.613Z"
   },
   {
    "duration": 11,
    "start_time": "2023-05-08T10:03:49.629Z"
   },
   {
    "duration": 13,
    "start_time": "2023-05-08T10:03:49.642Z"
   },
   {
    "duration": 11,
    "start_time": "2023-05-08T10:03:49.657Z"
   },
   {
    "duration": 27,
    "start_time": "2023-05-08T10:03:49.670Z"
   },
   {
    "duration": 172,
    "start_time": "2023-05-08T10:03:49.699Z"
   },
   {
    "duration": 351,
    "start_time": "2023-05-08T10:03:49.873Z"
   },
   {
    "duration": 282,
    "start_time": "2023-05-08T10:03:50.226Z"
   },
   {
    "duration": 7,
    "start_time": "2023-05-08T10:03:50.510Z"
   },
   {
    "duration": 257,
    "start_time": "2023-05-08T10:03:50.519Z"
   },
   {
    "duration": 21,
    "start_time": "2023-05-08T10:03:50.782Z"
   },
   {
    "duration": 123,
    "start_time": "2023-05-08T10:03:50.805Z"
   },
   {
    "duration": 84,
    "start_time": "2023-05-08T10:03:50.930Z"
   },
   {
    "duration": 8,
    "start_time": "2023-05-08T10:03:51.016Z"
   },
   {
    "duration": 18,
    "start_time": "2023-05-08T10:03:51.030Z"
   },
   {
    "duration": 24,
    "start_time": "2023-05-08T10:03:51.050Z"
   },
   {
    "duration": 29,
    "start_time": "2023-05-08T10:03:51.077Z"
   },
   {
    "duration": 36,
    "start_time": "2023-05-08T10:03:51.109Z"
   },
   {
    "duration": 6,
    "start_time": "2023-05-08T10:03:51.147Z"
   },
   {
    "duration": 1799,
    "start_time": "2023-05-08T10:03:51.155Z"
   },
   {
    "duration": 1075,
    "start_time": "2023-05-08T10:03:52.956Z"
   },
   {
    "duration": 3829,
    "start_time": "2023-05-08T10:03:54.035Z"
   },
   {
    "duration": 0,
    "start_time": "2023-05-08T10:03:57.866Z"
   },
   {
    "duration": 0,
    "start_time": "2023-05-08T10:03:57.867Z"
   },
   {
    "duration": 0,
    "start_time": "2023-05-08T10:03:57.869Z"
   },
   {
    "duration": 0,
    "start_time": "2023-05-08T10:03:57.870Z"
   },
   {
    "duration": 0,
    "start_time": "2023-05-08T10:03:57.883Z"
   },
   {
    "duration": 0,
    "start_time": "2023-05-08T10:03:57.884Z"
   },
   {
    "duration": 0,
    "start_time": "2023-05-08T10:03:57.885Z"
   },
   {
    "duration": 0,
    "start_time": "2023-05-08T10:03:57.886Z"
   },
   {
    "duration": 0,
    "start_time": "2023-05-08T10:03:57.888Z"
   },
   {
    "duration": 0,
    "start_time": "2023-05-08T10:03:57.889Z"
   },
   {
    "duration": 0,
    "start_time": "2023-05-08T10:03:57.890Z"
   },
   {
    "duration": 0,
    "start_time": "2023-05-08T10:03:57.892Z"
   },
   {
    "duration": 0,
    "start_time": "2023-05-08T10:03:57.894Z"
   },
   {
    "duration": 0,
    "start_time": "2023-05-08T10:03:57.895Z"
   },
   {
    "duration": 0,
    "start_time": "2023-05-08T10:03:57.896Z"
   },
   {
    "duration": 0,
    "start_time": "2023-05-08T10:03:57.898Z"
   },
   {
    "duration": 0,
    "start_time": "2023-05-08T10:03:57.899Z"
   },
   {
    "duration": 3,
    "start_time": "2023-05-08T10:04:54.634Z"
   },
   {
    "duration": 1972,
    "start_time": "2023-05-08T10:04:55.158Z"
   },
   {
    "duration": 8,
    "start_time": "2023-05-08T10:05:01.240Z"
   },
   {
    "duration": 91,
    "start_time": "2023-05-08T10:05:01.251Z"
   },
   {
    "duration": 55,
    "start_time": "2023-05-08T10:05:01.344Z"
   },
   {
    "duration": 62,
    "start_time": "2023-05-08T10:05:01.401Z"
   },
   {
    "duration": 44,
    "start_time": "2023-05-08T10:05:01.466Z"
   },
   {
    "duration": 88,
    "start_time": "2023-05-08T10:05:01.513Z"
   },
   {
    "duration": 1146,
    "start_time": "2023-05-08T10:05:01.603Z"
   },
   {
    "duration": 41849,
    "start_time": "2023-05-08T10:05:02.751Z"
   },
   {
    "duration": 287,
    "start_time": "2023-05-08T10:05:44.602Z"
   },
   {
    "duration": 6,
    "start_time": "2023-05-08T10:05:44.891Z"
   },
   {
    "duration": 15,
    "start_time": "2023-05-08T10:05:44.898Z"
   },
   {
    "duration": 25,
    "start_time": "2023-05-08T10:05:44.915Z"
   },
   {
    "duration": 214870,
    "start_time": "2023-05-08T10:05:44.942Z"
   },
   {
    "duration": 0,
    "start_time": "2023-05-08T10:09:19.814Z"
   },
   {
    "duration": 0,
    "start_time": "2023-05-08T10:09:19.815Z"
   },
   {
    "duration": 0,
    "start_time": "2023-05-08T10:09:19.815Z"
   },
   {
    "duration": 0,
    "start_time": "2023-05-08T10:09:19.816Z"
   },
   {
    "duration": 114,
    "start_time": "2023-05-08T10:09:36.833Z"
   },
   {
    "duration": 8,
    "start_time": "2023-05-08T10:09:42.811Z"
   },
   {
    "duration": 24,
    "start_time": "2023-05-08T10:09:48.276Z"
   },
   {
    "duration": 8,
    "start_time": "2023-05-08T10:09:53.913Z"
   },
   {
    "duration": 113,
    "start_time": "2023-05-08T10:09:58.493Z"
   },
   {
    "duration": 21,
    "start_time": "2023-05-08T10:10:02.052Z"
   },
   {
    "duration": 1592,
    "start_time": "2023-05-08T10:10:05.221Z"
   },
   {
    "duration": 9,
    "start_time": "2023-05-08T10:10:09.454Z"
   },
   {
    "duration": 12,
    "start_time": "2023-05-08T10:10:12.672Z"
   },
   {
    "duration": 33,
    "start_time": "2023-05-08T10:10:22.072Z"
   },
   {
    "duration": 132,
    "start_time": "2023-05-08T10:10:28.340Z"
   },
   {
    "duration": 107,
    "start_time": "2023-05-08T10:10:29.005Z"
   },
   {
    "duration": 10,
    "start_time": "2023-05-08T10:10:30.722Z"
   },
   {
    "duration": 29,
    "start_time": "2023-05-08T10:10:32.794Z"
   },
   {
    "duration": 58,
    "start_time": "2023-05-08T10:10:35.088Z"
   },
   {
    "duration": 180,
    "start_time": "2023-05-08T10:10:36.279Z"
   },
   {
    "duration": 16,
    "start_time": "2023-05-08T10:10:38.621Z"
   },
   {
    "duration": 6,
    "start_time": "2023-05-08T10:13:05.332Z"
   },
   {
    "duration": 569,
    "start_time": "2023-05-08T10:13:07.111Z"
   },
   {
    "duration": 11,
    "start_time": "2023-05-08T10:13:11.973Z"
   },
   {
    "duration": 19,
    "start_time": "2023-05-08T10:13:13.789Z"
   },
   {
    "duration": 126,
    "start_time": "2023-05-08T10:13:17.147Z"
   },
   {
    "duration": 79,
    "start_time": "2023-05-08T10:13:17.540Z"
   },
   {
    "duration": 7,
    "start_time": "2023-05-08T10:13:19.591Z"
   },
   {
    "duration": 24,
    "start_time": "2023-05-08T10:13:20.910Z"
   },
   {
    "duration": 30,
    "start_time": "2023-05-08T10:13:21.777Z"
   },
   {
    "duration": 206,
    "start_time": "2023-05-08T10:13:22.977Z"
   },
   {
    "duration": 12,
    "start_time": "2023-05-08T10:13:24.359Z"
   },
   {
    "duration": 5,
    "start_time": "2023-05-08T10:13:34.013Z"
   },
   {
    "duration": 173,
    "start_time": "2023-05-08T10:13:52.685Z"
   },
   {
    "duration": 112,
    "start_time": "2023-05-08T10:13:52.860Z"
   },
   {
    "duration": 13,
    "start_time": "2023-05-08T10:13:52.974Z"
   },
   {
    "duration": 33,
    "start_time": "2023-05-08T10:13:52.989Z"
   },
   {
    "duration": 274,
    "start_time": "2023-05-08T10:13:53.024Z"
   },
   {
    "duration": 254,
    "start_time": "2023-05-08T10:13:53.300Z"
   },
   {
    "duration": 316,
    "start_time": "2023-05-08T10:13:53.556Z"
   },
   {
    "duration": 317,
    "start_time": "2023-05-08T10:13:53.874Z"
   },
   {
    "duration": 11,
    "start_time": "2023-05-08T10:13:54.193Z"
   },
   {
    "duration": 128,
    "start_time": "2023-05-08T10:13:54.207Z"
   },
   {
    "duration": 80,
    "start_time": "2023-05-08T10:13:54.337Z"
   },
   {
    "duration": 8,
    "start_time": "2023-05-08T10:13:54.419Z"
   },
   {
    "duration": 29,
    "start_time": "2023-05-08T10:13:54.430Z"
   },
   {
    "duration": 55,
    "start_time": "2023-05-08T10:13:54.461Z"
   },
   {
    "duration": 343,
    "start_time": "2023-05-08T10:13:54.519Z"
   },
   {
    "duration": 25,
    "start_time": "2023-05-08T10:13:54.864Z"
   },
   {
    "duration": 61,
    "start_time": "2023-05-08T10:13:54.891Z"
   },
   {
    "duration": 331,
    "start_time": "2023-05-08T10:13:54.955Z"
   },
   {
    "duration": 101,
    "start_time": "2023-05-08T10:13:55.288Z"
   },
   {
    "duration": 43,
    "start_time": "2023-05-08T10:13:55.390Z"
   },
   {
    "duration": 15,
    "start_time": "2023-05-08T10:13:55.435Z"
   },
   {
    "duration": 323,
    "start_time": "2023-05-08T10:13:55.452Z"
   },
   {
    "duration": 4,
    "start_time": "2023-05-08T10:13:55.786Z"
   },
   {
    "duration": 19,
    "start_time": "2023-05-08T10:13:55.792Z"
   },
   {
    "duration": 14,
    "start_time": "2023-05-08T10:13:55.813Z"
   },
   {
    "duration": 7,
    "start_time": "2023-05-08T10:13:55.828Z"
   },
   {
    "duration": 12,
    "start_time": "2023-05-08T10:13:55.837Z"
   },
   {
    "duration": 12,
    "start_time": "2023-05-08T10:13:55.854Z"
   },
   {
    "duration": 25,
    "start_time": "2023-05-08T10:13:55.883Z"
   },
   {
    "duration": 468,
    "start_time": "2023-05-08T10:13:55.912Z"
   },
   {
    "duration": 277,
    "start_time": "2023-05-08T10:13:56.382Z"
   },
   {
    "duration": 7,
    "start_time": "2023-05-08T10:13:56.660Z"
   },
   {
    "duration": 248,
    "start_time": "2023-05-08T10:13:56.668Z"
   },
   {
    "duration": 19,
    "start_time": "2023-05-08T10:13:56.918Z"
   },
   {
    "duration": 96,
    "start_time": "2023-05-08T10:13:56.939Z"
   },
   {
    "duration": 59,
    "start_time": "2023-05-08T10:13:57.037Z"
   },
   {
    "duration": 7,
    "start_time": "2023-05-08T10:13:57.098Z"
   },
   {
    "duration": 18,
    "start_time": "2023-05-08T10:13:57.107Z"
   },
   {
    "duration": 15,
    "start_time": "2023-05-08T10:13:57.127Z"
   },
   {
    "duration": 55,
    "start_time": "2023-05-08T10:13:57.144Z"
   },
   {
    "duration": 38,
    "start_time": "2023-05-08T10:13:57.201Z"
   },
   {
    "duration": 6,
    "start_time": "2023-05-08T10:13:57.241Z"
   },
   {
    "duration": 1977,
    "start_time": "2023-05-08T10:13:57.249Z"
   },
   {
    "duration": 1648,
    "start_time": "2023-05-08T10:13:59.227Z"
   },
   {
    "duration": 7,
    "start_time": "2023-05-08T10:14:00.877Z"
   },
   {
    "duration": 2617,
    "start_time": "2023-05-08T10:14:00.886Z"
   },
   {
    "duration": 7,
    "start_time": "2023-05-08T10:14:03.505Z"
   },
   {
    "duration": 20,
    "start_time": "2023-05-08T10:14:03.514Z"
   },
   {
    "duration": 17,
    "start_time": "2023-05-08T10:14:03.535Z"
   },
   {
    "duration": 12,
    "start_time": "2023-05-08T10:14:03.554Z"
   },
   {
    "duration": 115,
    "start_time": "2023-05-08T10:14:03.568Z"
   },
   {
    "duration": 118,
    "start_time": "2023-05-08T10:14:03.685Z"
   },
   {
    "duration": 832,
    "start_time": "2023-05-08T10:14:03.805Z"
   },
   {
    "duration": 43050,
    "start_time": "2023-05-08T10:14:04.639Z"
   },
   {
    "duration": 315,
    "start_time": "2023-05-08T10:14:47.690Z"
   },
   {
    "duration": 79,
    "start_time": "2023-05-08T10:14:48.007Z"
   },
   {
    "duration": 15,
    "start_time": "2023-05-08T10:14:48.088Z"
   },
   {
    "duration": 9,
    "start_time": "2023-05-08T10:14:48.105Z"
   },
   {
    "duration": 449389,
    "start_time": "2023-05-08T10:14:48.115Z"
   },
   {
    "duration": 0,
    "start_time": "2023-05-08T10:22:17.505Z"
   },
   {
    "duration": 0,
    "start_time": "2023-05-08T10:22:17.506Z"
   },
   {
    "duration": 0,
    "start_time": "2023-05-08T10:22:17.507Z"
   },
   {
    "duration": 0,
    "start_time": "2023-05-08T10:22:17.508Z"
   },
   {
    "duration": 0,
    "start_time": "2023-05-08T10:22:17.509Z"
   },
   {
    "duration": 4871,
    "start_time": "2023-05-08T10:22:18.710Z"
   },
   {
    "duration": 2643,
    "start_time": "2023-05-08T10:22:37.765Z"
   },
   {
    "duration": 4566,
    "start_time": "2023-05-08T10:22:50.058Z"
   },
   {
    "duration": 322,
    "start_time": "2023-05-08T10:24:05.823Z"
   },
   {
    "duration": 87,
    "start_time": "2023-05-08T10:24:06.147Z"
   },
   {
    "duration": 35,
    "start_time": "2023-05-08T10:24:06.236Z"
   },
   {
    "duration": 36,
    "start_time": "2023-05-08T10:24:06.273Z"
   },
   {
    "duration": 281,
    "start_time": "2023-05-08T10:24:06.310Z"
   },
   {
    "duration": 242,
    "start_time": "2023-05-08T10:24:06.593Z"
   },
   {
    "duration": 242,
    "start_time": "2023-05-08T10:24:06.837Z"
   },
   {
    "duration": 253,
    "start_time": "2023-05-08T10:24:07.081Z"
   },
   {
    "duration": 10,
    "start_time": "2023-05-08T10:24:07.336Z"
   },
   {
    "duration": 112,
    "start_time": "2023-05-08T10:24:07.349Z"
   },
   {
    "duration": 76,
    "start_time": "2023-05-08T10:24:07.463Z"
   },
   {
    "duration": 7,
    "start_time": "2023-05-08T10:24:07.540Z"
   },
   {
    "duration": 26,
    "start_time": "2023-05-08T10:24:07.548Z"
   },
   {
    "duration": 37,
    "start_time": "2023-05-08T10:24:07.576Z"
   },
   {
    "duration": 307,
    "start_time": "2023-05-08T10:24:07.615Z"
   },
   {
    "duration": 14,
    "start_time": "2023-05-08T10:24:07.923Z"
   },
   {
    "duration": 55,
    "start_time": "2023-05-08T10:24:07.939Z"
   },
   {
    "duration": 254,
    "start_time": "2023-05-08T10:24:07.996Z"
   },
   {
    "duration": 110,
    "start_time": "2023-05-08T10:24:08.251Z"
   },
   {
    "duration": 45,
    "start_time": "2023-05-08T10:24:08.363Z"
   },
   {
    "duration": 41,
    "start_time": "2023-05-08T10:24:08.410Z"
   },
   {
    "duration": 292,
    "start_time": "2023-05-08T10:24:08.453Z"
   },
   {
    "duration": 2,
    "start_time": "2023-05-08T10:24:08.747Z"
   },
   {
    "duration": 12,
    "start_time": "2023-05-08T10:24:08.752Z"
   },
   {
    "duration": 17,
    "start_time": "2023-05-08T10:24:08.766Z"
   },
   {
    "duration": 14,
    "start_time": "2023-05-08T10:24:08.785Z"
   },
   {
    "duration": 16,
    "start_time": "2023-05-08T10:24:08.801Z"
   },
   {
    "duration": 17,
    "start_time": "2023-05-08T10:24:08.822Z"
   },
   {
    "duration": 24,
    "start_time": "2023-05-08T10:24:08.841Z"
   },
   {
    "duration": 274,
    "start_time": "2023-05-08T10:24:08.867Z"
   },
   {
    "duration": 476,
    "start_time": "2023-05-08T10:24:09.143Z"
   },
   {
    "duration": 8,
    "start_time": "2023-05-08T10:24:09.621Z"
   },
   {
    "duration": 313,
    "start_time": "2023-05-08T10:24:09.630Z"
   },
   {
    "duration": 16,
    "start_time": "2023-05-08T10:24:09.944Z"
   },
   {
    "duration": 97,
    "start_time": "2023-05-08T10:24:09.962Z"
   },
   {
    "duration": 61,
    "start_time": "2023-05-08T10:24:10.061Z"
   },
   {
    "duration": 6,
    "start_time": "2023-05-08T10:24:10.124Z"
   },
   {
    "duration": 17,
    "start_time": "2023-05-08T10:24:10.132Z"
   },
   {
    "duration": 33,
    "start_time": "2023-05-08T10:24:10.150Z"
   },
   {
    "duration": 32,
    "start_time": "2023-05-08T10:24:10.185Z"
   },
   {
    "duration": 42,
    "start_time": "2023-05-08T10:24:10.219Z"
   },
   {
    "duration": 21,
    "start_time": "2023-05-08T10:24:10.263Z"
   },
   {
    "duration": 2156,
    "start_time": "2023-05-08T10:24:10.286Z"
   },
   {
    "duration": 2017,
    "start_time": "2023-05-08T10:24:12.444Z"
   },
   {
    "duration": 5685,
    "start_time": "2023-05-08T10:24:14.463Z"
   },
   {
    "duration": 0,
    "start_time": "2023-05-08T10:24:20.150Z"
   },
   {
    "duration": 0,
    "start_time": "2023-05-08T10:24:20.152Z"
   },
   {
    "duration": 0,
    "start_time": "2023-05-08T10:24:20.153Z"
   },
   {
    "duration": 0,
    "start_time": "2023-05-08T10:24:20.154Z"
   },
   {
    "duration": 0,
    "start_time": "2023-05-08T10:24:20.155Z"
   },
   {
    "duration": 0,
    "start_time": "2023-05-08T10:24:20.157Z"
   },
   {
    "duration": 0,
    "start_time": "2023-05-08T10:24:20.158Z"
   },
   {
    "duration": 0,
    "start_time": "2023-05-08T10:24:20.160Z"
   },
   {
    "duration": 0,
    "start_time": "2023-05-08T10:24:20.161Z"
   },
   {
    "duration": 0,
    "start_time": "2023-05-08T10:24:20.184Z"
   },
   {
    "duration": 0,
    "start_time": "2023-05-08T10:24:20.185Z"
   },
   {
    "duration": 0,
    "start_time": "2023-05-08T10:24:20.187Z"
   },
   {
    "duration": 0,
    "start_time": "2023-05-08T10:24:20.189Z"
   },
   {
    "duration": 0,
    "start_time": "2023-05-08T10:24:20.190Z"
   },
   {
    "duration": 0,
    "start_time": "2023-05-08T10:24:20.191Z"
   },
   {
    "duration": 0,
    "start_time": "2023-05-08T10:24:20.192Z"
   },
   {
    "duration": 0,
    "start_time": "2023-05-08T10:24:20.194Z"
   },
   {
    "duration": 7,
    "start_time": "2023-05-08T10:24:30.679Z"
   },
   {
    "duration": 10,
    "start_time": "2023-05-08T10:24:31.656Z"
   },
   {
    "duration": 5,
    "start_time": "2023-05-08T10:24:32.607Z"
   },
   {
    "duration": 3,
    "start_time": "2023-05-08T10:24:33.609Z"
   },
   {
    "duration": 13,
    "start_time": "2023-05-08T10:24:34.799Z"
   },
   {
    "duration": 21,
    "start_time": "2023-05-08T10:24:37.037Z"
   },
   {
    "duration": 1183,
    "start_time": "2023-05-08T10:24:38.813Z"
   },
   {
    "duration": 59068,
    "start_time": "2023-05-08T10:24:45.450Z"
   },
   {
    "duration": 371,
    "start_time": "2023-05-08T10:25:44.521Z"
   },
   {
    "duration": 168,
    "start_time": "2023-05-08T10:27:52.108Z"
   },
   {
    "duration": 79,
    "start_time": "2023-05-08T10:27:52.278Z"
   },
   {
    "duration": 26,
    "start_time": "2023-05-08T10:27:52.359Z"
   },
   {
    "duration": 39,
    "start_time": "2023-05-08T10:27:52.387Z"
   },
   {
    "duration": 290,
    "start_time": "2023-05-08T10:27:52.428Z"
   },
   {
    "duration": 444,
    "start_time": "2023-05-08T10:27:52.720Z"
   },
   {
    "duration": 277,
    "start_time": "2023-05-08T10:27:53.166Z"
   },
   {
    "duration": 261,
    "start_time": "2023-05-08T10:27:53.445Z"
   },
   {
    "duration": 11,
    "start_time": "2023-05-08T10:27:53.708Z"
   },
   {
    "duration": 117,
    "start_time": "2023-05-08T10:27:53.722Z"
   },
   {
    "duration": 78,
    "start_time": "2023-05-08T10:27:53.840Z"
   },
   {
    "duration": 7,
    "start_time": "2023-05-08T10:27:53.919Z"
   },
   {
    "duration": 37,
    "start_time": "2023-05-08T10:27:53.928Z"
   },
   {
    "duration": 41,
    "start_time": "2023-05-08T10:27:53.967Z"
   },
   {
    "duration": 162,
    "start_time": "2023-05-08T10:27:54.009Z"
   },
   {
    "duration": 19,
    "start_time": "2023-05-08T10:27:54.172Z"
   },
   {
    "duration": 61,
    "start_time": "2023-05-08T10:27:54.193Z"
   },
   {
    "duration": 253,
    "start_time": "2023-05-08T10:27:54.256Z"
   },
   {
    "duration": 302,
    "start_time": "2023-05-08T10:27:54.512Z"
   },
   {
    "duration": 68,
    "start_time": "2023-05-08T10:27:54.817Z"
   },
   {
    "duration": 7,
    "start_time": "2023-05-08T10:27:54.890Z"
   },
   {
    "duration": 311,
    "start_time": "2023-05-08T10:27:54.899Z"
   },
   {
    "duration": 3,
    "start_time": "2023-05-08T10:27:55.212Z"
   },
   {
    "duration": 16,
    "start_time": "2023-05-08T10:27:55.217Z"
   },
   {
    "duration": 10,
    "start_time": "2023-05-08T10:27:55.234Z"
   },
   {
    "duration": 18,
    "start_time": "2023-05-08T10:27:55.246Z"
   },
   {
    "duration": 6,
    "start_time": "2023-05-08T10:27:55.266Z"
   },
   {
    "duration": 11,
    "start_time": "2023-05-08T10:27:55.284Z"
   },
   {
    "duration": 23,
    "start_time": "2023-05-08T10:27:55.297Z"
   },
   {
    "duration": 267,
    "start_time": "2023-05-08T10:27:55.322Z"
   },
   {
    "duration": 404,
    "start_time": "2023-05-08T10:27:55.591Z"
   },
   {
    "duration": 8,
    "start_time": "2023-05-08T10:27:55.998Z"
   },
   {
    "duration": 586,
    "start_time": "2023-05-08T10:27:56.008Z"
   },
   {
    "duration": 15,
    "start_time": "2023-05-08T10:27:56.596Z"
   },
   {
    "duration": 111,
    "start_time": "2023-05-08T10:27:56.613Z"
   },
   {
    "duration": 82,
    "start_time": "2023-05-08T10:27:56.725Z"
   },
   {
    "duration": 6,
    "start_time": "2023-05-08T10:27:56.809Z"
   },
   {
    "duration": 73,
    "start_time": "2023-05-08T10:27:56.817Z"
   },
   {
    "duration": 18,
    "start_time": "2023-05-08T10:27:56.891Z"
   },
   {
    "duration": 114,
    "start_time": "2023-05-08T10:27:56.911Z"
   },
   {
    "duration": 102,
    "start_time": "2023-05-08T10:27:57.028Z"
   },
   {
    "duration": 6,
    "start_time": "2023-05-08T10:27:57.182Z"
   },
   {
    "duration": 2426,
    "start_time": "2023-05-08T10:27:57.190Z"
   },
   {
    "duration": 2506,
    "start_time": "2023-05-08T10:27:59.618Z"
   },
   {
    "duration": 8,
    "start_time": "2023-05-08T10:28:02.125Z"
   },
   {
    "duration": 42,
    "start_time": "2023-05-08T10:28:02.134Z"
   },
   {
    "duration": 19,
    "start_time": "2023-05-08T10:28:02.177Z"
   },
   {
    "duration": 21,
    "start_time": "2023-05-08T10:28:02.198Z"
   },
   {
    "duration": 63,
    "start_time": "2023-05-08T10:28:02.221Z"
   },
   {
    "duration": 117,
    "start_time": "2023-05-08T10:28:02.287Z"
   },
   {
    "duration": 883,
    "start_time": "2023-05-08T10:28:02.406Z"
   },
   {
    "duration": 47028,
    "start_time": "2023-05-08T10:28:03.291Z"
   },
   {
    "duration": 279,
    "start_time": "2023-05-08T10:28:50.321Z"
   },
   {
    "duration": 5,
    "start_time": "2023-05-08T10:28:50.602Z"
   },
   {
    "duration": 13,
    "start_time": "2023-05-08T10:28:50.608Z"
   },
   {
    "duration": 66,
    "start_time": "2023-05-08T10:28:50.623Z"
   }
  ],
  "kernelspec": {
   "display_name": "Python 3 (ipykernel)",
   "language": "python",
   "name": "python3"
  },
  "language_info": {
   "codemirror_mode": {
    "name": "ipython",
    "version": 3
   },
   "file_extension": ".py",
   "mimetype": "text/x-python",
   "name": "python",
   "nbconvert_exporter": "python",
   "pygments_lexer": "ipython3",
   "version": "3.10.2"
  },
  "toc": {
   "base_numbering": 1,
   "nav_menu": {},
   "number_sections": true,
   "sideBar": true,
   "skip_h1_title": true,
   "title_cell": "Table of Contents",
   "title_sidebar": "Contents",
   "toc_cell": false,
   "toc_position": {
    "height": "calc(100% - 180px)",
    "left": "10px",
    "top": "150px",
    "width": "348.767px"
   },
   "toc_section_display": true,
   "toc_window_display": true
  }
 },
 "nbformat": 4,
 "nbformat_minor": 5
}
