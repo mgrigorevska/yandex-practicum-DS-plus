{
 "cells": [
  {
   "cell_type": "markdown",
   "metadata": {},
   "source": [
    "# Выбор локации для нефтяной скважины"
   ]
  },
  {
   "cell_type": "markdown",
   "metadata": {},
   "source": [
    "Заказчик проекта - нефтедобывающая компания. По представленным данным нужно определить оптимально месторождение для разработки.\n",
    "\n",
    "Предоставлены пробы нефти в трёх регионах: в каждом 10 000 месторождений, где измерили качество нефти и объём её запасов. Задача - построить модель машинного обучения, которая поможет определить регион, где добыча принесёт наибольшую прибыль и  проанализировать возможную прибыль и риски техникой *Bootstrap.*\n",
    "\n",
    "Шаги для выбора локации:\n",
    "\n",
    "- В избранном регионе ищут месторождения, для каждого определяют значения признаков;\n",
    "- Строят модель и оценивают объём запасов;\n",
    "- Выбирают месторождения с самым высокими оценками значений. Количество месторождений зависит от бюджета компании и стоимости разработки одной скважины;\n",
    "- Прибыль равна суммарной прибыли отобранных месторождений."
   ]
  },
  {
   "cell_type": "markdown",
   "metadata": {},
   "source": [
    "## Загрузка и подготовка данных"
   ]
  },
  {
   "cell_type": "markdown",
   "metadata": {},
   "source": [
    "### Обзор данных"
   ]
  },
  {
   "cell_type": "code",
   "execution_count": 2,
   "metadata": {},
   "outputs": [],
   "source": [
    "import pandas as pd \n",
    "import seaborn as sns\n",
    "import numpy as np\n",
    "from scipy import stats as st\n",
    "import matplotlib.pyplot as plt\n",
    "from sklearn.linear_model import LinearRegression\n",
    "from sklearn.model_selection import train_test_split\n",
    "from sklearn.metrics import mean_squared_error"
   ]
  },
  {
   "cell_type": "code",
   "execution_count": 3,
   "metadata": {},
   "outputs": [
    {
     "data": {
      "text/html": [
       "<div>\n",
       "<style scoped>\n",
       "    .dataframe tbody tr th:only-of-type {\n",
       "        vertical-align: middle;\n",
       "    }\n",
       "\n",
       "    .dataframe tbody tr th {\n",
       "        vertical-align: top;\n",
       "    }\n",
       "\n",
       "    .dataframe thead th {\n",
       "        text-align: right;\n",
       "    }\n",
       "</style>\n",
       "<table border=\"1\" class=\"dataframe\">\n",
       "  <thead>\n",
       "    <tr style=\"text-align: right;\">\n",
       "      <th></th>\n",
       "      <th>id</th>\n",
       "      <th>f0</th>\n",
       "      <th>f1</th>\n",
       "      <th>f2</th>\n",
       "      <th>product</th>\n",
       "    </tr>\n",
       "  </thead>\n",
       "  <tbody>\n",
       "    <tr>\n",
       "      <th>0</th>\n",
       "      <td>txEyH</td>\n",
       "      <td>0.705745</td>\n",
       "      <td>-0.497823</td>\n",
       "      <td>1.221170</td>\n",
       "      <td>105.280062</td>\n",
       "    </tr>\n",
       "    <tr>\n",
       "      <th>1</th>\n",
       "      <td>2acmU</td>\n",
       "      <td>1.334711</td>\n",
       "      <td>-0.340164</td>\n",
       "      <td>4.365080</td>\n",
       "      <td>73.037750</td>\n",
       "    </tr>\n",
       "    <tr>\n",
       "      <th>2</th>\n",
       "      <td>409Wp</td>\n",
       "      <td>1.022732</td>\n",
       "      <td>0.151990</td>\n",
       "      <td>1.419926</td>\n",
       "      <td>85.265647</td>\n",
       "    </tr>\n",
       "  </tbody>\n",
       "</table>\n",
       "</div>"
      ],
      "text/plain": [
       "      id        f0        f1        f2     product\n",
       "0  txEyH  0.705745 -0.497823  1.221170  105.280062\n",
       "1  2acmU  1.334711 -0.340164  4.365080   73.037750\n",
       "2  409Wp  1.022732  0.151990  1.419926   85.265647"
      ]
     },
     "metadata": {},
     "output_type": "display_data"
    },
    {
     "name": "stdout",
     "output_type": "stream",
     "text": [
      "<class 'pandas.core.frame.DataFrame'>\n",
      "RangeIndex: 100000 entries, 0 to 99999\n",
      "Data columns (total 5 columns):\n",
      " #   Column   Non-Null Count   Dtype  \n",
      "---  ------   --------------   -----  \n",
      " 0   id       100000 non-null  object \n",
      " 1   f0       100000 non-null  float64\n",
      " 2   f1       100000 non-null  float64\n",
      " 3   f2       100000 non-null  float64\n",
      " 4   product  100000 non-null  float64\n",
      "dtypes: float64(4), object(1)\n",
      "memory usage: 3.8+ MB\n"
     ]
    }
   ],
   "source": [
    "df_0 = pd.read_csv('/datasets/geo_data_0.csv')\n",
    "display(df_0.head(3))\n",
    "df_0.info()"
   ]
  },
  {
   "cell_type": "code",
   "execution_count": 4,
   "metadata": {},
   "outputs": [
    {
     "data": {
      "text/html": [
       "<div>\n",
       "<style scoped>\n",
       "    .dataframe tbody tr th:only-of-type {\n",
       "        vertical-align: middle;\n",
       "    }\n",
       "\n",
       "    .dataframe tbody tr th {\n",
       "        vertical-align: top;\n",
       "    }\n",
       "\n",
       "    .dataframe thead th {\n",
       "        text-align: right;\n",
       "    }\n",
       "</style>\n",
       "<table border=\"1\" class=\"dataframe\">\n",
       "  <thead>\n",
       "    <tr style=\"text-align: right;\">\n",
       "      <th></th>\n",
       "      <th>id</th>\n",
       "      <th>f0</th>\n",
       "      <th>f1</th>\n",
       "      <th>f2</th>\n",
       "      <th>product</th>\n",
       "    </tr>\n",
       "  </thead>\n",
       "  <tbody>\n",
       "    <tr>\n",
       "      <th>0</th>\n",
       "      <td>kBEdx</td>\n",
       "      <td>-15.001348</td>\n",
       "      <td>-8.276000</td>\n",
       "      <td>-0.005876</td>\n",
       "      <td>3.179103</td>\n",
       "    </tr>\n",
       "    <tr>\n",
       "      <th>1</th>\n",
       "      <td>62mP7</td>\n",
       "      <td>14.272088</td>\n",
       "      <td>-3.475083</td>\n",
       "      <td>0.999183</td>\n",
       "      <td>26.953261</td>\n",
       "    </tr>\n",
       "    <tr>\n",
       "      <th>2</th>\n",
       "      <td>vyE1P</td>\n",
       "      <td>6.263187</td>\n",
       "      <td>-5.948386</td>\n",
       "      <td>5.001160</td>\n",
       "      <td>134.766305</td>\n",
       "    </tr>\n",
       "  </tbody>\n",
       "</table>\n",
       "</div>"
      ],
      "text/plain": [
       "      id         f0        f1        f2     product\n",
       "0  kBEdx -15.001348 -8.276000 -0.005876    3.179103\n",
       "1  62mP7  14.272088 -3.475083  0.999183   26.953261\n",
       "2  vyE1P   6.263187 -5.948386  5.001160  134.766305"
      ]
     },
     "metadata": {},
     "output_type": "display_data"
    },
    {
     "name": "stdout",
     "output_type": "stream",
     "text": [
      "<class 'pandas.core.frame.DataFrame'>\n",
      "RangeIndex: 100000 entries, 0 to 99999\n",
      "Data columns (total 5 columns):\n",
      " #   Column   Non-Null Count   Dtype  \n",
      "---  ------   --------------   -----  \n",
      " 0   id       100000 non-null  object \n",
      " 1   f0       100000 non-null  float64\n",
      " 2   f1       100000 non-null  float64\n",
      " 3   f2       100000 non-null  float64\n",
      " 4   product  100000 non-null  float64\n",
      "dtypes: float64(4), object(1)\n",
      "memory usage: 3.8+ MB\n"
     ]
    }
   ],
   "source": [
    "df_1 = pd.read_csv('/datasets/geo_data_1.csv')\n",
    "display(df_1.head(3))\n",
    "df_1.info()"
   ]
  },
  {
   "cell_type": "code",
   "execution_count": 5,
   "metadata": {},
   "outputs": [
    {
     "data": {
      "text/html": [
       "<div>\n",
       "<style scoped>\n",
       "    .dataframe tbody tr th:only-of-type {\n",
       "        vertical-align: middle;\n",
       "    }\n",
       "\n",
       "    .dataframe tbody tr th {\n",
       "        vertical-align: top;\n",
       "    }\n",
       "\n",
       "    .dataframe thead th {\n",
       "        text-align: right;\n",
       "    }\n",
       "</style>\n",
       "<table border=\"1\" class=\"dataframe\">\n",
       "  <thead>\n",
       "    <tr style=\"text-align: right;\">\n",
       "      <th></th>\n",
       "      <th>id</th>\n",
       "      <th>f0</th>\n",
       "      <th>f1</th>\n",
       "      <th>f2</th>\n",
       "      <th>product</th>\n",
       "    </tr>\n",
       "  </thead>\n",
       "  <tbody>\n",
       "    <tr>\n",
       "      <th>0</th>\n",
       "      <td>fwXo0</td>\n",
       "      <td>-1.146987</td>\n",
       "      <td>0.963328</td>\n",
       "      <td>-0.828965</td>\n",
       "      <td>27.758673</td>\n",
       "    </tr>\n",
       "    <tr>\n",
       "      <th>1</th>\n",
       "      <td>WJtFt</td>\n",
       "      <td>0.262778</td>\n",
       "      <td>0.269839</td>\n",
       "      <td>-2.530187</td>\n",
       "      <td>56.069697</td>\n",
       "    </tr>\n",
       "    <tr>\n",
       "      <th>2</th>\n",
       "      <td>ovLUW</td>\n",
       "      <td>0.194587</td>\n",
       "      <td>0.289035</td>\n",
       "      <td>-5.586433</td>\n",
       "      <td>62.871910</td>\n",
       "    </tr>\n",
       "  </tbody>\n",
       "</table>\n",
       "</div>"
      ],
      "text/plain": [
       "      id        f0        f1        f2    product\n",
       "0  fwXo0 -1.146987  0.963328 -0.828965  27.758673\n",
       "1  WJtFt  0.262778  0.269839 -2.530187  56.069697\n",
       "2  ovLUW  0.194587  0.289035 -5.586433  62.871910"
      ]
     },
     "metadata": {},
     "output_type": "display_data"
    },
    {
     "name": "stdout",
     "output_type": "stream",
     "text": [
      "<class 'pandas.core.frame.DataFrame'>\n",
      "RangeIndex: 100000 entries, 0 to 99999\n",
      "Data columns (total 5 columns):\n",
      " #   Column   Non-Null Count   Dtype  \n",
      "---  ------   --------------   -----  \n",
      " 0   id       100000 non-null  object \n",
      " 1   f0       100000 non-null  float64\n",
      " 2   f1       100000 non-null  float64\n",
      " 3   f2       100000 non-null  float64\n",
      " 4   product  100000 non-null  float64\n",
      "dtypes: float64(4), object(1)\n",
      "memory usage: 3.8+ MB\n"
     ]
    }
   ],
   "source": [
    "df_2 = pd.read_csv('/datasets/geo_data_2.csv')\n",
    "display(df_2.head(3))\n",
    "df_2.info()"
   ]
  },
  {
   "cell_type": "markdown",
   "metadata": {},
   "source": [
    "В таблицах по 5 столбцов. Тип данных в столбцах — строки и вещественные числа, пропуски отсутствуют.\n",
    "\n",
    "Согласно документации к данным:\n",
    "\n",
    "- `id` — уникальный идентификатор скважины;\n",
    "- `f0, f1, f2` — три признака точек\n",
    "- `product` — объём запасов в скважине (тыс. баррелей).\n"
   ]
  },
  {
   "cell_type": "markdown",
   "metadata": {},
   "source": [
    "### Предобработка данных"
   ]
  },
  {
   "cell_type": "markdown",
   "metadata": {},
   "source": [
    "Проверим данные на наличие полных дубликатов:"
   ]
  },
  {
   "cell_type": "code",
   "execution_count": 6,
   "metadata": {},
   "outputs": [
    {
     "name": "stdout",
     "output_type": "stream",
     "text": [
      "0\n",
      "0\n",
      "0\n"
     ]
    }
   ],
   "source": [
    "print(df_0.duplicated().sum())\n",
    "print(df_1.duplicated().sum())\n",
    "print(df_2.duplicated().sum())"
   ]
  },
  {
   "cell_type": "markdown",
   "metadata": {},
   "source": [
    "Теперь проверим на дубликаты по id:"
   ]
  },
  {
   "cell_type": "code",
   "execution_count": 7,
   "metadata": {},
   "outputs": [
    {
     "name": "stdout",
     "output_type": "stream",
     "text": [
      "Доля дубликатов в регионе geo_data_0:  0.0001\n",
      "Доля дубликатов в регионе geo_data_1:  4e-05\n",
      "Доля дубликатов в регионе geo_data_2:  4e-05\n"
     ]
    }
   ],
   "source": [
    "print('Доля дубликатов в регионе geo_data_0: ', df_0['id'].duplicated().sum()/len(df_0))\n",
    "print('Доля дубликатов в регионе geo_data_1: ', df_1['id'].duplicated().sum()/len(df_1))\n",
    "print('Доля дубликатов в регионе geo_data_2: ', df_2['id'].duplicated().sum()/len(df_2))"
   ]
  },
  {
   "cell_type": "markdown",
   "metadata": {},
   "source": [
    "Дубликаты присутствуют, у них одинаковый id, но разные данные. Т.к их доля очень мала, можем удалить эти значения:"
   ]
  },
  {
   "cell_type": "code",
   "execution_count": 8,
   "metadata": {},
   "outputs": [],
   "source": [
    "df_0 = df_0.drop_duplicates(subset=['id'])\n",
    "df_1 = df_1.drop_duplicates(subset=['id'])\n",
    "df_2 = df_2.drop_duplicates(subset=['id'])"
   ]
  },
  {
   "cell_type": "markdown",
   "metadata": {},
   "source": [
    "## Обучение и проверка модели"
   ]
  },
  {
   "cell_type": "markdown",
   "metadata": {},
   "source": [
    "### Изучение признаков"
   ]
  },
  {
   "cell_type": "markdown",
   "metadata": {},
   "source": [
    "С помощью тепловой карты посмотрим на взаимосвязь признаков:"
   ]
  },
  {
   "cell_type": "code",
   "execution_count": 9,
   "metadata": {},
   "outputs": [
    {
     "data": {
      "image/png": "[encoded data removed]",
      "text/plain": [
       "<Figure size 432x288 with 2 Axes>"
      ]
     },
     "metadata": {
      "needs_background": "light"
     },
     "output_type": "display_data"
    }
   ],
   "source": [
    "sns.heatmap(df_0.corr(), annot=True, fmt='.1g', square=True)\n",
    "plt.title('Взаимосвязь признаков для региона geo_data_0')\n",
    "plt.show() "
   ]
  },
  {
   "cell_type": "code",
   "execution_count": 10,
   "metadata": {},
   "outputs": [
    {
     "data": {
      "image/png": "[encoded data removed]",
      "text/plain": [
       "<Figure size 432x288 with 2 Axes>"
      ]
     },
     "metadata": {
      "needs_background": "light"
     },
     "output_type": "display_data"
    }
   ],
   "source": [
    "sns.heatmap(df_1.corr(), annot=True, fmt='.1g', square=True)\n",
    "plt.title('Взаимосвязь признаков для региона geo_data_1')\n",
    "plt.show()"
   ]
  },
  {
   "cell_type": "code",
   "execution_count": 11,
   "metadata": {},
   "outputs": [
    {
     "data": {
      "image/png": "[encoded data removed]",
      "text/plain": [
       "<Figure size 432x288 with 2 Axes>"
      ]
     },
     "metadata": {
      "needs_background": "light"
     },
     "output_type": "display_data"
    }
   ],
   "source": [
    "sns.heatmap(df_2.corr(), annot=True, fmt='.1g', square=True)\n",
    "plt.title('Взаимосвязь признаков для региона geo_data_2')\n",
    "plt.show() "
   ]
  },
  {
   "cell_type": "markdown",
   "metadata": {},
   "source": [
    "Для региона geo_data_1 видим странное значение корреляции целевого признака от f2 равное единице, это может быть вызвано ошибкой в данных. Значения же корреляции для регионов geo_data_0 и geo_data_2 похожи, зависмость не сильная, в наибольшей степени на целевой признак `product` влияет признак `f2`. "
   ]
  },
  {
   "cell_type": "markdown",
   "metadata": {},
   "source": [
    "### Разбиение данных на выборки и обучение модели"
   ]
  },
  {
   "cell_type": "markdown",
   "metadata": {},
   "source": [
    "По условию задачи, для обучения модели будет использоваться только линейная регрессия, из-за недостаточной предсказуемости остальных."
   ]
  },
  {
   "cell_type": "code",
   "execution_count": 12,
   "metadata": {},
   "outputs": [],
   "source": [
    "model = LinearRegression()"
   ]
  },
  {
   "cell_type": "markdown",
   "metadata": {},
   "source": [
    "Разбивать данные на выборки и получать предсказания модели и RMSE будем с помощью функции:"
   ]
  },
  {
   "cell_type": "code",
   "execution_count": 13,
   "metadata": {},
   "outputs": [],
   "source": [
    "def predictions_rmse(df):\n",
    "    features = df.drop(['id', 'product'], axis = 1)\n",
    "    target = df['product']\n",
    "    features_train, features_valid, target_train, target_valid = train_test_split(features, target, test_size=0.25, random_state=12345)\n",
    "    model.fit(features_train, target_train)\n",
    "    predicted_valid = model.predict(features_valid)\n",
    "    rmse = (mean_squared_error(target_valid, predicted_valid))**0.5\n",
    "    print('средний запас сырья в регионе: ', predicted_valid.mean())\n",
    "    print('RMSE: ', rmse)\n",
    "    return predicted_valid, target_valid"
   ]
  },
  {
   "cell_type": "code",
   "execution_count": 14,
   "metadata": {},
   "outputs": [
    {
     "name": "stdout",
     "output_type": "stream",
     "text": [
      "Для региона geo_data_0:\n",
      "средний запас сырья в регионе:  92.78915638280621\n",
      "RMSE:  37.853527328872964\n",
      "------------------\n",
      "Для региона geo_data_1:\n",
      "средний запас сырья в регионе:  69.17831957030432\n",
      "RMSE:  0.892059264771703\n",
      "------------------\n",
      "Для региона geo_data_2:\n",
      "средний запас сырья в регионе:  94.86572480562035\n",
      "RMSE:  40.07585073246016\n"
     ]
    }
   ],
   "source": [
    "print('Для региона geo_data_0:')\n",
    "predicted_0, target_0 = predictions_rmse(df_0)\n",
    "print('------------------')\n",
    "print('Для региона geo_data_1:')\n",
    "predicted_1, target_1 = predictions_rmse(df_1)\n",
    "print('------------------')\n",
    "print('Для региона geo_data_2:')\n",
    "predicted_2, target_2 = predictions_rmse(df_2)"
   ]
  },
  {
   "cell_type": "markdown",
   "metadata": {},
   "source": [
    "Наименьшую RMSE видим в регионе geo_data_1, но скорее всего такое значение обусловлено обнаруженными выше подозрительными значеними признака f2. Средний запас сырья больше всего в регионах geo_data_0 и geo_data_1, но значение RMSE здесь очень велико."
   ]
  },
  {
   "cell_type": "markdown",
   "metadata": {},
   "source": [
    "## Подготовка к расчёту прибыли"
   ]
  },
  {
   "cell_type": "markdown",
   "metadata": {},
   "source": [
    "Сохраним в  отдельных переменных все ключевые значения для расчётов."
   ]
  },
  {
   "cell_type": "code",
   "execution_count": 15,
   "metadata": {},
   "outputs": [],
   "source": [
    "POINTS_NUM = 500       # общее число скважин для исследования\n",
    "BEST_POINTS_NUM = 200  # число скважин в одном регионе для разработки\n",
    "BUDGET = 10*(10**9)   # бюджет на разработку скважин в регионе\n",
    "INCOME = 450000        # доход с каждой единицы продукта\n",
    "RISK_MAX = 0.025       # максимальная вероятность убытков"
   ]
  },
  {
   "cell_type": "markdown",
   "metadata": {},
   "source": [
    "Рассчитаем достаточный объём сырья для безубыточной разработки новой скважины:"
   ]
  },
  {
   "cell_type": "code",
   "execution_count": 16,
   "metadata": {},
   "outputs": [
    {
     "data": {
      "text/plain": [
       "111.11111111111111"
      ]
     },
     "execution_count": 16,
     "metadata": {},
     "output_type": "execute_result"
    }
   ],
   "source": [
    "BUDGET / BEST_POINTS_NUM / INCOME"
   ]
  },
  {
   "cell_type": "markdown",
   "metadata": {},
   "source": [
    "Согласно полученным выше значениям среднего запаса сырья по регионам, ни в одном регионе нет достаточного количества для безубыточной разработки, но по условию задачи нужно исследовать 500 скважин и выбрать 200 лучших. Для этого определим функцию income_calc:"
   ]
  },
  {
   "cell_type": "code",
   "execution_count": 17,
   "metadata": {},
   "outputs": [],
   "source": [
    "def income_calc(target, predicted):\n",
    "    target = pd.Series(target).reset_index(drop=True)\n",
    "    predicted = pd.Series(predicted).reset_index(drop=True)\n",
    "    pred_sorted = predicted.sort_values(ascending=False)\n",
    "    selected = target[pred_sorted.index][:BEST_POINTS_NUM]\n",
    "    return INCOME * selected.sum() - BUDGET"
   ]
  },
  {
   "cell_type": "code",
   "execution_count": 21,
   "metadata": {},
   "outputs": [
    {
     "data": {
      "text/plain": [
       "3365187237.700287"
      ]
     },
     "execution_count": 21,
     "metadata": {},
     "output_type": "execute_result"
    }
   ],
   "source": [
    "check = income_calc(target_0, predicted_0)\n",
    "check"
   ]
  },
  {
   "cell_type": "markdown",
   "metadata": {},
   "source": [
    "Для оценки рисков определим функцию bootstrap:"
   ]
  },
  {
   "cell_type": "code",
   "execution_count": null,
   "metadata": {},
   "outputs": [],
   "source": [
    "def bootstrap(target, predicted):\n",
    "    state = np.random.RandomState(12345)\n",
    "    values = []\n",
    "    for i in range(1000):\n",
    "        target_subsample = target.reset_index(drop=True).sample(n=POINTS_NUM, replace=True, random_state=state)\n",
    "        predicted = pd.Series(predicted)\n",
    "        pred_subsample = predicted[target_subsample.index]\n",
    "        res = income_calc(target_subsample, pred_subsample)\n",
    "        values.append(res)\n",
    "    values = pd.Series(values)\n",
    "\n",
    "    lower = values.quantile(.025)\n",
    "    upper = values.quantile(.975)\n",
    "    mean = values.mean() \n",
    "    risks = (values < 0).mean() * 100   \n",
    "    print('Средняя выручка:', round(mean/1000000), 'млн.р.')\n",
    "    print('2.5%-квантиль:', round(lower/1000000), 'млн.р')\n",
    "    print('Доверительный интервал:  от', round(lower/1000000), 'до', round(upper/1000000), 'млн.р')\n",
    "    print('Bероятность убытков:', risks, '%')"
   ]
  },
  {
   "cell_type": "markdown",
   "metadata": {},
   "source": [
    "## Расчёт прибыли и рисков "
   ]
  },
  {
   "cell_type": "markdown",
   "metadata": {},
   "source": [
    "С помощью функции рассчитаем вероятность убытков для каждого из регионов:"
   ]
  },
  {
   "cell_type": "code",
   "execution_count": null,
   "metadata": {},
   "outputs": [],
   "source": [
    "print('Для региона geo_data_0:')\n",
    "bootstrap(target_0, predicted_0)\n",
    "print('--------------')\n",
    "print('Для региона geo_data_1:')\n",
    "bootstrap(target_1, predicted_1)\n",
    "print('--------------')\n",
    "print('Для региона geo_data_2:')\n",
    "bootstrap(target_2, predicted_2)"
   ]
  },
  {
   "cell_type": "markdown",
   "metadata": {},
   "source": [
    "Таким образом, в обозначенную границу вероятности убытков менее 2.5% попадает только регион geo_data_1. Также этот регион показывает наибольшую среднюю выручку в 478 млн.р. Однако, стоит учитывать, что в этом регионе мы обнаружили необычное значение признака f2, сильно коррелирующее с объемом продукта.  "
   ]
  },
  {
   "cell_type": "markdown",
   "metadata": {},
   "source": [
    "## Общий вывод"
   ]
  },
  {
   "cell_type": "markdown",
   "metadata": {},
   "source": [
    "По итогам исследования для разработки рекомендуется регион geo_data_1:\n",
    " - вероятность убытков до 1.2%\n",
    " - средняя прибыль имеет наибольшее значение среди остальных регонов."
   ]
  }
 ],
 "metadata": {
  "ExecuteTimeLog": [
   {
    "duration": 1719,
    "start_time": "2022-07-09T04:28:34.765Z"
   },
   {
    "duration": 165,
    "start_time": "2022-07-09T04:28:36.486Z"
   },
   {
    "duration": 0,
    "start_time": "2022-07-09T04:28:36.654Z"
   },
   {
    "duration": 0,
    "start_time": "2022-07-09T04:28:36.655Z"
   },
   {
    "duration": 0,
    "start_time": "2022-07-09T04:28:36.656Z"
   },
   {
    "duration": 0,
    "start_time": "2022-07-09T04:28:36.658Z"
   },
   {
    "duration": 0,
    "start_time": "2022-07-09T04:28:36.660Z"
   },
   {
    "duration": 1,
    "start_time": "2022-07-09T04:28:36.661Z"
   },
   {
    "duration": 0,
    "start_time": "2022-07-09T04:28:36.663Z"
   },
   {
    "duration": 0,
    "start_time": "2022-07-09T04:28:36.665Z"
   },
   {
    "duration": 0,
    "start_time": "2022-07-09T04:28:36.666Z"
   },
   {
    "duration": 0,
    "start_time": "2022-07-09T04:28:36.668Z"
   },
   {
    "duration": 0,
    "start_time": "2022-07-09T04:28:36.669Z"
   },
   {
    "duration": 3,
    "start_time": "2022-07-09T04:29:31.828Z"
   },
   {
    "duration": 690,
    "start_time": "2022-07-09T04:29:31.834Z"
   },
   {
    "duration": 238,
    "start_time": "2022-07-09T04:29:32.526Z"
   },
   {
    "duration": 216,
    "start_time": "2022-07-09T04:29:32.766Z"
   },
   {
    "duration": 154,
    "start_time": "2022-07-09T04:29:32.984Z"
   },
   {
    "duration": 42,
    "start_time": "2022-07-09T04:29:33.140Z"
   },
   {
    "duration": 106,
    "start_time": "2022-07-09T04:29:33.184Z"
   },
   {
    "duration": 422,
    "start_time": "2022-07-09T04:29:33.292Z"
   },
   {
    "duration": 324,
    "start_time": "2022-07-09T04:29:33.721Z"
   },
   {
    "duration": 319,
    "start_time": "2022-07-09T04:29:34.047Z"
   },
   {
    "duration": 3,
    "start_time": "2022-07-09T04:29:34.368Z"
   },
   {
    "duration": 7,
    "start_time": "2022-07-09T04:29:34.373Z"
   },
   {
    "duration": 35,
    "start_time": "2022-07-09T04:29:34.382Z"
   },
   {
    "duration": 4,
    "start_time": "2022-07-09T04:29:55.224Z"
   },
   {
    "duration": 207,
    "start_time": "2022-07-09T04:29:55.230Z"
   },
   {
    "duration": 203,
    "start_time": "2022-07-09T04:29:55.440Z"
   },
   {
    "duration": 133,
    "start_time": "2022-07-09T04:29:55.645Z"
   },
   {
    "duration": 129,
    "start_time": "2022-07-09T04:29:55.781Z"
   },
   {
    "duration": 47,
    "start_time": "2022-07-09T04:29:55.917Z"
   },
   {
    "duration": 74,
    "start_time": "2022-07-09T04:29:55.966Z"
   },
   {
    "duration": 313,
    "start_time": "2022-07-09T04:29:56.042Z"
   },
   {
    "duration": 334,
    "start_time": "2022-07-09T04:29:56.357Z"
   },
   {
    "duration": 431,
    "start_time": "2022-07-09T04:29:56.693Z"
   },
   {
    "duration": 3,
    "start_time": "2022-07-09T04:29:57.126Z"
   },
   {
    "duration": 7,
    "start_time": "2022-07-09T04:29:57.132Z"
   },
   {
    "duration": 463,
    "start_time": "2022-07-09T04:29:57.141Z"
   },
   {
    "duration": 46,
    "start_time": "2022-07-09T17:42:49.108Z"
   },
   {
    "duration": 3,
    "start_time": "2022-07-09T17:42:51.645Z"
   },
   {
    "duration": 8,
    "start_time": "2022-07-09T17:42:52.573Z"
   },
   {
    "duration": 6,
    "start_time": "2022-07-09T17:46:52.778Z"
   },
   {
    "duration": 8,
    "start_time": "2022-07-09T17:47:44.869Z"
   },
   {
    "duration": 4,
    "start_time": "2022-07-09T17:47:50.143Z"
   },
   {
    "duration": 8,
    "start_time": "2022-07-09T17:47:50.503Z"
   },
   {
    "duration": 3,
    "start_time": "2022-07-09T17:48:50.744Z"
   },
   {
    "duration": 5,
    "start_time": "2022-07-09T17:48:51.963Z"
   },
   {
    "duration": 1508,
    "start_time": "2022-07-09T17:50:00.246Z"
   },
   {
    "duration": 364,
    "start_time": "2022-07-09T17:50:01.757Z"
   },
   {
    "duration": 200,
    "start_time": "2022-07-09T17:50:02.122Z"
   },
   {
    "duration": 193,
    "start_time": "2022-07-09T17:50:02.324Z"
   },
   {
    "duration": 128,
    "start_time": "2022-07-09T17:50:02.518Z"
   },
   {
    "duration": 42,
    "start_time": "2022-07-09T17:50:02.648Z"
   },
   {
    "duration": 79,
    "start_time": "2022-07-09T17:50:02.701Z"
   },
   {
    "duration": 378,
    "start_time": "2022-07-09T17:50:02.781Z"
   },
   {
    "duration": 333,
    "start_time": "2022-07-09T17:50:03.161Z"
   },
   {
    "duration": 314,
    "start_time": "2022-07-09T17:50:03.501Z"
   },
   {
    "duration": 3,
    "start_time": "2022-07-09T17:50:03.816Z"
   },
   {
    "duration": 15,
    "start_time": "2022-07-09T17:50:03.821Z"
   },
   {
    "duration": 566,
    "start_time": "2022-07-09T17:50:03.838Z"
   },
   {
    "duration": 4,
    "start_time": "2022-07-09T17:50:04.409Z"
   },
   {
    "duration": 92,
    "start_time": "2022-07-09T17:50:04.415Z"
   },
   {
    "duration": 5,
    "start_time": "2022-07-09T18:07:50.737Z"
   },
   {
    "duration": 4,
    "start_time": "2022-07-09T18:12:07.491Z"
   },
   {
    "duration": 3,
    "start_time": "2022-07-09T18:14:44.059Z"
   },
   {
    "duration": 164,
    "start_time": "2022-07-09T18:14:44.065Z"
   },
   {
    "duration": 137,
    "start_time": "2022-07-09T18:14:44.231Z"
   },
   {
    "duration": 142,
    "start_time": "2022-07-09T18:14:44.370Z"
   },
   {
    "duration": 140,
    "start_time": "2022-07-09T18:14:44.514Z"
   },
   {
    "duration": 47,
    "start_time": "2022-07-09T18:14:44.656Z"
   },
   {
    "duration": 64,
    "start_time": "2022-07-09T18:14:44.705Z"
   },
   {
    "duration": 349,
    "start_time": "2022-07-09T18:14:44.771Z"
   },
   {
    "duration": 320,
    "start_time": "2022-07-09T18:14:45.122Z"
   },
   {
    "duration": 387,
    "start_time": "2022-07-09T18:14:45.444Z"
   },
   {
    "duration": 2,
    "start_time": "2022-07-09T18:14:45.833Z"
   },
   {
    "duration": 7,
    "start_time": "2022-07-09T18:14:45.837Z"
   },
   {
    "duration": 261,
    "start_time": "2022-07-09T18:14:45.846Z"
   },
   {
    "duration": 4,
    "start_time": "2022-07-09T18:14:46.110Z"
   },
   {
    "duration": 89,
    "start_time": "2022-07-09T18:14:46.115Z"
   },
   {
    "duration": 102,
    "start_time": "2022-07-09T18:14:46.206Z"
   },
   {
    "duration": 81,
    "start_time": "2022-07-09T18:14:46.310Z"
   },
   {
    "duration": 4,
    "start_time": "2022-07-09T18:15:06.075Z"
   },
   {
    "duration": 73,
    "start_time": "2022-07-09T18:17:34.939Z"
   },
   {
    "duration": 4,
    "start_time": "2022-07-09T18:18:30.054Z"
   },
   {
    "duration": 13,
    "start_time": "2022-07-09T18:18:30.505Z"
   },
   {
    "duration": 4,
    "start_time": "2022-07-09T18:20:26.239Z"
   },
   {
    "duration": 12,
    "start_time": "2022-07-09T18:20:26.599Z"
   },
   {
    "duration": 4,
    "start_time": "2022-07-09T18:20:50.036Z"
   },
   {
    "duration": 14,
    "start_time": "2022-07-09T18:20:50.377Z"
   },
   {
    "duration": 4,
    "start_time": "2022-07-09T18:20:57.441Z"
   },
   {
    "duration": 14,
    "start_time": "2022-07-09T18:20:57.789Z"
   },
   {
    "duration": 13,
    "start_time": "2022-07-09T18:24:22.136Z"
   },
   {
    "duration": 3,
    "start_time": "2022-07-09T18:24:43.825Z"
   },
   {
    "duration": 24,
    "start_time": "2022-07-09T18:24:44.239Z"
   },
   {
    "duration": 4,
    "start_time": "2022-07-09T18:27:25.367Z"
   },
   {
    "duration": 7,
    "start_time": "2022-07-09T18:27:26.754Z"
   },
   {
    "duration": 9,
    "start_time": "2022-07-09T18:27:35.359Z"
   },
   {
    "duration": 5,
    "start_time": "2022-07-09T18:27:40.271Z"
   },
   {
    "duration": 12,
    "start_time": "2022-07-09T18:27:41.137Z"
   },
   {
    "duration": 10,
    "start_time": "2022-07-09T18:29:49.841Z"
   },
   {
    "duration": 4,
    "start_time": "2022-07-09T18:29:51.854Z"
   },
   {
    "duration": 13,
    "start_time": "2022-07-09T18:29:52.337Z"
   },
   {
    "duration": 4,
    "start_time": "2022-07-09T18:31:58.582Z"
   },
   {
    "duration": 19,
    "start_time": "2022-07-09T18:31:59.061Z"
   },
   {
    "duration": 4,
    "start_time": "2022-07-09T18:32:16.261Z"
   },
   {
    "duration": 18,
    "start_time": "2022-07-09T18:32:16.650Z"
   },
   {
    "duration": 3,
    "start_time": "2022-07-09T18:32:26.841Z"
   },
   {
    "duration": 15,
    "start_time": "2022-07-09T18:32:27.149Z"
   },
   {
    "duration": 4,
    "start_time": "2022-07-09T18:34:15.849Z"
   },
   {
    "duration": 12,
    "start_time": "2022-07-09T18:34:18.841Z"
   },
   {
    "duration": 1384,
    "start_time": "2022-07-09T18:35:10.180Z"
   },
   {
    "duration": 146,
    "start_time": "2022-07-09T18:35:11.566Z"
   },
   {
    "duration": 124,
    "start_time": "2022-07-09T18:35:11.714Z"
   },
   {
    "duration": 129,
    "start_time": "2022-07-09T18:35:11.841Z"
   },
   {
    "duration": 141,
    "start_time": "2022-07-09T18:35:11.972Z"
   },
   {
    "duration": 45,
    "start_time": "2022-07-09T18:35:12.115Z"
   },
   {
    "duration": 80,
    "start_time": "2022-07-09T18:35:12.162Z"
   },
   {
    "duration": 326,
    "start_time": "2022-07-09T18:35:12.244Z"
   },
   {
    "duration": 333,
    "start_time": "2022-07-09T18:35:12.573Z"
   },
   {
    "duration": 308,
    "start_time": "2022-07-09T18:35:12.908Z"
   },
   {
    "duration": 4,
    "start_time": "2022-07-09T18:35:13.218Z"
   },
   {
    "duration": 10,
    "start_time": "2022-07-09T18:35:13.223Z"
   },
   {
    "duration": 370,
    "start_time": "2022-07-09T18:35:13.234Z"
   },
   {
    "duration": 3,
    "start_time": "2022-07-09T18:35:13.607Z"
   },
   {
    "duration": 191,
    "start_time": "2022-07-09T18:35:13.611Z"
   },
   {
    "duration": 12,
    "start_time": "2022-07-09T18:35:13.804Z"
   },
   {
    "duration": 23,
    "start_time": "2022-07-09T18:35:13.818Z"
   },
   {
    "duration": 6,
    "start_time": "2022-07-09T18:35:13.844Z"
   },
   {
    "duration": 146,
    "start_time": "2022-07-09T18:35:13.852Z"
   },
   {
    "duration": 4,
    "start_time": "2022-07-09T18:38:13.722Z"
   },
   {
    "duration": 13,
    "start_time": "2022-07-09T18:38:14.115Z"
   },
   {
    "duration": 4,
    "start_time": "2022-07-09T18:38:42.519Z"
   },
   {
    "duration": 14,
    "start_time": "2022-07-09T18:38:42.913Z"
   },
   {
    "duration": 6,
    "start_time": "2022-07-09T18:41:19.146Z"
   },
   {
    "duration": 20,
    "start_time": "2022-07-09T18:41:19.914Z"
   },
   {
    "duration": 5,
    "start_time": "2022-07-09T18:42:20.216Z"
   },
   {
    "duration": 17,
    "start_time": "2022-07-09T18:42:20.767Z"
   },
   {
    "duration": 59,
    "start_time": "2022-07-09T18:43:26.542Z"
   },
   {
    "duration": 4,
    "start_time": "2022-07-09T18:43:40.868Z"
   },
   {
    "duration": 4,
    "start_time": "2022-07-09T18:43:49.459Z"
   },
   {
    "duration": 30,
    "start_time": "2022-07-09T18:43:50.052Z"
   },
   {
    "duration": 4,
    "start_time": "2022-07-09T18:44:40.116Z"
   },
   {
    "duration": 10,
    "start_time": "2022-07-09T18:44:40.538Z"
   },
   {
    "duration": 4,
    "start_time": "2022-07-09T18:44:46.178Z"
   },
   {
    "duration": 12,
    "start_time": "2022-07-09T18:44:46.545Z"
   },
   {
    "duration": 4,
    "start_time": "2022-07-09T18:44:55.726Z"
   },
   {
    "duration": 9,
    "start_time": "2022-07-09T18:44:56.317Z"
   },
   {
    "duration": 4,
    "start_time": "2022-07-09T18:45:47.496Z"
   },
   {
    "duration": 16,
    "start_time": "2022-07-09T18:45:48.782Z"
   },
   {
    "duration": 3,
    "start_time": "2022-07-09T18:45:57.655Z"
   },
   {
    "duration": 18,
    "start_time": "2022-07-09T18:45:58.118Z"
   },
   {
    "duration": 4,
    "start_time": "2022-07-09T18:46:23.357Z"
   },
   {
    "duration": 18,
    "start_time": "2022-07-09T18:46:23.797Z"
   },
   {
    "duration": 5,
    "start_time": "2022-07-09T18:47:26.471Z"
   },
   {
    "duration": 4,
    "start_time": "2022-07-09T18:47:35.848Z"
   },
   {
    "duration": 19,
    "start_time": "2022-07-09T18:47:36.188Z"
   },
   {
    "duration": 3,
    "start_time": "2022-07-09T18:48:08.754Z"
   },
   {
    "duration": 29,
    "start_time": "2022-07-09T18:48:09.247Z"
   },
   {
    "duration": 3,
    "start_time": "2022-07-09T18:48:19.825Z"
   },
   {
    "duration": 20,
    "start_time": "2022-07-09T18:48:20.123Z"
   },
   {
    "duration": 3,
    "start_time": "2022-07-09T18:49:32.352Z"
   },
   {
    "duration": 29,
    "start_time": "2022-07-09T18:49:32.715Z"
   },
   {
    "duration": 4,
    "start_time": "2022-07-09T18:49:46.096Z"
   },
   {
    "duration": 19,
    "start_time": "2022-07-09T18:49:46.581Z"
   },
   {
    "duration": 6,
    "start_time": "2022-07-09T18:50:29.786Z"
   },
   {
    "duration": 20,
    "start_time": "2022-07-09T18:50:30.345Z"
   },
   {
    "duration": 4,
    "start_time": "2022-07-09T18:51:17.800Z"
   },
   {
    "duration": 18,
    "start_time": "2022-07-09T18:51:18.251Z"
   },
   {
    "duration": 4,
    "start_time": "2022-07-09T18:51:25.580Z"
   },
   {
    "duration": 26,
    "start_time": "2022-07-09T18:51:25.843Z"
   },
   {
    "duration": 13,
    "start_time": "2022-07-09T18:53:07.870Z"
   },
   {
    "duration": 10,
    "start_time": "2022-07-09T18:53:55.548Z"
   },
   {
    "duration": 5,
    "start_time": "2022-07-09T18:54:20.581Z"
   },
   {
    "duration": 8,
    "start_time": "2022-07-09T18:54:20.973Z"
   },
   {
    "duration": 3,
    "start_time": "2022-07-09T18:58:57.992Z"
   },
   {
    "duration": 9,
    "start_time": "2022-07-09T18:58:58.372Z"
   },
   {
    "duration": 12,
    "start_time": "2022-07-09T18:59:01.328Z"
   },
   {
    "duration": 3,
    "start_time": "2022-07-09T19:00:29.669Z"
   },
   {
    "duration": 10,
    "start_time": "2022-07-09T19:00:49.617Z"
   },
   {
    "duration": 5,
    "start_time": "2022-07-09T19:01:48.701Z"
   },
   {
    "duration": 12,
    "start_time": "2022-07-09T19:01:49.015Z"
   },
   {
    "duration": 5,
    "start_time": "2022-07-09T19:01:53.785Z"
   },
   {
    "duration": 12,
    "start_time": "2022-07-09T19:01:54.482Z"
   },
   {
    "duration": 4,
    "start_time": "2022-07-09T19:02:16.623Z"
   },
   {
    "duration": 12,
    "start_time": "2022-07-09T19:02:17.039Z"
   },
   {
    "duration": 45,
    "start_time": "2022-07-09T19:03:19.230Z"
   },
   {
    "duration": 2,
    "start_time": "2022-07-09T19:03:24.788Z"
   },
   {
    "duration": 11,
    "start_time": "2022-07-09T19:03:25.945Z"
   },
   {
    "duration": 11,
    "start_time": "2022-07-09T19:03:28.578Z"
   },
   {
    "duration": 3,
    "start_time": "2022-07-09T19:03:53.595Z"
   },
   {
    "duration": 20,
    "start_time": "2022-07-09T19:03:54.052Z"
   },
   {
    "duration": 11,
    "start_time": "2022-07-09T19:08:52.879Z"
   },
   {
    "duration": 11,
    "start_time": "2022-07-09T19:09:02.650Z"
   },
   {
    "duration": 10,
    "start_time": "2022-07-09T19:09:31.401Z"
   },
   {
    "duration": 11,
    "start_time": "2022-07-09T19:09:46.444Z"
   },
   {
    "duration": 11,
    "start_time": "2022-07-09T19:09:58.597Z"
   },
   {
    "duration": 10,
    "start_time": "2022-07-09T19:12:06.484Z"
   },
   {
    "duration": 10,
    "start_time": "2022-07-09T19:12:14.744Z"
   },
   {
    "duration": 8,
    "start_time": "2022-07-09T19:12:47.749Z"
   },
   {
    "duration": 3,
    "start_time": "2022-07-09T19:16:18.091Z"
   },
   {
    "duration": 22,
    "start_time": "2022-07-09T19:16:18.552Z"
   },
   {
    "duration": 4,
    "start_time": "2022-07-09T19:17:19.625Z"
   },
   {
    "duration": 13,
    "start_time": "2022-07-09T19:17:19.965Z"
   },
   {
    "duration": 13,
    "start_time": "2022-07-09T19:17:56.847Z"
   },
   {
    "duration": 17,
    "start_time": "2022-07-09T19:18:41.347Z"
   },
   {
    "duration": 10,
    "start_time": "2022-07-09T19:19:51.767Z"
   },
   {
    "duration": 5,
    "start_time": "2022-07-09T19:19:52.122Z"
   },
   {
    "duration": 19,
    "start_time": "2022-07-09T19:20:03.725Z"
   },
   {
    "duration": 17,
    "start_time": "2022-07-09T19:20:28.875Z"
   },
   {
    "duration": 3,
    "start_time": "2022-07-09T19:21:08.804Z"
   },
   {
    "duration": 9,
    "start_time": "2022-07-09T19:21:09.105Z"
   },
   {
    "duration": 8,
    "start_time": "2022-07-09T19:21:17.893Z"
   },
   {
    "duration": 8,
    "start_time": "2022-07-09T19:21:22.919Z"
   },
   {
    "duration": 17,
    "start_time": "2022-07-09T19:28:26.940Z"
   },
   {
    "duration": 16,
    "start_time": "2022-07-09T19:28:38.311Z"
   },
   {
    "duration": 17,
    "start_time": "2022-07-09T19:37:27.683Z"
   },
   {
    "duration": 14,
    "start_time": "2022-07-09T19:37:39.779Z"
   },
   {
    "duration": 4,
    "start_time": "2022-07-09T19:37:40.238Z"
   },
   {
    "duration": 12,
    "start_time": "2022-07-09T19:38:25.686Z"
   },
   {
    "duration": 12,
    "start_time": "2022-07-09T19:38:43.599Z"
   },
   {
    "duration": 17,
    "start_time": "2022-07-09T19:38:49.850Z"
   },
   {
    "duration": 12,
    "start_time": "2022-07-09T19:38:56.897Z"
   },
   {
    "duration": 1326,
    "start_time": "2022-07-09T19:39:16.324Z"
   },
   {
    "duration": 131,
    "start_time": "2022-07-09T19:39:17.651Z"
   },
   {
    "duration": 113,
    "start_time": "2022-07-09T19:39:17.784Z"
   },
   {
    "duration": 116,
    "start_time": "2022-07-09T19:39:17.901Z"
   },
   {
    "duration": 117,
    "start_time": "2022-07-09T19:39:18.020Z"
   },
   {
    "duration": 39,
    "start_time": "2022-07-09T19:39:18.139Z"
   },
   {
    "duration": 76,
    "start_time": "2022-07-09T19:39:18.180Z"
   },
   {
    "duration": 336,
    "start_time": "2022-07-09T19:39:18.258Z"
   },
   {
    "duration": 285,
    "start_time": "2022-07-09T19:39:18.600Z"
   },
   {
    "duration": 303,
    "start_time": "2022-07-09T19:39:18.888Z"
   },
   {
    "duration": 7,
    "start_time": "2022-07-09T19:39:19.193Z"
   },
   {
    "duration": 5,
    "start_time": "2022-07-09T19:39:19.202Z"
   },
   {
    "duration": 395,
    "start_time": "2022-07-09T19:39:19.209Z"
   },
   {
    "duration": 4,
    "start_time": "2022-07-09T19:39:19.607Z"
   },
   {
    "duration": 110,
    "start_time": "2022-07-09T19:39:19.613Z"
   },
   {
    "duration": 7,
    "start_time": "2022-07-09T19:39:19.724Z"
   },
   {
    "duration": 19,
    "start_time": "2022-07-09T19:39:19.732Z"
   },
   {
    "duration": 102,
    "start_time": "2022-07-09T19:39:19.752Z"
   },
   {
    "duration": 0,
    "start_time": "2022-07-09T19:39:19.856Z"
   },
   {
    "duration": 0,
    "start_time": "2022-07-09T19:39:19.858Z"
   },
   {
    "duration": 0,
    "start_time": "2022-07-09T19:39:19.859Z"
   },
   {
    "duration": 0,
    "start_time": "2022-07-09T19:39:19.861Z"
   },
   {
    "duration": 5,
    "start_time": "2022-07-09T19:40:18.190Z"
   },
   {
    "duration": 17,
    "start_time": "2022-07-09T19:40:18.930Z"
   },
   {
    "duration": 28,
    "start_time": "2022-07-09T19:40:39.730Z"
   },
   {
    "duration": 22,
    "start_time": "2022-07-09T19:40:53.928Z"
   },
   {
    "duration": 19,
    "start_time": "2022-07-09T19:45:09.796Z"
   },
   {
    "duration": 10,
    "start_time": "2022-07-09T19:45:19.998Z"
   },
   {
    "duration": 15,
    "start_time": "2022-07-09T19:45:26.348Z"
   },
   {
    "duration": 1479,
    "start_time": "2022-07-17T07:02:23.354Z"
   },
   {
    "duration": 425,
    "start_time": "2022-07-17T07:02:24.835Z"
   },
   {
    "duration": 222,
    "start_time": "2022-07-17T07:02:25.262Z"
   },
   {
    "duration": 218,
    "start_time": "2022-07-17T07:02:25.485Z"
   },
   {
    "duration": 114,
    "start_time": "2022-07-17T07:02:25.705Z"
   },
   {
    "duration": 45,
    "start_time": "2022-07-17T07:02:25.820Z"
   },
   {
    "duration": 81,
    "start_time": "2022-07-17T07:02:25.866Z"
   },
   {
    "duration": 336,
    "start_time": "2022-07-17T07:02:25.949Z"
   },
   {
    "duration": 340,
    "start_time": "2022-07-17T07:02:26.287Z"
   },
   {
    "duration": 302,
    "start_time": "2022-07-17T07:02:26.629Z"
   },
   {
    "duration": 4,
    "start_time": "2022-07-17T07:02:26.933Z"
   },
   {
    "duration": 7,
    "start_time": "2022-07-17T07:02:26.939Z"
   },
   {
    "duration": 397,
    "start_time": "2022-07-17T07:02:26.947Z"
   },
   {
    "duration": 74,
    "start_time": "2022-07-17T07:02:27.350Z"
   },
   {
    "duration": 116,
    "start_time": "2022-07-17T07:02:27.427Z"
   },
   {
    "duration": 7,
    "start_time": "2022-07-17T07:02:27.545Z"
   },
   {
    "duration": 12,
    "start_time": "2022-07-17T07:02:27.554Z"
   },
   {
    "duration": 118,
    "start_time": "2022-07-17T07:02:27.567Z"
   },
   {
    "duration": 0,
    "start_time": "2022-07-17T07:02:27.686Z"
   },
   {
    "duration": 0,
    "start_time": "2022-07-17T07:02:27.688Z"
   },
   {
    "duration": 0,
    "start_time": "2022-07-17T07:02:27.689Z"
   },
   {
    "duration": 0,
    "start_time": "2022-07-17T07:02:27.690Z"
   },
   {
    "duration": 10,
    "start_time": "2022-07-17T19:02:20.093Z"
   },
   {
    "duration": 43,
    "start_time": "2022-07-17T19:02:21.763Z"
   },
   {
    "duration": 1440,
    "start_time": "2022-07-17T19:02:26.006Z"
   },
   {
    "duration": 364,
    "start_time": "2022-07-17T19:02:27.448Z"
   },
   {
    "duration": 194,
    "start_time": "2022-07-17T19:02:27.814Z"
   },
   {
    "duration": 192,
    "start_time": "2022-07-17T19:02:28.010Z"
   },
   {
    "duration": 114,
    "start_time": "2022-07-17T19:02:28.204Z"
   },
   {
    "duration": 39,
    "start_time": "2022-07-17T19:02:28.320Z"
   },
   {
    "duration": 73,
    "start_time": "2022-07-17T19:02:28.361Z"
   },
   {
    "duration": 375,
    "start_time": "2022-07-17T19:02:28.436Z"
   },
   {
    "duration": 279,
    "start_time": "2022-07-17T19:02:28.813Z"
   },
   {
    "duration": 296,
    "start_time": "2022-07-17T19:02:29.095Z"
   },
   {
    "duration": 7,
    "start_time": "2022-07-17T19:02:29.393Z"
   },
   {
    "duration": 6,
    "start_time": "2022-07-17T19:02:29.402Z"
   },
   {
    "duration": 395,
    "start_time": "2022-07-17T19:02:29.409Z"
   },
   {
    "duration": 4,
    "start_time": "2022-07-17T19:02:29.806Z"
   },
   {
    "duration": 10,
    "start_time": "2022-07-17T19:02:29.902Z"
   },
   {
    "duration": 88,
    "start_time": "2022-07-17T19:02:29.913Z"
   },
   {
    "duration": 9,
    "start_time": "2022-07-17T19:02:30.003Z"
   },
   {
    "duration": 88,
    "start_time": "2022-07-17T19:02:30.014Z"
   },
   {
    "duration": 0,
    "start_time": "2022-07-17T19:02:30.104Z"
   },
   {
    "duration": 0,
    "start_time": "2022-07-17T19:02:30.105Z"
   },
   {
    "duration": 0,
    "start_time": "2022-07-17T19:02:30.106Z"
   },
   {
    "duration": 0,
    "start_time": "2022-07-17T19:02:30.107Z"
   },
   {
    "duration": 4,
    "start_time": "2022-07-17T19:06:02.881Z"
   },
   {
    "duration": 4,
    "start_time": "2022-07-17T19:06:04.185Z"
   },
   {
    "duration": 3,
    "start_time": "2022-07-17T19:06:30.673Z"
   },
   {
    "duration": 9,
    "start_time": "2022-07-17T19:06:31.200Z"
   },
   {
    "duration": 8,
    "start_time": "2022-07-17T19:06:46.210Z"
   },
   {
    "duration": 16,
    "start_time": "2022-07-17T19:06:50.913Z"
   },
   {
    "duration": 4,
    "start_time": "2022-07-17T19:06:51.524Z"
   },
   {
    "duration": 18,
    "start_time": "2022-07-17T19:06:53.321Z"
   },
   {
    "duration": 4,
    "start_time": "2022-07-17T19:11:08.905Z"
   },
   {
    "duration": 8,
    "start_time": "2022-07-17T19:11:09.285Z"
   },
   {
    "duration": 3,
    "start_time": "2022-07-17T19:11:51.086Z"
   },
   {
    "duration": 19,
    "start_time": "2022-07-17T19:12:02.927Z"
   },
   {
    "duration": 3,
    "start_time": "2022-07-17T19:25:50.550Z"
   },
   {
    "duration": 5,
    "start_time": "2022-07-17T19:26:01.462Z"
   },
   {
    "duration": 12,
    "start_time": "2022-07-17T19:31:23.044Z"
   },
   {
    "duration": 46,
    "start_time": "2022-07-17T19:33:13.211Z"
   },
   {
    "duration": 62,
    "start_time": "2022-07-17T19:33:20.000Z"
   },
   {
    "duration": 12,
    "start_time": "2022-07-17T19:33:39.786Z"
   },
   {
    "duration": 14,
    "start_time": "2022-07-17T19:33:55.345Z"
   },
   {
    "duration": 10,
    "start_time": "2022-07-17T19:35:12.753Z"
   },
   {
    "duration": 11,
    "start_time": "2022-07-17T19:35:22.369Z"
   },
   {
    "duration": 80,
    "start_time": "2022-07-17T19:35:31.976Z"
   },
   {
    "duration": 1299,
    "start_time": "2022-07-17T19:36:01.409Z"
   },
   {
    "duration": 17,
    "start_time": "2022-07-17T19:36:21.144Z"
   },
   {
    "duration": 8,
    "start_time": "2022-07-17T19:36:32.368Z"
   },
   {
    "duration": 12,
    "start_time": "2022-07-17T19:36:53.720Z"
   },
   {
    "duration": 11,
    "start_time": "2022-07-17T19:37:08.321Z"
   },
   {
    "duration": 5,
    "start_time": "2022-07-17T19:43:38.083Z"
   },
   {
    "duration": 14,
    "start_time": "2022-07-17T19:43:38.476Z"
   },
   {
    "duration": 3,
    "start_time": "2022-07-17T19:43:46.291Z"
   },
   {
    "duration": 18,
    "start_time": "2022-07-17T19:43:46.771Z"
   },
   {
    "duration": 4,
    "start_time": "2022-07-17T19:53:11.772Z"
   },
   {
    "duration": 17,
    "start_time": "2022-07-17T19:53:49.709Z"
   },
   {
    "duration": 12,
    "start_time": "2022-07-17T19:55:32.115Z"
   },
   {
    "duration": 13,
    "start_time": "2022-07-17T19:56:01.675Z"
   },
   {
    "duration": 12,
    "start_time": "2022-07-17T19:57:22.282Z"
   },
   {
    "duration": 5,
    "start_time": "2022-07-17T20:00:26.232Z"
   },
   {
    "duration": 10,
    "start_time": "2022-07-17T20:00:47.656Z"
   },
   {
    "duration": 4,
    "start_time": "2022-07-17T20:00:55.095Z"
   },
   {
    "duration": 6,
    "start_time": "2022-07-17T20:01:24.999Z"
   },
   {
    "duration": 5,
    "start_time": "2022-07-17T20:01:32.686Z"
   },
   {
    "duration": 4,
    "start_time": "2022-07-17T20:02:02.694Z"
   },
   {
    "duration": 400,
    "start_time": "2022-07-17T20:02:05.606Z"
   },
   {
    "duration": 6,
    "start_time": "2022-07-17T20:02:20.781Z"
   },
   {
    "duration": 6,
    "start_time": "2022-07-17T20:02:44.605Z"
   },
   {
    "duration": 3,
    "start_time": "2022-07-17T20:02:49.397Z"
   },
   {
    "duration": 15,
    "start_time": "2022-07-17T20:02:49.941Z"
   },
   {
    "duration": 5,
    "start_time": "2022-07-17T20:02:55.537Z"
   },
   {
    "duration": 4,
    "start_time": "2022-07-17T20:03:06.541Z"
   },
   {
    "duration": 3,
    "start_time": "2022-07-17T20:03:11.123Z"
   },
   {
    "duration": 142,
    "start_time": "2022-07-17T20:03:11.127Z"
   },
   {
    "duration": 130,
    "start_time": "2022-07-17T20:03:11.271Z"
   },
   {
    "duration": 144,
    "start_time": "2022-07-17T20:03:11.402Z"
   },
   {
    "duration": 110,
    "start_time": "2022-07-17T20:03:11.548Z"
   },
   {
    "duration": 48,
    "start_time": "2022-07-17T20:03:11.659Z"
   },
   {
    "duration": 53,
    "start_time": "2022-07-17T20:03:11.709Z"
   },
   {
    "duration": 351,
    "start_time": "2022-07-17T20:03:11.764Z"
   },
   {
    "duration": 371,
    "start_time": "2022-07-17T20:03:12.116Z"
   },
   {
    "duration": 300,
    "start_time": "2022-07-17T20:03:12.489Z"
   },
   {
    "duration": 10,
    "start_time": "2022-07-17T20:03:12.791Z"
   },
   {
    "duration": 6,
    "start_time": "2022-07-17T20:03:12.803Z"
   },
   {
    "duration": 296,
    "start_time": "2022-07-17T20:03:12.811Z"
   },
   {
    "duration": 5,
    "start_time": "2022-07-17T20:03:13.109Z"
   },
   {
    "duration": 188,
    "start_time": "2022-07-17T20:03:13.115Z"
   },
   {
    "duration": 5,
    "start_time": "2022-07-17T20:03:13.305Z"
   },
   {
    "duration": 11,
    "start_time": "2022-07-17T20:03:13.312Z"
   },
   {
    "duration": 5,
    "start_time": "2022-07-17T20:03:13.324Z"
   },
   {
    "duration": 6,
    "start_time": "2022-07-17T20:03:13.330Z"
   },
   {
    "duration": 12,
    "start_time": "2022-07-17T20:03:13.338Z"
   },
   {
    "duration": 0,
    "start_time": "2022-07-17T20:03:13.351Z"
   },
   {
    "duration": 0,
    "start_time": "2022-07-17T20:03:13.353Z"
   },
   {
    "duration": 0,
    "start_time": "2022-07-17T20:03:13.354Z"
   },
   {
    "duration": 0,
    "start_time": "2022-07-17T20:03:13.355Z"
   },
   {
    "duration": 11,
    "start_time": "2022-07-17T20:04:36.804Z"
   },
   {
    "duration": 8,
    "start_time": "2022-07-17T20:04:50.620Z"
   },
   {
    "duration": 60,
    "start_time": "2022-07-17T20:05:13.419Z"
   },
   {
    "duration": 5,
    "start_time": "2022-07-17T20:05:20.971Z"
   },
   {
    "duration": 5,
    "start_time": "2022-07-17T20:05:36.123Z"
   },
   {
    "duration": 4,
    "start_time": "2022-07-17T20:05:47.354Z"
   },
   {
    "duration": 3,
    "start_time": "2022-07-17T20:05:47.867Z"
   },
   {
    "duration": 13,
    "start_time": "2022-07-17T20:05:48.483Z"
   },
   {
    "duration": 5,
    "start_time": "2022-07-17T20:06:21.883Z"
   },
   {
    "duration": 4,
    "start_time": "2022-07-17T20:06:29.298Z"
   },
   {
    "duration": 12,
    "start_time": "2022-07-17T20:06:45.498Z"
   },
   {
    "duration": 11,
    "start_time": "2022-07-17T20:07:06.034Z"
   },
   {
    "duration": 10,
    "start_time": "2022-07-17T20:07:12.866Z"
   },
   {
    "duration": 4,
    "start_time": "2022-07-17T20:07:34.522Z"
   },
   {
    "duration": 5,
    "start_time": "2022-07-17T20:08:00.867Z"
   },
   {
    "duration": 5,
    "start_time": "2022-07-17T20:08:09.201Z"
   },
   {
    "duration": 5,
    "start_time": "2022-07-17T20:08:09.665Z"
   },
   {
    "duration": 13,
    "start_time": "2022-07-17T20:08:10.297Z"
   },
   {
    "duration": 9,
    "start_time": "2022-07-17T20:08:24.953Z"
   },
   {
    "duration": 20,
    "start_time": "2022-07-17T20:10:12.208Z"
   },
   {
    "duration": 23,
    "start_time": "2022-07-17T20:10:18.161Z"
   },
   {
    "duration": 21,
    "start_time": "2022-07-17T20:10:21.473Z"
   },
   {
    "duration": 17,
    "start_time": "2022-07-17T20:10:23.561Z"
   },
   {
    "duration": 15,
    "start_time": "2022-07-17T20:10:25.776Z"
   },
   {
    "duration": 14,
    "start_time": "2022-07-17T20:10:27.784Z"
   },
   {
    "duration": 17,
    "start_time": "2022-07-17T20:10:29.305Z"
   },
   {
    "duration": 16,
    "start_time": "2022-07-17T20:10:30.976Z"
   },
   {
    "duration": 23,
    "start_time": "2022-07-17T20:10:46.841Z"
   },
   {
    "duration": 49,
    "start_time": "2022-07-17T20:12:37.726Z"
   },
   {
    "duration": 4,
    "start_time": "2022-07-17T20:12:56.919Z"
   },
   {
    "duration": 13,
    "start_time": "2022-07-17T20:12:57.846Z"
   },
   {
    "duration": 4,
    "start_time": "2022-07-17T20:13:08.332Z"
   },
   {
    "duration": 22,
    "start_time": "2022-07-17T20:13:08.741Z"
   },
   {
    "duration": 5,
    "start_time": "2022-07-17T20:14:37.853Z"
   },
   {
    "duration": 27,
    "start_time": "2022-07-17T20:14:39.845Z"
   },
   {
    "duration": 3,
    "start_time": "2022-07-17T20:15:18.927Z"
   },
   {
    "duration": 7,
    "start_time": "2022-07-17T20:15:35.157Z"
   },
   {
    "duration": 21,
    "start_time": "2022-07-17T20:15:35.540Z"
   },
   {
    "duration": 20,
    "start_time": "2022-07-17T20:15:50.220Z"
   },
   {
    "duration": 6,
    "start_time": "2022-07-17T20:16:20.301Z"
   },
   {
    "duration": 32,
    "start_time": "2022-07-17T20:16:20.788Z"
   },
   {
    "duration": 5,
    "start_time": "2022-07-17T20:16:59.923Z"
   },
   {
    "duration": 6,
    "start_time": "2022-07-17T20:17:03.899Z"
   },
   {
    "duration": 21,
    "start_time": "2022-07-17T20:17:04.371Z"
   },
   {
    "duration": 5,
    "start_time": "2022-07-17T20:17:10.403Z"
   },
   {
    "duration": 19,
    "start_time": "2022-07-17T20:17:11.059Z"
   },
   {
    "duration": 5,
    "start_time": "2022-07-17T20:17:16.875Z"
   },
   {
    "duration": 20,
    "start_time": "2022-07-17T20:17:17.810Z"
   },
   {
    "duration": 5,
    "start_time": "2022-07-17T20:18:39.939Z"
   },
   {
    "duration": 18,
    "start_time": "2022-07-17T20:18:40.690Z"
   },
   {
    "duration": 5,
    "start_time": "2022-07-17T20:20:29.716Z"
   },
   {
    "duration": 20,
    "start_time": "2022-07-17T20:20:30.224Z"
   },
   {
    "duration": 5,
    "start_time": "2022-07-17T20:21:09.608Z"
   },
   {
    "duration": 1209,
    "start_time": "2022-07-17T20:21:10.080Z"
   },
   {
    "duration": 4,
    "start_time": "2022-07-17T20:22:07.576Z"
   },
   {
    "duration": 1204,
    "start_time": "2022-07-17T20:22:08.504Z"
   },
   {
    "duration": 6,
    "start_time": "2022-07-17T20:22:37.936Z"
   },
   {
    "duration": 1253,
    "start_time": "2022-07-17T20:22:38.439Z"
   },
   {
    "duration": 5,
    "start_time": "2022-07-17T20:26:38.397Z"
   },
   {
    "duration": 1262,
    "start_time": "2022-07-17T20:26:38.853Z"
   },
   {
    "duration": 5,
    "start_time": "2022-07-17T20:26:53.533Z"
   },
   {
    "duration": 1203,
    "start_time": "2022-07-17T20:26:53.925Z"
   },
   {
    "duration": 3,
    "start_time": "2022-07-17T20:28:28.876Z"
   },
   {
    "duration": 9,
    "start_time": "2022-07-17T20:28:29.308Z"
   },
   {
    "duration": 4,
    "start_time": "2022-07-17T20:31:10.483Z"
   },
   {
    "duration": 9,
    "start_time": "2022-07-17T20:31:11.498Z"
   },
   {
    "duration": 6,
    "start_time": "2022-07-17T20:31:28.746Z"
   },
   {
    "duration": 1270,
    "start_time": "2022-07-17T20:31:30.963Z"
   },
   {
    "duration": 1285,
    "start_time": "2022-07-17T20:31:44.451Z"
   },
   {
    "duration": 1321,
    "start_time": "2022-07-17T20:31:56.019Z"
   },
   {
    "duration": 5,
    "start_time": "2022-07-17T20:32:42.699Z"
   },
   {
    "duration": 1414,
    "start_time": "2022-07-17T20:32:43.873Z"
   },
   {
    "duration": 5,
    "start_time": "2022-07-17T20:32:59.499Z"
   },
   {
    "duration": 1292,
    "start_time": "2022-07-17T20:33:02.114Z"
   },
   {
    "duration": 6,
    "start_time": "2022-07-17T20:35:10.220Z"
   },
   {
    "duration": 1172,
    "start_time": "2022-07-17T20:35:11.761Z"
   },
   {
    "duration": 1270,
    "start_time": "2022-07-17T20:35:32.447Z"
   },
   {
    "duration": 147,
    "start_time": "2022-07-17T20:35:33.719Z"
   },
   {
    "duration": 140,
    "start_time": "2022-07-17T20:35:33.870Z"
   },
   {
    "duration": 125,
    "start_time": "2022-07-17T20:35:34.012Z"
   },
   {
    "duration": 115,
    "start_time": "2022-07-17T20:35:34.138Z"
   },
   {
    "duration": 48,
    "start_time": "2022-07-17T20:35:34.254Z"
   },
   {
    "duration": 61,
    "start_time": "2022-07-17T20:35:34.304Z"
   },
   {
    "duration": 338,
    "start_time": "2022-07-17T20:35:34.367Z"
   },
   {
    "duration": 287,
    "start_time": "2022-07-17T20:35:34.707Z"
   },
   {
    "duration": 333,
    "start_time": "2022-07-17T20:35:35.001Z"
   },
   {
    "duration": 3,
    "start_time": "2022-07-17T20:35:35.336Z"
   },
   {
    "duration": 10,
    "start_time": "2022-07-17T20:35:35.341Z"
   },
   {
    "duration": 358,
    "start_time": "2022-07-17T20:35:35.352Z"
   },
   {
    "duration": 3,
    "start_time": "2022-07-17T20:35:35.711Z"
   },
   {
    "duration": 187,
    "start_time": "2022-07-17T20:35:35.716Z"
   },
   {
    "duration": 6,
    "start_time": "2022-07-17T20:35:35.905Z"
   },
   {
    "duration": 10,
    "start_time": "2022-07-17T20:35:35.912Z"
   },
   {
    "duration": 6,
    "start_time": "2022-07-17T20:35:35.924Z"
   },
   {
    "duration": 23,
    "start_time": "2022-07-17T20:35:35.932Z"
   },
   {
    "duration": 6,
    "start_time": "2022-07-17T20:35:35.956Z"
   },
   {
    "duration": 1221,
    "start_time": "2022-07-17T20:35:35.963Z"
   },
   {
    "duration": 5,
    "start_time": "2022-07-17T20:37:05.409Z"
   },
   {
    "duration": 5,
    "start_time": "2022-07-17T20:37:07.700Z"
   },
   {
    "duration": 1186,
    "start_time": "2022-07-17T20:37:09.563Z"
   },
   {
    "duration": 1298,
    "start_time": "2022-07-17T20:37:20.075Z"
   },
   {
    "duration": 1197,
    "start_time": "2022-07-17T20:37:29.235Z"
   },
   {
    "duration": 1266,
    "start_time": "2022-07-17T20:47:16.853Z"
   },
   {
    "duration": 7,
    "start_time": "2022-07-17T20:50:24.293Z"
   },
   {
    "duration": 1239,
    "start_time": "2022-07-17T20:50:26.563Z"
   },
   {
    "duration": 5,
    "start_time": "2022-07-17T20:52:16.059Z"
   },
   {
    "duration": 1179,
    "start_time": "2022-07-17T20:52:16.481Z"
   },
   {
    "duration": 5,
    "start_time": "2022-07-17T20:53:00.922Z"
   },
   {
    "duration": 1352,
    "start_time": "2022-07-17T20:53:01.146Z"
   },
   {
    "duration": 5,
    "start_time": "2022-07-17T20:53:14.113Z"
   },
   {
    "duration": 1399,
    "start_time": "2022-07-17T20:53:14.313Z"
   },
   {
    "duration": 5,
    "start_time": "2022-07-17T20:53:27.284Z"
   },
   {
    "duration": 1181,
    "start_time": "2022-07-17T20:53:27.456Z"
   },
   {
    "duration": 3814,
    "start_time": "2022-07-17T20:55:47.719Z"
   },
   {
    "duration": 1251,
    "start_time": "2022-07-17T20:56:08.455Z"
   },
   {
    "duration": 1254,
    "start_time": "2022-07-17T20:56:25.494Z"
   },
   {
    "duration": 1257,
    "start_time": "2022-07-17T20:56:53.280Z"
   },
   {
    "duration": 4,
    "start_time": "2022-07-17T20:57:07.719Z"
   },
   {
    "duration": 3893,
    "start_time": "2022-07-17T20:57:11.231Z"
   },
   {
    "duration": 4101,
    "start_time": "2022-07-17T20:57:20.671Z"
   },
   {
    "duration": 1271,
    "start_time": "2022-07-17T21:11:52.840Z"
   },
   {
    "duration": 141,
    "start_time": "2022-07-17T21:11:54.113Z"
   },
   {
    "duration": 119,
    "start_time": "2022-07-17T21:11:54.255Z"
   },
   {
    "duration": 122,
    "start_time": "2022-07-17T21:11:54.376Z"
   },
   {
    "duration": 117,
    "start_time": "2022-07-17T21:11:54.500Z"
   },
   {
    "duration": 38,
    "start_time": "2022-07-17T21:11:54.618Z"
   },
   {
    "duration": 77,
    "start_time": "2022-07-17T21:11:54.658Z"
   },
   {
    "duration": 296,
    "start_time": "2022-07-17T21:11:54.737Z"
   },
   {
    "duration": 308,
    "start_time": "2022-07-17T21:11:55.034Z"
   },
   {
    "duration": 344,
    "start_time": "2022-07-17T21:11:55.345Z"
   },
   {
    "duration": 2,
    "start_time": "2022-07-17T21:11:55.691Z"
   },
   {
    "duration": 4,
    "start_time": "2022-07-17T21:11:55.700Z"
   },
   {
    "duration": 302,
    "start_time": "2022-07-17T21:11:55.706Z"
   },
   {
    "duration": 4,
    "start_time": "2022-07-17T21:11:56.009Z"
   },
   {
    "duration": 187,
    "start_time": "2022-07-17T21:11:56.015Z"
   },
   {
    "duration": 5,
    "start_time": "2022-07-17T21:11:56.204Z"
   },
   {
    "duration": 6,
    "start_time": "2022-07-17T21:11:56.211Z"
   },
   {
    "duration": 3719,
    "start_time": "2022-07-17T21:11:56.218Z"
   },
   {
    "duration": 1664,
    "start_time": "2022-07-18T09:48:15.172Z"
   },
   {
    "duration": 176,
    "start_time": "2022-07-18T09:48:16.839Z"
   },
   {
    "duration": 142,
    "start_time": "2022-07-18T09:48:17.017Z"
   },
   {
    "duration": 147,
    "start_time": "2022-07-18T09:48:17.838Z"
   },
   {
    "duration": 111,
    "start_time": "2022-07-18T10:35:13.331Z"
   },
   {
    "duration": 51,
    "start_time": "2022-07-18T10:35:24.567Z"
   },
   {
    "duration": 57,
    "start_time": "2022-07-18T10:35:58.916Z"
   },
   {
    "duration": 292,
    "start_time": "2022-07-18T10:36:44.688Z"
   },
   {
    "duration": 348,
    "start_time": "2022-07-18T10:36:46.114Z"
   },
   {
    "duration": 312,
    "start_time": "2022-07-18T10:36:47.163Z"
   },
   {
    "duration": 3,
    "start_time": "2022-07-18T10:37:51.521Z"
   },
   {
    "duration": 4,
    "start_time": "2022-07-18T10:38:27.238Z"
   },
   {
    "duration": 253,
    "start_time": "2022-07-18T10:38:28.014Z"
   },
   {
    "duration": 4,
    "start_time": "2022-07-18T12:00:37.387Z"
   },
   {
    "duration": 3,
    "start_time": "2022-07-18T12:04:12.504Z"
   },
   {
    "duration": 153,
    "start_time": "2022-07-18T12:04:12.508Z"
   },
   {
    "duration": 127,
    "start_time": "2022-07-18T12:04:12.662Z"
   },
   {
    "duration": 127,
    "start_time": "2022-07-18T12:04:12.791Z"
   },
   {
    "duration": 151,
    "start_time": "2022-07-18T12:04:12.920Z"
   },
   {
    "duration": 42,
    "start_time": "2022-07-18T12:04:13.073Z"
   },
   {
    "duration": 73,
    "start_time": "2022-07-18T12:04:13.117Z"
   },
   {
    "duration": 286,
    "start_time": "2022-07-18T12:04:13.192Z"
   },
   {
    "duration": 273,
    "start_time": "2022-07-18T12:04:13.482Z"
   },
   {
    "duration": 374,
    "start_time": "2022-07-18T12:04:13.757Z"
   },
   {
    "duration": 3,
    "start_time": "2022-07-18T12:04:14.133Z"
   },
   {
    "duration": 15,
    "start_time": "2022-07-18T12:04:14.138Z"
   },
   {
    "duration": 310,
    "start_time": "2022-07-18T12:04:14.155Z"
   },
   {
    "duration": 4,
    "start_time": "2022-07-18T12:04:14.467Z"
   },
   {
    "duration": 12,
    "start_time": "2022-07-18T12:04:14.552Z"
   },
   {
    "duration": 94,
    "start_time": "2022-07-18T12:04:14.567Z"
   },
   {
    "duration": 8,
    "start_time": "2022-07-18T12:04:14.663Z"
   },
   {
    "duration": 3661,
    "start_time": "2022-07-18T12:04:40.246Z"
   },
   {
    "duration": 1570,
    "start_time": "2022-07-19T15:16:58.859Z"
   },
   {
    "duration": 892,
    "start_time": "2022-07-19T15:17:00.432Z"
   },
   {
    "duration": 578,
    "start_time": "2022-07-19T15:17:01.326Z"
   },
   {
    "duration": 561,
    "start_time": "2022-07-19T15:17:01.906Z"
   },
   {
    "duration": 142,
    "start_time": "2022-07-19T15:17:02.470Z"
   },
   {
    "duration": 48,
    "start_time": "2022-07-19T15:17:02.614Z"
   },
   {
    "duration": 85,
    "start_time": "2022-07-19T15:17:02.664Z"
   },
   {
    "duration": 429,
    "start_time": "2022-07-19T15:17:02.751Z"
   },
   {
    "duration": 330,
    "start_time": "2022-07-19T15:17:03.182Z"
   },
   {
    "duration": 313,
    "start_time": "2022-07-19T15:17:03.514Z"
   },
   {
    "duration": 2,
    "start_time": "2022-07-19T15:17:03.829Z"
   },
   {
    "duration": 5,
    "start_time": "2022-07-19T15:17:03.833Z"
   },
   {
    "duration": 473,
    "start_time": "2022-07-19T15:17:03.840Z"
   },
   {
    "duration": 93,
    "start_time": "2022-07-19T15:17:04.317Z"
   },
   {
    "duration": 104,
    "start_time": "2022-07-19T15:17:04.413Z"
   },
   {
    "duration": 4,
    "start_time": "2022-07-19T15:17:04.519Z"
   },
   {
    "duration": 7,
    "start_time": "2022-07-19T15:17:04.525Z"
   },
   {
    "duration": 4179,
    "start_time": "2022-07-19T15:17:04.533Z"
   },
   {
    "duration": 6,
    "start_time": "2022-07-19T15:20:30.683Z"
   },
   {
    "duration": 1490,
    "start_time": "2022-07-19T15:20:37.293Z"
   },
   {
    "duration": 6,
    "start_time": "2022-07-19T15:20:50.893Z"
   },
   {
    "duration": 4167,
    "start_time": "2022-07-19T15:20:52.693Z"
   },
   {
    "duration": 1496,
    "start_time": "2022-07-19T15:24:00.785Z"
   },
   {
    "duration": 168,
    "start_time": "2022-07-19T15:24:02.283Z"
   },
   {
    "duration": 141,
    "start_time": "2022-07-19T15:24:02.452Z"
   },
   {
    "duration": 155,
    "start_time": "2022-07-19T15:24:02.595Z"
   },
   {
    "duration": 149,
    "start_time": "2022-07-19T15:24:02.753Z"
   },
   {
    "duration": 46,
    "start_time": "2022-07-19T15:24:02.904Z"
   },
   {
    "duration": 85,
    "start_time": "2022-07-19T15:24:02.952Z"
   },
   {
    "duration": 349,
    "start_time": "2022-07-19T15:24:03.039Z"
   },
   {
    "duration": 347,
    "start_time": "2022-07-19T15:24:03.390Z"
   },
   {
    "duration": 310,
    "start_time": "2022-07-19T15:24:03.738Z"
   },
   {
    "duration": 2,
    "start_time": "2022-07-19T15:24:04.050Z"
   },
   {
    "duration": 6,
    "start_time": "2022-07-19T15:24:04.054Z"
   },
   {
    "duration": 357,
    "start_time": "2022-07-19T15:24:04.061Z"
   },
   {
    "duration": 92,
    "start_time": "2022-07-19T15:24:04.423Z"
   },
   {
    "duration": 99,
    "start_time": "2022-07-19T15:24:04.518Z"
   },
   {
    "duration": 5,
    "start_time": "2022-07-19T15:24:04.619Z"
   },
   {
    "duration": 5,
    "start_time": "2022-07-19T15:24:04.626Z"
   },
   {
    "duration": 4165,
    "start_time": "2022-07-19T15:24:04.633Z"
   },
   {
    "duration": 65,
    "start_time": "2022-07-22T17:57:27.426Z"
   },
   {
    "duration": 1527,
    "start_time": "2022-07-22T17:57:30.895Z"
   },
   {
    "duration": 412,
    "start_time": "2022-07-22T17:57:32.424Z"
   },
   {
    "duration": 252,
    "start_time": "2022-07-22T17:57:32.838Z"
   },
   {
    "duration": 282,
    "start_time": "2022-07-22T17:57:33.092Z"
   },
   {
    "duration": 147,
    "start_time": "2022-07-22T17:57:33.379Z"
   },
   {
    "duration": 47,
    "start_time": "2022-07-22T17:57:33.528Z"
   },
   {
    "duration": 93,
    "start_time": "2022-07-22T17:57:33.576Z"
   },
   {
    "duration": 373,
    "start_time": "2022-07-22T17:57:33.671Z"
   },
   {
    "duration": 297,
    "start_time": "2022-07-22T17:57:34.046Z"
   },
   {
    "duration": 355,
    "start_time": "2022-07-22T17:57:34.344Z"
   },
   {
    "duration": 3,
    "start_time": "2022-07-22T17:57:34.701Z"
   },
   {
    "duration": 16,
    "start_time": "2022-07-22T17:57:34.706Z"
   },
   {
    "duration": 403,
    "start_time": "2022-07-22T17:57:34.724Z"
   },
   {
    "duration": 5,
    "start_time": "2022-07-22T17:57:35.130Z"
   },
   {
    "duration": 88,
    "start_time": "2022-07-22T17:57:35.138Z"
   },
   {
    "duration": 106,
    "start_time": "2022-07-22T17:57:35.228Z"
   },
   {
    "duration": 92,
    "start_time": "2022-07-22T17:57:35.337Z"
   },
   {
    "duration": 0,
    "start_time": "2022-07-22T17:57:35.431Z"
   },
   {
    "duration": 0,
    "start_time": "2022-07-22T17:57:35.432Z"
   },
   {
    "duration": 5,
    "start_time": "2022-07-22T17:58:19.633Z"
   },
   {
    "duration": 11,
    "start_time": "2022-07-22T17:58:47.436Z"
   },
   {
    "duration": 11,
    "start_time": "2022-07-22T17:59:01.524Z"
   }
  ],
  "kernelspec": {
   "display_name": "Python 3 (ipykernel)",
   "language": "python",
   "name": "python3"
  },
  "language_info": {
   "codemirror_mode": {
    "name": "ipython",
    "version": 3
   },
   "file_extension": ".py",
   "mimetype": "text/x-python",
   "name": "python",
   "nbconvert_exporter": "python",
   "pygments_lexer": "ipython3",
   "version": "3.10.2"
  },
  "toc": {
   "base_numbering": 1,
   "nav_menu": {},
   "number_sections": true,
   "sideBar": true,
   "skip_h1_title": true,
   "title_cell": "Table of Contents",
   "title_sidebar": "Contents",
   "toc_cell": false,
   "toc_position": {
    "height": "calc(100% - 180px)",
    "left": "10px",
    "top": "150px",
    "width": "247.083px"
   },
   "toc_section_display": true,
   "toc_window_display": true
  }
 },
 "nbformat": 4,
 "nbformat_minor": 2
}
