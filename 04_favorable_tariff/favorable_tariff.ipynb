{
 "cells": [
  {
   "cell_type": "markdown",
   "metadata": {},
   "source": [
    "# Определение перспективного тарифа для телеком-компании\n"
   ]
  },
  {
   "cell_type": "markdown",
   "metadata": {},
   "source": [
    "Заказчик исследования -  компания «Мегалайн», федеральный оператор сотовой связи. \n",
    "\n",
    "Клиентам предлагается два тарифных плана: «Смарт» и «Ультра». Чтобы скорректировать рекламный бюджет, нужно выяснить, какой тариф приносит больше денег.\n",
    "В данном исследовании нам предстоит сделать предварительный анализ тарифов на небольшой выборке клиентов - 500 пользователей «Мегалайна». Нужно проанализировать поведение клиентов и сделать вывод — какой тариф лучше."
   ]
  },
  {
   "cell_type": "markdown",
   "metadata": {},
   "source": [
    "## Обзор данных"
   ]
  },
  {
   "cell_type": "code",
   "execution_count": 2,
   "metadata": {},
   "outputs": [],
   "source": [
    "import pandas as pd\n",
    "from scipy import stats as st\n",
    "import matplotlib.pyplot as plt\n",
    "import math\n",
    "import numpy as np\n",
    "from functools import reduce\n",
    "from scipy.stats import levene"
   ]
  },
  {
   "cell_type": "code",
   "execution_count": 3,
   "metadata": {},
   "outputs": [],
   "source": [
    "df_calls = pd.read_csv('***')\n",
    "df_internet = pd.read_csv('***', index_col=0)\n",
    "df_messages = pd.read_csv('***')\n",
    "df_tariffs = pd.read_csv('***')\n",
    "df_users = pd.read_csv('***')"
   ]
  },
  {
   "cell_type": "code",
   "execution_count": 4,
   "metadata": {},
   "outputs": [
    {
     "data": {
      "text/html": [
       "<div>\n",
       "<style scoped>\n",
       "    .dataframe tbody tr th:only-of-type {\n",
       "        vertical-align: middle;\n",
       "    }\n",
       "\n",
       "    .dataframe tbody tr th {\n",
       "        vertical-align: top;\n",
       "    }\n",
       "\n",
       "    .dataframe thead th {\n",
       "        text-align: right;\n",
       "    }\n",
       "</style>\n",
       "<table border=\"1\" class=\"dataframe\">\n",
       "  <thead>\n",
       "    <tr style=\"text-align: right;\">\n",
       "      <th></th>\n",
       "      <th>id</th>\n",
       "      <th>call_date</th>\n",
       "      <th>duration</th>\n",
       "      <th>user_id</th>\n",
       "    </tr>\n",
       "  </thead>\n",
       "  <tbody>\n",
       "    <tr>\n",
       "      <th>0</th>\n",
       "      <td>1000_0</td>\n",
       "      <td>2018-07-25</td>\n",
       "      <td>0.00</td>\n",
       "      <td>1000</td>\n",
       "    </tr>\n",
       "    <tr>\n",
       "      <th>1</th>\n",
       "      <td>1000_1</td>\n",
       "      <td>2018-08-17</td>\n",
       "      <td>0.00</td>\n",
       "      <td>1000</td>\n",
       "    </tr>\n",
       "    <tr>\n",
       "      <th>2</th>\n",
       "      <td>1000_2</td>\n",
       "      <td>2018-06-11</td>\n",
       "      <td>2.85</td>\n",
       "      <td>1000</td>\n",
       "    </tr>\n",
       "    <tr>\n",
       "      <th>3</th>\n",
       "      <td>1000_3</td>\n",
       "      <td>2018-09-21</td>\n",
       "      <td>13.80</td>\n",
       "      <td>1000</td>\n",
       "    </tr>\n",
       "    <tr>\n",
       "      <th>4</th>\n",
       "      <td>1000_4</td>\n",
       "      <td>2018-12-15</td>\n",
       "      <td>5.18</td>\n",
       "      <td>1000</td>\n",
       "    </tr>\n",
       "  </tbody>\n",
       "</table>\n",
       "</div>"
      ],
      "text/plain": [
       "       id   call_date  duration  user_id\n",
       "0  1000_0  2018-07-25      0.00     1000\n",
       "1  1000_1  2018-08-17      0.00     1000\n",
       "2  1000_2  2018-06-11      2.85     1000\n",
       "3  1000_3  2018-09-21     13.80     1000\n",
       "4  1000_4  2018-12-15      5.18     1000"
      ]
     },
     "metadata": {},
     "output_type": "display_data"
    },
    {
     "name": "stdout",
     "output_type": "stream",
     "text": [
      "<class 'pandas.core.frame.DataFrame'>\n",
      "RangeIndex: 202607 entries, 0 to 202606\n",
      "Data columns (total 4 columns):\n",
      " #   Column     Non-Null Count   Dtype  \n",
      "---  ------     --------------   -----  \n",
      " 0   id         202607 non-null  object \n",
      " 1   call_date  202607 non-null  object \n",
      " 2   duration   202607 non-null  float64\n",
      " 3   user_id    202607 non-null  int64  \n",
      "dtypes: float64(1), int64(1), object(2)\n",
      "memory usage: 6.2+ MB\n"
     ]
    }
   ],
   "source": [
    "display(df_calls.head())\n",
    "df_calls.info()"
   ]
  },
  {
   "cell_type": "markdown",
   "metadata": {},
   "source": [
    "Таблица `calls` содержит информацию о звонках:\n",
    "- `id` — уникальный номер звонка\n",
    "- `call_date` — дата звонка\n",
    "- `duration` — длительность звонка в минутах\n",
    "- `user_id` — идентификатор пользователя, сделавшего звонок"
   ]
  },
  {
   "cell_type": "code",
   "execution_count": 5,
   "metadata": {
    "scrolled": true
   },
   "outputs": [
    {
     "data": {
      "text/html": [
       "<div>\n",
       "<style scoped>\n",
       "    .dataframe tbody tr th:only-of-type {\n",
       "        vertical-align: middle;\n",
       "    }\n",
       "\n",
       "    .dataframe tbody tr th {\n",
       "        vertical-align: top;\n",
       "    }\n",
       "\n",
       "    .dataframe thead th {\n",
       "        text-align: right;\n",
       "    }\n",
       "</style>\n",
       "<table border=\"1\" class=\"dataframe\">\n",
       "  <thead>\n",
       "    <tr style=\"text-align: right;\">\n",
       "      <th></th>\n",
       "      <th>id</th>\n",
       "      <th>mb_used</th>\n",
       "      <th>session_date</th>\n",
       "      <th>user_id</th>\n",
       "    </tr>\n",
       "  </thead>\n",
       "  <tbody>\n",
       "    <tr>\n",
       "      <th>0</th>\n",
       "      <td>1000_0</td>\n",
       "      <td>112.95</td>\n",
       "      <td>2018-11-25</td>\n",
       "      <td>1000</td>\n",
       "    </tr>\n",
       "    <tr>\n",
       "      <th>1</th>\n",
       "      <td>1000_1</td>\n",
       "      <td>1052.81</td>\n",
       "      <td>2018-09-07</td>\n",
       "      <td>1000</td>\n",
       "    </tr>\n",
       "    <tr>\n",
       "      <th>2</th>\n",
       "      <td>1000_2</td>\n",
       "      <td>1197.26</td>\n",
       "      <td>2018-06-25</td>\n",
       "      <td>1000</td>\n",
       "    </tr>\n",
       "    <tr>\n",
       "      <th>3</th>\n",
       "      <td>1000_3</td>\n",
       "      <td>550.27</td>\n",
       "      <td>2018-08-22</td>\n",
       "      <td>1000</td>\n",
       "    </tr>\n",
       "    <tr>\n",
       "      <th>4</th>\n",
       "      <td>1000_4</td>\n",
       "      <td>302.56</td>\n",
       "      <td>2018-09-24</td>\n",
       "      <td>1000</td>\n",
       "    </tr>\n",
       "  </tbody>\n",
       "</table>\n",
       "</div>"
      ],
      "text/plain": [
       "       id  mb_used session_date  user_id\n",
       "0  1000_0   112.95   2018-11-25     1000\n",
       "1  1000_1  1052.81   2018-09-07     1000\n",
       "2  1000_2  1197.26   2018-06-25     1000\n",
       "3  1000_3   550.27   2018-08-22     1000\n",
       "4  1000_4   302.56   2018-09-24     1000"
      ]
     },
     "metadata": {},
     "output_type": "display_data"
    },
    {
     "name": "stdout",
     "output_type": "stream",
     "text": [
      "<class 'pandas.core.frame.DataFrame'>\n",
      "Int64Index: 149396 entries, 0 to 149395\n",
      "Data columns (total 4 columns):\n",
      " #   Column        Non-Null Count   Dtype  \n",
      "---  ------        --------------   -----  \n",
      " 0   id            149396 non-null  object \n",
      " 1   mb_used       149396 non-null  float64\n",
      " 2   session_date  149396 non-null  object \n",
      " 3   user_id       149396 non-null  int64  \n",
      "dtypes: float64(1), int64(1), object(2)\n",
      "memory usage: 5.7+ MB\n"
     ]
    }
   ],
   "source": [
    "display(df_internet.head())\n",
    "df_internet.info()"
   ]
  },
  {
   "cell_type": "markdown",
   "metadata": {},
   "source": [
    "Таблица `internet` содержит информацию об интернет-сессиях:\n",
    "- `id` — уникальный номер сессии\n",
    "- `mb_used` — объём потраченного за сессию интернет-трафика (в мегабайтах)\n",
    "- `session_date` — дата интернет-сессии\n",
    "- `user_id` — идентификатор пользователя"
   ]
  },
  {
   "cell_type": "code",
   "execution_count": 6,
   "metadata": {},
   "outputs": [
    {
     "data": {
      "text/html": [
       "<div>\n",
       "<style scoped>\n",
       "    .dataframe tbody tr th:only-of-type {\n",
       "        vertical-align: middle;\n",
       "    }\n",
       "\n",
       "    .dataframe tbody tr th {\n",
       "        vertical-align: top;\n",
       "    }\n",
       "\n",
       "    .dataframe thead th {\n",
       "        text-align: right;\n",
       "    }\n",
       "</style>\n",
       "<table border=\"1\" class=\"dataframe\">\n",
       "  <thead>\n",
       "    <tr style=\"text-align: right;\">\n",
       "      <th></th>\n",
       "      <th>id</th>\n",
       "      <th>message_date</th>\n",
       "      <th>user_id</th>\n",
       "    </tr>\n",
       "  </thead>\n",
       "  <tbody>\n",
       "    <tr>\n",
       "      <th>0</th>\n",
       "      <td>1000_0</td>\n",
       "      <td>2018-06-27</td>\n",
       "      <td>1000</td>\n",
       "    </tr>\n",
       "    <tr>\n",
       "      <th>1</th>\n",
       "      <td>1000_1</td>\n",
       "      <td>2018-10-08</td>\n",
       "      <td>1000</td>\n",
       "    </tr>\n",
       "    <tr>\n",
       "      <th>2</th>\n",
       "      <td>1000_2</td>\n",
       "      <td>2018-08-04</td>\n",
       "      <td>1000</td>\n",
       "    </tr>\n",
       "    <tr>\n",
       "      <th>3</th>\n",
       "      <td>1000_3</td>\n",
       "      <td>2018-06-16</td>\n",
       "      <td>1000</td>\n",
       "    </tr>\n",
       "    <tr>\n",
       "      <th>4</th>\n",
       "      <td>1000_4</td>\n",
       "      <td>2018-12-05</td>\n",
       "      <td>1000</td>\n",
       "    </tr>\n",
       "  </tbody>\n",
       "</table>\n",
       "</div>"
      ],
      "text/plain": [
       "       id message_date  user_id\n",
       "0  1000_0   2018-06-27     1000\n",
       "1  1000_1   2018-10-08     1000\n",
       "2  1000_2   2018-08-04     1000\n",
       "3  1000_3   2018-06-16     1000\n",
       "4  1000_4   2018-12-05     1000"
      ]
     },
     "metadata": {},
     "output_type": "display_data"
    },
    {
     "name": "stdout",
     "output_type": "stream",
     "text": [
      "<class 'pandas.core.frame.DataFrame'>\n",
      "RangeIndex: 123036 entries, 0 to 123035\n",
      "Data columns (total 3 columns):\n",
      " #   Column        Non-Null Count   Dtype \n",
      "---  ------        --------------   ----- \n",
      " 0   id            123036 non-null  object\n",
      " 1   message_date  123036 non-null  object\n",
      " 2   user_id       123036 non-null  int64 \n",
      "dtypes: int64(1), object(2)\n",
      "memory usage: 2.8+ MB\n"
     ]
    }
   ],
   "source": [
    "display(df_messages.head())\n",
    "df_messages.info()"
   ]
  },
  {
   "cell_type": "markdown",
   "metadata": {},
   "source": [
    "Таблица `messages` содержит информацию о сообщениях:\n",
    "- `id` — уникальный номер сообщения\n",
    "- `message_date` — дата сообщения\n",
    "- `user_id` — идентификатор пользователя, отправившего сообщение"
   ]
  },
  {
   "cell_type": "code",
   "execution_count": 7,
   "metadata": {},
   "outputs": [
    {
     "data": {
      "text/html": [
       "<div>\n",
       "<style scoped>\n",
       "    .dataframe tbody tr th:only-of-type {\n",
       "        vertical-align: middle;\n",
       "    }\n",
       "\n",
       "    .dataframe tbody tr th {\n",
       "        vertical-align: top;\n",
       "    }\n",
       "\n",
       "    .dataframe thead th {\n",
       "        text-align: right;\n",
       "    }\n",
       "</style>\n",
       "<table border=\"1\" class=\"dataframe\">\n",
       "  <thead>\n",
       "    <tr style=\"text-align: right;\">\n",
       "      <th></th>\n",
       "      <th>messages_included</th>\n",
       "      <th>mb_per_month_included</th>\n",
       "      <th>minutes_included</th>\n",
       "      <th>rub_monthly_fee</th>\n",
       "      <th>rub_per_gb</th>\n",
       "      <th>rub_per_message</th>\n",
       "      <th>rub_per_minute</th>\n",
       "      <th>tariff_name</th>\n",
       "    </tr>\n",
       "  </thead>\n",
       "  <tbody>\n",
       "    <tr>\n",
       "      <th>0</th>\n",
       "      <td>50</td>\n",
       "      <td>15360</td>\n",
       "      <td>500</td>\n",
       "      <td>550</td>\n",
       "      <td>200</td>\n",
       "      <td>3</td>\n",
       "      <td>3</td>\n",
       "      <td>smart</td>\n",
       "    </tr>\n",
       "    <tr>\n",
       "      <th>1</th>\n",
       "      <td>1000</td>\n",
       "      <td>30720</td>\n",
       "      <td>3000</td>\n",
       "      <td>1950</td>\n",
       "      <td>150</td>\n",
       "      <td>1</td>\n",
       "      <td>1</td>\n",
       "      <td>ultra</td>\n",
       "    </tr>\n",
       "  </tbody>\n",
       "</table>\n",
       "</div>"
      ],
      "text/plain": [
       "   messages_included  mb_per_month_included  minutes_included  \\\n",
       "0                 50                  15360               500   \n",
       "1               1000                  30720              3000   \n",
       "\n",
       "   rub_monthly_fee  rub_per_gb  rub_per_message  rub_per_minute tariff_name  \n",
       "0              550         200                3               3       smart  \n",
       "1             1950         150                1               1       ultra  "
      ]
     },
     "metadata": {},
     "output_type": "display_data"
    },
    {
     "name": "stdout",
     "output_type": "stream",
     "text": [
      "<class 'pandas.core.frame.DataFrame'>\n",
      "RangeIndex: 2 entries, 0 to 1\n",
      "Data columns (total 8 columns):\n",
      " #   Column                 Non-Null Count  Dtype \n",
      "---  ------                 --------------  ----- \n",
      " 0   messages_included      2 non-null      int64 \n",
      " 1   mb_per_month_included  2 non-null      int64 \n",
      " 2   minutes_included       2 non-null      int64 \n",
      " 3   rub_monthly_fee        2 non-null      int64 \n",
      " 4   rub_per_gb             2 non-null      int64 \n",
      " 5   rub_per_message        2 non-null      int64 \n",
      " 6   rub_per_minute         2 non-null      int64 \n",
      " 7   tariff_name            2 non-null      object\n",
      "dtypes: int64(7), object(1)\n",
      "memory usage: 256.0+ bytes\n"
     ]
    }
   ],
   "source": [
    "display(df_tariffs.head())\n",
    "df_tariffs.info()"
   ]
  },
  {
   "cell_type": "markdown",
   "metadata": {},
   "source": [
    "Таблица `tariffs` содержит информацию о тарифах:\n",
    "- `tariff_name` — название тарифа\n",
    "- `rub_monthly_fee` — ежемесячная абонентская плата в рублях\n",
    "- `minutes_included` — количество минут разговора в месяц, включённых в абонентскую плату\n",
    "- `messages_included` — количество сообщений в месяц, включённых в абонентскую плату\n",
    "- `mb_per_month_included` — объём интернет-трафика, включённого в абонентскую плату (в мегабайтах)\n",
    "- `rub_per_minute` — стоимость минуты разговора сверх тарифного пакета (например, если в тарифе 100 минут разговора в месяц, то со 101 минуты будет взиматься плата)\n",
    "- `rub_per_message` — стоимость отправки сообщения сверх тарифного пакета\n",
    "- `rub_per_gb` — стоимость дополнительного гигабайта интернет-трафика сверх тарифного пакета (1 гигабайт = 1024 мегабайта)"
   ]
  },
  {
   "cell_type": "code",
   "execution_count": 8,
   "metadata": {},
   "outputs": [
    {
     "data": {
      "text/html": [
       "<div>\n",
       "<style scoped>\n",
       "    .dataframe tbody tr th:only-of-type {\n",
       "        vertical-align: middle;\n",
       "    }\n",
       "\n",
       "    .dataframe tbody tr th {\n",
       "        vertical-align: top;\n",
       "    }\n",
       "\n",
       "    .dataframe thead th {\n",
       "        text-align: right;\n",
       "    }\n",
       "</style>\n",
       "<table border=\"1\" class=\"dataframe\">\n",
       "  <thead>\n",
       "    <tr style=\"text-align: right;\">\n",
       "      <th></th>\n",
       "      <th>user_id</th>\n",
       "      <th>age</th>\n",
       "      <th>churn_date</th>\n",
       "      <th>city</th>\n",
       "      <th>first_name</th>\n",
       "      <th>last_name</th>\n",
       "      <th>reg_date</th>\n",
       "      <th>tariff</th>\n",
       "    </tr>\n",
       "  </thead>\n",
       "  <tbody>\n",
       "    <tr>\n",
       "      <th>0</th>\n",
       "      <td>1000</td>\n",
       "      <td>52</td>\n",
       "      <td>NaN</td>\n",
       "      <td>Краснодар</td>\n",
       "      <td>Рафаил</td>\n",
       "      <td>Верещагин</td>\n",
       "      <td>2018-05-25</td>\n",
       "      <td>ultra</td>\n",
       "    </tr>\n",
       "    <tr>\n",
       "      <th>1</th>\n",
       "      <td>1001</td>\n",
       "      <td>41</td>\n",
       "      <td>NaN</td>\n",
       "      <td>Москва</td>\n",
       "      <td>Иван</td>\n",
       "      <td>Ежов</td>\n",
       "      <td>2018-11-01</td>\n",
       "      <td>smart</td>\n",
       "    </tr>\n",
       "    <tr>\n",
       "      <th>2</th>\n",
       "      <td>1002</td>\n",
       "      <td>59</td>\n",
       "      <td>NaN</td>\n",
       "      <td>Стерлитамак</td>\n",
       "      <td>Евгений</td>\n",
       "      <td>Абрамович</td>\n",
       "      <td>2018-06-17</td>\n",
       "      <td>smart</td>\n",
       "    </tr>\n",
       "    <tr>\n",
       "      <th>3</th>\n",
       "      <td>1003</td>\n",
       "      <td>23</td>\n",
       "      <td>NaN</td>\n",
       "      <td>Москва</td>\n",
       "      <td>Белла</td>\n",
       "      <td>Белякова</td>\n",
       "      <td>2018-08-17</td>\n",
       "      <td>ultra</td>\n",
       "    </tr>\n",
       "    <tr>\n",
       "      <th>4</th>\n",
       "      <td>1004</td>\n",
       "      <td>68</td>\n",
       "      <td>NaN</td>\n",
       "      <td>Новокузнецк</td>\n",
       "      <td>Татьяна</td>\n",
       "      <td>Авдеенко</td>\n",
       "      <td>2018-05-14</td>\n",
       "      <td>ultra</td>\n",
       "    </tr>\n",
       "  </tbody>\n",
       "</table>\n",
       "</div>"
      ],
      "text/plain": [
       "   user_id  age churn_date         city first_name  last_name    reg_date  \\\n",
       "0     1000   52        NaN    Краснодар     Рафаил  Верещагин  2018-05-25   \n",
       "1     1001   41        NaN       Москва       Иван       Ежов  2018-11-01   \n",
       "2     1002   59        NaN  Стерлитамак    Евгений  Абрамович  2018-06-17   \n",
       "3     1003   23        NaN       Москва      Белла   Белякова  2018-08-17   \n",
       "4     1004   68        NaN  Новокузнецк    Татьяна   Авдеенко  2018-05-14   \n",
       "\n",
       "  tariff  \n",
       "0  ultra  \n",
       "1  smart  \n",
       "2  smart  \n",
       "3  ultra  \n",
       "4  ultra  "
      ]
     },
     "metadata": {},
     "output_type": "display_data"
    },
    {
     "name": "stdout",
     "output_type": "stream",
     "text": [
      "<class 'pandas.core.frame.DataFrame'>\n",
      "RangeIndex: 500 entries, 0 to 499\n",
      "Data columns (total 8 columns):\n",
      " #   Column      Non-Null Count  Dtype \n",
      "---  ------      --------------  ----- \n",
      " 0   user_id     500 non-null    int64 \n",
      " 1   age         500 non-null    int64 \n",
      " 2   churn_date  38 non-null     object\n",
      " 3   city        500 non-null    object\n",
      " 4   first_name  500 non-null    object\n",
      " 5   last_name   500 non-null    object\n",
      " 6   reg_date    500 non-null    object\n",
      " 7   tariff      500 non-null    object\n",
      "dtypes: int64(2), object(6)\n",
      "memory usage: 31.4+ KB\n"
     ]
    }
   ],
   "source": [
    "display(df_users.head())\n",
    "df_users.info()"
   ]
  },
  {
   "cell_type": "markdown",
   "metadata": {},
   "source": [
    "Таблица `users` содержит информацию о пользователях:\n",
    " - `user_id` — уникальный идентификатор пользователя\n",
    " - `first_name` — имя пользователя\n",
    " - `last_name` — фамилия пользователя\n",
    " - `age` — возраст пользователя (годы)\n",
    " - `reg_date` — дата подключения тарифа (день, месяц, год)\n",
    " - `churn_date` — дата прекращения пользования тарифом (если значение пропущено, то тариф ещё действовал на момент выгрузки данных)\n",
    " - `city` — город проживания пользователя\n",
    " - `tariff` — название тарифного плана"
   ]
  },
  {
   "cell_type": "markdown",
   "metadata": {},
   "source": [
    "### Объединение данных в один датафрейм"
   ]
  },
  {
   "cell_type": "code",
   "execution_count": 9,
   "metadata": {
    "scrolled": true
   },
   "outputs": [],
   "source": [
    "df = df_calls.join(df_messages, how='left', rsuffix='_message')\n",
    "df = df.join(df_internet, how='left', rsuffix='_internet')\n",
    "df = df.merge(df_users, on='user_id', how='left')\n",
    "df = df.rename(columns = {'tariff': 'tariff_name'})\n",
    "df = df.merge(df_tariffs, on='tariff_name', how='left')"
   ]
  },
  {
   "cell_type": "code",
   "execution_count": 10,
   "metadata": {},
   "outputs": [
    {
     "data": {
      "text/html": [
       "<div>\n",
       "<style scoped>\n",
       "    .dataframe tbody tr th:only-of-type {\n",
       "        vertical-align: middle;\n",
       "    }\n",
       "\n",
       "    .dataframe tbody tr th {\n",
       "        vertical-align: top;\n",
       "    }\n",
       "\n",
       "    .dataframe thead th {\n",
       "        text-align: right;\n",
       "    }\n",
       "</style>\n",
       "<table border=\"1\" class=\"dataframe\">\n",
       "  <thead>\n",
       "    <tr style=\"text-align: right;\">\n",
       "      <th></th>\n",
       "      <th>id</th>\n",
       "      <th>call_date</th>\n",
       "      <th>duration</th>\n",
       "      <th>user_id</th>\n",
       "      <th>id_message</th>\n",
       "      <th>message_date</th>\n",
       "      <th>id_internet</th>\n",
       "      <th>mb_used</th>\n",
       "      <th>session_date</th>\n",
       "      <th>age</th>\n",
       "      <th>...</th>\n",
       "      <th>last_name</th>\n",
       "      <th>reg_date</th>\n",
       "      <th>tariff_name</th>\n",
       "      <th>messages_included</th>\n",
       "      <th>mb_per_month_included</th>\n",
       "      <th>minutes_included</th>\n",
       "      <th>rub_monthly_fee</th>\n",
       "      <th>rub_per_gb</th>\n",
       "      <th>rub_per_message</th>\n",
       "      <th>rub_per_minute</th>\n",
       "    </tr>\n",
       "  </thead>\n",
       "  <tbody>\n",
       "    <tr>\n",
       "      <th>0</th>\n",
       "      <td>1000_0</td>\n",
       "      <td>2018-07-25</td>\n",
       "      <td>0.00</td>\n",
       "      <td>1000</td>\n",
       "      <td>1000_0</td>\n",
       "      <td>2018-06-27</td>\n",
       "      <td>1000_0</td>\n",
       "      <td>112.95</td>\n",
       "      <td>2018-11-25</td>\n",
       "      <td>52</td>\n",
       "      <td>...</td>\n",
       "      <td>Верещагин</td>\n",
       "      <td>2018-05-25</td>\n",
       "      <td>ultra</td>\n",
       "      <td>1000</td>\n",
       "      <td>30720</td>\n",
       "      <td>3000</td>\n",
       "      <td>1950</td>\n",
       "      <td>150</td>\n",
       "      <td>1</td>\n",
       "      <td>1</td>\n",
       "    </tr>\n",
       "    <tr>\n",
       "      <th>1</th>\n",
       "      <td>1000_1</td>\n",
       "      <td>2018-08-17</td>\n",
       "      <td>0.00</td>\n",
       "      <td>1000</td>\n",
       "      <td>1000_1</td>\n",
       "      <td>2018-10-08</td>\n",
       "      <td>1000_1</td>\n",
       "      <td>1052.81</td>\n",
       "      <td>2018-09-07</td>\n",
       "      <td>52</td>\n",
       "      <td>...</td>\n",
       "      <td>Верещагин</td>\n",
       "      <td>2018-05-25</td>\n",
       "      <td>ultra</td>\n",
       "      <td>1000</td>\n",
       "      <td>30720</td>\n",
       "      <td>3000</td>\n",
       "      <td>1950</td>\n",
       "      <td>150</td>\n",
       "      <td>1</td>\n",
       "      <td>1</td>\n",
       "    </tr>\n",
       "    <tr>\n",
       "      <th>2</th>\n",
       "      <td>1000_2</td>\n",
       "      <td>2018-06-11</td>\n",
       "      <td>2.85</td>\n",
       "      <td>1000</td>\n",
       "      <td>1000_2</td>\n",
       "      <td>2018-08-04</td>\n",
       "      <td>1000_2</td>\n",
       "      <td>1197.26</td>\n",
       "      <td>2018-06-25</td>\n",
       "      <td>52</td>\n",
       "      <td>...</td>\n",
       "      <td>Верещагин</td>\n",
       "      <td>2018-05-25</td>\n",
       "      <td>ultra</td>\n",
       "      <td>1000</td>\n",
       "      <td>30720</td>\n",
       "      <td>3000</td>\n",
       "      <td>1950</td>\n",
       "      <td>150</td>\n",
       "      <td>1</td>\n",
       "      <td>1</td>\n",
       "    </tr>\n",
       "    <tr>\n",
       "      <th>3</th>\n",
       "      <td>1000_3</td>\n",
       "      <td>2018-09-21</td>\n",
       "      <td>13.80</td>\n",
       "      <td>1000</td>\n",
       "      <td>1000_3</td>\n",
       "      <td>2018-06-16</td>\n",
       "      <td>1000_3</td>\n",
       "      <td>550.27</td>\n",
       "      <td>2018-08-22</td>\n",
       "      <td>52</td>\n",
       "      <td>...</td>\n",
       "      <td>Верещагин</td>\n",
       "      <td>2018-05-25</td>\n",
       "      <td>ultra</td>\n",
       "      <td>1000</td>\n",
       "      <td>30720</td>\n",
       "      <td>3000</td>\n",
       "      <td>1950</td>\n",
       "      <td>150</td>\n",
       "      <td>1</td>\n",
       "      <td>1</td>\n",
       "    </tr>\n",
       "    <tr>\n",
       "      <th>4</th>\n",
       "      <td>1000_4</td>\n",
       "      <td>2018-12-15</td>\n",
       "      <td>5.18</td>\n",
       "      <td>1000</td>\n",
       "      <td>1000_4</td>\n",
       "      <td>2018-12-05</td>\n",
       "      <td>1000_4</td>\n",
       "      <td>302.56</td>\n",
       "      <td>2018-09-24</td>\n",
       "      <td>52</td>\n",
       "      <td>...</td>\n",
       "      <td>Верещагин</td>\n",
       "      <td>2018-05-25</td>\n",
       "      <td>ultra</td>\n",
       "      <td>1000</td>\n",
       "      <td>30720</td>\n",
       "      <td>3000</td>\n",
       "      <td>1950</td>\n",
       "      <td>150</td>\n",
       "      <td>1</td>\n",
       "      <td>1</td>\n",
       "    </tr>\n",
       "  </tbody>\n",
       "</table>\n",
       "<p>5 rows × 23 columns</p>\n",
       "</div>"
      ],
      "text/plain": [
       "       id   call_date  duration  user_id id_message message_date id_internet  \\\n",
       "0  1000_0  2018-07-25      0.00     1000     1000_0   2018-06-27      1000_0   \n",
       "1  1000_1  2018-08-17      0.00     1000     1000_1   2018-10-08      1000_1   \n",
       "2  1000_2  2018-06-11      2.85     1000     1000_2   2018-08-04      1000_2   \n",
       "3  1000_3  2018-09-21     13.80     1000     1000_3   2018-06-16      1000_3   \n",
       "4  1000_4  2018-12-15      5.18     1000     1000_4   2018-12-05      1000_4   \n",
       "\n",
       "   mb_used session_date  age  ...  last_name    reg_date tariff_name  \\\n",
       "0   112.95   2018-11-25   52  ...  Верещагин  2018-05-25       ultra   \n",
       "1  1052.81   2018-09-07   52  ...  Верещагин  2018-05-25       ultra   \n",
       "2  1197.26   2018-06-25   52  ...  Верещагин  2018-05-25       ultra   \n",
       "3   550.27   2018-08-22   52  ...  Верещагин  2018-05-25       ultra   \n",
       "4   302.56   2018-09-24   52  ...  Верещагин  2018-05-25       ultra   \n",
       "\n",
       "  messages_included mb_per_month_included minutes_included  rub_monthly_fee  \\\n",
       "0              1000                 30720             3000             1950   \n",
       "1              1000                 30720             3000             1950   \n",
       "2              1000                 30720             3000             1950   \n",
       "3              1000                 30720             3000             1950   \n",
       "4              1000                 30720             3000             1950   \n",
       "\n",
       "   rub_per_gb  rub_per_message  rub_per_minute  \n",
       "0         150                1               1  \n",
       "1         150                1               1  \n",
       "2         150                1               1  \n",
       "3         150                1               1  \n",
       "4         150                1               1  \n",
       "\n",
       "[5 rows x 23 columns]"
      ]
     },
     "metadata": {},
     "output_type": "display_data"
    },
    {
     "name": "stdout",
     "output_type": "stream",
     "text": [
      "<class 'pandas.core.frame.DataFrame'>\n",
      "Int64Index: 202607 entries, 0 to 202606\n",
      "Data columns (total 23 columns):\n",
      " #   Column                 Non-Null Count   Dtype  \n",
      "---  ------                 --------------   -----  \n",
      " 0   id                     202607 non-null  object \n",
      " 1   call_date              202607 non-null  object \n",
      " 2   duration               202607 non-null  float64\n",
      " 3   user_id                202607 non-null  int64  \n",
      " 4   id_message             123036 non-null  object \n",
      " 5   message_date           123036 non-null  object \n",
      " 6   id_internet            149396 non-null  object \n",
      " 7   mb_used                149396 non-null  float64\n",
      " 8   session_date           149396 non-null  object \n",
      " 9   age                    202607 non-null  int64  \n",
      " 10  churn_date             9919 non-null    object \n",
      " 11  city                   202607 non-null  object \n",
      " 12  first_name             202607 non-null  object \n",
      " 13  last_name              202607 non-null  object \n",
      " 14  reg_date               202607 non-null  object \n",
      " 15  tariff_name            202607 non-null  object \n",
      " 16  messages_included      202607 non-null  int64  \n",
      " 17  mb_per_month_included  202607 non-null  int64  \n",
      " 18  minutes_included       202607 non-null  int64  \n",
      " 19  rub_monthly_fee        202607 non-null  int64  \n",
      " 20  rub_per_gb             202607 non-null  int64  \n",
      " 21  rub_per_message        202607 non-null  int64  \n",
      " 22  rub_per_minute         202607 non-null  int64  \n",
      "dtypes: float64(2), int64(9), object(12)\n",
      "memory usage: 37.1+ MB\n"
     ]
    }
   ],
   "source": [
    "df= df.drop(['user_id_message','user_id_internet'], axis=1) # удаляем дублирующие столбцы с user_id\n",
    "display(df.head())\n",
    "df.info()"
   ]
  },
  {
   "cell_type": "markdown",
   "metadata": {},
   "source": [
    "В новый датафрейм вошли все строки исходных датафреймов."
   ]
  },
  {
   "cell_type": "markdown",
   "metadata": {},
   "source": [
    "## Предобработка данных"
   ]
  },
  {
   "cell_type": "markdown",
   "metadata": {},
   "source": [
    "### Проверка типов данных"
   ]
  },
  {
   "cell_type": "markdown",
   "metadata": {},
   "source": [
    "Для возможности работы с датой преобразуем столбцы `call_date`, `message_date`, `reg_date`, `session_date`, `churn_date` в формат datetime:"
   ]
  },
  {
   "cell_type": "code",
   "execution_count": 11,
   "metadata": {},
   "outputs": [],
   "source": [
    "df['call_date'] = pd.to_datetime(df['call_date'], format='%Y-%m-%d')\n",
    "df['message_date'] = pd.to_datetime(df['message_date'], format='%Y-%m-%d')\n",
    "df['reg_date'] = pd.to_datetime(df['reg_date'], format='%Y-%m-%d')\n",
    "df['session_date'] = pd.to_datetime(df['session_date'], format='%Y-%m-%d')\n",
    "df['churn_date'] = pd.to_datetime(df['churn_date'], format='%Y-%m-%d')"
   ]
  },
  {
   "cell_type": "markdown",
   "metadata": {},
   "source": [
    "### Изучение пропусков  и ошибок в датафрейме"
   ]
  },
  {
   "cell_type": "markdown",
   "metadata": {},
   "source": [
    "Наиболее полно представлены данные по звонкам пользователей - 202607 строк, в столбцах `id_message`, `message_date`, `id_internet`, `mb_used`, `session_date`, `churn_date`, не удаляем эти пропуски, тк это исказит данные. \n",
    "\n",
    "В данных присутствуют с нулевой продолжительностью. Согласно документации нулями обозначены пропущенные звонки, поэтому их не нужно удалять."
   ]
  },
  {
   "cell_type": "markdown",
   "metadata": {},
   "source": [
    "### Добавление новых столбцов"
   ]
  },
  {
   "cell_type": "markdown",
   "metadata": {},
   "source": [
    "Посчитаем для каждого пользователя:\n",
    " - количество сделанных звонков и израсходованных минут разговора по месяцам;\n",
    " - количество отправленных сообщений по месяцам;\n",
    " - объем израсходованного интернет-трафика по месяцам;\n",
    " - помесячную выручку с каждого пользователя"
   ]
  },
  {
   "cell_type": "markdown",
   "metadata": {},
   "source": [
    "Добавим столбец с месяцами:"
   ]
  },
  {
   "cell_type": "code",
   "execution_count": 12,
   "metadata": {
    "scrolled": true
   },
   "outputs": [
    {
     "data": {
      "text/plain": [
       "0    7\n",
       "1    8\n",
       "2    6\n",
       "Name: call_month, dtype: int64"
      ]
     },
     "execution_count": 12,
     "metadata": {},
     "output_type": "execute_result"
    }
   ],
   "source": [
    "df['call_month'] = df['call_date'].dt.month\n",
    "df['internet_month'] = df['session_date'].dt.month\n",
    "df['message_month'] = df['message_date'].dt.month\n",
    "\n",
    "df['call_month'].head(3)"
   ]
  },
  {
   "cell_type": "markdown",
   "metadata": {},
   "source": [
    "Согласно документации, секунды округляются до минут, а мегабайты — до гигабайт. Каждый звонок округляется отдельно, а для веб-трафика бщая сумма за месяц округляется в бо́льшую сторону.\n",
    "\n",
    "Создадим функцию, вычисляющую месячную выручку с пользователя:"
   ]
  },
  {
   "cell_type": "code",
   "execution_count": 13,
   "metadata": {
    "scrolled": true
   },
   "outputs": [],
   "source": [
    "def income_counts(row):\n",
    "    dur = math.ceil(row['duration_per_month'])       # округляем продолжительность каждого звонка вверх\n",
    "    mess = row['messages_per_month']\n",
    "    gbs = math.ceil(row['mb_used_per_month']/1024)   # преобразуем мегабайты за месяц в Гб и округляем вверх\n",
    "    fee = row['rub_monthly_fee']\n",
    "    min_incl = row['minutes_included']\n",
    "    mess_incl = row['messages_included']\n",
    "    gbs_incl = row['mb_per_month_included']/1024  # то же самое с включенными Мб\n",
    "\n",
    "    rpmess = row['rub_per_message']\n",
    "    rpmin = row['rub_per_minute']\n",
    "    rpgb = row['rub_per_gb']\n",
    "    income_call = 0\n",
    "    income_mess = 0\n",
    "    income_int = 0\n",
    "    gbs = math.ceil(gbs)           \n",
    "    if (dur - min_incl) > 0:                       # проверяем, есть ли минуты сверх тарифа\n",
    "        income_call = (dur - min_incl)*rpmin\n",
    "    elif (mess - mess_incl) > 0:\n",
    "        income_mess = (mess - mess_incl)*rpmess    # проверяем, есть ли сообщения сверх тарифа\n",
    "    elif (gbs - gbs_incl) > 0:\n",
    "        income_int = (gbs - gbs_incl)*rpgb         # проверяем, есть ли Гб сверх тарифа\n",
    "    return  (income_call + income_mess + income_int) + fee  # считаем общую сумму плюс абонентская плата\n",
    "   "
   ]
  },
  {
   "cell_type": "markdown",
   "metadata": {},
   "source": [
    "Сгруппируем `df` по месяцам и `user_id`:"
   ]
  },
  {
   "cell_type": "code",
   "execution_count": 14,
   "metadata": {},
   "outputs": [
    {
     "data": {
      "text/html": [
       "<div>\n",
       "<style scoped>\n",
       "    .dataframe tbody tr th:only-of-type {\n",
       "        vertical-align: middle;\n",
       "    }\n",
       "\n",
       "    .dataframe tbody tr th {\n",
       "        vertical-align: top;\n",
       "    }\n",
       "\n",
       "    .dataframe thead th {\n",
       "        text-align: right;\n",
       "    }\n",
       "</style>\n",
       "<table border=\"1\" class=\"dataframe\">\n",
       "  <thead>\n",
       "    <tr style=\"text-align: right;\">\n",
       "      <th></th>\n",
       "      <th>user_id</th>\n",
       "      <th>call_month</th>\n",
       "      <th>city</th>\n",
       "      <th>tariff_name</th>\n",
       "      <th>mb_per_month_included</th>\n",
       "      <th>messages_included</th>\n",
       "      <th>minutes_included</th>\n",
       "      <th>rub_monthly_fee</th>\n",
       "      <th>rub_per_gb</th>\n",
       "      <th>rub_per_message</th>\n",
       "      <th>rub_per_minute</th>\n",
       "      <th>duration_per_month</th>\n",
       "      <th>mb_used_per_month</th>\n",
       "      <th>messages_per_month</th>\n",
       "    </tr>\n",
       "  </thead>\n",
       "  <tbody>\n",
       "    <tr>\n",
       "      <th>0</th>\n",
       "      <td>1000</td>\n",
       "      <td>5</td>\n",
       "      <td>Краснодар</td>\n",
       "      <td>ultra</td>\n",
       "      <td>30720</td>\n",
       "      <td>1000</td>\n",
       "      <td>3000</td>\n",
       "      <td>1950</td>\n",
       "      <td>150</td>\n",
       "      <td>1</td>\n",
       "      <td>1</td>\n",
       "      <td>150.06</td>\n",
       "      <td>9170.77</td>\n",
       "      <td>22</td>\n",
       "    </tr>\n",
       "    <tr>\n",
       "      <th>1</th>\n",
       "      <td>1000</td>\n",
       "      <td>6</td>\n",
       "      <td>Краснодар</td>\n",
       "      <td>ultra</td>\n",
       "      <td>30720</td>\n",
       "      <td>1000</td>\n",
       "      <td>3000</td>\n",
       "      <td>1950</td>\n",
       "      <td>150</td>\n",
       "      <td>1</td>\n",
       "      <td>1</td>\n",
       "      <td>158.90</td>\n",
       "      <td>21861.71</td>\n",
       "      <td>43</td>\n",
       "    </tr>\n",
       "    <tr>\n",
       "      <th>2</th>\n",
       "      <td>1000</td>\n",
       "      <td>7</td>\n",
       "      <td>Краснодар</td>\n",
       "      <td>ultra</td>\n",
       "      <td>30720</td>\n",
       "      <td>1000</td>\n",
       "      <td>3000</td>\n",
       "      <td>1950</td>\n",
       "      <td>150</td>\n",
       "      <td>1</td>\n",
       "      <td>1</td>\n",
       "      <td>318.80</td>\n",
       "      <td>19243.06</td>\n",
       "      <td>47</td>\n",
       "    </tr>\n",
       "    <tr>\n",
       "      <th>3</th>\n",
       "      <td>1000</td>\n",
       "      <td>8</td>\n",
       "      <td>Краснодар</td>\n",
       "      <td>ultra</td>\n",
       "      <td>30720</td>\n",
       "      <td>1000</td>\n",
       "      <td>3000</td>\n",
       "      <td>1950</td>\n",
       "      <td>150</td>\n",
       "      <td>1</td>\n",
       "      <td>1</td>\n",
       "      <td>389.87</td>\n",
       "      <td>24485.42</td>\n",
       "      <td>52</td>\n",
       "    </tr>\n",
       "    <tr>\n",
       "      <th>4</th>\n",
       "      <td>1000</td>\n",
       "      <td>9</td>\n",
       "      <td>Краснодар</td>\n",
       "      <td>ultra</td>\n",
       "      <td>30720</td>\n",
       "      <td>1000</td>\n",
       "      <td>3000</td>\n",
       "      <td>1950</td>\n",
       "      <td>150</td>\n",
       "      <td>1</td>\n",
       "      <td>1</td>\n",
       "      <td>440.14</td>\n",
       "      <td>27527.32</td>\n",
       "      <td>58</td>\n",
       "    </tr>\n",
       "  </tbody>\n",
       "</table>\n",
       "</div>"
      ],
      "text/plain": [
       "   user_id  call_month       city tariff_name  mb_per_month_included  \\\n",
       "0     1000           5  Краснодар       ultra                  30720   \n",
       "1     1000           6  Краснодар       ultra                  30720   \n",
       "2     1000           7  Краснодар       ultra                  30720   \n",
       "3     1000           8  Краснодар       ultra                  30720   \n",
       "4     1000           9  Краснодар       ultra                  30720   \n",
       "\n",
       "   messages_included  minutes_included  rub_monthly_fee  rub_per_gb  \\\n",
       "0               1000              3000             1950         150   \n",
       "1               1000              3000             1950         150   \n",
       "2               1000              3000             1950         150   \n",
       "3               1000              3000             1950         150   \n",
       "4               1000              3000             1950         150   \n",
       "\n",
       "   rub_per_message  rub_per_minute  duration_per_month  mb_used_per_month  \\\n",
       "0                1               1              150.06            9170.77   \n",
       "1                1               1              158.90           21861.71   \n",
       "2                1               1              318.80           19243.06   \n",
       "3                1               1              389.87           24485.42   \n",
       "4                1               1              440.14           27527.32   \n",
       "\n",
       "   messages_per_month  \n",
       "0                  22  \n",
       "1                  43  \n",
       "2                  47  \n",
       "3                  52  \n",
       "4                  58  "
      ]
     },
     "execution_count": 14,
     "metadata": {},
     "output_type": "execute_result"
    }
   ],
   "source": [
    "df = df.pivot_table(\n",
    "    index=['user_id','call_month','city', 'tariff_name', 'mb_per_month_included', 'messages_included', 'minutes_included','rub_monthly_fee', 'rub_per_gb', 'rub_per_message', 'rub_per_minute'],\n",
    "    values=['duration', 'mb_used', 'id_message'], aggfunc = ['sum', 'count'])\n",
    "df.columns = ['duration_per_month', 'mb_used_per_month', '1', 'messages_per_month', '2']\n",
    "df = df.drop(['1','2'], axis=1).reset_index()\n",
    "df.head()\n",
    "                "
   ]
  },
  {
   "cell_type": "code",
   "execution_count": null,
   "metadata": {},
   "outputs": [],
   "source": []
  },
  {
   "cell_type": "code",
   "execution_count": 15,
   "metadata": {},
   "outputs": [
    {
     "name": "stdout",
     "output_type": "stream",
     "text": [
      "<class 'pandas.core.frame.DataFrame'>\n",
      "RangeIndex: 3174 entries, 0 to 3173\n",
      "Data columns (total 14 columns):\n",
      " #   Column                 Non-Null Count  Dtype  \n",
      "---  ------                 --------------  -----  \n",
      " 0   user_id                3174 non-null   int64  \n",
      " 1   call_month             3174 non-null   int64  \n",
      " 2   city                   3174 non-null   object \n",
      " 3   tariff_name            3174 non-null   object \n",
      " 4   mb_per_month_included  3174 non-null   int64  \n",
      " 5   messages_included      3174 non-null   int64  \n",
      " 6   minutes_included       3174 non-null   int64  \n",
      " 7   rub_monthly_fee        3174 non-null   int64  \n",
      " 8   rub_per_gb             3174 non-null   int64  \n",
      " 9   rub_per_message        3174 non-null   int64  \n",
      " 10  rub_per_minute         3174 non-null   int64  \n",
      " 11  duration_per_month     3174 non-null   float64\n",
      " 12  mb_used_per_month      3174 non-null   float64\n",
      " 13  messages_per_month     3174 non-null   int64  \n",
      "dtypes: float64(2), int64(10), object(2)\n",
      "memory usage: 347.3+ KB\n"
     ]
    }
   ],
   "source": [
    "df.info()"
   ]
  },
  {
   "cell_type": "code",
   "execution_count": 16,
   "metadata": {},
   "outputs": [
    {
     "data": {
      "text/html": [
       "<div>\n",
       "<style scoped>\n",
       "    .dataframe tbody tr th:only-of-type {\n",
       "        vertical-align: middle;\n",
       "    }\n",
       "\n",
       "    .dataframe tbody tr th {\n",
       "        vertical-align: top;\n",
       "    }\n",
       "\n",
       "    .dataframe thead th {\n",
       "        text-align: right;\n",
       "    }\n",
       "</style>\n",
       "<table border=\"1\" class=\"dataframe\">\n",
       "  <thead>\n",
       "    <tr style=\"text-align: right;\">\n",
       "      <th></th>\n",
       "      <th>user_id</th>\n",
       "      <th>call_month</th>\n",
       "      <th>city</th>\n",
       "      <th>tariff_name</th>\n",
       "      <th>mb_per_month_included</th>\n",
       "      <th>messages_included</th>\n",
       "      <th>minutes_included</th>\n",
       "      <th>rub_monthly_fee</th>\n",
       "      <th>rub_per_gb</th>\n",
       "      <th>rub_per_message</th>\n",
       "      <th>rub_per_minute</th>\n",
       "      <th>duration_per_month</th>\n",
       "      <th>mb_used_per_month</th>\n",
       "      <th>messages_per_month</th>\n",
       "    </tr>\n",
       "  </thead>\n",
       "  <tbody>\n",
       "    <tr>\n",
       "      <th>1493</th>\n",
       "      <td>1240</td>\n",
       "      <td>2</td>\n",
       "      <td>Воронеж</td>\n",
       "      <td>ultra</td>\n",
       "      <td>30720</td>\n",
       "      <td>1000</td>\n",
       "      <td>3000</td>\n",
       "      <td>1950</td>\n",
       "      <td>150</td>\n",
       "      <td>1</td>\n",
       "      <td>1</td>\n",
       "      <td>0.0</td>\n",
       "      <td>142.15</td>\n",
       "      <td>2</td>\n",
       "    </tr>\n",
       "    <tr>\n",
       "      <th>1605</th>\n",
       "      <td>1257</td>\n",
       "      <td>7</td>\n",
       "      <td>Санкт-Петербург</td>\n",
       "      <td>ultra</td>\n",
       "      <td>30720</td>\n",
       "      <td>1000</td>\n",
       "      <td>3000</td>\n",
       "      <td>1950</td>\n",
       "      <td>150</td>\n",
       "      <td>1</td>\n",
       "      <td>1</td>\n",
       "      <td>0.0</td>\n",
       "      <td>10.23</td>\n",
       "      <td>1</td>\n",
       "    </tr>\n",
       "    <tr>\n",
       "      <th>1606</th>\n",
       "      <td>1257</td>\n",
       "      <td>8</td>\n",
       "      <td>Санкт-Петербург</td>\n",
       "      <td>ultra</td>\n",
       "      <td>30720</td>\n",
       "      <td>1000</td>\n",
       "      <td>3000</td>\n",
       "      <td>1950</td>\n",
       "      <td>150</td>\n",
       "      <td>1</td>\n",
       "      <td>1</td>\n",
       "      <td>0.0</td>\n",
       "      <td>0.00</td>\n",
       "      <td>2</td>\n",
       "    </tr>\n",
       "    <tr>\n",
       "      <th>1607</th>\n",
       "      <td>1257</td>\n",
       "      <td>9</td>\n",
       "      <td>Санкт-Петербург</td>\n",
       "      <td>ultra</td>\n",
       "      <td>30720</td>\n",
       "      <td>1000</td>\n",
       "      <td>3000</td>\n",
       "      <td>1950</td>\n",
       "      <td>150</td>\n",
       "      <td>1</td>\n",
       "      <td>1</td>\n",
       "      <td>0.0</td>\n",
       "      <td>746.56</td>\n",
       "      <td>1</td>\n",
       "    </tr>\n",
       "    <tr>\n",
       "      <th>2318</th>\n",
       "      <td>1373</td>\n",
       "      <td>1</td>\n",
       "      <td>Улан-Удэ</td>\n",
       "      <td>smart</td>\n",
       "      <td>15360</td>\n",
       "      <td>50</td>\n",
       "      <td>500</td>\n",
       "      <td>550</td>\n",
       "      <td>200</td>\n",
       "      <td>3</td>\n",
       "      <td>3</td>\n",
       "      <td>0.0</td>\n",
       "      <td>222.89</td>\n",
       "      <td>0</td>\n",
       "    </tr>\n",
       "    <tr>\n",
       "      <th>2321</th>\n",
       "      <td>1373</td>\n",
       "      <td>4</td>\n",
       "      <td>Улан-Удэ</td>\n",
       "      <td>smart</td>\n",
       "      <td>15360</td>\n",
       "      <td>50</td>\n",
       "      <td>500</td>\n",
       "      <td>550</td>\n",
       "      <td>200</td>\n",
       "      <td>3</td>\n",
       "      <td>3</td>\n",
       "      <td>0.0</td>\n",
       "      <td>226.68</td>\n",
       "      <td>0</td>\n",
       "    </tr>\n",
       "  </tbody>\n",
       "</table>\n",
       "</div>"
      ],
      "text/plain": [
       "      user_id  call_month             city tariff_name  mb_per_month_included  \\\n",
       "1493     1240           2          Воронеж       ultra                  30720   \n",
       "1605     1257           7  Санкт-Петербург       ultra                  30720   \n",
       "1606     1257           8  Санкт-Петербург       ultra                  30720   \n",
       "1607     1257           9  Санкт-Петербург       ultra                  30720   \n",
       "2318     1373           1         Улан-Удэ       smart                  15360   \n",
       "2321     1373           4         Улан-Удэ       smart                  15360   \n",
       "\n",
       "      messages_included  minutes_included  rub_monthly_fee  rub_per_gb  \\\n",
       "1493               1000              3000             1950         150   \n",
       "1605               1000              3000             1950         150   \n",
       "1606               1000              3000             1950         150   \n",
       "1607               1000              3000             1950         150   \n",
       "2318                 50               500              550         200   \n",
       "2321                 50               500              550         200   \n",
       "\n",
       "      rub_per_message  rub_per_minute  duration_per_month  mb_used_per_month  \\\n",
       "1493                1               1                 0.0             142.15   \n",
       "1605                1               1                 0.0              10.23   \n",
       "1606                1               1                 0.0               0.00   \n",
       "1607                1               1                 0.0             746.56   \n",
       "2318                3               3                 0.0             222.89   \n",
       "2321                3               3                 0.0             226.68   \n",
       "\n",
       "      messages_per_month  \n",
       "1493                   2  \n",
       "1605                   1  \n",
       "1606                   2  \n",
       "1607                   1  \n",
       "2318                   0  \n",
       "2321                   0  "
      ]
     },
     "execution_count": 16,
     "metadata": {},
     "output_type": "execute_result"
    }
   ],
   "source": [
    "df.query(\"duration_per_month == 0\")"
   ]
  },
  {
   "cell_type": "markdown",
   "metadata": {},
   "source": [
    "Создаём столбец `income`, применив функцию к `df`:"
   ]
  },
  {
   "cell_type": "code",
   "execution_count": 17,
   "metadata": {
    "scrolled": true
   },
   "outputs": [
    {
     "data": {
      "text/plain": [
       "3171    550.0\n",
       "3172    781.0\n",
       "3173    550.0\n",
       "Name: income, dtype: float64"
      ]
     },
     "execution_count": 17,
     "metadata": {},
     "output_type": "execute_result"
    }
   ],
   "source": [
    "df['income'] = df.apply(income_counts, axis=1)    \n",
    "df['income'].tail(3)       "
   ]
  },
  {
   "cell_type": "code",
   "execution_count": 18,
   "metadata": {},
   "outputs": [
    {
     "data": {
      "text/plain": [
       "count    3174.000000\n",
       "mean      431.250800\n",
       "std       224.914227\n",
       "min         0.000000\n",
       "25%       273.835000\n",
       "50%       420.715000\n",
       "75%       558.602500\n",
       "max      1578.060000\n",
       "Name: duration_per_month, dtype: float64"
      ]
     },
     "execution_count": 18,
     "metadata": {},
     "output_type": "execute_result"
    }
   ],
   "source": [
    "df['duration_per_month'].describe()"
   ]
  },
  {
   "cell_type": "markdown",
   "metadata": {},
   "source": [
    "## Исследовательский анализ данных"
   ]
  },
  {
   "cell_type": "markdown",
   "metadata": {},
   "source": [
    "Рассмотрим, сколько минут разговора, сколько сообщений и какой объём интернет-трафика требуется пользователям каждого тарифа в месяц. Посчитаем среднее количество, дисперсию и стандартное отклонение.\n"
   ]
  },
  {
   "cell_type": "markdown",
   "metadata": {},
   "source": [
    "### Анализ продолжительности звонков\n",
    "\n",
    "Для начала посмотрим на среднее кол-во использованных минут в месяц c помощью гистограммы:"
   ]
  },
  {
   "cell_type": "code",
   "execution_count": 37,
   "metadata": {},
   "outputs": [
    {
     "data": {
      "text/plain": [
       "Text(0, 0.5, 'Число пользователей в месяц')"
      ]
     },
     "execution_count": 37,
     "metadata": {},
     "output_type": "execute_result"
    },
    {
     "data": {
      "image/png": "[encoded data removed]",
      "text/plain": [
       "<Figure size 432x288 with 1 Axes>"
      ]
     },
     "metadata": {
      "needs_background": "light"
     },
     "output_type": "display_data"
    }
   ],
   "source": [
    "df.query('tariff_name == \"smart\"')['duration_per_month'].hist()\n",
    "df.query('tariff_name == \"ultra\"')['duration_per_month'].hist(alpha=0.7)\n",
    "plt.xlabel('Общая продолжительность звонков в месяц')\n",
    "plt.ylabel('Число пользователей в месяц')"
   ]
  },
  {
   "cell_type": "code",
   "execution_count": 20,
   "metadata": {
    "scrolled": true
   },
   "outputs": [
    {
     "name": "stdout",
     "output_type": "stream",
     "text": [
      "среднее, звонки, тариф Смарт:   395.8477442593426\n",
      "среднее, звонки, тариф Ультра:  517.0139387539598\n"
     ]
    }
   ],
   "source": [
    "print('среднее, звонки, тариф Смарт:  ', df.query('(tariff_name == \"smart\") and (duration_per_month != 0)')['duration_per_month'].mean())\n",
    "print('среднее, звонки, тариф Ультра: ', df.query('(tariff_name == \"ultra\") and (duration_per_month != 0)')['duration_per_month'].mean())"
   ]
  },
  {
   "cell_type": "markdown",
   "metadata": {},
   "source": [
    "В среднем продолжительность звонков пользователей тарифа Ультра выше, чем у пользователей Смарта, но почти в 6 раз меньше, чем количество минут разговора в месяц, включённых в абонентскую плату - 3000 минут.\n",
    "\n",
    "Теперь найдем дисперсию. Так как датасет — не вся совокупность, а выборка из неё, в методе var() указываем параметр ddof=1:"
   ]
  },
  {
   "cell_type": "code",
   "execution_count": 21,
   "metadata": {},
   "outputs": [
    {
     "name": "stdout",
     "output_type": "stream",
     "text": [
      "дисперсия, тариф Смарт:   32052.625910876148\n",
      "дисперсия, тариф Ультра:  84002.60126038875\n"
     ]
    }
   ],
   "source": [
    "print('дисперсия, тариф Смарт:  ', np.var(df.query('(tariff_name == \"smart\")')['duration_per_month'], ddof=1))\n",
    "print('дисперсия, тариф Ультра: ', np.var(df.query('(tariff_name == \"ultra\")')['duration_per_month'], ddof=1))"
   ]
  },
  {
   "cell_type": "markdown",
   "metadata": {
    "scrolled": true
   },
   "source": [
    "Найдем стандартное отклонение:"
   ]
  },
  {
   "cell_type": "code",
   "execution_count": 22,
   "metadata": {},
   "outputs": [
    {
     "name": "stdout",
     "output_type": "stream",
     "text": [
      "стандартное отклонение, тариф Смарт:   179.03247166610907\n",
      "стандартное отклонение, тариф Ультра:  289.8320224895599\n"
     ]
    }
   ],
   "source": [
    "print('стандартное отклонение, тариф Смарт:  ', np.std(df.query('(tariff_name == \"smart\")')['duration_per_month'], ddof=1))\n",
    "print('стандартное отклонение, тариф Ультра: ', np.std(df.query('(tariff_name == \"ultra\")')['duration_per_month'], ddof=1))"
   ]
  },
  {
   "cell_type": "markdown",
   "metadata": {},
   "source": [
    "Для пользователей тарифа Ультра разброс данных больше, что подтверждается более пологой формой распределения на гистограмме.  \n",
    "\n",
    "Также из гистограммы можно увидеть, что пользователи тарифа Ультра не используют больше 1600 минут в месяц, то есть неиспользованными остаются около половины минут разговора в месяц, включённых в абонентскую плату, в то время как 28% пользователей тарифа Смарт превышают лимит в 500 минут. "
   ]
  },
  {
   "cell_type": "code",
   "execution_count": 23,
   "metadata": {},
   "outputs": [
    {
     "data": {
      "text/plain": [
       "0.2802519118308592"
      ]
     },
     "execution_count": 23,
     "metadata": {},
     "output_type": "execute_result"
    }
   ],
   "source": [
    "# cчитаем долю, где число минут превышает включённые 500\n",
    "len(df.query('(tariff_name == \"smart\") and (duration_per_month > 500)')['duration_per_month']) / len(df.query('(tariff_name == \"smart\")')['duration_per_month'])"
   ]
  },
  {
   "cell_type": "markdown",
   "metadata": {},
   "source": [
    "### Анализ количества сообщений"
   ]
  },
  {
   "cell_type": "markdown",
   "metadata": {},
   "source": [
    "Теперь посмотрим на среднее кол-во сообщений месяц c помощью гистограммы, исключив нулевые значения:"
   ]
  },
  {
   "cell_type": "code",
   "execution_count": 24,
   "metadata": {
    "scrolled": true
   },
   "outputs": [
    {
     "data": {
      "text/plain": [
       "Text(0, 0.5, 'Число пользователей в месяц')"
      ]
     },
     "execution_count": 24,
     "metadata": {},
     "output_type": "execute_result"
    },
    {
     "data": {
      "image/png": "[encoded data removed]",
      "text/plain": [
       "<Figure size 432x288 with 1 Axes>"
      ]
     },
     "metadata": {
      "needs_background": "light"
     },
     "output_type": "display_data"
    }
   ],
   "source": [
    "df.query('(tariff_name == \"smart\") and (messages_per_month != 0)')['messages_per_month'].hist()\n",
    "df.query('(tariff_name == \"ultra\") and (messages_per_month != 0)')['messages_per_month'].hist(alpha=0.7)\n",
    "plt.xlabel('Общее количество сообщений в месяц')\n",
    "plt.ylabel('Число пользователей в месяц')"
   ]
  },
  {
   "cell_type": "code",
   "execution_count": 25,
   "metadata": {},
   "outputs": [
    {
     "name": "stdout",
     "output_type": "stream",
     "text": [
      "среднее, сообщения, тариф Смарт:   38.61268556005398\n",
      "среднее, сообщения, тариф Ультра:  39.11671924290221\n"
     ]
    }
   ],
   "source": [
    "print('среднее, сообщения, тариф Смарт:  ', df.query('(tariff_name == \"smart\")')['messages_per_month'].mean())\n",
    "print('среднее, сообщения, тариф Ультра: ', df.query('(tariff_name == \"ultra\")')['messages_per_month'].mean())"
   ]
  },
  {
   "cell_type": "markdown",
   "metadata": {},
   "source": [
    "В среднем количество отправленных сообщений для пользователей тарифа Ультра примерно одинаково с пользователями Смарта, но значительно меньше, чем количество сообщений в месяц, включённых в абонентскую плату - 1000 сообщений.\n",
    "\n",
    "Теперь найдем дисперсию. Так как датасет — не вся совокупность, а выборка из неё, в методе var() указываем параметр ddof=1:"
   ]
  },
  {
   "cell_type": "code",
   "execution_count": 26,
   "metadata": {},
   "outputs": [
    {
     "name": "stdout",
     "output_type": "stream",
     "text": [
      "дисперсия, сообщения, тариф Смарт:   1192.313916411884\n",
      "дисперсия, сообщения, тариф Ультра:  2193.423204383198\n"
     ]
    }
   ],
   "source": [
    "print('дисперсия, сообщения, тариф Смарт:  ', np.var(df.query('(tariff_name == \"smart\")')['messages_per_month'], ddof=1))\n",
    "print('дисперсия, сообщения, тариф Ультра: ', np.var(df.query('(tariff_name == \"ultra\")')['messages_per_month'], ddof=1))"
   ]
  },
  {
   "cell_type": "markdown",
   "metadata": {},
   "source": [
    "Найдем стандартное отклонение:"
   ]
  },
  {
   "cell_type": "code",
   "execution_count": 27,
   "metadata": {
    "scrolled": true
   },
   "outputs": [
    {
     "name": "stdout",
     "output_type": "stream",
     "text": [
      "стандартное отклонение, сообщения, тариф Смарт:   34.529898876363426\n",
      "стандартное отклонение, сообщения, тариф Ультра:  46.83399624613725\n"
     ]
    }
   ],
   "source": [
    "print('стандартное отклонение, сообщения, тариф Смарт:  ', np.std(df.query('(tariff_name == \"smart\")')['messages_per_month'], ddof=1))\n",
    "print('стандартное отклонение, сообщения, тариф Ультра: ', np.std(df.query('(tariff_name == \"ultra\")')['messages_per_month'], ddof=1))"
   ]
  },
  {
   "cell_type": "markdown",
   "metadata": {},
   "source": [
    "Для пользователей тарифа Ультра разброс данных больше.\n",
    "\n",
    "Также из гистограммы можно увидеть, что пользователи тарифа Ультра не используют больше 200 сообщений в месяц, то есть неиспользованными остаются около 80% сообщений, включённых в абонентскую плату, в то время как почти половина пользователей тарифа Смарт - 42%  превышают лимит в 50 сообщений."
   ]
  },
  {
   "cell_type": "code",
   "execution_count": 28,
   "metadata": {},
   "outputs": [
    {
     "data": {
      "text/plain": [
       "0.4228520017993702"
      ]
     },
     "execution_count": 28,
     "metadata": {},
     "output_type": "execute_result"
    }
   ],
   "source": [
    "# cчитаем долю, где число сообщений превышает включённые 50\n",
    "len(df.query('(tariff_name == \"smart\") and (messages_per_month > 50)')['duration_per_month']) / len(df.query('(tariff_name == \"smart\")')['duration_per_month'])"
   ]
  },
  {
   "cell_type": "markdown",
   "metadata": {},
   "source": [
    "### Анализ объёма интернет-трафика"
   ]
  },
  {
   "cell_type": "markdown",
   "metadata": {},
   "source": [
    "Теперь посмотрим на среднее кол-во объёма интернет-трафика c помощью гистограммы, исключив нулевые значения:"
   ]
  },
  {
   "cell_type": "code",
   "execution_count": 29,
   "metadata": {},
   "outputs": [
    {
     "data": {
      "text/plain": [
       "Text(0, 0.5, 'Число пользователей в месяц')"
      ]
     },
     "execution_count": 29,
     "metadata": {},
     "output_type": "execute_result"
    },
    {
     "data": {
      "image/png": "[encoded data removed]",
      "text/plain": [
       "<Figure size 432x288 with 1 Axes>"
      ]
     },
     "metadata": {
      "needs_background": "light"
     },
     "output_type": "display_data"
    }
   ],
   "source": [
    "df.query('(tariff_name == \"smart\") and (mb_used_per_month != 0)')['mb_used_per_month'].hist()\n",
    "df.query('(tariff_name == \"ultra\") and (mb_used_per_month != 0)')['mb_used_per_month'].hist(alpha=0.7)\n",
    "plt.xlabel('Общее количество объёма интернет-трафика в месяц')\n",
    "plt.ylabel('Число пользователей в месяц')"
   ]
  },
  {
   "cell_type": "markdown",
   "metadata": {},
   "source": [
    "На гистограмме видно оторванное значение больше 60000 для тарифа Смарт, примем его как выброс при расчётах:"
   ]
  },
  {
   "cell_type": "code",
   "execution_count": 30,
   "metadata": {},
   "outputs": [
    {
     "name": "stdout",
     "output_type": "stream",
     "text": [
      "среднее, интернет, тариф Смарт:   16094.749369936992\n",
      "среднее, интернет, тариф Ультра:  20444.60374342797\n"
     ]
    }
   ],
   "source": [
    "print('среднее, интернет, тариф Смарт:  ', df.query('(tariff_name == \"smart\") and (mb_used_per_month <= 60000)')['mb_used_per_month'].mean())\n",
    "print('среднее, интернет, тариф Ультра: ', df.query('(tariff_name == \"ultra\")')['mb_used_per_month'].mean())"
   ]
  },
  {
   "cell_type": "markdown",
   "metadata": {},
   "source": [
    "В среднем объём интернет-трафика для пользователей тарифа Ультра выше, чем у пользователей Смарта, но  меньше, чем количество объёма, включённого в абонентскую плату - 30 Гб или 30720 Мб, в то время как у пользователей Смарта среднее значение превышает включенный объём - 15 Гб или 15360 Мб. \n",
    "\n",
    "Теперь найдем дисперсию. Так как датасет — не вся совокупность, а выборка из неё, в методе var() указываем параметр ddof=1:"
   ]
  },
  {
   "cell_type": "code",
   "execution_count": 31,
   "metadata": {},
   "outputs": [
    {
     "name": "stdout",
     "output_type": "stream",
     "text": [
      "дисперсия, интернет, тариф Смарт:   160364248.42280826\n",
      "дисперсия, интернет, тариф Ультра:   357199335.5307039\n"
     ]
    }
   ],
   "source": [
    "print('дисперсия, интернет, тариф Смарт:  ', np.var(df.query('(tariff_name == \"smart\") and (mb_used_per_month <= 60000)')['mb_used_per_month'], ddof=1))\n",
    "print('дисперсия, интернет, тариф Ультра:  ', np.var(df.query('(tariff_name == \"ultra\")')['mb_used_per_month'], ddof=1))\n"
   ]
  },
  {
   "cell_type": "markdown",
   "metadata": {},
   "source": [
    "Найдем стандартное отклонение:"
   ]
  },
  {
   "cell_type": "code",
   "execution_count": 32,
   "metadata": {},
   "outputs": [
    {
     "name": "stdout",
     "output_type": "stream",
     "text": [
      "стандартное отклонение, интернет, тариф Смарт:   12663.50063855995\n",
      "стандартное отклонение, интернет, тариф Смарт:   18899.717869076878\n"
     ]
    }
   ],
   "source": [
    "print('стандартное отклонение, интернет, тариф Смарт:  ', np.std(df.query('(tariff_name == \"smart\") and (mb_used_per_month <= 60000)')['mb_used_per_month'], ddof=1))\n",
    "print('стандартное отклонение, интернет, тариф Смарт:  ', np.std(df.query('(tariff_name == \"ultra\")')['mb_used_per_month'], ddof=1))"
   ]
  },
  {
   "cell_type": "markdown",
   "metadata": {},
   "source": [
    "Для пользователей тарифа Ультра разброс данных больше.\n",
    "\n",
    "Также из гистограммы можно увидеть, что включённый лимит в 30 Гб превышают 29% пользователей тарифа Ультра; включённый лимит в 15 Гб - 54% тарифа Смарт."
   ]
  },
  {
   "cell_type": "code",
   "execution_count": 33,
   "metadata": {},
   "outputs": [
    {
     "name": "stdout",
     "output_type": "stream",
     "text": [
      "0.5402609086819613\n",
      "0.29652996845425866\n"
     ]
    }
   ],
   "source": [
    "# cчитаем долю, где объём трафика превышает включённы 15360 и 30720\n",
    "print(len(df.query('(tariff_name == \"smart\") and (mb_used_per_month > 15360) and (mb_used_per_month <= 60000)')['duration_per_month']) / len(df.query('(tariff_name == \"smart\")')['duration_per_month']))\n",
    "print(len(df.query('(tariff_name == \"ultra\") and (mb_used_per_month > 30720)')['duration_per_month']) / len(df.query('(tariff_name == \"ultra\")')['duration_per_month']))"
   ]
  },
  {
   "cell_type": "markdown",
   "metadata": {},
   "source": [
    "## Проверка гипотез"
   ]
  },
  {
   "cell_type": "markdown",
   "metadata": {},
   "source": [
    "### Тест Левене"
   ]
  },
  {
   "cell_type": "markdown",
   "metadata": {},
   "source": [
    "До проверки гипотез сравним дисперсии для `income` для обоих тарифов, чтобы определить верное значение параметра equal_var:"
   ]
  },
  {
   "cell_type": "code",
   "execution_count": 34,
   "metadata": {},
   "outputs": [
    {
     "name": "stdout",
     "output_type": "stream",
     "text": [
      "p-значение теста: 1.6578213452175939e-43\n"
     ]
    }
   ],
   "source": [
    "stat, p = levene(df.query('(tariff_name == \"ultra\")')['income'], df.query('(tariff_name == \"smart\")')['income'])\n",
    "print('p-значение теста:', p)\n"
   ]
  },
  {
   "cell_type": "markdown",
   "metadata": {},
   "source": [
    "Малое значение р говорит о том, что дисперсии не равны, поэтому equal_var присваеваем значение False."
   ]
  },
  {
   "cell_type": "markdown",
   "metadata": {},
   "source": [
    "### Проверка первой гипотезы"
   ]
  },
  {
   "cell_type": "markdown",
   "metadata": {},
   "source": [
    "Нужно проверить, различается ли средняя выручка пользователей тарифов «Ультра» и «Смарт».\n",
    "Для этого сформулируем нулевую гипотезу:\n",
    "\n",
    " - ​ средние выручки пользователей тарифов «Ультра» и «Смарт» равны.\n",
    " \n",
    "И альтернативную гипотезу:\n",
    " - ​ средняя выручка пользователей тарифа «Ультра» больше, чем у тарифа «Смарт».\n",
    " \n",
    "Здесь можно предположить, что выручка пользователей тарифа «Ультра» будет больше, используем односторонюю гипотезу."
   ]
  },
  {
   "cell_type": "code",
   "execution_count": 35,
   "metadata": {},
   "outputs": [
    {
     "name": "stdout",
     "output_type": "stream",
     "text": [
      "p-значение: 4.987312141007694e-225\n",
      "Отвергаем нулевую гипотезу\n"
     ]
    }
   ],
   "source": [
    "smart_income  = df.query('tariff_name == \"smart\"')['income'] # cодержит выручки по тарифу Смарт\n",
    "ultra_income = df.query('tariff_name == \"ultra\"')['income']  # cодержит выручки по тарифу Ультра\n",
    "\n",
    "alpha = 0.05   \n",
    "\n",
    "results = st.ttest_ind(smart_income, ultra_income, equal_var=False)\n",
    "\n",
    "print('p-значение:', results.pvalue / 2)\n",
    "\n",
    "if (results.pvalue / 2 < alpha) and (ultra_income.mean() > smart_income.mean()): \n",
    "    print(\"Отвергаем нулевую гипотезу\")\n",
    "else:\n",
    "    print(\"Нулевая гипотеза верна\")"
   ]
  },
  {
   "cell_type": "markdown",
   "metadata": {},
   "source": [
    "### Проверка второй гипотезы"
   ]
  },
  {
   "cell_type": "markdown",
   "metadata": {},
   "source": [
    "Нужно проверить, различается ли средняя выручка пользователей из Москвы и средняя выручка пользователей из других регионов.\n",
    "\n",
    "Для этого сформулируем нулевую гипотезу:\n",
    "\n",
    " - ​ средние выручки пользователей пользователей из Москвы и пользователей из других регионов равны.\n",
    " \n",
    "И альтернативную гипотезу:\n",
    " - ​ средняя выручка пользователей пользователей из Москвы больше, чем выручка пользователей из других регионов.\n",
    " \n",
    "Здесь можно предположить, что выручка пользователей из Москвы будет больше, используем односторонюю гипотезу."
   ]
  },
  {
   "cell_type": "code",
   "execution_count": 36,
   "metadata": {},
   "outputs": [
    {
     "name": "stdout",
     "output_type": "stream",
     "text": [
      "p-значение: 0.0014901910475868469\n",
      "Отвергаем нулевую гипотезу\n"
     ]
    }
   ],
   "source": [
    "moscow_income  = df.query('city == \"Москва\"')['income'] # cодержит выручки по пользователям из Москвы\n",
    "regions_income = df.query('city != \"Москва\"')['income']  # cодержит выручки по пользователям из регионов\n",
    "\n",
    "alpha = 0.05   \n",
    "\n",
    "results = st.ttest_ind(moscow_income, regions_income, equal_var=False)\n",
    "\n",
    "print('p-значение:', results.pvalue / 2)\n",
    "\n",
    "if ((results.pvalue / 2) < alpha) and (moscow_income.mean() > regions_income.mean()) : \n",
    "    print(\"Отвергаем нулевую гипотезу\")\n",
    "else:\n",
    "    print(\"Нулевая гипотеза верна\")"
   ]
  },
  {
   "cell_type": "markdown",
   "metadata": {},
   "source": [
    "## Общий вывод\n"
   ]
  },
  {
   "cell_type": "markdown",
   "metadata": {},
   "source": [
    "По итогам исследовательского анализа данных можно сделать следующие выводы:\n",
    "\n",
    "- В среднем продолжительность звонков пользователей тарифа Ультра выше, чем у пользователей Смарта, но почти в 6 раз меньше, чем количество минут разговора в месяц, включённых в абонентскую плату - 3000 минут.\n",
    "- Пользователи тарифа Ультра используют не более 1600 минут в месяц, то есть неиспользованными остаются около половины минут разговора в месяц, включённых в абонентскую плату, в то время как 28% пользователей тарифа Смарт превышают лимит в 500 минут.\n",
    "- В среднем количество отправленных сообщений для пользователей тарифа Ультра примерно одинаково с пользователями Смарта, но значительно меньше, чем количество сообщений в месяц, включённых в абонентскую плату - 1000 сообщений.\n",
    "- Пользователи тарифа Ультра используют не больше 200 сообщений в месяц, то есть неиспользованными остаются около 80% сообщений, включённых в абонентскую плату, в то время как почти половина пользователей тарифа Смарт - 42% превышают лимит в 50 сообщений.\n",
    "- В среднем объём интернет-трафика для пользователей тарифа Ультра выше, чем у пользователей Смарта, но меньше, чем количество объёма, включённого в абонентскую плату - 30 Гб(или 30720 Мб), в то время как у пользователей Смарта среднее значение превышает включенный объём - 15 Гб(или 15360 Мб).\n",
    "- Включённый лимит в 30 Гб превышают 29% пользователей тарифа Ультра; включённый лимит в 15 Гб - 54% тарифа Смарт.\n",
    "\n",
    "\n",
    "На основе этого можно сделать предположение, что тариф Ультра клиенты выбирают в основном ради использования интернета - из всего предложенного пакета услуг полностью расходуется только интернет.\n",
    "\n",
    "По итогам проверки гипотез мы отвергли обе нулевые гипотезы и можем сделать следующие выводы:\n",
    "\n",
    "- средняя выручка с пользователей тарифов Ультра больше, чем Смарт, несмотря на то, что пользователи Смарта превышают лимит по включённым пакетам услуг.\n",
    "- средняя выручка пользователей пользователей из Москвы больше, чем выручка пользователей из других регионов."
   ]
  }
 ],
 "metadata": {
  "ExecuteTimeLog": [
   {
    "duration": 1268,
    "start_time": "2022-05-02T06:57:49.326Z"
   },
   {
    "duration": 673,
    "start_time": "2022-05-02T06:58:56.079Z"
   },
   {
    "duration": 4,
    "start_time": "2022-05-02T06:59:10.455Z"
   },
   {
    "duration": 869,
    "start_time": "2022-05-02T07:00:48.721Z"
   },
   {
    "duration": 631,
    "start_time": "2022-05-02T07:01:50.602Z"
   },
   {
    "duration": 13,
    "start_time": "2022-05-02T07:02:10.646Z"
   },
   {
    "duration": 37,
    "start_time": "2022-05-02T07:02:28.446Z"
   },
   {
    "duration": 35,
    "start_time": "2022-05-02T07:03:01.574Z"
   },
   {
    "duration": 12,
    "start_time": "2022-05-02T07:03:12.568Z"
   },
   {
    "duration": 30,
    "start_time": "2022-05-02T07:03:27.789Z"
   },
   {
    "duration": 28,
    "start_time": "2022-05-02T07:03:57.148Z"
   },
   {
    "duration": 21,
    "start_time": "2022-05-02T07:04:19.275Z"
   },
   {
    "duration": 16,
    "start_time": "2022-05-02T07:04:40.145Z"
   },
   {
    "duration": 25,
    "start_time": "2022-05-02T07:05:07.381Z"
   },
   {
    "duration": 24,
    "start_time": "2022-05-02T07:05:20.799Z"
   },
   {
    "duration": 43,
    "start_time": "2022-05-02T07:05:35.478Z"
   },
   {
    "duration": 49,
    "start_time": "2022-05-02T07:05:51.537Z"
   },
   {
    "duration": 49,
    "start_time": "2022-05-02T07:06:00.545Z"
   },
   {
    "duration": 9,
    "start_time": "2022-05-02T07:15:51.245Z"
   },
   {
    "duration": 1487,
    "start_time": "2022-05-02T07:56:55.608Z"
   },
   {
    "duration": 523,
    "start_time": "2022-05-02T07:56:57.098Z"
   },
   {
    "duration": 50,
    "start_time": "2022-05-02T07:56:57.623Z"
   },
   {
    "duration": 59,
    "start_time": "2022-05-02T07:56:57.676Z"
   },
   {
    "duration": 35,
    "start_time": "2022-05-02T07:56:57.738Z"
   },
   {
    "duration": 49,
    "start_time": "2022-05-02T07:56:57.775Z"
   },
   {
    "duration": 27,
    "start_time": "2022-05-02T07:56:57.827Z"
   },
   {
    "duration": 138,
    "start_time": "2022-05-02T08:02:14.392Z"
   },
   {
    "duration": 160,
    "start_time": "2022-05-02T08:03:16.676Z"
   },
   {
    "duration": 5,
    "start_time": "2022-05-02T08:03:19.871Z"
   },
   {
    "duration": 65,
    "start_time": "2022-05-02T08:03:25.968Z"
   },
   {
    "duration": 1487,
    "start_time": "2022-05-02T08:03:44.412Z"
   },
   {
    "duration": 670,
    "start_time": "2022-05-02T08:03:45.901Z"
   },
   {
    "duration": 90,
    "start_time": "2022-05-02T08:03:46.573Z"
   },
   {
    "duration": 88,
    "start_time": "2022-05-02T08:03:46.665Z"
   },
   {
    "duration": 80,
    "start_time": "2022-05-02T08:03:46.756Z"
   },
   {
    "duration": 22,
    "start_time": "2022-05-02T08:03:46.839Z"
   },
   {
    "duration": 88,
    "start_time": "2022-05-02T08:03:46.865Z"
   },
   {
    "duration": 182,
    "start_time": "2022-05-02T08:03:46.955Z"
   },
   {
    "duration": 54,
    "start_time": "2022-05-02T08:04:07.317Z"
   },
   {
    "duration": 68,
    "start_time": "2022-05-02T08:04:21.701Z"
   },
   {
    "duration": 135,
    "start_time": "2022-05-02T08:04:49.972Z"
   },
   {
    "duration": 94,
    "start_time": "2022-05-02T08:04:54.666Z"
   },
   {
    "duration": 15,
    "start_time": "2022-05-02T08:05:08.425Z"
   },
   {
    "duration": 126,
    "start_time": "2022-05-02T08:06:04.790Z"
   },
   {
    "duration": 80,
    "start_time": "2022-05-02T08:06:11.784Z"
   },
   {
    "duration": 70,
    "start_time": "2022-05-02T08:06:14.979Z"
   },
   {
    "duration": 69,
    "start_time": "2022-05-02T08:06:19.200Z"
   },
   {
    "duration": 117,
    "start_time": "2022-05-02T08:06:40.712Z"
   },
   {
    "duration": 87,
    "start_time": "2022-05-02T08:06:42.512Z"
   },
   {
    "duration": 243,
    "start_time": "2022-05-02T08:07:08.900Z"
   },
   {
    "duration": 144,
    "start_time": "2022-05-02T08:07:09.972Z"
   },
   {
    "duration": 52,
    "start_time": "2022-05-02T08:07:42.064Z"
   },
   {
    "duration": 142,
    "start_time": "2022-05-02T08:07:49.716Z"
   },
   {
    "duration": 50,
    "start_time": "2022-05-02T08:07:52.014Z"
   },
   {
    "duration": 232,
    "start_time": "2022-05-02T08:08:06.649Z"
   },
   {
    "duration": 141,
    "start_time": "2022-05-02T08:08:07.363Z"
   },
   {
    "duration": 119,
    "start_time": "2022-05-02T08:09:28.001Z"
   },
   {
    "duration": 125,
    "start_time": "2022-05-02T08:09:30.192Z"
   },
   {
    "duration": 45,
    "start_time": "2022-05-02T08:10:03.108Z"
   },
   {
    "duration": 96,
    "start_time": "2022-05-02T08:10:03.664Z"
   },
   {
    "duration": 1506,
    "start_time": "2022-05-02T08:10:11.789Z"
   },
   {
    "duration": 530,
    "start_time": "2022-05-02T08:10:13.298Z"
   },
   {
    "duration": 50,
    "start_time": "2022-05-02T08:10:13.831Z"
   },
   {
    "duration": 56,
    "start_time": "2022-05-02T08:10:13.883Z"
   },
   {
    "duration": 34,
    "start_time": "2022-05-02T08:10:13.942Z"
   },
   {
    "duration": 50,
    "start_time": "2022-05-02T08:10:13.979Z"
   },
   {
    "duration": 29,
    "start_time": "2022-05-02T08:10:14.032Z"
   },
   {
    "duration": 82,
    "start_time": "2022-05-02T08:10:14.063Z"
   },
   {
    "duration": 110,
    "start_time": "2022-05-02T08:10:14.148Z"
   },
   {
    "duration": 170,
    "start_time": "2022-05-02T08:10:34.978Z"
   },
   {
    "duration": 50,
    "start_time": "2022-05-02T08:10:39.939Z"
   },
   {
    "duration": 101,
    "start_time": "2022-05-02T08:10:43.088Z"
   },
   {
    "duration": 21,
    "start_time": "2022-05-02T08:12:21.919Z"
   },
   {
    "duration": 41,
    "start_time": "2022-05-02T08:12:48.631Z"
   },
   {
    "duration": 102,
    "start_time": "2022-05-02T08:12:50.606Z"
   },
   {
    "duration": 72,
    "start_time": "2022-05-02T08:14:02.661Z"
   },
   {
    "duration": 138,
    "start_time": "2022-05-02T08:14:04.326Z"
   },
   {
    "duration": 114,
    "start_time": "2022-05-02T08:14:32.848Z"
   },
   {
    "duration": 208,
    "start_time": "2022-05-02T08:14:33.492Z"
   },
   {
    "duration": 114,
    "start_time": "2022-05-02T08:18:53.000Z"
   },
   {
    "duration": 148,
    "start_time": "2022-05-02T08:18:54.842Z"
   },
   {
    "duration": 110,
    "start_time": "2022-05-02T08:19:59.664Z"
   },
   {
    "duration": 152,
    "start_time": "2022-05-02T08:20:00.294Z"
   },
   {
    "duration": 136,
    "start_time": "2022-05-02T08:20:56.760Z"
   },
   {
    "duration": 138,
    "start_time": "2022-05-02T08:21:00.212Z"
   },
   {
    "duration": 171,
    "start_time": "2022-05-02T08:21:00.353Z"
   },
   {
    "duration": 156,
    "start_time": "2022-05-02T08:21:22.928Z"
   },
   {
    "duration": 143,
    "start_time": "2022-05-02T08:21:23.550Z"
   },
   {
    "duration": 165,
    "start_time": "2022-05-02T08:21:31.105Z"
   },
   {
    "duration": 153,
    "start_time": "2022-05-02T08:21:31.629Z"
   },
   {
    "duration": 1449,
    "start_time": "2022-05-02T08:21:59.454Z"
   },
   {
    "duration": 513,
    "start_time": "2022-05-02T08:22:00.906Z"
   },
   {
    "duration": 47,
    "start_time": "2022-05-02T08:22:01.424Z"
   },
   {
    "duration": 62,
    "start_time": "2022-05-02T08:22:01.474Z"
   },
   {
    "duration": 33,
    "start_time": "2022-05-02T08:22:01.539Z"
   },
   {
    "duration": 50,
    "start_time": "2022-05-02T08:22:01.574Z"
   },
   {
    "duration": 28,
    "start_time": "2022-05-02T08:22:01.627Z"
   },
   {
    "duration": 227,
    "start_time": "2022-05-02T08:22:01.657Z"
   },
   {
    "duration": 159,
    "start_time": "2022-05-02T08:22:01.887Z"
   },
   {
    "duration": 131,
    "start_time": "2022-05-02T08:22:28.002Z"
   },
   {
    "duration": 114,
    "start_time": "2022-05-02T08:22:28.919Z"
   },
   {
    "duration": 72,
    "start_time": "2022-05-02T08:23:00.039Z"
   },
   {
    "duration": 70,
    "start_time": "2022-05-02T08:23:00.597Z"
   },
   {
    "duration": 1515,
    "start_time": "2022-05-02T08:23:19.784Z"
   },
   {
    "duration": 526,
    "start_time": "2022-05-02T08:23:21.301Z"
   },
   {
    "duration": 52,
    "start_time": "2022-05-02T08:23:21.829Z"
   },
   {
    "duration": 59,
    "start_time": "2022-05-02T08:23:21.884Z"
   },
   {
    "duration": 32,
    "start_time": "2022-05-02T08:23:21.945Z"
   },
   {
    "duration": 44,
    "start_time": "2022-05-02T08:23:21.980Z"
   },
   {
    "duration": 28,
    "start_time": "2022-05-02T08:23:22.026Z"
   },
   {
    "duration": 107,
    "start_time": "2022-05-02T08:23:22.057Z"
   },
   {
    "duration": 82,
    "start_time": "2022-05-02T08:23:22.166Z"
   },
   {
    "duration": 152,
    "start_time": "2022-05-02T08:25:40.198Z"
   },
   {
    "duration": 94,
    "start_time": "2022-05-02T08:25:40.806Z"
   },
   {
    "duration": 95,
    "start_time": "2022-05-02T08:25:53.296Z"
   },
   {
    "duration": 67,
    "start_time": "2022-05-02T08:25:53.876Z"
   },
   {
    "duration": 200,
    "start_time": "2022-05-02T08:26:15.608Z"
   },
   {
    "duration": 75,
    "start_time": "2022-05-02T08:28:59.666Z"
   },
   {
    "duration": 1457,
    "start_time": "2022-05-02T08:29:03.954Z"
   },
   {
    "duration": 537,
    "start_time": "2022-05-02T08:29:05.413Z"
   },
   {
    "duration": 48,
    "start_time": "2022-05-02T08:29:05.952Z"
   },
   {
    "duration": 43,
    "start_time": "2022-05-02T08:29:06.002Z"
   },
   {
    "duration": 32,
    "start_time": "2022-05-02T08:29:06.048Z"
   },
   {
    "duration": 54,
    "start_time": "2022-05-02T08:29:06.082Z"
   },
   {
    "duration": 27,
    "start_time": "2022-05-02T08:29:06.138Z"
   },
   {
    "duration": 188,
    "start_time": "2022-05-02T08:29:06.167Z"
   },
   {
    "duration": 0,
    "start_time": "2022-05-02T08:29:06.357Z"
   },
   {
    "duration": 24,
    "start_time": "2022-05-02T08:30:05.910Z"
   },
   {
    "duration": 24,
    "start_time": "2022-05-02T08:30:13.337Z"
   },
   {
    "duration": 4,
    "start_time": "2022-05-02T08:30:18.366Z"
   },
   {
    "duration": 511,
    "start_time": "2022-05-02T08:30:18.767Z"
   },
   {
    "duration": 46,
    "start_time": "2022-05-02T08:30:19.281Z"
   },
   {
    "duration": 42,
    "start_time": "2022-05-02T08:30:20.076Z"
   },
   {
    "duration": 36,
    "start_time": "2022-05-02T08:30:21.287Z"
   },
   {
    "duration": 23,
    "start_time": "2022-05-02T08:30:21.459Z"
   },
   {
    "duration": 27,
    "start_time": "2022-05-02T08:30:22.310Z"
   },
   {
    "duration": 40,
    "start_time": "2022-05-02T08:30:23.834Z"
   },
   {
    "duration": 25,
    "start_time": "2022-05-02T08:30:34.093Z"
   },
   {
    "duration": 39,
    "start_time": "2022-05-02T08:37:28.349Z"
   },
   {
    "duration": 117,
    "start_time": "2022-05-02T08:37:29.580Z"
   },
   {
    "duration": 104,
    "start_time": "2022-05-02T08:37:49.791Z"
   },
   {
    "duration": 190,
    "start_time": "2022-05-02T08:37:50.475Z"
   },
   {
    "duration": 152,
    "start_time": "2022-05-02T08:38:12.728Z"
   },
   {
    "duration": 233,
    "start_time": "2022-05-02T08:38:14.090Z"
   },
   {
    "duration": 178,
    "start_time": "2022-05-02T09:30:38.767Z"
   },
   {
    "duration": 143,
    "start_time": "2022-05-02T09:30:40.302Z"
   },
   {
    "duration": 89,
    "start_time": "2022-05-02T09:32:21.464Z"
   },
   {
    "duration": 159,
    "start_time": "2022-05-02T09:32:26.900Z"
   },
   {
    "duration": 295,
    "start_time": "2022-05-02T09:32:39.896Z"
   },
   {
    "duration": 181,
    "start_time": "2022-05-02T09:33:00.682Z"
   },
   {
    "duration": 174,
    "start_time": "2022-05-02T09:33:07.748Z"
   },
   {
    "duration": 178,
    "start_time": "2022-05-02T09:33:13.420Z"
   },
   {
    "duration": 18,
    "start_time": "2022-05-02T09:33:43.017Z"
   },
   {
    "duration": 12,
    "start_time": "2022-05-02T09:33:55.021Z"
   },
   {
    "duration": 21,
    "start_time": "2022-05-02T09:34:02.206Z"
   },
   {
    "duration": 137,
    "start_time": "2022-05-02T09:34:10.597Z"
   },
   {
    "duration": 297,
    "start_time": "2022-05-02T09:34:11.844Z"
   },
   {
    "duration": 184,
    "start_time": "2022-05-02T09:35:02.425Z"
   },
   {
    "duration": 1238,
    "start_time": "2022-05-05T08:50:12.427Z"
   },
   {
    "duration": 414,
    "start_time": "2022-05-05T08:50:13.668Z"
   },
   {
    "duration": 36,
    "start_time": "2022-05-05T08:50:14.085Z"
   },
   {
    "duration": 30,
    "start_time": "2022-05-05T08:50:14.123Z"
   },
   {
    "duration": 49,
    "start_time": "2022-05-05T08:50:14.156Z"
   },
   {
    "duration": 14,
    "start_time": "2022-05-05T08:50:14.207Z"
   },
   {
    "duration": 32,
    "start_time": "2022-05-05T08:50:14.223Z"
   },
   {
    "duration": 240,
    "start_time": "2022-05-05T08:50:14.257Z"
   },
   {
    "duration": 0,
    "start_time": "2022-05-05T08:50:14.499Z"
   },
   {
    "duration": 4,
    "start_time": "2022-05-05T08:50:25.263Z"
   },
   {
    "duration": 411,
    "start_time": "2022-05-05T08:50:26.108Z"
   },
   {
    "duration": 31,
    "start_time": "2022-05-05T08:50:26.818Z"
   },
   {
    "duration": 26,
    "start_time": "2022-05-05T08:50:28.125Z"
   },
   {
    "duration": 23,
    "start_time": "2022-05-05T08:50:29.296Z"
   },
   {
    "duration": 18,
    "start_time": "2022-05-05T08:50:30.581Z"
   },
   {
    "duration": 22,
    "start_time": "2022-05-05T08:50:33.468Z"
   },
   {
    "duration": 130,
    "start_time": "2022-05-05T08:51:01.612Z"
   },
   {
    "duration": 189,
    "start_time": "2022-05-05T08:52:17.889Z"
   },
   {
    "duration": 236,
    "start_time": "2022-05-05T08:52:22.390Z"
   },
   {
    "duration": 13,
    "start_time": "2022-05-05T08:54:11.703Z"
   },
   {
    "duration": 188,
    "start_time": "2022-05-05T08:54:21.159Z"
   },
   {
    "duration": 232,
    "start_time": "2022-05-05T08:54:21.702Z"
   },
   {
    "duration": 156,
    "start_time": "2022-05-05T08:58:11.445Z"
   },
   {
    "duration": 54,
    "start_time": "2022-05-05T08:58:23.683Z"
   },
   {
    "duration": 108,
    "start_time": "2022-05-05T08:58:30.089Z"
   },
   {
    "duration": 149,
    "start_time": "2022-05-05T08:58:59.841Z"
   },
   {
    "duration": 53,
    "start_time": "2022-05-05T08:59:06.990Z"
   },
   {
    "duration": 98,
    "start_time": "2022-05-05T09:00:14.136Z"
   },
   {
    "duration": 25,
    "start_time": "2022-05-05T09:02:05.987Z"
   },
   {
    "duration": 196,
    "start_time": "2022-05-05T09:02:12.063Z"
   },
   {
    "duration": 252,
    "start_time": "2022-05-05T09:02:12.474Z"
   },
   {
    "duration": 367,
    "start_time": "2022-05-05T09:11:26.728Z"
   },
   {
    "duration": 358,
    "start_time": "2022-05-05T09:11:41.245Z"
   },
   {
    "duration": 18,
    "start_time": "2022-05-05T09:14:03.615Z"
   },
   {
    "duration": 11,
    "start_time": "2022-05-05T09:15:21.459Z"
   },
   {
    "duration": 115,
    "start_time": "2022-05-05T09:16:00.810Z"
   },
   {
    "duration": 120,
    "start_time": "2022-05-05T09:17:51.381Z"
   },
   {
    "duration": 122,
    "start_time": "2022-05-05T09:18:24.391Z"
   },
   {
    "duration": 120,
    "start_time": "2022-05-05T09:18:51.904Z"
   },
   {
    "duration": 119,
    "start_time": "2022-05-05T09:19:21.825Z"
   },
   {
    "duration": 8,
    "start_time": "2022-05-05T09:21:28.808Z"
   },
   {
    "duration": 21,
    "start_time": "2022-05-05T09:21:33.088Z"
   },
   {
    "duration": 67,
    "start_time": "2022-05-05T09:21:47.086Z"
   },
   {
    "duration": 74,
    "start_time": "2022-05-05T09:21:56.008Z"
   },
   {
    "duration": 64,
    "start_time": "2022-05-05T09:23:37.903Z"
   },
   {
    "duration": 12,
    "start_time": "2022-05-05T09:25:34.340Z"
   },
   {
    "duration": 3,
    "start_time": "2022-05-05T09:25:51.027Z"
   },
   {
    "duration": 368,
    "start_time": "2022-05-05T09:25:51.032Z"
   },
   {
    "duration": 31,
    "start_time": "2022-05-05T09:25:51.402Z"
   },
   {
    "duration": 27,
    "start_time": "2022-05-05T09:25:51.435Z"
   },
   {
    "duration": 22,
    "start_time": "2022-05-05T09:25:51.464Z"
   },
   {
    "duration": 15,
    "start_time": "2022-05-05T09:25:51.488Z"
   },
   {
    "duration": 18,
    "start_time": "2022-05-05T09:25:51.505Z"
   },
   {
    "duration": 193,
    "start_time": "2022-05-05T09:25:51.525Z"
   },
   {
    "duration": 228,
    "start_time": "2022-05-05T09:25:51.720Z"
   },
   {
    "duration": 213,
    "start_time": "2022-05-05T09:25:51.949Z"
   },
   {
    "duration": 332,
    "start_time": "2022-05-05T09:25:52.164Z"
   },
   {
    "duration": 16,
    "start_time": "2022-05-05T09:25:52.497Z"
   },
   {
    "duration": 11,
    "start_time": "2022-05-05T09:25:52.514Z"
   },
   {
    "duration": 131,
    "start_time": "2022-05-05T09:25:52.527Z"
   },
   {
    "duration": 28,
    "start_time": "2022-05-05T09:25:52.659Z"
   },
   {
    "duration": 89,
    "start_time": "2022-05-05T09:25:52.689Z"
   },
   {
    "duration": 69,
    "start_time": "2022-05-05T09:26:14.582Z"
   },
   {
    "duration": 69,
    "start_time": "2022-05-05T09:26:39.767Z"
   },
   {
    "duration": 79,
    "start_time": "2022-05-05T09:27:14.856Z"
   },
   {
    "duration": 50,
    "start_time": "2022-05-05T09:28:36.066Z"
   },
   {
    "duration": 74,
    "start_time": "2022-05-05T09:29:07.495Z"
   },
   {
    "duration": 2812,
    "start_time": "2022-05-05T09:30:07.533Z"
   },
   {
    "duration": 90,
    "start_time": "2022-05-05T09:30:16.549Z"
   },
   {
    "duration": 69,
    "start_time": "2022-05-05T09:30:24.918Z"
   },
   {
    "duration": 334,
    "start_time": "2022-05-05T09:30:28.146Z"
   },
   {
    "duration": 83,
    "start_time": "2022-05-05T09:30:36.802Z"
   },
   {
    "duration": 73,
    "start_time": "2022-05-05T09:32:31.522Z"
   },
   {
    "duration": 84,
    "start_time": "2022-05-05T09:33:03.845Z"
   },
   {
    "duration": 127,
    "start_time": "2022-05-05T10:23:57.236Z"
   },
   {
    "duration": 121,
    "start_time": "2022-05-05T10:50:17.549Z"
   },
   {
    "duration": 71,
    "start_time": "2022-05-05T10:50:20.112Z"
   },
   {
    "duration": 7,
    "start_time": "2022-05-05T10:57:13.309Z"
   },
   {
    "duration": 124,
    "start_time": "2022-05-05T10:57:19.581Z"
   },
   {
    "duration": 114,
    "start_time": "2022-05-05T10:57:46.531Z"
   },
   {
    "duration": 86,
    "start_time": "2022-05-05T10:58:54.947Z"
   },
   {
    "duration": 88,
    "start_time": "2022-05-05T10:59:04.664Z"
   },
   {
    "duration": 80,
    "start_time": "2022-05-05T10:59:10.900Z"
   },
   {
    "duration": 169,
    "start_time": "2022-05-05T10:59:14.599Z"
   },
   {
    "duration": 91,
    "start_time": "2022-05-05T10:59:18.518Z"
   },
   {
    "duration": 77,
    "start_time": "2022-05-05T10:59:22.761Z"
   },
   {
    "duration": 92,
    "start_time": "2022-05-05T10:59:33.333Z"
   },
   {
    "duration": 87,
    "start_time": "2022-05-05T10:59:44.891Z"
   },
   {
    "duration": 121,
    "start_time": "2022-05-05T11:00:44.421Z"
   },
   {
    "duration": 121,
    "start_time": "2022-05-05T11:01:12.156Z"
   },
   {
    "duration": 134,
    "start_time": "2022-05-05T11:03:33.360Z"
   },
   {
    "duration": 81,
    "start_time": "2022-05-05T11:05:03.471Z"
   },
   {
    "duration": 2,
    "start_time": "2022-05-05T11:06:12.766Z"
   },
   {
    "duration": 69,
    "start_time": "2022-05-05T11:06:40.236Z"
   },
   {
    "duration": 160,
    "start_time": "2022-05-05T11:07:29.943Z"
   },
   {
    "duration": 151,
    "start_time": "2022-05-05T11:08:26.166Z"
   },
   {
    "duration": 147,
    "start_time": "2022-05-05T11:08:40.731Z"
   },
   {
    "duration": 503,
    "start_time": "2022-05-05T11:20:28.583Z"
   },
   {
    "duration": 149,
    "start_time": "2022-05-05T11:20:43.154Z"
   },
   {
    "duration": 147,
    "start_time": "2022-05-05T11:22:27.644Z"
   },
   {
    "duration": 146,
    "start_time": "2022-05-05T11:22:33.058Z"
   },
   {
    "duration": 153,
    "start_time": "2022-05-05T11:23:24.891Z"
   },
   {
    "duration": 3,
    "start_time": "2022-05-05T11:50:13.374Z"
   },
   {
    "duration": 3,
    "start_time": "2022-05-05T11:50:15.915Z"
   },
   {
    "duration": 4,
    "start_time": "2022-05-05T14:45:40.425Z"
   },
   {
    "duration": 19,
    "start_time": "2022-05-05T14:46:59.885Z"
   },
   {
    "duration": 1583,
    "start_time": "2022-05-05T14:47:29.684Z"
   },
   {
    "duration": 0,
    "start_time": "2022-05-05T14:47:31.269Z"
   },
   {
    "duration": 1597,
    "start_time": "2022-05-05T14:47:45.065Z"
   },
   {
    "duration": 3035,
    "start_time": "2022-05-05T14:48:00.898Z"
   },
   {
    "duration": 1562,
    "start_time": "2022-05-05T14:48:49.454Z"
   },
   {
    "duration": 4,
    "start_time": "2022-05-05T14:48:51.256Z"
   },
   {
    "duration": 4,
    "start_time": "2022-05-05T14:49:32.342Z"
   },
   {
    "duration": 1252,
    "start_time": "2022-05-05T14:49:35.078Z"
   },
   {
    "duration": 1317,
    "start_time": "2022-05-05T14:50:22.056Z"
   },
   {
    "duration": 21,
    "start_time": "2022-05-05T14:50:39.194Z"
   },
   {
    "duration": 4,
    "start_time": "2022-05-05T14:52:34.748Z"
   },
   {
    "duration": 3,
    "start_time": "2022-05-05T14:52:39.088Z"
   },
   {
    "duration": 9,
    "start_time": "2022-05-05T14:53:39.249Z"
   },
   {
    "duration": 22,
    "start_time": "2022-05-05T14:53:47.248Z"
   },
   {
    "duration": 24,
    "start_time": "2022-05-05T14:54:09.891Z"
   },
   {
    "duration": 1184,
    "start_time": "2022-05-05T14:54:23.565Z"
   },
   {
    "duration": 417,
    "start_time": "2022-05-05T14:54:24.751Z"
   },
   {
    "duration": 63,
    "start_time": "2022-05-05T14:54:25.170Z"
   },
   {
    "duration": 56,
    "start_time": "2022-05-05T14:54:25.235Z"
   },
   {
    "duration": 30,
    "start_time": "2022-05-05T14:54:25.294Z"
   },
   {
    "duration": 18,
    "start_time": "2022-05-05T14:54:25.327Z"
   },
   {
    "duration": 23,
    "start_time": "2022-05-05T14:54:25.372Z"
   },
   {
    "duration": 268,
    "start_time": "2022-05-05T14:54:25.397Z"
   },
   {
    "duration": 284,
    "start_time": "2022-05-05T14:54:25.668Z"
   },
   {
    "duration": 251,
    "start_time": "2022-05-05T14:54:25.954Z"
   },
   {
    "duration": 369,
    "start_time": "2022-05-05T14:54:26.206Z"
   },
   {
    "duration": 17,
    "start_time": "2022-05-05T14:54:26.576Z"
   },
   {
    "duration": 11,
    "start_time": "2022-05-05T14:54:26.595Z"
   },
   {
    "duration": 132,
    "start_time": "2022-05-05T14:54:26.609Z"
   },
   {
    "duration": 61,
    "start_time": "2022-05-05T14:54:26.742Z"
   },
   {
    "duration": 3,
    "start_time": "2022-05-05T14:54:26.805Z"
   },
   {
    "duration": 196,
    "start_time": "2022-05-05T14:54:26.809Z"
   },
   {
    "duration": 18,
    "start_time": "2022-05-05T14:54:27.007Z"
   },
   {
    "duration": 3,
    "start_time": "2022-05-05T14:54:27.027Z"
   },
   {
    "duration": 6,
    "start_time": "2022-05-05T14:54:27.032Z"
   },
   {
    "duration": 8,
    "start_time": "2022-05-05T14:54:27.040Z"
   },
   {
    "duration": 21,
    "start_time": "2022-05-05T14:55:21.914Z"
   },
   {
    "duration": 37,
    "start_time": "2022-05-05T14:55:28.915Z"
   },
   {
    "duration": 1206,
    "start_time": "2022-05-05T14:55:45.532Z"
   },
   {
    "duration": 403,
    "start_time": "2022-05-05T14:55:46.740Z"
   },
   {
    "duration": 38,
    "start_time": "2022-05-05T14:55:47.145Z"
   },
   {
    "duration": 29,
    "start_time": "2022-05-05T14:55:47.185Z"
   },
   {
    "duration": 25,
    "start_time": "2022-05-05T14:55:47.216Z"
   },
   {
    "duration": 41,
    "start_time": "2022-05-05T14:55:47.243Z"
   },
   {
    "duration": 18,
    "start_time": "2022-05-05T14:55:47.285Z"
   },
   {
    "duration": 265,
    "start_time": "2022-05-05T14:55:47.305Z"
   },
   {
    "duration": 250,
    "start_time": "2022-05-05T14:55:47.573Z"
   },
   {
    "duration": 234,
    "start_time": "2022-05-05T14:55:47.825Z"
   },
   {
    "duration": 346,
    "start_time": "2022-05-05T14:55:48.061Z"
   },
   {
    "duration": 17,
    "start_time": "2022-05-05T14:55:48.409Z"
   },
   {
    "duration": 12,
    "start_time": "2022-05-05T14:55:48.428Z"
   },
   {
    "duration": 136,
    "start_time": "2022-05-05T14:55:48.442Z"
   },
   {
    "duration": 53,
    "start_time": "2022-05-05T14:55:48.580Z"
   },
   {
    "duration": 3,
    "start_time": "2022-05-05T14:55:48.635Z"
   },
   {
    "duration": 201,
    "start_time": "2022-05-05T14:55:48.639Z"
   },
   {
    "duration": 33,
    "start_time": "2022-05-05T14:55:48.842Z"
   },
   {
    "duration": 3,
    "start_time": "2022-05-05T14:55:48.877Z"
   },
   {
    "duration": 12,
    "start_time": "2022-05-05T14:55:48.882Z"
   },
   {
    "duration": 7,
    "start_time": "2022-05-05T14:55:48.896Z"
   },
   {
    "duration": 15,
    "start_time": "2022-05-05T14:56:40.987Z"
   },
   {
    "duration": 32,
    "start_time": "2022-05-05T14:56:57.079Z"
   },
   {
    "duration": 162,
    "start_time": "2022-05-05T14:58:32.547Z"
   },
   {
    "duration": 24,
    "start_time": "2022-05-05T14:58:59.220Z"
   },
   {
    "duration": 4,
    "start_time": "2022-05-05T14:59:00.228Z"
   },
   {
    "duration": 155,
    "start_time": "2022-05-05T15:00:36.734Z"
   },
   {
    "duration": 155,
    "start_time": "2022-05-05T15:01:16.168Z"
   },
   {
    "duration": 97,
    "start_time": "2022-05-05T15:03:43.602Z"
   },
   {
    "duration": 20,
    "start_time": "2022-05-05T15:03:56.669Z"
   },
   {
    "duration": 21,
    "start_time": "2022-05-05T15:04:19.793Z"
   },
   {
    "duration": 163,
    "start_time": "2022-05-05T15:04:49.629Z"
   },
   {
    "duration": 122,
    "start_time": "2022-05-05T15:07:23.486Z"
   },
   {
    "duration": 24,
    "start_time": "2022-05-05T15:08:02.897Z"
   },
   {
    "duration": 174,
    "start_time": "2022-05-05T15:08:17.220Z"
   },
   {
    "duration": 180,
    "start_time": "2022-05-05T15:09:16.261Z"
   },
   {
    "duration": 182,
    "start_time": "2022-05-05T15:09:40.331Z"
   },
   {
    "duration": 207,
    "start_time": "2022-05-05T15:10:50.782Z"
   },
   {
    "duration": 205,
    "start_time": "2022-05-05T15:12:05.048Z"
   },
   {
    "duration": 205,
    "start_time": "2022-05-05T15:12:50.620Z"
   },
   {
    "duration": 1264,
    "start_time": "2022-05-05T15:18:23.916Z"
   },
   {
    "duration": 1370,
    "start_time": "2022-05-05T15:18:38.552Z"
   },
   {
    "duration": 1738,
    "start_time": "2022-05-05T15:19:04.302Z"
   },
   {
    "duration": 193,
    "start_time": "2022-05-05T15:19:14.920Z"
   },
   {
    "duration": 1098,
    "start_time": "2022-05-05T15:20:07.611Z"
   },
   {
    "duration": 393,
    "start_time": "2022-05-05T15:20:08.711Z"
   },
   {
    "duration": 36,
    "start_time": "2022-05-05T15:20:09.106Z"
   },
   {
    "duration": 26,
    "start_time": "2022-05-05T15:20:09.144Z"
   },
   {
    "duration": 22,
    "start_time": "2022-05-05T15:20:09.172Z"
   },
   {
    "duration": 14,
    "start_time": "2022-05-05T15:20:09.196Z"
   },
   {
    "duration": 15,
    "start_time": "2022-05-05T15:20:09.212Z"
   },
   {
    "duration": 267,
    "start_time": "2022-05-05T15:20:09.228Z"
   },
   {
    "duration": 267,
    "start_time": "2022-05-05T15:20:09.497Z"
   },
   {
    "duration": 241,
    "start_time": "2022-05-05T15:20:09.766Z"
   },
   {
    "duration": 354,
    "start_time": "2022-05-05T15:20:10.009Z"
   },
   {
    "duration": 21,
    "start_time": "2022-05-05T15:20:10.365Z"
   },
   {
    "duration": 11,
    "start_time": "2022-05-05T15:20:10.388Z"
   },
   {
    "duration": 123,
    "start_time": "2022-05-05T15:20:10.402Z"
   },
   {
    "duration": 62,
    "start_time": "2022-05-05T15:20:10.526Z"
   },
   {
    "duration": 2,
    "start_time": "2022-05-05T15:20:10.590Z"
   },
   {
    "duration": 242,
    "start_time": "2022-05-05T15:20:10.594Z"
   },
   {
    "duration": 1789,
    "start_time": "2022-05-05T15:20:10.837Z"
   },
   {
    "duration": 0,
    "start_time": "2022-05-05T15:20:12.627Z"
   },
   {
    "duration": 0,
    "start_time": "2022-05-05T15:20:12.628Z"
   },
   {
    "duration": 0,
    "start_time": "2022-05-05T15:20:12.629Z"
   },
   {
    "duration": 198,
    "start_time": "2022-05-05T15:20:38.519Z"
   },
   {
    "duration": 196,
    "start_time": "2022-05-05T15:21:33.631Z"
   },
   {
    "duration": 1730,
    "start_time": "2022-05-05T15:21:48.015Z"
   },
   {
    "duration": 194,
    "start_time": "2022-05-05T15:21:58.040Z"
   },
   {
    "duration": 212,
    "start_time": "2022-05-05T15:22:06.889Z"
   },
   {
    "duration": 209,
    "start_time": "2022-05-05T15:22:14.093Z"
   },
   {
    "duration": 211,
    "start_time": "2022-05-05T15:22:27.935Z"
   },
   {
    "duration": 34,
    "start_time": "2022-05-05T15:22:31.962Z"
   },
   {
    "duration": 139,
    "start_time": "2022-05-05T15:22:40.097Z"
   },
   {
    "duration": 29,
    "start_time": "2022-05-05T15:23:06.410Z"
   },
   {
    "duration": 75,
    "start_time": "2022-05-05T15:23:11.964Z"
   },
   {
    "duration": 42,
    "start_time": "2022-05-05T15:26:59.025Z"
   },
   {
    "duration": 5,
    "start_time": "2022-05-05T15:35:44.547Z"
   },
   {
    "duration": 6,
    "start_time": "2022-05-05T15:36:02.447Z"
   },
   {
    "duration": 5,
    "start_time": "2022-05-05T15:36:15.654Z"
   },
   {
    "duration": 9,
    "start_time": "2022-05-05T15:41:03.234Z"
   },
   {
    "duration": 3,
    "start_time": "2022-05-05T15:43:04.329Z"
   },
   {
    "duration": 1173,
    "start_time": "2022-05-05T15:43:09.540Z"
   },
   {
    "duration": 412,
    "start_time": "2022-05-05T15:43:10.716Z"
   },
   {
    "duration": 36,
    "start_time": "2022-05-05T15:43:11.131Z"
   },
   {
    "duration": 28,
    "start_time": "2022-05-05T15:43:11.170Z"
   },
   {
    "duration": 23,
    "start_time": "2022-05-05T15:43:11.199Z"
   },
   {
    "duration": 16,
    "start_time": "2022-05-05T15:43:11.224Z"
   },
   {
    "duration": 43,
    "start_time": "2022-05-05T15:43:11.242Z"
   },
   {
    "duration": 255,
    "start_time": "2022-05-05T15:43:11.287Z"
   },
   {
    "duration": 266,
    "start_time": "2022-05-05T15:43:11.544Z"
   },
   {
    "duration": 247,
    "start_time": "2022-05-05T15:43:11.811Z"
   },
   {
    "duration": 99,
    "start_time": "2022-05-05T15:43:12.060Z"
   },
   {
    "duration": 0,
    "start_time": "2022-05-05T15:43:12.161Z"
   },
   {
    "duration": 0,
    "start_time": "2022-05-05T15:43:12.162Z"
   },
   {
    "duration": 0,
    "start_time": "2022-05-05T15:43:12.163Z"
   },
   {
    "duration": 0,
    "start_time": "2022-05-05T15:43:12.164Z"
   },
   {
    "duration": 0,
    "start_time": "2022-05-05T15:43:12.164Z"
   },
   {
    "duration": 0,
    "start_time": "2022-05-05T15:43:12.165Z"
   },
   {
    "duration": 0,
    "start_time": "2022-05-05T15:43:12.165Z"
   },
   {
    "duration": 9,
    "start_time": "2022-05-05T15:43:34.187Z"
   },
   {
    "duration": 9,
    "start_time": "2022-05-05T15:44:29.902Z"
   },
   {
    "duration": 9,
    "start_time": "2022-05-05T15:44:37.975Z"
   },
   {
    "duration": 10,
    "start_time": "2022-05-05T15:49:20.185Z"
   },
   {
    "duration": 3,
    "start_time": "2022-05-05T15:49:26.136Z"
   },
   {
    "duration": 389,
    "start_time": "2022-05-05T15:49:26.142Z"
   },
   {
    "duration": 35,
    "start_time": "2022-05-05T15:49:26.532Z"
   },
   {
    "duration": 30,
    "start_time": "2022-05-05T15:49:26.569Z"
   },
   {
    "duration": 24,
    "start_time": "2022-05-05T15:49:26.602Z"
   },
   {
    "duration": 16,
    "start_time": "2022-05-05T15:49:26.627Z"
   },
   {
    "duration": 44,
    "start_time": "2022-05-05T15:49:26.645Z"
   },
   {
    "duration": 213,
    "start_time": "2022-05-05T15:49:26.691Z"
   },
   {
    "duration": 249,
    "start_time": "2022-05-05T15:49:26.906Z"
   },
   {
    "duration": 238,
    "start_time": "2022-05-05T15:49:27.157Z"
   },
   {
    "duration": 10,
    "start_time": "2022-05-05T15:49:27.396Z"
   },
   {
    "duration": 0,
    "start_time": "2022-05-05T15:49:27.408Z"
   },
   {
    "duration": 0,
    "start_time": "2022-05-05T15:49:27.410Z"
   },
   {
    "duration": 0,
    "start_time": "2022-05-05T15:49:27.411Z"
   },
   {
    "duration": 0,
    "start_time": "2022-05-05T15:49:27.413Z"
   },
   {
    "duration": 0,
    "start_time": "2022-05-05T15:49:27.414Z"
   },
   {
    "duration": 0,
    "start_time": "2022-05-05T15:49:27.415Z"
   },
   {
    "duration": 0,
    "start_time": "2022-05-05T15:49:27.416Z"
   },
   {
    "duration": 4,
    "start_time": "2022-05-05T15:49:34.546Z"
   },
   {
    "duration": 370,
    "start_time": "2022-05-05T15:49:34.552Z"
   },
   {
    "duration": 31,
    "start_time": "2022-05-05T15:49:34.924Z"
   },
   {
    "duration": 27,
    "start_time": "2022-05-05T15:49:34.957Z"
   },
   {
    "duration": 24,
    "start_time": "2022-05-05T15:49:34.987Z"
   },
   {
    "duration": 17,
    "start_time": "2022-05-05T15:49:35.013Z"
   },
   {
    "duration": 48,
    "start_time": "2022-05-05T15:49:35.032Z"
   },
   {
    "duration": 197,
    "start_time": "2022-05-05T15:49:35.082Z"
   },
   {
    "duration": 240,
    "start_time": "2022-05-05T15:49:35.280Z"
   },
   {
    "duration": 247,
    "start_time": "2022-05-05T15:49:35.522Z"
   },
   {
    "duration": 3,
    "start_time": "2022-05-05T15:49:35.771Z"
   },
   {
    "duration": 22,
    "start_time": "2022-05-05T15:49:35.775Z"
   },
   {
    "duration": 12,
    "start_time": "2022-05-05T15:49:35.799Z"
   },
   {
    "duration": 130,
    "start_time": "2022-05-05T15:49:35.814Z"
   },
   {
    "duration": 60,
    "start_time": "2022-05-05T15:49:35.946Z"
   },
   {
    "duration": 2,
    "start_time": "2022-05-05T15:49:36.009Z"
   },
   {
    "duration": 241,
    "start_time": "2022-05-05T15:49:36.013Z"
   },
   {
    "duration": 58,
    "start_time": "2022-05-05T15:49:36.257Z"
   },
   {
    "duration": 197,
    "start_time": "2022-05-05T15:50:28.499Z"
   },
   {
    "duration": 33,
    "start_time": "2022-05-05T15:50:41.489Z"
   },
   {
    "duration": 3,
    "start_time": "2022-05-05T16:26:10.911Z"
   },
   {
    "duration": 6,
    "start_time": "2022-05-05T16:38:28.143Z"
   },
   {
    "duration": 7,
    "start_time": "2022-05-05T16:39:37.253Z"
   },
   {
    "duration": 156,
    "start_time": "2022-05-05T16:40:03.864Z"
   },
   {
    "duration": 330,
    "start_time": "2022-05-05T16:40:25.737Z"
   },
   {
    "duration": 3,
    "start_time": "2022-05-05T16:40:26.573Z"
   },
   {
    "duration": 161,
    "start_time": "2022-05-05T16:40:27.271Z"
   },
   {
    "duration": 15,
    "start_time": "2022-05-05T16:40:28.121Z"
   },
   {
    "duration": 115,
    "start_time": "2022-05-05T16:40:35.585Z"
   },
   {
    "duration": 129,
    "start_time": "2022-05-05T16:42:45.310Z"
   },
   {
    "duration": 111,
    "start_time": "2022-05-05T16:43:03.982Z"
   },
   {
    "duration": 10,
    "start_time": "2022-05-05T16:51:41.563Z"
   },
   {
    "duration": 6,
    "start_time": "2022-05-05T16:53:26.877Z"
   },
   {
    "duration": 203,
    "start_time": "2022-05-05T16:53:30.146Z"
   },
   {
    "duration": 103,
    "start_time": "2022-05-05T16:53:38.312Z"
   },
   {
    "duration": 115,
    "start_time": "2022-05-05T16:54:11.492Z"
   },
   {
    "duration": 109,
    "start_time": "2022-05-05T16:54:17.835Z"
   },
   {
    "duration": 1099,
    "start_time": "2022-05-05T16:55:41.797Z"
   },
   {
    "duration": 388,
    "start_time": "2022-05-05T16:55:42.898Z"
   },
   {
    "duration": 36,
    "start_time": "2022-05-05T16:55:43.288Z"
   },
   {
    "duration": 28,
    "start_time": "2022-05-05T16:55:43.326Z"
   },
   {
    "duration": 36,
    "start_time": "2022-05-05T16:55:43.356Z"
   },
   {
    "duration": 15,
    "start_time": "2022-05-05T16:55:43.394Z"
   },
   {
    "duration": 17,
    "start_time": "2022-05-05T16:55:43.410Z"
   },
   {
    "duration": 271,
    "start_time": "2022-05-05T16:55:43.429Z"
   },
   {
    "duration": 254,
    "start_time": "2022-05-05T16:55:43.701Z"
   },
   {
    "duration": 248,
    "start_time": "2022-05-05T16:55:43.956Z"
   },
   {
    "duration": 3,
    "start_time": "2022-05-05T16:55:44.206Z"
   },
   {
    "duration": 24,
    "start_time": "2022-05-05T16:55:44.211Z"
   },
   {
    "duration": 15,
    "start_time": "2022-05-05T16:55:44.236Z"
   },
   {
    "duration": 125,
    "start_time": "2022-05-05T16:55:44.253Z"
   },
   {
    "duration": 52,
    "start_time": "2022-05-05T16:55:44.380Z"
   },
   {
    "duration": 6,
    "start_time": "2022-05-05T16:55:44.434Z"
   },
   {
    "duration": 240,
    "start_time": "2022-05-05T16:55:44.441Z"
   },
   {
    "duration": 118,
    "start_time": "2022-05-05T16:55:44.683Z"
   },
   {
    "duration": 20,
    "start_time": "2022-05-05T16:55:44.802Z"
   },
   {
    "duration": 107,
    "start_time": "2022-05-05T17:03:06.606Z"
   },
   {
    "duration": 6,
    "start_time": "2022-05-05T17:07:35.191Z"
   },
   {
    "duration": 114,
    "start_time": "2022-05-05T17:10:53.945Z"
   },
   {
    "duration": 104,
    "start_time": "2022-05-05T17:10:59.602Z"
   },
   {
    "duration": 147,
    "start_time": "2022-05-05T17:16:32.190Z"
   },
   {
    "duration": 155,
    "start_time": "2022-05-05T17:16:54.195Z"
   },
   {
    "duration": 173,
    "start_time": "2022-05-05T17:17:27.685Z"
   },
   {
    "duration": 123,
    "start_time": "2022-05-05T17:17:40.024Z"
   },
   {
    "duration": 164,
    "start_time": "2022-05-05T17:17:42.530Z"
   },
   {
    "duration": 163,
    "start_time": "2022-05-05T17:18:36.014Z"
   },
   {
    "duration": 165,
    "start_time": "2022-05-05T17:18:57.605Z"
   },
   {
    "duration": 163,
    "start_time": "2022-05-05T17:19:41.390Z"
   },
   {
    "duration": 162,
    "start_time": "2022-05-05T17:20:00.162Z"
   },
   {
    "duration": 400,
    "start_time": "2022-05-05T17:20:11.011Z"
   },
   {
    "duration": 407,
    "start_time": "2022-05-05T17:20:21.176Z"
   },
   {
    "duration": 389,
    "start_time": "2022-05-05T17:20:29.713Z"
   },
   {
    "duration": 297,
    "start_time": "2022-05-05T17:20:33.541Z"
   },
   {
    "duration": 340,
    "start_time": "2022-05-05T17:20:41.115Z"
   },
   {
    "duration": 215,
    "start_time": "2022-05-05T17:21:25.300Z"
   },
   {
    "duration": 98,
    "start_time": "2022-05-05T17:22:17.154Z"
   },
   {
    "duration": 78,
    "start_time": "2022-05-05T17:22:26.106Z"
   },
   {
    "duration": 204,
    "start_time": "2022-05-05T17:22:36.616Z"
   },
   {
    "duration": 242,
    "start_time": "2022-05-05T17:23:10.373Z"
   },
   {
    "duration": 170,
    "start_time": "2022-05-05T17:23:57.354Z"
   },
   {
    "duration": 3,
    "start_time": "2022-05-05T17:24:53.295Z"
   },
   {
    "duration": 4,
    "start_time": "2022-05-05T17:26:58.390Z"
   },
   {
    "duration": 5,
    "start_time": "2022-05-05T17:27:11.334Z"
   },
   {
    "duration": 10,
    "start_time": "2022-05-05T17:27:25.598Z"
   },
   {
    "duration": 10,
    "start_time": "2022-05-05T17:27:44.375Z"
   },
   {
    "duration": 13,
    "start_time": "2022-05-05T17:28:10.256Z"
   },
   {
    "duration": 13,
    "start_time": "2022-05-05T17:28:20.042Z"
   },
   {
    "duration": 10,
    "start_time": "2022-05-05T17:30:07.610Z"
   },
   {
    "duration": 10,
    "start_time": "2022-05-05T17:30:17.641Z"
   },
   {
    "duration": 16,
    "start_time": "2022-05-05T17:30:38.461Z"
   },
   {
    "duration": 8,
    "start_time": "2022-05-05T17:33:46.570Z"
   },
   {
    "duration": 12,
    "start_time": "2022-05-05T17:34:22.008Z"
   },
   {
    "duration": 19,
    "start_time": "2022-05-05T17:35:46.162Z"
   },
   {
    "duration": 14,
    "start_time": "2022-05-05T17:35:48.349Z"
   },
   {
    "duration": 12,
    "start_time": "2022-05-05T17:35:49.590Z"
   },
   {
    "duration": 17,
    "start_time": "2022-05-05T17:36:28.382Z"
   },
   {
    "duration": 14,
    "start_time": "2022-05-05T17:36:32.156Z"
   },
   {
    "duration": 13,
    "start_time": "2022-05-05T17:36:47.012Z"
   },
   {
    "duration": 17,
    "start_time": "2022-05-05T17:37:01.264Z"
   },
   {
    "duration": 1476,
    "start_time": "2022-05-11T09:58:07.445Z"
   },
   {
    "duration": 463,
    "start_time": "2022-05-11T09:58:08.923Z"
   },
   {
    "duration": 32,
    "start_time": "2022-05-11T09:58:09.388Z"
   },
   {
    "duration": 24,
    "start_time": "2022-05-11T09:58:09.422Z"
   },
   {
    "duration": 32,
    "start_time": "2022-05-11T09:58:09.459Z"
   },
   {
    "duration": 14,
    "start_time": "2022-05-11T09:58:09.493Z"
   },
   {
    "duration": 15,
    "start_time": "2022-05-11T09:58:09.508Z"
   },
   {
    "duration": 238,
    "start_time": "2022-05-11T09:58:09.525Z"
   },
   {
    "duration": 252,
    "start_time": "2022-05-11T09:58:09.765Z"
   },
   {
    "duration": 230,
    "start_time": "2022-05-11T09:58:10.019Z"
   },
   {
    "duration": 17,
    "start_time": "2022-05-11T09:58:10.251Z"
   },
   {
    "duration": 22,
    "start_time": "2022-05-11T09:58:10.270Z"
   },
   {
    "duration": 121,
    "start_time": "2022-05-11T09:58:10.294Z"
   },
   {
    "duration": 65,
    "start_time": "2022-05-11T09:58:10.417Z"
   },
   {
    "duration": 6,
    "start_time": "2022-05-11T09:58:10.484Z"
   },
   {
    "duration": 235,
    "start_time": "2022-05-11T09:58:10.492Z"
   },
   {
    "duration": 124,
    "start_time": "2022-05-11T09:58:10.729Z"
   },
   {
    "duration": 172,
    "start_time": "2022-05-11T09:58:10.858Z"
   },
   {
    "duration": 31,
    "start_time": "2022-05-11T09:58:11.032Z"
   },
   {
    "duration": 22,
    "start_time": "2022-05-11T09:58:11.068Z"
   },
   {
    "duration": 12,
    "start_time": "2022-05-11T09:58:11.092Z"
   },
   {
    "duration": 263,
    "start_time": "2022-05-11T09:58:11.106Z"
   },
   {
    "duration": 227,
    "start_time": "2022-05-11T09:58:11.372Z"
   },
   {
    "duration": 1297,
    "start_time": "2022-05-11T11:38:12.954Z"
   },
   {
    "duration": 584,
    "start_time": "2022-05-11T11:38:14.257Z"
   },
   {
    "duration": 61,
    "start_time": "2022-05-11T11:38:14.843Z"
   },
   {
    "duration": 51,
    "start_time": "2022-05-11T11:38:14.907Z"
   },
   {
    "duration": 40,
    "start_time": "2022-05-11T11:38:14.961Z"
   },
   {
    "duration": 21,
    "start_time": "2022-05-11T11:38:15.003Z"
   },
   {
    "duration": 44,
    "start_time": "2022-05-11T11:38:15.026Z"
   },
   {
    "duration": 240,
    "start_time": "2022-05-11T11:38:15.072Z"
   },
   {
    "duration": 255,
    "start_time": "2022-05-11T11:38:15.313Z"
   },
   {
    "duration": 262,
    "start_time": "2022-05-11T11:38:15.570Z"
   },
   {
    "duration": 20,
    "start_time": "2022-05-11T11:38:15.834Z"
   },
   {
    "duration": 13,
    "start_time": "2022-05-11T11:38:15.856Z"
   },
   {
    "duration": 141,
    "start_time": "2022-05-11T11:38:15.871Z"
   },
   {
    "duration": 71,
    "start_time": "2022-05-11T11:38:16.015Z"
   },
   {
    "duration": 7,
    "start_time": "2022-05-11T11:38:16.088Z"
   },
   {
    "duration": 360,
    "start_time": "2022-05-11T11:38:16.097Z"
   },
   {
    "duration": 115,
    "start_time": "2022-05-11T11:38:16.459Z"
   },
   {
    "duration": 210,
    "start_time": "2022-05-11T11:38:16.576Z"
   },
   {
    "duration": 14,
    "start_time": "2022-05-11T11:38:16.792Z"
   },
   {
    "duration": 15,
    "start_time": "2022-05-11T11:38:16.808Z"
   },
   {
    "duration": 35,
    "start_time": "2022-05-11T11:38:16.825Z"
   },
   {
    "duration": 223,
    "start_time": "2022-05-11T11:38:16.866Z"
   },
   {
    "duration": 10,
    "start_time": "2022-05-11T11:38:17.091Z"
   },
   {
    "duration": 16,
    "start_time": "2022-05-11T11:38:17.103Z"
   },
   {
    "duration": 14,
    "start_time": "2022-05-11T11:38:17.121Z"
   },
   {
    "duration": 176,
    "start_time": "2022-05-11T11:38:17.154Z"
   },
   {
    "duration": 22,
    "start_time": "2022-05-11T11:38:17.332Z"
   },
   {
    "duration": 40,
    "start_time": "2022-05-11T11:38:17.357Z"
   },
   {
    "duration": 11,
    "start_time": "2022-05-11T11:38:17.398Z"
   },
   {
    "duration": 246,
    "start_time": "2022-05-11T11:40:31.430Z"
   },
   {
    "duration": 102,
    "start_time": "2022-05-11T11:40:37.477Z"
   },
   {
    "duration": 110,
    "start_time": "2022-05-11T12:08:09.310Z"
   },
   {
    "duration": 11,
    "start_time": "2022-05-11T12:08:23.014Z"
   },
   {
    "duration": 13,
    "start_time": "2022-05-11T12:08:43.114Z"
   },
   {
    "duration": 10,
    "start_time": "2022-05-11T12:08:55.189Z"
   },
   {
    "duration": 16,
    "start_time": "2022-05-11T12:09:04.685Z"
   },
   {
    "duration": 17,
    "start_time": "2022-05-11T12:09:16.951Z"
   },
   {
    "duration": 15,
    "start_time": "2022-05-11T12:09:31.527Z"
   },
   {
    "duration": 13,
    "start_time": "2022-05-11T12:09:37.571Z"
   },
   {
    "duration": 21,
    "start_time": "2022-05-11T12:10:35.345Z"
   },
   {
    "duration": 21,
    "start_time": "2022-05-11T12:16:03.173Z"
   },
   {
    "duration": 21,
    "start_time": "2022-05-11T12:16:16.073Z"
   },
   {
    "duration": 6,
    "start_time": "2022-05-11T12:17:00.246Z"
   },
   {
    "duration": 7,
    "start_time": "2022-05-11T12:17:06.773Z"
   },
   {
    "duration": 10,
    "start_time": "2022-05-11T12:18:50.623Z"
   },
   {
    "duration": 13,
    "start_time": "2022-05-11T12:27:47.042Z"
   },
   {
    "duration": 62,
    "start_time": "2022-05-11T15:16:15.682Z"
   },
   {
    "duration": 1328,
    "start_time": "2022-05-11T15:16:26.534Z"
   },
   {
    "duration": 413,
    "start_time": "2022-05-11T15:16:27.864Z"
   },
   {
    "duration": 44,
    "start_time": "2022-05-11T15:16:28.279Z"
   },
   {
    "duration": 56,
    "start_time": "2022-05-11T15:16:28.325Z"
   },
   {
    "duration": 30,
    "start_time": "2022-05-11T15:16:28.385Z"
   },
   {
    "duration": 17,
    "start_time": "2022-05-11T15:16:28.417Z"
   },
   {
    "duration": 48,
    "start_time": "2022-05-11T15:16:28.436Z"
   },
   {
    "duration": 300,
    "start_time": "2022-05-11T15:16:28.487Z"
   },
   {
    "duration": 304,
    "start_time": "2022-05-11T15:16:28.789Z"
   },
   {
    "duration": 242,
    "start_time": "2022-05-11T15:16:29.095Z"
   },
   {
    "duration": 18,
    "start_time": "2022-05-11T15:16:29.339Z"
   },
   {
    "duration": 24,
    "start_time": "2022-05-11T15:16:29.359Z"
   },
   {
    "duration": 125,
    "start_time": "2022-05-11T15:16:29.384Z"
   },
   {
    "duration": 61,
    "start_time": "2022-05-11T15:16:29.513Z"
   },
   {
    "duration": 6,
    "start_time": "2022-05-11T15:16:29.576Z"
   },
   {
    "duration": 282,
    "start_time": "2022-05-11T15:16:29.583Z"
   },
   {
    "duration": 101,
    "start_time": "2022-05-11T15:16:29.872Z"
   },
   {
    "duration": 183,
    "start_time": "2022-05-11T15:16:29.975Z"
   },
   {
    "duration": 20,
    "start_time": "2022-05-11T15:16:30.160Z"
   },
   {
    "duration": 21,
    "start_time": "2022-05-11T15:16:30.182Z"
   },
   {
    "duration": 27,
    "start_time": "2022-05-11T15:16:30.204Z"
   },
   {
    "duration": 235,
    "start_time": "2022-05-11T15:16:30.233Z"
   },
   {
    "duration": 11,
    "start_time": "2022-05-11T15:16:30.473Z"
   },
   {
    "duration": 11,
    "start_time": "2022-05-11T15:16:30.485Z"
   },
   {
    "duration": 12,
    "start_time": "2022-05-11T15:16:30.498Z"
   },
   {
    "duration": 223,
    "start_time": "2022-05-11T15:16:30.511Z"
   },
   {
    "duration": 11,
    "start_time": "2022-05-11T15:16:30.736Z"
   },
   {
    "duration": 32,
    "start_time": "2022-05-11T15:16:30.749Z"
   },
   {
    "duration": 17,
    "start_time": "2022-05-11T15:16:30.783Z"
   },
   {
    "duration": 11,
    "start_time": "2022-05-11T15:16:30.802Z"
   },
   {
    "duration": 18,
    "start_time": "2022-05-11T15:16:30.815Z"
   },
   {
    "duration": 16,
    "start_time": "2022-05-11T15:17:02.099Z"
   },
   {
    "duration": 18,
    "start_time": "2022-05-11T15:17:54.315Z"
   },
   {
    "duration": 12,
    "start_time": "2022-05-11T15:18:09.683Z"
   },
   {
    "duration": 981,
    "start_time": "2022-05-11T15:18:26.212Z"
   },
   {
    "duration": 18,
    "start_time": "2022-05-11T15:18:36.966Z"
   },
   {
    "duration": 11,
    "start_time": "2022-05-11T15:18:51.774Z"
   },
   {
    "duration": 13,
    "start_time": "2022-05-11T15:20:22.240Z"
   },
   {
    "duration": 14,
    "start_time": "2022-05-11T15:24:00.280Z"
   },
   {
    "duration": 3,
    "start_time": "2022-05-11T15:26:12.660Z"
   },
   {
    "duration": 887,
    "start_time": "2022-05-11T15:26:18.306Z"
   },
   {
    "duration": 385,
    "start_time": "2022-05-11T15:26:19.195Z"
   },
   {
    "duration": 40,
    "start_time": "2022-05-11T15:26:19.582Z"
   },
   {
    "duration": 38,
    "start_time": "2022-05-11T15:26:19.624Z"
   },
   {
    "duration": 40,
    "start_time": "2022-05-11T15:26:19.665Z"
   },
   {
    "duration": 15,
    "start_time": "2022-05-11T15:26:19.706Z"
   },
   {
    "duration": 23,
    "start_time": "2022-05-11T15:26:19.724Z"
   },
   {
    "duration": 263,
    "start_time": "2022-05-11T15:26:19.749Z"
   },
   {
    "duration": 245,
    "start_time": "2022-05-11T15:26:20.014Z"
   },
   {
    "duration": 209,
    "start_time": "2022-05-11T15:26:20.261Z"
   },
   {
    "duration": 25,
    "start_time": "2022-05-11T15:26:20.472Z"
   },
   {
    "duration": 10,
    "start_time": "2022-05-11T15:26:20.499Z"
   },
   {
    "duration": 123,
    "start_time": "2022-05-11T15:26:20.511Z"
   },
   {
    "duration": 61,
    "start_time": "2022-05-11T15:26:20.637Z"
   },
   {
    "duration": 5,
    "start_time": "2022-05-11T15:26:20.700Z"
   },
   {
    "duration": 274,
    "start_time": "2022-05-11T15:26:20.706Z"
   },
   {
    "duration": 108,
    "start_time": "2022-05-11T15:26:20.981Z"
   },
   {
    "duration": 425,
    "start_time": "2022-05-11T15:26:21.090Z"
   },
   {
    "duration": 11,
    "start_time": "2022-05-11T15:26:21.517Z"
   },
   {
    "duration": 11,
    "start_time": "2022-05-11T15:26:21.530Z"
   },
   {
    "duration": 12,
    "start_time": "2022-05-11T15:26:21.542Z"
   },
   {
    "duration": 239,
    "start_time": "2022-05-11T15:26:21.555Z"
   },
   {
    "duration": 11,
    "start_time": "2022-05-11T15:26:21.796Z"
   },
   {
    "duration": 11,
    "start_time": "2022-05-11T15:26:21.809Z"
   },
   {
    "duration": 10,
    "start_time": "2022-05-11T15:26:21.823Z"
   },
   {
    "duration": 222,
    "start_time": "2022-05-11T15:26:21.834Z"
   },
   {
    "duration": 11,
    "start_time": "2022-05-11T15:26:22.058Z"
   },
   {
    "duration": 25,
    "start_time": "2022-05-11T15:26:22.071Z"
   },
   {
    "duration": 11,
    "start_time": "2022-05-11T15:26:22.098Z"
   },
   {
    "duration": 12,
    "start_time": "2022-05-11T15:26:22.111Z"
   },
   {
    "duration": 12,
    "start_time": "2022-05-11T15:26:22.125Z"
   },
   {
    "duration": 8,
    "start_time": "2022-05-11T15:28:01.784Z"
   },
   {
    "duration": 8,
    "start_time": "2022-05-11T15:28:47.503Z"
   },
   {
    "duration": 5,
    "start_time": "2022-05-11T15:28:53.670Z"
   },
   {
    "duration": 111,
    "start_time": "2022-05-11T15:34:41.306Z"
   },
   {
    "duration": 812,
    "start_time": "2022-05-11T15:36:58.430Z"
   },
   {
    "duration": 381,
    "start_time": "2022-05-11T15:36:59.244Z"
   },
   {
    "duration": 39,
    "start_time": "2022-05-11T15:36:59.627Z"
   },
   {
    "duration": 30,
    "start_time": "2022-05-11T15:36:59.669Z"
   },
   {
    "duration": 23,
    "start_time": "2022-05-11T15:36:59.702Z"
   },
   {
    "duration": 16,
    "start_time": "2022-05-11T15:36:59.726Z"
   },
   {
    "duration": 49,
    "start_time": "2022-05-11T15:36:59.743Z"
   },
   {
    "duration": 240,
    "start_time": "2022-05-11T15:36:59.794Z"
   },
   {
    "duration": 266,
    "start_time": "2022-05-11T15:37:00.036Z"
   },
   {
    "duration": 222,
    "start_time": "2022-05-11T15:37:00.304Z"
   },
   {
    "duration": 98,
    "start_time": "2022-05-11T15:37:00.527Z"
   },
   {
    "duration": 16,
    "start_time": "2022-05-11T15:37:00.627Z"
   },
   {
    "duration": 18,
    "start_time": "2022-05-11T15:37:00.645Z"
   },
   {
    "duration": 122,
    "start_time": "2022-05-11T15:37:00.666Z"
   },
   {
    "duration": 24,
    "start_time": "2022-05-11T15:37:00.790Z"
   },
   {
    "duration": 6,
    "start_time": "2022-05-11T15:37:00.816Z"
   },
   {
    "duration": 289,
    "start_time": "2022-05-11T15:37:00.823Z"
   },
   {
    "duration": 114,
    "start_time": "2022-05-11T15:37:01.115Z"
   },
   {
    "duration": 517,
    "start_time": "2022-05-11T15:37:01.230Z"
   },
   {
    "duration": 13,
    "start_time": "2022-05-11T15:37:01.749Z"
   },
   {
    "duration": 30,
    "start_time": "2022-05-11T15:37:01.763Z"
   },
   {
    "duration": 12,
    "start_time": "2022-05-11T15:37:01.794Z"
   },
   {
    "duration": 245,
    "start_time": "2022-05-11T15:37:01.808Z"
   },
   {
    "duration": 11,
    "start_time": "2022-05-11T15:37:02.056Z"
   },
   {
    "duration": 33,
    "start_time": "2022-05-11T15:37:02.069Z"
   },
   {
    "duration": 58,
    "start_time": "2022-05-11T15:37:02.104Z"
   },
   {
    "duration": 264,
    "start_time": "2022-05-11T15:37:02.164Z"
   },
   {
    "duration": 12,
    "start_time": "2022-05-11T15:37:02.430Z"
   },
   {
    "duration": 14,
    "start_time": "2022-05-11T15:37:02.444Z"
   },
   {
    "duration": 30,
    "start_time": "2022-05-11T15:37:02.460Z"
   },
   {
    "duration": 12,
    "start_time": "2022-05-11T15:37:02.492Z"
   },
   {
    "duration": 28,
    "start_time": "2022-05-11T15:37:02.506Z"
   },
   {
    "duration": 97,
    "start_time": "2022-05-11T15:38:00.294Z"
   },
   {
    "duration": 43,
    "start_time": "2022-05-11T15:38:06.781Z"
   },
   {
    "duration": 99,
    "start_time": "2022-05-11T15:40:44.703Z"
   },
   {
    "duration": 21,
    "start_time": "2022-05-11T15:40:56.778Z"
   },
   {
    "duration": 32,
    "start_time": "2022-05-11T15:41:02.912Z"
   },
   {
    "duration": 29,
    "start_time": "2022-05-11T15:41:59.666Z"
   },
   {
    "duration": 78,
    "start_time": "2022-05-11T15:43:11.836Z"
   },
   {
    "duration": 77,
    "start_time": "2022-05-11T15:43:14.369Z"
   },
   {
    "duration": 36,
    "start_time": "2022-05-11T15:44:31.626Z"
   },
   {
    "duration": 21,
    "start_time": "2022-05-11T15:44:37.564Z"
   },
   {
    "duration": 79,
    "start_time": "2022-05-11T15:45:27.431Z"
   },
   {
    "duration": 27,
    "start_time": "2022-05-11T15:45:33.253Z"
   },
   {
    "duration": 79,
    "start_time": "2022-05-11T15:45:53.744Z"
   },
   {
    "duration": 36,
    "start_time": "2022-05-11T15:46:11.184Z"
   },
   {
    "duration": 52,
    "start_time": "2022-05-11T15:46:47.516Z"
   },
   {
    "duration": 3937,
    "start_time": "2022-05-11T15:47:04.035Z"
   },
   {
    "duration": 144,
    "start_time": "2022-05-11T15:47:33.547Z"
   },
   {
    "duration": 241,
    "start_time": "2022-05-11T15:49:11.245Z"
   },
   {
    "duration": 276,
    "start_time": "2022-05-11T15:49:18.853Z"
   },
   {
    "duration": 3,
    "start_time": "2022-05-11T15:50:45.335Z"
   },
   {
    "duration": 206,
    "start_time": "2022-05-11T15:51:38.147Z"
   },
   {
    "duration": 13,
    "start_time": "2022-05-11T15:54:42.359Z"
   },
   {
    "duration": 16,
    "start_time": "2022-05-11T15:55:47.261Z"
   },
   {
    "duration": 8,
    "start_time": "2022-05-11T16:04:04.505Z"
   },
   {
    "duration": 175,
    "start_time": "2022-05-11T16:06:46.007Z"
   },
   {
    "duration": 222,
    "start_time": "2022-05-11T16:06:58.841Z"
   },
   {
    "duration": 16,
    "start_time": "2022-05-11T16:08:39.007Z"
   },
   {
    "duration": 16,
    "start_time": "2022-05-11T16:08:42.432Z"
   },
   {
    "duration": 13,
    "start_time": "2022-05-11T16:08:47.061Z"
   },
   {
    "duration": 212,
    "start_time": "2022-05-11T16:09:15.201Z"
   },
   {
    "duration": 15,
    "start_time": "2022-05-11T16:13:30.995Z"
   },
   {
    "duration": 18,
    "start_time": "2022-05-11T16:13:35.098Z"
   },
   {
    "duration": 12,
    "start_time": "2022-05-11T16:14:05.483Z"
   },
   {
    "duration": 13,
    "start_time": "2022-05-11T16:19:45.873Z"
   },
   {
    "duration": 165,
    "start_time": "2022-05-11T16:27:58.925Z"
   },
   {
    "duration": 175,
    "start_time": "2022-05-11T16:28:02.500Z"
   },
   {
    "duration": 266,
    "start_time": "2022-05-11T16:28:07.546Z"
   },
   {
    "duration": 188,
    "start_time": "2022-05-11T16:28:14.517Z"
   },
   {
    "duration": 171,
    "start_time": "2022-05-11T16:28:20.201Z"
   },
   {
    "duration": 169,
    "start_time": "2022-05-11T16:28:23.672Z"
   },
   {
    "duration": 172,
    "start_time": "2022-05-11T16:28:27.462Z"
   },
   {
    "duration": 174,
    "start_time": "2022-05-11T16:29:44.465Z"
   },
   {
    "duration": 207,
    "start_time": "2022-05-11T16:30:31.023Z"
   },
   {
    "duration": 221,
    "start_time": "2022-05-11T16:30:40.098Z"
   },
   {
    "duration": 192,
    "start_time": "2022-05-11T16:30:56.266Z"
   },
   {
    "duration": 209,
    "start_time": "2022-05-11T16:31:15.808Z"
   },
   {
    "duration": 290,
    "start_time": "2022-05-11T16:31:36.325Z"
   },
   {
    "duration": 97,
    "start_time": "2022-05-11T16:36:06.607Z"
   },
   {
    "duration": 7,
    "start_time": "2022-05-11T16:36:12.757Z"
   },
   {
    "duration": 10,
    "start_time": "2022-05-11T16:36:32.443Z"
   },
   {
    "duration": 15,
    "start_time": "2022-05-11T16:36:54.986Z"
   },
   {
    "duration": 7,
    "start_time": "2022-05-11T16:37:00.856Z"
   },
   {
    "duration": 11,
    "start_time": "2022-05-11T16:37:57.612Z"
   },
   {
    "duration": 15,
    "start_time": "2022-05-11T16:40:54.155Z"
   },
   {
    "duration": 11,
    "start_time": "2022-05-11T16:41:43.967Z"
   },
   {
    "duration": 4,
    "start_time": "2022-05-11T16:42:09.076Z"
   },
   {
    "duration": 425,
    "start_time": "2022-05-11T16:42:09.083Z"
   },
   {
    "duration": 32,
    "start_time": "2022-05-11T16:42:09.509Z"
   },
   {
    "duration": 27,
    "start_time": "2022-05-11T16:42:09.543Z"
   },
   {
    "duration": 53,
    "start_time": "2022-05-11T16:42:09.573Z"
   },
   {
    "duration": 19,
    "start_time": "2022-05-11T16:42:09.628Z"
   },
   {
    "duration": 48,
    "start_time": "2022-05-11T16:42:09.649Z"
   },
   {
    "duration": 208,
    "start_time": "2022-05-11T16:42:09.699Z"
   },
   {
    "duration": 281,
    "start_time": "2022-05-11T16:42:09.909Z"
   },
   {
    "duration": 247,
    "start_time": "2022-05-11T16:42:10.192Z"
   },
   {
    "duration": 140,
    "start_time": "2022-05-11T16:42:10.441Z"
   },
   {
    "duration": 22,
    "start_time": "2022-05-11T16:42:10.587Z"
   },
   {
    "duration": 16,
    "start_time": "2022-05-11T16:42:10.611Z"
   },
   {
    "duration": 136,
    "start_time": "2022-05-11T16:42:10.631Z"
   },
   {
    "duration": 37,
    "start_time": "2022-05-11T16:42:10.770Z"
   },
   {
    "duration": 6,
    "start_time": "2022-05-11T16:42:10.809Z"
   },
   {
    "duration": 293,
    "start_time": "2022-05-11T16:42:10.817Z"
   },
   {
    "duration": 108,
    "start_time": "2022-05-11T16:42:11.112Z"
   },
   {
    "duration": 9,
    "start_time": "2022-05-11T16:42:11.221Z"
   },
   {
    "duration": 209,
    "start_time": "2022-05-11T16:42:11.232Z"
   },
   {
    "duration": 11,
    "start_time": "2022-05-11T16:42:11.443Z"
   },
   {
    "duration": 10,
    "start_time": "2022-05-11T16:42:11.456Z"
   },
   {
    "duration": 19,
    "start_time": "2022-05-11T16:42:11.489Z"
   },
   {
    "duration": 12,
    "start_time": "2022-05-11T16:42:11.510Z"
   },
   {
    "duration": 249,
    "start_time": "2022-05-11T16:42:11.524Z"
   },
   {
    "duration": 24,
    "start_time": "2022-05-11T16:42:11.775Z"
   },
   {
    "duration": 19,
    "start_time": "2022-05-11T16:42:11.801Z"
   },
   {
    "duration": 21,
    "start_time": "2022-05-11T16:42:11.821Z"
   },
   {
    "duration": 212,
    "start_time": "2022-05-11T16:42:11.844Z"
   },
   {
    "duration": 13,
    "start_time": "2022-05-11T16:42:12.058Z"
   },
   {
    "duration": 48,
    "start_time": "2022-05-11T16:42:12.072Z"
   },
   {
    "duration": 17,
    "start_time": "2022-05-11T16:42:12.123Z"
   },
   {
    "duration": 12,
    "start_time": "2022-05-11T16:42:12.143Z"
   },
   {
    "duration": 14,
    "start_time": "2022-05-11T16:42:12.157Z"
   },
   {
    "duration": 192,
    "start_time": "2022-05-11T16:42:23.766Z"
   },
   {
    "duration": 162,
    "start_time": "2022-05-11T16:42:38.084Z"
   },
   {
    "duration": 160,
    "start_time": "2022-05-11T16:42:52.005Z"
   },
   {
    "duration": 156,
    "start_time": "2022-05-11T16:42:58.672Z"
   },
   {
    "duration": 12,
    "start_time": "2022-05-11T16:45:00.376Z"
   },
   {
    "duration": 16,
    "start_time": "2022-05-11T16:45:36.057Z"
   },
   {
    "duration": 11,
    "start_time": "2022-05-11T16:46:11.305Z"
   },
   {
    "duration": 11,
    "start_time": "2022-05-11T16:46:16.205Z"
   },
   {
    "duration": 10,
    "start_time": "2022-05-11T16:48:00.114Z"
   },
   {
    "duration": 13,
    "start_time": "2022-05-11T16:48:38.503Z"
   },
   {
    "duration": 15,
    "start_time": "2022-05-11T16:51:22.331Z"
   },
   {
    "duration": 12,
    "start_time": "2022-05-11T16:52:29.233Z"
   },
   {
    "duration": 11,
    "start_time": "2022-05-11T16:53:54.648Z"
   },
   {
    "duration": 12,
    "start_time": "2022-05-11T16:53:58.131Z"
   },
   {
    "duration": 11,
    "start_time": "2022-05-11T16:54:33.116Z"
   },
   {
    "duration": 11,
    "start_time": "2022-05-11T16:54:58.148Z"
   },
   {
    "duration": 12,
    "start_time": "2022-05-11T16:55:32.866Z"
   },
   {
    "duration": 151,
    "start_time": "2022-05-11T16:56:42.231Z"
   },
   {
    "duration": 178,
    "start_time": "2022-05-11T16:59:39.789Z"
   },
   {
    "duration": 197,
    "start_time": "2022-05-11T17:00:40.357Z"
   },
   {
    "duration": 328,
    "start_time": "2022-05-11T17:00:47.638Z"
   },
   {
    "duration": 11,
    "start_time": "2022-05-11T17:01:41.584Z"
   },
   {
    "duration": 12,
    "start_time": "2022-05-11T17:02:12.545Z"
   },
   {
    "duration": 159,
    "start_time": "2022-05-11T17:03:25.014Z"
   },
   {
    "duration": 156,
    "start_time": "2022-05-11T17:03:43.610Z"
   },
   {
    "duration": 165,
    "start_time": "2022-05-11T17:03:59.905Z"
   },
   {
    "duration": 12,
    "start_time": "2022-05-11T17:05:22.238Z"
   },
   {
    "duration": 144,
    "start_time": "2022-05-11T17:08:44.420Z"
   },
   {
    "duration": 145,
    "start_time": "2022-05-11T17:11:58.220Z"
   },
   {
    "duration": 140,
    "start_time": "2022-05-11T17:12:01.137Z"
   },
   {
    "duration": 187,
    "start_time": "2022-05-11T17:13:42.244Z"
   },
   {
    "duration": 13,
    "start_time": "2022-05-11T17:15:59.468Z"
   },
   {
    "duration": 11,
    "start_time": "2022-05-11T17:16:26.210Z"
   },
   {
    "duration": 16,
    "start_time": "2022-05-11T17:16:57.788Z"
   },
   {
    "duration": 11,
    "start_time": "2022-05-11T17:20:11.805Z"
   },
   {
    "duration": 31,
    "start_time": "2022-05-11T17:20:59.109Z"
   },
   {
    "duration": 4,
    "start_time": "2022-05-11T17:21:14.646Z"
   },
   {
    "duration": 16,
    "start_time": "2022-05-11T17:21:40.653Z"
   },
   {
    "duration": 16,
    "start_time": "2022-05-11T17:22:08.448Z"
   },
   {
    "duration": 25,
    "start_time": "2022-05-11T17:23:10.070Z"
   },
   {
    "duration": 11,
    "start_time": "2022-05-11T17:24:38.058Z"
   },
   {
    "duration": 11,
    "start_time": "2022-05-11T17:24:44.232Z"
   },
   {
    "duration": 12,
    "start_time": "2022-05-11T17:26:42.016Z"
   },
   {
    "duration": 3,
    "start_time": "2022-05-11T17:35:04.955Z"
   },
   {
    "duration": 391,
    "start_time": "2022-05-11T17:35:04.960Z"
   },
   {
    "duration": 32,
    "start_time": "2022-05-11T17:35:05.353Z"
   },
   {
    "duration": 33,
    "start_time": "2022-05-11T17:35:05.387Z"
   },
   {
    "duration": 27,
    "start_time": "2022-05-11T17:35:05.423Z"
   },
   {
    "duration": 40,
    "start_time": "2022-05-11T17:35:05.452Z"
   },
   {
    "duration": 26,
    "start_time": "2022-05-11T17:35:05.493Z"
   },
   {
    "duration": 220,
    "start_time": "2022-05-11T17:35:05.521Z"
   },
   {
    "duration": 274,
    "start_time": "2022-05-11T17:35:05.743Z"
   },
   {
    "duration": 237,
    "start_time": "2022-05-11T17:35:06.019Z"
   },
   {
    "duration": 107,
    "start_time": "2022-05-11T17:35:06.258Z"
   },
   {
    "duration": 37,
    "start_time": "2022-05-11T17:35:06.366Z"
   },
   {
    "duration": 12,
    "start_time": "2022-05-11T17:35:06.405Z"
   },
   {
    "duration": 125,
    "start_time": "2022-05-11T17:35:06.419Z"
   },
   {
    "duration": 24,
    "start_time": "2022-05-11T17:35:06.545Z"
   },
   {
    "duration": 20,
    "start_time": "2022-05-11T17:35:06.571Z"
   },
   {
    "duration": 284,
    "start_time": "2022-05-11T17:35:06.593Z"
   },
   {
    "duration": 112,
    "start_time": "2022-05-11T17:35:06.878Z"
   },
   {
    "duration": 13,
    "start_time": "2022-05-11T17:35:06.991Z"
   },
   {
    "duration": 188,
    "start_time": "2022-05-11T17:35:07.006Z"
   },
   {
    "duration": 13,
    "start_time": "2022-05-11T17:35:07.196Z"
   },
   {
    "duration": 10,
    "start_time": "2022-05-11T17:35:07.211Z"
   },
   {
    "duration": 11,
    "start_time": "2022-05-11T17:35:07.223Z"
   },
   {
    "duration": 17,
    "start_time": "2022-05-11T17:35:07.236Z"
   },
   {
    "duration": 207,
    "start_time": "2022-05-11T17:35:07.255Z"
   },
   {
    "duration": 10,
    "start_time": "2022-05-11T17:35:07.464Z"
   },
   {
    "duration": 41,
    "start_time": "2022-05-11T17:35:07.475Z"
   },
   {
    "duration": 21,
    "start_time": "2022-05-11T17:35:07.518Z"
   },
   {
    "duration": 13,
    "start_time": "2022-05-11T17:35:07.541Z"
   },
   {
    "duration": 162,
    "start_time": "2022-05-11T17:35:07.556Z"
   },
   {
    "duration": 10,
    "start_time": "2022-05-11T17:35:07.720Z"
   },
   {
    "duration": 13,
    "start_time": "2022-05-11T17:35:07.732Z"
   },
   {
    "duration": 11,
    "start_time": "2022-05-11T17:35:07.746Z"
   },
   {
    "duration": 46,
    "start_time": "2022-05-11T17:35:07.759Z"
   },
   {
    "duration": 13,
    "start_time": "2022-05-11T17:35:07.807Z"
   },
   {
    "duration": 11,
    "start_time": "2022-05-11T17:35:07.822Z"
   },
   {
    "duration": 13,
    "start_time": "2022-05-11T17:49:58.002Z"
   },
   {
    "duration": 14,
    "start_time": "2022-05-11T17:50:23.198Z"
   },
   {
    "duration": 14,
    "start_time": "2022-05-11T17:51:00.004Z"
   },
   {
    "duration": 1570,
    "start_time": "2022-05-11T17:55:25.288Z"
   },
   {
    "duration": 1140,
    "start_time": "2022-05-11T17:57:58.907Z"
   },
   {
    "duration": 500,
    "start_time": "2022-05-11T17:58:00.050Z"
   },
   {
    "duration": 60,
    "start_time": "2022-05-11T17:58:00.552Z"
   },
   {
    "duration": 43,
    "start_time": "2022-05-11T17:58:00.614Z"
   },
   {
    "duration": 47,
    "start_time": "2022-05-11T17:58:00.659Z"
   },
   {
    "duration": 24,
    "start_time": "2022-05-11T17:58:00.709Z"
   },
   {
    "duration": 37,
    "start_time": "2022-05-11T17:58:00.735Z"
   },
   {
    "duration": 279,
    "start_time": "2022-05-11T17:58:00.774Z"
   },
   {
    "duration": 283,
    "start_time": "2022-05-11T17:58:01.056Z"
   },
   {
    "duration": 287,
    "start_time": "2022-05-11T17:58:01.341Z"
   },
   {
    "duration": 26,
    "start_time": "2022-05-11T17:58:01.631Z"
   },
   {
    "duration": 6,
    "start_time": "2022-05-11T17:58:01.659Z"
   },
   {
    "duration": 294,
    "start_time": "2022-05-11T17:58:01.666Z"
   },
   {
    "duration": 130,
    "start_time": "2022-05-11T17:58:01.963Z"
   },
   {
    "duration": 13,
    "start_time": "2022-05-11T17:58:02.095Z"
   },
   {
    "duration": 258,
    "start_time": "2022-05-11T17:58:02.109Z"
   },
   {
    "duration": 11,
    "start_time": "2022-05-11T17:58:02.369Z"
   },
   {
    "duration": 15,
    "start_time": "2022-05-11T17:58:02.392Z"
   },
   {
    "duration": 23,
    "start_time": "2022-05-11T17:58:02.409Z"
   },
   {
    "duration": 19,
    "start_time": "2022-05-11T17:58:02.434Z"
   },
   {
    "duration": 194,
    "start_time": "2022-05-11T17:58:02.454Z"
   },
   {
    "duration": 13,
    "start_time": "2022-05-11T17:58:02.650Z"
   },
   {
    "duration": 29,
    "start_time": "2022-05-11T17:58:02.665Z"
   },
   {
    "duration": 24,
    "start_time": "2022-05-11T17:58:02.696Z"
   },
   {
    "duration": 30,
    "start_time": "2022-05-11T17:58:02.722Z"
   },
   {
    "duration": 188,
    "start_time": "2022-05-11T17:58:02.755Z"
   },
   {
    "duration": 12,
    "start_time": "2022-05-11T17:58:02.944Z"
   },
   {
    "duration": 56,
    "start_time": "2022-05-11T17:58:02.958Z"
   },
   {
    "duration": 31,
    "start_time": "2022-05-11T17:58:03.016Z"
   },
   {
    "duration": 48,
    "start_time": "2022-05-11T17:58:03.048Z"
   },
   {
    "duration": 35,
    "start_time": "2022-05-11T17:58:03.098Z"
   },
   {
    "duration": 22,
    "start_time": "2022-05-11T17:58:03.135Z"
   },
   {
    "duration": 1405,
    "start_time": "2022-05-11T21:36:38.566Z"
   },
   {
    "duration": 570,
    "start_time": "2022-05-11T21:36:39.974Z"
   },
   {
    "duration": 48,
    "start_time": "2022-05-11T21:36:40.546Z"
   },
   {
    "duration": 41,
    "start_time": "2022-05-11T21:36:40.597Z"
   },
   {
    "duration": 32,
    "start_time": "2022-05-11T21:36:40.641Z"
   },
   {
    "duration": 57,
    "start_time": "2022-05-11T21:36:40.675Z"
   },
   {
    "duration": 27,
    "start_time": "2022-05-11T21:36:40.734Z"
   },
   {
    "duration": 362,
    "start_time": "2022-05-11T21:36:40.764Z"
   },
   {
    "duration": 337,
    "start_time": "2022-05-11T21:36:41.128Z"
   },
   {
    "duration": 344,
    "start_time": "2022-05-11T21:36:41.469Z"
   },
   {
    "duration": 40,
    "start_time": "2022-05-11T21:36:41.816Z"
   },
   {
    "duration": 10,
    "start_time": "2022-05-11T21:36:41.859Z"
   },
   {
    "duration": 436,
    "start_time": "2022-05-11T21:36:41.871Z"
   },
   {
    "duration": 192,
    "start_time": "2022-05-11T21:36:42.310Z"
   },
   {
    "duration": 23,
    "start_time": "2022-05-11T21:36:42.504Z"
   },
   {
    "duration": 328,
    "start_time": "2022-05-11T21:36:42.530Z"
   },
   {
    "duration": 17,
    "start_time": "2022-05-11T21:36:42.861Z"
   },
   {
    "duration": 17,
    "start_time": "2022-05-11T21:36:42.881Z"
   },
   {
    "duration": 16,
    "start_time": "2022-05-11T21:36:42.925Z"
   },
   {
    "duration": 14,
    "start_time": "2022-05-11T21:36:42.944Z"
   },
   {
    "duration": 299,
    "start_time": "2022-05-11T21:36:42.960Z"
   },
   {
    "duration": 15,
    "start_time": "2022-05-11T21:36:43.261Z"
   },
   {
    "duration": 21,
    "start_time": "2022-05-11T21:36:43.279Z"
   },
   {
    "duration": 38,
    "start_time": "2022-05-11T21:36:43.302Z"
   },
   {
    "duration": 15,
    "start_time": "2022-05-11T21:36:43.343Z"
   },
   {
    "duration": 305,
    "start_time": "2022-05-11T21:36:43.360Z"
   },
   {
    "duration": 19,
    "start_time": "2022-05-11T21:36:43.667Z"
   },
   {
    "duration": 38,
    "start_time": "2022-05-11T21:36:43.690Z"
   },
   {
    "duration": 20,
    "start_time": "2022-05-11T21:36:43.731Z"
   },
   {
    "duration": 24,
    "start_time": "2022-05-11T21:36:43.754Z"
   },
   {
    "duration": 48,
    "start_time": "2022-05-11T21:36:43.780Z"
   },
   {
    "duration": 16,
    "start_time": "2022-05-11T21:36:43.831Z"
   },
   {
    "duration": 149,
    "start_time": "2022-05-11T21:38:28.137Z"
   },
   {
    "duration": 9,
    "start_time": "2022-05-11T21:40:50.480Z"
   },
   {
    "duration": 33,
    "start_time": "2022-05-11T21:41:10.575Z"
   },
   {
    "duration": 24,
    "start_time": "2022-05-11T21:41:33.413Z"
   },
   {
    "duration": 1220,
    "start_time": "2022-05-19T08:21:56.928Z"
   },
   {
    "duration": 710,
    "start_time": "2022-05-19T08:21:58.151Z"
   },
   {
    "duration": 44,
    "start_time": "2022-05-19T08:21:58.863Z"
   },
   {
    "duration": 42,
    "start_time": "2022-05-19T08:21:58.908Z"
   },
   {
    "duration": 37,
    "start_time": "2022-05-19T08:21:58.954Z"
   },
   {
    "duration": 17,
    "start_time": "2022-05-19T08:21:58.993Z"
   },
   {
    "duration": 35,
    "start_time": "2022-05-19T08:21:59.012Z"
   },
   {
    "duration": 255,
    "start_time": "2022-05-19T08:21:59.049Z"
   },
   {
    "duration": 241,
    "start_time": "2022-05-19T08:21:59.306Z"
   },
   {
    "duration": 222,
    "start_time": "2022-05-19T08:21:59.549Z"
   },
   {
    "duration": 4,
    "start_time": "2022-05-19T08:21:59.773Z"
   },
   {
    "duration": 58,
    "start_time": "2022-05-19T08:21:59.778Z"
   },
   {
    "duration": 5,
    "start_time": "2022-05-19T08:21:59.838Z"
   },
   {
    "duration": 214,
    "start_time": "2022-05-19T08:21:59.847Z"
   },
   {
    "duration": 43,
    "start_time": "2022-05-19T08:22:00.063Z"
   },
   {
    "duration": 56,
    "start_time": "2022-05-19T08:22:00.108Z"
   },
   {
    "duration": 68,
    "start_time": "2022-05-19T08:22:00.165Z"
   },
   {
    "duration": 50,
    "start_time": "2022-05-19T08:22:00.235Z"
   },
   {
    "duration": 41,
    "start_time": "2022-05-19T08:22:00.287Z"
   },
   {
    "duration": 100,
    "start_time": "2022-05-19T08:22:00.330Z"
   },
   {
    "duration": 8,
    "start_time": "2022-05-19T08:22:00.432Z"
   },
   {
    "duration": 219,
    "start_time": "2022-05-19T08:22:00.442Z"
   },
   {
    "duration": 11,
    "start_time": "2022-05-19T08:22:00.663Z"
   },
   {
    "duration": 25,
    "start_time": "2022-05-19T08:22:00.676Z"
   },
   {
    "duration": 77,
    "start_time": "2022-05-19T08:22:00.703Z"
   },
   {
    "duration": 43,
    "start_time": "2022-05-19T08:22:00.782Z"
   },
   {
    "duration": 190,
    "start_time": "2022-05-19T08:22:00.827Z"
   },
   {
    "duration": 11,
    "start_time": "2022-05-19T08:22:01.019Z"
   },
   {
    "duration": 53,
    "start_time": "2022-05-19T08:22:01.032Z"
   },
   {
    "duration": 41,
    "start_time": "2022-05-19T08:22:01.087Z"
   },
   {
    "duration": 32,
    "start_time": "2022-05-19T08:22:01.130Z"
   },
   {
    "duration": 276,
    "start_time": "2022-05-19T08:22:01.164Z"
   },
   {
    "duration": 10,
    "start_time": "2022-05-19T08:22:01.442Z"
   },
   {
    "duration": 16,
    "start_time": "2022-05-19T08:22:01.453Z"
   },
   {
    "duration": 17,
    "start_time": "2022-05-19T08:22:01.471Z"
   },
   {
    "duration": 25,
    "start_time": "2022-05-19T08:22:01.490Z"
   },
   {
    "duration": 18,
    "start_time": "2022-05-19T08:22:01.517Z"
   },
   {
    "duration": 52,
    "start_time": "2022-05-19T08:22:01.537Z"
   },
   {
    "duration": 48,
    "start_time": "2022-06-11T17:46:56.863Z"
   },
   {
    "duration": 1184,
    "start_time": "2022-06-11T17:46:59.653Z"
   },
   {
    "duration": 1040,
    "start_time": "2022-06-11T17:47:00.839Z"
   },
   {
    "duration": 38,
    "start_time": "2022-06-11T17:47:01.881Z"
   },
   {
    "duration": 70,
    "start_time": "2022-06-11T17:47:01.921Z"
   },
   {
    "duration": 50,
    "start_time": "2022-06-11T17:47:01.994Z"
   },
   {
    "duration": 28,
    "start_time": "2022-06-11T17:47:02.046Z"
   },
   {
    "duration": 21,
    "start_time": "2022-06-11T17:47:02.077Z"
   },
   {
    "duration": 220,
    "start_time": "2022-06-11T17:47:02.100Z"
   },
   {
    "duration": 210,
    "start_time": "2022-06-11T17:47:02.321Z"
   },
   {
    "duration": 227,
    "start_time": "2022-06-11T17:47:02.532Z"
   },
   {
    "duration": 4,
    "start_time": "2022-06-11T17:47:02.761Z"
   },
   {
    "duration": 93,
    "start_time": "2022-06-11T17:47:02.766Z"
   },
   {
    "duration": 6,
    "start_time": "2022-06-11T17:47:02.860Z"
   },
   {
    "duration": 325,
    "start_time": "2022-06-11T17:47:02.868Z"
   },
   {
    "duration": 92,
    "start_time": "2022-06-11T17:47:03.194Z"
   },
   {
    "duration": 97,
    "start_time": "2022-06-11T17:47:03.288Z"
   },
   {
    "duration": 100,
    "start_time": "2022-06-11T17:47:03.387Z"
   },
   {
    "duration": 95,
    "start_time": "2022-06-11T17:47:03.488Z"
   },
   {
    "duration": 78,
    "start_time": "2022-06-11T17:47:03.585Z"
   },
   {
    "duration": 203,
    "start_time": "2022-06-11T17:47:03.665Z"
   },
   {
    "duration": 9,
    "start_time": "2022-06-11T17:47:03.869Z"
   },
   {
    "duration": 388,
    "start_time": "2022-06-11T17:47:03.879Z"
   },
   {
    "duration": 11,
    "start_time": "2022-06-11T17:47:04.269Z"
   },
   {
    "duration": 15,
    "start_time": "2022-06-11T17:47:04.281Z"
   },
   {
    "duration": 63,
    "start_time": "2022-06-11T17:47:04.297Z"
   },
   {
    "duration": 8,
    "start_time": "2022-06-11T17:47:04.362Z"
   },
   {
    "duration": 230,
    "start_time": "2022-06-11T17:47:04.371Z"
   },
   {
    "duration": 9,
    "start_time": "2022-06-11T17:47:04.602Z"
   },
   {
    "duration": 11,
    "start_time": "2022-06-11T17:47:04.612Z"
   },
   {
    "duration": 28,
    "start_time": "2022-06-11T17:47:04.624Z"
   },
   {
    "duration": 9,
    "start_time": "2022-06-11T17:47:04.653Z"
   },
   {
    "duration": 163,
    "start_time": "2022-06-11T17:47:04.663Z"
   },
   {
    "duration": 10,
    "start_time": "2022-06-11T17:47:04.827Z"
   },
   {
    "duration": 18,
    "start_time": "2022-06-11T17:47:04.838Z"
   },
   {
    "duration": 8,
    "start_time": "2022-06-11T17:47:04.857Z"
   },
   {
    "duration": 14,
    "start_time": "2022-06-11T17:47:04.867Z"
   },
   {
    "duration": 9,
    "start_time": "2022-06-11T17:47:04.882Z"
   },
   {
    "duration": 10,
    "start_time": "2022-06-11T17:47:04.894Z"
   },
   {
    "duration": 171,
    "start_time": "2022-06-11T17:48:42.583Z"
   },
   {
    "duration": 149,
    "start_time": "2022-06-11T17:48:48.353Z"
   },
   {
    "duration": 168,
    "start_time": "2022-06-11T17:48:53.096Z"
   },
   {
    "duration": 149,
    "start_time": "2022-06-11T17:49:11.602Z"
   },
   {
    "duration": 11,
    "start_time": "2022-06-11T17:49:49.743Z"
   },
   {
    "duration": 3,
    "start_time": "2022-06-11T17:51:34.634Z"
   },
   {
    "duration": 377,
    "start_time": "2022-06-11T17:51:34.638Z"
   },
   {
    "duration": 26,
    "start_time": "2022-06-11T17:51:35.017Z"
   },
   {
    "duration": 22,
    "start_time": "2022-06-11T17:51:35.044Z"
   },
   {
    "duration": 20,
    "start_time": "2022-06-11T17:51:35.068Z"
   },
   {
    "duration": 15,
    "start_time": "2022-06-11T17:51:35.089Z"
   },
   {
    "duration": 18,
    "start_time": "2022-06-11T17:51:35.106Z"
   },
   {
    "duration": 213,
    "start_time": "2022-06-11T17:51:35.153Z"
   },
   {
    "duration": 214,
    "start_time": "2022-06-11T17:51:35.368Z"
   },
   {
    "duration": 208,
    "start_time": "2022-06-11T17:51:35.583Z"
   },
   {
    "duration": 4,
    "start_time": "2022-06-11T17:51:35.793Z"
   },
   {
    "duration": 64,
    "start_time": "2022-06-11T17:51:35.799Z"
   },
   {
    "duration": 5,
    "start_time": "2022-06-11T17:51:35.865Z"
   },
   {
    "duration": 183,
    "start_time": "2022-06-11T17:51:35.873Z"
   },
   {
    "duration": 10,
    "start_time": "2022-06-11T17:51:36.057Z"
   },
   {
    "duration": 375,
    "start_time": "2022-06-11T17:51:36.069Z"
   },
   {
    "duration": 0,
    "start_time": "2022-06-11T17:51:36.446Z"
   },
   {
    "duration": 0,
    "start_time": "2022-06-11T17:51:36.447Z"
   },
   {
    "duration": 0,
    "start_time": "2022-06-11T17:51:36.449Z"
   },
   {
    "duration": 0,
    "start_time": "2022-06-11T17:51:36.450Z"
   },
   {
    "duration": 0,
    "start_time": "2022-06-11T17:51:36.451Z"
   },
   {
    "duration": 0,
    "start_time": "2022-06-11T17:51:36.452Z"
   },
   {
    "duration": 0,
    "start_time": "2022-06-11T17:51:36.453Z"
   },
   {
    "duration": 0,
    "start_time": "2022-06-11T17:51:36.454Z"
   },
   {
    "duration": 1,
    "start_time": "2022-06-11T17:51:36.455Z"
   },
   {
    "duration": 0,
    "start_time": "2022-06-11T17:51:36.457Z"
   },
   {
    "duration": 0,
    "start_time": "2022-06-11T17:51:36.458Z"
   },
   {
    "duration": 0,
    "start_time": "2022-06-11T17:51:36.459Z"
   },
   {
    "duration": 0,
    "start_time": "2022-06-11T17:51:36.460Z"
   },
   {
    "duration": 0,
    "start_time": "2022-06-11T17:51:36.461Z"
   },
   {
    "duration": 0,
    "start_time": "2022-06-11T17:51:36.462Z"
   },
   {
    "duration": 0,
    "start_time": "2022-06-11T17:51:36.463Z"
   },
   {
    "duration": 0,
    "start_time": "2022-06-11T17:51:36.464Z"
   },
   {
    "duration": 0,
    "start_time": "2022-06-11T17:51:36.465Z"
   },
   {
    "duration": 157,
    "start_time": "2022-06-11T17:52:29.919Z"
   },
   {
    "duration": 12,
    "start_time": "2022-06-11T17:52:32.256Z"
   },
   {
    "duration": 93,
    "start_time": "2022-06-11T17:52:37.367Z"
   },
   {
    "duration": 7,
    "start_time": "2022-06-11T17:52:39.055Z"
   },
   {
    "duration": 203,
    "start_time": "2022-06-11T17:52:42.500Z"
   },
   {
    "duration": 11,
    "start_time": "2022-06-11T17:52:43.373Z"
   },
   {
    "duration": 10,
    "start_time": "2022-06-11T17:52:45.037Z"
   },
   {
    "duration": 9,
    "start_time": "2022-06-11T17:52:45.770Z"
   },
   {
    "duration": 10,
    "start_time": "2022-06-11T17:52:47.095Z"
   },
   {
    "duration": 151,
    "start_time": "2022-06-11T17:52:48.487Z"
   },
   {
    "duration": 9,
    "start_time": "2022-06-11T17:52:48.920Z"
   },
   {
    "duration": 10,
    "start_time": "2022-06-11T17:52:49.750Z"
   },
   {
    "duration": 11,
    "start_time": "2022-06-11T17:52:51.021Z"
   },
   {
    "duration": 11,
    "start_time": "2022-06-11T17:52:51.935Z"
   },
   {
    "duration": 165,
    "start_time": "2022-06-11T17:52:53.865Z"
   },
   {
    "duration": 10,
    "start_time": "2022-06-11T17:52:56.356Z"
   },
   {
    "duration": 9,
    "start_time": "2022-06-11T17:52:57.345Z"
   },
   {
    "duration": 10,
    "start_time": "2022-06-11T17:52:58.180Z"
   },
   {
    "duration": 14,
    "start_time": "2022-06-11T17:52:58.912Z"
   },
   {
    "duration": 9,
    "start_time": "2022-06-11T17:54:55.499Z"
   },
   {
    "duration": 15,
    "start_time": "2022-06-11T17:56:19.044Z"
   },
   {
    "duration": 46,
    "start_time": "2022-06-11T17:57:50.624Z"
   },
   {
    "duration": 6,
    "start_time": "2022-06-11T17:58:02.991Z"
   },
   {
    "duration": 937,
    "start_time": "2022-06-11T17:58:05.587Z"
   },
   {
    "duration": 966,
    "start_time": "2022-06-11T17:58:06.526Z"
   },
   {
    "duration": 57,
    "start_time": "2022-06-11T17:58:12.295Z"
   },
   {
    "duration": 12,
    "start_time": "2022-06-11T18:12:35.204Z"
   },
   {
    "duration": 9,
    "start_time": "2022-06-11T18:12:41.699Z"
   },
   {
    "duration": 203,
    "start_time": "2022-06-11T18:12:55.499Z"
   },
   {
    "duration": 206,
    "start_time": "2022-06-11T18:12:56.261Z"
   },
   {
    "duration": 230,
    "start_time": "2022-06-11T18:13:01.550Z"
   },
   {
    "duration": 4,
    "start_time": "2022-06-11T18:13:03.075Z"
   },
   {
    "duration": 49,
    "start_time": "2022-06-11T18:13:04.760Z"
   },
   {
    "duration": 210,
    "start_time": "2022-06-11T18:13:09.104Z"
   },
   {
    "duration": 12,
    "start_time": "2022-06-11T18:13:13.122Z"
   },
   {
    "duration": 3,
    "start_time": "2022-06-11T18:14:52.736Z"
   },
   {
    "duration": 396,
    "start_time": "2022-06-11T18:14:52.742Z"
   },
   {
    "duration": 28,
    "start_time": "2022-06-11T18:14:53.140Z"
   },
   {
    "duration": 24,
    "start_time": "2022-06-11T18:14:53.170Z"
   },
   {
    "duration": 23,
    "start_time": "2022-06-11T18:14:53.197Z"
   },
   {
    "duration": 35,
    "start_time": "2022-06-11T18:14:53.221Z"
   },
   {
    "duration": 15,
    "start_time": "2022-06-11T18:14:53.258Z"
   },
   {
    "duration": 188,
    "start_time": "2022-06-11T18:14:53.275Z"
   },
   {
    "duration": 203,
    "start_time": "2022-06-11T18:14:53.465Z"
   },
   {
    "duration": 223,
    "start_time": "2022-06-11T18:14:53.670Z"
   },
   {
    "duration": 4,
    "start_time": "2022-06-11T18:14:53.894Z"
   },
   {
    "duration": 60,
    "start_time": "2022-06-11T18:14:53.900Z"
   },
   {
    "duration": 5,
    "start_time": "2022-06-11T18:14:53.961Z"
   },
   {
    "duration": 203,
    "start_time": "2022-06-11T18:14:53.970Z"
   },
   {
    "duration": 11,
    "start_time": "2022-06-11T18:14:54.175Z"
   },
   {
    "duration": 109,
    "start_time": "2022-06-11T18:14:54.188Z"
   },
   {
    "duration": 8,
    "start_time": "2022-06-11T18:14:54.298Z"
   },
   {
    "duration": 218,
    "start_time": "2022-06-11T18:14:54.308Z"
   },
   {
    "duration": 11,
    "start_time": "2022-06-11T18:14:54.528Z"
   },
   {
    "duration": 9,
    "start_time": "2022-06-11T18:14:54.551Z"
   },
   {
    "duration": 10,
    "start_time": "2022-06-11T18:14:54.561Z"
   },
   {
    "duration": 8,
    "start_time": "2022-06-11T18:14:54.572Z"
   },
   {
    "duration": 174,
    "start_time": "2022-06-11T18:14:54.581Z"
   },
   {
    "duration": 9,
    "start_time": "2022-06-11T18:14:54.756Z"
   },
   {
    "duration": 16,
    "start_time": "2022-06-11T18:14:54.767Z"
   },
   {
    "duration": 8,
    "start_time": "2022-06-11T18:14:54.784Z"
   },
   {
    "duration": 8,
    "start_time": "2022-06-11T18:14:54.794Z"
   },
   {
    "duration": 172,
    "start_time": "2022-06-11T18:14:54.803Z"
   },
   {
    "duration": 9,
    "start_time": "2022-06-11T18:14:54.977Z"
   },
   {
    "duration": 9,
    "start_time": "2022-06-11T18:14:54.988Z"
   },
   {
    "duration": 10,
    "start_time": "2022-06-11T18:14:54.998Z"
   },
   {
    "duration": 44,
    "start_time": "2022-06-11T18:14:55.009Z"
   },
   {
    "duration": 0,
    "start_time": "2022-06-11T18:14:55.054Z"
   },
   {
    "duration": 1,
    "start_time": "2022-06-11T18:14:55.055Z"
   },
   {
    "duration": 945,
    "start_time": "2022-06-11T18:15:23.173Z"
   },
   {
    "duration": 449,
    "start_time": "2022-06-11T18:15:24.119Z"
   },
   {
    "duration": 30,
    "start_time": "2022-06-11T18:15:24.571Z"
   },
   {
    "duration": 24,
    "start_time": "2022-06-11T18:15:24.603Z"
   },
   {
    "duration": 33,
    "start_time": "2022-06-11T18:15:24.628Z"
   },
   {
    "duration": 14,
    "start_time": "2022-06-11T18:15:24.662Z"
   },
   {
    "duration": 16,
    "start_time": "2022-06-11T18:15:24.678Z"
   },
   {
    "duration": 228,
    "start_time": "2022-06-11T18:15:24.696Z"
   },
   {
    "duration": 213,
    "start_time": "2022-06-11T18:15:24.926Z"
   },
   {
    "duration": 261,
    "start_time": "2022-06-11T18:15:25.141Z"
   },
   {
    "duration": 5,
    "start_time": "2022-06-11T18:15:25.404Z"
   },
   {
    "duration": 61,
    "start_time": "2022-06-11T18:15:25.411Z"
   },
   {
    "duration": 5,
    "start_time": "2022-06-11T18:15:25.476Z"
   },
   {
    "duration": 196,
    "start_time": "2022-06-11T18:15:25.482Z"
   },
   {
    "duration": 12,
    "start_time": "2022-06-11T18:15:25.680Z"
   },
   {
    "duration": 105,
    "start_time": "2022-06-11T18:15:25.694Z"
   },
   {
    "duration": 7,
    "start_time": "2022-06-11T18:15:25.801Z"
   },
   {
    "duration": 189,
    "start_time": "2022-06-11T18:15:25.810Z"
   },
   {
    "duration": 11,
    "start_time": "2022-06-11T18:15:26.000Z"
   },
   {
    "duration": 11,
    "start_time": "2022-06-11T18:15:26.013Z"
   },
   {
    "duration": 28,
    "start_time": "2022-06-11T18:15:26.026Z"
   },
   {
    "duration": 9,
    "start_time": "2022-06-11T18:15:26.055Z"
   },
   {
    "duration": 171,
    "start_time": "2022-06-11T18:15:26.066Z"
   },
   {
    "duration": 17,
    "start_time": "2022-06-11T18:15:26.239Z"
   },
   {
    "duration": 12,
    "start_time": "2022-06-11T18:15:26.257Z"
   },
   {
    "duration": 13,
    "start_time": "2022-06-11T18:15:26.271Z"
   },
   {
    "duration": 16,
    "start_time": "2022-06-11T18:15:26.285Z"
   },
   {
    "duration": 161,
    "start_time": "2022-06-11T18:15:26.303Z"
   },
   {
    "duration": 9,
    "start_time": "2022-06-11T18:15:26.466Z"
   },
   {
    "duration": 11,
    "start_time": "2022-06-11T18:15:26.477Z"
   },
   {
    "duration": 12,
    "start_time": "2022-06-11T18:15:26.490Z"
   },
   {
    "duration": 110,
    "start_time": "2022-06-11T18:15:26.503Z"
   },
   {
    "duration": 0,
    "start_time": "2022-06-11T18:15:26.614Z"
   },
   {
    "duration": 0,
    "start_time": "2022-06-11T18:15:26.616Z"
   },
   {
    "duration": 14,
    "start_time": "2022-06-11T18:15:36.125Z"
   },
   {
    "duration": 14,
    "start_time": "2022-06-11T18:15:42.245Z"
   },
   {
    "duration": 10,
    "start_time": "2022-06-11T18:15:45.783Z"
   },
   {
    "duration": 11,
    "start_time": "2022-06-11T18:15:47.405Z"
   },
   {
    "duration": 14,
    "start_time": "2022-06-11T18:16:47.831Z"
   },
   {
    "duration": 348,
    "start_time": "2022-06-11T18:17:00.267Z"
   },
   {
    "duration": 3,
    "start_time": "2022-06-11T18:17:06.223Z"
   },
   {
    "duration": 402,
    "start_time": "2022-06-11T18:17:06.826Z"
   },
   {
    "duration": 30,
    "start_time": "2022-06-11T18:17:07.607Z"
   },
   {
    "duration": 25,
    "start_time": "2022-06-11T18:17:11.183Z"
   },
   {
    "duration": 22,
    "start_time": "2022-06-11T18:17:12.601Z"
   },
   {
    "duration": 15,
    "start_time": "2022-06-11T18:17:13.457Z"
   },
   {
    "duration": 21,
    "start_time": "2022-06-11T18:17:14.313Z"
   },
   {
    "duration": 185,
    "start_time": "2022-06-11T18:17:18.544Z"
   },
   {
    "duration": 200,
    "start_time": "2022-06-11T18:17:19.312Z"
   },
   {
    "duration": 209,
    "start_time": "2022-06-11T18:17:25.313Z"
   },
   {
    "duration": 4,
    "start_time": "2022-06-11T18:17:27.170Z"
   },
   {
    "duration": 50,
    "start_time": "2022-06-11T18:17:29.770Z"
   },
   {
    "duration": 4,
    "start_time": "2022-06-11T18:17:33.366Z"
   },
   {
    "duration": 207,
    "start_time": "2022-06-11T18:17:35.255Z"
   },
   {
    "duration": 18,
    "start_time": "2022-06-11T18:17:57.975Z"
   },
   {
    "duration": 3,
    "start_time": "2022-06-11T18:18:41.637Z"
   },
   {
    "duration": 413,
    "start_time": "2022-06-11T18:18:41.641Z"
   },
   {
    "duration": 30,
    "start_time": "2022-06-11T18:18:42.056Z"
   },
   {
    "duration": 26,
    "start_time": "2022-06-11T18:18:42.088Z"
   },
   {
    "duration": 50,
    "start_time": "2022-06-11T18:18:42.116Z"
   },
   {
    "duration": 15,
    "start_time": "2022-06-11T18:18:42.168Z"
   },
   {
    "duration": 17,
    "start_time": "2022-06-11T18:18:42.185Z"
   },
   {
    "duration": 216,
    "start_time": "2022-06-11T18:18:42.203Z"
   },
   {
    "duration": 227,
    "start_time": "2022-06-11T18:18:42.420Z"
   },
   {
    "duration": 226,
    "start_time": "2022-06-11T18:18:42.652Z"
   },
   {
    "duration": 3,
    "start_time": "2022-06-11T18:18:42.880Z"
   },
   {
    "duration": 68,
    "start_time": "2022-06-11T18:18:42.885Z"
   },
   {
    "duration": 6,
    "start_time": "2022-06-11T18:18:42.955Z"
   },
   {
    "duration": 214,
    "start_time": "2022-06-11T18:18:42.965Z"
   },
   {
    "duration": 13,
    "start_time": "2022-06-11T18:18:43.180Z"
   },
   {
    "duration": 125,
    "start_time": "2022-06-11T18:18:43.195Z"
   },
   {
    "duration": 9,
    "start_time": "2022-06-11T18:18:43.321Z"
   },
   {
    "duration": 192,
    "start_time": "2022-06-11T18:18:43.332Z"
   },
   {
    "duration": 10,
    "start_time": "2022-06-11T18:18:43.526Z"
   },
   {
    "duration": 23,
    "start_time": "2022-06-11T18:18:43.537Z"
   },
   {
    "duration": 18,
    "start_time": "2022-06-11T18:18:43.561Z"
   },
   {
    "duration": 9,
    "start_time": "2022-06-11T18:18:43.581Z"
   },
   {
    "duration": 172,
    "start_time": "2022-06-11T18:18:43.592Z"
   },
   {
    "duration": 10,
    "start_time": "2022-06-11T18:18:43.765Z"
   },
   {
    "duration": 11,
    "start_time": "2022-06-11T18:18:43.776Z"
   },
   {
    "duration": 8,
    "start_time": "2022-06-11T18:18:43.789Z"
   },
   {
    "duration": 14,
    "start_time": "2022-06-11T18:18:43.799Z"
   },
   {
    "duration": 189,
    "start_time": "2022-06-11T18:18:43.815Z"
   },
   {
    "duration": 10,
    "start_time": "2022-06-11T18:18:44.006Z"
   },
   {
    "duration": 12,
    "start_time": "2022-06-11T18:18:44.018Z"
   },
   {
    "duration": 30,
    "start_time": "2022-06-11T18:18:44.032Z"
   },
   {
    "duration": 13,
    "start_time": "2022-06-11T18:18:44.063Z"
   },
   {
    "duration": 10,
    "start_time": "2022-06-11T18:18:44.077Z"
   },
   {
    "duration": 10,
    "start_time": "2022-06-11T18:18:44.088Z"
   },
   {
    "duration": 17,
    "start_time": "2022-06-11T18:18:58.243Z"
   },
   {
    "duration": 4,
    "start_time": "2022-06-11T18:19:05.176Z"
   },
   {
    "duration": 414,
    "start_time": "2022-06-11T18:19:05.182Z"
   },
   {
    "duration": 26,
    "start_time": "2022-06-11T18:19:05.598Z"
   },
   {
    "duration": 23,
    "start_time": "2022-06-11T18:19:05.626Z"
   },
   {
    "duration": 23,
    "start_time": "2022-06-11T18:19:05.651Z"
   },
   {
    "duration": 15,
    "start_time": "2022-06-11T18:19:05.676Z"
   },
   {
    "duration": 17,
    "start_time": "2022-06-11T18:19:05.692Z"
   },
   {
    "duration": 206,
    "start_time": "2022-06-11T18:19:05.711Z"
   },
   {
    "duration": 200,
    "start_time": "2022-06-11T18:19:05.919Z"
   },
   {
    "duration": 213,
    "start_time": "2022-06-11T18:19:06.120Z"
   },
   {
    "duration": 3,
    "start_time": "2022-06-11T18:19:06.335Z"
   },
   {
    "duration": 60,
    "start_time": "2022-06-11T18:19:06.339Z"
   },
   {
    "duration": 6,
    "start_time": "2022-06-11T18:19:06.400Z"
   },
   {
    "duration": 203,
    "start_time": "2022-06-11T18:19:06.408Z"
   },
   {
    "duration": 13,
    "start_time": "2022-06-11T18:19:06.612Z"
   },
   {
    "duration": 106,
    "start_time": "2022-06-11T18:19:06.626Z"
   },
   {
    "duration": 20,
    "start_time": "2022-06-11T18:19:06.733Z"
   },
   {
    "duration": 165,
    "start_time": "2022-06-11T18:19:06.755Z"
   },
   {
    "duration": 10,
    "start_time": "2022-06-11T18:19:06.922Z"
   },
   {
    "duration": 25,
    "start_time": "2022-06-11T18:19:06.934Z"
   },
   {
    "duration": 13,
    "start_time": "2022-06-11T18:19:06.961Z"
   },
   {
    "duration": 8,
    "start_time": "2022-06-11T18:19:06.975Z"
   },
   {
    "duration": 171,
    "start_time": "2022-06-11T18:19:06.985Z"
   },
   {
    "duration": 10,
    "start_time": "2022-06-11T18:19:07.157Z"
   },
   {
    "duration": 23,
    "start_time": "2022-06-11T18:19:07.168Z"
   },
   {
    "duration": 9,
    "start_time": "2022-06-11T18:19:07.193Z"
   },
   {
    "duration": 8,
    "start_time": "2022-06-11T18:19:07.204Z"
   },
   {
    "duration": 169,
    "start_time": "2022-06-11T18:19:07.213Z"
   },
   {
    "duration": 9,
    "start_time": "2022-06-11T18:19:07.384Z"
   },
   {
    "duration": 15,
    "start_time": "2022-06-11T18:19:07.395Z"
   },
   {
    "duration": 15,
    "start_time": "2022-06-11T18:19:07.411Z"
   },
   {
    "duration": 26,
    "start_time": "2022-06-11T18:19:07.428Z"
   },
   {
    "duration": 9,
    "start_time": "2022-06-11T18:19:07.456Z"
   },
   {
    "duration": 10,
    "start_time": "2022-06-11T18:19:07.467Z"
   },
   {
    "duration": 3,
    "start_time": "2022-06-11T18:22:40.249Z"
   },
   {
    "duration": 427,
    "start_time": "2022-06-11T18:22:40.254Z"
   },
   {
    "duration": 30,
    "start_time": "2022-06-11T18:22:40.683Z"
   },
   {
    "duration": 26,
    "start_time": "2022-06-11T18:22:40.716Z"
   },
   {
    "duration": 24,
    "start_time": "2022-06-11T18:22:40.744Z"
   },
   {
    "duration": 16,
    "start_time": "2022-06-11T18:22:40.770Z"
   },
   {
    "duration": 18,
    "start_time": "2022-06-11T18:22:40.788Z"
   },
   {
    "duration": 218,
    "start_time": "2022-06-11T18:22:40.808Z"
   },
   {
    "duration": 208,
    "start_time": "2022-06-11T18:22:41.028Z"
   },
   {
    "duration": 221,
    "start_time": "2022-06-11T18:22:41.239Z"
   },
   {
    "duration": 3,
    "start_time": "2022-06-11T18:22:41.461Z"
   },
   {
    "duration": 57,
    "start_time": "2022-06-11T18:22:41.465Z"
   },
   {
    "duration": 5,
    "start_time": "2022-06-11T18:22:41.524Z"
   },
   {
    "duration": 206,
    "start_time": "2022-06-11T18:22:41.530Z"
   },
   {
    "duration": 22,
    "start_time": "2022-06-11T18:22:41.739Z"
   },
   {
    "duration": 105,
    "start_time": "2022-06-11T18:22:41.763Z"
   },
   {
    "duration": 8,
    "start_time": "2022-06-11T18:22:41.871Z"
   },
   {
    "duration": 185,
    "start_time": "2022-06-11T18:22:41.881Z"
   },
   {
    "duration": 11,
    "start_time": "2022-06-11T18:22:42.069Z"
   },
   {
    "duration": 11,
    "start_time": "2022-06-11T18:22:42.082Z"
   },
   {
    "duration": 11,
    "start_time": "2022-06-11T18:22:42.095Z"
   },
   {
    "duration": 11,
    "start_time": "2022-06-11T18:22:42.107Z"
   },
   {
    "duration": 282,
    "start_time": "2022-06-11T18:22:42.120Z"
   },
   {
    "duration": 9,
    "start_time": "2022-06-11T18:22:42.404Z"
   },
   {
    "duration": 13,
    "start_time": "2022-06-11T18:22:42.415Z"
   },
   {
    "duration": 23,
    "start_time": "2022-06-11T18:22:42.430Z"
   },
   {
    "duration": 10,
    "start_time": "2022-06-11T18:22:42.455Z"
   },
   {
    "duration": 215,
    "start_time": "2022-06-11T18:22:42.469Z"
   },
   {
    "duration": 10,
    "start_time": "2022-06-11T18:22:42.686Z"
   },
   {
    "duration": 13,
    "start_time": "2022-06-11T18:22:42.698Z"
   },
   {
    "duration": 10,
    "start_time": "2022-06-11T18:22:42.713Z"
   },
   {
    "duration": 40,
    "start_time": "2022-06-11T18:22:42.725Z"
   },
   {
    "duration": 10,
    "start_time": "2022-06-11T18:22:42.767Z"
   },
   {
    "duration": 12,
    "start_time": "2022-06-11T18:22:42.779Z"
   },
   {
    "duration": 15,
    "start_time": "2022-06-11T18:24:29.924Z"
   },
   {
    "duration": 16,
    "start_time": "2022-06-11T18:24:43.192Z"
   },
   {
    "duration": 14,
    "start_time": "2022-06-11T18:25:16.237Z"
   },
   {
    "duration": 22,
    "start_time": "2022-06-11T18:25:51.682Z"
   },
   {
    "duration": 12,
    "start_time": "2022-06-11T18:26:07.508Z"
   },
   {
    "duration": 3,
    "start_time": "2022-06-11T18:26:16.399Z"
   },
   {
    "duration": 384,
    "start_time": "2022-06-11T18:26:16.405Z"
   },
   {
    "duration": 26,
    "start_time": "2022-06-11T18:26:16.791Z"
   },
   {
    "duration": 22,
    "start_time": "2022-06-11T18:26:16.819Z"
   },
   {
    "duration": 20,
    "start_time": "2022-06-11T18:26:16.843Z"
   },
   {
    "duration": 13,
    "start_time": "2022-06-11T18:26:16.865Z"
   },
   {
    "duration": 15,
    "start_time": "2022-06-11T18:26:16.880Z"
   },
   {
    "duration": 189,
    "start_time": "2022-06-11T18:26:16.896Z"
   },
   {
    "duration": 201,
    "start_time": "2022-06-11T18:26:17.087Z"
   },
   {
    "duration": 216,
    "start_time": "2022-06-11T18:26:17.290Z"
   },
   {
    "duration": 2,
    "start_time": "2022-06-11T18:26:17.508Z"
   },
   {
    "duration": 58,
    "start_time": "2022-06-11T18:26:17.511Z"
   },
   {
    "duration": 5,
    "start_time": "2022-06-11T18:26:17.571Z"
   },
   {
    "duration": 204,
    "start_time": "2022-06-11T18:26:17.578Z"
   },
   {
    "duration": 10,
    "start_time": "2022-06-11T18:26:17.785Z"
   },
   {
    "duration": 20,
    "start_time": "2022-06-11T18:26:17.797Z"
   },
   {
    "duration": 114,
    "start_time": "2022-06-11T18:26:17.819Z"
   },
   {
    "duration": 19,
    "start_time": "2022-06-11T18:26:17.934Z"
   },
   {
    "duration": 169,
    "start_time": "2022-06-11T18:26:17.954Z"
   },
   {
    "duration": 11,
    "start_time": "2022-06-11T18:26:18.125Z"
   },
   {
    "duration": 21,
    "start_time": "2022-06-11T18:26:18.138Z"
   },
   {
    "duration": 11,
    "start_time": "2022-06-11T18:26:18.161Z"
   },
   {
    "duration": 8,
    "start_time": "2022-06-11T18:26:18.173Z"
   },
   {
    "duration": 172,
    "start_time": "2022-06-11T18:26:18.183Z"
   },
   {
    "duration": 9,
    "start_time": "2022-06-11T18:26:18.356Z"
   },
   {
    "duration": 16,
    "start_time": "2022-06-11T18:26:18.366Z"
   },
   {
    "duration": 11,
    "start_time": "2022-06-11T18:26:18.383Z"
   },
   {
    "duration": 9,
    "start_time": "2022-06-11T18:26:18.396Z"
   },
   {
    "duration": 179,
    "start_time": "2022-06-11T18:26:18.407Z"
   },
   {
    "duration": 11,
    "start_time": "2022-06-11T18:26:18.587Z"
   },
   {
    "duration": 15,
    "start_time": "2022-06-11T18:26:18.599Z"
   },
   {
    "duration": 12,
    "start_time": "2022-06-11T18:26:18.616Z"
   },
   {
    "duration": 13,
    "start_time": "2022-06-11T18:26:18.651Z"
   },
   {
    "duration": 9,
    "start_time": "2022-06-11T18:26:18.666Z"
   },
   {
    "duration": 9,
    "start_time": "2022-06-11T18:26:18.676Z"
   },
   {
    "duration": 33,
    "start_time": "2022-06-11T18:26:50.212Z"
   },
   {
    "duration": 17,
    "start_time": "2022-06-11T18:28:26.932Z"
   },
   {
    "duration": 9,
    "start_time": "2022-06-11T19:09:52.296Z"
   },
   {
    "duration": 15,
    "start_time": "2022-06-11T19:09:59.365Z"
   },
   {
    "duration": 12,
    "start_time": "2022-06-11T19:10:45.664Z"
   },
   {
    "duration": 4,
    "start_time": "2022-06-11T19:14:06.453Z"
   },
   {
    "duration": 10,
    "start_time": "2022-06-11T19:20:24.729Z"
   },
   {
    "duration": 9,
    "start_time": "2022-06-11T19:21:58.814Z"
   },
   {
    "duration": 10,
    "start_time": "2022-06-11T19:22:07.792Z"
   },
   {
    "duration": 10,
    "start_time": "2022-06-11T19:23:20.479Z"
   },
   {
    "duration": 2,
    "start_time": "2022-06-11T19:24:06.347Z"
   },
   {
    "duration": 10,
    "start_time": "2022-06-11T19:26:05.420Z"
   },
   {
    "duration": 11,
    "start_time": "2022-06-11T19:26:09.205Z"
   },
   {
    "duration": 10,
    "start_time": "2022-06-11T19:26:38.076Z"
   },
   {
    "duration": 10,
    "start_time": "2022-06-11T19:27:32.749Z"
   },
   {
    "duration": 3,
    "start_time": "2022-06-11T19:34:36.223Z"
   },
   {
    "duration": 42,
    "start_time": "2022-06-11T19:35:22.340Z"
   },
   {
    "duration": 53,
    "start_time": "2022-06-11T19:35:32.439Z"
   },
   {
    "duration": 4,
    "start_time": "2022-06-11T19:35:38.099Z"
   },
   {
    "duration": 415,
    "start_time": "2022-06-11T19:35:38.880Z"
   },
   {
    "duration": 27,
    "start_time": "2022-06-11T19:35:39.483Z"
   },
   {
    "duration": 33,
    "start_time": "2022-06-11T19:35:41.044Z"
   },
   {
    "duration": 21,
    "start_time": "2022-06-11T19:35:42.288Z"
   },
   {
    "duration": 16,
    "start_time": "2022-06-11T19:35:43.498Z"
   },
   {
    "duration": 17,
    "start_time": "2022-06-11T19:35:45.640Z"
   },
   {
    "duration": 45,
    "start_time": "2022-06-11T19:35:48.942Z"
   },
   {
    "duration": 61,
    "start_time": "2022-06-11T19:36:08.224Z"
   },
   {
    "duration": 51,
    "start_time": "2022-06-11T19:37:32.587Z"
   },
   {
    "duration": 4,
    "start_time": "2022-06-11T19:38:25.314Z"
   },
   {
    "duration": 233,
    "start_time": "2022-06-11T19:38:58.080Z"
   },
   {
    "duration": 233,
    "start_time": "2022-06-11T19:39:07.300Z"
   },
   {
    "duration": 60,
    "start_time": "2022-06-11T19:40:58.205Z"
   },
   {
    "duration": 4,
    "start_time": "2022-06-11T19:41:42.241Z"
   },
   {
    "duration": 460,
    "start_time": "2022-06-11T19:41:42.246Z"
   },
   {
    "duration": 28,
    "start_time": "2022-06-11T19:41:42.708Z"
   },
   {
    "duration": 29,
    "start_time": "2022-06-11T19:41:42.738Z"
   },
   {
    "duration": 30,
    "start_time": "2022-06-11T19:41:42.770Z"
   },
   {
    "duration": 18,
    "start_time": "2022-06-11T19:41:42.802Z"
   },
   {
    "duration": 40,
    "start_time": "2022-06-11T19:41:42.822Z"
   },
   {
    "duration": 193,
    "start_time": "2022-06-11T19:41:42.864Z"
   },
   {
    "duration": 126,
    "start_time": "2022-06-11T19:41:43.059Z"
   },
   {
    "duration": 177,
    "start_time": "2022-06-11T19:41:43.186Z"
   },
   {
    "duration": 3,
    "start_time": "2022-06-11T19:41:43.367Z"
   },
   {
    "duration": 72,
    "start_time": "2022-06-11T19:41:43.371Z"
   },
   {
    "duration": 5,
    "start_time": "2022-06-11T19:41:43.445Z"
   },
   {
    "duration": 281,
    "start_time": "2022-06-11T19:41:43.455Z"
   },
   {
    "duration": 16,
    "start_time": "2022-06-11T19:41:43.737Z"
   },
   {
    "duration": 35,
    "start_time": "2022-06-11T19:41:43.755Z"
   },
   {
    "duration": 109,
    "start_time": "2022-06-11T19:41:43.792Z"
   },
   {
    "duration": 9,
    "start_time": "2022-06-11T19:41:43.903Z"
   },
   {
    "duration": 201,
    "start_time": "2022-06-11T19:41:43.913Z"
   },
   {
    "duration": 11,
    "start_time": "2022-06-11T19:41:44.116Z"
   },
   {
    "duration": 30,
    "start_time": "2022-06-11T19:41:44.128Z"
   },
   {
    "duration": 22,
    "start_time": "2022-06-11T19:41:44.162Z"
   },
   {
    "duration": 11,
    "start_time": "2022-06-11T19:41:44.186Z"
   },
   {
    "duration": 182,
    "start_time": "2022-06-11T19:41:44.199Z"
   },
   {
    "duration": 9,
    "start_time": "2022-06-11T19:41:44.383Z"
   },
   {
    "duration": 14,
    "start_time": "2022-06-11T19:41:44.393Z"
   },
   {
    "duration": 11,
    "start_time": "2022-06-11T19:41:44.408Z"
   },
   {
    "duration": 8,
    "start_time": "2022-06-11T19:41:44.421Z"
   },
   {
    "duration": 201,
    "start_time": "2022-06-11T19:41:44.431Z"
   },
   {
    "duration": 20,
    "start_time": "2022-06-11T19:41:44.633Z"
   },
   {
    "duration": 13,
    "start_time": "2022-06-11T19:41:44.656Z"
   },
   {
    "duration": 13,
    "start_time": "2022-06-11T19:41:44.670Z"
   },
   {
    "duration": 15,
    "start_time": "2022-06-11T19:41:44.685Z"
   },
   {
    "duration": 8,
    "start_time": "2022-06-11T19:41:44.702Z"
   },
   {
    "duration": 40,
    "start_time": "2022-06-11T19:41:44.712Z"
   },
   {
    "duration": 16,
    "start_time": "2022-06-11T19:41:44.755Z"
   },
   {
    "duration": 28,
    "start_time": "2022-06-11T19:42:16.722Z"
   },
   {
    "duration": 4,
    "start_time": "2022-06-11T19:42:31.892Z"
   },
   {
    "duration": 393,
    "start_time": "2022-06-11T19:42:31.897Z"
   },
   {
    "duration": 24,
    "start_time": "2022-06-11T19:42:32.292Z"
   },
   {
    "duration": 22,
    "start_time": "2022-06-11T19:42:32.318Z"
   },
   {
    "duration": 21,
    "start_time": "2022-06-11T19:42:32.342Z"
   },
   {
    "duration": 16,
    "start_time": "2022-06-11T19:42:32.365Z"
   },
   {
    "duration": 15,
    "start_time": "2022-06-11T19:42:32.382Z"
   },
   {
    "duration": 172,
    "start_time": "2022-06-11T19:42:32.399Z"
   },
   {
    "duration": 128,
    "start_time": "2022-06-11T19:42:32.576Z"
   },
   {
    "duration": 149,
    "start_time": "2022-06-11T19:42:32.707Z"
   },
   {
    "duration": 3,
    "start_time": "2022-06-11T19:42:32.857Z"
   },
   {
    "duration": 55,
    "start_time": "2022-06-11T19:42:32.861Z"
   },
   {
    "duration": 5,
    "start_time": "2022-06-11T19:42:32.918Z"
   },
   {
    "duration": 230,
    "start_time": "2022-06-11T19:42:32.924Z"
   },
   {
    "duration": 14,
    "start_time": "2022-06-11T19:42:33.156Z"
   },
   {
    "duration": 15,
    "start_time": "2022-06-11T19:42:33.172Z"
   },
   {
    "duration": 125,
    "start_time": "2022-06-11T19:42:33.188Z"
   },
   {
    "duration": 7,
    "start_time": "2022-06-11T19:42:33.315Z"
   },
   {
    "duration": 181,
    "start_time": "2022-06-11T19:42:33.324Z"
   },
   {
    "duration": 10,
    "start_time": "2022-06-11T19:42:33.507Z"
   },
   {
    "duration": 8,
    "start_time": "2022-06-11T19:42:33.519Z"
   },
   {
    "duration": 32,
    "start_time": "2022-06-11T19:42:33.529Z"
   },
   {
    "duration": 18,
    "start_time": "2022-06-11T19:42:33.563Z"
   },
   {
    "duration": 165,
    "start_time": "2022-06-11T19:42:33.583Z"
   },
   {
    "duration": 10,
    "start_time": "2022-06-11T19:42:33.751Z"
   },
   {
    "duration": 23,
    "start_time": "2022-06-11T19:42:33.763Z"
   },
   {
    "duration": 9,
    "start_time": "2022-06-11T19:42:33.787Z"
   },
   {
    "duration": 8,
    "start_time": "2022-06-11T19:42:33.799Z"
   },
   {
    "duration": 184,
    "start_time": "2022-06-11T19:42:33.808Z"
   },
   {
    "duration": 9,
    "start_time": "2022-06-11T19:42:33.993Z"
   },
   {
    "duration": 9,
    "start_time": "2022-06-11T19:42:34.004Z"
   },
   {
    "duration": 9,
    "start_time": "2022-06-11T19:42:34.014Z"
   },
   {
    "duration": 37,
    "start_time": "2022-06-11T19:42:34.024Z"
   },
   {
    "duration": 19,
    "start_time": "2022-06-11T19:42:34.063Z"
   },
   {
    "duration": 17,
    "start_time": "2022-06-11T19:42:34.084Z"
   },
   {
    "duration": 10,
    "start_time": "2022-06-11T19:42:34.102Z"
   },
   {
    "duration": 38,
    "start_time": "2022-06-11T19:43:05.383Z"
   },
   {
    "duration": 3,
    "start_time": "2022-06-11T19:43:09.929Z"
   },
   {
    "duration": 424,
    "start_time": "2022-06-11T19:43:09.934Z"
   },
   {
    "duration": 35,
    "start_time": "2022-06-11T19:43:10.360Z"
   },
   {
    "duration": 26,
    "start_time": "2022-06-11T19:43:10.397Z"
   },
   {
    "duration": 42,
    "start_time": "2022-06-11T19:43:10.425Z"
   },
   {
    "duration": 13,
    "start_time": "2022-06-11T19:43:10.468Z"
   },
   {
    "duration": 134,
    "start_time": "2022-06-11T19:43:10.484Z"
   },
   {
    "duration": 168,
    "start_time": "2022-06-11T19:43:10.620Z"
   },
   {
    "duration": 151,
    "start_time": "2022-06-11T19:43:10.790Z"
   },
   {
    "duration": 157,
    "start_time": "2022-06-11T19:43:10.943Z"
   },
   {
    "duration": 3,
    "start_time": "2022-06-11T19:43:11.102Z"
   },
   {
    "duration": 62,
    "start_time": "2022-06-11T19:43:11.107Z"
   },
   {
    "duration": 7,
    "start_time": "2022-06-11T19:43:11.172Z"
   },
   {
    "duration": 231,
    "start_time": "2022-06-11T19:43:11.182Z"
   },
   {
    "duration": 11,
    "start_time": "2022-06-11T19:43:11.415Z"
   },
   {
    "duration": 26,
    "start_time": "2022-06-11T19:43:11.428Z"
   },
   {
    "duration": 111,
    "start_time": "2022-06-11T19:43:11.456Z"
   },
   {
    "duration": 9,
    "start_time": "2022-06-11T19:43:11.568Z"
   },
   {
    "duration": 202,
    "start_time": "2022-06-11T19:43:11.578Z"
   },
   {
    "duration": 10,
    "start_time": "2022-06-11T19:43:11.781Z"
   },
   {
    "duration": 9,
    "start_time": "2022-06-11T19:43:11.793Z"
   },
   {
    "duration": 14,
    "start_time": "2022-06-11T19:43:11.804Z"
   },
   {
    "duration": 13,
    "start_time": "2022-06-11T19:43:11.819Z"
   },
   {
    "duration": 176,
    "start_time": "2022-06-11T19:43:11.852Z"
   },
   {
    "duration": 11,
    "start_time": "2022-06-11T19:43:12.029Z"
   },
   {
    "duration": 19,
    "start_time": "2022-06-11T19:43:12.055Z"
   },
   {
    "duration": 31,
    "start_time": "2022-06-11T19:43:12.076Z"
   },
   {
    "duration": 25,
    "start_time": "2022-06-11T19:43:12.109Z"
   },
   {
    "duration": 200,
    "start_time": "2022-06-11T19:43:12.136Z"
   },
   {
    "duration": 10,
    "start_time": "2022-06-11T19:43:12.338Z"
   },
   {
    "duration": 26,
    "start_time": "2022-06-11T19:43:12.352Z"
   },
   {
    "duration": 24,
    "start_time": "2022-06-11T19:43:12.380Z"
   },
   {
    "duration": 17,
    "start_time": "2022-06-11T19:43:12.405Z"
   },
   {
    "duration": 10,
    "start_time": "2022-06-11T19:43:12.424Z"
   },
   {
    "duration": 11,
    "start_time": "2022-06-11T19:43:12.436Z"
   },
   {
    "duration": 21,
    "start_time": "2022-06-11T19:43:12.452Z"
   },
   {
    "duration": 22,
    "start_time": "2022-06-11T19:43:26.650Z"
   },
   {
    "duration": 16,
    "start_time": "2022-06-11T19:43:31.864Z"
   },
   {
    "duration": 934,
    "start_time": "2022-06-11T19:43:37.406Z"
   },
   {
    "duration": 493,
    "start_time": "2022-06-11T19:43:38.342Z"
   },
   {
    "duration": 36,
    "start_time": "2022-06-11T19:43:38.836Z"
   },
   {
    "duration": 23,
    "start_time": "2022-06-11T19:43:38.874Z"
   },
   {
    "duration": 20,
    "start_time": "2022-06-11T19:43:38.899Z"
   },
   {
    "duration": 32,
    "start_time": "2022-06-11T19:43:38.920Z"
   },
   {
    "duration": 19,
    "start_time": "2022-06-11T19:43:38.953Z"
   },
   {
    "duration": 243,
    "start_time": "2022-06-11T19:43:38.973Z"
   },
   {
    "duration": 222,
    "start_time": "2022-06-11T19:43:39.217Z"
   },
   {
    "duration": 241,
    "start_time": "2022-06-11T19:43:39.441Z"
   },
   {
    "duration": 2,
    "start_time": "2022-06-11T19:43:39.684Z"
   },
   {
    "duration": 65,
    "start_time": "2022-06-11T19:43:39.688Z"
   },
   {
    "duration": 5,
    "start_time": "2022-06-11T19:43:39.755Z"
   },
   {
    "duration": 240,
    "start_time": "2022-06-11T19:43:39.763Z"
   },
   {
    "duration": 13,
    "start_time": "2022-06-11T19:43:40.005Z"
   },
   {
    "duration": 16,
    "start_time": "2022-06-11T19:43:40.019Z"
   },
   {
    "duration": 126,
    "start_time": "2022-06-11T19:43:40.053Z"
   },
   {
    "duration": 9,
    "start_time": "2022-06-11T19:43:40.182Z"
   },
   {
    "duration": 208,
    "start_time": "2022-06-11T19:43:40.193Z"
   },
   {
    "duration": 11,
    "start_time": "2022-06-11T19:43:40.403Z"
   },
   {
    "duration": 12,
    "start_time": "2022-06-11T19:43:40.416Z"
   },
   {
    "duration": 30,
    "start_time": "2022-06-11T19:43:40.429Z"
   },
   {
    "duration": 10,
    "start_time": "2022-06-11T19:43:40.464Z"
   },
   {
    "duration": 194,
    "start_time": "2022-06-11T19:43:40.475Z"
   },
   {
    "duration": 10,
    "start_time": "2022-06-11T19:43:40.670Z"
   },
   {
    "duration": 23,
    "start_time": "2022-06-11T19:43:40.682Z"
   },
   {
    "duration": 13,
    "start_time": "2022-06-11T19:43:40.706Z"
   },
   {
    "duration": 13,
    "start_time": "2022-06-11T19:43:40.721Z"
   },
   {
    "duration": 193,
    "start_time": "2022-06-11T19:43:40.735Z"
   },
   {
    "duration": 11,
    "start_time": "2022-06-11T19:43:40.929Z"
   },
   {
    "duration": 12,
    "start_time": "2022-06-11T19:43:40.952Z"
   },
   {
    "duration": 23,
    "start_time": "2022-06-11T19:43:40.965Z"
   },
   {
    "duration": 17,
    "start_time": "2022-06-11T19:43:40.990Z"
   },
   {
    "duration": 10,
    "start_time": "2022-06-11T19:43:41.008Z"
   },
   {
    "duration": 37,
    "start_time": "2022-06-11T19:43:41.020Z"
   },
   {
    "duration": 12,
    "start_time": "2022-06-11T19:43:41.059Z"
   },
   {
    "duration": 466,
    "start_time": "2022-06-11T19:49:27.419Z"
   },
   {
    "duration": 4,
    "start_time": "2022-06-11T19:49:33.541Z"
   },
   {
    "duration": 423,
    "start_time": "2022-06-11T19:49:33.547Z"
   },
   {
    "duration": 27,
    "start_time": "2022-06-11T19:49:33.972Z"
   },
   {
    "duration": 24,
    "start_time": "2022-06-11T19:49:34.000Z"
   },
   {
    "duration": 26,
    "start_time": "2022-06-11T19:49:34.026Z"
   },
   {
    "duration": 16,
    "start_time": "2022-06-11T19:49:34.054Z"
   },
   {
    "duration": 19,
    "start_time": "2022-06-11T19:49:34.071Z"
   },
   {
    "duration": 201,
    "start_time": "2022-06-11T19:49:34.092Z"
   },
   {
    "duration": 209,
    "start_time": "2022-06-11T19:49:34.294Z"
   },
   {
    "duration": 224,
    "start_time": "2022-06-11T19:49:34.505Z"
   },
   {
    "duration": 57,
    "start_time": "2022-06-11T19:49:34.731Z"
   },
   {
    "duration": 5,
    "start_time": "2022-06-11T19:49:34.789Z"
   },
   {
    "duration": 204,
    "start_time": "2022-06-11T19:49:34.795Z"
   },
   {
    "duration": 11,
    "start_time": "2022-06-11T19:49:35.002Z"
   },
   {
    "duration": 13,
    "start_time": "2022-06-11T19:49:35.015Z"
   },
   {
    "duration": 129,
    "start_time": "2022-06-11T19:49:35.029Z"
   },
   {
    "duration": 9,
    "start_time": "2022-06-11T19:49:35.160Z"
   },
   {
    "duration": 212,
    "start_time": "2022-06-11T19:49:35.171Z"
   },
   {
    "duration": 10,
    "start_time": "2022-06-11T19:49:35.385Z"
   },
   {
    "duration": 11,
    "start_time": "2022-06-11T19:49:35.396Z"
   },
   {
    "duration": 9,
    "start_time": "2022-06-11T19:49:35.408Z"
   },
   {
    "duration": 8,
    "start_time": "2022-06-11T19:49:35.419Z"
   },
   {
    "duration": 162,
    "start_time": "2022-06-11T19:49:35.453Z"
   },
   {
    "duration": 9,
    "start_time": "2022-06-11T19:49:35.617Z"
   },
   {
    "duration": 10,
    "start_time": "2022-06-11T19:49:35.628Z"
   },
   {
    "duration": 11,
    "start_time": "2022-06-11T19:49:35.652Z"
   },
   {
    "duration": 17,
    "start_time": "2022-06-11T19:49:35.665Z"
   },
   {
    "duration": 157,
    "start_time": "2022-06-11T19:49:35.683Z"
   },
   {
    "duration": 16,
    "start_time": "2022-06-11T19:49:35.842Z"
   },
   {
    "duration": 24,
    "start_time": "2022-06-11T19:49:35.859Z"
   },
   {
    "duration": 10,
    "start_time": "2022-06-11T19:49:35.884Z"
   },
   {
    "duration": 12,
    "start_time": "2022-06-11T19:49:35.895Z"
   },
   {
    "duration": 12,
    "start_time": "2022-06-11T19:49:35.909Z"
   },
   {
    "duration": 8,
    "start_time": "2022-06-11T19:49:35.924Z"
   },
   {
    "duration": 26,
    "start_time": "2022-06-11T19:49:35.934Z"
   },
   {
    "duration": 415,
    "start_time": "2022-06-11T19:51:14.837Z"
   },
   {
    "duration": 27,
    "start_time": "2022-06-11T19:51:58.618Z"
   },
   {
    "duration": 3,
    "start_time": "2022-06-11T19:54:56.706Z"
   },
   {
    "duration": 423,
    "start_time": "2022-06-11T19:54:57.081Z"
   },
   {
    "duration": 28,
    "start_time": "2022-06-11T19:54:57.506Z"
   },
   {
    "duration": 25,
    "start_time": "2022-06-11T19:54:58.127Z"
   },
   {
    "duration": 20,
    "start_time": "2022-06-11T19:54:58.854Z"
   },
   {
    "duration": 16,
    "start_time": "2022-06-11T19:54:59.689Z"
   },
   {
    "duration": 18,
    "start_time": "2022-06-11T19:55:00.553Z"
   },
   {
    "duration": 187,
    "start_time": "2022-06-11T19:55:02.373Z"
   },
   {
    "duration": 197,
    "start_time": "2022-06-11T19:55:02.780Z"
   },
   {
    "duration": 209,
    "start_time": "2022-06-11T19:55:05.971Z"
   },
   {
    "duration": 51,
    "start_time": "2022-06-11T19:55:09.059Z"
   },
   {
    "duration": 5,
    "start_time": "2022-06-11T19:55:12.024Z"
   },
   {
    "duration": 188,
    "start_time": "2022-06-11T19:55:13.228Z"
   },
   {
    "duration": 12,
    "start_time": "2022-06-11T19:55:15.570Z"
   },
   {
    "duration": 10,
    "start_time": "2022-06-11T19:55:19.455Z"
   },
   {
    "duration": 4,
    "start_time": "2022-06-11T19:56:14.097Z"
   },
   {
    "duration": 408,
    "start_time": "2022-06-11T19:56:14.103Z"
   },
   {
    "duration": 27,
    "start_time": "2022-06-11T19:56:14.512Z"
   },
   {
    "duration": 23,
    "start_time": "2022-06-11T19:56:14.541Z"
   },
   {
    "duration": 19,
    "start_time": "2022-06-11T19:56:14.567Z"
   },
   {
    "duration": 14,
    "start_time": "2022-06-11T19:56:14.587Z"
   },
   {
    "duration": 22,
    "start_time": "2022-06-11T19:56:14.603Z"
   },
   {
    "duration": 195,
    "start_time": "2022-06-11T19:56:14.626Z"
   },
   {
    "duration": 210,
    "start_time": "2022-06-11T19:56:14.823Z"
   },
   {
    "duration": 226,
    "start_time": "2022-06-11T19:56:15.035Z"
   },
   {
    "duration": 50,
    "start_time": "2022-06-11T19:56:15.263Z"
   },
   {
    "duration": 5,
    "start_time": "2022-06-11T19:56:15.315Z"
   },
   {
    "duration": 91,
    "start_time": "2022-06-11T19:56:15.321Z"
   },
   {
    "duration": 44,
    "start_time": "2022-06-11T19:56:15.416Z"
   },
   {
    "duration": 0,
    "start_time": "2022-06-11T19:56:15.463Z"
   },
   {
    "duration": 0,
    "start_time": "2022-06-11T19:56:15.464Z"
   },
   {
    "duration": 0,
    "start_time": "2022-06-11T19:56:15.466Z"
   },
   {
    "duration": 0,
    "start_time": "2022-06-11T19:56:15.467Z"
   },
   {
    "duration": 0,
    "start_time": "2022-06-11T19:56:15.469Z"
   },
   {
    "duration": 0,
    "start_time": "2022-06-11T19:56:15.470Z"
   },
   {
    "duration": 0,
    "start_time": "2022-06-11T19:56:15.471Z"
   },
   {
    "duration": 0,
    "start_time": "2022-06-11T19:56:15.473Z"
   },
   {
    "duration": 0,
    "start_time": "2022-06-11T19:56:15.474Z"
   },
   {
    "duration": 0,
    "start_time": "2022-06-11T19:56:15.475Z"
   },
   {
    "duration": 0,
    "start_time": "2022-06-11T19:56:15.476Z"
   },
   {
    "duration": 0,
    "start_time": "2022-06-11T19:56:15.478Z"
   },
   {
    "duration": 0,
    "start_time": "2022-06-11T19:56:15.479Z"
   },
   {
    "duration": 0,
    "start_time": "2022-06-11T19:56:15.480Z"
   },
   {
    "duration": 0,
    "start_time": "2022-06-11T19:56:15.481Z"
   },
   {
    "duration": 0,
    "start_time": "2022-06-11T19:56:15.482Z"
   },
   {
    "duration": 0,
    "start_time": "2022-06-11T19:56:15.483Z"
   },
   {
    "duration": 0,
    "start_time": "2022-06-11T19:56:15.485Z"
   },
   {
    "duration": 0,
    "start_time": "2022-06-11T19:56:15.487Z"
   },
   {
    "duration": 0,
    "start_time": "2022-06-11T19:56:15.488Z"
   },
   {
    "duration": 0,
    "start_time": "2022-06-11T19:56:15.490Z"
   },
   {
    "duration": 0,
    "start_time": "2022-06-11T19:56:15.492Z"
   },
   {
    "duration": 0,
    "start_time": "2022-06-11T19:56:15.494Z"
   },
   {
    "duration": 73,
    "start_time": "2022-06-11T19:56:35.716Z"
   },
   {
    "duration": 57,
    "start_time": "2022-06-11T19:56:41.327Z"
   },
   {
    "duration": 63,
    "start_time": "2022-06-11T19:57:02.246Z"
   },
   {
    "duration": 26,
    "start_time": "2022-06-11T19:58:11.888Z"
   },
   {
    "duration": 26,
    "start_time": "2022-06-11T19:58:20.243Z"
   },
   {
    "duration": 9,
    "start_time": "2022-06-11T19:58:51.206Z"
   },
   {
    "duration": 11,
    "start_time": "2022-06-11T19:59:14.994Z"
   },
   {
    "duration": 36,
    "start_time": "2022-06-11T19:59:25.828Z"
   },
   {
    "duration": 33,
    "start_time": "2022-06-11T19:59:35.864Z"
   },
   {
    "duration": 42,
    "start_time": "2022-06-11T20:00:37.407Z"
   },
   {
    "duration": 54,
    "start_time": "2022-06-11T20:01:11.500Z"
   },
   {
    "duration": 40,
    "start_time": "2022-06-11T20:01:58.465Z"
   },
   {
    "duration": 32,
    "start_time": "2022-06-11T20:02:06.633Z"
   },
   {
    "duration": 35,
    "start_time": "2022-06-11T20:02:07.609Z"
   },
   {
    "duration": 46,
    "start_time": "2022-06-11T20:02:08.550Z"
   },
   {
    "duration": 40,
    "start_time": "2022-06-11T20:02:23.890Z"
   },
   {
    "duration": 24,
    "start_time": "2022-06-11T20:02:27.464Z"
   },
   {
    "duration": 67,
    "start_time": "2022-06-11T20:02:34.035Z"
   },
   {
    "duration": 24,
    "start_time": "2022-06-11T20:02:36.555Z"
   },
   {
    "duration": 34,
    "start_time": "2022-06-11T20:02:37.333Z"
   },
   {
    "duration": 43,
    "start_time": "2022-06-11T20:02:37.925Z"
   },
   {
    "duration": 938,
    "start_time": "2022-06-11T20:03:33.206Z"
   },
   {
    "duration": 469,
    "start_time": "2022-06-11T20:03:34.146Z"
   },
   {
    "duration": 31,
    "start_time": "2022-06-11T20:03:34.616Z"
   },
   {
    "duration": 29,
    "start_time": "2022-06-11T20:03:34.648Z"
   },
   {
    "duration": 19,
    "start_time": "2022-06-11T20:03:34.679Z"
   },
   {
    "duration": 17,
    "start_time": "2022-06-11T20:03:34.700Z"
   },
   {
    "duration": 43,
    "start_time": "2022-06-11T20:03:34.718Z"
   },
   {
    "duration": 238,
    "start_time": "2022-06-11T20:03:34.763Z"
   },
   {
    "duration": 233,
    "start_time": "2022-06-11T20:03:35.003Z"
   },
   {
    "duration": 246,
    "start_time": "2022-06-11T20:03:35.238Z"
   },
   {
    "duration": 50,
    "start_time": "2022-06-11T20:03:35.486Z"
   },
   {
    "duration": 5,
    "start_time": "2022-06-11T20:03:35.537Z"
   },
   {
    "duration": 216,
    "start_time": "2022-06-11T20:03:35.551Z"
   },
   {
    "duration": 11,
    "start_time": "2022-06-11T20:03:35.770Z"
   },
   {
    "duration": 28,
    "start_time": "2022-06-11T20:03:35.783Z"
   },
   {
    "duration": 100,
    "start_time": "2022-06-11T20:03:35.813Z"
   },
   {
    "duration": 8,
    "start_time": "2022-06-11T20:03:35.915Z"
   },
   {
    "duration": 203,
    "start_time": "2022-06-11T20:03:35.925Z"
   },
   {
    "duration": 11,
    "start_time": "2022-06-11T20:03:36.130Z"
   },
   {
    "duration": 20,
    "start_time": "2022-06-11T20:03:36.143Z"
   },
   {
    "duration": 15,
    "start_time": "2022-06-11T20:03:36.164Z"
   },
   {
    "duration": 9,
    "start_time": "2022-06-11T20:03:36.180Z"
   },
   {
    "duration": 167,
    "start_time": "2022-06-11T20:03:36.190Z"
   },
   {
    "duration": 11,
    "start_time": "2022-06-11T20:03:36.359Z"
   },
   {
    "duration": 12,
    "start_time": "2022-06-11T20:03:36.371Z"
   },
   {
    "duration": 8,
    "start_time": "2022-06-11T20:03:36.385Z"
   },
   {
    "duration": 8,
    "start_time": "2022-06-11T20:03:36.395Z"
   },
   {
    "duration": 192,
    "start_time": "2022-06-11T20:03:36.404Z"
   },
   {
    "duration": 10,
    "start_time": "2022-06-11T20:03:36.598Z"
   },
   {
    "duration": 12,
    "start_time": "2022-06-11T20:03:36.610Z"
   },
   {
    "duration": 12,
    "start_time": "2022-06-11T20:03:36.624Z"
   },
   {
    "duration": 31,
    "start_time": "2022-06-11T20:03:36.637Z"
   },
   {
    "duration": 26,
    "start_time": "2022-06-11T20:03:36.669Z"
   },
   {
    "duration": 13,
    "start_time": "2022-06-11T20:03:36.696Z"
   },
   {
    "duration": 14,
    "start_time": "2022-06-11T20:03:36.710Z"
   },
   {
    "duration": 3621,
    "start_time": "2022-06-12T17:44:59.376Z"
   },
   {
    "duration": 1268,
    "start_time": "2022-06-12T17:45:03.000Z"
   },
   {
    "duration": 40,
    "start_time": "2022-06-12T17:45:04.270Z"
   },
   {
    "duration": 28,
    "start_time": "2022-06-12T17:45:04.311Z"
   },
   {
    "duration": 30,
    "start_time": "2022-06-12T17:45:04.341Z"
   },
   {
    "duration": 16,
    "start_time": "2022-06-12T17:45:04.373Z"
   },
   {
    "duration": 17,
    "start_time": "2022-06-12T17:45:04.391Z"
   },
   {
    "duration": 260,
    "start_time": "2022-06-12T17:45:04.410Z"
   },
   {
    "duration": 243,
    "start_time": "2022-06-12T17:45:04.672Z"
   },
   {
    "duration": 249,
    "start_time": "2022-06-12T17:45:04.917Z"
   },
   {
    "duration": 55,
    "start_time": "2022-06-12T17:45:05.167Z"
   },
   {
    "duration": 5,
    "start_time": "2022-06-12T17:45:05.224Z"
   },
   {
    "duration": 233,
    "start_time": "2022-06-12T17:45:05.231Z"
   },
   {
    "duration": 13,
    "start_time": "2022-06-12T17:45:05.467Z"
   },
   {
    "duration": 18,
    "start_time": "2022-06-12T17:45:05.481Z"
   },
   {
    "duration": 121,
    "start_time": "2022-06-12T17:45:05.501Z"
   },
   {
    "duration": 8,
    "start_time": "2022-06-12T17:45:05.623Z"
   },
   {
    "duration": 215,
    "start_time": "2022-06-12T17:45:05.633Z"
   },
   {
    "duration": 10,
    "start_time": "2022-06-12T17:45:05.850Z"
   },
   {
    "duration": 10,
    "start_time": "2022-06-12T17:45:05.862Z"
   },
   {
    "duration": 12,
    "start_time": "2022-06-12T17:45:05.874Z"
   },
   {
    "duration": 9,
    "start_time": "2022-06-12T17:45:05.887Z"
   },
   {
    "duration": 195,
    "start_time": "2022-06-12T17:45:05.897Z"
   },
   {
    "duration": 9,
    "start_time": "2022-06-12T17:45:06.094Z"
   },
   {
    "duration": 13,
    "start_time": "2022-06-12T17:45:06.105Z"
   },
   {
    "duration": 12,
    "start_time": "2022-06-12T17:45:06.120Z"
   },
   {
    "duration": 26,
    "start_time": "2022-06-12T17:45:06.134Z"
   },
   {
    "duration": 204,
    "start_time": "2022-06-12T17:45:06.161Z"
   },
   {
    "duration": 10,
    "start_time": "2022-06-12T17:45:06.367Z"
   },
   {
    "duration": 11,
    "start_time": "2022-06-12T17:45:06.378Z"
   },
   {
    "duration": 27,
    "start_time": "2022-06-12T17:45:06.391Z"
   },
   {
    "duration": 19,
    "start_time": "2022-06-12T17:45:06.420Z"
   },
   {
    "duration": 27,
    "start_time": "2022-06-12T17:45:06.441Z"
   },
   {
    "duration": 10,
    "start_time": "2022-06-12T17:45:06.470Z"
   },
   {
    "duration": 11,
    "start_time": "2022-06-12T17:45:06.482Z"
   },
   {
    "duration": 22,
    "start_time": "2022-06-12T17:45:49.394Z"
   },
   {
    "duration": 43,
    "start_time": "2022-07-10T19:54:04.674Z"
   },
   {
    "duration": 1153,
    "start_time": "2022-07-10T19:54:07.779Z"
   },
   {
    "duration": 753,
    "start_time": "2022-07-10T19:54:08.934Z"
   },
   {
    "duration": 29,
    "start_time": "2022-07-10T19:54:09.688Z"
   },
   {
    "duration": 21,
    "start_time": "2022-07-10T19:54:09.718Z"
   },
   {
    "duration": 33,
    "start_time": "2022-07-10T19:54:09.741Z"
   },
   {
    "duration": 13,
    "start_time": "2022-07-10T19:54:09.776Z"
   },
   {
    "duration": 15,
    "start_time": "2022-07-10T19:54:09.791Z"
   },
   {
    "duration": 250,
    "start_time": "2022-07-10T19:54:09.807Z"
   },
   {
    "duration": 236,
    "start_time": "2022-07-10T19:54:10.059Z"
   },
   {
    "duration": 225,
    "start_time": "2022-07-10T19:54:10.296Z"
   },
   {
    "duration": 60,
    "start_time": "2022-07-10T19:54:10.523Z"
   },
   {
    "duration": 4,
    "start_time": "2022-07-10T19:54:10.585Z"
   },
   {
    "duration": 206,
    "start_time": "2022-07-10T19:54:10.591Z"
   },
   {
    "duration": 23,
    "start_time": "2022-07-10T19:54:10.799Z"
   },
   {
    "duration": 18,
    "start_time": "2022-07-10T19:54:10.824Z"
   },
   {
    "duration": 826,
    "start_time": "2022-07-10T19:54:10.845Z"
   },
   {
    "duration": 0,
    "start_time": "2022-07-10T19:54:11.672Z"
   },
   {
    "duration": 0,
    "start_time": "2022-07-10T19:54:11.674Z"
   },
   {
    "duration": 0,
    "start_time": "2022-07-10T19:54:11.674Z"
   },
   {
    "duration": 0,
    "start_time": "2022-07-10T19:54:11.676Z"
   },
   {
    "duration": 0,
    "start_time": "2022-07-10T19:54:11.676Z"
   },
   {
    "duration": 0,
    "start_time": "2022-07-10T19:54:11.678Z"
   },
   {
    "duration": 0,
    "start_time": "2022-07-10T19:54:11.678Z"
   },
   {
    "duration": 0,
    "start_time": "2022-07-10T19:54:11.680Z"
   },
   {
    "duration": 0,
    "start_time": "2022-07-10T19:54:11.680Z"
   },
   {
    "duration": 0,
    "start_time": "2022-07-10T19:54:11.681Z"
   },
   {
    "duration": 0,
    "start_time": "2022-07-10T19:54:11.683Z"
   },
   {
    "duration": 0,
    "start_time": "2022-07-10T19:54:11.684Z"
   },
   {
    "duration": 0,
    "start_time": "2022-07-10T19:54:11.685Z"
   },
   {
    "duration": 0,
    "start_time": "2022-07-10T19:54:11.685Z"
   },
   {
    "duration": 0,
    "start_time": "2022-07-10T19:54:11.686Z"
   },
   {
    "duration": 0,
    "start_time": "2022-07-10T19:54:11.687Z"
   },
   {
    "duration": 0,
    "start_time": "2022-07-10T19:54:11.689Z"
   },
   {
    "duration": 0,
    "start_time": "2022-07-10T19:54:11.690Z"
   },
   {
    "duration": 0,
    "start_time": "2022-07-10T19:54:11.691Z"
   },
   {
    "duration": 12,
    "start_time": "2022-07-10T19:55:58.317Z"
   },
   {
    "duration": 3,
    "start_time": "2022-07-10T19:56:02.836Z"
   },
   {
    "duration": 359,
    "start_time": "2022-07-10T19:56:02.840Z"
   },
   {
    "duration": 25,
    "start_time": "2022-07-10T19:56:03.200Z"
   },
   {
    "duration": 22,
    "start_time": "2022-07-10T19:56:03.227Z"
   },
   {
    "duration": 20,
    "start_time": "2022-07-10T19:56:03.252Z"
   },
   {
    "duration": 14,
    "start_time": "2022-07-10T19:56:03.273Z"
   },
   {
    "duration": 15,
    "start_time": "2022-07-10T19:56:03.288Z"
   },
   {
    "duration": 201,
    "start_time": "2022-07-10T19:56:03.305Z"
   },
   {
    "duration": 192,
    "start_time": "2022-07-10T19:56:03.508Z"
   },
   {
    "duration": 212,
    "start_time": "2022-07-10T19:56:03.701Z"
   },
   {
    "duration": 54,
    "start_time": "2022-07-10T19:56:03.915Z"
   },
   {
    "duration": 4,
    "start_time": "2022-07-10T19:56:03.970Z"
   },
   {
    "duration": 186,
    "start_time": "2022-07-10T19:56:03.976Z"
   },
   {
    "duration": 11,
    "start_time": "2022-07-10T19:56:04.164Z"
   },
   {
    "duration": 19,
    "start_time": "2022-07-10T19:56:04.176Z"
   },
   {
    "duration": 120,
    "start_time": "2022-07-10T19:56:04.197Z"
   },
   {
    "duration": 7,
    "start_time": "2022-07-10T19:56:04.319Z"
   },
   {
    "duration": 229,
    "start_time": "2022-07-10T19:56:04.327Z"
   },
   {
    "duration": 14,
    "start_time": "2022-07-10T19:56:04.558Z"
   },
   {
    "duration": 13,
    "start_time": "2022-07-10T19:56:04.575Z"
   },
   {
    "duration": 20,
    "start_time": "2022-07-10T19:56:04.590Z"
   },
   {
    "duration": 10,
    "start_time": "2022-07-10T19:56:04.612Z"
   },
   {
    "duration": 201,
    "start_time": "2022-07-10T19:56:04.624Z"
   },
   {
    "duration": 11,
    "start_time": "2022-07-10T19:56:04.826Z"
   },
   {
    "duration": 12,
    "start_time": "2022-07-10T19:56:04.846Z"
   },
   {
    "duration": 18,
    "start_time": "2022-07-10T19:56:04.859Z"
   },
   {
    "duration": 10,
    "start_time": "2022-07-10T19:56:04.878Z"
   },
   {
    "duration": 164,
    "start_time": "2022-07-10T19:56:04.889Z"
   },
   {
    "duration": 11,
    "start_time": "2022-07-10T19:56:05.055Z"
   },
   {
    "duration": 12,
    "start_time": "2022-07-10T19:56:05.068Z"
   },
   {
    "duration": 9,
    "start_time": "2022-07-10T19:56:05.082Z"
   },
   {
    "duration": 13,
    "start_time": "2022-07-10T19:56:05.093Z"
   },
   {
    "duration": 12,
    "start_time": "2022-07-10T19:56:05.142Z"
   },
   {
    "duration": 16,
    "start_time": "2022-07-10T19:56:05.156Z"
   },
   {
    "duration": 10,
    "start_time": "2022-07-10T19:56:05.174Z"
   },
   {
    "duration": 56,
    "start_time": "2022-08-25T12:45:33.827Z"
   },
   {
    "duration": 1069,
    "start_time": "2022-08-25T12:45:38.517Z"
   },
   {
    "duration": 1416,
    "start_time": "2022-08-25T12:45:39.588Z"
   },
   {
    "duration": 34,
    "start_time": "2022-08-25T12:45:41.006Z"
   },
   {
    "duration": 33,
    "start_time": "2022-08-25T12:45:41.042Z"
   },
   {
    "duration": 24,
    "start_time": "2022-08-25T12:45:41.079Z"
   },
   {
    "duration": 27,
    "start_time": "2022-08-25T12:45:41.105Z"
   },
   {
    "duration": 33,
    "start_time": "2022-08-25T12:45:41.134Z"
   },
   {
    "duration": 234,
    "start_time": "2022-08-25T12:45:41.168Z"
   },
   {
    "duration": 237,
    "start_time": "2022-08-25T12:45:41.403Z"
   },
   {
    "duration": 240,
    "start_time": "2022-08-25T12:45:41.641Z"
   },
   {
    "duration": 56,
    "start_time": "2022-08-25T12:45:41.882Z"
   },
   {
    "duration": 58,
    "start_time": "2022-08-25T12:45:41.940Z"
   },
   {
    "duration": 279,
    "start_time": "2022-08-25T12:45:42.000Z"
   },
   {
    "duration": 13,
    "start_time": "2022-08-25T12:45:42.282Z"
   },
   {
    "duration": 47,
    "start_time": "2022-08-25T12:45:42.296Z"
   },
   {
    "duration": 236,
    "start_time": "2022-08-25T12:45:42.344Z"
   },
   {
    "duration": 9,
    "start_time": "2022-08-25T12:45:42.582Z"
   },
   {
    "duration": 3212,
    "start_time": "2022-08-25T12:45:42.592Z"
   },
   {
    "duration": 10,
    "start_time": "2022-08-25T12:45:45.806Z"
   },
   {
    "duration": 11,
    "start_time": "2022-08-25T12:45:45.818Z"
   },
   {
    "duration": 9,
    "start_time": "2022-08-25T12:45:45.831Z"
   },
   {
    "duration": 42,
    "start_time": "2022-08-25T12:45:45.841Z"
   },
   {
    "duration": 176,
    "start_time": "2022-08-25T12:45:45.885Z"
   },
   {
    "duration": 14,
    "start_time": "2022-08-25T12:45:46.069Z"
   },
   {
    "duration": 13,
    "start_time": "2022-08-25T12:45:46.085Z"
   },
   {
    "duration": 13,
    "start_time": "2022-08-25T12:45:46.100Z"
   },
   {
    "duration": 18,
    "start_time": "2022-08-25T12:45:46.114Z"
   },
   {
    "duration": 192,
    "start_time": "2022-08-25T12:45:46.133Z"
   },
   {
    "duration": 11,
    "start_time": "2022-08-25T12:45:46.326Z"
   },
   {
    "duration": 10,
    "start_time": "2022-08-25T12:45:46.338Z"
   },
   {
    "duration": 33,
    "start_time": "2022-08-25T12:45:46.349Z"
   },
   {
    "duration": 16,
    "start_time": "2022-08-25T12:45:46.384Z"
   },
   {
    "duration": 10,
    "start_time": "2022-08-25T12:45:46.401Z"
   },
   {
    "duration": 10,
    "start_time": "2022-08-25T12:45:46.413Z"
   },
   {
    "duration": 10,
    "start_time": "2022-08-25T12:45:46.425Z"
   },
   {
    "duration": 185,
    "start_time": "2022-08-25T12:48:32.945Z"
   }
  ],
  "kernelspec": {
   "display_name": "Python 3 (ipykernel)",
   "language": "python",
   "name": "python3"
  },
  "language_info": {
   "codemirror_mode": {
    "name": "ipython",
    "version": 3
   },
   "file_extension": ".py",
   "mimetype": "text/x-python",
   "name": "python",
   "nbconvert_exporter": "python",
   "pygments_lexer": "ipython3",
   "version": "3.10.2"
  },
  "toc": {
   "base_numbering": 1,
   "nav_menu": {},
   "number_sections": true,
   "sideBar": true,
   "skip_h1_title": true,
   "title_cell": "Table of Contents",
   "title_sidebar": "Contents",
   "toc_cell": false,
   "toc_position": {
    "height": "calc(100% - 180px)",
    "left": "10px",
    "top": "150px",
    "width": "312.391px"
   },
   "toc_section_display": true,
   "toc_window_display": true
  }
 },
 "nbformat": 4,
 "nbformat_minor": 2
}
