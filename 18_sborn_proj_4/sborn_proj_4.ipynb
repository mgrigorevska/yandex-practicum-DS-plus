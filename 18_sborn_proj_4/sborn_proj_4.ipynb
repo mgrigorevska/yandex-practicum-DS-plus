{
 "cells": [
  {
   "cell_type": "markdown",
   "id": "1ff1020a",
   "metadata": {
    "cellId": "pbwq209p45adtxfy5ofecd",
    "deletable": false,
    "editable": false,
    "execution_id": "7cb94123-6481-41de-973a-91abe63db303",
    "id": "1ff1020a",
    "tags": [
     "5643b276-1159-4b34-85a5-eeadeed9ff48"
    ]
   },
   "source": [
    "# Прекод\n",
    "\n",
    "# Сборный проект-4\n",
    "\n",
    "Вам поручено разработать демонстрационную версию поиска изображений по запросу.\n",
    "\n",
    "Для демонстрационной версии нужно обучить модель, которая получит векторное представление изображения, векторное представление текста, а на выходе выдаст число от 0 до 1 — покажет, насколько текст и картинка подходят друг другу.\n",
    "\n",
    "### Описание данных\n",
    "\n",
    "Данные находятся [здесь](https://st.yandex-team.ru/DS-6856).\n",
    "\n",
    "В файле `train_dataset.csv` собрана информация, необходимая для обучения: имя файла изображения, идентификатор описания и текст описания. Для одной картинки может быть доступно до 5 описаний. Идентификатор описания имеет формат `<имя файла изображения>#<порядковый номер описания>`.\n",
    "\n",
    "В папке `train_images` содержатся изображения для тренировки модели.\n",
    "\n",
    "В файле `CrowdAnnotations.tsv` — данные по соответствию изображения и описания, полученные с помощью краудсорсинга. Номера колонок и соответствующий тип данных:\n",
    "\n",
    "1. Имя файла изображения.\n",
    "2. Идентификатор описания.\n",
    "3. Доля людей, подтвердивших, что описание соответствует изображению.\n",
    "4. Количество человек, подтвердивших, что описание соответствует изображению.\n",
    "5. Количество человек, подтвердивших, что описание не соответствует изображению.\n",
    "\n",
    "В файле `ExpertAnnotations.tsv` содержатся данные по соответствию изображения и описания, полученные в результате опроса экспертов. Номера колонок и соответствующий тип данных:\n",
    "\n",
    "1. Имя файла изображения.\n",
    "2. Идентификатор описания.\n",
    "\n",
    "3, 4, 5 — оценки трёх экспертов.\n",
    "\n",
    "Эксперты ставят оценки по шкале от 1 до 4, где 1 — изображение и запрос совершенно не соответствуют друг другу, 2 — запрос содержит элементы описания изображения, но в целом запрос тексту не соответствует, 3 — запрос и текст соответствуют с точностью до некоторых деталей, 4 — запрос и текст соответствуют полностью.\n",
    "\n",
    "В файле `test_queries.csv` находится информация, необходимая для тестирования: идентификатор запроса, текст запроса и релевантное изображение. Для одной картинки может быть доступно до 5 описаний. Идентификатор описания имеет формат `<имя файла изображения>#<порядковый номер описания>`.\n",
    "\n",
    "В папке `test_images` содержатся изображения для тестирования модели."
   ]
  },
  {
   "cell_type": "markdown",
   "id": "d31d08d5",
   "metadata": {},
   "source": [
    "# Сборный проект - 4"
   ]
  },
  {
   "cell_type": "markdown",
   "id": "72c53b97",
   "metadata": {},
   "source": [
    "Задача - разработать демонстрационную версию поиска изображений по запросу.\n",
    "\n",
    "Для демонстрационной версии нужно обучить модель, которая получит векторное представление изображения, векторное представление текста, а на выходе выдаст число от 0 до 1 — покажет, насколько текст и картинка подходят друг другу."
   ]
  },
  {
   "cell_type": "markdown",
   "id": "99489b26",
   "metadata": {
    "cellId": "n6vkjcacwu39w29bfocxt",
    "execution_id": "1b731a18-3394-4b62-b3f7-018692c2d6de",
    "id": "99489b26"
   },
   "source": [
    "## 1. Исследовательский анализ данных\n",
    "\n",
    "Датасет содержит экспертные и краудсорсинговые оценки соответствия текста и изображения.\n",
    "\n",
    "В файле с экспертными мнениями для каждой пары изображение-текст имеются оценки(от 1 до 4) от трёх специалистов.\n",
    "В файле с краудсорсинговыми оценками информация расположена в таком порядке: \n",
    "\n",
    "1. Доля исполнителей, подтвердивших, что текст **соответствует** картинке. \n",
    "2. Количество исполнителей, подтвердивших, что текст **соответствует** картинке.\n",
    "3. Количество исполнителей, подтвердивших, что текст **не соответствует** картинке.\n"
   ]
  },
  {
   "cell_type": "markdown",
   "id": "afa74ac4",
   "metadata": {},
   "source": [
    "### 1.1 Загрузка данных"
   ]
  },
  {
   "cell_type": "code",
   "execution_count": 1,
   "id": "79250670",
   "metadata": {
    "cellId": "exl6m83oldxqlu1vq1s6",
    "id": "79250670"
   },
   "outputs": [],
   "source": [
    "import pandas as pd\n",
    "import numpy as np\n",
    "import torchvision.models as models\n",
    "import os, os.path\n",
    "import numpy as np\n",
    "import torch\n",
    "import transformers \n",
    "import torch.nn as nn\n",
    "\n",
    "from tqdm import notebook\n",
    "from tqdm import tqdm\n",
    "from torchvision import transforms\n",
    "from tensorflow.keras.layers import Dense, GlobalAveragePooling2D, Conv2D, Flatten\n",
    "from tensorflow.keras.models import Sequential\n",
    "from tensorflow.keras.optimizers import Adam\n",
    "from tensorflow import keras\n",
    "from catboost import CatBoostClassifier\n",
    "from sklearn.model_selection import GroupShuffleSplit, RandomizedSearchCV\n",
    "from sklearn.linear_model import LogisticRegression\n",
    "from sklearn.tree import DecisionTreeClassifier\n",
    "from sklearn.metrics import mean_absolute_error, mean_squared_error, accuracy_score\n",
    "from PIL import Image\n",
    "from wordfilter import Wordfilter\n",
    "from warnings import simplefilter\n",
    "import ntpath\n",
    "import time\n",
    "\n",
    "simplefilter(action='ignore', category=FutureWarning)"
   ]
  },
  {
   "cell_type": "markdown",
   "id": "540bd207",
   "metadata": {},
   "source": [
    "Загрузим данные и прочитаем датасеты:"
   ]
  },
  {
   "cell_type": "code",
   "execution_count": 2,
   "id": "6b522dbb",
   "metadata": {},
   "outputs": [
    {
     "data": {
      "text/html": [
       "<div>\n",
       "<style scoped>\n",
       "    .dataframe tbody tr th:only-of-type {\n",
       "        vertical-align: middle;\n",
       "    }\n",
       "\n",
       "    .dataframe tbody tr th {\n",
       "        vertical-align: top;\n",
       "    }\n",
       "\n",
       "    .dataframe thead th {\n",
       "        text-align: right;\n",
       "    }\n",
       "</style>\n",
       "<table border=\"1\" class=\"dataframe\">\n",
       "  <thead>\n",
       "    <tr style=\"text-align: right;\">\n",
       "      <th></th>\n",
       "      <th>image</th>\n",
       "      <th>query_id</th>\n",
       "      <th>query_text</th>\n",
       "    </tr>\n",
       "  </thead>\n",
       "  <tbody>\n",
       "    <tr>\n",
       "      <th>0</th>\n",
       "      <td>1056338697_4f7d7ce270.jpg</td>\n",
       "      <td>2549968784_39bfbe44f9.jpg#2</td>\n",
       "      <td>A young child is wearing blue goggles and sitt...</td>\n",
       "    </tr>\n",
       "    <tr>\n",
       "      <th>1</th>\n",
       "      <td>1262583859_653f1469a9.jpg</td>\n",
       "      <td>2549968784_39bfbe44f9.jpg#2</td>\n",
       "      <td>A young child is wearing blue goggles and sitt...</td>\n",
       "    </tr>\n",
       "    <tr>\n",
       "      <th>2</th>\n",
       "      <td>2447284966_d6bbdb4b6e.jpg</td>\n",
       "      <td>2549968784_39bfbe44f9.jpg#2</td>\n",
       "      <td>A young child is wearing blue goggles and sitt...</td>\n",
       "    </tr>\n",
       "    <tr>\n",
       "      <th>3</th>\n",
       "      <td>2549968784_39bfbe44f9.jpg</td>\n",
       "      <td>2549968784_39bfbe44f9.jpg#2</td>\n",
       "      <td>A young child is wearing blue goggles and sitt...</td>\n",
       "    </tr>\n",
       "    <tr>\n",
       "      <th>4</th>\n",
       "      <td>2621415349_ef1a7e73be.jpg</td>\n",
       "      <td>2549968784_39bfbe44f9.jpg#2</td>\n",
       "      <td>A young child is wearing blue goggles and sitt...</td>\n",
       "    </tr>\n",
       "  </tbody>\n",
       "</table>\n",
       "</div>"
      ],
      "text/plain": [
       "                       image                     query_id  \\\n",
       "0  1056338697_4f7d7ce270.jpg  2549968784_39bfbe44f9.jpg#2   \n",
       "1  1262583859_653f1469a9.jpg  2549968784_39bfbe44f9.jpg#2   \n",
       "2  2447284966_d6bbdb4b6e.jpg  2549968784_39bfbe44f9.jpg#2   \n",
       "3  2549968784_39bfbe44f9.jpg  2549968784_39bfbe44f9.jpg#2   \n",
       "4  2621415349_ef1a7e73be.jpg  2549968784_39bfbe44f9.jpg#2   \n",
       "\n",
       "                                          query_text  \n",
       "0  A young child is wearing blue goggles and sitt...  \n",
       "1  A young child is wearing blue goggles and sitt...  \n",
       "2  A young child is wearing blue goggles and sitt...  \n",
       "3  A young child is wearing blue goggles and sitt...  \n",
       "4  A young child is wearing blue goggles and sitt...  "
      ]
     },
     "execution_count": 2,
     "metadata": {},
     "output_type": "execute_result"
    }
   ],
   "source": [
    "train_dataset = pd.read_csv('C:/Users/Jepka/Documents/projects/yandex-practicum-DS-plus/17_sborn_proj_4/train_dataset.csv')\n",
    "train_dataset.head()"
   ]
  },
  {
   "cell_type": "code",
   "execution_count": 3,
   "id": "45ffdfa9",
   "metadata": {},
   "outputs": [
    {
     "data": {
      "text/html": [
       "<div>\n",
       "<style scoped>\n",
       "    .dataframe tbody tr th:only-of-type {\n",
       "        vertical-align: middle;\n",
       "    }\n",
       "\n",
       "    .dataframe tbody tr th {\n",
       "        vertical-align: top;\n",
       "    }\n",
       "\n",
       "    .dataframe thead th {\n",
       "        text-align: right;\n",
       "    }\n",
       "</style>\n",
       "<table border=\"1\" class=\"dataframe\">\n",
       "  <thead>\n",
       "    <tr style=\"text-align: right;\">\n",
       "      <th></th>\n",
       "      <th>query_id</th>\n",
       "      <th>query_text</th>\n",
       "      <th>image</th>\n",
       "    </tr>\n",
       "  </thead>\n",
       "  <tbody>\n",
       "    <tr>\n",
       "      <th>0</th>\n",
       "      <td>1177994172_10d143cb8d.jpg#0</td>\n",
       "      <td>Two blonde boys , one in a camouflage shirt an...</td>\n",
       "      <td>1177994172_10d143cb8d.jpg</td>\n",
       "    </tr>\n",
       "    <tr>\n",
       "      <th>1</th>\n",
       "      <td>1177994172_10d143cb8d.jpg#1</td>\n",
       "      <td>Two boys are squirting water guns at each other .</td>\n",
       "      <td>1177994172_10d143cb8d.jpg</td>\n",
       "    </tr>\n",
       "    <tr>\n",
       "      <th>2</th>\n",
       "      <td>1177994172_10d143cb8d.jpg#2</td>\n",
       "      <td>Two boys spraying each other with water</td>\n",
       "      <td>1177994172_10d143cb8d.jpg</td>\n",
       "    </tr>\n",
       "    <tr>\n",
       "      <th>3</th>\n",
       "      <td>1177994172_10d143cb8d.jpg#3</td>\n",
       "      <td>Two children wearing jeans squirt water at eac...</td>\n",
       "      <td>1177994172_10d143cb8d.jpg</td>\n",
       "    </tr>\n",
       "    <tr>\n",
       "      <th>4</th>\n",
       "      <td>1177994172_10d143cb8d.jpg#4</td>\n",
       "      <td>Two young boys are squirting water at each oth...</td>\n",
       "      <td>1177994172_10d143cb8d.jpg</td>\n",
       "    </tr>\n",
       "  </tbody>\n",
       "</table>\n",
       "</div>"
      ],
      "text/plain": [
       "                      query_id  \\\n",
       "0  1177994172_10d143cb8d.jpg#0   \n",
       "1  1177994172_10d143cb8d.jpg#1   \n",
       "2  1177994172_10d143cb8d.jpg#2   \n",
       "3  1177994172_10d143cb8d.jpg#3   \n",
       "4  1177994172_10d143cb8d.jpg#4   \n",
       "\n",
       "                                          query_text  \\\n",
       "0  Two blonde boys , one in a camouflage shirt an...   \n",
       "1  Two boys are squirting water guns at each other .   \n",
       "2            Two boys spraying each other with water   \n",
       "3  Two children wearing jeans squirt water at eac...   \n",
       "4  Two young boys are squirting water at each oth...   \n",
       "\n",
       "                       image  \n",
       "0  1177994172_10d143cb8d.jpg  \n",
       "1  1177994172_10d143cb8d.jpg  \n",
       "2  1177994172_10d143cb8d.jpg  \n",
       "3  1177994172_10d143cb8d.jpg  \n",
       "4  1177994172_10d143cb8d.jpg  "
      ]
     },
     "execution_count": 3,
     "metadata": {},
     "output_type": "execute_result"
    }
   ],
   "source": [
    "test_queries = pd.read_csv('C:/Users/Jepka/Documents/projects/yandex-practicum-DS-plus/17_sborn_proj_4/test_queries.csv', sep='|', index_col=0)\n",
    "test_queries.head()"
   ]
  },
  {
   "cell_type": "markdown",
   "id": "46056683",
   "metadata": {},
   "source": [
    "Таблица с краудсорсинговыми оценками:"
   ]
  },
  {
   "cell_type": "code",
   "execution_count": 4,
   "id": "b72c698f",
   "metadata": {},
   "outputs": [
    {
     "data": {
      "text/html": [
       "<div>\n",
       "<style scoped>\n",
       "    .dataframe tbody tr th:only-of-type {\n",
       "        vertical-align: middle;\n",
       "    }\n",
       "\n",
       "    .dataframe tbody tr th {\n",
       "        vertical-align: top;\n",
       "    }\n",
       "\n",
       "    .dataframe thead th {\n",
       "        text-align: right;\n",
       "    }\n",
       "</style>\n",
       "<table border=\"1\" class=\"dataframe\">\n",
       "  <thead>\n",
       "    <tr style=\"text-align: right;\">\n",
       "      <th></th>\n",
       "      <th>1056338697_4f7d7ce270.jpg</th>\n",
       "      <th>1056338697_4f7d7ce270.jpg#2</th>\n",
       "      <th>1</th>\n",
       "      <th>3</th>\n",
       "      <th>0</th>\n",
       "    </tr>\n",
       "  </thead>\n",
       "  <tbody>\n",
       "    <tr>\n",
       "      <th>0</th>\n",
       "      <td>1056338697_4f7d7ce270.jpg</td>\n",
       "      <td>114051287_dd85625a04.jpg#2</td>\n",
       "      <td>0.0</td>\n",
       "      <td>0</td>\n",
       "      <td>3</td>\n",
       "    </tr>\n",
       "    <tr>\n",
       "      <th>1</th>\n",
       "      <td>1056338697_4f7d7ce270.jpg</td>\n",
       "      <td>1427391496_ea512cbe7f.jpg#2</td>\n",
       "      <td>0.0</td>\n",
       "      <td>0</td>\n",
       "      <td>3</td>\n",
       "    </tr>\n",
       "    <tr>\n",
       "      <th>2</th>\n",
       "      <td>1056338697_4f7d7ce270.jpg</td>\n",
       "      <td>2073964624_52da3a0fc4.jpg#2</td>\n",
       "      <td>0.0</td>\n",
       "      <td>0</td>\n",
       "      <td>3</td>\n",
       "    </tr>\n",
       "    <tr>\n",
       "      <th>3</th>\n",
       "      <td>1056338697_4f7d7ce270.jpg</td>\n",
       "      <td>2083434441_a93bc6306b.jpg#2</td>\n",
       "      <td>0.0</td>\n",
       "      <td>0</td>\n",
       "      <td>3</td>\n",
       "    </tr>\n",
       "    <tr>\n",
       "      <th>4</th>\n",
       "      <td>1056338697_4f7d7ce270.jpg</td>\n",
       "      <td>2204550058_2707d92338.jpg#2</td>\n",
       "      <td>0.0</td>\n",
       "      <td>0</td>\n",
       "      <td>3</td>\n",
       "    </tr>\n",
       "  </tbody>\n",
       "</table>\n",
       "</div>"
      ],
      "text/plain": [
       "   1056338697_4f7d7ce270.jpg  1056338697_4f7d7ce270.jpg#2    1  3  0\n",
       "0  1056338697_4f7d7ce270.jpg   114051287_dd85625a04.jpg#2  0.0  0  3\n",
       "1  1056338697_4f7d7ce270.jpg  1427391496_ea512cbe7f.jpg#2  0.0  0  3\n",
       "2  1056338697_4f7d7ce270.jpg  2073964624_52da3a0fc4.jpg#2  0.0  0  3\n",
       "3  1056338697_4f7d7ce270.jpg  2083434441_a93bc6306b.jpg#2  0.0  0  3\n",
       "4  1056338697_4f7d7ce270.jpg  2204550058_2707d92338.jpg#2  0.0  0  3"
      ]
     },
     "metadata": {},
     "output_type": "display_data"
    },
    {
     "name": "stdout",
     "output_type": "stream",
     "text": [
      "<class 'pandas.core.frame.DataFrame'>\n",
      "RangeIndex: 47829 entries, 0 to 47828\n",
      "Data columns (total 5 columns):\n",
      " #   Column                       Non-Null Count  Dtype  \n",
      "---  ------                       --------------  -----  \n",
      " 0   1056338697_4f7d7ce270.jpg    47829 non-null  object \n",
      " 1   1056338697_4f7d7ce270.jpg#2  47829 non-null  object \n",
      " 2   1                            47829 non-null  float64\n",
      " 3   3                            47829 non-null  int64  \n",
      " 4   0                            47829 non-null  int64  \n",
      "dtypes: float64(1), int64(2), object(2)\n",
      "memory usage: 1.8+ MB\n",
      "None\n"
     ]
    }
   ],
   "source": [
    "crowd_ann = pd.read_csv('C:/Users/Jepka/Documents/projects/yandex-practicum-DS-plus/17_sborn_proj_4/CrowdAnnotations.tsv', sep=\"\\t\")\n",
    "display(crowd_ann.head(5))\n",
    "print(crowd_ann.info())"
   ]
  },
  {
   "cell_type": "markdown",
   "id": "7323ae93",
   "metadata": {},
   "source": [
    "Таблица с экспертными оценками:"
   ]
  },
  {
   "cell_type": "code",
   "execution_count": 5,
   "id": "2111e7e7",
   "metadata": {},
   "outputs": [
    {
     "data": {
      "text/html": [
       "<div>\n",
       "<style scoped>\n",
       "    .dataframe tbody tr th:only-of-type {\n",
       "        vertical-align: middle;\n",
       "    }\n",
       "\n",
       "    .dataframe tbody tr th {\n",
       "        vertical-align: top;\n",
       "    }\n",
       "\n",
       "    .dataframe thead th {\n",
       "        text-align: right;\n",
       "    }\n",
       "</style>\n",
       "<table border=\"1\" class=\"dataframe\">\n",
       "  <thead>\n",
       "    <tr style=\"text-align: right;\">\n",
       "      <th></th>\n",
       "      <th>1056338697_4f7d7ce270.jpg</th>\n",
       "      <th>2549968784_39bfbe44f9.jpg#2</th>\n",
       "      <th>1</th>\n",
       "      <th>1.1</th>\n",
       "      <th>1.2</th>\n",
       "    </tr>\n",
       "  </thead>\n",
       "  <tbody>\n",
       "    <tr>\n",
       "      <th>0</th>\n",
       "      <td>1056338697_4f7d7ce270.jpg</td>\n",
       "      <td>2718495608_d8533e3ac5.jpg#2</td>\n",
       "      <td>1</td>\n",
       "      <td>1</td>\n",
       "      <td>2</td>\n",
       "    </tr>\n",
       "    <tr>\n",
       "      <th>1</th>\n",
       "      <td>1056338697_4f7d7ce270.jpg</td>\n",
       "      <td>3181701312_70a379ab6e.jpg#2</td>\n",
       "      <td>1</td>\n",
       "      <td>1</td>\n",
       "      <td>2</td>\n",
       "    </tr>\n",
       "    <tr>\n",
       "      <th>2</th>\n",
       "      <td>1056338697_4f7d7ce270.jpg</td>\n",
       "      <td>3207358897_bfa61fa3c6.jpg#2</td>\n",
       "      <td>1</td>\n",
       "      <td>2</td>\n",
       "      <td>2</td>\n",
       "    </tr>\n",
       "    <tr>\n",
       "      <th>3</th>\n",
       "      <td>1056338697_4f7d7ce270.jpg</td>\n",
       "      <td>3286822339_5535af6b93.jpg#2</td>\n",
       "      <td>1</td>\n",
       "      <td>1</td>\n",
       "      <td>2</td>\n",
       "    </tr>\n",
       "    <tr>\n",
       "      <th>4</th>\n",
       "      <td>1056338697_4f7d7ce270.jpg</td>\n",
       "      <td>3360930596_1e75164ce6.jpg#2</td>\n",
       "      <td>1</td>\n",
       "      <td>1</td>\n",
       "      <td>1</td>\n",
       "    </tr>\n",
       "  </tbody>\n",
       "</table>\n",
       "</div>"
      ],
      "text/plain": [
       "   1056338697_4f7d7ce270.jpg  2549968784_39bfbe44f9.jpg#2  1  1.1  1.2\n",
       "0  1056338697_4f7d7ce270.jpg  2718495608_d8533e3ac5.jpg#2  1    1    2\n",
       "1  1056338697_4f7d7ce270.jpg  3181701312_70a379ab6e.jpg#2  1    1    2\n",
       "2  1056338697_4f7d7ce270.jpg  3207358897_bfa61fa3c6.jpg#2  1    2    2\n",
       "3  1056338697_4f7d7ce270.jpg  3286822339_5535af6b93.jpg#2  1    1    2\n",
       "4  1056338697_4f7d7ce270.jpg  3360930596_1e75164ce6.jpg#2  1    1    1"
      ]
     },
     "metadata": {},
     "output_type": "display_data"
    },
    {
     "name": "stdout",
     "output_type": "stream",
     "text": [
      "<class 'pandas.core.frame.DataFrame'>\n",
      "RangeIndex: 5821 entries, 0 to 5820\n",
      "Data columns (total 5 columns):\n",
      " #   Column                       Non-Null Count  Dtype \n",
      "---  ------                       --------------  ----- \n",
      " 0   1056338697_4f7d7ce270.jpg    5821 non-null   object\n",
      " 1   2549968784_39bfbe44f9.jpg#2  5821 non-null   object\n",
      " 2   1                            5821 non-null   int64 \n",
      " 3   1.1                          5821 non-null   int64 \n",
      " 4   1.2                          5821 non-null   int64 \n",
      "dtypes: int64(3), object(2)\n",
      "memory usage: 227.5+ KB\n",
      "None\n"
     ]
    }
   ],
   "source": [
    "exp_ann = pd.read_csv('C:/Users/Jepka/Documents/projects/yandex-practicum-DS-plus/17_sborn_proj_4/ExpertAnnotations.tsv', sep=\"\\t\")\n",
    "display(exp_ann.head(5))\n",
    "print(exp_ann.info())"
   ]
  },
  {
   "cell_type": "markdown",
   "id": "1e7b585d",
   "metadata": {},
   "source": [
    "Таблица с оценками экспертов содержит столько же строк, как и обучающий датасет, то есть оценки проводились на этом датасете. В краудсорсинговом - ~ 47 тыс строк."
   ]
  },
  {
   "cell_type": "markdown",
   "id": "54f8ea87",
   "metadata": {},
   "source": [
    "Выделим итоговую оценку из каждого оценочного датасета:"
   ]
  },
  {
   "cell_type": "code",
   "execution_count": 6,
   "id": "97df91eb",
   "metadata": {},
   "outputs": [
    {
     "data": {
      "text/html": [
       "<div>\n",
       "<style scoped>\n",
       "    .dataframe tbody tr th:only-of-type {\n",
       "        vertical-align: middle;\n",
       "    }\n",
       "\n",
       "    .dataframe tbody tr th {\n",
       "        vertical-align: top;\n",
       "    }\n",
       "\n",
       "    .dataframe thead th {\n",
       "        text-align: right;\n",
       "    }\n",
       "</style>\n",
       "<table border=\"1\" class=\"dataframe\">\n",
       "  <thead>\n",
       "    <tr style=\"text-align: right;\">\n",
       "      <th></th>\n",
       "      <th>image</th>\n",
       "      <th>query_id</th>\n",
       "      <th>mark</th>\n",
       "    </tr>\n",
       "  </thead>\n",
       "  <tbody>\n",
       "    <tr>\n",
       "      <th>32922</th>\n",
       "      <td>3406930103_4db7b4dde0.jpg</td>\n",
       "      <td>2103568100_5d018c495b.jpg#2</td>\n",
       "      <td>0</td>\n",
       "    </tr>\n",
       "    <tr>\n",
       "      <th>44810</th>\n",
       "      <td>509778093_21236bb64d.jpg</td>\n",
       "      <td>3384314832_dffc944152.jpg#2</td>\n",
       "      <td>0</td>\n",
       "    </tr>\n",
       "    <tr>\n",
       "      <th>16032</th>\n",
       "      <td>2654514044_a70a6e2c21.jpg</td>\n",
       "      <td>2496370758_a3fbc49837.jpg#2</td>\n",
       "      <td>0</td>\n",
       "    </tr>\n",
       "    <tr>\n",
       "      <th>8640</th>\n",
       "      <td>2271755053_e1b1ec8442.jpg</td>\n",
       "      <td>3477715432_79d82487bb.jpg#2</td>\n",
       "      <td>0</td>\n",
       "    </tr>\n",
       "    <tr>\n",
       "      <th>38252</th>\n",
       "      <td>3589367895_5d3729e3ea.jpg</td>\n",
       "      <td>424779662_568f9606d0.jpg#2</td>\n",
       "      <td>0</td>\n",
       "    </tr>\n",
       "  </tbody>\n",
       "</table>\n",
       "</div>"
      ],
      "text/plain": [
       "                           image                     query_id  mark\n",
       "32922  3406930103_4db7b4dde0.jpg  2103568100_5d018c495b.jpg#2     0\n",
       "44810   509778093_21236bb64d.jpg  3384314832_dffc944152.jpg#2     0\n",
       "16032  2654514044_a70a6e2c21.jpg  2496370758_a3fbc49837.jpg#2     0\n",
       "8640   2271755053_e1b1ec8442.jpg  3477715432_79d82487bb.jpg#2     0\n",
       "38252  3589367895_5d3729e3ea.jpg   424779662_568f9606d0.jpg#2     0"
      ]
     },
     "execution_count": 6,
     "metadata": {},
     "output_type": "execute_result"
    }
   ],
   "source": [
    "crowd_ann['mark'] = crowd_ann['1'].apply(lambda x: 1 if x > 0.5 else 0) # итоговая оценка положительная, если за \n",
    "crowd_ann = crowd_ann.drop((['1', '3', '0']), axis=1)                   # соответсвие проголосовало большинство\n",
    "crowd_ann.columns = ['image', 'query_id', 'mark']\n",
    "crowd_ann.sample(5)"
   ]
  },
  {
   "cell_type": "code",
   "execution_count": 7,
   "id": "b8e4f21f",
   "metadata": {},
   "outputs": [
    {
     "data": {
      "text/html": [
       "<div>\n",
       "<style scoped>\n",
       "    .dataframe tbody tr th:only-of-type {\n",
       "        vertical-align: middle;\n",
       "    }\n",
       "\n",
       "    .dataframe tbody tr th {\n",
       "        vertical-align: top;\n",
       "    }\n",
       "\n",
       "    .dataframe thead th {\n",
       "        text-align: right;\n",
       "    }\n",
       "</style>\n",
       "<table border=\"1\" class=\"dataframe\">\n",
       "  <thead>\n",
       "    <tr style=\"text-align: right;\">\n",
       "      <th></th>\n",
       "      <th>image</th>\n",
       "      <th>query_id</th>\n",
       "      <th>mark</th>\n",
       "    </tr>\n",
       "  </thead>\n",
       "  <tbody>\n",
       "    <tr>\n",
       "      <th>3210</th>\n",
       "      <td>3168123064_d1983b8f92.jpg</td>\n",
       "      <td>3255482333_5bcee79f7e.jpg#2</td>\n",
       "      <td>0</td>\n",
       "    </tr>\n",
       "    <tr>\n",
       "      <th>1871</th>\n",
       "      <td>2612488996_9450de0e54.jpg</td>\n",
       "      <td>2216695423_1362cb25f3.jpg#2</td>\n",
       "      <td>0</td>\n",
       "    </tr>\n",
       "    <tr>\n",
       "      <th>2819</th>\n",
       "      <td>3042380610_c5ea61eef8.jpg</td>\n",
       "      <td>3605061440_1d08c80a57.jpg#2</td>\n",
       "      <td>0</td>\n",
       "    </tr>\n",
       "    <tr>\n",
       "      <th>4513</th>\n",
       "      <td>354642192_3b7666a2dd.jpg</td>\n",
       "      <td>2543589122_ec3e55f434.jpg#2</td>\n",
       "      <td>0</td>\n",
       "    </tr>\n",
       "    <tr>\n",
       "      <th>2356</th>\n",
       "      <td>2869491449_1041485a6b.jpg</td>\n",
       "      <td>670609997_5c7fdb3f0b.jpg#2</td>\n",
       "      <td>0</td>\n",
       "    </tr>\n",
       "  </tbody>\n",
       "</table>\n",
       "</div>"
      ],
      "text/plain": [
       "                          image                     query_id  mark\n",
       "3210  3168123064_d1983b8f92.jpg  3255482333_5bcee79f7e.jpg#2     0\n",
       "1871  2612488996_9450de0e54.jpg  2216695423_1362cb25f3.jpg#2     0\n",
       "2819  3042380610_c5ea61eef8.jpg  3605061440_1d08c80a57.jpg#2     0\n",
       "4513   354642192_3b7666a2dd.jpg  2543589122_ec3e55f434.jpg#2     0\n",
       "2356  2869491449_1041485a6b.jpg   670609997_5c7fdb3f0b.jpg#2     0"
      ]
     },
     "execution_count": 7,
     "metadata": {},
     "output_type": "execute_result"
    }
   ],
   "source": [
    "exp_ann['avg'] = (exp_ann['1'] + exp_ann['1.1'] + exp_ann['1.2']) / 3     # считаем среднюю оценку\n",
    "exp_ann['mark'] = exp_ann['avg'].apply(lambda x: 1 if x >= 3 else 0)      # итоговая оценка положительная, если средняя \n",
    "exp_ann = exp_ann.drop((['1', '1.1', '1.2', 'avg']), axis=1)              # оценка > 3\n",
    "exp_ann.columns = ['image', 'query_id', 'mark']\n",
    "exp_ann.sample(5)"
   ]
  },
  {
   "cell_type": "markdown",
   "id": "10b6d2fc",
   "metadata": {},
   "source": [
    "Теперь склеим имя файла и id запроса в одну строку, чтобы соединить датасеты по парам:"
   ]
  },
  {
   "cell_type": "code",
   "execution_count": 8,
   "id": "37842766",
   "metadata": {},
   "outputs": [],
   "source": [
    "crowd_ann['pair'] = crowd_ann['image'] + crowd_ann['query_id']\n",
    "exp_ann['pair'] = exp_ann['image'] + exp_ann['query_id']\n",
    "train_dataset['pair'] = train_dataset['image'] + train_dataset['query_id']"
   ]
  },
  {
   "cell_type": "markdown",
   "id": "80fb811b",
   "metadata": {},
   "source": [
    "Попробуем объединить датасеты по столбцу с именем пары. id запроса можно убрать, тк он не несет смысловой нагрузки."
   ]
  },
  {
   "cell_type": "code",
   "execution_count": 9,
   "id": "0db40c48",
   "metadata": {},
   "outputs": [
    {
     "name": "stdout",
     "output_type": "stream",
     "text": [
      "<class 'pandas.core.frame.DataFrame'>\n",
      "Int64Index: 2329 entries, 0 to 2328\n",
      "Data columns (total 3 columns):\n",
      " #   Column      Non-Null Count  Dtype \n",
      "---  ------      --------------  ----- \n",
      " 0   image       2329 non-null   object\n",
      " 1   query_text  2329 non-null   object\n",
      " 2   mark        2329 non-null   int64 \n",
      "dtypes: int64(1), object(2)\n",
      "memory usage: 72.8+ KB\n"
     ]
    }
   ],
   "source": [
    "df = train_dataset.merge(crowd_ann, on='pair', suffixes=('', '_y'), how='inner')\n",
    "df = df.drop((['pair', 'image_y',  'query_id_y', 'query_id']), axis=1)\n",
    "df.info()"
   ]
  },
  {
   "cell_type": "raw",
   "id": "df1a2cda",
   "metadata": {},
   "source": [
    "class_frequency = df['mark'].value_counts(normalize=True)\n",
    "print(class_frequency)\n",
    "class_frequency.plot(kind='bar') "
   ]
  },
  {
   "cell_type": "code",
   "execution_count": 10,
   "id": "dfdeb241",
   "metadata": {},
   "outputs": [
    {
     "name": "stdout",
     "output_type": "stream",
     "text": [
      "<class 'pandas.core.frame.DataFrame'>\n",
      "Int64Index: 5821 entries, 0 to 5820\n",
      "Data columns (total 3 columns):\n",
      " #   Column      Non-Null Count  Dtype \n",
      "---  ------      --------------  ----- \n",
      " 0   image       5821 non-null   object\n",
      " 1   query_text  5821 non-null   object\n",
      " 2   mark        5821 non-null   int64 \n",
      "dtypes: int64(1), object(2)\n",
      "memory usage: 181.9+ KB\n"
     ]
    }
   ],
   "source": [
    "df = train_dataset.merge(exp_ann, on='pair', suffixes=('', '_y'), how='inner')\n",
    "df = df.drop((['pair', 'image_y',  'query_id_y', 'query_id']), axis=1)\n",
    "df.info()"
   ]
  },
  {
   "cell_type": "markdown",
   "id": "3f84d806",
   "metadata": {},
   "source": [
    "После соединения таблиц можно увидеть, что краудсорсинговые оценки соответвуют только 2329 строкам от исходных 5821.\n",
    "Поэтому для обучения будет использоваться датасет с экспертными оценками, как более соответствующий."
   ]
  },
  {
   "cell_type": "code",
   "execution_count": 11,
   "id": "0e6a90ae",
   "metadata": {},
   "outputs": [
    {
     "data": {
      "text/html": [
       "<div>\n",
       "<style scoped>\n",
       "    .dataframe tbody tr th:only-of-type {\n",
       "        vertical-align: middle;\n",
       "    }\n",
       "\n",
       "    .dataframe tbody tr th {\n",
       "        vertical-align: top;\n",
       "    }\n",
       "\n",
       "    .dataframe thead th {\n",
       "        text-align: right;\n",
       "    }\n",
       "</style>\n",
       "<table border=\"1\" class=\"dataframe\">\n",
       "  <thead>\n",
       "    <tr style=\"text-align: right;\">\n",
       "      <th></th>\n",
       "      <th>image</th>\n",
       "      <th>query_text</th>\n",
       "      <th>mark</th>\n",
       "    </tr>\n",
       "  </thead>\n",
       "  <tbody>\n",
       "    <tr>\n",
       "      <th>0</th>\n",
       "      <td>1262583859_653f1469a9.jpg</td>\n",
       "      <td>A young child is wearing blue goggles and sitt...</td>\n",
       "      <td>0</td>\n",
       "    </tr>\n",
       "    <tr>\n",
       "      <th>1</th>\n",
       "      <td>2447284966_d6bbdb4b6e.jpg</td>\n",
       "      <td>A young child is wearing blue goggles and sitt...</td>\n",
       "      <td>0</td>\n",
       "    </tr>\n",
       "    <tr>\n",
       "      <th>2</th>\n",
       "      <td>2549968784_39bfbe44f9.jpg</td>\n",
       "      <td>A young child is wearing blue goggles and sitt...</td>\n",
       "      <td>1</td>\n",
       "    </tr>\n",
       "    <tr>\n",
       "      <th>3</th>\n",
       "      <td>2621415349_ef1a7e73be.jpg</td>\n",
       "      <td>A young child is wearing blue goggles and sitt...</td>\n",
       "      <td>0</td>\n",
       "    </tr>\n",
       "    <tr>\n",
       "      <th>4</th>\n",
       "      <td>3030566410_393c36a6c5.jpg</td>\n",
       "      <td>A young child is wearing blue goggles and sitt...</td>\n",
       "      <td>0</td>\n",
       "    </tr>\n",
       "  </tbody>\n",
       "</table>\n",
       "</div>"
      ],
      "text/plain": [
       "                       image  \\\n",
       "0  1262583859_653f1469a9.jpg   \n",
       "1  2447284966_d6bbdb4b6e.jpg   \n",
       "2  2549968784_39bfbe44f9.jpg   \n",
       "3  2621415349_ef1a7e73be.jpg   \n",
       "4  3030566410_393c36a6c5.jpg   \n",
       "\n",
       "                                          query_text  mark  \n",
       "0  A young child is wearing blue goggles and sitt...     0  \n",
       "1  A young child is wearing blue goggles and sitt...     0  \n",
       "2  A young child is wearing blue goggles and sitt...     1  \n",
       "3  A young child is wearing blue goggles and sitt...     0  \n",
       "4  A young child is wearing blue goggles and sitt...     0  "
      ]
     },
     "execution_count": 11,
     "metadata": {},
     "output_type": "execute_result"
    }
   ],
   "source": [
    "df.head()"
   ]
  },
  {
   "cell_type": "code",
   "execution_count": 12,
   "id": "0d0c8adf",
   "metadata": {},
   "outputs": [
    {
     "name": "stdout",
     "output_type": "stream",
     "text": [
      "0    0.892974\n",
      "1    0.107026\n",
      "Name: mark, dtype: float64\n"
     ]
    },
    {
     "data": {
      "text/plain": [
       "<AxesSubplot:>"
      ]
     },
     "execution_count": 12,
     "metadata": {},
     "output_type": "execute_result"
    },
    {
     "data": {
      "image/png": "[encoded data removed]",
      "text/plain": [
       "<Figure size 432x288 with 1 Axes>"
      ]
     },
     "metadata": {
      "needs_background": "light"
     },
     "output_type": "display_data"
    }
   ],
   "source": [
    "class_frequency = df['mark'].value_counts(normalize=True)\n",
    "print(class_frequency)\n",
    "class_frequency.plot(kind='bar') "
   ]
  },
  {
   "cell_type": "markdown",
   "id": "47dde73a",
   "metadata": {},
   "source": [
    "В получившемся датасете остается столбец с именем файла, текстом запроса и оценкой соответствия запросу. \n",
    "\n",
    "Из гистограммы можем увидеть, что изображение соответсвует запросу в 10% случаев."
   ]
  },
  {
   "cell_type": "markdown",
   "id": "7cbaa861",
   "metadata": {
    "cellId": "9h91oxwx86d7i8rqt5miv4",
    "execution_id": "4401a0e8-fd2b-479b-9e84-6ffafbcead47",
    "id": "7cbaa861"
   },
   "source": [
    "## 2. Проверка данных\n",
    "\n",
    "В некоторых странах действуют ограничения по обработке изображений: поисковым сервисам и сервисам, предоставляющим возможность поиска, запрещено без разрешения родителей или законных представителей предоставлять любую информацию, в том числе, но не исключительно тексты, изображения, видео и аудио, содержащие описание, изображение или запись голоса детей. Ребёнком считается любой человек, не достигший 16 лет.\n",
    "\n",
    " Поэтому все изображения, которые нарушают данный закон, нужно удалить из обучающей выборки."
   ]
  },
  {
   "cell_type": "markdown",
   "id": "b2679743",
   "metadata": {
    "cellId": "6j23jr8qr9wgyyqkm2puj",
    "id": "b352d2cd"
   },
   "source": [
    "Составим список слов, которые не соответствуют юридическим ограничениям:"
   ]
  },
  {
   "cell_type": "code",
   "execution_count": 13,
   "id": "48f0f79d",
   "metadata": {},
   "outputs": [],
   "source": [
    "bad_query = ['child', 'kid', 'little kid', \n",
    "             'little girl', 'little boy', 'boy', \n",
    "             'girl' 'baby', 'babies' 'toddler', 'small girl', \n",
    "             'young girl' ]"
   ]
  },
  {
   "cell_type": "markdown",
   "id": "2c422109",
   "metadata": {},
   "source": [
    "Уберем запросы, которые соответвуют описаниям, содержащим слова из списка:"
   ]
  },
  {
   "cell_type": "code",
   "execution_count": 14,
   "id": "730fe7ac",
   "metadata": {},
   "outputs": [],
   "source": [
    "for query in bad_query:\n",
    "    df['dlt'] = df['query_text'].apply(lambda x: 1 if query in x else 0) # вспомогательный столбец, 1 если в строке есть слово\n",
    "    df = df.query('dlt == 0')                                            # берем срез по оставшимся строкам\n",
    "df = df.drop('dlt', axis=1).reset_index(drop= True)                      # удаляем вспомогательный столбец"
   ]
  },
  {
   "cell_type": "markdown",
   "id": "1d4ef807",
   "metadata": {
    "cellId": "ggxcvhmhcm9rshysbjoo4n",
    "execution_id": "d7935f99-48c0-42b8-a227-dd2b2d9b70fc",
    "id": "1d4ef807"
   },
   "source": [
    "## 3. Векторизация изображений"
   ]
  },
  {
   "cell_type": "markdown",
   "id": "bd2aada4",
   "metadata": {},
   "source": [
    "Загрузим модель ResNet-18, предобученную на датасете ImageNet. Тк модель уже предобучена, то заморозим веса:"
   ]
  },
  {
   "cell_type": "code",
   "execution_count": 15,
   "id": "885d3b7f",
   "metadata": {},
   "outputs": [
    {
     "name": "stderr",
     "output_type": "stream",
     "text": [
      "C:\\Users\\Jepka\\AppData\\Roaming\\Python\\Python310\\site-packages\\torchvision\\models\\_utils.py:208: UserWarning: The parameter 'pretrained' is deprecated since 0.13 and may be removed in the future, please use 'weights' instead.\n",
      "  warnings.warn(\n",
      "C:\\Users\\Jepka\\AppData\\Roaming\\Python\\Python310\\site-packages\\torchvision\\models\\_utils.py:223: UserWarning: Arguments other than a weight enum or `None` for 'weights' are deprecated since 0.13 and may be removed in the future. The current behavior is equivalent to passing `weights=ResNet18_Weights.IMAGENET1K_V1`. You can also use `weights=ResNet18_Weights.DEFAULT` to get the most up-to-date weights.\n",
      "  warnings.warn(msg)\n"
     ]
    }
   ],
   "source": [
    "resnet = models.resnet18(pretrained=True)\n",
    "\n",
    "for param in resnet.parameters():\n",
    "    param.requires_grad_(False)"
   ]
  },
  {
   "cell_type": "markdown",
   "id": "8eb94d05",
   "metadata": {},
   "source": [
    "Используем все слои, кроме последних двух (пулинга и полносвязного):"
   ]
  },
  {
   "cell_type": "code",
   "execution_count": 16,
   "id": "77a8ffa5",
   "metadata": {},
   "outputs": [
    {
     "data": {
      "text/plain": [
       "Sequential(\n",
       "  (0): Conv2d(3, 64, kernel_size=(7, 7), stride=(2, 2), padding=(3, 3), bias=False)\n",
       "  (1): BatchNorm2d(64, eps=1e-05, momentum=0.1, affine=True, track_running_stats=True)\n",
       "  (2): ReLU(inplace=True)\n",
       "  (3): MaxPool2d(kernel_size=3, stride=2, padding=1, dilation=1, ceil_mode=False)\n",
       "  (4): Sequential(\n",
       "    (0): BasicBlock(\n",
       "      (conv1): Conv2d(64, 64, kernel_size=(3, 3), stride=(1, 1), padding=(1, 1), bias=False)\n",
       "      (bn1): BatchNorm2d(64, eps=1e-05, momentum=0.1, affine=True, track_running_stats=True)\n",
       "      (relu): ReLU(inplace=True)\n",
       "      (conv2): Conv2d(64, 64, kernel_size=(3, 3), stride=(1, 1), padding=(1, 1), bias=False)\n",
       "      (bn2): BatchNorm2d(64, eps=1e-05, momentum=0.1, affine=True, track_running_stats=True)\n",
       "    )\n",
       "    (1): BasicBlock(\n",
       "      (conv1): Conv2d(64, 64, kernel_size=(3, 3), stride=(1, 1), padding=(1, 1), bias=False)\n",
       "      (bn1): BatchNorm2d(64, eps=1e-05, momentum=0.1, affine=True, track_running_stats=True)\n",
       "      (relu): ReLU(inplace=True)\n",
       "      (conv2): Conv2d(64, 64, kernel_size=(3, 3), stride=(1, 1), padding=(1, 1), bias=False)\n",
       "      (bn2): BatchNorm2d(64, eps=1e-05, momentum=0.1, affine=True, track_running_stats=True)\n",
       "    )\n",
       "  )\n",
       "  (5): Sequential(\n",
       "    (0): BasicBlock(\n",
       "      (conv1): Conv2d(64, 128, kernel_size=(3, 3), stride=(2, 2), padding=(1, 1), bias=False)\n",
       "      (bn1): BatchNorm2d(128, eps=1e-05, momentum=0.1, affine=True, track_running_stats=True)\n",
       "      (relu): ReLU(inplace=True)\n",
       "      (conv2): Conv2d(128, 128, kernel_size=(3, 3), stride=(1, 1), padding=(1, 1), bias=False)\n",
       "      (bn2): BatchNorm2d(128, eps=1e-05, momentum=0.1, affine=True, track_running_stats=True)\n",
       "      (downsample): Sequential(\n",
       "        (0): Conv2d(64, 128, kernel_size=(1, 1), stride=(2, 2), bias=False)\n",
       "        (1): BatchNorm2d(128, eps=1e-05, momentum=0.1, affine=True, track_running_stats=True)\n",
       "      )\n",
       "    )\n",
       "    (1): BasicBlock(\n",
       "      (conv1): Conv2d(128, 128, kernel_size=(3, 3), stride=(1, 1), padding=(1, 1), bias=False)\n",
       "      (bn1): BatchNorm2d(128, eps=1e-05, momentum=0.1, affine=True, track_running_stats=True)\n",
       "      (relu): ReLU(inplace=True)\n",
       "      (conv2): Conv2d(128, 128, kernel_size=(3, 3), stride=(1, 1), padding=(1, 1), bias=False)\n",
       "      (bn2): BatchNorm2d(128, eps=1e-05, momentum=0.1, affine=True, track_running_stats=True)\n",
       "    )\n",
       "  )\n",
       "  (6): Sequential(\n",
       "    (0): BasicBlock(\n",
       "      (conv1): Conv2d(128, 256, kernel_size=(3, 3), stride=(2, 2), padding=(1, 1), bias=False)\n",
       "      (bn1): BatchNorm2d(256, eps=1e-05, momentum=0.1, affine=True, track_running_stats=True)\n",
       "      (relu): ReLU(inplace=True)\n",
       "      (conv2): Conv2d(256, 256, kernel_size=(3, 3), stride=(1, 1), padding=(1, 1), bias=False)\n",
       "      (bn2): BatchNorm2d(256, eps=1e-05, momentum=0.1, affine=True, track_running_stats=True)\n",
       "      (downsample): Sequential(\n",
       "        (0): Conv2d(128, 256, kernel_size=(1, 1), stride=(2, 2), bias=False)\n",
       "        (1): BatchNorm2d(256, eps=1e-05, momentum=0.1, affine=True, track_running_stats=True)\n",
       "      )\n",
       "    )\n",
       "    (1): BasicBlock(\n",
       "      (conv1): Conv2d(256, 256, kernel_size=(3, 3), stride=(1, 1), padding=(1, 1), bias=False)\n",
       "      (bn1): BatchNorm2d(256, eps=1e-05, momentum=0.1, affine=True, track_running_stats=True)\n",
       "      (relu): ReLU(inplace=True)\n",
       "      (conv2): Conv2d(256, 256, kernel_size=(3, 3), stride=(1, 1), padding=(1, 1), bias=False)\n",
       "      (bn2): BatchNorm2d(256, eps=1e-05, momentum=0.1, affine=True, track_running_stats=True)\n",
       "    )\n",
       "  )\n",
       "  (7): Sequential(\n",
       "    (0): BasicBlock(\n",
       "      (conv1): Conv2d(256, 512, kernel_size=(3, 3), stride=(2, 2), padding=(1, 1), bias=False)\n",
       "      (bn1): BatchNorm2d(512, eps=1e-05, momentum=0.1, affine=True, track_running_stats=True)\n",
       "      (relu): ReLU(inplace=True)\n",
       "      (conv2): Conv2d(512, 512, kernel_size=(3, 3), stride=(1, 1), padding=(1, 1), bias=False)\n",
       "      (bn2): BatchNorm2d(512, eps=1e-05, momentum=0.1, affine=True, track_running_stats=True)\n",
       "      (downsample): Sequential(\n",
       "        (0): Conv2d(256, 512, kernel_size=(1, 1), stride=(2, 2), bias=False)\n",
       "        (1): BatchNorm2d(512, eps=1e-05, momentum=0.1, affine=True, track_running_stats=True)\n",
       "      )\n",
       "    )\n",
       "    (1): BasicBlock(\n",
       "      (conv1): Conv2d(512, 512, kernel_size=(3, 3), stride=(1, 1), padding=(1, 1), bias=False)\n",
       "      (bn1): BatchNorm2d(512, eps=1e-05, momentum=0.1, affine=True, track_running_stats=True)\n",
       "      (relu): ReLU(inplace=True)\n",
       "      (conv2): Conv2d(512, 512, kernel_size=(3, 3), stride=(1, 1), padding=(1, 1), bias=False)\n",
       "      (bn2): BatchNorm2d(512, eps=1e-05, momentum=0.1, affine=True, track_running_stats=True)\n",
       "    )\n",
       "  )\n",
       ")"
      ]
     },
     "execution_count": 16,
     "metadata": {},
     "output_type": "execute_result"
    }
   ],
   "source": [
    "modules = list(resnet.children())[:-2]\n",
    "resnet = nn.Sequential(*modules)\n",
    "resnet.eval()"
   ]
  },
  {
   "cell_type": "markdown",
   "id": "f12fe865",
   "metadata": {},
   "source": [
    "Приведем изображения в нужный формат. Для этого изменим размер картинки, вырежем центр:"
   ]
  },
  {
   "cell_type": "code",
   "execution_count": 17,
   "id": "fb0246f2",
   "metadata": {},
   "outputs": [],
   "source": [
    "norm = transforms.Normalize(\n",
    "    mean=[0.485, 0.456, 0.406], std=[0.229, 0.224, 0.225])\n",
    "preprocess = transforms.Compose([\n",
    "    transforms.Resize(256),\n",
    "    transforms.CenterCrop(224),\n",
    "    transforms.ToTensor(),\n",
    "    norm,\n",
    "])"
   ]
  },
  {
   "cell_type": "markdown",
   "id": "45ad8b8b",
   "metadata": {},
   "source": [
    "Составим список из изображений:"
   ]
  },
  {
   "cell_type": "code",
   "execution_count": 18,
   "id": "a2b1268a",
   "metadata": {},
   "outputs": [],
   "source": [
    "imgs = []\n",
    "image_filename = []\n",
    "path = \"C:/Users/Jepka/Documents/projects/yandex-practicum-DS-plus/17_sborn_proj_4/train_images\"\n",
    "for f in os.listdir(path):\n",
    "    imgs.append(Image.open(os.path.join(path,f)).convert('RGB'))\n",
    "    image_filename.append(ntpath.basename(f))    "
   ]
  },
  {
   "cell_type": "markdown",
   "id": "2f96b268",
   "metadata": {},
   "source": [
    "Получим вектор для каждого изображения и сформируем из векторов датафрейм:"
   ]
  },
  {
   "cell_type": "code",
   "execution_count": 19,
   "id": "3dbddeb2",
   "metadata": {},
   "outputs": [],
   "source": [
    "img_tensor_list = []\n",
    "for img in imgs:\n",
    "    image_tensor = preprocess(img).unsqueeze(0)\n",
    "    output_img_tensor = resnet(image_tensor).flatten()\n",
    "    output_img_tensor = output_img_tensor.detach().numpy()\n",
    "    img_tensor_list.append(output_img_tensor)"
   ]
  },
  {
   "cell_type": "code",
   "execution_count": 20,
   "id": "79c51ada",
   "metadata": {},
   "outputs": [],
   "source": [
    "img_vectors = pd.DataFrame(np.array(img_tensor_list))"
   ]
  },
  {
   "cell_type": "code",
   "execution_count": 21,
   "id": "cdb5dd0c",
   "metadata": {},
   "outputs": [],
   "source": [
    "img_vectors['image'] = image_filename"
   ]
  },
  {
   "cell_type": "code",
   "execution_count": 22,
   "id": "ff651868",
   "metadata": {},
   "outputs": [
    {
     "data": {
      "text/html": [
       "<div>\n",
       "<style scoped>\n",
       "    .dataframe tbody tr th:only-of-type {\n",
       "        vertical-align: middle;\n",
       "    }\n",
       "\n",
       "    .dataframe tbody tr th {\n",
       "        vertical-align: top;\n",
       "    }\n",
       "\n",
       "    .dataframe thead th {\n",
       "        text-align: right;\n",
       "    }\n",
       "</style>\n",
       "<table border=\"1\" class=\"dataframe\">\n",
       "  <thead>\n",
       "    <tr style=\"text-align: right;\">\n",
       "      <th></th>\n",
       "      <th>0</th>\n",
       "      <th>1</th>\n",
       "      <th>2</th>\n",
       "      <th>3</th>\n",
       "      <th>4</th>\n",
       "      <th>5</th>\n",
       "      <th>6</th>\n",
       "      <th>7</th>\n",
       "      <th>8</th>\n",
       "      <th>9</th>\n",
       "      <th>...</th>\n",
       "      <th>25079</th>\n",
       "      <th>25080</th>\n",
       "      <th>25081</th>\n",
       "      <th>25082</th>\n",
       "      <th>25083</th>\n",
       "      <th>25084</th>\n",
       "      <th>25085</th>\n",
       "      <th>25086</th>\n",
       "      <th>25087</th>\n",
       "      <th>image</th>\n",
       "    </tr>\n",
       "  </thead>\n",
       "  <tbody>\n",
       "    <tr>\n",
       "      <th>0</th>\n",
       "      <td>1.456535</td>\n",
       "      <td>1.462994</td>\n",
       "      <td>0.003790</td>\n",
       "      <td>0.000000</td>\n",
       "      <td>0.000000</td>\n",
       "      <td>0.000000</td>\n",
       "      <td>0.000000</td>\n",
       "      <td>2.000441</td>\n",
       "      <td>2.571756</td>\n",
       "      <td>2.129662</td>\n",
       "      <td>...</td>\n",
       "      <td>1.216898</td>\n",
       "      <td>0.794865</td>\n",
       "      <td>0.000000</td>\n",
       "      <td>0.000000</td>\n",
       "      <td>0.000000</td>\n",
       "      <td>0.000000</td>\n",
       "      <td>0.000000</td>\n",
       "      <td>0.000000</td>\n",
       "      <td>0.000000</td>\n",
       "      <td>1056338697_4f7d7ce270.jpg</td>\n",
       "    </tr>\n",
       "    <tr>\n",
       "      <th>1</th>\n",
       "      <td>0.000000</td>\n",
       "      <td>0.000000</td>\n",
       "      <td>0.200380</td>\n",
       "      <td>0.000000</td>\n",
       "      <td>0.000000</td>\n",
       "      <td>0.000000</td>\n",
       "      <td>0.000000</td>\n",
       "      <td>0.000000</td>\n",
       "      <td>0.000000</td>\n",
       "      <td>0.000000</td>\n",
       "      <td>...</td>\n",
       "      <td>1.047913</td>\n",
       "      <td>0.000000</td>\n",
       "      <td>0.735143</td>\n",
       "      <td>0.000000</td>\n",
       "      <td>0.000000</td>\n",
       "      <td>0.000000</td>\n",
       "      <td>0.261585</td>\n",
       "      <td>0.463040</td>\n",
       "      <td>0.007105</td>\n",
       "      <td>106490881_5a2dd9b7bd.jpg</td>\n",
       "    </tr>\n",
       "    <tr>\n",
       "      <th>2</th>\n",
       "      <td>0.000000</td>\n",
       "      <td>0.000000</td>\n",
       "      <td>0.000000</td>\n",
       "      <td>0.000000</td>\n",
       "      <td>0.000000</td>\n",
       "      <td>0.000000</td>\n",
       "      <td>0.589236</td>\n",
       "      <td>0.000000</td>\n",
       "      <td>0.000000</td>\n",
       "      <td>0.000000</td>\n",
       "      <td>...</td>\n",
       "      <td>0.000000</td>\n",
       "      <td>0.232032</td>\n",
       "      <td>1.449345</td>\n",
       "      <td>1.452476</td>\n",
       "      <td>0.158529</td>\n",
       "      <td>0.000000</td>\n",
       "      <td>0.000000</td>\n",
       "      <td>0.000000</td>\n",
       "      <td>0.000000</td>\n",
       "      <td>1082379191_ec1e53f996.jpg</td>\n",
       "    </tr>\n",
       "    <tr>\n",
       "      <th>3</th>\n",
       "      <td>0.000000</td>\n",
       "      <td>0.000000</td>\n",
       "      <td>0.000000</td>\n",
       "      <td>0.097844</td>\n",
       "      <td>0.000000</td>\n",
       "      <td>0.000000</td>\n",
       "      <td>0.000000</td>\n",
       "      <td>0.000000</td>\n",
       "      <td>0.000000</td>\n",
       "      <td>0.000000</td>\n",
       "      <td>...</td>\n",
       "      <td>0.000000</td>\n",
       "      <td>0.000000</td>\n",
       "      <td>0.000000</td>\n",
       "      <td>0.000000</td>\n",
       "      <td>0.000000</td>\n",
       "      <td>0.000000</td>\n",
       "      <td>0.000000</td>\n",
       "      <td>0.000000</td>\n",
       "      <td>0.000000</td>\n",
       "      <td>1084040636_97d9633581.jpg</td>\n",
       "    </tr>\n",
       "    <tr>\n",
       "      <th>4</th>\n",
       "      <td>1.214453</td>\n",
       "      <td>1.465554</td>\n",
       "      <td>1.459179</td>\n",
       "      <td>0.256403</td>\n",
       "      <td>0.000000</td>\n",
       "      <td>0.000000</td>\n",
       "      <td>0.000000</td>\n",
       "      <td>2.086749</td>\n",
       "      <td>5.339117</td>\n",
       "      <td>6.691867</td>\n",
       "      <td>...</td>\n",
       "      <td>0.526870</td>\n",
       "      <td>0.403378</td>\n",
       "      <td>0.116980</td>\n",
       "      <td>0.086076</td>\n",
       "      <td>0.000000</td>\n",
       "      <td>0.000000</td>\n",
       "      <td>0.000000</td>\n",
       "      <td>0.382267</td>\n",
       "      <td>0.383825</td>\n",
       "      <td>1096395242_fc69f0ae5a.jpg</td>\n",
       "    </tr>\n",
       "    <tr>\n",
       "      <th>...</th>\n",
       "      <td>...</td>\n",
       "      <td>...</td>\n",
       "      <td>...</td>\n",
       "      <td>...</td>\n",
       "      <td>...</td>\n",
       "      <td>...</td>\n",
       "      <td>...</td>\n",
       "      <td>...</td>\n",
       "      <td>...</td>\n",
       "      <td>...</td>\n",
       "      <td>...</td>\n",
       "      <td>...</td>\n",
       "      <td>...</td>\n",
       "      <td>...</td>\n",
       "      <td>...</td>\n",
       "      <td>...</td>\n",
       "      <td>...</td>\n",
       "      <td>...</td>\n",
       "      <td>...</td>\n",
       "      <td>...</td>\n",
       "      <td>...</td>\n",
       "    </tr>\n",
       "    <tr>\n",
       "      <th>995</th>\n",
       "      <td>0.000000</td>\n",
       "      <td>0.000000</td>\n",
       "      <td>0.000000</td>\n",
       "      <td>0.000000</td>\n",
       "      <td>0.000000</td>\n",
       "      <td>0.000000</td>\n",
       "      <td>0.000000</td>\n",
       "      <td>0.000000</td>\n",
       "      <td>0.000000</td>\n",
       "      <td>0.000000</td>\n",
       "      <td>...</td>\n",
       "      <td>0.000000</td>\n",
       "      <td>0.000000</td>\n",
       "      <td>0.000000</td>\n",
       "      <td>0.000000</td>\n",
       "      <td>0.000000</td>\n",
       "      <td>0.000000</td>\n",
       "      <td>0.000000</td>\n",
       "      <td>0.000000</td>\n",
       "      <td>0.000000</td>\n",
       "      <td>929679367_ff8c7df2ee.jpg</td>\n",
       "    </tr>\n",
       "    <tr>\n",
       "      <th>996</th>\n",
       "      <td>0.000000</td>\n",
       "      <td>0.000000</td>\n",
       "      <td>0.000000</td>\n",
       "      <td>0.000000</td>\n",
       "      <td>0.000000</td>\n",
       "      <td>0.000000</td>\n",
       "      <td>0.000000</td>\n",
       "      <td>0.000000</td>\n",
       "      <td>0.000000</td>\n",
       "      <td>0.111503</td>\n",
       "      <td>...</td>\n",
       "      <td>8.123108</td>\n",
       "      <td>5.614841</td>\n",
       "      <td>1.372722</td>\n",
       "      <td>2.176105</td>\n",
       "      <td>1.186735</td>\n",
       "      <td>1.409801</td>\n",
       "      <td>1.830168</td>\n",
       "      <td>2.546668</td>\n",
       "      <td>1.543139</td>\n",
       "      <td>96420612_feb18fc6c6.jpg</td>\n",
       "    </tr>\n",
       "    <tr>\n",
       "      <th>997</th>\n",
       "      <td>0.053531</td>\n",
       "      <td>0.336881</td>\n",
       "      <td>0.460614</td>\n",
       "      <td>1.690570</td>\n",
       "      <td>1.150811</td>\n",
       "      <td>0.377166</td>\n",
       "      <td>0.072227</td>\n",
       "      <td>0.649224</td>\n",
       "      <td>0.556834</td>\n",
       "      <td>0.986798</td>\n",
       "      <td>...</td>\n",
       "      <td>0.000000</td>\n",
       "      <td>0.000000</td>\n",
       "      <td>0.719299</td>\n",
       "      <td>0.188954</td>\n",
       "      <td>0.177200</td>\n",
       "      <td>0.000000</td>\n",
       "      <td>0.000000</td>\n",
       "      <td>0.000000</td>\n",
       "      <td>0.000000</td>\n",
       "      <td>968081289_cdba83ce2e.jpg</td>\n",
       "    </tr>\n",
       "    <tr>\n",
       "      <th>998</th>\n",
       "      <td>0.000000</td>\n",
       "      <td>0.000000</td>\n",
       "      <td>0.014372</td>\n",
       "      <td>0.628642</td>\n",
       "      <td>0.519769</td>\n",
       "      <td>1.019938</td>\n",
       "      <td>0.658015</td>\n",
       "      <td>0.281683</td>\n",
       "      <td>0.837937</td>\n",
       "      <td>0.603083</td>\n",
       "      <td>...</td>\n",
       "      <td>3.590300</td>\n",
       "      <td>2.399083</td>\n",
       "      <td>0.522461</td>\n",
       "      <td>0.652743</td>\n",
       "      <td>1.201579</td>\n",
       "      <td>1.751973</td>\n",
       "      <td>2.598096</td>\n",
       "      <td>1.851995</td>\n",
       "      <td>1.659839</td>\n",
       "      <td>979383193_0a542a059d.jpg</td>\n",
       "    </tr>\n",
       "    <tr>\n",
       "      <th>999</th>\n",
       "      <td>0.029657</td>\n",
       "      <td>0.049338</td>\n",
       "      <td>0.000000</td>\n",
       "      <td>0.162801</td>\n",
       "      <td>0.837360</td>\n",
       "      <td>1.656211</td>\n",
       "      <td>1.340464</td>\n",
       "      <td>0.000000</td>\n",
       "      <td>0.177917</td>\n",
       "      <td>0.185105</td>\n",
       "      <td>...</td>\n",
       "      <td>0.000000</td>\n",
       "      <td>0.000000</td>\n",
       "      <td>1.094113</td>\n",
       "      <td>1.076941</td>\n",
       "      <td>0.000000</td>\n",
       "      <td>0.000000</td>\n",
       "      <td>0.000000</td>\n",
       "      <td>0.000000</td>\n",
       "      <td>0.000000</td>\n",
       "      <td>997722733_0cb5439472.jpg</td>\n",
       "    </tr>\n",
       "  </tbody>\n",
       "</table>\n",
       "<p>1000 rows × 25089 columns</p>\n",
       "</div>"
      ],
      "text/plain": [
       "            0         1         2         3         4         5         6  \\\n",
       "0    1.456535  1.462994  0.003790  0.000000  0.000000  0.000000  0.000000   \n",
       "1    0.000000  0.000000  0.200380  0.000000  0.000000  0.000000  0.000000   \n",
       "2    0.000000  0.000000  0.000000  0.000000  0.000000  0.000000  0.589236   \n",
       "3    0.000000  0.000000  0.000000  0.097844  0.000000  0.000000  0.000000   \n",
       "4    1.214453  1.465554  1.459179  0.256403  0.000000  0.000000  0.000000   \n",
       "..        ...       ...       ...       ...       ...       ...       ...   \n",
       "995  0.000000  0.000000  0.000000  0.000000  0.000000  0.000000  0.000000   \n",
       "996  0.000000  0.000000  0.000000  0.000000  0.000000  0.000000  0.000000   \n",
       "997  0.053531  0.336881  0.460614  1.690570  1.150811  0.377166  0.072227   \n",
       "998  0.000000  0.000000  0.014372  0.628642  0.519769  1.019938  0.658015   \n",
       "999  0.029657  0.049338  0.000000  0.162801  0.837360  1.656211  1.340464   \n",
       "\n",
       "            7         8         9  ...     25079     25080     25081  \\\n",
       "0    2.000441  2.571756  2.129662  ...  1.216898  0.794865  0.000000   \n",
       "1    0.000000  0.000000  0.000000  ...  1.047913  0.000000  0.735143   \n",
       "2    0.000000  0.000000  0.000000  ...  0.000000  0.232032  1.449345   \n",
       "3    0.000000  0.000000  0.000000  ...  0.000000  0.000000  0.000000   \n",
       "4    2.086749  5.339117  6.691867  ...  0.526870  0.403378  0.116980   \n",
       "..        ...       ...       ...  ...       ...       ...       ...   \n",
       "995  0.000000  0.000000  0.000000  ...  0.000000  0.000000  0.000000   \n",
       "996  0.000000  0.000000  0.111503  ...  8.123108  5.614841  1.372722   \n",
       "997  0.649224  0.556834  0.986798  ...  0.000000  0.000000  0.719299   \n",
       "998  0.281683  0.837937  0.603083  ...  3.590300  2.399083  0.522461   \n",
       "999  0.000000  0.177917  0.185105  ...  0.000000  0.000000  1.094113   \n",
       "\n",
       "        25082     25083     25084     25085     25086     25087  \\\n",
       "0    0.000000  0.000000  0.000000  0.000000  0.000000  0.000000   \n",
       "1    0.000000  0.000000  0.000000  0.261585  0.463040  0.007105   \n",
       "2    1.452476  0.158529  0.000000  0.000000  0.000000  0.000000   \n",
       "3    0.000000  0.000000  0.000000  0.000000  0.000000  0.000000   \n",
       "4    0.086076  0.000000  0.000000  0.000000  0.382267  0.383825   \n",
       "..        ...       ...       ...       ...       ...       ...   \n",
       "995  0.000000  0.000000  0.000000  0.000000  0.000000  0.000000   \n",
       "996  2.176105  1.186735  1.409801  1.830168  2.546668  1.543139   \n",
       "997  0.188954  0.177200  0.000000  0.000000  0.000000  0.000000   \n",
       "998  0.652743  1.201579  1.751973  2.598096  1.851995  1.659839   \n",
       "999  1.076941  0.000000  0.000000  0.000000  0.000000  0.000000   \n",
       "\n",
       "                         image  \n",
       "0    1056338697_4f7d7ce270.jpg  \n",
       "1     106490881_5a2dd9b7bd.jpg  \n",
       "2    1082379191_ec1e53f996.jpg  \n",
       "3    1084040636_97d9633581.jpg  \n",
       "4    1096395242_fc69f0ae5a.jpg  \n",
       "..                         ...  \n",
       "995   929679367_ff8c7df2ee.jpg  \n",
       "996    96420612_feb18fc6c6.jpg  \n",
       "997   968081289_cdba83ce2e.jpg  \n",
       "998   979383193_0a542a059d.jpg  \n",
       "999   997722733_0cb5439472.jpg  \n",
       "\n",
       "[1000 rows x 25089 columns]"
      ]
     },
     "execution_count": 22,
     "metadata": {},
     "output_type": "execute_result"
    }
   ],
   "source": [
    "img_vectors"
   ]
  },
  {
   "cell_type": "markdown",
   "id": "103bed9f",
   "metadata": {},
   "source": [
    "Получили датафрейм с векторами каждого изображения."
   ]
  },
  {
   "cell_type": "markdown",
   "id": "aea53bf6",
   "metadata": {
    "cellId": "z8evfugfch8wpstvnxv0t",
    "execution_id": "028ade1d-49fe-4110-8b13-3c1aecdaa142",
    "id": "aea53bf6"
   },
   "source": [
    "## 4. Векторизация текстов\n",
    "\n",
    "Следующий этап — векторизация текстов. Для получения эмбеддингов используем предобученную модель Bert."
   ]
  },
  {
   "cell_type": "markdown",
   "id": "8617a5e4",
   "metadata": {},
   "source": [
    "Инициализируем токенизатор и преобразуем текст в номера токенов из словаря:"
   ]
  },
  {
   "cell_type": "code",
   "execution_count": 23,
   "id": "beb9d3f3",
   "metadata": {},
   "outputs": [
    {
     "name": "stderr",
     "output_type": "stream",
     "text": [
      "The tokenizer class you load from this checkpoint is not the same type as the class this function is called from. It may result in unexpected tokenization. \n",
      "The tokenizer class you load from this checkpoint is 'BertTokenizer'. \n",
      "The class this function is called from is 'DistilBertTokenizer'.\n"
     ]
    }
   ],
   "source": [
    "tokenizer = transformers.DistilBertTokenizer.from_pretrained('bert-large-uncased')\n",
    "#tokenizer = transformers.DistilBertTokenizer.from_pretrained('distilbert-base-uncased')"
   ]
  },
  {
   "cell_type": "code",
   "execution_count": 24,
   "id": "770bb17b",
   "metadata": {},
   "outputs": [],
   "source": [
    "tokenized = df['query_text'].apply(lambda x: tokenizer.encode(x, add_special_tokens=True))"
   ]
  },
  {
   "cell_type": "markdown",
   "id": "9bba1db7",
   "metadata": {},
   "source": [
    "Найдем максимальную длину вектора:"
   ]
  },
  {
   "cell_type": "code",
   "execution_count": 25,
   "id": "0dfcb555",
   "metadata": {},
   "outputs": [
    {
     "data": {
      "text/plain": [
       "36"
      ]
     },
     "execution_count": 25,
     "metadata": {},
     "output_type": "execute_result"
    }
   ],
   "source": [
    "MAX_LEN=0\n",
    "for i in range(tokenized.shape[0]):\n",
    "    if len(tokenized[i]) >= MAX_LEN:\n",
    "        MAX_LEN = len(tokenized[i])\n",
    "MAX_LEN        "
   ]
  },
  {
   "cell_type": "code",
   "execution_count": 26,
   "id": "547cc362",
   "metadata": {},
   "outputs": [],
   "source": [
    "padded = np.array([i + [0]*(MAX_LEN - len(i)) for i in tokenized])\n",
    "attention_mask = np.where(padded != 0, 1, 0) "
   ]
  },
  {
   "cell_type": "code",
   "execution_count": 27,
   "id": "ae74b933",
   "metadata": {
    "scrolled": true
   },
   "outputs": [
    {
     "name": "stderr",
     "output_type": "stream",
     "text": [
      "Some weights of the model checkpoint at bert-large-uncased were not used when initializing BertModel: ['cls.predictions.transform.dense.bias', 'cls.seq_relationship.bias', 'cls.seq_relationship.weight', 'cls.predictions.transform.LayerNorm.bias', 'cls.predictions.decoder.weight', 'cls.predictions.bias', 'cls.predictions.transform.LayerNorm.weight', 'cls.predictions.transform.dense.weight']\n",
      "- This IS expected if you are initializing BertModel from the checkpoint of a model trained on another task or with another architecture (e.g. initializing a BertForSequenceClassification model from a BertForPreTraining model).\n",
      "- This IS NOT expected if you are initializing BertModel from the checkpoint of a model that you expect to be exactly identical (initializing a BertForSequenceClassification model from a BertForSequenceClassification model).\n"
     ]
    }
   ],
   "source": [
    "bert_model = transformers.BertModel.from_pretrained('bert-large-uncased',  ignore_mismatched_sizes=True)\n",
    "#bert_model = transformers.DistilBertModel.from_pretrained('distilbert-base-uncased', max_position_embeddings=36, ignore_mismatched_sizes=True)"
   ]
  },
  {
   "cell_type": "markdown",
   "id": "1c37829a",
   "metadata": {},
   "source": [
    "Получаем эмбеддинги для каждого вектора и формируем в один датафрейм:"
   ]
  },
  {
   "cell_type": "code",
   "execution_count": 28,
   "id": "f1eaf87b",
   "metadata": {},
   "outputs": [
    {
     "data": {
      "application/vnd.jupyter.widget-view+json": {
       "model_id": "e6e5031475dc4459866f58760133ebbe",
       "version_major": 2,
       "version_minor": 0
      },
      "text/plain": [
       "  0%|          | 0/47 [00:00<?, ?it/s]"
      ]
     },
     "metadata": {},
     "output_type": "display_data"
    },
    {
     "name": "stdout",
     "output_type": "stream",
     "text": [
      "CPU times: total: 1h 8min 35s\n",
      "Wall time: 10min 9s\n"
     ]
    }
   ],
   "source": [
    "%%time\n",
    "\n",
    "batch_size = 100\n",
    "embeddings = []\n",
    "for i in notebook.tqdm(range((padded.shape[0] // batch_size)+1)):\n",
    "        batch = torch.LongTensor(padded[batch_size*i:batch_size*(i+1)]) \n",
    "        attention_mask_batch = torch.LongTensor(attention_mask[batch_size*i:batch_size*(i+1)])\n",
    "        \n",
    "        with torch.no_grad():\n",
    "            batch_embeddings = bert_model(batch, attention_mask=attention_mask_batch)\n",
    "        \n",
    "        embeddings.append(batch_embeddings[0][:,0,:].numpy())"
   ]
  },
  {
   "cell_type": "code",
   "execution_count": 29,
   "id": "7f8236f1",
   "metadata": {},
   "outputs": [
    {
     "name": "stdout",
     "output_type": "stream",
     "text": [
      "(4630, 1024)\n"
     ]
    }
   ],
   "source": [
    "features = np.concatenate(embeddings)\n",
    "\n",
    "print(features.shape)"
   ]
  },
  {
   "cell_type": "code",
   "execution_count": 30,
   "id": "60c69905",
   "metadata": {},
   "outputs": [],
   "source": [
    "txt_vectors = pd.DataFrame(features)"
   ]
  },
  {
   "cell_type": "code",
   "execution_count": 31,
   "id": "4093da15",
   "metadata": {},
   "outputs": [
    {
     "data": {
      "text/html": [
       "<div>\n",
       "<style scoped>\n",
       "    .dataframe tbody tr th:only-of-type {\n",
       "        vertical-align: middle;\n",
       "    }\n",
       "\n",
       "    .dataframe tbody tr th {\n",
       "        vertical-align: top;\n",
       "    }\n",
       "\n",
       "    .dataframe thead th {\n",
       "        text-align: right;\n",
       "    }\n",
       "</style>\n",
       "<table border=\"1\" class=\"dataframe\">\n",
       "  <thead>\n",
       "    <tr style=\"text-align: right;\">\n",
       "      <th></th>\n",
       "      <th>0</th>\n",
       "      <th>1</th>\n",
       "      <th>2</th>\n",
       "      <th>3</th>\n",
       "      <th>4</th>\n",
       "      <th>5</th>\n",
       "      <th>6</th>\n",
       "      <th>7</th>\n",
       "      <th>8</th>\n",
       "      <th>9</th>\n",
       "      <th>...</th>\n",
       "      <th>1014</th>\n",
       "      <th>1015</th>\n",
       "      <th>1016</th>\n",
       "      <th>1017</th>\n",
       "      <th>1018</th>\n",
       "      <th>1019</th>\n",
       "      <th>1020</th>\n",
       "      <th>1021</th>\n",
       "      <th>1022</th>\n",
       "      <th>1023</th>\n",
       "    </tr>\n",
       "  </thead>\n",
       "  <tbody>\n",
       "    <tr>\n",
       "      <th>0</th>\n",
       "      <td>-0.630078</td>\n",
       "      <td>0.211911</td>\n",
       "      <td>-1.126594</td>\n",
       "      <td>-0.050744</td>\n",
       "      <td>-0.195052</td>\n",
       "      <td>0.454618</td>\n",
       "      <td>0.120905</td>\n",
       "      <td>0.844596</td>\n",
       "      <td>1.223745</td>\n",
       "      <td>0.412088</td>\n",
       "      <td>...</td>\n",
       "      <td>0.853184</td>\n",
       "      <td>-0.184983</td>\n",
       "      <td>-0.018171</td>\n",
       "      <td>-0.142256</td>\n",
       "      <td>0.155663</td>\n",
       "      <td>0.011803</td>\n",
       "      <td>-0.205833</td>\n",
       "      <td>-0.297778</td>\n",
       "      <td>0.845023</td>\n",
       "      <td>0.570320</td>\n",
       "    </tr>\n",
       "    <tr>\n",
       "      <th>1</th>\n",
       "      <td>-0.630078</td>\n",
       "      <td>0.211911</td>\n",
       "      <td>-1.126594</td>\n",
       "      <td>-0.050744</td>\n",
       "      <td>-0.195052</td>\n",
       "      <td>0.454618</td>\n",
       "      <td>0.120905</td>\n",
       "      <td>0.844596</td>\n",
       "      <td>1.223745</td>\n",
       "      <td>0.412088</td>\n",
       "      <td>...</td>\n",
       "      <td>0.853184</td>\n",
       "      <td>-0.184983</td>\n",
       "      <td>-0.018171</td>\n",
       "      <td>-0.142256</td>\n",
       "      <td>0.155663</td>\n",
       "      <td>0.011803</td>\n",
       "      <td>-0.205833</td>\n",
       "      <td>-0.297778</td>\n",
       "      <td>0.845023</td>\n",
       "      <td>0.570320</td>\n",
       "    </tr>\n",
       "    <tr>\n",
       "      <th>2</th>\n",
       "      <td>-0.630078</td>\n",
       "      <td>0.211911</td>\n",
       "      <td>-1.126594</td>\n",
       "      <td>-0.050744</td>\n",
       "      <td>-0.195052</td>\n",
       "      <td>0.454618</td>\n",
       "      <td>0.120905</td>\n",
       "      <td>0.844596</td>\n",
       "      <td>1.223745</td>\n",
       "      <td>0.412088</td>\n",
       "      <td>...</td>\n",
       "      <td>0.853184</td>\n",
       "      <td>-0.184983</td>\n",
       "      <td>-0.018171</td>\n",
       "      <td>-0.142256</td>\n",
       "      <td>0.155663</td>\n",
       "      <td>0.011803</td>\n",
       "      <td>-0.205833</td>\n",
       "      <td>-0.297778</td>\n",
       "      <td>0.845023</td>\n",
       "      <td>0.570320</td>\n",
       "    </tr>\n",
       "    <tr>\n",
       "      <th>3</th>\n",
       "      <td>-0.630078</td>\n",
       "      <td>0.211911</td>\n",
       "      <td>-1.126594</td>\n",
       "      <td>-0.050744</td>\n",
       "      <td>-0.195052</td>\n",
       "      <td>0.454618</td>\n",
       "      <td>0.120905</td>\n",
       "      <td>0.844596</td>\n",
       "      <td>1.223745</td>\n",
       "      <td>0.412088</td>\n",
       "      <td>...</td>\n",
       "      <td>0.853184</td>\n",
       "      <td>-0.184983</td>\n",
       "      <td>-0.018171</td>\n",
       "      <td>-0.142256</td>\n",
       "      <td>0.155663</td>\n",
       "      <td>0.011803</td>\n",
       "      <td>-0.205833</td>\n",
       "      <td>-0.297778</td>\n",
       "      <td>0.845023</td>\n",
       "      <td>0.570320</td>\n",
       "    </tr>\n",
       "    <tr>\n",
       "      <th>4</th>\n",
       "      <td>-0.630078</td>\n",
       "      <td>0.211911</td>\n",
       "      <td>-1.126594</td>\n",
       "      <td>-0.050744</td>\n",
       "      <td>-0.195052</td>\n",
       "      <td>0.454618</td>\n",
       "      <td>0.120905</td>\n",
       "      <td>0.844596</td>\n",
       "      <td>1.223745</td>\n",
       "      <td>0.412088</td>\n",
       "      <td>...</td>\n",
       "      <td>0.853184</td>\n",
       "      <td>-0.184983</td>\n",
       "      <td>-0.018171</td>\n",
       "      <td>-0.142256</td>\n",
       "      <td>0.155663</td>\n",
       "      <td>0.011803</td>\n",
       "      <td>-0.205833</td>\n",
       "      <td>-0.297778</td>\n",
       "      <td>0.845023</td>\n",
       "      <td>0.570320</td>\n",
       "    </tr>\n",
       "    <tr>\n",
       "      <th>...</th>\n",
       "      <td>...</td>\n",
       "      <td>...</td>\n",
       "      <td>...</td>\n",
       "      <td>...</td>\n",
       "      <td>...</td>\n",
       "      <td>...</td>\n",
       "      <td>...</td>\n",
       "      <td>...</td>\n",
       "      <td>...</td>\n",
       "      <td>...</td>\n",
       "      <td>...</td>\n",
       "      <td>...</td>\n",
       "      <td>...</td>\n",
       "      <td>...</td>\n",
       "      <td>...</td>\n",
       "      <td>...</td>\n",
       "      <td>...</td>\n",
       "      <td>...</td>\n",
       "      <td>...</td>\n",
       "      <td>...</td>\n",
       "      <td>...</td>\n",
       "    </tr>\n",
       "    <tr>\n",
       "      <th>4625</th>\n",
       "      <td>-0.100240</td>\n",
       "      <td>-0.072855</td>\n",
       "      <td>-0.434183</td>\n",
       "      <td>-0.110113</td>\n",
       "      <td>-0.245369</td>\n",
       "      <td>-0.657806</td>\n",
       "      <td>-0.234010</td>\n",
       "      <td>0.182713</td>\n",
       "      <td>0.634999</td>\n",
       "      <td>0.036176</td>\n",
       "      <td>...</td>\n",
       "      <td>0.494733</td>\n",
       "      <td>0.215826</td>\n",
       "      <td>0.169165</td>\n",
       "      <td>0.270166</td>\n",
       "      <td>0.313629</td>\n",
       "      <td>0.025998</td>\n",
       "      <td>0.223498</td>\n",
       "      <td>-0.473992</td>\n",
       "      <td>0.020720</td>\n",
       "      <td>0.274330</td>\n",
       "    </tr>\n",
       "    <tr>\n",
       "      <th>4626</th>\n",
       "      <td>-0.350423</td>\n",
       "      <td>0.375053</td>\n",
       "      <td>-0.848512</td>\n",
       "      <td>0.144301</td>\n",
       "      <td>0.141994</td>\n",
       "      <td>0.176701</td>\n",
       "      <td>-0.065102</td>\n",
       "      <td>0.607299</td>\n",
       "      <td>0.930639</td>\n",
       "      <td>0.181541</td>\n",
       "      <td>...</td>\n",
       "      <td>0.019961</td>\n",
       "      <td>-0.033051</td>\n",
       "      <td>-0.292232</td>\n",
       "      <td>0.351066</td>\n",
       "      <td>0.315154</td>\n",
       "      <td>0.153647</td>\n",
       "      <td>-0.019770</td>\n",
       "      <td>-0.491314</td>\n",
       "      <td>-0.012695</td>\n",
       "      <td>0.135057</td>\n",
       "    </tr>\n",
       "    <tr>\n",
       "      <th>4627</th>\n",
       "      <td>-0.581737</td>\n",
       "      <td>-0.244437</td>\n",
       "      <td>-1.266929</td>\n",
       "      <td>-0.022641</td>\n",
       "      <td>-0.157392</td>\n",
       "      <td>0.551860</td>\n",
       "      <td>0.277077</td>\n",
       "      <td>0.272831</td>\n",
       "      <td>1.195415</td>\n",
       "      <td>0.226663</td>\n",
       "      <td>...</td>\n",
       "      <td>0.143346</td>\n",
       "      <td>-0.197774</td>\n",
       "      <td>-0.530073</td>\n",
       "      <td>0.773531</td>\n",
       "      <td>0.599674</td>\n",
       "      <td>0.960711</td>\n",
       "      <td>0.069931</td>\n",
       "      <td>-0.575454</td>\n",
       "      <td>0.023520</td>\n",
       "      <td>0.204774</td>\n",
       "    </tr>\n",
       "    <tr>\n",
       "      <th>4628</th>\n",
       "      <td>-0.223642</td>\n",
       "      <td>-0.657285</td>\n",
       "      <td>-0.575864</td>\n",
       "      <td>-0.030740</td>\n",
       "      <td>-0.693219</td>\n",
       "      <td>0.440351</td>\n",
       "      <td>-0.438477</td>\n",
       "      <td>0.242802</td>\n",
       "      <td>0.423493</td>\n",
       "      <td>0.015072</td>\n",
       "      <td>...</td>\n",
       "      <td>-0.006099</td>\n",
       "      <td>-0.436061</td>\n",
       "      <td>-0.563592</td>\n",
       "      <td>1.116406</td>\n",
       "      <td>-0.175166</td>\n",
       "      <td>0.267113</td>\n",
       "      <td>0.063440</td>\n",
       "      <td>-0.830005</td>\n",
       "      <td>-0.535819</td>\n",
       "      <td>0.207307</td>\n",
       "    </tr>\n",
       "    <tr>\n",
       "      <th>4629</th>\n",
       "      <td>-0.656523</td>\n",
       "      <td>0.355763</td>\n",
       "      <td>-0.784024</td>\n",
       "      <td>0.394862</td>\n",
       "      <td>0.250861</td>\n",
       "      <td>0.328903</td>\n",
       "      <td>-0.010222</td>\n",
       "      <td>0.498111</td>\n",
       "      <td>1.560948</td>\n",
       "      <td>-0.069783</td>\n",
       "      <td>...</td>\n",
       "      <td>0.423531</td>\n",
       "      <td>-0.378886</td>\n",
       "      <td>-0.351605</td>\n",
       "      <td>0.773239</td>\n",
       "      <td>0.391915</td>\n",
       "      <td>0.325373</td>\n",
       "      <td>-0.070757</td>\n",
       "      <td>-0.754489</td>\n",
       "      <td>0.281005</td>\n",
       "      <td>0.451600</td>\n",
       "    </tr>\n",
       "  </tbody>\n",
       "</table>\n",
       "<p>4630 rows × 1024 columns</p>\n",
       "</div>"
      ],
      "text/plain": [
       "          0         1         2         3         4         5         6     \\\n",
       "0    -0.630078  0.211911 -1.126594 -0.050744 -0.195052  0.454618  0.120905   \n",
       "1    -0.630078  0.211911 -1.126594 -0.050744 -0.195052  0.454618  0.120905   \n",
       "2    -0.630078  0.211911 -1.126594 -0.050744 -0.195052  0.454618  0.120905   \n",
       "3    -0.630078  0.211911 -1.126594 -0.050744 -0.195052  0.454618  0.120905   \n",
       "4    -0.630078  0.211911 -1.126594 -0.050744 -0.195052  0.454618  0.120905   \n",
       "...        ...       ...       ...       ...       ...       ...       ...   \n",
       "4625 -0.100240 -0.072855 -0.434183 -0.110113 -0.245369 -0.657806 -0.234010   \n",
       "4626 -0.350423  0.375053 -0.848512  0.144301  0.141994  0.176701 -0.065102   \n",
       "4627 -0.581737 -0.244437 -1.266929 -0.022641 -0.157392  0.551860  0.277077   \n",
       "4628 -0.223642 -0.657285 -0.575864 -0.030740 -0.693219  0.440351 -0.438477   \n",
       "4629 -0.656523  0.355763 -0.784024  0.394862  0.250861  0.328903 -0.010222   \n",
       "\n",
       "          7         8         9     ...      1014      1015      1016  \\\n",
       "0     0.844596  1.223745  0.412088  ...  0.853184 -0.184983 -0.018171   \n",
       "1     0.844596  1.223745  0.412088  ...  0.853184 -0.184983 -0.018171   \n",
       "2     0.844596  1.223745  0.412088  ...  0.853184 -0.184983 -0.018171   \n",
       "3     0.844596  1.223745  0.412088  ...  0.853184 -0.184983 -0.018171   \n",
       "4     0.844596  1.223745  0.412088  ...  0.853184 -0.184983 -0.018171   \n",
       "...        ...       ...       ...  ...       ...       ...       ...   \n",
       "4625  0.182713  0.634999  0.036176  ...  0.494733  0.215826  0.169165   \n",
       "4626  0.607299  0.930639  0.181541  ...  0.019961 -0.033051 -0.292232   \n",
       "4627  0.272831  1.195415  0.226663  ...  0.143346 -0.197774 -0.530073   \n",
       "4628  0.242802  0.423493  0.015072  ... -0.006099 -0.436061 -0.563592   \n",
       "4629  0.498111  1.560948 -0.069783  ...  0.423531 -0.378886 -0.351605   \n",
       "\n",
       "          1017      1018      1019      1020      1021      1022      1023  \n",
       "0    -0.142256  0.155663  0.011803 -0.205833 -0.297778  0.845023  0.570320  \n",
       "1    -0.142256  0.155663  0.011803 -0.205833 -0.297778  0.845023  0.570320  \n",
       "2    -0.142256  0.155663  0.011803 -0.205833 -0.297778  0.845023  0.570320  \n",
       "3    -0.142256  0.155663  0.011803 -0.205833 -0.297778  0.845023  0.570320  \n",
       "4    -0.142256  0.155663  0.011803 -0.205833 -0.297778  0.845023  0.570320  \n",
       "...        ...       ...       ...       ...       ...       ...       ...  \n",
       "4625  0.270166  0.313629  0.025998  0.223498 -0.473992  0.020720  0.274330  \n",
       "4626  0.351066  0.315154  0.153647 -0.019770 -0.491314 -0.012695  0.135057  \n",
       "4627  0.773531  0.599674  0.960711  0.069931 -0.575454  0.023520  0.204774  \n",
       "4628  1.116406 -0.175166  0.267113  0.063440 -0.830005 -0.535819  0.207307  \n",
       "4629  0.773239  0.391915  0.325373 -0.070757 -0.754489  0.281005  0.451600  \n",
       "\n",
       "[4630 rows x 1024 columns]"
      ]
     },
     "execution_count": 31,
     "metadata": {},
     "output_type": "execute_result"
    }
   ],
   "source": [
    "txt_vectors"
   ]
  },
  {
   "cell_type": "markdown",
   "id": "e933559e",
   "metadata": {},
   "source": [
    "Получили датафрейм с векторами текстов."
   ]
  },
  {
   "cell_type": "markdown",
   "id": "760c0ccd",
   "metadata": {
    "cellId": "yci1zcmnsacl720fr75sb",
    "execution_id": "5ecfa9d5-3913-4fb3-a33e-99bab3798577",
    "id": "760c0ccd"
   },
   "source": [
    "## 5. Объединение векторов\n",
    "\n",
    "Далле объединим датафрейм векторов изображений и векторов текстов с целевой переменной по общему столбцу image:"
   ]
  },
  {
   "cell_type": "code",
   "execution_count": 32,
   "id": "416a9319",
   "metadata": {},
   "outputs": [],
   "source": [
    "txt_vectors['image'] = df['image']\n",
    "img_vectors['image'] = df['image']\n",
    "txt_vectors['mark'] = df['mark']"
   ]
  },
  {
   "cell_type": "code",
   "execution_count": 33,
   "id": "88447c13",
   "metadata": {},
   "outputs": [],
   "source": [
    "final_df = txt_vectors.merge(img_vectors, on='image', suffixes=('', '_'), how='right')\n",
    "final_df = final_df.dropna()"
   ]
  },
  {
   "cell_type": "code",
   "execution_count": 34,
   "id": "b747671f",
   "metadata": {
    "cellId": "n64cmotqegij9arvbc7sxf",
    "id": "b747671f"
   },
   "outputs": [
    {
     "data": {
      "text/plain": [
       "(5093, 26114)"
      ]
     },
     "execution_count": 34,
     "metadata": {},
     "output_type": "execute_result"
    }
   ],
   "source": [
    "final_df.shape"
   ]
  },
  {
   "cell_type": "markdown",
   "id": "8ac21c87",
   "metadata": {},
   "source": [
    "Получаем таблицу из 5093 строк и 25858 столбцов."
   ]
  },
  {
   "cell_type": "markdown",
   "id": "60bc5668",
   "metadata": {
    "cellId": "97c9jj3s2zjj62vznivsk",
    "execution_id": "1a2d7233-0c79-479a-be63-5787145e3b48",
    "id": "60bc5668"
   },
   "source": [
    "## 6. Обучение модели предсказания соответствия\n",
    "\n",
    "Для обучения разделим датасет на тренировочную и валидационную выборки так, что строки с одинаковым значением `image` будут содержаться либо в обучающем, либо в валидационном датасете."
   ]
  },
  {
   "cell_type": "code",
   "execution_count": 35,
   "id": "a723a8ad",
   "metadata": {
    "cellId": "v1ntb27jt4z9fazi1y8me",
    "id": "a723a8ad"
   },
   "outputs": [],
   "source": [
    "gss = GroupShuffleSplit(n_splits=1, train_size=.7, random_state=42)\n",
    "train_indices, test_indices = next(gss.split(X=final_df.drop(columns=['mark']), y=final_df['mark'], groups=final_df['image']))\n",
    "train_df, test_df = final_df.loc[train_indices], final_df.loc[test_indices]"
   ]
  },
  {
   "cell_type": "markdown",
   "id": "cdc4418d",
   "metadata": {},
   "source": [
    "Определим целевой признак:"
   ]
  },
  {
   "cell_type": "code",
   "execution_count": 36,
   "id": "bf29d802",
   "metadata": {},
   "outputs": [],
   "source": [
    "X_train = train_df.drop(['mark', 'image'], axis=1)\n",
    "y_train = train_df['mark']\n",
    "\n",
    "X_test = test_df.drop(['mark', 'image'], axis=1)\n",
    "y_test = test_df['mark']"
   ]
  },
  {
   "cell_type": "markdown",
   "id": "769f33fc",
   "metadata": {},
   "source": [
    "### 6.1 Логистическая регрессия"
   ]
  },
  {
   "cell_type": "markdown",
   "id": "603a784d",
   "metadata": {},
   "source": [
    "Первой используем логистичесткую регрессию, и тк классы не сбалансированы, поставим class_weight='balanced'."
   ]
  },
  {
   "cell_type": "code",
   "execution_count": 37,
   "id": "c330325f",
   "metadata": {},
   "outputs": [],
   "source": [
    "model_lr = LogisticRegression(random_state=42, solver='liblinear', class_weight='balanced')"
   ]
  },
  {
   "cell_type": "markdown",
   "id": "7abdf09d",
   "metadata": {},
   "source": [
    "Найдем вероятность принадлежности модели к одному из классов, а также среднеквадратичное отклонение:"
   ]
  },
  {
   "cell_type": "code",
   "execution_count": 38,
   "id": "5789574b",
   "metadata": {},
   "outputs": [
    {
     "ename": "ValueError",
     "evalue": "Classification metrics can't handle a mix of binary and continuous targets",
     "output_type": "error",
     "traceback": [
      "\u001b[1;31m---------------------------------------------------------------------------\u001b[0m",
      "\u001b[1;31mValueError\u001b[0m                                Traceback (most recent call last)",
      "Input \u001b[1;32mIn [38]\u001b[0m, in \u001b[0;36m<cell line: 5>\u001b[1;34m()\u001b[0m\n\u001b[0;32m      2\u001b[0m pred_prob \u001b[38;5;241m=\u001b[39m model_lr\u001b[38;5;241m.\u001b[39mpredict_proba(X_test) \n\u001b[0;32m      3\u001b[0m pred_prob \u001b[38;5;241m=\u001b[39m pred_prob[:, \u001b[38;5;241m1\u001b[39m]\n\u001b[1;32m----> 5\u001b[0m rmse_lr \u001b[38;5;241m=\u001b[39m \u001b[38;5;28mround\u001b[39m(\u001b[43maccuracy_score\u001b[49m\u001b[43m(\u001b[49m\u001b[43my_test\u001b[49m\u001b[43m,\u001b[49m\u001b[43m \u001b[49m\u001b[43mpred_prob\u001b[49m\u001b[43m)\u001b[49m,\u001b[38;5;241m3\u001b[39m)\n\u001b[0;32m      6\u001b[0m \u001b[38;5;28mprint\u001b[39m(\u001b[38;5;124m'\u001b[39m\u001b[38;5;124macc:\u001b[39m\u001b[38;5;124m'\u001b[39m, rmse_lr)\n",
      "File \u001b[1;32m~\\AppData\\Local\\Programs\\Python\\Python310\\lib\\site-packages\\sklearn\\metrics\\_classification.py:211\u001b[0m, in \u001b[0;36maccuracy_score\u001b[1;34m(y_true, y_pred, normalize, sample_weight)\u001b[0m\n\u001b[0;32m    145\u001b[0m \u001b[38;5;124;03m\"\"\"Accuracy classification score.\u001b[39;00m\n\u001b[0;32m    146\u001b[0m \n\u001b[0;32m    147\u001b[0m \u001b[38;5;124;03mIn multilabel classification, this function computes subset accuracy:\u001b[39;00m\n\u001b[1;32m   (...)\u001b[0m\n\u001b[0;32m    207\u001b[0m \u001b[38;5;124;03m0.5\u001b[39;00m\n\u001b[0;32m    208\u001b[0m \u001b[38;5;124;03m\"\"\"\u001b[39;00m\n\u001b[0;32m    210\u001b[0m \u001b[38;5;66;03m# Compute accuracy for each possible representation\u001b[39;00m\n\u001b[1;32m--> 211\u001b[0m y_type, y_true, y_pred \u001b[38;5;241m=\u001b[39m \u001b[43m_check_targets\u001b[49m\u001b[43m(\u001b[49m\u001b[43my_true\u001b[49m\u001b[43m,\u001b[49m\u001b[43m \u001b[49m\u001b[43my_pred\u001b[49m\u001b[43m)\u001b[49m\n\u001b[0;32m    212\u001b[0m check_consistent_length(y_true, y_pred, sample_weight)\n\u001b[0;32m    213\u001b[0m \u001b[38;5;28;01mif\u001b[39;00m y_type\u001b[38;5;241m.\u001b[39mstartswith(\u001b[38;5;124m\"\u001b[39m\u001b[38;5;124mmultilabel\u001b[39m\u001b[38;5;124m\"\u001b[39m):\n",
      "File \u001b[1;32m~\\AppData\\Local\\Programs\\Python\\Python310\\lib\\site-packages\\sklearn\\metrics\\_classification.py:93\u001b[0m, in \u001b[0;36m_check_targets\u001b[1;34m(y_true, y_pred)\u001b[0m\n\u001b[0;32m     90\u001b[0m     y_type \u001b[38;5;241m=\u001b[39m {\u001b[38;5;124m\"\u001b[39m\u001b[38;5;124mmulticlass\u001b[39m\u001b[38;5;124m\"\u001b[39m}\n\u001b[0;32m     92\u001b[0m \u001b[38;5;28;01mif\u001b[39;00m \u001b[38;5;28mlen\u001b[39m(y_type) \u001b[38;5;241m>\u001b[39m \u001b[38;5;241m1\u001b[39m:\n\u001b[1;32m---> 93\u001b[0m     \u001b[38;5;28;01mraise\u001b[39;00m \u001b[38;5;167;01mValueError\u001b[39;00m(\n\u001b[0;32m     94\u001b[0m         \u001b[38;5;124m\"\u001b[39m\u001b[38;5;124mClassification metrics can\u001b[39m\u001b[38;5;124m'\u001b[39m\u001b[38;5;124mt handle a mix of \u001b[39m\u001b[38;5;132;01m{0}\u001b[39;00m\u001b[38;5;124m and \u001b[39m\u001b[38;5;132;01m{1}\u001b[39;00m\u001b[38;5;124m targets\u001b[39m\u001b[38;5;124m\"\u001b[39m\u001b[38;5;241m.\u001b[39mformat(\n\u001b[0;32m     95\u001b[0m             type_true, type_pred\n\u001b[0;32m     96\u001b[0m         )\n\u001b[0;32m     97\u001b[0m     )\n\u001b[0;32m     99\u001b[0m \u001b[38;5;66;03m# We can't have more than one value on y_type => The set is no more needed\u001b[39;00m\n\u001b[0;32m    100\u001b[0m y_type \u001b[38;5;241m=\u001b[39m y_type\u001b[38;5;241m.\u001b[39mpop()\n",
      "\u001b[1;31mValueError\u001b[0m: Classification metrics can't handle a mix of binary and continuous targets"
     ]
    }
   ],
   "source": [
    "model_lr.fit(X_train, y_train)\n",
    "pred_prob = model_lr.predict_proba(X_test) \n",
    "pred_prob = pred_prob[:, 1]\n",
    "\n",
    "rmse_lr = round(accuracy_score(y_test, pred_prob),3)\n",
    "print('acc:', rmse_lr)"
   ]
  },
  {
   "cell_type": "markdown",
   "id": "67148cbd",
   "metadata": {},
   "source": [
    "### 6.2 Полносвязная сеть"
   ]
  },
  {
   "cell_type": "markdown",
   "id": "f828db36",
   "metadata": {},
   "source": [
    "В качестве второй модели попробуем полноствязную нейронную сеть:"
   ]
  },
  {
   "cell_type": "code",
   "execution_count": null,
   "id": "c384a237",
   "metadata": {},
   "outputs": [],
   "source": [
    "opt = Adam(learning_rate=3e-5)\n",
    "model = keras.models.Sequential()\n",
    "model.add(keras.layers.Dense(units=10, input_dim = X_train.shape[1],  activation='relu'))\n",
    "model.add(keras.layers.Dense(units=2,  input_dim = 10, activation='sigmoid'))\n",
    "model.compile(loss='sparse_categorical_crossentropy', optimizer=opt, metrics=['acc'])\n",
    "model.fit(X_train, y_train, epochs=15, verbose=0,\n",
    "          validation_data=(X_test, y_test))"
   ]
  },
  {
   "cell_type": "code",
   "execution_count": null,
   "id": "4fcf1d40",
   "metadata": {},
   "outputs": [],
   "source": [
    "pred_prob = model.predict(X_test)\n",
    "pred_prob =  pred_prob[:, 1] "
   ]
  },
  {
   "cell_type": "code",
   "execution_count": null,
   "id": "70defc4d",
   "metadata": {},
   "outputs": [],
   "source": [
    "rmse_keras = round(accuracy_score(y_test, pred_prob), 3) \n",
    "print('acc:', rmse_keras)"
   ]
  },
  {
   "cell_type": "markdown",
   "id": "e15a6726",
   "metadata": {},
   "source": [
    "### 6.3 CatBoost"
   ]
  },
  {
   "cell_type": "code",
   "execution_count": null,
   "id": "4824939f",
   "metadata": {},
   "outputs": [],
   "source": [
    "model_cb = CatBoostClassifier(depth=5, iterations=1000, random_state=42, learning_rate=0.003, verbose=200)"
   ]
  },
  {
   "cell_type": "code",
   "execution_count": null,
   "id": "443dd662",
   "metadata": {},
   "outputs": [],
   "source": [
    "model_cb.fit(X_train, y_train)\n",
    "pred_prob = model_cb.predict_proba(X_test) \n",
    "pred_prob = pred_prob[:, 1]\n",
    "rmse_cb = round(accuracy_score(y_test, pred_prob), 3)\n",
    "print('acc:', rmse_cb)"
   ]
  },
  {
   "cell_type": "markdown",
   "id": "e513aeae",
   "metadata": {},
   "source": [
    "Объединим результаты в одну таблицу:"
   ]
  },
  {
   "cell_type": "code",
   "execution_count": null,
   "id": "d4272162",
   "metadata": {},
   "outputs": [],
   "source": [
    "results = pd.DataFrame([\n",
    "    [rmse_lr],\n",
    "    [rmse_keras],\n",
    "    [rmse_cb]], \n",
    "    columns=['RMSE'],\n",
    "    index=['LogisticRegression', 'Keras', 'CatBoost'])\n",
    "results.sort_values(by='RMSE')"
   ]
  },
  {
   "cell_type": "markdown",
   "id": "872f743c",
   "metadata": {},
   "source": [
    "Наименьшее значение имеет модель CatBoost."
   ]
  },
  {
   "cell_type": "markdown",
   "id": "2f870d77",
   "metadata": {
    "cellId": "tbnfwg686jpxjdsw7cqbl",
    "execution_id": "5e14c3be-a481-438e-a979-0f4621acea44",
    "id": "2f870d77"
   },
   "source": [
    "## 7. Тестирование модели\n",
    "\n",
    "Для тестирования лучшей модели напишем функцию, получающую на вход текст запроса и эмбеддинги для всех тестовых изображений из папки `test_images`."
   ]
  },
  {
   "cell_type": "code",
   "execution_count": null,
   "id": "a033bef8",
   "metadata": {},
   "outputs": [],
   "source": [
    "wordfilter = Wordfilter()             # фильтр для слов, неприемлемых для поиска\n",
    "wordfilter.clearList()\n",
    "wordfilter.addWords(bad_query)"
   ]
  },
  {
   "cell_type": "markdown",
   "id": "915f6af9",
   "metadata": {},
   "source": [
    "Аналогично с обучающим датасетом получаем эмбеддинги для изображений:"
   ]
  },
  {
   "cell_type": "code",
   "execution_count": null,
   "id": "61ec3636",
   "metadata": {},
   "outputs": [],
   "source": [
    "imgs = []\n",
    "path = \"C:/Users/Jepka/Documents/projects/yandex-practicum-DS-plus/17_sborn_proj_4/test_images\"\n",
    "for f in os.listdir(path):\n",
    "    imgs.append(Image.open(os.path.join(path,f)).convert('RGB'))"
   ]
  },
  {
   "cell_type": "code",
   "execution_count": null,
   "id": "94a1d29e",
   "metadata": {},
   "outputs": [],
   "source": [
    "img_tensor_list = []\n",
    "for img in imgs:\n",
    "    image_tensor = preprocess(img).unsqueeze(0)\n",
    "    output_img_tensor = resnet(image_tensor).flatten()\n",
    "    output_img_tensor = output_img_tensor.detach().numpy()\n",
    "    img_tensor_list.append(output_img_tensor)"
   ]
  },
  {
   "cell_type": "code",
   "execution_count": null,
   "id": "464c17d3",
   "metadata": {},
   "outputs": [],
   "source": [
    "img_vectors = pd.DataFrame(np.array(img_tensor_list))"
   ]
  },
  {
   "cell_type": "markdown",
   "id": "deb48af3",
   "metadata": {},
   "source": [
    "Определим функции:"
   ]
  },
  {
   "cell_type": "code",
   "execution_count": null,
   "id": "11a91458",
   "metadata": {},
   "outputs": [],
   "source": [
    "def prob(emb, df):\n",
    "    emb = emb.add_suffix('_')\n",
    "    e = pd.concat([emb, df], axis=1, )\n",
    "    #proba = model.predict(e, verbose=0) \n",
    "    proba = model_cb.predict_proba(e)              # получаем столбец с вероятностями\n",
    "    proba = proba[:, 1]\n",
    "\n",
    "    probs = pd.Series(proba).sort_values(ascending=False)[0:3]  # берем 3 лучших \n",
    "    indxs = []\n",
    "    for i in range(len(probs)):\n",
    "        indxs.append(probs.index[i])\n",
    "    print(indxs)\n",
    "    return indxs"
   ]
  },
  {
   "cell_type": "code",
   "execution_count": null,
   "id": "d4194f9b",
   "metadata": {},
   "outputs": [],
   "source": [
    "def testing(query_num):\n",
    "    queries = df['query_text'].sample(query_num)\n",
    "    img_df = img_vectors\n",
    "    for query in queries:\n",
    "        if wordfilter.blacklisted(query) == True:\n",
    "            print('This image is unavailable in your country in compliance with local laws.')\n",
    "        else:\n",
    "            print(query)\n",
    "            tokenized = tokenizer.encode(query, add_special_tokens=True)\n",
    "            padded = np.array(tokenized + [0]*(MAX_LEN - len(tokenized)))\n",
    "            attention_mask = np.where(padded != 0, 1, 0)\n",
    "            batch = torch.LongTensor(padded)\n",
    "            attention_mask_batch = torch.LongTensor(attention_mask)            \n",
    "            \n",
    "            with torch.no_grad():\n",
    "                emb = bert_model(batch.unsqueeze(0), attention_mask=attention_mask_batch.unsqueeze(0))         \n",
    "                emb = emb[0][:,0,:].numpy()\n",
    "                \n",
    "            emb = pd.DataFrame(emb).T\n",
    "            \n",
    "            emb[1] = emb\n",
    "            for i in range(1,100):\n",
    "                emb[i] = emb[i-1]\n",
    "                \n",
    "            emb = emb.T\n",
    "            indxs = prob(emb, img_df)\n",
    "    for i in indxs:\n",
    "        display(imgs[i])"
   ]
  },
  {
   "cell_type": "code",
   "execution_count": null,
   "id": "350a165f",
   "metadata": {},
   "outputs": [],
   "source": [
    "testing(10)"
   ]
  },
  {
   "cell_type": "markdown",
   "id": "c3eedeb1",
   "metadata": {},
   "source": [
    "При тестировании модель выводит одни и те же картинки для каждого запроса. Видимо модель научилась искать универсальную картинку."
   ]
  }
 ],
 "metadata": {
  "celltoolbar": "Отсутствует",
  "colab": {
   "provenance": []
  },
  "kernelspec": {
   "display_name": "Python 3 (ipykernel)",
   "language": "python",
   "name": "python3"
  },
  "language_info": {
   "codemirror_mode": {
    "name": "ipython",
    "version": 3
   },
   "file_extension": ".py",
   "mimetype": "text/x-python",
   "name": "python",
   "nbconvert_exporter": "python",
   "pygments_lexer": "ipython3",
   "version": "3.10.2"
  },
  "notebookId": "e47b60f7-b2b4-44ee-beb3-b44a93eaf068",
  "notebookPath": "precode.ipynb",
  "toc": {
   "base_numbering": 1,
   "nav_menu": {},
   "number_sections": true,
   "sideBar": true,
   "skip_h1_title": true,
   "title_cell": "Table of Contents",
   "title_sidebar": "Contents",
   "toc_cell": false,
   "toc_position": {},
   "toc_section_display": true,
   "toc_window_display": false
  }
 },
 "nbformat": 4,
 "nbformat_minor": 5
}
