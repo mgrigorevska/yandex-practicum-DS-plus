{
 "cells": [
  {
   "cell_type": "markdown",
   "id": "7dbd0a93",
   "metadata": {},
   "source": [
    "# Исследование надежности заемщиков."
   ]
  },
  {
   "cell_type": "markdown",
   "id": "26a7d4eb",
   "metadata": {},
   "source": [
    "\n",
    "\n",
    "Заказчик — кредитный отдел банка. Нужно разобраться, влияет ли семейное положение и количество детей клиента на факт погашения кредита в срок. Входные данные от банка — статистика о платёжеспособности клиентов.\n",
    "\n",
    "\n",
    "Цель исследования - ответить на следующие вопросы:\n",
    " - Есть ли зависимость между количеством детей и возвратом кредита в срок?\n",
    " - Есть ли зависимость между семейным положением и возвратом кредита в срок?\n",
    " - Есть ли зависимость между уровнем дохода и возвратом кредита в срок?\n",
    " - Как разные цели кредита влияют на его возврат в срок?\n",
    " \n",
    " Результаты исследования будут учтены при построении модели кредитного скоринга — специальной системы, которая оценивает способность потенциального заёмщика вернуть кредит банку."
   ]
  },
  {
   "cell_type": "markdown",
   "id": "c9daf16d",
   "metadata": {},
   "source": [
    "### Шаг 1. Обзор данных"
   ]
  },
  {
   "cell_type": "code",
   "execution_count": 1505,
   "id": "b470155b",
   "metadata": {},
   "outputs": [],
   "source": [
    "import pandas as pd  # импорт библиотеки pandas"
   ]
  },
  {
   "cell_type": "code",
   "execution_count": 1506,
   "id": "0cfe2e40",
   "metadata": {
    "scrolled": true
   },
   "outputs": [
    {
     "data": {
      "text/html": [
       "<div>\n",
       "<style scoped>\n",
       "    .dataframe tbody tr th:only-of-type {\n",
       "        vertical-align: middle;\n",
       "    }\n",
       "\n",
       "    .dataframe tbody tr th {\n",
       "        vertical-align: top;\n",
       "    }\n",
       "\n",
       "    .dataframe thead th {\n",
       "        text-align: right;\n",
       "    }\n",
       "</style>\n",
       "<table border=\"1\" class=\"dataframe\">\n",
       "  <thead>\n",
       "    <tr style=\"text-align: right;\">\n",
       "      <th></th>\n",
       "      <th>children</th>\n",
       "      <th>days_employed</th>\n",
       "      <th>dob_years</th>\n",
       "      <th>education</th>\n",
       "      <th>education_id</th>\n",
       "      <th>family_status</th>\n",
       "      <th>family_status_id</th>\n",
       "      <th>gender</th>\n",
       "      <th>income_type</th>\n",
       "      <th>debt</th>\n",
       "      <th>total_income</th>\n",
       "      <th>purpose</th>\n",
       "    </tr>\n",
       "  </thead>\n",
       "  <tbody>\n",
       "    <tr>\n",
       "      <td>0</td>\n",
       "      <td>1</td>\n",
       "      <td>-8437.673028</td>\n",
       "      <td>42</td>\n",
       "      <td>высшее</td>\n",
       "      <td>0</td>\n",
       "      <td>женат / замужем</td>\n",
       "      <td>0</td>\n",
       "      <td>F</td>\n",
       "      <td>сотрудник</td>\n",
       "      <td>0</td>\n",
       "      <td>253875.639453</td>\n",
       "      <td>покупка жилья</td>\n",
       "    </tr>\n",
       "    <tr>\n",
       "      <td>1</td>\n",
       "      <td>1</td>\n",
       "      <td>-4024.803754</td>\n",
       "      <td>36</td>\n",
       "      <td>среднее</td>\n",
       "      <td>1</td>\n",
       "      <td>женат / замужем</td>\n",
       "      <td>0</td>\n",
       "      <td>F</td>\n",
       "      <td>сотрудник</td>\n",
       "      <td>0</td>\n",
       "      <td>112080.014102</td>\n",
       "      <td>приобретение автомобиля</td>\n",
       "    </tr>\n",
       "    <tr>\n",
       "      <td>2</td>\n",
       "      <td>0</td>\n",
       "      <td>-5623.422610</td>\n",
       "      <td>33</td>\n",
       "      <td>Среднее</td>\n",
       "      <td>1</td>\n",
       "      <td>женат / замужем</td>\n",
       "      <td>0</td>\n",
       "      <td>M</td>\n",
       "      <td>сотрудник</td>\n",
       "      <td>0</td>\n",
       "      <td>145885.952297</td>\n",
       "      <td>покупка жилья</td>\n",
       "    </tr>\n",
       "    <tr>\n",
       "      <td>3</td>\n",
       "      <td>3</td>\n",
       "      <td>-4124.747207</td>\n",
       "      <td>32</td>\n",
       "      <td>среднее</td>\n",
       "      <td>1</td>\n",
       "      <td>женат / замужем</td>\n",
       "      <td>0</td>\n",
       "      <td>M</td>\n",
       "      <td>сотрудник</td>\n",
       "      <td>0</td>\n",
       "      <td>267628.550329</td>\n",
       "      <td>дополнительное образование</td>\n",
       "    </tr>\n",
       "    <tr>\n",
       "      <td>4</td>\n",
       "      <td>0</td>\n",
       "      <td>340266.072047</td>\n",
       "      <td>53</td>\n",
       "      <td>среднее</td>\n",
       "      <td>1</td>\n",
       "      <td>гражданский брак</td>\n",
       "      <td>1</td>\n",
       "      <td>F</td>\n",
       "      <td>пенсионер</td>\n",
       "      <td>0</td>\n",
       "      <td>158616.077870</td>\n",
       "      <td>сыграть свадьбу</td>\n",
       "    </tr>\n",
       "  </tbody>\n",
       "</table>\n",
       "</div>"
      ],
      "text/plain": [
       "   children  days_employed  dob_years education  education_id  \\\n",
       "0         1   -8437.673028         42    высшее             0   \n",
       "1         1   -4024.803754         36   среднее             1   \n",
       "2         0   -5623.422610         33   Среднее             1   \n",
       "3         3   -4124.747207         32   среднее             1   \n",
       "4         0  340266.072047         53   среднее             1   \n",
       "\n",
       "      family_status  family_status_id gender income_type  debt   total_income  \\\n",
       "0   женат / замужем                 0      F   сотрудник     0  253875.639453   \n",
       "1   женат / замужем                 0      F   сотрудник     0  112080.014102   \n",
       "2   женат / замужем                 0      M   сотрудник     0  145885.952297   \n",
       "3   женат / замужем                 0      M   сотрудник     0  267628.550329   \n",
       "4  гражданский брак                 1      F   пенсионер     0  158616.077870   \n",
       "\n",
       "                      purpose  \n",
       "0               покупка жилья  \n",
       "1     приобретение автомобиля  \n",
       "2               покупка жилья  \n",
       "3  дополнительное образование  \n",
       "4             сыграть свадьбу  "
      ]
     },
     "execution_count": 1506,
     "metadata": {},
     "output_type": "execute_result"
    }
   ],
   "source": [
    "df = pd.read_csv('***')\n",
    "df.head()"
   ]
  },
  {
   "cell_type": "code",
   "execution_count": null,
   "id": "6d4d261b",
   "metadata": {},
   "outputs": [],
   "source": [
    "df.info() # получение общей информации о данных в таблице df"
   ]
  },
  {
   "cell_type": "markdown",
   "id": "41915b4b",
   "metadata": {},
   "source": [
    "В таблице 12 столбцов. Тип данных в столбцах — целые и вещественные числа, а также строки.\n",
    "\n",
    "Согласно документации к данным:\n",
    "\n",
    "* `children` — количество детей в семье\n",
    "\n",
    "* `days_employed` — общий трудовой стаж в днях\n",
    "\n",
    "* `dob_years` — возраст клиента в годах\n",
    "\n",
    "* `education` — уровень образования клиента\n",
    "\n",
    "* `education_id` — идентификатор уровня образования\n",
    "\n",
    "* `family_status` — семейное положение\n",
    "\n",
    "* `family_status_id` — идентификатор семейного положения\n",
    "\n",
    "* `gender` — пол клиента\n",
    "\n",
    "* `income_type` — тип занятости\n",
    "\n",
    "* `debt` — имел ли задолженность по возврату кредитов\n",
    "\n",
    "* `total_income` — ежемесячный доход\n",
    "\n",
    "* `purpose` — цель получения кредита\n",
    "\n",
    "Нарушений стиля в названий столбцов нет, но количество значений в столбцах различается. \n",
    "\n",
    "Значит, в данных есть пропуски.\n",
    "\n",
    "Также по первым пяти строкам таблицы можно сделать вывод, что в столбце `days_employed` присутствуют некорректные значения,\n",
    "в столбце `education` - запись в разных регистрах."
   ]
  },
  {
   "cell_type": "markdown",
   "id": "a390af69",
   "metadata": {},
   "source": [
    "### Шаг 2.1 Заполнение пропусков"
   ]
  },
  {
   "cell_type": "code",
   "execution_count": 1508,
   "id": "c5d13154",
   "metadata": {
    "scrolled": false
   },
   "outputs": [
    {
     "name": "stdout",
     "output_type": "stream",
     "text": [
      "children            0.000000\n",
      "days_employed       0.100999\n",
      "dob_years           0.000000\n",
      "education           0.000000\n",
      "education_id        0.000000\n",
      "family_status       0.000000\n",
      "family_status_id    0.000000\n",
      "gender              0.000000\n",
      "income_type         0.000000\n",
      "debt                0.000000\n",
      "total_income        0.100999\n",
      "purpose             0.000000\n",
      "dtype: float64\n"
     ]
    }
   ],
   "source": [
    "print((df.isna().sum() / df.shape[0]))  # доля пропущенных значений"
   ]
  },
  {
   "cell_type": "code",
   "execution_count": 1509,
   "id": "8220d2d3",
   "metadata": {},
   "outputs": [
    {
     "data": {
      "text/html": [
       "<div>\n",
       "<style scoped>\n",
       "    .dataframe tbody tr th:only-of-type {\n",
       "        vertical-align: middle;\n",
       "    }\n",
       "\n",
       "    .dataframe tbody tr th {\n",
       "        vertical-align: top;\n",
       "    }\n",
       "\n",
       "    .dataframe thead th {\n",
       "        text-align: right;\n",
       "    }\n",
       "</style>\n",
       "<table border=\"1\" class=\"dataframe\">\n",
       "  <thead>\n",
       "    <tr style=\"text-align: right;\">\n",
       "      <th></th>\n",
       "      <th>children</th>\n",
       "      <th>days_employed</th>\n",
       "      <th>dob_years</th>\n",
       "      <th>education</th>\n",
       "      <th>education_id</th>\n",
       "      <th>family_status</th>\n",
       "      <th>family_status_id</th>\n",
       "      <th>gender</th>\n",
       "      <th>income_type</th>\n",
       "      <th>debt</th>\n",
       "      <th>total_income</th>\n",
       "      <th>purpose</th>\n",
       "    </tr>\n",
       "  </thead>\n",
       "  <tbody>\n",
       "    <tr>\n",
       "      <td>12</td>\n",
       "      <td>0</td>\n",
       "      <td>NaN</td>\n",
       "      <td>65</td>\n",
       "      <td>среднее</td>\n",
       "      <td>1</td>\n",
       "      <td>гражданский брак</td>\n",
       "      <td>1</td>\n",
       "      <td>M</td>\n",
       "      <td>пенсионер</td>\n",
       "      <td>0</td>\n",
       "      <td>NaN</td>\n",
       "      <td>сыграть свадьбу</td>\n",
       "    </tr>\n",
       "    <tr>\n",
       "      <td>26</td>\n",
       "      <td>0</td>\n",
       "      <td>NaN</td>\n",
       "      <td>41</td>\n",
       "      <td>среднее</td>\n",
       "      <td>1</td>\n",
       "      <td>женат / замужем</td>\n",
       "      <td>0</td>\n",
       "      <td>M</td>\n",
       "      <td>госслужащий</td>\n",
       "      <td>0</td>\n",
       "      <td>NaN</td>\n",
       "      <td>образование</td>\n",
       "    </tr>\n",
       "    <tr>\n",
       "      <td>29</td>\n",
       "      <td>0</td>\n",
       "      <td>NaN</td>\n",
       "      <td>63</td>\n",
       "      <td>среднее</td>\n",
       "      <td>1</td>\n",
       "      <td>Не женат / не замужем</td>\n",
       "      <td>4</td>\n",
       "      <td>F</td>\n",
       "      <td>пенсионер</td>\n",
       "      <td>0</td>\n",
       "      <td>NaN</td>\n",
       "      <td>строительство жилой недвижимости</td>\n",
       "    </tr>\n",
       "    <tr>\n",
       "      <td>41</td>\n",
       "      <td>0</td>\n",
       "      <td>NaN</td>\n",
       "      <td>50</td>\n",
       "      <td>среднее</td>\n",
       "      <td>1</td>\n",
       "      <td>женат / замужем</td>\n",
       "      <td>0</td>\n",
       "      <td>F</td>\n",
       "      <td>госслужащий</td>\n",
       "      <td>0</td>\n",
       "      <td>NaN</td>\n",
       "      <td>сделка с подержанным автомобилем</td>\n",
       "    </tr>\n",
       "    <tr>\n",
       "      <td>55</td>\n",
       "      <td>0</td>\n",
       "      <td>NaN</td>\n",
       "      <td>54</td>\n",
       "      <td>среднее</td>\n",
       "      <td>1</td>\n",
       "      <td>гражданский брак</td>\n",
       "      <td>1</td>\n",
       "      <td>F</td>\n",
       "      <td>пенсионер</td>\n",
       "      <td>1</td>\n",
       "      <td>NaN</td>\n",
       "      <td>сыграть свадьбу</td>\n",
       "    </tr>\n",
       "  </tbody>\n",
       "</table>\n",
       "</div>"
      ],
      "text/plain": [
       "    children  days_employed  dob_years education  education_id  \\\n",
       "12         0            NaN         65   среднее             1   \n",
       "26         0            NaN         41   среднее             1   \n",
       "29         0            NaN         63   среднее             1   \n",
       "41         0            NaN         50   среднее             1   \n",
       "55         0            NaN         54   среднее             1   \n",
       "\n",
       "            family_status  family_status_id gender  income_type  debt  \\\n",
       "12       гражданский брак                 1      M    пенсионер     0   \n",
       "26        женат / замужем                 0      M  госслужащий     0   \n",
       "29  Не женат / не замужем                 4      F    пенсионер     0   \n",
       "41        женат / замужем                 0      F  госслужащий     0   \n",
       "55       гражданский брак                 1      F    пенсионер     1   \n",
       "\n",
       "    total_income                           purpose  \n",
       "12           NaN                   сыграть свадьбу  \n",
       "26           NaN                       образование  \n",
       "29           NaN  строительство жилой недвижимости  \n",
       "41           NaN  сделка с подержанным автомобилем  \n",
       "55           NaN                   сыграть свадьбу  "
      ]
     },
     "execution_count": 1509,
     "metadata": {},
     "output_type": "execute_result"
    }
   ],
   "source": [
    "df.query('total_income == \"Nan\"').head()"
   ]
  },
  {
   "cell_type": "markdown",
   "id": "3a33eeb1",
   "metadata": {},
   "source": [
    "Видим, что пропущенные значения есть только в `days_employed` и `total_income` и составляют 10%. Эта доля слишком большая, чтобы просто удалить пропущенные строки."
   ]
  },
  {
   "cell_type": "markdown",
   "id": "187b0a93",
   "metadata": {},
   "source": [
    "Между пропущенными значениями и категориями клиентов нет связи, пропуски могли появиться в результате ошибки при выгрузке данных - возможно,  нули заменились на пропуск (нулевой стаж и соответвенно нулевой доход) либо по иным причинам - повреждение данных, также клиент мог просто не указать это в анкете. \n"
   ]
  },
  {
   "cell_type": "markdown",
   "id": "1ea6f33d",
   "metadata": {},
   "source": [
    "Так как мы не знаем истинных причин, то заполняем пропуски медианным значением - в отличие от среднего, медиана корректно характеризует данные, когда некоторые значения сильно выделяются среди большинства."
   ]
  },
  {
   "cell_type": "code",
   "execution_count": 1510,
   "id": "d4605f8d",
   "metadata": {
    "scrolled": true
   },
   "outputs": [
    {
     "data": {
      "text/plain": [
       "children            0\n",
       "days_employed       0\n",
       "dob_years           0\n",
       "education           0\n",
       "education_id        0\n",
       "family_status       0\n",
       "family_status_id    0\n",
       "gender              0\n",
       "income_type         0\n",
       "debt                0\n",
       "total_income        0\n",
       "purpose             0\n",
       "dtype: int64"
      ]
     },
     "execution_count": 1510,
     "metadata": {},
     "output_type": "execute_result"
    }
   ],
   "source": [
    "days_employed_median = df['days_employed'].median()  # находим медианные значения для days_employed\n",
    "total_income_median = df['total_income'].median()    # и total_income\n",
    "\n",
    "df['days_employed'] = df['days_employed'].fillna(days_employed_median)  # заполняем пропуски медианным значением\n",
    "df['total_income'] = df['total_income'].fillna(total_income_median)\n",
    "df.isna().sum()  # проверяем таблицу на отсутивие пропусков"
   ]
  },
  {
   "cell_type": "markdown",
   "id": "136f5b8c",
   "metadata": {},
   "source": [
    "### Шаг 2.2 Проверка данных на аномалии и исправления."
   ]
  },
  {
   "cell_type": "markdown",
   "id": "0e8b73d2",
   "metadata": {},
   "source": [
    "Исправляем аномалии в столбце `days_employed`. Чтобы увидеть разброс значений, сортируем столбец по убыванию:"
   ]
  },
  {
   "cell_type": "code",
   "execution_count": 1511,
   "id": "0439d474",
   "metadata": {},
   "outputs": [
    {
     "data": {
      "text/plain": [
       "6954     401755.400475\n",
       "10006    401715.811749\n",
       "7664     401675.093434\n",
       "2156     401674.466633\n",
       "7794     401663.850046\n",
       "             ...      \n",
       "16825    -16119.687737\n",
       "17838    -16264.699501\n",
       "7329     -16593.472817\n",
       "4299     -17615.563266\n",
       "16335    -18388.949901\n",
       "Name: days_employed, Length: 21525, dtype: float64"
      ]
     },
     "execution_count": 1511,
     "metadata": {},
     "output_type": "execute_result"
    }
   ],
   "source": [
    "df['days_employed'].sort_values(ascending=False) # сортируем столбец days_employed по убыванию"
   ]
  },
  {
   "cell_type": "markdown",
   "id": "e7488e9e",
   "metadata": {},
   "source": [
    "Видим, что присутствуют некорректные значения:\n",
    "\n",
    "    1. Отрицательные - количество дней не можем быть отрицательным;\n",
    "    2. Слишком большие значения - 401675 дней - это больше 1000 лет.\n",
    "    \n",
    "  \n",
    "Для начала преобразуем отрицательные значения в положительные:  "
   ]
  },
  {
   "cell_type": "code",
   "execution_count": 1512,
   "id": "ce36d1c9",
   "metadata": {},
   "outputs": [],
   "source": [
    "df['days_employed'] = (df['days_employed']*df['days_employed'])**0.5  # избавляемся от отрицательных значений в days_employed"
   ]
  },
  {
   "cell_type": "markdown",
   "id": "b2c8bd4f",
   "metadata": {},
   "source": [
    "Далее разбираемся со слишком большими значениями.\n",
    "Такие значения, скорее всего, могли возникнуть из-за технической ошибки при выгрузке данных, либо вместо дней были указаны часы.\n",
    "\n",
    "Предположим, стаж не может быть больше, чем 55 лет, то есть примерно 20000 дней.\n",
    "\n",
    "Проверяем, есть ли связь между типом занятости и слишком большим значением `days_employed`:"
   ]
  },
  {
   "cell_type": "code",
   "execution_count": 1513,
   "id": "5557bd95",
   "metadata": {},
   "outputs": [
    {
     "data": {
      "text/plain": [
       "array(['пенсионер', 'безработный'], dtype=object)"
      ]
     },
     "execution_count": 1513,
     "metadata": {},
     "output_type": "execute_result"
    }
   ],
   "source": [
    "df.loc[df['days_employed'] > 20000, 'income_type'].unique()"
   ]
  },
  {
   "cell_type": "markdown",
   "id": "f01ed230",
   "metadata": {},
   "source": [
    "\n",
    "Видим, что некорректные данные представлены в категориях \"пенсионер\" и \"безработный\".\n",
    "\n",
    "По логике, для пенсионеров должен быть характерен большой стаж, но точно не 1000 лет. \n",
    "Приведем данные в такой вид, чтобы они попадали в диапазон оставшихся - поделим на 50.\n",
    "\n",
    "Присваеваем новые значения трудового стажа этим категориям."
   ]
  },
  {
   "cell_type": "code",
   "execution_count": 1514,
   "id": "2d2a85e1",
   "metadata": {},
   "outputs": [],
   "source": [
    "df.loc[((df['income_type'] == 'пенсионер') & (df['days_employed'] > 20075)) | ((df['income_type'] == 'безработный') & (df['days_employed'] > 20075)), 'days_employed'] = df['days_employed'] / 50\n"
   ]
  },
  {
   "cell_type": "code",
   "execution_count": 1515,
   "id": "56466b3b",
   "metadata": {
    "scrolled": true
   },
   "outputs": [
    {
     "data": {
      "text/plain": [
       "16335    18388.949901\n",
       "4299     17615.563266\n",
       "7329     16593.472817\n",
       "17838    16264.699501\n",
       "16825    16119.687737\n",
       "             ...     \n",
       "2127        34.701045\n",
       "9683        33.520665\n",
       "6157        30.195337\n",
       "8336        24.240695\n",
       "17437       24.141633\n",
       "Name: days_employed, Length: 21525, dtype: float64"
      ]
     },
     "execution_count": 1515,
     "metadata": {},
     "output_type": "execute_result"
    }
   ],
   "source": [
    "df['days_employed'].sort_values(ascending=False)"
   ]
  },
  {
   "cell_type": "markdown",
   "id": "53935e46",
   "metadata": {},
   "source": [
    "Максимальное значение стажа теперь - 18388 дней, что соответвует приимерно 50.3 годам."
   ]
  },
  {
   "cell_type": "markdown",
   "id": "7a2d30b1",
   "metadata": {},
   "source": [
    "Извлекаем уникальные значения столбца `children`:"
   ]
  },
  {
   "cell_type": "code",
   "execution_count": 1516,
   "id": "7c3414a7",
   "metadata": {},
   "outputs": [
    {
     "data": {
      "text/plain": [
       "array([ 1,  0,  3,  2, -1,  4, 20,  5])"
      ]
     },
     "execution_count": 1516,
     "metadata": {},
     "output_type": "execute_result"
    }
   ],
   "source": [
    "df['children'].unique()"
   ]
  },
  {
   "cell_type": "markdown",
   "id": "8fe17b46",
   "metadata": {},
   "source": [
    "Заменяем некорректные отрицательные значения на положительные:"
   ]
  },
  {
   "cell_type": "code",
   "execution_count": 1517,
   "id": "cf99af36",
   "metadata": {
    "scrolled": true
   },
   "outputs": [
    {
     "data": {
      "text/plain": [
       "array([ 1,  0,  3,  2,  4, 20,  5])"
      ]
     },
     "execution_count": 1517,
     "metadata": {},
     "output_type": "execute_result"
    }
   ],
   "source": [
    "df.loc[df['children'] < 0, 'children'] = 1\n",
    "df['children'].unique()"
   ]
  },
  {
   "cell_type": "markdown",
   "id": "1a67db46",
   "metadata": {},
   "source": [
    "У нас осталось еще одно подозрительное значение - 20 детей. Строк с таким значением - 76, что выглядит неправдоподобно - многодетные семьи, конечно, существуют, но маловероятно что сразу в 76 семьях будет ровно по 20 детей. Скорее всего это ошибка в данных. "
   ]
  },
  {
   "cell_type": "code",
   "execution_count": 1518,
   "id": "924a7a94",
   "metadata": {},
   "outputs": [
    {
     "data": {
      "text/plain": [
       "76"
      ]
     },
     "execution_count": 1518,
     "metadata": {},
     "output_type": "execute_result"
    }
   ],
   "source": [
    "len(df.query('children == 20'))"
   ]
  },
  {
   "cell_type": "markdown",
   "id": "cb545387",
   "metadata": {},
   "source": [
    "Посмотрим на эти строки:"
   ]
  },
  {
   "cell_type": "code",
   "execution_count": 1519,
   "id": "f02d3802",
   "metadata": {
    "scrolled": true
   },
   "outputs": [
    {
     "data": {
      "text/html": [
       "<div>\n",
       "<style scoped>\n",
       "    .dataframe tbody tr th:only-of-type {\n",
       "        vertical-align: middle;\n",
       "    }\n",
       "\n",
       "    .dataframe tbody tr th {\n",
       "        vertical-align: top;\n",
       "    }\n",
       "\n",
       "    .dataframe thead th {\n",
       "        text-align: right;\n",
       "    }\n",
       "</style>\n",
       "<table border=\"1\" class=\"dataframe\">\n",
       "  <thead>\n",
       "    <tr style=\"text-align: right;\">\n",
       "      <th></th>\n",
       "      <th>children</th>\n",
       "      <th>days_employed</th>\n",
       "      <th>dob_years</th>\n",
       "      <th>education</th>\n",
       "      <th>education_id</th>\n",
       "      <th>family_status</th>\n",
       "      <th>family_status_id</th>\n",
       "      <th>gender</th>\n",
       "      <th>income_type</th>\n",
       "      <th>debt</th>\n",
       "      <th>total_income</th>\n",
       "      <th>purpose</th>\n",
       "    </tr>\n",
       "  </thead>\n",
       "  <tbody>\n",
       "    <tr>\n",
       "      <td>606</td>\n",
       "      <td>20</td>\n",
       "      <td>880.221113</td>\n",
       "      <td>21</td>\n",
       "      <td>среднее</td>\n",
       "      <td>1</td>\n",
       "      <td>женат / замужем</td>\n",
       "      <td>0</td>\n",
       "      <td>M</td>\n",
       "      <td>компаньон</td>\n",
       "      <td>0</td>\n",
       "      <td>145334.865002</td>\n",
       "      <td>покупка жилья</td>\n",
       "    </tr>\n",
       "    <tr>\n",
       "      <td>720</td>\n",
       "      <td>20</td>\n",
       "      <td>855.595512</td>\n",
       "      <td>44</td>\n",
       "      <td>среднее</td>\n",
       "      <td>1</td>\n",
       "      <td>женат / замужем</td>\n",
       "      <td>0</td>\n",
       "      <td>F</td>\n",
       "      <td>компаньон</td>\n",
       "      <td>0</td>\n",
       "      <td>112998.738649</td>\n",
       "      <td>покупка недвижимости</td>\n",
       "    </tr>\n",
       "    <tr>\n",
       "      <td>1074</td>\n",
       "      <td>20</td>\n",
       "      <td>3310.411598</td>\n",
       "      <td>56</td>\n",
       "      <td>среднее</td>\n",
       "      <td>1</td>\n",
       "      <td>женат / замужем</td>\n",
       "      <td>0</td>\n",
       "      <td>F</td>\n",
       "      <td>сотрудник</td>\n",
       "      <td>1</td>\n",
       "      <td>229518.537004</td>\n",
       "      <td>получение образования</td>\n",
       "    </tr>\n",
       "    <tr>\n",
       "      <td>2510</td>\n",
       "      <td>20</td>\n",
       "      <td>2714.161249</td>\n",
       "      <td>59</td>\n",
       "      <td>высшее</td>\n",
       "      <td>0</td>\n",
       "      <td>вдовец / вдова</td>\n",
       "      <td>2</td>\n",
       "      <td>F</td>\n",
       "      <td>сотрудник</td>\n",
       "      <td>0</td>\n",
       "      <td>264474.835577</td>\n",
       "      <td>операции с коммерческой недвижимостью</td>\n",
       "    </tr>\n",
       "    <tr>\n",
       "      <td>2941</td>\n",
       "      <td>20</td>\n",
       "      <td>2161.591519</td>\n",
       "      <td>0</td>\n",
       "      <td>среднее</td>\n",
       "      <td>1</td>\n",
       "      <td>женат / замужем</td>\n",
       "      <td>0</td>\n",
       "      <td>F</td>\n",
       "      <td>сотрудник</td>\n",
       "      <td>0</td>\n",
       "      <td>199739.941398</td>\n",
       "      <td>на покупку автомобиля</td>\n",
       "    </tr>\n",
       "  </tbody>\n",
       "</table>\n",
       "</div>"
      ],
      "text/plain": [
       "      children  days_employed  dob_years education  education_id  \\\n",
       "606         20     880.221113         21   среднее             1   \n",
       "720         20     855.595512         44   среднее             1   \n",
       "1074        20    3310.411598         56   среднее             1   \n",
       "2510        20    2714.161249         59    высшее             0   \n",
       "2941        20    2161.591519          0   среднее             1   \n",
       "\n",
       "        family_status  family_status_id gender income_type  debt  \\\n",
       "606   женат / замужем                 0      M   компаньон     0   \n",
       "720   женат / замужем                 0      F   компаньон     0   \n",
       "1074  женат / замужем                 0      F   сотрудник     1   \n",
       "2510   вдовец / вдова                 2      F   сотрудник     0   \n",
       "2941  женат / замужем                 0      F   сотрудник     0   \n",
       "\n",
       "       total_income                                purpose  \n",
       "606   145334.865002                          покупка жилья  \n",
       "720   112998.738649                   покупка недвижимости  \n",
       "1074  229518.537004                  получение образования  \n",
       "2510  264474.835577  операции с коммерческой недвижимостью  \n",
       "2941  199739.941398                  на покупку автомобиля  "
      ]
     },
     "execution_count": 1519,
     "metadata": {},
     "output_type": "execute_result"
    }
   ],
   "source": [
    "df.query('children == 20').head()"
   ]
  },
  {
   "cell_type": "markdown",
   "id": "7b5cad23",
   "metadata": {},
   "source": [
    "Как видно, такое значение не привязано к какой-то отдельно категории клиентов. Предположим, такая ошибка могла возникнуть при неверной записи данных - возможно, записанное как 2.0 превратилось в 20.\n",
    "\n",
    "Исходя из этого предположения, избавимся от этих значений:"
   ]
  },
  {
   "cell_type": "code",
   "execution_count": 1520,
   "id": "8c3bf6e1",
   "metadata": {},
   "outputs": [
    {
     "data": {
      "text/plain": [
       "array([1, 0, 3, 2, 4, 5])"
      ]
     },
     "execution_count": 1520,
     "metadata": {},
     "output_type": "execute_result"
    }
   ],
   "source": [
    "df.loc[df['children'] == 20, 'children'] = 2\n",
    "df['children'].unique()"
   ]
  },
  {
   "cell_type": "markdown",
   "id": "4bbe5514",
   "metadata": {},
   "source": [
    "Далее проверим на аномалии столбец, содержащий возраст клиента:"
   ]
  },
  {
   "cell_type": "code",
   "execution_count": 1521,
   "id": "48ad1120",
   "metadata": {
    "scrolled": false
   },
   "outputs": [
    {
     "data": {
      "text/plain": [
       "array([ 0, 19, 20, 21, 22, 23, 24, 25, 26, 27, 28, 29, 30, 31, 32, 33, 34,\n",
       "       35, 36, 37, 38, 39, 40, 41, 42, 43, 44, 45, 46, 47, 48, 49, 50, 51,\n",
       "       52, 53, 54, 55, 56, 57, 58, 59, 60, 61, 62, 63, 64, 65, 66, 67, 68,\n",
       "       69, 70, 71, 72, 73, 74, 75])"
      ]
     },
     "execution_count": 1521,
     "metadata": {},
     "output_type": "execute_result"
    }
   ],
   "source": [
    "df['dob_years'].sort_values().unique()"
   ]
  },
  {
   "cell_type": "code",
   "execution_count": 1522,
   "id": "eab1f71c",
   "metadata": {},
   "outputs": [
    {
     "data": {
      "text/plain": [
       "101"
      ]
     },
     "execution_count": 1522,
     "metadata": {},
     "output_type": "execute_result"
    }
   ],
   "source": [
    "len(df.query('dob_years == 0'))"
   ]
  },
  {
   "cell_type": "markdown",
   "id": "7698f2a3",
   "metadata": {},
   "source": [
    "В 101 строке видим значение, равное нулю - возможно клиент просто не указал свой возраст. Заменим нули медианным значением:"
   ]
  },
  {
   "cell_type": "code",
   "execution_count": 1523,
   "id": "86d1c24e",
   "metadata": {},
   "outputs": [
    {
     "data": {
      "text/plain": [
       "array([19, 20, 21, 22, 23, 24, 25, 26, 27, 28, 29, 30, 31, 32, 33, 34, 35,\n",
       "       36, 37, 38, 39, 40, 41, 42, 43, 44, 45, 46, 47, 48, 49, 50, 51, 52,\n",
       "       53, 54, 55, 56, 57, 58, 59, 60, 61, 62, 63, 64, 65, 66, 67, 68, 69,\n",
       "       70, 71, 72, 73, 74, 75])"
      ]
     },
     "execution_count": 1523,
     "metadata": {},
     "output_type": "execute_result"
    }
   ],
   "source": [
    "df.loc[df['dob_years'] == 0, 'dob_years'] = df['dob_years'].median().astype('int')\n",
    "df['dob_years'].sort_values().unique()"
   ]
  },
  {
   "cell_type": "markdown",
   "id": "6b06b351",
   "metadata": {},
   "source": [
    "То же смотрим и в столбце с полом:"
   ]
  },
  {
   "cell_type": "code",
   "execution_count": 1524,
   "id": "d255049a",
   "metadata": {},
   "outputs": [
    {
     "data": {
      "text/plain": [
       "array(['F', 'M', 'XNA'], dtype=object)"
      ]
     },
     "execution_count": 1524,
     "metadata": {},
     "output_type": "execute_result"
    }
   ],
   "source": [
    "df['gender'].sort_values().unique()"
   ]
  },
  {
   "cell_type": "code",
   "execution_count": 1525,
   "id": "a71b21e3",
   "metadata": {},
   "outputs": [
    {
     "data": {
      "text/html": [
       "<div>\n",
       "<style scoped>\n",
       "    .dataframe tbody tr th:only-of-type {\n",
       "        vertical-align: middle;\n",
       "    }\n",
       "\n",
       "    .dataframe tbody tr th {\n",
       "        vertical-align: top;\n",
       "    }\n",
       "\n",
       "    .dataframe thead th {\n",
       "        text-align: right;\n",
       "    }\n",
       "</style>\n",
       "<table border=\"1\" class=\"dataframe\">\n",
       "  <thead>\n",
       "    <tr style=\"text-align: right;\">\n",
       "      <th></th>\n",
       "      <th>children</th>\n",
       "      <th>days_employed</th>\n",
       "      <th>dob_years</th>\n",
       "      <th>education</th>\n",
       "      <th>education_id</th>\n",
       "      <th>family_status</th>\n",
       "      <th>family_status_id</th>\n",
       "      <th>gender</th>\n",
       "      <th>income_type</th>\n",
       "      <th>debt</th>\n",
       "      <th>total_income</th>\n",
       "      <th>purpose</th>\n",
       "    </tr>\n",
       "  </thead>\n",
       "  <tbody>\n",
       "    <tr>\n",
       "      <td>10701</td>\n",
       "      <td>0</td>\n",
       "      <td>2358.600502</td>\n",
       "      <td>24</td>\n",
       "      <td>неоконченное высшее</td>\n",
       "      <td>2</td>\n",
       "      <td>гражданский брак</td>\n",
       "      <td>1</td>\n",
       "      <td>XNA</td>\n",
       "      <td>компаньон</td>\n",
       "      <td>0</td>\n",
       "      <td>203905.157261</td>\n",
       "      <td>покупка недвижимости</td>\n",
       "    </tr>\n",
       "  </tbody>\n",
       "</table>\n",
       "</div>"
      ],
      "text/plain": [
       "       children  days_employed  dob_years            education  education_id  \\\n",
       "10701         0    2358.600502         24  неоконченное высшее             2   \n",
       "\n",
       "          family_status  family_status_id gender income_type  debt  \\\n",
       "10701  гражданский брак                 1    XNA   компаньон     0   \n",
       "\n",
       "        total_income               purpose  \n",
       "10701  203905.157261  покупка недвижимости  "
      ]
     },
     "execution_count": 1525,
     "metadata": {},
     "output_type": "execute_result"
    }
   ],
   "source": [
    "df.query('gender == \"XNA\"')"
   ]
  },
  {
   "cell_type": "markdown",
   "id": "2b5ddab5",
   "metadata": {},
   "source": [
    "Всего одна строка с неизвестным полом, возможно клиент не захотел указывать свой пол. Одна строка не повлияет на результат, поэтому можно от неё избавиться, заменив, например, на F:"
   ]
  },
  {
   "cell_type": "code",
   "execution_count": 1526,
   "id": "72b13a7e",
   "metadata": {},
   "outputs": [
    {
     "data": {
      "text/plain": [
       "array(['F', 'M'], dtype=object)"
      ]
     },
     "execution_count": 1526,
     "metadata": {},
     "output_type": "execute_result"
    }
   ],
   "source": [
    "df.loc[df['gender'] == 'XNA', 'gender'] = 'F'\n",
    "df['gender'].sort_values().unique()"
   ]
  },
  {
   "cell_type": "markdown",
   "id": "0d55cbf7",
   "metadata": {},
   "source": [
    "### Шаг 2.3. Изменение типов данных."
   ]
  },
  {
   "cell_type": "markdown",
   "id": "ef870057",
   "metadata": {},
   "source": [
    "Заменяем вещественный тип данных в столбцах `total_income` и `days_employed` на целочисленный:"
   ]
  },
  {
   "cell_type": "code",
   "execution_count": 1527,
   "id": "a52dfb6b",
   "metadata": {},
   "outputs": [],
   "source": [
    "df['days_employed'] = df['days_employed'].astype('int') # меняем вещественный тип данных в \n",
    "df['total_income'] = df['total_income'].astype('int')   # столбцах total_income и days_employed"
   ]
  },
  {
   "cell_type": "markdown",
   "id": "a89455cc",
   "metadata": {},
   "source": [
    "### Шаг 2.4. Удаление дубликатов."
   ]
  },
  {
   "cell_type": "markdown",
   "id": "273046b9",
   "metadata": {},
   "source": [
    "Сначала проверим таблицу на наличие явных дубликатов:"
   ]
  },
  {
   "cell_type": "code",
   "execution_count": 1528,
   "id": "d775b6c5",
   "metadata": {},
   "outputs": [
    {
     "data": {
      "text/plain": [
       "55"
      ]
     },
     "execution_count": 1528,
     "metadata": {},
     "output_type": "execute_result"
    }
   ],
   "source": [
    "df.duplicated().sum()  # подсчитываем явные дубликаты"
   ]
  },
  {
   "cell_type": "markdown",
   "id": "e219e5a6",
   "metadata": {},
   "source": [
    "Поскольку в таблице отстутсвуют уинкальные идентификаторы пользователей, имеет смысл не удалять полные дубликаты - это могут быть разные клиенты, но с одинаковыми данными."
   ]
  },
  {
   "cell_type": "markdown",
   "id": "1ecdff85",
   "metadata": {},
   "source": [
    "Затем обработаем неявные дубликаты:"
   ]
  },
  {
   "cell_type": "code",
   "execution_count": 1529,
   "id": "544291e0",
   "metadata": {
    "scrolled": true
   },
   "outputs": [
    {
     "data": {
      "text/html": [
       "<div>\n",
       "<style scoped>\n",
       "    .dataframe tbody tr th:only-of-type {\n",
       "        vertical-align: middle;\n",
       "    }\n",
       "\n",
       "    .dataframe tbody tr th {\n",
       "        vertical-align: top;\n",
       "    }\n",
       "\n",
       "    .dataframe thead th {\n",
       "        text-align: right;\n",
       "    }\n",
       "</style>\n",
       "<table border=\"1\" class=\"dataframe\">\n",
       "  <thead>\n",
       "    <tr style=\"text-align: right;\">\n",
       "      <th></th>\n",
       "      <th>children</th>\n",
       "      <th>days_employed</th>\n",
       "      <th>dob_years</th>\n",
       "      <th>education</th>\n",
       "      <th>education_id</th>\n",
       "      <th>family_status</th>\n",
       "      <th>family_status_id</th>\n",
       "      <th>gender</th>\n",
       "      <th>income_type</th>\n",
       "      <th>debt</th>\n",
       "      <th>total_income</th>\n",
       "      <th>purpose</th>\n",
       "    </tr>\n",
       "  </thead>\n",
       "  <tbody>\n",
       "    <tr>\n",
       "      <td>0</td>\n",
       "      <td>1</td>\n",
       "      <td>8437</td>\n",
       "      <td>42</td>\n",
       "      <td>высшее</td>\n",
       "      <td>0</td>\n",
       "      <td>женат / замужем</td>\n",
       "      <td>0</td>\n",
       "      <td>F</td>\n",
       "      <td>сотрудник</td>\n",
       "      <td>0</td>\n",
       "      <td>253875</td>\n",
       "      <td>покупка жилья</td>\n",
       "    </tr>\n",
       "    <tr>\n",
       "      <td>1</td>\n",
       "      <td>1</td>\n",
       "      <td>4024</td>\n",
       "      <td>36</td>\n",
       "      <td>среднее</td>\n",
       "      <td>1</td>\n",
       "      <td>женат / замужем</td>\n",
       "      <td>0</td>\n",
       "      <td>F</td>\n",
       "      <td>сотрудник</td>\n",
       "      <td>0</td>\n",
       "      <td>112080</td>\n",
       "      <td>приобретение автомобиля</td>\n",
       "    </tr>\n",
       "    <tr>\n",
       "      <td>2</td>\n",
       "      <td>0</td>\n",
       "      <td>5623</td>\n",
       "      <td>33</td>\n",
       "      <td>среднее</td>\n",
       "      <td>1</td>\n",
       "      <td>женат / замужем</td>\n",
       "      <td>0</td>\n",
       "      <td>M</td>\n",
       "      <td>сотрудник</td>\n",
       "      <td>0</td>\n",
       "      <td>145885</td>\n",
       "      <td>покупка жилья</td>\n",
       "    </tr>\n",
       "    <tr>\n",
       "      <td>3</td>\n",
       "      <td>3</td>\n",
       "      <td>4124</td>\n",
       "      <td>32</td>\n",
       "      <td>среднее</td>\n",
       "      <td>1</td>\n",
       "      <td>женат / замужем</td>\n",
       "      <td>0</td>\n",
       "      <td>M</td>\n",
       "      <td>сотрудник</td>\n",
       "      <td>0</td>\n",
       "      <td>267628</td>\n",
       "      <td>дополнительное образование</td>\n",
       "    </tr>\n",
       "    <tr>\n",
       "      <td>4</td>\n",
       "      <td>0</td>\n",
       "      <td>6805</td>\n",
       "      <td>53</td>\n",
       "      <td>среднее</td>\n",
       "      <td>1</td>\n",
       "      <td>гражданский брак</td>\n",
       "      <td>1</td>\n",
       "      <td>F</td>\n",
       "      <td>пенсионер</td>\n",
       "      <td>0</td>\n",
       "      <td>158616</td>\n",
       "      <td>сыграть свадьбу</td>\n",
       "    </tr>\n",
       "  </tbody>\n",
       "</table>\n",
       "</div>"
      ],
      "text/plain": [
       "   children  days_employed  dob_years education  education_id  \\\n",
       "0         1           8437         42    высшее             0   \n",
       "1         1           4024         36   среднее             1   \n",
       "2         0           5623         33   среднее             1   \n",
       "3         3           4124         32   среднее             1   \n",
       "4         0           6805         53   среднее             1   \n",
       "\n",
       "      family_status  family_status_id gender income_type  debt  total_income  \\\n",
       "0   женат / замужем                 0      F   сотрудник     0        253875   \n",
       "1   женат / замужем                 0      F   сотрудник     0        112080   \n",
       "2   женат / замужем                 0      M   сотрудник     0        145885   \n",
       "3   женат / замужем                 0      M   сотрудник     0        267628   \n",
       "4  гражданский брак                 1      F   пенсионер     0        158616   \n",
       "\n",
       "                      purpose  \n",
       "0               покупка жилья  \n",
       "1     приобретение автомобиля  \n",
       "2               покупка жилья  \n",
       "3  дополнительное образование  \n",
       "4             сыграть свадьбу  "
      ]
     },
     "execution_count": 1529,
     "metadata": {},
     "output_type": "execute_result"
    }
   ],
   "source": [
    "df['education'].unique()  # ищем уникальные значения в столбце education\n",
    "df['education'] = df['education'].str.lower() # приводим  все значения к нижнему регистру\n",
    "df.head()"
   ]
  },
  {
   "cell_type": "markdown",
   "id": "c1145ac8",
   "metadata": {},
   "source": [
    "Далее проверим наличие неявных дубликатов в столбце `purpose`:"
   ]
  },
  {
   "cell_type": "code",
   "execution_count": 1530,
   "id": "3bf9ce23",
   "metadata": {
    "scrolled": true
   },
   "outputs": [
    {
     "data": {
      "text/plain": [
       "array(['автомобили', 'автомобиль', 'высшее образование',\n",
       "       'дополнительное образование', 'жилье',\n",
       "       'заняться высшим образованием', 'заняться образованием',\n",
       "       'на покупку автомобиля', 'на покупку подержанного автомобиля',\n",
       "       'на покупку своего автомобиля', 'на проведение свадьбы',\n",
       "       'недвижимость', 'образование', 'операции с жильем',\n",
       "       'операции с коммерческой недвижимостью',\n",
       "       'операции с недвижимостью', 'операции со своей недвижимостью',\n",
       "       'покупка жилой недвижимости', 'покупка жилья',\n",
       "       'покупка жилья для сдачи', 'покупка жилья для семьи',\n",
       "       'покупка коммерческой недвижимости', 'покупка недвижимости',\n",
       "       'покупка своего жилья', 'получение высшего образования',\n",
       "       'получение дополнительного образования', 'получение образования',\n",
       "       'приобретение автомобиля', 'профильное образование',\n",
       "       'ремонт жилью', 'свадьба', 'свой автомобиль',\n",
       "       'сделка с автомобилем', 'сделка с подержанным автомобилем',\n",
       "       'строительство жилой недвижимости', 'строительство недвижимости',\n",
       "       'строительство собственной недвижимости', 'сыграть свадьбу'],\n",
       "      dtype=object)"
      ]
     },
     "execution_count": 1530,
     "metadata": {},
     "output_type": "execute_result"
    }
   ],
   "source": [
    "df['purpose'].sort_values().unique() # ищем неявные дубликаты в purpose"
   ]
  },
  {
   "cell_type": "markdown",
   "id": "d78d4d70",
   "metadata": {},
   "source": [
    "Как видно из данного списка, в `purpose` достаточно большое количество неявных дубликатов, устраним их позже с помощью функции в шаге 2.7.\n",
    "\n",
    "\n",
    "\n",
    "Итак, мы обнаружили следующие проблемы в данных:\n",
    "\n",
    " - пропущенные значения,\n",
    " - явные и неявные дубликаты\n",
    " - аномалии\n",
    " \n",
    "Устранили дубликаты и аномалии, заменили пропущенные значения медианой. "
   ]
  },
  {
   "cell_type": "markdown",
   "id": "748595ac",
   "metadata": {},
   "source": [
    "### Шаг 2.5. Формирование дополнительных датафреймов словарей, декомпозиция исходного датафрейма."
   ]
  },
  {
   "cell_type": "markdown",
   "id": "2843ea62",
   "metadata": {},
   "source": [
    "Создаём новый датафрейм-\"словарь\" со столбцами `education_id` и `education`:"
   ]
  },
  {
   "cell_type": "code",
   "execution_count": 1531,
   "id": "1a12cb4f",
   "metadata": {},
   "outputs": [
    {
     "data": {
      "text/html": [
       "<div>\n",
       "<style scoped>\n",
       "    .dataframe tbody tr th:only-of-type {\n",
       "        vertical-align: middle;\n",
       "    }\n",
       "\n",
       "    .dataframe tbody tr th {\n",
       "        vertical-align: top;\n",
       "    }\n",
       "\n",
       "    .dataframe thead th {\n",
       "        text-align: right;\n",
       "    }\n",
       "</style>\n",
       "<table border=\"1\" class=\"dataframe\">\n",
       "  <thead>\n",
       "    <tr style=\"text-align: right;\">\n",
       "      <th></th>\n",
       "      <th>education_id</th>\n",
       "      <th>education</th>\n",
       "    </tr>\n",
       "  </thead>\n",
       "  <tbody>\n",
       "    <tr>\n",
       "      <td>0</td>\n",
       "      <td>0</td>\n",
       "      <td>высшее</td>\n",
       "    </tr>\n",
       "    <tr>\n",
       "      <td>1</td>\n",
       "      <td>1</td>\n",
       "      <td>среднее</td>\n",
       "    </tr>\n",
       "    <tr>\n",
       "      <td>2</td>\n",
       "      <td>2</td>\n",
       "      <td>неоконченное высшее</td>\n",
       "    </tr>\n",
       "    <tr>\n",
       "      <td>3</td>\n",
       "      <td>3</td>\n",
       "      <td>начальное</td>\n",
       "    </tr>\n",
       "    <tr>\n",
       "      <td>4</td>\n",
       "      <td>4</td>\n",
       "      <td>ученая степень</td>\n",
       "    </tr>\n",
       "  </tbody>\n",
       "</table>\n",
       "</div>"
      ],
      "text/plain": [
       "   education_id            education\n",
       "0             0               высшее\n",
       "1             1              среднее\n",
       "2             2  неоконченное высшее\n",
       "3             3            начальное\n",
       "4             4       ученая степень"
      ]
     },
     "metadata": {},
     "output_type": "display_data"
    }
   ],
   "source": [
    "education_dict = df[['education_id', 'education']]\n",
    "education_dict = education_dict.drop_duplicates().reset_index(drop=True)\n",
    "display(education_dict)"
   ]
  },
  {
   "cell_type": "markdown",
   "id": "97637bc3",
   "metadata": {},
   "source": [
    "Создаём новый датафрейм-\"словарь\" со столбцами `family_status_id` и `family_status`:\n"
   ]
  },
  {
   "cell_type": "code",
   "execution_count": 1532,
   "id": "0595db70",
   "metadata": {},
   "outputs": [
    {
     "data": {
      "text/html": [
       "<div>\n",
       "<style scoped>\n",
       "    .dataframe tbody tr th:only-of-type {\n",
       "        vertical-align: middle;\n",
       "    }\n",
       "\n",
       "    .dataframe tbody tr th {\n",
       "        vertical-align: top;\n",
       "    }\n",
       "\n",
       "    .dataframe thead th {\n",
       "        text-align: right;\n",
       "    }\n",
       "</style>\n",
       "<table border=\"1\" class=\"dataframe\">\n",
       "  <thead>\n",
       "    <tr style=\"text-align: right;\">\n",
       "      <th></th>\n",
       "      <th>family_status_id</th>\n",
       "      <th>family_status</th>\n",
       "    </tr>\n",
       "  </thead>\n",
       "  <tbody>\n",
       "    <tr>\n",
       "      <td>0</td>\n",
       "      <td>0</td>\n",
       "      <td>женат / замужем</td>\n",
       "    </tr>\n",
       "    <tr>\n",
       "      <td>1</td>\n",
       "      <td>1</td>\n",
       "      <td>гражданский брак</td>\n",
       "    </tr>\n",
       "    <tr>\n",
       "      <td>2</td>\n",
       "      <td>2</td>\n",
       "      <td>вдовец / вдова</td>\n",
       "    </tr>\n",
       "    <tr>\n",
       "      <td>3</td>\n",
       "      <td>3</td>\n",
       "      <td>в разводе</td>\n",
       "    </tr>\n",
       "    <tr>\n",
       "      <td>4</td>\n",
       "      <td>4</td>\n",
       "      <td>Не женат / не замужем</td>\n",
       "    </tr>\n",
       "  </tbody>\n",
       "</table>\n",
       "</div>"
      ],
      "text/plain": [
       "   family_status_id          family_status\n",
       "0                 0        женат / замужем\n",
       "1                 1       гражданский брак\n",
       "2                 2         вдовец / вдова\n",
       "3                 3              в разводе\n",
       "4                 4  Не женат / не замужем"
      ]
     },
     "metadata": {},
     "output_type": "display_data"
    }
   ],
   "source": [
    "family_status_dict = df[['family_status_id', 'family_status']]\n",
    "family_status_dict = family_status_dict.drop_duplicates().reset_index(drop=True)\n",
    "display(family_status_dict)"
   ]
  },
  {
   "cell_type": "markdown",
   "id": "78e3fce5",
   "metadata": {},
   "source": [
    "Удаляем из исходного датафрейма столбцы `education` и `family_status`:"
   ]
  },
  {
   "cell_type": "code",
   "execution_count": 1533,
   "id": "ecf8bac6",
   "metadata": {},
   "outputs": [
    {
     "data": {
      "text/html": [
       "<div>\n",
       "<style scoped>\n",
       "    .dataframe tbody tr th:only-of-type {\n",
       "        vertical-align: middle;\n",
       "    }\n",
       "\n",
       "    .dataframe tbody tr th {\n",
       "        vertical-align: top;\n",
       "    }\n",
       "\n",
       "    .dataframe thead th {\n",
       "        text-align: right;\n",
       "    }\n",
       "</style>\n",
       "<table border=\"1\" class=\"dataframe\">\n",
       "  <thead>\n",
       "    <tr style=\"text-align: right;\">\n",
       "      <th></th>\n",
       "      <th>children</th>\n",
       "      <th>days_employed</th>\n",
       "      <th>dob_years</th>\n",
       "      <th>education_id</th>\n",
       "      <th>family_status_id</th>\n",
       "      <th>gender</th>\n",
       "      <th>income_type</th>\n",
       "      <th>debt</th>\n",
       "      <th>total_income</th>\n",
       "      <th>purpose</th>\n",
       "    </tr>\n",
       "  </thead>\n",
       "  <tbody>\n",
       "    <tr>\n",
       "      <td>0</td>\n",
       "      <td>1</td>\n",
       "      <td>8437</td>\n",
       "      <td>42</td>\n",
       "      <td>0</td>\n",
       "      <td>0</td>\n",
       "      <td>F</td>\n",
       "      <td>сотрудник</td>\n",
       "      <td>0</td>\n",
       "      <td>253875</td>\n",
       "      <td>покупка жилья</td>\n",
       "    </tr>\n",
       "    <tr>\n",
       "      <td>1</td>\n",
       "      <td>1</td>\n",
       "      <td>4024</td>\n",
       "      <td>36</td>\n",
       "      <td>1</td>\n",
       "      <td>0</td>\n",
       "      <td>F</td>\n",
       "      <td>сотрудник</td>\n",
       "      <td>0</td>\n",
       "      <td>112080</td>\n",
       "      <td>приобретение автомобиля</td>\n",
       "    </tr>\n",
       "    <tr>\n",
       "      <td>2</td>\n",
       "      <td>0</td>\n",
       "      <td>5623</td>\n",
       "      <td>33</td>\n",
       "      <td>1</td>\n",
       "      <td>0</td>\n",
       "      <td>M</td>\n",
       "      <td>сотрудник</td>\n",
       "      <td>0</td>\n",
       "      <td>145885</td>\n",
       "      <td>покупка жилья</td>\n",
       "    </tr>\n",
       "    <tr>\n",
       "      <td>3</td>\n",
       "      <td>3</td>\n",
       "      <td>4124</td>\n",
       "      <td>32</td>\n",
       "      <td>1</td>\n",
       "      <td>0</td>\n",
       "      <td>M</td>\n",
       "      <td>сотрудник</td>\n",
       "      <td>0</td>\n",
       "      <td>267628</td>\n",
       "      <td>дополнительное образование</td>\n",
       "    </tr>\n",
       "    <tr>\n",
       "      <td>4</td>\n",
       "      <td>0</td>\n",
       "      <td>6805</td>\n",
       "      <td>53</td>\n",
       "      <td>1</td>\n",
       "      <td>1</td>\n",
       "      <td>F</td>\n",
       "      <td>пенсионер</td>\n",
       "      <td>0</td>\n",
       "      <td>158616</td>\n",
       "      <td>сыграть свадьбу</td>\n",
       "    </tr>\n",
       "  </tbody>\n",
       "</table>\n",
       "</div>"
      ],
      "text/plain": [
       "   children  days_employed  dob_years  education_id  family_status_id gender  \\\n",
       "0         1           8437         42             0                 0      F   \n",
       "1         1           4024         36             1                 0      F   \n",
       "2         0           5623         33             1                 0      M   \n",
       "3         3           4124         32             1                 0      M   \n",
       "4         0           6805         53             1                 1      F   \n",
       "\n",
       "  income_type  debt  total_income                     purpose  \n",
       "0   сотрудник     0        253875               покупка жилья  \n",
       "1   сотрудник     0        112080     приобретение автомобиля  \n",
       "2   сотрудник     0        145885               покупка жилья  \n",
       "3   сотрудник     0        267628  дополнительное образование  \n",
       "4   пенсионер     0        158616             сыграть свадьбу  "
      ]
     },
     "execution_count": 1533,
     "metadata": {},
     "output_type": "execute_result"
    }
   ],
   "source": [
    "df = df.drop(columns =['education', 'family_status'], axis=1)\n",
    "df.head()"
   ]
  },
  {
   "cell_type": "markdown",
   "id": "93f6314f",
   "metadata": {},
   "source": [
    "### Шаг 2.6. Категоризация дохода."
   ]
  },
  {
   "cell_type": "markdown",
   "id": "64ead775",
   "metadata": {},
   "source": [
    "Создаём функцию, которая на основании данных из столбца `total_income` сформирует новый столбец `total_income_category` с категориями дохода:\n",
    "\n",
    "* `0–30000` — 'E';\n",
    "* `30001–50000` — 'D';\n",
    "* `50001–200000` — 'C';\n",
    "* `200001–1000000` — 'B';\n",
    "* `1000001` и выше — 'A'."
   ]
  },
  {
   "cell_type": "code",
   "execution_count": 1534,
   "id": "c7b676bb",
   "metadata": {},
   "outputs": [],
   "source": [
    "def income_category_define(income): \n",
    "    if income <= 30000:  \n",
    "        return 'E'\n",
    "    if income <= 50000:\n",
    "        return 'D'\n",
    "    if income <= 200000:\n",
    "        return 'C'\n",
    "    if income <= 1000000:\n",
    "        return 'B'\n",
    "    return 'A'    "
   ]
  },
  {
   "cell_type": "markdown",
   "id": "0de16fd3",
   "metadata": {},
   "source": [
    "Применяем функцию к столбцу `total_income`:"
   ]
  },
  {
   "cell_type": "code",
   "execution_count": 1535,
   "id": "89b640f5",
   "metadata": {},
   "outputs": [
    {
     "data": {
      "text/plain": [
       "C    16087\n",
       "B     5041\n",
       "D      350\n",
       "A       25\n",
       "E       22\n",
       "Name: total_income_category, dtype: int64"
      ]
     },
     "execution_count": 1535,
     "metadata": {},
     "output_type": "execute_result"
    }
   ],
   "source": [
    "df['total_income_category'] = df['total_income'].apply(income_category_define)\n",
    "df['total_income_category'].value_counts()"
   ]
  },
  {
   "cell_type": "markdown",
   "id": "72a88d0e",
   "metadata": {},
   "source": [
    "### Шаг 2.7. Категоризация целей кредита."
   ]
  },
  {
   "cell_type": "markdown",
   "id": "c737cb58",
   "metadata": {},
   "source": [
    "Создаём функцию, которая на основании данных из столбца `purpose` сформирует новый столбец `purpose_category`:"
   ]
  },
  {
   "cell_type": "code",
   "execution_count": 1536,
   "id": "e0f241b2",
   "metadata": {},
   "outputs": [],
   "source": [
    "def purpose_category_correct(purpose):  # код функции\n",
    "    if 'авто' in purpose: \n",
    "        return 'операции с автомобилем'\n",
    "    if 'образ' in purpose:\n",
    "        return 'получение образования'\n",
    "    if 'свад' in purpose:\n",
    "        return 'проведение свадьбы'\n",
    "    return 'операции с недвижимостью'"
   ]
  },
  {
   "cell_type": "markdown",
   "id": "04533199",
   "metadata": {},
   "source": [
    "Применяем функцию к столбцу `purpose`:"
   ]
  },
  {
   "cell_type": "code",
   "execution_count": 1537,
   "id": "d799c64c",
   "metadata": {},
   "outputs": [
    {
     "data": {
      "text/plain": [
       "операции с недвижимостью    10840\n",
       "операции с автомобилем       4315\n",
       "получение образования        4022\n",
       "проведение свадьбы           2348\n",
       "Name: purpose_category, dtype: int64"
      ]
     },
     "execution_count": 1537,
     "metadata": {},
     "output_type": "execute_result"
    }
   ],
   "source": [
    "df['purpose_category'] = df['purpose'].apply(purpose_category_correct)\n",
    "df['purpose_category'].value_counts()"
   ]
  },
  {
   "cell_type": "markdown",
   "id": "e05ccea5",
   "metadata": {},
   "source": [
    "### Ответы на вопросы."
   ]
  },
  {
   "cell_type": "markdown",
   "id": "2f33c326",
   "metadata": {},
   "source": [
    "##### Вопрос 1: Есть ли зависимость между количеством детей и возвратом кредита в срок?"
   ]
  },
  {
   "cell_type": "markdown",
   "id": "ffdf936a",
   "metadata": {},
   "source": [
    "Чтобы проследить зависимость, создадим сводную таблицу с группировкой по значениям столбца `children`:"
   ]
  },
  {
   "cell_type": "code",
   "execution_count": 1538,
   "id": "8e406659",
   "metadata": {},
   "outputs": [
    {
     "data": {
      "text/html": [
       "<div>\n",
       "<style scoped>\n",
       "    .dataframe tbody tr th:only-of-type {\n",
       "        vertical-align: middle;\n",
       "    }\n",
       "\n",
       "    .dataframe tbody tr th {\n",
       "        vertical-align: top;\n",
       "    }\n",
       "\n",
       "    .dataframe thead th {\n",
       "        text-align: right;\n",
       "    }\n",
       "</style>\n",
       "<table border=\"1\" class=\"dataframe\">\n",
       "  <thead>\n",
       "    <tr style=\"text-align: right;\">\n",
       "      <th></th>\n",
       "      <th>debt</th>\n",
       "    </tr>\n",
       "    <tr>\n",
       "      <th>children</th>\n",
       "      <th></th>\n",
       "    </tr>\n",
       "  </thead>\n",
       "  <tbody>\n",
       "    <tr>\n",
       "      <td>0</td>\n",
       "      <td>7.512898</td>\n",
       "    </tr>\n",
       "    <tr>\n",
       "      <td>1</td>\n",
       "      <td>9.146968</td>\n",
       "    </tr>\n",
       "    <tr>\n",
       "      <td>2</td>\n",
       "      <td>9.479118</td>\n",
       "    </tr>\n",
       "    <tr>\n",
       "      <td>3</td>\n",
       "      <td>8.181818</td>\n",
       "    </tr>\n",
       "    <tr>\n",
       "      <td>4</td>\n",
       "      <td>9.756098</td>\n",
       "    </tr>\n",
       "    <tr>\n",
       "      <td>5</td>\n",
       "      <td>0.000000</td>\n",
       "    </tr>\n",
       "  </tbody>\n",
       "</table>\n",
       "</div>"
      ],
      "text/plain": [
       "              debt\n",
       "children          \n",
       "0         7.512898\n",
       "1         9.146968\n",
       "2         9.479118\n",
       "3         8.181818\n",
       "4         9.756098\n",
       "5         0.000000"
      ]
     },
     "execution_count": 1538,
     "metadata": {},
     "output_type": "execute_result"
    }
   ],
   "source": [
    "children_pivot = df.pivot_table(columns='children', values='debt')    # вычисляем долю клиентов с задолженностью\n",
    "children_pivot = children_pivot.transpose().sort_values(by='children')  # сортируем таблицу по убыванию \n",
    "children_pivot['debt'] *= 100   # получаем долю должников в процентах\n",
    "children_pivot"
   ]
  },
  {
   "cell_type": "markdown",
   "id": "2988e60b",
   "metadata": {},
   "source": [
    "##### Вывод 1:"
   ]
  },
  {
   "cell_type": "markdown",
   "id": "6c2df50e",
   "metadata": {},
   "source": [
    "По полученным значениям можно увидеть, что должников меньше среди клиентов без детей - **7.51%**.\n",
    "\n",
    "Среди клиентов с 1 и более ребенком доля имеющих задолженность в среднем больше **9%**. \n",
    "\n",
    "Число клиентов с 5 детьми слишком мало, но можно предположить, что при увеличении числа доля должников будет также больше **9%**.\n"
   ]
  },
  {
   "cell_type": "markdown",
   "id": "249210bf",
   "metadata": {},
   "source": [
    "##### Вопрос 2: Есть ли зависимость между семейным положением и возвратом кредита в срок?"
   ]
  },
  {
   "cell_type": "markdown",
   "id": "8a95c969",
   "metadata": {},
   "source": [
    "Чтобы проследить зависимость, создадим сводную таблицу с группировкой по значениям столбца `family_status_id`:"
   ]
  },
  {
   "cell_type": "code",
   "execution_count": 1542,
   "id": "f1b6c422",
   "metadata": {},
   "outputs": [
    {
     "data": {
      "text/html": [
       "<div>\n",
       "<style scoped>\n",
       "    .dataframe tbody tr th:only-of-type {\n",
       "        vertical-align: middle;\n",
       "    }\n",
       "\n",
       "    .dataframe tbody tr th {\n",
       "        vertical-align: top;\n",
       "    }\n",
       "\n",
       "    .dataframe thead th {\n",
       "        text-align: right;\n",
       "    }\n",
       "</style>\n",
       "<table border=\"1\" class=\"dataframe\">\n",
       "  <thead>\n",
       "    <tr style=\"text-align: right;\">\n",
       "      <th></th>\n",
       "      <th>debt</th>\n",
       "    </tr>\n",
       "    <tr>\n",
       "      <th>family_status_id</th>\n",
       "      <th></th>\n",
       "    </tr>\n",
       "  </thead>\n",
       "  <tbody>\n",
       "    <tr>\n",
       "      <td>0</td>\n",
       "      <td>7.520194</td>\n",
       "    </tr>\n",
       "    <tr>\n",
       "      <td>1</td>\n",
       "      <td>9.288963</td>\n",
       "    </tr>\n",
       "    <tr>\n",
       "      <td>2</td>\n",
       "      <td>6.562500</td>\n",
       "    </tr>\n",
       "    <tr>\n",
       "      <td>3</td>\n",
       "      <td>7.112971</td>\n",
       "    </tr>\n",
       "    <tr>\n",
       "      <td>4</td>\n",
       "      <td>9.740491</td>\n",
       "    </tr>\n",
       "  </tbody>\n",
       "</table>\n",
       "</div>"
      ],
      "text/plain": [
       "                      debt\n",
       "family_status_id          \n",
       "0                 7.520194\n",
       "1                 9.288963\n",
       "2                 6.562500\n",
       "3                 7.112971\n",
       "4                 9.740491"
      ]
     },
     "execution_count": 1542,
     "metadata": {},
     "output_type": "execute_result"
    }
   ],
   "source": [
    "family_pivot = df.pivot_table(columns='family_status_id', values='debt')\n",
    "family_pivot = family_pivot.transpose()\n",
    "family_pivot['debt'] *= 100\n",
    "family_pivot"
   ]
  },
  {
   "cell_type": "markdown",
   "id": "fab07eb4",
   "metadata": {},
   "source": [
    "Объединим таблицы `family_pivot` и `family_status_dict` по общему столбцу `family_status_id` и отсортируем по убыванию:"
   ]
  },
  {
   "cell_type": "code",
   "execution_count": 1543,
   "id": "3854ec90",
   "metadata": {},
   "outputs": [
    {
     "data": {
      "text/html": [
       "<div>\n",
       "<style scoped>\n",
       "    .dataframe tbody tr th:only-of-type {\n",
       "        vertical-align: middle;\n",
       "    }\n",
       "\n",
       "    .dataframe tbody tr th {\n",
       "        vertical-align: top;\n",
       "    }\n",
       "\n",
       "    .dataframe thead th {\n",
       "        text-align: right;\n",
       "    }\n",
       "</style>\n",
       "<table border=\"1\" class=\"dataframe\">\n",
       "  <thead>\n",
       "    <tr style=\"text-align: right;\">\n",
       "      <th></th>\n",
       "      <th>family_status_id</th>\n",
       "      <th>family_status</th>\n",
       "      <th>debt</th>\n",
       "    </tr>\n",
       "  </thead>\n",
       "  <tbody>\n",
       "    <tr>\n",
       "      <td>4</td>\n",
       "      <td>4</td>\n",
       "      <td>Не женат / не замужем</td>\n",
       "      <td>9.740491</td>\n",
       "    </tr>\n",
       "    <tr>\n",
       "      <td>1</td>\n",
       "      <td>1</td>\n",
       "      <td>гражданский брак</td>\n",
       "      <td>9.288963</td>\n",
       "    </tr>\n",
       "    <tr>\n",
       "      <td>0</td>\n",
       "      <td>0</td>\n",
       "      <td>женат / замужем</td>\n",
       "      <td>7.520194</td>\n",
       "    </tr>\n",
       "    <tr>\n",
       "      <td>3</td>\n",
       "      <td>3</td>\n",
       "      <td>в разводе</td>\n",
       "      <td>7.112971</td>\n",
       "    </tr>\n",
       "    <tr>\n",
       "      <td>2</td>\n",
       "      <td>2</td>\n",
       "      <td>вдовец / вдова</td>\n",
       "      <td>6.562500</td>\n",
       "    </tr>\n",
       "  </tbody>\n",
       "</table>\n",
       "</div>"
      ],
      "text/plain": [
       "   family_status_id          family_status      debt\n",
       "4                 4  Не женат / не замужем  9.740491\n",
       "1                 1       гражданский брак  9.288963\n",
       "0                 0        женат / замужем  7.520194\n",
       "3                 3              в разводе  7.112971\n",
       "2                 2         вдовец / вдова  6.562500"
      ]
     },
     "execution_count": 1543,
     "metadata": {},
     "output_type": "execute_result"
    }
   ],
   "source": [
    "family_status_dict.merge(family_pivot, on='family_status_id', how='left').sort_values(by='debt', ascending=False) "
   ]
  },
  {
   "cell_type": "markdown",
   "id": "5d6acb3a",
   "metadata": {},
   "source": [
    "##### Вывод 2:"
   ]
  },
  {
   "cell_type": "markdown",
   "id": "5e98c56b",
   "metadata": {},
   "source": [
    "В полученной таблице можно проследить зависимость семейного положения и доли клиентов с задолженностью:\n",
    "\n",
    " - Чаще всего просрочку по кредиту допускают не состоящие в официальном браке клиенты - из категорий `\"Не женат / не замужем\"` и `\"гражданский брак\"` - **9.74%** и **9.28%** соответвенно.\n",
    " \n",
    " - Более платёжеспособными клиентами являются состоящие или состоявшие в браке в прошлом - категории `\"женат / замужем\"`, `\"в разводе\"` и `\"вдовец / вдова\"` - **7.52%**, **7.11%** и **6.56%** соответстенно."
   ]
  },
  {
   "cell_type": "markdown",
   "id": "07b73a4f",
   "metadata": {},
   "source": [
    "##### Вопрос 3: Есть ли зависимость между уровнем дохода и возвратом кредита в срок?"
   ]
  },
  {
   "cell_type": "markdown",
   "id": "4a85bde3",
   "metadata": {},
   "source": [
    "Чтобы проследить зависимость, создадим сводную таблицу с группировкой по значениям столбца `total_income_category`:"
   ]
  },
  {
   "cell_type": "code",
   "execution_count": 1544,
   "id": "ff7fad8e",
   "metadata": {},
   "outputs": [
    {
     "data": {
      "text/html": [
       "<div>\n",
       "<style scoped>\n",
       "    .dataframe tbody tr th:only-of-type {\n",
       "        vertical-align: middle;\n",
       "    }\n",
       "\n",
       "    .dataframe tbody tr th {\n",
       "        vertical-align: top;\n",
       "    }\n",
       "\n",
       "    .dataframe thead th {\n",
       "        text-align: right;\n",
       "    }\n",
       "</style>\n",
       "<table border=\"1\" class=\"dataframe\">\n",
       "  <thead>\n",
       "    <tr style=\"text-align: right;\">\n",
       "      <th></th>\n",
       "      <th>debt</th>\n",
       "    </tr>\n",
       "    <tr>\n",
       "      <th>total_income_category</th>\n",
       "      <th></th>\n",
       "    </tr>\n",
       "  </thead>\n",
       "  <tbody>\n",
       "    <tr>\n",
       "      <td>E</td>\n",
       "      <td>9.090909</td>\n",
       "    </tr>\n",
       "    <tr>\n",
       "      <td>C</td>\n",
       "      <td>8.454031</td>\n",
       "    </tr>\n",
       "    <tr>\n",
       "      <td>A</td>\n",
       "      <td>8.000000</td>\n",
       "    </tr>\n",
       "    <tr>\n",
       "      <td>B</td>\n",
       "      <td>7.062091</td>\n",
       "    </tr>\n",
       "    <tr>\n",
       "      <td>D</td>\n",
       "      <td>6.000000</td>\n",
       "    </tr>\n",
       "  </tbody>\n",
       "</table>\n",
       "</div>"
      ],
      "text/plain": [
       "                           debt\n",
       "total_income_category          \n",
       "E                      9.090909\n",
       "C                      8.454031\n",
       "A                      8.000000\n",
       "B                      7.062091\n",
       "D                      6.000000"
      ]
     },
     "execution_count": 1544,
     "metadata": {},
     "output_type": "execute_result"
    }
   ],
   "source": [
    "income_pivot = df.pivot_table(columns='total_income_category', values='debt')\n",
    "income_pivot = income_pivot.transpose().sort_values(by='debt', ascending=False)\n",
    "income_pivot['debt'] *= 100\n",
    "income_pivot"
   ]
  },
  {
   "cell_type": "markdown",
   "id": "13ed2521",
   "metadata": {},
   "source": [
    "##### Вывод 3:"
   ]
  },
  {
   "cell_type": "markdown",
   "id": "cae665dd",
   "metadata": {},
   "source": [
    "По полученным данным прямая зависимость не отслеживается; \n",
    "\n",
    "- При этом самой платежеспособной категорией является `\"D\"` - с доходом от 30 до 50 тыс. руб. - всего **6%** должников;\n",
    "\n",
    "- Самая большая доля должников - в категории `\"Е\"` с доходом до 30 тыс. руб. - **9.09%** клиентов имеют задолженность."
   ]
  },
  {
   "cell_type": "markdown",
   "id": "be13cef8",
   "metadata": {},
   "source": [
    "##### Вопрос 4: Как разные цели кредита влияют на его возврат в срок?"
   ]
  },
  {
   "cell_type": "markdown",
   "id": "633258c4",
   "metadata": {},
   "source": [
    "Чтобы проследить зависимость, создадим сводную таблицу с группировкой по значениям столбца `purpose_category`:"
   ]
  },
  {
   "cell_type": "code",
   "execution_count": 1545,
   "id": "cd285664",
   "metadata": {},
   "outputs": [
    {
     "data": {
      "text/html": [
       "<div>\n",
       "<style scoped>\n",
       "    .dataframe tbody tr th:only-of-type {\n",
       "        vertical-align: middle;\n",
       "    }\n",
       "\n",
       "    .dataframe tbody tr th {\n",
       "        vertical-align: top;\n",
       "    }\n",
       "\n",
       "    .dataframe thead th {\n",
       "        text-align: right;\n",
       "    }\n",
       "</style>\n",
       "<table border=\"1\" class=\"dataframe\">\n",
       "  <thead>\n",
       "    <tr style=\"text-align: right;\">\n",
       "      <th></th>\n",
       "      <th>debt</th>\n",
       "    </tr>\n",
       "    <tr>\n",
       "      <th>purpose_category</th>\n",
       "      <th></th>\n",
       "    </tr>\n",
       "  </thead>\n",
       "  <tbody>\n",
       "    <tr>\n",
       "      <td>операции с автомобилем</td>\n",
       "      <td>9.339513</td>\n",
       "    </tr>\n",
       "    <tr>\n",
       "      <td>получение образования</td>\n",
       "      <td>9.199403</td>\n",
       "    </tr>\n",
       "    <tr>\n",
       "      <td>проведение свадьбы</td>\n",
       "      <td>7.921635</td>\n",
       "    </tr>\n",
       "    <tr>\n",
       "      <td>операции с недвижимостью</td>\n",
       "      <td>7.214022</td>\n",
       "    </tr>\n",
       "  </tbody>\n",
       "</table>\n",
       "</div>"
      ],
      "text/plain": [
       "                              debt\n",
       "purpose_category                  \n",
       "операции с автомобилем    9.339513\n",
       "получение образования     9.199403\n",
       "проведение свадьбы        7.921635\n",
       "операции с недвижимостью  7.214022"
      ]
     },
     "execution_count": 1545,
     "metadata": {},
     "output_type": "execute_result"
    }
   ],
   "source": [
    "purpose_pivot = df.pivot_table(columns='purpose_category', values='debt')\n",
    "purpose_pivot = purpose_pivot.transpose().sort_values(by='debt', ascending=False)\n",
    "purpose_pivot['debt'] *= 100\n",
    "purpose_pivot"
   ]
  },
  {
   "cell_type": "markdown",
   "id": "4a717aa1",
   "metadata": {},
   "source": [
    "##### Вывод 4:"
   ]
  },
  {
   "cell_type": "markdown",
   "id": "98bff76d",
   "metadata": {},
   "source": [
    "В полученной таблице можно увидеть влияние цели кредита на возврат в срок:\n",
    "    \n",
    "   - Чаще всего просрочка по кредиту происходит в категориях `\"операции с автомобилем\"` и `\"получение образования\"` - **9.33%** и  **9.20%** соответственно;\n",
    "   - В категориях `\"проведение свадьбы\"` и `\"операции с недвижимостью\"` доля клиентов с задолженностью меньше - **7.92%** и **7.21%** соответственно. "
   ]
  },
  {
   "cell_type": "markdown",
   "id": "deb30031",
   "metadata": {},
   "source": [
    "## Общий вывод:"
   ]
  },
  {
   "cell_type": "markdown",
   "id": "5bca01e9",
   "metadata": {},
   "source": [
    "Мы ответили на 4 вопроса и установили:\n",
    "\n",
    "1. Отсутсвие детей в семье положиельно сказывается на возврате кредита в срок;\n",
    "2. Нет прямой зависимости между между уровнем дохода и возвратом кредита - самой платежеспособной категорией является `\"D\"` - с доходом от 30 до 50 тыс. руб.;\n",
    "\n",
    "3. Более платёжеспособными клиентами являются состоящие или состоявшие в браке в прошлом - категории `\"женат / замужем\"`, `\"в разводе\"` и `\"вдовец / вдова\"`;\n",
    "4. В категориях `\"проведение свадьбы\"` и `\"операции с недвижимостью\"` доля клиентов с задолженностью меньше.\n"
   ]
  }
 ],
 "metadata": {
  "ExecuteTimeLog": [
   {
    "duration": 1014,
    "start_time": "2022-02-23T17:52:13.326Z"
   },
   {
    "duration": 86,
    "start_time": "2022-02-23T17:52:59.528Z"
   },
   {
    "duration": 59,
    "start_time": "2022-02-23T17:55:15.997Z"
   },
   {
    "duration": 65,
    "start_time": "2022-02-23T17:55:32.101Z"
   },
   {
    "duration": 59,
    "start_time": "2022-02-23T17:55:45.414Z"
   },
   {
    "duration": 3,
    "start_time": "2022-02-23T17:56:24.081Z"
   },
   {
    "duration": 59,
    "start_time": "2022-02-23T17:56:25.823Z"
   },
   {
    "duration": 126,
    "start_time": "2022-02-23T17:56:34.844Z"
   },
   {
    "duration": 122,
    "start_time": "2022-02-23T17:57:52.488Z"
   },
   {
    "duration": 20,
    "start_time": "2022-02-23T18:04:52.528Z"
   },
   {
    "duration": 100,
    "start_time": "2022-02-23T18:07:09.491Z"
   },
   {
    "duration": 96,
    "start_time": "2022-02-23T18:07:55.991Z"
   },
   {
    "duration": 78,
    "start_time": "2022-02-23T18:08:07.778Z"
   },
   {
    "duration": 33,
    "start_time": "2022-02-23T18:10:30.698Z"
   },
   {
    "duration": 14,
    "start_time": "2022-02-23T18:10:45.883Z"
   },
   {
    "duration": 6,
    "start_time": "2022-02-23T18:13:22.553Z"
   },
   {
    "duration": 18,
    "start_time": "2022-02-23T18:18:08.134Z"
   },
   {
    "duration": 11,
    "start_time": "2022-02-23T18:18:19.579Z"
   },
   {
    "duration": 25,
    "start_time": "2022-02-23T18:18:30.385Z"
   },
   {
    "duration": 24,
    "start_time": "2022-02-23T18:18:51.334Z"
   },
   {
    "duration": 3728,
    "start_time": "2022-02-23T18:21:54.599Z"
   },
   {
    "duration": 635,
    "start_time": "2022-02-23T18:22:05.518Z"
   },
   {
    "duration": 639,
    "start_time": "2022-02-23T18:22:11.564Z"
   },
   {
    "duration": 3337,
    "start_time": "2022-02-23T18:22:14.573Z"
   },
   {
    "duration": 4,
    "start_time": "2022-02-23T18:22:21.303Z"
   },
   {
    "duration": 153,
    "start_time": "2022-02-23T18:22:21.309Z"
   },
   {
    "duration": 20,
    "start_time": "2022-02-23T18:22:21.466Z"
   },
   {
    "duration": 3605,
    "start_time": "2022-02-23T18:22:21.489Z"
   },
   {
    "duration": 3881,
    "start_time": "2022-02-23T18:23:01.338Z"
   },
   {
    "duration": 3632,
    "start_time": "2022-02-23T18:23:42.124Z"
   },
   {
    "duration": 4702,
    "start_time": "2022-02-23T18:24:31.596Z"
   },
   {
    "duration": 3193,
    "start_time": "2022-02-23T18:24:51.857Z"
   },
   {
    "duration": 4019,
    "start_time": "2022-02-23T18:25:09.756Z"
   },
   {
    "duration": 4,
    "start_time": "2022-02-23T18:25:17.138Z"
   },
   {
    "duration": 81,
    "start_time": "2022-02-23T18:25:17.146Z"
   },
   {
    "duration": 33,
    "start_time": "2022-02-23T18:25:17.231Z"
   },
   {
    "duration": 30,
    "start_time": "2022-02-23T18:25:17.268Z"
   },
   {
    "duration": 4,
    "start_time": "2022-02-23T18:25:33.124Z"
   },
   {
    "duration": 84,
    "start_time": "2022-02-23T18:25:33.132Z"
   },
   {
    "duration": 32,
    "start_time": "2022-02-23T18:25:33.220Z"
   },
   {
    "duration": 29,
    "start_time": "2022-02-23T18:25:33.258Z"
   },
   {
    "duration": 22,
    "start_time": "2022-02-23T18:27:36.175Z"
   },
   {
    "duration": 85,
    "start_time": "2022-02-23T18:29:28.443Z"
   },
   {
    "duration": 84,
    "start_time": "2022-02-23T18:29:35.650Z"
   },
   {
    "duration": 27,
    "start_time": "2022-02-23T18:33:49.490Z"
   },
   {
    "duration": 33,
    "start_time": "2022-02-23T18:34:11.640Z"
   },
   {
    "duration": 9,
    "start_time": "2022-02-23T18:34:57.866Z"
   },
   {
    "duration": 9,
    "start_time": "2022-02-23T18:43:38.254Z"
   },
   {
    "duration": 10,
    "start_time": "2022-02-23T18:44:06.277Z"
   },
   {
    "duration": 10,
    "start_time": "2022-02-23T18:44:14.369Z"
   },
   {
    "duration": 11,
    "start_time": "2022-02-23T18:44:32.007Z"
   },
   {
    "duration": 18,
    "start_time": "2022-02-23T18:46:57.235Z"
   },
   {
    "duration": 35,
    "start_time": "2022-02-23T18:47:09.170Z"
   },
   {
    "duration": 39,
    "start_time": "2022-02-23T18:47:13.939Z"
   },
   {
    "duration": 30,
    "start_time": "2022-02-23T18:47:40.897Z"
   },
   {
    "duration": 27,
    "start_time": "2022-02-23T18:48:20.818Z"
   },
   {
    "duration": 26,
    "start_time": "2022-02-23T18:48:39.097Z"
   },
   {
    "duration": 38,
    "start_time": "2022-02-23T18:49:00.601Z"
   },
   {
    "duration": 8,
    "start_time": "2022-02-23T18:49:58.837Z"
   },
   {
    "duration": 20,
    "start_time": "2022-02-23T18:50:11.420Z"
   },
   {
    "duration": 9,
    "start_time": "2022-02-23T18:52:44.938Z"
   },
   {
    "duration": 22,
    "start_time": "2022-02-23T18:52:59.082Z"
   },
   {
    "duration": 23,
    "start_time": "2022-02-23T18:53:03.280Z"
   },
   {
    "duration": 4,
    "start_time": "2022-02-23T18:53:06.554Z"
   },
   {
    "duration": 135,
    "start_time": "2022-02-23T18:53:06.561Z"
   },
   {
    "duration": 15,
    "start_time": "2022-02-23T18:53:06.699Z"
   },
   {
    "duration": 9,
    "start_time": "2022-02-23T18:53:06.717Z"
   },
   {
    "duration": 22,
    "start_time": "2022-02-23T18:53:06.749Z"
   },
   {
    "duration": 21,
    "start_time": "2022-02-23T18:53:06.774Z"
   },
   {
    "duration": 61,
    "start_time": "2022-02-23T18:53:06.797Z"
   },
   {
    "duration": 8,
    "start_time": "2022-02-23T18:53:06.861Z"
   },
   {
    "duration": 16,
    "start_time": "2022-02-23T18:53:20.485Z"
   },
   {
    "duration": 19,
    "start_time": "2022-02-23T18:54:53.308Z"
   },
   {
    "duration": 19,
    "start_time": "2022-02-23T18:55:01.242Z"
   },
   {
    "duration": 21,
    "start_time": "2022-02-23T18:55:21.726Z"
   },
   {
    "duration": 6,
    "start_time": "2022-02-23T18:56:48.650Z"
   },
   {
    "duration": 79,
    "start_time": "2022-02-23T18:57:15.489Z"
   },
   {
    "duration": 9,
    "start_time": "2022-02-23T18:58:29.422Z"
   },
   {
    "duration": 14,
    "start_time": "2022-02-23T19:02:12.680Z"
   },
   {
    "duration": 4,
    "start_time": "2022-02-23T19:02:18.164Z"
   },
   {
    "duration": 85,
    "start_time": "2022-02-23T19:02:18.172Z"
   },
   {
    "duration": 20,
    "start_time": "2022-02-23T19:02:18.262Z"
   },
   {
    "duration": 16,
    "start_time": "2022-02-23T19:02:18.286Z"
   },
   {
    "duration": 75,
    "start_time": "2022-02-23T19:02:18.305Z"
   },
   {
    "duration": 28,
    "start_time": "2022-02-23T19:02:18.384Z"
   },
   {
    "duration": 34,
    "start_time": "2022-02-23T19:02:18.415Z"
   },
   {
    "duration": 15,
    "start_time": "2022-02-23T19:02:18.453Z"
   },
   {
    "duration": 16,
    "start_time": "2022-02-23T19:02:35.650Z"
   },
   {
    "duration": 9,
    "start_time": "2022-02-23T19:02:42.612Z"
   },
   {
    "duration": 4,
    "start_time": "2022-02-23T19:02:46.107Z"
   },
   {
    "duration": 113,
    "start_time": "2022-02-23T19:02:46.114Z"
   },
   {
    "duration": 18,
    "start_time": "2022-02-23T19:02:46.230Z"
   },
   {
    "duration": 22,
    "start_time": "2022-02-23T19:02:46.253Z"
   },
   {
    "duration": 74,
    "start_time": "2022-02-23T19:02:46.281Z"
   },
   {
    "duration": 43,
    "start_time": "2022-02-23T19:02:46.360Z"
   },
   {
    "duration": 15,
    "start_time": "2022-02-23T19:02:46.406Z"
   },
   {
    "duration": 29,
    "start_time": "2022-02-23T19:02:46.423Z"
   },
   {
    "duration": 16,
    "start_time": "2022-02-23T19:02:56.463Z"
   },
   {
    "duration": 9,
    "start_time": "2022-02-23T19:03:43.461Z"
   },
   {
    "duration": 13,
    "start_time": "2022-02-23T19:04:25.604Z"
   },
   {
    "duration": 15,
    "start_time": "2022-02-23T19:04:44.052Z"
   },
   {
    "duration": 258,
    "start_time": "2022-02-23T19:05:22.875Z"
   },
   {
    "duration": 340,
    "start_time": "2022-02-23T19:05:27.857Z"
   },
   {
    "duration": 4,
    "start_time": "2022-02-23T19:05:45.727Z"
   },
   {
    "duration": 23,
    "start_time": "2022-02-23T19:08:14.371Z"
   },
   {
    "duration": 33,
    "start_time": "2022-02-23T19:10:13.391Z"
   },
   {
    "duration": 28,
    "start_time": "2022-02-23T19:10:23.156Z"
   },
   {
    "duration": 27,
    "start_time": "2022-02-23T19:11:06.870Z"
   },
   {
    "duration": 70,
    "start_time": "2022-02-23T19:11:34.797Z"
   },
   {
    "duration": 89,
    "start_time": "2022-02-23T19:11:39.525Z"
   },
   {
    "duration": 71,
    "start_time": "2022-02-23T19:13:54.488Z"
   },
   {
    "duration": 12,
    "start_time": "2022-02-23T19:13:57.728Z"
   },
   {
    "duration": 74,
    "start_time": "2022-02-23T19:14:20.586Z"
   },
   {
    "duration": 48,
    "start_time": "2022-02-23T19:14:31.821Z"
   },
   {
    "duration": 104,
    "start_time": "2022-02-23T19:15:06.613Z"
   },
   {
    "duration": 74,
    "start_time": "2022-02-23T19:15:14.141Z"
   },
   {
    "duration": 6,
    "start_time": "2022-02-23T19:20:59.478Z"
   },
   {
    "duration": 528,
    "start_time": "2022-02-23T19:24:39.799Z"
   },
   {
    "duration": 583,
    "start_time": "2022-02-23T19:25:26.021Z"
   },
   {
    "duration": 6,
    "start_time": "2022-02-23T19:26:04.507Z"
   },
   {
    "duration": 5,
    "start_time": "2022-02-23T19:26:08.860Z"
   },
   {
    "duration": 20,
    "start_time": "2022-02-23T19:26:09.364Z"
   },
   {
    "duration": 37,
    "start_time": "2022-02-23T19:26:20.831Z"
   },
   {
    "duration": 4,
    "start_time": "2022-02-25T10:12:23.175Z"
   },
   {
    "duration": 572,
    "start_time": "2022-02-25T10:12:57.351Z"
   },
   {
    "duration": 59,
    "start_time": "2022-02-25T10:12:57.924Z"
   },
   {
    "duration": 9,
    "start_time": "2022-02-25T10:12:57.985Z"
   },
   {
    "duration": 5,
    "start_time": "2022-02-25T10:12:57.995Z"
   },
   {
    "duration": 18,
    "start_time": "2022-02-25T10:12:58.001Z"
   },
   {
    "duration": 10,
    "start_time": "2022-02-25T10:12:58.020Z"
   },
   {
    "duration": 15,
    "start_time": "2022-02-25T10:12:58.032Z"
   },
   {
    "duration": 30,
    "start_time": "2022-02-25T10:12:58.049Z"
   },
   {
    "duration": 16,
    "start_time": "2022-02-25T10:12:58.080Z"
   },
   {
    "duration": 2,
    "start_time": "2022-02-25T10:12:58.098Z"
   },
   {
    "duration": 13,
    "start_time": "2022-02-25T10:15:30.739Z"
   },
   {
    "duration": 3,
    "start_time": "2022-02-25T10:16:24.616Z"
   },
   {
    "duration": 4,
    "start_time": "2022-02-25T10:16:39.087Z"
   },
   {
    "duration": 4,
    "start_time": "2022-02-25T10:16:48.149Z"
   },
   {
    "duration": 3,
    "start_time": "2022-02-25T10:16:57.295Z"
   },
   {
    "duration": 151,
    "start_time": "2022-02-25T10:22:34.263Z"
   },
   {
    "duration": 109,
    "start_time": "2022-02-25T10:23:53.352Z"
   },
   {
    "duration": 131,
    "start_time": "2022-02-25T10:24:38.462Z"
   },
   {
    "duration": 91,
    "start_time": "2022-02-25T10:28:25.569Z"
   },
   {
    "duration": 3,
    "start_time": "2022-02-25T10:32:17.378Z"
   },
   {
    "duration": 59,
    "start_time": "2022-02-25T10:32:17.383Z"
   },
   {
    "duration": 11,
    "start_time": "2022-02-25T10:32:17.444Z"
   },
   {
    "duration": 4,
    "start_time": "2022-02-25T10:32:17.458Z"
   },
   {
    "duration": 15,
    "start_time": "2022-02-25T10:32:17.464Z"
   },
   {
    "duration": 2,
    "start_time": "2022-02-25T10:32:17.481Z"
   },
   {
    "duration": 11,
    "start_time": "2022-02-25T10:32:17.485Z"
   },
   {
    "duration": 54,
    "start_time": "2022-02-25T10:32:17.497Z"
   },
   {
    "duration": 16,
    "start_time": "2022-02-25T10:32:17.553Z"
   },
   {
    "duration": 2,
    "start_time": "2022-02-25T10:32:17.571Z"
   },
   {
    "duration": 7,
    "start_time": "2022-02-25T10:32:17.575Z"
   },
   {
    "duration": 12,
    "start_time": "2022-02-25T10:32:17.584Z"
   },
   {
    "duration": 7,
    "start_time": "2022-02-25T10:33:21.841Z"
   },
   {
    "duration": 377,
    "start_time": "2022-02-25T10:33:45.521Z"
   },
   {
    "duration": 321,
    "start_time": "2022-02-25T10:33:50.412Z"
   },
   {
    "duration": 9,
    "start_time": "2022-02-25T10:34:02.876Z"
   },
   {
    "duration": 7,
    "start_time": "2022-02-25T10:34:12.336Z"
   },
   {
    "duration": 7,
    "start_time": "2022-02-25T10:34:17.611Z"
   },
   {
    "duration": 8,
    "start_time": "2022-02-25T10:35:44.337Z"
   },
   {
    "duration": 7,
    "start_time": "2022-02-25T10:36:49.891Z"
   },
   {
    "duration": 2,
    "start_time": "2022-02-25T10:40:36.382Z"
   },
   {
    "duration": 62,
    "start_time": "2022-02-25T10:40:36.386Z"
   },
   {
    "duration": 10,
    "start_time": "2022-02-25T10:40:36.449Z"
   },
   {
    "duration": 20,
    "start_time": "2022-02-25T10:40:36.461Z"
   },
   {
    "duration": 7,
    "start_time": "2022-02-25T10:40:36.482Z"
   },
   {
    "duration": 19,
    "start_time": "2022-02-25T10:40:36.490Z"
   },
   {
    "duration": 641,
    "start_time": "2022-02-25T10:40:36.511Z"
   },
   {
    "duration": -665,
    "start_time": "2022-02-25T10:40:37.820Z"
   },
   {
    "duration": -665,
    "start_time": "2022-02-25T10:40:37.821Z"
   },
   {
    "duration": -664,
    "start_time": "2022-02-25T10:40:37.822Z"
   },
   {
    "duration": -689,
    "start_time": "2022-02-25T10:40:37.848Z"
   },
   {
    "duration": -689,
    "start_time": "2022-02-25T10:40:37.849Z"
   },
   {
    "duration": 8,
    "start_time": "2022-02-25T10:40:57.923Z"
   },
   {
    "duration": 4,
    "start_time": "2022-02-25T10:41:18.999Z"
   },
   {
    "duration": 7,
    "start_time": "2022-02-25T10:41:21.102Z"
   },
   {
    "duration": 8,
    "start_time": "2022-02-25T10:41:35.084Z"
   },
   {
    "duration": 14,
    "start_time": "2022-02-25T10:42:14.812Z"
   },
   {
    "duration": 7,
    "start_time": "2022-02-25T10:42:17.679Z"
   },
   {
    "duration": 22,
    "start_time": "2022-02-25T10:45:49.717Z"
   },
   {
    "duration": 8,
    "start_time": "2022-02-25T10:46:14.701Z"
   },
   {
    "duration": 8,
    "start_time": "2022-02-25T10:46:31.268Z"
   },
   {
    "duration": 10,
    "start_time": "2022-02-25T10:46:37.885Z"
   },
   {
    "duration": 12,
    "start_time": "2022-02-25T10:47:06.273Z"
   },
   {
    "duration": 7,
    "start_time": "2022-02-25T10:47:09.999Z"
   },
   {
    "duration": 10,
    "start_time": "2022-02-25T10:47:38.101Z"
   },
   {
    "duration": 2,
    "start_time": "2022-02-25T10:47:42.297Z"
   },
   {
    "duration": 58,
    "start_time": "2022-02-25T10:47:42.301Z"
   },
   {
    "duration": 10,
    "start_time": "2022-02-25T10:47:42.361Z"
   },
   {
    "duration": 2,
    "start_time": "2022-02-25T10:47:42.373Z"
   },
   {
    "duration": 12,
    "start_time": "2022-02-25T10:47:42.377Z"
   },
   {
    "duration": 8,
    "start_time": "2022-02-25T10:47:42.390Z"
   },
   {
    "duration": 6,
    "start_time": "2022-02-25T10:47:42.399Z"
   },
   {
    "duration": 58,
    "start_time": "2022-02-25T10:47:42.407Z"
   },
   {
    "duration": 17,
    "start_time": "2022-02-25T10:47:42.467Z"
   },
   {
    "duration": 6,
    "start_time": "2022-02-25T10:47:42.485Z"
   },
   {
    "duration": 5,
    "start_time": "2022-02-25T10:47:42.492Z"
   },
   {
    "duration": 17,
    "start_time": "2022-02-25T10:47:42.498Z"
   },
   {
    "duration": 7,
    "start_time": "2022-02-25T10:48:13.586Z"
   },
   {
    "duration": 2,
    "start_time": "2022-02-25T10:48:21.855Z"
   },
   {
    "duration": 57,
    "start_time": "2022-02-25T10:48:21.859Z"
   },
   {
    "duration": 9,
    "start_time": "2022-02-25T10:48:21.918Z"
   },
   {
    "duration": 4,
    "start_time": "2022-02-25T10:48:21.929Z"
   },
   {
    "duration": 18,
    "start_time": "2022-02-25T10:48:21.934Z"
   },
   {
    "duration": 6,
    "start_time": "2022-02-25T10:48:21.954Z"
   },
   {
    "duration": 4,
    "start_time": "2022-02-25T10:48:21.962Z"
   },
   {
    "duration": 30,
    "start_time": "2022-02-25T10:48:21.967Z"
   },
   {
    "duration": 15,
    "start_time": "2022-02-25T10:48:21.999Z"
   },
   {
    "duration": 3,
    "start_time": "2022-02-25T10:48:22.046Z"
   },
   {
    "duration": 5,
    "start_time": "2022-02-25T10:48:22.051Z"
   },
   {
    "duration": 12,
    "start_time": "2022-02-25T10:48:22.058Z"
   },
   {
    "duration": 11,
    "start_time": "2022-02-25T10:48:31.471Z"
   },
   {
    "duration": 4,
    "start_time": "2022-02-25T10:48:53.979Z"
   },
   {
    "duration": 2,
    "start_time": "2022-02-25T10:49:03.994Z"
   },
   {
    "duration": 69,
    "start_time": "2022-02-25T10:49:03.997Z"
   },
   {
    "duration": 9,
    "start_time": "2022-02-25T10:49:04.068Z"
   },
   {
    "duration": 2,
    "start_time": "2022-02-25T10:49:04.079Z"
   },
   {
    "duration": 16,
    "start_time": "2022-02-25T10:49:04.082Z"
   },
   {
    "duration": 9,
    "start_time": "2022-02-25T10:49:04.099Z"
   },
   {
    "duration": 3,
    "start_time": "2022-02-25T10:49:04.110Z"
   },
   {
    "duration": 35,
    "start_time": "2022-02-25T10:49:04.114Z"
   },
   {
    "duration": 27,
    "start_time": "2022-02-25T10:49:04.152Z"
   },
   {
    "duration": 18,
    "start_time": "2022-02-25T10:49:04.180Z"
   },
   {
    "duration": 3,
    "start_time": "2022-02-25T10:49:04.200Z"
   },
   {
    "duration": 42,
    "start_time": "2022-02-25T10:49:04.205Z"
   },
   {
    "duration": 13,
    "start_time": "2022-02-25T10:49:04.248Z"
   },
   {
    "duration": 121,
    "start_time": "2022-02-25T10:52:08.450Z"
   },
   {
    "duration": 7,
    "start_time": "2022-02-25T10:56:02.890Z"
   },
   {
    "duration": 3,
    "start_time": "2022-02-25T11:01:10.617Z"
   },
   {
    "duration": 5636,
    "start_time": "2022-02-25T11:11:58.465Z"
   },
   {
    "duration": 5464,
    "start_time": "2022-02-25T11:12:23.804Z"
   },
   {
    "duration": 3,
    "start_time": "2022-02-25T11:12:43.393Z"
   },
   {
    "duration": 57,
    "start_time": "2022-02-25T11:12:43.398Z"
   },
   {
    "duration": 9,
    "start_time": "2022-02-25T11:12:43.457Z"
   },
   {
    "duration": 5,
    "start_time": "2022-02-25T11:12:43.468Z"
   },
   {
    "duration": 14,
    "start_time": "2022-02-25T11:12:43.474Z"
   },
   {
    "duration": 8,
    "start_time": "2022-02-25T11:12:43.489Z"
   },
   {
    "duration": 3,
    "start_time": "2022-02-25T11:12:43.500Z"
   },
   {
    "duration": 5412,
    "start_time": "2022-02-25T11:12:43.504Z"
   },
   {
    "duration": -665,
    "start_time": "2022-02-25T11:12:49.583Z"
   },
   {
    "duration": -667,
    "start_time": "2022-02-25T11:12:49.586Z"
   },
   {
    "duration": -667,
    "start_time": "2022-02-25T11:12:49.587Z"
   },
   {
    "duration": -667,
    "start_time": "2022-02-25T11:12:49.588Z"
   },
   {
    "duration": -667,
    "start_time": "2022-02-25T11:12:49.589Z"
   },
   {
    "duration": -667,
    "start_time": "2022-02-25T11:12:49.590Z"
   },
   {
    "duration": -667,
    "start_time": "2022-02-25T11:12:49.591Z"
   },
   {
    "duration": -667,
    "start_time": "2022-02-25T11:12:49.592Z"
   },
   {
    "duration": 7,
    "start_time": "2022-02-25T11:13:43.342Z"
   },
   {
    "duration": 8,
    "start_time": "2022-02-25T11:14:15.352Z"
   },
   {
    "duration": 7,
    "start_time": "2022-02-25T11:14:47.956Z"
   },
   {
    "duration": 5819,
    "start_time": "2022-02-25T11:14:59.802Z"
   },
   {
    "duration": 5,
    "start_time": "2022-02-25T11:15:09.378Z"
   },
   {
    "duration": 8,
    "start_time": "2022-02-25T11:17:43.950Z"
   },
   {
    "duration": 9,
    "start_time": "2022-02-25T11:21:09.398Z"
   },
   {
    "duration": 7395,
    "start_time": "2022-02-25T11:21:51.209Z"
   },
   {
    "duration": 12,
    "start_time": "2022-02-25T11:22:14.174Z"
   },
   {
    "duration": 2,
    "start_time": "2022-02-25T11:23:49.391Z"
   },
   {
    "duration": 2,
    "start_time": "2022-02-25T11:24:08.445Z"
   },
   {
    "duration": 9,
    "start_time": "2022-02-25T11:33:40.041Z"
   },
   {
    "duration": 9,
    "start_time": "2022-02-25T11:33:50.202Z"
   },
   {
    "duration": 6,
    "start_time": "2022-02-25T11:33:59.200Z"
   },
   {
    "duration": 8,
    "start_time": "2022-02-25T11:34:01.229Z"
   },
   {
    "duration": 5,
    "start_time": "2022-02-25T11:34:15.939Z"
   },
   {
    "duration": 5,
    "start_time": "2022-02-25T11:34:29.245Z"
   },
   {
    "duration": 6,
    "start_time": "2022-02-25T11:34:37.484Z"
   },
   {
    "duration": 6,
    "start_time": "2022-02-25T11:34:54.798Z"
   },
   {
    "duration": 6,
    "start_time": "2022-02-25T11:35:01.910Z"
   },
   {
    "duration": 5,
    "start_time": "2022-02-25T11:35:04.181Z"
   },
   {
    "duration": 6,
    "start_time": "2022-02-25T11:35:08.431Z"
   },
   {
    "duration": 6,
    "start_time": "2022-02-25T11:35:13.913Z"
   },
   {
    "duration": 6,
    "start_time": "2022-02-25T11:35:20.274Z"
   },
   {
    "duration": 6,
    "start_time": "2022-02-25T11:35:27.033Z"
   },
   {
    "duration": 5,
    "start_time": "2022-02-25T11:35:33.826Z"
   },
   {
    "duration": 6,
    "start_time": "2022-02-25T11:35:39.582Z"
   },
   {
    "duration": 6,
    "start_time": "2022-02-25T11:35:45.628Z"
   },
   {
    "duration": 6,
    "start_time": "2022-02-25T11:35:55.103Z"
   },
   {
    "duration": 6,
    "start_time": "2022-02-25T11:36:02.043Z"
   },
   {
    "duration": 6,
    "start_time": "2022-02-25T11:36:06.100Z"
   },
   {
    "duration": 5,
    "start_time": "2022-02-25T11:36:12.159Z"
   },
   {
    "duration": 6,
    "start_time": "2022-02-25T11:36:16.160Z"
   },
   {
    "duration": 6,
    "start_time": "2022-02-25T11:36:20.166Z"
   },
   {
    "duration": 6,
    "start_time": "2022-02-25T11:36:23.772Z"
   },
   {
    "duration": 6,
    "start_time": "2022-02-25T11:39:44.138Z"
   },
   {
    "duration": 6,
    "start_time": "2022-02-25T11:39:48.538Z"
   },
   {
    "duration": 5,
    "start_time": "2022-02-25T11:40:28.957Z"
   },
   {
    "duration": 5,
    "start_time": "2022-02-25T11:40:34.869Z"
   },
   {
    "duration": 1094,
    "start_time": "2022-02-25T11:42:26.527Z"
   },
   {
    "duration": 6,
    "start_time": "2022-02-25T11:42:44.513Z"
   },
   {
    "duration": 5,
    "start_time": "2022-02-25T11:45:53.544Z"
   },
   {
    "duration": 6,
    "start_time": "2022-02-25T11:45:57.112Z"
   },
   {
    "duration": 7,
    "start_time": "2022-02-25T11:46:01.671Z"
   },
   {
    "duration": 6,
    "start_time": "2022-02-25T11:46:05.574Z"
   },
   {
    "duration": 6,
    "start_time": "2022-02-25T11:49:45.586Z"
   },
   {
    "duration": 7,
    "start_time": "2022-02-25T11:50:02.240Z"
   },
   {
    "duration": 12,
    "start_time": "2022-02-25T11:51:09.051Z"
   },
   {
    "duration": 6,
    "start_time": "2022-02-25T11:51:18.173Z"
   },
   {
    "duration": 7,
    "start_time": "2022-02-25T11:51:27.934Z"
   },
   {
    "duration": 7,
    "start_time": "2022-02-25T11:51:33.042Z"
   },
   {
    "duration": 7,
    "start_time": "2022-02-25T11:51:36.822Z"
   },
   {
    "duration": 6,
    "start_time": "2022-02-25T11:51:46.861Z"
   },
   {
    "duration": 6,
    "start_time": "2022-02-25T11:51:56.239Z"
   },
   {
    "duration": 6,
    "start_time": "2022-02-25T11:52:00.546Z"
   },
   {
    "duration": 6,
    "start_time": "2022-02-25T11:52:03.263Z"
   },
   {
    "duration": 6,
    "start_time": "2022-02-25T11:52:06.176Z"
   },
   {
    "duration": 6,
    "start_time": "2022-02-25T11:52:18.004Z"
   },
   {
    "duration": 7,
    "start_time": "2022-02-25T11:52:21.558Z"
   },
   {
    "duration": 6,
    "start_time": "2022-02-25T11:52:26.343Z"
   },
   {
    "duration": 6,
    "start_time": "2022-02-25T11:52:29.202Z"
   },
   {
    "duration": 6,
    "start_time": "2022-02-25T11:53:55.261Z"
   },
   {
    "duration": 6,
    "start_time": "2022-02-25T11:54:00.508Z"
   },
   {
    "duration": 6,
    "start_time": "2022-02-25T11:54:04.446Z"
   },
   {
    "duration": 7,
    "start_time": "2022-02-25T11:54:18.242Z"
   },
   {
    "duration": 7,
    "start_time": "2022-02-25T11:54:22.550Z"
   },
   {
    "duration": 3,
    "start_time": "2022-02-25T12:02:12.478Z"
   },
   {
    "duration": 12,
    "start_time": "2022-02-25T12:02:28.839Z"
   },
   {
    "duration": 297,
    "start_time": "2022-02-25T12:02:57.414Z"
   },
   {
    "duration": 13,
    "start_time": "2022-02-25T12:03:07.389Z"
   },
   {
    "duration": 334,
    "start_time": "2022-02-25T12:03:24.533Z"
   },
   {
    "duration": 13,
    "start_time": "2022-02-25T12:03:45.409Z"
   },
   {
    "duration": 10,
    "start_time": "2022-02-25T12:11:25.377Z"
   },
   {
    "duration": 95,
    "start_time": "2022-02-25T12:12:01.854Z"
   },
   {
    "duration": 6,
    "start_time": "2022-02-25T12:12:10.576Z"
   },
   {
    "duration": 5,
    "start_time": "2022-02-25T12:12:15.463Z"
   },
   {
    "duration": 4,
    "start_time": "2022-02-25T12:12:38.626Z"
   },
   {
    "duration": 14,
    "start_time": "2022-02-25T12:12:50.215Z"
   },
   {
    "duration": 8,
    "start_time": "2022-02-25T12:13:10.227Z"
   },
   {
    "duration": 7,
    "start_time": "2022-02-25T12:13:50.473Z"
   },
   {
    "duration": 284,
    "start_time": "2022-02-25T12:14:04.013Z"
   },
   {
    "duration": 8,
    "start_time": "2022-02-25T12:14:07.947Z"
   },
   {
    "duration": 8,
    "start_time": "2022-02-25T12:14:13.134Z"
   },
   {
    "duration": 9,
    "start_time": "2022-02-25T12:14:18.643Z"
   },
   {
    "duration": 8,
    "start_time": "2022-02-25T12:14:28.854Z"
   },
   {
    "duration": 2,
    "start_time": "2022-02-25T12:14:36.094Z"
   },
   {
    "duration": 56,
    "start_time": "2022-02-25T12:14:36.098Z"
   },
   {
    "duration": 11,
    "start_time": "2022-02-25T12:14:36.156Z"
   },
   {
    "duration": 3,
    "start_time": "2022-02-25T12:14:36.169Z"
   },
   {
    "duration": 15,
    "start_time": "2022-02-25T12:14:36.174Z"
   },
   {
    "duration": 7,
    "start_time": "2022-02-25T12:14:36.190Z"
   },
   {
    "duration": 2,
    "start_time": "2022-02-25T12:14:36.199Z"
   },
   {
    "duration": 9,
    "start_time": "2022-02-25T12:14:36.204Z"
   },
   {
    "duration": 34,
    "start_time": "2022-02-25T12:14:36.215Z"
   },
   {
    "duration": 8,
    "start_time": "2022-02-25T12:14:36.250Z"
   },
   {
    "duration": 4,
    "start_time": "2022-02-25T12:14:36.259Z"
   },
   {
    "duration": 29,
    "start_time": "2022-02-25T12:14:36.264Z"
   },
   {
    "duration": 17,
    "start_time": "2022-02-25T12:14:36.295Z"
   },
   {
    "duration": 34,
    "start_time": "2022-02-25T12:14:36.314Z"
   },
   {
    "duration": 7,
    "start_time": "2022-02-25T12:14:36.350Z"
   },
   {
    "duration": 13,
    "start_time": "2022-02-25T12:14:36.359Z"
   },
   {
    "duration": 7,
    "start_time": "2022-02-25T12:14:36.374Z"
   },
   {
    "duration": 9,
    "start_time": "2022-02-25T12:14:36.383Z"
   },
   {
    "duration": 4,
    "start_time": "2022-02-25T12:14:36.393Z"
   },
   {
    "duration": 55,
    "start_time": "2022-02-25T12:14:36.399Z"
   },
   {
    "duration": 3,
    "start_time": "2022-02-25T12:14:36.456Z"
   },
   {
    "duration": 14,
    "start_time": "2022-02-25T12:14:36.460Z"
   },
   {
    "duration": 13,
    "start_time": "2022-02-25T12:15:49.174Z"
   },
   {
    "duration": 11,
    "start_time": "2022-02-25T12:15:51.518Z"
   },
   {
    "duration": 13,
    "start_time": "2022-02-25T12:15:57.554Z"
   },
   {
    "duration": 12,
    "start_time": "2022-02-25T12:16:06.572Z"
   },
   {
    "duration": 11,
    "start_time": "2022-02-25T12:16:39.332Z"
   },
   {
    "duration": 12,
    "start_time": "2022-02-25T12:17:33.770Z"
   },
   {
    "duration": 11,
    "start_time": "2022-02-25T12:17:40.278Z"
   },
   {
    "duration": 11,
    "start_time": "2022-02-25T12:17:47.524Z"
   },
   {
    "duration": 11,
    "start_time": "2022-02-25T12:17:49.118Z"
   },
   {
    "duration": 11,
    "start_time": "2022-02-25T12:17:53.151Z"
   },
   {
    "duration": 12,
    "start_time": "2022-02-25T12:18:12.977Z"
   },
   {
    "duration": 10,
    "start_time": "2022-02-25T12:18:17.477Z"
   },
   {
    "duration": 11,
    "start_time": "2022-02-25T12:20:20.156Z"
   },
   {
    "duration": 4,
    "start_time": "2022-02-25T12:24:49.942Z"
   },
   {
    "duration": -665,
    "start_time": "2022-02-25T12:25:08.032Z"
   },
   {
    "duration": 280,
    "start_time": "2022-02-25T12:26:20.575Z"
   },
   {
    "duration": 287,
    "start_time": "2022-02-25T12:26:31.261Z"
   },
   {
    "duration": 7251,
    "start_time": "2022-02-25T12:27:15.786Z"
   },
   {
    "duration": 293,
    "start_time": "2022-02-25T12:27:38.743Z"
   },
   {
    "duration": 7496,
    "start_time": "2022-02-25T12:27:48.486Z"
   },
   {
    "duration": 7177,
    "start_time": "2022-02-25T12:28:00.496Z"
   },
   {
    "duration": 299,
    "start_time": "2022-02-25T12:29:34.983Z"
   },
   {
    "duration": 292,
    "start_time": "2022-02-25T12:29:52.748Z"
   },
   {
    "duration": 376,
    "start_time": "2022-02-25T12:30:01.102Z"
   },
   {
    "duration": 11,
    "start_time": "2022-02-25T12:30:57.220Z"
   },
   {
    "duration": 277,
    "start_time": "2022-02-25T12:31:49.160Z"
   },
   {
    "duration": 10,
    "start_time": "2022-02-25T12:31:55.576Z"
   },
   {
    "duration": 12,
    "start_time": "2022-02-25T12:32:11.259Z"
   },
   {
    "duration": 3,
    "start_time": "2022-02-25T12:32:24.019Z"
   },
   {
    "duration": 63,
    "start_time": "2022-02-25T12:32:24.024Z"
   },
   {
    "duration": 12,
    "start_time": "2022-02-25T12:32:24.089Z"
   },
   {
    "duration": 3,
    "start_time": "2022-02-25T12:32:24.103Z"
   },
   {
    "duration": 19,
    "start_time": "2022-02-25T12:32:24.108Z"
   },
   {
    "duration": 24,
    "start_time": "2022-02-25T12:32:24.129Z"
   },
   {
    "duration": 4,
    "start_time": "2022-02-25T12:32:24.155Z"
   },
   {
    "duration": 24,
    "start_time": "2022-02-25T12:32:24.161Z"
   },
   {
    "duration": 10,
    "start_time": "2022-02-25T12:32:24.188Z"
   },
   {
    "duration": 14,
    "start_time": "2022-02-25T12:32:24.201Z"
   },
   {
    "duration": 13,
    "start_time": "2022-02-25T12:32:24.217Z"
   },
   {
    "duration": 28,
    "start_time": "2022-02-25T12:32:24.246Z"
   },
   {
    "duration": 18,
    "start_time": "2022-02-25T12:32:24.276Z"
   },
   {
    "duration": 3,
    "start_time": "2022-02-25T12:32:24.295Z"
   },
   {
    "duration": 9,
    "start_time": "2022-02-25T12:32:24.300Z"
   },
   {
    "duration": 43,
    "start_time": "2022-02-25T12:32:24.311Z"
   },
   {
    "duration": 13,
    "start_time": "2022-02-25T12:32:24.356Z"
   },
   {
    "duration": 18,
    "start_time": "2022-02-25T12:32:24.371Z"
   },
   {
    "duration": 16,
    "start_time": "2022-02-25T12:32:24.391Z"
   },
   {
    "duration": 6,
    "start_time": "2022-02-25T12:32:24.408Z"
   },
   {
    "duration": 39,
    "start_time": "2022-02-25T12:32:24.416Z"
   },
   {
    "duration": 18,
    "start_time": "2022-02-25T12:32:24.456Z"
   },
   {
    "duration": 18,
    "start_time": "2022-02-25T12:32:24.475Z"
   },
   {
    "duration": 3,
    "start_time": "2022-02-25T12:32:44.892Z"
   },
   {
    "duration": 57,
    "start_time": "2022-02-25T12:32:44.896Z"
   },
   {
    "duration": 10,
    "start_time": "2022-02-25T12:32:44.956Z"
   },
   {
    "duration": 4,
    "start_time": "2022-02-25T12:32:44.968Z"
   },
   {
    "duration": 17,
    "start_time": "2022-02-25T12:32:44.974Z"
   },
   {
    "duration": 13,
    "start_time": "2022-02-25T12:32:44.993Z"
   },
   {
    "duration": 17,
    "start_time": "2022-02-25T12:32:45.009Z"
   },
   {
    "duration": 7,
    "start_time": "2022-02-25T12:32:45.047Z"
   },
   {
    "duration": 9,
    "start_time": "2022-02-25T12:32:45.057Z"
   },
   {
    "duration": 8,
    "start_time": "2022-02-25T12:32:45.068Z"
   },
   {
    "duration": 4,
    "start_time": "2022-02-25T12:32:45.078Z"
   },
   {
    "duration": 75,
    "start_time": "2022-02-25T12:32:45.084Z"
   },
   {
    "duration": 28,
    "start_time": "2022-02-25T12:32:45.162Z"
   },
   {
    "duration": 3,
    "start_time": "2022-02-25T12:32:45.192Z"
   },
   {
    "duration": 7,
    "start_time": "2022-02-25T12:32:45.197Z"
   },
   {
    "duration": 40,
    "start_time": "2022-02-25T12:32:45.206Z"
   },
   {
    "duration": 12,
    "start_time": "2022-02-25T12:32:45.248Z"
   },
   {
    "duration": 15,
    "start_time": "2022-02-25T12:32:45.262Z"
   },
   {
    "duration": 19,
    "start_time": "2022-02-25T12:32:45.280Z"
   },
   {
    "duration": 5,
    "start_time": "2022-02-25T12:32:45.301Z"
   },
   {
    "duration": 39,
    "start_time": "2022-02-25T12:32:45.308Z"
   },
   {
    "duration": 3,
    "start_time": "2022-02-25T12:32:45.349Z"
   },
   {
    "duration": 16,
    "start_time": "2022-02-25T12:32:45.354Z"
   },
   {
    "duration": 6,
    "start_time": "2022-02-25T14:14:51.009Z"
   },
   {
    "duration": 6,
    "start_time": "2022-02-25T14:15:24.410Z"
   },
   {
    "duration": 6,
    "start_time": "2022-02-25T14:16:32.745Z"
   },
   {
    "duration": 335,
    "start_time": "2022-02-25T14:17:15.362Z"
   },
   {
    "duration": 7,
    "start_time": "2022-02-25T14:17:25.999Z"
   },
   {
    "duration": 7,
    "start_time": "2022-02-25T14:17:30.548Z"
   },
   {
    "duration": 6,
    "start_time": "2022-02-25T14:17:38.859Z"
   },
   {
    "duration": 6,
    "start_time": "2022-02-25T14:18:13.581Z"
   },
   {
    "duration": 8,
    "start_time": "2022-02-25T14:19:38.468Z"
   },
   {
    "duration": 7,
    "start_time": "2022-02-25T14:20:02.680Z"
   },
   {
    "duration": 7,
    "start_time": "2022-02-25T14:20:07.057Z"
   },
   {
    "duration": 4,
    "start_time": "2022-02-25T14:20:20.293Z"
   },
   {
    "duration": 6,
    "start_time": "2022-02-25T14:22:38.171Z"
   },
   {
    "duration": 5,
    "start_time": "2022-02-25T14:23:22.853Z"
   },
   {
    "duration": 9,
    "start_time": "2022-02-25T14:24:58.125Z"
   },
   {
    "duration": 6,
    "start_time": "2022-02-25T14:25:40.125Z"
   },
   {
    "duration": 5,
    "start_time": "2022-02-25T14:26:02.111Z"
   },
   {
    "duration": 7,
    "start_time": "2022-02-25T14:27:30.770Z"
   },
   {
    "duration": 3,
    "start_time": "2022-02-25T14:28:08.121Z"
   },
   {
    "duration": 62,
    "start_time": "2022-02-25T14:28:08.126Z"
   },
   {
    "duration": 9,
    "start_time": "2022-02-25T14:28:08.190Z"
   },
   {
    "duration": 3,
    "start_time": "2022-02-25T14:28:08.201Z"
   },
   {
    "duration": 13,
    "start_time": "2022-02-25T14:28:08.206Z"
   },
   {
    "duration": 27,
    "start_time": "2022-02-25T14:28:08.220Z"
   },
   {
    "duration": 4,
    "start_time": "2022-02-25T14:28:08.249Z"
   },
   {
    "duration": 7,
    "start_time": "2022-02-25T14:28:08.255Z"
   },
   {
    "duration": 5,
    "start_time": "2022-02-25T14:28:08.265Z"
   },
   {
    "duration": 4,
    "start_time": "2022-02-25T14:28:08.272Z"
   },
   {
    "duration": 6,
    "start_time": "2022-02-25T14:28:08.277Z"
   },
   {
    "duration": 10,
    "start_time": "2022-02-25T14:28:08.285Z"
   },
   {
    "duration": 52,
    "start_time": "2022-02-25T14:28:08.296Z"
   },
   {
    "duration": 30,
    "start_time": "2022-02-25T14:28:08.349Z"
   },
   {
    "duration": 16,
    "start_time": "2022-02-25T14:28:08.380Z"
   },
   {
    "duration": 3,
    "start_time": "2022-02-25T14:28:08.398Z"
   },
   {
    "duration": 8,
    "start_time": "2022-02-25T14:28:08.402Z"
   },
   {
    "duration": 39,
    "start_time": "2022-02-25T14:28:08.411Z"
   },
   {
    "duration": 13,
    "start_time": "2022-02-25T14:28:08.451Z"
   },
   {
    "duration": 9,
    "start_time": "2022-02-25T14:28:08.468Z"
   },
   {
    "duration": 15,
    "start_time": "2022-02-25T14:28:08.479Z"
   },
   {
    "duration": 7,
    "start_time": "2022-02-25T14:28:08.495Z"
   },
   {
    "duration": 44,
    "start_time": "2022-02-25T14:28:08.503Z"
   },
   {
    "duration": 2,
    "start_time": "2022-02-25T14:28:08.549Z"
   },
   {
    "duration": 14,
    "start_time": "2022-02-25T14:28:08.553Z"
   },
   {
    "duration": 3,
    "start_time": "2022-02-25T14:29:08.405Z"
   },
   {
    "duration": 288,
    "start_time": "2022-02-25T14:29:41.204Z"
   },
   {
    "duration": 3,
    "start_time": "2022-02-25T14:29:50.350Z"
   },
   {
    "duration": 62,
    "start_time": "2022-02-25T14:29:50.354Z"
   },
   {
    "duration": 9,
    "start_time": "2022-02-25T14:29:50.418Z"
   },
   {
    "duration": 6,
    "start_time": "2022-02-25T14:29:50.429Z"
   },
   {
    "duration": 16,
    "start_time": "2022-02-25T14:29:50.445Z"
   },
   {
    "duration": 6,
    "start_time": "2022-02-25T14:29:50.463Z"
   },
   {
    "duration": 6,
    "start_time": "2022-02-25T14:29:50.471Z"
   },
   {
    "duration": 11,
    "start_time": "2022-02-25T14:29:50.478Z"
   },
   {
    "duration": 8,
    "start_time": "2022-02-25T14:29:50.491Z"
   },
   {
    "duration": 9,
    "start_time": "2022-02-25T14:29:50.500Z"
   },
   {
    "duration": 37,
    "start_time": "2022-02-25T14:29:50.511Z"
   },
   {
    "duration": 9,
    "start_time": "2022-02-25T14:29:50.550Z"
   },
   {
    "duration": 4,
    "start_time": "2022-02-25T14:29:50.561Z"
   },
   {
    "duration": 28,
    "start_time": "2022-02-25T14:29:50.566Z"
   },
   {
    "duration": 18,
    "start_time": "2022-02-25T14:29:50.596Z"
   },
   {
    "duration": 40,
    "start_time": "2022-02-25T14:29:50.616Z"
   },
   {
    "duration": 11,
    "start_time": "2022-02-25T14:29:50.657Z"
   },
   {
    "duration": 8,
    "start_time": "2022-02-25T14:29:50.669Z"
   },
   {
    "duration": 13,
    "start_time": "2022-02-25T14:29:50.679Z"
   },
   {
    "duration": 9,
    "start_time": "2022-02-25T14:29:50.693Z"
   },
   {
    "duration": 45,
    "start_time": "2022-02-25T14:29:50.703Z"
   },
   {
    "duration": 3,
    "start_time": "2022-02-25T14:29:50.751Z"
   },
   {
    "duration": 15,
    "start_time": "2022-02-25T14:29:50.756Z"
   },
   {
    "duration": 337,
    "start_time": "2022-02-25T14:30:02.958Z"
   },
   {
    "duration": 3,
    "start_time": "2022-02-25T14:30:10.516Z"
   },
   {
    "duration": 57,
    "start_time": "2022-02-25T14:30:10.521Z"
   },
   {
    "duration": 10,
    "start_time": "2022-02-25T14:30:10.580Z"
   },
   {
    "duration": 3,
    "start_time": "2022-02-25T14:30:10.592Z"
   },
   {
    "duration": 14,
    "start_time": "2022-02-25T14:30:10.596Z"
   },
   {
    "duration": 37,
    "start_time": "2022-02-25T14:30:10.611Z"
   },
   {
    "duration": 4,
    "start_time": "2022-02-25T14:30:10.650Z"
   },
   {
    "duration": 7,
    "start_time": "2022-02-25T14:30:10.655Z"
   },
   {
    "duration": 7,
    "start_time": "2022-02-25T14:30:10.665Z"
   },
   {
    "duration": 5,
    "start_time": "2022-02-25T14:30:10.674Z"
   },
   {
    "duration": 7,
    "start_time": "2022-02-25T14:30:10.681Z"
   },
   {
    "duration": 58,
    "start_time": "2022-02-25T14:30:10.690Z"
   },
   {
    "duration": 4,
    "start_time": "2022-02-25T14:30:10.750Z"
   },
   {
    "duration": 32,
    "start_time": "2022-02-25T14:30:10.756Z"
   },
   {
    "duration": 15,
    "start_time": "2022-02-25T14:30:10.790Z"
   },
   {
    "duration": 10,
    "start_time": "2022-02-25T14:30:10.807Z"
   },
   {
    "duration": 36,
    "start_time": "2022-02-25T14:30:10.818Z"
   },
   {
    "duration": 8,
    "start_time": "2022-02-25T14:30:10.855Z"
   },
   {
    "duration": 15,
    "start_time": "2022-02-25T14:30:10.864Z"
   },
   {
    "duration": 4,
    "start_time": "2022-02-25T14:30:10.880Z"
   },
   {
    "duration": 13,
    "start_time": "2022-02-25T14:30:10.885Z"
   },
   {
    "duration": 4,
    "start_time": "2022-02-25T14:30:10.899Z"
   },
   {
    "duration": 47,
    "start_time": "2022-02-25T14:30:10.904Z"
   },
   {
    "duration": 3,
    "start_time": "2022-02-25T14:34:08.476Z"
   },
   {
    "duration": 57,
    "start_time": "2022-02-25T14:34:10.235Z"
   },
   {
    "duration": 98,
    "start_time": "2022-02-25T14:35:56.772Z"
   },
   {
    "duration": 4,
    "start_time": "2022-02-25T14:36:24.549Z"
   },
   {
    "duration": 350,
    "start_time": "2022-02-25T14:36:40.883Z"
   },
   {
    "duration": 6,
    "start_time": "2022-02-25T14:37:34.737Z"
   },
   {
    "duration": 6,
    "start_time": "2022-02-25T14:38:14.274Z"
   },
   {
    "duration": 6,
    "start_time": "2022-02-25T14:38:43.022Z"
   },
   {
    "duration": 105,
    "start_time": "2022-02-25T14:39:29.081Z"
   },
   {
    "duration": 6,
    "start_time": "2022-02-25T14:41:48.432Z"
   },
   {
    "duration": 6,
    "start_time": "2022-02-25T14:41:56.845Z"
   },
   {
    "duration": 7,
    "start_time": "2022-02-25T14:42:03.201Z"
   },
   {
    "duration": 6,
    "start_time": "2022-02-25T14:42:24.826Z"
   },
   {
    "duration": 7,
    "start_time": "2022-02-25T14:42:32.887Z"
   },
   {
    "duration": 3,
    "start_time": "2022-02-25T14:42:48.997Z"
   },
   {
    "duration": 64,
    "start_time": "2022-02-25T14:42:49.002Z"
   },
   {
    "duration": 11,
    "start_time": "2022-02-25T14:42:49.068Z"
   },
   {
    "duration": 2,
    "start_time": "2022-02-25T14:42:49.081Z"
   },
   {
    "duration": 15,
    "start_time": "2022-02-25T14:42:49.085Z"
   },
   {
    "duration": 7,
    "start_time": "2022-02-25T14:42:49.101Z"
   },
   {
    "duration": 39,
    "start_time": "2022-02-25T14:42:49.110Z"
   },
   {
    "duration": 8,
    "start_time": "2022-02-25T14:42:49.151Z"
   },
   {
    "duration": 7,
    "start_time": "2022-02-25T14:42:49.162Z"
   },
   {
    "duration": 3,
    "start_time": "2022-02-25T14:42:49.171Z"
   },
   {
    "duration": 7,
    "start_time": "2022-02-25T14:42:49.176Z"
   },
   {
    "duration": 6,
    "start_time": "2022-02-25T14:42:49.185Z"
   },
   {
    "duration": 6,
    "start_time": "2022-02-25T14:42:49.193Z"
   },
   {
    "duration": 50,
    "start_time": "2022-02-25T14:42:49.200Z"
   },
   {
    "duration": 9,
    "start_time": "2022-02-25T14:42:49.252Z"
   },
   {
    "duration": 3,
    "start_time": "2022-02-25T14:42:49.263Z"
   },
   {
    "duration": 26,
    "start_time": "2022-02-25T14:42:49.268Z"
   },
   {
    "duration": 15,
    "start_time": "2022-02-25T14:42:49.296Z"
   },
   {
    "duration": 42,
    "start_time": "2022-02-25T14:42:49.313Z"
   },
   {
    "duration": 11,
    "start_time": "2022-02-25T14:42:49.356Z"
   },
   {
    "duration": 93,
    "start_time": "2022-02-25T14:42:49.368Z"
   },
   {
    "duration": -632,
    "start_time": "2022-02-25T14:42:50.095Z"
   },
   {
    "duration": -632,
    "start_time": "2022-02-25T14:42:50.096Z"
   },
   {
    "duration": -636,
    "start_time": "2022-02-25T14:42:50.101Z"
   },
   {
    "duration": -636,
    "start_time": "2022-02-25T14:42:50.102Z"
   },
   {
    "duration": -636,
    "start_time": "2022-02-25T14:42:50.103Z"
   },
   {
    "duration": 3,
    "start_time": "2022-02-25T14:44:55.769Z"
   },
   {
    "duration": 4,
    "start_time": "2022-02-25T14:45:11.042Z"
   },
   {
    "duration": 306,
    "start_time": "2022-02-25T14:45:55.123Z"
   },
   {
    "duration": 406,
    "start_time": "2022-02-25T14:45:58.891Z"
   },
   {
    "duration": 2,
    "start_time": "2022-02-25T14:46:08.929Z"
   },
   {
    "duration": 56,
    "start_time": "2022-02-25T14:46:08.933Z"
   },
   {
    "duration": 9,
    "start_time": "2022-02-25T14:46:08.990Z"
   },
   {
    "duration": 306,
    "start_time": "2022-02-25T14:46:09.001Z"
   },
   {
    "duration": -636,
    "start_time": "2022-02-25T14:46:09.944Z"
   },
   {
    "duration": -666,
    "start_time": "2022-02-25T14:46:09.975Z"
   },
   {
    "duration": -666,
    "start_time": "2022-02-25T14:46:09.976Z"
   },
   {
    "duration": -667,
    "start_time": "2022-02-25T14:46:09.977Z"
   },
   {
    "duration": -667,
    "start_time": "2022-02-25T14:46:09.978Z"
   },
   {
    "duration": -666,
    "start_time": "2022-02-25T14:46:09.978Z"
   },
   {
    "duration": -667,
    "start_time": "2022-02-25T14:46:09.980Z"
   },
   {
    "duration": -666,
    "start_time": "2022-02-25T14:46:09.980Z"
   },
   {
    "duration": -666,
    "start_time": "2022-02-25T14:46:09.981Z"
   },
   {
    "duration": -667,
    "start_time": "2022-02-25T14:46:09.982Z"
   },
   {
    "duration": -666,
    "start_time": "2022-02-25T14:46:09.983Z"
   },
   {
    "duration": -666,
    "start_time": "2022-02-25T14:46:09.984Z"
   },
   {
    "duration": -666,
    "start_time": "2022-02-25T14:46:09.985Z"
   },
   {
    "duration": -666,
    "start_time": "2022-02-25T14:46:09.985Z"
   },
   {
    "duration": -665,
    "start_time": "2022-02-25T14:46:09.986Z"
   },
   {
    "duration": -665,
    "start_time": "2022-02-25T14:46:09.987Z"
   },
   {
    "duration": -665,
    "start_time": "2022-02-25T14:46:09.988Z"
   },
   {
    "duration": -664,
    "start_time": "2022-02-25T14:46:09.989Z"
   },
   {
    "duration": -663,
    "start_time": "2022-02-25T14:46:09.989Z"
   },
   {
    "duration": 4,
    "start_time": "2022-02-25T14:47:11.498Z"
   },
   {
    "duration": 120,
    "start_time": "2022-02-25T14:47:55.103Z"
   },
   {
    "duration": 14,
    "start_time": "2022-02-25T14:48:10.307Z"
   },
   {
    "duration": 9,
    "start_time": "2022-02-25T14:48:32.047Z"
   },
   {
    "duration": 8,
    "start_time": "2022-02-25T14:49:03.632Z"
   },
   {
    "duration": 10,
    "start_time": "2022-02-25T14:49:26.869Z"
   },
   {
    "duration": 3,
    "start_time": "2022-02-25T14:49:40.812Z"
   },
   {
    "duration": 7,
    "start_time": "2022-02-25T14:50:09.825Z"
   },
   {
    "duration": 6,
    "start_time": "2022-02-25T14:50:11.305Z"
   },
   {
    "duration": 7,
    "start_time": "2022-02-25T14:50:12.334Z"
   },
   {
    "duration": 5,
    "start_time": "2022-02-25T14:50:13.512Z"
   },
   {
    "duration": 7,
    "start_time": "2022-02-25T14:50:16.331Z"
   },
   {
    "duration": 6,
    "start_time": "2022-02-25T14:50:16.974Z"
   },
   {
    "duration": 4,
    "start_time": "2022-02-25T14:50:19.000Z"
   },
   {
    "duration": 12,
    "start_time": "2022-02-25T15:13:12.818Z"
   },
   {
    "duration": 10,
    "start_time": "2022-02-25T15:18:27.391Z"
   },
   {
    "duration": 11,
    "start_time": "2022-02-25T15:18:37.990Z"
   },
   {
    "duration": 99,
    "start_time": "2022-02-25T15:22:30.469Z"
   },
   {
    "duration": 67,
    "start_time": "2022-02-25T15:29:30.918Z"
   },
   {
    "duration": 6,
    "start_time": "2022-02-25T15:43:55.841Z"
   },
   {
    "duration": 6,
    "start_time": "2022-02-25T15:44:11.370Z"
   },
   {
    "duration": 7,
    "start_time": "2022-02-25T15:44:18.288Z"
   },
   {
    "duration": 2,
    "start_time": "2022-02-25T15:44:22.224Z"
   },
   {
    "duration": 63,
    "start_time": "2022-02-25T15:44:22.228Z"
   },
   {
    "duration": 9,
    "start_time": "2022-02-25T15:44:22.293Z"
   },
   {
    "duration": 9,
    "start_time": "2022-02-25T15:44:22.304Z"
   },
   {
    "duration": 12,
    "start_time": "2022-02-25T15:44:22.314Z"
   },
   {
    "duration": 23,
    "start_time": "2022-02-25T15:44:22.328Z"
   },
   {
    "duration": 3,
    "start_time": "2022-02-25T15:44:22.353Z"
   },
   {
    "duration": 9,
    "start_time": "2022-02-25T15:44:22.358Z"
   },
   {
    "duration": 15,
    "start_time": "2022-02-25T15:44:22.369Z"
   },
   {
    "duration": 8,
    "start_time": "2022-02-25T15:44:22.385Z"
   },
   {
    "duration": 14,
    "start_time": "2022-02-25T15:44:22.394Z"
   },
   {
    "duration": 19,
    "start_time": "2022-02-25T15:44:22.409Z"
   },
   {
    "duration": 19,
    "start_time": "2022-02-25T15:44:22.429Z"
   },
   {
    "duration": 28,
    "start_time": "2022-02-25T15:44:22.450Z"
   },
   {
    "duration": 16,
    "start_time": "2022-02-25T15:44:22.480Z"
   },
   {
    "duration": 10,
    "start_time": "2022-02-25T15:44:22.498Z"
   },
   {
    "duration": 37,
    "start_time": "2022-02-25T15:44:22.510Z"
   },
   {
    "duration": 98,
    "start_time": "2022-02-25T15:44:22.548Z"
   },
   {
    "duration": -598,
    "start_time": "2022-02-25T15:44:23.246Z"
   },
   {
    "duration": -604,
    "start_time": "2022-02-25T15:44:23.253Z"
   },
   {
    "duration": -603,
    "start_time": "2022-02-25T15:44:23.254Z"
   },
   {
    "duration": -603,
    "start_time": "2022-02-25T15:44:23.255Z"
   },
   {
    "duration": -603,
    "start_time": "2022-02-25T15:44:23.256Z"
   },
   {
    "duration": 3,
    "start_time": "2022-02-25T15:44:57.775Z"
   },
   {
    "duration": 56,
    "start_time": "2022-02-25T15:44:57.779Z"
   },
   {
    "duration": 12,
    "start_time": "2022-02-25T15:44:57.837Z"
   },
   {
    "duration": 8,
    "start_time": "2022-02-25T15:44:57.851Z"
   },
   {
    "duration": 21,
    "start_time": "2022-02-25T15:44:57.860Z"
   },
   {
    "duration": 7,
    "start_time": "2022-02-25T15:44:57.883Z"
   },
   {
    "duration": 4,
    "start_time": "2022-02-25T15:44:57.891Z"
   },
   {
    "duration": 12,
    "start_time": "2022-02-25T15:44:57.897Z"
   },
   {
    "duration": 8,
    "start_time": "2022-02-25T15:44:57.911Z"
   },
   {
    "duration": 5,
    "start_time": "2022-02-25T15:44:57.946Z"
   },
   {
    "duration": 7,
    "start_time": "2022-02-25T15:44:57.953Z"
   },
   {
    "duration": 14,
    "start_time": "2022-02-25T15:44:57.961Z"
   },
   {
    "duration": 4,
    "start_time": "2022-02-25T15:44:57.977Z"
   },
   {
    "duration": 29,
    "start_time": "2022-02-25T15:44:57.983Z"
   },
   {
    "duration": 48,
    "start_time": "2022-02-25T15:44:58.013Z"
   },
   {
    "duration": 10,
    "start_time": "2022-02-25T15:44:58.063Z"
   },
   {
    "duration": 13,
    "start_time": "2022-02-25T15:44:58.075Z"
   },
   {
    "duration": 9,
    "start_time": "2022-02-25T15:44:58.090Z"
   },
   {
    "duration": 52,
    "start_time": "2022-02-25T15:44:58.101Z"
   },
   {
    "duration": 4,
    "start_time": "2022-02-25T15:44:58.155Z"
   },
   {
    "duration": 16,
    "start_time": "2022-02-25T15:44:58.161Z"
   },
   {
    "duration": 5,
    "start_time": "2022-02-25T15:44:58.178Z"
   },
   {
    "duration": 13,
    "start_time": "2022-02-25T15:44:58.186Z"
   },
   {
    "duration": 7,
    "start_time": "2022-02-25T15:45:12.649Z"
   },
   {
    "duration": 7,
    "start_time": "2022-02-25T15:48:06.042Z"
   },
   {
    "duration": 8,
    "start_time": "2022-02-25T15:48:29.208Z"
   },
   {
    "duration": 88,
    "start_time": "2022-02-25T15:48:46.544Z"
   },
   {
    "duration": 8,
    "start_time": "2022-02-25T15:48:52.728Z"
   },
   {
    "duration": 7,
    "start_time": "2022-02-25T15:48:58.290Z"
   },
   {
    "duration": 7,
    "start_time": "2022-02-25T15:49:04.671Z"
   },
   {
    "duration": 8,
    "start_time": "2022-02-25T15:49:12.989Z"
   },
   {
    "duration": 8,
    "start_time": "2022-02-25T15:49:22.843Z"
   },
   {
    "duration": 8,
    "start_time": "2022-02-25T15:49:28.946Z"
   },
   {
    "duration": 7,
    "start_time": "2022-02-25T15:49:34.937Z"
   },
   {
    "duration": 8,
    "start_time": "2022-02-25T15:49:39.739Z"
   },
   {
    "duration": 8,
    "start_time": "2022-02-25T15:49:44.461Z"
   },
   {
    "duration": 8,
    "start_time": "2022-02-25T15:50:36.691Z"
   },
   {
    "duration": 9,
    "start_time": "2022-02-25T15:50:57.510Z"
   },
   {
    "duration": 5,
    "start_time": "2022-02-25T15:52:28.972Z"
   },
   {
    "duration": 116,
    "start_time": "2022-02-25T15:57:15.684Z"
   },
   {
    "duration": 5,
    "start_time": "2022-02-25T15:57:15.891Z"
   },
   {
    "duration": 100,
    "start_time": "2022-02-25T16:00:35.570Z"
   },
   {
    "duration": 5,
    "start_time": "2022-02-25T16:00:45.623Z"
   },
   {
    "duration": 9,
    "start_time": "2022-02-25T16:03:48.134Z"
   },
   {
    "duration": 6,
    "start_time": "2022-02-25T16:03:56.081Z"
   },
   {
    "duration": 396,
    "start_time": "2022-02-25T16:04:09.386Z"
   },
   {
    "duration": 5,
    "start_time": "2022-02-25T16:04:13.272Z"
   },
   {
    "duration": 117,
    "start_time": "2022-02-25T16:09:25.929Z"
   },
   {
    "duration": 94,
    "start_time": "2022-02-25T16:09:49.540Z"
   },
   {
    "duration": 16,
    "start_time": "2022-02-25T16:12:42.014Z"
   },
   {
    "duration": 107,
    "start_time": "2022-02-25T16:16:29.941Z"
   },
   {
    "duration": 15,
    "start_time": "2022-02-25T16:17:02.068Z"
   },
   {
    "duration": 15,
    "start_time": "2022-02-25T16:17:07.478Z"
   },
   {
    "duration": -629,
    "start_time": "2022-02-25T16:18:17.261Z"
   },
   {
    "duration": -629,
    "start_time": "2022-02-25T16:18:26.136Z"
   },
   {
    "duration": -629,
    "start_time": "2022-02-25T16:18:26.137Z"
   },
   {
    "duration": -628,
    "start_time": "2022-02-25T16:18:26.138Z"
   },
   {
    "duration": -628,
    "start_time": "2022-02-25T16:18:26.139Z"
   },
   {
    "duration": -628,
    "start_time": "2022-02-25T16:18:26.140Z"
   },
   {
    "duration": -630,
    "start_time": "2022-02-25T16:18:26.144Z"
   },
   {
    "duration": -630,
    "start_time": "2022-02-25T16:18:26.145Z"
   },
   {
    "duration": -630,
    "start_time": "2022-02-25T16:18:26.146Z"
   },
   {
    "duration": -630,
    "start_time": "2022-02-25T16:18:26.147Z"
   },
   {
    "duration": -633,
    "start_time": "2022-02-25T16:18:26.151Z"
   },
   {
    "duration": -634,
    "start_time": "2022-02-25T16:18:26.152Z"
   },
   {
    "duration": -634,
    "start_time": "2022-02-25T16:18:26.153Z"
   },
   {
    "duration": -635,
    "start_time": "2022-02-25T16:18:26.154Z"
   },
   {
    "duration": -637,
    "start_time": "2022-02-25T16:18:26.157Z"
   },
   {
    "duration": -638,
    "start_time": "2022-02-25T16:18:26.158Z"
   },
   {
    "duration": -638,
    "start_time": "2022-02-25T16:18:26.159Z"
   },
   {
    "duration": -648,
    "start_time": "2022-02-25T16:18:26.169Z"
   },
   {
    "duration": -649,
    "start_time": "2022-02-25T16:18:26.171Z"
   },
   {
    "duration": -649,
    "start_time": "2022-02-25T16:18:26.172Z"
   },
   {
    "duration": -650,
    "start_time": "2022-02-25T16:18:26.173Z"
   },
   {
    "duration": -650,
    "start_time": "2022-02-25T16:18:26.174Z"
   },
   {
    "duration": -651,
    "start_time": "2022-02-25T16:18:26.175Z"
   },
   {
    "duration": 62,
    "start_time": "2022-02-25T16:18:40.585Z"
   },
   {
    "duration": 3,
    "start_time": "2022-02-25T16:18:42.449Z"
   },
   {
    "duration": 53,
    "start_time": "2022-02-25T16:18:44.313Z"
   },
   {
    "duration": 10,
    "start_time": "2022-02-25T16:18:49.874Z"
   },
   {
    "duration": 9,
    "start_time": "2022-02-25T16:18:52.383Z"
   },
   {
    "duration": 12,
    "start_time": "2022-02-25T16:19:04.524Z"
   },
   {
    "duration": 8,
    "start_time": "2022-02-25T16:19:12.690Z"
   },
   {
    "duration": 3,
    "start_time": "2022-02-25T16:19:17.997Z"
   },
   {
    "duration": 6,
    "start_time": "2022-02-25T16:19:20.030Z"
   },
   {
    "duration": 3,
    "start_time": "2022-02-25T16:19:21.995Z"
   },
   {
    "duration": 7,
    "start_time": "2022-02-25T16:19:22.452Z"
   },
   {
    "duration": 5,
    "start_time": "2022-02-25T16:19:24.479Z"
   },
   {
    "duration": 23,
    "start_time": "2022-02-25T16:19:27.190Z"
   },
   {
    "duration": 26,
    "start_time": "2022-02-25T16:19:28.929Z"
   },
   {
    "duration": 30,
    "start_time": "2022-02-25T16:19:47.995Z"
   },
   {
    "duration": 19,
    "start_time": "2022-02-25T16:19:54.617Z"
   },
   {
    "duration": 16,
    "start_time": "2022-02-25T16:22:45.134Z"
   },
   {
    "duration": 11,
    "start_time": "2022-02-25T16:25:39.145Z"
   },
   {
    "duration": 9,
    "start_time": "2022-02-25T16:25:54.947Z"
   },
   {
    "duration": 12,
    "start_time": "2022-02-25T16:25:57.786Z"
   },
   {
    "duration": 9,
    "start_time": "2022-02-25T16:32:03.822Z"
   },
   {
    "duration": 286,
    "start_time": "2022-02-25T16:33:40.866Z"
   },
   {
    "duration": 9,
    "start_time": "2022-02-25T16:33:46.079Z"
   },
   {
    "duration": 5,
    "start_time": "2022-02-25T16:33:56.036Z"
   },
   {
    "duration": 9,
    "start_time": "2022-02-25T16:34:11.753Z"
   },
   {
    "duration": 8,
    "start_time": "2022-02-25T16:34:42.907Z"
   },
   {
    "duration": 93,
    "start_time": "2022-02-25T16:36:51.926Z"
   },
   {
    "duration": 9,
    "start_time": "2022-02-25T16:38:51.926Z"
   },
   {
    "duration": 7,
    "start_time": "2022-02-25T16:38:52.497Z"
   },
   {
    "duration": 3,
    "start_time": "2022-02-25T16:38:57.542Z"
   },
   {
    "duration": 55,
    "start_time": "2022-02-25T16:38:57.547Z"
   },
   {
    "duration": 9,
    "start_time": "2022-02-25T16:38:57.604Z"
   },
   {
    "duration": 13,
    "start_time": "2022-02-25T16:38:57.615Z"
   },
   {
    "duration": 36,
    "start_time": "2022-02-25T16:38:57.629Z"
   },
   {
    "duration": 12,
    "start_time": "2022-02-25T16:38:57.667Z"
   },
   {
    "duration": 134,
    "start_time": "2022-02-25T16:38:57.681Z"
   },
   {
    "duration": 146,
    "start_time": "2022-02-25T16:38:57.817Z"
   },
   {
    "duration": 148,
    "start_time": "2022-02-25T16:38:57.966Z"
   },
   {
    "duration": 8,
    "start_time": "2022-02-25T16:38:58.116Z"
   },
   {
    "duration": 4,
    "start_time": "2022-02-25T16:38:58.126Z"
   },
   {
    "duration": 17,
    "start_time": "2022-02-25T16:38:58.132Z"
   },
   {
    "duration": 26,
    "start_time": "2022-02-25T16:38:58.151Z"
   },
   {
    "duration": 19,
    "start_time": "2022-02-25T16:38:58.179Z"
   },
   {
    "duration": 17,
    "start_time": "2022-02-25T16:38:58.200Z"
   },
   {
    "duration": 38,
    "start_time": "2022-02-25T16:38:58.219Z"
   },
   {
    "duration": 8,
    "start_time": "2022-02-25T16:38:58.259Z"
   },
   {
    "duration": 10,
    "start_time": "2022-02-25T16:38:58.269Z"
   },
   {
    "duration": 4,
    "start_time": "2022-02-25T16:38:58.280Z"
   },
   {
    "duration": 14,
    "start_time": "2022-02-25T16:38:58.285Z"
   },
   {
    "duration": 3,
    "start_time": "2022-02-25T16:38:58.301Z"
   },
   {
    "duration": 53,
    "start_time": "2022-02-25T16:38:58.305Z"
   },
   {
    "duration": 12,
    "start_time": "2022-02-25T16:39:37.476Z"
   },
   {
    "duration": 9,
    "start_time": "2022-02-25T16:39:39.578Z"
   },
   {
    "duration": 8,
    "start_time": "2022-02-25T16:39:40.303Z"
   },
   {
    "duration": 8,
    "start_time": "2022-02-25T16:39:48.645Z"
   },
   {
    "duration": 10,
    "start_time": "2022-02-25T16:39:49.140Z"
   },
   {
    "duration": 2,
    "start_time": "2022-02-25T16:39:57.692Z"
   },
   {
    "duration": 82,
    "start_time": "2022-02-25T16:39:57.695Z"
   },
   {
    "duration": 8,
    "start_time": "2022-02-25T16:39:57.779Z"
   },
   {
    "duration": 22,
    "start_time": "2022-02-25T16:39:57.789Z"
   },
   {
    "duration": 11,
    "start_time": "2022-02-25T16:39:57.812Z"
   },
   {
    "duration": 11,
    "start_time": "2022-02-25T16:39:57.825Z"
   },
   {
    "duration": 3,
    "start_time": "2022-02-25T16:39:57.846Z"
   },
   {
    "duration": 30,
    "start_time": "2022-02-25T16:39:57.850Z"
   },
   {
    "duration": 16,
    "start_time": "2022-02-25T16:39:57.883Z"
   },
   {
    "duration": 43,
    "start_time": "2022-02-25T16:39:57.900Z"
   },
   {
    "duration": 16,
    "start_time": "2022-02-25T16:39:57.944Z"
   },
   {
    "duration": 38,
    "start_time": "2022-02-25T16:39:57.961Z"
   },
   {
    "duration": 37,
    "start_time": "2022-02-25T16:39:58.001Z"
   },
   {
    "duration": 17,
    "start_time": "2022-02-25T16:39:58.039Z"
   },
   {
    "duration": 33,
    "start_time": "2022-02-25T16:39:58.057Z"
   },
   {
    "duration": 42,
    "start_time": "2022-02-25T16:39:58.091Z"
   },
   {
    "duration": 11,
    "start_time": "2022-02-25T16:39:58.135Z"
   },
   {
    "duration": 41,
    "start_time": "2022-02-25T16:39:58.147Z"
   },
   {
    "duration": 22,
    "start_time": "2022-02-25T16:39:58.189Z"
   },
   {
    "duration": 28,
    "start_time": "2022-02-25T16:39:58.213Z"
   },
   {
    "duration": 25,
    "start_time": "2022-02-25T16:39:58.243Z"
   },
   {
    "duration": 29,
    "start_time": "2022-02-25T16:39:58.269Z"
   },
   {
    "duration": 8,
    "start_time": "2022-02-25T16:40:15.822Z"
   },
   {
    "duration": 9,
    "start_time": "2022-02-25T16:40:19.600Z"
   },
   {
    "duration": 11,
    "start_time": "2022-02-25T16:40:20.861Z"
   },
   {
    "duration": 8,
    "start_time": "2022-02-25T16:40:21.410Z"
   },
   {
    "duration": 9,
    "start_time": "2022-02-25T16:40:23.127Z"
   },
   {
    "duration": 8,
    "start_time": "2022-02-25T16:40:23.541Z"
   },
   {
    "duration": 9,
    "start_time": "2022-02-25T16:40:24.537Z"
   },
   {
    "duration": 8,
    "start_time": "2022-02-25T16:40:24.904Z"
   },
   {
    "duration": 8,
    "start_time": "2022-02-25T16:40:25.779Z"
   },
   {
    "duration": 7,
    "start_time": "2022-02-25T16:40:26.175Z"
   },
   {
    "duration": 8,
    "start_time": "2022-02-25T16:40:27.225Z"
   },
   {
    "duration": 8,
    "start_time": "2022-02-25T16:40:27.555Z"
   },
   {
    "duration": 2,
    "start_time": "2022-02-25T16:40:40.066Z"
   },
   {
    "duration": 54,
    "start_time": "2022-02-25T16:40:40.070Z"
   },
   {
    "duration": 9,
    "start_time": "2022-02-25T16:40:40.126Z"
   },
   {
    "duration": 9,
    "start_time": "2022-02-25T16:40:40.137Z"
   },
   {
    "duration": 15,
    "start_time": "2022-02-25T16:40:40.147Z"
   },
   {
    "duration": 6,
    "start_time": "2022-02-25T16:40:40.164Z"
   },
   {
    "duration": 4,
    "start_time": "2022-02-25T16:40:40.171Z"
   },
   {
    "duration": 7,
    "start_time": "2022-02-25T16:40:40.176Z"
   },
   {
    "duration": 9,
    "start_time": "2022-02-25T16:40:40.185Z"
   },
   {
    "duration": 7,
    "start_time": "2022-02-25T16:40:40.195Z"
   },
   {
    "duration": 5,
    "start_time": "2022-02-25T16:40:40.203Z"
   },
   {
    "duration": 47,
    "start_time": "2022-02-25T16:40:40.210Z"
   },
   {
    "duration": 24,
    "start_time": "2022-02-25T16:40:40.259Z"
   },
   {
    "duration": 16,
    "start_time": "2022-02-25T16:40:40.284Z"
   },
   {
    "duration": 15,
    "start_time": "2022-02-25T16:40:40.302Z"
   },
   {
    "duration": 11,
    "start_time": "2022-02-25T16:40:40.346Z"
   },
   {
    "duration": 8,
    "start_time": "2022-02-25T16:40:40.358Z"
   },
   {
    "duration": 14,
    "start_time": "2022-02-25T16:40:40.368Z"
   },
   {
    "duration": 4,
    "start_time": "2022-02-25T16:40:40.383Z"
   },
   {
    "duration": 15,
    "start_time": "2022-02-25T16:40:40.388Z"
   },
   {
    "duration": 3,
    "start_time": "2022-02-25T16:40:40.404Z"
   },
   {
    "duration": 44,
    "start_time": "2022-02-25T16:40:40.408Z"
   },
   {
    "duration": 149,
    "start_time": "2022-02-25T16:41:46.303Z"
   },
   {
    "duration": 3,
    "start_time": "2022-02-25T16:41:58.523Z"
   },
   {
    "duration": 4,
    "start_time": "2022-02-25T16:42:09.236Z"
   },
   {
    "duration": 4,
    "start_time": "2022-02-25T16:42:11.442Z"
   },
   {
    "duration": 10,
    "start_time": "2022-02-25T16:42:18.889Z"
   },
   {
    "duration": 8,
    "start_time": "2022-02-25T16:42:29.428Z"
   },
   {
    "duration": 3,
    "start_time": "2022-02-25T16:42:37.005Z"
   },
   {
    "duration": 55,
    "start_time": "2022-02-25T16:42:37.010Z"
   },
   {
    "duration": 11,
    "start_time": "2022-02-25T16:42:37.067Z"
   },
   {
    "duration": 11,
    "start_time": "2022-02-25T16:42:37.081Z"
   },
   {
    "duration": 17,
    "start_time": "2022-02-25T16:42:37.094Z"
   },
   {
    "duration": 7,
    "start_time": "2022-02-25T16:42:37.112Z"
   },
   {
    "duration": 27,
    "start_time": "2022-02-25T16:42:37.120Z"
   },
   {
    "duration": 6,
    "start_time": "2022-02-25T16:42:37.149Z"
   },
   {
    "duration": 7,
    "start_time": "2022-02-25T16:42:37.157Z"
   },
   {
    "duration": 7,
    "start_time": "2022-02-25T16:42:37.166Z"
   },
   {
    "duration": 4,
    "start_time": "2022-02-25T16:42:37.174Z"
   },
   {
    "duration": 15,
    "start_time": "2022-02-25T16:42:37.179Z"
   },
   {
    "duration": 67,
    "start_time": "2022-02-25T16:42:37.196Z"
   },
   {
    "duration": 20,
    "start_time": "2022-02-25T16:42:37.264Z"
   },
   {
    "duration": 15,
    "start_time": "2022-02-25T16:42:37.285Z"
   },
   {
    "duration": 12,
    "start_time": "2022-02-25T16:42:37.301Z"
   },
   {
    "duration": 36,
    "start_time": "2022-02-25T16:42:37.314Z"
   },
   {
    "duration": 13,
    "start_time": "2022-02-25T16:42:37.351Z"
   },
   {
    "duration": 6,
    "start_time": "2022-02-25T16:42:37.365Z"
   },
   {
    "duration": 13,
    "start_time": "2022-02-25T16:42:37.372Z"
   },
   {
    "duration": 2,
    "start_time": "2022-02-25T16:42:37.387Z"
   },
   {
    "duration": 14,
    "start_time": "2022-02-25T16:42:37.391Z"
   },
   {
    "duration": 308,
    "start_time": "2022-02-25T16:43:44.748Z"
   },
   {
    "duration": 338,
    "start_time": "2022-02-25T16:43:54.265Z"
   },
   {
    "duration": 5,
    "start_time": "2022-02-25T16:44:07.557Z"
   },
   {
    "duration": 2,
    "start_time": "2022-02-25T16:44:19.486Z"
   },
   {
    "duration": 50,
    "start_time": "2022-02-25T16:44:20.843Z"
   },
   {
    "duration": 10,
    "start_time": "2022-02-25T16:44:21.769Z"
   },
   {
    "duration": 9,
    "start_time": "2022-02-25T16:44:26.133Z"
   },
   {
    "duration": 12,
    "start_time": "2022-02-25T16:44:29.288Z"
   },
   {
    "duration": 8,
    "start_time": "2022-02-25T16:44:34.086Z"
   },
   {
    "duration": 4,
    "start_time": "2022-02-25T16:44:35.661Z"
   },
   {
    "duration": 6,
    "start_time": "2022-02-25T16:44:37.143Z"
   },
   {
    "duration": 9,
    "start_time": "2022-02-25T16:44:40.315Z"
   },
   {
    "duration": 8,
    "start_time": "2022-02-25T16:44:41.175Z"
   },
   {
    "duration": 9,
    "start_time": "2022-02-25T16:45:02.685Z"
   },
   {
    "duration": 9,
    "start_time": "2022-02-25T16:45:03.497Z"
   },
   {
    "duration": 5,
    "start_time": "2022-02-25T16:45:05.708Z"
   },
   {
    "duration": 17,
    "start_time": "2022-02-25T16:45:07.233Z"
   },
   {
    "duration": 27,
    "start_time": "2022-02-25T16:45:08.808Z"
   },
   {
    "duration": 18,
    "start_time": "2022-02-25T16:45:10.574Z"
   },
   {
    "duration": 17,
    "start_time": "2022-02-25T16:45:37.539Z"
   },
   {
    "duration": 14,
    "start_time": "2022-02-25T16:47:17.647Z"
   },
   {
    "duration": 9,
    "start_time": "2022-02-25T16:47:18.493Z"
   },
   {
    "duration": 92,
    "start_time": "2022-02-25T16:48:20.871Z"
   },
   {
    "duration": 91,
    "start_time": "2022-02-25T16:52:10.312Z"
   },
   {
    "duration": 15,
    "start_time": "2022-02-25T16:56:01.288Z"
   },
   {
    "duration": 3,
    "start_time": "2022-02-25T16:56:10.615Z"
   },
   {
    "duration": 100,
    "start_time": "2022-02-25T16:56:48.473Z"
   },
   {
    "duration": 13,
    "start_time": "2022-02-25T16:56:57.447Z"
   },
   {
    "duration": 163,
    "start_time": "2022-02-25T16:59:03.878Z"
   },
   {
    "duration": 18,
    "start_time": "2022-02-25T16:59:04.325Z"
   },
   {
    "duration": 3,
    "start_time": "2022-02-25T17:04:58.197Z"
   },
   {
    "duration": 2,
    "start_time": "2022-02-25T17:05:17.970Z"
   },
   {
    "duration": 2,
    "start_time": "2022-02-25T17:05:41.829Z"
   },
   {
    "duration": 2,
    "start_time": "2022-02-25T17:05:54.550Z"
   },
   {
    "duration": 2,
    "start_time": "2022-02-25T17:06:15.286Z"
   },
   {
    "duration": 2,
    "start_time": "2022-02-25T17:06:28.577Z"
   },
   {
    "duration": 4,
    "start_time": "2022-02-25T17:28:36.264Z"
   },
   {
    "duration": 5,
    "start_time": "2022-02-25T17:29:35.725Z"
   },
   {
    "duration": 5,
    "start_time": "2022-02-25T17:29:38.559Z"
   },
   {
    "duration": 18,
    "start_time": "2022-02-25T17:34:44.856Z"
   },
   {
    "duration": 16,
    "start_time": "2022-02-25T17:34:50.469Z"
   },
   {
    "duration": 17,
    "start_time": "2022-02-25T17:35:37.408Z"
   },
   {
    "duration": 352,
    "start_time": "2022-02-25T17:36:03.328Z"
   },
   {
    "duration": 17,
    "start_time": "2022-02-25T17:36:18.362Z"
   },
   {
    "duration": 18,
    "start_time": "2022-02-25T17:36:33.928Z"
   },
   {
    "duration": 119,
    "start_time": "2022-02-25T17:37:45.187Z"
   },
   {
    "duration": 17,
    "start_time": "2022-02-25T17:38:16.869Z"
   },
   {
    "duration": 5,
    "start_time": "2022-02-25T17:38:19.627Z"
   },
   {
    "duration": 4,
    "start_time": "2022-02-25T17:38:21.141Z"
   },
   {
    "duration": 17,
    "start_time": "2022-02-25T17:38:58.154Z"
   },
   {
    "duration": 3,
    "start_time": "2022-02-25T17:39:00.577Z"
   },
   {
    "duration": 63,
    "start_time": "2022-02-25T17:39:00.582Z"
   },
   {
    "duration": 9,
    "start_time": "2022-02-25T17:39:00.647Z"
   },
   {
    "duration": 11,
    "start_time": "2022-02-25T17:39:00.658Z"
   },
   {
    "duration": 19,
    "start_time": "2022-02-25T17:39:00.671Z"
   },
   {
    "duration": 20,
    "start_time": "2022-02-25T17:39:00.692Z"
   },
   {
    "duration": 11,
    "start_time": "2022-02-25T17:39:00.714Z"
   },
   {
    "duration": 23,
    "start_time": "2022-02-25T17:39:00.727Z"
   },
   {
    "duration": 15,
    "start_time": "2022-02-25T17:39:00.752Z"
   },
   {
    "duration": 12,
    "start_time": "2022-02-25T17:39:00.769Z"
   },
   {
    "duration": 4,
    "start_time": "2022-02-25T17:39:00.783Z"
   },
   {
    "duration": 22,
    "start_time": "2022-02-25T17:39:00.789Z"
   },
   {
    "duration": 4,
    "start_time": "2022-02-25T17:39:00.813Z"
   },
   {
    "duration": 42,
    "start_time": "2022-02-25T17:39:00.819Z"
   },
   {
    "duration": 36,
    "start_time": "2022-02-25T17:39:00.863Z"
   },
   {
    "duration": 48,
    "start_time": "2022-02-25T17:39:00.901Z"
   },
   {
    "duration": 379,
    "start_time": "2022-02-25T17:39:00.951Z"
   },
   {
    "duration": -603,
    "start_time": "2022-02-25T17:39:01.935Z"
   },
   {
    "duration": -626,
    "start_time": "2022-02-25T17:39:01.959Z"
   },
   {
    "duration": -626,
    "start_time": "2022-02-25T17:39:01.960Z"
   },
   {
    "duration": -626,
    "start_time": "2022-02-25T17:39:01.961Z"
   },
   {
    "duration": -625,
    "start_time": "2022-02-25T17:39:01.962Z"
   },
   {
    "duration": -625,
    "start_time": "2022-02-25T17:39:01.963Z"
   },
   {
    "duration": -625,
    "start_time": "2022-02-25T17:39:01.964Z"
   },
   {
    "duration": -625,
    "start_time": "2022-02-25T17:39:01.965Z"
   },
   {
    "duration": 280,
    "start_time": "2022-02-25T17:39:23.792Z"
   },
   {
    "duration": 276,
    "start_time": "2022-02-25T17:39:25.483Z"
   },
   {
    "duration": 22,
    "start_time": "2022-02-25T17:39:28.456Z"
   },
   {
    "duration": 15,
    "start_time": "2022-02-25T17:39:39.697Z"
   },
   {
    "duration": 3,
    "start_time": "2022-02-25T17:39:44.624Z"
   },
   {
    "duration": 51,
    "start_time": "2022-02-25T17:39:46.317Z"
   },
   {
    "duration": 10,
    "start_time": "2022-02-25T17:39:47.023Z"
   },
   {
    "duration": 9,
    "start_time": "2022-02-25T17:39:48.836Z"
   },
   {
    "duration": 13,
    "start_time": "2022-02-25T17:39:50.684Z"
   },
   {
    "duration": 8,
    "start_time": "2022-02-25T17:39:53.199Z"
   },
   {
    "duration": 4,
    "start_time": "2022-02-25T17:39:55.562Z"
   },
   {
    "duration": 6,
    "start_time": "2022-02-25T17:39:56.792Z"
   },
   {
    "duration": 10,
    "start_time": "2022-02-25T17:39:59.821Z"
   },
   {
    "duration": 9,
    "start_time": "2022-02-25T17:40:01.499Z"
   },
   {
    "duration": 5,
    "start_time": "2022-02-25T17:40:04.198Z"
   },
   {
    "duration": 13,
    "start_time": "2022-02-25T17:40:05.431Z"
   },
   {
    "duration": 5,
    "start_time": "2022-02-25T17:40:09.084Z"
   },
   {
    "duration": 13,
    "start_time": "2022-02-25T17:40:12.522Z"
   },
   {
    "duration": 23,
    "start_time": "2022-02-25T17:40:13.557Z"
   },
   {
    "duration": 19,
    "start_time": "2022-02-25T17:40:17.565Z"
   },
   {
    "duration": 3522,
    "start_time": "2022-02-25T17:40:19.692Z"
   },
   {
    "duration": 17,
    "start_time": "2022-02-25T17:41:36.158Z"
   },
   {
    "duration": 4,
    "start_time": "2022-02-25T17:41:37.740Z"
   },
   {
    "duration": 13,
    "start_time": "2022-02-25T17:41:39.172Z"
   },
   {
    "duration": 23,
    "start_time": "2022-02-25T17:41:40.446Z"
   },
   {
    "duration": 21,
    "start_time": "2022-02-25T17:41:41.477Z"
   },
   {
    "duration": 297,
    "start_time": "2022-02-25T17:41:43.056Z"
   },
   {
    "duration": 7,
    "start_time": "2022-02-25T17:42:54.026Z"
   },
   {
    "duration": 4,
    "start_time": "2022-02-25T17:42:56.335Z"
   },
   {
    "duration": 13,
    "start_time": "2022-02-25T17:42:59.950Z"
   },
   {
    "duration": 22,
    "start_time": "2022-02-25T17:42:59.964Z"
   },
   {
    "duration": 20,
    "start_time": "2022-02-25T17:43:01.190Z"
   },
   {
    "duration": 287,
    "start_time": "2022-02-25T17:43:02.493Z"
   },
   {
    "duration": 3,
    "start_time": "2022-02-25T17:43:15.533Z"
   },
   {
    "duration": 68,
    "start_time": "2022-02-25T17:43:15.537Z"
   },
   {
    "duration": 9,
    "start_time": "2022-02-25T17:43:15.607Z"
   },
   {
    "duration": 9,
    "start_time": "2022-02-25T17:43:15.617Z"
   },
   {
    "duration": 22,
    "start_time": "2022-02-25T17:43:15.628Z"
   },
   {
    "duration": 7,
    "start_time": "2022-02-25T17:43:15.651Z"
   },
   {
    "duration": 3,
    "start_time": "2022-02-25T17:43:15.660Z"
   },
   {
    "duration": 5,
    "start_time": "2022-02-25T17:43:15.667Z"
   },
   {
    "duration": 12,
    "start_time": "2022-02-25T17:43:15.673Z"
   },
   {
    "duration": 12,
    "start_time": "2022-02-25T17:43:15.686Z"
   },
   {
    "duration": 6,
    "start_time": "2022-02-25T17:43:15.700Z"
   },
   {
    "duration": 41,
    "start_time": "2022-02-25T17:43:15.707Z"
   },
   {
    "duration": 13,
    "start_time": "2022-02-25T17:43:15.750Z"
   },
   {
    "duration": 17,
    "start_time": "2022-02-25T17:43:15.764Z"
   },
   {
    "duration": 26,
    "start_time": "2022-02-25T17:43:15.782Z"
   },
   {
    "duration": 38,
    "start_time": "2022-02-25T17:43:15.809Z"
   },
   {
    "duration": 17,
    "start_time": "2022-02-25T17:43:15.848Z"
   },
   {
    "duration": 12,
    "start_time": "2022-02-25T17:43:15.866Z"
   },
   {
    "duration": 8,
    "start_time": "2022-02-25T17:43:15.880Z"
   },
   {
    "duration": 12,
    "start_time": "2022-02-25T17:43:15.889Z"
   },
   {
    "duration": 5,
    "start_time": "2022-02-25T17:43:15.903Z"
   },
   {
    "duration": 56,
    "start_time": "2022-02-25T17:43:15.910Z"
   },
   {
    "duration": 192,
    "start_time": "2022-02-25T17:43:15.969Z"
   },
   {
    "duration": 124,
    "start_time": "2022-02-25T17:43:16.163Z"
   },
   {
    "duration": 82,
    "start_time": "2022-02-25T17:43:16.289Z"
   },
   {
    "duration": 9,
    "start_time": "2022-02-25T17:44:13.942Z"
   },
   {
    "duration": 3,
    "start_time": "2022-02-25T17:51:42.962Z"
   },
   {
    "duration": 5,
    "start_time": "2022-02-25T17:52:06.499Z"
   },
   {
    "duration": 3,
    "start_time": "2022-02-25T17:59:23.374Z"
   },
   {
    "duration": 6,
    "start_time": "2022-02-25T17:59:27.927Z"
   },
   {
    "duration": 8,
    "start_time": "2022-02-25T17:59:48.668Z"
   },
   {
    "duration": 302,
    "start_time": "2022-02-25T18:02:02.773Z"
   },
   {
    "duration": 8,
    "start_time": "2022-02-25T18:02:07.114Z"
   },
   {
    "duration": 10,
    "start_time": "2022-02-25T18:02:17.796Z"
   },
   {
    "duration": 288,
    "start_time": "2022-02-25T18:24:45.175Z"
   },
   {
    "duration": 7,
    "start_time": "2022-02-25T18:24:47.538Z"
   },
   {
    "duration": 7,
    "start_time": "2022-02-25T18:25:06.706Z"
   },
   {
    "duration": 9,
    "start_time": "2022-02-25T18:25:16.633Z"
   },
   {
    "duration": 9,
    "start_time": "2022-02-25T18:25:19.980Z"
   },
   {
    "duration": 5,
    "start_time": "2022-02-25T18:25:30.397Z"
   },
   {
    "duration": 6,
    "start_time": "2022-02-25T18:25:33.206Z"
   },
   {
    "duration": 2,
    "start_time": "2022-02-25T18:25:59.714Z"
   },
   {
    "duration": 68,
    "start_time": "2022-02-25T18:25:59.718Z"
   },
   {
    "duration": 10,
    "start_time": "2022-02-25T18:25:59.789Z"
   },
   {
    "duration": 10,
    "start_time": "2022-02-25T18:25:59.801Z"
   },
   {
    "duration": 38,
    "start_time": "2022-02-25T18:25:59.813Z"
   },
   {
    "duration": 8,
    "start_time": "2022-02-25T18:25:59.852Z"
   },
   {
    "duration": 4,
    "start_time": "2022-02-25T18:25:59.863Z"
   },
   {
    "duration": 6,
    "start_time": "2022-02-25T18:25:59.869Z"
   },
   {
    "duration": 11,
    "start_time": "2022-02-25T18:25:59.878Z"
   },
   {
    "duration": 9,
    "start_time": "2022-02-25T18:25:59.891Z"
   },
   {
    "duration": 44,
    "start_time": "2022-02-25T18:25:59.902Z"
   },
   {
    "duration": 7,
    "start_time": "2022-02-25T18:25:59.948Z"
   },
   {
    "duration": 6,
    "start_time": "2022-02-25T18:25:59.957Z"
   },
   {
    "duration": 21,
    "start_time": "2022-02-25T18:25:59.965Z"
   },
   {
    "duration": 78,
    "start_time": "2022-02-25T18:25:59.988Z"
   },
   {
    "duration": 19,
    "start_time": "2022-02-25T18:26:00.068Z"
   },
   {
    "duration": 17,
    "start_time": "2022-02-25T18:26:00.089Z"
   },
   {
    "duration": 40,
    "start_time": "2022-02-25T18:26:00.108Z"
   },
   {
    "duration": 18,
    "start_time": "2022-02-25T18:26:00.150Z"
   },
   {
    "duration": 26,
    "start_time": "2022-02-25T18:26:00.169Z"
   },
   {
    "duration": 19,
    "start_time": "2022-02-25T18:26:00.197Z"
   },
   {
    "duration": 37,
    "start_time": "2022-02-25T18:26:00.218Z"
   },
   {
    "duration": 12,
    "start_time": "2022-02-25T18:26:00.257Z"
   },
   {
    "duration": 31,
    "start_time": "2022-02-25T18:26:00.271Z"
   },
   {
    "duration": 16,
    "start_time": "2022-02-25T18:26:00.304Z"
   },
   {
    "duration": 28,
    "start_time": "2022-02-25T18:26:00.322Z"
   },
   {
    "duration": 14,
    "start_time": "2022-02-25T18:26:00.353Z"
   },
   {
    "duration": 6,
    "start_time": "2022-02-25T18:26:04.765Z"
   },
   {
    "duration": 5,
    "start_time": "2022-02-25T18:26:05.450Z"
   },
   {
    "duration": 8,
    "start_time": "2022-02-25T18:26:13.682Z"
   },
   {
    "duration": 8,
    "start_time": "2022-02-25T18:26:15.552Z"
   },
   {
    "duration": 301,
    "start_time": "2022-02-25T18:30:48.655Z"
   },
   {
    "duration": 3,
    "start_time": "2022-02-25T18:31:04.092Z"
   },
   {
    "duration": 2,
    "start_time": "2022-02-25T18:31:04.593Z"
   },
   {
    "duration": 351,
    "start_time": "2022-02-25T18:31:05.157Z"
   },
   {
    "duration": 292,
    "start_time": "2022-02-25T18:33:14.311Z"
   },
   {
    "duration": 290,
    "start_time": "2022-02-25T18:34:12.281Z"
   },
   {
    "duration": 14,
    "start_time": "2022-02-25T18:34:20.166Z"
   },
   {
    "duration": 19,
    "start_time": "2022-02-25T18:34:51.536Z"
   },
   {
    "duration": 1694,
    "start_time": "2022-02-25T18:35:27.234Z"
   },
   {
    "duration": 9,
    "start_time": "2022-02-25T18:36:13.806Z"
   },
   {
    "duration": 3,
    "start_time": "2022-02-25T18:36:14.781Z"
   },
   {
    "duration": 296,
    "start_time": "2022-02-25T18:42:13.677Z"
   },
   {
    "duration": 260,
    "start_time": "2022-02-25T18:42:26.527Z"
   },
   {
    "duration": 6,
    "start_time": "2022-02-25T18:42:32.870Z"
   },
   {
    "duration": 10,
    "start_time": "2022-02-25T18:42:38.901Z"
   },
   {
    "duration": 7,
    "start_time": "2022-02-25T18:42:56.298Z"
   },
   {
    "duration": 8,
    "start_time": "2022-02-25T18:43:08.677Z"
   },
   {
    "duration": 11,
    "start_time": "2022-02-25T18:44:31.503Z"
   },
   {
    "duration": 12,
    "start_time": "2022-02-25T18:45:21.033Z"
   },
   {
    "duration": 12,
    "start_time": "2022-02-25T18:45:28.194Z"
   },
   {
    "duration": 12,
    "start_time": "2022-02-25T18:45:52.093Z"
   },
   {
    "duration": 8,
    "start_time": "2022-02-25T18:45:56.028Z"
   },
   {
    "duration": 10,
    "start_time": "2022-02-25T18:47:28.812Z"
   },
   {
    "duration": 9,
    "start_time": "2022-02-25T18:49:43.336Z"
   },
   {
    "duration": 9,
    "start_time": "2022-02-25T18:54:58.271Z"
   },
   {
    "duration": 10,
    "start_time": "2022-02-25T18:55:49.318Z"
   },
   {
    "duration": -611,
    "start_time": "2022-02-25T18:57:21.247Z"
   },
   {
    "duration": 12,
    "start_time": "2022-02-25T18:57:23.515Z"
   },
   {
    "duration": 11,
    "start_time": "2022-02-25T18:57:25.012Z"
   },
   {
    "duration": 9,
    "start_time": "2022-02-25T18:58:53.665Z"
   },
   {
    "duration": 14,
    "start_time": "2022-02-25T18:58:57.171Z"
   },
   {
    "duration": 8,
    "start_time": "2022-02-25T19:00:00.118Z"
   },
   {
    "duration": 318,
    "start_time": "2022-02-25T19:02:03.961Z"
   },
   {
    "duration": 15,
    "start_time": "2022-02-25T19:02:11.118Z"
   },
   {
    "duration": 20,
    "start_time": "2022-02-25T19:03:18.585Z"
   },
   {
    "duration": 12,
    "start_time": "2022-02-25T19:03:23.286Z"
   },
   {
    "duration": 288,
    "start_time": "2022-02-25T19:25:04.420Z"
   },
   {
    "duration": 299,
    "start_time": "2022-02-25T19:25:16.053Z"
   },
   {
    "duration": 8,
    "start_time": "2022-02-25T19:25:38.993Z"
   },
   {
    "duration": 11,
    "start_time": "2022-02-25T19:26:55.838Z"
   },
   {
    "duration": 8,
    "start_time": "2022-02-25T19:27:55.651Z"
   },
   {
    "duration": 317,
    "start_time": "2022-02-25T19:29:04.920Z"
   },
   {
    "duration": 9,
    "start_time": "2022-02-25T19:29:10.970Z"
   },
   {
    "duration": 10,
    "start_time": "2022-02-25T19:29:55.294Z"
   },
   {
    "duration": 9,
    "start_time": "2022-02-25T19:30:07.414Z"
   },
   {
    "duration": 94,
    "start_time": "2022-02-25T19:31:42.483Z"
   },
   {
    "duration": 11,
    "start_time": "2022-02-25T19:32:22.686Z"
   },
   {
    "duration": 9,
    "start_time": "2022-02-25T19:32:34.141Z"
   },
   {
    "duration": 7,
    "start_time": "2022-02-25T19:36:27.047Z"
   },
   {
    "duration": 450,
    "start_time": "2022-02-25T19:37:03.467Z"
   },
   {
    "duration": 9,
    "start_time": "2022-02-25T19:37:15.111Z"
   },
   {
    "duration": 9,
    "start_time": "2022-02-25T19:37:37.038Z"
   },
   {
    "duration": 11,
    "start_time": "2022-02-25T19:38:16.315Z"
   },
   {
    "duration": 9,
    "start_time": "2022-02-25T19:38:24.472Z"
   },
   {
    "duration": 12,
    "start_time": "2022-02-25T19:41:43.380Z"
   },
   {
    "duration": 12,
    "start_time": "2022-02-25T19:42:13.546Z"
   },
   {
    "duration": 104,
    "start_time": "2022-02-25T19:43:16.699Z"
   },
   {
    "duration": 13,
    "start_time": "2022-02-25T19:45:02.536Z"
   },
   {
    "duration": 13,
    "start_time": "2022-02-25T19:45:25.837Z"
   },
   {
    "duration": 21,
    "start_time": "2022-02-25T19:45:37.775Z"
   },
   {
    "duration": 109,
    "start_time": "2022-02-25T19:49:11.361Z"
   },
   {
    "duration": 12,
    "start_time": "2022-02-25T19:49:16.143Z"
   },
   {
    "duration": 13,
    "start_time": "2022-02-25T19:53:05.590Z"
   },
   {
    "duration": 14,
    "start_time": "2022-02-25T19:53:10.751Z"
   },
   {
    "duration": 12,
    "start_time": "2022-02-25T19:53:18.160Z"
   },
   {
    "duration": 22,
    "start_time": "2022-02-25T19:53:45.063Z"
   },
   {
    "duration": 22,
    "start_time": "2022-02-25T19:54:01.233Z"
   },
   {
    "duration": 22,
    "start_time": "2022-02-25T19:54:20.051Z"
   },
   {
    "duration": 682,
    "start_time": "2022-02-25T19:56:20.903Z"
   },
   {
    "duration": 302,
    "start_time": "2022-02-25T19:56:30.292Z"
   },
   {
    "duration": 22,
    "start_time": "2022-02-25T19:56:38.720Z"
   },
   {
    "duration": 16,
    "start_time": "2022-02-25T19:57:55.361Z"
   },
   {
    "duration": 15,
    "start_time": "2022-02-25T19:57:57.022Z"
   },
   {
    "duration": 23,
    "start_time": "2022-02-25T19:58:03.082Z"
   },
   {
    "duration": 15,
    "start_time": "2022-02-25T19:59:28.557Z"
   },
   {
    "duration": 23,
    "start_time": "2022-02-25T19:59:32.590Z"
   },
   {
    "duration": 32,
    "start_time": "2022-02-25T19:59:48.638Z"
   },
   {
    "duration": 25,
    "start_time": "2022-02-25T20:00:29.088Z"
   },
   {
    "duration": 33,
    "start_time": "2022-02-25T20:00:33.437Z"
   },
   {
    "duration": 3,
    "start_time": "2022-02-25T20:01:08.511Z"
   },
   {
    "duration": 279,
    "start_time": "2022-02-25T20:01:09.092Z"
   },
   {
    "duration": 303,
    "start_time": "2022-02-25T20:01:40.533Z"
   },
   {
    "duration": 22,
    "start_time": "2022-02-25T20:01:47.882Z"
   },
   {
    "duration": 2,
    "start_time": "2022-02-25T20:02:01.245Z"
   },
   {
    "duration": 667,
    "start_time": "2022-02-25T20:02:02.819Z"
   },
   {
    "duration": 30,
    "start_time": "2022-02-25T20:04:18.837Z"
   },
   {
    "duration": 311,
    "start_time": "2022-02-25T20:04:24.590Z"
   },
   {
    "duration": 290,
    "start_time": "2022-02-25T20:04:45.683Z"
   },
   {
    "duration": 21,
    "start_time": "2022-02-25T20:05:21.464Z"
   },
   {
    "duration": 21,
    "start_time": "2022-02-25T20:05:36.968Z"
   },
   {
    "duration": 2,
    "start_time": "2022-02-25T20:05:37.836Z"
   },
   {
    "duration": 358,
    "start_time": "2022-02-25T20:05:39.851Z"
   },
   {
    "duration": 20,
    "start_time": "2022-02-25T20:06:10.933Z"
   },
   {
    "duration": 3,
    "start_time": "2022-02-25T20:06:29.726Z"
   },
   {
    "duration": 321,
    "start_time": "2022-02-25T20:06:30.426Z"
   },
   {
    "duration": 25,
    "start_time": "2022-02-25T20:07:14.550Z"
   },
   {
    "duration": 3,
    "start_time": "2022-02-25T20:07:15.858Z"
   },
   {
    "duration": 285,
    "start_time": "2022-02-25T20:07:16.578Z"
   },
   {
    "duration": 3,
    "start_time": "2022-02-25T20:07:47.425Z"
   },
   {
    "duration": 5751,
    "start_time": "2022-02-25T20:08:21.690Z"
   },
   {
    "duration": 21,
    "start_time": "2022-02-25T20:08:55.687Z"
   },
   {
    "duration": 24,
    "start_time": "2022-02-25T20:09:13.529Z"
   },
   {
    "duration": 30,
    "start_time": "2022-02-25T20:10:17.240Z"
   },
   {
    "duration": 21,
    "start_time": "2022-02-25T20:10:29.862Z"
   },
   {
    "duration": 21,
    "start_time": "2022-02-25T20:10:37.927Z"
   },
   {
    "duration": 20,
    "start_time": "2022-02-25T20:10:44.166Z"
   },
   {
    "duration": 23,
    "start_time": "2022-02-25T20:11:22.227Z"
   },
   {
    "duration": 411,
    "start_time": "2022-02-25T20:12:06.488Z"
   },
   {
    "duration": 94,
    "start_time": "2022-02-25T20:12:25.276Z"
   },
   {
    "duration": 303,
    "start_time": "2022-02-25T20:12:32.177Z"
   },
   {
    "duration": 273,
    "start_time": "2022-02-25T20:15:05.614Z"
   },
   {
    "duration": 298,
    "start_time": "2022-02-25T20:15:51.345Z"
   },
   {
    "duration": 290,
    "start_time": "2022-02-25T20:15:59.897Z"
   },
   {
    "duration": 2,
    "start_time": "2022-02-25T20:16:11.849Z"
   },
   {
    "duration": 56,
    "start_time": "2022-02-25T20:16:11.853Z"
   },
   {
    "duration": 9,
    "start_time": "2022-02-25T20:16:11.911Z"
   },
   {
    "duration": 25,
    "start_time": "2022-02-25T20:16:11.922Z"
   },
   {
    "duration": 12,
    "start_time": "2022-02-25T20:16:11.948Z"
   },
   {
    "duration": 7,
    "start_time": "2022-02-25T20:16:11.961Z"
   },
   {
    "duration": 3,
    "start_time": "2022-02-25T20:16:11.969Z"
   },
   {
    "duration": 7,
    "start_time": "2022-02-25T20:16:11.973Z"
   },
   {
    "duration": 12,
    "start_time": "2022-02-25T20:16:11.982Z"
   },
   {
    "duration": 7,
    "start_time": "2022-02-25T20:16:11.996Z"
   },
   {
    "duration": 44,
    "start_time": "2022-02-25T20:16:12.004Z"
   },
   {
    "duration": 8,
    "start_time": "2022-02-25T20:16:12.050Z"
   },
   {
    "duration": 8,
    "start_time": "2022-02-25T20:16:12.059Z"
   },
   {
    "duration": 18,
    "start_time": "2022-02-25T20:16:12.068Z"
   },
   {
    "duration": 28,
    "start_time": "2022-02-25T20:16:12.087Z"
   },
   {
    "duration": 44,
    "start_time": "2022-02-25T20:16:12.116Z"
   },
   {
    "duration": 16,
    "start_time": "2022-02-25T20:16:12.161Z"
   },
   {
    "duration": 11,
    "start_time": "2022-02-25T20:16:12.179Z"
   },
   {
    "duration": 8,
    "start_time": "2022-02-25T20:16:12.191Z"
   },
   {
    "duration": 47,
    "start_time": "2022-02-25T20:16:12.200Z"
   },
   {
    "duration": 3,
    "start_time": "2022-02-25T20:16:12.248Z"
   },
   {
    "duration": 17,
    "start_time": "2022-02-25T20:16:12.253Z"
   },
   {
    "duration": 3,
    "start_time": "2022-02-25T20:16:12.271Z"
   },
   {
    "duration": 14,
    "start_time": "2022-02-25T20:16:12.275Z"
   },
   {
    "duration": 19,
    "start_time": "2022-02-25T20:16:12.291Z"
   },
   {
    "duration": 51,
    "start_time": "2022-02-25T20:16:12.311Z"
   },
   {
    "duration": 2,
    "start_time": "2022-02-25T20:16:12.365Z"
   },
   {
    "duration": 290,
    "start_time": "2022-02-25T20:16:12.368Z"
   },
   {
    "duration": -589,
    "start_time": "2022-02-25T20:16:13.250Z"
   },
   {
    "duration": -589,
    "start_time": "2022-02-25T20:16:13.251Z"
   },
   {
    "duration": 21,
    "start_time": "2022-02-25T20:18:47.470Z"
   },
   {
    "duration": 22,
    "start_time": "2022-02-25T20:18:51.879Z"
   },
   {
    "duration": 484,
    "start_time": "2022-02-25T20:19:12.248Z"
   },
   {
    "duration": 357,
    "start_time": "2022-02-25T20:19:18.506Z"
   },
   {
    "duration": 6,
    "start_time": "2022-02-25T20:19:26.791Z"
   },
   {
    "duration": 10,
    "start_time": "2022-02-25T20:19:35.702Z"
   },
   {
    "duration": 10,
    "start_time": "2022-02-25T20:19:51.953Z"
   },
   {
    "duration": 11,
    "start_time": "2022-02-25T20:19:56.822Z"
   },
   {
    "duration": 3,
    "start_time": "2022-02-25T20:20:13.604Z"
   },
   {
    "duration": 58,
    "start_time": "2022-02-25T20:20:13.609Z"
   },
   {
    "duration": 9,
    "start_time": "2022-02-25T20:20:13.669Z"
   },
   {
    "duration": 9,
    "start_time": "2022-02-25T20:20:13.680Z"
   },
   {
    "duration": 14,
    "start_time": "2022-02-25T20:20:13.690Z"
   },
   {
    "duration": 7,
    "start_time": "2022-02-25T20:20:13.705Z"
   },
   {
    "duration": 33,
    "start_time": "2022-02-25T20:20:13.714Z"
   },
   {
    "duration": 5,
    "start_time": "2022-02-25T20:20:13.749Z"
   },
   {
    "duration": 8,
    "start_time": "2022-02-25T20:20:13.756Z"
   },
   {
    "duration": 8,
    "start_time": "2022-02-25T20:20:13.766Z"
   },
   {
    "duration": 4,
    "start_time": "2022-02-25T20:20:13.776Z"
   },
   {
    "duration": 8,
    "start_time": "2022-02-25T20:20:13.782Z"
   },
   {
    "duration": 57,
    "start_time": "2022-02-25T20:20:13.791Z"
   },
   {
    "duration": 16,
    "start_time": "2022-02-25T20:20:13.850Z"
   },
   {
    "duration": 30,
    "start_time": "2022-02-25T20:20:13.868Z"
   },
   {
    "duration": 53,
    "start_time": "2022-02-25T20:20:13.900Z"
   },
   {
    "duration": 18,
    "start_time": "2022-02-25T20:20:13.955Z"
   },
   {
    "duration": 11,
    "start_time": "2022-02-25T20:20:13.975Z"
   },
   {
    "duration": 8,
    "start_time": "2022-02-25T20:20:13.987Z"
   },
   {
    "duration": 11,
    "start_time": "2022-02-25T20:20:13.997Z"
   },
   {
    "duration": 36,
    "start_time": "2022-02-25T20:20:14.010Z"
   },
   {
    "duration": 12,
    "start_time": "2022-02-25T20:20:14.048Z"
   },
   {
    "duration": 2,
    "start_time": "2022-02-25T20:20:14.063Z"
   },
   {
    "duration": 12,
    "start_time": "2022-02-25T20:20:14.067Z"
   },
   {
    "duration": 20,
    "start_time": "2022-02-25T20:20:14.080Z"
   },
   {
    "duration": 55,
    "start_time": "2022-02-25T20:20:14.101Z"
   },
   {
    "duration": 2,
    "start_time": "2022-02-25T20:20:14.158Z"
   },
   {
    "duration": 956,
    "start_time": "2022-02-25T20:20:14.162Z"
   },
   {
    "duration": -611,
    "start_time": "2022-02-25T20:20:15.731Z"
   },
   {
    "duration": -611,
    "start_time": "2022-02-25T20:20:15.732Z"
   },
   {
    "duration": 905,
    "start_time": "2022-02-25T20:20:22.278Z"
   },
   {
    "duration": 10,
    "start_time": "2022-02-25T20:20:39.069Z"
   },
   {
    "duration": 11,
    "start_time": "2022-02-25T20:20:46.486Z"
   },
   {
    "duration": 9,
    "start_time": "2022-02-25T20:20:48.159Z"
   },
   {
    "duration": 2,
    "start_time": "2022-02-25T20:20:51.231Z"
   },
   {
    "duration": 61,
    "start_time": "2022-02-25T20:20:51.235Z"
   },
   {
    "duration": 9,
    "start_time": "2022-02-25T20:20:51.298Z"
   },
   {
    "duration": 8,
    "start_time": "2022-02-25T20:20:51.308Z"
   },
   {
    "duration": 36,
    "start_time": "2022-02-25T20:20:51.318Z"
   },
   {
    "duration": 6,
    "start_time": "2022-02-25T20:20:51.356Z"
   },
   {
    "duration": 3,
    "start_time": "2022-02-25T20:20:51.364Z"
   },
   {
    "duration": 7,
    "start_time": "2022-02-25T20:20:51.370Z"
   },
   {
    "duration": 7,
    "start_time": "2022-02-25T20:20:51.379Z"
   },
   {
    "duration": 9,
    "start_time": "2022-02-25T20:20:51.387Z"
   },
   {
    "duration": 3,
    "start_time": "2022-02-25T20:20:51.398Z"
   },
   {
    "duration": 44,
    "start_time": "2022-02-25T20:20:51.402Z"
   },
   {
    "duration": 4,
    "start_time": "2022-02-25T20:20:51.448Z"
   },
   {
    "duration": 15,
    "start_time": "2022-02-25T20:20:51.454Z"
   },
   {
    "duration": 26,
    "start_time": "2022-02-25T20:20:51.471Z"
   },
   {
    "duration": 48,
    "start_time": "2022-02-25T20:20:51.499Z"
   },
   {
    "duration": 16,
    "start_time": "2022-02-25T20:20:51.548Z"
   },
   {
    "duration": 12,
    "start_time": "2022-02-25T20:20:51.565Z"
   },
   {
    "duration": 9,
    "start_time": "2022-02-25T20:20:51.578Z"
   },
   {
    "duration": 11,
    "start_time": "2022-02-25T20:20:51.588Z"
   },
   {
    "duration": 3,
    "start_time": "2022-02-25T20:20:51.600Z"
   },
   {
    "duration": 50,
    "start_time": "2022-02-25T20:20:51.604Z"
   },
   {
    "duration": 3,
    "start_time": "2022-02-25T20:20:51.656Z"
   },
   {
    "duration": 13,
    "start_time": "2022-02-25T20:20:51.661Z"
   },
   {
    "duration": 20,
    "start_time": "2022-02-25T20:20:51.676Z"
   },
   {
    "duration": 18,
    "start_time": "2022-02-25T20:20:51.697Z"
   },
   {
    "duration": 2,
    "start_time": "2022-02-25T20:20:51.746Z"
   },
   {
    "duration": 13,
    "start_time": "2022-02-25T20:20:51.750Z"
   },
   {
    "duration": 21,
    "start_time": "2022-02-25T20:20:51.764Z"
   },
   {
    "duration": 25,
    "start_time": "2022-02-25T20:20:51.786Z"
   },
   {
    "duration": 3,
    "start_time": "2022-02-25T20:25:23.497Z"
   },
   {
    "duration": 56,
    "start_time": "2022-02-25T20:25:23.502Z"
   },
   {
    "duration": 11,
    "start_time": "2022-02-25T20:25:23.560Z"
   },
   {
    "duration": 8,
    "start_time": "2022-02-25T20:25:23.574Z"
   },
   {
    "duration": 14,
    "start_time": "2022-02-25T20:25:23.584Z"
   },
   {
    "duration": 46,
    "start_time": "2022-02-25T20:25:23.600Z"
   },
   {
    "duration": 4,
    "start_time": "2022-02-25T20:25:23.648Z"
   },
   {
    "duration": 12,
    "start_time": "2022-02-25T20:25:23.655Z"
   },
   {
    "duration": 9,
    "start_time": "2022-02-25T20:25:23.669Z"
   },
   {
    "duration": 10,
    "start_time": "2022-02-25T20:25:23.679Z"
   },
   {
    "duration": 4,
    "start_time": "2022-02-25T20:25:23.690Z"
   },
   {
    "duration": 8,
    "start_time": "2022-02-25T20:25:23.696Z"
   },
   {
    "duration": 44,
    "start_time": "2022-02-25T20:25:23.705Z"
   },
   {
    "duration": 17,
    "start_time": "2022-02-25T20:25:23.750Z"
   },
   {
    "duration": 29,
    "start_time": "2022-02-25T20:25:23.769Z"
   },
   {
    "duration": 18,
    "start_time": "2022-02-25T20:25:23.799Z"
   },
   {
    "duration": 40,
    "start_time": "2022-02-25T20:25:23.818Z"
   },
   {
    "duration": 11,
    "start_time": "2022-02-25T20:25:23.859Z"
   },
   {
    "duration": 7,
    "start_time": "2022-02-25T20:25:23.872Z"
   },
   {
    "duration": 12,
    "start_time": "2022-02-25T20:25:23.880Z"
   },
   {
    "duration": 4,
    "start_time": "2022-02-25T20:25:23.893Z"
   },
   {
    "duration": 47,
    "start_time": "2022-02-25T20:25:23.899Z"
   },
   {
    "duration": 2,
    "start_time": "2022-02-25T20:25:23.949Z"
   },
   {
    "duration": 13,
    "start_time": "2022-02-25T20:25:23.953Z"
   },
   {
    "duration": 26,
    "start_time": "2022-02-25T20:25:23.967Z"
   },
   {
    "duration": 17,
    "start_time": "2022-02-25T20:25:23.995Z"
   },
   {
    "duration": 2,
    "start_time": "2022-02-25T20:25:24.014Z"
   },
   {
    "duration": 35,
    "start_time": "2022-02-25T20:25:24.017Z"
   },
   {
    "duration": 23,
    "start_time": "2022-02-25T20:25:24.054Z"
   },
   {
    "duration": 21,
    "start_time": "2022-02-25T20:25:24.078Z"
   },
   {
    "duration": 10,
    "start_time": "2022-02-25T20:28:58.370Z"
   },
   {
    "duration": 10,
    "start_time": "2022-02-25T20:29:04.040Z"
   },
   {
    "duration": 3,
    "start_time": "2022-02-25T20:29:08.475Z"
   },
   {
    "duration": 56,
    "start_time": "2022-02-25T20:29:08.480Z"
   },
   {
    "duration": 13,
    "start_time": "2022-02-25T20:29:08.539Z"
   },
   {
    "duration": 11,
    "start_time": "2022-02-25T20:29:08.554Z"
   },
   {
    "duration": 15,
    "start_time": "2022-02-25T20:29:08.567Z"
   },
   {
    "duration": 7,
    "start_time": "2022-02-25T20:29:08.584Z"
   },
   {
    "duration": 9,
    "start_time": "2022-02-25T20:29:08.592Z"
   },
   {
    "duration": 9,
    "start_time": "2022-02-25T20:29:08.602Z"
   },
   {
    "duration": 9,
    "start_time": "2022-02-25T20:29:08.646Z"
   },
   {
    "duration": 7,
    "start_time": "2022-02-25T20:29:08.658Z"
   },
   {
    "duration": 3,
    "start_time": "2022-02-25T20:29:08.667Z"
   },
   {
    "duration": 18,
    "start_time": "2022-02-25T20:29:08.672Z"
   },
   {
    "duration": 4,
    "start_time": "2022-02-25T20:29:08.691Z"
   },
   {
    "duration": 19,
    "start_time": "2022-02-25T20:29:08.697Z"
   },
   {
    "duration": 56,
    "start_time": "2022-02-25T20:29:08.717Z"
   },
   {
    "duration": 18,
    "start_time": "2022-02-25T20:29:08.774Z"
   },
   {
    "duration": 16,
    "start_time": "2022-02-25T20:29:08.794Z"
   },
   {
    "duration": 40,
    "start_time": "2022-02-25T20:29:08.811Z"
   },
   {
    "duration": 8,
    "start_time": "2022-02-25T20:29:08.852Z"
   },
   {
    "duration": 14,
    "start_time": "2022-02-25T20:29:08.862Z"
   },
   {
    "duration": 6,
    "start_time": "2022-02-25T20:29:08.878Z"
   },
   {
    "duration": 16,
    "start_time": "2022-02-25T20:29:08.885Z"
   },
   {
    "duration": 3,
    "start_time": "2022-02-25T20:29:08.903Z"
   },
   {
    "duration": 39,
    "start_time": "2022-02-25T20:29:08.908Z"
   },
   {
    "duration": 21,
    "start_time": "2022-02-25T20:29:08.948Z"
   },
   {
    "duration": 18,
    "start_time": "2022-02-25T20:29:08.970Z"
   },
   {
    "duration": 2,
    "start_time": "2022-02-25T20:29:08.991Z"
   },
   {
    "duration": 336,
    "start_time": "2022-02-25T20:29:08.994Z"
   },
   {
    "duration": -590,
    "start_time": "2022-02-25T20:29:09.921Z"
   },
   {
    "duration": -590,
    "start_time": "2022-02-25T20:29:09.922Z"
   },
   {
    "duration": 310,
    "start_time": "2022-02-25T20:29:32.739Z"
   },
   {
    "duration": 281,
    "start_time": "2022-02-25T20:29:44.173Z"
   },
   {
    "duration": 328,
    "start_time": "2022-02-25T20:30:16.425Z"
   },
   {
    "duration": 3,
    "start_time": "2022-02-25T20:30:25.327Z"
   },
   {
    "duration": 61,
    "start_time": "2022-02-25T20:30:25.331Z"
   },
   {
    "duration": 9,
    "start_time": "2022-02-25T20:30:25.394Z"
   },
   {
    "duration": 9,
    "start_time": "2022-02-25T20:30:25.404Z"
   },
   {
    "duration": 33,
    "start_time": "2022-02-25T20:30:25.414Z"
   },
   {
    "duration": 9,
    "start_time": "2022-02-25T20:30:25.449Z"
   },
   {
    "duration": 6,
    "start_time": "2022-02-25T20:30:25.459Z"
   },
   {
    "duration": 7,
    "start_time": "2022-02-25T20:30:25.468Z"
   },
   {
    "duration": 8,
    "start_time": "2022-02-25T20:30:25.476Z"
   },
   {
    "duration": 13,
    "start_time": "2022-02-25T20:30:25.485Z"
   },
   {
    "duration": 16,
    "start_time": "2022-02-25T20:30:25.500Z"
   },
   {
    "duration": 35,
    "start_time": "2022-02-25T20:30:25.517Z"
   },
   {
    "duration": 13,
    "start_time": "2022-02-25T20:30:25.554Z"
   },
   {
    "duration": 18,
    "start_time": "2022-02-25T20:30:25.568Z"
   },
   {
    "duration": 30,
    "start_time": "2022-02-25T20:30:25.588Z"
   },
   {
    "duration": 35,
    "start_time": "2022-02-25T20:30:25.619Z"
   },
   {
    "duration": 16,
    "start_time": "2022-02-25T20:30:25.655Z"
   },
   {
    "duration": 27,
    "start_time": "2022-02-25T20:30:25.673Z"
   },
   {
    "duration": 8,
    "start_time": "2022-02-25T20:30:25.701Z"
   },
   {
    "duration": 10,
    "start_time": "2022-02-25T20:30:25.711Z"
   },
   {
    "duration": 24,
    "start_time": "2022-02-25T20:30:25.723Z"
   },
   {
    "duration": 21,
    "start_time": "2022-02-25T20:30:25.748Z"
   },
   {
    "duration": 8,
    "start_time": "2022-02-25T20:30:25.772Z"
   },
   {
    "duration": 25,
    "start_time": "2022-02-25T20:30:25.782Z"
   },
   {
    "duration": 21,
    "start_time": "2022-02-25T20:30:25.809Z"
   },
   {
    "duration": 22,
    "start_time": "2022-02-25T20:30:25.832Z"
   },
   {
    "duration": 7,
    "start_time": "2022-02-25T20:30:25.856Z"
   },
   {
    "duration": 292,
    "start_time": "2022-02-25T20:30:25.864Z"
   },
   {
    "duration": -591,
    "start_time": "2022-02-25T20:30:26.749Z"
   },
   {
    "duration": -591,
    "start_time": "2022-02-25T20:30:26.750Z"
   },
   {
    "duration": 302,
    "start_time": "2022-02-25T20:33:38.953Z"
   },
   {
    "duration": 20,
    "start_time": "2022-02-25T20:35:01.968Z"
   },
   {
    "duration": 26,
    "start_time": "2022-02-25T20:35:38.486Z"
   },
   {
    "duration": 44,
    "start_time": "2022-02-25T20:36:03.779Z"
   },
   {
    "duration": 22,
    "start_time": "2022-02-25T20:37:38.623Z"
   },
   {
    "duration": 18,
    "start_time": "2022-02-25T20:39:46.654Z"
   },
   {
    "duration": 19,
    "start_time": "2022-02-25T20:39:50.170Z"
   },
   {
    "duration": 19,
    "start_time": "2022-02-25T20:40:08.354Z"
   },
   {
    "duration": 18,
    "start_time": "2022-02-25T20:40:12.080Z"
   },
   {
    "duration": 23,
    "start_time": "2022-02-25T20:40:27.725Z"
   },
   {
    "duration": 23,
    "start_time": "2022-02-25T20:41:07.291Z"
   },
   {
    "duration": 25,
    "start_time": "2022-02-25T20:41:18.390Z"
   },
   {
    "duration": 25,
    "start_time": "2022-02-25T20:41:42.572Z"
   },
   {
    "duration": 24,
    "start_time": "2022-02-25T20:42:04.939Z"
   },
   {
    "duration": 25,
    "start_time": "2022-02-25T20:42:11.573Z"
   },
   {
    "duration": 21,
    "start_time": "2022-02-25T20:42:32.719Z"
   },
   {
    "duration": 24,
    "start_time": "2022-02-25T20:42:37.419Z"
   },
   {
    "duration": 23,
    "start_time": "2022-02-25T20:43:03.411Z"
   },
   {
    "duration": 312,
    "start_time": "2022-02-25T20:43:49.699Z"
   },
   {
    "duration": 333,
    "start_time": "2022-02-25T20:43:56.762Z"
   },
   {
    "duration": 315,
    "start_time": "2022-02-25T20:44:16.294Z"
   },
   {
    "duration": 23,
    "start_time": "2022-02-25T20:44:34.048Z"
   },
   {
    "duration": 23,
    "start_time": "2022-02-25T20:45:21.813Z"
   },
   {
    "duration": 22,
    "start_time": "2022-02-25T20:45:28.577Z"
   },
   {
    "duration": 23,
    "start_time": "2022-02-25T20:45:58.513Z"
   },
   {
    "duration": 22,
    "start_time": "2022-02-25T20:46:10.754Z"
   },
   {
    "duration": 19,
    "start_time": "2022-02-25T20:54:21.305Z"
   },
   {
    "duration": 21,
    "start_time": "2022-02-25T20:58:55.286Z"
   },
   {
    "duration": 11,
    "start_time": "2022-02-25T20:58:55.929Z"
   },
   {
    "duration": 17,
    "start_time": "2022-02-25T20:59:04.435Z"
   },
   {
    "duration": 9,
    "start_time": "2022-02-25T20:59:05.101Z"
   },
   {
    "duration": 94,
    "start_time": "2022-02-25T21:00:20.194Z"
   },
   {
    "duration": 6,
    "start_time": "2022-02-25T21:20:27.059Z"
   },
   {
    "duration": 6,
    "start_time": "2022-02-25T21:20:38.867Z"
   },
   {
    "duration": 4,
    "start_time": "2022-02-25T21:20:54.447Z"
   },
   {
    "duration": 6,
    "start_time": "2022-02-25T21:21:01.974Z"
   },
   {
    "duration": 7,
    "start_time": "2022-02-25T21:21:07.344Z"
   },
   {
    "duration": 3,
    "start_time": "2022-02-25T21:21:14.789Z"
   },
   {
    "duration": 54,
    "start_time": "2022-02-25T21:21:14.793Z"
   },
   {
    "duration": 9,
    "start_time": "2022-02-25T21:21:14.849Z"
   },
   {
    "duration": 10,
    "start_time": "2022-02-25T21:21:14.859Z"
   },
   {
    "duration": 15,
    "start_time": "2022-02-25T21:21:14.870Z"
   },
   {
    "duration": 6,
    "start_time": "2022-02-25T21:21:14.886Z"
   },
   {
    "duration": 3,
    "start_time": "2022-02-25T21:21:14.894Z"
   },
   {
    "duration": 8,
    "start_time": "2022-02-25T21:21:14.898Z"
   },
   {
    "duration": 40,
    "start_time": "2022-02-25T21:21:14.908Z"
   },
   {
    "duration": 8,
    "start_time": "2022-02-25T21:21:14.951Z"
   },
   {
    "duration": 5,
    "start_time": "2022-02-25T21:21:14.961Z"
   },
   {
    "duration": 7,
    "start_time": "2022-02-25T21:21:14.967Z"
   },
   {
    "duration": 3,
    "start_time": "2022-02-25T21:21:14.976Z"
   },
   {
    "duration": 15,
    "start_time": "2022-02-25T21:21:14.981Z"
   },
   {
    "duration": 66,
    "start_time": "2022-02-25T21:21:14.998Z"
   },
   {
    "duration": 18,
    "start_time": "2022-02-25T21:21:15.065Z"
   },
   {
    "duration": 16,
    "start_time": "2022-02-25T21:21:15.084Z"
   },
   {
    "duration": 10,
    "start_time": "2022-02-25T21:21:15.102Z"
   },
   {
    "duration": 38,
    "start_time": "2022-02-25T21:21:15.114Z"
   },
   {
    "duration": 12,
    "start_time": "2022-02-25T21:21:15.154Z"
   },
   {
    "duration": 5,
    "start_time": "2022-02-25T21:21:15.167Z"
   },
   {
    "duration": 13,
    "start_time": "2022-02-25T21:21:15.174Z"
   },
   {
    "duration": 2,
    "start_time": "2022-02-25T21:21:15.189Z"
   },
   {
    "duration": 13,
    "start_time": "2022-02-25T21:21:15.193Z"
   },
   {
    "duration": 57,
    "start_time": "2022-02-25T21:21:15.207Z"
   },
   {
    "duration": 15,
    "start_time": "2022-02-25T21:21:15.266Z"
   },
   {
    "duration": 8,
    "start_time": "2022-02-25T21:21:15.283Z"
   },
   {
    "duration": 21,
    "start_time": "2022-02-25T21:21:15.293Z"
   },
   {
    "duration": 48,
    "start_time": "2022-02-25T21:21:15.315Z"
   },
   {
    "duration": 5,
    "start_time": "2022-02-25T21:22:11.504Z"
   },
   {
    "duration": 105,
    "start_time": "2022-02-25T21:31:45.989Z"
   },
   {
    "duration": 347,
    "start_time": "2022-02-26T10:08:51.889Z"
   },
   {
    "duration": 585,
    "start_time": "2022-02-26T10:08:58.459Z"
   },
   {
    "duration": 60,
    "start_time": "2022-02-26T10:08:59.045Z"
   },
   {
    "duration": 9,
    "start_time": "2022-02-26T10:08:59.107Z"
   },
   {
    "duration": 11,
    "start_time": "2022-02-26T10:08:59.118Z"
   },
   {
    "duration": 18,
    "start_time": "2022-02-26T10:08:59.131Z"
   },
   {
    "duration": 6,
    "start_time": "2022-02-26T10:08:59.150Z"
   },
   {
    "duration": 7,
    "start_time": "2022-02-26T10:08:59.157Z"
   },
   {
    "duration": 3,
    "start_time": "2022-02-26T10:08:59.166Z"
   },
   {
    "duration": 10,
    "start_time": "2022-02-26T10:08:59.171Z"
   },
   {
    "duration": 8,
    "start_time": "2022-02-26T10:08:59.183Z"
   },
   {
    "duration": 8,
    "start_time": "2022-02-26T10:08:59.192Z"
   },
   {
    "duration": 3,
    "start_time": "2022-02-26T10:08:59.201Z"
   },
   {
    "duration": 41,
    "start_time": "2022-02-26T10:08:59.206Z"
   },
   {
    "duration": 4,
    "start_time": "2022-02-26T10:08:59.249Z"
   },
   {
    "duration": 17,
    "start_time": "2022-02-26T10:08:59.255Z"
   },
   {
    "duration": 27,
    "start_time": "2022-02-26T10:08:59.273Z"
   },
   {
    "duration": 18,
    "start_time": "2022-02-26T10:08:59.302Z"
   },
   {
    "duration": 17,
    "start_time": "2022-02-26T10:08:59.346Z"
   },
   {
    "duration": 17,
    "start_time": "2022-02-26T10:08:59.364Z"
   },
   {
    "duration": 301,
    "start_time": "2022-02-26T10:08:59.383Z"
   },
   {
    "duration": 757,
    "start_time": "2022-02-26T10:08:58.929Z"
   },
   {
    "duration": 751,
    "start_time": "2022-02-26T10:08:58.936Z"
   },
   {
    "duration": 751,
    "start_time": "2022-02-26T10:08:58.937Z"
   },
   {
    "duration": 750,
    "start_time": "2022-02-26T10:08:58.939Z"
   },
   {
    "duration": 751,
    "start_time": "2022-02-26T10:08:58.940Z"
   },
   {
    "duration": 745,
    "start_time": "2022-02-26T10:08:58.947Z"
   },
   {
    "duration": 745,
    "start_time": "2022-02-26T10:08:58.948Z"
   },
   {
    "duration": 746,
    "start_time": "2022-02-26T10:08:58.949Z"
   },
   {
    "duration": 746,
    "start_time": "2022-02-26T10:08:58.950Z"
   },
   {
    "duration": 746,
    "start_time": "2022-02-26T10:08:58.951Z"
   },
   {
    "duration": 17,
    "start_time": "2022-02-26T10:10:35.241Z"
   },
   {
    "duration": 12,
    "start_time": "2022-02-26T10:14:30.151Z"
   },
   {
    "duration": 9,
    "start_time": "2022-02-26T10:14:37.824Z"
   },
   {
    "duration": 336,
    "start_time": "2022-02-26T10:16:24.913Z"
   },
   {
    "duration": 8,
    "start_time": "2022-02-26T10:25:56.310Z"
   },
   {
    "duration": 7,
    "start_time": "2022-02-26T10:26:04.571Z"
   },
   {
    "duration": 733,
    "start_time": "2022-02-26T10:26:42.977Z"
   },
   {
    "duration": 7,
    "start_time": "2022-02-26T10:26:46.598Z"
   },
   {
    "duration": 6,
    "start_time": "2022-02-26T10:26:55.196Z"
   },
   {
    "duration": 2,
    "start_time": "2022-02-26T10:27:11.266Z"
   },
   {
    "duration": 58,
    "start_time": "2022-02-26T10:27:11.270Z"
   },
   {
    "duration": 11,
    "start_time": "2022-02-26T10:27:11.330Z"
   },
   {
    "duration": 10,
    "start_time": "2022-02-26T10:27:11.343Z"
   },
   {
    "duration": 2106,
    "start_time": "2022-02-26T10:27:11.355Z"
   },
   {
    "duration": 733,
    "start_time": "2022-02-26T10:27:12.731Z"
   },
   {
    "duration": 733,
    "start_time": "2022-02-26T10:27:12.732Z"
   },
   {
    "duration": 733,
    "start_time": "2022-02-26T10:27:12.733Z"
   },
   {
    "duration": 733,
    "start_time": "2022-02-26T10:27:12.734Z"
   },
   {
    "duration": 733,
    "start_time": "2022-02-26T10:27:12.735Z"
   },
   {
    "duration": 733,
    "start_time": "2022-02-26T10:27:12.736Z"
   },
   {
    "duration": 733,
    "start_time": "2022-02-26T10:27:12.737Z"
   },
   {
    "duration": 733,
    "start_time": "2022-02-26T10:27:12.738Z"
   },
   {
    "duration": 733,
    "start_time": "2022-02-26T10:27:12.739Z"
   },
   {
    "duration": 733,
    "start_time": "2022-02-26T10:27:12.740Z"
   },
   {
    "duration": 733,
    "start_time": "2022-02-26T10:27:12.741Z"
   },
   {
    "duration": 721,
    "start_time": "2022-02-26T10:27:12.754Z"
   },
   {
    "duration": 719,
    "start_time": "2022-02-26T10:27:12.757Z"
   },
   {
    "duration": 718,
    "start_time": "2022-02-26T10:27:12.759Z"
   },
   {
    "duration": 718,
    "start_time": "2022-02-26T10:27:12.760Z"
   },
   {
    "duration": 718,
    "start_time": "2022-02-26T10:27:12.761Z"
   },
   {
    "duration": 718,
    "start_time": "2022-02-26T10:27:12.762Z"
   },
   {
    "duration": 718,
    "start_time": "2022-02-26T10:27:12.763Z"
   },
   {
    "duration": 718,
    "start_time": "2022-02-26T10:27:12.764Z"
   },
   {
    "duration": 718,
    "start_time": "2022-02-26T10:27:12.765Z"
   },
   {
    "duration": 717,
    "start_time": "2022-02-26T10:27:12.766Z"
   },
   {
    "duration": 718,
    "start_time": "2022-02-26T10:27:12.767Z"
   },
   {
    "duration": 718,
    "start_time": "2022-02-26T10:27:12.768Z"
   },
   {
    "duration": 718,
    "start_time": "2022-02-26T10:27:12.769Z"
   },
   {
    "duration": 718,
    "start_time": "2022-02-26T10:27:12.770Z"
   },
   {
    "duration": 2086,
    "start_time": "2022-02-26T10:27:40.051Z"
   },
   {
    "duration": 461,
    "start_time": "2022-02-26T10:37:03.955Z"
   },
   {
    "duration": 3,
    "start_time": "2022-02-26T10:37:10.166Z"
   },
   {
    "duration": 67,
    "start_time": "2022-02-26T10:37:10.170Z"
   },
   {
    "duration": 9,
    "start_time": "2022-02-26T10:37:10.239Z"
   },
   {
    "duration": 8,
    "start_time": "2022-02-26T10:37:10.250Z"
   },
   {
    "duration": 12,
    "start_time": "2022-02-26T10:37:10.259Z"
   },
   {
    "duration": 7,
    "start_time": "2022-02-26T10:37:10.272Z"
   },
   {
    "duration": 3,
    "start_time": "2022-02-26T10:37:10.280Z"
   },
   {
    "duration": 7,
    "start_time": "2022-02-26T10:37:10.286Z"
   },
   {
    "duration": 8,
    "start_time": "2022-02-26T10:37:10.295Z"
   },
   {
    "duration": 8,
    "start_time": "2022-02-26T10:37:10.304Z"
   },
   {
    "duration": 4,
    "start_time": "2022-02-26T10:37:10.345Z"
   },
   {
    "duration": 9,
    "start_time": "2022-02-26T10:37:10.351Z"
   },
   {
    "duration": 6,
    "start_time": "2022-02-26T10:37:10.361Z"
   },
   {
    "duration": 14,
    "start_time": "2022-02-26T10:37:10.369Z"
   },
   {
    "duration": 25,
    "start_time": "2022-02-26T10:37:10.385Z"
   },
   {
    "duration": 42,
    "start_time": "2022-02-26T10:37:10.412Z"
   },
   {
    "duration": 16,
    "start_time": "2022-02-26T10:37:10.456Z"
   },
   {
    "duration": 10,
    "start_time": "2022-02-26T10:37:10.474Z"
   },
   {
    "duration": 297,
    "start_time": "2022-02-26T10:37:10.486Z"
   },
   {
    "duration": 753,
    "start_time": "2022-02-26T10:37:10.031Z"
   },
   {
    "duration": 752,
    "start_time": "2022-02-26T10:37:10.033Z"
   },
   {
    "duration": 752,
    "start_time": "2022-02-26T10:37:10.034Z"
   },
   {
    "duration": 752,
    "start_time": "2022-02-26T10:37:10.035Z"
   },
   {
    "duration": 751,
    "start_time": "2022-02-26T10:37:10.036Z"
   },
   {
    "duration": 751,
    "start_time": "2022-02-26T10:37:10.037Z"
   },
   {
    "duration": 751,
    "start_time": "2022-02-26T10:37:10.038Z"
   },
   {
    "duration": 750,
    "start_time": "2022-02-26T10:37:10.039Z"
   },
   {
    "duration": 750,
    "start_time": "2022-02-26T10:37:10.040Z"
   },
   {
    "duration": 750,
    "start_time": "2022-02-26T10:37:10.041Z"
   },
   {
    "duration": 291,
    "start_time": "2022-02-26T10:38:08.326Z"
   },
   {
    "duration": 11,
    "start_time": "2022-02-26T10:39:07.455Z"
   },
   {
    "duration": 2,
    "start_time": "2022-02-26T10:39:12.175Z"
   },
   {
    "duration": 71,
    "start_time": "2022-02-26T10:39:12.179Z"
   },
   {
    "duration": 11,
    "start_time": "2022-02-26T10:39:12.252Z"
   },
   {
    "duration": 10,
    "start_time": "2022-02-26T10:39:12.264Z"
   },
   {
    "duration": 12,
    "start_time": "2022-02-26T10:39:12.275Z"
   },
   {
    "duration": 12,
    "start_time": "2022-02-26T10:39:12.289Z"
   },
   {
    "duration": 4,
    "start_time": "2022-02-26T10:39:12.303Z"
   },
   {
    "duration": 40,
    "start_time": "2022-02-26T10:39:12.308Z"
   },
   {
    "duration": 8,
    "start_time": "2022-02-26T10:39:12.351Z"
   },
   {
    "duration": 10,
    "start_time": "2022-02-26T10:39:12.361Z"
   },
   {
    "duration": 4,
    "start_time": "2022-02-26T10:39:12.372Z"
   },
   {
    "duration": 8,
    "start_time": "2022-02-26T10:39:12.378Z"
   },
   {
    "duration": 4,
    "start_time": "2022-02-26T10:39:12.387Z"
   },
   {
    "duration": 15,
    "start_time": "2022-02-26T10:39:12.393Z"
   },
   {
    "duration": 57,
    "start_time": "2022-02-26T10:39:12.410Z"
   },
   {
    "duration": 22,
    "start_time": "2022-02-26T10:39:12.468Z"
   },
   {
    "duration": 16,
    "start_time": "2022-02-26T10:39:12.492Z"
   },
   {
    "duration": 12,
    "start_time": "2022-02-26T10:39:12.509Z"
   },
   {
    "duration": 10,
    "start_time": "2022-02-26T10:39:12.546Z"
   },
   {
    "duration": 9,
    "start_time": "2022-02-26T10:39:12.558Z"
   },
   {
    "duration": 3,
    "start_time": "2022-02-26T10:39:12.569Z"
   },
   {
    "duration": 14,
    "start_time": "2022-02-26T10:39:12.574Z"
   },
   {
    "duration": 2,
    "start_time": "2022-02-26T10:39:12.590Z"
   },
   {
    "duration": 12,
    "start_time": "2022-02-26T10:39:12.594Z"
   },
   {
    "duration": 49,
    "start_time": "2022-02-26T10:39:12.607Z"
   },
   {
    "duration": 15,
    "start_time": "2022-02-26T10:39:12.657Z"
   },
   {
    "duration": 9,
    "start_time": "2022-02-26T10:39:12.674Z"
   },
   {
    "duration": 22,
    "start_time": "2022-02-26T10:39:12.685Z"
   },
   {
    "duration": 42,
    "start_time": "2022-02-26T10:39:12.709Z"
   },
   {
    "duration": 700,
    "start_time": "2022-03-07T08:35:09.507Z"
   },
   {
    "duration": 79,
    "start_time": "2022-03-07T08:35:10.210Z"
   },
   {
    "duration": 15,
    "start_time": "2022-03-07T08:35:10.293Z"
   },
   {
    "duration": 12,
    "start_time": "2022-03-07T08:35:10.310Z"
   },
   {
    "duration": 17,
    "start_time": "2022-03-07T08:35:10.325Z"
   },
   {
    "duration": 49,
    "start_time": "2022-03-07T08:35:10.344Z"
   },
   {
    "duration": 5,
    "start_time": "2022-03-07T08:35:10.396Z"
   },
   {
    "duration": 10,
    "start_time": "2022-03-07T08:35:10.404Z"
   },
   {
    "duration": 16,
    "start_time": "2022-03-07T08:35:10.417Z"
   },
   {
    "duration": 11,
    "start_time": "2022-03-07T08:35:10.435Z"
   },
   {
    "duration": 6,
    "start_time": "2022-03-07T08:35:10.483Z"
   },
   {
    "duration": 13,
    "start_time": "2022-03-07T08:35:10.492Z"
   },
   {
    "duration": 6,
    "start_time": "2022-03-07T08:35:10.507Z"
   },
   {
    "duration": 25,
    "start_time": "2022-03-07T08:35:10.515Z"
   },
   {
    "duration": 73,
    "start_time": "2022-03-07T08:35:10.542Z"
   },
   {
    "duration": 28,
    "start_time": "2022-03-07T08:35:10.617Z"
   },
   {
    "duration": 49,
    "start_time": "2022-03-07T08:35:10.647Z"
   },
   {
    "duration": 21,
    "start_time": "2022-03-07T08:35:10.699Z"
   },
   {
    "duration": 13,
    "start_time": "2022-03-07T08:35:10.722Z"
   },
   {
    "duration": 45,
    "start_time": "2022-03-07T08:35:10.738Z"
   },
   {
    "duration": 4,
    "start_time": "2022-03-07T08:35:10.786Z"
   },
   {
    "duration": 21,
    "start_time": "2022-03-07T08:35:10.794Z"
   },
   {
    "duration": 4,
    "start_time": "2022-03-07T08:35:10.820Z"
   },
   {
    "duration": 57,
    "start_time": "2022-03-07T08:35:10.828Z"
   },
   {
    "duration": 34,
    "start_time": "2022-03-07T08:35:10.888Z"
   },
   {
    "duration": 25,
    "start_time": "2022-03-07T08:35:10.925Z"
   },
   {
    "duration": 43,
    "start_time": "2022-03-07T08:35:10.952Z"
   },
   {
    "duration": 46,
    "start_time": "2022-03-07T08:35:10.997Z"
   },
   {
    "duration": 57,
    "start_time": "2022-03-07T08:35:11.045Z"
   },
   {
    "duration": 16,
    "start_time": "2022-03-07T08:40:41.232Z"
   },
   {
    "duration": 19,
    "start_time": "2022-03-07T08:40:46.874Z"
   },
   {
    "duration": 20,
    "start_time": "2022-03-07T08:40:53.012Z"
   },
   {
    "duration": 513,
    "start_time": "2022-03-14T18:06:23.693Z"
   },
   {
    "duration": 56,
    "start_time": "2022-03-14T18:06:24.208Z"
   },
   {
    "duration": 10,
    "start_time": "2022-03-14T18:06:24.266Z"
   },
   {
    "duration": 11,
    "start_time": "2022-03-14T18:06:24.277Z"
   },
   {
    "duration": 12,
    "start_time": "2022-03-14T18:06:24.289Z"
   },
   {
    "duration": 50,
    "start_time": "2022-03-14T18:06:24.303Z"
   },
   {
    "duration": 5,
    "start_time": "2022-03-14T18:06:24.356Z"
   },
   {
    "duration": 41,
    "start_time": "2022-03-14T18:06:24.364Z"
   },
   {
    "duration": 9,
    "start_time": "2022-03-14T18:06:24.407Z"
   },
   {
    "duration": 9,
    "start_time": "2022-03-14T18:06:24.418Z"
   },
   {
    "duration": 3,
    "start_time": "2022-03-14T18:06:24.428Z"
   },
   {
    "duration": 7,
    "start_time": "2022-03-14T18:06:24.433Z"
   },
   {
    "duration": 3,
    "start_time": "2022-03-14T18:06:24.441Z"
   },
   {
    "duration": 16,
    "start_time": "2022-03-14T18:06:24.446Z"
   },
   {
    "duration": 29,
    "start_time": "2022-03-14T18:06:24.463Z"
   },
   {
    "duration": 43,
    "start_time": "2022-03-14T18:06:24.493Z"
   },
   {
    "duration": 17,
    "start_time": "2022-03-14T18:06:24.538Z"
   },
   {
    "duration": 12,
    "start_time": "2022-03-14T18:06:24.556Z"
   },
   {
    "duration": 10,
    "start_time": "2022-03-14T18:06:24.569Z"
   },
   {
    "duration": 11,
    "start_time": "2022-03-14T18:06:24.580Z"
   },
   {
    "duration": 5,
    "start_time": "2022-03-14T18:06:24.592Z"
   },
   {
    "duration": 45,
    "start_time": "2022-03-14T18:06:24.598Z"
   },
   {
    "duration": 7,
    "start_time": "2022-03-14T18:06:24.646Z"
   },
   {
    "duration": 17,
    "start_time": "2022-03-14T18:06:24.654Z"
   },
   {
    "duration": 33,
    "start_time": "2022-03-14T18:06:24.673Z"
   },
   {
    "duration": 10,
    "start_time": "2022-03-14T18:06:24.707Z"
   },
   {
    "duration": 23,
    "start_time": "2022-03-14T18:06:24.719Z"
   },
   {
    "duration": 12,
    "start_time": "2022-03-14T18:06:24.743Z"
   },
   {
    "duration": 16,
    "start_time": "2022-03-14T18:06:24.757Z"
   },
   {
    "duration": 9,
    "start_time": "2022-03-14T18:06:24.775Z"
   },
   {
    "duration": 49,
    "start_time": "2022-03-14T18:06:24.785Z"
   },
   {
    "duration": 23,
    "start_time": "2022-03-14T18:06:24.836Z"
   },
   {
    "duration": 4,
    "start_time": "2022-03-14T18:09:21.816Z"
   },
   {
    "duration": 185,
    "start_time": "2022-03-14T18:09:53.700Z"
   },
   {
    "duration": 154,
    "start_time": "2022-03-14T18:10:03.744Z"
   },
   {
    "duration": 128,
    "start_time": "2022-03-14T18:10:16.580Z"
   },
   {
    "duration": 4,
    "start_time": "2022-03-14T18:10:21.526Z"
   },
   {
    "duration": 10,
    "start_time": "2022-03-14T18:10:39.143Z"
   },
   {
    "duration": 7,
    "start_time": "2022-03-14T18:10:56.129Z"
   },
   {
    "duration": 15,
    "start_time": "2022-03-14T18:11:46.366Z"
   },
   {
    "duration": 46,
    "start_time": "2022-03-14T18:17:04.283Z"
   },
   {
    "duration": 10,
    "start_time": "2022-03-14T18:17:17.656Z"
   },
   {
    "duration": 8,
    "start_time": "2022-03-14T18:32:45.520Z"
   },
   {
    "duration": 180,
    "start_time": "2022-03-15T07:32:10.733Z"
   },
   {
    "duration": 545,
    "start_time": "2022-03-15T07:32:15.667Z"
   },
   {
    "duration": 59,
    "start_time": "2022-03-15T07:32:16.214Z"
   },
   {
    "duration": 11,
    "start_time": "2022-03-15T07:32:16.275Z"
   },
   {
    "duration": 10,
    "start_time": "2022-03-15T07:32:16.289Z"
   },
   {
    "duration": 37,
    "start_time": "2022-03-15T07:32:16.301Z"
   },
   {
    "duration": 9,
    "start_time": "2022-03-15T07:32:16.341Z"
   },
   {
    "duration": 5,
    "start_time": "2022-03-15T07:32:16.352Z"
   },
   {
    "duration": 7,
    "start_time": "2022-03-15T07:32:16.361Z"
   },
   {
    "duration": 14,
    "start_time": "2022-03-15T07:32:16.371Z"
   },
   {
    "duration": 11,
    "start_time": "2022-03-15T07:32:16.387Z"
   },
   {
    "duration": 5,
    "start_time": "2022-03-15T07:32:16.399Z"
   },
   {
    "duration": 12,
    "start_time": "2022-03-15T07:32:16.439Z"
   },
   {
    "duration": 18,
    "start_time": "2022-03-15T07:32:16.453Z"
   },
   {
    "duration": 6,
    "start_time": "2022-03-15T07:32:16.472Z"
   },
   {
    "duration": 16,
    "start_time": "2022-03-15T07:32:16.480Z"
   },
   {
    "duration": 12,
    "start_time": "2022-03-15T07:32:16.497Z"
   },
   {
    "duration": 30,
    "start_time": "2022-03-15T07:32:16.510Z"
   },
   {
    "duration": 20,
    "start_time": "2022-03-15T07:32:16.542Z"
   },
   {
    "duration": 29,
    "start_time": "2022-03-15T07:32:16.563Z"
   },
   {
    "duration": 43,
    "start_time": "2022-03-15T07:32:16.594Z"
   },
   {
    "duration": 17,
    "start_time": "2022-03-15T07:32:16.639Z"
   },
   {
    "duration": 15,
    "start_time": "2022-03-15T07:32:16.658Z"
   },
   {
    "duration": 12,
    "start_time": "2022-03-15T07:32:16.676Z"
   },
   {
    "duration": 15,
    "start_time": "2022-03-15T07:32:16.690Z"
   },
   {
    "duration": 6,
    "start_time": "2022-03-15T07:32:16.738Z"
   },
   {
    "duration": 20,
    "start_time": "2022-03-15T07:32:16.745Z"
   },
   {
    "duration": 5,
    "start_time": "2022-03-15T07:32:16.767Z"
   },
   {
    "duration": 15,
    "start_time": "2022-03-15T07:32:16.774Z"
   },
   {
    "duration": 25,
    "start_time": "2022-03-15T07:32:16.791Z"
   },
   {
    "duration": 29,
    "start_time": "2022-03-15T07:32:16.818Z"
   },
   {
    "duration": 13,
    "start_time": "2022-03-15T07:32:16.849Z"
   },
   {
    "duration": 12,
    "start_time": "2022-03-15T07:32:16.863Z"
   },
   {
    "duration": 17,
    "start_time": "2022-03-15T07:32:16.876Z"
   },
   {
    "duration": 46,
    "start_time": "2022-03-15T07:32:16.895Z"
   },
   {
    "duration": 23,
    "start_time": "2022-03-15T07:32:16.943Z"
   },
   {
    "duration": 25,
    "start_time": "2022-03-15T07:32:16.967Z"
   },
   {
    "duration": 11,
    "start_time": "2022-03-15T07:33:03.912Z"
   },
   {
    "duration": 10,
    "start_time": "2022-03-15T07:33:35.740Z"
   },
   {
    "duration": 266,
    "start_time": "2022-03-15T07:39:02.577Z"
   },
   {
    "duration": 342,
    "start_time": "2022-03-15T07:39:18.167Z"
   },
   {
    "duration": 323,
    "start_time": "2022-03-15T07:40:13.241Z"
   },
   {
    "duration": 3,
    "start_time": "2022-03-15T07:40:22.572Z"
   },
   {
    "duration": 68,
    "start_time": "2022-03-15T07:40:22.577Z"
   },
   {
    "duration": 11,
    "start_time": "2022-03-15T07:40:22.647Z"
   },
   {
    "duration": 15,
    "start_time": "2022-03-15T07:40:22.660Z"
   },
   {
    "duration": 14,
    "start_time": "2022-03-15T07:40:22.677Z"
   },
   {
    "duration": 11,
    "start_time": "2022-03-15T07:40:22.693Z"
   },
   {
    "duration": 5,
    "start_time": "2022-03-15T07:40:22.706Z"
   },
   {
    "duration": 329,
    "start_time": "2022-03-15T07:40:22.713Z"
   },
   {
    "duration": 6,
    "start_time": "2022-03-15T07:40:23.044Z"
   },
   {
    "duration": 9,
    "start_time": "2022-03-15T07:40:23.052Z"
   },
   {
    "duration": 12,
    "start_time": "2022-03-15T07:40:23.063Z"
   },
   {
    "duration": 5,
    "start_time": "2022-03-15T07:40:23.076Z"
   },
   {
    "duration": 10,
    "start_time": "2022-03-15T07:40:23.083Z"
   },
   {
    "duration": 50,
    "start_time": "2022-03-15T07:40:23.095Z"
   },
   {
    "duration": 9,
    "start_time": "2022-03-15T07:40:23.147Z"
   },
   {
    "duration": 17,
    "start_time": "2022-03-15T07:40:23.158Z"
   },
   {
    "duration": 13,
    "start_time": "2022-03-15T07:40:23.177Z"
   },
   {
    "duration": 8,
    "start_time": "2022-03-15T07:40:23.193Z"
   },
   {
    "duration": 56,
    "start_time": "2022-03-15T07:40:23.203Z"
   },
   {
    "duration": 47,
    "start_time": "2022-03-15T07:40:23.261Z"
   },
   {
    "duration": 45,
    "start_time": "2022-03-15T07:40:23.310Z"
   },
   {
    "duration": 18,
    "start_time": "2022-03-15T07:40:23.357Z"
   },
   {
    "duration": 20,
    "start_time": "2022-03-15T07:40:23.379Z"
   },
   {
    "duration": 12,
    "start_time": "2022-03-15T07:40:23.401Z"
   },
   {
    "duration": 35,
    "start_time": "2022-03-15T07:40:23.414Z"
   },
   {
    "duration": 16,
    "start_time": "2022-03-15T07:40:23.451Z"
   },
   {
    "duration": 17,
    "start_time": "2022-03-15T07:40:23.469Z"
   },
   {
    "duration": 8,
    "start_time": "2022-03-15T07:40:23.487Z"
   },
   {
    "duration": 22,
    "start_time": "2022-03-15T07:40:23.497Z"
   },
   {
    "duration": 37,
    "start_time": "2022-03-15T07:40:23.521Z"
   },
   {
    "duration": 11,
    "start_time": "2022-03-15T07:40:23.560Z"
   },
   {
    "duration": 14,
    "start_time": "2022-03-15T07:40:23.573Z"
   },
   {
    "duration": 14,
    "start_time": "2022-03-15T07:40:23.588Z"
   },
   {
    "duration": 51,
    "start_time": "2022-03-15T07:40:23.603Z"
   },
   {
    "duration": 11,
    "start_time": "2022-03-15T07:40:23.655Z"
   },
   {
    "duration": 26,
    "start_time": "2022-03-15T07:40:23.668Z"
   },
   {
    "duration": 54,
    "start_time": "2022-03-15T07:40:23.696Z"
   },
   {
    "duration": 291,
    "start_time": "2022-03-15T07:40:45.397Z"
   },
   {
    "duration": 3,
    "start_time": "2022-03-15T07:41:24.300Z"
   },
   {
    "duration": 55,
    "start_time": "2022-03-15T07:41:24.305Z"
   },
   {
    "duration": 10,
    "start_time": "2022-03-15T07:41:24.362Z"
   },
   {
    "duration": 9,
    "start_time": "2022-03-15T07:41:24.374Z"
   },
   {
    "duration": 14,
    "start_time": "2022-03-15T07:41:24.385Z"
   },
   {
    "duration": 7,
    "start_time": "2022-03-15T07:41:24.401Z"
   },
   {
    "duration": 29,
    "start_time": "2022-03-15T07:41:24.410Z"
   },
   {
    "duration": 260,
    "start_time": "2022-03-15T07:41:24.440Z"
   },
   {
    "duration": 6,
    "start_time": "2022-03-15T07:41:24.703Z"
   },
   {
    "duration": 11,
    "start_time": "2022-03-15T07:41:24.711Z"
   },
   {
    "duration": 9,
    "start_time": "2022-03-15T07:41:24.737Z"
   },
   {
    "duration": 4,
    "start_time": "2022-03-15T07:41:24.748Z"
   },
   {
    "duration": 10,
    "start_time": "2022-03-15T07:41:24.753Z"
   },
   {
    "duration": 13,
    "start_time": "2022-03-15T07:41:24.764Z"
   },
   {
    "duration": 6,
    "start_time": "2022-03-15T07:41:24.779Z"
   },
   {
    "duration": 51,
    "start_time": "2022-03-15T07:41:24.787Z"
   },
   {
    "duration": 11,
    "start_time": "2022-03-15T07:41:24.839Z"
   },
   {
    "duration": 10,
    "start_time": "2022-03-15T07:41:24.851Z"
   },
   {
    "duration": 20,
    "start_time": "2022-03-15T07:41:24.863Z"
   },
   {
    "duration": 53,
    "start_time": "2022-03-15T07:41:24.886Z"
   },
   {
    "duration": 22,
    "start_time": "2022-03-15T07:41:24.941Z"
   },
   {
    "duration": 19,
    "start_time": "2022-03-15T07:41:24.965Z"
   },
   {
    "duration": 15,
    "start_time": "2022-03-15T07:41:24.985Z"
   },
   {
    "duration": 42,
    "start_time": "2022-03-15T07:41:25.002Z"
   },
   {
    "duration": 12,
    "start_time": "2022-03-15T07:41:25.046Z"
   },
   {
    "duration": 11,
    "start_time": "2022-03-15T07:41:25.060Z"
   },
   {
    "duration": 21,
    "start_time": "2022-03-15T07:41:25.076Z"
   },
   {
    "duration": 3,
    "start_time": "2022-03-15T07:41:25.099Z"
   },
   {
    "duration": 38,
    "start_time": "2022-03-15T07:41:25.104Z"
   },
   {
    "duration": 30,
    "start_time": "2022-03-15T07:41:25.144Z"
   },
   {
    "duration": 13,
    "start_time": "2022-03-15T07:41:25.176Z"
   },
   {
    "duration": 14,
    "start_time": "2022-03-15T07:41:25.191Z"
   },
   {
    "duration": 40,
    "start_time": "2022-03-15T07:41:25.207Z"
   },
   {
    "duration": 18,
    "start_time": "2022-03-15T07:41:25.249Z"
   },
   {
    "duration": 10,
    "start_time": "2022-03-15T07:41:25.269Z"
   },
   {
    "duration": 28,
    "start_time": "2022-03-15T07:41:25.281Z"
   },
   {
    "duration": 52,
    "start_time": "2022-03-15T07:41:25.311Z"
   },
   {
    "duration": 6,
    "start_time": "2022-03-15T07:41:38.994Z"
   },
   {
    "duration": 292,
    "start_time": "2022-03-15T07:41:39.942Z"
   },
   {
    "duration": 3,
    "start_time": "2022-03-15T07:41:54.823Z"
   },
   {
    "duration": 63,
    "start_time": "2022-03-15T07:41:54.828Z"
   },
   {
    "duration": 11,
    "start_time": "2022-03-15T07:41:54.894Z"
   },
   {
    "duration": 34,
    "start_time": "2022-03-15T07:41:54.907Z"
   },
   {
    "duration": 14,
    "start_time": "2022-03-15T07:41:54.943Z"
   },
   {
    "duration": 8,
    "start_time": "2022-03-15T07:41:54.959Z"
   },
   {
    "duration": 5,
    "start_time": "2022-03-15T07:41:54.969Z"
   },
   {
    "duration": 416,
    "start_time": "2022-03-15T07:41:54.976Z"
   },
   {
    "duration": 6,
    "start_time": "2022-03-15T07:41:55.395Z"
   },
   {
    "duration": 15,
    "start_time": "2022-03-15T07:41:55.403Z"
   },
   {
    "duration": 22,
    "start_time": "2022-03-15T07:41:55.420Z"
   },
   {
    "duration": 5,
    "start_time": "2022-03-15T07:41:55.444Z"
   },
   {
    "duration": 17,
    "start_time": "2022-03-15T07:41:55.450Z"
   },
   {
    "duration": 13,
    "start_time": "2022-03-15T07:41:55.469Z"
   },
   {
    "duration": 14,
    "start_time": "2022-03-15T07:41:55.483Z"
   },
   {
    "duration": 16,
    "start_time": "2022-03-15T07:41:55.499Z"
   },
   {
    "duration": 11,
    "start_time": "2022-03-15T07:41:55.538Z"
   },
   {
    "duration": 20,
    "start_time": "2022-03-15T07:41:55.551Z"
   },
   {
    "duration": 18,
    "start_time": "2022-03-15T07:41:55.573Z"
   },
   {
    "duration": 51,
    "start_time": "2022-03-15T07:41:55.593Z"
   },
   {
    "duration": 24,
    "start_time": "2022-03-15T07:41:55.646Z"
   },
   {
    "duration": 21,
    "start_time": "2022-03-15T07:41:55.672Z"
   },
   {
    "duration": 44,
    "start_time": "2022-03-15T07:41:55.695Z"
   },
   {
    "duration": 12,
    "start_time": "2022-03-15T07:41:55.742Z"
   },
   {
    "duration": 12,
    "start_time": "2022-03-15T07:41:55.756Z"
   },
   {
    "duration": 11,
    "start_time": "2022-03-15T07:41:55.770Z"
   },
   {
    "duration": 31,
    "start_time": "2022-03-15T07:41:55.784Z"
   },
   {
    "duration": 21,
    "start_time": "2022-03-15T07:41:55.817Z"
   },
   {
    "duration": 17,
    "start_time": "2022-03-15T07:41:55.840Z"
   },
   {
    "duration": 25,
    "start_time": "2022-03-15T07:41:55.859Z"
   },
   {
    "duration": 13,
    "start_time": "2022-03-15T07:41:55.886Z"
   },
   {
    "duration": 39,
    "start_time": "2022-03-15T07:41:55.900Z"
   },
   {
    "duration": 14,
    "start_time": "2022-03-15T07:41:55.941Z"
   },
   {
    "duration": 21,
    "start_time": "2022-03-15T07:41:55.957Z"
   },
   {
    "duration": 12,
    "start_time": "2022-03-15T07:41:55.979Z"
   },
   {
    "duration": 59,
    "start_time": "2022-03-15T07:41:55.993Z"
   },
   {
    "duration": 32,
    "start_time": "2022-03-15T07:41:56.055Z"
   },
   {
    "duration": 3,
    "start_time": "2022-03-15T07:42:24.838Z"
   },
   {
    "duration": 58,
    "start_time": "2022-03-15T07:42:24.842Z"
   },
   {
    "duration": 39,
    "start_time": "2022-03-15T07:42:24.903Z"
   },
   {
    "duration": 10,
    "start_time": "2022-03-15T07:42:24.944Z"
   },
   {
    "duration": 17,
    "start_time": "2022-03-15T07:42:24.956Z"
   },
   {
    "duration": 7,
    "start_time": "2022-03-15T07:42:24.975Z"
   },
   {
    "duration": 9,
    "start_time": "2022-03-15T07:42:24.984Z"
   },
   {
    "duration": 243,
    "start_time": "2022-03-15T07:42:24.995Z"
   },
   {
    "duration": 6,
    "start_time": "2022-03-15T07:42:25.240Z"
   },
   {
    "duration": 27,
    "start_time": "2022-03-15T07:42:25.248Z"
   },
   {
    "duration": 22,
    "start_time": "2022-03-15T07:42:25.276Z"
   },
   {
    "duration": 13,
    "start_time": "2022-03-15T07:42:25.299Z"
   },
   {
    "duration": 23,
    "start_time": "2022-03-15T07:42:25.314Z"
   },
   {
    "duration": 27,
    "start_time": "2022-03-15T07:42:25.339Z"
   },
   {
    "duration": 19,
    "start_time": "2022-03-15T07:42:25.368Z"
   },
   {
    "duration": 29,
    "start_time": "2022-03-15T07:42:25.389Z"
   },
   {
    "duration": 24,
    "start_time": "2022-03-15T07:42:25.419Z"
   },
   {
    "duration": 20,
    "start_time": "2022-03-15T07:42:25.445Z"
   },
   {
    "duration": 18,
    "start_time": "2022-03-15T07:42:25.467Z"
   },
   {
    "duration": 97,
    "start_time": "2022-03-15T07:42:25.487Z"
   },
   {
    "duration": 20,
    "start_time": "2022-03-15T07:42:25.586Z"
   },
   {
    "duration": 30,
    "start_time": "2022-03-15T07:42:25.608Z"
   },
   {
    "duration": 18,
    "start_time": "2022-03-15T07:42:25.641Z"
   },
   {
    "duration": 19,
    "start_time": "2022-03-15T07:42:25.661Z"
   },
   {
    "duration": 18,
    "start_time": "2022-03-15T07:42:25.682Z"
   },
   {
    "duration": 29,
    "start_time": "2022-03-15T07:42:25.702Z"
   },
   {
    "duration": 32,
    "start_time": "2022-03-15T07:42:25.733Z"
   },
   {
    "duration": 11,
    "start_time": "2022-03-15T07:42:25.766Z"
   },
   {
    "duration": 38,
    "start_time": "2022-03-15T07:42:25.778Z"
   },
   {
    "duration": 37,
    "start_time": "2022-03-15T07:42:25.818Z"
   },
   {
    "duration": 11,
    "start_time": "2022-03-15T07:42:25.857Z"
   },
   {
    "duration": 24,
    "start_time": "2022-03-15T07:42:25.870Z"
   },
   {
    "duration": 13,
    "start_time": "2022-03-15T07:42:25.896Z"
   },
   {
    "duration": 40,
    "start_time": "2022-03-15T07:42:25.911Z"
   },
   {
    "duration": 10,
    "start_time": "2022-03-15T07:42:25.953Z"
   },
   {
    "duration": 41,
    "start_time": "2022-03-15T07:42:25.965Z"
   },
   {
    "duration": 25,
    "start_time": "2022-03-15T07:42:26.008Z"
   },
   {
    "duration": 345,
    "start_time": "2022-03-15T10:06:53.707Z"
   },
   {
    "duration": 3,
    "start_time": "2022-03-15T10:07:00.243Z"
   },
   {
    "duration": 73,
    "start_time": "2022-03-15T10:07:00.248Z"
   },
   {
    "duration": 12,
    "start_time": "2022-03-15T10:07:00.323Z"
   },
   {
    "duration": 16,
    "start_time": "2022-03-15T10:07:00.337Z"
   },
   {
    "duration": 21,
    "start_time": "2022-03-15T10:07:00.355Z"
   },
   {
    "duration": 8,
    "start_time": "2022-03-15T10:07:00.378Z"
   },
   {
    "duration": 7,
    "start_time": "2022-03-15T10:07:00.387Z"
   },
   {
    "duration": 401,
    "start_time": "2022-03-15T10:07:00.396Z"
   },
   {
    "duration": 6,
    "start_time": "2022-03-15T10:07:00.800Z"
   },
   {
    "duration": 36,
    "start_time": "2022-03-15T10:07:00.807Z"
   },
   {
    "duration": 26,
    "start_time": "2022-03-15T10:07:00.844Z"
   },
   {
    "duration": 16,
    "start_time": "2022-03-15T10:07:00.872Z"
   },
   {
    "duration": 36,
    "start_time": "2022-03-15T10:07:00.890Z"
   },
   {
    "duration": 35,
    "start_time": "2022-03-15T10:07:00.928Z"
   },
   {
    "duration": 18,
    "start_time": "2022-03-15T10:07:00.965Z"
   },
   {
    "duration": 60,
    "start_time": "2022-03-15T10:07:00.984Z"
   },
   {
    "duration": 24,
    "start_time": "2022-03-15T10:07:01.046Z"
   },
   {
    "duration": 21,
    "start_time": "2022-03-15T10:07:01.072Z"
   },
   {
    "duration": 26,
    "start_time": "2022-03-15T10:07:01.095Z"
   },
   {
    "duration": 34,
    "start_time": "2022-03-15T10:07:01.123Z"
   },
   {
    "duration": 22,
    "start_time": "2022-03-15T10:07:01.159Z"
   },
   {
    "duration": 31,
    "start_time": "2022-03-15T10:07:01.183Z"
   },
   {
    "duration": 33,
    "start_time": "2022-03-15T10:07:01.217Z"
   },
   {
    "duration": 19,
    "start_time": "2022-03-15T10:07:01.252Z"
   },
   {
    "duration": 17,
    "start_time": "2022-03-15T10:07:01.273Z"
   },
   {
    "duration": 22,
    "start_time": "2022-03-15T10:07:01.291Z"
   },
   {
    "duration": 33,
    "start_time": "2022-03-15T10:07:01.315Z"
   },
   {
    "duration": 10,
    "start_time": "2022-03-15T10:07:01.350Z"
   },
   {
    "duration": 31,
    "start_time": "2022-03-15T10:07:01.362Z"
   },
   {
    "duration": 33,
    "start_time": "2022-03-15T10:07:01.395Z"
   },
   {
    "duration": 37,
    "start_time": "2022-03-15T10:07:01.430Z"
   },
   {
    "duration": 149,
    "start_time": "2022-03-15T10:07:01.469Z"
   },
   {
    "duration": 67,
    "start_time": "2022-03-15T10:07:01.619Z"
   },
   {
    "duration": 30,
    "start_time": "2022-03-15T10:07:01.688Z"
   },
   {
    "duration": 47,
    "start_time": "2022-03-15T10:07:01.720Z"
   },
   {
    "duration": 78,
    "start_time": "2022-03-15T10:07:01.769Z"
   },
   {
    "duration": 45,
    "start_time": "2022-03-15T10:07:01.848Z"
   },
   {
    "duration": 6,
    "start_time": "2022-03-15T10:10:23.511Z"
   },
   {
    "duration": 3,
    "start_time": "2022-03-15T10:10:25.649Z"
   },
   {
    "duration": 8,
    "start_time": "2022-03-15T10:10:26.124Z"
   },
   {
    "duration": 2,
    "start_time": "2022-03-15T10:10:33.607Z"
   },
   {
    "duration": 58,
    "start_time": "2022-03-15T10:10:33.611Z"
   },
   {
    "duration": 11,
    "start_time": "2022-03-15T10:10:33.671Z"
   },
   {
    "duration": 9,
    "start_time": "2022-03-15T10:10:33.684Z"
   },
   {
    "duration": 14,
    "start_time": "2022-03-15T10:10:33.695Z"
   },
   {
    "duration": 33,
    "start_time": "2022-03-15T10:10:33.710Z"
   },
   {
    "duration": 4,
    "start_time": "2022-03-15T10:10:33.745Z"
   },
   {
    "duration": 388,
    "start_time": "2022-03-15T10:10:33.751Z"
   },
   {
    "duration": 6,
    "start_time": "2022-03-15T10:10:34.141Z"
   },
   {
    "duration": 9,
    "start_time": "2022-03-15T10:10:34.149Z"
   },
   {
    "duration": 14,
    "start_time": "2022-03-15T10:10:34.160Z"
   },
   {
    "duration": 6,
    "start_time": "2022-03-15T10:10:34.176Z"
   },
   {
    "duration": 19,
    "start_time": "2022-03-15T10:10:34.183Z"
   },
   {
    "duration": 19,
    "start_time": "2022-03-15T10:10:34.204Z"
   },
   {
    "duration": 14,
    "start_time": "2022-03-15T10:10:34.224Z"
   },
   {
    "duration": 14,
    "start_time": "2022-03-15T10:10:34.239Z"
   },
   {
    "duration": 10,
    "start_time": "2022-03-15T10:10:34.255Z"
   },
   {
    "duration": 18,
    "start_time": "2022-03-15T10:10:34.267Z"
   },
   {
    "duration": 28,
    "start_time": "2022-03-15T10:10:34.286Z"
   },
   {
    "duration": 41,
    "start_time": "2022-03-15T10:10:34.315Z"
   },
   {
    "duration": 20,
    "start_time": "2022-03-15T10:10:34.358Z"
   },
   {
    "duration": 17,
    "start_time": "2022-03-15T10:10:34.380Z"
   },
   {
    "duration": 15,
    "start_time": "2022-03-15T10:10:34.400Z"
   },
   {
    "duration": 11,
    "start_time": "2022-03-15T10:10:34.438Z"
   },
   {
    "duration": 11,
    "start_time": "2022-03-15T10:10:34.451Z"
   },
   {
    "duration": 6,
    "start_time": "2022-03-15T10:10:34.463Z"
   },
   {
    "duration": 16,
    "start_time": "2022-03-15T10:10:34.471Z"
   },
   {
    "duration": 7,
    "start_time": "2022-03-15T10:10:34.489Z"
   },
   {
    "duration": 41,
    "start_time": "2022-03-15T10:10:34.498Z"
   },
   {
    "duration": 23,
    "start_time": "2022-03-15T10:10:34.541Z"
   },
   {
    "duration": 10,
    "start_time": "2022-03-15T10:10:34.566Z"
   },
   {
    "duration": 50,
    "start_time": "2022-03-15T10:10:34.578Z"
   },
   {
    "duration": 14,
    "start_time": "2022-03-15T10:10:34.630Z"
   },
   {
    "duration": 17,
    "start_time": "2022-03-15T10:10:34.646Z"
   },
   {
    "duration": 10,
    "start_time": "2022-03-15T10:10:34.665Z"
   },
   {
    "duration": 26,
    "start_time": "2022-03-15T10:10:34.676Z"
   },
   {
    "duration": 46,
    "start_time": "2022-03-15T10:10:34.704Z"
   },
   {
    "duration": 8,
    "start_time": "2022-03-15T10:11:44.414Z"
   },
   {
    "duration": 8,
    "start_time": "2022-03-15T10:12:01.158Z"
   },
   {
    "duration": 158,
    "start_time": "2022-03-15T10:12:11.035Z"
   },
   {
    "duration": 355,
    "start_time": "2022-03-15T10:12:55.484Z"
   },
   {
    "duration": 3,
    "start_time": "2022-03-15T10:13:00.762Z"
   },
   {
    "duration": 80,
    "start_time": "2022-03-15T10:13:00.767Z"
   },
   {
    "duration": 11,
    "start_time": "2022-03-15T10:13:00.849Z"
   },
   {
    "duration": 18,
    "start_time": "2022-03-15T10:13:00.862Z"
   },
   {
    "duration": 24,
    "start_time": "2022-03-15T10:13:00.882Z"
   },
   {
    "duration": 15,
    "start_time": "2022-03-15T10:13:00.908Z"
   },
   {
    "duration": 13,
    "start_time": "2022-03-15T10:13:00.925Z"
   },
   {
    "duration": 378,
    "start_time": "2022-03-15T10:13:00.940Z"
   },
   {
    "duration": 7,
    "start_time": "2022-03-15T10:13:01.321Z"
   },
   {
    "duration": 9,
    "start_time": "2022-03-15T10:13:01.339Z"
   },
   {
    "duration": 21,
    "start_time": "2022-03-15T10:13:01.350Z"
   },
   {
    "duration": 15,
    "start_time": "2022-03-15T10:13:01.373Z"
   },
   {
    "duration": 57,
    "start_time": "2022-03-15T10:13:01.390Z"
   },
   {
    "duration": 24,
    "start_time": "2022-03-15T10:13:01.449Z"
   },
   {
    "duration": 11,
    "start_time": "2022-03-15T10:13:01.475Z"
   },
   {
    "duration": 31,
    "start_time": "2022-03-15T10:13:01.488Z"
   },
   {
    "duration": 19,
    "start_time": "2022-03-15T10:13:01.521Z"
   },
   {
    "duration": 29,
    "start_time": "2022-03-15T10:13:01.542Z"
   },
   {
    "duration": 33,
    "start_time": "2022-03-15T10:13:01.573Z"
   },
   {
    "duration": 36,
    "start_time": "2022-03-15T10:13:01.608Z"
   },
   {
    "duration": 22,
    "start_time": "2022-03-15T10:13:01.645Z"
   },
   {
    "duration": 18,
    "start_time": "2022-03-15T10:13:01.669Z"
   },
   {
    "duration": 29,
    "start_time": "2022-03-15T10:13:01.688Z"
   },
   {
    "duration": 48,
    "start_time": "2022-03-15T10:13:01.719Z"
   },
   {
    "duration": 20,
    "start_time": "2022-03-15T10:13:01.769Z"
   },
   {
    "duration": 35,
    "start_time": "2022-03-15T10:13:01.790Z"
   },
   {
    "duration": 40,
    "start_time": "2022-03-15T10:13:01.829Z"
   },
   {
    "duration": 20,
    "start_time": "2022-03-15T10:13:01.871Z"
   },
   {
    "duration": 44,
    "start_time": "2022-03-15T10:13:01.893Z"
   },
   {
    "duration": 48,
    "start_time": "2022-03-15T10:13:01.938Z"
   },
   {
    "duration": 12,
    "start_time": "2022-03-15T10:13:01.988Z"
   },
   {
    "duration": 13,
    "start_time": "2022-03-15T10:13:02.001Z"
   },
   {
    "duration": 14,
    "start_time": "2022-03-15T10:13:02.016Z"
   },
   {
    "duration": 24,
    "start_time": "2022-03-15T10:13:02.032Z"
   },
   {
    "duration": 11,
    "start_time": "2022-03-15T10:13:02.057Z"
   },
   {
    "duration": 25,
    "start_time": "2022-03-15T10:13:02.069Z"
   },
   {
    "duration": 51,
    "start_time": "2022-03-15T10:13:02.095Z"
   },
   {
    "duration": 408,
    "start_time": "2022-03-15T10:13:35.551Z"
   },
   {
    "duration": 323,
    "start_time": "2022-03-15T10:14:05.365Z"
   },
   {
    "duration": 3,
    "start_time": "2022-03-15T10:14:16.854Z"
   },
   {
    "duration": 58,
    "start_time": "2022-03-15T10:14:16.859Z"
   },
   {
    "duration": 11,
    "start_time": "2022-03-15T10:14:16.919Z"
   },
   {
    "duration": 12,
    "start_time": "2022-03-15T10:14:16.932Z"
   },
   {
    "duration": 13,
    "start_time": "2022-03-15T10:14:16.946Z"
   },
   {
    "duration": 7,
    "start_time": "2022-03-15T10:14:16.961Z"
   },
   {
    "duration": 3,
    "start_time": "2022-03-15T10:14:16.970Z"
   },
   {
    "duration": 366,
    "start_time": "2022-03-15T10:14:16.975Z"
   },
   {
    "duration": 5,
    "start_time": "2022-03-15T10:14:17.343Z"
   },
   {
    "duration": 8,
    "start_time": "2022-03-15T10:14:17.350Z"
   },
   {
    "duration": 25,
    "start_time": "2022-03-15T10:14:17.360Z"
   },
   {
    "duration": 4,
    "start_time": "2022-03-15T10:14:17.387Z"
   },
   {
    "duration": 8,
    "start_time": "2022-03-15T10:14:17.392Z"
   },
   {
    "duration": 10,
    "start_time": "2022-03-15T10:14:17.401Z"
   },
   {
    "duration": 8,
    "start_time": "2022-03-15T10:14:17.412Z"
   },
   {
    "duration": 29,
    "start_time": "2022-03-15T10:14:17.421Z"
   },
   {
    "duration": 13,
    "start_time": "2022-03-15T10:14:17.452Z"
   },
   {
    "duration": 7,
    "start_time": "2022-03-15T10:14:17.466Z"
   },
   {
    "duration": 19,
    "start_time": "2022-03-15T10:14:17.475Z"
   },
   {
    "duration": 53,
    "start_time": "2022-03-15T10:14:17.496Z"
   },
   {
    "duration": 22,
    "start_time": "2022-03-15T10:14:17.551Z"
   },
   {
    "duration": 18,
    "start_time": "2022-03-15T10:14:17.574Z"
   },
   {
    "duration": 14,
    "start_time": "2022-03-15T10:14:17.594Z"
   },
   {
    "duration": 37,
    "start_time": "2022-03-15T10:14:17.610Z"
   },
   {
    "duration": 12,
    "start_time": "2022-03-15T10:14:17.649Z"
   },
   {
    "duration": 5,
    "start_time": "2022-03-15T10:14:17.663Z"
   },
   {
    "duration": 14,
    "start_time": "2022-03-15T10:14:17.671Z"
   },
   {
    "duration": 11,
    "start_time": "2022-03-15T10:14:17.687Z"
   },
   {
    "duration": 38,
    "start_time": "2022-03-15T10:14:17.700Z"
   },
   {
    "duration": 25,
    "start_time": "2022-03-15T10:14:17.740Z"
   },
   {
    "duration": 12,
    "start_time": "2022-03-15T10:14:17.767Z"
   },
   {
    "duration": 13,
    "start_time": "2022-03-15T10:14:17.780Z"
   },
   {
    "duration": 44,
    "start_time": "2022-03-15T10:14:17.795Z"
   },
   {
    "duration": 22,
    "start_time": "2022-03-15T10:14:17.840Z"
   },
   {
    "duration": 10,
    "start_time": "2022-03-15T10:14:17.864Z"
   },
   {
    "duration": 27,
    "start_time": "2022-03-15T10:14:17.876Z"
   },
   {
    "duration": 50,
    "start_time": "2022-03-15T10:14:17.905Z"
   },
   {
    "duration": 7,
    "start_time": "2022-03-15T10:30:15.256Z"
   },
   {
    "duration": 8,
    "start_time": "2022-03-15T10:30:30.411Z"
   },
   {
    "duration": 7,
    "start_time": "2022-03-15T10:31:08.332Z"
   },
   {
    "duration": 7,
    "start_time": "2022-03-15T10:31:14.292Z"
   },
   {
    "duration": 3,
    "start_time": "2022-03-15T10:31:19.395Z"
   },
   {
    "duration": 60,
    "start_time": "2022-03-15T10:31:19.400Z"
   },
   {
    "duration": 11,
    "start_time": "2022-03-15T10:31:19.463Z"
   },
   {
    "duration": 10,
    "start_time": "2022-03-15T10:31:19.476Z"
   },
   {
    "duration": 14,
    "start_time": "2022-03-15T10:31:19.487Z"
   },
   {
    "duration": 40,
    "start_time": "2022-03-15T10:31:19.503Z"
   },
   {
    "duration": 4,
    "start_time": "2022-03-15T10:31:19.545Z"
   },
   {
    "duration": 9,
    "start_time": "2022-03-15T10:31:19.551Z"
   },
   {
    "duration": 7,
    "start_time": "2022-03-15T10:31:19.563Z"
   },
   {
    "duration": 3,
    "start_time": "2022-03-15T10:31:19.572Z"
   },
   {
    "duration": 10,
    "start_time": "2022-03-15T10:31:19.577Z"
   },
   {
    "duration": 4,
    "start_time": "2022-03-15T10:31:19.589Z"
   },
   {
    "duration": 14,
    "start_time": "2022-03-15T10:31:19.595Z"
   },
   {
    "duration": 32,
    "start_time": "2022-03-15T10:31:19.610Z"
   },
   {
    "duration": 6,
    "start_time": "2022-03-15T10:31:19.644Z"
   },
   {
    "duration": 16,
    "start_time": "2022-03-15T10:31:19.651Z"
   },
   {
    "duration": 11,
    "start_time": "2022-03-15T10:31:19.669Z"
   },
   {
    "duration": 21,
    "start_time": "2022-03-15T10:31:19.681Z"
   },
   {
    "duration": 35,
    "start_time": "2022-03-15T10:31:19.704Z"
   },
   {
    "duration": 30,
    "start_time": "2022-03-15T10:31:19.740Z"
   },
   {
    "duration": 19,
    "start_time": "2022-03-15T10:31:19.772Z"
   },
   {
    "duration": 18,
    "start_time": "2022-03-15T10:31:19.793Z"
   },
   {
    "duration": 14,
    "start_time": "2022-03-15T10:31:19.838Z"
   },
   {
    "duration": 13,
    "start_time": "2022-03-15T10:31:19.854Z"
   },
   {
    "duration": 11,
    "start_time": "2022-03-15T10:31:19.869Z"
   },
   {
    "duration": 8,
    "start_time": "2022-03-15T10:31:19.882Z"
   },
   {
    "duration": 16,
    "start_time": "2022-03-15T10:31:19.893Z"
   },
   {
    "duration": 4,
    "start_time": "2022-03-15T10:31:19.911Z"
   },
   {
    "duration": 13,
    "start_time": "2022-03-15T10:31:19.939Z"
   },
   {
    "duration": 33,
    "start_time": "2022-03-15T10:31:19.953Z"
   },
   {
    "duration": 11,
    "start_time": "2022-03-15T10:31:19.987Z"
   },
   {
    "duration": 13,
    "start_time": "2022-03-15T10:31:19.999Z"
   },
   {
    "duration": 15,
    "start_time": "2022-03-15T10:31:20.038Z"
   },
   {
    "duration": 18,
    "start_time": "2022-03-15T10:31:20.055Z"
   },
   {
    "duration": 10,
    "start_time": "2022-03-15T10:31:20.075Z"
   },
   {
    "duration": 27,
    "start_time": "2022-03-15T10:31:20.086Z"
   },
   {
    "duration": 25,
    "start_time": "2022-03-15T10:31:20.138Z"
   },
   {
    "duration": 5,
    "start_time": "2022-03-15T10:31:59.439Z"
   },
   {
    "duration": 6,
    "start_time": "2022-03-15T10:32:13.092Z"
   },
   {
    "duration": 50,
    "start_time": "2022-03-15T10:34:30.600Z"
   },
   {
    "duration": 45,
    "start_time": "2022-03-15T10:34:36.450Z"
   },
   {
    "duration": 13,
    "start_time": "2022-03-15T10:34:54.120Z"
   },
   {
    "duration": 8,
    "start_time": "2022-03-15T10:34:57.413Z"
   },
   {
    "duration": 357,
    "start_time": "2022-03-15T10:35:26.855Z"
   },
   {
    "duration": 12,
    "start_time": "2022-03-15T10:35:59.524Z"
   },
   {
    "duration": 11,
    "start_time": "2022-03-15T10:36:00.030Z"
   },
   {
    "duration": 365,
    "start_time": "2022-03-15T10:36:01.710Z"
   },
   {
    "duration": 3,
    "start_time": "2022-03-15T10:36:05.528Z"
   },
   {
    "duration": 64,
    "start_time": "2022-03-15T10:36:05.533Z"
   },
   {
    "duration": 11,
    "start_time": "2022-03-15T10:36:05.599Z"
   },
   {
    "duration": 26,
    "start_time": "2022-03-15T10:36:05.612Z"
   },
   {
    "duration": 14,
    "start_time": "2022-03-15T10:36:05.640Z"
   },
   {
    "duration": 8,
    "start_time": "2022-03-15T10:36:05.655Z"
   },
   {
    "duration": 4,
    "start_time": "2022-03-15T10:36:05.665Z"
   },
   {
    "duration": 8,
    "start_time": "2022-03-15T10:36:05.671Z"
   },
   {
    "duration": 11,
    "start_time": "2022-03-15T10:36:05.681Z"
   },
   {
    "duration": 8,
    "start_time": "2022-03-15T10:36:05.693Z"
   },
   {
    "duration": 377,
    "start_time": "2022-03-15T10:36:05.738Z"
   },
   {
    "duration": 5,
    "start_time": "2022-03-15T10:36:06.117Z"
   },
   {
    "duration": 15,
    "start_time": "2022-03-15T10:36:06.123Z"
   },
   {
    "duration": 11,
    "start_time": "2022-03-15T10:36:06.140Z"
   },
   {
    "duration": 6,
    "start_time": "2022-03-15T10:36:06.153Z"
   },
   {
    "duration": 16,
    "start_time": "2022-03-15T10:36:06.161Z"
   },
   {
    "duration": 9,
    "start_time": "2022-03-15T10:36:06.179Z"
   },
   {
    "duration": 8,
    "start_time": "2022-03-15T10:36:06.189Z"
   },
   {
    "duration": 51,
    "start_time": "2022-03-15T10:36:06.198Z"
   },
   {
    "duration": 171,
    "start_time": "2022-03-15T10:36:06.251Z"
   },
   {
    "duration": 29,
    "start_time": "2022-03-15T10:36:06.424Z"
   },
   {
    "duration": 20,
    "start_time": "2022-03-15T10:36:06.455Z"
   },
   {
    "duration": 30,
    "start_time": "2022-03-15T10:36:06.478Z"
   },
   {
    "duration": 52,
    "start_time": "2022-03-15T10:36:06.510Z"
   },
   {
    "duration": 38,
    "start_time": "2022-03-15T10:36:06.564Z"
   },
   {
    "duration": 23,
    "start_time": "2022-03-15T10:36:06.604Z"
   },
   {
    "duration": 27,
    "start_time": "2022-03-15T10:36:06.629Z"
   },
   {
    "duration": 9,
    "start_time": "2022-03-15T10:36:06.658Z"
   },
   {
    "duration": 29,
    "start_time": "2022-03-15T10:36:06.669Z"
   },
   {
    "duration": 38,
    "start_time": "2022-03-15T10:36:06.700Z"
   },
   {
    "duration": 13,
    "start_time": "2022-03-15T10:36:06.741Z"
   },
   {
    "duration": 16,
    "start_time": "2022-03-15T10:36:06.756Z"
   },
   {
    "duration": 15,
    "start_time": "2022-03-15T10:36:06.774Z"
   },
   {
    "duration": 57,
    "start_time": "2022-03-15T10:36:06.791Z"
   },
   {
    "duration": 12,
    "start_time": "2022-03-15T10:36:06.850Z"
   },
   {
    "duration": 26,
    "start_time": "2022-03-15T10:36:06.864Z"
   },
   {
    "duration": 52,
    "start_time": "2022-03-15T10:36:06.892Z"
   },
   {
    "duration": 6,
    "start_time": "2022-03-15T10:39:01.761Z"
   },
   {
    "duration": 11,
    "start_time": "2022-03-15T10:39:41.086Z"
   },
   {
    "duration": 8,
    "start_time": "2022-03-15T10:39:41.618Z"
   },
   {
    "duration": 368,
    "start_time": "2022-03-15T10:39:45.439Z"
   },
   {
    "duration": 11,
    "start_time": "2022-03-15T10:40:46.783Z"
   },
   {
    "duration": 6,
    "start_time": "2022-03-15T10:41:41.489Z"
   },
   {
    "duration": 7,
    "start_time": "2022-03-15T10:48:10.344Z"
   },
   {
    "duration": 55,
    "start_time": "2022-03-15T10:48:19.760Z"
   },
   {
    "duration": 22,
    "start_time": "2022-03-15T10:48:24.466Z"
   },
   {
    "duration": 15,
    "start_time": "2022-03-15T10:48:47.041Z"
   },
   {
    "duration": 14,
    "start_time": "2022-03-15T10:48:55.622Z"
   },
   {
    "duration": 8,
    "start_time": "2022-03-15T10:52:42.623Z"
   },
   {
    "duration": 44,
    "start_time": "2022-03-15T10:54:23.546Z"
   },
   {
    "duration": 8,
    "start_time": "2022-03-15T10:54:30.548Z"
   },
   {
    "duration": 45,
    "start_time": "2022-03-15T10:57:28.969Z"
   },
   {
    "duration": 7,
    "start_time": "2022-03-15T10:57:34.269Z"
   },
   {
    "duration": 11,
    "start_time": "2022-03-15T10:57:45.203Z"
   },
   {
    "duration": 9,
    "start_time": "2022-03-15T10:58:05.907Z"
   },
   {
    "duration": 11,
    "start_time": "2022-03-15T10:58:07.309Z"
   },
   {
    "duration": 2,
    "start_time": "2022-03-15T10:58:12.615Z"
   },
   {
    "duration": 71,
    "start_time": "2022-03-15T10:58:12.619Z"
   },
   {
    "duration": 11,
    "start_time": "2022-03-15T10:58:12.692Z"
   },
   {
    "duration": 33,
    "start_time": "2022-03-15T10:58:12.705Z"
   },
   {
    "duration": 26,
    "start_time": "2022-03-15T10:58:12.740Z"
   },
   {
    "duration": 14,
    "start_time": "2022-03-15T10:58:12.768Z"
   },
   {
    "duration": 19,
    "start_time": "2022-03-15T10:58:12.784Z"
   },
   {
    "duration": 21,
    "start_time": "2022-03-15T10:58:12.806Z"
   },
   {
    "duration": 18,
    "start_time": "2022-03-15T10:58:12.828Z"
   },
   {
    "duration": 24,
    "start_time": "2022-03-15T10:58:12.848Z"
   },
   {
    "duration": 10,
    "start_time": "2022-03-15T10:58:12.873Z"
   },
   {
    "duration": 26,
    "start_time": "2022-03-15T10:58:12.884Z"
   },
   {
    "duration": 11,
    "start_time": "2022-03-15T10:58:12.912Z"
   },
   {
    "duration": 27,
    "start_time": "2022-03-15T10:58:12.925Z"
   },
   {
    "duration": 12,
    "start_time": "2022-03-15T10:58:12.954Z"
   },
   {
    "duration": 13,
    "start_time": "2022-03-15T10:58:12.967Z"
   },
   {
    "duration": 14,
    "start_time": "2022-03-15T10:58:12.982Z"
   },
   {
    "duration": 23,
    "start_time": "2022-03-15T10:58:12.998Z"
   },
   {
    "duration": 17,
    "start_time": "2022-03-15T10:58:13.022Z"
   },
   {
    "duration": 6,
    "start_time": "2022-03-15T10:58:13.041Z"
   },
   {
    "duration": 18,
    "start_time": "2022-03-15T10:58:13.049Z"
   },
   {
    "duration": 32,
    "start_time": "2022-03-15T10:58:13.069Z"
   },
   {
    "duration": 46,
    "start_time": "2022-03-15T10:58:13.105Z"
   },
   {
    "duration": 18,
    "start_time": "2022-03-15T10:58:13.154Z"
   },
   {
    "duration": 13,
    "start_time": "2022-03-15T10:58:13.174Z"
   },
   {
    "duration": 12,
    "start_time": "2022-03-15T10:58:13.188Z"
   },
   {
    "duration": 47,
    "start_time": "2022-03-15T10:58:13.201Z"
   },
   {
    "duration": 3,
    "start_time": "2022-03-15T10:58:13.250Z"
   },
   {
    "duration": 14,
    "start_time": "2022-03-15T10:58:13.255Z"
   },
   {
    "duration": 4,
    "start_time": "2022-03-15T10:58:13.271Z"
   },
   {
    "duration": 16,
    "start_time": "2022-03-15T10:58:13.277Z"
   },
   {
    "duration": 55,
    "start_time": "2022-03-15T10:58:13.295Z"
   },
   {
    "duration": 12,
    "start_time": "2022-03-15T10:58:13.352Z"
   },
   {
    "duration": 14,
    "start_time": "2022-03-15T10:58:13.366Z"
   },
   {
    "duration": 12,
    "start_time": "2022-03-15T10:58:13.382Z"
   },
   {
    "duration": 48,
    "start_time": "2022-03-15T10:58:13.395Z"
   },
   {
    "duration": 10,
    "start_time": "2022-03-15T10:58:13.444Z"
   },
   {
    "duration": 24,
    "start_time": "2022-03-15T10:58:13.456Z"
   },
   {
    "duration": 24,
    "start_time": "2022-03-15T10:58:13.482Z"
   },
   {
    "duration": 11,
    "start_time": "2022-03-15T10:58:34.089Z"
   },
   {
    "duration": 11,
    "start_time": "2022-03-15T10:58:39.071Z"
   },
   {
    "duration": 8,
    "start_time": "2022-03-15T10:58:41.051Z"
   },
   {
    "duration": 8,
    "start_time": "2022-03-15T10:58:42.126Z"
   },
   {
    "duration": 11,
    "start_time": "2022-03-15T10:58:43.411Z"
   },
   {
    "duration": 3,
    "start_time": "2022-03-15T10:58:51.792Z"
   },
   {
    "duration": 60,
    "start_time": "2022-03-15T10:58:51.797Z"
   },
   {
    "duration": 12,
    "start_time": "2022-03-15T10:58:51.859Z"
   },
   {
    "duration": 9,
    "start_time": "2022-03-15T10:58:51.873Z"
   },
   {
    "duration": 13,
    "start_time": "2022-03-15T10:58:51.884Z"
   },
   {
    "duration": 8,
    "start_time": "2022-03-15T10:58:51.898Z"
   },
   {
    "duration": 4,
    "start_time": "2022-03-15T10:58:51.938Z"
   },
   {
    "duration": 10,
    "start_time": "2022-03-15T10:58:51.944Z"
   },
   {
    "duration": 10,
    "start_time": "2022-03-15T10:58:51.957Z"
   },
   {
    "duration": 7,
    "start_time": "2022-03-15T10:58:51.969Z"
   },
   {
    "duration": 3,
    "start_time": "2022-03-15T10:58:51.978Z"
   },
   {
    "duration": 9,
    "start_time": "2022-03-15T10:58:51.983Z"
   },
   {
    "duration": 8,
    "start_time": "2022-03-15T10:58:51.993Z"
   },
   {
    "duration": 47,
    "start_time": "2022-03-15T10:58:52.003Z"
   },
   {
    "duration": 7,
    "start_time": "2022-03-15T10:58:52.051Z"
   },
   {
    "duration": 8,
    "start_time": "2022-03-15T10:58:52.060Z"
   },
   {
    "duration": 12,
    "start_time": "2022-03-15T10:58:52.070Z"
   },
   {
    "duration": 14,
    "start_time": "2022-03-15T10:58:52.084Z"
   },
   {
    "duration": 45,
    "start_time": "2022-03-15T10:58:52.099Z"
   },
   {
    "duration": 5,
    "start_time": "2022-03-15T10:58:52.145Z"
   },
   {
    "duration": 25,
    "start_time": "2022-03-15T10:58:52.151Z"
   },
   {
    "duration": 30,
    "start_time": "2022-03-15T10:58:52.177Z"
   },
   {
    "duration": 38,
    "start_time": "2022-03-15T10:58:52.208Z"
   },
   {
    "duration": 18,
    "start_time": "2022-03-15T10:58:52.247Z"
   },
   {
    "duration": 12,
    "start_time": "2022-03-15T10:58:52.267Z"
   },
   {
    "duration": 11,
    "start_time": "2022-03-15T10:58:52.281Z"
   },
   {
    "duration": 11,
    "start_time": "2022-03-15T10:58:52.295Z"
   },
   {
    "duration": 3,
    "start_time": "2022-03-15T10:58:52.337Z"
   },
   {
    "duration": 20,
    "start_time": "2022-03-15T10:58:52.341Z"
   },
   {
    "duration": 8,
    "start_time": "2022-03-15T10:58:52.363Z"
   },
   {
    "duration": 17,
    "start_time": "2022-03-15T10:58:52.373Z"
   },
   {
    "duration": 28,
    "start_time": "2022-03-15T10:58:52.391Z"
   },
   {
    "duration": 23,
    "start_time": "2022-03-15T10:58:52.420Z"
   },
   {
    "duration": 12,
    "start_time": "2022-03-15T10:58:52.445Z"
   },
   {
    "duration": 11,
    "start_time": "2022-03-15T10:58:52.458Z"
   },
   {
    "duration": 18,
    "start_time": "2022-03-15T10:58:52.470Z"
   },
   {
    "duration": 10,
    "start_time": "2022-03-15T10:58:52.489Z"
   },
   {
    "duration": 60,
    "start_time": "2022-03-15T10:58:52.501Z"
   },
   {
    "duration": 23,
    "start_time": "2022-03-15T10:58:52.563Z"
   },
   {
    "duration": 12,
    "start_time": "2022-03-15T10:59:44.592Z"
   },
   {
    "duration": 3,
    "start_time": "2022-03-15T10:59:49.197Z"
   },
   {
    "duration": 59,
    "start_time": "2022-03-15T10:59:49.202Z"
   },
   {
    "duration": 12,
    "start_time": "2022-03-15T10:59:49.264Z"
   },
   {
    "duration": 11,
    "start_time": "2022-03-15T10:59:49.278Z"
   },
   {
    "duration": 49,
    "start_time": "2022-03-15T10:59:49.291Z"
   },
   {
    "duration": 9,
    "start_time": "2022-03-15T10:59:49.342Z"
   },
   {
    "duration": 5,
    "start_time": "2022-03-15T10:59:49.353Z"
   },
   {
    "duration": 7,
    "start_time": "2022-03-15T10:59:49.360Z"
   },
   {
    "duration": 11,
    "start_time": "2022-03-15T10:59:49.369Z"
   },
   {
    "duration": 9,
    "start_time": "2022-03-15T10:59:49.381Z"
   },
   {
    "duration": 47,
    "start_time": "2022-03-15T10:59:49.392Z"
   },
   {
    "duration": 9,
    "start_time": "2022-03-15T10:59:49.441Z"
   },
   {
    "duration": 8,
    "start_time": "2022-03-15T10:59:49.451Z"
   },
   {
    "duration": 15,
    "start_time": "2022-03-15T10:59:49.461Z"
   },
   {
    "duration": 9,
    "start_time": "2022-03-15T10:59:49.477Z"
   },
   {
    "duration": 10,
    "start_time": "2022-03-15T10:59:49.488Z"
   },
   {
    "duration": 48,
    "start_time": "2022-03-15T10:59:49.500Z"
   },
   {
    "duration": 16,
    "start_time": "2022-03-15T10:59:49.550Z"
   },
   {
    "duration": 8,
    "start_time": "2022-03-15T10:59:49.568Z"
   },
   {
    "duration": 7,
    "start_time": "2022-03-15T10:59:49.578Z"
   },
   {
    "duration": 21,
    "start_time": "2022-03-15T10:59:49.586Z"
   },
   {
    "duration": 55,
    "start_time": "2022-03-15T10:59:49.608Z"
   },
   {
    "duration": 19,
    "start_time": "2022-03-15T10:59:49.667Z"
   },
   {
    "duration": 17,
    "start_time": "2022-03-15T10:59:49.688Z"
   },
   {
    "duration": 41,
    "start_time": "2022-03-15T10:59:49.707Z"
   },
   {
    "duration": 11,
    "start_time": "2022-03-15T10:59:49.750Z"
   },
   {
    "duration": 11,
    "start_time": "2022-03-15T10:59:49.762Z"
   },
   {
    "duration": 7,
    "start_time": "2022-03-15T10:59:49.774Z"
   },
   {
    "duration": 23,
    "start_time": "2022-03-15T10:59:49.783Z"
   },
   {
    "duration": 9,
    "start_time": "2022-03-15T10:59:49.807Z"
   },
   {
    "duration": 35,
    "start_time": "2022-03-15T10:59:49.818Z"
   },
   {
    "duration": 31,
    "start_time": "2022-03-15T10:59:49.854Z"
   },
   {
    "duration": 11,
    "start_time": "2022-03-15T10:59:49.886Z"
   },
   {
    "duration": 12,
    "start_time": "2022-03-15T10:59:49.899Z"
   },
   {
    "duration": 28,
    "start_time": "2022-03-15T10:59:49.912Z"
   },
   {
    "duration": 16,
    "start_time": "2022-03-15T10:59:49.941Z"
   },
   {
    "duration": 14,
    "start_time": "2022-03-15T10:59:49.959Z"
   },
   {
    "duration": 27,
    "start_time": "2022-03-15T10:59:49.975Z"
   },
   {
    "duration": 37,
    "start_time": "2022-03-15T10:59:50.003Z"
   },
   {
    "duration": 8,
    "start_time": "2022-03-15T11:01:00.485Z"
   },
   {
    "duration": 4,
    "start_time": "2022-03-15T11:01:10.041Z"
   },
   {
    "duration": 62,
    "start_time": "2022-03-15T11:01:10.048Z"
   },
   {
    "duration": 35,
    "start_time": "2022-03-15T11:01:10.113Z"
   },
   {
    "duration": 11,
    "start_time": "2022-03-15T11:01:10.151Z"
   },
   {
    "duration": 15,
    "start_time": "2022-03-15T11:01:10.164Z"
   },
   {
    "duration": 8,
    "start_time": "2022-03-15T11:01:10.181Z"
   },
   {
    "duration": 49,
    "start_time": "2022-03-15T11:01:10.191Z"
   },
   {
    "duration": 14,
    "start_time": "2022-03-15T11:01:10.243Z"
   },
   {
    "duration": 12,
    "start_time": "2022-03-15T11:01:10.260Z"
   },
   {
    "duration": 9,
    "start_time": "2022-03-15T11:01:10.274Z"
   },
   {
    "duration": 5,
    "start_time": "2022-03-15T11:01:10.285Z"
   },
   {
    "duration": 12,
    "start_time": "2022-03-15T11:01:10.292Z"
   },
   {
    "duration": 38,
    "start_time": "2022-03-15T11:01:10.306Z"
   },
   {
    "duration": 17,
    "start_time": "2022-03-15T11:01:10.346Z"
   },
   {
    "duration": 9,
    "start_time": "2022-03-15T11:01:10.365Z"
   },
   {
    "duration": 8,
    "start_time": "2022-03-15T11:01:10.376Z"
   },
   {
    "duration": 7,
    "start_time": "2022-03-15T11:01:10.386Z"
   },
   {
    "duration": 52,
    "start_time": "2022-03-15T11:01:10.395Z"
   },
   {
    "duration": 16,
    "start_time": "2022-03-15T11:01:10.449Z"
   },
   {
    "duration": 10,
    "start_time": "2022-03-15T11:01:10.467Z"
   },
   {
    "duration": 6,
    "start_time": "2022-03-15T11:01:10.479Z"
   },
   {
    "duration": 50,
    "start_time": "2022-03-15T11:01:10.487Z"
   },
   {
    "duration": 30,
    "start_time": "2022-03-15T11:01:10.541Z"
   },
   {
    "duration": 20,
    "start_time": "2022-03-15T11:01:10.573Z"
   },
   {
    "duration": 18,
    "start_time": "2022-03-15T11:01:10.595Z"
   },
   {
    "duration": 13,
    "start_time": "2022-03-15T11:01:10.638Z"
   },
   {
    "duration": 10,
    "start_time": "2022-03-15T11:01:10.653Z"
   },
   {
    "duration": 11,
    "start_time": "2022-03-15T11:01:10.665Z"
   },
   {
    "duration": 8,
    "start_time": "2022-03-15T11:01:10.677Z"
   },
   {
    "duration": 26,
    "start_time": "2022-03-15T11:01:10.687Z"
   },
   {
    "duration": 23,
    "start_time": "2022-03-15T11:01:10.715Z"
   },
   {
    "duration": 16,
    "start_time": "2022-03-15T11:01:10.739Z"
   },
   {
    "duration": 26,
    "start_time": "2022-03-15T11:01:10.757Z"
   },
   {
    "duration": 12,
    "start_time": "2022-03-15T11:01:10.784Z"
   },
   {
    "duration": 13,
    "start_time": "2022-03-15T11:01:10.797Z"
   },
   {
    "duration": 39,
    "start_time": "2022-03-15T11:01:10.811Z"
   },
   {
    "duration": 28,
    "start_time": "2022-03-15T11:01:10.851Z"
   },
   {
    "duration": 9,
    "start_time": "2022-03-15T11:01:10.881Z"
   },
   {
    "duration": 29,
    "start_time": "2022-03-15T11:01:10.892Z"
   },
   {
    "duration": 34,
    "start_time": "2022-03-15T11:01:10.923Z"
   },
   {
    "duration": 10,
    "start_time": "2022-03-15T11:01:57.770Z"
   },
   {
    "duration": 3,
    "start_time": "2022-03-15T11:02:02.040Z"
   },
   {
    "duration": 77,
    "start_time": "2022-03-15T11:02:02.045Z"
   },
   {
    "duration": 13,
    "start_time": "2022-03-15T11:02:02.124Z"
   },
   {
    "duration": 20,
    "start_time": "2022-03-15T11:02:02.139Z"
   },
   {
    "duration": 35,
    "start_time": "2022-03-15T11:02:02.161Z"
   },
   {
    "duration": 21,
    "start_time": "2022-03-15T11:02:02.198Z"
   },
   {
    "duration": 18,
    "start_time": "2022-03-15T11:02:02.220Z"
   },
   {
    "duration": 28,
    "start_time": "2022-03-15T11:02:02.239Z"
   },
   {
    "duration": 20,
    "start_time": "2022-03-15T11:02:02.270Z"
   },
   {
    "duration": 13,
    "start_time": "2022-03-15T11:02:02.292Z"
   },
   {
    "duration": 21,
    "start_time": "2022-03-15T11:02:02.307Z"
   },
   {
    "duration": 16,
    "start_time": "2022-03-15T11:02:02.330Z"
   },
   {
    "duration": 33,
    "start_time": "2022-03-15T11:02:02.348Z"
   },
   {
    "duration": 24,
    "start_time": "2022-03-15T11:02:02.383Z"
   },
   {
    "duration": 9,
    "start_time": "2022-03-15T11:02:02.409Z"
   },
   {
    "duration": 16,
    "start_time": "2022-03-15T11:02:02.420Z"
   },
   {
    "duration": 35,
    "start_time": "2022-03-15T11:02:02.437Z"
   },
   {
    "duration": 9,
    "start_time": "2022-03-15T11:02:02.473Z"
   },
   {
    "duration": 14,
    "start_time": "2022-03-15T11:02:02.483Z"
   },
   {
    "duration": 17,
    "start_time": "2022-03-15T11:02:02.499Z"
   },
   {
    "duration": 9,
    "start_time": "2022-03-15T11:02:02.517Z"
   },
   {
    "duration": 20,
    "start_time": "2022-03-15T11:02:02.527Z"
   },
   {
    "duration": 37,
    "start_time": "2022-03-15T11:02:02.548Z"
   },
   {
    "duration": 20,
    "start_time": "2022-03-15T11:02:02.587Z"
   },
   {
    "duration": 36,
    "start_time": "2022-03-15T11:02:02.609Z"
   },
   {
    "duration": 18,
    "start_time": "2022-03-15T11:02:02.646Z"
   },
   {
    "duration": 11,
    "start_time": "2022-03-15T11:02:02.667Z"
   },
   {
    "duration": 11,
    "start_time": "2022-03-15T11:02:02.680Z"
   },
   {
    "duration": 8,
    "start_time": "2022-03-15T11:02:02.693Z"
   },
   {
    "duration": 45,
    "start_time": "2022-03-15T11:02:02.702Z"
   },
   {
    "duration": 6,
    "start_time": "2022-03-15T11:02:02.749Z"
   },
   {
    "duration": 17,
    "start_time": "2022-03-15T11:02:02.756Z"
   },
   {
    "duration": 27,
    "start_time": "2022-03-15T11:02:02.775Z"
   },
   {
    "duration": 33,
    "start_time": "2022-03-15T11:02:02.804Z"
   },
   {
    "duration": 13,
    "start_time": "2022-03-15T11:02:02.840Z"
   },
   {
    "duration": 13,
    "start_time": "2022-03-15T11:02:02.855Z"
   },
   {
    "duration": 18,
    "start_time": "2022-03-15T11:02:02.870Z"
   },
   {
    "duration": 15,
    "start_time": "2022-03-15T11:02:02.889Z"
   },
   {
    "duration": 52,
    "start_time": "2022-03-15T11:02:02.905Z"
   },
   {
    "duration": 26,
    "start_time": "2022-03-15T11:02:02.959Z"
   },
   {
    "duration": 7,
    "start_time": "2022-03-15T11:02:26.584Z"
   },
   {
    "duration": 12,
    "start_time": "2022-03-15T11:06:36.044Z"
   },
   {
    "duration": 3,
    "start_time": "2022-03-15T11:07:03.064Z"
   },
   {
    "duration": 71,
    "start_time": "2022-03-15T11:07:03.069Z"
   },
   {
    "duration": 10,
    "start_time": "2022-03-15T11:07:03.142Z"
   },
   {
    "duration": 16,
    "start_time": "2022-03-15T11:07:03.155Z"
   },
   {
    "duration": 15,
    "start_time": "2022-03-15T11:07:03.173Z"
   },
   {
    "duration": 8,
    "start_time": "2022-03-15T11:07:03.190Z"
   },
   {
    "duration": 6,
    "start_time": "2022-03-15T11:07:03.200Z"
   },
   {
    "duration": 6,
    "start_time": "2022-03-15T11:07:03.240Z"
   },
   {
    "duration": 17,
    "start_time": "2022-03-15T11:07:03.249Z"
   },
   {
    "duration": 15,
    "start_time": "2022-03-15T11:07:03.268Z"
   },
   {
    "duration": 5,
    "start_time": "2022-03-15T11:07:03.285Z"
   },
   {
    "duration": 27,
    "start_time": "2022-03-15T11:07:03.292Z"
   },
   {
    "duration": 17,
    "start_time": "2022-03-15T11:07:03.322Z"
   },
   {
    "duration": 17,
    "start_time": "2022-03-15T11:07:03.341Z"
   },
   {
    "duration": 14,
    "start_time": "2022-03-15T11:07:03.360Z"
   },
   {
    "duration": 21,
    "start_time": "2022-03-15T11:07:03.376Z"
   },
   {
    "duration": 7,
    "start_time": "2022-03-15T11:07:03.399Z"
   },
   {
    "duration": 11,
    "start_time": "2022-03-15T11:07:03.408Z"
   },
   {
    "duration": 27,
    "start_time": "2022-03-15T11:07:03.421Z"
   },
   {
    "duration": 16,
    "start_time": "2022-03-15T11:07:03.450Z"
   },
   {
    "duration": 13,
    "start_time": "2022-03-15T11:07:03.468Z"
   },
   {
    "duration": 19,
    "start_time": "2022-03-15T11:07:03.482Z"
   },
   {
    "duration": 48,
    "start_time": "2022-03-15T11:07:03.506Z"
   },
   {
    "duration": 20,
    "start_time": "2022-03-15T11:07:03.556Z"
   },
   {
    "duration": 18,
    "start_time": "2022-03-15T11:07:03.578Z"
   },
   {
    "duration": 12,
    "start_time": "2022-03-15T11:07:03.598Z"
   },
   {
    "duration": 36,
    "start_time": "2022-03-15T11:07:03.612Z"
   },
   {
    "duration": 21,
    "start_time": "2022-03-15T11:07:03.650Z"
   },
   {
    "duration": 5,
    "start_time": "2022-03-15T11:07:03.673Z"
   },
   {
    "duration": 19,
    "start_time": "2022-03-15T11:07:03.679Z"
   },
   {
    "duration": 4,
    "start_time": "2022-03-15T11:07:03.699Z"
   },
   {
    "duration": 19,
    "start_time": "2022-03-15T11:07:03.705Z"
   },
   {
    "duration": 30,
    "start_time": "2022-03-15T11:07:03.726Z"
   },
   {
    "duration": 11,
    "start_time": "2022-03-15T11:07:03.757Z"
   },
   {
    "duration": 12,
    "start_time": "2022-03-15T11:07:03.769Z"
   },
   {
    "duration": 11,
    "start_time": "2022-03-15T11:07:03.782Z"
   },
   {
    "duration": 50,
    "start_time": "2022-03-15T11:07:03.795Z"
   },
   {
    "duration": 9,
    "start_time": "2022-03-15T11:07:03.847Z"
   },
   {
    "duration": 24,
    "start_time": "2022-03-15T11:07:03.858Z"
   },
   {
    "duration": 22,
    "start_time": "2022-03-15T11:07:03.884Z"
   },
   {
    "duration": 7,
    "start_time": "2022-03-15T11:07:46.873Z"
   },
   {
    "duration": 12,
    "start_time": "2022-03-15T11:10:51.432Z"
   },
   {
    "duration": 21,
    "start_time": "2022-03-15T11:11:56.112Z"
   },
   {
    "duration": 3,
    "start_time": "2022-03-15T11:12:01.270Z"
   },
   {
    "duration": 86,
    "start_time": "2022-03-15T11:12:01.275Z"
   },
   {
    "duration": 11,
    "start_time": "2022-03-15T11:12:01.363Z"
   },
   {
    "duration": 14,
    "start_time": "2022-03-15T11:12:01.376Z"
   },
   {
    "duration": 18,
    "start_time": "2022-03-15T11:12:01.391Z"
   },
   {
    "duration": 30,
    "start_time": "2022-03-15T11:12:01.411Z"
   },
   {
    "duration": 4,
    "start_time": "2022-03-15T11:12:01.443Z"
   },
   {
    "duration": 24,
    "start_time": "2022-03-15T11:12:01.449Z"
   },
   {
    "duration": 13,
    "start_time": "2022-03-15T11:12:01.475Z"
   },
   {
    "duration": 12,
    "start_time": "2022-03-15T11:12:01.490Z"
   },
   {
    "duration": 13,
    "start_time": "2022-03-15T11:12:01.504Z"
   },
   {
    "duration": 12,
    "start_time": "2022-03-15T11:12:01.519Z"
   },
   {
    "duration": 13,
    "start_time": "2022-03-15T11:12:01.538Z"
   },
   {
    "duration": 19,
    "start_time": "2022-03-15T11:12:01.553Z"
   },
   {
    "duration": 7,
    "start_time": "2022-03-15T11:12:01.574Z"
   },
   {
    "duration": 23,
    "start_time": "2022-03-15T11:12:01.582Z"
   },
   {
    "duration": 17,
    "start_time": "2022-03-15T11:12:01.607Z"
   },
   {
    "duration": 17,
    "start_time": "2022-03-15T11:12:01.626Z"
   },
   {
    "duration": 16,
    "start_time": "2022-03-15T11:12:01.645Z"
   },
   {
    "duration": 17,
    "start_time": "2022-03-15T11:12:01.663Z"
   },
   {
    "duration": 192,
    "start_time": "2022-03-15T11:12:01.682Z"
   },
   {
    "duration": 67,
    "start_time": "2022-03-15T11:12:01.810Z"
   },
   {
    "duration": 57,
    "start_time": "2022-03-15T11:12:01.821Z"
   },
   {
    "duration": 56,
    "start_time": "2022-03-15T11:12:01.823Z"
   },
   {
    "duration": 54,
    "start_time": "2022-03-15T11:12:01.826Z"
   },
   {
    "duration": 51,
    "start_time": "2022-03-15T11:12:01.831Z"
   },
   {
    "duration": 50,
    "start_time": "2022-03-15T11:12:01.833Z"
   },
   {
    "duration": 46,
    "start_time": "2022-03-15T11:12:01.838Z"
   },
   {
    "duration": 45,
    "start_time": "2022-03-15T11:12:01.840Z"
   },
   {
    "duration": 44,
    "start_time": "2022-03-15T11:12:01.842Z"
   },
   {
    "duration": 45,
    "start_time": "2022-03-15T11:12:01.843Z"
   },
   {
    "duration": 44,
    "start_time": "2022-03-15T11:12:01.845Z"
   },
   {
    "duration": 44,
    "start_time": "2022-03-15T11:12:01.846Z"
   },
   {
    "duration": 43,
    "start_time": "2022-03-15T11:12:01.848Z"
   },
   {
    "duration": 43,
    "start_time": "2022-03-15T11:12:01.849Z"
   },
   {
    "duration": 42,
    "start_time": "2022-03-15T11:12:01.851Z"
   },
   {
    "duration": 42,
    "start_time": "2022-03-15T11:12:01.852Z"
   },
   {
    "duration": 41,
    "start_time": "2022-03-15T11:12:01.854Z"
   },
   {
    "duration": 41,
    "start_time": "2022-03-15T11:12:01.855Z"
   },
   {
    "duration": 40,
    "start_time": "2022-03-15T11:12:01.857Z"
   },
   {
    "duration": 40,
    "start_time": "2022-03-15T11:12:01.858Z"
   },
   {
    "duration": 3,
    "start_time": "2022-03-15T11:12:24.193Z"
   },
   {
    "duration": 63,
    "start_time": "2022-03-15T11:12:24.197Z"
   },
   {
    "duration": 10,
    "start_time": "2022-03-15T11:12:24.262Z"
   },
   {
    "duration": 10,
    "start_time": "2022-03-15T11:12:24.274Z"
   },
   {
    "duration": 16,
    "start_time": "2022-03-15T11:12:24.286Z"
   },
   {
    "duration": 38,
    "start_time": "2022-03-15T11:12:24.303Z"
   },
   {
    "duration": 4,
    "start_time": "2022-03-15T11:12:24.343Z"
   },
   {
    "duration": 11,
    "start_time": "2022-03-15T11:12:24.348Z"
   },
   {
    "duration": 16,
    "start_time": "2022-03-15T11:12:24.361Z"
   },
   {
    "duration": 7,
    "start_time": "2022-03-15T11:12:24.379Z"
   },
   {
    "duration": 4,
    "start_time": "2022-03-15T11:12:24.388Z"
   },
   {
    "duration": 9,
    "start_time": "2022-03-15T11:12:24.394Z"
   },
   {
    "duration": 34,
    "start_time": "2022-03-15T11:12:24.404Z"
   },
   {
    "duration": 15,
    "start_time": "2022-03-15T11:12:24.440Z"
   },
   {
    "duration": 6,
    "start_time": "2022-03-15T11:12:24.457Z"
   },
   {
    "duration": 13,
    "start_time": "2022-03-15T11:12:24.465Z"
   },
   {
    "duration": 6,
    "start_time": "2022-03-15T11:12:24.480Z"
   },
   {
    "duration": 12,
    "start_time": "2022-03-15T11:12:24.488Z"
   },
   {
    "duration": 40,
    "start_time": "2022-03-15T11:12:24.502Z"
   },
   {
    "duration": 12,
    "start_time": "2022-03-15T11:12:24.544Z"
   },
   {
    "duration": 16,
    "start_time": "2022-03-15T11:12:24.558Z"
   },
   {
    "duration": 10,
    "start_time": "2022-03-15T11:12:24.575Z"
   },
   {
    "duration": 18,
    "start_time": "2022-03-15T11:12:24.586Z"
   },
   {
    "duration": 57,
    "start_time": "2022-03-15T11:12:24.605Z"
   },
   {
    "duration": 19,
    "start_time": "2022-03-15T11:12:24.663Z"
   },
   {
    "duration": 18,
    "start_time": "2022-03-15T11:12:24.684Z"
   },
   {
    "duration": 37,
    "start_time": "2022-03-15T11:12:24.705Z"
   },
   {
    "duration": 11,
    "start_time": "2022-03-15T11:12:24.744Z"
   },
   {
    "duration": 10,
    "start_time": "2022-03-15T11:12:24.757Z"
   },
   {
    "duration": 5,
    "start_time": "2022-03-15T11:12:24.769Z"
   },
   {
    "duration": 16,
    "start_time": "2022-03-15T11:12:24.776Z"
   },
   {
    "duration": 5,
    "start_time": "2022-03-15T11:12:24.794Z"
   },
   {
    "duration": 43,
    "start_time": "2022-03-15T11:12:24.800Z"
   },
   {
    "duration": 23,
    "start_time": "2022-03-15T11:12:24.845Z"
   },
   {
    "duration": 11,
    "start_time": "2022-03-15T11:12:24.869Z"
   },
   {
    "duration": 12,
    "start_time": "2022-03-15T11:12:24.881Z"
   },
   {
    "duration": 12,
    "start_time": "2022-03-15T11:12:24.895Z"
   },
   {
    "duration": 19,
    "start_time": "2022-03-15T11:12:24.938Z"
   },
   {
    "duration": 10,
    "start_time": "2022-03-15T11:12:24.958Z"
   },
   {
    "duration": 24,
    "start_time": "2022-03-15T11:12:24.970Z"
   },
   {
    "duration": 50,
    "start_time": "2022-03-15T11:12:24.996Z"
   },
   {
    "duration": 20,
    "start_time": "2022-03-15T11:13:24.639Z"
   },
   {
    "duration": 19,
    "start_time": "2022-03-15T11:13:57.207Z"
   },
   {
    "duration": 20,
    "start_time": "2022-03-15T11:25:21.534Z"
   },
   {
    "duration": 55,
    "start_time": "2022-03-15T11:25:37.236Z"
   },
   {
    "duration": 59,
    "start_time": "2022-03-15T11:29:53.849Z"
   },
   {
    "duration": 57,
    "start_time": "2022-03-15T11:30:02.925Z"
   },
   {
    "duration": 148,
    "start_time": "2022-03-15T11:30:27.243Z"
   },
   {
    "duration": 203,
    "start_time": "2022-03-15T11:30:31.428Z"
   },
   {
    "duration": 23,
    "start_time": "2022-03-15T11:30:38.909Z"
   },
   {
    "duration": 16,
    "start_time": "2022-03-15T11:31:10.680Z"
   },
   {
    "duration": 17,
    "start_time": "2022-03-15T11:33:43.953Z"
   },
   {
    "duration": 14,
    "start_time": "2022-03-15T11:33:48.963Z"
   },
   {
    "duration": 62,
    "start_time": "2022-03-15T11:39:52.548Z"
   },
   {
    "duration": 3,
    "start_time": "2022-03-15T11:48:49.597Z"
   },
   {
    "duration": 22,
    "start_time": "2022-03-15T11:48:51.516Z"
   },
   {
    "duration": 4,
    "start_time": "2022-03-15T11:48:54.879Z"
   },
   {
    "duration": 60,
    "start_time": "2022-03-15T11:48:54.885Z"
   },
   {
    "duration": 14,
    "start_time": "2022-03-15T11:48:54.948Z"
   },
   {
    "duration": 11,
    "start_time": "2022-03-15T11:48:54.964Z"
   },
   {
    "duration": 16,
    "start_time": "2022-03-15T11:48:54.977Z"
   },
   {
    "duration": 43,
    "start_time": "2022-03-15T11:48:54.995Z"
   },
   {
    "duration": 9,
    "start_time": "2022-03-15T11:48:55.040Z"
   },
   {
    "duration": 4,
    "start_time": "2022-03-15T11:48:55.052Z"
   },
   {
    "duration": 11,
    "start_time": "2022-03-15T11:48:55.059Z"
   },
   {
    "duration": 12,
    "start_time": "2022-03-15T11:48:55.071Z"
   },
   {
    "duration": 15,
    "start_time": "2022-03-15T11:48:55.085Z"
   },
   {
    "duration": 4,
    "start_time": "2022-03-15T11:48:55.102Z"
   },
   {
    "duration": 37,
    "start_time": "2022-03-15T11:48:55.108Z"
   },
   {
    "duration": 10,
    "start_time": "2022-03-15T11:48:55.146Z"
   },
   {
    "duration": 15,
    "start_time": "2022-03-15T11:48:55.157Z"
   },
   {
    "duration": 7,
    "start_time": "2022-03-15T11:48:55.174Z"
   },
   {
    "duration": 9,
    "start_time": "2022-03-15T11:48:55.183Z"
   },
   {
    "duration": 45,
    "start_time": "2022-03-15T11:48:55.194Z"
   },
   {
    "duration": 10,
    "start_time": "2022-03-15T11:48:55.240Z"
   },
   {
    "duration": 16,
    "start_time": "2022-03-15T11:48:55.252Z"
   },
   {
    "duration": 13,
    "start_time": "2022-03-15T11:48:55.270Z"
   },
   {
    "duration": 18,
    "start_time": "2022-03-15T11:48:55.285Z"
   },
   {
    "duration": 34,
    "start_time": "2022-03-15T11:48:55.306Z"
   },
   {
    "duration": 4,
    "start_time": "2022-03-15T11:48:55.343Z"
   },
   {
    "duration": 6,
    "start_time": "2022-03-15T11:48:55.348Z"
   },
   {
    "duration": 22,
    "start_time": "2022-03-15T11:48:55.356Z"
   },
   {
    "duration": 17,
    "start_time": "2022-03-15T11:48:55.380Z"
   },
   {
    "duration": 44,
    "start_time": "2022-03-15T11:48:55.398Z"
   },
   {
    "duration": 10,
    "start_time": "2022-03-15T11:48:55.443Z"
   },
   {
    "duration": 10,
    "start_time": "2022-03-15T11:48:55.455Z"
   },
   {
    "duration": 4,
    "start_time": "2022-03-15T11:48:55.467Z"
   },
   {
    "duration": 17,
    "start_time": "2022-03-15T11:48:55.472Z"
   },
   {
    "duration": 2,
    "start_time": "2022-03-15T11:48:55.491Z"
   },
   {
    "duration": 44,
    "start_time": "2022-03-15T11:48:55.495Z"
   },
   {
    "duration": 23,
    "start_time": "2022-03-15T11:48:55.540Z"
   },
   {
    "duration": 11,
    "start_time": "2022-03-15T11:48:55.565Z"
   },
   {
    "duration": 13,
    "start_time": "2022-03-15T11:48:55.577Z"
   },
   {
    "duration": 13,
    "start_time": "2022-03-15T11:48:55.591Z"
   },
   {
    "duration": 48,
    "start_time": "2022-03-15T11:48:55.605Z"
   },
   {
    "duration": 9,
    "start_time": "2022-03-15T11:48:55.655Z"
   },
   {
    "duration": 27,
    "start_time": "2022-03-15T11:48:55.666Z"
   },
   {
    "duration": 49,
    "start_time": "2022-03-15T11:48:55.695Z"
   },
   {
    "duration": 23,
    "start_time": "2022-03-15T11:50:44.845Z"
   },
   {
    "duration": 3,
    "start_time": "2022-03-15T11:50:58.341Z"
   },
   {
    "duration": 70,
    "start_time": "2022-03-15T11:50:58.346Z"
   },
   {
    "duration": 19,
    "start_time": "2022-03-15T11:50:58.419Z"
   },
   {
    "duration": 9,
    "start_time": "2022-03-15T11:50:58.440Z"
   },
   {
    "duration": 15,
    "start_time": "2022-03-15T11:50:58.450Z"
   },
   {
    "duration": 12,
    "start_time": "2022-03-15T11:50:58.467Z"
   },
   {
    "duration": 7,
    "start_time": "2022-03-15T11:50:58.481Z"
   },
   {
    "duration": 4,
    "start_time": "2022-03-15T11:50:58.489Z"
   },
   {
    "duration": 8,
    "start_time": "2022-03-15T11:50:58.495Z"
   },
   {
    "duration": 11,
    "start_time": "2022-03-15T11:50:58.538Z"
   },
   {
    "duration": 10,
    "start_time": "2022-03-15T11:50:58.550Z"
   },
   {
    "duration": 3,
    "start_time": "2022-03-15T11:50:58.562Z"
   },
   {
    "duration": 9,
    "start_time": "2022-03-15T11:50:58.567Z"
   },
   {
    "duration": 7,
    "start_time": "2022-03-15T11:50:58.578Z"
   },
   {
    "duration": 17,
    "start_time": "2022-03-15T11:50:58.587Z"
   },
   {
    "duration": 38,
    "start_time": "2022-03-15T11:50:58.605Z"
   },
   {
    "duration": 7,
    "start_time": "2022-03-15T11:50:58.645Z"
   },
   {
    "duration": 6,
    "start_time": "2022-03-15T11:50:58.653Z"
   },
   {
    "duration": 8,
    "start_time": "2022-03-15T11:50:58.661Z"
   },
   {
    "duration": 13,
    "start_time": "2022-03-15T11:50:58.671Z"
   },
   {
    "duration": 14,
    "start_time": "2022-03-15T11:50:58.685Z"
   },
   {
    "duration": 51,
    "start_time": "2022-03-15T11:50:58.701Z"
   },
   {
    "duration": 4,
    "start_time": "2022-03-15T11:50:58.754Z"
   },
   {
    "duration": 4,
    "start_time": "2022-03-15T11:50:58.759Z"
   },
   {
    "duration": 5,
    "start_time": "2022-03-15T11:50:58.765Z"
   },
   {
    "duration": 23,
    "start_time": "2022-03-15T11:50:58.771Z"
   },
   {
    "duration": 16,
    "start_time": "2022-03-15T11:50:58.798Z"
   },
   {
    "duration": 18,
    "start_time": "2022-03-15T11:50:58.838Z"
   },
   {
    "duration": 12,
    "start_time": "2022-03-15T11:50:58.858Z"
   },
   {
    "duration": 10,
    "start_time": "2022-03-15T11:50:58.872Z"
   },
   {
    "duration": 18,
    "start_time": "2022-03-15T11:50:58.884Z"
   },
   {
    "duration": 14,
    "start_time": "2022-03-15T11:50:58.904Z"
   },
   {
    "duration": 31,
    "start_time": "2022-03-15T11:50:58.919Z"
   },
   {
    "duration": 3,
    "start_time": "2022-03-15T11:50:58.952Z"
   },
   {
    "duration": 16,
    "start_time": "2022-03-15T11:50:58.957Z"
   },
   {
    "duration": 27,
    "start_time": "2022-03-15T11:50:58.975Z"
   },
   {
    "duration": 33,
    "start_time": "2022-03-15T11:50:59.004Z"
   },
   {
    "duration": 13,
    "start_time": "2022-03-15T11:50:59.039Z"
   },
   {
    "duration": 12,
    "start_time": "2022-03-15T11:50:59.054Z"
   },
   {
    "duration": 18,
    "start_time": "2022-03-15T11:50:59.068Z"
   },
   {
    "duration": 10,
    "start_time": "2022-03-15T11:50:59.088Z"
   },
   {
    "duration": 54,
    "start_time": "2022-03-15T11:50:59.100Z"
   },
   {
    "duration": 24,
    "start_time": "2022-03-15T11:50:59.156Z"
   },
   {
    "duration": 16,
    "start_time": "2022-03-15T11:52:57.347Z"
   },
   {
    "duration": 30,
    "start_time": "2022-03-15T11:53:50.981Z"
   },
   {
    "duration": 10,
    "start_time": "2022-03-15T11:55:41.502Z"
   },
   {
    "duration": 9,
    "start_time": "2022-03-15T11:55:45.245Z"
   },
   {
    "duration": 15,
    "start_time": "2022-03-15T11:55:54.115Z"
   },
   {
    "duration": 15,
    "start_time": "2022-03-15T11:56:04.114Z"
   },
   {
    "duration": 619,
    "start_time": "2022-03-15T11:56:49.590Z"
   },
   {
    "duration": 13,
    "start_time": "2022-03-15T11:57:05.030Z"
   },
   {
    "duration": 18,
    "start_time": "2022-03-15T11:57:12.148Z"
   },
   {
    "duration": 11,
    "start_time": "2022-03-15T11:57:25.272Z"
   },
   {
    "duration": 15,
    "start_time": "2022-03-15T11:57:30.888Z"
   },
   {
    "duration": 12,
    "start_time": "2022-03-15T11:57:44.153Z"
   },
   {
    "duration": 14,
    "start_time": "2022-03-15T11:57:47.688Z"
   },
   {
    "duration": 67,
    "start_time": "2022-03-15T11:59:29.101Z"
   },
   {
    "duration": 11,
    "start_time": "2022-03-15T12:03:51.690Z"
   },
   {
    "duration": 16,
    "start_time": "2022-03-15T12:03:58.958Z"
   },
   {
    "duration": 112,
    "start_time": "2022-03-15T12:04:08.270Z"
   },
   {
    "duration": 16,
    "start_time": "2022-03-15T12:04:12.832Z"
   },
   {
    "duration": 152,
    "start_time": "2022-03-15T12:04:57.391Z"
   },
   {
    "duration": 16,
    "start_time": "2022-03-15T12:05:09.513Z"
   },
   {
    "duration": 15,
    "start_time": "2022-03-15T12:06:06.134Z"
   },
   {
    "duration": 15,
    "start_time": "2022-03-15T12:06:41.873Z"
   },
   {
    "duration": 16,
    "start_time": "2022-03-15T12:07:01.854Z"
   },
   {
    "duration": 48,
    "start_time": "2022-03-15T12:07:39.019Z"
   },
   {
    "duration": 153,
    "start_time": "2022-03-15T12:07:49.661Z"
   },
   {
    "duration": 16,
    "start_time": "2022-03-15T12:09:12.843Z"
   },
   {
    "duration": 15,
    "start_time": "2022-03-15T12:11:20.542Z"
   },
   {
    "duration": 21,
    "start_time": "2022-03-15T12:11:34.846Z"
   },
   {
    "duration": 2710,
    "start_time": "2022-03-15T12:12:19.231Z"
   },
   {
    "duration": 38,
    "start_time": "2022-03-15T12:12:21.904Z"
   },
   {
    "duration": 3,
    "start_time": "2022-03-15T12:12:28.128Z"
   },
   {
    "duration": 59,
    "start_time": "2022-03-15T12:12:28.133Z"
   },
   {
    "duration": 11,
    "start_time": "2022-03-15T12:12:28.194Z"
   },
   {
    "duration": 10,
    "start_time": "2022-03-15T12:12:28.207Z"
   },
   {
    "duration": 16,
    "start_time": "2022-03-15T12:12:28.237Z"
   },
   {
    "duration": 13,
    "start_time": "2022-03-15T12:12:28.255Z"
   },
   {
    "duration": 7,
    "start_time": "2022-03-15T12:12:28.270Z"
   },
   {
    "duration": 3,
    "start_time": "2022-03-15T12:12:28.279Z"
   },
   {
    "duration": 7,
    "start_time": "2022-03-15T12:12:28.284Z"
   },
   {
    "duration": 47,
    "start_time": "2022-03-15T12:12:28.292Z"
   },
   {
    "duration": 7,
    "start_time": "2022-03-15T12:12:28.341Z"
   },
   {
    "duration": 6,
    "start_time": "2022-03-15T12:12:28.350Z"
   },
   {
    "duration": 10,
    "start_time": "2022-03-15T12:12:28.357Z"
   },
   {
    "duration": 10,
    "start_time": "2022-03-15T12:12:28.368Z"
   },
   {
    "duration": 13,
    "start_time": "2022-03-15T12:12:28.379Z"
   },
   {
    "duration": 7,
    "start_time": "2022-03-15T12:12:28.393Z"
   },
   {
    "duration": 44,
    "start_time": "2022-03-15T12:12:28.401Z"
   },
   {
    "duration": 7,
    "start_time": "2022-03-15T12:12:28.447Z"
   },
   {
    "duration": 13,
    "start_time": "2022-03-15T12:12:28.456Z"
   },
   {
    "duration": 15,
    "start_time": "2022-03-15T12:12:28.470Z"
   },
   {
    "duration": 14,
    "start_time": "2022-03-15T12:12:28.486Z"
   },
   {
    "duration": 24,
    "start_time": "2022-03-15T12:12:28.502Z"
   },
   {
    "duration": 5,
    "start_time": "2022-03-15T12:12:28.538Z"
   },
   {
    "duration": 23,
    "start_time": "2022-03-15T12:12:28.545Z"
   },
   {
    "duration": 20,
    "start_time": "2022-03-15T12:12:28.570Z"
   },
   {
    "duration": 17,
    "start_time": "2022-03-15T12:12:28.592Z"
   },
   {
    "duration": 14,
    "start_time": "2022-03-15T12:12:28.638Z"
   },
   {
    "duration": 9,
    "start_time": "2022-03-15T12:12:28.654Z"
   },
   {
    "duration": 10,
    "start_time": "2022-03-15T12:12:28.665Z"
   },
   {
    "duration": 2,
    "start_time": "2022-03-15T12:12:28.677Z"
   },
   {
    "duration": 15,
    "start_time": "2022-03-15T12:12:28.681Z"
   },
   {
    "duration": 9,
    "start_time": "2022-03-15T12:12:28.698Z"
   },
   {
    "duration": 38,
    "start_time": "2022-03-15T12:12:28.708Z"
   },
   {
    "duration": 20,
    "start_time": "2022-03-15T12:12:28.748Z"
   },
   {
    "duration": 12,
    "start_time": "2022-03-15T12:12:28.770Z"
   },
   {
    "duration": 15,
    "start_time": "2022-03-15T12:12:28.784Z"
   },
   {
    "duration": 38,
    "start_time": "2022-03-15T12:12:28.801Z"
   },
   {
    "duration": 2786,
    "start_time": "2022-03-15T12:12:28.841Z"
   },
   {
    "duration": 40,
    "start_time": "2022-03-15T12:12:31.589Z"
   },
   {
    "duration": 39,
    "start_time": "2022-03-15T12:12:31.590Z"
   },
   {
    "duration": 39,
    "start_time": "2022-03-15T12:12:31.591Z"
   },
   {
    "duration": 10,
    "start_time": "2022-03-15T12:12:59.105Z"
   },
   {
    "duration": 11,
    "start_time": "2022-03-15T12:13:02.384Z"
   },
   {
    "duration": 3661,
    "start_time": "2022-03-15T12:13:43.452Z"
   },
   {
    "duration": 3,
    "start_time": "2022-03-15T12:13:57.519Z"
   },
   {
    "duration": 63,
    "start_time": "2022-03-15T12:13:57.524Z"
   },
   {
    "duration": 10,
    "start_time": "2022-03-15T12:13:57.590Z"
   },
   {
    "duration": 10,
    "start_time": "2022-03-15T12:13:57.602Z"
   },
   {
    "duration": 21,
    "start_time": "2022-03-15T12:13:57.637Z"
   },
   {
    "duration": 13,
    "start_time": "2022-03-15T12:13:57.660Z"
   },
   {
    "duration": 7,
    "start_time": "2022-03-15T12:13:57.675Z"
   },
   {
    "duration": 4,
    "start_time": "2022-03-15T12:13:57.685Z"
   },
   {
    "duration": 8,
    "start_time": "2022-03-15T12:13:57.691Z"
   },
   {
    "duration": 41,
    "start_time": "2022-03-15T12:13:57.701Z"
   },
   {
    "duration": 8,
    "start_time": "2022-03-15T12:13:57.744Z"
   },
   {
    "duration": 6,
    "start_time": "2022-03-15T12:13:57.754Z"
   },
   {
    "duration": 9,
    "start_time": "2022-03-15T12:13:57.761Z"
   },
   {
    "duration": 7,
    "start_time": "2022-03-15T12:13:57.772Z"
   },
   {
    "duration": 16,
    "start_time": "2022-03-15T12:13:57.781Z"
   },
   {
    "duration": 40,
    "start_time": "2022-03-15T12:13:57.798Z"
   },
   {
    "duration": 7,
    "start_time": "2022-03-15T12:13:57.840Z"
   },
   {
    "duration": 12,
    "start_time": "2022-03-15T12:13:57.848Z"
   },
   {
    "duration": 12,
    "start_time": "2022-03-15T12:13:57.862Z"
   },
   {
    "duration": 14,
    "start_time": "2022-03-15T12:13:57.876Z"
   },
   {
    "duration": 15,
    "start_time": "2022-03-15T12:13:57.891Z"
   },
   {
    "duration": 47,
    "start_time": "2022-03-15T12:13:57.907Z"
   },
   {
    "duration": 5,
    "start_time": "2022-03-15T12:13:57.958Z"
   },
   {
    "duration": 22,
    "start_time": "2022-03-15T12:13:57.964Z"
   },
   {
    "duration": 21,
    "start_time": "2022-03-15T12:13:57.987Z"
   },
   {
    "duration": 39,
    "start_time": "2022-03-15T12:13:58.010Z"
   },
   {
    "duration": 14,
    "start_time": "2022-03-15T12:13:58.051Z"
   },
   {
    "duration": 10,
    "start_time": "2022-03-15T12:13:58.066Z"
   },
   {
    "duration": 12,
    "start_time": "2022-03-15T12:13:58.078Z"
   },
   {
    "duration": 9,
    "start_time": "2022-03-15T12:13:58.091Z"
   },
   {
    "duration": 45,
    "start_time": "2022-03-15T12:13:58.102Z"
   },
   {
    "duration": 5,
    "start_time": "2022-03-15T12:13:58.148Z"
   },
   {
    "duration": 18,
    "start_time": "2022-03-15T12:13:58.154Z"
   },
   {
    "duration": 17,
    "start_time": "2022-03-15T12:13:58.174Z"
   },
   {
    "duration": 11,
    "start_time": "2022-03-15T12:13:58.193Z"
   },
   {
    "duration": 41,
    "start_time": "2022-03-15T12:13:58.205Z"
   },
   {
    "duration": 13,
    "start_time": "2022-03-15T12:13:58.248Z"
   },
   {
    "duration": 9,
    "start_time": "2022-03-15T12:13:58.263Z"
   },
   {
    "duration": 4312,
    "start_time": "2022-03-15T12:13:58.274Z"
   },
   {
    "duration": 40,
    "start_time": "2022-03-15T12:14:02.548Z"
   },
   {
    "duration": 40,
    "start_time": "2022-03-15T12:14:02.549Z"
   },
   {
    "duration": 11,
    "start_time": "2022-03-15T12:14:20.390Z"
   },
   {
    "duration": 3,
    "start_time": "2022-03-15T12:14:23.058Z"
   },
   {
    "duration": 64,
    "start_time": "2022-03-15T12:14:23.063Z"
   },
   {
    "duration": 11,
    "start_time": "2022-03-15T12:14:23.129Z"
   },
   {
    "duration": 14,
    "start_time": "2022-03-15T12:14:23.142Z"
   },
   {
    "duration": 17,
    "start_time": "2022-03-15T12:14:23.157Z"
   },
   {
    "duration": 13,
    "start_time": "2022-03-15T12:14:23.176Z"
   },
   {
    "duration": 8,
    "start_time": "2022-03-15T12:14:23.191Z"
   },
   {
    "duration": 37,
    "start_time": "2022-03-15T12:14:23.201Z"
   },
   {
    "duration": 6,
    "start_time": "2022-03-15T12:14:23.240Z"
   },
   {
    "duration": 11,
    "start_time": "2022-03-15T12:14:23.247Z"
   },
   {
    "duration": 8,
    "start_time": "2022-03-15T12:14:23.260Z"
   },
   {
    "duration": 4,
    "start_time": "2022-03-15T12:14:23.269Z"
   },
   {
    "duration": 10,
    "start_time": "2022-03-15T12:14:23.275Z"
   },
   {
    "duration": 7,
    "start_time": "2022-03-15T12:14:23.287Z"
   },
   {
    "duration": 56,
    "start_time": "2022-03-15T12:14:23.295Z"
   },
   {
    "duration": 7,
    "start_time": "2022-03-15T12:14:23.353Z"
   },
   {
    "duration": 6,
    "start_time": "2022-03-15T12:14:23.362Z"
   },
   {
    "duration": 6,
    "start_time": "2022-03-15T12:14:23.370Z"
   },
   {
    "duration": 11,
    "start_time": "2022-03-15T12:14:23.377Z"
   },
   {
    "duration": 57,
    "start_time": "2022-03-15T12:14:23.390Z"
   },
   {
    "duration": 18,
    "start_time": "2022-03-15T12:14:23.449Z"
   },
   {
    "duration": 18,
    "start_time": "2022-03-15T12:14:23.468Z"
   },
   {
    "duration": 8,
    "start_time": "2022-03-15T12:14:23.489Z"
   },
   {
    "duration": 50,
    "start_time": "2022-03-15T12:14:23.499Z"
   },
   {
    "duration": 22,
    "start_time": "2022-03-15T12:14:23.550Z"
   },
   {
    "duration": 18,
    "start_time": "2022-03-15T12:14:23.573Z"
   },
   {
    "duration": 14,
    "start_time": "2022-03-15T12:14:23.593Z"
   },
   {
    "duration": 12,
    "start_time": "2022-03-15T12:14:23.637Z"
   },
   {
    "duration": 11,
    "start_time": "2022-03-15T12:14:23.651Z"
   },
   {
    "duration": 7,
    "start_time": "2022-03-15T12:14:23.663Z"
   },
   {
    "duration": 17,
    "start_time": "2022-03-15T12:14:23.672Z"
   },
   {
    "duration": 8,
    "start_time": "2022-03-15T12:14:23.690Z"
   },
   {
    "duration": 45,
    "start_time": "2022-03-15T12:14:23.700Z"
   },
   {
    "duration": 16,
    "start_time": "2022-03-15T12:14:23.747Z"
   },
   {
    "duration": 11,
    "start_time": "2022-03-15T12:14:23.764Z"
   },
   {
    "duration": 12,
    "start_time": "2022-03-15T12:14:23.777Z"
   },
   {
    "duration": 48,
    "start_time": "2022-03-15T12:14:23.791Z"
   },
   {
    "duration": 11,
    "start_time": "2022-03-15T12:14:23.840Z"
   },
   {
    "duration": 12,
    "start_time": "2022-03-15T12:14:23.852Z"
   },
   {
    "duration": 27,
    "start_time": "2022-03-15T12:14:23.865Z"
   },
   {
    "duration": 49,
    "start_time": "2022-03-15T12:14:23.894Z"
   },
   {
    "duration": 15,
    "start_time": "2022-03-15T12:14:45.664Z"
   },
   {
    "duration": 35,
    "start_time": "2022-03-15T12:15:20.201Z"
   },
   {
    "duration": 41,
    "start_time": "2022-03-15T12:15:28.146Z"
   },
   {
    "duration": 3,
    "start_time": "2022-03-15T12:15:34.389Z"
   },
   {
    "duration": 60,
    "start_time": "2022-03-15T12:15:34.394Z"
   },
   {
    "duration": 11,
    "start_time": "2022-03-15T12:15:34.456Z"
   },
   {
    "duration": 28,
    "start_time": "2022-03-15T12:15:34.468Z"
   },
   {
    "duration": 16,
    "start_time": "2022-03-15T12:15:34.497Z"
   },
   {
    "duration": 24,
    "start_time": "2022-03-15T12:15:34.515Z"
   },
   {
    "duration": 9,
    "start_time": "2022-03-15T12:15:34.540Z"
   },
   {
    "duration": 8,
    "start_time": "2022-03-15T12:15:34.551Z"
   },
   {
    "duration": 10,
    "start_time": "2022-03-15T12:15:34.561Z"
   },
   {
    "duration": 16,
    "start_time": "2022-03-15T12:15:34.573Z"
   },
   {
    "duration": 9,
    "start_time": "2022-03-15T12:15:34.591Z"
   },
   {
    "duration": 4,
    "start_time": "2022-03-15T12:15:34.601Z"
   },
   {
    "duration": 34,
    "start_time": "2022-03-15T12:15:34.607Z"
   },
   {
    "duration": 8,
    "start_time": "2022-03-15T12:15:34.643Z"
   },
   {
    "duration": 14,
    "start_time": "2022-03-15T12:15:34.653Z"
   },
   {
    "duration": 7,
    "start_time": "2022-03-15T12:15:34.669Z"
   },
   {
    "duration": 10,
    "start_time": "2022-03-15T12:15:34.677Z"
   },
   {
    "duration": 14,
    "start_time": "2022-03-15T12:15:34.689Z"
   },
   {
    "duration": 34,
    "start_time": "2022-03-15T12:15:34.705Z"
   },
   {
    "duration": 15,
    "start_time": "2022-03-15T12:15:34.741Z"
   },
   {
    "duration": 17,
    "start_time": "2022-03-15T12:15:34.758Z"
   },
   {
    "duration": 21,
    "start_time": "2022-03-15T12:15:34.776Z"
   },
   {
    "duration": 5,
    "start_time": "2022-03-15T12:15:34.800Z"
   },
   {
    "duration": 16,
    "start_time": "2022-03-15T12:15:34.839Z"
   },
   {
    "duration": 20,
    "start_time": "2022-03-15T12:15:34.856Z"
   },
   {
    "duration": 16,
    "start_time": "2022-03-15T12:15:34.877Z"
   },
   {
    "duration": 13,
    "start_time": "2022-03-15T12:15:34.895Z"
   },
   {
    "duration": 11,
    "start_time": "2022-03-15T12:15:34.938Z"
   },
   {
    "duration": 13,
    "start_time": "2022-03-15T12:15:34.951Z"
   },
   {
    "duration": 3,
    "start_time": "2022-03-15T12:15:34.966Z"
   },
   {
    "duration": 16,
    "start_time": "2022-03-15T12:15:34.970Z"
   },
   {
    "duration": 8,
    "start_time": "2022-03-15T12:15:34.988Z"
   },
   {
    "duration": 19,
    "start_time": "2022-03-15T12:15:34.998Z"
   },
   {
    "duration": 42,
    "start_time": "2022-03-15T12:15:35.019Z"
   },
   {
    "duration": 11,
    "start_time": "2022-03-15T12:15:35.063Z"
   },
   {
    "duration": 16,
    "start_time": "2022-03-15T12:15:35.075Z"
   },
   {
    "duration": 12,
    "start_time": "2022-03-15T12:15:35.093Z"
   },
   {
    "duration": 32,
    "start_time": "2022-03-15T12:15:35.106Z"
   },
   {
    "duration": 10,
    "start_time": "2022-03-15T12:15:35.140Z"
   },
   {
    "duration": 3286,
    "start_time": "2022-03-15T12:15:35.152Z"
   },
   {
    "duration": 34,
    "start_time": "2022-03-15T12:15:38.407Z"
   },
   {
    "duration": 3588,
    "start_time": "2022-03-15T12:16:14.355Z"
   },
   {
    "duration": 15,
    "start_time": "2022-03-15T12:16:38.771Z"
   },
   {
    "duration": 3509,
    "start_time": "2022-03-15T12:17:47.634Z"
   },
   {
    "duration": 16,
    "start_time": "2022-03-15T12:18:29.496Z"
   },
   {
    "duration": 14,
    "start_time": "2022-03-15T12:18:36.232Z"
   },
   {
    "duration": 12,
    "start_time": "2022-03-15T12:18:59.919Z"
   },
   {
    "duration": 11,
    "start_time": "2022-03-15T12:19:10.883Z"
   },
   {
    "duration": 15,
    "start_time": "2022-03-15T12:19:19.530Z"
   },
   {
    "duration": 13,
    "start_time": "2022-03-15T12:19:25.027Z"
   },
   {
    "duration": 3843,
    "start_time": "2022-03-15T12:19:31.168Z"
   },
   {
    "duration": 2,
    "start_time": "2022-03-15T12:19:58.245Z"
   },
   {
    "duration": 67,
    "start_time": "2022-03-15T12:19:58.249Z"
   },
   {
    "duration": 10,
    "start_time": "2022-03-15T12:19:58.318Z"
   },
   {
    "duration": 10,
    "start_time": "2022-03-15T12:19:58.338Z"
   },
   {
    "duration": 16,
    "start_time": "2022-03-15T12:19:58.349Z"
   },
   {
    "duration": 14,
    "start_time": "2022-03-15T12:19:58.366Z"
   },
   {
    "duration": 8,
    "start_time": "2022-03-15T12:19:58.381Z"
   },
   {
    "duration": 6,
    "start_time": "2022-03-15T12:19:58.390Z"
   },
   {
    "duration": 40,
    "start_time": "2022-03-15T12:19:58.399Z"
   },
   {
    "duration": 11,
    "start_time": "2022-03-15T12:19:58.441Z"
   },
   {
    "duration": 22,
    "start_time": "2022-03-15T12:19:58.453Z"
   },
   {
    "duration": 10,
    "start_time": "2022-03-15T12:19:58.477Z"
   },
   {
    "duration": 13,
    "start_time": "2022-03-15T12:19:58.488Z"
   },
   {
    "duration": 6,
    "start_time": "2022-03-15T12:19:58.503Z"
   },
   {
    "duration": 26,
    "start_time": "2022-03-15T12:19:58.511Z"
   },
   {
    "duration": 7,
    "start_time": "2022-03-15T12:19:58.539Z"
   },
   {
    "duration": 11,
    "start_time": "2022-03-15T12:19:58.547Z"
   },
   {
    "duration": 9,
    "start_time": "2022-03-15T12:19:58.559Z"
   },
   {
    "duration": 9,
    "start_time": "2022-03-15T12:19:58.569Z"
   },
   {
    "duration": 13,
    "start_time": "2022-03-15T12:19:58.580Z"
   },
   {
    "duration": 12,
    "start_time": "2022-03-15T12:19:58.595Z"
   },
   {
    "duration": 19,
    "start_time": "2022-03-15T12:19:58.638Z"
   },
   {
    "duration": 5,
    "start_time": "2022-03-15T12:19:58.658Z"
   },
   {
    "duration": 20,
    "start_time": "2022-03-15T12:19:58.664Z"
   },
   {
    "duration": 21,
    "start_time": "2022-03-15T12:19:58.685Z"
   },
   {
    "duration": 48,
    "start_time": "2022-03-15T12:19:58.707Z"
   },
   {
    "duration": 14,
    "start_time": "2022-03-15T12:19:58.758Z"
   },
   {
    "duration": 10,
    "start_time": "2022-03-15T12:19:58.774Z"
   },
   {
    "duration": 11,
    "start_time": "2022-03-15T12:19:58.786Z"
   },
   {
    "duration": 6,
    "start_time": "2022-03-15T12:19:58.799Z"
   },
   {
    "duration": 38,
    "start_time": "2022-03-15T12:19:58.807Z"
   },
   {
    "duration": 5,
    "start_time": "2022-03-15T12:19:58.847Z"
   },
   {
    "duration": 24,
    "start_time": "2022-03-15T12:19:58.854Z"
   },
   {
    "duration": 17,
    "start_time": "2022-03-15T12:19:58.880Z"
   },
   {
    "duration": 11,
    "start_time": "2022-03-15T12:19:58.899Z"
   },
   {
    "duration": 33,
    "start_time": "2022-03-15T12:19:58.912Z"
   },
   {
    "duration": 12,
    "start_time": "2022-03-15T12:19:58.946Z"
   },
   {
    "duration": 14,
    "start_time": "2022-03-15T12:19:58.960Z"
   },
   {
    "duration": 10,
    "start_time": "2022-03-15T12:19:58.975Z"
   },
   {
    "duration": 3956,
    "start_time": "2022-03-15T12:19:58.987Z"
   },
   {
    "duration": 30,
    "start_time": "2022-03-15T12:20:02.916Z"
   },
   {
    "duration": 18,
    "start_time": "2022-03-15T12:20:10.304Z"
   },
   {
    "duration": 16,
    "start_time": "2022-03-15T12:20:17.641Z"
   },
   {
    "duration": 16,
    "start_time": "2022-03-15T12:20:18.298Z"
   },
   {
    "duration": 156,
    "start_time": "2022-03-15T12:20:23.680Z"
   },
   {
    "duration": 194,
    "start_time": "2022-03-15T12:20:26.528Z"
   },
   {
    "duration": 15,
    "start_time": "2022-03-15T12:20:38.072Z"
   },
   {
    "duration": 149,
    "start_time": "2022-03-15T12:20:45.808Z"
   },
   {
    "duration": 17,
    "start_time": "2022-03-15T12:20:50.595Z"
   },
   {
    "duration": 3424,
    "start_time": "2022-03-15T12:21:07.958Z"
   },
   {
    "duration": 22,
    "start_time": "2022-03-15T12:21:21.703Z"
   },
   {
    "duration": 2,
    "start_time": "2022-03-15T12:21:55.516Z"
   },
   {
    "duration": 58,
    "start_time": "2022-03-15T12:21:55.520Z"
   },
   {
    "duration": 11,
    "start_time": "2022-03-15T12:21:55.580Z"
   },
   {
    "duration": 15,
    "start_time": "2022-03-15T12:21:55.592Z"
   },
   {
    "duration": 37,
    "start_time": "2022-03-15T12:21:55.608Z"
   },
   {
    "duration": 14,
    "start_time": "2022-03-15T12:21:55.647Z"
   },
   {
    "duration": 8,
    "start_time": "2022-03-15T12:21:55.662Z"
   },
   {
    "duration": 4,
    "start_time": "2022-03-15T12:21:55.672Z"
   },
   {
    "duration": 6,
    "start_time": "2022-03-15T12:21:55.679Z"
   },
   {
    "duration": 12,
    "start_time": "2022-03-15T12:21:55.687Z"
   },
   {
    "duration": 43,
    "start_time": "2022-03-15T12:21:55.701Z"
   },
   {
    "duration": 4,
    "start_time": "2022-03-15T12:21:55.746Z"
   },
   {
    "duration": 17,
    "start_time": "2022-03-15T12:21:55.751Z"
   },
   {
    "duration": 24,
    "start_time": "2022-03-15T12:21:55.770Z"
   },
   {
    "duration": 29,
    "start_time": "2022-03-15T12:21:55.796Z"
   },
   {
    "duration": 7,
    "start_time": "2022-03-15T12:21:55.827Z"
   },
   {
    "duration": 9,
    "start_time": "2022-03-15T12:21:55.835Z"
   },
   {
    "duration": 7,
    "start_time": "2022-03-15T12:21:55.846Z"
   },
   {
    "duration": 12,
    "start_time": "2022-03-15T12:21:55.855Z"
   },
   {
    "duration": 17,
    "start_time": "2022-03-15T12:21:55.869Z"
   },
   {
    "duration": 14,
    "start_time": "2022-03-15T12:21:55.888Z"
   },
   {
    "duration": 47,
    "start_time": "2022-03-15T12:21:55.904Z"
   },
   {
    "duration": 9,
    "start_time": "2022-03-15T12:21:55.953Z"
   },
   {
    "duration": 18,
    "start_time": "2022-03-15T12:21:55.963Z"
   },
   {
    "duration": 20,
    "start_time": "2022-03-15T12:21:55.983Z"
   },
   {
    "duration": 39,
    "start_time": "2022-03-15T12:21:56.004Z"
   },
   {
    "duration": 17,
    "start_time": "2022-03-15T12:21:56.047Z"
   },
   {
    "duration": 14,
    "start_time": "2022-03-15T12:21:56.067Z"
   },
   {
    "duration": 12,
    "start_time": "2022-03-15T12:21:56.082Z"
   },
   {
    "duration": 4,
    "start_time": "2022-03-15T12:21:56.096Z"
   },
   {
    "duration": 45,
    "start_time": "2022-03-15T12:21:56.102Z"
   },
   {
    "duration": 12,
    "start_time": "2022-03-15T12:21:56.148Z"
   },
   {
    "duration": 22,
    "start_time": "2022-03-15T12:21:56.162Z"
   },
   {
    "duration": 17,
    "start_time": "2022-03-15T12:21:56.186Z"
   },
   {
    "duration": 12,
    "start_time": "2022-03-15T12:21:56.204Z"
   },
   {
    "duration": 31,
    "start_time": "2022-03-15T12:21:56.218Z"
   },
   {
    "duration": 33,
    "start_time": "2022-03-15T12:21:56.251Z"
   },
   {
    "duration": 15,
    "start_time": "2022-03-15T12:21:56.286Z"
   },
   {
    "duration": 12,
    "start_time": "2022-03-15T12:21:56.303Z"
   },
   {
    "duration": 36,
    "start_time": "2022-03-15T12:21:56.317Z"
   },
   {
    "duration": 25,
    "start_time": "2022-03-15T12:21:56.354Z"
   },
   {
    "duration": 14,
    "start_time": "2022-03-15T12:22:11.801Z"
   },
   {
    "duration": 14,
    "start_time": "2022-03-15T12:22:14.704Z"
   },
   {
    "duration": 24,
    "start_time": "2022-03-15T12:22:22.133Z"
   },
   {
    "duration": 16,
    "start_time": "2022-03-15T12:22:35.235Z"
   },
   {
    "duration": 3517,
    "start_time": "2022-03-15T12:23:01.038Z"
   },
   {
    "duration": 14,
    "start_time": "2022-03-15T12:23:12.670Z"
   },
   {
    "duration": 3332,
    "start_time": "2022-03-15T12:23:20.626Z"
   },
   {
    "duration": 14,
    "start_time": "2022-03-15T12:23:30.884Z"
   },
   {
    "duration": 3,
    "start_time": "2022-03-15T12:23:37.154Z"
   },
   {
    "duration": 58,
    "start_time": "2022-03-15T12:23:37.158Z"
   },
   {
    "duration": 10,
    "start_time": "2022-03-15T12:23:37.218Z"
   },
   {
    "duration": 14,
    "start_time": "2022-03-15T12:23:37.230Z"
   },
   {
    "duration": 21,
    "start_time": "2022-03-15T12:23:37.246Z"
   },
   {
    "duration": 14,
    "start_time": "2022-03-15T12:23:37.269Z"
   },
   {
    "duration": 9,
    "start_time": "2022-03-15T12:23:37.284Z"
   },
   {
    "duration": 4,
    "start_time": "2022-03-15T12:23:37.296Z"
   },
   {
    "duration": 38,
    "start_time": "2022-03-15T12:23:37.302Z"
   },
   {
    "duration": 12,
    "start_time": "2022-03-15T12:23:37.341Z"
   },
   {
    "duration": 8,
    "start_time": "2022-03-15T12:23:37.354Z"
   },
   {
    "duration": 4,
    "start_time": "2022-03-15T12:23:37.363Z"
   },
   {
    "duration": 10,
    "start_time": "2022-03-15T12:23:37.369Z"
   },
   {
    "duration": 8,
    "start_time": "2022-03-15T12:23:37.381Z"
   },
   {
    "duration": 49,
    "start_time": "2022-03-15T12:23:37.390Z"
   },
   {
    "duration": 8,
    "start_time": "2022-03-15T12:23:37.440Z"
   },
   {
    "duration": 9,
    "start_time": "2022-03-15T12:23:37.449Z"
   },
   {
    "duration": 8,
    "start_time": "2022-03-15T12:23:37.460Z"
   },
   {
    "duration": 14,
    "start_time": "2022-03-15T12:23:37.470Z"
   },
   {
    "duration": 54,
    "start_time": "2022-03-15T12:23:37.485Z"
   },
   {
    "duration": 14,
    "start_time": "2022-03-15T12:23:37.540Z"
   },
   {
    "duration": 21,
    "start_time": "2022-03-15T12:23:37.555Z"
   },
   {
    "duration": 4,
    "start_time": "2022-03-15T12:23:37.579Z"
   },
   {
    "duration": 23,
    "start_time": "2022-03-15T12:23:37.586Z"
   },
   {
    "duration": 44,
    "start_time": "2022-03-15T12:23:37.611Z"
   },
   {
    "duration": 17,
    "start_time": "2022-03-15T12:23:37.657Z"
   },
   {
    "duration": 13,
    "start_time": "2022-03-15T12:23:37.675Z"
   },
   {
    "duration": 10,
    "start_time": "2022-03-15T12:23:37.690Z"
   },
   {
    "duration": 42,
    "start_time": "2022-03-15T12:23:37.701Z"
   },
   {
    "duration": 4,
    "start_time": "2022-03-15T12:23:37.745Z"
   },
   {
    "duration": 22,
    "start_time": "2022-03-15T12:23:37.750Z"
   },
   {
    "duration": 6,
    "start_time": "2022-03-15T12:23:37.774Z"
   },
   {
    "duration": 17,
    "start_time": "2022-03-15T12:23:37.781Z"
   },
   {
    "duration": 15,
    "start_time": "2022-03-15T12:23:37.800Z"
   },
   {
    "duration": 30,
    "start_time": "2022-03-15T12:23:37.817Z"
   },
   {
    "duration": 13,
    "start_time": "2022-03-15T12:23:37.849Z"
   },
   {
    "duration": 13,
    "start_time": "2022-03-15T12:23:37.863Z"
   },
   {
    "duration": 14,
    "start_time": "2022-03-15T12:23:37.877Z"
   },
   {
    "duration": 44,
    "start_time": "2022-03-15T12:23:37.893Z"
   },
   {
    "duration": 16,
    "start_time": "2022-03-15T12:23:37.939Z"
   },
   {
    "duration": 25,
    "start_time": "2022-03-15T12:23:37.957Z"
   },
   {
    "duration": 3,
    "start_time": "2022-03-15T12:23:45.263Z"
   },
   {
    "duration": 56,
    "start_time": "2022-03-15T12:23:45.267Z"
   },
   {
    "duration": 10,
    "start_time": "2022-03-15T12:23:45.325Z"
   },
   {
    "duration": 11,
    "start_time": "2022-03-15T12:23:45.337Z"
   },
   {
    "duration": 19,
    "start_time": "2022-03-15T12:23:45.350Z"
   },
   {
    "duration": 14,
    "start_time": "2022-03-15T12:23:45.370Z"
   },
   {
    "duration": 8,
    "start_time": "2022-03-15T12:23:45.386Z"
   },
   {
    "duration": 4,
    "start_time": "2022-03-15T12:23:45.396Z"
   },
   {
    "duration": 39,
    "start_time": "2022-03-15T12:23:45.403Z"
   },
   {
    "duration": 13,
    "start_time": "2022-03-15T12:23:45.444Z"
   },
   {
    "duration": 7,
    "start_time": "2022-03-15T12:23:45.459Z"
   },
   {
    "duration": 4,
    "start_time": "2022-03-15T12:23:45.468Z"
   },
   {
    "duration": 11,
    "start_time": "2022-03-15T12:23:45.474Z"
   },
   {
    "duration": 7,
    "start_time": "2022-03-15T12:23:45.486Z"
   },
   {
    "duration": 47,
    "start_time": "2022-03-15T12:23:45.495Z"
   },
   {
    "duration": 7,
    "start_time": "2022-03-15T12:23:45.544Z"
   },
   {
    "duration": 13,
    "start_time": "2022-03-15T12:23:45.553Z"
   },
   {
    "duration": 10,
    "start_time": "2022-03-15T12:23:45.568Z"
   },
   {
    "duration": 11,
    "start_time": "2022-03-15T12:23:45.579Z"
   },
   {
    "duration": 15,
    "start_time": "2022-03-15T12:23:45.592Z"
   },
   {
    "duration": 37,
    "start_time": "2022-03-15T12:23:45.608Z"
   },
   {
    "duration": 20,
    "start_time": "2022-03-15T12:23:45.647Z"
   },
   {
    "duration": 4,
    "start_time": "2022-03-15T12:23:45.672Z"
   },
   {
    "duration": 19,
    "start_time": "2022-03-15T12:23:45.678Z"
   },
   {
    "duration": 49,
    "start_time": "2022-03-15T12:23:45.699Z"
   },
   {
    "duration": 18,
    "start_time": "2022-03-15T12:23:45.750Z"
   },
   {
    "duration": 25,
    "start_time": "2022-03-15T12:23:45.770Z"
   },
   {
    "duration": 11,
    "start_time": "2022-03-15T12:23:45.796Z"
   },
   {
    "duration": 31,
    "start_time": "2022-03-15T12:23:45.808Z"
   },
   {
    "duration": 3,
    "start_time": "2022-03-15T12:23:45.840Z"
   },
   {
    "duration": 15,
    "start_time": "2022-03-15T12:23:45.845Z"
   },
   {
    "duration": 4,
    "start_time": "2022-03-15T12:23:45.861Z"
   },
   {
    "duration": 21,
    "start_time": "2022-03-15T12:23:45.866Z"
   },
   {
    "duration": 22,
    "start_time": "2022-03-15T12:23:45.888Z"
   },
   {
    "duration": 28,
    "start_time": "2022-03-15T12:23:45.911Z"
   },
   {
    "duration": 14,
    "start_time": "2022-03-15T12:23:45.941Z"
   },
   {
    "duration": 13,
    "start_time": "2022-03-15T12:23:45.957Z"
   },
   {
    "duration": 14,
    "start_time": "2022-03-15T12:23:45.971Z"
   },
   {
    "duration": 10,
    "start_time": "2022-03-15T12:23:45.986Z"
   },
   {
    "duration": 3435,
    "start_time": "2022-03-15T12:23:45.998Z"
   },
   {
    "duration": 39,
    "start_time": "2022-03-15T12:23:49.396Z"
   },
   {
    "duration": 16,
    "start_time": "2022-03-15T12:24:00.571Z"
   },
   {
    "duration": 26,
    "start_time": "2022-03-15T12:24:14.282Z"
   },
   {
    "duration": 25,
    "start_time": "2022-03-15T12:24:22.351Z"
   },
   {
    "duration": 15,
    "start_time": "2022-03-15T12:24:37.345Z"
   },
   {
    "duration": 3337,
    "start_time": "2022-03-15T12:24:46.454Z"
   },
   {
    "duration": 15,
    "start_time": "2022-03-15T12:24:53.713Z"
   },
   {
    "duration": 36,
    "start_time": "2022-03-15T12:26:10.173Z"
   },
   {
    "duration": 3825,
    "start_time": "2022-03-15T12:26:22.354Z"
   },
   {
    "duration": 3818,
    "start_time": "2022-03-15T12:27:00.452Z"
   },
   {
    "duration": 15,
    "start_time": "2022-03-15T12:27:06.070Z"
   },
   {
    "duration": 15,
    "start_time": "2022-03-15T12:27:43.820Z"
   },
   {
    "duration": 14,
    "start_time": "2022-03-15T12:27:56.932Z"
   },
   {
    "duration": 17,
    "start_time": "2022-03-15T12:28:01.257Z"
   },
   {
    "duration": 14,
    "start_time": "2022-03-15T12:28:16.133Z"
   },
   {
    "duration": 15,
    "start_time": "2022-03-15T12:28:24.930Z"
   },
   {
    "duration": 2,
    "start_time": "2022-03-15T12:28:41.121Z"
   },
   {
    "duration": 57,
    "start_time": "2022-03-15T12:28:41.126Z"
   },
   {
    "duration": 14,
    "start_time": "2022-03-15T12:28:41.185Z"
   },
   {
    "duration": 37,
    "start_time": "2022-03-15T12:28:41.201Z"
   },
   {
    "duration": 16,
    "start_time": "2022-03-15T12:28:41.241Z"
   },
   {
    "duration": 14,
    "start_time": "2022-03-15T12:28:41.259Z"
   },
   {
    "duration": 9,
    "start_time": "2022-03-15T12:28:41.275Z"
   },
   {
    "duration": 4,
    "start_time": "2022-03-15T12:28:41.287Z"
   },
   {
    "duration": 49,
    "start_time": "2022-03-15T12:28:41.293Z"
   },
   {
    "duration": 11,
    "start_time": "2022-03-15T12:28:41.345Z"
   },
   {
    "duration": 10,
    "start_time": "2022-03-15T12:28:41.358Z"
   },
   {
    "duration": 5,
    "start_time": "2022-03-15T12:28:41.370Z"
   },
   {
    "duration": 12,
    "start_time": "2022-03-15T12:28:41.377Z"
   },
   {
    "duration": 12,
    "start_time": "2022-03-15T12:28:41.391Z"
   },
   {
    "duration": 16,
    "start_time": "2022-03-15T12:28:41.438Z"
   },
   {
    "duration": 8,
    "start_time": "2022-03-15T12:28:41.456Z"
   },
   {
    "duration": 10,
    "start_time": "2022-03-15T12:28:41.466Z"
   },
   {
    "duration": 8,
    "start_time": "2022-03-15T12:28:41.478Z"
   },
   {
    "duration": 9,
    "start_time": "2022-03-15T12:28:41.488Z"
   },
   {
    "duration": 55,
    "start_time": "2022-03-15T12:28:41.499Z"
   },
   {
    "duration": 18,
    "start_time": "2022-03-15T12:28:41.556Z"
   },
   {
    "duration": 20,
    "start_time": "2022-03-15T12:28:41.576Z"
   },
   {
    "duration": 4,
    "start_time": "2022-03-15T12:28:41.600Z"
   },
   {
    "duration": 42,
    "start_time": "2022-03-15T12:28:41.606Z"
   },
   {
    "duration": 21,
    "start_time": "2022-03-15T12:28:41.650Z"
   },
   {
    "duration": 18,
    "start_time": "2022-03-15T12:28:41.673Z"
   },
   {
    "duration": 13,
    "start_time": "2022-03-15T12:28:41.693Z"
   },
   {
    "duration": 11,
    "start_time": "2022-03-15T12:28:41.738Z"
   },
   {
    "duration": 12,
    "start_time": "2022-03-15T12:28:41.751Z"
   },
   {
    "duration": 8,
    "start_time": "2022-03-15T12:28:41.764Z"
   },
   {
    "duration": 22,
    "start_time": "2022-03-15T12:28:41.774Z"
   },
   {
    "duration": 11,
    "start_time": "2022-03-15T12:28:41.798Z"
   },
   {
    "duration": 29,
    "start_time": "2022-03-15T12:28:41.811Z"
   },
   {
    "duration": 26,
    "start_time": "2022-03-15T12:28:41.842Z"
   },
   {
    "duration": 11,
    "start_time": "2022-03-15T12:28:41.870Z"
   },
   {
    "duration": 14,
    "start_time": "2022-03-15T12:28:41.882Z"
   },
   {
    "duration": 12,
    "start_time": "2022-03-15T12:28:41.897Z"
   },
   {
    "duration": 39,
    "start_time": "2022-03-15T12:28:41.910Z"
   },
   {
    "duration": 10,
    "start_time": "2022-03-15T12:28:41.951Z"
   },
   {
    "duration": 15,
    "start_time": "2022-03-15T12:28:41.963Z"
   },
   {
    "duration": 16,
    "start_time": "2022-03-15T12:28:41.980Z"
   },
   {
    "duration": 17,
    "start_time": "2022-03-15T12:29:57.159Z"
   },
   {
    "duration": 15,
    "start_time": "2022-03-15T12:31:25.039Z"
   },
   {
    "duration": 17,
    "start_time": "2022-03-15T12:31:42.109Z"
   },
   {
    "duration": 11,
    "start_time": "2022-03-15T12:32:05.455Z"
   },
   {
    "duration": 16,
    "start_time": "2022-03-15T12:32:26.633Z"
   },
   {
    "duration": 12,
    "start_time": "2022-03-15T12:38:45.570Z"
   },
   {
    "duration": 163,
    "start_time": "2022-03-15T12:42:00.771Z"
   },
   {
    "duration": 19,
    "start_time": "2022-03-15T12:42:09.450Z"
   },
   {
    "duration": 11,
    "start_time": "2022-03-15T13:19:51.741Z"
   },
   {
    "duration": 8,
    "start_time": "2022-03-15T13:19:52.491Z"
   },
   {
    "duration": 202,
    "start_time": "2022-03-15T13:20:21.268Z"
   },
   {
    "duration": 347,
    "start_time": "2022-03-15T13:20:32.476Z"
   },
   {
    "duration": 10,
    "start_time": "2022-03-15T13:20:56.760Z"
   },
   {
    "duration": 9,
    "start_time": "2022-03-15T13:20:57.200Z"
   },
   {
    "duration": 375,
    "start_time": "2022-03-15T13:20:59.089Z"
   },
   {
    "duration": 12,
    "start_time": "2022-03-15T13:21:06.316Z"
   },
   {
    "duration": 10,
    "start_time": "2022-03-15T13:21:06.830Z"
   },
   {
    "duration": 351,
    "start_time": "2022-03-15T13:21:08.211Z"
   },
   {
    "duration": 3,
    "start_time": "2022-03-15T13:21:13.176Z"
   },
   {
    "duration": 59,
    "start_time": "2022-03-15T13:21:13.182Z"
   },
   {
    "duration": 14,
    "start_time": "2022-03-15T13:21:13.244Z"
   },
   {
    "duration": 11,
    "start_time": "2022-03-15T13:21:13.260Z"
   },
   {
    "duration": 16,
    "start_time": "2022-03-15T13:21:13.273Z"
   },
   {
    "duration": 55,
    "start_time": "2022-03-15T13:21:13.291Z"
   },
   {
    "duration": 8,
    "start_time": "2022-03-15T13:21:13.348Z"
   },
   {
    "duration": 4,
    "start_time": "2022-03-15T13:21:13.359Z"
   },
   {
    "duration": 7,
    "start_time": "2022-03-15T13:21:13.365Z"
   },
   {
    "duration": 190,
    "start_time": "2022-03-15T13:21:13.374Z"
   },
   {
    "duration": 14,
    "start_time": "2022-03-15T13:21:13.566Z"
   },
   {
    "duration": 380,
    "start_time": "2022-03-15T13:21:13.583Z"
   },
   {
    "duration": 5,
    "start_time": "2022-03-15T13:21:13.964Z"
   },
   {
    "duration": 12,
    "start_time": "2022-03-15T13:21:13.970Z"
   },
   {
    "duration": 12,
    "start_time": "2022-03-15T13:21:13.984Z"
   },
   {
    "duration": 18,
    "start_time": "2022-03-15T13:21:13.998Z"
   },
   {
    "duration": 28,
    "start_time": "2022-03-15T13:21:14.017Z"
   },
   {
    "duration": 7,
    "start_time": "2022-03-15T13:21:14.047Z"
   },
   {
    "duration": 8,
    "start_time": "2022-03-15T13:21:14.056Z"
   },
   {
    "duration": 13,
    "start_time": "2022-03-15T13:21:14.065Z"
   },
   {
    "duration": 15,
    "start_time": "2022-03-15T13:21:14.080Z"
   },
   {
    "duration": 51,
    "start_time": "2022-03-15T13:21:14.096Z"
   },
   {
    "duration": 20,
    "start_time": "2022-03-15T13:21:14.151Z"
   },
   {
    "duration": 5,
    "start_time": "2022-03-15T13:21:14.173Z"
   },
   {
    "duration": 21,
    "start_time": "2022-03-15T13:21:14.179Z"
   },
   {
    "duration": 45,
    "start_time": "2022-03-15T13:21:14.202Z"
   },
   {
    "duration": 19,
    "start_time": "2022-03-15T13:21:14.249Z"
   },
   {
    "duration": 14,
    "start_time": "2022-03-15T13:21:14.270Z"
   },
   {
    "duration": 11,
    "start_time": "2022-03-15T13:21:14.286Z"
   },
   {
    "duration": 41,
    "start_time": "2022-03-15T13:21:14.298Z"
   },
   {
    "duration": 7,
    "start_time": "2022-03-15T13:21:14.341Z"
   },
   {
    "duration": 21,
    "start_time": "2022-03-15T13:21:14.349Z"
   },
   {
    "duration": 3,
    "start_time": "2022-03-15T13:21:14.371Z"
   },
   {
    "duration": 24,
    "start_time": "2022-03-15T13:21:14.376Z"
   },
   {
    "duration": 17,
    "start_time": "2022-03-15T13:21:14.402Z"
   },
   {
    "duration": 27,
    "start_time": "2022-03-15T13:21:14.420Z"
   },
   {
    "duration": 14,
    "start_time": "2022-03-15T13:21:14.448Z"
   },
   {
    "duration": 13,
    "start_time": "2022-03-15T13:21:14.463Z"
   },
   {
    "duration": 14,
    "start_time": "2022-03-15T13:21:14.478Z"
   },
   {
    "duration": 45,
    "start_time": "2022-03-15T13:21:14.494Z"
   },
   {
    "duration": 16,
    "start_time": "2022-03-15T13:21:14.540Z"
   },
   {
    "duration": 15,
    "start_time": "2022-03-15T13:21:14.558Z"
   },
   {
    "duration": 11,
    "start_time": "2022-03-15T13:21:24.666Z"
   },
   {
    "duration": 9,
    "start_time": "2022-03-15T13:21:26.413Z"
   },
   {
    "duration": 345,
    "start_time": "2022-03-15T13:21:28.077Z"
   },
   {
    "duration": 2,
    "start_time": "2022-03-15T13:21:41.785Z"
   },
   {
    "duration": 67,
    "start_time": "2022-03-15T13:21:41.789Z"
   },
   {
    "duration": 10,
    "start_time": "2022-03-15T13:21:41.858Z"
   },
   {
    "duration": 13,
    "start_time": "2022-03-15T13:21:41.870Z"
   },
   {
    "duration": 27,
    "start_time": "2022-03-15T13:21:41.884Z"
   },
   {
    "duration": 13,
    "start_time": "2022-03-15T13:21:41.913Z"
   },
   {
    "duration": 14,
    "start_time": "2022-03-15T13:21:41.927Z"
   },
   {
    "duration": 9,
    "start_time": "2022-03-15T13:21:41.944Z"
   },
   {
    "duration": 27,
    "start_time": "2022-03-15T13:21:41.955Z"
   },
   {
    "duration": 22,
    "start_time": "2022-03-15T13:21:41.984Z"
   },
   {
    "duration": 28,
    "start_time": "2022-03-15T13:21:42.008Z"
   },
   {
    "duration": 373,
    "start_time": "2022-03-15T13:21:42.038Z"
   },
   {
    "duration": 5,
    "start_time": "2022-03-15T13:21:42.413Z"
   },
   {
    "duration": 18,
    "start_time": "2022-03-15T13:21:42.420Z"
   },
   {
    "duration": 15,
    "start_time": "2022-03-15T13:21:42.440Z"
   },
   {
    "duration": 18,
    "start_time": "2022-03-15T13:21:42.457Z"
   },
   {
    "duration": 15,
    "start_time": "2022-03-15T13:21:42.476Z"
   },
   {
    "duration": 15,
    "start_time": "2022-03-15T13:21:42.492Z"
   },
   {
    "duration": 14,
    "start_time": "2022-03-15T13:21:42.508Z"
   },
   {
    "duration": 45,
    "start_time": "2022-03-15T13:21:42.524Z"
   },
   {
    "duration": 18,
    "start_time": "2022-03-15T13:21:42.571Z"
   },
   {
    "duration": 26,
    "start_time": "2022-03-15T13:21:42.591Z"
   },
   {
    "duration": 21,
    "start_time": "2022-03-15T13:21:42.620Z"
   },
   {
    "duration": 17,
    "start_time": "2022-03-15T13:21:42.643Z"
   },
   {
    "duration": 30,
    "start_time": "2022-03-15T13:21:42.661Z"
   },
   {
    "duration": 29,
    "start_time": "2022-03-15T13:21:42.693Z"
   },
   {
    "duration": 19,
    "start_time": "2022-03-15T13:21:42.723Z"
   },
   {
    "duration": 22,
    "start_time": "2022-03-15T13:21:42.744Z"
   },
   {
    "duration": 11,
    "start_time": "2022-03-15T13:21:42.767Z"
   },
   {
    "duration": 23,
    "start_time": "2022-03-15T13:21:42.780Z"
   },
   {
    "duration": 6,
    "start_time": "2022-03-15T13:21:42.805Z"
   },
   {
    "duration": 17,
    "start_time": "2022-03-15T13:21:42.812Z"
   },
   {
    "duration": 16,
    "start_time": "2022-03-15T13:21:42.838Z"
   },
   {
    "duration": 27,
    "start_time": "2022-03-15T13:21:42.856Z"
   },
   {
    "duration": 23,
    "start_time": "2022-03-15T13:21:42.884Z"
   },
   {
    "duration": 11,
    "start_time": "2022-03-15T13:21:42.909Z"
   },
   {
    "duration": 20,
    "start_time": "2022-03-15T13:21:42.922Z"
   },
   {
    "duration": 12,
    "start_time": "2022-03-15T13:21:42.944Z"
   },
   {
    "duration": 17,
    "start_time": "2022-03-15T13:21:42.957Z"
   },
   {
    "duration": 10,
    "start_time": "2022-03-15T13:21:42.976Z"
   },
   {
    "duration": 27,
    "start_time": "2022-03-15T13:21:42.988Z"
   },
   {
    "duration": 35,
    "start_time": "2022-03-15T13:21:43.016Z"
   },
   {
    "duration": 3,
    "start_time": "2022-03-15T13:22:09.492Z"
   },
   {
    "duration": 55,
    "start_time": "2022-03-15T13:22:09.496Z"
   },
   {
    "duration": 9,
    "start_time": "2022-03-15T13:22:09.554Z"
   },
   {
    "duration": 12,
    "start_time": "2022-03-15T13:22:09.565Z"
   },
   {
    "duration": 16,
    "start_time": "2022-03-15T13:22:09.579Z"
   },
   {
    "duration": 12,
    "start_time": "2022-03-15T13:22:09.597Z"
   },
   {
    "duration": 8,
    "start_time": "2022-03-15T13:22:09.639Z"
   },
   {
    "duration": 4,
    "start_time": "2022-03-15T13:22:09.650Z"
   },
   {
    "duration": 11,
    "start_time": "2022-03-15T13:22:09.655Z"
   },
   {
    "duration": 12,
    "start_time": "2022-03-15T13:22:09.668Z"
   },
   {
    "duration": 10,
    "start_time": "2022-03-15T13:22:09.682Z"
   },
   {
    "duration": 382,
    "start_time": "2022-03-15T13:22:09.694Z"
   },
   {
    "duration": 4,
    "start_time": "2022-03-15T13:22:10.078Z"
   },
   {
    "duration": 11,
    "start_time": "2022-03-15T13:22:10.084Z"
   },
   {
    "duration": 7,
    "start_time": "2022-03-15T13:22:10.097Z"
   },
   {
    "duration": 35,
    "start_time": "2022-03-15T13:22:10.106Z"
   },
   {
    "duration": 7,
    "start_time": "2022-03-15T13:22:10.143Z"
   },
   {
    "duration": 8,
    "start_time": "2022-03-15T13:22:10.151Z"
   },
   {
    "duration": 23,
    "start_time": "2022-03-15T13:22:10.161Z"
   },
   {
    "duration": 10,
    "start_time": "2022-03-15T13:22:10.185Z"
   },
   {
    "duration": 14,
    "start_time": "2022-03-15T13:22:10.196Z"
   },
   {
    "duration": 31,
    "start_time": "2022-03-15T13:22:10.212Z"
   },
   {
    "duration": 19,
    "start_time": "2022-03-15T13:22:10.247Z"
   },
   {
    "duration": 5,
    "start_time": "2022-03-15T13:22:10.268Z"
   },
   {
    "duration": 20,
    "start_time": "2022-03-15T13:22:10.274Z"
   },
   {
    "duration": 45,
    "start_time": "2022-03-15T13:22:10.296Z"
   },
   {
    "duration": 19,
    "start_time": "2022-03-15T13:22:10.342Z"
   },
   {
    "duration": 13,
    "start_time": "2022-03-15T13:22:10.363Z"
   },
   {
    "duration": 10,
    "start_time": "2022-03-15T13:22:10.378Z"
   },
   {
    "duration": 11,
    "start_time": "2022-03-15T13:22:10.390Z"
   },
   {
    "duration": 37,
    "start_time": "2022-03-15T13:22:10.402Z"
   },
   {
    "duration": 16,
    "start_time": "2022-03-15T13:22:10.441Z"
   },
   {
    "duration": 7,
    "start_time": "2022-03-15T13:22:10.459Z"
   },
   {
    "duration": 20,
    "start_time": "2022-03-15T13:22:10.467Z"
   },
   {
    "duration": 17,
    "start_time": "2022-03-15T13:22:10.489Z"
   },
   {
    "duration": 11,
    "start_time": "2022-03-15T13:22:10.508Z"
   },
   {
    "duration": 12,
    "start_time": "2022-03-15T13:22:10.537Z"
   },
   {
    "duration": 11,
    "start_time": "2022-03-15T13:22:10.551Z"
   },
   {
    "duration": 13,
    "start_time": "2022-03-15T13:22:10.563Z"
   },
   {
    "duration": 9,
    "start_time": "2022-03-15T13:22:10.578Z"
   },
   {
    "duration": 21,
    "start_time": "2022-03-15T13:22:10.589Z"
   },
   {
    "duration": 17,
    "start_time": "2022-03-15T13:22:10.637Z"
   },
   {
    "duration": 10,
    "start_time": "2022-03-15T13:22:23.921Z"
   },
   {
    "duration": 8,
    "start_time": "2022-03-15T13:22:43.701Z"
   },
   {
    "duration": 45,
    "start_time": "2022-03-15T13:27:59.117Z"
   },
   {
    "duration": 10,
    "start_time": "2022-03-15T13:29:14.080Z"
   },
   {
    "duration": 3,
    "start_time": "2022-03-15T13:29:17.640Z"
   },
   {
    "duration": 143,
    "start_time": "2022-03-15T13:29:17.645Z"
   },
   {
    "duration": 10,
    "start_time": "2022-03-15T13:29:17.790Z"
   },
   {
    "duration": 9,
    "start_time": "2022-03-15T13:29:17.802Z"
   },
   {
    "duration": 22,
    "start_time": "2022-03-15T13:29:17.812Z"
   },
   {
    "duration": 14,
    "start_time": "2022-03-15T13:29:17.835Z"
   },
   {
    "duration": 8,
    "start_time": "2022-03-15T13:29:17.850Z"
   },
   {
    "duration": 4,
    "start_time": "2022-03-15T13:29:17.861Z"
   },
   {
    "duration": 7,
    "start_time": "2022-03-15T13:29:17.867Z"
   },
   {
    "duration": 11,
    "start_time": "2022-03-15T13:29:17.875Z"
   },
   {
    "duration": 8,
    "start_time": "2022-03-15T13:29:17.888Z"
   },
   {
    "duration": 397,
    "start_time": "2022-03-15T13:29:17.898Z"
   },
   {
    "duration": 5,
    "start_time": "2022-03-15T13:29:18.296Z"
   },
   {
    "duration": 8,
    "start_time": "2022-03-15T13:29:18.303Z"
   },
   {
    "duration": 26,
    "start_time": "2022-03-15T13:29:18.313Z"
   },
   {
    "duration": 16,
    "start_time": "2022-03-15T13:29:18.340Z"
   },
   {
    "duration": 11,
    "start_time": "2022-03-15T13:29:18.358Z"
   },
   {
    "duration": 8,
    "start_time": "2022-03-15T13:29:18.371Z"
   },
   {
    "duration": 8,
    "start_time": "2022-03-15T13:29:18.381Z"
   },
   {
    "duration": 48,
    "start_time": "2022-03-15T13:29:18.391Z"
   },
   {
    "duration": 15,
    "start_time": "2022-03-15T13:29:18.441Z"
   },
   {
    "duration": 14,
    "start_time": "2022-03-15T13:29:18.458Z"
   },
   {
    "duration": 19,
    "start_time": "2022-03-15T13:29:18.476Z"
   },
   {
    "duration": 5,
    "start_time": "2022-03-15T13:29:18.498Z"
   },
   {
    "duration": 50,
    "start_time": "2022-03-15T13:29:18.505Z"
   },
   {
    "duration": 21,
    "start_time": "2022-03-15T13:29:18.557Z"
   },
   {
    "duration": 19,
    "start_time": "2022-03-15T13:29:18.580Z"
   },
   {
    "duration": 44,
    "start_time": "2022-03-15T13:29:18.601Z"
   },
   {
    "duration": 12,
    "start_time": "2022-03-15T13:29:18.647Z"
   },
   {
    "duration": 12,
    "start_time": "2022-03-15T13:29:18.661Z"
   },
   {
    "duration": 4,
    "start_time": "2022-03-15T13:29:18.675Z"
   },
   {
    "duration": 17,
    "start_time": "2022-03-15T13:29:18.681Z"
   },
   {
    "duration": 39,
    "start_time": "2022-03-15T13:29:18.700Z"
   },
   {
    "duration": 16,
    "start_time": "2022-03-15T13:29:18.741Z"
   },
   {
    "duration": 18,
    "start_time": "2022-03-15T13:29:18.759Z"
   },
   {
    "duration": 12,
    "start_time": "2022-03-15T13:29:18.779Z"
   },
   {
    "duration": 46,
    "start_time": "2022-03-15T13:29:18.793Z"
   },
   {
    "duration": 15,
    "start_time": "2022-03-15T13:29:18.841Z"
   },
   {
    "duration": 15,
    "start_time": "2022-03-15T13:29:18.858Z"
   },
   {
    "duration": 12,
    "start_time": "2022-03-15T13:29:18.874Z"
   },
   {
    "duration": 50,
    "start_time": "2022-03-15T13:29:18.888Z"
   },
   {
    "duration": 17,
    "start_time": "2022-03-15T13:29:18.939Z"
   },
   {
    "duration": 3,
    "start_time": "2022-03-15T13:29:56.477Z"
   },
   {
    "duration": 58,
    "start_time": "2022-03-15T13:29:56.483Z"
   },
   {
    "duration": 13,
    "start_time": "2022-03-15T13:29:56.544Z"
   },
   {
    "duration": 11,
    "start_time": "2022-03-15T13:29:56.559Z"
   },
   {
    "duration": 14,
    "start_time": "2022-03-15T13:29:56.572Z"
   },
   {
    "duration": 51,
    "start_time": "2022-03-15T13:29:56.588Z"
   },
   {
    "duration": 9,
    "start_time": "2022-03-15T13:29:56.640Z"
   },
   {
    "duration": 4,
    "start_time": "2022-03-15T13:29:56.650Z"
   },
   {
    "duration": 8,
    "start_time": "2022-03-15T13:29:56.656Z"
   },
   {
    "duration": 14,
    "start_time": "2022-03-15T13:29:56.666Z"
   },
   {
    "duration": 8,
    "start_time": "2022-03-15T13:29:56.682Z"
   },
   {
    "duration": 4,
    "start_time": "2022-03-15T13:29:56.692Z"
   },
   {
    "duration": 13,
    "start_time": "2022-03-15T13:29:56.698Z"
   },
   {
    "duration": 32,
    "start_time": "2022-03-15T13:29:56.712Z"
   },
   {
    "duration": 22,
    "start_time": "2022-03-15T13:29:56.746Z"
   },
   {
    "duration": 7,
    "start_time": "2022-03-15T13:29:56.770Z"
   },
   {
    "duration": 10,
    "start_time": "2022-03-15T13:29:56.778Z"
   },
   {
    "duration": 7,
    "start_time": "2022-03-15T13:29:56.789Z"
   },
   {
    "duration": 16,
    "start_time": "2022-03-15T13:29:56.798Z"
   },
   {
    "duration": 35,
    "start_time": "2022-03-15T13:29:56.816Z"
   },
   {
    "duration": 13,
    "start_time": "2022-03-15T13:29:56.853Z"
   },
   {
    "duration": 21,
    "start_time": "2022-03-15T13:29:56.868Z"
   },
   {
    "duration": 4,
    "start_time": "2022-03-15T13:29:56.891Z"
   },
   {
    "duration": 20,
    "start_time": "2022-03-15T13:29:56.896Z"
   },
   {
    "duration": 20,
    "start_time": "2022-03-15T13:29:56.938Z"
   },
   {
    "duration": 18,
    "start_time": "2022-03-15T13:29:56.959Z"
   },
   {
    "duration": 13,
    "start_time": "2022-03-15T13:29:56.980Z"
   },
   {
    "duration": 10,
    "start_time": "2022-03-15T13:29:56.995Z"
   },
   {
    "duration": 12,
    "start_time": "2022-03-15T13:29:57.038Z"
   },
   {
    "duration": 6,
    "start_time": "2022-03-15T13:29:57.051Z"
   },
   {
    "duration": 18,
    "start_time": "2022-03-15T13:29:57.059Z"
   },
   {
    "duration": 7,
    "start_time": "2022-03-15T13:29:57.079Z"
   },
   {
    "duration": 19,
    "start_time": "2022-03-15T13:29:57.087Z"
   },
   {
    "duration": 32,
    "start_time": "2022-03-15T13:29:57.107Z"
   },
   {
    "duration": 11,
    "start_time": "2022-03-15T13:29:57.140Z"
   },
   {
    "duration": 11,
    "start_time": "2022-03-15T13:29:57.153Z"
   },
   {
    "duration": 12,
    "start_time": "2022-03-15T13:29:57.166Z"
   },
   {
    "duration": 13,
    "start_time": "2022-03-15T13:29:57.179Z"
   },
   {
    "duration": 44,
    "start_time": "2022-03-15T13:29:57.193Z"
   },
   {
    "duration": 15,
    "start_time": "2022-03-15T13:29:57.240Z"
   },
   {
    "duration": 15,
    "start_time": "2022-03-15T13:29:57.257Z"
   },
   {
    "duration": 42,
    "start_time": "2022-06-12T17:09:17.174Z"
   }
  ],
  "kernelspec": {
   "display_name": "Python 3 (ipykernel)",
   "language": "python",
   "name": "python3"
  },
  "language_info": {
   "codemirror_mode": {
    "name": "ipython",
    "version": 3
   },
   "file_extension": ".py",
   "mimetype": "text/x-python",
   "name": "python",
   "nbconvert_exporter": "python",
   "pygments_lexer": "ipython3",
   "version": "3.10.2"
  },
  "toc": {
   "base_numbering": 1,
   "nav_menu": {},
   "number_sections": true,
   "sideBar": true,
   "skip_h1_title": true,
   "title_cell": "Table of Contents",
   "title_sidebar": "Contents",
   "toc_cell": false,
   "toc_position": {
    "height": "calc(100% - 180px)",
    "left": "10px",
    "top": "150px",
    "width": "293.988px"
   },
   "toc_section_display": true,
   "toc_window_display": true
  }
 },
 "nbformat": 4,
 "nbformat_minor": 5
}
