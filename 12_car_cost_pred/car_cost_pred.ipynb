{
 "cells": [
  {
   "cell_type": "markdown",
   "id": "b8acce2c",
   "metadata": {},
   "source": [
    "# Прогнозирование рыночной стоимости автомобилей"
   ]
  },
  {
   "cell_type": "markdown",
   "id": "1e5cf7ab",
   "metadata": {},
   "source": [
    "## Описание проекта"
   ]
  },
  {
   "cell_type": "markdown",
   "id": "78234064",
   "metadata": {},
   "source": [
    "Сервис по продаже автомобилей с пробегом «Не бит, не крашен» разрабатывает приложение для привлечения новых клиентов. В нём можно быстро узнать рыночную стоимость своего автомобиля. Требуется построить модель для определения стоимости на основе исторических данных: технических характеристик, комплектации и цены автомобилей. "
   ]
  },
  {
   "cell_type": "markdown",
   "id": "1e9f120e",
   "metadata": {},
   "source": [
    "## Подготовка данных"
   ]
  },
  {
   "cell_type": "markdown",
   "id": "f8682995",
   "metadata": {},
   "source": [
    "### Обзор данных"
   ]
  },
  {
   "cell_type": "code",
   "execution_count": 28,
   "id": "4a18d2c2",
   "metadata": {},
   "outputs": [],
   "source": [
    "import pandas as pd\n",
    "import numpy as np\n",
    "import seaborn as sns\n",
    "import matplotlib.pyplot as plt\n",
    "import time\n",
    "import os\n",
    "\n",
    "from sklearn.model_selection import train_test_split, RandomizedSearchCV\n",
    "from sklearn.preprocessing import StandardScaler\n",
    "from sklearn.preprocessing import OneHotEncoder\n",
    "from sklearn.linear_model import LinearRegression\n",
    "from lightgbm import LGBMRegressor\n",
    "from catboost import CatBoostRegressor\n",
    "from sklearn.ensemble import RandomForestRegressor\n",
    "from sklearn.tree import DecisionTreeRegressor\n",
    "from sklearn.metrics import mean_squared_error\n",
    "from sklearn.model_selection import cross_val_score"
   ]
  },
  {
   "cell_type": "code",
   "execution_count": 29,
   "id": "5832c1d0",
   "metadata": {},
   "outputs": [],
   "source": [
    "pth1 = '***'\n",
    "pth2 = '****'\n",
    "\n",
    "if os.path.exists(pth1):\n",
    "    df = pd.read_csv(pth1)\n",
    "elif os.path.exists(pth2):\n",
    "    df = pd.read_csv(pth2)\n",
    "else:\n",
    "    print('Oops!')"
   ]
  },
  {
   "cell_type": "code",
   "execution_count": 30,
   "id": "867d6c7f",
   "metadata": {},
   "outputs": [
    {
     "data": {
      "text/html": [
       "<div>\n",
       "<style scoped>\n",
       "    .dataframe tbody tr th:only-of-type {\n",
       "        vertical-align: middle;\n",
       "    }\n",
       "\n",
       "    .dataframe tbody tr th {\n",
       "        vertical-align: top;\n",
       "    }\n",
       "\n",
       "    .dataframe thead th {\n",
       "        text-align: right;\n",
       "    }\n",
       "</style>\n",
       "<table border=\"1\" class=\"dataframe\">\n",
       "  <thead>\n",
       "    <tr style=\"text-align: right;\">\n",
       "      <th></th>\n",
       "      <th>DateCrawled</th>\n",
       "      <th>Price</th>\n",
       "      <th>VehicleType</th>\n",
       "      <th>RegistrationYear</th>\n",
       "      <th>Gearbox</th>\n",
       "      <th>Power</th>\n",
       "      <th>Model</th>\n",
       "      <th>Kilometer</th>\n",
       "      <th>RegistrationMonth</th>\n",
       "      <th>FuelType</th>\n",
       "      <th>Brand</th>\n",
       "      <th>Repaired</th>\n",
       "      <th>DateCreated</th>\n",
       "      <th>NumberOfPictures</th>\n",
       "      <th>PostalCode</th>\n",
       "      <th>LastSeen</th>\n",
       "    </tr>\n",
       "  </thead>\n",
       "  <tbody>\n",
       "    <tr>\n",
       "      <th>0</th>\n",
       "      <td>2016-03-24 11:52:17</td>\n",
       "      <td>480</td>\n",
       "      <td>NaN</td>\n",
       "      <td>1993</td>\n",
       "      <td>manual</td>\n",
       "      <td>0</td>\n",
       "      <td>golf</td>\n",
       "      <td>150000</td>\n",
       "      <td>0</td>\n",
       "      <td>petrol</td>\n",
       "      <td>volkswagen</td>\n",
       "      <td>NaN</td>\n",
       "      <td>2016-03-24 00:00:00</td>\n",
       "      <td>0</td>\n",
       "      <td>70435</td>\n",
       "      <td>2016-04-07 03:16:57</td>\n",
       "    </tr>\n",
       "    <tr>\n",
       "      <th>1</th>\n",
       "      <td>2016-03-24 10:58:45</td>\n",
       "      <td>18300</td>\n",
       "      <td>coupe</td>\n",
       "      <td>2011</td>\n",
       "      <td>manual</td>\n",
       "      <td>190</td>\n",
       "      <td>NaN</td>\n",
       "      <td>125000</td>\n",
       "      <td>5</td>\n",
       "      <td>gasoline</td>\n",
       "      <td>audi</td>\n",
       "      <td>yes</td>\n",
       "      <td>2016-03-24 00:00:00</td>\n",
       "      <td>0</td>\n",
       "      <td>66954</td>\n",
       "      <td>2016-04-07 01:46:50</td>\n",
       "    </tr>\n",
       "    <tr>\n",
       "      <th>2</th>\n",
       "      <td>2016-03-14 12:52:21</td>\n",
       "      <td>9800</td>\n",
       "      <td>suv</td>\n",
       "      <td>2004</td>\n",
       "      <td>auto</td>\n",
       "      <td>163</td>\n",
       "      <td>grand</td>\n",
       "      <td>125000</td>\n",
       "      <td>8</td>\n",
       "      <td>gasoline</td>\n",
       "      <td>jeep</td>\n",
       "      <td>NaN</td>\n",
       "      <td>2016-03-14 00:00:00</td>\n",
       "      <td>0</td>\n",
       "      <td>90480</td>\n",
       "      <td>2016-04-05 12:47:46</td>\n",
       "    </tr>\n",
       "  </tbody>\n",
       "</table>\n",
       "</div>"
      ],
      "text/plain": [
       "           DateCrawled  Price VehicleType  RegistrationYear Gearbox  Power  \\\n",
       "0  2016-03-24 11:52:17    480         NaN              1993  manual      0   \n",
       "1  2016-03-24 10:58:45  18300       coupe              2011  manual    190   \n",
       "2  2016-03-14 12:52:21   9800         suv              2004    auto    163   \n",
       "\n",
       "   Model  Kilometer  RegistrationMonth  FuelType       Brand Repaired  \\\n",
       "0   golf     150000                  0    petrol  volkswagen      NaN   \n",
       "1    NaN     125000                  5  gasoline        audi      yes   \n",
       "2  grand     125000                  8  gasoline        jeep      NaN   \n",
       "\n",
       "           DateCreated  NumberOfPictures  PostalCode             LastSeen  \n",
       "0  2016-03-24 00:00:00                 0       70435  2016-04-07 03:16:57  \n",
       "1  2016-03-24 00:00:00                 0       66954  2016-04-07 01:46:50  \n",
       "2  2016-03-14 00:00:00                 0       90480  2016-04-05 12:47:46  "
      ]
     },
     "metadata": {},
     "output_type": "display_data"
    },
    {
     "name": "stdout",
     "output_type": "stream",
     "text": [
      "<class 'pandas.core.frame.DataFrame'>\n",
      "RangeIndex: 354369 entries, 0 to 354368\n",
      "Data columns (total 16 columns):\n",
      " #   Column             Non-Null Count   Dtype \n",
      "---  ------             --------------   ----- \n",
      " 0   DateCrawled        354369 non-null  object\n",
      " 1   Price              354369 non-null  int64 \n",
      " 2   VehicleType        316879 non-null  object\n",
      " 3   RegistrationYear   354369 non-null  int64 \n",
      " 4   Gearbox            334536 non-null  object\n",
      " 5   Power              354369 non-null  int64 \n",
      " 6   Model              334664 non-null  object\n",
      " 7   Kilometer          354369 non-null  int64 \n",
      " 8   RegistrationMonth  354369 non-null  int64 \n",
      " 9   FuelType           321474 non-null  object\n",
      " 10  Brand              354369 non-null  object\n",
      " 11  Repaired           283215 non-null  object\n",
      " 12  DateCreated        354369 non-null  object\n",
      " 13  NumberOfPictures   354369 non-null  int64 \n",
      " 14  PostalCode         354369 non-null  int64 \n",
      " 15  LastSeen           354369 non-null  object\n",
      "dtypes: int64(7), object(9)\n",
      "memory usage: 43.3+ MB\n"
     ]
    }
   ],
   "source": [
    "display(df.head(3))\n",
    "df.info()"
   ]
  },
  {
   "cell_type": "markdown",
   "id": "01d92309",
   "metadata": {},
   "source": [
    "Согласно документации к данным:\n",
    "\n",
    "Признаки:\n",
    "- `DateCrawled` — дата скачивания анкеты из базы\n",
    "- `VehicleType` — тип автомобильного кузова\n",
    "- `RegistrationYear` — год регистрации автомобиля\n",
    "- `Gearbox` — тип коробки передач\n",
    "- `Power` — мощность (л. с.)\n",
    "- `Model` — модель автомобиля\n",
    "- `Kilometer` — пробег (км)\n",
    "- `RegistrationMonth` — месяц регистрации автомобиля\n",
    "- `FuelType` — тип топлива\n",
    "- `Brand` — марка автомобиля\n",
    "- `Repaired` — была машина в ремонте или нет\n",
    "- `DateCreated` — дата создания анкеты\n",
    "- `NumberOfPictures` — количество фотографий автомобиля\n",
    "- `PostalCode` — почтовый индекс владельца анкеты (пользователя)\n",
    "- `LastSeen` — дата последней активности пользователя\n",
    "\n",
    "Целевой признак\n",
    "- `Price` — цена (евро)"
   ]
  },
  {
   "cell_type": "code",
   "execution_count": 31,
   "id": "066c8345",
   "metadata": {},
   "outputs": [
    {
     "data": {
      "text/plain": [
       "DateCrawled              0\n",
       "Price                    0\n",
       "VehicleType          37490\n",
       "RegistrationYear         0\n",
       "Gearbox              19833\n",
       "Power                    0\n",
       "Model                19705\n",
       "Kilometer                0\n",
       "RegistrationMonth        0\n",
       "FuelType             32895\n",
       "Brand                    0\n",
       "Repaired             71154\n",
       "DateCreated              0\n",
       "NumberOfPictures         0\n",
       "PostalCode               0\n",
       "LastSeen                 0\n",
       "dtype: int64"
      ]
     },
     "execution_count": 31,
     "metadata": {},
     "output_type": "execute_result"
    }
   ],
   "source": [
    "df.isna().sum()"
   ]
  },
  {
   "cell_type": "markdown",
   "id": "d33a6886",
   "metadata": {},
   "source": [
    "Пропуски имеются в пяти столбцах -  `Model`, `Gearbox`, `VehicleType`, `FuelType`, `Repaired`"
   ]
  },
  {
   "cell_type": "markdown",
   "id": "98f5eb3e",
   "metadata": {},
   "source": [
    "### Предобработка данных"
   ]
  },
  {
   "cell_type": "markdown",
   "id": "aeff4431",
   "metadata": {},
   "source": [
    "Для удобства приведем все названия столбцов к нижнему регистру:"
   ]
  },
  {
   "cell_type": "code",
   "execution_count": 32,
   "id": "e2820a3b",
   "metadata": {},
   "outputs": [
    {
     "data": {
      "text/plain": [
       "Index(['datecrawled', 'price', 'vehicletype', 'registrationyear', 'gearbox',\n",
       "       'power', 'model', 'kilometer', 'registrationmonth', 'fueltype', 'brand',\n",
       "       'repaired', 'datecreated', 'numberofpictures', 'postalcode',\n",
       "       'lastseen'],\n",
       "      dtype='object')"
      ]
     },
     "execution_count": 32,
     "metadata": {},
     "output_type": "execute_result"
    }
   ],
   "source": [
    "df.columns = df.columns.str.lower()\n",
    "df.columns"
   ]
  },
  {
   "cell_type": "markdown",
   "id": "b1d2cd3f",
   "metadata": {},
   "source": [
    "Посмотрим на значения в столбцах с пропусками - значения здесь категориальные, доля пропущенных значений больше или близко к 10%:"
   ]
  },
  {
   "cell_type": "code",
   "execution_count": 33,
   "id": "87c49632",
   "metadata": {},
   "outputs": [
    {
     "data": {
      "text/plain": [
       "datecrawled          0.000000\n",
       "price                0.000000\n",
       "vehicletype          0.105794\n",
       "registrationyear     0.000000\n",
       "gearbox              0.055967\n",
       "power                0.000000\n",
       "model                0.055606\n",
       "kilometer            0.000000\n",
       "registrationmonth    0.000000\n",
       "fueltype             0.092827\n",
       "brand                0.000000\n",
       "repaired             0.200791\n",
       "datecreated          0.000000\n",
       "numberofpictures     0.000000\n",
       "postalcode           0.000000\n",
       "lastseen             0.000000\n",
       "dtype: float64"
      ]
     },
     "execution_count": 33,
     "metadata": {},
     "output_type": "execute_result"
    }
   ],
   "source": [
    "df.isnull().sum()/len(df)"
   ]
  },
  {
   "cell_type": "markdown",
   "id": "3e9ceb35",
   "metadata": {},
   "source": [
    "Удалить эти строки мы не можем, поэтому заменим значения заглушкой:"
   ]
  },
  {
   "cell_type": "code",
   "execution_count": 34,
   "id": "bfafe8a9",
   "metadata": {},
   "outputs": [],
   "source": [
    "df = df.fillna('unknown') "
   ]
  },
  {
   "cell_type": "markdown",
   "id": "2f3fd4a2",
   "metadata": {},
   "source": [
    "Далее рассмотрим числовые признаки:"
   ]
  },
  {
   "cell_type": "code",
   "execution_count": 35,
   "id": "e74c6660",
   "metadata": {},
   "outputs": [
    {
     "data": {
      "text/html": [
       "<div>\n",
       "<style scoped>\n",
       "    .dataframe tbody tr th:only-of-type {\n",
       "        vertical-align: middle;\n",
       "    }\n",
       "\n",
       "    .dataframe tbody tr th {\n",
       "        vertical-align: top;\n",
       "    }\n",
       "\n",
       "    .dataframe thead th {\n",
       "        text-align: right;\n",
       "    }\n",
       "</style>\n",
       "<table border=\"1\" class=\"dataframe\">\n",
       "  <thead>\n",
       "    <tr style=\"text-align: right;\">\n",
       "      <th></th>\n",
       "      <th>price</th>\n",
       "      <th>registrationyear</th>\n",
       "      <th>power</th>\n",
       "      <th>kilometer</th>\n",
       "      <th>registrationmonth</th>\n",
       "      <th>numberofpictures</th>\n",
       "      <th>postalcode</th>\n",
       "    </tr>\n",
       "  </thead>\n",
       "  <tbody>\n",
       "    <tr>\n",
       "      <th>count</th>\n",
       "      <td>354369.000000</td>\n",
       "      <td>354369.000000</td>\n",
       "      <td>354369.000000</td>\n",
       "      <td>354369.000000</td>\n",
       "      <td>354369.000000</td>\n",
       "      <td>354369.0</td>\n",
       "      <td>354369.000000</td>\n",
       "    </tr>\n",
       "    <tr>\n",
       "      <th>mean</th>\n",
       "      <td>4416.656776</td>\n",
       "      <td>2004.234448</td>\n",
       "      <td>110.094337</td>\n",
       "      <td>128211.172535</td>\n",
       "      <td>5.714645</td>\n",
       "      <td>0.0</td>\n",
       "      <td>50508.689087</td>\n",
       "    </tr>\n",
       "    <tr>\n",
       "      <th>std</th>\n",
       "      <td>4514.158514</td>\n",
       "      <td>90.227958</td>\n",
       "      <td>189.850405</td>\n",
       "      <td>37905.341530</td>\n",
       "      <td>3.726421</td>\n",
       "      <td>0.0</td>\n",
       "      <td>25783.096248</td>\n",
       "    </tr>\n",
       "    <tr>\n",
       "      <th>min</th>\n",
       "      <td>0.000000</td>\n",
       "      <td>1000.000000</td>\n",
       "      <td>0.000000</td>\n",
       "      <td>5000.000000</td>\n",
       "      <td>0.000000</td>\n",
       "      <td>0.0</td>\n",
       "      <td>1067.000000</td>\n",
       "    </tr>\n",
       "    <tr>\n",
       "      <th>25%</th>\n",
       "      <td>1050.000000</td>\n",
       "      <td>1999.000000</td>\n",
       "      <td>69.000000</td>\n",
       "      <td>125000.000000</td>\n",
       "      <td>3.000000</td>\n",
       "      <td>0.0</td>\n",
       "      <td>30165.000000</td>\n",
       "    </tr>\n",
       "    <tr>\n",
       "      <th>50%</th>\n",
       "      <td>2700.000000</td>\n",
       "      <td>2003.000000</td>\n",
       "      <td>105.000000</td>\n",
       "      <td>150000.000000</td>\n",
       "      <td>6.000000</td>\n",
       "      <td>0.0</td>\n",
       "      <td>49413.000000</td>\n",
       "    </tr>\n",
       "    <tr>\n",
       "      <th>75%</th>\n",
       "      <td>6400.000000</td>\n",
       "      <td>2008.000000</td>\n",
       "      <td>143.000000</td>\n",
       "      <td>150000.000000</td>\n",
       "      <td>9.000000</td>\n",
       "      <td>0.0</td>\n",
       "      <td>71083.000000</td>\n",
       "    </tr>\n",
       "    <tr>\n",
       "      <th>max</th>\n",
       "      <td>20000.000000</td>\n",
       "      <td>9999.000000</td>\n",
       "      <td>20000.000000</td>\n",
       "      <td>150000.000000</td>\n",
       "      <td>12.000000</td>\n",
       "      <td>0.0</td>\n",
       "      <td>99998.000000</td>\n",
       "    </tr>\n",
       "  </tbody>\n",
       "</table>\n",
       "</div>"
      ],
      "text/plain": [
       "               price  registrationyear          power      kilometer  \\\n",
       "count  354369.000000     354369.000000  354369.000000  354369.000000   \n",
       "mean     4416.656776       2004.234448     110.094337  128211.172535   \n",
       "std      4514.158514         90.227958     189.850405   37905.341530   \n",
       "min         0.000000       1000.000000       0.000000    5000.000000   \n",
       "25%      1050.000000       1999.000000      69.000000  125000.000000   \n",
       "50%      2700.000000       2003.000000     105.000000  150000.000000   \n",
       "75%      6400.000000       2008.000000     143.000000  150000.000000   \n",
       "max     20000.000000       9999.000000   20000.000000  150000.000000   \n",
       "\n",
       "       registrationmonth  numberofpictures     postalcode  \n",
       "count      354369.000000          354369.0  354369.000000  \n",
       "mean            5.714645               0.0   50508.689087  \n",
       "std             3.726421               0.0   25783.096248  \n",
       "min             0.000000               0.0    1067.000000  \n",
       "25%             3.000000               0.0   30165.000000  \n",
       "50%             6.000000               0.0   49413.000000  \n",
       "75%             9.000000               0.0   71083.000000  \n",
       "max            12.000000               0.0   99998.000000  "
      ]
     },
     "execution_count": 35,
     "metadata": {},
     "output_type": "execute_result"
    }
   ],
   "source": [
    "df.describe()"
   ]
  },
  {
   "cell_type": "markdown",
   "id": "158ac4b5",
   "metadata": {},
   "source": [
    "Видим аномалии в столбцах: \n",
    "- `price` - минимальное значение - ноль;\n",
    "- `registrationyear` - минимальное значение - 1000, максимальное - 9999;\n",
    "- `power` - минимальное значение - ноль, максимальное 20000, что слишком  много для легковой машины;\n",
    "- `registrationmonth` - минимальное значение - ноль, скорее всего пропуск;\n",
    "- `numberofpictures` - все значения в столбце - нули."
   ]
  },
  {
   "cell_type": "markdown",
   "id": "3f3913af",
   "metadata": {},
   "source": [
    "Далее удалим столбцы, не имеющие значения для исследования -  `datecrawled`, `datecreated` и `lastseen`, `postalcode`, `numberofpictures`(заполнен нулями),`registrationmonth`(значение имеет только год регистрации):"
   ]
  },
  {
   "cell_type": "code",
   "execution_count": 36,
   "id": "a93593ee",
   "metadata": {},
   "outputs": [],
   "source": [
    "columns = [\n",
    "    'datecrawled', \n",
    "    'datecreated', \n",
    "    'lastseen', \n",
    "    'postalcode', \n",
    "    'numberofpictures', \n",
    "    'registrationmonth']\n",
    "df = df.drop(columns, axis=1)"
   ]
  },
  {
   "cell_type": "markdown",
   "id": "33c666cd",
   "metadata": {},
   "source": [
    "Посмотрим на распределение значений в столбцах:"
   ]
  },
  {
   "cell_type": "code",
   "execution_count": 37,
   "id": "0ea3a598",
   "metadata": {},
   "outputs": [
    {
     "data": {
      "image/png": "[encoded data removed]",
      "text/plain": [
       "<Figure size 576x432 with 1 Axes>"
      ]
     },
     "metadata": {
      "needs_background": "light"
     },
     "output_type": "display_data"
    },
    {
     "data": {
      "image/png": "[encoded data removed]",
      "text/plain": [
       "<Figure size 720x288 with 1 Axes>"
      ]
     },
     "metadata": {
      "needs_background": "light"
     },
     "output_type": "display_data"
    }
   ],
   "source": [
    "plt.figure(figsize=(8, 6))\n",
    "sns.histplot(data=df['price'], kde=True, bins=50)\n",
    "plt.title('Распределение цен')\n",
    "plt.xlabel('Цена')\n",
    "plt.ylabel('Количество')\n",
    "plt.show()\n",
    "\n",
    "\n",
    "plt.figure(figsize=(10, 4))\n",
    "sns.boxplot(x=df['price'])\n",
    "#plt.title(title)\n",
    "plt.xlabel('Цена')\n",
    "plt.show()"
   ]
  },
  {
   "cell_type": "code",
   "execution_count": 38,
   "id": "b9a2c8d3",
   "metadata": {},
   "outputs": [
    {
     "data": {
      "image/png": "[encoded data removed]",
      "text/plain": [
       "<Figure size 576x432 with 1 Axes>"
      ]
     },
     "metadata": {
      "needs_background": "light"
     },
     "output_type": "display_data"
    }
   ],
   "source": [
    "plt.figure(figsize=(8, 6))\n",
    "sns.histplot(data=df['registrationyear'], kde=True, bins=50)\n",
    "plt.title('Распределение по году регистрации')\n",
    "plt.xlabel('Год регистрации')\n",
    "plt.ylabel('Количество')\n",
    "plt.show()"
   ]
  },
  {
   "cell_type": "code",
   "execution_count": 39,
   "id": "55874cfb",
   "metadata": {},
   "outputs": [
    {
     "data": {
      "image/png": "[encoded data removed]",
      "text/plain": [
       "<Figure size 576x432 with 1 Axes>"
      ]
     },
     "metadata": {
      "needs_background": "light"
     },
     "output_type": "display_data"
    }
   ],
   "source": [
    "plt.figure(figsize=(8, 6))\n",
    "sns.histplot(data=df['power'], kde=True, bins=50)\n",
    "plt.title('Распределение по мощности')\n",
    "plt.xlabel('Мощность двигателя, лс')\n",
    "plt.ylabel('Количество')\n",
    "plt.show()"
   ]
  },
  {
   "cell_type": "code",
   "execution_count": 40,
   "id": "412143ab",
   "metadata": {},
   "outputs": [
    {
     "data": {
      "image/png": "[encoded data removed]",
      "text/plain": [
       "<Figure size 576x432 with 1 Axes>"
      ]
     },
     "metadata": {
      "needs_background": "light"
     },
     "output_type": "display_data"
    }
   ],
   "source": [
    "plt.figure(figsize=(8, 6))\n",
    "sns.histplot(data=df['kilometer'], kde=True, bins=50)\n",
    "plt.title('Распределение по пробегу')\n",
    "plt.xlabel('Пробег, км')\n",
    "plt.ylabel('Количество')\n",
    "plt.show()"
   ]
  },
  {
   "cell_type": "markdown",
   "id": "5b337071",
   "metadata": {},
   "source": [
    "На гистограмме видно, что большинство машин имеют цену до 2500 евро, видим достаточно большое число нулевых значений, избавимся от нулевых и слишком малых значений, удалив их до 5го процентиля, а также устраним выбросы - как видно из графика boxplot, это значения цены выше примерно 13500. :"
   ]
  },
  {
   "cell_type": "code",
   "execution_count": 41,
   "id": "1e28d983",
   "metadata": {},
   "outputs": [],
   "source": [
    "low_price = np.percentile (df.price , 5)\n",
    "df = df.query('(price <= 13500) and (price > @low_price)')"
   ]
  },
  {
   "cell_type": "markdown",
   "id": "0512e2aa",
   "metadata": {},
   "source": [
    "Теперь посмотрим на значения мощности - как и предыдущем случае, заменим нули медианой. Так же в данных есть слишком большие значения, поэтому все, что больше 1000 и меньше 10000 примем за неверную запись и поделим на 10, а все, что больше 10000, поделим на 100:"
   ]
  },
  {
   "cell_type": "code",
   "execution_count": 42,
   "id": "b93229ca",
   "metadata": {},
   "outputs": [],
   "source": [
    "df.loc[(df['power'] > 1000) & (df['power'] <= 10000), 'power'] = df['power'] / 10\n",
    "df.loc[(df['power'] > 10000), 'power'] = df['power'] / 100\n",
    "df.loc[df['power'] == 0, 'power'] = df['power'].median()"
   ]
  },
  {
   "cell_type": "markdown",
   "id": "8c89fab0",
   "metadata": {},
   "source": [
    "Далее рассмотрим столбец с годом регистрации автомобиля - уберем аномальные значения, приняв минимальный год выпуска за 1900 и максимальный за 2016: "
   ]
  },
  {
   "cell_type": "code",
   "execution_count": 43,
   "id": "94cf5153",
   "metadata": {},
   "outputs": [],
   "source": [
    "df = df.query('(registrationyear >= 1950) and (registrationyear <= 2016)')"
   ]
  },
  {
   "cell_type": "raw",
   "id": "b2f092bc",
   "metadata": {},
   "source": [
    "df.hist(bins=50, figsize=(15,10), linewidth=0.5, edgecolor='black')"
   ]
  },
  {
   "cell_type": "code",
   "execution_count": 44,
   "id": "bfade6f2",
   "metadata": {},
   "outputs": [
    {
     "data": {
      "image/png": "[encoded data removed]",
      "text/plain": [
       "<Figure size 576x432 with 1 Axes>"
      ]
     },
     "metadata": {
      "needs_background": "light"
     },
     "output_type": "display_data"
    },
    {
     "data": {
      "image/png": "[encoded data removed]",
      "text/plain": [
       "<Figure size 576x432 with 1 Axes>"
      ]
     },
     "metadata": {
      "needs_background": "light"
     },
     "output_type": "display_data"
    },
    {
     "data": {
      "image/png": "[encoded data removed]",
      "text/plain": [
       "<Figure size 576x432 with 1 Axes>"
      ]
     },
     "metadata": {
      "needs_background": "light"
     },
     "output_type": "display_data"
    }
   ],
   "source": [
    "plt.figure(figsize=(8, 6))\n",
    "sns.histplot(data=df['price'], kde=True, bins=50)\n",
    "plt.title('Распределение цен')\n",
    "plt.xlabel('Цена')\n",
    "plt.ylabel('Количество')\n",
    "plt.show()\n",
    "\n",
    "plt.figure(figsize=(8, 6))\n",
    "sns.histplot(data=df['registrationyear'], kde=True, bins=50)\n",
    "plt.title('Распределение по году регистрации')\n",
    "plt.xlabel('Год выпуска')\n",
    "plt.ylabel('Количество')\n",
    "plt.show()\n",
    "\n",
    "plt.figure(figsize=(8, 6))\n",
    "sns.histplot(data=df['power'], kde=True, bins=50)\n",
    "plt.title('Распределение по мощности')\n",
    "plt.xlabel('Мощность двигателя, лс')\n",
    "plt.ylabel('Количество')\n",
    "plt.show()\n",
    "\n"
   ]
  },
  {
   "cell_type": "markdown",
   "id": "9320f782",
   "metadata": {},
   "source": [
    "Создадим фиктивные переменные для признаков c небольшим кол-вом уникальных значений - `fueltype`, `repaired`, `gearbox`:"
   ]
  },
  {
   "cell_type": "code",
   "execution_count": 45,
   "id": "815737de",
   "metadata": {},
   "outputs": [],
   "source": [
    "categorial_tmp = ['fueltype', 'repaired', 'gearbox']\n",
    "\n",
    "df_tmp = pd.get_dummies(df[categorial_tmp], drop_first=True)"
   ]
  },
  {
   "cell_type": "markdown",
   "id": "eb7c3414",
   "metadata": {},
   "source": [
    "С помощью тепловой карты посмотрим на взаимосвязь признаков:"
   ]
  },
  {
   "cell_type": "code",
   "execution_count": 46,
   "id": "8f7cb355",
   "metadata": {},
   "outputs": [
    {
     "data": {
      "image/png": "[encoded data removed]",
      "text/plain": [
       "<Figure size 720x720 with 2 Axes>"
      ]
     },
     "metadata": {
      "needs_background": "light"
     },
     "output_type": "display_data"
    }
   ],
   "source": [
    "fig, ax = plt.subplots(figsize=(10,10)) \n",
    "sns.heatmap(df_tmp.corr(),annot = True, fmt = '.1g', ax=ax, square=True)\n",
    "plt.title('Взаимосвязь признаков')\n",
    "plt.show() "
   ]
  },
  {
   "cell_type": "markdown",
   "id": "a3eb20ea",
   "metadata": {},
   "source": [
    "В наибольшей степени на целевой признак влияют: год регистрации, мощность, и вид топлива `gasoline`,  а также пробег.\n",
    "\n",
    "Так же видим сильную обратную корреляцию между типами топлива `petrol` и `gasoline`, что по сути есть один вид топлива - бензин. \n"
   ]
  },
  {
   "cell_type": "markdown",
   "id": "b1c5efea",
   "metadata": {},
   "source": [
    "По итогам предобработки данных:\n",
    "- избавились от аномальных значений и пропусков в данных;\n",
    "- удалили ненужные для исследования столбцы;\n",
    "- построили гистограммы распределения признаков;\n",
    "- построили хитмэп, демонстрирующий взаимосвязь признаков."
   ]
  },
  {
   "cell_type": "markdown",
   "id": "49a657e2",
   "metadata": {},
   "source": [
    "## Обучение моделей"
   ]
  },
  {
   "cell_type": "markdown",
   "id": "24aca89a",
   "metadata": {},
   "source": [
    "### Разделение на выборки"
   ]
  },
  {
   "cell_type": "markdown",
   "id": "81375de6",
   "metadata": {},
   "source": [
    "Создадим фиктивные признаки для оставшихся категориальных переменных:"
   ]
  },
  {
   "cell_type": "markdown",
   "id": "93db027a",
   "metadata": {},
   "source": [
    "Разделим исходные данные на обучающую и тестовую выборки - выделим под обучающую 80% и 20% на тестовую."
   ]
  },
  {
   "cell_type": "code",
   "execution_count": 19,
   "id": "580a4601",
   "metadata": {},
   "outputs": [],
   "source": [
    "df_train, df_test = train_test_split(df, test_size=0.2, random_state=12345)"
   ]
  },
  {
   "cell_type": "markdown",
   "id": "12c14aa5",
   "metadata": {},
   "source": [
    "Определим признаки:"
   ]
  },
  {
   "cell_type": "code",
   "execution_count": 20,
   "id": "18cb2497",
   "metadata": {},
   "outputs": [],
   "source": [
    "features_test = df_test.drop(['price'], axis=1)\n",
    "target_test = df_test['price']\n",
    "\n",
    "features_train = df_train.drop(['price'], axis=1)\n",
    "target_train = df_train['price']"
   ]
  },
  {
   "cell_type": "code",
   "execution_count": 21,
   "id": "17fd8017",
   "metadata": {},
   "outputs": [],
   "source": [
    "categorial = ['fueltype', 'repaired', 'gearbox', 'vehicletype', 'brand', 'model']\n",
    "\n",
    "tmp_train = features_train[categorial]\n",
    "tmp_test= features_test[categorial]\n",
    "\n",
    "\n",
    "encoder_ohe = OneHotEncoder(handle_unknown='ignore')\n",
    "encoder_ohe.fit(features_train[categorial])\n",
    "\n",
    "tmp_train = pd.DataFrame(encoder_ohe.transform(features_train[categorial]).toarray(), \n",
    "                                   columns=encoder_ohe.get_feature_names(),\n",
    "                                   index=features_train.index)\n",
    "tmp_test = pd.DataFrame(encoder_ohe.transform(features_test[categorial]).toarray(), \n",
    "                                   columns=encoder_ohe.get_feature_names(),\n",
    "                                   index=features_test.index)\n",
    "\n",
    "features_train.drop(categorial, axis=1, inplace=True)\n",
    "features_train = features_train.join(tmp_train)\n",
    "\n",
    "features_test.drop(categorial, axis=1, inplace=True)\n",
    "features_test = features_test.join(tmp_test)"
   ]
  },
  {
   "cell_type": "markdown",
   "id": "1949ce9b",
   "metadata": {},
   "source": [
    "Проведём масштабирование признаков:"
   ]
  },
  {
   "cell_type": "code",
   "execution_count": 22,
   "id": "9137ae1c",
   "metadata": {},
   "outputs": [
    {
     "data": {
      "text/html": [
       "<div>\n",
       "<style scoped>\n",
       "    .dataframe tbody tr th:only-of-type {\n",
       "        vertical-align: middle;\n",
       "    }\n",
       "\n",
       "    .dataframe tbody tr th {\n",
       "        vertical-align: top;\n",
       "    }\n",
       "\n",
       "    .dataframe thead th {\n",
       "        text-align: right;\n",
       "    }\n",
       "</style>\n",
       "<table border=\"1\" class=\"dataframe\">\n",
       "  <thead>\n",
       "    <tr style=\"text-align: right;\">\n",
       "      <th></th>\n",
       "      <th>registrationyear</th>\n",
       "      <th>power</th>\n",
       "      <th>kilometer</th>\n",
       "      <th>x0_cng</th>\n",
       "      <th>x0_electric</th>\n",
       "      <th>x0_gasoline</th>\n",
       "      <th>x0_hybrid</th>\n",
       "      <th>x0_lpg</th>\n",
       "      <th>x0_other</th>\n",
       "      <th>x0_petrol</th>\n",
       "      <th>...</th>\n",
       "      <th>x5_wrangler</th>\n",
       "      <th>x5_x_reihe</th>\n",
       "      <th>x5_x_trail</th>\n",
       "      <th>x5_x_type</th>\n",
       "      <th>x5_xc_reihe</th>\n",
       "      <th>x5_yaris</th>\n",
       "      <th>x5_yeti</th>\n",
       "      <th>x5_ypsilon</th>\n",
       "      <th>x5_z_reihe</th>\n",
       "      <th>x5_zafira</th>\n",
       "    </tr>\n",
       "  </thead>\n",
       "  <tbody>\n",
       "    <tr>\n",
       "      <th>121695</th>\n",
       "      <td>2.129835</td>\n",
       "      <td>-0.271493</td>\n",
       "      <td>0.546467</td>\n",
       "      <td>0.0</td>\n",
       "      <td>0.0</td>\n",
       "      <td>0.0</td>\n",
       "      <td>0.0</td>\n",
       "      <td>0.0</td>\n",
       "      <td>0.0</td>\n",
       "      <td>1.0</td>\n",
       "      <td>...</td>\n",
       "      <td>0.0</td>\n",
       "      <td>0.0</td>\n",
       "      <td>0.0</td>\n",
       "      <td>0.0</td>\n",
       "      <td>0.0</td>\n",
       "      <td>0.0</td>\n",
       "      <td>0.0</td>\n",
       "      <td>0.0</td>\n",
       "      <td>0.0</td>\n",
       "      <td>0.0</td>\n",
       "    </tr>\n",
       "    <tr>\n",
       "      <th>320516</th>\n",
       "      <td>-0.202203</td>\n",
       "      <td>0.816757</td>\n",
       "      <td>0.546467</td>\n",
       "      <td>0.0</td>\n",
       "      <td>0.0</td>\n",
       "      <td>1.0</td>\n",
       "      <td>0.0</td>\n",
       "      <td>0.0</td>\n",
       "      <td>0.0</td>\n",
       "      <td>0.0</td>\n",
       "      <td>...</td>\n",
       "      <td>0.0</td>\n",
       "      <td>0.0</td>\n",
       "      <td>0.0</td>\n",
       "      <td>0.0</td>\n",
       "      <td>0.0</td>\n",
       "      <td>0.0</td>\n",
       "      <td>0.0</td>\n",
       "      <td>0.0</td>\n",
       "      <td>0.0</td>\n",
       "      <td>0.0</td>\n",
       "    </tr>\n",
       "    <tr>\n",
       "      <th>32312</th>\n",
       "      <td>-0.046734</td>\n",
       "      <td>-0.209894</td>\n",
       "      <td>0.546467</td>\n",
       "      <td>0.0</td>\n",
       "      <td>0.0</td>\n",
       "      <td>0.0</td>\n",
       "      <td>0.0</td>\n",
       "      <td>0.0</td>\n",
       "      <td>0.0</td>\n",
       "      <td>1.0</td>\n",
       "      <td>...</td>\n",
       "      <td>0.0</td>\n",
       "      <td>0.0</td>\n",
       "      <td>0.0</td>\n",
       "      <td>0.0</td>\n",
       "      <td>0.0</td>\n",
       "      <td>0.0</td>\n",
       "      <td>0.0</td>\n",
       "      <td>0.0</td>\n",
       "      <td>0.0</td>\n",
       "      <td>0.0</td>\n",
       "    </tr>\n",
       "  </tbody>\n",
       "</table>\n",
       "<p>3 rows × 316 columns</p>\n",
       "</div>"
      ],
      "text/plain": [
       "        registrationyear     power  kilometer  x0_cng  x0_electric  \\\n",
       "121695          2.129835 -0.271493   0.546467     0.0          0.0   \n",
       "320516         -0.202203  0.816757   0.546467     0.0          0.0   \n",
       "32312          -0.046734 -0.209894   0.546467     0.0          0.0   \n",
       "\n",
       "        x0_gasoline  x0_hybrid  x0_lpg  x0_other  x0_petrol  ...  x5_wrangler  \\\n",
       "121695          0.0        0.0     0.0       0.0        1.0  ...          0.0   \n",
       "320516          1.0        0.0     0.0       0.0        0.0  ...          0.0   \n",
       "32312           0.0        0.0     0.0       0.0        1.0  ...          0.0   \n",
       "\n",
       "        x5_x_reihe  x5_x_trail  x5_x_type  x5_xc_reihe  x5_yaris  x5_yeti  \\\n",
       "121695         0.0         0.0        0.0          0.0       0.0      0.0   \n",
       "320516         0.0         0.0        0.0          0.0       0.0      0.0   \n",
       "32312          0.0         0.0        0.0          0.0       0.0      0.0   \n",
       "\n",
       "        x5_ypsilon  x5_z_reihe  x5_zafira  \n",
       "121695         0.0         0.0        0.0  \n",
       "320516         0.0         0.0        0.0  \n",
       "32312          0.0         0.0        0.0  \n",
       "\n",
       "[3 rows x 316 columns]"
      ]
     },
     "execution_count": 22,
     "metadata": {},
     "output_type": "execute_result"
    }
   ],
   "source": [
    "numeric = ['power', 'kilometer', 'registrationyear']\n",
    "\n",
    "scaler = StandardScaler()\n",
    "scaler.fit(df_train[numeric])\n",
    "features_train[numeric] = scaler.transform(df_train[numeric])\n",
    "features_test[numeric] = scaler.transform(df_test[numeric])\n",
    "\n",
    "pd.options.mode.chained_assignment = None\n",
    "features_train.head(3)"
   ]
  },
  {
   "cell_type": "markdown",
   "id": "c3683746",
   "metadata": {},
   "source": [
    "### Линейная регрессия"
   ]
  },
  {
   "cell_type": "code",
   "execution_count": 23,
   "id": "a48d6947",
   "metadata": {
    "scrolled": true
   },
   "outputs": [
    {
     "name": "stdout",
     "output_type": "stream",
     "text": [
      "RMSE: 2055.965\n",
      "Время обучения: 24.554\n",
      "Время предсказания: 0.2\n"
     ]
    }
   ],
   "source": [
    "model = LinearRegression()\n",
    "curr_time = time.time()\n",
    "model.fit(features_train, target_train)\n",
    "fit_time_linear = round((time.time() - curr_time), 3)\n",
    "curr_time = time.time()\n",
    "predicted_test = model.predict(features_test)\n",
    "\n",
    "predict_time_linear = round((time.time() - curr_time), 3)\n",
    "rmse_linear = round(mean_squared_error(target_test, predicted_test)**0.5, 3)\n",
    "\n",
    "print('RMSE:', rmse_linear)\n",
    "print('Время обучения:', fit_time_linear)\n",
    "print('Время предсказания:', predict_time_linear)"
   ]
  },
  {
   "cell_type": "markdown",
   "id": "28ebe589",
   "metadata": {},
   "source": [
    "### LightGBM "
   ]
  },
  {
   "cell_type": "code",
   "execution_count": 24,
   "id": "5ce2c84c",
   "metadata": {},
   "outputs": [
    {
     "name": "stdout",
     "output_type": "stream",
     "text": [
      "RMSE: 1236.041\n",
      "Время обучения: 216.823\n",
      "Время предсказания: 34.89\n"
     ]
    }
   ],
   "source": [
    "model = LGBMRegressor(\n",
    "    boosting_type='gbdt', \n",
    "    random_state=12345, \n",
    "    max_depth=31, \n",
    "    n_estimators=3000,\n",
    "    learning_rate = 0.03,\n",
    "    num_leaves = 100)\n",
    "curr_time = time.time()\n",
    "model.fit(features_train, target_train)\n",
    "fit_time_lgbm = round((time.time() - curr_time), 3)\n",
    "curr_time = time.time()\n",
    "predicted_test = model.predict(features_test)\n",
    "predict_time_lgbm = round((time.time() - curr_time), 3)\n",
    "rmse_lgbm = round(mean_squared_error(target_test, predicted_test)**0.5, 3)\n",
    "\n",
    "print('RMSE:', rmse_lgbm)\n",
    "print('Время обучения:', fit_time_lgbm)\n",
    "print('Время предсказания:', predict_time_lgbm)"
   ]
  },
  {
   "cell_type": "markdown",
   "id": "ed7fafb4",
   "metadata": {},
   "source": [
    "### Дерево решений"
   ]
  },
  {
   "cell_type": "markdown",
   "id": "595e40aa",
   "metadata": {},
   "source": [
    "C помощью RandomizedSearchCV подберем наилучшие параметры:"
   ]
  },
  {
   "cell_type": "raw",
   "id": "8db8c4aa",
   "metadata": {},
   "source": [
    "params =  {'max_depth': range (1,13, 2),\n",
    "           'min_samples_leaf': range (1,8),\n",
    "           'min_samples_split': range (2,10,2)}\n",
    "           \n",
    "model = DecisionTreeRegressor()\n",
    "\n",
    "grid = RandomizedSearchCV(model,\n",
    "    param_distributions=params, \n",
    "    scoring='neg_root_mean_squared_error', \n",
    "    n_jobs=-1, \n",
    "    random_state=12345\n",
    ")\n",
    "\n",
    "grid.fit(features_train, target_train)\n",
    "\n",
    "print(grid.best_params_)"
   ]
  },
  {
   "cell_type": "code",
   "execution_count": 25,
   "id": "1386217a",
   "metadata": {},
   "outputs": [
    {
     "name": "stdout",
     "output_type": "stream",
     "text": [
      "RMSE: 1562.106\n",
      "Время обучения: 5.123\n",
      "Время предсказания: 0.06\n"
     ]
    }
   ],
   "source": [
    "model = DecisionTreeRegressor(max_depth=11, random_state=12345, min_samples_leaf=8, min_samples_split=8)\n",
    "curr_time = time.time()\n",
    "model.fit(features_train, target_train)\n",
    "fit_time_dt = round((time.time() - curr_time), 3)\n",
    "curr_time = time.time()\n",
    "predicted_test = model.predict(features_test)\n",
    "predict_time_dt = round((time.time() - curr_time), 3)\n",
    "rmse_dt = round(mean_squared_error(target_test, predicted_test)**0.5, 3)\n",
    "\n",
    "print('RMSE:', rmse_dt)\n",
    "print('Время обучения:', fit_time_dt)\n",
    "print('Время предсказания:', predict_time_dt)"
   ]
  },
  {
   "cell_type": "markdown",
   "id": "1d54acbc",
   "metadata": {},
   "source": [
    "### Модель случайного леса"
   ]
  },
  {
   "cell_type": "raw",
   "id": "aa4ff779",
   "metadata": {},
   "source": [
    "params =  {'n_estimators': range(10, 155, 15),\n",
    "           'max_depth': range (1,15),\n",
    "           'min_samples_leaf': range (1,8),\n",
    "           'min_samples_split': range (2,10,2)}\n",
    "           \n",
    "model = RandomForestRegressor()\n",
    "\n",
    "grid = RandomizedSearchCV(model,\n",
    "    param_distributions=params, \n",
    "    scoring='neg_root_mean_squared_error', \n",
    "    n_jobs=-1, \n",
    "    random_state=12345\n",
    ")\n",
    "\n",
    "grid.fit(features_train, target_train)\n",
    "\n",
    "print(grid.best_params_)"
   ]
  },
  {
   "cell_type": "code",
   "execution_count": 26,
   "id": "ce66d3ac",
   "metadata": {},
   "outputs": [
    {
     "name": "stdout",
     "output_type": "stream",
     "text": [
      "RMSE: 1413.669\n",
      "Время обучения: 259.193\n",
      "Время предсказания: 0.613\n"
     ]
    }
   ],
   "source": [
    "model = RandomForestRegressor(n_estimators=70, max_depth=13, random_state=12345, min_samples_leaf=2, min_samples_split=6)\n",
    "curr_time = time.time()\n",
    "model.fit(features_train, target_train)\n",
    "fit_time_rf = round((time.time() - curr_time), 3)\n",
    "curr_time = time.time()\n",
    "predicted_test = model.predict(features_test)\n",
    "predict_time_rf = round((time.time() - curr_time), 3)\n",
    "rmse_rf = round(mean_squared_error(target_test, predicted_test)**0.5, 3)\n",
    "\n",
    "print('RMSE:', rmse_rf)\n",
    "print('Время обучения:', fit_time_rf)\n",
    "print('Время предсказания:', predict_time_rf)"
   ]
  },
  {
   "cell_type": "markdown",
   "id": "d622cb1c",
   "metadata": {},
   "source": [
    "### CatBoost"
   ]
  },
  {
   "cell_type": "code",
   "execution_count": 27,
   "id": "24b851d6",
   "metadata": {},
   "outputs": [
    {
     "name": "stdout",
     "output_type": "stream",
     "text": [
      "0:\tlearn: 2288.5655021\ttotal: 100ms\tremaining: 1m 40s\n",
      "100:\tlearn: 1237.3493793\ttotal: 4.13s\tremaining: 36.7s\n",
      "200:\tlearn: 1176.1833949\ttotal: 8.11s\tremaining: 32.3s\n",
      "300:\tlearn: 1135.6877487\ttotal: 12.1s\tremaining: 28s\n",
      "400:\tlearn: 1105.7500728\ttotal: 16s\tremaining: 23.9s\n",
      "500:\tlearn: 1082.1144566\ttotal: 19.9s\tremaining: 19.8s\n",
      "600:\tlearn: 1062.5024439\ttotal: 23.9s\tremaining: 15.9s\n",
      "700:\tlearn: 1044.1853482\ttotal: 28s\tremaining: 11.9s\n",
      "800:\tlearn: 1028.8972186\ttotal: 31.8s\tremaining: 7.91s\n",
      "900:\tlearn: 1016.1677820\ttotal: 35.9s\tremaining: 3.94s\n",
      "999:\tlearn: 1004.6360733\ttotal: 39.9s\tremaining: 0us\n",
      "RMSE: 1253.41\n",
      "Время обучения: 43.391\n",
      "Время предсказания: 0.277\n"
     ]
    }
   ],
   "source": [
    "model = CatBoostRegressor(depth=9, n_estimators=1000, random_seed=60, learning_rate=0.55, verbose=100)\n",
    "model.fit(features_train, target_train)\n",
    "fit_time_cb = round((time.time() - curr_time), 3)\n",
    "curr_time = time.time()\n",
    "predicted_test = model.predict(features_test)\n",
    "predict_time_cb = round((time.time() - curr_time), 3)\n",
    "rmse_cb = round(mean_squared_error(target_test, predicted_test)**0.5, 3)\n",
    "\n",
    "print('RMSE:', rmse_cb)\n",
    "print('Время обучения:', fit_time_cb)\n",
    "print('Время предсказания:', predict_time_cb)"
   ]
  },
  {
   "cell_type": "markdown",
   "id": "e64f684d",
   "metadata": {},
   "source": [
    "## Анализ моделей"
   ]
  },
  {
   "cell_type": "markdown",
   "id": "7a5228d6",
   "metadata": {},
   "source": [
    "Объединим полученные результаты в одну таблицу:"
   ]
  },
  {
   "cell_type": "code",
   "execution_count": 28,
   "id": "40414910",
   "metadata": {},
   "outputs": [],
   "source": [
    "results = pd.DataFrame([\n",
    "    [rmse_linear, fit_time_linear, predict_time_linear],\n",
    "    [rmse_lgbm, fit_time_lgbm, predict_time_lgbm],\n",
    "    [rmse_dt, fit_time_dt, predict_time_dt],\n",
    "    [rmse_rf, fit_time_rf, predict_time_rf],\n",
    "    [rmse_cb, fit_time_cb, predict_time_cb]], \n",
    "    columns=['RMSE', 'Время обучения', 'Время предсказания'],\n",
    "    index=['LinearRegression','LightGBM', 'DecisionTree', 'RandomForest', 'CatBoost'])"
   ]
  },
  {
   "cell_type": "code",
   "execution_count": 29,
   "id": "35f6e444",
   "metadata": {},
   "outputs": [
    {
     "data": {
      "text/html": [
       "<div>\n",
       "<style scoped>\n",
       "    .dataframe tbody tr th:only-of-type {\n",
       "        vertical-align: middle;\n",
       "    }\n",
       "\n",
       "    .dataframe tbody tr th {\n",
       "        vertical-align: top;\n",
       "    }\n",
       "\n",
       "    .dataframe thead th {\n",
       "        text-align: right;\n",
       "    }\n",
       "</style>\n",
       "<table border=\"1\" class=\"dataframe\">\n",
       "  <thead>\n",
       "    <tr style=\"text-align: right;\">\n",
       "      <th></th>\n",
       "      <th>RMSE</th>\n",
       "      <th>Время обучения</th>\n",
       "      <th>Время предсказания</th>\n",
       "    </tr>\n",
       "  </thead>\n",
       "  <tbody>\n",
       "    <tr>\n",
       "      <th>LightGBM</th>\n",
       "      <td>1236.041</td>\n",
       "      <td>216.823</td>\n",
       "      <td>34.890</td>\n",
       "    </tr>\n",
       "    <tr>\n",
       "      <th>CatBoost</th>\n",
       "      <td>1253.410</td>\n",
       "      <td>43.391</td>\n",
       "      <td>0.277</td>\n",
       "    </tr>\n",
       "    <tr>\n",
       "      <th>RandomForest</th>\n",
       "      <td>1413.669</td>\n",
       "      <td>259.193</td>\n",
       "      <td>0.613</td>\n",
       "    </tr>\n",
       "    <tr>\n",
       "      <th>DecisionTree</th>\n",
       "      <td>1562.106</td>\n",
       "      <td>5.123</td>\n",
       "      <td>0.060</td>\n",
       "    </tr>\n",
       "    <tr>\n",
       "      <th>LinearRegression</th>\n",
       "      <td>2055.965</td>\n",
       "      <td>24.554</td>\n",
       "      <td>0.200</td>\n",
       "    </tr>\n",
       "  </tbody>\n",
       "</table>\n",
       "</div>"
      ],
      "text/plain": [
       "                      RMSE  Время обучения  Время предсказания\n",
       "LightGBM          1236.041         216.823              34.890\n",
       "CatBoost          1253.410          43.391               0.277\n",
       "RandomForest      1413.669         259.193               0.613\n",
       "DecisionTree      1562.106           5.123               0.060\n",
       "LinearRegression  2055.965          24.554               0.200"
      ]
     },
     "execution_count": 29,
     "metadata": {},
     "output_type": "execute_result"
    }
   ],
   "source": [
    "results.sort_values(by='RMSE')"
   ]
  },
  {
   "cell_type": "markdown",
   "id": "b8f13e6e",
   "metadata": {},
   "source": [
    "По результатам исследования можно сделать вывод, что лучшими моделями для решения задачи являются LightGBM и CatBoost, причем LightGBM показывает наилучшее соотношение качества/скорости, CatBoost же показывает лучшие результаты по времени предсказания.\n",
    "\n",
    "Модель решающего дерева показывает лучший результат по скорости обучения и предсказания, но проигрывает по качеству, однако укладывается в заданное значение RMSE < 2500.\n",
    "\n",
    "Модель линейной регрессии показывает худшее значение, но укладывается в заданное значение RMSE.\n",
    "\n",
    "Таким образом, если в решении задачи заказчику важнее точность модели, то лучшим решением будет выбор LightGBM.\n",
    "Если важнее скорость обучения и предсказания - то подойдет более простая модель решающего дерева."
   ]
  }
 ],
 "metadata": {
  "ExecuteTimeLog": [
   {
    "duration": 81,
    "start_time": "2023-01-10T23:38:22.206Z"
   },
   {
    "duration": 75,
    "start_time": "2023-01-10T23:39:06.240Z"
   },
   {
    "duration": 2496,
    "start_time": "2023-01-10T23:51:42.641Z"
   },
   {
    "duration": 2981,
    "start_time": "2023-01-10T23:51:45.139Z"
   },
   {
    "duration": 119,
    "start_time": "2023-01-10T23:51:48.121Z"
   },
   {
    "duration": 103,
    "start_time": "2023-01-10T23:51:48.243Z"
   },
   {
    "duration": 4,
    "start_time": "2023-01-10T23:51:48.348Z"
   },
   {
    "duration": 117,
    "start_time": "2023-01-10T23:51:48.353Z"
   },
   {
    "duration": 164,
    "start_time": "2023-01-10T23:51:48.471Z"
   },
   {
    "duration": 201,
    "start_time": "2023-01-10T23:51:48.637Z"
   },
   {
    "duration": 37,
    "start_time": "2023-01-10T23:51:48.839Z"
   },
   {
    "duration": 1817,
    "start_time": "2023-01-10T23:51:48.878Z"
   },
   {
    "duration": 1433,
    "start_time": "2023-01-10T23:51:50.697Z"
   },
   {
    "duration": 1527,
    "start_time": "2023-01-10T23:51:52.131Z"
   },
   {
    "duration": 1591,
    "start_time": "2023-01-10T23:51:53.659Z"
   },
   {
    "duration": 28,
    "start_time": "2023-01-10T23:51:55.252Z"
   },
   {
    "duration": 47,
    "start_time": "2023-01-10T23:51:55.282Z"
   },
   {
    "duration": 29,
    "start_time": "2023-01-10T23:51:55.330Z"
   },
   {
    "duration": 4129,
    "start_time": "2023-01-10T23:51:55.360Z"
   },
   {
    "duration": 114,
    "start_time": "2023-01-10T23:52:05.874Z"
   },
   {
    "duration": 18,
    "start_time": "2023-01-10T23:52:27.664Z"
   },
   {
    "duration": 254,
    "start_time": "2023-01-10T23:55:30.206Z"
   },
   {
    "duration": 1886,
    "start_time": "2023-01-10T23:56:18.709Z"
   },
   {
    "duration": 1649,
    "start_time": "2023-01-10T23:57:56.477Z"
   },
   {
    "duration": 2937,
    "start_time": "2023-01-10T23:57:59.599Z"
   },
   {
    "duration": 135,
    "start_time": "2023-01-10T23:58:02.537Z"
   },
   {
    "duration": 109,
    "start_time": "2023-01-10T23:58:02.673Z"
   },
   {
    "duration": 5,
    "start_time": "2023-01-10T23:58:02.784Z"
   },
   {
    "duration": 120,
    "start_time": "2023-01-10T23:58:02.790Z"
   },
   {
    "duration": 175,
    "start_time": "2023-01-10T23:58:02.912Z"
   },
   {
    "duration": 192,
    "start_time": "2023-01-10T23:58:03.089Z"
   },
   {
    "duration": 50,
    "start_time": "2023-01-10T23:58:03.283Z"
   },
   {
    "duration": 1778,
    "start_time": "2023-01-10T23:58:03.335Z"
   },
   {
    "duration": 1446,
    "start_time": "2023-01-10T23:58:05.116Z"
   },
   {
    "duration": 1490,
    "start_time": "2023-01-10T23:58:06.564Z"
   },
   {
    "duration": 1596,
    "start_time": "2023-01-10T23:58:08.056Z"
   },
   {
    "duration": 28,
    "start_time": "2023-01-10T23:58:09.654Z"
   },
   {
    "duration": 43,
    "start_time": "2023-01-10T23:58:09.683Z"
   },
   {
    "duration": 26,
    "start_time": "2023-01-10T23:58:09.727Z"
   },
   {
    "duration": 4041,
    "start_time": "2023-01-10T23:58:09.754Z"
   },
   {
    "duration": 1910,
    "start_time": "2023-01-10T23:58:13.800Z"
   },
   {
    "duration": 25,
    "start_time": "2023-01-10T23:58:15.712Z"
   },
   {
    "duration": 2219,
    "start_time": "2023-01-10T23:58:15.738Z"
   },
   {
    "duration": 537,
    "start_time": "2023-01-10T23:58:33.488Z"
   },
   {
    "duration": 6,
    "start_time": "2023-01-10T23:58:54.648Z"
   },
   {
    "duration": 1823,
    "start_time": "2023-01-11T02:13:25.479Z"
   },
   {
    "duration": 3170,
    "start_time": "2023-01-11T02:13:27.305Z"
   },
   {
    "duration": 193,
    "start_time": "2023-01-11T02:13:30.477Z"
   },
   {
    "duration": 158,
    "start_time": "2023-01-11T02:13:30.673Z"
   },
   {
    "duration": 6,
    "start_time": "2023-01-11T02:13:30.833Z"
   },
   {
    "duration": 176,
    "start_time": "2023-01-11T02:13:30.854Z"
   },
   {
    "duration": 233,
    "start_time": "2023-01-11T02:13:31.032Z"
   },
   {
    "duration": 233,
    "start_time": "2023-01-11T02:13:31.267Z"
   },
   {
    "duration": 53,
    "start_time": "2023-01-11T02:13:31.502Z"
   },
   {
    "duration": 1987,
    "start_time": "2023-01-11T02:13:31.558Z"
   },
   {
    "duration": 1728,
    "start_time": "2023-01-11T02:13:33.547Z"
   },
   {
    "duration": 1800,
    "start_time": "2023-01-11T02:13:35.276Z"
   },
   {
    "duration": 1877,
    "start_time": "2023-01-11T02:13:37.078Z"
   },
   {
    "duration": 35,
    "start_time": "2023-01-11T02:13:38.960Z"
   },
   {
    "duration": 56,
    "start_time": "2023-01-11T02:13:38.996Z"
   },
   {
    "duration": 30,
    "start_time": "2023-01-11T02:13:39.055Z"
   },
   {
    "duration": 4732,
    "start_time": "2023-01-11T02:13:39.087Z"
   },
   {
    "duration": 2250,
    "start_time": "2023-01-11T02:13:43.821Z"
   },
   {
    "duration": 29,
    "start_time": "2023-01-11T02:13:46.073Z"
   },
   {
    "duration": 2693,
    "start_time": "2023-01-11T02:13:46.104Z"
   },
   {
    "duration": 136,
    "start_time": "2023-01-11T02:13:48.799Z"
   },
   {
    "duration": 0,
    "start_time": "2023-01-11T02:13:48.937Z"
   },
   {
    "duration": 0,
    "start_time": "2023-01-11T02:13:48.938Z"
   },
   {
    "duration": 0,
    "start_time": "2023-01-11T02:13:48.940Z"
   },
   {
    "duration": 0,
    "start_time": "2023-01-11T02:13:48.963Z"
   },
   {
    "duration": 0,
    "start_time": "2023-01-11T02:13:48.965Z"
   },
   {
    "duration": 0,
    "start_time": "2023-01-11T02:13:48.967Z"
   },
   {
    "duration": 0,
    "start_time": "2023-01-11T02:13:48.969Z"
   },
   {
    "duration": 1,
    "start_time": "2023-01-11T02:13:48.970Z"
   },
   {
    "duration": 0,
    "start_time": "2023-01-11T02:13:48.972Z"
   },
   {
    "duration": 0,
    "start_time": "2023-01-11T02:13:48.974Z"
   },
   {
    "duration": 1269,
    "start_time": "2023-01-11T02:14:43.516Z"
   },
   {
    "duration": 1674,
    "start_time": "2023-01-11T10:12:42.661Z"
   },
   {
    "duration": 1467,
    "start_time": "2023-01-11T10:12:44.337Z"
   },
   {
    "duration": 189,
    "start_time": "2023-01-11T10:12:45.805Z"
   },
   {
    "duration": 171,
    "start_time": "2023-01-11T10:12:45.996Z"
   },
   {
    "duration": 5,
    "start_time": "2023-01-11T10:12:46.168Z"
   },
   {
    "duration": 178,
    "start_time": "2023-01-11T10:12:46.174Z"
   },
   {
    "duration": 211,
    "start_time": "2023-01-11T10:12:46.354Z"
   },
   {
    "duration": 203,
    "start_time": "2023-01-11T10:12:46.567Z"
   },
   {
    "duration": 38,
    "start_time": "2023-01-11T10:12:46.775Z"
   },
   {
    "duration": 2077,
    "start_time": "2023-01-11T10:12:46.816Z"
   },
   {
    "duration": 1770,
    "start_time": "2023-01-11T10:12:48.895Z"
   },
   {
    "duration": 1784,
    "start_time": "2023-01-11T10:12:50.667Z"
   },
   {
    "duration": 1785,
    "start_time": "2023-01-11T10:12:52.457Z"
   },
   {
    "duration": 32,
    "start_time": "2023-01-11T10:12:54.251Z"
   },
   {
    "duration": 30,
    "start_time": "2023-01-11T10:12:54.289Z"
   },
   {
    "duration": 38,
    "start_time": "2023-01-11T10:12:54.321Z"
   },
   {
    "duration": 4900,
    "start_time": "2023-01-11T10:12:54.362Z"
   },
   {
    "duration": 1917,
    "start_time": "2023-01-11T10:12:59.264Z"
   },
   {
    "duration": 25,
    "start_time": "2023-01-11T10:13:01.183Z"
   },
   {
    "duration": 2630,
    "start_time": "2023-01-11T10:13:01.210Z"
   },
   {
    "duration": 136,
    "start_time": "2023-01-11T10:13:03.844Z"
   },
   {
    "duration": 0,
    "start_time": "2023-01-11T10:13:03.981Z"
   },
   {
    "duration": 0,
    "start_time": "2023-01-11T10:13:03.983Z"
   },
   {
    "duration": 0,
    "start_time": "2023-01-11T10:13:03.984Z"
   },
   {
    "duration": 0,
    "start_time": "2023-01-11T10:13:03.985Z"
   },
   {
    "duration": 0,
    "start_time": "2023-01-11T10:13:03.986Z"
   },
   {
    "duration": 0,
    "start_time": "2023-01-11T10:13:03.987Z"
   },
   {
    "duration": 0,
    "start_time": "2023-01-11T10:13:03.989Z"
   },
   {
    "duration": 0,
    "start_time": "2023-01-11T10:13:03.990Z"
   },
   {
    "duration": 0,
    "start_time": "2023-01-11T10:13:03.991Z"
   },
   {
    "duration": 0,
    "start_time": "2023-01-11T10:13:03.992Z"
   },
   {
    "duration": 1456,
    "start_time": "2023-01-11T10:46:20.139Z"
   },
   {
    "duration": 843,
    "start_time": "2023-01-11T10:46:21.597Z"
   },
   {
    "duration": 150,
    "start_time": "2023-01-11T10:46:22.441Z"
   },
   {
    "duration": 133,
    "start_time": "2023-01-11T10:46:22.593Z"
   },
   {
    "duration": 5,
    "start_time": "2023-01-11T10:46:22.727Z"
   },
   {
    "duration": 155,
    "start_time": "2023-01-11T10:46:22.733Z"
   },
   {
    "duration": 209,
    "start_time": "2023-01-11T10:46:22.890Z"
   },
   {
    "duration": 181,
    "start_time": "2023-01-11T10:46:23.100Z"
   },
   {
    "duration": 44,
    "start_time": "2023-01-11T10:46:23.283Z"
   },
   {
    "duration": 1969,
    "start_time": "2023-01-11T10:46:23.329Z"
   },
   {
    "duration": 2615,
    "start_time": "2023-01-11T10:46:25.299Z"
   },
   {
    "duration": 1602,
    "start_time": "2023-01-11T10:46:27.916Z"
   },
   {
    "duration": 1787,
    "start_time": "2023-01-11T10:46:29.522Z"
   },
   {
    "duration": 39,
    "start_time": "2023-01-11T10:46:31.311Z"
   },
   {
    "duration": 32,
    "start_time": "2023-01-11T10:46:31.352Z"
   },
   {
    "duration": 49,
    "start_time": "2023-01-11T10:46:31.385Z"
   },
   {
    "duration": 4640,
    "start_time": "2023-01-11T10:46:31.437Z"
   },
   {
    "duration": 370,
    "start_time": "2023-01-11T10:46:36.079Z"
   },
   {
    "duration": 0,
    "start_time": "2023-01-11T10:46:36.451Z"
   },
   {
    "duration": 0,
    "start_time": "2023-01-11T10:46:36.452Z"
   },
   {
    "duration": 0,
    "start_time": "2023-01-11T10:46:36.452Z"
   },
   {
    "duration": 0,
    "start_time": "2023-01-11T10:46:36.453Z"
   },
   {
    "duration": 0,
    "start_time": "2023-01-11T10:46:36.456Z"
   },
   {
    "duration": 0,
    "start_time": "2023-01-11T10:46:36.457Z"
   },
   {
    "duration": 0,
    "start_time": "2023-01-11T10:46:36.459Z"
   },
   {
    "duration": 0,
    "start_time": "2023-01-11T10:46:36.460Z"
   },
   {
    "duration": 0,
    "start_time": "2023-01-11T10:46:36.461Z"
   },
   {
    "duration": 0,
    "start_time": "2023-01-11T10:46:36.462Z"
   },
   {
    "duration": 0,
    "start_time": "2023-01-11T10:46:36.463Z"
   },
   {
    "duration": 0,
    "start_time": "2023-01-11T10:46:36.464Z"
   },
   {
    "duration": 0,
    "start_time": "2023-01-11T10:46:36.466Z"
   },
   {
    "duration": 1828,
    "start_time": "2023-01-11T10:48:56.340Z"
   },
   {
    "duration": 13,
    "start_time": "2023-01-11T10:49:08.302Z"
   },
   {
    "duration": 15,
    "start_time": "2023-01-11T10:49:22.381Z"
   },
   {
    "duration": 1479,
    "start_time": "2023-01-11T11:29:40.201Z"
   },
   {
    "duration": 907,
    "start_time": "2023-01-11T11:29:41.682Z"
   },
   {
    "duration": 178,
    "start_time": "2023-01-11T11:29:42.591Z"
   },
   {
    "duration": 154,
    "start_time": "2023-01-11T11:29:42.772Z"
   },
   {
    "duration": 12,
    "start_time": "2023-01-11T11:29:42.928Z"
   },
   {
    "duration": 201,
    "start_time": "2023-01-11T11:29:42.942Z"
   },
   {
    "duration": 224,
    "start_time": "2023-01-11T11:29:43.144Z"
   },
   {
    "duration": 196,
    "start_time": "2023-01-11T11:29:43.370Z"
   },
   {
    "duration": 41,
    "start_time": "2023-01-11T11:29:43.567Z"
   },
   {
    "duration": 1889,
    "start_time": "2023-01-11T11:29:43.622Z"
   },
   {
    "duration": 1635,
    "start_time": "2023-01-11T11:29:45.513Z"
   },
   {
    "duration": 1678,
    "start_time": "2023-01-11T11:29:47.150Z"
   },
   {
    "duration": 2531,
    "start_time": "2023-01-11T11:29:48.830Z"
   },
   {
    "duration": 84,
    "start_time": "2023-01-11T11:29:51.363Z"
   },
   {
    "duration": 89,
    "start_time": "2023-01-11T11:29:51.449Z"
   },
   {
    "duration": 82,
    "start_time": "2023-01-11T11:29:51.540Z"
   },
   {
    "duration": 4627,
    "start_time": "2023-01-11T11:29:51.628Z"
   },
   {
    "duration": 10,
    "start_time": "2023-01-11T11:29:56.257Z"
   },
   {
    "duration": 85,
    "start_time": "2023-01-11T11:29:56.270Z"
   },
   {
    "duration": 24,
    "start_time": "2023-01-11T11:29:56.357Z"
   },
   {
    "duration": 201,
    "start_time": "2023-01-11T11:29:56.383Z"
   },
   {
    "duration": 0,
    "start_time": "2023-01-11T11:29:56.586Z"
   },
   {
    "duration": 0,
    "start_time": "2023-01-11T11:29:56.587Z"
   },
   {
    "duration": 0,
    "start_time": "2023-01-11T11:29:56.588Z"
   },
   {
    "duration": 0,
    "start_time": "2023-01-11T11:29:56.590Z"
   },
   {
    "duration": 0,
    "start_time": "2023-01-11T11:29:56.590Z"
   },
   {
    "duration": 0,
    "start_time": "2023-01-11T11:29:56.592Z"
   },
   {
    "duration": 0,
    "start_time": "2023-01-11T11:29:56.593Z"
   },
   {
    "duration": 0,
    "start_time": "2023-01-11T11:29:56.594Z"
   },
   {
    "duration": 1162,
    "start_time": "2023-01-11T11:30:29.742Z"
   },
   {
    "duration": 2305,
    "start_time": "2023-01-11T11:30:52.549Z"
   },
   {
    "duration": 388,
    "start_time": "2023-01-11T11:32:18.401Z"
   },
   {
    "duration": 56,
    "start_time": "2023-01-11T11:32:39.750Z"
   },
   {
    "duration": 8,
    "start_time": "2023-01-11T11:33:02.568Z"
   },
   {
    "duration": 437,
    "start_time": "2023-01-11T11:34:55.413Z"
   },
   {
    "duration": 111,
    "start_time": "2023-01-11T11:35:10.644Z"
   },
   {
    "duration": 330,
    "start_time": "2023-01-11T11:35:40.005Z"
   },
   {
    "duration": 4,
    "start_time": "2023-01-11T11:35:43.972Z"
   },
   {
    "duration": 4,
    "start_time": "2023-01-11T11:35:51.970Z"
   },
   {
    "duration": 15,
    "start_time": "2023-01-11T11:36:37.888Z"
   },
   {
    "duration": 1729,
    "start_time": "2023-01-11T11:36:44.346Z"
   },
   {
    "duration": 924,
    "start_time": "2023-01-11T11:36:46.077Z"
   },
   {
    "duration": 164,
    "start_time": "2023-01-11T11:36:47.003Z"
   },
   {
    "duration": 129,
    "start_time": "2023-01-11T11:36:47.169Z"
   },
   {
    "duration": 14,
    "start_time": "2023-01-11T11:36:47.299Z"
   },
   {
    "duration": 186,
    "start_time": "2023-01-11T11:36:47.323Z"
   },
   {
    "duration": 213,
    "start_time": "2023-01-11T11:36:47.511Z"
   },
   {
    "duration": 200,
    "start_time": "2023-01-11T11:36:47.731Z"
   },
   {
    "duration": 37,
    "start_time": "2023-01-11T11:36:47.933Z"
   },
   {
    "duration": 1862,
    "start_time": "2023-01-11T11:36:47.973Z"
   },
   {
    "duration": 1621,
    "start_time": "2023-01-11T11:36:49.837Z"
   },
   {
    "duration": 1734,
    "start_time": "2023-01-11T11:36:51.460Z"
   },
   {
    "duration": 1690,
    "start_time": "2023-01-11T11:36:53.196Z"
   },
   {
    "duration": 36,
    "start_time": "2023-01-11T11:36:54.888Z"
   },
   {
    "duration": 35,
    "start_time": "2023-01-11T11:36:54.927Z"
   },
   {
    "duration": 36,
    "start_time": "2023-01-11T11:36:54.964Z"
   },
   {
    "duration": 4293,
    "start_time": "2023-01-11T11:36:55.001Z"
   },
   {
    "duration": 11,
    "start_time": "2023-01-11T11:36:59.296Z"
   },
   {
    "duration": 76,
    "start_time": "2023-01-11T11:36:59.309Z"
   },
   {
    "duration": 21,
    "start_time": "2023-01-11T11:36:59.387Z"
   },
   {
    "duration": 70,
    "start_time": "2023-01-11T11:36:59.409Z"
   },
   {
    "duration": 327,
    "start_time": "2023-01-11T11:36:59.481Z"
   },
   {
    "duration": 18,
    "start_time": "2023-01-11T11:36:59.810Z"
   },
   {
    "duration": 131,
    "start_time": "2023-01-11T11:36:59.830Z"
   },
   {
    "duration": 0,
    "start_time": "2023-01-11T11:36:59.962Z"
   },
   {
    "duration": 0,
    "start_time": "2023-01-11T11:36:59.964Z"
   },
   {
    "duration": 0,
    "start_time": "2023-01-11T11:36:59.965Z"
   },
   {
    "duration": 0,
    "start_time": "2023-01-11T11:36:59.966Z"
   },
   {
    "duration": 0,
    "start_time": "2023-01-11T11:36:59.967Z"
   },
   {
    "duration": 0,
    "start_time": "2023-01-11T11:36:59.968Z"
   },
   {
    "duration": 0,
    "start_time": "2023-01-11T11:36:59.970Z"
   },
   {
    "duration": 0,
    "start_time": "2023-01-11T11:36:59.972Z"
   },
   {
    "duration": 5,
    "start_time": "2023-01-11T11:38:58.115Z"
   },
   {
    "duration": 325,
    "start_time": "2023-01-11T11:39:10.192Z"
   },
   {
    "duration": 9032,
    "start_time": "2023-01-11T11:39:12.080Z"
   },
   {
    "duration": 12,
    "start_time": "2023-01-11T11:39:50.255Z"
   },
   {
    "duration": 10,
    "start_time": "2023-01-11T11:39:57.716Z"
   },
   {
    "duration": 14,
    "start_time": "2023-01-11T11:46:28.961Z"
   },
   {
    "duration": 11,
    "start_time": "2023-01-11T11:46:43.937Z"
   },
   {
    "duration": 6,
    "start_time": "2023-01-11T11:46:51.501Z"
   },
   {
    "duration": 14,
    "start_time": "2023-01-11T14:15:17.344Z"
   },
   {
    "duration": 1401,
    "start_time": "2023-01-11T14:16:26.436Z"
   },
   {
    "duration": 799,
    "start_time": "2023-01-11T14:16:27.838Z"
   },
   {
    "duration": 153,
    "start_time": "2023-01-11T14:16:28.639Z"
   },
   {
    "duration": 127,
    "start_time": "2023-01-11T14:16:28.794Z"
   },
   {
    "duration": 6,
    "start_time": "2023-01-11T14:16:28.922Z"
   },
   {
    "duration": 159,
    "start_time": "2023-01-11T14:16:28.929Z"
   },
   {
    "duration": 177,
    "start_time": "2023-01-11T14:16:29.089Z"
   },
   {
    "duration": 185,
    "start_time": "2023-01-11T14:16:29.268Z"
   },
   {
    "duration": 35,
    "start_time": "2023-01-11T14:16:29.455Z"
   },
   {
    "duration": 1756,
    "start_time": "2023-01-11T14:16:29.492Z"
   },
   {
    "duration": 1476,
    "start_time": "2023-01-11T14:16:31.250Z"
   },
   {
    "duration": 1556,
    "start_time": "2023-01-11T14:16:32.728Z"
   },
   {
    "duration": 1563,
    "start_time": "2023-01-11T14:16:34.286Z"
   },
   {
    "duration": 27,
    "start_time": "2023-01-11T14:16:35.850Z"
   },
   {
    "duration": 44,
    "start_time": "2023-01-11T14:16:35.879Z"
   },
   {
    "duration": 29,
    "start_time": "2023-01-11T14:16:35.925Z"
   },
   {
    "duration": 4058,
    "start_time": "2023-01-11T14:16:35.956Z"
   },
   {
    "duration": 11,
    "start_time": "2023-01-11T14:16:40.020Z"
   },
   {
    "duration": 69,
    "start_time": "2023-01-11T14:16:40.033Z"
   },
   {
    "duration": 19,
    "start_time": "2023-01-11T14:16:40.104Z"
   },
   {
    "duration": 62,
    "start_time": "2023-01-11T14:16:40.125Z"
   },
   {
    "duration": 4,
    "start_time": "2023-01-11T14:16:40.189Z"
   },
   {
    "duration": 47,
    "start_time": "2023-01-11T14:17:05.278Z"
   },
   {
    "duration": 1509,
    "start_time": "2023-01-11T14:17:36.779Z"
   },
   {
    "duration": 1063,
    "start_time": "2023-01-11T14:17:38.290Z"
   },
   {
    "duration": 163,
    "start_time": "2023-01-11T14:17:39.355Z"
   },
   {
    "duration": 152,
    "start_time": "2023-01-11T14:17:39.520Z"
   },
   {
    "duration": 4,
    "start_time": "2023-01-11T14:17:39.674Z"
   },
   {
    "duration": 156,
    "start_time": "2023-01-11T14:17:39.680Z"
   },
   {
    "duration": 189,
    "start_time": "2023-01-11T14:17:39.837Z"
   },
   {
    "duration": 187,
    "start_time": "2023-01-11T14:17:40.028Z"
   },
   {
    "duration": 42,
    "start_time": "2023-01-11T14:17:40.217Z"
   },
   {
    "duration": 1685,
    "start_time": "2023-01-11T14:17:40.262Z"
   },
   {
    "duration": 1462,
    "start_time": "2023-01-11T14:17:41.948Z"
   },
   {
    "duration": 1466,
    "start_time": "2023-01-11T14:17:43.412Z"
   },
   {
    "duration": 1567,
    "start_time": "2023-01-11T14:17:44.880Z"
   },
   {
    "duration": 28,
    "start_time": "2023-01-11T14:17:46.449Z"
   },
   {
    "duration": 30,
    "start_time": "2023-01-11T14:17:46.479Z"
   },
   {
    "duration": 24,
    "start_time": "2023-01-11T14:17:46.522Z"
   },
   {
    "duration": 4092,
    "start_time": "2023-01-11T14:17:46.548Z"
   },
   {
    "duration": 11,
    "start_time": "2023-01-11T14:17:50.641Z"
   },
   {
    "duration": 75,
    "start_time": "2023-01-11T14:17:50.653Z"
   },
   {
    "duration": 23,
    "start_time": "2023-01-11T14:17:50.730Z"
   },
   {
    "duration": 74,
    "start_time": "2023-01-11T14:17:50.754Z"
   },
   {
    "duration": 4,
    "start_time": "2023-01-11T14:17:50.830Z"
   },
   {
    "duration": 638,
    "start_time": "2023-01-11T14:17:50.836Z"
   },
   {
    "duration": 0,
    "start_time": "2023-01-11T14:17:51.476Z"
   },
   {
    "duration": 0,
    "start_time": "2023-01-11T14:17:51.477Z"
   },
   {
    "duration": 0,
    "start_time": "2023-01-11T14:17:51.478Z"
   },
   {
    "duration": 0,
    "start_time": "2023-01-11T14:17:51.480Z"
   },
   {
    "duration": 0,
    "start_time": "2023-01-11T14:17:51.481Z"
   },
   {
    "duration": 0,
    "start_time": "2023-01-11T14:17:51.483Z"
   },
   {
    "duration": 0,
    "start_time": "2023-01-11T14:17:51.484Z"
   },
   {
    "duration": 0,
    "start_time": "2023-01-11T14:17:51.486Z"
   },
   {
    "duration": 518,
    "start_time": "2023-01-11T14:20:48.632Z"
   },
   {
    "duration": 460,
    "start_time": "2023-01-11T14:20:57.177Z"
   },
   {
    "duration": 1380,
    "start_time": "2023-01-11T14:22:45.225Z"
   },
   {
    "duration": 823,
    "start_time": "2023-01-11T14:22:46.607Z"
   },
   {
    "duration": 150,
    "start_time": "2023-01-11T14:22:47.432Z"
   },
   {
    "duration": 124,
    "start_time": "2023-01-11T14:22:47.584Z"
   },
   {
    "duration": 15,
    "start_time": "2023-01-11T14:22:47.710Z"
   },
   {
    "duration": 130,
    "start_time": "2023-01-11T14:22:47.727Z"
   },
   {
    "duration": 188,
    "start_time": "2023-01-11T14:22:47.858Z"
   },
   {
    "duration": 192,
    "start_time": "2023-01-11T14:22:48.047Z"
   },
   {
    "duration": 38,
    "start_time": "2023-01-11T14:22:48.241Z"
   },
   {
    "duration": 1716,
    "start_time": "2023-01-11T14:22:48.281Z"
   },
   {
    "duration": 1462,
    "start_time": "2023-01-11T14:22:49.999Z"
   },
   {
    "duration": 1595,
    "start_time": "2023-01-11T14:22:51.463Z"
   },
   {
    "duration": 1677,
    "start_time": "2023-01-11T14:22:53.063Z"
   },
   {
    "duration": 79,
    "start_time": "2023-01-11T14:22:54.742Z"
   },
   {
    "duration": 33,
    "start_time": "2023-01-11T14:22:54.823Z"
   },
   {
    "duration": 81,
    "start_time": "2023-01-11T14:22:54.859Z"
   },
   {
    "duration": 5800,
    "start_time": "2023-01-11T14:22:54.942Z"
   },
   {
    "duration": 11,
    "start_time": "2023-01-11T14:23:00.743Z"
   },
   {
    "duration": 75,
    "start_time": "2023-01-11T14:23:00.755Z"
   },
   {
    "duration": 19,
    "start_time": "2023-01-11T14:23:00.832Z"
   },
   {
    "duration": 10,
    "start_time": "2023-01-11T14:23:00.853Z"
   },
   {
    "duration": 746,
    "start_time": "2023-01-11T14:23:00.864Z"
   },
   {
    "duration": 0,
    "start_time": "2023-01-11T14:23:01.612Z"
   },
   {
    "duration": 0,
    "start_time": "2023-01-11T14:23:01.613Z"
   },
   {
    "duration": 0,
    "start_time": "2023-01-11T14:23:01.614Z"
   },
   {
    "duration": 0,
    "start_time": "2023-01-11T14:23:01.615Z"
   },
   {
    "duration": 0,
    "start_time": "2023-01-11T14:23:01.621Z"
   },
   {
    "duration": 0,
    "start_time": "2023-01-11T14:23:01.622Z"
   },
   {
    "duration": 0,
    "start_time": "2023-01-11T14:23:01.623Z"
   },
   {
    "duration": 0,
    "start_time": "2023-01-11T14:23:01.624Z"
   },
   {
    "duration": 508,
    "start_time": "2023-01-11T14:23:40.924Z"
   },
   {
    "duration": 73,
    "start_time": "2023-01-11T14:26:40.020Z"
   },
   {
    "duration": 1498,
    "start_time": "2023-01-11T14:26:53.878Z"
   },
   {
    "duration": 1137,
    "start_time": "2023-01-11T14:26:55.378Z"
   },
   {
    "duration": 144,
    "start_time": "2023-01-11T14:26:56.516Z"
   },
   {
    "duration": 119,
    "start_time": "2023-01-11T14:26:56.662Z"
   },
   {
    "duration": 8,
    "start_time": "2023-01-11T14:26:56.782Z"
   },
   {
    "duration": 133,
    "start_time": "2023-01-11T14:26:56.791Z"
   },
   {
    "duration": 178,
    "start_time": "2023-01-11T14:26:56.925Z"
   },
   {
    "duration": 189,
    "start_time": "2023-01-11T14:26:57.104Z"
   },
   {
    "duration": 37,
    "start_time": "2023-01-11T14:26:57.295Z"
   },
   {
    "duration": 1743,
    "start_time": "2023-01-11T14:26:57.334Z"
   },
   {
    "duration": 1464,
    "start_time": "2023-01-11T14:26:59.078Z"
   },
   {
    "duration": 1582,
    "start_time": "2023-01-11T14:27:00.544Z"
   },
   {
    "duration": 1614,
    "start_time": "2023-01-11T14:27:02.128Z"
   },
   {
    "duration": 24,
    "start_time": "2023-01-11T14:27:03.744Z"
   },
   {
    "duration": 31,
    "start_time": "2023-01-11T14:27:03.769Z"
   },
   {
    "duration": 41,
    "start_time": "2023-01-11T14:27:03.801Z"
   },
   {
    "duration": 4084,
    "start_time": "2023-01-11T14:27:03.844Z"
   },
   {
    "duration": 53,
    "start_time": "2023-01-11T14:27:07.930Z"
   },
   {
    "duration": 18,
    "start_time": "2023-01-11T14:27:07.985Z"
   },
   {
    "duration": 18,
    "start_time": "2023-01-11T14:27:08.005Z"
   },
   {
    "duration": 50,
    "start_time": "2023-01-11T14:27:28.622Z"
   },
   {
    "duration": 1445,
    "start_time": "2023-01-11T14:27:33.219Z"
   },
   {
    "duration": 1069,
    "start_time": "2023-01-11T14:27:34.667Z"
   },
   {
    "duration": 143,
    "start_time": "2023-01-11T14:27:35.738Z"
   },
   {
    "duration": 123,
    "start_time": "2023-01-11T14:27:35.883Z"
   },
   {
    "duration": 4,
    "start_time": "2023-01-11T14:27:36.008Z"
   },
   {
    "duration": 121,
    "start_time": "2023-01-11T14:27:36.021Z"
   },
   {
    "duration": 191,
    "start_time": "2023-01-11T14:27:36.144Z"
   },
   {
    "duration": 177,
    "start_time": "2023-01-11T14:27:36.337Z"
   },
   {
    "duration": 35,
    "start_time": "2023-01-11T14:27:36.521Z"
   },
   {
    "duration": 1666,
    "start_time": "2023-01-11T14:27:36.561Z"
   },
   {
    "duration": 1518,
    "start_time": "2023-01-11T14:27:38.228Z"
   },
   {
    "duration": 1555,
    "start_time": "2023-01-11T14:27:39.747Z"
   },
   {
    "duration": 1626,
    "start_time": "2023-01-11T14:27:41.304Z"
   },
   {
    "duration": 27,
    "start_time": "2023-01-11T14:27:42.932Z"
   },
   {
    "duration": 29,
    "start_time": "2023-01-11T14:27:42.961Z"
   },
   {
    "duration": 40,
    "start_time": "2023-01-11T14:27:42.992Z"
   },
   {
    "duration": 4066,
    "start_time": "2023-01-11T14:27:43.034Z"
   },
   {
    "duration": 55,
    "start_time": "2023-01-11T14:27:47.102Z"
   },
   {
    "duration": 22,
    "start_time": "2023-01-11T14:27:47.158Z"
   },
   {
    "duration": 17,
    "start_time": "2023-01-11T14:27:47.181Z"
   },
   {
    "duration": 705,
    "start_time": "2023-01-11T14:27:47.199Z"
   },
   {
    "duration": 0,
    "start_time": "2023-01-11T14:27:47.905Z"
   },
   {
    "duration": 0,
    "start_time": "2023-01-11T14:27:47.907Z"
   },
   {
    "duration": 0,
    "start_time": "2023-01-11T14:27:47.907Z"
   },
   {
    "duration": 0,
    "start_time": "2023-01-11T14:27:47.908Z"
   },
   {
    "duration": 0,
    "start_time": "2023-01-11T14:27:47.909Z"
   },
   {
    "duration": 0,
    "start_time": "2023-01-11T14:27:47.921Z"
   },
   {
    "duration": 0,
    "start_time": "2023-01-11T14:27:47.922Z"
   },
   {
    "duration": 0,
    "start_time": "2023-01-11T14:27:47.923Z"
   },
   {
    "duration": 851,
    "start_time": "2023-01-11T14:31:12.106Z"
   },
   {
    "duration": 1358,
    "start_time": "2023-01-11T14:37:18.740Z"
   },
   {
    "duration": 806,
    "start_time": "2023-01-11T14:37:20.100Z"
   },
   {
    "duration": 146,
    "start_time": "2023-01-11T14:37:20.908Z"
   },
   {
    "duration": 131,
    "start_time": "2023-01-11T14:37:21.056Z"
   },
   {
    "duration": 5,
    "start_time": "2023-01-11T14:37:21.188Z"
   },
   {
    "duration": 136,
    "start_time": "2023-01-11T14:37:21.194Z"
   },
   {
    "duration": 198,
    "start_time": "2023-01-11T14:37:21.332Z"
   },
   {
    "duration": 194,
    "start_time": "2023-01-11T14:37:21.532Z"
   },
   {
    "duration": 39,
    "start_time": "2023-01-11T14:37:21.728Z"
   },
   {
    "duration": 1814,
    "start_time": "2023-01-11T14:37:21.770Z"
   },
   {
    "duration": 1459,
    "start_time": "2023-01-11T14:37:23.585Z"
   },
   {
    "duration": 1552,
    "start_time": "2023-01-11T14:37:25.046Z"
   },
   {
    "duration": 1500,
    "start_time": "2023-01-11T14:37:26.599Z"
   },
   {
    "duration": 34,
    "start_time": "2023-01-11T14:37:28.100Z"
   },
   {
    "duration": 31,
    "start_time": "2023-01-11T14:37:28.135Z"
   },
   {
    "duration": 24,
    "start_time": "2023-01-11T14:37:28.167Z"
   },
   {
    "duration": 4017,
    "start_time": "2023-01-11T14:37:28.192Z"
   },
   {
    "duration": 60,
    "start_time": "2023-01-11T14:37:32.211Z"
   },
   {
    "duration": 23,
    "start_time": "2023-01-11T14:37:32.272Z"
   },
   {
    "duration": 6,
    "start_time": "2023-01-11T14:37:32.296Z"
   },
   {
    "duration": 727,
    "start_time": "2023-01-11T14:37:32.303Z"
   },
   {
    "duration": 0,
    "start_time": "2023-01-11T14:37:33.032Z"
   },
   {
    "duration": 0,
    "start_time": "2023-01-11T14:37:33.033Z"
   },
   {
    "duration": 0,
    "start_time": "2023-01-11T14:37:33.034Z"
   },
   {
    "duration": 0,
    "start_time": "2023-01-11T14:37:33.035Z"
   },
   {
    "duration": 0,
    "start_time": "2023-01-11T14:37:33.036Z"
   },
   {
    "duration": 0,
    "start_time": "2023-01-11T14:37:33.037Z"
   },
   {
    "duration": 0,
    "start_time": "2023-01-11T14:37:33.038Z"
   },
   {
    "duration": 0,
    "start_time": "2023-01-11T14:37:33.039Z"
   },
   {
    "duration": 10,
    "start_time": "2023-01-11T14:41:59.023Z"
   },
   {
    "duration": 7,
    "start_time": "2023-01-11T14:42:24.282Z"
   },
   {
    "duration": 11,
    "start_time": "2023-01-11T14:42:33.377Z"
   },
   {
    "duration": 3,
    "start_time": "2023-01-11T14:42:38.431Z"
   },
   {
    "duration": 10,
    "start_time": "2023-01-11T14:42:39.823Z"
   },
   {
    "duration": 9,
    "start_time": "2023-01-11T14:42:53.467Z"
   },
   {
    "duration": 533,
    "start_time": "2023-01-11T14:43:03.130Z"
   },
   {
    "duration": 497,
    "start_time": "2023-01-11T14:43:13.753Z"
   },
   {
    "duration": 494,
    "start_time": "2023-01-11T14:43:23.567Z"
   },
   {
    "duration": 491,
    "start_time": "2023-01-11T14:45:20.538Z"
   },
   {
    "duration": 435,
    "start_time": "2023-01-11T14:54:48.072Z"
   },
   {
    "duration": 1445,
    "start_time": "2023-01-11T14:55:01.416Z"
   },
   {
    "duration": 834,
    "start_time": "2023-01-11T14:55:02.862Z"
   },
   {
    "duration": 154,
    "start_time": "2023-01-11T14:55:03.699Z"
   },
   {
    "duration": 128,
    "start_time": "2023-01-11T14:55:03.854Z"
   },
   {
    "duration": 4,
    "start_time": "2023-01-11T14:55:03.984Z"
   },
   {
    "duration": 141,
    "start_time": "2023-01-11T14:55:03.990Z"
   },
   {
    "duration": 195,
    "start_time": "2023-01-11T14:55:04.133Z"
   },
   {
    "duration": 191,
    "start_time": "2023-01-11T14:55:04.330Z"
   },
   {
    "duration": 42,
    "start_time": "2023-01-11T14:55:04.525Z"
   },
   {
    "duration": 1760,
    "start_time": "2023-01-11T14:55:04.570Z"
   },
   {
    "duration": 1482,
    "start_time": "2023-01-11T14:55:06.332Z"
   },
   {
    "duration": 1485,
    "start_time": "2023-01-11T14:55:07.821Z"
   },
   {
    "duration": 1616,
    "start_time": "2023-01-11T14:55:09.308Z"
   },
   {
    "duration": 27,
    "start_time": "2023-01-11T14:55:10.926Z"
   },
   {
    "duration": 30,
    "start_time": "2023-01-11T14:55:10.955Z"
   },
   {
    "duration": 38,
    "start_time": "2023-01-11T14:55:10.987Z"
   },
   {
    "duration": 4075,
    "start_time": "2023-01-11T14:55:11.027Z"
   },
   {
    "duration": 61,
    "start_time": "2023-01-11T14:55:15.103Z"
   },
   {
    "duration": 23,
    "start_time": "2023-01-11T14:55:15.166Z"
   },
   {
    "duration": 3,
    "start_time": "2023-01-11T14:55:15.190Z"
   },
   {
    "duration": 610,
    "start_time": "2023-01-11T14:55:15.195Z"
   },
   {
    "duration": 0,
    "start_time": "2023-01-11T14:55:15.806Z"
   },
   {
    "duration": 0,
    "start_time": "2023-01-11T14:55:15.807Z"
   },
   {
    "duration": 0,
    "start_time": "2023-01-11T14:55:15.808Z"
   },
   {
    "duration": 0,
    "start_time": "2023-01-11T14:55:15.809Z"
   },
   {
    "duration": 0,
    "start_time": "2023-01-11T14:55:15.810Z"
   },
   {
    "duration": 0,
    "start_time": "2023-01-11T14:55:15.811Z"
   },
   {
    "duration": 0,
    "start_time": "2023-01-11T14:55:15.821Z"
   },
   {
    "duration": 0,
    "start_time": "2023-01-11T14:55:15.822Z"
   },
   {
    "duration": 339,
    "start_time": "2023-01-11T14:55:52.333Z"
   },
   {
    "duration": 348,
    "start_time": "2023-01-11T14:56:02.810Z"
   },
   {
    "duration": 291,
    "start_time": "2023-01-11T15:28:25.671Z"
   },
   {
    "duration": 977,
    "start_time": "2023-01-11T15:28:36.877Z"
   },
   {
    "duration": 1437,
    "start_time": "2023-01-11T15:29:06.821Z"
   },
   {
    "duration": 785,
    "start_time": "2023-01-11T15:29:08.260Z"
   },
   {
    "duration": 151,
    "start_time": "2023-01-11T15:29:09.046Z"
   },
   {
    "duration": 131,
    "start_time": "2023-01-11T15:29:09.199Z"
   },
   {
    "duration": 4,
    "start_time": "2023-01-11T15:29:09.332Z"
   },
   {
    "duration": 143,
    "start_time": "2023-01-11T15:29:09.338Z"
   },
   {
    "duration": 190,
    "start_time": "2023-01-11T15:29:09.482Z"
   },
   {
    "duration": 193,
    "start_time": "2023-01-11T15:29:09.674Z"
   },
   {
    "duration": 41,
    "start_time": "2023-01-11T15:29:09.869Z"
   },
   {
    "duration": 1743,
    "start_time": "2023-01-11T15:29:09.921Z"
   },
   {
    "duration": 1481,
    "start_time": "2023-01-11T15:29:11.665Z"
   },
   {
    "duration": 1539,
    "start_time": "2023-01-11T15:29:13.147Z"
   },
   {
    "duration": 1586,
    "start_time": "2023-01-11T15:29:14.687Z"
   },
   {
    "duration": 30,
    "start_time": "2023-01-11T15:29:16.274Z"
   },
   {
    "duration": 41,
    "start_time": "2023-01-11T15:29:16.306Z"
   },
   {
    "duration": 23,
    "start_time": "2023-01-11T15:29:16.349Z"
   },
   {
    "duration": 3921,
    "start_time": "2023-01-11T15:29:16.374Z"
   },
   {
    "duration": 61,
    "start_time": "2023-01-11T15:29:20.296Z"
   },
   {
    "duration": 23,
    "start_time": "2023-01-11T15:29:20.359Z"
   },
   {
    "duration": 2,
    "start_time": "2023-01-11T15:29:20.384Z"
   },
   {
    "duration": 1099,
    "start_time": "2023-01-11T15:29:20.387Z"
   },
   {
    "duration": 0,
    "start_time": "2023-01-11T15:29:21.488Z"
   },
   {
    "duration": 0,
    "start_time": "2023-01-11T15:29:21.489Z"
   },
   {
    "duration": 0,
    "start_time": "2023-01-11T15:29:21.490Z"
   },
   {
    "duration": 0,
    "start_time": "2023-01-11T15:29:21.491Z"
   },
   {
    "duration": 0,
    "start_time": "2023-01-11T15:29:21.492Z"
   },
   {
    "duration": 0,
    "start_time": "2023-01-11T15:29:21.493Z"
   },
   {
    "duration": 0,
    "start_time": "2023-01-11T15:29:21.495Z"
   },
   {
    "duration": 0,
    "start_time": "2023-01-11T15:29:21.496Z"
   },
   {
    "duration": 21,
    "start_time": "2023-01-11T15:30:24.314Z"
   },
   {
    "duration": 1163,
    "start_time": "2023-01-11T15:30:34.004Z"
   },
   {
    "duration": 1526,
    "start_time": "2023-01-11T15:31:14.519Z"
   },
   {
    "duration": 1082,
    "start_time": "2023-01-11T15:31:16.047Z"
   },
   {
    "duration": 151,
    "start_time": "2023-01-11T15:31:17.131Z"
   },
   {
    "duration": 129,
    "start_time": "2023-01-11T15:31:17.284Z"
   },
   {
    "duration": 7,
    "start_time": "2023-01-11T15:31:17.415Z"
   },
   {
    "duration": 131,
    "start_time": "2023-01-11T15:31:17.423Z"
   },
   {
    "duration": 193,
    "start_time": "2023-01-11T15:31:17.556Z"
   },
   {
    "duration": 185,
    "start_time": "2023-01-11T15:31:17.750Z"
   },
   {
    "duration": 40,
    "start_time": "2023-01-11T15:31:17.936Z"
   },
   {
    "duration": 1808,
    "start_time": "2023-01-11T15:31:17.979Z"
   },
   {
    "duration": 1519,
    "start_time": "2023-01-11T15:31:19.789Z"
   },
   {
    "duration": 1573,
    "start_time": "2023-01-11T15:31:21.310Z"
   },
   {
    "duration": 1595,
    "start_time": "2023-01-11T15:31:22.885Z"
   },
   {
    "duration": 30,
    "start_time": "2023-01-11T15:31:24.481Z"
   },
   {
    "duration": 30,
    "start_time": "2023-01-11T15:31:24.521Z"
   },
   {
    "duration": 24,
    "start_time": "2023-01-11T15:31:24.552Z"
   },
   {
    "duration": 4160,
    "start_time": "2023-01-11T15:31:24.578Z"
   },
   {
    "duration": 56,
    "start_time": "2023-01-11T15:31:28.740Z"
   },
   {
    "duration": 32,
    "start_time": "2023-01-11T15:31:28.797Z"
   },
   {
    "duration": 3,
    "start_time": "2023-01-11T15:31:28.831Z"
   },
   {
    "duration": 10073,
    "start_time": "2023-01-11T15:31:28.835Z"
   },
   {
    "duration": 174,
    "start_time": "2023-01-11T15:31:38.910Z"
   },
   {
    "duration": 1186,
    "start_time": "2023-01-11T15:31:39.086Z"
   },
   {
    "duration": 0,
    "start_time": "2023-01-11T15:31:40.274Z"
   },
   {
    "duration": 0,
    "start_time": "2023-01-11T15:31:40.276Z"
   },
   {
    "duration": 0,
    "start_time": "2023-01-11T15:31:40.277Z"
   },
   {
    "duration": 0,
    "start_time": "2023-01-11T15:31:40.278Z"
   },
   {
    "duration": 0,
    "start_time": "2023-01-11T15:31:40.279Z"
   },
   {
    "duration": 0,
    "start_time": "2023-01-11T15:31:40.280Z"
   },
   {
    "duration": 9536,
    "start_time": "2023-01-11T15:32:25.782Z"
   },
   {
    "duration": 1372,
    "start_time": "2023-01-11T15:38:54.577Z"
   },
   {
    "duration": 807,
    "start_time": "2023-01-11T15:38:55.950Z"
   },
   {
    "duration": 135,
    "start_time": "2023-01-11T15:38:56.759Z"
   },
   {
    "duration": 133,
    "start_time": "2023-01-11T15:38:56.896Z"
   },
   {
    "duration": 4,
    "start_time": "2023-01-11T15:38:57.030Z"
   },
   {
    "duration": 131,
    "start_time": "2023-01-11T15:38:57.036Z"
   },
   {
    "duration": 188,
    "start_time": "2023-01-11T15:38:57.168Z"
   },
   {
    "duration": 179,
    "start_time": "2023-01-11T15:38:57.358Z"
   },
   {
    "duration": 39,
    "start_time": "2023-01-11T15:38:57.538Z"
   },
   {
    "duration": 1669,
    "start_time": "2023-01-11T15:38:57.579Z"
   },
   {
    "duration": 1445,
    "start_time": "2023-01-11T15:38:59.249Z"
   },
   {
    "duration": 1528,
    "start_time": "2023-01-11T15:39:00.696Z"
   },
   {
    "duration": 1607,
    "start_time": "2023-01-11T15:39:02.226Z"
   },
   {
    "duration": 27,
    "start_time": "2023-01-11T15:39:03.835Z"
   },
   {
    "duration": 32,
    "start_time": "2023-01-11T15:39:03.864Z"
   },
   {
    "duration": 53,
    "start_time": "2023-01-11T15:39:03.897Z"
   },
   {
    "duration": 4040,
    "start_time": "2023-01-11T15:39:03.952Z"
   },
   {
    "duration": 61,
    "start_time": "2023-01-11T15:39:07.994Z"
   },
   {
    "duration": 21,
    "start_time": "2023-01-11T15:39:08.056Z"
   },
   {
    "duration": 4,
    "start_time": "2023-01-11T15:39:08.079Z"
   },
   {
    "duration": 9612,
    "start_time": "2023-01-11T15:39:08.085Z"
   },
   {
    "duration": 161,
    "start_time": "2023-01-11T15:39:17.698Z"
   },
   {
    "duration": 2963,
    "start_time": "2023-01-11T15:39:17.860Z"
   },
   {
    "duration": 1417,
    "start_time": "2023-01-11T15:43:32.630Z"
   },
   {
    "duration": 833,
    "start_time": "2023-01-11T15:43:34.048Z"
   },
   {
    "duration": 147,
    "start_time": "2023-01-11T15:43:34.883Z"
   },
   {
    "duration": 120,
    "start_time": "2023-01-11T15:43:35.032Z"
   },
   {
    "duration": 4,
    "start_time": "2023-01-11T15:43:35.154Z"
   },
   {
    "duration": 170,
    "start_time": "2023-01-11T15:43:35.159Z"
   },
   {
    "duration": 233,
    "start_time": "2023-01-11T15:43:35.330Z"
   },
   {
    "duration": 192,
    "start_time": "2023-01-11T15:43:35.565Z"
   },
   {
    "duration": 42,
    "start_time": "2023-01-11T15:43:35.758Z"
   },
   {
    "duration": 1763,
    "start_time": "2023-01-11T15:43:35.802Z"
   },
   {
    "duration": 1443,
    "start_time": "2023-01-11T15:43:37.567Z"
   },
   {
    "duration": 1513,
    "start_time": "2023-01-11T15:43:39.011Z"
   },
   {
    "duration": 1651,
    "start_time": "2023-01-11T15:43:40.526Z"
   },
   {
    "duration": 25,
    "start_time": "2023-01-11T15:43:42.179Z"
   },
   {
    "duration": 41,
    "start_time": "2023-01-11T15:43:42.206Z"
   },
   {
    "duration": 24,
    "start_time": "2023-01-11T15:43:42.249Z"
   },
   {
    "duration": 4082,
    "start_time": "2023-01-11T15:43:42.275Z"
   },
   {
    "duration": 65,
    "start_time": "2023-01-11T15:43:46.358Z"
   },
   {
    "duration": 24,
    "start_time": "2023-01-11T15:43:46.425Z"
   },
   {
    "duration": 10,
    "start_time": "2023-01-11T15:43:46.450Z"
   },
   {
    "duration": 688,
    "start_time": "2023-01-11T15:43:46.462Z"
   },
   {
    "duration": 0,
    "start_time": "2023-01-11T15:43:47.151Z"
   },
   {
    "duration": 0,
    "start_time": "2023-01-11T15:43:47.153Z"
   },
   {
    "duration": 0,
    "start_time": "2023-01-11T15:43:47.153Z"
   },
   {
    "duration": 0,
    "start_time": "2023-01-11T15:43:47.154Z"
   },
   {
    "duration": 0,
    "start_time": "2023-01-11T15:43:47.156Z"
   },
   {
    "duration": 0,
    "start_time": "2023-01-11T15:43:47.157Z"
   },
   {
    "duration": 0,
    "start_time": "2023-01-11T15:43:47.158Z"
   },
   {
    "duration": 0,
    "start_time": "2023-01-11T15:43:47.160Z"
   },
   {
    "duration": 11,
    "start_time": "2023-01-11T15:44:27.111Z"
   },
   {
    "duration": 15,
    "start_time": "2023-01-11T15:44:38.011Z"
   },
   {
    "duration": 10587,
    "start_time": "2023-01-11T15:44:40.422Z"
   },
   {
    "duration": 14,
    "start_time": "2023-01-11T15:58:24.224Z"
   },
   {
    "duration": 1374,
    "start_time": "2023-01-11T15:58:32.535Z"
   },
   {
    "duration": 805,
    "start_time": "2023-01-11T15:58:33.911Z"
   },
   {
    "duration": 152,
    "start_time": "2023-01-11T15:58:34.717Z"
   },
   {
    "duration": 130,
    "start_time": "2023-01-11T15:58:34.871Z"
   },
   {
    "duration": 4,
    "start_time": "2023-01-11T15:58:35.003Z"
   },
   {
    "duration": 133,
    "start_time": "2023-01-11T15:58:35.009Z"
   },
   {
    "duration": 194,
    "start_time": "2023-01-11T15:58:35.144Z"
   },
   {
    "duration": 184,
    "start_time": "2023-01-11T15:58:35.339Z"
   },
   {
    "duration": 40,
    "start_time": "2023-01-11T15:58:35.526Z"
   },
   {
    "duration": 1663,
    "start_time": "2023-01-11T15:58:35.568Z"
   },
   {
    "duration": 1494,
    "start_time": "2023-01-11T15:58:37.233Z"
   },
   {
    "duration": 1469,
    "start_time": "2023-01-11T15:58:38.729Z"
   },
   {
    "duration": 1512,
    "start_time": "2023-01-11T15:58:40.199Z"
   },
   {
    "duration": 32,
    "start_time": "2023-01-11T15:58:41.714Z"
   },
   {
    "duration": 29,
    "start_time": "2023-01-11T15:58:41.748Z"
   },
   {
    "duration": 23,
    "start_time": "2023-01-11T15:58:41.779Z"
   },
   {
    "duration": 4057,
    "start_time": "2023-01-11T15:58:41.803Z"
   },
   {
    "duration": 59,
    "start_time": "2023-01-11T15:58:45.862Z"
   },
   {
    "duration": 23,
    "start_time": "2023-01-11T15:58:45.923Z"
   },
   {
    "duration": 6,
    "start_time": "2023-01-11T15:58:45.947Z"
   },
   {
    "duration": 173,
    "start_time": "2023-01-11T15:58:45.955Z"
   },
   {
    "duration": 0,
    "start_time": "2023-01-11T15:58:46.130Z"
   },
   {
    "duration": 0,
    "start_time": "2023-01-11T15:58:46.131Z"
   },
   {
    "duration": 0,
    "start_time": "2023-01-11T15:58:46.132Z"
   },
   {
    "duration": 0,
    "start_time": "2023-01-11T15:58:46.133Z"
   },
   {
    "duration": 0,
    "start_time": "2023-01-11T15:58:46.134Z"
   },
   {
    "duration": 0,
    "start_time": "2023-01-11T15:58:46.135Z"
   },
   {
    "duration": 0,
    "start_time": "2023-01-11T15:58:46.136Z"
   },
   {
    "duration": 0,
    "start_time": "2023-01-11T15:58:46.137Z"
   },
   {
    "duration": 1384,
    "start_time": "2023-01-11T15:58:58.470Z"
   },
   {
    "duration": 1350,
    "start_time": "2023-01-11T15:59:11.495Z"
   },
   {
    "duration": 4823,
    "start_time": "2023-01-11T15:59:20.280Z"
   },
   {
    "duration": 4076,
    "start_time": "2023-01-11T16:00:14.741Z"
   },
   {
    "duration": 3129,
    "start_time": "2023-01-11T16:01:20.654Z"
   },
   {
    "duration": 1426,
    "start_time": "2023-01-11T16:01:31.907Z"
   },
   {
    "duration": 805,
    "start_time": "2023-01-11T16:01:33.335Z"
   },
   {
    "duration": 148,
    "start_time": "2023-01-11T16:01:34.141Z"
   },
   {
    "duration": 134,
    "start_time": "2023-01-11T16:01:34.292Z"
   },
   {
    "duration": 5,
    "start_time": "2023-01-11T16:01:34.427Z"
   },
   {
    "duration": 131,
    "start_time": "2023-01-11T16:01:34.433Z"
   },
   {
    "duration": 190,
    "start_time": "2023-01-11T16:01:34.566Z"
   },
   {
    "duration": 190,
    "start_time": "2023-01-11T16:01:34.758Z"
   },
   {
    "duration": 41,
    "start_time": "2023-01-11T16:01:34.949Z"
   },
   {
    "duration": 1687,
    "start_time": "2023-01-11T16:01:34.993Z"
   },
   {
    "duration": 1423,
    "start_time": "2023-01-11T16:01:36.681Z"
   },
   {
    "duration": 1494,
    "start_time": "2023-01-11T16:01:38.106Z"
   },
   {
    "duration": 1500,
    "start_time": "2023-01-11T16:01:39.601Z"
   },
   {
    "duration": 35,
    "start_time": "2023-01-11T16:01:41.102Z"
   },
   {
    "duration": 29,
    "start_time": "2023-01-11T16:01:41.139Z"
   },
   {
    "duration": 23,
    "start_time": "2023-01-11T16:01:41.170Z"
   },
   {
    "duration": 4050,
    "start_time": "2023-01-11T16:01:41.195Z"
   },
   {
    "duration": 56,
    "start_time": "2023-01-11T16:01:45.247Z"
   },
   {
    "duration": 39,
    "start_time": "2023-01-11T16:01:45.305Z"
   },
   {
    "duration": 4,
    "start_time": "2023-01-11T16:01:45.346Z"
   },
   {
    "duration": 1297,
    "start_time": "2023-01-11T16:01:45.352Z"
   },
   {
    "duration": 0,
    "start_time": "2023-01-11T16:01:46.651Z"
   },
   {
    "duration": 0,
    "start_time": "2023-01-11T16:01:46.653Z"
   },
   {
    "duration": 0,
    "start_time": "2023-01-11T16:01:46.654Z"
   },
   {
    "duration": 0,
    "start_time": "2023-01-11T16:01:46.655Z"
   },
   {
    "duration": 0,
    "start_time": "2023-01-11T16:01:46.656Z"
   },
   {
    "duration": 0,
    "start_time": "2023-01-11T16:01:46.657Z"
   },
   {
    "duration": 0,
    "start_time": "2023-01-11T16:01:46.659Z"
   },
   {
    "duration": 0,
    "start_time": "2023-01-11T16:01:46.660Z"
   },
   {
    "duration": 15,
    "start_time": "2023-01-11T16:01:59.784Z"
   },
   {
    "duration": 1370,
    "start_time": "2023-01-11T16:02:05.920Z"
   },
   {
    "duration": 771,
    "start_time": "2023-01-11T16:02:07.292Z"
   },
   {
    "duration": 145,
    "start_time": "2023-01-11T16:02:08.065Z"
   },
   {
    "duration": 122,
    "start_time": "2023-01-11T16:02:08.212Z"
   },
   {
    "duration": 5,
    "start_time": "2023-01-11T16:02:08.336Z"
   },
   {
    "duration": 139,
    "start_time": "2023-01-11T16:02:08.342Z"
   },
   {
    "duration": 194,
    "start_time": "2023-01-11T16:02:08.483Z"
   },
   {
    "duration": 188,
    "start_time": "2023-01-11T16:02:08.679Z"
   },
   {
    "duration": 40,
    "start_time": "2023-01-11T16:02:08.868Z"
   },
   {
    "duration": 1744,
    "start_time": "2023-01-11T16:02:08.910Z"
   },
   {
    "duration": 1460,
    "start_time": "2023-01-11T16:02:10.655Z"
   },
   {
    "duration": 1504,
    "start_time": "2023-01-11T16:02:12.117Z"
   },
   {
    "duration": 1604,
    "start_time": "2023-01-11T16:02:13.622Z"
   },
   {
    "duration": 25,
    "start_time": "2023-01-11T16:02:15.229Z"
   },
   {
    "duration": 29,
    "start_time": "2023-01-11T16:02:15.256Z"
   },
   {
    "duration": 43,
    "start_time": "2023-01-11T16:02:15.286Z"
   },
   {
    "duration": 3987,
    "start_time": "2023-01-11T16:02:15.331Z"
   },
   {
    "duration": 54,
    "start_time": "2023-01-11T16:02:19.321Z"
   },
   {
    "duration": 22,
    "start_time": "2023-01-11T16:02:19.377Z"
   },
   {
    "duration": 20,
    "start_time": "2023-01-11T16:02:19.401Z"
   },
   {
    "duration": 1287,
    "start_time": "2023-01-11T16:02:19.423Z"
   },
   {
    "duration": 0,
    "start_time": "2023-01-11T16:02:20.711Z"
   },
   {
    "duration": 0,
    "start_time": "2023-01-11T16:02:20.713Z"
   },
   {
    "duration": 0,
    "start_time": "2023-01-11T16:02:20.713Z"
   },
   {
    "duration": 0,
    "start_time": "2023-01-11T16:02:20.715Z"
   },
   {
    "duration": 0,
    "start_time": "2023-01-11T16:02:20.721Z"
   },
   {
    "duration": 0,
    "start_time": "2023-01-11T16:02:20.722Z"
   },
   {
    "duration": 0,
    "start_time": "2023-01-11T16:02:20.724Z"
   },
   {
    "duration": 0,
    "start_time": "2023-01-11T16:02:20.724Z"
   },
   {
    "duration": 19,
    "start_time": "2023-01-11T16:02:45.448Z"
   },
   {
    "duration": 1383,
    "start_time": "2023-01-11T16:02:51.438Z"
   },
   {
    "duration": 819,
    "start_time": "2023-01-11T16:02:52.823Z"
   },
   {
    "duration": 142,
    "start_time": "2023-01-11T16:02:53.646Z"
   },
   {
    "duration": 119,
    "start_time": "2023-01-11T16:02:53.789Z"
   },
   {
    "duration": 13,
    "start_time": "2023-01-11T16:02:53.909Z"
   },
   {
    "duration": 121,
    "start_time": "2023-01-11T16:02:53.924Z"
   },
   {
    "duration": 182,
    "start_time": "2023-01-11T16:02:54.046Z"
   },
   {
    "duration": 180,
    "start_time": "2023-01-11T16:02:54.229Z"
   },
   {
    "duration": 39,
    "start_time": "2023-01-11T16:02:54.412Z"
   },
   {
    "duration": 1733,
    "start_time": "2023-01-11T16:02:54.453Z"
   },
   {
    "duration": 1417,
    "start_time": "2023-01-11T16:02:56.188Z"
   },
   {
    "duration": 1527,
    "start_time": "2023-01-11T16:02:57.606Z"
   },
   {
    "duration": 1538,
    "start_time": "2023-01-11T16:02:59.135Z"
   },
   {
    "duration": 26,
    "start_time": "2023-01-11T16:03:00.675Z"
   },
   {
    "duration": 46,
    "start_time": "2023-01-11T16:03:00.702Z"
   },
   {
    "duration": 47,
    "start_time": "2023-01-11T16:03:00.750Z"
   },
   {
    "duration": 4211,
    "start_time": "2023-01-11T16:03:00.799Z"
   },
   {
    "duration": 56,
    "start_time": "2023-01-11T16:03:05.011Z"
   },
   {
    "duration": 19,
    "start_time": "2023-01-11T16:03:05.068Z"
   },
   {
    "duration": 2,
    "start_time": "2023-01-11T16:03:05.089Z"
   },
   {
    "duration": 4305,
    "start_time": "2023-01-11T16:03:05.093Z"
   },
   {
    "duration": 170,
    "start_time": "2023-01-11T16:03:09.400Z"
   },
   {
    "duration": 22399,
    "start_time": "2023-01-11T16:03:09.571Z"
   },
   {
    "duration": 0,
    "start_time": "2023-01-11T16:03:31.972Z"
   },
   {
    "duration": 0,
    "start_time": "2023-01-11T16:03:31.973Z"
   },
   {
    "duration": 0,
    "start_time": "2023-01-11T16:03:31.975Z"
   },
   {
    "duration": 0,
    "start_time": "2023-01-11T16:03:31.976Z"
   },
   {
    "duration": 0,
    "start_time": "2023-01-11T16:03:31.978Z"
   },
   {
    "duration": 0,
    "start_time": "2023-01-11T16:03:31.979Z"
   },
   {
    "duration": 1394,
    "start_time": "2023-01-11T16:05:25.615Z"
   },
   {
    "duration": 804,
    "start_time": "2023-01-11T16:05:27.010Z"
   },
   {
    "duration": 147,
    "start_time": "2023-01-11T16:05:27.815Z"
   },
   {
    "duration": 122,
    "start_time": "2023-01-11T16:05:27.964Z"
   },
   {
    "duration": 5,
    "start_time": "2023-01-11T16:05:28.088Z"
   },
   {
    "duration": 137,
    "start_time": "2023-01-11T16:05:28.095Z"
   },
   {
    "duration": 190,
    "start_time": "2023-01-11T16:05:28.234Z"
   },
   {
    "duration": 206,
    "start_time": "2023-01-11T16:05:28.426Z"
   },
   {
    "duration": 36,
    "start_time": "2023-01-11T16:05:28.634Z"
   },
   {
    "duration": 1713,
    "start_time": "2023-01-11T16:05:28.672Z"
   },
   {
    "duration": 1689,
    "start_time": "2023-01-11T16:05:30.387Z"
   },
   {
    "duration": 1727,
    "start_time": "2023-01-11T16:05:32.077Z"
   },
   {
    "duration": 1597,
    "start_time": "2023-01-11T16:05:33.805Z"
   },
   {
    "duration": 44,
    "start_time": "2023-01-11T16:05:35.406Z"
   },
   {
    "duration": 38,
    "start_time": "2023-01-11T16:05:35.453Z"
   },
   {
    "duration": 56,
    "start_time": "2023-01-11T16:05:35.493Z"
   },
   {
    "duration": 4159,
    "start_time": "2023-01-11T16:05:35.554Z"
   },
   {
    "duration": 61,
    "start_time": "2023-01-11T16:05:39.715Z"
   },
   {
    "duration": 22,
    "start_time": "2023-01-11T16:05:39.778Z"
   },
   {
    "duration": 3,
    "start_time": "2023-01-11T16:05:39.802Z"
   },
   {
    "duration": 147,
    "start_time": "2023-01-11T16:05:39.820Z"
   },
   {
    "duration": 0,
    "start_time": "2023-01-11T16:05:39.969Z"
   },
   {
    "duration": 0,
    "start_time": "2023-01-11T16:05:39.970Z"
   },
   {
    "duration": 0,
    "start_time": "2023-01-11T16:05:39.972Z"
   },
   {
    "duration": 0,
    "start_time": "2023-01-11T16:05:39.975Z"
   },
   {
    "duration": 0,
    "start_time": "2023-01-11T16:05:39.976Z"
   },
   {
    "duration": 0,
    "start_time": "2023-01-11T16:05:39.978Z"
   },
   {
    "duration": 0,
    "start_time": "2023-01-11T16:05:39.979Z"
   },
   {
    "duration": 0,
    "start_time": "2023-01-11T16:05:39.981Z"
   },
   {
    "duration": 9171,
    "start_time": "2023-01-11T16:06:09.199Z"
   },
   {
    "duration": 16,
    "start_time": "2023-01-11T16:06:32.466Z"
   },
   {
    "duration": 1313,
    "start_time": "2023-01-11T16:06:36.984Z"
   },
   {
    "duration": 800,
    "start_time": "2023-01-11T16:06:38.299Z"
   },
   {
    "duration": 150,
    "start_time": "2023-01-11T16:06:39.101Z"
   },
   {
    "duration": 127,
    "start_time": "2023-01-11T16:06:39.252Z"
   },
   {
    "duration": 4,
    "start_time": "2023-01-11T16:06:39.381Z"
   },
   {
    "duration": 135,
    "start_time": "2023-01-11T16:06:39.387Z"
   },
   {
    "duration": 201,
    "start_time": "2023-01-11T16:06:39.523Z"
   },
   {
    "duration": 188,
    "start_time": "2023-01-11T16:06:39.726Z"
   },
   {
    "duration": 41,
    "start_time": "2023-01-11T16:06:39.921Z"
   },
   {
    "duration": 1690,
    "start_time": "2023-01-11T16:06:39.964Z"
   },
   {
    "duration": 1470,
    "start_time": "2023-01-11T16:06:41.655Z"
   },
   {
    "duration": 1499,
    "start_time": "2023-01-11T16:06:43.127Z"
   },
   {
    "duration": 1631,
    "start_time": "2023-01-11T16:06:44.628Z"
   },
   {
    "duration": 29,
    "start_time": "2023-01-11T16:06:46.261Z"
   },
   {
    "duration": 41,
    "start_time": "2023-01-11T16:06:46.291Z"
   },
   {
    "duration": 24,
    "start_time": "2023-01-11T16:06:46.334Z"
   },
   {
    "duration": 4128,
    "start_time": "2023-01-11T16:06:46.360Z"
   },
   {
    "duration": 58,
    "start_time": "2023-01-11T16:06:50.489Z"
   },
   {
    "duration": 23,
    "start_time": "2023-01-11T16:06:50.548Z"
   },
   {
    "duration": 23,
    "start_time": "2023-01-11T16:06:50.573Z"
   },
   {
    "duration": 4333,
    "start_time": "2023-01-11T16:06:50.598Z"
   },
   {
    "duration": 170,
    "start_time": "2023-01-11T16:06:54.933Z"
   },
   {
    "duration": 24060,
    "start_time": "2023-01-11T16:06:55.105Z"
   },
   {
    "duration": 0,
    "start_time": "2023-01-11T16:07:19.167Z"
   },
   {
    "duration": 0,
    "start_time": "2023-01-11T16:07:19.168Z"
   },
   {
    "duration": 0,
    "start_time": "2023-01-11T16:07:19.169Z"
   },
   {
    "duration": 0,
    "start_time": "2023-01-11T16:07:19.170Z"
   },
   {
    "duration": 0,
    "start_time": "2023-01-11T16:07:19.172Z"
   },
   {
    "duration": 0,
    "start_time": "2023-01-11T16:07:19.173Z"
   },
   {
    "duration": 1387,
    "start_time": "2023-01-11T16:11:02.228Z"
   },
   {
    "duration": 814,
    "start_time": "2023-01-11T16:11:03.617Z"
   },
   {
    "duration": 144,
    "start_time": "2023-01-11T16:11:04.433Z"
   },
   {
    "duration": 133,
    "start_time": "2023-01-11T16:11:04.579Z"
   },
   {
    "duration": 16,
    "start_time": "2023-01-11T16:11:04.714Z"
   },
   {
    "duration": 124,
    "start_time": "2023-01-11T16:11:04.732Z"
   },
   {
    "duration": 184,
    "start_time": "2023-01-11T16:11:04.858Z"
   },
   {
    "duration": 189,
    "start_time": "2023-01-11T16:11:05.044Z"
   },
   {
    "duration": 35,
    "start_time": "2023-01-11T16:11:05.235Z"
   },
   {
    "duration": 1773,
    "start_time": "2023-01-11T16:11:05.271Z"
   },
   {
    "duration": 1459,
    "start_time": "2023-01-11T16:11:07.046Z"
   },
   {
    "duration": 1516,
    "start_time": "2023-01-11T16:11:08.507Z"
   },
   {
    "duration": 1602,
    "start_time": "2023-01-11T16:11:10.025Z"
   },
   {
    "duration": 26,
    "start_time": "2023-01-11T16:11:11.630Z"
   },
   {
    "duration": 31,
    "start_time": "2023-01-11T16:11:11.657Z"
   },
   {
    "duration": 44,
    "start_time": "2023-01-11T16:11:11.689Z"
   },
   {
    "duration": 4094,
    "start_time": "2023-01-11T16:11:11.735Z"
   },
   {
    "duration": 54,
    "start_time": "2023-01-11T16:11:15.830Z"
   },
   {
    "duration": 19,
    "start_time": "2023-01-11T16:11:15.885Z"
   },
   {
    "duration": 16,
    "start_time": "2023-01-11T16:11:15.905Z"
   },
   {
    "duration": 4132,
    "start_time": "2023-01-11T16:11:15.923Z"
   },
   {
    "duration": 0,
    "start_time": "2023-01-11T16:11:20.056Z"
   },
   {
    "duration": 0,
    "start_time": "2023-01-11T16:11:20.058Z"
   },
   {
    "duration": 0,
    "start_time": "2023-01-11T16:11:20.059Z"
   },
   {
    "duration": 0,
    "start_time": "2023-01-11T16:11:20.061Z"
   },
   {
    "duration": 0,
    "start_time": "2023-01-11T16:11:20.062Z"
   },
   {
    "duration": 0,
    "start_time": "2023-01-11T16:11:20.063Z"
   },
   {
    "duration": 0,
    "start_time": "2023-01-11T16:11:20.065Z"
   },
   {
    "duration": 0,
    "start_time": "2023-01-11T16:11:20.066Z"
   },
   {
    "duration": 1437,
    "start_time": "2023-01-11T16:12:02.621Z"
   },
   {
    "duration": 906,
    "start_time": "2023-01-11T16:12:04.060Z"
   },
   {
    "duration": 160,
    "start_time": "2023-01-11T16:12:04.968Z"
   },
   {
    "duration": 130,
    "start_time": "2023-01-11T16:12:05.130Z"
   },
   {
    "duration": 4,
    "start_time": "2023-01-11T16:12:05.262Z"
   },
   {
    "duration": 145,
    "start_time": "2023-01-11T16:12:05.268Z"
   },
   {
    "duration": 202,
    "start_time": "2023-01-11T16:12:05.415Z"
   },
   {
    "duration": 244,
    "start_time": "2023-01-11T16:12:05.619Z"
   },
   {
    "duration": 40,
    "start_time": "2023-01-11T16:12:05.866Z"
   },
   {
    "duration": 1752,
    "start_time": "2023-01-11T16:12:05.909Z"
   },
   {
    "duration": 1473,
    "start_time": "2023-01-11T16:12:07.663Z"
   },
   {
    "duration": 1470,
    "start_time": "2023-01-11T16:12:09.137Z"
   },
   {
    "duration": 1610,
    "start_time": "2023-01-11T16:12:10.609Z"
   },
   {
    "duration": 30,
    "start_time": "2023-01-11T16:12:12.220Z"
   },
   {
    "duration": 32,
    "start_time": "2023-01-11T16:12:12.252Z"
   },
   {
    "duration": 44,
    "start_time": "2023-01-11T16:12:12.286Z"
   },
   {
    "duration": 4141,
    "start_time": "2023-01-11T16:12:12.331Z"
   },
   {
    "duration": 59,
    "start_time": "2023-01-11T16:12:16.473Z"
   },
   {
    "duration": 23,
    "start_time": "2023-01-11T16:12:16.533Z"
   },
   {
    "duration": 6,
    "start_time": "2023-01-11T16:12:16.558Z"
   },
   {
    "duration": 8214,
    "start_time": "2023-01-11T16:12:16.565Z"
   },
   {
    "duration": 169,
    "start_time": "2023-01-11T16:12:24.780Z"
   },
   {
    "duration": 1472,
    "start_time": "2023-01-11T16:26:55.621Z"
   },
   {
    "duration": 1050,
    "start_time": "2023-01-11T16:26:57.094Z"
   },
   {
    "duration": 143,
    "start_time": "2023-01-11T16:26:58.145Z"
   },
   {
    "duration": 124,
    "start_time": "2023-01-11T16:26:58.290Z"
   },
   {
    "duration": 5,
    "start_time": "2023-01-11T16:26:58.421Z"
   },
   {
    "duration": 127,
    "start_time": "2023-01-11T16:26:58.428Z"
   },
   {
    "duration": 199,
    "start_time": "2023-01-11T16:26:58.556Z"
   },
   {
    "duration": 188,
    "start_time": "2023-01-11T16:26:58.757Z"
   },
   {
    "duration": 37,
    "start_time": "2023-01-11T16:26:58.947Z"
   },
   {
    "duration": 1853,
    "start_time": "2023-01-11T16:26:58.987Z"
   },
   {
    "duration": 1493,
    "start_time": "2023-01-11T16:27:00.842Z"
   },
   {
    "duration": 1475,
    "start_time": "2023-01-11T16:27:02.337Z"
   },
   {
    "duration": 1612,
    "start_time": "2023-01-11T16:27:03.814Z"
   },
   {
    "duration": 29,
    "start_time": "2023-01-11T16:27:05.428Z"
   },
   {
    "duration": 36,
    "start_time": "2023-01-11T16:27:05.459Z"
   },
   {
    "duration": 51,
    "start_time": "2023-01-11T16:27:05.498Z"
   },
   {
    "duration": 4157,
    "start_time": "2023-01-11T16:27:05.551Z"
   },
   {
    "duration": 339,
    "start_time": "2023-01-11T16:27:09.709Z"
   },
   {
    "duration": 56,
    "start_time": "2023-01-11T16:27:10.049Z"
   },
   {
    "duration": 30,
    "start_time": "2023-01-11T16:27:10.107Z"
   },
   {
    "duration": 12673,
    "start_time": "2023-01-11T16:27:10.138Z"
   },
   {
    "duration": 0,
    "start_time": "2023-01-11T16:27:22.813Z"
   },
   {
    "duration": 0,
    "start_time": "2023-01-11T16:27:22.814Z"
   },
   {
    "duration": 0,
    "start_time": "2023-01-11T16:27:22.820Z"
   },
   {
    "duration": 0,
    "start_time": "2023-01-11T16:27:22.822Z"
   },
   {
    "duration": 0,
    "start_time": "2023-01-11T16:27:22.822Z"
   },
   {
    "duration": 0,
    "start_time": "2023-01-11T16:27:22.824Z"
   },
   {
    "duration": 0,
    "start_time": "2023-01-11T16:27:22.825Z"
   },
   {
    "duration": 0,
    "start_time": "2023-01-11T16:27:22.826Z"
   },
   {
    "duration": 18,
    "start_time": "2023-01-11T16:28:57.235Z"
   },
   {
    "duration": 1399,
    "start_time": "2023-01-11T16:29:06.111Z"
   },
   {
    "duration": 819,
    "start_time": "2023-01-11T16:29:07.512Z"
   },
   {
    "duration": 143,
    "start_time": "2023-01-11T16:29:08.332Z"
   },
   {
    "duration": 137,
    "start_time": "2023-01-11T16:29:08.477Z"
   },
   {
    "duration": 5,
    "start_time": "2023-01-11T16:29:08.620Z"
   },
   {
    "duration": 153,
    "start_time": "2023-01-11T16:29:08.627Z"
   },
   {
    "duration": 186,
    "start_time": "2023-01-11T16:29:08.781Z"
   },
   {
    "duration": 192,
    "start_time": "2023-01-11T16:29:08.969Z"
   },
   {
    "duration": 36,
    "start_time": "2023-01-11T16:29:09.163Z"
   },
   {
    "duration": 1687,
    "start_time": "2023-01-11T16:29:09.201Z"
   },
   {
    "duration": 1459,
    "start_time": "2023-01-11T16:29:10.890Z"
   },
   {
    "duration": 1563,
    "start_time": "2023-01-11T16:29:12.350Z"
   },
   {
    "duration": 1608,
    "start_time": "2023-01-11T16:29:13.914Z"
   },
   {
    "duration": 42,
    "start_time": "2023-01-11T16:29:15.526Z"
   },
   {
    "duration": 50,
    "start_time": "2023-01-11T16:29:15.571Z"
   },
   {
    "duration": 33,
    "start_time": "2023-01-11T16:29:15.623Z"
   },
   {
    "duration": 4157,
    "start_time": "2023-01-11T16:29:15.658Z"
   },
   {
    "duration": 343,
    "start_time": "2023-01-11T16:29:19.817Z"
   },
   {
    "duration": 65,
    "start_time": "2023-01-11T16:29:20.162Z"
   },
   {
    "duration": 19,
    "start_time": "2023-01-11T16:29:20.229Z"
   },
   {
    "duration": 12698,
    "start_time": "2023-01-11T16:29:20.249Z"
   },
   {
    "duration": 167,
    "start_time": "2023-01-11T16:29:32.949Z"
   },
   {
    "duration": 3601,
    "start_time": "2023-01-11T16:29:33.120Z"
   },
   {
    "duration": 1575,
    "start_time": "2023-01-11T16:30:34.272Z"
   },
   {
    "duration": 801,
    "start_time": "2023-01-11T16:30:35.849Z"
   },
   {
    "duration": 140,
    "start_time": "2023-01-11T16:30:36.652Z"
   },
   {
    "duration": 121,
    "start_time": "2023-01-11T16:30:36.794Z"
   },
   {
    "duration": 6,
    "start_time": "2023-01-11T16:30:36.921Z"
   },
   {
    "duration": 136,
    "start_time": "2023-01-11T16:30:36.929Z"
   },
   {
    "duration": 187,
    "start_time": "2023-01-11T16:30:37.067Z"
   },
   {
    "duration": 185,
    "start_time": "2023-01-11T16:30:37.256Z"
   },
   {
    "duration": 36,
    "start_time": "2023-01-11T16:30:37.443Z"
   },
   {
    "duration": 1696,
    "start_time": "2023-01-11T16:30:37.482Z"
   },
   {
    "duration": 1457,
    "start_time": "2023-01-11T16:30:39.180Z"
   },
   {
    "duration": 1557,
    "start_time": "2023-01-11T16:30:40.639Z"
   },
   {
    "duration": 1663,
    "start_time": "2023-01-11T16:30:42.197Z"
   },
   {
    "duration": 31,
    "start_time": "2023-01-11T16:30:43.862Z"
   },
   {
    "duration": 50,
    "start_time": "2023-01-11T16:30:43.895Z"
   },
   {
    "duration": 31,
    "start_time": "2023-01-11T16:30:43.947Z"
   },
   {
    "duration": 4327,
    "start_time": "2023-01-11T16:30:43.980Z"
   },
   {
    "duration": 371,
    "start_time": "2023-01-11T16:30:48.309Z"
   },
   {
    "duration": 82,
    "start_time": "2023-01-11T16:30:48.682Z"
   },
   {
    "duration": 20,
    "start_time": "2023-01-11T16:30:48.766Z"
   },
   {
    "duration": 7646,
    "start_time": "2023-01-11T16:30:48.788Z"
   },
   {
    "duration": 167,
    "start_time": "2023-01-11T16:30:56.436Z"
   },
   {
    "duration": 1401,
    "start_time": "2023-01-11T16:38:54.354Z"
   },
   {
    "duration": 1122,
    "start_time": "2023-01-11T16:38:55.757Z"
   },
   {
    "duration": 143,
    "start_time": "2023-01-11T16:38:56.880Z"
   },
   {
    "duration": 126,
    "start_time": "2023-01-11T16:38:57.025Z"
   },
   {
    "duration": 5,
    "start_time": "2023-01-11T16:38:57.152Z"
   },
   {
    "duration": 138,
    "start_time": "2023-01-11T16:38:57.158Z"
   },
   {
    "duration": 191,
    "start_time": "2023-01-11T16:38:57.297Z"
   },
   {
    "duration": 184,
    "start_time": "2023-01-11T16:38:57.490Z"
   },
   {
    "duration": 36,
    "start_time": "2023-01-11T16:38:57.676Z"
   },
   {
    "duration": 1801,
    "start_time": "2023-01-11T16:38:57.723Z"
   },
   {
    "duration": 1602,
    "start_time": "2023-01-11T16:38:59.526Z"
   },
   {
    "duration": 1628,
    "start_time": "2023-01-11T16:39:01.130Z"
   },
   {
    "duration": 1535,
    "start_time": "2023-01-11T16:39:02.759Z"
   },
   {
    "duration": 34,
    "start_time": "2023-01-11T16:39:04.295Z"
   },
   {
    "duration": 31,
    "start_time": "2023-01-11T16:39:04.331Z"
   },
   {
    "duration": 23,
    "start_time": "2023-01-11T16:39:04.363Z"
   },
   {
    "duration": 4010,
    "start_time": "2023-01-11T16:39:04.387Z"
   },
   {
    "duration": 348,
    "start_time": "2023-01-11T16:39:08.399Z"
   },
   {
    "duration": 57,
    "start_time": "2023-01-11T16:39:08.749Z"
   },
   {
    "duration": 31,
    "start_time": "2023-01-11T16:39:08.808Z"
   },
   {
    "duration": 7586,
    "start_time": "2023-01-11T16:39:08.840Z"
   },
   {
    "duration": 156,
    "start_time": "2023-01-11T16:39:16.428Z"
   },
   {
    "duration": 1394,
    "start_time": "2023-01-11T16:39:45.991Z"
   },
   {
    "duration": 1056,
    "start_time": "2023-01-11T16:39:47.387Z"
   },
   {
    "duration": 149,
    "start_time": "2023-01-11T16:39:48.444Z"
   },
   {
    "duration": 127,
    "start_time": "2023-01-11T16:39:48.595Z"
   },
   {
    "duration": 5,
    "start_time": "2023-01-11T16:39:48.723Z"
   },
   {
    "duration": 135,
    "start_time": "2023-01-11T16:39:48.729Z"
   },
   {
    "duration": 186,
    "start_time": "2023-01-11T16:39:48.865Z"
   },
   {
    "duration": 183,
    "start_time": "2023-01-11T16:39:49.053Z"
   },
   {
    "duration": 37,
    "start_time": "2023-01-11T16:39:49.237Z"
   },
   {
    "duration": 1757,
    "start_time": "2023-01-11T16:39:49.276Z"
   },
   {
    "duration": 1492,
    "start_time": "2023-01-11T16:39:51.034Z"
   },
   {
    "duration": 1515,
    "start_time": "2023-01-11T16:39:52.527Z"
   },
   {
    "duration": 1557,
    "start_time": "2023-01-11T16:39:54.044Z"
   },
   {
    "duration": 34,
    "start_time": "2023-01-11T16:39:55.602Z"
   },
   {
    "duration": 30,
    "start_time": "2023-01-11T16:39:55.638Z"
   },
   {
    "duration": 25,
    "start_time": "2023-01-11T16:39:55.669Z"
   },
   {
    "duration": 4206,
    "start_time": "2023-01-11T16:39:55.696Z"
   },
   {
    "duration": 368,
    "start_time": "2023-01-11T16:39:59.904Z"
   },
   {
    "duration": 68,
    "start_time": "2023-01-11T16:40:00.273Z"
   },
   {
    "duration": 24,
    "start_time": "2023-01-11T16:40:00.342Z"
   },
   {
    "duration": 7757,
    "start_time": "2023-01-11T16:40:00.367Z"
   },
   {
    "duration": 157,
    "start_time": "2023-01-11T16:40:08.126Z"
   },
   {
    "duration": 48,
    "start_time": "2023-01-11T16:55:14.382Z"
   },
   {
    "duration": 1404,
    "start_time": "2023-01-11T16:55:25.868Z"
   },
   {
    "duration": 1012,
    "start_time": "2023-01-11T16:55:27.274Z"
   },
   {
    "duration": 148,
    "start_time": "2023-01-11T16:55:28.288Z"
   },
   {
    "duration": 125,
    "start_time": "2023-01-11T16:55:28.439Z"
   },
   {
    "duration": 5,
    "start_time": "2023-01-11T16:55:28.566Z"
   },
   {
    "duration": 135,
    "start_time": "2023-01-11T16:55:28.572Z"
   },
   {
    "duration": 183,
    "start_time": "2023-01-11T16:55:28.709Z"
   },
   {
    "duration": 177,
    "start_time": "2023-01-11T16:55:28.894Z"
   },
   {
    "duration": 36,
    "start_time": "2023-01-11T16:55:29.073Z"
   },
   {
    "duration": 1770,
    "start_time": "2023-01-11T16:55:29.120Z"
   },
   {
    "duration": 1601,
    "start_time": "2023-01-11T16:55:30.891Z"
   },
   {
    "duration": 1524,
    "start_time": "2023-01-11T16:55:32.493Z"
   },
   {
    "duration": 1603,
    "start_time": "2023-01-11T16:55:34.020Z"
   },
   {
    "duration": 28,
    "start_time": "2023-01-11T16:55:35.625Z"
   },
   {
    "duration": 31,
    "start_time": "2023-01-11T16:55:35.655Z"
   },
   {
    "duration": 42,
    "start_time": "2023-01-11T16:55:35.687Z"
   },
   {
    "duration": 3966,
    "start_time": "2023-01-11T16:55:35.731Z"
   },
   {
    "duration": 341,
    "start_time": "2023-01-11T16:55:39.699Z"
   },
   {
    "duration": 56,
    "start_time": "2023-01-11T16:55:40.041Z"
   },
   {
    "duration": 31,
    "start_time": "2023-01-11T16:55:40.099Z"
   },
   {
    "duration": 10127,
    "start_time": "2023-01-11T16:55:40.132Z"
   },
   {
    "duration": 158,
    "start_time": "2023-01-11T16:55:50.261Z"
   },
   {
    "duration": 3129,
    "start_time": "2023-01-11T16:55:50.421Z"
   },
   {
    "duration": 1324,
    "start_time": "2023-01-11T16:57:06.958Z"
   },
   {
    "duration": 771,
    "start_time": "2023-01-11T16:57:08.284Z"
   },
   {
    "duration": 146,
    "start_time": "2023-01-11T16:57:09.056Z"
   },
   {
    "duration": 134,
    "start_time": "2023-01-11T16:57:09.204Z"
   },
   {
    "duration": 5,
    "start_time": "2023-01-11T16:57:09.340Z"
   },
   {
    "duration": 131,
    "start_time": "2023-01-11T16:57:09.346Z"
   },
   {
    "duration": 192,
    "start_time": "2023-01-11T16:57:09.478Z"
   },
   {
    "duration": 178,
    "start_time": "2023-01-11T16:57:09.672Z"
   },
   {
    "duration": 36,
    "start_time": "2023-01-11T16:57:09.851Z"
   },
   {
    "duration": 1684,
    "start_time": "2023-01-11T16:57:09.889Z"
   },
   {
    "duration": 1442,
    "start_time": "2023-01-11T16:57:11.574Z"
   },
   {
    "duration": 1473,
    "start_time": "2023-01-11T16:57:13.020Z"
   },
   {
    "duration": 1572,
    "start_time": "2023-01-11T16:57:14.495Z"
   },
   {
    "duration": 27,
    "start_time": "2023-01-11T16:57:16.069Z"
   },
   {
    "duration": 44,
    "start_time": "2023-01-11T16:57:16.098Z"
   },
   {
    "duration": 24,
    "start_time": "2023-01-11T16:57:16.143Z"
   },
   {
    "duration": 3937,
    "start_time": "2023-01-11T16:57:16.168Z"
   },
   {
    "duration": 345,
    "start_time": "2023-01-11T16:57:20.107Z"
   },
   {
    "duration": 55,
    "start_time": "2023-01-11T16:57:20.454Z"
   },
   {
    "duration": 23,
    "start_time": "2023-01-11T16:57:20.520Z"
   },
   {
    "duration": 8554,
    "start_time": "2023-01-11T16:57:20.545Z"
   },
   {
    "duration": 167,
    "start_time": "2023-01-11T16:57:29.101Z"
   },
   {
    "duration": 46,
    "start_time": "2023-01-11T17:02:37.099Z"
   },
   {
    "duration": 1450,
    "start_time": "2023-01-11T17:02:48.303Z"
   },
   {
    "duration": 1068,
    "start_time": "2023-01-11T17:03:18.239Z"
   },
   {
    "duration": 158,
    "start_time": "2023-01-11T17:03:20.396Z"
   },
   {
    "duration": 142,
    "start_time": "2023-01-11T17:03:25.881Z"
   },
   {
    "duration": 5,
    "start_time": "2023-01-11T17:03:29.769Z"
   },
   {
    "duration": 144,
    "start_time": "2023-01-11T17:03:34.733Z"
   },
   {
    "duration": 196,
    "start_time": "2023-01-11T17:03:40.194Z"
   },
   {
    "duration": 177,
    "start_time": "2023-01-11T17:03:41.716Z"
   },
   {
    "duration": 32,
    "start_time": "2023-01-11T17:03:51.146Z"
   },
   {
    "duration": 1697,
    "start_time": "2023-01-11T17:03:55.594Z"
   },
   {
    "duration": 1466,
    "start_time": "2023-01-11T17:04:05.844Z"
   },
   {
    "duration": 1525,
    "start_time": "2023-01-11T17:04:07.313Z"
   },
   {
    "duration": 1538,
    "start_time": "2023-01-11T17:04:09.168Z"
   },
   {
    "duration": 116,
    "start_time": "2023-01-11T17:04:14.300Z"
   },
   {
    "duration": 6,
    "start_time": "2023-01-11T17:04:34.132Z"
   },
   {
    "duration": 27,
    "start_time": "2023-01-11T17:04:43.244Z"
   },
   {
    "duration": 1387,
    "start_time": "2023-01-11T17:11:12.900Z"
   },
   {
    "duration": 758,
    "start_time": "2023-01-11T17:11:14.289Z"
   },
   {
    "duration": 149,
    "start_time": "2023-01-11T17:11:15.049Z"
   },
   {
    "duration": 125,
    "start_time": "2023-01-11T17:11:15.199Z"
   },
   {
    "duration": 4,
    "start_time": "2023-01-11T17:11:15.326Z"
   },
   {
    "duration": 143,
    "start_time": "2023-01-11T17:11:15.331Z"
   },
   {
    "duration": 231,
    "start_time": "2023-01-11T17:11:15.476Z"
   },
   {
    "duration": 181,
    "start_time": "2023-01-11T17:11:15.709Z"
   },
   {
    "duration": 43,
    "start_time": "2023-01-11T17:11:15.891Z"
   },
   {
    "duration": 1720,
    "start_time": "2023-01-11T17:11:15.936Z"
   },
   {
    "duration": 1491,
    "start_time": "2023-01-11T17:11:17.658Z"
   },
   {
    "duration": 1571,
    "start_time": "2023-01-11T17:11:19.150Z"
   },
   {
    "duration": 1594,
    "start_time": "2023-01-11T17:11:20.723Z"
   },
   {
    "duration": 139,
    "start_time": "2023-01-11T17:11:22.321Z"
   },
   {
    "duration": 0,
    "start_time": "2023-01-11T17:11:22.461Z"
   },
   {
    "duration": 0,
    "start_time": "2023-01-11T17:11:22.462Z"
   },
   {
    "duration": 0,
    "start_time": "2023-01-11T17:11:22.463Z"
   },
   {
    "duration": 0,
    "start_time": "2023-01-11T17:11:22.464Z"
   },
   {
    "duration": 0,
    "start_time": "2023-01-11T17:11:22.465Z"
   },
   {
    "duration": 0,
    "start_time": "2023-01-11T17:11:22.466Z"
   },
   {
    "duration": 0,
    "start_time": "2023-01-11T17:11:22.467Z"
   },
   {
    "duration": 0,
    "start_time": "2023-01-11T17:11:22.468Z"
   },
   {
    "duration": 0,
    "start_time": "2023-01-11T17:11:22.469Z"
   },
   {
    "duration": 0,
    "start_time": "2023-01-11T17:11:22.470Z"
   },
   {
    "duration": 0,
    "start_time": "2023-01-11T17:11:22.471Z"
   },
   {
    "duration": 0,
    "start_time": "2023-01-11T17:11:22.471Z"
   },
   {
    "duration": 0,
    "start_time": "2023-01-11T17:11:22.472Z"
   },
   {
    "duration": 0,
    "start_time": "2023-01-11T17:11:22.473Z"
   },
   {
    "duration": 0,
    "start_time": "2023-01-11T17:11:22.474Z"
   },
   {
    "duration": 29,
    "start_time": "2023-01-11T17:12:06.270Z"
   },
   {
    "duration": 33,
    "start_time": "2023-01-11T17:14:17.152Z"
   },
   {
    "duration": 1418,
    "start_time": "2023-01-11T17:14:24.392Z"
   },
   {
    "duration": 844,
    "start_time": "2023-01-11T17:14:25.812Z"
   },
   {
    "duration": 142,
    "start_time": "2023-01-11T17:14:26.658Z"
   },
   {
    "duration": 121,
    "start_time": "2023-01-11T17:14:26.802Z"
   },
   {
    "duration": 7,
    "start_time": "2023-01-11T17:14:26.924Z"
   },
   {
    "duration": 125,
    "start_time": "2023-01-11T17:14:26.932Z"
   },
   {
    "duration": 182,
    "start_time": "2023-01-11T17:14:27.058Z"
   },
   {
    "duration": 174,
    "start_time": "2023-01-11T17:14:27.242Z"
   },
   {
    "duration": 33,
    "start_time": "2023-01-11T17:14:27.417Z"
   },
   {
    "duration": 1746,
    "start_time": "2023-01-11T17:14:27.453Z"
   },
   {
    "duration": 1581,
    "start_time": "2023-01-11T17:14:29.201Z"
   },
   {
    "duration": 1607,
    "start_time": "2023-01-11T17:14:30.784Z"
   },
   {
    "duration": 1670,
    "start_time": "2023-01-11T17:14:32.393Z"
   },
   {
    "duration": 29,
    "start_time": "2023-01-11T17:14:34.065Z"
   },
   {
    "duration": 45,
    "start_time": "2023-01-11T17:14:34.096Z"
   },
   {
    "duration": 28,
    "start_time": "2023-01-11T17:14:34.143Z"
   },
   {
    "duration": 4251,
    "start_time": "2023-01-11T17:14:34.172Z"
   },
   {
    "duration": 337,
    "start_time": "2023-01-11T17:14:38.430Z"
   },
   {
    "duration": 70,
    "start_time": "2023-01-11T17:14:38.769Z"
   },
   {
    "duration": 19,
    "start_time": "2023-01-11T17:14:38.841Z"
   },
   {
    "duration": 10834,
    "start_time": "2023-01-11T17:14:38.862Z"
   },
   {
    "duration": 168,
    "start_time": "2023-01-11T17:14:49.697Z"
   },
   {
    "duration": 4458,
    "start_time": "2023-01-11T17:14:49.867Z"
   },
   {
    "duration": 1892,
    "start_time": "2023-01-12T14:55:05.577Z"
   },
   {
    "duration": 2988,
    "start_time": "2023-01-12T14:55:07.471Z"
   },
   {
    "duration": 126,
    "start_time": "2023-01-12T14:55:10.460Z"
   },
   {
    "duration": 97,
    "start_time": "2023-01-12T14:55:10.587Z"
   },
   {
    "duration": 22,
    "start_time": "2023-01-12T14:55:10.686Z"
   },
   {
    "duration": 107,
    "start_time": "2023-01-12T14:55:10.709Z"
   },
   {
    "duration": 168,
    "start_time": "2023-01-12T14:55:10.818Z"
   },
   {
    "duration": 189,
    "start_time": "2023-01-12T14:55:10.988Z"
   },
   {
    "duration": 45,
    "start_time": "2023-01-12T14:55:11.178Z"
   },
   {
    "duration": 1742,
    "start_time": "2023-01-12T14:55:11.226Z"
   },
   {
    "duration": 1461,
    "start_time": "2023-01-12T14:55:12.970Z"
   },
   {
    "duration": 1513,
    "start_time": "2023-01-12T14:55:14.433Z"
   },
   {
    "duration": 1624,
    "start_time": "2023-01-12T14:55:15.948Z"
   },
   {
    "duration": 40,
    "start_time": "2023-01-12T14:55:17.573Z"
   },
   {
    "duration": 31,
    "start_time": "2023-01-12T14:55:17.615Z"
   },
   {
    "duration": 23,
    "start_time": "2023-01-12T14:55:17.648Z"
   },
   {
    "duration": 3966,
    "start_time": "2023-01-12T14:55:17.673Z"
   },
   {
    "duration": 346,
    "start_time": "2023-01-12T14:55:21.642Z"
   },
   {
    "duration": 53,
    "start_time": "2023-01-12T14:55:31.506Z"
   },
   {
    "duration": 21,
    "start_time": "2023-01-12T14:55:37.084Z"
   },
   {
    "duration": 59,
    "start_time": "2023-01-12T14:56:01.389Z"
   },
   {
    "duration": 8840,
    "start_time": "2023-01-12T14:56:18.511Z"
   },
   {
    "duration": 117,
    "start_time": "2023-01-12T14:56:57.353Z"
   },
   {
    "duration": 21,
    "start_time": "2023-01-12T14:56:59.923Z"
   },
   {
    "duration": 8874,
    "start_time": "2023-01-12T14:57:23.533Z"
   },
   {
    "duration": 303,
    "start_time": "2023-01-12T14:57:48.966Z"
   },
   {
    "duration": 255,
    "start_time": "2023-01-12T14:57:52.348Z"
   },
   {
    "duration": 73,
    "start_time": "2023-01-12T14:57:58.794Z"
   },
   {
    "duration": 914,
    "start_time": "2023-01-12T14:58:01.538Z"
   },
   {
    "duration": 8866,
    "start_time": "2023-01-12T15:00:30.316Z"
   },
   {
    "duration": 8670,
    "start_time": "2023-01-12T15:03:15.176Z"
   },
   {
    "duration": 1220,
    "start_time": "2023-01-12T15:04:11.473Z"
   },
   {
    "duration": 17,
    "start_time": "2023-01-12T15:05:21.269Z"
   },
   {
    "duration": 1807,
    "start_time": "2023-01-12T15:06:02.114Z"
   },
   {
    "duration": 2968,
    "start_time": "2023-01-12T15:06:03.923Z"
   },
   {
    "duration": 136,
    "start_time": "2023-01-12T15:06:06.893Z"
   },
   {
    "duration": 120,
    "start_time": "2023-01-12T15:06:07.031Z"
   },
   {
    "duration": 5,
    "start_time": "2023-01-12T15:06:07.153Z"
   },
   {
    "duration": 123,
    "start_time": "2023-01-12T15:06:07.159Z"
   },
   {
    "duration": 176,
    "start_time": "2023-01-12T15:06:07.284Z"
   },
   {
    "duration": 191,
    "start_time": "2023-01-12T15:06:07.461Z"
   },
   {
    "duration": 37,
    "start_time": "2023-01-12T15:06:07.653Z"
   },
   {
    "duration": 1737,
    "start_time": "2023-01-12T15:06:07.693Z"
   },
   {
    "duration": 1478,
    "start_time": "2023-01-12T15:06:09.432Z"
   },
   {
    "duration": 1438,
    "start_time": "2023-01-12T15:06:10.912Z"
   },
   {
    "duration": 1609,
    "start_time": "2023-01-12T15:06:12.351Z"
   },
   {
    "duration": 31,
    "start_time": "2023-01-12T15:06:13.961Z"
   },
   {
    "duration": 39,
    "start_time": "2023-01-12T15:06:13.994Z"
   },
   {
    "duration": 22,
    "start_time": "2023-01-12T15:06:14.035Z"
   },
   {
    "duration": 3994,
    "start_time": "2023-01-12T15:06:14.059Z"
   },
   {
    "duration": 396,
    "start_time": "2023-01-12T15:06:18.055Z"
   },
   {
    "duration": 62,
    "start_time": "2023-01-12T15:06:18.452Z"
   },
   {
    "duration": 21,
    "start_time": "2023-01-12T15:06:18.515Z"
   },
   {
    "duration": 125,
    "start_time": "2023-01-12T15:06:18.538Z"
   },
   {
    "duration": 0,
    "start_time": "2023-01-12T15:06:18.664Z"
   },
   {
    "duration": 0,
    "start_time": "2023-01-12T15:06:18.666Z"
   },
   {
    "duration": 0,
    "start_time": "2023-01-12T15:06:18.666Z"
   },
   {
    "duration": 0,
    "start_time": "2023-01-12T15:06:18.667Z"
   },
   {
    "duration": 0,
    "start_time": "2023-01-12T15:06:18.668Z"
   },
   {
    "duration": 0,
    "start_time": "2023-01-12T15:06:18.669Z"
   },
   {
    "duration": 0,
    "start_time": "2023-01-12T15:06:18.670Z"
   },
   {
    "duration": 0,
    "start_time": "2023-01-12T15:06:18.671Z"
   },
   {
    "duration": 0,
    "start_time": "2023-01-12T15:06:18.672Z"
   },
   {
    "duration": 518,
    "start_time": "2023-01-12T15:06:26.598Z"
   },
   {
    "duration": 1740,
    "start_time": "2023-01-12T15:07:17.606Z"
   },
   {
    "duration": 3045,
    "start_time": "2023-01-12T15:07:19.348Z"
   },
   {
    "duration": 131,
    "start_time": "2023-01-12T15:07:22.395Z"
   },
   {
    "duration": 120,
    "start_time": "2023-01-12T15:07:22.529Z"
   },
   {
    "duration": 5,
    "start_time": "2023-01-12T15:07:22.651Z"
   },
   {
    "duration": 127,
    "start_time": "2023-01-12T15:07:22.658Z"
   },
   {
    "duration": 182,
    "start_time": "2023-01-12T15:07:22.787Z"
   },
   {
    "duration": 193,
    "start_time": "2023-01-12T15:07:22.971Z"
   },
   {
    "duration": 48,
    "start_time": "2023-01-12T15:07:23.165Z"
   },
   {
    "duration": 1825,
    "start_time": "2023-01-12T15:07:23.216Z"
   },
   {
    "duration": 1414,
    "start_time": "2023-01-12T15:07:25.042Z"
   },
   {
    "duration": 1510,
    "start_time": "2023-01-12T15:07:26.457Z"
   },
   {
    "duration": 1606,
    "start_time": "2023-01-12T15:07:27.969Z"
   },
   {
    "duration": 39,
    "start_time": "2023-01-12T15:07:29.577Z"
   },
   {
    "duration": 31,
    "start_time": "2023-01-12T15:07:29.618Z"
   },
   {
    "duration": 26,
    "start_time": "2023-01-12T15:07:29.650Z"
   },
   {
    "duration": 3998,
    "start_time": "2023-01-12T15:07:29.677Z"
   },
   {
    "duration": 365,
    "start_time": "2023-01-12T15:07:33.677Z"
   },
   {
    "duration": 57,
    "start_time": "2023-01-12T15:07:34.043Z"
   },
   {
    "duration": 20,
    "start_time": "2023-01-12T15:07:34.113Z"
   },
   {
    "duration": 121,
    "start_time": "2023-01-12T15:07:34.135Z"
   },
   {
    "duration": 0,
    "start_time": "2023-01-12T15:07:34.257Z"
   },
   {
    "duration": 0,
    "start_time": "2023-01-12T15:07:34.258Z"
   },
   {
    "duration": 0,
    "start_time": "2023-01-12T15:07:34.260Z"
   },
   {
    "duration": 0,
    "start_time": "2023-01-12T15:07:34.261Z"
   },
   {
    "duration": 0,
    "start_time": "2023-01-12T15:07:34.262Z"
   },
   {
    "duration": 0,
    "start_time": "2023-01-12T15:07:34.263Z"
   },
   {
    "duration": 0,
    "start_time": "2023-01-12T15:07:34.264Z"
   },
   {
    "duration": 0,
    "start_time": "2023-01-12T15:07:34.265Z"
   },
   {
    "duration": 0,
    "start_time": "2023-01-12T15:07:34.266Z"
   },
   {
    "duration": 9,
    "start_time": "2023-01-12T15:08:19.881Z"
   },
   {
    "duration": 15,
    "start_time": "2023-01-12T15:08:26.410Z"
   },
   {
    "duration": 62,
    "start_time": "2023-01-12T15:08:35.868Z"
   },
   {
    "duration": 264,
    "start_time": "2023-01-12T15:08:57.011Z"
   },
   {
    "duration": 902,
    "start_time": "2023-01-12T15:09:03.107Z"
   },
   {
    "duration": 1150,
    "start_time": "2023-01-12T15:09:56.929Z"
   },
   {
    "duration": 1689,
    "start_time": "2023-01-13T09:49:10.982Z"
   },
   {
    "duration": 1215,
    "start_time": "2023-01-13T09:49:12.674Z"
   },
   {
    "duration": 134,
    "start_time": "2023-01-13T09:49:13.891Z"
   },
   {
    "duration": 127,
    "start_time": "2023-01-13T09:49:14.026Z"
   },
   {
    "duration": 6,
    "start_time": "2023-01-13T09:49:14.155Z"
   },
   {
    "duration": 161,
    "start_time": "2023-01-13T09:49:14.162Z"
   },
   {
    "duration": 197,
    "start_time": "2023-01-13T09:49:14.326Z"
   },
   {
    "duration": 205,
    "start_time": "2023-01-13T09:49:14.525Z"
   },
   {
    "duration": 40,
    "start_time": "2023-01-13T09:49:14.732Z"
   },
   {
    "duration": 2130,
    "start_time": "2023-01-13T09:49:14.775Z"
   },
   {
    "duration": 1562,
    "start_time": "2023-01-13T09:49:16.907Z"
   },
   {
    "duration": 1586,
    "start_time": "2023-01-13T09:49:18.470Z"
   },
   {
    "duration": 1651,
    "start_time": "2023-01-13T09:49:20.058Z"
   },
   {
    "duration": 33,
    "start_time": "2023-01-13T09:49:21.714Z"
   },
   {
    "duration": 31,
    "start_time": "2023-01-13T09:49:21.749Z"
   },
   {
    "duration": 47,
    "start_time": "2023-01-13T09:49:21.781Z"
   },
   {
    "duration": 4404,
    "start_time": "2023-01-13T09:49:21.829Z"
   },
   {
    "duration": 403,
    "start_time": "2023-01-13T09:49:26.235Z"
   },
   {
    "duration": 107,
    "start_time": "2023-01-13T09:49:26.640Z"
   },
   {
    "duration": 23,
    "start_time": "2023-01-13T09:49:26.749Z"
   },
   {
    "duration": 1155,
    "start_time": "2023-01-13T09:49:26.775Z"
   },
   {
    "duration": 185,
    "start_time": "2023-01-13T09:49:27.932Z"
   },
   {
    "duration": 230,
    "start_time": "2023-01-13T09:49:28.119Z"
   },
   {
    "duration": 0,
    "start_time": "2023-01-13T09:49:28.351Z"
   },
   {
    "duration": 0,
    "start_time": "2023-01-13T09:49:28.352Z"
   },
   {
    "duration": 0,
    "start_time": "2023-01-13T09:49:28.353Z"
   },
   {
    "duration": 0,
    "start_time": "2023-01-13T09:49:28.354Z"
   },
   {
    "duration": 0,
    "start_time": "2023-01-13T09:49:28.355Z"
   },
   {
    "duration": 0,
    "start_time": "2023-01-13T09:49:28.356Z"
   },
   {
    "duration": 1372,
    "start_time": "2023-01-13T09:52:21.056Z"
   },
   {
    "duration": 871,
    "start_time": "2023-01-13T09:52:22.430Z"
   },
   {
    "duration": 132,
    "start_time": "2023-01-13T09:52:23.303Z"
   },
   {
    "duration": 116,
    "start_time": "2023-01-13T09:52:23.436Z"
   },
   {
    "duration": 5,
    "start_time": "2023-01-13T09:52:23.554Z"
   },
   {
    "duration": 117,
    "start_time": "2023-01-13T09:52:23.560Z"
   },
   {
    "duration": 174,
    "start_time": "2023-01-13T09:52:23.679Z"
   },
   {
    "duration": 199,
    "start_time": "2023-01-13T09:52:23.855Z"
   },
   {
    "duration": 40,
    "start_time": "2023-01-13T09:52:24.055Z"
   },
   {
    "duration": 1832,
    "start_time": "2023-01-13T09:52:24.097Z"
   },
   {
    "duration": 1514,
    "start_time": "2023-01-13T09:52:25.931Z"
   },
   {
    "duration": 1527,
    "start_time": "2023-01-13T09:52:27.447Z"
   },
   {
    "duration": 1660,
    "start_time": "2023-01-13T09:52:28.976Z"
   },
   {
    "duration": 35,
    "start_time": "2023-01-13T09:52:30.639Z"
   },
   {
    "duration": 43,
    "start_time": "2023-01-13T09:52:30.676Z"
   },
   {
    "duration": 41,
    "start_time": "2023-01-13T09:52:30.721Z"
   },
   {
    "duration": 4256,
    "start_time": "2023-01-13T09:52:30.764Z"
   },
   {
    "duration": 337,
    "start_time": "2023-01-13T09:52:35.022Z"
   },
   {
    "duration": 61,
    "start_time": "2023-01-13T09:52:35.361Z"
   },
   {
    "duration": 22,
    "start_time": "2023-01-13T09:52:35.424Z"
   },
   {
    "duration": 1519,
    "start_time": "2023-01-13T09:52:35.448Z"
   },
   {
    "duration": 0,
    "start_time": "2023-01-13T09:52:36.969Z"
   },
   {
    "duration": 0,
    "start_time": "2023-01-13T09:52:36.971Z"
   },
   {
    "duration": 0,
    "start_time": "2023-01-13T09:52:36.972Z"
   },
   {
    "duration": 0,
    "start_time": "2023-01-13T09:52:36.974Z"
   },
   {
    "duration": 0,
    "start_time": "2023-01-13T09:52:36.975Z"
   },
   {
    "duration": 0,
    "start_time": "2023-01-13T09:52:36.976Z"
   },
   {
    "duration": 0,
    "start_time": "2023-01-13T09:52:36.978Z"
   },
   {
    "duration": 0,
    "start_time": "2023-01-13T09:52:36.979Z"
   },
   {
    "duration": 17,
    "start_time": "2023-01-13T10:03:15.634Z"
   },
   {
    "duration": 1451,
    "start_time": "2023-01-13T10:03:24.315Z"
   },
   {
    "duration": 959,
    "start_time": "2023-01-13T10:03:25.768Z"
   },
   {
    "duration": 135,
    "start_time": "2023-01-13T10:03:26.728Z"
   },
   {
    "duration": 113,
    "start_time": "2023-01-13T10:03:26.865Z"
   },
   {
    "duration": 5,
    "start_time": "2023-01-13T10:03:26.980Z"
   },
   {
    "duration": 130,
    "start_time": "2023-01-13T10:03:26.988Z"
   },
   {
    "duration": 169,
    "start_time": "2023-01-13T10:03:27.120Z"
   },
   {
    "duration": 202,
    "start_time": "2023-01-13T10:03:27.291Z"
   },
   {
    "duration": 40,
    "start_time": "2023-01-13T10:03:27.495Z"
   },
   {
    "duration": 1876,
    "start_time": "2023-01-13T10:03:27.538Z"
   },
   {
    "duration": 1616,
    "start_time": "2023-01-13T10:03:29.416Z"
   },
   {
    "duration": 1634,
    "start_time": "2023-01-13T10:03:31.034Z"
   },
   {
    "duration": 1755,
    "start_time": "2023-01-13T10:03:32.670Z"
   },
   {
    "duration": 31,
    "start_time": "2023-01-13T10:03:34.427Z"
   },
   {
    "duration": 32,
    "start_time": "2023-01-13T10:03:34.460Z"
   },
   {
    "duration": 45,
    "start_time": "2023-01-13T10:03:34.493Z"
   },
   {
    "duration": 4337,
    "start_time": "2023-01-13T10:03:34.540Z"
   },
   {
    "duration": 374,
    "start_time": "2023-01-13T10:03:38.879Z"
   },
   {
    "duration": 85,
    "start_time": "2023-01-13T10:03:39.255Z"
   },
   {
    "duration": 22,
    "start_time": "2023-01-13T10:03:39.342Z"
   },
   {
    "duration": 1353,
    "start_time": "2023-01-13T10:03:39.365Z"
   },
   {
    "duration": 161,
    "start_time": "2023-01-13T10:03:40.720Z"
   },
   {
    "duration": 209,
    "start_time": "2023-01-13T10:03:40.883Z"
   },
   {
    "duration": 0,
    "start_time": "2023-01-13T10:03:41.094Z"
   },
   {
    "duration": 0,
    "start_time": "2023-01-13T10:03:41.095Z"
   },
   {
    "duration": 0,
    "start_time": "2023-01-13T10:03:41.096Z"
   },
   {
    "duration": 0,
    "start_time": "2023-01-13T10:03:41.097Z"
   },
   {
    "duration": 0,
    "start_time": "2023-01-13T10:03:41.098Z"
   },
   {
    "duration": 1,
    "start_time": "2023-01-13T10:03:41.098Z"
   },
   {
    "duration": 1441,
    "start_time": "2023-01-13T10:18:33.224Z"
   },
   {
    "duration": 869,
    "start_time": "2023-01-13T10:18:34.667Z"
   },
   {
    "duration": 137,
    "start_time": "2023-01-13T10:18:35.538Z"
   },
   {
    "duration": 124,
    "start_time": "2023-01-13T10:18:35.677Z"
   },
   {
    "duration": 12,
    "start_time": "2023-01-13T10:18:35.804Z"
   },
   {
    "duration": 141,
    "start_time": "2023-01-13T10:18:35.819Z"
   },
   {
    "duration": 177,
    "start_time": "2023-01-13T10:18:35.962Z"
   },
   {
    "duration": 197,
    "start_time": "2023-01-13T10:18:36.141Z"
   },
   {
    "duration": 46,
    "start_time": "2023-01-13T10:18:36.341Z"
   },
   {
    "duration": 2057,
    "start_time": "2023-01-13T10:18:36.390Z"
   },
   {
    "duration": 1642,
    "start_time": "2023-01-13T10:18:38.448Z"
   },
   {
    "duration": 1606,
    "start_time": "2023-01-13T10:18:40.092Z"
   },
   {
    "duration": 1654,
    "start_time": "2023-01-13T10:18:41.700Z"
   },
   {
    "duration": 32,
    "start_time": "2023-01-13T10:18:43.357Z"
   },
   {
    "duration": 40,
    "start_time": "2023-01-13T10:18:43.391Z"
   },
   {
    "duration": 24,
    "start_time": "2023-01-13T10:18:43.433Z"
   },
   {
    "duration": 4217,
    "start_time": "2023-01-13T10:18:43.459Z"
   },
   {
    "duration": 367,
    "start_time": "2023-01-13T10:18:47.678Z"
   },
   {
    "duration": 65,
    "start_time": "2023-01-13T10:18:48.047Z"
   },
   {
    "duration": 21,
    "start_time": "2023-01-13T10:18:48.114Z"
   },
   {
    "duration": 1477,
    "start_time": "2023-01-13T10:18:48.136Z"
   },
   {
    "duration": 0,
    "start_time": "2023-01-13T10:18:49.615Z"
   },
   {
    "duration": 0,
    "start_time": "2023-01-13T10:18:49.617Z"
   },
   {
    "duration": 0,
    "start_time": "2023-01-13T10:18:49.619Z"
   },
   {
    "duration": 0,
    "start_time": "2023-01-13T10:18:49.620Z"
   },
   {
    "duration": 0,
    "start_time": "2023-01-13T10:18:49.621Z"
   },
   {
    "duration": 0,
    "start_time": "2023-01-13T10:18:49.622Z"
   },
   {
    "duration": 0,
    "start_time": "2023-01-13T10:18:49.623Z"
   },
   {
    "duration": 0,
    "start_time": "2023-01-13T10:18:49.625Z"
   },
   {
    "duration": 4,
    "start_time": "2023-01-13T10:20:06.206Z"
   },
   {
    "duration": 1019,
    "start_time": "2023-01-13T10:20:07.693Z"
   },
   {
    "duration": 118,
    "start_time": "2023-01-13T10:20:08.715Z"
   },
   {
    "duration": 123,
    "start_time": "2023-01-13T10:20:13.474Z"
   },
   {
    "duration": 100,
    "start_time": "2023-01-13T10:20:15.680Z"
   },
   {
    "duration": 4,
    "start_time": "2023-01-13T10:20:19.406Z"
   },
   {
    "duration": 94,
    "start_time": "2023-01-13T10:20:20.765Z"
   },
   {
    "duration": 126,
    "start_time": "2023-01-13T10:20:22.504Z"
   },
   {
    "duration": 172,
    "start_time": "2023-01-13T10:20:23.766Z"
   },
   {
    "duration": 34,
    "start_time": "2023-01-13T10:20:25.504Z"
   },
   {
    "duration": 1671,
    "start_time": "2023-01-13T10:20:26.894Z"
   },
   {
    "duration": 1493,
    "start_time": "2023-01-13T10:20:28.567Z"
   },
   {
    "duration": 1432,
    "start_time": "2023-01-13T10:20:30.062Z"
   },
   {
    "duration": 1516,
    "start_time": "2023-01-13T10:20:31.496Z"
   },
   {
    "duration": 34,
    "start_time": "2023-01-13T10:20:34.922Z"
   },
   {
    "duration": 31,
    "start_time": "2023-01-13T10:20:40.853Z"
   },
   {
    "duration": 25,
    "start_time": "2023-01-13T10:20:42.488Z"
   },
   {
    "duration": 53,
    "start_time": "2023-01-13T10:20:52.505Z"
   },
   {
    "duration": 16,
    "start_time": "2023-01-13T10:20:55.410Z"
   },
   {
    "duration": 22,
    "start_time": "2023-01-13T10:21:41.884Z"
   },
   {
    "duration": 57,
    "start_time": "2023-01-13T10:22:00.085Z"
   },
   {
    "duration": 1142,
    "start_time": "2023-01-13T10:22:13.935Z"
   },
   {
    "duration": 14,
    "start_time": "2023-01-13T10:23:11.854Z"
   },
   {
    "duration": 29,
    "start_time": "2023-01-13T10:23:59.508Z"
   },
   {
    "duration": 927,
    "start_time": "2023-01-13T10:24:31.266Z"
   },
   {
    "duration": 1151,
    "start_time": "2023-01-13T10:24:38.039Z"
   },
   {
    "duration": 15,
    "start_time": "2023-01-13T10:24:43.151Z"
   },
   {
    "duration": 1966,
    "start_time": "2023-01-13T10:24:48.984Z"
   },
   {
    "duration": 16,
    "start_time": "2023-01-13T10:25:25.009Z"
   },
   {
    "duration": 1466,
    "start_time": "2023-01-13T10:25:32.138Z"
   },
   {
    "duration": 880,
    "start_time": "2023-01-13T10:25:33.606Z"
   },
   {
    "duration": 142,
    "start_time": "2023-01-13T10:25:34.488Z"
   },
   {
    "duration": 115,
    "start_time": "2023-01-13T10:25:34.631Z"
   },
   {
    "duration": 5,
    "start_time": "2023-01-13T10:25:34.748Z"
   },
   {
    "duration": 132,
    "start_time": "2023-01-13T10:25:34.755Z"
   },
   {
    "duration": 181,
    "start_time": "2023-01-13T10:25:34.888Z"
   },
   {
    "duration": 204,
    "start_time": "2023-01-13T10:25:35.071Z"
   },
   {
    "duration": 44,
    "start_time": "2023-01-13T10:25:35.277Z"
   },
   {
    "duration": 1948,
    "start_time": "2023-01-13T10:25:35.323Z"
   },
   {
    "duration": 1582,
    "start_time": "2023-01-13T10:25:37.273Z"
   },
   {
    "duration": 1610,
    "start_time": "2023-01-13T10:25:38.856Z"
   },
   {
    "duration": 1706,
    "start_time": "2023-01-13T10:25:40.468Z"
   },
   {
    "duration": 41,
    "start_time": "2023-01-13T10:25:42.177Z"
   },
   {
    "duration": 31,
    "start_time": "2023-01-13T10:25:42.220Z"
   },
   {
    "duration": 26,
    "start_time": "2023-01-13T10:25:42.253Z"
   },
   {
    "duration": 4356,
    "start_time": "2023-01-13T10:25:42.281Z"
   },
   {
    "duration": 376,
    "start_time": "2023-01-13T10:25:46.639Z"
   },
   {
    "duration": 64,
    "start_time": "2023-01-13T10:25:47.017Z"
   },
   {
    "duration": 37,
    "start_time": "2023-01-13T10:25:47.082Z"
   },
   {
    "duration": 3725,
    "start_time": "2023-01-13T10:25:47.121Z"
   },
   {
    "duration": 170,
    "start_time": "2023-01-13T10:25:50.848Z"
   },
   {
    "duration": 31797,
    "start_time": "2023-01-13T10:25:51.020Z"
   },
   {
    "duration": 337514,
    "start_time": "2023-01-13T10:26:22.913Z"
   },
   {
    "duration": 5397,
    "start_time": "2023-01-13T10:32:00.429Z"
   },
   {
    "duration": 1463,
    "start_time": "2023-01-13T10:32:51.443Z"
   },
   {
    "duration": 843,
    "start_time": "2023-01-13T10:32:52.908Z"
   },
   {
    "duration": 126,
    "start_time": "2023-01-13T10:32:53.753Z"
   },
   {
    "duration": 110,
    "start_time": "2023-01-13T10:32:53.881Z"
   },
   {
    "duration": 5,
    "start_time": "2023-01-13T10:32:53.993Z"
   },
   {
    "duration": 116,
    "start_time": "2023-01-13T10:32:54.013Z"
   },
   {
    "duration": 182,
    "start_time": "2023-01-13T10:32:54.131Z"
   },
   {
    "duration": 205,
    "start_time": "2023-01-13T10:32:54.315Z"
   },
   {
    "duration": 34,
    "start_time": "2023-01-13T10:32:54.522Z"
   },
   {
    "duration": 1854,
    "start_time": "2023-01-13T10:32:54.558Z"
   },
   {
    "duration": 1495,
    "start_time": "2023-01-13T10:32:56.414Z"
   },
   {
    "duration": 1489,
    "start_time": "2023-01-13T10:32:57.911Z"
   },
   {
    "duration": 1737,
    "start_time": "2023-01-13T10:32:59.402Z"
   },
   {
    "duration": 31,
    "start_time": "2023-01-13T10:33:01.142Z"
   },
   {
    "duration": 47,
    "start_time": "2023-01-13T10:33:01.176Z"
   },
   {
    "duration": 28,
    "start_time": "2023-01-13T10:33:01.225Z"
   },
   {
    "duration": 4475,
    "start_time": "2023-01-13T10:33:01.255Z"
   },
   {
    "duration": 349,
    "start_time": "2023-01-13T10:33:05.732Z"
   },
   {
    "duration": 38,
    "start_time": "2023-01-13T10:33:06.084Z"
   },
   {
    "duration": 63,
    "start_time": "2023-01-13T10:33:06.124Z"
   },
   {
    "duration": 34,
    "start_time": "2023-01-13T10:33:06.189Z"
   },
   {
    "duration": 3753,
    "start_time": "2023-01-13T10:33:06.225Z"
   },
   {
    "duration": 161,
    "start_time": "2023-01-13T10:33:09.980Z"
   },
   {
    "duration": 31384,
    "start_time": "2023-01-13T10:33:10.143Z"
   },
   {
    "duration": 1407,
    "start_time": "2023-01-13T10:34:31.630Z"
   },
   {
    "duration": 847,
    "start_time": "2023-01-13T10:34:33.039Z"
   },
   {
    "duration": 143,
    "start_time": "2023-01-13T10:34:33.888Z"
   },
   {
    "duration": 115,
    "start_time": "2023-01-13T10:34:34.033Z"
   },
   {
    "duration": 5,
    "start_time": "2023-01-13T10:34:34.150Z"
   },
   {
    "duration": 126,
    "start_time": "2023-01-13T10:34:34.156Z"
   },
   {
    "duration": 191,
    "start_time": "2023-01-13T10:34:34.284Z"
   },
   {
    "duration": 197,
    "start_time": "2023-01-13T10:34:34.477Z"
   },
   {
    "duration": 48,
    "start_time": "2023-01-13T10:34:34.676Z"
   },
   {
    "duration": 2010,
    "start_time": "2023-01-13T10:34:34.725Z"
   },
   {
    "duration": 1494,
    "start_time": "2023-01-13T10:34:36.737Z"
   },
   {
    "duration": 1594,
    "start_time": "2023-01-13T10:34:38.232Z"
   },
   {
    "duration": 1755,
    "start_time": "2023-01-13T10:34:39.828Z"
   },
   {
    "duration": 39,
    "start_time": "2023-01-13T10:34:41.587Z"
   },
   {
    "duration": 35,
    "start_time": "2023-01-13T10:34:41.628Z"
   },
   {
    "duration": 26,
    "start_time": "2023-01-13T10:34:41.665Z"
   },
   {
    "duration": 4197,
    "start_time": "2023-01-13T10:34:41.712Z"
   },
   {
    "duration": 361,
    "start_time": "2023-01-13T10:34:45.910Z"
   },
   {
    "duration": 25,
    "start_time": "2023-01-13T10:34:46.273Z"
   },
   {
    "duration": 67,
    "start_time": "2023-01-13T10:34:46.313Z"
   },
   {
    "duration": 45,
    "start_time": "2023-01-13T10:34:46.382Z"
   },
   {
    "duration": 3967,
    "start_time": "2023-01-13T10:34:46.429Z"
   },
   {
    "duration": 161,
    "start_time": "2023-01-13T10:34:50.398Z"
   },
   {
    "duration": 30757,
    "start_time": "2023-01-13T10:34:50.561Z"
   },
   {
    "duration": 1471,
    "start_time": "2023-01-13T10:39:34.199Z"
   },
   {
    "duration": 959,
    "start_time": "2023-01-13T10:39:35.672Z"
   },
   {
    "duration": 130,
    "start_time": "2023-01-13T10:39:36.635Z"
   },
   {
    "duration": 104,
    "start_time": "2023-01-13T10:39:36.767Z"
   },
   {
    "duration": 5,
    "start_time": "2023-01-13T10:39:36.872Z"
   },
   {
    "duration": 144,
    "start_time": "2023-01-13T10:39:36.879Z"
   },
   {
    "duration": 177,
    "start_time": "2023-01-13T10:39:37.024Z"
   },
   {
    "duration": 192,
    "start_time": "2023-01-13T10:39:37.203Z"
   },
   {
    "duration": 38,
    "start_time": "2023-01-13T10:39:37.397Z"
   },
   {
    "duration": 1829,
    "start_time": "2023-01-13T10:39:37.437Z"
   },
   {
    "duration": 1469,
    "start_time": "2023-01-13T10:39:39.268Z"
   },
   {
    "duration": 1570,
    "start_time": "2023-01-13T10:39:40.739Z"
   },
   {
    "duration": 1664,
    "start_time": "2023-01-13T10:39:42.312Z"
   },
   {
    "duration": 41,
    "start_time": "2023-01-13T10:39:43.978Z"
   },
   {
    "duration": 29,
    "start_time": "2023-01-13T10:39:44.021Z"
   },
   {
    "duration": 29,
    "start_time": "2023-01-13T10:39:44.052Z"
   },
   {
    "duration": 4165,
    "start_time": "2023-01-13T10:39:44.083Z"
   },
   {
    "duration": 405,
    "start_time": "2023-01-13T10:39:48.250Z"
   },
   {
    "duration": 65,
    "start_time": "2023-01-13T10:39:48.656Z"
   },
   {
    "duration": 17,
    "start_time": "2023-01-13T10:39:48.723Z"
   },
   {
    "duration": 3641,
    "start_time": "2023-01-13T10:39:48.742Z"
   },
   {
    "duration": 154,
    "start_time": "2023-01-13T10:39:52.384Z"
   },
   {
    "duration": 29877,
    "start_time": "2023-01-13T10:39:52.540Z"
   },
   {
    "duration": 1551,
    "start_time": "2023-01-13T10:47:09.208Z"
   },
   {
    "duration": 924,
    "start_time": "2023-01-13T10:47:10.761Z"
   },
   {
    "duration": 161,
    "start_time": "2023-01-13T10:47:11.687Z"
   },
   {
    "duration": 120,
    "start_time": "2023-01-13T10:47:11.850Z"
   },
   {
    "duration": 9,
    "start_time": "2023-01-13T10:47:11.972Z"
   },
   {
    "duration": 126,
    "start_time": "2023-01-13T10:47:11.983Z"
   },
   {
    "duration": 188,
    "start_time": "2023-01-13T10:47:12.113Z"
   },
   {
    "duration": 192,
    "start_time": "2023-01-13T10:47:12.303Z"
   },
   {
    "duration": 45,
    "start_time": "2023-01-13T10:47:12.497Z"
   },
   {
    "duration": 2061,
    "start_time": "2023-01-13T10:47:12.545Z"
   },
   {
    "duration": 1684,
    "start_time": "2023-01-13T10:47:14.607Z"
   },
   {
    "duration": 1683,
    "start_time": "2023-01-13T10:47:16.293Z"
   },
   {
    "duration": 1894,
    "start_time": "2023-01-13T10:47:17.978Z"
   },
   {
    "duration": 53,
    "start_time": "2023-01-13T10:47:19.873Z"
   },
   {
    "duration": 33,
    "start_time": "2023-01-13T10:47:19.928Z"
   },
   {
    "duration": 30,
    "start_time": "2023-01-13T10:47:19.963Z"
   },
   {
    "duration": 4673,
    "start_time": "2023-01-13T10:47:19.995Z"
   },
   {
    "duration": 407,
    "start_time": "2023-01-13T10:47:24.670Z"
   },
   {
    "duration": 77,
    "start_time": "2023-01-13T10:47:25.079Z"
   },
   {
    "duration": 21,
    "start_time": "2023-01-13T10:47:25.158Z"
   },
   {
    "duration": 3958,
    "start_time": "2023-01-13T10:47:25.182Z"
   },
   {
    "duration": 188,
    "start_time": "2023-01-13T10:47:29.141Z"
   },
   {
    "duration": 47584,
    "start_time": "2023-01-13T10:47:29.333Z"
   },
   {
    "duration": 1539,
    "start_time": "2023-01-13T10:49:20.009Z"
   },
   {
    "duration": 917,
    "start_time": "2023-01-13T10:49:21.550Z"
   },
   {
    "duration": 157,
    "start_time": "2023-01-13T10:49:22.469Z"
   },
   {
    "duration": 114,
    "start_time": "2023-01-13T10:49:22.629Z"
   },
   {
    "duration": 6,
    "start_time": "2023-01-13T10:49:22.747Z"
   },
   {
    "duration": 146,
    "start_time": "2023-01-13T10:49:22.755Z"
   },
   {
    "duration": 198,
    "start_time": "2023-01-13T10:49:22.903Z"
   },
   {
    "duration": 224,
    "start_time": "2023-01-13T10:49:23.103Z"
   },
   {
    "duration": 34,
    "start_time": "2023-01-13T10:49:23.329Z"
   },
   {
    "duration": 1987,
    "start_time": "2023-01-13T10:49:23.365Z"
   },
   {
    "duration": 1692,
    "start_time": "2023-01-13T10:49:25.353Z"
   },
   {
    "duration": 1680,
    "start_time": "2023-01-13T10:49:27.047Z"
   },
   {
    "duration": 1826,
    "start_time": "2023-01-13T10:49:28.729Z"
   },
   {
    "duration": 32,
    "start_time": "2023-01-13T10:49:30.558Z"
   },
   {
    "duration": 47,
    "start_time": "2023-01-13T10:49:30.592Z"
   },
   {
    "duration": 29,
    "start_time": "2023-01-13T10:49:30.641Z"
   },
   {
    "duration": 4479,
    "start_time": "2023-01-13T10:49:30.671Z"
   },
   {
    "duration": 409,
    "start_time": "2023-01-13T10:49:35.152Z"
   },
   {
    "duration": 69,
    "start_time": "2023-01-13T10:49:35.563Z"
   },
   {
    "duration": 21,
    "start_time": "2023-01-13T10:49:35.634Z"
   },
   {
    "duration": 3838,
    "start_time": "2023-01-13T10:49:35.657Z"
   },
   {
    "duration": 167,
    "start_time": "2023-01-13T10:49:39.497Z"
   },
   {
    "duration": 48458,
    "start_time": "2023-01-13T10:49:39.666Z"
   },
   {
    "duration": 1674,
    "start_time": "2023-01-13T23:41:27.338Z"
   },
   {
    "duration": 1030,
    "start_time": "2023-01-13T23:41:29.014Z"
   },
   {
    "duration": 140,
    "start_time": "2023-01-13T23:41:30.047Z"
   },
   {
    "duration": 115,
    "start_time": "2023-01-13T23:41:30.189Z"
   },
   {
    "duration": 17,
    "start_time": "2023-01-13T23:41:30.305Z"
   },
   {
    "duration": 140,
    "start_time": "2023-01-13T23:41:30.324Z"
   },
   {
    "duration": 194,
    "start_time": "2023-01-13T23:41:30.465Z"
   },
   {
    "duration": 196,
    "start_time": "2023-01-13T23:41:30.661Z"
   },
   {
    "duration": 36,
    "start_time": "2023-01-13T23:41:30.858Z"
   },
   {
    "duration": 1799,
    "start_time": "2023-01-13T23:41:30.897Z"
   },
   {
    "duration": 1500,
    "start_time": "2023-01-13T23:41:32.698Z"
   },
   {
    "duration": 1492,
    "start_time": "2023-01-13T23:41:34.200Z"
   },
   {
    "duration": 1648,
    "start_time": "2023-01-13T23:41:35.694Z"
   },
   {
    "duration": 30,
    "start_time": "2023-01-13T23:41:37.343Z"
   },
   {
    "duration": 43,
    "start_time": "2023-01-13T23:41:37.374Z"
   },
   {
    "duration": 27,
    "start_time": "2023-01-13T23:41:37.419Z"
   },
   {
    "duration": 4058,
    "start_time": "2023-01-13T23:41:37.448Z"
   },
   {
    "duration": 348,
    "start_time": "2023-01-13T23:41:41.507Z"
   },
   {
    "duration": 59,
    "start_time": "2023-01-13T23:41:41.856Z"
   },
   {
    "duration": 19,
    "start_time": "2023-01-13T23:41:41.917Z"
   },
   {
    "duration": 4334,
    "start_time": "2023-01-13T23:41:41.938Z"
   },
   {
    "duration": 184,
    "start_time": "2023-01-13T23:41:46.276Z"
   },
   {
    "duration": 24761,
    "start_time": "2023-01-13T23:41:46.461Z"
   },
   {
    "duration": 251810,
    "start_time": "2023-01-13T23:42:11.224Z"
   },
   {
    "duration": 5193,
    "start_time": "2023-01-13T23:46:23.036Z"
   },
   {
    "duration": 259812,
    "start_time": "2023-01-13T23:46:28.231Z"
   },
   {
    "duration": 43054,
    "start_time": "2023-01-13T23:50:48.044Z"
   },
   {
    "duration": 4,
    "start_time": "2023-01-13T23:51:31.102Z"
   },
   {
    "duration": 20,
    "start_time": "2023-01-13T23:51:31.121Z"
   }
  ],
  "kernelspec": {
   "display_name": "Python 3 (ipykernel)",
   "language": "python",
   "name": "python3"
  },
  "language_info": {
   "codemirror_mode": {
    "name": "ipython",
    "version": 3
   },
   "file_extension": ".py",
   "mimetype": "text/x-python",
   "name": "python",
   "nbconvert_exporter": "python",
   "pygments_lexer": "ipython3",
   "version": "3.10.2"
  },
  "toc": {
   "base_numbering": 1,
   "nav_menu": {},
   "number_sections": true,
   "sideBar": true,
   "skip_h1_title": true,
   "title_cell": "Table of Contents",
   "title_sidebar": "Contents",
   "toc_cell": false,
   "toc_position": {
    "height": "calc(100% - 180px)",
    "left": "10px",
    "top": "150px",
    "width": "281.771px"
   },
   "toc_section_display": true,
   "toc_window_display": true
  }
 },
 "nbformat": 4,
 "nbformat_minor": 5
}
