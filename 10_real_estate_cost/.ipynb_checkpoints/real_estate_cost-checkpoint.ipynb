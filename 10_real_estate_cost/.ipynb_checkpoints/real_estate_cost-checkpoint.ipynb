{
 "cells": [
  {
   "cell_type": "markdown",
   "id": "GEqQaHzsZ_bA",
   "metadata": {
    "id": "GEqQaHzsZ_bA"
   },
   "source": [
    "# Предсказание стоимости жилья\n",
    "\n",
    "В проекте предстоит обучить модель линейной регрессии на данных о жилье в Калифорнии в 1990 году. На основе данных нужно предсказать медианную стоимость дома в жилом массиве. Для оценки качества модели будут использованы метрики RMSE, MAE и R2."
   ]
  },
  {
   "cell_type": "markdown",
   "id": "53871372",
   "metadata": {
    "id": "53871372"
   },
   "source": [
    "## Подготовка данных"
   ]
  },
  {
   "cell_type": "code",
   "execution_count": 10,
   "id": "df92e3ec",
   "metadata": {
    "id": "df92e3ec",
    "scrolled": true
   },
   "outputs": [],
   "source": [
    "import pandas as pd \n",
    "import numpy as np\n",
    "\n",
    "import pyspark\n",
    "from pyspark.sql import SparkSession\n",
    "from pyspark.sql.types import *\n",
    "import pyspark.sql.functions as F\n",
    "\n",
    "from pyspark.ml.feature import StringIndexer, VectorAssembler, StandardScaler\n",
    "from pyspark.ml.feature import OneHotEncoder \n",
    "from pyspark.ml.regression import LinearRegression\n",
    "from pyspark.ml.evaluation import BinaryClassificationEvaluator, RegressionEvaluator #MulticlassClassificationEvaluator\n"
   ]
  },
  {
   "cell_type": "code",
   "execution_count": 11,
   "id": "5a9da1c6",
   "metadata": {
    "scrolled": false
   },
   "outputs": [
    {
     "name": "stdout",
     "output_type": "stream",
     "text": [
      "root\n",
      " |-- longitude: double (nullable = true)\n",
      " |-- latitude: double (nullable = true)\n",
      " |-- housing_median_age: double (nullable = true)\n",
      " |-- total_rooms: double (nullable = true)\n",
      " |-- total_bedrooms: double (nullable = true)\n",
      " |-- population: double (nullable = true)\n",
      " |-- households: double (nullable = true)\n",
      " |-- median_income: double (nullable = true)\n",
      " |-- median_house_value: double (nullable = true)\n",
      " |-- ocean_proximity: string (nullable = true)\n",
      "\n",
      "+---------+--------+------------------+-----------+--------------+----------+----------+-------------+------------------+---------------+\n",
      "|longitude|latitude|housing_median_age|total_rooms|total_bedrooms|population|households|median_income|median_house_value|ocean_proximity|\n",
      "+---------+--------+------------------+-----------+--------------+----------+----------+-------------+------------------+---------------+\n",
      "|  -122.23|   37.88|              41.0|      880.0|         129.0|     322.0|     126.0|       8.3252|          452600.0|       NEAR BAY|\n",
      "|  -122.22|   37.86|              21.0|     7099.0|        1106.0|    2401.0|    1138.0|       8.3014|          358500.0|       NEAR BAY|\n",
      "|  -122.24|   37.85|              52.0|     1467.0|         190.0|     496.0|     177.0|       7.2574|          352100.0|       NEAR BAY|\n",
      "|  -122.25|   37.85|              52.0|     1274.0|         235.0|     558.0|     219.0|       5.6431|          341300.0|       NEAR BAY|\n",
      "|  -122.25|   37.85|              52.0|     1627.0|         280.0|     565.0|     259.0|       3.8462|          342200.0|       NEAR BAY|\n",
      "|  -122.25|   37.85|              52.0|      919.0|         213.0|     413.0|     193.0|       4.0368|          269700.0|       NEAR BAY|\n",
      "|  -122.25|   37.84|              52.0|     2535.0|         489.0|    1094.0|     514.0|       3.6591|          299200.0|       NEAR BAY|\n",
      "|  -122.25|   37.84|              52.0|     3104.0|         687.0|    1157.0|     647.0|         3.12|          241400.0|       NEAR BAY|\n",
      "|  -122.26|   37.84|              42.0|     2555.0|         665.0|    1206.0|     595.0|       2.0804|          226700.0|       NEAR BAY|\n",
      "|  -122.25|   37.84|              52.0|     3549.0|         707.0|    1551.0|     714.0|       3.6912|          261100.0|       NEAR BAY|\n",
      "|  -122.26|   37.85|              52.0|     2202.0|         434.0|     910.0|     402.0|       3.2031|          281500.0|       NEAR BAY|\n",
      "|  -122.26|   37.85|              52.0|     3503.0|         752.0|    1504.0|     734.0|       3.2705|          241800.0|       NEAR BAY|\n",
      "|  -122.26|   37.85|              52.0|     2491.0|         474.0|    1098.0|     468.0|        3.075|          213500.0|       NEAR BAY|\n",
      "|  -122.26|   37.84|              52.0|      696.0|         191.0|     345.0|     174.0|       2.6736|          191300.0|       NEAR BAY|\n",
      "|  -122.26|   37.85|              52.0|     2643.0|         626.0|    1212.0|     620.0|       1.9167|          159200.0|       NEAR BAY|\n",
      "|  -122.26|   37.85|              50.0|     1120.0|         283.0|     697.0|     264.0|        2.125|          140000.0|       NEAR BAY|\n",
      "|  -122.27|   37.85|              52.0|     1966.0|         347.0|     793.0|     331.0|        2.775|          152500.0|       NEAR BAY|\n",
      "|  -122.27|   37.85|              52.0|     1228.0|         293.0|     648.0|     303.0|       2.1202|          155500.0|       NEAR BAY|\n",
      "|  -122.26|   37.84|              50.0|     2239.0|         455.0|     990.0|     419.0|       1.9911|          158700.0|       NEAR BAY|\n",
      "|  -122.27|   37.84|              52.0|     1503.0|         298.0|     690.0|     275.0|       2.6033|          162900.0|       NEAR BAY|\n",
      "+---------+--------+------------------+-----------+--------------+----------+----------+-------------+------------------+---------------+\n",
      "only showing top 20 rows\n",
      "\n"
     ]
    }
   ],
   "source": [
    "spark = SparkSession.builder \\\n",
    "                    .master(\"local\") \\\n",
    "                    .appName(\"Learning DataFrame Window Functions\") \\\n",
    "                    .getOrCreate()\n",
    "\n",
    "df_housing = spark.read.load('/datasets/housing.csv', format=\"csv\", inferSchema=True, header=\"true\")\n",
    "df_housing.printSchema()\n",
    "df_housing.show()"
   ]
  },
  {
   "cell_type": "markdown",
   "id": "fdc9d95d",
   "metadata": {},
   "source": [
    "Разделим колонки на два типа: числовые и текстовые, которые представляют категориальные данные."
   ]
  },
  {
   "cell_type": "markdown",
   "id": "ad7f6079",
   "metadata": {},
   "source": [
    "Заполним пропущенные значения в данных:"
   ]
  },
  {
   "cell_type": "code",
   "execution_count": 14,
   "id": "0b993595",
   "metadata": {
    "scrolled": false
   },
   "outputs": [
    {
     "name": "stdout",
     "output_type": "stream",
     "text": [
      "+---------+--------+------------------+-----------+--------------+----------+----------+-------------+------------------+---------------+\n",
      "|longitude|latitude|housing_median_age|total_rooms|total_bedrooms|population|households|median_income|median_house_value|ocean_proximity|\n",
      "+---------+--------+------------------+-----------+--------------+----------+----------+-------------+------------------+---------------+\n",
      "|        0|       0|                 0|          0|           207|         0|         0|            0|                 0|              0|\n",
      "+---------+--------+------------------+-----------+--------------+----------+----------+-------------+------------------+---------------+\n",
      "\n"
     ]
    }
   ],
   "source": [
    "#считаем пропуски\n",
    "df_housing.select([F.count(F.when(F.isnan(x) | F.col(x).isNull(), x)).alias(x) for x in df_housing.columns]).show()"
   ]
  },
  {
   "cell_type": "code",
   "execution_count": 4,
   "id": "54b3a20b",
   "metadata": {
    "scrolled": true
   },
   "outputs": [],
   "source": [
    "subset = ['longitude', 'latitude', 'housing_median_age','total_rooms','total_bedrooms','population','households', 'median_income', 'median_house_value']\n",
    "df_housing = df_housing.na.fill(0, subset)"
   ]
  },
  {
   "cell_type": "code",
   "execution_count": 5,
   "id": "3f8579ea",
   "metadata": {
    "scrolled": true
   },
   "outputs": [
    {
     "name": "stdout",
     "output_type": "stream",
     "text": [
      "root\n",
      " |-- longitude: double (nullable = false)\n",
      " |-- latitude: double (nullable = false)\n",
      " |-- housing_median_age: double (nullable = false)\n",
      " |-- total_rooms: double (nullable = false)\n",
      " |-- total_bedrooms: double (nullable = false)\n",
      " |-- population: double (nullable = false)\n",
      " |-- households: double (nullable = false)\n",
      " |-- median_income: double (nullable = false)\n",
      " |-- median_house_value: double (nullable = false)\n",
      " |-- ocean_proximity: string (nullable = false)\n",
      "\n"
     ]
    }
   ],
   "source": [
    "df_housing.printSchema()"
   ]
  },
  {
   "cell_type": "markdown",
   "id": "334d3751",
   "metadata": {},
   "source": [
    "Разделим колонки с признаками на числовые и категориальные, а также выделим целевой признак:"
   ]
  },
  {
   "cell_type": "code",
   "execution_count": 6,
   "id": "a39aa23c",
   "metadata": {
    "scrolled": true
   },
   "outputs": [],
   "source": [
    "categorical_cols = ['ocean_proximity']\n",
    "numerical_cols  = ['longitude', 'latitude', 'housing_median_age','total_rooms','total_bedrooms','population','households', 'median_income']\n",
    "target = 'median_house_value' "
   ]
  },
  {
   "cell_type": "markdown",
   "id": "1b52d6cc",
   "metadata": {},
   "source": [
    "Разделяем  датасет на обучающую и тестовую выборки (80 и 20 процентов соответсвенно):"
   ]
  },
  {
   "cell_type": "code",
   "execution_count": 7,
   "id": "c82e75bb",
   "metadata": {
    "scrolled": true
   },
   "outputs": [
    {
     "name": "stderr",
     "output_type": "stream",
     "text": [
      "                                                                                \r"
     ]
    },
    {
     "name": "stdout",
     "output_type": "stream",
     "text": [
      "16630 4010\n"
     ]
    }
   ],
   "source": [
    "train_data, test_data = df_housing.randomSplit([.8,.2], seed=2077)\n",
    "print(train_data.count(), test_data.count()) "
   ]
  },
  {
   "cell_type": "markdown",
   "id": "71a9c84b",
   "metadata": {},
   "source": [
    "Далее трансформируем категориальные признаки с помощью трансформера StringIndexer:"
   ]
  },
  {
   "cell_type": "code",
   "execution_count": 8,
   "id": "d52461a1",
   "metadata": {
    "scrolled": false
   },
   "outputs": [
    {
     "name": "stderr",
     "output_type": "stream",
     "text": [
      "                                                                                \r"
     ]
    }
   ],
   "source": [
    "indexer = StringIndexer(inputCols=categorical_cols, \n",
    "                        outputCols=[c+'_idx' for c in categorical_cols]) \n",
    "\n",
    "ind_fit = indexer.fit(train_data)\n",
    "train_data = ind_fit.transform(train_data)\n",
    "test_data = ind_fit.transform(test_data)\n",
    "\n",
    "cols = [c for c in train_data.columns for i in categorical_cols if (c.startswith(i))]\n",
    "cols = [c for c in test_data.columns for i in categorical_cols if (c.startswith(i))]"
   ]
  },
  {
   "cell_type": "code",
   "execution_count": 9,
   "id": "998797fd",
   "metadata": {
    "scrolled": true
   },
   "outputs": [
    {
     "name": "stdout",
     "output_type": "stream",
     "text": [
      "+---------------+-------------------+\n",
      "|ocean_proximity|ocean_proximity_idx|\n",
      "+---------------+-------------------+\n",
      "|     NEAR OCEAN|                2.0|\n",
      "|     NEAR OCEAN|                2.0|\n",
      "|     NEAR OCEAN|                2.0|\n",
      "+---------------+-------------------+\n",
      "only showing top 3 rows\n",
      "\n",
      "+---------------+-------------------+\n",
      "|ocean_proximity|ocean_proximity_idx|\n",
      "+---------------+-------------------+\n",
      "|     NEAR OCEAN|                2.0|\n",
      "|     NEAR OCEAN|                2.0|\n",
      "|     NEAR OCEAN|                2.0|\n",
      "+---------------+-------------------+\n",
      "only showing top 3 rows\n",
      "\n"
     ]
    }
   ],
   "source": [
    "train_data.select(cols).show(3) \n",
    "test_data.select(cols).show(3) "
   ]
  },
  {
   "cell_type": "markdown",
   "id": "5f2c9051",
   "metadata": {},
   "source": [
    "Теперь преобразуем колонку с категориальными значениями с помощью OHE:"
   ]
  },
  {
   "cell_type": "code",
   "execution_count": 10,
   "id": "a5f8c79f",
   "metadata": {
    "scrolled": true
   },
   "outputs": [],
   "source": [
    "encoder = OneHotEncoder(inputCols=[c+'_idx' for c in categorical_cols],\n",
    "                        outputCols=[c+'_ohe' for c in categorical_cols])\n",
    "\n",
    "enc_fit = encoder.fit(train_data)\n",
    "train_data = enc_fit.transform(train_data)\n",
    "test_data = enc_fit.transform(test_data)\n",
    "\n",
    "cols = [c for c in train_data.columns for i in categorical_cols if (c.startswith(i))]\n",
    "cols = [c for c in test_data.columns for i in categorical_cols if (c.startswith(i))]"
   ]
  },
  {
   "cell_type": "code",
   "execution_count": 11,
   "id": "c08be44c",
   "metadata": {
    "scrolled": true
   },
   "outputs": [
    {
     "name": "stdout",
     "output_type": "stream",
     "text": [
      "+---------------+-------------------+-------------------+\n",
      "|ocean_proximity|ocean_proximity_idx|ocean_proximity_ohe|\n",
      "+---------------+-------------------+-------------------+\n",
      "|     NEAR OCEAN|                2.0|      (4,[2],[1.0])|\n",
      "|     NEAR OCEAN|                2.0|      (4,[2],[1.0])|\n",
      "|     NEAR OCEAN|                2.0|      (4,[2],[1.0])|\n",
      "+---------------+-------------------+-------------------+\n",
      "only showing top 3 rows\n",
      "\n",
      "+---------------+-------------------+-------------------+\n",
      "|ocean_proximity|ocean_proximity_idx|ocean_proximity_ohe|\n",
      "+---------------+-------------------+-------------------+\n",
      "|     NEAR OCEAN|                2.0|      (4,[2],[1.0])|\n",
      "|     NEAR OCEAN|                2.0|      (4,[2],[1.0])|\n",
      "|     NEAR OCEAN|                2.0|      (4,[2],[1.0])|\n",
      "+---------------+-------------------+-------------------+\n",
      "only showing top 3 rows\n",
      "\n"
     ]
    }
   ],
   "source": [
    "train_data.select(cols).show(3) \n",
    "test_data.select(cols).show(3) "
   ]
  },
  {
   "cell_type": "markdown",
   "id": "4f0cfd78",
   "metadata": {},
   "source": [
    "Далее следует объединение признаков в один вектоp:"
   ]
  },
  {
   "cell_type": "code",
   "execution_count": 12,
   "id": "dc278733",
   "metadata": {
    "scrolled": true
   },
   "outputs": [],
   "source": [
    "categorical_assembler = \\\n",
    "        VectorAssembler(inputCols=[c+'_ohe' for c in categorical_cols], outputCol=\"categorical_features\")\n",
    "\n",
    "\n",
    "train_data = categorical_assembler.transform(train_data)\n",
    "test_data = categorical_assembler.transform(test_data) "
   ]
  },
  {
   "cell_type": "markdown",
   "id": "18d1ab81",
   "metadata": {},
   "source": [
    "Следующим шагом проведём шкалирование значений, чтобы сильные выбросы не смещали предсказания модели:"
   ]
  },
  {
   "cell_type": "code",
   "execution_count": 13,
   "id": "6f68f7f4",
   "metadata": {
    "scrolled": true
   },
   "outputs": [],
   "source": [
    "numerical_assembler = VectorAssembler(inputCols=numerical_cols, outputCol=\"numerical_features\")\n",
    "\n",
    "train_data = numerical_assembler.transform(train_data)\n",
    "test_data = numerical_assembler.transform(test_data)\n",
    "\n",
    "\n",
    "standardScaler = StandardScaler(inputCol='numerical_features', outputCol=\"numerical_features_scaled\")\n",
    "\n",
    "scal_fit = standardScaler.fit(train_data)\n",
    "train_data = scal_fit.transform(train_data) \n",
    "test_data = scal_fit.transform(test_data) "
   ]
  },
  {
   "cell_type": "markdown",
   "id": "d4fd943b",
   "metadata": {},
   "source": [
    "Посмотрим на получившиеся в итоге колонки:"
   ]
  },
  {
   "cell_type": "code",
   "execution_count": 14,
   "id": "3bef520b",
   "metadata": {
    "scrolled": true
   },
   "outputs": [
    {
     "name": "stdout",
     "output_type": "stream",
     "text": [
      "['longitude', 'latitude', 'housing_median_age', 'total_rooms', 'total_bedrooms', 'population', 'households', 'median_income', 'median_house_value', 'ocean_proximity', 'ocean_proximity_idx', 'ocean_proximity_ohe', 'categorical_features', 'numerical_features', 'numerical_features_scaled']\n",
      "['longitude', 'latitude', 'housing_median_age', 'total_rooms', 'total_bedrooms', 'population', 'households', 'median_income', 'median_house_value', 'ocean_proximity', 'ocean_proximity_idx', 'ocean_proximity_ohe', 'categorical_features', 'numerical_features', 'numerical_features_scaled']\n"
     ]
    }
   ],
   "source": [
    "print(train_data.columns)\n",
    "print(test_data.columns)"
   ]
  },
  {
   "cell_type": "markdown",
   "id": "1fd302f3",
   "metadata": {},
   "source": [
    "Финальный шаг - собрать трансформированные категорийные и числовые признаки с помощью VectorAssembler:"
   ]
  },
  {
   "cell_type": "code",
   "execution_count": 15,
   "id": "06091093",
   "metadata": {
    "scrolled": false
   },
   "outputs": [],
   "source": [
    "all_features = ['categorical_features','numerical_features_scaled']\n",
    "\n",
    "final_assembler = VectorAssembler(inputCols=all_features, \n",
    "                                  outputCol=\"features\") \n",
    "\n",
    "\n",
    "train_data = final_assembler.transform(train_data)\n",
    "test_data = final_assembler.transform(test_data)"
   ]
  },
  {
   "cell_type": "code",
   "execution_count": 16,
   "id": "c2a84e48",
   "metadata": {
    "scrolled": true
   },
   "outputs": [
    {
     "name": "stdout",
     "output_type": "stream",
     "text": [
      "+--------------------+-------------------------+\n",
      "|categorical_features|numerical_features_scaled|\n",
      "+--------------------+-------------------------+\n",
      "|       (4,[2],[1.0])|     [-61.978011544806...|\n",
      "|       (4,[2],[1.0])|     [-61.953090752065...|\n",
      "|       (4,[2],[1.0])|     [-61.953090752065...|\n",
      "+--------------------+-------------------------+\n",
      "only showing top 3 rows\n",
      "\n",
      "+--------------------+-------------------------+\n",
      "|categorical_features|numerical_features_scaled|\n",
      "+--------------------+-------------------------+\n",
      "|       (4,[2],[1.0])|     [-61.978011544806...|\n",
      "|       (4,[2],[1.0])|     [-61.953090752065...|\n",
      "|       (4,[2],[1.0])|     [-61.953090752065...|\n",
      "+--------------------+-------------------------+\n",
      "only showing top 3 rows\n",
      "\n"
     ]
    }
   ],
   "source": [
    "train_data.select(all_features).show(3) \n",
    "train_data.select(all_features).show(3) "
   ]
  },
  {
   "cell_type": "markdown",
   "id": "9f0a82f3",
   "metadata": {
    "id": "9f0a82f3"
   },
   "source": [
    "## Обучение моделей"
   ]
  },
  {
   "cell_type": "markdown",
   "id": "787b74d2",
   "metadata": {
    "id": "bddb08c4"
   },
   "source": [
    "###  Модель с использованием всех данных файла"
   ]
  },
  {
   "cell_type": "markdown",
   "id": "9af8fe4b",
   "metadata": {},
   "source": [
    "Для построения модели используем оценщик LinearRegression из библиотеки MLlib:"
   ]
  },
  {
   "cell_type": "code",
   "execution_count": 17,
   "id": "7740ac27",
   "metadata": {
    "scrolled": false
   },
   "outputs": [
    {
     "name": "stderr",
     "output_type": "stream",
     "text": [
      "22/10/28 18:14:54 WARN BLAS: Failed to load implementation from: com.github.fommil.netlib.NativeSystemBLAS\n",
      "22/10/28 18:14:54 WARN BLAS: Failed to load implementation from: com.github.fommil.netlib.NativeRefBLAS\n",
      "22/10/28 18:14:54 WARN LAPACK: Failed to load implementation from: com.github.fommil.netlib.NativeSystemLAPACK\n",
      "22/10/28 18:14:54 WARN LAPACK: Failed to load implementation from: com.github.fommil.netlib.NativeRefLAPACK\n",
      "                                                                                \r"
     ]
    }
   ],
   "source": [
    "lr = LinearRegression(labelCol=target, featuresCol='features', regParam=0.000000001)\n",
    "\n",
    "model = lr.fit(train_data) "
   ]
  },
  {
   "cell_type": "code",
   "execution_count": 18,
   "id": "55d55832",
   "metadata": {
    "scrolled": true
   },
   "outputs": [],
   "source": [
    "predictions = model.transform(test_data)\n",
    "\n",
    "predictedLabes = predictions.select(target, 'prediction') "
   ]
  },
  {
   "cell_type": "markdown",
   "id": "0a580c25",
   "metadata": {},
   "source": [
    "Найдем метрики RMSE, MAE и R2 для модели:"
   ]
  },
  {
   "cell_type": "code",
   "execution_count": 19,
   "id": "3305bcb7",
   "metadata": {
    "scrolled": true
   },
   "outputs": [],
   "source": [
    "rmse_full = RegressionEvaluator(metricName=\"rmse\", labelCol=\"median_house_value\").evaluate(predictions)\n",
    "mae_full = RegressionEvaluator(metricName=\"mae\", labelCol=\"median_house_value\", predictionCol=\"prediction\").evaluate(predictions)\n",
    "r2_full = RegressionEvaluator(metricName=\"r2\", labelCol=\"median_house_value\", predictionCol=\"prediction\").evaluate(predictions)"
   ]
  },
  {
   "cell_type": "markdown",
   "id": "2480bc61",
   "metadata": {},
   "source": [
    "###  Модель с использованием только числовых данных "
   ]
  },
  {
   "cell_type": "code",
   "execution_count": 20,
   "id": "bbba8142",
   "metadata": {
    "scrolled": true
   },
   "outputs": [],
   "source": [
    "lr = LinearRegression(labelCol=target, featuresCol='numerical_features_scaled', regParam=0.000000001)\n",
    "\n",
    "model = lr.fit(train_data) "
   ]
  },
  {
   "cell_type": "code",
   "execution_count": 21,
   "id": "cd4e0eb3",
   "metadata": {
    "scrolled": false
   },
   "outputs": [
    {
     "name": "stdout",
     "output_type": "stream",
     "text": [
      "+------------------+------------------+\n",
      "|median_house_value|        prediction|\n",
      "+------------------+------------------+\n",
      "|          106700.0|192376.12662631925|\n",
      "|           78300.0| 78809.67054378614|\n",
      "|           68400.0| 80417.21510817297|\n",
      "|           70000.0|116597.57348956773|\n",
      "|           82800.0| 140495.2337529566|\n",
      "+------------------+------------------+\n",
      "only showing top 5 rows\n",
      "\n"
     ]
    }
   ],
   "source": [
    "predictions = model.transform(test_data)\n",
    "\n",
    "predictedLabes = predictions.select(target, 'prediction')\n",
    "predictedLabes.show(5) "
   ]
  },
  {
   "cell_type": "markdown",
   "id": "96f3087e",
   "metadata": {},
   "source": [
    "Найдем метрики RMSE, MAE и R2 для модели:"
   ]
  },
  {
   "cell_type": "code",
   "execution_count": 22,
   "id": "593e9639",
   "metadata": {
    "scrolled": false
   },
   "outputs": [],
   "source": [
    "rmse_num = RegressionEvaluator(metricName=\"rmse\", labelCol=\"median_house_value\").evaluate(predictions)\n",
    "mae_num = RegressionEvaluator(metricName=\"mae\", labelCol=\"median_house_value\", predictionCol=\"prediction\").evaluate(predictions)\n",
    "r2_num = RegressionEvaluator(metricName=\"r2\", labelCol=\"median_house_value\", predictionCol=\"prediction\").evaluate(predictions)\n",
    "\n",
    "spark.stop()"
   ]
  },
  {
   "cell_type": "markdown",
   "id": "3b09e53f",
   "metadata": {},
   "source": [
    "Сравним полученные метрики:"
   ]
  },
  {
   "cell_type": "code",
   "execution_count": 23,
   "id": "22ce8a47",
   "metadata": {
    "scrolled": true
   },
   "outputs": [
    {
     "name": "stdout",
     "output_type": "stream",
     "text": [
      "      full_data           num_data\n",
      "RMSE: 68233.7948917424    69309.6452146553\n",
      "MAE:  49637.20150082431   50895.60604758911\n",
      "R2:   0.6406215146432721  0.6291994461671384\n"
     ]
    }
   ],
   "source": [
    "print('      full_data', '          num_data')\n",
    "print('RMSE:', rmse_full, '  ', rmse_num)\n",
    "print('MAE: ', mae_full, ' ', mae_num)\n",
    "print('R2:  ', r2_full, '', r2_num)"
   ]
  },
  {
   "cell_type": "markdown",
   "id": "757fd103",
   "metadata": {
    "id": "757fd103"
   },
   "source": [
    "## Анализ результатов"
   ]
  },
  {
   "cell_type": "markdown",
   "id": "2f93357e",
   "metadata": {},
   "source": [
    "По итогам исследования можно сделать вывод, что модель линейной регрессии наиболее точно предсказывает целевой признак на основе использования всех данных, как числовых так и категориальных, на что указывает меньшее значения метрик RMSE и MAE - , а так же большее значение метрики R2 - 0.640 против 0.629 у модели с использованием только числовых признаков."
   ]
  }
 ],
 "metadata": {
  "ExecuteTimeLog": [
   {
    "duration": 23467,
    "start_time": "2022-09-19T19:15:13.756Z"
   },
   {
    "duration": 1190,
    "start_time": "2022-09-19T19:18:20.144Z"
   },
   {
    "duration": 76,
    "start_time": "2022-09-19T19:20:16.055Z"
   },
   {
    "duration": 3,
    "start_time": "2022-09-19T19:22:44.808Z"
   },
   {
    "duration": 61,
    "start_time": "2022-09-19T19:23:08.416Z"
   },
   {
    "duration": 47,
    "start_time": "2022-09-19T19:23:41.774Z"
   },
   {
    "duration": 386,
    "start_time": "2022-09-19T19:24:31.576Z"
   },
   {
    "duration": 48,
    "start_time": "2022-09-19T19:24:34.941Z"
   },
   {
    "duration": 2282,
    "start_time": "2022-09-19T19:24:54.648Z"
   },
   {
    "duration": 118,
    "start_time": "2022-09-19T19:25:07.724Z"
   },
   {
    "duration": 3,
    "start_time": "2022-09-19T19:25:19.267Z"
   },
   {
    "duration": 1050,
    "start_time": "2022-09-19T19:25:19.272Z"
   },
   {
    "duration": 3,
    "start_time": "2022-09-19T19:25:20.324Z"
   },
   {
    "duration": 899,
    "start_time": "2022-09-19T19:25:20.330Z"
   },
   {
    "duration": 9,
    "start_time": "2022-09-19T19:29:41.785Z"
   },
   {
    "duration": 4,
    "start_time": "2022-09-19T19:30:11.269Z"
   },
   {
    "duration": 207,
    "start_time": "2022-09-19T19:30:14.443Z"
   },
   {
    "duration": 299,
    "start_time": "2022-09-19T19:30:24.674Z"
   },
   {
    "duration": 4,
    "start_time": "2022-09-19T19:30:36.008Z"
   },
   {
    "duration": 755,
    "start_time": "2022-09-19T19:30:36.013Z"
   },
   {
    "duration": 3,
    "start_time": "2022-09-19T19:30:36.770Z"
   },
   {
    "duration": 854,
    "start_time": "2022-09-19T19:30:36.774Z"
   },
   {
    "duration": 702,
    "start_time": "2022-09-19T19:30:37.631Z"
   },
   {
    "duration": 584,
    "start_time": "2022-09-19T19:31:33.176Z"
   },
   {
    "duration": 22474,
    "start_time": "2022-09-19T19:31:33.762Z"
   },
   {
    "duration": 4,
    "start_time": "2022-09-19T19:31:56.239Z"
   },
   {
    "duration": 2589,
    "start_time": "2022-09-19T19:31:56.245Z"
   },
   {
    "duration": 805,
    "start_time": "2022-09-19T19:31:58.836Z"
   },
   {
    "duration": 108,
    "start_time": "2022-09-19T19:31:59.643Z"
   },
   {
    "duration": 254,
    "start_time": "2022-09-19T19:32:28.035Z"
   },
   {
    "duration": 3,
    "start_time": "2022-09-19T19:32:32.206Z"
   },
   {
    "duration": 919,
    "start_time": "2022-09-19T19:32:32.211Z"
   },
   {
    "duration": 3,
    "start_time": "2022-09-19T19:32:33.133Z"
   },
   {
    "duration": 892,
    "start_time": "2022-09-19T19:32:33.137Z"
   },
   {
    "duration": 390,
    "start_time": "2022-09-19T19:32:34.032Z"
   },
   {
    "duration": 481,
    "start_time": "2022-09-19T19:32:34.424Z"
   },
   {
    "duration": 914,
    "start_time": "2022-09-19T19:34:47.256Z"
   },
   {
    "duration": 105,
    "start_time": "2022-09-19T19:35:21.914Z"
   },
   {
    "duration": 4,
    "start_time": "2022-09-19T19:35:28.402Z"
   },
   {
    "duration": 840,
    "start_time": "2022-09-19T19:35:28.407Z"
   },
   {
    "duration": 4,
    "start_time": "2022-09-19T19:35:29.249Z"
   },
   {
    "duration": 917,
    "start_time": "2022-09-19T19:35:29.255Z"
   },
   {
    "duration": 262,
    "start_time": "2022-09-19T19:35:30.173Z"
   },
   {
    "duration": 399,
    "start_time": "2022-09-19T19:35:30.440Z"
   },
   {
    "duration": 599,
    "start_time": "2022-09-19T19:35:30.841Z"
   },
   {
    "duration": 88,
    "start_time": "2022-09-19T19:36:34.064Z"
   },
   {
    "duration": 114,
    "start_time": "2022-09-19T19:36:57.275Z"
   },
   {
    "duration": 4,
    "start_time": "2022-09-19T19:37:29.096Z"
   },
   {
    "duration": 655,
    "start_time": "2022-09-19T19:37:29.102Z"
   },
   {
    "duration": 3,
    "start_time": "2022-09-19T19:37:29.759Z"
   },
   {
    "duration": 665,
    "start_time": "2022-09-19T19:37:29.763Z"
   },
   {
    "duration": 299,
    "start_time": "2022-09-19T19:37:30.430Z"
   },
   {
    "duration": 243,
    "start_time": "2022-09-19T19:37:30.730Z"
   },
   {
    "duration": 73,
    "start_time": "2022-09-19T19:37:30.975Z"
   },
   {
    "duration": 3,
    "start_time": "2022-09-19T19:43:30.258Z"
   },
   {
    "duration": 811,
    "start_time": "2022-09-19T19:43:30.263Z"
   },
   {
    "duration": 4,
    "start_time": "2022-09-19T19:43:31.077Z"
   },
   {
    "duration": 645,
    "start_time": "2022-09-19T19:43:31.083Z"
   },
   {
    "duration": 244,
    "start_time": "2022-09-19T19:43:31.730Z"
   },
   {
    "duration": 250,
    "start_time": "2022-09-19T19:43:31.976Z"
   },
   {
    "duration": 40,
    "start_time": "2022-09-19T19:43:32.228Z"
   },
   {
    "duration": 5,
    "start_time": "2022-09-19T19:44:26.028Z"
   },
   {
    "duration": 843,
    "start_time": "2022-09-19T19:44:26.034Z"
   },
   {
    "duration": 2,
    "start_time": "2022-09-19T19:44:26.879Z"
   },
   {
    "duration": 515,
    "start_time": "2022-09-19T19:44:26.883Z"
   },
   {
    "duration": 233,
    "start_time": "2022-09-19T19:44:27.400Z"
   },
   {
    "duration": 199,
    "start_time": "2022-09-19T19:44:27.634Z"
   },
   {
    "duration": 364,
    "start_time": "2022-09-19T19:44:27.834Z"
   },
   {
    "duration": 44,
    "start_time": "2022-10-06T11:24:30.866Z"
   },
   {
    "duration": 589,
    "start_time": "2022-10-06T11:24:37.065Z"
   },
   {
    "duration": 24273,
    "start_time": "2022-10-06T11:24:37.656Z"
   },
   {
    "duration": 3,
    "start_time": "2022-10-06T11:25:01.930Z"
   },
   {
    "duration": 2664,
    "start_time": "2022-10-06T11:25:01.935Z"
   },
   {
    "duration": 801,
    "start_time": "2022-10-06T11:25:04.624Z"
   },
   {
    "duration": 604,
    "start_time": "2022-10-06T11:25:05.427Z"
   },
   {
    "duration": 1084,
    "start_time": "2022-10-06T11:25:06.032Z"
   },
   {
    "duration": 0,
    "start_time": "2022-10-06T11:25:07.118Z"
   },
   {
    "duration": 6,
    "start_time": "2022-10-06T11:28:09.797Z"
   },
   {
    "duration": 13,
    "start_time": "2022-10-06T11:28:26.273Z"
   },
   {
    "duration": 126,
    "start_time": "2022-10-06T11:28:42.994Z"
   },
   {
    "duration": 435,
    "start_time": "2022-10-06T11:29:48.553Z"
   },
   {
    "duration": 9,
    "start_time": "2022-10-06T11:30:21.808Z"
   },
   {
    "duration": 8,
    "start_time": "2022-10-06T11:31:08.592Z"
   },
   {
    "duration": 8,
    "start_time": "2022-10-06T11:31:17.650Z"
   },
   {
    "duration": 1364,
    "start_time": "2022-10-06T11:31:44.960Z"
   },
   {
    "duration": 747,
    "start_time": "2022-10-06T11:32:25.977Z"
   },
   {
    "duration": 8,
    "start_time": "2022-10-06T13:40:45.159Z"
   },
   {
    "duration": 36,
    "start_time": "2022-10-06T13:41:43.218Z"
   },
   {
    "duration": 53,
    "start_time": "2022-10-06T13:44:10.708Z"
   },
   {
    "duration": 3,
    "start_time": "2022-10-06T13:44:14.269Z"
   },
   {
    "duration": 159,
    "start_time": "2022-10-06T13:44:16.844Z"
   },
   {
    "duration": 736,
    "start_time": "2022-10-06T13:46:26.660Z"
   },
   {
    "duration": 26642,
    "start_time": "2022-10-06T13:46:27.398Z"
   },
   {
    "duration": 110,
    "start_time": "2022-10-06T13:46:54.042Z"
   },
   {
    "duration": 7,
    "start_time": "2022-10-06T13:46:54.154Z"
   },
   {
    "duration": 3913,
    "start_time": "2022-10-06T13:46:54.163Z"
   },
   {
    "duration": 894,
    "start_time": "2022-10-06T13:46:58.078Z"
   },
   {
    "duration": 812,
    "start_time": "2022-10-06T13:46:58.974Z"
   },
   {
    "duration": 1689,
    "start_time": "2022-10-06T13:46:59.787Z"
   },
   {
    "duration": 51,
    "start_time": "2022-10-06T13:47:01.478Z"
   },
   {
    "duration": 739,
    "start_time": "2022-10-06T13:47:01.533Z"
   },
   {
    "duration": 3673,
    "start_time": "2022-10-06T13:47:02.273Z"
   },
   {
    "duration": 6740343,
    "start_time": "2022-10-06T13:50:29.003Z"
   },
   {
    "duration": 0,
    "start_time": "2022-10-06T15:42:49.348Z"
   },
   {
    "duration": 665,
    "start_time": "2022-10-06T18:14:01.093Z"
   },
   {
    "duration": 23063,
    "start_time": "2022-10-06T18:14:01.760Z"
   },
   {
    "duration": 108,
    "start_time": "2022-10-06T18:14:24.825Z"
   },
   {
    "duration": 4,
    "start_time": "2022-10-06T18:14:24.934Z"
   },
   {
    "duration": 3056,
    "start_time": "2022-10-06T18:14:24.940Z"
   },
   {
    "duration": 636,
    "start_time": "2022-10-06T18:14:27.998Z"
   },
   {
    "duration": 715,
    "start_time": "2022-10-06T18:14:28.637Z"
   },
   {
    "duration": 1396,
    "start_time": "2022-10-06T18:14:29.354Z"
   },
   {
    "duration": 69,
    "start_time": "2022-10-06T18:14:30.752Z"
   },
   {
    "duration": 514,
    "start_time": "2022-10-06T18:14:30.824Z"
   },
   {
    "duration": 3299,
    "start_time": "2022-10-06T18:14:31.340Z"
   },
   {
    "duration": 9651318,
    "start_time": "2022-10-06T18:14:34.641Z"
   },
   {
    "duration": 0,
    "start_time": "2022-10-06T20:55:25.961Z"
   },
   {
    "duration": 741,
    "start_time": "2022-10-25T16:30:27.002Z"
   },
   {
    "duration": 29087,
    "start_time": "2022-10-25T16:30:27.745Z"
   },
   {
    "duration": 106,
    "start_time": "2022-10-25T16:30:56.834Z"
   },
   {
    "duration": 3,
    "start_time": "2022-10-25T16:30:56.942Z"
   },
   {
    "duration": 3528,
    "start_time": "2022-10-25T16:30:56.990Z"
   },
   {
    "duration": 1071,
    "start_time": "2022-10-25T16:31:00.520Z"
   },
   {
    "duration": 815,
    "start_time": "2022-10-25T16:31:01.593Z"
   },
   {
    "duration": 1803,
    "start_time": "2022-10-25T16:31:02.410Z"
   },
   {
    "duration": 6,
    "start_time": "2022-10-25T16:31:04.216Z"
   },
   {
    "duration": 689,
    "start_time": "2022-10-25T16:31:04.225Z"
   },
   {
    "duration": 4001,
    "start_time": "2022-10-25T16:31:04.916Z"
   },
   {
    "duration": 724,
    "start_time": "2022-10-25T17:00:09.397Z"
   },
   {
    "duration": 24987,
    "start_time": "2022-10-25T17:00:10.123Z"
   },
   {
    "duration": 111,
    "start_time": "2022-10-25T17:00:35.112Z"
   },
   {
    "duration": 3,
    "start_time": "2022-10-25T17:00:35.225Z"
   },
   {
    "duration": 3080,
    "start_time": "2022-10-25T17:00:35.230Z"
   },
   {
    "duration": 696,
    "start_time": "2022-10-25T17:00:38.312Z"
   },
   {
    "duration": 798,
    "start_time": "2022-10-25T17:00:39.009Z"
   },
   {
    "duration": 1412,
    "start_time": "2022-10-25T17:00:39.809Z"
   },
   {
    "duration": 68,
    "start_time": "2022-10-25T17:00:41.223Z"
   },
   {
    "duration": 509,
    "start_time": "2022-10-25T17:00:41.292Z"
   },
   {
    "duration": 3293,
    "start_time": "2022-10-25T17:00:41.803Z"
   },
   {
    "duration": 807,
    "start_time": "2022-10-25T17:06:34.702Z"
   },
   {
    "duration": 0,
    "start_time": "2022-10-25T17:06:35.511Z"
   },
   {
    "duration": 0,
    "start_time": "2022-10-25T17:06:35.513Z"
   },
   {
    "duration": 0,
    "start_time": "2022-10-25T17:06:35.515Z"
   },
   {
    "duration": 0,
    "start_time": "2022-10-25T17:06:35.516Z"
   },
   {
    "duration": 0,
    "start_time": "2022-10-25T17:06:35.518Z"
   },
   {
    "duration": 0,
    "start_time": "2022-10-25T17:06:35.519Z"
   },
   {
    "duration": 0,
    "start_time": "2022-10-25T17:06:35.521Z"
   },
   {
    "duration": 0,
    "start_time": "2022-10-25T17:06:35.522Z"
   },
   {
    "duration": 0,
    "start_time": "2022-10-25T17:06:35.524Z"
   },
   {
    "duration": 0,
    "start_time": "2022-10-25T17:06:35.526Z"
   },
   {
    "duration": 0,
    "start_time": "2022-10-25T17:06:35.527Z"
   },
   {
    "duration": 0,
    "start_time": "2022-10-25T17:06:35.529Z"
   },
   {
    "duration": 711,
    "start_time": "2022-10-25T17:08:03.608Z"
   },
   {
    "duration": 25982,
    "start_time": "2022-10-25T17:08:04.321Z"
   },
   {
    "duration": 112,
    "start_time": "2022-10-25T17:08:30.305Z"
   },
   {
    "duration": 3,
    "start_time": "2022-10-25T17:08:30.419Z"
   },
   {
    "duration": 3273,
    "start_time": "2022-10-25T17:08:30.425Z"
   },
   {
    "duration": 801,
    "start_time": "2022-10-25T17:08:33.700Z"
   },
   {
    "duration": 794,
    "start_time": "2022-10-25T17:08:34.504Z"
   },
   {
    "duration": 1708,
    "start_time": "2022-10-25T17:08:35.300Z"
   },
   {
    "duration": 9,
    "start_time": "2022-10-25T17:08:37.010Z"
   },
   {
    "duration": 592,
    "start_time": "2022-10-25T17:08:37.021Z"
   },
   {
    "duration": 4203,
    "start_time": "2022-10-25T17:08:37.615Z"
   },
   {
    "duration": 4391,
    "start_time": "2022-10-25T17:08:41.820Z"
   },
   {
    "duration": 1110,
    "start_time": "2022-10-25T17:08:46.215Z"
   },
   {
    "duration": 2603,
    "start_time": "2022-10-25T17:13:04.415Z"
   },
   {
    "duration": 724,
    "start_time": "2022-10-25T17:13:15.216Z"
   },
   {
    "duration": 2695,
    "start_time": "2022-10-25T17:13:32.504Z"
   },
   {
    "duration": 772,
    "start_time": "2022-10-25T17:13:38.652Z"
   },
   {
    "duration": 3099,
    "start_time": "2022-10-25T17:13:54.592Z"
   },
   {
    "duration": 2309,
    "start_time": "2022-10-25T17:20:25.006Z"
   },
   {
    "duration": 1898,
    "start_time": "2022-10-25T17:20:41.115Z"
   },
   {
    "duration": 940,
    "start_time": "2022-10-25T17:20:44.455Z"
   },
   {
    "duration": 3,
    "start_time": "2022-10-25T17:26:01.642Z"
   },
   {
    "duration": 20,
    "start_time": "2022-10-25T17:27:38.091Z"
   },
   {
    "duration": 795,
    "start_time": "2022-10-25T17:29:56.852Z"
   },
   {
    "duration": 584,
    "start_time": "2022-10-25T17:31:02.167Z"
   },
   {
    "duration": 495,
    "start_time": "2022-10-25T17:31:11.349Z"
   },
   {
    "duration": 1373,
    "start_time": "2022-10-25T17:31:52.152Z"
   },
   {
    "duration": 926,
    "start_time": "2022-10-25T17:33:24.999Z"
   },
   {
    "duration": 975,
    "start_time": "2022-10-25T17:33:32.847Z"
   },
   {
    "duration": 1234,
    "start_time": "2022-10-25T17:34:09.114Z"
   },
   {
    "duration": 683,
    "start_time": "2022-10-25T17:34:52.343Z"
   },
   {
    "duration": 24968,
    "start_time": "2022-10-25T17:34:53.029Z"
   },
   {
    "duration": 105,
    "start_time": "2022-10-25T17:35:17.999Z"
   },
   {
    "duration": 5,
    "start_time": "2022-10-25T17:35:18.106Z"
   },
   {
    "duration": 3195,
    "start_time": "2022-10-25T17:35:18.112Z"
   },
   {
    "duration": 809,
    "start_time": "2022-10-25T17:35:21.309Z"
   },
   {
    "duration": 778,
    "start_time": "2022-10-25T17:35:22.120Z"
   },
   {
    "duration": 1521,
    "start_time": "2022-10-25T17:35:22.899Z"
   },
   {
    "duration": 74,
    "start_time": "2022-10-25T17:35:24.422Z"
   },
   {
    "duration": 517,
    "start_time": "2022-10-25T17:35:24.499Z"
   },
   {
    "duration": 3576,
    "start_time": "2022-10-25T17:35:25.018Z"
   },
   {
    "duration": 4396,
    "start_time": "2022-10-25T17:35:28.595Z"
   },
   {
    "duration": 1116,
    "start_time": "2022-10-25T17:35:32.993Z"
   },
   {
    "duration": 2586,
    "start_time": "2022-10-25T17:35:34.111Z"
   },
   {
    "duration": 3134,
    "start_time": "2022-10-25T17:35:36.699Z"
   },
   {
    "duration": 1004,
    "start_time": "2022-10-25T17:35:39.890Z"
   },
   {
    "duration": 2409,
    "start_time": "2022-10-25T17:35:40.896Z"
   },
   {
    "duration": 2102,
    "start_time": "2022-10-25T17:39:28.459Z"
   },
   {
    "duration": 706,
    "start_time": "2022-10-25T17:40:13.018Z"
   },
   {
    "duration": 27692,
    "start_time": "2022-10-25T17:40:13.726Z"
   },
   {
    "duration": 116,
    "start_time": "2022-10-25T17:40:41.420Z"
   },
   {
    "duration": 4,
    "start_time": "2022-10-25T17:40:41.590Z"
   },
   {
    "duration": 3526,
    "start_time": "2022-10-25T17:40:41.596Z"
   },
   {
    "duration": 929,
    "start_time": "2022-10-25T17:40:45.190Z"
   },
   {
    "duration": 891,
    "start_time": "2022-10-25T17:40:46.120Z"
   },
   {
    "duration": 1694,
    "start_time": "2022-10-25T17:40:47.013Z"
   },
   {
    "duration": 11,
    "start_time": "2022-10-25T17:40:48.709Z"
   },
   {
    "duration": 587,
    "start_time": "2022-10-25T17:40:48.723Z"
   },
   {
    "duration": 4093,
    "start_time": "2022-10-25T17:40:49.312Z"
   },
   {
    "duration": 4402,
    "start_time": "2022-10-25T17:40:53.406Z"
   },
   {
    "duration": 1125,
    "start_time": "2022-10-25T17:40:57.810Z"
   },
   {
    "duration": 2560,
    "start_time": "2022-10-25T17:40:58.937Z"
   },
   {
    "duration": 3392,
    "start_time": "2022-10-25T17:41:01.499Z"
   },
   {
    "duration": 1033,
    "start_time": "2022-10-25T17:41:04.894Z"
   },
   {
    "duration": 2766,
    "start_time": "2022-10-25T17:41:05.929Z"
   },
   {
    "duration": 88,
    "start_time": "2022-10-25T18:13:36.393Z"
   },
   {
    "duration": 1316,
    "start_time": "2022-10-25T18:19:26.121Z"
   },
   {
    "duration": 2393,
    "start_time": "2022-10-25T18:20:02.944Z"
   },
   {
    "duration": 679,
    "start_time": "2022-10-25T18:21:10.285Z"
   },
   {
    "duration": 2055,
    "start_time": "2022-10-25T18:22:55.274Z"
   },
   {
    "duration": 1348,
    "start_time": "2022-10-25T18:23:33.438Z"
   },
   {
    "duration": 84,
    "start_time": "2022-10-25T18:26:00.017Z"
   },
   {
    "duration": 1434,
    "start_time": "2022-10-25T18:26:04.916Z"
   },
   {
    "duration": 4,
    "start_time": "2022-10-25T18:26:08.775Z"
   },
   {
    "duration": 4,
    "start_time": "2022-10-25T18:26:34.187Z"
   },
   {
    "duration": 6,
    "start_time": "2022-10-25T18:26:46.000Z"
   },
   {
    "duration": 5,
    "start_time": "2022-10-25T18:26:49.662Z"
   },
   {
    "duration": 5,
    "start_time": "2022-10-25T18:26:55.498Z"
   },
   {
    "duration": 4,
    "start_time": "2022-10-25T18:27:02.948Z"
   },
   {
    "duration": 6,
    "start_time": "2022-10-25T18:27:13.303Z"
   },
   {
    "duration": 4,
    "start_time": "2022-10-25T18:27:46.815Z"
   },
   {
    "duration": 5,
    "start_time": "2022-10-25T18:28:01.080Z"
   },
   {
    "duration": 5,
    "start_time": "2022-10-25T18:28:12.839Z"
   },
   {
    "duration": 4,
    "start_time": "2022-10-25T18:28:17.516Z"
   },
   {
    "duration": 740,
    "start_time": "2022-10-25T18:32:11.794Z"
   },
   {
    "duration": 25880,
    "start_time": "2022-10-25T18:32:12.535Z"
   },
   {
    "duration": 106,
    "start_time": "2022-10-25T18:32:38.417Z"
   },
   {
    "duration": 3,
    "start_time": "2022-10-25T18:32:38.524Z"
   },
   {
    "duration": 3572,
    "start_time": "2022-10-25T18:32:38.529Z"
   },
   {
    "duration": 912,
    "start_time": "2022-10-25T18:32:42.104Z"
   },
   {
    "duration": 176,
    "start_time": "2022-10-25T18:32:43.017Z"
   },
   {
    "duration": 1624,
    "start_time": "2022-10-25T18:32:43.196Z"
   },
   {
    "duration": 72,
    "start_time": "2022-10-25T18:32:44.822Z"
   },
   {
    "duration": 567,
    "start_time": "2022-10-25T18:32:44.897Z"
   },
   {
    "duration": 3957,
    "start_time": "2022-10-25T18:32:45.466Z"
   },
   {
    "duration": 5173,
    "start_time": "2022-10-25T18:32:49.425Z"
   },
   {
    "duration": 1088,
    "start_time": "2022-10-25T18:32:54.603Z"
   },
   {
    "duration": 3199,
    "start_time": "2022-10-25T18:32:55.694Z"
   },
   {
    "duration": 3013,
    "start_time": "2022-10-25T18:32:58.895Z"
   },
   {
    "duration": 889,
    "start_time": "2022-10-25T18:33:01.910Z"
   },
   {
    "duration": 2899,
    "start_time": "2022-10-25T18:33:02.801Z"
   },
   {
    "duration": 90,
    "start_time": "2022-10-25T18:33:05.702Z"
   },
   {
    "duration": 0,
    "start_time": "2022-10-25T18:33:05.794Z"
   },
   {
    "duration": 6,
    "start_time": "2022-10-25T18:34:54.049Z"
   },
   {
    "duration": 2063,
    "start_time": "2022-10-25T18:35:13.732Z"
   },
   {
    "duration": 5,
    "start_time": "2022-10-25T18:35:19.383Z"
   },
   {
    "duration": 621,
    "start_time": "2022-10-28T09:27:18.892Z"
   },
   {
    "duration": 23579,
    "start_time": "2022-10-28T09:27:19.515Z"
   },
   {
    "duration": 4426,
    "start_time": "2022-10-28T09:27:43.096Z"
   },
   {
    "duration": 14,
    "start_time": "2022-10-28T09:27:47.577Z"
   },
   {
    "duration": 1956,
    "start_time": "2022-10-28T09:27:47.594Z"
   },
   {
    "duration": 839,
    "start_time": "2022-10-28T09:27:49.577Z"
   },
   {
    "duration": 93,
    "start_time": "2022-10-28T09:27:50.417Z"
   },
   {
    "duration": 1087,
    "start_time": "2022-10-28T09:27:50.512Z"
   },
   {
    "duration": 0,
    "start_time": "2022-10-28T09:27:51.602Z"
   },
   {
    "duration": 0,
    "start_time": "2022-10-28T09:27:51.605Z"
   },
   {
    "duration": 0,
    "start_time": "2022-10-28T09:27:51.606Z"
   },
   {
    "duration": 0,
    "start_time": "2022-10-28T09:27:51.607Z"
   },
   {
    "duration": 1,
    "start_time": "2022-10-28T09:27:51.607Z"
   },
   {
    "duration": 0,
    "start_time": "2022-10-28T09:27:51.608Z"
   },
   {
    "duration": 0,
    "start_time": "2022-10-28T09:27:51.609Z"
   },
   {
    "duration": 0,
    "start_time": "2022-10-28T09:27:51.610Z"
   },
   {
    "duration": 0,
    "start_time": "2022-10-28T09:27:51.611Z"
   },
   {
    "duration": 0,
    "start_time": "2022-10-28T09:27:51.612Z"
   },
   {
    "duration": 504,
    "start_time": "2022-10-28T09:29:34.027Z"
   },
   {
    "duration": 10,
    "start_time": "2022-10-28T09:35:14.807Z"
   },
   {
    "duration": 8,
    "start_time": "2022-10-28T09:36:13.379Z"
   },
   {
    "duration": 8,
    "start_time": "2022-10-28T09:37:56.166Z"
   },
   {
    "duration": 4,
    "start_time": "2022-10-28T09:39:13.288Z"
   },
   {
    "duration": 631,
    "start_time": "2022-10-28T09:39:23.480Z"
   },
   {
    "duration": 23071,
    "start_time": "2022-10-28T09:39:24.113Z"
   },
   {
    "duration": 12,
    "start_time": "2022-10-28T09:39:47.185Z"
   },
   {
    "duration": 2,
    "start_time": "2022-10-28T09:39:47.199Z"
   },
   {
    "duration": 2780,
    "start_time": "2022-10-28T09:39:47.203Z"
   },
   {
    "duration": 693,
    "start_time": "2022-10-28T09:39:49.986Z"
   },
   {
    "duration": 99,
    "start_time": "2022-10-28T09:39:50.680Z"
   },
   {
    "duration": 1111,
    "start_time": "2022-10-28T09:39:50.781Z"
   },
   {
    "duration": 0,
    "start_time": "2022-10-28T09:39:51.895Z"
   },
   {
    "duration": 0,
    "start_time": "2022-10-28T09:39:51.897Z"
   },
   {
    "duration": 0,
    "start_time": "2022-10-28T09:39:51.897Z"
   },
   {
    "duration": 0,
    "start_time": "2022-10-28T09:39:51.898Z"
   },
   {
    "duration": 0,
    "start_time": "2022-10-28T09:39:51.899Z"
   },
   {
    "duration": 0,
    "start_time": "2022-10-28T09:39:51.900Z"
   },
   {
    "duration": 0,
    "start_time": "2022-10-28T09:39:51.901Z"
   },
   {
    "duration": 0,
    "start_time": "2022-10-28T09:39:51.902Z"
   },
   {
    "duration": 0,
    "start_time": "2022-10-28T09:39:51.903Z"
   },
   {
    "duration": 0,
    "start_time": "2022-10-28T09:39:51.904Z"
   },
   {
    "duration": 135,
    "start_time": "2022-10-28T09:41:31.553Z"
   },
   {
    "duration": 114,
    "start_time": "2022-10-28T09:41:40.742Z"
   },
   {
    "duration": 658,
    "start_time": "2022-10-28T09:41:52.958Z"
   },
   {
    "duration": 22667,
    "start_time": "2022-10-28T09:41:53.618Z"
   },
   {
    "duration": 320,
    "start_time": "2022-10-28T09:42:16.287Z"
   },
   {
    "duration": 3,
    "start_time": "2022-10-28T09:42:16.609Z"
   },
   {
    "duration": 2625,
    "start_time": "2022-10-28T09:42:16.678Z"
   },
   {
    "duration": 782,
    "start_time": "2022-10-28T09:42:19.305Z"
   },
   {
    "duration": 119,
    "start_time": "2022-10-28T09:42:20.089Z"
   },
   {
    "duration": 1178,
    "start_time": "2022-10-28T09:42:20.210Z"
   },
   {
    "duration": 0,
    "start_time": "2022-10-28T09:42:21.389Z"
   },
   {
    "duration": 0,
    "start_time": "2022-10-28T09:42:21.390Z"
   },
   {
    "duration": 0,
    "start_time": "2022-10-28T09:42:21.392Z"
   },
   {
    "duration": 0,
    "start_time": "2022-10-28T09:42:21.392Z"
   },
   {
    "duration": 0,
    "start_time": "2022-10-28T09:42:21.393Z"
   },
   {
    "duration": 0,
    "start_time": "2022-10-28T09:42:21.394Z"
   },
   {
    "duration": 0,
    "start_time": "2022-10-28T09:42:21.395Z"
   },
   {
    "duration": 0,
    "start_time": "2022-10-28T09:42:21.396Z"
   },
   {
    "duration": 0,
    "start_time": "2022-10-28T09:42:21.397Z"
   },
   {
    "duration": 0,
    "start_time": "2022-10-28T09:42:21.398Z"
   },
   {
    "duration": 45,
    "start_time": "2022-10-28T09:43:23.145Z"
   },
   {
    "duration": 2,
    "start_time": "2022-10-28T09:43:26.737Z"
   },
   {
    "duration": 106,
    "start_time": "2022-10-28T09:43:29.001Z"
   },
   {
    "duration": 737,
    "start_time": "2022-10-28T09:43:39.683Z"
   },
   {
    "duration": 23076,
    "start_time": "2022-10-28T09:43:40.422Z"
   },
   {
    "duration": 282,
    "start_time": "2022-10-28T09:44:03.500Z"
   },
   {
    "duration": 3,
    "start_time": "2022-10-28T09:44:03.784Z"
   },
   {
    "duration": 2709,
    "start_time": "2022-10-28T09:44:03.789Z"
   },
   {
    "duration": 709,
    "start_time": "2022-10-28T09:44:06.500Z"
   },
   {
    "duration": 95,
    "start_time": "2022-10-28T09:44:07.211Z"
   },
   {
    "duration": 1696,
    "start_time": "2022-10-28T09:44:07.307Z"
   },
   {
    "duration": 72,
    "start_time": "2022-10-28T09:44:09.005Z"
   },
   {
    "duration": 516,
    "start_time": "2022-10-28T09:44:09.079Z"
   },
   {
    "duration": 3801,
    "start_time": "2022-10-28T09:44:09.597Z"
   },
   {
    "duration": 4403,
    "start_time": "2022-10-28T09:44:13.400Z"
   },
   {
    "duration": 926,
    "start_time": "2022-10-28T09:44:17.805Z"
   },
   {
    "duration": 2444,
    "start_time": "2022-10-28T09:44:18.734Z"
   },
   {
    "duration": 2708,
    "start_time": "2022-10-28T09:44:21.180Z"
   },
   {
    "duration": 837,
    "start_time": "2022-10-28T09:44:23.890Z"
   },
   {
    "duration": 2684,
    "start_time": "2022-10-28T09:44:24.729Z"
   },
   {
    "duration": 4,
    "start_time": "2022-10-28T09:44:27.415Z"
   },
   {
    "duration": 89,
    "start_time": "2022-10-28T09:54:31.551Z"
   },
   {
    "duration": 66,
    "start_time": "2022-10-28T09:54:41.197Z"
   },
   {
    "duration": 123,
    "start_time": "2022-10-28T09:56:53.380Z"
   },
   {
    "duration": 11,
    "start_time": "2022-10-28T09:58:40.017Z"
   },
   {
    "duration": 672,
    "start_time": "2022-10-28T09:59:07.643Z"
   },
   {
    "duration": 23894,
    "start_time": "2022-10-28T09:59:08.316Z"
   },
   {
    "duration": 167,
    "start_time": "2022-10-28T09:59:32.212Z"
   },
   {
    "duration": 0,
    "start_time": "2022-10-28T09:59:32.381Z"
   },
   {
    "duration": 0,
    "start_time": "2022-10-28T09:59:32.382Z"
   },
   {
    "duration": 0,
    "start_time": "2022-10-28T09:59:32.384Z"
   },
   {
    "duration": 0,
    "start_time": "2022-10-28T09:59:32.385Z"
   },
   {
    "duration": 0,
    "start_time": "2022-10-28T09:59:32.386Z"
   },
   {
    "duration": 0,
    "start_time": "2022-10-28T09:59:32.387Z"
   },
   {
    "duration": 0,
    "start_time": "2022-10-28T09:59:32.388Z"
   },
   {
    "duration": 0,
    "start_time": "2022-10-28T09:59:32.389Z"
   },
   {
    "duration": 0,
    "start_time": "2022-10-28T09:59:32.390Z"
   },
   {
    "duration": 0,
    "start_time": "2022-10-28T09:59:32.392Z"
   },
   {
    "duration": 0,
    "start_time": "2022-10-28T09:59:32.393Z"
   },
   {
    "duration": 0,
    "start_time": "2022-10-28T09:59:32.395Z"
   },
   {
    "duration": 0,
    "start_time": "2022-10-28T09:59:32.395Z"
   },
   {
    "duration": 0,
    "start_time": "2022-10-28T09:59:32.397Z"
   },
   {
    "duration": 0,
    "start_time": "2022-10-28T09:59:32.398Z"
   },
   {
    "duration": 0,
    "start_time": "2022-10-28T09:59:32.400Z"
   },
   {
    "duration": 7,
    "start_time": "2022-10-28T10:01:11.973Z"
   },
   {
    "duration": 152,
    "start_time": "2022-10-28T10:01:46.236Z"
   },
   {
    "duration": 21,
    "start_time": "2022-10-28T10:03:00.667Z"
   },
   {
    "duration": 10,
    "start_time": "2022-10-28T10:04:00.505Z"
   },
   {
    "duration": 27,
    "start_time": "2022-10-28T10:04:08.938Z"
   },
   {
    "duration": 109,
    "start_time": "2022-10-28T10:04:47.195Z"
   },
   {
    "duration": 69,
    "start_time": "2022-10-28T10:11:08.725Z"
   },
   {
    "duration": 2654,
    "start_time": "2022-10-28T10:18:49.853Z"
   },
   {
    "duration": 8,
    "start_time": "2022-10-28T10:20:49.108Z"
   },
   {
    "duration": 3,
    "start_time": "2022-10-28T10:20:56.293Z"
   },
   {
    "duration": 3508,
    "start_time": "2022-10-28T10:20:58.479Z"
   },
   {
    "duration": 694,
    "start_time": "2022-10-28T10:22:40.941Z"
   },
   {
    "duration": 22551,
    "start_time": "2022-10-28T10:22:41.637Z"
   },
   {
    "duration": 96,
    "start_time": "2022-10-28T10:23:04.190Z"
   },
   {
    "duration": 206,
    "start_time": "2022-10-28T10:23:04.288Z"
   },
   {
    "duration": 3,
    "start_time": "2022-10-28T10:23:04.496Z"
   },
   {
    "duration": 2707,
    "start_time": "2022-10-28T10:23:04.501Z"
   },
   {
    "duration": 3576,
    "start_time": "2022-10-28T10:23:07.210Z"
   },
   {
    "duration": 304,
    "start_time": "2022-10-28T10:23:10.788Z"
   },
   {
    "duration": 0,
    "start_time": "2022-10-28T10:23:11.094Z"
   },
   {
    "duration": 0,
    "start_time": "2022-10-28T10:23:11.095Z"
   },
   {
    "duration": 0,
    "start_time": "2022-10-28T10:23:11.096Z"
   },
   {
    "duration": 0,
    "start_time": "2022-10-28T10:23:11.097Z"
   },
   {
    "duration": 0,
    "start_time": "2022-10-28T10:23:11.098Z"
   },
   {
    "duration": 0,
    "start_time": "2022-10-28T10:23:11.099Z"
   },
   {
    "duration": 0,
    "start_time": "2022-10-28T10:23:11.100Z"
   },
   {
    "duration": 0,
    "start_time": "2022-10-28T10:23:11.101Z"
   },
   {
    "duration": 0,
    "start_time": "2022-10-28T10:23:11.102Z"
   },
   {
    "duration": 0,
    "start_time": "2022-10-28T10:23:11.103Z"
   },
   {
    "duration": 875,
    "start_time": "2022-10-28T10:24:49.367Z"
   },
   {
    "duration": 47,
    "start_time": "2022-10-28T10:24:52.903Z"
   },
   {
    "duration": 106,
    "start_time": "2022-10-28T10:25:04.918Z"
   },
   {
    "duration": 0,
    "start_time": "2022-10-28T10:25:05.026Z"
   },
   {
    "duration": 0,
    "start_time": "2022-10-28T10:25:05.027Z"
   },
   {
    "duration": 0,
    "start_time": "2022-10-28T10:25:05.028Z"
   },
   {
    "duration": 0,
    "start_time": "2022-10-28T10:25:05.029Z"
   },
   {
    "duration": 0,
    "start_time": "2022-10-28T10:25:05.035Z"
   },
   {
    "duration": 0,
    "start_time": "2022-10-28T10:25:05.036Z"
   },
   {
    "duration": 0,
    "start_time": "2022-10-28T10:25:05.037Z"
   },
   {
    "duration": 0,
    "start_time": "2022-10-28T10:25:05.038Z"
   },
   {
    "duration": 0,
    "start_time": "2022-10-28T10:25:05.039Z"
   },
   {
    "duration": 0,
    "start_time": "2022-10-28T10:25:05.041Z"
   },
   {
    "duration": 612,
    "start_time": "2022-10-28T10:25:20.608Z"
   },
   {
    "duration": 22968,
    "start_time": "2022-10-28T10:25:21.223Z"
   },
   {
    "duration": 105,
    "start_time": "2022-10-28T10:25:44.193Z"
   },
   {
    "duration": 377,
    "start_time": "2022-10-28T10:25:44.300Z"
   },
   {
    "duration": 3,
    "start_time": "2022-10-28T10:25:44.681Z"
   },
   {
    "duration": 2813,
    "start_time": "2022-10-28T10:25:44.686Z"
   },
   {
    "duration": 3483,
    "start_time": "2022-10-28T10:25:47.501Z"
   },
   {
    "duration": 906,
    "start_time": "2022-10-28T10:25:50.985Z"
   },
   {
    "duration": 106,
    "start_time": "2022-10-28T10:25:51.893Z"
   },
   {
    "duration": 2005,
    "start_time": "2022-10-28T10:25:52.000Z"
   },
   {
    "duration": 72,
    "start_time": "2022-10-28T10:25:54.008Z"
   },
   {
    "duration": 557,
    "start_time": "2022-10-28T10:25:54.082Z"
   },
   {
    "duration": 3042,
    "start_time": "2022-10-28T10:25:54.641Z"
   },
   {
    "duration": 792,
    "start_time": "2022-10-28T10:25:57.686Z"
   },
   {
    "duration": 0,
    "start_time": "2022-10-28T10:25:58.480Z"
   },
   {
    "duration": 0,
    "start_time": "2022-10-28T10:25:58.482Z"
   },
   {
    "duration": 0,
    "start_time": "2022-10-28T10:25:58.484Z"
   },
   {
    "duration": 0,
    "start_time": "2022-10-28T10:25:58.485Z"
   },
   {
    "duration": 0,
    "start_time": "2022-10-28T10:25:58.486Z"
   },
   {
    "duration": 1652,
    "start_time": "2022-10-28T10:27:56.130Z"
   },
   {
    "duration": 433,
    "start_time": "2022-10-28T10:27:59.196Z"
   },
   {
    "duration": 1440,
    "start_time": "2022-10-28T10:28:13.463Z"
   },
   {
    "duration": 8,
    "start_time": "2022-10-28T10:28:19.419Z"
   },
   {
    "duration": 7,
    "start_time": "2022-10-28T10:28:44.915Z"
   },
   {
    "duration": 16,
    "start_time": "2022-10-28T10:29:22.411Z"
   },
   {
    "duration": 646,
    "start_time": "2022-10-28T10:30:12.076Z"
   },
   {
    "duration": 23359,
    "start_time": "2022-10-28T10:30:12.725Z"
   },
   {
    "duration": 95,
    "start_time": "2022-10-28T10:30:36.086Z"
   },
   {
    "duration": 204,
    "start_time": "2022-10-28T10:30:36.183Z"
   },
   {
    "duration": 3,
    "start_time": "2022-10-28T10:30:36.389Z"
   },
   {
    "duration": 3004,
    "start_time": "2022-10-28T10:30:36.394Z"
   },
   {
    "duration": 3607,
    "start_time": "2022-10-28T10:30:39.400Z"
   },
   {
    "duration": 1102,
    "start_time": "2022-10-28T10:30:43.009Z"
   },
   {
    "duration": 178,
    "start_time": "2022-10-28T10:30:44.113Z"
   },
   {
    "duration": 2185,
    "start_time": "2022-10-28T10:30:44.293Z"
   },
   {
    "duration": 7,
    "start_time": "2022-10-28T10:30:46.479Z"
   },
   {
    "duration": 689,
    "start_time": "2022-10-28T10:30:46.488Z"
   },
   {
    "duration": 3125,
    "start_time": "2022-10-28T10:30:47.179Z"
   },
   {
    "duration": 911,
    "start_time": "2022-10-28T10:30:50.307Z"
   },
   {
    "duration": 0,
    "start_time": "2022-10-28T10:30:51.278Z"
   },
   {
    "duration": 0,
    "start_time": "2022-10-28T10:30:51.279Z"
   },
   {
    "duration": 0,
    "start_time": "2022-10-28T10:30:51.280Z"
   },
   {
    "duration": 0,
    "start_time": "2022-10-28T10:30:51.281Z"
   },
   {
    "duration": 0,
    "start_time": "2022-10-28T10:30:51.282Z"
   },
   {
    "duration": 0,
    "start_time": "2022-10-28T10:30:51.282Z"
   },
   {
    "duration": 1737,
    "start_time": "2022-10-28T10:31:50.554Z"
   },
   {
    "duration": 528,
    "start_time": "2022-10-28T10:31:53.172Z"
   },
   {
    "duration": 23,
    "start_time": "2022-10-28T10:33:02.327Z"
   },
   {
    "duration": 1236,
    "start_time": "2022-10-28T10:33:07.013Z"
   },
   {
    "duration": 8,
    "start_time": "2022-10-28T10:33:11.893Z"
   },
   {
    "duration": 1289,
    "start_time": "2022-10-28T10:33:14.200Z"
   },
   {
    "duration": 7,
    "start_time": "2022-10-28T10:33:17.878Z"
   },
   {
    "duration": 627,
    "start_time": "2022-10-28T10:33:28.787Z"
   },
   {
    "duration": 23382,
    "start_time": "2022-10-28T10:33:29.416Z"
   },
   {
    "duration": 102,
    "start_time": "2022-10-28T10:33:52.800Z"
   },
   {
    "duration": 278,
    "start_time": "2022-10-28T10:33:52.903Z"
   },
   {
    "duration": 2,
    "start_time": "2022-10-28T10:33:53.184Z"
   },
   {
    "duration": 2919,
    "start_time": "2022-10-28T10:33:53.187Z"
   },
   {
    "duration": 4417,
    "start_time": "2022-10-28T10:33:56.108Z"
   },
   {
    "duration": 944,
    "start_time": "2022-10-28T10:34:00.578Z"
   },
   {
    "duration": 158,
    "start_time": "2022-10-28T10:34:01.524Z"
   },
   {
    "duration": 1919,
    "start_time": "2022-10-28T10:34:01.684Z"
   },
   {
    "duration": 4,
    "start_time": "2022-10-28T10:34:03.605Z"
   },
   {
    "duration": 779,
    "start_time": "2022-10-28T10:34:03.611Z"
   },
   {
    "duration": 3490,
    "start_time": "2022-10-28T10:34:04.392Z"
   },
   {
    "duration": 37,
    "start_time": "2022-10-28T10:34:07.885Z"
   },
   {
    "duration": 823,
    "start_time": "2022-10-28T10:34:07.978Z"
   },
   {
    "duration": 0,
    "start_time": "2022-10-28T10:34:08.803Z"
   },
   {
    "duration": 0,
    "start_time": "2022-10-28T10:34:08.804Z"
   },
   {
    "duration": 0,
    "start_time": "2022-10-28T10:34:08.805Z"
   },
   {
    "duration": 0,
    "start_time": "2022-10-28T10:34:08.806Z"
   },
   {
    "duration": 0,
    "start_time": "2022-10-28T10:34:08.807Z"
   },
   {
    "duration": 677,
    "start_time": "2022-10-28T10:36:05.742Z"
   },
   {
    "duration": 23466,
    "start_time": "2022-10-28T10:36:06.422Z"
   },
   {
    "duration": 88,
    "start_time": "2022-10-28T10:36:29.890Z"
   },
   {
    "duration": 203,
    "start_time": "2022-10-28T10:36:29.981Z"
   },
   {
    "duration": 4,
    "start_time": "2022-10-28T10:36:30.187Z"
   },
   {
    "duration": 3001,
    "start_time": "2022-10-28T10:36:30.193Z"
   },
   {
    "duration": 3694,
    "start_time": "2022-10-28T10:36:33.196Z"
   },
   {
    "duration": 1125,
    "start_time": "2022-10-28T10:36:36.891Z"
   },
   {
    "duration": 162,
    "start_time": "2022-10-28T10:36:38.017Z"
   },
   {
    "duration": 2296,
    "start_time": "2022-10-28T10:36:38.182Z"
   },
   {
    "duration": 6,
    "start_time": "2022-10-28T10:36:40.480Z"
   },
   {
    "duration": 731,
    "start_time": "2022-10-28T10:36:40.488Z"
   },
   {
    "duration": 3560,
    "start_time": "2022-10-28T10:36:41.221Z"
   },
   {
    "duration": 32,
    "start_time": "2022-10-28T10:36:44.783Z"
   },
   {
    "duration": 951,
    "start_time": "2022-10-28T10:36:44.817Z"
   },
   {
    "duration": 0,
    "start_time": "2022-10-28T10:36:45.770Z"
   },
   {
    "duration": 0,
    "start_time": "2022-10-28T10:36:45.772Z"
   },
   {
    "duration": 0,
    "start_time": "2022-10-28T10:36:45.773Z"
   },
   {
    "duration": 0,
    "start_time": "2022-10-28T10:36:45.775Z"
   },
   {
    "duration": 0,
    "start_time": "2022-10-28T10:36:45.776Z"
   },
   {
    "duration": 108,
    "start_time": "2022-10-28T10:38:01.898Z"
   },
   {
    "duration": 841,
    "start_time": "2022-10-28T10:38:41.469Z"
   },
   {
    "duration": 622,
    "start_time": "2022-10-28T10:39:12.010Z"
   },
   {
    "duration": 638,
    "start_time": "2022-10-28T10:39:46.375Z"
   },
   {
    "duration": 22969,
    "start_time": "2022-10-28T10:39:47.015Z"
   },
   {
    "duration": 4,
    "start_time": "2022-10-28T10:40:09.986Z"
   },
   {
    "duration": 306,
    "start_time": "2022-10-28T10:40:09.992Z"
   },
   {
    "duration": 3,
    "start_time": "2022-10-28T10:40:10.300Z"
   },
   {
    "duration": 2891,
    "start_time": "2022-10-28T10:40:10.305Z"
   },
   {
    "duration": 2612,
    "start_time": "2022-10-28T10:40:13.198Z"
   },
   {
    "duration": 1127,
    "start_time": "2022-10-28T10:40:15.812Z"
   },
   {
    "duration": 436,
    "start_time": "2022-10-28T10:40:16.941Z"
   },
   {
    "duration": 1198,
    "start_time": "2022-10-28T10:40:17.379Z"
   },
   {
    "duration": 110,
    "start_time": "2022-10-28T10:40:18.579Z"
   },
   {
    "duration": 1927,
    "start_time": "2022-10-28T10:40:18.691Z"
   },
   {
    "duration": 5,
    "start_time": "2022-10-28T10:40:20.678Z"
   },
   {
    "duration": 613,
    "start_time": "2022-10-28T10:40:20.686Z"
   },
   {
    "duration": 3124,
    "start_time": "2022-10-28T10:40:21.301Z"
   },
   {
    "duration": 80,
    "start_time": "2022-10-28T10:40:24.426Z"
   },
   {
    "duration": 1032,
    "start_time": "2022-10-28T10:40:24.508Z"
   },
   {
    "duration": 0,
    "start_time": "2022-10-28T10:40:25.541Z"
   },
   {
    "duration": 0,
    "start_time": "2022-10-28T10:40:25.543Z"
   },
   {
    "duration": 0,
    "start_time": "2022-10-28T10:40:25.544Z"
   },
   {
    "duration": 0,
    "start_time": "2022-10-28T10:40:25.545Z"
   },
   {
    "duration": 1,
    "start_time": "2022-10-28T10:40:25.545Z"
   },
   {
    "duration": 7,
    "start_time": "2022-10-28T10:41:27.027Z"
   },
   {
    "duration": 12,
    "start_time": "2022-10-28T10:41:44.083Z"
   },
   {
    "duration": 34,
    "start_time": "2022-10-28T10:41:58.838Z"
   },
   {
    "duration": 3,
    "start_time": "2022-10-28T10:42:13.457Z"
   },
   {
    "duration": 7,
    "start_time": "2022-10-28T10:42:29.545Z"
   },
   {
    "duration": 6,
    "start_time": "2022-10-28T10:42:55.425Z"
   },
   {
    "duration": 11,
    "start_time": "2022-10-28T10:43:27.549Z"
   },
   {
    "duration": 3,
    "start_time": "2022-10-28T10:44:45.382Z"
   },
   {
    "duration": 275,
    "start_time": "2022-10-28T10:48:41.315Z"
   },
   {
    "duration": 221,
    "start_time": "2022-10-28T10:48:51.407Z"
   },
   {
    "duration": 248,
    "start_time": "2022-10-28T10:49:02.363Z"
   },
   {
    "duration": 298,
    "start_time": "2022-10-28T10:49:12.200Z"
   },
   {
    "duration": 1844,
    "start_time": "2022-10-28T10:49:27.438Z"
   },
   {
    "duration": 1200,
    "start_time": "2022-10-28T10:50:44.284Z"
   },
   {
    "duration": 4,
    "start_time": "2022-10-28T10:51:22.300Z"
   },
   {
    "duration": 12,
    "start_time": "2022-10-28T10:54:55.229Z"
   },
   {
    "duration": 658,
    "start_time": "2022-10-28T10:55:20.551Z"
   },
   {
    "duration": 22572,
    "start_time": "2022-10-28T10:55:21.211Z"
   },
   {
    "duration": 92,
    "start_time": "2022-10-28T10:55:43.785Z"
   },
   {
    "duration": 202,
    "start_time": "2022-10-28T10:55:43.880Z"
   },
   {
    "duration": 4,
    "start_time": "2022-10-28T10:55:44.084Z"
   },
   {
    "duration": 88,
    "start_time": "2022-10-28T10:55:44.090Z"
   },
   {
    "duration": 129,
    "start_time": "2022-10-28T10:55:44.179Z"
   },
   {
    "duration": 0,
    "start_time": "2022-10-28T10:55:44.310Z"
   },
   {
    "duration": 0,
    "start_time": "2022-10-28T10:55:44.312Z"
   },
   {
    "duration": 0,
    "start_time": "2022-10-28T10:55:44.312Z"
   },
   {
    "duration": 0,
    "start_time": "2022-10-28T10:55:44.314Z"
   },
   {
    "duration": 0,
    "start_time": "2022-10-28T10:55:44.316Z"
   },
   {
    "duration": 0,
    "start_time": "2022-10-28T10:55:44.317Z"
   },
   {
    "duration": 0,
    "start_time": "2022-10-28T10:55:44.318Z"
   },
   {
    "duration": 0,
    "start_time": "2022-10-28T10:55:44.378Z"
   },
   {
    "duration": 0,
    "start_time": "2022-10-28T10:55:44.379Z"
   },
   {
    "duration": 0,
    "start_time": "2022-10-28T10:55:44.380Z"
   },
   {
    "duration": 0,
    "start_time": "2022-10-28T10:55:44.381Z"
   },
   {
    "duration": 0,
    "start_time": "2022-10-28T10:55:44.382Z"
   },
   {
    "duration": 0,
    "start_time": "2022-10-28T10:55:44.383Z"
   },
   {
    "duration": 0,
    "start_time": "2022-10-28T10:55:44.384Z"
   },
   {
    "duration": 0,
    "start_time": "2022-10-28T10:55:44.385Z"
   },
   {
    "duration": 0,
    "start_time": "2022-10-28T10:55:44.386Z"
   },
   {
    "duration": 2,
    "start_time": "2022-10-28T10:56:15.911Z"
   },
   {
    "duration": 2682,
    "start_time": "2022-10-28T10:56:15.915Z"
   },
   {
    "duration": 2778,
    "start_time": "2022-10-28T10:56:18.599Z"
   },
   {
    "duration": 1223,
    "start_time": "2022-10-28T10:56:21.379Z"
   },
   {
    "duration": 404,
    "start_time": "2022-10-28T10:56:22.605Z"
   },
   {
    "duration": 1175,
    "start_time": "2022-10-28T10:56:23.010Z"
   },
   {
    "duration": 109,
    "start_time": "2022-10-28T10:56:24.187Z"
   },
   {
    "duration": 1891,
    "start_time": "2022-10-28T10:56:24.298Z"
   },
   {
    "duration": 5,
    "start_time": "2022-10-28T10:56:26.191Z"
   },
   {
    "duration": 685,
    "start_time": "2022-10-28T10:56:26.198Z"
   },
   {
    "duration": 3107,
    "start_time": "2022-10-28T10:56:26.885Z"
   },
   {
    "duration": 94,
    "start_time": "2022-10-28T10:56:29.994Z"
   },
   {
    "duration": 846,
    "start_time": "2022-10-28T10:56:30.089Z"
   },
   {
    "duration": 0,
    "start_time": "2022-10-28T10:56:30.937Z"
   },
   {
    "duration": 0,
    "start_time": "2022-10-28T10:56:30.938Z"
   },
   {
    "duration": 0,
    "start_time": "2022-10-28T10:56:30.939Z"
   },
   {
    "duration": 0,
    "start_time": "2022-10-28T10:56:30.940Z"
   },
   {
    "duration": 91,
    "start_time": "2022-10-28T11:47:18.659Z"
   },
   {
    "duration": 16,
    "start_time": "2022-10-28T11:47:35.387Z"
   },
   {
    "duration": 12,
    "start_time": "2022-10-28T11:49:30.339Z"
   },
   {
    "duration": 727,
    "start_time": "2022-10-28T11:49:37.584Z"
   },
   {
    "duration": 23983,
    "start_time": "2022-10-28T11:49:38.313Z"
   },
   {
    "duration": 104,
    "start_time": "2022-10-28T11:50:02.298Z"
   },
   {
    "duration": 280,
    "start_time": "2022-10-28T11:50:02.404Z"
   },
   {
    "duration": 3,
    "start_time": "2022-10-28T11:50:02.687Z"
   },
   {
    "duration": 6,
    "start_time": "2022-10-28T11:50:02.692Z"
   },
   {
    "duration": 3284,
    "start_time": "2022-10-28T11:50:02.701Z"
   },
   {
    "duration": 3198,
    "start_time": "2022-10-28T11:50:05.986Z"
   },
   {
    "duration": 1400,
    "start_time": "2022-10-28T11:50:09.186Z"
   },
   {
    "duration": 326,
    "start_time": "2022-10-28T11:50:10.587Z"
   },
   {
    "duration": 1065,
    "start_time": "2022-10-28T11:50:10.915Z"
   },
   {
    "duration": 110,
    "start_time": "2022-10-28T11:50:11.981Z"
   },
   {
    "duration": 2192,
    "start_time": "2022-10-28T11:50:12.093Z"
   },
   {
    "duration": 8,
    "start_time": "2022-10-28T11:50:14.289Z"
   },
   {
    "duration": 787,
    "start_time": "2022-10-28T11:50:14.299Z"
   },
   {
    "duration": 3093,
    "start_time": "2022-10-28T11:50:15.088Z"
   },
   {
    "duration": 29,
    "start_time": "2022-10-28T11:50:18.183Z"
   },
   {
    "duration": 847,
    "start_time": "2022-10-28T11:50:18.278Z"
   },
   {
    "duration": 0,
    "start_time": "2022-10-28T11:50:19.127Z"
   },
   {
    "duration": 0,
    "start_time": "2022-10-28T11:50:19.128Z"
   },
   {
    "duration": 0,
    "start_time": "2022-10-28T11:50:19.130Z"
   },
   {
    "duration": 0,
    "start_time": "2022-10-28T11:50:19.130Z"
   },
   {
    "duration": 1724,
    "start_time": "2022-10-28T11:50:28.305Z"
   },
   {
    "duration": 522,
    "start_time": "2022-10-28T11:50:30.566Z"
   },
   {
    "duration": 1556,
    "start_time": "2022-10-28T11:50:33.649Z"
   },
   {
    "duration": 10,
    "start_time": "2022-10-28T11:52:02.440Z"
   },
   {
    "duration": 16,
    "start_time": "2022-10-28T11:53:22.509Z"
   },
   {
    "duration": 644,
    "start_time": "2022-10-28T11:56:02.468Z"
   },
   {
    "duration": 24064,
    "start_time": "2022-10-28T11:56:03.113Z"
   },
   {
    "duration": 100,
    "start_time": "2022-10-28T11:56:27.179Z"
   },
   {
    "duration": 220,
    "start_time": "2022-10-28T11:56:27.282Z"
   },
   {
    "duration": 4,
    "start_time": "2022-10-28T11:56:27.579Z"
   },
   {
    "duration": 22,
    "start_time": "2022-10-28T11:56:27.585Z"
   },
   {
    "duration": 2794,
    "start_time": "2022-10-28T11:56:27.609Z"
   },
   {
    "duration": 2797,
    "start_time": "2022-10-28T11:56:30.405Z"
   },
   {
    "duration": 1197,
    "start_time": "2022-10-28T11:56:33.204Z"
   },
   {
    "duration": 384,
    "start_time": "2022-10-28T11:56:34.406Z"
   },
   {
    "duration": 1126,
    "start_time": "2022-10-28T11:56:34.792Z"
   },
   {
    "duration": 112,
    "start_time": "2022-10-28T11:56:35.978Z"
   },
   {
    "duration": 1901,
    "start_time": "2022-10-28T11:56:36.091Z"
   },
   {
    "duration": 7,
    "start_time": "2022-10-28T11:56:37.993Z"
   },
   {
    "duration": 612,
    "start_time": "2022-10-28T11:56:38.002Z"
   },
   {
    "duration": 3205,
    "start_time": "2022-10-28T11:56:38.615Z"
   },
   {
    "duration": 933,
    "start_time": "2022-10-28T11:56:41.877Z"
   },
   {
    "duration": 0,
    "start_time": "2022-10-28T11:56:42.812Z"
   },
   {
    "duration": 0,
    "start_time": "2022-10-28T11:56:42.813Z"
   },
   {
    "duration": 0,
    "start_time": "2022-10-28T11:56:42.814Z"
   },
   {
    "duration": 0,
    "start_time": "2022-10-28T11:56:42.815Z"
   },
   {
    "duration": 0,
    "start_time": "2022-10-28T11:56:42.816Z"
   },
   {
    "duration": 386,
    "start_time": "2022-10-28T11:57:24.436Z"
   },
   {
    "duration": 3,
    "start_time": "2022-10-28T11:57:40.409Z"
   },
   {
    "duration": 461,
    "start_time": "2022-10-28T11:57:44.853Z"
   },
   {
    "duration": 1554,
    "start_time": "2022-10-28T11:57:47.295Z"
   },
   {
    "duration": 528,
    "start_time": "2022-10-28T11:57:48.851Z"
   },
   {
    "duration": 1506,
    "start_time": "2022-10-28T11:57:56.313Z"
   },
   {
    "duration": 509,
    "start_time": "2022-10-28T11:57:57.880Z"
   },
   {
    "duration": 621,
    "start_time": "2022-10-28T11:58:22.994Z"
   },
   {
    "duration": 23974,
    "start_time": "2022-10-28T11:58:23.617Z"
   },
   {
    "duration": 101,
    "start_time": "2022-10-28T11:58:47.592Z"
   },
   {
    "duration": 291,
    "start_time": "2022-10-28T11:58:47.696Z"
   },
   {
    "duration": 3,
    "start_time": "2022-10-28T11:58:47.989Z"
   },
   {
    "duration": 9,
    "start_time": "2022-10-28T11:58:47.994Z"
   },
   {
    "duration": 2898,
    "start_time": "2022-10-28T11:58:48.004Z"
   },
   {
    "duration": 2705,
    "start_time": "2022-10-28T11:58:50.904Z"
   },
   {
    "duration": 1266,
    "start_time": "2022-10-28T11:58:53.611Z"
   },
   {
    "duration": 320,
    "start_time": "2022-10-28T11:58:54.880Z"
   },
   {
    "duration": 1204,
    "start_time": "2022-10-28T11:58:55.201Z"
   },
   {
    "duration": 109,
    "start_time": "2022-10-28T11:58:56.406Z"
   },
   {
    "duration": 2087,
    "start_time": "2022-10-28T11:58:56.517Z"
   },
   {
    "duration": 75,
    "start_time": "2022-10-28T11:58:58.606Z"
   },
   {
    "duration": 737,
    "start_time": "2022-10-28T11:58:58.682Z"
   },
   {
    "duration": 3679,
    "start_time": "2022-10-28T11:58:59.420Z"
   },
   {
    "duration": 898,
    "start_time": "2022-10-28T11:59:03.101Z"
   },
   {
    "duration": 0,
    "start_time": "2022-10-28T11:59:04.001Z"
   },
   {
    "duration": 0,
    "start_time": "2022-10-28T11:59:04.002Z"
   },
   {
    "duration": 0,
    "start_time": "2022-10-28T11:59:04.003Z"
   },
   {
    "duration": 0,
    "start_time": "2022-10-28T11:59:04.004Z"
   },
   {
    "duration": 0,
    "start_time": "2022-10-28T11:59:04.005Z"
   },
   {
    "duration": 27,
    "start_time": "2022-10-28T11:59:19.304Z"
   },
   {
    "duration": 635,
    "start_time": "2022-10-28T11:59:22.208Z"
   },
   {
    "duration": 819,
    "start_time": "2022-10-28T17:38:40.360Z"
   },
   {
    "duration": 23822,
    "start_time": "2022-10-28T17:38:41.181Z"
   },
   {
    "duration": 282,
    "start_time": "2022-10-28T17:39:05.005Z"
   },
   {
    "duration": 4,
    "start_time": "2022-10-28T17:39:05.289Z"
   },
   {
    "duration": 6,
    "start_time": "2022-10-28T17:39:05.295Z"
   },
   {
    "duration": 3093,
    "start_time": "2022-10-28T17:39:05.303Z"
   },
   {
    "duration": 3081,
    "start_time": "2022-10-28T17:39:08.398Z"
   },
   {
    "duration": 1298,
    "start_time": "2022-10-28T17:39:11.480Z"
   },
   {
    "duration": 406,
    "start_time": "2022-10-28T17:39:12.780Z"
   },
   {
    "duration": 989,
    "start_time": "2022-10-28T17:39:13.188Z"
   },
   {
    "duration": 108,
    "start_time": "2022-10-28T17:39:14.179Z"
   },
   {
    "duration": 1911,
    "start_time": "2022-10-28T17:39:14.288Z"
   },
   {
    "duration": 8,
    "start_time": "2022-10-28T17:39:16.201Z"
   },
   {
    "duration": 630,
    "start_time": "2022-10-28T17:39:16.278Z"
   },
   {
    "duration": 3278,
    "start_time": "2022-10-28T17:39:16.910Z"
   },
   {
    "duration": 93,
    "start_time": "2022-10-28T17:39:20.189Z"
   },
   {
    "duration": 1060,
    "start_time": "2022-10-28T17:39:20.284Z"
   },
   {
    "duration": 0,
    "start_time": "2022-10-28T17:39:21.345Z"
   },
   {
    "duration": 0,
    "start_time": "2022-10-28T17:39:21.347Z"
   },
   {
    "duration": 0,
    "start_time": "2022-10-28T17:39:21.347Z"
   },
   {
    "duration": 0,
    "start_time": "2022-10-28T17:39:21.349Z"
   },
   {
    "duration": 108,
    "start_time": "2022-10-28T17:39:53.758Z"
   },
   {
    "duration": 817,
    "start_time": "2022-10-28T17:40:13.523Z"
   },
   {
    "duration": 1630,
    "start_time": "2022-10-28T17:41:14.362Z"
   },
   {
    "duration": 435,
    "start_time": "2022-10-28T17:41:16.537Z"
   },
   {
    "duration": 1400,
    "start_time": "2022-10-28T17:41:18.387Z"
   },
   {
    "duration": 4,
    "start_time": "2022-10-28T17:41:21.573Z"
   },
   {
    "duration": 578,
    "start_time": "2022-10-28T17:48:18.837Z"
   },
   {
    "duration": 23270,
    "start_time": "2022-10-28T17:48:19.416Z"
   },
   {
    "duration": 393,
    "start_time": "2022-10-28T17:48:42.687Z"
   },
   {
    "duration": 7,
    "start_time": "2022-10-28T17:48:43.083Z"
   },
   {
    "duration": 9,
    "start_time": "2022-10-28T17:48:43.091Z"
   },
   {
    "duration": 2204,
    "start_time": "2022-10-28T17:48:43.101Z"
   },
   {
    "duration": 440,
    "start_time": "2022-10-28T17:48:45.306Z"
   },
   {
    "duration": 333,
    "start_time": "2022-10-28T17:48:45.777Z"
   },
   {
    "duration": 632,
    "start_time": "2022-10-28T17:48:46.111Z"
   },
   {
    "duration": 0,
    "start_time": "2022-10-28T17:48:46.747Z"
   },
   {
    "duration": 0,
    "start_time": "2022-10-28T17:48:46.748Z"
   },
   {
    "duration": 0,
    "start_time": "2022-10-28T17:48:46.749Z"
   },
   {
    "duration": 0,
    "start_time": "2022-10-28T17:48:46.750Z"
   },
   {
    "duration": 0,
    "start_time": "2022-10-28T17:48:46.751Z"
   },
   {
    "duration": 0,
    "start_time": "2022-10-28T17:48:46.752Z"
   },
   {
    "duration": 0,
    "start_time": "2022-10-28T17:48:46.752Z"
   },
   {
    "duration": 0,
    "start_time": "2022-10-28T17:48:46.753Z"
   },
   {
    "duration": 0,
    "start_time": "2022-10-28T17:48:46.754Z"
   },
   {
    "duration": 0,
    "start_time": "2022-10-28T17:48:46.755Z"
   },
   {
    "duration": 0,
    "start_time": "2022-10-28T17:48:46.777Z"
   },
   {
    "duration": 0,
    "start_time": "2022-10-28T17:48:46.778Z"
   },
   {
    "duration": 0,
    "start_time": "2022-10-28T17:48:46.779Z"
   },
   {
    "duration": 0,
    "start_time": "2022-10-28T17:48:46.780Z"
   },
   {
    "duration": 248,
    "start_time": "2022-10-28T17:49:14.436Z"
   },
   {
    "duration": 103,
    "start_time": "2022-10-28T17:49:14.686Z"
   },
   {
    "duration": 115,
    "start_time": "2022-10-28T17:49:14.790Z"
   },
   {
    "duration": 0,
    "start_time": "2022-10-28T17:49:14.906Z"
   },
   {
    "duration": 0,
    "start_time": "2022-10-28T17:49:14.907Z"
   },
   {
    "duration": 0,
    "start_time": "2022-10-28T17:49:14.908Z"
   },
   {
    "duration": 0,
    "start_time": "2022-10-28T17:49:14.910Z"
   },
   {
    "duration": 0,
    "start_time": "2022-10-28T17:49:14.911Z"
   },
   {
    "duration": 0,
    "start_time": "2022-10-28T17:49:14.912Z"
   },
   {
    "duration": 0,
    "start_time": "2022-10-28T17:49:14.913Z"
   },
   {
    "duration": 0,
    "start_time": "2022-10-28T17:49:14.913Z"
   },
   {
    "duration": 0,
    "start_time": "2022-10-28T17:49:14.915Z"
   },
   {
    "duration": 0,
    "start_time": "2022-10-28T17:49:14.978Z"
   },
   {
    "duration": 0,
    "start_time": "2022-10-28T17:49:14.979Z"
   },
   {
    "duration": 0,
    "start_time": "2022-10-28T17:49:14.980Z"
   },
   {
    "duration": 105,
    "start_time": "2022-10-28T17:49:26.934Z"
   },
   {
    "duration": 5,
    "start_time": "2022-10-28T17:49:33.641Z"
   },
   {
    "duration": 106,
    "start_time": "2022-10-28T17:49:37.692Z"
   },
   {
    "duration": 710,
    "start_time": "2022-10-28T17:49:47.493Z"
   },
   {
    "duration": 22882,
    "start_time": "2022-10-28T17:49:48.206Z"
   },
   {
    "duration": 215,
    "start_time": "2022-10-28T17:50:11.093Z"
   },
   {
    "duration": 4,
    "start_time": "2022-10-28T17:50:11.377Z"
   },
   {
    "duration": 20,
    "start_time": "2022-10-28T17:50:11.383Z"
   },
   {
    "duration": 2094,
    "start_time": "2022-10-28T17:50:11.404Z"
   },
   {
    "duration": 493,
    "start_time": "2022-10-28T17:50:13.500Z"
   },
   {
    "duration": 292,
    "start_time": "2022-10-28T17:50:13.995Z"
   },
   {
    "duration": 391,
    "start_time": "2022-10-28T17:50:14.288Z"
   },
   {
    "duration": 41,
    "start_time": "2022-10-28T17:50:14.680Z"
   },
   {
    "duration": 1420,
    "start_time": "2022-10-28T17:50:14.777Z"
   },
   {
    "duration": 9,
    "start_time": "2022-10-28T17:50:16.199Z"
   },
   {
    "duration": 84,
    "start_time": "2022-10-28T17:50:16.211Z"
   },
   {
    "duration": 496,
    "start_time": "2022-10-28T17:50:16.298Z"
   },
   {
    "duration": 3190,
    "start_time": "2022-10-28T17:50:16.796Z"
   },
   {
    "duration": 3603,
    "start_time": "2022-10-28T17:50:19.988Z"
   },
   {
    "duration": 94,
    "start_time": "2022-10-28T17:50:23.592Z"
   },
   {
    "duration": 2218,
    "start_time": "2022-10-28T17:50:23.688Z"
   },
   {
    "duration": 2469,
    "start_time": "2022-10-28T17:50:25.908Z"
   },
   {
    "duration": 833,
    "start_time": "2022-10-28T17:50:28.379Z"
   },
   {
    "duration": 2669,
    "start_time": "2022-10-28T17:50:29.214Z"
   },
   {
    "duration": 3,
    "start_time": "2022-10-28T17:50:31.885Z"
   },
   {
    "duration": 11,
    "start_time": "2022-10-28T17:50:31.889Z"
   },
   {
    "duration": 615,
    "start_time": "2022-10-28T17:51:10.698Z"
   },
   {
    "duration": 24166,
    "start_time": "2022-10-28T17:51:11.314Z"
   },
   {
    "duration": 29,
    "start_time": "2022-10-28T17:51:35.482Z"
   },
   {
    "duration": 271,
    "start_time": "2022-10-28T17:51:35.513Z"
   },
   {
    "duration": 5,
    "start_time": "2022-10-28T17:51:35.787Z"
   },
   {
    "duration": 83,
    "start_time": "2022-10-28T17:51:35.794Z"
   },
   {
    "duration": 2314,
    "start_time": "2022-10-28T17:51:35.879Z"
   },
   {
    "duration": 494,
    "start_time": "2022-10-28T17:51:38.195Z"
   },
   {
    "duration": 296,
    "start_time": "2022-10-28T17:51:38.691Z"
   },
   {
    "duration": 409,
    "start_time": "2022-10-28T17:51:38.989Z"
   },
   {
    "duration": 97,
    "start_time": "2022-10-28T17:51:39.400Z"
   },
   {
    "duration": 1678,
    "start_time": "2022-10-28T17:51:39.499Z"
   },
   {
    "duration": 11,
    "start_time": "2022-10-28T17:51:41.179Z"
   },
   {
    "duration": 89,
    "start_time": "2022-10-28T17:51:41.193Z"
   },
   {
    "duration": 563,
    "start_time": "2022-10-28T17:51:41.284Z"
   },
   {
    "duration": 3737,
    "start_time": "2022-10-28T17:51:41.849Z"
   },
   {
    "duration": 4294,
    "start_time": "2022-10-28T17:51:45.588Z"
   },
   {
    "duration": 97,
    "start_time": "2022-10-28T17:51:49.883Z"
   },
   {
    "duration": 2810,
    "start_time": "2022-10-28T17:51:49.982Z"
   },
   {
    "duration": 2884,
    "start_time": "2022-10-28T17:51:52.794Z"
   },
   {
    "duration": 812,
    "start_time": "2022-10-28T17:51:55.679Z"
   },
   {
    "duration": 2829,
    "start_time": "2022-10-28T17:51:56.492Z"
   },
   {
    "duration": 4,
    "start_time": "2022-10-28T17:51:59.323Z"
   },
   {
    "duration": 24,
    "start_time": "2022-10-28T17:51:59.328Z"
   },
   {
    "duration": 664,
    "start_time": "2022-10-28T17:57:13.546Z"
   },
   {
    "duration": 24465,
    "start_time": "2022-10-28T17:57:14.212Z"
   },
   {
    "duration": 30,
    "start_time": "2022-10-28T17:57:38.679Z"
   },
   {
    "duration": 226,
    "start_time": "2022-10-28T17:57:38.776Z"
   },
   {
    "duration": 3,
    "start_time": "2022-10-28T17:57:39.078Z"
   },
   {
    "duration": 4,
    "start_time": "2022-10-28T17:57:39.083Z"
   },
   {
    "duration": 3290,
    "start_time": "2022-10-28T17:57:39.088Z"
   },
   {
    "duration": 2308,
    "start_time": "2022-10-28T17:57:42.381Z"
   },
   {
    "duration": 0,
    "start_time": "2022-10-28T17:57:44.691Z"
   },
   {
    "duration": 0,
    "start_time": "2022-10-28T17:57:44.696Z"
   },
   {
    "duration": 0,
    "start_time": "2022-10-28T17:57:44.698Z"
   },
   {
    "duration": 0,
    "start_time": "2022-10-28T17:57:44.699Z"
   },
   {
    "duration": 0,
    "start_time": "2022-10-28T17:57:44.700Z"
   },
   {
    "duration": 0,
    "start_time": "2022-10-28T17:57:44.701Z"
   },
   {
    "duration": 0,
    "start_time": "2022-10-28T17:57:44.703Z"
   },
   {
    "duration": 0,
    "start_time": "2022-10-28T17:57:44.705Z"
   },
   {
    "duration": 0,
    "start_time": "2022-10-28T17:57:44.706Z"
   },
   {
    "duration": 0,
    "start_time": "2022-10-28T17:57:44.707Z"
   },
   {
    "duration": 0,
    "start_time": "2022-10-28T17:57:44.708Z"
   },
   {
    "duration": 0,
    "start_time": "2022-10-28T17:57:44.709Z"
   },
   {
    "duration": 0,
    "start_time": "2022-10-28T17:57:44.711Z"
   },
   {
    "duration": 0,
    "start_time": "2022-10-28T17:57:44.712Z"
   },
   {
    "duration": 0,
    "start_time": "2022-10-28T17:57:44.713Z"
   },
   {
    "duration": 0,
    "start_time": "2022-10-28T17:57:44.714Z"
   },
   {
    "duration": 331,
    "start_time": "2022-10-28T17:58:44.011Z"
   },
   {
    "duration": 660,
    "start_time": "2022-10-28T17:59:12.656Z"
   },
   {
    "duration": 24285,
    "start_time": "2022-10-28T17:59:13.318Z"
   },
   {
    "duration": 176,
    "start_time": "2022-10-28T17:59:37.606Z"
   },
   {
    "duration": 313,
    "start_time": "2022-10-28T17:59:37.785Z"
   },
   {
    "duration": 79,
    "start_time": "2022-10-28T17:59:38.100Z"
   },
   {
    "duration": 22,
    "start_time": "2022-10-28T17:59:38.181Z"
   },
   {
    "duration": 3099,
    "start_time": "2022-10-28T17:59:38.205Z"
   },
   {
    "duration": 2113,
    "start_time": "2022-10-28T17:59:41.377Z"
   },
   {
    "duration": 1122,
    "start_time": "2022-10-28T17:59:43.492Z"
   },
   {
    "duration": 377,
    "start_time": "2022-10-28T17:59:44.617Z"
   },
   {
    "duration": 1016,
    "start_time": "2022-10-28T17:59:44.996Z"
   },
   {
    "duration": 336,
    "start_time": "2022-10-28T17:59:46.014Z"
   },
   {
    "duration": 0,
    "start_time": "2022-10-28T17:59:46.352Z"
   },
   {
    "duration": 0,
    "start_time": "2022-10-28T17:59:46.356Z"
   },
   {
    "duration": 0,
    "start_time": "2022-10-28T17:59:46.357Z"
   },
   {
    "duration": 0,
    "start_time": "2022-10-28T17:59:46.358Z"
   },
   {
    "duration": 0,
    "start_time": "2022-10-28T17:59:46.359Z"
   },
   {
    "duration": 0,
    "start_time": "2022-10-28T17:59:46.360Z"
   },
   {
    "duration": 0,
    "start_time": "2022-10-28T17:59:46.362Z"
   },
   {
    "duration": 0,
    "start_time": "2022-10-28T17:59:46.363Z"
   },
   {
    "duration": 0,
    "start_time": "2022-10-28T17:59:46.364Z"
   },
   {
    "duration": 0,
    "start_time": "2022-10-28T17:59:46.365Z"
   },
   {
    "duration": 0,
    "start_time": "2022-10-28T17:59:46.366Z"
   },
   {
    "duration": 0,
    "start_time": "2022-10-28T17:59:46.367Z"
   },
   {
    "duration": 102,
    "start_time": "2022-10-28T18:04:56.697Z"
   },
   {
    "duration": 674,
    "start_time": "2022-10-28T18:07:36.623Z"
   },
   {
    "duration": 24088,
    "start_time": "2022-10-28T18:07:37.299Z"
   },
   {
    "duration": 192,
    "start_time": "2022-10-28T18:08:01.389Z"
   },
   {
    "duration": 293,
    "start_time": "2022-10-28T18:08:01.585Z"
   },
   {
    "duration": 5,
    "start_time": "2022-10-28T18:08:01.879Z"
   },
   {
    "duration": 19,
    "start_time": "2022-10-28T18:08:01.885Z"
   },
   {
    "duration": 2979,
    "start_time": "2022-10-28T18:08:01.906Z"
   },
   {
    "duration": 2022,
    "start_time": "2022-10-28T18:08:04.887Z"
   },
   {
    "duration": 1582,
    "start_time": "2022-10-28T18:08:06.911Z"
   },
   {
    "duration": 412,
    "start_time": "2022-10-28T18:08:08.497Z"
   },
   {
    "duration": 1205,
    "start_time": "2022-10-28T18:08:08.910Z"
   },
   {
    "duration": 38,
    "start_time": "2022-10-28T18:08:10.177Z"
   },
   {
    "duration": 1637,
    "start_time": "2022-10-28T18:08:10.278Z"
   },
   {
    "duration": 0,
    "start_time": "2022-10-28T18:08:11.916Z"
   },
   {
    "duration": 0,
    "start_time": "2022-10-28T18:08:11.917Z"
   },
   {
    "duration": 0,
    "start_time": "2022-10-28T18:08:11.918Z"
   },
   {
    "duration": 0,
    "start_time": "2022-10-28T18:08:11.919Z"
   },
   {
    "duration": 0,
    "start_time": "2022-10-28T18:08:11.920Z"
   },
   {
    "duration": 0,
    "start_time": "2022-10-28T18:08:11.921Z"
   },
   {
    "duration": 0,
    "start_time": "2022-10-28T18:08:11.922Z"
   },
   {
    "duration": 0,
    "start_time": "2022-10-28T18:08:11.923Z"
   },
   {
    "duration": 0,
    "start_time": "2022-10-28T18:08:11.924Z"
   },
   {
    "duration": 0,
    "start_time": "2022-10-28T18:08:11.925Z"
   },
   {
    "duration": 0,
    "start_time": "2022-10-28T18:08:11.926Z"
   },
   {
    "duration": 125,
    "start_time": "2022-10-28T18:09:27.519Z"
   },
   {
    "duration": 695,
    "start_time": "2022-10-28T18:09:45.504Z"
   },
   {
    "duration": 23702,
    "start_time": "2022-10-28T18:09:46.200Z"
   },
   {
    "duration": 106,
    "start_time": "2022-10-28T18:10:09.904Z"
   },
   {
    "duration": 320,
    "start_time": "2022-10-28T18:10:10.078Z"
   },
   {
    "duration": 5,
    "start_time": "2022-10-28T18:10:10.401Z"
   },
   {
    "duration": 71,
    "start_time": "2022-10-28T18:10:10.408Z"
   },
   {
    "duration": 3000,
    "start_time": "2022-10-28T18:10:10.481Z"
   },
   {
    "duration": 2008,
    "start_time": "2022-10-28T18:10:13.483Z"
   },
   {
    "duration": 1213,
    "start_time": "2022-10-28T18:10:15.493Z"
   },
   {
    "duration": 381,
    "start_time": "2022-10-28T18:10:16.707Z"
   },
   {
    "duration": 1197,
    "start_time": "2022-10-28T18:10:17.089Z"
   },
   {
    "duration": 113,
    "start_time": "2022-10-28T18:10:18.288Z"
   },
   {
    "duration": 1374,
    "start_time": "2022-10-28T18:10:18.403Z"
   },
   {
    "duration": 10,
    "start_time": "2022-10-28T18:10:19.780Z"
   },
   {
    "duration": 103,
    "start_time": "2022-10-28T18:10:19.791Z"
   },
   {
    "duration": 1087,
    "start_time": "2022-10-28T18:10:19.896Z"
   },
   {
    "duration": 3127,
    "start_time": "2022-10-28T18:10:20.985Z"
   },
   {
    "duration": 95,
    "start_time": "2022-10-28T18:10:24.114Z"
   },
   {
    "duration": 1796,
    "start_time": "2022-10-28T18:10:24.210Z"
   },
   {
    "duration": 1888,
    "start_time": "2022-10-28T18:10:26.008Z"
   },
   {
    "duration": 530,
    "start_time": "2022-10-28T18:10:27.897Z"
   },
   {
    "duration": 1761,
    "start_time": "2022-10-28T18:10:28.429Z"
   },
   {
    "duration": 4,
    "start_time": "2022-10-28T18:10:30.192Z"
   },
   {
    "duration": 23,
    "start_time": "2022-10-28T18:10:30.198Z"
   },
   {
    "duration": 379,
    "start_time": "2022-10-28T18:12:56.949Z"
   },
   {
    "duration": 704,
    "start_time": "2022-10-28T18:14:17.399Z"
   },
   {
    "duration": 23777,
    "start_time": "2022-10-28T18:14:18.105Z"
   },
   {
    "duration": 100,
    "start_time": "2022-10-28T18:14:41.884Z"
   },
   {
    "duration": 410,
    "start_time": "2022-10-28T18:14:41.987Z"
   },
   {
    "duration": 4,
    "start_time": "2022-10-28T18:14:42.399Z"
   },
   {
    "duration": 5,
    "start_time": "2022-10-28T18:14:42.405Z"
   },
   {
    "duration": 3080,
    "start_time": "2022-10-28T18:14:42.412Z"
   },
   {
    "duration": 2008,
    "start_time": "2022-10-28T18:14:45.494Z"
   },
   {
    "duration": 1380,
    "start_time": "2022-10-28T18:14:47.503Z"
   },
   {
    "duration": 393,
    "start_time": "2022-10-28T18:14:48.886Z"
   },
   {
    "duration": 1212,
    "start_time": "2022-10-28T18:14:49.281Z"
   },
   {
    "duration": 116,
    "start_time": "2022-10-28T18:14:50.494Z"
   },
   {
    "duration": 1473,
    "start_time": "2022-10-28T18:14:50.612Z"
   },
   {
    "duration": 8,
    "start_time": "2022-10-28T18:14:52.087Z"
   },
   {
    "duration": 104,
    "start_time": "2022-10-28T18:14:52.097Z"
   },
   {
    "duration": 1131,
    "start_time": "2022-10-28T18:14:52.203Z"
   },
   {
    "duration": 3198,
    "start_time": "2022-10-28T18:14:53.335Z"
   },
   {
    "duration": 37,
    "start_time": "2022-10-28T18:14:56.577Z"
   },
   {
    "duration": 1770,
    "start_time": "2022-10-28T18:14:56.616Z"
   },
   {
    "duration": 1805,
    "start_time": "2022-10-28T18:14:58.388Z"
   },
   {
    "duration": 581,
    "start_time": "2022-10-28T18:15:00.195Z"
   },
   {
    "duration": 1626,
    "start_time": "2022-10-28T18:15:00.779Z"
   },
   {
    "duration": 5,
    "start_time": "2022-10-28T18:15:02.407Z"
   },
   {
    "duration": 723,
    "start_time": "2022-10-29T06:06:45.655Z"
   },
   {
    "duration": 24855,
    "start_time": "2022-10-29T06:06:46.380Z"
   },
   {
    "duration": 100,
    "start_time": "2022-10-29T06:07:11.237Z"
   },
   {
    "duration": 310,
    "start_time": "2022-10-29T06:07:11.338Z"
   },
   {
    "duration": 82,
    "start_time": "2022-10-29T06:07:11.651Z"
   },
   {
    "duration": 152,
    "start_time": "2022-10-29T06:07:11.734Z"
   },
   {
    "duration": 10,
    "start_time": "2022-10-29T06:15:32.052Z"
   },
   {
    "duration": 10,
    "start_time": "2022-10-29T06:15:53.644Z"
   },
   {
    "duration": 1894,
    "start_time": "2022-10-29T06:16:52.437Z"
   },
   {
    "duration": 4,
    "start_time": "2022-10-29T06:18:02.462Z"
   },
   {
    "duration": 982,
    "start_time": "2022-10-29T06:18:02.467Z"
   },
   {
    "duration": 1007,
    "start_time": "2022-10-29T06:18:03.450Z"
   },
   {
    "duration": 843,
    "start_time": "2022-10-29T06:19:10.713Z"
   },
   {
    "duration": 830,
    "start_time": "2022-10-29T06:19:27.311Z"
   }
  ],
  "colab": {
   "name": "PySparkSprint.ipynb",
   "provenance": []
  },
  "kernelspec": {
   "display_name": "Python 3 (ipykernel)",
   "language": "python",
   "name": "python3"
  },
  "language_info": {
   "codemirror_mode": {
    "name": "ipython",
    "version": 3
   },
   "file_extension": ".py",
   "mimetype": "text/x-python",
   "name": "python",
   "nbconvert_exporter": "python",
   "pygments_lexer": "ipython3",
   "version": "3.10.2"
  },
  "toc": {
   "base_numbering": 1,
   "nav_menu": {},
   "number_sections": true,
   "sideBar": true,
   "skip_h1_title": true,
   "title_cell": "Table of Contents",
   "title_sidebar": "Contents",
   "toc_cell": false,
   "toc_position": {
    "height": "calc(100% - 180px)",
    "left": "10px",
    "top": "150px",
    "width": "165px"
   },
   "toc_section_display": true,
   "toc_window_display": false
  }
 },
 "nbformat": 4,
 "nbformat_minor": 5
}
