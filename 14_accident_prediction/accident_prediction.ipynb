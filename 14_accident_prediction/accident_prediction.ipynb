{
 "cells": [
  {
   "cell_type": "markdown",
   "id": "fd2d6771",
   "metadata": {},
   "source": [
    "# Оценка возможности прогнозирования ДТП"
   ]
  },
  {
   "cell_type": "markdown",
   "id": "b4256515",
   "metadata": {},
   "source": [
    "Задача -  понять, возможно ли предсказывать риск ДТП по выбранному маршруту движения, опираясь на исторические данные.Под риском понимается вероятность ДТП с любым повреждением транспортного средства.\n",
    "\n",
    "В ходе исследование необходимо выяснить, помогут ли результаты моделирования и анализ важности факторов ответить на вопросы:\n",
    "\n",
    "- Возможно ли создать адекватную системы оценки водительского риска при выдаче авто?\n",
    "- Какие ещё факторы нужно учесть?\n",
    "- Нужно ли оборудовать автомобиль какими-либо датчиками или камерой?"
   ]
  },
  {
   "cell_type": "markdown",
   "id": "5393131e",
   "metadata": {
    "ExecuteTime": {
     "end_time": "2022-05-05T04:58:05.692448Z",
     "start_time": "2022-05-05T04:58:05.688565Z"
    }
   },
   "source": [
    "## Подключение к базе и загрузка таблиц sql"
   ]
  },
  {
   "cell_type": "code",
   "execution_count": 1,
   "id": "c6bf992c",
   "metadata": {},
   "outputs": [],
   "source": [
    "import pandas as pd\n",
    "import matplotlib.pyplot as plt\n",
    "import seaborn as sns\n",
    "import numpy as np\n",
    "import sklearn.metrics\n",
    "\n",
    "from sqlalchemy import create_engine\n",
    "from sklearn.compose import ColumnTransformer\n",
    "from sklearn.model_selection import train_test_split, RandomizedSearchCV, GridSearchCV\n",
    "from sklearn.preprocessing import StandardScaler, OneHotEncoder\n",
    "from sklearn.metrics import confusion_matrix, f1_score, roc_auc_score, roc_curve, precision_score, accuracy_score, recall_score, precision_recall_curve\n",
    "from sklearn.tree import DecisionTreeClassifier\n",
    "from sklearn.ensemble import RandomForestClassifier\n",
    "from sklearn.dummy import DummyClassifier\n",
    "from sklearn.feature_selection import SelectFromModel\n",
    "from lightgbm import LGBMClassifier\n",
    "from catboost import CatBoostClassifier"
   ]
  },
  {
   "cell_type": "code",
   "execution_count": 2,
   "id": "28b3784e",
   "metadata": {},
   "outputs": [],
   "source": [
    "db_config = {\n",
    "'user': 'praktikum_student', # имя пользователя,\n",
    "'pwd': 'Sdf4$2;d-d30pp', # пароль,\n",
    "'host': 'rc1b-wcoijxj3yxfsf3fs.mdb.yandexcloud.net',\n",
    "'port': 6432, # порт подключения,\n",
    "'db': 'data-science-vehicle-db' # название базы данных,\n",
    "} \n",
    "\n",
    "\n",
    "connection_string = 'postgresql://{}:{}@{}:{}/{}'.format(\n",
    "    db_config['user'],\n",
    "    db_config['pwd'],\n",
    "    db_config['host'],\n",
    "    db_config['port'],\n",
    "    db_config['db'],\n",
    ")"
   ]
  },
  {
   "cell_type": "code",
   "execution_count": 3,
   "id": "9c9aabaa",
   "metadata": {},
   "outputs": [],
   "source": [
    "engine = create_engine(connection_string) "
   ]
  },
  {
   "cell_type": "markdown",
   "id": "adcaca5e",
   "metadata": {},
   "source": [
    "## Первичное исследование таблиц"
   ]
  },
  {
   "cell_type": "markdown",
   "id": "17b5e8a1",
   "metadata": {},
   "source": [
    "### Таблица case_ids"
   ]
  },
  {
   "cell_type": "code",
   "execution_count": 4,
   "id": "721866a7",
   "metadata": {},
   "outputs": [
    {
     "data": {
      "text/html": [
       "<div>\n",
       "<style scoped>\n",
       "    .dataframe tbody tr th:only-of-type {\n",
       "        vertical-align: middle;\n",
       "    }\n",
       "\n",
       "    .dataframe tbody tr th {\n",
       "        vertical-align: top;\n",
       "    }\n",
       "\n",
       "    .dataframe thead th {\n",
       "        text-align: right;\n",
       "    }\n",
       "</style>\n",
       "<table border=\"1\" class=\"dataframe\">\n",
       "  <thead>\n",
       "    <tr style=\"text-align: right;\">\n",
       "      <th></th>\n",
       "      <th>case_id</th>\n",
       "      <th>db_year</th>\n",
       "    </tr>\n",
       "  </thead>\n",
       "  <tbody>\n",
       "    <tr>\n",
       "      <th>0</th>\n",
       "      <td>0081715</td>\n",
       "      <td>2021</td>\n",
       "    </tr>\n",
       "    <tr>\n",
       "      <th>1</th>\n",
       "      <td>0726202</td>\n",
       "      <td>2021</td>\n",
       "    </tr>\n",
       "    <tr>\n",
       "      <th>2</th>\n",
       "      <td>3858022</td>\n",
       "      <td>2021</td>\n",
       "    </tr>\n",
       "    <tr>\n",
       "      <th>3</th>\n",
       "      <td>3899441</td>\n",
       "      <td>2021</td>\n",
       "    </tr>\n",
       "    <tr>\n",
       "      <th>4</th>\n",
       "      <td>3899442</td>\n",
       "      <td>2021</td>\n",
       "    </tr>\n",
       "  </tbody>\n",
       "</table>\n",
       "</div>"
      ],
      "text/plain": [
       "   case_id db_year\n",
       "0  0081715    2021\n",
       "1  0726202    2021\n",
       "2  3858022    2021\n",
       "3  3899441    2021\n",
       "4  3899442    2021"
      ]
     },
     "execution_count": 4,
     "metadata": {},
     "output_type": "execute_result"
    }
   ],
   "source": [
    "query = '''\n",
    "\n",
    "SELECT *\n",
    "FROM case_ids\n",
    "LIMIT 5\n",
    "\n",
    "'''\n",
    "\n",
    "case_id_df = pd.read_sql_query(query, con=engine) \n",
    "case_id_df#.head()"
   ]
  },
  {
   "cell_type": "markdown",
   "id": "e58d35a8",
   "metadata": {},
   "source": [
    "Таблица содержит уникальный case_id, второй столбец отличается от представленного в документации и скорее всего обозначает год создания базы данных."
   ]
  },
  {
   "cell_type": "markdown",
   "id": "4c5fc5e5",
   "metadata": {},
   "source": [
    "### Таблица vehicles"
   ]
  },
  {
   "cell_type": "code",
   "execution_count": 5,
   "id": "8113366c",
   "metadata": {},
   "outputs": [
    {
     "data": {
      "text/html": [
       "<div>\n",
       "<style scoped>\n",
       "    .dataframe tbody tr th:only-of-type {\n",
       "        vertical-align: middle;\n",
       "    }\n",
       "\n",
       "    .dataframe tbody tr th {\n",
       "        vertical-align: top;\n",
       "    }\n",
       "\n",
       "    .dataframe thead th {\n",
       "        text-align: right;\n",
       "    }\n",
       "</style>\n",
       "<table border=\"1\" class=\"dataframe\">\n",
       "  <thead>\n",
       "    <tr style=\"text-align: right;\">\n",
       "      <th></th>\n",
       "      <th>id</th>\n",
       "      <th>case_id</th>\n",
       "      <th>party_number</th>\n",
       "      <th>vehicle_type</th>\n",
       "      <th>vehicle_transmission</th>\n",
       "      <th>vehicle_age</th>\n",
       "    </tr>\n",
       "  </thead>\n",
       "  <tbody>\n",
       "    <tr>\n",
       "      <th>0</th>\n",
       "      <td>1175713</td>\n",
       "      <td>5305032</td>\n",
       "      <td>2</td>\n",
       "      <td>sedan</td>\n",
       "      <td>manual</td>\n",
       "      <td>3</td>\n",
       "    </tr>\n",
       "    <tr>\n",
       "      <th>1</th>\n",
       "      <td>1</td>\n",
       "      <td>3858022</td>\n",
       "      <td>1</td>\n",
       "      <td>sedan</td>\n",
       "      <td>auto</td>\n",
       "      <td>3</td>\n",
       "    </tr>\n",
       "    <tr>\n",
       "      <th>2</th>\n",
       "      <td>1175712</td>\n",
       "      <td>5305030</td>\n",
       "      <td>1</td>\n",
       "      <td>sedan</td>\n",
       "      <td>auto</td>\n",
       "      <td>3</td>\n",
       "    </tr>\n",
       "    <tr>\n",
       "      <th>3</th>\n",
       "      <td>1175717</td>\n",
       "      <td>5305033</td>\n",
       "      <td>3</td>\n",
       "      <td>sedan</td>\n",
       "      <td>auto</td>\n",
       "      <td>5</td>\n",
       "    </tr>\n",
       "    <tr>\n",
       "      <th>4</th>\n",
       "      <td>1175722</td>\n",
       "      <td>5305034</td>\n",
       "      <td>2</td>\n",
       "      <td>sedan</td>\n",
       "      <td>auto</td>\n",
       "      <td>5</td>\n",
       "    </tr>\n",
       "  </tbody>\n",
       "</table>\n",
       "</div>"
      ],
      "text/plain": [
       "        id  case_id  party_number vehicle_type vehicle_transmission  \\\n",
       "0  1175713  5305032             2        sedan               manual   \n",
       "1        1  3858022             1        sedan                 auto   \n",
       "2  1175712  5305030             1        sedan                 auto   \n",
       "3  1175717  5305033             3        sedan                 auto   \n",
       "4  1175722  5305034             2        sedan                 auto   \n",
       "\n",
       "   vehicle_age  \n",
       "0            3  \n",
       "1            3  \n",
       "2            3  \n",
       "3            5  \n",
       "4            5  "
      ]
     },
     "execution_count": 5,
     "metadata": {},
     "output_type": "execute_result"
    }
   ],
   "source": [
    "query = '''\n",
    "\n",
    "SELECT *\n",
    "FROM vehicles\n",
    "LIMIT 5\n",
    "\n",
    "'''\n",
    "\n",
    "vehicles_df = pd.read_sql_query(query, con=engine) \n",
    "vehicles_df"
   ]
  },
  {
   "cell_type": "markdown",
   "id": "a40be3b1",
   "metadata": {},
   "source": [
    "Таблица содержит данные об автомобилях, участвовавших в ДТП."
   ]
  },
  {
   "cell_type": "markdown",
   "id": "b1e74ecc",
   "metadata": {},
   "source": [
    "### Таблица parties"
   ]
  },
  {
   "cell_type": "code",
   "execution_count": 6,
   "id": "191eb8b6",
   "metadata": {},
   "outputs": [
    {
     "data": {
      "text/html": [
       "<div>\n",
       "<style scoped>\n",
       "    .dataframe tbody tr th:only-of-type {\n",
       "        vertical-align: middle;\n",
       "    }\n",
       "\n",
       "    .dataframe tbody tr th {\n",
       "        vertical-align: top;\n",
       "    }\n",
       "\n",
       "    .dataframe thead th {\n",
       "        text-align: right;\n",
       "    }\n",
       "</style>\n",
       "<table border=\"1\" class=\"dataframe\">\n",
       "  <thead>\n",
       "    <tr style=\"text-align: right;\">\n",
       "      <th></th>\n",
       "      <th>id</th>\n",
       "      <th>case_id</th>\n",
       "      <th>party_number</th>\n",
       "      <th>party_type</th>\n",
       "      <th>at_fault</th>\n",
       "      <th>insurance_premium</th>\n",
       "      <th>party_sobriety</th>\n",
       "      <th>party_drug_physical</th>\n",
       "      <th>cellphone_in_use</th>\n",
       "    </tr>\n",
       "  </thead>\n",
       "  <tbody>\n",
       "    <tr>\n",
       "      <th>0</th>\n",
       "      <td>22</td>\n",
       "      <td>3899454</td>\n",
       "      <td>1</td>\n",
       "      <td>road signs</td>\n",
       "      <td>1</td>\n",
       "      <td>29.0</td>\n",
       "      <td>had not been drinking</td>\n",
       "      <td>None</td>\n",
       "      <td>0</td>\n",
       "    </tr>\n",
       "    <tr>\n",
       "      <th>1</th>\n",
       "      <td>23</td>\n",
       "      <td>3899454</td>\n",
       "      <td>2</td>\n",
       "      <td>road signs</td>\n",
       "      <td>0</td>\n",
       "      <td>7.0</td>\n",
       "      <td>had not been drinking</td>\n",
       "      <td>None</td>\n",
       "      <td>0</td>\n",
       "    </tr>\n",
       "    <tr>\n",
       "      <th>2</th>\n",
       "      <td>29</td>\n",
       "      <td>3899462</td>\n",
       "      <td>2</td>\n",
       "      <td>car</td>\n",
       "      <td>0</td>\n",
       "      <td>21.0</td>\n",
       "      <td>had not been drinking</td>\n",
       "      <td>None</td>\n",
       "      <td>0</td>\n",
       "    </tr>\n",
       "    <tr>\n",
       "      <th>3</th>\n",
       "      <td>31</td>\n",
       "      <td>3899465</td>\n",
       "      <td>2</td>\n",
       "      <td>road signs</td>\n",
       "      <td>0</td>\n",
       "      <td>24.0</td>\n",
       "      <td>had not been drinking</td>\n",
       "      <td>None</td>\n",
       "      <td>0</td>\n",
       "    </tr>\n",
       "    <tr>\n",
       "      <th>4</th>\n",
       "      <td>41</td>\n",
       "      <td>3899478</td>\n",
       "      <td>2</td>\n",
       "      <td>road bumper</td>\n",
       "      <td>0</td>\n",
       "      <td>NaN</td>\n",
       "      <td>not applicable</td>\n",
       "      <td>not applicable</td>\n",
       "      <td>0</td>\n",
       "    </tr>\n",
       "  </tbody>\n",
       "</table>\n",
       "</div>"
      ],
      "text/plain": [
       "   id  case_id  party_number   party_type  at_fault  insurance_premium  \\\n",
       "0  22  3899454             1   road signs         1               29.0   \n",
       "1  23  3899454             2   road signs         0                7.0   \n",
       "2  29  3899462             2          car         0               21.0   \n",
       "3  31  3899465             2   road signs         0               24.0   \n",
       "4  41  3899478             2  road bumper         0                NaN   \n",
       "\n",
       "          party_sobriety party_drug_physical  cellphone_in_use  \n",
       "0  had not been drinking                None                 0  \n",
       "1  had not been drinking                None                 0  \n",
       "2  had not been drinking                None                 0  \n",
       "3  had not been drinking                None                 0  \n",
       "4         not applicable      not applicable                 0  "
      ]
     },
     "execution_count": 6,
     "metadata": {},
     "output_type": "execute_result"
    }
   ],
   "source": [
    "query = '''\n",
    "\n",
    "SELECT *\n",
    "FROM parties\n",
    "LIMIT 5\n",
    "\n",
    "'''\n",
    "\n",
    "parties_df = pd.read_sql_query(query, con=engine) \n",
    "parties_df"
   ]
  },
  {
   "cell_type": "markdown",
   "id": "92c45133",
   "metadata": {},
   "source": [
    "Таблица содержит описание участников происшествия, названия столбцов соотвествуют описанию, но столбцы содержат полное название вместо буквенного сокращения как указано в описании к данным."
   ]
  },
  {
   "cell_type": "markdown",
   "id": "b1ec3a27",
   "metadata": {},
   "source": [
    "### Таблица collisions"
   ]
  },
  {
   "cell_type": "code",
   "execution_count": 7,
   "id": "59b2f960",
   "metadata": {},
   "outputs": [
    {
     "data": {
      "text/html": [
       "<div>\n",
       "<style scoped>\n",
       "    .dataframe tbody tr th:only-of-type {\n",
       "        vertical-align: middle;\n",
       "    }\n",
       "\n",
       "    .dataframe tbody tr th {\n",
       "        vertical-align: top;\n",
       "    }\n",
       "\n",
       "    .dataframe thead th {\n",
       "        text-align: right;\n",
       "    }\n",
       "</style>\n",
       "<table border=\"1\" class=\"dataframe\">\n",
       "  <thead>\n",
       "    <tr style=\"text-align: right;\">\n",
       "      <th></th>\n",
       "      <th>case_id</th>\n",
       "      <th>county_city_location</th>\n",
       "      <th>county_location</th>\n",
       "      <th>distance</th>\n",
       "      <th>direction</th>\n",
       "      <th>intersection</th>\n",
       "      <th>weather_1</th>\n",
       "      <th>location_type</th>\n",
       "      <th>collision_damage</th>\n",
       "      <th>party_count</th>\n",
       "      <th>primary_collision_factor</th>\n",
       "      <th>pcf_violation_category</th>\n",
       "      <th>type_of_collision</th>\n",
       "      <th>motor_vehicle_involved_with</th>\n",
       "      <th>road_surface</th>\n",
       "      <th>road_condition_1</th>\n",
       "      <th>lighting</th>\n",
       "      <th>control_device</th>\n",
       "      <th>collision_date</th>\n",
       "      <th>collision_time</th>\n",
       "    </tr>\n",
       "  </thead>\n",
       "  <tbody>\n",
       "    <tr>\n",
       "      <th>0</th>\n",
       "      <td>4083072</td>\n",
       "      <td>1942</td>\n",
       "      <td>los angeles</td>\n",
       "      <td>528.0</td>\n",
       "      <td>north</td>\n",
       "      <td>0</td>\n",
       "      <td>cloudy</td>\n",
       "      <td>highway</td>\n",
       "      <td>small damage</td>\n",
       "      <td>2</td>\n",
       "      <td>vehicle code violation</td>\n",
       "      <td>unsafe lane change</td>\n",
       "      <td>sideswipe</td>\n",
       "      <td>other motor vehicle</td>\n",
       "      <td>wet</td>\n",
       "      <td>normal</td>\n",
       "      <td>daylight</td>\n",
       "      <td>none</td>\n",
       "      <td>2009-01-22</td>\n",
       "      <td>07:25:00</td>\n",
       "    </tr>\n",
       "    <tr>\n",
       "      <th>1</th>\n",
       "      <td>4083075</td>\n",
       "      <td>4313</td>\n",
       "      <td>santa clara</td>\n",
       "      <td>0.0</td>\n",
       "      <td>None</td>\n",
       "      <td>1</td>\n",
       "      <td>clear</td>\n",
       "      <td>None</td>\n",
       "      <td>small damage</td>\n",
       "      <td>1</td>\n",
       "      <td>vehicle code violation</td>\n",
       "      <td>improper passing</td>\n",
       "      <td>hit object</td>\n",
       "      <td>fixed object</td>\n",
       "      <td>dry</td>\n",
       "      <td>normal</td>\n",
       "      <td>dark with street lights</td>\n",
       "      <td>functioning</td>\n",
       "      <td>2009-01-03</td>\n",
       "      <td>02:26:00</td>\n",
       "    </tr>\n",
       "    <tr>\n",
       "      <th>2</th>\n",
       "      <td>4083073</td>\n",
       "      <td>0109</td>\n",
       "      <td>alameda</td>\n",
       "      <td>0.0</td>\n",
       "      <td>None</td>\n",
       "      <td>1</td>\n",
       "      <td>clear</td>\n",
       "      <td>None</td>\n",
       "      <td>scratch</td>\n",
       "      <td>2</td>\n",
       "      <td>vehicle code violation</td>\n",
       "      <td>improper turning</td>\n",
       "      <td>broadside</td>\n",
       "      <td>other motor vehicle</td>\n",
       "      <td>dry</td>\n",
       "      <td>normal</td>\n",
       "      <td>dark with street lights</td>\n",
       "      <td>functioning</td>\n",
       "      <td>2009-01-11</td>\n",
       "      <td>03:32:00</td>\n",
       "    </tr>\n",
       "    <tr>\n",
       "      <th>3</th>\n",
       "      <td>4083077</td>\n",
       "      <td>0109</td>\n",
       "      <td>alameda</td>\n",
       "      <td>0.0</td>\n",
       "      <td>None</td>\n",
       "      <td>1</td>\n",
       "      <td>clear</td>\n",
       "      <td>None</td>\n",
       "      <td>scratch</td>\n",
       "      <td>2</td>\n",
       "      <td>vehicle code violation</td>\n",
       "      <td>automobile right of way</td>\n",
       "      <td>broadside</td>\n",
       "      <td>other motor vehicle</td>\n",
       "      <td>dry</td>\n",
       "      <td>normal</td>\n",
       "      <td>daylight</td>\n",
       "      <td>functioning</td>\n",
       "      <td>2009-01-11</td>\n",
       "      <td>10:35:00</td>\n",
       "    </tr>\n",
       "    <tr>\n",
       "      <th>4</th>\n",
       "      <td>4083087</td>\n",
       "      <td>4313</td>\n",
       "      <td>santa clara</td>\n",
       "      <td>0.0</td>\n",
       "      <td>None</td>\n",
       "      <td>1</td>\n",
       "      <td>clear</td>\n",
       "      <td>None</td>\n",
       "      <td>scratch</td>\n",
       "      <td>2</td>\n",
       "      <td>vehicle code violation</td>\n",
       "      <td>speeding</td>\n",
       "      <td>rear end</td>\n",
       "      <td>other motor vehicle</td>\n",
       "      <td>dry</td>\n",
       "      <td>None</td>\n",
       "      <td>dark with street lights</td>\n",
       "      <td>functioning</td>\n",
       "      <td>2009-01-02</td>\n",
       "      <td>22:43:00</td>\n",
       "    </tr>\n",
       "  </tbody>\n",
       "</table>\n",
       "</div>"
      ],
      "text/plain": [
       "   case_id county_city_location county_location  distance direction  \\\n",
       "0  4083072                 1942     los angeles     528.0     north   \n",
       "1  4083075                 4313     santa clara       0.0      None   \n",
       "2  4083073                 0109         alameda       0.0      None   \n",
       "3  4083077                 0109         alameda       0.0      None   \n",
       "4  4083087                 4313     santa clara       0.0      None   \n",
       "\n",
       "   intersection weather_1 location_type collision_damage  party_count  \\\n",
       "0             0    cloudy       highway     small damage            2   \n",
       "1             1     clear          None     small damage            1   \n",
       "2             1     clear          None          scratch            2   \n",
       "3             1     clear          None          scratch            2   \n",
       "4             1     clear          None          scratch            2   \n",
       "\n",
       "  primary_collision_factor   pcf_violation_category type_of_collision  \\\n",
       "0   vehicle code violation       unsafe lane change         sideswipe   \n",
       "1   vehicle code violation         improper passing        hit object   \n",
       "2   vehicle code violation         improper turning         broadside   \n",
       "3   vehicle code violation  automobile right of way         broadside   \n",
       "4   vehicle code violation                 speeding          rear end   \n",
       "\n",
       "  motor_vehicle_involved_with road_surface road_condition_1  \\\n",
       "0         other motor vehicle          wet           normal   \n",
       "1                fixed object          dry           normal   \n",
       "2         other motor vehicle          dry           normal   \n",
       "3         other motor vehicle          dry           normal   \n",
       "4         other motor vehicle          dry             None   \n",
       "\n",
       "                  lighting control_device collision_date collision_time  \n",
       "0                 daylight           none     2009-01-22       07:25:00  \n",
       "1  dark with street lights    functioning     2009-01-03       02:26:00  \n",
       "2  dark with street lights    functioning     2009-01-11       03:32:00  \n",
       "3                 daylight    functioning     2009-01-11       10:35:00  \n",
       "4  dark with street lights    functioning     2009-01-02       22:43:00  "
      ]
     },
     "execution_count": 7,
     "metadata": {},
     "output_type": "execute_result"
    }
   ],
   "source": [
    "query = '''\n",
    "\n",
    "SELECT *\n",
    "FROM collisions\n",
    "LIMIT 5\n",
    "'''\n",
    "\n",
    "collisions_df = pd.read_sql_query(query, con=engine) \n",
    "collisions_df"
   ]
  },
  {
   "cell_type": "markdown",
   "id": "27380db9",
   "metadata": {},
   "source": [
    "Таблица содержит информацию о происшествия, содержимое столбцов также не использует буквенные сокращения."
   ]
  },
  {
   "cell_type": "markdown",
   "id": "cff822e1",
   "metadata": {},
   "source": [
    "Имеется общий ключ для связи таблиц - поле case_id."
   ]
  },
  {
   "cell_type": "markdown",
   "id": "a44d3ae3",
   "metadata": {},
   "source": [
    "##  Cтатистический анализ факторов ДТП"
   ]
  },
  {
   "cell_type": "markdown",
   "id": "9dbecb2d",
   "metadata": {},
   "source": [
    "### Выявление наиболее аварийных месяцев"
   ]
  },
  {
   "cell_type": "markdown",
   "id": "4ee9c9f8",
   "metadata": {},
   "source": [
    "Выясним, в какие месяцы происходит наибольшее количество аварий. Для этого выгрузим нужные столбцы из таблицы collisions, посчитаем количество case_id и сгруппируем по месяцам."
   ]
  },
  {
   "cell_type": "code",
   "execution_count": 8,
   "id": "31b8b2e2",
   "metadata": {},
   "outputs": [
    {
     "data": {
      "text/html": [
       "<div>\n",
       "<style scoped>\n",
       "    .dataframe tbody tr th:only-of-type {\n",
       "        vertical-align: middle;\n",
       "    }\n",
       "\n",
       "    .dataframe tbody tr th {\n",
       "        vertical-align: top;\n",
       "    }\n",
       "\n",
       "    .dataframe thead th {\n",
       "        text-align: right;\n",
       "    }\n",
       "</style>\n",
       "<table border=\"1\" class=\"dataframe\">\n",
       "  <thead>\n",
       "    <tr style=\"text-align: right;\">\n",
       "      <th></th>\n",
       "      <th>collision_month</th>\n",
       "      <th>case_count</th>\n",
       "    </tr>\n",
       "  </thead>\n",
       "  <tbody>\n",
       "    <tr>\n",
       "      <th>0</th>\n",
       "      <td>1</td>\n",
       "      <td>132044</td>\n",
       "    </tr>\n",
       "    <tr>\n",
       "      <th>1</th>\n",
       "      <td>2</td>\n",
       "      <td>128858</td>\n",
       "    </tr>\n",
       "    <tr>\n",
       "      <th>2</th>\n",
       "      <td>3</td>\n",
       "      <td>139581</td>\n",
       "    </tr>\n",
       "    <tr>\n",
       "      <th>3</th>\n",
       "      <td>4</td>\n",
       "      <td>130180</td>\n",
       "    </tr>\n",
       "    <tr>\n",
       "      <th>4</th>\n",
       "      <td>5</td>\n",
       "      <td>130316</td>\n",
       "    </tr>\n",
       "    <tr>\n",
       "      <th>5</th>\n",
       "      <td>6</td>\n",
       "      <td>102594</td>\n",
       "    </tr>\n",
       "    <tr>\n",
       "      <th>6</th>\n",
       "      <td>7</td>\n",
       "      <td>102227</td>\n",
       "    </tr>\n",
       "    <tr>\n",
       "      <th>7</th>\n",
       "      <td>8</td>\n",
       "      <td>104089</td>\n",
       "    </tr>\n",
       "    <tr>\n",
       "      <th>8</th>\n",
       "      <td>9</td>\n",
       "      <td>105159</td>\n",
       "    </tr>\n",
       "    <tr>\n",
       "      <th>9</th>\n",
       "      <td>10</td>\n",
       "      <td>112237</td>\n",
       "    </tr>\n",
       "    <tr>\n",
       "      <th>10</th>\n",
       "      <td>11</td>\n",
       "      <td>104770</td>\n",
       "    </tr>\n",
       "    <tr>\n",
       "      <th>11</th>\n",
       "      <td>12</td>\n",
       "      <td>107945</td>\n",
       "    </tr>\n",
       "  </tbody>\n",
       "</table>\n",
       "</div>"
      ],
      "text/plain": [
       "    collision_month  case_count\n",
       "0                 1      132044\n",
       "1                 2      128858\n",
       "2                 3      139581\n",
       "3                 4      130180\n",
       "4                 5      130316\n",
       "5                 6      102594\n",
       "6                 7      102227\n",
       "7                 8      104089\n",
       "8                 9      105159\n",
       "9                10      112237\n",
       "10               11      104770\n",
       "11               12      107945"
      ]
     },
     "execution_count": 8,
     "metadata": {},
     "output_type": "execute_result"
    }
   ],
   "source": [
    "query = '''\n",
    "\n",
    "SELECT DISTINCT extract(MONTH FROM cast(collision_date AS date))::int AS collision_month,\n",
    "                count(case_id) AS case_count\n",
    "FROM collisions\n",
    "GROUP BY 1\n",
    "'''\n",
    "coll_count_df = pd.read_sql_query(query, con=engine) \n",
    "coll_count_df"
   ]
  },
  {
   "cell_type": "markdown",
   "id": "7befffe3",
   "metadata": {},
   "source": [
    "Построим график по полученной таблице:"
   ]
  },
  {
   "cell_type": "code",
   "execution_count": 9,
   "id": "ea580176",
   "metadata": {},
   "outputs": [
    {
     "data": {
      "image/png": "[encoded data removed]",
      "text/plain": [
       "<Figure size 720x432 with 1 Axes>"
      ]
     },
     "metadata": {
      "needs_background": "light"
     },
     "output_type": "display_data"
    }
   ],
   "source": [
    "plt.figure(figsize=[10,6])\n",
    "sns.lineplot(data=coll_count_df, x='collision_month', y='case_count', label='Число ДТП', color='red')\n",
    "plt.legend()\n",
    "plt.title('Число ДТП по месяцам')\n",
    "plt.xlabel('Месяц')\n",
    "plt.ylabel('Количество ДТП')\n",
    "plt.grid()\n",
    "plt.show()"
   ]
  },
  {
   "cell_type": "markdown",
   "id": "32f76cfe",
   "metadata": {},
   "source": [
    "Наибольшее количество ДТП наблюдается в период с января по май, дальше идет резкое снижение, пик приходится на март. Такой всплеск можно обьяснить неблагоприятными погодными условиями и состоянием дорог в зимне-весенний период, либо же неполнотой данных за период с июня по декабрь."
   ]
  },
  {
   "cell_type": "code",
   "execution_count": 10,
   "id": "7bad4c60",
   "metadata": {},
   "outputs": [
    {
     "data": {
      "text/html": [
       "<div>\n",
       "<style scoped>\n",
       "    .dataframe tbody tr th:only-of-type {\n",
       "        vertical-align: middle;\n",
       "    }\n",
       "\n",
       "    .dataframe tbody tr th {\n",
       "        vertical-align: top;\n",
       "    }\n",
       "\n",
       "    .dataframe thead th {\n",
       "        text-align: right;\n",
       "    }\n",
       "</style>\n",
       "<table border=\"1\" class=\"dataframe\">\n",
       "  <thead>\n",
       "    <tr style=\"text-align: right;\">\n",
       "      <th></th>\n",
       "      <th>collision_month</th>\n",
       "      <th>case_count</th>\n",
       "    </tr>\n",
       "  </thead>\n",
       "  <tbody>\n",
       "    <tr>\n",
       "      <th>0</th>\n",
       "      <td>2013-06-01</td>\n",
       "      <td>1</td>\n",
       "    </tr>\n",
       "    <tr>\n",
       "      <th>1</th>\n",
       "      <td>2013-07-01</td>\n",
       "      <td>1</td>\n",
       "    </tr>\n",
       "    <tr>\n",
       "      <th>2</th>\n",
       "      <td>2020-03-01</td>\n",
       "      <td>1</td>\n",
       "    </tr>\n",
       "    <tr>\n",
       "      <th>3</th>\n",
       "      <td>2020-07-01</td>\n",
       "      <td>1</td>\n",
       "    </tr>\n",
       "    <tr>\n",
       "      <th>4</th>\n",
       "      <td>2013-04-01</td>\n",
       "      <td>5</td>\n",
       "    </tr>\n",
       "    <tr>\n",
       "      <th>5</th>\n",
       "      <td>2013-03-01</td>\n",
       "      <td>46</td>\n",
       "    </tr>\n",
       "    <tr>\n",
       "      <th>6</th>\n",
       "      <td>2013-02-01</td>\n",
       "      <td>108</td>\n",
       "    </tr>\n",
       "    <tr>\n",
       "      <th>7</th>\n",
       "      <td>2013-01-01</td>\n",
       "      <td>144</td>\n",
       "    </tr>\n",
       "    <tr>\n",
       "      <th>8</th>\n",
       "      <td>2012-12-01</td>\n",
       "      <td>200</td>\n",
       "    </tr>\n",
       "    <tr>\n",
       "      <th>9</th>\n",
       "      <td>2012-11-01</td>\n",
       "      <td>253</td>\n",
       "    </tr>\n",
       "    <tr>\n",
       "      <th>10</th>\n",
       "      <td>2012-10-01</td>\n",
       "      <td>304</td>\n",
       "    </tr>\n",
       "    <tr>\n",
       "      <th>11</th>\n",
       "      <td>2012-07-01</td>\n",
       "      <td>390</td>\n",
       "    </tr>\n",
       "    <tr>\n",
       "      <th>12</th>\n",
       "      <td>2012-09-01</td>\n",
       "      <td>510</td>\n",
       "    </tr>\n",
       "    <tr>\n",
       "      <th>13</th>\n",
       "      <td>2012-08-01</td>\n",
       "      <td>622</td>\n",
       "    </tr>\n",
       "    <tr>\n",
       "      <th>14</th>\n",
       "      <td>2012-06-01</td>\n",
       "      <td>3062</td>\n",
       "    </tr>\n",
       "    <tr>\n",
       "      <th>15</th>\n",
       "      <td>2012-05-01</td>\n",
       "      <td>25168</td>\n",
       "    </tr>\n",
       "    <tr>\n",
       "      <th>16</th>\n",
       "      <td>2012-04-01</td>\n",
       "      <td>29143</td>\n",
       "    </tr>\n",
       "  </tbody>\n",
       "</table>\n",
       "</div>"
      ],
      "text/plain": [
       "   collision_month  case_count\n",
       "0       2013-06-01           1\n",
       "1       2013-07-01           1\n",
       "2       2020-03-01           1\n",
       "3       2020-07-01           1\n",
       "4       2013-04-01           5\n",
       "5       2013-03-01          46\n",
       "6       2013-02-01         108\n",
       "7       2013-01-01         144\n",
       "8       2012-12-01         200\n",
       "9       2012-11-01         253\n",
       "10      2012-10-01         304\n",
       "11      2012-07-01         390\n",
       "12      2012-09-01         510\n",
       "13      2012-08-01         622\n",
       "14      2012-06-01        3062\n",
       "15      2012-05-01       25168\n",
       "16      2012-04-01       29143"
      ]
     },
     "execution_count": 10,
     "metadata": {},
     "output_type": "execute_result"
    }
   ],
   "source": [
    "query = '''\n",
    "\n",
    "SELECT DISTINCT date_trunc('month', collision_date)::date AS collision_month,\n",
    "                count(case_id) AS case_count\n",
    "FROM collisions\n",
    "GROUP BY 1\n",
    "HAVING count(case_id) < 30000\n",
    "ORDER by 2 \n",
    "\n",
    "'''\n",
    "missing_count_df = pd.read_sql_query(query, con=engine) \n",
    "missing_count_df"
   ]
  },
  {
   "cell_type": "markdown",
   "id": "c13e50e3",
   "metadata": {},
   "source": [
    "Данные действительно неполные, преимущественно по летним месяцам для разных годов, тк мы считали количество аварий за все время наблюдения, появился провал на графике."
   ]
  },
  {
   "cell_type": "markdown",
   "id": "9565626a",
   "metadata": {},
   "source": [
    "### Постановка задач для рабочей группы"
   ]
  },
  {
   "cell_type": "markdown",
   "id": "11486af8",
   "metadata": {},
   "source": [
    "1. Найти ДТП с числом участников больше 4, в которых водитель разговаривал по телефону.\n",
    " - Объединить таблицы collisions и parties;\n",
    " - Вывести на столбчатой диаграмме число происшествий с использованием телефона и без него.\n",
    "\n",
    "2. Выяснить, в какие месяцы за все время наблюдений чаще всего наблюдаются неблагоприятное состояние дороги по естественным причинам - мокрая либо заснеженная.\n",
    "   \n",
    "3. Выявить пять округов, в которых наиболее часто виновниками аварии являются пьяные водители в ночное время (с 23:00 до 05:00), а также средний возраст автомобилей по этим округам\n",
    " - Объединить таблицы vehicles, collisions и parties\n",
    " - Вывести название округа, число виновников ДТП по убыванию, и средний возраст автомобиля для каждого региона.\n",
    "\n",
    "4. Вывести число уникальных id происшествий с участием минивэнов по месяцам.\n",
    "\n",
    "5. Выяснить, на сколько процентов менялось количество ДТП с участием велосипедистов ежемесячно с 1 марта по 31 октября 2011\n",
    "года, вывести номер месяца, количество происшествий и процент.\n",
    "\n",
    "6. Выяснить, автомобиль с каким типом кузова чаще всего становится виновником аварии.\n",
    "\n"
   ]
  },
  {
   "cell_type": "markdown",
   "id": "66540cd0",
   "metadata": {},
   "source": [
    "#### Задача 1"
   ]
  },
  {
   "cell_type": "markdown",
   "id": "badf16f4",
   "metadata": {},
   "source": [
    "Выясним, в какие месяцы за все время наблюдений чаще всего наблюдаются неблагоприятное состояние дороги по естественным причинам - мокрая либо заснеженная."
   ]
  },
  {
   "cell_type": "code",
   "execution_count": 11,
   "id": "ce8e787a",
   "metadata": {},
   "outputs": [
    {
     "data": {
      "text/html": [
       "<div>\n",
       "<style scoped>\n",
       "    .dataframe tbody tr th:only-of-type {\n",
       "        vertical-align: middle;\n",
       "    }\n",
       "\n",
       "    .dataframe tbody tr th {\n",
       "        vertical-align: top;\n",
       "    }\n",
       "\n",
       "    .dataframe thead th {\n",
       "        text-align: right;\n",
       "    }\n",
       "</style>\n",
       "<table border=\"1\" class=\"dataframe\">\n",
       "  <thead>\n",
       "    <tr style=\"text-align: right;\">\n",
       "      <th></th>\n",
       "      <th>collision_month</th>\n",
       "      <th>bad_surface_count</th>\n",
       "    </tr>\n",
       "  </thead>\n",
       "  <tbody>\n",
       "    <tr>\n",
       "      <th>0</th>\n",
       "      <td>2</td>\n",
       "      <td>28077</td>\n",
       "    </tr>\n",
       "    <tr>\n",
       "      <th>1</th>\n",
       "      <td>12</td>\n",
       "      <td>24981</td>\n",
       "    </tr>\n",
       "    <tr>\n",
       "      <th>2</th>\n",
       "      <td>1</td>\n",
       "      <td>22398</td>\n",
       "    </tr>\n",
       "    <tr>\n",
       "      <th>3</th>\n",
       "      <td>3</td>\n",
       "      <td>20212</td>\n",
       "    </tr>\n",
       "    <tr>\n",
       "      <th>4</th>\n",
       "      <td>10</td>\n",
       "      <td>13374</td>\n",
       "    </tr>\n",
       "    <tr>\n",
       "      <th>5</th>\n",
       "      <td>11</td>\n",
       "      <td>11558</td>\n",
       "    </tr>\n",
       "    <tr>\n",
       "      <th>6</th>\n",
       "      <td>4</td>\n",
       "      <td>10704</td>\n",
       "    </tr>\n",
       "    <tr>\n",
       "      <th>7</th>\n",
       "      <td>5</td>\n",
       "      <td>6794</td>\n",
       "    </tr>\n",
       "    <tr>\n",
       "      <th>8</th>\n",
       "      <td>6</td>\n",
       "      <td>2790</td>\n",
       "    </tr>\n",
       "    <tr>\n",
       "      <th>9</th>\n",
       "      <td>9</td>\n",
       "      <td>1353</td>\n",
       "    </tr>\n",
       "    <tr>\n",
       "      <th>10</th>\n",
       "      <td>7</td>\n",
       "      <td>680</td>\n",
       "    </tr>\n",
       "    <tr>\n",
       "      <th>11</th>\n",
       "      <td>8</td>\n",
       "      <td>576</td>\n",
       "    </tr>\n",
       "  </tbody>\n",
       "</table>\n",
       "</div>"
      ],
      "text/plain": [
       "    collision_month  bad_surface_count\n",
       "0                 2              28077\n",
       "1                12              24981\n",
       "2                 1              22398\n",
       "3                 3              20212\n",
       "4                10              13374\n",
       "5                11              11558\n",
       "6                 4              10704\n",
       "7                 5               6794\n",
       "8                 6               2790\n",
       "9                 9               1353\n",
       "10                7                680\n",
       "11                8                576"
      ]
     },
     "execution_count": 11,
     "metadata": {},
     "output_type": "execute_result"
    }
   ],
   "source": [
    "query = '''\n",
    "\n",
    "SELECT DISTINCT extract(MONTH FROM cast(collision_date AS date))::int AS collision_month,\n",
    "                count(road_surface) AS bad_surface_count\n",
    "FROM collisions\n",
    "WHERE road_surface = 'wet'\n",
    "  OR road_surface = 'snowy'\n",
    "GROUP BY 1\n",
    "ORDER BY 2 DESC\n",
    "\n",
    "'''\n",
    "bad_surface_df = pd.read_sql_query(query, con=engine) \n",
    "bad_surface_df"
   ]
  },
  {
   "cell_type": "code",
   "execution_count": 12,
   "id": "a91e0845",
   "metadata": {},
   "outputs": [
    {
     "data": {
      "image/png": "[encoded data removed]",
      "text/plain": [
       "<Figure size 720x432 with 1 Axes>"
      ]
     },
     "metadata": {
      "needs_background": "light"
     },
     "output_type": "display_data"
    }
   ],
   "source": [
    "plt.figure(figsize=[10,6])\n",
    "sns.lineplot(data=bad_surface_df, x='collision_month', y='bad_surface_count', label='Число ДТП', color='purple')\n",
    "\n",
    "plt.legend()\n",
    "plt.title('Случаи ДТП на мокрой/снежной дороге по месяцам за 2011 год')\n",
    "plt.xlabel('Месяц')\n",
    "plt.ylabel('Количество ДТП')\n",
    "plt.grid()\n",
    "plt.show()"
   ]
  },
  {
   "cell_type": "markdown",
   "id": "dd633be9",
   "metadata": {},
   "source": [
    "Чаще всего неблагоприятные погодные условия наблюдаются с октября по март, пиковый месяц - февраль."
   ]
  },
  {
   "cell_type": "markdown",
   "id": "e1b38fd0",
   "metadata": {},
   "source": [
    "#### Задача 2"
   ]
  },
  {
   "cell_type": "markdown",
   "id": "184f6184",
   "metadata": {},
   "source": [
    "Выявить пять округов, в которых наиболее часто виновниками аварии являются пьяные водители в ночное время (с 23:00 до 05:00), а также средний возраст автомобилей по этим округам."
   ]
  },
  {
   "cell_type": "code",
   "execution_count": 13,
   "id": "e00c0760",
   "metadata": {},
   "outputs": [
    {
     "data": {
      "text/html": [
       "<div>\n",
       "<style scoped>\n",
       "    .dataframe tbody tr th:only-of-type {\n",
       "        vertical-align: middle;\n",
       "    }\n",
       "\n",
       "    .dataframe tbody tr th {\n",
       "        vertical-align: top;\n",
       "    }\n",
       "\n",
       "    .dataframe thead th {\n",
       "        text-align: right;\n",
       "    }\n",
       "</style>\n",
       "<table border=\"1\" class=\"dataframe\">\n",
       "  <thead>\n",
       "    <tr style=\"text-align: right;\">\n",
       "      <th></th>\n",
       "      <th>county_location</th>\n",
       "      <th>case_count</th>\n",
       "      <th>avg_vehicle_age</th>\n",
       "    </tr>\n",
       "  </thead>\n",
       "  <tbody>\n",
       "    <tr>\n",
       "      <th>0</th>\n",
       "      <td>los angeles</td>\n",
       "      <td>10909</td>\n",
       "      <td>4.3</td>\n",
       "    </tr>\n",
       "    <tr>\n",
       "      <th>1</th>\n",
       "      <td>san diego</td>\n",
       "      <td>3116</td>\n",
       "      <td>4.2</td>\n",
       "    </tr>\n",
       "    <tr>\n",
       "      <th>2</th>\n",
       "      <td>orange</td>\n",
       "      <td>3084</td>\n",
       "      <td>4.1</td>\n",
       "    </tr>\n",
       "    <tr>\n",
       "      <th>3</th>\n",
       "      <td>san bernardino</td>\n",
       "      <td>1991</td>\n",
       "      <td>4.2</td>\n",
       "    </tr>\n",
       "    <tr>\n",
       "      <th>4</th>\n",
       "      <td>riverside</td>\n",
       "      <td>1973</td>\n",
       "      <td>4.2</td>\n",
       "    </tr>\n",
       "  </tbody>\n",
       "</table>\n",
       "</div>"
      ],
      "text/plain": [
       "  county_location  case_count  avg_vehicle_age\n",
       "0     los angeles       10909              4.3\n",
       "1       san diego        3116              4.2\n",
       "2          orange        3084              4.1\n",
       "3  san bernardino        1991              4.2\n",
       "4       riverside        1973              4.2"
      ]
     },
     "execution_count": 13,
     "metadata": {},
     "output_type": "execute_result"
    }
   ],
   "source": [
    "query = '''\n",
    "\n",
    "SELECT county_location,\n",
    "       count(c.case_id) AS case_count,\n",
    "       round(avg(v.vehicle_age), 1) AS avg_vehicle_age\n",
    "FROM parties p\n",
    "JOIN collisions c ON c.case_id = p.case_id\n",
    "JOIN vehicles v ON c.case_id = v.case_id\n",
    "WHERE at_fault = 1\n",
    "  AND party_sobriety like '%%had been%%'\n",
    "  AND (extract(HOUR FROM cast(collision_time AS TIME))::int <= 5\n",
    "       OR extract(HOUR FROM cast(collision_time AS TIME))::int >= 23)\n",
    "GROUP BY county_location\n",
    "ORDER BY 2 DESC\n",
    "LIMIT 5\n",
    "\n",
    "'''\n",
    "drunk_df = pd.read_sql_query(query, con=engine) \n",
    "drunk_df"
   ]
  },
  {
   "cell_type": "markdown",
   "id": "03be2340",
   "metadata": {},
   "source": [
    "Лос-Анджелес занимает первое место, но учитывая население 10 млн, и к примеру население округа Сан-Диего в 3 млн, пропорции практически одинаковы."
   ]
  },
  {
   "cell_type": "markdown",
   "id": "3f1ea70d",
   "metadata": {},
   "source": [
    "## Создание модели для оценки водительского риска"
   ]
  },
  {
   "cell_type": "markdown",
   "id": "11e1126c",
   "metadata": {},
   "source": [
    "### Выявление признаков и выгрузка данных"
   ]
  },
  {
   "cell_type": "markdown",
   "id": "cc6a9cb1",
   "metadata": {},
   "source": [
    "Прежде чем создать модель, выявим факторы, влияющие на целевой признак at_fault.\n",
    "\n",
    "Таблица vehicles:\n",
    "\n",
    " - `vehicle_transmission` -  авто с МКПП может быть сложнее для  неопытных водителей, использующих каршеринг.\n",
    " \n",
    "Таблица parties:\n",
    " - `at_fault` - целевой признак;\n",
    " - `cellphone_in_use` - использование телефона снижает внимательность;\n",
    " - `party_sobriety` - трезвость водителя;\n",
    " \n",
    "Таблица collisions:\n",
    "\n",
    " - `weather_1` - погода;\n",
    " - `intersection` - чаще всего, по статистике, ДТП происходят именно на перекрестках;\n",
    " - `pcf_violation_category`- основная причина аварии, выявление причины позволит предотвращать аварии в будущем;\n",
    " - `motor_vehicle_involved_with` - дополнительные участники ДТП, выявление наиболее частых участников позволит уменьшить число дтп;\n",
    " - `road_surface` - состояние поверхности дороги - гололед, мокрая/скользкая/сухая дорога;\n",
    " - `control_device` - наличие контролирующего утройства - неизвестный фактор, который модет оказать влияние\n",
    " - `lighting` - освещенность дороги.\n",
    " \n",
    " \n",
    "С помощью запроса выгрузим необходимые данные в таблицу. По условию задачи, нужны только данные за 2012 год, где участник аварии - машина и с повреждениями больше чем царапина. \n",
    " "
   ]
  },
  {
   "cell_type": "code",
   "execution_count": 14,
   "id": "fb3d6459",
   "metadata": {},
   "outputs": [
    {
     "data": {
      "text/html": [
       "<div>\n",
       "<style scoped>\n",
       "    .dataframe tbody tr th:only-of-type {\n",
       "        vertical-align: middle;\n",
       "    }\n",
       "\n",
       "    .dataframe tbody tr th {\n",
       "        vertical-align: top;\n",
       "    }\n",
       "\n",
       "    .dataframe thead th {\n",
       "        text-align: right;\n",
       "    }\n",
       "</style>\n",
       "<table border=\"1\" class=\"dataframe\">\n",
       "  <thead>\n",
       "    <tr style=\"text-align: right;\">\n",
       "      <th></th>\n",
       "      <th>case_id</th>\n",
       "      <th>weather_1</th>\n",
       "      <th>pcf_violation_category</th>\n",
       "      <th>motor_vehicle_involved_with</th>\n",
       "      <th>road_surface</th>\n",
       "      <th>control_device</th>\n",
       "      <th>lighting</th>\n",
       "      <th>vehicle_transmission</th>\n",
       "      <th>cellphone_in_use</th>\n",
       "      <th>party_sobriety</th>\n",
       "      <th>at_fault</th>\n",
       "    </tr>\n",
       "  </thead>\n",
       "  <tbody>\n",
       "    <tr>\n",
       "      <th>0</th>\n",
       "      <td>5125160</td>\n",
       "      <td>cloudy</td>\n",
       "      <td>automobile right of way</td>\n",
       "      <td>other motor vehicle</td>\n",
       "      <td>dry</td>\n",
       "      <td>none</td>\n",
       "      <td>daylight</td>\n",
       "      <td>auto</td>\n",
       "      <td>0.0</td>\n",
       "      <td>had not been drinking</td>\n",
       "      <td>0</td>\n",
       "    </tr>\n",
       "    <tr>\n",
       "      <th>1</th>\n",
       "      <td>5125160</td>\n",
       "      <td>cloudy</td>\n",
       "      <td>automobile right of way</td>\n",
       "      <td>other motor vehicle</td>\n",
       "      <td>dry</td>\n",
       "      <td>none</td>\n",
       "      <td>daylight</td>\n",
       "      <td>auto</td>\n",
       "      <td>0.0</td>\n",
       "      <td>had not been drinking</td>\n",
       "      <td>1</td>\n",
       "    </tr>\n",
       "    <tr>\n",
       "      <th>2</th>\n",
       "      <td>5173738</td>\n",
       "      <td>clear</td>\n",
       "      <td>speeding</td>\n",
       "      <td>other motor vehicle</td>\n",
       "      <td>dry</td>\n",
       "      <td>none</td>\n",
       "      <td>daylight</td>\n",
       "      <td>auto</td>\n",
       "      <td>0.0</td>\n",
       "      <td>had not been drinking</td>\n",
       "      <td>0</td>\n",
       "    </tr>\n",
       "    <tr>\n",
       "      <th>3</th>\n",
       "      <td>5173738</td>\n",
       "      <td>clear</td>\n",
       "      <td>speeding</td>\n",
       "      <td>other motor vehicle</td>\n",
       "      <td>dry</td>\n",
       "      <td>none</td>\n",
       "      <td>daylight</td>\n",
       "      <td>auto</td>\n",
       "      <td>0.0</td>\n",
       "      <td>had not been drinking</td>\n",
       "      <td>1</td>\n",
       "    </tr>\n",
       "    <tr>\n",
       "      <th>4</th>\n",
       "      <td>5269486</td>\n",
       "      <td>clear</td>\n",
       "      <td>unknown</td>\n",
       "      <td>other motor vehicle</td>\n",
       "      <td>dry</td>\n",
       "      <td>functioning</td>\n",
       "      <td>daylight</td>\n",
       "      <td>auto</td>\n",
       "      <td>0.0</td>\n",
       "      <td>had not been drinking</td>\n",
       "      <td>0</td>\n",
       "    </tr>\n",
       "  </tbody>\n",
       "</table>\n",
       "</div>"
      ],
      "text/plain": [
       "   case_id weather_1   pcf_violation_category motor_vehicle_involved_with  \\\n",
       "0  5125160    cloudy  automobile right of way         other motor vehicle   \n",
       "1  5125160    cloudy  automobile right of way         other motor vehicle   \n",
       "2  5173738     clear                 speeding         other motor vehicle   \n",
       "3  5173738     clear                 speeding         other motor vehicle   \n",
       "4  5269486     clear                  unknown         other motor vehicle   \n",
       "\n",
       "  road_surface control_device  lighting vehicle_transmission  \\\n",
       "0          dry           none  daylight                 auto   \n",
       "1          dry           none  daylight                 auto   \n",
       "2          dry           none  daylight                 auto   \n",
       "3          dry           none  daylight                 auto   \n",
       "4          dry    functioning  daylight                 auto   \n",
       "\n",
       "   cellphone_in_use         party_sobriety  at_fault  \n",
       "0               0.0  had not been drinking         0  \n",
       "1               0.0  had not been drinking         1  \n",
       "2               0.0  had not been drinking         0  \n",
       "3               0.0  had not been drinking         1  \n",
       "4               0.0  had not been drinking         0  "
      ]
     },
     "execution_count": 14,
     "metadata": {},
     "output_type": "execute_result"
    }
   ],
   "source": [
    "query = '''\n",
    "\n",
    "SELECT DISTINCT c.case_id,\n",
    "       weather_1,\n",
    "       pcf_violation_category,\n",
    "       motor_vehicle_involved_with,\n",
    "       road_surface,\n",
    "       control_device,\n",
    "       lighting,\n",
    "       vehicle_transmission,\n",
    "       cellphone_in_use, \n",
    "       party_sobriety,\n",
    "       at_fault\n",
    "FROM collisions c\n",
    "inner JOIN parties p ON c.case_id = p.case_id inner JOIN vehicles v ON c.case_id = v.case_id \n",
    "WHERE (extract(YEAR FROM cast(collision_date AS date))::int = 2012\n",
    "  AND party_type = 'car'\n",
    "  AND collision_damage != 'scratch')\n",
    "\n",
    "\n",
    "'''\n",
    "df = pd.read_sql_query(query, con=engine) \n",
    "\n",
    "df.head()"
   ]
  },
  {
   "cell_type": "code",
   "execution_count": 15,
   "id": "44f4f28b",
   "metadata": {},
   "outputs": [
    {
     "name": "stdout",
     "output_type": "stream",
     "text": [
      "<class 'pandas.core.frame.DataFrame'>\n",
      "RangeIndex: 91894 entries, 0 to 91893\n",
      "Data columns (total 11 columns):\n",
      " #   Column                       Non-Null Count  Dtype  \n",
      "---  ------                       --------------  -----  \n",
      " 0   case_id                      91894 non-null  object \n",
      " 1   weather_1                    91628 non-null  object \n",
      " 2   pcf_violation_category       90577 non-null  object \n",
      " 3   motor_vehicle_involved_with  91642 non-null  object \n",
      " 4   road_surface                 91347 non-null  object \n",
      " 5   control_device               91534 non-null  object \n",
      " 6   lighting                     91642 non-null  object \n",
      " 7   vehicle_transmission         90327 non-null  object \n",
      " 8   cellphone_in_use             82795 non-null  float64\n",
      " 9   party_sobriety               90461 non-null  object \n",
      " 10  at_fault                     91894 non-null  int64  \n",
      "dtypes: float64(1), int64(1), object(9)\n",
      "memory usage: 7.7+ MB\n"
     ]
    }
   ],
   "source": [
    "df.info()"
   ]
  },
  {
   "cell_type": "code",
   "execution_count": 16,
   "id": "4cd5b63d",
   "metadata": {},
   "outputs": [
    {
     "data": {
      "text/plain": [
       "case_id                        0.000000\n",
       "weather_1                      0.002895\n",
       "pcf_violation_category         0.014332\n",
       "motor_vehicle_involved_with    0.002742\n",
       "road_surface                   0.005953\n",
       "control_device                 0.003918\n",
       "lighting                       0.002742\n",
       "vehicle_transmission           0.017052\n",
       "cellphone_in_use               0.099016\n",
       "party_sobriety                 0.015594\n",
       "at_fault                       0.000000\n",
       "dtype: float64"
      ]
     },
     "execution_count": 16,
     "metadata": {},
     "output_type": "execute_result"
    }
   ],
   "source": [
    "df.isna().sum()/len(df)"
   ]
  },
  {
   "cell_type": "markdown",
   "id": "6f10ebc4",
   "metadata": {},
   "source": [
    "Доля пропущенных значений < 10%, можем их удалить."
   ]
  },
  {
   "cell_type": "code",
   "execution_count": 17,
   "id": "20d4f774",
   "metadata": {},
   "outputs": [],
   "source": [
    "df = df.dropna() "
   ]
  },
  {
   "cell_type": "markdown",
   "id": "7b431a4d",
   "metadata": {},
   "source": [
    "Проверим на наличие полных дубликатов:"
   ]
  },
  {
   "cell_type": "code",
   "execution_count": 18,
   "id": "543ddf0f",
   "metadata": {},
   "outputs": [
    {
     "data": {
      "text/plain": [
       "0"
      ]
     },
     "execution_count": 18,
     "metadata": {},
     "output_type": "execute_result"
    }
   ],
   "source": [
    "df.duplicated().sum()"
   ]
  },
  {
   "cell_type": "markdown",
   "id": "03bd9b5f",
   "metadata": {},
   "source": [
    "Дубликаты отсутствуют, теперь можем удалить столбец с id:"
   ]
  },
  {
   "cell_type": "code",
   "execution_count": 19,
   "id": "a1fed7a3",
   "metadata": {},
   "outputs": [],
   "source": [
    "df = df.drop('case_id', axis=1) "
   ]
  },
  {
   "cell_type": "markdown",
   "id": "3dfc8bb6",
   "metadata": {},
   "source": [
    "Посмотрим на значения в датафрейме:"
   ]
  },
  {
   "cell_type": "code",
   "execution_count": 20,
   "id": "2ebb69c3",
   "metadata": {},
   "outputs": [
    {
     "data": {
      "text/plain": [
       "array(['daylight', 'dark with street lights', 'dusk or dawn',\n",
       "       'dark with no street lights',\n",
       "       'dark with street lights not functioning'], dtype=object)"
      ]
     },
     "execution_count": 20,
     "metadata": {},
     "output_type": "execute_result"
    }
   ],
   "source": [
    "df['lighting'].unique() "
   ]
  },
  {
   "cell_type": "markdown",
   "id": "68b58cd7",
   "metadata": {},
   "source": [
    "Избавимся от пробелов в названиях и от слишком большого кол-ва категорий - присвоим значение dark всем категориям, обозначающим неосвещенную улицу."
   ]
  },
  {
   "cell_type": "code",
   "execution_count": 21,
   "id": "e757636c",
   "metadata": {},
   "outputs": [],
   "source": [
    "def fix_value(cell):\n",
    "     cell = cell.replace(' ', '_')  # функция, заменяющая все пробелы на подчеркивания\n",
    "     return cell "
   ]
  },
  {
   "cell_type": "code",
   "execution_count": 22,
   "id": "f2411e89",
   "metadata": {},
   "outputs": [],
   "source": [
    "df['lighting'] = df['lighting'].apply(lambda x: 'dark' if 'dark' in x else x)\n",
    "df['lighting'] = df['lighting'].apply(fix_value)"
   ]
  },
  {
   "cell_type": "markdown",
   "id": "ab7dd328",
   "metadata": {},
   "source": [
    "То же самое сделаем с признаком party_sobriety, оставив только факт, был участник в состоянии опьянения или нет:"
   ]
  },
  {
   "cell_type": "code",
   "execution_count": 23,
   "id": "b9d0bd74",
   "metadata": {},
   "outputs": [
    {
     "data": {
      "text/plain": [
       "array(['had not been drinking', 'had been drinking, under influence',\n",
       "       'had been drinking, impairment unknown',\n",
       "       'had been drinking, not under influence', 'impairment unknown',\n",
       "       'not applicable'], dtype=object)"
      ]
     },
     "execution_count": 23,
     "metadata": {},
     "output_type": "execute_result"
    }
   ],
   "source": [
    "df['party_sobriety'].unique() "
   ]
  },
  {
   "cell_type": "code",
   "execution_count": 24,
   "id": "5a0d07ce",
   "metadata": {
    "scrolled": false
   },
   "outputs": [],
   "source": [
    "df['party_sobriety'] = df['party_sobriety'].apply(lambda x: 'sober' if 'had not' in x else x)\n",
    "df['party_sobriety'] = df['party_sobriety'].apply(lambda x: 'drunk' if 'had been' in x else x)\n",
    "df['party_sobriety'] = df['party_sobriety'].apply(lambda x: 'drunk' if 'impairment' in x else x)\n",
    "\n",
    "df['party_sobriety'] = df['party_sobriety'].apply(fix_value)"
   ]
  },
  {
   "cell_type": "markdown",
   "id": "5453b5c3",
   "metadata": {},
   "source": [
    "Далее рассмотрим категории нарушений. Здесь можно обьединить нарушения правил пешеходами в одну группу, тк задача - рассмотреть причины только автомобильных аварий. Также можно объединить в одну категорию технические неисправности."
   ]
  },
  {
   "cell_type": "code",
   "execution_count": 25,
   "id": "9981e598",
   "metadata": {},
   "outputs": [
    {
     "data": {
      "text/plain": [
       "array(['automobile right of way', 'speeding', 'unknown',\n",
       "       'improper turning', 'other hazardous violation',\n",
       "       'pedestrian violation', 'dui', 'pedestrian right of way',\n",
       "       'traffic signals and signs', 'other than driver (or pedestrian)',\n",
       "       'wrong side of road', 'improper passing', 'other improper driving',\n",
       "       'unsafe lane change', 'hazardous parking', 'following too closely',\n",
       "       'unsafe starting or backing', 'lights', 'impeding traffic',\n",
       "       'other equipment', 'brakes', 'fell asleep'], dtype=object)"
      ]
     },
     "execution_count": 25,
     "metadata": {},
     "output_type": "execute_result"
    }
   ],
   "source": [
    "df['pcf_violation_category'].unique() "
   ]
  },
  {
   "cell_type": "code",
   "execution_count": 26,
   "id": "a2dcab7f",
   "metadata": {},
   "outputs": [],
   "source": [
    "df['pcf_violation_category'] = df['pcf_violation_category'].apply(lambda x: 'equipment_fault' if x == 'brakes' \n",
    "                                                                  or x == 'other equipment'\n",
    "                                                                  or x == 'lights' else x)\n",
    "df['pcf_violation_category'] = df['pcf_violation_category'].apply(lambda x: 'pedestrian_involved' if x == 'automobile right of way' \n",
    "                                                                  or x == 'pedestrian violation' \n",
    "                                                                  or x == 'dui' \n",
    "                                                                  or x == 'other than driver (or pedestrian)'  \n",
    "                                                                  or x == 'improper passing' else x)\n",
    "\n",
    "df['pcf_violation_category'] = df['pcf_violation_category'].apply(fix_value)"
   ]
  },
  {
   "cell_type": "code",
   "execution_count": 27,
   "id": "0ed9bfbd",
   "metadata": {},
   "outputs": [
    {
     "data": {
      "text/plain": [
       "array(['other motor vehicle', 'other object', 'fixed object',\n",
       "       'non-collision', 'bicycle', 'parked motor vehicle', 'train',\n",
       "       'animal', 'motor vehicle on other roadway'], dtype=object)"
      ]
     },
     "execution_count": 27,
     "metadata": {},
     "output_type": "execute_result"
    }
   ],
   "source": [
    "df['motor_vehicle_involved_with'].unique() "
   ]
  },
  {
   "cell_type": "code",
   "execution_count": 28,
   "id": "b263f765",
   "metadata": {},
   "outputs": [],
   "source": [
    "df['motor_vehicle_involved_with'] = df['motor_vehicle_involved_with'].apply(lambda x: 'other_vehicle' if x == 'other motor vehicle' \n",
    "                                                                  or x == 'motor vehicle on other roadway' else x)\n",
    "\n",
    "df['motor_vehicle_involved_with'] = df['motor_vehicle_involved_with'].apply(lambda x: 'fixed object' if x == 'parked motor vehicle' else x)\n",
    "df['motor_vehicle_involved_with'] = df['motor_vehicle_involved_with'].apply(fix_value)"
   ]
  },
  {
   "cell_type": "markdown",
   "id": "4d37edb8",
   "metadata": {},
   "source": [
    "### Aнализ важности факторов ДТП"
   ]
  },
  {
   "cell_type": "markdown",
   "id": "a22e89cb",
   "metadata": {},
   "source": [
    "Проведем простое кодирование категориальных признаков для оценки зависимостей:"
   ]
  },
  {
   "cell_type": "code",
   "execution_count": 29,
   "id": "c7e62d76",
   "metadata": {},
   "outputs": [],
   "source": [
    "categorial = ['weather_1', \n",
    "              'pcf_violation_category',\n",
    "              'motor_vehicle_involved_with', \n",
    "              'road_surface',\n",
    "              'control_device', \n",
    "              'lighting', \n",
    "              'vehicle_transmission', \n",
    "              'party_sobriety' ]"
   ]
  },
  {
   "cell_type": "code",
   "execution_count": 30,
   "id": "56406bfc",
   "metadata": {},
   "outputs": [],
   "source": [
    "df_tmp = pd.get_dummies(df, columns=categorial, drop_first=True)"
   ]
  },
  {
   "cell_type": "code",
   "execution_count": 31,
   "id": "e932ac24",
   "metadata": {},
   "outputs": [],
   "source": [
    "numeric =['cellphone_in_use']\n",
    "\n",
    "scaler = StandardScaler()\n",
    "scaler.fit(df_tmp[numeric])\n",
    "df_tmp[numeric] = scaler.transform(df_tmp[numeric])\n",
    "\n",
    "pd.options.mode.chained_assignment = None"
   ]
  },
  {
   "cell_type": "markdown",
   "id": "b4db5b8e",
   "metadata": {},
   "source": [
    "Посмотрим на корелляцию признаков:"
   ]
  },
  {
   "cell_type": "raw",
   "id": "462ea737",
   "metadata": {},
   "source": [
    "df_tmp.corr()"
   ]
  },
  {
   "cell_type": "code",
   "execution_count": 32,
   "id": "1f7d222a",
   "metadata": {},
   "outputs": [
    {
     "data": {
      "image/png": "[encoded data removed]",
      "text/plain": [
       "<Figure size 1152x1008 with 1 Axes>"
      ]
     },
     "metadata": {
      "needs_background": "light"
     },
     "output_type": "display_data"
    }
   ],
   "source": [
    "fig, ax = plt.subplots(figsize=(16,14))\n",
    "df_tmp.corr().iloc[1].sort_values(ascending=False).drop('at_fault',axis = 0).plot.bar(ax=ax)\n",
    "ax.set_title(\"Важность признаков\")\n",
    "ax.set_ylabel('Важность')\n",
    "plt.grid()\n",
    "\n",
    "fig.tight_layout()"
   ]
  },
  {
   "cell_type": "markdown",
   "id": "1c8fa4a6",
   "metadata": {},
   "source": [
    "Из графика видим, что прямое влияние на виновность в ДТП оказывает:\n",
    " - Участие пьяных водителей\n",
    " - Столкновения с неподвижными объектами\n",
    " - Нарушения ПДД\n",
    " - Мокрая дорога\n",
    " - Автомобили с МКПП\n",
    " - Использование телефона\n",
    " \n",
    "Обратная зависимость:\n",
    " - Трезвый водитель\n",
    " - При дневном свете\n",
    " - По вине пешеходов\n",
    " \n",
    " "
   ]
  },
  {
   "cell_type": "markdown",
   "id": "e51b2890",
   "metadata": {},
   "source": [
    "### Разделение на выборки и кодирование признаков"
   ]
  },
  {
   "cell_type": "code",
   "execution_count": 33,
   "id": "fdeb479b",
   "metadata": {},
   "outputs": [],
   "source": [
    "X_train, X_test, y_train, y_test = train_test_split(df.drop('at_fault', axis=1), \n",
    "                                                    df['at_fault'], \n",
    "                                                    train_size=0.8, \n",
    "                                                    random_state=42, \n",
    "                                                    shuffle=True,\n",
    "                                                   stratify=df['at_fault']) # сохраняем баланс классов"
   ]
  },
  {
   "cell_type": "code",
   "execution_count": 34,
   "id": "6d689662",
   "metadata": {},
   "outputs": [],
   "source": [
    "tmp_train = X_train[categorial]\n",
    "tmp_test= X_test[categorial]\n",
    "\n",
    "\n",
    "encoder_ohe = OneHotEncoder(handle_unknown='ignore')\n",
    "encoder_ohe.fit(X_train[categorial])\n",
    "\n",
    "tmp_train = pd.DataFrame(encoder_ohe.transform(X_train[categorial]).toarray(), \n",
    "                                   columns=encoder_ohe.get_feature_names_out(),\n",
    "                                   index=X_train.index)\n",
    "tmp_test = pd.DataFrame(encoder_ohe.transform(X_test[categorial]).toarray(), \n",
    "                                   columns=encoder_ohe.get_feature_names_out(),\n",
    "                                   index=X_test.index)\n",
    "\n",
    "X_train.drop(categorial, axis=1, inplace=True)\n",
    "X_train = X_train.join(tmp_train)\n",
    "\n",
    "X_test.drop(categorial, axis=1, inplace=True)\n",
    "X_test = X_test.join(tmp_test)"
   ]
  },
  {
   "cell_type": "markdown",
   "id": "8f134787",
   "metadata": {},
   "source": [
    "Посмотрим на баланс классов:"
   ]
  },
  {
   "cell_type": "code",
   "execution_count": 35,
   "id": "dd76d548",
   "metadata": {},
   "outputs": [
    {
     "name": "stdout",
     "output_type": "stream",
     "text": [
      "1    0.532265\n",
      "0    0.467735\n",
      "Name: at_fault, dtype: float64\n"
     ]
    },
    {
     "data": {
      "text/plain": [
       "<AxesSubplot:>"
      ]
     },
     "execution_count": 35,
     "metadata": {},
     "output_type": "execute_result"
    },
    {
     "data": {
      "image/png": "[encoded data removed]",
      "text/plain": [
       "<Figure size 432x288 with 1 Axes>"
      ]
     },
     "metadata": {
      "needs_background": "light"
     },
     "output_type": "display_data"
    }
   ],
   "source": [
    "class_frequency = y_train.value_counts(normalize=True)\n",
    "print(class_frequency)\n",
    "class_frequency.plot(kind='bar')"
   ]
  },
  {
   "cell_type": "code",
   "execution_count": 36,
   "id": "c687a002",
   "metadata": {},
   "outputs": [
    {
     "data": {
      "text/plain": [
       "0.8787625916433213"
      ]
     },
     "execution_count": 36,
     "metadata": {},
     "output_type": "execute_result"
    }
   ],
   "source": [
    "class_frequency[0]/class_frequency[1]"
   ]
  },
  {
   "cell_type": "markdown",
   "id": "99c8c713",
   "metadata": {},
   "source": [
    "Классы можно считать сбалансированными, распределние близко к 50%."
   ]
  },
  {
   "cell_type": "markdown",
   "id": "7cbb668a",
   "metadata": {},
   "source": [
    "При сравнении моделей в качестве определяющей метрики будем использовать точность (*precision*), тк она показывает долю истинно положительных ответов.\n",
    "\n",
    "Для вычисления метрик и построения графика определим функцию metrics_func:"
   ]
  },
  {
   "cell_type": "code",
   "execution_count": 37,
   "id": "9cc182fa",
   "metadata": {},
   "outputs": [],
   "source": [
    "def metrics_func(model):\n",
    "    model.fit(X_train, y_train)\n",
    "    predicted_test = model.predict(X_test)\n",
    "    probabilities_test = model.predict_proba(X_test)\n",
    "    probabilities_one_test = probabilities_test[:, 1]\n",
    "    precision = precision_score(y_test, predicted_test)\n",
    "    recall = recall_score(y_test, predicted_test)\n",
    "    print('Точность:', precision)\n",
    "    print('Полнота:', recall)\n",
    "    print('Доля правильных ответов:', accuracy_score(y_test, predicted_test)) \n",
    "    print('F1-мера:', f1_score(y_test, predicted_test))\n",
    "    print('AUC-ROC:', roc_auc_score(y_test, probabilities_one_test), '\\n')\n",
    "    print('Матрица ошибок:')\n",
    "    print(confusion_matrix(y_test, predicted_test))\n",
    "\n",
    "# строим ROC-кривую\n",
    "    fpr, tpr, thresholds = roc_curve(y_test, probabilities_one_test)\n",
    "\n",
    "    plt.figure()\n",
    "\n",
    "    plt.plot([0, 1], [0, 1], linestyle='--')\n",
    "    plt.plot(fpr, tpr)\n",
    "\n",
    "    plt.xlim([0, 1])\n",
    "    plt.ylim([0, 1])\n",
    "    plt.xlabel('False Positive Rate')\n",
    "    plt.ylabel('True Positive Rate')\n",
    "    plt.title('ROC-кривая')\n",
    "    \n",
    "    plt.show()\n",
    "    return precision, predicted_test, probabilities_one_test, model"
   ]
  },
  {
   "cell_type": "markdown",
   "id": "31f8d248",
   "metadata": {},
   "source": [
    "### Модель решающего дерева"
   ]
  },
  {
   "cell_type": "code",
   "execution_count": 38,
   "id": "ab118570",
   "metadata": {},
   "outputs": [
    {
     "name": "stdout",
     "output_type": "stream",
     "text": [
      "{'min_samples_split': 10, 'min_samples_leaf': 4, 'max_depth': 9}\n"
     ]
    }
   ],
   "source": [
    "params =  {'max_depth': range (1,15, 2),\n",
    "           'min_samples_leaf': range (1,12),\n",
    "           'min_samples_split': range (2,14,2)}\n",
    "           \n",
    "model = DecisionTreeClassifier()\n",
    "\n",
    "grid = RandomizedSearchCV(model,\n",
    "    param_distributions=params, \n",
    "    scoring='precision', \n",
    "    n_jobs=-1, \n",
    "    random_state=12345\n",
    ")\n",
    "\n",
    "grid.fit(X_train, y_train)\n",
    "\n",
    "print(grid.best_params_)"
   ]
  },
  {
   "cell_type": "code",
   "execution_count": 39,
   "id": "2faa2a53",
   "metadata": {},
   "outputs": [
    {
     "name": "stdout",
     "output_type": "stream",
     "text": [
      "Точность: 0.8898379970544918\n",
      "Полнота: 0.3601144355703898\n",
      "Доля правильных ответов: 0.6356598984771573\n",
      "F1-мера: 0.5127291242362526\n",
      "AUC-ROC: 0.6991621972549377 \n",
      "\n",
      "Матрица ошибок:\n",
      "[[6997  374]\n",
      " [5368 3021]]\n"
     ]
    },
    {
     "data": {
      "image/png": "[encoded data removed]",
      "text/plain": [
       "<Figure size 432x288 with 1 Axes>"
      ]
     },
     "metadata": {
      "needs_background": "light"
     },
     "output_type": "display_data"
    }
   ],
   "source": [
    "precision_dt, predictions_dt, probabilities_dt, model_dt  = metrics_func(DecisionTreeClassifier(max_depth=9, \n",
    "                                                                                             min_samples_split=10, \n",
    "                                                                                             min_samples_leaf=4, \n",
    "                                                                                             random_state=12345,\n",
    "                                                                                             class_weight='balanced'))"
   ]
  },
  {
   "cell_type": "markdown",
   "id": "16018228",
   "metadata": {},
   "source": [
    "### Модель случайного леса"
   ]
  },
  {
   "cell_type": "code",
   "execution_count": 40,
   "id": "609ff117",
   "metadata": {},
   "outputs": [
    {
     "name": "stdout",
     "output_type": "stream",
     "text": [
      "{'n_estimators': 115, 'min_samples_split': 8, 'min_samples_leaf': 5, 'max_depth': 13}\n"
     ]
    }
   ],
   "source": [
    "params =  {'n_estimators': range(10, 155, 15),\n",
    "           'max_depth': range (1,15),\n",
    "           'min_samples_leaf': range (1,8),\n",
    "           'min_samples_split': range (2,10,2)}\n",
    "           \n",
    "model = RandomForestClassifier()\n",
    "\n",
    "grid = RandomizedSearchCV(model,\n",
    "    param_distributions=params, \n",
    "    scoring='precision', \n",
    "    n_jobs=-1, \n",
    "    random_state=12345\n",
    ")\n",
    "\n",
    "grid.fit(X_train, y_train)\n",
    "\n",
    "print(grid.best_params_)"
   ]
  },
  {
   "cell_type": "code",
   "execution_count": null,
   "id": "2c76e566",
   "metadata": {},
   "outputs": [],
   "source": [
    "precision_rf, predictions_rf, probabilities_rf, model_rf = metrics_func(RandomForestClassifier(n_estimators=145, \n",
    "                                                                                 max_depth=13, \n",
    "                                                                                 min_samples_split=8, \n",
    "                                                                                 min_samples_leaf=5, \n",
    "                                                                                 random_state=12345,\n",
    "                                                                                 class_weight='balanced'))"
   ]
  },
  {
   "cell_type": "markdown",
   "id": "e7c9997c",
   "metadata": {},
   "source": [
    "### LightGBM"
   ]
  },
  {
   "cell_type": "code",
   "execution_count": 42,
   "id": "46efe82f",
   "metadata": {},
   "outputs": [
    {
     "name": "stdout",
     "output_type": "stream",
     "text": [
      "{'num_leaves': 42, 'n_estimators': 10, 'max_depth': 9}\n"
     ]
    }
   ],
   "source": [
    "params =  {'n_estimators': range(10, 155, 15),\n",
    "           'max_depth': range (1,15),\n",
    "           'num_leaves': range (2,50, 10)}\n",
    "           \n",
    "model = LGBMClassifier()\n",
    "\n",
    "grid = RandomizedSearchCV(model,\n",
    "    param_distributions=params, \n",
    "    scoring='precision', \n",
    "    n_jobs=-1, \n",
    "    random_state=12345\n",
    ")\n",
    "\n",
    "grid.fit(X_train, y_train)\n",
    "\n",
    "print(grid.best_params_)"
   ]
  },
  {
   "cell_type": "code",
   "execution_count": 43,
   "id": "d80d92a5",
   "metadata": {},
   "outputs": [
    {
     "name": "stdout",
     "output_type": "stream",
     "text": [
      "Точность: 0.8910425844346549\n",
      "Полнота: 0.3616640839194183\n",
      "Доля правильных ответов: 0.6366751269035533\n",
      "F1-мера: 0.5144988977446159\n",
      "AUC-ROC: 0.7064271472425007 \n",
      "\n",
      "Матрица ошибок:\n",
      "[[7000  371]\n",
      " [5355 3034]]\n"
     ]
    },
    {
     "data": {
      "image/png": "[encoded data removed]",
      "text/plain": [
       "<Figure size 432x288 with 1 Axes>"
      ]
     },
     "metadata": {
      "needs_background": "light"
     },
     "output_type": "display_data"
    }
   ],
   "source": [
    "precision_lgbm, predictions_lgbm, probabilities_lgbm, model_lgbm = metrics_func(LGBMClassifier(boosting_type='gbdt',\n",
    "                                                                                            random_state=12345, \n",
    "                                                                                            max_depth=9,\n",
    "                                                                                            n_estimators=10,\n",
    "                                                                                            learning_rate = 0.1,\n",
    "                                                                                            num_leaves = 42,\n",
    "                                                                                            class_weight='balanced'))"
   ]
  },
  {
   "cell_type": "markdown",
   "id": "b7127423",
   "metadata": {},
   "source": [
    "### Catboost"
   ]
  },
  {
   "cell_type": "code",
   "execution_count": 44,
   "id": "0146ec9f",
   "metadata": {},
   "outputs": [
    {
     "name": "stdout",
     "output_type": "stream",
     "text": [
      "{'iterations': 1100, 'depth': 5}\n"
     ]
    }
   ],
   "source": [
    "params =  {'iterations': range(100, 2600, 500),\n",
    "           'depth': range (1,15)}\n",
    "           \n",
    "model = CatBoostClassifier(verbose=False)\n",
    "\n",
    "grid = RandomizedSearchCV(model,\n",
    "    param_distributions=params, \n",
    "    scoring='precision', \n",
    "    n_jobs=-1, \n",
    "    random_state=12345\n",
    ")\n",
    "\n",
    "grid.fit(X_train, y_train)\n",
    "\n",
    "print(grid.best_params_)"
   ]
  },
  {
   "cell_type": "code",
   "execution_count": 45,
   "id": "3c1415ef",
   "metadata": {},
   "outputs": [
    {
     "name": "stdout",
     "output_type": "stream",
     "text": [
      "Точность: 0.8564102564102564\n",
      "Полнота: 0.3782334008821075\n",
      "Доля правильных ответов: 0.6352791878172589\n",
      "F1-мера: 0.5247230031420539\n",
      "AUC-ROC: 0.7047501040626959 \n",
      "\n",
      "Матрица ошибок:\n",
      "[[6839  532]\n",
      " [5216 3173]]\n"
     ]
    },
    {
     "data": {
      "image/png": "[encoded data removed]",
      "text/plain": [
       "<Figure size 432x288 with 1 Axes>"
      ]
     },
     "metadata": {
      "needs_background": "light"
     },
     "output_type": "display_data"
    }
   ],
   "source": [
    "precision_cb, predictions_cb, probabilities_cb, model_cb = metrics_func(CatBoostClassifier(depth=5,\n",
    "                                                                                        iterations=1100,\n",
    "                                                                                        random_seed=60,\n",
    "                                                                                        learning_rate=0.003, \n",
    "                                                                                        verbose=False))"
   ]
  },
  {
   "cell_type": "markdown",
   "id": "a0173ca0",
   "metadata": {},
   "source": [
    "Проверим адекватность моделей на пустышке:"
   ]
  },
  {
   "cell_type": "code",
   "execution_count": 46,
   "id": "9f901278",
   "metadata": {},
   "outputs": [
    {
     "name": "stdout",
     "output_type": "stream",
     "text": [
      "Точность: 0.5322969543147208\n",
      "Полнота: 1.0\n",
      "Доля правильных ответов: 0.5322969543147208\n",
      "F1-мера: 0.694769969771005\n",
      "AUC-ROC: 0.5 \n",
      "\n",
      "Матрица ошибок:\n",
      "[[   0 7371]\n",
      " [   0 8389]]\n"
     ]
    },
    {
     "data": {
      "image/png": "[encoded data removed]",
      "text/plain": [
       "<Figure size 432x288 with 1 Axes>"
      ]
     },
     "metadata": {
      "needs_background": "light"
     },
     "output_type": "display_data"
    }
   ],
   "source": [
    "precision_dumm, predictions_dumm, probabilities_dumm, model_dumm  = metrics_func(DummyClassifier(strategy='most_frequent'))"
   ]
  },
  {
   "cell_type": "markdown",
   "id": "8b4f2fbc",
   "metadata": {},
   "source": [
    "Все модели имеют примерно схожие показатели. \n",
    "\n",
    "Оформим результат в виде таблицы:"
   ]
  },
  {
   "cell_type": "code",
   "execution_count": 52,
   "id": "b0992516",
   "metadata": {},
   "outputs": [
    {
     "data": {
      "text/html": [
       "<div>\n",
       "<style scoped>\n",
       "    .dataframe tbody tr th:only-of-type {\n",
       "        vertical-align: middle;\n",
       "    }\n",
       "\n",
       "    .dataframe tbody tr th {\n",
       "        vertical-align: top;\n",
       "    }\n",
       "\n",
       "    .dataframe thead th {\n",
       "        text-align: right;\n",
       "    }\n",
       "</style>\n",
       "<table border=\"1\" class=\"dataframe\">\n",
       "  <thead>\n",
       "    <tr style=\"text-align: right;\">\n",
       "      <th></th>\n",
       "      <th>precision</th>\n",
       "    </tr>\n",
       "  </thead>\n",
       "  <tbody>\n",
       "    <tr>\n",
       "      <th>LightGBM</th>\n",
       "      <td>0.891043</td>\n",
       "    </tr>\n",
       "    <tr>\n",
       "      <th>DecisionTree</th>\n",
       "      <td>0.889838</td>\n",
       "    </tr>\n",
       "    <tr>\n",
       "      <th>RandomForest</th>\n",
       "      <td>0.864491</td>\n",
       "    </tr>\n",
       "    <tr>\n",
       "      <th>CatBoost</th>\n",
       "      <td>0.856410</td>\n",
       "    </tr>\n",
       "    <tr>\n",
       "      <th>Dummy</th>\n",
       "      <td>0.532297</td>\n",
       "    </tr>\n",
       "  </tbody>\n",
       "</table>\n",
       "</div>"
      ],
      "text/plain": [
       "              precision\n",
       "LightGBM       0.891043\n",
       "DecisionTree   0.889838\n",
       "RandomForest   0.864491\n",
       "CatBoost       0.856410\n",
       "Dummy          0.532297"
      ]
     },
     "execution_count": 52,
     "metadata": {},
     "output_type": "execute_result"
    }
   ],
   "source": [
    "result = pd.DataFrame ([\n",
    "    [precision_dt],\n",
    "    [precision_rf],\n",
    "    [precision_lgbm],\n",
    "    [precision_cb],\n",
    "    [precision_dumm]], \n",
    "    columns=['precision'],\n",
    "    index=['DecisionTree','RandomForest', 'LightGBM', 'CatBoost', 'Dummy'])\n",
    "result.sort_values(by='precision', ascending=False)"
   ]
  },
  {
   "cell_type": "markdown",
   "id": "ddc9d626",
   "metadata": {},
   "source": [
    "Наибольшее значение точности имеет модель LightGBM - 0.891043."
   ]
  },
  {
   "cell_type": "markdown",
   "id": "e55ac90f",
   "metadata": {},
   "source": [
    "## Анализ лучшей модели"
   ]
  },
  {
   "cell_type": "markdown",
   "id": "b2fe8462",
   "metadata": {},
   "source": [
    "Матрица ошибок для модели LightGBM:"
   ]
  },
  {
   "cell_type": "code",
   "execution_count": 48,
   "id": "ceab948f",
   "metadata": {},
   "outputs": [
    {
     "data": {
      "text/plain": [
       "array([[7000,  371],\n",
       "       [5355, 3034]], dtype=int64)"
      ]
     },
     "execution_count": 48,
     "metadata": {},
     "output_type": "execute_result"
    }
   ],
   "source": [
    "confusion_matrix(y_test, predictions_lgbm)"
   ]
  },
  {
   "cell_type": "markdown",
   "id": "dcbac433",
   "metadata": {},
   "source": [
    "Здесь, как и на матрицах для остальных моделей, мы видим высокое число ложно-положительных ответов, и при этом малое число ложно-отрицательных -  лучше ошибочно прездсказать аварийную ситуацию, чем ошибочно не предсказать."
   ]
  },
  {
   "cell_type": "code",
   "execution_count": 49,
   "id": "6878831e",
   "metadata": {},
   "outputs": [
    {
     "data": {
      "image/png": "[encoded data removed]",
      "text/plain": [
       "<Figure size 432x288 with 1 Axes>"
      ]
     },
     "metadata": {
      "needs_background": "light"
     },
     "output_type": "display_data"
    }
   ],
   "source": [
    "precision, recall, thresholds = precision_recall_curve(y_test, probabilities_lgbm)\n",
    "\n",
    "fig, ax = plt.subplots()\n",
    "ax.plot(recall, precision)\n",
    "\n",
    "ax.set_title('Precision-Recall Curve')\n",
    "ax.set_ylabel('Precision')\n",
    "ax.set_xlabel('Recall')\n",
    "\n",
    "plt.show()"
   ]
  },
  {
   "cell_type": "markdown",
   "id": "6b42ff1b",
   "metadata": {},
   "source": [
    "Проанализируем важность основных факторов, влияющих на вероятность ДТП:"
   ]
  },
  {
   "cell_type": "code",
   "execution_count": 50,
   "id": "6580468c",
   "metadata": {},
   "outputs": [
    {
     "data": {
      "text/plain": [
       "Index(['weather_1_cloudy', 'pcf_violation_category_equipment_fault',\n",
       "       'pcf_violation_category_following_too_closely',\n",
       "       'pcf_violation_category_improper_turning',\n",
       "       'pcf_violation_category_other_hazardous_violation',\n",
       "       'pcf_violation_category_pedestrian_involved',\n",
       "       'pcf_violation_category_pedestrian_right_of_way',\n",
       "       'pcf_violation_category_speeding',\n",
       "       'pcf_violation_category_traffic_signals_and_signs',\n",
       "       'pcf_violation_category_unknown',\n",
       "       'pcf_violation_category_unsafe_lane_change',\n",
       "       'pcf_violation_category_wrong_side_of_road',\n",
       "       'motor_vehicle_involved_with_animal',\n",
       "       'motor_vehicle_involved_with_bicycle',\n",
       "       'motor_vehicle_involved_with_fixed_object',\n",
       "       'motor_vehicle_involved_with_non-collision',\n",
       "       'motor_vehicle_involved_with_other_object',\n",
       "       'motor_vehicle_involved_with_other_vehicle', 'road_surface_dry',\n",
       "       'control_device_functioning', 'control_device_none', 'lighting_dark',\n",
       "       'lighting_daylight', 'vehicle_transmission_auto',\n",
       "       'party_sobriety_drunk'],\n",
       "      dtype='object')"
      ]
     },
     "execution_count": 50,
     "metadata": {},
     "output_type": "execute_result"
    }
   ],
   "source": [
    "smf = SelectFromModel(model_lgbm, threshold=-np.inf, max_features = 25)\n",
    "smf.fit(X_train, y_train)\n",
    "features_index = smf.get_support()\n",
    "features_1 = X_train.columns[features_index]\n",
    "features_1"
   ]
  },
  {
   "cell_type": "markdown",
   "id": "262b1a01",
   "metadata": {},
   "source": [
    "Можно выявить наиболее важные факторы, влияющие на вероятность ДТП:\n",
    " - Факт алкогольного опьянения\n",
    " - Столкновение с объектом\n",
    " - Освещенность улицы\n",
    " - Наезд на пешехода, когда пешеход имел приемущество\n",
    " - Мокрая дорога\n",
    " \n",
    " \n",
    "Рассмотрим один из факторов, и построим график зависимости фактора и целевой переменной:"
   ]
  },
  {
   "cell_type": "code",
   "execution_count": 53,
   "id": "f2bd7ccf",
   "metadata": {},
   "outputs": [
    {
     "data": {
      "image/png": "[encoded data removed]",
      "text/plain": [
       "<Figure size 360x432 with 1 Axes>"
      ]
     },
     "metadata": {
      "needs_background": "light"
     },
     "output_type": "display_data"
    }
   ],
   "source": [
    "plt.figure(figsize=[5,6])\n",
    "sns.barplot(x=y_train, y=X_train['pcf_violation_category_pedestrian_right_of_way'], color='crimson')\n",
    "plt.title('Зависимость фактора и целевой переменной')\n",
    "plt.xlabel('Факт вины в ДТП')\n",
    "plt.ylabel('Фактор')\n",
    "plt.grid()\n",
    "plt.show()"
   ]
  },
  {
   "cell_type": "markdown",
   "id": "65d2625f",
   "metadata": {},
   "source": [
    "Здесь мы взяли признак `pedestrian_right_of_way`, что можно истолковать как ДТП, где преимущество было у пешехода. Чтобы предотвратить подобные случаи, автомобили предпочтительно оборудовать системой экстренного торможения, напрмер подобной Volvo City Safety. \n",
    "\n",
    "Также для повышения безопасности рекомендуется оборудование автомобилей встроенным навигатором, предупреждающем об ограничениях скорости и автоматической коробкой передач."
   ]
  },
  {
   "cell_type": "markdown",
   "id": "5b1341d6",
   "metadata": {},
   "source": [
    "## Выводы"
   ]
  },
  {
   "cell_type": "markdown",
   "id": "a0f61db7",
   "metadata": {},
   "source": [
    "Создание системы оценки водительского риска вероятно, однако стоит учитывать не только внешние факторы, такие как состояние дорожного покрытия или освещенность улицы, но некоторые данные касающиеся самого водителя, такие как стаж, участие в дтп в качестве виновника ранее и тд. Также стоит в будущем учитывать плотность движения.\n",
    "Для повышения безопасности рекомендуется оборудовать автомобили системой экстренного торможения. "
   ]
  }
 ],
 "metadata": {
  "ExecuteTimeLog": [
   {
    "duration": 1422,
    "start_time": "2023-01-29T07:31:39.572Z"
   },
   {
    "duration": 4,
    "start_time": "2023-01-29T07:32:24.275Z"
   },
   {
    "duration": 9085,
    "start_time": "2023-01-29T07:32:24.620Z"
   },
   {
    "duration": 213,
    "start_time": "2023-01-29T07:33:30.760Z"
   },
   {
    "duration": 25,
    "start_time": "2023-01-29T07:33:43.080Z"
   },
   {
    "duration": 36,
    "start_time": "2023-01-29T07:34:41.164Z"
   },
   {
    "duration": 17,
    "start_time": "2023-01-29T07:34:41.488Z"
   },
   {
    "duration": 120,
    "start_time": "2023-01-29T07:38:16.594Z"
   },
   {
    "duration": 67,
    "start_time": "2023-01-29T07:38:19.384Z"
   },
   {
    "duration": 12,
    "start_time": "2023-01-29T07:38:20.860Z"
   },
   {
    "duration": 51,
    "start_time": "2023-01-29T07:39:27.369Z"
   },
   {
    "duration": 1321,
    "start_time": "2023-01-29T07:39:32.875Z"
   },
   {
    "duration": 4,
    "start_time": "2023-01-29T07:39:34.199Z"
   },
   {
    "duration": 7892,
    "start_time": "2023-01-29T07:39:35.251Z"
   },
   {
    "duration": 16924,
    "start_time": "2023-01-29T07:39:43.145Z"
   },
   {
    "duration": 2599,
    "start_time": "2023-01-29T07:40:00.071Z"
   },
   {
    "duration": 196,
    "start_time": "2023-01-29T07:40:02.673Z"
   },
   {
    "duration": 3956,
    "start_time": "2023-01-29T07:40:37.431Z"
   },
   {
    "duration": 223,
    "start_time": "2023-01-29T07:41:05.823Z"
   },
   {
    "duration": 3981,
    "start_time": "2023-01-29T07:43:01.227Z"
   },
   {
    "duration": 294,
    "start_time": "2023-01-29T07:43:05.210Z"
   },
   {
    "duration": 3,
    "start_time": "2023-01-29T07:43:55.649Z"
   },
   {
    "duration": 30,
    "start_time": "2023-01-29T07:43:55.655Z"
   },
   {
    "duration": 23,
    "start_time": "2023-01-29T07:43:55.686Z"
   },
   {
    "duration": 3871,
    "start_time": "2023-01-29T07:43:55.711Z"
   },
   {
    "duration": 205,
    "start_time": "2023-01-29T07:43:59.584Z"
   },
   {
    "duration": 3605,
    "start_time": "2023-01-29T07:43:59.791Z"
   },
   {
    "duration": 254,
    "start_time": "2023-01-29T07:44:03.404Z"
   },
   {
    "duration": 3209,
    "start_time": "2023-01-29T07:44:03.660Z"
   },
   {
    "duration": 229,
    "start_time": "2023-01-29T07:44:06.872Z"
   },
   {
    "duration": 1294,
    "start_time": "2023-01-29T07:44:40.236Z"
   },
   {
    "duration": 4,
    "start_time": "2023-01-29T07:44:41.532Z"
   },
   {
    "duration": 8067,
    "start_time": "2023-01-29T07:44:41.540Z"
   },
   {
    "duration": 4028,
    "start_time": "2023-01-29T07:44:49.609Z"
   },
   {
    "duration": 224,
    "start_time": "2023-01-29T07:44:53.639Z"
   },
   {
    "duration": 3874,
    "start_time": "2023-01-29T07:44:53.865Z"
   },
   {
    "duration": 253,
    "start_time": "2023-01-29T07:44:57.741Z"
   },
   {
    "duration": 3536,
    "start_time": "2023-01-29T07:44:57.997Z"
   },
   {
    "duration": 234,
    "start_time": "2023-01-29T07:45:01.537Z"
   },
   {
    "duration": 16537,
    "start_time": "2023-01-29T07:45:01.772Z"
   },
   {
    "duration": 2602,
    "start_time": "2023-01-29T07:45:18.311Z"
   },
   {
    "duration": 468,
    "start_time": "2023-01-29T07:47:22.542Z"
   },
   {
    "duration": 304,
    "start_time": "2023-01-29T07:49:42.482Z"
   },
   {
    "duration": 255,
    "start_time": "2023-01-29T07:50:03.010Z"
   },
   {
    "duration": 351,
    "start_time": "2023-01-29T07:52:48.324Z"
   },
   {
    "duration": 1357,
    "start_time": "2023-01-29T07:52:59.599Z"
   },
   {
    "duration": 78,
    "start_time": "2023-01-29T07:53:08.537Z"
   },
   {
    "duration": 348,
    "start_time": "2023-01-29T07:53:14.978Z"
   },
   {
    "duration": 983,
    "start_time": "2023-01-29T07:53:34.969Z"
   },
   {
    "duration": 905,
    "start_time": "2023-01-29T07:58:18.512Z"
   },
   {
    "duration": 849,
    "start_time": "2023-01-29T07:58:43.975Z"
   },
   {
    "duration": 228,
    "start_time": "2023-01-29T07:58:45.184Z"
   },
   {
    "duration": 6360,
    "start_time": "2023-01-29T07:59:56.848Z"
   },
   {
    "duration": 2758,
    "start_time": "2023-01-29T08:00:03.210Z"
   },
   {
    "duration": 70,
    "start_time": "2023-01-29T09:29:50.132Z"
   },
   {
    "duration": 168,
    "start_time": "2023-01-29T09:30:32.898Z"
   },
   {
    "duration": 688,
    "start_time": "2023-01-29T09:30:59.854Z"
   },
   {
    "duration": 43,
    "start_time": "2023-01-29T09:56:11.248Z"
   },
   {
    "duration": 645,
    "start_time": "2023-01-29T09:56:19.355Z"
   },
   {
    "duration": 190,
    "start_time": "2023-01-29T09:56:40.911Z"
   },
   {
    "duration": 650,
    "start_time": "2023-01-29T09:56:45.807Z"
   },
   {
    "duration": 285,
    "start_time": "2023-01-29T09:57:12.516Z"
   },
   {
    "duration": 129,
    "start_time": "2023-01-29T09:58:22.705Z"
   },
   {
    "duration": 3151,
    "start_time": "2023-01-29T09:58:45.429Z"
   },
   {
    "duration": 492,
    "start_time": "2023-01-29T09:59:20.939Z"
   },
   {
    "duration": 142,
    "start_time": "2023-01-29T10:00:01.996Z"
   },
   {
    "duration": 130,
    "start_time": "2023-01-29T10:00:17.286Z"
   },
   {
    "duration": 131,
    "start_time": "2023-01-29T10:00:31.177Z"
   },
   {
    "duration": 159,
    "start_time": "2023-01-29T10:00:54.670Z"
   },
   {
    "duration": 4979,
    "start_time": "2023-01-29T10:01:02.504Z"
   },
   {
    "duration": 238,
    "start_time": "2023-01-29T10:04:08.209Z"
   },
   {
    "duration": 185,
    "start_time": "2023-01-29T10:08:29.543Z"
   },
   {
    "duration": 191,
    "start_time": "2023-01-29T10:09:04.707Z"
   },
   {
    "duration": 353,
    "start_time": "2023-01-29T10:09:11.899Z"
   },
   {
    "duration": 210,
    "start_time": "2023-01-29T10:09:18.035Z"
   },
   {
    "duration": 184,
    "start_time": "2023-01-29T10:09:23.981Z"
   },
   {
    "duration": 195,
    "start_time": "2023-01-29T10:10:15.945Z"
   },
   {
    "duration": 144,
    "start_time": "2023-01-29T10:10:30.221Z"
   },
   {
    "duration": 167,
    "start_time": "2023-01-29T10:10:40.526Z"
   },
   {
    "duration": 154,
    "start_time": "2023-01-29T10:12:30.886Z"
   },
   {
    "duration": 142,
    "start_time": "2023-01-29T10:13:12.715Z"
   },
   {
    "duration": 250,
    "start_time": "2023-01-29T10:13:26.224Z"
   },
   {
    "duration": 162,
    "start_time": "2023-01-29T10:15:13.349Z"
   },
   {
    "duration": 137,
    "start_time": "2023-01-29T10:15:24.173Z"
   },
   {
    "duration": 144,
    "start_time": "2023-01-29T10:15:34.045Z"
   },
   {
    "duration": 150,
    "start_time": "2023-01-29T10:15:40.229Z"
   },
   {
    "duration": 160,
    "start_time": "2023-01-29T10:15:48.640Z"
   },
   {
    "duration": 210,
    "start_time": "2023-01-29T10:17:17.832Z"
   },
   {
    "duration": 148,
    "start_time": "2023-01-29T10:17:38.833Z"
   },
   {
    "duration": 210,
    "start_time": "2023-01-29T10:19:09.927Z"
   },
   {
    "duration": 176,
    "start_time": "2023-01-29T10:19:59.642Z"
   },
   {
    "duration": 178,
    "start_time": "2023-01-29T10:20:07.551Z"
   },
   {
    "duration": 20,
    "start_time": "2023-01-29T10:22:30.939Z"
   },
   {
    "duration": 293,
    "start_time": "2023-01-29T10:22:38.892Z"
   },
   {
    "duration": 44,
    "start_time": "2023-01-29T11:20:47.952Z"
   },
   {
    "duration": 12,
    "start_time": "2023-01-29T11:21:24.443Z"
   },
   {
    "duration": 246,
    "start_time": "2023-01-29T11:44:12.875Z"
   },
   {
    "duration": 2729,
    "start_time": "2023-01-29T11:46:03.997Z"
   },
   {
    "duration": 236,
    "start_time": "2023-01-29T11:46:13.177Z"
   },
   {
    "duration": 131,
    "start_time": "2023-01-29T12:07:23.648Z"
   },
   {
    "duration": 124,
    "start_time": "2023-01-29T12:07:37.092Z"
   },
   {
    "duration": 1485,
    "start_time": "2023-01-29T12:08:42.127Z"
   },
   {
    "duration": 4,
    "start_time": "2023-01-29T12:08:43.614Z"
   },
   {
    "duration": 7846,
    "start_time": "2023-01-29T12:08:43.620Z"
   },
   {
    "duration": 227,
    "start_time": "2023-01-29T12:08:51.468Z"
   },
   {
    "duration": 11,
    "start_time": "2023-01-29T12:08:51.697Z"
   },
   {
    "duration": 10,
    "start_time": "2023-01-29T12:08:51.710Z"
   },
   {
    "duration": 47,
    "start_time": "2023-01-29T12:08:51.721Z"
   },
   {
    "duration": 10,
    "start_time": "2023-01-29T12:08:51.770Z"
   },
   {
    "duration": 16,
    "start_time": "2023-01-29T12:08:51.782Z"
   },
   {
    "duration": 19,
    "start_time": "2023-01-29T12:08:51.800Z"
   },
   {
    "duration": 45,
    "start_time": "2023-01-29T12:08:51.821Z"
   },
   {
    "duration": 11,
    "start_time": "2023-01-29T12:08:51.867Z"
   },
   {
    "duration": 11,
    "start_time": "2023-01-29T12:08:51.879Z"
   },
   {
    "duration": 13,
    "start_time": "2023-01-29T12:08:51.892Z"
   },
   {
    "duration": 57,
    "start_time": "2023-01-29T12:08:51.907Z"
   },
   {
    "duration": 10,
    "start_time": "2023-01-29T12:08:51.966Z"
   },
   {
    "duration": 13,
    "start_time": "2023-01-29T12:08:51.977Z"
   },
   {
    "duration": 10,
    "start_time": "2023-01-29T12:08:51.991Z"
   },
   {
    "duration": 261,
    "start_time": "2023-01-29T12:08:52.002Z"
   },
   {
    "duration": 204,
    "start_time": "2023-01-29T12:08:52.265Z"
   },
   {
    "duration": 242,
    "start_time": "2023-01-29T12:08:52.473Z"
   },
   {
    "duration": 197,
    "start_time": "2023-01-29T12:09:07.991Z"
   },
   {
    "duration": 195,
    "start_time": "2023-01-29T12:09:41.027Z"
   },
   {
    "duration": 1090,
    "start_time": "2023-01-29T12:09:59.426Z"
   },
   {
    "duration": 141,
    "start_time": "2023-01-29T12:16:34.539Z"
   },
   {
    "duration": 1063,
    "start_time": "2023-01-29T12:16:42.017Z"
   },
   {
    "duration": 137,
    "start_time": "2023-01-29T12:22:16.946Z"
   },
   {
    "duration": 167,
    "start_time": "2023-01-29T12:23:13.170Z"
   },
   {
    "duration": 607,
    "start_time": "2023-01-29T12:23:27.583Z"
   },
   {
    "duration": 222,
    "start_time": "2023-01-29T12:23:35.935Z"
   },
   {
    "duration": 154,
    "start_time": "2023-01-29T12:23:59.040Z"
   },
   {
    "duration": 10076,
    "start_time": "2023-01-29T12:24:05.648Z"
   },
   {
    "duration": 10441,
    "start_time": "2023-01-29T12:24:29.331Z"
   },
   {
    "duration": 6825,
    "start_time": "2023-01-29T12:25:09.341Z"
   },
   {
    "duration": 8752,
    "start_time": "2023-01-29T12:26:08.148Z"
   },
   {
    "duration": 127,
    "start_time": "2023-01-29T12:26:44.662Z"
   },
   {
    "duration": 10215,
    "start_time": "2023-01-29T12:27:06.665Z"
   },
   {
    "duration": 1826,
    "start_time": "2023-01-29T12:27:45.036Z"
   },
   {
    "duration": 5756,
    "start_time": "2023-01-29T12:27:52.574Z"
   },
   {
    "duration": 1220,
    "start_time": "2023-01-29T12:30:55.748Z"
   },
   {
    "duration": 1192,
    "start_time": "2023-01-29T12:31:20.126Z"
   },
   {
    "duration": 1350,
    "start_time": "2023-01-29T12:32:02.696Z"
   },
   {
    "duration": 1274,
    "start_time": "2023-01-29T12:32:21.683Z"
   },
   {
    "duration": 76,
    "start_time": "2023-01-29T12:33:21.728Z"
   },
   {
    "duration": 80,
    "start_time": "2023-01-29T12:38:38.143Z"
   },
   {
    "duration": 93,
    "start_time": "2023-01-29T12:40:13.280Z"
   },
   {
    "duration": 68,
    "start_time": "2023-01-29T12:40:16.147Z"
   },
   {
    "duration": 46,
    "start_time": "2023-01-29T17:52:11.896Z"
   },
   {
    "duration": 1384,
    "start_time": "2023-01-29T17:52:23.377Z"
   },
   {
    "duration": 3,
    "start_time": "2023-01-29T17:52:24.764Z"
   },
   {
    "duration": 8198,
    "start_time": "2023-01-29T17:52:24.768Z"
   },
   {
    "duration": 273,
    "start_time": "2023-01-29T17:52:32.968Z"
   },
   {
    "duration": 11,
    "start_time": "2023-01-29T17:52:33.244Z"
   },
   {
    "duration": 19,
    "start_time": "2023-01-29T17:52:33.257Z"
   },
   {
    "duration": 60,
    "start_time": "2023-01-29T17:52:33.278Z"
   },
   {
    "duration": 11,
    "start_time": "2023-01-29T17:52:33.340Z"
   },
   {
    "duration": 15,
    "start_time": "2023-01-29T17:52:33.353Z"
   },
   {
    "duration": 13,
    "start_time": "2023-01-29T17:52:33.370Z"
   },
   {
    "duration": 46,
    "start_time": "2023-01-29T17:52:33.385Z"
   },
   {
    "duration": 11,
    "start_time": "2023-01-29T17:52:33.433Z"
   },
   {
    "duration": 15,
    "start_time": "2023-01-29T17:52:33.446Z"
   },
   {
    "duration": 24,
    "start_time": "2023-01-29T17:52:33.464Z"
   },
   {
    "duration": 59,
    "start_time": "2023-01-29T17:52:33.489Z"
   },
   {
    "duration": 13,
    "start_time": "2023-01-29T17:52:33.551Z"
   },
   {
    "duration": 10,
    "start_time": "2023-01-29T17:52:33.566Z"
   },
   {
    "duration": 10,
    "start_time": "2023-01-29T17:52:33.578Z"
   },
   {
    "duration": 252,
    "start_time": "2023-01-29T17:52:33.590Z"
   },
   {
    "duration": 217,
    "start_time": "2023-01-29T17:52:33.844Z"
   },
   {
    "duration": 253,
    "start_time": "2023-01-29T17:52:34.063Z"
   },
   {
    "duration": 0,
    "start_time": "2023-01-29T17:52:34.318Z"
   },
   {
    "duration": 0,
    "start_time": "2023-01-29T17:52:34.319Z"
   },
   {
    "duration": 0,
    "start_time": "2023-01-29T17:52:34.320Z"
   },
   {
    "duration": 0,
    "start_time": "2023-01-29T17:52:34.322Z"
   },
   {
    "duration": 3779,
    "start_time": "2023-01-29T17:52:49.968Z"
   },
   {
    "duration": 3,
    "start_time": "2023-01-29T17:54:27.396Z"
   },
   {
    "duration": 274,
    "start_time": "2023-01-29T17:55:55.920Z"
   },
   {
    "duration": 396,
    "start_time": "2023-01-29T17:56:23.480Z"
   },
   {
    "duration": 10914,
    "start_time": "2023-01-29T17:56:38.950Z"
   },
   {
    "duration": 1794,
    "start_time": "2023-01-29T17:57:20.393Z"
   },
   {
    "duration": 2117,
    "start_time": "2023-01-29T17:58:31.238Z"
   },
   {
    "duration": 2250,
    "start_time": "2023-01-29T17:58:43.119Z"
   },
   {
    "duration": 563,
    "start_time": "2023-01-29T17:59:49.482Z"
   },
   {
    "duration": 10,
    "start_time": "2023-01-29T18:01:05.905Z"
   },
   {
    "duration": 10,
    "start_time": "2023-01-29T18:01:19.126Z"
   },
   {
    "duration": 373,
    "start_time": "2023-01-29T18:02:21.628Z"
   },
   {
    "duration": 565,
    "start_time": "2023-01-29T18:02:51.751Z"
   },
   {
    "duration": 526,
    "start_time": "2023-01-29T18:04:04.951Z"
   },
   {
    "duration": 510,
    "start_time": "2023-01-29T18:04:10.302Z"
   },
   {
    "duration": 581,
    "start_time": "2023-01-29T18:04:30.928Z"
   },
   {
    "duration": 514,
    "start_time": "2023-01-29T18:04:49.865Z"
   },
   {
    "duration": 519,
    "start_time": "2023-01-29T18:05:35.874Z"
   },
   {
    "duration": 6,
    "start_time": "2023-01-29T18:05:41.995Z"
   },
   {
    "duration": 9,
    "start_time": "2023-01-29T18:05:50.187Z"
   },
   {
    "duration": 160,
    "start_time": "2023-01-29T18:06:17.219Z"
   },
   {
    "duration": 234,
    "start_time": "2023-01-29T18:07:29.524Z"
   },
   {
    "duration": 93,
    "start_time": "2023-01-29T18:08:13.809Z"
   },
   {
    "duration": 11,
    "start_time": "2023-01-29T18:08:38.853Z"
   },
   {
    "duration": 16,
    "start_time": "2023-01-29T18:08:43.560Z"
   },
   {
    "duration": 549,
    "start_time": "2023-01-29T18:08:59.268Z"
   },
   {
    "duration": 547,
    "start_time": "2023-01-29T18:09:16.939Z"
   },
   {
    "duration": 511,
    "start_time": "2023-01-29T18:10:25.585Z"
   },
   {
    "duration": 1448,
    "start_time": "2023-01-29T18:17:40.362Z"
   },
   {
    "duration": 110,
    "start_time": "2023-01-29T18:17:50.078Z"
   },
   {
    "duration": 109,
    "start_time": "2023-01-29T18:17:56.487Z"
   },
   {
    "duration": 113,
    "start_time": "2023-01-29T18:17:58.601Z"
   },
   {
    "duration": 3,
    "start_time": "2023-01-29T18:18:14.200Z"
   },
   {
    "duration": 28,
    "start_time": "2023-01-29T18:18:14.911Z"
   },
   {
    "duration": 32,
    "start_time": "2023-01-29T18:18:17.403Z"
   },
   {
    "duration": 1453,
    "start_time": "2023-01-29T18:20:07.654Z"
   },
   {
    "duration": 113,
    "start_time": "2023-01-29T18:20:14.251Z"
   },
   {
    "duration": 1563,
    "start_time": "2023-01-29T18:21:16.971Z"
   },
   {
    "duration": 175,
    "start_time": "2023-01-29T18:21:19.297Z"
   },
   {
    "duration": 3644,
    "start_time": "2023-01-29T18:21:28.021Z"
   },
   {
    "duration": 117,
    "start_time": "2023-01-29T18:21:31.667Z"
   },
   {
    "duration": 2512,
    "start_time": "2023-01-29T18:23:01.614Z"
   },
   {
    "duration": 145,
    "start_time": "2023-01-29T18:23:06.617Z"
   },
   {
    "duration": 1615,
    "start_time": "2023-01-29T18:23:39.061Z"
   },
   {
    "duration": 139,
    "start_time": "2023-01-29T18:23:46.341Z"
   },
   {
    "duration": 154,
    "start_time": "2023-01-29T18:23:48.361Z"
   },
   {
    "duration": 172,
    "start_time": "2023-01-29T18:23:56.363Z"
   },
   {
    "duration": 244,
    "start_time": "2023-01-29T18:24:38.133Z"
   },
   {
    "duration": 31,
    "start_time": "2023-01-29T18:25:27.353Z"
   },
   {
    "duration": 29,
    "start_time": "2023-01-29T18:25:33.519Z"
   },
   {
    "duration": 1442,
    "start_time": "2023-01-29T18:26:03.902Z"
   },
   {
    "duration": 3,
    "start_time": "2023-01-29T18:26:05.347Z"
   },
   {
    "duration": 7539,
    "start_time": "2023-01-29T18:26:05.352Z"
   },
   {
    "duration": 215,
    "start_time": "2023-01-29T18:26:12.894Z"
   },
   {
    "duration": 11,
    "start_time": "2023-01-29T18:26:13.112Z"
   },
   {
    "duration": 12,
    "start_time": "2023-01-29T18:26:13.125Z"
   },
   {
    "duration": 51,
    "start_time": "2023-01-29T18:26:13.138Z"
   },
   {
    "duration": 10,
    "start_time": "2023-01-29T18:26:13.191Z"
   },
   {
    "duration": 8,
    "start_time": "2023-01-29T18:26:13.203Z"
   },
   {
    "duration": 10,
    "start_time": "2023-01-29T18:26:13.214Z"
   },
   {
    "duration": 49,
    "start_time": "2023-01-29T18:26:13.226Z"
   },
   {
    "duration": 12,
    "start_time": "2023-01-29T18:26:13.277Z"
   },
   {
    "duration": 6,
    "start_time": "2023-01-29T18:26:13.291Z"
   },
   {
    "duration": 15,
    "start_time": "2023-01-29T18:26:13.299Z"
   },
   {
    "duration": 67,
    "start_time": "2023-01-29T18:26:13.316Z"
   },
   {
    "duration": 12,
    "start_time": "2023-01-29T18:26:13.384Z"
   },
   {
    "duration": 15,
    "start_time": "2023-01-29T18:26:13.398Z"
   },
   {
    "duration": 9,
    "start_time": "2023-01-29T18:26:13.415Z"
   },
   {
    "duration": 243,
    "start_time": "2023-01-29T18:26:13.426Z"
   },
   {
    "duration": 203,
    "start_time": "2023-01-29T18:26:13.671Z"
   },
   {
    "duration": 1795,
    "start_time": "2023-01-29T18:26:13.876Z"
   },
   {
    "duration": 156,
    "start_time": "2023-01-29T18:26:15.673Z"
   },
   {
    "duration": 155,
    "start_time": "2023-01-29T18:26:15.837Z"
   },
   {
    "duration": 202,
    "start_time": "2023-01-29T18:26:15.993Z"
   },
   {
    "duration": 3,
    "start_time": "2023-01-29T18:26:16.197Z"
   },
   {
    "duration": 329,
    "start_time": "2023-01-29T18:26:16.201Z"
   },
   {
    "duration": 62,
    "start_time": "2023-01-29T18:26:16.531Z"
   },
   {
    "duration": 808,
    "start_time": "2023-01-29T18:26:16.596Z"
   },
   {
    "duration": 258,
    "start_time": "2023-01-29T18:32:52.509Z"
   },
   {
    "duration": 57,
    "start_time": "2023-01-29T18:32:55.099Z"
   },
   {
    "duration": 547,
    "start_time": "2023-01-29T18:32:59.931Z"
   },
   {
    "duration": 1492,
    "start_time": "2023-01-29T18:34:20.099Z"
   },
   {
    "duration": 1562,
    "start_time": "2023-01-29T18:35:02.444Z"
   },
   {
    "duration": 637,
    "start_time": "2023-01-29T18:35:51.926Z"
   },
   {
    "duration": 1474,
    "start_time": "2023-01-29T18:36:10.587Z"
   },
   {
    "duration": 5,
    "start_time": "2023-01-29T18:36:44.496Z"
   },
   {
    "duration": 15,
    "start_time": "2023-01-29T18:37:54.078Z"
   },
   {
    "duration": 6,
    "start_time": "2023-01-29T18:38:08.022Z"
   },
   {
    "duration": 1441,
    "start_time": "2023-01-29T18:38:23.753Z"
   },
   {
    "duration": 684,
    "start_time": "2023-01-29T18:40:22.760Z"
   },
   {
    "duration": 1542,
    "start_time": "2023-01-29T18:40:28.230Z"
   },
   {
    "duration": 1234,
    "start_time": "2023-01-29T18:43:45.070Z"
   },
   {
    "duration": 4,
    "start_time": "2023-01-29T18:46:00.301Z"
   },
   {
    "duration": 1168,
    "start_time": "2023-01-29T18:48:38.970Z"
   },
   {
    "duration": 1199,
    "start_time": "2023-01-29T18:48:47.131Z"
   },
   {
    "duration": 1376,
    "start_time": "2023-01-29T18:48:57.629Z"
   },
   {
    "duration": 1495,
    "start_time": "2023-01-29T18:49:17.126Z"
   },
   {
    "duration": 4,
    "start_time": "2023-01-29T18:49:18.623Z"
   },
   {
    "duration": 7603,
    "start_time": "2023-01-29T18:49:18.628Z"
   },
   {
    "duration": 237,
    "start_time": "2023-01-29T18:49:26.233Z"
   },
   {
    "duration": 10,
    "start_time": "2023-01-29T18:49:26.473Z"
   },
   {
    "duration": 7,
    "start_time": "2023-01-29T18:49:26.485Z"
   },
   {
    "duration": 44,
    "start_time": "2023-01-29T18:49:26.494Z"
   },
   {
    "duration": 11,
    "start_time": "2023-01-29T18:49:26.540Z"
   },
   {
    "duration": 8,
    "start_time": "2023-01-29T18:49:26.552Z"
   },
   {
    "duration": 10,
    "start_time": "2023-01-29T18:49:26.562Z"
   },
   {
    "duration": 42,
    "start_time": "2023-01-29T18:49:26.573Z"
   },
   {
    "duration": 10,
    "start_time": "2023-01-29T18:49:26.617Z"
   },
   {
    "duration": 8,
    "start_time": "2023-01-29T18:49:26.629Z"
   },
   {
    "duration": 7,
    "start_time": "2023-01-29T18:49:26.640Z"
   },
   {
    "duration": 57,
    "start_time": "2023-01-29T18:49:26.648Z"
   },
   {
    "duration": 10,
    "start_time": "2023-01-29T18:49:26.707Z"
   },
   {
    "duration": 10,
    "start_time": "2023-01-29T18:49:26.719Z"
   },
   {
    "duration": 8,
    "start_time": "2023-01-29T18:49:26.731Z"
   },
   {
    "duration": 255,
    "start_time": "2023-01-29T18:49:26.740Z"
   },
   {
    "duration": 188,
    "start_time": "2023-01-29T18:49:26.997Z"
   },
   {
    "duration": 1782,
    "start_time": "2023-01-29T18:49:27.187Z"
   },
   {
    "duration": 154,
    "start_time": "2023-01-29T18:49:28.971Z"
   },
   {
    "duration": 151,
    "start_time": "2023-01-29T18:49:29.137Z"
   },
   {
    "duration": 201,
    "start_time": "2023-01-29T18:49:29.290Z"
   },
   {
    "duration": 5,
    "start_time": "2023-01-29T18:49:29.493Z"
   },
   {
    "duration": 295,
    "start_time": "2023-01-29T18:49:29.499Z"
   },
   {
    "duration": 61,
    "start_time": "2023-01-29T18:49:29.796Z"
   },
   {
    "duration": 1349,
    "start_time": "2023-01-29T18:49:29.859Z"
   },
   {
    "duration": 0,
    "start_time": "2023-01-29T18:49:31.211Z"
   },
   {
    "duration": 530,
    "start_time": "2023-01-29T18:49:48.372Z"
   },
   {
    "duration": 514,
    "start_time": "2023-01-29T18:50:23.642Z"
   },
   {
    "duration": 516,
    "start_time": "2023-01-29T18:51:12.858Z"
   },
   {
    "duration": 524,
    "start_time": "2023-01-29T18:51:20.502Z"
   },
   {
    "duration": 519,
    "start_time": "2023-01-29T18:51:46.159Z"
   },
   {
    "duration": 1607,
    "start_time": "2023-01-29T18:52:28.178Z"
   },
   {
    "duration": 1677,
    "start_time": "2023-01-29T18:52:38.175Z"
   },
   {
    "duration": 532,
    "start_time": "2023-01-29T18:58:21.109Z"
   },
   {
    "duration": 510,
    "start_time": "2023-01-29T18:58:32.212Z"
   },
   {
    "duration": 534,
    "start_time": "2023-01-29T18:58:41.477Z"
   },
   {
    "duration": 76,
    "start_time": "2023-01-29T18:58:58.313Z"
   },
   {
    "duration": 1158,
    "start_time": "2023-01-29T18:59:22.499Z"
   },
   {
    "duration": 3,
    "start_time": "2023-01-29T19:00:17.494Z"
   },
   {
    "duration": 71,
    "start_time": "2023-01-29T19:00:40.675Z"
   },
   {
    "duration": 1169,
    "start_time": "2023-01-29T19:00:53.828Z"
   },
   {
    "duration": 1272,
    "start_time": "2023-01-29T19:01:00.788Z"
   },
   {
    "duration": 5,
    "start_time": "2023-01-29T19:01:40.647Z"
   },
   {
    "duration": 1227,
    "start_time": "2023-01-29T19:01:44.789Z"
   },
   {
    "duration": 10,
    "start_time": "2023-01-29T19:14:55.104Z"
   },
   {
    "duration": 18,
    "start_time": "2023-01-29T19:15:29.567Z"
   },
   {
    "duration": 95,
    "start_time": "2023-01-29T19:15:33.532Z"
   },
   {
    "duration": 127,
    "start_time": "2023-01-29T19:15:36.442Z"
   },
   {
    "duration": 5,
    "start_time": "2023-01-29T19:16:21.065Z"
   },
   {
    "duration": 7,
    "start_time": "2023-01-29T19:17:20.712Z"
   },
   {
    "duration": 13,
    "start_time": "2023-01-29T19:17:26.763Z"
   },
   {
    "duration": 1013,
    "start_time": "2023-01-29T19:17:42.325Z"
   },
   {
    "duration": 1428,
    "start_time": "2023-01-29T19:43:49.704Z"
   },
   {
    "duration": 3,
    "start_time": "2023-01-29T19:43:51.134Z"
   },
   {
    "duration": 7475,
    "start_time": "2023-01-29T19:43:51.139Z"
   },
   {
    "duration": 225,
    "start_time": "2023-01-29T19:43:58.616Z"
   },
   {
    "duration": 10,
    "start_time": "2023-01-29T19:43:58.844Z"
   },
   {
    "duration": 29,
    "start_time": "2023-01-29T19:43:58.855Z"
   },
   {
    "duration": 59,
    "start_time": "2023-01-29T19:43:58.886Z"
   },
   {
    "duration": 10,
    "start_time": "2023-01-29T19:43:58.947Z"
   },
   {
    "duration": 9,
    "start_time": "2023-01-29T19:43:58.959Z"
   },
   {
    "duration": 16,
    "start_time": "2023-01-29T19:43:58.970Z"
   },
   {
    "duration": 54,
    "start_time": "2023-01-29T19:43:58.988Z"
   },
   {
    "duration": 11,
    "start_time": "2023-01-29T19:43:59.044Z"
   },
   {
    "duration": 5,
    "start_time": "2023-01-29T19:43:59.057Z"
   },
   {
    "duration": 16,
    "start_time": "2023-01-29T19:43:59.065Z"
   },
   {
    "duration": 57,
    "start_time": "2023-01-29T19:43:59.082Z"
   },
   {
    "duration": 11,
    "start_time": "2023-01-29T19:43:59.141Z"
   },
   {
    "duration": 9,
    "start_time": "2023-01-29T19:43:59.154Z"
   },
   {
    "duration": 8,
    "start_time": "2023-01-29T19:43:59.165Z"
   },
   {
    "duration": 257,
    "start_time": "2023-01-29T19:43:59.175Z"
   },
   {
    "duration": 196,
    "start_time": "2023-01-29T19:43:59.433Z"
   },
   {
    "duration": 1862,
    "start_time": "2023-01-29T19:43:59.630Z"
   },
   {
    "duration": 159,
    "start_time": "2023-01-29T19:44:01.494Z"
   },
   {
    "duration": 182,
    "start_time": "2023-01-29T19:44:01.655Z"
   },
   {
    "duration": 197,
    "start_time": "2023-01-29T19:44:01.839Z"
   },
   {
    "duration": 3,
    "start_time": "2023-01-29T19:44:02.038Z"
   },
   {
    "duration": 283,
    "start_time": "2023-01-29T19:44:02.042Z"
   },
   {
    "duration": 1508,
    "start_time": "2023-01-29T19:44:02.326Z"
   },
   {
    "duration": 132,
    "start_time": "2023-01-29T19:44:03.835Z"
   },
   {
    "duration": 118,
    "start_time": "2023-01-29T19:44:03.969Z"
   },
   {
    "duration": 1055,
    "start_time": "2023-01-29T19:44:49.360Z"
   },
   {
    "duration": 13,
    "start_time": "2023-01-30T09:26:45.619Z"
   },
   {
    "duration": 6,
    "start_time": "2023-01-30T09:30:01.802Z"
   },
   {
    "duration": 55,
    "start_time": "2023-01-30T09:30:02.743Z"
   },
   {
    "duration": 1917,
    "start_time": "2023-01-30T09:31:58.387Z"
   },
   {
    "duration": 94,
    "start_time": "2023-01-30T09:32:06.766Z"
   },
   {
    "duration": 1594,
    "start_time": "2023-01-30T09:32:15.975Z"
   },
   {
    "duration": 4,
    "start_time": "2023-01-30T09:32:17.571Z"
   },
   {
    "duration": 6124,
    "start_time": "2023-01-30T09:32:17.576Z"
   },
   {
    "duration": 63,
    "start_time": "2023-01-30T09:32:23.703Z"
   },
   {
    "duration": 14,
    "start_time": "2023-01-30T09:32:23.768Z"
   },
   {
    "duration": 26,
    "start_time": "2023-01-30T09:32:23.784Z"
   },
   {
    "duration": 49,
    "start_time": "2023-01-30T09:32:23.812Z"
   },
   {
    "duration": 16,
    "start_time": "2023-01-30T09:32:23.863Z"
   },
   {
    "duration": 28,
    "start_time": "2023-01-30T09:32:23.880Z"
   },
   {
    "duration": 20,
    "start_time": "2023-01-30T09:32:23.912Z"
   },
   {
    "duration": 42,
    "start_time": "2023-01-30T09:32:23.934Z"
   },
   {
    "duration": 36,
    "start_time": "2023-01-30T09:32:23.978Z"
   },
   {
    "duration": 17,
    "start_time": "2023-01-30T09:32:24.016Z"
   },
   {
    "duration": 29,
    "start_time": "2023-01-30T09:32:24.035Z"
   },
   {
    "duration": 42,
    "start_time": "2023-01-30T09:32:24.066Z"
   },
   {
    "duration": 22,
    "start_time": "2023-01-30T09:32:24.111Z"
   },
   {
    "duration": 33,
    "start_time": "2023-01-30T09:32:24.135Z"
   },
   {
    "duration": 19,
    "start_time": "2023-01-30T09:32:24.171Z"
   },
   {
    "duration": 234,
    "start_time": "2023-01-30T09:32:24.193Z"
   },
   {
    "duration": 232,
    "start_time": "2023-01-30T09:32:24.430Z"
   },
   {
    "duration": 1585,
    "start_time": "2023-01-30T09:32:24.665Z"
   },
   {
    "duration": 142,
    "start_time": "2023-01-30T09:32:26.252Z"
   },
   {
    "duration": 144,
    "start_time": "2023-01-30T09:32:26.398Z"
   },
   {
    "duration": 181,
    "start_time": "2023-01-30T09:32:26.546Z"
   },
   {
    "duration": 3,
    "start_time": "2023-01-30T09:32:26.729Z"
   },
   {
    "duration": 292,
    "start_time": "2023-01-30T09:32:26.734Z"
   },
   {
    "duration": 1541,
    "start_time": "2023-01-30T09:32:27.028Z"
   },
   {
    "duration": 155,
    "start_time": "2023-01-30T09:32:28.575Z"
   },
   {
    "duration": 1036,
    "start_time": "2023-01-30T09:32:28.732Z"
   },
   {
    "duration": 7,
    "start_time": "2023-01-30T09:32:29.770Z"
   },
   {
    "duration": 541,
    "start_time": "2023-01-30T09:32:29.779Z"
   },
   {
    "duration": 4,
    "start_time": "2023-01-30T09:33:13.221Z"
   },
   {
    "duration": 57,
    "start_time": "2023-01-30T09:33:33.864Z"
   },
   {
    "duration": 4,
    "start_time": "2023-01-30T09:33:44.711Z"
   },
   {
    "duration": 792,
    "start_time": "2023-01-30T09:33:53.835Z"
   },
   {
    "duration": 1386,
    "start_time": "2023-01-30T09:34:41.382Z"
   },
   {
    "duration": 16,
    "start_time": "2023-01-30T09:36:04.872Z"
   },
   {
    "duration": 1698,
    "start_time": "2023-01-30T09:47:51.657Z"
   },
   {
    "duration": 5,
    "start_time": "2023-01-30T09:47:53.358Z"
   },
   {
    "duration": 6184,
    "start_time": "2023-01-30T09:47:53.365Z"
   },
   {
    "duration": 47,
    "start_time": "2023-01-30T09:47:59.551Z"
   },
   {
    "duration": 10,
    "start_time": "2023-01-30T09:47:59.600Z"
   },
   {
    "duration": 53,
    "start_time": "2023-01-30T09:47:59.612Z"
   },
   {
    "duration": 26,
    "start_time": "2023-01-30T09:47:59.667Z"
   },
   {
    "duration": 11,
    "start_time": "2023-01-30T09:47:59.695Z"
   },
   {
    "duration": 53,
    "start_time": "2023-01-30T09:47:59.708Z"
   },
   {
    "duration": 38,
    "start_time": "2023-01-30T09:47:59.763Z"
   },
   {
    "duration": 35,
    "start_time": "2023-01-30T09:47:59.803Z"
   },
   {
    "duration": 38,
    "start_time": "2023-01-30T09:47:59.841Z"
   },
   {
    "duration": 16,
    "start_time": "2023-01-30T09:47:59.881Z"
   },
   {
    "duration": 21,
    "start_time": "2023-01-30T09:47:59.900Z"
   },
   {
    "duration": 60,
    "start_time": "2023-01-30T09:47:59.923Z"
   },
   {
    "duration": 11,
    "start_time": "2023-01-30T09:47:59.985Z"
   },
   {
    "duration": 7,
    "start_time": "2023-01-30T09:47:59.997Z"
   },
   {
    "duration": 67,
    "start_time": "2023-01-30T09:48:00.006Z"
   },
   {
    "duration": 225,
    "start_time": "2023-01-30T09:48:00.075Z"
   },
   {
    "duration": 259,
    "start_time": "2023-01-30T09:48:00.302Z"
   },
   {
    "duration": 4665,
    "start_time": "2023-01-30T09:48:00.563Z"
   },
   {
    "duration": 315,
    "start_time": "2023-01-30T09:48:05.232Z"
   },
   {
    "duration": 321,
    "start_time": "2023-01-30T09:48:05.549Z"
   },
   {
    "duration": 471,
    "start_time": "2023-01-30T09:48:05.872Z"
   },
   {
    "duration": 4,
    "start_time": "2023-01-30T09:48:06.347Z"
   },
   {
    "duration": 385,
    "start_time": "2023-01-30T09:48:06.354Z"
   },
   {
    "duration": 1746,
    "start_time": "2023-01-30T09:48:06.746Z"
   },
   {
    "duration": 137,
    "start_time": "2023-01-30T09:48:08.493Z"
   },
   {
    "duration": 1098,
    "start_time": "2023-01-30T09:48:08.632Z"
   },
   {
    "duration": 952,
    "start_time": "2023-01-30T09:48:09.732Z"
   },
   {
    "duration": 0,
    "start_time": "2023-01-30T09:48:10.686Z"
   },
   {
    "duration": 0,
    "start_time": "2023-01-30T09:48:10.688Z"
   },
   {
    "duration": 0,
    "start_time": "2023-01-30T09:48:10.690Z"
   },
   {
    "duration": 0,
    "start_time": "2023-01-30T09:48:10.691Z"
   },
   {
    "duration": 0,
    "start_time": "2023-01-30T09:48:10.692Z"
   },
   {
    "duration": 0,
    "start_time": "2023-01-30T09:48:10.694Z"
   },
   {
    "duration": 121,
    "start_time": "2023-01-30T09:48:35.063Z"
   },
   {
    "duration": 706,
    "start_time": "2023-01-30T09:48:41.180Z"
   },
   {
    "duration": 123,
    "start_time": "2023-01-30T09:48:47.020Z"
   },
   {
    "duration": 7,
    "start_time": "2023-01-30T09:49:17.564Z"
   },
   {
    "duration": 874,
    "start_time": "2023-01-30T09:49:17.573Z"
   },
   {
    "duration": 1455,
    "start_time": "2023-01-30T09:49:18.449Z"
   },
   {
    "duration": 1783,
    "start_time": "2023-01-30T09:51:54.980Z"
   },
   {
    "duration": 6,
    "start_time": "2023-01-30T09:51:56.765Z"
   },
   {
    "duration": 6486,
    "start_time": "2023-01-30T09:51:56.773Z"
   },
   {
    "duration": 53,
    "start_time": "2023-01-30T09:52:03.265Z"
   },
   {
    "duration": 18,
    "start_time": "2023-01-30T09:52:03.321Z"
   },
   {
    "duration": 52,
    "start_time": "2023-01-30T09:52:03.344Z"
   },
   {
    "duration": 81,
    "start_time": "2023-01-30T09:52:03.398Z"
   },
   {
    "duration": 93,
    "start_time": "2023-01-30T09:52:03.481Z"
   },
   {
    "duration": 47,
    "start_time": "2023-01-30T09:52:03.576Z"
   },
   {
    "duration": 71,
    "start_time": "2023-01-30T09:52:03.625Z"
   },
   {
    "duration": 43,
    "start_time": "2023-01-30T09:52:03.698Z"
   },
   {
    "duration": 54,
    "start_time": "2023-01-30T09:52:03.743Z"
   },
   {
    "duration": 31,
    "start_time": "2023-01-30T09:52:03.799Z"
   },
   {
    "duration": 77,
    "start_time": "2023-01-30T09:52:03.834Z"
   },
   {
    "duration": 97,
    "start_time": "2023-01-30T09:52:03.914Z"
   },
   {
    "duration": 74,
    "start_time": "2023-01-30T09:52:04.013Z"
   },
   {
    "duration": 119,
    "start_time": "2023-01-30T09:52:04.089Z"
   },
   {
    "duration": 62,
    "start_time": "2023-01-30T09:52:04.210Z"
   },
   {
    "duration": 290,
    "start_time": "2023-01-30T09:52:04.274Z"
   },
   {
    "duration": 294,
    "start_time": "2023-01-30T09:52:04.566Z"
   },
   {
    "duration": 1847,
    "start_time": "2023-01-30T09:52:04.865Z"
   },
   {
    "duration": 147,
    "start_time": "2023-01-30T09:52:06.713Z"
   },
   {
    "duration": 162,
    "start_time": "2023-01-30T09:52:06.862Z"
   },
   {
    "duration": 192,
    "start_time": "2023-01-30T09:52:07.026Z"
   },
   {
    "duration": 3,
    "start_time": "2023-01-30T09:52:07.220Z"
   },
   {
    "duration": 353,
    "start_time": "2023-01-30T09:52:07.230Z"
   },
   {
    "duration": 1726,
    "start_time": "2023-01-30T09:52:07.585Z"
   },
   {
    "duration": 147,
    "start_time": "2023-01-30T09:52:09.313Z"
   },
   {
    "duration": 1214,
    "start_time": "2023-01-30T09:52:09.463Z"
   },
   {
    "duration": 137,
    "start_time": "2023-01-30T09:52:10.685Z"
   },
   {
    "duration": 133,
    "start_time": "2023-01-30T09:52:10.823Z"
   },
   {
    "duration": 9,
    "start_time": "2023-01-30T09:52:10.958Z"
   },
   {
    "duration": 874,
    "start_time": "2023-01-30T09:52:10.970Z"
   },
   {
    "duration": 1510,
    "start_time": "2023-01-30T09:52:11.854Z"
   },
   {
    "duration": 6677,
    "start_time": "2023-01-30T09:52:13.366Z"
   },
   {
    "duration": 7384,
    "start_time": "2023-01-30T09:54:32.159Z"
   },
   {
    "duration": 6698,
    "start_time": "2023-01-30T09:54:50.001Z"
   },
   {
    "duration": 6655,
    "start_time": "2023-01-30T09:55:05.548Z"
   },
   {
    "duration": 163,
    "start_time": "2023-01-30T09:56:51.341Z"
   },
   {
    "duration": 4,
    "start_time": "2023-01-30T09:57:21.971Z"
   },
   {
    "duration": 9028,
    "start_time": "2023-01-30T09:57:27.319Z"
   },
   {
    "duration": 980,
    "start_time": "2023-01-30T09:58:07.507Z"
   },
   {
    "duration": 4,
    "start_time": "2023-01-30T09:59:44.419Z"
   },
   {
    "duration": 48,
    "start_time": "2023-01-30T10:00:28.452Z"
   },
   {
    "duration": 391,
    "start_time": "2023-01-30T10:00:32.310Z"
   },
   {
    "duration": 393,
    "start_time": "2023-01-30T10:02:09.982Z"
   },
   {
    "duration": 407,
    "start_time": "2023-01-30T10:02:23.113Z"
   },
   {
    "duration": 394,
    "start_time": "2023-01-30T10:02:54.911Z"
   },
   {
    "duration": 91,
    "start_time": "2023-01-30T10:05:44.217Z"
   },
   {
    "duration": 7,
    "start_time": "2023-01-30T10:05:50.876Z"
   },
   {
    "duration": 273,
    "start_time": "2023-01-30T10:05:58.684Z"
   },
   {
    "duration": 5,
    "start_time": "2023-01-30T10:06:17.979Z"
   },
   {
    "duration": 462,
    "start_time": "2023-01-30T10:06:23.252Z"
   },
   {
    "duration": 6447,
    "start_time": "2023-01-30T10:06:28.455Z"
   },
   {
    "duration": 492,
    "start_time": "2023-01-30T10:06:34.904Z"
   },
   {
    "duration": 1651,
    "start_time": "2023-01-30T10:07:02.705Z"
   },
   {
    "duration": 1044,
    "start_time": "2023-01-30T10:07:08.383Z"
   },
   {
    "duration": 5,
    "start_time": "2023-01-30T10:11:53.410Z"
   },
   {
    "duration": 529,
    "start_time": "2023-01-30T10:11:56.970Z"
   },
   {
    "duration": 6,
    "start_time": "2023-01-30T10:12:13.965Z"
   },
   {
    "duration": 677,
    "start_time": "2023-01-30T10:12:15.977Z"
   },
   {
    "duration": 1045,
    "start_time": "2023-01-30T10:12:30.699Z"
   },
   {
    "duration": 5150,
    "start_time": "2023-01-30T10:12:46.213Z"
   },
   {
    "duration": 5041,
    "start_time": "2023-01-30T10:13:01.020Z"
   },
   {
    "duration": 4916,
    "start_time": "2023-01-30T10:13:16.036Z"
   },
   {
    "duration": 5313,
    "start_time": "2023-01-30T10:13:27.403Z"
   },
   {
    "duration": 5065,
    "start_time": "2023-01-30T10:13:38.193Z"
   },
   {
    "duration": 50174,
    "start_time": "2023-01-30T10:14:01.772Z"
   },
   {
    "duration": 857,
    "start_time": "2023-01-30T10:14:51.948Z"
   },
   {
    "duration": 22111,
    "start_time": "2023-01-30T10:16:45.706Z"
   },
   {
    "duration": 38,
    "start_time": "2023-01-30T10:18:42.449Z"
   },
   {
    "duration": 1219,
    "start_time": "2023-01-30T10:19:09.916Z"
   },
   {
    "duration": 36868,
    "start_time": "2023-01-30T10:28:42.100Z"
   },
   {
    "duration": 41852,
    "start_time": "2023-01-30T10:29:20.698Z"
   },
   {
    "duration": 118706,
    "start_time": "2023-01-30T10:30:55.521Z"
   },
   {
    "duration": 639,
    "start_time": "2023-01-30T10:35:12.795Z"
   },
   {
    "duration": 4,
    "start_time": "2023-01-30T10:35:54.744Z"
   },
   {
    "duration": 10,
    "start_time": "2023-01-30T10:38:07.485Z"
   },
   {
    "duration": 19094,
    "start_time": "2023-01-30T10:38:22.734Z"
   },
   {
    "duration": 45,
    "start_time": "2023-01-30T10:39:07.572Z"
   },
   {
    "duration": 661,
    "start_time": "2023-01-30T10:39:13.463Z"
   },
   {
    "duration": 163331,
    "start_time": "2023-01-30T10:40:28.345Z"
   },
   {
    "duration": 5195,
    "start_time": "2023-01-30T10:43:59.887Z"
   },
   {
    "duration": 264235,
    "start_time": "2023-01-30T10:45:46.299Z"
   },
   {
    "duration": 89826,
    "start_time": "2023-01-30T10:50:10.536Z"
   },
   {
    "duration": 0,
    "start_time": "2023-01-30T10:51:40.364Z"
   },
   {
    "duration": 14909,
    "start_time": "2023-01-30T10:51:42.004Z"
   },
   {
    "duration": 33857,
    "start_time": "2023-01-30T10:52:04.383Z"
   },
   {
    "duration": 1890723,
    "start_time": "2023-01-30T10:52:40.431Z"
   },
   {
    "duration": 78221,
    "start_time": "2023-01-30T11:24:11.156Z"
   },
   {
    "duration": 12000,
    "start_time": "2023-01-30T11:27:44.376Z"
   },
   {
    "duration": 11,
    "start_time": "2023-01-30T11:57:26.812Z"
   },
   {
    "duration": 4,
    "start_time": "2023-01-30T11:57:32.345Z"
   },
   {
    "duration": 10,
    "start_time": "2023-01-30T11:57:36.807Z"
   },
   {
    "duration": 11,
    "start_time": "2023-01-30T11:59:01.956Z"
   },
   {
    "duration": 5,
    "start_time": "2023-01-30T12:01:00.641Z"
   },
   {
    "duration": 122,
    "start_time": "2023-01-30T12:02:08.357Z"
   },
   {
    "duration": 11,
    "start_time": "2023-01-30T12:02:43.571Z"
   },
   {
    "duration": 656,
    "start_time": "2023-01-30T12:02:49.008Z"
   },
   {
    "duration": 121,
    "start_time": "2023-01-30T12:13:57.621Z"
   },
   {
    "duration": 118,
    "start_time": "2023-01-30T12:14:16.206Z"
   },
   {
    "duration": 126,
    "start_time": "2023-01-30T12:14:23.951Z"
   },
   {
    "duration": 53,
    "start_time": "2023-01-30T14:59:57.526Z"
   },
   {
    "duration": 1905,
    "start_time": "2023-01-30T15:00:03.724Z"
   },
   {
    "duration": 5,
    "start_time": "2023-01-30T15:00:05.631Z"
   },
   {
    "duration": 6195,
    "start_time": "2023-01-30T15:00:05.637Z"
   },
   {
    "duration": 112,
    "start_time": "2023-01-30T15:00:11.834Z"
   },
   {
    "duration": 12,
    "start_time": "2023-01-30T15:00:11.951Z"
   },
   {
    "duration": 32,
    "start_time": "2023-01-30T15:00:11.966Z"
   },
   {
    "duration": 68,
    "start_time": "2023-01-30T15:00:12.000Z"
   },
   {
    "duration": 18,
    "start_time": "2023-01-30T15:00:12.070Z"
   },
   {
    "duration": 31,
    "start_time": "2023-01-30T15:00:12.089Z"
   },
   {
    "duration": 49,
    "start_time": "2023-01-30T15:00:12.122Z"
   },
   {
    "duration": 44,
    "start_time": "2023-01-30T15:00:12.172Z"
   },
   {
    "duration": 44,
    "start_time": "2023-01-30T15:00:12.217Z"
   },
   {
    "duration": 36,
    "start_time": "2023-01-30T15:00:12.266Z"
   },
   {
    "duration": 20,
    "start_time": "2023-01-30T15:00:12.304Z"
   },
   {
    "duration": 68,
    "start_time": "2023-01-30T15:00:12.325Z"
   },
   {
    "duration": 29,
    "start_time": "2023-01-30T15:00:12.395Z"
   },
   {
    "duration": 35,
    "start_time": "2023-01-30T15:00:12.426Z"
   },
   {
    "duration": 45,
    "start_time": "2023-01-30T15:00:12.463Z"
   },
   {
    "duration": 269,
    "start_time": "2023-01-30T15:00:12.510Z"
   },
   {
    "duration": 215,
    "start_time": "2023-01-30T15:00:12.781Z"
   },
   {
    "duration": 1622,
    "start_time": "2023-01-30T15:00:12.998Z"
   },
   {
    "duration": 142,
    "start_time": "2023-01-30T15:00:14.621Z"
   },
   {
    "duration": 155,
    "start_time": "2023-01-30T15:00:14.765Z"
   },
   {
    "duration": 181,
    "start_time": "2023-01-30T15:00:14.922Z"
   },
   {
    "duration": 3,
    "start_time": "2023-01-30T15:00:15.105Z"
   },
   {
    "duration": 280,
    "start_time": "2023-01-30T15:00:15.109Z"
   },
   {
    "duration": 1206,
    "start_time": "2023-01-30T15:00:15.391Z"
   },
   {
    "duration": 127,
    "start_time": "2023-01-30T15:00:16.602Z"
   },
   {
    "duration": 1075,
    "start_time": "2023-01-30T15:00:16.731Z"
   },
   {
    "duration": 121,
    "start_time": "2023-01-30T15:00:17.807Z"
   },
   {
    "duration": 132,
    "start_time": "2023-01-30T15:00:17.930Z"
   },
   {
    "duration": 8,
    "start_time": "2023-01-30T15:00:18.065Z"
   },
   {
    "duration": 858,
    "start_time": "2023-01-30T15:00:18.075Z"
   },
   {
    "duration": 6164,
    "start_time": "2023-01-30T15:00:18.936Z"
   },
   {
    "duration": 1671,
    "start_time": "2023-01-30T16:02:59.097Z"
   },
   {
    "duration": 4,
    "start_time": "2023-01-30T16:03:00.771Z"
   },
   {
    "duration": 8272,
    "start_time": "2023-01-30T16:03:00.777Z"
   },
   {
    "duration": 224,
    "start_time": "2023-01-30T16:03:09.051Z"
   },
   {
    "duration": 9,
    "start_time": "2023-01-30T16:03:09.277Z"
   },
   {
    "duration": 13,
    "start_time": "2023-01-30T16:03:09.288Z"
   },
   {
    "duration": 47,
    "start_time": "2023-01-30T16:03:09.303Z"
   },
   {
    "duration": 10,
    "start_time": "2023-01-30T16:03:09.351Z"
   },
   {
    "duration": 14,
    "start_time": "2023-01-30T16:03:09.363Z"
   },
   {
    "duration": 12,
    "start_time": "2023-01-30T16:03:09.379Z"
   },
   {
    "duration": 54,
    "start_time": "2023-01-30T16:03:09.393Z"
   },
   {
    "duration": 9,
    "start_time": "2023-01-30T16:03:09.449Z"
   },
   {
    "duration": 18,
    "start_time": "2023-01-30T16:03:09.460Z"
   },
   {
    "duration": 16,
    "start_time": "2023-01-30T16:03:09.480Z"
   },
   {
    "duration": 62,
    "start_time": "2023-01-30T16:03:09.497Z"
   },
   {
    "duration": 10,
    "start_time": "2023-01-30T16:03:09.560Z"
   },
   {
    "duration": 11,
    "start_time": "2023-01-30T16:03:09.572Z"
   },
   {
    "duration": 8,
    "start_time": "2023-01-30T16:03:09.585Z"
   },
   {
    "duration": 259,
    "start_time": "2023-01-30T16:03:09.595Z"
   },
   {
    "duration": 195,
    "start_time": "2023-01-30T16:03:09.855Z"
   },
   {
    "duration": 1521,
    "start_time": "2023-01-30T16:03:10.052Z"
   },
   {
    "duration": 109,
    "start_time": "2023-01-30T16:03:11.575Z"
   },
   {
    "duration": 108,
    "start_time": "2023-01-30T16:03:11.686Z"
   },
   {
    "duration": 136,
    "start_time": "2023-01-30T16:03:11.796Z"
   },
   {
    "duration": 14,
    "start_time": "2023-01-30T16:03:11.934Z"
   },
   {
    "duration": 214,
    "start_time": "2023-01-30T16:03:11.950Z"
   },
   {
    "duration": 1459,
    "start_time": "2023-01-30T16:03:12.166Z"
   },
   {
    "duration": 119,
    "start_time": "2023-01-30T16:03:13.627Z"
   },
   {
    "duration": 899,
    "start_time": "2023-01-30T16:03:13.748Z"
   },
   {
    "duration": 122,
    "start_time": "2023-01-30T16:03:14.649Z"
   },
   {
    "duration": 113,
    "start_time": "2023-01-30T16:03:14.773Z"
   },
   {
    "duration": 7,
    "start_time": "2023-01-30T16:03:14.888Z"
   },
   {
    "duration": 933,
    "start_time": "2023-01-30T16:03:14.897Z"
   },
   {
    "duration": 5098,
    "start_time": "2023-01-30T16:03:15.832Z"
   },
   {
    "duration": 55470,
    "start_time": "2023-01-30T16:03:20.931Z"
   },
   {
    "duration": 0,
    "start_time": "2023-01-30T16:04:16.404Z"
   },
   {
    "duration": 0,
    "start_time": "2023-01-30T16:04:16.406Z"
   },
   {
    "duration": 0,
    "start_time": "2023-01-30T16:04:16.407Z"
   },
   {
    "duration": 0,
    "start_time": "2023-01-30T16:04:16.408Z"
   },
   {
    "duration": 0,
    "start_time": "2023-01-30T16:04:16.409Z"
   },
   {
    "duration": 0,
    "start_time": "2023-01-30T16:04:16.410Z"
   },
   {
    "duration": 2021,
    "start_time": "2023-01-30T16:04:20.414Z"
   },
   {
    "duration": 5,
    "start_time": "2023-01-30T16:04:22.437Z"
   },
   {
    "duration": 8515,
    "start_time": "2023-01-30T16:04:22.444Z"
   },
   {
    "duration": 287,
    "start_time": "2023-01-30T16:04:30.961Z"
   },
   {
    "duration": 10,
    "start_time": "2023-01-30T16:04:31.251Z"
   },
   {
    "duration": 35,
    "start_time": "2023-01-30T16:04:31.267Z"
   },
   {
    "duration": 86,
    "start_time": "2023-01-30T16:04:31.304Z"
   },
   {
    "duration": 17,
    "start_time": "2023-01-30T16:04:31.392Z"
   },
   {
    "duration": 13,
    "start_time": "2023-01-30T16:04:31.411Z"
   },
   {
    "duration": 22,
    "start_time": "2023-01-30T16:04:31.426Z"
   },
   {
    "duration": 91,
    "start_time": "2023-01-30T16:04:31.450Z"
   },
   {
    "duration": 13,
    "start_time": "2023-01-30T16:04:31.543Z"
   },
   {
    "duration": 9,
    "start_time": "2023-01-30T16:04:31.558Z"
   },
   {
    "duration": 9,
    "start_time": "2023-01-30T16:04:31.573Z"
   },
   {
    "duration": 106,
    "start_time": "2023-01-30T16:04:31.584Z"
   },
   {
    "duration": 13,
    "start_time": "2023-01-30T16:04:31.693Z"
   },
   {
    "duration": 8,
    "start_time": "2023-01-30T16:04:31.709Z"
   },
   {
    "duration": 14,
    "start_time": "2023-01-30T16:04:31.718Z"
   },
   {
    "duration": 397,
    "start_time": "2023-01-30T16:04:31.734Z"
   },
   {
    "duration": 229,
    "start_time": "2023-01-30T16:04:32.133Z"
   },
   {
    "duration": 4537,
    "start_time": "2023-01-30T16:04:32.364Z"
   },
   {
    "duration": 184,
    "start_time": "2023-01-30T16:04:36.903Z"
   },
   {
    "duration": 262,
    "start_time": "2023-01-30T16:04:37.088Z"
   },
   {
    "duration": 312,
    "start_time": "2023-01-30T16:04:37.353Z"
   },
   {
    "duration": 4,
    "start_time": "2023-01-30T16:04:37.668Z"
   },
   {
    "duration": 703,
    "start_time": "2023-01-30T16:04:37.674Z"
   },
   {
    "duration": 1717,
    "start_time": "2023-01-30T16:04:38.380Z"
   },
   {
    "duration": 101,
    "start_time": "2023-01-30T16:04:40.098Z"
   },
   {
    "duration": 907,
    "start_time": "2023-01-30T16:04:40.200Z"
   },
   {
    "duration": 109,
    "start_time": "2023-01-30T16:04:41.108Z"
   },
   {
    "duration": 135,
    "start_time": "2023-01-30T16:04:41.219Z"
   },
   {
    "duration": 6,
    "start_time": "2023-01-30T16:04:41.356Z"
   },
   {
    "duration": 936,
    "start_time": "2023-01-30T16:04:41.364Z"
   },
   {
    "duration": 5730,
    "start_time": "2023-01-30T16:04:42.302Z"
   },
   {
    "duration": 33138,
    "start_time": "2023-01-30T16:04:48.034Z"
   },
   {
    "duration": 0,
    "start_time": "2023-01-30T16:05:21.176Z"
   },
   {
    "duration": 0,
    "start_time": "2023-01-30T16:05:21.181Z"
   },
   {
    "duration": 0,
    "start_time": "2023-01-30T16:05:21.183Z"
   },
   {
    "duration": 0,
    "start_time": "2023-01-30T16:05:21.185Z"
   },
   {
    "duration": 0,
    "start_time": "2023-01-30T16:05:21.186Z"
   },
   {
    "duration": 0,
    "start_time": "2023-01-30T16:05:21.189Z"
   },
   {
    "duration": 666,
    "start_time": "2023-01-30T16:05:22.629Z"
   },
   {
    "duration": 1909,
    "start_time": "2023-01-30T16:06:02.578Z"
   },
   {
    "duration": 4,
    "start_time": "2023-01-30T16:06:04.490Z"
   },
   {
    "duration": 8728,
    "start_time": "2023-01-30T16:06:04.496Z"
   },
   {
    "duration": 279,
    "start_time": "2023-01-30T16:06:13.226Z"
   },
   {
    "duration": 14,
    "start_time": "2023-01-30T16:06:13.509Z"
   },
   {
    "duration": 21,
    "start_time": "2023-01-30T16:06:13.526Z"
   },
   {
    "duration": 75,
    "start_time": "2023-01-30T16:06:13.550Z"
   },
   {
    "duration": 12,
    "start_time": "2023-01-30T16:06:13.627Z"
   },
   {
    "duration": 19,
    "start_time": "2023-01-30T16:06:13.641Z"
   },
   {
    "duration": 18,
    "start_time": "2023-01-30T16:06:13.662Z"
   },
   {
    "duration": 68,
    "start_time": "2023-01-30T16:06:13.682Z"
   },
   {
    "duration": 12,
    "start_time": "2023-01-30T16:06:13.752Z"
   },
   {
    "duration": 6,
    "start_time": "2023-01-30T16:06:13.769Z"
   },
   {
    "duration": 28,
    "start_time": "2023-01-30T16:06:13.782Z"
   },
   {
    "duration": 83,
    "start_time": "2023-01-30T16:06:13.813Z"
   },
   {
    "duration": 15,
    "start_time": "2023-01-30T16:06:13.899Z"
   },
   {
    "duration": 28,
    "start_time": "2023-01-30T16:06:13.917Z"
   },
   {
    "duration": 42,
    "start_time": "2023-01-30T16:06:13.948Z"
   },
   {
    "duration": 266,
    "start_time": "2023-01-30T16:06:13.992Z"
   },
   {
    "duration": 267,
    "start_time": "2023-01-30T16:06:14.260Z"
   },
   {
    "duration": 1906,
    "start_time": "2023-01-30T16:06:14.529Z"
   },
   {
    "duration": 129,
    "start_time": "2023-01-30T16:06:16.438Z"
   },
   {
    "duration": 133,
    "start_time": "2023-01-30T16:06:16.569Z"
   },
   {
    "duration": 180,
    "start_time": "2023-01-30T16:06:16.705Z"
   },
   {
    "duration": 4,
    "start_time": "2023-01-30T16:06:16.887Z"
   },
   {
    "duration": 262,
    "start_time": "2023-01-30T16:06:16.893Z"
   },
   {
    "duration": 1564,
    "start_time": "2023-01-30T16:06:17.157Z"
   },
   {
    "duration": 144,
    "start_time": "2023-01-30T16:06:18.723Z"
   },
   {
    "duration": 1227,
    "start_time": "2023-01-30T16:06:18.869Z"
   },
   {
    "duration": 115,
    "start_time": "2023-01-30T16:06:20.097Z"
   },
   {
    "duration": 182,
    "start_time": "2023-01-30T16:06:20.214Z"
   },
   {
    "duration": 10,
    "start_time": "2023-01-30T16:06:20.398Z"
   },
   {
    "duration": 1143,
    "start_time": "2023-01-30T16:06:20.409Z"
   },
   {
    "duration": 6377,
    "start_time": "2023-01-30T16:06:21.556Z"
   },
   {
    "duration": 217,
    "start_time": "2023-01-30T16:06:27.935Z"
   },
   {
    "duration": 161,
    "start_time": "2023-01-30T16:06:28.154Z"
   },
   {
    "duration": 170,
    "start_time": "2023-01-30T16:06:28.318Z"
   },
   {
    "duration": 228,
    "start_time": "2023-01-30T16:06:28.491Z"
   },
   {
    "duration": 0,
    "start_time": "2023-01-30T16:06:28.721Z"
   },
   {
    "duration": 1842,
    "start_time": "2023-01-30T16:10:39.544Z"
   },
   {
    "duration": 4,
    "start_time": "2023-01-30T16:10:41.389Z"
   },
   {
    "duration": 10609,
    "start_time": "2023-01-30T16:10:41.398Z"
   },
   {
    "duration": 230,
    "start_time": "2023-01-30T16:10:52.009Z"
   },
   {
    "duration": 13,
    "start_time": "2023-01-30T16:10:52.242Z"
   },
   {
    "duration": 27,
    "start_time": "2023-01-30T16:10:52.257Z"
   },
   {
    "duration": 73,
    "start_time": "2023-01-30T16:10:52.286Z"
   },
   {
    "duration": 14,
    "start_time": "2023-01-30T16:10:52.361Z"
   },
   {
    "duration": 19,
    "start_time": "2023-01-30T16:10:52.377Z"
   },
   {
    "duration": 18,
    "start_time": "2023-01-30T16:10:52.399Z"
   },
   {
    "duration": 53,
    "start_time": "2023-01-30T16:10:52.421Z"
   },
   {
    "duration": 12,
    "start_time": "2023-01-30T16:10:52.476Z"
   },
   {
    "duration": 20,
    "start_time": "2023-01-30T16:10:52.490Z"
   },
   {
    "duration": 12,
    "start_time": "2023-01-30T16:10:52.516Z"
   },
   {
    "duration": 76,
    "start_time": "2023-01-30T16:10:52.530Z"
   },
   {
    "duration": 22,
    "start_time": "2023-01-30T16:10:52.608Z"
   },
   {
    "duration": 23,
    "start_time": "2023-01-30T16:10:52.634Z"
   },
   {
    "duration": 22,
    "start_time": "2023-01-30T16:10:52.660Z"
   },
   {
    "duration": 268,
    "start_time": "2023-01-30T16:10:52.685Z"
   },
   {
    "duration": 268,
    "start_time": "2023-01-30T16:10:52.956Z"
   },
   {
    "duration": 1844,
    "start_time": "2023-01-30T16:10:53.226Z"
   },
   {
    "duration": 144,
    "start_time": "2023-01-30T16:10:55.072Z"
   },
   {
    "duration": 134,
    "start_time": "2023-01-30T16:10:55.219Z"
   },
   {
    "duration": 130,
    "start_time": "2023-01-30T16:10:55.355Z"
   },
   {
    "duration": 5,
    "start_time": "2023-01-30T16:10:55.488Z"
   },
   {
    "duration": 250,
    "start_time": "2023-01-30T16:10:55.495Z"
   },
   {
    "duration": 1498,
    "start_time": "2023-01-30T16:10:55.747Z"
   },
   {
    "duration": 113,
    "start_time": "2023-01-30T16:10:57.248Z"
   },
   {
    "duration": 984,
    "start_time": "2023-01-30T16:10:57.363Z"
   },
   {
    "duration": 149,
    "start_time": "2023-01-30T16:10:58.349Z"
   },
   {
    "duration": 166,
    "start_time": "2023-01-30T16:10:58.501Z"
   },
   {
    "duration": 8,
    "start_time": "2023-01-30T16:10:58.669Z"
   },
   {
    "duration": 1018,
    "start_time": "2023-01-30T16:10:58.679Z"
   },
   {
    "duration": 8130,
    "start_time": "2023-01-30T16:10:59.703Z"
   },
   {
    "duration": 239,
    "start_time": "2023-01-30T16:11:07.836Z"
   },
   {
    "duration": 216,
    "start_time": "2023-01-30T16:11:08.081Z"
   },
   {
    "duration": 220,
    "start_time": "2023-01-30T16:11:08.303Z"
   },
   {
    "duration": 195,
    "start_time": "2023-01-30T16:11:08.529Z"
   },
   {
    "duration": 0,
    "start_time": "2023-01-30T16:11:08.743Z"
   },
   {
    "duration": 1418,
    "start_time": "2023-01-30T16:12:09.872Z"
   },
   {
    "duration": 1702,
    "start_time": "2023-01-30T16:12:23.621Z"
   },
   {
    "duration": 4,
    "start_time": "2023-01-30T16:12:25.325Z"
   },
   {
    "duration": 9862,
    "start_time": "2023-01-30T16:12:25.332Z"
   },
   {
    "duration": 860,
    "start_time": "2023-01-30T16:12:35.196Z"
   },
   {
    "duration": 14,
    "start_time": "2023-01-30T16:12:36.059Z"
   },
   {
    "duration": 22,
    "start_time": "2023-01-30T16:12:36.075Z"
   },
   {
    "duration": 62,
    "start_time": "2023-01-30T16:12:36.100Z"
   },
   {
    "duration": 14,
    "start_time": "2023-01-30T16:12:36.165Z"
   },
   {
    "duration": 8,
    "start_time": "2023-01-30T16:12:36.181Z"
   },
   {
    "duration": 51,
    "start_time": "2023-01-30T16:12:36.191Z"
   },
   {
    "duration": 59,
    "start_time": "2023-01-30T16:12:36.245Z"
   },
   {
    "duration": 15,
    "start_time": "2023-01-30T16:12:36.309Z"
   },
   {
    "duration": 46,
    "start_time": "2023-01-30T16:12:36.329Z"
   },
   {
    "duration": 23,
    "start_time": "2023-01-30T16:12:36.379Z"
   },
   {
    "duration": 104,
    "start_time": "2023-01-30T16:12:36.404Z"
   },
   {
    "duration": 18,
    "start_time": "2023-01-30T16:12:36.510Z"
   },
   {
    "duration": 45,
    "start_time": "2023-01-30T16:12:36.532Z"
   },
   {
    "duration": 16,
    "start_time": "2023-01-30T16:12:36.580Z"
   },
   {
    "duration": 267,
    "start_time": "2023-01-30T16:12:36.598Z"
   },
   {
    "duration": 261,
    "start_time": "2023-01-30T16:12:36.867Z"
   },
   {
    "duration": 3551,
    "start_time": "2023-01-30T16:12:37.130Z"
   },
   {
    "duration": 111,
    "start_time": "2023-01-30T16:12:40.683Z"
   },
   {
    "duration": 127,
    "start_time": "2023-01-30T16:12:40.796Z"
   },
   {
    "duration": 143,
    "start_time": "2023-01-30T16:12:40.925Z"
   },
   {
    "duration": 4,
    "start_time": "2023-01-30T16:12:41.070Z"
   },
   {
    "duration": 243,
    "start_time": "2023-01-30T16:12:41.077Z"
   },
   {
    "duration": 1170,
    "start_time": "2023-01-30T16:12:41.323Z"
   },
   {
    "duration": 113,
    "start_time": "2023-01-30T16:12:42.495Z"
   },
   {
    "duration": 849,
    "start_time": "2023-01-30T16:12:42.611Z"
   },
   {
    "duration": 213,
    "start_time": "2023-01-30T16:12:43.465Z"
   },
   {
    "duration": 302,
    "start_time": "2023-01-30T16:12:43.680Z"
   },
   {
    "duration": 64,
    "start_time": "2023-01-30T16:12:43.985Z"
   },
   {
    "duration": 1701,
    "start_time": "2023-01-30T16:12:44.052Z"
   },
   {
    "duration": 7547,
    "start_time": "2023-01-30T16:12:45.755Z"
   },
   {
    "duration": 249,
    "start_time": "2023-01-30T16:12:53.304Z"
   },
   {
    "duration": 185,
    "start_time": "2023-01-30T16:12:53.556Z"
   },
   {
    "duration": 201,
    "start_time": "2023-01-30T16:12:53.748Z"
   },
   {
    "duration": 210,
    "start_time": "2023-01-30T16:12:53.952Z"
   },
   {
    "duration": 0,
    "start_time": "2023-01-30T16:12:54.164Z"
   },
   {
    "duration": 2394,
    "start_time": "2023-01-30T16:13:58.202Z"
   },
   {
    "duration": 9,
    "start_time": "2023-01-30T16:14:00.599Z"
   },
   {
    "duration": 12607,
    "start_time": "2023-01-30T16:14:00.626Z"
   },
   {
    "duration": 310,
    "start_time": "2023-01-30T16:14:13.235Z"
   },
   {
    "duration": 23,
    "start_time": "2023-01-30T16:14:13.549Z"
   },
   {
    "duration": 63,
    "start_time": "2023-01-30T16:14:13.574Z"
   },
   {
    "duration": 93,
    "start_time": "2023-01-30T16:14:13.639Z"
   },
   {
    "duration": 18,
    "start_time": "2023-01-30T16:14:13.735Z"
   },
   {
    "duration": 35,
    "start_time": "2023-01-30T16:14:13.758Z"
   },
   {
    "duration": 35,
    "start_time": "2023-01-30T16:14:13.799Z"
   },
   {
    "duration": 75,
    "start_time": "2023-01-30T16:14:13.841Z"
   },
   {
    "duration": 15,
    "start_time": "2023-01-30T16:14:13.918Z"
   },
   {
    "duration": 16,
    "start_time": "2023-01-30T16:14:13.938Z"
   },
   {
    "duration": 21,
    "start_time": "2023-01-30T16:14:13.958Z"
   },
   {
    "duration": 110,
    "start_time": "2023-01-30T16:14:13.986Z"
   },
   {
    "duration": 15,
    "start_time": "2023-01-30T16:14:14.098Z"
   },
   {
    "duration": 21,
    "start_time": "2023-01-30T16:14:14.115Z"
   },
   {
    "duration": 22,
    "start_time": "2023-01-30T16:14:14.145Z"
   },
   {
    "duration": 274,
    "start_time": "2023-01-30T16:14:14.169Z"
   },
   {
    "duration": 253,
    "start_time": "2023-01-30T16:14:14.445Z"
   },
   {
    "duration": 1802,
    "start_time": "2023-01-30T16:14:14.700Z"
   },
   {
    "duration": 166,
    "start_time": "2023-01-30T16:14:16.505Z"
   },
   {
    "duration": 157,
    "start_time": "2023-01-30T16:14:16.674Z"
   },
   {
    "duration": 185,
    "start_time": "2023-01-30T16:14:16.833Z"
   },
   {
    "duration": 3,
    "start_time": "2023-01-30T16:14:17.020Z"
   },
   {
    "duration": 367,
    "start_time": "2023-01-30T16:14:17.025Z"
   },
   {
    "duration": 2349,
    "start_time": "2023-01-30T16:14:17.397Z"
   },
   {
    "duration": 157,
    "start_time": "2023-01-30T16:14:19.748Z"
   },
   {
    "duration": 1156,
    "start_time": "2023-01-30T16:14:19.908Z"
   },
   {
    "duration": 120,
    "start_time": "2023-01-30T16:14:21.066Z"
   },
   {
    "duration": 122,
    "start_time": "2023-01-30T16:14:21.188Z"
   },
   {
    "duration": 7,
    "start_time": "2023-01-30T16:14:21.312Z"
   },
   {
    "duration": 872,
    "start_time": "2023-01-30T16:14:21.321Z"
   },
   {
    "duration": 7427,
    "start_time": "2023-01-30T16:14:22.195Z"
   },
   {
    "duration": 315,
    "start_time": "2023-01-30T16:14:29.624Z"
   },
   {
    "duration": 342,
    "start_time": "2023-01-30T16:14:29.944Z"
   },
   {
    "duration": 359,
    "start_time": "2023-01-30T16:14:30.292Z"
   },
   {
    "duration": 198,
    "start_time": "2023-01-30T16:14:30.656Z"
   },
   {
    "duration": 0,
    "start_time": "2023-01-30T16:14:30.860Z"
   },
   {
    "duration": 1947,
    "start_time": "2023-01-30T16:17:40.346Z"
   },
   {
    "duration": 5,
    "start_time": "2023-01-30T16:17:42.295Z"
   },
   {
    "duration": 9792,
    "start_time": "2023-01-30T16:17:42.302Z"
   },
   {
    "duration": 230,
    "start_time": "2023-01-30T16:17:52.096Z"
   },
   {
    "duration": 13,
    "start_time": "2023-01-30T16:17:52.331Z"
   },
   {
    "duration": 16,
    "start_time": "2023-01-30T16:17:52.346Z"
   },
   {
    "duration": 49,
    "start_time": "2023-01-30T16:17:52.364Z"
   },
   {
    "duration": 17,
    "start_time": "2023-01-30T16:17:52.415Z"
   },
   {
    "duration": 36,
    "start_time": "2023-01-30T16:17:52.434Z"
   },
   {
    "duration": 26,
    "start_time": "2023-01-30T16:17:52.472Z"
   },
   {
    "duration": 51,
    "start_time": "2023-01-30T16:17:52.500Z"
   },
   {
    "duration": 17,
    "start_time": "2023-01-30T16:17:52.553Z"
   },
   {
    "duration": 11,
    "start_time": "2023-01-30T16:17:52.573Z"
   },
   {
    "duration": 11,
    "start_time": "2023-01-30T16:17:52.589Z"
   },
   {
    "duration": 66,
    "start_time": "2023-01-30T16:17:52.602Z"
   },
   {
    "duration": 12,
    "start_time": "2023-01-30T16:17:52.670Z"
   },
   {
    "duration": 14,
    "start_time": "2023-01-30T16:17:52.685Z"
   },
   {
    "duration": 12,
    "start_time": "2023-01-30T16:17:52.701Z"
   },
   {
    "duration": 258,
    "start_time": "2023-01-30T16:17:52.716Z"
   },
   {
    "duration": 264,
    "start_time": "2023-01-30T16:17:52.975Z"
   },
   {
    "duration": 1858,
    "start_time": "2023-01-30T16:17:53.242Z"
   },
   {
    "duration": 168,
    "start_time": "2023-01-30T16:17:55.102Z"
   },
   {
    "duration": 147,
    "start_time": "2023-01-30T16:17:55.272Z"
   },
   {
    "duration": 174,
    "start_time": "2023-01-30T16:17:55.421Z"
   },
   {
    "duration": 4,
    "start_time": "2023-01-30T16:17:55.597Z"
   },
   {
    "duration": 476,
    "start_time": "2023-01-30T16:17:55.603Z"
   },
   {
    "duration": 2204,
    "start_time": "2023-01-30T16:17:56.082Z"
   },
   {
    "duration": 152,
    "start_time": "2023-01-30T16:17:58.288Z"
   },
   {
    "duration": 1177,
    "start_time": "2023-01-30T16:17:58.443Z"
   },
   {
    "duration": 144,
    "start_time": "2023-01-30T16:17:59.623Z"
   },
   {
    "duration": 141,
    "start_time": "2023-01-30T16:17:59.768Z"
   },
   {
    "duration": 8,
    "start_time": "2023-01-30T16:17:59.912Z"
   },
   {
    "duration": 982,
    "start_time": "2023-01-30T16:17:59.922Z"
   },
   {
    "duration": 0,
    "start_time": "2023-01-30T16:18:00.907Z"
   },
   {
    "duration": 0,
    "start_time": "2023-01-30T16:18:00.908Z"
   },
   {
    "duration": 0,
    "start_time": "2023-01-30T16:18:00.916Z"
   },
   {
    "duration": 0,
    "start_time": "2023-01-30T16:18:00.918Z"
   },
   {
    "duration": 0,
    "start_time": "2023-01-30T16:18:00.919Z"
   },
   {
    "duration": 0,
    "start_time": "2023-01-30T16:18:00.921Z"
   },
   {
    "duration": 12,
    "start_time": "2023-01-30T16:19:05.681Z"
   },
   {
    "duration": 767,
    "start_time": "2023-01-30T16:19:09.096Z"
   },
   {
    "duration": 11,
    "start_time": "2023-01-30T16:19:23.251Z"
   },
   {
    "duration": 1589,
    "start_time": "2023-01-30T16:19:25.183Z"
   },
   {
    "duration": 24,
    "start_time": "2023-01-30T16:19:57.264Z"
   },
   {
    "duration": 1465,
    "start_time": "2023-01-30T16:20:00.978Z"
   },
   {
    "duration": 7784,
    "start_time": "2023-01-30T16:20:10.796Z"
   },
   {
    "duration": 701,
    "start_time": "2023-01-30T16:20:18.583Z"
   },
   {
    "duration": 3339,
    "start_time": "2023-01-30T16:22:02.568Z"
   },
   {
    "duration": 6,
    "start_time": "2023-01-30T16:22:05.909Z"
   },
   {
    "duration": 24714,
    "start_time": "2023-01-30T16:22:05.917Z"
   },
   {
    "duration": 631,
    "start_time": "2023-01-30T16:22:30.633Z"
   },
   {
    "duration": 54,
    "start_time": "2023-01-30T16:22:31.269Z"
   },
   {
    "duration": 129,
    "start_time": "2023-01-30T16:22:31.334Z"
   },
   {
    "duration": 286,
    "start_time": "2023-01-30T16:22:31.469Z"
   },
   {
    "duration": 105,
    "start_time": "2023-01-30T16:22:31.762Z"
   },
   {
    "duration": 139,
    "start_time": "2023-01-30T16:22:31.888Z"
   },
   {
    "duration": 166,
    "start_time": "2023-01-30T16:22:32.033Z"
   },
   {
    "duration": 204,
    "start_time": "2023-01-30T16:22:32.211Z"
   },
   {
    "duration": 51,
    "start_time": "2023-01-30T16:22:32.432Z"
   },
   {
    "duration": 111,
    "start_time": "2023-01-30T16:22:32.500Z"
   },
   {
    "duration": 183,
    "start_time": "2023-01-30T16:22:32.616Z"
   },
   {
    "duration": 280,
    "start_time": "2023-01-30T16:22:32.801Z"
   },
   {
    "duration": 97,
    "start_time": "2023-01-30T16:22:33.086Z"
   },
   {
    "duration": 26,
    "start_time": "2023-01-30T16:22:33.189Z"
   },
   {
    "duration": 101,
    "start_time": "2023-01-30T16:22:33.222Z"
   },
   {
    "duration": 318,
    "start_time": "2023-01-30T16:22:33.329Z"
   },
   {
    "duration": 529,
    "start_time": "2023-01-30T16:22:33.658Z"
   },
   {
    "duration": 3095,
    "start_time": "2023-01-30T16:22:34.192Z"
   },
   {
    "duration": 430,
    "start_time": "2023-01-30T16:22:37.301Z"
   },
   {
    "duration": 318,
    "start_time": "2023-01-30T16:22:37.748Z"
   },
   {
    "duration": 699,
    "start_time": "2023-01-30T16:22:38.068Z"
   },
   {
    "duration": 186,
    "start_time": "2023-01-30T16:22:38.781Z"
   },
   {
    "duration": 883,
    "start_time": "2023-01-30T16:22:38.980Z"
   },
   {
    "duration": 3334,
    "start_time": "2023-01-30T16:22:39.865Z"
   },
   {
    "duration": 448,
    "start_time": "2023-01-30T16:22:43.223Z"
   },
   {
    "duration": 2190,
    "start_time": "2023-01-30T16:22:43.682Z"
   },
   {
    "duration": 161,
    "start_time": "2023-01-30T16:22:45.874Z"
   },
   {
    "duration": 409,
    "start_time": "2023-01-30T16:22:46.046Z"
   },
   {
    "duration": 31,
    "start_time": "2023-01-30T16:22:46.472Z"
   },
   {
    "duration": 1668,
    "start_time": "2023-01-30T16:22:46.512Z"
   },
   {
    "duration": 9284,
    "start_time": "2023-01-30T16:22:48.185Z"
   },
   {
    "duration": 312,
    "start_time": "2023-01-30T16:22:57.475Z"
   },
   {
    "duration": 289,
    "start_time": "2023-01-30T16:22:57.792Z"
   },
   {
    "duration": 281,
    "start_time": "2023-01-30T16:22:58.091Z"
   },
   {
    "duration": 232,
    "start_time": "2023-01-30T16:22:58.374Z"
   },
   {
    "duration": 0,
    "start_time": "2023-01-30T16:22:58.616Z"
   },
   {
    "duration": 30988,
    "start_time": "2023-01-30T16:23:39.611Z"
   },
   {
    "duration": 207937,
    "start_time": "2023-01-30T16:24:56.390Z"
   },
   {
    "duration": 442,
    "start_time": "2023-01-30T16:28:24.735Z"
   },
   {
    "duration": 422,
    "start_time": "2023-01-30T16:28:25.189Z"
   },
   {
    "duration": 351,
    "start_time": "2023-01-30T16:28:25.618Z"
   },
   {
    "duration": 18,
    "start_time": "2023-01-30T16:41:14.789Z"
   },
   {
    "duration": 2395,
    "start_time": "2023-01-30T16:41:25.321Z"
   },
   {
    "duration": 4,
    "start_time": "2023-01-30T16:41:27.720Z"
   },
   {
    "duration": 14481,
    "start_time": "2023-01-30T16:41:27.727Z"
   },
   {
    "duration": 509,
    "start_time": "2023-01-30T16:41:42.209Z"
   },
   {
    "duration": 27,
    "start_time": "2023-01-30T16:41:42.721Z"
   },
   {
    "duration": 158,
    "start_time": "2023-01-30T16:41:42.750Z"
   },
   {
    "duration": 128,
    "start_time": "2023-01-30T16:41:42.911Z"
   },
   {
    "duration": 18,
    "start_time": "2023-01-30T16:41:43.047Z"
   },
   {
    "duration": 85,
    "start_time": "2023-01-30T16:41:43.067Z"
   },
   {
    "duration": 78,
    "start_time": "2023-01-30T16:41:43.155Z"
   },
   {
    "duration": 92,
    "start_time": "2023-01-30T16:41:43.235Z"
   },
   {
    "duration": 13,
    "start_time": "2023-01-30T16:41:43.330Z"
   },
   {
    "duration": 170,
    "start_time": "2023-01-30T16:41:43.346Z"
   },
   {
    "duration": 135,
    "start_time": "2023-01-30T16:41:43.520Z"
   },
   {
    "duration": 190,
    "start_time": "2023-01-30T16:41:43.657Z"
   },
   {
    "duration": 81,
    "start_time": "2023-01-30T16:41:43.852Z"
   },
   {
    "duration": 109,
    "start_time": "2023-01-30T16:41:43.935Z"
   },
   {
    "duration": 65,
    "start_time": "2023-01-30T16:41:44.047Z"
   },
   {
    "duration": 320,
    "start_time": "2023-01-30T16:41:44.120Z"
   },
   {
    "duration": 331,
    "start_time": "2023-01-30T16:41:44.442Z"
   },
   {
    "duration": 2527,
    "start_time": "2023-01-30T16:41:44.775Z"
   },
   {
    "duration": 180,
    "start_time": "2023-01-30T16:41:47.308Z"
   },
   {
    "duration": 174,
    "start_time": "2023-01-30T16:41:47.494Z"
   },
   {
    "duration": 199,
    "start_time": "2023-01-30T16:41:47.677Z"
   },
   {
    "duration": 8,
    "start_time": "2023-01-30T16:41:47.883Z"
   },
   {
    "duration": 512,
    "start_time": "2023-01-30T16:41:47.902Z"
   },
   {
    "duration": 2553,
    "start_time": "2023-01-30T16:41:48.416Z"
   },
   {
    "duration": 296,
    "start_time": "2023-01-30T16:41:50.972Z"
   },
   {
    "duration": 1387,
    "start_time": "2023-01-30T16:41:51.270Z"
   },
   {
    "duration": 149,
    "start_time": "2023-01-30T16:41:52.660Z"
   },
   {
    "duration": 159,
    "start_time": "2023-01-30T16:41:52.813Z"
   },
   {
    "duration": 9,
    "start_time": "2023-01-30T16:41:52.978Z"
   },
   {
    "duration": 1660,
    "start_time": "2023-01-30T16:41:52.993Z"
   },
   {
    "duration": 0,
    "start_time": "2023-01-30T16:41:54.659Z"
   },
   {
    "duration": 0,
    "start_time": "2023-01-30T16:41:54.663Z"
   },
   {
    "duration": 0,
    "start_time": "2023-01-30T16:41:54.668Z"
   },
   {
    "duration": 0,
    "start_time": "2023-01-30T16:41:54.672Z"
   },
   {
    "duration": 0,
    "start_time": "2023-01-30T16:41:54.678Z"
   },
   {
    "duration": 0,
    "start_time": "2023-01-30T16:41:54.684Z"
   },
   {
    "duration": 0,
    "start_time": "2023-01-30T16:41:54.687Z"
   },
   {
    "duration": 0,
    "start_time": "2023-01-30T16:41:54.693Z"
   },
   {
    "duration": 0,
    "start_time": "2023-01-30T16:41:54.695Z"
   },
   {
    "duration": 14,
    "start_time": "2023-01-30T16:43:03.481Z"
   },
   {
    "duration": 12,
    "start_time": "2023-01-30T16:43:12.744Z"
   },
   {
    "duration": 1213,
    "start_time": "2023-01-30T16:43:15.761Z"
   },
   {
    "duration": 8860,
    "start_time": "2023-01-30T16:43:20.623Z"
   },
   {
    "duration": 156780,
    "start_time": "2023-01-30T16:43:29.491Z"
   },
   {
    "duration": 21702,
    "start_time": "2023-01-30T16:46:06.278Z"
   },
   {
    "duration": 306,
    "start_time": "2023-01-30T16:46:27.991Z"
   },
   {
    "duration": 22,
    "start_time": "2023-01-30T16:46:28.305Z"
   },
   {
    "duration": 8,
    "start_time": "2023-01-30T16:47:15.091Z"
   },
   {
    "duration": 22,
    "start_time": "2023-01-30T16:47:23.805Z"
   },
   {
    "duration": 305,
    "start_time": "2023-01-30T16:56:54.210Z"
   },
   {
    "duration": 32,
    "start_time": "2023-01-30T17:01:31.291Z"
   },
   {
    "duration": 10,
    "start_time": "2023-01-30T17:01:47.511Z"
   },
   {
    "duration": 7,
    "start_time": "2023-01-30T17:02:48.030Z"
   },
   {
    "duration": 5,
    "start_time": "2023-01-30T17:05:06.289Z"
   },
   {
    "duration": 7,
    "start_time": "2023-01-30T17:06:09.986Z"
   },
   {
    "duration": 9,
    "start_time": "2023-01-30T17:06:27.168Z"
   },
   {
    "duration": 9,
    "start_time": "2023-01-30T17:06:30.231Z"
   },
   {
    "duration": 7,
    "start_time": "2023-01-30T17:07:40.308Z"
   },
   {
    "duration": 6,
    "start_time": "2023-01-30T17:07:48.541Z"
   },
   {
    "duration": 31,
    "start_time": "2023-01-30T17:08:10.166Z"
   },
   {
    "duration": 25,
    "start_time": "2023-01-30T17:08:15.772Z"
   },
   {
    "duration": 30,
    "start_time": "2023-01-30T17:08:50.033Z"
   },
   {
    "duration": 34,
    "start_time": "2023-01-30T17:08:57.119Z"
   },
   {
    "duration": 20,
    "start_time": "2023-01-30T17:09:07.619Z"
   },
   {
    "duration": 23,
    "start_time": "2023-01-30T17:09:33.404Z"
   },
   {
    "duration": 26,
    "start_time": "2023-01-30T17:09:41.532Z"
   },
   {
    "duration": 31,
    "start_time": "2023-01-30T17:09:49.917Z"
   },
   {
    "duration": 1670,
    "start_time": "2023-01-30T17:10:45.627Z"
   },
   {
    "duration": 80,
    "start_time": "2023-01-30T17:10:55.223Z"
   },
   {
    "duration": 27,
    "start_time": "2023-01-30T17:11:05.216Z"
   },
   {
    "duration": 40,
    "start_time": "2023-01-30T17:11:13.772Z"
   },
   {
    "duration": 28,
    "start_time": "2023-01-30T17:11:19.190Z"
   },
   {
    "duration": 50,
    "start_time": "2023-01-30T17:13:51.074Z"
   },
   {
    "duration": 41,
    "start_time": "2023-01-30T17:14:07.886Z"
   },
   {
    "duration": 1897,
    "start_time": "2023-01-30T17:14:51.790Z"
   },
   {
    "duration": 156,
    "start_time": "2023-01-30T17:15:00.947Z"
   },
   {
    "duration": 214,
    "start_time": "2023-01-30T17:15:03.923Z"
   },
   {
    "duration": 205,
    "start_time": "2023-01-30T17:15:08.395Z"
   },
   {
    "duration": 9,
    "start_time": "2023-01-30T17:15:09.442Z"
   },
   {
    "duration": 8,
    "start_time": "2023-01-30T17:15:13.243Z"
   },
   {
    "duration": 11,
    "start_time": "2023-01-30T17:15:20.477Z"
   },
   {
    "duration": 89,
    "start_time": "2023-01-30T17:15:31.531Z"
   },
   {
    "duration": 31,
    "start_time": "2023-01-30T17:15:41.733Z"
   },
   {
    "duration": 94,
    "start_time": "2023-01-30T17:15:50.808Z"
   },
   {
    "duration": 1851,
    "start_time": "2023-01-30T17:16:21.611Z"
   },
   {
    "duration": 295,
    "start_time": "2023-01-30T17:16:25.489Z"
   },
   {
    "duration": 64,
    "start_time": "2023-01-30T17:16:32.230Z"
   },
   {
    "duration": 84,
    "start_time": "2023-01-30T17:16:57.039Z"
   },
   {
    "duration": 6,
    "start_time": "2023-01-30T17:17:23.160Z"
   },
   {
    "duration": 281,
    "start_time": "2023-01-30T17:17:24.620Z"
   },
   {
    "duration": 1874,
    "start_time": "2023-01-30T17:17:26.930Z"
   },
   {
    "duration": 212,
    "start_time": "2023-01-30T17:17:46.292Z"
   },
   {
    "duration": 1153,
    "start_time": "2023-01-30T17:17:47.771Z"
   },
   {
    "duration": 145,
    "start_time": "2023-01-30T17:17:51.024Z"
   },
   {
    "duration": 126,
    "start_time": "2023-01-30T17:17:54.184Z"
   },
   {
    "duration": 1119,
    "start_time": "2023-01-30T17:17:56.698Z"
   },
   {
    "duration": 6536,
    "start_time": "2023-01-30T17:18:06.377Z"
   },
   {
    "duration": 15836,
    "start_time": "2023-01-30T17:18:14.870Z"
   },
   {
    "duration": 212,
    "start_time": "2023-01-30T17:22:02.048Z"
   },
   {
    "duration": 220,
    "start_time": "2023-01-30T17:22:08.744Z"
   },
   {
    "duration": 220,
    "start_time": "2023-01-30T17:22:09.516Z"
   },
   {
    "duration": 14,
    "start_time": "2023-01-30T17:23:52.281Z"
   },
   {
    "duration": 6340,
    "start_time": "2023-01-30T17:23:57.702Z"
   },
   {
    "duration": 6,
    "start_time": "2023-01-30T17:24:24.233Z"
   },
   {
    "duration": 1878,
    "start_time": "2023-01-30T17:25:25.449Z"
   },
   {
    "duration": 135,
    "start_time": "2023-01-30T17:25:27.330Z"
   },
   {
    "duration": 156,
    "start_time": "2023-01-30T17:25:28.677Z"
   },
   {
    "duration": 8,
    "start_time": "2023-01-30T17:25:32.348Z"
   },
   {
    "duration": 63,
    "start_time": "2023-01-30T17:25:34.051Z"
   },
   {
    "duration": 66,
    "start_time": "2023-01-30T17:25:36.203Z"
   },
   {
    "duration": 4,
    "start_time": "2023-01-30T17:25:42.206Z"
   },
   {
    "duration": 247,
    "start_time": "2023-01-30T17:25:44.570Z"
   },
   {
    "duration": 1505,
    "start_time": "2023-01-30T17:25:47.769Z"
   },
   {
    "duration": 125,
    "start_time": "2023-01-30T17:25:50.771Z"
   },
   {
    "duration": 33,
    "start_time": "2023-01-30T17:25:52.409Z"
   },
   {
    "duration": 1022,
    "start_time": "2023-01-30T17:25:54.610Z"
   },
   {
    "duration": 5,
    "start_time": "2023-01-30T17:25:55.634Z"
   },
   {
    "duration": 4076,
    "start_time": "2023-01-30T17:27:07.736Z"
   },
   {
    "duration": 124,
    "start_time": "2023-01-30T17:27:11.814Z"
   },
   {
    "duration": 7,
    "start_time": "2023-01-30T17:27:14.269Z"
   },
   {
    "duration": 710,
    "start_time": "2023-01-30T17:27:16.387Z"
   },
   {
    "duration": 29,
    "start_time": "2023-01-30T17:27:28.703Z"
   },
   {
    "duration": 543,
    "start_time": "2023-01-30T17:27:29.426Z"
   },
   {
    "duration": 4036,
    "start_time": "2023-01-30T17:27:44.468Z"
   },
   {
    "duration": 132,
    "start_time": "2023-01-30T17:27:52.203Z"
   },
   {
    "duration": 127,
    "start_time": "2023-01-30T17:27:53.836Z"
   },
   {
    "duration": 170,
    "start_time": "2023-01-30T17:27:56.533Z"
   },
   {
    "duration": 7,
    "start_time": "2023-01-30T17:27:58.526Z"
   },
   {
    "duration": 9,
    "start_time": "2023-01-30T17:28:00.263Z"
   },
   {
    "duration": 79,
    "start_time": "2023-01-30T17:28:02.776Z"
   },
   {
    "duration": 29,
    "start_time": "2023-01-30T17:28:12.746Z"
   },
   {
    "duration": 75,
    "start_time": "2023-01-30T17:28:15.245Z"
   },
   {
    "duration": 4,
    "start_time": "2023-01-30T17:28:19.528Z"
   },
   {
    "duration": 255,
    "start_time": "2023-01-30T17:28:20.065Z"
   },
   {
    "duration": 1440,
    "start_time": "2023-01-30T17:28:22.160Z"
   },
   {
    "duration": 163,
    "start_time": "2023-01-30T17:28:31.698Z"
   },
   {
    "duration": 29,
    "start_time": "2023-01-30T17:28:32.783Z"
   },
   {
    "duration": 47,
    "start_time": "2023-01-30T17:28:44.015Z"
   },
   {
    "duration": 966,
    "start_time": "2023-01-30T17:28:56.375Z"
   },
   {
    "duration": 88,
    "start_time": "2023-01-30T17:28:57.389Z"
   },
   {
    "duration": 154,
    "start_time": "2023-01-30T17:28:59.465Z"
   },
   {
    "duration": 10,
    "start_time": "2023-01-30T17:29:01.705Z"
   },
   {
    "duration": 1125,
    "start_time": "2023-01-30T17:29:04.570Z"
   },
   {
    "duration": 6963,
    "start_time": "2023-01-30T17:29:12.142Z"
   },
   {
    "duration": 14504,
    "start_time": "2023-01-30T17:29:20.200Z"
   },
   {
    "duration": 13,
    "start_time": "2023-01-30T17:29:34.710Z"
   },
   {
    "duration": 168,
    "start_time": "2023-01-30T17:29:34.729Z"
   },
   {
    "duration": 90,
    "start_time": "2023-01-30T17:29:34.970Z"
   },
   {
    "duration": 6008,
    "start_time": "2023-01-30T17:29:37.366Z"
   },
   {
    "duration": 5182,
    "start_time": "2023-01-30T17:30:27.186Z"
   },
   {
    "duration": 1777,
    "start_time": "2023-01-30T17:32:11.778Z"
   },
   {
    "duration": 125,
    "start_time": "2023-01-30T17:32:13.643Z"
   },
   {
    "duration": 6,
    "start_time": "2023-01-30T17:38:35.566Z"
   },
   {
    "duration": 5,
    "start_time": "2023-01-30T17:40:08.126Z"
   },
   {
    "duration": 7,
    "start_time": "2023-01-30T17:40:20.725Z"
   },
   {
    "duration": 64,
    "start_time": "2023-01-30T17:42:40.936Z"
   },
   {
    "duration": 6,
    "start_time": "2023-01-30T17:43:06.753Z"
   },
   {
    "duration": 102,
    "start_time": "2023-01-30T17:43:16.320Z"
   },
   {
    "duration": 76,
    "start_time": "2023-01-30T17:43:55.842Z"
   },
   {
    "duration": 143,
    "start_time": "2023-01-30T17:44:02.790Z"
   },
   {
    "duration": 70,
    "start_time": "2023-01-30T17:45:00.838Z"
   },
   {
    "duration": 132,
    "start_time": "2023-01-30T17:45:01.616Z"
   },
   {
    "duration": 589,
    "start_time": "2023-01-30T17:45:55.928Z"
   },
   {
    "duration": 2644,
    "start_time": "2023-01-30T17:46:20.579Z"
   },
   {
    "duration": 45,
    "start_time": "2023-01-30T17:47:49.971Z"
   },
   {
    "duration": 6543,
    "start_time": "2023-01-30T17:49:22.736Z"
   },
   {
    "duration": 16,
    "start_time": "2023-01-30T17:49:32.350Z"
   },
   {
    "duration": 6753,
    "start_time": "2023-01-30T17:49:42.041Z"
   },
   {
    "duration": 165,
    "start_time": "2023-01-30T17:50:27.367Z"
   },
   {
    "duration": 2007,
    "start_time": "2023-01-30T17:50:41.737Z"
   },
   {
    "duration": 5,
    "start_time": "2023-01-30T17:50:43.747Z"
   },
   {
    "duration": 9021,
    "start_time": "2023-01-30T17:50:43.754Z"
   },
   {
    "duration": 234,
    "start_time": "2023-01-30T17:50:52.777Z"
   },
   {
    "duration": 10,
    "start_time": "2023-01-30T17:50:53.013Z"
   },
   {
    "duration": 8,
    "start_time": "2023-01-30T17:50:53.025Z"
   },
   {
    "duration": 56,
    "start_time": "2023-01-30T17:50:53.034Z"
   },
   {
    "duration": 14,
    "start_time": "2023-01-30T17:50:53.092Z"
   },
   {
    "duration": 9,
    "start_time": "2023-01-30T17:50:53.108Z"
   },
   {
    "duration": 12,
    "start_time": "2023-01-30T17:50:53.119Z"
   },
   {
    "duration": 48,
    "start_time": "2023-01-30T17:50:53.132Z"
   },
   {
    "duration": 11,
    "start_time": "2023-01-30T17:50:53.182Z"
   },
   {
    "duration": 9,
    "start_time": "2023-01-30T17:50:53.195Z"
   },
   {
    "duration": 14,
    "start_time": "2023-01-30T17:50:53.205Z"
   },
   {
    "duration": 66,
    "start_time": "2023-01-30T17:50:53.221Z"
   },
   {
    "duration": 14,
    "start_time": "2023-01-30T17:50:53.289Z"
   },
   {
    "duration": 9,
    "start_time": "2023-01-30T17:50:53.305Z"
   },
   {
    "duration": 11,
    "start_time": "2023-01-30T17:50:53.316Z"
   },
   {
    "duration": 257,
    "start_time": "2023-01-30T17:50:53.329Z"
   },
   {
    "duration": 193,
    "start_time": "2023-01-30T17:50:53.588Z"
   },
   {
    "duration": 1592,
    "start_time": "2023-01-30T17:50:53.783Z"
   },
   {
    "duration": 103,
    "start_time": "2023-01-30T17:50:55.377Z"
   },
   {
    "duration": 115,
    "start_time": "2023-01-30T17:50:55.481Z"
   },
   {
    "duration": 122,
    "start_time": "2023-01-30T17:50:55.597Z"
   },
   {
    "duration": 5,
    "start_time": "2023-01-30T17:50:55.721Z"
   },
   {
    "duration": 21,
    "start_time": "2023-01-30T17:50:55.727Z"
   },
   {
    "duration": 74,
    "start_time": "2023-01-30T17:50:55.750Z"
   },
   {
    "duration": 14,
    "start_time": "2023-01-30T17:50:55.828Z"
   },
   {
    "duration": 47,
    "start_time": "2023-01-30T17:50:55.849Z"
   },
   {
    "duration": 3,
    "start_time": "2023-01-30T17:50:55.897Z"
   },
   {
    "duration": 204,
    "start_time": "2023-01-30T17:50:55.902Z"
   },
   {
    "duration": 43,
    "start_time": "2023-01-30T17:50:56.107Z"
   },
   {
    "duration": 1264,
    "start_time": "2023-01-30T17:50:56.153Z"
   },
   {
    "duration": 109,
    "start_time": "2023-01-30T17:50:57.418Z"
   },
   {
    "duration": 732,
    "start_time": "2023-01-30T17:50:57.529Z"
   },
   {
    "duration": 124,
    "start_time": "2023-01-30T17:50:58.264Z"
   },
   {
    "duration": 6,
    "start_time": "2023-01-30T17:50:58.390Z"
   },
   {
    "duration": 7,
    "start_time": "2023-01-30T17:50:58.398Z"
   },
   {
    "duration": 462,
    "start_time": "2023-01-30T17:50:58.407Z"
   },
   {
    "duration": 3826,
    "start_time": "2023-01-30T17:50:58.872Z"
   },
   {
    "duration": 146870,
    "start_time": "2023-01-30T17:51:02.699Z"
   },
   {
    "duration": 11112,
    "start_time": "2023-01-30T17:53:29.571Z"
   },
   {
    "duration": 187,
    "start_time": "2023-01-30T17:53:40.684Z"
   },
   {
    "duration": 7,
    "start_time": "2023-01-30T17:53:40.873Z"
   },
   {
    "duration": 131,
    "start_time": "2023-01-30T17:53:40.882Z"
   },
   {
    "duration": 128,
    "start_time": "2023-01-30T17:53:41.015Z"
   },
   {
    "duration": 138,
    "start_time": "2023-01-30T17:53:41.148Z"
   },
   {
    "duration": 128,
    "start_time": "2023-01-30T17:53:41.288Z"
   },
   {
    "duration": 65,
    "start_time": "2023-01-30T17:53:41.418Z"
   },
   {
    "duration": 3372,
    "start_time": "2023-01-30T17:53:41.485Z"
   },
   {
    "duration": 7,
    "start_time": "2023-01-30T18:01:36.642Z"
   },
   {
    "duration": 403,
    "start_time": "2023-01-30T18:01:38.684Z"
   },
   {
    "duration": 4043,
    "start_time": "2023-01-30T18:01:45.074Z"
   },
   {
    "duration": 9,
    "start_time": "2023-01-30T18:01:49.303Z"
   },
   {
    "duration": 4,
    "start_time": "2023-01-30T18:02:04.877Z"
   },
   {
    "duration": 6,
    "start_time": "2023-01-30T18:02:09.084Z"
   },
   {
    "duration": 5,
    "start_time": "2023-01-30T18:02:14.690Z"
   },
   {
    "duration": 179,
    "start_time": "2023-01-30T18:04:03.628Z"
   },
   {
    "duration": 7,
    "start_time": "2023-01-30T18:04:09.895Z"
   },
   {
    "duration": 429,
    "start_time": "2023-01-30T18:04:12.674Z"
   },
   {
    "duration": 4040,
    "start_time": "2023-01-30T18:04:13.808Z"
   },
   {
    "duration": 115388,
    "start_time": "2023-01-30T18:04:17.851Z"
   },
   {
    "duration": 984,
    "start_time": "2023-01-30T18:06:13.241Z"
   },
   {
    "duration": 0,
    "start_time": "2023-01-30T18:06:14.227Z"
   },
   {
    "duration": 0,
    "start_time": "2023-01-30T18:06:14.229Z"
   },
   {
    "duration": 12073,
    "start_time": "2023-01-30T18:08:11.278Z"
   },
   {
    "duration": 266,
    "start_time": "2023-01-30T18:08:23.354Z"
   },
   {
    "duration": 13,
    "start_time": "2023-01-30T18:08:23.625Z"
   },
   {
    "duration": 5,
    "start_time": "2023-01-30T18:10:57.408Z"
   },
   {
    "duration": 132093,
    "start_time": "2023-01-30T18:13:13.362Z"
   },
   {
    "duration": 1955,
    "start_time": "2023-01-30T18:18:11.386Z"
   },
   {
    "duration": 1447,
    "start_time": "2023-01-30T18:19:26.610Z"
   },
   {
    "duration": 117,
    "start_time": "2023-01-30T18:19:28.059Z"
   },
   {
    "duration": 119,
    "start_time": "2023-01-30T18:19:28.178Z"
   },
   {
    "duration": 152,
    "start_time": "2023-01-30T18:19:28.299Z"
   },
   {
    "duration": 6,
    "start_time": "2023-01-30T18:19:28.454Z"
   },
   {
    "duration": 28,
    "start_time": "2023-01-30T18:19:28.462Z"
   },
   {
    "duration": 68,
    "start_time": "2023-01-30T18:19:28.492Z"
   },
   {
    "duration": 18,
    "start_time": "2023-01-30T18:19:28.562Z"
   },
   {
    "duration": 44,
    "start_time": "2023-01-30T18:19:28.582Z"
   },
   {
    "duration": 3,
    "start_time": "2023-01-30T18:19:28.628Z"
   },
   {
    "duration": 240,
    "start_time": "2023-01-30T18:19:28.632Z"
   },
   {
    "duration": 43,
    "start_time": "2023-01-30T18:19:28.874Z"
   },
   {
    "duration": 912,
    "start_time": "2023-01-30T18:19:28.918Z"
   },
   {
    "duration": 95,
    "start_time": "2023-01-30T18:19:29.833Z"
   },
   {
    "duration": 705,
    "start_time": "2023-01-30T18:19:29.930Z"
   },
   {
    "duration": 111,
    "start_time": "2023-01-30T18:19:30.637Z"
   },
   {
    "duration": 5,
    "start_time": "2023-01-30T18:19:30.750Z"
   },
   {
    "duration": 20,
    "start_time": "2023-01-30T18:19:30.757Z"
   },
   {
    "duration": 380,
    "start_time": "2023-01-30T18:19:30.778Z"
   },
   {
    "duration": 3057,
    "start_time": "2023-01-30T18:19:31.161Z"
   },
   {
    "duration": 106672,
    "start_time": "2023-01-30T18:19:34.221Z"
   },
   {
    "duration": 11413,
    "start_time": "2023-01-30T18:21:20.895Z"
   },
   {
    "duration": 193,
    "start_time": "2023-01-30T18:21:32.310Z"
   },
   {
    "duration": 8,
    "start_time": "2023-01-30T18:21:32.505Z"
   },
   {
    "duration": 8,
    "start_time": "2023-01-30T18:21:32.515Z"
   },
   {
    "duration": 138,
    "start_time": "2023-01-30T18:21:32.525Z"
   },
   {
    "duration": 109291,
    "start_time": "2023-01-30T18:21:32.665Z"
   },
   {
    "duration": 7,
    "start_time": "2023-01-30T18:30:12.946Z"
   },
   {
    "duration": 17,
    "start_time": "2023-01-30T18:30:15.370Z"
   },
   {
    "duration": 11,
    "start_time": "2023-01-30T18:31:02.380Z"
   },
   {
    "duration": 416,
    "start_time": "2023-01-30T18:31:04.822Z"
   },
   {
    "duration": 9,
    "start_time": "2023-01-30T18:31:17.353Z"
   },
   {
    "duration": 454,
    "start_time": "2023-01-30T18:31:19.849Z"
   },
   {
    "duration": 10,
    "start_time": "2023-01-30T18:31:50.848Z"
   },
   {
    "duration": 678,
    "start_time": "2023-01-30T18:31:53.741Z"
   },
   {
    "duration": 3920,
    "start_time": "2023-01-30T18:32:15.192Z"
   },
   {
    "duration": 151,
    "start_time": "2023-01-30T18:33:30.492Z"
   },
   {
    "duration": 626,
    "start_time": "2023-01-30T18:33:32.580Z"
   },
   {
    "duration": 10,
    "start_time": "2023-01-30T18:34:30.394Z"
   },
   {
    "duration": 816,
    "start_time": "2023-01-30T18:34:32.218Z"
   },
   {
    "duration": 14,
    "start_time": "2023-01-30T18:35:18.788Z"
   },
   {
    "duration": 851,
    "start_time": "2023-01-30T18:35:20.597Z"
   },
   {
    "duration": 4584,
    "start_time": "2023-01-30T18:35:34.691Z"
   },
   {
    "duration": 719,
    "start_time": "2023-01-30T18:36:15.846Z"
   },
   {
    "duration": 7,
    "start_time": "2023-01-30T18:36:55.617Z"
   },
   {
    "duration": 687,
    "start_time": "2023-01-30T18:36:58.098Z"
   },
   {
    "duration": 10,
    "start_time": "2023-01-30T18:38:02.117Z"
   },
   {
    "duration": 386,
    "start_time": "2023-01-30T18:38:05.846Z"
   },
   {
    "duration": 4338,
    "start_time": "2023-01-30T18:38:15.249Z"
   },
   {
    "duration": 76483,
    "start_time": "2023-01-30T18:38:52.200Z"
   },
   {
    "duration": 35421,
    "start_time": "2023-01-30T18:42:00.499Z"
   },
   {
    "duration": 50342,
    "start_time": "2023-01-30T18:42:52.178Z"
   },
   {
    "duration": 115,
    "start_time": "2023-01-30T18:50:41.824Z"
   },
   {
    "duration": 143,
    "start_time": "2023-01-30T18:50:50.905Z"
   },
   {
    "duration": 13,
    "start_time": "2023-01-30T18:50:58.092Z"
   },
   {
    "duration": 1918,
    "start_time": "2023-01-30T18:51:11.685Z"
   },
   {
    "duration": 130,
    "start_time": "2023-01-30T18:51:13.606Z"
   },
   {
    "duration": 169,
    "start_time": "2023-01-30T18:51:13.738Z"
   },
   {
    "duration": 161,
    "start_time": "2023-01-30T18:51:13.909Z"
   },
   {
    "duration": 6,
    "start_time": "2023-01-30T18:51:14.074Z"
   },
   {
    "duration": 22,
    "start_time": "2023-01-30T18:51:14.082Z"
   },
   {
    "duration": 87,
    "start_time": "2023-01-30T18:51:14.106Z"
   },
   {
    "duration": 27,
    "start_time": "2023-01-30T18:51:14.195Z"
   },
   {
    "duration": 58,
    "start_time": "2023-01-30T18:51:14.225Z"
   },
   {
    "duration": 4,
    "start_time": "2023-01-30T18:51:14.293Z"
   },
   {
    "duration": 234,
    "start_time": "2023-01-30T18:51:14.299Z"
   },
   {
    "duration": 66,
    "start_time": "2023-01-30T18:51:14.534Z"
   },
   {
    "duration": 1084,
    "start_time": "2023-01-30T18:51:14.602Z"
   },
   {
    "duration": 124,
    "start_time": "2023-01-30T18:51:15.690Z"
   },
   {
    "duration": 823,
    "start_time": "2023-01-30T18:51:15.817Z"
   },
   {
    "duration": 131,
    "start_time": "2023-01-30T18:51:16.642Z"
   },
   {
    "duration": 5,
    "start_time": "2023-01-30T18:51:16.775Z"
   },
   {
    "duration": 30,
    "start_time": "2023-01-30T18:51:16.782Z"
   },
   {
    "duration": 600,
    "start_time": "2023-01-30T18:51:16.815Z"
   },
   {
    "duration": 3577,
    "start_time": "2023-01-30T18:51:17.417Z"
   },
   {
    "duration": 120403,
    "start_time": "2023-01-30T18:51:20.997Z"
   },
   {
    "duration": 50148,
    "start_time": "2023-01-30T18:53:21.402Z"
   },
   {
    "duration": 203,
    "start_time": "2023-01-30T18:54:11.551Z"
   },
   {
    "duration": 16,
    "start_time": "2023-01-30T18:54:11.756Z"
   },
   {
    "duration": 0,
    "start_time": "2023-01-30T18:54:11.773Z"
   },
   {
    "duration": 0,
    "start_time": "2023-01-30T18:54:11.775Z"
   },
   {
    "duration": 0,
    "start_time": "2023-01-30T18:54:11.776Z"
   },
   {
    "duration": 26,
    "start_time": "2023-01-30T18:59:54.571Z"
   },
   {
    "duration": 11,
    "start_time": "2023-01-30T19:00:07.604Z"
   },
   {
    "duration": 8,
    "start_time": "2023-01-30T19:00:34.939Z"
   },
   {
    "duration": 343,
    "start_time": "2023-01-30T19:00:41.601Z"
   },
   {
    "duration": 3450,
    "start_time": "2023-01-30T19:00:41.946Z"
   },
   {
    "duration": 118359,
    "start_time": "2023-01-30T19:00:45.398Z"
   },
   {
    "duration": 183198,
    "start_time": "2023-01-30T19:02:43.771Z"
   },
   {
    "duration": 167,
    "start_time": "2023-01-30T19:05:46.972Z"
   },
   {
    "duration": 11,
    "start_time": "2023-01-30T19:05:47.142Z"
   },
   {
    "duration": 20,
    "start_time": "2023-01-30T19:05:47.155Z"
   },
   {
    "duration": 133,
    "start_time": "2023-01-30T19:05:47.177Z"
   },
   {
    "duration": 108745,
    "start_time": "2023-01-30T19:05:47.311Z"
   },
   {
    "duration": 10,
    "start_time": "2023-01-31T08:51:43.899Z"
   },
   {
    "duration": 44,
    "start_time": "2023-01-31T08:51:47.077Z"
   },
   {
    "duration": 1661,
    "start_time": "2023-01-31T09:04:19.253Z"
   },
   {
    "duration": 4,
    "start_time": "2023-01-31T09:04:20.916Z"
   },
   {
    "duration": 8733,
    "start_time": "2023-01-31T09:04:20.921Z"
   },
   {
    "duration": 238,
    "start_time": "2023-01-31T09:04:29.657Z"
   },
   {
    "duration": 11,
    "start_time": "2023-01-31T09:04:29.897Z"
   },
   {
    "duration": 10,
    "start_time": "2023-01-31T09:04:29.910Z"
   },
   {
    "duration": 49,
    "start_time": "2023-01-31T09:04:29.922Z"
   },
   {
    "duration": 12,
    "start_time": "2023-01-31T09:04:29.973Z"
   },
   {
    "duration": 8,
    "start_time": "2023-01-31T09:04:29.987Z"
   },
   {
    "duration": 34,
    "start_time": "2023-01-31T09:04:29.997Z"
   },
   {
    "duration": 61,
    "start_time": "2023-01-31T09:04:30.032Z"
   },
   {
    "duration": 11,
    "start_time": "2023-01-31T09:04:30.096Z"
   },
   {
    "duration": 15,
    "start_time": "2023-01-31T09:04:30.111Z"
   },
   {
    "duration": 19,
    "start_time": "2023-01-31T09:04:30.128Z"
   },
   {
    "duration": 73,
    "start_time": "2023-01-31T09:04:30.149Z"
   },
   {
    "duration": 12,
    "start_time": "2023-01-31T09:04:30.223Z"
   },
   {
    "duration": 40,
    "start_time": "2023-01-31T09:04:30.237Z"
   },
   {
    "duration": 31,
    "start_time": "2023-01-31T09:04:30.279Z"
   },
   {
    "duration": 289,
    "start_time": "2023-01-31T09:04:30.312Z"
   },
   {
    "duration": 194,
    "start_time": "2023-01-31T09:04:30.603Z"
   },
   {
    "duration": 3895,
    "start_time": "2023-01-31T09:04:30.798Z"
   },
   {
    "duration": 106,
    "start_time": "2023-01-31T09:04:34.694Z"
   },
   {
    "duration": 116,
    "start_time": "2023-01-31T09:04:34.802Z"
   },
   {
    "duration": 121,
    "start_time": "2023-01-31T09:04:34.921Z"
   },
   {
    "duration": 7,
    "start_time": "2023-01-31T09:04:35.043Z"
   },
   {
    "duration": 7,
    "start_time": "2023-01-31T09:04:35.053Z"
   },
   {
    "duration": 80,
    "start_time": "2023-01-31T09:04:35.062Z"
   },
   {
    "duration": 16,
    "start_time": "2023-01-31T09:04:35.146Z"
   },
   {
    "duration": 63,
    "start_time": "2023-01-31T09:04:35.163Z"
   },
   {
    "duration": 4,
    "start_time": "2023-01-31T09:04:35.227Z"
   },
   {
    "duration": 196,
    "start_time": "2023-01-31T09:04:35.232Z"
   },
   {
    "duration": 43,
    "start_time": "2023-01-31T09:04:35.429Z"
   },
   {
    "duration": 1023,
    "start_time": "2023-01-31T09:04:35.474Z"
   },
   {
    "duration": 112,
    "start_time": "2023-01-31T09:04:36.499Z"
   },
   {
    "duration": 733,
    "start_time": "2023-01-31T09:04:36.613Z"
   },
   {
    "duration": 108,
    "start_time": "2023-01-31T09:04:37.348Z"
   },
   {
    "duration": 4,
    "start_time": "2023-01-31T09:04:37.458Z"
   },
   {
    "duration": 8,
    "start_time": "2023-01-31T09:04:37.463Z"
   },
   {
    "duration": 371,
    "start_time": "2023-01-31T09:04:37.493Z"
   },
   {
    "duration": 3363,
    "start_time": "2023-01-31T09:04:37.866Z"
   },
   {
    "duration": 115002,
    "start_time": "2023-01-31T09:04:41.231Z"
   },
   {
    "duration": 182904,
    "start_time": "2023-01-31T09:06:36.236Z"
   },
   {
    "duration": 176,
    "start_time": "2023-01-31T09:09:39.141Z"
   },
   {
    "duration": 8,
    "start_time": "2023-01-31T09:09:39.319Z"
   },
   {
    "duration": 67,
    "start_time": "2023-01-31T09:09:39.329Z"
   },
   {
    "duration": 0,
    "start_time": "2023-01-31T09:09:39.398Z"
   },
   {
    "duration": 0,
    "start_time": "2023-01-31T09:09:39.399Z"
   },
   {
    "duration": 100018,
    "start_time": "2023-01-31T09:13:10.549Z"
   },
   {
    "duration": 24,
    "start_time": "2023-01-31T09:14:50.570Z"
   },
   {
    "duration": 148,
    "start_time": "2023-01-31T09:14:50.595Z"
   },
   {
    "duration": 1763,
    "start_time": "2023-01-31T09:14:50.745Z"
   },
   {
    "duration": 140995,
    "start_time": "2023-01-31T09:15:27.140Z"
   },
   {
    "duration": 21,
    "start_time": "2023-01-31T09:20:16.704Z"
   },
   {
    "duration": 16,
    "start_time": "2023-01-31T09:22:49.103Z"
   },
   {
    "duration": 30,
    "start_time": "2023-01-31T09:23:53.306Z"
   },
   {
    "duration": 134,
    "start_time": "2023-01-31T09:27:55.162Z"
   },
   {
    "duration": 3084,
    "start_time": "2023-01-31T09:28:31.185Z"
   },
   {
    "duration": 98627,
    "start_time": "2023-01-31T09:49:31.810Z"
   },
   {
    "duration": 2205,
    "start_time": "2023-01-31T09:51:29.366Z"
   },
   {
    "duration": 130,
    "start_time": "2023-01-31T09:51:31.572Z"
   },
   {
    "duration": 1599,
    "start_time": "2023-01-31T09:51:48.280Z"
   },
   {
    "duration": 134,
    "start_time": "2023-01-31T09:51:49.881Z"
   },
   {
    "duration": 119,
    "start_time": "2023-01-31T09:51:51.828Z"
   },
   {
    "duration": 148,
    "start_time": "2023-01-31T09:51:58.102Z"
   },
   {
    "duration": 22,
    "start_time": "2023-01-31T09:52:30.020Z"
   },
   {
    "duration": 564,
    "start_time": "2023-01-31T09:56:05.266Z"
   },
   {
    "duration": 595,
    "start_time": "2023-01-31T09:56:51.147Z"
   },
   {
    "duration": 7,
    "start_time": "2023-01-31T09:59:42.626Z"
   },
   {
    "duration": 7,
    "start_time": "2023-01-31T09:59:52.562Z"
   },
   {
    "duration": 8,
    "start_time": "2023-01-31T10:00:06.104Z"
   },
   {
    "duration": 732,
    "start_time": "2023-01-31T10:02:46.140Z"
   },
   {
    "duration": 685,
    "start_time": "2023-01-31T10:03:01.874Z"
   },
   {
    "duration": 672,
    "start_time": "2023-01-31T10:03:26.292Z"
   },
   {
    "duration": 676,
    "start_time": "2023-01-31T10:03:57.782Z"
   },
   {
    "duration": 638,
    "start_time": "2023-01-31T10:04:17.740Z"
   },
   {
    "duration": 660,
    "start_time": "2023-01-31T10:04:30.662Z"
   },
   {
    "duration": 586,
    "start_time": "2023-01-31T10:04:49.218Z"
   },
   {
    "duration": 590,
    "start_time": "2023-01-31T10:04:59.570Z"
   },
   {
    "duration": 595,
    "start_time": "2023-01-31T10:05:47.211Z"
   },
   {
    "duration": 600,
    "start_time": "2023-01-31T10:05:53.411Z"
   },
   {
    "duration": 599,
    "start_time": "2023-01-31T10:05:58.913Z"
   },
   {
    "duration": 597,
    "start_time": "2023-01-31T10:06:16.628Z"
   },
   {
    "duration": 601,
    "start_time": "2023-01-31T10:06:28.066Z"
   },
   {
    "duration": 7,
    "start_time": "2023-01-31T10:06:43.452Z"
   },
   {
    "duration": 6,
    "start_time": "2023-01-31T10:06:56.605Z"
   },
   {
    "duration": 7,
    "start_time": "2023-01-31T10:07:09.208Z"
   },
   {
    "duration": 606,
    "start_time": "2023-01-31T10:07:12.487Z"
   },
   {
    "duration": 582,
    "start_time": "2023-01-31T10:07:59.233Z"
   },
   {
    "duration": 6,
    "start_time": "2023-01-31T10:08:03.680Z"
   },
   {
    "duration": 6,
    "start_time": "2023-01-31T10:08:09.786Z"
   },
   {
    "duration": 753,
    "start_time": "2023-01-31T10:08:30.414Z"
   },
   {
    "duration": 585,
    "start_time": "2023-01-31T10:08:46.975Z"
   },
   {
    "duration": 617,
    "start_time": "2023-01-31T10:09:03.579Z"
   },
   {
    "duration": 228,
    "start_time": "2023-01-31T10:09:16.411Z"
   },
   {
    "duration": 195,
    "start_time": "2023-01-31T10:09:20.279Z"
   },
   {
    "duration": 628,
    "start_time": "2023-01-31T10:09:33.175Z"
   },
   {
    "duration": 643,
    "start_time": "2023-01-31T10:09:41.178Z"
   },
   {
    "duration": 585,
    "start_time": "2023-01-31T10:11:09.330Z"
   },
   {
    "duration": 130,
    "start_time": "2023-01-31T10:12:02.669Z"
   },
   {
    "duration": 946,
    "start_time": "2023-01-31T10:14:09.863Z"
   },
   {
    "duration": 310,
    "start_time": "2023-01-31T10:15:30.466Z"
   },
   {
    "duration": 344,
    "start_time": "2023-01-31T10:15:37.739Z"
   },
   {
    "duration": 116,
    "start_time": "2023-01-31T10:17:06.682Z"
   },
   {
    "duration": 537,
    "start_time": "2023-01-31T10:19:13.125Z"
   },
   {
    "duration": 626,
    "start_time": "2023-01-31T10:19:28.674Z"
   },
   {
    "duration": 817,
    "start_time": "2023-01-31T10:20:25.943Z"
   },
   {
    "duration": 656,
    "start_time": "2023-01-31T10:20:35.331Z"
   },
   {
    "duration": 65,
    "start_time": "2023-01-31T10:22:55.882Z"
   },
   {
    "duration": 1519,
    "start_time": "2023-01-31T10:27:50.416Z"
   },
   {
    "duration": 26,
    "start_time": "2023-01-31T10:28:11.038Z"
   },
   {
    "duration": 109,
    "start_time": "2023-01-31T10:29:03.771Z"
   },
   {
    "duration": 131,
    "start_time": "2023-01-31T10:29:19.447Z"
   },
   {
    "duration": 26,
    "start_time": "2023-01-31T10:29:22.937Z"
   },
   {
    "duration": 396,
    "start_time": "2023-01-31T10:30:00.387Z"
   },
   {
    "duration": 23,
    "start_time": "2023-01-31T10:30:22.620Z"
   },
   {
    "duration": 33,
    "start_time": "2023-01-31T10:45:16.690Z"
   },
   {
    "duration": 24,
    "start_time": "2023-01-31T10:45:18.539Z"
   },
   {
    "duration": 40,
    "start_time": "2023-01-31T10:45:30.622Z"
   },
   {
    "duration": 25,
    "start_time": "2023-01-31T10:45:31.398Z"
   },
   {
    "duration": 41,
    "start_time": "2023-01-31T10:45:45.732Z"
   },
   {
    "duration": 32,
    "start_time": "2023-01-31T10:45:46.421Z"
   },
   {
    "duration": 71,
    "start_time": "2023-01-31T10:47:38.998Z"
   },
   {
    "duration": 21,
    "start_time": "2023-01-31T10:47:39.554Z"
   },
   {
    "duration": 71,
    "start_time": "2023-01-31T10:50:07.500Z"
   },
   {
    "duration": 24,
    "start_time": "2023-01-31T10:50:08.154Z"
   },
   {
    "duration": 67,
    "start_time": "2023-01-31T10:52:48.836Z"
   },
   {
    "duration": 3,
    "start_time": "2023-01-31T10:52:58.896Z"
   },
   {
    "duration": 1487,
    "start_time": "2023-01-31T10:53:47.074Z"
   },
   {
    "duration": 137,
    "start_time": "2023-01-31T10:53:48.564Z"
   },
   {
    "duration": 148,
    "start_time": "2023-01-31T10:54:04.878Z"
   },
   {
    "duration": 5,
    "start_time": "2023-01-31T10:54:06.695Z"
   },
   {
    "duration": 4,
    "start_time": "2023-01-31T10:54:07.878Z"
   },
   {
    "duration": 29,
    "start_time": "2023-01-31T10:54:12.091Z"
   },
   {
    "duration": 53,
    "start_time": "2023-01-31T10:54:16.020Z"
   },
   {
    "duration": 26,
    "start_time": "2023-01-31T10:54:17.078Z"
   },
   {
    "duration": 21,
    "start_time": "2023-01-31T10:54:22.774Z"
   },
   {
    "duration": 55,
    "start_time": "2023-01-31T10:54:24.338Z"
   },
   {
    "duration": 30,
    "start_time": "2023-01-31T10:54:28.699Z"
   },
   {
    "duration": 89,
    "start_time": "2023-01-31T10:54:37.966Z"
   },
   {
    "duration": 3,
    "start_time": "2023-01-31T10:54:46.379Z"
   },
   {
    "duration": 22,
    "start_time": "2023-01-31T10:54:48.011Z"
   },
   {
    "duration": 3,
    "start_time": "2023-01-31T10:54:57.333Z"
   },
   {
    "duration": 200,
    "start_time": "2023-01-31T10:54:57.920Z"
   },
   {
    "duration": 41,
    "start_time": "2023-01-31T10:56:16.581Z"
   },
   {
    "duration": 1845,
    "start_time": "2023-01-31T10:56:17.897Z"
   },
   {
    "duration": 25,
    "start_time": "2023-01-31T10:57:22.429Z"
   },
   {
    "duration": 25,
    "start_time": "2023-01-31T10:59:13.661Z"
   },
   {
    "duration": 62,
    "start_time": "2023-01-31T11:03:39.193Z"
   },
   {
    "duration": 16,
    "start_time": "2023-01-31T11:03:40.178Z"
   },
   {
    "duration": 3,
    "start_time": "2023-01-31T11:03:53.027Z"
   },
   {
    "duration": 40,
    "start_time": "2023-01-31T11:03:55.491Z"
   },
   {
    "duration": 1580,
    "start_time": "2023-01-31T11:03:56.577Z"
   },
   {
    "duration": 100,
    "start_time": "2023-01-31T11:04:25.278Z"
   },
   {
    "duration": 751,
    "start_time": "2023-01-31T11:04:25.714Z"
   },
   {
    "duration": 15,
    "start_time": "2023-01-31T11:04:32.517Z"
   },
   {
    "duration": 0,
    "start_time": "2023-01-31T11:04:32.533Z"
   },
   {
    "duration": 1,
    "start_time": "2023-01-31T11:04:32.534Z"
   },
   {
    "duration": 0,
    "start_time": "2023-01-31T11:04:32.536Z"
   },
   {
    "duration": 0,
    "start_time": "2023-01-31T11:04:32.537Z"
   },
   {
    "duration": 3796,
    "start_time": "2023-01-31T11:04:32.545Z"
   },
   {
    "duration": 2349,
    "start_time": "2023-01-31T11:04:36.343Z"
   },
   {
    "duration": 1582,
    "start_time": "2023-01-31T11:06:54.018Z"
   },
   {
    "duration": 3,
    "start_time": "2023-01-31T11:06:55.603Z"
   },
   {
    "duration": 10280,
    "start_time": "2023-01-31T11:06:55.607Z"
   },
   {
    "duration": 249,
    "start_time": "2023-01-31T11:07:05.889Z"
   },
   {
    "duration": 44,
    "start_time": "2023-01-31T11:07:06.141Z"
   },
   {
    "duration": 45,
    "start_time": "2023-01-31T11:07:06.186Z"
   },
   {
    "duration": 56,
    "start_time": "2023-01-31T11:07:06.233Z"
   },
   {
    "duration": 9,
    "start_time": "2023-01-31T11:07:06.292Z"
   },
   {
    "duration": 258,
    "start_time": "2023-01-31T11:07:06.303Z"
   },
   {
    "duration": 192,
    "start_time": "2023-01-31T11:07:06.563Z"
   },
   {
    "duration": 1620,
    "start_time": "2023-01-31T11:07:06.757Z"
   },
   {
    "duration": 121,
    "start_time": "2023-01-31T11:07:08.379Z"
   },
   {
    "duration": 119,
    "start_time": "2023-01-31T11:07:08.502Z"
   },
   {
    "duration": 145,
    "start_time": "2023-01-31T11:07:08.625Z"
   },
   {
    "duration": 5,
    "start_time": "2023-01-31T11:07:08.772Z"
   },
   {
    "duration": 25,
    "start_time": "2023-01-31T11:07:08.778Z"
   },
   {
    "duration": 36,
    "start_time": "2023-01-31T11:07:08.805Z"
   },
   {
    "duration": 50,
    "start_time": "2023-01-31T11:07:08.843Z"
   },
   {
    "duration": 25,
    "start_time": "2023-01-31T11:07:08.895Z"
   },
   {
    "duration": 34,
    "start_time": "2023-01-31T11:07:08.922Z"
   },
   {
    "duration": 63,
    "start_time": "2023-01-31T11:07:08.958Z"
   },
   {
    "duration": 28,
    "start_time": "2023-01-31T11:07:09.023Z"
   },
   {
    "duration": 148,
    "start_time": "2023-01-31T11:07:09.054Z"
   },
   {
    "duration": 24,
    "start_time": "2023-01-31T11:07:09.204Z"
   },
   {
    "duration": 24,
    "start_time": "2023-01-31T11:07:09.230Z"
   },
   {
    "duration": 88,
    "start_time": "2023-01-31T11:07:09.256Z"
   },
   {
    "duration": 15,
    "start_time": "2023-01-31T11:07:09.345Z"
   },
   {
    "duration": 4,
    "start_time": "2023-01-31T11:07:09.361Z"
   },
   {
    "duration": 232,
    "start_time": "2023-01-31T11:07:09.367Z"
   },
   {
    "duration": 48,
    "start_time": "2023-01-31T11:07:09.601Z"
   },
   {
    "duration": 1626,
    "start_time": "2023-01-31T11:07:09.651Z"
   },
   {
    "duration": 114,
    "start_time": "2023-01-31T11:07:11.280Z"
   },
   {
    "duration": 745,
    "start_time": "2023-01-31T11:07:11.397Z"
   },
   {
    "duration": 119,
    "start_time": "2023-01-31T11:07:12.145Z"
   },
   {
    "duration": 4,
    "start_time": "2023-01-31T11:07:12.266Z"
   },
   {
    "duration": 20,
    "start_time": "2023-01-31T11:07:12.272Z"
   },
   {
    "duration": 437,
    "start_time": "2023-01-31T11:07:12.294Z"
   },
   {
    "duration": 4769,
    "start_time": "2023-01-31T11:07:12.733Z"
   },
   {
    "duration": 2075,
    "start_time": "2023-01-31T11:07:17.504Z"
   },
   {
    "duration": 234262,
    "start_time": "2023-01-31T11:07:19.581Z"
   },
   {
    "duration": 159,
    "start_time": "2023-01-31T11:11:13.847Z"
   },
   {
    "duration": 8,
    "start_time": "2023-01-31T11:11:14.007Z"
   },
   {
    "duration": 16,
    "start_time": "2023-01-31T11:11:14.017Z"
   },
   {
    "duration": 133,
    "start_time": "2023-01-31T11:11:14.035Z"
   },
   {
    "duration": 3155,
    "start_time": "2023-01-31T11:11:14.170Z"
   },
   {
    "duration": 1469,
    "start_time": "2023-01-31T11:11:17.327Z"
   },
   {
    "duration": 0,
    "start_time": "2023-01-31T11:11:18.798Z"
   },
   {
    "duration": 7387,
    "start_time": "2023-01-31T11:12:24.595Z"
   },
   {
    "duration": 112208,
    "start_time": "2023-01-31T11:12:31.984Z"
   },
   {
    "duration": 56203,
    "start_time": "2023-01-31T11:14:24.195Z"
   },
   {
    "duration": 304060,
    "start_time": "2023-01-31T11:15:20.400Z"
   },
   {
    "duration": 0,
    "start_time": "2023-01-31T11:20:24.462Z"
   },
   {
    "duration": 0,
    "start_time": "2023-01-31T11:20:24.464Z"
   },
   {
    "duration": 0,
    "start_time": "2023-01-31T11:20:24.465Z"
   },
   {
    "duration": 63482,
    "start_time": "2023-01-31T11:20:28.416Z"
   },
   {
    "duration": 25455,
    "start_time": "2023-01-31T11:21:31.900Z"
   },
   {
    "duration": 78731,
    "start_time": "2023-01-31T11:21:58.276Z"
   },
   {
    "duration": 3150903,
    "start_time": "2023-01-31T11:23:17.009Z"
   },
   {
    "duration": 1984,
    "start_time": "2023-01-31T12:15:47.914Z"
   },
   {
    "duration": 16,
    "start_time": "2023-01-31T13:23:26.772Z"
   },
   {
    "duration": 127,
    "start_time": "2023-01-31T13:26:25.052Z"
   },
   {
    "duration": 16,
    "start_time": "2023-01-31T13:26:55.910Z"
   },
   {
    "duration": 430,
    "start_time": "2023-01-31T13:27:35.976Z"
   },
   {
    "duration": 12,
    "start_time": "2023-01-31T13:27:43.149Z"
   },
   {
    "duration": 211,
    "start_time": "2023-01-31T13:27:47.097Z"
   },
   {
    "duration": 639,
    "start_time": "2023-01-31T13:30:20.647Z"
   },
   {
    "duration": 7,
    "start_time": "2023-01-31T13:30:27.368Z"
   },
   {
    "duration": 1154,
    "start_time": "2023-01-31T13:31:15.504Z"
   },
   {
    "duration": 7,
    "start_time": "2023-01-31T13:31:23.846Z"
   },
   {
    "duration": 691,
    "start_time": "2023-01-31T13:32:12.471Z"
   },
   {
    "duration": 7,
    "start_time": "2023-01-31T13:32:19.984Z"
   },
   {
    "duration": 7,
    "start_time": "2023-01-31T13:32:32.974Z"
   },
   {
    "duration": 618,
    "start_time": "2023-01-31T13:32:37.185Z"
   },
   {
    "duration": 615,
    "start_time": "2023-01-31T13:32:52.952Z"
   },
   {
    "duration": 2142,
    "start_time": "2023-01-31T13:34:39.937Z"
   },
   {
    "duration": 5033,
    "start_time": "2023-01-31T13:34:55.963Z"
   },
   {
    "duration": 17921,
    "start_time": "2023-01-31T13:35:03.924Z"
   },
   {
    "duration": 17812,
    "start_time": "2023-01-31T13:36:01.088Z"
   },
   {
    "duration": 17815,
    "start_time": "2023-01-31T13:36:27.290Z"
   },
   {
    "duration": 18206,
    "start_time": "2023-01-31T13:37:04.874Z"
   },
   {
    "duration": 17534,
    "start_time": "2023-01-31T13:38:13.614Z"
   },
   {
    "duration": 146,
    "start_time": "2023-01-31T13:38:40.260Z"
   },
   {
    "duration": 9,
    "start_time": "2023-01-31T13:38:44.094Z"
   },
   {
    "duration": 15,
    "start_time": "2023-01-31T13:38:54.642Z"
   },
   {
    "duration": 127,
    "start_time": "2023-01-31T13:39:01.172Z"
   },
   {
    "duration": 10083,
    "start_time": "2023-01-31T13:39:07.820Z"
   },
   {
    "duration": 58,
    "start_time": "2023-01-31T13:40:12.696Z"
   },
   {
    "duration": 15,
    "start_time": "2023-01-31T13:40:13.113Z"
   },
   {
    "duration": 58,
    "start_time": "2023-01-31T13:40:30.269Z"
   },
   {
    "duration": 16,
    "start_time": "2023-01-31T13:40:30.725Z"
   },
   {
    "duration": 47,
    "start_time": "2023-01-31T13:40:46.787Z"
   },
   {
    "duration": 22,
    "start_time": "2023-01-31T13:40:47.248Z"
   },
   {
    "duration": 1477,
    "start_time": "2023-01-31T13:43:30.244Z"
   },
   {
    "duration": 98,
    "start_time": "2023-01-31T13:43:31.724Z"
   },
   {
    "duration": 100,
    "start_time": "2023-01-31T13:43:31.824Z"
   },
   {
    "duration": 120,
    "start_time": "2023-01-31T13:43:31.926Z"
   },
   {
    "duration": 23,
    "start_time": "2023-01-31T13:43:32.049Z"
   },
   {
    "duration": 47,
    "start_time": "2023-01-31T13:43:32.073Z"
   },
   {
    "duration": 16,
    "start_time": "2023-01-31T13:43:32.122Z"
   },
   {
    "duration": 21,
    "start_time": "2023-01-31T13:43:32.139Z"
   },
   {
    "duration": 75,
    "start_time": "2023-01-31T13:43:32.162Z"
   },
   {
    "duration": 24,
    "start_time": "2023-01-31T13:43:32.238Z"
   },
   {
    "duration": 85,
    "start_time": "2023-01-31T13:43:32.264Z"
   },
   {
    "duration": 16,
    "start_time": "2023-01-31T13:43:32.351Z"
   },
   {
    "duration": 45,
    "start_time": "2023-01-31T13:43:32.369Z"
   },
   {
    "duration": 81,
    "start_time": "2023-01-31T13:43:32.418Z"
   },
   {
    "duration": 18,
    "start_time": "2023-01-31T13:43:32.502Z"
   },
   {
    "duration": 4,
    "start_time": "2023-01-31T13:43:32.522Z"
   },
   {
    "duration": 179,
    "start_time": "2023-01-31T13:43:32.528Z"
   },
   {
    "duration": 1065,
    "start_time": "2023-01-31T13:43:32.709Z"
   },
   {
    "duration": 91,
    "start_time": "2023-01-31T13:43:33.777Z"
   },
   {
    "duration": 532,
    "start_time": "2023-01-31T13:43:33.870Z"
   },
   {
    "duration": 118,
    "start_time": "2023-01-31T13:43:34.403Z"
   },
   {
    "duration": 4,
    "start_time": "2023-01-31T13:43:34.523Z"
   },
   {
    "duration": 7,
    "start_time": "2023-01-31T13:43:34.529Z"
   },
   {
    "duration": 321,
    "start_time": "2023-01-31T13:43:34.538Z"
   },
   {
    "duration": 4641,
    "start_time": "2023-01-31T13:43:34.861Z"
   },
   {
    "duration": 28923,
    "start_time": "2023-01-31T13:43:39.504Z"
   },
   {
    "duration": 16193,
    "start_time": "2023-01-31T13:44:08.428Z"
   },
   {
    "duration": 159,
    "start_time": "2023-01-31T13:44:24.623Z"
   },
   {
    "duration": 9,
    "start_time": "2023-01-31T13:44:24.791Z"
   },
   {
    "duration": 16,
    "start_time": "2023-01-31T13:44:24.801Z"
   },
   {
    "duration": 144,
    "start_time": "2023-01-31T13:44:24.819Z"
   },
   {
    "duration": 50432,
    "start_time": "2023-01-31T13:44:24.965Z"
   },
   {
    "duration": 1221,
    "start_time": "2023-01-31T13:45:15.400Z"
   },
   {
    "duration": 0,
    "start_time": "2023-01-31T13:45:16.623Z"
   },
   {
    "duration": 559,
    "start_time": "2023-01-31T13:45:42.113Z"
   },
   {
    "duration": 688,
    "start_time": "2023-01-31T13:45:52.930Z"
   },
   {
    "duration": 516,
    "start_time": "2023-01-31T13:46:15.326Z"
   },
   {
    "duration": 558,
    "start_time": "2023-01-31T13:46:27.248Z"
   },
   {
    "duration": 569,
    "start_time": "2023-01-31T13:46:48.906Z"
   },
   {
    "duration": 552,
    "start_time": "2023-01-31T13:47:15.955Z"
   },
   {
    "duration": 523,
    "start_time": "2023-01-31T13:48:12.144Z"
   },
   {
    "duration": 521,
    "start_time": "2023-01-31T13:48:45.551Z"
   },
   {
    "duration": 500,
    "start_time": "2023-01-31T13:49:00.872Z"
   },
   {
    "duration": 515,
    "start_time": "2023-01-31T13:49:13.608Z"
   },
   {
    "duration": 497,
    "start_time": "2023-01-31T13:49:52.646Z"
   },
   {
    "duration": 511,
    "start_time": "2023-01-31T13:50:30.692Z"
   },
   {
    "duration": 504,
    "start_time": "2023-01-31T13:50:49.490Z"
   },
   {
    "duration": 480,
    "start_time": "2023-01-31T13:51:17.507Z"
   },
   {
    "duration": 41,
    "start_time": "2023-01-31T13:58:30.275Z"
   },
   {
    "duration": 4,
    "start_time": "2023-01-31T13:58:32.607Z"
   },
   {
    "duration": 61,
    "start_time": "2023-01-31T13:58:33.202Z"
   },
   {
    "duration": 26,
    "start_time": "2023-01-31T13:58:34.908Z"
   },
   {
    "duration": 143,
    "start_time": "2023-01-31T13:59:56.412Z"
   },
   {
    "duration": 20,
    "start_time": "2023-01-31T13:59:57.239Z"
   },
   {
    "duration": 3,
    "start_time": "2023-01-31T14:00:59.278Z"
   },
   {
    "duration": 55,
    "start_time": "2023-01-31T14:01:33.623Z"
   },
   {
    "duration": 15,
    "start_time": "2023-01-31T14:01:34.171Z"
   },
   {
    "duration": 1540,
    "start_time": "2023-01-31T14:02:20.006Z"
   },
   {
    "duration": 110,
    "start_time": "2023-01-31T14:02:21.548Z"
   },
   {
    "duration": 105,
    "start_time": "2023-01-31T14:02:21.660Z"
   },
   {
    "duration": 132,
    "start_time": "2023-01-31T14:02:21.767Z"
   },
   {
    "duration": 31,
    "start_time": "2023-01-31T14:02:21.901Z"
   },
   {
    "duration": 13,
    "start_time": "2023-01-31T14:02:21.934Z"
   },
   {
    "duration": 106,
    "start_time": "2023-01-31T14:02:21.949Z"
   },
   {
    "duration": 20,
    "start_time": "2023-01-31T14:02:22.057Z"
   },
   {
    "duration": 135,
    "start_time": "2023-01-31T14:02:22.078Z"
   },
   {
    "duration": 80,
    "start_time": "2023-01-31T14:02:22.215Z"
   },
   {
    "duration": 227,
    "start_time": "2023-01-31T14:02:22.297Z"
   },
   {
    "duration": 76,
    "start_time": "2023-01-31T14:02:22.526Z"
   },
   {
    "duration": 133,
    "start_time": "2023-01-31T14:02:22.604Z"
   },
   {
    "duration": 53,
    "start_time": "2023-01-31T14:02:22.740Z"
   },
   {
    "duration": 404,
    "start_time": "2023-01-31T14:02:22.794Z"
   },
   {
    "duration": 94,
    "start_time": "2023-01-31T14:02:23.200Z"
   },
   {
    "duration": 1428,
    "start_time": "2023-01-31T14:02:23.296Z"
   },
   {
    "duration": 95,
    "start_time": "2023-01-31T14:02:24.726Z"
   },
   {
    "duration": 610,
    "start_time": "2023-01-31T14:02:24.823Z"
   },
   {
    "duration": 108,
    "start_time": "2023-01-31T14:02:25.435Z"
   },
   {
    "duration": 5,
    "start_time": "2023-01-31T14:02:25.545Z"
   },
   {
    "duration": 9,
    "start_time": "2023-01-31T14:02:25.552Z"
   },
   {
    "duration": 339,
    "start_time": "2023-01-31T14:02:25.562Z"
   },
   {
    "duration": 4247,
    "start_time": "2023-01-31T14:02:25.903Z"
   },
   {
    "duration": 52170,
    "start_time": "2023-01-31T14:02:30.152Z"
   },
   {
    "duration": 0,
    "start_time": "2023-01-31T14:03:22.323Z"
   },
   {
    "duration": 0,
    "start_time": "2023-01-31T14:03:22.325Z"
   },
   {
    "duration": 0,
    "start_time": "2023-01-31T14:03:22.326Z"
   },
   {
    "duration": 0,
    "start_time": "2023-01-31T14:03:22.327Z"
   },
   {
    "duration": 0,
    "start_time": "2023-01-31T14:03:22.328Z"
   },
   {
    "duration": 0,
    "start_time": "2023-01-31T14:03:22.329Z"
   },
   {
    "duration": 0,
    "start_time": "2023-01-31T14:03:22.330Z"
   },
   {
    "duration": 0,
    "start_time": "2023-01-31T14:03:22.331Z"
   },
   {
    "duration": 0,
    "start_time": "2023-01-31T14:03:22.393Z"
   },
   {
    "duration": 434,
    "start_time": "2023-01-31T14:03:23.725Z"
   },
   {
    "duration": 1559,
    "start_time": "2023-01-31T14:03:51.789Z"
   },
   {
    "duration": 113,
    "start_time": "2023-01-31T14:03:53.349Z"
   },
   {
    "duration": 119,
    "start_time": "2023-01-31T14:03:53.464Z"
   },
   {
    "duration": 128,
    "start_time": "2023-01-31T14:03:53.592Z"
   },
   {
    "duration": 26,
    "start_time": "2023-01-31T14:03:53.723Z"
   },
   {
    "duration": 3,
    "start_time": "2023-01-31T14:03:53.750Z"
   },
   {
    "duration": 84,
    "start_time": "2023-01-31T14:03:53.755Z"
   },
   {
    "duration": 18,
    "start_time": "2023-01-31T14:03:53.841Z"
   },
   {
    "duration": 79,
    "start_time": "2023-01-31T14:03:53.861Z"
   },
   {
    "duration": 27,
    "start_time": "2023-01-31T14:03:53.941Z"
   },
   {
    "duration": 138,
    "start_time": "2023-01-31T14:03:53.970Z"
   },
   {
    "duration": 29,
    "start_time": "2023-01-31T14:03:54.111Z"
   },
   {
    "duration": 90,
    "start_time": "2023-01-31T14:03:54.142Z"
   },
   {
    "duration": 3,
    "start_time": "2023-01-31T14:03:54.235Z"
   },
   {
    "duration": 187,
    "start_time": "2023-01-31T14:03:54.240Z"
   },
   {
    "duration": 33,
    "start_time": "2023-01-31T14:03:54.429Z"
   },
   {
    "duration": 1024,
    "start_time": "2023-01-31T14:03:54.464Z"
   },
   {
    "duration": 100,
    "start_time": "2023-01-31T14:03:55.492Z"
   },
   {
    "duration": 579,
    "start_time": "2023-01-31T14:03:55.594Z"
   },
   {
    "duration": 123,
    "start_time": "2023-01-31T14:03:56.175Z"
   },
   {
    "duration": 8,
    "start_time": "2023-01-31T14:03:56.300Z"
   },
   {
    "duration": 20,
    "start_time": "2023-01-31T14:03:56.310Z"
   },
   {
    "duration": 383,
    "start_time": "2023-01-31T14:03:56.333Z"
   },
   {
    "duration": 4312,
    "start_time": "2023-01-31T14:03:56.717Z"
   },
   {
    "duration": 52136,
    "start_time": "2023-01-31T14:04:01.031Z"
   },
   {
    "duration": 19098,
    "start_time": "2023-01-31T14:04:53.169Z"
   },
   {
    "duration": 166,
    "start_time": "2023-01-31T14:05:12.270Z"
   },
   {
    "duration": 8,
    "start_time": "2023-01-31T14:05:12.438Z"
   },
   {
    "duration": 18,
    "start_time": "2023-01-31T14:05:12.447Z"
   },
   {
    "duration": 139,
    "start_time": "2023-01-31T14:05:12.467Z"
   },
   {
    "duration": 62896,
    "start_time": "2023-01-31T14:05:12.608Z"
   },
   {
    "duration": 688,
    "start_time": "2023-01-31T14:06:15.506Z"
   },
   {
    "duration": 1245,
    "start_time": "2023-01-31T14:06:16.197Z"
   },
   {
    "duration": 1467,
    "start_time": "2023-01-31T14:11:40.602Z"
   },
   {
    "duration": 93,
    "start_time": "2023-01-31T14:11:42.072Z"
   },
   {
    "duration": 101,
    "start_time": "2023-01-31T14:11:42.167Z"
   },
   {
    "duration": 115,
    "start_time": "2023-01-31T14:11:42.270Z"
   },
   {
    "duration": 25,
    "start_time": "2023-01-31T14:11:42.388Z"
   },
   {
    "duration": 8,
    "start_time": "2023-01-31T14:11:42.415Z"
   },
   {
    "duration": 70,
    "start_time": "2023-01-31T14:11:42.425Z"
   },
   {
    "duration": 15,
    "start_time": "2023-01-31T14:11:42.497Z"
   },
   {
    "duration": 59,
    "start_time": "2023-01-31T14:11:42.514Z"
   },
   {
    "duration": 34,
    "start_time": "2023-01-31T14:11:42.574Z"
   },
   {
    "duration": 112,
    "start_time": "2023-01-31T14:11:42.609Z"
   },
   {
    "duration": 24,
    "start_time": "2023-01-31T14:11:42.723Z"
   },
   {
    "duration": 81,
    "start_time": "2023-01-31T14:11:42.749Z"
   },
   {
    "duration": 3,
    "start_time": "2023-01-31T14:11:42.834Z"
   },
   {
    "duration": 162,
    "start_time": "2023-01-31T14:11:42.839Z"
   },
   {
    "duration": 21,
    "start_time": "2023-01-31T14:11:43.003Z"
   },
   {
    "duration": 1027,
    "start_time": "2023-01-31T14:11:43.026Z"
   },
   {
    "duration": 82,
    "start_time": "2023-01-31T14:11:44.054Z"
   },
   {
    "duration": 508,
    "start_time": "2023-01-31T14:11:44.138Z"
   },
   {
    "duration": 108,
    "start_time": "2023-01-31T14:11:44.648Z"
   },
   {
    "duration": 4,
    "start_time": "2023-01-31T14:11:44.758Z"
   },
   {
    "duration": 20,
    "start_time": "2023-01-31T14:11:44.763Z"
   },
   {
    "duration": 307,
    "start_time": "2023-01-31T14:11:44.785Z"
   },
   {
    "duration": 3530,
    "start_time": "2023-01-31T14:11:45.095Z"
   },
   {
    "duration": 2530,
    "start_time": "2023-01-31T14:11:48.627Z"
   },
   {
    "duration": 17412,
    "start_time": "2023-01-31T14:11:51.158Z"
   },
   {
    "duration": 174,
    "start_time": "2023-01-31T14:12:08.571Z"
   },
   {
    "duration": 8,
    "start_time": "2023-01-31T14:12:08.747Z"
   },
   {
    "duration": 21,
    "start_time": "2023-01-31T14:12:08.757Z"
   },
   {
    "duration": 245,
    "start_time": "2023-01-31T14:12:08.780Z"
   },
   {
    "duration": 469,
    "start_time": "2023-01-31T14:12:09.027Z"
   },
   {
    "duration": 528,
    "start_time": "2023-01-31T14:12:09.498Z"
   },
   {
    "duration": 1154,
    "start_time": "2023-01-31T14:12:10.028Z"
   },
   {
    "duration": 355,
    "start_time": "2023-01-31T14:12:16.827Z"
   },
   {
    "duration": 1031,
    "start_time": "2023-01-31T14:12:29.602Z"
   },
   {
    "duration": 500,
    "start_time": "2023-01-31T14:16:53.573Z"
   },
   {
    "duration": 493,
    "start_time": "2023-01-31T14:19:06.645Z"
   },
   {
    "duration": 157,
    "start_time": "2023-01-31T14:25:43.178Z"
   },
   {
    "duration": 11,
    "start_time": "2023-01-31T14:25:44.232Z"
   },
   {
    "duration": 12,
    "start_time": "2023-01-31T14:25:56.808Z"
   },
   {
    "duration": 1304,
    "start_time": "2023-01-31T14:26:39.491Z"
   },
   {
    "duration": 104,
    "start_time": "2023-01-31T14:26:40.797Z"
   },
   {
    "duration": 102,
    "start_time": "2023-01-31T14:26:40.904Z"
   },
   {
    "duration": 120,
    "start_time": "2023-01-31T14:26:41.008Z"
   },
   {
    "duration": 27,
    "start_time": "2023-01-31T14:26:41.130Z"
   },
   {
    "duration": 3,
    "start_time": "2023-01-31T14:26:41.159Z"
   },
   {
    "duration": 95,
    "start_time": "2023-01-31T14:26:41.164Z"
   },
   {
    "duration": 17,
    "start_time": "2023-01-31T14:26:41.262Z"
   },
   {
    "duration": 67,
    "start_time": "2023-01-31T14:26:41.280Z"
   },
   {
    "duration": 24,
    "start_time": "2023-01-31T14:26:41.349Z"
   },
   {
    "duration": 147,
    "start_time": "2023-01-31T14:26:41.392Z"
   },
   {
    "duration": 25,
    "start_time": "2023-01-31T14:26:41.541Z"
   },
   {
    "duration": 92,
    "start_time": "2023-01-31T14:26:41.568Z"
   },
   {
    "duration": 3,
    "start_time": "2023-01-31T14:26:41.664Z"
   },
   {
    "duration": 150,
    "start_time": "2023-01-31T14:26:41.670Z"
   },
   {
    "duration": 21,
    "start_time": "2023-01-31T14:26:41.822Z"
   },
   {
    "duration": 930,
    "start_time": "2023-01-31T14:26:41.845Z"
   },
   {
    "duration": 74,
    "start_time": "2023-01-31T14:26:42.777Z"
   },
   {
    "duration": 478,
    "start_time": "2023-01-31T14:26:42.853Z"
   },
   {
    "duration": 109,
    "start_time": "2023-01-31T14:26:43.333Z"
   },
   {
    "duration": 4,
    "start_time": "2023-01-31T14:26:43.443Z"
   },
   {
    "duration": 6,
    "start_time": "2023-01-31T14:26:43.449Z"
   },
   {
    "duration": 735,
    "start_time": "2023-01-31T14:26:43.457Z"
   },
   {
    "duration": 4256,
    "start_time": "2023-01-31T14:26:44.195Z"
   },
   {
    "duration": 20359,
    "start_time": "2023-01-31T14:26:48.453Z"
   },
   {
    "duration": 0,
    "start_time": "2023-01-31T14:27:08.814Z"
   },
   {
    "duration": 0,
    "start_time": "2023-01-31T14:27:08.816Z"
   },
   {
    "duration": 0,
    "start_time": "2023-01-31T14:27:08.818Z"
   },
   {
    "duration": 0,
    "start_time": "2023-01-31T14:27:08.819Z"
   },
   {
    "duration": 0,
    "start_time": "2023-01-31T14:27:08.821Z"
   },
   {
    "duration": 0,
    "start_time": "2023-01-31T14:27:08.821Z"
   },
   {
    "duration": 0,
    "start_time": "2023-01-31T14:27:08.823Z"
   },
   {
    "duration": 0,
    "start_time": "2023-01-31T14:27:08.824Z"
   },
   {
    "duration": 0,
    "start_time": "2023-01-31T14:27:08.825Z"
   },
   {
    "duration": 13,
    "start_time": "2023-01-31T14:27:10.493Z"
   },
   {
    "duration": 1316,
    "start_time": "2023-01-31T14:28:16.227Z"
   },
   {
    "duration": 99,
    "start_time": "2023-01-31T14:28:17.546Z"
   },
   {
    "duration": 125,
    "start_time": "2023-01-31T14:28:17.646Z"
   },
   {
    "duration": 125,
    "start_time": "2023-01-31T14:28:17.773Z"
   },
   {
    "duration": 22,
    "start_time": "2023-01-31T14:28:17.900Z"
   },
   {
    "duration": 3,
    "start_time": "2023-01-31T14:28:17.924Z"
   },
   {
    "duration": 75,
    "start_time": "2023-01-31T14:28:17.929Z"
   },
   {
    "duration": 17,
    "start_time": "2023-01-31T14:28:18.006Z"
   },
   {
    "duration": 70,
    "start_time": "2023-01-31T14:28:18.024Z"
   },
   {
    "duration": 23,
    "start_time": "2023-01-31T14:28:18.096Z"
   },
   {
    "duration": 145,
    "start_time": "2023-01-31T14:28:18.121Z"
   },
   {
    "duration": 27,
    "start_time": "2023-01-31T14:28:18.268Z"
   },
   {
    "duration": 79,
    "start_time": "2023-01-31T14:28:18.298Z"
   },
   {
    "duration": 3,
    "start_time": "2023-01-31T14:28:18.380Z"
   },
   {
    "duration": 150,
    "start_time": "2023-01-31T14:28:18.385Z"
   },
   {
    "duration": 21,
    "start_time": "2023-01-31T14:28:18.537Z"
   },
   {
    "duration": 809,
    "start_time": "2023-01-31T14:28:18.559Z"
   },
   {
    "duration": 85,
    "start_time": "2023-01-31T14:28:19.370Z"
   },
   {
    "duration": 476,
    "start_time": "2023-01-31T14:28:19.457Z"
   },
   {
    "duration": 215,
    "start_time": "2023-01-31T14:28:19.935Z"
   },
   {
    "duration": 4,
    "start_time": "2023-01-31T14:28:20.151Z"
   },
   {
    "duration": 14,
    "start_time": "2023-01-31T14:28:20.157Z"
   },
   {
    "duration": 290,
    "start_time": "2023-01-31T14:28:20.173Z"
   },
   {
    "duration": 3329,
    "start_time": "2023-01-31T14:28:20.465Z"
   },
   {
    "duration": 65666,
    "start_time": "2023-01-31T14:28:23.796Z"
   },
   {
    "duration": 16431,
    "start_time": "2023-01-31T14:29:29.464Z"
   },
   {
    "duration": 224,
    "start_time": "2023-01-31T14:29:45.898Z"
   },
   {
    "duration": 12,
    "start_time": "2023-01-31T14:29:46.124Z"
   },
   {
    "duration": 35,
    "start_time": "2023-01-31T14:29:46.138Z"
   },
   {
    "duration": 150,
    "start_time": "2023-01-31T14:29:46.176Z"
   },
   {
    "duration": 28779,
    "start_time": "2023-01-31T14:29:46.328Z"
   },
   {
    "duration": 1482,
    "start_time": "2023-01-31T14:30:15.109Z"
   },
   {
    "duration": 0,
    "start_time": "2023-01-31T14:30:16.593Z"
   },
   {
    "duration": 552,
    "start_time": "2023-01-31T14:32:42.442Z"
   },
   {
    "duration": 467,
    "start_time": "2023-01-31T14:32:49.838Z"
   },
   {
    "duration": 497,
    "start_time": "2023-01-31T14:33:06.889Z"
   },
   {
    "duration": 504,
    "start_time": "2023-01-31T14:36:02.539Z"
   },
   {
    "duration": 485,
    "start_time": "2023-01-31T14:36:58.821Z"
   },
   {
    "duration": 1662,
    "start_time": "2023-01-31T14:38:38.910Z"
   },
   {
    "duration": 4,
    "start_time": "2023-01-31T14:38:40.574Z"
   },
   {
    "duration": 8494,
    "start_time": "2023-01-31T14:38:40.580Z"
   },
   {
    "duration": 223,
    "start_time": "2023-01-31T14:38:49.076Z"
   },
   {
    "duration": 42,
    "start_time": "2023-01-31T14:38:49.301Z"
   },
   {
    "duration": 43,
    "start_time": "2023-01-31T14:38:49.345Z"
   },
   {
    "duration": 50,
    "start_time": "2023-01-31T14:38:49.390Z"
   },
   {
    "duration": 6,
    "start_time": "2023-01-31T14:38:49.441Z"
   },
   {
    "duration": 261,
    "start_time": "2023-01-31T14:38:49.449Z"
   },
   {
    "duration": 216,
    "start_time": "2023-01-31T14:38:49.712Z"
   },
   {
    "duration": 3501,
    "start_time": "2023-01-31T14:38:49.930Z"
   },
   {
    "duration": 94,
    "start_time": "2023-01-31T14:38:53.433Z"
   },
   {
    "duration": 96,
    "start_time": "2023-01-31T14:38:53.529Z"
   },
   {
    "duration": 114,
    "start_time": "2023-01-31T14:38:53.628Z"
   },
   {
    "duration": 26,
    "start_time": "2023-01-31T14:38:53.744Z"
   },
   {
    "duration": 24,
    "start_time": "2023-01-31T14:38:53.771Z"
   },
   {
    "duration": 68,
    "start_time": "2023-01-31T14:38:53.797Z"
   },
   {
    "duration": 16,
    "start_time": "2023-01-31T14:38:53.867Z"
   },
   {
    "duration": 61,
    "start_time": "2023-01-31T14:38:53.885Z"
   },
   {
    "duration": 23,
    "start_time": "2023-01-31T14:38:53.948Z"
   },
   {
    "duration": 101,
    "start_time": "2023-01-31T14:38:53.973Z"
   },
   {
    "duration": 24,
    "start_time": "2023-01-31T14:38:54.076Z"
   },
   {
    "duration": 95,
    "start_time": "2023-01-31T14:38:54.102Z"
   },
   {
    "duration": 3,
    "start_time": "2023-01-31T14:38:54.199Z"
   },
   {
    "duration": 174,
    "start_time": "2023-01-31T14:38:54.203Z"
   },
   {
    "duration": 28,
    "start_time": "2023-01-31T14:38:54.378Z"
   },
   {
    "duration": 1102,
    "start_time": "2023-01-31T14:38:54.407Z"
   },
   {
    "duration": 90,
    "start_time": "2023-01-31T14:38:55.511Z"
   },
   {
    "duration": 570,
    "start_time": "2023-01-31T14:38:55.603Z"
   },
   {
    "duration": 148,
    "start_time": "2023-01-31T14:38:56.175Z"
   },
   {
    "duration": 4,
    "start_time": "2023-01-31T14:38:56.325Z"
   },
   {
    "duration": 26,
    "start_time": "2023-01-31T14:38:56.331Z"
   },
   {
    "duration": 5489,
    "start_time": "2023-01-31T14:38:56.359Z"
   },
   {
    "duration": 320,
    "start_time": "2023-01-31T14:39:01.850Z"
   },
   {
    "duration": 88474,
    "start_time": "2023-01-31T14:39:02.172Z"
   },
   {
    "duration": 3445,
    "start_time": "2023-01-31T14:40:30.647Z"
   },
   {
    "duration": 67600,
    "start_time": "2023-01-31T14:40:34.094Z"
   },
   {
    "duration": 765,
    "start_time": "2023-01-31T14:41:41.697Z"
   },
   {
    "duration": 2809536,
    "start_time": "2023-01-31T14:41:42.463Z"
   },
   {
    "duration": 15818,
    "start_time": "2023-01-31T15:28:32.000Z"
   },
   {
    "duration": 171,
    "start_time": "2023-01-31T15:28:47.821Z"
   },
   {
    "duration": 8,
    "start_time": "2023-01-31T15:28:47.993Z"
   },
   {
    "duration": 25,
    "start_time": "2023-01-31T15:28:48.003Z"
   },
   {
    "duration": 120,
    "start_time": "2023-01-31T15:28:48.030Z"
   },
   {
    "duration": 540,
    "start_time": "2023-01-31T15:28:48.152Z"
   },
   {
    "duration": 485,
    "start_time": "2023-01-31T15:28:48.694Z"
   },
   {
    "duration": 1301,
    "start_time": "2023-01-31T15:28:49.181Z"
   },
   {
    "duration": 487,
    "start_time": "2023-01-31T15:47:10.170Z"
   },
   {
    "duration": 496,
    "start_time": "2023-01-31T15:53:55.274Z"
   },
   {
    "duration": 572,
    "start_time": "2023-01-31T15:54:15.814Z"
   },
   {
    "duration": 642,
    "start_time": "2023-01-31T16:02:45.153Z"
   },
   {
    "duration": 458,
    "start_time": "2023-01-31T16:02:57.481Z"
   },
   {
    "duration": 589,
    "start_time": "2023-01-31T16:03:01.736Z"
   },
   {
    "duration": 483,
    "start_time": "2023-01-31T16:03:17.871Z"
   },
   {
    "duration": 480,
    "start_time": "2023-01-31T16:03:28.957Z"
   },
   {
    "duration": 500,
    "start_time": "2023-01-31T16:04:01.622Z"
   },
   {
    "duration": 307,
    "start_time": "2023-01-31T16:24:48.846Z"
   },
   {
    "duration": 4627,
    "start_time": "2023-01-31T16:24:53.635Z"
   },
   {
    "duration": 8,
    "start_time": "2023-01-31T16:25:22.820Z"
   },
   {
    "duration": 9,
    "start_time": "2023-01-31T16:26:19.005Z"
   },
   {
    "duration": 11,
    "start_time": "2023-01-31T16:26:47.190Z"
   },
   {
    "duration": 2010,
    "start_time": "2023-02-01T12:20:46.525Z"
   },
   {
    "duration": 4,
    "start_time": "2023-02-01T12:20:48.537Z"
   },
   {
    "duration": 8656,
    "start_time": "2023-02-01T12:20:48.543Z"
   },
   {
    "duration": 44,
    "start_time": "2023-02-01T12:20:57.201Z"
   },
   {
    "duration": 15,
    "start_time": "2023-02-01T12:20:57.247Z"
   },
   {
    "duration": 21,
    "start_time": "2023-02-01T12:20:57.264Z"
   },
   {
    "duration": 21,
    "start_time": "2023-02-01T12:20:57.287Z"
   },
   {
    "duration": 224,
    "start_time": "2023-02-01T12:20:57.309Z"
   },
   {
    "duration": 240,
    "start_time": "2023-02-01T12:20:57.535Z"
   },
   {
    "duration": 3727,
    "start_time": "2023-02-01T12:20:57.778Z"
   },
   {
    "duration": 107,
    "start_time": "2023-02-01T12:21:01.507Z"
   },
   {
    "duration": 107,
    "start_time": "2023-02-01T12:21:01.616Z"
   },
   {
    "duration": 238,
    "start_time": "2023-02-01T12:21:01.726Z"
   },
   {
    "duration": 35,
    "start_time": "2023-02-01T12:21:01.968Z"
   },
   {
    "duration": 16,
    "start_time": "2023-02-01T12:21:02.004Z"
   },
   {
    "duration": 160,
    "start_time": "2023-02-01T12:21:02.022Z"
   },
   {
    "duration": 15,
    "start_time": "2023-02-01T12:21:02.183Z"
   },
   {
    "duration": 74,
    "start_time": "2023-02-01T12:21:02.200Z"
   },
   {
    "duration": 22,
    "start_time": "2023-02-01T12:21:02.276Z"
   },
   {
    "duration": 124,
    "start_time": "2023-02-01T12:21:02.300Z"
   },
   {
    "duration": 29,
    "start_time": "2023-02-01T12:21:02.426Z"
   },
   {
    "duration": 61,
    "start_time": "2023-02-01T12:21:02.457Z"
   },
   {
    "duration": 2,
    "start_time": "2023-02-01T12:21:02.520Z"
   },
   {
    "duration": 169,
    "start_time": "2023-02-01T12:21:02.524Z"
   },
   {
    "duration": 27,
    "start_time": "2023-02-01T12:21:02.695Z"
   },
   {
    "duration": 1289,
    "start_time": "2023-02-01T12:21:02.724Z"
   },
   {
    "duration": 83,
    "start_time": "2023-02-01T12:21:04.014Z"
   },
   {
    "duration": 542,
    "start_time": "2023-02-01T12:21:04.098Z"
   },
   {
    "duration": 126,
    "start_time": "2023-02-01T12:21:04.642Z"
   },
   {
    "duration": 5,
    "start_time": "2023-02-01T12:21:04.770Z"
   },
   {
    "duration": 15,
    "start_time": "2023-02-01T12:21:04.777Z"
   },
   {
    "duration": 5826,
    "start_time": "2023-02-01T12:21:04.794Z"
   },
   {
    "duration": 328,
    "start_time": "2023-02-01T12:21:10.621Z"
   },
   {
    "duration": 89396,
    "start_time": "2023-02-01T12:21:10.951Z"
   },
   {
    "duration": 5123,
    "start_time": "2023-02-01T12:22:40.349Z"
   },
   {
    "duration": 149568,
    "start_time": "2023-02-01T12:22:45.473Z"
   },
   {
    "duration": 769,
    "start_time": "2023-02-01T12:25:15.043Z"
   },
   {
    "duration": 11,
    "start_time": "2023-02-01T17:15:45.834Z"
   },
   {
    "duration": 1889,
    "start_time": "2023-02-01T17:16:08.743Z"
   },
   {
    "duration": 5,
    "start_time": "2023-02-01T17:30:46.595Z"
   },
   {
    "duration": 149,
    "start_time": "2023-02-01T17:46:48.723Z"
   },
   {
    "duration": 4,
    "start_time": "2023-02-01T17:46:54.882Z"
   },
   {
    "duration": 4,
    "start_time": "2023-02-01T17:46:57.923Z"
   },
   {
    "duration": 8005,
    "start_time": "2023-02-01T17:46:59.236Z"
   },
   {
    "duration": 487,
    "start_time": "2023-02-01T17:47:13.708Z"
   },
   {
    "duration": 330,
    "start_time": "2023-02-01T17:47:21.430Z"
   },
   {
    "duration": 323,
    "start_time": "2023-02-01T17:49:37.450Z"
   },
   {
    "duration": 335,
    "start_time": "2023-02-01T17:49:42.189Z"
   },
   {
    "duration": 156,
    "start_time": "2023-02-01T17:50:13.684Z"
   },
   {
    "duration": 136,
    "start_time": "2023-02-01T17:50:31.207Z"
   },
   {
    "duration": 140,
    "start_time": "2023-02-01T17:50:50.363Z"
   },
   {
    "duration": 139,
    "start_time": "2023-02-01T17:50:53.581Z"
   },
   {
    "duration": 166,
    "start_time": "2023-02-01T17:51:09.812Z"
   },
   {
    "duration": 325,
    "start_time": "2023-02-01T17:51:25.735Z"
   },
   {
    "duration": 329,
    "start_time": "2023-02-01T17:51:51.504Z"
   },
   {
    "duration": 337,
    "start_time": "2023-02-01T17:52:01.992Z"
   },
   {
    "duration": 327,
    "start_time": "2023-02-01T17:52:17.335Z"
   },
   {
    "duration": 329,
    "start_time": "2023-02-01T18:09:23.769Z"
   },
   {
    "duration": 338,
    "start_time": "2023-02-01T18:09:53.150Z"
   },
   {
    "duration": 330,
    "start_time": "2023-02-01T18:11:50.585Z"
   },
   {
    "duration": 329,
    "start_time": "2023-02-01T18:12:11.402Z"
   },
   {
    "duration": 128,
    "start_time": "2023-02-01T18:12:33.934Z"
   },
   {
    "duration": 247,
    "start_time": "2023-02-01T18:12:37.851Z"
   },
   {
    "duration": 263,
    "start_time": "2023-02-01T18:12:45.612Z"
   },
   {
    "duration": 155,
    "start_time": "2023-02-01T18:13:14.828Z"
   },
   {
    "duration": 150,
    "start_time": "2023-02-01T18:13:20.449Z"
   },
   {
    "duration": 177,
    "start_time": "2023-02-01T18:14:19.455Z"
   },
   {
    "duration": 187,
    "start_time": "2023-02-01T18:14:51.311Z"
   },
   {
    "duration": 31,
    "start_time": "2023-02-01T18:16:32.316Z"
   },
   {
    "duration": 247,
    "start_time": "2023-02-01T18:17:10.567Z"
   },
   {
    "duration": 209,
    "start_time": "2023-02-01T18:17:15.168Z"
   },
   {
    "duration": 199,
    "start_time": "2023-02-01T18:17:51.218Z"
   },
   {
    "duration": 178,
    "start_time": "2023-02-01T18:17:56.008Z"
   },
   {
    "duration": 222,
    "start_time": "2023-02-01T18:17:58.185Z"
   },
   {
    "duration": 21,
    "start_time": "2023-02-01T18:18:09.096Z"
   },
   {
    "duration": 262,
    "start_time": "2023-02-01T18:18:23.309Z"
   },
   {
    "duration": 178,
    "start_time": "2023-02-01T18:18:36.954Z"
   },
   {
    "duration": 96,
    "start_time": "2023-02-01T18:19:48.954Z"
   },
   {
    "duration": 180,
    "start_time": "2023-02-01T18:19:52.785Z"
   },
   {
    "duration": 193,
    "start_time": "2023-02-01T18:21:05.863Z"
   },
   {
    "duration": 180,
    "start_time": "2023-02-01T18:21:49.869Z"
   },
   {
    "duration": 177,
    "start_time": "2023-02-01T18:21:57.146Z"
   },
   {
    "duration": 184,
    "start_time": "2023-02-01T18:21:59.512Z"
   },
   {
    "duration": 185,
    "start_time": "2023-02-01T18:26:44.982Z"
   },
   {
    "duration": 11765,
    "start_time": "2023-02-01T18:31:15.840Z"
   },
   {
    "duration": 169,
    "start_time": "2023-02-01T18:34:13.167Z"
   },
   {
    "duration": 188,
    "start_time": "2023-02-01T18:34:30.000Z"
   },
   {
    "duration": 169,
    "start_time": "2023-02-01T18:34:36.224Z"
   },
   {
    "duration": 168,
    "start_time": "2023-02-01T18:34:40.548Z"
   },
   {
    "duration": 179,
    "start_time": "2023-02-01T18:35:05.125Z"
   },
   {
    "duration": 130,
    "start_time": "2023-02-01T18:35:36.568Z"
   },
   {
    "duration": 111,
    "start_time": "2023-02-01T18:35:38.764Z"
   },
   {
    "duration": 122,
    "start_time": "2023-02-01T18:36:21.520Z"
   },
   {
    "duration": 106,
    "start_time": "2023-02-01T18:36:46.341Z"
   },
   {
    "duration": 6908,
    "start_time": "2023-02-01T18:37:33.079Z"
   },
   {
    "duration": 100,
    "start_time": "2023-02-01T18:37:41.616Z"
   },
   {
    "duration": 8203,
    "start_time": "2023-02-01T18:38:11.814Z"
   },
   {
    "duration": 604,
    "start_time": "2023-02-01T18:38:37.663Z"
   },
   {
    "duration": 840,
    "start_time": "2023-02-01T18:39:38.215Z"
   },
   {
    "duration": 1155,
    "start_time": "2023-02-01T18:40:04.337Z"
   },
   {
    "duration": 1520,
    "start_time": "2023-02-01T18:40:46.559Z"
   },
   {
    "duration": 127,
    "start_time": "2023-02-01T18:40:52.485Z"
   },
   {
    "duration": 1056,
    "start_time": "2023-02-01T18:41:07.454Z"
   },
   {
    "duration": 1079,
    "start_time": "2023-02-01T18:41:34.428Z"
   },
   {
    "duration": 1011,
    "start_time": "2023-02-01T18:41:41.395Z"
   },
   {
    "duration": 146,
    "start_time": "2023-02-01T18:42:31.860Z"
   },
   {
    "duration": 876,
    "start_time": "2023-02-01T18:43:05.445Z"
   },
   {
    "duration": 1024,
    "start_time": "2023-02-01T18:43:51.625Z"
   },
   {
    "duration": 140,
    "start_time": "2023-02-01T18:44:44.530Z"
   },
   {
    "duration": 912,
    "start_time": "2023-02-01T18:46:56.530Z"
   },
   {
    "duration": 773,
    "start_time": "2023-02-01T18:47:10.120Z"
   },
   {
    "duration": 189,
    "start_time": "2023-02-01T18:47:54.151Z"
   },
   {
    "duration": 719,
    "start_time": "2023-02-01T18:48:10.207Z"
   },
   {
    "duration": 550,
    "start_time": "2023-02-01T18:52:44.341Z"
   },
   {
    "duration": 172,
    "start_time": "2023-02-01T18:53:01.163Z"
   },
   {
    "duration": 149,
    "start_time": "2023-02-01T18:53:11.776Z"
   },
   {
    "duration": 697,
    "start_time": "2023-02-01T18:53:37.734Z"
   },
   {
    "duration": 138,
    "start_time": "2023-02-01T18:54:39.998Z"
   },
   {
    "duration": 136,
    "start_time": "2023-02-01T18:55:14.113Z"
   },
   {
    "duration": 182,
    "start_time": "2023-02-01T18:55:18.757Z"
   },
   {
    "duration": 146,
    "start_time": "2023-02-01T18:55:30.650Z"
   },
   {
    "duration": 484,
    "start_time": "2023-02-01T18:55:45.245Z"
   },
   {
    "duration": 490,
    "start_time": "2023-02-01T18:56:31.431Z"
   },
   {
    "duration": 482,
    "start_time": "2023-02-01T18:56:40.735Z"
   },
   {
    "duration": 475,
    "start_time": "2023-02-01T18:57:56.100Z"
   },
   {
    "duration": 504,
    "start_time": "2023-02-01T19:00:00.085Z"
   },
   {
    "duration": 495,
    "start_time": "2023-02-01T19:00:11.104Z"
   },
   {
    "duration": 11,
    "start_time": "2023-02-01T19:07:40.793Z"
   },
   {
    "duration": 3464,
    "start_time": "2023-02-01T19:07:45.578Z"
   },
   {
    "duration": 12,
    "start_time": "2023-02-01T19:07:49.246Z"
   },
   {
    "duration": 153,
    "start_time": "2023-02-01T19:07:59.875Z"
   },
   {
    "duration": 92,
    "start_time": "2023-02-01T19:08:15.576Z"
   },
   {
    "duration": 103,
    "start_time": "2023-02-01T19:08:17.289Z"
   },
   {
    "duration": 111,
    "start_time": "2023-02-01T19:08:19.616Z"
   },
   {
    "duration": 144,
    "start_time": "2023-02-01T19:08:20.670Z"
   },
   {
    "duration": 1538,
    "start_time": "2023-02-01T19:08:38.294Z"
   },
   {
    "duration": 103,
    "start_time": "2023-02-01T19:08:46.081Z"
   },
   {
    "duration": 100,
    "start_time": "2023-02-01T19:08:49.096Z"
   },
   {
    "duration": 132,
    "start_time": "2023-02-01T19:08:51.347Z"
   },
   {
    "duration": 210,
    "start_time": "2023-02-01T19:08:52.017Z"
   },
   {
    "duration": 3731,
    "start_time": "2023-02-01T19:09:23.901Z"
   },
   {
    "duration": 121,
    "start_time": "2023-02-01T19:09:27.637Z"
   },
   {
    "duration": 129,
    "start_time": "2023-02-01T19:09:28.510Z"
   },
   {
    "duration": 156,
    "start_time": "2023-02-01T19:09:29.800Z"
   },
   {
    "duration": 221,
    "start_time": "2023-02-01T19:09:30.171Z"
   },
   {
    "duration": 24,
    "start_time": "2023-02-01T19:10:10.502Z"
   },
   {
    "duration": 154,
    "start_time": "2023-02-01T19:12:18.821Z"
   },
   {
    "duration": 1753,
    "start_time": "2023-02-02T10:59:26.127Z"
   },
   {
    "duration": 4,
    "start_time": "2023-02-02T10:59:27.882Z"
   },
   {
    "duration": 8287,
    "start_time": "2023-02-02T10:59:27.888Z"
   },
   {
    "duration": 50,
    "start_time": "2023-02-02T10:59:36.178Z"
   },
   {
    "duration": 11,
    "start_time": "2023-02-02T10:59:36.230Z"
   },
   {
    "duration": 22,
    "start_time": "2023-02-02T10:59:36.243Z"
   },
   {
    "duration": 24,
    "start_time": "2023-02-02T10:59:36.267Z"
   },
   {
    "duration": 214,
    "start_time": "2023-02-02T10:59:36.293Z"
   },
   {
    "duration": 284,
    "start_time": "2023-02-02T10:59:36.508Z"
   },
   {
    "duration": 295,
    "start_time": "2023-02-02T10:59:36.795Z"
   },
   {
    "duration": 143,
    "start_time": "2023-02-02T10:59:37.091Z"
   },
   {
    "duration": 183,
    "start_time": "2023-02-02T10:59:37.236Z"
   },
   {
    "duration": 462,
    "start_time": "2023-02-02T10:59:37.420Z"
   },
   {
    "duration": 1180,
    "start_time": "2023-02-02T10:59:37.884Z"
   },
   {
    "duration": 100,
    "start_time": "2023-02-02T10:59:39.065Z"
   },
   {
    "duration": 103,
    "start_time": "2023-02-02T10:59:39.167Z"
   },
   {
    "duration": 132,
    "start_time": "2023-02-02T10:59:39.273Z"
   },
   {
    "duration": 170,
    "start_time": "2023-02-02T10:59:39.407Z"
   },
   {
    "duration": 36,
    "start_time": "2023-02-02T10:59:39.583Z"
   },
   {
    "duration": 28,
    "start_time": "2023-02-02T10:59:39.622Z"
   },
   {
    "duration": 4,
    "start_time": "2023-02-02T10:59:39.652Z"
   },
   {
    "duration": 102,
    "start_time": "2023-02-02T10:59:39.657Z"
   },
   {
    "duration": 25,
    "start_time": "2023-02-02T10:59:39.761Z"
   },
   {
    "duration": 72,
    "start_time": "2023-02-02T10:59:39.788Z"
   },
   {
    "duration": 44,
    "start_time": "2023-02-02T10:59:39.863Z"
   },
   {
    "duration": 149,
    "start_time": "2023-02-02T10:59:39.913Z"
   },
   {
    "duration": 24,
    "start_time": "2023-02-02T10:59:40.064Z"
   },
   {
    "duration": 69,
    "start_time": "2023-02-02T10:59:40.092Z"
   },
   {
    "duration": 4,
    "start_time": "2023-02-02T10:59:40.163Z"
   },
   {
    "duration": 163,
    "start_time": "2023-02-02T10:59:40.169Z"
   },
   {
    "duration": 23,
    "start_time": "2023-02-02T10:59:40.334Z"
   },
   {
    "duration": 1182,
    "start_time": "2023-02-02T10:59:40.359Z"
   },
   {
    "duration": 83,
    "start_time": "2023-02-02T10:59:41.542Z"
   },
   {
    "duration": 577,
    "start_time": "2023-02-02T10:59:41.627Z"
   },
   {
    "duration": 0,
    "start_time": "2023-02-02T10:59:42.205Z"
   },
   {
    "duration": 0,
    "start_time": "2023-02-02T10:59:42.206Z"
   },
   {
    "duration": 0,
    "start_time": "2023-02-02T10:59:42.208Z"
   },
   {
    "duration": 0,
    "start_time": "2023-02-02T10:59:42.209Z"
   },
   {
    "duration": 0,
    "start_time": "2023-02-02T10:59:42.211Z"
   },
   {
    "duration": 0,
    "start_time": "2023-02-02T10:59:42.212Z"
   },
   {
    "duration": 0,
    "start_time": "2023-02-02T10:59:42.213Z"
   },
   {
    "duration": 0,
    "start_time": "2023-02-02T10:59:42.214Z"
   },
   {
    "duration": 0,
    "start_time": "2023-02-02T10:59:42.215Z"
   },
   {
    "duration": 0,
    "start_time": "2023-02-02T10:59:42.216Z"
   },
   {
    "duration": 0,
    "start_time": "2023-02-02T10:59:42.217Z"
   },
   {
    "duration": 0,
    "start_time": "2023-02-02T10:59:42.218Z"
   },
   {
    "duration": 0,
    "start_time": "2023-02-02T10:59:42.219Z"
   },
   {
    "duration": 0,
    "start_time": "2023-02-02T10:59:42.220Z"
   },
   {
    "duration": 0,
    "start_time": "2023-02-02T10:59:42.221Z"
   },
   {
    "duration": 0,
    "start_time": "2023-02-02T10:59:42.222Z"
   },
   {
    "duration": 0,
    "start_time": "2023-02-02T10:59:42.223Z"
   }
  ],
  "kernelspec": {
   "display_name": "Python 3 (ipykernel)",
   "language": "python",
   "name": "python3"
  },
  "language_info": {
   "codemirror_mode": {
    "name": "ipython",
    "version": 3
   },
   "file_extension": ".py",
   "mimetype": "text/x-python",
   "name": "python",
   "nbconvert_exporter": "python",
   "pygments_lexer": "ipython3",
   "version": "3.10.2"
  },
  "toc": {
   "base_numbering": 1,
   "nav_menu": {},
   "number_sections": false,
   "sideBar": true,
   "skip_h1_title": false,
   "title_cell": "Table of Contents",
   "title_sidebar": "Contents",
   "toc_cell": false,
   "toc_position": {
    "height": "calc(100% - 180px)",
    "left": "10px",
    "top": "150px",
    "width": "408.889px"
   },
   "toc_section_display": true,
   "toc_window_display": false
  },
  "varInspector": {
   "cols": {
    "lenName": 16,
    "lenType": 16,
    "lenVar": 40
   },
   "kernels_config": {
    "python": {
     "delete_cmd_postfix": "",
     "delete_cmd_prefix": "del ",
     "library": "var_list.py",
     "varRefreshCmd": "print(var_dic_list())"
    },
    "r": {
     "delete_cmd_postfix": ") ",
     "delete_cmd_prefix": "rm(",
     "library": "var_list.r",
     "varRefreshCmd": "cat(var_dic_list()) "
    }
   },
   "types_to_exclude": [
    "module",
    "function",
    "builtin_function_or_method",
    "instance",
    "_Feature"
   ],
   "window_display": false
  }
 },
 "nbformat": 4,
 "nbformat_minor": 5
}
