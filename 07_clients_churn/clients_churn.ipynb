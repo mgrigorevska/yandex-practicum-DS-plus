{
 "cells": [
  {
   "cell_type": "markdown",
   "metadata": {},
   "source": [
    "# Прогнозирование оттока клиентов банка"
   ]
  },
  {
   "cell_type": "markdown",
   "metadata": {},
   "source": [
    "\n",
    "По предоставленным историческим данным о поведении клиентов и расторжении договоров с банком нужно спрогнозировать, уйдёт клиент из банка в ближайшее время или нет. \n",
    "\n",
    "Задача - построить модель с предельно большим значением *F1*-меры, не ниже 0.59. \n",
    "\n",
    "Источник данных: [https://www.kaggle.com/barelydedicated/bank-customer-churn-modeling](https://www.kaggle.com/barelydedicated/bank-customer-churn-modeling)"
   ]
  },
  {
   "cell_type": "markdown",
   "metadata": {},
   "source": [
    "## Подготовка данных"
   ]
  },
  {
   "cell_type": "markdown",
   "metadata": {},
   "source": [
    "### Обзор данных"
   ]
  },
  {
   "cell_type": "code",
   "execution_count": 1,
   "metadata": {},
   "outputs": [],
   "source": [
    "import pandas as pd\n",
    "import numpy as np\n",
    "import seaborn as sns\n",
    "import matplotlib.pyplot as plt\n",
    "\n",
    "from sklearn.model_selection import train_test_split, GridSearchCV\n",
    "from sklearn.utils import shuffle\n",
    "from sklearn.linear_model import LogisticRegression\n",
    "from sklearn.tree import DecisionTreeClassifier\n",
    "from sklearn.ensemble import RandomForestClassifier\n",
    "from sklearn.metrics import confusion_matrix, f1_score, roc_auc_score, roc_curve\n",
    "from sklearn.preprocessing import StandardScaler\n",
    "from sklearn.dummy import DummyClassifier"
   ]
  },
  {
   "cell_type": "markdown",
   "metadata": {},
   "source": [
    "Читаем файл Churn.csv.csv из папки /datasets и сохраняем его в переменной df;\n",
    "\n",
    "Выводим на экран первые пять строк таблицы:"
   ]
  },
  {
   "cell_type": "code",
   "execution_count": 2,
   "metadata": {},
   "outputs": [
    {
     "data": {
      "text/html": [
       "<div>\n",
       "<style scoped>\n",
       "    .dataframe tbody tr th:only-of-type {\n",
       "        vertical-align: middle;\n",
       "    }\n",
       "\n",
       "    .dataframe tbody tr th {\n",
       "        vertical-align: top;\n",
       "    }\n",
       "\n",
       "    .dataframe thead th {\n",
       "        text-align: right;\n",
       "    }\n",
       "</style>\n",
       "<table border=\"1\" class=\"dataframe\">\n",
       "  <thead>\n",
       "    <tr style=\"text-align: right;\">\n",
       "      <th></th>\n",
       "      <th>RowNumber</th>\n",
       "      <th>CustomerId</th>\n",
       "      <th>Surname</th>\n",
       "      <th>CreditScore</th>\n",
       "      <th>Geography</th>\n",
       "      <th>Gender</th>\n",
       "      <th>Age</th>\n",
       "      <th>Tenure</th>\n",
       "      <th>Balance</th>\n",
       "      <th>NumOfProducts</th>\n",
       "      <th>HasCrCard</th>\n",
       "      <th>IsActiveMember</th>\n",
       "      <th>EstimatedSalary</th>\n",
       "      <th>Exited</th>\n",
       "    </tr>\n",
       "  </thead>\n",
       "  <tbody>\n",
       "    <tr>\n",
       "      <th>0</th>\n",
       "      <td>1</td>\n",
       "      <td>15634602</td>\n",
       "      <td>Hargrave</td>\n",
       "      <td>619</td>\n",
       "      <td>France</td>\n",
       "      <td>Female</td>\n",
       "      <td>42</td>\n",
       "      <td>2.0</td>\n",
       "      <td>0.00</td>\n",
       "      <td>1</td>\n",
       "      <td>1</td>\n",
       "      <td>1</td>\n",
       "      <td>101348.88</td>\n",
       "      <td>1</td>\n",
       "    </tr>\n",
       "    <tr>\n",
       "      <th>1</th>\n",
       "      <td>2</td>\n",
       "      <td>15647311</td>\n",
       "      <td>Hill</td>\n",
       "      <td>608</td>\n",
       "      <td>Spain</td>\n",
       "      <td>Female</td>\n",
       "      <td>41</td>\n",
       "      <td>1.0</td>\n",
       "      <td>83807.86</td>\n",
       "      <td>1</td>\n",
       "      <td>0</td>\n",
       "      <td>1</td>\n",
       "      <td>112542.58</td>\n",
       "      <td>0</td>\n",
       "    </tr>\n",
       "    <tr>\n",
       "      <th>2</th>\n",
       "      <td>3</td>\n",
       "      <td>15619304</td>\n",
       "      <td>Onio</td>\n",
       "      <td>502</td>\n",
       "      <td>France</td>\n",
       "      <td>Female</td>\n",
       "      <td>42</td>\n",
       "      <td>8.0</td>\n",
       "      <td>159660.80</td>\n",
       "      <td>3</td>\n",
       "      <td>1</td>\n",
       "      <td>0</td>\n",
       "      <td>113931.57</td>\n",
       "      <td>1</td>\n",
       "    </tr>\n",
       "    <tr>\n",
       "      <th>3</th>\n",
       "      <td>4</td>\n",
       "      <td>15701354</td>\n",
       "      <td>Boni</td>\n",
       "      <td>699</td>\n",
       "      <td>France</td>\n",
       "      <td>Female</td>\n",
       "      <td>39</td>\n",
       "      <td>1.0</td>\n",
       "      <td>0.00</td>\n",
       "      <td>2</td>\n",
       "      <td>0</td>\n",
       "      <td>0</td>\n",
       "      <td>93826.63</td>\n",
       "      <td>0</td>\n",
       "    </tr>\n",
       "    <tr>\n",
       "      <th>4</th>\n",
       "      <td>5</td>\n",
       "      <td>15737888</td>\n",
       "      <td>Mitchell</td>\n",
       "      <td>850</td>\n",
       "      <td>Spain</td>\n",
       "      <td>Female</td>\n",
       "      <td>43</td>\n",
       "      <td>2.0</td>\n",
       "      <td>125510.82</td>\n",
       "      <td>1</td>\n",
       "      <td>1</td>\n",
       "      <td>1</td>\n",
       "      <td>79084.10</td>\n",
       "      <td>0</td>\n",
       "    </tr>\n",
       "  </tbody>\n",
       "</table>\n",
       "</div>"
      ],
      "text/plain": [
       "   RowNumber  CustomerId   Surname  CreditScore Geography  Gender  Age  \\\n",
       "0          1    15634602  Hargrave          619    France  Female   42   \n",
       "1          2    15647311      Hill          608     Spain  Female   41   \n",
       "2          3    15619304      Onio          502    France  Female   42   \n",
       "3          4    15701354      Boni          699    France  Female   39   \n",
       "4          5    15737888  Mitchell          850     Spain  Female   43   \n",
       "\n",
       "   Tenure    Balance  NumOfProducts  HasCrCard  IsActiveMember  \\\n",
       "0     2.0       0.00              1          1               1   \n",
       "1     1.0   83807.86              1          0               1   \n",
       "2     8.0  159660.80              3          1               0   \n",
       "3     1.0       0.00              2          0               0   \n",
       "4     2.0  125510.82              1          1               1   \n",
       "\n",
       "   EstimatedSalary  Exited  \n",
       "0        101348.88       1  \n",
       "1        112542.58       0  \n",
       "2        113931.57       1  \n",
       "3         93826.63       0  \n",
       "4         79084.10       0  "
      ]
     },
     "execution_count": 2,
     "metadata": {},
     "output_type": "execute_result"
    }
   ],
   "source": [
    "df = pd.read_csv('***')\n",
    "df.head()"
   ]
  },
  {
   "cell_type": "markdown",
   "metadata": {},
   "source": [
    "Получаем общую информации о данных в таблице df:"
   ]
  },
  {
   "cell_type": "code",
   "execution_count": 3,
   "metadata": {},
   "outputs": [
    {
     "name": "stdout",
     "output_type": "stream",
     "text": [
      "<class 'pandas.core.frame.DataFrame'>\n",
      "RangeIndex: 10000 entries, 0 to 9999\n",
      "Data columns (total 14 columns):\n",
      " #   Column           Non-Null Count  Dtype  \n",
      "---  ------           --------------  -----  \n",
      " 0   RowNumber        10000 non-null  int64  \n",
      " 1   CustomerId       10000 non-null  int64  \n",
      " 2   Surname          10000 non-null  object \n",
      " 3   CreditScore      10000 non-null  int64  \n",
      " 4   Geography        10000 non-null  object \n",
      " 5   Gender           10000 non-null  object \n",
      " 6   Age              10000 non-null  int64  \n",
      " 7   Tenure           9091 non-null   float64\n",
      " 8   Balance          10000 non-null  float64\n",
      " 9   NumOfProducts    10000 non-null  int64  \n",
      " 10  HasCrCard        10000 non-null  int64  \n",
      " 11  IsActiveMember   10000 non-null  int64  \n",
      " 12  EstimatedSalary  10000 non-null  float64\n",
      " 13  Exited           10000 non-null  int64  \n",
      "dtypes: float64(3), int64(8), object(3)\n",
      "memory usage: 1.1+ MB\n"
     ]
    }
   ],
   "source": [
    "df.info()"
   ]
  },
  {
   "cell_type": "markdown",
   "metadata": {},
   "source": [
    "В таблице 14 столбцов. Тип данных в столбцах — целые и вещественные числа, и строки в столбцах Gender, Surname, Geography.\n",
    "\n",
    "Согласно документации к данным:\n",
    "\n",
    "**Признаки**:\n",
    "- `RowNumber` — индекс строки в данных\n",
    "- `CustomerId` — уникальный идентификатор клиента\n",
    "- `Surname` — фамилия\n",
    "- `CreditScore` — кредитный рейтинг\n",
    "- `Geography` — страна проживания\n",
    "- `Gender` — пол\n",
    "- `Age` — возраст\n",
    "- `Tenure` — сколько лет человек является клиентом банка\n",
    "- `Balance` — баланс на счёте\n",
    "- `NumOfProducts` — количество продуктов банка, используемых клиентом\n",
    "- `HasCrCard` — наличие кредитной карты\n",
    "- `IsActiveMember` — активность клиента\n",
    "- `EstimatedSalary` — предполагаемая зарплата\n",
    "\n",
    "\n",
    "**Целевой признак**:\n",
    "- `Exited` — факт ухода клиента\n",
    "\n",
    "\n",
    "Пропуски появляются только в столбце `Tenure` — сколько лет человек является клиентом банка."
   ]
  },
  {
   "cell_type": "markdown",
   "metadata": {},
   "source": [
    "### Предобработка данных"
   ]
  },
  {
   "cell_type": "markdown",
   "metadata": {},
   "source": [
    "Для удобства и соблюдения стиля приведём названия столбцов к нижнему регистру:"
   ]
  },
  {
   "cell_type": "code",
   "execution_count": null,
   "metadata": {},
   "outputs": [],
   "source": [
    "df = df.rename(columns={'RowNumber': 'row_number', \n",
    "                        'CustomerId': 'customer_id', \n",
    "                        'Surname': 'surname', \n",
    "                        'CreditScore': 'credit_score', \n",
    "                        'Geography': 'geography', \n",
    "                        'Gender': 'gender', \n",
    "                        'Age': 'age', \n",
    "                        'Tenure': 'tenure', \n",
    "                        'Balance': 'balance', \n",
    "                        'NumOfProducts': 'num_of_products', \n",
    "                        'HasCrCard': 'has_cr_card', \n",
    "                        'IsActiveMember': 'is_active_member', \n",
    "                        'EstimatedSalary': 'estimated_salary', \n",
    "                        'Exited': 'exited'})\n"
   ]
  },
  {
   "cell_type": "markdown",
   "metadata": {},
   "source": [
    "Приведём все значение в столбце `geography` и `gender` к нижнему регистру:"
   ]
  },
  {
   "cell_type": "code",
   "execution_count": 5,
   "metadata": {},
   "outputs": [],
   "source": [
    "df['geography'] = df['geography'].str.lower()\n",
    "df['gender'] = df['gender'].str.lower()"
   ]
  },
  {
   "cell_type": "code",
   "execution_count": 6,
   "metadata": {},
   "outputs": [
    {
     "name": "stdout",
     "output_type": "stream",
     "text": [
      "0\n"
     ]
    },
    {
     "data": {
      "text/plain": [
       "0"
      ]
     },
     "execution_count": 6,
     "metadata": {},
     "output_type": "execute_result"
    }
   ],
   "source": [
    "print(df.duplicated().sum())\n",
    "df['customer_id'].duplicated().sum()"
   ]
  },
  {
   "cell_type": "markdown",
   "metadata": {},
   "source": [
    "Явные дубликаты и дубликаты в customer_id отсутствуют.\n",
    "\n",
    "Пропуски есть только в столбце tenure, рассмотрим значения в этом столбце:"
   ]
  },
  {
   "cell_type": "code",
   "execution_count": 7,
   "metadata": {
    "scrolled": true
   },
   "outputs": [
    {
     "data": {
      "text/plain": [
       "array([ 0.,  1.,  2.,  3.,  4.,  5.,  6.,  7.,  8.,  9., 10., nan])"
      ]
     },
     "execution_count": 7,
     "metadata": {},
     "output_type": "execute_result"
    }
   ],
   "source": [
    "df['tenure'].sort_values().unique()"
   ]
  },
  {
   "cell_type": "markdown",
   "metadata": {},
   "source": [
    "Посчитаем долю пропущенных значений:"
   ]
  },
  {
   "cell_type": "code",
   "execution_count": 8,
   "metadata": {},
   "outputs": [
    {
     "data": {
      "text/plain": [
       "11.001100110011"
      ]
     },
     "execution_count": 8,
     "metadata": {},
     "output_type": "execute_result"
    }
   ],
   "source": [
    "len(df['tenure']) / df['tenure'].isna().sum()"
   ]
  },
  {
   "cell_type": "markdown",
   "metadata": {},
   "source": [
    "Тк доля больше 10%, удалить эти строки мы не можем, пожтому заменим значения медианой:"
   ]
  },
  {
   "cell_type": "code",
   "execution_count": 9,
   "metadata": {},
   "outputs": [],
   "source": [
    "df['tenure'] = df['tenure'].fillna(df['tenure'].median())"
   ]
  },
  {
   "cell_type": "markdown",
   "metadata": {},
   "source": [
    "Создадим фиктивные переменные для признаков `gender` и `geography`:"
   ]
  },
  {
   "cell_type": "code",
   "execution_count": 10,
   "metadata": {},
   "outputs": [
    {
     "data": {
      "text/html": [
       "<div>\n",
       "<style scoped>\n",
       "    .dataframe tbody tr th:only-of-type {\n",
       "        vertical-align: middle;\n",
       "    }\n",
       "\n",
       "    .dataframe tbody tr th {\n",
       "        vertical-align: top;\n",
       "    }\n",
       "\n",
       "    .dataframe thead th {\n",
       "        text-align: right;\n",
       "    }\n",
       "</style>\n",
       "<table border=\"1\" class=\"dataframe\">\n",
       "  <thead>\n",
       "    <tr style=\"text-align: right;\">\n",
       "      <th></th>\n",
       "      <th>row_number</th>\n",
       "      <th>customer_id</th>\n",
       "      <th>surname</th>\n",
       "      <th>credit_score</th>\n",
       "      <th>age</th>\n",
       "      <th>tenure</th>\n",
       "      <th>balance</th>\n",
       "      <th>num_of_products</th>\n",
       "      <th>has_cr_card</th>\n",
       "      <th>is_active_member</th>\n",
       "      <th>estimated_salary</th>\n",
       "      <th>exited</th>\n",
       "      <th>gender_male</th>\n",
       "      <th>geography_germany</th>\n",
       "      <th>geography_spain</th>\n",
       "    </tr>\n",
       "  </thead>\n",
       "  <tbody>\n",
       "    <tr>\n",
       "      <th>0</th>\n",
       "      <td>1</td>\n",
       "      <td>15634602</td>\n",
       "      <td>Hargrave</td>\n",
       "      <td>619</td>\n",
       "      <td>42</td>\n",
       "      <td>2.0</td>\n",
       "      <td>0.00</td>\n",
       "      <td>1</td>\n",
       "      <td>1</td>\n",
       "      <td>1</td>\n",
       "      <td>101348.88</td>\n",
       "      <td>1</td>\n",
       "      <td>0</td>\n",
       "      <td>0</td>\n",
       "      <td>0</td>\n",
       "    </tr>\n",
       "    <tr>\n",
       "      <th>1</th>\n",
       "      <td>2</td>\n",
       "      <td>15647311</td>\n",
       "      <td>Hill</td>\n",
       "      <td>608</td>\n",
       "      <td>41</td>\n",
       "      <td>1.0</td>\n",
       "      <td>83807.86</td>\n",
       "      <td>1</td>\n",
       "      <td>0</td>\n",
       "      <td>1</td>\n",
       "      <td>112542.58</td>\n",
       "      <td>0</td>\n",
       "      <td>0</td>\n",
       "      <td>0</td>\n",
       "      <td>1</td>\n",
       "    </tr>\n",
       "    <tr>\n",
       "      <th>2</th>\n",
       "      <td>3</td>\n",
       "      <td>15619304</td>\n",
       "      <td>Onio</td>\n",
       "      <td>502</td>\n",
       "      <td>42</td>\n",
       "      <td>8.0</td>\n",
       "      <td>159660.80</td>\n",
       "      <td>3</td>\n",
       "      <td>1</td>\n",
       "      <td>0</td>\n",
       "      <td>113931.57</td>\n",
       "      <td>1</td>\n",
       "      <td>0</td>\n",
       "      <td>0</td>\n",
       "      <td>0</td>\n",
       "    </tr>\n",
       "  </tbody>\n",
       "</table>\n",
       "</div>"
      ],
      "text/plain": [
       "   row_number  customer_id   surname  credit_score  age  tenure    balance  \\\n",
       "0           1     15634602  Hargrave           619   42     2.0       0.00   \n",
       "1           2     15647311      Hill           608   41     1.0   83807.86   \n",
       "2           3     15619304      Onio           502   42     8.0  159660.80   \n",
       "\n",
       "   num_of_products  has_cr_card  is_active_member  estimated_salary  exited  \\\n",
       "0                1            1                 1         101348.88       1   \n",
       "1                1            0                 1         112542.58       0   \n",
       "2                3            1                 0         113931.57       1   \n",
       "\n",
       "   gender_male  geography_germany  geography_spain  \n",
       "0            0                  0                0  \n",
       "1            0                  0                1  \n",
       "2            0                  0                0  "
      ]
     },
     "execution_count": 10,
     "metadata": {},
     "output_type": "execute_result"
    }
   ],
   "source": [
    "df = pd.get_dummies(df, columns=['gender'], drop_first=True)\n",
    "df = pd.get_dummies(df, columns=['geography'], drop_first=True)\n",
    "df.head(3)"
   ]
  },
  {
   "cell_type": "markdown",
   "metadata": {},
   "source": [
    "Проведём масштабирование признаков:"
   ]
  },
  {
   "cell_type": "raw",
   "metadata": {},
   "source": [
    "numeric = ['credit_score', 'age', 'tenure', 'balance', 'num_of_products', 'estimated_salary']\n",
    "\n",
    "scaler = StandardScaler()\n",
    "\n",
    "df[numeric] = scaler.fit_transform(df[numeric])\n",
    "pd.options.mode.chained_assignment = None\n",
    "df"
   ]
  },
  {
   "cell_type": "markdown",
   "metadata": {},
   "source": [
    "Разделим исходные данные на обучающую, валидационную и тестовую выборки - выделим под обучающую 60% и по 20% на тестовую и валидационную.\n",
    "\n",
    "Для этого сначала разделим обучающую и валидационную выборки:"
   ]
  },
  {
   "cell_type": "code",
   "execution_count": 11,
   "metadata": {},
   "outputs": [],
   "source": [
    "df_train, df_valid = train_test_split(df, test_size=0.4, random_state=12345)"
   ]
  },
  {
   "cell_type": "markdown",
   "metadata": {},
   "source": [
    "Таким образом, мы получили 60% обучающую выборку и 40% валидационную.\n",
    "Теперь поделим валидационную выборку еще на 2 части:"
   ]
  },
  {
   "cell_type": "code",
   "execution_count": 12,
   "metadata": {},
   "outputs": [
    {
     "name": "stdout",
     "output_type": "stream",
     "text": [
      "Размер обучающей выборки -     (6000, 15)\n",
      "Размер валидационной выборки - (2000, 15)\n",
      "Размер тестовой выборки -      (2000, 15)\n"
     ]
    }
   ],
   "source": [
    "df_valid, df_test = train_test_split(df_valid, test_size=0.5, random_state=12345)\n",
    "\n",
    "print('Размер обучающей выборки -    ', df_train.shape)\n",
    "print('Размер валидационной выборки -', df_valid.shape)\n",
    "print('Размер тестовой выборки -     ', df_test.shape)"
   ]
  },
  {
   "cell_type": "markdown",
   "metadata": {},
   "source": [
    "Определим, какие признаки имеют значение для предсказания целевого признака - столбцы `row_number`, `customer_id`, `surname` не будут влиять на результат, поэтому удаляем ненужные столбцы:"
   ]
  },
  {
   "cell_type": "code",
   "execution_count": 13,
   "metadata": {},
   "outputs": [
    {
     "data": {
      "text/html": [
       "<div>\n",
       "<style scoped>\n",
       "    .dataframe tbody tr th:only-of-type {\n",
       "        vertical-align: middle;\n",
       "    }\n",
       "\n",
       "    .dataframe tbody tr th {\n",
       "        vertical-align: top;\n",
       "    }\n",
       "\n",
       "    .dataframe thead th {\n",
       "        text-align: right;\n",
       "    }\n",
       "</style>\n",
       "<table border=\"1\" class=\"dataframe\">\n",
       "  <thead>\n",
       "    <tr style=\"text-align: right;\">\n",
       "      <th></th>\n",
       "      <th>credit_score</th>\n",
       "      <th>age</th>\n",
       "      <th>tenure</th>\n",
       "      <th>balance</th>\n",
       "      <th>num_of_products</th>\n",
       "      <th>has_cr_card</th>\n",
       "      <th>is_active_member</th>\n",
       "      <th>estimated_salary</th>\n",
       "      <th>exited</th>\n",
       "      <th>gender_male</th>\n",
       "      <th>geography_germany</th>\n",
       "      <th>geography_spain</th>\n",
       "    </tr>\n",
       "  </thead>\n",
       "  <tbody>\n",
       "    <tr>\n",
       "      <th>7479</th>\n",
       "      <td>567</td>\n",
       "      <td>35</td>\n",
       "      <td>8.0</td>\n",
       "      <td>153137.74</td>\n",
       "      <td>1</td>\n",
       "      <td>1</td>\n",
       "      <td>0</td>\n",
       "      <td>88659.07</td>\n",
       "      <td>0</td>\n",
       "      <td>1</td>\n",
       "      <td>0</td>\n",
       "      <td>1</td>\n",
       "    </tr>\n",
       "    <tr>\n",
       "      <th>3411</th>\n",
       "      <td>711</td>\n",
       "      <td>37</td>\n",
       "      <td>8.0</td>\n",
       "      <td>113899.92</td>\n",
       "      <td>1</td>\n",
       "      <td>0</td>\n",
       "      <td>0</td>\n",
       "      <td>80215.20</td>\n",
       "      <td>0</td>\n",
       "      <td>0</td>\n",
       "      <td>0</td>\n",
       "      <td>0</td>\n",
       "    </tr>\n",
       "    <tr>\n",
       "      <th>6027</th>\n",
       "      <td>850</td>\n",
       "      <td>44</td>\n",
       "      <td>3.0</td>\n",
       "      <td>140393.65</td>\n",
       "      <td>2</td>\n",
       "      <td>0</td>\n",
       "      <td>1</td>\n",
       "      <td>186285.52</td>\n",
       "      <td>0</td>\n",
       "      <td>1</td>\n",
       "      <td>1</td>\n",
       "      <td>0</td>\n",
       "    </tr>\n",
       "    <tr>\n",
       "      <th>1247</th>\n",
       "      <td>512</td>\n",
       "      <td>24</td>\n",
       "      <td>6.0</td>\n",
       "      <td>0.00</td>\n",
       "      <td>2</td>\n",
       "      <td>1</td>\n",
       "      <td>0</td>\n",
       "      <td>37654.31</td>\n",
       "      <td>0</td>\n",
       "      <td>1</td>\n",
       "      <td>0</td>\n",
       "      <td>0</td>\n",
       "    </tr>\n",
       "    <tr>\n",
       "      <th>3716</th>\n",
       "      <td>665</td>\n",
       "      <td>27</td>\n",
       "      <td>2.0</td>\n",
       "      <td>147435.96</td>\n",
       "      <td>1</td>\n",
       "      <td>0</td>\n",
       "      <td>0</td>\n",
       "      <td>187508.06</td>\n",
       "      <td>0</td>\n",
       "      <td>0</td>\n",
       "      <td>1</td>\n",
       "      <td>0</td>\n",
       "    </tr>\n",
       "    <tr>\n",
       "      <th>...</th>\n",
       "      <td>...</td>\n",
       "      <td>...</td>\n",
       "      <td>...</td>\n",
       "      <td>...</td>\n",
       "      <td>...</td>\n",
       "      <td>...</td>\n",
       "      <td>...</td>\n",
       "      <td>...</td>\n",
       "      <td>...</td>\n",
       "      <td>...</td>\n",
       "      <td>...</td>\n",
       "      <td>...</td>\n",
       "    </tr>\n",
       "    <tr>\n",
       "      <th>4478</th>\n",
       "      <td>549</td>\n",
       "      <td>31</td>\n",
       "      <td>4.0</td>\n",
       "      <td>0.00</td>\n",
       "      <td>2</td>\n",
       "      <td>0</td>\n",
       "      <td>1</td>\n",
       "      <td>25684.85</td>\n",
       "      <td>0</td>\n",
       "      <td>1</td>\n",
       "      <td>0</td>\n",
       "      <td>0</td>\n",
       "    </tr>\n",
       "    <tr>\n",
       "      <th>4094</th>\n",
       "      <td>513</td>\n",
       "      <td>29</td>\n",
       "      <td>10.0</td>\n",
       "      <td>0.00</td>\n",
       "      <td>2</td>\n",
       "      <td>0</td>\n",
       "      <td>1</td>\n",
       "      <td>25514.77</td>\n",
       "      <td>0</td>\n",
       "      <td>1</td>\n",
       "      <td>0</td>\n",
       "      <td>0</td>\n",
       "    </tr>\n",
       "    <tr>\n",
       "      <th>3492</th>\n",
       "      <td>655</td>\n",
       "      <td>45</td>\n",
       "      <td>5.0</td>\n",
       "      <td>57327.04</td>\n",
       "      <td>1</td>\n",
       "      <td>0</td>\n",
       "      <td>1</td>\n",
       "      <td>47349.00</td>\n",
       "      <td>0</td>\n",
       "      <td>0</td>\n",
       "      <td>0</td>\n",
       "      <td>0</td>\n",
       "    </tr>\n",
       "    <tr>\n",
       "      <th>2177</th>\n",
       "      <td>667</td>\n",
       "      <td>24</td>\n",
       "      <td>4.0</td>\n",
       "      <td>0.00</td>\n",
       "      <td>2</td>\n",
       "      <td>0</td>\n",
       "      <td>1</td>\n",
       "      <td>34335.55</td>\n",
       "      <td>0</td>\n",
       "      <td>0</td>\n",
       "      <td>0</td>\n",
       "      <td>0</td>\n",
       "    </tr>\n",
       "    <tr>\n",
       "      <th>4578</th>\n",
       "      <td>691</td>\n",
       "      <td>38</td>\n",
       "      <td>1.0</td>\n",
       "      <td>0.00</td>\n",
       "      <td>2</td>\n",
       "      <td>0</td>\n",
       "      <td>0</td>\n",
       "      <td>44653.50</td>\n",
       "      <td>0</td>\n",
       "      <td>1</td>\n",
       "      <td>0</td>\n",
       "      <td>0</td>\n",
       "    </tr>\n",
       "  </tbody>\n",
       "</table>\n",
       "<p>6000 rows × 12 columns</p>\n",
       "</div>"
      ],
      "text/plain": [
       "      credit_score  age  tenure    balance  num_of_products  has_cr_card  \\\n",
       "7479           567   35     8.0  153137.74                1            1   \n",
       "3411           711   37     8.0  113899.92                1            0   \n",
       "6027           850   44     3.0  140393.65                2            0   \n",
       "1247           512   24     6.0       0.00                2            1   \n",
       "3716           665   27     2.0  147435.96                1            0   \n",
       "...            ...  ...     ...        ...              ...          ...   \n",
       "4478           549   31     4.0       0.00                2            0   \n",
       "4094           513   29    10.0       0.00                2            0   \n",
       "3492           655   45     5.0   57327.04                1            0   \n",
       "2177           667   24     4.0       0.00                2            0   \n",
       "4578           691   38     1.0       0.00                2            0   \n",
       "\n",
       "      is_active_member  estimated_salary  exited  gender_male  \\\n",
       "7479                 0          88659.07       0            1   \n",
       "3411                 0          80215.20       0            0   \n",
       "6027                 1         186285.52       0            1   \n",
       "1247                 0          37654.31       0            1   \n",
       "3716                 0         187508.06       0            0   \n",
       "...                ...               ...     ...          ...   \n",
       "4478                 1          25684.85       0            1   \n",
       "4094                 1          25514.77       0            1   \n",
       "3492                 1          47349.00       0            0   \n",
       "2177                 1          34335.55       0            0   \n",
       "4578                 0          44653.50       0            1   \n",
       "\n",
       "      geography_germany  geography_spain  \n",
       "7479                  0                1  \n",
       "3411                  0                0  \n",
       "6027                  1                0  \n",
       "1247                  0                0  \n",
       "3716                  1                0  \n",
       "...                 ...              ...  \n",
       "4478                  0                0  \n",
       "4094                  0                0  \n",
       "3492                  0                0  \n",
       "2177                  0                0  \n",
       "4578                  0                0  \n",
       "\n",
       "[6000 rows x 12 columns]"
      ]
     },
     "execution_count": 13,
     "metadata": {},
     "output_type": "execute_result"
    }
   ],
   "source": [
    "df_train = df_train.drop(['row_number', 'customer_id', 'surname'], axis=1)\n",
    "df_valid = df_valid.drop(['row_number', 'customer_id', 'surname'], axis=1)\n",
    "df_test = df_test.drop(['row_number', 'customer_id', 'surname'], axis=1)\n",
    "df_train"
   ]
  },
  {
   "cell_type": "code",
   "execution_count": 14,
   "metadata": {},
   "outputs": [],
   "source": [
    "features_test = df_test.drop(['exited'], axis=1)\n",
    "target_test = df_test['exited']\n",
    "\n",
    "features_train = df_train.drop(['exited'], axis=1)\n",
    "target_train = df_train['exited']\n",
    "\n",
    "features_valid = df_valid.drop(['exited'], axis=1)\n",
    "target_valid = df_valid['exited']"
   ]
  },
  {
   "cell_type": "markdown",
   "metadata": {},
   "source": [
    "Проведём масштабирование признаков:"
   ]
  },
  {
   "cell_type": "code",
   "execution_count": 15,
   "metadata": {},
   "outputs": [
    {
     "data": {
      "text/html": [
       "<div>\n",
       "<style scoped>\n",
       "    .dataframe tbody tr th:only-of-type {\n",
       "        vertical-align: middle;\n",
       "    }\n",
       "\n",
       "    .dataframe tbody tr th {\n",
       "        vertical-align: top;\n",
       "    }\n",
       "\n",
       "    .dataframe thead th {\n",
       "        text-align: right;\n",
       "    }\n",
       "</style>\n",
       "<table border=\"1\" class=\"dataframe\">\n",
       "  <thead>\n",
       "    <tr style=\"text-align: right;\">\n",
       "      <th></th>\n",
       "      <th>credit_score</th>\n",
       "      <th>age</th>\n",
       "      <th>tenure</th>\n",
       "      <th>balance</th>\n",
       "      <th>num_of_products</th>\n",
       "      <th>has_cr_card</th>\n",
       "      <th>is_active_member</th>\n",
       "      <th>estimated_salary</th>\n",
       "      <th>exited</th>\n",
       "      <th>gender_male</th>\n",
       "      <th>geography_germany</th>\n",
       "      <th>geography_spain</th>\n",
       "    </tr>\n",
       "  </thead>\n",
       "  <tbody>\n",
       "    <tr>\n",
       "      <th>7479</th>\n",
       "      <td>-0.886751</td>\n",
       "      <td>-0.373192</td>\n",
       "      <td>1.082277</td>\n",
       "      <td>1.232271</td>\n",
       "      <td>-0.891560</td>\n",
       "      <td>1</td>\n",
       "      <td>0</td>\n",
       "      <td>-0.187705</td>\n",
       "      <td>0</td>\n",
       "      <td>1</td>\n",
       "      <td>0</td>\n",
       "      <td>1</td>\n",
       "    </tr>\n",
       "    <tr>\n",
       "      <th>3411</th>\n",
       "      <td>0.608663</td>\n",
       "      <td>-0.183385</td>\n",
       "      <td>1.082277</td>\n",
       "      <td>0.600563</td>\n",
       "      <td>-0.891560</td>\n",
       "      <td>0</td>\n",
       "      <td>0</td>\n",
       "      <td>-0.333945</td>\n",
       "      <td>0</td>\n",
       "      <td>0</td>\n",
       "      <td>0</td>\n",
       "      <td>0</td>\n",
       "    </tr>\n",
       "    <tr>\n",
       "      <th>6027</th>\n",
       "      <td>2.052152</td>\n",
       "      <td>0.480939</td>\n",
       "      <td>-0.737696</td>\n",
       "      <td>1.027098</td>\n",
       "      <td>0.830152</td>\n",
       "      <td>0</td>\n",
       "      <td>1</td>\n",
       "      <td>1.503095</td>\n",
       "      <td>0</td>\n",
       "      <td>1</td>\n",
       "      <td>1</td>\n",
       "      <td>0</td>\n",
       "    </tr>\n",
       "  </tbody>\n",
       "</table>\n",
       "</div>"
      ],
      "text/plain": [
       "      credit_score       age    tenure   balance  num_of_products  \\\n",
       "7479     -0.886751 -0.373192  1.082277  1.232271        -0.891560   \n",
       "3411      0.608663 -0.183385  1.082277  0.600563        -0.891560   \n",
       "6027      2.052152  0.480939 -0.737696  1.027098         0.830152   \n",
       "\n",
       "      has_cr_card  is_active_member  estimated_salary  exited  gender_male  \\\n",
       "7479            1                 0         -0.187705       0            1   \n",
       "3411            0                 0         -0.333945       0            0   \n",
       "6027            0                 1          1.503095       0            1   \n",
       "\n",
       "      geography_germany  geography_spain  \n",
       "7479                  0                1  \n",
       "3411                  0                0  \n",
       "6027                  1                0  "
      ]
     },
     "execution_count": 15,
     "metadata": {},
     "output_type": "execute_result"
    }
   ],
   "source": [
    "numeric = ['credit_score', 'age', 'tenure', 'balance', 'num_of_products', 'estimated_salary']\n",
    "\n",
    "scaler = StandardScaler()\n",
    "scaler.fit(df_train[numeric])\n",
    "df_train[numeric] = scaler.transform(df_train[numeric])\n",
    "df_valid[numeric] = scaler.transform(df_valid[numeric])\n",
    "df_test[numeric] = scaler.transform(df_test[numeric])\n",
    "\n",
    "\n",
    "pd.options.mode.chained_assignment = None\n",
    "df_train.head(3)"
   ]
  },
  {
   "cell_type": "markdown",
   "metadata": {},
   "source": [
    "Построим тепловую карту, чтобы посмотреть на корреляцию между признаками:"
   ]
  },
  {
   "cell_type": "code",
   "execution_count": 16,
   "metadata": {},
   "outputs": [
    {
     "data": {
      "text/plain": [
       "<AxesSubplot:>"
      ]
     },
     "execution_count": 16,
     "metadata": {},
     "output_type": "execute_result"
    },
    {
     "data": {
      "image/png": "[encoded data removed]",
      "text/plain": [
       "<Figure size 720x720 with 2 Axes>"
      ]
     },
     "metadata": {
      "needs_background": "light"
     },
     "output_type": "display_data"
    }
   ],
   "source": [
    "fig, ax = plt.subplots(figsize=(10,10)) \n",
    "sns.heatmap(df_train.corr(),annot = True, fmt = '.1g', ax=ax, square=True)"
   ]
  },
  {
   "cell_type": "markdown",
   "metadata": {},
   "source": [
    "Видим, что сильнее всего на целевой признак `exited` влияет возраст, баланс на счету и территориальная принадлежность к Германии. То есть чем старше клиент, или чем больше средств на счету, тем больше вероятность, что он откажется отуслуг банка. Также клиенты из Германии чаще прекращают сотрудничество. Обратную корреляцию можно увидеть в признаке `is_active_member` - чем активнее клиент, тем меньше вероятность, что он покинет банк."
   ]
  },
  {
   "cell_type": "markdown",
   "metadata": {},
   "source": [
    "## Исследование задачи"
   ]
  },
  {
   "cell_type": "markdown",
   "metadata": {},
   "source": [
    "### Баланс классов"
   ]
  },
  {
   "cell_type": "markdown",
   "metadata": {},
   "source": [
    "Проверим, как часто в целевом признаке встречается класс «1» или «0»:"
   ]
  },
  {
   "cell_type": "code",
   "execution_count": 17,
   "metadata": {
    "scrolled": true
   },
   "outputs": [
    {
     "name": "stdout",
     "output_type": "stream",
     "text": [
      "0    0.7963\n",
      "1    0.2037\n",
      "Name: exited, dtype: float64\n"
     ]
    },
    {
     "data": {
      "text/plain": [
       "<AxesSubplot:>"
      ]
     },
     "execution_count": 17,
     "metadata": {},
     "output_type": "execute_result"
    },
    {
     "data": {
      "image/png": "[encoded data removed]",
      "text/plain": [
       "<Figure size 432x288 with 1 Axes>"
      ]
     },
     "metadata": {
      "needs_background": "light"
     },
     "output_type": "display_data"
    }
   ],
   "source": [
    "class_frequency = df['exited'].value_counts(normalize=True)\n",
    "print(class_frequency)\n",
    "class_frequency.plot(kind='bar') "
   ]
  },
  {
   "cell_type": "markdown",
   "metadata": {},
   "source": [
    "Соотношение ушедших клиентов к оставшимся:"
   ]
  },
  {
   "cell_type": "code",
   "execution_count": 18,
   "metadata": {},
   "outputs": [
    {
     "name": "stdout",
     "output_type": "stream",
     "text": [
      "0.25580811252040686\n"
     ]
    }
   ],
   "source": [
    "print(class_frequency[1]/class_frequency[0])"
   ]
  },
  {
   "cell_type": "markdown",
   "metadata": {},
   "source": [
    "Классы довольно сильно дисбалансированы, поэтому в дальнейшем мы будем применять различные методы для устранения дисбаланса.\n",
    "\n",
    "Найдем F1-меру и и AUC-ROC на различных моделях без учёта дисбаланса:"
   ]
  },
  {
   "cell_type": "markdown",
   "metadata": {},
   "source": [
    "### Логистическая регрессия"
   ]
  },
  {
   "cell_type": "code",
   "execution_count": 19,
   "metadata": {},
   "outputs": [
    {
     "name": "stdout",
     "output_type": "stream",
     "text": [
      "Матрица ошибок:\n",
      "[[1543   39]\n",
      " [ 397   21]]\n",
      "F1-мера: 0.08786610878661089\n",
      "AUC-ROC: 0.6736612246626219\n"
     ]
    }
   ],
   "source": [
    "model = LogisticRegression(random_state=12345)\n",
    "model.fit(features_train, target_train)\n",
    "predicted_valid = model.predict(features_valid)\n",
    "\n",
    "probabilities_valid = model.predict_proba(features_valid)\n",
    "probabilities_one_valid = probabilities_valid[:, 1]\n",
    "\n",
    "print('Матрица ошибок:')\n",
    "print(confusion_matrix(target_valid, predicted_valid))\n",
    "print('F1-мера:', f1_score(target_valid, predicted_valid))\n",
    "print('AUC-ROC:', roc_auc_score(target_valid, probabilities_one_valid))"
   ]
  },
  {
   "cell_type": "markdown",
   "metadata": {},
   "source": [
    "### Решающее дерево"
   ]
  },
  {
   "cell_type": "markdown",
   "metadata": {},
   "source": [
    "Подберем оптимальные параметры с помощью GridSearchCV:"
   ]
  },
  {
   "cell_type": "code",
   "execution_count": 20,
   "metadata": {},
   "outputs": [
    {
     "name": "stdout",
     "output_type": "stream",
     "text": [
      "{'max_depth': 7}\n"
     ]
    }
   ],
   "source": [
    "params_tree = {'max_depth': range (1, 11, 2)}\n",
    "\n",
    "tree = DecisionTreeClassifier()\n",
    "grid_tree = GridSearchCV(tree, params_tree)\n",
    "grid_tree.fit(features_train, target_train)\n",
    "\n",
    "print(grid_tree.best_params_)"
   ]
  },
  {
   "cell_type": "code",
   "execution_count": 21,
   "metadata": {},
   "outputs": [
    {
     "name": "stdout",
     "output_type": "stream",
     "text": [
      "Матрица ошибок:\n",
      "[[1527   55]\n",
      " [ 241  177]]\n",
      "F1-мера: 0.5446153846153846\n",
      "AUC-ROC: 0.81526095004204\n"
     ]
    }
   ],
   "source": [
    "model = DecisionTreeClassifier(max_depth=7, random_state=12345)\n",
    "model.fit(features_train, target_train)\n",
    "predicted_valid = model.predict(features_valid)\n",
    "\n",
    "probabilities_valid = model.predict_proba(features_valid)\n",
    "probabilities_one_valid = probabilities_valid[:, 1]\n",
    "\n",
    "print('Матрица ошибок:')\n",
    "print(confusion_matrix(target_valid, predicted_valid))\n",
    "print('F1-мера:', f1_score(target_valid, predicted_valid))\n",
    "print('AUC-ROC:', roc_auc_score(target_valid, probabilities_one_valid))"
   ]
  },
  {
   "cell_type": "markdown",
   "metadata": {},
   "source": [
    "### Случайный лес"
   ]
  },
  {
   "cell_type": "markdown",
   "metadata": {},
   "source": [
    "Подберем оптимальные параметры с помощью GridSearchCV:"
   ]
  },
  {
   "cell_type": "code",
   "execution_count": 22,
   "metadata": {},
   "outputs": [
    {
     "name": "stdout",
     "output_type": "stream",
     "text": [
      "{'max_depth': 9, 'n_estimators': 100}\n"
     ]
    }
   ],
   "source": [
    "params_forest = { 'n_estimators': range (10, 101, 10),\n",
    "              'max_depth': range (1, 11, 2)}\n",
    "\n",
    "forest = RandomForestClassifier()\n",
    "grid_forest = GridSearchCV(forest, params_forest)\n",
    "grid_forest.fit(features_train, target_train)\n",
    "\n",
    "print(grid_forest.best_params_)"
   ]
  },
  {
   "cell_type": "code",
   "execution_count": 23,
   "metadata": {},
   "outputs": [
    {
     "name": "stdout",
     "output_type": "stream",
     "text": [
      "Матрица ошибок:\n",
      "[[1544   38]\n",
      " [ 231  187]]\n",
      "F1-мера: 0.5816485225505443\n",
      "AUC-ROC: 0.8497964541280796\n"
     ]
    }
   ],
   "source": [
    "model = RandomForestClassifier(n_estimators=70, max_depth=9, random_state=12345)\n",
    "model.fit(features_train, target_train)\n",
    "predicted_valid = model.predict(features_valid)\n",
    "\n",
    "probabilities_valid = model.predict_proba(features_valid)\n",
    "probabilities_one_valid = probabilities_valid[:, 1]\n",
    "\n",
    "print('Матрица ошибок:')\n",
    "print(confusion_matrix(target_valid, predicted_valid))\n",
    "print('F1-мера:', f1_score(target_valid, predicted_valid))\n",
    "print('AUC-ROC:', roc_auc_score(target_valid, probabilities_one_valid))"
   ]
  },
  {
   "cell_type": "code",
   "execution_count": 24,
   "metadata": {},
   "outputs": [
    {
     "data": {
      "image/png": "[encoded data removed]",
      "text/plain": [
       "<Figure size 432x288 with 1 Axes>"
      ]
     },
     "metadata": {
      "needs_background": "light"
     },
     "output_type": "display_data"
    }
   ],
   "source": [
    "fpr, tpr, thresholds = roc_curve(target_valid, probabilities_one_valid)\n",
    "\n",
    "plt.figure()\n",
    "\n",
    "plt.plot([0, 1], [0, 1], linestyle='--')\n",
    "plt.plot(fpr, tpr)\n",
    "\n",
    "plt.xlim([0, 1])\n",
    "plt.ylim([0, 1])\n",
    "plt.xlabel('False Positive Rate')\n",
    "plt.ylabel('True Positive Rate')\n",
    "plt.title('ROC-кривая')\n",
    "plt.show()"
   ]
  },
  {
   "cell_type": "markdown",
   "metadata": {},
   "source": [
    "Наилучшие результаты по F1 и AUC-ROC показывает модель случайного леса - 0.58, однако это не превышает необходимого 0.59 и результаты далеки от единицы. Потребуется устранение дисбаланса классов, очень велика доля истинно отрицальных ответов и мала доля ложноположительных."
   ]
  },
  {
   "cell_type": "markdown",
   "metadata": {},
   "source": [
    "## Борьба с дисбалансом"
   ]
  },
  {
   "cell_type": "markdown",
   "metadata": {},
   "source": [
    "### Взвешивание классов\n"
   ]
  },
  {
   "cell_type": "markdown",
   "metadata": {},
   "source": [
    "#### Логистическая регрессия"
   ]
  },
  {
   "cell_type": "code",
   "execution_count": 25,
   "metadata": {},
   "outputs": [
    {
     "name": "stdout",
     "output_type": "stream",
     "text": [
      "Матрица ошибок:\n",
      "[[1024  558]\n",
      " [ 137  281]]\n",
      "F1-мера: 0.44709626093874305\n",
      "AUC-ROC: 0.7132694971539871\n"
     ]
    }
   ],
   "source": [
    "model = LogisticRegression(random_state=12345, class_weight='balanced')\n",
    "model.fit(features_train, target_train)\n",
    "predicted_valid = model.predict(features_valid)\n",
    "\n",
    "probabilities_valid = model.predict_proba(features_valid)\n",
    "probabilities_one_valid = probabilities_valid[:, 1]\n",
    "\n",
    "print('Матрица ошибок:')\n",
    "print(confusion_matrix(target_valid, predicted_valid))\n",
    "print('F1-мера:', f1_score(target_valid, predicted_valid))\n",
    "print('AUC-ROC:', roc_auc_score(target_valid, probabilities_one_valid))"
   ]
  },
  {
   "cell_type": "markdown",
   "metadata": {},
   "source": [
    "#### Решающее дерево"
   ]
  },
  {
   "cell_type": "code",
   "execution_count": 26,
   "metadata": {},
   "outputs": [
    {
     "name": "stdout",
     "output_type": "stream",
     "text": [
      "Матрица ошибок:\n",
      "[[1266  316]\n",
      " [ 139  279]]\n",
      "F1-мера: 0.5508390918065154\n",
      "AUC-ROC: 0.7942001524325698\n"
     ]
    }
   ],
   "source": [
    "model = DecisionTreeClassifier(max_depth=7, random_state=12345, class_weight='balanced')\n",
    "model.fit(features_train, target_train)\n",
    "predicted_valid = model.predict(features_valid)\n",
    "\n",
    "probabilities_valid = model.predict_proba(features_valid)\n",
    "probabilities_one_valid = probabilities_valid[:, 1]\n",
    "\n",
    "print('Матрица ошибок:')\n",
    "print(confusion_matrix(target_valid, predicted_valid))\n",
    "print('F1-мера:', f1_score(target_valid, predicted_valid))\n",
    "print('AUC-ROC:', roc_auc_score(target_valid, probabilities_one_valid))"
   ]
  },
  {
   "cell_type": "markdown",
   "metadata": {},
   "source": [
    "#### Случайный лес"
   ]
  },
  {
   "cell_type": "code",
   "execution_count": 27,
   "metadata": {},
   "outputs": [
    {
     "name": "stdout",
     "output_type": "stream",
     "text": [
      "Матрица ошибок:\n",
      "[[1407  175]\n",
      " [ 142  276]]\n",
      "F1-мера: 0.6352128883774453\n",
      "AUC-ROC: 0.8520647959399706\n"
     ]
    }
   ],
   "source": [
    "model = RandomForestClassifier(n_estimators=70, max_depth=9, random_state=12345, class_weight='balanced')\n",
    "model.fit(features_train, target_train)\n",
    "predicted_valid = model.predict(features_valid)\n",
    "\n",
    "probabilities_valid = model.predict_proba(features_valid)\n",
    "probabilities_one_valid = probabilities_valid[:, 1]\n",
    "\n",
    "print('Матрица ошибок:')\n",
    "print(confusion_matrix(target_valid, predicted_valid))\n",
    "print('F1-мера:', f1_score(target_valid, predicted_valid))\n",
    "print('AUC-ROC:', roc_auc_score(target_valid, probabilities_one_valid))"
   ]
  },
  {
   "cell_type": "markdown",
   "metadata": {},
   "source": [
    "При взвешивании классов лучший результат показывает модель случайного леса - 0.635, что превышает необходимое значение в 0.59."
   ]
  },
  {
   "cell_type": "markdown",
   "metadata": {},
   "source": [
    "### Уменьшение выборки (downsampling)"
   ]
  },
  {
   "cell_type": "markdown",
   "metadata": {},
   "source": [
    "Напишем функцию *downsample*, принимающую на вход аргументы:\n",
    "- features — признаки;\n",
    "- target — целевой признак;\n",
    "- fraction — доля отрицательных объектов, которые нужно сохранить."
   ]
  },
  {
   "cell_type": "code",
   "execution_count": 28,
   "metadata": {},
   "outputs": [],
   "source": [
    "def downsample(features, target, fraction):\n",
    "    features_zeros = features[target == 0]\n",
    "    features_ones = features[target == 1]\n",
    "    target_zeros = target[target == 0]\n",
    "    target_ones = target[target == 1]\n",
    "\n",
    "    features_downsampled = pd.concat(\n",
    "        [features_zeros.sample(frac=fraction, random_state=12345)] + [features_ones])\n",
    "    target_downsampled = pd.concat(\n",
    "        [target_zeros.sample(frac=fraction, random_state=12345)] + [target_ones])\n",
    "    \n",
    "    features_downsampled, target_downsampled = shuffle(\n",
    "        features_downsampled, target_downsampled, random_state=12345)\n",
    "    \n",
    "    return features_downsampled, target_downsampled"
   ]
  },
  {
   "cell_type": "markdown",
   "metadata": {},
   "source": [
    "Применим функцию к обучающей выборке с аргументом fraction=0.4:"
   ]
  },
  {
   "cell_type": "code",
   "execution_count": 29,
   "metadata": {},
   "outputs": [],
   "source": [
    "features_downsampled, target_downsampled = downsample(features_train, target_train, 0.4)"
   ]
  },
  {
   "cell_type": "markdown",
   "metadata": {},
   "source": [
    "#### Логистическая регрессия"
   ]
  },
  {
   "cell_type": "code",
   "execution_count": 30,
   "metadata": {},
   "outputs": [
    {
     "name": "stdout",
     "output_type": "stream",
     "text": [
      "Матрица ошибок:\n",
      "[[1314  268]\n",
      " [ 238  180]]\n",
      "F1-мера: 0.41570438799076215\n",
      "AUC-ROC: 0.8520647959399706\n"
     ]
    }
   ],
   "source": [
    "model = LogisticRegression(random_state=12345, solver='liblinear')\n",
    "model.fit(features_downsampled, target_downsampled)\n",
    "predicted_valid = model.predict(features_valid)\n",
    "print('Матрица ошибок:')\n",
    "print(confusion_matrix(target_valid, predicted_valid))\n",
    "print('F1-мера:', f1_score(target_valid, predicted_valid))\n",
    "print('AUC-ROC:', roc_auc_score(target_valid, probabilities_one_valid))"
   ]
  },
  {
   "cell_type": "markdown",
   "metadata": {},
   "source": [
    "#### Решающее дерево"
   ]
  },
  {
   "cell_type": "markdown",
   "metadata": {},
   "source": [
    "Подберем оптимальные параметры с помощью GridSearchCV:"
   ]
  },
  {
   "cell_type": "code",
   "execution_count": 31,
   "metadata": {},
   "outputs": [
    {
     "name": "stdout",
     "output_type": "stream",
     "text": [
      "{'max_depth': 7}\n"
     ]
    }
   ],
   "source": [
    "grid_tree.fit(features_downsampled, target_downsampled)\n",
    "\n",
    "print(grid_tree.best_params_)"
   ]
  },
  {
   "cell_type": "code",
   "execution_count": 32,
   "metadata": {},
   "outputs": [
    {
     "name": "stdout",
     "output_type": "stream",
     "text": [
      "Матрица ошибок:\n",
      "[[1348  234]\n",
      " [ 160  258]]\n",
      "F1-мера: 0.5670329670329671\n",
      "AUC-ROC: 0.8520647959399706\n"
     ]
    }
   ],
   "source": [
    "model = DecisionTreeClassifier(max_depth=7, random_state=12345)\n",
    "\n",
    "model.fit(features_downsampled, target_downsampled)\n",
    "predicted_valid = model.predict(features_valid)\n",
    "print('Матрица ошибок:')\n",
    "print(confusion_matrix(target_valid, predicted_valid))\n",
    "print('F1-мера:', f1_score(target_valid, predicted_valid))\n",
    "print('AUC-ROC:', roc_auc_score(target_valid, probabilities_one_valid))"
   ]
  },
  {
   "cell_type": "markdown",
   "metadata": {},
   "source": [
    "#### Случайный лес"
   ]
  },
  {
   "cell_type": "markdown",
   "metadata": {},
   "source": [
    "Подберем оптимальные параметры с помощью GridSearchCV:"
   ]
  },
  {
   "cell_type": "code",
   "execution_count": 33,
   "metadata": {},
   "outputs": [
    {
     "name": "stdout",
     "output_type": "stream",
     "text": [
      "{'max_depth': 9, 'n_estimators': 90}\n"
     ]
    }
   ],
   "source": [
    "grid_forest.fit(features_downsampled, target_downsampled)\n",
    "print(grid_forest.best_params_)"
   ]
  },
  {
   "cell_type": "code",
   "execution_count": 34,
   "metadata": {},
   "outputs": [
    {
     "name": "stdout",
     "output_type": "stream",
     "text": [
      "Матрица ошибок:\n",
      "[[1417  165]\n",
      " [ 144  274]]\n",
      "F1-мера: 0.6394399066511085\n",
      "AUC-ROC: 0.8520647959399706\n"
     ]
    }
   ],
   "source": [
    "model = RandomForestClassifier(n_estimators=100, max_depth=9, random_state=12345)\n",
    "model.fit(features_downsampled, target_downsampled)\n",
    "predicted_valid = model.predict(features_valid)\n",
    "print('Матрица ошибок:')\n",
    "print(confusion_matrix(target_valid, predicted_valid))\n",
    "print('F1-мера:', f1_score(target_valid, predicted_valid))\n",
    "print('AUC-ROC:', roc_auc_score(target_valid, probabilities_one_valid))"
   ]
  },
  {
   "cell_type": "markdown",
   "metadata": {},
   "source": [
    "При уменьшении выборки лучший результат показывает модель случайного леса - 0.639, что превышает необходимое значение в 0.59."
   ]
  },
  {
   "cell_type": "markdown",
   "metadata": {},
   "source": [
    "### Увеличение выборки (upsampling)"
   ]
  },
  {
   "cell_type": "markdown",
   "metadata": {},
   "source": [
    "Напишем функцию *upsample*, принимающую на вход аргументы:\n",
    "- features — признаки;\n",
    "- target — целевой признак;\n",
    "- repeat — количество повторений."
   ]
  },
  {
   "cell_type": "code",
   "execution_count": 35,
   "metadata": {},
   "outputs": [],
   "source": [
    "def upsample(features, target, repeat):\n",
    "    features_zeros = features[target == 0]\n",
    "    features_ones = features[target == 1]\n",
    "    target_zeros = target[target == 0]\n",
    "    target_ones = target[target == 1]\n",
    "\n",
    "    features_upsampled = pd.concat([features_zeros] + [features_ones] * repeat)\n",
    "    target_upsampled = pd.concat([target_zeros] + [target_ones] * repeat)\n",
    "    \n",
    "    features_upsampled, target_upsampled = shuffle(\n",
    "        features_upsampled, target_upsampled, random_state=12345)\n",
    "    \n",
    "    return features_upsampled, target_upsampled"
   ]
  },
  {
   "cell_type": "markdown",
   "metadata": {},
   "source": [
    "Применим функцию к обучающей выборке с аргументом repeat=4:"
   ]
  },
  {
   "cell_type": "code",
   "execution_count": 36,
   "metadata": {},
   "outputs": [],
   "source": [
    "features_upsampled, target_upsampled = upsample(features_train, target_train, 4)"
   ]
  },
  {
   "cell_type": "markdown",
   "metadata": {},
   "source": [
    "#### Логистическая регрессия"
   ]
  },
  {
   "cell_type": "code",
   "execution_count": 37,
   "metadata": {},
   "outputs": [
    {
     "name": "stdout",
     "output_type": "stream",
     "text": [
      "Матрица ошибок:\n",
      "[[1039  543]\n",
      " [ 138  280]]\n",
      "F1-мера: 0.4512489927477841\n",
      "AUC-ROC: 0.8520647959399706\n"
     ]
    }
   ],
   "source": [
    "model = LogisticRegression(random_state=12345, solver='liblinear')\n",
    "model.fit(features_upsampled, target_upsampled)\n",
    "predicted_valid = model.predict(features_valid)\n",
    "print('Матрица ошибок:')\n",
    "print(confusion_matrix(target_valid, predicted_valid))\n",
    "print('F1-мера:', f1_score(target_valid, predicted_valid))\n",
    "print('AUC-ROC:', roc_auc_score(target_valid, probabilities_one_valid))"
   ]
  },
  {
   "cell_type": "markdown",
   "metadata": {},
   "source": [
    "#### Решающее дерево"
   ]
  },
  {
   "cell_type": "markdown",
   "metadata": {},
   "source": [
    "Подберем оптимальные параметры с помощью GridSearchCV:"
   ]
  },
  {
   "cell_type": "code",
   "execution_count": 38,
   "metadata": {},
   "outputs": [
    {
     "name": "stdout",
     "output_type": "stream",
     "text": [
      "{'max_depth': 9}\n"
     ]
    }
   ],
   "source": [
    "grid_tree.fit(features_upsampled, target_upsampled)\n",
    "\n",
    "print(grid_tree.best_params_)"
   ]
  },
  {
   "cell_type": "code",
   "execution_count": 39,
   "metadata": {},
   "outputs": [
    {
     "name": "stdout",
     "output_type": "stream",
     "text": [
      "Матрица ошибок:\n",
      "[[1341  241]\n",
      " [ 138  280]]\n",
      "F1-мера: 0.5963791267305644\n",
      "AUC-ROC: 0.8520647959399706\n"
     ]
    }
   ],
   "source": [
    "model = DecisionTreeClassifier(max_depth=5, random_state=12345)\n",
    "model.fit(features_upsampled, target_upsampled)\n",
    "predicted_valid = model.predict(features_valid)\n",
    "print('Матрица ошибок:')\n",
    "print(confusion_matrix(target_valid, predicted_valid))\n",
    "print('F1-мера:', f1_score(target_valid, predicted_valid))\n",
    "print('AUC-ROC:', roc_auc_score(target_valid, probabilities_one_valid))"
   ]
  },
  {
   "cell_type": "markdown",
   "metadata": {},
   "source": [
    "#### Случайный лес"
   ]
  },
  {
   "cell_type": "markdown",
   "metadata": {},
   "source": [
    "Подберем оптимальные параметры с помощью GridSearchCV:"
   ]
  },
  {
   "cell_type": "code",
   "execution_count": 40,
   "metadata": {},
   "outputs": [
    {
     "name": "stdout",
     "output_type": "stream",
     "text": [
      "{'max_depth': 9, 'n_estimators': 60}\n"
     ]
    }
   ],
   "source": [
    "grid_forest.fit(features_upsampled, target_upsampled)\n",
    "print(grid_forest.best_params_)"
   ]
  },
  {
   "cell_type": "code",
   "execution_count": 41,
   "metadata": {},
   "outputs": [
    {
     "name": "stdout",
     "output_type": "stream",
     "text": [
      "Матрица ошибок:\n",
      "[[1354  228]\n",
      " [ 128  290]]\n",
      "F1-мера: 0.6196581196581197\n",
      "AUC-ROC: 0.8520647959399706\n"
     ]
    }
   ],
   "source": [
    "model = RandomForestClassifier(n_estimators=80, max_depth=9, random_state=12345)\n",
    "model.fit(features_upsampled, target_upsampled)\n",
    "predicted_valid = model.predict(features_valid)\n",
    "print('Матрица ошибок:')\n",
    "print(confusion_matrix(target_valid, predicted_valid))\n",
    "print('F1-мера:', f1_score(target_valid, predicted_valid))\n",
    "print('AUC-ROC:', roc_auc_score(target_valid, probabilities_one_valid))"
   ]
  },
  {
   "cell_type": "markdown",
   "metadata": {},
   "source": [
    "При увеличении выборки лучший результат также показывает модель случайного леса - 0.619, что превышает необходимое значение в 0.59."
   ]
  },
  {
   "cell_type": "markdown",
   "metadata": {},
   "source": [
    "### Изменение порога"
   ]
  },
  {
   "cell_type": "markdown",
   "metadata": {},
   "source": [
    "Найдем значения F1-меры для каждой из моделей, перебирая значения порогов от 0 до 0.5 с шагом 0.02:"
   ]
  },
  {
   "cell_type": "markdown",
   "metadata": {},
   "source": [
    "#### Логистическая регрессия"
   ]
  },
  {
   "cell_type": "code",
   "execution_count": 42,
   "metadata": {},
   "outputs": [
    {
     "name": "stdout",
     "output_type": "stream",
     "text": [
      "F1-мера = 0.41411042944785276 при пороге равном 0.2\n"
     ]
    }
   ],
   "source": [
    "model = LogisticRegression(random_state=12345, solver='liblinear')\n",
    "model.fit(features_train, target_train)\n",
    "probabilities_valid = model.predict_proba(features_valid)\n",
    "probabilities_one_valid = probabilities_valid[:, 1]\n",
    "f1_best = 0\n",
    "threshold_best = 0\n",
    "for threshold in np.arange(0, 0.5, 0.02):\n",
    "    predicted_valid = probabilities_one_valid > threshold\n",
    "    f1 = f1_score(target_valid, predicted_valid)\n",
    "    if f1 > f1_best:\n",
    "        f1_best = f1\n",
    "        threshold_best = threshold\n",
    "print('F1-мера =', f1_best, 'при пороге равном', threshold_best)        "
   ]
  },
  {
   "cell_type": "markdown",
   "metadata": {},
   "source": [
    "#### Решающее дерево"
   ]
  },
  {
   "cell_type": "code",
   "execution_count": 43,
   "metadata": {},
   "outputs": [
    {
     "name": "stdout",
     "output_type": "stream",
     "text": [
      "F1-мера = 0.5840909090909092 при пороге равном 0.28\n"
     ]
    }
   ],
   "source": [
    "model = DecisionTreeClassifier(max_depth=7, random_state=12345)\n",
    "model.fit(features_train, target_train)\n",
    "probabilities_valid = model.predict_proba(features_valid)\n",
    "probabilities_one_valid = probabilities_valid[:, 1]\n",
    "f1_best = 0\n",
    "threshold_best = 0\n",
    "for threshold in np.arange(0, 0.5, 0.02):\n",
    "    predicted_valid = probabilities_one_valid > threshold\n",
    "    f1 = f1_score(target_valid, predicted_valid)\n",
    "    if f1 > f1_best:\n",
    "        f1_best = f1\n",
    "        threshold_best = threshold\n",
    "print('F1-мера =', f1_best, 'при пороге равном', threshold_best)   "
   ]
  },
  {
   "cell_type": "markdown",
   "metadata": {},
   "source": [
    "#### Случайный лес"
   ]
  },
  {
   "cell_type": "code",
   "execution_count": 44,
   "metadata": {},
   "outputs": [
    {
     "name": "stdout",
     "output_type": "stream",
     "text": [
      "F1-мера = 0.6412213740458017 при пороге равном 0.34\n"
     ]
    }
   ],
   "source": [
    "model = RandomForestClassifier(n_estimators=70, max_depth=9, random_state=12345)\n",
    "model.fit(features_train, target_train)\n",
    "probabilities_valid = model.predict_proba(features_valid)\n",
    "probabilities_one_valid = probabilities_valid[:, 1]\n",
    "f1_best = 0\n",
    "threshold_best = 0\n",
    "for threshold in np.arange(0, 0.5, 0.02):\n",
    "    predicted_valid = probabilities_one_valid > threshold\n",
    "    f1 = f1_score(target_valid, predicted_valid)\n",
    "    if f1 > f1_best:\n",
    "        f1_best = f1\n",
    "        threshold_best = threshold\n",
    "print('F1-мера =', f1_best, 'при пороге равном', threshold_best)  "
   ]
  },
  {
   "cell_type": "markdown",
   "metadata": {},
   "source": [
    "При изменении порога лучший результат F1-меры снова показывает модель случайного леса - 0.641 при пороге 0.34, что превышает необходимое значение в 0.59."
   ]
  },
  {
   "cell_type": "markdown",
   "metadata": {},
   "source": [
    "## Тестирование модели"
   ]
  },
  {
   "cell_type": "markdown",
   "metadata": {},
   "source": [
    "Наилучшее значение показала модель случайного леса при изменении порога. Проверим на тестовой выборке:"
   ]
  },
  {
   "cell_type": "code",
   "execution_count": 45,
   "metadata": {},
   "outputs": [
    {
     "name": "stdout",
     "output_type": "stream",
     "text": [
      "Матрица ошибок:\n",
      "[[1521   56]\n",
      " [ 246  177]]\n",
      "F1-мера = 0.6136820925553319 при пороге равном 0.24\n",
      "AUC-ROC: 0.8560348148847723\n"
     ]
    }
   ],
   "source": [
    "model = RandomForestClassifier(n_estimators=70, max_depth=9, random_state=12345)\n",
    "model.fit(features_train, target_train)\n",
    "probabilities_test = model.predict_proba(features_test)\n",
    "probabilities_one_test = probabilities_test[:, 1]\n",
    "f1_best = 0\n",
    "threshold_best = 0\n",
    "for threshold in np.arange(0, 0.5, 0.02):\n",
    "    predicted_test = probabilities_one_test > threshold\n",
    "    f1 = f1_score(target_test, predicted_test)\n",
    "    if f1 > f1_best:\n",
    "        f1_best = f1\n",
    "        threshold_best = threshold\n",
    "\n",
    "print('Матрица ошибок:')\n",
    "print(confusion_matrix(target_test, predicted_test))\n",
    "print('F1-мера =', f1_best, 'при пороге равном', threshold_best)  \n",
    "print('AUC-ROC:', roc_auc_score(target_test, probabilities_one_test))"
   ]
  },
  {
   "cell_type": "markdown",
   "metadata": {},
   "source": []
  },
  {
   "cell_type": "code",
   "execution_count": 46,
   "metadata": {},
   "outputs": [
    {
     "data": {
      "image/png": "[encoded data removed]",
      "text/plain": [
       "<Figure size 432x288 with 1 Axes>"
      ]
     },
     "metadata": {
      "needs_background": "light"
     },
     "output_type": "display_data"
    }
   ],
   "source": [
    "fpr, tpr, thresholds = roc_curve(target_test, probabilities_one_test)\n",
    "\n",
    "plt.figure()\n",
    "\n",
    "plt.plot([0, 1], [0, 1], linestyle='--')\n",
    "plt.plot(fpr, tpr)\n",
    "\n",
    "plt.xlim([0, 1])\n",
    "plt.ylim([0, 1])\n",
    "plt.xlabel('False Positive Rate')\n",
    "plt.ylabel('True Positive Rate')\n",
    "plt.title('ROC-кривая')\n",
    "plt.show()"
   ]
  },
  {
   "cell_type": "markdown",
   "metadata": {},
   "source": [
    "Значение F1-меры на тестовой выборке - 0.613, что превышает необходимые 0.59.\n",
    "\n",
    "\n",
    "\n",
    "Также для проверки модели её можно сравнить со случайной моделью. \n",
    "\n",
    "Для этого возспользуемся DummyClassifier - этот классификатор служит для сравнения с другими более сложными классификаторами. (https://scikit-learn.org/stable/modules/generated/sklearn.dummy.DummyClassifier.html)"
   ]
  },
  {
   "cell_type": "code",
   "execution_count": 47,
   "metadata": {
    "scrolled": true
   },
   "outputs": [
    {
     "name": "stdout",
     "output_type": "stream",
     "text": [
      "Матрица ошибок:\n",
      "[[779 803]\n",
      " [210 208]]\n",
      "F1-мера: 0.2911126662001399\n",
      "AUC-ROC: 0.5\n"
     ]
    }
   ],
   "source": [
    "random_model = DummyClassifier(random_state=12345, strategy='uniform')\n",
    "random_model.fit(features_upsampled, target_upsampled)\n",
    "predicted_valid = random_model.predict(features_valid)\n",
    "random_predicted_valid = random_model.predict(features_valid)\n",
    "random_probabilities_valid = random_model.predict_proba(features_valid)\n",
    "random_probabilities_one_valid = random_probabilities_valid[:, 1]\n",
    "print('Матрица ошибок:')\n",
    "print(confusion_matrix(target_valid, random_predicted_valid))\n",
    "print('F1-мера:', f1_score(target_valid, random_predicted_valid))\n",
    "print('AUC-ROC:', roc_auc_score(target_valid, random_probabilities_one_valid))"
   ]
  },
  {
   "cell_type": "markdown",
   "metadata": {},
   "source": [
    "Значение F1-меры случайной модели на валидационной выборке равно 0.29, что намного меньше чем у случайного леса. AUC-ROC равное 0.5 характерно для случайной модели."
   ]
  },
  {
   "cell_type": "markdown",
   "metadata": {},
   "source": [
    "## Общий вывод"
   ]
  },
  {
   "cell_type": "markdown",
   "metadata": {},
   "source": [
    "Был исследован баланс классов, обучены модели без учёта дисбаланса:\n",
    " - для логистической регрессии F1-мера = 0.087\n",
    " - для решающего дерева F1-мера = 0.544\n",
    " - для случайного леса F1-мера = 0.581\n",
    " \n",
    "По итогам исследования мы определили, что необходимого значения F1-меры в 0.59 невозможно достичь без учета дисбаланса классов.\n",
    "\n",
    "Далее те же модели были изучены с помощью различных методов устранения дисбаланса классов:\n",
    " - взвешивание классов - лучший рез-т - случайный лес 0.635\n",
    " - уменьшение выборки - лучший рез-т - случайный лес 0.639\n",
    " - увеличение выборки - лучший рез-т - случайный лес 0.619\n",
    " - изменения порога - лучший рез-т - случайный лес 0.641\n",
    " \n",
    " \n",
    " По результатам исследования наилучшее значение F1-меры показывает модель случайного леса при изменении порога:\n",
    " - 0.641 на валидационной выборке\n",
    " - 0.613 на тестовой выборке."
   ]
  }
 ],
 "metadata": {
  "ExecuteTimeLog": [
   {
    "duration": 48,
    "start_time": "2022-07-01T10:43:12.862Z"
   },
   {
    "duration": 374,
    "start_time": "2022-07-01T10:43:14.964Z"
   },
   {
    "duration": 77,
    "start_time": "2022-07-01T10:43:15.340Z"
   },
   {
    "duration": 12,
    "start_time": "2022-07-01T10:45:05.935Z"
   },
   {
    "duration": 68,
    "start_time": "2022-07-01T14:10:45.637Z"
   },
   {
    "duration": 65,
    "start_time": "2022-07-01T14:11:27.838Z"
   },
   {
    "duration": 42,
    "start_time": "2022-07-01T14:12:32.020Z"
   },
   {
    "duration": 434,
    "start_time": "2022-07-01T14:12:37.498Z"
   },
   {
    "duration": 74,
    "start_time": "2022-07-01T14:12:38.776Z"
   },
   {
    "duration": 13,
    "start_time": "2022-07-01T14:12:40.031Z"
   },
   {
    "duration": 4,
    "start_time": "2022-07-01T14:12:43.637Z"
   },
   {
    "duration": 58,
    "start_time": "2022-07-01T14:12:58.239Z"
   },
   {
    "duration": 479,
    "start_time": "2022-07-01T14:13:40.795Z"
   },
   {
    "duration": 5,
    "start_time": "2022-07-01T14:14:15.270Z"
   },
   {
    "duration": 4,
    "start_time": "2022-07-01T14:14:53.268Z"
   },
   {
    "duration": 61,
    "start_time": "2022-07-01T14:15:39.060Z"
   },
   {
    "duration": 63,
    "start_time": "2022-07-01T14:16:01.538Z"
   },
   {
    "duration": 4,
    "start_time": "2022-07-01T14:16:19.501Z"
   },
   {
    "duration": 4,
    "start_time": "2022-07-01T14:17:00.277Z"
   },
   {
    "duration": 5,
    "start_time": "2022-07-01T14:17:27.069Z"
   },
   {
    "duration": 7,
    "start_time": "2022-07-01T14:17:43.436Z"
   },
   {
    "duration": 16,
    "start_time": "2022-07-01T14:18:43.242Z"
   },
   {
    "duration": 11,
    "start_time": "2022-07-01T14:19:12.069Z"
   },
   {
    "duration": 13,
    "start_time": "2022-07-01T14:19:25.358Z"
   },
   {
    "duration": 51,
    "start_time": "2022-07-01T14:20:20.427Z"
   },
   {
    "duration": 14,
    "start_time": "2022-07-01T14:20:24.284Z"
   },
   {
    "duration": 38,
    "start_time": "2022-07-01T14:21:37.687Z"
   },
   {
    "duration": 47,
    "start_time": "2022-07-01T14:21:44.591Z"
   },
   {
    "duration": 786,
    "start_time": "2022-07-01T14:22:28.562Z"
   },
   {
    "duration": 951,
    "start_time": "2022-07-01T14:22:58.692Z"
   },
   {
    "duration": 412,
    "start_time": "2022-07-01T14:23:05.594Z"
   },
   {
    "duration": 45,
    "start_time": "2022-07-01T14:23:06.008Z"
   },
   {
    "duration": 12,
    "start_time": "2022-07-01T14:23:06.054Z"
   },
   {
    "duration": 6,
    "start_time": "2022-07-01T14:23:06.067Z"
   },
   {
    "duration": 16,
    "start_time": "2022-07-01T14:23:06.075Z"
   },
   {
    "duration": 5,
    "start_time": "2022-07-01T14:23:06.093Z"
   },
   {
    "duration": 4,
    "start_time": "2022-07-01T14:30:59.658Z"
   },
   {
    "duration": 9,
    "start_time": "2022-07-01T14:31:07.486Z"
   },
   {
    "duration": 5,
    "start_time": "2022-07-01T14:31:12.554Z"
   },
   {
    "duration": 62,
    "start_time": "2022-07-01T14:38:36.120Z"
   },
   {
    "duration": 5,
    "start_time": "2022-07-01T14:38:41.276Z"
   },
   {
    "duration": 7,
    "start_time": "2022-07-01T14:41:26.689Z"
   },
   {
    "duration": 663,
    "start_time": "2022-07-01T14:41:43.785Z"
   },
   {
    "duration": 41,
    "start_time": "2022-07-01T14:41:47.386Z"
   },
   {
    "duration": 9,
    "start_time": "2022-07-01T14:41:54.119Z"
   },
   {
    "duration": 7,
    "start_time": "2022-07-01T15:52:35.966Z"
   },
   {
    "duration": 11,
    "start_time": "2022-07-01T15:52:39.566Z"
   },
   {
    "duration": 16,
    "start_time": "2022-07-01T15:52:47.526Z"
   },
   {
    "duration": 11,
    "start_time": "2022-07-01T15:52:51.374Z"
   },
   {
    "duration": 731,
    "start_time": "2022-07-01T15:52:54.260Z"
   },
   {
    "duration": 2091,
    "start_time": "2022-07-01T15:59:45.497Z"
   },
   {
    "duration": 1097,
    "start_time": "2022-07-01T16:00:10.378Z"
   },
   {
    "duration": 77,
    "start_time": "2022-07-01T16:00:11.477Z"
   },
   {
    "duration": 22,
    "start_time": "2022-07-01T16:00:11.562Z"
   },
   {
    "duration": 13,
    "start_time": "2022-07-01T16:00:11.587Z"
   },
   {
    "duration": 29,
    "start_time": "2022-07-01T16:00:11.602Z"
   },
   {
    "duration": 15,
    "start_time": "2022-07-01T16:00:11.636Z"
   },
   {
    "duration": 43,
    "start_time": "2022-07-01T16:00:11.656Z"
   },
   {
    "duration": 1417,
    "start_time": "2022-07-01T16:00:11.701Z"
   },
   {
    "duration": 0,
    "start_time": "2022-07-01T16:00:13.120Z"
   },
   {
    "duration": 0,
    "start_time": "2022-07-01T16:00:13.121Z"
   },
   {
    "duration": 0,
    "start_time": "2022-07-01T16:00:13.122Z"
   },
   {
    "duration": 10,
    "start_time": "2022-07-01T16:00:21.619Z"
   },
   {
    "duration": 6,
    "start_time": "2022-07-01T16:03:42.994Z"
   },
   {
    "duration": 11,
    "start_time": "2022-07-01T16:07:36.579Z"
   },
   {
    "duration": 4,
    "start_time": "2022-07-01T16:07:41.144Z"
   },
   {
    "duration": 10,
    "start_time": "2022-07-01T16:07:44.087Z"
   },
   {
    "duration": 9,
    "start_time": "2022-07-01T16:08:43.676Z"
   },
   {
    "duration": 10,
    "start_time": "2022-07-01T16:08:45.564Z"
   },
   {
    "duration": 1323,
    "start_time": "2022-07-01T16:08:57.839Z"
   },
   {
    "duration": 49,
    "start_time": "2022-07-01T16:08:59.170Z"
   },
   {
    "duration": 26,
    "start_time": "2022-07-01T16:08:59.220Z"
   },
   {
    "duration": 25,
    "start_time": "2022-07-01T16:08:59.248Z"
   },
   {
    "duration": 14,
    "start_time": "2022-07-01T16:08:59.276Z"
   },
   {
    "duration": 6,
    "start_time": "2022-07-01T16:08:59.291Z"
   },
   {
    "duration": 5,
    "start_time": "2022-07-01T16:08:59.298Z"
   },
   {
    "duration": 10,
    "start_time": "2022-07-01T16:08:59.305Z"
   },
   {
    "duration": 4,
    "start_time": "2022-07-01T16:08:59.317Z"
   },
   {
    "duration": 48,
    "start_time": "2022-07-01T16:08:59.323Z"
   },
   {
    "duration": 20,
    "start_time": "2022-07-01T16:08:59.373Z"
   },
   {
    "duration": 151,
    "start_time": "2022-07-01T16:09:54.739Z"
   },
   {
    "duration": 52,
    "start_time": "2022-07-01T16:10:20.020Z"
   },
   {
    "duration": 42,
    "start_time": "2022-07-01T16:24:46.805Z"
   },
   {
    "duration": 23,
    "start_time": "2022-07-01T16:26:00.481Z"
   },
   {
    "duration": 7,
    "start_time": "2022-07-01T16:26:07.914Z"
   },
   {
    "duration": 23,
    "start_time": "2022-07-01T16:26:10.873Z"
   },
   {
    "duration": 718,
    "start_time": "2022-07-01T16:26:36.607Z"
   },
   {
    "duration": 1075,
    "start_time": "2022-07-01T16:26:47.424Z"
   },
   {
    "duration": 45,
    "start_time": "2022-07-01T16:26:48.501Z"
   },
   {
    "duration": 14,
    "start_time": "2022-07-01T16:26:48.548Z"
   },
   {
    "duration": 8,
    "start_time": "2022-07-01T16:26:48.564Z"
   },
   {
    "duration": 18,
    "start_time": "2022-07-01T16:26:48.574Z"
   },
   {
    "duration": 5,
    "start_time": "2022-07-01T16:26:48.594Z"
   },
   {
    "duration": 25,
    "start_time": "2022-07-01T16:26:48.601Z"
   },
   {
    "duration": 1035,
    "start_time": "2022-07-01T16:26:48.628Z"
   },
   {
    "duration": 0,
    "start_time": "2022-07-01T16:26:49.664Z"
   },
   {
    "duration": 0,
    "start_time": "2022-07-01T16:26:49.665Z"
   },
   {
    "duration": 0,
    "start_time": "2022-07-01T16:26:49.666Z"
   },
   {
    "duration": 794,
    "start_time": "2022-07-01T16:27:32.832Z"
   },
   {
    "duration": 744,
    "start_time": "2022-07-01T16:27:40.042Z"
   },
   {
    "duration": 3,
    "start_time": "2022-07-01T16:27:48.992Z"
   },
   {
    "duration": 36,
    "start_time": "2022-07-01T16:27:50.101Z"
   },
   {
    "duration": 12,
    "start_time": "2022-07-01T16:27:53.600Z"
   },
   {
    "duration": 7,
    "start_time": "2022-07-01T16:27:56.011Z"
   },
   {
    "duration": 15,
    "start_time": "2022-07-01T16:27:57.408Z"
   },
   {
    "duration": 7,
    "start_time": "2022-07-01T16:27:59.161Z"
   },
   {
    "duration": 5,
    "start_time": "2022-07-01T16:28:00.311Z"
   },
   {
    "duration": 810,
    "start_time": "2022-07-01T16:28:01.901Z"
   },
   {
    "duration": 810,
    "start_time": "2022-07-01T16:28:40.160Z"
   },
   {
    "duration": 868,
    "start_time": "2022-07-01T16:28:50.907Z"
   },
   {
    "duration": 3,
    "start_time": "2022-07-01T16:29:08.985Z"
   },
   {
    "duration": 45,
    "start_time": "2022-07-01T16:29:08.990Z"
   },
   {
    "duration": 12,
    "start_time": "2022-07-01T16:29:09.037Z"
   },
   {
    "duration": 6,
    "start_time": "2022-07-01T16:29:09.051Z"
   },
   {
    "duration": 15,
    "start_time": "2022-07-01T16:29:09.059Z"
   },
   {
    "duration": 5,
    "start_time": "2022-07-01T16:29:09.076Z"
   },
   {
    "duration": 4,
    "start_time": "2022-07-01T16:29:09.083Z"
   },
   {
    "duration": 866,
    "start_time": "2022-07-01T16:29:09.089Z"
   },
   {
    "duration": 0,
    "start_time": "2022-07-01T16:29:09.957Z"
   },
   {
    "duration": 0,
    "start_time": "2022-07-01T16:29:09.958Z"
   },
   {
    "duration": 0,
    "start_time": "2022-07-01T16:29:09.959Z"
   },
   {
    "duration": 6,
    "start_time": "2022-07-01T16:29:41.349Z"
   },
   {
    "duration": 11,
    "start_time": "2022-07-01T16:29:47.113Z"
   },
   {
    "duration": 836,
    "start_time": "2022-07-01T16:30:19.698Z"
   },
   {
    "duration": 848,
    "start_time": "2022-07-01T16:30:26.027Z"
   },
   {
    "duration": 858,
    "start_time": "2022-07-01T16:31:11.033Z"
   },
   {
    "duration": 1117,
    "start_time": "2022-07-01T16:31:19.039Z"
   },
   {
    "duration": 44,
    "start_time": "2022-07-01T16:31:20.158Z"
   },
   {
    "duration": 13,
    "start_time": "2022-07-01T16:31:20.204Z"
   },
   {
    "duration": 1569,
    "start_time": "2022-07-01T16:31:20.219Z"
   },
   {
    "duration": 0,
    "start_time": "2022-07-01T16:31:21.790Z"
   },
   {
    "duration": 0,
    "start_time": "2022-07-01T16:31:21.791Z"
   },
   {
    "duration": 0,
    "start_time": "2022-07-01T16:31:21.792Z"
   },
   {
    "duration": 0,
    "start_time": "2022-07-01T16:31:21.793Z"
   },
   {
    "duration": 0,
    "start_time": "2022-07-01T16:31:21.794Z"
   },
   {
    "duration": 0,
    "start_time": "2022-07-01T16:31:21.795Z"
   },
   {
    "duration": 1152,
    "start_time": "2022-07-01T16:31:44.487Z"
   },
   {
    "duration": 44,
    "start_time": "2022-07-01T16:31:45.641Z"
   },
   {
    "duration": 12,
    "start_time": "2022-07-01T16:31:45.686Z"
   },
   {
    "duration": 1056,
    "start_time": "2022-07-01T16:31:45.699Z"
   },
   {
    "duration": 0,
    "start_time": "2022-07-01T16:31:46.757Z"
   },
   {
    "duration": 0,
    "start_time": "2022-07-01T16:31:46.758Z"
   },
   {
    "duration": 0,
    "start_time": "2022-07-01T16:31:46.759Z"
   },
   {
    "duration": 1084,
    "start_time": "2022-07-01T16:31:59.725Z"
   },
   {
    "duration": 915,
    "start_time": "2022-07-01T16:32:03.542Z"
   },
   {
    "duration": 1015,
    "start_time": "2022-07-01T16:32:19.048Z"
   },
   {
    "duration": 828,
    "start_time": "2022-07-01T16:32:25.905Z"
   },
   {
    "duration": 867,
    "start_time": "2022-07-01T16:33:49.801Z"
   },
   {
    "duration": 851,
    "start_time": "2022-07-01T16:33:58.413Z"
   },
   {
    "duration": 56,
    "start_time": "2022-07-01T16:34:11.327Z"
   },
   {
    "duration": 21,
    "start_time": "2022-07-01T16:34:14.070Z"
   },
   {
    "duration": 9,
    "start_time": "2022-07-01T16:34:28.937Z"
   },
   {
    "duration": 919,
    "start_time": "2022-07-01T16:34:37.372Z"
   },
   {
    "duration": 1523,
    "start_time": "2022-07-01T16:35:02.258Z"
   },
   {
    "duration": 18,
    "start_time": "2022-07-01T16:35:50.004Z"
   },
   {
    "duration": 1050,
    "start_time": "2022-07-01T16:36:05.989Z"
   },
   {
    "duration": 46,
    "start_time": "2022-07-01T16:36:07.041Z"
   },
   {
    "duration": 13,
    "start_time": "2022-07-01T16:36:07.089Z"
   },
   {
    "duration": 37,
    "start_time": "2022-07-01T16:36:07.103Z"
   },
   {
    "duration": 105,
    "start_time": "2022-07-01T16:36:07.142Z"
   },
   {
    "duration": 0,
    "start_time": "2022-07-01T16:36:07.249Z"
   },
   {
    "duration": 0,
    "start_time": "2022-07-01T16:36:07.250Z"
   },
   {
    "duration": 25,
    "start_time": "2022-07-01T16:36:39.720Z"
   },
   {
    "duration": 1148,
    "start_time": "2022-07-01T16:37:01.810Z"
   },
   {
    "duration": 44,
    "start_time": "2022-07-01T16:37:02.961Z"
   },
   {
    "duration": 13,
    "start_time": "2022-07-01T16:37:03.007Z"
   },
   {
    "duration": 45,
    "start_time": "2022-07-01T16:37:03.022Z"
   },
   {
    "duration": 111,
    "start_time": "2022-07-01T16:37:03.069Z"
   },
   {
    "duration": 0,
    "start_time": "2022-07-01T16:37:03.182Z"
   },
   {
    "duration": 0,
    "start_time": "2022-07-01T16:37:03.184Z"
   },
   {
    "duration": 1206,
    "start_time": "2022-07-01T16:37:30.817Z"
   },
   {
    "duration": 60,
    "start_time": "2022-07-01T16:37:32.025Z"
   },
   {
    "duration": 14,
    "start_time": "2022-07-01T16:37:32.087Z"
   },
   {
    "duration": 50,
    "start_time": "2022-07-01T16:37:32.103Z"
   },
   {
    "duration": 115,
    "start_time": "2022-07-01T16:37:32.155Z"
   },
   {
    "duration": 0,
    "start_time": "2022-07-01T16:37:32.272Z"
   },
   {
    "duration": 0,
    "start_time": "2022-07-01T16:37:32.274Z"
   },
   {
    "duration": 12,
    "start_time": "2022-07-01T16:37:48.569Z"
   },
   {
    "duration": 7,
    "start_time": "2022-07-01T16:38:17.399Z"
   },
   {
    "duration": 15,
    "start_time": "2022-07-01T16:38:26.759Z"
   },
   {
    "duration": 1109,
    "start_time": "2022-07-01T16:38:33.359Z"
   },
   {
    "duration": 67,
    "start_time": "2022-07-01T16:38:34.471Z"
   },
   {
    "duration": 16,
    "start_time": "2022-07-01T16:38:34.540Z"
   },
   {
    "duration": 12,
    "start_time": "2022-07-01T16:38:34.558Z"
   },
   {
    "duration": 18,
    "start_time": "2022-07-01T16:38:34.573Z"
   },
   {
    "duration": 7,
    "start_time": "2022-07-01T16:38:34.593Z"
   },
   {
    "duration": 9,
    "start_time": "2022-07-01T16:38:34.602Z"
   },
   {
    "duration": 45,
    "start_time": "2022-07-01T16:38:34.638Z"
   },
   {
    "duration": 29,
    "start_time": "2022-07-01T16:38:34.685Z"
   },
   {
    "duration": 21,
    "start_time": "2022-07-01T16:38:34.716Z"
   },
   {
    "duration": 140,
    "start_time": "2022-07-01T16:38:34.740Z"
   },
   {
    "duration": 12,
    "start_time": "2022-07-01T16:39:33.389Z"
   },
   {
    "duration": 801,
    "start_time": "2022-07-01T16:41:39.292Z"
   },
   {
    "duration": 770,
    "start_time": "2022-07-01T16:43:30.771Z"
   },
   {
    "duration": 773,
    "start_time": "2022-07-01T16:43:40.018Z"
   },
   {
    "duration": 1065,
    "start_time": "2022-07-01T16:43:44.155Z"
   },
   {
    "duration": 45,
    "start_time": "2022-07-01T16:43:45.222Z"
   },
   {
    "duration": 12,
    "start_time": "2022-07-01T16:43:45.269Z"
   },
   {
    "duration": 6,
    "start_time": "2022-07-01T16:43:45.283Z"
   },
   {
    "duration": 22,
    "start_time": "2022-07-01T16:43:45.292Z"
   },
   {
    "duration": 15,
    "start_time": "2022-07-01T16:43:45.326Z"
   },
   {
    "duration": 5,
    "start_time": "2022-07-01T16:43:45.342Z"
   },
   {
    "duration": 10,
    "start_time": "2022-07-01T16:43:45.348Z"
   },
   {
    "duration": 37,
    "start_time": "2022-07-01T16:43:45.360Z"
   },
   {
    "duration": 110,
    "start_time": "2022-07-01T16:43:45.398Z"
   },
   {
    "duration": 0,
    "start_time": "2022-07-01T16:43:45.510Z"
   },
   {
    "duration": 0,
    "start_time": "2022-07-01T16:43:45.511Z"
   },
   {
    "duration": 0,
    "start_time": "2022-07-01T16:43:45.513Z"
   },
   {
    "duration": 697,
    "start_time": "2022-07-01T16:44:05.602Z"
   },
   {
    "duration": 14,
    "start_time": "2022-07-01T16:46:17.255Z"
   },
   {
    "duration": 1097,
    "start_time": "2022-07-01T16:46:23.126Z"
   },
   {
    "duration": 46,
    "start_time": "2022-07-01T16:46:24.225Z"
   },
   {
    "duration": 14,
    "start_time": "2022-07-01T16:46:24.273Z"
   },
   {
    "duration": 8,
    "start_time": "2022-07-01T16:46:24.289Z"
   },
   {
    "duration": 30,
    "start_time": "2022-07-01T16:46:24.300Z"
   },
   {
    "duration": 15,
    "start_time": "2022-07-01T16:46:24.332Z"
   },
   {
    "duration": 5,
    "start_time": "2022-07-01T16:46:24.349Z"
   },
   {
    "duration": 5,
    "start_time": "2022-07-01T16:46:24.356Z"
   },
   {
    "duration": 31,
    "start_time": "2022-07-01T16:46:24.362Z"
   },
   {
    "duration": 147,
    "start_time": "2022-07-01T16:46:24.395Z"
   },
   {
    "duration": 0,
    "start_time": "2022-07-01T16:46:24.544Z"
   },
   {
    "duration": 0,
    "start_time": "2022-07-01T16:46:24.547Z"
   },
   {
    "duration": 0,
    "start_time": "2022-07-01T16:46:24.549Z"
   },
   {
    "duration": 1063,
    "start_time": "2022-07-01T16:46:50.283Z"
   },
   {
    "duration": 50,
    "start_time": "2022-07-01T16:46:51.348Z"
   },
   {
    "duration": 13,
    "start_time": "2022-07-01T16:46:51.400Z"
   },
   {
    "duration": 13,
    "start_time": "2022-07-01T16:46:51.416Z"
   },
   {
    "duration": 15,
    "start_time": "2022-07-01T16:46:51.431Z"
   },
   {
    "duration": 22,
    "start_time": "2022-07-01T16:46:51.448Z"
   },
   {
    "duration": 6,
    "start_time": "2022-07-01T16:46:51.471Z"
   },
   {
    "duration": 4,
    "start_time": "2022-07-01T16:46:51.479Z"
   },
   {
    "duration": 62,
    "start_time": "2022-07-01T16:46:51.486Z"
   },
   {
    "duration": 119,
    "start_time": "2022-07-01T16:46:51.550Z"
   },
   {
    "duration": 0,
    "start_time": "2022-07-01T16:46:51.670Z"
   },
   {
    "duration": 0,
    "start_time": "2022-07-01T16:46:51.672Z"
   },
   {
    "duration": 0,
    "start_time": "2022-07-01T16:46:51.673Z"
   },
   {
    "duration": 5,
    "start_time": "2022-07-01T16:47:38.131Z"
   },
   {
    "duration": 1084,
    "start_time": "2022-07-01T16:47:47.220Z"
   },
   {
    "duration": 46,
    "start_time": "2022-07-01T16:47:48.306Z"
   },
   {
    "duration": 12,
    "start_time": "2022-07-01T16:47:48.354Z"
   },
   {
    "duration": 11,
    "start_time": "2022-07-01T16:47:48.368Z"
   },
   {
    "duration": 11,
    "start_time": "2022-07-01T16:47:48.382Z"
   },
   {
    "duration": 32,
    "start_time": "2022-07-01T16:47:48.395Z"
   },
   {
    "duration": 5,
    "start_time": "2022-07-01T16:47:48.429Z"
   },
   {
    "duration": 5,
    "start_time": "2022-07-01T16:47:48.436Z"
   },
   {
    "duration": 24,
    "start_time": "2022-07-01T16:47:48.443Z"
   },
   {
    "duration": 5,
    "start_time": "2022-07-01T16:47:48.468Z"
   },
   {
    "duration": 8,
    "start_time": "2022-07-01T16:47:48.475Z"
   },
   {
    "duration": 160,
    "start_time": "2022-07-01T16:47:48.484Z"
   },
   {
    "duration": 12,
    "start_time": "2022-07-01T16:51:03.450Z"
   },
   {
    "duration": 28,
    "start_time": "2022-07-01T16:51:12.429Z"
   },
   {
    "duration": 16,
    "start_time": "2022-07-01T16:54:50.066Z"
   },
   {
    "duration": 25,
    "start_time": "2022-07-01T16:55:07.298Z"
   },
   {
    "duration": 31,
    "start_time": "2022-07-01T16:55:22.534Z"
   },
   {
    "duration": 16,
    "start_time": "2022-07-01T16:55:25.714Z"
   },
   {
    "duration": 23,
    "start_time": "2022-07-01T16:55:39.772Z"
   },
   {
    "duration": 24,
    "start_time": "2022-07-01T16:56:43.812Z"
   },
   {
    "duration": 21,
    "start_time": "2022-07-01T16:57:29.490Z"
   },
   {
    "duration": 22,
    "start_time": "2022-07-01T16:57:54.662Z"
   },
   {
    "duration": 1124,
    "start_time": "2022-07-01T16:58:17.309Z"
   },
   {
    "duration": 47,
    "start_time": "2022-07-01T16:58:18.435Z"
   },
   {
    "duration": 16,
    "start_time": "2022-07-01T16:58:18.484Z"
   },
   {
    "duration": 7,
    "start_time": "2022-07-01T16:58:18.502Z"
   },
   {
    "duration": 12,
    "start_time": "2022-07-01T16:58:18.525Z"
   },
   {
    "duration": 19,
    "start_time": "2022-07-01T16:58:18.539Z"
   },
   {
    "duration": 6,
    "start_time": "2022-07-01T16:58:18.560Z"
   },
   {
    "duration": 12,
    "start_time": "2022-07-01T16:58:18.567Z"
   },
   {
    "duration": 55,
    "start_time": "2022-07-01T16:58:18.581Z"
   },
   {
    "duration": 24,
    "start_time": "2022-07-01T16:58:18.638Z"
   },
   {
    "duration": 5,
    "start_time": "2022-07-01T16:58:18.664Z"
   },
   {
    "duration": 8,
    "start_time": "2022-07-01T16:58:18.671Z"
   },
   {
    "duration": 127,
    "start_time": "2022-07-01T16:59:09.113Z"
   },
   {
    "duration": 1157,
    "start_time": "2022-07-01T16:59:17.889Z"
   },
   {
    "duration": 46,
    "start_time": "2022-07-01T16:59:19.048Z"
   },
   {
    "duration": 12,
    "start_time": "2022-07-01T16:59:19.096Z"
   },
   {
    "duration": 10,
    "start_time": "2022-07-01T16:59:19.110Z"
   },
   {
    "duration": 31,
    "start_time": "2022-07-01T16:59:19.121Z"
   },
   {
    "duration": 20,
    "start_time": "2022-07-01T16:59:19.154Z"
   },
   {
    "duration": 7,
    "start_time": "2022-07-01T16:59:19.176Z"
   },
   {
    "duration": 10,
    "start_time": "2022-07-01T16:59:19.186Z"
   },
   {
    "duration": 42,
    "start_time": "2022-07-01T16:59:19.198Z"
   },
   {
    "duration": 115,
    "start_time": "2022-07-01T16:59:19.247Z"
   },
   {
    "duration": 0,
    "start_time": "2022-07-01T16:59:19.364Z"
   },
   {
    "duration": 0,
    "start_time": "2022-07-01T16:59:19.366Z"
   },
   {
    "duration": 10,
    "start_time": "2022-07-01T17:00:05.447Z"
   },
   {
    "duration": 12,
    "start_time": "2022-07-01T17:00:15.067Z"
   },
   {
    "duration": 1200,
    "start_time": "2022-07-01T17:00:33.751Z"
   },
   {
    "duration": 47,
    "start_time": "2022-07-01T17:00:34.953Z"
   },
   {
    "duration": 16,
    "start_time": "2022-07-01T17:00:35.002Z"
   },
   {
    "duration": 19,
    "start_time": "2022-07-01T17:00:35.019Z"
   },
   {
    "duration": 31,
    "start_time": "2022-07-01T17:00:35.041Z"
   },
   {
    "duration": 28,
    "start_time": "2022-07-01T17:00:35.074Z"
   },
   {
    "duration": 6,
    "start_time": "2022-07-01T17:00:35.104Z"
   },
   {
    "duration": 9,
    "start_time": "2022-07-01T17:00:35.112Z"
   },
   {
    "duration": 48,
    "start_time": "2022-07-01T17:00:35.123Z"
   },
   {
    "duration": 26,
    "start_time": "2022-07-01T17:00:35.173Z"
   },
   {
    "duration": 5,
    "start_time": "2022-07-01T17:00:35.201Z"
   },
   {
    "duration": 9,
    "start_time": "2022-07-01T17:00:35.208Z"
   },
   {
    "duration": 19,
    "start_time": "2022-07-01T17:01:18.949Z"
   },
   {
    "duration": 19,
    "start_time": "2022-07-01T17:01:31.694Z"
   },
   {
    "duration": 100,
    "start_time": "2022-07-01T17:02:12.585Z"
   },
   {
    "duration": 45,
    "start_time": "2022-07-01T17:03:03.779Z"
   },
   {
    "duration": 34,
    "start_time": "2022-07-01T17:04:39.513Z"
   },
   {
    "duration": 34,
    "start_time": "2022-07-01T17:04:51.351Z"
   },
   {
    "duration": 3,
    "start_time": "2022-07-01T17:05:14.746Z"
   },
   {
    "duration": 42,
    "start_time": "2022-07-01T17:05:14.751Z"
   },
   {
    "duration": 13,
    "start_time": "2022-07-01T17:05:14.795Z"
   },
   {
    "duration": 6,
    "start_time": "2022-07-01T17:05:14.809Z"
   },
   {
    "duration": 21,
    "start_time": "2022-07-01T17:05:14.817Z"
   },
   {
    "duration": 18,
    "start_time": "2022-07-01T17:05:14.839Z"
   },
   {
    "duration": 5,
    "start_time": "2022-07-01T17:05:14.858Z"
   },
   {
    "duration": 5,
    "start_time": "2022-07-01T17:05:14.864Z"
   },
   {
    "duration": 24,
    "start_time": "2022-07-01T17:05:14.871Z"
   },
   {
    "duration": 56,
    "start_time": "2022-07-01T17:05:14.897Z"
   },
   {
    "duration": 5,
    "start_time": "2022-07-01T17:05:14.954Z"
   },
   {
    "duration": 8,
    "start_time": "2022-07-01T17:05:14.961Z"
   },
   {
    "duration": 9,
    "start_time": "2022-07-01T17:12:45.066Z"
   },
   {
    "duration": 6,
    "start_time": "2022-07-01T17:12:54.732Z"
   },
   {
    "duration": 355,
    "start_time": "2022-07-01T17:13:12.371Z"
   },
   {
    "duration": 5,
    "start_time": "2022-07-01T17:18:07.874Z"
   },
   {
    "duration": 6,
    "start_time": "2022-07-01T17:18:43.304Z"
   },
   {
    "duration": 122,
    "start_time": "2022-07-01T17:19:09.235Z"
   },
   {
    "duration": 5,
    "start_time": "2022-07-01T17:20:30.928Z"
   },
   {
    "duration": 18,
    "start_time": "2022-07-01T17:30:23.673Z"
   },
   {
    "duration": 49,
    "start_time": "2022-07-01T17:31:07.976Z"
   },
   {
    "duration": 23,
    "start_time": "2022-07-01T17:31:13.802Z"
   },
   {
    "duration": 17,
    "start_time": "2022-07-01T17:32:08.207Z"
   },
   {
    "duration": 17,
    "start_time": "2022-07-01T17:32:18.673Z"
   },
   {
    "duration": 1158,
    "start_time": "2022-07-01T17:33:54.590Z"
   },
   {
    "duration": 49,
    "start_time": "2022-07-01T17:33:55.750Z"
   },
   {
    "duration": 14,
    "start_time": "2022-07-01T17:33:55.800Z"
   },
   {
    "duration": 14,
    "start_time": "2022-07-01T17:33:55.816Z"
   },
   {
    "duration": 10,
    "start_time": "2022-07-01T17:33:55.831Z"
   },
   {
    "duration": 13,
    "start_time": "2022-07-01T17:33:55.842Z"
   },
   {
    "duration": 6,
    "start_time": "2022-07-01T17:33:55.856Z"
   },
   {
    "duration": 5,
    "start_time": "2022-07-01T17:33:55.863Z"
   },
   {
    "duration": 59,
    "start_time": "2022-07-01T17:33:55.869Z"
   },
   {
    "duration": 35,
    "start_time": "2022-07-01T17:33:55.931Z"
   },
   {
    "duration": 4,
    "start_time": "2022-07-01T17:33:55.968Z"
   },
   {
    "duration": 13,
    "start_time": "2022-07-01T17:33:55.974Z"
   },
   {
    "duration": 395,
    "start_time": "2022-07-01T17:33:55.988Z"
   },
   {
    "duration": 4,
    "start_time": "2022-07-01T17:33:56.385Z"
   },
   {
    "duration": 131,
    "start_time": "2022-07-01T17:33:56.391Z"
   },
   {
    "duration": 18,
    "start_time": "2022-07-01T17:34:06.574Z"
   },
   {
    "duration": 18,
    "start_time": "2022-07-01T17:34:09.924Z"
   },
   {
    "duration": 4,
    "start_time": "2022-07-01T17:34:13.248Z"
   },
   {
    "duration": 28,
    "start_time": "2022-07-01T17:34:39.493Z"
   },
   {
    "duration": 22,
    "start_time": "2022-07-01T17:35:26.858Z"
   },
   {
    "duration": 10,
    "start_time": "2022-07-01T17:37:04.820Z"
   },
   {
    "duration": 8,
    "start_time": "2022-07-01T17:37:08.921Z"
   },
   {
    "duration": 17,
    "start_time": "2022-07-01T17:37:18.538Z"
   },
   {
    "duration": 7,
    "start_time": "2022-07-01T17:37:26.862Z"
   },
   {
    "duration": 5,
    "start_time": "2022-07-01T17:37:51.742Z"
   },
   {
    "duration": 7,
    "start_time": "2022-07-01T17:38:20.993Z"
   },
   {
    "duration": 5,
    "start_time": "2022-07-01T17:38:26.156Z"
   },
   {
    "duration": 24,
    "start_time": "2022-07-01T17:38:29.864Z"
   },
   {
    "duration": 24,
    "start_time": "2022-07-01T17:38:34.317Z"
   },
   {
    "duration": 85,
    "start_time": "2022-07-01T17:38:36.546Z"
   },
   {
    "duration": 3,
    "start_time": "2022-07-01T17:38:54.519Z"
   },
   {
    "duration": 43,
    "start_time": "2022-07-01T17:38:58.985Z"
   },
   {
    "duration": 34,
    "start_time": "2022-07-01T17:39:12.887Z"
   },
   {
    "duration": 26,
    "start_time": "2022-07-01T17:39:37.937Z"
   },
   {
    "duration": 29,
    "start_time": "2022-07-01T17:40:06.089Z"
   },
   {
    "duration": 88,
    "start_time": "2022-07-01T17:40:24.539Z"
   },
   {
    "duration": 100,
    "start_time": "2022-07-01T17:41:08.635Z"
   },
   {
    "duration": 69,
    "start_time": "2022-07-01T17:41:50.457Z"
   },
   {
    "duration": 3,
    "start_time": "2022-07-01T17:43:08.670Z"
   },
   {
    "duration": 145,
    "start_time": "2022-07-01T17:43:28.489Z"
   },
   {
    "duration": 58,
    "start_time": "2022-07-01T17:45:32.614Z"
   },
   {
    "duration": 1012,
    "start_time": "2022-07-01T17:50:06.617Z"
   },
   {
    "duration": 18,
    "start_time": "2022-07-01T17:56:17.380Z"
   },
   {
    "duration": 47,
    "start_time": "2022-07-01T17:56:22.896Z"
   },
   {
    "duration": 91,
    "start_time": "2022-07-01T17:57:13.544Z"
   },
   {
    "duration": 120,
    "start_time": "2022-07-01T17:57:24.006Z"
   },
   {
    "duration": 450,
    "start_time": "2022-07-01T17:57:29.328Z"
   },
   {
    "duration": 504,
    "start_time": "2022-07-01T17:57:33.537Z"
   },
   {
    "duration": 1327,
    "start_time": "2022-07-01T17:57:55.805Z"
   },
   {
    "duration": 87,
    "start_time": "2022-07-01T18:55:05.242Z"
   },
   {
    "duration": 9,
    "start_time": "2022-07-01T19:03:12.208Z"
   },
   {
    "duration": 5,
    "start_time": "2022-07-01T19:03:16.514Z"
   },
   {
    "duration": 20,
    "start_time": "2022-07-01T19:03:17.428Z"
   },
   {
    "duration": 4,
    "start_time": "2022-07-01T19:03:35.964Z"
   },
   {
    "duration": 9,
    "start_time": "2022-07-01T19:03:45.776Z"
   },
   {
    "duration": 71,
    "start_time": "2022-07-01T19:03:51.658Z"
   },
   {
    "duration": 58,
    "start_time": "2022-07-01T19:04:07.770Z"
   },
   {
    "duration": 109,
    "start_time": "2022-07-01T19:05:35.917Z"
   },
   {
    "duration": 22,
    "start_time": "2022-07-01T19:06:22.320Z"
   },
   {
    "duration": 210,
    "start_time": "2022-07-01T19:06:24.899Z"
   },
   {
    "duration": 24,
    "start_time": "2022-07-01T19:06:39.065Z"
   },
   {
    "duration": 207,
    "start_time": "2022-07-01T19:06:43.437Z"
   },
   {
    "duration": 4,
    "start_time": "2022-07-01T19:08:09.006Z"
   },
   {
    "duration": 4,
    "start_time": "2022-07-01T19:09:02.517Z"
   },
   {
    "duration": 3,
    "start_time": "2022-07-01T19:10:28.338Z"
   },
   {
    "duration": 12,
    "start_time": "2022-07-01T19:10:29.541Z"
   },
   {
    "duration": 122,
    "start_time": "2022-07-01T19:10:53.504Z"
   },
   {
    "duration": 73,
    "start_time": "2022-07-01T19:11:55.078Z"
   },
   {
    "duration": 897,
    "start_time": "2022-07-01T19:12:10.901Z"
   },
   {
    "duration": 56,
    "start_time": "2022-07-01T19:12:23.970Z"
   },
   {
    "duration": 58,
    "start_time": "2022-07-01T19:12:28.488Z"
   },
   {
    "duration": 50,
    "start_time": "2022-07-01T19:12:32.658Z"
   },
   {
    "duration": 48,
    "start_time": "2022-07-01T19:12:37.558Z"
   },
   {
    "duration": 47,
    "start_time": "2022-07-01T19:12:43.478Z"
   },
   {
    "duration": 66,
    "start_time": "2022-07-01T19:12:48.247Z"
   },
   {
    "duration": 62,
    "start_time": "2022-07-01T19:12:50.739Z"
   },
   {
    "duration": 52,
    "start_time": "2022-07-01T19:12:53.853Z"
   },
   {
    "duration": 48,
    "start_time": "2022-07-01T19:12:57.215Z"
   },
   {
    "duration": 50,
    "start_time": "2022-07-01T19:12:59.987Z"
   },
   {
    "duration": 1411,
    "start_time": "2022-07-01T19:13:15.991Z"
   },
   {
    "duration": 877,
    "start_time": "2022-07-01T19:13:25.012Z"
   },
   {
    "duration": 1327,
    "start_time": "2022-07-01T19:13:29.873Z"
   },
   {
    "duration": 1042,
    "start_time": "2022-07-01T19:13:36.719Z"
   },
   {
    "duration": 1029,
    "start_time": "2022-07-01T19:13:42.776Z"
   },
   {
    "duration": 1129,
    "start_time": "2022-07-01T19:13:46.686Z"
   },
   {
    "duration": 1267,
    "start_time": "2022-07-01T19:13:53.833Z"
   },
   {
    "duration": 1386,
    "start_time": "2022-07-01T19:13:59.626Z"
   },
   {
    "duration": 1295,
    "start_time": "2022-07-01T19:14:05.575Z"
   },
   {
    "duration": 959,
    "start_time": "2022-07-01T19:14:11.437Z"
   },
   {
    "duration": 734,
    "start_time": "2022-07-01T19:14:15.913Z"
   },
   {
    "duration": 1221,
    "start_time": "2022-07-01T19:14:20.316Z"
   },
   {
    "duration": 1473,
    "start_time": "2022-07-01T19:14:31.437Z"
   },
   {
    "duration": 1251,
    "start_time": "2022-07-01T19:14:36.985Z"
   },
   {
    "duration": 1722,
    "start_time": "2022-07-01T19:17:00.670Z"
   },
   {
    "duration": 77,
    "start_time": "2022-07-01T19:17:15.216Z"
   },
   {
    "duration": 23,
    "start_time": "2022-07-01T19:18:03.307Z"
   },
   {
    "duration": 26,
    "start_time": "2022-07-01T19:18:05.619Z"
   },
   {
    "duration": 342,
    "start_time": "2022-07-01T19:18:14.890Z"
   },
   {
    "duration": 866,
    "start_time": "2022-07-01T19:18:34.882Z"
   },
   {
    "duration": 48,
    "start_time": "2022-07-01T19:18:47.089Z"
   },
   {
    "duration": 199,
    "start_time": "2022-07-01T19:19:10.004Z"
   },
   {
    "duration": 24,
    "start_time": "2022-07-01T19:19:18.210Z"
   },
   {
    "duration": 494,
    "start_time": "2022-07-01T19:19:24.780Z"
   },
   {
    "duration": 45,
    "start_time": "2022-07-01T19:19:27.968Z"
   },
   {
    "duration": 1299,
    "start_time": "2022-07-01T19:19:38.837Z"
   },
   {
    "duration": 50,
    "start_time": "2022-07-01T19:19:42.396Z"
   },
   {
    "duration": 30,
    "start_time": "2022-07-01T19:19:57.529Z"
   },
   {
    "duration": 690,
    "start_time": "2022-07-01T19:20:10.961Z"
   },
   {
    "duration": 488,
    "start_time": "2022-07-01T19:20:18.178Z"
   },
   {
    "duration": 290,
    "start_time": "2022-07-01T19:20:31.834Z"
   },
   {
    "duration": 23,
    "start_time": "2022-07-01T19:20:40.502Z"
   },
   {
    "duration": 664,
    "start_time": "2022-07-01T19:20:50.634Z"
   },
   {
    "duration": 4,
    "start_time": "2022-07-01T19:26:54.036Z"
   },
   {
    "duration": 109,
    "start_time": "2022-07-01T19:29:34.120Z"
   },
   {
    "duration": 4,
    "start_time": "2022-07-01T19:35:16.765Z"
   },
   {
    "duration": 280,
    "start_time": "2022-07-01T19:36:37.189Z"
   },
   {
    "duration": 3,
    "start_time": "2022-07-01T19:36:45.824Z"
   },
   {
    "duration": 443,
    "start_time": "2022-07-01T19:36:46.813Z"
   },
   {
    "duration": 510,
    "start_time": "2022-07-01T19:37:20.944Z"
   },
   {
    "duration": 43,
    "start_time": "2022-07-01T19:39:44.987Z"
   },
   {
    "duration": 232,
    "start_time": "2022-07-01T19:40:09.243Z"
   },
   {
    "duration": 245,
    "start_time": "2022-07-01T19:40:44.615Z"
   },
   {
    "duration": 211,
    "start_time": "2022-07-01T19:44:36.125Z"
   },
   {
    "duration": 173,
    "start_time": "2022-07-01T19:46:36.666Z"
   },
   {
    "duration": 161,
    "start_time": "2022-07-01T19:46:48.981Z"
   },
   {
    "duration": 46,
    "start_time": "2022-07-01T19:49:48.797Z"
   },
   {
    "duration": 60,
    "start_time": "2022-07-01T19:50:14.141Z"
   },
   {
    "duration": 172,
    "start_time": "2022-07-01T19:50:21.776Z"
   },
   {
    "duration": 651,
    "start_time": "2022-07-01T19:54:56.779Z"
   },
   {
    "duration": 63,
    "start_time": "2022-07-01T19:55:26.630Z"
   },
   {
    "duration": 43,
    "start_time": "2022-07-01T20:07:07.178Z"
   },
   {
    "duration": 1191,
    "start_time": "2022-07-01T20:08:24.273Z"
   },
   {
    "duration": 49,
    "start_time": "2022-07-01T20:08:25.466Z"
   },
   {
    "duration": 27,
    "start_time": "2022-07-01T20:08:25.517Z"
   },
   {
    "duration": 9,
    "start_time": "2022-07-01T20:08:25.547Z"
   },
   {
    "duration": 12,
    "start_time": "2022-07-01T20:08:25.558Z"
   },
   {
    "duration": 16,
    "start_time": "2022-07-01T20:08:25.572Z"
   },
   {
    "duration": 6,
    "start_time": "2022-07-01T20:08:25.590Z"
   },
   {
    "duration": 33,
    "start_time": "2022-07-01T20:08:25.598Z"
   },
   {
    "duration": 48,
    "start_time": "2022-07-01T20:08:25.633Z"
   },
   {
    "duration": 36,
    "start_time": "2022-07-01T20:08:25.683Z"
   },
   {
    "duration": 7,
    "start_time": "2022-07-01T20:08:25.721Z"
   },
   {
    "duration": 25,
    "start_time": "2022-07-01T20:08:25.730Z"
   },
   {
    "duration": 435,
    "start_time": "2022-07-01T20:08:25.757Z"
   },
   {
    "duration": 4,
    "start_time": "2022-07-01T20:08:26.195Z"
   },
   {
    "duration": 157,
    "start_time": "2022-07-01T20:08:26.201Z"
   },
   {
    "duration": 128,
    "start_time": "2022-07-01T20:08:26.427Z"
   },
   {
    "duration": 764,
    "start_time": "2022-07-01T20:08:26.558Z"
   },
   {
    "duration": 6,
    "start_time": "2022-07-01T20:08:27.326Z"
   },
   {
    "duration": 38,
    "start_time": "2022-07-01T20:08:27.334Z"
   },
   {
    "duration": 56,
    "start_time": "2022-07-01T20:08:27.377Z"
   },
   {
    "duration": 115,
    "start_time": "2022-07-01T20:08:27.437Z"
   },
   {
    "duration": 361,
    "start_time": "2022-07-01T20:08:27.554Z"
   },
   {
    "duration": 14,
    "start_time": "2022-07-01T20:08:27.917Z"
   },
   {
    "duration": 45,
    "start_time": "2022-07-01T20:08:27.934Z"
   },
   {
    "duration": 152,
    "start_time": "2022-07-01T20:08:27.982Z"
   },
   {
    "duration": 147,
    "start_time": "2022-07-01T20:08:28.137Z"
   },
   {
    "duration": 1371,
    "start_time": "2022-07-01T20:08:28.286Z"
   },
   {
    "duration": 194,
    "start_time": "2022-07-01T20:08:29.658Z"
   },
   {
    "duration": 79,
    "start_time": "2022-07-01T20:08:29.855Z"
   },
   {
    "duration": 741,
    "start_time": "2022-07-01T20:08:29.936Z"
   },
   {
    "duration": 3765,
    "start_time": "2022-07-01T20:08:30.680Z"
   },
   {
    "duration": 2233,
    "start_time": "2022-07-01T20:08:45.575Z"
   },
   {
    "duration": 1137,
    "start_time": "2022-07-01T20:11:49.147Z"
   },
   {
    "duration": 66,
    "start_time": "2022-07-01T20:11:50.290Z"
   },
   {
    "duration": 15,
    "start_time": "2022-07-01T20:11:50.357Z"
   },
   {
    "duration": 15,
    "start_time": "2022-07-01T20:11:50.375Z"
   },
   {
    "duration": 16,
    "start_time": "2022-07-01T20:11:50.392Z"
   },
   {
    "duration": 55,
    "start_time": "2022-07-01T20:11:50.410Z"
   },
   {
    "duration": 6,
    "start_time": "2022-07-01T20:11:50.467Z"
   },
   {
    "duration": 12,
    "start_time": "2022-07-01T20:11:50.475Z"
   },
   {
    "duration": 32,
    "start_time": "2022-07-01T20:11:50.488Z"
   },
   {
    "duration": 59,
    "start_time": "2022-07-01T20:11:50.522Z"
   },
   {
    "duration": 5,
    "start_time": "2022-07-01T20:11:50.583Z"
   },
   {
    "duration": 9,
    "start_time": "2022-07-01T20:11:50.591Z"
   },
   {
    "duration": 394,
    "start_time": "2022-07-01T20:11:50.602Z"
   },
   {
    "duration": 4,
    "start_time": "2022-07-01T20:11:50.997Z"
   },
   {
    "duration": 738,
    "start_time": "2022-07-01T20:11:51.003Z"
   },
   {
    "duration": 112,
    "start_time": "2022-07-01T20:11:51.746Z"
   },
   {
    "duration": 722,
    "start_time": "2022-07-01T20:11:51.859Z"
   },
   {
    "duration": 4,
    "start_time": "2022-07-01T20:11:52.583Z"
   },
   {
    "duration": 19,
    "start_time": "2022-07-01T20:11:52.589Z"
   },
   {
    "duration": 47,
    "start_time": "2022-07-01T20:11:52.610Z"
   },
   {
    "duration": 105,
    "start_time": "2022-07-01T20:11:52.737Z"
   },
   {
    "duration": 331,
    "start_time": "2022-07-01T20:11:52.846Z"
   },
   {
    "duration": 3,
    "start_time": "2022-07-01T20:11:53.179Z"
   },
   {
    "duration": 23,
    "start_time": "2022-07-01T20:11:53.184Z"
   },
   {
    "duration": 123,
    "start_time": "2022-07-01T20:11:53.209Z"
   },
   {
    "duration": 144,
    "start_time": "2022-07-01T20:11:53.336Z"
   },
   {
    "duration": 1398,
    "start_time": "2022-07-01T20:11:53.482Z"
   },
   {
    "duration": 185,
    "start_time": "2022-07-01T20:11:54.882Z"
   },
   {
    "duration": 139,
    "start_time": "2022-07-01T20:11:55.068Z"
   },
   {
    "duration": 760,
    "start_time": "2022-07-01T20:11:55.209Z"
   },
   {
    "duration": 23505,
    "start_time": "2022-07-01T20:11:55.970Z"
   },
   {
    "duration": 22936,
    "start_time": "2022-07-01T20:13:15.874Z"
   },
   {
    "duration": 1180,
    "start_time": "2022-07-01T20:23:43.737Z"
   },
   {
    "duration": 44,
    "start_time": "2022-07-01T20:23:44.919Z"
   },
   {
    "duration": 12,
    "start_time": "2022-07-01T20:23:44.964Z"
   },
   {
    "duration": 6,
    "start_time": "2022-07-01T20:23:44.977Z"
   },
   {
    "duration": 12,
    "start_time": "2022-07-01T20:23:44.985Z"
   },
   {
    "duration": 41,
    "start_time": "2022-07-01T20:23:44.999Z"
   },
   {
    "duration": 9,
    "start_time": "2022-07-01T20:23:45.042Z"
   },
   {
    "duration": 6,
    "start_time": "2022-07-01T20:23:45.053Z"
   },
   {
    "duration": 34,
    "start_time": "2022-07-01T20:23:45.060Z"
   },
   {
    "duration": 40,
    "start_time": "2022-07-01T20:23:45.096Z"
   },
   {
    "duration": 5,
    "start_time": "2022-07-01T20:23:45.138Z"
   },
   {
    "duration": 11,
    "start_time": "2022-07-01T20:23:45.145Z"
   },
   {
    "duration": 370,
    "start_time": "2022-07-01T20:23:45.158Z"
   },
   {
    "duration": 4,
    "start_time": "2022-07-01T20:23:45.530Z"
   },
   {
    "duration": 395,
    "start_time": "2022-07-01T20:23:45.535Z"
   },
   {
    "duration": 115,
    "start_time": "2022-07-01T20:23:45.935Z"
   },
   {
    "duration": 675,
    "start_time": "2022-07-01T20:23:46.051Z"
   },
   {
    "duration": 4,
    "start_time": "2022-07-01T20:23:46.728Z"
   },
   {
    "duration": 18,
    "start_time": "2022-07-01T20:23:46.733Z"
   },
   {
    "duration": 76,
    "start_time": "2022-07-01T20:23:46.752Z"
   },
   {
    "duration": 21,
    "start_time": "2022-07-01T20:23:46.927Z"
   },
   {
    "duration": 305,
    "start_time": "2022-07-01T20:23:46.950Z"
   },
   {
    "duration": 4,
    "start_time": "2022-07-01T20:23:47.257Z"
   },
   {
    "duration": 26,
    "start_time": "2022-07-01T20:23:47.263Z"
   },
   {
    "duration": 138,
    "start_time": "2022-07-01T20:23:47.291Z"
   },
   {
    "duration": 140,
    "start_time": "2022-07-01T20:23:47.432Z"
   },
   {
    "duration": 1209,
    "start_time": "2022-07-01T20:23:47.573Z"
   },
   {
    "duration": 171,
    "start_time": "2022-07-01T20:23:48.783Z"
   },
   {
    "duration": 116,
    "start_time": "2022-07-01T20:23:48.956Z"
   },
   {
    "duration": 644,
    "start_time": "2022-07-01T20:23:49.073Z"
   },
   {
    "duration": 109,
    "start_time": "2022-07-01T20:23:49.718Z"
   },
   {
    "duration": 11,
    "start_time": "2022-07-01T20:24:19.167Z"
   },
   {
    "duration": 3,
    "start_time": "2022-07-01T20:24:41.145Z"
   },
   {
    "duration": 12,
    "start_time": "2022-07-01T20:24:45.294Z"
   },
   {
    "duration": 10,
    "start_time": "2022-07-01T20:28:09.306Z"
   },
   {
    "duration": 1225,
    "start_time": "2022-07-01T20:30:26.392Z"
   },
   {
    "duration": 1084,
    "start_time": "2022-07-01T20:30:37.281Z"
   },
   {
    "duration": 46,
    "start_time": "2022-07-01T20:30:38.366Z"
   },
   {
    "duration": 15,
    "start_time": "2022-07-01T20:30:38.413Z"
   },
   {
    "duration": 14,
    "start_time": "2022-07-01T20:30:38.429Z"
   },
   {
    "duration": 13,
    "start_time": "2022-07-01T20:30:38.446Z"
   },
   {
    "duration": 15,
    "start_time": "2022-07-01T20:30:38.461Z"
   },
   {
    "duration": 7,
    "start_time": "2022-07-01T20:30:38.477Z"
   },
   {
    "duration": 6,
    "start_time": "2022-07-01T20:30:38.485Z"
   },
   {
    "duration": 49,
    "start_time": "2022-07-01T20:30:38.492Z"
   },
   {
    "duration": 35,
    "start_time": "2022-07-01T20:30:38.543Z"
   },
   {
    "duration": 6,
    "start_time": "2022-07-01T20:30:38.580Z"
   },
   {
    "duration": 27,
    "start_time": "2022-07-01T20:30:38.588Z"
   },
   {
    "duration": 9,
    "start_time": "2022-07-01T20:30:38.617Z"
   },
   {
    "duration": 399,
    "start_time": "2022-07-01T20:30:38.629Z"
   },
   {
    "duration": 4,
    "start_time": "2022-07-01T20:30:39.029Z"
   },
   {
    "duration": 398,
    "start_time": "2022-07-01T20:30:39.035Z"
   },
   {
    "duration": 30,
    "start_time": "2022-07-01T20:30:39.525Z"
   },
   {
    "duration": 650,
    "start_time": "2022-07-01T20:30:39.557Z"
   },
   {
    "duration": 5,
    "start_time": "2022-07-01T20:30:40.208Z"
   },
   {
    "duration": 41,
    "start_time": "2022-07-01T20:30:40.214Z"
   },
   {
    "duration": 69,
    "start_time": "2022-07-01T20:30:40.257Z"
   },
   {
    "duration": 113,
    "start_time": "2022-07-01T20:30:40.329Z"
   },
   {
    "duration": 277,
    "start_time": "2022-07-01T20:30:40.444Z"
   },
   {
    "duration": 4,
    "start_time": "2022-07-01T20:30:40.726Z"
   },
   {
    "duration": 15,
    "start_time": "2022-07-01T20:30:40.732Z"
   },
   {
    "duration": 177,
    "start_time": "2022-07-01T20:30:40.749Z"
   },
   {
    "duration": 42,
    "start_time": "2022-07-01T20:30:40.928Z"
   },
   {
    "duration": 1080,
    "start_time": "2022-07-01T20:30:40.972Z"
   },
   {
    "duration": 198,
    "start_time": "2022-07-01T20:30:42.053Z"
   },
   {
    "duration": 96,
    "start_time": "2022-07-01T20:30:42.253Z"
   },
   {
    "duration": 656,
    "start_time": "2022-07-01T20:30:42.351Z"
   },
   {
    "duration": 1039,
    "start_time": "2022-07-01T20:30:43.009Z"
   },
   {
    "duration": 10,
    "start_time": "2022-07-01T20:30:44.050Z"
   },
   {
    "duration": 8,
    "start_time": "2022-07-01T20:32:35.077Z"
   },
   {
    "duration": 237,
    "start_time": "2022-07-01T20:32:35.494Z"
   },
   {
    "duration": 9,
    "start_time": "2022-07-01T20:32:35.976Z"
   },
   {
    "duration": 1121,
    "start_time": "2022-07-01T20:32:58.183Z"
   },
   {
    "duration": 54,
    "start_time": "2022-07-01T20:32:59.306Z"
   },
   {
    "duration": 15,
    "start_time": "2022-07-01T20:32:59.361Z"
   },
   {
    "duration": 6,
    "start_time": "2022-07-01T20:32:59.378Z"
   },
   {
    "duration": 12,
    "start_time": "2022-07-01T20:32:59.386Z"
   },
   {
    "duration": 41,
    "start_time": "2022-07-01T20:32:59.399Z"
   },
   {
    "duration": 6,
    "start_time": "2022-07-01T20:32:59.442Z"
   },
   {
    "duration": 9,
    "start_time": "2022-07-01T20:32:59.449Z"
   },
   {
    "duration": 26,
    "start_time": "2022-07-01T20:32:59.459Z"
   },
   {
    "duration": 62,
    "start_time": "2022-07-01T20:32:59.487Z"
   },
   {
    "duration": 6,
    "start_time": "2022-07-01T20:32:59.550Z"
   },
   {
    "duration": 23,
    "start_time": "2022-07-01T20:32:59.558Z"
   },
   {
    "duration": 7,
    "start_time": "2022-07-01T20:32:59.583Z"
   },
   {
    "duration": 423,
    "start_time": "2022-07-01T20:32:59.593Z"
   },
   {
    "duration": 10,
    "start_time": "2022-07-01T20:33:00.018Z"
   },
   {
    "duration": 413,
    "start_time": "2022-07-01T20:33:00.031Z"
   },
   {
    "duration": 111,
    "start_time": "2022-07-01T20:33:00.447Z"
   },
   {
    "duration": 664,
    "start_time": "2022-07-01T20:33:00.560Z"
   },
   {
    "duration": 7,
    "start_time": "2022-07-01T20:33:01.227Z"
   },
   {
    "duration": 44,
    "start_time": "2022-07-01T20:33:01.235Z"
   },
   {
    "duration": 50,
    "start_time": "2022-07-01T20:33:01.281Z"
   },
   {
    "duration": 129,
    "start_time": "2022-07-01T20:33:01.333Z"
   },
   {
    "duration": 336,
    "start_time": "2022-07-01T20:33:01.464Z"
   },
   {
    "duration": 4,
    "start_time": "2022-07-01T20:33:01.802Z"
   },
   {
    "duration": 68,
    "start_time": "2022-07-01T20:33:01.807Z"
   },
   {
    "duration": 78,
    "start_time": "2022-07-01T20:33:01.877Z"
   },
   {
    "duration": 125,
    "start_time": "2022-07-01T20:33:02.026Z"
   },
   {
    "duration": 1030,
    "start_time": "2022-07-01T20:33:02.153Z"
   },
   {
    "duration": 178,
    "start_time": "2022-07-01T20:33:03.185Z"
   },
   {
    "duration": 72,
    "start_time": "2022-07-01T20:33:03.365Z"
   },
   {
    "duration": 583,
    "start_time": "2022-07-01T20:33:03.439Z"
   },
   {
    "duration": 1106,
    "start_time": "2022-07-01T20:33:04.026Z"
   },
   {
    "duration": 13,
    "start_time": "2022-07-01T20:33:05.134Z"
   },
   {
    "duration": 12,
    "start_time": "2022-07-01T20:36:14.128Z"
   },
   {
    "duration": 1177,
    "start_time": "2022-07-01T20:40:39.594Z"
   },
   {
    "duration": 1058,
    "start_time": "2022-07-01T20:41:09.259Z"
   },
   {
    "duration": 1000,
    "start_time": "2022-07-01T20:42:47.932Z"
   },
   {
    "duration": 1112,
    "start_time": "2022-07-01T23:44:56.015Z"
   },
   {
    "duration": 88,
    "start_time": "2022-07-01T23:44:57.129Z"
   },
   {
    "duration": 12,
    "start_time": "2022-07-01T23:44:57.218Z"
   },
   {
    "duration": 8,
    "start_time": "2022-07-01T23:44:57.232Z"
   },
   {
    "duration": 12,
    "start_time": "2022-07-01T23:44:57.242Z"
   },
   {
    "duration": 28,
    "start_time": "2022-07-01T23:44:57.262Z"
   },
   {
    "duration": 8,
    "start_time": "2022-07-01T23:44:57.292Z"
   },
   {
    "duration": 5,
    "start_time": "2022-07-01T23:44:57.301Z"
   },
   {
    "duration": 33,
    "start_time": "2022-07-01T23:44:57.307Z"
   },
   {
    "duration": 41,
    "start_time": "2022-07-01T23:44:57.343Z"
   },
   {
    "duration": 7,
    "start_time": "2022-07-01T23:44:57.386Z"
   },
   {
    "duration": 9,
    "start_time": "2022-07-01T23:44:57.394Z"
   },
   {
    "duration": 8,
    "start_time": "2022-07-01T23:44:57.404Z"
   },
   {
    "duration": 597,
    "start_time": "2022-07-01T23:44:57.413Z"
   },
   {
    "duration": 4,
    "start_time": "2022-07-01T23:44:58.012Z"
   },
   {
    "duration": 257,
    "start_time": "2022-07-01T23:44:58.018Z"
   },
   {
    "duration": 187,
    "start_time": "2022-07-01T23:44:58.276Z"
   },
   {
    "duration": 557,
    "start_time": "2022-07-01T23:44:58.465Z"
   },
   {
    "duration": 4,
    "start_time": "2022-07-01T23:44:59.023Z"
   },
   {
    "duration": 24,
    "start_time": "2022-07-01T23:44:59.029Z"
   },
   {
    "duration": 108,
    "start_time": "2022-07-01T23:44:59.055Z"
   },
   {
    "duration": 112,
    "start_time": "2022-07-01T23:44:59.166Z"
   },
   {
    "duration": 302,
    "start_time": "2022-07-01T23:44:59.280Z"
   },
   {
    "duration": 4,
    "start_time": "2022-07-01T23:44:59.583Z"
   },
   {
    "duration": 15,
    "start_time": "2022-07-01T23:44:59.588Z"
   },
   {
    "duration": 151,
    "start_time": "2022-07-01T23:44:59.604Z"
   },
   {
    "duration": 127,
    "start_time": "2022-07-01T23:44:59.759Z"
   },
   {
    "duration": 1032,
    "start_time": "2022-07-01T23:44:59.889Z"
   },
   {
    "duration": 246,
    "start_time": "2022-07-01T23:45:00.923Z"
   },
   {
    "duration": 71,
    "start_time": "2022-07-01T23:45:01.171Z"
   },
   {
    "duration": 572,
    "start_time": "2022-07-01T23:45:01.250Z"
   },
   {
    "duration": 1113,
    "start_time": "2022-07-01T23:45:01.824Z"
   },
   {
    "duration": 28,
    "start_time": "2022-07-01T23:45:02.939Z"
   },
   {
    "duration": 4,
    "start_time": "2022-07-02T11:18:00.340Z"
   },
   {
    "duration": 4,
    "start_time": "2022-07-02T11:18:31.027Z"
   },
   {
    "duration": 5,
    "start_time": "2022-07-02T11:19:11.469Z"
   },
   {
    "duration": 4,
    "start_time": "2022-07-02T11:19:39.722Z"
   },
   {
    "duration": 4,
    "start_time": "2022-07-02T11:23:47.549Z"
   },
   {
    "duration": 4,
    "start_time": "2022-07-02T11:24:10.549Z"
   },
   {
    "duration": 521,
    "start_time": "2022-07-02T11:24:34.589Z"
   },
   {
    "duration": 5,
    "start_time": "2022-07-02T11:24:38.317Z"
   },
   {
    "duration": 4,
    "start_time": "2022-07-02T11:24:40.809Z"
   },
   {
    "duration": 4,
    "start_time": "2022-07-02T11:25:29.497Z"
   },
   {
    "duration": 8,
    "start_time": "2022-07-02T11:55:02.024Z"
   },
   {
    "duration": 16,
    "start_time": "2022-07-02T11:56:03.671Z"
   },
   {
    "duration": 4,
    "start_time": "2022-07-02T11:56:29.980Z"
   },
   {
    "duration": 13,
    "start_time": "2022-07-02T12:04:30.889Z"
   },
   {
    "duration": 6,
    "start_time": "2022-07-02T12:04:46.629Z"
   },
   {
    "duration": 228,
    "start_time": "2022-07-02T12:10:33.933Z"
   },
   {
    "duration": 133,
    "start_time": "2022-07-02T12:14:19.427Z"
   },
   {
    "duration": 1043,
    "start_time": "2022-07-02T13:26:55.850Z"
   },
   {
    "duration": 46,
    "start_time": "2022-07-02T13:26:56.895Z"
   },
   {
    "duration": 13,
    "start_time": "2022-07-02T13:26:56.942Z"
   },
   {
    "duration": 6,
    "start_time": "2022-07-02T13:26:56.957Z"
   },
   {
    "duration": 8,
    "start_time": "2022-07-02T13:26:56.965Z"
   },
   {
    "duration": 15,
    "start_time": "2022-07-02T13:26:56.975Z"
   },
   {
    "duration": 5,
    "start_time": "2022-07-02T13:26:56.992Z"
   },
   {
    "duration": 4,
    "start_time": "2022-07-02T13:26:56.998Z"
   },
   {
    "duration": 48,
    "start_time": "2022-07-02T13:26:57.004Z"
   },
   {
    "duration": 33,
    "start_time": "2022-07-02T13:26:57.053Z"
   },
   {
    "duration": 5,
    "start_time": "2022-07-02T13:26:57.087Z"
   },
   {
    "duration": 5,
    "start_time": "2022-07-02T13:26:57.093Z"
   },
   {
    "duration": 6,
    "start_time": "2022-07-02T13:26:57.099Z"
   },
   {
    "duration": 394,
    "start_time": "2022-07-02T13:26:57.107Z"
   },
   {
    "duration": 3,
    "start_time": "2022-07-02T13:26:57.503Z"
   },
   {
    "duration": 245,
    "start_time": "2022-07-02T13:26:57.507Z"
   },
   {
    "duration": 112,
    "start_time": "2022-07-02T13:26:57.754Z"
   },
   {
    "duration": 528,
    "start_time": "2022-07-02T13:26:57.867Z"
   },
   {
    "duration": 4,
    "start_time": "2022-07-02T13:26:58.396Z"
   },
   {
    "duration": 11,
    "start_time": "2022-07-02T13:26:58.402Z"
   },
   {
    "duration": 38,
    "start_time": "2022-07-02T13:26:58.415Z"
   },
   {
    "duration": 111,
    "start_time": "2022-07-02T13:26:58.455Z"
   },
   {
    "duration": 255,
    "start_time": "2022-07-02T13:26:58.567Z"
   },
   {
    "duration": 4,
    "start_time": "2022-07-02T13:26:58.823Z"
   },
   {
    "duration": 12,
    "start_time": "2022-07-02T13:26:58.828Z"
   },
   {
    "duration": 103,
    "start_time": "2022-07-02T13:26:58.850Z"
   },
   {
    "duration": 123,
    "start_time": "2022-07-02T13:26:58.957Z"
   },
   {
    "duration": 913,
    "start_time": "2022-07-02T13:26:59.082Z"
   },
   {
    "duration": 167,
    "start_time": "2022-07-02T13:26:59.997Z"
   },
   {
    "duration": 59,
    "start_time": "2022-07-02T13:27:00.165Z"
   },
   {
    "duration": 537,
    "start_time": "2022-07-02T13:27:00.226Z"
   },
   {
    "duration": 998,
    "start_time": "2022-07-02T13:27:00.764Z"
   },
   {
    "duration": 10,
    "start_time": "2022-07-02T13:27:01.764Z"
   },
   {
    "duration": 1237,
    "start_time": "2022-07-05T07:12:51.001Z"
   },
   {
    "duration": 95,
    "start_time": "2022-07-05T07:20:33.106Z"
   },
   {
    "duration": 190,
    "start_time": "2022-07-05T07:20:41.536Z"
   },
   {
    "duration": 13,
    "start_time": "2022-07-05T07:20:44.244Z"
   },
   {
    "duration": 8,
    "start_time": "2022-07-05T07:20:47.965Z"
   },
   {
    "duration": 1285,
    "start_time": "2022-07-05T07:21:05.961Z"
   },
   {
    "duration": 4,
    "start_time": "2022-07-05T07:21:12.361Z"
   },
   {
    "duration": 55,
    "start_time": "2022-07-05T07:21:12.367Z"
   },
   {
    "duration": 12,
    "start_time": "2022-07-05T07:21:12.423Z"
   },
   {
    "duration": 6,
    "start_time": "2022-07-05T07:21:12.437Z"
   },
   {
    "duration": 9,
    "start_time": "2022-07-05T07:21:12.445Z"
   },
   {
    "duration": 15,
    "start_time": "2022-07-05T07:21:12.456Z"
   },
   {
    "duration": 5,
    "start_time": "2022-07-05T07:21:12.473Z"
   },
   {
    "duration": 7,
    "start_time": "2022-07-05T07:21:12.480Z"
   },
   {
    "duration": 39,
    "start_time": "2022-07-05T07:21:12.490Z"
   },
   {
    "duration": 24,
    "start_time": "2022-07-05T07:21:12.531Z"
   },
   {
    "duration": 35,
    "start_time": "2022-07-05T07:21:12.557Z"
   },
   {
    "duration": 6,
    "start_time": "2022-07-05T07:21:12.594Z"
   },
   {
    "duration": 29,
    "start_time": "2022-07-05T07:21:12.601Z"
   },
   {
    "duration": 7,
    "start_time": "2022-07-05T07:21:12.632Z"
   },
   {
    "duration": 555,
    "start_time": "2022-07-05T07:21:12.640Z"
   },
   {
    "duration": 4,
    "start_time": "2022-07-05T07:21:13.197Z"
   },
   {
    "duration": 333,
    "start_time": "2022-07-05T07:21:13.203Z"
   },
   {
    "duration": 116,
    "start_time": "2022-07-05T07:21:13.538Z"
   },
   {
    "duration": 618,
    "start_time": "2022-07-05T07:21:13.655Z"
   },
   {
    "duration": 4,
    "start_time": "2022-07-05T07:21:14.275Z"
   },
   {
    "duration": 14,
    "start_time": "2022-07-05T07:21:14.280Z"
   },
   {
    "duration": 37,
    "start_time": "2022-07-05T07:21:14.296Z"
   },
   {
    "duration": 112,
    "start_time": "2022-07-05T07:21:14.336Z"
   },
   {
    "duration": 294,
    "start_time": "2022-07-05T07:21:14.451Z"
   },
   {
    "duration": 4,
    "start_time": "2022-07-05T07:21:14.746Z"
   },
   {
    "duration": 15,
    "start_time": "2022-07-05T07:21:14.752Z"
   },
   {
    "duration": 62,
    "start_time": "2022-07-05T07:21:14.768Z"
   },
   {
    "duration": 127,
    "start_time": "2022-07-05T07:21:14.832Z"
   },
   {
    "duration": 1029,
    "start_time": "2022-07-05T07:21:14.961Z"
   },
   {
    "duration": 164,
    "start_time": "2022-07-05T07:21:15.991Z"
   },
   {
    "duration": 133,
    "start_time": "2022-07-05T07:21:16.157Z"
   },
   {
    "duration": 566,
    "start_time": "2022-07-05T07:21:16.292Z"
   },
   {
    "duration": 1075,
    "start_time": "2022-07-05T07:21:16.860Z"
   },
   {
    "duration": 13,
    "start_time": "2022-07-05T07:21:17.936Z"
   },
   {
    "duration": 6,
    "start_time": "2022-07-05T07:21:39.440Z"
   },
   {
    "duration": 6,
    "start_time": "2022-07-05T07:21:46.682Z"
   },
   {
    "duration": 6,
    "start_time": "2022-07-05T07:22:08.913Z"
   },
   {
    "duration": 5,
    "start_time": "2022-07-05T07:22:17.730Z"
   },
   {
    "duration": 5,
    "start_time": "2022-07-05T07:22:25.079Z"
   },
   {
    "duration": 4,
    "start_time": "2022-07-05T07:22:46.626Z"
   },
   {
    "duration": 6,
    "start_time": "2022-07-05T07:22:57.408Z"
   },
   {
    "duration": 4,
    "start_time": "2022-07-05T07:23:12.910Z"
   },
   {
    "duration": 57,
    "start_time": "2022-07-05T07:23:12.916Z"
   },
   {
    "duration": 13,
    "start_time": "2022-07-05T07:23:12.975Z"
   },
   {
    "duration": 8,
    "start_time": "2022-07-05T07:23:12.990Z"
   },
   {
    "duration": 10,
    "start_time": "2022-07-05T07:23:12.999Z"
   },
   {
    "duration": 30,
    "start_time": "2022-07-05T07:23:13.010Z"
   },
   {
    "duration": 6,
    "start_time": "2022-07-05T07:23:13.041Z"
   },
   {
    "duration": 8,
    "start_time": "2022-07-05T07:23:13.048Z"
   },
   {
    "duration": 6,
    "start_time": "2022-07-05T07:23:13.058Z"
   },
   {
    "duration": 6,
    "start_time": "2022-07-05T07:23:13.066Z"
   },
   {
    "duration": 24,
    "start_time": "2022-07-05T07:23:13.073Z"
   },
   {
    "duration": 65,
    "start_time": "2022-07-05T07:23:13.099Z"
   },
   {
    "duration": 9,
    "start_time": "2022-07-05T07:23:13.166Z"
   },
   {
    "duration": 9,
    "start_time": "2022-07-05T07:23:13.177Z"
   },
   {
    "duration": 12,
    "start_time": "2022-07-05T07:23:13.188Z"
   },
   {
    "duration": 162,
    "start_time": "2022-07-05T07:23:13.202Z"
   },
   {
    "duration": 4,
    "start_time": "2022-07-05T07:23:13.366Z"
   },
   {
    "duration": 558,
    "start_time": "2022-07-05T07:23:13.372Z"
   },
   {
    "duration": 26,
    "start_time": "2022-07-05T07:23:13.932Z"
   },
   {
    "duration": 585,
    "start_time": "2022-07-05T07:23:13.959Z"
   },
   {
    "duration": 4,
    "start_time": "2022-07-05T07:23:14.545Z"
   },
   {
    "duration": 12,
    "start_time": "2022-07-05T07:23:14.551Z"
   },
   {
    "duration": 74,
    "start_time": "2022-07-05T07:23:14.564Z"
   },
   {
    "duration": 101,
    "start_time": "2022-07-05T07:23:14.641Z"
   },
   {
    "duration": 281,
    "start_time": "2022-07-05T07:23:14.743Z"
   },
   {
    "duration": 7,
    "start_time": "2022-07-05T07:23:15.025Z"
   },
   {
    "duration": 33,
    "start_time": "2022-07-05T07:23:15.034Z"
   },
   {
    "duration": 66,
    "start_time": "2022-07-05T07:23:15.069Z"
   },
   {
    "duration": 135,
    "start_time": "2022-07-05T07:23:15.137Z"
   },
   {
    "duration": 2234,
    "start_time": "2022-07-05T07:23:15.273Z"
   },
   {
    "duration": 221,
    "start_time": "2022-07-05T07:23:17.509Z"
   },
   {
    "duration": 52,
    "start_time": "2022-07-05T07:23:17.732Z"
   },
   {
    "duration": 566,
    "start_time": "2022-07-05T07:23:17.786Z"
   },
   {
    "duration": 1095,
    "start_time": "2022-07-05T07:23:18.353Z"
   },
   {
    "duration": 11,
    "start_time": "2022-07-05T07:23:19.449Z"
   },
   {
    "duration": 52,
    "start_time": "2022-07-05T08:13:56.825Z"
   },
   {
    "duration": 33,
    "start_time": "2022-07-05T08:14:18.625Z"
   },
   {
    "duration": 49,
    "start_time": "2022-07-05T08:14:47.416Z"
   },
   {
    "duration": 4,
    "start_time": "2022-07-05T08:14:59.762Z"
   },
   {
    "duration": 54,
    "start_time": "2022-07-05T08:14:59.768Z"
   },
   {
    "duration": 14,
    "start_time": "2022-07-05T08:14:59.824Z"
   },
   {
    "duration": 6,
    "start_time": "2022-07-05T08:14:59.841Z"
   },
   {
    "duration": 14,
    "start_time": "2022-07-05T08:14:59.848Z"
   },
   {
    "duration": 21,
    "start_time": "2022-07-05T08:14:59.864Z"
   },
   {
    "duration": 7,
    "start_time": "2022-07-05T08:14:59.886Z"
   },
   {
    "duration": 10,
    "start_time": "2022-07-05T08:14:59.895Z"
   },
   {
    "duration": 11,
    "start_time": "2022-07-05T08:14:59.906Z"
   },
   {
    "duration": 33,
    "start_time": "2022-07-05T08:14:59.918Z"
   },
   {
    "duration": 6,
    "start_time": "2022-07-05T08:14:59.953Z"
   },
   {
    "duration": 10,
    "start_time": "2022-07-05T08:14:59.961Z"
   },
   {
    "duration": 15,
    "start_time": "2022-07-05T08:14:59.972Z"
   },
   {
    "duration": 41,
    "start_time": "2022-07-05T08:14:59.989Z"
   },
   {
    "duration": 3,
    "start_time": "2022-07-05T08:15:02.037Z"
   },
   {
    "duration": 57,
    "start_time": "2022-07-05T08:15:02.042Z"
   },
   {
    "duration": 12,
    "start_time": "2022-07-05T08:15:02.101Z"
   },
   {
    "duration": 11,
    "start_time": "2022-07-05T08:15:02.115Z"
   },
   {
    "duration": 10,
    "start_time": "2022-07-05T08:15:02.128Z"
   },
   {
    "duration": 34,
    "start_time": "2022-07-05T08:15:02.139Z"
   },
   {
    "duration": 13,
    "start_time": "2022-07-05T08:15:02.175Z"
   },
   {
    "duration": 15,
    "start_time": "2022-07-05T08:15:02.190Z"
   },
   {
    "duration": 14,
    "start_time": "2022-07-05T08:15:02.206Z"
   },
   {
    "duration": 30,
    "start_time": "2022-07-05T08:15:02.223Z"
   },
   {
    "duration": 11,
    "start_time": "2022-07-05T08:15:02.255Z"
   },
   {
    "duration": 33,
    "start_time": "2022-07-05T08:15:02.267Z"
   },
   {
    "duration": 23,
    "start_time": "2022-07-05T08:15:02.301Z"
   },
   {
    "duration": 38,
    "start_time": "2022-07-05T08:15:02.325Z"
   },
   {
    "duration": 125,
    "start_time": "2022-07-05T08:15:02.366Z"
   },
   {
    "duration": 3,
    "start_time": "2022-07-05T08:15:02.494Z"
   },
   {
    "duration": 559,
    "start_time": "2022-07-05T08:15:02.498Z"
   },
   {
    "duration": 117,
    "start_time": "2022-07-05T08:15:03.059Z"
   },
   {
    "duration": 557,
    "start_time": "2022-07-05T08:15:03.177Z"
   },
   {
    "duration": 4,
    "start_time": "2022-07-05T08:15:03.736Z"
   },
   {
    "duration": 22,
    "start_time": "2022-07-05T08:15:03.742Z"
   },
   {
    "duration": 88,
    "start_time": "2022-07-05T08:15:03.766Z"
   },
   {
    "duration": 109,
    "start_time": "2022-07-05T08:15:03.857Z"
   },
   {
    "duration": 260,
    "start_time": "2022-07-05T08:15:03.968Z"
   },
   {
    "duration": 3,
    "start_time": "2022-07-05T08:15:04.230Z"
   },
   {
    "duration": 21,
    "start_time": "2022-07-05T08:15:04.235Z"
   },
   {
    "duration": 99,
    "start_time": "2022-07-05T08:15:04.258Z"
   },
   {
    "duration": 126,
    "start_time": "2022-07-05T08:15:04.360Z"
   },
   {
    "duration": 2071,
    "start_time": "2022-07-05T08:15:04.487Z"
   },
   {
    "duration": 217,
    "start_time": "2022-07-05T08:15:06.560Z"
   },
   {
    "duration": 175,
    "start_time": "2022-07-05T08:15:06.779Z"
   },
   {
    "duration": 1045,
    "start_time": "2022-07-05T08:15:06.956Z"
   },
   {
    "duration": 2004,
    "start_time": "2022-07-05T08:15:08.053Z"
   },
   {
    "duration": 10,
    "start_time": "2022-07-05T08:15:10.059Z"
   },
   {
    "duration": 27,
    "start_time": "2022-07-05T09:20:33.649Z"
   },
   {
    "duration": 19,
    "start_time": "2022-07-05T09:21:19.144Z"
   },
   {
    "duration": 16,
    "start_time": "2022-07-05T09:22:47.129Z"
   },
   {
    "duration": 18,
    "start_time": "2022-07-05T09:23:34.442Z"
   },
   {
    "duration": 1055,
    "start_time": "2022-07-05T09:23:49.893Z"
   },
   {
    "duration": 54,
    "start_time": "2022-07-05T09:23:50.949Z"
   },
   {
    "duration": 12,
    "start_time": "2022-07-05T09:23:51.005Z"
   },
   {
    "duration": 7,
    "start_time": "2022-07-05T09:23:51.019Z"
   },
   {
    "duration": 9,
    "start_time": "2022-07-05T09:23:51.027Z"
   },
   {
    "duration": 16,
    "start_time": "2022-07-05T09:23:51.038Z"
   },
   {
    "duration": 6,
    "start_time": "2022-07-05T09:23:51.055Z"
   },
   {
    "duration": 5,
    "start_time": "2022-07-05T09:23:51.062Z"
   },
   {
    "duration": 5,
    "start_time": "2022-07-05T09:23:51.068Z"
   },
   {
    "duration": 22,
    "start_time": "2022-07-05T09:23:51.076Z"
   },
   {
    "duration": 6,
    "start_time": "2022-07-05T09:23:51.100Z"
   },
   {
    "duration": 11,
    "start_time": "2022-07-05T09:23:51.113Z"
   },
   {
    "duration": 7,
    "start_time": "2022-07-05T09:23:51.152Z"
   },
   {
    "duration": 43,
    "start_time": "2022-07-05T09:23:51.161Z"
   },
   {
    "duration": 384,
    "start_time": "2022-07-05T09:23:51.206Z"
   },
   {
    "duration": 3,
    "start_time": "2022-07-05T09:23:51.592Z"
   },
   {
    "duration": 466,
    "start_time": "2022-07-05T09:23:51.597Z"
   },
   {
    "duration": 111,
    "start_time": "2022-07-05T09:23:52.065Z"
   },
   {
    "duration": 620,
    "start_time": "2022-07-05T09:23:52.177Z"
   },
   {
    "duration": 4,
    "start_time": "2022-07-05T09:23:52.799Z"
   },
   {
    "duration": 15,
    "start_time": "2022-07-05T09:23:52.804Z"
   },
   {
    "duration": 38,
    "start_time": "2022-07-05T09:23:52.820Z"
   },
   {
    "duration": 108,
    "start_time": "2022-07-05T09:23:52.861Z"
   },
   {
    "duration": 346,
    "start_time": "2022-07-05T09:23:52.971Z"
   },
   {
    "duration": 4,
    "start_time": "2022-07-05T09:23:53.319Z"
   },
   {
    "duration": 16,
    "start_time": "2022-07-05T09:23:53.324Z"
   },
   {
    "duration": 111,
    "start_time": "2022-07-05T09:23:53.342Z"
   },
   {
    "duration": 129,
    "start_time": "2022-07-05T09:23:53.458Z"
   },
   {
    "duration": 1067,
    "start_time": "2022-07-05T09:23:53.588Z"
   },
   {
    "duration": 209,
    "start_time": "2022-07-05T09:23:54.656Z"
   },
   {
    "duration": 56,
    "start_time": "2022-07-05T09:23:54.867Z"
   },
   {
    "duration": 617,
    "start_time": "2022-07-05T09:23:54.924Z"
   },
   {
    "duration": 1138,
    "start_time": "2022-07-05T09:23:55.542Z"
   },
   {
    "duration": 12,
    "start_time": "2022-07-05T09:23:56.682Z"
   },
   {
    "duration": 37,
    "start_time": "2022-07-05T09:25:33.445Z"
   },
   {
    "duration": 30,
    "start_time": "2022-07-05T09:25:47.341Z"
   },
   {
    "duration": 105,
    "start_time": "2022-07-05T09:26:30.502Z"
   },
   {
    "duration": 58,
    "start_time": "2022-07-05T09:27:14.081Z"
   },
   {
    "duration": 17,
    "start_time": "2022-07-05T09:28:26.120Z"
   },
   {
    "duration": 18,
    "start_time": "2022-07-05T09:28:34.223Z"
   },
   {
    "duration": 92,
    "start_time": "2022-07-05T09:31:15.955Z"
   },
   {
    "duration": 5,
    "start_time": "2022-07-05T09:31:23.190Z"
   },
   {
    "duration": 14,
    "start_time": "2022-07-05T09:31:33.312Z"
   },
   {
    "duration": 12,
    "start_time": "2022-07-05T09:31:37.277Z"
   },
   {
    "duration": 5,
    "start_time": "2022-07-05T09:31:41.608Z"
   },
   {
    "duration": 54,
    "start_time": "2022-07-05T09:31:41.615Z"
   },
   {
    "duration": 12,
    "start_time": "2022-07-05T09:31:41.671Z"
   },
   {
    "duration": 5,
    "start_time": "2022-07-05T09:31:41.685Z"
   },
   {
    "duration": 10,
    "start_time": "2022-07-05T09:31:41.692Z"
   },
   {
    "duration": 17,
    "start_time": "2022-07-05T09:31:41.703Z"
   },
   {
    "duration": 32,
    "start_time": "2022-07-05T09:31:41.722Z"
   },
   {
    "duration": 5,
    "start_time": "2022-07-05T09:31:41.756Z"
   },
   {
    "duration": 23,
    "start_time": "2022-07-05T09:31:41.763Z"
   },
   {
    "duration": 30,
    "start_time": "2022-07-05T09:31:41.788Z"
   },
   {
    "duration": 7,
    "start_time": "2022-07-05T09:31:41.820Z"
   },
   {
    "duration": 26,
    "start_time": "2022-07-05T09:31:41.829Z"
   },
   {
    "duration": 23,
    "start_time": "2022-07-05T09:31:41.857Z"
   },
   {
    "duration": 19,
    "start_time": "2022-07-05T09:31:41.882Z"
   },
   {
    "duration": 50,
    "start_time": "2022-07-05T09:31:41.903Z"
   },
   {
    "duration": 19,
    "start_time": "2022-07-05T09:31:41.955Z"
   },
   {
    "duration": 0,
    "start_time": "2022-07-05T09:31:41.977Z"
   },
   {
    "duration": 0,
    "start_time": "2022-07-05T09:31:41.978Z"
   },
   {
    "duration": 0,
    "start_time": "2022-07-05T09:31:41.979Z"
   },
   {
    "duration": 0,
    "start_time": "2022-07-05T09:31:41.981Z"
   },
   {
    "duration": 0,
    "start_time": "2022-07-05T09:31:41.982Z"
   },
   {
    "duration": 0,
    "start_time": "2022-07-05T09:31:41.983Z"
   },
   {
    "duration": 0,
    "start_time": "2022-07-05T09:31:41.984Z"
   },
   {
    "duration": 0,
    "start_time": "2022-07-05T09:31:41.985Z"
   },
   {
    "duration": 0,
    "start_time": "2022-07-05T09:31:41.986Z"
   },
   {
    "duration": 0,
    "start_time": "2022-07-05T09:31:41.987Z"
   },
   {
    "duration": 0,
    "start_time": "2022-07-05T09:31:41.988Z"
   },
   {
    "duration": 1,
    "start_time": "2022-07-05T09:31:41.989Z"
   },
   {
    "duration": 0,
    "start_time": "2022-07-05T09:31:41.991Z"
   },
   {
    "duration": 0,
    "start_time": "2022-07-05T09:31:41.992Z"
   },
   {
    "duration": 0,
    "start_time": "2022-07-05T09:31:41.994Z"
   },
   {
    "duration": 0,
    "start_time": "2022-07-05T09:31:41.995Z"
   },
   {
    "duration": 0,
    "start_time": "2022-07-05T09:31:41.998Z"
   },
   {
    "duration": 0,
    "start_time": "2022-07-05T09:31:42.000Z"
   },
   {
    "duration": 0,
    "start_time": "2022-07-05T09:31:42.001Z"
   },
   {
    "duration": 0,
    "start_time": "2022-07-05T09:31:42.002Z"
   },
   {
    "duration": 31,
    "start_time": "2022-07-05T09:33:07.546Z"
   },
   {
    "duration": 12,
    "start_time": "2022-07-05T09:33:39.794Z"
   },
   {
    "duration": 4,
    "start_time": "2022-07-05T09:33:44.946Z"
   },
   {
    "duration": 50,
    "start_time": "2022-07-05T09:33:44.952Z"
   },
   {
    "duration": 11,
    "start_time": "2022-07-05T09:33:45.003Z"
   },
   {
    "duration": 6,
    "start_time": "2022-07-05T09:33:45.016Z"
   },
   {
    "duration": 19,
    "start_time": "2022-07-05T09:33:45.025Z"
   },
   {
    "duration": 18,
    "start_time": "2022-07-05T09:33:45.045Z"
   },
   {
    "duration": 6,
    "start_time": "2022-07-05T09:33:45.065Z"
   },
   {
    "duration": 14,
    "start_time": "2022-07-05T09:33:45.073Z"
   },
   {
    "duration": 7,
    "start_time": "2022-07-05T09:33:45.089Z"
   },
   {
    "duration": 26,
    "start_time": "2022-07-05T09:33:45.098Z"
   },
   {
    "duration": 5,
    "start_time": "2022-07-05T09:33:45.126Z"
   },
   {
    "duration": 24,
    "start_time": "2022-07-05T09:33:45.133Z"
   },
   {
    "duration": 23,
    "start_time": "2022-07-05T09:33:45.159Z"
   },
   {
    "duration": 16,
    "start_time": "2022-07-05T09:33:45.185Z"
   },
   {
    "duration": 0,
    "start_time": "2022-07-05T09:33:45.202Z"
   },
   {
    "duration": 0,
    "start_time": "2022-07-05T09:33:45.203Z"
   },
   {
    "duration": 0,
    "start_time": "2022-07-05T09:33:45.204Z"
   },
   {
    "duration": 0,
    "start_time": "2022-07-05T09:33:45.205Z"
   },
   {
    "duration": 0,
    "start_time": "2022-07-05T09:33:45.206Z"
   },
   {
    "duration": 0,
    "start_time": "2022-07-05T09:33:45.207Z"
   },
   {
    "duration": 0,
    "start_time": "2022-07-05T09:33:45.209Z"
   },
   {
    "duration": 0,
    "start_time": "2022-07-05T09:33:45.210Z"
   },
   {
    "duration": 0,
    "start_time": "2022-07-05T09:33:45.211Z"
   },
   {
    "duration": 0,
    "start_time": "2022-07-05T09:33:45.212Z"
   },
   {
    "duration": 0,
    "start_time": "2022-07-05T09:33:45.213Z"
   },
   {
    "duration": 0,
    "start_time": "2022-07-05T09:33:45.253Z"
   },
   {
    "duration": 0,
    "start_time": "2022-07-05T09:33:45.254Z"
   },
   {
    "duration": 0,
    "start_time": "2022-07-05T09:33:45.255Z"
   },
   {
    "duration": 0,
    "start_time": "2022-07-05T09:33:45.256Z"
   },
   {
    "duration": 0,
    "start_time": "2022-07-05T09:33:45.257Z"
   },
   {
    "duration": 0,
    "start_time": "2022-07-05T09:33:45.258Z"
   },
   {
    "duration": 0,
    "start_time": "2022-07-05T09:33:45.259Z"
   },
   {
    "duration": 0,
    "start_time": "2022-07-05T09:33:45.261Z"
   },
   {
    "duration": 0,
    "start_time": "2022-07-05T09:33:45.262Z"
   },
   {
    "duration": 0,
    "start_time": "2022-07-05T09:33:45.263Z"
   },
   {
    "duration": 0,
    "start_time": "2022-07-05T09:33:45.264Z"
   },
   {
    "duration": 6,
    "start_time": "2022-07-05T09:34:21.646Z"
   },
   {
    "duration": 27,
    "start_time": "2022-07-05T09:34:24.924Z"
   },
   {
    "duration": 484,
    "start_time": "2022-07-05T09:34:26.734Z"
   },
   {
    "duration": 426,
    "start_time": "2022-07-05T09:35:15.115Z"
   },
   {
    "duration": 430,
    "start_time": "2022-07-05T09:36:53.554Z"
   },
   {
    "duration": 397,
    "start_time": "2022-07-05T09:37:01.611Z"
   },
   {
    "duration": 388,
    "start_time": "2022-07-05T09:37:33.373Z"
   },
   {
    "duration": 392,
    "start_time": "2022-07-05T09:37:57.303Z"
   },
   {
    "duration": 427,
    "start_time": "2022-07-05T09:38:23.499Z"
   },
   {
    "duration": 401,
    "start_time": "2022-07-05T09:38:44.153Z"
   },
   {
    "duration": 477,
    "start_time": "2022-07-05T09:38:54.729Z"
   },
   {
    "duration": 414,
    "start_time": "2022-07-05T09:39:12.757Z"
   },
   {
    "duration": 1139,
    "start_time": "2022-07-05T09:39:36.419Z"
   },
   {
    "duration": 198,
    "start_time": "2022-07-05T09:39:50.846Z"
   },
   {
    "duration": 1140,
    "start_time": "2022-07-05T09:40:11.709Z"
   },
   {
    "duration": 1079,
    "start_time": "2022-07-05T09:41:07.854Z"
   },
   {
    "duration": 1049,
    "start_time": "2022-07-05T09:41:57.421Z"
   },
   {
    "duration": 1001,
    "start_time": "2022-07-05T09:42:09.475Z"
   },
   {
    "duration": 1186,
    "start_time": "2022-07-05T09:43:02.147Z"
   },
   {
    "duration": 1008,
    "start_time": "2022-07-05T09:43:28.488Z"
   },
   {
    "duration": 1016,
    "start_time": "2022-07-05T09:43:36.493Z"
   },
   {
    "duration": 5,
    "start_time": "2022-07-05T09:44:20.621Z"
   },
   {
    "duration": 1043,
    "start_time": "2022-07-05T09:44:57.776Z"
   },
   {
    "duration": 1131,
    "start_time": "2022-07-05T09:45:16.537Z"
   },
   {
    "duration": 4,
    "start_time": "2022-07-05T09:47:08.966Z"
   },
   {
    "duration": 1314,
    "start_time": "2022-07-05T09:47:15.426Z"
   },
   {
    "duration": 1105,
    "start_time": "2022-07-05T09:47:30.316Z"
   },
   {
    "duration": 1124,
    "start_time": "2022-07-05T09:47:45.974Z"
   },
   {
    "duration": 1079,
    "start_time": "2022-07-05T09:47:56.674Z"
   },
   {
    "duration": 1092,
    "start_time": "2022-07-05T09:58:23.515Z"
   },
   {
    "duration": 1140,
    "start_time": "2022-07-05T09:58:38.312Z"
   },
   {
    "duration": 130,
    "start_time": "2022-07-05T09:59:06.129Z"
   },
   {
    "duration": 3,
    "start_time": "2022-07-05T09:59:08.386Z"
   },
   {
    "duration": 230,
    "start_time": "2022-07-05T09:59:14.630Z"
   },
   {
    "duration": 24,
    "start_time": "2022-07-05T09:59:35.744Z"
   },
   {
    "duration": 245,
    "start_time": "2022-07-05T09:59:37.753Z"
   },
   {
    "duration": 1325,
    "start_time": "2022-07-05T09:59:47.185Z"
   },
   {
    "duration": 49,
    "start_time": "2022-07-05T09:59:48.512Z"
   },
   {
    "duration": 11,
    "start_time": "2022-07-05T09:59:48.563Z"
   },
   {
    "duration": 7,
    "start_time": "2022-07-05T09:59:48.576Z"
   },
   {
    "duration": 12,
    "start_time": "2022-07-05T09:59:48.585Z"
   },
   {
    "duration": 15,
    "start_time": "2022-07-05T09:59:48.598Z"
   },
   {
    "duration": 6,
    "start_time": "2022-07-05T09:59:48.614Z"
   },
   {
    "duration": 38,
    "start_time": "2022-07-05T09:59:48.621Z"
   },
   {
    "duration": 5,
    "start_time": "2022-07-05T09:59:48.661Z"
   },
   {
    "duration": 24,
    "start_time": "2022-07-05T09:59:48.668Z"
   },
   {
    "duration": 8,
    "start_time": "2022-07-05T09:59:48.693Z"
   },
   {
    "duration": 9,
    "start_time": "2022-07-05T09:59:48.703Z"
   },
   {
    "duration": 45,
    "start_time": "2022-07-05T09:59:48.714Z"
   },
   {
    "duration": 6,
    "start_time": "2022-07-05T09:59:48.761Z"
   },
   {
    "duration": 33,
    "start_time": "2022-07-05T09:59:48.768Z"
   },
   {
    "duration": 1184,
    "start_time": "2022-07-05T09:59:48.802Z"
   },
   {
    "duration": 113,
    "start_time": "2022-07-05T09:59:49.988Z"
   },
   {
    "duration": 3,
    "start_time": "2022-07-05T09:59:50.102Z"
   },
   {
    "duration": 532,
    "start_time": "2022-07-05T09:59:50.107Z"
   },
   {
    "duration": 0,
    "start_time": "2022-07-05T09:59:50.640Z"
   },
   {
    "duration": 1,
    "start_time": "2022-07-05T09:59:50.641Z"
   },
   {
    "duration": 0,
    "start_time": "2022-07-05T09:59:50.652Z"
   },
   {
    "duration": 0,
    "start_time": "2022-07-05T09:59:50.653Z"
   },
   {
    "duration": 0,
    "start_time": "2022-07-05T09:59:50.654Z"
   },
   {
    "duration": 0,
    "start_time": "2022-07-05T09:59:50.655Z"
   },
   {
    "duration": 0,
    "start_time": "2022-07-05T09:59:50.656Z"
   },
   {
    "duration": 0,
    "start_time": "2022-07-05T09:59:50.657Z"
   },
   {
    "duration": 0,
    "start_time": "2022-07-05T09:59:50.658Z"
   },
   {
    "duration": 0,
    "start_time": "2022-07-05T09:59:50.659Z"
   },
   {
    "duration": 0,
    "start_time": "2022-07-05T09:59:50.660Z"
   },
   {
    "duration": 0,
    "start_time": "2022-07-05T09:59:50.661Z"
   },
   {
    "duration": 0,
    "start_time": "2022-07-05T09:59:50.662Z"
   },
   {
    "duration": 0,
    "start_time": "2022-07-05T09:59:50.663Z"
   },
   {
    "duration": 0,
    "start_time": "2022-07-05T09:59:50.664Z"
   },
   {
    "duration": 0,
    "start_time": "2022-07-05T09:59:50.665Z"
   },
   {
    "duration": 0,
    "start_time": "2022-07-05T09:59:50.666Z"
   },
   {
    "duration": 1364,
    "start_time": "2022-07-05T10:01:19.945Z"
   },
   {
    "duration": 49,
    "start_time": "2022-07-05T10:01:21.311Z"
   },
   {
    "duration": 13,
    "start_time": "2022-07-05T10:01:21.362Z"
   },
   {
    "duration": 8,
    "start_time": "2022-07-05T10:01:21.376Z"
   },
   {
    "duration": 10,
    "start_time": "2022-07-05T10:01:21.385Z"
   },
   {
    "duration": 12,
    "start_time": "2022-07-05T10:01:21.396Z"
   },
   {
    "duration": 5,
    "start_time": "2022-07-05T10:01:21.409Z"
   },
   {
    "duration": 36,
    "start_time": "2022-07-05T10:01:21.416Z"
   },
   {
    "duration": 4,
    "start_time": "2022-07-05T10:01:21.454Z"
   },
   {
    "duration": 25,
    "start_time": "2022-07-05T10:01:21.460Z"
   },
   {
    "duration": 6,
    "start_time": "2022-07-05T10:01:21.487Z"
   },
   {
    "duration": 6,
    "start_time": "2022-07-05T10:01:21.494Z"
   },
   {
    "duration": 21,
    "start_time": "2022-07-05T10:01:21.502Z"
   },
   {
    "duration": 29,
    "start_time": "2022-07-05T10:01:21.525Z"
   },
   {
    "duration": 36,
    "start_time": "2022-07-05T10:01:21.555Z"
   },
   {
    "duration": 1121,
    "start_time": "2022-07-05T10:01:21.593Z"
   },
   {
    "duration": 112,
    "start_time": "2022-07-05T10:01:22.716Z"
   },
   {
    "duration": 4,
    "start_time": "2022-07-05T10:01:22.829Z"
   },
   {
    "duration": 504,
    "start_time": "2022-07-05T10:01:22.852Z"
   },
   {
    "duration": 115,
    "start_time": "2022-07-05T10:01:23.358Z"
   },
   {
    "duration": 585,
    "start_time": "2022-07-05T10:01:23.474Z"
   },
   {
    "duration": 4,
    "start_time": "2022-07-05T10:01:24.061Z"
   },
   {
    "duration": 13,
    "start_time": "2022-07-05T10:01:24.066Z"
   },
   {
    "duration": 74,
    "start_time": "2022-07-05T10:01:24.081Z"
   },
   {
    "duration": 101,
    "start_time": "2022-07-05T10:01:24.157Z"
   },
   {
    "duration": 269,
    "start_time": "2022-07-05T10:01:24.259Z"
   },
   {
    "duration": 4,
    "start_time": "2022-07-05T10:01:24.529Z"
   },
   {
    "duration": 25,
    "start_time": "2022-07-05T10:01:24.535Z"
   },
   {
    "duration": 98,
    "start_time": "2022-07-05T10:01:24.562Z"
   },
   {
    "duration": 127,
    "start_time": "2022-07-05T10:01:24.661Z"
   },
   {
    "duration": 995,
    "start_time": "2022-07-05T10:01:24.789Z"
   },
   {
    "duration": 284,
    "start_time": "2022-07-05T10:01:25.785Z"
   },
   {
    "duration": 188,
    "start_time": "2022-07-05T10:01:26.071Z"
   },
   {
    "duration": 1118,
    "start_time": "2022-07-05T10:01:26.262Z"
   },
   {
    "duration": 1234,
    "start_time": "2022-07-05T10:01:27.382Z"
   },
   {
    "duration": 10,
    "start_time": "2022-07-05T10:01:28.618Z"
   },
   {
    "duration": 76,
    "start_time": "2022-07-05T10:03:58.675Z"
   },
   {
    "duration": 17,
    "start_time": "2022-07-05T10:04:08.363Z"
   },
   {
    "duration": 281,
    "start_time": "2022-07-05T10:04:12.365Z"
   },
   {
    "duration": 139,
    "start_time": "2022-07-05T10:04:23.615Z"
   },
   {
    "duration": 36,
    "start_time": "2022-07-05T10:04:27.447Z"
   },
   {
    "duration": 997,
    "start_time": "2022-07-05T10:04:35.831Z"
   },
   {
    "duration": 62,
    "start_time": "2022-07-05T10:04:50.574Z"
   },
   {
    "duration": 1104,
    "start_time": "2022-07-05T10:04:55.430Z"
   },
   {
    "duration": 11,
    "start_time": "2022-07-05T10:05:42.971Z"
   },
   {
    "duration": 15,
    "start_time": "2022-07-05T10:06:03.843Z"
   },
   {
    "duration": 39,
    "start_time": "2022-07-05T10:06:06.434Z"
   },
   {
    "duration": 20,
    "start_time": "2022-07-05T10:06:13.413Z"
   },
   {
    "duration": 314,
    "start_time": "2022-07-05T10:06:17.535Z"
   },
   {
    "duration": 437,
    "start_time": "2022-07-05T10:08:55.249Z"
   },
   {
    "duration": 506,
    "start_time": "2022-07-05T10:09:08.289Z"
   },
   {
    "duration": 1182,
    "start_time": "2022-07-05T10:09:52.321Z"
   },
   {
    "duration": 1115,
    "start_time": "2022-07-05T10:10:01.508Z"
   },
   {
    "duration": 10,
    "start_time": "2022-07-05T10:18:45.482Z"
   },
   {
    "duration": 10,
    "start_time": "2022-07-05T10:18:59.871Z"
   },
   {
    "duration": 1329,
    "start_time": "2022-07-05T10:19:10.140Z"
   },
   {
    "duration": 52,
    "start_time": "2022-07-05T10:19:11.471Z"
   },
   {
    "duration": 11,
    "start_time": "2022-07-05T10:19:11.525Z"
   },
   {
    "duration": 7,
    "start_time": "2022-07-05T10:19:11.538Z"
   },
   {
    "duration": 10,
    "start_time": "2022-07-05T10:19:11.546Z"
   },
   {
    "duration": 11,
    "start_time": "2022-07-05T10:19:11.558Z"
   },
   {
    "duration": 5,
    "start_time": "2022-07-05T10:19:11.570Z"
   },
   {
    "duration": 7,
    "start_time": "2022-07-05T10:19:11.576Z"
   },
   {
    "duration": 4,
    "start_time": "2022-07-05T10:19:11.584Z"
   },
   {
    "duration": 21,
    "start_time": "2022-07-05T10:19:11.590Z"
   },
   {
    "duration": 5,
    "start_time": "2022-07-05T10:19:11.613Z"
   },
   {
    "duration": 8,
    "start_time": "2022-07-05T10:19:11.652Z"
   },
   {
    "duration": 20,
    "start_time": "2022-07-05T10:19:11.662Z"
   },
   {
    "duration": 6,
    "start_time": "2022-07-05T10:19:11.684Z"
   },
   {
    "duration": 37,
    "start_time": "2022-07-05T10:19:11.692Z"
   },
   {
    "duration": 1182,
    "start_time": "2022-07-05T10:19:11.753Z"
   },
   {
    "duration": 118,
    "start_time": "2022-07-05T10:19:12.936Z"
   },
   {
    "duration": 3,
    "start_time": "2022-07-05T10:19:13.056Z"
   },
   {
    "duration": 796,
    "start_time": "2022-07-05T10:19:13.060Z"
   },
   {
    "duration": 117,
    "start_time": "2022-07-05T10:19:13.858Z"
   },
   {
    "duration": 592,
    "start_time": "2022-07-05T10:19:13.977Z"
   },
   {
    "duration": 3,
    "start_time": "2022-07-05T10:19:14.571Z"
   },
   {
    "duration": 37,
    "start_time": "2022-07-05T10:19:14.576Z"
   },
   {
    "duration": 144,
    "start_time": "2022-07-05T10:19:14.614Z"
   },
   {
    "duration": 109,
    "start_time": "2022-07-05T10:19:14.760Z"
   },
   {
    "duration": 349,
    "start_time": "2022-07-05T10:19:14.870Z"
   },
   {
    "duration": 4,
    "start_time": "2022-07-05T10:19:15.220Z"
   },
   {
    "duration": 14,
    "start_time": "2022-07-05T10:19:15.227Z"
   },
   {
    "duration": 111,
    "start_time": "2022-07-05T10:19:15.243Z"
   },
   {
    "duration": 116,
    "start_time": "2022-07-05T10:19:15.356Z"
   },
   {
    "duration": 733,
    "start_time": "2022-07-05T10:19:15.474Z"
   },
   {
    "duration": 244,
    "start_time": "2022-07-05T10:19:16.209Z"
   },
   {
    "duration": 49,
    "start_time": "2022-07-05T10:19:16.455Z"
   },
   {
    "duration": 543,
    "start_time": "2022-07-05T10:19:16.506Z"
   },
   {
    "duration": 762,
    "start_time": "2022-07-05T10:19:17.051Z"
   },
   {
    "duration": 11,
    "start_time": "2022-07-05T10:19:17.815Z"
   },
   {
    "duration": 13,
    "start_time": "2022-07-05T13:06:59.025Z"
   },
   {
    "duration": 1641,
    "start_time": "2022-07-05T13:07:40.379Z"
   },
   {
    "duration": 52,
    "start_time": "2022-07-05T13:07:44.442Z"
   },
   {
    "duration": 4,
    "start_time": "2022-07-05T13:07:50.998Z"
   },
   {
    "duration": 18,
    "start_time": "2022-07-05T13:08:27.521Z"
   },
   {
    "duration": 14,
    "start_time": "2022-07-05T13:08:49.083Z"
   },
   {
    "duration": 16,
    "start_time": "2022-07-05T13:08:54.682Z"
   },
   {
    "duration": 4,
    "start_time": "2022-07-05T13:08:58.720Z"
   },
   {
    "duration": 105,
    "start_time": "2022-07-05T13:08:58.726Z"
   },
   {
    "duration": 14,
    "start_time": "2022-07-05T13:08:58.832Z"
   },
   {
    "duration": 34,
    "start_time": "2022-07-05T13:08:58.848Z"
   },
   {
    "duration": 32,
    "start_time": "2022-07-05T13:08:58.883Z"
   },
   {
    "duration": 26,
    "start_time": "2022-07-05T13:08:58.917Z"
   },
   {
    "duration": 33,
    "start_time": "2022-07-05T13:08:58.945Z"
   },
   {
    "duration": 24,
    "start_time": "2022-07-05T13:08:58.979Z"
   },
   {
    "duration": 24,
    "start_time": "2022-07-05T13:08:59.005Z"
   },
   {
    "duration": 41,
    "start_time": "2022-07-05T13:08:59.033Z"
   },
   {
    "duration": 42,
    "start_time": "2022-07-05T13:08:59.076Z"
   },
   {
    "duration": 25,
    "start_time": "2022-07-05T13:08:59.120Z"
   },
   {
    "duration": 51,
    "start_time": "2022-07-05T13:08:59.147Z"
   },
   {
    "duration": 32,
    "start_time": "2022-07-05T13:08:59.200Z"
   },
   {
    "duration": 45,
    "start_time": "2022-07-05T13:08:59.234Z"
   },
   {
    "duration": 1281,
    "start_time": "2022-07-05T13:08:59.281Z"
   },
   {
    "duration": 126,
    "start_time": "2022-07-05T13:09:00.569Z"
   },
   {
    "duration": 4,
    "start_time": "2022-07-05T13:09:00.697Z"
   },
   {
    "duration": 1270,
    "start_time": "2022-07-05T13:09:00.704Z"
   },
   {
    "duration": 113,
    "start_time": "2022-07-05T13:09:01.978Z"
   },
   {
    "duration": 104350,
    "start_time": "2022-07-05T13:09:02.093Z"
   },
   {
    "duration": 0,
    "start_time": "2022-07-05T13:10:46.447Z"
   },
   {
    "duration": 0,
    "start_time": "2022-07-05T13:10:46.448Z"
   },
   {
    "duration": 0,
    "start_time": "2022-07-05T13:10:46.450Z"
   },
   {
    "duration": 0,
    "start_time": "2022-07-05T13:10:46.451Z"
   },
   {
    "duration": 0,
    "start_time": "2022-07-05T13:10:46.453Z"
   },
   {
    "duration": 0,
    "start_time": "2022-07-05T13:10:46.455Z"
   },
   {
    "duration": 0,
    "start_time": "2022-07-05T13:10:46.456Z"
   },
   {
    "duration": 0,
    "start_time": "2022-07-05T13:10:46.458Z"
   },
   {
    "duration": 0,
    "start_time": "2022-07-05T13:10:46.460Z"
   },
   {
    "duration": 0,
    "start_time": "2022-07-05T13:10:46.461Z"
   },
   {
    "duration": 0,
    "start_time": "2022-07-05T13:10:46.463Z"
   },
   {
    "duration": 0,
    "start_time": "2022-07-05T13:10:46.464Z"
   },
   {
    "duration": 0,
    "start_time": "2022-07-05T13:10:46.465Z"
   },
   {
    "duration": 0,
    "start_time": "2022-07-05T13:10:46.467Z"
   },
   {
    "duration": 0,
    "start_time": "2022-07-05T13:10:46.468Z"
   },
   {
    "duration": 0,
    "start_time": "2022-07-05T13:10:46.469Z"
   },
   {
    "duration": 1441,
    "start_time": "2022-07-05T13:11:27.630Z"
   },
   {
    "duration": 43,
    "start_time": "2022-07-05T13:11:29.076Z"
   },
   {
    "duration": 14,
    "start_time": "2022-07-05T13:11:29.120Z"
   },
   {
    "duration": 7,
    "start_time": "2022-07-05T13:11:29.139Z"
   },
   {
    "duration": 81,
    "start_time": "2022-07-05T13:11:29.148Z"
   },
   {
    "duration": 26,
    "start_time": "2022-07-05T13:11:29.230Z"
   },
   {
    "duration": 25,
    "start_time": "2022-07-05T13:11:29.257Z"
   },
   {
    "duration": 6,
    "start_time": "2022-07-05T13:11:29.284Z"
   },
   {
    "duration": 7,
    "start_time": "2022-07-05T13:11:29.292Z"
   },
   {
    "duration": 31,
    "start_time": "2022-07-05T13:11:29.303Z"
   },
   {
    "duration": 6,
    "start_time": "2022-07-05T13:11:29.335Z"
   },
   {
    "duration": 20,
    "start_time": "2022-07-05T13:11:29.343Z"
   },
   {
    "duration": 32,
    "start_time": "2022-07-05T13:11:29.365Z"
   },
   {
    "duration": 7,
    "start_time": "2022-07-05T13:11:29.399Z"
   },
   {
    "duration": 35,
    "start_time": "2022-07-05T13:11:29.408Z"
   },
   {
    "duration": 1271,
    "start_time": "2022-07-05T13:11:29.445Z"
   },
   {
    "duration": 126,
    "start_time": "2022-07-05T13:11:30.719Z"
   },
   {
    "duration": 4,
    "start_time": "2022-07-05T13:11:30.847Z"
   },
   {
    "duration": 1397,
    "start_time": "2022-07-05T13:11:30.864Z"
   },
   {
    "duration": 123,
    "start_time": "2022-07-05T13:11:32.263Z"
   },
   {
    "duration": 237261,
    "start_time": "2022-07-05T13:11:32.388Z"
   },
   {
    "duration": 613,
    "start_time": "2022-07-05T13:15:29.651Z"
   },
   {
    "duration": 6,
    "start_time": "2022-07-05T13:15:30.265Z"
   },
   {
    "duration": 21,
    "start_time": "2022-07-05T13:15:30.276Z"
   },
   {
    "duration": 76,
    "start_time": "2022-07-05T13:15:30.299Z"
   },
   {
    "duration": 114,
    "start_time": "2022-07-05T13:15:30.377Z"
   },
   {
    "duration": 413,
    "start_time": "2022-07-05T13:15:30.493Z"
   },
   {
    "duration": 4,
    "start_time": "2022-07-05T13:15:30.910Z"
   },
   {
    "duration": 67,
    "start_time": "2022-07-05T13:15:30.916Z"
   },
   {
    "duration": 97,
    "start_time": "2022-07-05T13:15:30.985Z"
   },
   {
    "duration": 45,
    "start_time": "2022-07-05T13:15:31.166Z"
   },
   {
    "duration": 810,
    "start_time": "2022-07-05T13:15:31.213Z"
   },
   {
    "duration": 157,
    "start_time": "2022-07-05T13:15:32.025Z"
   },
   {
    "duration": 57,
    "start_time": "2022-07-05T13:15:32.261Z"
   },
   {
    "duration": 614,
    "start_time": "2022-07-05T13:15:32.320Z"
   },
   {
    "duration": 821,
    "start_time": "2022-07-05T13:15:32.936Z"
   },
   {
    "duration": 18,
    "start_time": "2022-07-05T13:15:33.760Z"
   },
   {
    "duration": 1625,
    "start_time": "2022-07-05T14:10:38.907Z"
   },
   {
    "duration": 61,
    "start_time": "2022-07-05T14:10:40.533Z"
   },
   {
    "duration": 14,
    "start_time": "2022-07-05T14:10:40.597Z"
   },
   {
    "duration": 10,
    "start_time": "2022-07-05T14:10:40.613Z"
   },
   {
    "duration": 17,
    "start_time": "2022-07-05T14:10:40.626Z"
   },
   {
    "duration": 44,
    "start_time": "2022-07-05T14:10:40.645Z"
   },
   {
    "duration": 23,
    "start_time": "2022-07-05T14:10:40.690Z"
   },
   {
    "duration": 5,
    "start_time": "2022-07-05T14:10:40.716Z"
   },
   {
    "duration": 7,
    "start_time": "2022-07-05T14:10:40.723Z"
   },
   {
    "duration": 34,
    "start_time": "2022-07-05T14:10:40.732Z"
   },
   {
    "duration": 15,
    "start_time": "2022-07-05T14:10:40.773Z"
   },
   {
    "duration": 15,
    "start_time": "2022-07-05T14:10:40.792Z"
   },
   {
    "duration": 21,
    "start_time": "2022-07-05T14:10:40.809Z"
   },
   {
    "duration": 8,
    "start_time": "2022-07-05T14:10:40.834Z"
   },
   {
    "duration": 48,
    "start_time": "2022-07-05T14:10:40.844Z"
   },
   {
    "duration": 1318,
    "start_time": "2022-07-05T14:10:40.898Z"
   },
   {
    "duration": 132,
    "start_time": "2022-07-05T14:10:42.218Z"
   },
   {
    "duration": 17,
    "start_time": "2022-07-05T14:10:42.352Z"
   },
   {
    "duration": 2223,
    "start_time": "2022-07-05T14:10:42.371Z"
   },
   {
    "duration": 52,
    "start_time": "2022-07-05T14:10:44.661Z"
   },
   {
    "duration": 252220,
    "start_time": "2022-07-05T14:10:44.714Z"
   },
   {
    "duration": 612,
    "start_time": "2022-07-05T14:14:56.936Z"
   },
   {
    "duration": 16,
    "start_time": "2022-07-05T14:14:57.550Z"
   },
   {
    "duration": 14,
    "start_time": "2022-07-05T14:14:57.571Z"
   },
   {
    "duration": 81,
    "start_time": "2022-07-05T14:14:57.586Z"
   },
   {
    "duration": 102,
    "start_time": "2022-07-05T14:14:57.668Z"
   },
   {
    "duration": 399,
    "start_time": "2022-07-05T14:14:57.772Z"
   },
   {
    "duration": 9,
    "start_time": "2022-07-05T14:14:58.175Z"
   },
   {
    "duration": 14,
    "start_time": "2022-07-05T14:14:58.192Z"
   },
   {
    "duration": 178,
    "start_time": "2022-07-05T14:14:58.212Z"
   },
   {
    "duration": 50,
    "start_time": "2022-07-05T14:14:58.461Z"
   },
   {
    "duration": 781,
    "start_time": "2022-07-05T14:14:58.513Z"
   },
   {
    "duration": 175,
    "start_time": "2022-07-05T14:14:59.296Z"
   },
   {
    "duration": 56,
    "start_time": "2022-07-05T14:14:59.473Z"
   },
   {
    "duration": 621,
    "start_time": "2022-07-05T14:14:59.531Z"
   },
   {
    "duration": 900,
    "start_time": "2022-07-05T14:15:00.154Z"
   },
   {
    "duration": 28,
    "start_time": "2022-07-05T14:15:01.056Z"
   },
   {
    "duration": 497,
    "start_time": "2022-07-05T14:16:41.459Z"
   },
   {
    "duration": 170032,
    "start_time": "2022-07-05T14:18:08.658Z"
   },
   {
    "duration": 100089,
    "start_time": "2022-07-05T14:32:27.511Z"
   },
   {
    "duration": 1297,
    "start_time": "2022-07-05T14:37:56.412Z"
   },
   {
    "duration": 41,
    "start_time": "2022-07-05T14:37:57.710Z"
   },
   {
    "duration": 11,
    "start_time": "2022-07-05T14:37:57.753Z"
   },
   {
    "duration": 7,
    "start_time": "2022-07-05T14:37:57.766Z"
   },
   {
    "duration": 10,
    "start_time": "2022-07-05T14:37:57.774Z"
   },
   {
    "duration": 17,
    "start_time": "2022-07-05T14:37:57.785Z"
   },
   {
    "duration": 5,
    "start_time": "2022-07-05T14:37:57.804Z"
   },
   {
    "duration": 10,
    "start_time": "2022-07-05T14:37:57.810Z"
   },
   {
    "duration": 6,
    "start_time": "2022-07-05T14:37:57.821Z"
   },
   {
    "duration": 46,
    "start_time": "2022-07-05T14:37:57.829Z"
   },
   {
    "duration": 6,
    "start_time": "2022-07-05T14:37:57.876Z"
   },
   {
    "duration": 16,
    "start_time": "2022-07-05T14:37:57.883Z"
   },
   {
    "duration": 21,
    "start_time": "2022-07-05T14:37:57.901Z"
   },
   {
    "duration": 7,
    "start_time": "2022-07-05T14:37:57.924Z"
   },
   {
    "duration": 59,
    "start_time": "2022-07-05T14:37:57.933Z"
   },
   {
    "duration": 1106,
    "start_time": "2022-07-05T14:37:57.994Z"
   },
   {
    "duration": 104,
    "start_time": "2022-07-05T14:37:59.102Z"
   },
   {
    "duration": 3,
    "start_time": "2022-07-05T14:37:59.208Z"
   },
   {
    "duration": 109,
    "start_time": "2022-07-05T14:37:59.212Z"
   },
   {
    "duration": 0,
    "start_time": "2022-07-05T14:37:59.323Z"
   },
   {
    "duration": 0,
    "start_time": "2022-07-05T14:37:59.324Z"
   },
   {
    "duration": 0,
    "start_time": "2022-07-05T14:37:59.326Z"
   },
   {
    "duration": 0,
    "start_time": "2022-07-05T14:37:59.326Z"
   },
   {
    "duration": 0,
    "start_time": "2022-07-05T14:37:59.328Z"
   },
   {
    "duration": 0,
    "start_time": "2022-07-05T14:37:59.329Z"
   },
   {
    "duration": 0,
    "start_time": "2022-07-05T14:37:59.330Z"
   },
   {
    "duration": 0,
    "start_time": "2022-07-05T14:37:59.331Z"
   },
   {
    "duration": 0,
    "start_time": "2022-07-05T14:37:59.332Z"
   },
   {
    "duration": 0,
    "start_time": "2022-07-05T14:37:59.333Z"
   },
   {
    "duration": 0,
    "start_time": "2022-07-05T14:37:59.334Z"
   },
   {
    "duration": 0,
    "start_time": "2022-07-05T14:37:59.335Z"
   },
   {
    "duration": 0,
    "start_time": "2022-07-05T14:37:59.361Z"
   },
   {
    "duration": 0,
    "start_time": "2022-07-05T14:37:59.361Z"
   },
   {
    "duration": 0,
    "start_time": "2022-07-05T14:37:59.363Z"
   },
   {
    "duration": 0,
    "start_time": "2022-07-05T14:37:59.364Z"
   },
   {
    "duration": 0,
    "start_time": "2022-07-05T14:37:59.365Z"
   },
   {
    "duration": 0,
    "start_time": "2022-07-05T14:37:59.366Z"
   },
   {
    "duration": 0,
    "start_time": "2022-07-05T14:37:59.367Z"
   },
   {
    "duration": 0,
    "start_time": "2022-07-05T14:37:59.368Z"
   },
   {
    "duration": 0,
    "start_time": "2022-07-05T14:37:59.369Z"
   },
   {
    "duration": 1392,
    "start_time": "2022-07-05T14:43:27.770Z"
   },
   {
    "duration": 44,
    "start_time": "2022-07-05T14:43:29.165Z"
   },
   {
    "duration": 13,
    "start_time": "2022-07-05T14:43:29.210Z"
   },
   {
    "duration": 7,
    "start_time": "2022-07-05T14:43:29.225Z"
   },
   {
    "duration": 17,
    "start_time": "2022-07-05T14:43:29.234Z"
   },
   {
    "duration": 14,
    "start_time": "2022-07-05T14:43:29.253Z"
   },
   {
    "duration": 6,
    "start_time": "2022-07-05T14:43:29.269Z"
   },
   {
    "duration": 5,
    "start_time": "2022-07-05T14:43:29.277Z"
   },
   {
    "duration": 6,
    "start_time": "2022-07-05T14:43:29.284Z"
   },
   {
    "duration": 24,
    "start_time": "2022-07-05T14:43:29.293Z"
   },
   {
    "duration": 42,
    "start_time": "2022-07-05T14:43:29.319Z"
   },
   {
    "duration": 6,
    "start_time": "2022-07-05T14:43:29.363Z"
   },
   {
    "duration": 23,
    "start_time": "2022-07-05T14:43:29.370Z"
   },
   {
    "duration": 16,
    "start_time": "2022-07-05T14:43:29.394Z"
   },
   {
    "duration": 49,
    "start_time": "2022-07-05T14:43:29.412Z"
   },
   {
    "duration": 1165,
    "start_time": "2022-07-05T14:43:29.463Z"
   },
   {
    "duration": 120,
    "start_time": "2022-07-05T14:43:30.630Z"
   },
   {
    "duration": 10,
    "start_time": "2022-07-05T14:43:30.752Z"
   },
   {
    "duration": 126,
    "start_time": "2022-07-05T14:43:30.764Z"
   },
   {
    "duration": 0,
    "start_time": "2022-07-05T14:43:30.893Z"
   },
   {
    "duration": 0,
    "start_time": "2022-07-05T14:43:30.893Z"
   },
   {
    "duration": 0,
    "start_time": "2022-07-05T14:43:30.895Z"
   },
   {
    "duration": 0,
    "start_time": "2022-07-05T14:43:30.896Z"
   },
   {
    "duration": 0,
    "start_time": "2022-07-05T14:43:30.897Z"
   },
   {
    "duration": 0,
    "start_time": "2022-07-05T14:43:30.898Z"
   },
   {
    "duration": 0,
    "start_time": "2022-07-05T14:43:30.899Z"
   },
   {
    "duration": 0,
    "start_time": "2022-07-05T14:43:30.900Z"
   },
   {
    "duration": 0,
    "start_time": "2022-07-05T14:43:30.901Z"
   },
   {
    "duration": 0,
    "start_time": "2022-07-05T14:43:30.902Z"
   },
   {
    "duration": 0,
    "start_time": "2022-07-05T14:43:30.903Z"
   },
   {
    "duration": 0,
    "start_time": "2022-07-05T14:43:30.904Z"
   },
   {
    "duration": 0,
    "start_time": "2022-07-05T14:43:30.905Z"
   },
   {
    "duration": 0,
    "start_time": "2022-07-05T14:43:30.906Z"
   },
   {
    "duration": 0,
    "start_time": "2022-07-05T14:43:30.908Z"
   },
   {
    "duration": 0,
    "start_time": "2022-07-05T14:43:30.909Z"
   },
   {
    "duration": 0,
    "start_time": "2022-07-05T14:43:30.910Z"
   },
   {
    "duration": 0,
    "start_time": "2022-07-05T14:43:30.911Z"
   },
   {
    "duration": 0,
    "start_time": "2022-07-05T14:43:30.912Z"
   },
   {
    "duration": 0,
    "start_time": "2022-07-05T14:43:30.913Z"
   },
   {
    "duration": 0,
    "start_time": "2022-07-05T14:43:30.915Z"
   },
   {
    "duration": 1412,
    "start_time": "2022-07-05T14:44:14.126Z"
   },
   {
    "duration": 42,
    "start_time": "2022-07-05T14:44:15.539Z"
   },
   {
    "duration": 13,
    "start_time": "2022-07-05T14:44:15.585Z"
   },
   {
    "duration": 6,
    "start_time": "2022-07-05T14:44:15.599Z"
   },
   {
    "duration": 12,
    "start_time": "2022-07-05T14:44:15.607Z"
   },
   {
    "duration": 13,
    "start_time": "2022-07-05T14:44:15.620Z"
   },
   {
    "duration": 30,
    "start_time": "2022-07-05T14:44:15.635Z"
   },
   {
    "duration": 13,
    "start_time": "2022-07-05T14:44:15.666Z"
   },
   {
    "duration": 9,
    "start_time": "2022-07-05T14:44:15.681Z"
   },
   {
    "duration": 26,
    "start_time": "2022-07-05T14:44:15.691Z"
   },
   {
    "duration": 5,
    "start_time": "2022-07-05T14:44:15.719Z"
   },
   {
    "duration": 15,
    "start_time": "2022-07-05T14:44:15.726Z"
   },
   {
    "duration": 31,
    "start_time": "2022-07-05T14:44:15.743Z"
   },
   {
    "duration": 8,
    "start_time": "2022-07-05T14:44:15.775Z"
   },
   {
    "duration": 38,
    "start_time": "2022-07-05T14:44:15.785Z"
   },
   {
    "duration": 1231,
    "start_time": "2022-07-05T14:44:15.825Z"
   },
   {
    "duration": 110,
    "start_time": "2022-07-05T14:44:17.057Z"
   },
   {
    "duration": 4,
    "start_time": "2022-07-05T14:44:17.168Z"
   },
   {
    "duration": 129,
    "start_time": "2022-07-05T14:44:17.173Z"
   },
   {
    "duration": 0,
    "start_time": "2022-07-05T14:44:17.305Z"
   },
   {
    "duration": 0,
    "start_time": "2022-07-05T14:44:17.306Z"
   },
   {
    "duration": 0,
    "start_time": "2022-07-05T14:44:17.307Z"
   },
   {
    "duration": 0,
    "start_time": "2022-07-05T14:44:17.308Z"
   },
   {
    "duration": 0,
    "start_time": "2022-07-05T14:44:17.309Z"
   },
   {
    "duration": 0,
    "start_time": "2022-07-05T14:44:17.309Z"
   },
   {
    "duration": 0,
    "start_time": "2022-07-05T14:44:17.310Z"
   },
   {
    "duration": 0,
    "start_time": "2022-07-05T14:44:17.311Z"
   },
   {
    "duration": 0,
    "start_time": "2022-07-05T14:44:17.312Z"
   },
   {
    "duration": 0,
    "start_time": "2022-07-05T14:44:17.313Z"
   },
   {
    "duration": 0,
    "start_time": "2022-07-05T14:44:17.314Z"
   },
   {
    "duration": 0,
    "start_time": "2022-07-05T14:44:17.315Z"
   },
   {
    "duration": 0,
    "start_time": "2022-07-05T14:44:17.316Z"
   },
   {
    "duration": 0,
    "start_time": "2022-07-05T14:44:17.317Z"
   },
   {
    "duration": 0,
    "start_time": "2022-07-05T14:44:17.318Z"
   },
   {
    "duration": 0,
    "start_time": "2022-07-05T14:44:17.319Z"
   },
   {
    "duration": 0,
    "start_time": "2022-07-05T14:44:17.320Z"
   },
   {
    "duration": 0,
    "start_time": "2022-07-05T14:44:17.321Z"
   },
   {
    "duration": 0,
    "start_time": "2022-07-05T14:44:17.322Z"
   },
   {
    "duration": 0,
    "start_time": "2022-07-05T14:44:17.323Z"
   },
   {
    "duration": 0,
    "start_time": "2022-07-05T14:44:17.361Z"
   },
   {
    "duration": 1454,
    "start_time": "2022-07-05T14:44:55.128Z"
   },
   {
    "duration": 41,
    "start_time": "2022-07-05T14:44:56.584Z"
   },
   {
    "duration": 11,
    "start_time": "2022-07-05T14:44:56.627Z"
   },
   {
    "duration": 6,
    "start_time": "2022-07-05T14:44:56.640Z"
   },
   {
    "duration": 15,
    "start_time": "2022-07-05T14:44:56.648Z"
   },
   {
    "duration": 12,
    "start_time": "2022-07-05T14:44:56.665Z"
   },
   {
    "duration": 6,
    "start_time": "2022-07-05T14:44:56.679Z"
   },
   {
    "duration": 5,
    "start_time": "2022-07-05T14:44:56.687Z"
   },
   {
    "duration": 6,
    "start_time": "2022-07-05T14:44:56.693Z"
   },
   {
    "duration": 37,
    "start_time": "2022-07-05T14:44:56.702Z"
   },
   {
    "duration": 6,
    "start_time": "2022-07-05T14:44:56.760Z"
   },
   {
    "duration": 8,
    "start_time": "2022-07-05T14:44:56.767Z"
   },
   {
    "duration": 21,
    "start_time": "2022-07-05T14:44:56.777Z"
   },
   {
    "duration": 9,
    "start_time": "2022-07-05T14:44:56.799Z"
   },
   {
    "duration": 52,
    "start_time": "2022-07-05T14:44:56.809Z"
   },
   {
    "duration": 1121,
    "start_time": "2022-07-05T14:44:56.863Z"
   },
   {
    "duration": 110,
    "start_time": "2022-07-05T14:44:57.985Z"
   },
   {
    "duration": 3,
    "start_time": "2022-07-05T14:44:58.097Z"
   },
   {
    "duration": 45267,
    "start_time": "2022-07-05T14:44:58.101Z"
   },
   {
    "duration": 802,
    "start_time": "2022-07-05T14:45:43.460Z"
   },
   {
    "duration": 809,
    "start_time": "2022-07-05T14:45:44.264Z"
   },
   {
    "duration": 26,
    "start_time": "2022-07-05T14:45:45.074Z"
   },
   {
    "duration": 1295,
    "start_time": "2022-07-05T14:46:46.821Z"
   },
   {
    "duration": 41,
    "start_time": "2022-07-05T14:46:48.118Z"
   },
   {
    "duration": 12,
    "start_time": "2022-07-05T14:46:48.160Z"
   },
   {
    "duration": 7,
    "start_time": "2022-07-05T14:46:48.174Z"
   },
   {
    "duration": 19,
    "start_time": "2022-07-05T14:46:48.183Z"
   },
   {
    "duration": 15,
    "start_time": "2022-07-05T14:46:48.204Z"
   },
   {
    "duration": 6,
    "start_time": "2022-07-05T14:46:48.220Z"
   },
   {
    "duration": 6,
    "start_time": "2022-07-05T14:46:48.227Z"
   },
   {
    "duration": 6,
    "start_time": "2022-07-05T14:46:48.234Z"
   },
   {
    "duration": 23,
    "start_time": "2022-07-05T14:46:48.260Z"
   },
   {
    "duration": 5,
    "start_time": "2022-07-05T14:46:48.284Z"
   },
   {
    "duration": 8,
    "start_time": "2022-07-05T14:46:48.290Z"
   },
   {
    "duration": 22,
    "start_time": "2022-07-05T14:46:48.300Z"
   },
   {
    "duration": 13,
    "start_time": "2022-07-05T14:46:48.324Z"
   },
   {
    "duration": 47,
    "start_time": "2022-07-05T14:46:48.338Z"
   },
   {
    "duration": 1109,
    "start_time": "2022-07-05T14:46:48.387Z"
   },
   {
    "duration": 107,
    "start_time": "2022-07-05T14:46:49.497Z"
   },
   {
    "duration": 3,
    "start_time": "2022-07-05T14:46:49.606Z"
   },
   {
    "duration": 750,
    "start_time": "2022-07-05T14:46:49.611Z"
   },
   {
    "duration": 444,
    "start_time": "2022-07-05T14:46:50.363Z"
   },
   {
    "duration": 25,
    "start_time": "2022-07-05T14:46:50.809Z"
   },
   {
    "duration": 44328,
    "start_time": "2022-07-05T14:46:50.836Z"
   },
   {
    "duration": 466,
    "start_time": "2022-07-05T14:47:35.166Z"
   },
   {
    "duration": 4,
    "start_time": "2022-07-05T14:47:35.634Z"
   },
   {
    "duration": 22,
    "start_time": "2022-07-05T14:47:35.640Z"
   },
   {
    "duration": 104,
    "start_time": "2022-07-05T14:47:35.663Z"
   },
   {
    "duration": 110,
    "start_time": "2022-07-05T14:47:35.770Z"
   },
   {
    "duration": 125,
    "start_time": "2022-07-05T14:47:35.883Z"
   },
   {
    "duration": 0,
    "start_time": "2022-07-05T14:47:36.009Z"
   },
   {
    "duration": 0,
    "start_time": "2022-07-05T14:47:36.010Z"
   },
   {
    "duration": 0,
    "start_time": "2022-07-05T14:47:36.012Z"
   },
   {
    "duration": 0,
    "start_time": "2022-07-05T14:47:36.013Z"
   },
   {
    "duration": 0,
    "start_time": "2022-07-05T14:47:36.014Z"
   },
   {
    "duration": 0,
    "start_time": "2022-07-05T14:47:36.015Z"
   },
   {
    "duration": 0,
    "start_time": "2022-07-05T14:47:36.016Z"
   },
   {
    "duration": 0,
    "start_time": "2022-07-05T14:47:36.017Z"
   },
   {
    "duration": 0,
    "start_time": "2022-07-05T14:47:36.019Z"
   },
   {
    "duration": 0,
    "start_time": "2022-07-05T14:47:36.020Z"
   },
   {
    "duration": 0,
    "start_time": "2022-07-05T14:47:36.020Z"
   },
   {
    "duration": 584,
    "start_time": "2022-07-05T14:49:01.883Z"
   },
   {
    "duration": 33,
    "start_time": "2022-07-05T14:49:18.215Z"
   },
   {
    "duration": 26,
    "start_time": "2022-07-05T14:49:24.487Z"
   },
   {
    "duration": 30,
    "start_time": "2022-07-05T14:49:29.421Z"
   },
   {
    "duration": 389,
    "start_time": "2022-07-05T14:49:40.186Z"
   },
   {
    "duration": 1378,
    "start_time": "2022-07-05T14:53:20.130Z"
   },
   {
    "duration": 42,
    "start_time": "2022-07-05T14:53:21.510Z"
   },
   {
    "duration": 13,
    "start_time": "2022-07-05T14:53:21.553Z"
   },
   {
    "duration": 7,
    "start_time": "2022-07-05T14:53:21.567Z"
   },
   {
    "duration": 13,
    "start_time": "2022-07-05T14:53:21.576Z"
   },
   {
    "duration": 18,
    "start_time": "2022-07-05T14:53:21.591Z"
   },
   {
    "duration": 5,
    "start_time": "2022-07-05T14:53:21.610Z"
   },
   {
    "duration": 6,
    "start_time": "2022-07-05T14:53:21.617Z"
   },
   {
    "duration": 7,
    "start_time": "2022-07-05T14:53:21.624Z"
   },
   {
    "duration": 48,
    "start_time": "2022-07-05T14:53:21.633Z"
   },
   {
    "duration": 5,
    "start_time": "2022-07-05T14:53:21.683Z"
   },
   {
    "duration": 7,
    "start_time": "2022-07-05T14:53:21.690Z"
   },
   {
    "duration": 22,
    "start_time": "2022-07-05T14:53:21.698Z"
   },
   {
    "duration": 5,
    "start_time": "2022-07-05T14:53:21.722Z"
   },
   {
    "duration": 61,
    "start_time": "2022-07-05T14:53:21.729Z"
   },
   {
    "duration": 1108,
    "start_time": "2022-07-05T14:53:21.792Z"
   },
   {
    "duration": 113,
    "start_time": "2022-07-05T14:53:22.902Z"
   },
   {
    "duration": 4,
    "start_time": "2022-07-05T14:53:23.016Z"
   },
   {
    "duration": 641,
    "start_time": "2022-07-05T14:53:23.021Z"
   },
   {
    "duration": 437,
    "start_time": "2022-07-05T14:53:23.664Z"
   },
   {
    "duration": 31,
    "start_time": "2022-07-05T14:53:24.102Z"
   },
   {
    "duration": 44754,
    "start_time": "2022-07-05T14:53:24.135Z"
   },
   {
    "duration": 402,
    "start_time": "2022-07-05T14:54:08.891Z"
   },
   {
    "duration": 5,
    "start_time": "2022-07-05T14:54:09.295Z"
   },
   {
    "duration": 14,
    "start_time": "2022-07-05T14:54:09.301Z"
   },
   {
    "duration": 48,
    "start_time": "2022-07-05T14:54:09.317Z"
   },
   {
    "duration": 329,
    "start_time": "2022-07-05T14:54:09.368Z"
   },
   {
    "duration": 19,
    "start_time": "2022-07-05T14:54:09.701Z"
   },
   {
    "duration": 32579,
    "start_time": "2022-07-05T14:54:09.722Z"
   },
   {
    "duration": 350,
    "start_time": "2022-07-05T14:54:42.303Z"
   },
   {
    "duration": 5,
    "start_time": "2022-07-05T14:54:42.655Z"
   },
   {
    "duration": 15,
    "start_time": "2022-07-05T14:54:42.662Z"
   },
   {
    "duration": 185,
    "start_time": "2022-07-05T14:54:42.678Z"
   },
   {
    "duration": 647,
    "start_time": "2022-07-05T14:54:42.864Z"
   },
   {
    "duration": 75,
    "start_time": "2022-07-05T14:54:43.513Z"
   },
   {
    "duration": 59848,
    "start_time": "2022-07-05T14:54:43.590Z"
   },
   {
    "duration": 694,
    "start_time": "2022-07-05T14:55:43.440Z"
   },
   {
    "duration": 234,
    "start_time": "2022-07-05T14:55:44.136Z"
   },
   {
    "duration": 52,
    "start_time": "2022-07-05T14:55:44.371Z"
   },
   {
    "duration": 578,
    "start_time": "2022-07-05T14:55:44.425Z"
   },
   {
    "duration": 783,
    "start_time": "2022-07-05T14:55:45.004Z"
   },
   {
    "duration": 11,
    "start_time": "2022-07-05T14:55:45.789Z"
   },
   {
    "duration": 288,
    "start_time": "2022-07-05T14:57:00.701Z"
   },
   {
    "duration": 39,
    "start_time": "2022-07-05T14:57:15.439Z"
   },
   {
    "duration": 40,
    "start_time": "2022-07-05T14:57:21.445Z"
   },
   {
    "duration": 38,
    "start_time": "2022-07-05T14:57:22.279Z"
   },
   {
    "duration": 36,
    "start_time": "2022-07-05T14:57:23.247Z"
   },
   {
    "duration": 22,
    "start_time": "2022-07-05T14:57:50.781Z"
   },
   {
    "duration": 29,
    "start_time": "2022-07-05T14:58:12.788Z"
   },
   {
    "duration": 436,
    "start_time": "2022-07-05T14:59:29.918Z"
   },
   {
    "duration": 407,
    "start_time": "2022-07-05T14:59:37.958Z"
   },
   {
    "duration": 1388,
    "start_time": "2022-07-05T14:59:54.192Z"
   },
   {
    "duration": 41,
    "start_time": "2022-07-05T14:59:55.582Z"
   },
   {
    "duration": 12,
    "start_time": "2022-07-05T14:59:55.625Z"
   },
   {
    "duration": 7,
    "start_time": "2022-07-05T14:59:55.639Z"
   },
   {
    "duration": 20,
    "start_time": "2022-07-05T14:59:55.648Z"
   },
   {
    "duration": 17,
    "start_time": "2022-07-05T14:59:55.669Z"
   },
   {
    "duration": 6,
    "start_time": "2022-07-05T14:59:55.688Z"
   },
   {
    "duration": 5,
    "start_time": "2022-07-05T14:59:55.696Z"
   },
   {
    "duration": 5,
    "start_time": "2022-07-05T14:59:55.703Z"
   },
   {
    "duration": 52,
    "start_time": "2022-07-05T14:59:55.711Z"
   },
   {
    "duration": 6,
    "start_time": "2022-07-05T14:59:55.764Z"
   },
   {
    "duration": 8,
    "start_time": "2022-07-05T14:59:55.772Z"
   },
   {
    "duration": 20,
    "start_time": "2022-07-05T14:59:55.782Z"
   },
   {
    "duration": 9,
    "start_time": "2022-07-05T14:59:55.804Z"
   },
   {
    "duration": 61,
    "start_time": "2022-07-05T14:59:55.814Z"
   },
   {
    "duration": 1224,
    "start_time": "2022-07-05T14:59:55.876Z"
   },
   {
    "duration": 103,
    "start_time": "2022-07-05T14:59:57.101Z"
   },
   {
    "duration": 3,
    "start_time": "2022-07-05T14:59:57.206Z"
   },
   {
    "duration": 751,
    "start_time": "2022-07-05T14:59:57.211Z"
   },
   {
    "duration": 433,
    "start_time": "2022-07-05T14:59:57.964Z"
   },
   {
    "duration": 29,
    "start_time": "2022-07-05T14:59:58.399Z"
   },
   {
    "duration": 46135,
    "start_time": "2022-07-05T14:59:58.430Z"
   },
   {
    "duration": 420,
    "start_time": "2022-07-05T15:00:44.567Z"
   },
   {
    "duration": 4,
    "start_time": "2022-07-05T15:00:44.989Z"
   },
   {
    "duration": 14,
    "start_time": "2022-07-05T15:00:44.994Z"
   },
   {
    "duration": 57,
    "start_time": "2022-07-05T15:00:45.010Z"
   },
   {
    "duration": 417,
    "start_time": "2022-07-05T15:00:45.069Z"
   },
   {
    "duration": 20,
    "start_time": "2022-07-05T15:00:45.489Z"
   },
   {
    "duration": 32818,
    "start_time": "2022-07-05T15:00:45.511Z"
   },
   {
    "duration": 345,
    "start_time": "2022-07-05T15:01:18.330Z"
   },
   {
    "duration": 4,
    "start_time": "2022-07-05T15:01:18.676Z"
   },
   {
    "duration": 19,
    "start_time": "2022-07-05T15:01:18.682Z"
   },
   {
    "duration": 61,
    "start_time": "2022-07-05T15:01:18.703Z"
   },
   {
    "duration": 588,
    "start_time": "2022-07-05T15:01:18.766Z"
   },
   {
    "duration": 30,
    "start_time": "2022-07-05T15:01:19.355Z"
   },
   {
    "duration": 57982,
    "start_time": "2022-07-05T15:01:19.386Z"
   },
   {
    "duration": 286,
    "start_time": "2022-07-05T15:02:17.369Z"
   },
   {
    "duration": 220,
    "start_time": "2022-07-05T15:02:17.660Z"
   },
   {
    "duration": 49,
    "start_time": "2022-07-05T15:02:17.882Z"
   },
   {
    "duration": 560,
    "start_time": "2022-07-05T15:02:17.932Z"
   },
   {
    "duration": 793,
    "start_time": "2022-07-05T15:02:18.494Z"
   },
   {
    "duration": 14,
    "start_time": "2022-07-05T15:02:19.289Z"
   },
   {
    "duration": 57,
    "start_time": "2022-07-05T15:02:19.306Z"
   },
   {
    "duration": 30,
    "start_time": "2022-07-05T15:02:26.912Z"
   },
   {
    "duration": 556,
    "start_time": "2022-07-05T15:04:43.633Z"
   },
   {
    "duration": 555,
    "start_time": "2022-07-05T15:04:48.300Z"
   },
   {
    "duration": 290,
    "start_time": "2022-07-05T15:04:55.450Z"
   },
   {
    "duration": 656,
    "start_time": "2022-07-05T15:05:05.890Z"
   },
   {
    "duration": 53,
    "start_time": "2022-07-05T15:05:41.012Z"
   },
   {
    "duration": 393,
    "start_time": "2022-07-05T15:05:52.139Z"
   },
   {
    "duration": 62,
    "start_time": "2022-07-05T15:12:29.048Z"
   },
   {
    "duration": 227,
    "start_time": "2022-07-05T15:12:56.918Z"
   },
   {
    "duration": 394,
    "start_time": "2022-07-05T15:13:09.584Z"
   },
   {
    "duration": 62,
    "start_time": "2022-07-05T15:13:13.159Z"
   },
   {
    "duration": 63,
    "start_time": "2022-07-05T15:14:03.005Z"
   },
   {
    "duration": 4,
    "start_time": "2022-07-05T15:14:32.492Z"
   },
   {
    "duration": 49,
    "start_time": "2022-07-05T15:14:32.497Z"
   },
   {
    "duration": 13,
    "start_time": "2022-07-05T15:14:32.547Z"
   },
   {
    "duration": 5,
    "start_time": "2022-07-05T15:14:32.562Z"
   },
   {
    "duration": 9,
    "start_time": "2022-07-05T15:14:32.569Z"
   },
   {
    "duration": 18,
    "start_time": "2022-07-05T15:14:32.580Z"
   },
   {
    "duration": 7,
    "start_time": "2022-07-05T15:14:32.599Z"
   },
   {
    "duration": 7,
    "start_time": "2022-07-05T15:14:32.608Z"
   },
   {
    "duration": 6,
    "start_time": "2022-07-05T15:14:32.617Z"
   },
   {
    "duration": 49,
    "start_time": "2022-07-05T15:14:32.625Z"
   },
   {
    "duration": 6,
    "start_time": "2022-07-05T15:14:32.677Z"
   },
   {
    "duration": 12,
    "start_time": "2022-07-05T15:14:32.685Z"
   },
   {
    "duration": 22,
    "start_time": "2022-07-05T15:14:32.698Z"
   },
   {
    "duration": 15,
    "start_time": "2022-07-05T15:14:32.722Z"
   },
   {
    "duration": 52,
    "start_time": "2022-07-05T15:14:32.739Z"
   },
   {
    "duration": 1107,
    "start_time": "2022-07-05T15:14:32.792Z"
   },
   {
    "duration": 114,
    "start_time": "2022-07-05T15:14:33.901Z"
   },
   {
    "duration": 3,
    "start_time": "2022-07-05T15:14:34.016Z"
   },
   {
    "duration": 741,
    "start_time": "2022-07-05T15:14:34.021Z"
   },
   {
    "duration": 442,
    "start_time": "2022-07-05T15:14:34.764Z"
   },
   {
    "duration": 31,
    "start_time": "2022-07-05T15:14:35.208Z"
   },
   {
    "duration": 45162,
    "start_time": "2022-07-05T15:14:35.241Z"
   },
   {
    "duration": 404,
    "start_time": "2022-07-05T15:15:20.405Z"
   },
   {
    "duration": 3,
    "start_time": "2022-07-05T15:15:20.811Z"
   },
   {
    "duration": 24,
    "start_time": "2022-07-05T15:15:20.816Z"
   },
   {
    "duration": 123,
    "start_time": "2022-07-05T15:15:20.841Z"
   },
   {
    "duration": 320,
    "start_time": "2022-07-05T15:15:20.966Z"
   },
   {
    "duration": 21,
    "start_time": "2022-07-05T15:15:21.288Z"
   },
   {
    "duration": 32074,
    "start_time": "2022-07-05T15:15:21.312Z"
   },
   {
    "duration": 360,
    "start_time": "2022-07-05T15:15:53.388Z"
   },
   {
    "duration": 4,
    "start_time": "2022-07-05T15:15:53.749Z"
   },
   {
    "duration": 11,
    "start_time": "2022-07-05T15:15:53.761Z"
   },
   {
    "duration": 92,
    "start_time": "2022-07-05T15:15:53.773Z"
   },
   {
    "duration": 555,
    "start_time": "2022-07-05T15:15:53.868Z"
   },
   {
    "duration": 36,
    "start_time": "2022-07-05T15:15:54.425Z"
   },
   {
    "duration": 57229,
    "start_time": "2022-07-05T15:15:54.463Z"
   },
   {
    "duration": 569,
    "start_time": "2022-07-05T15:16:51.694Z"
   },
   {
    "duration": 216,
    "start_time": "2022-07-05T15:16:52.265Z"
   },
   {
    "duration": 54,
    "start_time": "2022-07-05T15:16:52.483Z"
   },
   {
    "duration": 399,
    "start_time": "2022-07-05T15:16:52.539Z"
   },
   {
    "duration": 70,
    "start_time": "2022-07-05T15:16:52.940Z"
   },
   {
    "duration": 13,
    "start_time": "2022-07-05T15:16:53.012Z"
   },
   {
    "duration": 535,
    "start_time": "2022-07-05T15:17:57.434Z"
   },
   {
    "duration": 491,
    "start_time": "2022-07-05T15:19:17.722Z"
   },
   {
    "duration": 557,
    "start_time": "2022-07-05T15:19:24.302Z"
   },
   {
    "duration": 3,
    "start_time": "2022-07-05T15:28:41.270Z"
   },
   {
    "duration": 3,
    "start_time": "2022-07-05T15:33:21.046Z"
   },
   {
    "duration": 10,
    "start_time": "2022-07-05T15:33:43.504Z"
   },
   {
    "duration": 120,
    "start_time": "2022-07-05T15:34:11.460Z"
   },
   {
    "duration": 111,
    "start_time": "2022-07-05T15:35:53.859Z"
   },
   {
    "duration": 110,
    "start_time": "2022-07-05T15:41:34.293Z"
   },
   {
    "duration": 1357,
    "start_time": "2022-07-05T15:41:46.555Z"
   },
   {
    "duration": 44,
    "start_time": "2022-07-05T15:41:47.913Z"
   },
   {
    "duration": 12,
    "start_time": "2022-07-05T15:41:47.958Z"
   },
   {
    "duration": 7,
    "start_time": "2022-07-05T15:41:47.972Z"
   },
   {
    "duration": 9,
    "start_time": "2022-07-05T15:41:47.980Z"
   },
   {
    "duration": 12,
    "start_time": "2022-07-05T15:41:47.991Z"
   },
   {
    "duration": 4,
    "start_time": "2022-07-05T15:41:48.005Z"
   },
   {
    "duration": 4,
    "start_time": "2022-07-05T15:41:48.011Z"
   },
   {
    "duration": 6,
    "start_time": "2022-07-05T15:41:48.017Z"
   },
   {
    "duration": 56,
    "start_time": "2022-07-05T15:41:48.026Z"
   },
   {
    "duration": 6,
    "start_time": "2022-07-05T15:41:48.083Z"
   },
   {
    "duration": 18,
    "start_time": "2022-07-05T15:41:48.091Z"
   },
   {
    "duration": 20,
    "start_time": "2022-07-05T15:41:48.110Z"
   },
   {
    "duration": 5,
    "start_time": "2022-07-05T15:41:48.132Z"
   },
   {
    "duration": 56,
    "start_time": "2022-07-05T15:41:48.139Z"
   },
   {
    "duration": 1112,
    "start_time": "2022-07-05T15:41:48.196Z"
   },
   {
    "duration": 106,
    "start_time": "2022-07-05T15:41:49.310Z"
   },
   {
    "duration": 3,
    "start_time": "2022-07-05T15:41:49.418Z"
   },
   {
    "duration": 740,
    "start_time": "2022-07-05T15:41:49.422Z"
   },
   {
    "duration": 443,
    "start_time": "2022-07-05T15:41:50.164Z"
   },
   {
    "duration": 28,
    "start_time": "2022-07-05T15:41:50.609Z"
   },
   {
    "duration": 45565,
    "start_time": "2022-07-05T15:41:50.639Z"
   },
   {
    "duration": 460,
    "start_time": "2022-07-05T15:42:36.207Z"
   },
   {
    "duration": 122,
    "start_time": "2022-07-05T15:42:36.668Z"
   },
   {
    "duration": 4,
    "start_time": "2022-07-05T15:42:36.792Z"
   },
   {
    "duration": 15,
    "start_time": "2022-07-05T15:42:36.797Z"
   },
   {
    "duration": 57,
    "start_time": "2022-07-05T15:42:36.814Z"
   },
   {
    "duration": 234,
    "start_time": "2022-07-05T15:42:36.963Z"
   },
   {
    "duration": 21,
    "start_time": "2022-07-05T15:42:37.199Z"
   },
   {
    "duration": 37071,
    "start_time": "2022-07-05T15:42:37.221Z"
   },
   {
    "duration": 365,
    "start_time": "2022-07-05T15:43:14.293Z"
   },
   {
    "duration": 4,
    "start_time": "2022-07-05T15:43:14.659Z"
   },
   {
    "duration": 15,
    "start_time": "2022-07-05T15:43:14.664Z"
   },
   {
    "duration": 88,
    "start_time": "2022-07-05T15:43:14.681Z"
   },
   {
    "duration": 535,
    "start_time": "2022-07-05T15:43:14.771Z"
   },
   {
    "duration": 31,
    "start_time": "2022-07-05T15:43:15.308Z"
   },
   {
    "duration": 58554,
    "start_time": "2022-07-05T15:43:15.341Z"
   },
   {
    "duration": 569,
    "start_time": "2022-07-05T15:44:13.897Z"
   },
   {
    "duration": 217,
    "start_time": "2022-07-05T15:44:14.468Z"
   },
   {
    "duration": 75,
    "start_time": "2022-07-05T15:44:14.687Z"
   },
   {
    "duration": 396,
    "start_time": "2022-07-05T15:44:14.763Z"
   },
   {
    "duration": 575,
    "start_time": "2022-07-05T15:44:15.161Z"
   },
   {
    "duration": 117,
    "start_time": "2022-07-05T15:44:15.737Z"
   },
   {
    "duration": 13,
    "start_time": "2022-07-05T15:44:15.856Z"
   },
   {
    "duration": 115,
    "start_time": "2022-07-05T15:51:29.990Z"
   },
   {
    "duration": 112,
    "start_time": "2022-07-05T15:51:50.910Z"
   },
   {
    "duration": 4,
    "start_time": "2022-07-05T15:54:57.133Z"
   },
   {
    "duration": 46,
    "start_time": "2022-07-05T15:54:57.138Z"
   },
   {
    "duration": 11,
    "start_time": "2022-07-05T15:54:57.186Z"
   },
   {
    "duration": 22,
    "start_time": "2022-07-05T15:54:57.199Z"
   },
   {
    "duration": 24,
    "start_time": "2022-07-05T15:54:57.222Z"
   },
   {
    "duration": 19,
    "start_time": "2022-07-05T15:54:57.247Z"
   },
   {
    "duration": 17,
    "start_time": "2022-07-05T15:54:57.267Z"
   },
   {
    "duration": 13,
    "start_time": "2022-07-05T15:54:57.286Z"
   },
   {
    "duration": 12,
    "start_time": "2022-07-05T15:54:57.300Z"
   },
   {
    "duration": 48,
    "start_time": "2022-07-05T15:54:57.314Z"
   },
   {
    "duration": 6,
    "start_time": "2022-07-05T15:54:57.364Z"
   },
   {
    "duration": 26,
    "start_time": "2022-07-05T15:54:57.371Z"
   },
   {
    "duration": 22,
    "start_time": "2022-07-05T15:54:57.398Z"
   },
   {
    "duration": 9,
    "start_time": "2022-07-05T15:54:57.422Z"
   },
   {
    "duration": 49,
    "start_time": "2022-07-05T15:54:57.432Z"
   },
   {
    "duration": 1077,
    "start_time": "2022-07-05T15:54:57.483Z"
   },
   {
    "duration": 114,
    "start_time": "2022-07-05T15:54:58.562Z"
   },
   {
    "duration": 3,
    "start_time": "2022-07-05T15:54:58.679Z"
   },
   {
    "duration": 583,
    "start_time": "2022-07-05T15:54:58.684Z"
   },
   {
    "duration": 425,
    "start_time": "2022-07-05T15:54:59.270Z"
   },
   {
    "duration": 30,
    "start_time": "2022-07-05T15:54:59.697Z"
   },
   {
    "duration": 47782,
    "start_time": "2022-07-05T15:54:59.728Z"
   },
   {
    "duration": 409,
    "start_time": "2022-07-05T15:55:47.511Z"
   },
   {
    "duration": 112,
    "start_time": "2022-07-05T15:55:47.922Z"
   },
   {
    "duration": 724,
    "start_time": "2022-07-05T15:55:48.038Z"
   },
   {
    "duration": 123,
    "start_time": "2022-07-05T15:55:48.764Z"
   },
   {
    "duration": 503,
    "start_time": "2022-07-05T15:55:48.889Z"
   },
   {
    "duration": 4,
    "start_time": "2022-07-05T15:55:49.394Z"
   },
   {
    "duration": 11,
    "start_time": "2022-07-05T15:55:49.400Z"
   },
   {
    "duration": 148,
    "start_time": "2022-07-05T15:55:49.413Z"
   },
   {
    "duration": 236,
    "start_time": "2022-07-05T15:55:49.563Z"
   },
   {
    "duration": 21,
    "start_time": "2022-07-05T15:55:49.800Z"
   },
   {
    "duration": 31495,
    "start_time": "2022-07-05T15:55:49.823Z"
   },
   {
    "duration": 369,
    "start_time": "2022-07-05T15:56:21.320Z"
   },
   {
    "duration": 4,
    "start_time": "2022-07-05T15:56:21.691Z"
   },
   {
    "duration": 14,
    "start_time": "2022-07-05T15:56:21.697Z"
   },
   {
    "duration": 249,
    "start_time": "2022-07-05T15:56:21.712Z"
   },
   {
    "duration": 469,
    "start_time": "2022-07-05T15:56:21.963Z"
   },
   {
    "duration": 44,
    "start_time": "2022-07-05T15:56:22.434Z"
   },
   {
    "duration": 60313,
    "start_time": "2022-07-05T15:56:22.480Z"
   },
   {
    "duration": 578,
    "start_time": "2022-07-05T15:57:22.794Z"
   },
   {
    "duration": 199,
    "start_time": "2022-07-05T15:57:23.374Z"
   },
   {
    "duration": 63,
    "start_time": "2022-07-05T15:57:23.575Z"
   },
   {
    "duration": 455,
    "start_time": "2022-07-05T15:57:23.640Z"
   },
   {
    "duration": 589,
    "start_time": "2022-07-05T15:57:24.098Z"
   },
   {
    "duration": 165,
    "start_time": "2022-07-05T15:57:24.689Z"
   },
   {
    "duration": 14,
    "start_time": "2022-07-05T15:57:24.856Z"
   },
   {
    "duration": 403,
    "start_time": "2022-07-05T16:05:11.422Z"
   },
   {
    "duration": 394,
    "start_time": "2022-07-05T16:06:06.798Z"
   },
   {
    "duration": 108,
    "start_time": "2022-07-05T16:06:51.810Z"
   },
   {
    "duration": 400,
    "start_time": "2022-07-05T16:19:41.943Z"
   },
   {
    "duration": 1490,
    "start_time": "2022-07-05T16:21:35.154Z"
   },
   {
    "duration": 42,
    "start_time": "2022-07-05T16:21:36.647Z"
   },
   {
    "duration": 19,
    "start_time": "2022-07-05T16:21:36.691Z"
   },
   {
    "duration": 24,
    "start_time": "2022-07-05T16:21:36.713Z"
   },
   {
    "duration": 26,
    "start_time": "2022-07-05T16:21:36.739Z"
   },
   {
    "duration": 24,
    "start_time": "2022-07-05T16:21:36.767Z"
   },
   {
    "duration": 15,
    "start_time": "2022-07-05T16:21:36.792Z"
   },
   {
    "duration": 17,
    "start_time": "2022-07-05T16:21:36.809Z"
   },
   {
    "duration": 20,
    "start_time": "2022-07-05T16:21:36.827Z"
   },
   {
    "duration": 48,
    "start_time": "2022-07-05T16:21:36.850Z"
   },
   {
    "duration": 7,
    "start_time": "2022-07-05T16:21:36.900Z"
   },
   {
    "duration": 7,
    "start_time": "2022-07-05T16:21:36.908Z"
   },
   {
    "duration": 19,
    "start_time": "2022-07-05T16:21:36.917Z"
   },
   {
    "duration": 6,
    "start_time": "2022-07-05T16:21:36.937Z"
   },
   {
    "duration": 41,
    "start_time": "2022-07-05T16:21:36.945Z"
   },
   {
    "duration": 1108,
    "start_time": "2022-07-05T16:21:36.988Z"
   },
   {
    "duration": 119,
    "start_time": "2022-07-05T16:21:38.098Z"
   },
   {
    "duration": 4,
    "start_time": "2022-07-05T16:21:38.218Z"
   },
   {
    "duration": 554,
    "start_time": "2022-07-05T16:21:38.223Z"
   },
   {
    "duration": 433,
    "start_time": "2022-07-05T16:21:38.862Z"
   },
   {
    "duration": 31,
    "start_time": "2022-07-05T16:21:39.297Z"
   },
   {
    "duration": 45174,
    "start_time": "2022-07-05T16:21:39.329Z"
   },
   {
    "duration": 450,
    "start_time": "2022-07-05T16:22:24.506Z"
   },
   {
    "duration": 122,
    "start_time": "2022-07-05T16:22:24.958Z"
   },
   {
    "duration": 1178,
    "start_time": "2022-07-05T16:22:25.083Z"
   },
   {
    "duration": 101,
    "start_time": "2022-07-05T16:22:26.264Z"
   },
   {
    "duration": 481,
    "start_time": "2022-07-05T16:22:26.367Z"
   },
   {
    "duration": 4,
    "start_time": "2022-07-05T16:22:26.851Z"
   },
   {
    "duration": 29,
    "start_time": "2022-07-05T16:22:26.856Z"
   },
   {
    "duration": 100,
    "start_time": "2022-07-05T16:22:26.887Z"
   },
   {
    "duration": 251,
    "start_time": "2022-07-05T16:22:27.062Z"
   },
   {
    "duration": 22,
    "start_time": "2022-07-05T16:22:27.314Z"
   },
   {
    "duration": 31714,
    "start_time": "2022-07-05T16:22:27.338Z"
   },
   {
    "duration": 349,
    "start_time": "2022-07-05T16:22:59.053Z"
   },
   {
    "duration": 3,
    "start_time": "2022-07-05T16:22:59.404Z"
   },
   {
    "duration": 12,
    "start_time": "2022-07-05T16:22:59.409Z"
   },
   {
    "duration": 139,
    "start_time": "2022-07-05T16:22:59.422Z"
   },
   {
    "duration": 543,
    "start_time": "2022-07-05T16:22:59.564Z"
   },
   {
    "duration": 30,
    "start_time": "2022-07-05T16:23:00.109Z"
   },
   {
    "duration": 58080,
    "start_time": "2022-07-05T16:23:00.140Z"
   },
   {
    "duration": 572,
    "start_time": "2022-07-05T16:23:58.223Z"
   },
   {
    "duration": 182,
    "start_time": "2022-07-05T16:23:58.797Z"
   },
   {
    "duration": 56,
    "start_time": "2022-07-05T16:23:58.981Z"
   },
   {
    "duration": 421,
    "start_time": "2022-07-05T16:23:59.039Z"
   },
   {
    "duration": 399,
    "start_time": "2022-07-05T16:23:59.462Z"
   },
   {
    "duration": 112,
    "start_time": "2022-07-05T16:23:59.862Z"
   },
   {
    "duration": 14,
    "start_time": "2022-07-05T16:23:59.977Z"
   },
   {
    "duration": 1615,
    "start_time": "2022-07-06T03:58:46.595Z"
   },
   {
    "duration": 104,
    "start_time": "2022-07-06T03:58:48.212Z"
   },
   {
    "duration": 16,
    "start_time": "2022-07-06T03:58:48.318Z"
   },
   {
    "duration": 11,
    "start_time": "2022-07-06T03:58:48.337Z"
   },
   {
    "duration": 14,
    "start_time": "2022-07-06T03:58:48.350Z"
   },
   {
    "duration": 18,
    "start_time": "2022-07-06T03:58:48.366Z"
   },
   {
    "duration": 8,
    "start_time": "2022-07-06T03:58:48.403Z"
   },
   {
    "duration": 33,
    "start_time": "2022-07-06T03:58:48.414Z"
   },
   {
    "duration": 8,
    "start_time": "2022-07-06T03:58:48.449Z"
   },
   {
    "duration": 28,
    "start_time": "2022-07-06T03:58:48.462Z"
   },
   {
    "duration": 7,
    "start_time": "2022-07-06T03:58:48.492Z"
   },
   {
    "duration": 30,
    "start_time": "2022-07-06T03:58:48.508Z"
   },
   {
    "duration": 34,
    "start_time": "2022-07-06T03:58:48.543Z"
   },
   {
    "duration": 9,
    "start_time": "2022-07-06T03:58:48.578Z"
   },
   {
    "duration": 55,
    "start_time": "2022-07-06T03:58:48.590Z"
   },
   {
    "duration": 1367,
    "start_time": "2022-07-06T03:58:48.648Z"
   },
   {
    "duration": 143,
    "start_time": "2022-07-06T03:58:50.019Z"
   },
   {
    "duration": 3,
    "start_time": "2022-07-06T03:58:50.164Z"
   },
   {
    "duration": 1757,
    "start_time": "2022-07-06T03:58:50.169Z"
   },
   {
    "duration": 444,
    "start_time": "2022-07-06T03:58:51.932Z"
   },
   {
    "duration": 44,
    "start_time": "2022-07-06T03:58:52.378Z"
   },
   {
    "duration": 49845,
    "start_time": "2022-07-06T03:58:52.426Z"
   },
   {
    "duration": 467,
    "start_time": "2022-07-06T03:59:42.273Z"
   },
   {
    "duration": 135,
    "start_time": "2022-07-06T03:59:42.743Z"
   },
   {
    "duration": 1829,
    "start_time": "2022-07-06T03:59:42.880Z"
   },
   {
    "duration": 121,
    "start_time": "2022-07-06T03:59:44.721Z"
   },
   {
    "duration": 505,
    "start_time": "2022-07-06T03:59:44.844Z"
   },
   {
    "duration": 6,
    "start_time": "2022-07-06T03:59:45.355Z"
   },
   {
    "duration": 20,
    "start_time": "2022-07-06T03:59:45.362Z"
   },
   {
    "duration": 138,
    "start_time": "2022-07-06T03:59:45.384Z"
   },
   {
    "duration": 357,
    "start_time": "2022-07-06T03:59:45.525Z"
   },
   {
    "duration": 40,
    "start_time": "2022-07-06T03:59:45.885Z"
   },
   {
    "duration": 36510,
    "start_time": "2022-07-06T03:59:45.928Z"
   },
   {
    "duration": 422,
    "start_time": "2022-07-06T04:00:22.445Z"
   },
   {
    "duration": 3,
    "start_time": "2022-07-06T04:00:22.869Z"
   },
   {
    "duration": 14,
    "start_time": "2022-07-06T04:00:22.874Z"
   },
   {
    "duration": 126,
    "start_time": "2022-07-06T04:00:22.890Z"
   },
   {
    "duration": 576,
    "start_time": "2022-07-06T04:00:23.019Z"
   },
   {
    "duration": 47,
    "start_time": "2022-07-06T04:00:23.597Z"
   },
   {
    "duration": 67045,
    "start_time": "2022-07-06T04:00:23.646Z"
   },
   {
    "duration": 666,
    "start_time": "2022-07-06T04:01:30.694Z"
   },
   {
    "duration": 198,
    "start_time": "2022-07-06T04:01:31.362Z"
   },
   {
    "duration": 82,
    "start_time": "2022-07-06T04:01:31.562Z"
   },
   {
    "duration": 450,
    "start_time": "2022-07-06T04:01:31.646Z"
   },
   {
    "duration": 457,
    "start_time": "2022-07-06T04:01:32.100Z"
   },
   {
    "duration": 134,
    "start_time": "2022-07-06T04:01:32.558Z"
   },
   {
    "duration": 35,
    "start_time": "2022-07-06T04:01:32.694Z"
   }
  ],
  "kernelspec": {
   "display_name": "Python 3 (ipykernel)",
   "language": "python",
   "name": "python3"
  },
  "language_info": {
   "codemirror_mode": {
    "name": "ipython",
    "version": 3
   },
   "file_extension": ".py",
   "mimetype": "text/x-python",
   "name": "python",
   "nbconvert_exporter": "python",
   "pygments_lexer": "ipython3",
   "version": "3.10.2"
  },
  "toc": {
   "base_numbering": 1,
   "nav_menu": {},
   "number_sections": true,
   "sideBar": true,
   "skip_h1_title": true,
   "title_cell": "Содержание",
   "title_sidebar": "Contents",
   "toc_cell": true,
   "toc_position": {
    "height": "calc(100% - 180px)",
    "left": "10px",
    "top": "150px",
    "width": "321.753px"
   },
   "toc_section_display": true,
   "toc_window_display": true
  }
 },
 "nbformat": 4,
 "nbformat_minor": 2
}
