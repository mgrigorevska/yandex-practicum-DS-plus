{
 "cells": [
  {
   "cell_type": "markdown",
   "metadata": {},
   "source": [
    "# Прогнозирование оттока клиентов в сети отелей."
   ]
  },
  {
   "cell_type": "markdown",
   "metadata": {},
   "source": [
    "Заказчик  исследования — сеть отелей.\n",
    "Чтобы привлечь клиентов, эта сеть  добавила на свой сайт возможность забронировать номер без предоплаты. Однако если клиент отменял бронирование, то компания терпела убытки. Сотрудники отеля могли, например, закупить продукты к приезду гостя или просто не успеть найти другого клиента.\n",
    "Чтобы решить эту проблему, нужно разработать систему, которая предсказывает отказ от брони. Если модель покажет, что бронь будет отменена, то клиенту предлагается внести депозит. Размер депозита — 80% от стоимости номера за одни сутки и затрат на разовую уборку. Деньги будут списаны со счёта клиента, если он всё же отменит бронь."
   ]
  },
  {
   "cell_type": "markdown",
   "metadata": {},
   "source": [
    "##  Обзор данных"
   ]
  },
  {
   "cell_type": "code",
   "execution_count": 1,
   "metadata": {},
   "outputs": [],
   "source": [
    "import pandas as pd\n",
    "import seaborn as sns\n",
    "import numpy as np\n",
    "import matplotlib.pyplot as plt\n",
    "from sklearn.preprocessing import StandardScaler\n",
    "from sklearn.linear_model import LogisticRegression\n",
    "from sklearn.tree import DecisionTreeClassifier\n",
    "from sklearn.ensemble import RandomForestClassifier\n",
    "from sklearn.metrics import confusion_matrix, f1_score, roc_auc_score, roc_curve, precision_score, accuracy_score, classification_report\n",
    "from sklearn.model_selection import GridSearchCV\n",
    "from sklearn.model_selection import cross_val_score\n",
    "from sklearn.feature_selection import SelectFromModel"
   ]
  },
  {
   "cell_type": "code",
   "execution_count": 2,
   "metadata": {},
   "outputs": [],
   "source": [
    "hotel_train = pd.read_csv('/datasets/hotel_train.csv')\n",
    "hotel_test = pd.read_csv('/datasets/hotel_test.csv')"
   ]
  },
  {
   "cell_type": "code",
   "execution_count": 3,
   "metadata": {
    "scrolled": true
   },
   "outputs": [
    {
     "data": {
      "text/html": [
       "<div>\n",
       "<style scoped>\n",
       "    .dataframe tbody tr th:only-of-type {\n",
       "        vertical-align: middle;\n",
       "    }\n",
       "\n",
       "    .dataframe tbody tr th {\n",
       "        vertical-align: top;\n",
       "    }\n",
       "\n",
       "    .dataframe thead th {\n",
       "        text-align: right;\n",
       "    }\n",
       "</style>\n",
       "<table border=\"1\" class=\"dataframe\">\n",
       "  <thead>\n",
       "    <tr style=\"text-align: right;\">\n",
       "      <th></th>\n",
       "      <th>id</th>\n",
       "      <th>is_canceled</th>\n",
       "      <th>lead_time</th>\n",
       "      <th>arrival_date_year</th>\n",
       "      <th>arrival_date_month</th>\n",
       "      <th>arrival_date_week_number</th>\n",
       "      <th>arrival_date_day_of_month</th>\n",
       "      <th>stays_in_weekend_nights</th>\n",
       "      <th>stays_in_week_nights</th>\n",
       "      <th>adults</th>\n",
       "      <th>...</th>\n",
       "      <th>is_repeated_guest</th>\n",
       "      <th>previous_cancellations</th>\n",
       "      <th>previous_bookings_not_canceled</th>\n",
       "      <th>reserved_room_type</th>\n",
       "      <th>booking_changes</th>\n",
       "      <th>days_in_waiting_list</th>\n",
       "      <th>customer_type</th>\n",
       "      <th>required_car_parking_spaces</th>\n",
       "      <th>total_of_special_requests</th>\n",
       "      <th>total_nights</th>\n",
       "    </tr>\n",
       "  </thead>\n",
       "  <tbody>\n",
       "    <tr>\n",
       "      <th>0</th>\n",
       "      <td>6086</td>\n",
       "      <td>1</td>\n",
       "      <td>74.0</td>\n",
       "      <td>2017</td>\n",
       "      <td>January</td>\n",
       "      <td>1</td>\n",
       "      <td>1</td>\n",
       "      <td>1</td>\n",
       "      <td>0</td>\n",
       "      <td>2.0</td>\n",
       "      <td>...</td>\n",
       "      <td>0</td>\n",
       "      <td>0</td>\n",
       "      <td>0</td>\n",
       "      <td>A</td>\n",
       "      <td>0</td>\n",
       "      <td>0</td>\n",
       "      <td>Transient</td>\n",
       "      <td>0</td>\n",
       "      <td>0</td>\n",
       "      <td>1</td>\n",
       "    </tr>\n",
       "    <tr>\n",
       "      <th>1</th>\n",
       "      <td>6087</td>\n",
       "      <td>1</td>\n",
       "      <td>62.0</td>\n",
       "      <td>2017</td>\n",
       "      <td>January</td>\n",
       "      <td>1</td>\n",
       "      <td>1</td>\n",
       "      <td>2</td>\n",
       "      <td>2</td>\n",
       "      <td>2.0</td>\n",
       "      <td>...</td>\n",
       "      <td>0</td>\n",
       "      <td>0</td>\n",
       "      <td>0</td>\n",
       "      <td>A</td>\n",
       "      <td>0</td>\n",
       "      <td>0</td>\n",
       "      <td>Transient</td>\n",
       "      <td>0</td>\n",
       "      <td>1</td>\n",
       "      <td>4</td>\n",
       "    </tr>\n",
       "    <tr>\n",
       "      <th>2</th>\n",
       "      <td>6088</td>\n",
       "      <td>1</td>\n",
       "      <td>62.0</td>\n",
       "      <td>2017</td>\n",
       "      <td>January</td>\n",
       "      <td>1</td>\n",
       "      <td>1</td>\n",
       "      <td>2</td>\n",
       "      <td>2</td>\n",
       "      <td>2.0</td>\n",
       "      <td>...</td>\n",
       "      <td>0</td>\n",
       "      <td>0</td>\n",
       "      <td>0</td>\n",
       "      <td>A</td>\n",
       "      <td>0</td>\n",
       "      <td>0</td>\n",
       "      <td>Transient</td>\n",
       "      <td>0</td>\n",
       "      <td>1</td>\n",
       "      <td>4</td>\n",
       "    </tr>\n",
       "  </tbody>\n",
       "</table>\n",
       "<p>3 rows × 25 columns</p>\n",
       "</div>"
      ],
      "text/plain": [
       "     id  is_canceled  lead_time  arrival_date_year arrival_date_month  \\\n",
       "0  6086            1       74.0               2017            January   \n",
       "1  6087            1       62.0               2017            January   \n",
       "2  6088            1       62.0               2017            January   \n",
       "\n",
       "   arrival_date_week_number  arrival_date_day_of_month  \\\n",
       "0                         1                          1   \n",
       "1                         1                          1   \n",
       "2                         1                          1   \n",
       "\n",
       "   stays_in_weekend_nights  stays_in_week_nights  adults  ...  \\\n",
       "0                        1                     0     2.0  ...   \n",
       "1                        2                     2     2.0  ...   \n",
       "2                        2                     2     2.0  ...   \n",
       "\n",
       "   is_repeated_guest  previous_cancellations previous_bookings_not_canceled  \\\n",
       "0                  0                       0                              0   \n",
       "1                  0                       0                              0   \n",
       "2                  0                       0                              0   \n",
       "\n",
       "  reserved_room_type booking_changes  days_in_waiting_list  customer_type  \\\n",
       "0   A                              0                     0      Transient   \n",
       "1   A                              0                     0      Transient   \n",
       "2   A                              0                     0      Transient   \n",
       "\n",
       "   required_car_parking_spaces total_of_special_requests  total_nights  \n",
       "0                            0                         0             1  \n",
       "1                            0                         1             4  \n",
       "2                            0                         1             4  \n",
       "\n",
       "[3 rows x 25 columns]"
      ]
     },
     "metadata": {},
     "output_type": "display_data"
    },
    {
     "data": {
      "text/html": [
       "<div>\n",
       "<style scoped>\n",
       "    .dataframe tbody tr th:only-of-type {\n",
       "        vertical-align: middle;\n",
       "    }\n",
       "\n",
       "    .dataframe tbody tr th {\n",
       "        vertical-align: top;\n",
       "    }\n",
       "\n",
       "    .dataframe thead th {\n",
       "        text-align: right;\n",
       "    }\n",
       "</style>\n",
       "<table border=\"1\" class=\"dataframe\">\n",
       "  <thead>\n",
       "    <tr style=\"text-align: right;\">\n",
       "      <th></th>\n",
       "      <th>id</th>\n",
       "      <th>is_canceled</th>\n",
       "      <th>lead_time</th>\n",
       "      <th>arrival_date_year</th>\n",
       "      <th>arrival_date_month</th>\n",
       "      <th>arrival_date_week_number</th>\n",
       "      <th>arrival_date_day_of_month</th>\n",
       "      <th>stays_in_weekend_nights</th>\n",
       "      <th>stays_in_week_nights</th>\n",
       "      <th>adults</th>\n",
       "      <th>...</th>\n",
       "      <th>is_repeated_guest</th>\n",
       "      <th>previous_cancellations</th>\n",
       "      <th>previous_bookings_not_canceled</th>\n",
       "      <th>reserved_room_type</th>\n",
       "      <th>booking_changes</th>\n",
       "      <th>days_in_waiting_list</th>\n",
       "      <th>customer_type</th>\n",
       "      <th>required_car_parking_spaces</th>\n",
       "      <th>total_of_special_requests</th>\n",
       "      <th>total_nights</th>\n",
       "    </tr>\n",
       "  </thead>\n",
       "  <tbody>\n",
       "    <tr>\n",
       "      <th>0</th>\n",
       "      <td>0</td>\n",
       "      <td>0</td>\n",
       "      <td>7.0</td>\n",
       "      <td>2015</td>\n",
       "      <td>July</td>\n",
       "      <td>27</td>\n",
       "      <td>1</td>\n",
       "      <td>0</td>\n",
       "      <td>1</td>\n",
       "      <td>1.0</td>\n",
       "      <td>...</td>\n",
       "      <td>0</td>\n",
       "      <td>0</td>\n",
       "      <td>0</td>\n",
       "      <td>A</td>\n",
       "      <td>0</td>\n",
       "      <td>0</td>\n",
       "      <td>Transient</td>\n",
       "      <td>0</td>\n",
       "      <td>0</td>\n",
       "      <td>1</td>\n",
       "    </tr>\n",
       "    <tr>\n",
       "      <th>1</th>\n",
       "      <td>1</td>\n",
       "      <td>0</td>\n",
       "      <td>14.0</td>\n",
       "      <td>2015</td>\n",
       "      <td>July</td>\n",
       "      <td>27</td>\n",
       "      <td>1</td>\n",
       "      <td>0</td>\n",
       "      <td>2</td>\n",
       "      <td>2.0</td>\n",
       "      <td>...</td>\n",
       "      <td>0</td>\n",
       "      <td>0</td>\n",
       "      <td>0</td>\n",
       "      <td>A</td>\n",
       "      <td>0</td>\n",
       "      <td>0</td>\n",
       "      <td>Transient</td>\n",
       "      <td>0</td>\n",
       "      <td>1</td>\n",
       "      <td>2</td>\n",
       "    </tr>\n",
       "    <tr>\n",
       "      <th>2</th>\n",
       "      <td>2</td>\n",
       "      <td>0</td>\n",
       "      <td>0.0</td>\n",
       "      <td>2015</td>\n",
       "      <td>July</td>\n",
       "      <td>27</td>\n",
       "      <td>1</td>\n",
       "      <td>0</td>\n",
       "      <td>2</td>\n",
       "      <td>2.0</td>\n",
       "      <td>...</td>\n",
       "      <td>0</td>\n",
       "      <td>0</td>\n",
       "      <td>0</td>\n",
       "      <td>C</td>\n",
       "      <td>0</td>\n",
       "      <td>0</td>\n",
       "      <td>Transient</td>\n",
       "      <td>0</td>\n",
       "      <td>0</td>\n",
       "      <td>2</td>\n",
       "    </tr>\n",
       "  </tbody>\n",
       "</table>\n",
       "<p>3 rows × 25 columns</p>\n",
       "</div>"
      ],
      "text/plain": [
       "   id  is_canceled  lead_time  arrival_date_year arrival_date_month  \\\n",
       "0   0            0        7.0               2015               July   \n",
       "1   1            0       14.0               2015               July   \n",
       "2   2            0        0.0               2015               July   \n",
       "\n",
       "   arrival_date_week_number  arrival_date_day_of_month  \\\n",
       "0                        27                          1   \n",
       "1                        27                          1   \n",
       "2                        27                          1   \n",
       "\n",
       "   stays_in_weekend_nights  stays_in_week_nights  adults  ...  \\\n",
       "0                        0                     1     1.0  ...   \n",
       "1                        0                     2     2.0  ...   \n",
       "2                        0                     2     2.0  ...   \n",
       "\n",
       "   is_repeated_guest  previous_cancellations previous_bookings_not_canceled  \\\n",
       "0                  0                       0                              0   \n",
       "1                  0                       0                              0   \n",
       "2                  0                       0                              0   \n",
       "\n",
       "  reserved_room_type booking_changes  days_in_waiting_list  customer_type  \\\n",
       "0   A                              0                     0      Transient   \n",
       "1   A                              0                     0      Transient   \n",
       "2   C                              0                     0      Transient   \n",
       "\n",
       "   required_car_parking_spaces total_of_special_requests  total_nights  \n",
       "0                            0                         0             1  \n",
       "1                            0                         1             2  \n",
       "2                            0                         0             2  \n",
       "\n",
       "[3 rows x 25 columns]"
      ]
     },
     "metadata": {},
     "output_type": "display_data"
    }
   ],
   "source": [
    "display(hotel_test.head(3))\n",
    "display(hotel_train.head(3))"
   ]
  },
  {
   "cell_type": "code",
   "execution_count": 4,
   "metadata": {},
   "outputs": [
    {
     "name": "stdout",
     "output_type": "stream",
     "text": [
      "<class 'pandas.core.frame.DataFrame'>\n",
      "RangeIndex: 32412 entries, 0 to 32411\n",
      "Data columns (total 25 columns):\n",
      " #   Column                          Non-Null Count  Dtype  \n",
      "---  ------                          --------------  -----  \n",
      " 0   id                              32412 non-null  int64  \n",
      " 1   is_canceled                     32412 non-null  int64  \n",
      " 2   lead_time                       32412 non-null  float64\n",
      " 3   arrival_date_year               32412 non-null  int64  \n",
      " 4   arrival_date_month              32412 non-null  object \n",
      " 5   arrival_date_week_number        32412 non-null  int64  \n",
      " 6   arrival_date_day_of_month       32412 non-null  int64  \n",
      " 7   stays_in_weekend_nights         32412 non-null  int64  \n",
      " 8   stays_in_week_nights            32412 non-null  int64  \n",
      " 9   adults                          32412 non-null  float64\n",
      " 10  children                        32412 non-null  float64\n",
      " 11  babies                          32412 non-null  float64\n",
      " 12  meal                            32412 non-null  object \n",
      " 13  country                         32412 non-null  object \n",
      " 14  distribution_channel            32412 non-null  object \n",
      " 15  is_repeated_guest               32412 non-null  int64  \n",
      " 16  previous_cancellations          32412 non-null  int64  \n",
      " 17  previous_bookings_not_canceled  32412 non-null  int64  \n",
      " 18  reserved_room_type              32412 non-null  object \n",
      " 19  booking_changes                 32412 non-null  int64  \n",
      " 20  days_in_waiting_list            32412 non-null  int64  \n",
      " 21  customer_type                   32412 non-null  object \n",
      " 22  required_car_parking_spaces     32412 non-null  int64  \n",
      " 23  total_of_special_requests       32412 non-null  int64  \n",
      " 24  total_nights                    32412 non-null  int64  \n",
      "dtypes: float64(4), int64(15), object(6)\n",
      "memory usage: 6.2+ MB\n",
      "None\n",
      "<class 'pandas.core.frame.DataFrame'>\n",
      "RangeIndex: 65229 entries, 0 to 65228\n",
      "Data columns (total 25 columns):\n",
      " #   Column                          Non-Null Count  Dtype  \n",
      "---  ------                          --------------  -----  \n",
      " 0   id                              65229 non-null  int64  \n",
      " 1   is_canceled                     65229 non-null  int64  \n",
      " 2   lead_time                       65229 non-null  float64\n",
      " 3   arrival_date_year               65229 non-null  int64  \n",
      " 4   arrival_date_month              65229 non-null  object \n",
      " 5   arrival_date_week_number        65229 non-null  int64  \n",
      " 6   arrival_date_day_of_month       65229 non-null  int64  \n",
      " 7   stays_in_weekend_nights         65229 non-null  int64  \n",
      " 8   stays_in_week_nights            65229 non-null  int64  \n",
      " 9   adults                          65229 non-null  float64\n",
      " 10  children                        65229 non-null  float64\n",
      " 11  babies                          65229 non-null  float64\n",
      " 12  meal                            65229 non-null  object \n",
      " 13  country                         65229 non-null  object \n",
      " 14  distribution_channel            65229 non-null  object \n",
      " 15  is_repeated_guest               65229 non-null  int64  \n",
      " 16  previous_cancellations          65229 non-null  int64  \n",
      " 17  previous_bookings_not_canceled  65229 non-null  int64  \n",
      " 18  reserved_room_type              65229 non-null  object \n",
      " 19  booking_changes                 65229 non-null  int64  \n",
      " 20  days_in_waiting_list            65229 non-null  int64  \n",
      " 21  customer_type                   65229 non-null  object \n",
      " 22  required_car_parking_spaces     65229 non-null  int64  \n",
      " 23  total_of_special_requests       65229 non-null  int64  \n",
      " 24  total_nights                    65229 non-null  int64  \n",
      "dtypes: float64(4), int64(15), object(6)\n",
      "memory usage: 12.4+ MB\n",
      "None\n"
     ]
    }
   ],
   "source": [
    "print(hotel_test.info())\n",
    "print(hotel_train.info())"
   ]
  },
  {
   "cell_type": "markdown",
   "metadata": {},
   "source": [
    "В таблицах по 25 столбцов. Тип данных в столбцах — строки, целые и вещественные числа.\n",
    "Согласно документации к данным:\n",
    "\n",
    "**Признаки**:\n",
    "- `id` — номер записи;\n",
    "- `adults` — количество взрослых постояльцев;\n",
    "- `arrival_date_year` — год заезда;\n",
    "- `arrival_date_month` — месяц заезда;\n",
    "- `arrival_date_week_number` — неделя заезда;\n",
    "- `arrival_date_day_of_month` — день заезда;\n",
    "- `babies` — количество младенцев;\n",
    "- `booking_changes` — количество изменений параметров заказа;\n",
    "- `children` — количество детей от 3 до 14 лет;\n",
    "- `country` — гражданство постояльца;\n",
    "- `customer_type` — тип заказчика:\n",
    "  - `Contract` — договор с юридическим лицом;\n",
    "  - `Group` — групповой заезд;\n",
    "  - `Transient` — не связано с договором или групповым заездом;\n",
    "  - `Transient-party` — не связано с договором или групповым заездом, но связано с бронированием типа Transient.\n",
    "- `days_in_waiting_list` — сколько дней заказ ожидал подтверждения;\n",
    "- `distribution_channel` — канал дистрибуции заказа;\n",
    "- `is_repeated_guest` — признак того, что гость бронирует номер второй раз;\n",
    "- `lead_time` — количество дней между датой бронирования и датой прибытия;\n",
    "- `meal` — опции заказа:\n",
    "  - `SC` — нет дополнительных опций; \n",
    "  - `BB` — включён завтрак;\n",
    "  - `HB` — включён завтрак и обед;\n",
    "  - `FB` — включён завтрак, обед и ужин.\n",
    "- `previous_bookings_not_canceled` — количество подтверждённых заказов у клиента;\n",
    "- `previous_cancellations` — количество отменённых заказов у клиента;\n",
    "- `required_car_parking_spaces` — необходимость места для автомобиля;\n",
    "- `reserved_room_type` — тип забронированной комнаты;\n",
    "- `stays_in_weekend_nights` — количество ночей в выходные дни;\n",
    "- `stays_in_week_nights` — количество ночей в будние дни;\n",
    "- `total_nights` — общее количество ночей;\n",
    "- `total_of_special_requests` — количество специальных отметок.\n",
    "\n",
    "**Целевой признак**:\n",
    "- `is_canceled` — отмена заказа.\n",
    "\n",
    "\n",
    "Пропуски в данных отсутствуют."
   ]
  },
  {
   "cell_type": "markdown",
   "metadata": {},
   "source": [
    "##  Предобработка и исследовательский анализ данных"
   ]
  },
  {
   "cell_type": "markdown",
   "metadata": {},
   "source": [
    "### Предобработка данных"
   ]
  },
  {
   "cell_type": "markdown",
   "metadata": {},
   "source": [
    "Проверим данные на наличие дубликатов:"
   ]
  },
  {
   "cell_type": "code",
   "execution_count": 5,
   "metadata": {},
   "outputs": [
    {
     "name": "stdout",
     "output_type": "stream",
     "text": [
      "0\n",
      "0\n"
     ]
    }
   ],
   "source": [
    "print(hotel_train.duplicated().sum())\n",
    "print(hotel_test.duplicated().sum())"
   ]
  },
  {
   "cell_type": "code",
   "execution_count": 6,
   "metadata": {},
   "outputs": [
    {
     "name": "stdout",
     "output_type": "stream",
     "text": [
      "[2015 2016]\n",
      "[2017]\n",
      "['July' 'August' 'September' 'October' 'November' 'December' 'January'\n",
      " 'February' 'March' 'April' 'May' 'June']\n",
      "['January' 'February' 'March' 'April' 'May' 'June' 'July' 'August']\n",
      "['A               ' 'C               ' 'D               '\n",
      " 'E               ' 'G               ' 'F               '\n",
      " 'B               ']\n",
      "['GBR' 'PRT' 'ESP' 'IRL' 'FRA' 'ROU' 'NOR' 'USA' 'DEU' 'BEL' 'CHE' 'CN'\n",
      " 'GRC' 'NLD' 'ARG' 'RUS' 'SWE' 'POL' 'EST' 'CZE' 'ITA' 'FIN' 'DNK' 'MOZ'\n",
      " 'BWA' 'LUX' 'BRA' 'SVN' 'ALB' 'CHN' 'MEX' 'MAR' 'SMR' 'LVA' 'CHL' 'AUT'\n",
      " 'LTU' 'TUR' 'ISR' 'IND' 'CYM' 'AUS' 'CPV' 'ZWE' 'DZA' 'KOR' 'CRI' 'HUN'\n",
      " 'TUN' 'ARE' 'HRV' 'HKG' 'IRN' 'GIB' 'JEY' 'URY' 'ZAF' 'COL' 'GGY' 'KWT'\n",
      " 'CYP' 'KAZ' 'THA' 'DOM' 'NGA' 'BLR' 'VEN' 'UKR' 'ARM' 'JPN' 'LKA' 'MYS'\n",
      " 'BIH' 'MUS' 'OMN' 'SUR' 'JAM' 'BGR' 'CIV' 'SRB' 'JOR' 'SYR' 'PHL' 'PRI'\n",
      " 'SGP' 'BDI' 'LBN' 'AGO' 'VNM' 'AZE' 'PLW' 'NZL' 'EGY' 'MDV' 'CMR' 'MLT'\n",
      " 'SVK' 'MWI' 'STP' 'TWN' 'IDN' 'SEN' 'PER' 'SAU' 'KNA' 'ETH' 'ECU' 'IRQ'\n",
      " 'AND' 'HND' 'PAK' 'GEO' 'ZMB' 'QAT' 'KHM' 'MCO' 'BGD' 'ISL' 'UZB' 'IMN'\n",
      " 'TJK' 'NIC' 'BEN' 'MAC' 'VGB' 'TZA' 'GAB' 'MKD' 'TMP' 'GLP' 'KEN' 'LIE'\n",
      " 'MMR' 'PAN' 'BFA' 'LBY' 'GNB' 'MLI' 'BHR' 'NAM' 'BOL' 'SYC' 'PRY' 'BRB'\n",
      " 'ABW' 'SLV' 'DMA' 'CUB' 'PYF' 'UGA' 'GUY' 'LCA' 'ATA' 'RWA' 'MNE']\n"
     ]
    }
   ],
   "source": [
    "print(hotel_train['arrival_date_year'].unique())\n",
    "print(hotel_test['arrival_date_year'].unique())\n",
    "print(hotel_train['arrival_date_month'].unique())\n",
    "print(hotel_test['arrival_date_month'].unique())\n",
    "print(hotel_train['reserved_room_type'].unique())\n",
    "print(hotel_train['country'].unique())"
   ]
  },
  {
   "cell_type": "markdown",
   "metadata": {},
   "source": [
    "Исправим содержимое столбца `reserved_room_type`:"
   ]
  },
  {
   "cell_type": "code",
   "execution_count": 7,
   "metadata": {},
   "outputs": [
    {
     "data": {
      "text/plain": [
       "array(['A', 'C', 'D', 'E', 'G', 'F', 'B'], dtype=object)"
      ]
     },
     "execution_count": 7,
     "metadata": {},
     "output_type": "execute_result"
    }
   ],
   "source": [
    "hotel_train['reserved_room_type'] = hotel_train['reserved_room_type'].str.strip() \n",
    "hotel_test['reserved_room_type'] = hotel_test['reserved_room_type'].str.strip() \n",
    "hotel_train['reserved_room_type'].unique()"
   ]
  },
  {
   "cell_type": "code",
   "execution_count": 8,
   "metadata": {},
   "outputs": [
    {
     "data": {
      "image/png": "[encoded data removed]",
      "text/plain": [
       "<Figure size 1080x1080 with 2 Axes>"
      ]
     },
     "metadata": {
      "needs_background": "light"
     },
     "output_type": "display_data"
    }
   ],
   "source": [
    "fig, ax = plt.subplots(figsize=(15,15)) \n",
    "sns.heatmap(hotel_train.corr(),annot = True, fmt = '.1g', ax=ax, square=True)\n",
    "plt.title('Взаимосвязь признаков')\n",
    "plt.show() "
   ]
  },
  {
   "cell_type": "markdown",
   "metadata": {},
   "source": [
    "В наибольшей степени на целевой признак влияют признаки `lead_time`, `previous_cancellations`(прямая зависимость), `required_car_parking_spaces`, `total_of_special_requests`(обратная зависимость). Остальные признаки влияют менее значительно.\n",
    "\n",
    "Также обратим внимание на мультиколлинеарность некоторых признаков, это такие пары как:\n",
    "\n",
    "- `total_nights` - `stays_in_weekend_nights`\n",
    "- `total_nights` - `stays_in_week_nights`\n",
    "- `previous_bookings_not_canceled` - `is_repeated_guest`\n",
    "- `arrival_date_week_number` - `arrival_date_year`\n",
    "\n",
    "\n",
    "Мультиколлинеарность негативно влияет на модели машинного обучения, поэтому удалим по одному признаку из пары. также определим, какие признаки имеют значение для предсказания целевого признака - столбец id, country не будет влиять на результат, поэтому удаляем его:"
   ]
  },
  {
   "cell_type": "code",
   "execution_count": 9,
   "metadata": {},
   "outputs": [],
   "source": [
    "hotel_train = hotel_train.drop(['id', 'country', 'stays_in_weekend_nights', 'stays_in_week_nights', 'previous_bookings_not_canceled', 'arrival_date_year'], axis=1)\n",
    "hotel_test = hotel_test.drop(['id', 'country', 'stays_in_weekend_nights', 'stays_in_week_nights', 'previous_bookings_not_canceled', 'arrival_date_year'], axis=1)"
   ]
  },
  {
   "cell_type": "markdown",
   "metadata": {},
   "source": [
    "Сохраним ключевые переменные для вычислений:"
   ]
  },
  {
   "cell_type": "code",
   "execution_count": 10,
   "metadata": {},
   "outputs": [],
   "source": [
    "BUDGET = 400000\n",
    "SUMMER_COEF = 0.4\n",
    "DEMISEASON_COEF = 0.2\n",
    "A_PRICE = 1000\n",
    "A_SERVICE = 400\n",
    "B_PRICE = 800\n",
    "B_SERVICE = 350\n",
    "C_PRICE = 600\n",
    "C_SERVICE = 350\n",
    "D_PRICE = 550\n",
    "D_SERVICE = 150\n",
    "E_PRICE = 500\n",
    "E_SERVICE = 150\n",
    "F_PRICE = 450\n",
    "F_SERVICE = 150\n",
    "G_PRICE = 350\n",
    "G_SERVICE = 150\n",
    "SUMMER_MONTHS = [ 'June', 'July', 'August' ]\n",
    "DEMISEASON_MONTHS = ['September', 'October', 'November' , 'March', 'April', 'May']"
   ]
  },
  {
   "cell_type": "markdown",
   "metadata": {},
   "source": [
    "Для удобства создалим датафрейм prices с ценами на уборку и номера:"
   ]
  },
  {
   "cell_type": "code",
   "execution_count": 11,
   "metadata": {},
   "outputs": [
    {
     "data": {
      "text/html": [
       "<div>\n",
       "<style scoped>\n",
       "    .dataframe tbody tr th:only-of-type {\n",
       "        vertical-align: middle;\n",
       "    }\n",
       "\n",
       "    .dataframe tbody tr th {\n",
       "        vertical-align: top;\n",
       "    }\n",
       "\n",
       "    .dataframe thead th {\n",
       "        text-align: right;\n",
       "    }\n",
       "</style>\n",
       "<table border=\"1\" class=\"dataframe\">\n",
       "  <thead>\n",
       "    <tr style=\"text-align: right;\">\n",
       "      <th></th>\n",
       "      <th>reserved_room_type</th>\n",
       "      <th>price</th>\n",
       "      <th>service</th>\n",
       "    </tr>\n",
       "  </thead>\n",
       "  <tbody>\n",
       "    <tr>\n",
       "      <th>0</th>\n",
       "      <td>A</td>\n",
       "      <td>1000</td>\n",
       "      <td>400</td>\n",
       "    </tr>\n",
       "    <tr>\n",
       "      <th>1</th>\n",
       "      <td>B</td>\n",
       "      <td>800</td>\n",
       "      <td>350</td>\n",
       "    </tr>\n",
       "    <tr>\n",
       "      <th>2</th>\n",
       "      <td>C</td>\n",
       "      <td>600</td>\n",
       "      <td>350</td>\n",
       "    </tr>\n",
       "    <tr>\n",
       "      <th>3</th>\n",
       "      <td>D</td>\n",
       "      <td>550</td>\n",
       "      <td>150</td>\n",
       "    </tr>\n",
       "    <tr>\n",
       "      <th>4</th>\n",
       "      <td>E</td>\n",
       "      <td>500</td>\n",
       "      <td>150</td>\n",
       "    </tr>\n",
       "    <tr>\n",
       "      <th>5</th>\n",
       "      <td>F</td>\n",
       "      <td>450</td>\n",
       "      <td>150</td>\n",
       "    </tr>\n",
       "    <tr>\n",
       "      <th>6</th>\n",
       "      <td>G</td>\n",
       "      <td>350</td>\n",
       "      <td>150</td>\n",
       "    </tr>\n",
       "  </tbody>\n",
       "</table>\n",
       "</div>"
      ],
      "text/plain": [
       "  reserved_room_type  price  service\n",
       "0                  A   1000      400\n",
       "1                  B    800      350\n",
       "2                  C    600      350\n",
       "3                  D    550      150\n",
       "4                  E    500      150\n",
       "5                  F    450      150\n",
       "6                  G    350      150"
      ]
     },
     "execution_count": 11,
     "metadata": {},
     "output_type": "execute_result"
    }
   ],
   "source": [
    "prices = {'reserved_room_type' : ['A','B', 'C', 'D', 'E', 'F', 'G'], 'price': [A_PRICE, B_PRICE, C_PRICE, D_PRICE, E_PRICE, F_PRICE, G_PRICE], 'service' : [A_SERVICE, B_SERVICE, C_SERVICE, D_SERVICE, E_SERVICE, F_SERVICE, G_SERVICE]}\n",
    "prices = pd.DataFrame(prices)\n",
    "prices"
   ]
  },
  {
   "cell_type": "markdown",
   "metadata": {},
   "source": [
    "Объединим датафреймы по столбцу `reserved_room_type`:"
   ]
  },
  {
   "cell_type": "code",
   "execution_count": 12,
   "metadata": {},
   "outputs": [],
   "source": [
    "hotel_train = hotel_train.merge(prices, on='reserved_room_type', how='left')\n",
    "hotel_test = hotel_test.merge(prices, on='reserved_room_type', how='left')"
   ]
  },
  {
   "cell_type": "markdown",
   "metadata": {},
   "source": [
    "Посчитаем прибыль для каждого клиента, для этого сначала создадим отдельный столбец с сезонными коэффициентами:"
   ]
  },
  {
   "cell_type": "code",
   "execution_count": 13,
   "metadata": {},
   "outputs": [],
   "source": [
    "def coef(row):\n",
    "    month = row['arrival_date_month']\n",
    "    if month in SUMMER_MONTHS:         # проверяем, находится ли месяц в списке\n",
    "        return SUMMER_COEF\n",
    "    elif month in DEMISEASON_MONTHS:   \n",
    "        return DEMISEASON_COEF\n",
    "    else:\n",
    "        return 0        "
   ]
  },
  {
   "cell_type": "code",
   "execution_count": 14,
   "metadata": {},
   "outputs": [],
   "source": [
    "hotel_train['coef'] = hotel_train.apply(coef, axis=1)\n",
    "hotel_test['coef'] = hotel_test.apply(coef, axis=1)"
   ]
  },
  {
   "cell_type": "markdown",
   "metadata": {},
   "source": [
    "затем определим функцию для подсчета прибыли с каждого клиента:"
   ]
  },
  {
   "cell_type": "code",
   "execution_count": 15,
   "metadata": {},
   "outputs": [],
   "source": [
    "def calc_0(price, service, days, coef):\n",
    "    res = (days * price * (coef+1)) - (days + 1)//2 * service # формула для расчета прибыли\n",
    "    return res\n",
    "\n",
    "def calc_1(price, service, coef):\n",
    "    res = 0 - (price * (coef+1) + service)    # убыток в случае отмены бронирования      \n",
    "    return res\n",
    "\n",
    "def calc_deposit(price, service, coef):  # формула для расчета депозита в случае отмены\n",
    "    res = (price * (coef+1)) *0.8 + service\n",
    "    return res"
   ]
  },
  {
   "cell_type": "code",
   "execution_count": 16,
   "metadata": {},
   "outputs": [],
   "source": [
    " def income_before(row):\n",
    "    room_type = row['reserved_room_type']  \n",
    "    coef = row['coef']                     \n",
    "    days = row['total_nights']             \n",
    "    cancel = row['is_canceled']\n",
    "    price = row['price']\n",
    "    service = row['service']\n",
    "    if cancel == 0:\n",
    "        return calc_0(price, service, days, coef)\n",
    "    else:\n",
    "        return calc_1(price, service, coef) "
   ]
  },
  {
   "cell_type": "code",
   "execution_count": 17,
   "metadata": {},
   "outputs": [
    {
     "data": {
      "text/plain": [
       "64947      200.0\n",
       "8983       200.0\n",
       "16622      200.0\n",
       "16619      200.0\n",
       "16588      200.0\n",
       "          ...   \n",
       "13742    12000.0\n",
       "13739    12000.0\n",
       "54499    12000.0\n",
       "6051     12000.0\n",
       "4197     12000.0\n",
       "Name: income_before, Length: 41185, dtype: float64"
      ]
     },
     "execution_count": 17,
     "metadata": {},
     "output_type": "execute_result"
    }
   ],
   "source": [
    "hotel_train['income_before'] = hotel_train.apply(income_before, axis=1)\n",
    "hotel_test['income_before'] = hotel_test.apply(income_before, axis=1)\n",
    "hotel_train.query(\"is_canceled == 0\")['income_before'].sort_values()"
   ]
  },
  {
   "cell_type": "markdown",
   "metadata": {},
   "source": [
    "Преобразуем столбец с месяцами в числовой формат:"
   ]
  },
  {
   "cell_type": "code",
   "execution_count": 18,
   "metadata": {},
   "outputs": [
    {
     "data": {
      "text/plain": [
       "array([ 7,  8,  9, 10, 11, 12,  1,  2,  3,  4,  5,  6])"
      ]
     },
     "execution_count": 18,
     "metadata": {},
     "output_type": "execute_result"
    }
   ],
   "source": [
    "hotel_train['arrival_date_month'] = pd.to_datetime(hotel_train['arrival_date_month'], format='%B')\n",
    "hotel_train['arrival_date_month'] = pd.DatetimeIndex(hotel_train['arrival_date_month']).month \n",
    "hotel_test['arrival_date_month'] = pd.to_datetime(hotel_test['arrival_date_month'], format='%B')\n",
    "hotel_test['arrival_date_month'] = pd.DatetimeIndex(hotel_test['arrival_date_month']).month \n",
    "hotel_train['arrival_date_month'].unique()"
   ]
  },
  {
   "cell_type": "markdown",
   "metadata": {},
   "source": [
    "Создадим фиктивные переменные для строковых переменных:"
   ]
  },
  {
   "cell_type": "code",
   "execution_count": 19,
   "metadata": {},
   "outputs": [
    {
     "name": "stdout",
     "output_type": "stream",
     "text": [
      "<class 'pandas.core.frame.DataFrame'>\n",
      "Int64Index: 65229 entries, 0 to 65228\n",
      "Data columns (total 35 columns):\n",
      " #   Column                         Non-Null Count  Dtype  \n",
      "---  ------                         --------------  -----  \n",
      " 0   is_canceled                    65229 non-null  int64  \n",
      " 1   lead_time                      65229 non-null  float64\n",
      " 2   arrival_date_month             65229 non-null  int64  \n",
      " 3   arrival_date_week_number       65229 non-null  int64  \n",
      " 4   arrival_date_day_of_month      65229 non-null  int64  \n",
      " 5   adults                         65229 non-null  float64\n",
      " 6   children                       65229 non-null  float64\n",
      " 7   babies                         65229 non-null  float64\n",
      " 8   is_repeated_guest              65229 non-null  int64  \n",
      " 9   previous_cancellations         65229 non-null  int64  \n",
      " 10  booking_changes                65229 non-null  int64  \n",
      " 11  days_in_waiting_list           65229 non-null  int64  \n",
      " 12  required_car_parking_spaces    65229 non-null  int64  \n",
      " 13  total_of_special_requests      65229 non-null  int64  \n",
      " 14  total_nights                   65229 non-null  int64  \n",
      " 15  price                          65229 non-null  int64  \n",
      " 16  service                        65229 non-null  int64  \n",
      " 17  coef                           65229 non-null  float64\n",
      " 18  income_before                  65229 non-null  float64\n",
      " 19  meal_FB                        65229 non-null  uint8  \n",
      " 20  meal_HB                        65229 non-null  uint8  \n",
      " 21  meal_SC                        65229 non-null  uint8  \n",
      " 22  meal_SC                        65229 non-null  uint8  \n",
      " 23  distribution_channel_Direct    65229 non-null  uint8  \n",
      " 24  distribution_channel_GDS       65229 non-null  uint8  \n",
      " 25  distribution_channel_TA/TO     65229 non-null  uint8  \n",
      " 26  reserved_room_type_B           65229 non-null  uint8  \n",
      " 27  reserved_room_type_C           65229 non-null  uint8  \n",
      " 28  reserved_room_type_D           65229 non-null  uint8  \n",
      " 29  reserved_room_type_E           65229 non-null  uint8  \n",
      " 30  reserved_room_type_F           65229 non-null  uint8  \n",
      " 31  reserved_room_type_G           65229 non-null  uint8  \n",
      " 32  customer_type_Group            65229 non-null  uint8  \n",
      " 33  customer_type_Transient        65229 non-null  uint8  \n",
      " 34  customer_type_Transient-Party  65229 non-null  uint8  \n",
      "dtypes: float64(6), int64(13), uint8(16)\n",
      "memory usage: 10.9 MB\n"
     ]
    }
   ],
   "source": [
    "df_train = pd.get_dummies(hotel_train, drop_first=True)\n",
    "df_test = pd.get_dummies(hotel_test, drop_first=True)\n",
    "df_train.info()"
   ]
  },
  {
   "cell_type": "markdown",
   "metadata": {},
   "source": [
    "Проведём масштабирование признаков:"
   ]
  },
  {
   "cell_type": "code",
   "execution_count": 20,
   "metadata": {},
   "outputs": [],
   "source": [
    "numeric = [\n",
    "    'lead_time', 'adults', 'children', 'booking_changes', 'babies', 'days_in_waiting_list', 'previous_cancellations',\n",
    "    'total_nights', 'total_of_special_requests', 'arrival_date_day_of_month', 'income_before'\n",
    "    ]\n",
    "\n",
    "scaler = StandardScaler()\n",
    "scaler.fit(df_train[numeric])\n",
    "df_train[numeric] = scaler.transform(df_train[numeric])\n",
    "df_test[numeric] = scaler.transform(df_test[numeric])\n",
    "\n",
    "\n",
    "pd.options.mode.chained_assignment = None"
   ]
  },
  {
   "cell_type": "markdown",
   "metadata": {},
   "source": [
    "Определим целевой признак в обоих выборках:"
   ]
  },
  {
   "cell_type": "code",
   "execution_count": 21,
   "metadata": {},
   "outputs": [],
   "source": [
    "features_train = df_train.drop(['is_canceled', 'income_before', 'coef', 'price', 'service'], axis=1)\n",
    "target_train = df_train['is_canceled']\n",
    "features_test = df_test.drop(['is_canceled',  'income_before', 'coef', 'price', 'service'], axis=1)\n",
    "target_test = df_test['is_canceled']"
   ]
  },
  {
   "cell_type": "markdown",
   "metadata": {},
   "source": [
    "#### Исследование задачи"
   ]
  },
  {
   "cell_type": "markdown",
   "metadata": {},
   "source": [
    "Проверим, как часто в целевом признаке встречается класс «1» или «0»:"
   ]
  },
  {
   "cell_type": "code",
   "execution_count": 22,
   "metadata": {},
   "outputs": [
    {
     "name": "stdout",
     "output_type": "stream",
     "text": [
      "0    0.631391\n",
      "1    0.368609\n",
      "Name: is_canceled, dtype: float64\n"
     ]
    },
    {
     "data": {
      "text/plain": [
       "<AxesSubplot:>"
      ]
     },
     "execution_count": 22,
     "metadata": {},
     "output_type": "execute_result"
    },
    {
     "data": {
      "image/png": "[encoded data removed]",
      "text/plain": [
       "<Figure size 432x288 with 1 Axes>"
      ]
     },
     "metadata": {
      "needs_background": "light"
     },
     "output_type": "display_data"
    }
   ],
   "source": [
    "class_frequency = df_train['is_canceled'].value_counts(normalize=True)\n",
    "print(class_frequency)\n",
    "class_frequency.plot(kind='bar') "
   ]
  },
  {
   "cell_type": "markdown",
   "metadata": {},
   "source": [
    "Соотношение отменивших бронь клиентов:"
   ]
  },
  {
   "cell_type": "code",
   "execution_count": 23,
   "metadata": {},
   "outputs": [
    {
     "name": "stdout",
     "output_type": "stream",
     "text": [
      "0.5838047832948888\n"
     ]
    }
   ],
   "source": [
    "print(class_frequency[1]/class_frequency[0])"
   ]
  },
  {
   "cell_type": "markdown",
   "metadata": {},
   "source": [
    "Для устранения дисбаланса классов в дальнейшем будем использовать метод изменения порога."
   ]
  },
  {
   "cell_type": "markdown",
   "metadata": {},
   "source": [
    "## Вычисление бизнес-метрики"
   ]
  },
  {
   "cell_type": "markdown",
   "metadata": {},
   "source": [
    "Оценим прибыль отеля без внедрения депозитов:"
   ]
  },
  {
   "cell_type": "code",
   "execution_count": 24,
   "metadata": {},
   "outputs": [
    {
     "name": "stdout",
     "output_type": "stream",
     "text": [
      "Прибыль до внедрения депозитов:  52951155 руб.\n"
     ]
    }
   ],
   "source": [
    "income_before = hotel_test['income_before'].sum() / 8 * 12\n",
    "print('Прибыль до внедрения депозитов: ', int(income_before), 'руб.')"
   ]
  },
  {
   "cell_type": "markdown",
   "metadata": {},
   "source": [
    "##  Формулировка ML-задачи на основе бизнес-задачи"
   ]
  },
  {
   "cell_type": "markdown",
   "metadata": {},
   "source": [
    "Требуется обучить и настроить несколько моделей, затем выбрать из них ту, которая будет имень наибольшее значение *F-1 меры*, а так же площади под ROC-кривой. Рассмотрим следующие модели:\n",
    "\n",
    " - логистическая регрессия\n",
    " - дерево решений\n",
    " - случайный лес\n",
    " \n",
    "В качестве метода устранения дисбаланса будет использовано изменение порога. "
   ]
  },
  {
   "cell_type": "markdown",
   "metadata": {},
   "source": [
    "##  Разработка модели ML"
   ]
  },
  {
   "cell_type": "markdown",
   "metadata": {},
   "source": [
    "При сравнении моделей в качестве определяющей метрики будем использовать точность (*precision*), тк она показывает долю истинно положительных ответов, то есть те бронирования, которые действительно будут отменены -  будет важно получить как можно более точное число отмененных бронирований.\n",
    "\n",
    "Для вычисления метрик и построения кривой определим функцию metrics_func:"
   ]
  },
  {
   "cell_type": "code",
   "execution_count": 25,
   "metadata": {},
   "outputs": [],
   "source": [
    "def metrics_func(model):\n",
    "    model.fit(features_train, target_train)\n",
    "    predicted_test = model.predict(features_test)\n",
    "    probabilities_test = model.predict_proba(features_test)\n",
    "    probabilities_one_test = probabilities_test[:, 1]\n",
    "    precision_best = 0\n",
    "    threshold_best = 0\n",
    "    predicted_test_best = 0\n",
    "    for threshold in np.arange(0, 0.35, 0.01):\n",
    "        predicted_test = probabilities_one_test > threshold\n",
    "        precision = precision_score(target_test, predicted_test)\n",
    "        if precision > precision_best:\n",
    "            precision_best = precision\n",
    "            threshold_best = threshold\n",
    "            predicted_test_best = predicted_test\n",
    "            model_best = model\n",
    "    print('Точность:', precision_best, 'при пороге равном', threshold_best)\n",
    "    print('Доля правильных ответов:', accuracy_score(target_test, predicted_test_best)) \n",
    "    print('F1-мера:', f1_score(target_test, predicted_test_best))\n",
    "    print('AUC-ROC:', roc_auc_score(target_test, probabilities_one_test))\n",
    "    print('Матрица ошибок:')\n",
    "    print(confusion_matrix(target_test, predicted_test_best))\n",
    "    #print(predicted_test_best)\n",
    "    #print(classification_report(target_test, predicted_test_best))\n",
    "\n",
    "# строим ROC-кривую\n",
    "    fpr, tpr, thresholds = roc_curve(target_test, probabilities_one_test)\n",
    "\n",
    "    plt.figure()\n",
    "\n",
    "    plt.plot([0, 1], [0, 1], linestyle='--')\n",
    "    plt.plot(fpr, tpr)\n",
    "\n",
    "    plt.xlim([0, 1])\n",
    "    plt.ylim([0, 1])\n",
    "    plt.xlabel('False Positive Rate')\n",
    "    plt.ylabel('True Positive Rate')\n",
    "    plt.title('ROC-кривая')\n",
    "    \n",
    "    plt.show()\n",
    "    return predicted_test_best, probabilities_one_test, model"
   ]
  },
  {
   "cell_type": "markdown",
   "metadata": {},
   "source": [
    "### Логистическая регрессия"
   ]
  },
  {
   "cell_type": "markdown",
   "metadata": {},
   "source": [
    "C помощью функции *cross_val_score* рассмотрим средние оценки качества модели:"
   ]
  },
  {
   "cell_type": "code",
   "execution_count": 26,
   "metadata": {},
   "outputs": [
    {
     "name": "stdout",
     "output_type": "stream",
     "text": [
      "Средняя оценка качества модели на обучающей выборке: 0.7087800275312047\n"
     ]
    }
   ],
   "source": [
    "model_lr = LogisticRegression(random_state=12345, solver='liblinear')\n",
    "scores_train = cross_val_score(model_lr, features_train, target_train, cv=5)\n",
    "print('Средняя оценка качества модели на обучающей выборке:', scores_train.mean())"
   ]
  },
  {
   "cell_type": "code",
   "execution_count": 27,
   "metadata": {},
   "outputs": [
    {
     "name": "stdout",
     "output_type": "stream",
     "text": [
      "Точность: 0.5742497924326889 при пороге равном 0.34\n",
      "Доля правильных ответов: 0.6887881031716648\n",
      "F1-мера: 0.6575221539401759\n",
      "AUC-ROC: 0.7787291986413978\n",
      "Матрица ошибок:\n",
      "[[12642  7179]\n",
      " [ 2908  9683]]\n"
     ]
    },
    {
     "data": {
      "image/png": "[encoded data removed]",
      "text/plain": [
       "<Figure size 432x288 with 1 Axes>"
      ]
     },
     "metadata": {
      "needs_background": "light"
     },
     "output_type": "display_data"
    }
   ],
   "source": [
    "predictions_lr, probabilities_lr, model_lr = metrics_func(LogisticRegression(random_state=12345, solver='liblinear'))"
   ]
  },
  {
   "cell_type": "markdown",
   "metadata": {},
   "source": [
    "### Дерево решений"
   ]
  },
  {
   "cell_type": "markdown",
   "metadata": {},
   "source": [
    "Подберем оптимальные параметры с помощью GridSearchCV:"
   ]
  },
  {
   "cell_type": "code",
   "execution_count": 28,
   "metadata": {},
   "outputs": [
    {
     "name": "stdout",
     "output_type": "stream",
     "text": [
      "{'max_depth': 5}\n"
     ]
    }
   ],
   "source": [
    "params_tree = {'max_depth': range (1, 11, 2)}\n",
    "\n",
    "tree = DecisionTreeClassifier()\n",
    "grid_tree = GridSearchCV(tree, params_tree)\n",
    "grid_tree.fit(features_train, target_train)\n",
    "\n",
    "print(grid_tree.best_params_)"
   ]
  },
  {
   "cell_type": "markdown",
   "metadata": {},
   "source": [
    "C помощью функции *cross_val_score* рассмотрим средние оценки качества модели:"
   ]
  },
  {
   "cell_type": "code",
   "execution_count": 29,
   "metadata": {},
   "outputs": [
    {
     "name": "stdout",
     "output_type": "stream",
     "text": [
      "Точность: 0.6412123264476803 при пороге равном 0.33\n",
      "Доля правильных ответов: 0.7144576082932247\n",
      "F1-мера: 0.6207433512273082\n",
      "AUC-ROC: 0.7616444499371751\n",
      "Матрица ошибок:\n",
      "[[15583  4238]\n",
      " [ 5017  7574]]\n"
     ]
    },
    {
     "data": {
      "image/png": "[encoded data removed]",
      "text/plain": [
       "<Figure size 432x288 with 1 Axes>"
      ]
     },
     "metadata": {
      "needs_background": "light"
     },
     "output_type": "display_data"
    }
   ],
   "source": [
    "predictions_dt, probabilities_dt, model_dt  = metrics_func(DecisionTreeClassifier(max_depth=5, random_state=12345))"
   ]
  },
  {
   "cell_type": "markdown",
   "metadata": {},
   "source": [
    "### Случайный лес"
   ]
  },
  {
   "cell_type": "markdown",
   "metadata": {},
   "source": [
    "Подберем оптимальные параметры с помощью GridSearchCV:"
   ]
  },
  {
   "cell_type": "raw",
   "metadata": {},
   "source": [
    "params_forest = { 'n_estimators': range (10, 101, 10),\n",
    "              'max_depth': range (1, 11, 2)}\n",
    "\n",
    "forest = RandomForestClassifier()\n",
    "grid_forest = GridSearchCV(forest, params_forest)\n",
    "grid_forest.fit(features_train, target_train)\n",
    "\n",
    "print(grid_forest.best_params_)"
   ]
  },
  {
   "cell_type": "markdown",
   "metadata": {},
   "source": [
    "C помощью функции *cross_val_score* рассмотрим средние оценки качества модели:"
   ]
  },
  {
   "cell_type": "code",
   "execution_count": 30,
   "metadata": {},
   "outputs": [
    {
     "name": "stdout",
     "output_type": "stream",
     "text": [
      "Точность: 0.5992344768925433 при пороге равном 0.34\n",
      "Доля правильных ответов: 0.697920523262989\n",
      "F1-мера: 0.633282145398704\n",
      "AUC-ROC: 0.7683521909141778\n",
      "Матрица ошибок:\n",
      "[[14167  5654]\n",
      " [ 4137  8454]]\n"
     ]
    },
    {
     "data": {
      "image/png": "[encoded data removed]",
      "text/plain": [
       "<Figure size 432x288 with 1 Axes>"
      ]
     },
     "metadata": {
      "needs_background": "light"
     },
     "output_type": "display_data"
    }
   ],
   "source": [
    "predictions_rf, probabilities_rf, model_rf = metrics_func(RandomForestClassifier(n_estimators=30, max_depth=3, random_state=12345))"
   ]
  },
  {
   "cell_type": "markdown",
   "metadata": {},
   "source": [
    "## Оценка прибыли"
   ]
  },
  {
   "cell_type": "raw",
   "metadata": {},
   "source": [
    "def income_deposit(target, predictions, row):\n",
    "    price = row['price']\n",
    "    service = row['service']\n",
    "    coef = row['coef']\n",
    "    days = row['total_nights']\n",
    "    predictions = pd.Series(predictions)*1\n",
    "    target = pd.Series(target)\n",
    "    res = predictions*target*(calc_deposit(price, service, coef) + calc_1(price, service, coef))\n",
    "    res = res.sum()/8*12\n",
    "    return int(res)"
   ]
  },
  {
   "cell_type": "code",
   "execution_count": 31,
   "metadata": {},
   "outputs": [],
   "source": [
    " def income_after(row):\n",
    "    room_type = row['reserved_room_type']  \n",
    "    coef = row['coef']                     \n",
    "    days = row['total_nights']             \n",
    "    cancel = row['is_canceled']\n",
    "    price = row['price']\n",
    "    service = row['service']\n",
    "    predictions = row['predictions']\n",
    "    if cancel*predictions == 0:\n",
    "        return calc_0(price, service, days, coef)\n",
    "    else:\n",
    "        return calc_deposit(price, service, coef)"
   ]
  },
  {
   "cell_type": "code",
   "execution_count": 32,
   "metadata": {},
   "outputs": [
    {
     "name": "stdout",
     "output_type": "stream",
     "text": [
      "Прибыль до внедрения депозитов:  52951155 руб.\n",
      "Прогнозируемая прибыль после внедрения депозитов: 116089275 руб.\n",
      "Разность прибылей после и до внедрения:  63138120 руб.\n"
     ]
    }
   ],
   "source": [
    "hotel_test['predictions'] = predictions_dt*1 # добавим столбец с предсказаниями в тестовую выборку\n",
    "\n",
    "hotel_test['income_after'] = hotel_test.apply(income_after, axis=1)\n",
    "income_after = hotel_test['income_after'].sum() / 8 * 12\n",
    "print('Прибыль до внедрения депозитов: ', int(income_before), 'руб.')\n",
    "print('Прогнозируемая прибыль после внедрения депозитов:', int(income_after), 'руб.')\n",
    "print('Разность прибылей после и до внедрения: ', int(income_after-income_before), 'руб.')"
   ]
  },
  {
   "cell_type": "code",
   "execution_count": 33,
   "metadata": {},
   "outputs": [
    {
     "data": {
      "text/plain": [
       "False    20600\n",
       "True     11812\n",
       "dtype: int64"
      ]
     },
     "execution_count": 33,
     "metadata": {},
     "output_type": "execute_result"
    }
   ],
   "source": [
    "#код ревьюера\n",
    "pd.Series(predictions_dt).value_counts()"
   ]
  },
  {
   "cell_type": "code",
   "execution_count": 34,
   "metadata": {},
   "outputs": [
    {
     "data": {
      "text/plain": [
       "0    19821\n",
       "1    12591\n",
       "Name: is_canceled, dtype: int64"
      ]
     },
     "execution_count": 34,
     "metadata": {},
     "output_type": "execute_result"
    }
   ],
   "source": [
    "#код ревьюера\n",
    "pd.Series(target_test).value_counts()"
   ]
  },
  {
   "cell_type": "markdown",
   "metadata": {},
   "source": [
    "## Портрет «ненадёжного» клиента"
   ]
  },
  {
   "cell_type": "markdown",
   "metadata": {},
   "source": [
    "Для описания ненадёжного клиента воспользуемся функцией SelectFromModel:"
   ]
  },
  {
   "cell_type": "code",
   "execution_count": 35,
   "metadata": {},
   "outputs": [
    {
     "data": {
      "text/plain": [
       "Index(['lead_time', 'previous_cancellations', 'booking_changes',\n",
       "       'required_car_parking_spaces', 'total_of_special_requests',\n",
       "       'distribution_channel_TA/TO', 'customer_type_Transient-Party'],\n",
       "      dtype='object')"
      ]
     },
     "execution_count": 35,
     "metadata": {},
     "output_type": "execute_result"
    }
   ],
   "source": [
    "smf = SelectFromModel(model_rf, threshold=-np.inf, max_features = 7)\n",
    "smf.fit(features_train, target_train)\n",
    "features_index = smf.get_support()\n",
    "features_1 = features_train.columns[features_index]\n",
    "features_1"
   ]
  },
  {
   "cell_type": "markdown",
   "metadata": {},
   "source": [
    "По итогам исследования, можно описать тип ненадежного клиента - вероятность отмены бронирования повышается, если:\n",
    "\n",
    "- большое количество дней между датой бронирования и датой прибытия;\n",
    "- у клиента ранее уже были отмены;\n",
    "- большое количество изменений параметров заказа;\n",
    "- клиенту требуется большее кол-во парковочных мест;\n",
    "- большое количество специальных отметок;\n",
    "- бронирование происходило через туристическое агентство; \n",
    "- бронирование не связано с договором или групповым заездом.\n"
   ]
  },
  {
   "cell_type": "markdown",
   "metadata": {},
   "source": [
    "### Общий вывод"
   ]
  },
  {
   "cell_type": "markdown",
   "metadata": {},
   "source": [
    "В результате сравнения полученных моделей наилучший результат показывает модель решающего дерева, тк она имеет наибольшее значение точности для выбранного порога, а точность показывает долю истинно положительных ответов, то есть те бронирования, которые действительно будут отменены:\n",
    "- F1-мера: 0.620\n",
    "- AUC-ROC: 0.761\n",
    "- Precision (точность): 0.641    \n",
    "- Доля правильных ответов: 0.714\n",
    "\n",
    "\n",
    "Прибыль после внедрения депозитов увеличилась более чем в 2 раза, что полностью покрывает расходы на разработку модели:\n",
    "- Прибыль до внедрения депозитов:  52951155 руб.\n",
    "- Прогнозируемая прибыль после внедрения депозитов: 116089275 руб."
   ]
  }
 ],
 "metadata": {
  "ExecuteTimeLog": [
   {
    "duration": 435,
    "start_time": "2022-07-20T07:50:35.908Z"
   },
   {
    "duration": 660,
    "start_time": "2022-07-20T07:51:40.588Z"
   },
   {
    "duration": 32,
    "start_time": "2022-07-20T07:51:56.299Z"
   },
   {
    "duration": 34,
    "start_time": "2022-07-20T07:52:10.108Z"
   },
   {
    "duration": 27,
    "start_time": "2022-07-20T07:52:31.058Z"
   },
   {
    "duration": 18,
    "start_time": "2022-07-20T07:52:58.269Z"
   },
   {
    "duration": 47,
    "start_time": "2022-07-20T07:53:06.124Z"
   },
   {
    "duration": 64,
    "start_time": "2022-07-20T07:53:11.596Z"
   },
   {
    "duration": 22,
    "start_time": "2022-07-20T07:53:28.677Z"
   },
   {
    "duration": 24,
    "start_time": "2022-07-20T07:53:48.540Z"
   },
   {
    "duration": 31,
    "start_time": "2022-07-20T07:53:52.924Z"
   },
   {
    "duration": 44,
    "start_time": "2022-07-20T07:54:14.157Z"
   },
   {
    "duration": 141,
    "start_time": "2022-07-20T08:03:01.406Z"
   },
   {
    "duration": 88,
    "start_time": "2022-07-20T08:03:20.585Z"
   },
   {
    "duration": 4,
    "start_time": "2022-07-20T08:03:58.055Z"
   },
   {
    "duration": 10,
    "start_time": "2022-07-20T08:04:15.415Z"
   },
   {
    "duration": 1030,
    "start_time": "2022-07-20T08:05:15.905Z"
   },
   {
    "duration": 2789,
    "start_time": "2022-07-20T08:05:38.999Z"
   },
   {
    "duration": 3,
    "start_time": "2022-07-20T08:06:23.585Z"
   },
   {
    "duration": 5127,
    "start_time": "2022-07-20T08:06:26.575Z"
   },
   {
    "duration": 2566,
    "start_time": "2022-07-20T08:06:42.545Z"
   },
   {
    "duration": 2687,
    "start_time": "2022-07-20T08:21:18.138Z"
   },
   {
    "duration": 96,
    "start_time": "2022-07-20T08:28:38.404Z"
   },
   {
    "duration": 188,
    "start_time": "2022-07-20T08:30:49.162Z"
   },
   {
    "duration": 13,
    "start_time": "2022-07-20T08:30:58.571Z"
   },
   {
    "duration": 2487,
    "start_time": "2022-07-20T08:31:03.222Z"
   },
   {
    "duration": 14,
    "start_time": "2022-07-20T08:35:27.773Z"
   },
   {
    "duration": 61,
    "start_time": "2022-07-20T08:36:09.793Z"
   },
   {
    "duration": 3214,
    "start_time": "2022-07-20T08:36:23.832Z"
   },
   {
    "duration": 21,
    "start_time": "2022-07-20T08:48:33.101Z"
   },
   {
    "duration": 3,
    "start_time": "2022-07-20T08:48:47.582Z"
   },
   {
    "duration": 260,
    "start_time": "2022-07-20T08:48:47.587Z"
   },
   {
    "duration": 35,
    "start_time": "2022-07-20T08:48:47.849Z"
   },
   {
    "duration": 65,
    "start_time": "2022-07-20T08:48:47.885Z"
   },
   {
    "duration": 93,
    "start_time": "2022-07-20T08:48:47.953Z"
   },
   {
    "duration": 15,
    "start_time": "2022-07-20T08:48:48.048Z"
   },
   {
    "duration": 285,
    "start_time": "2022-07-20T08:48:48.064Z"
   },
   {
    "duration": 10,
    "start_time": "2022-07-20T08:48:48.351Z"
   },
   {
    "duration": 0,
    "start_time": "2022-07-20T08:48:48.362Z"
   },
   {
    "duration": 375,
    "start_time": "2022-07-20T08:49:16.732Z"
   },
   {
    "duration": 243,
    "start_time": "2022-07-20T08:49:42.533Z"
   },
   {
    "duration": 182886,
    "start_time": "2022-07-20T08:50:01.251Z"
   },
   {
    "duration": 32,
    "start_time": "2022-07-20T08:53:47.873Z"
   },
   {
    "duration": 336,
    "start_time": "2022-07-20T08:53:55.232Z"
   },
   {
    "duration": 1430,
    "start_time": "2022-07-20T08:56:41.053Z"
   },
   {
    "duration": 282,
    "start_time": "2022-07-20T08:56:42.485Z"
   },
   {
    "duration": 51,
    "start_time": "2022-07-20T08:56:42.768Z"
   },
   {
    "duration": 51,
    "start_time": "2022-07-20T08:56:42.820Z"
   },
   {
    "duration": 98,
    "start_time": "2022-07-20T08:56:42.874Z"
   },
   {
    "duration": 17,
    "start_time": "2022-07-20T08:56:42.974Z"
   },
   {
    "duration": 164,
    "start_time": "2022-07-20T08:56:42.993Z"
   },
   {
    "duration": 241,
    "start_time": "2022-07-20T08:56:43.159Z"
   },
   {
    "duration": 6534,
    "start_time": "2022-07-20T08:56:43.402Z"
   },
   {
    "duration": 1600,
    "start_time": "2022-07-20T08:56:49.938Z"
   },
   {
    "duration": 5451,
    "start_time": "2022-07-20T08:57:13.694Z"
   },
   {
    "duration": 1603,
    "start_time": "2022-07-20T08:57:19.148Z"
   },
   {
    "duration": 1200,
    "start_time": "2022-07-20T08:57:36.705Z"
   },
   {
    "duration": 130,
    "start_time": "2022-07-20T08:57:52.931Z"
   },
   {
    "duration": 4,
    "start_time": "2022-07-20T09:02:22.745Z"
   },
   {
    "duration": 6,
    "start_time": "2022-07-20T09:32:10.387Z"
   },
   {
    "duration": 5,
    "start_time": "2022-07-20T09:32:49.446Z"
   },
   {
    "duration": 1706,
    "start_time": "2022-07-20T09:35:09.808Z"
   },
   {
    "duration": 11,
    "start_time": "2022-07-20T09:35:24.680Z"
   },
   {
    "duration": 16,
    "start_time": "2022-07-20T10:07:51.363Z"
   },
   {
    "duration": 16,
    "start_time": "2022-07-20T10:08:30.237Z"
   },
   {
    "duration": 174,
    "start_time": "2022-07-20T10:12:01.275Z"
   },
   {
    "duration": 3,
    "start_time": "2022-07-20T10:15:19.628Z"
   },
   {
    "duration": 232,
    "start_time": "2022-07-20T10:15:19.633Z"
   },
   {
    "duration": 41,
    "start_time": "2022-07-20T10:15:19.868Z"
   },
   {
    "duration": 42,
    "start_time": "2022-07-20T10:15:19.911Z"
   },
   {
    "duration": 251,
    "start_time": "2022-07-20T10:15:19.956Z"
   },
   {
    "duration": 0,
    "start_time": "2022-07-20T10:15:20.208Z"
   },
   {
    "duration": 0,
    "start_time": "2022-07-20T10:15:20.209Z"
   },
   {
    "duration": 0,
    "start_time": "2022-07-20T10:15:20.210Z"
   },
   {
    "duration": 0,
    "start_time": "2022-07-20T10:15:20.211Z"
   },
   {
    "duration": 0,
    "start_time": "2022-07-20T10:15:20.212Z"
   },
   {
    "duration": 0,
    "start_time": "2022-07-20T10:15:20.213Z"
   },
   {
    "duration": 0,
    "start_time": "2022-07-20T10:15:20.215Z"
   },
   {
    "duration": 73,
    "start_time": "2022-07-20T10:15:32.888Z"
   },
   {
    "duration": 3,
    "start_time": "2022-07-20T10:15:35.702Z"
   },
   {
    "duration": 220,
    "start_time": "2022-07-20T10:15:35.708Z"
   },
   {
    "duration": 34,
    "start_time": "2022-07-20T10:15:35.930Z"
   },
   {
    "duration": 63,
    "start_time": "2022-07-20T10:15:35.966Z"
   },
   {
    "duration": 82,
    "start_time": "2022-07-20T10:15:36.032Z"
   },
   {
    "duration": 13,
    "start_time": "2022-07-20T10:15:36.116Z"
   },
   {
    "duration": 51,
    "start_time": "2022-07-20T10:15:36.131Z"
   },
   {
    "duration": 69,
    "start_time": "2022-07-20T10:15:36.184Z"
   },
   {
    "duration": 225,
    "start_time": "2022-07-20T10:15:36.255Z"
   },
   {
    "duration": 4447,
    "start_time": "2022-07-20T10:15:36.481Z"
   },
   {
    "duration": 295,
    "start_time": "2022-07-20T10:15:40.931Z"
   },
   {
    "duration": 4,
    "start_time": "2022-07-20T10:15:41.227Z"
   },
   {
    "duration": 3,
    "start_time": "2022-07-20T10:27:40.417Z"
   },
   {
    "duration": 4,
    "start_time": "2022-07-20T10:30:16.064Z"
   },
   {
    "duration": 129,
    "start_time": "2022-07-20T10:59:55.569Z"
   },
   {
    "duration": 10,
    "start_time": "2022-07-20T11:00:03.216Z"
   },
   {
    "duration": 23,
    "start_time": "2022-07-20T11:00:21.937Z"
   },
   {
    "duration": 13,
    "start_time": "2022-07-20T11:00:48.685Z"
   },
   {
    "duration": 23,
    "start_time": "2022-07-20T11:00:51.686Z"
   },
   {
    "duration": 11,
    "start_time": "2022-07-20T12:11:58.198Z"
   },
   {
    "duration": 85,
    "start_time": "2022-07-20T12:12:56.328Z"
   },
   {
    "duration": 92,
    "start_time": "2022-07-20T12:13:00.348Z"
   },
   {
    "duration": 52,
    "start_time": "2022-07-20T12:15:39.706Z"
   },
   {
    "duration": 4,
    "start_time": "2022-07-20T12:15:57.927Z"
   },
   {
    "duration": 250,
    "start_time": "2022-07-20T12:15:57.934Z"
   },
   {
    "duration": 37,
    "start_time": "2022-07-20T12:15:58.186Z"
   },
   {
    "duration": 61,
    "start_time": "2022-07-20T12:15:58.225Z"
   },
   {
    "duration": 87,
    "start_time": "2022-07-20T12:15:58.288Z"
   },
   {
    "duration": 11,
    "start_time": "2022-07-20T12:15:58.377Z"
   },
   {
    "duration": 38,
    "start_time": "2022-07-20T12:15:58.390Z"
   },
   {
    "duration": 93,
    "start_time": "2022-07-20T12:15:58.430Z"
   },
   {
    "duration": 251,
    "start_time": "2022-07-20T12:15:58.525Z"
   },
   {
    "duration": 122,
    "start_time": "2022-07-20T12:15:58.778Z"
   },
   {
    "duration": 3,
    "start_time": "2022-07-20T12:15:58.910Z"
   },
   {
    "duration": 18,
    "start_time": "2022-07-20T12:15:58.916Z"
   },
   {
    "duration": 76,
    "start_time": "2022-07-20T12:15:58.936Z"
   },
   {
    "duration": 1381,
    "start_time": "2022-07-20T12:16:38.446Z"
   },
   {
    "duration": 801,
    "start_time": "2022-07-20T12:20:24.014Z"
   },
   {
    "duration": 1671,
    "start_time": "2022-07-20T12:26:01.482Z"
   },
   {
    "duration": 252,
    "start_time": "2022-07-20T12:26:03.156Z"
   },
   {
    "duration": 40,
    "start_time": "2022-07-20T12:26:03.410Z"
   },
   {
    "duration": 67,
    "start_time": "2022-07-20T12:26:03.453Z"
   },
   {
    "duration": 101,
    "start_time": "2022-07-20T12:26:03.522Z"
   },
   {
    "duration": 14,
    "start_time": "2022-07-20T12:26:03.625Z"
   },
   {
    "duration": 39,
    "start_time": "2022-07-20T12:26:03.641Z"
   },
   {
    "duration": 127,
    "start_time": "2022-07-20T12:26:03.682Z"
   },
   {
    "duration": 122,
    "start_time": "2022-07-20T12:26:03.811Z"
   },
   {
    "duration": 0,
    "start_time": "2022-07-20T12:26:03.935Z"
   },
   {
    "duration": 0,
    "start_time": "2022-07-20T12:26:03.936Z"
   },
   {
    "duration": 0,
    "start_time": "2022-07-20T12:26:03.938Z"
   },
   {
    "duration": 0,
    "start_time": "2022-07-20T12:26:03.939Z"
   },
   {
    "duration": 260,
    "start_time": "2022-07-20T12:27:07.884Z"
   },
   {
    "duration": 1387,
    "start_time": "2022-07-20T12:27:16.572Z"
   },
   {
    "duration": 246,
    "start_time": "2022-07-20T12:27:17.963Z"
   },
   {
    "duration": 36,
    "start_time": "2022-07-20T12:27:18.211Z"
   },
   {
    "duration": 60,
    "start_time": "2022-07-20T12:27:18.249Z"
   },
   {
    "duration": 97,
    "start_time": "2022-07-20T12:27:18.312Z"
   },
   {
    "duration": 14,
    "start_time": "2022-07-20T12:27:18.411Z"
   },
   {
    "duration": 38,
    "start_time": "2022-07-20T12:27:18.426Z"
   },
   {
    "duration": 118,
    "start_time": "2022-07-20T12:27:18.466Z"
   },
   {
    "duration": 261,
    "start_time": "2022-07-20T12:27:18.586Z"
   },
   {
    "duration": 131,
    "start_time": "2022-07-20T12:27:18.848Z"
   },
   {
    "duration": 4,
    "start_time": "2022-07-20T12:27:18.980Z"
   },
   {
    "duration": 9,
    "start_time": "2022-07-20T12:27:18.986Z"
   },
   {
    "duration": 195,
    "start_time": "2022-07-20T12:27:18.997Z"
   },
   {
    "duration": 64,
    "start_time": "2022-07-20T12:28:49.015Z"
   },
   {
    "duration": 157,
    "start_time": "2022-07-20T12:31:03.784Z"
   },
   {
    "duration": 17,
    "start_time": "2022-07-20T12:31:08.654Z"
   },
   {
    "duration": 5,
    "start_time": "2022-07-20T12:31:17.443Z"
   },
   {
    "duration": 293,
    "start_time": "2022-07-20T12:31:17.450Z"
   },
   {
    "duration": 36,
    "start_time": "2022-07-20T12:31:17.745Z"
   },
   {
    "duration": 60,
    "start_time": "2022-07-20T12:31:17.783Z"
   },
   {
    "duration": 85,
    "start_time": "2022-07-20T12:31:17.844Z"
   },
   {
    "duration": 15,
    "start_time": "2022-07-20T12:31:17.931Z"
   },
   {
    "duration": 106,
    "start_time": "2022-07-20T12:31:17.948Z"
   },
   {
    "duration": 33,
    "start_time": "2022-07-20T12:31:18.056Z"
   },
   {
    "duration": 265,
    "start_time": "2022-07-20T12:31:18.092Z"
   },
   {
    "duration": 116,
    "start_time": "2022-07-20T12:31:18.359Z"
   },
   {
    "duration": 4,
    "start_time": "2022-07-20T12:31:18.477Z"
   },
   {
    "duration": 28,
    "start_time": "2022-07-20T12:31:18.482Z"
   },
   {
    "duration": 99,
    "start_time": "2022-07-20T12:31:18.511Z"
   },
   {
    "duration": 0,
    "start_time": "2022-07-20T12:31:18.612Z"
   },
   {
    "duration": 17,
    "start_time": "2022-07-20T12:32:13.706Z"
   },
   {
    "duration": 4,
    "start_time": "2022-07-20T12:32:21.956Z"
   },
   {
    "duration": 226,
    "start_time": "2022-07-20T12:32:21.962Z"
   },
   {
    "duration": 43,
    "start_time": "2022-07-20T12:32:22.190Z"
   },
   {
    "duration": 43,
    "start_time": "2022-07-20T12:32:22.235Z"
   },
   {
    "duration": 92,
    "start_time": "2022-07-20T12:32:22.280Z"
   },
   {
    "duration": 14,
    "start_time": "2022-07-20T12:32:22.374Z"
   },
   {
    "duration": 97,
    "start_time": "2022-07-20T12:32:22.389Z"
   },
   {
    "duration": 49,
    "start_time": "2022-07-20T12:32:22.488Z"
   },
   {
    "duration": 248,
    "start_time": "2022-07-20T12:32:22.539Z"
   },
   {
    "duration": 123,
    "start_time": "2022-07-20T12:32:22.789Z"
   },
   {
    "duration": 4,
    "start_time": "2022-07-20T12:32:22.913Z"
   },
   {
    "duration": 16,
    "start_time": "2022-07-20T12:32:22.919Z"
   },
   {
    "duration": 123,
    "start_time": "2022-07-20T12:32:22.937Z"
   },
   {
    "duration": 0,
    "start_time": "2022-07-20T12:32:23.062Z"
   },
   {
    "duration": 16,
    "start_time": "2022-07-20T12:33:39.103Z"
   },
   {
    "duration": 3,
    "start_time": "2022-07-20T12:33:42.074Z"
   },
   {
    "duration": 240,
    "start_time": "2022-07-20T12:33:42.080Z"
   },
   {
    "duration": 36,
    "start_time": "2022-07-20T12:33:42.323Z"
   },
   {
    "duration": 78,
    "start_time": "2022-07-20T12:33:42.361Z"
   },
   {
    "duration": 110,
    "start_time": "2022-07-20T12:33:42.441Z"
   },
   {
    "duration": 16,
    "start_time": "2022-07-20T12:33:42.553Z"
   },
   {
    "duration": 157,
    "start_time": "2022-07-20T12:33:42.571Z"
   },
   {
    "duration": 28,
    "start_time": "2022-07-20T12:33:42.730Z"
   },
   {
    "duration": 306,
    "start_time": "2022-07-20T12:33:42.761Z"
   },
   {
    "duration": 124,
    "start_time": "2022-07-20T12:33:43.069Z"
   },
   {
    "duration": 4,
    "start_time": "2022-07-20T12:33:43.195Z"
   },
   {
    "duration": 18,
    "start_time": "2022-07-20T12:33:43.214Z"
   },
   {
    "duration": 116,
    "start_time": "2022-07-20T12:33:43.233Z"
   },
   {
    "duration": 0,
    "start_time": "2022-07-20T12:33:43.350Z"
   },
   {
    "duration": 23,
    "start_time": "2022-07-20T12:34:11.216Z"
   },
   {
    "duration": 4,
    "start_time": "2022-07-20T12:34:14.745Z"
   },
   {
    "duration": 251,
    "start_time": "2022-07-20T12:34:14.751Z"
   },
   {
    "duration": 47,
    "start_time": "2022-07-20T12:34:15.004Z"
   },
   {
    "duration": 149,
    "start_time": "2022-07-20T12:34:15.053Z"
   },
   {
    "duration": 84,
    "start_time": "2022-07-20T12:34:15.211Z"
   },
   {
    "duration": 26,
    "start_time": "2022-07-20T12:34:15.309Z"
   },
   {
    "duration": 198,
    "start_time": "2022-07-20T12:34:15.337Z"
   },
   {
    "duration": 27,
    "start_time": "2022-07-20T12:34:15.536Z"
   },
   {
    "duration": 284,
    "start_time": "2022-07-20T12:34:15.565Z"
   },
   {
    "duration": 120,
    "start_time": "2022-07-20T12:34:15.850Z"
   },
   {
    "duration": 5,
    "start_time": "2022-07-20T12:34:15.972Z"
   },
   {
    "duration": 10,
    "start_time": "2022-07-20T12:34:15.979Z"
   },
   {
    "duration": 170,
    "start_time": "2022-07-20T12:34:15.992Z"
   },
   {
    "duration": 0,
    "start_time": "2022-07-20T12:34:16.164Z"
   },
   {
    "duration": 4,
    "start_time": "2022-07-20T12:35:07.960Z"
   },
   {
    "duration": 274,
    "start_time": "2022-07-20T12:35:07.966Z"
   },
   {
    "duration": 50,
    "start_time": "2022-07-20T12:35:08.242Z"
   },
   {
    "duration": 64,
    "start_time": "2022-07-20T12:35:08.294Z"
   },
   {
    "duration": 139,
    "start_time": "2022-07-20T12:35:08.361Z"
   },
   {
    "duration": 25,
    "start_time": "2022-07-20T12:35:08.502Z"
   },
   {
    "duration": 209,
    "start_time": "2022-07-20T12:35:08.530Z"
   },
   {
    "duration": 26,
    "start_time": "2022-07-20T12:35:08.741Z"
   },
   {
    "duration": 321,
    "start_time": "2022-07-20T12:35:08.770Z"
   },
   {
    "duration": 141,
    "start_time": "2022-07-20T12:35:09.092Z"
   },
   {
    "duration": 4,
    "start_time": "2022-07-20T12:35:09.235Z"
   },
   {
    "duration": 12,
    "start_time": "2022-07-20T12:35:09.240Z"
   },
   {
    "duration": 623,
    "start_time": "2022-07-20T12:35:09.255Z"
   },
   {
    "duration": 553,
    "start_time": "2022-07-20T12:35:09.880Z"
   },
   {
    "duration": 474,
    "start_time": "2022-07-20T12:36:08.664Z"
   },
   {
    "duration": 122,
    "start_time": "2022-07-20T12:39:15.375Z"
   },
   {
    "duration": 8221,
    "start_time": "2022-07-20T12:39:23.104Z"
   },
   {
    "duration": 16,
    "start_time": "2022-07-20T12:41:21.993Z"
   },
   {
    "duration": 14,
    "start_time": "2022-07-20T12:41:30.394Z"
   },
   {
    "duration": 42,
    "start_time": "2022-07-20T12:42:02.104Z"
   },
   {
    "duration": 42,
    "start_time": "2022-07-20T12:52:53.146Z"
   },
   {
    "duration": 4,
    "start_time": "2022-07-20T12:56:54.794Z"
   },
   {
    "duration": 6,
    "start_time": "2022-07-20T12:57:21.940Z"
   },
   {
    "duration": 21,
    "start_time": "2022-07-20T12:57:52.084Z"
   },
   {
    "duration": 5,
    "start_time": "2022-07-20T12:58:11.645Z"
   },
   {
    "duration": 280,
    "start_time": "2022-07-20T12:58:11.653Z"
   },
   {
    "duration": 49,
    "start_time": "2022-07-20T12:58:11.935Z"
   },
   {
    "duration": 72,
    "start_time": "2022-07-20T12:58:12.009Z"
   },
   {
    "duration": 134,
    "start_time": "2022-07-20T12:58:12.084Z"
   },
   {
    "duration": 24,
    "start_time": "2022-07-20T12:58:12.220Z"
   },
   {
    "duration": 265,
    "start_time": "2022-07-20T12:58:12.247Z"
   },
   {
    "duration": 18,
    "start_time": "2022-07-20T12:58:12.515Z"
   },
   {
    "duration": 37,
    "start_time": "2022-07-20T12:58:12.536Z"
   },
   {
    "duration": 34,
    "start_time": "2022-07-20T12:58:12.576Z"
   },
   {
    "duration": 19,
    "start_time": "2022-07-20T12:58:12.612Z"
   },
   {
    "duration": 12,
    "start_time": "2022-07-20T12:58:12.633Z"
   },
   {
    "duration": 271,
    "start_time": "2022-07-20T12:58:12.647Z"
   },
   {
    "duration": 127,
    "start_time": "2022-07-20T12:58:12.920Z"
   },
   {
    "duration": 4,
    "start_time": "2022-07-20T12:58:13.049Z"
   },
   {
    "duration": 9,
    "start_time": "2022-07-20T12:58:13.055Z"
   },
   {
    "duration": 54,
    "start_time": "2022-07-20T12:58:13.066Z"
   },
   {
    "duration": 481,
    "start_time": "2022-07-20T12:58:22.040Z"
   },
   {
    "duration": 6,
    "start_time": "2022-07-20T12:59:05.340Z"
   },
   {
    "duration": 1120,
    "start_time": "2022-07-20T12:59:09.924Z"
   },
   {
    "duration": 914,
    "start_time": "2022-07-20T13:11:50.435Z"
   },
   {
    "duration": 963,
    "start_time": "2022-07-20T13:12:15.405Z"
   },
   {
    "duration": 1143,
    "start_time": "2022-07-20T13:12:37.134Z"
   },
   {
    "duration": 3274,
    "start_time": "2022-07-20T13:13:31.804Z"
   },
   {
    "duration": 599,
    "start_time": "2022-07-20T13:15:36.081Z"
   },
   {
    "duration": 636,
    "start_time": "2022-07-20T13:15:52.823Z"
   },
   {
    "duration": 227530,
    "start_time": "2022-07-20T13:16:44.862Z"
   },
   {
    "duration": 67,
    "start_time": "2022-07-20T13:20:32.395Z"
   },
   {
    "duration": 930,
    "start_time": "2022-07-20T13:21:15.774Z"
   },
   {
    "duration": 139,
    "start_time": "2022-07-20T13:21:37.793Z"
   },
   {
    "duration": 940,
    "start_time": "2022-07-20T13:21:56.162Z"
   },
   {
    "duration": 1126,
    "start_time": "2022-07-20T13:22:10.223Z"
   },
   {
    "duration": 839,
    "start_time": "2022-07-20T13:22:25.973Z"
   },
   {
    "duration": 1044,
    "start_time": "2022-07-20T13:22:36.553Z"
   },
   {
    "duration": 1208,
    "start_time": "2022-07-20T13:24:08.452Z"
   },
   {
    "duration": 613,
    "start_time": "2022-07-20T13:27:14.993Z"
   },
   {
    "duration": 4,
    "start_time": "2022-07-20T13:32:09.559Z"
   },
   {
    "duration": 2186,
    "start_time": "2022-07-20T13:33:59.773Z"
   },
   {
    "duration": 1960,
    "start_time": "2022-07-20T13:35:25.628Z"
   },
   {
    "duration": 2012,
    "start_time": "2022-07-20T13:37:43.676Z"
   },
   {
    "duration": 1940,
    "start_time": "2022-07-20T13:38:27.663Z"
   },
   {
    "duration": 673,
    "start_time": "2022-07-20T13:38:31.157Z"
   },
   {
    "duration": 2225,
    "start_time": "2022-07-20T13:41:01.912Z"
   },
   {
    "duration": 3191,
    "start_time": "2022-07-20T13:41:43.359Z"
   },
   {
    "duration": 630,
    "start_time": "2022-07-20T13:41:54.435Z"
   },
   {
    "duration": 2008,
    "start_time": "2022-07-20T13:42:06.432Z"
   },
   {
    "duration": 1466,
    "start_time": "2022-07-20T13:42:36.576Z"
   },
   {
    "duration": 270,
    "start_time": "2022-07-20T13:42:38.044Z"
   },
   {
    "duration": 44,
    "start_time": "2022-07-20T13:42:38.319Z"
   },
   {
    "duration": 59,
    "start_time": "2022-07-20T13:42:38.365Z"
   },
   {
    "duration": 100,
    "start_time": "2022-07-20T13:42:38.431Z"
   },
   {
    "duration": 25,
    "start_time": "2022-07-20T13:42:38.533Z"
   },
   {
    "duration": 222,
    "start_time": "2022-07-20T13:42:38.560Z"
   },
   {
    "duration": 38,
    "start_time": "2022-07-20T13:42:38.784Z"
   },
   {
    "duration": 42,
    "start_time": "2022-07-20T13:42:38.833Z"
   },
   {
    "duration": 6,
    "start_time": "2022-07-20T13:42:38.877Z"
   },
   {
    "duration": 36,
    "start_time": "2022-07-20T13:42:38.884Z"
   },
   {
    "duration": 23,
    "start_time": "2022-07-20T13:42:38.931Z"
   },
   {
    "duration": 325,
    "start_time": "2022-07-20T13:42:38.958Z"
   },
   {
    "duration": 156,
    "start_time": "2022-07-20T13:42:39.286Z"
   },
   {
    "duration": 3,
    "start_time": "2022-07-20T13:42:39.450Z"
   },
   {
    "duration": 6,
    "start_time": "2022-07-20T13:42:39.455Z"
   },
   {
    "duration": 3396,
    "start_time": "2022-07-20T13:42:39.463Z"
   },
   {
    "duration": 2794,
    "start_time": "2022-07-20T13:42:42.919Z"
   },
   {
    "duration": 3216,
    "start_time": "2022-07-20T13:42:45.717Z"
   },
   {
    "duration": 663,
    "start_time": "2022-07-20T13:42:48.937Z"
   },
   {
    "duration": 303,
    "start_time": "2022-07-20T13:42:49.601Z"
   },
   {
    "duration": 0,
    "start_time": "2022-07-20T13:42:49.906Z"
   },
   {
    "duration": 0,
    "start_time": "2022-07-20T13:42:49.909Z"
   },
   {
    "duration": 603,
    "start_time": "2022-07-20T13:43:27.162Z"
   },
   {
    "duration": 2320,
    "start_time": "2022-07-20T13:43:51.700Z"
   },
   {
    "duration": 473,
    "start_time": "2022-07-20T13:43:58.359Z"
   },
   {
    "duration": 1016,
    "start_time": "2022-07-20T13:44:08.901Z"
   },
   {
    "duration": 1374,
    "start_time": "2022-07-20T13:45:52.569Z"
   },
   {
    "duration": 5477,
    "start_time": "2022-07-20T13:50:55.361Z"
   },
   {
    "duration": 5174,
    "start_time": "2022-07-20T13:52:21.442Z"
   },
   {
    "duration": 936,
    "start_time": "2022-07-20T13:52:48.991Z"
   },
   {
    "duration": 3377,
    "start_time": "2022-07-20T13:53:28.162Z"
   },
   {
    "duration": 11374,
    "start_time": "2022-07-20T14:55:35.766Z"
   },
   {
    "duration": 1490,
    "start_time": "2022-07-20T14:57:00.464Z"
   },
   {
    "duration": 239,
    "start_time": "2022-07-20T14:57:01.956Z"
   },
   {
    "duration": 36,
    "start_time": "2022-07-20T14:57:02.196Z"
   },
   {
    "duration": 46,
    "start_time": "2022-07-20T14:57:02.233Z"
   },
   {
    "duration": 100,
    "start_time": "2022-07-20T14:57:02.281Z"
   },
   {
    "duration": 14,
    "start_time": "2022-07-20T14:57:02.383Z"
   },
   {
    "duration": 2469,
    "start_time": "2022-07-20T14:57:02.399Z"
   },
   {
    "duration": 270,
    "start_time": "2022-07-20T14:57:04.869Z"
   },
   {
    "duration": 17,
    "start_time": "2022-07-20T14:57:05.141Z"
   },
   {
    "duration": 24,
    "start_time": "2022-07-20T14:57:05.160Z"
   },
   {
    "duration": 26,
    "start_time": "2022-07-20T14:57:05.186Z"
   },
   {
    "duration": 15,
    "start_time": "2022-07-20T14:57:05.214Z"
   },
   {
    "duration": 257,
    "start_time": "2022-07-20T14:57:05.231Z"
   },
   {
    "duration": 120,
    "start_time": "2022-07-20T14:57:05.492Z"
   },
   {
    "duration": 3,
    "start_time": "2022-07-20T14:57:05.614Z"
   },
   {
    "duration": 9,
    "start_time": "2022-07-20T14:57:05.619Z"
   },
   {
    "duration": 55,
    "start_time": "2022-07-20T14:57:05.629Z"
   },
   {
    "duration": 0,
    "start_time": "2022-07-20T14:57:05.685Z"
   },
   {
    "duration": 0,
    "start_time": "2022-07-20T14:57:05.687Z"
   },
   {
    "duration": 0,
    "start_time": "2022-07-20T14:57:05.688Z"
   },
   {
    "duration": 0,
    "start_time": "2022-07-20T14:57:05.690Z"
   },
   {
    "duration": 0,
    "start_time": "2022-07-20T14:57:05.691Z"
   },
   {
    "duration": 0,
    "start_time": "2022-07-20T14:57:05.693Z"
   },
   {
    "duration": 0,
    "start_time": "2022-07-20T14:57:05.694Z"
   },
   {
    "duration": 5,
    "start_time": "2022-07-20T15:10:00.672Z"
   },
   {
    "duration": 4,
    "start_time": "2022-07-20T15:10:24.271Z"
   },
   {
    "duration": 136,
    "start_time": "2022-07-20T15:13:50.970Z"
   },
   {
    "duration": 11,
    "start_time": "2022-07-20T15:15:01.223Z"
   },
   {
    "duration": 10,
    "start_time": "2022-07-20T15:15:19.925Z"
   },
   {
    "duration": 3,
    "start_time": "2022-07-20T15:15:25.904Z"
   },
   {
    "duration": 273,
    "start_time": "2022-07-20T15:15:25.912Z"
   },
   {
    "duration": 46,
    "start_time": "2022-07-20T15:15:26.187Z"
   },
   {
    "duration": 54,
    "start_time": "2022-07-20T15:15:26.234Z"
   },
   {
    "duration": 96,
    "start_time": "2022-07-20T15:15:26.290Z"
   },
   {
    "duration": 21,
    "start_time": "2022-07-20T15:15:26.388Z"
   },
   {
    "duration": 4136,
    "start_time": "2022-07-20T15:15:26.412Z"
   },
   {
    "duration": 5,
    "start_time": "2022-07-20T15:15:30.550Z"
   },
   {
    "duration": 4,
    "start_time": "2022-07-20T15:15:30.610Z"
   },
   {
    "duration": 1424,
    "start_time": "2022-07-20T15:15:30.616Z"
   },
   {
    "duration": 304,
    "start_time": "2022-07-20T15:15:32.044Z"
   },
   {
    "duration": 0,
    "start_time": "2022-07-20T15:15:32.350Z"
   },
   {
    "duration": 0,
    "start_time": "2022-07-20T15:15:32.351Z"
   },
   {
    "duration": 0,
    "start_time": "2022-07-20T15:15:32.352Z"
   },
   {
    "duration": 0,
    "start_time": "2022-07-20T15:15:32.353Z"
   },
   {
    "duration": 0,
    "start_time": "2022-07-20T15:15:32.354Z"
   },
   {
    "duration": 0,
    "start_time": "2022-07-20T15:15:32.355Z"
   },
   {
    "duration": 0,
    "start_time": "2022-07-20T15:15:32.356Z"
   },
   {
    "duration": 0,
    "start_time": "2022-07-20T15:15:32.357Z"
   },
   {
    "duration": 0,
    "start_time": "2022-07-20T15:15:32.358Z"
   },
   {
    "duration": 0,
    "start_time": "2022-07-20T15:15:32.359Z"
   },
   {
    "duration": 0,
    "start_time": "2022-07-20T15:15:32.360Z"
   },
   {
    "duration": 0,
    "start_time": "2022-07-20T15:15:32.361Z"
   },
   {
    "duration": 1,
    "start_time": "2022-07-20T15:15:32.361Z"
   },
   {
    "duration": 0,
    "start_time": "2022-07-20T15:15:32.363Z"
   },
   {
    "duration": 0,
    "start_time": "2022-07-20T15:15:32.364Z"
   },
   {
    "duration": 0,
    "start_time": "2022-07-20T15:15:32.365Z"
   },
   {
    "duration": 548,
    "start_time": "2022-07-20T15:16:55.614Z"
   },
   {
    "duration": 3,
    "start_time": "2022-07-20T15:18:03.625Z"
   },
   {
    "duration": 67,
    "start_time": "2022-07-20T15:18:04.292Z"
   },
   {
    "duration": 4,
    "start_time": "2022-07-20T15:18:25.682Z"
   },
   {
    "duration": 449,
    "start_time": "2022-07-20T15:18:27.457Z"
   },
   {
    "duration": 3,
    "start_time": "2022-07-20T15:19:15.153Z"
   },
   {
    "duration": 58,
    "start_time": "2022-07-20T15:19:15.864Z"
   },
   {
    "duration": 0,
    "start_time": "2022-07-20T15:19:35.961Z"
   },
   {
    "duration": 0,
    "start_time": "2022-07-20T15:19:35.963Z"
   },
   {
    "duration": 0,
    "start_time": "2022-07-20T15:19:35.964Z"
   },
   {
    "duration": 0,
    "start_time": "2022-07-20T15:19:35.966Z"
   },
   {
    "duration": 0,
    "start_time": "2022-07-20T15:19:35.967Z"
   },
   {
    "duration": 0,
    "start_time": "2022-07-20T15:19:35.968Z"
   },
   {
    "duration": 0,
    "start_time": "2022-07-20T15:19:36.012Z"
   },
   {
    "duration": 0,
    "start_time": "2022-07-20T15:19:36.013Z"
   },
   {
    "duration": 0,
    "start_time": "2022-07-20T15:19:36.014Z"
   },
   {
    "duration": 0,
    "start_time": "2022-07-20T15:19:36.015Z"
   },
   {
    "duration": 1,
    "start_time": "2022-07-20T15:19:36.015Z"
   },
   {
    "duration": 0,
    "start_time": "2022-07-20T15:19:36.016Z"
   },
   {
    "duration": 0,
    "start_time": "2022-07-20T15:19:36.017Z"
   },
   {
    "duration": 0,
    "start_time": "2022-07-20T15:19:36.018Z"
   },
   {
    "duration": 0,
    "start_time": "2022-07-20T15:19:36.021Z"
   },
   {
    "duration": 0,
    "start_time": "2022-07-20T15:19:36.022Z"
   },
   {
    "duration": 0,
    "start_time": "2022-07-20T15:19:36.023Z"
   },
   {
    "duration": 0,
    "start_time": "2022-07-20T15:19:36.024Z"
   },
   {
    "duration": 0,
    "start_time": "2022-07-20T15:19:36.026Z"
   },
   {
    "duration": 0,
    "start_time": "2022-07-20T15:19:36.027Z"
   },
   {
    "duration": 0,
    "start_time": "2022-07-20T15:19:36.028Z"
   },
   {
    "duration": 0,
    "start_time": "2022-07-20T15:19:36.029Z"
   },
   {
    "duration": 0,
    "start_time": "2022-07-20T15:19:36.030Z"
   },
   {
    "duration": 0,
    "start_time": "2022-07-20T15:19:36.031Z"
   },
   {
    "duration": 0,
    "start_time": "2022-07-20T15:19:36.033Z"
   },
   {
    "duration": 0,
    "start_time": "2022-07-20T15:19:36.034Z"
   },
   {
    "duration": 0,
    "start_time": "2022-07-20T15:19:36.035Z"
   },
   {
    "duration": 0,
    "start_time": "2022-07-20T15:20:38.453Z"
   },
   {
    "duration": 0,
    "start_time": "2022-07-20T15:20:38.454Z"
   },
   {
    "duration": 0,
    "start_time": "2022-07-20T15:20:38.455Z"
   },
   {
    "duration": 0,
    "start_time": "2022-07-20T15:20:38.456Z"
   },
   {
    "duration": 0,
    "start_time": "2022-07-20T15:20:38.458Z"
   },
   {
    "duration": 0,
    "start_time": "2022-07-20T15:20:38.459Z"
   },
   {
    "duration": 0,
    "start_time": "2022-07-20T15:20:38.460Z"
   },
   {
    "duration": 0,
    "start_time": "2022-07-20T15:20:38.461Z"
   },
   {
    "duration": 0,
    "start_time": "2022-07-20T15:20:38.462Z"
   },
   {
    "duration": 0,
    "start_time": "2022-07-20T15:20:38.463Z"
   },
   {
    "duration": 0,
    "start_time": "2022-07-20T15:20:38.464Z"
   },
   {
    "duration": 0,
    "start_time": "2022-07-20T15:20:38.465Z"
   },
   {
    "duration": 0,
    "start_time": "2022-07-20T15:20:38.510Z"
   },
   {
    "duration": 0,
    "start_time": "2022-07-20T15:20:38.511Z"
   },
   {
    "duration": 0,
    "start_time": "2022-07-20T15:20:38.511Z"
   },
   {
    "duration": 0,
    "start_time": "2022-07-20T15:20:38.512Z"
   },
   {
    "duration": 0,
    "start_time": "2022-07-20T15:20:38.513Z"
   },
   {
    "duration": 0,
    "start_time": "2022-07-20T15:20:38.514Z"
   },
   {
    "duration": 0,
    "start_time": "2022-07-20T15:20:38.515Z"
   },
   {
    "duration": 0,
    "start_time": "2022-07-20T15:20:38.516Z"
   },
   {
    "duration": 0,
    "start_time": "2022-07-20T15:20:38.517Z"
   },
   {
    "duration": 0,
    "start_time": "2022-07-20T15:20:38.518Z"
   },
   {
    "duration": 0,
    "start_time": "2022-07-20T15:20:38.519Z"
   },
   {
    "duration": 0,
    "start_time": "2022-07-20T15:20:38.520Z"
   },
   {
    "duration": 0,
    "start_time": "2022-07-20T15:20:38.521Z"
   },
   {
    "duration": 0,
    "start_time": "2022-07-20T15:20:38.522Z"
   },
   {
    "duration": 0,
    "start_time": "2022-07-20T15:20:38.524Z"
   },
   {
    "duration": 5,
    "start_time": "2022-07-20T15:20:49.265Z"
   },
   {
    "duration": 239,
    "start_time": "2022-07-20T15:20:49.856Z"
   },
   {
    "duration": 36,
    "start_time": "2022-07-20T15:20:51.383Z"
   },
   {
    "duration": 49,
    "start_time": "2022-07-20T15:20:52.651Z"
   },
   {
    "duration": 73,
    "start_time": "2022-07-20T15:20:59.154Z"
   },
   {
    "duration": 14,
    "start_time": "2022-07-20T15:20:59.772Z"
   },
   {
    "duration": 2457,
    "start_time": "2022-07-20T15:21:00.561Z"
   },
   {
    "duration": 4,
    "start_time": "2022-07-20T15:21:03.020Z"
   },
   {
    "duration": 3,
    "start_time": "2022-07-20T15:21:05.150Z"
   },
   {
    "duration": 52,
    "start_time": "2022-07-20T15:21:06.024Z"
   },
   {
    "duration": 5,
    "start_time": "2022-07-20T15:21:51.259Z"
   },
   {
    "duration": 397,
    "start_time": "2022-07-20T15:21:52.492Z"
   },
   {
    "duration": 4,
    "start_time": "2022-07-20T15:23:08.820Z"
   },
   {
    "duration": 444,
    "start_time": "2022-07-20T15:23:11.250Z"
   },
   {
    "duration": 46,
    "start_time": "2022-07-20T15:34:12.234Z"
   },
   {
    "duration": 5,
    "start_time": "2022-07-20T15:34:37.056Z"
   },
   {
    "duration": 82,
    "start_time": "2022-07-20T15:35:48.073Z"
   },
   {
    "duration": 6,
    "start_time": "2022-07-20T15:36:23.054Z"
   },
   {
    "duration": 785,
    "start_time": "2022-07-20T15:36:23.923Z"
   },
   {
    "duration": 833,
    "start_time": "2022-07-20T15:36:49.373Z"
   },
   {
    "duration": 846,
    "start_time": "2022-07-20T15:38:11.929Z"
   },
   {
    "duration": 850,
    "start_time": "2022-07-20T15:39:12.250Z"
   },
   {
    "duration": 7,
    "start_time": "2022-07-20T15:40:55.853Z"
   },
   {
    "duration": 1216,
    "start_time": "2022-07-20T15:40:56.752Z"
   },
   {
    "duration": 11,
    "start_time": "2022-07-20T15:41:20.207Z"
   },
   {
    "duration": 1109,
    "start_time": "2022-07-20T15:41:20.850Z"
   },
   {
    "duration": 85,
    "start_time": "2022-07-20T15:46:34.974Z"
   },
   {
    "duration": 5,
    "start_time": "2022-07-20T15:46:47.054Z"
   },
   {
    "duration": 996,
    "start_time": "2022-07-20T15:46:48.862Z"
   },
   {
    "duration": 5,
    "start_time": "2022-07-20T15:47:35.978Z"
   },
   {
    "duration": 942,
    "start_time": "2022-07-20T15:47:37.662Z"
   },
   {
    "duration": 7,
    "start_time": "2022-07-20T16:03:24.773Z"
   },
   {
    "duration": 1111,
    "start_time": "2022-07-20T16:03:25.373Z"
   },
   {
    "duration": 6,
    "start_time": "2022-07-20T16:04:10.763Z"
   },
   {
    "duration": 775,
    "start_time": "2022-07-20T16:05:09.647Z"
   },
   {
    "duration": 1713,
    "start_time": "2022-07-20T16:05:41.675Z"
   },
   {
    "duration": 5,
    "start_time": "2022-07-20T16:05:54.268Z"
   },
   {
    "duration": 12,
    "start_time": "2022-07-20T16:12:37.650Z"
   },
   {
    "duration": 1715,
    "start_time": "2022-07-20T16:12:49.817Z"
   },
   {
    "duration": 380,
    "start_time": "2022-07-20T16:12:51.536Z"
   },
   {
    "duration": 53,
    "start_time": "2022-07-20T16:12:51.918Z"
   },
   {
    "duration": 76,
    "start_time": "2022-07-20T16:12:51.973Z"
   },
   {
    "duration": 107,
    "start_time": "2022-07-20T16:12:52.051Z"
   },
   {
    "duration": 23,
    "start_time": "2022-07-20T16:12:52.160Z"
   },
   {
    "duration": 2814,
    "start_time": "2022-07-20T16:12:52.185Z"
   },
   {
    "duration": 5,
    "start_time": "2022-07-20T16:12:55.001Z"
   },
   {
    "duration": 55,
    "start_time": "2022-07-20T16:12:55.007Z"
   },
   {
    "duration": 931,
    "start_time": "2022-07-20T16:12:55.064Z"
   },
   {
    "duration": 7,
    "start_time": "2022-07-20T16:12:55.997Z"
   },
   {
    "duration": 1864,
    "start_time": "2022-07-20T16:12:56.005Z"
   },
   {
    "duration": 395,
    "start_time": "2022-07-20T16:12:57.871Z"
   },
   {
    "duration": 0,
    "start_time": "2022-07-20T16:12:58.268Z"
   },
   {
    "duration": 0,
    "start_time": "2022-07-20T16:12:58.270Z"
   },
   {
    "duration": 0,
    "start_time": "2022-07-20T16:12:58.272Z"
   },
   {
    "duration": 0,
    "start_time": "2022-07-20T16:12:58.273Z"
   },
   {
    "duration": 0,
    "start_time": "2022-07-20T16:12:58.275Z"
   },
   {
    "duration": 0,
    "start_time": "2022-07-20T16:12:58.276Z"
   },
   {
    "duration": 0,
    "start_time": "2022-07-20T16:12:58.277Z"
   },
   {
    "duration": 0,
    "start_time": "2022-07-20T16:12:58.279Z"
   },
   {
    "duration": 0,
    "start_time": "2022-07-20T16:12:58.280Z"
   },
   {
    "duration": 0,
    "start_time": "2022-07-20T16:12:58.282Z"
   },
   {
    "duration": 0,
    "start_time": "2022-07-20T16:12:58.283Z"
   },
   {
    "duration": 0,
    "start_time": "2022-07-20T16:12:58.285Z"
   },
   {
    "duration": 0,
    "start_time": "2022-07-20T16:12:58.286Z"
   },
   {
    "duration": 0,
    "start_time": "2022-07-20T16:12:58.287Z"
   },
   {
    "duration": 0,
    "start_time": "2022-07-20T16:12:58.314Z"
   },
   {
    "duration": 209,
    "start_time": "2022-07-20T16:13:43.054Z"
   },
   {
    "duration": 27,
    "start_time": "2022-07-20T16:13:46.633Z"
   },
   {
    "duration": 1540,
    "start_time": "2022-07-20T16:13:55.658Z"
   },
   {
    "duration": 271,
    "start_time": "2022-07-20T16:13:57.200Z"
   },
   {
    "duration": 54,
    "start_time": "2022-07-20T16:13:57.473Z"
   },
   {
    "duration": 48,
    "start_time": "2022-07-20T16:13:57.532Z"
   },
   {
    "duration": 94,
    "start_time": "2022-07-20T16:13:57.584Z"
   },
   {
    "duration": 15,
    "start_time": "2022-07-20T16:13:57.680Z"
   },
   {
    "duration": 2635,
    "start_time": "2022-07-20T16:13:57.710Z"
   },
   {
    "duration": 4,
    "start_time": "2022-07-20T16:14:00.346Z"
   },
   {
    "duration": 28,
    "start_time": "2022-07-20T16:14:00.352Z"
   },
   {
    "duration": 878,
    "start_time": "2022-07-20T16:14:00.382Z"
   },
   {
    "duration": 7,
    "start_time": "2022-07-20T16:14:01.261Z"
   },
   {
    "duration": 1726,
    "start_time": "2022-07-20T16:14:01.270Z"
   },
   {
    "duration": 228,
    "start_time": "2022-07-20T16:14:02.997Z"
   },
   {
    "duration": 28,
    "start_time": "2022-07-20T16:14:03.229Z"
   },
   {
    "duration": 58,
    "start_time": "2022-07-20T16:14:03.259Z"
   },
   {
    "duration": 7,
    "start_time": "2022-07-20T16:14:03.319Z"
   },
   {
    "duration": 39,
    "start_time": "2022-07-20T16:14:03.328Z"
   },
   {
    "duration": 328,
    "start_time": "2022-07-20T16:14:03.369Z"
   },
   {
    "duration": 131,
    "start_time": "2022-07-20T16:14:03.699Z"
   },
   {
    "duration": 6,
    "start_time": "2022-07-20T16:14:03.833Z"
   },
   {
    "duration": 33,
    "start_time": "2022-07-20T16:14:03.844Z"
   },
   {
    "duration": 563,
    "start_time": "2022-07-20T16:14:03.879Z"
   },
   {
    "duration": 233,
    "start_time": "2022-07-20T16:14:04.444Z"
   },
   {
    "duration": 0,
    "start_time": "2022-07-20T16:14:04.679Z"
   },
   {
    "duration": 0,
    "start_time": "2022-07-20T16:14:04.681Z"
   },
   {
    "duration": 0,
    "start_time": "2022-07-20T16:14:04.682Z"
   },
   {
    "duration": 0,
    "start_time": "2022-07-20T16:14:04.683Z"
   },
   {
    "duration": 0,
    "start_time": "2022-07-20T16:14:04.685Z"
   },
   {
    "duration": 17,
    "start_time": "2022-07-20T16:14:57.688Z"
   },
   {
    "duration": 19,
    "start_time": "2022-07-20T16:15:22.521Z"
   },
   {
    "duration": 16,
    "start_time": "2022-07-20T16:16:04.980Z"
   },
   {
    "duration": 1467,
    "start_time": "2022-07-20T16:17:11.529Z"
   },
   {
    "duration": 261,
    "start_time": "2022-07-20T16:17:12.998Z"
   },
   {
    "duration": 69,
    "start_time": "2022-07-20T16:17:13.260Z"
   },
   {
    "duration": 56,
    "start_time": "2022-07-20T16:17:13.331Z"
   },
   {
    "duration": 100,
    "start_time": "2022-07-20T16:17:13.390Z"
   },
   {
    "duration": 34,
    "start_time": "2022-07-20T16:17:13.492Z"
   },
   {
    "duration": 2508,
    "start_time": "2022-07-20T16:17:13.529Z"
   },
   {
    "duration": 6,
    "start_time": "2022-07-20T16:17:16.041Z"
   },
   {
    "duration": 17,
    "start_time": "2022-07-20T16:17:16.048Z"
   },
   {
    "duration": 704,
    "start_time": "2022-07-20T16:17:16.067Z"
   },
   {
    "duration": 90,
    "start_time": "2022-07-20T16:17:16.772Z"
   },
   {
    "duration": 1507,
    "start_time": "2022-07-20T16:17:16.864Z"
   },
   {
    "duration": 205,
    "start_time": "2022-07-20T16:17:18.373Z"
   },
   {
    "duration": 34,
    "start_time": "2022-07-20T16:17:18.581Z"
   },
   {
    "duration": 60,
    "start_time": "2022-07-20T16:17:18.620Z"
   },
   {
    "duration": 6,
    "start_time": "2022-07-20T16:17:18.682Z"
   },
   {
    "duration": 25,
    "start_time": "2022-07-20T16:17:18.690Z"
   },
   {
    "duration": 276,
    "start_time": "2022-07-20T16:17:18.723Z"
   },
   {
    "duration": 125,
    "start_time": "2022-07-20T16:17:19.000Z"
   },
   {
    "duration": 4,
    "start_time": "2022-07-20T16:17:19.130Z"
   },
   {
    "duration": 21,
    "start_time": "2022-07-20T16:17:19.136Z"
   },
   {
    "duration": 502,
    "start_time": "2022-07-20T16:17:19.159Z"
   },
   {
    "duration": 191,
    "start_time": "2022-07-20T16:17:19.663Z"
   },
   {
    "duration": 0,
    "start_time": "2022-07-20T16:17:19.856Z"
   },
   {
    "duration": 0,
    "start_time": "2022-07-20T16:17:19.857Z"
   },
   {
    "duration": 0,
    "start_time": "2022-07-20T16:17:19.858Z"
   },
   {
    "duration": 0,
    "start_time": "2022-07-20T16:17:19.860Z"
   },
   {
    "duration": 0,
    "start_time": "2022-07-20T16:17:19.862Z"
   },
   {
    "duration": 187,
    "start_time": "2022-07-20T16:19:23.873Z"
   },
   {
    "duration": 243,
    "start_time": "2022-07-20T16:20:37.389Z"
   },
   {
    "duration": 13,
    "start_time": "2022-07-20T16:21:06.000Z"
   },
   {
    "duration": 289,
    "start_time": "2022-07-20T16:21:06.014Z"
   },
   {
    "duration": 42,
    "start_time": "2022-07-20T16:21:06.305Z"
   },
   {
    "duration": 52,
    "start_time": "2022-07-20T16:21:06.349Z"
   },
   {
    "duration": 124,
    "start_time": "2022-07-20T16:21:06.403Z"
   },
   {
    "duration": 26,
    "start_time": "2022-07-20T16:21:06.533Z"
   },
   {
    "duration": 2692,
    "start_time": "2022-07-20T16:21:06.561Z"
   },
   {
    "duration": 5,
    "start_time": "2022-07-20T16:21:09.256Z"
   },
   {
    "duration": 7,
    "start_time": "2022-07-20T16:21:09.263Z"
   },
   {
    "duration": 765,
    "start_time": "2022-07-20T16:21:09.272Z"
   },
   {
    "duration": 11,
    "start_time": "2022-07-20T16:21:10.039Z"
   },
   {
    "duration": 1688,
    "start_time": "2022-07-20T16:21:10.052Z"
   },
   {
    "duration": 227,
    "start_time": "2022-07-20T16:21:11.745Z"
   },
   {
    "duration": 22,
    "start_time": "2022-07-20T16:21:11.974Z"
   },
   {
    "duration": 77,
    "start_time": "2022-07-20T16:21:11.999Z"
   },
   {
    "duration": 7,
    "start_time": "2022-07-20T16:21:12.079Z"
   },
   {
    "duration": 17,
    "start_time": "2022-07-20T16:21:12.088Z"
   },
   {
    "duration": 306,
    "start_time": "2022-07-20T16:21:12.108Z"
   },
   {
    "duration": 149,
    "start_time": "2022-07-20T16:21:12.415Z"
   },
   {
    "duration": 3,
    "start_time": "2022-07-20T16:21:12.567Z"
   },
   {
    "duration": 62,
    "start_time": "2022-07-20T16:21:12.572Z"
   },
   {
    "duration": 2474,
    "start_time": "2022-07-20T16:21:12.643Z"
   },
   {
    "duration": 1116,
    "start_time": "2022-07-20T16:21:15.120Z"
   },
   {
    "duration": 2514,
    "start_time": "2022-07-20T16:21:16.242Z"
   },
   {
    "duration": 399,
    "start_time": "2022-07-20T16:21:18.758Z"
   },
   {
    "duration": 538,
    "start_time": "2022-07-20T16:21:19.158Z"
   },
   {
    "duration": 3199,
    "start_time": "2022-07-20T16:21:19.697Z"
   },
   {
    "duration": 1026,
    "start_time": "2022-07-20T16:21:22.897Z"
   },
   {
    "duration": 40,
    "start_time": "2022-07-20T16:23:02.060Z"
   },
   {
    "duration": 5,
    "start_time": "2022-07-20T16:23:59.266Z"
   },
   {
    "duration": 237,
    "start_time": "2022-07-20T16:23:59.274Z"
   },
   {
    "duration": 39,
    "start_time": "2022-07-20T16:23:59.513Z"
   },
   {
    "duration": 43,
    "start_time": "2022-07-20T16:23:59.553Z"
   },
   {
    "duration": 93,
    "start_time": "2022-07-20T16:23:59.598Z"
   },
   {
    "duration": 39,
    "start_time": "2022-07-20T16:23:59.693Z"
   },
   {
    "duration": 2658,
    "start_time": "2022-07-20T16:23:59.734Z"
   },
   {
    "duration": 4,
    "start_time": "2022-07-20T16:24:02.393Z"
   },
   {
    "duration": 45,
    "start_time": "2022-07-20T16:24:02.399Z"
   },
   {
    "duration": 681,
    "start_time": "2022-07-20T16:24:02.446Z"
   },
   {
    "duration": 13,
    "start_time": "2022-07-20T16:24:03.130Z"
   },
   {
    "duration": 2862,
    "start_time": "2022-07-20T16:24:03.145Z"
   },
   {
    "duration": 218,
    "start_time": "2022-07-20T16:24:06.011Z"
   },
   {
    "duration": 22,
    "start_time": "2022-07-20T16:24:06.231Z"
   },
   {
    "duration": 81,
    "start_time": "2022-07-20T16:24:06.255Z"
   },
   {
    "duration": 7,
    "start_time": "2022-07-20T16:24:06.340Z"
   },
   {
    "duration": 44,
    "start_time": "2022-07-20T16:24:06.349Z"
   },
   {
    "duration": 349,
    "start_time": "2022-07-20T16:24:06.395Z"
   },
   {
    "duration": 124,
    "start_time": "2022-07-20T16:24:06.746Z"
   },
   {
    "duration": 4,
    "start_time": "2022-07-20T16:24:06.871Z"
   },
   {
    "duration": 52,
    "start_time": "2022-07-20T16:24:06.876Z"
   },
   {
    "duration": 49,
    "start_time": "2022-07-20T16:24:06.929Z"
   },
   {
    "duration": 2645,
    "start_time": "2022-07-20T16:24:06.980Z"
   },
   {
    "duration": 943,
    "start_time": "2022-07-20T16:24:09.627Z"
   },
   {
    "duration": 1234,
    "start_time": "2022-07-20T16:24:10.571Z"
   },
   {
    "duration": 373,
    "start_time": "2022-07-20T16:24:11.808Z"
   },
   {
    "duration": 464,
    "start_time": "2022-07-20T16:24:12.182Z"
   },
   {
    "duration": 2981,
    "start_time": "2022-07-20T16:24:12.648Z"
   },
   {
    "duration": 870,
    "start_time": "2022-07-20T16:24:15.635Z"
   },
   {
    "duration": 1567,
    "start_time": "2022-07-20T16:29:00.164Z"
   },
   {
    "duration": 282,
    "start_time": "2022-07-20T16:29:01.739Z"
   },
   {
    "duration": 47,
    "start_time": "2022-07-20T16:29:02.022Z"
   },
   {
    "duration": 82,
    "start_time": "2022-07-20T16:29:02.071Z"
   },
   {
    "duration": 97,
    "start_time": "2022-07-20T16:29:02.155Z"
   },
   {
    "duration": 16,
    "start_time": "2022-07-20T16:29:02.254Z"
   },
   {
    "duration": 2803,
    "start_time": "2022-07-20T16:29:02.272Z"
   },
   {
    "duration": 5,
    "start_time": "2022-07-20T16:29:05.077Z"
   },
   {
    "duration": 22,
    "start_time": "2022-07-20T16:29:05.083Z"
   },
   {
    "duration": 877,
    "start_time": "2022-07-20T16:29:05.106Z"
   },
   {
    "duration": 10,
    "start_time": "2022-07-20T16:29:05.986Z"
   },
   {
    "duration": 1733,
    "start_time": "2022-07-20T16:29:05.998Z"
   },
   {
    "duration": 237,
    "start_time": "2022-07-20T16:29:07.733Z"
   },
   {
    "duration": 24,
    "start_time": "2022-07-20T16:29:07.974Z"
   },
   {
    "duration": 48,
    "start_time": "2022-07-20T16:29:08.000Z"
   },
   {
    "duration": 7,
    "start_time": "2022-07-20T16:29:08.052Z"
   },
   {
    "duration": 342,
    "start_time": "2022-07-20T16:29:08.060Z"
   },
   {
    "duration": 19,
    "start_time": "2022-07-20T16:29:08.405Z"
   },
   {
    "duration": 156,
    "start_time": "2022-07-20T16:29:08.428Z"
   },
   {
    "duration": 4,
    "start_time": "2022-07-20T16:29:08.585Z"
   },
   {
    "duration": 37,
    "start_time": "2022-07-20T16:29:08.591Z"
   },
   {
    "duration": 34,
    "start_time": "2022-07-20T16:29:08.630Z"
   },
   {
    "duration": 2953,
    "start_time": "2022-07-20T16:29:08.666Z"
   },
   {
    "duration": 929,
    "start_time": "2022-07-20T16:29:11.621Z"
   },
   {
    "duration": 1179,
    "start_time": "2022-07-20T16:29:12.551Z"
   },
   {
    "duration": 359,
    "start_time": "2022-07-20T16:29:13.732Z"
   },
   {
    "duration": 458,
    "start_time": "2022-07-20T16:29:14.093Z"
   },
   {
    "duration": 2921,
    "start_time": "2022-07-20T16:29:14.553Z"
   },
   {
    "duration": 971,
    "start_time": "2022-07-20T16:29:17.476Z"
   },
   {
    "duration": 8,
    "start_time": "2022-07-20T16:32:51.066Z"
   },
   {
    "duration": 6,
    "start_time": "2022-07-20T16:32:59.178Z"
   },
   {
    "duration": 32,
    "start_time": "2022-07-20T16:33:10.057Z"
   },
   {
    "duration": 37,
    "start_time": "2022-07-20T16:33:22.773Z"
   },
   {
    "duration": 29,
    "start_time": "2022-07-20T16:34:05.094Z"
   },
   {
    "duration": 1556,
    "start_time": "2022-07-20T16:36:54.376Z"
   },
   {
    "duration": 314,
    "start_time": "2022-07-20T16:36:55.944Z"
   },
   {
    "duration": 61,
    "start_time": "2022-07-20T16:36:56.260Z"
   },
   {
    "duration": 54,
    "start_time": "2022-07-20T16:36:56.330Z"
   },
   {
    "duration": 113,
    "start_time": "2022-07-20T16:36:56.386Z"
   },
   {
    "duration": 21,
    "start_time": "2022-07-20T16:36:56.501Z"
   },
   {
    "duration": 2624,
    "start_time": "2022-07-20T16:36:56.527Z"
   },
   {
    "duration": 6,
    "start_time": "2022-07-20T16:36:59.153Z"
   },
   {
    "duration": 9,
    "start_time": "2022-07-20T16:36:59.160Z"
   },
   {
    "duration": 812,
    "start_time": "2022-07-20T16:36:59.171Z"
   },
   {
    "duration": 6,
    "start_time": "2022-07-20T16:36:59.985Z"
   },
   {
    "duration": 2139,
    "start_time": "2022-07-20T16:36:59.993Z"
   },
   {
    "duration": 519,
    "start_time": "2022-07-20T16:37:02.134Z"
   },
   {
    "duration": 83,
    "start_time": "2022-07-20T16:37:02.657Z"
   },
   {
    "duration": 80,
    "start_time": "2022-07-20T16:37:02.748Z"
   },
   {
    "duration": 6,
    "start_time": "2022-07-20T16:37:02.830Z"
   },
   {
    "duration": 795,
    "start_time": "2022-07-20T16:37:02.838Z"
   },
   {
    "duration": 23,
    "start_time": "2022-07-20T16:37:03.635Z"
   },
   {
    "duration": 388,
    "start_time": "2022-07-20T16:37:03.660Z"
   },
   {
    "duration": 4,
    "start_time": "2022-07-20T16:37:04.050Z"
   },
   {
    "duration": 28,
    "start_time": "2022-07-20T16:37:04.055Z"
   },
   {
    "duration": 51,
    "start_time": "2022-07-20T16:37:04.085Z"
   },
   {
    "duration": 3081,
    "start_time": "2022-07-20T16:37:04.137Z"
   },
   {
    "duration": 1043,
    "start_time": "2022-07-20T16:37:07.227Z"
   },
   {
    "duration": 1252,
    "start_time": "2022-07-20T16:37:08.272Z"
   },
   {
    "duration": 374,
    "start_time": "2022-07-20T16:37:09.534Z"
   },
   {
    "duration": 516,
    "start_time": "2022-07-20T16:37:09.910Z"
   },
   {
    "duration": 3026,
    "start_time": "2022-07-20T16:37:10.427Z"
   },
   {
    "duration": 973,
    "start_time": "2022-07-20T16:37:13.455Z"
   },
   {
    "duration": 8,
    "start_time": "2022-07-20T16:39:03.251Z"
   },
   {
    "duration": 1668,
    "start_time": "2022-07-20T16:39:04.653Z"
   },
   {
    "duration": 164,
    "start_time": "2022-07-20T16:42:58.608Z"
   },
   {
    "duration": 12,
    "start_time": "2022-07-20T16:43:06.956Z"
   },
   {
    "duration": 38,
    "start_time": "2022-07-20T16:43:55.663Z"
   },
   {
    "duration": 37,
    "start_time": "2022-07-20T16:44:20.557Z"
   },
   {
    "duration": 24,
    "start_time": "2022-07-20T16:44:54.650Z"
   },
   {
    "duration": 26,
    "start_time": "2022-07-20T16:45:35.562Z"
   },
   {
    "duration": 4,
    "start_time": "2022-07-20T16:45:47.363Z"
   },
   {
    "duration": 755,
    "start_time": "2022-07-20T16:45:47.904Z"
   },
   {
    "duration": 11,
    "start_time": "2022-07-20T16:45:49.354Z"
   },
   {
    "duration": 1897,
    "start_time": "2022-07-20T16:45:50.449Z"
   },
   {
    "duration": 236,
    "start_time": "2022-07-20T16:45:59.605Z"
   },
   {
    "duration": 213,
    "start_time": "2022-07-20T16:46:09.704Z"
   },
   {
    "duration": 19,
    "start_time": "2022-07-20T16:46:34.151Z"
   },
   {
    "duration": 1555,
    "start_time": "2022-07-20T16:46:42.157Z"
   },
   {
    "duration": 292,
    "start_time": "2022-07-20T16:46:43.714Z"
   },
   {
    "duration": 54,
    "start_time": "2022-07-20T16:46:44.008Z"
   },
   {
    "duration": 72,
    "start_time": "2022-07-20T16:46:44.070Z"
   },
   {
    "duration": 91,
    "start_time": "2022-07-20T16:46:44.148Z"
   },
   {
    "duration": 16,
    "start_time": "2022-07-20T16:46:44.244Z"
   },
   {
    "duration": 36,
    "start_time": "2022-07-20T16:46:44.262Z"
   },
   {
    "duration": 4203,
    "start_time": "2022-07-20T16:46:44.300Z"
   },
   {
    "duration": 8,
    "start_time": "2022-07-20T16:46:48.508Z"
   },
   {
    "duration": 38,
    "start_time": "2022-07-20T16:46:48.519Z"
   },
   {
    "duration": 881,
    "start_time": "2022-07-20T16:46:48.560Z"
   },
   {
    "duration": 8,
    "start_time": "2022-07-20T16:46:49.448Z"
   },
   {
    "duration": 1613,
    "start_time": "2022-07-20T16:46:49.457Z"
   },
   {
    "duration": 233,
    "start_time": "2022-07-20T16:46:51.073Z"
   },
   {
    "duration": 25,
    "start_time": "2022-07-20T16:46:51.309Z"
   },
   {
    "duration": 58,
    "start_time": "2022-07-20T16:46:51.337Z"
   },
   {
    "duration": 7,
    "start_time": "2022-07-20T16:46:51.397Z"
   },
   {
    "duration": 430,
    "start_time": "2022-07-20T16:46:51.406Z"
   },
   {
    "duration": 17,
    "start_time": "2022-07-20T16:46:51.838Z"
   },
   {
    "duration": 136,
    "start_time": "2022-07-20T16:46:51.857Z"
   },
   {
    "duration": 5,
    "start_time": "2022-07-20T16:46:51.995Z"
   },
   {
    "duration": 59,
    "start_time": "2022-07-20T16:46:52.002Z"
   },
   {
    "duration": 16,
    "start_time": "2022-07-20T16:46:52.063Z"
   },
   {
    "duration": 3165,
    "start_time": "2022-07-20T16:46:52.081Z"
   },
   {
    "duration": 1060,
    "start_time": "2022-07-20T16:46:55.317Z"
   },
   {
    "duration": 1207,
    "start_time": "2022-07-20T16:46:56.379Z"
   },
   {
    "duration": 393,
    "start_time": "2022-07-20T16:46:57.587Z"
   },
   {
    "duration": 467,
    "start_time": "2022-07-20T16:46:57.982Z"
   },
   {
    "duration": 2976,
    "start_time": "2022-07-20T16:46:58.451Z"
   },
   {
    "duration": 1046,
    "start_time": "2022-07-20T16:47:01.429Z"
   },
   {
    "duration": 35,
    "start_time": "2022-07-20T16:47:43.349Z"
   },
   {
    "duration": 12,
    "start_time": "2022-07-20T16:50:09.153Z"
   },
   {
    "duration": 140,
    "start_time": "2022-07-20T16:50:16.088Z"
   },
   {
    "duration": 4,
    "start_time": "2022-07-20T16:50:17.657Z"
   },
   {
    "duration": 28,
    "start_time": "2022-07-20T16:50:20.089Z"
   },
   {
    "duration": 26,
    "start_time": "2022-07-20T16:50:25.207Z"
   },
   {
    "duration": 3963,
    "start_time": "2022-07-20T16:50:28.367Z"
   },
   {
    "duration": 977,
    "start_time": "2022-07-20T16:50:34.448Z"
   },
   {
    "duration": 3272,
    "start_time": "2022-07-20T16:50:39.118Z"
   },
   {
    "duration": 978,
    "start_time": "2022-07-20T16:50:44.450Z"
   },
   {
    "duration": 700,
    "start_time": "2022-07-20T16:50:47.753Z"
   },
   {
    "duration": 3309,
    "start_time": "2022-07-20T16:50:58.840Z"
   },
   {
    "duration": 1065,
    "start_time": "2022-07-20T16:51:04.751Z"
   },
   {
    "duration": 1161,
    "start_time": "2022-07-20T16:52:21.699Z"
   },
   {
    "duration": 4,
    "start_time": "2022-07-20T17:46:59.537Z"
   },
   {
    "duration": 9,
    "start_time": "2022-07-20T17:47:59.145Z"
   },
   {
    "duration": 9,
    "start_time": "2022-07-20T17:52:04.339Z"
   },
   {
    "duration": 12,
    "start_time": "2022-07-20T17:52:48.156Z"
   },
   {
    "duration": 9,
    "start_time": "2022-07-20T17:53:04.130Z"
   },
   {
    "duration": 4,
    "start_time": "2022-07-20T17:53:28.435Z"
   },
   {
    "duration": 9,
    "start_time": "2022-07-20T17:53:29.564Z"
   },
   {
    "duration": 600,
    "start_time": "2022-07-20T17:55:24.472Z"
   },
   {
    "duration": 7,
    "start_time": "2022-07-20T17:55:40.305Z"
   },
   {
    "duration": 70,
    "start_time": "2022-07-20T18:15:05.586Z"
   },
   {
    "duration": 99,
    "start_time": "2022-07-20T18:17:08.995Z"
   },
   {
    "duration": 6,
    "start_time": "2022-07-20T18:25:30.953Z"
   },
   {
    "duration": 1014,
    "start_time": "2022-07-20T18:26:51.232Z"
   },
   {
    "duration": 992,
    "start_time": "2022-07-20T18:28:39.936Z"
   },
   {
    "duration": 610,
    "start_time": "2022-07-20T18:28:56.965Z"
   },
   {
    "duration": 1056,
    "start_time": "2022-07-20T18:29:09.204Z"
   },
   {
    "duration": 1657,
    "start_time": "2022-07-20T18:34:29.848Z"
   },
   {
    "duration": 347,
    "start_time": "2022-07-20T18:34:31.509Z"
   },
   {
    "duration": 40,
    "start_time": "2022-07-20T18:34:31.858Z"
   },
   {
    "duration": 66,
    "start_time": "2022-07-20T18:34:31.899Z"
   },
   {
    "duration": 110,
    "start_time": "2022-07-20T18:34:31.967Z"
   },
   {
    "duration": 15,
    "start_time": "2022-07-20T18:34:32.079Z"
   },
   {
    "duration": 69,
    "start_time": "2022-07-20T18:34:32.096Z"
   },
   {
    "duration": 2566,
    "start_time": "2022-07-20T18:34:32.170Z"
   },
   {
    "duration": 5,
    "start_time": "2022-07-20T18:34:34.739Z"
   },
   {
    "duration": 9,
    "start_time": "2022-07-20T18:34:34.746Z"
   },
   {
    "duration": 705,
    "start_time": "2022-07-20T18:34:34.757Z"
   },
   {
    "duration": 88,
    "start_time": "2022-07-20T18:34:35.464Z"
   },
   {
    "duration": 1489,
    "start_time": "2022-07-20T18:34:35.554Z"
   },
   {
    "duration": 226,
    "start_time": "2022-07-20T18:34:37.046Z"
   },
   {
    "duration": 19,
    "start_time": "2022-07-20T18:34:37.273Z"
   },
   {
    "duration": 52,
    "start_time": "2022-07-20T18:34:37.295Z"
   },
   {
    "duration": 7,
    "start_time": "2022-07-20T18:34:37.349Z"
   },
   {
    "duration": 310,
    "start_time": "2022-07-20T18:34:37.358Z"
   },
   {
    "duration": 27,
    "start_time": "2022-07-20T18:34:37.670Z"
   },
   {
    "duration": 137,
    "start_time": "2022-07-20T18:34:37.711Z"
   },
   {
    "duration": 4,
    "start_time": "2022-07-20T18:34:37.850Z"
   },
   {
    "duration": 23,
    "start_time": "2022-07-20T18:34:37.856Z"
   },
   {
    "duration": 39,
    "start_time": "2022-07-20T18:34:37.881Z"
   },
   {
    "duration": 4098,
    "start_time": "2022-07-20T18:34:37.923Z"
   },
   {
    "duration": 1100,
    "start_time": "2022-07-20T18:34:42.023Z"
   },
   {
    "duration": 2908,
    "start_time": "2022-07-20T18:34:43.124Z"
   },
   {
    "duration": 881,
    "start_time": "2022-07-20T18:34:46.041Z"
   },
   {
    "duration": 610,
    "start_time": "2022-07-20T18:34:46.923Z"
   },
   {
    "duration": 3010,
    "start_time": "2022-07-20T18:34:47.539Z"
   },
   {
    "duration": 1015,
    "start_time": "2022-07-20T18:34:50.555Z"
   },
   {
    "duration": 2511,
    "start_time": "2022-07-21T19:37:11.426Z"
   },
   {
    "duration": 698,
    "start_time": "2022-07-21T19:37:13.939Z"
   },
   {
    "duration": 87,
    "start_time": "2022-07-21T19:37:14.639Z"
   },
   {
    "duration": 101,
    "start_time": "2022-07-21T19:37:14.727Z"
   },
   {
    "duration": 222,
    "start_time": "2022-07-21T19:37:14.831Z"
   },
   {
    "duration": 76,
    "start_time": "2022-07-21T19:37:15.055Z"
   },
   {
    "duration": 28,
    "start_time": "2022-07-21T19:37:15.133Z"
   },
   {
    "duration": 5319,
    "start_time": "2022-07-21T19:37:15.163Z"
   },
   {
    "duration": 44,
    "start_time": "2022-07-21T19:37:20.483Z"
   },
   {
    "duration": 16,
    "start_time": "2022-07-21T19:37:20.529Z"
   },
   {
    "duration": 1497,
    "start_time": "2022-07-21T19:37:20.547Z"
   },
   {
    "duration": 10,
    "start_time": "2022-07-21T19:37:22.046Z"
   },
   {
    "duration": 2787,
    "start_time": "2022-07-21T19:37:22.057Z"
   },
   {
    "duration": 492,
    "start_time": "2022-07-21T19:37:24.848Z"
   },
   {
    "duration": 18,
    "start_time": "2022-07-21T19:37:25.341Z"
   },
   {
    "duration": 82,
    "start_time": "2022-07-21T19:37:25.361Z"
   },
   {
    "duration": 6,
    "start_time": "2022-07-21T19:37:25.445Z"
   },
   {
    "duration": 572,
    "start_time": "2022-07-21T19:37:25.453Z"
   },
   {
    "duration": 24,
    "start_time": "2022-07-21T19:37:26.027Z"
   },
   {
    "duration": 280,
    "start_time": "2022-07-21T19:37:26.053Z"
   },
   {
    "duration": 4,
    "start_time": "2022-07-21T19:37:26.335Z"
   },
   {
    "duration": 95,
    "start_time": "2022-07-21T19:37:26.341Z"
   },
   {
    "duration": 21,
    "start_time": "2022-07-21T19:37:26.439Z"
   },
   {
    "duration": 6964,
    "start_time": "2022-07-21T19:37:26.462Z"
   },
   {
    "duration": 1905,
    "start_time": "2022-07-21T19:37:33.428Z"
   },
   {
    "duration": 5724,
    "start_time": "2022-07-21T19:37:35.335Z"
   },
   {
    "duration": 1702,
    "start_time": "2022-07-21T19:37:41.060Z"
   },
   {
    "duration": 1103,
    "start_time": "2022-07-21T19:37:42.764Z"
   },
   {
    "duration": 5816,
    "start_time": "2022-07-21T19:37:43.924Z"
   },
   {
    "duration": 1793,
    "start_time": "2022-07-21T19:37:49.744Z"
   },
   {
    "duration": 7,
    "start_time": "2022-07-21T20:26:01.979Z"
   },
   {
    "duration": 35,
    "start_time": "2022-07-21T20:29:40.952Z"
   },
   {
    "duration": 33,
    "start_time": "2022-07-21T20:29:50.268Z"
   },
   {
    "duration": 4,
    "start_time": "2022-07-21T20:29:56.216Z"
   },
   {
    "duration": 31,
    "start_time": "2022-07-21T20:30:12.302Z"
   },
   {
    "duration": 31,
    "start_time": "2022-07-21T20:30:33.026Z"
   },
   {
    "duration": 50,
    "start_time": "2022-07-21T20:30:36.520Z"
   },
   {
    "duration": 6,
    "start_time": "2022-07-21T20:31:07.702Z"
   },
   {
    "duration": 10,
    "start_time": "2022-07-21T20:43:10.838Z"
   },
   {
    "duration": 79,
    "start_time": "2022-07-22T06:00:26.284Z"
   },
   {
    "duration": 1537,
    "start_time": "2022-07-22T06:01:18.679Z"
   },
   {
    "duration": 469,
    "start_time": "2022-07-22T06:01:20.219Z"
   },
   {
    "duration": 39,
    "start_time": "2022-07-22T06:01:20.690Z"
   },
   {
    "duration": 56,
    "start_time": "2022-07-22T06:01:20.731Z"
   },
   {
    "duration": 92,
    "start_time": "2022-07-22T06:01:20.792Z"
   },
   {
    "duration": 14,
    "start_time": "2022-07-22T06:01:20.885Z"
   },
   {
    "duration": 25,
    "start_time": "2022-07-22T06:01:20.901Z"
   },
   {
    "duration": 3392,
    "start_time": "2022-07-22T06:01:20.928Z"
   },
   {
    "duration": 4,
    "start_time": "2022-07-22T06:01:24.322Z"
   },
   {
    "duration": 8,
    "start_time": "2022-07-22T06:01:24.327Z"
   },
   {
    "duration": 700,
    "start_time": "2022-07-22T06:01:24.337Z"
   },
   {
    "duration": 6,
    "start_time": "2022-07-22T06:01:25.039Z"
   },
   {
    "duration": 1385,
    "start_time": "2022-07-22T06:01:25.047Z"
   },
   {
    "duration": 194,
    "start_time": "2022-07-22T06:01:26.434Z"
   },
   {
    "duration": 16,
    "start_time": "2022-07-22T06:01:26.630Z"
   },
   {
    "duration": 38,
    "start_time": "2022-07-22T06:01:26.648Z"
   },
   {
    "duration": 6,
    "start_time": "2022-07-22T06:01:26.687Z"
   },
   {
    "duration": 308,
    "start_time": "2022-07-22T06:01:26.696Z"
   },
   {
    "duration": 15,
    "start_time": "2022-07-22T06:01:27.006Z"
   },
   {
    "duration": 125,
    "start_time": "2022-07-22T06:01:27.023Z"
   },
   {
    "duration": 14,
    "start_time": "2022-07-22T06:01:27.150Z"
   },
   {
    "duration": 20,
    "start_time": "2022-07-22T06:01:27.166Z"
   },
   {
    "duration": 14,
    "start_time": "2022-07-22T06:01:27.188Z"
   },
   {
    "duration": 3982,
    "start_time": "2022-07-22T06:01:27.204Z"
   },
   {
    "duration": 1150,
    "start_time": "2022-07-22T06:01:31.189Z"
   },
   {
    "duration": 2722,
    "start_time": "2022-07-22T06:01:32.341Z"
   },
   {
    "duration": 800,
    "start_time": "2022-07-22T06:01:35.065Z"
   },
   {
    "duration": 528,
    "start_time": "2022-07-22T06:01:35.867Z"
   },
   {
    "duration": 2711,
    "start_time": "2022-07-22T06:01:36.396Z"
   },
   {
    "duration": 860,
    "start_time": "2022-07-22T06:01:39.108Z"
   },
   {
    "duration": 7,
    "start_time": "2022-07-22T06:01:39.970Z"
   },
   {
    "duration": 31,
    "start_time": "2022-07-22T06:01:39.980Z"
   },
   {
    "duration": 2801,
    "start_time": "2022-07-22T06:40:45.772Z"
   },
   {
    "duration": 102,
    "start_time": "2022-07-22T06:41:56.542Z"
   },
   {
    "duration": 4,
    "start_time": "2022-07-22T06:42:15.520Z"
   },
   {
    "duration": 221,
    "start_time": "2022-07-22T06:42:15.526Z"
   },
   {
    "duration": 37,
    "start_time": "2022-07-22T06:42:15.749Z"
   },
   {
    "duration": 49,
    "start_time": "2022-07-22T06:42:15.788Z"
   },
   {
    "duration": 84,
    "start_time": "2022-07-22T06:42:15.839Z"
   },
   {
    "duration": 14,
    "start_time": "2022-07-22T06:42:15.925Z"
   },
   {
    "duration": 51,
    "start_time": "2022-07-22T06:42:15.940Z"
   },
   {
    "duration": 2614,
    "start_time": "2022-07-22T06:42:15.993Z"
   },
   {
    "duration": 14,
    "start_time": "2022-07-22T06:42:18.608Z"
   },
   {
    "duration": 0,
    "start_time": "2022-07-22T06:42:18.624Z"
   },
   {
    "duration": 0,
    "start_time": "2022-07-22T06:42:18.625Z"
   },
   {
    "duration": 0,
    "start_time": "2022-07-22T06:42:18.627Z"
   },
   {
    "duration": 0,
    "start_time": "2022-07-22T06:42:18.628Z"
   },
   {
    "duration": 0,
    "start_time": "2022-07-22T06:42:18.630Z"
   },
   {
    "duration": 0,
    "start_time": "2022-07-22T06:42:18.631Z"
   },
   {
    "duration": 0,
    "start_time": "2022-07-22T06:42:18.632Z"
   },
   {
    "duration": 0,
    "start_time": "2022-07-22T06:42:18.633Z"
   },
   {
    "duration": 0,
    "start_time": "2022-07-22T06:42:18.634Z"
   },
   {
    "duration": 0,
    "start_time": "2022-07-22T06:42:18.636Z"
   },
   {
    "duration": 0,
    "start_time": "2022-07-22T06:42:18.636Z"
   },
   {
    "duration": 0,
    "start_time": "2022-07-22T06:42:18.637Z"
   },
   {
    "duration": 0,
    "start_time": "2022-07-22T06:42:18.663Z"
   },
   {
    "duration": 0,
    "start_time": "2022-07-22T06:42:18.665Z"
   },
   {
    "duration": 0,
    "start_time": "2022-07-22T06:42:18.667Z"
   },
   {
    "duration": 0,
    "start_time": "2022-07-22T06:42:18.668Z"
   },
   {
    "duration": 0,
    "start_time": "2022-07-22T06:42:18.670Z"
   },
   {
    "duration": 0,
    "start_time": "2022-07-22T06:42:18.672Z"
   },
   {
    "duration": 0,
    "start_time": "2022-07-22T06:42:18.673Z"
   },
   {
    "duration": 0,
    "start_time": "2022-07-22T06:42:18.674Z"
   },
   {
    "duration": 0,
    "start_time": "2022-07-22T06:42:18.675Z"
   },
   {
    "duration": 0,
    "start_time": "2022-07-22T06:42:18.677Z"
   },
   {
    "duration": 0,
    "start_time": "2022-07-22T06:42:18.678Z"
   },
   {
    "duration": 3,
    "start_time": "2022-07-22T06:43:22.101Z"
   },
   {
    "duration": 234,
    "start_time": "2022-07-22T06:43:22.106Z"
   },
   {
    "duration": 37,
    "start_time": "2022-07-22T06:43:22.341Z"
   },
   {
    "duration": 42,
    "start_time": "2022-07-22T06:43:22.381Z"
   },
   {
    "duration": 103,
    "start_time": "2022-07-22T06:43:22.425Z"
   },
   {
    "duration": 15,
    "start_time": "2022-07-22T06:43:22.529Z"
   },
   {
    "duration": 47,
    "start_time": "2022-07-22T06:43:22.563Z"
   },
   {
    "duration": 2449,
    "start_time": "2022-07-22T06:43:22.612Z"
   },
   {
    "duration": 25,
    "start_time": "2022-07-22T06:43:25.063Z"
   },
   {
    "duration": 0,
    "start_time": "2022-07-22T06:43:25.091Z"
   },
   {
    "duration": 0,
    "start_time": "2022-07-22T06:43:25.092Z"
   },
   {
    "duration": 0,
    "start_time": "2022-07-22T06:43:25.093Z"
   },
   {
    "duration": 0,
    "start_time": "2022-07-22T06:43:25.094Z"
   },
   {
    "duration": 0,
    "start_time": "2022-07-22T06:43:25.095Z"
   },
   {
    "duration": 0,
    "start_time": "2022-07-22T06:43:25.096Z"
   },
   {
    "duration": 0,
    "start_time": "2022-07-22T06:43:25.097Z"
   },
   {
    "duration": 0,
    "start_time": "2022-07-22T06:43:25.098Z"
   },
   {
    "duration": 0,
    "start_time": "2022-07-22T06:43:25.099Z"
   },
   {
    "duration": 0,
    "start_time": "2022-07-22T06:43:25.101Z"
   },
   {
    "duration": 0,
    "start_time": "2022-07-22T06:43:25.102Z"
   },
   {
    "duration": 0,
    "start_time": "2022-07-22T06:43:25.103Z"
   },
   {
    "duration": 0,
    "start_time": "2022-07-22T06:43:25.104Z"
   },
   {
    "duration": 0,
    "start_time": "2022-07-22T06:43:25.106Z"
   },
   {
    "duration": 0,
    "start_time": "2022-07-22T06:43:25.107Z"
   },
   {
    "duration": 0,
    "start_time": "2022-07-22T06:43:25.108Z"
   },
   {
    "duration": 0,
    "start_time": "2022-07-22T06:43:25.109Z"
   },
   {
    "duration": 0,
    "start_time": "2022-07-22T06:43:25.110Z"
   },
   {
    "duration": 0,
    "start_time": "2022-07-22T06:43:25.111Z"
   },
   {
    "duration": 0,
    "start_time": "2022-07-22T06:43:25.112Z"
   },
   {
    "duration": 0,
    "start_time": "2022-07-22T06:43:25.114Z"
   },
   {
    "duration": 0,
    "start_time": "2022-07-22T06:43:25.165Z"
   },
   {
    "duration": 0,
    "start_time": "2022-07-22T06:43:25.167Z"
   },
   {
    "duration": 30,
    "start_time": "2022-07-22T06:44:06.012Z"
   },
   {
    "duration": 1612,
    "start_time": "2022-07-22T06:44:58.989Z"
   },
   {
    "duration": 279,
    "start_time": "2022-07-22T06:45:00.603Z"
   },
   {
    "duration": 51,
    "start_time": "2022-07-22T06:45:00.885Z"
   },
   {
    "duration": 61,
    "start_time": "2022-07-22T06:45:00.938Z"
   },
   {
    "duration": 112,
    "start_time": "2022-07-22T06:45:01.002Z"
   },
   {
    "duration": 15,
    "start_time": "2022-07-22T06:45:01.115Z"
   },
   {
    "duration": 48,
    "start_time": "2022-07-22T06:45:01.132Z"
   },
   {
    "duration": 4233,
    "start_time": "2022-07-22T06:45:01.183Z"
   },
   {
    "duration": 80,
    "start_time": "2022-07-22T06:45:05.418Z"
   },
   {
    "duration": 193,
    "start_time": "2022-07-22T06:45:05.500Z"
   },
   {
    "duration": 0,
    "start_time": "2022-07-22T06:45:05.810Z"
   },
   {
    "duration": 0,
    "start_time": "2022-07-22T06:45:05.812Z"
   },
   {
    "duration": 0,
    "start_time": "2022-07-22T06:45:05.813Z"
   },
   {
    "duration": 0,
    "start_time": "2022-07-22T06:45:05.815Z"
   },
   {
    "duration": 0,
    "start_time": "2022-07-22T06:45:05.816Z"
   },
   {
    "duration": 0,
    "start_time": "2022-07-22T06:45:05.817Z"
   },
   {
    "duration": 0,
    "start_time": "2022-07-22T06:45:05.819Z"
   },
   {
    "duration": 0,
    "start_time": "2022-07-22T06:45:05.820Z"
   },
   {
    "duration": 0,
    "start_time": "2022-07-22T06:45:05.821Z"
   },
   {
    "duration": 0,
    "start_time": "2022-07-22T06:45:05.823Z"
   },
   {
    "duration": 0,
    "start_time": "2022-07-22T06:45:05.824Z"
   },
   {
    "duration": 0,
    "start_time": "2022-07-22T06:45:05.826Z"
   },
   {
    "duration": 0,
    "start_time": "2022-07-22T06:45:05.827Z"
   },
   {
    "duration": 0,
    "start_time": "2022-07-22T06:45:05.828Z"
   },
   {
    "duration": 0,
    "start_time": "2022-07-22T06:45:05.829Z"
   },
   {
    "duration": 0,
    "start_time": "2022-07-22T06:45:05.830Z"
   },
   {
    "duration": 0,
    "start_time": "2022-07-22T06:45:05.864Z"
   },
   {
    "duration": 1,
    "start_time": "2022-07-22T06:45:05.864Z"
   },
   {
    "duration": 0,
    "start_time": "2022-07-22T06:45:05.866Z"
   },
   {
    "duration": 0,
    "start_time": "2022-07-22T06:45:05.866Z"
   },
   {
    "duration": 0,
    "start_time": "2022-07-22T06:45:05.867Z"
   },
   {
    "duration": 0,
    "start_time": "2022-07-22T06:45:05.868Z"
   },
   {
    "duration": 0,
    "start_time": "2022-07-22T06:45:05.869Z"
   },
   {
    "duration": 14,
    "start_time": "2022-07-22T06:45:26.886Z"
   },
   {
    "duration": 14,
    "start_time": "2022-07-22T06:45:28.822Z"
   },
   {
    "duration": 5,
    "start_time": "2022-07-22T06:45:41.740Z"
   },
   {
    "duration": 258,
    "start_time": "2022-07-22T06:45:41.751Z"
   },
   {
    "duration": 36,
    "start_time": "2022-07-22T06:45:42.011Z"
   },
   {
    "duration": 54,
    "start_time": "2022-07-22T06:45:42.063Z"
   },
   {
    "duration": 93,
    "start_time": "2022-07-22T06:45:42.118Z"
   },
   {
    "duration": 15,
    "start_time": "2022-07-22T06:45:42.214Z"
   },
   {
    "duration": 51,
    "start_time": "2022-07-22T06:45:42.230Z"
   },
   {
    "duration": 4244,
    "start_time": "2022-07-22T06:45:42.283Z"
   },
   {
    "duration": 11,
    "start_time": "2022-07-22T06:45:46.529Z"
   },
   {
    "duration": 1892,
    "start_time": "2022-07-22T06:45:46.542Z"
   },
   {
    "duration": 5,
    "start_time": "2022-07-22T06:45:48.436Z"
   },
   {
    "duration": 5,
    "start_time": "2022-07-22T06:45:48.443Z"
   },
   {
    "duration": 657,
    "start_time": "2022-07-22T06:45:48.464Z"
   },
   {
    "duration": 7,
    "start_time": "2022-07-22T06:45:49.123Z"
   },
   {
    "duration": 1545,
    "start_time": "2022-07-22T06:45:49.133Z"
   },
   {
    "duration": 210,
    "start_time": "2022-07-22T06:45:50.681Z"
   },
   {
    "duration": 32,
    "start_time": "2022-07-22T06:45:50.893Z"
   },
   {
    "duration": 6,
    "start_time": "2022-07-22T06:45:50.927Z"
   },
   {
    "duration": 42,
    "start_time": "2022-07-22T06:45:50.935Z"
   },
   {
    "duration": 0,
    "start_time": "2022-07-22T06:45:50.979Z"
   },
   {
    "duration": 0,
    "start_time": "2022-07-22T06:45:50.981Z"
   },
   {
    "duration": 0,
    "start_time": "2022-07-22T06:45:50.982Z"
   },
   {
    "duration": 0,
    "start_time": "2022-07-22T06:45:50.984Z"
   },
   {
    "duration": 0,
    "start_time": "2022-07-22T06:45:50.985Z"
   },
   {
    "duration": 0,
    "start_time": "2022-07-22T06:45:50.987Z"
   },
   {
    "duration": 0,
    "start_time": "2022-07-22T06:45:50.988Z"
   },
   {
    "duration": 0,
    "start_time": "2022-07-22T06:45:50.990Z"
   },
   {
    "duration": 0,
    "start_time": "2022-07-22T06:45:50.991Z"
   },
   {
    "duration": 0,
    "start_time": "2022-07-22T06:45:50.993Z"
   },
   {
    "duration": 0,
    "start_time": "2022-07-22T06:45:50.996Z"
   },
   {
    "duration": 0,
    "start_time": "2022-07-22T06:45:50.997Z"
   },
   {
    "duration": 0,
    "start_time": "2022-07-22T06:45:50.998Z"
   },
   {
    "duration": 5,
    "start_time": "2022-07-22T06:48:50.690Z"
   },
   {
    "duration": 247,
    "start_time": "2022-07-22T06:48:50.697Z"
   },
   {
    "duration": 42,
    "start_time": "2022-07-22T06:48:50.946Z"
   },
   {
    "duration": 49,
    "start_time": "2022-07-22T06:48:50.990Z"
   },
   {
    "duration": 92,
    "start_time": "2022-07-22T06:48:51.041Z"
   },
   {
    "duration": 39,
    "start_time": "2022-07-22T06:48:51.135Z"
   },
   {
    "duration": 25,
    "start_time": "2022-07-22T06:48:51.179Z"
   },
   {
    "duration": 2635,
    "start_time": "2022-07-22T06:48:51.206Z"
   },
   {
    "duration": 26,
    "start_time": "2022-07-22T06:48:53.843Z"
   },
   {
    "duration": 1579,
    "start_time": "2022-07-22T06:48:53.874Z"
   },
   {
    "duration": 5,
    "start_time": "2022-07-22T06:48:55.463Z"
   },
   {
    "duration": 21,
    "start_time": "2022-07-22T06:48:55.470Z"
   },
   {
    "duration": 650,
    "start_time": "2022-07-22T06:48:55.495Z"
   },
   {
    "duration": 7,
    "start_time": "2022-07-22T06:48:56.146Z"
   },
   {
    "duration": 2631,
    "start_time": "2022-07-22T06:48:56.154Z"
   },
   {
    "duration": 168,
    "start_time": "2022-07-22T06:48:58.786Z"
   },
   {
    "duration": 26,
    "start_time": "2022-07-22T06:48:58.977Z"
   },
   {
    "duration": 5,
    "start_time": "2022-07-22T06:48:59.004Z"
   },
   {
    "duration": 14,
    "start_time": "2022-07-22T06:48:59.011Z"
   },
   {
    "duration": 0,
    "start_time": "2022-07-22T06:48:59.027Z"
   },
   {
    "duration": 0,
    "start_time": "2022-07-22T06:48:59.028Z"
   },
   {
    "duration": 0,
    "start_time": "2022-07-22T06:48:59.029Z"
   },
   {
    "duration": 0,
    "start_time": "2022-07-22T06:48:59.030Z"
   },
   {
    "duration": 0,
    "start_time": "2022-07-22T06:48:59.031Z"
   },
   {
    "duration": 0,
    "start_time": "2022-07-22T06:48:59.032Z"
   },
   {
    "duration": 0,
    "start_time": "2022-07-22T06:48:59.034Z"
   },
   {
    "duration": 0,
    "start_time": "2022-07-22T06:48:59.034Z"
   },
   {
    "duration": 0,
    "start_time": "2022-07-22T06:48:59.064Z"
   },
   {
    "duration": 0,
    "start_time": "2022-07-22T06:48:59.066Z"
   },
   {
    "duration": 0,
    "start_time": "2022-07-22T06:48:59.068Z"
   },
   {
    "duration": 0,
    "start_time": "2022-07-22T06:48:59.070Z"
   },
   {
    "duration": 0,
    "start_time": "2022-07-22T06:48:59.072Z"
   },
   {
    "duration": 5,
    "start_time": "2022-07-22T07:23:09.172Z"
   },
   {
    "duration": 5,
    "start_time": "2022-07-22T07:23:16.445Z"
   },
   {
    "duration": 4,
    "start_time": "2022-07-22T07:23:27.204Z"
   },
   {
    "duration": 4,
    "start_time": "2022-07-22T07:28:07.713Z"
   },
   {
    "duration": 3,
    "start_time": "2022-07-22T07:28:18.252Z"
   },
   {
    "duration": 13,
    "start_time": "2022-07-22T07:30:24.084Z"
   },
   {
    "duration": 53,
    "start_time": "2022-07-22T07:30:27.679Z"
   },
   {
    "duration": 3,
    "start_time": "2022-07-22T07:30:58.693Z"
   },
   {
    "duration": 12,
    "start_time": "2022-07-22T07:31:04.623Z"
   },
   {
    "duration": 58,
    "start_time": "2022-07-22T07:31:07.334Z"
   },
   {
    "duration": 31,
    "start_time": "2022-07-22T07:31:23.663Z"
   },
   {
    "duration": 1482,
    "start_time": "2022-07-22T07:31:25.852Z"
   },
   {
    "duration": 8,
    "start_time": "2022-07-22T07:39:14.206Z"
   },
   {
    "duration": 51,
    "start_time": "2022-07-22T07:39:22.951Z"
   },
   {
    "duration": 4,
    "start_time": "2022-07-22T07:39:34.947Z"
   },
   {
    "duration": 21,
    "start_time": "2022-07-22T07:39:36.662Z"
   },
   {
    "duration": 1592,
    "start_time": "2022-07-22T07:39:38.018Z"
   },
   {
    "duration": 181,
    "start_time": "2022-07-22T07:47:19.915Z"
   },
   {
    "duration": 69,
    "start_time": "2022-07-22T08:09:32.160Z"
   },
   {
    "duration": 69,
    "start_time": "2022-07-22T08:09:53.490Z"
   },
   {
    "duration": 1293,
    "start_time": "2022-07-22T08:29:05.250Z"
   },
   {
    "duration": 1342,
    "start_time": "2022-07-22T08:29:10.841Z"
   },
   {
    "duration": 16,
    "start_time": "2022-07-22T09:18:39.949Z"
   },
   {
    "duration": 22,
    "start_time": "2022-07-22T09:18:50.640Z"
   },
   {
    "duration": 14,
    "start_time": "2022-07-22T09:19:04.838Z"
   },
   {
    "duration": 13,
    "start_time": "2022-07-22T09:19:09.289Z"
   },
   {
    "duration": 14,
    "start_time": "2022-07-22T09:19:42.388Z"
   },
   {
    "duration": 4,
    "start_time": "2022-07-22T09:19:49.766Z"
   },
   {
    "duration": 220,
    "start_time": "2022-07-22T09:19:49.771Z"
   },
   {
    "duration": 32,
    "start_time": "2022-07-22T09:19:49.993Z"
   },
   {
    "duration": 55,
    "start_time": "2022-07-22T09:19:50.026Z"
   },
   {
    "duration": 68,
    "start_time": "2022-07-22T09:19:50.083Z"
   },
   {
    "duration": 33,
    "start_time": "2022-07-22T09:19:50.152Z"
   },
   {
    "duration": 30,
    "start_time": "2022-07-22T09:19:50.187Z"
   },
   {
    "duration": 2344,
    "start_time": "2022-07-22T09:19:50.219Z"
   },
   {
    "duration": 15,
    "start_time": "2022-07-22T09:19:52.565Z"
   },
   {
    "duration": 16,
    "start_time": "2022-07-22T09:19:52.582Z"
   },
   {
    "duration": 23,
    "start_time": "2022-07-22T09:19:52.600Z"
   },
   {
    "duration": 626,
    "start_time": "2022-07-22T09:19:52.625Z"
   },
   {
    "duration": 9,
    "start_time": "2022-07-22T09:19:53.253Z"
   },
   {
    "duration": 8,
    "start_time": "2022-07-22T09:19:53.266Z"
   },
   {
    "duration": 1334,
    "start_time": "2022-07-22T09:19:53.275Z"
   },
   {
    "duration": 680,
    "start_time": "2022-07-22T09:19:54.611Z"
   },
   {
    "duration": 0,
    "start_time": "2022-07-22T09:19:55.293Z"
   },
   {
    "duration": 0,
    "start_time": "2022-07-22T09:19:55.294Z"
   },
   {
    "duration": 0,
    "start_time": "2022-07-22T09:19:55.295Z"
   },
   {
    "duration": 0,
    "start_time": "2022-07-22T09:19:55.296Z"
   },
   {
    "duration": 0,
    "start_time": "2022-07-22T09:19:55.297Z"
   },
   {
    "duration": 0,
    "start_time": "2022-07-22T09:19:55.298Z"
   },
   {
    "duration": 0,
    "start_time": "2022-07-22T09:19:55.299Z"
   },
   {
    "duration": 0,
    "start_time": "2022-07-22T09:19:55.300Z"
   },
   {
    "duration": 0,
    "start_time": "2022-07-22T09:19:55.301Z"
   },
   {
    "duration": 0,
    "start_time": "2022-07-22T09:19:55.302Z"
   },
   {
    "duration": 0,
    "start_time": "2022-07-22T09:19:55.303Z"
   },
   {
    "duration": 0,
    "start_time": "2022-07-22T09:19:55.304Z"
   },
   {
    "duration": 0,
    "start_time": "2022-07-22T09:19:55.305Z"
   },
   {
    "duration": 0,
    "start_time": "2022-07-22T09:19:55.306Z"
   },
   {
    "duration": 0,
    "start_time": "2022-07-22T09:19:55.307Z"
   },
   {
    "duration": 0,
    "start_time": "2022-07-22T09:19:55.308Z"
   },
   {
    "duration": 0,
    "start_time": "2022-07-22T09:19:55.309Z"
   },
   {
    "duration": 15,
    "start_time": "2022-07-22T09:22:10.187Z"
   },
   {
    "duration": 18,
    "start_time": "2022-07-22T09:22:35.627Z"
   },
   {
    "duration": 409,
    "start_time": "2022-07-22T09:22:40.007Z"
   },
   {
    "duration": 1385,
    "start_time": "2022-07-22T09:22:48.130Z"
   },
   {
    "duration": 219,
    "start_time": "2022-07-22T09:22:49.517Z"
   },
   {
    "duration": 34,
    "start_time": "2022-07-22T09:22:49.738Z"
   },
   {
    "duration": 46,
    "start_time": "2022-07-22T09:22:49.774Z"
   },
   {
    "duration": 93,
    "start_time": "2022-07-22T09:22:49.822Z"
   },
   {
    "duration": 14,
    "start_time": "2022-07-22T09:22:49.916Z"
   },
   {
    "duration": 36,
    "start_time": "2022-07-22T09:22:49.932Z"
   },
   {
    "duration": 2326,
    "start_time": "2022-07-22T09:22:49.970Z"
   },
   {
    "duration": 15,
    "start_time": "2022-07-22T09:22:52.297Z"
   },
   {
    "duration": 6,
    "start_time": "2022-07-22T09:22:52.314Z"
   },
   {
    "duration": 5,
    "start_time": "2022-07-22T09:22:52.322Z"
   },
   {
    "duration": 638,
    "start_time": "2022-07-22T09:22:52.329Z"
   },
   {
    "duration": 3,
    "start_time": "2022-07-22T09:22:52.969Z"
   },
   {
    "duration": 91,
    "start_time": "2022-07-22T09:22:52.975Z"
   },
   {
    "duration": 1320,
    "start_time": "2022-07-22T09:22:53.067Z"
   },
   {
    "duration": 30,
    "start_time": "2022-07-22T09:22:54.388Z"
   },
   {
    "duration": 78,
    "start_time": "2022-07-22T09:22:54.419Z"
   },
   {
    "duration": 23,
    "start_time": "2022-07-22T09:22:54.499Z"
   },
   {
    "duration": 5,
    "start_time": "2022-07-22T09:22:54.523Z"
   },
   {
    "duration": 126,
    "start_time": "2022-07-22T09:22:54.529Z"
   },
   {
    "duration": 0,
    "start_time": "2022-07-22T09:22:54.656Z"
   },
   {
    "duration": 0,
    "start_time": "2022-07-22T09:22:54.658Z"
   },
   {
    "duration": 0,
    "start_time": "2022-07-22T09:22:54.664Z"
   },
   {
    "duration": 0,
    "start_time": "2022-07-22T09:22:54.665Z"
   },
   {
    "duration": 0,
    "start_time": "2022-07-22T09:22:54.666Z"
   },
   {
    "duration": 0,
    "start_time": "2022-07-22T09:22:54.668Z"
   },
   {
    "duration": 0,
    "start_time": "2022-07-22T09:22:54.669Z"
   },
   {
    "duration": 0,
    "start_time": "2022-07-22T09:22:54.670Z"
   },
   {
    "duration": 0,
    "start_time": "2022-07-22T09:22:54.671Z"
   },
   {
    "duration": 0,
    "start_time": "2022-07-22T09:22:54.672Z"
   },
   {
    "duration": 0,
    "start_time": "2022-07-22T09:22:54.673Z"
   },
   {
    "duration": 0,
    "start_time": "2022-07-22T09:22:54.673Z"
   },
   {
    "duration": 0,
    "start_time": "2022-07-22T09:22:54.675Z"
   },
   {
    "duration": 186,
    "start_time": "2022-07-22T09:28:24.275Z"
   },
   {
    "duration": 17,
    "start_time": "2022-07-22T09:28:50.236Z"
   },
   {
    "duration": 165,
    "start_time": "2022-07-22T09:28:52.565Z"
   },
   {
    "duration": 479,
    "start_time": "2022-07-22T09:29:43.845Z"
   },
   {
    "duration": 68,
    "start_time": "2022-07-22T09:29:48.045Z"
   },
   {
    "duration": 28,
    "start_time": "2022-07-22T09:29:51.115Z"
   },
   {
    "duration": 1572,
    "start_time": "2022-07-22T09:30:01.458Z"
   },
   {
    "duration": 239,
    "start_time": "2022-07-22T09:30:03.033Z"
   },
   {
    "duration": 37,
    "start_time": "2022-07-22T09:30:03.274Z"
   },
   {
    "duration": 63,
    "start_time": "2022-07-22T09:30:03.313Z"
   },
   {
    "duration": 96,
    "start_time": "2022-07-22T09:30:03.378Z"
   },
   {
    "duration": 14,
    "start_time": "2022-07-22T09:30:03.476Z"
   },
   {
    "duration": 29,
    "start_time": "2022-07-22T09:30:03.492Z"
   },
   {
    "duration": 2338,
    "start_time": "2022-07-22T09:30:03.522Z"
   },
   {
    "duration": 17,
    "start_time": "2022-07-22T09:30:05.861Z"
   },
   {
    "duration": 27,
    "start_time": "2022-07-22T09:30:05.880Z"
   },
   {
    "duration": 26,
    "start_time": "2022-07-22T09:30:05.909Z"
   },
   {
    "duration": 731,
    "start_time": "2022-07-22T09:30:05.937Z"
   },
   {
    "duration": 3,
    "start_time": "2022-07-22T09:30:06.670Z"
   },
   {
    "duration": 193,
    "start_time": "2022-07-22T09:30:06.675Z"
   },
   {
    "duration": 2034,
    "start_time": "2022-07-22T09:30:06.869Z"
   },
   {
    "duration": 33,
    "start_time": "2022-07-22T09:30:08.905Z"
   },
   {
    "duration": 86,
    "start_time": "2022-07-22T09:30:08.941Z"
   },
   {
    "duration": 39,
    "start_time": "2022-07-22T09:30:09.029Z"
   },
   {
    "duration": 208,
    "start_time": "2022-07-22T09:30:09.070Z"
   },
   {
    "duration": 12,
    "start_time": "2022-07-22T09:30:09.279Z"
   },
   {
    "duration": 149,
    "start_time": "2022-07-22T09:30:09.293Z"
   },
   {
    "duration": 4,
    "start_time": "2022-07-22T09:30:09.444Z"
   },
   {
    "duration": 34,
    "start_time": "2022-07-22T09:30:09.449Z"
   },
   {
    "duration": 14,
    "start_time": "2022-07-22T09:30:09.485Z"
   },
   {
    "duration": 3785,
    "start_time": "2022-07-22T09:30:09.501Z"
   },
   {
    "duration": 1098,
    "start_time": "2022-07-22T09:30:13.288Z"
   },
   {
    "duration": 1970,
    "start_time": "2022-07-22T09:30:14.388Z"
   },
   {
    "duration": 601,
    "start_time": "2022-07-22T09:30:16.360Z"
   },
   {
    "duration": 507,
    "start_time": "2022-07-22T09:30:16.964Z"
   },
   {
    "duration": 3822,
    "start_time": "2022-07-22T09:30:17.473Z"
   },
   {
    "duration": 849,
    "start_time": "2022-07-22T09:30:21.297Z"
   },
   {
    "duration": 5,
    "start_time": "2022-07-22T09:30:22.148Z"
   },
   {
    "duration": 23,
    "start_time": "2022-07-22T09:32:43.427Z"
   },
   {
    "duration": 114,
    "start_time": "2022-07-22T10:08:03.945Z"
   },
   {
    "duration": 3734,
    "start_time": "2022-07-22T10:08:09.866Z"
   },
   {
    "duration": 924,
    "start_time": "2022-07-22T10:12:06.905Z"
   },
   {
    "duration": 996,
    "start_time": "2022-07-22T10:13:27.935Z"
   },
   {
    "duration": 4,
    "start_time": "2022-07-22T10:13:35.982Z"
   },
   {
    "duration": 1035,
    "start_time": "2022-07-22T10:13:41.675Z"
   },
   {
    "duration": 1115,
    "start_time": "2022-07-22T10:15:53.094Z"
   },
   {
    "duration": 97,
    "start_time": "2022-07-22T10:53:58.241Z"
   },
   {
    "duration": 2328,
    "start_time": "2022-07-22T10:54:02.011Z"
   },
   {
    "duration": 825,
    "start_time": "2022-07-22T10:54:04.345Z"
   },
   {
    "duration": 46,
    "start_time": "2022-07-22T10:54:05.172Z"
   },
   {
    "duration": 61,
    "start_time": "2022-07-22T10:54:05.221Z"
   },
   {
    "duration": 108,
    "start_time": "2022-07-22T10:54:05.285Z"
   },
   {
    "duration": 48,
    "start_time": "2022-07-22T10:54:05.396Z"
   },
   {
    "duration": 69,
    "start_time": "2022-07-22T10:54:05.449Z"
   },
   {
    "duration": 2918,
    "start_time": "2022-07-22T10:54:05.528Z"
   },
   {
    "duration": 18,
    "start_time": "2022-07-22T10:54:08.448Z"
   },
   {
    "duration": 12,
    "start_time": "2022-07-22T10:54:08.469Z"
   },
   {
    "duration": 7,
    "start_time": "2022-07-22T10:54:08.483Z"
   },
   {
    "duration": 824,
    "start_time": "2022-07-22T10:54:08.492Z"
   },
   {
    "duration": 12,
    "start_time": "2022-07-22T10:54:09.318Z"
   },
   {
    "duration": 112,
    "start_time": "2022-07-22T10:54:09.334Z"
   },
   {
    "duration": 1843,
    "start_time": "2022-07-22T10:54:09.448Z"
   },
   {
    "duration": 70,
    "start_time": "2022-07-22T10:54:11.293Z"
   },
   {
    "duration": 125,
    "start_time": "2022-07-22T10:54:11.367Z"
   },
   {
    "duration": 321,
    "start_time": "2022-07-22T10:54:11.497Z"
   },
   {
    "duration": 27,
    "start_time": "2022-07-22T10:54:11.822Z"
   },
   {
    "duration": 166,
    "start_time": "2022-07-22T10:54:11.852Z"
   },
   {
    "duration": 5,
    "start_time": "2022-07-22T10:54:12.024Z"
   },
   {
    "duration": 65,
    "start_time": "2022-07-22T10:54:12.031Z"
   },
   {
    "duration": 4841,
    "start_time": "2022-07-22T10:54:12.098Z"
   },
   {
    "duration": 1756,
    "start_time": "2022-07-22T10:54:16.948Z"
   },
   {
    "duration": 3202,
    "start_time": "2022-07-22T10:54:18.707Z"
   },
   {
    "duration": 979,
    "start_time": "2022-07-22T10:54:21.911Z"
   },
   {
    "duration": 874,
    "start_time": "2022-07-22T10:54:22.893Z"
   },
   {
    "duration": 4315,
    "start_time": "2022-07-22T10:54:23.773Z"
   },
   {
    "duration": 1484,
    "start_time": "2022-07-22T10:54:28.094Z"
   },
   {
    "duration": 10,
    "start_time": "2022-07-22T10:54:29.581Z"
   },
   {
    "duration": 1062,
    "start_time": "2022-07-22T10:55:46.518Z"
   },
   {
    "duration": 1221,
    "start_time": "2022-07-22T10:56:11.001Z"
   },
   {
    "duration": 1104,
    "start_time": "2022-07-22T10:56:39.511Z"
   },
   {
    "duration": 1179,
    "start_time": "2022-07-22T10:57:26.161Z"
   },
   {
    "duration": 1165,
    "start_time": "2022-07-22T10:58:00.769Z"
   },
   {
    "duration": 864,
    "start_time": "2022-07-22T11:06:10.558Z"
   },
   {
    "duration": 772,
    "start_time": "2022-07-22T11:06:50.461Z"
   },
   {
    "duration": 1270,
    "start_time": "2022-07-22T11:07:16.313Z"
   },
   {
    "duration": 1289,
    "start_time": "2022-07-22T11:07:53.551Z"
   },
   {
    "duration": 1195,
    "start_time": "2022-07-22T11:10:21.164Z"
   },
   {
    "duration": 1181,
    "start_time": "2022-07-22T11:10:47.523Z"
   },
   {
    "duration": 566,
    "start_time": "2022-07-22T11:14:05.072Z"
   },
   {
    "duration": 722,
    "start_time": "2022-07-22T11:14:31.092Z"
   },
   {
    "duration": 8,
    "start_time": "2022-07-22T11:24:06.293Z"
   },
   {
    "duration": 1046,
    "start_time": "2022-07-22T11:24:33.024Z"
   },
   {
    "duration": 91,
    "start_time": "2022-07-22T11:25:57.652Z"
   },
   {
    "duration": 1123,
    "start_time": "2022-07-22T11:26:06.249Z"
   },
   {
    "duration": 11,
    "start_time": "2022-07-22T11:30:30.542Z"
   },
   {
    "duration": 7,
    "start_time": "2022-07-22T11:30:52.081Z"
   },
   {
    "duration": 1600,
    "start_time": "2022-07-22T11:30:56.872Z"
   },
   {
    "duration": 1474,
    "start_time": "2022-07-22T11:31:06.763Z"
   },
   {
    "duration": 757,
    "start_time": "2022-07-22T11:31:24.367Z"
   },
   {
    "duration": 1234,
    "start_time": "2022-07-22T11:31:31.185Z"
   },
   {
    "duration": 688,
    "start_time": "2022-07-22T11:31:42.571Z"
   },
   {
    "duration": 1056,
    "start_time": "2022-07-22T11:32:25.254Z"
   },
   {
    "duration": 2369,
    "start_time": "2022-07-22T11:33:56.904Z"
   },
   {
    "duration": 281,
    "start_time": "2022-07-22T11:33:59.275Z"
   },
   {
    "duration": 40,
    "start_time": "2022-07-22T11:33:59.558Z"
   },
   {
    "duration": 78,
    "start_time": "2022-07-22T11:33:59.600Z"
   },
   {
    "duration": 101,
    "start_time": "2022-07-22T11:33:59.680Z"
   },
   {
    "duration": 16,
    "start_time": "2022-07-22T11:33:59.783Z"
   },
   {
    "duration": 61,
    "start_time": "2022-07-22T11:33:59.801Z"
   },
   {
    "duration": 2886,
    "start_time": "2022-07-22T11:33:59.864Z"
   },
   {
    "duration": 19,
    "start_time": "2022-07-22T11:34:02.753Z"
   },
   {
    "duration": 10,
    "start_time": "2022-07-22T11:34:02.776Z"
   },
   {
    "duration": 14,
    "start_time": "2022-07-22T11:34:02.788Z"
   },
   {
    "duration": 899,
    "start_time": "2022-07-22T11:34:02.804Z"
   },
   {
    "duration": 111,
    "start_time": "2022-07-22T11:34:03.705Z"
   },
   {
    "duration": 47,
    "start_time": "2022-07-22T11:34:03.822Z"
   },
   {
    "duration": 1895,
    "start_time": "2022-07-22T11:34:03.871Z"
   },
   {
    "duration": 37,
    "start_time": "2022-07-22T11:34:05.768Z"
   },
   {
    "duration": 91,
    "start_time": "2022-07-22T11:34:05.807Z"
   },
   {
    "duration": 267,
    "start_time": "2022-07-22T11:34:05.900Z"
   },
   {
    "duration": 13,
    "start_time": "2022-07-22T11:34:06.169Z"
   },
   {
    "duration": 169,
    "start_time": "2022-07-22T11:34:06.184Z"
   },
   {
    "duration": 11,
    "start_time": "2022-07-22T11:34:06.354Z"
   },
   {
    "duration": 39,
    "start_time": "2022-07-22T11:34:06.367Z"
   },
   {
    "duration": 7,
    "start_time": "2022-07-22T11:34:06.408Z"
   },
   {
    "duration": 689,
    "start_time": "2022-07-22T11:34:06.422Z"
   },
   {
    "duration": 3928,
    "start_time": "2022-07-22T11:34:07.123Z"
   },
   {
    "duration": 1201,
    "start_time": "2022-07-22T11:34:11.054Z"
   },
   {
    "duration": 2363,
    "start_time": "2022-07-22T11:34:12.258Z"
   },
   {
    "duration": 621,
    "start_time": "2022-07-22T11:34:14.626Z"
   },
   {
    "duration": 238543,
    "start_time": "2022-07-22T11:34:15.251Z"
   },
   {
    "duration": 1218,
    "start_time": "2022-07-22T11:38:13.796Z"
   },
   {
    "duration": 38,
    "start_time": "2022-07-22T11:38:15.016Z"
   },
   {
    "duration": 7,
    "start_time": "2022-07-22T12:22:35.594Z"
   },
   {
    "duration": 4,
    "start_time": "2022-07-22T12:46:38.765Z"
   },
   {
    "duration": 8,
    "start_time": "2022-07-22T12:50:33.753Z"
   },
   {
    "duration": 179,
    "start_time": "2022-07-22T12:50:34.395Z"
   },
   {
    "duration": 1021,
    "start_time": "2022-07-22T12:50:48.294Z"
   },
   {
    "duration": 14,
    "start_time": "2022-07-22T12:50:51.524Z"
   },
   {
    "duration": 4,
    "start_time": "2022-07-22T12:50:53.554Z"
   },
   {
    "duration": 16,
    "start_time": "2022-07-22T12:50:54.947Z"
   },
   {
    "duration": 669,
    "start_time": "2022-07-22T12:52:08.944Z"
   },
   {
    "duration": 11,
    "start_time": "2022-07-22T12:52:38.986Z"
   },
   {
    "duration": 4,
    "start_time": "2022-07-22T12:53:04.051Z"
   },
   {
    "duration": 9,
    "start_time": "2022-07-22T12:53:04.605Z"
   },
   {
    "duration": 5,
    "start_time": "2022-07-22T12:53:22.187Z"
   },
   {
    "duration": 10,
    "start_time": "2022-07-22T12:53:23.233Z"
   },
   {
    "duration": 3,
    "start_time": "2022-07-22T12:53:40.693Z"
   },
   {
    "duration": 16,
    "start_time": "2022-07-22T12:53:40.698Z"
   },
   {
    "duration": 3,
    "start_time": "2022-07-22T12:54:03.385Z"
   },
   {
    "duration": 7,
    "start_time": "2022-07-22T12:54:06.314Z"
   },
   {
    "duration": 4,
    "start_time": "2022-07-22T12:54:32.817Z"
   },
   {
    "duration": 14,
    "start_time": "2022-07-22T12:54:34.539Z"
   },
   {
    "duration": 4,
    "start_time": "2022-07-22T12:54:44.514Z"
   },
   {
    "duration": 7,
    "start_time": "2022-07-22T12:54:45.251Z"
   },
   {
    "duration": 599,
    "start_time": "2022-07-22T12:56:56.300Z"
   },
   {
    "duration": 1218,
    "start_time": "2022-07-22T12:57:01.181Z"
   },
   {
    "duration": 6,
    "start_time": "2022-07-22T12:57:15.086Z"
   },
   {
    "duration": 8,
    "start_time": "2022-07-22T12:57:24.245Z"
   },
   {
    "duration": 1040,
    "start_time": "2022-07-22T12:57:48.755Z"
   },
   {
    "duration": 1062,
    "start_time": "2022-07-22T12:58:03.210Z"
   },
   {
    "duration": 7,
    "start_time": "2022-07-22T12:59:30.658Z"
   },
   {
    "duration": 357,
    "start_time": "2022-07-22T12:59:33.998Z"
   },
   {
    "duration": 16,
    "start_time": "2022-07-22T12:59:47.915Z"
   },
   {
    "duration": 381,
    "start_time": "2022-07-22T12:59:48.457Z"
   },
   {
    "duration": 950,
    "start_time": "2022-07-22T12:59:54.606Z"
   },
   {
    "duration": 1684,
    "start_time": "2022-07-22T13:00:07.150Z"
   },
   {
    "duration": 347,
    "start_time": "2022-07-22T13:00:08.838Z"
   },
   {
    "duration": 67,
    "start_time": "2022-07-22T13:00:09.187Z"
   },
   {
    "duration": 50,
    "start_time": "2022-07-22T13:00:09.256Z"
   },
   {
    "duration": 118,
    "start_time": "2022-07-22T13:00:09.307Z"
   },
   {
    "duration": 27,
    "start_time": "2022-07-22T13:00:09.428Z"
   },
   {
    "duration": 31,
    "start_time": "2022-07-22T13:00:09.458Z"
   },
   {
    "duration": 4759,
    "start_time": "2022-07-22T13:00:09.491Z"
   },
   {
    "duration": 21,
    "start_time": "2022-07-22T13:00:14.252Z"
   },
   {
    "duration": 5,
    "start_time": "2022-07-22T13:00:14.277Z"
   },
   {
    "duration": 12,
    "start_time": "2022-07-22T13:00:14.284Z"
   },
   {
    "duration": 1014,
    "start_time": "2022-07-22T13:00:14.298Z"
   },
   {
    "duration": 4,
    "start_time": "2022-07-22T13:00:15.314Z"
   },
   {
    "duration": 57,
    "start_time": "2022-07-22T13:00:15.321Z"
   },
   {
    "duration": 1918,
    "start_time": "2022-07-22T13:00:15.381Z"
   },
   {
    "duration": 67,
    "start_time": "2022-07-22T13:00:17.301Z"
   },
   {
    "duration": 112,
    "start_time": "2022-07-22T13:00:17.370Z"
   },
   {
    "duration": 270,
    "start_time": "2022-07-22T13:00:17.485Z"
   },
   {
    "duration": 19,
    "start_time": "2022-07-22T13:00:17.769Z"
   },
   {
    "duration": 163,
    "start_time": "2022-07-22T13:00:17.791Z"
   },
   {
    "duration": 6,
    "start_time": "2022-07-22T13:00:17.956Z"
   },
   {
    "duration": 65,
    "start_time": "2022-07-22T13:00:17.964Z"
   },
   {
    "duration": 11,
    "start_time": "2022-07-22T13:00:18.031Z"
   },
   {
    "duration": 994,
    "start_time": "2022-07-22T13:00:18.046Z"
   },
   {
    "duration": 5609,
    "start_time": "2022-07-22T13:00:19.043Z"
   },
   {
    "duration": 2028,
    "start_time": "2022-07-22T13:00:24.743Z"
   },
   {
    "duration": 4437,
    "start_time": "2022-07-22T13:00:26.824Z"
   },
   {
    "duration": 405,
    "start_time": "2022-07-22T13:00:31.265Z"
   },
   {
    "duration": 240183,
    "start_time": "2022-07-22T13:00:31.672Z"
   },
   {
    "duration": 796,
    "start_time": "2022-07-22T13:04:31.858Z"
   },
   {
    "duration": 7,
    "start_time": "2022-07-22T13:04:32.656Z"
   },
   {
    "duration": 7,
    "start_time": "2022-07-22T13:04:32.665Z"
   },
   {
    "duration": 14,
    "start_time": "2022-07-22T13:04:32.675Z"
   },
   {
    "duration": 9,
    "start_time": "2022-07-22T13:04:32.692Z"
   },
   {
    "duration": 664,
    "start_time": "2022-07-22T13:04:32.703Z"
   },
   {
    "duration": 12,
    "start_time": "2022-07-22T13:05:03.438Z"
   },
   {
    "duration": 637,
    "start_time": "2022-07-22T13:05:07.691Z"
   },
   {
    "duration": 1296,
    "start_time": "2022-07-22T13:09:06.851Z"
   },
   {
    "duration": 661,
    "start_time": "2022-07-22T13:09:18.651Z"
   },
   {
    "duration": 1107,
    "start_time": "2022-07-22T13:09:27.311Z"
   },
   {
    "duration": 4,
    "start_time": "2022-07-22T13:09:50.490Z"
   },
   {
    "duration": 14,
    "start_time": "2022-07-22T13:09:52.080Z"
   },
   {
    "duration": 5,
    "start_time": "2022-07-22T13:11:09.464Z"
   },
   {
    "duration": 17,
    "start_time": "2022-07-22T13:11:11.037Z"
   },
   {
    "duration": 9,
    "start_time": "2022-07-22T13:14:06.586Z"
   },
   {
    "duration": 154,
    "start_time": "2022-07-22T13:14:36.418Z"
   },
   {
    "duration": 7,
    "start_time": "2022-07-22T13:21:32.421Z"
   },
   {
    "duration": 4518,
    "start_time": "2022-07-22T13:21:33.186Z"
   },
   {
    "duration": 17,
    "start_time": "2022-07-22T13:23:53.249Z"
   },
   {
    "duration": 3588,
    "start_time": "2022-07-22T13:24:05.411Z"
   },
   {
    "duration": 3504,
    "start_time": "2022-07-22T13:24:34.884Z"
   },
   {
    "duration": 2753,
    "start_time": "2022-07-22T13:24:56.925Z"
   },
   {
    "duration": 1865,
    "start_time": "2022-07-22T13:25:58.595Z"
   },
   {
    "duration": 4053,
    "start_time": "2022-07-22T13:26:06.455Z"
   },
   {
    "duration": 4044,
    "start_time": "2022-07-22T13:26:31.475Z"
   },
   {
    "duration": 61,
    "start_time": "2022-07-22T13:27:08.495Z"
   },
   {
    "duration": 21,
    "start_time": "2022-07-22T13:27:37.354Z"
   },
   {
    "duration": 34,
    "start_time": "2022-07-22T13:27:45.244Z"
   },
   {
    "duration": 20,
    "start_time": "2022-07-22T13:29:53.763Z"
   },
   {
    "duration": 3879,
    "start_time": "2022-07-22T13:30:00.965Z"
   },
   {
    "duration": 2112,
    "start_time": "2022-07-22T13:30:16.084Z"
   },
   {
    "duration": 1548,
    "start_time": "2022-07-22T13:32:52.792Z"
   },
   {
    "duration": 23,
    "start_time": "2022-07-22T13:33:08.055Z"
   },
   {
    "duration": 33,
    "start_time": "2022-07-22T13:34:41.818Z"
   },
   {
    "duration": 1740,
    "start_time": "2022-07-22T13:34:57.745Z"
   },
   {
    "duration": 289,
    "start_time": "2022-07-22T13:34:59.487Z"
   },
   {
    "duration": 57,
    "start_time": "2022-07-22T13:34:59.778Z"
   },
   {
    "duration": 60,
    "start_time": "2022-07-22T13:34:59.836Z"
   },
   {
    "duration": 138,
    "start_time": "2022-07-22T13:34:59.898Z"
   },
   {
    "duration": 23,
    "start_time": "2022-07-22T13:35:00.046Z"
   },
   {
    "duration": 50,
    "start_time": "2022-07-22T13:35:00.071Z"
   },
   {
    "duration": 2899,
    "start_time": "2022-07-22T13:35:00.125Z"
   },
   {
    "duration": 20,
    "start_time": "2022-07-22T13:35:03.032Z"
   },
   {
    "duration": 19,
    "start_time": "2022-07-22T13:35:03.055Z"
   },
   {
    "duration": 13,
    "start_time": "2022-07-22T13:35:03.076Z"
   },
   {
    "duration": 817,
    "start_time": "2022-07-22T13:35:03.091Z"
   },
   {
    "duration": 4,
    "start_time": "2022-07-22T13:35:03.910Z"
   },
   {
    "duration": 125,
    "start_time": "2022-07-22T13:35:03.917Z"
   },
   {
    "duration": 1892,
    "start_time": "2022-07-22T13:35:04.047Z"
   },
   {
    "duration": 44,
    "start_time": "2022-07-22T13:35:05.941Z"
   },
   {
    "duration": 97,
    "start_time": "2022-07-22T13:35:05.987Z"
   },
   {
    "duration": 310,
    "start_time": "2022-07-22T13:35:06.086Z"
   },
   {
    "duration": 15,
    "start_time": "2022-07-22T13:35:06.398Z"
   },
   {
    "duration": 156,
    "start_time": "2022-07-22T13:35:06.423Z"
   },
   {
    "duration": 4,
    "start_time": "2022-07-22T13:35:06.582Z"
   },
   {
    "duration": 53,
    "start_time": "2022-07-22T13:35:06.589Z"
   },
   {
    "duration": 11,
    "start_time": "2022-07-22T13:35:06.656Z"
   },
   {
    "duration": 683,
    "start_time": "2022-07-22T13:35:06.669Z"
   },
   {
    "duration": 4495,
    "start_time": "2022-07-22T13:35:07.354Z"
   },
   {
    "duration": 2652,
    "start_time": "2022-07-22T13:35:11.853Z"
   },
   {
    "duration": 2546,
    "start_time": "2022-07-22T13:35:14.507Z"
   },
   {
    "duration": 611,
    "start_time": "2022-07-22T13:35:17.055Z"
   },
   {
    "duration": 1107,
    "start_time": "2022-07-22T13:35:17.667Z"
   },
   {
    "duration": 7,
    "start_time": "2022-07-22T13:35:18.776Z"
   },
   {
    "duration": 5,
    "start_time": "2022-07-22T13:35:18.786Z"
   },
   {
    "duration": 44,
    "start_time": "2022-07-22T13:35:18.793Z"
   },
   {
    "duration": 31,
    "start_time": "2022-07-22T13:35:18.839Z"
   },
   {
    "duration": 3370,
    "start_time": "2022-07-22T13:36:43.175Z"
   },
   {
    "duration": 22,
    "start_time": "2022-07-22T13:41:25.641Z"
   },
   {
    "duration": 80,
    "start_time": "2022-07-22T13:42:01.166Z"
   },
   {
    "duration": 93,
    "start_time": "2022-07-22T13:42:08.965Z"
   },
   {
    "duration": 23,
    "start_time": "2022-07-22T13:42:24.169Z"
   },
   {
    "duration": 206,
    "start_time": "2022-07-22T13:43:33.584Z"
   },
   {
    "duration": 48,
    "start_time": "2022-07-22T13:43:42.899Z"
   },
   {
    "duration": 43,
    "start_time": "2022-07-22T13:43:51.164Z"
   },
   {
    "duration": 51,
    "start_time": "2022-07-22T13:43:58.813Z"
   },
   {
    "duration": 1635,
    "start_time": "2022-07-22T17:08:05.428Z"
   },
   {
    "duration": 307,
    "start_time": "2022-07-22T17:08:07.066Z"
   },
   {
    "duration": 41,
    "start_time": "2022-07-22T17:08:07.375Z"
   },
   {
    "duration": 60,
    "start_time": "2022-07-22T17:08:07.423Z"
   },
   {
    "duration": 126,
    "start_time": "2022-07-22T17:08:07.486Z"
   },
   {
    "duration": 27,
    "start_time": "2022-07-22T17:08:07.614Z"
   },
   {
    "duration": 30,
    "start_time": "2022-07-22T17:08:07.643Z"
   },
   {
    "duration": 2931,
    "start_time": "2022-07-22T17:08:07.675Z"
   },
   {
    "duration": 17,
    "start_time": "2022-07-22T17:08:10.608Z"
   },
   {
    "duration": 86,
    "start_time": "2022-07-22T17:08:10.628Z"
   },
   {
    "duration": 29,
    "start_time": "2022-07-22T17:08:10.715Z"
   },
   {
    "duration": 792,
    "start_time": "2022-07-22T17:08:10.747Z"
   },
   {
    "duration": 4,
    "start_time": "2022-07-22T17:08:11.541Z"
   },
   {
    "duration": 112,
    "start_time": "2022-07-22T17:08:11.550Z"
   },
   {
    "duration": 1712,
    "start_time": "2022-07-22T17:08:11.665Z"
   },
   {
    "duration": 54,
    "start_time": "2022-07-22T17:08:13.379Z"
   },
   {
    "duration": 89,
    "start_time": "2022-07-22T17:08:13.435Z"
   },
   {
    "duration": 254,
    "start_time": "2022-07-22T17:08:13.527Z"
   },
   {
    "duration": 15,
    "start_time": "2022-07-22T17:08:13.784Z"
   },
   {
    "duration": 145,
    "start_time": "2022-07-22T17:08:13.800Z"
   },
   {
    "duration": 6,
    "start_time": "2022-07-22T17:08:13.947Z"
   },
   {
    "duration": 41,
    "start_time": "2022-07-22T17:08:13.955Z"
   },
   {
    "duration": 34,
    "start_time": "2022-07-22T17:08:13.998Z"
   },
   {
    "duration": 13,
    "start_time": "2022-07-22T17:08:14.035Z"
   },
   {
    "duration": 4122,
    "start_time": "2022-07-22T17:08:14.050Z"
   },
   {
    "duration": 1274,
    "start_time": "2022-07-22T17:08:18.235Z"
   },
   {
    "duration": 2380,
    "start_time": "2022-07-22T17:08:19.510Z"
   },
   {
    "duration": 591,
    "start_time": "2022-07-22T17:08:21.892Z"
   },
   {
    "duration": 1081,
    "start_time": "2022-07-22T17:08:22.485Z"
   },
   {
    "duration": 6,
    "start_time": "2022-07-22T17:08:23.568Z"
   },
   {
    "duration": 8,
    "start_time": "2022-07-22T17:08:23.576Z"
   },
   {
    "duration": 15,
    "start_time": "2022-07-22T17:08:23.586Z"
   },
   {
    "duration": 3392,
    "start_time": "2022-07-22T17:08:23.603Z"
   },
   {
    "duration": 4,
    "start_time": "2022-07-22T17:13:38.292Z"
   },
   {
    "duration": 13,
    "start_time": "2022-07-22T17:13:39.112Z"
   },
   {
    "duration": 4,
    "start_time": "2022-07-22T17:36:01.749Z"
   },
   {
    "duration": 12,
    "start_time": "2022-07-22T17:36:02.602Z"
   },
   {
    "duration": 4,
    "start_time": "2022-07-22T17:44:02.453Z"
   },
   {
    "duration": 19,
    "start_time": "2022-07-22T17:44:03.333Z"
   },
   {
    "duration": 4366,
    "start_time": "2022-07-22T17:44:54.683Z"
   },
   {
    "duration": 7,
    "start_time": "2022-07-22T17:53:09.562Z"
   },
   {
    "duration": 1009,
    "start_time": "2022-07-22T17:53:13.854Z"
   },
   {
    "duration": 904,
    "start_time": "2022-07-22T17:53:29.088Z"
   },
   {
    "duration": 1201,
    "start_time": "2022-07-22T17:54:16.447Z"
   },
   {
    "duration": 5,
    "start_time": "2022-07-22T17:55:36.342Z"
   },
   {
    "duration": 16,
    "start_time": "2022-07-22T17:55:38.119Z"
   },
   {
    "duration": 4,
    "start_time": "2022-07-22T17:55:58.627Z"
   },
   {
    "duration": 12,
    "start_time": "2022-07-22T17:55:59.326Z"
   },
   {
    "duration": 4,
    "start_time": "2022-07-22T17:56:19.614Z"
   },
   {
    "duration": 5,
    "start_time": "2022-07-22T17:59:28.637Z"
   },
   {
    "duration": 10,
    "start_time": "2022-07-22T17:59:30.090Z"
   },
   {
    "duration": 4,
    "start_time": "2022-07-22T18:03:59.023Z"
   },
   {
    "duration": 11,
    "start_time": "2022-07-22T18:03:59.503Z"
   },
   {
    "duration": 11,
    "start_time": "2022-07-22T18:06:01.444Z"
   },
   {
    "duration": 953,
    "start_time": "2022-07-22T18:06:30.882Z"
   },
   {
    "duration": 1569,
    "start_time": "2022-07-22T18:06:37.786Z"
   },
   {
    "duration": 237,
    "start_time": "2022-07-22T18:06:39.357Z"
   },
   {
    "duration": 37,
    "start_time": "2022-07-22T18:06:39.596Z"
   },
   {
    "duration": 45,
    "start_time": "2022-07-22T18:06:39.634Z"
   },
   {
    "duration": 99,
    "start_time": "2022-07-22T18:06:39.682Z"
   },
   {
    "duration": 16,
    "start_time": "2022-07-22T18:06:39.783Z"
   },
   {
    "duration": 39,
    "start_time": "2022-07-22T18:06:39.801Z"
   },
   {
    "duration": 2465,
    "start_time": "2022-07-22T18:06:39.841Z"
   },
   {
    "duration": 14,
    "start_time": "2022-07-22T18:06:42.308Z"
   },
   {
    "duration": 9,
    "start_time": "2022-07-22T18:06:42.324Z"
   },
   {
    "duration": 14,
    "start_time": "2022-07-22T18:06:42.335Z"
   },
   {
    "duration": 625,
    "start_time": "2022-07-22T18:06:42.351Z"
   },
   {
    "duration": 4,
    "start_time": "2022-07-22T18:06:42.978Z"
   },
   {
    "duration": 98,
    "start_time": "2022-07-22T18:06:42.985Z"
   },
   {
    "duration": 1512,
    "start_time": "2022-07-22T18:06:43.084Z"
   },
   {
    "duration": 62,
    "start_time": "2022-07-22T18:06:44.598Z"
   },
   {
    "duration": 80,
    "start_time": "2022-07-22T18:06:44.661Z"
   },
   {
    "duration": 218,
    "start_time": "2022-07-22T18:06:44.743Z"
   },
   {
    "duration": 14,
    "start_time": "2022-07-22T18:06:44.963Z"
   },
   {
    "duration": 124,
    "start_time": "2022-07-22T18:06:44.978Z"
   },
   {
    "duration": 4,
    "start_time": "2022-07-22T18:06:45.104Z"
   },
   {
    "duration": 29,
    "start_time": "2022-07-22T18:06:45.123Z"
   },
   {
    "duration": 22,
    "start_time": "2022-07-22T18:06:45.154Z"
   },
   {
    "duration": 7,
    "start_time": "2022-07-22T18:06:45.177Z"
   },
   {
    "duration": 3876,
    "start_time": "2022-07-22T18:06:45.186Z"
   },
   {
    "duration": 1119,
    "start_time": "2022-07-22T18:06:49.123Z"
   },
   {
    "duration": 2164,
    "start_time": "2022-07-22T18:06:50.244Z"
   },
   {
    "duration": 526,
    "start_time": "2022-07-22T18:06:52.409Z"
   },
   {
    "duration": 942,
    "start_time": "2022-07-22T18:06:52.936Z"
   },
   {
    "duration": 6,
    "start_time": "2022-07-22T18:06:53.880Z"
   },
   {
    "duration": 7,
    "start_time": "2022-07-22T18:06:53.888Z"
   },
   {
    "duration": 147,
    "start_time": "2022-07-22T18:06:53.896Z"
   },
   {
    "duration": 0,
    "start_time": "2022-07-22T18:06:54.045Z"
   },
   {
    "duration": 4,
    "start_time": "2022-07-22T18:34:19.119Z"
   },
   {
    "duration": 15,
    "start_time": "2022-07-22T18:34:20.686Z"
   },
   {
    "duration": 3,
    "start_time": "2022-07-22T18:34:54.806Z"
   },
   {
    "duration": 18,
    "start_time": "2022-07-22T18:34:56.147Z"
   },
   {
    "duration": 4,
    "start_time": "2022-07-22T18:35:41.468Z"
   },
   {
    "duration": 16,
    "start_time": "2022-07-22T18:35:42.765Z"
   },
   {
    "duration": 6,
    "start_time": "2022-07-22T18:36:56.586Z"
   },
   {
    "duration": 11,
    "start_time": "2022-07-22T18:37:47.957Z"
   },
   {
    "duration": 1098,
    "start_time": "2022-07-22T18:37:52.282Z"
   },
   {
    "duration": 10,
    "start_time": "2022-07-22T18:39:21.336Z"
   },
   {
    "duration": 991,
    "start_time": "2022-07-22T18:39:30.945Z"
   },
   {
    "duration": 7,
    "start_time": "2022-07-22T18:39:40.233Z"
   },
   {
    "duration": 4,
    "start_time": "2022-07-22T18:39:57.897Z"
   },
   {
    "duration": 16,
    "start_time": "2022-07-22T18:39:59.617Z"
   },
   {
    "duration": 4,
    "start_time": "2022-07-22T18:40:22.044Z"
   },
   {
    "duration": 15,
    "start_time": "2022-07-22T18:40:23.195Z"
   },
   {
    "duration": 4,
    "start_time": "2022-07-22T18:43:54.939Z"
   },
   {
    "duration": 13,
    "start_time": "2022-07-22T18:43:56.638Z"
   },
   {
    "duration": 19,
    "start_time": "2022-07-22T18:44:06.956Z"
   },
   {
    "duration": 10,
    "start_time": "2022-07-22T18:59:07.956Z"
   },
   {
    "duration": 13,
    "start_time": "2022-07-22T18:59:16.370Z"
   },
   {
    "duration": 21,
    "start_time": "2022-07-22T19:03:27.550Z"
   },
   {
    "duration": 101,
    "start_time": "2022-07-22T19:03:37.840Z"
   },
   {
    "duration": 5,
    "start_time": "2022-07-22T19:10:41.381Z"
   },
   {
    "duration": 1658,
    "start_time": "2022-07-22T19:11:04.825Z"
   },
   {
    "duration": 298,
    "start_time": "2022-07-22T19:11:06.485Z"
   },
   {
    "duration": 48,
    "start_time": "2022-07-22T19:11:06.786Z"
   },
   {
    "duration": 53,
    "start_time": "2022-07-22T19:11:06.836Z"
   },
   {
    "duration": 124,
    "start_time": "2022-07-22T19:11:06.893Z"
   },
   {
    "duration": 27,
    "start_time": "2022-07-22T19:11:07.022Z"
   },
   {
    "duration": 30,
    "start_time": "2022-07-22T19:11:07.051Z"
   },
   {
    "duration": 2855,
    "start_time": "2022-07-22T19:11:07.083Z"
   },
   {
    "duration": 17,
    "start_time": "2022-07-22T19:11:09.940Z"
   },
   {
    "duration": 9,
    "start_time": "2022-07-22T19:11:09.959Z"
   },
   {
    "duration": 14,
    "start_time": "2022-07-22T19:11:09.969Z"
   },
   {
    "duration": 156,
    "start_time": "2022-07-22T19:11:09.985Z"
   },
   {
    "duration": 4,
    "start_time": "2022-07-22T19:11:10.143Z"
   },
   {
    "duration": 874,
    "start_time": "2022-07-22T19:11:10.150Z"
   },
   {
    "duration": 5,
    "start_time": "2022-07-22T19:11:11.037Z"
   },
   {
    "duration": 10,
    "start_time": "2022-07-22T19:11:11.045Z"
   },
   {
    "duration": 2522,
    "start_time": "2022-07-22T19:11:11.057Z"
   },
   {
    "duration": 0,
    "start_time": "2022-07-22T19:11:13.581Z"
   },
   {
    "duration": 0,
    "start_time": "2022-07-22T19:11:13.582Z"
   },
   {
    "duration": 0,
    "start_time": "2022-07-22T19:11:13.583Z"
   },
   {
    "duration": 0,
    "start_time": "2022-07-22T19:11:13.585Z"
   },
   {
    "duration": 0,
    "start_time": "2022-07-22T19:11:13.586Z"
   },
   {
    "duration": 0,
    "start_time": "2022-07-22T19:11:13.589Z"
   },
   {
    "duration": 0,
    "start_time": "2022-07-22T19:11:13.590Z"
   },
   {
    "duration": 0,
    "start_time": "2022-07-22T19:11:13.592Z"
   },
   {
    "duration": 0,
    "start_time": "2022-07-22T19:11:13.594Z"
   },
   {
    "duration": 0,
    "start_time": "2022-07-22T19:11:13.595Z"
   },
   {
    "duration": 0,
    "start_time": "2022-07-22T19:11:13.597Z"
   },
   {
    "duration": 0,
    "start_time": "2022-07-22T19:11:13.598Z"
   },
   {
    "duration": 1,
    "start_time": "2022-07-22T19:11:13.599Z"
   },
   {
    "duration": 0,
    "start_time": "2022-07-22T19:11:13.601Z"
   },
   {
    "duration": 0,
    "start_time": "2022-07-22T19:11:13.602Z"
   },
   {
    "duration": 0,
    "start_time": "2022-07-22T19:11:13.604Z"
   },
   {
    "duration": 0,
    "start_time": "2022-07-22T19:11:13.605Z"
   },
   {
    "duration": 0,
    "start_time": "2022-07-22T19:11:13.607Z"
   },
   {
    "duration": 0,
    "start_time": "2022-07-22T19:11:13.608Z"
   },
   {
    "duration": 5,
    "start_time": "2022-07-22T19:13:12.183Z"
   },
   {
    "duration": 289,
    "start_time": "2022-07-22T19:13:12.190Z"
   },
   {
    "duration": 53,
    "start_time": "2022-07-22T19:13:12.482Z"
   },
   {
    "duration": 57,
    "start_time": "2022-07-22T19:13:12.537Z"
   },
   {
    "duration": 109,
    "start_time": "2022-07-22T19:13:12.597Z"
   },
   {
    "duration": 41,
    "start_time": "2022-07-22T19:13:12.708Z"
   },
   {
    "duration": 42,
    "start_time": "2022-07-22T19:13:12.751Z"
   },
   {
    "duration": 2903,
    "start_time": "2022-07-22T19:13:12.795Z"
   },
   {
    "duration": 35,
    "start_time": "2022-07-22T19:13:15.700Z"
   },
   {
    "duration": 16,
    "start_time": "2022-07-22T19:13:15.738Z"
   },
   {
    "duration": 15,
    "start_time": "2022-07-22T19:13:15.757Z"
   },
   {
    "duration": 114,
    "start_time": "2022-07-22T19:13:15.774Z"
   },
   {
    "duration": 3,
    "start_time": "2022-07-22T19:13:15.890Z"
   },
   {
    "duration": 561,
    "start_time": "2022-07-22T19:13:15.895Z"
   },
   {
    "duration": 4,
    "start_time": "2022-07-22T19:13:16.459Z"
   },
   {
    "duration": 12,
    "start_time": "2022-07-22T19:13:16.465Z"
   },
   {
    "duration": 1673,
    "start_time": "2022-07-22T19:13:16.480Z"
   },
   {
    "duration": 0,
    "start_time": "2022-07-22T19:13:18.157Z"
   },
   {
    "duration": 0,
    "start_time": "2022-07-22T19:13:18.159Z"
   },
   {
    "duration": 0,
    "start_time": "2022-07-22T19:13:18.161Z"
   },
   {
    "duration": 0,
    "start_time": "2022-07-22T19:13:18.163Z"
   },
   {
    "duration": 0,
    "start_time": "2022-07-22T19:13:18.165Z"
   },
   {
    "duration": 0,
    "start_time": "2022-07-22T19:13:18.166Z"
   },
   {
    "duration": 0,
    "start_time": "2022-07-22T19:13:18.168Z"
   },
   {
    "duration": 0,
    "start_time": "2022-07-22T19:13:18.169Z"
   },
   {
    "duration": 0,
    "start_time": "2022-07-22T19:13:18.171Z"
   },
   {
    "duration": 0,
    "start_time": "2022-07-22T19:13:18.172Z"
   },
   {
    "duration": 0,
    "start_time": "2022-07-22T19:13:18.175Z"
   },
   {
    "duration": 0,
    "start_time": "2022-07-22T19:13:18.176Z"
   },
   {
    "duration": 0,
    "start_time": "2022-07-22T19:13:18.177Z"
   },
   {
    "duration": 0,
    "start_time": "2022-07-22T19:13:18.178Z"
   },
   {
    "duration": 0,
    "start_time": "2022-07-22T19:13:18.179Z"
   },
   {
    "duration": 0,
    "start_time": "2022-07-22T19:13:18.180Z"
   },
   {
    "duration": 0,
    "start_time": "2022-07-22T19:13:18.182Z"
   },
   {
    "duration": 0,
    "start_time": "2022-07-22T19:13:18.183Z"
   },
   {
    "duration": 0,
    "start_time": "2022-07-22T19:13:18.184Z"
   },
   {
    "duration": 1547,
    "start_time": "2022-07-22T19:13:54.552Z"
   },
   {
    "duration": 293,
    "start_time": "2022-07-22T19:13:56.101Z"
   },
   {
    "duration": 53,
    "start_time": "2022-07-22T19:13:56.396Z"
   },
   {
    "duration": 54,
    "start_time": "2022-07-22T19:13:56.451Z"
   },
   {
    "duration": 141,
    "start_time": "2022-07-22T19:13:56.507Z"
   },
   {
    "duration": 15,
    "start_time": "2022-07-22T19:13:56.650Z"
   },
   {
    "duration": 28,
    "start_time": "2022-07-22T19:13:56.667Z"
   },
   {
    "duration": 2664,
    "start_time": "2022-07-22T19:13:56.697Z"
   },
   {
    "duration": 20,
    "start_time": "2022-07-22T19:13:59.363Z"
   },
   {
    "duration": 34,
    "start_time": "2022-07-22T19:13:59.386Z"
   },
   {
    "duration": 36,
    "start_time": "2022-07-22T19:13:59.422Z"
   },
   {
    "duration": 209,
    "start_time": "2022-07-22T19:13:59.460Z"
   },
   {
    "duration": 4,
    "start_time": "2022-07-22T19:13:59.671Z"
   },
   {
    "duration": 504,
    "start_time": "2022-07-22T19:13:59.678Z"
   },
   {
    "duration": 4,
    "start_time": "2022-07-22T19:14:00.184Z"
   },
   {
    "duration": 47,
    "start_time": "2022-07-22T19:14:00.190Z"
   },
   {
    "duration": 1878,
    "start_time": "2022-07-22T19:14:00.239Z"
   },
   {
    "duration": 0,
    "start_time": "2022-07-22T19:14:02.119Z"
   },
   {
    "duration": 0,
    "start_time": "2022-07-22T19:14:02.122Z"
   },
   {
    "duration": 0,
    "start_time": "2022-07-22T19:14:02.123Z"
   },
   {
    "duration": 0,
    "start_time": "2022-07-22T19:14:02.124Z"
   },
   {
    "duration": 0,
    "start_time": "2022-07-22T19:14:02.129Z"
   },
   {
    "duration": 0,
    "start_time": "2022-07-22T19:14:02.130Z"
   },
   {
    "duration": 0,
    "start_time": "2022-07-22T19:14:02.132Z"
   },
   {
    "duration": 0,
    "start_time": "2022-07-22T19:14:02.133Z"
   },
   {
    "duration": 0,
    "start_time": "2022-07-22T19:14:02.139Z"
   },
   {
    "duration": 0,
    "start_time": "2022-07-22T19:14:02.142Z"
   },
   {
    "duration": 0,
    "start_time": "2022-07-22T19:14:02.146Z"
   },
   {
    "duration": 0,
    "start_time": "2022-07-22T19:14:02.147Z"
   },
   {
    "duration": 0,
    "start_time": "2022-07-22T19:14:02.148Z"
   },
   {
    "duration": 0,
    "start_time": "2022-07-22T19:14:02.149Z"
   },
   {
    "duration": 0,
    "start_time": "2022-07-22T19:14:02.150Z"
   },
   {
    "duration": 0,
    "start_time": "2022-07-22T19:14:02.153Z"
   },
   {
    "duration": 0,
    "start_time": "2022-07-22T19:14:02.155Z"
   },
   {
    "duration": 0,
    "start_time": "2022-07-22T19:14:02.156Z"
   },
   {
    "duration": 0,
    "start_time": "2022-07-22T19:14:02.157Z"
   },
   {
    "duration": 104,
    "start_time": "2022-07-22T19:14:59.253Z"
   },
   {
    "duration": 89,
    "start_time": "2022-07-22T19:15:17.663Z"
   },
   {
    "duration": 101,
    "start_time": "2022-07-22T19:15:35.123Z"
   },
   {
    "duration": 1679,
    "start_time": "2022-07-22T19:15:44.246Z"
   },
   {
    "duration": 320,
    "start_time": "2022-07-22T19:15:45.932Z"
   },
   {
    "duration": 42,
    "start_time": "2022-07-22T19:15:46.255Z"
   },
   {
    "duration": 70,
    "start_time": "2022-07-22T19:15:46.299Z"
   },
   {
    "duration": 106,
    "start_time": "2022-07-22T19:15:46.371Z"
   },
   {
    "duration": 23,
    "start_time": "2022-07-22T19:15:46.479Z"
   },
   {
    "duration": 51,
    "start_time": "2022-07-22T19:15:46.504Z"
   },
   {
    "duration": 2614,
    "start_time": "2022-07-22T19:15:46.557Z"
   },
   {
    "duration": 19,
    "start_time": "2022-07-22T19:15:49.173Z"
   },
   {
    "duration": 28,
    "start_time": "2022-07-22T19:15:49.196Z"
   },
   {
    "duration": 16,
    "start_time": "2022-07-22T19:15:49.229Z"
   },
   {
    "duration": 240,
    "start_time": "2022-07-22T19:15:49.248Z"
   },
   {
    "duration": 4,
    "start_time": "2022-07-22T19:15:49.489Z"
   },
   {
    "duration": 738,
    "start_time": "2022-07-22T19:15:49.494Z"
   },
   {
    "duration": 4,
    "start_time": "2022-07-22T19:15:50.234Z"
   },
   {
    "duration": 11,
    "start_time": "2022-07-22T19:15:50.242Z"
   },
   {
    "duration": 2109,
    "start_time": "2022-07-22T19:15:50.255Z"
   },
   {
    "duration": 33,
    "start_time": "2022-07-22T19:15:52.366Z"
   },
   {
    "duration": 94,
    "start_time": "2022-07-22T19:15:52.401Z"
   },
   {
    "duration": 254,
    "start_time": "2022-07-22T19:15:52.496Z"
   },
   {
    "duration": 16,
    "start_time": "2022-07-22T19:15:52.754Z"
   },
   {
    "duration": 176,
    "start_time": "2022-07-22T19:15:52.771Z"
   },
   {
    "duration": 4,
    "start_time": "2022-07-22T19:15:52.949Z"
   },
   {
    "duration": 73,
    "start_time": "2022-07-22T19:15:52.955Z"
   },
   {
    "duration": 30,
    "start_time": "2022-07-22T19:15:53.032Z"
   },
   {
    "duration": 11,
    "start_time": "2022-07-22T19:15:53.064Z"
   },
   {
    "duration": 5714,
    "start_time": "2022-07-22T19:15:53.076Z"
   },
   {
    "duration": 1062,
    "start_time": "2022-07-22T19:15:58.794Z"
   },
   {
    "duration": 0,
    "start_time": "2022-07-22T19:15:59.858Z"
   },
   {
    "duration": 0,
    "start_time": "2022-07-22T19:15:59.859Z"
   },
   {
    "duration": 0,
    "start_time": "2022-07-22T19:15:59.860Z"
   },
   {
    "duration": 1,
    "start_time": "2022-07-22T19:15:59.861Z"
   },
   {
    "duration": 0,
    "start_time": "2022-07-22T19:15:59.862Z"
   },
   {
    "duration": 0,
    "start_time": "2022-07-22T19:15:59.864Z"
   },
   {
    "duration": 0,
    "start_time": "2022-07-22T19:15:59.865Z"
   },
   {
    "duration": 0,
    "start_time": "2022-07-22T19:15:59.866Z"
   },
   {
    "duration": 77,
    "start_time": "2022-07-22T19:16:56.035Z"
   },
   {
    "duration": 4,
    "start_time": "2022-07-22T19:20:49.277Z"
   },
   {
    "duration": 5,
    "start_time": "2022-07-22T19:21:25.739Z"
   },
   {
    "duration": 107,
    "start_time": "2022-07-22T19:24:43.666Z"
   },
   {
    "duration": 76,
    "start_time": "2022-07-22T19:25:07.445Z"
   },
   {
    "duration": 1615,
    "start_time": "2022-07-22T19:25:27.318Z"
   },
   {
    "duration": 310,
    "start_time": "2022-07-22T19:25:28.935Z"
   },
   {
    "duration": 39,
    "start_time": "2022-07-22T19:25:29.246Z"
   },
   {
    "duration": 67,
    "start_time": "2022-07-22T19:25:29.287Z"
   },
   {
    "duration": 109,
    "start_time": "2022-07-22T19:25:29.358Z"
   },
   {
    "duration": 17,
    "start_time": "2022-07-22T19:25:29.469Z"
   },
   {
    "duration": 68,
    "start_time": "2022-07-22T19:25:29.488Z"
   },
   {
    "duration": 2681,
    "start_time": "2022-07-22T19:25:29.558Z"
   },
   {
    "duration": 18,
    "start_time": "2022-07-22T19:25:32.242Z"
   },
   {
    "duration": 16,
    "start_time": "2022-07-22T19:25:32.263Z"
   },
   {
    "duration": 31,
    "start_time": "2022-07-22T19:25:32.281Z"
   },
   {
    "duration": 96,
    "start_time": "2022-07-22T19:25:32.314Z"
   },
   {
    "duration": 3,
    "start_time": "2022-07-22T19:25:32.411Z"
   },
   {
    "duration": 864,
    "start_time": "2022-07-22T19:25:32.417Z"
   },
   {
    "duration": 5,
    "start_time": "2022-07-22T19:25:33.283Z"
   },
   {
    "duration": 13,
    "start_time": "2022-07-22T19:25:33.289Z"
   },
   {
    "duration": 2215,
    "start_time": "2022-07-22T19:25:33.303Z"
   },
   {
    "duration": 41,
    "start_time": "2022-07-22T19:25:35.523Z"
   },
   {
    "duration": 98,
    "start_time": "2022-07-22T19:25:35.566Z"
   },
   {
    "duration": 228,
    "start_time": "2022-07-22T19:25:35.666Z"
   },
   {
    "duration": 28,
    "start_time": "2022-07-22T19:25:35.895Z"
   },
   {
    "duration": 130,
    "start_time": "2022-07-22T19:25:35.934Z"
   },
   {
    "duration": 4,
    "start_time": "2022-07-22T19:25:36.066Z"
   },
   {
    "duration": 55,
    "start_time": "2022-07-22T19:25:36.073Z"
   },
   {
    "duration": 38,
    "start_time": "2022-07-22T19:25:36.133Z"
   },
   {
    "duration": 7,
    "start_time": "2022-07-22T19:25:36.175Z"
   },
   {
    "duration": 4055,
    "start_time": "2022-07-22T19:25:36.184Z"
   },
   {
    "duration": 1045,
    "start_time": "2022-07-22T19:25:40.246Z"
   },
   {
    "duration": 0,
    "start_time": "2022-07-22T19:25:41.293Z"
   },
   {
    "duration": 0,
    "start_time": "2022-07-22T19:25:41.294Z"
   },
   {
    "duration": 0,
    "start_time": "2022-07-22T19:25:41.295Z"
   },
   {
    "duration": 0,
    "start_time": "2022-07-22T19:25:41.297Z"
   },
   {
    "duration": 0,
    "start_time": "2022-07-22T19:25:41.297Z"
   },
   {
    "duration": 0,
    "start_time": "2022-07-22T19:25:41.299Z"
   },
   {
    "duration": 0,
    "start_time": "2022-07-22T19:25:41.300Z"
   },
   {
    "duration": 0,
    "start_time": "2022-07-22T19:25:41.301Z"
   },
   {
    "duration": 10,
    "start_time": "2022-07-22T19:26:55.967Z"
   },
   {
    "duration": 120,
    "start_time": "2022-07-22T19:27:00.147Z"
   },
   {
    "duration": 4,
    "start_time": "2022-07-22T19:27:03.087Z"
   },
   {
    "duration": 15,
    "start_time": "2022-07-22T19:27:09.716Z"
   },
   {
    "duration": 4535,
    "start_time": "2022-07-22T19:27:12.488Z"
   },
   {
    "duration": 1251,
    "start_time": "2022-07-22T19:27:20.839Z"
   },
   {
    "duration": 2400,
    "start_time": "2022-07-22T19:27:34.818Z"
   },
   {
    "duration": 588,
    "start_time": "2022-07-22T19:27:41.789Z"
   },
   {
    "duration": 980,
    "start_time": "2022-07-22T19:27:52.087Z"
   },
   {
    "duration": 6,
    "start_time": "2022-07-22T19:27:59.789Z"
   },
   {
    "duration": 6,
    "start_time": "2022-07-22T19:28:05.497Z"
   },
   {
    "duration": 4,
    "start_time": "2022-07-22T19:35:19.639Z"
   },
   {
    "duration": 14,
    "start_time": "2022-07-22T19:35:22.529Z"
   },
   {
    "duration": 3,
    "start_time": "2022-07-22T19:38:43.349Z"
   },
   {
    "duration": 13,
    "start_time": "2022-07-22T19:38:44.559Z"
   },
   {
    "duration": 4,
    "start_time": "2022-07-22T19:41:47.516Z"
   },
   {
    "duration": 12,
    "start_time": "2022-07-22T19:41:48.567Z"
   },
   {
    "duration": 4,
    "start_time": "2022-07-22T19:48:56.373Z"
   },
   {
    "duration": 27,
    "start_time": "2022-07-22T19:48:57.617Z"
   },
   {
    "duration": 4,
    "start_time": "2022-07-22T19:49:18.342Z"
   },
   {
    "duration": 6,
    "start_time": "2022-07-22T19:49:23.940Z"
   },
   {
    "duration": 6,
    "start_time": "2022-07-22T19:49:37.318Z"
   },
   {
    "duration": 28,
    "start_time": "2022-07-22T19:49:38.687Z"
   },
   {
    "duration": 6,
    "start_time": "2022-07-22T19:50:22.697Z"
   },
   {
    "duration": 22,
    "start_time": "2022-07-22T19:50:24.847Z"
   },
   {
    "duration": 22,
    "start_time": "2022-07-22T19:51:29.707Z"
   },
   {
    "duration": 1479,
    "start_time": "2022-07-22T19:51:50.453Z"
   },
   {
    "duration": 280,
    "start_time": "2022-07-22T19:51:51.934Z"
   },
   {
    "duration": 45,
    "start_time": "2022-07-22T19:51:52.216Z"
   },
   {
    "duration": 80,
    "start_time": "2022-07-22T19:51:52.263Z"
   },
   {
    "duration": 98,
    "start_time": "2022-07-22T19:51:52.345Z"
   },
   {
    "duration": 14,
    "start_time": "2022-07-22T19:51:52.445Z"
   },
   {
    "duration": 30,
    "start_time": "2022-07-22T19:51:52.461Z"
   },
   {
    "duration": 2783,
    "start_time": "2022-07-22T19:51:52.493Z"
   },
   {
    "duration": 17,
    "start_time": "2022-07-22T19:51:55.278Z"
   },
   {
    "duration": 7,
    "start_time": "2022-07-22T19:51:55.298Z"
   },
   {
    "duration": 37,
    "start_time": "2022-07-22T19:51:55.306Z"
   },
   {
    "duration": 183,
    "start_time": "2022-07-22T19:51:55.345Z"
   },
   {
    "duration": 5,
    "start_time": "2022-07-22T19:51:55.529Z"
   },
   {
    "duration": 752,
    "start_time": "2022-07-22T19:51:55.537Z"
   },
   {
    "duration": 5,
    "start_time": "2022-07-22T19:51:56.291Z"
   },
   {
    "duration": 8,
    "start_time": "2022-07-22T19:51:56.297Z"
   },
   {
    "duration": 2094,
    "start_time": "2022-07-22T19:51:56.307Z"
   },
   {
    "duration": 48,
    "start_time": "2022-07-22T19:51:58.402Z"
   },
   {
    "duration": 86,
    "start_time": "2022-07-22T19:51:58.453Z"
   },
   {
    "duration": 260,
    "start_time": "2022-07-22T19:51:58.541Z"
   },
   {
    "duration": 30,
    "start_time": "2022-07-22T19:51:58.803Z"
   },
   {
    "duration": 152,
    "start_time": "2022-07-22T19:51:58.837Z"
   },
   {
    "duration": 5,
    "start_time": "2022-07-22T19:51:58.991Z"
   },
   {
    "duration": 50,
    "start_time": "2022-07-22T19:51:58.998Z"
   },
   {
    "duration": 23,
    "start_time": "2022-07-22T19:51:59.050Z"
   },
   {
    "duration": 9,
    "start_time": "2022-07-22T19:51:59.076Z"
   },
   {
    "duration": 3862,
    "start_time": "2022-07-22T19:51:59.087Z"
   },
   {
    "duration": 1222,
    "start_time": "2022-07-22T19:52:02.955Z"
   },
   {
    "duration": 2322,
    "start_time": "2022-07-22T19:52:04.179Z"
   },
   {
    "duration": 649,
    "start_time": "2022-07-22T19:52:06.504Z"
   },
   {
    "duration": 1075,
    "start_time": "2022-07-22T19:52:07.155Z"
   },
   {
    "duration": 11,
    "start_time": "2022-07-22T19:52:08.232Z"
   },
   {
    "duration": 7,
    "start_time": "2022-07-22T19:52:08.246Z"
   },
   {
    "duration": 22,
    "start_time": "2022-07-22T19:52:08.255Z"
   },
   {
    "duration": 51,
    "start_time": "2022-07-22T19:52:08.279Z"
   },
   {
    "duration": 133,
    "start_time": "2022-07-22T19:52:08.338Z"
   },
   {
    "duration": 45,
    "start_time": "2022-07-22T19:53:16.938Z"
   },
   {
    "duration": 22,
    "start_time": "2022-07-22T19:53:25.236Z"
   },
   {
    "duration": 25,
    "start_time": "2022-07-22T19:53:31.793Z"
   },
   {
    "duration": 97,
    "start_time": "2022-07-22T19:54:26.352Z"
   },
   {
    "duration": 66,
    "start_time": "2022-07-22T19:54:31.315Z"
   },
   {
    "duration": 1603,
    "start_time": "2022-07-22T19:54:51.839Z"
   },
   {
    "duration": 293,
    "start_time": "2022-07-22T19:54:53.445Z"
   },
   {
    "duration": 41,
    "start_time": "2022-07-22T19:54:53.742Z"
   },
   {
    "duration": 77,
    "start_time": "2022-07-22T19:54:53.786Z"
   },
   {
    "duration": 104,
    "start_time": "2022-07-22T19:54:53.865Z"
   },
   {
    "duration": 20,
    "start_time": "2022-07-22T19:54:53.971Z"
   },
   {
    "duration": 53,
    "start_time": "2022-07-22T19:54:53.992Z"
   },
   {
    "duration": 3945,
    "start_time": "2022-07-22T19:54:54.047Z"
   },
   {
    "duration": 30,
    "start_time": "2022-07-22T19:54:57.995Z"
   },
   {
    "duration": 19,
    "start_time": "2022-07-22T19:54:58.038Z"
   },
   {
    "duration": 19,
    "start_time": "2022-07-22T19:54:58.060Z"
   },
   {
    "duration": 181,
    "start_time": "2022-07-22T19:54:58.081Z"
   },
   {
    "duration": 4,
    "start_time": "2022-07-22T19:54:58.264Z"
   },
   {
    "duration": 718,
    "start_time": "2022-07-22T19:54:58.270Z"
   },
   {
    "duration": 5,
    "start_time": "2022-07-22T19:54:58.990Z"
   },
   {
    "duration": 14,
    "start_time": "2022-07-22T19:54:58.996Z"
   },
   {
    "duration": 2473,
    "start_time": "2022-07-22T19:54:59.012Z"
   },
   {
    "duration": 51,
    "start_time": "2022-07-22T19:55:01.487Z"
   },
   {
    "duration": 76,
    "start_time": "2022-07-22T19:55:01.540Z"
   },
   {
    "duration": 240,
    "start_time": "2022-07-22T19:55:01.618Z"
   },
   {
    "duration": 16,
    "start_time": "2022-07-22T19:55:01.860Z"
   },
   {
    "duration": 253,
    "start_time": "2022-07-22T19:55:01.878Z"
   },
   {
    "duration": 13,
    "start_time": "2022-07-22T19:55:02.138Z"
   },
   {
    "duration": 100,
    "start_time": "2022-07-22T19:55:02.153Z"
   },
   {
    "duration": 195,
    "start_time": "2022-07-22T19:55:02.256Z"
   },
   {
    "duration": 10,
    "start_time": "2022-07-22T19:55:02.453Z"
   },
   {
    "duration": 3885,
    "start_time": "2022-07-22T19:55:02.466Z"
   },
   {
    "duration": 1336,
    "start_time": "2022-07-22T19:55:06.359Z"
   },
   {
    "duration": 2440,
    "start_time": "2022-07-22T19:55:07.697Z"
   },
   {
    "duration": 629,
    "start_time": "2022-07-22T19:55:10.139Z"
   },
   {
    "duration": 982,
    "start_time": "2022-07-22T19:55:10.770Z"
   },
   {
    "duration": 6,
    "start_time": "2022-07-22T19:55:11.754Z"
   },
   {
    "duration": 6,
    "start_time": "2022-07-22T19:55:11.762Z"
   },
   {
    "duration": 20,
    "start_time": "2022-07-22T19:55:11.770Z"
   },
   {
    "duration": 46,
    "start_time": "2022-07-22T19:55:11.792Z"
   },
   {
    "duration": 129,
    "start_time": "2022-07-22T19:55:11.842Z"
   },
   {
    "duration": 26,
    "start_time": "2022-07-22T19:56:02.215Z"
   },
   {
    "duration": 60,
    "start_time": "2022-07-22T19:57:14.495Z"
   },
   {
    "duration": 1534,
    "start_time": "2022-07-22T19:57:37.343Z"
   },
   {
    "duration": 283,
    "start_time": "2022-07-22T19:57:38.879Z"
   },
   {
    "duration": 64,
    "start_time": "2022-07-22T19:57:39.164Z"
   },
   {
    "duration": 54,
    "start_time": "2022-07-22T19:57:39.230Z"
   },
   {
    "duration": 118,
    "start_time": "2022-07-22T19:57:39.287Z"
   },
   {
    "duration": 21,
    "start_time": "2022-07-22T19:57:39.407Z"
   },
   {
    "duration": 47,
    "start_time": "2022-07-22T19:57:39.430Z"
   },
   {
    "duration": 2713,
    "start_time": "2022-07-22T19:57:39.480Z"
   },
   {
    "duration": 32,
    "start_time": "2022-07-22T19:57:42.195Z"
   },
   {
    "duration": 10,
    "start_time": "2022-07-22T19:57:42.235Z"
   },
   {
    "duration": 18,
    "start_time": "2022-07-22T19:57:42.248Z"
   },
   {
    "duration": 90,
    "start_time": "2022-07-22T19:57:42.268Z"
   },
   {
    "duration": 130,
    "start_time": "2022-07-22T19:57:42.360Z"
   },
   {
    "duration": 4,
    "start_time": "2022-07-22T19:57:42.493Z"
   },
   {
    "duration": 743,
    "start_time": "2022-07-22T19:57:42.498Z"
   },
   {
    "duration": 6,
    "start_time": "2022-07-22T19:57:43.244Z"
   },
   {
    "duration": 10,
    "start_time": "2022-07-22T19:57:43.252Z"
   },
   {
    "duration": 3204,
    "start_time": "2022-07-22T19:57:43.264Z"
   },
   {
    "duration": 97,
    "start_time": "2022-07-22T19:57:46.470Z"
   },
   {
    "duration": 199,
    "start_time": "2022-07-22T19:57:46.570Z"
   },
   {
    "duration": 307,
    "start_time": "2022-07-22T19:57:46.771Z"
   },
   {
    "duration": 14,
    "start_time": "2022-07-22T19:57:47.080Z"
   },
   {
    "duration": 162,
    "start_time": "2022-07-22T19:57:47.096Z"
   },
   {
    "duration": 5,
    "start_time": "2022-07-22T19:57:47.259Z"
   },
   {
    "duration": 42,
    "start_time": "2022-07-22T19:57:47.266Z"
   },
   {
    "duration": 32,
    "start_time": "2022-07-22T19:57:47.325Z"
   },
   {
    "duration": 7,
    "start_time": "2022-07-22T19:57:47.359Z"
   },
   {
    "duration": 3677,
    "start_time": "2022-07-22T19:57:47.368Z"
   },
   {
    "duration": 1208,
    "start_time": "2022-07-22T19:57:51.048Z"
   },
   {
    "duration": 2290,
    "start_time": "2022-07-22T19:57:52.259Z"
   },
   {
    "duration": 593,
    "start_time": "2022-07-22T19:57:54.553Z"
   },
   {
    "duration": 988,
    "start_time": "2022-07-22T19:57:55.148Z"
   },
   {
    "duration": 8,
    "start_time": "2022-07-22T19:57:56.138Z"
   },
   {
    "duration": 7,
    "start_time": "2022-07-22T19:57:56.148Z"
   },
   {
    "duration": 18,
    "start_time": "2022-07-22T19:57:56.156Z"
   },
   {
    "duration": 20,
    "start_time": "2022-07-22T19:57:56.176Z"
   },
   {
    "duration": 129,
    "start_time": "2022-07-22T19:57:56.225Z"
   },
   {
    "duration": 11,
    "start_time": "2022-07-22T19:58:16.585Z"
   },
   {
    "duration": 15,
    "start_time": "2022-07-22T19:58:19.945Z"
   },
   {
    "duration": 11,
    "start_time": "2022-07-22T19:58:33.726Z"
   },
   {
    "duration": 1525,
    "start_time": "2022-07-22T19:58:41.019Z"
   },
   {
    "duration": 274,
    "start_time": "2022-07-22T19:58:42.546Z"
   },
   {
    "duration": 47,
    "start_time": "2022-07-22T19:58:42.822Z"
   },
   {
    "duration": 63,
    "start_time": "2022-07-22T19:58:42.871Z"
   },
   {
    "duration": 113,
    "start_time": "2022-07-22T19:58:42.940Z"
   },
   {
    "duration": 14,
    "start_time": "2022-07-22T19:58:43.054Z"
   },
   {
    "duration": 26,
    "start_time": "2022-07-22T19:58:43.070Z"
   },
   {
    "duration": 2694,
    "start_time": "2022-07-22T19:58:43.097Z"
   },
   {
    "duration": 31,
    "start_time": "2022-07-22T19:58:45.793Z"
   },
   {
    "duration": 24,
    "start_time": "2022-07-22T19:58:45.827Z"
   },
   {
    "duration": 27,
    "start_time": "2022-07-22T19:58:45.854Z"
   },
   {
    "duration": 45,
    "start_time": "2022-07-22T19:58:45.883Z"
   },
   {
    "duration": 34,
    "start_time": "2022-07-22T19:58:45.930Z"
   },
   {
    "duration": 4,
    "start_time": "2022-07-22T19:58:46.077Z"
   },
   {
    "duration": 686,
    "start_time": "2022-07-22T19:58:46.082Z"
   },
   {
    "duration": 4,
    "start_time": "2022-07-22T19:58:46.770Z"
   },
   {
    "duration": 30,
    "start_time": "2022-07-22T19:58:46.776Z"
   },
   {
    "duration": 1062,
    "start_time": "2022-07-22T19:58:46.808Z"
   },
   {
    "duration": 0,
    "start_time": "2022-07-22T19:58:47.872Z"
   },
   {
    "duration": 0,
    "start_time": "2022-07-22T19:58:47.874Z"
   },
   {
    "duration": 1,
    "start_time": "2022-07-22T19:58:47.875Z"
   },
   {
    "duration": 0,
    "start_time": "2022-07-22T19:58:47.877Z"
   },
   {
    "duration": 0,
    "start_time": "2022-07-22T19:58:47.878Z"
   },
   {
    "duration": 0,
    "start_time": "2022-07-22T19:58:47.880Z"
   },
   {
    "duration": 0,
    "start_time": "2022-07-22T19:58:47.881Z"
   },
   {
    "duration": 0,
    "start_time": "2022-07-22T19:58:47.882Z"
   },
   {
    "duration": 0,
    "start_time": "2022-07-22T19:58:47.883Z"
   },
   {
    "duration": 0,
    "start_time": "2022-07-22T19:58:47.885Z"
   },
   {
    "duration": 0,
    "start_time": "2022-07-22T19:58:47.886Z"
   },
   {
    "duration": 0,
    "start_time": "2022-07-22T19:58:47.887Z"
   },
   {
    "duration": 0,
    "start_time": "2022-07-22T19:58:47.889Z"
   },
   {
    "duration": 0,
    "start_time": "2022-07-22T19:58:47.890Z"
   },
   {
    "duration": 0,
    "start_time": "2022-07-22T19:58:47.891Z"
   },
   {
    "duration": 0,
    "start_time": "2022-07-22T19:58:47.893Z"
   },
   {
    "duration": 0,
    "start_time": "2022-07-22T19:58:47.894Z"
   },
   {
    "duration": 0,
    "start_time": "2022-07-22T19:58:47.895Z"
   },
   {
    "duration": 0,
    "start_time": "2022-07-22T19:58:47.897Z"
   },
   {
    "duration": 46,
    "start_time": "2022-07-22T19:59:09.552Z"
   },
   {
    "duration": 1540,
    "start_time": "2022-07-22T19:59:29.567Z"
   },
   {
    "duration": 327,
    "start_time": "2022-07-22T19:59:31.109Z"
   },
   {
    "duration": 38,
    "start_time": "2022-07-22T19:59:31.441Z"
   },
   {
    "duration": 78,
    "start_time": "2022-07-22T19:59:31.482Z"
   },
   {
    "duration": 100,
    "start_time": "2022-07-22T19:59:31.563Z"
   },
   {
    "duration": 22,
    "start_time": "2022-07-22T19:59:31.666Z"
   },
   {
    "duration": 57,
    "start_time": "2022-07-22T19:59:31.690Z"
   },
   {
    "duration": 2619,
    "start_time": "2022-07-22T19:59:31.750Z"
   },
   {
    "duration": 21,
    "start_time": "2022-07-22T19:59:34.371Z"
   },
   {
    "duration": 22,
    "start_time": "2022-07-22T19:59:34.394Z"
   },
   {
    "duration": 52,
    "start_time": "2022-07-22T19:59:34.424Z"
   },
   {
    "duration": 93,
    "start_time": "2022-07-22T19:59:34.479Z"
   },
   {
    "duration": 147,
    "start_time": "2022-07-22T19:59:34.574Z"
   },
   {
    "duration": 5,
    "start_time": "2022-07-22T19:59:34.725Z"
   },
   {
    "duration": 712,
    "start_time": "2022-07-22T19:59:34.736Z"
   },
   {
    "duration": 4,
    "start_time": "2022-07-22T19:59:35.450Z"
   },
   {
    "duration": 12,
    "start_time": "2022-07-22T19:59:35.456Z"
   },
   {
    "duration": 1031,
    "start_time": "2022-07-22T19:59:35.470Z"
   },
   {
    "duration": 0,
    "start_time": "2022-07-22T19:59:36.503Z"
   },
   {
    "duration": 0,
    "start_time": "2022-07-22T19:59:36.504Z"
   },
   {
    "duration": 0,
    "start_time": "2022-07-22T19:59:36.506Z"
   },
   {
    "duration": 0,
    "start_time": "2022-07-22T19:59:36.507Z"
   },
   {
    "duration": 0,
    "start_time": "2022-07-22T19:59:36.508Z"
   },
   {
    "duration": 0,
    "start_time": "2022-07-22T19:59:36.509Z"
   },
   {
    "duration": 0,
    "start_time": "2022-07-22T19:59:36.510Z"
   },
   {
    "duration": 0,
    "start_time": "2022-07-22T19:59:36.511Z"
   },
   {
    "duration": 0,
    "start_time": "2022-07-22T19:59:36.512Z"
   },
   {
    "duration": 0,
    "start_time": "2022-07-22T19:59:36.514Z"
   },
   {
    "duration": 0,
    "start_time": "2022-07-22T19:59:36.515Z"
   },
   {
    "duration": 0,
    "start_time": "2022-07-22T19:59:36.516Z"
   },
   {
    "duration": 0,
    "start_time": "2022-07-22T19:59:36.518Z"
   },
   {
    "duration": 0,
    "start_time": "2022-07-22T19:59:36.520Z"
   },
   {
    "duration": 0,
    "start_time": "2022-07-22T19:59:36.522Z"
   },
   {
    "duration": 0,
    "start_time": "2022-07-22T19:59:36.523Z"
   },
   {
    "duration": 0,
    "start_time": "2022-07-22T19:59:36.524Z"
   },
   {
    "duration": 0,
    "start_time": "2022-07-22T19:59:36.525Z"
   },
   {
    "duration": 0,
    "start_time": "2022-07-22T19:59:36.526Z"
   },
   {
    "duration": 21,
    "start_time": "2022-07-22T20:00:16.072Z"
   },
   {
    "duration": 1612,
    "start_time": "2022-07-22T20:00:30.826Z"
   },
   {
    "duration": 266,
    "start_time": "2022-07-22T20:00:32.444Z"
   },
   {
    "duration": 47,
    "start_time": "2022-07-22T20:00:32.711Z"
   },
   {
    "duration": 50,
    "start_time": "2022-07-22T20:00:32.759Z"
   },
   {
    "duration": 127,
    "start_time": "2022-07-22T20:00:32.812Z"
   },
   {
    "duration": 25,
    "start_time": "2022-07-22T20:00:32.941Z"
   },
   {
    "duration": 58,
    "start_time": "2022-07-22T20:00:32.968Z"
   },
   {
    "duration": 2642,
    "start_time": "2022-07-22T20:00:33.034Z"
   },
   {
    "duration": 17,
    "start_time": "2022-07-22T20:00:35.678Z"
   },
   {
    "duration": 9,
    "start_time": "2022-07-22T20:00:35.697Z"
   },
   {
    "duration": 29,
    "start_time": "2022-07-22T20:00:35.723Z"
   },
   {
    "duration": 11,
    "start_time": "2022-07-22T20:00:35.754Z"
   },
   {
    "duration": 148,
    "start_time": "2022-07-22T20:00:35.767Z"
   },
   {
    "duration": 11,
    "start_time": "2022-07-22T20:00:35.924Z"
   },
   {
    "duration": 506,
    "start_time": "2022-07-22T20:00:35.940Z"
   },
   {
    "duration": 4,
    "start_time": "2022-07-22T20:00:36.448Z"
   },
   {
    "duration": 9,
    "start_time": "2022-07-22T20:00:36.454Z"
   },
   {
    "duration": 2270,
    "start_time": "2022-07-22T20:00:36.466Z"
   },
   {
    "duration": 0,
    "start_time": "2022-07-22T20:00:38.739Z"
   },
   {
    "duration": 0,
    "start_time": "2022-07-22T20:00:38.741Z"
   },
   {
    "duration": 0,
    "start_time": "2022-07-22T20:00:38.743Z"
   },
   {
    "duration": 0,
    "start_time": "2022-07-22T20:00:38.745Z"
   },
   {
    "duration": 0,
    "start_time": "2022-07-22T20:00:38.747Z"
   },
   {
    "duration": 0,
    "start_time": "2022-07-22T20:00:38.749Z"
   },
   {
    "duration": 0,
    "start_time": "2022-07-22T20:00:38.751Z"
   },
   {
    "duration": 0,
    "start_time": "2022-07-22T20:00:38.752Z"
   },
   {
    "duration": 0,
    "start_time": "2022-07-22T20:00:38.754Z"
   },
   {
    "duration": 0,
    "start_time": "2022-07-22T20:00:38.756Z"
   },
   {
    "duration": 0,
    "start_time": "2022-07-22T20:00:38.759Z"
   },
   {
    "duration": 0,
    "start_time": "2022-07-22T20:00:38.760Z"
   },
   {
    "duration": 0,
    "start_time": "2022-07-22T20:00:38.762Z"
   },
   {
    "duration": 0,
    "start_time": "2022-07-22T20:00:38.763Z"
   },
   {
    "duration": 0,
    "start_time": "2022-07-22T20:00:38.766Z"
   },
   {
    "duration": 0,
    "start_time": "2022-07-22T20:00:38.767Z"
   },
   {
    "duration": 0,
    "start_time": "2022-07-22T20:00:38.768Z"
   },
   {
    "duration": 0,
    "start_time": "2022-07-22T20:00:38.770Z"
   },
   {
    "duration": 0,
    "start_time": "2022-07-22T20:00:38.772Z"
   },
   {
    "duration": 1542,
    "start_time": "2022-07-22T20:02:36.733Z"
   },
   {
    "duration": 257,
    "start_time": "2022-07-22T20:02:38.278Z"
   },
   {
    "duration": 38,
    "start_time": "2022-07-22T20:02:38.537Z"
   },
   {
    "duration": 67,
    "start_time": "2022-07-22T20:02:38.577Z"
   },
   {
    "duration": 101,
    "start_time": "2022-07-22T20:02:38.647Z"
   },
   {
    "duration": 19,
    "start_time": "2022-07-22T20:02:38.750Z"
   },
   {
    "duration": 36,
    "start_time": "2022-07-22T20:02:38.771Z"
   },
   {
    "duration": 2548,
    "start_time": "2022-07-22T20:02:38.809Z"
   },
   {
    "duration": 71,
    "start_time": "2022-07-22T20:02:41.360Z"
   },
   {
    "duration": 7,
    "start_time": "2022-07-22T20:02:41.433Z"
   },
   {
    "duration": 27,
    "start_time": "2022-07-22T20:02:41.442Z"
   },
   {
    "duration": 59,
    "start_time": "2022-07-22T20:02:41.470Z"
   },
   {
    "duration": 295,
    "start_time": "2022-07-22T20:02:41.531Z"
   },
   {
    "duration": 4,
    "start_time": "2022-07-22T20:02:41.829Z"
   },
   {
    "duration": 2815,
    "start_time": "2022-07-22T20:02:41.835Z"
   },
   {
    "duration": 0,
    "start_time": "2022-07-22T20:02:44.652Z"
   },
   {
    "duration": 0,
    "start_time": "2022-07-22T20:02:44.653Z"
   },
   {
    "duration": 0,
    "start_time": "2022-07-22T20:02:44.654Z"
   },
   {
    "duration": 1,
    "start_time": "2022-07-22T20:02:44.655Z"
   },
   {
    "duration": 0,
    "start_time": "2022-07-22T20:02:44.657Z"
   },
   {
    "duration": 0,
    "start_time": "2022-07-22T20:02:44.658Z"
   },
   {
    "duration": 0,
    "start_time": "2022-07-22T20:02:44.659Z"
   },
   {
    "duration": 0,
    "start_time": "2022-07-22T20:02:44.660Z"
   },
   {
    "duration": 0,
    "start_time": "2022-07-22T20:02:44.661Z"
   },
   {
    "duration": 0,
    "start_time": "2022-07-22T20:02:44.663Z"
   },
   {
    "duration": 0,
    "start_time": "2022-07-22T20:02:44.664Z"
   },
   {
    "duration": 0,
    "start_time": "2022-07-22T20:02:44.665Z"
   },
   {
    "duration": 0,
    "start_time": "2022-07-22T20:02:44.667Z"
   },
   {
    "duration": 0,
    "start_time": "2022-07-22T20:02:44.668Z"
   },
   {
    "duration": 0,
    "start_time": "2022-07-22T20:02:44.669Z"
   },
   {
    "duration": 0,
    "start_time": "2022-07-22T20:02:44.670Z"
   },
   {
    "duration": 0,
    "start_time": "2022-07-22T20:02:44.672Z"
   },
   {
    "duration": 0,
    "start_time": "2022-07-22T20:02:44.673Z"
   },
   {
    "duration": 0,
    "start_time": "2022-07-22T20:02:44.674Z"
   },
   {
    "duration": 0,
    "start_time": "2022-07-22T20:02:44.675Z"
   },
   {
    "duration": 0,
    "start_time": "2022-07-22T20:02:44.676Z"
   },
   {
    "duration": 0,
    "start_time": "2022-07-22T20:02:44.678Z"
   },
   {
    "duration": 1483,
    "start_time": "2022-07-22T20:04:17.993Z"
   },
   {
    "duration": 273,
    "start_time": "2022-07-22T20:04:19.479Z"
   },
   {
    "duration": 43,
    "start_time": "2022-07-22T20:04:19.755Z"
   },
   {
    "duration": 89,
    "start_time": "2022-07-22T20:04:19.800Z"
   },
   {
    "duration": 116,
    "start_time": "2022-07-22T20:04:19.892Z"
   },
   {
    "duration": 18,
    "start_time": "2022-07-22T20:04:20.010Z"
   },
   {
    "duration": 27,
    "start_time": "2022-07-22T20:04:20.030Z"
   },
   {
    "duration": 2900,
    "start_time": "2022-07-22T20:04:20.059Z"
   },
   {
    "duration": 76,
    "start_time": "2022-07-22T20:04:22.961Z"
   },
   {
    "duration": 6,
    "start_time": "2022-07-22T20:04:23.039Z"
   },
   {
    "duration": 16,
    "start_time": "2022-07-22T20:04:23.047Z"
   },
   {
    "duration": 91,
    "start_time": "2022-07-22T20:04:23.065Z"
   },
   {
    "duration": 301,
    "start_time": "2022-07-22T20:04:23.158Z"
   },
   {
    "duration": 3,
    "start_time": "2022-07-22T20:04:23.462Z"
   },
   {
    "duration": 1162,
    "start_time": "2022-07-22T20:04:23.522Z"
   },
   {
    "duration": 6,
    "start_time": "2022-07-22T20:04:24.687Z"
   },
   {
    "duration": 13,
    "start_time": "2022-07-22T20:04:24.695Z"
   },
   {
    "duration": 1253,
    "start_time": "2022-07-22T20:04:24.710Z"
   },
   {
    "duration": 0,
    "start_time": "2022-07-22T20:04:25.965Z"
   },
   {
    "duration": 0,
    "start_time": "2022-07-22T20:04:25.966Z"
   },
   {
    "duration": 0,
    "start_time": "2022-07-22T20:04:25.968Z"
   },
   {
    "duration": 0,
    "start_time": "2022-07-22T20:04:25.970Z"
   },
   {
    "duration": 0,
    "start_time": "2022-07-22T20:04:25.971Z"
   },
   {
    "duration": 0,
    "start_time": "2022-07-22T20:04:25.973Z"
   },
   {
    "duration": 0,
    "start_time": "2022-07-22T20:04:25.974Z"
   },
   {
    "duration": 0,
    "start_time": "2022-07-22T20:04:25.975Z"
   },
   {
    "duration": 0,
    "start_time": "2022-07-22T20:04:25.977Z"
   },
   {
    "duration": 0,
    "start_time": "2022-07-22T20:04:25.979Z"
   },
   {
    "duration": 0,
    "start_time": "2022-07-22T20:04:25.980Z"
   },
   {
    "duration": 0,
    "start_time": "2022-07-22T20:04:25.982Z"
   },
   {
    "duration": 0,
    "start_time": "2022-07-22T20:04:25.983Z"
   },
   {
    "duration": 0,
    "start_time": "2022-07-22T20:04:25.986Z"
   },
   {
    "duration": 0,
    "start_time": "2022-07-22T20:04:25.987Z"
   },
   {
    "duration": 0,
    "start_time": "2022-07-22T20:04:25.988Z"
   },
   {
    "duration": 1,
    "start_time": "2022-07-22T20:04:25.989Z"
   },
   {
    "duration": 0,
    "start_time": "2022-07-22T20:04:25.991Z"
   },
   {
    "duration": 0,
    "start_time": "2022-07-22T20:04:25.992Z"
   },
   {
    "duration": 108,
    "start_time": "2022-07-22T20:05:00.594Z"
   },
   {
    "duration": 62,
    "start_time": "2022-07-22T20:06:04.112Z"
   },
   {
    "duration": 85,
    "start_time": "2022-07-22T20:06:05.285Z"
   },
   {
    "duration": 68,
    "start_time": "2022-07-22T20:06:25.893Z"
   },
   {
    "duration": 65,
    "start_time": "2022-07-22T20:06:38.325Z"
   },
   {
    "duration": 1506,
    "start_time": "2022-07-22T20:07:32.939Z"
   },
   {
    "duration": 328,
    "start_time": "2022-07-22T20:07:34.448Z"
   },
   {
    "duration": 44,
    "start_time": "2022-07-22T20:07:34.778Z"
   },
   {
    "duration": 49,
    "start_time": "2022-07-22T20:07:34.824Z"
   },
   {
    "duration": 106,
    "start_time": "2022-07-22T20:07:34.876Z"
   },
   {
    "duration": 15,
    "start_time": "2022-07-22T20:07:34.984Z"
   },
   {
    "duration": 42,
    "start_time": "2022-07-22T20:07:35.001Z"
   },
   {
    "duration": 3380,
    "start_time": "2022-07-22T20:07:35.045Z"
   },
   {
    "duration": 16,
    "start_time": "2022-07-22T20:07:38.427Z"
   },
   {
    "duration": 11,
    "start_time": "2022-07-22T20:07:38.445Z"
   },
   {
    "duration": 23,
    "start_time": "2022-07-22T20:07:38.458Z"
   },
   {
    "duration": 75,
    "start_time": "2022-07-22T20:07:38.483Z"
   },
   {
    "duration": 196,
    "start_time": "2022-07-22T20:07:38.560Z"
   },
   {
    "duration": 5,
    "start_time": "2022-07-22T20:07:38.761Z"
   },
   {
    "duration": 739,
    "start_time": "2022-07-22T20:07:38.768Z"
   },
   {
    "duration": 4,
    "start_time": "2022-07-22T20:07:39.509Z"
   },
   {
    "duration": 11,
    "start_time": "2022-07-22T20:07:39.514Z"
   },
   {
    "duration": 2022,
    "start_time": "2022-07-22T20:07:39.527Z"
   },
   {
    "duration": 32,
    "start_time": "2022-07-22T20:07:41.550Z"
   },
   {
    "duration": 88,
    "start_time": "2022-07-22T20:07:41.584Z"
   },
   {
    "duration": 216,
    "start_time": "2022-07-22T20:07:41.674Z"
   },
   {
    "duration": 17,
    "start_time": "2022-07-22T20:07:41.893Z"
   },
   {
    "duration": 144,
    "start_time": "2022-07-22T20:07:41.912Z"
   },
   {
    "duration": 4,
    "start_time": "2022-07-22T20:07:42.058Z"
   },
   {
    "duration": 39,
    "start_time": "2022-07-22T20:07:42.064Z"
   },
   {
    "duration": 40,
    "start_time": "2022-07-22T20:07:42.105Z"
   },
   {
    "duration": 8,
    "start_time": "2022-07-22T20:07:42.148Z"
   },
   {
    "duration": 4068,
    "start_time": "2022-07-22T20:07:42.158Z"
   },
   {
    "duration": 1250,
    "start_time": "2022-07-22T20:07:46.230Z"
   },
   {
    "duration": 2324,
    "start_time": "2022-07-22T20:07:47.482Z"
   },
   {
    "duration": 619,
    "start_time": "2022-07-22T20:07:49.809Z"
   },
   {
    "duration": 1001,
    "start_time": "2022-07-22T20:07:50.431Z"
   },
   {
    "duration": 7,
    "start_time": "2022-07-22T20:07:51.433Z"
   },
   {
    "duration": 20,
    "start_time": "2022-07-22T20:07:51.441Z"
   },
   {
    "duration": 32,
    "start_time": "2022-07-22T20:07:51.464Z"
   },
   {
    "duration": 33,
    "start_time": "2022-07-22T20:07:51.499Z"
   },
   {
    "duration": 151,
    "start_time": "2022-07-22T20:07:51.534Z"
   },
   {
    "duration": 97,
    "start_time": "2022-07-22T20:08:59.257Z"
   },
   {
    "duration": 1574,
    "start_time": "2022-07-22T20:10:46.617Z"
   },
   {
    "duration": 242,
    "start_time": "2022-07-22T20:10:48.193Z"
   },
   {
    "duration": 57,
    "start_time": "2022-07-22T20:10:48.437Z"
   },
   {
    "duration": 77,
    "start_time": "2022-07-22T20:10:48.496Z"
   },
   {
    "duration": 135,
    "start_time": "2022-07-22T20:10:48.577Z"
   },
   {
    "duration": 28,
    "start_time": "2022-07-22T20:10:48.715Z"
   },
   {
    "duration": 47,
    "start_time": "2022-07-22T20:10:48.746Z"
   },
   {
    "duration": 4882,
    "start_time": "2022-07-22T20:10:48.795Z"
   },
   {
    "duration": 21,
    "start_time": "2022-07-22T20:10:53.679Z"
   },
   {
    "duration": 5,
    "start_time": "2022-07-22T20:10:53.723Z"
   },
   {
    "duration": 37,
    "start_time": "2022-07-22T20:10:53.730Z"
   },
   {
    "duration": 58,
    "start_time": "2022-07-22T20:10:53.769Z"
   },
   {
    "duration": 202,
    "start_time": "2022-07-22T20:10:53.829Z"
   },
   {
    "duration": 4,
    "start_time": "2022-07-22T20:10:54.035Z"
   },
   {
    "duration": 761,
    "start_time": "2022-07-22T20:10:54.041Z"
   },
   {
    "duration": 5,
    "start_time": "2022-07-22T20:10:54.804Z"
   },
   {
    "duration": 4,
    "start_time": "2022-07-22T20:10:54.822Z"
   },
   {
    "duration": 2019,
    "start_time": "2022-07-22T20:10:54.828Z"
   },
   {
    "duration": 37,
    "start_time": "2022-07-22T20:10:56.849Z"
   },
   {
    "duration": 101,
    "start_time": "2022-07-22T20:10:56.888Z"
   },
   {
    "duration": 209,
    "start_time": "2022-07-22T20:10:56.991Z"
   },
   {
    "duration": 25,
    "start_time": "2022-07-22T20:10:57.202Z"
   },
   {
    "duration": 173,
    "start_time": "2022-07-22T20:10:57.229Z"
   },
   {
    "duration": 3,
    "start_time": "2022-07-22T20:10:57.404Z"
   },
   {
    "duration": 41,
    "start_time": "2022-07-22T20:10:57.422Z"
   },
   {
    "duration": 57,
    "start_time": "2022-07-22T20:10:57.466Z"
   },
   {
    "duration": 8,
    "start_time": "2022-07-22T20:10:57.525Z"
   },
   {
    "duration": 4113,
    "start_time": "2022-07-22T20:10:57.536Z"
   },
   {
    "duration": 1180,
    "start_time": "2022-07-22T20:11:01.651Z"
   },
   {
    "duration": 2280,
    "start_time": "2022-07-22T20:11:02.833Z"
   },
   {
    "duration": 541,
    "start_time": "2022-07-22T20:11:05.115Z"
   },
   {
    "duration": 1006,
    "start_time": "2022-07-22T20:11:05.659Z"
   },
   {
    "duration": 7,
    "start_time": "2022-07-22T20:11:06.667Z"
   },
   {
    "duration": 9,
    "start_time": "2022-07-22T20:11:06.676Z"
   },
   {
    "duration": 47,
    "start_time": "2022-07-22T20:11:06.687Z"
   },
   {
    "duration": 30,
    "start_time": "2022-07-22T20:11:06.736Z"
   },
   {
    "duration": 172,
    "start_time": "2022-07-22T20:11:06.768Z"
   },
   {
    "duration": 1564,
    "start_time": "2022-07-22T20:13:01.205Z"
   },
   {
    "duration": 270,
    "start_time": "2022-07-22T20:13:02.771Z"
   },
   {
    "duration": 36,
    "start_time": "2022-07-22T20:13:03.043Z"
   },
   {
    "duration": 64,
    "start_time": "2022-07-22T20:13:03.081Z"
   },
   {
    "duration": 108,
    "start_time": "2022-07-22T20:13:03.148Z"
   },
   {
    "duration": 18,
    "start_time": "2022-07-22T20:13:03.258Z"
   },
   {
    "duration": 32,
    "start_time": "2022-07-22T20:13:03.280Z"
   },
   {
    "duration": 3488,
    "start_time": "2022-07-22T20:13:03.323Z"
   },
   {
    "duration": 23,
    "start_time": "2022-07-22T20:13:06.814Z"
   },
   {
    "duration": 15,
    "start_time": "2022-07-22T20:13:06.839Z"
   },
   {
    "duration": 154,
    "start_time": "2022-07-22T20:13:06.856Z"
   },
   {
    "duration": 0,
    "start_time": "2022-07-22T20:13:07.013Z"
   },
   {
    "duration": 0,
    "start_time": "2022-07-22T20:13:07.014Z"
   },
   {
    "duration": 0,
    "start_time": "2022-07-22T20:13:07.023Z"
   },
   {
    "duration": 0,
    "start_time": "2022-07-22T20:13:07.025Z"
   },
   {
    "duration": 0,
    "start_time": "2022-07-22T20:13:07.026Z"
   },
   {
    "duration": 0,
    "start_time": "2022-07-22T20:13:07.134Z"
   },
   {
    "duration": 0,
    "start_time": "2022-07-22T20:13:07.135Z"
   },
   {
    "duration": 0,
    "start_time": "2022-07-22T20:13:07.136Z"
   },
   {
    "duration": 0,
    "start_time": "2022-07-22T20:13:07.138Z"
   },
   {
    "duration": 0,
    "start_time": "2022-07-22T20:13:07.139Z"
   },
   {
    "duration": 0,
    "start_time": "2022-07-22T20:13:07.140Z"
   },
   {
    "duration": 0,
    "start_time": "2022-07-22T20:13:07.141Z"
   },
   {
    "duration": 0,
    "start_time": "2022-07-22T20:13:07.142Z"
   },
   {
    "duration": 0,
    "start_time": "2022-07-22T20:13:07.143Z"
   },
   {
    "duration": 0,
    "start_time": "2022-07-22T20:13:07.144Z"
   },
   {
    "duration": 0,
    "start_time": "2022-07-22T20:13:07.145Z"
   },
   {
    "duration": 0,
    "start_time": "2022-07-22T20:13:07.147Z"
   },
   {
    "duration": 0,
    "start_time": "2022-07-22T20:13:07.148Z"
   },
   {
    "duration": 0,
    "start_time": "2022-07-22T20:13:07.149Z"
   },
   {
    "duration": 0,
    "start_time": "2022-07-22T20:13:07.151Z"
   },
   {
    "duration": 0,
    "start_time": "2022-07-22T20:13:07.152Z"
   },
   {
    "duration": 0,
    "start_time": "2022-07-22T20:13:07.154Z"
   },
   {
    "duration": 0,
    "start_time": "2022-07-22T20:13:07.155Z"
   },
   {
    "duration": 1,
    "start_time": "2022-07-22T20:13:07.156Z"
   },
   {
    "duration": 0,
    "start_time": "2022-07-22T20:13:07.158Z"
   },
   {
    "duration": 0,
    "start_time": "2022-07-22T20:13:07.159Z"
   },
   {
    "duration": 41,
    "start_time": "2022-07-22T20:13:27.253Z"
   },
   {
    "duration": 46,
    "start_time": "2022-07-22T20:13:30.815Z"
   },
   {
    "duration": 66,
    "start_time": "2022-07-22T20:13:32.765Z"
   },
   {
    "duration": 13,
    "start_time": "2022-07-22T20:14:41.153Z"
   },
   {
    "duration": 1612,
    "start_time": "2022-07-22T20:14:48.209Z"
   },
   {
    "duration": 259,
    "start_time": "2022-07-22T20:14:49.824Z"
   },
   {
    "duration": 47,
    "start_time": "2022-07-22T20:14:50.084Z"
   },
   {
    "duration": 68,
    "start_time": "2022-07-22T20:14:50.133Z"
   },
   {
    "duration": 87,
    "start_time": "2022-07-22T20:14:50.222Z"
   },
   {
    "duration": 25,
    "start_time": "2022-07-22T20:14:50.310Z"
   },
   {
    "duration": 27,
    "start_time": "2022-07-22T20:14:50.336Z"
   },
   {
    "duration": 2490,
    "start_time": "2022-07-22T20:14:50.365Z"
   },
   {
    "duration": 17,
    "start_time": "2022-07-22T20:14:52.857Z"
   },
   {
    "duration": 26,
    "start_time": "2022-07-22T20:14:52.877Z"
   },
   {
    "duration": 48,
    "start_time": "2022-07-22T20:14:52.905Z"
   },
   {
    "duration": 69,
    "start_time": "2022-07-22T20:14:52.956Z"
   },
   {
    "duration": 223,
    "start_time": "2022-07-22T20:14:53.027Z"
   },
   {
    "duration": 5,
    "start_time": "2022-07-22T20:14:53.255Z"
   },
   {
    "duration": 676,
    "start_time": "2022-07-22T20:14:53.262Z"
   },
   {
    "duration": 5,
    "start_time": "2022-07-22T20:14:53.940Z"
   },
   {
    "duration": 17,
    "start_time": "2022-07-22T20:14:53.947Z"
   },
   {
    "duration": 1997,
    "start_time": "2022-07-22T20:14:53.966Z"
   },
   {
    "duration": 40,
    "start_time": "2022-07-22T20:14:55.965Z"
   },
   {
    "duration": 88,
    "start_time": "2022-07-22T20:14:56.007Z"
   },
   {
    "duration": 215,
    "start_time": "2022-07-22T20:14:56.097Z"
   },
   {
    "duration": 22,
    "start_time": "2022-07-22T20:14:56.315Z"
   },
   {
    "duration": 132,
    "start_time": "2022-07-22T20:14:56.339Z"
   },
   {
    "duration": 3,
    "start_time": "2022-07-22T20:14:56.473Z"
   },
   {
    "duration": 30,
    "start_time": "2022-07-22T20:14:56.478Z"
   },
   {
    "duration": 8,
    "start_time": "2022-07-22T20:14:56.523Z"
   },
   {
    "duration": 3829,
    "start_time": "2022-07-22T20:14:56.534Z"
   },
   {
    "duration": 1265,
    "start_time": "2022-07-22T20:15:00.367Z"
   },
   {
    "duration": 2234,
    "start_time": "2022-07-22T20:15:01.635Z"
   },
   {
    "duration": 583,
    "start_time": "2022-07-22T20:15:03.871Z"
   },
   {
    "duration": 952,
    "start_time": "2022-07-22T20:15:04.456Z"
   },
   {
    "duration": 13,
    "start_time": "2022-07-22T20:15:05.410Z"
   },
   {
    "duration": 7,
    "start_time": "2022-07-22T20:15:05.426Z"
   },
   {
    "duration": 21,
    "start_time": "2022-07-22T20:15:05.435Z"
   },
   {
    "duration": 40,
    "start_time": "2022-07-22T20:15:05.458Z"
   },
   {
    "duration": 129,
    "start_time": "2022-07-22T20:15:05.500Z"
   },
   {
    "duration": 50,
    "start_time": "2022-07-22T20:18:28.836Z"
   },
   {
    "duration": 25,
    "start_time": "2022-07-22T20:19:11.257Z"
   },
   {
    "duration": 1523,
    "start_time": "2022-07-22T20:19:16.979Z"
   },
   {
    "duration": 408,
    "start_time": "2022-07-22T20:19:18.505Z"
   },
   {
    "duration": 47,
    "start_time": "2022-07-22T20:19:18.915Z"
   },
   {
    "duration": 91,
    "start_time": "2022-07-22T20:19:18.965Z"
   },
   {
    "duration": 102,
    "start_time": "2022-07-22T20:19:19.059Z"
   },
   {
    "duration": 15,
    "start_time": "2022-07-22T20:19:19.164Z"
   },
   {
    "duration": 63,
    "start_time": "2022-07-22T20:19:19.181Z"
   },
   {
    "duration": 2906,
    "start_time": "2022-07-22T20:19:19.247Z"
   },
   {
    "duration": 20,
    "start_time": "2022-07-22T20:19:22.156Z"
   },
   {
    "duration": 8,
    "start_time": "2022-07-22T20:19:22.179Z"
   },
   {
    "duration": 45,
    "start_time": "2022-07-22T20:19:22.189Z"
   },
   {
    "duration": 327,
    "start_time": "2022-07-22T20:19:22.236Z"
   },
   {
    "duration": 70,
    "start_time": "2022-07-22T20:19:22.565Z"
   },
   {
    "duration": 3,
    "start_time": "2022-07-22T20:19:22.638Z"
   },
   {
    "duration": 2048,
    "start_time": "2022-07-22T20:19:22.643Z"
   },
   {
    "duration": 4,
    "start_time": "2022-07-22T20:19:24.693Z"
   },
   {
    "duration": 7,
    "start_time": "2022-07-22T20:19:24.699Z"
   },
   {
    "duration": 2034,
    "start_time": "2022-07-22T20:19:24.708Z"
   },
   {
    "duration": 52,
    "start_time": "2022-07-22T20:19:26.743Z"
   },
   {
    "duration": 146,
    "start_time": "2022-07-22T20:19:26.798Z"
   },
   {
    "duration": 267,
    "start_time": "2022-07-22T20:19:26.947Z"
   },
   {
    "duration": 18,
    "start_time": "2022-07-22T20:19:27.216Z"
   },
   {
    "duration": 186,
    "start_time": "2022-07-22T20:19:27.237Z"
   },
   {
    "duration": 4,
    "start_time": "2022-07-22T20:19:27.425Z"
   },
   {
    "duration": 29,
    "start_time": "2022-07-22T20:19:27.432Z"
   },
   {
    "duration": 7,
    "start_time": "2022-07-22T20:19:27.464Z"
   },
   {
    "duration": 4155,
    "start_time": "2022-07-22T20:19:27.474Z"
   },
   {
    "duration": 1203,
    "start_time": "2022-07-22T20:19:31.631Z"
   },
   {
    "duration": 2507,
    "start_time": "2022-07-22T20:19:32.837Z"
   },
   {
    "duration": 527,
    "start_time": "2022-07-22T20:19:35.346Z"
   },
   {
    "duration": 946,
    "start_time": "2022-07-22T20:19:35.876Z"
   },
   {
    "duration": 7,
    "start_time": "2022-07-22T20:19:36.825Z"
   },
   {
    "duration": 7,
    "start_time": "2022-07-22T20:19:36.834Z"
   },
   {
    "duration": 24,
    "start_time": "2022-07-22T20:19:36.843Z"
   },
   {
    "duration": 54,
    "start_time": "2022-07-22T20:19:36.870Z"
   },
   {
    "duration": 166,
    "start_time": "2022-07-22T20:19:36.926Z"
   },
   {
    "duration": 25,
    "start_time": "2022-07-22T20:19:53.099Z"
   },
   {
    "duration": 5,
    "start_time": "2022-07-22T20:20:22.736Z"
   },
   {
    "duration": 25,
    "start_time": "2022-07-22T20:20:24.961Z"
   },
   {
    "duration": 6,
    "start_time": "2022-07-22T20:21:08.990Z"
   },
   {
    "duration": 21,
    "start_time": "2022-07-22T20:21:10.609Z"
   },
   {
    "duration": 5,
    "start_time": "2022-07-22T20:21:41.735Z"
   },
   {
    "duration": 27,
    "start_time": "2022-07-22T20:21:42.431Z"
   },
   {
    "duration": 5,
    "start_time": "2022-07-22T20:22:09.875Z"
   },
   {
    "duration": 26,
    "start_time": "2022-07-22T20:22:10.643Z"
   },
   {
    "duration": 5,
    "start_time": "2022-07-22T20:23:35.503Z"
   },
   {
    "duration": 13,
    "start_time": "2022-07-22T20:23:36.158Z"
   },
   {
    "duration": 5,
    "start_time": "2022-07-22T20:23:46.776Z"
   },
   {
    "duration": 14,
    "start_time": "2022-07-22T20:23:47.527Z"
   },
   {
    "duration": 4,
    "start_time": "2022-07-22T20:24:14.793Z"
   },
   {
    "duration": 18,
    "start_time": "2022-07-22T20:24:15.281Z"
   },
   {
    "duration": 5,
    "start_time": "2022-07-22T20:25:45.277Z"
   },
   {
    "duration": 24,
    "start_time": "2022-07-22T20:25:46.096Z"
   },
   {
    "duration": 6,
    "start_time": "2022-07-22T20:25:59.590Z"
   },
   {
    "duration": 23,
    "start_time": "2022-07-22T20:26:00.042Z"
   },
   {
    "duration": 6,
    "start_time": "2022-07-22T20:38:50.045Z"
   },
   {
    "duration": 27,
    "start_time": "2022-07-22T20:38:50.650Z"
   },
   {
    "duration": 6,
    "start_time": "2022-07-22T20:39:28.298Z"
   },
   {
    "duration": 19,
    "start_time": "2022-07-22T20:39:29.039Z"
   },
   {
    "duration": 5,
    "start_time": "2022-07-22T20:39:51.584Z"
   },
   {
    "duration": 19,
    "start_time": "2022-07-22T20:39:52.368Z"
   },
   {
    "duration": 5,
    "start_time": "2022-07-22T20:40:14.339Z"
   },
   {
    "duration": 28,
    "start_time": "2022-07-22T20:40:14.934Z"
   },
   {
    "duration": 5,
    "start_time": "2022-07-22T20:42:11.735Z"
   },
   {
    "duration": 73621,
    "start_time": "2022-07-22T20:42:12.489Z"
   },
   {
    "duration": 4,
    "start_time": "2022-07-22T20:43:34.177Z"
   },
   {
    "duration": 70989,
    "start_time": "2022-07-22T20:43:35.035Z"
   },
   {
    "duration": 4,
    "start_time": "2022-07-22T20:45:17.467Z"
   },
   {
    "duration": 18,
    "start_time": "2022-07-22T20:45:18.022Z"
   },
   {
    "duration": 5,
    "start_time": "2022-07-22T20:49:38.449Z"
   },
   {
    "duration": 18,
    "start_time": "2022-07-22T20:49:39.197Z"
   },
   {
    "duration": 4,
    "start_time": "2022-07-22T20:50:06.469Z"
   },
   {
    "duration": 23,
    "start_time": "2022-07-22T20:50:06.961Z"
   },
   {
    "duration": 4,
    "start_time": "2022-07-22T20:57:46.099Z"
   },
   {
    "duration": 58,
    "start_time": "2022-07-22T20:57:47.150Z"
   },
   {
    "duration": 5,
    "start_time": "2022-07-22T20:58:55.944Z"
   },
   {
    "duration": 20,
    "start_time": "2022-07-22T20:58:57.155Z"
   },
   {
    "duration": 4,
    "start_time": "2022-07-22T20:59:09.339Z"
   },
   {
    "duration": 21,
    "start_time": "2022-07-22T20:59:10.346Z"
   },
   {
    "duration": 5,
    "start_time": "2022-07-22T20:59:27.042Z"
   },
   {
    "duration": 21,
    "start_time": "2022-07-22T20:59:27.643Z"
   },
   {
    "duration": 4,
    "start_time": "2022-07-22T21:00:16.449Z"
   },
   {
    "duration": 32,
    "start_time": "2022-07-22T21:00:16.951Z"
   },
   {
    "duration": 5,
    "start_time": "2022-07-22T21:06:44.799Z"
   },
   {
    "duration": 19,
    "start_time": "2022-07-22T21:06:45.393Z"
   },
   {
    "duration": 5,
    "start_time": "2022-07-22T21:07:07.743Z"
   },
   {
    "duration": 30,
    "start_time": "2022-07-22T21:07:08.252Z"
   },
   {
    "duration": 8,
    "start_time": "2022-07-22T21:07:15.548Z"
   },
   {
    "duration": 26,
    "start_time": "2022-07-22T21:07:16.402Z"
   },
   {
    "duration": 5,
    "start_time": "2022-07-22T21:08:14.081Z"
   },
   {
    "duration": 20,
    "start_time": "2022-07-22T21:08:14.645Z"
   },
   {
    "duration": 5,
    "start_time": "2022-07-22T21:10:18.746Z"
   },
   {
    "duration": 25,
    "start_time": "2022-07-22T21:10:19.183Z"
   },
   {
    "duration": 6,
    "start_time": "2022-07-22T21:10:34.548Z"
   },
   {
    "duration": 21,
    "start_time": "2022-07-22T21:10:35.275Z"
   },
   {
    "duration": 7,
    "start_time": "2022-07-22T21:11:04.694Z"
   },
   {
    "duration": 29,
    "start_time": "2022-07-22T21:11:06.012Z"
   },
   {
    "duration": 4,
    "start_time": "2022-07-22T21:13:29.292Z"
   },
   {
    "duration": 19,
    "start_time": "2022-07-22T21:13:29.858Z"
   },
   {
    "duration": 5,
    "start_time": "2022-07-22T21:16:03.167Z"
   },
   {
    "duration": 20,
    "start_time": "2022-07-22T21:16:03.736Z"
   },
   {
    "duration": 4,
    "start_time": "2022-07-22T21:16:41.247Z"
   },
   {
    "duration": 19,
    "start_time": "2022-07-22T21:16:41.654Z"
   },
   {
    "duration": 4,
    "start_time": "2022-07-22T21:18:46.440Z"
   },
   {
    "duration": 33,
    "start_time": "2022-07-22T21:18:47.002Z"
   },
   {
    "duration": 5,
    "start_time": "2022-07-22T21:19:25.335Z"
   },
   {
    "duration": 30,
    "start_time": "2022-07-22T21:19:27.103Z"
   },
   {
    "duration": 54,
    "start_time": "2022-07-22T21:19:56.392Z"
   },
   {
    "duration": 4,
    "start_time": "2022-07-22T21:20:05.783Z"
   },
   {
    "duration": 29,
    "start_time": "2022-07-22T21:20:06.273Z"
   },
   {
    "duration": 5,
    "start_time": "2022-07-22T21:20:29.504Z"
   },
   {
    "duration": 25,
    "start_time": "2022-07-22T21:20:30.193Z"
   },
   {
    "duration": 5,
    "start_time": "2022-07-22T21:23:05.462Z"
   },
   {
    "duration": 18,
    "start_time": "2022-07-22T21:23:05.982Z"
   },
   {
    "duration": 8,
    "start_time": "2022-07-22T21:23:35.733Z"
   },
   {
    "duration": 30,
    "start_time": "2022-07-22T21:23:36.273Z"
   },
   {
    "duration": 5,
    "start_time": "2022-07-22T21:23:55.240Z"
   },
   {
    "duration": 27,
    "start_time": "2022-07-22T21:23:55.735Z"
   },
   {
    "duration": 5,
    "start_time": "2022-07-22T21:24:05.673Z"
   },
   {
    "duration": 26,
    "start_time": "2022-07-22T21:24:06.263Z"
   },
   {
    "duration": 5,
    "start_time": "2022-07-22T21:24:48.936Z"
   },
   {
    "duration": 25,
    "start_time": "2022-07-22T21:24:49.667Z"
   },
   {
    "duration": 5,
    "start_time": "2022-07-22T21:25:32.148Z"
   },
   {
    "duration": 25,
    "start_time": "2022-07-22T21:25:32.892Z"
   },
   {
    "duration": 4,
    "start_time": "2022-07-22T21:26:02.873Z"
   },
   {
    "duration": 24,
    "start_time": "2022-07-22T21:26:03.462Z"
   },
   {
    "duration": 4,
    "start_time": "2022-07-22T21:26:11.483Z"
   },
   {
    "duration": 25,
    "start_time": "2022-07-22T21:26:12.003Z"
   },
   {
    "duration": 7,
    "start_time": "2022-07-22T21:26:46.844Z"
   },
   {
    "duration": 25,
    "start_time": "2022-07-22T21:26:47.362Z"
   },
   {
    "duration": 7,
    "start_time": "2022-07-22T21:30:38.992Z"
   },
   {
    "duration": 75,
    "start_time": "2022-07-22T21:31:26.064Z"
   },
   {
    "duration": 78,
    "start_time": "2022-07-22T21:33:14.484Z"
   },
   {
    "duration": 177,
    "start_time": "2022-07-22T21:34:04.193Z"
   },
   {
    "duration": 31,
    "start_time": "2022-07-22T21:34:27.304Z"
   },
   {
    "duration": 21,
    "start_time": "2022-07-22T21:34:53.093Z"
   },
   {
    "duration": 11,
    "start_time": "2022-07-22T21:35:05.145Z"
   },
   {
    "duration": 109,
    "start_time": "2022-07-22T21:35:22.831Z"
   },
   {
    "duration": 570,
    "start_time": "2022-07-22T21:35:37.854Z"
   },
   {
    "duration": 1415,
    "start_time": "2022-07-22T21:37:08.353Z"
   },
   {
    "duration": 56,
    "start_time": "2022-07-22T21:39:03.553Z"
   },
   {
    "duration": 1272,
    "start_time": "2022-07-22T21:39:19.839Z"
   },
   {
    "duration": 20,
    "start_time": "2022-07-22T21:39:49.075Z"
   },
   {
    "duration": 20,
    "start_time": "2022-07-22T21:40:13.243Z"
   },
   {
    "duration": 19,
    "start_time": "2022-07-22T21:41:02.460Z"
   },
   {
    "duration": 89,
    "start_time": "2022-07-22T21:41:14.488Z"
   },
   {
    "duration": 65,
    "start_time": "2022-07-22T21:42:08.163Z"
   },
   {
    "duration": 27,
    "start_time": "2022-07-22T21:44:29.255Z"
   },
   {
    "duration": 46,
    "start_time": "2022-07-22T21:44:51.855Z"
   },
   {
    "duration": 20,
    "start_time": "2022-07-22T21:46:45.039Z"
   },
   {
    "duration": 25,
    "start_time": "2022-07-22T21:47:58.039Z"
   },
   {
    "duration": 25,
    "start_time": "2022-07-22T21:49:16.081Z"
   },
   {
    "duration": 25,
    "start_time": "2022-07-22T21:49:31.555Z"
   },
   {
    "duration": 172,
    "start_time": "2022-07-22T21:49:42.981Z"
   },
   {
    "duration": 27,
    "start_time": "2022-07-22T21:51:13.067Z"
   },
   {
    "duration": 23,
    "start_time": "2022-07-22T22:04:36.281Z"
   },
   {
    "duration": 3,
    "start_time": "2022-07-22T22:12:03.047Z"
   },
   {
    "duration": 12,
    "start_time": "2022-07-22T22:14:02.021Z"
   },
   {
    "duration": 1260,
    "start_time": "2022-07-22T22:14:06.636Z"
   },
   {
    "duration": 1060,
    "start_time": "2022-07-22T22:14:23.887Z"
   },
   {
    "duration": 940,
    "start_time": "2022-07-22T22:16:04.511Z"
   },
   {
    "duration": 28,
    "start_time": "2022-07-22T22:16:26.851Z"
   },
   {
    "duration": 12,
    "start_time": "2022-07-22T22:18:30.543Z"
   },
   {
    "duration": 10975,
    "start_time": "2022-07-22T22:18:49.338Z"
   },
   {
    "duration": 10841,
    "start_time": "2022-07-22T22:19:09.871Z"
   },
   {
    "duration": 10704,
    "start_time": "2022-07-22T22:19:27.247Z"
   },
   {
    "duration": 52,
    "start_time": "2022-07-22T22:21:48.135Z"
   },
   {
    "duration": 4,
    "start_time": "2022-07-22T22:21:53.472Z"
   },
   {
    "duration": 5,
    "start_time": "2022-07-22T22:22:06.451Z"
   },
   {
    "duration": 5,
    "start_time": "2022-07-22T22:22:10.413Z"
   },
   {
    "duration": 4,
    "start_time": "2022-07-22T22:23:05.001Z"
   },
   {
    "duration": 73,
    "start_time": "2022-07-22T22:23:29.463Z"
   },
   {
    "duration": 4,
    "start_time": "2022-07-22T22:23:45.863Z"
   },
   {
    "duration": 9,
    "start_time": "2022-07-22T22:24:09.451Z"
   },
   {
    "duration": 10,
    "start_time": "2022-07-22T22:25:55.271Z"
   },
   {
    "duration": 10,
    "start_time": "2022-07-22T22:26:02.187Z"
   },
   {
    "duration": 9,
    "start_time": "2022-07-22T22:29:33.646Z"
   },
   {
    "duration": 4,
    "start_time": "2022-07-22T22:29:40.500Z"
   },
   {
    "duration": 4,
    "start_time": "2022-07-22T22:29:46.246Z"
   },
   {
    "duration": 422,
    "start_time": "2022-07-22T22:30:14.836Z"
   },
   {
    "duration": 405,
    "start_time": "2022-07-22T22:30:42.771Z"
   },
   {
    "duration": 404,
    "start_time": "2022-07-22T22:30:54.675Z"
   },
   {
    "duration": 390,
    "start_time": "2022-07-22T22:31:50.893Z"
   },
   {
    "duration": 402,
    "start_time": "2022-07-22T22:33:05.793Z"
   },
   {
    "duration": 387,
    "start_time": "2022-07-22T22:33:16.054Z"
   },
   {
    "duration": 399,
    "start_time": "2022-07-22T22:35:37.656Z"
   },
   {
    "duration": 400,
    "start_time": "2022-07-22T22:35:41.676Z"
   },
   {
    "duration": 396,
    "start_time": "2022-07-22T22:35:51.147Z"
   },
   {
    "duration": 64,
    "start_time": "2022-07-23T06:46:33.477Z"
   },
   {
    "duration": 2107,
    "start_time": "2022-07-23T06:46:44.296Z"
   },
   {
    "duration": 1144,
    "start_time": "2022-07-23T06:46:46.407Z"
   },
   {
    "duration": 46,
    "start_time": "2022-07-23T06:46:47.553Z"
   },
   {
    "duration": 54,
    "start_time": "2022-07-23T06:46:47.604Z"
   },
   {
    "duration": 139,
    "start_time": "2022-07-23T06:46:47.661Z"
   },
   {
    "duration": 24,
    "start_time": "2022-07-23T06:46:47.805Z"
   },
   {
    "duration": 48,
    "start_time": "2022-07-23T06:46:47.830Z"
   },
   {
    "duration": 3065,
    "start_time": "2022-07-23T06:46:47.880Z"
   },
   {
    "duration": 19,
    "start_time": "2022-07-23T06:46:50.948Z"
   },
   {
    "duration": 8,
    "start_time": "2022-07-23T06:46:50.970Z"
   },
   {
    "duration": 14,
    "start_time": "2022-07-23T06:46:50.980Z"
   },
   {
    "duration": 148,
    "start_time": "2022-07-23T06:46:50.996Z"
   },
   {
    "duration": 3,
    "start_time": "2022-07-23T06:46:51.146Z"
   },
   {
    "duration": 960,
    "start_time": "2022-07-23T06:46:51.152Z"
   },
   {
    "duration": 8,
    "start_time": "2022-07-23T06:46:52.114Z"
   },
   {
    "duration": 20,
    "start_time": "2022-07-23T06:46:52.125Z"
   },
   {
    "duration": 2429,
    "start_time": "2022-07-23T06:46:52.148Z"
   },
   {
    "duration": 41,
    "start_time": "2022-07-23T06:46:54.579Z"
   },
   {
    "duration": 125,
    "start_time": "2022-07-23T06:46:54.624Z"
   },
   {
    "duration": 249,
    "start_time": "2022-07-23T06:46:54.751Z"
   },
   {
    "duration": 17,
    "start_time": "2022-07-23T06:46:55.004Z"
   },
   {
    "duration": 170,
    "start_time": "2022-07-23T06:46:55.024Z"
   },
   {
    "duration": 9,
    "start_time": "2022-07-23T06:46:55.196Z"
   },
   {
    "duration": 65,
    "start_time": "2022-07-23T06:46:55.208Z"
   },
   {
    "duration": 8,
    "start_time": "2022-07-23T06:46:55.275Z"
   },
   {
    "duration": 4348,
    "start_time": "2022-07-23T06:46:55.286Z"
   },
   {
    "duration": 169,
    "start_time": "2022-07-23T06:46:59.637Z"
   },
   {
    "duration": 1,
    "start_time": "2022-07-23T06:46:59.808Z"
   },
   {
    "duration": 0,
    "start_time": "2022-07-23T06:46:59.810Z"
   },
   {
    "duration": 0,
    "start_time": "2022-07-23T06:46:59.812Z"
   },
   {
    "duration": 0,
    "start_time": "2022-07-23T06:46:59.814Z"
   },
   {
    "duration": 0,
    "start_time": "2022-07-23T06:46:59.815Z"
   },
   {
    "duration": 0,
    "start_time": "2022-07-23T06:46:59.817Z"
   },
   {
    "duration": 0,
    "start_time": "2022-07-23T06:46:59.819Z"
   },
   {
    "duration": 0,
    "start_time": "2022-07-23T06:46:59.821Z"
   },
   {
    "duration": 1047,
    "start_time": "2022-07-23T06:47:35.384Z"
   },
   {
    "duration": 2243,
    "start_time": "2022-07-23T06:47:42.570Z"
   },
   {
    "duration": 565,
    "start_time": "2022-07-23T06:47:44.815Z"
   },
   {
    "duration": 963,
    "start_time": "2022-07-23T06:47:45.382Z"
   },
   {
    "duration": 6,
    "start_time": "2022-07-23T06:47:46.348Z"
   },
   {
    "duration": 9,
    "start_time": "2022-07-23T06:47:46.355Z"
   },
   {
    "duration": 54,
    "start_time": "2022-07-23T06:47:46.366Z"
   },
   {
    "duration": 142,
    "start_time": "2022-07-23T06:47:46.422Z"
   },
   {
    "duration": 0,
    "start_time": "2022-07-23T06:47:46.567Z"
   },
   {
    "duration": 2375,
    "start_time": "2022-07-23T06:51:59.889Z"
   },
   {
    "duration": 2337,
    "start_time": "2022-07-23T06:52:20.139Z"
   },
   {
    "duration": 20,
    "start_time": "2022-07-23T06:54:00.882Z"
   },
   {
    "duration": 27,
    "start_time": "2022-07-23T06:54:44.655Z"
   },
   {
    "duration": 157,
    "start_time": "2022-07-23T06:55:01.128Z"
   },
   {
    "duration": 31,
    "start_time": "2022-07-23T06:55:30.751Z"
   },
   {
    "duration": 4,
    "start_time": "2022-07-23T06:58:54.878Z"
   },
   {
    "duration": 28,
    "start_time": "2022-07-23T06:58:55.629Z"
   },
   {
    "duration": 5,
    "start_time": "2022-07-23T06:59:16.037Z"
   },
   {
    "duration": 9,
    "start_time": "2022-07-23T06:59:19.314Z"
   },
   {
    "duration": 29,
    "start_time": "2022-07-23T06:59:19.675Z"
   },
   {
    "duration": 6,
    "start_time": "2022-07-23T06:59:43.781Z"
   },
   {
    "duration": 34,
    "start_time": "2022-07-23T06:59:45.930Z"
   },
   {
    "duration": 5,
    "start_time": "2022-07-23T07:00:01.879Z"
   },
   {
    "duration": 45,
    "start_time": "2022-07-23T07:00:03.237Z"
   },
   {
    "duration": 29,
    "start_time": "2022-07-23T07:01:22.176Z"
   },
   {
    "duration": 7,
    "start_time": "2022-07-23T07:02:21.947Z"
   },
   {
    "duration": 28,
    "start_time": "2022-07-23T07:02:22.797Z"
   },
   {
    "duration": 5,
    "start_time": "2022-07-23T07:02:32.169Z"
   },
   {
    "duration": 23,
    "start_time": "2022-07-23T07:02:32.678Z"
   },
   {
    "duration": 8,
    "start_time": "2022-07-23T07:03:05.326Z"
   },
   {
    "duration": 31,
    "start_time": "2022-07-23T07:03:08.578Z"
   },
   {
    "duration": 12,
    "start_time": "2022-07-23T07:05:20.910Z"
   },
   {
    "duration": 35,
    "start_time": "2022-07-23T07:05:22.086Z"
   },
   {
    "duration": 27,
    "start_time": "2022-07-23T07:06:01.445Z"
   },
   {
    "duration": 222,
    "start_time": "2022-07-23T07:06:15.582Z"
   },
   {
    "duration": 99,
    "start_time": "2022-07-23T07:06:29.748Z"
   },
   {
    "duration": 92,
    "start_time": "2022-07-23T07:08:39.149Z"
   },
   {
    "duration": 50,
    "start_time": "2022-07-23T07:09:32.477Z"
   },
   {
    "duration": 49,
    "start_time": "2022-07-23T07:10:13.968Z"
   },
   {
    "duration": 16,
    "start_time": "2022-07-23T07:10:58.378Z"
   },
   {
    "duration": 17,
    "start_time": "2022-07-23T07:11:05.239Z"
   },
   {
    "duration": 1287,
    "start_time": "2022-07-23T07:11:39.286Z"
   },
   {
    "duration": 39,
    "start_time": "2022-07-23T07:12:36.464Z"
   },
   {
    "duration": 37,
    "start_time": "2022-07-23T07:13:13.836Z"
   },
   {
    "duration": 114,
    "start_time": "2022-07-23T07:13:35.150Z"
   },
   {
    "duration": 47,
    "start_time": "2022-07-23T07:14:56.408Z"
   },
   {
    "duration": 5,
    "start_time": "2022-07-23T08:58:51.076Z"
   },
   {
    "duration": 60,
    "start_time": "2022-07-23T08:58:53.254Z"
   },
   {
    "duration": 15,
    "start_time": "2022-07-23T08:59:54.640Z"
   },
   {
    "duration": 29,
    "start_time": "2022-07-23T09:00:14.507Z"
   },
   {
    "duration": 60,
    "start_time": "2022-07-23T09:00:24.754Z"
   },
   {
    "duration": 4,
    "start_time": "2022-07-23T09:00:43.810Z"
   },
   {
    "duration": 2361,
    "start_time": "2022-07-23T09:01:08.719Z"
   },
   {
    "duration": 8,
    "start_time": "2022-07-23T09:03:08.409Z"
   },
   {
    "duration": 27,
    "start_time": "2022-07-23T09:03:10.249Z"
   },
   {
    "duration": 5,
    "start_time": "2022-07-23T09:04:38.608Z"
   },
   {
    "duration": 18,
    "start_time": "2022-07-23T09:04:38.932Z"
   },
   {
    "duration": 4,
    "start_time": "2022-07-23T09:04:47.368Z"
   },
   {
    "duration": 15,
    "start_time": "2022-07-23T09:04:47.844Z"
   },
   {
    "duration": 5,
    "start_time": "2022-07-23T09:05:56.632Z"
   },
   {
    "duration": 6,
    "start_time": "2022-07-23T09:06:02.472Z"
   },
   {
    "duration": 14,
    "start_time": "2022-07-23T09:06:21.492Z"
   },
   {
    "duration": 4,
    "start_time": "2022-07-23T09:06:37.061Z"
   },
   {
    "duration": 9,
    "start_time": "2022-07-23T09:07:18.468Z"
   },
   {
    "duration": 9,
    "start_time": "2022-07-23T09:07:28.588Z"
   },
   {
    "duration": 5,
    "start_time": "2022-07-23T09:07:55.870Z"
   },
   {
    "duration": 8,
    "start_time": "2022-07-23T09:08:05.060Z"
   },
   {
    "duration": 9,
    "start_time": "2022-07-23T09:08:20.691Z"
   },
   {
    "duration": 8,
    "start_time": "2022-07-23T09:09:31.938Z"
   },
   {
    "duration": 5,
    "start_time": "2022-07-23T09:12:45.077Z"
   },
   {
    "duration": 10,
    "start_time": "2022-07-23T09:14:35.658Z"
   },
   {
    "duration": 44,
    "start_time": "2022-07-23T09:14:45.640Z"
   },
   {
    "duration": 4,
    "start_time": "2022-07-23T09:14:54.749Z"
   },
   {
    "duration": 83,
    "start_time": "2022-07-23T09:14:55.208Z"
   },
   {
    "duration": 4,
    "start_time": "2022-07-23T09:15:12.343Z"
   },
   {
    "duration": 52,
    "start_time": "2022-07-23T09:15:12.642Z"
   },
   {
    "duration": 6,
    "start_time": "2022-07-23T09:21:14.015Z"
   },
   {
    "duration": 26,
    "start_time": "2022-07-23T09:21:17.316Z"
   },
   {
    "duration": 5,
    "start_time": "2022-07-23T09:22:34.246Z"
   },
   {
    "duration": 22,
    "start_time": "2022-07-23T09:22:41.844Z"
   },
   {
    "duration": 20,
    "start_time": "2022-07-23T09:24:44.040Z"
   },
   {
    "duration": 7,
    "start_time": "2022-07-23T09:25:10.289Z"
   },
   {
    "duration": 27,
    "start_time": "2022-07-23T09:25:12.709Z"
   },
   {
    "duration": 19,
    "start_time": "2022-07-23T09:25:20.550Z"
   },
   {
    "duration": 5,
    "start_time": "2022-07-23T09:25:45.889Z"
   },
   {
    "duration": 3,
    "start_time": "2022-07-23T09:25:47.746Z"
   },
   {
    "duration": 23,
    "start_time": "2022-07-23T09:25:48.161Z"
   },
   {
    "duration": 6,
    "start_time": "2022-07-23T09:26:31.562Z"
   },
   {
    "duration": 24,
    "start_time": "2022-07-23T09:26:32.018Z"
   },
   {
    "duration": 6,
    "start_time": "2022-07-23T09:27:24.699Z"
   },
   {
    "duration": 22,
    "start_time": "2022-07-23T09:27:25.102Z"
   },
   {
    "duration": 8,
    "start_time": "2022-07-23T09:28:25.564Z"
   },
   {
    "duration": 28,
    "start_time": "2022-07-23T09:28:26.351Z"
   },
   {
    "duration": 8,
    "start_time": "2022-07-23T09:28:38.851Z"
   },
   {
    "duration": 19,
    "start_time": "2022-07-23T09:28:39.124Z"
   },
   {
    "duration": 6,
    "start_time": "2022-07-23T09:30:51.316Z"
   },
   {
    "duration": 11,
    "start_time": "2022-07-23T09:30:51.766Z"
   },
   {
    "duration": 5,
    "start_time": "2022-07-23T09:31:00.852Z"
   },
   {
    "duration": 19,
    "start_time": "2022-07-23T09:31:01.366Z"
   },
   {
    "duration": 5,
    "start_time": "2022-07-23T09:32:40.935Z"
   },
   {
    "duration": 23,
    "start_time": "2022-07-23T09:32:41.367Z"
   },
   {
    "duration": 5,
    "start_time": "2022-07-23T09:33:36.177Z"
   },
   {
    "duration": 25,
    "start_time": "2022-07-23T09:33:37.548Z"
   },
   {
    "duration": 6,
    "start_time": "2022-07-23T09:33:48.747Z"
   },
   {
    "duration": 4,
    "start_time": "2022-07-23T09:34:03.895Z"
   },
   {
    "duration": 20,
    "start_time": "2022-07-23T09:34:04.396Z"
   },
   {
    "duration": 7,
    "start_time": "2022-07-23T09:36:28.943Z"
   },
   {
    "duration": 19,
    "start_time": "2022-07-23T09:36:29.438Z"
   },
   {
    "duration": 6,
    "start_time": "2022-07-23T09:36:38.846Z"
   },
   {
    "duration": 15,
    "start_time": "2022-07-23T09:36:39.974Z"
   },
   {
    "duration": 9,
    "start_time": "2022-07-23T09:36:55.813Z"
   },
   {
    "duration": 16,
    "start_time": "2022-07-23T09:36:56.183Z"
   },
   {
    "duration": 21,
    "start_time": "2022-07-23T09:37:16.182Z"
   },
   {
    "duration": 19,
    "start_time": "2022-07-23T09:37:22.613Z"
   },
   {
    "duration": 5,
    "start_time": "2022-07-23T09:40:43.563Z"
   },
   {
    "duration": 17,
    "start_time": "2022-07-23T09:40:44.043Z"
   },
   {
    "duration": 5,
    "start_time": "2022-07-23T09:41:03.592Z"
   },
   {
    "duration": 32,
    "start_time": "2022-07-23T09:41:04.124Z"
   },
   {
    "duration": 5,
    "start_time": "2022-07-23T09:41:36.083Z"
   },
   {
    "duration": 10,
    "start_time": "2022-07-23T09:41:37.342Z"
   },
   {
    "duration": 14,
    "start_time": "2022-07-23T09:43:13.964Z"
   },
   {
    "duration": 5,
    "start_time": "2022-07-23T09:43:17.963Z"
   },
   {
    "duration": 17,
    "start_time": "2022-07-23T09:43:19.724Z"
   },
   {
    "duration": 1574,
    "start_time": "2022-07-23T09:43:47.927Z"
   },
   {
    "duration": 326,
    "start_time": "2022-07-23T09:43:49.510Z"
   },
   {
    "duration": 43,
    "start_time": "2022-07-23T09:43:49.838Z"
   },
   {
    "duration": 58,
    "start_time": "2022-07-23T09:43:49.883Z"
   },
   {
    "duration": 99,
    "start_time": "2022-07-23T09:43:49.944Z"
   },
   {
    "duration": 15,
    "start_time": "2022-07-23T09:43:50.045Z"
   },
   {
    "duration": 43,
    "start_time": "2022-07-23T09:43:50.062Z"
   },
   {
    "duration": 2834,
    "start_time": "2022-07-23T09:43:50.107Z"
   },
   {
    "duration": 16,
    "start_time": "2022-07-23T09:43:52.943Z"
   },
   {
    "duration": 8,
    "start_time": "2022-07-23T09:43:52.961Z"
   },
   {
    "duration": 12,
    "start_time": "2022-07-23T09:43:52.971Z"
   },
   {
    "duration": 150,
    "start_time": "2022-07-23T09:43:52.985Z"
   },
   {
    "duration": 3,
    "start_time": "2022-07-23T09:43:53.137Z"
   },
   {
    "duration": 694,
    "start_time": "2022-07-23T09:43:53.143Z"
   },
   {
    "duration": 5,
    "start_time": "2022-07-23T09:43:53.839Z"
   },
   {
    "duration": 15,
    "start_time": "2022-07-23T09:43:53.846Z"
   },
   {
    "duration": 2164,
    "start_time": "2022-07-23T09:43:53.863Z"
   },
   {
    "duration": 33,
    "start_time": "2022-07-23T09:43:56.029Z"
   },
   {
    "duration": 100,
    "start_time": "2022-07-23T09:43:56.065Z"
   },
   {
    "duration": 220,
    "start_time": "2022-07-23T09:43:56.168Z"
   },
   {
    "duration": 24,
    "start_time": "2022-07-23T09:43:56.390Z"
   },
   {
    "duration": 160,
    "start_time": "2022-07-23T09:43:56.417Z"
   },
   {
    "duration": 5,
    "start_time": "2022-07-23T09:43:56.580Z"
   },
   {
    "duration": 68,
    "start_time": "2022-07-23T09:43:56.587Z"
   },
   {
    "duration": 8,
    "start_time": "2022-07-23T09:43:56.657Z"
   },
   {
    "duration": 3875,
    "start_time": "2022-07-23T09:43:56.667Z"
   },
   {
    "duration": 1197,
    "start_time": "2022-07-23T09:44:00.544Z"
   },
   {
    "duration": 2245,
    "start_time": "2022-07-23T09:44:01.743Z"
   },
   {
    "duration": 571,
    "start_time": "2022-07-23T09:44:03.991Z"
   },
   {
    "duration": 1048,
    "start_time": "2022-07-23T09:44:04.564Z"
   },
   {
    "duration": 14,
    "start_time": "2022-07-23T09:44:05.615Z"
   },
   {
    "duration": 27,
    "start_time": "2022-07-23T09:44:05.632Z"
   },
   {
    "duration": 40,
    "start_time": "2022-07-23T09:44:05.661Z"
   },
   {
    "duration": 489,
    "start_time": "2022-07-23T09:44:05.703Z"
   },
   {
    "duration": 14,
    "start_time": "2022-07-23T09:44:36.308Z"
   },
   {
    "duration": 30,
    "start_time": "2022-07-23T09:44:37.387Z"
   },
   {
    "duration": 11,
    "start_time": "2022-07-23T09:45:56.811Z"
   },
   {
    "duration": 15,
    "start_time": "2022-07-23T09:45:58.546Z"
   },
   {
    "duration": 6,
    "start_time": "2022-07-23T09:46:37.242Z"
   },
   {
    "duration": 117,
    "start_time": "2022-07-23T09:46:38.263Z"
   },
   {
    "duration": 14,
    "start_time": "2022-07-23T09:46:50.251Z"
   },
   {
    "duration": 5,
    "start_time": "2022-07-23T09:47:35.183Z"
   },
   {
    "duration": 24,
    "start_time": "2022-07-23T09:47:35.962Z"
   },
   {
    "duration": 5,
    "start_time": "2022-07-23T09:47:56.941Z"
   },
   {
    "duration": 19,
    "start_time": "2022-07-23T09:47:57.519Z"
   },
   {
    "duration": 6,
    "start_time": "2022-07-23T09:48:10.042Z"
   },
   {
    "duration": 26,
    "start_time": "2022-07-23T09:48:10.983Z"
   },
   {
    "duration": 5,
    "start_time": "2022-07-23T09:48:33.581Z"
   },
   {
    "duration": 20,
    "start_time": "2022-07-23T09:48:33.961Z"
   },
   {
    "duration": 22,
    "start_time": "2022-07-23T09:49:26.581Z"
   },
   {
    "duration": 5,
    "start_time": "2022-07-23T09:50:18.111Z"
   },
   {
    "duration": 22,
    "start_time": "2022-07-23T09:50:18.469Z"
   },
   {
    "duration": 82,
    "start_time": "2022-07-23T09:50:41.056Z"
   },
   {
    "duration": 28,
    "start_time": "2022-07-23T09:50:52.451Z"
   },
   {
    "duration": 76,
    "start_time": "2022-07-23T09:51:23.205Z"
   },
   {
    "duration": 18,
    "start_time": "2022-07-23T09:51:23.625Z"
   },
   {
    "duration": 9,
    "start_time": "2022-07-23T09:51:29.115Z"
   },
   {
    "duration": 29,
    "start_time": "2022-07-23T09:51:29.641Z"
   },
   {
    "duration": 5,
    "start_time": "2022-07-23T09:56:15.556Z"
   },
   {
    "duration": 34,
    "start_time": "2022-07-23T09:56:15.916Z"
   },
   {
    "duration": 5,
    "start_time": "2022-07-23T09:57:11.339Z"
   },
   {
    "duration": 32,
    "start_time": "2022-07-23T09:57:11.865Z"
   },
   {
    "duration": 7,
    "start_time": "2022-07-23T09:57:34.846Z"
   },
   {
    "duration": 25,
    "start_time": "2022-07-23T09:57:35.596Z"
   },
   {
    "duration": 8,
    "start_time": "2022-07-23T09:57:43.144Z"
   },
   {
    "duration": 34,
    "start_time": "2022-07-23T09:57:43.683Z"
   },
   {
    "duration": 7,
    "start_time": "2022-07-23T09:57:52.827Z"
   },
   {
    "duration": 22,
    "start_time": "2022-07-23T09:57:53.164Z"
   },
   {
    "duration": 7,
    "start_time": "2022-07-23T09:58:23.793Z"
   },
   {
    "duration": 28,
    "start_time": "2022-07-23T09:58:24.195Z"
   },
   {
    "duration": 1646,
    "start_time": "2022-07-23T20:30:08.875Z"
   },
   {
    "duration": 445,
    "start_time": "2022-07-23T20:30:10.523Z"
   },
   {
    "duration": 44,
    "start_time": "2022-07-23T20:30:10.969Z"
   },
   {
    "duration": 49,
    "start_time": "2022-07-23T20:30:11.016Z"
   },
   {
    "duration": 93,
    "start_time": "2022-07-23T20:30:11.067Z"
   },
   {
    "duration": 14,
    "start_time": "2022-07-23T20:30:11.162Z"
   },
   {
    "duration": 46,
    "start_time": "2022-07-23T20:30:11.178Z"
   },
   {
    "duration": 2466,
    "start_time": "2022-07-23T20:30:11.226Z"
   },
   {
    "duration": 15,
    "start_time": "2022-07-23T20:30:13.693Z"
   },
   {
    "duration": 5,
    "start_time": "2022-07-23T20:30:48.317Z"
   },
   {
    "duration": 49,
    "start_time": "2022-07-24T05:40:43.261Z"
   },
   {
    "duration": 5,
    "start_time": "2022-07-24T05:45:51.444Z"
   },
   {
    "duration": 5,
    "start_time": "2022-07-24T05:48:37.121Z"
   },
   {
    "duration": 1605,
    "start_time": "2022-07-24T05:53:13.926Z"
   },
   {
    "duration": 433,
    "start_time": "2022-07-24T05:53:15.533Z"
   },
   {
    "duration": 45,
    "start_time": "2022-07-24T05:53:15.967Z"
   },
   {
    "duration": 44,
    "start_time": "2022-07-24T05:53:16.014Z"
   },
   {
    "duration": 88,
    "start_time": "2022-07-24T05:53:16.060Z"
   },
   {
    "duration": 14,
    "start_time": "2022-07-24T05:53:16.149Z"
   },
   {
    "duration": 33,
    "start_time": "2022-07-24T05:53:16.164Z"
   },
   {
    "duration": 2436,
    "start_time": "2022-07-24T05:53:16.198Z"
   },
   {
    "duration": 16,
    "start_time": "2022-07-24T05:53:18.636Z"
   },
   {
    "duration": 11,
    "start_time": "2022-07-24T05:53:18.653Z"
   },
   {
    "duration": 16,
    "start_time": "2022-07-24T05:53:18.665Z"
   },
   {
    "duration": 139,
    "start_time": "2022-07-24T05:53:18.683Z"
   },
   {
    "duration": 4,
    "start_time": "2022-07-24T05:53:18.824Z"
   },
   {
    "duration": 653,
    "start_time": "2022-07-24T05:53:18.831Z"
   },
   {
    "duration": 5,
    "start_time": "2022-07-24T05:53:19.486Z"
   },
   {
    "duration": 15,
    "start_time": "2022-07-24T05:53:19.492Z"
   },
   {
    "duration": 1951,
    "start_time": "2022-07-24T05:53:19.509Z"
   },
   {
    "duration": 30,
    "start_time": "2022-07-24T05:53:21.462Z"
   },
   {
    "duration": 84,
    "start_time": "2022-07-24T05:53:21.494Z"
   },
   {
    "duration": 191,
    "start_time": "2022-07-24T05:53:21.580Z"
   },
   {
    "duration": 18,
    "start_time": "2022-07-24T05:53:21.772Z"
   },
   {
    "duration": 118,
    "start_time": "2022-07-24T05:53:21.792Z"
   },
   {
    "duration": 3,
    "start_time": "2022-07-24T05:53:21.922Z"
   },
   {
    "duration": 140,
    "start_time": "2022-07-24T05:53:21.927Z"
   },
   {
    "duration": 0,
    "start_time": "2022-07-24T05:53:22.069Z"
   },
   {
    "duration": 0,
    "start_time": "2022-07-24T05:53:22.070Z"
   },
   {
    "duration": 0,
    "start_time": "2022-07-24T05:53:22.072Z"
   },
   {
    "duration": 0,
    "start_time": "2022-07-24T05:53:22.073Z"
   },
   {
    "duration": 0,
    "start_time": "2022-07-24T05:53:22.074Z"
   },
   {
    "duration": 0,
    "start_time": "2022-07-24T05:53:22.075Z"
   },
   {
    "duration": 0,
    "start_time": "2022-07-24T05:53:22.076Z"
   },
   {
    "duration": 0,
    "start_time": "2022-07-24T05:53:22.077Z"
   },
   {
    "duration": 0,
    "start_time": "2022-07-24T05:53:22.078Z"
   },
   {
    "duration": 114,
    "start_time": "2022-07-24T06:09:15.082Z"
   },
   {
    "duration": 4,
    "start_time": "2022-07-24T06:09:22.281Z"
   },
   {
    "duration": 11,
    "start_time": "2022-07-24T06:09:23.132Z"
   },
   {
    "duration": 1355,
    "start_time": "2022-07-24T06:10:12.451Z"
   },
   {
    "duration": 236,
    "start_time": "2022-07-24T06:10:13.808Z"
   },
   {
    "duration": 38,
    "start_time": "2022-07-24T06:10:14.046Z"
   },
   {
    "duration": 54,
    "start_time": "2022-07-24T06:10:14.086Z"
   },
   {
    "duration": 91,
    "start_time": "2022-07-24T06:10:14.142Z"
   },
   {
    "duration": 15,
    "start_time": "2022-07-24T06:10:14.235Z"
   },
   {
    "duration": 34,
    "start_time": "2022-07-24T06:10:14.252Z"
   },
   {
    "duration": 2526,
    "start_time": "2022-07-24T06:10:14.288Z"
   },
   {
    "duration": 16,
    "start_time": "2022-07-24T06:10:16.815Z"
   },
   {
    "duration": 7,
    "start_time": "2022-07-24T06:10:16.832Z"
   },
   {
    "duration": 12,
    "start_time": "2022-07-24T06:10:16.841Z"
   },
   {
    "duration": 155,
    "start_time": "2022-07-24T06:10:16.855Z"
   },
   {
    "duration": 4,
    "start_time": "2022-07-24T06:10:17.011Z"
   },
   {
    "duration": 638,
    "start_time": "2022-07-24T06:10:17.022Z"
   },
   {
    "duration": 5,
    "start_time": "2022-07-24T06:10:17.662Z"
   },
   {
    "duration": 16,
    "start_time": "2022-07-24T06:10:17.669Z"
   },
   {
    "duration": 1949,
    "start_time": "2022-07-24T06:10:17.687Z"
   },
   {
    "duration": 38,
    "start_time": "2022-07-24T06:10:19.637Z"
   },
   {
    "duration": 95,
    "start_time": "2022-07-24T06:10:19.677Z"
   },
   {
    "duration": 221,
    "start_time": "2022-07-24T06:10:19.774Z"
   },
   {
    "duration": 30,
    "start_time": "2022-07-24T06:10:19.998Z"
   },
   {
    "duration": 127,
    "start_time": "2022-07-24T06:10:20.030Z"
   },
   {
    "duration": 4,
    "start_time": "2022-07-24T06:10:20.160Z"
   },
   {
    "duration": 19,
    "start_time": "2022-07-24T06:10:20.166Z"
   },
   {
    "duration": 2642,
    "start_time": "2022-07-24T06:10:20.187Z"
   },
   {
    "duration": 1386,
    "start_time": "2022-07-24T06:10:22.830Z"
   },
   {
    "duration": 2252,
    "start_time": "2022-07-24T06:10:24.217Z"
   },
   {
    "duration": 574,
    "start_time": "2022-07-24T06:10:26.471Z"
   },
   {
    "duration": 947,
    "start_time": "2022-07-24T06:10:27.047Z"
   },
   {
    "duration": 7,
    "start_time": "2022-07-24T06:10:27.996Z"
   },
   {
    "duration": 18,
    "start_time": "2022-07-24T06:10:28.005Z"
   },
   {
    "duration": 132,
    "start_time": "2022-07-24T06:10:28.026Z"
   },
   {
    "duration": 0,
    "start_time": "2022-07-24T06:10:28.159Z"
   },
   {
    "duration": 3,
    "start_time": "2022-07-24T06:11:09.391Z"
   },
   {
    "duration": 16,
    "start_time": "2022-07-24T06:11:10.481Z"
   },
   {
    "duration": 4,
    "start_time": "2022-07-24T06:11:36.952Z"
   },
   {
    "duration": 6,
    "start_time": "2022-07-24T06:11:37.491Z"
   },
   {
    "duration": 3,
    "start_time": "2022-07-24T06:11:47.411Z"
   },
   {
    "duration": 5,
    "start_time": "2022-07-24T06:11:48.201Z"
   },
   {
    "duration": 3,
    "start_time": "2022-07-24T06:12:54.703Z"
   },
   {
    "duration": 8,
    "start_time": "2022-07-24T06:12:55.994Z"
   },
   {
    "duration": 4,
    "start_time": "2022-07-24T06:18:19.942Z"
   },
   {
    "duration": 9,
    "start_time": "2022-07-24T06:18:20.442Z"
   },
   {
    "duration": 4,
    "start_time": "2022-07-24T06:18:52.513Z"
   },
   {
    "duration": 12,
    "start_time": "2022-07-24T06:18:53.181Z"
   },
   {
    "duration": 4,
    "start_time": "2022-07-24T06:19:25.931Z"
   },
   {
    "duration": 10,
    "start_time": "2022-07-24T06:19:26.171Z"
   },
   {
    "duration": 4,
    "start_time": "2022-07-24T06:21:41.310Z"
   },
   {
    "duration": 7,
    "start_time": "2022-07-24T06:21:41.750Z"
   },
   {
    "duration": 4,
    "start_time": "2022-07-24T06:21:49.401Z"
   },
   {
    "duration": 6,
    "start_time": "2022-07-24T06:21:49.991Z"
   },
   {
    "duration": 4,
    "start_time": "2022-07-24T06:24:09.823Z"
   },
   {
    "duration": 14,
    "start_time": "2022-07-24T06:24:10.312Z"
   },
   {
    "duration": 4,
    "start_time": "2022-07-24T06:24:32.322Z"
   },
   {
    "duration": 10,
    "start_time": "2022-07-24T06:24:32.802Z"
   },
   {
    "duration": 5,
    "start_time": "2022-07-24T06:25:41.617Z"
   },
   {
    "duration": 13,
    "start_time": "2022-07-24T06:25:43.200Z"
   },
   {
    "duration": 4,
    "start_time": "2022-07-24T06:28:52.843Z"
   },
   {
    "duration": 11,
    "start_time": "2022-07-24T06:28:53.552Z"
   },
   {
    "duration": 6,
    "start_time": "2022-07-24T06:40:11.525Z"
   },
   {
    "duration": 10,
    "start_time": "2022-07-24T06:40:13.306Z"
   },
   {
    "duration": 5,
    "start_time": "2022-07-24T06:40:21.684Z"
   },
   {
    "duration": 11,
    "start_time": "2022-07-24T06:40:22.185Z"
   },
   {
    "duration": 5,
    "start_time": "2022-07-24T07:04:32.515Z"
   },
   {
    "duration": 4,
    "start_time": "2022-07-24T07:04:55.036Z"
   },
   {
    "duration": 5,
    "start_time": "2022-07-24T07:04:57.744Z"
   },
   {
    "duration": 2095,
    "start_time": "2022-07-24T07:05:00.082Z"
   },
   {
    "duration": 5,
    "start_time": "2022-07-24T07:06:06.108Z"
   },
   {
    "duration": 2026,
    "start_time": "2022-07-24T07:06:27.584Z"
   },
   {
    "duration": 5,
    "start_time": "2022-07-24T07:15:30.942Z"
   },
   {
    "duration": 22,
    "start_time": "2022-07-24T07:15:31.474Z"
   },
   {
    "duration": 5,
    "start_time": "2022-07-24T07:17:21.313Z"
   },
   {
    "duration": 15,
    "start_time": "2022-07-24T07:17:21.743Z"
   },
   {
    "duration": 5,
    "start_time": "2022-07-24T07:17:48.853Z"
   },
   {
    "duration": 14,
    "start_time": "2022-07-24T07:17:49.520Z"
   },
   {
    "duration": 58,
    "start_time": "2022-07-24T08:27:38.560Z"
   },
   {
    "duration": 56,
    "start_time": "2022-07-24T08:28:32.453Z"
   },
   {
    "duration": 21,
    "start_time": "2022-07-24T08:28:33.178Z"
   },
   {
    "duration": 67,
    "start_time": "2022-07-24T08:29:18.375Z"
   },
   {
    "duration": 13,
    "start_time": "2022-07-24T08:29:19.159Z"
   },
   {
    "duration": 15,
    "start_time": "2022-07-24T08:29:34.259Z"
   },
   {
    "duration": 5,
    "start_time": "2022-07-24T08:30:15.057Z"
   },
   {
    "duration": 12,
    "start_time": "2022-07-24T08:30:16.258Z"
   },
   {
    "duration": 5,
    "start_time": "2022-07-24T08:30:31.798Z"
   },
   {
    "duration": 8,
    "start_time": "2022-07-24T08:30:32.348Z"
   },
   {
    "duration": 4,
    "start_time": "2022-07-24T08:31:08.453Z"
   },
   {
    "duration": 10,
    "start_time": "2022-07-24T08:31:09.108Z"
   },
   {
    "duration": 11,
    "start_time": "2022-07-24T08:31:30.017Z"
   },
   {
    "duration": 10,
    "start_time": "2022-07-24T08:31:30.488Z"
   },
   {
    "duration": 6,
    "start_time": "2022-07-24T08:31:39.531Z"
   },
   {
    "duration": 9,
    "start_time": "2022-07-24T08:31:40.480Z"
   },
   {
    "duration": 6,
    "start_time": "2022-07-24T08:31:58.399Z"
   },
   {
    "duration": 9,
    "start_time": "2022-07-24T08:31:58.858Z"
   },
   {
    "duration": 5,
    "start_time": "2022-07-24T08:32:20.198Z"
   },
   {
    "duration": 9,
    "start_time": "2022-07-24T08:32:20.859Z"
   },
   {
    "duration": 4,
    "start_time": "2022-07-24T08:32:32.748Z"
   },
   {
    "duration": 10,
    "start_time": "2022-07-24T08:32:33.168Z"
   },
   {
    "duration": 1767,
    "start_time": "2022-07-24T08:58:10.176Z"
   },
   {
    "duration": 401,
    "start_time": "2022-07-24T08:58:11.946Z"
   },
   {
    "duration": 46,
    "start_time": "2022-07-24T08:58:12.350Z"
   },
   {
    "duration": 75,
    "start_time": "2022-07-24T08:58:12.399Z"
   },
   {
    "duration": 166,
    "start_time": "2022-07-24T08:58:12.477Z"
   },
   {
    "duration": 24,
    "start_time": "2022-07-24T08:58:12.646Z"
   },
   {
    "duration": 90,
    "start_time": "2022-07-24T08:58:12.673Z"
   },
   {
    "duration": 3121,
    "start_time": "2022-07-24T08:58:12.765Z"
   },
   {
    "duration": 17,
    "start_time": "2022-07-24T08:58:15.888Z"
   },
   {
    "duration": 6,
    "start_time": "2022-07-24T08:58:15.908Z"
   },
   {
    "duration": 38,
    "start_time": "2022-07-24T08:58:15.916Z"
   },
   {
    "duration": 200,
    "start_time": "2022-07-24T08:58:15.956Z"
   },
   {
    "duration": 4,
    "start_time": "2022-07-24T08:58:16.157Z"
   },
   {
    "duration": 760,
    "start_time": "2022-07-24T08:58:16.162Z"
   },
   {
    "duration": 8,
    "start_time": "2022-07-24T08:58:16.924Z"
   },
   {
    "duration": 29,
    "start_time": "2022-07-24T08:58:16.934Z"
   },
   {
    "duration": 2256,
    "start_time": "2022-07-24T08:58:16.965Z"
   },
   {
    "duration": 44,
    "start_time": "2022-07-24T08:58:19.225Z"
   },
   {
    "duration": 93,
    "start_time": "2022-07-24T08:58:19.270Z"
   },
   {
    "duration": 234,
    "start_time": "2022-07-24T08:58:19.365Z"
   },
   {
    "duration": 24,
    "start_time": "2022-07-24T08:58:19.601Z"
   },
   {
    "duration": 154,
    "start_time": "2022-07-24T08:58:19.628Z"
   },
   {
    "duration": 3,
    "start_time": "2022-07-24T08:58:19.785Z"
   },
   {
    "duration": 15,
    "start_time": "2022-07-24T08:58:19.790Z"
   },
   {
    "duration": 3581,
    "start_time": "2022-07-24T08:58:19.807Z"
   },
   {
    "duration": 1749,
    "start_time": "2022-07-24T08:58:23.424Z"
   },
   {
    "duration": 2823,
    "start_time": "2022-07-24T08:58:25.175Z"
   },
   {
    "duration": 706,
    "start_time": "2022-07-24T08:58:28.003Z"
   },
   {
    "duration": 1143,
    "start_time": "2022-07-24T08:58:28.712Z"
   },
   {
    "duration": 7,
    "start_time": "2022-07-24T08:58:29.857Z"
   },
   {
    "duration": 18,
    "start_time": "2022-07-24T08:58:29.866Z"
   },
   {
    "duration": 14,
    "start_time": "2022-07-24T08:58:29.886Z"
   },
   {
    "duration": 599,
    "start_time": "2022-07-24T08:58:29.902Z"
   },
   {
    "duration": 1916,
    "start_time": "2022-07-24T18:20:55.052Z"
   },
   {
    "duration": 798,
    "start_time": "2022-07-24T18:20:56.970Z"
   },
   {
    "duration": 38,
    "start_time": "2022-07-24T18:20:57.769Z"
   },
   {
    "duration": 38,
    "start_time": "2022-07-24T18:20:57.809Z"
   },
   {
    "duration": 94,
    "start_time": "2022-07-24T18:20:57.850Z"
   },
   {
    "duration": 13,
    "start_time": "2022-07-24T18:20:57.946Z"
   },
   {
    "duration": 44,
    "start_time": "2022-07-24T18:20:57.961Z"
   },
   {
    "duration": 2578,
    "start_time": "2022-07-24T18:20:58.007Z"
   },
   {
    "duration": 15,
    "start_time": "2022-07-24T18:21:00.588Z"
   },
   {
    "duration": 44,
    "start_time": "2022-07-24T18:21:00.604Z"
   },
   {
    "duration": 78,
    "start_time": "2022-07-24T18:21:00.650Z"
   },
   {
    "duration": 163,
    "start_time": "2022-07-24T18:21:00.731Z"
   },
   {
    "duration": 8,
    "start_time": "2022-07-24T18:21:00.896Z"
   },
   {
    "duration": 681,
    "start_time": "2022-07-24T18:21:00.908Z"
   },
   {
    "duration": 5,
    "start_time": "2022-07-24T18:21:01.591Z"
   },
   {
    "duration": 21,
    "start_time": "2022-07-24T18:21:01.604Z"
   },
   {
    "duration": 1922,
    "start_time": "2022-07-24T18:21:01.627Z"
   },
   {
    "duration": 30,
    "start_time": "2022-07-24T18:21:03.550Z"
   },
   {
    "duration": 77,
    "start_time": "2022-07-24T18:21:03.582Z"
   },
   {
    "duration": 208,
    "start_time": "2022-07-24T18:21:03.661Z"
   },
   {
    "duration": 14,
    "start_time": "2022-07-24T18:21:03.871Z"
   },
   {
    "duration": 137,
    "start_time": "2022-07-24T18:21:03.886Z"
   },
   {
    "duration": 3,
    "start_time": "2022-07-24T18:21:04.025Z"
   },
   {
    "duration": 8,
    "start_time": "2022-07-24T18:21:04.030Z"
   },
   {
    "duration": 2763,
    "start_time": "2022-07-24T18:21:04.040Z"
   },
   {
    "duration": 1285,
    "start_time": "2022-07-24T18:21:06.806Z"
   },
   {
    "duration": 2261,
    "start_time": "2022-07-24T18:21:08.093Z"
   },
   {
    "duration": 527,
    "start_time": "2022-07-24T18:21:10.356Z"
   },
   {
    "duration": 966,
    "start_time": "2022-07-24T18:21:10.884Z"
   },
   {
    "duration": 7,
    "start_time": "2022-07-24T18:21:11.852Z"
   },
   {
    "duration": 9,
    "start_time": "2022-07-24T18:21:11.861Z"
   },
   {
    "duration": 11,
    "start_time": "2022-07-24T18:21:11.871Z"
   },
   {
    "duration": 479,
    "start_time": "2022-07-24T18:21:11.906Z"
   },
   {
    "duration": 130,
    "start_time": "2022-07-24T18:21:41.322Z"
   },
   {
    "duration": 6,
    "start_time": "2022-07-24T18:22:12.626Z"
   },
   {
    "duration": 7,
    "start_time": "2022-07-24T18:22:44.984Z"
   },
   {
    "duration": 7,
    "start_time": "2022-07-24T18:22:59.738Z"
   },
   {
    "duration": 4,
    "start_time": "2022-07-24T18:29:12.383Z"
   },
   {
    "duration": 7,
    "start_time": "2022-07-24T18:29:13.085Z"
   },
   {
    "duration": 7,
    "start_time": "2022-07-24T18:34:37.281Z"
   },
   {
    "duration": 6,
    "start_time": "2022-07-24T18:34:47.425Z"
   },
   {
    "duration": 4,
    "start_time": "2022-07-24T18:36:14.815Z"
   },
   {
    "duration": 8,
    "start_time": "2022-07-24T18:36:15.337Z"
   },
   {
    "duration": 1562,
    "start_time": "2022-07-24T19:02:01.974Z"
   },
   {
    "duration": 441,
    "start_time": "2022-07-24T19:02:03.538Z"
   },
   {
    "duration": 40,
    "start_time": "2022-07-24T19:02:03.980Z"
   },
   {
    "duration": 42,
    "start_time": "2022-07-24T19:02:04.022Z"
   },
   {
    "duration": 98,
    "start_time": "2022-07-24T19:02:04.066Z"
   },
   {
    "duration": 16,
    "start_time": "2022-07-24T19:02:04.165Z"
   },
   {
    "duration": 35,
    "start_time": "2022-07-24T19:02:04.183Z"
   },
   {
    "duration": 2348,
    "start_time": "2022-07-24T19:02:04.220Z"
   },
   {
    "duration": 15,
    "start_time": "2022-07-24T19:02:06.569Z"
   },
   {
    "duration": 7,
    "start_time": "2022-07-24T19:02:06.585Z"
   },
   {
    "duration": 21,
    "start_time": "2022-07-24T19:02:06.593Z"
   },
   {
    "duration": 131,
    "start_time": "2022-07-24T19:02:06.616Z"
   },
   {
    "duration": 4,
    "start_time": "2022-07-24T19:02:06.748Z"
   },
   {
    "duration": 626,
    "start_time": "2022-07-24T19:02:06.754Z"
   },
   {
    "duration": 6,
    "start_time": "2022-07-24T19:02:07.381Z"
   },
   {
    "duration": 5,
    "start_time": "2022-07-24T19:02:07.388Z"
   },
   {
    "duration": 1818,
    "start_time": "2022-07-24T19:02:07.395Z"
   },
   {
    "duration": 32,
    "start_time": "2022-07-24T19:02:09.215Z"
   },
   {
    "duration": 84,
    "start_time": "2022-07-24T19:02:09.249Z"
   },
   {
    "duration": 195,
    "start_time": "2022-07-24T19:02:09.334Z"
   },
   {
    "duration": 13,
    "start_time": "2022-07-24T19:02:09.531Z"
   },
   {
    "duration": 120,
    "start_time": "2022-07-24T19:02:09.546Z"
   },
   {
    "duration": 3,
    "start_time": "2022-07-24T19:02:09.668Z"
   },
   {
    "duration": 6,
    "start_time": "2022-07-24T19:02:09.673Z"
   },
   {
    "duration": 2785,
    "start_time": "2022-07-24T19:02:09.680Z"
   },
   {
    "duration": 1273,
    "start_time": "2022-07-24T19:02:12.469Z"
   },
   {
    "duration": 2137,
    "start_time": "2022-07-24T19:02:13.743Z"
   },
   {
    "duration": 509,
    "start_time": "2022-07-24T19:02:15.882Z"
   },
   {
    "duration": 849,
    "start_time": "2022-07-24T19:02:16.392Z"
   },
   {
    "duration": 4,
    "start_time": "2022-07-24T19:02:17.243Z"
   },
   {
    "duration": 20,
    "start_time": "2022-07-24T19:02:17.249Z"
   },
   {
    "duration": 10,
    "start_time": "2022-07-24T19:02:17.271Z"
   },
   {
    "duration": 5,
    "start_time": "2022-07-24T19:02:17.282Z"
   },
   {
    "duration": 390,
    "start_time": "2022-07-24T19:02:17.289Z"
   },
   {
    "duration": 4,
    "start_time": "2022-07-24T19:03:10.297Z"
   },
   {
    "duration": 7,
    "start_time": "2022-07-24T19:03:10.868Z"
   },
   {
    "duration": 4,
    "start_time": "2022-07-24T19:03:43.906Z"
   },
   {
    "duration": 6,
    "start_time": "2022-07-24T19:03:44.566Z"
   },
   {
    "duration": 7,
    "start_time": "2022-07-24T19:03:49.516Z"
   },
   {
    "duration": 1048,
    "start_time": "2022-07-24T19:09:10.461Z"
   },
   {
    "duration": 4,
    "start_time": "2022-07-24T19:09:21.055Z"
   },
   {
    "duration": 208,
    "start_time": "2022-07-24T19:09:21.061Z"
   },
   {
    "duration": 31,
    "start_time": "2022-07-24T19:09:21.271Z"
   },
   {
    "duration": 64,
    "start_time": "2022-07-24T19:09:21.304Z"
   },
   {
    "duration": 100,
    "start_time": "2022-07-24T19:09:21.371Z"
   },
   {
    "duration": 13,
    "start_time": "2022-07-24T19:09:21.473Z"
   },
   {
    "duration": 33,
    "start_time": "2022-07-24T19:09:21.488Z"
   },
   {
    "duration": 2328,
    "start_time": "2022-07-24T19:09:21.522Z"
   },
   {
    "duration": 13,
    "start_time": "2022-07-24T19:09:23.852Z"
   },
   {
    "duration": 5,
    "start_time": "2022-07-24T19:09:23.867Z"
   },
   {
    "duration": 13,
    "start_time": "2022-07-24T19:09:23.875Z"
   },
   {
    "duration": 76,
    "start_time": "2022-07-24T19:09:23.889Z"
   },
   {
    "duration": 3,
    "start_time": "2022-07-24T19:09:23.967Z"
   },
   {
    "duration": 1101,
    "start_time": "2022-07-24T19:09:23.972Z"
   },
   {
    "duration": 4,
    "start_time": "2022-07-24T19:09:25.075Z"
   },
   {
    "duration": 10,
    "start_time": "2022-07-24T19:09:25.080Z"
   },
   {
    "duration": 2192,
    "start_time": "2022-07-24T19:09:25.091Z"
   },
   {
    "duration": 29,
    "start_time": "2022-07-24T19:09:27.285Z"
   },
   {
    "duration": 81,
    "start_time": "2022-07-24T19:09:27.316Z"
   },
   {
    "duration": 184,
    "start_time": "2022-07-24T19:09:27.399Z"
   },
   {
    "duration": 12,
    "start_time": "2022-07-24T19:09:27.585Z"
   },
   {
    "duration": 112,
    "start_time": "2022-07-24T19:09:27.599Z"
   },
   {
    "duration": 3,
    "start_time": "2022-07-24T19:09:27.713Z"
   },
   {
    "duration": 7,
    "start_time": "2022-07-24T19:09:27.717Z"
   },
   {
    "duration": 2440,
    "start_time": "2022-07-24T19:09:27.726Z"
   },
   {
    "duration": 1090,
    "start_time": "2022-07-24T19:09:30.263Z"
   },
   {
    "duration": 2129,
    "start_time": "2022-07-24T19:09:31.355Z"
   },
   {
    "duration": 567,
    "start_time": "2022-07-24T19:09:33.485Z"
   },
   {
    "duration": 837,
    "start_time": "2022-07-24T19:09:34.063Z"
   },
   {
    "duration": 4,
    "start_time": "2022-07-24T19:09:34.901Z"
   },
   {
    "duration": 10,
    "start_time": "2022-07-24T19:09:34.906Z"
   },
   {
    "duration": 10,
    "start_time": "2022-07-24T19:09:34.917Z"
   },
   {
    "duration": 6,
    "start_time": "2022-07-24T19:09:34.928Z"
   },
   {
    "duration": 397,
    "start_time": "2022-07-24T19:09:34.936Z"
   },
   {
    "duration": 857,
    "start_time": "2022-07-24T19:09:45.663Z"
   },
   {
    "duration": 4,
    "start_time": "2022-07-24T19:09:51.793Z"
   },
   {
    "duration": 225,
    "start_time": "2022-07-24T19:09:51.800Z"
   },
   {
    "duration": 37,
    "start_time": "2022-07-24T19:09:52.027Z"
   },
   {
    "duration": 42,
    "start_time": "2022-07-24T19:09:52.067Z"
   },
   {
    "duration": 92,
    "start_time": "2022-07-24T19:09:52.110Z"
   },
   {
    "duration": 17,
    "start_time": "2022-07-24T19:09:52.204Z"
   },
   {
    "duration": 51,
    "start_time": "2022-07-24T19:09:52.223Z"
   },
   {
    "duration": 3015,
    "start_time": "2022-07-24T19:09:52.276Z"
   },
   {
    "duration": 12,
    "start_time": "2022-07-24T19:09:55.294Z"
   },
   {
    "duration": 4,
    "start_time": "2022-07-24T19:09:55.363Z"
   },
   {
    "duration": 14,
    "start_time": "2022-07-24T19:09:55.370Z"
   },
   {
    "duration": 105,
    "start_time": "2022-07-24T19:09:55.386Z"
   },
   {
    "duration": 3,
    "start_time": "2022-07-24T19:09:55.493Z"
   },
   {
    "duration": 799,
    "start_time": "2022-07-24T19:09:55.499Z"
   },
   {
    "duration": 5,
    "start_time": "2022-07-24T19:09:56.300Z"
   },
   {
    "duration": 23,
    "start_time": "2022-07-24T19:09:56.306Z"
   },
   {
    "duration": 1842,
    "start_time": "2022-07-24T19:09:56.331Z"
   },
   {
    "duration": 29,
    "start_time": "2022-07-24T19:09:58.175Z"
   },
   {
    "duration": 75,
    "start_time": "2022-07-24T19:09:58.206Z"
   },
   {
    "duration": 183,
    "start_time": "2022-07-24T19:09:58.283Z"
   },
   {
    "duration": 13,
    "start_time": "2022-07-24T19:09:58.467Z"
   },
   {
    "duration": 113,
    "start_time": "2022-07-24T19:09:58.482Z"
   },
   {
    "duration": 3,
    "start_time": "2022-07-24T19:09:58.597Z"
   },
   {
    "duration": 6,
    "start_time": "2022-07-24T19:09:58.603Z"
   },
   {
    "duration": 2690,
    "start_time": "2022-07-24T19:09:58.611Z"
   },
   {
    "duration": 1434,
    "start_time": "2022-07-24T19:10:01.365Z"
   },
   {
    "duration": 2072,
    "start_time": "2022-07-24T19:10:02.803Z"
   },
   {
    "duration": 494,
    "start_time": "2022-07-24T19:10:04.877Z"
   },
   {
    "duration": 842,
    "start_time": "2022-07-24T19:10:05.373Z"
   },
   {
    "duration": 4,
    "start_time": "2022-07-24T19:10:06.216Z"
   },
   {
    "duration": 14,
    "start_time": "2022-07-24T19:10:06.221Z"
   },
   {
    "duration": 14,
    "start_time": "2022-07-24T19:10:06.236Z"
   },
   {
    "duration": 14,
    "start_time": "2022-07-24T19:10:06.252Z"
   },
   {
    "duration": 373,
    "start_time": "2022-07-24T19:10:06.268Z"
   },
   {
    "duration": 618,
    "start_time": "2022-07-24T19:19:37.738Z"
   },
   {
    "duration": 40,
    "start_time": "2022-07-24T19:21:40.031Z"
   },
   {
    "duration": 15,
    "start_time": "2022-07-24T19:21:46.743Z"
   },
   {
    "duration": 165,
    "start_time": "2022-07-24T19:26:20.624Z"
   },
   {
    "duration": 140,
    "start_time": "2022-07-24T19:26:40.867Z"
   },
   {
    "duration": 154,
    "start_time": "2022-07-24T19:27:11.577Z"
   },
   {
    "duration": 4,
    "start_time": "2022-07-24T19:27:35.327Z"
   },
   {
    "duration": 214,
    "start_time": "2022-07-24T19:27:35.332Z"
   },
   {
    "duration": 33,
    "start_time": "2022-07-24T19:27:35.548Z"
   },
   {
    "duration": 43,
    "start_time": "2022-07-24T19:27:35.582Z"
   },
   {
    "duration": 87,
    "start_time": "2022-07-24T19:27:35.627Z"
   },
   {
    "duration": 16,
    "start_time": "2022-07-24T19:27:35.716Z"
   },
   {
    "duration": 49,
    "start_time": "2022-07-24T19:27:35.733Z"
   },
   {
    "duration": 2480,
    "start_time": "2022-07-24T19:27:35.784Z"
   },
   {
    "duration": 12,
    "start_time": "2022-07-24T19:27:38.265Z"
   },
   {
    "duration": 12,
    "start_time": "2022-07-24T19:27:38.278Z"
   },
   {
    "duration": 19,
    "start_time": "2022-07-24T19:27:38.292Z"
   },
   {
    "duration": 98,
    "start_time": "2022-07-24T19:27:38.313Z"
   },
   {
    "duration": 51,
    "start_time": "2022-07-24T19:27:38.414Z"
   },
   {
    "duration": 1394,
    "start_time": "2022-07-24T19:27:38.470Z"
   },
   {
    "duration": 4,
    "start_time": "2022-07-24T19:27:39.866Z"
   },
   {
    "duration": 6,
    "start_time": "2022-07-24T19:27:39.872Z"
   },
   {
    "duration": 1888,
    "start_time": "2022-07-24T19:27:39.880Z"
   },
   {
    "duration": 29,
    "start_time": "2022-07-24T19:27:41.770Z"
   },
   {
    "duration": 80,
    "start_time": "2022-07-24T19:27:41.801Z"
   },
   {
    "duration": 181,
    "start_time": "2022-07-24T19:27:41.883Z"
   },
   {
    "duration": 13,
    "start_time": "2022-07-24T19:27:42.066Z"
   },
   {
    "duration": 116,
    "start_time": "2022-07-24T19:27:42.081Z"
   },
   {
    "duration": 3,
    "start_time": "2022-07-24T19:27:42.199Z"
   },
   {
    "duration": 21,
    "start_time": "2022-07-24T19:27:42.203Z"
   },
   {
    "duration": 6,
    "start_time": "2022-07-24T19:27:42.225Z"
   },
   {
    "duration": 3042,
    "start_time": "2022-07-24T19:27:42.233Z"
   },
   {
    "duration": 1576,
    "start_time": "2022-07-24T19:27:45.364Z"
   },
   {
    "duration": 2049,
    "start_time": "2022-07-24T19:27:46.941Z"
   },
   {
    "duration": 489,
    "start_time": "2022-07-24T19:27:48.992Z"
   },
   {
    "duration": 885,
    "start_time": "2022-07-24T19:27:49.483Z"
   },
   {
    "duration": 4,
    "start_time": "2022-07-24T19:27:50.370Z"
   },
   {
    "duration": 10,
    "start_time": "2022-07-24T19:27:50.376Z"
   },
   {
    "duration": 7,
    "start_time": "2022-07-24T19:27:50.387Z"
   },
   {
    "duration": 6,
    "start_time": "2022-07-24T19:27:50.396Z"
   },
   {
    "duration": 427,
    "start_time": "2022-07-24T19:27:50.404Z"
   },
   {
    "duration": 4,
    "start_time": "2022-07-24T19:30:37.708Z"
   },
   {
    "duration": 5,
    "start_time": "2022-07-24T19:31:20.106Z"
   },
   {
    "duration": 5,
    "start_time": "2022-07-24T19:31:39.607Z"
   },
   {
    "duration": 10,
    "start_time": "2022-07-24T19:32:25.922Z"
   },
   {
    "duration": 3,
    "start_time": "2022-07-24T19:32:36.659Z"
   },
   {
    "duration": 1811,
    "start_time": "2022-07-24T19:32:39.307Z"
   },
   {
    "duration": 10,
    "start_time": "2022-07-24T19:56:26.393Z"
   },
   {
    "duration": 3,
    "start_time": "2022-07-24T19:56:33.959Z"
   },
   {
    "duration": 6,
    "start_time": "2022-07-24T19:56:44.460Z"
   },
   {
    "duration": 3,
    "start_time": "2022-07-24T19:57:28.698Z"
   },
   {
    "duration": 4,
    "start_time": "2022-07-24T19:58:13.031Z"
   },
   {
    "duration": 686,
    "start_time": "2022-07-24T19:58:17.248Z"
   },
   {
    "duration": 690,
    "start_time": "2022-07-24T19:58:43.698Z"
   },
   {
    "duration": 748,
    "start_time": "2022-07-24T19:59:00.147Z"
   },
   {
    "duration": 665,
    "start_time": "2022-07-24T19:59:14.897Z"
   },
   {
    "duration": 7,
    "start_time": "2022-07-24T20:11:49.274Z"
   },
   {
    "duration": 2631,
    "start_time": "2022-07-24T20:11:52.536Z"
   },
   {
    "duration": 1230,
    "start_time": "2022-07-24T20:12:02.184Z"
   },
   {
    "duration": 667,
    "start_time": "2022-07-24T20:12:24.394Z"
   },
   {
    "duration": 1019,
    "start_time": "2022-07-24T20:12:35.034Z"
   },
   {
    "duration": 3,
    "start_time": "2022-07-24T20:12:48.929Z"
   },
   {
    "duration": 668,
    "start_time": "2022-07-24T20:12:49.195Z"
   },
   {
    "duration": 99,
    "start_time": "2022-07-24T20:13:25.244Z"
   },
   {
    "duration": 2480,
    "start_time": "2022-07-24T20:13:27.585Z"
   },
   {
    "duration": 1261,
    "start_time": "2022-07-24T20:13:32.274Z"
   },
   {
    "duration": 593,
    "start_time": "2022-07-24T20:13:50.135Z"
   },
   {
    "duration": 928,
    "start_time": "2022-07-24T20:13:57.965Z"
   },
   {
    "duration": 6,
    "start_time": "2022-07-24T20:14:20.255Z"
   },
   {
    "duration": 864,
    "start_time": "2022-07-24T20:14:26.064Z"
   },
   {
    "duration": 7,
    "start_time": "2022-07-24T20:15:47.895Z"
   },
   {
    "duration": 882,
    "start_time": "2022-07-24T20:15:56.475Z"
   },
   {
    "duration": 10,
    "start_time": "2022-07-24T20:16:15.775Z"
   },
   {
    "duration": 1051,
    "start_time": "2022-07-24T20:16:21.715Z"
   },
   {
    "duration": 692,
    "start_time": "2022-07-24T20:16:37.655Z"
   },
   {
    "duration": 7,
    "start_time": "2022-07-24T20:17:12.915Z"
   },
   {
    "duration": 4,
    "start_time": "2022-07-24T20:17:18.116Z"
   },
   {
    "duration": 707,
    "start_time": "2022-07-24T20:17:18.794Z"
   },
   {
    "duration": 898,
    "start_time": "2022-07-24T20:17:32.955Z"
   },
   {
    "duration": 707,
    "start_time": "2022-07-24T20:17:41.935Z"
   },
   {
    "duration": 734,
    "start_time": "2022-07-24T20:19:22.717Z"
   },
   {
    "duration": 33,
    "start_time": "2022-07-24T20:19:35.115Z"
   },
   {
    "duration": 32,
    "start_time": "2022-07-24T20:19:48.244Z"
   },
   {
    "duration": 32,
    "start_time": "2022-07-24T20:20:20.318Z"
   },
   {
    "duration": 33,
    "start_time": "2022-07-24T20:23:49.474Z"
   },
   {
    "duration": 32,
    "start_time": "2022-07-24T20:23:59.033Z"
   },
   {
    "duration": 1498,
    "start_time": "2022-07-24T20:24:19.890Z"
   },
   {
    "duration": 259,
    "start_time": "2022-07-24T20:24:21.390Z"
   },
   {
    "duration": 38,
    "start_time": "2022-07-24T20:24:21.651Z"
   },
   {
    "duration": 45,
    "start_time": "2022-07-24T20:24:21.691Z"
   },
   {
    "duration": 98,
    "start_time": "2022-07-24T20:24:21.738Z"
   },
   {
    "duration": 27,
    "start_time": "2022-07-24T20:24:21.837Z"
   },
   {
    "duration": 36,
    "start_time": "2022-07-24T20:24:21.866Z"
   },
   {
    "duration": 2400,
    "start_time": "2022-07-24T20:24:21.904Z"
   },
   {
    "duration": 17,
    "start_time": "2022-07-24T20:24:24.306Z"
   },
   {
    "duration": 6,
    "start_time": "2022-07-24T20:24:24.326Z"
   },
   {
    "duration": 13,
    "start_time": "2022-07-24T20:24:24.334Z"
   },
   {
    "duration": 141,
    "start_time": "2022-07-24T20:24:24.349Z"
   },
   {
    "duration": 3,
    "start_time": "2022-07-24T20:24:24.492Z"
   },
   {
    "duration": 609,
    "start_time": "2022-07-24T20:24:24.497Z"
   },
   {
    "duration": 5,
    "start_time": "2022-07-24T20:24:25.107Z"
   },
   {
    "duration": 6,
    "start_time": "2022-07-24T20:24:25.113Z"
   },
   {
    "duration": 1773,
    "start_time": "2022-07-24T20:24:25.121Z"
   },
   {
    "duration": 32,
    "start_time": "2022-07-24T20:24:26.896Z"
   },
   {
    "duration": 83,
    "start_time": "2022-07-24T20:24:26.930Z"
   },
   {
    "duration": 275,
    "start_time": "2022-07-24T20:24:27.015Z"
   },
   {
    "duration": 13,
    "start_time": "2022-07-24T20:24:27.292Z"
   },
   {
    "duration": 222,
    "start_time": "2022-07-24T20:24:27.364Z"
   },
   {
    "duration": 3,
    "start_time": "2022-07-24T20:24:27.588Z"
   },
   {
    "duration": 276,
    "start_time": "2022-07-24T20:24:27.593Z"
   },
   {
    "duration": 0,
    "start_time": "2022-07-24T20:24:27.871Z"
   },
   {
    "duration": 0,
    "start_time": "2022-07-24T20:24:27.872Z"
   },
   {
    "duration": 0,
    "start_time": "2022-07-24T20:24:27.873Z"
   },
   {
    "duration": 0,
    "start_time": "2022-07-24T20:24:27.875Z"
   },
   {
    "duration": 0,
    "start_time": "2022-07-24T20:24:27.877Z"
   },
   {
    "duration": 0,
    "start_time": "2022-07-24T20:24:27.878Z"
   },
   {
    "duration": 0,
    "start_time": "2022-07-24T20:24:27.880Z"
   },
   {
    "duration": 0,
    "start_time": "2022-07-24T20:24:27.881Z"
   },
   {
    "duration": 0,
    "start_time": "2022-07-24T20:24:27.883Z"
   },
   {
    "duration": 0,
    "start_time": "2022-07-24T20:24:27.884Z"
   },
   {
    "duration": 0,
    "start_time": "2022-07-24T20:24:27.886Z"
   },
   {
    "duration": 0,
    "start_time": "2022-07-24T20:24:27.888Z"
   },
   {
    "duration": 0,
    "start_time": "2022-07-24T20:24:27.889Z"
   },
   {
    "duration": 1441,
    "start_time": "2022-07-24T20:25:19.922Z"
   },
   {
    "duration": 265,
    "start_time": "2022-07-24T20:25:21.365Z"
   },
   {
    "duration": 62,
    "start_time": "2022-07-24T20:25:21.632Z"
   },
   {
    "duration": 45,
    "start_time": "2022-07-24T20:25:21.696Z"
   },
   {
    "duration": 101,
    "start_time": "2022-07-24T20:25:21.743Z"
   },
   {
    "duration": 20,
    "start_time": "2022-07-24T20:25:21.846Z"
   },
   {
    "duration": 34,
    "start_time": "2022-07-24T20:25:21.868Z"
   },
   {
    "duration": 2416,
    "start_time": "2022-07-24T20:25:21.904Z"
   },
   {
    "duration": 16,
    "start_time": "2022-07-24T20:25:24.322Z"
   },
   {
    "duration": 7,
    "start_time": "2022-07-24T20:25:24.340Z"
   },
   {
    "duration": 13,
    "start_time": "2022-07-24T20:25:24.349Z"
   },
   {
    "duration": 153,
    "start_time": "2022-07-24T20:25:24.365Z"
   },
   {
    "duration": 3,
    "start_time": "2022-07-24T20:25:24.520Z"
   },
   {
    "duration": 639,
    "start_time": "2022-07-24T20:25:24.526Z"
   },
   {
    "duration": 5,
    "start_time": "2022-07-24T20:25:25.166Z"
   },
   {
    "duration": 10,
    "start_time": "2022-07-24T20:25:25.172Z"
   },
   {
    "duration": 1792,
    "start_time": "2022-07-24T20:25:25.184Z"
   },
   {
    "duration": 30,
    "start_time": "2022-07-24T20:25:26.978Z"
   },
   {
    "duration": 88,
    "start_time": "2022-07-24T20:25:27.010Z"
   },
   {
    "duration": 119,
    "start_time": "2022-07-24T20:25:27.100Z"
   },
   {
    "duration": 0,
    "start_time": "2022-07-24T20:25:27.221Z"
   },
   {
    "duration": 0,
    "start_time": "2022-07-24T20:25:27.222Z"
   },
   {
    "duration": 0,
    "start_time": "2022-07-24T20:25:27.224Z"
   },
   {
    "duration": 0,
    "start_time": "2022-07-24T20:25:27.225Z"
   },
   {
    "duration": 0,
    "start_time": "2022-07-24T20:25:27.227Z"
   },
   {
    "duration": 0,
    "start_time": "2022-07-24T20:25:27.229Z"
   },
   {
    "duration": 0,
    "start_time": "2022-07-24T20:25:27.231Z"
   },
   {
    "duration": 0,
    "start_time": "2022-07-24T20:25:27.232Z"
   },
   {
    "duration": 0,
    "start_time": "2022-07-24T20:25:27.233Z"
   },
   {
    "duration": 0,
    "start_time": "2022-07-24T20:25:27.235Z"
   },
   {
    "duration": 0,
    "start_time": "2022-07-24T20:25:27.264Z"
   },
   {
    "duration": 0,
    "start_time": "2022-07-24T20:25:27.265Z"
   },
   {
    "duration": 0,
    "start_time": "2022-07-24T20:25:27.266Z"
   },
   {
    "duration": 0,
    "start_time": "2022-07-24T20:25:27.267Z"
   },
   {
    "duration": 0,
    "start_time": "2022-07-24T20:25:27.268Z"
   },
   {
    "duration": 1,
    "start_time": "2022-07-24T20:25:27.269Z"
   },
   {
    "duration": 0,
    "start_time": "2022-07-24T20:25:27.271Z"
   },
   {
    "duration": 4,
    "start_time": "2022-07-24T20:27:16.461Z"
   },
   {
    "duration": 5,
    "start_time": "2022-07-24T20:27:27.743Z"
   },
   {
    "duration": 7,
    "start_time": "2022-07-24T20:27:38.883Z"
   },
   {
    "duration": 5,
    "start_time": "2022-07-24T20:27:45.673Z"
   },
   {
    "duration": 1440,
    "start_time": "2022-07-24T20:28:25.665Z"
   },
   {
    "duration": 285,
    "start_time": "2022-07-24T20:28:27.107Z"
   },
   {
    "duration": 45,
    "start_time": "2022-07-24T20:28:27.394Z"
   },
   {
    "duration": 58,
    "start_time": "2022-07-24T20:28:27.440Z"
   },
   {
    "duration": 101,
    "start_time": "2022-07-24T20:28:27.500Z"
   },
   {
    "duration": 17,
    "start_time": "2022-07-24T20:28:27.603Z"
   },
   {
    "duration": 56,
    "start_time": "2022-07-24T20:28:27.622Z"
   },
   {
    "duration": 2472,
    "start_time": "2022-07-24T20:28:27.680Z"
   },
   {
    "duration": 16,
    "start_time": "2022-07-24T20:28:30.155Z"
   },
   {
    "duration": 17,
    "start_time": "2022-07-24T20:28:30.173Z"
   },
   {
    "duration": 30,
    "start_time": "2022-07-24T20:28:30.192Z"
   },
   {
    "duration": 181,
    "start_time": "2022-07-24T20:28:30.223Z"
   },
   {
    "duration": 3,
    "start_time": "2022-07-24T20:28:30.406Z"
   },
   {
    "duration": 743,
    "start_time": "2022-07-24T20:28:30.412Z"
   },
   {
    "duration": 9,
    "start_time": "2022-07-24T20:28:31.157Z"
   },
   {
    "duration": 34,
    "start_time": "2022-07-24T20:28:31.168Z"
   },
   {
    "duration": 2134,
    "start_time": "2022-07-24T20:28:31.205Z"
   },
   {
    "duration": 35,
    "start_time": "2022-07-24T20:28:33.341Z"
   },
   {
    "duration": 72,
    "start_time": "2022-07-24T20:28:33.378Z"
   },
   {
    "duration": 120,
    "start_time": "2022-07-24T20:28:33.463Z"
   },
   {
    "duration": 0,
    "start_time": "2022-07-24T20:28:33.585Z"
   },
   {
    "duration": 0,
    "start_time": "2022-07-24T20:28:33.586Z"
   },
   {
    "duration": 0,
    "start_time": "2022-07-24T20:28:33.587Z"
   },
   {
    "duration": 0,
    "start_time": "2022-07-24T20:28:33.588Z"
   },
   {
    "duration": 0,
    "start_time": "2022-07-24T20:28:33.589Z"
   },
   {
    "duration": 0,
    "start_time": "2022-07-24T20:28:33.590Z"
   },
   {
    "duration": 0,
    "start_time": "2022-07-24T20:28:33.591Z"
   },
   {
    "duration": 0,
    "start_time": "2022-07-24T20:28:33.592Z"
   },
   {
    "duration": 0,
    "start_time": "2022-07-24T20:28:33.593Z"
   },
   {
    "duration": 0,
    "start_time": "2022-07-24T20:28:33.595Z"
   },
   {
    "duration": 0,
    "start_time": "2022-07-24T20:28:33.596Z"
   },
   {
    "duration": 0,
    "start_time": "2022-07-24T20:28:33.597Z"
   },
   {
    "duration": 0,
    "start_time": "2022-07-24T20:28:33.598Z"
   },
   {
    "duration": 0,
    "start_time": "2022-07-24T20:28:33.599Z"
   },
   {
    "duration": 0,
    "start_time": "2022-07-24T20:28:33.600Z"
   },
   {
    "duration": 0,
    "start_time": "2022-07-24T20:28:33.601Z"
   },
   {
    "duration": 1520,
    "start_time": "2022-07-24T20:29:01.653Z"
   },
   {
    "duration": 275,
    "start_time": "2022-07-24T20:29:03.175Z"
   },
   {
    "duration": 39,
    "start_time": "2022-07-24T20:29:03.452Z"
   },
   {
    "duration": 45,
    "start_time": "2022-07-24T20:29:03.494Z"
   },
   {
    "duration": 99,
    "start_time": "2022-07-24T20:29:03.540Z"
   },
   {
    "duration": 31,
    "start_time": "2022-07-24T20:29:03.641Z"
   },
   {
    "duration": 34,
    "start_time": "2022-07-24T20:29:03.674Z"
   },
   {
    "duration": 2315,
    "start_time": "2022-07-24T20:29:03.709Z"
   },
   {
    "duration": 16,
    "start_time": "2022-07-24T20:29:06.026Z"
   },
   {
    "duration": 6,
    "start_time": "2022-07-24T20:29:06.045Z"
   },
   {
    "duration": 12,
    "start_time": "2022-07-24T20:29:06.052Z"
   },
   {
    "duration": 152,
    "start_time": "2022-07-24T20:29:06.066Z"
   },
   {
    "duration": 3,
    "start_time": "2022-07-24T20:29:06.220Z"
   },
   {
    "duration": 624,
    "start_time": "2022-07-24T20:29:06.225Z"
   },
   {
    "duration": 4,
    "start_time": "2022-07-24T20:29:06.851Z"
   },
   {
    "duration": 9,
    "start_time": "2022-07-24T20:29:06.856Z"
   },
   {
    "duration": 1824,
    "start_time": "2022-07-24T20:29:06.866Z"
   },
   {
    "duration": 44,
    "start_time": "2022-07-24T20:29:08.693Z"
   },
   {
    "duration": 91,
    "start_time": "2022-07-24T20:29:08.739Z"
   },
   {
    "duration": 209,
    "start_time": "2022-07-24T20:29:08.831Z"
   },
   {
    "duration": 122,
    "start_time": "2022-07-24T20:29:09.042Z"
   },
   {
    "duration": 0,
    "start_time": "2022-07-24T20:29:09.167Z"
   },
   {
    "duration": 0,
    "start_time": "2022-07-24T20:29:09.168Z"
   },
   {
    "duration": 0,
    "start_time": "2022-07-24T20:29:09.170Z"
   },
   {
    "duration": 0,
    "start_time": "2022-07-24T20:29:09.171Z"
   },
   {
    "duration": 0,
    "start_time": "2022-07-24T20:29:09.173Z"
   },
   {
    "duration": 0,
    "start_time": "2022-07-24T20:29:09.174Z"
   },
   {
    "duration": 0,
    "start_time": "2022-07-24T20:29:09.176Z"
   },
   {
    "duration": 0,
    "start_time": "2022-07-24T20:29:09.178Z"
   },
   {
    "duration": 0,
    "start_time": "2022-07-24T20:29:09.180Z"
   },
   {
    "duration": 0,
    "start_time": "2022-07-24T20:29:09.181Z"
   },
   {
    "duration": 0,
    "start_time": "2022-07-24T20:29:09.183Z"
   },
   {
    "duration": 0,
    "start_time": "2022-07-24T20:29:09.184Z"
   },
   {
    "duration": 0,
    "start_time": "2022-07-24T20:29:09.186Z"
   },
   {
    "duration": 0,
    "start_time": "2022-07-24T20:29:09.187Z"
   },
   {
    "duration": 0,
    "start_time": "2022-07-24T20:29:09.188Z"
   },
   {
    "duration": 1501,
    "start_time": "2022-07-24T20:29:53.259Z"
   },
   {
    "duration": 268,
    "start_time": "2022-07-24T20:29:54.762Z"
   },
   {
    "duration": 47,
    "start_time": "2022-07-24T20:29:55.032Z"
   },
   {
    "duration": 45,
    "start_time": "2022-07-24T20:29:55.082Z"
   },
   {
    "duration": 105,
    "start_time": "2022-07-24T20:29:55.130Z"
   },
   {
    "duration": 27,
    "start_time": "2022-07-24T20:29:55.237Z"
   },
   {
    "duration": 34,
    "start_time": "2022-07-24T20:29:55.266Z"
   },
   {
    "duration": 2466,
    "start_time": "2022-07-24T20:29:55.301Z"
   },
   {
    "duration": 17,
    "start_time": "2022-07-24T20:29:57.769Z"
   },
   {
    "duration": 8,
    "start_time": "2022-07-24T20:29:57.788Z"
   },
   {
    "duration": 14,
    "start_time": "2022-07-24T20:29:57.798Z"
   },
   {
    "duration": 160,
    "start_time": "2022-07-24T20:29:57.814Z"
   },
   {
    "duration": 4,
    "start_time": "2022-07-24T20:29:57.976Z"
   },
   {
    "duration": 636,
    "start_time": "2022-07-24T20:29:57.983Z"
   },
   {
    "duration": 5,
    "start_time": "2022-07-24T20:29:58.621Z"
   },
   {
    "duration": 27,
    "start_time": "2022-07-24T20:29:58.628Z"
   },
   {
    "duration": 1852,
    "start_time": "2022-07-24T20:29:58.657Z"
   },
   {
    "duration": 32,
    "start_time": "2022-07-24T20:30:00.511Z"
   },
   {
    "duration": 85,
    "start_time": "2022-07-24T20:30:00.545Z"
   },
   {
    "duration": 225,
    "start_time": "2022-07-24T20:30:00.631Z"
   },
   {
    "duration": 17,
    "start_time": "2022-07-24T20:30:00.858Z"
   },
   {
    "duration": 135,
    "start_time": "2022-07-24T20:30:00.877Z"
   },
   {
    "duration": 4,
    "start_time": "2022-07-24T20:30:01.014Z"
   },
   {
    "duration": 31,
    "start_time": "2022-07-24T20:30:01.020Z"
   },
   {
    "duration": 39,
    "start_time": "2022-07-24T20:30:01.053Z"
   },
   {
    "duration": 3271,
    "start_time": "2022-07-24T20:30:01.094Z"
   },
   {
    "duration": 1428,
    "start_time": "2022-07-24T20:30:04.367Z"
   },
   {
    "duration": 2172,
    "start_time": "2022-07-24T20:30:05.796Z"
   },
   {
    "duration": 547,
    "start_time": "2022-07-24T20:30:07.970Z"
   },
   {
    "duration": 949,
    "start_time": "2022-07-24T20:30:08.518Z"
   },
   {
    "duration": 3,
    "start_time": "2022-07-24T20:30:09.469Z"
   },
   {
    "duration": 715,
    "start_time": "2022-07-24T20:30:09.474Z"
   },
   {
    "duration": 121,
    "start_time": "2022-07-24T20:30:10.191Z"
   },
   {
    "duration": 0,
    "start_time": "2022-07-24T20:30:10.314Z"
   },
   {
    "duration": 0,
    "start_time": "2022-07-24T20:30:10.316Z"
   },
   {
    "duration": 0,
    "start_time": "2022-07-24T20:30:10.317Z"
   },
   {
    "duration": 35,
    "start_time": "2022-07-24T20:30:50.133Z"
   },
   {
    "duration": 1470,
    "start_time": "2022-07-24T20:31:18.485Z"
   },
   {
    "duration": 261,
    "start_time": "2022-07-24T20:31:19.957Z"
   },
   {
    "duration": 36,
    "start_time": "2022-07-24T20:31:20.220Z"
   },
   {
    "duration": 45,
    "start_time": "2022-07-24T20:31:20.264Z"
   },
   {
    "duration": 104,
    "start_time": "2022-07-24T20:31:20.312Z"
   },
   {
    "duration": 19,
    "start_time": "2022-07-24T20:31:20.418Z"
   },
   {
    "duration": 52,
    "start_time": "2022-07-24T20:31:20.438Z"
   },
   {
    "duration": 2464,
    "start_time": "2022-07-24T20:31:20.492Z"
   },
   {
    "duration": 20,
    "start_time": "2022-07-24T20:31:22.957Z"
   },
   {
    "duration": 8,
    "start_time": "2022-07-24T20:31:22.979Z"
   },
   {
    "duration": 20,
    "start_time": "2022-07-24T20:31:22.990Z"
   },
   {
    "duration": 163,
    "start_time": "2022-07-24T20:31:23.012Z"
   },
   {
    "duration": 3,
    "start_time": "2022-07-24T20:31:23.177Z"
   },
   {
    "duration": 640,
    "start_time": "2022-07-24T20:31:23.182Z"
   },
   {
    "duration": 4,
    "start_time": "2022-07-24T20:31:23.824Z"
   },
   {
    "duration": 8,
    "start_time": "2022-07-24T20:31:23.830Z"
   },
   {
    "duration": 1782,
    "start_time": "2022-07-24T20:31:23.840Z"
   },
   {
    "duration": 29,
    "start_time": "2022-07-24T20:31:25.625Z"
   },
   {
    "duration": 76,
    "start_time": "2022-07-24T20:31:25.664Z"
   },
   {
    "duration": 216,
    "start_time": "2022-07-24T20:31:25.742Z"
   },
   {
    "duration": 13,
    "start_time": "2022-07-24T20:31:25.963Z"
   },
   {
    "duration": 129,
    "start_time": "2022-07-24T20:31:25.978Z"
   },
   {
    "duration": 4,
    "start_time": "2022-07-24T20:31:26.108Z"
   },
   {
    "duration": 7,
    "start_time": "2022-07-24T20:31:26.114Z"
   },
   {
    "duration": 7,
    "start_time": "2022-07-24T20:31:26.123Z"
   },
   {
    "duration": 3087,
    "start_time": "2022-07-24T20:31:26.131Z"
   },
   {
    "duration": 1500,
    "start_time": "2022-07-24T20:31:29.266Z"
   },
   {
    "duration": 2397,
    "start_time": "2022-07-24T20:31:30.768Z"
   },
   {
    "duration": 573,
    "start_time": "2022-07-24T20:31:33.167Z"
   },
   {
    "duration": 954,
    "start_time": "2022-07-24T20:31:33.742Z"
   },
   {
    "duration": 5,
    "start_time": "2022-07-24T20:31:34.698Z"
   },
   {
    "duration": 693,
    "start_time": "2022-07-24T20:31:34.707Z"
   },
   {
    "duration": 6,
    "start_time": "2022-07-24T20:31:35.402Z"
   },
   {
    "duration": 33,
    "start_time": "2022-07-24T20:31:35.411Z"
   },
   {
    "duration": 404,
    "start_time": "2022-07-24T20:31:35.446Z"
   },
   {
    "duration": 7,
    "start_time": "2022-07-24T20:34:32.032Z"
   },
   {
    "duration": 7,
    "start_time": "2022-07-24T20:34:57.936Z"
   },
   {
    "duration": 1148,
    "start_time": "2022-07-24T20:35:03.219Z"
   },
   {
    "duration": 360,
    "start_time": "2022-07-24T20:35:12.341Z"
   },
   {
    "duration": 6,
    "start_time": "2022-07-24T20:35:26.385Z"
   },
   {
    "duration": 1737,
    "start_time": "2022-07-24T20:35:29.575Z"
   },
   {
    "duration": 903,
    "start_time": "2022-07-24T20:35:36.324Z"
   },
   {
    "duration": 1327,
    "start_time": "2022-07-24T20:35:42.224Z"
   },
   {
    "duration": 4,
    "start_time": "2022-07-24T20:35:55.463Z"
   },
   {
    "duration": 668,
    "start_time": "2022-07-24T20:35:59.554Z"
   },
   {
    "duration": 7,
    "start_time": "2022-07-24T20:36:06.874Z"
   },
   {
    "duration": 6,
    "start_time": "2022-07-24T20:36:15.030Z"
   },
   {
    "duration": 7,
    "start_time": "2022-07-24T20:36:37.261Z"
   },
   {
    "duration": 3085,
    "start_time": "2022-07-24T20:36:40.899Z"
   },
   {
    "duration": 1350,
    "start_time": "2022-07-24T20:36:46.623Z"
   },
   {
    "duration": 542,
    "start_time": "2022-07-24T20:36:54.181Z"
   },
   {
    "duration": 921,
    "start_time": "2022-07-24T20:37:03.264Z"
   },
   {
    "duration": 4,
    "start_time": "2022-07-24T20:37:10.164Z"
   },
   {
    "duration": 740,
    "start_time": "2022-07-24T20:37:12.614Z"
   },
   {
    "duration": 6,
    "start_time": "2022-07-24T20:37:18.546Z"
   },
   {
    "duration": 7,
    "start_time": "2022-07-24T20:37:21.245Z"
   },
   {
    "duration": 7,
    "start_time": "2022-07-24T20:41:36.245Z"
   },
   {
    "duration": 744,
    "start_time": "2022-07-24T20:41:43.545Z"
   },
   {
    "duration": 6,
    "start_time": "2022-07-24T20:41:54.260Z"
   },
   {
    "duration": 6,
    "start_time": "2022-07-24T20:41:56.085Z"
   },
   {
    "duration": 4,
    "start_time": "2022-07-24T20:41:59.322Z"
   },
   {
    "duration": 229,
    "start_time": "2022-07-24T20:41:59.331Z"
   },
   {
    "duration": 32,
    "start_time": "2022-07-24T20:41:59.562Z"
   },
   {
    "duration": 40,
    "start_time": "2022-07-24T20:41:59.596Z"
   },
   {
    "duration": 88,
    "start_time": "2022-07-24T20:41:59.638Z"
   },
   {
    "duration": 17,
    "start_time": "2022-07-24T20:41:59.729Z"
   },
   {
    "duration": 34,
    "start_time": "2022-07-24T20:41:59.765Z"
   },
   {
    "duration": 2537,
    "start_time": "2022-07-24T20:41:59.802Z"
   },
   {
    "duration": 11,
    "start_time": "2022-07-24T20:42:02.341Z"
   },
   {
    "duration": 5,
    "start_time": "2022-07-24T20:42:02.363Z"
   },
   {
    "duration": 12,
    "start_time": "2022-07-24T20:42:02.370Z"
   },
   {
    "duration": 62,
    "start_time": "2022-07-24T20:42:02.384Z"
   },
   {
    "duration": 16,
    "start_time": "2022-07-24T20:42:02.448Z"
   },
   {
    "duration": 701,
    "start_time": "2022-07-24T20:42:02.467Z"
   },
   {
    "duration": 4,
    "start_time": "2022-07-24T20:42:03.172Z"
   },
   {
    "duration": 16,
    "start_time": "2022-07-24T20:42:03.179Z"
   },
   {
    "duration": 1834,
    "start_time": "2022-07-24T20:42:03.197Z"
   },
   {
    "duration": 41,
    "start_time": "2022-07-24T20:42:05.033Z"
   },
   {
    "duration": 67,
    "start_time": "2022-07-24T20:42:05.075Z"
   },
   {
    "duration": 233,
    "start_time": "2022-07-24T20:42:05.144Z"
   },
   {
    "duration": 15,
    "start_time": "2022-07-24T20:42:05.380Z"
   },
   {
    "duration": 114,
    "start_time": "2022-07-24T20:42:05.397Z"
   },
   {
    "duration": 4,
    "start_time": "2022-07-24T20:42:05.513Z"
   },
   {
    "duration": 8,
    "start_time": "2022-07-24T20:42:05.518Z"
   },
   {
    "duration": 10,
    "start_time": "2022-07-24T20:42:05.528Z"
   },
   {
    "duration": 3629,
    "start_time": "2022-07-24T20:42:05.540Z"
   },
   {
    "duration": 1668,
    "start_time": "2022-07-24T20:42:09.172Z"
   },
   {
    "duration": 2288,
    "start_time": "2022-07-24T20:42:10.841Z"
   },
   {
    "duration": 375,
    "start_time": "2022-07-24T20:42:13.131Z"
   },
   {
    "duration": 774,
    "start_time": "2022-07-24T20:42:13.507Z"
   },
   {
    "duration": 4,
    "start_time": "2022-07-24T20:42:14.283Z"
   },
   {
    "duration": 693,
    "start_time": "2022-07-24T20:42:14.289Z"
   },
   {
    "duration": 6,
    "start_time": "2022-07-24T20:42:14.984Z"
   },
   {
    "duration": 16,
    "start_time": "2022-07-24T20:42:14.991Z"
   },
   {
    "duration": 416,
    "start_time": "2022-07-24T20:42:15.009Z"
   },
   {
    "duration": 7,
    "start_time": "2022-07-24T20:44:12.499Z"
   },
   {
    "duration": 918,
    "start_time": "2022-07-24T20:44:19.151Z"
   },
   {
    "duration": 5,
    "start_time": "2022-07-24T20:44:31.490Z"
   },
   {
    "duration": 1008,
    "start_time": "2022-07-24T20:44:32.044Z"
   },
   {
    "duration": 6,
    "start_time": "2022-07-24T20:45:02.122Z"
   },
   {
    "duration": 751,
    "start_time": "2022-07-24T20:45:06.734Z"
   },
   {
    "duration": 4,
    "start_time": "2022-07-24T20:45:14.625Z"
   },
   {
    "duration": 696,
    "start_time": "2022-07-24T20:45:15.965Z"
   },
   {
    "duration": 6,
    "start_time": "2022-07-24T20:45:23.266Z"
   },
   {
    "duration": 6,
    "start_time": "2022-07-24T20:45:25.286Z"
   },
   {
    "duration": 7,
    "start_time": "2022-07-24T20:45:42.795Z"
   },
   {
    "duration": 1006,
    "start_time": "2022-07-24T20:45:48.482Z"
   },
   {
    "duration": 7,
    "start_time": "2022-07-24T20:45:56.705Z"
   },
   {
    "duration": 6,
    "start_time": "2022-07-24T20:46:35.324Z"
   },
   {
    "duration": 1053,
    "start_time": "2022-07-24T20:46:43.060Z"
   },
   {
    "duration": 6,
    "start_time": "2022-07-24T20:46:52.230Z"
   },
   {
    "duration": 6,
    "start_time": "2022-07-24T20:46:55.462Z"
   },
   {
    "duration": 1482,
    "start_time": "2022-07-24T20:55:27.443Z"
   },
   {
    "duration": 277,
    "start_time": "2022-07-24T20:55:28.927Z"
   },
   {
    "duration": 40,
    "start_time": "2022-07-24T20:55:29.206Z"
   },
   {
    "duration": 44,
    "start_time": "2022-07-24T20:55:29.263Z"
   },
   {
    "duration": 105,
    "start_time": "2022-07-24T20:55:29.309Z"
   },
   {
    "duration": 22,
    "start_time": "2022-07-24T20:55:29.417Z"
   },
   {
    "duration": 47,
    "start_time": "2022-07-24T20:55:29.441Z"
   },
   {
    "duration": 2427,
    "start_time": "2022-07-24T20:55:29.489Z"
   },
   {
    "duration": 15,
    "start_time": "2022-07-24T20:55:31.918Z"
   },
   {
    "duration": 7,
    "start_time": "2022-07-24T20:55:31.936Z"
   },
   {
    "duration": 20,
    "start_time": "2022-07-24T20:55:31.944Z"
   },
   {
    "duration": 148,
    "start_time": "2022-07-24T20:55:31.966Z"
   },
   {
    "duration": 3,
    "start_time": "2022-07-24T20:55:32.116Z"
   },
   {
    "duration": 710,
    "start_time": "2022-07-24T20:55:32.121Z"
   },
   {
    "duration": 5,
    "start_time": "2022-07-24T20:55:32.833Z"
   },
   {
    "duration": 7,
    "start_time": "2022-07-24T20:55:32.839Z"
   },
   {
    "duration": 1863,
    "start_time": "2022-07-24T20:55:32.847Z"
   },
   {
    "duration": 31,
    "start_time": "2022-07-24T20:55:34.712Z"
   },
   {
    "duration": 79,
    "start_time": "2022-07-24T20:55:34.745Z"
   },
   {
    "duration": 212,
    "start_time": "2022-07-24T20:55:34.826Z"
   },
   {
    "duration": 24,
    "start_time": "2022-07-24T20:55:35.040Z"
   },
   {
    "duration": 115,
    "start_time": "2022-07-24T20:55:35.066Z"
   },
   {
    "duration": 4,
    "start_time": "2022-07-24T20:55:35.183Z"
   },
   {
    "duration": 10,
    "start_time": "2022-07-24T20:55:35.189Z"
   },
   {
    "duration": 8,
    "start_time": "2022-07-24T20:55:35.201Z"
   },
   {
    "duration": 3205,
    "start_time": "2022-07-24T20:55:35.210Z"
   },
   {
    "duration": 1405,
    "start_time": "2022-07-24T20:55:38.425Z"
   },
   {
    "duration": 2192,
    "start_time": "2022-07-24T20:55:39.832Z"
   },
   {
    "duration": 628,
    "start_time": "2022-07-24T20:55:42.026Z"
   },
   {
    "duration": 988,
    "start_time": "2022-07-24T20:55:42.656Z"
   },
   {
    "duration": 4,
    "start_time": "2022-07-24T20:55:43.646Z"
   },
   {
    "duration": 696,
    "start_time": "2022-07-24T20:55:43.664Z"
   },
   {
    "duration": 6,
    "start_time": "2022-07-24T20:55:44.363Z"
   },
   {
    "duration": 7,
    "start_time": "2022-07-24T20:55:44.370Z"
   },
   {
    "duration": 425,
    "start_time": "2022-07-24T20:55:44.379Z"
   },
   {
    "duration": 149,
    "start_time": "2022-07-24T20:58:41.898Z"
   },
   {
    "duration": 4,
    "start_time": "2022-07-24T20:58:50.031Z"
   },
   {
    "duration": 239,
    "start_time": "2022-07-24T20:58:50.038Z"
   },
   {
    "duration": 44,
    "start_time": "2022-07-24T20:58:50.279Z"
   },
   {
    "duration": 70,
    "start_time": "2022-07-24T20:58:50.327Z"
   },
   {
    "duration": 91,
    "start_time": "2022-07-24T20:58:50.400Z"
   },
   {
    "duration": 18,
    "start_time": "2022-07-24T20:58:50.493Z"
   },
   {
    "duration": 57,
    "start_time": "2022-07-24T20:58:50.513Z"
   },
   {
    "duration": 2422,
    "start_time": "2022-07-24T20:58:50.571Z"
   },
   {
    "duration": 11,
    "start_time": "2022-07-24T20:58:52.995Z"
   },
   {
    "duration": 7,
    "start_time": "2022-07-24T20:58:53.008Z"
   },
   {
    "duration": 12,
    "start_time": "2022-07-24T20:58:53.017Z"
   },
   {
    "duration": 74,
    "start_time": "2022-07-24T20:58:53.031Z"
   },
   {
    "duration": 5,
    "start_time": "2022-07-24T20:58:53.107Z"
   },
   {
    "duration": 641,
    "start_time": "2022-07-24T20:58:53.114Z"
   },
   {
    "duration": 9,
    "start_time": "2022-07-24T20:58:53.757Z"
   },
   {
    "duration": 8,
    "start_time": "2022-07-24T20:58:53.768Z"
   },
   {
    "duration": 1922,
    "start_time": "2022-07-24T20:58:53.778Z"
   },
   {
    "duration": 35,
    "start_time": "2022-07-24T20:58:55.701Z"
   },
   {
    "duration": 88,
    "start_time": "2022-07-24T20:58:55.738Z"
   },
   {
    "duration": 213,
    "start_time": "2022-07-24T20:58:55.828Z"
   },
   {
    "duration": 23,
    "start_time": "2022-07-24T20:58:56.043Z"
   },
   {
    "duration": 125,
    "start_time": "2022-07-24T20:58:56.068Z"
   },
   {
    "duration": 4,
    "start_time": "2022-07-24T20:58:56.196Z"
   },
   {
    "duration": 6,
    "start_time": "2022-07-24T20:58:56.204Z"
   },
   {
    "duration": 14,
    "start_time": "2022-07-24T20:58:56.213Z"
   },
   {
    "duration": 3236,
    "start_time": "2022-07-24T20:58:56.229Z"
   },
   {
    "duration": 1481,
    "start_time": "2022-07-24T20:58:59.473Z"
   },
   {
    "duration": 2287,
    "start_time": "2022-07-24T20:59:00.956Z"
   },
   {
    "duration": 705,
    "start_time": "2022-07-24T20:59:03.245Z"
   },
   {
    "duration": 1033,
    "start_time": "2022-07-24T20:59:03.952Z"
   },
   {
    "duration": 4,
    "start_time": "2022-07-24T20:59:04.986Z"
   },
   {
    "duration": 701,
    "start_time": "2022-07-24T20:59:04.992Z"
   },
   {
    "duration": 6,
    "start_time": "2022-07-24T20:59:05.695Z"
   },
   {
    "duration": 10,
    "start_time": "2022-07-24T20:59:05.702Z"
   },
   {
    "duration": 421,
    "start_time": "2022-07-24T20:59:05.715Z"
   },
   {
    "duration": 8,
    "start_time": "2022-07-24T20:59:28.620Z"
   },
   {
    "duration": 2086,
    "start_time": "2022-07-24T21:28:27.579Z"
   },
   {
    "duration": 989,
    "start_time": "2022-07-24T21:28:29.667Z"
   },
   {
    "duration": 39,
    "start_time": "2022-07-24T21:28:30.658Z"
   },
   {
    "duration": 61,
    "start_time": "2022-07-24T21:28:30.699Z"
   },
   {
    "duration": 115,
    "start_time": "2022-07-24T21:28:30.763Z"
   },
   {
    "duration": 17,
    "start_time": "2022-07-24T21:28:30.880Z"
   },
   {
    "duration": 81,
    "start_time": "2022-07-24T21:28:30.910Z"
   },
   {
    "duration": 2861,
    "start_time": "2022-07-24T21:28:30.993Z"
   },
   {
    "duration": 18,
    "start_time": "2022-07-24T21:28:33.856Z"
   },
   {
    "duration": 7,
    "start_time": "2022-07-24T21:28:33.876Z"
   },
   {
    "duration": 13,
    "start_time": "2022-07-24T21:28:33.885Z"
   },
   {
    "duration": 152,
    "start_time": "2022-07-24T21:28:33.901Z"
   },
   {
    "duration": 4,
    "start_time": "2022-07-24T21:28:34.055Z"
   },
   {
    "duration": 799,
    "start_time": "2022-07-24T21:28:34.062Z"
   },
   {
    "duration": 4,
    "start_time": "2022-07-24T21:28:34.863Z"
   },
   {
    "duration": 29,
    "start_time": "2022-07-24T21:28:34.868Z"
   },
   {
    "duration": 2206,
    "start_time": "2022-07-24T21:28:34.898Z"
   },
   {
    "duration": 42,
    "start_time": "2022-07-24T21:28:37.106Z"
   },
   {
    "duration": 100,
    "start_time": "2022-07-24T21:28:37.151Z"
   },
   {
    "duration": 230,
    "start_time": "2022-07-24T21:28:37.253Z"
   },
   {
    "duration": 32,
    "start_time": "2022-07-24T21:28:37.484Z"
   },
   {
    "duration": 150,
    "start_time": "2022-07-24T21:28:37.518Z"
   },
   {
    "duration": 5,
    "start_time": "2022-07-24T21:28:37.670Z"
   },
   {
    "duration": 13,
    "start_time": "2022-07-24T21:28:37.677Z"
   },
   {
    "duration": 26,
    "start_time": "2022-07-24T21:28:37.692Z"
   },
   {
    "duration": 3194,
    "start_time": "2022-07-24T21:28:37.720Z"
   },
   {
    "duration": 1517,
    "start_time": "2022-07-24T21:28:40.918Z"
   },
   {
    "duration": 2470,
    "start_time": "2022-07-24T21:28:42.438Z"
   },
   {
    "duration": 715,
    "start_time": "2022-07-24T21:28:44.910Z"
   },
   {
    "duration": 1116,
    "start_time": "2022-07-24T21:28:45.628Z"
   },
   {
    "duration": 4,
    "start_time": "2022-07-24T21:28:46.746Z"
   },
   {
    "duration": 816,
    "start_time": "2022-07-24T21:28:46.751Z"
   },
   {
    "duration": 6,
    "start_time": "2022-07-24T21:28:47.569Z"
   },
   {
    "duration": 7,
    "start_time": "2022-07-24T21:28:47.577Z"
   },
   {
    "duration": 491,
    "start_time": "2022-07-24T21:28:47.586Z"
   },
   {
    "duration": 55,
    "start_time": "2022-08-25T12:44:08.359Z"
   },
   {
    "duration": 1747,
    "start_time": "2022-08-25T12:44:11.765Z"
   },
   {
    "duration": 975,
    "start_time": "2022-08-25T12:44:13.514Z"
   },
   {
    "duration": 67,
    "start_time": "2022-08-25T12:44:14.490Z"
   },
   {
    "duration": 48,
    "start_time": "2022-08-25T12:44:14.560Z"
   },
   {
    "duration": 104,
    "start_time": "2022-08-25T12:44:14.610Z"
   },
   {
    "duration": 18,
    "start_time": "2022-08-25T12:44:14.716Z"
   },
   {
    "duration": 57,
    "start_time": "2022-08-25T12:44:14.736Z"
   },
   {
    "duration": 127,
    "start_time": "2022-08-25T12:44:14.795Z"
   },
   {
    "duration": 0,
    "start_time": "2022-08-25T12:44:14.926Z"
   },
   {
    "duration": 0,
    "start_time": "2022-08-25T12:44:14.928Z"
   },
   {
    "duration": 0,
    "start_time": "2022-08-25T12:44:14.930Z"
   },
   {
    "duration": 0,
    "start_time": "2022-08-25T12:44:14.931Z"
   },
   {
    "duration": 0,
    "start_time": "2022-08-25T12:44:14.932Z"
   },
   {
    "duration": 0,
    "start_time": "2022-08-25T12:44:14.933Z"
   },
   {
    "duration": 0,
    "start_time": "2022-08-25T12:44:14.934Z"
   },
   {
    "duration": 0,
    "start_time": "2022-08-25T12:44:14.935Z"
   },
   {
    "duration": 0,
    "start_time": "2022-08-25T12:44:14.936Z"
   },
   {
    "duration": 0,
    "start_time": "2022-08-25T12:44:14.938Z"
   },
   {
    "duration": 0,
    "start_time": "2022-08-25T12:44:14.939Z"
   },
   {
    "duration": 0,
    "start_time": "2022-08-25T12:44:14.940Z"
   },
   {
    "duration": 0,
    "start_time": "2022-08-25T12:44:14.941Z"
   },
   {
    "duration": 0,
    "start_time": "2022-08-25T12:44:14.942Z"
   },
   {
    "duration": 0,
    "start_time": "2022-08-25T12:44:14.943Z"
   },
   {
    "duration": 0,
    "start_time": "2022-08-25T12:44:14.976Z"
   },
   {
    "duration": 0,
    "start_time": "2022-08-25T12:44:14.977Z"
   },
   {
    "duration": 0,
    "start_time": "2022-08-25T12:44:14.977Z"
   },
   {
    "duration": 0,
    "start_time": "2022-08-25T12:44:14.978Z"
   },
   {
    "duration": 0,
    "start_time": "2022-08-25T12:44:14.979Z"
   },
   {
    "duration": 0,
    "start_time": "2022-08-25T12:44:14.979Z"
   },
   {
    "duration": 0,
    "start_time": "2022-08-25T12:44:14.985Z"
   },
   {
    "duration": 0,
    "start_time": "2022-08-25T12:44:14.986Z"
   },
   {
    "duration": 0,
    "start_time": "2022-08-25T12:44:14.987Z"
   },
   {
    "duration": 0,
    "start_time": "2022-08-25T12:44:14.988Z"
   },
   {
    "duration": 0,
    "start_time": "2022-08-25T12:44:14.989Z"
   },
   {
    "duration": 0,
    "start_time": "2022-08-25T12:44:14.990Z"
   },
   {
    "duration": 0,
    "start_time": "2022-08-25T12:44:14.991Z"
   },
   {
    "duration": 13,
    "start_time": "2022-08-25T12:44:43.802Z"
   },
   {
    "duration": 5,
    "start_time": "2022-08-25T12:44:55.123Z"
   },
   {
    "duration": 258,
    "start_time": "2022-08-25T12:44:55.130Z"
   },
   {
    "duration": 33,
    "start_time": "2022-08-25T12:44:55.389Z"
   },
   {
    "duration": 57,
    "start_time": "2022-08-25T12:44:55.423Z"
   },
   {
    "duration": 112,
    "start_time": "2022-08-25T12:44:55.486Z"
   },
   {
    "duration": 18,
    "start_time": "2022-08-25T12:44:55.600Z"
   },
   {
    "duration": 34,
    "start_time": "2022-08-25T12:44:55.619Z"
   },
   {
    "duration": 34,
    "start_time": "2022-08-25T12:44:55.655Z"
   },
   {
    "duration": 2738,
    "start_time": "2022-08-25T12:44:55.691Z"
   },
   {
    "duration": 17,
    "start_time": "2022-08-25T12:44:58.432Z"
   },
   {
    "duration": 13,
    "start_time": "2022-08-25T12:44:58.450Z"
   },
   {
    "duration": 30,
    "start_time": "2022-08-25T12:44:58.465Z"
   },
   {
    "duration": 64,
    "start_time": "2022-08-25T12:44:58.497Z"
   },
   {
    "duration": 7,
    "start_time": "2022-08-25T12:44:58.564Z"
   },
   {
    "duration": 1412,
    "start_time": "2022-08-25T12:44:58.581Z"
   },
   {
    "duration": 5,
    "start_time": "2022-08-25T12:44:59.995Z"
   },
   {
    "duration": 12,
    "start_time": "2022-08-25T12:45:00.001Z"
   },
   {
    "duration": 2468,
    "start_time": "2022-08-25T12:45:00.015Z"
   },
   {
    "duration": 31,
    "start_time": "2022-08-25T12:45:02.485Z"
   },
   {
    "duration": 85,
    "start_time": "2022-08-25T12:45:02.518Z"
   },
   {
    "duration": 219,
    "start_time": "2022-08-25T12:45:02.605Z"
   },
   {
    "duration": 13,
    "start_time": "2022-08-25T12:45:02.826Z"
   },
   {
    "duration": 142,
    "start_time": "2022-08-25T12:45:02.841Z"
   },
   {
    "duration": 4,
    "start_time": "2022-08-25T12:45:02.985Z"
   },
   {
    "duration": 14,
    "start_time": "2022-08-25T12:45:02.990Z"
   },
   {
    "duration": 8,
    "start_time": "2022-08-25T12:45:03.006Z"
   },
   {
    "duration": 1416,
    "start_time": "2023-01-29T18:31:41.920Z"
   },
   {
    "duration": 775,
    "start_time": "2023-01-29T18:31:43.339Z"
   },
   {
    "duration": 38,
    "start_time": "2023-01-29T18:31:44.116Z"
   },
   {
    "duration": 37,
    "start_time": "2023-01-29T18:31:44.157Z"
   },
   {
    "duration": 98,
    "start_time": "2023-01-29T18:31:44.195Z"
   },
   {
    "duration": 17,
    "start_time": "2023-01-29T18:31:44.294Z"
   },
   {
    "duration": 44,
    "start_time": "2023-01-29T18:31:44.313Z"
   },
   {
    "duration": 2307,
    "start_time": "2023-01-29T18:31:44.359Z"
   },
   {
    "duration": 18,
    "start_time": "2023-01-29T18:31:46.668Z"
   },
   {
    "duration": 16,
    "start_time": "2023-01-29T18:31:46.688Z"
   },
   {
    "duration": 27,
    "start_time": "2023-01-29T18:31:46.706Z"
   },
   {
    "duration": 160,
    "start_time": "2023-01-29T18:31:46.735Z"
   },
   {
    "duration": 3,
    "start_time": "2023-01-29T18:31:46.897Z"
   },
   {
    "duration": 654,
    "start_time": "2023-01-29T18:31:46.902Z"
   },
   {
    "duration": 4,
    "start_time": "2023-01-29T18:31:47.558Z"
   },
   {
    "duration": 8,
    "start_time": "2023-01-29T18:31:47.564Z"
   },
   {
    "duration": 1878,
    "start_time": "2023-01-29T18:31:47.574Z"
   },
   {
    "duration": 29,
    "start_time": "2023-01-29T18:31:49.453Z"
   },
   {
    "duration": 85,
    "start_time": "2023-01-29T18:31:49.484Z"
   },
   {
    "duration": 194,
    "start_time": "2023-01-29T18:31:49.570Z"
   },
   {
    "duration": 14,
    "start_time": "2023-01-29T18:31:49.766Z"
   },
   {
    "duration": 114,
    "start_time": "2023-01-29T18:31:49.782Z"
   },
   {
    "duration": 3,
    "start_time": "2023-01-29T18:31:49.898Z"
   },
   {
    "duration": 16,
    "start_time": "2023-01-29T18:31:49.903Z"
   },
   {
    "duration": 19,
    "start_time": "2023-01-29T18:31:49.920Z"
   },
   {
    "duration": 2854,
    "start_time": "2023-01-29T18:31:49.941Z"
   },
   {
    "duration": 1389,
    "start_time": "2023-01-29T18:31:52.838Z"
   },
   {
    "duration": 2182,
    "start_time": "2023-01-29T18:31:54.237Z"
   },
   {
    "duration": 551,
    "start_time": "2023-01-29T18:31:56.420Z"
   },
   {
    "duration": 914,
    "start_time": "2023-01-29T18:31:56.972Z"
   },
   {
    "duration": 4,
    "start_time": "2023-01-29T18:31:57.888Z"
   },
   {
    "duration": 731,
    "start_time": "2023-01-29T18:31:57.894Z"
   },
   {
    "duration": 10,
    "start_time": "2023-01-29T18:31:58.627Z"
   },
   {
    "duration": 5,
    "start_time": "2023-01-29T18:31:58.638Z"
   },
   {
    "duration": 424,
    "start_time": "2023-01-29T18:31:58.645Z"
   }
  ],
  "kernelspec": {
   "display_name": "Python 3 (ipykernel)",
   "language": "python",
   "name": "python3"
  },
  "language_info": {
   "codemirror_mode": {
    "name": "ipython",
    "version": 3
   },
   "file_extension": ".py",
   "mimetype": "text/x-python",
   "name": "python",
   "nbconvert_exporter": "python",
   "pygments_lexer": "ipython3",
   "version": "3.10.2"
  },
  "toc": {
   "base_numbering": 1,
   "nav_menu": {},
   "number_sections": true,
   "sideBar": true,
   "skip_h1_title": true,
   "title_cell": "Table of Contents",
   "title_sidebar": "Contents",
   "toc_cell": false,
   "toc_position": {
    "height": "596.25px",
    "left": "351px",
    "top": "149.855px",
    "width": "250.292px"
   },
   "toc_section_display": true,
   "toc_window_display": true
  }
 },
 "nbformat": 4,
 "nbformat_minor": 2
}
