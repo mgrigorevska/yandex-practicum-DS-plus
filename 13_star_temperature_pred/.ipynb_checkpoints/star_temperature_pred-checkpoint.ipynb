{
 "cells": [
  {
   "cell_type": "markdown",
   "id": "189f4d77",
   "metadata": {},
   "source": [
    "# Прогнозирование температуры звезды"
   ]
  },
  {
   "cell_type": "markdown",
   "id": "8c48c138",
   "metadata": {},
   "source": [
    "Цель проекта - с помощью предоставленных данных обучить нейросеть и предсказать температуру на поверхности обнаруженных звёзд. "
   ]
  },
  {
   "cell_type": "markdown",
   "id": "corresponding-armstrong",
   "metadata": {
    "ExecuteTime": {
     "end_time": "2022-05-05T04:58:05.692448Z",
     "start_time": "2022-05-05T04:58:05.688565Z"
    }
   },
   "source": [
    "## Загрузка данных"
   ]
  },
  {
   "cell_type": "code",
   "execution_count": 1,
   "id": "spectacular-folder",
   "metadata": {},
   "outputs": [],
   "source": [
    "import pandas as pd\n",
    "import numpy as np\n",
    "import random\n",
    "import seaborn as sns\n",
    "import matplotlib.pyplot as plt\n",
    "import torch\n",
    "import torch.nn as nn\n",
    "from torch.utils.data import Dataset, DataLoader\n",
    "\n",
    "from math import ceil\n",
    "from sklearn.metrics import mean_squared_error\n",
    "from sklearn.model_selection import train_test_split\n",
    "from sklearn.preprocessing import StandardScaler, OneHotEncoder\n",
    "from sklearn.compose import ColumnTransformer\n",
    "\n",
    "np.random.seed(0)"
   ]
  },
  {
   "cell_type": "code",
   "execution_count": 2,
   "id": "a5b68e87",
   "metadata": {},
   "outputs": [
    {
     "data": {
      "text/html": [
       "<div>\n",
       "<style scoped>\n",
       "    .dataframe tbody tr th:only-of-type {\n",
       "        vertical-align: middle;\n",
       "    }\n",
       "\n",
       "    .dataframe tbody tr th {\n",
       "        vertical-align: top;\n",
       "    }\n",
       "\n",
       "    .dataframe thead th {\n",
       "        text-align: right;\n",
       "    }\n",
       "</style>\n",
       "<table border=\"1\" class=\"dataframe\">\n",
       "  <thead>\n",
       "    <tr style=\"text-align: right;\">\n",
       "      <th></th>\n",
       "      <th>Temperature (K)</th>\n",
       "      <th>Luminosity(L/Lo)</th>\n",
       "      <th>Radius(R/Ro)</th>\n",
       "      <th>Absolute magnitude(Mv)</th>\n",
       "      <th>Star type</th>\n",
       "      <th>Star color</th>\n",
       "    </tr>\n",
       "  </thead>\n",
       "  <tbody>\n",
       "    <tr>\n",
       "      <th>0</th>\n",
       "      <td>3068</td>\n",
       "      <td>0.002400</td>\n",
       "      <td>0.1700</td>\n",
       "      <td>16.12</td>\n",
       "      <td>0</td>\n",
       "      <td>Red</td>\n",
       "    </tr>\n",
       "    <tr>\n",
       "      <th>1</th>\n",
       "      <td>3042</td>\n",
       "      <td>0.000500</td>\n",
       "      <td>0.1542</td>\n",
       "      <td>16.60</td>\n",
       "      <td>0</td>\n",
       "      <td>Red</td>\n",
       "    </tr>\n",
       "    <tr>\n",
       "      <th>2</th>\n",
       "      <td>2600</td>\n",
       "      <td>0.000300</td>\n",
       "      <td>0.1020</td>\n",
       "      <td>18.70</td>\n",
       "      <td>0</td>\n",
       "      <td>Red</td>\n",
       "    </tr>\n",
       "    <tr>\n",
       "      <th>3</th>\n",
       "      <td>2800</td>\n",
       "      <td>0.000200</td>\n",
       "      <td>0.1600</td>\n",
       "      <td>16.65</td>\n",
       "      <td>0</td>\n",
       "      <td>Red</td>\n",
       "    </tr>\n",
       "    <tr>\n",
       "      <th>4</th>\n",
       "      <td>1939</td>\n",
       "      <td>0.000138</td>\n",
       "      <td>0.1030</td>\n",
       "      <td>20.06</td>\n",
       "      <td>0</td>\n",
       "      <td>Red</td>\n",
       "    </tr>\n",
       "  </tbody>\n",
       "</table>\n",
       "</div>"
      ],
      "text/plain": [
       "   Temperature (K)  Luminosity(L/Lo)  Radius(R/Ro)  Absolute magnitude(Mv)  \\\n",
       "0             3068          0.002400        0.1700                   16.12   \n",
       "1             3042          0.000500        0.1542                   16.60   \n",
       "2             2600          0.000300        0.1020                   18.70   \n",
       "3             2800          0.000200        0.1600                   16.65   \n",
       "4             1939          0.000138        0.1030                   20.06   \n",
       "\n",
       "   Star type Star color  \n",
       "0          0        Red  \n",
       "1          0        Red  \n",
       "2          0        Red  \n",
       "3          0        Red  \n",
       "4          0        Red  "
      ]
     },
     "execution_count": 2,
     "metadata": {},
     "output_type": "execute_result"
    }
   ],
   "source": [
    "df = pd.read_csv('/datasets/6_class.csv', index_col=0)\n",
    "df.head()"
   ]
  },
  {
   "cell_type": "markdown",
   "id": "ef07d488",
   "metadata": {},
   "source": [
    "Согласно документации к данным:\n",
    "* `Temperature (K)` — температура звезды, целевой признак;\n",
    "* `Luminosity(L/Lo)` — светимость звезды относительно Солнца.;  \n",
    "* `Radius(R/Ro)` — радиус звезды относительно радиуса Солнца.;\n",
    "* `Absolute magnitude(Mv)` — физическая величина, характеризующая блеск звезды;\n",
    "* `Star type` — тип звезды;\n",
    "* `Star color` — цвет звезды, который определяют на основе спектрального анализа.\n",
    "\n"
   ]
  },
  {
   "cell_type": "markdown",
   "id": "ca3498e7",
   "metadata": {},
   "source": [
    "| Тип звезды  | Номер |\n",
    "| ------------- | ------------- |\n",
    "| Коричневый карлик  | 0  |\n",
    "| Красный карлик | 1  |\n",
    "| Белый карлик  | 2  |\n",
    "| Звёзды главной последовательности  | 3  |\n",
    "| Сверхгигант | 4  |\n",
    "| Гипергигант | 5  |"
   ]
  },
  {
   "cell_type": "code",
   "execution_count": 3,
   "id": "4cab2199",
   "metadata": {},
   "outputs": [
    {
     "data": {
      "text/html": [
       "<div>\n",
       "<style scoped>\n",
       "    .dataframe tbody tr th:only-of-type {\n",
       "        vertical-align: middle;\n",
       "    }\n",
       "\n",
       "    .dataframe tbody tr th {\n",
       "        vertical-align: top;\n",
       "    }\n",
       "\n",
       "    .dataframe thead th {\n",
       "        text-align: right;\n",
       "    }\n",
       "</style>\n",
       "<table border=\"1\" class=\"dataframe\">\n",
       "  <thead>\n",
       "    <tr style=\"text-align: right;\">\n",
       "      <th></th>\n",
       "      <th>Temperature (K)</th>\n",
       "      <th>Luminosity(L/Lo)</th>\n",
       "      <th>Radius(R/Ro)</th>\n",
       "      <th>Absolute magnitude(Mv)</th>\n",
       "      <th>Star type</th>\n",
       "    </tr>\n",
       "  </thead>\n",
       "  <tbody>\n",
       "    <tr>\n",
       "      <th>count</th>\n",
       "      <td>240.000000</td>\n",
       "      <td>240.000000</td>\n",
       "      <td>240.000000</td>\n",
       "      <td>240.000000</td>\n",
       "      <td>240.000000</td>\n",
       "    </tr>\n",
       "    <tr>\n",
       "      <th>mean</th>\n",
       "      <td>10497.462500</td>\n",
       "      <td>107188.361635</td>\n",
       "      <td>237.157781</td>\n",
       "      <td>4.382396</td>\n",
       "      <td>2.500000</td>\n",
       "    </tr>\n",
       "    <tr>\n",
       "      <th>std</th>\n",
       "      <td>9552.425037</td>\n",
       "      <td>179432.244940</td>\n",
       "      <td>517.155763</td>\n",
       "      <td>10.532512</td>\n",
       "      <td>1.711394</td>\n",
       "    </tr>\n",
       "    <tr>\n",
       "      <th>min</th>\n",
       "      <td>1939.000000</td>\n",
       "      <td>0.000080</td>\n",
       "      <td>0.008400</td>\n",
       "      <td>-11.920000</td>\n",
       "      <td>0.000000</td>\n",
       "    </tr>\n",
       "    <tr>\n",
       "      <th>25%</th>\n",
       "      <td>3344.250000</td>\n",
       "      <td>0.000865</td>\n",
       "      <td>0.102750</td>\n",
       "      <td>-6.232500</td>\n",
       "      <td>1.000000</td>\n",
       "    </tr>\n",
       "    <tr>\n",
       "      <th>50%</th>\n",
       "      <td>5776.000000</td>\n",
       "      <td>0.070500</td>\n",
       "      <td>0.762500</td>\n",
       "      <td>8.313000</td>\n",
       "      <td>2.500000</td>\n",
       "    </tr>\n",
       "    <tr>\n",
       "      <th>75%</th>\n",
       "      <td>15055.500000</td>\n",
       "      <td>198050.000000</td>\n",
       "      <td>42.750000</td>\n",
       "      <td>13.697500</td>\n",
       "      <td>4.000000</td>\n",
       "    </tr>\n",
       "    <tr>\n",
       "      <th>max</th>\n",
       "      <td>40000.000000</td>\n",
       "      <td>849420.000000</td>\n",
       "      <td>1948.500000</td>\n",
       "      <td>20.060000</td>\n",
       "      <td>5.000000</td>\n",
       "    </tr>\n",
       "  </tbody>\n",
       "</table>\n",
       "</div>"
      ],
      "text/plain": [
       "       Temperature (K)  Luminosity(L/Lo)  Radius(R/Ro)  \\\n",
       "count       240.000000        240.000000    240.000000   \n",
       "mean      10497.462500     107188.361635    237.157781   \n",
       "std        9552.425037     179432.244940    517.155763   \n",
       "min        1939.000000          0.000080      0.008400   \n",
       "25%        3344.250000          0.000865      0.102750   \n",
       "50%        5776.000000          0.070500      0.762500   \n",
       "75%       15055.500000     198050.000000     42.750000   \n",
       "max       40000.000000     849420.000000   1948.500000   \n",
       "\n",
       "       Absolute magnitude(Mv)   Star type  \n",
       "count              240.000000  240.000000  \n",
       "mean                 4.382396    2.500000  \n",
       "std                 10.532512    1.711394  \n",
       "min                -11.920000    0.000000  \n",
       "25%                 -6.232500    1.000000  \n",
       "50%                  8.313000    2.500000  \n",
       "75%                 13.697500    4.000000  \n",
       "max                 20.060000    5.000000  "
      ]
     },
     "execution_count": 3,
     "metadata": {},
     "output_type": "execute_result"
    }
   ],
   "source": [
    "df.describe()"
   ]
  },
  {
   "cell_type": "markdown",
   "id": "simple-subdivision",
   "metadata": {},
   "source": [
    "## Предобработка и анализ данных"
   ]
  },
  {
   "cell_type": "markdown",
   "id": "0782aa55",
   "metadata": {},
   "source": [
    "Приведем названия столбцов к единому стилю:"
   ]
  },
  {
   "cell_type": "code",
   "execution_count": 4,
   "id": "6b89a329",
   "metadata": {},
   "outputs": [],
   "source": [
    "df.columns = ['temperature', 'luminosity', 'radius', 'abs_magnitude', 'star_type', 'star_color']"
   ]
  },
  {
   "cell_type": "markdown",
   "id": "3fb87d01",
   "metadata": {},
   "source": [
    "Проверим на наличие пропусков и дубликатов:"
   ]
  },
  {
   "cell_type": "code",
   "execution_count": 5,
   "id": "eddc45ce",
   "metadata": {},
   "outputs": [
    {
     "data": {
      "text/plain": [
       "temperature      0\n",
       "luminosity       0\n",
       "radius           0\n",
       "abs_magnitude    0\n",
       "star_type        0\n",
       "star_color       0\n",
       "dtype: int64"
      ]
     },
     "execution_count": 5,
     "metadata": {},
     "output_type": "execute_result"
    }
   ],
   "source": [
    "df.isna().sum()"
   ]
  },
  {
   "cell_type": "code",
   "execution_count": 6,
   "id": "c930964d",
   "metadata": {},
   "outputs": [
    {
     "data": {
      "text/plain": [
       "0"
      ]
     },
     "execution_count": 6,
     "metadata": {},
     "output_type": "execute_result"
    }
   ],
   "source": [
    "df.duplicated().sum()"
   ]
  },
  {
   "cell_type": "markdown",
   "id": "511efec4",
   "metadata": {},
   "source": [
    "В столбцах со значениями со светимостью и радиусом нам даны относительные значения, для начала преодбразуем значения в абсолютные:"
   ]
  },
  {
   "cell_type": "code",
   "execution_count": 7,
   "id": "076c97ad",
   "metadata": {},
   "outputs": [],
   "source": [
    "L0 = 3.828e26\n",
    "R0 = 6.9551e8"
   ]
  },
  {
   "cell_type": "code",
   "execution_count": 8,
   "id": "5951b351",
   "metadata": {},
   "outputs": [],
   "source": [
    "df['luminosity'] = df['luminosity']*L0\n",
    "df['radius'] = df['radius']*R0"
   ]
  },
  {
   "cell_type": "markdown",
   "id": "643666c2",
   "metadata": {},
   "source": [
    "Посмотрим на количественные переменные, но сначала определим функцию для построения графиков распределения:"
   ]
  },
  {
   "cell_type": "code",
   "execution_count": 9,
   "id": "b752f180",
   "metadata": {},
   "outputs": [],
   "source": [
    "def distr(data, title, x, y):\n",
    "    plt.figure(figsize=(5, 4))\n",
    "    sns.histplot(data=data, kde=True, bins=50)\n",
    "    plt.title(title)\n",
    "    plt.xlabel(x)\n",
    "    plt.ylabel(y)\n",
    "    plt.show()\n",
    "\n",
    "\n",
    "    plt.figure(figsize=(8, 1))\n",
    "    sns.boxplot(x=data)\n",
    "    plt.xlabel(x)\n",
    "    plt.show()"
   ]
  },
  {
   "cell_type": "markdown",
   "id": "84c8bb35",
   "metadata": {},
   "source": [
    "Построим графики для всех значений:"
   ]
  },
  {
   "cell_type": "code",
   "execution_count": 10,
   "id": "4561b5bd",
   "metadata": {},
   "outputs": [
    {
     "data": {
      "image/png": "[encoded data removed]",
      "text/plain": [
       "<Figure size 360x288 with 1 Axes>"
      ]
     },
     "metadata": {
      "needs_background": "light"
     },
     "output_type": "display_data"
    },
    {
     "data": {
      "image/png": "[encoded data removed]",
      "text/plain": [
       "<Figure size 576x72 with 1 Axes>"
      ]
     },
     "metadata": {
      "needs_background": "light"
     },
     "output_type": "display_data"
    }
   ],
   "source": [
    "distr(df['temperature'], 'Распределение температур', 'Температура, К', 'Количество')"
   ]
  },
  {
   "cell_type": "code",
   "execution_count": 11,
   "id": "00f3b222",
   "metadata": {},
   "outputs": [
    {
     "data": {
      "image/png": "[encoded data removed]",
      "text/plain": [
       "<Figure size 360x288 with 1 Axes>"
      ]
     },
     "metadata": {
      "needs_background": "light"
     },
     "output_type": "display_data"
    },
    {
     "data": {
      "image/png": "[encoded data removed]",
      "text/plain": [
       "<Figure size 576x72 with 1 Axes>"
      ]
     },
     "metadata": {
      "needs_background": "light"
     },
     "output_type": "display_data"
    }
   ],
   "source": [
    "distr(df['luminosity'], 'Распределение светимостей', 'Светимость', 'Количество')"
   ]
  },
  {
   "cell_type": "markdown",
   "id": "f4007dad",
   "metadata": {},
   "source": [
    "Видим пик около нуля, что указывает на большое кол-во звезд с малой светимостью."
   ]
  },
  {
   "cell_type": "code",
   "execution_count": 12,
   "id": "9f86cd71",
   "metadata": {
    "scrolled": true
   },
   "outputs": [
    {
     "data": {
      "image/png": "[encoded data removed]",
      "text/plain": [
       "<Figure size 360x288 with 1 Axes>"
      ]
     },
     "metadata": {
      "needs_background": "light"
     },
     "output_type": "display_data"
    },
    {
     "data": {
      "image/png": "[encoded data removed]",
      "text/plain": [
       "<Figure size 576x72 with 1 Axes>"
      ]
     },
     "metadata": {
      "needs_background": "light"
     },
     "output_type": "display_data"
    }
   ],
   "source": [
    "distr(df['radius'], 'Распеределение радиусов', 'Радиус', 'Количество')"
   ]
  },
  {
   "cell_type": "markdown",
   "id": "b4c95ecf",
   "metadata": {},
   "source": [
    "В поле с радиусами можем наблюдать большое кол-во выбросов, но удалить их мы не можем, тк это приведет к искажению данных."
   ]
  },
  {
   "cell_type": "code",
   "execution_count": 13,
   "id": "fc13f656",
   "metadata": {},
   "outputs": [
    {
     "data": {
      "image/png": "[encoded data removed]",
      "text/plain": [
       "<Figure size 360x288 with 1 Axes>"
      ]
     },
     "metadata": {
      "needs_background": "light"
     },
     "output_type": "display_data"
    },
    {
     "data": {
      "image/png": "[encoded data removed]",
      "text/plain": [
       "<Figure size 576x72 with 1 Axes>"
      ]
     },
     "metadata": {
      "needs_background": "light"
     },
     "output_type": "display_data"
    }
   ],
   "source": [
    "distr(df['abs_magnitude'], 'Распределение значений зведной величины', 'Абсолютная звездная величина', 'Количество')"
   ]
  },
  {
   "cell_type": "markdown",
   "id": "7da657db",
   "metadata": {},
   "source": [
    "Здесь видим 2 пика. Так как в данных преобладают звезды с малой светимостью и температурой, то есть тусклые звёзды, предположим, что у них не может быть слишком большого отрицательного значения звездной величины, поэтому все, что меньше -5, примем за неверную запись данных и поменяем знак. Также уберем значения больше 10."
   ]
  },
  {
   "cell_type": "code",
   "execution_count": 14,
   "id": "cb2263a1",
   "metadata": {},
   "outputs": [
    {
     "data": {
      "image/png": "[encoded data removed]",
      "text/plain": [
       "<Figure size 360x288 with 1 Axes>"
      ]
     },
     "metadata": {
      "needs_background": "light"
     },
     "output_type": "display_data"
    },
    {
     "data": {
      "image/png": "[encoded data removed]",
      "text/plain": [
       "<Figure size 576x72 with 1 Axes>"
      ]
     },
     "metadata": {
      "needs_background": "light"
     },
     "output_type": "display_data"
    }
   ],
   "source": [
    "distr(df['abs_magnitude'], 'Распределение значений зведной величины', 'Абсолютная звездная величина', 'Количество')"
   ]
  },
  {
   "cell_type": "markdown",
   "id": "367fdbc1",
   "metadata": {},
   "source": [
    "Далее рассмотрим категориальные переменные - тип и цвет звезды:"
   ]
  },
  {
   "cell_type": "code",
   "execution_count": 15,
   "id": "429dba9a",
   "metadata": {},
   "outputs": [
    {
     "data": {
      "text/plain": [
       "array(['Red', 'Blue White', 'White', 'Yellowish White', 'Blue white',\n",
       "       'Pale yellow orange', 'Blue', 'Blue-white', 'Whitish',\n",
       "       'yellow-white', 'Orange', 'White-Yellow', 'white', 'Blue ',\n",
       "       'yellowish', 'Yellowish', 'Orange-Red', 'Blue white ',\n",
       "       'Blue-White'], dtype=object)"
      ]
     },
     "execution_count": 15,
     "metadata": {},
     "output_type": "execute_result"
    }
   ],
   "source": [
    "df['star_color'].unique()"
   ]
  },
  {
   "cell_type": "markdown",
   "id": "470accd9",
   "metadata": {},
   "source": [
    "Присутствуют одинаковые значения, записаные в разном регистре и с разными разделителями, поправим это:"
   ]
  },
  {
   "cell_type": "code",
   "execution_count": 16,
   "id": "e0d213d5",
   "metadata": {},
   "outputs": [],
   "source": [
    "df['star_color']= df['star_color'].str.strip() # убираем пробел в конце\n",
    "df['star_color']= df['star_color'].str.lower() # приводим к нижнему регистру"
   ]
  },
  {
   "cell_type": "code",
   "execution_count": 17,
   "id": "97c0f58b",
   "metadata": {
    "scrolled": true
   },
   "outputs": [],
   "source": [
    "def fix_value(cell):\n",
    "     cell = cell.replace(' ', '-')  # функция, заменяющая все пробелы на дефисы\n",
    "     return cell \n",
    "\n",
    "df['star_color'] = df['star_color'].apply(fix_value)"
   ]
  },
  {
   "cell_type": "code",
   "execution_count": 18,
   "id": "801e34c3",
   "metadata": {},
   "outputs": [
    {
     "data": {
      "image/png": "[encoded data removed]",
      "text/plain": [
       "<Figure size 576x432 with 1 Axes>"
      ]
     },
     "metadata": {
      "needs_background": "light"
     },
     "output_type": "display_data"
    }
   ],
   "source": [
    "df['star_color'].value_counts().plot(kind='bar', \n",
    "                                     title='Распределение по цветам', \n",
    "                                     xlabel='Цвет звезды', \n",
    "                                     ylabel='Количество', \n",
    "                                     figsize=(8,6));"
   ]
  },
  {
   "cell_type": "code",
   "execution_count": 19,
   "id": "f102b20a",
   "metadata": {},
   "outputs": [
    {
     "data": {
      "image/png": "[encoded data removed]",
      "text/plain": [
       "<Figure size 576x432 with 1 Axes>"
      ]
     },
     "metadata": {
      "needs_background": "light"
     },
     "output_type": "display_data"
    }
   ],
   "source": [
    "df['star_color'].value_counts().plot(kind='bar', \n",
    "                                     title='Распределение по цветам', \n",
    "                                     xlabel='Цвет звезды', \n",
    "                                     ylabel='Количество', \n",
    "                                     figsize=(8,6));"
   ]
  },
  {
   "cell_type": "markdown",
   "id": "fef80571",
   "metadata": {},
   "source": [
    "Больше всего в выборке представлено красных звезд, что соответсвует большому числу звезд с малой светимостью на графике выше."
   ]
  },
  {
   "cell_type": "markdown",
   "id": "f86923b2",
   "metadata": {},
   "source": [
    "Далее посмторим на распределение типов:"
   ]
  },
  {
   "cell_type": "code",
   "execution_count": 20,
   "id": "54a9aae5",
   "metadata": {},
   "outputs": [
    {
     "data": {
      "image/png": "[encoded data removed]",
      "text/plain": [
       "<Figure size 576x432 with 1 Axes>"
      ]
     },
     "metadata": {
      "needs_background": "light"
     },
     "output_type": "display_data"
    }
   ],
   "source": [
    "df['star_type'].value_counts().plot(kind='bar', \n",
    "                                     title='Распределение по типам', \n",
    "                                     xlabel='Тип звезды', \n",
    "                                     ylabel='Количество', \n",
    "                                     figsize=(8,6));"
   ]
  },
  {
   "cell_type": "markdown",
   "id": "baf3898c",
   "metadata": {},
   "source": [
    "Каждому типу соответсвует одинаковое количество звезд."
   ]
  },
  {
   "cell_type": "markdown",
   "id": "funded-electric",
   "metadata": {},
   "source": [
    "## Построение базовой нейронной сети"
   ]
  },
  {
   "cell_type": "markdown",
   "id": "b6b46460",
   "metadata": {},
   "source": [
    "Разделим исходные данные на обучающую и тестовую выборки - выделим под обучающую 85% и  15% на тестовую."
   ]
  },
  {
   "cell_type": "code",
   "execution_count": 21,
   "id": "0c8985f2",
   "metadata": {},
   "outputs": [],
   "source": [
    "x_train, x_test, y_train, y_test = train_test_split(df.drop('temperature', axis=1), \n",
    "                                                    df['temperature'], \n",
    "                                                    train_size=0.85, \n",
    "                                                    random_state=42, \n",
    "                                                    shuffle=True)"
   ]
  },
  {
   "cell_type": "markdown",
   "id": "26f517c3",
   "metadata": {},
   "source": [
    "Далее проведем масштабирование количественных данных:"
   ]
  },
  {
   "cell_type": "code",
   "execution_count": 22,
   "id": "a6bd863d",
   "metadata": {},
   "outputs": [],
   "source": [
    "numeric = ['luminosity', 'radius', 'abs_magnitude']\n",
    "\n",
    "scaler = StandardScaler()\n",
    "scaler.fit(x_train[numeric])\n",
    "x_train[numeric] = scaler.transform(x_train[numeric])\n",
    "x_test[numeric] = scaler.transform(x_test[numeric])\n"
   ]
  },
  {
   "cell_type": "markdown",
   "id": "66ba1e13",
   "metadata": {},
   "source": [
    "Закодируем категориальные данные с OneHotEncoder:"
   ]
  },
  {
   "cell_type": "code",
   "execution_count": 23,
   "id": "3d0bc0c9",
   "metadata": {},
   "outputs": [],
   "source": [
    "categorial = ['star_color', 'star_type']\n",
    "\n",
    "tmp_train = x_train[categorial]\n",
    "tmp_test= x_test[categorial]\n",
    "\n",
    "\n",
    "encoder_ohe = OneHotEncoder(handle_unknown='ignore')\n",
    "encoder_ohe.fit(x_train[categorial])\n",
    "\n",
    "tmp_train = pd.DataFrame(encoder_ohe.transform(x_train[categorial]).toarray(), \n",
    "                                   columns=encoder_ohe.get_feature_names(),\n",
    "                                   index=x_train.index)\n",
    "tmp_test = pd.DataFrame(encoder_ohe.transform(x_test[categorial]).toarray(), \n",
    "                                   columns=encoder_ohe.get_feature_names(),\n",
    "                                   index=x_test.index)\n",
    "\n",
    "x_train.drop(categorial, axis=1, inplace=True)\n",
    "x_train = x_train.join(tmp_train)\n",
    "\n",
    "x_test.drop(categorial, axis=1, inplace=True)\n",
    "x_test = x_test.join(tmp_test)"
   ]
  },
  {
   "cell_type": "markdown",
   "id": "c18e5737",
   "metadata": {},
   "source": [
    "Cоздаем тензоры признаков:"
   ]
  },
  {
   "cell_type": "code",
   "execution_count": 24,
   "id": "98204317",
   "metadata": {},
   "outputs": [],
   "source": [
    "x_train_torch = torch.FloatTensor(x_train.values)\n",
    "y_train_torch = torch.FloatTensor(y_train.values)\n",
    "x_test_torch = torch.FloatTensor(x_test.values)\n",
    "y_test_torch = torch.FloatTensor(y_test.values)"
   ]
  },
  {
   "cell_type": "markdown",
   "id": "33dd463f",
   "metadata": {},
   "source": [
    "Инициализируем нейронную сеть, состоящую из входных нейронов, двух скрытых слоев и выходного слоя:"
   ]
  },
  {
   "cell_type": "code",
   "execution_count": 25,
   "id": "d9c00693",
   "metadata": {},
   "outputs": [],
   "source": [
    "class Net(nn.Module):\n",
    "    def __init__(self, input_size, hidden_size1, hidden_size2, num_classes):\n",
    "        super(Net, self).__init__()\n",
    "        \n",
    "        self.fc1 = nn.Linear(input_size, hidden_size1)\n",
    "        self.act1 = nn.Tanh()\n",
    "        \n",
    "        self.fc2 = nn.Linear(hidden_size1, hidden_size2)\n",
    "        self.act2 = nn.ReLU()\n",
    "        \n",
    "        self.fc3 = nn.Linear(hidden_size2, num_classes)\n",
    "        \n",
    "        \n",
    "        \n",
    "    def forward(self, x):\n",
    "        out = self.fc1(x)\n",
    "        out = self.act1(out)\n",
    "        \n",
    "        out = self.fc2(out)\n",
    "        out = self.act2(out)\n",
    "        \n",
    "        out = self.fc3(out)\n",
    "        \n",
    "        return out"
   ]
  },
  {
   "cell_type": "markdown",
   "id": "f85bc236",
   "metadata": {},
   "source": [
    "Создадим функцию для обучения нейронной сети и вывода RMSE:"
   ]
  },
  {
   "cell_type": "code",
   "execution_count": 26,
   "id": "582bea80",
   "metadata": {},
   "outputs": [],
   "source": [
    "def net_learn(num_epochs, net):\n",
    "    rmse_best = 50000\n",
    "    rmse_list = []\n",
    "    for epoch in range(num_epochs):\n",
    "        optimizer.zero_grad()\n",
    " \n",
    "        preds = net.forward(x_train_torch).flatten()\n",
    "            \n",
    "        loss_value = loss(preds, y_train_torch)\n",
    "\n",
    "        loss_value.backward()\n",
    "            \n",
    "        optimizer.step()\n",
    "    \n",
    "      #  if epoch % 150 ==0 or epoch == num_epochs - 1:\n",
    "        net.eval()\n",
    "        test_preds = net.forward(x_test_torch)\n",
    "        rmse = mean_squared_error(y_test_torch.detach().numpy(), test_preds.detach().numpy(), squared=False)\n",
    "        rmse_list.append(rmse)\n",
    "        if rmse < rmse_best:\n",
    "            rmse_best = rmse\n",
    "            test_preds_best = test_preds \n",
    "            best_epoch = epoch \n",
    "    print('RMSE:', round(rmse_best, 3), '| ep', epoch, 'from', num_epochs, '| best_epoch:', best_epoch)\n",
    "    return test_preds_best, rmse_list"
   ]
  },
  {
   "cell_type": "markdown",
   "id": "bdb0f2a4",
   "metadata": {},
   "source": [
    "Зададим количество нейронов на каждом слое сети:"
   ]
  },
  {
   "cell_type": "code",
   "execution_count": 27,
   "id": "c4864a57",
   "metadata": {},
   "outputs": [],
   "source": [
    "n_in_neurons = x_train.shape[1]\n",
    "n_hidden_neurons = list(range(300, 1050, 50))      # оптимальное кол-во нейронов для \n",
    "n_out_neurons = 1                                  # скрытых слоев будем находить перебором от 300 до 1000\n",
    "\n",
    "loss = nn.MSELoss()                                # задаем функцию потерь\n",
    "\n",
    "num_epochs = 1500\n",
    "comb = 10                                        # число комбинаций для перебора"
   ]
  },
  {
   "cell_type": "markdown",
   "id": "a2ff7a24",
   "metadata": {},
   "source": [
    "Далее перебираем случайные комбинации и находим оптимальную:"
   ]
  },
  {
   "cell_type": "code",
   "execution_count": 28,
   "id": "f9969aba",
   "metadata": {},
   "outputs": [
    {
     "name": "stdout",
     "output_type": "stream",
     "text": [
      "hidden 1 = 450 hidden 2 = 950\n",
      "RMSE: 4241.354 | ep 1499 from 1500 | best_epoch: 1214\n",
      "---------------------------\n",
      "hidden 1 = 800 hidden 2 = 300\n",
      "RMSE: 4242.716 | ep 1499 from 1500 | best_epoch: 1326\n",
      "---------------------------\n",
      "hidden 1 = 850 hidden 2 = 950\n",
      "RMSE: 4219.016 | ep 1499 from 1500 | best_epoch: 1076\n",
      "---------------------------\n",
      "hidden 1 = 550 hidden 2 = 550\n",
      "RMSE: 4253.008 | ep 1499 from 1500 | best_epoch: 1225\n",
      "---------------------------\n",
      "hidden 1 = 450 hidden 2 = 300\n",
      "RMSE: 4244.402 | ep 1499 from 1500 | best_epoch: 1423\n",
      "---------------------------\n",
      "hidden 1 = 600 hidden 2 = 1000\n",
      "RMSE: 4244.128 | ep 1499 from 1500 | best_epoch: 1158\n",
      "---------------------------\n",
      "hidden 1 = 850 hidden 2 = 600\n",
      "RMSE: 4210.365 | ep 1499 from 1500 | best_epoch: 1296\n",
      "---------------------------\n",
      "hidden 1 = 400 hidden 2 = 400\n",
      "RMSE: 4262.691 | ep 1499 from 1500 | best_epoch: 1330\n",
      "---------------------------\n",
      "hidden 1 = 950 hidden 2 = 850\n",
      "RMSE: 4240.324 | ep 1499 from 1500 | best_epoch: 1097\n",
      "---------------------------\n",
      "hidden 1 = 550 hidden 2 = 600\n",
      "RMSE: 4243.066 | ep 1499 from 1500 | best_epoch: 1183\n",
      "---------------------------\n"
     ]
    }
   ],
   "source": [
    "for c in range(comb):\n",
    "    hidden_size_1 = random.choice(n_hidden_neurons)    \n",
    "    hidden_size_2 = random.choice(n_hidden_neurons)\n",
    "    print('hidden 1 =',hidden_size_1, 'hidden 2 =',hidden_size_2)\n",
    "    net = Net(n_in_neurons, hidden_size_1, hidden_size_2, n_out_neurons)\n",
    "    optimizer = torch.optim.Adam(net.parameters(), lr=1e-3)\n",
    "    test_preds, rmse_list = net_learn(num_epochs, net)\n",
    "    print('---------------------------')    "
   ]
  },
  {
   "cell_type": "markdown",
   "id": "d08c049e",
   "metadata": {},
   "source": [
    "Оптимальной яляется комбинация 850 нейронов на первом слое и 600 на втором, дающая значение RMSE 4210.365, что укладывается в заданную границу в 4500.\n",
    "\n",
    "Теперь построим график \"Факт — Прогноз\", где по горизонтальной оси будут отложены условные номера звёзд, а по вертикальной — температура в Кельвинах:"
   ]
  },
  {
   "cell_type": "code",
   "execution_count": 29,
   "id": "f3443f99",
   "metadata": {},
   "outputs": [
    {
     "name": "stdout",
     "output_type": "stream",
     "text": [
      "RMSE: 4232.83 | ep 1499 from 1500 | best_epoch: 1249\n"
     ]
    }
   ],
   "source": [
    "net = Net(n_in_neurons, 650, 600, n_out_neurons)\n",
    "optimizer = torch.optim.Adam(net.parameters(), lr=1e-3)\n",
    "test_preds, rmse_list = net_learn(num_epochs, net)"
   ]
  },
  {
   "cell_type": "code",
   "execution_count": 30,
   "id": "0e95811b",
   "metadata": {},
   "outputs": [
    {
     "data": {
      "image/png": "[encoded data removed]",
      "text/plain": [
       "<Figure size 720x432 with 1 Axes>"
      ]
     },
     "metadata": {
      "needs_background": "light"
     },
     "output_type": "display_data"
    }
   ],
   "source": [
    "epochs = np.arange(1, num_epochs+1)\n",
    "plt.figure(figsize=[10,6])\n",
    "sns.lineplot(x=epochs, y=rmse_list, label='RMSE', color='red')\n",
    "plt.legend()\n",
    "plt.title('Значение ошибки по эпохам')\n",
    "plt.xlabel('epochs')\n",
    "plt.ylabel('RMSE')\n",
    "plt.show()"
   ]
  },
  {
   "cell_type": "markdown",
   "id": "1cea3475",
   "metadata": {},
   "source": [
    "Из графика видим, что модель перестает обучаться примерно после 1050 эпохи."
   ]
  },
  {
   "cell_type": "code",
   "execution_count": 31,
   "id": "73cbca4f",
   "metadata": {},
   "outputs": [],
   "source": [
    "test_preds = pd.DataFrame(test_preds.detach().numpy(), columns=['temperature'])  # преобразуем данные\n",
    "y_test = pd.DataFrame((y_test), columns=['temperature']).reset_index().drop('index', axis=1)"
   ]
  },
  {
   "cell_type": "code",
   "execution_count": 32,
   "id": "bf17492a",
   "metadata": {},
   "outputs": [
    {
     "data": {
      "image/png": "[encoded data removed]",
      "text/plain": [
       "<Figure size 1080x720 with 1 Axes>"
      ]
     },
     "metadata": {
      "needs_background": "light"
     },
     "output_type": "display_data"
    }
   ],
   "source": [
    "fig, ax = plt.subplots(figsize=[15,10])\n",
    "plt.bar(x=test_preds.index, height=test_preds['temperature'], color='#fce80b' , label='Прогноз')\n",
    "plt.bar(x=y_test.index, height=y_test['temperature'], color='#4cc2f6', label='Факт', width= 0.4)\n",
    "plt.title('график \"Факт — Прогноз\"')\n",
    "plt.xlabel('Номер звезды в таблице данных')\n",
    "plt.ylabel('Температура звезды')\n",
    "ax.legend()\n",
    "plt.show()"
   ]
  },
  {
   "cell_type": "markdown",
   "id": "growing-supply",
   "metadata": {},
   "source": [
    "## Улучшение нейронной сети"
   ]
  },
  {
   "cell_type": "markdown",
   "id": "787cf7ac",
   "metadata": {},
   "source": [
    "Посмотрим, как будет работать сеть при обучении батчами, для этого дополним функцию net_learn так, чтобы использовать батчи.\n",
    "Оьбъявим класс EarlyStopping, который будет предоствращать переобучение и останавливать цикл обучения по достижению оптимального значения:"
   ]
  },
  {
   "cell_type": "code",
   "execution_count": 33,
   "id": "b5442d8a",
   "metadata": {},
   "outputs": [],
   "source": [
    "class EarlyStopping():\n",
    "    def __init__(self, patience=7, min_delta=0):\n",
    "\n",
    "        self.patience = patience\n",
    "        self.min_delta = min_delta\n",
    "        self.counter = 0\n",
    "        self.best_loss = None\n",
    "        self.early_stop = False\n",
    "        \n",
    "    def __call__(self, val_loss):\n",
    "        if self.best_loss == None:\n",
    "            self.best_loss = val_loss\n",
    "        elif self.best_loss - val_loss > self.min_delta:\n",
    "            self.best_loss = val_loss\n",
    "\n",
    "            self.counter = 0\n",
    "        elif self.best_loss - val_loss < self.min_delta:\n",
    "             self.counter += 1\n",
    "                \n",
    "             if self.counter >= self.patience:\n",
    "                print('Early stopping')\n",
    "                self.early_stop = True"
   ]
  },
  {
   "cell_type": "markdown",
   "id": "55cd31c1",
   "metadata": {},
   "source": [
    "Дополним функцию net_learn разбиением на батчи и спользуем early stopping:"
   ]
  },
  {
   "cell_type": "code",
   "execution_count": 34,
   "id": "e938eb8e",
   "metadata": {},
   "outputs": [],
   "source": [
    "def net_learn_batches(num_epochs, net):\n",
    "    early_stopping = EarlyStopping() \n",
    "    rmse_best = 50000\n",
    "    for epoch in range(num_epochs):\n",
    "        net.train()\n",
    "        for batch in train_dataloader:\n",
    "            data_train, temperature_train = batch  \n",
    "            optimizer.zero_grad()\n",
    "\n",
    "            preds = net.forward(data_train).flatten()\n",
    "\n",
    "            loss_value = torch.sqrt(loss(preds, temperature_train))\n",
    "            loss_value.backward()\n",
    "            optimizer.step()\n",
    "\n",
    "        predicted_temp = [] \n",
    "        with torch.no_grad():\n",
    "            net.eval()\n",
    "            for batch in test_dataloader:\n",
    "                data_test, temperature_test = batch\n",
    "  \n",
    "                test_preds = net.forward(data_test).flatten()\n",
    "                predicted_temp.append(test_preds)\n",
    "                RMSE_loss = torch.sqrt(loss(test_preds, temperature_test))\n",
    "\n",
    "        predicted_temp = torch.cat(predicted_temp).detach().numpy()\n",
    "        rmse = mean_squared_error(y_test, predicted_temp, squared=False)\n",
    "        rmse_list.append(rmse)\n",
    "        if rmse < rmse_best:\n",
    "            rmse_best = rmse\n",
    "            best_epoch = epoch\n",
    "            test_preds_best = predicted_temp\n",
    "        early_stopping(rmse)\n",
    "\n",
    "        if early_stopping.early_stop:\n",
    "            break \n",
    "    print('RMSE:', round(rmse_best, 3), '| ep', epoch, 'from', num_epochs, '| best_epoch:', best_epoch)\n",
    "    return test_preds_best"
   ]
  },
  {
   "cell_type": "code",
   "execution_count": 35,
   "id": "3b059695",
   "metadata": {},
   "outputs": [],
   "source": [
    "class Net_Batch(nn.Module):\n",
    "    def __init__(self, input_size, hidden_size1, hidden_size2, num_classes):\n",
    "        super(Net_Batch, self).__init__()\n",
    "        \n",
    "        self.fc1 = nn.Linear(input_size, hidden_size1)\n",
    "\n",
    "        self.act1 = nn.Tanh()\n",
    "        self.bn1 = nn.BatchNorm1d(hidden_size1)\n",
    "        \n",
    "        self.fc2 = nn.Linear(hidden_size1, hidden_size2) \n",
    "        self.act2 = nn.ReLU()\n",
    "        \n",
    "        \n",
    "        self.fc3 = nn.Linear(hidden_size2, num_classes) \n",
    "                        \n",
    "    def forward(self, x):\n",
    "        out = self.fc1(x)\n",
    "        out = self.act1(out)\n",
    "        out = self.bn1(out)\n",
    "       \n",
    "        out = self.fc2(out)\n",
    "        out = self.act2(out)\n",
    "        \n",
    "        out = self.fc3(out)\n",
    "        \n",
    "        return out"
   ]
  },
  {
   "cell_type": "markdown",
   "id": "d43fe66d",
   "metadata": {},
   "source": [
    "Попробуем найти оптимальный размер батча с помощью перебора по списку:"
   ]
  },
  {
   "cell_type": "code",
   "execution_count": 36,
   "id": "9b3e51c2",
   "metadata": {},
   "outputs": [],
   "source": [
    "batch_size = list(range(15, len(x_train_torch), 25))\n",
    "\n",
    "dataset_train = torch.utils.data.TensorDataset(x_train_torch, y_train_torch)\n",
    "dataset_test = torch.utils.data.TensorDataset(x_test_torch, y_test_torch)"
   ]
  },
  {
   "cell_type": "code",
   "execution_count": 37,
   "id": "11811194",
   "metadata": {
    "scrolled": true
   },
   "outputs": [
    {
     "name": "stdout",
     "output_type": "stream",
     "text": [
      "batch_size: 15\n",
      "Early stopping\n",
      "RMSE: 4770.271 | ep 24 from 1500 | best_epoch: 17\n",
      "---------------------------\n",
      "batch_size: 40\n",
      "Early stopping\n",
      "RMSE: 4665.708 | ep 44 from 1500 | best_epoch: 37\n",
      "---------------------------\n",
      "batch_size: 65\n",
      "Early stopping\n",
      "RMSE: 4984.848 | ep 65 from 1500 | best_epoch: 58\n",
      "---------------------------\n",
      "batch_size: 90\n",
      "Early stopping\n",
      "RMSE: 5404.781 | ep 64 from 1500 | best_epoch: 57\n",
      "---------------------------\n",
      "batch_size: 115\n",
      "Early stopping\n",
      "RMSE: 5639.133 | ep 89 from 1500 | best_epoch: 82\n",
      "---------------------------\n",
      "batch_size: 140\n",
      "Early stopping\n",
      "RMSE: 5594.417 | ep 88 from 1500 | best_epoch: 81\n",
      "---------------------------\n",
      "batch_size: 165\n",
      "Early stopping\n",
      "RMSE: 5577.667 | ep 85 from 1500 | best_epoch: 78\n",
      "---------------------------\n",
      "batch_size: 190\n",
      "Early stopping\n",
      "RMSE: 5442.63 | ep 100 from 1500 | best_epoch: 93\n",
      "---------------------------\n"
     ]
    }
   ],
   "source": [
    "for b in batch_size:\n",
    "    train_dataloader = DataLoader(dataset_train, batch_size=b, shuffle=True, num_workers=0)\n",
    "    test_dataloader = DataLoader(dataset_test, batch_size=b, num_workers=0)  \n",
    "    print('batch_size:', b)    \n",
    "    net = Net_Batch(n_in_neurons, 650, 1000, n_out_neurons)\n",
    "    optimizer = torch.optim.Adam(net.parameters(), lr=1e-3)\n",
    "    batch_test_preds = net_learn_batches(num_epochs, net)\n",
    "    print('---------------------------')"
   ]
  },
  {
   "cell_type": "markdown",
   "id": "6fa3beef",
   "metadata": {},
   "source": [
    "Лучший размер батча 40, однако, обучение батчами не улучшает значение RMSE, и более того, показывает себя хуже и обучается дольше.\n",
    "\n",
    "Поэтому далее будем использовать исходную функцию net_learn.\n",
    "\n",
    "Далее попробуем инициализировать сеть с разными вариантами параметра в dropout, увеличив кол-во эпох: "
   ]
  },
  {
   "cell_type": "code",
   "execution_count": 38,
   "id": "e7919a01",
   "metadata": {},
   "outputs": [],
   "source": [
    "dropout = [0.5, 0.7, 0.8, 0.9] \n",
    "comb = 10\n",
    "num_epochs = 1200"
   ]
  },
  {
   "cell_type": "code",
   "execution_count": 39,
   "id": "e70d57ad",
   "metadata": {},
   "outputs": [
    {
     "name": "stdout",
     "output_type": "stream",
     "text": [
      "drop = 0.5 0.7\n",
      "RMSE: 4226.769 | ep 1199 from 1200 | best_epoch: 1153\n",
      "---------------------------\n",
      "drop = 0.5 0.7\n",
      "RMSE: 4225.612 | ep 1199 from 1200 | best_epoch: 1128\n",
      "---------------------------\n",
      "drop = 0.8 0.5\n",
      "RMSE: 4242.861 | ep 1199 from 1200 | best_epoch: 1139\n",
      "---------------------------\n",
      "drop = 0.7 0.8\n",
      "RMSE: 4246.327 | ep 1199 from 1200 | best_epoch: 1124\n",
      "---------------------------\n",
      "drop = 0.7 0.7\n",
      "RMSE: 4243.878 | ep 1199 from 1200 | best_epoch: 1110\n",
      "---------------------------\n",
      "drop = 0.5 0.7\n",
      "RMSE: 4239.404 | ep 1199 from 1200 | best_epoch: 1160\n",
      "---------------------------\n",
      "drop = 0.7 0.8\n",
      "RMSE: 4231.32 | ep 1199 from 1200 | best_epoch: 1097\n",
      "---------------------------\n",
      "drop = 0.9 0.5\n",
      "RMSE: 4206.863 | ep 1199 from 1200 | best_epoch: 1184\n",
      "---------------------------\n",
      "drop = 0.5 0.9\n",
      "RMSE: 4251.01 | ep 1199 from 1200 | best_epoch: 1109\n",
      "---------------------------\n",
      "drop = 0.5 0.7\n",
      "RMSE: 4212.136 | ep 1199 from 1200 | best_epoch: 1175\n",
      "---------------------------\n"
     ]
    }
   ],
   "source": [
    "for c in range(comb):\n",
    "    p1 = random.choice(dropout)\n",
    "    p2 = random.choice(dropout)\n",
    "    print('drop =', p1, p2)\n",
    "    class Net_Dropout(nn.Module):\n",
    "        def __init__(self, input_size, hidden_size1, hidden_size2, num_classes):\n",
    "            super(Net_Dropout, self).__init__()\n",
    "        \n",
    "            self.fc1 = nn.Linear(input_size, hidden_size1)\n",
    "            self.act1 = nn.Tanh()\n",
    "            self.dp1 = nn.Dropout(p=p1)\n",
    "        \n",
    "            self.fc2 = nn.Linear(hidden_size1, hidden_size2) \n",
    "            self.act2 = nn.ReLU()\n",
    "            self.dp2 = nn.Dropout(p=p2)\n",
    "        \n",
    "            self.fc3 = nn.Linear(hidden_size2, num_classes) \n",
    "        \n",
    "        \n",
    "        def forward(self, x):\n",
    "            \n",
    "            out = self.fc1(x)\n",
    "            out = self.act1(out)\n",
    "            out = self.dp1(out)\n",
    "        \n",
    "            out = self.fc2(out)\n",
    "            out = self.act2(out)\n",
    "            out = self.dp2(out)\n",
    "            \n",
    "            out = self.fc3(out)\n",
    "            return out\n",
    "           \n",
    "    net = Net_Dropout(n_in_neurons, 950, 750, n_out_neurons)\n",
    "    optimizer = torch.optim.Adam(net.parameters(), lr=1e-3)\n",
    "    \n",
    "    drop_test_preds = net_learn(num_epochs, net)\n",
    "    \n",
    "    print('---------------------------')    "
   ]
  },
  {
   "cell_type": "markdown",
   "id": "9306964c",
   "metadata": {},
   "source": [
    "Лучше всего показывают себя значения Dropout 0.8 и 0.5, однако результаты у базовой модели лучше. "
   ]
  },
  {
   "cell_type": "code",
   "execution_count": 40,
   "id": "f165955b",
   "metadata": {},
   "outputs": [],
   "source": [
    "drop_test_preds = pd.DataFrame(drop_test_preds[0].detach().numpy(), columns=['temperature'])"
   ]
  },
  {
   "cell_type": "code",
   "execution_count": 41,
   "id": "a8c4703c",
   "metadata": {},
   "outputs": [
    {
     "data": {
      "image/png": "[encoded data removed]",
      "text/plain": [
       "<Figure size 1224x720 with 1 Axes>"
      ]
     },
     "metadata": {
      "needs_background": "light"
     },
     "output_type": "display_data"
    }
   ],
   "source": [
    "fig, ax = plt.subplots(figsize=[17,10])\n",
    "plt.bar(x=test_preds.index, height=test_preds['temperature'], color='#fce80b' , label='Прогноз', width= 1.1)\n",
    "plt.bar(x=drop_test_preds.index, height=drop_test_preds['temperature'], color='#e09f1b' , label='Прогноз c dropout', width= 0.6)\n",
    "\n",
    "plt.bar(x=y_test.index, height=y_test['temperature'], color='#4cc2f6', label='Факт', width= 0.4)\n",
    "plt.title('график \"Факт — Прогноз\"')\n",
    "plt.xlabel('Номер звезды в таблице данных')\n",
    "plt.ylabel('Температура звезды')\n",
    "ax.legend()\n",
    "plt.show()"
   ]
  },
  {
   "cell_type": "markdown",
   "id": "609acf28",
   "metadata": {},
   "source": [
    "Обе модели показывают практически одинаковые результаты, причем прогнозы более точны на малых значениях температуры до 5000 К, что связано с пребладанием в исходных данных малых значений температуры, радиуса и светимостей."
   ]
  },
  {
   "cell_type": "markdown",
   "id": "accurate-infrastructure",
   "metadata": {},
   "source": [
    "## Выводы"
   ]
  },
  {
   "cell_type": "markdown",
   "id": "36451f12",
   "metadata": {},
   "source": [
    "На таком малом обьеме данных нецелесообразно использовать обучение сети с помощью батчей, а так же проводить регуляризацию - обе модели показывают примерно одинаковые значения RMSE ~ 4250, что укладывается в заданную границу 4500."
   ]
  }
 ],
 "metadata": {
  "ExecuteTimeLog": [
   {
    "duration": 1211,
    "start_time": "2023-01-23T13:08:01.543Z"
   },
   {
    "duration": 77,
    "start_time": "2023-01-23T13:09:14.383Z"
   },
   {
    "duration": 33,
    "start_time": "2023-01-23T13:10:09.709Z"
   },
   {
    "duration": 51,
    "start_time": "2023-01-24T09:24:05.948Z"
   },
   {
    "duration": 1271,
    "start_time": "2023-01-24T09:24:08.230Z"
   },
   {
    "duration": 97,
    "start_time": "2023-01-24T09:24:09.503Z"
   },
   {
    "duration": 70,
    "start_time": "2023-01-24T09:38:42.799Z"
   },
   {
    "duration": 22,
    "start_time": "2023-01-24T09:38:46.938Z"
   },
   {
    "duration": 4,
    "start_time": "2023-01-24T09:44:34.983Z"
   },
   {
    "duration": 7,
    "start_time": "2023-01-24T09:45:01.475Z"
   },
   {
    "duration": 6,
    "start_time": "2023-01-24T09:46:28.010Z"
   },
   {
    "duration": 53,
    "start_time": "2023-01-24T09:46:50.364Z"
   },
   {
    "duration": 7,
    "start_time": "2023-01-24T09:47:45.831Z"
   },
   {
    "duration": 47,
    "start_time": "2023-01-24T09:48:41.001Z"
   },
   {
    "duration": 332,
    "start_time": "2023-01-24T09:55:22.513Z"
   },
   {
    "duration": 4,
    "start_time": "2023-01-24T09:59:09.479Z"
   },
   {
    "duration": 324,
    "start_time": "2023-01-24T09:59:54.608Z"
   },
   {
    "duration": 4,
    "start_time": "2023-01-24T10:01:09.258Z"
   },
   {
    "duration": 327,
    "start_time": "2023-01-24T10:01:09.678Z"
   },
   {
    "duration": 5,
    "start_time": "2023-01-24T10:01:34.960Z"
   },
   {
    "duration": 321,
    "start_time": "2023-01-24T10:01:35.568Z"
   },
   {
    "duration": 396,
    "start_time": "2023-01-24T10:02:12.527Z"
   },
   {
    "duration": 279,
    "start_time": "2023-01-24T10:04:18.014Z"
   },
   {
    "duration": 286,
    "start_time": "2023-01-24T10:04:19.869Z"
   },
   {
    "duration": 281,
    "start_time": "2023-01-24T10:04:22.035Z"
   },
   {
    "duration": 43,
    "start_time": "2023-01-24T10:08:10.987Z"
   },
   {
    "duration": 45,
    "start_time": "2023-01-24T10:08:21.670Z"
   },
   {
    "duration": 11,
    "start_time": "2023-01-24T10:08:39.683Z"
   },
   {
    "duration": 3,
    "start_time": "2023-01-24T10:09:11.762Z"
   },
   {
    "duration": 9,
    "start_time": "2023-01-24T10:09:16.829Z"
   },
   {
    "duration": 4,
    "start_time": "2023-01-24T10:09:25.998Z"
   },
   {
    "duration": 5,
    "start_time": "2023-01-24T10:09:48.572Z"
   },
   {
    "duration": 5,
    "start_time": "2023-01-24T10:10:00.285Z"
   },
   {
    "duration": 4,
    "start_time": "2023-01-24T10:10:53.681Z"
   },
   {
    "duration": 4,
    "start_time": "2023-01-24T10:11:10.045Z"
   },
   {
    "duration": 4,
    "start_time": "2023-01-24T10:11:23.573Z"
   },
   {
    "duration": 3,
    "start_time": "2023-01-24T10:11:31.768Z"
   },
   {
    "duration": 9,
    "start_time": "2023-01-24T10:11:56.605Z"
   },
   {
    "duration": 3,
    "start_time": "2023-01-24T10:12:20.687Z"
   },
   {
    "duration": 3,
    "start_time": "2023-01-24T10:12:37.544Z"
   },
   {
    "duration": 3,
    "start_time": "2023-01-24T10:12:39.782Z"
   },
   {
    "duration": 387,
    "start_time": "2023-01-24T10:12:41.081Z"
   },
   {
    "duration": 318,
    "start_time": "2023-01-24T10:12:44.874Z"
   },
   {
    "duration": 297,
    "start_time": "2023-01-24T10:12:49.936Z"
   },
   {
    "duration": 287,
    "start_time": "2023-01-24T10:12:51.669Z"
   },
   {
    "duration": 413,
    "start_time": "2023-01-24T10:17:47.788Z"
   },
   {
    "duration": 4,
    "start_time": "2023-01-24T10:25:26.245Z"
   },
   {
    "duration": 388,
    "start_time": "2023-01-24T10:25:27.744Z"
   },
   {
    "duration": 347,
    "start_time": "2023-01-24T10:25:31.230Z"
   },
   {
    "duration": 55,
    "start_time": "2023-01-24T10:25:35.688Z"
   },
   {
    "duration": 344,
    "start_time": "2023-01-24T10:25:40.209Z"
   },
   {
    "duration": 33,
    "start_time": "2023-01-24T10:30:38.643Z"
   },
   {
    "duration": 6,
    "start_time": "2023-01-24T10:33:58.624Z"
   },
   {
    "duration": 569,
    "start_time": "2023-01-24T10:34:05.144Z"
   },
   {
    "duration": 4,
    "start_time": "2023-01-24T10:35:12.636Z"
   },
   {
    "duration": 11,
    "start_time": "2023-01-24T10:37:31.399Z"
   },
   {
    "duration": 3,
    "start_time": "2023-01-24T10:37:53.984Z"
   },
   {
    "duration": 8,
    "start_time": "2023-01-24T10:38:12.059Z"
   },
   {
    "duration": 6,
    "start_time": "2023-01-24T10:38:18.894Z"
   },
   {
    "duration": 14,
    "start_time": "2023-01-24T10:38:47.502Z"
   },
   {
    "duration": 7,
    "start_time": "2023-01-24T10:38:56.077Z"
   },
   {
    "duration": 10,
    "start_time": "2023-01-24T10:39:49.038Z"
   },
   {
    "duration": 8,
    "start_time": "2023-01-24T10:42:46.113Z"
   },
   {
    "duration": 3,
    "start_time": "2023-01-24T10:48:32.384Z"
   },
   {
    "duration": 275,
    "start_time": "2023-01-24T10:49:04.947Z"
   },
   {
    "duration": 7,
    "start_time": "2023-01-24T10:49:15.503Z"
   },
   {
    "duration": 3,
    "start_time": "2023-01-24T10:49:16.051Z"
   },
   {
    "duration": 6,
    "start_time": "2023-01-24T10:49:26.483Z"
   },
   {
    "duration": 3,
    "start_time": "2023-01-24T10:50:38.984Z"
   },
   {
    "duration": 5,
    "start_time": "2023-01-24T10:50:39.609Z"
   },
   {
    "duration": 1158,
    "start_time": "2023-01-24T10:50:53.265Z"
   },
   {
    "duration": 39,
    "start_time": "2023-01-24T10:50:54.424Z"
   },
   {
    "duration": 48,
    "start_time": "2023-01-24T10:50:54.465Z"
   },
   {
    "duration": 3,
    "start_time": "2023-01-24T10:50:54.516Z"
   },
   {
    "duration": 13,
    "start_time": "2023-01-24T10:50:54.521Z"
   },
   {
    "duration": 20,
    "start_time": "2023-01-24T10:50:54.536Z"
   },
   {
    "duration": 5,
    "start_time": "2023-01-24T10:50:54.557Z"
   },
   {
    "duration": 24,
    "start_time": "2023-01-24T10:50:54.564Z"
   },
   {
    "duration": 4,
    "start_time": "2023-01-24T10:50:54.590Z"
   },
   {
    "duration": 443,
    "start_time": "2023-01-24T10:50:54.597Z"
   },
   {
    "duration": 481,
    "start_time": "2023-01-24T10:50:55.042Z"
   },
   {
    "duration": 419,
    "start_time": "2023-01-24T10:50:55.525Z"
   },
   {
    "duration": 470,
    "start_time": "2023-01-24T10:50:55.946Z"
   },
   {
    "duration": 5,
    "start_time": "2023-01-24T10:50:56.418Z"
   },
   {
    "duration": 14,
    "start_time": "2023-01-24T10:50:56.425Z"
   },
   {
    "duration": 6,
    "start_time": "2023-01-24T10:50:56.440Z"
   },
   {
    "duration": 23,
    "start_time": "2023-01-24T10:50:56.447Z"
   },
   {
    "duration": 7,
    "start_time": "2023-01-24T10:52:10.110Z"
   },
   {
    "duration": 7,
    "start_time": "2023-01-24T10:53:08.016Z"
   },
   {
    "duration": 5,
    "start_time": "2023-01-24T10:53:28.613Z"
   },
   {
    "duration": 399,
    "start_time": "2023-01-24T10:54:45.892Z"
   },
   {
    "duration": 3,
    "start_time": "2023-01-24T10:54:56.600Z"
   },
   {
    "duration": 404,
    "start_time": "2023-01-24T10:55:00.924Z"
   },
   {
    "duration": 125,
    "start_time": "2023-01-24T11:06:42.454Z"
   },
   {
    "duration": 237,
    "start_time": "2023-01-24T11:06:53.196Z"
   },
   {
    "duration": 182,
    "start_time": "2023-01-24T11:07:10.181Z"
   },
   {
    "duration": 204,
    "start_time": "2023-01-24T11:07:17.384Z"
   },
   {
    "duration": 70,
    "start_time": "2023-01-24T11:07:29.341Z"
   },
   {
    "duration": 293,
    "start_time": "2023-01-24T11:07:35.563Z"
   },
   {
    "duration": 207,
    "start_time": "2023-01-24T11:07:43.137Z"
   },
   {
    "duration": 206,
    "start_time": "2023-01-24T11:08:30.799Z"
   },
   {
    "duration": 208,
    "start_time": "2023-01-24T11:09:00.108Z"
   },
   {
    "duration": 10,
    "start_time": "2023-01-24T11:09:04.170Z"
   },
   {
    "duration": 174,
    "start_time": "2023-01-24T11:09:20.613Z"
   },
   {
    "duration": 145,
    "start_time": "2023-01-24T11:09:47.747Z"
   },
   {
    "duration": 138,
    "start_time": "2023-01-24T11:10:11.097Z"
   },
   {
    "duration": 9,
    "start_time": "2023-01-24T11:14:22.256Z"
   },
   {
    "duration": 67,
    "start_time": "2023-01-24T11:14:39.351Z"
   },
   {
    "duration": 237,
    "start_time": "2023-01-24T11:14:42.725Z"
   },
   {
    "duration": 19,
    "start_time": "2023-01-24T11:14:47.410Z"
   },
   {
    "duration": 10,
    "start_time": "2023-01-24T11:15:07.310Z"
   },
   {
    "duration": 6,
    "start_time": "2023-01-24T11:15:16.293Z"
   },
   {
    "duration": 4,
    "start_time": "2023-01-24T11:17:40.379Z"
   },
   {
    "duration": 40,
    "start_time": "2023-01-24T14:31:41.780Z"
   },
   {
    "duration": 1359,
    "start_time": "2023-01-24T14:31:48.418Z"
   },
   {
    "duration": 67,
    "start_time": "2023-01-24T14:31:53.582Z"
   },
   {
    "duration": 8,
    "start_time": "2023-01-24T14:32:00.748Z"
   },
   {
    "duration": 8,
    "start_time": "2023-01-24T14:32:15.725Z"
   },
   {
    "duration": 1319,
    "start_time": "2023-01-24T14:32:21.248Z"
   },
   {
    "duration": 80,
    "start_time": "2023-01-24T14:32:22.569Z"
   },
   {
    "duration": 20,
    "start_time": "2023-01-24T14:32:22.651Z"
   },
   {
    "duration": 3,
    "start_time": "2023-01-24T14:32:22.672Z"
   },
   {
    "duration": 11,
    "start_time": "2023-01-24T14:32:22.677Z"
   },
   {
    "duration": 7,
    "start_time": "2023-01-24T14:32:22.690Z"
   },
   {
    "duration": 5,
    "start_time": "2023-01-24T14:32:22.699Z"
   },
   {
    "duration": 24,
    "start_time": "2023-01-24T14:32:22.705Z"
   },
   {
    "duration": 20,
    "start_time": "2023-01-24T14:32:22.731Z"
   },
   {
    "duration": 313,
    "start_time": "2023-01-24T14:32:22.753Z"
   },
   {
    "duration": 280,
    "start_time": "2023-01-24T14:32:23.068Z"
   },
   {
    "duration": 337,
    "start_time": "2023-01-24T14:32:23.350Z"
   },
   {
    "duration": 275,
    "start_time": "2023-01-24T14:32:23.689Z"
   },
   {
    "duration": 4,
    "start_time": "2023-01-24T14:32:23.967Z"
   },
   {
    "duration": 29,
    "start_time": "2023-01-24T14:32:23.973Z"
   },
   {
    "duration": 26,
    "start_time": "2023-01-24T14:32:24.003Z"
   },
   {
    "duration": 179,
    "start_time": "2023-01-24T14:32:24.030Z"
   },
   {
    "duration": 136,
    "start_time": "2023-01-24T14:32:24.211Z"
   },
   {
    "duration": 8,
    "start_time": "2023-01-24T14:32:24.348Z"
   },
   {
    "duration": 29,
    "start_time": "2023-01-24T14:32:24.358Z"
   },
   {
    "duration": 2,
    "start_time": "2023-01-24T14:34:18.151Z"
   },
   {
    "duration": 107,
    "start_time": "2023-01-24T14:35:23.748Z"
   },
   {
    "duration": 13,
    "start_time": "2023-01-24T14:35:37.047Z"
   },
   {
    "duration": 28,
    "start_time": "2023-01-24T14:35:46.151Z"
   },
   {
    "duration": 543,
    "start_time": "2023-01-24T14:38:25.880Z"
   },
   {
    "duration": 3,
    "start_time": "2023-01-24T14:38:32.702Z"
   },
   {
    "duration": 51,
    "start_time": "2023-01-24T14:44:37.018Z"
   },
   {
    "duration": 10,
    "start_time": "2023-01-24T14:45:22.355Z"
   },
   {
    "duration": 11,
    "start_time": "2023-01-24T14:45:31.648Z"
   },
   {
    "duration": 3,
    "start_time": "2023-01-24T14:45:37.270Z"
   },
   {
    "duration": 9,
    "start_time": "2023-01-24T14:49:56.461Z"
   },
   {
    "duration": 10,
    "start_time": "2023-01-24T14:51:52.612Z"
   },
   {
    "duration": 2,
    "start_time": "2023-01-24T14:51:55.251Z"
   },
   {
    "duration": 4,
    "start_time": "2023-01-24T14:51:56.331Z"
   },
   {
    "duration": 3,
    "start_time": "2023-01-24T14:54:03.203Z"
   },
   {
    "duration": 10,
    "start_time": "2023-01-24T14:54:03.859Z"
   },
   {
    "duration": 33,
    "start_time": "2023-01-24T14:54:18.221Z"
   },
   {
    "duration": 3,
    "start_time": "2023-01-24T14:54:29.012Z"
   },
   {
    "duration": 122,
    "start_time": "2023-01-24T14:54:30.861Z"
   },
   {
    "duration": 10,
    "start_time": "2023-01-24T14:55:16.980Z"
   },
   {
    "duration": 10,
    "start_time": "2023-01-24T14:55:32.216Z"
   },
   {
    "duration": 1671,
    "start_time": "2023-01-24T14:55:37.448Z"
   },
   {
    "duration": 105,
    "start_time": "2023-01-24T14:55:39.121Z"
   },
   {
    "duration": 28,
    "start_time": "2023-01-24T14:55:39.227Z"
   },
   {
    "duration": 7,
    "start_time": "2023-01-24T14:55:39.257Z"
   },
   {
    "duration": 9,
    "start_time": "2023-01-24T14:55:39.266Z"
   },
   {
    "duration": 12,
    "start_time": "2023-01-24T14:55:39.276Z"
   },
   {
    "duration": 10,
    "start_time": "2023-01-24T14:55:39.289Z"
   },
   {
    "duration": 11,
    "start_time": "2023-01-24T14:55:39.300Z"
   },
   {
    "duration": 4,
    "start_time": "2023-01-24T14:55:39.312Z"
   },
   {
    "duration": 287,
    "start_time": "2023-01-24T14:55:39.318Z"
   },
   {
    "duration": 283,
    "start_time": "2023-01-24T14:55:39.606Z"
   },
   {
    "duration": 284,
    "start_time": "2023-01-24T14:55:39.891Z"
   },
   {
    "duration": 281,
    "start_time": "2023-01-24T14:55:40.176Z"
   },
   {
    "duration": 4,
    "start_time": "2023-01-24T14:55:40.460Z"
   },
   {
    "duration": 18,
    "start_time": "2023-01-24T14:55:40.465Z"
   },
   {
    "duration": 49,
    "start_time": "2023-01-24T14:55:40.484Z"
   },
   {
    "duration": 279,
    "start_time": "2023-01-24T14:55:40.535Z"
   },
   {
    "duration": 131,
    "start_time": "2023-01-24T14:55:40.816Z"
   },
   {
    "duration": 7,
    "start_time": "2023-01-24T14:55:40.949Z"
   },
   {
    "duration": 29,
    "start_time": "2023-01-24T14:55:40.957Z"
   },
   {
    "duration": 60,
    "start_time": "2023-01-24T14:55:40.988Z"
   },
   {
    "duration": 12,
    "start_time": "2023-01-24T14:55:41.050Z"
   },
   {
    "duration": 47,
    "start_time": "2023-01-24T14:55:41.063Z"
   },
   {
    "duration": 45,
    "start_time": "2023-01-24T14:55:41.112Z"
   },
   {
    "duration": 50,
    "start_time": "2023-01-24T14:55:41.158Z"
   },
   {
    "duration": 165,
    "start_time": "2023-01-24T14:55:41.210Z"
   },
   {
    "duration": 20,
    "start_time": "2023-01-24T14:58:31.662Z"
   },
   {
    "duration": 3,
    "start_time": "2023-01-24T14:59:02.330Z"
   },
   {
    "duration": 19,
    "start_time": "2023-01-24T14:59:03.473Z"
   },
   {
    "duration": 4,
    "start_time": "2023-01-24T15:01:24.568Z"
   },
   {
    "duration": 0,
    "start_time": "2023-01-24T15:04:37.766Z"
   },
   {
    "duration": 0,
    "start_time": "2023-01-24T15:04:37.767Z"
   },
   {
    "duration": 1786,
    "start_time": "2023-01-24T15:05:25.566Z"
   },
   {
    "duration": 118,
    "start_time": "2023-01-24T15:05:27.358Z"
   },
   {
    "duration": 21,
    "start_time": "2023-01-24T15:05:27.478Z"
   },
   {
    "duration": 37,
    "start_time": "2023-01-24T15:05:27.501Z"
   },
   {
    "duration": 54,
    "start_time": "2023-01-24T15:05:27.540Z"
   },
   {
    "duration": 73,
    "start_time": "2023-01-24T15:05:27.596Z"
   },
   {
    "duration": 32,
    "start_time": "2023-01-24T15:05:27.670Z"
   },
   {
    "duration": 76,
    "start_time": "2023-01-24T15:05:27.704Z"
   },
   {
    "duration": 31,
    "start_time": "2023-01-24T15:05:27.782Z"
   },
   {
    "duration": 377,
    "start_time": "2023-01-24T15:05:27.815Z"
   },
   {
    "duration": 329,
    "start_time": "2023-01-24T15:05:28.194Z"
   },
   {
    "duration": 307,
    "start_time": "2023-01-24T15:05:28.525Z"
   },
   {
    "duration": 343,
    "start_time": "2023-01-24T15:05:28.833Z"
   },
   {
    "duration": 5,
    "start_time": "2023-01-24T15:05:29.177Z"
   },
   {
    "duration": 37,
    "start_time": "2023-01-24T15:05:29.183Z"
   },
   {
    "duration": 45,
    "start_time": "2023-01-24T15:05:29.222Z"
   },
   {
    "duration": 315,
    "start_time": "2023-01-24T15:05:29.269Z"
   },
   {
    "duration": 142,
    "start_time": "2023-01-24T15:05:29.587Z"
   },
   {
    "duration": 5,
    "start_time": "2023-01-24T15:05:29.731Z"
   },
   {
    "duration": 68,
    "start_time": "2023-01-24T15:05:29.743Z"
   },
   {
    "duration": 19,
    "start_time": "2023-01-24T15:05:29.812Z"
   },
   {
    "duration": 29,
    "start_time": "2023-01-24T15:05:29.833Z"
   },
   {
    "duration": 8,
    "start_time": "2023-01-24T15:05:29.864Z"
   },
   {
    "duration": 13,
    "start_time": "2023-01-24T15:05:29.873Z"
   },
   {
    "duration": 148,
    "start_time": "2023-01-24T15:05:29.887Z"
   },
   {
    "duration": 0,
    "start_time": "2023-01-24T15:05:30.037Z"
   },
   {
    "duration": 4,
    "start_time": "2023-01-24T15:05:55.375Z"
   },
   {
    "duration": 10,
    "start_time": "2023-01-24T15:05:55.912Z"
   },
   {
    "duration": 4,
    "start_time": "2023-01-24T15:06:09.783Z"
   },
   {
    "duration": 10,
    "start_time": "2023-01-24T15:06:11.084Z"
   },
   {
    "duration": 25,
    "start_time": "2023-01-24T15:06:32.401Z"
   },
   {
    "duration": 2,
    "start_time": "2023-01-24T15:12:06.793Z"
   },
   {
    "duration": 4,
    "start_time": "2023-01-24T15:12:11.386Z"
   },
   {
    "duration": 105,
    "start_time": "2023-01-24T15:12:12.055Z"
   },
   {
    "duration": 11,
    "start_time": "2023-01-24T15:12:38.317Z"
   },
   {
    "duration": 7,
    "start_time": "2023-01-24T15:13:01.639Z"
   },
   {
    "duration": 16,
    "start_time": "2023-01-24T15:16:07.206Z"
   },
   {
    "duration": 58,
    "start_time": "2023-01-24T15:17:11.678Z"
   },
   {
    "duration": 189,
    "start_time": "2023-01-24T15:17:18.570Z"
   },
   {
    "duration": 270,
    "start_time": "2023-01-24T15:18:18.074Z"
   },
   {
    "duration": 304,
    "start_time": "2023-01-24T15:19:30.955Z"
   },
   {
    "duration": 3,
    "start_time": "2023-01-24T15:22:00.309Z"
   },
   {
    "duration": 5,
    "start_time": "2023-01-24T15:22:34.953Z"
   },
   {
    "duration": 153,
    "start_time": "2023-01-24T15:22:36.420Z"
   },
   {
    "duration": 220,
    "start_time": "2023-01-24T15:22:47.849Z"
   },
   {
    "duration": 187,
    "start_time": "2023-01-24T15:23:00.372Z"
   },
   {
    "duration": 25,
    "start_time": "2023-01-24T15:24:21.724Z"
   },
   {
    "duration": 29,
    "start_time": "2023-01-24T15:25:07.879Z"
   },
   {
    "duration": 4,
    "start_time": "2023-01-24T15:26:40.563Z"
   },
   {
    "duration": 25,
    "start_time": "2023-01-24T15:26:43.535Z"
   },
   {
    "duration": 4,
    "start_time": "2023-01-24T15:27:01.065Z"
   },
   {
    "duration": 12,
    "start_time": "2023-01-24T15:27:06.662Z"
   },
   {
    "duration": 18,
    "start_time": "2023-01-24T15:27:12.402Z"
   },
   {
    "duration": 15,
    "start_time": "2023-01-24T15:27:16.219Z"
   },
   {
    "duration": 159,
    "start_time": "2023-01-24T15:27:23.917Z"
   },
   {
    "duration": 167,
    "start_time": "2023-01-24T15:27:33.495Z"
   },
   {
    "duration": 1607,
    "start_time": "2023-01-24T15:28:03.096Z"
   },
   {
    "duration": 103,
    "start_time": "2023-01-24T15:28:04.705Z"
   },
   {
    "duration": 28,
    "start_time": "2023-01-24T15:28:04.809Z"
   },
   {
    "duration": 7,
    "start_time": "2023-01-24T15:28:04.839Z"
   },
   {
    "duration": 9,
    "start_time": "2023-01-24T15:28:04.848Z"
   },
   {
    "duration": 7,
    "start_time": "2023-01-24T15:28:04.858Z"
   },
   {
    "duration": 5,
    "start_time": "2023-01-24T15:28:04.866Z"
   },
   {
    "duration": 8,
    "start_time": "2023-01-24T15:28:04.873Z"
   },
   {
    "duration": 12,
    "start_time": "2023-01-24T15:28:04.882Z"
   },
   {
    "duration": 282,
    "start_time": "2023-01-24T15:28:04.896Z"
   },
   {
    "duration": 279,
    "start_time": "2023-01-24T15:28:05.180Z"
   },
   {
    "duration": 296,
    "start_time": "2023-01-24T15:28:05.460Z"
   },
   {
    "duration": 278,
    "start_time": "2023-01-24T15:28:05.757Z"
   },
   {
    "duration": 9,
    "start_time": "2023-01-24T15:28:06.043Z"
   },
   {
    "duration": 18,
    "start_time": "2023-01-24T15:28:06.053Z"
   },
   {
    "duration": 7,
    "start_time": "2023-01-24T15:28:06.072Z"
   },
   {
    "duration": 288,
    "start_time": "2023-01-24T15:28:06.080Z"
   },
   {
    "duration": 125,
    "start_time": "2023-01-24T15:28:06.369Z"
   },
   {
    "duration": 4,
    "start_time": "2023-01-24T15:28:06.496Z"
   },
   {
    "duration": 25,
    "start_time": "2023-01-24T15:28:06.502Z"
   },
   {
    "duration": 20,
    "start_time": "2023-01-24T15:28:06.528Z"
   },
   {
    "duration": 9,
    "start_time": "2023-01-24T15:28:06.549Z"
   },
   {
    "duration": 4,
    "start_time": "2023-01-24T15:28:06.559Z"
   },
   {
    "duration": 5,
    "start_time": "2023-01-24T15:28:06.564Z"
   },
   {
    "duration": 5,
    "start_time": "2023-01-24T15:28:06.571Z"
   },
   {
    "duration": 194,
    "start_time": "2023-01-24T15:28:06.577Z"
   },
   {
    "duration": 4,
    "start_time": "2023-01-24T15:28:50.362Z"
   },
   {
    "duration": 247,
    "start_time": "2023-01-24T15:28:55.914Z"
   },
   {
    "duration": 1771,
    "start_time": "2023-01-24T15:29:08.523Z"
   },
   {
    "duration": 115,
    "start_time": "2023-01-24T15:29:10.295Z"
   },
   {
    "duration": 31,
    "start_time": "2023-01-24T15:29:10.411Z"
   },
   {
    "duration": 37,
    "start_time": "2023-01-24T15:29:10.444Z"
   },
   {
    "duration": 33,
    "start_time": "2023-01-24T15:29:10.482Z"
   },
   {
    "duration": 50,
    "start_time": "2023-01-24T15:29:10.517Z"
   },
   {
    "duration": 34,
    "start_time": "2023-01-24T15:29:10.568Z"
   },
   {
    "duration": 20,
    "start_time": "2023-01-24T15:29:10.603Z"
   },
   {
    "duration": 41,
    "start_time": "2023-01-24T15:29:10.625Z"
   },
   {
    "duration": 328,
    "start_time": "2023-01-24T15:29:10.668Z"
   },
   {
    "duration": 297,
    "start_time": "2023-01-24T15:29:10.997Z"
   },
   {
    "duration": 310,
    "start_time": "2023-01-24T15:29:11.296Z"
   },
   {
    "duration": 298,
    "start_time": "2023-01-24T15:29:11.607Z"
   },
   {
    "duration": 4,
    "start_time": "2023-01-24T15:29:11.906Z"
   },
   {
    "duration": 7,
    "start_time": "2023-01-24T15:29:11.911Z"
   },
   {
    "duration": 35,
    "start_time": "2023-01-24T15:29:11.920Z"
   },
   {
    "duration": 292,
    "start_time": "2023-01-24T15:29:11.958Z"
   },
   {
    "duration": 135,
    "start_time": "2023-01-24T15:29:12.252Z"
   },
   {
    "duration": 6,
    "start_time": "2023-01-24T15:29:12.388Z"
   },
   {
    "duration": 15,
    "start_time": "2023-01-24T15:29:12.396Z"
   },
   {
    "duration": 13,
    "start_time": "2023-01-24T15:29:12.412Z"
   },
   {
    "duration": 18,
    "start_time": "2023-01-24T15:29:12.436Z"
   },
   {
    "duration": 14,
    "start_time": "2023-01-24T15:29:12.457Z"
   },
   {
    "duration": 8,
    "start_time": "2023-01-24T15:29:12.473Z"
   },
   {
    "duration": 296,
    "start_time": "2023-01-24T15:29:12.483Z"
   },
   {
    "duration": 127,
    "start_time": "2023-01-24T15:29:18.196Z"
   },
   {
    "duration": 4,
    "start_time": "2023-01-24T15:29:25.711Z"
   },
   {
    "duration": 300,
    "start_time": "2023-01-24T15:29:27.677Z"
   },
   {
    "duration": 9,
    "start_time": "2023-01-24T15:29:42.837Z"
   },
   {
    "duration": 297,
    "start_time": "2023-01-24T15:29:51.282Z"
   },
   {
    "duration": 440,
    "start_time": "2023-01-24T15:29:53.729Z"
   },
   {
    "duration": 5,
    "start_time": "2023-01-24T15:30:08.008Z"
   },
   {
    "duration": 4,
    "start_time": "2023-01-24T15:30:09.375Z"
   },
   {
    "duration": 272,
    "start_time": "2023-01-24T15:30:10.015Z"
   },
   {
    "duration": 14,
    "start_time": "2023-01-24T15:30:18.381Z"
   },
   {
    "duration": 4,
    "start_time": "2023-01-24T15:30:24.414Z"
   },
   {
    "duration": 620,
    "start_time": "2023-01-24T15:30:25.152Z"
   },
   {
    "duration": 3,
    "start_time": "2023-01-24T15:30:33.513Z"
   },
   {
    "duration": 162,
    "start_time": "2023-01-24T15:30:34.014Z"
   },
   {
    "duration": 4,
    "start_time": "2023-01-24T15:32:39.619Z"
   },
   {
    "duration": 3516,
    "start_time": "2023-01-24T15:32:40.056Z"
   },
   {
    "duration": 2,
    "start_time": "2023-01-24T15:32:55.291Z"
   },
   {
    "duration": 4,
    "start_time": "2023-01-24T15:32:56.702Z"
   },
   {
    "duration": 4,
    "start_time": "2023-01-24T15:32:57.660Z"
   },
   {
    "duration": 2964,
    "start_time": "2023-01-24T15:32:58.501Z"
   },
   {
    "duration": 3460,
    "start_time": "2023-01-24T15:34:57.510Z"
   },
   {
    "duration": 4,
    "start_time": "2023-01-24T15:35:05.863Z"
   },
   {
    "duration": 298,
    "start_time": "2023-01-24T15:35:06.357Z"
   },
   {
    "duration": 5,
    "start_time": "2023-01-24T15:39:23.816Z"
   },
   {
    "duration": 11,
    "start_time": "2023-01-24T15:39:26.121Z"
   },
   {
    "duration": 4,
    "start_time": "2023-01-24T15:39:33.356Z"
   },
   {
    "duration": 5,
    "start_time": "2023-01-24T15:39:40.596Z"
   },
   {
    "duration": 9,
    "start_time": "2023-01-24T15:39:40.968Z"
   },
   {
    "duration": 3,
    "start_time": "2023-01-24T15:39:50.391Z"
   },
   {
    "duration": 17,
    "start_time": "2023-01-24T15:39:53.554Z"
   },
   {
    "duration": 5,
    "start_time": "2023-01-24T15:40:14.872Z"
   },
   {
    "duration": 15,
    "start_time": "2023-01-24T15:40:15.596Z"
   },
   {
    "duration": 4,
    "start_time": "2023-01-24T15:40:39.068Z"
   },
   {
    "duration": 3,
    "start_time": "2023-01-24T15:40:39.724Z"
   },
   {
    "duration": 283,
    "start_time": "2023-01-24T15:40:41.400Z"
   },
   {
    "duration": 2,
    "start_time": "2023-01-24T15:40:54.390Z"
   },
   {
    "duration": 6,
    "start_time": "2023-01-24T15:40:55.962Z"
   },
   {
    "duration": 4,
    "start_time": "2023-01-24T15:40:56.584Z"
   },
   {
    "duration": 387,
    "start_time": "2023-01-24T15:40:57.572Z"
   },
   {
    "duration": 3,
    "start_time": "2023-01-24T15:41:06.077Z"
   },
   {
    "duration": 5,
    "start_time": "2023-01-24T15:41:10.451Z"
   },
   {
    "duration": 419,
    "start_time": "2023-01-24T15:41:11.227Z"
   },
   {
    "duration": 19,
    "start_time": "2023-01-24T15:41:36.164Z"
   },
   {
    "duration": 339,
    "start_time": "2023-01-24T15:43:13.111Z"
   },
   {
    "duration": 1811,
    "start_time": "2023-01-24T15:43:45.585Z"
   },
   {
    "duration": 120,
    "start_time": "2023-01-24T15:43:47.398Z"
   },
   {
    "duration": 50,
    "start_time": "2023-01-24T15:43:47.520Z"
   },
   {
    "duration": 3,
    "start_time": "2023-01-24T15:43:47.572Z"
   },
   {
    "duration": 8,
    "start_time": "2023-01-24T15:43:47.577Z"
   },
   {
    "duration": 8,
    "start_time": "2023-01-24T15:43:47.587Z"
   },
   {
    "duration": 4,
    "start_time": "2023-01-24T15:43:47.597Z"
   },
   {
    "duration": 9,
    "start_time": "2023-01-24T15:43:47.603Z"
   },
   {
    "duration": 4,
    "start_time": "2023-01-24T15:43:47.614Z"
   },
   {
    "duration": 394,
    "start_time": "2023-01-24T15:43:47.620Z"
   },
   {
    "duration": 395,
    "start_time": "2023-01-24T15:43:48.016Z"
   },
   {
    "duration": 317,
    "start_time": "2023-01-24T15:43:48.413Z"
   },
   {
    "duration": 388,
    "start_time": "2023-01-24T15:43:48.732Z"
   },
   {
    "duration": 5,
    "start_time": "2023-01-24T15:43:49.122Z"
   },
   {
    "duration": 40,
    "start_time": "2023-01-24T15:43:49.129Z"
   },
   {
    "duration": 22,
    "start_time": "2023-01-24T15:43:49.171Z"
   },
   {
    "duration": 11,
    "start_time": "2023-01-24T15:43:49.195Z"
   },
   {
    "duration": 368,
    "start_time": "2023-01-24T15:43:49.207Z"
   },
   {
    "duration": 190,
    "start_time": "2023-01-24T15:43:49.577Z"
   },
   {
    "duration": 6,
    "start_time": "2023-01-24T15:43:49.769Z"
   },
   {
    "duration": 27,
    "start_time": "2023-01-24T15:43:49.777Z"
   },
   {
    "duration": 49,
    "start_time": "2023-01-24T15:43:49.806Z"
   },
   {
    "duration": 22,
    "start_time": "2023-01-24T15:43:49.860Z"
   },
   {
    "duration": 12,
    "start_time": "2023-01-24T15:43:49.883Z"
   },
   {
    "duration": 17,
    "start_time": "2023-01-24T15:43:49.896Z"
   },
   {
    "duration": 18,
    "start_time": "2023-01-24T15:43:49.914Z"
   },
   {
    "duration": 518,
    "start_time": "2023-01-24T15:43:49.934Z"
   },
   {
    "duration": 1969,
    "start_time": "2023-01-24T15:44:20.012Z"
   },
   {
    "duration": 121,
    "start_time": "2023-01-24T15:44:21.983Z"
   },
   {
    "duration": 23,
    "start_time": "2023-01-24T15:44:22.105Z"
   },
   {
    "duration": 25,
    "start_time": "2023-01-24T15:44:22.130Z"
   },
   {
    "duration": 15,
    "start_time": "2023-01-24T15:44:22.158Z"
   },
   {
    "duration": 15,
    "start_time": "2023-01-24T15:44:22.175Z"
   },
   {
    "duration": 5,
    "start_time": "2023-01-24T15:44:22.191Z"
   },
   {
    "duration": 8,
    "start_time": "2023-01-24T15:44:22.198Z"
   },
   {
    "duration": 9,
    "start_time": "2023-01-24T15:44:22.207Z"
   },
   {
    "duration": 439,
    "start_time": "2023-01-24T15:44:22.219Z"
   },
   {
    "duration": 386,
    "start_time": "2023-01-24T15:44:22.668Z"
   },
   {
    "duration": 312,
    "start_time": "2023-01-24T15:44:23.061Z"
   },
   {
    "duration": 328,
    "start_time": "2023-01-24T15:44:23.375Z"
   },
   {
    "duration": 5,
    "start_time": "2023-01-24T15:44:23.704Z"
   },
   {
    "duration": 16,
    "start_time": "2023-01-24T15:44:23.710Z"
   },
   {
    "duration": 36,
    "start_time": "2023-01-24T15:44:23.728Z"
   },
   {
    "duration": 206,
    "start_time": "2023-01-24T15:44:23.768Z"
   },
   {
    "duration": 275,
    "start_time": "2023-01-24T15:44:23.976Z"
   },
   {
    "duration": 8,
    "start_time": "2023-01-24T15:44:24.255Z"
   },
   {
    "duration": 17,
    "start_time": "2023-01-24T15:44:24.264Z"
   },
   {
    "duration": 13,
    "start_time": "2023-01-24T15:44:24.283Z"
   },
   {
    "duration": 23,
    "start_time": "2023-01-24T15:44:24.297Z"
   },
   {
    "duration": 7,
    "start_time": "2023-01-24T15:44:24.321Z"
   },
   {
    "duration": 30,
    "start_time": "2023-01-24T15:44:24.329Z"
   },
   {
    "duration": 10,
    "start_time": "2023-01-24T15:44:24.363Z"
   },
   {
    "duration": 376,
    "start_time": "2023-01-24T15:44:24.374Z"
   },
   {
    "duration": 1765,
    "start_time": "2023-01-24T15:44:49.159Z"
   },
   {
    "duration": 132,
    "start_time": "2023-01-24T15:44:50.925Z"
   },
   {
    "duration": 22,
    "start_time": "2023-01-24T15:44:51.059Z"
   },
   {
    "duration": 12,
    "start_time": "2023-01-24T15:44:51.083Z"
   },
   {
    "duration": 30,
    "start_time": "2023-01-24T15:44:51.097Z"
   },
   {
    "duration": 42,
    "start_time": "2023-01-24T15:44:51.128Z"
   },
   {
    "duration": 6,
    "start_time": "2023-01-24T15:44:51.172Z"
   },
   {
    "duration": 22,
    "start_time": "2023-01-24T15:44:51.179Z"
   },
   {
    "duration": 17,
    "start_time": "2023-01-24T15:44:51.202Z"
   },
   {
    "duration": 350,
    "start_time": "2023-01-24T15:44:51.221Z"
   },
   {
    "duration": 302,
    "start_time": "2023-01-24T15:44:51.573Z"
   },
   {
    "duration": 321,
    "start_time": "2023-01-24T15:44:51.876Z"
   },
   {
    "duration": 375,
    "start_time": "2023-01-24T15:44:52.198Z"
   },
   {
    "duration": 8,
    "start_time": "2023-01-24T15:44:52.575Z"
   },
   {
    "duration": 16,
    "start_time": "2023-01-24T15:44:52.585Z"
   },
   {
    "duration": 8,
    "start_time": "2023-01-24T15:44:52.603Z"
   },
   {
    "duration": 322,
    "start_time": "2023-01-24T15:44:52.613Z"
   },
   {
    "duration": 142,
    "start_time": "2023-01-24T15:44:52.936Z"
   },
   {
    "duration": 5,
    "start_time": "2023-01-24T15:44:53.080Z"
   },
   {
    "duration": 29,
    "start_time": "2023-01-24T15:44:53.086Z"
   },
   {
    "duration": 13,
    "start_time": "2023-01-24T15:44:53.117Z"
   },
   {
    "duration": 31,
    "start_time": "2023-01-24T15:44:53.131Z"
   },
   {
    "duration": 18,
    "start_time": "2023-01-24T15:44:53.163Z"
   },
   {
    "duration": 140,
    "start_time": "2023-01-24T15:44:53.182Z"
   },
   {
    "duration": 0,
    "start_time": "2023-01-24T15:44:53.323Z"
   },
   {
    "duration": 5,
    "start_time": "2023-01-24T15:46:07.561Z"
   },
   {
    "duration": 365,
    "start_time": "2023-01-24T15:46:11.781Z"
   },
   {
    "duration": 364,
    "start_time": "2023-01-24T15:46:25.193Z"
   },
   {
    "duration": 5,
    "start_time": "2023-01-24T15:46:28.609Z"
   },
   {
    "duration": 3860,
    "start_time": "2023-01-24T15:46:32.315Z"
   },
   {
    "duration": 4315,
    "start_time": "2023-01-24T15:46:45.558Z"
   },
   {
    "duration": 3,
    "start_time": "2023-01-24T15:46:50.630Z"
   },
   {
    "duration": 11,
    "start_time": "2023-01-24T15:46:51.443Z"
   },
   {
    "duration": 4582,
    "start_time": "2023-01-24T15:46:54.872Z"
   },
   {
    "duration": 4,
    "start_time": "2023-01-24T15:47:39.705Z"
   },
   {
    "duration": 286,
    "start_time": "2023-01-24T15:47:43.488Z"
   },
   {
    "duration": 5,
    "start_time": "2023-01-24T15:48:37.831Z"
   },
   {
    "duration": 5,
    "start_time": "2023-01-24T15:48:38.379Z"
   },
   {
    "duration": 269,
    "start_time": "2023-01-24T15:48:39.598Z"
   },
   {
    "duration": 6,
    "start_time": "2023-01-24T15:49:29.960Z"
   },
   {
    "duration": 4,
    "start_time": "2023-01-24T15:49:33.729Z"
   },
   {
    "duration": 399,
    "start_time": "2023-01-24T15:49:34.375Z"
   },
   {
    "duration": 5,
    "start_time": "2023-01-24T15:49:53.803Z"
   },
   {
    "duration": 367,
    "start_time": "2023-01-24T15:49:56.706Z"
   },
   {
    "duration": 4,
    "start_time": "2023-01-24T15:56:59.252Z"
   },
   {
    "duration": 4,
    "start_time": "2023-01-24T15:57:01.378Z"
   },
   {
    "duration": 5,
    "start_time": "2023-01-24T15:57:02.585Z"
   },
   {
    "duration": 952,
    "start_time": "2023-01-24T15:57:03.426Z"
   },
   {
    "duration": 5,
    "start_time": "2023-01-24T15:58:56.477Z"
   },
   {
    "duration": 6,
    "start_time": "2023-01-24T15:59:01.457Z"
   },
   {
    "duration": 892,
    "start_time": "2023-01-24T15:59:02.083Z"
   },
   {
    "duration": 4,
    "start_time": "2023-01-24T15:59:36.883Z"
   },
   {
    "duration": 8,
    "start_time": "2023-01-24T15:59:37.357Z"
   },
   {
    "duration": 798,
    "start_time": "2023-01-24T15:59:37.875Z"
   },
   {
    "duration": 6,
    "start_time": "2023-01-24T15:59:55.164Z"
   },
   {
    "duration": 7,
    "start_time": "2023-01-24T15:59:55.558Z"
   },
   {
    "duration": 692,
    "start_time": "2023-01-24T15:59:55.981Z"
   },
   {
    "duration": 3263,
    "start_time": "2023-01-24T16:00:59.755Z"
   },
   {
    "duration": 2278,
    "start_time": "2023-01-24T16:01:04.987Z"
   },
   {
    "duration": 209,
    "start_time": "2023-01-24T16:03:46.520Z"
   },
   {
    "duration": 30,
    "start_time": "2023-01-24T16:04:14.957Z"
   },
   {
    "duration": 20,
    "start_time": "2023-01-24T16:04:29.314Z"
   },
   {
    "duration": 4051,
    "start_time": "2023-01-24T16:04:43.079Z"
   },
   {
    "duration": 43,
    "start_time": "2023-01-24T16:04:47.132Z"
   },
   {
    "duration": 27,
    "start_time": "2023-01-24T16:04:47.177Z"
   },
   {
    "duration": 4,
    "start_time": "2023-01-24T16:04:47.205Z"
   },
   {
    "duration": 69,
    "start_time": "2023-01-24T16:04:47.210Z"
   },
   {
    "duration": 38,
    "start_time": "2023-01-24T16:04:47.281Z"
   },
   {
    "duration": 27,
    "start_time": "2023-01-24T16:04:47.320Z"
   },
   {
    "duration": 36,
    "start_time": "2023-01-24T16:04:47.350Z"
   },
   {
    "duration": 9,
    "start_time": "2023-01-24T16:04:47.389Z"
   },
   {
    "duration": 379,
    "start_time": "2023-01-24T16:04:47.402Z"
   },
   {
    "duration": 317,
    "start_time": "2023-01-24T16:04:47.783Z"
   },
   {
    "duration": 492,
    "start_time": "2023-01-24T16:04:48.102Z"
   },
   {
    "duration": 318,
    "start_time": "2023-01-24T16:04:48.595Z"
   },
   {
    "duration": 4,
    "start_time": "2023-01-24T16:04:48.915Z"
   },
   {
    "duration": 50,
    "start_time": "2023-01-24T16:04:48.921Z"
   },
   {
    "duration": 39,
    "start_time": "2023-01-24T16:04:48.972Z"
   },
   {
    "duration": 253,
    "start_time": "2023-01-24T16:04:49.013Z"
   },
   {
    "duration": 144,
    "start_time": "2023-01-24T16:04:49.268Z"
   },
   {
    "duration": 5,
    "start_time": "2023-01-24T16:04:49.414Z"
   },
   {
    "duration": 57,
    "start_time": "2023-01-24T16:04:49.420Z"
   },
   {
    "duration": 37,
    "start_time": "2023-01-24T16:04:49.478Z"
   },
   {
    "duration": 79,
    "start_time": "2023-01-24T16:04:49.517Z"
   },
   {
    "duration": 20,
    "start_time": "2023-01-24T16:04:49.598Z"
   },
   {
    "duration": 22,
    "start_time": "2023-01-24T16:04:49.620Z"
   },
   {
    "duration": 34,
    "start_time": "2023-01-24T16:04:49.655Z"
   },
   {
    "duration": 377,
    "start_time": "2023-01-24T16:04:49.690Z"
   },
   {
    "duration": 6,
    "start_time": "2023-01-24T16:06:47.009Z"
   },
   {
    "duration": 37,
    "start_time": "2023-01-24T16:07:01.155Z"
   },
   {
    "duration": 6,
    "start_time": "2023-01-24T16:07:15.101Z"
   },
   {
    "duration": 32,
    "start_time": "2023-01-24T16:07:16.761Z"
   },
   {
    "duration": 4,
    "start_time": "2023-01-24T16:09:11.318Z"
   },
   {
    "duration": 7,
    "start_time": "2023-01-24T16:09:14.065Z"
   },
   {
    "duration": 32,
    "start_time": "2023-01-24T16:09:14.771Z"
   },
   {
    "duration": 3,
    "start_time": "2023-01-24T16:09:43.480Z"
   },
   {
    "duration": 12,
    "start_time": "2023-01-24T16:09:47.434Z"
   },
   {
    "duration": 6,
    "start_time": "2023-01-24T16:09:47.861Z"
   },
   {
    "duration": 37,
    "start_time": "2023-01-24T16:09:48.587Z"
   },
   {
    "duration": 5,
    "start_time": "2023-01-24T16:10:42.860Z"
   },
   {
    "duration": 29,
    "start_time": "2023-01-24T16:10:45.833Z"
   },
   {
    "duration": 35,
    "start_time": "2023-01-24T16:10:46.378Z"
   },
   {
    "duration": 2,
    "start_time": "2023-01-24T16:10:58.780Z"
   },
   {
    "duration": 9,
    "start_time": "2023-01-24T16:11:02.663Z"
   },
   {
    "duration": 821,
    "start_time": "2023-01-24T16:11:03.262Z"
   },
   {
    "duration": 168,
    "start_time": "2023-01-24T16:12:51.293Z"
   },
   {
    "duration": 8,
    "start_time": "2023-01-24T16:13:48.267Z"
   },
   {
    "duration": 246,
    "start_time": "2023-01-24T16:13:49.163Z"
   },
   {
    "duration": 58,
    "start_time": "2023-01-24T16:14:03.873Z"
   },
   {
    "duration": 85,
    "start_time": "2023-01-24T16:14:08.120Z"
   },
   {
    "duration": 390,
    "start_time": "2023-01-24T16:14:10.204Z"
   },
   {
    "duration": 505,
    "start_time": "2023-01-24T16:14:25.811Z"
   },
   {
    "duration": 375,
    "start_time": "2023-01-24T16:14:56.502Z"
   },
   {
    "duration": 463,
    "start_time": "2023-01-24T16:15:01.733Z"
   },
   {
    "duration": 447,
    "start_time": "2023-01-24T16:15:09.720Z"
   },
   {
    "duration": 426,
    "start_time": "2023-01-24T16:15:21.625Z"
   },
   {
    "duration": 4,
    "start_time": "2023-01-24T16:16:25.724Z"
   },
   {
    "duration": 4,
    "start_time": "2023-01-24T16:16:27.585Z"
   },
   {
    "duration": 10,
    "start_time": "2023-01-24T16:16:28.565Z"
   },
   {
    "duration": 49,
    "start_time": "2023-01-24T16:16:29.419Z"
   },
   {
    "duration": 22,
    "start_time": "2023-01-24T16:17:08.752Z"
   },
   {
    "duration": 6,
    "start_time": "2023-01-24T16:17:09.963Z"
   },
   {
    "duration": 5,
    "start_time": "2023-01-24T16:17:10.719Z"
   },
   {
    "duration": 23,
    "start_time": "2023-01-24T16:17:11.485Z"
   },
   {
    "duration": 2039,
    "start_time": "2023-01-24T16:17:59.577Z"
   },
   {
    "duration": 148,
    "start_time": "2023-01-24T16:18:01.618Z"
   },
   {
    "duration": 33,
    "start_time": "2023-01-24T16:18:01.768Z"
   },
   {
    "duration": 14,
    "start_time": "2023-01-24T16:18:01.803Z"
   },
   {
    "duration": 79,
    "start_time": "2023-01-24T16:18:01.819Z"
   },
   {
    "duration": 33,
    "start_time": "2023-01-24T16:18:01.899Z"
   },
   {
    "duration": 57,
    "start_time": "2023-01-24T16:18:01.934Z"
   },
   {
    "duration": 33,
    "start_time": "2023-01-24T16:18:01.993Z"
   },
   {
    "duration": 62,
    "start_time": "2023-01-24T16:18:02.027Z"
   },
   {
    "duration": 459,
    "start_time": "2023-01-24T16:18:02.091Z"
   },
   {
    "duration": 438,
    "start_time": "2023-01-24T16:18:02.552Z"
   },
   {
    "duration": 393,
    "start_time": "2023-01-24T16:18:02.996Z"
   },
   {
    "duration": 361,
    "start_time": "2023-01-24T16:18:03.391Z"
   },
   {
    "duration": 5,
    "start_time": "2023-01-24T16:18:03.755Z"
   },
   {
    "duration": 109,
    "start_time": "2023-01-24T16:18:03.761Z"
   },
   {
    "duration": 103,
    "start_time": "2023-01-24T16:18:03.872Z"
   },
   {
    "duration": 331,
    "start_time": "2023-01-24T16:18:03.978Z"
   },
   {
    "duration": 160,
    "start_time": "2023-01-24T16:18:04.311Z"
   },
   {
    "duration": 6,
    "start_time": "2023-01-24T16:18:04.474Z"
   },
   {
    "duration": 77,
    "start_time": "2023-01-24T16:18:04.481Z"
   },
   {
    "duration": 47,
    "start_time": "2023-01-24T16:18:04.560Z"
   },
   {
    "duration": 21,
    "start_time": "2023-01-24T16:18:04.608Z"
   },
   {
    "duration": 45,
    "start_time": "2023-01-24T16:18:04.631Z"
   },
   {
    "duration": 35,
    "start_time": "2023-01-24T16:18:04.677Z"
   },
   {
    "duration": 63,
    "start_time": "2023-01-24T16:18:04.714Z"
   },
   {
    "duration": 379,
    "start_time": "2023-01-24T16:18:04.779Z"
   },
   {
    "duration": 1967,
    "start_time": "2023-01-24T16:18:23.618Z"
   },
   {
    "duration": 136,
    "start_time": "2023-01-24T16:18:25.586Z"
   },
   {
    "duration": 46,
    "start_time": "2023-01-24T16:18:25.724Z"
   },
   {
    "duration": 7,
    "start_time": "2023-01-24T16:18:25.772Z"
   },
   {
    "duration": 12,
    "start_time": "2023-01-24T16:18:25.780Z"
   },
   {
    "duration": 9,
    "start_time": "2023-01-24T16:18:25.794Z"
   },
   {
    "duration": 3,
    "start_time": "2023-01-24T16:18:25.804Z"
   },
   {
    "duration": 10,
    "start_time": "2023-01-24T16:18:25.809Z"
   },
   {
    "duration": 4,
    "start_time": "2023-01-24T16:18:25.820Z"
   },
   {
    "duration": 375,
    "start_time": "2023-01-24T16:18:25.827Z"
   },
   {
    "duration": 357,
    "start_time": "2023-01-24T16:18:26.204Z"
   },
   {
    "duration": 331,
    "start_time": "2023-01-24T16:18:26.564Z"
   },
   {
    "duration": 322,
    "start_time": "2023-01-24T16:18:26.896Z"
   },
   {
    "duration": 4,
    "start_time": "2023-01-24T16:18:27.220Z"
   },
   {
    "duration": 20,
    "start_time": "2023-01-24T16:18:27.226Z"
   },
   {
    "duration": 19,
    "start_time": "2023-01-24T16:18:27.248Z"
   },
   {
    "duration": 318,
    "start_time": "2023-01-24T16:18:27.268Z"
   },
   {
    "duration": 141,
    "start_time": "2023-01-24T16:18:27.588Z"
   },
   {
    "duration": 23,
    "start_time": "2023-01-24T16:18:27.731Z"
   },
   {
    "duration": 22,
    "start_time": "2023-01-24T16:18:27.756Z"
   },
   {
    "duration": 16,
    "start_time": "2023-01-24T16:18:27.780Z"
   },
   {
    "duration": 5,
    "start_time": "2023-01-24T16:18:27.798Z"
   },
   {
    "duration": 6,
    "start_time": "2023-01-24T16:18:27.804Z"
   },
   {
    "duration": 9,
    "start_time": "2023-01-24T16:18:27.811Z"
   },
   {
    "duration": 9,
    "start_time": "2023-01-24T16:18:27.821Z"
   },
   {
    "duration": 181,
    "start_time": "2023-01-24T16:18:27.831Z"
   },
   {
    "duration": 44,
    "start_time": "2023-01-24T16:21:40.310Z"
   },
   {
    "duration": 12,
    "start_time": "2023-01-24T16:21:46.289Z"
   },
   {
    "duration": 33,
    "start_time": "2023-01-24T16:25:38.025Z"
   },
   {
    "duration": 1937,
    "start_time": "2023-01-24T16:25:51.313Z"
   },
   {
    "duration": 125,
    "start_time": "2023-01-24T16:25:53.255Z"
   },
   {
    "duration": 21,
    "start_time": "2023-01-24T16:25:53.381Z"
   },
   {
    "duration": 15,
    "start_time": "2023-01-24T16:25:53.404Z"
   },
   {
    "duration": 44,
    "start_time": "2023-01-24T16:25:53.420Z"
   },
   {
    "duration": 31,
    "start_time": "2023-01-24T16:25:53.468Z"
   },
   {
    "duration": 15,
    "start_time": "2023-01-24T16:25:53.500Z"
   },
   {
    "duration": 51,
    "start_time": "2023-01-24T16:25:53.516Z"
   },
   {
    "duration": 26,
    "start_time": "2023-01-24T16:25:53.568Z"
   },
   {
    "duration": 364,
    "start_time": "2023-01-24T16:25:53.597Z"
   },
   {
    "duration": 336,
    "start_time": "2023-01-24T16:25:53.963Z"
   },
   {
    "duration": 364,
    "start_time": "2023-01-24T16:25:54.301Z"
   },
   {
    "duration": 333,
    "start_time": "2023-01-24T16:25:54.667Z"
   },
   {
    "duration": 4,
    "start_time": "2023-01-24T16:25:55.001Z"
   },
   {
    "duration": 26,
    "start_time": "2023-01-24T16:25:55.007Z"
   },
   {
    "duration": 46,
    "start_time": "2023-01-24T16:25:55.035Z"
   },
   {
    "duration": 323,
    "start_time": "2023-01-24T16:25:55.083Z"
   },
   {
    "duration": 150,
    "start_time": "2023-01-24T16:25:55.408Z"
   },
   {
    "duration": 13,
    "start_time": "2023-01-24T16:25:55.560Z"
   },
   {
    "duration": 44,
    "start_time": "2023-01-24T16:25:55.575Z"
   },
   {
    "duration": 197,
    "start_time": "2023-01-24T16:25:55.620Z"
   },
   {
    "duration": 0,
    "start_time": "2023-01-24T16:25:55.818Z"
   },
   {
    "duration": 0,
    "start_time": "2023-01-24T16:25:55.819Z"
   },
   {
    "duration": 0,
    "start_time": "2023-01-24T16:25:55.820Z"
   },
   {
    "duration": 0,
    "start_time": "2023-01-24T16:25:55.821Z"
   },
   {
    "duration": 29,
    "start_time": "2023-01-24T16:26:14.130Z"
   },
   {
    "duration": 6,
    "start_time": "2023-01-24T16:26:17.263Z"
   },
   {
    "duration": 7,
    "start_time": "2023-01-24T16:26:17.963Z"
   },
   {
    "duration": 4,
    "start_time": "2023-01-24T16:26:19.207Z"
   },
   {
    "duration": 22,
    "start_time": "2023-01-24T16:26:21.495Z"
   },
   {
    "duration": 4,
    "start_time": "2023-01-24T16:26:46.918Z"
   },
   {
    "duration": 4,
    "start_time": "2023-01-24T16:26:48.179Z"
   },
   {
    "duration": 27,
    "start_time": "2023-01-24T16:26:49.859Z"
   },
   {
    "duration": 5,
    "start_time": "2023-01-24T16:27:35.729Z"
   },
   {
    "duration": 3,
    "start_time": "2023-01-24T16:27:37.888Z"
   },
   {
    "duration": 38,
    "start_time": "2023-01-24T16:27:38.765Z"
   },
   {
    "duration": 15,
    "start_time": "2023-01-24T16:27:58.331Z"
   },
   {
    "duration": 22,
    "start_time": "2023-01-24T16:28:00.596Z"
   },
   {
    "duration": 4,
    "start_time": "2023-01-24T16:28:05.267Z"
   },
   {
    "duration": 30,
    "start_time": "2023-01-24T16:28:06.581Z"
   },
   {
    "duration": 7,
    "start_time": "2023-01-24T16:28:18.267Z"
   },
   {
    "duration": 24,
    "start_time": "2023-01-24T16:28:19.802Z"
   },
   {
    "duration": 4,
    "start_time": "2023-01-24T16:28:32.230Z"
   },
   {
    "duration": 29,
    "start_time": "2023-01-24T16:28:33.855Z"
   },
   {
    "duration": 5,
    "start_time": "2023-01-24T16:28:42.874Z"
   },
   {
    "duration": 23,
    "start_time": "2023-01-24T16:28:44.077Z"
   },
   {
    "duration": 4,
    "start_time": "2023-01-24T16:30:38.891Z"
   },
   {
    "duration": 22,
    "start_time": "2023-01-24T16:30:40.469Z"
   },
   {
    "duration": 55,
    "start_time": "2023-01-24T16:32:13.442Z"
   },
   {
    "duration": 31,
    "start_time": "2023-01-24T16:32:23.764Z"
   },
   {
    "duration": 21,
    "start_time": "2023-01-24T16:32:37.478Z"
   },
   {
    "duration": 5,
    "start_time": "2023-01-24T16:35:20.668Z"
   },
   {
    "duration": 3,
    "start_time": "2023-01-24T16:35:22.078Z"
   },
   {
    "duration": 28,
    "start_time": "2023-01-24T16:35:22.892Z"
   },
   {
    "duration": 4,
    "start_time": "2023-01-24T16:35:42.082Z"
   },
   {
    "duration": 4,
    "start_time": "2023-01-24T16:35:44.223Z"
   },
   {
    "duration": 35,
    "start_time": "2023-01-24T16:35:45.132Z"
   },
   {
    "duration": 4,
    "start_time": "2023-01-24T16:35:54.815Z"
   },
   {
    "duration": 4,
    "start_time": "2023-01-24T16:35:55.676Z"
   },
   {
    "duration": 36,
    "start_time": "2023-01-24T16:35:56.728Z"
   },
   {
    "duration": 8,
    "start_time": "2023-01-24T16:36:12.363Z"
   },
   {
    "duration": 1842,
    "start_time": "2023-01-24T16:38:45.159Z"
   },
   {
    "duration": 124,
    "start_time": "2023-01-24T16:38:47.003Z"
   },
   {
    "duration": 40,
    "start_time": "2023-01-24T16:38:47.129Z"
   },
   {
    "duration": 2,
    "start_time": "2023-01-24T16:38:47.171Z"
   },
   {
    "duration": 8,
    "start_time": "2023-01-24T16:38:47.176Z"
   },
   {
    "duration": 11,
    "start_time": "2023-01-24T16:38:47.186Z"
   },
   {
    "duration": 9,
    "start_time": "2023-01-24T16:38:47.198Z"
   },
   {
    "duration": 8,
    "start_time": "2023-01-24T16:38:47.208Z"
   },
   {
    "duration": 14,
    "start_time": "2023-01-24T16:38:47.217Z"
   },
   {
    "duration": 365,
    "start_time": "2023-01-24T16:38:47.232Z"
   },
   {
    "duration": 325,
    "start_time": "2023-01-24T16:38:47.599Z"
   },
   {
    "duration": 360,
    "start_time": "2023-01-24T16:38:47.925Z"
   },
   {
    "duration": 368,
    "start_time": "2023-01-24T16:38:48.287Z"
   },
   {
    "duration": 8,
    "start_time": "2023-01-24T16:38:48.658Z"
   },
   {
    "duration": 16,
    "start_time": "2023-01-24T16:38:48.668Z"
   },
   {
    "duration": 9,
    "start_time": "2023-01-24T16:38:48.686Z"
   },
   {
    "duration": 305,
    "start_time": "2023-01-24T16:38:48.697Z"
   },
   {
    "duration": 156,
    "start_time": "2023-01-24T16:38:49.003Z"
   },
   {
    "duration": 8,
    "start_time": "2023-01-24T16:38:49.162Z"
   },
   {
    "duration": 23,
    "start_time": "2023-01-24T16:38:49.173Z"
   },
   {
    "duration": 71,
    "start_time": "2023-01-24T16:38:49.198Z"
   },
   {
    "duration": 17,
    "start_time": "2023-01-24T16:38:49.271Z"
   },
   {
    "duration": 41,
    "start_time": "2023-01-24T16:38:49.289Z"
   },
   {
    "duration": 0,
    "start_time": "2023-01-24T16:38:49.332Z"
   },
   {
    "duration": 0,
    "start_time": "2023-01-24T16:38:49.333Z"
   },
   {
    "duration": 0,
    "start_time": "2023-01-24T16:38:49.334Z"
   },
   {
    "duration": 0,
    "start_time": "2023-01-24T16:38:49.335Z"
   },
   {
    "duration": 56,
    "start_time": "2023-01-24T16:39:27.871Z"
   },
   {
    "duration": 5,
    "start_time": "2023-01-24T16:39:45.324Z"
   },
   {
    "duration": 2,
    "start_time": "2023-01-24T16:39:46.220Z"
   },
   {
    "duration": 169,
    "start_time": "2023-01-24T16:39:47.016Z"
   },
   {
    "duration": 3,
    "start_time": "2023-01-24T16:40:12.453Z"
   },
   {
    "duration": 20,
    "start_time": "2023-01-24T16:40:13.959Z"
   },
   {
    "duration": 13,
    "start_time": "2023-01-24T16:40:28.576Z"
   },
   {
    "duration": 3,
    "start_time": "2023-01-24T16:40:58.725Z"
   },
   {
    "duration": 768,
    "start_time": "2023-01-24T16:41:00.922Z"
   },
   {
    "duration": 4,
    "start_time": "2023-01-24T16:41:16.512Z"
   },
   {
    "duration": 3,
    "start_time": "2023-01-24T16:41:17.255Z"
   },
   {
    "duration": 3,
    "start_time": "2023-01-24T16:41:17.881Z"
   },
   {
    "duration": 757,
    "start_time": "2023-01-24T16:41:18.424Z"
   },
   {
    "duration": 4,
    "start_time": "2023-01-24T16:42:01.812Z"
   },
   {
    "duration": 3,
    "start_time": "2023-01-24T16:42:02.810Z"
   },
   {
    "duration": 7,
    "start_time": "2023-01-24T16:42:03.234Z"
   },
   {
    "duration": 352,
    "start_time": "2023-01-24T16:42:03.715Z"
   },
   {
    "duration": 4,
    "start_time": "2023-01-24T16:42:58.996Z"
   },
   {
    "duration": 3,
    "start_time": "2023-01-24T16:42:59.420Z"
   },
   {
    "duration": 2,
    "start_time": "2023-01-24T16:42:59.818Z"
   },
   {
    "duration": 399,
    "start_time": "2023-01-24T16:43:00.267Z"
   },
   {
    "duration": 4,
    "start_time": "2023-01-24T16:43:54.666Z"
   },
   {
    "duration": 3,
    "start_time": "2023-01-24T16:43:55.614Z"
   },
   {
    "duration": 3,
    "start_time": "2023-01-24T16:43:56.054Z"
   },
   {
    "duration": 429,
    "start_time": "2023-01-24T16:43:56.529Z"
   },
   {
    "duration": 10,
    "start_time": "2023-01-24T16:47:14.303Z"
   },
   {
    "duration": 1823,
    "start_time": "2023-01-24T16:48:44.602Z"
   },
   {
    "duration": 157,
    "start_time": "2023-01-24T16:48:46.427Z"
   },
   {
    "duration": 21,
    "start_time": "2023-01-24T16:48:46.585Z"
   },
   {
    "duration": 3,
    "start_time": "2023-01-24T16:48:46.608Z"
   },
   {
    "duration": 9,
    "start_time": "2023-01-24T16:48:46.612Z"
   },
   {
    "duration": 7,
    "start_time": "2023-01-24T16:48:46.623Z"
   },
   {
    "duration": 3,
    "start_time": "2023-01-24T16:48:46.646Z"
   },
   {
    "duration": 17,
    "start_time": "2023-01-24T16:48:46.654Z"
   },
   {
    "duration": 4,
    "start_time": "2023-01-24T16:48:46.672Z"
   },
   {
    "duration": 341,
    "start_time": "2023-01-24T16:48:46.678Z"
   },
   {
    "duration": 315,
    "start_time": "2023-01-24T16:48:47.020Z"
   },
   {
    "duration": 343,
    "start_time": "2023-01-24T16:48:47.343Z"
   },
   {
    "duration": 333,
    "start_time": "2023-01-24T16:48:47.687Z"
   },
   {
    "duration": 4,
    "start_time": "2023-01-24T16:48:48.022Z"
   },
   {
    "duration": 6,
    "start_time": "2023-01-24T16:48:48.027Z"
   },
   {
    "duration": 32,
    "start_time": "2023-01-24T16:48:48.034Z"
   },
   {
    "duration": 295,
    "start_time": "2023-01-24T16:48:48.067Z"
   },
   {
    "duration": 139,
    "start_time": "2023-01-24T16:48:48.367Z"
   },
   {
    "duration": 5,
    "start_time": "2023-01-24T16:48:48.508Z"
   },
   {
    "duration": 16,
    "start_time": "2023-01-24T16:48:48.514Z"
   },
   {
    "duration": 16,
    "start_time": "2023-01-24T16:48:48.532Z"
   },
   {
    "duration": 21,
    "start_time": "2023-01-24T16:48:48.552Z"
   },
   {
    "duration": 4,
    "start_time": "2023-01-24T16:55:34.297Z"
   },
   {
    "duration": 49,
    "start_time": "2023-01-24T16:58:19.834Z"
   },
   {
    "duration": 116,
    "start_time": "2023-01-24T16:58:23.607Z"
   },
   {
    "duration": 3,
    "start_time": "2023-01-24T16:58:30.183Z"
   },
   {
    "duration": 5,
    "start_time": "2023-01-24T16:58:31.123Z"
   },
   {
    "duration": 23,
    "start_time": "2023-01-24T16:58:32.225Z"
   },
   {
    "duration": 24,
    "start_time": "2023-01-24T16:59:26.352Z"
   },
   {
    "duration": 10,
    "start_time": "2023-01-24T16:59:46.226Z"
   },
   {
    "duration": 6,
    "start_time": "2023-01-24T16:59:51.447Z"
   },
   {
    "duration": 6,
    "start_time": "2023-01-24T17:00:29.233Z"
   },
   {
    "duration": 9,
    "start_time": "2023-01-24T17:03:09.872Z"
   },
   {
    "duration": 1730,
    "start_time": "2023-01-24T17:03:50.152Z"
   },
   {
    "duration": 109,
    "start_time": "2023-01-24T17:03:51.884Z"
   },
   {
    "duration": 21,
    "start_time": "2023-01-24T17:03:51.994Z"
   },
   {
    "duration": 4,
    "start_time": "2023-01-24T17:03:52.016Z"
   },
   {
    "duration": 17,
    "start_time": "2023-01-24T17:03:52.022Z"
   },
   {
    "duration": 20,
    "start_time": "2023-01-24T17:03:52.040Z"
   },
   {
    "duration": 8,
    "start_time": "2023-01-24T17:03:52.061Z"
   },
   {
    "duration": 6,
    "start_time": "2023-01-24T17:03:52.071Z"
   },
   {
    "duration": 3,
    "start_time": "2023-01-24T17:03:52.079Z"
   },
   {
    "duration": 304,
    "start_time": "2023-01-24T17:03:52.084Z"
   },
   {
    "duration": 341,
    "start_time": "2023-01-24T17:03:52.390Z"
   },
   {
    "duration": 296,
    "start_time": "2023-01-24T17:03:52.732Z"
   },
   {
    "duration": 294,
    "start_time": "2023-01-24T17:03:53.030Z"
   },
   {
    "duration": 4,
    "start_time": "2023-01-24T17:03:53.327Z"
   },
   {
    "duration": 28,
    "start_time": "2023-01-24T17:03:53.332Z"
   },
   {
    "duration": 19,
    "start_time": "2023-01-24T17:03:53.362Z"
   },
   {
    "duration": 284,
    "start_time": "2023-01-24T17:03:53.382Z"
   },
   {
    "duration": 141,
    "start_time": "2023-01-24T17:03:53.667Z"
   },
   {
    "duration": 6,
    "start_time": "2023-01-24T17:03:53.810Z"
   },
   {
    "duration": 31,
    "start_time": "2023-01-24T17:03:53.817Z"
   },
   {
    "duration": 30,
    "start_time": "2023-01-24T17:03:53.850Z"
   },
   {
    "duration": 13,
    "start_time": "2023-01-24T17:03:53.882Z"
   },
   {
    "duration": 23,
    "start_time": "2023-01-24T17:03:53.897Z"
   },
   {
    "duration": 30,
    "start_time": "2023-01-24T17:03:53.922Z"
   },
   {
    "duration": 38,
    "start_time": "2023-01-24T17:03:53.954Z"
   },
   {
    "duration": 32,
    "start_time": "2023-01-24T17:03:53.993Z"
   },
   {
    "duration": 152,
    "start_time": "2023-01-24T17:03:54.026Z"
   },
   {
    "duration": 6,
    "start_time": "2023-01-24T17:04:43.170Z"
   },
   {
    "duration": 6,
    "start_time": "2023-01-24T17:05:03.172Z"
   },
   {
    "duration": 7,
    "start_time": "2023-01-24T17:05:25.806Z"
   },
   {
    "duration": 1552,
    "start_time": "2023-01-24T17:06:03.480Z"
   },
   {
    "duration": 102,
    "start_time": "2023-01-24T17:06:05.034Z"
   },
   {
    "duration": 20,
    "start_time": "2023-01-24T17:06:05.137Z"
   },
   {
    "duration": 2,
    "start_time": "2023-01-24T17:06:05.159Z"
   },
   {
    "duration": 29,
    "start_time": "2023-01-24T17:06:05.163Z"
   },
   {
    "duration": 7,
    "start_time": "2023-01-24T17:06:05.194Z"
   },
   {
    "duration": 5,
    "start_time": "2023-01-24T17:06:05.202Z"
   },
   {
    "duration": 12,
    "start_time": "2023-01-24T17:06:05.208Z"
   },
   {
    "duration": 3,
    "start_time": "2023-01-24T17:06:05.222Z"
   },
   {
    "duration": 284,
    "start_time": "2023-01-24T17:06:05.227Z"
   },
   {
    "duration": 296,
    "start_time": "2023-01-24T17:06:05.513Z"
   },
   {
    "duration": 288,
    "start_time": "2023-01-24T17:06:05.811Z"
   },
   {
    "duration": 285,
    "start_time": "2023-01-24T17:06:06.100Z"
   },
   {
    "duration": 4,
    "start_time": "2023-01-24T17:06:06.387Z"
   },
   {
    "duration": 9,
    "start_time": "2023-01-24T17:06:06.392Z"
   },
   {
    "duration": 52,
    "start_time": "2023-01-24T17:06:06.403Z"
   },
   {
    "duration": 284,
    "start_time": "2023-01-24T17:06:06.457Z"
   },
   {
    "duration": 129,
    "start_time": "2023-01-24T17:06:06.742Z"
   },
   {
    "duration": 5,
    "start_time": "2023-01-24T17:06:06.873Z"
   },
   {
    "duration": 19,
    "start_time": "2023-01-24T17:06:06.880Z"
   },
   {
    "duration": 20,
    "start_time": "2023-01-24T17:06:06.900Z"
   },
   {
    "duration": 7,
    "start_time": "2023-01-24T17:06:06.921Z"
   },
   {
    "duration": 24,
    "start_time": "2023-01-24T17:06:06.929Z"
   },
   {
    "duration": 12,
    "start_time": "2023-01-24T17:06:06.954Z"
   },
   {
    "duration": 5,
    "start_time": "2023-01-24T17:06:06.967Z"
   },
   {
    "duration": 12,
    "start_time": "2023-01-24T17:06:06.973Z"
   },
   {
    "duration": 25,
    "start_time": "2023-01-24T17:06:06.987Z"
   },
   {
    "duration": 128,
    "start_time": "2023-01-24T17:06:18.395Z"
   },
   {
    "duration": 6,
    "start_time": "2023-01-24T17:06:29.197Z"
   },
   {
    "duration": 4,
    "start_time": "2023-01-24T17:06:51.292Z"
   },
   {
    "duration": 3,
    "start_time": "2023-01-24T17:07:02.899Z"
   },
   {
    "duration": 4,
    "start_time": "2023-01-24T17:07:08.274Z"
   },
   {
    "duration": 7,
    "start_time": "2023-01-24T17:07:19.953Z"
   },
   {
    "duration": 7,
    "start_time": "2023-01-24T17:07:30.553Z"
   },
   {
    "duration": 13,
    "start_time": "2023-01-24T17:08:04.316Z"
   },
   {
    "duration": 4,
    "start_time": "2023-01-24T17:23:20.273Z"
   },
   {
    "duration": 58,
    "start_time": "2023-01-24T17:24:47.088Z"
   },
   {
    "duration": 17,
    "start_time": "2023-01-24T17:25:53.352Z"
   },
   {
    "duration": 26,
    "start_time": "2023-01-24T17:26:52.740Z"
   },
   {
    "duration": 4,
    "start_time": "2023-01-24T17:30:46.174Z"
   },
   {
    "duration": 24,
    "start_time": "2023-01-24T17:33:34.502Z"
   },
   {
    "duration": 4,
    "start_time": "2023-01-24T17:34:44.366Z"
   },
   {
    "duration": 3,
    "start_time": "2023-01-24T17:34:57.272Z"
   },
   {
    "duration": 1881,
    "start_time": "2023-01-24T17:35:13.626Z"
   },
   {
    "duration": 102,
    "start_time": "2023-01-24T17:35:15.509Z"
   },
   {
    "duration": 25,
    "start_time": "2023-01-24T17:35:15.613Z"
   },
   {
    "duration": 3,
    "start_time": "2023-01-24T17:35:15.640Z"
   },
   {
    "duration": 39,
    "start_time": "2023-01-24T17:35:15.646Z"
   },
   {
    "duration": 51,
    "start_time": "2023-01-24T17:35:15.687Z"
   },
   {
    "duration": 37,
    "start_time": "2023-01-24T17:35:15.740Z"
   },
   {
    "duration": 52,
    "start_time": "2023-01-24T17:35:15.778Z"
   },
   {
    "duration": 25,
    "start_time": "2023-01-24T17:35:15.832Z"
   },
   {
    "duration": 350,
    "start_time": "2023-01-24T17:35:15.859Z"
   },
   {
    "duration": 299,
    "start_time": "2023-01-24T17:35:16.211Z"
   },
   {
    "duration": 283,
    "start_time": "2023-01-24T17:35:16.512Z"
   },
   {
    "duration": 278,
    "start_time": "2023-01-24T17:35:16.797Z"
   },
   {
    "duration": 4,
    "start_time": "2023-01-24T17:35:17.077Z"
   },
   {
    "duration": 6,
    "start_time": "2023-01-24T17:35:17.082Z"
   },
   {
    "duration": 6,
    "start_time": "2023-01-24T17:35:17.089Z"
   },
   {
    "duration": 172,
    "start_time": "2023-01-24T17:35:17.096Z"
   },
   {
    "duration": 226,
    "start_time": "2023-01-24T17:35:17.270Z"
   },
   {
    "duration": 5,
    "start_time": "2023-01-24T17:35:17.497Z"
   },
   {
    "duration": 13,
    "start_time": "2023-01-24T17:35:17.504Z"
   },
   {
    "duration": 23,
    "start_time": "2023-01-24T17:35:17.518Z"
   },
   {
    "duration": 4,
    "start_time": "2023-01-24T17:35:17.542Z"
   },
   {
    "duration": 29,
    "start_time": "2023-01-24T17:35:17.547Z"
   },
   {
    "duration": 5,
    "start_time": "2023-01-24T17:35:17.577Z"
   },
   {
    "duration": 5,
    "start_time": "2023-01-24T17:35:17.583Z"
   },
   {
    "duration": 10,
    "start_time": "2023-01-24T17:35:17.589Z"
   },
   {
    "duration": 12,
    "start_time": "2023-01-24T17:35:17.600Z"
   },
   {
    "duration": 3,
    "start_time": "2023-01-24T17:35:17.613Z"
   },
   {
    "duration": 21,
    "start_time": "2023-01-24T17:35:17.617Z"
   },
   {
    "duration": 314,
    "start_time": "2023-01-24T17:35:17.639Z"
   },
   {
    "duration": 3,
    "start_time": "2023-01-24T17:35:42.079Z"
   },
   {
    "duration": 4,
    "start_time": "2023-01-24T17:35:47.026Z"
   },
   {
    "duration": 1622,
    "start_time": "2023-01-24T17:37:43.233Z"
   },
   {
    "duration": 102,
    "start_time": "2023-01-24T17:37:44.857Z"
   },
   {
    "duration": 20,
    "start_time": "2023-01-24T17:37:44.960Z"
   },
   {
    "duration": 11,
    "start_time": "2023-01-24T17:37:44.982Z"
   },
   {
    "duration": 36,
    "start_time": "2023-01-24T17:37:44.994Z"
   },
   {
    "duration": 18,
    "start_time": "2023-01-24T17:37:45.031Z"
   },
   {
    "duration": 30,
    "start_time": "2023-01-24T17:37:45.051Z"
   },
   {
    "duration": 24,
    "start_time": "2023-01-24T17:37:45.082Z"
   },
   {
    "duration": 23,
    "start_time": "2023-01-24T17:37:45.108Z"
   },
   {
    "duration": 299,
    "start_time": "2023-01-24T17:37:45.133Z"
   },
   {
    "duration": 280,
    "start_time": "2023-01-24T17:37:45.437Z"
   },
   {
    "duration": 289,
    "start_time": "2023-01-24T17:37:45.719Z"
   },
   {
    "duration": 286,
    "start_time": "2023-01-24T17:37:46.009Z"
   },
   {
    "duration": 5,
    "start_time": "2023-01-24T17:37:46.296Z"
   },
   {
    "duration": 18,
    "start_time": "2023-01-24T17:37:46.302Z"
   },
   {
    "duration": 41,
    "start_time": "2023-01-24T17:37:46.321Z"
   },
   {
    "duration": 261,
    "start_time": "2023-01-24T17:37:46.364Z"
   },
   {
    "duration": 125,
    "start_time": "2023-01-24T17:37:46.626Z"
   },
   {
    "duration": 5,
    "start_time": "2023-01-24T17:37:46.752Z"
   },
   {
    "duration": 25,
    "start_time": "2023-01-24T17:37:46.759Z"
   },
   {
    "duration": 24,
    "start_time": "2023-01-24T17:37:46.786Z"
   },
   {
    "duration": 18,
    "start_time": "2023-01-24T17:37:46.812Z"
   },
   {
    "duration": 59,
    "start_time": "2023-01-24T17:37:46.832Z"
   },
   {
    "duration": 39,
    "start_time": "2023-01-24T17:37:46.893Z"
   },
   {
    "duration": 19,
    "start_time": "2023-01-24T17:37:46.934Z"
   },
   {
    "duration": 45,
    "start_time": "2023-01-24T17:37:46.955Z"
   },
   {
    "duration": 140,
    "start_time": "2023-01-24T17:37:47.002Z"
   },
   {
    "duration": 0,
    "start_time": "2023-01-24T17:37:47.143Z"
   },
   {
    "duration": 0,
    "start_time": "2023-01-24T17:37:47.144Z"
   },
   {
    "duration": 4,
    "start_time": "2023-01-24T17:38:18.444Z"
   },
   {
    "duration": 3,
    "start_time": "2023-01-24T17:38:19.577Z"
   },
   {
    "duration": 251,
    "start_time": "2023-01-24T17:38:20.686Z"
   },
   {
    "duration": 5,
    "start_time": "2023-01-24T17:38:55.179Z"
   },
   {
    "duration": 4,
    "start_time": "2023-01-24T17:38:55.801Z"
   },
   {
    "duration": 241,
    "start_time": "2023-01-24T17:38:56.596Z"
   },
   {
    "duration": 4,
    "start_time": "2023-01-24T17:43:43.416Z"
   },
   {
    "duration": 14,
    "start_time": "2023-01-24T17:43:46.300Z"
   },
   {
    "duration": 5,
    "start_time": "2023-01-24T17:43:58.924Z"
   },
   {
    "duration": 5,
    "start_time": "2023-01-24T17:43:59.827Z"
   },
   {
    "duration": 355,
    "start_time": "2023-01-24T17:44:02.690Z"
   },
   {
    "duration": 4,
    "start_time": "2023-01-24T17:44:30.920Z"
   },
   {
    "duration": 4,
    "start_time": "2023-01-24T17:44:33.910Z"
   },
   {
    "duration": 346,
    "start_time": "2023-01-24T17:44:35.297Z"
   },
   {
    "duration": 4,
    "start_time": "2023-01-24T17:44:55.799Z"
   },
   {
    "duration": 18,
    "start_time": "2023-01-24T17:44:57.102Z"
   },
   {
    "duration": 5782,
    "start_time": "2023-01-24T17:44:57.963Z"
   },
   {
    "duration": 4,
    "start_time": "2023-01-24T17:45:34.621Z"
   },
   {
    "duration": 16,
    "start_time": "2023-01-24T17:45:35.700Z"
   },
   {
    "duration": 5371,
    "start_time": "2023-01-24T17:45:37.771Z"
   },
   {
    "duration": 15,
    "start_time": "2023-01-24T17:46:17.525Z"
   },
   {
    "duration": 50387,
    "start_time": "2023-01-24T17:46:18.456Z"
   },
   {
    "duration": 6,
    "start_time": "2023-01-24T17:48:17.819Z"
   },
   {
    "duration": 30240,
    "start_time": "2023-01-24T17:48:19.616Z"
   },
   {
    "duration": 7,
    "start_time": "2023-01-24T17:50:12.419Z"
   },
   {
    "duration": 33797,
    "start_time": "2023-01-24T17:50:14.357Z"
   },
   {
    "duration": 8,
    "start_time": "2023-01-24T17:51:54.025Z"
   },
   {
    "duration": 40460,
    "start_time": "2023-01-24T17:51:55.182Z"
   },
   {
    "duration": 7,
    "start_time": "2023-01-24T17:52:51.924Z"
   },
   {
    "duration": 35683,
    "start_time": "2023-01-24T17:52:53.163Z"
   },
   {
    "duration": 4,
    "start_time": "2023-01-24T17:54:15.581Z"
   },
   {
    "duration": 7,
    "start_time": "2023-01-24T17:54:18.758Z"
   },
   {
    "duration": 34229,
    "start_time": "2023-01-24T17:54:20.328Z"
   },
   {
    "duration": 5,
    "start_time": "2023-01-24T17:56:13.968Z"
   },
   {
    "duration": 14,
    "start_time": "2023-01-24T17:56:16.812Z"
   },
   {
    "duration": 5,
    "start_time": "2023-01-24T17:56:46.681Z"
   },
   {
    "duration": 8,
    "start_time": "2023-01-24T17:56:49.512Z"
   },
   {
    "duration": 32804,
    "start_time": "2023-01-24T17:56:52.252Z"
   },
   {
    "duration": 5,
    "start_time": "2023-01-24T17:58:42.213Z"
   },
   {
    "duration": 7,
    "start_time": "2023-01-24T17:58:43.648Z"
   },
   {
    "duration": 4,
    "start_time": "2023-01-24T17:59:22.046Z"
   },
   {
    "duration": 23,
    "start_time": "2023-01-24T17:59:22.052Z"
   },
   {
    "duration": 32663,
    "start_time": "2023-01-24T17:59:22.077Z"
   },
   {
    "duration": 5,
    "start_time": "2023-01-24T18:00:17.873Z"
   },
   {
    "duration": 7,
    "start_time": "2023-01-24T18:00:19.700Z"
   },
   {
    "duration": 36769,
    "start_time": "2023-01-24T18:00:21.184Z"
   },
   {
    "duration": 5,
    "start_time": "2023-01-24T18:01:07.291Z"
   },
   {
    "duration": 7,
    "start_time": "2023-01-24T18:01:08.264Z"
   },
   {
    "duration": 41251,
    "start_time": "2023-01-24T18:01:09.202Z"
   },
   {
    "duration": 5,
    "start_time": "2023-01-24T18:02:26.242Z"
   },
   {
    "duration": 7,
    "start_time": "2023-01-24T18:02:27.765Z"
   },
   {
    "duration": 38097,
    "start_time": "2023-01-24T18:02:29.048Z"
   },
   {
    "duration": 6,
    "start_time": "2023-01-24T18:05:23.907Z"
   },
   {
    "duration": 8,
    "start_time": "2023-01-24T18:05:25.004Z"
   },
   {
    "duration": 52122,
    "start_time": "2023-01-24T18:05:26.326Z"
   },
   {
    "duration": 4,
    "start_time": "2023-01-24T18:06:53.928Z"
   },
   {
    "duration": 6,
    "start_time": "2023-01-24T18:06:57.068Z"
   },
   {
    "duration": 5,
    "start_time": "2023-01-24T18:07:40.843Z"
   },
   {
    "duration": 11,
    "start_time": "2023-01-24T18:07:40.849Z"
   },
   {
    "duration": 39895,
    "start_time": "2023-01-24T18:07:40.862Z"
   },
   {
    "duration": 7,
    "start_time": "2023-01-24T18:08:48.380Z"
   },
   {
    "duration": 34700,
    "start_time": "2023-01-24T18:08:49.544Z"
   },
   {
    "duration": 5,
    "start_time": "2023-01-24T18:10:23.953Z"
   },
   {
    "duration": 6,
    "start_time": "2023-01-24T18:10:26.933Z"
   },
   {
    "duration": 23128,
    "start_time": "2023-01-24T18:10:28.230Z"
   },
   {
    "duration": 5,
    "start_time": "2023-01-24T18:10:51.372Z"
   },
   {
    "duration": 12300,
    "start_time": "2023-01-24T18:10:52.451Z"
   },
   {
    "duration": 4,
    "start_time": "2023-01-24T18:11:11.304Z"
   },
   {
    "duration": 12111,
    "start_time": "2023-01-24T18:11:12.350Z"
   },
   {
    "duration": 4,
    "start_time": "2023-01-24T18:12:03.936Z"
   },
   {
    "duration": 11222,
    "start_time": "2023-01-24T18:12:04.924Z"
   },
   {
    "duration": 5,
    "start_time": "2023-01-24T18:12:24.976Z"
   },
   {
    "duration": 28984,
    "start_time": "2023-01-24T18:12:27.173Z"
   },
   {
    "duration": 6,
    "start_time": "2023-01-24T18:13:10.440Z"
   },
   {
    "duration": 37543,
    "start_time": "2023-01-24T18:13:11.597Z"
   },
   {
    "duration": 7,
    "start_time": "2023-01-24T18:14:01.108Z"
   },
   {
    "duration": 5,
    "start_time": "2023-01-24T18:15:07.644Z"
   },
   {
    "duration": 17606,
    "start_time": "2023-01-24T18:15:07.651Z"
   },
   {
    "duration": 6,
    "start_time": "2023-01-24T18:15:38.092Z"
   },
   {
    "duration": 35449,
    "start_time": "2023-01-24T18:15:39.201Z"
   },
   {
    "duration": 1617,
    "start_time": "2023-01-24T18:16:47.603Z"
   },
   {
    "duration": 105,
    "start_time": "2023-01-24T18:16:49.222Z"
   },
   {
    "duration": 21,
    "start_time": "2023-01-24T18:16:49.329Z"
   },
   {
    "duration": 2,
    "start_time": "2023-01-24T18:16:49.352Z"
   },
   {
    "duration": 13,
    "start_time": "2023-01-24T18:16:49.356Z"
   },
   {
    "duration": 11,
    "start_time": "2023-01-24T18:16:49.371Z"
   },
   {
    "duration": 12,
    "start_time": "2023-01-24T18:16:49.384Z"
   },
   {
    "duration": 9,
    "start_time": "2023-01-24T18:16:49.397Z"
   },
   {
    "duration": 7,
    "start_time": "2023-01-24T18:16:49.407Z"
   },
   {
    "duration": 279,
    "start_time": "2023-01-24T18:16:49.417Z"
   },
   {
    "duration": 293,
    "start_time": "2023-01-24T18:16:49.698Z"
   },
   {
    "duration": 272,
    "start_time": "2023-01-24T18:16:49.992Z"
   },
   {
    "duration": 314,
    "start_time": "2023-01-24T18:16:50.265Z"
   },
   {
    "duration": 4,
    "start_time": "2023-01-24T18:16:50.581Z"
   },
   {
    "duration": 10,
    "start_time": "2023-01-24T18:16:50.587Z"
   },
   {
    "duration": 7,
    "start_time": "2023-01-24T18:16:50.598Z"
   },
   {
    "duration": 5,
    "start_time": "2023-01-24T18:16:50.607Z"
   },
   {
    "duration": 261,
    "start_time": "2023-01-24T18:16:50.613Z"
   },
   {
    "duration": 127,
    "start_time": "2023-01-24T18:16:50.876Z"
   },
   {
    "duration": 5,
    "start_time": "2023-01-24T18:16:51.005Z"
   },
   {
    "duration": 15,
    "start_time": "2023-01-24T18:16:51.011Z"
   },
   {
    "duration": 17,
    "start_time": "2023-01-24T18:16:51.036Z"
   },
   {
    "duration": 4,
    "start_time": "2023-01-24T18:16:51.055Z"
   },
   {
    "duration": 8,
    "start_time": "2023-01-24T18:16:51.060Z"
   },
   {
    "duration": 16,
    "start_time": "2023-01-24T18:16:51.070Z"
   },
   {
    "duration": 12,
    "start_time": "2023-01-24T18:16:51.088Z"
   },
   {
    "duration": 37348,
    "start_time": "2023-01-24T18:16:51.101Z"
   },
   {
    "duration": 6,
    "start_time": "2023-01-24T18:17:41.535Z"
   },
   {
    "duration": 33039,
    "start_time": "2023-01-24T18:17:42.514Z"
   },
   {
    "duration": 6,
    "start_time": "2023-01-24T18:18:28.462Z"
   },
   {
    "duration": 46638,
    "start_time": "2023-01-24T18:18:29.519Z"
   },
   {
    "duration": 8,
    "start_time": "2023-01-24T18:21:00.145Z"
   },
   {
    "duration": 74031,
    "start_time": "2023-01-24T18:21:01.018Z"
   },
   {
    "duration": 8,
    "start_time": "2023-01-24T18:28:57.422Z"
   },
   {
    "duration": 8,
    "start_time": "2023-01-24T18:29:11.931Z"
   },
   {
    "duration": 4,
    "start_time": "2023-01-24T18:30:36.652Z"
   },
   {
    "duration": 10690,
    "start_time": "2023-01-24T18:30:36.658Z"
   },
   {
    "duration": 7,
    "start_time": "2023-01-24T18:31:19.723Z"
   },
   {
    "duration": 72540,
    "start_time": "2023-01-24T18:31:21.716Z"
   },
   {
    "duration": 118,
    "start_time": "2023-01-24T18:33:04.930Z"
   },
   {
    "duration": 12,
    "start_time": "2023-01-24T18:33:10.386Z"
   },
   {
    "duration": 748,
    "start_time": "2023-01-24T18:33:12.027Z"
   },
   {
    "duration": 8,
    "start_time": "2023-01-24T18:34:06.811Z"
   },
   {
    "duration": 44209,
    "start_time": "2023-01-24T18:34:07.835Z"
   },
   {
    "duration": 68,
    "start_time": "2023-01-24T18:36:44.985Z"
   },
   {
    "duration": 5,
    "start_time": "2023-01-24T18:37:26.180Z"
   },
   {
    "duration": 41510,
    "start_time": "2023-01-24T18:37:42.539Z"
   },
   {
    "duration": 4,
    "start_time": "2023-01-24T18:40:07.057Z"
   },
   {
    "duration": 4,
    "start_time": "2023-01-24T18:40:14.792Z"
   },
   {
    "duration": 3,
    "start_time": "2023-01-24T18:41:04.301Z"
   },
   {
    "duration": 55,
    "start_time": "2023-01-24T18:47:31.745Z"
   },
   {
    "duration": 203366,
    "start_time": "2023-01-24T18:47:47.889Z"
   },
   {
    "duration": 4,
    "start_time": "2023-01-24T18:51:16.682Z"
   },
   {
    "duration": 2,
    "start_time": "2023-01-24T18:51:18.956Z"
   },
   {
    "duration": 3,
    "start_time": "2023-01-24T18:51:20.315Z"
   },
   {
    "duration": 314830,
    "start_time": "2023-01-24T18:51:21.819Z"
   },
   {
    "duration": 4,
    "start_time": "2023-01-24T18:56:56.043Z"
   },
   {
    "duration": 3,
    "start_time": "2023-01-24T18:56:57.628Z"
   },
   {
    "duration": 3,
    "start_time": "2023-01-24T18:56:58.542Z"
   },
   {
    "duration": 123378,
    "start_time": "2023-01-24T18:56:59.183Z"
   },
   {
    "duration": 45500,
    "start_time": "2023-01-24T18:59:27.453Z"
   },
   {
    "duration": 4,
    "start_time": "2023-01-24T19:00:17.175Z"
   },
   {
    "duration": 3,
    "start_time": "2023-01-24T19:00:18.610Z"
   },
   {
    "duration": 3,
    "start_time": "2023-01-24T19:00:19.028Z"
   },
   {
    "duration": 16148,
    "start_time": "2023-01-24T19:00:19.613Z"
   },
   {
    "duration": 5,
    "start_time": "2023-01-24T19:00:37.642Z"
   },
   {
    "duration": 3,
    "start_time": "2023-01-24T19:00:38.659Z"
   },
   {
    "duration": 3,
    "start_time": "2023-01-24T19:00:39.093Z"
   },
   {
    "duration": 0,
    "start_time": "2023-01-24T19:00:58.854Z"
   },
   {
    "duration": 0,
    "start_time": "2023-01-24T19:00:58.855Z"
   },
   {
    "duration": 0,
    "start_time": "2023-01-24T19:00:58.857Z"
   },
   {
    "duration": 0,
    "start_time": "2023-01-24T19:00:58.858Z"
   },
   {
    "duration": 4,
    "start_time": "2023-01-24T19:01:29.151Z"
   },
   {
    "duration": 3,
    "start_time": "2023-01-24T19:01:31.097Z"
   },
   {
    "duration": 2,
    "start_time": "2023-01-24T19:01:31.560Z"
   },
   {
    "duration": 18049,
    "start_time": "2023-01-24T19:01:32.106Z"
   },
   {
    "duration": 1713,
    "start_time": "2023-01-24T19:01:54.228Z"
   },
   {
    "duration": 133,
    "start_time": "2023-01-24T19:01:55.944Z"
   },
   {
    "duration": 20,
    "start_time": "2023-01-24T19:01:56.078Z"
   },
   {
    "duration": 5,
    "start_time": "2023-01-24T19:01:56.100Z"
   },
   {
    "duration": 9,
    "start_time": "2023-01-24T19:01:56.106Z"
   },
   {
    "duration": 25,
    "start_time": "2023-01-24T19:01:56.116Z"
   },
   {
    "duration": 5,
    "start_time": "2023-01-24T19:01:56.142Z"
   },
   {
    "duration": 7,
    "start_time": "2023-01-24T19:01:56.148Z"
   },
   {
    "duration": 6,
    "start_time": "2023-01-24T19:01:56.157Z"
   },
   {
    "duration": 310,
    "start_time": "2023-01-24T19:01:56.165Z"
   },
   {
    "duration": 289,
    "start_time": "2023-01-24T19:01:56.477Z"
   },
   {
    "duration": 289,
    "start_time": "2023-01-24T19:01:56.767Z"
   },
   {
    "duration": 328,
    "start_time": "2023-01-24T19:01:57.057Z"
   },
   {
    "duration": 4,
    "start_time": "2023-01-24T19:01:57.389Z"
   },
   {
    "duration": 20,
    "start_time": "2023-01-24T19:01:57.395Z"
   },
   {
    "duration": 30,
    "start_time": "2023-01-24T19:01:57.416Z"
   },
   {
    "duration": 17,
    "start_time": "2023-01-24T19:01:57.447Z"
   },
   {
    "duration": 283,
    "start_time": "2023-01-24T19:01:57.466Z"
   },
   {
    "duration": 134,
    "start_time": "2023-01-24T19:01:57.751Z"
   },
   {
    "duration": 6,
    "start_time": "2023-01-24T19:01:57.887Z"
   },
   {
    "duration": 27,
    "start_time": "2023-01-24T19:01:57.895Z"
   },
   {
    "duration": 42,
    "start_time": "2023-01-24T19:01:57.923Z"
   },
   {
    "duration": 25,
    "start_time": "2023-01-24T19:01:57.966Z"
   },
   {
    "duration": 22,
    "start_time": "2023-01-24T19:01:57.993Z"
   },
   {
    "duration": 26,
    "start_time": "2023-01-24T19:01:58.017Z"
   },
   {
    "duration": 34,
    "start_time": "2023-01-24T19:01:58.045Z"
   },
   {
    "duration": 19,
    "start_time": "2023-01-24T19:01:58.080Z"
   },
   {
    "duration": 13,
    "start_time": "2023-01-24T19:01:58.101Z"
   },
   {
    "duration": 140,
    "start_time": "2023-01-24T19:01:58.116Z"
   },
   {
    "duration": 6,
    "start_time": "2023-01-24T19:03:14.789Z"
   },
   {
    "duration": 14,
    "start_time": "2023-01-24T19:03:19.775Z"
   },
   {
    "duration": 3,
    "start_time": "2023-01-24T19:03:42.211Z"
   },
   {
    "duration": 42515,
    "start_time": "2023-01-24T19:03:48.534Z"
   },
   {
    "duration": 350475,
    "start_time": "2023-01-24T19:05:32.884Z"
   },
   {
    "duration": 40811,
    "start_time": "2023-01-24T19:36:33.254Z"
   },
   {
    "duration": 7,
    "start_time": "2023-01-24T19:39:13.543Z"
   },
   {
    "duration": 3,
    "start_time": "2023-01-24T19:39:15.852Z"
   },
   {
    "duration": 6,
    "start_time": "2023-01-24T19:39:46.834Z"
   },
   {
    "duration": 18718,
    "start_time": "2023-01-24T19:39:48.537Z"
   },
   {
    "duration": 1,
    "start_time": "2023-01-24T19:40:07.256Z"
   },
   {
    "duration": 209,
    "start_time": "2023-01-24T19:40:14.910Z"
   },
   {
    "duration": 439736,
    "start_time": "2023-01-24T19:40:20.634Z"
   },
   {
    "duration": 1732,
    "start_time": "2023-01-24T19:47:45.023Z"
   },
   {
    "duration": 110,
    "start_time": "2023-01-24T19:47:46.757Z"
   },
   {
    "duration": 21,
    "start_time": "2023-01-24T19:47:46.869Z"
   },
   {
    "duration": 24,
    "start_time": "2023-01-24T19:47:46.892Z"
   },
   {
    "duration": 25,
    "start_time": "2023-01-24T19:47:46.917Z"
   },
   {
    "duration": 15,
    "start_time": "2023-01-24T19:47:46.952Z"
   },
   {
    "duration": 35,
    "start_time": "2023-01-24T19:47:46.968Z"
   },
   {
    "duration": 13,
    "start_time": "2023-01-24T19:47:47.004Z"
   },
   {
    "duration": 38,
    "start_time": "2023-01-24T19:47:47.019Z"
   },
   {
    "duration": 310,
    "start_time": "2023-01-24T19:47:47.060Z"
   },
   {
    "duration": 319,
    "start_time": "2023-01-24T19:47:47.372Z"
   },
   {
    "duration": 357,
    "start_time": "2023-01-24T19:47:47.693Z"
   },
   {
    "duration": 308,
    "start_time": "2023-01-24T19:47:48.053Z"
   },
   {
    "duration": 8,
    "start_time": "2023-01-24T19:47:48.363Z"
   },
   {
    "duration": 15,
    "start_time": "2023-01-24T19:47:48.372Z"
   },
   {
    "duration": 5,
    "start_time": "2023-01-24T19:47:48.389Z"
   },
   {
    "duration": 8,
    "start_time": "2023-01-24T19:47:48.395Z"
   },
   {
    "duration": 275,
    "start_time": "2023-01-24T19:47:48.404Z"
   },
   {
    "duration": 138,
    "start_time": "2023-01-24T19:47:48.680Z"
   },
   {
    "duration": 6,
    "start_time": "2023-01-24T19:47:48.820Z"
   },
   {
    "duration": 20,
    "start_time": "2023-01-24T19:47:48.838Z"
   },
   {
    "duration": 16,
    "start_time": "2023-01-24T19:47:48.860Z"
   },
   {
    "duration": 9,
    "start_time": "2023-01-24T19:47:48.878Z"
   },
   {
    "duration": 3,
    "start_time": "2023-01-24T19:47:48.889Z"
   },
   {
    "duration": 5,
    "start_time": "2023-01-24T19:47:48.894Z"
   },
   {
    "duration": 131,
    "start_time": "2023-01-24T19:47:48.901Z"
   },
   {
    "duration": 0,
    "start_time": "2023-01-24T19:47:49.040Z"
   },
   {
    "duration": 0,
    "start_time": "2023-01-24T19:47:49.041Z"
   },
   {
    "duration": 0,
    "start_time": "2023-01-24T19:47:49.042Z"
   },
   {
    "duration": 0,
    "start_time": "2023-01-24T19:47:49.043Z"
   },
   {
    "duration": 0,
    "start_time": "2023-01-24T19:47:49.044Z"
   },
   {
    "duration": 239,
    "start_time": "2023-01-24T19:48:12.864Z"
   },
   {
    "duration": 7,
    "start_time": "2023-01-24T19:49:00.094Z"
   },
   {
    "duration": 4,
    "start_time": "2023-01-24T19:49:01.570Z"
   },
   {
    "duration": 5,
    "start_time": "2023-01-24T19:49:04.350Z"
   },
   {
    "duration": 3,
    "start_time": "2023-01-24T19:49:05.421Z"
   },
   {
    "duration": 185269,
    "start_time": "2023-01-24T19:49:07.404Z"
   },
   {
    "duration": 1811,
    "start_time": "2023-01-24T19:54:20.584Z"
   },
   {
    "duration": 137,
    "start_time": "2023-01-24T19:54:22.398Z"
   },
   {
    "duration": 35,
    "start_time": "2023-01-24T19:54:22.538Z"
   },
   {
    "duration": 12,
    "start_time": "2023-01-24T19:54:22.575Z"
   },
   {
    "duration": 13,
    "start_time": "2023-01-24T19:54:22.589Z"
   },
   {
    "duration": 17,
    "start_time": "2023-01-24T19:54:22.604Z"
   },
   {
    "duration": 5,
    "start_time": "2023-01-24T19:54:22.623Z"
   },
   {
    "duration": 14,
    "start_time": "2023-01-24T19:54:22.630Z"
   },
   {
    "duration": 23,
    "start_time": "2023-01-24T19:54:22.645Z"
   },
   {
    "duration": 316,
    "start_time": "2023-01-24T19:54:22.671Z"
   },
   {
    "duration": 297,
    "start_time": "2023-01-24T19:54:22.988Z"
   },
   {
    "duration": 301,
    "start_time": "2023-01-24T19:54:23.287Z"
   },
   {
    "duration": 295,
    "start_time": "2023-01-24T19:54:23.590Z"
   },
   {
    "duration": 4,
    "start_time": "2023-01-24T19:54:23.887Z"
   },
   {
    "duration": 397,
    "start_time": "2023-01-24T19:54:23.893Z"
   },
   {
    "duration": 5,
    "start_time": "2023-01-24T19:54:24.291Z"
   },
   {
    "duration": 9,
    "start_time": "2023-01-24T19:54:24.298Z"
   },
   {
    "duration": 10,
    "start_time": "2023-01-24T19:54:24.309Z"
   },
   {
    "duration": 195,
    "start_time": "2023-01-24T19:54:24.321Z"
   },
   {
    "duration": 151,
    "start_time": "2023-01-24T19:54:24.517Z"
   },
   {
    "duration": 5,
    "start_time": "2023-01-24T19:54:24.670Z"
   },
   {
    "duration": 16,
    "start_time": "2023-01-24T19:54:24.676Z"
   },
   {
    "duration": 13,
    "start_time": "2023-01-24T19:54:24.693Z"
   },
   {
    "duration": 5,
    "start_time": "2023-01-24T19:54:24.707Z"
   },
   {
    "duration": 6,
    "start_time": "2023-01-24T19:54:24.713Z"
   },
   {
    "duration": 26,
    "start_time": "2023-01-24T19:54:24.720Z"
   },
   {
    "duration": 26,
    "start_time": "2023-01-24T19:54:24.747Z"
   },
   {
    "duration": 6,
    "start_time": "2023-01-24T19:54:24.776Z"
   },
   {
    "duration": 4,
    "start_time": "2023-01-24T19:54:24.783Z"
   },
   {
    "duration": 10,
    "start_time": "2023-01-24T19:54:24.789Z"
   },
   {
    "duration": 12,
    "start_time": "2023-01-24T19:54:24.800Z"
   },
   {
    "duration": 128754,
    "start_time": "2023-01-24T19:54:24.814Z"
   },
   {
    "duration": 1725,
    "start_time": "2023-01-24T19:56:37.364Z"
   },
   {
    "duration": 112,
    "start_time": "2023-01-24T19:56:39.090Z"
   },
   {
    "duration": 20,
    "start_time": "2023-01-24T19:56:39.204Z"
   },
   {
    "duration": 3,
    "start_time": "2023-01-24T19:56:39.225Z"
   },
   {
    "duration": 34,
    "start_time": "2023-01-24T19:56:39.240Z"
   },
   {
    "duration": 15,
    "start_time": "2023-01-24T19:56:39.275Z"
   },
   {
    "duration": 4,
    "start_time": "2023-01-24T19:56:39.291Z"
   },
   {
    "duration": 11,
    "start_time": "2023-01-24T19:56:39.296Z"
   },
   {
    "duration": 8,
    "start_time": "2023-01-24T19:56:39.309Z"
   },
   {
    "duration": 307,
    "start_time": "2023-01-24T19:56:39.318Z"
   },
   {
    "duration": 304,
    "start_time": "2023-01-24T19:56:39.626Z"
   },
   {
    "duration": 293,
    "start_time": "2023-01-24T19:56:39.931Z"
   },
   {
    "duration": 299,
    "start_time": "2023-01-24T19:56:40.226Z"
   },
   {
    "duration": 12,
    "start_time": "2023-01-24T19:56:40.527Z"
   },
   {
    "duration": 36,
    "start_time": "2023-01-24T19:56:40.541Z"
   },
   {
    "duration": 14,
    "start_time": "2023-01-24T19:56:40.578Z"
   },
   {
    "duration": 9,
    "start_time": "2023-01-24T19:56:40.594Z"
   },
   {
    "duration": 11,
    "start_time": "2023-01-24T19:56:40.604Z"
   },
   {
    "duration": 284,
    "start_time": "2023-01-24T19:56:40.616Z"
   },
   {
    "duration": 149,
    "start_time": "2023-01-24T19:56:40.901Z"
   },
   {
    "duration": 6,
    "start_time": "2023-01-24T19:56:41.052Z"
   },
   {
    "duration": 22,
    "start_time": "2023-01-24T19:56:41.060Z"
   },
   {
    "duration": 14,
    "start_time": "2023-01-24T19:56:41.083Z"
   },
   {
    "duration": 5,
    "start_time": "2023-01-24T19:56:41.098Z"
   },
   {
    "duration": 7,
    "start_time": "2023-01-24T19:56:41.104Z"
   },
   {
    "duration": 13,
    "start_time": "2023-01-24T19:56:41.112Z"
   },
   {
    "duration": 46,
    "start_time": "2023-01-24T19:56:41.126Z"
   },
   {
    "duration": 5,
    "start_time": "2023-01-24T19:56:41.173Z"
   },
   {
    "duration": 7,
    "start_time": "2023-01-24T19:56:41.180Z"
   },
   {
    "duration": 8,
    "start_time": "2023-01-24T19:56:41.188Z"
   },
   {
    "duration": 5,
    "start_time": "2023-01-24T19:56:41.197Z"
   },
   {
    "duration": 197193,
    "start_time": "2023-01-24T19:56:41.203Z"
   },
   {
    "duration": 1746,
    "start_time": "2023-01-24T20:00:03.961Z"
   },
   {
    "duration": 108,
    "start_time": "2023-01-24T20:00:05.710Z"
   },
   {
    "duration": 27,
    "start_time": "2023-01-24T20:00:05.819Z"
   },
   {
    "duration": 22,
    "start_time": "2023-01-24T20:00:05.848Z"
   },
   {
    "duration": 23,
    "start_time": "2023-01-24T20:00:05.872Z"
   },
   {
    "duration": 38,
    "start_time": "2023-01-24T20:00:05.896Z"
   },
   {
    "duration": 60,
    "start_time": "2023-01-24T20:00:05.936Z"
   },
   {
    "duration": 37,
    "start_time": "2023-01-24T20:00:05.998Z"
   },
   {
    "duration": 40,
    "start_time": "2023-01-24T20:00:06.043Z"
   },
   {
    "duration": 370,
    "start_time": "2023-01-24T20:00:06.084Z"
   },
   {
    "duration": 303,
    "start_time": "2023-01-24T20:00:06.455Z"
   },
   {
    "duration": 308,
    "start_time": "2023-01-24T20:00:06.760Z"
   },
   {
    "duration": 310,
    "start_time": "2023-01-24T20:00:07.070Z"
   },
   {
    "duration": 4,
    "start_time": "2023-01-24T20:00:07.382Z"
   },
   {
    "duration": 13,
    "start_time": "2023-01-24T20:00:07.388Z"
   },
   {
    "duration": 12,
    "start_time": "2023-01-24T20:00:07.402Z"
   },
   {
    "duration": 8,
    "start_time": "2023-01-24T20:00:07.415Z"
   },
   {
    "duration": 7,
    "start_time": "2023-01-24T20:00:07.424Z"
   },
   {
    "duration": 283,
    "start_time": "2023-01-24T20:00:07.433Z"
   },
   {
    "duration": 144,
    "start_time": "2023-01-24T20:00:07.718Z"
   },
   {
    "duration": 6,
    "start_time": "2023-01-24T20:00:07.863Z"
   },
   {
    "duration": 20,
    "start_time": "2023-01-24T20:00:07.871Z"
   },
   {
    "duration": 13,
    "start_time": "2023-01-24T20:00:07.893Z"
   },
   {
    "duration": 25,
    "start_time": "2023-01-24T20:00:07.907Z"
   },
   {
    "duration": 32,
    "start_time": "2023-01-24T20:00:07.933Z"
   },
   {
    "duration": 6,
    "start_time": "2023-01-24T20:00:07.967Z"
   },
   {
    "duration": 13,
    "start_time": "2023-01-24T20:00:07.975Z"
   },
   {
    "duration": 6,
    "start_time": "2023-01-24T20:00:07.989Z"
   },
   {
    "duration": 21,
    "start_time": "2023-01-24T20:00:07.996Z"
   },
   {
    "duration": 8,
    "start_time": "2023-01-24T20:00:08.019Z"
   },
   {
    "duration": 6,
    "start_time": "2023-01-24T20:00:08.028Z"
   },
   {
    "duration": 78165,
    "start_time": "2023-01-24T20:00:08.036Z"
   },
   {
    "duration": 1708,
    "start_time": "2023-01-24T20:01:31.497Z"
   },
   {
    "duration": 110,
    "start_time": "2023-01-24T20:01:33.207Z"
   },
   {
    "duration": 31,
    "start_time": "2023-01-24T20:01:33.319Z"
   },
   {
    "duration": 21,
    "start_time": "2023-01-24T20:01:33.352Z"
   },
   {
    "duration": 49,
    "start_time": "2023-01-24T20:01:33.374Z"
   },
   {
    "duration": 41,
    "start_time": "2023-01-24T20:01:33.424Z"
   },
   {
    "duration": 36,
    "start_time": "2023-01-24T20:01:33.466Z"
   },
   {
    "duration": 24,
    "start_time": "2023-01-24T20:01:33.503Z"
   },
   {
    "duration": 52,
    "start_time": "2023-01-24T20:01:33.528Z"
   },
   {
    "duration": 313,
    "start_time": "2023-01-24T20:01:33.582Z"
   },
   {
    "duration": 309,
    "start_time": "2023-01-24T20:01:33.897Z"
   },
   {
    "duration": 315,
    "start_time": "2023-01-24T20:01:34.207Z"
   },
   {
    "duration": 294,
    "start_time": "2023-01-24T20:01:34.524Z"
   },
   {
    "duration": 4,
    "start_time": "2023-01-24T20:01:34.820Z"
   },
   {
    "duration": 7,
    "start_time": "2023-01-24T20:01:34.825Z"
   },
   {
    "duration": 32,
    "start_time": "2023-01-24T20:01:34.833Z"
   },
   {
    "duration": 6,
    "start_time": "2023-01-24T20:01:34.867Z"
   },
   {
    "duration": 5,
    "start_time": "2023-01-24T20:01:34.874Z"
   },
   {
    "duration": 253,
    "start_time": "2023-01-24T20:01:34.881Z"
   },
   {
    "duration": 144,
    "start_time": "2023-01-24T20:01:35.136Z"
   },
   {
    "duration": 0,
    "start_time": "2023-01-24T20:01:35.281Z"
   },
   {
    "duration": 0,
    "start_time": "2023-01-24T20:01:35.282Z"
   },
   {
    "duration": 0,
    "start_time": "2023-01-24T20:01:35.283Z"
   },
   {
    "duration": 0,
    "start_time": "2023-01-24T20:01:35.284Z"
   },
   {
    "duration": 0,
    "start_time": "2023-01-24T20:01:35.285Z"
   },
   {
    "duration": 0,
    "start_time": "2023-01-24T20:01:35.286Z"
   },
   {
    "duration": 0,
    "start_time": "2023-01-24T20:01:35.287Z"
   },
   {
    "duration": 0,
    "start_time": "2023-01-24T20:01:35.288Z"
   },
   {
    "duration": 0,
    "start_time": "2023-01-24T20:01:35.289Z"
   },
   {
    "duration": 0,
    "start_time": "2023-01-24T20:01:35.290Z"
   },
   {
    "duration": 0,
    "start_time": "2023-01-24T20:01:35.291Z"
   },
   {
    "duration": 0,
    "start_time": "2023-01-24T20:01:35.292Z"
   },
   {
    "duration": 0,
    "start_time": "2023-01-24T20:01:35.292Z"
   },
   {
    "duration": 1637,
    "start_time": "2023-01-24T20:01:47.890Z"
   },
   {
    "duration": 131,
    "start_time": "2023-01-24T20:01:49.529Z"
   },
   {
    "duration": 19,
    "start_time": "2023-01-24T20:01:49.662Z"
   },
   {
    "duration": 2,
    "start_time": "2023-01-24T20:01:49.683Z"
   },
   {
    "duration": 8,
    "start_time": "2023-01-24T20:01:49.686Z"
   },
   {
    "duration": 6,
    "start_time": "2023-01-24T20:01:49.696Z"
   },
   {
    "duration": 3,
    "start_time": "2023-01-24T20:01:49.703Z"
   },
   {
    "duration": 5,
    "start_time": "2023-01-24T20:01:49.708Z"
   },
   {
    "duration": 5,
    "start_time": "2023-01-24T20:01:49.714Z"
   },
   {
    "duration": 335,
    "start_time": "2023-01-24T20:01:49.722Z"
   },
   {
    "duration": 302,
    "start_time": "2023-01-24T20:01:50.059Z"
   },
   {
    "duration": 324,
    "start_time": "2023-01-24T20:01:50.365Z"
   },
   {
    "duration": 294,
    "start_time": "2023-01-24T20:01:50.691Z"
   },
   {
    "duration": 4,
    "start_time": "2023-01-24T20:01:50.986Z"
   },
   {
    "duration": 7,
    "start_time": "2023-01-24T20:01:50.992Z"
   },
   {
    "duration": 391,
    "start_time": "2023-01-24T20:01:51.000Z"
   },
   {
    "duration": 4,
    "start_time": "2023-01-24T20:01:51.393Z"
   },
   {
    "duration": 10,
    "start_time": "2023-01-24T20:01:51.398Z"
   },
   {
    "duration": 7,
    "start_time": "2023-01-24T20:01:51.409Z"
   },
   {
    "duration": 174,
    "start_time": "2023-01-24T20:01:51.417Z"
   },
   {
    "duration": 138,
    "start_time": "2023-01-24T20:01:51.593Z"
   },
   {
    "duration": 0,
    "start_time": "2023-01-24T20:01:51.732Z"
   },
   {
    "duration": 0,
    "start_time": "2023-01-24T20:01:51.738Z"
   },
   {
    "duration": 0,
    "start_time": "2023-01-24T20:01:51.739Z"
   },
   {
    "duration": 0,
    "start_time": "2023-01-24T20:01:51.740Z"
   },
   {
    "duration": 0,
    "start_time": "2023-01-24T20:01:51.740Z"
   },
   {
    "duration": 0,
    "start_time": "2023-01-24T20:01:51.741Z"
   },
   {
    "duration": 0,
    "start_time": "2023-01-24T20:01:51.741Z"
   },
   {
    "duration": 0,
    "start_time": "2023-01-24T20:01:51.747Z"
   },
   {
    "duration": 0,
    "start_time": "2023-01-24T20:01:51.748Z"
   },
   {
    "duration": 0,
    "start_time": "2023-01-24T20:01:51.749Z"
   },
   {
    "duration": 0,
    "start_time": "2023-01-24T20:01:51.750Z"
   },
   {
    "duration": 0,
    "start_time": "2023-01-24T20:01:51.751Z"
   },
   {
    "duration": 0,
    "start_time": "2023-01-24T20:01:51.751Z"
   },
   {
    "duration": 4,
    "start_time": "2023-01-24T20:02:18.467Z"
   },
   {
    "duration": 130,
    "start_time": "2023-01-24T20:02:33.151Z"
   },
   {
    "duration": 134,
    "start_time": "2023-01-24T20:02:43.078Z"
   },
   {
    "duration": 5,
    "start_time": "2023-01-24T20:02:43.213Z"
   },
   {
    "duration": 23,
    "start_time": "2023-01-24T20:02:43.220Z"
   },
   {
    "duration": 34,
    "start_time": "2023-01-24T20:02:43.244Z"
   },
   {
    "duration": 4,
    "start_time": "2023-01-24T20:02:43.280Z"
   },
   {
    "duration": 4,
    "start_time": "2023-01-24T20:02:43.285Z"
   },
   {
    "duration": 6,
    "start_time": "2023-01-24T20:02:43.290Z"
   },
   {
    "duration": 17,
    "start_time": "2023-01-24T20:02:43.297Z"
   },
   {
    "duration": 6,
    "start_time": "2023-01-24T20:02:43.315Z"
   },
   {
    "duration": 8,
    "start_time": "2023-01-24T20:02:43.323Z"
   },
   {
    "duration": 7,
    "start_time": "2023-01-24T20:02:43.332Z"
   },
   {
    "duration": 27,
    "start_time": "2023-01-24T20:02:43.340Z"
   },
   {
    "duration": 252599,
    "start_time": "2023-01-24T20:02:43.369Z"
   },
   {
    "duration": 0,
    "start_time": "2023-01-24T20:06:55.970Z"
   },
   {
    "duration": 5,
    "start_time": "2023-01-24T20:06:59.134Z"
   },
   {
    "duration": 9,
    "start_time": "2023-01-24T20:07:02.425Z"
   },
   {
    "duration": 1795,
    "start_time": "2023-01-24T20:09:48.064Z"
   },
   {
    "duration": 118,
    "start_time": "2023-01-24T20:09:49.866Z"
   },
   {
    "duration": 21,
    "start_time": "2023-01-24T20:09:49.987Z"
   },
   {
    "duration": 11,
    "start_time": "2023-01-24T20:09:50.009Z"
   },
   {
    "duration": 57,
    "start_time": "2023-01-24T20:09:50.022Z"
   },
   {
    "duration": 24,
    "start_time": "2023-01-24T20:09:50.080Z"
   },
   {
    "duration": 72,
    "start_time": "2023-01-24T20:09:50.106Z"
   },
   {
    "duration": 39,
    "start_time": "2023-01-24T20:09:50.179Z"
   },
   {
    "duration": 11,
    "start_time": "2023-01-24T20:09:50.219Z"
   },
   {
    "duration": 379,
    "start_time": "2023-01-24T20:09:50.232Z"
   },
   {
    "duration": 338,
    "start_time": "2023-01-24T20:09:50.613Z"
   },
   {
    "duration": 296,
    "start_time": "2023-01-24T20:09:50.953Z"
   },
   {
    "duration": 8,
    "start_time": "2023-01-24T20:09:51.256Z"
   },
   {
    "duration": 340,
    "start_time": "2023-01-24T20:09:51.266Z"
   },
   {
    "duration": 4,
    "start_time": "2023-01-24T20:09:51.608Z"
   },
   {
    "duration": 19,
    "start_time": "2023-01-24T20:09:51.613Z"
   },
   {
    "duration": 418,
    "start_time": "2023-01-24T20:09:51.633Z"
   },
   {
    "duration": 6,
    "start_time": "2023-01-24T20:09:52.053Z"
   },
   {
    "duration": 40,
    "start_time": "2023-01-24T20:09:52.061Z"
   },
   {
    "duration": 43,
    "start_time": "2023-01-24T20:09:52.102Z"
   },
   {
    "duration": 221,
    "start_time": "2023-01-24T20:09:52.147Z"
   },
   {
    "duration": 167,
    "start_time": "2023-01-24T20:09:52.370Z"
   },
   {
    "duration": 6,
    "start_time": "2023-01-24T20:09:52.539Z"
   },
   {
    "duration": 92,
    "start_time": "2023-01-24T20:09:52.547Z"
   },
   {
    "duration": 49,
    "start_time": "2023-01-24T20:09:52.641Z"
   },
   {
    "duration": 29,
    "start_time": "2023-01-24T20:09:52.692Z"
   },
   {
    "duration": 68,
    "start_time": "2023-01-24T20:09:52.723Z"
   },
   {
    "duration": 30,
    "start_time": "2023-01-24T20:09:52.793Z"
   },
   {
    "duration": 66,
    "start_time": "2023-01-24T20:09:52.825Z"
   },
   {
    "duration": 20,
    "start_time": "2023-01-24T20:09:52.892Z"
   },
   {
    "duration": 59,
    "start_time": "2023-01-24T20:09:52.914Z"
   },
   {
    "duration": 22,
    "start_time": "2023-01-24T20:09:52.975Z"
   },
   {
    "duration": 57,
    "start_time": "2023-01-24T20:09:52.998Z"
   },
   {
    "duration": 2093,
    "start_time": "2023-01-25T10:13:16.763Z"
   },
   {
    "duration": 158,
    "start_time": "2023-01-25T10:13:18.858Z"
   },
   {
    "duration": 23,
    "start_time": "2023-01-25T10:13:19.018Z"
   },
   {
    "duration": 3,
    "start_time": "2023-01-25T10:13:19.043Z"
   },
   {
    "duration": 13,
    "start_time": "2023-01-25T10:13:19.048Z"
   },
   {
    "duration": 8,
    "start_time": "2023-01-25T10:13:19.063Z"
   },
   {
    "duration": 30,
    "start_time": "2023-01-25T10:13:19.073Z"
   },
   {
    "duration": 6,
    "start_time": "2023-01-25T10:13:19.105Z"
   },
   {
    "duration": 6,
    "start_time": "2023-01-25T10:13:19.112Z"
   },
   {
    "duration": 375,
    "start_time": "2023-01-25T10:13:19.121Z"
   },
   {
    "duration": 338,
    "start_time": "2023-01-25T10:13:19.497Z"
   },
   {
    "duration": 357,
    "start_time": "2023-01-25T10:13:19.837Z"
   },
   {
    "duration": 419,
    "start_time": "2023-01-25T10:13:20.204Z"
   },
   {
    "duration": 6,
    "start_time": "2023-01-25T10:13:20.625Z"
   },
   {
    "duration": 18,
    "start_time": "2023-01-25T10:13:20.633Z"
   },
   {
    "duration": 424,
    "start_time": "2023-01-25T10:13:20.653Z"
   },
   {
    "duration": 5,
    "start_time": "2023-01-25T10:13:21.079Z"
   },
   {
    "duration": 19,
    "start_time": "2023-01-25T10:13:21.085Z"
   },
   {
    "duration": 13,
    "start_time": "2023-01-25T10:13:21.105Z"
   },
   {
    "duration": 197,
    "start_time": "2023-01-25T10:13:21.120Z"
   },
   {
    "duration": 157,
    "start_time": "2023-01-25T10:13:21.318Z"
   },
   {
    "duration": 7,
    "start_time": "2023-01-25T10:13:21.476Z"
   },
   {
    "duration": 24,
    "start_time": "2023-01-25T10:13:21.484Z"
   },
   {
    "duration": 18,
    "start_time": "2023-01-25T10:13:21.510Z"
   },
   {
    "duration": 6,
    "start_time": "2023-01-25T10:13:21.529Z"
   },
   {
    "duration": 8,
    "start_time": "2023-01-25T10:13:21.537Z"
   },
   {
    "duration": 6,
    "start_time": "2023-01-25T10:13:21.547Z"
   },
   {
    "duration": 4,
    "start_time": "2023-01-25T10:13:21.557Z"
   },
   {
    "duration": 9,
    "start_time": "2023-01-25T10:13:21.562Z"
   },
   {
    "duration": 152,
    "start_time": "2023-01-25T10:13:21.573Z"
   },
   {
    "duration": 659405,
    "start_time": "2023-01-25T10:13:39.713Z"
   },
   {
    "duration": 235,
    "start_time": "2023-01-25T10:24:39.121Z"
   },
   {
    "duration": 3,
    "start_time": "2023-01-25T10:28:08.797Z"
   },
   {
    "duration": 4116,
    "start_time": "2023-01-25T10:28:10.097Z"
   },
   {
    "duration": 156,
    "start_time": "2023-01-25T10:28:17.649Z"
   },
   {
    "duration": 3,
    "start_time": "2023-01-25T10:28:33.956Z"
   },
   {
    "duration": 3,
    "start_time": "2023-01-25T10:28:36.869Z"
   },
   {
    "duration": 5,
    "start_time": "2023-01-25T10:32:09.273Z"
   },
   {
    "duration": 4316,
    "start_time": "2023-01-25T10:32:12.787Z"
   },
   {
    "duration": 5,
    "start_time": "2023-01-25T10:39:59.354Z"
   },
   {
    "duration": 4,
    "start_time": "2023-01-25T10:40:01.805Z"
   },
   {
    "duration": 27,
    "start_time": "2023-01-25T10:40:04.959Z"
   },
   {
    "duration": 5,
    "start_time": "2023-01-25T10:40:20.438Z"
   },
   {
    "duration": 4563,
    "start_time": "2023-01-25T10:40:22.649Z"
   },
   {
    "duration": 6,
    "start_time": "2023-01-25T10:40:31.081Z"
   },
   {
    "duration": 161,
    "start_time": "2023-01-25T10:40:45.261Z"
   },
   {
    "duration": 9,
    "start_time": "2023-01-25T10:41:59.245Z"
   },
   {
    "duration": 769,
    "start_time": "2023-01-25T10:42:05.551Z"
   },
   {
    "duration": 14,
    "start_time": "2023-01-25T10:42:39.214Z"
   },
   {
    "duration": 11,
    "start_time": "2023-01-25T10:44:00.617Z"
   },
   {
    "duration": 5,
    "start_time": "2023-01-25T10:44:07.406Z"
   },
   {
    "duration": 1804,
    "start_time": "2023-01-25T10:44:36.068Z"
   },
   {
    "duration": 114,
    "start_time": "2023-01-25T10:44:37.874Z"
   },
   {
    "duration": 22,
    "start_time": "2023-01-25T10:44:37.990Z"
   },
   {
    "duration": 3,
    "start_time": "2023-01-25T10:44:38.014Z"
   },
   {
    "duration": 9,
    "start_time": "2023-01-25T10:44:38.018Z"
   },
   {
    "duration": 8,
    "start_time": "2023-01-25T10:44:38.029Z"
   },
   {
    "duration": 3,
    "start_time": "2023-01-25T10:44:38.038Z"
   },
   {
    "duration": 8,
    "start_time": "2023-01-25T10:44:38.042Z"
   },
   {
    "duration": 4,
    "start_time": "2023-01-25T10:44:38.052Z"
   },
   {
    "duration": 362,
    "start_time": "2023-01-25T10:44:38.058Z"
   },
   {
    "duration": 327,
    "start_time": "2023-01-25T10:44:38.421Z"
   },
   {
    "duration": 318,
    "start_time": "2023-01-25T10:44:38.750Z"
   },
   {
    "duration": 336,
    "start_time": "2023-01-25T10:44:39.070Z"
   },
   {
    "duration": 5,
    "start_time": "2023-01-25T10:44:39.408Z"
   },
   {
    "duration": 9,
    "start_time": "2023-01-25T10:44:39.415Z"
   },
   {
    "duration": 427,
    "start_time": "2023-01-25T10:44:39.426Z"
   },
   {
    "duration": 5,
    "start_time": "2023-01-25T10:44:39.855Z"
   },
   {
    "duration": 7,
    "start_time": "2023-01-25T10:44:39.862Z"
   },
   {
    "duration": 7,
    "start_time": "2023-01-25T10:44:39.871Z"
   },
   {
    "duration": 201,
    "start_time": "2023-01-25T10:44:39.880Z"
   },
   {
    "duration": 150,
    "start_time": "2023-01-25T10:44:40.083Z"
   },
   {
    "duration": 6,
    "start_time": "2023-01-25T10:44:40.235Z"
   },
   {
    "duration": 17,
    "start_time": "2023-01-25T10:44:40.242Z"
   },
   {
    "duration": 17,
    "start_time": "2023-01-25T10:44:40.260Z"
   },
   {
    "duration": 24,
    "start_time": "2023-01-25T10:44:40.279Z"
   },
   {
    "duration": 3,
    "start_time": "2023-01-25T10:44:40.305Z"
   },
   {
    "duration": 14,
    "start_time": "2023-01-25T10:44:40.309Z"
   },
   {
    "duration": 8,
    "start_time": "2023-01-25T10:44:40.325Z"
   },
   {
    "duration": 10,
    "start_time": "2023-01-25T10:44:40.335Z"
   },
   {
    "duration": 4563,
    "start_time": "2023-01-25T10:44:40.347Z"
   },
   {
    "duration": 7,
    "start_time": "2023-01-25T10:44:44.912Z"
   },
   {
    "duration": 6,
    "start_time": "2023-01-25T10:44:44.921Z"
   },
   {
    "duration": 416,
    "start_time": "2023-01-25T10:44:44.929Z"
   },
   {
    "duration": 347,
    "start_time": "2023-01-25T10:45:04.610Z"
   },
   {
    "duration": 251,
    "start_time": "2023-01-25T10:45:53.366Z"
   },
   {
    "duration": 134,
    "start_time": "2023-01-25T10:46:28.218Z"
   },
   {
    "duration": 5,
    "start_time": "2023-01-25T10:46:37.149Z"
   },
   {
    "duration": 10,
    "start_time": "2023-01-25T10:46:49.493Z"
   },
   {
    "duration": 14,
    "start_time": "2023-01-25T10:47:07.781Z"
   },
   {
    "duration": 1835,
    "start_time": "2023-01-25T10:47:16.878Z"
   },
   {
    "duration": 118,
    "start_time": "2023-01-25T10:47:18.715Z"
   },
   {
    "duration": 25,
    "start_time": "2023-01-25T10:47:18.834Z"
   },
   {
    "duration": 3,
    "start_time": "2023-01-25T10:47:18.861Z"
   },
   {
    "duration": 12,
    "start_time": "2023-01-25T10:47:18.866Z"
   },
   {
    "duration": 28,
    "start_time": "2023-01-25T10:47:18.880Z"
   },
   {
    "duration": 3,
    "start_time": "2023-01-25T10:47:18.909Z"
   },
   {
    "duration": 8,
    "start_time": "2023-01-25T10:47:18.914Z"
   },
   {
    "duration": 3,
    "start_time": "2023-01-25T10:47:18.924Z"
   },
   {
    "duration": 353,
    "start_time": "2023-01-25T10:47:18.929Z"
   },
   {
    "duration": 328,
    "start_time": "2023-01-25T10:47:19.284Z"
   },
   {
    "duration": 323,
    "start_time": "2023-01-25T10:47:19.614Z"
   },
   {
    "duration": 322,
    "start_time": "2023-01-25T10:47:19.939Z"
   },
   {
    "duration": 4,
    "start_time": "2023-01-25T10:47:20.263Z"
   },
   {
    "duration": 8,
    "start_time": "2023-01-25T10:47:20.269Z"
   },
   {
    "duration": 466,
    "start_time": "2023-01-25T10:47:20.278Z"
   },
   {
    "duration": 4,
    "start_time": "2023-01-25T10:47:20.746Z"
   },
   {
    "duration": 7,
    "start_time": "2023-01-25T10:47:20.752Z"
   },
   {
    "duration": 7,
    "start_time": "2023-01-25T10:47:20.761Z"
   },
   {
    "duration": 199,
    "start_time": "2023-01-25T10:47:20.770Z"
   },
   {
    "duration": 150,
    "start_time": "2023-01-25T10:47:20.971Z"
   },
   {
    "duration": 6,
    "start_time": "2023-01-25T10:47:21.123Z"
   },
   {
    "duration": 21,
    "start_time": "2023-01-25T10:47:21.130Z"
   },
   {
    "duration": 23,
    "start_time": "2023-01-25T10:47:21.152Z"
   },
   {
    "duration": 20,
    "start_time": "2023-01-25T10:47:21.176Z"
   },
   {
    "duration": 17,
    "start_time": "2023-01-25T10:47:21.198Z"
   },
   {
    "duration": 17,
    "start_time": "2023-01-25T10:47:21.217Z"
   },
   {
    "duration": 5,
    "start_time": "2023-01-25T10:47:21.238Z"
   },
   {
    "duration": 21,
    "start_time": "2023-01-25T10:47:21.244Z"
   },
   {
    "duration": 4850,
    "start_time": "2023-01-25T10:47:21.267Z"
   },
   {
    "duration": 6,
    "start_time": "2023-01-25T10:47:26.118Z"
   },
   {
    "duration": 17,
    "start_time": "2023-01-25T10:47:26.126Z"
   },
   {
    "duration": 5,
    "start_time": "2023-01-25T10:47:26.204Z"
   },
   {
    "duration": 292,
    "start_time": "2023-01-25T10:47:26.211Z"
   },
   {
    "duration": 10,
    "start_time": "2023-01-25T10:47:51.172Z"
   },
   {
    "duration": 5,
    "start_time": "2023-01-25T10:47:52.031Z"
   },
   {
    "duration": 1800,
    "start_time": "2023-01-25T10:48:01.830Z"
   },
   {
    "duration": 117,
    "start_time": "2023-01-25T10:48:03.632Z"
   },
   {
    "duration": 28,
    "start_time": "2023-01-25T10:48:03.750Z"
   },
   {
    "duration": 10,
    "start_time": "2023-01-25T10:48:03.780Z"
   },
   {
    "duration": 28,
    "start_time": "2023-01-25T10:48:03.792Z"
   },
   {
    "duration": 8,
    "start_time": "2023-01-25T10:48:03.822Z"
   },
   {
    "duration": 3,
    "start_time": "2023-01-25T10:48:03.832Z"
   },
   {
    "duration": 7,
    "start_time": "2023-01-25T10:48:03.837Z"
   },
   {
    "duration": 5,
    "start_time": "2023-01-25T10:48:03.845Z"
   },
   {
    "duration": 369,
    "start_time": "2023-01-25T10:48:03.852Z"
   },
   {
    "duration": 345,
    "start_time": "2023-01-25T10:48:04.224Z"
   },
   {
    "duration": 338,
    "start_time": "2023-01-25T10:48:04.571Z"
   },
   {
    "duration": 332,
    "start_time": "2023-01-25T10:48:04.911Z"
   },
   {
    "duration": 5,
    "start_time": "2023-01-25T10:48:05.244Z"
   },
   {
    "duration": 8,
    "start_time": "2023-01-25T10:48:05.250Z"
   },
   {
    "duration": 424,
    "start_time": "2023-01-25T10:48:05.259Z"
   },
   {
    "duration": 5,
    "start_time": "2023-01-25T10:48:05.685Z"
   },
   {
    "duration": 5,
    "start_time": "2023-01-25T10:48:05.703Z"
   },
   {
    "duration": 8,
    "start_time": "2023-01-25T10:48:05.710Z"
   },
   {
    "duration": 194,
    "start_time": "2023-01-25T10:48:05.719Z"
   },
   {
    "duration": 144,
    "start_time": "2023-01-25T10:48:05.915Z"
   },
   {
    "duration": 5,
    "start_time": "2023-01-25T10:48:06.061Z"
   },
   {
    "duration": 20,
    "start_time": "2023-01-25T10:48:06.068Z"
   },
   {
    "duration": 24,
    "start_time": "2023-01-25T10:48:06.090Z"
   },
   {
    "duration": 7,
    "start_time": "2023-01-25T10:48:06.116Z"
   },
   {
    "duration": 5,
    "start_time": "2023-01-25T10:48:06.124Z"
   },
   {
    "duration": 6,
    "start_time": "2023-01-25T10:48:06.130Z"
   },
   {
    "duration": 8,
    "start_time": "2023-01-25T10:48:06.139Z"
   },
   {
    "duration": 9,
    "start_time": "2023-01-25T10:48:06.148Z"
   },
   {
    "duration": 4846,
    "start_time": "2023-01-25T10:48:06.159Z"
   },
   {
    "duration": 6,
    "start_time": "2023-01-25T10:48:11.006Z"
   },
   {
    "duration": 25,
    "start_time": "2023-01-25T10:48:11.013Z"
   },
   {
    "duration": 25,
    "start_time": "2023-01-25T10:48:11.040Z"
   },
   {
    "duration": 299,
    "start_time": "2023-01-25T10:48:11.067Z"
   },
   {
    "duration": 251,
    "start_time": "2023-01-25T10:48:38.751Z"
   },
   {
    "duration": 395,
    "start_time": "2023-01-25T10:48:44.123Z"
   },
   {
    "duration": 6,
    "start_time": "2023-01-25T10:49:34.036Z"
   },
   {
    "duration": 14,
    "start_time": "2023-01-25T10:50:09.612Z"
   },
   {
    "duration": 50,
    "start_time": "2023-01-25T10:50:21.563Z"
   },
   {
    "duration": 11,
    "start_time": "2023-01-25T10:50:34.938Z"
   },
   {
    "duration": 222,
    "start_time": "2023-01-25T10:50:55.337Z"
   },
   {
    "duration": 372,
    "start_time": "2023-01-25T10:51:06.998Z"
   },
   {
    "duration": 457,
    "start_time": "2023-01-25T10:51:24.648Z"
   },
   {
    "duration": 265,
    "start_time": "2023-01-25T10:52:06.655Z"
   },
   {
    "duration": 254,
    "start_time": "2023-01-25T10:52:18.359Z"
   },
   {
    "duration": 333,
    "start_time": "2023-01-25T10:52:40.872Z"
   },
   {
    "duration": 15,
    "start_time": "2023-01-25T10:53:15.992Z"
   },
   {
    "duration": 9,
    "start_time": "2023-01-25T10:55:30.704Z"
   },
   {
    "duration": 1782,
    "start_time": "2023-01-25T10:58:53.652Z"
   },
   {
    "duration": 117,
    "start_time": "2023-01-25T10:58:55.436Z"
   },
   {
    "duration": 24,
    "start_time": "2023-01-25T10:58:55.555Z"
   },
   {
    "duration": 11,
    "start_time": "2023-01-25T10:58:55.581Z"
   },
   {
    "duration": 10,
    "start_time": "2023-01-25T10:58:55.603Z"
   },
   {
    "duration": 12,
    "start_time": "2023-01-25T10:58:55.614Z"
   },
   {
    "duration": 4,
    "start_time": "2023-01-25T10:58:55.627Z"
   },
   {
    "duration": 18,
    "start_time": "2023-01-25T10:58:55.633Z"
   },
   {
    "duration": 5,
    "start_time": "2023-01-25T10:58:55.652Z"
   },
   {
    "duration": 355,
    "start_time": "2023-01-25T10:58:55.659Z"
   },
   {
    "duration": 346,
    "start_time": "2023-01-25T10:58:56.016Z"
   },
   {
    "duration": 341,
    "start_time": "2023-01-25T10:58:56.364Z"
   },
   {
    "duration": 349,
    "start_time": "2023-01-25T10:58:56.707Z"
   },
   {
    "duration": 5,
    "start_time": "2023-01-25T10:58:57.058Z"
   },
   {
    "duration": 8,
    "start_time": "2023-01-25T10:58:57.065Z"
   },
   {
    "duration": 458,
    "start_time": "2023-01-25T10:58:57.075Z"
   },
   {
    "duration": 5,
    "start_time": "2023-01-25T10:58:57.535Z"
   },
   {
    "duration": 7,
    "start_time": "2023-01-25T10:58:57.542Z"
   },
   {
    "duration": 12,
    "start_time": "2023-01-25T10:58:57.550Z"
   },
   {
    "duration": 191,
    "start_time": "2023-01-25T10:58:57.564Z"
   },
   {
    "duration": 157,
    "start_time": "2023-01-25T10:58:57.756Z"
   },
   {
    "duration": 6,
    "start_time": "2023-01-25T10:58:57.914Z"
   },
   {
    "duration": 18,
    "start_time": "2023-01-25T10:58:57.922Z"
   },
   {
    "duration": 18,
    "start_time": "2023-01-25T10:58:57.942Z"
   },
   {
    "duration": 10,
    "start_time": "2023-01-25T10:58:57.961Z"
   },
   {
    "duration": 5,
    "start_time": "2023-01-25T10:58:57.972Z"
   },
   {
    "duration": 25,
    "start_time": "2023-01-25T10:58:57.978Z"
   },
   {
    "duration": 8,
    "start_time": "2023-01-25T10:58:58.006Z"
   },
   {
    "duration": 9,
    "start_time": "2023-01-25T10:58:58.016Z"
   },
   {
    "duration": 5189,
    "start_time": "2023-01-25T10:58:58.027Z"
   },
   {
    "duration": 17,
    "start_time": "2023-01-25T10:59:03.218Z"
   },
   {
    "duration": 47,
    "start_time": "2023-01-25T10:59:03.237Z"
   },
   {
    "duration": 0,
    "start_time": "2023-01-25T10:59:03.286Z"
   },
   {
    "duration": 0,
    "start_time": "2023-01-25T10:59:03.288Z"
   },
   {
    "duration": 135,
    "start_time": "2023-01-25T10:59:17.815Z"
   },
   {
    "duration": 12,
    "start_time": "2023-01-25T10:59:37.950Z"
   },
   {
    "duration": 16,
    "start_time": "2023-01-25T10:59:53.373Z"
   },
   {
    "duration": 9,
    "start_time": "2023-01-25T11:00:11.185Z"
   },
   {
    "duration": 352,
    "start_time": "2023-01-25T11:00:15.789Z"
   },
   {
    "duration": 258,
    "start_time": "2023-01-25T11:00:49.035Z"
   },
   {
    "duration": 1849,
    "start_time": "2023-01-25T11:01:51.167Z"
   },
   {
    "duration": 120,
    "start_time": "2023-01-25T11:01:53.019Z"
   },
   {
    "duration": 24,
    "start_time": "2023-01-25T11:01:53.141Z"
   },
   {
    "duration": 13,
    "start_time": "2023-01-25T11:01:53.167Z"
   },
   {
    "duration": 24,
    "start_time": "2023-01-25T11:01:53.181Z"
   },
   {
    "duration": 29,
    "start_time": "2023-01-25T11:01:53.207Z"
   },
   {
    "duration": 14,
    "start_time": "2023-01-25T11:01:53.238Z"
   },
   {
    "duration": 20,
    "start_time": "2023-01-25T11:01:53.254Z"
   },
   {
    "duration": 30,
    "start_time": "2023-01-25T11:01:53.276Z"
   },
   {
    "duration": 330,
    "start_time": "2023-01-25T11:01:53.309Z"
   },
   {
    "duration": 338,
    "start_time": "2023-01-25T11:01:53.640Z"
   },
   {
    "duration": 411,
    "start_time": "2023-01-25T11:01:53.979Z"
   },
   {
    "duration": 338,
    "start_time": "2023-01-25T11:01:54.392Z"
   },
   {
    "duration": 6,
    "start_time": "2023-01-25T11:01:54.731Z"
   },
   {
    "duration": 16,
    "start_time": "2023-01-25T11:01:54.738Z"
   },
   {
    "duration": 433,
    "start_time": "2023-01-25T11:01:54.755Z"
   },
   {
    "duration": 4,
    "start_time": "2023-01-25T11:01:55.190Z"
   },
   {
    "duration": 5,
    "start_time": "2023-01-25T11:01:55.203Z"
   },
   {
    "duration": 8,
    "start_time": "2023-01-25T11:01:55.209Z"
   },
   {
    "duration": 218,
    "start_time": "2023-01-25T11:01:55.219Z"
   },
   {
    "duration": 166,
    "start_time": "2023-01-25T11:01:55.439Z"
   },
   {
    "duration": 6,
    "start_time": "2023-01-25T11:01:55.606Z"
   },
   {
    "duration": 17,
    "start_time": "2023-01-25T11:01:55.614Z"
   },
   {
    "duration": 20,
    "start_time": "2023-01-25T11:01:55.633Z"
   },
   {
    "duration": 22,
    "start_time": "2023-01-25T11:01:55.655Z"
   },
   {
    "duration": 6,
    "start_time": "2023-01-25T11:01:55.679Z"
   },
   {
    "duration": 16,
    "start_time": "2023-01-25T11:01:55.687Z"
   },
   {
    "duration": 6,
    "start_time": "2023-01-25T11:01:55.707Z"
   },
   {
    "duration": 19,
    "start_time": "2023-01-25T11:01:55.715Z"
   },
   {
    "duration": 5487,
    "start_time": "2023-01-25T11:01:55.736Z"
   },
   {
    "duration": 85,
    "start_time": "2023-01-25T11:02:01.226Z"
   },
   {
    "duration": 29,
    "start_time": "2023-01-25T11:02:01.313Z"
   },
   {
    "duration": 292,
    "start_time": "2023-01-25T11:02:01.344Z"
   },
   {
    "duration": 1889,
    "start_time": "2023-01-25T11:03:30.845Z"
   },
   {
    "duration": 111,
    "start_time": "2023-01-25T11:03:32.737Z"
   },
   {
    "duration": 24,
    "start_time": "2023-01-25T11:03:32.850Z"
   },
   {
    "duration": 3,
    "start_time": "2023-01-25T11:03:32.876Z"
   },
   {
    "duration": 25,
    "start_time": "2023-01-25T11:03:32.881Z"
   },
   {
    "duration": 8,
    "start_time": "2023-01-25T11:03:32.908Z"
   },
   {
    "duration": 3,
    "start_time": "2023-01-25T11:03:32.917Z"
   },
   {
    "duration": 7,
    "start_time": "2023-01-25T11:03:32.922Z"
   },
   {
    "duration": 6,
    "start_time": "2023-01-25T11:03:32.930Z"
   },
   {
    "duration": 387,
    "start_time": "2023-01-25T11:03:32.938Z"
   },
   {
    "duration": 335,
    "start_time": "2023-01-25T11:03:33.326Z"
   },
   {
    "duration": 324,
    "start_time": "2023-01-25T11:03:33.664Z"
   },
   {
    "duration": 406,
    "start_time": "2023-01-25T11:03:33.989Z"
   },
   {
    "duration": 7,
    "start_time": "2023-01-25T11:03:34.397Z"
   },
   {
    "duration": 16,
    "start_time": "2023-01-25T11:03:34.405Z"
   },
   {
    "duration": 413,
    "start_time": "2023-01-25T11:03:34.423Z"
   },
   {
    "duration": 5,
    "start_time": "2023-01-25T11:03:34.837Z"
   },
   {
    "duration": 8,
    "start_time": "2023-01-25T11:03:34.843Z"
   },
   {
    "duration": 6,
    "start_time": "2023-01-25T11:03:34.852Z"
   },
   {
    "duration": 192,
    "start_time": "2023-01-25T11:03:34.859Z"
   },
   {
    "duration": 163,
    "start_time": "2023-01-25T11:03:35.053Z"
   },
   {
    "duration": 8,
    "start_time": "2023-01-25T11:03:35.218Z"
   },
   {
    "duration": 22,
    "start_time": "2023-01-25T11:03:35.227Z"
   },
   {
    "duration": 21,
    "start_time": "2023-01-25T11:03:35.251Z"
   },
   {
    "duration": 12,
    "start_time": "2023-01-25T11:03:35.274Z"
   },
   {
    "duration": 11,
    "start_time": "2023-01-25T11:03:35.288Z"
   },
   {
    "duration": 7,
    "start_time": "2023-01-25T11:03:35.302Z"
   },
   {
    "duration": 7,
    "start_time": "2023-01-25T11:03:35.312Z"
   },
   {
    "duration": 6,
    "start_time": "2023-01-25T11:03:35.320Z"
   },
   {
    "duration": 691295,
    "start_time": "2023-01-25T11:03:35.328Z"
   },
   {
    "duration": 79,
    "start_time": "2023-01-25T11:15:06.625Z"
   },
   {
    "duration": 11,
    "start_time": "2023-01-25T11:15:06.706Z"
   },
   {
    "duration": 273,
    "start_time": "2023-01-25T11:15:06.719Z"
   },
   {
    "duration": 405,
    "start_time": "2023-01-25T11:15:27.235Z"
   },
   {
    "duration": 12,
    "start_time": "2023-01-25T11:34:50.018Z"
   },
   {
    "duration": 1902,
    "start_time": "2023-01-25T11:34:56.046Z"
   },
   {
    "duration": 149,
    "start_time": "2023-01-25T11:34:57.950Z"
   },
   {
    "duration": 23,
    "start_time": "2023-01-25T11:34:58.100Z"
   },
   {
    "duration": 7,
    "start_time": "2023-01-25T11:34:58.125Z"
   },
   {
    "duration": 10,
    "start_time": "2023-01-25T11:34:58.133Z"
   },
   {
    "duration": 11,
    "start_time": "2023-01-25T11:34:58.144Z"
   },
   {
    "duration": 6,
    "start_time": "2023-01-25T11:34:58.158Z"
   },
   {
    "duration": 12,
    "start_time": "2023-01-25T11:34:58.165Z"
   },
   {
    "duration": 16,
    "start_time": "2023-01-25T11:34:58.178Z"
   },
   {
    "duration": 330,
    "start_time": "2023-01-25T11:34:58.197Z"
   },
   {
    "duration": 308,
    "start_time": "2023-01-25T11:34:58.529Z"
   },
   {
    "duration": 312,
    "start_time": "2023-01-25T11:34:58.838Z"
   },
   {
    "duration": 311,
    "start_time": "2023-01-25T11:34:59.152Z"
   },
   {
    "duration": 4,
    "start_time": "2023-01-25T11:34:59.465Z"
   },
   {
    "duration": 23,
    "start_time": "2023-01-25T11:34:59.471Z"
   },
   {
    "duration": 381,
    "start_time": "2023-01-25T11:34:59.496Z"
   },
   {
    "duration": 4,
    "start_time": "2023-01-25T11:34:59.878Z"
   },
   {
    "duration": 20,
    "start_time": "2023-01-25T11:34:59.884Z"
   },
   {
    "duration": 15,
    "start_time": "2023-01-25T11:34:59.905Z"
   },
   {
    "duration": 178,
    "start_time": "2023-01-25T11:34:59.921Z"
   },
   {
    "duration": 135,
    "start_time": "2023-01-25T11:35:00.101Z"
   },
   {
    "duration": 6,
    "start_time": "2023-01-25T11:35:00.237Z"
   },
   {
    "duration": 47,
    "start_time": "2023-01-25T11:35:00.244Z"
   },
   {
    "duration": 41,
    "start_time": "2023-01-25T11:35:00.292Z"
   },
   {
    "duration": 25,
    "start_time": "2023-01-25T11:35:00.335Z"
   },
   {
    "duration": 11,
    "start_time": "2023-01-25T11:35:00.362Z"
   },
   {
    "duration": 23,
    "start_time": "2023-01-25T11:35:00.374Z"
   },
   {
    "duration": 30,
    "start_time": "2023-01-25T11:35:00.399Z"
   },
   {
    "duration": 448384,
    "start_time": "2023-01-25T11:35:00.430Z"
   },
   {
    "duration": 82,
    "start_time": "2023-01-25T11:42:28.816Z"
   },
   {
    "duration": 361,
    "start_time": "2023-01-25T11:42:28.900Z"
   },
   {
    "duration": 324,
    "start_time": "2023-01-25T11:43:20.011Z"
   },
   {
    "duration": 325,
    "start_time": "2023-01-25T11:43:54.731Z"
   },
   {
    "duration": 1695,
    "start_time": "2023-01-25T11:46:11.020Z"
   },
   {
    "duration": 108,
    "start_time": "2023-01-25T11:46:12.718Z"
   },
   {
    "duration": 21,
    "start_time": "2023-01-25T11:46:12.828Z"
   },
   {
    "duration": 3,
    "start_time": "2023-01-25T11:46:12.851Z"
   },
   {
    "duration": 10,
    "start_time": "2023-01-25T11:46:12.856Z"
   },
   {
    "duration": 10,
    "start_time": "2023-01-25T11:46:12.867Z"
   },
   {
    "duration": 14,
    "start_time": "2023-01-25T11:46:12.879Z"
   },
   {
    "duration": 4,
    "start_time": "2023-01-25T11:46:12.895Z"
   },
   {
    "duration": 11,
    "start_time": "2023-01-25T11:46:12.900Z"
   },
   {
    "duration": 321,
    "start_time": "2023-01-25T11:46:12.912Z"
   },
   {
    "duration": 304,
    "start_time": "2023-01-25T11:46:13.234Z"
   },
   {
    "duration": 310,
    "start_time": "2023-01-25T11:46:13.540Z"
   },
   {
    "duration": 403,
    "start_time": "2023-01-25T11:46:13.852Z"
   },
   {
    "duration": 8,
    "start_time": "2023-01-25T11:46:14.259Z"
   },
   {
    "duration": 20,
    "start_time": "2023-01-25T11:46:14.269Z"
   },
   {
    "duration": 441,
    "start_time": "2023-01-25T11:46:14.291Z"
   },
   {
    "duration": 5,
    "start_time": "2023-01-25T11:46:14.733Z"
   },
   {
    "duration": 18,
    "start_time": "2023-01-25T11:46:14.739Z"
   },
   {
    "duration": 8,
    "start_time": "2023-01-25T11:46:14.759Z"
   },
   {
    "duration": 239,
    "start_time": "2023-01-25T11:46:14.769Z"
   },
   {
    "duration": 219,
    "start_time": "2023-01-25T11:46:15.010Z"
   },
   {
    "duration": 6,
    "start_time": "2023-01-25T11:46:15.231Z"
   },
   {
    "duration": 65,
    "start_time": "2023-01-25T11:46:15.239Z"
   },
   {
    "duration": 17,
    "start_time": "2023-01-25T11:46:15.306Z"
   },
   {
    "duration": 12,
    "start_time": "2023-01-25T11:46:15.325Z"
   },
   {
    "duration": 6,
    "start_time": "2023-01-25T11:46:15.338Z"
   },
   {
    "duration": 27,
    "start_time": "2023-01-25T11:46:15.345Z"
   },
   {
    "duration": 12,
    "start_time": "2023-01-25T11:46:15.374Z"
   },
   {
    "duration": 149,
    "start_time": "2023-01-25T11:46:15.388Z"
   },
   {
    "duration": 0,
    "start_time": "2023-01-25T11:46:15.539Z"
   },
   {
    "duration": 0,
    "start_time": "2023-01-25T11:46:15.541Z"
   },
   {
    "duration": 24966,
    "start_time": "2023-01-25T11:46:39.229Z"
   },
   {
    "duration": 8,
    "start_time": "2023-01-25T11:47:04.198Z"
   },
   {
    "duration": 399,
    "start_time": "2023-01-25T11:47:04.208Z"
   },
   {
    "duration": 22348,
    "start_time": "2023-01-25T11:47:59.866Z"
   },
   {
    "duration": 5,
    "start_time": "2023-01-25T11:48:22.216Z"
   },
   {
    "duration": 342,
    "start_time": "2023-01-25T11:48:22.293Z"
   },
   {
    "duration": 3,
    "start_time": "2023-01-25T11:48:43.607Z"
   },
   {
    "duration": 34989,
    "start_time": "2023-01-25T11:48:48.121Z"
   },
   {
    "duration": 6,
    "start_time": "2023-01-25T11:49:23.112Z"
   },
   {
    "duration": 420,
    "start_time": "2023-01-25T11:49:23.119Z"
   },
   {
    "duration": 70861,
    "start_time": "2023-01-25T11:49:47.341Z"
   },
   {
    "duration": 10,
    "start_time": "2023-01-25T11:50:58.207Z"
   },
   {
    "duration": 592,
    "start_time": "2023-01-25T11:50:58.220Z"
   },
   {
    "duration": 1723,
    "start_time": "2023-01-25T11:52:06.218Z"
   },
   {
    "duration": 122,
    "start_time": "2023-01-25T11:52:07.943Z"
   },
   {
    "duration": 30,
    "start_time": "2023-01-25T11:52:08.067Z"
   },
   {
    "duration": 3,
    "start_time": "2023-01-25T11:52:08.098Z"
   },
   {
    "duration": 8,
    "start_time": "2023-01-25T11:52:08.104Z"
   },
   {
    "duration": 8,
    "start_time": "2023-01-25T11:52:08.114Z"
   },
   {
    "duration": 3,
    "start_time": "2023-01-25T11:52:08.123Z"
   },
   {
    "duration": 12,
    "start_time": "2023-01-25T11:52:08.128Z"
   },
   {
    "duration": 4,
    "start_time": "2023-01-25T11:52:08.142Z"
   },
   {
    "duration": 336,
    "start_time": "2023-01-25T11:52:08.148Z"
   },
   {
    "duration": 293,
    "start_time": "2023-01-25T11:52:08.486Z"
   },
   {
    "duration": 306,
    "start_time": "2023-01-25T11:52:08.781Z"
   },
   {
    "duration": 294,
    "start_time": "2023-01-25T11:52:09.093Z"
   },
   {
    "duration": 5,
    "start_time": "2023-01-25T11:52:09.394Z"
   },
   {
    "duration": 8,
    "start_time": "2023-01-25T11:52:09.401Z"
   },
   {
    "duration": 388,
    "start_time": "2023-01-25T11:52:09.410Z"
   },
   {
    "duration": 5,
    "start_time": "2023-01-25T11:52:09.799Z"
   },
   {
    "duration": 7,
    "start_time": "2023-01-25T11:52:09.805Z"
   },
   {
    "duration": 7,
    "start_time": "2023-01-25T11:52:09.814Z"
   },
   {
    "duration": 188,
    "start_time": "2023-01-25T11:52:09.823Z"
   },
   {
    "duration": 150,
    "start_time": "2023-01-25T11:52:10.013Z"
   },
   {
    "duration": 6,
    "start_time": "2023-01-25T11:52:10.164Z"
   },
   {
    "duration": 29,
    "start_time": "2023-01-25T11:52:10.172Z"
   },
   {
    "duration": 14,
    "start_time": "2023-01-25T11:52:10.202Z"
   },
   {
    "duration": 11,
    "start_time": "2023-01-25T11:52:10.218Z"
   },
   {
    "duration": 7,
    "start_time": "2023-01-25T11:52:10.231Z"
   },
   {
    "duration": 7,
    "start_time": "2023-01-25T11:52:10.240Z"
   },
   {
    "duration": 13,
    "start_time": "2023-01-25T11:52:10.249Z"
   },
   {
    "duration": 36846,
    "start_time": "2023-01-25T11:52:10.264Z"
   },
   {
    "duration": 7,
    "start_time": "2023-01-25T11:52:47.111Z"
   },
   {
    "duration": 391,
    "start_time": "2023-01-25T11:52:47.119Z"
   },
   {
    "duration": 51,
    "start_time": "2023-01-25T15:12:37.395Z"
   },
   {
    "duration": 10,
    "start_time": "2023-01-25T15:12:54.299Z"
   },
   {
    "duration": 2187,
    "start_time": "2023-01-25T15:13:00.010Z"
   },
   {
    "duration": 149,
    "start_time": "2023-01-25T15:13:02.199Z"
   },
   {
    "duration": 32,
    "start_time": "2023-01-25T15:13:02.350Z"
   },
   {
    "duration": 4,
    "start_time": "2023-01-25T15:13:02.383Z"
   },
   {
    "duration": 35,
    "start_time": "2023-01-25T15:13:02.390Z"
   },
   {
    "duration": 21,
    "start_time": "2023-01-25T15:13:02.427Z"
   },
   {
    "duration": 23,
    "start_time": "2023-01-25T15:13:02.451Z"
   },
   {
    "duration": 14,
    "start_time": "2023-01-25T15:13:02.476Z"
   },
   {
    "duration": 16,
    "start_time": "2023-01-25T15:13:02.491Z"
   },
   {
    "duration": 345,
    "start_time": "2023-01-25T15:13:02.509Z"
   },
   {
    "duration": 341,
    "start_time": "2023-01-25T15:13:02.856Z"
   },
   {
    "duration": 329,
    "start_time": "2023-01-25T15:13:03.199Z"
   },
   {
    "duration": 329,
    "start_time": "2023-01-25T15:13:03.530Z"
   },
   {
    "duration": 5,
    "start_time": "2023-01-25T15:13:03.861Z"
   },
   {
    "duration": 7,
    "start_time": "2023-01-25T15:13:03.868Z"
   },
   {
    "duration": 421,
    "start_time": "2023-01-25T15:13:03.877Z"
   },
   {
    "duration": 6,
    "start_time": "2023-01-25T15:13:04.299Z"
   },
   {
    "duration": 20,
    "start_time": "2023-01-25T15:13:04.307Z"
   },
   {
    "duration": 6,
    "start_time": "2023-01-25T15:13:04.329Z"
   },
   {
    "duration": 187,
    "start_time": "2023-01-25T15:13:04.338Z"
   },
   {
    "duration": 153,
    "start_time": "2023-01-25T15:13:04.526Z"
   },
   {
    "duration": 7,
    "start_time": "2023-01-25T15:13:04.682Z"
   },
   {
    "duration": 23,
    "start_time": "2023-01-25T15:13:04.691Z"
   },
   {
    "duration": 27,
    "start_time": "2023-01-25T15:13:04.716Z"
   },
   {
    "duration": 4,
    "start_time": "2023-01-25T15:13:04.745Z"
   },
   {
    "duration": 6,
    "start_time": "2023-01-25T15:13:04.751Z"
   },
   {
    "duration": 14,
    "start_time": "2023-01-25T15:13:04.759Z"
   },
   {
    "duration": 7,
    "start_time": "2023-01-25T15:13:04.775Z"
   },
   {
    "duration": 1767,
    "start_time": "2023-01-25T15:16:44.149Z"
   },
   {
    "duration": 130,
    "start_time": "2023-01-25T15:16:45.919Z"
   },
   {
    "duration": 30,
    "start_time": "2023-01-25T15:16:46.050Z"
   },
   {
    "duration": 3,
    "start_time": "2023-01-25T15:16:46.082Z"
   },
   {
    "duration": 32,
    "start_time": "2023-01-25T15:16:46.087Z"
   },
   {
    "duration": 30,
    "start_time": "2023-01-25T15:16:46.121Z"
   },
   {
    "duration": 19,
    "start_time": "2023-01-25T15:16:46.153Z"
   },
   {
    "duration": 36,
    "start_time": "2023-01-25T15:16:46.173Z"
   },
   {
    "duration": 20,
    "start_time": "2023-01-25T15:16:46.211Z"
   },
   {
    "duration": 409,
    "start_time": "2023-01-25T15:16:46.235Z"
   },
   {
    "duration": 344,
    "start_time": "2023-01-25T15:16:46.646Z"
   },
   {
    "duration": 354,
    "start_time": "2023-01-25T15:16:46.992Z"
   },
   {
    "duration": 341,
    "start_time": "2023-01-25T15:16:47.348Z"
   },
   {
    "duration": 5,
    "start_time": "2023-01-25T15:16:47.691Z"
   },
   {
    "duration": 457,
    "start_time": "2023-01-25T15:16:47.698Z"
   },
   {
    "duration": 5,
    "start_time": "2023-01-25T15:16:48.157Z"
   },
   {
    "duration": 10,
    "start_time": "2023-01-25T15:16:48.164Z"
   },
   {
    "duration": 6,
    "start_time": "2023-01-25T15:16:48.175Z"
   },
   {
    "duration": 207,
    "start_time": "2023-01-25T15:16:48.183Z"
   },
   {
    "duration": 154,
    "start_time": "2023-01-25T15:16:48.392Z"
   },
   {
    "duration": 7,
    "start_time": "2023-01-25T15:16:48.548Z"
   },
   {
    "duration": 15,
    "start_time": "2023-01-25T15:16:48.556Z"
   },
   {
    "duration": 15,
    "start_time": "2023-01-25T15:16:48.572Z"
   },
   {
    "duration": 11,
    "start_time": "2023-01-25T15:16:48.589Z"
   },
   {
    "duration": 24,
    "start_time": "2023-01-25T15:16:48.602Z"
   },
   {
    "duration": 4,
    "start_time": "2023-01-25T15:16:48.629Z"
   },
   {
    "duration": 8,
    "start_time": "2023-01-25T15:16:48.635Z"
   },
   {
    "duration": 50781,
    "start_time": "2023-01-25T15:16:48.647Z"
   },
   {
    "duration": 10,
    "start_time": "2023-01-25T15:17:39.430Z"
   },
   {
    "duration": 373,
    "start_time": "2023-01-25T15:17:39.442Z"
   },
   {
    "duration": 1881,
    "start_time": "2023-01-25T15:18:48.033Z"
   },
   {
    "duration": 116,
    "start_time": "2023-01-25T15:18:49.916Z"
   },
   {
    "duration": 25,
    "start_time": "2023-01-25T15:18:50.034Z"
   },
   {
    "duration": 6,
    "start_time": "2023-01-25T15:18:50.060Z"
   },
   {
    "duration": 25,
    "start_time": "2023-01-25T15:18:50.069Z"
   },
   {
    "duration": 29,
    "start_time": "2023-01-25T15:18:50.096Z"
   },
   {
    "duration": 19,
    "start_time": "2023-01-25T15:18:50.127Z"
   },
   {
    "duration": 17,
    "start_time": "2023-01-25T15:18:50.147Z"
   },
   {
    "duration": 16,
    "start_time": "2023-01-25T15:18:50.166Z"
   },
   {
    "duration": 420,
    "start_time": "2023-01-25T15:18:50.185Z"
   },
   {
    "duration": 358,
    "start_time": "2023-01-25T15:18:50.607Z"
   },
   {
    "duration": 325,
    "start_time": "2023-01-25T15:18:50.967Z"
   },
   {
    "duration": 353,
    "start_time": "2023-01-25T15:18:51.294Z"
   },
   {
    "duration": 5,
    "start_time": "2023-01-25T15:18:51.649Z"
   },
   {
    "duration": 27,
    "start_time": "2023-01-25T15:18:51.656Z"
   },
   {
    "duration": 432,
    "start_time": "2023-01-25T15:18:51.686Z"
   },
   {
    "duration": 10,
    "start_time": "2023-01-25T15:18:52.120Z"
   },
   {
    "duration": 13,
    "start_time": "2023-01-25T15:18:52.131Z"
   },
   {
    "duration": 10,
    "start_time": "2023-01-25T15:18:52.146Z"
   },
   {
    "duration": 188,
    "start_time": "2023-01-25T15:18:52.157Z"
   },
   {
    "duration": 4,
    "start_time": "2023-01-25T15:18:52.347Z"
   },
   {
    "duration": 165,
    "start_time": "2023-01-25T15:18:52.353Z"
   },
   {
    "duration": 12,
    "start_time": "2023-01-25T15:18:52.520Z"
   },
   {
    "duration": 26,
    "start_time": "2023-01-25T15:18:52.533Z"
   },
   {
    "duration": 16,
    "start_time": "2023-01-25T15:18:52.562Z"
   },
   {
    "duration": 14,
    "start_time": "2023-01-25T15:18:52.580Z"
   },
   {
    "duration": 11,
    "start_time": "2023-01-25T15:18:52.596Z"
   },
   {
    "duration": 9,
    "start_time": "2023-01-25T15:18:52.609Z"
   },
   {
    "duration": 8,
    "start_time": "2023-01-25T15:18:52.620Z"
   },
   {
    "duration": 46205,
    "start_time": "2023-01-25T15:18:52.630Z"
   },
   {
    "duration": 10,
    "start_time": "2023-01-25T15:19:38.838Z"
   },
   {
    "duration": 379,
    "start_time": "2023-01-25T15:19:38.850Z"
   },
   {
    "duration": 50,
    "start_time": "2023-01-25T15:20:07.433Z"
   },
   {
    "duration": 1747,
    "start_time": "2023-01-25T15:21:45.671Z"
   },
   {
    "duration": 114,
    "start_time": "2023-01-25T15:21:47.421Z"
   },
   {
    "duration": 23,
    "start_time": "2023-01-25T15:21:47.537Z"
   },
   {
    "duration": 3,
    "start_time": "2023-01-25T15:21:47.562Z"
   },
   {
    "duration": 9,
    "start_time": "2023-01-25T15:21:47.567Z"
   },
   {
    "duration": 11,
    "start_time": "2023-01-25T15:21:47.578Z"
   },
   {
    "duration": 3,
    "start_time": "2023-01-25T15:21:47.591Z"
   },
   {
    "duration": 31,
    "start_time": "2023-01-25T15:21:47.596Z"
   },
   {
    "duration": 5,
    "start_time": "2023-01-25T15:21:47.629Z"
   },
   {
    "duration": 347,
    "start_time": "2023-01-25T15:21:47.636Z"
   },
   {
    "duration": 309,
    "start_time": "2023-01-25T15:21:47.985Z"
   },
   {
    "duration": 312,
    "start_time": "2023-01-25T15:21:48.296Z"
   },
   {
    "duration": 320,
    "start_time": "2023-01-25T15:21:48.610Z"
   },
   {
    "duration": 5,
    "start_time": "2023-01-25T15:21:48.933Z"
   },
   {
    "duration": 12,
    "start_time": "2023-01-25T15:21:48.939Z"
   },
   {
    "duration": 406,
    "start_time": "2023-01-25T15:21:48.953Z"
   },
   {
    "duration": 5,
    "start_time": "2023-01-25T15:21:49.360Z"
   },
   {
    "duration": 7,
    "start_time": "2023-01-25T15:21:49.366Z"
   },
   {
    "duration": 11,
    "start_time": "2023-01-25T15:21:49.375Z"
   },
   {
    "duration": 182,
    "start_time": "2023-01-25T15:21:49.388Z"
   },
   {
    "duration": 145,
    "start_time": "2023-01-25T15:21:49.572Z"
   },
   {
    "duration": 10,
    "start_time": "2023-01-25T15:21:49.719Z"
   },
   {
    "duration": 16,
    "start_time": "2023-01-25T15:21:49.731Z"
   },
   {
    "duration": 18,
    "start_time": "2023-01-25T15:21:49.748Z"
   },
   {
    "duration": 10,
    "start_time": "2023-01-25T15:21:49.767Z"
   },
   {
    "duration": 5,
    "start_time": "2023-01-25T15:21:49.778Z"
   },
   {
    "duration": 6,
    "start_time": "2023-01-25T15:21:49.785Z"
   },
   {
    "duration": 8,
    "start_time": "2023-01-25T15:21:49.792Z"
   },
   {
    "duration": 30737,
    "start_time": "2023-01-25T15:21:49.801Z"
   },
   {
    "duration": 8,
    "start_time": "2023-01-25T15:22:20.540Z"
   },
   {
    "duration": 420,
    "start_time": "2023-01-25T15:22:20.550Z"
   },
   {
    "duration": 1973,
    "start_time": "2023-01-25T15:23:29.352Z"
   },
   {
    "duration": 129,
    "start_time": "2023-01-25T15:23:31.328Z"
   },
   {
    "duration": 24,
    "start_time": "2023-01-25T15:23:31.458Z"
   },
   {
    "duration": 15,
    "start_time": "2023-01-25T15:23:31.484Z"
   },
   {
    "duration": 30,
    "start_time": "2023-01-25T15:23:31.501Z"
   },
   {
    "duration": 15,
    "start_time": "2023-01-25T15:23:31.536Z"
   },
   {
    "duration": 6,
    "start_time": "2023-01-25T15:23:31.553Z"
   },
   {
    "duration": 19,
    "start_time": "2023-01-25T15:23:31.560Z"
   },
   {
    "duration": 31,
    "start_time": "2023-01-25T15:23:31.581Z"
   },
   {
    "duration": 338,
    "start_time": "2023-01-25T15:23:31.614Z"
   },
   {
    "duration": 324,
    "start_time": "2023-01-25T15:23:31.954Z"
   },
   {
    "duration": 337,
    "start_time": "2023-01-25T15:23:32.279Z"
   },
   {
    "duration": 344,
    "start_time": "2023-01-25T15:23:32.618Z"
   },
   {
    "duration": 5,
    "start_time": "2023-01-25T15:23:32.965Z"
   },
   {
    "duration": 5,
    "start_time": "2023-01-25T15:23:32.972Z"
   },
   {
    "duration": 435,
    "start_time": "2023-01-25T15:23:32.979Z"
   },
   {
    "duration": 13,
    "start_time": "2023-01-25T15:23:33.415Z"
   },
   {
    "duration": 12,
    "start_time": "2023-01-25T15:23:33.429Z"
   },
   {
    "duration": 8,
    "start_time": "2023-01-25T15:23:33.443Z"
   },
   {
    "duration": 184,
    "start_time": "2023-01-25T15:23:33.452Z"
   },
   {
    "duration": 152,
    "start_time": "2023-01-25T15:23:33.639Z"
   },
   {
    "duration": 6,
    "start_time": "2023-01-25T15:23:33.793Z"
   },
   {
    "duration": 16,
    "start_time": "2023-01-25T15:23:33.800Z"
   },
   {
    "duration": 16,
    "start_time": "2023-01-25T15:23:33.827Z"
   },
   {
    "duration": 7,
    "start_time": "2023-01-25T15:23:33.845Z"
   },
   {
    "duration": 14,
    "start_time": "2023-01-25T15:23:33.854Z"
   },
   {
    "duration": 8,
    "start_time": "2023-01-25T15:23:33.869Z"
   },
   {
    "duration": 12,
    "start_time": "2023-01-25T15:23:33.878Z"
   },
   {
    "duration": 469142,
    "start_time": "2023-01-25T15:23:33.891Z"
   },
   {
    "duration": 8,
    "start_time": "2023-01-25T15:31:52.541Z"
   },
   {
    "duration": 438,
    "start_time": "2023-01-25T15:31:52.551Z"
   },
   {
    "duration": 52652,
    "start_time": "2023-01-25T15:31:52.991Z"
   },
   {
    "duration": 4,
    "start_time": "2023-01-25T15:33:47.845Z"
   },
   {
    "duration": 71,
    "start_time": "2023-01-25T15:47:52.922Z"
   },
   {
    "duration": 7,
    "start_time": "2023-01-25T15:48:04.549Z"
   },
   {
    "duration": 209,
    "start_time": "2023-01-25T15:48:07.420Z"
   },
   {
    "duration": 8,
    "start_time": "2023-01-25T15:48:11.553Z"
   },
   {
    "duration": 24,
    "start_time": "2023-01-25T15:48:15.853Z"
   },
   {
    "duration": 8,
    "start_time": "2023-01-25T15:49:52.839Z"
   },
   {
    "duration": 32,
    "start_time": "2023-01-25T15:49:56.407Z"
   },
   {
    "duration": 4,
    "start_time": "2023-01-25T15:50:04.351Z"
   },
   {
    "duration": 49,
    "start_time": "2023-01-25T15:50:08.492Z"
   },
   {
    "duration": 9,
    "start_time": "2023-01-25T15:50:25.667Z"
   },
   {
    "duration": 346685,
    "start_time": "2023-01-25T15:50:27.374Z"
   },
   {
    "duration": 47,
    "start_time": "2023-01-25T15:56:20.952Z"
   },
   {
    "duration": 8,
    "start_time": "2023-01-25T15:56:31.200Z"
   },
   {
    "duration": 43490,
    "start_time": "2023-01-25T15:56:35.272Z"
   },
   {
    "duration": 9,
    "start_time": "2023-01-25T15:57:20.617Z"
   },
   {
    "duration": 202645,
    "start_time": "2023-01-25T15:57:21.214Z"
   },
   {
    "duration": 4,
    "start_time": "2023-01-25T16:02:46.682Z"
   },
   {
    "duration": 69,
    "start_time": "2023-01-25T16:02:49.394Z"
   },
   {
    "duration": 9,
    "start_time": "2023-01-25T16:02:57.353Z"
   },
   {
    "duration": 308833,
    "start_time": "2023-01-25T16:02:59.922Z"
   },
   {
    "duration": 3,
    "start_time": "2023-01-25T16:08:22.749Z"
   },
   {
    "duration": 9,
    "start_time": "2023-01-25T16:08:25.868Z"
   },
   {
    "duration": 1030030,
    "start_time": "2023-01-25T16:08:29.316Z"
   },
   {
    "duration": 2382,
    "start_time": "2023-01-25T16:26:18.905Z"
   },
   {
    "duration": 145,
    "start_time": "2023-01-25T16:26:21.289Z"
   },
   {
    "duration": 34,
    "start_time": "2023-01-25T16:26:21.436Z"
   },
   {
    "duration": 14,
    "start_time": "2023-01-25T16:26:21.484Z"
   },
   {
    "duration": 14,
    "start_time": "2023-01-25T16:26:21.501Z"
   },
   {
    "duration": 45,
    "start_time": "2023-01-25T16:26:21.517Z"
   },
   {
    "duration": 6,
    "start_time": "2023-01-25T16:26:21.563Z"
   },
   {
    "duration": 11,
    "start_time": "2023-01-25T16:26:21.571Z"
   },
   {
    "duration": 6,
    "start_time": "2023-01-25T16:26:21.584Z"
   },
   {
    "duration": 375,
    "start_time": "2023-01-25T16:26:21.591Z"
   },
   {
    "duration": 373,
    "start_time": "2023-01-25T16:26:21.969Z"
   },
   {
    "duration": 394,
    "start_time": "2023-01-25T16:26:22.344Z"
   },
   {
    "duration": 351,
    "start_time": "2023-01-25T16:26:22.744Z"
   },
   {
    "duration": 5,
    "start_time": "2023-01-25T16:26:23.100Z"
   },
   {
    "duration": 12,
    "start_time": "2023-01-25T16:26:23.107Z"
   },
   {
    "duration": 575,
    "start_time": "2023-01-25T16:26:23.129Z"
   },
   {
    "duration": 5,
    "start_time": "2023-01-25T16:26:23.707Z"
   },
   {
    "duration": 35,
    "start_time": "2023-01-25T16:26:23.714Z"
   },
   {
    "duration": 8,
    "start_time": "2023-01-25T16:26:23.759Z"
   },
   {
    "duration": 296,
    "start_time": "2023-01-25T16:26:23.769Z"
   },
   {
    "duration": 180,
    "start_time": "2023-01-25T16:26:24.068Z"
   },
   {
    "duration": 23,
    "start_time": "2023-01-25T16:26:24.250Z"
   },
   {
    "duration": 24,
    "start_time": "2023-01-25T16:26:24.275Z"
   },
   {
    "duration": 20,
    "start_time": "2023-01-25T16:26:24.302Z"
   },
   {
    "duration": 32,
    "start_time": "2023-01-25T16:26:24.324Z"
   },
   {
    "duration": 7,
    "start_time": "2023-01-25T16:26:24.359Z"
   },
   {
    "duration": 7,
    "start_time": "2023-01-25T16:26:24.368Z"
   },
   {
    "duration": 12,
    "start_time": "2023-01-25T16:26:24.377Z"
   },
   {
    "duration": 541038,
    "start_time": "2023-01-25T16:26:24.391Z"
   },
   {
    "duration": 55707,
    "start_time": "2023-01-25T16:35:25.431Z"
   },
   {
    "duration": 8,
    "start_time": "2023-01-25T16:36:21.140Z"
   },
   {
    "duration": 440,
    "start_time": "2023-01-25T16:36:21.150Z"
   },
   {
    "duration": 8,
    "start_time": "2023-01-25T16:36:21.593Z"
   },
   {
    "duration": 10,
    "start_time": "2023-01-25T16:36:21.603Z"
   },
   {
    "duration": 20,
    "start_time": "2023-01-25T16:36:21.616Z"
   },
   {
    "duration": 164865,
    "start_time": "2023-01-25T16:36:21.639Z"
   },
   {
    "duration": 0,
    "start_time": "2023-01-25T16:39:06.506Z"
   },
   {
    "duration": 0,
    "start_time": "2023-01-25T16:39:06.507Z"
   },
   {
    "duration": 0,
    "start_time": "2023-01-25T16:39:06.508Z"
   },
   {
    "duration": 0,
    "start_time": "2023-01-25T16:39:06.509Z"
   },
   {
    "duration": 0,
    "start_time": "2023-01-25T16:39:06.510Z"
   },
   {
    "duration": 0,
    "start_time": "2023-01-25T16:39:06.511Z"
   },
   {
    "duration": 0,
    "start_time": "2023-01-25T16:39:06.512Z"
   },
   {
    "duration": 1738,
    "start_time": "2023-01-25T16:39:11.490Z"
   },
   {
    "duration": 114,
    "start_time": "2023-01-25T16:39:13.230Z"
   },
   {
    "duration": 22,
    "start_time": "2023-01-25T16:39:13.345Z"
   },
   {
    "duration": 3,
    "start_time": "2023-01-25T16:39:13.370Z"
   },
   {
    "duration": 10,
    "start_time": "2023-01-25T16:39:13.375Z"
   },
   {
    "duration": 8,
    "start_time": "2023-01-25T16:39:13.387Z"
   },
   {
    "duration": 3,
    "start_time": "2023-01-25T16:39:13.397Z"
   },
   {
    "duration": 26,
    "start_time": "2023-01-25T16:39:13.401Z"
   },
   {
    "duration": 6,
    "start_time": "2023-01-25T16:39:13.429Z"
   },
   {
    "duration": 328,
    "start_time": "2023-01-25T16:39:13.437Z"
   },
   {
    "duration": 332,
    "start_time": "2023-01-25T16:39:13.767Z"
   },
   {
    "duration": 335,
    "start_time": "2023-01-25T16:39:14.100Z"
   },
   {
    "duration": 315,
    "start_time": "2023-01-25T16:39:14.436Z"
   },
   {
    "duration": 5,
    "start_time": "2023-01-25T16:39:14.753Z"
   },
   {
    "duration": 9,
    "start_time": "2023-01-25T16:39:14.759Z"
   },
   {
    "duration": 424,
    "start_time": "2023-01-25T16:39:14.769Z"
   },
   {
    "duration": 5,
    "start_time": "2023-01-25T16:39:15.195Z"
   },
   {
    "duration": 8,
    "start_time": "2023-01-25T16:39:15.202Z"
   },
   {
    "duration": 17,
    "start_time": "2023-01-25T16:39:15.212Z"
   },
   {
    "duration": 187,
    "start_time": "2023-01-25T16:39:15.231Z"
   },
   {
    "duration": 142,
    "start_time": "2023-01-25T16:39:15.419Z"
   },
   {
    "duration": 6,
    "start_time": "2023-01-25T16:39:15.563Z"
   },
   {
    "duration": 20,
    "start_time": "2023-01-25T16:39:15.570Z"
   },
   {
    "duration": 19,
    "start_time": "2023-01-25T16:39:15.591Z"
   },
   {
    "duration": 25,
    "start_time": "2023-01-25T16:39:15.611Z"
   },
   {
    "duration": 21,
    "start_time": "2023-01-25T16:39:15.638Z"
   },
   {
    "duration": 9,
    "start_time": "2023-01-25T16:39:15.661Z"
   },
   {
    "duration": 7,
    "start_time": "2023-01-25T16:39:15.674Z"
   },
   {
    "duration": 85926,
    "start_time": "2023-01-25T16:39:15.683Z"
   },
   {
    "duration": 0,
    "start_time": "2023-01-25T16:40:41.611Z"
   },
   {
    "duration": 0,
    "start_time": "2023-01-25T16:40:41.612Z"
   },
   {
    "duration": 0,
    "start_time": "2023-01-25T16:40:41.614Z"
   },
   {
    "duration": 0,
    "start_time": "2023-01-25T16:40:41.627Z"
   },
   {
    "duration": 0,
    "start_time": "2023-01-25T16:40:41.628Z"
   },
   {
    "duration": 0,
    "start_time": "2023-01-25T16:40:41.629Z"
   },
   {
    "duration": 0,
    "start_time": "2023-01-25T16:40:41.631Z"
   },
   {
    "duration": 0,
    "start_time": "2023-01-25T16:40:41.633Z"
   },
   {
    "duration": 0,
    "start_time": "2023-01-25T16:40:41.634Z"
   },
   {
    "duration": 5,
    "start_time": "2023-01-25T16:40:46.744Z"
   },
   {
    "duration": 4,
    "start_time": "2023-01-25T16:40:49.449Z"
   },
   {
    "duration": 346503,
    "start_time": "2023-01-25T16:40:51.056Z"
   },
   {
    "duration": 0,
    "start_time": "2023-01-25T16:46:37.563Z"
   },
   {
    "duration": 117247,
    "start_time": "2023-01-25T16:46:41.990Z"
   },
   {
    "duration": 5,
    "start_time": "2023-01-25T16:50:13.364Z"
   },
   {
    "duration": 84410,
    "start_time": "2023-01-25T16:50:27.550Z"
   },
   {
    "duration": 7,
    "start_time": "2023-01-25T16:51:56.829Z"
   },
   {
    "duration": 0,
    "start_time": "2023-01-25T16:52:25.260Z"
   },
   {
    "duration": 0,
    "start_time": "2023-01-25T16:52:25.262Z"
   },
   {
    "duration": 8199,
    "start_time": "2023-01-25T16:52:26.460Z"
   },
   {
    "duration": 5,
    "start_time": "2023-01-25T16:52:39.000Z"
   },
   {
    "duration": 12534,
    "start_time": "2023-01-25T16:52:43.425Z"
   },
   {
    "duration": 6,
    "start_time": "2023-01-25T16:53:03.213Z"
   },
   {
    "duration": 76769,
    "start_time": "2023-01-25T16:53:05.679Z"
   },
   {
    "duration": 1791,
    "start_time": "2023-01-25T17:00:23.572Z"
   },
   {
    "duration": 114,
    "start_time": "2023-01-25T17:00:25.364Z"
   },
   {
    "duration": 22,
    "start_time": "2023-01-25T17:00:25.480Z"
   },
   {
    "duration": 4,
    "start_time": "2023-01-25T17:00:25.504Z"
   },
   {
    "duration": 18,
    "start_time": "2023-01-25T17:00:25.510Z"
   },
   {
    "duration": 13,
    "start_time": "2023-01-25T17:00:25.530Z"
   },
   {
    "duration": 7,
    "start_time": "2023-01-25T17:00:25.545Z"
   },
   {
    "duration": 16,
    "start_time": "2023-01-25T17:00:25.554Z"
   },
   {
    "duration": 9,
    "start_time": "2023-01-25T17:00:25.572Z"
   },
   {
    "duration": 362,
    "start_time": "2023-01-25T17:00:25.582Z"
   },
   {
    "duration": 343,
    "start_time": "2023-01-25T17:00:25.946Z"
   },
   {
    "duration": 359,
    "start_time": "2023-01-25T17:00:26.291Z"
   },
   {
    "duration": 375,
    "start_time": "2023-01-25T17:00:26.652Z"
   },
   {
    "duration": 6,
    "start_time": "2023-01-25T17:00:27.031Z"
   },
   {
    "duration": 9,
    "start_time": "2023-01-25T17:00:27.039Z"
   },
   {
    "duration": 523,
    "start_time": "2023-01-25T17:00:27.050Z"
   },
   {
    "duration": 5,
    "start_time": "2023-01-25T17:00:27.575Z"
   },
   {
    "duration": 9,
    "start_time": "2023-01-25T17:00:27.581Z"
   },
   {
    "duration": 9,
    "start_time": "2023-01-25T17:00:27.591Z"
   },
   {
    "duration": 203,
    "start_time": "2023-01-25T17:00:27.602Z"
   },
   {
    "duration": 154,
    "start_time": "2023-01-25T17:00:27.807Z"
   },
   {
    "duration": 7,
    "start_time": "2023-01-25T17:00:27.963Z"
   },
   {
    "duration": 22,
    "start_time": "2023-01-25T17:00:27.972Z"
   },
   {
    "duration": 33,
    "start_time": "2023-01-25T17:00:27.996Z"
   },
   {
    "duration": 10,
    "start_time": "2023-01-25T17:00:28.031Z"
   },
   {
    "duration": 14,
    "start_time": "2023-01-25T17:00:28.043Z"
   },
   {
    "duration": 11,
    "start_time": "2023-01-25T17:00:28.059Z"
   },
   {
    "duration": 19,
    "start_time": "2023-01-25T17:00:28.072Z"
   },
   {
    "duration": 683221,
    "start_time": "2023-01-25T17:00:28.093Z"
   },
   {
    "duration": 0,
    "start_time": "2023-01-25T17:11:51.316Z"
   },
   {
    "duration": 0,
    "start_time": "2023-01-25T17:11:51.317Z"
   },
   {
    "duration": 0,
    "start_time": "2023-01-25T17:11:51.318Z"
   },
   {
    "duration": 0,
    "start_time": "2023-01-25T17:11:51.319Z"
   },
   {
    "duration": 0,
    "start_time": "2023-01-25T17:11:51.320Z"
   },
   {
    "duration": 0,
    "start_time": "2023-01-25T17:11:51.321Z"
   },
   {
    "duration": 0,
    "start_time": "2023-01-25T17:11:51.330Z"
   },
   {
    "duration": 0,
    "start_time": "2023-01-25T17:11:51.331Z"
   },
   {
    "duration": 0,
    "start_time": "2023-01-25T17:11:51.332Z"
   },
   {
    "duration": 1968,
    "start_time": "2023-01-25T17:11:55.879Z"
   },
   {
    "duration": 112,
    "start_time": "2023-01-25T17:11:57.850Z"
   },
   {
    "duration": 23,
    "start_time": "2023-01-25T17:11:57.964Z"
   },
   {
    "duration": 3,
    "start_time": "2023-01-25T17:11:57.989Z"
   },
   {
    "duration": 11,
    "start_time": "2023-01-25T17:11:57.994Z"
   },
   {
    "duration": 35,
    "start_time": "2023-01-25T17:11:58.007Z"
   },
   {
    "duration": 3,
    "start_time": "2023-01-25T17:11:58.044Z"
   },
   {
    "duration": 11,
    "start_time": "2023-01-25T17:11:58.048Z"
   },
   {
    "duration": 8,
    "start_time": "2023-01-25T17:11:58.061Z"
   },
   {
    "duration": 358,
    "start_time": "2023-01-25T17:11:58.071Z"
   },
   {
    "duration": 364,
    "start_time": "2023-01-25T17:11:58.430Z"
   },
   {
    "duration": 346,
    "start_time": "2023-01-25T17:11:58.796Z"
   },
   {
    "duration": 344,
    "start_time": "2023-01-25T17:11:59.148Z"
   },
   {
    "duration": 6,
    "start_time": "2023-01-25T17:11:59.494Z"
   },
   {
    "duration": 8,
    "start_time": "2023-01-25T17:11:59.502Z"
   },
   {
    "duration": 463,
    "start_time": "2023-01-25T17:11:59.512Z"
   },
   {
    "duration": 5,
    "start_time": "2023-01-25T17:11:59.977Z"
   },
   {
    "duration": 9,
    "start_time": "2023-01-25T17:11:59.984Z"
   },
   {
    "duration": 11,
    "start_time": "2023-01-25T17:11:59.995Z"
   },
   {
    "duration": 287,
    "start_time": "2023-01-25T17:12:00.008Z"
   },
   {
    "duration": 180,
    "start_time": "2023-01-25T17:12:00.297Z"
   },
   {
    "duration": 9,
    "start_time": "2023-01-25T17:12:00.479Z"
   },
   {
    "duration": 91,
    "start_time": "2023-01-25T17:12:00.491Z"
   },
   {
    "duration": 52,
    "start_time": "2023-01-25T17:12:00.584Z"
   },
   {
    "duration": 66,
    "start_time": "2023-01-25T17:12:00.642Z"
   },
   {
    "duration": 25,
    "start_time": "2023-01-25T17:12:00.710Z"
   },
   {
    "duration": 32,
    "start_time": "2023-01-25T17:12:00.738Z"
   },
   {
    "duration": 42,
    "start_time": "2023-01-25T17:12:00.774Z"
   },
   {
    "duration": 85615,
    "start_time": "2023-01-25T17:12:00.819Z"
   },
   {
    "duration": 8,
    "start_time": "2023-01-25T17:13:26.445Z"
   },
   {
    "duration": 417,
    "start_time": "2023-01-25T17:13:26.454Z"
   },
   {
    "duration": 8,
    "start_time": "2023-01-25T17:13:26.873Z"
   },
   {
    "duration": 15,
    "start_time": "2023-01-25T17:13:26.883Z"
   },
   {
    "duration": 13,
    "start_time": "2023-01-25T17:13:26.900Z"
   },
   {
    "duration": 14,
    "start_time": "2023-01-25T17:13:26.915Z"
   },
   {
    "duration": 234669,
    "start_time": "2023-01-25T17:13:26.931Z"
   },
   {
    "duration": 0,
    "start_time": "2023-01-25T17:17:21.602Z"
   },
   {
    "duration": 6,
    "start_time": "2023-01-25T17:17:53.244Z"
   },
   {
    "duration": 56,
    "start_time": "2023-01-25T17:17:59.144Z"
   },
   {
    "duration": 9,
    "start_time": "2023-01-25T17:18:02.180Z"
   },
   {
    "duration": 34,
    "start_time": "2023-01-25T17:18:11.645Z"
   },
   {
    "duration": 3,
    "start_time": "2023-01-25T17:18:30.793Z"
   },
   {
    "duration": 77229,
    "start_time": "2023-01-25T17:18:31.725Z"
   },
   {
    "duration": 5,
    "start_time": "2023-01-25T17:19:59.544Z"
   },
   {
    "duration": 5,
    "start_time": "2023-01-25T17:20:13.542Z"
   },
   {
    "duration": 3,
    "start_time": "2023-01-25T17:20:55.253Z"
   },
   {
    "duration": 2186010,
    "start_time": "2023-01-25T17:20:55.759Z"
   },
   {
    "duration": 7,
    "start_time": "2023-01-25T18:12:43.358Z"
   },
   {
    "duration": 3,
    "start_time": "2023-01-25T18:12:47.776Z"
   },
   {
    "duration": 226252,
    "start_time": "2023-01-25T18:13:02.809Z"
   },
   {
    "duration": 9,
    "start_time": "2023-01-25T18:50:31.056Z"
   },
   {
    "duration": 3,
    "start_time": "2023-01-25T18:50:44.070Z"
   },
   {
    "duration": 1356242,
    "start_time": "2023-01-25T18:50:45.392Z"
   },
   {
    "duration": 0,
    "start_time": "2023-01-25T19:13:21.636Z"
   },
   {
    "duration": 0,
    "start_time": "2023-01-25T19:13:21.637Z"
   },
   {
    "duration": 8,
    "start_time": "2023-01-25T19:13:27.101Z"
   },
   {
    "duration": 4,
    "start_time": "2023-01-25T19:13:30.367Z"
   },
   {
    "duration": 2009,
    "start_time": "2023-01-25T19:23:34.383Z"
   },
   {
    "duration": 136,
    "start_time": "2023-01-25T19:23:36.394Z"
   },
   {
    "duration": 34,
    "start_time": "2023-01-25T19:23:36.535Z"
   },
   {
    "duration": 8,
    "start_time": "2023-01-25T19:23:36.572Z"
   },
   {
    "duration": 11,
    "start_time": "2023-01-25T19:23:36.582Z"
   },
   {
    "duration": 11,
    "start_time": "2023-01-25T19:23:36.595Z"
   },
   {
    "duration": 3,
    "start_time": "2023-01-25T19:23:36.608Z"
   },
   {
    "duration": 11,
    "start_time": "2023-01-25T19:23:36.613Z"
   },
   {
    "duration": 28,
    "start_time": "2023-01-25T19:23:36.631Z"
   },
   {
    "duration": 389,
    "start_time": "2023-01-25T19:23:36.665Z"
   },
   {
    "duration": 341,
    "start_time": "2023-01-25T19:23:37.055Z"
   },
   {
    "duration": 341,
    "start_time": "2023-01-25T19:23:37.398Z"
   },
   {
    "duration": 330,
    "start_time": "2023-01-25T19:23:37.743Z"
   },
   {
    "duration": 5,
    "start_time": "2023-01-25T19:23:38.075Z"
   },
   {
    "duration": 7,
    "start_time": "2023-01-25T19:23:38.082Z"
   },
   {
    "duration": 452,
    "start_time": "2023-01-25T19:23:38.090Z"
   },
   {
    "duration": 15,
    "start_time": "2023-01-25T19:23:38.543Z"
   },
   {
    "duration": 18,
    "start_time": "2023-01-25T19:23:38.563Z"
   },
   {
    "duration": 17,
    "start_time": "2023-01-25T19:23:38.583Z"
   },
   {
    "duration": 216,
    "start_time": "2023-01-25T19:23:38.602Z"
   },
   {
    "duration": 162,
    "start_time": "2023-01-25T19:23:38.819Z"
   },
   {
    "duration": 6,
    "start_time": "2023-01-25T19:23:38.983Z"
   },
   {
    "duration": 27,
    "start_time": "2023-01-25T19:23:38.990Z"
   },
   {
    "duration": 60,
    "start_time": "2023-01-25T19:23:39.019Z"
   },
   {
    "duration": 18,
    "start_time": "2023-01-25T19:23:39.081Z"
   },
   {
    "duration": 16,
    "start_time": "2023-01-25T19:23:39.101Z"
   },
   {
    "duration": 16,
    "start_time": "2023-01-25T19:23:39.120Z"
   },
   {
    "duration": 32,
    "start_time": "2023-01-25T19:23:39.145Z"
   },
   {
    "duration": 50289,
    "start_time": "2023-01-25T19:23:39.178Z"
   },
   {
    "duration": 62,
    "start_time": "2023-01-25T19:24:29.469Z"
   },
   {
    "duration": 367,
    "start_time": "2023-01-25T19:24:29.536Z"
   },
   {
    "duration": 5,
    "start_time": "2023-01-25T19:24:29.905Z"
   },
   {
    "duration": 9,
    "start_time": "2023-01-25T19:24:29.911Z"
   },
   {
    "duration": 7,
    "start_time": "2023-01-25T19:24:29.922Z"
   },
   {
    "duration": 40,
    "start_time": "2023-01-25T19:24:29.931Z"
   },
   {
    "duration": 145,
    "start_time": "2023-01-25T19:24:29.972Z"
   },
   {
    "duration": 0,
    "start_time": "2023-01-25T19:24:30.118Z"
   },
   {
    "duration": 6,
    "start_time": "2023-01-25T19:24:59.617Z"
   },
   {
    "duration": 11,
    "start_time": "2023-01-25T19:25:00.725Z"
   },
   {
    "duration": 101103,
    "start_time": "2023-01-25T19:25:02.765Z"
   },
   {
    "duration": 4,
    "start_time": "2023-01-25T19:27:02.271Z"
   },
   {
    "duration": 123073,
    "start_time": "2023-01-25T19:27:11.958Z"
   },
   {
    "duration": 6,
    "start_time": "2023-01-25T19:34:58.600Z"
   },
   {
    "duration": 2,
    "start_time": "2023-01-25T19:35:04.822Z"
   },
   {
    "duration": 35379,
    "start_time": "2023-01-25T19:35:12.084Z"
   },
   {
    "duration": 7,
    "start_time": "2023-01-25T19:35:50.504Z"
   },
   {
    "duration": 3136543,
    "start_time": "2023-01-25T19:35:52.897Z"
   },
   {
    "duration": 43,
    "start_time": "2023-01-26T10:55:43.023Z"
   },
   {
    "duration": 1835,
    "start_time": "2023-01-26T11:10:46.661Z"
   },
   {
    "duration": 149,
    "start_time": "2023-01-26T11:10:48.498Z"
   },
   {
    "duration": 22,
    "start_time": "2023-01-26T11:10:48.649Z"
   },
   {
    "duration": 2,
    "start_time": "2023-01-26T11:10:48.673Z"
   },
   {
    "duration": 23,
    "start_time": "2023-01-26T11:10:48.677Z"
   },
   {
    "duration": 6,
    "start_time": "2023-01-26T11:10:48.701Z"
   },
   {
    "duration": 6,
    "start_time": "2023-01-26T11:10:48.708Z"
   },
   {
    "duration": 8,
    "start_time": "2023-01-26T11:10:48.716Z"
   },
   {
    "duration": 4,
    "start_time": "2023-01-26T11:10:48.726Z"
   },
   {
    "duration": 317,
    "start_time": "2023-01-26T11:10:48.732Z"
   },
   {
    "duration": 306,
    "start_time": "2023-01-26T11:10:49.050Z"
   },
   {
    "duration": 301,
    "start_time": "2023-01-26T11:10:49.358Z"
   },
   {
    "duration": 288,
    "start_time": "2023-01-26T11:10:49.660Z"
   },
   {
    "duration": 5,
    "start_time": "2023-01-26T11:10:49.950Z"
   },
   {
    "duration": 24,
    "start_time": "2023-01-26T11:10:49.957Z"
   },
   {
    "duration": 388,
    "start_time": "2023-01-26T11:10:49.982Z"
   },
   {
    "duration": 5,
    "start_time": "2023-01-26T11:10:50.371Z"
   },
   {
    "duration": 51,
    "start_time": "2023-01-26T11:10:50.378Z"
   },
   {
    "duration": 32,
    "start_time": "2023-01-26T11:10:50.431Z"
   },
   {
    "duration": 221,
    "start_time": "2023-01-26T11:10:50.465Z"
   },
   {
    "duration": 137,
    "start_time": "2023-01-26T11:10:50.688Z"
   },
   {
    "duration": 5,
    "start_time": "2023-01-26T11:10:50.827Z"
   },
   {
    "duration": 27,
    "start_time": "2023-01-26T11:10:50.834Z"
   },
   {
    "duration": 36,
    "start_time": "2023-01-26T11:10:50.863Z"
   },
   {
    "duration": 30,
    "start_time": "2023-01-26T11:10:50.901Z"
   },
   {
    "duration": 21,
    "start_time": "2023-01-26T11:10:50.932Z"
   },
   {
    "duration": 23,
    "start_time": "2023-01-26T11:10:50.955Z"
   },
   {
    "duration": 32,
    "start_time": "2023-01-26T11:10:50.982Z"
   },
   {
    "duration": 33893,
    "start_time": "2023-01-26T11:10:51.015Z"
   },
   {
    "duration": 7,
    "start_time": "2023-01-26T11:11:24.910Z"
   },
   {
    "duration": 399,
    "start_time": "2023-01-26T11:11:24.919Z"
   },
   {
    "duration": 49,
    "start_time": "2023-01-26T11:11:25.319Z"
   },
   {
    "duration": 0,
    "start_time": "2023-01-26T11:11:25.370Z"
   },
   {
    "duration": 0,
    "start_time": "2023-01-26T11:11:25.371Z"
   },
   {
    "duration": 0,
    "start_time": "2023-01-26T11:11:25.373Z"
   },
   {
    "duration": 0,
    "start_time": "2023-01-26T11:11:25.374Z"
   },
   {
    "duration": 0,
    "start_time": "2023-01-26T11:11:25.375Z"
   },
   {
    "duration": 7,
    "start_time": "2023-01-26T11:11:29.649Z"
   },
   {
    "duration": 5,
    "start_time": "2023-01-26T11:11:35.337Z"
   },
   {
    "duration": 3,
    "start_time": "2023-01-26T11:11:38.473Z"
   },
   {
    "duration": 147,
    "start_time": "2023-01-26T11:11:41.820Z"
   },
   {
    "duration": 5,
    "start_time": "2023-01-26T11:11:59.570Z"
   },
   {
    "duration": 298165,
    "start_time": "2023-01-26T11:12:02.577Z"
   },
   {
    "duration": 6,
    "start_time": "2023-01-26T11:17:10.485Z"
   },
   {
    "duration": 1178921,
    "start_time": "2023-01-26T11:17:14.184Z"
   },
   {
    "duration": 5,
    "start_time": "2023-01-26T11:57:30.105Z"
   },
   {
    "duration": 8,
    "start_time": "2023-01-26T11:57:36.599Z"
   },
   {
    "duration": 20,
    "start_time": "2023-01-26T11:57:37.033Z"
   },
   {
    "duration": 6,
    "start_time": "2023-01-26T11:57:47.410Z"
   },
   {
    "duration": 20,
    "start_time": "2023-01-26T11:57:49.480Z"
   },
   {
    "duration": 8,
    "start_time": "2023-01-26T11:57:52.626Z"
   },
   {
    "duration": 62631,
    "start_time": "2023-01-26T11:57:53.089Z"
   },
   {
    "duration": 5,
    "start_time": "2023-01-26T11:59:50.882Z"
   },
   {
    "duration": 12,
    "start_time": "2023-01-26T11:59:53.448Z"
   },
   {
    "duration": 64202,
    "start_time": "2023-01-26T11:59:53.999Z"
   },
   {
    "duration": 6,
    "start_time": "2023-01-26T12:01:31.472Z"
   },
   {
    "duration": 9,
    "start_time": "2023-01-26T12:01:34.864Z"
   },
   {
    "duration": 67016,
    "start_time": "2023-01-26T12:01:37.202Z"
   },
   {
    "duration": 80,
    "start_time": "2023-01-26T12:02:44.220Z"
   },
   {
    "duration": 11,
    "start_time": "2023-01-26T12:02:56.647Z"
   },
   {
    "duration": 74706,
    "start_time": "2023-01-26T12:02:57.101Z"
   },
   {
    "duration": 8,
    "start_time": "2023-01-26T12:04:42.674Z"
   },
   {
    "duration": 15,
    "start_time": "2023-01-26T12:04:44.425Z"
   },
   {
    "duration": 72,
    "start_time": "2023-01-26T12:04:44.842Z"
   },
   {
    "duration": 6,
    "start_time": "2023-01-26T12:04:59.904Z"
   },
   {
    "duration": 16,
    "start_time": "2023-01-26T12:05:01.501Z"
   },
   {
    "duration": 79001,
    "start_time": "2023-01-26T12:05:02.214Z"
   },
   {
    "duration": 6,
    "start_time": "2023-01-26T12:07:17.019Z"
   },
   {
    "duration": 10,
    "start_time": "2023-01-26T12:07:22.554Z"
   },
   {
    "duration": 71975,
    "start_time": "2023-01-26T12:07:23.033Z"
   },
   {
    "duration": 58,
    "start_time": "2023-01-26T12:08:48.974Z"
   },
   {
    "duration": 11,
    "start_time": "2023-01-26T12:08:54.292Z"
   },
   {
    "duration": 14,
    "start_time": "2023-01-26T12:11:24.435Z"
   },
   {
    "duration": 12,
    "start_time": "2023-01-26T12:11:32.161Z"
   },
   {
    "duration": 17,
    "start_time": "2023-01-26T12:11:41.496Z"
   },
   {
    "duration": 7,
    "start_time": "2023-01-26T12:13:11.376Z"
   },
   {
    "duration": 17,
    "start_time": "2023-01-26T12:13:17.573Z"
   },
   {
    "duration": 94451,
    "start_time": "2023-01-26T12:14:00.564Z"
   },
   {
    "duration": 18,
    "start_time": "2023-01-26T12:15:35.712Z"
   },
   {
    "duration": 24,
    "start_time": "2023-01-26T12:16:09.531Z"
   },
   {
    "duration": 24,
    "start_time": "2023-01-26T12:16:27.121Z"
   },
   {
    "duration": 20525,
    "start_time": "2023-01-26T12:16:48.209Z"
   },
   {
    "duration": 134997,
    "start_time": "2023-01-26T12:17:18.302Z"
   },
   {
    "duration": 3,
    "start_time": "2023-01-26T12:19:35.607Z"
   },
   {
    "duration": 704468,
    "start_time": "2023-01-26T12:19:36.141Z"
   },
   {
    "duration": 15,
    "start_time": "2023-01-26T12:34:10.757Z"
   },
   {
    "duration": 52,
    "start_time": "2023-01-26T12:34:25.965Z"
   },
   {
    "duration": 3,
    "start_time": "2023-01-26T12:34:44.509Z"
   },
   {
    "duration": 322,
    "start_time": "2023-01-26T12:34:47.806Z"
   },
   {
    "duration": 387,
    "start_time": "2023-01-26T12:36:15.723Z"
   },
   {
    "duration": 711,
    "start_time": "2023-01-26T12:36:34.024Z"
   },
   {
    "duration": 457,
    "start_time": "2023-01-26T12:36:48.257Z"
   },
   {
    "duration": 505,
    "start_time": "2023-01-26T12:36:55.380Z"
   },
   {
    "duration": 638,
    "start_time": "2023-01-26T12:37:31.413Z"
   },
   {
    "duration": 531,
    "start_time": "2023-01-26T12:38:03.522Z"
   },
   {
    "duration": 13247,
    "start_time": "2023-01-26T12:39:08.169Z"
   },
   {
    "duration": 3,
    "start_time": "2023-01-26T12:39:26.805Z"
   },
   {
    "duration": 0,
    "start_time": "2023-01-26T12:49:07.818Z"
   },
   {
    "duration": 0,
    "start_time": "2023-01-26T12:49:07.819Z"
   },
   {
    "duration": 0,
    "start_time": "2023-01-26T12:49:07.820Z"
   },
   {
    "duration": 0,
    "start_time": "2023-01-26T12:49:07.821Z"
   },
   {
    "duration": 3,
    "start_time": "2023-01-26T12:49:09.459Z"
   },
   {
    "duration": 672375,
    "start_time": "2023-01-26T12:49:10.148Z"
   },
   {
    "duration": 75,
    "start_time": "2023-01-26T13:00:22.525Z"
   },
   {
    "duration": 558,
    "start_time": "2023-01-26T13:00:22.603Z"
   },
   {
    "duration": 724,
    "start_time": "2023-01-26T14:21:15.283Z"
   },
   {
    "duration": 801,
    "start_time": "2023-01-26T14:21:27.815Z"
   },
   {
    "duration": 643,
    "start_time": "2023-01-26T14:21:34.646Z"
   },
   {
    "duration": 603,
    "start_time": "2023-01-26T14:21:41.027Z"
   },
   {
    "duration": 53,
    "start_time": "2023-01-26T14:22:21.539Z"
   },
   {
    "duration": 2052,
    "start_time": "2023-01-26T14:29:08.422Z"
   },
   {
    "duration": 154,
    "start_time": "2023-01-26T14:29:10.476Z"
   },
   {
    "duration": 25,
    "start_time": "2023-01-26T14:29:10.631Z"
   },
   {
    "duration": 4,
    "start_time": "2023-01-26T14:29:10.657Z"
   },
   {
    "duration": 26,
    "start_time": "2023-01-26T14:29:10.664Z"
   },
   {
    "duration": 31,
    "start_time": "2023-01-26T14:29:10.691Z"
   },
   {
    "duration": 31,
    "start_time": "2023-01-26T14:29:10.723Z"
   },
   {
    "duration": 14,
    "start_time": "2023-01-26T14:29:10.756Z"
   },
   {
    "duration": 24,
    "start_time": "2023-01-26T14:29:10.772Z"
   },
   {
    "duration": 374,
    "start_time": "2023-01-26T14:29:10.798Z"
   },
   {
    "duration": 328,
    "start_time": "2023-01-26T14:29:11.174Z"
   },
   {
    "duration": 329,
    "start_time": "2023-01-26T14:29:11.504Z"
   },
   {
    "duration": 337,
    "start_time": "2023-01-26T14:29:11.835Z"
   },
   {
    "duration": 6,
    "start_time": "2023-01-26T14:29:12.175Z"
   },
   {
    "duration": 17,
    "start_time": "2023-01-26T14:29:12.182Z"
   },
   {
    "duration": 413,
    "start_time": "2023-01-26T14:29:12.201Z"
   },
   {
    "duration": 5,
    "start_time": "2023-01-26T14:29:12.616Z"
   },
   {
    "duration": 7,
    "start_time": "2023-01-26T14:29:12.623Z"
   },
   {
    "duration": 9,
    "start_time": "2023-01-26T14:29:12.632Z"
   },
   {
    "duration": 214,
    "start_time": "2023-01-26T14:29:12.644Z"
   },
   {
    "duration": 153,
    "start_time": "2023-01-26T14:29:12.859Z"
   },
   {
    "duration": 8,
    "start_time": "2023-01-26T14:29:13.014Z"
   },
   {
    "duration": 17,
    "start_time": "2023-01-26T14:29:13.024Z"
   },
   {
    "duration": 20,
    "start_time": "2023-01-26T14:29:13.043Z"
   },
   {
    "duration": 41,
    "start_time": "2023-01-26T14:29:13.065Z"
   },
   {
    "duration": 6,
    "start_time": "2023-01-26T14:29:13.108Z"
   },
   {
    "duration": 20,
    "start_time": "2023-01-26T14:29:13.116Z"
   },
   {
    "duration": 6,
    "start_time": "2023-01-26T14:29:13.138Z"
   },
   {
    "duration": 60274,
    "start_time": "2023-01-26T14:29:13.146Z"
   },
   {
    "duration": 83,
    "start_time": "2023-01-26T14:30:13.422Z"
   },
   {
    "duration": 443,
    "start_time": "2023-01-26T14:30:13.509Z"
   },
   {
    "duration": 10,
    "start_time": "2023-01-26T14:30:13.954Z"
   },
   {
    "duration": 9,
    "start_time": "2023-01-26T14:30:13.968Z"
   },
   {
    "duration": 14,
    "start_time": "2023-01-26T14:30:13.979Z"
   },
   {
    "duration": 37,
    "start_time": "2023-01-26T14:30:13.995Z"
   },
   {
    "duration": 85984,
    "start_time": "2023-01-26T14:30:14.034Z"
   },
   {
    "duration": 3,
    "start_time": "2023-01-26T14:31:40.020Z"
   },
   {
    "duration": 547398,
    "start_time": "2023-01-26T14:31:40.024Z"
   },
   {
    "duration": 5,
    "start_time": "2023-01-26T14:40:47.500Z"
   },
   {
    "duration": 458,
    "start_time": "2023-01-26T14:40:47.507Z"
   },
   {
    "duration": 1984,
    "start_time": "2023-01-26T14:41:39.017Z"
   },
   {
    "duration": 138,
    "start_time": "2023-01-26T14:41:41.003Z"
   },
   {
    "duration": 91,
    "start_time": "2023-01-26T14:41:41.145Z"
   },
   {
    "duration": 4,
    "start_time": "2023-01-26T14:41:41.240Z"
   },
   {
    "duration": 9,
    "start_time": "2023-01-26T14:41:41.300Z"
   },
   {
    "duration": 27,
    "start_time": "2023-01-26T14:41:41.311Z"
   },
   {
    "duration": 5,
    "start_time": "2023-01-26T14:41:41.341Z"
   },
   {
    "duration": 22,
    "start_time": "2023-01-26T14:41:41.349Z"
   },
   {
    "duration": 11,
    "start_time": "2023-01-26T14:41:41.374Z"
   },
   {
    "duration": 445,
    "start_time": "2023-01-26T14:41:41.387Z"
   },
   {
    "duration": 602,
    "start_time": "2023-01-26T14:41:41.834Z"
   },
   {
    "duration": 427,
    "start_time": "2023-01-26T14:41:42.439Z"
   },
   {
    "duration": 359,
    "start_time": "2023-01-26T14:41:42.869Z"
   },
   {
    "duration": 496,
    "start_time": "2023-01-26T14:41:43.230Z"
   },
   {
    "duration": 6,
    "start_time": "2023-01-26T14:41:43.728Z"
   },
   {
    "duration": 65,
    "start_time": "2023-01-26T14:41:43.736Z"
   },
   {
    "duration": 52,
    "start_time": "2023-01-26T14:41:43.803Z"
   },
   {
    "duration": 337,
    "start_time": "2023-01-26T14:41:43.857Z"
   },
   {
    "duration": 147,
    "start_time": "2023-01-26T14:41:44.196Z"
   },
   {
    "duration": 7,
    "start_time": "2023-01-26T14:41:44.345Z"
   },
   {
    "duration": 82,
    "start_time": "2023-01-26T14:41:44.358Z"
   },
   {
    "duration": 44,
    "start_time": "2023-01-26T14:41:44.442Z"
   },
   {
    "duration": 73,
    "start_time": "2023-01-26T14:41:44.488Z"
   },
   {
    "duration": 42,
    "start_time": "2023-01-26T14:41:44.563Z"
   },
   {
    "duration": 36,
    "start_time": "2023-01-26T14:41:44.607Z"
   },
   {
    "duration": 36,
    "start_time": "2023-01-26T14:41:44.645Z"
   },
   {
    "duration": 40236,
    "start_time": "2023-01-26T14:41:44.684Z"
   },
   {
    "duration": 81,
    "start_time": "2023-01-26T14:42:24.922Z"
   },
   {
    "duration": 406,
    "start_time": "2023-01-26T14:42:25.006Z"
   },
   {
    "duration": 8,
    "start_time": "2023-01-26T14:42:25.414Z"
   },
   {
    "duration": 14,
    "start_time": "2023-01-26T14:42:25.424Z"
   },
   {
    "duration": 9,
    "start_time": "2023-01-26T14:42:25.441Z"
   },
   {
    "duration": 237525,
    "start_time": "2023-01-26T14:42:25.451Z"
   },
   {
    "duration": 0,
    "start_time": "2023-01-26T14:46:22.978Z"
   },
   {
    "duration": 0,
    "start_time": "2023-01-26T14:46:22.980Z"
   },
   {
    "duration": 0,
    "start_time": "2023-01-26T14:46:22.982Z"
   },
   {
    "duration": 0,
    "start_time": "2023-01-26T14:46:22.983Z"
   },
   {
    "duration": 0,
    "start_time": "2023-01-26T14:46:22.985Z"
   },
   {
    "duration": 0,
    "start_time": "2023-01-26T14:46:22.987Z"
   },
   {
    "duration": 2002,
    "start_time": "2023-01-26T14:46:26.887Z"
   },
   {
    "duration": 128,
    "start_time": "2023-01-26T14:46:28.891Z"
   },
   {
    "duration": 26,
    "start_time": "2023-01-26T14:46:29.020Z"
   },
   {
    "duration": 4,
    "start_time": "2023-01-26T14:46:29.048Z"
   },
   {
    "duration": 36,
    "start_time": "2023-01-26T14:46:29.053Z"
   },
   {
    "duration": 39,
    "start_time": "2023-01-26T14:46:29.091Z"
   },
   {
    "duration": 46,
    "start_time": "2023-01-26T14:46:29.132Z"
   },
   {
    "duration": 48,
    "start_time": "2023-01-26T14:46:29.180Z"
   },
   {
    "duration": 47,
    "start_time": "2023-01-26T14:46:29.230Z"
   },
   {
    "duration": 424,
    "start_time": "2023-01-26T14:46:29.281Z"
   },
   {
    "duration": 320,
    "start_time": "2023-01-26T14:46:29.707Z"
   },
   {
    "duration": 331,
    "start_time": "2023-01-26T14:46:30.029Z"
   },
   {
    "duration": 353,
    "start_time": "2023-01-26T14:46:30.361Z"
   },
   {
    "duration": 6,
    "start_time": "2023-01-26T14:46:30.716Z"
   },
   {
    "duration": 35,
    "start_time": "2023-01-26T14:46:30.724Z"
   },
   {
    "duration": 502,
    "start_time": "2023-01-26T14:46:30.762Z"
   },
   {
    "duration": 5,
    "start_time": "2023-01-26T14:46:31.266Z"
   },
   {
    "duration": 56,
    "start_time": "2023-01-26T14:46:31.273Z"
   },
   {
    "duration": 41,
    "start_time": "2023-01-26T14:46:31.331Z"
   },
   {
    "duration": 212,
    "start_time": "2023-01-26T14:46:31.374Z"
   },
   {
    "duration": 155,
    "start_time": "2023-01-26T14:46:31.588Z"
   },
   {
    "duration": 7,
    "start_time": "2023-01-26T14:46:31.744Z"
   },
   {
    "duration": 34,
    "start_time": "2023-01-26T14:46:31.753Z"
   },
   {
    "duration": 39,
    "start_time": "2023-01-26T14:46:31.789Z"
   },
   {
    "duration": 56,
    "start_time": "2023-01-26T14:46:31.830Z"
   },
   {
    "duration": 43,
    "start_time": "2023-01-26T14:46:31.888Z"
   },
   {
    "duration": 97,
    "start_time": "2023-01-26T14:46:31.933Z"
   },
   {
    "duration": 53,
    "start_time": "2023-01-26T14:46:32.034Z"
   },
   {
    "duration": 38615,
    "start_time": "2023-01-26T14:46:32.089Z"
   },
   {
    "duration": 9,
    "start_time": "2023-01-26T14:47:10.706Z"
   },
   {
    "duration": 382,
    "start_time": "2023-01-26T14:47:10.717Z"
   },
   {
    "duration": 10,
    "start_time": "2023-01-26T14:47:11.102Z"
   },
   {
    "duration": 11,
    "start_time": "2023-01-26T14:47:11.116Z"
   },
   {
    "duration": 8,
    "start_time": "2023-01-26T14:47:11.130Z"
   },
   {
    "duration": 99129,
    "start_time": "2023-01-26T14:47:11.141Z"
   },
   {
    "duration": 0,
    "start_time": "2023-01-26T14:48:50.273Z"
   },
   {
    "duration": 0,
    "start_time": "2023-01-26T14:48:50.276Z"
   },
   {
    "duration": 0,
    "start_time": "2023-01-26T14:48:50.277Z"
   },
   {
    "duration": 0,
    "start_time": "2023-01-26T14:48:50.278Z"
   },
   {
    "duration": 0,
    "start_time": "2023-01-26T14:48:50.280Z"
   },
   {
    "duration": 0,
    "start_time": "2023-01-26T14:48:50.282Z"
   },
   {
    "duration": 14,
    "start_time": "2023-01-26T14:48:52.913Z"
   },
   {
    "duration": 1908,
    "start_time": "2023-01-26T14:49:01.063Z"
   },
   {
    "duration": 127,
    "start_time": "2023-01-26T14:49:02.974Z"
   },
   {
    "duration": 24,
    "start_time": "2023-01-26T14:49:03.103Z"
   },
   {
    "duration": 6,
    "start_time": "2023-01-26T14:49:03.129Z"
   },
   {
    "duration": 33,
    "start_time": "2023-01-26T14:49:03.136Z"
   },
   {
    "duration": 19,
    "start_time": "2023-01-26T14:49:03.170Z"
   },
   {
    "duration": 36,
    "start_time": "2023-01-26T14:49:03.191Z"
   },
   {
    "duration": 44,
    "start_time": "2023-01-26T14:49:03.230Z"
   },
   {
    "duration": 15,
    "start_time": "2023-01-26T14:49:03.276Z"
   },
   {
    "duration": 394,
    "start_time": "2023-01-26T14:49:03.296Z"
   },
   {
    "duration": 349,
    "start_time": "2023-01-26T14:49:03.691Z"
   },
   {
    "duration": 402,
    "start_time": "2023-01-26T14:49:04.042Z"
   },
   {
    "duration": 325,
    "start_time": "2023-01-26T14:49:04.445Z"
   },
   {
    "duration": 6,
    "start_time": "2023-01-26T14:49:04.772Z"
   },
   {
    "duration": 19,
    "start_time": "2023-01-26T14:49:04.780Z"
   },
   {
    "duration": 441,
    "start_time": "2023-01-26T14:49:04.800Z"
   },
   {
    "duration": 5,
    "start_time": "2023-01-26T14:49:05.243Z"
   },
   {
    "duration": 48,
    "start_time": "2023-01-26T14:49:05.250Z"
   },
   {
    "duration": 18,
    "start_time": "2023-01-26T14:49:05.300Z"
   },
   {
    "duration": 209,
    "start_time": "2023-01-26T14:49:05.320Z"
   },
   {
    "duration": 162,
    "start_time": "2023-01-26T14:49:05.531Z"
   },
   {
    "duration": 7,
    "start_time": "2023-01-26T14:49:05.699Z"
   },
   {
    "duration": 73,
    "start_time": "2023-01-26T14:49:05.708Z"
   },
   {
    "duration": 42,
    "start_time": "2023-01-26T14:49:05.784Z"
   },
   {
    "duration": 23,
    "start_time": "2023-01-26T14:49:05.829Z"
   },
   {
    "duration": 36,
    "start_time": "2023-01-26T14:49:05.854Z"
   },
   {
    "duration": 27,
    "start_time": "2023-01-26T14:49:05.893Z"
   },
   {
    "duration": 29,
    "start_time": "2023-01-26T14:49:05.925Z"
   },
   {
    "duration": 40550,
    "start_time": "2023-01-26T14:49:05.956Z"
   },
   {
    "duration": 6,
    "start_time": "2023-01-26T14:49:46.508Z"
   },
   {
    "duration": 430,
    "start_time": "2023-01-26T14:49:46.516Z"
   },
   {
    "duration": 6,
    "start_time": "2023-01-26T14:49:46.948Z"
   },
   {
    "duration": 21,
    "start_time": "2023-01-26T14:49:46.956Z"
   },
   {
    "duration": 8,
    "start_time": "2023-01-26T14:49:46.980Z"
   },
   {
    "duration": 96391,
    "start_time": "2023-01-26T14:49:46.990Z"
   },
   {
    "duration": 0,
    "start_time": "2023-01-26T14:51:23.384Z"
   },
   {
    "duration": 0,
    "start_time": "2023-01-26T14:51:23.386Z"
   },
   {
    "duration": 0,
    "start_time": "2023-01-26T14:51:23.398Z"
   },
   {
    "duration": 0,
    "start_time": "2023-01-26T14:51:23.400Z"
   },
   {
    "duration": 0,
    "start_time": "2023-01-26T14:51:23.402Z"
   },
   {
    "duration": 0,
    "start_time": "2023-01-26T14:51:23.404Z"
   },
   {
    "duration": 1782,
    "start_time": "2023-01-26T14:51:27.971Z"
   },
   {
    "duration": 116,
    "start_time": "2023-01-26T14:51:29.755Z"
   },
   {
    "duration": 33,
    "start_time": "2023-01-26T14:51:29.873Z"
   },
   {
    "duration": 3,
    "start_time": "2023-01-26T14:51:29.909Z"
   },
   {
    "duration": 20,
    "start_time": "2023-01-26T14:51:29.914Z"
   },
   {
    "duration": 9,
    "start_time": "2023-01-26T14:51:29.936Z"
   },
   {
    "duration": 6,
    "start_time": "2023-01-26T14:51:29.947Z"
   },
   {
    "duration": 8,
    "start_time": "2023-01-26T14:51:29.955Z"
   },
   {
    "duration": 7,
    "start_time": "2023-01-26T14:51:29.965Z"
   },
   {
    "duration": 347,
    "start_time": "2023-01-26T14:51:29.974Z"
   },
   {
    "duration": 366,
    "start_time": "2023-01-26T14:51:30.324Z"
   },
   {
    "duration": 314,
    "start_time": "2023-01-26T14:51:30.698Z"
   },
   {
    "duration": 319,
    "start_time": "2023-01-26T14:51:31.014Z"
   },
   {
    "duration": 4,
    "start_time": "2023-01-26T14:51:31.335Z"
   },
   {
    "duration": 16,
    "start_time": "2023-01-26T14:51:31.341Z"
   },
   {
    "duration": 478,
    "start_time": "2023-01-26T14:51:31.360Z"
   },
   {
    "duration": 4,
    "start_time": "2023-01-26T14:51:31.840Z"
   },
   {
    "duration": 12,
    "start_time": "2023-01-26T14:51:31.846Z"
   },
   {
    "duration": 12,
    "start_time": "2023-01-26T14:51:31.860Z"
   },
   {
    "duration": 181,
    "start_time": "2023-01-26T14:51:31.875Z"
   },
   {
    "duration": 162,
    "start_time": "2023-01-26T14:51:32.058Z"
   },
   {
    "duration": 6,
    "start_time": "2023-01-26T14:51:32.221Z"
   },
   {
    "duration": 36,
    "start_time": "2023-01-26T14:51:32.229Z"
   },
   {
    "duration": 17,
    "start_time": "2023-01-26T14:51:32.267Z"
   },
   {
    "duration": 16,
    "start_time": "2023-01-26T14:51:32.286Z"
   },
   {
    "duration": 9,
    "start_time": "2023-01-26T14:51:32.304Z"
   },
   {
    "duration": 23,
    "start_time": "2023-01-26T14:51:32.316Z"
   },
   {
    "duration": 27,
    "start_time": "2023-01-26T14:51:32.344Z"
   },
   {
    "duration": 297032,
    "start_time": "2023-01-26T14:51:32.373Z"
   },
   {
    "duration": 31793,
    "start_time": "2023-01-26T14:56:29.408Z"
   },
   {
    "duration": 7,
    "start_time": "2023-01-26T14:57:01.203Z"
   },
   {
    "duration": 354,
    "start_time": "2023-01-26T14:57:01.212Z"
   },
   {
    "duration": 6,
    "start_time": "2023-01-26T14:57:01.567Z"
   },
   {
    "duration": 54,
    "start_time": "2023-01-26T14:57:01.575Z"
   },
   {
    "duration": 62,
    "start_time": "2023-01-26T14:57:01.630Z"
   },
   {
    "duration": 1192519,
    "start_time": "2023-01-26T14:57:01.694Z"
   },
   {
    "duration": 17,
    "start_time": "2023-01-26T15:16:54.216Z"
   },
   {
    "duration": 78374,
    "start_time": "2023-01-26T15:16:54.236Z"
   },
   {
    "duration": 4,
    "start_time": "2023-01-26T15:18:12.612Z"
   },
   {
    "duration": 417386,
    "start_time": "2023-01-26T15:18:12.619Z"
   },
   {
    "duration": 4,
    "start_time": "2023-01-26T15:25:10.006Z"
   },
   {
    "duration": 487,
    "start_time": "2023-01-26T15:25:10.012Z"
   },
   {
    "duration": 8,
    "start_time": "2023-01-26T15:26:09.481Z"
   },
   {
    "duration": 1185563,
    "start_time": "2023-01-26T15:26:15.054Z"
   },
   {
    "duration": 75169,
    "start_time": "2023-01-26T15:58:04.046Z"
   },
   {
    "duration": 7,
    "start_time": "2023-01-26T15:59:19.217Z"
   },
   {
    "duration": 38017,
    "start_time": "2023-01-26T15:59:27.485Z"
   },
   {
    "duration": 6,
    "start_time": "2023-01-26T16:00:07.827Z"
   },
   {
    "duration": 30607,
    "start_time": "2023-01-26T16:00:32.913Z"
   },
   {
    "duration": 0,
    "start_time": "2023-01-26T16:01:03.522Z"
   },
   {
    "duration": 0,
    "start_time": "2023-01-26T16:01:17.536Z"
   },
   {
    "duration": 0,
    "start_time": "2023-01-26T16:01:17.537Z"
   },
   {
    "duration": 5,
    "start_time": "2023-01-26T16:02:32.230Z"
   },
   {
    "duration": 6,
    "start_time": "2023-01-26T16:02:38.112Z"
   },
   {
    "duration": 9,
    "start_time": "2023-01-26T16:02:41.492Z"
   },
   {
    "duration": 29727,
    "start_time": "2023-01-26T16:02:41.886Z"
   },
   {
    "duration": 7,
    "start_time": "2023-01-26T16:03:13.728Z"
   },
   {
    "duration": 14,
    "start_time": "2023-01-26T16:03:20.107Z"
   },
   {
    "duration": 75550,
    "start_time": "2023-01-26T16:03:23.059Z"
   },
   {
    "duration": 1898,
    "start_time": "2023-01-26T16:06:49.364Z"
   },
   {
    "duration": 118,
    "start_time": "2023-01-26T16:06:51.264Z"
   },
   {
    "duration": 41,
    "start_time": "2023-01-26T16:06:51.385Z"
   },
   {
    "duration": 3,
    "start_time": "2023-01-26T16:06:51.428Z"
   },
   {
    "duration": 25,
    "start_time": "2023-01-26T16:06:51.433Z"
   },
   {
    "duration": 36,
    "start_time": "2023-01-26T16:06:51.460Z"
   },
   {
    "duration": 23,
    "start_time": "2023-01-26T16:06:51.498Z"
   },
   {
    "duration": 48,
    "start_time": "2023-01-26T16:06:51.523Z"
   },
   {
    "duration": 20,
    "start_time": "2023-01-26T16:06:51.573Z"
   },
   {
    "duration": 365,
    "start_time": "2023-01-26T16:06:51.595Z"
   },
   {
    "duration": 323,
    "start_time": "2023-01-26T16:06:51.962Z"
   },
   {
    "duration": 345,
    "start_time": "2023-01-26T16:06:52.287Z"
   },
   {
    "duration": 324,
    "start_time": "2023-01-26T16:06:52.635Z"
   },
   {
    "duration": 6,
    "start_time": "2023-01-26T16:06:52.964Z"
   },
   {
    "duration": 19,
    "start_time": "2023-01-26T16:06:52.971Z"
   },
   {
    "duration": 461,
    "start_time": "2023-01-26T16:06:52.992Z"
   },
   {
    "duration": 5,
    "start_time": "2023-01-26T16:06:53.455Z"
   },
   {
    "duration": 11,
    "start_time": "2023-01-26T16:06:53.463Z"
   },
   {
    "duration": 28,
    "start_time": "2023-01-26T16:06:53.477Z"
   },
   {
    "duration": 219,
    "start_time": "2023-01-26T16:06:53.507Z"
   },
   {
    "duration": 178,
    "start_time": "2023-01-26T16:06:53.728Z"
   },
   {
    "duration": 11,
    "start_time": "2023-01-26T16:06:53.909Z"
   },
   {
    "duration": 51,
    "start_time": "2023-01-26T16:06:53.923Z"
   },
   {
    "duration": 34,
    "start_time": "2023-01-26T16:06:53.976Z"
   },
   {
    "duration": 19,
    "start_time": "2023-01-26T16:06:54.012Z"
   },
   {
    "duration": 10,
    "start_time": "2023-01-26T16:06:54.033Z"
   },
   {
    "duration": 21,
    "start_time": "2023-01-26T16:06:54.045Z"
   },
   {
    "duration": 22,
    "start_time": "2023-01-26T16:06:54.068Z"
   },
   {
    "duration": 244929,
    "start_time": "2023-01-26T16:06:54.094Z"
   },
   {
    "duration": 39006,
    "start_time": "2023-01-26T16:10:59.098Z"
   },
   {
    "duration": 9,
    "start_time": "2023-01-26T16:11:38.105Z"
   },
   {
    "duration": 405,
    "start_time": "2023-01-26T16:11:38.116Z"
   },
   {
    "duration": 7,
    "start_time": "2023-01-26T16:11:38.523Z"
   },
   {
    "duration": 36,
    "start_time": "2023-01-26T16:11:38.533Z"
   },
   {
    "duration": 13,
    "start_time": "2023-01-26T16:11:38.571Z"
   },
   {
    "duration": 1021416,
    "start_time": "2023-01-26T16:11:38.586Z"
   },
   {
    "duration": 16,
    "start_time": "2023-01-26T16:28:40.004Z"
   },
   {
    "duration": 73996,
    "start_time": "2023-01-26T16:28:40.022Z"
   },
   {
    "duration": 4,
    "start_time": "2023-01-26T16:29:54.021Z"
   },
   {
    "duration": 377289,
    "start_time": "2023-01-26T16:29:54.028Z"
   },
   {
    "duration": 3,
    "start_time": "2023-01-26T16:36:11.320Z"
   },
   {
    "duration": 462,
    "start_time": "2023-01-26T16:36:11.325Z"
   },
   {
    "duration": 6,
    "start_time": "2023-01-26T16:43:21.694Z"
   },
   {
    "duration": 6,
    "start_time": "2023-01-26T16:44:37.306Z"
   },
   {
    "duration": 40142,
    "start_time": "2023-01-26T16:44:37.313Z"
   },
   {
    "duration": 0,
    "start_time": "2023-01-26T16:45:17.457Z"
   },
   {
    "duration": 5,
    "start_time": "2023-01-26T16:45:21.531Z"
   },
   {
    "duration": 54588,
    "start_time": "2023-01-26T16:45:26.219Z"
   },
   {
    "duration": 6,
    "start_time": "2023-01-26T16:47:00.147Z"
   },
   {
    "duration": 54795,
    "start_time": "2023-01-26T16:47:05.124Z"
   },
   {
    "duration": 6,
    "start_time": "2023-01-26T16:49:25.634Z"
   },
   {
    "duration": 56447,
    "start_time": "2023-01-26T16:49:32.759Z"
   },
   {
    "duration": 6,
    "start_time": "2023-01-26T16:50:40.281Z"
   },
   {
    "duration": 23584,
    "start_time": "2023-01-26T16:50:45.026Z"
   },
   {
    "duration": 7,
    "start_time": "2023-01-26T16:51:10.869Z"
   },
   {
    "duration": 56495,
    "start_time": "2023-01-26T16:51:19.017Z"
   },
   {
    "duration": 1862,
    "start_time": "2023-01-26T16:52:35.767Z"
   },
   {
    "duration": 113,
    "start_time": "2023-01-26T16:52:37.631Z"
   },
   {
    "duration": 22,
    "start_time": "2023-01-26T16:52:37.746Z"
   },
   {
    "duration": 5,
    "start_time": "2023-01-26T16:52:37.770Z"
   },
   {
    "duration": 23,
    "start_time": "2023-01-26T16:52:37.777Z"
   },
   {
    "duration": 30,
    "start_time": "2023-01-26T16:52:37.801Z"
   },
   {
    "duration": 17,
    "start_time": "2023-01-26T16:52:37.833Z"
   },
   {
    "duration": 19,
    "start_time": "2023-01-26T16:52:37.852Z"
   },
   {
    "duration": 9,
    "start_time": "2023-01-26T16:52:37.873Z"
   },
   {
    "duration": 333,
    "start_time": "2023-01-26T16:52:37.884Z"
   },
   {
    "duration": 331,
    "start_time": "2023-01-26T16:52:38.219Z"
   },
   {
    "duration": 304,
    "start_time": "2023-01-26T16:52:38.552Z"
   },
   {
    "duration": 298,
    "start_time": "2023-01-26T16:52:38.858Z"
   },
   {
    "duration": 4,
    "start_time": "2023-01-26T16:52:39.159Z"
   },
   {
    "duration": 8,
    "start_time": "2023-01-26T16:52:39.165Z"
   },
   {
    "duration": 406,
    "start_time": "2023-01-26T16:52:39.174Z"
   },
   {
    "duration": 5,
    "start_time": "2023-01-26T16:52:39.582Z"
   },
   {
    "duration": 4,
    "start_time": "2023-01-26T16:52:39.599Z"
   },
   {
    "duration": 20,
    "start_time": "2023-01-26T16:52:39.605Z"
   },
   {
    "duration": 187,
    "start_time": "2023-01-26T16:52:39.627Z"
   },
   {
    "duration": 157,
    "start_time": "2023-01-26T16:52:39.817Z"
   },
   {
    "duration": 6,
    "start_time": "2023-01-26T16:52:39.976Z"
   },
   {
    "duration": 28,
    "start_time": "2023-01-26T16:52:39.983Z"
   },
   {
    "duration": 24,
    "start_time": "2023-01-26T16:52:40.013Z"
   },
   {
    "duration": 9,
    "start_time": "2023-01-26T16:52:40.038Z"
   },
   {
    "duration": 7,
    "start_time": "2023-01-26T16:52:40.048Z"
   },
   {
    "duration": 5,
    "start_time": "2023-01-26T16:52:40.057Z"
   },
   {
    "duration": 11,
    "start_time": "2023-01-26T16:52:40.064Z"
   },
   {
    "duration": 27725,
    "start_time": "2023-01-26T16:52:40.077Z"
   },
   {
    "duration": 7,
    "start_time": "2023-01-26T16:53:07.803Z"
   },
   {
    "duration": 353,
    "start_time": "2023-01-26T16:53:07.811Z"
   },
   {
    "duration": 5,
    "start_time": "2023-01-26T16:53:08.166Z"
   },
   {
    "duration": 12,
    "start_time": "2023-01-26T16:53:08.173Z"
   },
   {
    "duration": 9,
    "start_time": "2023-01-26T16:53:08.186Z"
   },
   {
    "duration": 10,
    "start_time": "2023-01-26T16:53:08.199Z"
   },
   {
    "duration": 66505,
    "start_time": "2023-01-26T16:53:08.210Z"
   },
   {
    "duration": 2,
    "start_time": "2023-01-26T16:54:14.717Z"
   },
   {
    "duration": 344784,
    "start_time": "2023-01-26T16:54:14.720Z"
   },
   {
    "duration": 4,
    "start_time": "2023-01-26T16:59:59.506Z"
   },
   {
    "duration": 424,
    "start_time": "2023-01-26T16:59:59.511Z"
   },
   {
    "duration": 8,
    "start_time": "2023-01-26T17:00:33.511Z"
   },
   {
    "duration": 5,
    "start_time": "2023-01-26T17:00:34.836Z"
   },
   {
    "duration": 9,
    "start_time": "2023-01-26T17:00:40.506Z"
   },
   {
    "duration": 71059,
    "start_time": "2023-01-26T17:00:41.140Z"
   },
   {
    "duration": 7,
    "start_time": "2023-01-26T17:02:24.562Z"
   },
   {
    "duration": 5,
    "start_time": "2023-01-26T17:02:25.631Z"
   },
   {
    "duration": 8,
    "start_time": "2023-01-26T17:02:27.747Z"
   },
   {
    "duration": 57327,
    "start_time": "2023-01-26T17:02:28.159Z"
   },
   {
    "duration": 84,
    "start_time": "2023-01-26T17:03:31.037Z"
   },
   {
    "duration": 7,
    "start_time": "2023-01-26T17:03:36.569Z"
   },
   {
    "duration": 8444,
    "start_time": "2023-01-26T17:03:40.476Z"
   },
   {
    "duration": 45,
    "start_time": "2023-01-26T17:04:09.684Z"
   },
   {
    "duration": 7,
    "start_time": "2023-01-26T17:04:13.832Z"
   },
   {
    "duration": 0,
    "start_time": "2023-01-26T17:04:40.827Z"
   },
   {
    "duration": 0,
    "start_time": "2023-01-26T17:04:40.829Z"
   },
   {
    "duration": 7,
    "start_time": "2023-01-26T17:04:42.268Z"
   },
   {
    "duration": 34925,
    "start_time": "2023-01-26T17:04:42.606Z"
   },
   {
    "duration": 1818,
    "start_time": "2023-01-26T17:05:21.576Z"
   },
   {
    "duration": 124,
    "start_time": "2023-01-26T17:05:23.396Z"
   },
   {
    "duration": 25,
    "start_time": "2023-01-26T17:05:23.522Z"
   },
   {
    "duration": 4,
    "start_time": "2023-01-26T17:05:23.549Z"
   },
   {
    "duration": 12,
    "start_time": "2023-01-26T17:05:23.555Z"
   },
   {
    "duration": 18,
    "start_time": "2023-01-26T17:05:23.568Z"
   },
   {
    "duration": 3,
    "start_time": "2023-01-26T17:05:23.599Z"
   },
   {
    "duration": 8,
    "start_time": "2023-01-26T17:05:23.603Z"
   },
   {
    "duration": 10,
    "start_time": "2023-01-26T17:05:23.613Z"
   },
   {
    "duration": 406,
    "start_time": "2023-01-26T17:05:23.626Z"
   },
   {
    "duration": 411,
    "start_time": "2023-01-26T17:05:24.034Z"
   },
   {
    "duration": 365,
    "start_time": "2023-01-26T17:05:24.447Z"
   },
   {
    "duration": 361,
    "start_time": "2023-01-26T17:05:24.814Z"
   },
   {
    "duration": 5,
    "start_time": "2023-01-26T17:05:25.177Z"
   },
   {
    "duration": 24,
    "start_time": "2023-01-26T17:05:25.184Z"
   },
   {
    "duration": 445,
    "start_time": "2023-01-26T17:05:25.210Z"
   },
   {
    "duration": 5,
    "start_time": "2023-01-26T17:05:25.657Z"
   },
   {
    "duration": 14,
    "start_time": "2023-01-26T17:05:25.664Z"
   },
   {
    "duration": 12,
    "start_time": "2023-01-26T17:05:25.679Z"
   },
   {
    "duration": 189,
    "start_time": "2023-01-26T17:05:25.700Z"
   },
   {
    "duration": 164,
    "start_time": "2023-01-26T17:05:25.890Z"
   },
   {
    "duration": 7,
    "start_time": "2023-01-26T17:05:26.056Z"
   },
   {
    "duration": 15,
    "start_time": "2023-01-26T17:05:26.065Z"
   },
   {
    "duration": 25,
    "start_time": "2023-01-26T17:05:26.082Z"
   },
   {
    "duration": 10,
    "start_time": "2023-01-26T17:05:26.109Z"
   },
   {
    "duration": 9,
    "start_time": "2023-01-26T17:05:26.121Z"
   },
   {
    "duration": 6,
    "start_time": "2023-01-26T17:05:26.131Z"
   },
   {
    "duration": 6,
    "start_time": "2023-01-26T17:05:26.140Z"
   },
   {
    "duration": 212860,
    "start_time": "2023-01-26T17:05:26.148Z"
   },
   {
    "duration": 34109,
    "start_time": "2023-01-26T17:08:59.010Z"
   },
   {
    "duration": 79,
    "start_time": "2023-01-26T17:09:33.121Z"
   },
   {
    "duration": 339,
    "start_time": "2023-01-26T17:09:33.202Z"
   },
   {
    "duration": 7,
    "start_time": "2023-01-26T17:09:33.543Z"
   },
   {
    "duration": 10,
    "start_time": "2023-01-26T17:09:33.551Z"
   },
   {
    "duration": 17,
    "start_time": "2023-01-26T17:09:33.563Z"
   },
   {
    "duration": 1066327,
    "start_time": "2023-01-26T17:09:33.581Z"
   },
   {
    "duration": 14,
    "start_time": "2023-01-26T17:27:19.910Z"
   },
   {
    "duration": 62380,
    "start_time": "2023-01-26T17:27:19.926Z"
   },
   {
    "duration": 2,
    "start_time": "2023-01-26T17:28:22.308Z"
   },
   {
    "duration": 340188,
    "start_time": "2023-01-26T17:28:22.312Z"
   },
   {
    "duration": 4,
    "start_time": "2023-01-26T17:34:02.501Z"
   },
   {
    "duration": 422,
    "start_time": "2023-01-26T17:34:02.506Z"
   },
   {
    "duration": 1930,
    "start_time": "2023-01-26T17:50:28.175Z"
   },
   {
    "duration": 121,
    "start_time": "2023-01-26T17:50:30.107Z"
   },
   {
    "duration": 23,
    "start_time": "2023-01-26T17:50:30.230Z"
   },
   {
    "duration": 17,
    "start_time": "2023-01-26T17:50:30.255Z"
   },
   {
    "duration": 103,
    "start_time": "2023-01-26T17:50:30.276Z"
   },
   {
    "duration": 51,
    "start_time": "2023-01-26T17:50:30.381Z"
   },
   {
    "duration": 35,
    "start_time": "2023-01-26T17:50:30.434Z"
   },
   {
    "duration": 47,
    "start_time": "2023-01-26T17:50:30.471Z"
   },
   {
    "duration": 37,
    "start_time": "2023-01-26T17:50:30.520Z"
   },
   {
    "duration": 413,
    "start_time": "2023-01-26T17:50:30.559Z"
   },
   {
    "duration": 349,
    "start_time": "2023-01-26T17:50:30.974Z"
   },
   {
    "duration": 323,
    "start_time": "2023-01-26T17:50:31.325Z"
   },
   {
    "duration": 335,
    "start_time": "2023-01-26T17:50:31.649Z"
   },
   {
    "duration": 14,
    "start_time": "2023-01-26T17:50:31.986Z"
   },
   {
    "duration": 81,
    "start_time": "2023-01-26T17:50:32.002Z"
   },
   {
    "duration": 484,
    "start_time": "2023-01-26T17:50:32.085Z"
   },
   {
    "duration": 7,
    "start_time": "2023-01-26T17:50:32.571Z"
   },
   {
    "duration": 33,
    "start_time": "2023-01-26T17:50:32.580Z"
   },
   {
    "duration": 130,
    "start_time": "2023-01-26T17:50:32.616Z"
   },
   {
    "duration": 251,
    "start_time": "2023-01-26T17:50:32.749Z"
   },
   {
    "duration": 177,
    "start_time": "2023-01-26T17:50:33.003Z"
   },
   {
    "duration": 7,
    "start_time": "2023-01-26T17:50:33.181Z"
   },
   {
    "duration": 58,
    "start_time": "2023-01-26T17:50:33.191Z"
   },
   {
    "duration": 37,
    "start_time": "2023-01-26T17:50:33.251Z"
   },
   {
    "duration": 47,
    "start_time": "2023-01-26T17:50:33.290Z"
   },
   {
    "duration": 41,
    "start_time": "2023-01-26T17:50:33.339Z"
   },
   {
    "duration": 35,
    "start_time": "2023-01-26T17:50:33.382Z"
   },
   {
    "duration": 72,
    "start_time": "2023-01-26T17:50:33.419Z"
   },
   {
    "duration": 38326,
    "start_time": "2023-01-26T17:50:33.493Z"
   },
   {
    "duration": 7,
    "start_time": "2023-01-26T17:51:11.821Z"
   },
   {
    "duration": 409,
    "start_time": "2023-01-26T17:51:11.830Z"
   },
   {
    "duration": 8,
    "start_time": "2023-01-26T17:51:12.241Z"
   },
   {
    "duration": 12,
    "start_time": "2023-01-26T17:51:12.251Z"
   },
   {
    "duration": 8,
    "start_time": "2023-01-26T17:51:12.266Z"
   },
   {
    "duration": 31,
    "start_time": "2023-01-26T17:51:12.277Z"
   },
   {
    "duration": 70749,
    "start_time": "2023-01-26T17:51:12.310Z"
   },
   {
    "duration": 0,
    "start_time": "2023-01-26T17:52:23.060Z"
   },
   {
    "duration": 0,
    "start_time": "2023-01-26T17:52:23.062Z"
   },
   {
    "duration": 0,
    "start_time": "2023-01-26T17:52:23.064Z"
   },
   {
    "duration": 0,
    "start_time": "2023-01-26T17:52:23.066Z"
   },
   {
    "duration": 2050,
    "start_time": "2023-01-26T17:52:26.408Z"
   },
   {
    "duration": 154,
    "start_time": "2023-01-26T17:52:28.461Z"
   },
   {
    "duration": 30,
    "start_time": "2023-01-26T17:52:28.617Z"
   },
   {
    "duration": 7,
    "start_time": "2023-01-26T17:52:28.650Z"
   },
   {
    "duration": 33,
    "start_time": "2023-01-26T17:52:28.659Z"
   },
   {
    "duration": 30,
    "start_time": "2023-01-26T17:52:28.694Z"
   },
   {
    "duration": 42,
    "start_time": "2023-01-26T17:52:28.726Z"
   },
   {
    "duration": 19,
    "start_time": "2023-01-26T17:52:28.770Z"
   },
   {
    "duration": 42,
    "start_time": "2023-01-26T17:52:28.790Z"
   },
   {
    "duration": 355,
    "start_time": "2023-01-26T17:52:28.834Z"
   },
   {
    "duration": 332,
    "start_time": "2023-01-26T17:52:29.199Z"
   },
   {
    "duration": 344,
    "start_time": "2023-01-26T17:52:29.533Z"
   },
   {
    "duration": 350,
    "start_time": "2023-01-26T17:52:29.879Z"
   },
   {
    "duration": 6,
    "start_time": "2023-01-26T17:52:30.232Z"
   },
   {
    "duration": 31,
    "start_time": "2023-01-26T17:52:30.239Z"
   },
   {
    "duration": 496,
    "start_time": "2023-01-26T17:52:30.272Z"
   },
   {
    "duration": 5,
    "start_time": "2023-01-26T17:52:30.771Z"
   },
   {
    "duration": 28,
    "start_time": "2023-01-26T17:52:30.779Z"
   },
   {
    "duration": 56,
    "start_time": "2023-01-26T17:52:30.809Z"
   },
   {
    "duration": 220,
    "start_time": "2023-01-26T17:52:30.867Z"
   },
   {
    "duration": 153,
    "start_time": "2023-01-26T17:52:31.089Z"
   },
   {
    "duration": 6,
    "start_time": "2023-01-26T17:52:31.245Z"
   },
   {
    "duration": 30,
    "start_time": "2023-01-26T17:52:31.253Z"
   },
   {
    "duration": 37,
    "start_time": "2023-01-26T17:52:31.285Z"
   },
   {
    "duration": 20,
    "start_time": "2023-01-26T17:52:31.324Z"
   },
   {
    "duration": 17,
    "start_time": "2023-01-26T17:52:31.346Z"
   },
   {
    "duration": 37,
    "start_time": "2023-01-26T17:52:31.365Z"
   },
   {
    "duration": 24,
    "start_time": "2023-01-26T17:52:31.405Z"
   },
   {
    "duration": 37184,
    "start_time": "2023-01-26T17:52:31.431Z"
   },
   {
    "duration": 8,
    "start_time": "2023-01-26T17:53:08.617Z"
   },
   {
    "duration": 423,
    "start_time": "2023-01-26T17:53:08.627Z"
   },
   {
    "duration": 6,
    "start_time": "2023-01-26T17:53:09.052Z"
   },
   {
    "duration": 17,
    "start_time": "2023-01-26T17:53:09.060Z"
   },
   {
    "duration": 13,
    "start_time": "2023-01-26T17:53:09.078Z"
   },
   {
    "duration": 12,
    "start_time": "2023-01-26T17:53:09.093Z"
   },
   {
    "duration": 27856,
    "start_time": "2023-01-26T17:53:09.107Z"
   },
   {
    "duration": 0,
    "start_time": "2023-01-26T17:53:36.965Z"
   },
   {
    "duration": 0,
    "start_time": "2023-01-26T17:53:36.966Z"
   },
   {
    "duration": 0,
    "start_time": "2023-01-26T17:53:36.967Z"
   },
   {
    "duration": 0,
    "start_time": "2023-01-26T17:53:36.968Z"
   },
   {
    "duration": 1868,
    "start_time": "2023-01-26T17:53:42.522Z"
   },
   {
    "duration": 124,
    "start_time": "2023-01-26T17:53:44.392Z"
   },
   {
    "duration": 24,
    "start_time": "2023-01-26T17:53:44.518Z"
   },
   {
    "duration": 3,
    "start_time": "2023-01-26T17:53:44.545Z"
   },
   {
    "duration": 13,
    "start_time": "2023-01-26T17:53:44.550Z"
   },
   {
    "duration": 35,
    "start_time": "2023-01-26T17:53:44.565Z"
   },
   {
    "duration": 10,
    "start_time": "2023-01-26T17:53:44.602Z"
   },
   {
    "duration": 13,
    "start_time": "2023-01-26T17:53:44.613Z"
   },
   {
    "duration": 5,
    "start_time": "2023-01-26T17:53:44.628Z"
   },
   {
    "duration": 346,
    "start_time": "2023-01-26T17:53:44.636Z"
   },
   {
    "duration": 338,
    "start_time": "2023-01-26T17:53:44.983Z"
   },
   {
    "duration": 436,
    "start_time": "2023-01-26T17:53:45.324Z"
   },
   {
    "duration": 344,
    "start_time": "2023-01-26T17:53:45.762Z"
   },
   {
    "duration": 5,
    "start_time": "2023-01-26T17:53:46.107Z"
   },
   {
    "duration": 29,
    "start_time": "2023-01-26T17:53:46.114Z"
   },
   {
    "duration": 442,
    "start_time": "2023-01-26T17:53:46.145Z"
   },
   {
    "duration": 13,
    "start_time": "2023-01-26T17:53:46.589Z"
   },
   {
    "duration": 19,
    "start_time": "2023-01-26T17:53:46.604Z"
   },
   {
    "duration": 19,
    "start_time": "2023-01-26T17:53:46.626Z"
   },
   {
    "duration": 239,
    "start_time": "2023-01-26T17:53:46.648Z"
   },
   {
    "duration": 165,
    "start_time": "2023-01-26T17:53:46.889Z"
   },
   {
    "duration": 7,
    "start_time": "2023-01-26T17:53:47.056Z"
   },
   {
    "duration": 33,
    "start_time": "2023-01-26T17:53:47.066Z"
   },
   {
    "duration": 47,
    "start_time": "2023-01-26T17:53:47.101Z"
   },
   {
    "duration": 43,
    "start_time": "2023-01-26T17:53:47.150Z"
   },
   {
    "duration": 22,
    "start_time": "2023-01-26T17:53:47.196Z"
   },
   {
    "duration": 40,
    "start_time": "2023-01-26T17:53:47.220Z"
   },
   {
    "duration": 30,
    "start_time": "2023-01-26T17:53:47.264Z"
   },
   {
    "duration": 41510,
    "start_time": "2023-01-26T17:53:47.297Z"
   },
   {
    "duration": 11,
    "start_time": "2023-01-26T17:54:28.809Z"
   },
   {
    "duration": 360,
    "start_time": "2023-01-26T17:54:28.822Z"
   },
   {
    "duration": 15,
    "start_time": "2023-01-26T17:54:29.185Z"
   },
   {
    "duration": 9,
    "start_time": "2023-01-26T17:54:29.202Z"
   },
   {
    "duration": 9,
    "start_time": "2023-01-26T17:54:29.213Z"
   },
   {
    "duration": 12,
    "start_time": "2023-01-26T17:54:29.224Z"
   },
   {
    "duration": 86061,
    "start_time": "2023-01-26T17:54:29.239Z"
   },
   {
    "duration": 3,
    "start_time": "2023-01-26T17:55:55.302Z"
   },
   {
    "duration": 56091,
    "start_time": "2023-01-26T17:55:55.307Z"
   },
   {
    "duration": 0,
    "start_time": "2023-01-26T17:56:51.401Z"
   },
   {
    "duration": 0,
    "start_time": "2023-01-26T17:56:51.402Z"
   },
   {
    "duration": 0,
    "start_time": "2023-01-26T17:56:51.403Z"
   },
   {
    "duration": 1939,
    "start_time": "2023-01-26T17:56:54.936Z"
   },
   {
    "duration": 132,
    "start_time": "2023-01-26T17:56:56.879Z"
   },
   {
    "duration": 44,
    "start_time": "2023-01-26T17:56:57.014Z"
   },
   {
    "duration": 5,
    "start_time": "2023-01-26T17:56:57.060Z"
   },
   {
    "duration": 32,
    "start_time": "2023-01-26T17:56:57.069Z"
   },
   {
    "duration": 36,
    "start_time": "2023-01-26T17:56:57.104Z"
   },
   {
    "duration": 6,
    "start_time": "2023-01-26T17:56:57.142Z"
   },
   {
    "duration": 11,
    "start_time": "2023-01-26T17:56:57.150Z"
   },
   {
    "duration": 18,
    "start_time": "2023-01-26T17:56:57.164Z"
   },
   {
    "duration": 385,
    "start_time": "2023-01-26T17:56:57.184Z"
   },
   {
    "duration": 364,
    "start_time": "2023-01-26T17:56:57.571Z"
   },
   {
    "duration": 331,
    "start_time": "2023-01-26T17:56:57.937Z"
   },
   {
    "duration": 332,
    "start_time": "2023-01-26T17:56:58.270Z"
   },
   {
    "duration": 6,
    "start_time": "2023-01-26T17:56:58.605Z"
   },
   {
    "duration": 22,
    "start_time": "2023-01-26T17:56:58.613Z"
   },
   {
    "duration": 439,
    "start_time": "2023-01-26T17:56:58.636Z"
   },
   {
    "duration": 5,
    "start_time": "2023-01-26T17:56:59.077Z"
   },
   {
    "duration": 18,
    "start_time": "2023-01-26T17:56:59.085Z"
   },
   {
    "duration": 36,
    "start_time": "2023-01-26T17:56:59.106Z"
   },
   {
    "duration": 208,
    "start_time": "2023-01-26T17:56:59.144Z"
   },
   {
    "duration": 154,
    "start_time": "2023-01-26T17:56:59.354Z"
   },
   {
    "duration": 8,
    "start_time": "2023-01-26T17:56:59.510Z"
   },
   {
    "duration": 50,
    "start_time": "2023-01-26T17:56:59.520Z"
   },
   {
    "duration": 34,
    "start_time": "2023-01-26T17:56:59.572Z"
   },
   {
    "duration": 23,
    "start_time": "2023-01-26T17:56:59.608Z"
   },
   {
    "duration": 27,
    "start_time": "2023-01-26T17:56:59.634Z"
   },
   {
    "duration": 35,
    "start_time": "2023-01-26T17:56:59.663Z"
   },
   {
    "duration": 41,
    "start_time": "2023-01-26T17:56:59.699Z"
   },
   {
    "duration": 37168,
    "start_time": "2023-01-26T17:56:59.743Z"
   },
   {
    "duration": 7,
    "start_time": "2023-01-26T17:57:36.913Z"
   },
   {
    "duration": 448,
    "start_time": "2023-01-26T17:57:36.923Z"
   },
   {
    "duration": 9,
    "start_time": "2023-01-26T17:57:37.374Z"
   },
   {
    "duration": 45,
    "start_time": "2023-01-26T17:57:37.385Z"
   },
   {
    "duration": 52,
    "start_time": "2023-01-26T17:57:37.432Z"
   },
   {
    "duration": 38,
    "start_time": "2023-01-26T17:57:37.486Z"
   },
   {
    "duration": 45229,
    "start_time": "2023-01-26T17:57:37.527Z"
   },
   {
    "duration": 0,
    "start_time": "2023-01-26T17:58:22.759Z"
   },
   {
    "duration": 0,
    "start_time": "2023-01-26T17:58:22.761Z"
   },
   {
    "duration": 0,
    "start_time": "2023-01-26T17:58:22.762Z"
   },
   {
    "duration": 0,
    "start_time": "2023-01-26T17:58:22.764Z"
   },
   {
    "duration": 1859,
    "start_time": "2023-01-26T17:58:26.581Z"
   },
   {
    "duration": 121,
    "start_time": "2023-01-26T17:58:28.442Z"
   },
   {
    "duration": 35,
    "start_time": "2023-01-26T17:58:28.565Z"
   },
   {
    "duration": 7,
    "start_time": "2023-01-26T17:58:28.602Z"
   },
   {
    "duration": 10,
    "start_time": "2023-01-26T17:58:28.611Z"
   },
   {
    "duration": 10,
    "start_time": "2023-01-26T17:58:28.623Z"
   },
   {
    "duration": 6,
    "start_time": "2023-01-26T17:58:28.635Z"
   },
   {
    "duration": 23,
    "start_time": "2023-01-26T17:58:28.643Z"
   },
   {
    "duration": 6,
    "start_time": "2023-01-26T17:58:28.668Z"
   },
   {
    "duration": 314,
    "start_time": "2023-01-26T17:58:28.676Z"
   },
   {
    "duration": 311,
    "start_time": "2023-01-26T17:58:28.999Z"
   },
   {
    "duration": 313,
    "start_time": "2023-01-26T17:58:29.311Z"
   },
   {
    "duration": 322,
    "start_time": "2023-01-26T17:58:29.626Z"
   },
   {
    "duration": 5,
    "start_time": "2023-01-26T17:58:29.951Z"
   },
   {
    "duration": 25,
    "start_time": "2023-01-26T17:58:29.958Z"
   },
   {
    "duration": 433,
    "start_time": "2023-01-26T17:58:29.985Z"
   },
   {
    "duration": 9,
    "start_time": "2023-01-26T17:58:30.420Z"
   },
   {
    "duration": 31,
    "start_time": "2023-01-26T17:58:30.432Z"
   },
   {
    "duration": 37,
    "start_time": "2023-01-26T17:58:30.465Z"
   },
   {
    "duration": 197,
    "start_time": "2023-01-26T17:58:30.504Z"
   },
   {
    "duration": 174,
    "start_time": "2023-01-26T17:58:30.704Z"
   },
   {
    "duration": 6,
    "start_time": "2023-01-26T17:58:30.880Z"
   },
   {
    "duration": 40,
    "start_time": "2023-01-26T17:58:30.887Z"
   },
   {
    "duration": 38,
    "start_time": "2023-01-26T17:58:30.929Z"
   },
   {
    "duration": 36,
    "start_time": "2023-01-26T17:58:30.969Z"
   },
   {
    "duration": 35,
    "start_time": "2023-01-26T17:58:31.007Z"
   },
   {
    "duration": 46,
    "start_time": "2023-01-26T17:58:31.045Z"
   },
   {
    "duration": 35,
    "start_time": "2023-01-26T17:58:31.093Z"
   },
   {
    "duration": 37182,
    "start_time": "2023-01-26T17:58:31.130Z"
   },
   {
    "duration": 7,
    "start_time": "2023-01-26T17:59:08.314Z"
   },
   {
    "duration": 363,
    "start_time": "2023-01-26T17:59:08.324Z"
   },
   {
    "duration": 10,
    "start_time": "2023-01-26T17:59:08.689Z"
   },
   {
    "duration": 16,
    "start_time": "2023-01-26T17:59:08.700Z"
   },
   {
    "duration": 18,
    "start_time": "2023-01-26T17:59:08.717Z"
   },
   {
    "duration": 24,
    "start_time": "2023-01-26T17:59:08.736Z"
   },
   {
    "duration": 59005,
    "start_time": "2023-01-26T17:59:08.762Z"
   },
   {
    "duration": 0,
    "start_time": "2023-01-26T18:00:07.769Z"
   },
   {
    "duration": 0,
    "start_time": "2023-01-26T18:00:07.770Z"
   },
   {
    "duration": 0,
    "start_time": "2023-01-26T18:00:07.771Z"
   },
   {
    "duration": 0,
    "start_time": "2023-01-26T18:00:07.773Z"
   },
   {
    "duration": 1812,
    "start_time": "2023-01-26T18:00:13.131Z"
   },
   {
    "duration": 123,
    "start_time": "2023-01-26T18:00:14.945Z"
   },
   {
    "duration": 30,
    "start_time": "2023-01-26T18:00:15.069Z"
   },
   {
    "duration": 18,
    "start_time": "2023-01-26T18:00:15.101Z"
   },
   {
    "duration": 47,
    "start_time": "2023-01-26T18:00:15.122Z"
   },
   {
    "duration": 43,
    "start_time": "2023-01-26T18:00:15.171Z"
   },
   {
    "duration": 36,
    "start_time": "2023-01-26T18:00:15.216Z"
   },
   {
    "duration": 61,
    "start_time": "2023-01-26T18:00:15.254Z"
   },
   {
    "duration": 43,
    "start_time": "2023-01-26T18:00:15.317Z"
   },
   {
    "duration": 396,
    "start_time": "2023-01-26T18:00:15.362Z"
   },
   {
    "duration": 324,
    "start_time": "2023-01-26T18:00:15.760Z"
   },
   {
    "duration": 332,
    "start_time": "2023-01-26T18:00:16.086Z"
   },
   {
    "duration": 312,
    "start_time": "2023-01-26T18:00:16.419Z"
   },
   {
    "duration": 5,
    "start_time": "2023-01-26T18:00:16.734Z"
   },
   {
    "duration": 23,
    "start_time": "2023-01-26T18:00:16.740Z"
   },
   {
    "duration": 501,
    "start_time": "2023-01-26T18:00:16.765Z"
   },
   {
    "duration": 5,
    "start_time": "2023-01-26T18:00:17.268Z"
   },
   {
    "duration": 49,
    "start_time": "2023-01-26T18:00:17.275Z"
   },
   {
    "duration": 33,
    "start_time": "2023-01-26T18:00:17.326Z"
   },
   {
    "duration": 231,
    "start_time": "2023-01-26T18:00:17.361Z"
   },
   {
    "duration": 159,
    "start_time": "2023-01-26T18:00:17.594Z"
   },
   {
    "duration": 6,
    "start_time": "2023-01-26T18:00:17.754Z"
   },
   {
    "duration": 63,
    "start_time": "2023-01-26T18:00:17.763Z"
   },
   {
    "duration": 28,
    "start_time": "2023-01-26T18:00:17.828Z"
   },
   {
    "duration": 15,
    "start_time": "2023-01-26T18:00:17.858Z"
   },
   {
    "duration": 6,
    "start_time": "2023-01-26T18:00:17.875Z"
   },
   {
    "duration": 22,
    "start_time": "2023-01-26T18:00:17.882Z"
   },
   {
    "duration": 21,
    "start_time": "2023-01-26T18:00:17.909Z"
   },
   {
    "duration": 34882,
    "start_time": "2023-01-26T18:00:17.932Z"
   },
   {
    "duration": 7,
    "start_time": "2023-01-26T18:00:52.816Z"
   },
   {
    "duration": 386,
    "start_time": "2023-01-26T18:00:52.824Z"
   },
   {
    "duration": 6,
    "start_time": "2023-01-26T18:00:53.212Z"
   },
   {
    "duration": 16,
    "start_time": "2023-01-26T18:00:53.220Z"
   },
   {
    "duration": 18,
    "start_time": "2023-01-26T18:00:53.238Z"
   },
   {
    "duration": 13,
    "start_time": "2023-01-26T18:00:53.258Z"
   },
   {
    "duration": 46987,
    "start_time": "2023-01-26T18:00:53.273Z"
   },
   {
    "duration": 0,
    "start_time": "2023-01-26T18:01:40.261Z"
   },
   {
    "duration": 0,
    "start_time": "2023-01-26T18:01:40.262Z"
   },
   {
    "duration": 0,
    "start_time": "2023-01-26T18:01:40.263Z"
   },
   {
    "duration": 0,
    "start_time": "2023-01-26T18:01:40.264Z"
   },
   {
    "duration": 1728,
    "start_time": "2023-01-26T18:02:01.744Z"
   },
   {
    "duration": 120,
    "start_time": "2023-01-26T18:02:03.474Z"
   },
   {
    "duration": 24,
    "start_time": "2023-01-26T18:02:03.596Z"
   },
   {
    "duration": 19,
    "start_time": "2023-01-26T18:02:03.622Z"
   },
   {
    "duration": 31,
    "start_time": "2023-01-26T18:02:03.644Z"
   },
   {
    "duration": 44,
    "start_time": "2023-01-26T18:02:03.677Z"
   },
   {
    "duration": 59,
    "start_time": "2023-01-26T18:02:03.723Z"
   },
   {
    "duration": 70,
    "start_time": "2023-01-26T18:02:03.784Z"
   },
   {
    "duration": 56,
    "start_time": "2023-01-26T18:02:03.856Z"
   },
   {
    "duration": 505,
    "start_time": "2023-01-26T18:02:03.914Z"
   },
   {
    "duration": 368,
    "start_time": "2023-01-26T18:02:04.421Z"
   },
   {
    "duration": 354,
    "start_time": "2023-01-26T18:02:04.791Z"
   },
   {
    "duration": 324,
    "start_time": "2023-01-26T18:02:05.146Z"
   },
   {
    "duration": 5,
    "start_time": "2023-01-26T18:02:05.473Z"
   },
   {
    "duration": 37,
    "start_time": "2023-01-26T18:02:05.480Z"
   },
   {
    "duration": 480,
    "start_time": "2023-01-26T18:02:05.519Z"
   },
   {
    "duration": 5,
    "start_time": "2023-01-26T18:02:06.001Z"
   },
   {
    "duration": 43,
    "start_time": "2023-01-26T18:02:06.008Z"
   },
   {
    "duration": 9,
    "start_time": "2023-01-26T18:02:06.053Z"
   },
   {
    "duration": 189,
    "start_time": "2023-01-26T18:02:06.063Z"
   },
   {
    "duration": 171,
    "start_time": "2023-01-26T18:02:06.254Z"
   },
   {
    "duration": 10,
    "start_time": "2023-01-26T18:02:06.427Z"
   },
   {
    "duration": 36,
    "start_time": "2023-01-26T18:02:06.439Z"
   },
   {
    "duration": 53,
    "start_time": "2023-01-26T18:02:06.477Z"
   },
   {
    "duration": 12,
    "start_time": "2023-01-26T18:02:06.532Z"
   },
   {
    "duration": 10,
    "start_time": "2023-01-26T18:02:06.547Z"
   },
   {
    "duration": 16,
    "start_time": "2023-01-26T18:02:06.558Z"
   },
   {
    "duration": 19,
    "start_time": "2023-01-26T18:02:06.576Z"
   },
   {
    "duration": 271226,
    "start_time": "2023-01-26T18:02:06.597Z"
   },
   {
    "duration": 37213,
    "start_time": "2023-01-26T18:06:37.901Z"
   },
   {
    "duration": 7,
    "start_time": "2023-01-26T18:07:15.116Z"
   },
   {
    "duration": 400,
    "start_time": "2023-01-26T18:07:15.124Z"
   },
   {
    "duration": 6,
    "start_time": "2023-01-26T18:07:15.526Z"
   },
   {
    "duration": 43,
    "start_time": "2023-01-26T18:07:15.534Z"
   },
   {
    "duration": 36,
    "start_time": "2023-01-26T18:07:15.579Z"
   },
   {
    "duration": 1291698,
    "start_time": "2023-01-26T18:07:15.617Z"
   },
   {
    "duration": 82,
    "start_time": "2023-01-26T18:28:47.317Z"
   },
   {
    "duration": 82299,
    "start_time": "2023-01-26T18:28:47.401Z"
   },
   {
    "duration": 3,
    "start_time": "2023-01-26T18:30:09.703Z"
   },
   {
    "duration": 573991,
    "start_time": "2023-01-26T18:30:09.709Z"
   },
   {
    "duration": 3,
    "start_time": "2023-01-26T18:39:43.704Z"
   },
   {
    "duration": 496,
    "start_time": "2023-01-26T18:39:43.709Z"
   },
   {
    "duration": 2102,
    "start_time": "2023-01-28T06:43:15.293Z"
   },
   {
    "duration": 1757,
    "start_time": "2023-01-28T06:50:38.741Z"
   },
   {
    "duration": 180,
    "start_time": "2023-01-28T06:50:40.500Z"
   },
   {
    "duration": 22,
    "start_time": "2023-01-28T06:50:40.681Z"
   },
   {
    "duration": 3,
    "start_time": "2023-01-28T06:50:40.704Z"
   },
   {
    "duration": 9,
    "start_time": "2023-01-28T06:50:40.709Z"
   },
   {
    "duration": 8,
    "start_time": "2023-01-28T06:50:40.719Z"
   },
   {
    "duration": 8,
    "start_time": "2023-01-28T06:50:40.729Z"
   },
   {
    "duration": 8,
    "start_time": "2023-01-28T06:50:40.738Z"
   },
   {
    "duration": 18,
    "start_time": "2023-01-28T06:50:40.747Z"
   },
   {
    "duration": 330,
    "start_time": "2023-01-28T06:50:40.767Z"
   },
   {
    "duration": 310,
    "start_time": "2023-01-28T06:50:41.098Z"
   },
   {
    "duration": 316,
    "start_time": "2023-01-28T06:50:41.410Z"
   },
   {
    "duration": 309,
    "start_time": "2023-01-28T06:50:41.727Z"
   },
   {
    "duration": 389,
    "start_time": "2023-01-28T06:50:42.039Z"
   },
   {
    "duration": 4,
    "start_time": "2023-01-28T06:50:42.429Z"
   },
   {
    "duration": 6,
    "start_time": "2023-01-28T06:50:42.435Z"
   },
   {
    "duration": 6,
    "start_time": "2023-01-28T06:50:42.442Z"
   },
   {
    "duration": 182,
    "start_time": "2023-01-28T06:50:42.449Z"
   },
   {
    "duration": 153,
    "start_time": "2023-01-28T06:50:42.632Z"
   },
   {
    "duration": 6,
    "start_time": "2023-01-28T06:50:42.787Z"
   },
   {
    "duration": 13,
    "start_time": "2023-01-28T06:50:42.795Z"
   },
   {
    "duration": 12,
    "start_time": "2023-01-28T06:50:42.809Z"
   },
   {
    "duration": 6,
    "start_time": "2023-01-28T06:50:42.822Z"
   },
   {
    "duration": 5,
    "start_time": "2023-01-28T06:50:42.829Z"
   },
   {
    "duration": 6,
    "start_time": "2023-01-28T06:50:42.835Z"
   },
   {
    "duration": 12,
    "start_time": "2023-01-28T06:50:42.867Z"
   },
   {
    "duration": 36415,
    "start_time": "2023-01-28T06:50:42.881Z"
   },
   {
    "duration": 8,
    "start_time": "2023-01-28T06:51:19.298Z"
   },
   {
    "duration": 337,
    "start_time": "2023-01-28T06:51:19.307Z"
   },
   {
    "duration": 6,
    "start_time": "2023-01-28T06:51:19.646Z"
   },
   {
    "duration": 17,
    "start_time": "2023-01-28T06:51:19.653Z"
   },
   {
    "duration": 15,
    "start_time": "2023-01-28T06:51:19.672Z"
   },
   {
    "duration": 12,
    "start_time": "2023-01-28T06:51:19.688Z"
   },
   {
    "duration": 80398,
    "start_time": "2023-01-28T06:51:19.701Z"
   },
   {
    "duration": 3,
    "start_time": "2023-01-28T06:52:40.100Z"
   },
   {
    "duration": 784685,
    "start_time": "2023-01-28T06:52:40.104Z"
   },
   {
    "duration": 3,
    "start_time": "2023-01-28T07:05:44.791Z"
   },
   {
    "duration": 538,
    "start_time": "2023-01-28T07:05:44.797Z"
   },
   {
    "duration": 1979,
    "start_time": "2023-01-28T09:03:43.443Z"
   },
   {
    "duration": 129,
    "start_time": "2023-01-28T09:03:45.424Z"
   },
   {
    "duration": 39,
    "start_time": "2023-01-28T09:03:45.555Z"
   },
   {
    "duration": 3,
    "start_time": "2023-01-28T09:03:45.595Z"
   },
   {
    "duration": 9,
    "start_time": "2023-01-28T09:03:45.600Z"
   },
   {
    "duration": 10,
    "start_time": "2023-01-28T09:03:45.610Z"
   },
   {
    "duration": 6,
    "start_time": "2023-01-28T09:03:45.621Z"
   },
   {
    "duration": 7,
    "start_time": "2023-01-28T09:03:45.628Z"
   },
   {
    "duration": 4,
    "start_time": "2023-01-28T09:03:45.636Z"
   },
   {
    "duration": 349,
    "start_time": "2023-01-28T09:03:45.641Z"
   },
   {
    "duration": 322,
    "start_time": "2023-01-28T09:03:45.992Z"
   },
   {
    "duration": 320,
    "start_time": "2023-01-28T09:03:46.315Z"
   },
   {
    "duration": 400,
    "start_time": "2023-01-28T09:03:46.636Z"
   },
   {
    "duration": 4,
    "start_time": "2023-01-28T09:03:47.041Z"
   },
   {
    "duration": 489,
    "start_time": "2023-01-28T09:03:47.047Z"
   },
   {
    "duration": 6,
    "start_time": "2023-01-28T09:03:47.538Z"
   },
   {
    "duration": 22,
    "start_time": "2023-01-28T09:03:47.546Z"
   },
   {
    "duration": 23,
    "start_time": "2023-01-28T09:03:47.570Z"
   },
   {
    "duration": 206,
    "start_time": "2023-01-28T09:03:47.595Z"
   },
   {
    "duration": 161,
    "start_time": "2023-01-28T09:03:47.802Z"
   },
   {
    "duration": 7,
    "start_time": "2023-01-28T09:03:47.967Z"
   },
   {
    "duration": 22,
    "start_time": "2023-01-28T09:03:47.976Z"
   },
   {
    "duration": 21,
    "start_time": "2023-01-28T09:03:48.001Z"
   },
   {
    "duration": 10,
    "start_time": "2023-01-28T09:03:48.024Z"
   },
   {
    "duration": 6,
    "start_time": "2023-01-28T09:03:48.035Z"
   },
   {
    "duration": 6,
    "start_time": "2023-01-28T09:03:48.042Z"
   },
   {
    "duration": 14,
    "start_time": "2023-01-28T09:03:48.050Z"
   },
   {
    "duration": 39420,
    "start_time": "2023-01-28T09:03:48.067Z"
   },
   {
    "duration": 8,
    "start_time": "2023-01-28T09:04:27.490Z"
   },
   {
    "duration": 436,
    "start_time": "2023-01-28T09:04:27.500Z"
   },
   {
    "duration": 6,
    "start_time": "2023-01-28T09:04:27.938Z"
   },
   {
    "duration": 21,
    "start_time": "2023-01-28T09:04:27.946Z"
   },
   {
    "duration": 7,
    "start_time": "2023-01-28T09:04:27.970Z"
   },
   {
    "duration": 15,
    "start_time": "2023-01-28T09:04:27.979Z"
   },
   {
    "duration": 84679,
    "start_time": "2023-01-28T09:04:27.995Z"
   },
   {
    "duration": 4,
    "start_time": "2023-01-28T09:05:52.676Z"
   },
   {
    "duration": 1761,
    "start_time": "2023-01-28T09:06:18.311Z"
   },
   {
    "duration": 121,
    "start_time": "2023-01-28T09:06:20.074Z"
   },
   {
    "duration": 26,
    "start_time": "2023-01-28T09:06:20.197Z"
   },
   {
    "duration": 3,
    "start_time": "2023-01-28T09:06:20.226Z"
   },
   {
    "duration": 11,
    "start_time": "2023-01-28T09:06:20.231Z"
   },
   {
    "duration": 25,
    "start_time": "2023-01-28T09:06:20.244Z"
   },
   {
    "duration": 3,
    "start_time": "2023-01-28T09:06:20.272Z"
   },
   {
    "duration": 14,
    "start_time": "2023-01-28T09:06:20.278Z"
   },
   {
    "duration": 6,
    "start_time": "2023-01-28T09:06:20.294Z"
   },
   {
    "duration": 357,
    "start_time": "2023-01-28T09:06:20.303Z"
   },
   {
    "duration": 335,
    "start_time": "2023-01-28T09:06:20.666Z"
   },
   {
    "duration": 313,
    "start_time": "2023-01-28T09:06:21.003Z"
   },
   {
    "duration": 338,
    "start_time": "2023-01-28T09:06:21.318Z"
   },
   {
    "duration": 6,
    "start_time": "2023-01-28T09:06:21.667Z"
   },
   {
    "duration": 416,
    "start_time": "2023-01-28T09:06:21.676Z"
   },
   {
    "duration": 4,
    "start_time": "2023-01-28T09:06:22.094Z"
   },
   {
    "duration": 8,
    "start_time": "2023-01-28T09:06:22.099Z"
   },
   {
    "duration": 6,
    "start_time": "2023-01-28T09:06:22.109Z"
   },
   {
    "duration": 189,
    "start_time": "2023-01-28T09:06:22.116Z"
   },
   {
    "duration": 158,
    "start_time": "2023-01-28T09:06:22.306Z"
   },
   {
    "duration": 12,
    "start_time": "2023-01-28T09:06:22.466Z"
   },
   {
    "duration": 29,
    "start_time": "2023-01-28T09:06:22.485Z"
   },
   {
    "duration": 18,
    "start_time": "2023-01-28T09:06:22.516Z"
   },
   {
    "duration": 20,
    "start_time": "2023-01-28T09:06:22.536Z"
   },
   {
    "duration": 8,
    "start_time": "2023-01-28T09:06:22.557Z"
   },
   {
    "duration": 18,
    "start_time": "2023-01-28T09:06:22.566Z"
   },
   {
    "duration": 9,
    "start_time": "2023-01-28T09:06:22.587Z"
   },
   {
    "duration": 40570,
    "start_time": "2023-01-28T09:06:22.599Z"
   },
   {
    "duration": 8,
    "start_time": "2023-01-28T09:07:03.171Z"
   },
   {
    "duration": 370,
    "start_time": "2023-01-28T09:07:03.181Z"
   },
   {
    "duration": 6,
    "start_time": "2023-01-28T09:07:03.552Z"
   },
   {
    "duration": 8,
    "start_time": "2023-01-28T09:07:03.568Z"
   },
   {
    "duration": 20,
    "start_time": "2023-01-28T09:07:03.578Z"
   },
   {
    "duration": 18,
    "start_time": "2023-01-28T09:07:03.600Z"
   },
   {
    "duration": 77958,
    "start_time": "2023-01-28T09:07:03.619Z"
   },
   {
    "duration": 3,
    "start_time": "2023-01-28T09:08:21.581Z"
   },
   {
    "duration": 1794,
    "start_time": "2023-01-28T09:09:24.936Z"
   },
   {
    "duration": 121,
    "start_time": "2023-01-28T09:09:26.733Z"
   },
   {
    "duration": 28,
    "start_time": "2023-01-28T09:09:26.856Z"
   },
   {
    "duration": 4,
    "start_time": "2023-01-28T09:09:26.886Z"
   },
   {
    "duration": 19,
    "start_time": "2023-01-28T09:09:26.892Z"
   },
   {
    "duration": 13,
    "start_time": "2023-01-28T09:09:26.912Z"
   },
   {
    "duration": 11,
    "start_time": "2023-01-28T09:09:26.926Z"
   },
   {
    "duration": 11,
    "start_time": "2023-01-28T09:09:26.938Z"
   },
   {
    "duration": 13,
    "start_time": "2023-01-28T09:09:26.950Z"
   },
   {
    "duration": 343,
    "start_time": "2023-01-28T09:09:26.964Z"
   },
   {
    "duration": 317,
    "start_time": "2023-01-28T09:09:27.308Z"
   },
   {
    "duration": 326,
    "start_time": "2023-01-28T09:09:27.627Z"
   },
   {
    "duration": 307,
    "start_time": "2023-01-28T09:09:27.954Z"
   },
   {
    "duration": 6,
    "start_time": "2023-01-28T09:09:28.269Z"
   },
   {
    "duration": 22,
    "start_time": "2023-01-28T09:09:28.277Z"
   },
   {
    "duration": 411,
    "start_time": "2023-01-28T09:09:28.301Z"
   },
   {
    "duration": 5,
    "start_time": "2023-01-28T09:09:28.714Z"
   },
   {
    "duration": 27,
    "start_time": "2023-01-28T09:09:28.720Z"
   },
   {
    "duration": 37,
    "start_time": "2023-01-28T09:09:28.748Z"
   },
   {
    "duration": 195,
    "start_time": "2023-01-28T09:09:28.787Z"
   },
   {
    "duration": 159,
    "start_time": "2023-01-28T09:09:28.985Z"
   },
   {
    "duration": 5,
    "start_time": "2023-01-28T09:09:29.145Z"
   },
   {
    "duration": 24,
    "start_time": "2023-01-28T09:09:29.152Z"
   },
   {
    "duration": 19,
    "start_time": "2023-01-28T09:09:29.178Z"
   },
   {
    "duration": 20,
    "start_time": "2023-01-28T09:09:29.198Z"
   },
   {
    "duration": 10,
    "start_time": "2023-01-28T09:09:29.220Z"
   },
   {
    "duration": 19,
    "start_time": "2023-01-28T09:09:29.231Z"
   },
   {
    "duration": 12,
    "start_time": "2023-01-28T09:09:29.252Z"
   },
   {
    "duration": 41501,
    "start_time": "2023-01-28T09:09:29.266Z"
   },
   {
    "duration": 9,
    "start_time": "2023-01-28T09:10:10.770Z"
   },
   {
    "duration": 365,
    "start_time": "2023-01-28T09:10:10.781Z"
   },
   {
    "duration": 6,
    "start_time": "2023-01-28T09:10:11.148Z"
   },
   {
    "duration": 24,
    "start_time": "2023-01-28T09:10:11.156Z"
   },
   {
    "duration": 15,
    "start_time": "2023-01-28T09:10:11.182Z"
   },
   {
    "duration": 11,
    "start_time": "2023-01-28T09:10:11.199Z"
   },
   {
    "duration": 79668,
    "start_time": "2023-01-28T09:10:11.211Z"
   },
   {
    "duration": 4,
    "start_time": "2023-01-28T09:11:30.881Z"
   },
   {
    "duration": 1849,
    "start_time": "2023-01-28T09:14:50.237Z"
   },
   {
    "duration": 126,
    "start_time": "2023-01-28T09:14:52.089Z"
   },
   {
    "duration": 20,
    "start_time": "2023-01-28T09:14:52.217Z"
   },
   {
    "duration": 3,
    "start_time": "2023-01-28T09:14:52.238Z"
   },
   {
    "duration": 8,
    "start_time": "2023-01-28T09:14:52.243Z"
   },
   {
    "duration": 19,
    "start_time": "2023-01-28T09:14:52.253Z"
   },
   {
    "duration": 23,
    "start_time": "2023-01-28T09:14:52.274Z"
   },
   {
    "duration": 19,
    "start_time": "2023-01-28T09:14:52.298Z"
   },
   {
    "duration": 23,
    "start_time": "2023-01-28T09:14:52.318Z"
   },
   {
    "duration": 3,
    "start_time": "2023-01-28T09:14:52.343Z"
   },
   {
    "duration": 353,
    "start_time": "2023-01-28T09:14:52.347Z"
   },
   {
    "duration": 323,
    "start_time": "2023-01-28T09:14:52.701Z"
   },
   {
    "duration": 350,
    "start_time": "2023-01-28T09:14:53.026Z"
   },
   {
    "duration": 351,
    "start_time": "2023-01-28T09:14:53.380Z"
   },
   {
    "duration": 4,
    "start_time": "2023-01-28T09:14:53.733Z"
   },
   {
    "duration": 11,
    "start_time": "2023-01-28T09:14:53.739Z"
   },
   {
    "duration": 416,
    "start_time": "2023-01-28T09:14:53.751Z"
   },
   {
    "duration": 6,
    "start_time": "2023-01-28T09:14:54.169Z"
   },
   {
    "duration": 22,
    "start_time": "2023-01-28T09:14:54.177Z"
   },
   {
    "duration": 13,
    "start_time": "2023-01-28T09:14:54.200Z"
   },
   {
    "duration": 182,
    "start_time": "2023-01-28T09:14:54.214Z"
   },
   {
    "duration": 138,
    "start_time": "2023-01-28T09:14:54.398Z"
   },
   {
    "duration": 5,
    "start_time": "2023-01-28T09:14:54.538Z"
   },
   {
    "duration": 27,
    "start_time": "2023-01-28T09:14:54.544Z"
   },
   {
    "duration": 23,
    "start_time": "2023-01-28T09:14:54.573Z"
   },
   {
    "duration": 10,
    "start_time": "2023-01-28T09:14:54.598Z"
   },
   {
    "duration": 11,
    "start_time": "2023-01-28T09:14:54.609Z"
   },
   {
    "duration": 12,
    "start_time": "2023-01-28T09:14:54.621Z"
   },
   {
    "duration": 9,
    "start_time": "2023-01-28T09:14:54.635Z"
   },
   {
    "duration": 38430,
    "start_time": "2023-01-28T09:14:54.645Z"
   },
   {
    "duration": 9,
    "start_time": "2023-01-28T09:15:33.076Z"
   },
   {
    "duration": 381,
    "start_time": "2023-01-28T09:15:33.086Z"
   },
   {
    "duration": 6,
    "start_time": "2023-01-28T09:15:33.469Z"
   },
   {
    "duration": 11,
    "start_time": "2023-01-28T09:15:33.477Z"
   },
   {
    "duration": 7,
    "start_time": "2023-01-28T09:15:33.490Z"
   },
   {
    "duration": 9,
    "start_time": "2023-01-28T09:15:33.499Z"
   },
   {
    "duration": 84378,
    "start_time": "2023-01-28T09:15:33.510Z"
   },
   {
    "duration": 78,
    "start_time": "2023-01-28T09:16:57.890Z"
   },
   {
    "duration": 155080,
    "start_time": "2023-01-28T09:16:57.971Z"
   },
   {
    "duration": 0,
    "start_time": "2023-01-28T09:19:33.052Z"
   },
   {
    "duration": 0,
    "start_time": "2023-01-28T09:19:33.054Z"
   },
   {
    "duration": 1847,
    "start_time": "2023-01-28T09:19:36.731Z"
   },
   {
    "duration": 118,
    "start_time": "2023-01-28T09:19:38.580Z"
   },
   {
    "duration": 23,
    "start_time": "2023-01-28T09:19:38.699Z"
   },
   {
    "duration": 3,
    "start_time": "2023-01-28T09:19:38.723Z"
   },
   {
    "duration": 11,
    "start_time": "2023-01-28T09:19:38.728Z"
   },
   {
    "duration": 11,
    "start_time": "2023-01-28T09:19:38.740Z"
   },
   {
    "duration": 2,
    "start_time": "2023-01-28T09:19:38.772Z"
   },
   {
    "duration": 7,
    "start_time": "2023-01-28T09:19:38.776Z"
   },
   {
    "duration": 345,
    "start_time": "2023-01-28T09:19:38.785Z"
   },
   {
    "duration": 295,
    "start_time": "2023-01-28T09:19:39.132Z"
   },
   {
    "duration": 319,
    "start_time": "2023-01-28T09:19:39.429Z"
   },
   {
    "duration": 347,
    "start_time": "2023-01-28T09:19:39.750Z"
   },
   {
    "duration": 4,
    "start_time": "2023-01-28T09:19:40.099Z"
   },
   {
    "duration": 13,
    "start_time": "2023-01-28T09:19:40.106Z"
   },
   {
    "duration": 429,
    "start_time": "2023-01-28T09:19:40.121Z"
   },
   {
    "duration": 4,
    "start_time": "2023-01-28T09:19:40.552Z"
   },
   {
    "duration": 6,
    "start_time": "2023-01-28T09:19:40.568Z"
   },
   {
    "duration": 9,
    "start_time": "2023-01-28T09:19:40.576Z"
   },
   {
    "duration": 214,
    "start_time": "2023-01-28T09:19:40.588Z"
   },
   {
    "duration": 154,
    "start_time": "2023-01-28T09:19:40.803Z"
   },
   {
    "duration": 12,
    "start_time": "2023-01-28T09:19:40.958Z"
   },
   {
    "duration": 22,
    "start_time": "2023-01-28T09:19:40.973Z"
   },
   {
    "duration": 16,
    "start_time": "2023-01-28T09:19:40.996Z"
   },
   {
    "duration": 5,
    "start_time": "2023-01-28T09:19:41.014Z"
   },
   {
    "duration": 5,
    "start_time": "2023-01-28T09:19:41.021Z"
   },
   {
    "duration": 9,
    "start_time": "2023-01-28T09:19:41.028Z"
   },
   {
    "duration": 13,
    "start_time": "2023-01-28T09:19:41.039Z"
   },
   {
    "duration": 39016,
    "start_time": "2023-01-28T09:19:41.054Z"
   },
   {
    "duration": 11,
    "start_time": "2023-01-28T09:20:20.073Z"
   },
   {
    "duration": 386,
    "start_time": "2023-01-28T09:20:20.085Z"
   },
   {
    "duration": 11,
    "start_time": "2023-01-28T09:20:20.473Z"
   },
   {
    "duration": 12,
    "start_time": "2023-01-28T09:20:20.486Z"
   },
   {
    "duration": 12,
    "start_time": "2023-01-28T09:20:20.500Z"
   },
   {
    "duration": 12,
    "start_time": "2023-01-28T09:20:20.514Z"
   },
   {
    "duration": 83739,
    "start_time": "2023-01-28T09:20:20.528Z"
   },
   {
    "duration": 4,
    "start_time": "2023-01-28T09:21:44.269Z"
   },
   {
    "duration": 586471,
    "start_time": "2023-01-28T09:21:44.275Z"
   },
   {
    "duration": 0,
    "start_time": "2023-01-28T09:31:30.749Z"
   },
   {
    "duration": 0,
    "start_time": "2023-01-28T09:31:30.750Z"
   },
   {
    "duration": 0,
    "start_time": "2023-01-28T09:31:30.752Z"
   },
   {
    "duration": 20,
    "start_time": "2023-01-28T09:31:55.823Z"
   },
   {
    "duration": 20,
    "start_time": "2023-01-28T09:32:04.421Z"
   },
   {
    "duration": 125,
    "start_time": "2023-01-28T09:32:54.480Z"
   },
   {
    "duration": 160,
    "start_time": "2023-01-28T09:33:13.602Z"
   },
   {
    "duration": 195,
    "start_time": "2023-01-28T09:33:21.273Z"
   },
   {
    "duration": 176,
    "start_time": "2023-01-28T09:33:56.483Z"
   },
   {
    "duration": 153,
    "start_time": "2023-01-28T09:39:45.189Z"
   },
   {
    "duration": 201,
    "start_time": "2023-01-28T09:40:10.868Z"
   },
   {
    "duration": 284,
    "start_time": "2023-01-28T09:44:05.051Z"
   },
   {
    "duration": 183,
    "start_time": "2023-01-28T09:44:09.315Z"
   },
   {
    "duration": 238,
    "start_time": "2023-01-28T09:44:14.591Z"
   },
   {
    "duration": 5,
    "start_time": "2023-01-28T09:52:21.788Z"
   },
   {
    "duration": 29744,
    "start_time": "2023-01-28T09:52:25.941Z"
   },
   {
    "duration": 5,
    "start_time": "2023-01-28T10:18:34.588Z"
   },
   {
    "duration": 31038,
    "start_time": "2023-01-28T10:18:40.341Z"
   },
   {
    "duration": 16,
    "start_time": "2023-01-28T10:20:50.650Z"
   },
   {
    "duration": 5,
    "start_time": "2023-01-28T10:21:11.479Z"
   },
   {
    "duration": 9,
    "start_time": "2023-01-28T10:23:14.635Z"
   },
   {
    "duration": 148,
    "start_time": "2023-01-28T10:23:25.075Z"
   },
   {
    "duration": 10,
    "start_time": "2023-01-28T10:23:43.530Z"
   },
   {
    "duration": 130,
    "start_time": "2023-01-28T10:23:45.287Z"
   },
   {
    "duration": 16,
    "start_time": "2023-01-28T10:29:54.924Z"
   },
   {
    "duration": 4,
    "start_time": "2023-01-28T10:32:47.924Z"
   },
   {
    "duration": 131,
    "start_time": "2023-01-28T10:32:50.183Z"
   },
   {
    "duration": 1772,
    "start_time": "2023-01-28T10:33:56.058Z"
   },
   {
    "duration": 116,
    "start_time": "2023-01-28T10:33:57.832Z"
   },
   {
    "duration": 26,
    "start_time": "2023-01-28T10:33:57.950Z"
   },
   {
    "duration": 3,
    "start_time": "2023-01-28T10:33:57.978Z"
   },
   {
    "duration": 7,
    "start_time": "2023-01-28T10:33:57.983Z"
   },
   {
    "duration": 8,
    "start_time": "2023-01-28T10:33:57.992Z"
   },
   {
    "duration": 10,
    "start_time": "2023-01-28T10:33:58.002Z"
   },
   {
    "duration": 11,
    "start_time": "2023-01-28T10:33:58.014Z"
   },
   {
    "duration": 324,
    "start_time": "2023-01-28T10:33:58.026Z"
   },
   {
    "duration": 292,
    "start_time": "2023-01-28T10:33:58.354Z"
   },
   {
    "duration": 326,
    "start_time": "2023-01-28T10:33:58.648Z"
   },
   {
    "duration": 345,
    "start_time": "2023-01-28T10:33:58.977Z"
   },
   {
    "duration": 5,
    "start_time": "2023-01-28T10:33:59.324Z"
   },
   {
    "duration": 7,
    "start_time": "2023-01-28T10:33:59.331Z"
   },
   {
    "duration": 430,
    "start_time": "2023-01-28T10:33:59.339Z"
   },
   {
    "duration": 5,
    "start_time": "2023-01-28T10:33:59.771Z"
   },
   {
    "duration": 14,
    "start_time": "2023-01-28T10:33:59.777Z"
   },
   {
    "duration": 8,
    "start_time": "2023-01-28T10:33:59.793Z"
   },
   {
    "duration": 187,
    "start_time": "2023-01-28T10:33:59.803Z"
   },
   {
    "duration": 5,
    "start_time": "2023-01-28T10:33:59.992Z"
   },
   {
    "duration": 159,
    "start_time": "2023-01-28T10:33:59.999Z"
   },
   {
    "duration": 160,
    "start_time": "2023-01-28T10:34:00.160Z"
   },
   {
    "duration": 7,
    "start_time": "2023-01-28T10:34:00.321Z"
   },
   {
    "duration": 40,
    "start_time": "2023-01-28T10:34:00.329Z"
   },
   {
    "duration": 30,
    "start_time": "2023-01-28T10:34:00.371Z"
   },
   {
    "duration": 10,
    "start_time": "2023-01-28T10:34:00.403Z"
   },
   {
    "duration": 10,
    "start_time": "2023-01-28T10:34:00.415Z"
   },
   {
    "duration": 23,
    "start_time": "2023-01-28T10:34:00.429Z"
   },
   {
    "duration": 27,
    "start_time": "2023-01-28T10:34:00.454Z"
   },
   {
    "duration": 25786,
    "start_time": "2023-01-28T10:34:00.483Z"
   },
   {
    "duration": 6,
    "start_time": "2023-01-28T10:34:26.271Z"
   },
   {
    "duration": 325,
    "start_time": "2023-01-28T10:34:26.279Z"
   },
   {
    "duration": 6,
    "start_time": "2023-01-28T10:34:26.605Z"
   },
   {
    "duration": 21,
    "start_time": "2023-01-28T10:34:26.613Z"
   },
   {
    "duration": 8,
    "start_time": "2023-01-28T10:34:26.635Z"
   },
   {
    "duration": 12,
    "start_time": "2023-01-28T10:34:26.645Z"
   },
   {
    "duration": 52726,
    "start_time": "2023-01-28T10:34:26.659Z"
   },
   {
    "duration": 3,
    "start_time": "2023-01-28T10:35:19.386Z"
   },
   {
    "duration": 39025,
    "start_time": "2023-01-28T10:35:19.391Z"
   },
   {
    "duration": 0,
    "start_time": "2023-01-28T10:35:58.417Z"
   },
   {
    "duration": 0,
    "start_time": "2023-01-28T10:35:58.419Z"
   },
   {
    "duration": 0,
    "start_time": "2023-01-28T10:35:58.420Z"
   },
   {
    "duration": 0,
    "start_time": "2023-01-28T10:35:58.421Z"
   },
   {
    "duration": 1767,
    "start_time": "2023-01-28T10:36:16.783Z"
   },
   {
    "duration": 114,
    "start_time": "2023-01-28T10:36:18.552Z"
   },
   {
    "duration": 26,
    "start_time": "2023-01-28T10:36:18.668Z"
   },
   {
    "duration": 3,
    "start_time": "2023-01-28T10:36:18.696Z"
   },
   {
    "duration": 8,
    "start_time": "2023-01-28T10:36:18.701Z"
   },
   {
    "duration": 15,
    "start_time": "2023-01-28T10:36:18.711Z"
   },
   {
    "duration": 3,
    "start_time": "2023-01-28T10:36:18.728Z"
   },
   {
    "duration": 7,
    "start_time": "2023-01-28T10:36:18.733Z"
   },
   {
    "duration": 352,
    "start_time": "2023-01-28T10:36:18.741Z"
   },
   {
    "duration": 312,
    "start_time": "2023-01-28T10:36:19.096Z"
   },
   {
    "duration": 328,
    "start_time": "2023-01-28T10:36:19.409Z"
   },
   {
    "duration": 291,
    "start_time": "2023-01-28T10:36:19.738Z"
   },
   {
    "duration": 443,
    "start_time": "2023-01-28T10:36:20.030Z"
   },
   {
    "duration": 6,
    "start_time": "2023-01-28T10:36:20.478Z"
   },
   {
    "duration": 7,
    "start_time": "2023-01-28T10:36:20.486Z"
   },
   {
    "duration": 5,
    "start_time": "2023-01-28T10:36:20.495Z"
   },
   {
    "duration": 212,
    "start_time": "2023-01-28T10:36:20.501Z"
   },
   {
    "duration": 5,
    "start_time": "2023-01-28T10:36:20.715Z"
   },
   {
    "duration": 147,
    "start_time": "2023-01-28T10:36:20.722Z"
   },
   {
    "duration": 165,
    "start_time": "2023-01-28T10:36:20.871Z"
   },
   {
    "duration": 6,
    "start_time": "2023-01-28T10:36:21.038Z"
   },
   {
    "duration": 34,
    "start_time": "2023-01-28T10:36:21.046Z"
   },
   {
    "duration": 28,
    "start_time": "2023-01-28T10:36:21.081Z"
   },
   {
    "duration": 31,
    "start_time": "2023-01-28T10:36:21.111Z"
   },
   {
    "duration": 7,
    "start_time": "2023-01-28T10:36:21.143Z"
   },
   {
    "duration": 17,
    "start_time": "2023-01-28T10:36:21.152Z"
   },
   {
    "duration": 18,
    "start_time": "2023-01-28T10:36:21.171Z"
   },
   {
    "duration": 27678,
    "start_time": "2023-01-28T10:36:21.190Z"
   },
   {
    "duration": 7,
    "start_time": "2023-01-28T10:36:48.870Z"
   },
   {
    "duration": 341,
    "start_time": "2023-01-28T10:36:48.878Z"
   },
   {
    "duration": 6,
    "start_time": "2023-01-28T10:36:49.221Z"
   },
   {
    "duration": 6,
    "start_time": "2023-01-28T10:36:49.228Z"
   },
   {
    "duration": 7,
    "start_time": "2023-01-28T10:36:49.236Z"
   },
   {
    "duration": 26,
    "start_time": "2023-01-28T10:36:49.245Z"
   },
   {
    "duration": 52096,
    "start_time": "2023-01-28T10:36:49.273Z"
   },
   {
    "duration": 3,
    "start_time": "2023-01-28T10:37:41.370Z"
   },
   {
    "duration": 322998,
    "start_time": "2023-01-28T10:37:41.375Z"
   },
   {
    "duration": 3,
    "start_time": "2023-01-28T10:43:04.375Z"
   },
   {
    "duration": 456,
    "start_time": "2023-01-28T10:43:04.380Z"
   },
   {
    "duration": 7,
    "start_time": "2023-01-28T11:35:10.972Z"
   },
   {
    "duration": 38909,
    "start_time": "2023-01-28T11:35:14.582Z"
   },
   {
    "duration": 1954,
    "start_time": "2023-01-28T11:36:19.609Z"
   },
   {
    "duration": 111,
    "start_time": "2023-01-28T11:36:21.569Z"
   },
   {
    "duration": 27,
    "start_time": "2023-01-28T11:36:21.682Z"
   },
   {
    "duration": 3,
    "start_time": "2023-01-28T11:36:21.711Z"
   },
   {
    "duration": 8,
    "start_time": "2023-01-28T11:36:21.716Z"
   },
   {
    "duration": 11,
    "start_time": "2023-01-28T11:36:21.726Z"
   },
   {
    "duration": 3,
    "start_time": "2023-01-28T11:36:21.739Z"
   },
   {
    "duration": 24,
    "start_time": "2023-01-28T11:36:21.744Z"
   },
   {
    "duration": 316,
    "start_time": "2023-01-28T11:36:21.769Z"
   },
   {
    "duration": 268,
    "start_time": "2023-01-28T11:36:22.087Z"
   },
   {
    "duration": 287,
    "start_time": "2023-01-28T11:36:22.356Z"
   },
   {
    "duration": 286,
    "start_time": "2023-01-28T11:36:22.644Z"
   },
   {
    "duration": 404,
    "start_time": "2023-01-28T11:36:22.932Z"
   },
   {
    "duration": 4,
    "start_time": "2023-01-28T11:36:23.338Z"
   },
   {
    "duration": 7,
    "start_time": "2023-01-28T11:36:23.343Z"
   },
   {
    "duration": 20,
    "start_time": "2023-01-28T11:36:23.351Z"
   },
   {
    "duration": 181,
    "start_time": "2023-01-28T11:36:23.373Z"
   },
   {
    "duration": 12,
    "start_time": "2023-01-28T11:36:23.555Z"
   },
   {
    "duration": 131,
    "start_time": "2023-01-28T11:36:23.569Z"
   },
   {
    "duration": 165,
    "start_time": "2023-01-28T11:36:23.702Z"
   },
   {
    "duration": 6,
    "start_time": "2023-01-28T11:36:23.869Z"
   },
   {
    "duration": 15,
    "start_time": "2023-01-28T11:36:23.877Z"
   },
   {
    "duration": 17,
    "start_time": "2023-01-28T11:36:23.894Z"
   },
   {
    "duration": 6,
    "start_time": "2023-01-28T11:36:23.913Z"
   },
   {
    "duration": 5,
    "start_time": "2023-01-28T11:36:23.921Z"
   },
   {
    "duration": 10,
    "start_time": "2023-01-28T11:36:23.928Z"
   },
   {
    "duration": 29,
    "start_time": "2023-01-28T11:36:23.940Z"
   },
   {
    "duration": 32911,
    "start_time": "2023-01-28T11:36:23.971Z"
   },
   {
    "duration": 7,
    "start_time": "2023-01-28T11:36:56.884Z"
   },
   {
    "duration": 397,
    "start_time": "2023-01-28T11:36:56.893Z"
   },
   {
    "duration": 7,
    "start_time": "2023-01-28T11:36:57.292Z"
   },
   {
    "duration": 24,
    "start_time": "2023-01-28T11:36:57.301Z"
   },
   {
    "duration": 22,
    "start_time": "2023-01-28T11:36:57.327Z"
   },
   {
    "duration": 16,
    "start_time": "2023-01-28T11:36:57.350Z"
   },
   {
    "duration": 13160,
    "start_time": "2023-01-28T11:36:57.368Z"
   },
   {
    "duration": 0,
    "start_time": "2023-01-28T11:37:10.530Z"
   },
   {
    "duration": 0,
    "start_time": "2023-01-28T11:37:10.531Z"
   },
   {
    "duration": 0,
    "start_time": "2023-01-28T11:37:10.532Z"
   },
   {
    "duration": 0,
    "start_time": "2023-01-28T11:37:10.533Z"
   },
   {
    "duration": 1860,
    "start_time": "2023-01-28T11:37:14.052Z"
   },
   {
    "duration": 119,
    "start_time": "2023-01-28T11:37:15.914Z"
   },
   {
    "duration": 23,
    "start_time": "2023-01-28T11:37:16.035Z"
   },
   {
    "duration": 3,
    "start_time": "2023-01-28T11:37:16.067Z"
   },
   {
    "duration": 7,
    "start_time": "2023-01-28T11:37:16.072Z"
   },
   {
    "duration": 7,
    "start_time": "2023-01-28T11:37:16.081Z"
   },
   {
    "duration": 5,
    "start_time": "2023-01-28T11:37:16.089Z"
   },
   {
    "duration": 7,
    "start_time": "2023-01-28T11:37:16.095Z"
   },
   {
    "duration": 363,
    "start_time": "2023-01-28T11:37:16.104Z"
   },
   {
    "duration": 329,
    "start_time": "2023-01-28T11:37:16.469Z"
   },
   {
    "duration": 381,
    "start_time": "2023-01-28T11:37:16.800Z"
   },
   {
    "duration": 350,
    "start_time": "2023-01-28T11:37:17.183Z"
   },
   {
    "duration": 7,
    "start_time": "2023-01-28T11:37:17.536Z"
   },
   {
    "duration": 452,
    "start_time": "2023-01-28T11:37:17.546Z"
   },
   {
    "duration": 4,
    "start_time": "2023-01-28T11:37:18.000Z"
   },
   {
    "duration": 12,
    "start_time": "2023-01-28T11:37:18.006Z"
   },
   {
    "duration": 5,
    "start_time": "2023-01-28T11:37:18.020Z"
   },
   {
    "duration": 197,
    "start_time": "2023-01-28T11:37:18.027Z"
   },
   {
    "duration": 6,
    "start_time": "2023-01-28T11:37:18.227Z"
   },
   {
    "duration": 137,
    "start_time": "2023-01-28T11:37:18.235Z"
   },
   {
    "duration": 163,
    "start_time": "2023-01-28T11:37:18.375Z"
   },
   {
    "duration": 6,
    "start_time": "2023-01-28T11:37:18.540Z"
   },
   {
    "duration": 25,
    "start_time": "2023-01-28T11:37:18.548Z"
   },
   {
    "duration": 14,
    "start_time": "2023-01-28T11:37:18.575Z"
   },
   {
    "duration": 8,
    "start_time": "2023-01-28T11:37:18.591Z"
   },
   {
    "duration": 6,
    "start_time": "2023-01-28T11:37:18.600Z"
   },
   {
    "duration": 6,
    "start_time": "2023-01-28T11:37:18.608Z"
   },
   {
    "duration": 9,
    "start_time": "2023-01-28T11:37:18.615Z"
   },
   {
    "duration": 29358,
    "start_time": "2023-01-28T11:37:18.626Z"
   },
   {
    "duration": 6,
    "start_time": "2023-01-28T11:37:47.986Z"
   },
   {
    "duration": 399,
    "start_time": "2023-01-28T11:37:47.994Z"
   },
   {
    "duration": 6,
    "start_time": "2023-01-28T11:37:48.394Z"
   },
   {
    "duration": 5,
    "start_time": "2023-01-28T11:37:48.401Z"
   },
   {
    "duration": 8,
    "start_time": "2023-01-28T11:37:48.408Z"
   },
   {
    "duration": 10,
    "start_time": "2023-01-28T11:37:48.418Z"
   },
   {
    "duration": 53443,
    "start_time": "2023-01-28T11:37:48.429Z"
   },
   {
    "duration": 2,
    "start_time": "2023-01-28T11:38:41.874Z"
   },
   {
    "duration": 13297,
    "start_time": "2023-01-28T11:38:41.878Z"
   },
   {
    "duration": 0,
    "start_time": "2023-01-28T11:38:55.177Z"
   },
   {
    "duration": 0,
    "start_time": "2023-01-28T11:38:55.178Z"
   },
   {
    "duration": 0,
    "start_time": "2023-01-28T11:38:55.180Z"
   },
   {
    "duration": 0,
    "start_time": "2023-01-28T11:38:55.181Z"
   },
   {
    "duration": 1760,
    "start_time": "2023-01-28T11:38:59.848Z"
   },
   {
    "duration": 112,
    "start_time": "2023-01-28T11:39:01.610Z"
   },
   {
    "duration": 21,
    "start_time": "2023-01-28T11:39:01.724Z"
   },
   {
    "duration": 7,
    "start_time": "2023-01-28T11:39:01.747Z"
   },
   {
    "duration": 26,
    "start_time": "2023-01-28T11:39:01.755Z"
   },
   {
    "duration": 19,
    "start_time": "2023-01-28T11:39:01.783Z"
   },
   {
    "duration": 7,
    "start_time": "2023-01-28T11:39:01.804Z"
   },
   {
    "duration": 24,
    "start_time": "2023-01-28T11:39:01.813Z"
   },
   {
    "duration": 299,
    "start_time": "2023-01-28T11:39:01.838Z"
   },
   {
    "duration": 265,
    "start_time": "2023-01-28T11:39:02.138Z"
   },
   {
    "duration": 292,
    "start_time": "2023-01-28T11:39:02.405Z"
   },
   {
    "duration": 269,
    "start_time": "2023-01-28T11:39:02.699Z"
   },
   {
    "duration": 4,
    "start_time": "2023-01-28T11:39:02.970Z"
   },
   {
    "duration": 393,
    "start_time": "2023-01-28T11:39:02.976Z"
   },
   {
    "duration": 4,
    "start_time": "2023-01-28T11:39:03.370Z"
   },
   {
    "duration": 19,
    "start_time": "2023-01-28T11:39:03.376Z"
   },
   {
    "duration": 28,
    "start_time": "2023-01-28T11:39:03.397Z"
   },
   {
    "duration": 186,
    "start_time": "2023-01-28T11:39:03.426Z"
   },
   {
    "duration": 186,
    "start_time": "2023-01-28T11:39:03.614Z"
   },
   {
    "duration": 149,
    "start_time": "2023-01-28T11:39:03.801Z"
   },
   {
    "duration": 6,
    "start_time": "2023-01-28T11:39:03.952Z"
   },
   {
    "duration": 18,
    "start_time": "2023-01-28T11:39:03.959Z"
   },
   {
    "duration": 15,
    "start_time": "2023-01-28T11:39:03.979Z"
   },
   {
    "duration": 12,
    "start_time": "2023-01-28T11:39:03.995Z"
   },
   {
    "duration": 5,
    "start_time": "2023-01-28T11:39:04.008Z"
   },
   {
    "duration": 5,
    "start_time": "2023-01-28T11:39:04.014Z"
   },
   {
    "duration": 7,
    "start_time": "2023-01-28T11:39:04.020Z"
   },
   {
    "duration": 26063,
    "start_time": "2023-01-28T11:39:04.029Z"
   },
   {
    "duration": 78,
    "start_time": "2023-01-28T11:39:30.094Z"
   },
   {
    "duration": 338,
    "start_time": "2023-01-28T11:39:30.174Z"
   },
   {
    "duration": 6,
    "start_time": "2023-01-28T11:39:30.513Z"
   },
   {
    "duration": 21,
    "start_time": "2023-01-28T11:39:30.520Z"
   },
   {
    "duration": 40,
    "start_time": "2023-01-28T11:39:30.543Z"
   },
   {
    "duration": 48,
    "start_time": "2023-01-28T11:39:30.585Z"
   },
   {
    "duration": 55652,
    "start_time": "2023-01-28T11:39:30.635Z"
   },
   {
    "duration": 3,
    "start_time": "2023-01-28T11:40:26.289Z"
   },
   {
    "duration": 237232,
    "start_time": "2023-01-28T11:40:26.293Z"
   },
   {
    "duration": 0,
    "start_time": "2023-01-28T11:44:23.527Z"
   },
   {
    "duration": 0,
    "start_time": "2023-01-28T11:44:23.528Z"
   },
   {
    "duration": 0,
    "start_time": "2023-01-28T11:44:23.530Z"
   },
   {
    "duration": 0,
    "start_time": "2023-01-28T11:44:23.531Z"
   },
   {
    "duration": 1695,
    "start_time": "2023-01-28T11:44:31.486Z"
   },
   {
    "duration": 108,
    "start_time": "2023-01-28T11:44:33.183Z"
   },
   {
    "duration": 19,
    "start_time": "2023-01-28T11:44:33.293Z"
   },
   {
    "duration": 2,
    "start_time": "2023-01-28T11:44:33.314Z"
   },
   {
    "duration": 8,
    "start_time": "2023-01-28T11:44:33.318Z"
   },
   {
    "duration": 8,
    "start_time": "2023-01-28T11:44:33.327Z"
   },
   {
    "duration": 13,
    "start_time": "2023-01-28T11:44:33.336Z"
   },
   {
    "duration": 18,
    "start_time": "2023-01-28T11:44:33.350Z"
   },
   {
    "duration": 282,
    "start_time": "2023-01-28T11:44:33.369Z"
   },
   {
    "duration": 277,
    "start_time": "2023-01-28T11:44:33.653Z"
   },
   {
    "duration": 297,
    "start_time": "2023-01-28T11:44:33.932Z"
   },
   {
    "duration": 304,
    "start_time": "2023-01-28T11:44:34.231Z"
   },
   {
    "duration": 20,
    "start_time": "2023-01-28T11:44:34.536Z"
   },
   {
    "duration": 277,
    "start_time": "2023-01-28T11:44:34.569Z"
   },
   {
    "duration": 0,
    "start_time": "2023-01-28T11:44:34.848Z"
   },
   {
    "duration": 0,
    "start_time": "2023-01-28T11:44:34.849Z"
   },
   {
    "duration": 0,
    "start_time": "2023-01-28T11:44:34.850Z"
   },
   {
    "duration": 0,
    "start_time": "2023-01-28T11:44:34.851Z"
   },
   {
    "duration": 0,
    "start_time": "2023-01-28T11:44:34.852Z"
   },
   {
    "duration": 0,
    "start_time": "2023-01-28T11:44:34.853Z"
   },
   {
    "duration": 0,
    "start_time": "2023-01-28T11:44:34.853Z"
   },
   {
    "duration": 0,
    "start_time": "2023-01-28T11:44:34.867Z"
   },
   {
    "duration": 0,
    "start_time": "2023-01-28T11:44:34.868Z"
   },
   {
    "duration": 0,
    "start_time": "2023-01-28T11:44:34.869Z"
   },
   {
    "duration": 0,
    "start_time": "2023-01-28T11:44:34.871Z"
   },
   {
    "duration": 0,
    "start_time": "2023-01-28T11:44:34.872Z"
   },
   {
    "duration": 0,
    "start_time": "2023-01-28T11:44:34.873Z"
   },
   {
    "duration": 0,
    "start_time": "2023-01-28T11:44:34.874Z"
   },
   {
    "duration": 0,
    "start_time": "2023-01-28T11:44:34.875Z"
   },
   {
    "duration": 0,
    "start_time": "2023-01-28T11:44:34.876Z"
   },
   {
    "duration": 0,
    "start_time": "2023-01-28T11:44:34.877Z"
   },
   {
    "duration": 0,
    "start_time": "2023-01-28T11:44:34.879Z"
   },
   {
    "duration": 0,
    "start_time": "2023-01-28T11:44:34.880Z"
   },
   {
    "duration": 0,
    "start_time": "2023-01-28T11:44:34.881Z"
   },
   {
    "duration": 0,
    "start_time": "2023-01-28T11:44:34.882Z"
   },
   {
    "duration": 0,
    "start_time": "2023-01-28T11:44:34.883Z"
   },
   {
    "duration": 0,
    "start_time": "2023-01-28T11:44:34.884Z"
   },
   {
    "duration": 0,
    "start_time": "2023-01-28T11:44:34.885Z"
   },
   {
    "duration": 0,
    "start_time": "2023-01-28T11:44:34.887Z"
   },
   {
    "duration": 513,
    "start_time": "2023-01-28T11:47:07.013Z"
   },
   {
    "duration": 135,
    "start_time": "2023-01-28T11:47:07.718Z"
   },
   {
    "duration": 1714,
    "start_time": "2023-01-28T11:49:55.914Z"
   },
   {
    "duration": 108,
    "start_time": "2023-01-28T11:49:57.630Z"
   },
   {
    "duration": 34,
    "start_time": "2023-01-28T11:49:57.740Z"
   },
   {
    "duration": 3,
    "start_time": "2023-01-28T11:49:57.776Z"
   },
   {
    "duration": 8,
    "start_time": "2023-01-28T11:49:57.781Z"
   },
   {
    "duration": 16,
    "start_time": "2023-01-28T11:49:57.790Z"
   },
   {
    "duration": 5,
    "start_time": "2023-01-28T11:49:57.808Z"
   },
   {
    "duration": 10,
    "start_time": "2023-01-28T11:49:57.814Z"
   },
   {
    "duration": 322,
    "start_time": "2023-01-28T11:49:57.825Z"
   },
   {
    "duration": 297,
    "start_time": "2023-01-28T11:49:58.149Z"
   },
   {
    "duration": 313,
    "start_time": "2023-01-28T11:49:58.448Z"
   },
   {
    "duration": 332,
    "start_time": "2023-01-28T11:49:58.766Z"
   },
   {
    "duration": 5,
    "start_time": "2023-01-28T11:49:59.100Z"
   },
   {
    "duration": 12,
    "start_time": "2023-01-28T11:49:59.108Z"
   },
   {
    "duration": 424,
    "start_time": "2023-01-28T11:49:59.122Z"
   },
   {
    "duration": 4,
    "start_time": "2023-01-28T11:49:59.548Z"
   },
   {
    "duration": 17,
    "start_time": "2023-01-28T11:49:59.553Z"
   },
   {
    "duration": 7,
    "start_time": "2023-01-28T11:49:59.572Z"
   },
   {
    "duration": 172,
    "start_time": "2023-01-28T11:49:59.580Z"
   },
   {
    "duration": 169,
    "start_time": "2023-01-28T11:49:59.754Z"
   },
   {
    "duration": 139,
    "start_time": "2023-01-28T11:49:59.924Z"
   },
   {
    "duration": 6,
    "start_time": "2023-01-28T11:50:00.066Z"
   },
   {
    "duration": 22,
    "start_time": "2023-01-28T11:50:00.073Z"
   },
   {
    "duration": 23,
    "start_time": "2023-01-28T11:50:00.097Z"
   },
   {
    "duration": 12,
    "start_time": "2023-01-28T11:50:00.122Z"
   },
   {
    "duration": 13,
    "start_time": "2023-01-28T11:50:00.135Z"
   },
   {
    "duration": 18,
    "start_time": "2023-01-28T11:50:00.149Z"
   },
   {
    "duration": 73,
    "start_time": "2023-01-28T11:50:00.169Z"
   },
   {
    "duration": 31341,
    "start_time": "2023-01-28T11:50:00.244Z"
   },
   {
    "duration": 7,
    "start_time": "2023-01-28T11:50:31.587Z"
   },
   {
    "duration": 346,
    "start_time": "2023-01-28T11:50:31.596Z"
   },
   {
    "duration": 5,
    "start_time": "2023-01-28T11:50:31.944Z"
   },
   {
    "duration": 37,
    "start_time": "2023-01-28T11:50:31.951Z"
   },
   {
    "duration": 9,
    "start_time": "2023-01-28T11:50:31.989Z"
   },
   {
    "duration": 20,
    "start_time": "2023-01-28T11:50:31.999Z"
   },
   {
    "duration": 1713,
    "start_time": "2023-01-28T11:51:23.907Z"
   },
   {
    "duration": 109,
    "start_time": "2023-01-28T11:51:25.622Z"
   },
   {
    "duration": 21,
    "start_time": "2023-01-28T11:51:25.732Z"
   },
   {
    "duration": 13,
    "start_time": "2023-01-28T11:51:25.754Z"
   },
   {
    "duration": 5,
    "start_time": "2023-01-28T11:51:25.769Z"
   },
   {
    "duration": 7,
    "start_time": "2023-01-28T11:51:25.776Z"
   },
   {
    "duration": 3,
    "start_time": "2023-01-28T11:51:25.784Z"
   },
   {
    "duration": 6,
    "start_time": "2023-01-28T11:51:25.789Z"
   },
   {
    "duration": 314,
    "start_time": "2023-01-28T11:51:25.796Z"
   },
   {
    "duration": 257,
    "start_time": "2023-01-28T11:51:26.112Z"
   },
   {
    "duration": 279,
    "start_time": "2023-01-28T11:51:26.371Z"
   },
   {
    "duration": 316,
    "start_time": "2023-01-28T11:51:26.652Z"
   },
   {
    "duration": 4,
    "start_time": "2023-01-28T11:51:26.970Z"
   },
   {
    "duration": 5,
    "start_time": "2023-01-28T11:51:26.977Z"
   },
   {
    "duration": 386,
    "start_time": "2023-01-28T11:51:26.983Z"
   },
   {
    "duration": 5,
    "start_time": "2023-01-28T11:51:27.370Z"
   },
   {
    "duration": 6,
    "start_time": "2023-01-28T11:51:27.377Z"
   },
   {
    "duration": 5,
    "start_time": "2023-01-28T11:51:27.384Z"
   },
   {
    "duration": 180,
    "start_time": "2023-01-28T11:51:27.391Z"
   },
   {
    "duration": 171,
    "start_time": "2023-01-28T11:51:27.573Z"
   },
   {
    "duration": 154,
    "start_time": "2023-01-28T11:51:27.745Z"
   },
   {
    "duration": 6,
    "start_time": "2023-01-28T11:51:27.900Z"
   },
   {
    "duration": 19,
    "start_time": "2023-01-28T11:51:27.908Z"
   },
   {
    "duration": 15,
    "start_time": "2023-01-28T11:51:27.929Z"
   },
   {
    "duration": 4,
    "start_time": "2023-01-28T11:51:27.946Z"
   },
   {
    "duration": 5,
    "start_time": "2023-01-28T11:51:27.967Z"
   },
   {
    "duration": 6,
    "start_time": "2023-01-28T11:51:27.973Z"
   },
   {
    "duration": 12,
    "start_time": "2023-01-28T11:51:27.980Z"
   },
   {
    "duration": 28990,
    "start_time": "2023-01-28T11:51:27.993Z"
   },
   {
    "duration": 9,
    "start_time": "2023-01-28T11:51:56.985Z"
   },
   {
    "duration": 370,
    "start_time": "2023-01-28T11:51:56.996Z"
   },
   {
    "duration": 6,
    "start_time": "2023-01-28T11:51:57.368Z"
   },
   {
    "duration": 35,
    "start_time": "2023-01-28T11:51:57.375Z"
   },
   {
    "duration": 33,
    "start_time": "2023-01-28T11:51:57.411Z"
   },
   {
    "duration": 27,
    "start_time": "2023-01-28T11:51:57.446Z"
   },
   {
    "duration": 64897,
    "start_time": "2023-01-28T11:51:57.475Z"
   },
   {
    "duration": 3,
    "start_time": "2023-01-28T11:53:02.375Z"
   },
   {
    "duration": 161641,
    "start_time": "2023-01-28T11:53:02.380Z"
   },
   {
    "duration": 0,
    "start_time": "2023-01-28T11:55:44.023Z"
   },
   {
    "duration": 0,
    "start_time": "2023-01-28T11:55:44.024Z"
   },
   {
    "duration": 1690,
    "start_time": "2023-01-28T11:55:47.810Z"
   },
   {
    "duration": 115,
    "start_time": "2023-01-28T11:55:49.502Z"
   },
   {
    "duration": 22,
    "start_time": "2023-01-28T11:55:49.619Z"
   },
   {
    "duration": 3,
    "start_time": "2023-01-28T11:55:49.643Z"
   },
   {
    "duration": 6,
    "start_time": "2023-01-28T11:55:49.667Z"
   },
   {
    "duration": 7,
    "start_time": "2023-01-28T11:55:49.674Z"
   },
   {
    "duration": 3,
    "start_time": "2023-01-28T11:55:49.682Z"
   },
   {
    "duration": 5,
    "start_time": "2023-01-28T11:55:49.686Z"
   },
   {
    "duration": 303,
    "start_time": "2023-01-28T11:55:49.693Z"
   },
   {
    "duration": 261,
    "start_time": "2023-01-28T11:55:49.997Z"
   },
   {
    "duration": 281,
    "start_time": "2023-01-28T11:55:50.266Z"
   },
   {
    "duration": 287,
    "start_time": "2023-01-28T11:55:50.548Z"
   },
   {
    "duration": 5,
    "start_time": "2023-01-28T11:55:50.836Z"
   },
   {
    "duration": 5,
    "start_time": "2023-01-28T11:55:50.844Z"
   },
   {
    "duration": 403,
    "start_time": "2023-01-28T11:55:50.850Z"
   },
   {
    "duration": 14,
    "start_time": "2023-01-28T11:55:51.255Z"
   },
   {
    "duration": 6,
    "start_time": "2023-01-28T11:55:51.270Z"
   },
   {
    "duration": 6,
    "start_time": "2023-01-28T11:55:51.277Z"
   },
   {
    "duration": 184,
    "start_time": "2023-01-28T11:55:51.286Z"
   },
   {
    "duration": 172,
    "start_time": "2023-01-28T11:55:51.472Z"
   },
   {
    "duration": 136,
    "start_time": "2023-01-28T11:55:51.645Z"
   },
   {
    "duration": 5,
    "start_time": "2023-01-28T11:55:51.782Z"
   },
   {
    "duration": 33,
    "start_time": "2023-01-28T11:55:51.789Z"
   },
   {
    "duration": 15,
    "start_time": "2023-01-28T11:55:51.824Z"
   },
   {
    "duration": 15,
    "start_time": "2023-01-28T11:55:51.841Z"
   },
   {
    "duration": 5,
    "start_time": "2023-01-28T11:55:51.857Z"
   },
   {
    "duration": 13,
    "start_time": "2023-01-28T11:55:51.864Z"
   },
   {
    "duration": 7,
    "start_time": "2023-01-28T11:55:51.878Z"
   },
   {
    "duration": 41889,
    "start_time": "2023-01-28T11:55:51.887Z"
   },
   {
    "duration": 8,
    "start_time": "2023-01-28T11:56:33.777Z"
   },
   {
    "duration": 387,
    "start_time": "2023-01-28T11:56:33.787Z"
   },
   {
    "duration": 6,
    "start_time": "2023-01-28T11:56:34.176Z"
   },
   {
    "duration": 6,
    "start_time": "2023-01-28T11:56:34.184Z"
   },
   {
    "duration": 10,
    "start_time": "2023-01-28T11:56:34.191Z"
   },
   {
    "duration": 14,
    "start_time": "2023-01-28T11:56:34.202Z"
   },
   {
    "duration": 63961,
    "start_time": "2023-01-28T11:56:34.217Z"
   },
   {
    "duration": 4,
    "start_time": "2023-01-28T11:57:38.180Z"
   },
   {
    "duration": 47619,
    "start_time": "2023-01-28T11:57:38.185Z"
   },
   {
    "duration": 0,
    "start_time": "2023-01-28T11:58:25.806Z"
   },
   {
    "duration": 0,
    "start_time": "2023-01-28T11:58:25.807Z"
   },
   {
    "duration": 1728,
    "start_time": "2023-01-28T11:58:28.573Z"
   },
   {
    "duration": 114,
    "start_time": "2023-01-28T11:58:30.302Z"
   },
   {
    "duration": 25,
    "start_time": "2023-01-28T11:58:30.418Z"
   },
   {
    "duration": 19,
    "start_time": "2023-01-28T11:58:30.445Z"
   },
   {
    "duration": 21,
    "start_time": "2023-01-28T11:58:30.467Z"
   },
   {
    "duration": 25,
    "start_time": "2023-01-28T11:58:30.490Z"
   },
   {
    "duration": 40,
    "start_time": "2023-01-28T11:58:30.517Z"
   },
   {
    "duration": 21,
    "start_time": "2023-01-28T11:58:30.560Z"
   },
   {
    "duration": 351,
    "start_time": "2023-01-28T11:58:30.583Z"
   },
   {
    "duration": 282,
    "start_time": "2023-01-28T11:58:30.936Z"
   },
   {
    "duration": 291,
    "start_time": "2023-01-28T11:58:31.219Z"
   },
   {
    "duration": 305,
    "start_time": "2023-01-28T11:58:31.512Z"
   },
   {
    "duration": 5,
    "start_time": "2023-01-28T11:58:31.818Z"
   },
   {
    "duration": 16,
    "start_time": "2023-01-28T11:58:31.824Z"
   },
   {
    "duration": 392,
    "start_time": "2023-01-28T11:58:31.842Z"
   },
   {
    "duration": 4,
    "start_time": "2023-01-28T11:58:32.236Z"
   },
   {
    "duration": 16,
    "start_time": "2023-01-28T11:58:32.241Z"
   },
   {
    "duration": 8,
    "start_time": "2023-01-28T11:58:32.259Z"
   },
   {
    "duration": 173,
    "start_time": "2023-01-28T11:58:32.269Z"
   },
   {
    "duration": 172,
    "start_time": "2023-01-28T11:58:32.444Z"
   },
   {
    "duration": 149,
    "start_time": "2023-01-28T11:58:32.618Z"
   },
   {
    "duration": 6,
    "start_time": "2023-01-28T11:58:32.768Z"
   },
   {
    "duration": 16,
    "start_time": "2023-01-28T11:58:32.778Z"
   },
   {
    "duration": 12,
    "start_time": "2023-01-28T11:58:32.795Z"
   },
   {
    "duration": 8,
    "start_time": "2023-01-28T11:58:32.809Z"
   },
   {
    "duration": 6,
    "start_time": "2023-01-28T11:58:32.819Z"
   },
   {
    "duration": 5,
    "start_time": "2023-01-28T11:58:32.826Z"
   },
   {
    "duration": 13,
    "start_time": "2023-01-28T11:58:32.832Z"
   },
   {
    "duration": 29637,
    "start_time": "2023-01-28T11:58:32.847Z"
   },
   {
    "duration": 6,
    "start_time": "2023-01-28T11:59:02.486Z"
   },
   {
    "duration": 377,
    "start_time": "2023-01-28T11:59:02.494Z"
   },
   {
    "duration": 6,
    "start_time": "2023-01-28T11:59:02.873Z"
   },
   {
    "duration": 7,
    "start_time": "2023-01-28T11:59:02.881Z"
   },
   {
    "duration": 7,
    "start_time": "2023-01-28T11:59:02.889Z"
   },
   {
    "duration": 10,
    "start_time": "2023-01-28T11:59:02.897Z"
   },
   {
    "duration": 27791,
    "start_time": "2023-01-28T11:59:02.908Z"
   },
   {
    "duration": 0,
    "start_time": "2023-01-28T11:59:30.701Z"
   },
   {
    "duration": 0,
    "start_time": "2023-01-28T11:59:30.703Z"
   },
   {
    "duration": 0,
    "start_time": "2023-01-28T11:59:30.705Z"
   },
   {
    "duration": 0,
    "start_time": "2023-01-28T11:59:30.706Z"
   },
   {
    "duration": 1908,
    "start_time": "2023-01-28T11:59:34.563Z"
   },
   {
    "duration": 124,
    "start_time": "2023-01-28T11:59:36.473Z"
   },
   {
    "duration": 26,
    "start_time": "2023-01-28T11:59:36.600Z"
   },
   {
    "duration": 3,
    "start_time": "2023-01-28T11:59:36.627Z"
   },
   {
    "duration": 13,
    "start_time": "2023-01-28T11:59:36.633Z"
   },
   {
    "duration": 24,
    "start_time": "2023-01-28T11:59:36.647Z"
   },
   {
    "duration": 3,
    "start_time": "2023-01-28T11:59:36.672Z"
   },
   {
    "duration": 8,
    "start_time": "2023-01-28T11:59:36.677Z"
   },
   {
    "duration": 368,
    "start_time": "2023-01-28T11:59:36.686Z"
   },
   {
    "duration": 294,
    "start_time": "2023-01-28T11:59:37.056Z"
   },
   {
    "duration": 320,
    "start_time": "2023-01-28T11:59:37.352Z"
   },
   {
    "duration": 325,
    "start_time": "2023-01-28T11:59:37.674Z"
   },
   {
    "duration": 6,
    "start_time": "2023-01-28T11:59:38.001Z"
   },
   {
    "duration": 4,
    "start_time": "2023-01-28T11:59:38.012Z"
   },
   {
    "duration": 414,
    "start_time": "2023-01-28T11:59:38.017Z"
   },
   {
    "duration": 4,
    "start_time": "2023-01-28T11:59:38.432Z"
   },
   {
    "duration": 6,
    "start_time": "2023-01-28T11:59:38.438Z"
   },
   {
    "duration": 7,
    "start_time": "2023-01-28T11:59:38.446Z"
   },
   {
    "duration": 177,
    "start_time": "2023-01-28T11:59:38.466Z"
   },
   {
    "duration": 179,
    "start_time": "2023-01-28T11:59:38.645Z"
   },
   {
    "duration": 163,
    "start_time": "2023-01-28T11:59:38.826Z"
   },
   {
    "duration": 6,
    "start_time": "2023-01-28T11:59:38.991Z"
   },
   {
    "duration": 18,
    "start_time": "2023-01-28T11:59:38.999Z"
   },
   {
    "duration": 16,
    "start_time": "2023-01-28T11:59:39.019Z"
   },
   {
    "duration": 11,
    "start_time": "2023-01-28T11:59:39.038Z"
   },
   {
    "duration": 17,
    "start_time": "2023-01-28T11:59:39.051Z"
   },
   {
    "duration": 7,
    "start_time": "2023-01-28T11:59:39.070Z"
   },
   {
    "duration": 13,
    "start_time": "2023-01-28T11:59:39.078Z"
   },
   {
    "duration": 32682,
    "start_time": "2023-01-28T11:59:39.093Z"
   },
   {
    "duration": 7,
    "start_time": "2023-01-28T12:00:11.777Z"
   },
   {
    "duration": 361,
    "start_time": "2023-01-28T12:00:11.786Z"
   },
   {
    "duration": 8,
    "start_time": "2023-01-28T12:00:12.149Z"
   },
   {
    "duration": 10,
    "start_time": "2023-01-28T12:00:12.159Z"
   },
   {
    "duration": 10,
    "start_time": "2023-01-28T12:00:12.170Z"
   },
   {
    "duration": 16,
    "start_time": "2023-01-28T12:00:12.182Z"
   },
   {
    "duration": 64177,
    "start_time": "2023-01-28T12:00:12.199Z"
   },
   {
    "duration": 3,
    "start_time": "2023-01-28T12:01:16.378Z"
   },
   {
    "duration": 348603,
    "start_time": "2023-01-28T12:01:16.382Z"
   },
   {
    "duration": 4,
    "start_time": "2023-01-28T12:07:04.989Z"
   },
   {
    "duration": 522,
    "start_time": "2023-01-28T12:07:04.994Z"
   },
   {
    "duration": 9,
    "start_time": "2023-01-28T12:08:54.953Z"
   },
   {
    "duration": 1826,
    "start_time": "2023-01-28T12:10:04.043Z"
   },
   {
    "duration": 112,
    "start_time": "2023-01-28T12:10:05.871Z"
   },
   {
    "duration": 22,
    "start_time": "2023-01-28T12:10:05.987Z"
   },
   {
    "duration": 22,
    "start_time": "2023-01-28T12:10:06.011Z"
   },
   {
    "duration": 29,
    "start_time": "2023-01-28T12:10:06.034Z"
   },
   {
    "duration": 30,
    "start_time": "2023-01-28T12:10:06.064Z"
   },
   {
    "duration": 31,
    "start_time": "2023-01-28T12:10:06.095Z"
   },
   {
    "duration": 20,
    "start_time": "2023-01-28T12:10:06.128Z"
   },
   {
    "duration": 339,
    "start_time": "2023-01-28T12:10:06.150Z"
   },
   {
    "duration": 311,
    "start_time": "2023-01-28T12:10:06.491Z"
   },
   {
    "duration": 328,
    "start_time": "2023-01-28T12:10:06.805Z"
   },
   {
    "duration": 334,
    "start_time": "2023-01-28T12:10:07.135Z"
   },
   {
    "duration": 4,
    "start_time": "2023-01-28T12:10:07.471Z"
   },
   {
    "duration": 22,
    "start_time": "2023-01-28T12:10:07.477Z"
   },
   {
    "duration": 413,
    "start_time": "2023-01-28T12:10:07.501Z"
   },
   {
    "duration": 5,
    "start_time": "2023-01-28T12:10:07.916Z"
   },
   {
    "duration": 17,
    "start_time": "2023-01-28T12:10:07.922Z"
   },
   {
    "duration": 6,
    "start_time": "2023-01-28T12:10:07.941Z"
   },
   {
    "duration": 204,
    "start_time": "2023-01-28T12:10:07.949Z"
   },
   {
    "duration": 192,
    "start_time": "2023-01-28T12:10:08.155Z"
   },
   {
    "duration": 130,
    "start_time": "2023-01-28T12:10:08.349Z"
   },
   {
    "duration": 5,
    "start_time": "2023-01-28T12:10:08.481Z"
   },
   {
    "duration": 15,
    "start_time": "2023-01-28T12:10:08.487Z"
   },
   {
    "duration": 24,
    "start_time": "2023-01-28T12:10:08.504Z"
   },
   {
    "duration": 9,
    "start_time": "2023-01-28T12:10:08.529Z"
   },
   {
    "duration": 5,
    "start_time": "2023-01-28T12:10:08.539Z"
   },
   {
    "duration": 8,
    "start_time": "2023-01-28T12:10:08.546Z"
   },
   {
    "duration": 7,
    "start_time": "2023-01-28T12:10:08.556Z"
   },
   {
    "duration": 36722,
    "start_time": "2023-01-28T12:10:08.567Z"
   },
   {
    "duration": 78,
    "start_time": "2023-01-28T12:10:45.290Z"
   },
   {
    "duration": 306,
    "start_time": "2023-01-28T12:10:45.370Z"
   },
   {
    "duration": 6,
    "start_time": "2023-01-28T12:10:45.678Z"
   },
   {
    "duration": 16,
    "start_time": "2023-01-28T12:10:45.686Z"
   },
   {
    "duration": 16,
    "start_time": "2023-01-28T12:10:45.704Z"
   },
   {
    "duration": 12,
    "start_time": "2023-01-28T12:10:45.721Z"
   },
   {
    "duration": 159,
    "start_time": "2023-01-28T12:10:45.734Z"
   },
   {
    "duration": 0,
    "start_time": "2023-01-28T12:10:45.895Z"
   },
   {
    "duration": 0,
    "start_time": "2023-01-28T12:10:45.896Z"
   },
   {
    "duration": 0,
    "start_time": "2023-01-28T12:10:45.897Z"
   },
   {
    "duration": 0,
    "start_time": "2023-01-28T12:10:45.898Z"
   },
   {
    "duration": 8,
    "start_time": "2023-01-28T12:14:21.694Z"
   },
   {
    "duration": 81165,
    "start_time": "2023-01-28T12:14:28.420Z"
   },
   {
    "duration": 4,
    "start_time": "2023-01-28T12:15:49.588Z"
   },
   {
    "duration": 1780,
    "start_time": "2023-01-28T12:21:08.504Z"
   },
   {
    "duration": 107,
    "start_time": "2023-01-28T12:21:10.286Z"
   },
   {
    "duration": 21,
    "start_time": "2023-01-28T12:21:10.394Z"
   },
   {
    "duration": 3,
    "start_time": "2023-01-28T12:21:10.416Z"
   },
   {
    "duration": 12,
    "start_time": "2023-01-28T12:21:10.420Z"
   },
   {
    "duration": 8,
    "start_time": "2023-01-28T12:21:10.434Z"
   },
   {
    "duration": 8,
    "start_time": "2023-01-28T12:21:10.444Z"
   },
   {
    "duration": 4,
    "start_time": "2023-01-28T12:21:10.466Z"
   },
   {
    "duration": 297,
    "start_time": "2023-01-28T12:21:10.471Z"
   },
   {
    "duration": 251,
    "start_time": "2023-01-28T12:21:10.770Z"
   },
   {
    "duration": 306,
    "start_time": "2023-01-28T12:21:11.023Z"
   },
   {
    "duration": 319,
    "start_time": "2023-01-28T12:21:11.332Z"
   },
   {
    "duration": 15,
    "start_time": "2023-01-28T12:21:11.653Z"
   },
   {
    "duration": 30,
    "start_time": "2023-01-28T12:21:11.671Z"
   },
   {
    "duration": 391,
    "start_time": "2023-01-28T12:21:11.703Z"
   },
   {
    "duration": 5,
    "start_time": "2023-01-28T12:21:12.096Z"
   },
   {
    "duration": 18,
    "start_time": "2023-01-28T12:21:12.102Z"
   },
   {
    "duration": 12,
    "start_time": "2023-01-28T12:21:12.122Z"
   },
   {
    "duration": 184,
    "start_time": "2023-01-28T12:21:12.135Z"
   },
   {
    "duration": 172,
    "start_time": "2023-01-28T12:21:12.320Z"
   },
   {
    "duration": 135,
    "start_time": "2023-01-28T12:21:12.494Z"
   },
   {
    "duration": 5,
    "start_time": "2023-01-28T12:21:12.630Z"
   },
   {
    "duration": 156,
    "start_time": "2023-01-28T12:21:12.637Z"
   },
   {
    "duration": 0,
    "start_time": "2023-01-28T12:21:12.795Z"
   },
   {
    "duration": 0,
    "start_time": "2023-01-28T12:21:12.796Z"
   },
   {
    "duration": 0,
    "start_time": "2023-01-28T12:21:12.797Z"
   },
   {
    "duration": 0,
    "start_time": "2023-01-28T12:21:12.798Z"
   },
   {
    "duration": 0,
    "start_time": "2023-01-28T12:21:12.799Z"
   },
   {
    "duration": 0,
    "start_time": "2023-01-28T12:21:12.800Z"
   },
   {
    "duration": 0,
    "start_time": "2023-01-28T12:21:12.801Z"
   },
   {
    "duration": 0,
    "start_time": "2023-01-28T12:21:12.802Z"
   },
   {
    "duration": 0,
    "start_time": "2023-01-28T12:21:12.803Z"
   },
   {
    "duration": 0,
    "start_time": "2023-01-28T12:21:12.804Z"
   },
   {
    "duration": 0,
    "start_time": "2023-01-28T12:21:12.805Z"
   },
   {
    "duration": 0,
    "start_time": "2023-01-28T12:21:12.806Z"
   },
   {
    "duration": 0,
    "start_time": "2023-01-28T12:21:12.807Z"
   },
   {
    "duration": 0,
    "start_time": "2023-01-28T12:21:12.808Z"
   },
   {
    "duration": 0,
    "start_time": "2023-01-28T12:21:12.809Z"
   },
   {
    "duration": 0,
    "start_time": "2023-01-28T12:21:12.809Z"
   },
   {
    "duration": 74,
    "start_time": "2023-01-28T12:22:54.293Z"
   },
   {
    "duration": 3,
    "start_time": "2023-01-28T12:23:01.713Z"
   },
   {
    "duration": 1765,
    "start_time": "2023-01-28T12:24:41.373Z"
   },
   {
    "duration": 126,
    "start_time": "2023-01-28T12:24:43.140Z"
   },
   {
    "duration": 26,
    "start_time": "2023-01-28T12:24:43.272Z"
   },
   {
    "duration": 16,
    "start_time": "2023-01-28T12:24:43.300Z"
   },
   {
    "duration": 25,
    "start_time": "2023-01-28T12:24:43.318Z"
   },
   {
    "duration": 30,
    "start_time": "2023-01-28T12:24:43.344Z"
   },
   {
    "duration": 24,
    "start_time": "2023-01-28T12:24:43.376Z"
   },
   {
    "duration": 14,
    "start_time": "2023-01-28T12:24:43.402Z"
   },
   {
    "duration": 365,
    "start_time": "2023-01-28T12:24:43.417Z"
   },
   {
    "duration": 297,
    "start_time": "2023-01-28T12:24:43.784Z"
   },
   {
    "duration": 335,
    "start_time": "2023-01-28T12:24:44.083Z"
   },
   {
    "duration": 307,
    "start_time": "2023-01-28T12:24:44.420Z"
   },
   {
    "duration": 5,
    "start_time": "2023-01-28T12:24:44.728Z"
   },
   {
    "duration": 38,
    "start_time": "2023-01-28T12:24:44.736Z"
   },
   {
    "duration": 490,
    "start_time": "2023-01-28T12:24:44.777Z"
   },
   {
    "duration": 6,
    "start_time": "2023-01-28T12:24:45.269Z"
   },
   {
    "duration": 38,
    "start_time": "2023-01-28T12:24:45.277Z"
   },
   {
    "duration": 28,
    "start_time": "2023-01-28T12:24:45.317Z"
   },
   {
    "duration": 193,
    "start_time": "2023-01-28T12:24:45.347Z"
   },
   {
    "duration": 5,
    "start_time": "2023-01-28T12:24:45.542Z"
   },
   {
    "duration": 138,
    "start_time": "2023-01-28T12:24:45.549Z"
   },
   {
    "duration": 146,
    "start_time": "2023-01-28T12:24:45.689Z"
   },
   {
    "duration": 16,
    "start_time": "2023-01-28T12:24:45.837Z"
   },
   {
    "duration": 43,
    "start_time": "2023-01-28T12:24:45.856Z"
   },
   {
    "duration": 160,
    "start_time": "2023-01-28T12:24:45.901Z"
   },
   {
    "duration": 0,
    "start_time": "2023-01-28T12:24:46.062Z"
   },
   {
    "duration": 0,
    "start_time": "2023-01-28T12:24:46.063Z"
   },
   {
    "duration": 0,
    "start_time": "2023-01-28T12:24:46.064Z"
   },
   {
    "duration": 0,
    "start_time": "2023-01-28T12:24:46.068Z"
   },
   {
    "duration": 0,
    "start_time": "2023-01-28T12:24:46.070Z"
   },
   {
    "duration": 0,
    "start_time": "2023-01-28T12:24:46.072Z"
   },
   {
    "duration": 0,
    "start_time": "2023-01-28T12:24:46.074Z"
   },
   {
    "duration": 0,
    "start_time": "2023-01-28T12:24:46.079Z"
   },
   {
    "duration": 0,
    "start_time": "2023-01-28T12:24:46.080Z"
   },
   {
    "duration": 0,
    "start_time": "2023-01-28T12:24:46.082Z"
   },
   {
    "duration": 0,
    "start_time": "2023-01-28T12:24:46.084Z"
   },
   {
    "duration": 0,
    "start_time": "2023-01-28T12:24:46.087Z"
   },
   {
    "duration": 0,
    "start_time": "2023-01-28T12:24:46.088Z"
   },
   {
    "duration": 0,
    "start_time": "2023-01-28T12:24:46.090Z"
   },
   {
    "duration": 0,
    "start_time": "2023-01-28T12:24:46.091Z"
   },
   {
    "duration": 13,
    "start_time": "2023-01-28T12:26:04.771Z"
   },
   {
    "duration": 3,
    "start_time": "2023-01-28T12:26:10.359Z"
   },
   {
    "duration": 4,
    "start_time": "2023-01-28T12:26:20.235Z"
   },
   {
    "duration": 5,
    "start_time": "2023-01-28T12:26:21.393Z"
   },
   {
    "duration": 17,
    "start_time": "2023-01-28T12:26:26.266Z"
   },
   {
    "duration": 3,
    "start_time": "2023-01-28T12:26:30.728Z"
   },
   {
    "duration": 71511,
    "start_time": "2023-01-28T12:26:32.591Z"
   },
   {
    "duration": 66,
    "start_time": "2023-01-28T12:27:44.104Z"
   },
   {
    "duration": 2002,
    "start_time": "2023-01-28T12:31:02.651Z"
   },
   {
    "duration": 116,
    "start_time": "2023-01-28T12:31:04.655Z"
   },
   {
    "duration": 28,
    "start_time": "2023-01-28T12:31:04.772Z"
   },
   {
    "duration": 3,
    "start_time": "2023-01-28T12:31:04.803Z"
   },
   {
    "duration": 10,
    "start_time": "2023-01-28T12:31:04.808Z"
   },
   {
    "duration": 7,
    "start_time": "2023-01-28T12:31:04.820Z"
   },
   {
    "duration": 4,
    "start_time": "2023-01-28T12:31:04.829Z"
   },
   {
    "duration": 36,
    "start_time": "2023-01-28T12:31:04.835Z"
   },
   {
    "duration": 419,
    "start_time": "2023-01-28T12:31:04.874Z"
   },
   {
    "duration": 345,
    "start_time": "2023-01-28T12:31:05.298Z"
   },
   {
    "duration": 367,
    "start_time": "2023-01-28T12:31:05.645Z"
   },
   {
    "duration": 363,
    "start_time": "2023-01-28T12:31:06.014Z"
   },
   {
    "duration": 7,
    "start_time": "2023-01-28T12:31:06.381Z"
   },
   {
    "duration": 11,
    "start_time": "2023-01-28T12:31:06.391Z"
   },
   {
    "duration": 487,
    "start_time": "2023-01-28T12:31:06.404Z"
   },
   {
    "duration": 5,
    "start_time": "2023-01-28T12:31:06.898Z"
   },
   {
    "duration": 9,
    "start_time": "2023-01-28T12:31:06.904Z"
   },
   {
    "duration": 6,
    "start_time": "2023-01-28T12:31:06.916Z"
   },
   {
    "duration": 215,
    "start_time": "2023-01-28T12:31:06.924Z"
   },
   {
    "duration": 7,
    "start_time": "2023-01-28T12:31:07.141Z"
   },
   {
    "duration": 168,
    "start_time": "2023-01-28T12:31:07.150Z"
   },
   {
    "duration": 180,
    "start_time": "2023-01-28T12:31:07.320Z"
   },
   {
    "duration": 8,
    "start_time": "2023-01-28T12:31:07.502Z"
   },
   {
    "duration": 18,
    "start_time": "2023-01-28T12:31:07.511Z"
   },
   {
    "duration": 7,
    "start_time": "2023-01-28T12:31:07.530Z"
   },
   {
    "duration": 6,
    "start_time": "2023-01-28T12:31:07.538Z"
   },
   {
    "duration": 9,
    "start_time": "2023-01-28T12:31:07.567Z"
   },
   {
    "duration": 11,
    "start_time": "2023-01-28T12:31:07.584Z"
   },
   {
    "duration": 92972,
    "start_time": "2023-01-28T12:31:07.596Z"
   },
   {
    "duration": 227,
    "start_time": "2023-01-28T12:32:40.570Z"
   },
   {
    "duration": 6,
    "start_time": "2023-01-28T12:32:40.799Z"
   },
   {
    "duration": 387,
    "start_time": "2023-01-28T12:32:40.807Z"
   },
   {
    "duration": 8,
    "start_time": "2023-01-28T12:32:41.196Z"
   },
   {
    "duration": 16,
    "start_time": "2023-01-28T12:32:41.205Z"
   },
   {
    "duration": 22,
    "start_time": "2023-01-28T12:32:41.223Z"
   },
   {
    "duration": 13,
    "start_time": "2023-01-28T12:32:41.247Z"
   },
   {
    "duration": 39983,
    "start_time": "2023-01-28T12:32:41.261Z"
   },
   {
    "duration": 0,
    "start_time": "2023-01-28T12:33:21.245Z"
   },
   {
    "duration": 0,
    "start_time": "2023-01-28T12:33:21.246Z"
   },
   {
    "duration": 0,
    "start_time": "2023-01-28T12:33:21.247Z"
   },
   {
    "duration": 0,
    "start_time": "2023-01-28T12:33:21.248Z"
   },
   {
    "duration": 0,
    "start_time": "2023-01-28T12:33:21.249Z"
   },
   {
    "duration": 1966,
    "start_time": "2023-01-28T12:33:26.869Z"
   },
   {
    "duration": 122,
    "start_time": "2023-01-28T12:33:28.837Z"
   },
   {
    "duration": 29,
    "start_time": "2023-01-28T12:33:28.960Z"
   },
   {
    "duration": 10,
    "start_time": "2023-01-28T12:33:28.991Z"
   },
   {
    "duration": 12,
    "start_time": "2023-01-28T12:33:29.002Z"
   },
   {
    "duration": 12,
    "start_time": "2023-01-28T12:33:29.016Z"
   },
   {
    "duration": 4,
    "start_time": "2023-01-28T12:33:29.029Z"
   },
   {
    "duration": 11,
    "start_time": "2023-01-28T12:33:29.035Z"
   },
   {
    "duration": 354,
    "start_time": "2023-01-28T12:33:29.048Z"
   },
   {
    "duration": 325,
    "start_time": "2023-01-28T12:33:29.405Z"
   },
   {
    "duration": 361,
    "start_time": "2023-01-28T12:33:29.732Z"
   },
   {
    "duration": 377,
    "start_time": "2023-01-28T12:33:30.095Z"
   },
   {
    "duration": 7,
    "start_time": "2023-01-28T12:33:30.474Z"
   },
   {
    "duration": 35,
    "start_time": "2023-01-28T12:33:30.483Z"
   },
   {
    "duration": 468,
    "start_time": "2023-01-28T12:33:30.520Z"
   },
   {
    "duration": 4,
    "start_time": "2023-01-28T12:33:30.991Z"
   },
   {
    "duration": 20,
    "start_time": "2023-01-28T12:33:30.997Z"
   },
   {
    "duration": 16,
    "start_time": "2023-01-28T12:33:31.019Z"
   },
   {
    "duration": 206,
    "start_time": "2023-01-28T12:33:31.036Z"
   },
   {
    "duration": 7,
    "start_time": "2023-01-28T12:33:31.244Z"
   },
   {
    "duration": 155,
    "start_time": "2023-01-28T12:33:31.253Z"
   },
   {
    "duration": 176,
    "start_time": "2023-01-28T12:33:31.409Z"
   },
   {
    "duration": 9,
    "start_time": "2023-01-28T12:33:31.588Z"
   },
   {
    "duration": 18,
    "start_time": "2023-01-28T12:33:31.598Z"
   },
   {
    "duration": 6,
    "start_time": "2023-01-28T12:33:31.618Z"
   },
   {
    "duration": 11,
    "start_time": "2023-01-28T12:33:31.626Z"
   },
   {
    "duration": 12,
    "start_time": "2023-01-28T12:33:31.638Z"
   },
   {
    "duration": 5,
    "start_time": "2023-01-28T12:33:31.666Z"
   },
   {
    "duration": 49112,
    "start_time": "2023-01-28T12:33:31.673Z"
   },
   {
    "duration": 20,
    "start_time": "2023-01-28T12:34:20.787Z"
   },
   {
    "duration": 219,
    "start_time": "2023-01-28T12:34:20.868Z"
   },
   {
    "duration": 6,
    "start_time": "2023-01-28T12:34:21.089Z"
   },
   {
    "duration": 340,
    "start_time": "2023-01-28T12:34:21.097Z"
   },
   {
    "duration": 6,
    "start_time": "2023-01-28T12:34:21.440Z"
   },
   {
    "duration": 18,
    "start_time": "2023-01-28T12:34:21.448Z"
   },
   {
    "duration": 4,
    "start_time": "2023-01-28T12:34:21.468Z"
   },
   {
    "duration": 11,
    "start_time": "2023-01-28T12:34:21.473Z"
   },
   {
    "duration": 65305,
    "start_time": "2023-01-28T12:34:21.485Z"
   },
   {
    "duration": 3,
    "start_time": "2023-01-28T12:35:26.792Z"
   },
   {
    "duration": 2062,
    "start_time": "2023-01-28T12:36:25.957Z"
   },
   {
    "duration": 130,
    "start_time": "2023-01-28T12:36:28.021Z"
   },
   {
    "duration": 41,
    "start_time": "2023-01-28T12:36:28.153Z"
   },
   {
    "duration": 4,
    "start_time": "2023-01-28T12:36:28.197Z"
   },
   {
    "duration": 13,
    "start_time": "2023-01-28T12:36:28.203Z"
   },
   {
    "duration": 16,
    "start_time": "2023-01-28T12:36:28.217Z"
   },
   {
    "duration": 5,
    "start_time": "2023-01-28T12:36:28.236Z"
   },
   {
    "duration": 6,
    "start_time": "2023-01-28T12:36:28.243Z"
   },
   {
    "duration": 380,
    "start_time": "2023-01-28T12:36:28.252Z"
   },
   {
    "duration": 307,
    "start_time": "2023-01-28T12:36:28.636Z"
   },
   {
    "duration": 351,
    "start_time": "2023-01-28T12:36:28.944Z"
   },
   {
    "duration": 340,
    "start_time": "2023-01-28T12:36:29.297Z"
   },
   {
    "duration": 5,
    "start_time": "2023-01-28T12:36:29.639Z"
   },
   {
    "duration": 33,
    "start_time": "2023-01-28T12:36:29.646Z"
   },
   {
    "duration": 431,
    "start_time": "2023-01-28T12:36:29.681Z"
   },
   {
    "duration": 4,
    "start_time": "2023-01-28T12:36:30.114Z"
   },
   {
    "duration": 18,
    "start_time": "2023-01-28T12:36:30.120Z"
   },
   {
    "duration": 12,
    "start_time": "2023-01-28T12:36:30.139Z"
   },
   {
    "duration": 219,
    "start_time": "2023-01-28T12:36:30.153Z"
   },
   {
    "duration": 9,
    "start_time": "2023-01-28T12:36:30.376Z"
   },
   {
    "duration": 205,
    "start_time": "2023-01-28T12:36:30.387Z"
   },
   {
    "duration": 195,
    "start_time": "2023-01-28T12:36:30.594Z"
   },
   {
    "duration": 7,
    "start_time": "2023-01-28T12:36:30.791Z"
   },
   {
    "duration": 53,
    "start_time": "2023-01-28T12:36:30.801Z"
   },
   {
    "duration": 27,
    "start_time": "2023-01-28T12:36:30.856Z"
   },
   {
    "duration": 48,
    "start_time": "2023-01-28T12:36:30.885Z"
   },
   {
    "duration": 33,
    "start_time": "2023-01-28T12:36:30.935Z"
   },
   {
    "duration": 29,
    "start_time": "2023-01-28T12:36:30.972Z"
   },
   {
    "duration": 59898,
    "start_time": "2023-01-28T12:36:31.003Z"
   },
   {
    "duration": 80,
    "start_time": "2023-01-28T12:37:30.903Z"
   },
   {
    "duration": 25,
    "start_time": "2023-01-28T12:37:30.985Z"
   },
   {
    "duration": 222,
    "start_time": "2023-01-28T12:37:31.012Z"
   },
   {
    "duration": 6,
    "start_time": "2023-01-28T12:37:31.235Z"
   },
   {
    "duration": 341,
    "start_time": "2023-01-28T12:37:31.242Z"
   },
   {
    "duration": 6,
    "start_time": "2023-01-28T12:37:31.584Z"
   },
   {
    "duration": 25,
    "start_time": "2023-01-28T12:37:31.592Z"
   },
   {
    "duration": 34,
    "start_time": "2023-01-28T12:37:31.619Z"
   },
   {
    "duration": 20,
    "start_time": "2023-01-28T12:37:31.655Z"
   },
   {
    "duration": 101616,
    "start_time": "2023-01-28T12:37:31.676Z"
   },
   {
    "duration": 0,
    "start_time": "2023-01-28T12:39:13.293Z"
   },
   {
    "duration": 0,
    "start_time": "2023-01-28T12:39:13.295Z"
   },
   {
    "duration": 0,
    "start_time": "2023-01-28T12:39:13.296Z"
   },
   {
    "duration": 0,
    "start_time": "2023-01-28T12:39:13.297Z"
   },
   {
    "duration": 1949,
    "start_time": "2023-01-28T12:39:16.960Z"
   },
   {
    "duration": 128,
    "start_time": "2023-01-28T12:39:18.911Z"
   },
   {
    "duration": 46,
    "start_time": "2023-01-28T12:39:19.040Z"
   },
   {
    "duration": 6,
    "start_time": "2023-01-28T12:39:19.088Z"
   },
   {
    "duration": 9,
    "start_time": "2023-01-28T12:39:19.095Z"
   },
   {
    "duration": 8,
    "start_time": "2023-01-28T12:39:19.106Z"
   },
   {
    "duration": 4,
    "start_time": "2023-01-28T12:39:19.116Z"
   },
   {
    "duration": 6,
    "start_time": "2023-01-28T12:39:19.122Z"
   },
   {
    "duration": 367,
    "start_time": "2023-01-28T12:39:19.130Z"
   },
   {
    "duration": 321,
    "start_time": "2023-01-28T12:39:19.500Z"
   },
   {
    "duration": 373,
    "start_time": "2023-01-28T12:39:19.822Z"
   },
   {
    "duration": 350,
    "start_time": "2023-01-28T12:39:20.197Z"
   },
   {
    "duration": 5,
    "start_time": "2023-01-28T12:39:20.549Z"
   },
   {
    "duration": 12,
    "start_time": "2023-01-28T12:39:20.568Z"
   },
   {
    "duration": 428,
    "start_time": "2023-01-28T12:39:20.582Z"
   },
   {
    "duration": 5,
    "start_time": "2023-01-28T12:39:21.012Z"
   },
   {
    "duration": 23,
    "start_time": "2023-01-28T12:39:21.019Z"
   },
   {
    "duration": 7,
    "start_time": "2023-01-28T12:39:21.044Z"
   },
   {
    "duration": 202,
    "start_time": "2023-01-28T12:39:21.053Z"
   },
   {
    "duration": 13,
    "start_time": "2023-01-28T12:39:21.257Z"
   },
   {
    "duration": 149,
    "start_time": "2023-01-28T12:39:21.272Z"
   },
   {
    "duration": 167,
    "start_time": "2023-01-28T12:39:21.422Z"
   },
   {
    "duration": 9,
    "start_time": "2023-01-28T12:39:21.591Z"
   },
   {
    "duration": 16,
    "start_time": "2023-01-28T12:39:21.601Z"
   },
   {
    "duration": 4,
    "start_time": "2023-01-28T12:39:21.619Z"
   },
   {
    "duration": 6,
    "start_time": "2023-01-28T12:39:21.625Z"
   },
   {
    "duration": 7,
    "start_time": "2023-01-28T12:39:21.632Z"
   },
   {
    "duration": 26,
    "start_time": "2023-01-28T12:39:21.642Z"
   },
   {
    "duration": 70217,
    "start_time": "2023-01-28T12:39:21.670Z"
   },
   {
    "duration": 19,
    "start_time": "2023-01-28T12:40:31.889Z"
   },
   {
    "duration": 153,
    "start_time": "2023-01-28T12:40:31.969Z"
   },
   {
    "duration": 0,
    "start_time": "2023-01-28T12:40:32.124Z"
   },
   {
    "duration": 0,
    "start_time": "2023-01-28T12:40:32.125Z"
   },
   {
    "duration": 0,
    "start_time": "2023-01-28T12:40:32.127Z"
   },
   {
    "duration": 0,
    "start_time": "2023-01-28T12:40:32.128Z"
   },
   {
    "duration": 0,
    "start_time": "2023-01-28T12:40:32.129Z"
   },
   {
    "duration": 0,
    "start_time": "2023-01-28T12:40:32.131Z"
   },
   {
    "duration": 0,
    "start_time": "2023-01-28T12:40:32.133Z"
   },
   {
    "duration": 0,
    "start_time": "2023-01-28T12:40:32.135Z"
   },
   {
    "duration": 0,
    "start_time": "2023-01-28T12:40:32.137Z"
   },
   {
    "duration": 0,
    "start_time": "2023-01-28T12:40:32.138Z"
   },
   {
    "duration": 0,
    "start_time": "2023-01-28T12:40:32.168Z"
   },
   {
    "duration": 42,
    "start_time": "2023-01-28T12:40:45.445Z"
   },
   {
    "duration": 6,
    "start_time": "2023-01-28T12:41:22.901Z"
   },
   {
    "duration": 73234,
    "start_time": "2023-01-28T12:41:26.041Z"
   },
   {
    "duration": 13,
    "start_time": "2023-01-28T12:42:39.277Z"
   },
   {
    "duration": 28,
    "start_time": "2023-01-28T12:42:39.292Z"
   },
   {
    "duration": 9,
    "start_time": "2023-01-28T12:43:21.827Z"
   },
   {
    "duration": 31,
    "start_time": "2023-01-28T12:43:24.176Z"
   },
   {
    "duration": 25,
    "start_time": "2023-01-28T12:43:45.719Z"
   },
   {
    "duration": 252,
    "start_time": "2023-01-28T12:43:57.035Z"
   },
   {
    "duration": 200,
    "start_time": "2023-01-28T12:44:25.517Z"
   },
   {
    "duration": 194,
    "start_time": "2023-01-28T12:44:35.170Z"
   },
   {
    "duration": 209,
    "start_time": "2023-01-28T12:44:44.205Z"
   },
   {
    "duration": 5,
    "start_time": "2023-01-28T12:45:45.088Z"
   },
   {
    "duration": 57,
    "start_time": "2023-01-28T12:45:45.095Z"
   },
   {
    "duration": 40,
    "start_time": "2023-01-28T12:45:45.154Z"
   },
   {
    "duration": 6,
    "start_time": "2023-01-28T12:45:45.198Z"
   },
   {
    "duration": 19,
    "start_time": "2023-01-28T12:45:45.207Z"
   },
   {
    "duration": 19,
    "start_time": "2023-01-28T12:45:45.229Z"
   },
   {
    "duration": 15,
    "start_time": "2023-01-28T12:45:45.250Z"
   },
   {
    "duration": 20,
    "start_time": "2023-01-28T12:45:45.267Z"
   },
   {
    "duration": 369,
    "start_time": "2023-01-28T12:45:45.289Z"
   },
   {
    "duration": 417,
    "start_time": "2023-01-28T12:45:45.667Z"
   },
   {
    "duration": 300,
    "start_time": "2023-01-28T12:45:46.085Z"
   },
   {
    "duration": 315,
    "start_time": "2023-01-28T12:45:46.387Z"
   },
   {
    "duration": 4,
    "start_time": "2023-01-28T12:45:46.704Z"
   },
   {
    "duration": 6,
    "start_time": "2023-01-28T12:45:46.712Z"
   },
   {
    "duration": 366,
    "start_time": "2023-01-28T12:45:46.719Z"
   },
   {
    "duration": 5,
    "start_time": "2023-01-28T12:45:47.087Z"
   },
   {
    "duration": 6,
    "start_time": "2023-01-28T12:45:47.094Z"
   },
   {
    "duration": 8,
    "start_time": "2023-01-28T12:45:47.102Z"
   },
   {
    "duration": 179,
    "start_time": "2023-01-28T12:45:47.112Z"
   },
   {
    "duration": 5,
    "start_time": "2023-01-28T12:45:47.293Z"
   },
   {
    "duration": 144,
    "start_time": "2023-01-28T12:45:47.299Z"
   },
   {
    "duration": 257,
    "start_time": "2023-01-28T12:45:47.444Z"
   },
   {
    "duration": 5,
    "start_time": "2023-01-28T12:45:47.702Z"
   },
   {
    "duration": 18,
    "start_time": "2023-01-28T12:45:47.709Z"
   },
   {
    "duration": 3,
    "start_time": "2023-01-28T12:45:47.729Z"
   },
   {
    "duration": 7,
    "start_time": "2023-01-28T12:45:47.733Z"
   },
   {
    "duration": 9,
    "start_time": "2023-01-28T12:45:47.742Z"
   },
   {
    "duration": 7,
    "start_time": "2023-01-28T12:45:47.767Z"
   },
   {
    "duration": 77930,
    "start_time": "2023-01-28T12:45:47.776Z"
   },
   {
    "duration": 278,
    "start_time": "2023-01-28T12:47:05.708Z"
   },
   {
    "duration": 67710,
    "start_time": "2023-01-28T12:51:28.091Z"
   },
   {
    "duration": 296,
    "start_time": "2023-01-28T12:52:35.804Z"
   },
   {
    "duration": 64953,
    "start_time": "2023-01-28T12:53:12.320Z"
   },
   {
    "duration": 220,
    "start_time": "2023-01-28T12:54:17.276Z"
   },
   {
    "duration": 68212,
    "start_time": "2023-01-28T12:54:37.775Z"
   },
   {
    "duration": 267,
    "start_time": "2023-01-28T12:55:45.990Z"
   },
   {
    "duration": 69189,
    "start_time": "2023-01-28T12:56:14.700Z"
   },
   {
    "duration": 282,
    "start_time": "2023-01-28T12:57:23.892Z"
   },
   {
    "duration": 5,
    "start_time": "2023-01-28T12:59:31.022Z"
   },
   {
    "duration": 80,
    "start_time": "2023-01-28T12:59:35.885Z"
   },
   {
    "duration": 13,
    "start_time": "2023-01-28T12:59:51.045Z"
   },
   {
    "duration": 17,
    "start_time": "2023-01-28T13:00:51.355Z"
   },
   {
    "duration": 68554,
    "start_time": "2023-01-28T13:01:36.833Z"
   },
   {
    "duration": 257,
    "start_time": "2023-01-28T13:02:45.390Z"
   },
   {
    "duration": 4,
    "start_time": "2023-01-28T13:03:02.784Z"
   },
   {
    "duration": 112,
    "start_time": "2023-01-28T13:03:07.199Z"
   },
   {
    "duration": 19,
    "start_time": "2023-01-28T13:03:36.862Z"
   },
   {
    "duration": 3,
    "start_time": "2023-01-28T13:03:48.162Z"
   },
   {
    "duration": 188032,
    "start_time": "2023-01-28T13:03:49.656Z"
   },
   {
    "duration": 55989,
    "start_time": "2023-01-28T13:06:57.690Z"
   },
   {
    "duration": 256,
    "start_time": "2023-01-28T13:07:53.681Z"
   },
   {
    "duration": 84,
    "start_time": "2023-01-28T13:42:19.598Z"
   },
   {
    "duration": 6,
    "start_time": "2023-01-28T13:42:25.113Z"
   },
   {
    "duration": 13,
    "start_time": "2023-01-28T13:44:00.781Z"
   },
   {
    "duration": 16,
    "start_time": "2023-01-28T13:44:13.285Z"
   },
   {
    "duration": 4,
    "start_time": "2023-01-28T13:44:19.728Z"
   },
   {
    "duration": 13,
    "start_time": "2023-01-28T13:44:20.292Z"
   },
   {
    "duration": 5,
    "start_time": "2023-01-28T13:44:24.096Z"
   },
   {
    "duration": 3,
    "start_time": "2023-01-28T13:44:25.395Z"
   },
   {
    "duration": 142704,
    "start_time": "2023-01-28T13:44:25.697Z"
   },
   {
    "duration": 0,
    "start_time": "2023-01-28T13:46:48.403Z"
   },
   {
    "duration": 1928,
    "start_time": "2023-01-28T13:46:52.337Z"
   },
   {
    "duration": 139,
    "start_time": "2023-01-28T13:46:54.267Z"
   },
   {
    "duration": 20,
    "start_time": "2023-01-28T13:46:54.408Z"
   },
   {
    "duration": 3,
    "start_time": "2023-01-28T13:46:54.429Z"
   },
   {
    "duration": 11,
    "start_time": "2023-01-28T13:46:54.433Z"
   },
   {
    "duration": 6,
    "start_time": "2023-01-28T13:46:54.446Z"
   },
   {
    "duration": 3,
    "start_time": "2023-01-28T13:46:54.479Z"
   },
   {
    "duration": 16,
    "start_time": "2023-01-28T13:46:54.484Z"
   },
   {
    "duration": 361,
    "start_time": "2023-01-28T13:46:54.501Z"
   },
   {
    "duration": 393,
    "start_time": "2023-01-28T13:46:54.864Z"
   },
   {
    "duration": 352,
    "start_time": "2023-01-28T13:46:55.275Z"
   },
   {
    "duration": 341,
    "start_time": "2023-01-28T13:46:55.628Z"
   },
   {
    "duration": 9,
    "start_time": "2023-01-28T13:46:55.971Z"
   },
   {
    "duration": 24,
    "start_time": "2023-01-28T13:46:55.984Z"
   },
   {
    "duration": 422,
    "start_time": "2023-01-28T13:46:56.010Z"
   },
   {
    "duration": 4,
    "start_time": "2023-01-28T13:46:56.434Z"
   },
   {
    "duration": 11,
    "start_time": "2023-01-28T13:46:56.440Z"
   },
   {
    "duration": 18,
    "start_time": "2023-01-28T13:46:56.453Z"
   },
   {
    "duration": 222,
    "start_time": "2023-01-28T13:46:56.472Z"
   },
   {
    "duration": 6,
    "start_time": "2023-01-28T13:46:56.696Z"
   },
   {
    "duration": 174,
    "start_time": "2023-01-28T13:46:56.704Z"
   },
   {
    "duration": 146,
    "start_time": "2023-01-28T13:46:56.883Z"
   },
   {
    "duration": 7,
    "start_time": "2023-01-28T13:46:57.031Z"
   },
   {
    "duration": 16,
    "start_time": "2023-01-28T13:46:57.039Z"
   },
   {
    "duration": 14,
    "start_time": "2023-01-28T13:46:57.057Z"
   },
   {
    "duration": 23,
    "start_time": "2023-01-28T13:46:57.075Z"
   },
   {
    "duration": 7,
    "start_time": "2023-01-28T13:46:57.100Z"
   },
   {
    "duration": 8,
    "start_time": "2023-01-28T13:46:57.108Z"
   },
   {
    "duration": 98671,
    "start_time": "2023-01-28T13:46:57.118Z"
   },
   {
    "duration": 270,
    "start_time": "2023-01-28T13:48:35.792Z"
   },
   {
    "duration": 13,
    "start_time": "2023-01-28T13:48:36.068Z"
   },
   {
    "duration": 379,
    "start_time": "2023-01-28T13:48:36.083Z"
   },
   {
    "duration": 15,
    "start_time": "2023-01-28T13:48:36.463Z"
   },
   {
    "duration": 15,
    "start_time": "2023-01-28T13:48:36.494Z"
   },
   {
    "duration": 11,
    "start_time": "2023-01-28T13:48:36.511Z"
   },
   {
    "duration": 7,
    "start_time": "2023-01-28T13:48:36.524Z"
   },
   {
    "duration": 6,
    "start_time": "2023-01-28T13:57:57.998Z"
   },
   {
    "duration": 0,
    "start_time": "2023-01-28T13:57:58.128Z"
   },
   {
    "duration": 0,
    "start_time": "2023-01-28T13:57:58.130Z"
   },
   {
    "duration": 0,
    "start_time": "2023-01-28T13:57:58.132Z"
   },
   {
    "duration": 0,
    "start_time": "2023-01-28T13:57:58.133Z"
   },
   {
    "duration": 0,
    "start_time": "2023-01-28T13:57:58.135Z"
   },
   {
    "duration": 0,
    "start_time": "2023-01-28T13:57:58.136Z"
   },
   {
    "duration": 0,
    "start_time": "2023-01-28T13:57:58.137Z"
   },
   {
    "duration": 0,
    "start_time": "2023-01-28T13:57:58.139Z"
   },
   {
    "duration": 0,
    "start_time": "2023-01-28T13:57:58.141Z"
   },
   {
    "duration": 0,
    "start_time": "2023-01-28T13:57:58.142Z"
   },
   {
    "duration": 0,
    "start_time": "2023-01-28T13:57:58.144Z"
   },
   {
    "duration": 0,
    "start_time": "2023-01-28T13:57:58.145Z"
   },
   {
    "duration": 0,
    "start_time": "2023-01-28T13:57:58.147Z"
   },
   {
    "duration": 0,
    "start_time": "2023-01-28T13:57:58.148Z"
   },
   {
    "duration": 0,
    "start_time": "2023-01-28T13:57:58.150Z"
   },
   {
    "duration": 0,
    "start_time": "2023-01-28T13:57:58.151Z"
   },
   {
    "duration": 0,
    "start_time": "2023-01-28T13:57:58.152Z"
   },
   {
    "duration": 0,
    "start_time": "2023-01-28T13:57:58.153Z"
   },
   {
    "duration": 0,
    "start_time": "2023-01-28T13:57:58.154Z"
   },
   {
    "duration": 0,
    "start_time": "2023-01-28T13:57:58.155Z"
   },
   {
    "duration": 0,
    "start_time": "2023-01-28T13:57:58.157Z"
   },
   {
    "duration": 0,
    "start_time": "2023-01-28T13:57:58.158Z"
   },
   {
    "duration": 0,
    "start_time": "2023-01-28T13:57:58.159Z"
   },
   {
    "duration": 0,
    "start_time": "2023-01-28T13:57:58.159Z"
   },
   {
    "duration": 0,
    "start_time": "2023-01-28T13:57:58.160Z"
   },
   {
    "duration": 0,
    "start_time": "2023-01-28T13:57:58.161Z"
   },
   {
    "duration": 0,
    "start_time": "2023-01-28T13:57:58.162Z"
   },
   {
    "duration": 0,
    "start_time": "2023-01-28T13:57:58.163Z"
   },
   {
    "duration": 0,
    "start_time": "2023-01-28T13:57:58.164Z"
   },
   {
    "duration": 0,
    "start_time": "2023-01-28T13:57:58.178Z"
   },
   {
    "duration": 0,
    "start_time": "2023-01-28T13:57:58.180Z"
   },
   {
    "duration": 0,
    "start_time": "2023-01-28T13:57:58.182Z"
   },
   {
    "duration": 0,
    "start_time": "2023-01-28T13:57:58.188Z"
   },
   {
    "duration": 0,
    "start_time": "2023-01-28T13:57:58.190Z"
   },
   {
    "duration": 0,
    "start_time": "2023-01-28T13:57:58.191Z"
   },
   {
    "duration": 0,
    "start_time": "2023-01-28T13:57:58.192Z"
   },
   {
    "duration": 0,
    "start_time": "2023-01-28T13:57:58.194Z"
   },
   {
    "duration": 7,
    "start_time": "2023-01-28T13:59:07.991Z"
   },
   {
    "duration": 39,
    "start_time": "2023-01-28T13:59:08.001Z"
   },
   {
    "duration": 22,
    "start_time": "2023-01-28T13:59:08.042Z"
   },
   {
    "duration": 38,
    "start_time": "2023-01-28T13:59:08.066Z"
   },
   {
    "duration": 14,
    "start_time": "2023-01-28T13:59:08.107Z"
   },
   {
    "duration": 7,
    "start_time": "2023-01-28T13:59:08.122Z"
   },
   {
    "duration": 5,
    "start_time": "2023-01-28T13:59:08.130Z"
   },
   {
    "duration": 8,
    "start_time": "2023-01-28T13:59:08.136Z"
   },
   {
    "duration": 324,
    "start_time": "2023-01-28T13:59:08.146Z"
   },
   {
    "duration": 458,
    "start_time": "2023-01-28T13:59:08.472Z"
   },
   {
    "duration": 349,
    "start_time": "2023-01-28T13:59:08.932Z"
   },
   {
    "duration": 338,
    "start_time": "2023-01-28T13:59:09.292Z"
   },
   {
    "duration": 4,
    "start_time": "2023-01-28T13:59:09.631Z"
   },
   {
    "duration": 6,
    "start_time": "2023-01-28T13:59:09.638Z"
   },
   {
    "duration": 339,
    "start_time": "2023-01-28T13:59:09.646Z"
   },
   {
    "duration": 12,
    "start_time": "2023-01-28T13:59:09.988Z"
   },
   {
    "duration": 6,
    "start_time": "2023-01-28T13:59:10.001Z"
   },
   {
    "duration": 13,
    "start_time": "2023-01-28T13:59:10.008Z"
   },
   {
    "duration": 208,
    "start_time": "2023-01-28T13:59:10.022Z"
   },
   {
    "duration": 6,
    "start_time": "2023-01-28T13:59:10.231Z"
   },
   {
    "duration": 171,
    "start_time": "2023-01-28T13:59:10.239Z"
   },
   {
    "duration": 154,
    "start_time": "2023-01-28T13:59:10.412Z"
   },
   {
    "duration": 10,
    "start_time": "2023-01-28T13:59:10.587Z"
   },
   {
    "duration": 34,
    "start_time": "2023-01-28T13:59:10.599Z"
   },
   {
    "duration": 7,
    "start_time": "2023-01-28T13:59:10.635Z"
   },
   {
    "duration": 7,
    "start_time": "2023-01-28T13:59:10.644Z"
   },
   {
    "duration": 12,
    "start_time": "2023-01-28T13:59:10.652Z"
   },
   {
    "duration": 49,
    "start_time": "2023-01-28T13:59:10.666Z"
   },
   {
    "duration": 112486,
    "start_time": "2023-01-28T13:59:10.717Z"
   },
   {
    "duration": 330,
    "start_time": "2023-01-28T14:01:03.206Z"
   },
   {
    "duration": 8,
    "start_time": "2023-01-28T14:01:03.538Z"
   },
   {
    "duration": 540,
    "start_time": "2023-01-28T14:01:03.548Z"
   },
   {
    "duration": 7,
    "start_time": "2023-01-28T14:01:04.091Z"
   },
   {
    "duration": 106,
    "start_time": "2023-01-28T14:01:04.101Z"
   },
   {
    "duration": 0,
    "start_time": "2023-01-28T14:01:04.209Z"
   },
   {
    "duration": 0,
    "start_time": "2023-01-28T14:01:04.211Z"
   },
   {
    "duration": 0,
    "start_time": "2023-01-28T14:01:04.212Z"
   },
   {
    "duration": 6,
    "start_time": "2023-01-28T14:01:27.345Z"
   },
   {
    "duration": 5,
    "start_time": "2023-01-28T14:01:29.193Z"
   },
   {
    "duration": 3,
    "start_time": "2023-01-28T14:01:30.704Z"
   },
   {
    "duration": 280,
    "start_time": "2023-01-28T14:01:31.338Z"
   },
   {
    "duration": 8,
    "start_time": "2023-01-28T14:02:01.645Z"
   },
   {
    "duration": 8,
    "start_time": "2023-01-28T14:02:02.094Z"
   },
   {
    "duration": 4,
    "start_time": "2023-01-28T14:02:02.913Z"
   },
   {
    "duration": 113864,
    "start_time": "2023-01-28T14:02:03.733Z"
   },
   {
    "duration": 5,
    "start_time": "2023-01-28T14:04:46.522Z"
   },
   {
    "duration": 6,
    "start_time": "2023-01-28T14:04:50.949Z"
   },
   {
    "duration": 5,
    "start_time": "2023-01-28T14:04:52.153Z"
   },
   {
    "duration": 3,
    "start_time": "2023-01-28T14:04:53.355Z"
   },
   {
    "duration": 129411,
    "start_time": "2023-01-28T14:04:53.713Z"
   },
   {
    "duration": 4,
    "start_time": "2023-01-28T14:07:04.404Z"
   },
   {
    "duration": 5,
    "start_time": "2023-01-28T14:07:13.441Z"
   },
   {
    "duration": 5,
    "start_time": "2023-01-28T14:07:15.662Z"
   },
   {
    "duration": 5,
    "start_time": "2023-01-28T14:07:17.015Z"
   },
   {
    "duration": 3,
    "start_time": "2023-01-28T14:07:17.602Z"
   },
   {
    "duration": 154624,
    "start_time": "2023-01-28T14:07:18.197Z"
   },
   {
    "duration": 260,
    "start_time": "2023-01-28T14:11:04.571Z"
   },
   {
    "duration": 408,
    "start_time": "2023-01-28T14:11:33.220Z"
   },
   {
    "duration": 5,
    "start_time": "2023-01-28T14:13:02.658Z"
   },
   {
    "duration": 3,
    "start_time": "2023-01-28T14:13:06.235Z"
   },
   {
    "duration": 86570,
    "start_time": "2023-01-28T14:13:06.705Z"
   },
   {
    "duration": 4,
    "start_time": "2023-01-28T14:16:19.940Z"
   },
   {
    "duration": 3,
    "start_time": "2023-01-28T14:16:21.243Z"
   },
   {
    "duration": 87,
    "start_time": "2023-01-28T14:16:21.622Z"
   },
   {
    "duration": 5,
    "start_time": "2023-01-28T14:16:29.893Z"
   },
   {
    "duration": 5,
    "start_time": "2023-01-28T14:16:30.345Z"
   },
   {
    "duration": 4,
    "start_time": "2023-01-28T14:16:33.232Z"
   },
   {
    "duration": 41,
    "start_time": "2023-01-28T14:16:33.547Z"
   },
   {
    "duration": 4,
    "start_time": "2023-01-28T14:16:46.741Z"
   },
   {
    "duration": 4,
    "start_time": "2023-01-28T14:16:47.193Z"
   },
   {
    "duration": 5,
    "start_time": "2023-01-28T14:17:56.090Z"
   },
   {
    "duration": 73,
    "start_time": "2023-01-28T14:17:56.096Z"
   },
   {
    "duration": 108512,
    "start_time": "2023-01-28T14:17:56.171Z"
   },
   {
    "duration": 5,
    "start_time": "2023-01-28T15:02:41.536Z"
   },
   {
    "duration": 5,
    "start_time": "2023-01-28T15:02:42.987Z"
   },
   {
    "duration": 3,
    "start_time": "2023-01-28T15:02:44.426Z"
   },
   {
    "duration": 38643,
    "start_time": "2023-01-28T15:02:44.843Z"
   },
   {
    "duration": 91,
    "start_time": "2023-01-28T15:03:27.951Z"
   },
   {
    "duration": 81,
    "start_time": "2023-01-28T15:03:39.512Z"
   },
   {
    "duration": 76,
    "start_time": "2023-01-28T15:03:50.388Z"
   },
   {
    "duration": 71,
    "start_time": "2023-01-28T15:03:59.477Z"
   },
   {
    "duration": 7,
    "start_time": "2023-01-28T15:04:13.384Z"
   },
   {
    "duration": 8,
    "start_time": "2023-01-28T15:04:20.346Z"
   },
   {
    "duration": 3,
    "start_time": "2023-01-28T15:04:29.183Z"
   },
   {
    "duration": 40233,
    "start_time": "2023-01-28T15:04:29.742Z"
   },
   {
    "duration": 4,
    "start_time": "2023-01-28T15:05:16.254Z"
   },
   {
    "duration": 5,
    "start_time": "2023-01-28T15:05:22.831Z"
   },
   {
    "duration": 5,
    "start_time": "2023-01-28T15:05:29.659Z"
   },
   {
    "duration": 3,
    "start_time": "2023-01-28T15:05:30.551Z"
   },
   {
    "duration": 6,
    "start_time": "2023-01-28T15:05:30.963Z"
   },
   {
    "duration": 5,
    "start_time": "2023-01-28T15:05:33.146Z"
   },
   {
    "duration": 4,
    "start_time": "2023-01-28T15:05:34.982Z"
   },
   {
    "duration": 25010,
    "start_time": "2023-01-28T15:05:35.472Z"
   },
   {
    "duration": 4,
    "start_time": "2023-01-28T15:06:07.228Z"
   },
   {
    "duration": 4,
    "start_time": "2023-01-28T15:06:10.772Z"
   },
   {
    "duration": 5,
    "start_time": "2023-01-28T15:06:11.049Z"
   },
   {
    "duration": 5,
    "start_time": "2023-01-28T15:06:11.385Z"
   },
   {
    "duration": 4,
    "start_time": "2023-01-28T15:06:11.725Z"
   },
   {
    "duration": 81746,
    "start_time": "2023-01-28T15:06:12.639Z"
   },
   {
    "duration": 5,
    "start_time": "2023-01-28T15:08:04.035Z"
   },
   {
    "duration": 6,
    "start_time": "2023-01-28T15:08:04.828Z"
   },
   {
    "duration": 6,
    "start_time": "2023-01-28T15:08:05.249Z"
   },
   {
    "duration": 6,
    "start_time": "2023-01-28T15:08:05.733Z"
   },
   {
    "duration": 3,
    "start_time": "2023-01-28T15:08:06.657Z"
   },
   {
    "duration": 69800,
    "start_time": "2023-01-28T15:08:07.086Z"
   },
   {
    "duration": 6,
    "start_time": "2023-01-28T15:09:24.969Z"
   },
   {
    "duration": 4,
    "start_time": "2023-01-28T15:09:25.789Z"
   },
   {
    "duration": 6,
    "start_time": "2023-01-28T15:09:26.232Z"
   },
   {
    "duration": 4,
    "start_time": "2023-01-28T15:09:26.621Z"
   },
   {
    "duration": 3,
    "start_time": "2023-01-28T15:09:27.138Z"
   },
   {
    "duration": 117763,
    "start_time": "2023-01-28T15:09:27.619Z"
   },
   {
    "duration": 186547,
    "start_time": "2023-01-28T15:33:37.555Z"
   },
   {
    "duration": 3,
    "start_time": "2023-01-28T15:38:37.341Z"
   },
   {
    "duration": 171976,
    "start_time": "2023-01-28T15:38:39.009Z"
   },
   {
    "duration": 5,
    "start_time": "2023-01-28T15:42:04.950Z"
   },
   {
    "duration": 156866,
    "start_time": "2023-01-28T15:42:05.320Z"
   },
   {
    "duration": 4,
    "start_time": "2023-01-28T15:45:50.550Z"
   },
   {
    "duration": 146945,
    "start_time": "2023-01-28T15:45:50.848Z"
   },
   {
    "duration": 1820,
    "start_time": "2023-01-28T15:50:02.728Z"
   },
   {
    "duration": 130,
    "start_time": "2023-01-28T15:50:04.549Z"
   },
   {
    "duration": 25,
    "start_time": "2023-01-28T15:50:04.681Z"
   },
   {
    "duration": 3,
    "start_time": "2023-01-28T15:50:04.709Z"
   },
   {
    "duration": 10,
    "start_time": "2023-01-28T15:50:04.714Z"
   },
   {
    "duration": 7,
    "start_time": "2023-01-28T15:50:04.725Z"
   },
   {
    "duration": 3,
    "start_time": "2023-01-28T15:50:04.733Z"
   },
   {
    "duration": 45,
    "start_time": "2023-01-28T15:50:04.737Z"
   },
   {
    "duration": 385,
    "start_time": "2023-01-28T15:50:04.784Z"
   },
   {
    "duration": 319,
    "start_time": "2023-01-28T15:50:05.173Z"
   },
   {
    "duration": 320,
    "start_time": "2023-01-28T15:50:05.494Z"
   },
   {
    "duration": 291,
    "start_time": "2023-01-28T15:50:05.816Z"
   },
   {
    "duration": 4,
    "start_time": "2023-01-28T15:50:06.108Z"
   },
   {
    "duration": 11,
    "start_time": "2023-01-28T15:50:06.114Z"
   },
   {
    "duration": 372,
    "start_time": "2023-01-28T15:50:06.127Z"
   },
   {
    "duration": 5,
    "start_time": "2023-01-28T15:50:06.500Z"
   },
   {
    "duration": 13,
    "start_time": "2023-01-28T15:50:06.506Z"
   },
   {
    "duration": 13,
    "start_time": "2023-01-28T15:50:06.520Z"
   },
   {
    "duration": 182,
    "start_time": "2023-01-28T15:50:06.535Z"
   },
   {
    "duration": 7,
    "start_time": "2023-01-28T15:50:06.718Z"
   },
   {
    "duration": 168,
    "start_time": "2023-01-28T15:50:06.726Z"
   },
   {
    "duration": 167,
    "start_time": "2023-01-28T15:50:06.895Z"
   },
   {
    "duration": 11,
    "start_time": "2023-01-28T15:50:07.066Z"
   },
   {
    "duration": 29,
    "start_time": "2023-01-28T15:50:07.079Z"
   },
   {
    "duration": 4,
    "start_time": "2023-01-28T15:50:07.109Z"
   },
   {
    "duration": 5,
    "start_time": "2023-01-28T15:50:07.114Z"
   },
   {
    "duration": 8,
    "start_time": "2023-01-28T15:50:07.120Z"
   },
   {
    "duration": 3,
    "start_time": "2023-01-28T15:50:07.131Z"
   },
   {
    "duration": 61861,
    "start_time": "2023-01-28T15:50:07.136Z"
   },
   {
    "duration": 238,
    "start_time": "2023-01-28T15:51:09.068Z"
   },
   {
    "duration": 6,
    "start_time": "2023-01-28T15:51:09.308Z"
   },
   {
    "duration": 339,
    "start_time": "2023-01-28T15:51:09.315Z"
   },
   {
    "duration": 14,
    "start_time": "2023-01-28T15:51:09.655Z"
   },
   {
    "duration": 20,
    "start_time": "2023-01-28T15:51:09.671Z"
   },
   {
    "duration": 9,
    "start_time": "2023-01-28T15:51:09.692Z"
   },
   {
    "duration": 13,
    "start_time": "2023-01-28T15:51:09.702Z"
   },
   {
    "duration": 93069,
    "start_time": "2023-01-28T15:51:09.716Z"
   },
   {
    "duration": 3,
    "start_time": "2023-01-28T15:52:42.787Z"
   },
   {
    "duration": 367796,
    "start_time": "2023-01-28T15:52:42.792Z"
   },
   {
    "duration": 208,
    "start_time": "2023-01-28T15:58:50.589Z"
   },
   {
    "duration": 0,
    "start_time": "2023-01-28T15:58:50.799Z"
   },
   {
    "duration": 215,
    "start_time": "2023-01-28T16:00:54.488Z"
   },
   {
    "duration": 4,
    "start_time": "2023-01-28T16:01:23.782Z"
   },
   {
    "duration": 470,
    "start_time": "2023-01-28T16:01:27.026Z"
   },
   {
    "duration": 2,
    "start_time": "2023-01-28T16:02:17.509Z"
   },
   {
    "duration": 558794,
    "start_time": "2023-01-28T16:02:19.203Z"
   },
   {
    "duration": 31,
    "start_time": "2023-01-28T16:11:38.070Z"
   },
   {
    "duration": 0,
    "start_time": "2023-01-28T16:11:38.102Z"
   },
   {
    "duration": 1725,
    "start_time": "2023-01-28T16:19:16.420Z"
   },
   {
    "duration": 119,
    "start_time": "2023-01-28T16:19:18.147Z"
   },
   {
    "duration": 26,
    "start_time": "2023-01-28T16:19:18.274Z"
   },
   {
    "duration": 3,
    "start_time": "2023-01-28T16:19:18.302Z"
   },
   {
    "duration": 7,
    "start_time": "2023-01-28T16:19:18.307Z"
   },
   {
    "duration": 9,
    "start_time": "2023-01-28T16:19:18.317Z"
   },
   {
    "duration": 9,
    "start_time": "2023-01-28T16:19:18.327Z"
   },
   {
    "duration": 7,
    "start_time": "2023-01-28T16:19:18.337Z"
   },
   {
    "duration": 300,
    "start_time": "2023-01-28T16:19:18.345Z"
   },
   {
    "duration": 278,
    "start_time": "2023-01-28T16:19:18.646Z"
   },
   {
    "duration": 325,
    "start_time": "2023-01-28T16:19:18.926Z"
   },
   {
    "duration": 287,
    "start_time": "2023-01-28T16:19:19.253Z"
   },
   {
    "duration": 5,
    "start_time": "2023-01-28T16:19:19.542Z"
   },
   {
    "duration": 25,
    "start_time": "2023-01-28T16:19:19.549Z"
   },
   {
    "duration": 378,
    "start_time": "2023-01-28T16:19:19.577Z"
   },
   {
    "duration": 25,
    "start_time": "2023-01-28T16:19:19.956Z"
   },
   {
    "duration": 9,
    "start_time": "2023-01-28T16:19:19.983Z"
   },
   {
    "duration": 6,
    "start_time": "2023-01-28T16:19:19.994Z"
   },
   {
    "duration": 178,
    "start_time": "2023-01-28T16:19:20.002Z"
   },
   {
    "duration": 175,
    "start_time": "2023-01-28T16:19:20.181Z"
   },
   {
    "duration": 140,
    "start_time": "2023-01-28T16:19:20.357Z"
   },
   {
    "duration": 5,
    "start_time": "2023-01-28T16:19:20.499Z"
   },
   {
    "duration": 182,
    "start_time": "2023-01-28T16:19:20.506Z"
   },
   {
    "duration": 0,
    "start_time": "2023-01-28T16:19:20.690Z"
   },
   {
    "duration": 0,
    "start_time": "2023-01-28T16:19:20.691Z"
   },
   {
    "duration": 0,
    "start_time": "2023-01-28T16:19:20.693Z"
   },
   {
    "duration": 0,
    "start_time": "2023-01-28T16:19:20.694Z"
   },
   {
    "duration": 0,
    "start_time": "2023-01-28T16:19:20.696Z"
   },
   {
    "duration": 0,
    "start_time": "2023-01-28T16:19:20.698Z"
   },
   {
    "duration": 0,
    "start_time": "2023-01-28T16:19:20.699Z"
   },
   {
    "duration": 0,
    "start_time": "2023-01-28T16:19:20.700Z"
   },
   {
    "duration": 0,
    "start_time": "2023-01-28T16:19:20.701Z"
   },
   {
    "duration": 0,
    "start_time": "2023-01-28T16:19:20.702Z"
   },
   {
    "duration": 0,
    "start_time": "2023-01-28T16:19:20.704Z"
   },
   {
    "duration": 0,
    "start_time": "2023-01-28T16:19:20.705Z"
   },
   {
    "duration": 0,
    "start_time": "2023-01-28T16:19:20.706Z"
   },
   {
    "duration": 0,
    "start_time": "2023-01-28T16:19:20.708Z"
   },
   {
    "duration": 0,
    "start_time": "2023-01-28T16:19:20.709Z"
   },
   {
    "duration": 0,
    "start_time": "2023-01-28T16:19:20.711Z"
   },
   {
    "duration": 0,
    "start_time": "2023-01-28T16:19:20.712Z"
   },
   {
    "duration": 0,
    "start_time": "2023-01-28T16:19:20.714Z"
   },
   {
    "duration": 15,
    "start_time": "2023-01-28T16:21:29.767Z"
   },
   {
    "duration": 13,
    "start_time": "2023-01-28T16:21:35.616Z"
   },
   {
    "duration": 1784,
    "start_time": "2023-01-28T16:21:45.180Z"
   },
   {
    "duration": 132,
    "start_time": "2023-01-28T16:21:46.965Z"
   },
   {
    "duration": 22,
    "start_time": "2023-01-28T16:21:47.098Z"
   },
   {
    "duration": 3,
    "start_time": "2023-01-28T16:21:47.122Z"
   },
   {
    "duration": 7,
    "start_time": "2023-01-28T16:21:47.127Z"
   },
   {
    "duration": 8,
    "start_time": "2023-01-28T16:21:47.136Z"
   },
   {
    "duration": 2,
    "start_time": "2023-01-28T16:21:47.146Z"
   },
   {
    "duration": 28,
    "start_time": "2023-01-28T16:21:47.149Z"
   },
   {
    "duration": 306,
    "start_time": "2023-01-28T16:21:47.179Z"
   },
   {
    "duration": 263,
    "start_time": "2023-01-28T16:21:47.487Z"
   },
   {
    "duration": 302,
    "start_time": "2023-01-28T16:21:47.752Z"
   },
   {
    "duration": 305,
    "start_time": "2023-01-28T16:21:48.056Z"
   },
   {
    "duration": 8,
    "start_time": "2023-01-28T16:21:48.371Z"
   },
   {
    "duration": 9,
    "start_time": "2023-01-28T16:21:48.382Z"
   },
   {
    "duration": 404,
    "start_time": "2023-01-28T16:21:48.392Z"
   },
   {
    "duration": 3,
    "start_time": "2023-01-28T16:21:48.798Z"
   },
   {
    "duration": 6,
    "start_time": "2023-01-28T16:21:48.803Z"
   },
   {
    "duration": 6,
    "start_time": "2023-01-28T16:21:48.810Z"
   },
   {
    "duration": 191,
    "start_time": "2023-01-28T16:21:48.818Z"
   },
   {
    "duration": 185,
    "start_time": "2023-01-28T16:21:49.012Z"
   },
   {
    "duration": 153,
    "start_time": "2023-01-28T16:21:49.198Z"
   },
   {
    "duration": 6,
    "start_time": "2023-01-28T16:21:49.352Z"
   },
   {
    "duration": 24,
    "start_time": "2023-01-28T16:21:49.359Z"
   },
   {
    "duration": 22,
    "start_time": "2023-01-28T16:21:49.385Z"
   },
   {
    "duration": 139,
    "start_time": "2023-01-28T16:21:49.408Z"
   },
   {
    "duration": 0,
    "start_time": "2023-01-28T16:21:49.549Z"
   },
   {
    "duration": 0,
    "start_time": "2023-01-28T16:21:49.550Z"
   },
   {
    "duration": 0,
    "start_time": "2023-01-28T16:21:49.551Z"
   },
   {
    "duration": 0,
    "start_time": "2023-01-28T16:21:49.553Z"
   },
   {
    "duration": 0,
    "start_time": "2023-01-28T16:21:49.554Z"
   },
   {
    "duration": 0,
    "start_time": "2023-01-28T16:21:49.555Z"
   },
   {
    "duration": 0,
    "start_time": "2023-01-28T16:21:49.556Z"
   },
   {
    "duration": 0,
    "start_time": "2023-01-28T16:21:49.558Z"
   },
   {
    "duration": 0,
    "start_time": "2023-01-28T16:21:49.575Z"
   },
   {
    "duration": 0,
    "start_time": "2023-01-28T16:21:49.576Z"
   },
   {
    "duration": 0,
    "start_time": "2023-01-28T16:21:49.577Z"
   },
   {
    "duration": 0,
    "start_time": "2023-01-28T16:21:49.577Z"
   },
   {
    "duration": 0,
    "start_time": "2023-01-28T16:21:49.578Z"
   },
   {
    "duration": 0,
    "start_time": "2023-01-28T16:21:49.579Z"
   },
   {
    "duration": 0,
    "start_time": "2023-01-28T16:21:49.584Z"
   },
   {
    "duration": 0,
    "start_time": "2023-01-28T16:21:49.585Z"
   },
   {
    "duration": 0,
    "start_time": "2023-01-28T16:21:49.586Z"
   },
   {
    "duration": 6,
    "start_time": "2023-01-28T16:22:04.752Z"
   },
   {
    "duration": 5,
    "start_time": "2023-01-28T16:22:07.745Z"
   },
   {
    "duration": 4,
    "start_time": "2023-01-28T16:22:10.047Z"
   },
   {
    "duration": 4,
    "start_time": "2023-01-28T16:22:13.329Z"
   },
   {
    "duration": 489185,
    "start_time": "2023-01-28T16:22:15.295Z"
   },
   {
    "duration": 54385,
    "start_time": "2023-01-28T16:30:24.482Z"
   },
   {
    "duration": 219,
    "start_time": "2023-01-28T16:31:18.869Z"
   },
   {
    "duration": 7,
    "start_time": "2023-01-28T16:31:19.090Z"
   },
   {
    "duration": 329,
    "start_time": "2023-01-28T16:31:19.098Z"
   },
   {
    "duration": 6,
    "start_time": "2023-01-28T16:31:19.429Z"
   },
   {
    "duration": 12,
    "start_time": "2023-01-28T16:31:19.437Z"
   },
   {
    "duration": 22,
    "start_time": "2023-01-28T16:31:19.450Z"
   },
   {
    "duration": 16,
    "start_time": "2023-01-28T16:31:19.473Z"
   },
   {
    "duration": 56395,
    "start_time": "2023-01-28T16:31:19.491Z"
   },
   {
    "duration": 3,
    "start_time": "2023-01-28T16:32:15.888Z"
   },
   {
    "duration": 422194,
    "start_time": "2023-01-28T16:32:15.894Z"
   },
   {
    "duration": 88,
    "start_time": "2023-01-28T16:39:18.090Z"
   },
   {
    "duration": 0,
    "start_time": "2023-01-28T16:39:18.180Z"
   },
   {
    "duration": 0,
    "start_time": "2023-01-28T16:39:18.182Z"
   },
   {
    "duration": 11,
    "start_time": "2023-01-28T16:43:52.317Z"
   },
   {
    "duration": 200,
    "start_time": "2023-01-28T16:43:58.413Z"
   },
   {
    "duration": 30,
    "start_time": "2023-01-28T16:44:20.595Z"
   },
   {
    "duration": 9,
    "start_time": "2023-01-28T16:44:26.313Z"
   },
   {
    "duration": 27498,
    "start_time": "2023-01-28T16:45:16.694Z"
   },
   {
    "duration": 1726,
    "start_time": "2023-01-28T16:47:24.860Z"
   },
   {
    "duration": 112,
    "start_time": "2023-01-28T16:47:26.588Z"
   },
   {
    "duration": 20,
    "start_time": "2023-01-28T16:47:26.701Z"
   },
   {
    "duration": 4,
    "start_time": "2023-01-28T16:47:26.725Z"
   },
   {
    "duration": 13,
    "start_time": "2023-01-28T16:47:26.731Z"
   },
   {
    "duration": 22,
    "start_time": "2023-01-28T16:47:26.745Z"
   },
   {
    "duration": 7,
    "start_time": "2023-01-28T16:47:26.768Z"
   },
   {
    "duration": 30,
    "start_time": "2023-01-28T16:47:26.777Z"
   },
   {
    "duration": 265,
    "start_time": "2023-01-28T16:47:26.809Z"
   },
   {
    "duration": 0,
    "start_time": "2023-01-28T16:47:27.077Z"
   },
   {
    "duration": 0,
    "start_time": "2023-01-28T16:47:27.078Z"
   },
   {
    "duration": 0,
    "start_time": "2023-01-28T16:47:27.079Z"
   },
   {
    "duration": 0,
    "start_time": "2023-01-28T16:47:27.080Z"
   },
   {
    "duration": 0,
    "start_time": "2023-01-28T16:47:27.081Z"
   },
   {
    "duration": 0,
    "start_time": "2023-01-28T16:47:27.082Z"
   },
   {
    "duration": 0,
    "start_time": "2023-01-28T16:47:27.083Z"
   },
   {
    "duration": 0,
    "start_time": "2023-01-28T16:47:27.084Z"
   },
   {
    "duration": 0,
    "start_time": "2023-01-28T16:47:27.084Z"
   },
   {
    "duration": 0,
    "start_time": "2023-01-28T16:47:27.085Z"
   },
   {
    "duration": 0,
    "start_time": "2023-01-28T16:47:27.086Z"
   },
   {
    "duration": 0,
    "start_time": "2023-01-28T16:47:27.087Z"
   },
   {
    "duration": 0,
    "start_time": "2023-01-28T16:47:27.088Z"
   },
   {
    "duration": 0,
    "start_time": "2023-01-28T16:47:27.089Z"
   },
   {
    "duration": 0,
    "start_time": "2023-01-28T16:47:27.090Z"
   },
   {
    "duration": 0,
    "start_time": "2023-01-28T16:47:27.091Z"
   },
   {
    "duration": 0,
    "start_time": "2023-01-28T16:47:27.091Z"
   },
   {
    "duration": 0,
    "start_time": "2023-01-28T16:47:27.092Z"
   },
   {
    "duration": 0,
    "start_time": "2023-01-28T16:47:27.093Z"
   },
   {
    "duration": 0,
    "start_time": "2023-01-28T16:47:27.094Z"
   },
   {
    "duration": 0,
    "start_time": "2023-01-28T16:47:27.095Z"
   },
   {
    "duration": 0,
    "start_time": "2023-01-28T16:47:27.096Z"
   },
   {
    "duration": 0,
    "start_time": "2023-01-28T16:47:27.096Z"
   },
   {
    "duration": 0,
    "start_time": "2023-01-28T16:47:27.097Z"
   },
   {
    "duration": 0,
    "start_time": "2023-01-28T16:47:27.099Z"
   },
   {
    "duration": 0,
    "start_time": "2023-01-28T16:47:27.100Z"
   },
   {
    "duration": 0,
    "start_time": "2023-01-28T16:47:27.100Z"
   },
   {
    "duration": 0,
    "start_time": "2023-01-28T16:47:27.101Z"
   },
   {
    "duration": 0,
    "start_time": "2023-01-28T16:47:27.102Z"
   },
   {
    "duration": 0,
    "start_time": "2023-01-28T16:47:27.103Z"
   },
   {
    "duration": 0,
    "start_time": "2023-01-28T16:47:27.104Z"
   },
   {
    "duration": 0,
    "start_time": "2023-01-28T16:47:27.105Z"
   },
   {
    "duration": 0,
    "start_time": "2023-01-28T16:47:27.106Z"
   },
   {
    "duration": 1728,
    "start_time": "2023-01-28T16:47:54.840Z"
   },
   {
    "duration": 105,
    "start_time": "2023-01-28T16:47:56.570Z"
   },
   {
    "duration": 19,
    "start_time": "2023-01-28T16:47:56.677Z"
   },
   {
    "duration": 2,
    "start_time": "2023-01-28T16:47:56.698Z"
   },
   {
    "duration": 14,
    "start_time": "2023-01-28T16:47:56.703Z"
   },
   {
    "duration": 18,
    "start_time": "2023-01-28T16:47:56.718Z"
   },
   {
    "duration": 21,
    "start_time": "2023-01-28T16:47:56.738Z"
   },
   {
    "duration": 18,
    "start_time": "2023-01-28T16:47:56.760Z"
   },
   {
    "duration": 309,
    "start_time": "2023-01-28T16:47:56.780Z"
   },
   {
    "duration": 254,
    "start_time": "2023-01-28T16:47:57.091Z"
   },
   {
    "duration": 303,
    "start_time": "2023-01-28T16:47:57.347Z"
   },
   {
    "duration": 285,
    "start_time": "2023-01-28T16:47:57.651Z"
   },
   {
    "duration": 4,
    "start_time": "2023-01-28T16:47:57.938Z"
   },
   {
    "duration": 402,
    "start_time": "2023-01-28T16:47:57.946Z"
   },
   {
    "duration": 4,
    "start_time": "2023-01-28T16:47:58.350Z"
   },
   {
    "duration": 3,
    "start_time": "2023-01-28T16:47:58.367Z"
   },
   {
    "duration": 8,
    "start_time": "2023-01-28T16:47:58.372Z"
   },
   {
    "duration": 164,
    "start_time": "2023-01-28T16:47:58.381Z"
   },
   {
    "duration": 160,
    "start_time": "2023-01-28T16:47:58.546Z"
   },
   {
    "duration": 125,
    "start_time": "2023-01-28T16:47:58.708Z"
   },
   {
    "duration": 5,
    "start_time": "2023-01-28T16:47:58.834Z"
   },
   {
    "duration": 14,
    "start_time": "2023-01-28T16:47:58.840Z"
   },
   {
    "duration": 22,
    "start_time": "2023-01-28T16:47:58.856Z"
   },
   {
    "duration": 4,
    "start_time": "2023-01-28T16:47:58.879Z"
   },
   {
    "duration": 4,
    "start_time": "2023-01-28T16:47:58.885Z"
   },
   {
    "duration": 7,
    "start_time": "2023-01-28T16:47:58.891Z"
   },
   {
    "duration": 7,
    "start_time": "2023-01-28T16:47:58.899Z"
   },
   {
    "duration": 34073,
    "start_time": "2023-01-28T16:47:58.908Z"
   },
   {
    "duration": 240,
    "start_time": "2023-01-28T16:48:32.983Z"
   },
   {
    "duration": 6,
    "start_time": "2023-01-28T16:48:33.225Z"
   },
   {
    "duration": 437,
    "start_time": "2023-01-28T16:48:33.232Z"
   },
   {
    "duration": 5,
    "start_time": "2023-01-28T16:48:33.671Z"
   },
   {
    "duration": 7,
    "start_time": "2023-01-28T16:48:33.678Z"
   },
   {
    "duration": 9,
    "start_time": "2023-01-28T16:48:33.686Z"
   },
   {
    "duration": 9,
    "start_time": "2023-01-28T16:48:33.697Z"
   },
   {
    "duration": 59091,
    "start_time": "2023-01-28T16:48:33.708Z"
   },
   {
    "duration": 3,
    "start_time": "2023-01-28T16:49:32.801Z"
   },
   {
    "duration": 1862,
    "start_time": "2023-01-28T16:53:10.065Z"
   },
   {
    "duration": 118,
    "start_time": "2023-01-28T16:53:11.929Z"
   },
   {
    "duration": 36,
    "start_time": "2023-01-28T16:53:12.049Z"
   },
   {
    "duration": 3,
    "start_time": "2023-01-28T16:53:12.087Z"
   },
   {
    "duration": 9,
    "start_time": "2023-01-28T16:53:12.092Z"
   },
   {
    "duration": 8,
    "start_time": "2023-01-28T16:53:12.102Z"
   },
   {
    "duration": 3,
    "start_time": "2023-01-28T16:53:12.111Z"
   },
   {
    "duration": 5,
    "start_time": "2023-01-28T16:53:12.115Z"
   },
   {
    "duration": 326,
    "start_time": "2023-01-28T16:53:12.121Z"
   },
   {
    "duration": 289,
    "start_time": "2023-01-28T16:53:12.449Z"
   },
   {
    "duration": 303,
    "start_time": "2023-01-28T16:53:12.739Z"
   },
   {
    "duration": 289,
    "start_time": "2023-01-28T16:53:13.044Z"
   },
   {
    "duration": 425,
    "start_time": "2023-01-28T16:53:13.334Z"
   },
   {
    "duration": 7,
    "start_time": "2023-01-28T16:53:13.771Z"
   },
   {
    "duration": 8,
    "start_time": "2023-01-28T16:53:13.781Z"
   },
   {
    "duration": 6,
    "start_time": "2023-01-28T16:53:13.790Z"
   },
   {
    "duration": 187,
    "start_time": "2023-01-28T16:53:13.797Z"
   },
   {
    "duration": 170,
    "start_time": "2023-01-28T16:53:13.985Z"
   },
   {
    "duration": 144,
    "start_time": "2023-01-28T16:53:14.156Z"
   },
   {
    "duration": 5,
    "start_time": "2023-01-28T16:53:14.302Z"
   },
   {
    "duration": 15,
    "start_time": "2023-01-28T16:53:14.309Z"
   },
   {
    "duration": 12,
    "start_time": "2023-01-28T16:53:14.325Z"
   },
   {
    "duration": 4,
    "start_time": "2023-01-28T16:53:14.338Z"
   },
   {
    "duration": 37,
    "start_time": "2023-01-28T16:53:14.343Z"
   },
   {
    "duration": 5,
    "start_time": "2023-01-28T16:53:14.382Z"
   },
   {
    "duration": 15,
    "start_time": "2023-01-28T16:53:14.388Z"
   },
   {
    "duration": 43487,
    "start_time": "2023-01-28T16:53:14.405Z"
   },
   {
    "duration": 269,
    "start_time": "2023-01-28T16:53:57.894Z"
   },
   {
    "duration": 15,
    "start_time": "2023-01-28T16:53:58.165Z"
   },
   {
    "duration": 396,
    "start_time": "2023-01-28T16:53:58.183Z"
   },
   {
    "duration": 4,
    "start_time": "2023-01-28T16:53:58.582Z"
   },
   {
    "duration": 14,
    "start_time": "2023-01-28T16:53:58.588Z"
   },
   {
    "duration": 23,
    "start_time": "2023-01-28T16:53:58.603Z"
   },
   {
    "duration": 12,
    "start_time": "2023-01-28T16:53:58.627Z"
   },
   {
    "duration": 52554,
    "start_time": "2023-01-28T16:53:58.640Z"
   },
   {
    "duration": 3,
    "start_time": "2023-01-28T16:54:51.196Z"
   },
   {
    "duration": 1795,
    "start_time": "2023-01-28T16:55:00.252Z"
   },
   {
    "duration": 171,
    "start_time": "2023-01-28T16:55:02.050Z"
   },
   {
    "duration": 23,
    "start_time": "2023-01-28T16:55:02.223Z"
   },
   {
    "duration": 28,
    "start_time": "2023-01-28T16:55:02.247Z"
   },
   {
    "duration": 39,
    "start_time": "2023-01-28T16:55:02.278Z"
   },
   {
    "duration": 56,
    "start_time": "2023-01-28T16:55:02.319Z"
   },
   {
    "duration": 11,
    "start_time": "2023-01-28T16:55:02.378Z"
   },
   {
    "duration": 11,
    "start_time": "2023-01-28T16:55:02.391Z"
   },
   {
    "duration": 357,
    "start_time": "2023-01-28T16:55:02.404Z"
   },
   {
    "duration": 316,
    "start_time": "2023-01-28T16:55:02.767Z"
   },
   {
    "duration": 331,
    "start_time": "2023-01-28T16:55:03.085Z"
   },
   {
    "duration": 306,
    "start_time": "2023-01-28T16:55:03.419Z"
   },
   {
    "duration": 422,
    "start_time": "2023-01-28T16:55:03.727Z"
   },
   {
    "duration": 4,
    "start_time": "2023-01-28T16:55:04.152Z"
   },
   {
    "duration": 28,
    "start_time": "2023-01-28T16:55:04.158Z"
   },
   {
    "duration": 22,
    "start_time": "2023-01-28T16:55:04.187Z"
   },
   {
    "duration": 201,
    "start_time": "2023-01-28T16:55:04.211Z"
   },
   {
    "duration": 6,
    "start_time": "2023-01-28T16:55:04.414Z"
   },
   {
    "duration": 152,
    "start_time": "2023-01-28T16:55:04.422Z"
   },
   {
    "duration": 154,
    "start_time": "2023-01-28T16:55:04.576Z"
   },
   {
    "duration": 6,
    "start_time": "2023-01-28T16:55:04.732Z"
   },
   {
    "duration": 28,
    "start_time": "2023-01-28T16:55:04.739Z"
   },
   {
    "duration": 165,
    "start_time": "2023-01-28T16:55:04.774Z"
   },
   {
    "duration": 0,
    "start_time": "2023-01-28T16:55:04.941Z"
   },
   {
    "duration": 0,
    "start_time": "2023-01-28T16:55:04.942Z"
   },
   {
    "duration": 0,
    "start_time": "2023-01-28T16:55:04.943Z"
   },
   {
    "duration": 0,
    "start_time": "2023-01-28T16:55:04.944Z"
   },
   {
    "duration": 0,
    "start_time": "2023-01-28T16:55:04.946Z"
   },
   {
    "duration": 0,
    "start_time": "2023-01-28T16:55:04.947Z"
   },
   {
    "duration": 0,
    "start_time": "2023-01-28T16:55:04.948Z"
   },
   {
    "duration": 0,
    "start_time": "2023-01-28T16:55:04.979Z"
   },
   {
    "duration": 0,
    "start_time": "2023-01-28T16:55:04.980Z"
   },
   {
    "duration": 0,
    "start_time": "2023-01-28T16:55:04.982Z"
   },
   {
    "duration": 0,
    "start_time": "2023-01-28T16:55:04.983Z"
   },
   {
    "duration": 0,
    "start_time": "2023-01-28T16:55:04.984Z"
   },
   {
    "duration": 0,
    "start_time": "2023-01-28T16:55:04.986Z"
   },
   {
    "duration": 0,
    "start_time": "2023-01-28T16:55:04.987Z"
   },
   {
    "duration": 0,
    "start_time": "2023-01-28T16:55:04.989Z"
   },
   {
    "duration": 0,
    "start_time": "2023-01-28T16:55:04.990Z"
   },
   {
    "duration": 0,
    "start_time": "2023-01-28T16:55:04.991Z"
   },
   {
    "duration": 4,
    "start_time": "2023-01-28T16:55:37.100Z"
   },
   {
    "duration": 4,
    "start_time": "2023-01-28T16:55:39.412Z"
   },
   {
    "duration": 4,
    "start_time": "2023-01-28T16:55:40.340Z"
   },
   {
    "duration": 3,
    "start_time": "2023-01-28T16:55:42.804Z"
   },
   {
    "duration": 44541,
    "start_time": "2023-01-28T16:55:44.527Z"
   },
   {
    "duration": 215,
    "start_time": "2023-01-28T16:56:29.070Z"
   },
   {
    "duration": 1836,
    "start_time": "2023-01-28T16:58:08.812Z"
   },
   {
    "duration": 116,
    "start_time": "2023-01-28T16:58:10.650Z"
   },
   {
    "duration": 23,
    "start_time": "2023-01-28T16:58:10.767Z"
   },
   {
    "duration": 3,
    "start_time": "2023-01-28T16:58:10.791Z"
   },
   {
    "duration": 7,
    "start_time": "2023-01-28T16:58:10.796Z"
   },
   {
    "duration": 8,
    "start_time": "2023-01-28T16:58:10.805Z"
   },
   {
    "duration": 3,
    "start_time": "2023-01-28T16:58:10.815Z"
   },
   {
    "duration": 5,
    "start_time": "2023-01-28T16:58:10.819Z"
   },
   {
    "duration": 321,
    "start_time": "2023-01-28T16:58:10.826Z"
   },
   {
    "duration": 288,
    "start_time": "2023-01-28T16:58:11.149Z"
   },
   {
    "duration": 321,
    "start_time": "2023-01-28T16:58:11.438Z"
   },
   {
    "duration": 334,
    "start_time": "2023-01-28T16:58:11.761Z"
   },
   {
    "duration": 6,
    "start_time": "2023-01-28T16:58:12.097Z"
   },
   {
    "duration": 443,
    "start_time": "2023-01-28T16:58:12.106Z"
   },
   {
    "duration": 5,
    "start_time": "2023-01-28T16:58:12.550Z"
   },
   {
    "duration": 4,
    "start_time": "2023-01-28T16:58:12.568Z"
   },
   {
    "duration": 5,
    "start_time": "2023-01-28T16:58:12.574Z"
   },
   {
    "duration": 186,
    "start_time": "2023-01-28T16:58:12.581Z"
   },
   {
    "duration": 5,
    "start_time": "2023-01-28T16:58:12.769Z"
   },
   {
    "duration": 148,
    "start_time": "2023-01-28T16:58:12.776Z"
   },
   {
    "duration": 150,
    "start_time": "2023-01-28T16:58:12.926Z"
   },
   {
    "duration": 10,
    "start_time": "2023-01-28T16:58:13.079Z"
   },
   {
    "duration": 23,
    "start_time": "2023-01-28T16:58:13.091Z"
   },
   {
    "duration": 4,
    "start_time": "2023-01-28T16:58:13.115Z"
   },
   {
    "duration": 6,
    "start_time": "2023-01-28T16:58:13.121Z"
   },
   {
    "duration": 8,
    "start_time": "2023-01-28T16:58:13.128Z"
   },
   {
    "duration": 33,
    "start_time": "2023-01-28T16:58:13.137Z"
   },
   {
    "duration": 43111,
    "start_time": "2023-01-28T16:58:13.173Z"
   },
   {
    "duration": 273,
    "start_time": "2023-01-28T16:58:56.286Z"
   },
   {
    "duration": 11,
    "start_time": "2023-01-28T16:58:56.560Z"
   },
   {
    "duration": 448,
    "start_time": "2023-01-28T16:58:56.573Z"
   },
   {
    "duration": 5,
    "start_time": "2023-01-28T16:58:57.023Z"
   },
   {
    "duration": 9,
    "start_time": "2023-01-28T16:58:57.030Z"
   },
   {
    "duration": 7,
    "start_time": "2023-01-28T16:58:57.040Z"
   },
   {
    "duration": 19,
    "start_time": "2023-01-28T16:58:57.049Z"
   },
   {
    "duration": 50705,
    "start_time": "2023-01-28T16:58:57.070Z"
   },
   {
    "duration": 3,
    "start_time": "2023-01-28T16:59:47.776Z"
   },
   {
    "duration": 79550,
    "start_time": "2023-01-28T16:59:47.780Z"
   },
   {
    "duration": 0,
    "start_time": "2023-01-28T17:01:07.332Z"
   },
   {
    "duration": 0,
    "start_time": "2023-01-28T17:01:07.333Z"
   },
   {
    "duration": 0,
    "start_time": "2023-01-28T17:01:07.334Z"
   },
   {
    "duration": 1841,
    "start_time": "2023-01-28T17:01:10.040Z"
   },
   {
    "duration": 117,
    "start_time": "2023-01-28T17:01:11.883Z"
   },
   {
    "duration": 25,
    "start_time": "2023-01-28T17:01:12.001Z"
   },
   {
    "duration": 3,
    "start_time": "2023-01-28T17:01:12.027Z"
   },
   {
    "duration": 9,
    "start_time": "2023-01-28T17:01:12.033Z"
   },
   {
    "duration": 25,
    "start_time": "2023-01-28T17:01:12.044Z"
   },
   {
    "duration": 5,
    "start_time": "2023-01-28T17:01:12.071Z"
   },
   {
    "duration": 7,
    "start_time": "2023-01-28T17:01:12.078Z"
   },
   {
    "duration": 5,
    "start_time": "2023-01-28T17:01:12.086Z"
   },
   {
    "duration": 334,
    "start_time": "2023-01-28T17:01:12.093Z"
   },
   {
    "duration": 285,
    "start_time": "2023-01-28T17:01:12.429Z"
   },
   {
    "duration": 303,
    "start_time": "2023-01-28T17:01:12.715Z"
   },
   {
    "duration": 304,
    "start_time": "2023-01-28T17:01:13.020Z"
   },
   {
    "duration": 6,
    "start_time": "2023-01-28T17:01:13.327Z"
   },
   {
    "duration": 440,
    "start_time": "2023-01-28T17:01:13.335Z"
   },
   {
    "duration": 4,
    "start_time": "2023-01-28T17:01:13.777Z"
   },
   {
    "duration": 40,
    "start_time": "2023-01-28T17:01:13.783Z"
   },
   {
    "duration": 16,
    "start_time": "2023-01-28T17:01:13.824Z"
   },
   {
    "duration": 193,
    "start_time": "2023-01-28T17:01:13.841Z"
   },
   {
    "duration": 5,
    "start_time": "2023-01-28T17:01:14.036Z"
   },
   {
    "duration": 140,
    "start_time": "2023-01-28T17:01:14.043Z"
   },
   {
    "duration": 137,
    "start_time": "2023-01-28T17:01:14.184Z"
   },
   {
    "duration": 6,
    "start_time": "2023-01-28T17:01:14.323Z"
   },
   {
    "duration": 32,
    "start_time": "2023-01-28T17:01:14.330Z"
   },
   {
    "duration": 21,
    "start_time": "2023-01-28T17:01:14.364Z"
   },
   {
    "duration": 17,
    "start_time": "2023-01-28T17:01:14.387Z"
   },
   {
    "duration": 21,
    "start_time": "2023-01-28T17:01:14.406Z"
   },
   {
    "duration": 45,
    "start_time": "2023-01-28T17:01:14.429Z"
   },
   {
    "duration": 36701,
    "start_time": "2023-01-28T17:01:14.476Z"
   },
   {
    "duration": 262,
    "start_time": "2023-01-28T17:01:51.179Z"
   },
   {
    "duration": 6,
    "start_time": "2023-01-28T17:01:51.443Z"
   },
   {
    "duration": 463,
    "start_time": "2023-01-28T17:01:51.451Z"
   },
   {
    "duration": 5,
    "start_time": "2023-01-28T17:01:51.915Z"
   },
   {
    "duration": 8,
    "start_time": "2023-01-28T17:01:51.922Z"
   },
   {
    "duration": 7,
    "start_time": "2023-01-28T17:01:51.932Z"
   },
   {
    "duration": 26,
    "start_time": "2023-01-28T17:01:51.941Z"
   },
   {
    "duration": 1707,
    "start_time": "2023-01-28T17:02:41.521Z"
   },
   {
    "duration": 111,
    "start_time": "2023-01-28T17:02:43.230Z"
   },
   {
    "duration": 30,
    "start_time": "2023-01-28T17:02:43.342Z"
   },
   {
    "duration": 7,
    "start_time": "2023-01-28T17:02:43.373Z"
   },
   {
    "duration": 9,
    "start_time": "2023-01-28T17:02:43.382Z"
   },
   {
    "duration": 12,
    "start_time": "2023-01-28T17:02:43.393Z"
   },
   {
    "duration": 5,
    "start_time": "2023-01-28T17:02:43.407Z"
   },
   {
    "duration": 10,
    "start_time": "2023-01-28T17:02:43.414Z"
   },
   {
    "duration": 5,
    "start_time": "2023-01-28T17:02:43.426Z"
   },
   {
    "duration": 344,
    "start_time": "2023-01-28T17:02:43.433Z"
   },
   {
    "duration": 343,
    "start_time": "2023-01-28T17:02:43.779Z"
   },
   {
    "duration": 326,
    "start_time": "2023-01-28T17:02:44.124Z"
   },
   {
    "duration": 281,
    "start_time": "2023-01-28T17:02:44.452Z"
   },
   {
    "duration": 6,
    "start_time": "2023-01-28T17:02:44.737Z"
   },
   {
    "duration": 466,
    "start_time": "2023-01-28T17:02:44.745Z"
   },
   {
    "duration": 4,
    "start_time": "2023-01-28T17:02:45.213Z"
   },
   {
    "duration": 6,
    "start_time": "2023-01-28T17:02:45.219Z"
   },
   {
    "duration": 9,
    "start_time": "2023-01-28T17:02:45.227Z"
   },
   {
    "duration": 174,
    "start_time": "2023-01-28T17:02:45.237Z"
   },
   {
    "duration": 4,
    "start_time": "2023-01-28T17:02:45.413Z"
   },
   {
    "duration": 128,
    "start_time": "2023-01-28T17:02:45.419Z"
   },
   {
    "duration": 131,
    "start_time": "2023-01-28T17:02:45.549Z"
   },
   {
    "duration": 6,
    "start_time": "2023-01-28T17:02:45.681Z"
   },
   {
    "duration": 17,
    "start_time": "2023-01-28T17:02:45.688Z"
   },
   {
    "duration": 3,
    "start_time": "2023-01-28T17:02:45.707Z"
   },
   {
    "duration": 4,
    "start_time": "2023-01-28T17:02:45.712Z"
   },
   {
    "duration": 6,
    "start_time": "2023-01-28T17:02:45.718Z"
   },
   {
    "duration": 7,
    "start_time": "2023-01-28T17:02:45.726Z"
   },
   {
    "duration": 64337,
    "start_time": "2023-01-28T17:02:45.735Z"
   },
   {
    "duration": 231,
    "start_time": "2023-01-28T17:03:50.074Z"
   },
   {
    "duration": 6,
    "start_time": "2023-01-28T17:03:50.306Z"
   },
   {
    "duration": 368,
    "start_time": "2023-01-28T17:03:50.314Z"
   },
   {
    "duration": 4,
    "start_time": "2023-01-28T17:03:50.684Z"
   },
   {
    "duration": 7,
    "start_time": "2023-01-28T17:03:50.690Z"
   },
   {
    "duration": 8,
    "start_time": "2023-01-28T17:03:50.699Z"
   },
   {
    "duration": 17,
    "start_time": "2023-01-28T17:03:50.709Z"
   },
   {
    "duration": 39049,
    "start_time": "2023-01-28T17:03:50.727Z"
   },
   {
    "duration": 2,
    "start_time": "2023-01-28T17:04:29.778Z"
   },
   {
    "duration": 185430,
    "start_time": "2023-01-28T17:04:29.782Z"
   },
   {
    "duration": 0,
    "start_time": "2023-01-28T17:07:35.214Z"
   },
   {
    "duration": 0,
    "start_time": "2023-01-28T17:07:35.216Z"
   },
   {
    "duration": 0,
    "start_time": "2023-01-28T17:07:35.217Z"
   },
   {
    "duration": 0,
    "start_time": "2023-01-28T17:07:35.218Z"
   },
   {
    "duration": 0,
    "start_time": "2023-01-28T17:07:35.220Z"
   },
   {
    "duration": 4,
    "start_time": "2023-01-28T17:07:36.967Z"
   },
   {
    "duration": 4,
    "start_time": "2023-01-28T17:07:37.793Z"
   },
   {
    "duration": 12,
    "start_time": "2023-01-28T17:08:15.775Z"
   },
   {
    "duration": 5,
    "start_time": "2023-01-28T17:08:16.304Z"
   },
   {
    "duration": 1777,
    "start_time": "2023-01-28T17:10:42.502Z"
   },
   {
    "duration": 7,
    "start_time": "2023-01-28T17:10:44.281Z"
   },
   {
    "duration": 128,
    "start_time": "2023-01-28T17:10:44.289Z"
   },
   {
    "duration": 21,
    "start_time": "2023-01-28T17:10:44.418Z"
   },
   {
    "duration": 11,
    "start_time": "2023-01-28T17:10:44.441Z"
   },
   {
    "duration": 39,
    "start_time": "2023-01-28T17:10:44.454Z"
   },
   {
    "duration": 17,
    "start_time": "2023-01-28T17:10:44.494Z"
   },
   {
    "duration": 19,
    "start_time": "2023-01-28T17:10:44.513Z"
   },
   {
    "duration": 32,
    "start_time": "2023-01-28T17:10:44.534Z"
   },
   {
    "duration": 20,
    "start_time": "2023-01-28T17:10:44.567Z"
   },
   {
    "duration": 345,
    "start_time": "2023-01-28T17:10:44.588Z"
   },
   {
    "duration": 332,
    "start_time": "2023-01-28T17:10:44.935Z"
   },
   {
    "duration": 292,
    "start_time": "2023-01-28T17:10:45.269Z"
   },
   {
    "duration": 301,
    "start_time": "2023-01-28T17:10:45.568Z"
   },
   {
    "duration": 5,
    "start_time": "2023-01-28T17:10:45.870Z"
   },
   {
    "duration": 9,
    "start_time": "2023-01-28T17:10:45.876Z"
   },
   {
    "duration": 393,
    "start_time": "2023-01-28T17:10:45.886Z"
   },
   {
    "duration": 5,
    "start_time": "2023-01-28T17:10:46.281Z"
   },
   {
    "duration": 5,
    "start_time": "2023-01-28T17:10:46.288Z"
   },
   {
    "duration": 31,
    "start_time": "2023-01-28T17:10:46.295Z"
   },
   {
    "duration": 173,
    "start_time": "2023-01-28T17:10:46.328Z"
   },
   {
    "duration": 161,
    "start_time": "2023-01-28T17:10:46.503Z"
   },
   {
    "duration": 152,
    "start_time": "2023-01-28T17:10:46.666Z"
   },
   {
    "duration": 6,
    "start_time": "2023-01-28T17:10:46.820Z"
   },
   {
    "duration": 158,
    "start_time": "2023-01-28T17:10:46.828Z"
   },
   {
    "duration": 0,
    "start_time": "2023-01-28T17:10:46.988Z"
   },
   {
    "duration": 0,
    "start_time": "2023-01-28T17:10:46.989Z"
   },
   {
    "duration": 0,
    "start_time": "2023-01-28T17:10:46.990Z"
   },
   {
    "duration": 0,
    "start_time": "2023-01-28T17:10:46.991Z"
   },
   {
    "duration": 1,
    "start_time": "2023-01-28T17:10:46.992Z"
   },
   {
    "duration": 0,
    "start_time": "2023-01-28T17:10:46.994Z"
   },
   {
    "duration": 0,
    "start_time": "2023-01-28T17:10:46.995Z"
   },
   {
    "duration": 0,
    "start_time": "2023-01-28T17:10:46.997Z"
   },
   {
    "duration": 0,
    "start_time": "2023-01-28T17:10:46.998Z"
   },
   {
    "duration": 0,
    "start_time": "2023-01-28T17:10:47.000Z"
   },
   {
    "duration": 0,
    "start_time": "2023-01-28T17:10:47.001Z"
   },
   {
    "duration": 0,
    "start_time": "2023-01-28T17:10:47.002Z"
   },
   {
    "duration": 0,
    "start_time": "2023-01-28T17:10:47.004Z"
   },
   {
    "duration": 0,
    "start_time": "2023-01-28T17:10:47.006Z"
   },
   {
    "duration": 0,
    "start_time": "2023-01-28T17:10:47.007Z"
   },
   {
    "duration": 0,
    "start_time": "2023-01-28T17:10:47.009Z"
   },
   {
    "duration": 0,
    "start_time": "2023-01-28T17:10:47.010Z"
   },
   {
    "duration": 0,
    "start_time": "2023-01-28T17:10:47.012Z"
   },
   {
    "duration": 11,
    "start_time": "2023-01-28T17:11:03.404Z"
   },
   {
    "duration": 1808,
    "start_time": "2023-01-28T17:11:08.762Z"
   },
   {
    "duration": 7,
    "start_time": "2023-01-28T17:11:10.572Z"
   },
   {
    "duration": 115,
    "start_time": "2023-01-28T17:11:10.580Z"
   },
   {
    "duration": 23,
    "start_time": "2023-01-28T17:11:10.697Z"
   },
   {
    "duration": 3,
    "start_time": "2023-01-28T17:11:10.722Z"
   },
   {
    "duration": 10,
    "start_time": "2023-01-28T17:11:10.726Z"
   },
   {
    "duration": 33,
    "start_time": "2023-01-28T17:11:10.737Z"
   },
   {
    "duration": 2,
    "start_time": "2023-01-28T17:11:10.772Z"
   },
   {
    "duration": 7,
    "start_time": "2023-01-28T17:11:10.776Z"
   },
   {
    "duration": 5,
    "start_time": "2023-01-28T17:11:10.784Z"
   },
   {
    "duration": 335,
    "start_time": "2023-01-28T17:11:10.790Z"
   },
   {
    "duration": 299,
    "start_time": "2023-01-28T17:11:11.127Z"
   },
   {
    "duration": 319,
    "start_time": "2023-01-28T17:11:11.427Z"
   },
   {
    "duration": 326,
    "start_time": "2023-01-28T17:11:11.749Z"
   },
   {
    "duration": 5,
    "start_time": "2023-01-28T17:11:12.077Z"
   },
   {
    "duration": 6,
    "start_time": "2023-01-28T17:11:12.084Z"
   },
   {
    "duration": 429,
    "start_time": "2023-01-28T17:11:12.092Z"
   },
   {
    "duration": 5,
    "start_time": "2023-01-28T17:11:12.522Z"
   },
   {
    "duration": 8,
    "start_time": "2023-01-28T17:11:12.529Z"
   },
   {
    "duration": 6,
    "start_time": "2023-01-28T17:11:12.538Z"
   },
   {
    "duration": 187,
    "start_time": "2023-01-28T17:11:12.546Z"
   },
   {
    "duration": 184,
    "start_time": "2023-01-28T17:11:12.735Z"
   },
   {
    "duration": 138,
    "start_time": "2023-01-28T17:11:12.921Z"
   },
   {
    "duration": 10,
    "start_time": "2023-01-28T17:11:13.061Z"
   },
   {
    "duration": 15,
    "start_time": "2023-01-28T17:11:13.073Z"
   },
   {
    "duration": 13,
    "start_time": "2023-01-28T17:11:13.090Z"
   },
   {
    "duration": 149,
    "start_time": "2023-01-28T17:11:13.104Z"
   },
   {
    "duration": 0,
    "start_time": "2023-01-28T17:11:13.255Z"
   },
   {
    "duration": 0,
    "start_time": "2023-01-28T17:11:13.256Z"
   },
   {
    "duration": 0,
    "start_time": "2023-01-28T17:11:13.257Z"
   },
   {
    "duration": 0,
    "start_time": "2023-01-28T17:11:13.258Z"
   },
   {
    "duration": 0,
    "start_time": "2023-01-28T17:11:13.267Z"
   },
   {
    "duration": 0,
    "start_time": "2023-01-28T17:11:13.268Z"
   },
   {
    "duration": 0,
    "start_time": "2023-01-28T17:11:13.269Z"
   },
   {
    "duration": 0,
    "start_time": "2023-01-28T17:11:13.271Z"
   },
   {
    "duration": 0,
    "start_time": "2023-01-28T17:11:13.272Z"
   },
   {
    "duration": 0,
    "start_time": "2023-01-28T17:11:13.274Z"
   },
   {
    "duration": 0,
    "start_time": "2023-01-28T17:11:13.276Z"
   },
   {
    "duration": 0,
    "start_time": "2023-01-28T17:11:13.278Z"
   },
   {
    "duration": 0,
    "start_time": "2023-01-28T17:11:13.279Z"
   },
   {
    "duration": 0,
    "start_time": "2023-01-28T17:11:13.281Z"
   },
   {
    "duration": 0,
    "start_time": "2023-01-28T17:11:13.284Z"
   },
   {
    "duration": 0,
    "start_time": "2023-01-28T17:11:13.285Z"
   },
   {
    "duration": 0,
    "start_time": "2023-01-28T17:11:13.288Z"
   },
   {
    "duration": 21,
    "start_time": "2023-01-28T17:12:51.729Z"
   },
   {
    "duration": 6,
    "start_time": "2023-01-28T17:12:55.278Z"
   },
   {
    "duration": 6,
    "start_time": "2023-01-28T17:12:57.720Z"
   },
   {
    "duration": 4,
    "start_time": "2023-01-28T17:12:59.485Z"
   },
   {
    "duration": 3,
    "start_time": "2023-01-28T17:13:01.228Z"
   },
   {
    "duration": 33060,
    "start_time": "2023-01-28T17:13:03.612Z"
   },
   {
    "duration": 1696,
    "start_time": "2023-01-28T17:14:46.684Z"
   },
   {
    "duration": 110,
    "start_time": "2023-01-28T17:14:48.382Z"
   },
   {
    "duration": 22,
    "start_time": "2023-01-28T17:14:48.493Z"
   },
   {
    "duration": 3,
    "start_time": "2023-01-28T17:14:48.516Z"
   },
   {
    "duration": 7,
    "start_time": "2023-01-28T17:14:48.521Z"
   },
   {
    "duration": 6,
    "start_time": "2023-01-28T17:14:48.530Z"
   },
   {
    "duration": 2,
    "start_time": "2023-01-28T17:14:48.537Z"
   },
   {
    "duration": 28,
    "start_time": "2023-01-28T17:14:48.541Z"
   },
   {
    "duration": 4,
    "start_time": "2023-01-28T17:14:48.570Z"
   },
   {
    "duration": 282,
    "start_time": "2023-01-28T17:14:48.575Z"
   },
   {
    "duration": 264,
    "start_time": "2023-01-28T17:14:48.866Z"
   },
   {
    "duration": 277,
    "start_time": "2023-01-28T17:14:49.131Z"
   },
   {
    "duration": 263,
    "start_time": "2023-01-28T17:14:49.409Z"
   },
   {
    "duration": 4,
    "start_time": "2023-01-28T17:14:49.676Z"
   },
   {
    "duration": 10,
    "start_time": "2023-01-28T17:14:49.681Z"
   },
   {
    "duration": 388,
    "start_time": "2023-01-28T17:14:49.692Z"
   },
   {
    "duration": 4,
    "start_time": "2023-01-28T17:14:50.082Z"
   },
   {
    "duration": 16,
    "start_time": "2023-01-28T17:14:50.087Z"
   },
   {
    "duration": 12,
    "start_time": "2023-01-28T17:14:50.105Z"
   },
   {
    "duration": 164,
    "start_time": "2023-01-28T17:14:50.119Z"
   },
   {
    "duration": 164,
    "start_time": "2023-01-28T17:14:50.285Z"
   },
   {
    "duration": 133,
    "start_time": "2023-01-28T17:14:50.450Z"
   },
   {
    "duration": 6,
    "start_time": "2023-01-28T17:14:50.585Z"
   },
   {
    "duration": 30,
    "start_time": "2023-01-28T17:14:50.592Z"
   },
   {
    "duration": 28,
    "start_time": "2023-01-28T17:14:50.624Z"
   },
   {
    "duration": 127,
    "start_time": "2023-01-28T17:14:50.654Z"
   },
   {
    "duration": 0,
    "start_time": "2023-01-28T17:14:50.783Z"
   },
   {
    "duration": 0,
    "start_time": "2023-01-28T17:14:50.784Z"
   },
   {
    "duration": 0,
    "start_time": "2023-01-28T17:14:50.785Z"
   },
   {
    "duration": 0,
    "start_time": "2023-01-28T17:14:50.785Z"
   },
   {
    "duration": 0,
    "start_time": "2023-01-28T17:14:50.786Z"
   },
   {
    "duration": 0,
    "start_time": "2023-01-28T17:14:50.787Z"
   },
   {
    "duration": 0,
    "start_time": "2023-01-28T17:14:50.788Z"
   },
   {
    "duration": 0,
    "start_time": "2023-01-28T17:14:50.789Z"
   },
   {
    "duration": 0,
    "start_time": "2023-01-28T17:14:50.790Z"
   },
   {
    "duration": 0,
    "start_time": "2023-01-28T17:14:50.791Z"
   },
   {
    "duration": 0,
    "start_time": "2023-01-28T17:14:50.792Z"
   },
   {
    "duration": 0,
    "start_time": "2023-01-28T17:14:50.793Z"
   },
   {
    "duration": 0,
    "start_time": "2023-01-28T17:14:50.794Z"
   },
   {
    "duration": 0,
    "start_time": "2023-01-28T17:14:50.795Z"
   },
   {
    "duration": 0,
    "start_time": "2023-01-28T17:14:50.795Z"
   },
   {
    "duration": 0,
    "start_time": "2023-01-28T17:14:50.796Z"
   },
   {
    "duration": 0,
    "start_time": "2023-01-28T17:14:50.797Z"
   },
   {
    "duration": 5,
    "start_time": "2023-01-28T17:15:38.897Z"
   },
   {
    "duration": 4,
    "start_time": "2023-01-28T17:15:40.085Z"
   },
   {
    "duration": 5,
    "start_time": "2023-01-28T17:15:41.103Z"
   },
   {
    "duration": 3,
    "start_time": "2023-01-28T17:15:42.601Z"
   },
   {
    "duration": 15,
    "start_time": "2023-01-28T17:15:44.419Z"
   },
   {
    "duration": 4,
    "start_time": "2023-01-28T17:15:58.303Z"
   },
   {
    "duration": 31583,
    "start_time": "2023-01-28T17:16:01.703Z"
   },
   {
    "duration": 265,
    "start_time": "2023-01-28T17:16:33.288Z"
   },
   {
    "duration": 1663,
    "start_time": "2023-01-28T17:17:06.396Z"
   },
   {
    "duration": 119,
    "start_time": "2023-01-28T17:17:08.061Z"
   },
   {
    "duration": 23,
    "start_time": "2023-01-28T17:17:08.182Z"
   },
   {
    "duration": 2,
    "start_time": "2023-01-28T17:17:08.207Z"
   },
   {
    "duration": 12,
    "start_time": "2023-01-28T17:17:08.211Z"
   },
   {
    "duration": 8,
    "start_time": "2023-01-28T17:17:08.224Z"
   },
   {
    "duration": 8,
    "start_time": "2023-01-28T17:17:08.234Z"
   },
   {
    "duration": 28,
    "start_time": "2023-01-28T17:17:08.244Z"
   },
   {
    "duration": 5,
    "start_time": "2023-01-28T17:17:08.274Z"
   },
   {
    "duration": 298,
    "start_time": "2023-01-28T17:17:08.281Z"
   },
   {
    "duration": 265,
    "start_time": "2023-01-28T17:17:08.581Z"
   },
   {
    "duration": 292,
    "start_time": "2023-01-28T17:17:08.848Z"
   },
   {
    "duration": 270,
    "start_time": "2023-01-28T17:17:09.142Z"
   },
   {
    "duration": 369,
    "start_time": "2023-01-28T17:17:09.416Z"
   },
   {
    "duration": 5,
    "start_time": "2023-01-28T17:17:09.787Z"
   },
   {
    "duration": 7,
    "start_time": "2023-01-28T17:17:09.793Z"
   },
   {
    "duration": 11,
    "start_time": "2023-01-28T17:17:09.801Z"
   },
   {
    "duration": 172,
    "start_time": "2023-01-28T17:17:09.813Z"
   },
   {
    "duration": 162,
    "start_time": "2023-01-28T17:17:09.987Z"
   },
   {
    "duration": 126,
    "start_time": "2023-01-28T17:17:10.151Z"
   },
   {
    "duration": 6,
    "start_time": "2023-01-28T17:17:10.278Z"
   },
   {
    "duration": 44,
    "start_time": "2023-01-28T17:17:10.285Z"
   },
   {
    "duration": 23,
    "start_time": "2023-01-28T17:17:10.331Z"
   },
   {
    "duration": 31,
    "start_time": "2023-01-28T17:17:10.356Z"
   },
   {
    "duration": 19,
    "start_time": "2023-01-28T17:17:10.388Z"
   },
   {
    "duration": 25,
    "start_time": "2023-01-28T17:17:10.409Z"
   },
   {
    "duration": 38,
    "start_time": "2023-01-28T17:17:10.435Z"
   },
   {
    "duration": 31614,
    "start_time": "2023-01-28T17:17:10.474Z"
   },
   {
    "duration": 299,
    "start_time": "2023-01-28T17:17:42.090Z"
   },
   {
    "duration": 7,
    "start_time": "2023-01-28T17:17:42.391Z"
   },
   {
    "duration": 431,
    "start_time": "2023-01-28T17:17:42.399Z"
   },
   {
    "duration": 4,
    "start_time": "2023-01-28T17:17:42.832Z"
   },
   {
    "duration": 8,
    "start_time": "2023-01-28T17:17:42.837Z"
   },
   {
    "duration": 22,
    "start_time": "2023-01-28T17:17:42.846Z"
   },
   {
    "duration": 3,
    "start_time": "2023-01-28T17:17:42.870Z"
   },
   {
    "duration": 37602,
    "start_time": "2023-01-28T17:17:42.874Z"
   },
   {
    "duration": 2,
    "start_time": "2023-01-28T17:18:20.478Z"
   },
   {
    "duration": 178697,
    "start_time": "2023-01-28T17:18:20.481Z"
   },
   {
    "duration": 4,
    "start_time": "2023-01-28T17:21:19.180Z"
   },
   {
    "duration": 8,
    "start_time": "2023-01-28T17:21:19.185Z"
   },
   {
    "duration": 648,
    "start_time": "2023-01-28T17:21:19.197Z"
   },
   {
    "duration": 1861,
    "start_time": "2023-01-28T17:21:34.571Z"
   },
   {
    "duration": 122,
    "start_time": "2023-01-28T17:21:36.435Z"
   },
   {
    "duration": 29,
    "start_time": "2023-01-28T17:21:36.559Z"
   },
   {
    "duration": 9,
    "start_time": "2023-01-28T17:21:36.590Z"
   },
   {
    "duration": 9,
    "start_time": "2023-01-28T17:21:36.601Z"
   },
   {
    "duration": 26,
    "start_time": "2023-01-28T17:21:36.611Z"
   },
   {
    "duration": 7,
    "start_time": "2023-01-28T17:21:36.639Z"
   },
   {
    "duration": 20,
    "start_time": "2023-01-28T17:21:36.647Z"
   },
   {
    "duration": 30,
    "start_time": "2023-01-28T17:21:36.668Z"
   },
   {
    "duration": 332,
    "start_time": "2023-01-28T17:21:36.700Z"
   },
   {
    "duration": 267,
    "start_time": "2023-01-28T17:21:37.033Z"
   },
   {
    "duration": 266,
    "start_time": "2023-01-28T17:21:37.301Z"
   },
   {
    "duration": 276,
    "start_time": "2023-01-28T17:21:37.569Z"
   },
   {
    "duration": 361,
    "start_time": "2023-01-28T17:21:37.847Z"
   },
   {
    "duration": 4,
    "start_time": "2023-01-28T17:21:38.210Z"
   },
   {
    "duration": 10,
    "start_time": "2023-01-28T17:21:38.215Z"
   },
   {
    "duration": 21,
    "start_time": "2023-01-28T17:21:38.227Z"
   },
   {
    "duration": 183,
    "start_time": "2023-01-28T17:21:38.249Z"
   },
   {
    "duration": 159,
    "start_time": "2023-01-28T17:21:38.433Z"
   },
   {
    "duration": 127,
    "start_time": "2023-01-28T17:21:38.593Z"
   },
   {
    "duration": 4,
    "start_time": "2023-01-28T17:21:38.722Z"
   },
   {
    "duration": 30,
    "start_time": "2023-01-28T17:21:38.728Z"
   },
   {
    "duration": 17,
    "start_time": "2023-01-28T17:21:38.760Z"
   },
   {
    "duration": 19,
    "start_time": "2023-01-28T17:21:38.778Z"
   },
   {
    "duration": 19,
    "start_time": "2023-01-28T17:21:38.799Z"
   },
   {
    "duration": 35,
    "start_time": "2023-01-28T17:21:38.820Z"
   },
   {
    "duration": 14,
    "start_time": "2023-01-28T17:21:38.857Z"
   },
   {
    "duration": 33201,
    "start_time": "2023-01-28T17:21:38.873Z"
   },
   {
    "duration": 240,
    "start_time": "2023-01-28T17:22:12.076Z"
   },
   {
    "duration": 6,
    "start_time": "2023-01-28T17:22:12.318Z"
   },
   {
    "duration": 463,
    "start_time": "2023-01-28T17:22:12.325Z"
   },
   {
    "duration": 4,
    "start_time": "2023-01-28T17:22:12.790Z"
   },
   {
    "duration": 8,
    "start_time": "2023-01-28T17:22:12.795Z"
   },
   {
    "duration": 7,
    "start_time": "2023-01-28T17:22:12.804Z"
   },
   {
    "duration": 8,
    "start_time": "2023-01-28T17:22:12.812Z"
   },
   {
    "duration": 32263,
    "start_time": "2023-01-28T17:22:12.821Z"
   },
   {
    "duration": 3,
    "start_time": "2023-01-28T17:22:45.085Z"
   },
   {
    "duration": 1756,
    "start_time": "2023-01-28T17:25:05.562Z"
   },
   {
    "duration": 120,
    "start_time": "2023-01-28T17:25:07.319Z"
   },
   {
    "duration": 30,
    "start_time": "2023-01-28T17:25:07.441Z"
   },
   {
    "duration": 3,
    "start_time": "2023-01-28T17:25:07.472Z"
   },
   {
    "duration": 16,
    "start_time": "2023-01-28T17:25:07.476Z"
   },
   {
    "duration": 9,
    "start_time": "2023-01-28T17:25:07.493Z"
   },
   {
    "duration": 4,
    "start_time": "2023-01-28T17:25:07.503Z"
   },
   {
    "duration": 8,
    "start_time": "2023-01-28T17:25:07.508Z"
   },
   {
    "duration": 5,
    "start_time": "2023-01-28T17:25:07.519Z"
   },
   {
    "duration": 345,
    "start_time": "2023-01-28T17:25:07.526Z"
   },
   {
    "duration": 304,
    "start_time": "2023-01-28T17:25:07.873Z"
   },
   {
    "duration": 321,
    "start_time": "2023-01-28T17:25:08.179Z"
   },
   {
    "duration": 318,
    "start_time": "2023-01-28T17:25:08.501Z"
   },
   {
    "duration": 375,
    "start_time": "2023-01-28T17:25:08.820Z"
   },
   {
    "duration": 5,
    "start_time": "2023-01-28T17:25:09.197Z"
   },
   {
    "duration": 6,
    "start_time": "2023-01-28T17:25:09.204Z"
   },
   {
    "duration": 6,
    "start_time": "2023-01-28T17:25:09.211Z"
   },
   {
    "duration": 183,
    "start_time": "2023-01-28T17:25:09.218Z"
   },
   {
    "duration": 176,
    "start_time": "2023-01-28T17:25:09.403Z"
   },
   {
    "duration": 149,
    "start_time": "2023-01-28T17:25:09.580Z"
   },
   {
    "duration": 6,
    "start_time": "2023-01-28T17:25:09.730Z"
   },
   {
    "duration": 14,
    "start_time": "2023-01-28T17:25:09.737Z"
   },
   {
    "duration": 24,
    "start_time": "2023-01-28T17:25:09.753Z"
   },
   {
    "duration": 10,
    "start_time": "2023-01-28T17:25:09.779Z"
   },
   {
    "duration": 9,
    "start_time": "2023-01-28T17:25:09.791Z"
   },
   {
    "duration": 6,
    "start_time": "2023-01-28T17:25:09.801Z"
   },
   {
    "duration": 6,
    "start_time": "2023-01-28T17:25:09.809Z"
   },
   {
    "duration": 36854,
    "start_time": "2023-01-28T17:25:09.817Z"
   },
   {
    "duration": 265,
    "start_time": "2023-01-28T17:25:46.673Z"
   },
   {
    "duration": 6,
    "start_time": "2023-01-28T17:25:46.940Z"
   },
   {
    "duration": 443,
    "start_time": "2023-01-28T17:25:46.948Z"
   },
   {
    "duration": 5,
    "start_time": "2023-01-28T17:25:47.393Z"
   },
   {
    "duration": 6,
    "start_time": "2023-01-28T17:25:47.399Z"
   },
   {
    "duration": 10,
    "start_time": "2023-01-28T17:25:47.407Z"
   },
   {
    "duration": 9,
    "start_time": "2023-01-28T17:25:47.419Z"
   },
   {
    "duration": 1898,
    "start_time": "2023-01-28T17:26:12.426Z"
   },
   {
    "duration": 116,
    "start_time": "2023-01-28T17:26:14.326Z"
   },
   {
    "duration": 32,
    "start_time": "2023-01-28T17:26:14.443Z"
   },
   {
    "duration": 3,
    "start_time": "2023-01-28T17:26:14.476Z"
   },
   {
    "duration": 11,
    "start_time": "2023-01-28T17:26:14.481Z"
   },
   {
    "duration": 10,
    "start_time": "2023-01-28T17:26:14.494Z"
   },
   {
    "duration": 5,
    "start_time": "2023-01-28T17:26:14.506Z"
   },
   {
    "duration": 7,
    "start_time": "2023-01-28T17:26:14.513Z"
   },
   {
    "duration": 6,
    "start_time": "2023-01-28T17:26:14.522Z"
   },
   {
    "duration": 344,
    "start_time": "2023-01-28T17:26:14.530Z"
   },
   {
    "duration": 408,
    "start_time": "2023-01-28T17:26:14.876Z"
   },
   {
    "duration": 334,
    "start_time": "2023-01-28T17:26:15.286Z"
   },
   {
    "duration": 307,
    "start_time": "2023-01-28T17:26:15.622Z"
   },
   {
    "duration": 385,
    "start_time": "2023-01-28T17:26:15.930Z"
   },
   {
    "duration": 4,
    "start_time": "2023-01-28T17:26:16.316Z"
   },
   {
    "duration": 11,
    "start_time": "2023-01-28T17:26:16.322Z"
   },
   {
    "duration": 6,
    "start_time": "2023-01-28T17:26:16.334Z"
   },
   {
    "duration": 183,
    "start_time": "2023-01-28T17:26:16.342Z"
   },
   {
    "duration": 176,
    "start_time": "2023-01-28T17:26:16.526Z"
   },
   {
    "duration": 170,
    "start_time": "2023-01-28T17:26:16.704Z"
   },
   {
    "duration": 5,
    "start_time": "2023-01-28T17:26:16.876Z"
   },
   {
    "duration": 15,
    "start_time": "2023-01-28T17:26:16.883Z"
   },
   {
    "duration": 13,
    "start_time": "2023-01-28T17:26:16.899Z"
   },
   {
    "duration": 4,
    "start_time": "2023-01-28T17:26:16.914Z"
   },
   {
    "duration": 7,
    "start_time": "2023-01-28T17:26:16.919Z"
   },
   {
    "duration": 7,
    "start_time": "2023-01-28T17:26:16.927Z"
   },
   {
    "duration": 8,
    "start_time": "2023-01-28T17:26:16.935Z"
   },
   {
    "duration": 44008,
    "start_time": "2023-01-28T17:26:16.967Z"
   },
   {
    "duration": 274,
    "start_time": "2023-01-28T17:27:00.978Z"
   },
   {
    "duration": 7,
    "start_time": "2023-01-28T17:27:01.254Z"
   },
   {
    "duration": 338,
    "start_time": "2023-01-28T17:27:01.268Z"
   },
   {
    "duration": 5,
    "start_time": "2023-01-28T17:27:01.608Z"
   },
   {
    "duration": 32,
    "start_time": "2023-01-28T17:27:01.614Z"
   },
   {
    "duration": 37,
    "start_time": "2023-01-28T17:27:01.648Z"
   },
   {
    "duration": 31,
    "start_time": "2023-01-28T17:27:01.687Z"
   },
   {
    "duration": 1775,
    "start_time": "2023-01-28T17:27:50.292Z"
   },
   {
    "duration": 111,
    "start_time": "2023-01-28T17:27:52.069Z"
   },
   {
    "duration": 23,
    "start_time": "2023-01-28T17:27:52.181Z"
   },
   {
    "duration": 4,
    "start_time": "2023-01-28T17:27:52.206Z"
   },
   {
    "duration": 13,
    "start_time": "2023-01-28T17:27:52.211Z"
   },
   {
    "duration": 13,
    "start_time": "2023-01-28T17:27:52.226Z"
   },
   {
    "duration": 7,
    "start_time": "2023-01-28T17:27:52.241Z"
   },
   {
    "duration": 7,
    "start_time": "2023-01-28T17:27:52.249Z"
   },
   {
    "duration": 4,
    "start_time": "2023-01-28T17:27:52.267Z"
   },
   {
    "duration": 298,
    "start_time": "2023-01-28T17:27:52.274Z"
   },
   {
    "duration": 286,
    "start_time": "2023-01-28T17:27:52.573Z"
   },
   {
    "duration": 311,
    "start_time": "2023-01-28T17:27:52.866Z"
   },
   {
    "duration": 282,
    "start_time": "2023-01-28T17:27:53.179Z"
   },
   {
    "duration": 389,
    "start_time": "2023-01-28T17:27:53.466Z"
   },
   {
    "duration": 12,
    "start_time": "2023-01-28T17:27:53.856Z"
   },
   {
    "duration": 6,
    "start_time": "2023-01-28T17:27:53.871Z"
   },
   {
    "duration": 6,
    "start_time": "2023-01-28T17:27:53.878Z"
   },
   {
    "duration": 177,
    "start_time": "2023-01-28T17:27:53.885Z"
   },
   {
    "duration": 162,
    "start_time": "2023-01-28T17:27:54.064Z"
   },
   {
    "duration": 133,
    "start_time": "2023-01-28T17:27:54.227Z"
   },
   {
    "duration": 10,
    "start_time": "2023-01-28T17:27:54.361Z"
   },
   {
    "duration": 13,
    "start_time": "2023-01-28T17:27:54.372Z"
   },
   {
    "duration": 13,
    "start_time": "2023-01-28T17:27:54.387Z"
   },
   {
    "duration": 8,
    "start_time": "2023-01-28T17:27:54.401Z"
   },
   {
    "duration": 4,
    "start_time": "2023-01-28T17:27:54.410Z"
   },
   {
    "duration": 5,
    "start_time": "2023-01-28T17:27:54.415Z"
   },
   {
    "duration": 7,
    "start_time": "2023-01-28T17:27:54.422Z"
   },
   {
    "duration": 44757,
    "start_time": "2023-01-28T17:27:54.432Z"
   },
   {
    "duration": 318,
    "start_time": "2023-01-28T17:28:39.191Z"
   },
   {
    "duration": 7,
    "start_time": "2023-01-28T17:28:39.511Z"
   },
   {
    "duration": 353,
    "start_time": "2023-01-28T17:28:39.520Z"
   },
   {
    "duration": 6,
    "start_time": "2023-01-28T17:28:39.875Z"
   },
   {
    "duration": 10,
    "start_time": "2023-01-28T17:28:39.883Z"
   },
   {
    "duration": 13,
    "start_time": "2023-01-28T17:28:39.895Z"
   },
   {
    "duration": 9,
    "start_time": "2023-01-28T17:28:39.909Z"
   },
   {
    "duration": 46455,
    "start_time": "2023-01-28T17:28:39.920Z"
   },
   {
    "duration": 3,
    "start_time": "2023-01-28T17:29:26.377Z"
   },
   {
    "duration": 38043,
    "start_time": "2023-01-28T17:29:26.381Z"
   },
   {
    "duration": 0,
    "start_time": "2023-01-28T17:30:04.426Z"
   },
   {
    "duration": 0,
    "start_time": "2023-01-28T17:30:04.428Z"
   },
   {
    "duration": 0,
    "start_time": "2023-01-28T17:30:04.429Z"
   },
   {
    "duration": 1707,
    "start_time": "2023-01-28T17:30:08.930Z"
   },
   {
    "duration": 105,
    "start_time": "2023-01-28T17:30:10.639Z"
   },
   {
    "duration": 27,
    "start_time": "2023-01-28T17:30:10.745Z"
   },
   {
    "duration": 3,
    "start_time": "2023-01-28T17:30:10.773Z"
   },
   {
    "duration": 9,
    "start_time": "2023-01-28T17:30:10.778Z"
   },
   {
    "duration": 5,
    "start_time": "2023-01-28T17:30:10.788Z"
   },
   {
    "duration": 2,
    "start_time": "2023-01-28T17:30:10.795Z"
   },
   {
    "duration": 6,
    "start_time": "2023-01-28T17:30:10.798Z"
   },
   {
    "duration": 3,
    "start_time": "2023-01-28T17:30:10.806Z"
   },
   {
    "duration": 292,
    "start_time": "2023-01-28T17:30:10.811Z"
   },
   {
    "duration": 278,
    "start_time": "2023-01-28T17:30:11.104Z"
   },
   {
    "duration": 301,
    "start_time": "2023-01-28T17:30:11.383Z"
   },
   {
    "duration": 320,
    "start_time": "2023-01-28T17:30:11.685Z"
   },
   {
    "duration": 380,
    "start_time": "2023-01-28T17:30:12.009Z"
   },
   {
    "duration": 4,
    "start_time": "2023-01-28T17:30:12.391Z"
   },
   {
    "duration": 9,
    "start_time": "2023-01-28T17:30:12.398Z"
   },
   {
    "duration": 6,
    "start_time": "2023-01-28T17:30:12.408Z"
   },
   {
    "duration": 185,
    "start_time": "2023-01-28T17:30:12.416Z"
   },
   {
    "duration": 170,
    "start_time": "2023-01-28T17:30:12.602Z"
   },
   {
    "duration": 137,
    "start_time": "2023-01-28T17:30:12.774Z"
   },
   {
    "duration": 7,
    "start_time": "2023-01-28T17:30:12.913Z"
   },
   {
    "duration": 16,
    "start_time": "2023-01-28T17:30:12.922Z"
   },
   {
    "duration": 16,
    "start_time": "2023-01-28T17:30:12.939Z"
   },
   {
    "duration": 15,
    "start_time": "2023-01-28T17:30:12.956Z"
   },
   {
    "duration": 8,
    "start_time": "2023-01-28T17:30:12.973Z"
   },
   {
    "duration": 5,
    "start_time": "2023-01-28T17:30:12.983Z"
   },
   {
    "duration": 6,
    "start_time": "2023-01-28T17:30:12.990Z"
   },
   {
    "duration": 44294,
    "start_time": "2023-01-28T17:30:12.997Z"
   },
   {
    "duration": 234,
    "start_time": "2023-01-28T17:30:57.368Z"
   },
   {
    "duration": 6,
    "start_time": "2023-01-28T17:30:57.604Z"
   },
   {
    "duration": 243,
    "start_time": "2023-01-28T17:30:57.611Z"
   },
   {
    "duration": 4,
    "start_time": "2023-01-28T17:30:57.856Z"
   },
   {
    "duration": 10,
    "start_time": "2023-01-28T17:30:57.861Z"
   },
   {
    "duration": 7,
    "start_time": "2023-01-28T17:30:57.872Z"
   },
   {
    "duration": 10,
    "start_time": "2023-01-28T17:30:57.881Z"
   },
   {
    "duration": 54535,
    "start_time": "2023-01-28T17:30:57.892Z"
   },
   {
    "duration": 0,
    "start_time": "2023-01-28T17:31:52.429Z"
   },
   {
    "duration": 0,
    "start_time": "2023-01-28T17:31:52.430Z"
   },
   {
    "duration": 0,
    "start_time": "2023-01-28T17:31:52.431Z"
   },
   {
    "duration": 0,
    "start_time": "2023-01-28T17:31:52.432Z"
   },
   {
    "duration": 0,
    "start_time": "2023-01-28T17:31:52.432Z"
   },
   {
    "duration": 1619,
    "start_time": "2023-01-28T17:32:51.312Z"
   },
   {
    "duration": 123,
    "start_time": "2023-01-28T17:32:52.933Z"
   },
   {
    "duration": 31,
    "start_time": "2023-01-28T17:32:53.058Z"
   },
   {
    "duration": 4,
    "start_time": "2023-01-28T17:32:53.091Z"
   },
   {
    "duration": 24,
    "start_time": "2023-01-28T17:32:53.097Z"
   },
   {
    "duration": 17,
    "start_time": "2023-01-28T17:32:53.123Z"
   },
   {
    "duration": 9,
    "start_time": "2023-01-28T17:32:53.142Z"
   },
   {
    "duration": 21,
    "start_time": "2023-01-28T17:32:53.152Z"
   },
   {
    "duration": 9,
    "start_time": "2023-01-28T17:32:53.174Z"
   },
   {
    "duration": 340,
    "start_time": "2023-01-28T17:32:53.184Z"
   },
   {
    "duration": 327,
    "start_time": "2023-01-28T17:32:53.526Z"
   },
   {
    "duration": 326,
    "start_time": "2023-01-28T17:32:53.855Z"
   },
   {
    "duration": 299,
    "start_time": "2023-01-28T17:32:54.183Z"
   },
   {
    "duration": 5,
    "start_time": "2023-01-28T17:32:54.485Z"
   },
   {
    "duration": 34,
    "start_time": "2023-01-28T17:32:54.491Z"
   },
   {
    "duration": 421,
    "start_time": "2023-01-28T17:32:54.527Z"
   },
   {
    "duration": 5,
    "start_time": "2023-01-28T17:32:54.950Z"
   },
   {
    "duration": 12,
    "start_time": "2023-01-28T17:32:54.968Z"
   },
   {
    "duration": 5,
    "start_time": "2023-01-28T17:32:54.981Z"
   },
   {
    "duration": 161,
    "start_time": "2023-01-28T17:32:54.988Z"
   },
   {
    "duration": 160,
    "start_time": "2023-01-28T17:32:55.151Z"
   },
   {
    "duration": 128,
    "start_time": "2023-01-28T17:32:55.312Z"
   },
   {
    "duration": 5,
    "start_time": "2023-01-28T17:32:55.442Z"
   },
   {
    "duration": 19,
    "start_time": "2023-01-28T17:32:55.448Z"
   },
   {
    "duration": 11,
    "start_time": "2023-01-28T17:32:55.468Z"
   },
   {
    "duration": 5,
    "start_time": "2023-01-28T17:32:55.480Z"
   },
   {
    "duration": 7,
    "start_time": "2023-01-28T17:32:55.486Z"
   },
   {
    "duration": 7,
    "start_time": "2023-01-28T17:32:55.495Z"
   },
   {
    "duration": 7,
    "start_time": "2023-01-28T17:32:55.503Z"
   },
   {
    "duration": 33179,
    "start_time": "2023-01-28T17:32:55.511Z"
   },
   {
    "duration": 203,
    "start_time": "2023-01-28T17:33:28.766Z"
   },
   {
    "duration": 6,
    "start_time": "2023-01-28T17:33:28.971Z"
   },
   {
    "duration": 291,
    "start_time": "2023-01-28T17:33:28.978Z"
   },
   {
    "duration": 4,
    "start_time": "2023-01-28T17:33:29.271Z"
   },
   {
    "duration": 9,
    "start_time": "2023-01-28T17:33:29.276Z"
   },
   {
    "duration": 9,
    "start_time": "2023-01-28T17:33:29.286Z"
   },
   {
    "duration": 7,
    "start_time": "2023-01-28T17:33:29.297Z"
   },
   {
    "duration": 47284,
    "start_time": "2023-01-28T17:33:29.305Z"
   },
   {
    "duration": 3,
    "start_time": "2023-01-28T17:34:16.590Z"
   },
   {
    "duration": 1758,
    "start_time": "2023-01-28T17:36:36.882Z"
   },
   {
    "duration": 113,
    "start_time": "2023-01-28T17:36:38.642Z"
   },
   {
    "duration": 23,
    "start_time": "2023-01-28T17:36:38.757Z"
   },
   {
    "duration": 3,
    "start_time": "2023-01-28T17:36:38.781Z"
   },
   {
    "duration": 8,
    "start_time": "2023-01-28T17:36:38.786Z"
   },
   {
    "duration": 7,
    "start_time": "2023-01-28T17:36:38.796Z"
   },
   {
    "duration": 2,
    "start_time": "2023-01-28T17:36:38.805Z"
   },
   {
    "duration": 6,
    "start_time": "2023-01-28T17:36:38.808Z"
   },
   {
    "duration": 4,
    "start_time": "2023-01-28T17:36:38.815Z"
   },
   {
    "duration": 301,
    "start_time": "2023-01-28T17:36:38.820Z"
   },
   {
    "duration": 262,
    "start_time": "2023-01-28T17:36:39.123Z"
   },
   {
    "duration": 268,
    "start_time": "2023-01-28T17:36:39.386Z"
   },
   {
    "duration": 279,
    "start_time": "2023-01-28T17:36:39.656Z"
   },
   {
    "duration": 364,
    "start_time": "2023-01-28T17:36:39.938Z"
   },
   {
    "duration": 4,
    "start_time": "2023-01-28T17:36:40.304Z"
   },
   {
    "duration": 6,
    "start_time": "2023-01-28T17:36:40.309Z"
   },
   {
    "duration": 6,
    "start_time": "2023-01-28T17:36:40.317Z"
   },
   {
    "duration": 168,
    "start_time": "2023-01-28T17:36:40.325Z"
   },
   {
    "duration": 5,
    "start_time": "2023-01-28T17:36:40.495Z"
   },
   {
    "duration": 127,
    "start_time": "2023-01-28T17:36:40.502Z"
   },
   {
    "duration": 130,
    "start_time": "2023-01-28T17:36:40.631Z"
   },
   {
    "duration": 7,
    "start_time": "2023-01-28T17:36:40.763Z"
   },
   {
    "duration": 13,
    "start_time": "2023-01-28T17:36:40.772Z"
   },
   {
    "duration": 12,
    "start_time": "2023-01-28T17:36:40.787Z"
   },
   {
    "duration": 4,
    "start_time": "2023-01-28T17:36:40.801Z"
   },
   {
    "duration": 5,
    "start_time": "2023-01-28T17:36:40.807Z"
   },
   {
    "duration": 6,
    "start_time": "2023-01-28T17:36:40.813Z"
   },
   {
    "duration": 6,
    "start_time": "2023-01-28T17:36:40.820Z"
   },
   {
    "duration": 36762,
    "start_time": "2023-01-28T17:36:40.828Z"
   },
   {
    "duration": 276,
    "start_time": "2023-01-28T17:37:17.591Z"
   },
   {
    "duration": 6,
    "start_time": "2023-01-28T17:37:17.868Z"
   },
   {
    "duration": 294,
    "start_time": "2023-01-28T17:37:17.876Z"
   },
   {
    "duration": 5,
    "start_time": "2023-01-28T17:37:18.171Z"
   },
   {
    "duration": 7,
    "start_time": "2023-01-28T17:37:18.178Z"
   },
   {
    "duration": 9,
    "start_time": "2023-01-28T17:37:18.186Z"
   },
   {
    "duration": 6,
    "start_time": "2023-01-28T17:37:18.197Z"
   },
   {
    "duration": 45862,
    "start_time": "2023-01-28T17:37:18.205Z"
   },
   {
    "duration": 3,
    "start_time": "2023-01-28T17:38:04.069Z"
   },
   {
    "duration": 109158,
    "start_time": "2023-01-28T17:38:04.073Z"
   },
   {
    "duration": 0,
    "start_time": "2023-01-28T17:39:53.232Z"
   },
   {
    "duration": 0,
    "start_time": "2023-01-28T17:39:53.234Z"
   },
   {
    "duration": 0,
    "start_time": "2023-01-28T17:39:53.235Z"
   },
   {
    "duration": 0,
    "start_time": "2023-01-28T17:39:53.236Z"
   },
   {
    "duration": 0,
    "start_time": "2023-01-28T17:39:53.236Z"
   },
   {
    "duration": 1808,
    "start_time": "2023-01-28T17:39:56.668Z"
   },
   {
    "duration": 124,
    "start_time": "2023-01-28T17:39:58.478Z"
   },
   {
    "duration": 22,
    "start_time": "2023-01-28T17:39:58.604Z"
   },
   {
    "duration": 2,
    "start_time": "2023-01-28T17:39:58.627Z"
   },
   {
    "duration": 9,
    "start_time": "2023-01-28T17:39:58.631Z"
   },
   {
    "duration": 7,
    "start_time": "2023-01-28T17:39:58.641Z"
   },
   {
    "duration": 18,
    "start_time": "2023-01-28T17:39:58.650Z"
   },
   {
    "duration": 6,
    "start_time": "2023-01-28T17:39:58.670Z"
   },
   {
    "duration": 9,
    "start_time": "2023-01-28T17:39:58.678Z"
   },
   {
    "duration": 300,
    "start_time": "2023-01-28T17:39:58.689Z"
   },
   {
    "duration": 298,
    "start_time": "2023-01-28T17:39:58.991Z"
   },
   {
    "duration": 297,
    "start_time": "2023-01-28T17:39:59.291Z"
   },
   {
    "duration": 309,
    "start_time": "2023-01-28T17:39:59.590Z"
   },
   {
    "duration": 420,
    "start_time": "2023-01-28T17:39:59.902Z"
   },
   {
    "duration": 5,
    "start_time": "2023-01-28T17:40:00.323Z"
   },
   {
    "duration": 26,
    "start_time": "2023-01-28T17:40:00.329Z"
   },
   {
    "duration": 24,
    "start_time": "2023-01-28T17:40:00.356Z"
   },
   {
    "duration": 217,
    "start_time": "2023-01-28T17:40:00.382Z"
   },
   {
    "duration": 6,
    "start_time": "2023-01-28T17:40:00.601Z"
   },
   {
    "duration": 153,
    "start_time": "2023-01-28T17:40:00.608Z"
   },
   {
    "duration": 168,
    "start_time": "2023-01-28T17:40:00.766Z"
   },
   {
    "duration": 6,
    "start_time": "2023-01-28T17:40:00.935Z"
   },
   {
    "duration": 29,
    "start_time": "2023-01-28T17:40:00.942Z"
   },
   {
    "duration": 22,
    "start_time": "2023-01-28T17:40:00.974Z"
   },
   {
    "duration": 13,
    "start_time": "2023-01-28T17:40:00.998Z"
   },
   {
    "duration": 21,
    "start_time": "2023-01-28T17:40:01.013Z"
   },
   {
    "duration": 28,
    "start_time": "2023-01-28T17:40:01.036Z"
   },
   {
    "duration": 26,
    "start_time": "2023-01-28T17:40:01.066Z"
   },
   {
    "duration": 59693,
    "start_time": "2023-01-28T17:40:01.094Z"
   },
   {
    "duration": 265,
    "start_time": "2023-01-28T17:41:00.789Z"
   },
   {
    "duration": 13,
    "start_time": "2023-01-28T17:41:01.056Z"
   },
   {
    "duration": 311,
    "start_time": "2023-01-28T17:41:01.071Z"
   },
   {
    "duration": 7,
    "start_time": "2023-01-28T17:41:01.385Z"
   },
   {
    "duration": 9,
    "start_time": "2023-01-28T17:41:01.393Z"
   },
   {
    "duration": 21,
    "start_time": "2023-01-28T17:41:01.404Z"
   },
   {
    "duration": 31,
    "start_time": "2023-01-28T17:41:01.426Z"
   },
   {
    "duration": 62013,
    "start_time": "2023-01-28T17:41:01.458Z"
   },
   {
    "duration": 4,
    "start_time": "2023-01-28T17:42:03.475Z"
   },
   {
    "duration": 147699,
    "start_time": "2023-01-28T17:42:03.483Z"
   },
   {
    "duration": 4,
    "start_time": "2023-01-28T17:44:31.184Z"
   },
   {
    "duration": 6,
    "start_time": "2023-01-28T17:44:31.191Z"
   },
   {
    "duration": 491,
    "start_time": "2023-01-28T17:44:31.199Z"
   },
   {
    "duration": 1816,
    "start_time": "2023-01-28T17:45:03.275Z"
   },
   {
    "duration": 108,
    "start_time": "2023-01-28T17:45:05.092Z"
   },
   {
    "duration": 22,
    "start_time": "2023-01-28T17:45:05.201Z"
   },
   {
    "duration": 3,
    "start_time": "2023-01-28T17:45:05.225Z"
   },
   {
    "duration": 13,
    "start_time": "2023-01-28T17:45:05.229Z"
   },
   {
    "duration": 14,
    "start_time": "2023-01-28T17:45:05.244Z"
   },
   {
    "duration": 10,
    "start_time": "2023-01-28T17:45:05.259Z"
   },
   {
    "duration": 7,
    "start_time": "2023-01-28T17:45:05.271Z"
   },
   {
    "duration": 4,
    "start_time": "2023-01-28T17:45:05.280Z"
   },
   {
    "duration": 341,
    "start_time": "2023-01-28T17:45:05.286Z"
   },
   {
    "duration": 317,
    "start_time": "2023-01-28T17:45:05.629Z"
   },
   {
    "duration": 357,
    "start_time": "2023-01-28T17:45:05.948Z"
   },
   {
    "duration": 307,
    "start_time": "2023-01-28T17:45:06.307Z"
   },
   {
    "duration": 410,
    "start_time": "2023-01-28T17:45:06.616Z"
   },
   {
    "duration": 5,
    "start_time": "2023-01-28T17:45:07.028Z"
   },
   {
    "duration": 10,
    "start_time": "2023-01-28T17:45:07.034Z"
   },
   {
    "duration": 6,
    "start_time": "2023-01-28T17:45:07.045Z"
   },
   {
    "duration": 175,
    "start_time": "2023-01-28T17:45:07.066Z"
   },
   {
    "duration": 190,
    "start_time": "2023-01-28T17:45:07.243Z"
   },
   {
    "duration": 154,
    "start_time": "2023-01-28T17:45:07.435Z"
   },
   {
    "duration": 7,
    "start_time": "2023-01-28T17:45:07.591Z"
   },
   {
    "duration": 15,
    "start_time": "2023-01-28T17:45:07.599Z"
   },
   {
    "duration": 15,
    "start_time": "2023-01-28T17:45:07.616Z"
   },
   {
    "duration": 5,
    "start_time": "2023-01-28T17:45:07.633Z"
   },
   {
    "duration": 5,
    "start_time": "2023-01-28T17:45:07.639Z"
   },
   {
    "duration": 5,
    "start_time": "2023-01-28T17:45:07.667Z"
   },
   {
    "duration": 5,
    "start_time": "2023-01-28T17:45:07.674Z"
   },
   {
    "duration": 36704,
    "start_time": "2023-01-28T17:45:07.683Z"
   },
   {
    "duration": 273,
    "start_time": "2023-01-28T17:45:44.390Z"
   },
   {
    "duration": 7,
    "start_time": "2023-01-28T17:45:44.667Z"
   },
   {
    "duration": 360,
    "start_time": "2023-01-28T17:45:44.675Z"
   },
   {
    "duration": 9,
    "start_time": "2023-01-28T17:45:45.037Z"
   },
   {
    "duration": 13,
    "start_time": "2023-01-28T17:45:45.048Z"
   },
   {
    "duration": 12,
    "start_time": "2023-01-28T17:45:45.067Z"
   },
   {
    "duration": 12,
    "start_time": "2023-01-28T17:45:45.081Z"
   },
   {
    "duration": 47075,
    "start_time": "2023-01-28T17:45:45.094Z"
   },
   {
    "duration": 3,
    "start_time": "2023-01-28T17:46:32.171Z"
   },
   {
    "duration": 509713,
    "start_time": "2023-01-28T17:46:32.176Z"
   },
   {
    "duration": 14,
    "start_time": "2023-01-28T17:55:01.891Z"
   },
   {
    "duration": 190,
    "start_time": "2023-01-28T17:55:01.907Z"
   },
   {
    "duration": 1,
    "start_time": "2023-01-28T17:55:02.099Z"
   },
   {
    "duration": 10,
    "start_time": "2023-01-28T17:55:19.152Z"
   },
   {
    "duration": 5,
    "start_time": "2023-01-28T17:57:29.990Z"
   },
   {
    "duration": 482,
    "start_time": "2023-01-28T17:57:31.867Z"
   },
   {
    "duration": 415,
    "start_time": "2023-01-28T17:59:38.809Z"
   },
   {
    "duration": 410,
    "start_time": "2023-01-28T17:59:44.750Z"
   },
   {
    "duration": 1842,
    "start_time": "2023-01-28T18:01:05.349Z"
   },
   {
    "duration": 117,
    "start_time": "2023-01-28T18:01:07.193Z"
   },
   {
    "duration": 23,
    "start_time": "2023-01-28T18:01:07.311Z"
   },
   {
    "duration": 3,
    "start_time": "2023-01-28T18:01:07.335Z"
   },
   {
    "duration": 13,
    "start_time": "2023-01-28T18:01:07.339Z"
   },
   {
    "duration": 6,
    "start_time": "2023-01-28T18:01:07.367Z"
   },
   {
    "duration": 3,
    "start_time": "2023-01-28T18:01:07.375Z"
   },
   {
    "duration": 6,
    "start_time": "2023-01-28T18:01:07.380Z"
   },
   {
    "duration": 5,
    "start_time": "2023-01-28T18:01:07.387Z"
   },
   {
    "duration": 337,
    "start_time": "2023-01-28T18:01:07.393Z"
   },
   {
    "duration": 308,
    "start_time": "2023-01-28T18:01:07.732Z"
   },
   {
    "duration": 327,
    "start_time": "2023-01-28T18:01:08.042Z"
   },
   {
    "duration": 318,
    "start_time": "2023-01-28T18:01:08.371Z"
   },
   {
    "duration": 396,
    "start_time": "2023-01-28T18:01:08.692Z"
   },
   {
    "duration": 4,
    "start_time": "2023-01-28T18:01:09.089Z"
   },
   {
    "duration": 6,
    "start_time": "2023-01-28T18:01:09.095Z"
   },
   {
    "duration": 9,
    "start_time": "2023-01-28T18:01:09.102Z"
   },
   {
    "duration": 166,
    "start_time": "2023-01-28T18:01:09.113Z"
   },
   {
    "duration": 158,
    "start_time": "2023-01-28T18:01:09.281Z"
   },
   {
    "duration": 137,
    "start_time": "2023-01-28T18:01:09.441Z"
   },
   {
    "duration": 6,
    "start_time": "2023-01-28T18:01:09.580Z"
   },
   {
    "duration": 16,
    "start_time": "2023-01-28T18:01:09.588Z"
   },
   {
    "duration": 13,
    "start_time": "2023-01-28T18:01:09.606Z"
   },
   {
    "duration": 8,
    "start_time": "2023-01-28T18:01:09.620Z"
   },
   {
    "duration": 4,
    "start_time": "2023-01-28T18:01:09.630Z"
   },
   {
    "duration": 6,
    "start_time": "2023-01-28T18:01:09.635Z"
   },
   {
    "duration": 24,
    "start_time": "2023-01-28T18:01:09.642Z"
   },
   {
    "duration": 361208,
    "start_time": "2023-01-28T18:01:09.668Z"
   },
   {
    "duration": 35707,
    "start_time": "2023-01-28T18:07:10.878Z"
   },
   {
    "duration": 289,
    "start_time": "2023-01-28T18:07:46.587Z"
   },
   {
    "duration": 6,
    "start_time": "2023-01-28T18:07:46.879Z"
   },
   {
    "duration": 301,
    "start_time": "2023-01-28T18:07:46.887Z"
   },
   {
    "duration": 5,
    "start_time": "2023-01-28T18:07:47.190Z"
   },
   {
    "duration": 7,
    "start_time": "2023-01-28T18:07:47.197Z"
   },
   {
    "duration": 6,
    "start_time": "2023-01-28T18:07:47.206Z"
   },
   {
    "duration": 5,
    "start_time": "2023-01-28T18:07:47.214Z"
   },
   {
    "duration": 39458,
    "start_time": "2023-01-28T18:07:47.221Z"
   },
   {
    "duration": 3,
    "start_time": "2023-01-28T18:08:26.681Z"
   },
   {
    "duration": 409298,
    "start_time": "2023-01-28T18:08:26.686Z"
   },
   {
    "duration": 3,
    "start_time": "2023-01-28T18:15:15.986Z"
   },
   {
    "duration": 496,
    "start_time": "2023-01-28T18:15:15.993Z"
   }
  ],
  "kernelspec": {
   "display_name": "Python 3 (ipykernel)",
   "language": "python",
   "name": "python3"
  },
  "language_info": {
   "codemirror_mode": {
    "name": "ipython",
    "version": 3
   },
   "file_extension": ".py",
   "mimetype": "text/x-python",
   "name": "python",
   "nbconvert_exporter": "python",
   "pygments_lexer": "ipython3",
   "version": "3.10.2"
  },
  "toc": {
   "base_numbering": 1,
   "nav_menu": {},
   "number_sections": false,
   "sideBar": true,
   "skip_h1_title": false,
   "title_cell": "Table of Contents",
   "title_sidebar": "Contents",
   "toc_cell": false,
   "toc_position": {
    "height": "calc(100% - 180px)",
    "left": "10px",
    "top": "150px",
    "width": "408.889px"
   },
   "toc_section_display": true,
   "toc_window_display": true
  },
  "varInspector": {
   "cols": {
    "lenName": 16,
    "lenType": 16,
    "lenVar": 40
   },
   "kernels_config": {
    "python": {
     "delete_cmd_postfix": "",
     "delete_cmd_prefix": "del ",
     "library": "var_list.py",
     "varRefreshCmd": "print(var_dic_list())"
    },
    "r": {
     "delete_cmd_postfix": ") ",
     "delete_cmd_prefix": "rm(",
     "library": "var_list.r",
     "varRefreshCmd": "cat(var_dic_list()) "
    }
   },
   "types_to_exclude": [
    "module",
    "function",
    "builtin_function_or_method",
    "instance",
    "_Feature"
   ],
   "window_display": false
  }
 },
 "nbformat": 4,
 "nbformat_minor": 5
}
